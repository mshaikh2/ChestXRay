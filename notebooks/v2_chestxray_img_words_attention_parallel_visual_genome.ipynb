{
 "cells": [
  {
   "cell_type": "code",
   "execution_count": 95,
   "metadata": {
    "scrolled": true
   },
   "outputs": [],
   "source": [
    "import warnings\n",
    "warnings.filterwarnings('ignore')\n",
    "import spacy\n",
    "from keras.applications.vgg16 import VGG16\n",
    "from keras.applications.inception_resnet_v2 import InceptionResNetV2\n",
    "import matplotlib.pyplot as plt\n",
    "from keras.utils import plot_model,multi_gpu_model\n",
    "from IPython.display import SVG\n",
    "from keras.utils.vis_utils import model_to_dot\n",
    "from keras.models import Model\n",
    "from keras.models import load_model\n",
    "from keras.layers import Input,GlobalAveragePooling2D,Layer,InputSpec\n",
    "from keras.layers.core import Dense,Flatten,Dropout\n",
    "from keras.optimizers import Adam,SGD\n",
    "from keras.callbacks import ModelCheckpoint, EarlyStopping, TensorBoard\n",
    "from keras.utils import np_utils\n",
    "import keras.backend as K\n",
    "import keras.layers as kl\n",
    "from keras.preprocessing import sequence\n",
    "import tensorflow as tf\n",
    "from tensorflow.python.client import device_lib\n",
    "from sklearn.metrics import classification_report\n",
    "import pandas as pd\n",
    "import numpy as np\n",
    "from time import time\n",
    "import pickle\n",
    "from keras.models import model_from_json\n",
    "from keras.losses import sparse_categorical_crossentropy\n",
    "from PIL import Image\n",
    "# from AttentionModule import SelfAttention, SoftAttention\n",
    "import os\n",
    "visible_gpu_devices = '0,1,3'\n",
    "os.environ[\"CUDA_VISIBLE_DEVICES\"]=visible_gpu_devices\n",
    "# import cv2\n",
    "from tqdm.notebook import tqdm\n",
    "import AttentionMed as AM\n",
    "import ImageModel\n",
    "from importlib import reload\n",
    "reload(AM)\n",
    "reload(ImageModel)\n",
    "from time import time,localtime,strftime\n",
    "from ipywidgets import IntProgress\n",
    "# from coord import CoordinateChannel2D\n"
   ]
  },
  {
   "cell_type": "code",
   "execution_count": 2,
   "metadata": {},
   "outputs": [],
   "source": [
    "n_gpu = len(visible_gpu_devices.split(','))\n",
    "n_cpu=1\n",
    "tf_config= tf.ConfigProto(device_count = {'GPU': n_gpu , 'CPU': n_cpu})\n",
    "tf_config.gpu_options.allow_growth=True\n",
    "s=tf.Session(config=tf_config)\n",
    "K.set_session(s)\n",
    "\n",
    "\n"
   ]
  },
  {
   "cell_type": "code",
   "execution_count": null,
   "metadata": {},
   "outputs": [],
   "source": []
  },
  {
   "cell_type": "code",
   "execution_count": 3,
   "metadata": {},
   "outputs": [],
   "source": [
    "\n",
    "\n",
    "def multiheadSelfAttention(prev_layer,padding_masks,layer_number=0,heads=8):\n",
    "    assert prev_layer != None\n",
    "    sa_arr = []\n",
    "    for head in range(heads):\n",
    "        if padding_masks!=None:\n",
    "            x,q,k,v,s,b,beta,o = AM.SelfAttention(ch=int(prev_layer.shape[-1]),name='sa{0}{1}'.format(layer_number,head))([prev_layer,padding_masks])\n",
    "        else:\n",
    "            x,q,k,v,s,b,beta,o = AM.SelfAttention(ch=int(prev_layer.shape[-1]),name='sa{0}{1}'.format(layer_number,head))(prev_layer)\n",
    "#         print(q.shape)\n",
    "#         print(k.shape)\n",
    "#         print(v.shape)\n",
    "#         print(s.shape)\n",
    "#         print(b.shape)\n",
    "#         print(beta.shape)\n",
    "#         print(o.shape)\n",
    "        sa = kl.BatchNormalization()(o)\n",
    "        sa_arr.append(o)\n",
    "    return sa_arr\n",
    "\n",
    "def condResAndNormSelfAttn(sa_layer,residual_inp,out_channels,attn_type,layer_number=0,condense=False,method='add'):\n",
    "    assert attn_type!=None\n",
    "    if condense:\n",
    "        x = kl.Concatenate(name='concat_{0}_{1}'.format(attn_type,layer_number))(sa_layer)\n",
    "        x = AM.CondenseAttention1D(ch_in=int(x.shape[-1]),name='cond_{0}_{1}'.format(attn_type,layer_number),ch_out=out_channels)(x)\n",
    "    else:\n",
    "        x = sa_layer\n",
    "    x, g1, g2 = AM.ResidualCombine(method=method\n",
    "                                   ,name='res_comb_{0}_{1}'.format(attn_type,layer_number))([residual_inp, x])\n",
    "#     x = kl.Conv1D(filters=512,activation='relu',strides=1,kernel_size=1,name='ff_conv_{0}'.format(layer_number))(x)\n",
    "    x = kl.BatchNormalization()(x)\n",
    "    return x\n",
    "\n",
    "def enc_dec_attn(encoder,decoder,out_channels,layer_number=0,heads=8):\n",
    "    assert encoder != None\n",
    "    assert decoder != None\n",
    "    eca_arr = []\n",
    "    for head in range(heads):\n",
    "        q,k,v,beta,scores,o = AM.EncDecAttention(enc_ch=int(encoder.shape[-1]),dec_ch=int(decoder.shape[-1]),name='eca{0}{1}'.format(layer_number,head))([decoder,encoder])\n",
    "        eca = kl.BatchNormalization()(o)\n",
    "        eca_arr.append(eca)\n",
    "    return eca_arr\n",
    "\n",
    "def multiheadAttention(prev_layer,context_vector,layer_number=0,heads=8):\n",
    "    assert prev_layer != None\n",
    "    assert context_vector != None\n",
    "    a_arr = []\n",
    "    for head in range(heads):\n",
    "        a,a_map = AM.Attention(ch=int(prev_layer.shape[-1]),name='a{0}{1}'.format(layer_number,head))([context_vector,prev_layer])\n",
    "        a = kl.BatchNormalization()(a)\n",
    "        a_arr.append(a)\n",
    "    return a_arr\n",
    "\n",
    "def condResAndNormAttn(a_layer,context_vector,out_channels,layer_number=0,method='add'):\n",
    "    x = kl.Concatenate(name='concat_attn_{0}'.format(layer_number))(a_layer)\n",
    "    x = AM.CondenseAttention1D(ch_in=int(x.shape[-1]),name='condense_attn1D_{0}'.format(layer_number),ch_out=out_channels)(x)\n",
    "    x = kl.Lambda(lambda x:K.squeeze(x,axis=1),name=\"squeeze_attn_{0}\".format(layer_number))(x)\n",
    "    x, g1, g2 = AM.ResidualCombine(method=method\n",
    "                                   ,name='residual_combine_attn_{0}'.format(layer_number))([context_vector, x])\n",
    "    x = kl.BatchNormalization()(x)\n",
    "    return x\n",
    "\n",
    "def decoder_block(sa_input,encoder_output,padding_masks=None,layer_number=1,heads=8):\n",
    "    mhsa = multiheadSelfAttention(prev_layer=sa_input,padding_masks=None,layer_number=layer_number,heads=heads)\n",
    "    # add+norm\n",
    "    add_norm_mhsa = condResAndNormSelfAttn(attn_type='sa',condense=True,sa_layer=mhsa,residual_inp=sa_input,out_channels=int(sa_input.shape[-1]),layer_number=layer_number)\n",
    "    # enc-dec attn\n",
    "    eca = enc_dec_attn(encoder=encoder_output,decoder=add_norm_mhsa,out_channels=int(sa_input.shape[-1]),layer_number=layer_number) \n",
    "    # add+norm\n",
    "    add_norm_eca = condResAndNormSelfAttn(attn_type='enc',condense=True,sa_layer=eca,residual_inp=add_norm_mhsa,out_channels=int(sa_input.shape[-1]),layer_number=layer_number)\n",
    "    # apply same feed forward on each position\n",
    "    ff_dec = kl.TimeDistributed(kl.Dense(512,activation='relu'))(add_norm_eca)\n",
    "    # add+norm\n",
    "    add_norm_eca = condResAndNormSelfAttn(attn_type='NA',condense=False,sa_layer=ff_dec,residual_inp=add_norm_eca,out_channels=int(sa_input.shape[-1]),layer_number=layer_number)\n",
    "    return add_norm_eca\n",
    "\n",
    "def get_angles(pos, i, dimensions):\n",
    "    angle_rates = 1 / np.power(10000, (2 * (i//2)) / np.float32(dimensions))\n",
    "    return pos * angle_rates\n",
    "\n",
    "def positional_encoding(position, dimensions):\n",
    "    angle_rads = get_angles(np.arange(position)[:, np.newaxis],\n",
    "                          np.arange(dimensions)[np.newaxis, :],\n",
    "                          dimensions)\n",
    "\n",
    "    # apply sin to even indices in the array; 2i\n",
    "    angle_rads[:, 0::2] = np.sin(angle_rads[:, 0::2])\n",
    "\n",
    "    # apply cos to odd indices in the array; 2i+1\n",
    "    angle_rads[:, 1::2] = np.cos(angle_rads[:, 1::2])\n",
    "\n",
    "    pos_encoding = angle_rads[np.newaxis, ...]\n",
    "\n",
    "    return pos_encoding"
   ]
  },
  {
   "cell_type": "code",
   "execution_count": 4,
   "metadata": {},
   "outputs": [],
   "source": [
    "# pos_encoding = positional_encoding(max_wlen, 512)\n",
    "# print(pos_encoding)\n",
    "# print('-----')\n",
    "# ran = np.random.random((64,60,512))\n",
    "# print(ran[0])\n",
    "# print('-----')\n",
    "# print((ran+pos_encoding)[0])"
   ]
  },
  {
   "cell_type": "code",
   "execution_count": 5,
   "metadata": {
    "scrolled": true
   },
   "outputs": [],
   "source": [
    "# print(ran[1])\n",
    "# print('-----')\n",
    "# print((ran+pos_encoding)[1])"
   ]
  },
  {
   "cell_type": "code",
   "execution_count": 6,
   "metadata": {
    "scrolled": true
   },
   "outputs": [],
   "source": [
    "nlp = spacy.load('en_core_web_md')"
   ]
  },
  {
   "cell_type": "code",
   "execution_count": 7,
   "metadata": {},
   "outputs": [
    {
     "data": {
      "text/plain": [
       "'/media/MyDataStor1/mshaikh2/project_xray/ChestXRay/notebooks'"
      ]
     },
     "execution_count": 7,
     "metadata": {},
     "output_type": "execute_result"
    }
   ],
   "source": [
    "path=os.getcwd() #Get the path\n",
    "path"
   ]
  },
  {
   "cell_type": "code",
   "execution_count": 8,
   "metadata": {
    "scrolled": true
   },
   "outputs": [],
   "source": [
    "merged_ds = pd.read_csv('../../dataset/descriptions/region_descriptions_50000.csv')"
   ]
  },
  {
   "cell_type": "code",
   "execution_count": null,
   "metadata": {
    "scrolled": true
   },
   "outputs": [],
   "source": []
  },
  {
   "cell_type": "code",
   "execution_count": 9,
   "metadata": {},
   "outputs": [],
   "source": [
    "# sent_len_arr=[]\n",
    "# wo_len_arr = []\n",
    "# for row in tqdm(merged_ds['impression'].values):\n",
    "#     doc = nlp(row)\n",
    "#     sentences = [sent.string.strip() for sent in doc.sents]\n",
    "#     sent_len_arr.append(len(sentences))\n",
    "#     sentence = ' '.join(sentences[:7])\n",
    "#     sdoc = nlp(sentence)\n",
    "#     ls_sdoc = [str(x) for x in list(sdoc)]\n",
    "#     wo_len_arr.append(len(ls_sdoc))"
   ]
  },
  {
   "cell_type": "code",
   "execution_count": 10,
   "metadata": {},
   "outputs": [],
   "source": [
    "\n",
    "# df_sent_len = pd.DataFrame(sent_len_arr,columns=['count'])\n",
    "# df_word_len = pd.DataFrame(wo_len_arr,columns=['count'])\n",
    "# df_sent_len.shape,df_word_len.shape"
   ]
  },
  {
   "cell_type": "code",
   "execution_count": 11,
   "metadata": {},
   "outputs": [],
   "source": [
    "# df_word_len.describe()"
   ]
  },
  {
   "cell_type": "code",
   "execution_count": 12,
   "metadata": {
    "scrolled": true
   },
   "outputs": [],
   "source": [
    "# df_sent_len[df_sent_len['count']>7].shape\n",
    "# df_word_len[df_word_len['count']>20]\n"
   ]
  },
  {
   "cell_type": "code",
   "execution_count": 13,
   "metadata": {
    "scrolled": true
   },
   "outputs": [],
   "source": [
    "# ch_to_co = df_ccount\n",
    "# ch_to_co.index = ch_to_co.chars\n",
    "# ch_to_co = ch_to_co['index'].to_dict()\n",
    "# display(ch_to_co)\n",
    "# co_to_ch = df_ccount\n",
    "# co_to_ch.index = co_to_ch['index']\n",
    "# co_to_ch = co_to_ch['chars'].to_dict()\n",
    "# display(co_to_ch)"
   ]
  },
  {
   "cell_type": "code",
   "execution_count": 14,
   "metadata": {},
   "outputs": [],
   "source": [
    "# tokens = nlp('startseq ' \n",
    "#              + ' '.join(c_repo_ds.impression.values).lower().replace('/',' ')\n",
    "#              + ' endseq.' \n",
    "#              + ' startseq' \n",
    "#              + ' '.join(c_repo_ds.findings.values).lower().replace('/',' ')\n",
    "#              + ' endseq.')"
   ]
  },
  {
   "cell_type": "code",
   "execution_count": 15,
   "metadata": {},
   "outputs": [],
   "source": [
    "# vocab = [str(x) for x in tokens]\n",
    "# vocab"
   ]
  },
  {
   "cell_type": "code",
   "execution_count": 16,
   "metadata": {
    "scrolled": true
   },
   "outputs": [
    {
     "data": {
      "text/html": [
       "<div>\n",
       "<style scoped>\n",
       "    .dataframe tbody tr th:only-of-type {\n",
       "        vertical-align: middle;\n",
       "    }\n",
       "\n",
       "    .dataframe tbody tr th {\n",
       "        vertical-align: top;\n",
       "    }\n",
       "\n",
       "    .dataframe thead th {\n",
       "        text-align: right;\n",
       "    }\n",
       "</style>\n",
       "<table border=\"1\" class=\"dataframe\">\n",
       "  <thead>\n",
       "    <tr style=\"text-align: right;\">\n",
       "      <th></th>\n",
       "      <th>index</th>\n",
       "      <th>words</th>\n",
       "      <th>w_count</th>\n",
       "    </tr>\n",
       "  </thead>\n",
       "  <tbody>\n",
       "    <tr>\n",
       "      <th>0</th>\n",
       "      <td>3434</td>\n",
       "      <td>.</td>\n",
       "      <td>450076</td>\n",
       "    </tr>\n",
       "    <tr>\n",
       "      <th>1</th>\n",
       "      <td>13908</td>\n",
       "      <td>a</td>\n",
       "      <td>200676</td>\n",
       "    </tr>\n",
       "    <tr>\n",
       "      <th>2</th>\n",
       "      <td>14934</td>\n",
       "      <td>the</td>\n",
       "      <td>198458</td>\n",
       "    </tr>\n",
       "    <tr>\n",
       "      <th>3</th>\n",
       "      <td>16021</td>\n",
       "      <td>on</td>\n",
       "      <td>122073</td>\n",
       "    </tr>\n",
       "    <tr>\n",
       "      <th>4</th>\n",
       "      <td>10923</td>\n",
       "      <td>of</td>\n",
       "      <td>88941</td>\n",
       "    </tr>\n",
       "    <tr>\n",
       "      <th>...</th>\n",
       "      <td>...</td>\n",
       "      <td>...</td>\n",
       "      <td>...</td>\n",
       "    </tr>\n",
       "    <tr>\n",
       "      <th>20789</th>\n",
       "      <td>6648</td>\n",
       "      <td>casa</td>\n",
       "      <td>1</td>\n",
       "    </tr>\n",
       "    <tr>\n",
       "      <th>20790</th>\n",
       "      <td>6647</td>\n",
       "      <td>coppertone</td>\n",
       "      <td>1</td>\n",
       "    </tr>\n",
       "    <tr>\n",
       "      <th>20791</th>\n",
       "      <td>10397</td>\n",
       "      <td>substitutes</td>\n",
       "      <td>1</td>\n",
       "    </tr>\n",
       "    <tr>\n",
       "      <th>20792</th>\n",
       "      <td>20793</td>\n",
       "      <td>startseq</td>\n",
       "      <td>50000</td>\n",
       "    </tr>\n",
       "    <tr>\n",
       "      <th>20793</th>\n",
       "      <td>20794</td>\n",
       "      <td>endseq</td>\n",
       "      <td>50000</td>\n",
       "    </tr>\n",
       "  </tbody>\n",
       "</table>\n",
       "<p>20794 rows × 3 columns</p>\n",
       "</div>"
      ],
      "text/plain": [
       "       index        words  w_count\n",
       "0       3434            .   450076\n",
       "1      13908            a   200676\n",
       "2      14934          the   198458\n",
       "3      16021           on   122073\n",
       "4      10923           of    88941\n",
       "...      ...          ...      ...\n",
       "20789   6648         casa        1\n",
       "20790   6647   coppertone        1\n",
       "20791  10397  substitutes        1\n",
       "20792  20793     startseq    50000\n",
       "20793  20794       endseq    50000\n",
       "\n",
       "[20794 rows x 3 columns]"
      ]
     },
     "metadata": {},
     "output_type": "display_data"
    },
    {
     "name": "stdout",
     "output_type": "stream",
     "text": [
      "20794 60\n"
     ]
    }
   ],
   "source": [
    "# word_count = {}\n",
    "# for word in vocab:\n",
    "#     if word not in word_count.keys():\n",
    "#         word_count[word]=1\n",
    "#     else:\n",
    "#         word_count[word]+=1\n",
    "# df_wcount = pd.DataFrame()\n",
    "# df_wcount['words']=word_count.keys()\n",
    "# df_wcount['w_count']=word_count.values()\n",
    "# df_wcount = df_wcount.sort_values(by='w_count',ascending=False).reset_index()\n",
    "# df_wcount['index']+=1\n",
    "\n",
    "# df_wcount.to_csv('../dataset/vocab_count.csv',index=False)\n",
    "df_wcount = pd.read_csv('../../dataset/descriptions/visual_genome_vocab_count.csv')\n",
    "\n",
    "display(df_wcount)\n",
    "vocab_size=df_wcount.shape[0]\n",
    "max_wlen = 60\n",
    "print(vocab_size,max_wlen)"
   ]
  },
  {
   "cell_type": "code",
   "execution_count": 17,
   "metadata": {
    "scrolled": true
   },
   "outputs": [
    {
     "name": "stdout",
     "output_type": "stream",
     "text": [
      "597 ['.', '..', \"'s\", ' ', ',', '-', '\"', \"'\", '&', '/', 'w/', '[', '\\n', '@', \"n't\", ']', '?', ':', ';', 'p.', 't.v', '...', '  ', '!', '$', '_', 'w.', 'u.s', 'n.', 'a.', \"o'clock\", 'c.', '#', 'x.', '(', 'r.', ')', 'e.', 's.', 't.', 'b.', '1/2', 'l.', 'man`s', 'woman`s', 'm.', 'c-130', '=', 'black+white', '   ', '....', 'and/or', 'o.', 'red+white', 'dog`s', 'i.', 'girl`s', 'v.', 'm&m', 'g.', '......', 'f.', '+', '.....', 'sr-71', 'y.', \"'m\", 'co.', 'h.', 'cow`s', 'j.', 'd.', '`', 'boy`s', '%', 'man;s', '--', '\\n\\n', 't-', '2:35', '1:45', 'u.', 'w/o', 'red+black', 'at&t', '11:50am', '1.00', '12:00', '3:17', '7:05', \"'re\", 'brown+white', '1/3', 'back+one', 'i.d', '/or', '1:55', 'green+white', '10:50', '12:43', '                                    ', 'b+w', '4-post', 'child`s', '11:20', '3:00', 'trunk+branches', '12:40', 'www.myprofe.com', 'person`s', 'k.', 'catcher`s', '9.99', 'free!.', '    ', 'a&m', '3-way', '3:55', 'sea+sky', '11:05', '4-way', '2:20', 'tool+a', 'house/', 'him!.', '11.45', 'tell].', 'red+grey', 'only].', '60s].', '7:23', '].', '6:05', 'in]directly', 'w&s', '40/8', 'woman;s', '8:33', 'section+clear', '6-pained', '3:04', '4.18', 'stuffed+fluffy', '7:59', '107.3', 'bumped+chunked', '9:55', 'photo!.', '24-hour', 'news.com', \"saffron'd\", '12:54', '.francis', 'h.w.bush', 'j.b', '063_689', 'by-', 'sunset-8am', 'guy+presently', 'couch.l', '10:36', '12:51', '6:35', '17,000', '4:07', 'plump+green', '8am-6pm', '3:45', \"'ve\", '7:49pm', 'lights+darkness', \"saute'd\", 'in-', '5:15', \"po'di\", 'www.londonducktoursco.uk', 'white+clear', '3.02', 'low-', '4:05', 'red+blue', '12:20', '2-story', 'j.w.c', 'ricoh.com', '2:50', 'reading11:20', '11:19', '19.99', 'man+woman', '6:40', '1:30', \"graffiti'd\", '101.5', 'caps].', '12.15', '.person', '2:04', '9:17', 'soft+honestly', '2:46', '½-bare', '9:20', 'pitcher`s', 'legs+curious', '1:00', 'p.j', '5:13', 'folks!.', 'reals].', '5:09', 'californian].', 'c.ock', '2.40', '50-yard', 'large+long', 'black+copper', '5:17', '11:04', 'red+a', 'h&e', '12:32', '2012].', ' \\n', 'green+dry', '½-chewed', 'ends+beneath', 'you!.', 'al].', '8.00', 'momcat+kitten', 'green+yellow', 'h.w', 'n.r', 'track.s', '01/03/2008', 'dishes+jam', '1:54', 'maybe].', 'bl;ack', 'boy+kite', '01/05/2011', '1.5', 'beneath+behind', 'j.7124', 'round+', '9:45', 'stix!!.', '2:55', '3-wheel', '9:11', 'hay+straw', '10:52', '1/3d', '3:12', '11:29', '5:20', '12:14', '3:27', 'specks+dashes', 'front+center', 'red+yellow', 'u.k', '12:25', '-yell-', '2-way', 'hopeful;doubtful].', 'calories!.', 'curved+red', '3:54', 'black+white+red', 'lo[ve', 'walther.siksma.ni', '5:06', 'giraffe+one', 'confusion+displeasure', 'apologies].', 'phone.;.', 'multi-', 'pizzas!.', '6:45', 't.c', '1:25', '11.27', 'scarflet+caplet', 'it+nose', '1:53', '5.05', '3:50', '0.99', 'legs+a', 'co.is', 'head+neck', 'wave!.', 'megabus.com', 'front_.', '6:50', 'nose+chin', 'www.go-metro.com', 'dots+dashes', 'heads+tails', 'white+light', 'j-063', 'airplane/.', 'ear+a', 'heights+fairfax', 'television].', '10:45', 'down+illegible', '6:10', '1:52', '5:25', 'top+red', 'joy].', 'c.p.u', '12:05', '4.50', 'thick+clear', 'middle].', '11:41', 'elephant.etsy.com', 'roof+sharp', '11/25/1941', 'pink+red', 'nadalnews.com', 'wii.two', 'eye-', '4:18', 'sunglasses;white', '12:19', '10.00', '3:59', 'l;ights', 'b;ack', 'm&j', \"o'donnell\", '-or-', '12-oz', '7-eleven', \"differen't\", '                                                                                                    ', 'miamidreamrealty.com', 'full+very', 'metro-', '5:40', 'poles+skis', 'pants/', 'unsure].', '12:15', 'tail+paw', \"o'brien\", '12/22/2006', 'white-', \"arc'd\", 'atop+mixed', '11:08', 'zeeman\"printed', '2.29', '8:58', 'downtowntraveler.com', '9:00', \"passenger's\", 'label+perhaps', '04/19/2012', '2.50', '            ', 'coat/.', 'player`s', '3-dome', '-rock', 'k.a', 'boxed+packaged', '1:31', 'rocks!.', 'good!.', '5:54', 'letters+numbers', '11:31:13', 'long+thin', 'featured+in', 'snaps+things', '2.10', 'ra-3560k', \"don't\", 're+white', 'top+bottom+sides', 'sniffs+tastes', '11:15', 'yellow+sparse', 'clydesdale].', '1.99', \"o'dwyer\", '22.00', '5:27', '3:21', 'foto.jlathrop', '12:13', 'whoa!.', 'q-16', 'ears+fur', 'd-0003', '10:54', 'shoulder+foreleg', 'he;met', 'transavia.com', '9:51', 'beside+below', '2:22', 'ahead].', '5:10', 'food+the', '7pm-7am', '                                                                                                                                     ', 'yellow+several', 'green+grey', 'g.t', '5:00', 'names+miles', '\\n\\n\\n\\n\\n\\n\\n\\n', '10:17', 'cream+a', '3/5ths', \"pop'n'fresh\", \"gir'l\", '4:20', 'board!.', 'g-3', '3:32', 'blue+lavender', 'o`clock', 'c.d', 'green+red', 'wretched!.', '10:14', 'grey+white', '5:41', '11:58', '3:15', 's.u.v', 'f\"s', 'rkz-438', '7:39', '4:45', 'orange+red', '10.24.09', '~½', 'u.s.a.f', 'k.o.d', 'ky-[s]p[k', '6.55', 'towel+hand', '5:37', 'showing\"5:03', 'short+stout', 'i/', '2.00', '2:10', 'd&g', 'orange-', 'bananas+apples', 'white+off', 'all-', \"fron'ts\", '12/03/2007', '26.00+dec', '4:00', 'v-2', 'sticker+logo', '3:53', 'lilac+duck', '—.', 'mode;railroad', 'j-062', '4:14', 'st-46', '11:03', 'cx-7', '8:47', '4:53', 'letters-', 'stripe+spots', 'direct.com', '~20', '7:26', 'it-', 'brightcookie.com', '2-wheel', '3:39', 'p[art', 'bear`s', 'red+black+grey', 'back+head', '4-drawer', 'front+centre', '10.51', '6:36', '12:16', 'once!.', '         ', 'beach!.', 'side-', 'pink+brown+darker', 'less].', '2:03', '0.75', 'pink+fairly', '3:10', 'clips+their', '2010].', \"o'neill\", '11:56', '3/4', 'thin+likely', 'confusing].', '51/2', 'everything!.', '1.45', \"its'pedistel\", '3:23', \"handle'd\", 'yes!.', '11:21', 'bushes+grass', 'joespizza.it', '7am-7pm', 'turkerworker!.', '3:7pm', 'j-011', 'plump+yellow', 'royal+navy', '7:57', 'p.m', 'building+its', \"d'albe\", 'yellow+bloodshot', 'top+bottom', '18:00', '12:24', '3:28', 'md.-del', 'tag+sticker', '6:44', 'photographer].', 'microphone/.', '1:43', 'expression+a', 'code].', 'easyjet.com', 'd.s', 'm.p.h', 'remotes!.', '2:56', '11:25', 'pole/.', '1.35c', 'grey+black', 'methinketh].', 'ball/.', '2.99', 'rope+feather', 'white+flocculent', 'petitplat.fr', '10-key', 'norwegian.com', 'floor+cable', '5-gallon', 'n.b.r', 'top+curved', 'kites!.', '70s].', 'martha_2011', 'platfo[rm', '12:30', '7:35', 'oh].', '7.5', 'dark+split', 'red+bowed', 'rogers.com', 'experience].', 'ribs+spines', 'nose+nostrils', '3:25', 'end[s].', 'am=', 'pepperoni`s', 'sea+wavelet', '10:28', '1:34', 'atiempo.dk', 'kinds!.', 'front+back', 'grass+-', 'blue+bright', 'www.krajicek.net', \"o'neil\", 'surfandrock.com']\n"
     ]
    }
   ],
   "source": [
    "new_words= [word for word in df_wcount['words'].values if not word.isalnum()]\n",
    "print(len(new_words),new_words)"
   ]
  },
  {
   "cell_type": "code",
   "execution_count": 18,
   "metadata": {},
   "outputs": [],
   "source": [
    "w_to_co = df_wcount\n",
    "w_to_co.index = w_to_co.words\n",
    "w_to_co = w_to_co['index'].to_dict()\n",
    "# print(w_to_co)\n",
    "co_to_w = df_wcount\n",
    "co_to_w.index = co_to_w['index']\n",
    "co_to_w = co_to_w['words'].to_dict()\n",
    "# print(co_to_w)"
   ]
  },
  {
   "cell_type": "code",
   "execution_count": 19,
   "metadata": {
    "scrolled": true
   },
   "outputs": [
    {
     "data": {
      "text/plain": [
       "'troaster'"
      ]
     },
     "execution_count": 19,
     "metadata": {},
     "output_type": "execute_result"
    }
   ],
   "source": [
    "# df = pd.DataFrame(sorted(finding_len,reverse=True))\n",
    "# display(df.head(50))\n",
    "# df.plot(kind='hist',figsize=(6,6))\n",
    "co_to_w[13]"
   ]
  },
  {
   "cell_type": "code",
   "execution_count": 20,
   "metadata": {
    "scrolled": true
   },
   "outputs": [],
   "source": [
    "embedding_size = 300\n",
    "# embedding_matrix = np.zeros((vocab_size+1, embedding_size)) # last one : to cater to empty/-1\n",
    "# for word,idx in w_to_co.items():\n",
    "#     token = nlp(word)\n",
    "#     embedding_matrix[idx] = token.vector\n",
    "# embedding_matrix[vocab_size] = np.zeros(embedding_size)\n",
    "embedding_matrix = pd.read_pickle('../../dataset/descriptions/visual_genome_initial_emb_mat.p')\n",
    "embedding_matrix = embedding_matrix.values\n",
    "# print(embedding_matrix.shape)\n",
    "# df_emb = pd.DataFrame(embedding_matrix)\n",
    "# df_emb.to_pickle('../dataset/initial_emb_mat.p')"
   ]
  },
  {
   "cell_type": "code",
   "execution_count": null,
   "metadata": {
    "scrolled": true
   },
   "outputs": [],
   "source": []
  },
  {
   "cell_type": "markdown",
   "metadata": {},
   "source": [
    "# Parameters"
   ]
  },
  {
   "cell_type": "code",
   "execution_count": 21,
   "metadata": {},
   "outputs": [],
   "source": [
    "img_arch = 'vgg'\n",
    "text_arch = '1dcnn'\n",
    "model_name = '{0}_img_attention'.format(img_arch)\n",
    "EPOCHS = 50\n",
    "lr = 0.0001\n",
    "img_dropout_rate=0.5\n",
    "text_dropout_rate=0.5\n",
    "elu_alpha = 1.0"
   ]
  },
  {
   "cell_type": "code",
   "execution_count": 22,
   "metadata": {},
   "outputs": [
    {
     "data": {
      "text/plain": [
       "'vgg_img_attention'"
      ]
     },
     "execution_count": 22,
     "metadata": {},
     "output_type": "execute_result"
    }
   ],
   "source": [
    "model_name"
   ]
  },
  {
   "cell_type": "markdown",
   "metadata": {},
   "source": [
    "# Model Initialization"
   ]
  },
  {
   "cell_type": "code",
   "execution_count": 23,
   "metadata": {},
   "outputs": [],
   "source": [
    "def VGGNet():\n",
    "    image_input = Input(shape=(256,256,3),name='image_input')\n",
    "    positional_encoding = Input(shape=(max_wlen,512),name='positional_encoding')\n",
    "    # x = CoordinateChannel2D()(inp)\n",
    "    x = kl.Conv2D(filters=64, kernel_size=(3,3), padding='same', name='block1_conv1')(image_input)\n",
    "    x = kl.Activation('relu')(x)\n",
    "    x = kl.Conv2D(filters=64, kernel_size=(3,3), padding='same', name='block1_conv2')(x)\n",
    "    x = kl.Activation('relu')(x)\n",
    "    x = kl.MaxPool2D(pool_size=2, strides=2, padding='same', name='block1_reduction_pool')(x)\n",
    "    x = kl.Activation('relu')(x)\n",
    "    x = kl.BatchNormalization()(x)\n",
    "#     x = kl.Dropout(img_dropout_rate)(x)\n",
    "\n",
    "    x = kl.Conv2D(filters=128, kernel_size=(3,3), padding='same', name='block2_conv1')(x)\n",
    "    x = kl.Activation('relu')(x)\n",
    "    x = kl.Conv2D(filters=128, kernel_size=(3,3), padding='same', name='block2_conv2')(x)\n",
    "    x = kl.Activation('relu')(x)\n",
    "    x = kl.MaxPool2D(pool_size=2, strides=2, padding='same', name='block2_reduction_pool')(x)\n",
    "    x = kl.Activation('relu')(x)\n",
    "    x = kl.BatchNormalization()(x)\n",
    "#     x = kl.Dropout(img_dropout_rate)(x)\n",
    "\n",
    "    x = kl.Conv2D(filters=256, kernel_size=(3,3), padding='same', name='block3_conv1')(x)\n",
    "    x = kl.Activation('relu')(x)\n",
    "    x = kl.Conv2D(filters=256, kernel_size=(3,3), padding='same', name='block3_conv2')(x)\n",
    "    x = kl.Activation('relu')(x)\n",
    "    x = kl.Conv2D(filters=256, kernel_size=(3,3), padding='same', name='block3_conv3')(x)\n",
    "    x = kl.Activation('relu')(x)\n",
    "    x = kl.MaxPool2D(pool_size=2, strides=2, padding='same', name='block3_reduction_pool')(x)\n",
    "    x = kl.Activation('relu')(x)\n",
    "    x = kl.BatchNormalization()(x)\n",
    "#     x = kl.Dropout(img_dropout_rate)(x)\n",
    "\n",
    "    x = kl.Conv2D(filters=512, kernel_size=(3,3), padding='same', name='block4_conv1')(x)\n",
    "    x = kl.Activation('relu')(x)\n",
    "    x = kl.Conv2D(filters=512, kernel_size=(3,3), padding='same', name='block4_conv2')(x)\n",
    "    x = kl.Activation('relu')(x)\n",
    "    x = kl.Conv2D(filters=512, kernel_size=(3,3), padding='same', name='block4_conv3')(x)\n",
    "    x = kl.Activation('relu')(x)\n",
    "    # x = CoordinateChannel2D(use_radius=True)(x)\n",
    "#     x, samap, g = SelfAttention(ch=512, name='self_attention')(x)\n",
    "    x = kl.MaxPool2D(pool_size=2, strides=2, padding='same', name='block4_reduction_pool')(x)\n",
    "    x = kl.Activation('relu')(x)\n",
    "    x = kl.BatchNormalization()(x)\n",
    "#     x = kl.Dropout(img_dropout_rate)(x)\n",
    "\n",
    "    x = kl.Conv2D(filters=512, kernel_size=(3,3), padding='same', name='block5_conv1')(x)\n",
    "    x = kl.Activation('relu')(x)\n",
    "    x = kl.Conv2D(filters=512, kernel_size=(3,3), padding='same', name='block5_conv2')(x)\n",
    "    x = kl.Activation('relu')(x)\n",
    "    x = kl.Conv2D(filters=512, kernel_size=(3,3), padding='same', name='block5_conv3')(x)\n",
    "    x = kl.Activation('relu')(x)\n",
    "#     x, amaps = SoftAttention(ch=512, m=32, name='soft_attention')(x)\n",
    "    x = kl.MaxPool2D(pool_size=2, strides=2, padding='same', name='block5_reduction_pool')(x)\n",
    "    x = kl.Activation('relu',name='image_output_features')(x)\n",
    "    reshaped = (int(x.shape[1])*int(x.shape[2]),int(x.shape[-1]))\n",
    "    encoded_out = kl.Lambda(lambda x: kl.Reshape(target_shape=reshaped)(x))(x)\n",
    "#     print(hw_flatten)\n",
    "    gap = kl.GlobalAveragePooling2D()(x)\n",
    "    \n",
    "    \n",
    "    mha = multiheadAttention(prev_layer=encoded_out,context_vector=gap,layer_number=1,heads=8)\n",
    "    ff_a = condResAndNormAttn(a_layer=mha,context_vector=gap,out_channels=int(gap.shape[-1]),layer_number=1)\n",
    "    \n",
    "    \n",
    "    \n",
    "    repeat_ff_a = kl.RepeatVector(max_wlen)(ff_a)    \n",
    "    repeat_ff_a = kl.Dense(512,activation='relu')(repeat_ff_a)\n",
    "    # encoder end\n",
    "    \n",
    "    # ---- decoder -----------------------------------\n",
    "    sa_input = kl.Add()([repeat_ff_a,positional_encoding])\n",
    "    \n",
    "    # ---- decoder block 1 ----\n",
    "    dec_1 = decoder_block(sa_input=sa_input\n",
    "                         ,encoder_output=encoded_out\n",
    "                         ,heads=8\n",
    "                         ,layer_number=1)\n",
    "    \n",
    "    # ---- decoder block 2 ----\n",
    "    dec_2 = decoder_block(sa_input=dec_1\n",
    "                         ,encoder_output=encoded_out\n",
    "                         ,heads=8\n",
    "                         ,layer_number=2)\n",
    "    \n",
    "    target = kl.Dense(vocab_size+1)(dec_2)\n",
    "    target = kl.Activation('tanh')(target)\n",
    "    \n",
    "    return Model([image_input,positional_encoding],target,name='imgModel')"
   ]
  },
  {
   "cell_type": "code",
   "execution_count": 24,
   "metadata": {
    "scrolled": true
   },
   "outputs": [
    {
     "name": "stdout",
     "output_type": "stream",
     "text": [
      "WARNING:tensorflow:From /home/mshaikh2/anaconda3/envs/tf-gpu-2/lib/python3.7/site-packages/keras/backend/tensorflow_backend.py:4070: The name tf.nn.max_pool is deprecated. Please use tf.nn.max_pool2d instead.\n",
      "\n",
      "Model: \"imgModel\"\n",
      "__________________________________________________________________________________________________\n",
      "Layer (type)                    Output Shape         Param #     Connected to                     \n",
      "==================================================================================================\n",
      "image_input (InputLayer)        (None, 256, 256, 3)  0                                            \n",
      "__________________________________________________________________________________________________\n",
      "block1_conv1 (Conv2D)           (None, 256, 256, 64) 1792        image_input[0][0]                \n",
      "__________________________________________________________________________________________________\n",
      "activation_1 (Activation)       (None, 256, 256, 64) 0           block1_conv1[0][0]               \n",
      "__________________________________________________________________________________________________\n",
      "block1_conv2 (Conv2D)           (None, 256, 256, 64) 36928       activation_1[0][0]               \n",
      "__________________________________________________________________________________________________\n",
      "activation_2 (Activation)       (None, 256, 256, 64) 0           block1_conv2[0][0]               \n",
      "__________________________________________________________________________________________________\n",
      "block1_reduction_pool (MaxPooli (None, 128, 128, 64) 0           activation_2[0][0]               \n",
      "__________________________________________________________________________________________________\n",
      "activation_3 (Activation)       (None, 128, 128, 64) 0           block1_reduction_pool[0][0]      \n",
      "__________________________________________________________________________________________________\n",
      "batch_normalization_1 (BatchNor (None, 128, 128, 64) 256         activation_3[0][0]               \n",
      "__________________________________________________________________________________________________\n",
      "block2_conv1 (Conv2D)           (None, 128, 128, 128 73856       batch_normalization_1[0][0]      \n",
      "__________________________________________________________________________________________________\n",
      "activation_4 (Activation)       (None, 128, 128, 128 0           block2_conv1[0][0]               \n",
      "__________________________________________________________________________________________________\n",
      "block2_conv2 (Conv2D)           (None, 128, 128, 128 147584      activation_4[0][0]               \n",
      "__________________________________________________________________________________________________\n",
      "activation_5 (Activation)       (None, 128, 128, 128 0           block2_conv2[0][0]               \n",
      "__________________________________________________________________________________________________\n",
      "block2_reduction_pool (MaxPooli (None, 64, 64, 128)  0           activation_5[0][0]               \n",
      "__________________________________________________________________________________________________\n",
      "activation_6 (Activation)       (None, 64, 64, 128)  0           block2_reduction_pool[0][0]      \n",
      "__________________________________________________________________________________________________\n",
      "batch_normalization_2 (BatchNor (None, 64, 64, 128)  512         activation_6[0][0]               \n",
      "__________________________________________________________________________________________________\n",
      "block3_conv1 (Conv2D)           (None, 64, 64, 256)  295168      batch_normalization_2[0][0]      \n",
      "__________________________________________________________________________________________________\n",
      "activation_7 (Activation)       (None, 64, 64, 256)  0           block3_conv1[0][0]               \n",
      "__________________________________________________________________________________________________\n",
      "block3_conv2 (Conv2D)           (None, 64, 64, 256)  590080      activation_7[0][0]               \n",
      "__________________________________________________________________________________________________\n",
      "activation_8 (Activation)       (None, 64, 64, 256)  0           block3_conv2[0][0]               \n",
      "__________________________________________________________________________________________________\n",
      "block3_conv3 (Conv2D)           (None, 64, 64, 256)  590080      activation_8[0][0]               \n",
      "__________________________________________________________________________________________________\n",
      "activation_9 (Activation)       (None, 64, 64, 256)  0           block3_conv3[0][0]               \n",
      "__________________________________________________________________________________________________\n",
      "block3_reduction_pool (MaxPooli (None, 32, 32, 256)  0           activation_9[0][0]               \n",
      "__________________________________________________________________________________________________\n",
      "activation_10 (Activation)      (None, 32, 32, 256)  0           block3_reduction_pool[0][0]      \n",
      "__________________________________________________________________________________________________\n",
      "batch_normalization_3 (BatchNor (None, 32, 32, 256)  1024        activation_10[0][0]              \n",
      "__________________________________________________________________________________________________\n",
      "block4_conv1 (Conv2D)           (None, 32, 32, 512)  1180160     batch_normalization_3[0][0]      \n",
      "__________________________________________________________________________________________________\n",
      "activation_11 (Activation)      (None, 32, 32, 512)  0           block4_conv1[0][0]               \n",
      "__________________________________________________________________________________________________\n",
      "block4_conv2 (Conv2D)           (None, 32, 32, 512)  2359808     activation_11[0][0]              \n",
      "__________________________________________________________________________________________________\n",
      "activation_12 (Activation)      (None, 32, 32, 512)  0           block4_conv2[0][0]               \n",
      "__________________________________________________________________________________________________\n",
      "block4_conv3 (Conv2D)           (None, 32, 32, 512)  2359808     activation_12[0][0]              \n",
      "__________________________________________________________________________________________________\n",
      "activation_13 (Activation)      (None, 32, 32, 512)  0           block4_conv3[0][0]               \n",
      "__________________________________________________________________________________________________\n",
      "block4_reduction_pool (MaxPooli (None, 16, 16, 512)  0           activation_13[0][0]              \n",
      "__________________________________________________________________________________________________\n",
      "activation_14 (Activation)      (None, 16, 16, 512)  0           block4_reduction_pool[0][0]      \n",
      "__________________________________________________________________________________________________\n",
      "batch_normalization_4 (BatchNor (None, 16, 16, 512)  2048        activation_14[0][0]              \n",
      "__________________________________________________________________________________________________\n",
      "block5_conv1 (Conv2D)           (None, 16, 16, 512)  2359808     batch_normalization_4[0][0]      \n",
      "__________________________________________________________________________________________________\n",
      "activation_15 (Activation)      (None, 16, 16, 512)  0           block5_conv1[0][0]               \n",
      "__________________________________________________________________________________________________\n",
      "block5_conv2 (Conv2D)           (None, 16, 16, 512)  2359808     activation_15[0][0]              \n",
      "__________________________________________________________________________________________________\n",
      "activation_16 (Activation)      (None, 16, 16, 512)  0           block5_conv2[0][0]               \n",
      "__________________________________________________________________________________________________\n",
      "block5_conv3 (Conv2D)           (None, 16, 16, 512)  2359808     activation_16[0][0]              \n",
      "__________________________________________________________________________________________________\n",
      "activation_17 (Activation)      (None, 16, 16, 512)  0           block5_conv3[0][0]               \n",
      "__________________________________________________________________________________________________\n",
      "block5_reduction_pool (MaxPooli (None, 8, 8, 512)    0           activation_17[0][0]              \n",
      "__________________________________________________________________________________________________\n",
      "image_output_features (Activati (None, 8, 8, 512)    0           block5_reduction_pool[0][0]      \n",
      "__________________________________________________________________________________________________\n",
      "global_average_pooling2d_1 (Glo (None, 512)          0           image_output_features[0][0]      \n",
      "__________________________________________________________________________________________________\n",
      "lambda_1 (Lambda)               (None, 64, 512)      0           image_output_features[0][0]      \n",
      "__________________________________________________________________________________________________\n",
      "a10 (Attention)                 [(None, 1, 512), (1, 0           global_average_pooling2d_1[0][0] \n",
      "                                                                 lambda_1[0][0]                   \n",
      "__________________________________________________________________________________________________\n",
      "a11 (Attention)                 [(None, 1, 512), (1, 0           global_average_pooling2d_1[0][0] \n",
      "                                                                 lambda_1[0][0]                   \n",
      "__________________________________________________________________________________________________\n",
      "a12 (Attention)                 [(None, 1, 512), (1, 0           global_average_pooling2d_1[0][0] \n",
      "                                                                 lambda_1[0][0]                   \n",
      "__________________________________________________________________________________________________\n",
      "a13 (Attention)                 [(None, 1, 512), (1, 0           global_average_pooling2d_1[0][0] \n",
      "                                                                 lambda_1[0][0]                   \n",
      "__________________________________________________________________________________________________\n",
      "a14 (Attention)                 [(None, 1, 512), (1, 0           global_average_pooling2d_1[0][0] \n",
      "                                                                 lambda_1[0][0]                   \n",
      "__________________________________________________________________________________________________\n",
      "a15 (Attention)                 [(None, 1, 512), (1, 0           global_average_pooling2d_1[0][0] \n",
      "                                                                 lambda_1[0][0]                   \n",
      "__________________________________________________________________________________________________\n",
      "a16 (Attention)                 [(None, 1, 512), (1, 0           global_average_pooling2d_1[0][0] \n",
      "                                                                 lambda_1[0][0]                   \n",
      "__________________________________________________________________________________________________\n",
      "a17 (Attention)                 [(None, 1, 512), (1, 0           global_average_pooling2d_1[0][0] \n",
      "                                                                 lambda_1[0][0]                   \n",
      "__________________________________________________________________________________________________\n",
      "batch_normalization_5 (BatchNor (None, 1, 512)       2048        a10[0][0]                        \n",
      "__________________________________________________________________________________________________\n",
      "batch_normalization_6 (BatchNor (None, 1, 512)       2048        a11[0][0]                        \n",
      "__________________________________________________________________________________________________\n",
      "batch_normalization_7 (BatchNor (None, 1, 512)       2048        a12[0][0]                        \n",
      "__________________________________________________________________________________________________\n",
      "batch_normalization_8 (BatchNor (None, 1, 512)       2048        a13[0][0]                        \n",
      "__________________________________________________________________________________________________\n",
      "batch_normalization_9 (BatchNor (None, 1, 512)       2048        a14[0][0]                        \n",
      "__________________________________________________________________________________________________\n",
      "batch_normalization_10 (BatchNo (None, 1, 512)       2048        a15[0][0]                        \n",
      "__________________________________________________________________________________________________\n",
      "batch_normalization_11 (BatchNo (None, 1, 512)       2048        a16[0][0]                        \n",
      "__________________________________________________________________________________________________\n",
      "batch_normalization_12 (BatchNo (None, 1, 512)       2048        a17[0][0]                        \n",
      "__________________________________________________________________________________________________\n",
      "concat_attn_1 (Concatenate)     (None, 1, 4096)      0           batch_normalization_5[0][0]      \n",
      "                                                                 batch_normalization_6[0][0]      \n",
      "                                                                 batch_normalization_7[0][0]      \n",
      "                                                                 batch_normalization_8[0][0]      \n",
      "                                                                 batch_normalization_9[0][0]      \n",
      "                                                                 batch_normalization_10[0][0]     \n",
      "                                                                 batch_normalization_11[0][0]     \n",
      "                                                                 batch_normalization_12[0][0]     \n",
      "__________________________________________________________________________________________________\n",
      "condense_attn1D_1 (CondenseAtte (None, 1, 512)       0           concat_attn_1[0][0]              \n",
      "__________________________________________________________________________________________________\n",
      "squeeze_attn_1 (Lambda)         (None, 512)          0           condense_attn1D_1[0][0]          \n",
      "__________________________________________________________________________________________________\n",
      "residual_combine_attn_1 (Residu [(None, 512), (1, 1) 0           global_average_pooling2d_1[0][0] \n",
      "                                                                 squeeze_attn_1[0][0]             \n",
      "__________________________________________________________________________________________________\n",
      "batch_normalization_13 (BatchNo (None, 512)          2048        residual_combine_attn_1[0][0]    \n",
      "__________________________________________________________________________________________________\n",
      "repeat_vector_1 (RepeatVector)  (None, 60, 512)      0           batch_normalization_13[0][0]     \n",
      "__________________________________________________________________________________________________\n",
      "dense_28 (Dense)                (None, 60, 512)      262656      repeat_vector_1[0][0]            \n",
      "__________________________________________________________________________________________________\n",
      "positional_encoding (InputLayer (None, 60, 512)      0                                            \n",
      "__________________________________________________________________________________________________\n",
      "add_2 (Add)                     (None, 60, 512)      0           dense_28[0][0]                   \n",
      "                                                                 positional_encoding[0][0]        \n",
      "__________________________________________________________________________________________________\n",
      "sa10 (SelfAttention)            [(None, 60, 512), (N 0           add_2[0][0]                      \n",
      "__________________________________________________________________________________________________\n",
      "sa11 (SelfAttention)            [(None, 60, 512), (N 0           add_2[0][0]                      \n",
      "__________________________________________________________________________________________________\n",
      "sa12 (SelfAttention)            [(None, 60, 512), (N 0           add_2[0][0]                      \n",
      "__________________________________________________________________________________________________\n",
      "sa13 (SelfAttention)            [(None, 60, 512), (N 0           add_2[0][0]                      \n",
      "__________________________________________________________________________________________________\n",
      "sa14 (SelfAttention)            [(None, 60, 512), (N 0           add_2[0][0]                      \n",
      "__________________________________________________________________________________________________\n",
      "sa15 (SelfAttention)            [(None, 60, 512), (N 0           add_2[0][0]                      \n",
      "__________________________________________________________________________________________________\n",
      "sa16 (SelfAttention)            [(None, 60, 512), (N 0           add_2[0][0]                      \n",
      "__________________________________________________________________________________________________\n",
      "sa17 (SelfAttention)            [(None, 60, 512), (N 0           add_2[0][0]                      \n",
      "__________________________________________________________________________________________________\n",
      "concat_sa_1 (Concatenate)       (None, 60, 4096)     0           sa10[0][7]                       \n",
      "                                                                 sa11[0][7]                       \n",
      "                                                                 sa12[0][7]                       \n",
      "                                                                 sa13[0][7]                       \n",
      "                                                                 sa14[0][7]                       \n",
      "                                                                 sa15[0][7]                       \n",
      "                                                                 sa16[0][7]                       \n",
      "                                                                 sa17[0][7]                       \n",
      "__________________________________________________________________________________________________\n",
      "cond_sa_1 (CondenseAttention1D) (None, 60, 512)      0           concat_sa_1[0][0]                \n",
      "__________________________________________________________________________________________________\n",
      "res_comb_sa_1 (ResidualCombine) [(None, 60, 512), (1 0           add_2[0][0]                      \n",
      "                                                                 cond_sa_1[0][0]                  \n",
      "__________________________________________________________________________________________________\n",
      "batch_normalization_22 (BatchNo (None, 60, 512)      2048        res_comb_sa_1[0][0]              \n",
      "__________________________________________________________________________________________________\n",
      "eca10 (EncDecAttention)         [(None, 60, 64), (No 0           batch_normalization_22[0][0]     \n",
      "                                                                 lambda_1[0][0]                   \n",
      "__________________________________________________________________________________________________\n",
      "eca11 (EncDecAttention)         [(None, 60, 64), (No 0           batch_normalization_22[0][0]     \n",
      "                                                                 lambda_1[0][0]                   \n",
      "__________________________________________________________________________________________________\n",
      "eca12 (EncDecAttention)         [(None, 60, 64), (No 0           batch_normalization_22[0][0]     \n",
      "                                                                 lambda_1[0][0]                   \n",
      "__________________________________________________________________________________________________\n",
      "eca13 (EncDecAttention)         [(None, 60, 64), (No 0           batch_normalization_22[0][0]     \n",
      "                                                                 lambda_1[0][0]                   \n",
      "__________________________________________________________________________________________________\n",
      "eca14 (EncDecAttention)         [(None, 60, 64), (No 0           batch_normalization_22[0][0]     \n",
      "                                                                 lambda_1[0][0]                   \n",
      "__________________________________________________________________________________________________\n",
      "eca15 (EncDecAttention)         [(None, 60, 64), (No 0           batch_normalization_22[0][0]     \n",
      "                                                                 lambda_1[0][0]                   \n",
      "__________________________________________________________________________________________________\n",
      "eca16 (EncDecAttention)         [(None, 60, 64), (No 0           batch_normalization_22[0][0]     \n",
      "                                                                 lambda_1[0][0]                   \n",
      "__________________________________________________________________________________________________\n",
      "eca17 (EncDecAttention)         [(None, 60, 64), (No 0           batch_normalization_22[0][0]     \n",
      "                                                                 lambda_1[0][0]                   \n",
      "__________________________________________________________________________________________________\n",
      "batch_normalization_23 (BatchNo (None, 60, 512)      2048        eca10[0][5]                      \n",
      "__________________________________________________________________________________________________\n",
      "batch_normalization_24 (BatchNo (None, 60, 512)      2048        eca11[0][5]                      \n",
      "__________________________________________________________________________________________________\n",
      "batch_normalization_25 (BatchNo (None, 60, 512)      2048        eca12[0][5]                      \n",
      "__________________________________________________________________________________________________\n",
      "batch_normalization_26 (BatchNo (None, 60, 512)      2048        eca13[0][5]                      \n",
      "__________________________________________________________________________________________________\n",
      "batch_normalization_27 (BatchNo (None, 60, 512)      2048        eca14[0][5]                      \n",
      "__________________________________________________________________________________________________\n",
      "batch_normalization_28 (BatchNo (None, 60, 512)      2048        eca15[0][5]                      \n",
      "__________________________________________________________________________________________________\n",
      "batch_normalization_29 (BatchNo (None, 60, 512)      2048        eca16[0][5]                      \n",
      "__________________________________________________________________________________________________\n",
      "batch_normalization_30 (BatchNo (None, 60, 512)      2048        eca17[0][5]                      \n",
      "__________________________________________________________________________________________________\n",
      "concat_enc_1 (Concatenate)      (None, 60, 4096)     0           batch_normalization_23[0][0]     \n",
      "                                                                 batch_normalization_24[0][0]     \n",
      "                                                                 batch_normalization_25[0][0]     \n",
      "                                                                 batch_normalization_26[0][0]     \n",
      "                                                                 batch_normalization_27[0][0]     \n",
      "                                                                 batch_normalization_28[0][0]     \n",
      "                                                                 batch_normalization_29[0][0]     \n",
      "                                                                 batch_normalization_30[0][0]     \n",
      "__________________________________________________________________________________________________\n",
      "cond_enc_1 (CondenseAttention1D (None, 60, 512)      0           concat_enc_1[0][0]               \n",
      "__________________________________________________________________________________________________\n",
      "res_comb_enc_1 (ResidualCombine [(None, 60, 512), (1 0           batch_normalization_22[0][0]     \n",
      "                                                                 cond_enc_1[0][0]                 \n",
      "__________________________________________________________________________________________________\n",
      "batch_normalization_31 (BatchNo (None, 60, 512)      2048        res_comb_enc_1[0][0]             \n",
      "__________________________________________________________________________________________________\n",
      "time_distributed_1 (TimeDistrib (None, 60, 512)      262656      batch_normalization_31[0][0]     \n",
      "__________________________________________________________________________________________________\n",
      "res_comb_NA_1 (ResidualCombine) [(None, 60, 512), (1 0           batch_normalization_31[0][0]     \n",
      "                                                                 time_distributed_1[0][0]         \n",
      "__________________________________________________________________________________________________\n",
      "batch_normalization_32 (BatchNo (None, 60, 512)      2048        res_comb_NA_1[0][0]              \n",
      "__________________________________________________________________________________________________\n",
      "sa20 (SelfAttention)            [(None, 60, 512), (N 0           batch_normalization_32[0][0]     \n",
      "__________________________________________________________________________________________________\n",
      "sa21 (SelfAttention)            [(None, 60, 512), (N 0           batch_normalization_32[0][0]     \n",
      "__________________________________________________________________________________________________\n",
      "sa22 (SelfAttention)            [(None, 60, 512), (N 0           batch_normalization_32[0][0]     \n",
      "__________________________________________________________________________________________________\n",
      "sa23 (SelfAttention)            [(None, 60, 512), (N 0           batch_normalization_32[0][0]     \n",
      "__________________________________________________________________________________________________\n",
      "sa24 (SelfAttention)            [(None, 60, 512), (N 0           batch_normalization_32[0][0]     \n",
      "__________________________________________________________________________________________________\n",
      "sa25 (SelfAttention)            [(None, 60, 512), (N 0           batch_normalization_32[0][0]     \n",
      "__________________________________________________________________________________________________\n",
      "sa26 (SelfAttention)            [(None, 60, 512), (N 0           batch_normalization_32[0][0]     \n",
      "__________________________________________________________________________________________________\n",
      "sa27 (SelfAttention)            [(None, 60, 512), (N 0           batch_normalization_32[0][0]     \n",
      "__________________________________________________________________________________________________\n",
      "concat_sa_2 (Concatenate)       (None, 60, 4096)     0           sa20[0][7]                       \n",
      "                                                                 sa21[0][7]                       \n",
      "                                                                 sa22[0][7]                       \n",
      "                                                                 sa23[0][7]                       \n",
      "                                                                 sa24[0][7]                       \n",
      "                                                                 sa25[0][7]                       \n",
      "                                                                 sa26[0][7]                       \n",
      "                                                                 sa27[0][7]                       \n",
      "__________________________________________________________________________________________________\n",
      "cond_sa_2 (CondenseAttention1D) (None, 60, 512)      0           concat_sa_2[0][0]                \n",
      "__________________________________________________________________________________________________\n",
      "res_comb_sa_2 (ResidualCombine) [(None, 60, 512), (1 0           batch_normalization_32[0][0]     \n",
      "                                                                 cond_sa_2[0][0]                  \n",
      "__________________________________________________________________________________________________\n",
      "batch_normalization_41 (BatchNo (None, 60, 512)      2048        res_comb_sa_2[0][0]              \n",
      "__________________________________________________________________________________________________\n",
      "eca20 (EncDecAttention)         [(None, 60, 64), (No 0           batch_normalization_41[0][0]     \n",
      "                                                                 lambda_1[0][0]                   \n",
      "__________________________________________________________________________________________________\n",
      "eca21 (EncDecAttention)         [(None, 60, 64), (No 0           batch_normalization_41[0][0]     \n",
      "                                                                 lambda_1[0][0]                   \n",
      "__________________________________________________________________________________________________\n",
      "eca22 (EncDecAttention)         [(None, 60, 64), (No 0           batch_normalization_41[0][0]     \n",
      "                                                                 lambda_1[0][0]                   \n",
      "__________________________________________________________________________________________________\n",
      "eca23 (EncDecAttention)         [(None, 60, 64), (No 0           batch_normalization_41[0][0]     \n",
      "                                                                 lambda_1[0][0]                   \n",
      "__________________________________________________________________________________________________\n",
      "eca24 (EncDecAttention)         [(None, 60, 64), (No 0           batch_normalization_41[0][0]     \n",
      "                                                                 lambda_1[0][0]                   \n",
      "__________________________________________________________________________________________________\n",
      "eca25 (EncDecAttention)         [(None, 60, 64), (No 0           batch_normalization_41[0][0]     \n",
      "                                                                 lambda_1[0][0]                   \n",
      "__________________________________________________________________________________________________\n",
      "eca26 (EncDecAttention)         [(None, 60, 64), (No 0           batch_normalization_41[0][0]     \n",
      "                                                                 lambda_1[0][0]                   \n",
      "__________________________________________________________________________________________________\n",
      "eca27 (EncDecAttention)         [(None, 60, 64), (No 0           batch_normalization_41[0][0]     \n",
      "                                                                 lambda_1[0][0]                   \n",
      "__________________________________________________________________________________________________\n",
      "batch_normalization_42 (BatchNo (None, 60, 512)      2048        eca20[0][5]                      \n",
      "__________________________________________________________________________________________________\n",
      "batch_normalization_43 (BatchNo (None, 60, 512)      2048        eca21[0][5]                      \n",
      "__________________________________________________________________________________________________\n",
      "batch_normalization_44 (BatchNo (None, 60, 512)      2048        eca22[0][5]                      \n",
      "__________________________________________________________________________________________________\n",
      "batch_normalization_45 (BatchNo (None, 60, 512)      2048        eca23[0][5]                      \n",
      "__________________________________________________________________________________________________\n",
      "batch_normalization_46 (BatchNo (None, 60, 512)      2048        eca24[0][5]                      \n",
      "__________________________________________________________________________________________________\n",
      "batch_normalization_47 (BatchNo (None, 60, 512)      2048        eca25[0][5]                      \n",
      "__________________________________________________________________________________________________\n",
      "batch_normalization_48 (BatchNo (None, 60, 512)      2048        eca26[0][5]                      \n",
      "__________________________________________________________________________________________________\n",
      "batch_normalization_49 (BatchNo (None, 60, 512)      2048        eca27[0][5]                      \n",
      "__________________________________________________________________________________________________\n",
      "concat_enc_2 (Concatenate)      (None, 60, 4096)     0           batch_normalization_42[0][0]     \n",
      "                                                                 batch_normalization_43[0][0]     \n",
      "                                                                 batch_normalization_44[0][0]     \n",
      "                                                                 batch_normalization_45[0][0]     \n",
      "                                                                 batch_normalization_46[0][0]     \n",
      "                                                                 batch_normalization_47[0][0]     \n",
      "                                                                 batch_normalization_48[0][0]     \n",
      "                                                                 batch_normalization_49[0][0]     \n",
      "__________________________________________________________________________________________________\n",
      "cond_enc_2 (CondenseAttention1D (None, 60, 512)      0           concat_enc_2[0][0]               \n",
      "__________________________________________________________________________________________________\n",
      "res_comb_enc_2 (ResidualCombine [(None, 60, 512), (1 0           batch_normalization_41[0][0]     \n",
      "                                                                 cond_enc_2[0][0]                 \n",
      "__________________________________________________________________________________________________\n",
      "batch_normalization_50 (BatchNo (None, 60, 512)      2048        res_comb_enc_2[0][0]             \n",
      "__________________________________________________________________________________________________\n",
      "time_distributed_2 (TimeDistrib (None, 60, 512)      262656      batch_normalization_50[0][0]     \n",
      "__________________________________________________________________________________________________\n",
      "res_comb_NA_2 (ResidualCombine) [(None, 60, 512), (1 0           batch_normalization_50[0][0]     \n",
      "                                                                 time_distributed_2[0][0]         \n",
      "__________________________________________________________________________________________________\n",
      "batch_normalization_51 (BatchNo (None, 60, 512)      2048        res_comb_NA_2[0][0]              \n",
      "__________________________________________________________________________________________________\n",
      "dense_143 (Dense)               (None, 60, 20795)    10667835    batch_normalization_51[0][0]     \n",
      "__________________________________________________________________________________________________\n",
      "activation_157 (Activation)     (None, 60, 20795)    0           dense_143[0][0]                  \n",
      "==================================================================================================\n",
      "Total params: 26,237,819\n",
      "Trainable params: 26,204,155\n",
      "Non-trainable params: 33,664\n",
      "__________________________________________________________________________________________________\n"
     ]
    }
   ],
   "source": [
    "if img_arch=='vgg':\n",
    "    imgNet = VGGNet()\n",
    "    imgNet =  VGG16(include_top=False,input_shape=(256,256,3),weights='imagenet')\n",
    "elif img_arch == 'densenet121':\n",
    "    imgNet = DenseNet121(include_top=False,input_shape=(256,256,3))\n",
    "    imgNet.trainable = True\n",
    "elif img_arch == 'densenet':\n",
    "    imgNet = DenseNet()\n",
    "elif img_arch == 'irv2':\n",
    "    imgNet =InceptionResNetV2(include_top=False,input_shape=(256,256,3))\n",
    "    imgNet.trainable = True\n",
    "# if os.path.exists('../checkpoints/{0}_{1}_attention_img_module.h5'.format(img_arch,text_arch)):\n",
    "#     print('loading existing image weights..')\n",
    "#     imgNet.load_weights('../checkpoints/{0}_{1}_attention_img_module.h5'.format(img_arch,text_arch))\n",
    "imgNet.summary()"
   ]
  },
  {
   "cell_type": "code",
   "execution_count": 25,
   "metadata": {},
   "outputs": [
    {
     "data": {
      "image/svg+xml": [
       "<svg height=\"5648pt\" viewBox=\"0.00 0.00 9340.14 6778.00\" width=\"7783pt\" xmlns=\"http://www.w3.org/2000/svg\" xmlns:xlink=\"http://www.w3.org/1999/xlink\">\n",
       "<g class=\"graph\" id=\"graph0\" transform=\"scale(.8333 .8333) rotate(0) translate(4 6774)\">\n",
       "<title>G</title>\n",
       "<polygon fill=\"#ffffff\" points=\"-4,4 -4,-6774 9336.1385,-6774 9336.1385,4 -4,4\" stroke=\"transparent\"/>\n",
       "<!-- 140228067164816 -->\n",
       "<g class=\"node\" id=\"node1\">\n",
       "<title>140228067164816</title>\n",
       "<polygon fill=\"none\" points=\"5443.1385,-6723.5 5443.1385,-6769.5 5775.1385,-6769.5 5775.1385,-6723.5 5443.1385,-6723.5\" stroke=\"#000000\"/>\n",
       "<text fill=\"#000000\" font-family=\"Times,serif\" font-size=\"14.00\" text-anchor=\"middle\" x=\"5519.1385\" y=\"-6742.8\">image_input: InputLayer</text>\n",
       "<polyline fill=\"none\" points=\"5595.1385,-6723.5 5595.1385,-6769.5 \" stroke=\"#000000\"/>\n",
       "<text fill=\"#000000\" font-family=\"Times,serif\" font-size=\"14.00\" text-anchor=\"middle\" x=\"5622.6385\" y=\"-6754.3\">input:</text>\n",
       "<polyline fill=\"none\" points=\"5595.1385,-6746.5 5650.1385,-6746.5 \" stroke=\"#000000\"/>\n",
       "<text fill=\"#000000\" font-family=\"Times,serif\" font-size=\"14.00\" text-anchor=\"middle\" x=\"5622.6385\" y=\"-6731.3\">output:</text>\n",
       "<polyline fill=\"none\" points=\"5650.1385,-6723.5 5650.1385,-6769.5 \" stroke=\"#000000\"/>\n",
       "<text fill=\"#000000\" font-family=\"Times,serif\" font-size=\"14.00\" text-anchor=\"middle\" x=\"5712.6385\" y=\"-6754.3\">(None, 256, 256, 3)</text>\n",
       "<polyline fill=\"none\" points=\"5650.1385,-6746.5 5775.1385,-6746.5 \" stroke=\"#000000\"/>\n",
       "<text fill=\"#000000\" font-family=\"Times,serif\" font-size=\"14.00\" text-anchor=\"middle\" x=\"5712.6385\" y=\"-6731.3\">(None, 256, 256, 3)</text>\n",
       "</g>\n",
       "<!-- 140235549345488 -->\n",
       "<g class=\"node\" id=\"node2\">\n",
       "<title>140235549345488</title>\n",
       "<polygon fill=\"none\" points=\"5443.1385,-6640.5 5443.1385,-6686.5 5775.1385,-6686.5 5775.1385,-6640.5 5443.1385,-6640.5\" stroke=\"#000000\"/>\n",
       "<text fill=\"#000000\" font-family=\"Times,serif\" font-size=\"14.00\" text-anchor=\"middle\" x=\"5516.1385\" y=\"-6659.8\">block1_conv1: Conv2D</text>\n",
       "<polyline fill=\"none\" points=\"5589.1385,-6640.5 5589.1385,-6686.5 \" stroke=\"#000000\"/>\n",
       "<text fill=\"#000000\" font-family=\"Times,serif\" font-size=\"14.00\" text-anchor=\"middle\" x=\"5616.6385\" y=\"-6671.3\">input:</text>\n",
       "<polyline fill=\"none\" points=\"5589.1385,-6663.5 5644.1385,-6663.5 \" stroke=\"#000000\"/>\n",
       "<text fill=\"#000000\" font-family=\"Times,serif\" font-size=\"14.00\" text-anchor=\"middle\" x=\"5616.6385\" y=\"-6648.3\">output:</text>\n",
       "<polyline fill=\"none\" points=\"5644.1385,-6640.5 5644.1385,-6686.5 \" stroke=\"#000000\"/>\n",
       "<text fill=\"#000000\" font-family=\"Times,serif\" font-size=\"14.00\" text-anchor=\"middle\" x=\"5709.6385\" y=\"-6671.3\">(None, 256, 256, 3)</text>\n",
       "<polyline fill=\"none\" points=\"5644.1385,-6663.5 5775.1385,-6663.5 \" stroke=\"#000000\"/>\n",
       "<text fill=\"#000000\" font-family=\"Times,serif\" font-size=\"14.00\" text-anchor=\"middle\" x=\"5709.6385\" y=\"-6648.3\">(None, 256, 256, 64)</text>\n",
       "</g>\n",
       "<!-- 140228067164816&#45;&gt;140235549345488 -->\n",
       "<g class=\"edge\" id=\"edge1\">\n",
       "<title>140228067164816-&gt;140235549345488</title>\n",
       "<path d=\"M5609.1385,-6723.3799C5609.1385,-6715.1745 5609.1385,-6705.7679 5609.1385,-6696.8786\" fill=\"none\" stroke=\"#000000\"/>\n",
       "<polygon fill=\"#000000\" points=\"5612.6386,-6696.784 5609.1385,-6686.784 5605.6386,-6696.784 5612.6386,-6696.784\" stroke=\"#000000\"/>\n",
       "</g>\n",
       "<!-- 140228067165136 -->\n",
       "<g class=\"node\" id=\"node3\">\n",
       "<title>140228067165136</title>\n",
       "<polygon fill=\"none\" points=\"5442.1385,-6557.5 5442.1385,-6603.5 5776.1385,-6603.5 5776.1385,-6557.5 5442.1385,-6557.5\" stroke=\"#000000\"/>\n",
       "<text fill=\"#000000\" font-family=\"Times,serif\" font-size=\"14.00\" text-anchor=\"middle\" x=\"5516.1385\" y=\"-6576.8\">activation_1: Activation</text>\n",
       "<polyline fill=\"none\" points=\"5590.1385,-6557.5 5590.1385,-6603.5 \" stroke=\"#000000\"/>\n",
       "<text fill=\"#000000\" font-family=\"Times,serif\" font-size=\"14.00\" text-anchor=\"middle\" x=\"5617.6385\" y=\"-6588.3\">input:</text>\n",
       "<polyline fill=\"none\" points=\"5590.1385,-6580.5 5645.1385,-6580.5 \" stroke=\"#000000\"/>\n",
       "<text fill=\"#000000\" font-family=\"Times,serif\" font-size=\"14.00\" text-anchor=\"middle\" x=\"5617.6385\" y=\"-6565.3\">output:</text>\n",
       "<polyline fill=\"none\" points=\"5645.1385,-6557.5 5645.1385,-6603.5 \" stroke=\"#000000\"/>\n",
       "<text fill=\"#000000\" font-family=\"Times,serif\" font-size=\"14.00\" text-anchor=\"middle\" x=\"5710.6385\" y=\"-6588.3\">(None, 256, 256, 64)</text>\n",
       "<polyline fill=\"none\" points=\"5645.1385,-6580.5 5776.1385,-6580.5 \" stroke=\"#000000\"/>\n",
       "<text fill=\"#000000\" font-family=\"Times,serif\" font-size=\"14.00\" text-anchor=\"middle\" x=\"5710.6385\" y=\"-6565.3\">(None, 256, 256, 64)</text>\n",
       "</g>\n",
       "<!-- 140235549345488&#45;&gt;140228067165136 -->\n",
       "<g class=\"edge\" id=\"edge2\">\n",
       "<title>140235549345488-&gt;140228067165136</title>\n",
       "<path d=\"M5609.1385,-6640.3799C5609.1385,-6632.1745 5609.1385,-6622.7679 5609.1385,-6613.8786\" fill=\"none\" stroke=\"#000000\"/>\n",
       "<polygon fill=\"#000000\" points=\"5612.6386,-6613.784 5609.1385,-6603.784 5605.6386,-6613.784 5612.6386,-6613.784\" stroke=\"#000000\"/>\n",
       "</g>\n",
       "<!-- 140228067046032 -->\n",
       "<g class=\"node\" id=\"node4\">\n",
       "<title>140228067046032</title>\n",
       "<polygon fill=\"none\" points=\"5443.1385,-6474.5 5443.1385,-6520.5 5775.1385,-6520.5 5775.1385,-6474.5 5443.1385,-6474.5\" stroke=\"#000000\"/>\n",
       "<text fill=\"#000000\" font-family=\"Times,serif\" font-size=\"14.00\" text-anchor=\"middle\" x=\"5516.1385\" y=\"-6493.8\">block1_conv2: Conv2D</text>\n",
       "<polyline fill=\"none\" points=\"5589.1385,-6474.5 5589.1385,-6520.5 \" stroke=\"#000000\"/>\n",
       "<text fill=\"#000000\" font-family=\"Times,serif\" font-size=\"14.00\" text-anchor=\"middle\" x=\"5616.6385\" y=\"-6505.3\">input:</text>\n",
       "<polyline fill=\"none\" points=\"5589.1385,-6497.5 5644.1385,-6497.5 \" stroke=\"#000000\"/>\n",
       "<text fill=\"#000000\" font-family=\"Times,serif\" font-size=\"14.00\" text-anchor=\"middle\" x=\"5616.6385\" y=\"-6482.3\">output:</text>\n",
       "<polyline fill=\"none\" points=\"5644.1385,-6474.5 5644.1385,-6520.5 \" stroke=\"#000000\"/>\n",
       "<text fill=\"#000000\" font-family=\"Times,serif\" font-size=\"14.00\" text-anchor=\"middle\" x=\"5709.6385\" y=\"-6505.3\">(None, 256, 256, 64)</text>\n",
       "<polyline fill=\"none\" points=\"5644.1385,-6497.5 5775.1385,-6497.5 \" stroke=\"#000000\"/>\n",
       "<text fill=\"#000000\" font-family=\"Times,serif\" font-size=\"14.00\" text-anchor=\"middle\" x=\"5709.6385\" y=\"-6482.3\">(None, 256, 256, 64)</text>\n",
       "</g>\n",
       "<!-- 140228067165136&#45;&gt;140228067046032 -->\n",
       "<g class=\"edge\" id=\"edge3\">\n",
       "<title>140228067165136-&gt;140228067046032</title>\n",
       "<path d=\"M5609.1385,-6557.3799C5609.1385,-6549.1745 5609.1385,-6539.7679 5609.1385,-6530.8786\" fill=\"none\" stroke=\"#000000\"/>\n",
       "<polygon fill=\"#000000\" points=\"5612.6386,-6530.784 5609.1385,-6520.784 5605.6386,-6530.784 5612.6386,-6530.784\" stroke=\"#000000\"/>\n",
       "</g>\n",
       "<!-- 140228067046736 -->\n",
       "<g class=\"node\" id=\"node5\">\n",
       "<title>140228067046736</title>\n",
       "<polygon fill=\"none\" points=\"5442.1385,-6391.5 5442.1385,-6437.5 5776.1385,-6437.5 5776.1385,-6391.5 5442.1385,-6391.5\" stroke=\"#000000\"/>\n",
       "<text fill=\"#000000\" font-family=\"Times,serif\" font-size=\"14.00\" text-anchor=\"middle\" x=\"5516.1385\" y=\"-6410.8\">activation_2: Activation</text>\n",
       "<polyline fill=\"none\" points=\"5590.1385,-6391.5 5590.1385,-6437.5 \" stroke=\"#000000\"/>\n",
       "<text fill=\"#000000\" font-family=\"Times,serif\" font-size=\"14.00\" text-anchor=\"middle\" x=\"5617.6385\" y=\"-6422.3\">input:</text>\n",
       "<polyline fill=\"none\" points=\"5590.1385,-6414.5 5645.1385,-6414.5 \" stroke=\"#000000\"/>\n",
       "<text fill=\"#000000\" font-family=\"Times,serif\" font-size=\"14.00\" text-anchor=\"middle\" x=\"5617.6385\" y=\"-6399.3\">output:</text>\n",
       "<polyline fill=\"none\" points=\"5645.1385,-6391.5 5645.1385,-6437.5 \" stroke=\"#000000\"/>\n",
       "<text fill=\"#000000\" font-family=\"Times,serif\" font-size=\"14.00\" text-anchor=\"middle\" x=\"5710.6385\" y=\"-6422.3\">(None, 256, 256, 64)</text>\n",
       "<polyline fill=\"none\" points=\"5645.1385,-6414.5 5776.1385,-6414.5 \" stroke=\"#000000\"/>\n",
       "<text fill=\"#000000\" font-family=\"Times,serif\" font-size=\"14.00\" text-anchor=\"middle\" x=\"5710.6385\" y=\"-6399.3\">(None, 256, 256, 64)</text>\n",
       "</g>\n",
       "<!-- 140228067046032&#45;&gt;140228067046736 -->\n",
       "<g class=\"edge\" id=\"edge4\">\n",
       "<title>140228067046032-&gt;140228067046736</title>\n",
       "<path d=\"M5609.1385,-6474.3799C5609.1385,-6466.1745 5609.1385,-6456.7679 5609.1385,-6447.8786\" fill=\"none\" stroke=\"#000000\"/>\n",
       "<polygon fill=\"#000000\" points=\"5612.6386,-6447.784 5609.1385,-6437.784 5605.6386,-6447.784 5612.6386,-6447.784\" stroke=\"#000000\"/>\n",
       "</g>\n",
       "<!-- 140228067180432 -->\n",
       "<g class=\"node\" id=\"node6\">\n",
       "<title>140228067180432</title>\n",
       "<polygon fill=\"none\" points=\"5399.6385,-6308.5 5399.6385,-6354.5 5818.6385,-6354.5 5818.6385,-6308.5 5399.6385,-6308.5\" stroke=\"#000000\"/>\n",
       "<text fill=\"#000000\" font-family=\"Times,serif\" font-size=\"14.00\" text-anchor=\"middle\" x=\"5516.1385\" y=\"-6327.8\">block1_reduction_pool: MaxPooling2D</text>\n",
       "<polyline fill=\"none\" points=\"5632.6385,-6308.5 5632.6385,-6354.5 \" stroke=\"#000000\"/>\n",
       "<text fill=\"#000000\" font-family=\"Times,serif\" font-size=\"14.00\" text-anchor=\"middle\" x=\"5660.1385\" y=\"-6339.3\">input:</text>\n",
       "<polyline fill=\"none\" points=\"5632.6385,-6331.5 5687.6385,-6331.5 \" stroke=\"#000000\"/>\n",
       "<text fill=\"#000000\" font-family=\"Times,serif\" font-size=\"14.00\" text-anchor=\"middle\" x=\"5660.1385\" y=\"-6316.3\">output:</text>\n",
       "<polyline fill=\"none\" points=\"5687.6385,-6308.5 5687.6385,-6354.5 \" stroke=\"#000000\"/>\n",
       "<text fill=\"#000000\" font-family=\"Times,serif\" font-size=\"14.00\" text-anchor=\"middle\" x=\"5753.1385\" y=\"-6339.3\">(None, 256, 256, 64)</text>\n",
       "<polyline fill=\"none\" points=\"5687.6385,-6331.5 5818.6385,-6331.5 \" stroke=\"#000000\"/>\n",
       "<text fill=\"#000000\" font-family=\"Times,serif\" font-size=\"14.00\" text-anchor=\"middle\" x=\"5753.1385\" y=\"-6316.3\">(None, 128, 128, 64)</text>\n",
       "</g>\n",
       "<!-- 140228067046736&#45;&gt;140228067180432 -->\n",
       "<g class=\"edge\" id=\"edge5\">\n",
       "<title>140228067046736-&gt;140228067180432</title>\n",
       "<path d=\"M5609.1385,-6391.3799C5609.1385,-6383.1745 5609.1385,-6373.7679 5609.1385,-6364.8786\" fill=\"none\" stroke=\"#000000\"/>\n",
       "<polygon fill=\"#000000\" points=\"5612.6386,-6364.784 5609.1385,-6354.784 5605.6386,-6364.784 5612.6386,-6364.784\" stroke=\"#000000\"/>\n",
       "</g>\n",
       "<!-- 140228066901328 -->\n",
       "<g class=\"node\" id=\"node7\">\n",
       "<title>140228066901328</title>\n",
       "<polygon fill=\"none\" points=\"5442.1385,-6225.5 5442.1385,-6271.5 5776.1385,-6271.5 5776.1385,-6225.5 5442.1385,-6225.5\" stroke=\"#000000\"/>\n",
       "<text fill=\"#000000\" font-family=\"Times,serif\" font-size=\"14.00\" text-anchor=\"middle\" x=\"5516.1385\" y=\"-6244.8\">activation_3: Activation</text>\n",
       "<polyline fill=\"none\" points=\"5590.1385,-6225.5 5590.1385,-6271.5 \" stroke=\"#000000\"/>\n",
       "<text fill=\"#000000\" font-family=\"Times,serif\" font-size=\"14.00\" text-anchor=\"middle\" x=\"5617.6385\" y=\"-6256.3\">input:</text>\n",
       "<polyline fill=\"none\" points=\"5590.1385,-6248.5 5645.1385,-6248.5 \" stroke=\"#000000\"/>\n",
       "<text fill=\"#000000\" font-family=\"Times,serif\" font-size=\"14.00\" text-anchor=\"middle\" x=\"5617.6385\" y=\"-6233.3\">output:</text>\n",
       "<polyline fill=\"none\" points=\"5645.1385,-6225.5 5645.1385,-6271.5 \" stroke=\"#000000\"/>\n",
       "<text fill=\"#000000\" font-family=\"Times,serif\" font-size=\"14.00\" text-anchor=\"middle\" x=\"5710.6385\" y=\"-6256.3\">(None, 128, 128, 64)</text>\n",
       "<polyline fill=\"none\" points=\"5645.1385,-6248.5 5776.1385,-6248.5 \" stroke=\"#000000\"/>\n",
       "<text fill=\"#000000\" font-family=\"Times,serif\" font-size=\"14.00\" text-anchor=\"middle\" x=\"5710.6385\" y=\"-6233.3\">(None, 128, 128, 64)</text>\n",
       "</g>\n",
       "<!-- 140228067180432&#45;&gt;140228066901328 -->\n",
       "<g class=\"edge\" id=\"edge6\">\n",
       "<title>140228067180432-&gt;140228066901328</title>\n",
       "<path d=\"M5609.1385,-6308.3799C5609.1385,-6300.1745 5609.1385,-6290.7679 5609.1385,-6281.8786\" fill=\"none\" stroke=\"#000000\"/>\n",
       "<polygon fill=\"#000000\" points=\"5612.6386,-6281.784 5609.1385,-6271.784 5605.6386,-6281.784 5612.6386,-6281.784\" stroke=\"#000000\"/>\n",
       "</g>\n",
       "<!-- 140228066901584 -->\n",
       "<g class=\"node\" id=\"node8\">\n",
       "<title>140228066901584</title>\n",
       "<polygon fill=\"none\" points=\"5386.1385,-6142.5 5386.1385,-6188.5 5832.1385,-6188.5 5832.1385,-6142.5 5386.1385,-6142.5\" stroke=\"#000000\"/>\n",
       "<text fill=\"#000000\" font-family=\"Times,serif\" font-size=\"14.00\" text-anchor=\"middle\" x=\"5516.1385\" y=\"-6161.8\">batch_normalization_1: BatchNormalization</text>\n",
       "<polyline fill=\"none\" points=\"5646.1385,-6142.5 5646.1385,-6188.5 \" stroke=\"#000000\"/>\n",
       "<text fill=\"#000000\" font-family=\"Times,serif\" font-size=\"14.00\" text-anchor=\"middle\" x=\"5673.6385\" y=\"-6173.3\">input:</text>\n",
       "<polyline fill=\"none\" points=\"5646.1385,-6165.5 5701.1385,-6165.5 \" stroke=\"#000000\"/>\n",
       "<text fill=\"#000000\" font-family=\"Times,serif\" font-size=\"14.00\" text-anchor=\"middle\" x=\"5673.6385\" y=\"-6150.3\">output:</text>\n",
       "<polyline fill=\"none\" points=\"5701.1385,-6142.5 5701.1385,-6188.5 \" stroke=\"#000000\"/>\n",
       "<text fill=\"#000000\" font-family=\"Times,serif\" font-size=\"14.00\" text-anchor=\"middle\" x=\"5766.6385\" y=\"-6173.3\">(None, 128, 128, 64)</text>\n",
       "<polyline fill=\"none\" points=\"5701.1385,-6165.5 5832.1385,-6165.5 \" stroke=\"#000000\"/>\n",
       "<text fill=\"#000000\" font-family=\"Times,serif\" font-size=\"14.00\" text-anchor=\"middle\" x=\"5766.6385\" y=\"-6150.3\">(None, 128, 128, 64)</text>\n",
       "</g>\n",
       "<!-- 140228066901328&#45;&gt;140228066901584 -->\n",
       "<g class=\"edge\" id=\"edge7\">\n",
       "<title>140228066901328-&gt;140228066901584</title>\n",
       "<path d=\"M5609.1385,-6225.3799C5609.1385,-6217.1745 5609.1385,-6207.7679 5609.1385,-6198.8786\" fill=\"none\" stroke=\"#000000\"/>\n",
       "<polygon fill=\"#000000\" points=\"5612.6386,-6198.784 5609.1385,-6188.784 5605.6386,-6198.784 5612.6386,-6198.784\" stroke=\"#000000\"/>\n",
       "</g>\n",
       "<!-- 140228068807120 -->\n",
       "<g class=\"node\" id=\"node9\">\n",
       "<title>140228068807120</title>\n",
       "<polygon fill=\"none\" points=\"5439.6385,-6059.5 5439.6385,-6105.5 5778.6385,-6105.5 5778.6385,-6059.5 5439.6385,-6059.5\" stroke=\"#000000\"/>\n",
       "<text fill=\"#000000\" font-family=\"Times,serif\" font-size=\"14.00\" text-anchor=\"middle\" x=\"5512.6385\" y=\"-6078.8\">block2_conv1: Conv2D</text>\n",
       "<polyline fill=\"none\" points=\"5585.6385,-6059.5 5585.6385,-6105.5 \" stroke=\"#000000\"/>\n",
       "<text fill=\"#000000\" font-family=\"Times,serif\" font-size=\"14.00\" text-anchor=\"middle\" x=\"5613.1385\" y=\"-6090.3\">input:</text>\n",
       "<polyline fill=\"none\" points=\"5585.6385,-6082.5 5640.6385,-6082.5 \" stroke=\"#000000\"/>\n",
       "<text fill=\"#000000\" font-family=\"Times,serif\" font-size=\"14.00\" text-anchor=\"middle\" x=\"5613.1385\" y=\"-6067.3\">output:</text>\n",
       "<polyline fill=\"none\" points=\"5640.6385,-6059.5 5640.6385,-6105.5 \" stroke=\"#000000\"/>\n",
       "<text fill=\"#000000\" font-family=\"Times,serif\" font-size=\"14.00\" text-anchor=\"middle\" x=\"5709.6385\" y=\"-6090.3\">(None, 128, 128, 64)</text>\n",
       "<polyline fill=\"none\" points=\"5640.6385,-6082.5 5778.6385,-6082.5 \" stroke=\"#000000\"/>\n",
       "<text fill=\"#000000\" font-family=\"Times,serif\" font-size=\"14.00\" text-anchor=\"middle\" x=\"5709.6385\" y=\"-6067.3\">(None, 128, 128, 128)</text>\n",
       "</g>\n",
       "<!-- 140228066901584&#45;&gt;140228068807120 -->\n",
       "<g class=\"edge\" id=\"edge8\">\n",
       "<title>140228066901584-&gt;140228068807120</title>\n",
       "<path d=\"M5609.1385,-6142.3799C5609.1385,-6134.1745 5609.1385,-6124.7679 5609.1385,-6115.8786\" fill=\"none\" stroke=\"#000000\"/>\n",
       "<polygon fill=\"#000000\" points=\"5612.6386,-6115.784 5609.1385,-6105.784 5605.6386,-6115.784 5612.6386,-6115.784\" stroke=\"#000000\"/>\n",
       "</g>\n",
       "<!-- 140228066625744 -->\n",
       "<g class=\"node\" id=\"node10\">\n",
       "<title>140228066625744</title>\n",
       "<polygon fill=\"none\" points=\"5438.6385,-5976.5 5438.6385,-6022.5 5779.6385,-6022.5 5779.6385,-5976.5 5438.6385,-5976.5\" stroke=\"#000000\"/>\n",
       "<text fill=\"#000000\" font-family=\"Times,serif\" font-size=\"14.00\" text-anchor=\"middle\" x=\"5512.6385\" y=\"-5995.8\">activation_4: Activation</text>\n",
       "<polyline fill=\"none\" points=\"5586.6385,-5976.5 5586.6385,-6022.5 \" stroke=\"#000000\"/>\n",
       "<text fill=\"#000000\" font-family=\"Times,serif\" font-size=\"14.00\" text-anchor=\"middle\" x=\"5614.1385\" y=\"-6007.3\">input:</text>\n",
       "<polyline fill=\"none\" points=\"5586.6385,-5999.5 5641.6385,-5999.5 \" stroke=\"#000000\"/>\n",
       "<text fill=\"#000000\" font-family=\"Times,serif\" font-size=\"14.00\" text-anchor=\"middle\" x=\"5614.1385\" y=\"-5984.3\">output:</text>\n",
       "<polyline fill=\"none\" points=\"5641.6385,-5976.5 5641.6385,-6022.5 \" stroke=\"#000000\"/>\n",
       "<text fill=\"#000000\" font-family=\"Times,serif\" font-size=\"14.00\" text-anchor=\"middle\" x=\"5710.6385\" y=\"-6007.3\">(None, 128, 128, 128)</text>\n",
       "<polyline fill=\"none\" points=\"5641.6385,-5999.5 5779.6385,-5999.5 \" stroke=\"#000000\"/>\n",
       "<text fill=\"#000000\" font-family=\"Times,serif\" font-size=\"14.00\" text-anchor=\"middle\" x=\"5710.6385\" y=\"-5984.3\">(None, 128, 128, 128)</text>\n",
       "</g>\n",
       "<!-- 140228068807120&#45;&gt;140228066625744 -->\n",
       "<g class=\"edge\" id=\"edge9\">\n",
       "<title>140228068807120-&gt;140228066625744</title>\n",
       "<path d=\"M5609.1385,-6059.3799C5609.1385,-6051.1745 5609.1385,-6041.7679 5609.1385,-6032.8786\" fill=\"none\" stroke=\"#000000\"/>\n",
       "<polygon fill=\"#000000\" points=\"5612.6386,-6032.784 5609.1385,-6022.784 5605.6386,-6032.784 5612.6386,-6032.784\" stroke=\"#000000\"/>\n",
       "</g>\n",
       "<!-- 140228878526032 -->\n",
       "<g class=\"node\" id=\"node11\">\n",
       "<title>140228878526032</title>\n",
       "<polygon fill=\"none\" points=\"5439.6385,-5893.5 5439.6385,-5939.5 5778.6385,-5939.5 5778.6385,-5893.5 5439.6385,-5893.5\" stroke=\"#000000\"/>\n",
       "<text fill=\"#000000\" font-family=\"Times,serif\" font-size=\"14.00\" text-anchor=\"middle\" x=\"5512.6385\" y=\"-5912.8\">block2_conv2: Conv2D</text>\n",
       "<polyline fill=\"none\" points=\"5585.6385,-5893.5 5585.6385,-5939.5 \" stroke=\"#000000\"/>\n",
       "<text fill=\"#000000\" font-family=\"Times,serif\" font-size=\"14.00\" text-anchor=\"middle\" x=\"5613.1385\" y=\"-5924.3\">input:</text>\n",
       "<polyline fill=\"none\" points=\"5585.6385,-5916.5 5640.6385,-5916.5 \" stroke=\"#000000\"/>\n",
       "<text fill=\"#000000\" font-family=\"Times,serif\" font-size=\"14.00\" text-anchor=\"middle\" x=\"5613.1385\" y=\"-5901.3\">output:</text>\n",
       "<polyline fill=\"none\" points=\"5640.6385,-5893.5 5640.6385,-5939.5 \" stroke=\"#000000\"/>\n",
       "<text fill=\"#000000\" font-family=\"Times,serif\" font-size=\"14.00\" text-anchor=\"middle\" x=\"5709.6385\" y=\"-5924.3\">(None, 128, 128, 128)</text>\n",
       "<polyline fill=\"none\" points=\"5640.6385,-5916.5 5778.6385,-5916.5 \" stroke=\"#000000\"/>\n",
       "<text fill=\"#000000\" font-family=\"Times,serif\" font-size=\"14.00\" text-anchor=\"middle\" x=\"5709.6385\" y=\"-5901.3\">(None, 128, 128, 128)</text>\n",
       "</g>\n",
       "<!-- 140228066625744&#45;&gt;140228878526032 -->\n",
       "<g class=\"edge\" id=\"edge10\">\n",
       "<title>140228066625744-&gt;140228878526032</title>\n",
       "<path d=\"M5609.1385,-5976.3799C5609.1385,-5968.1745 5609.1385,-5958.7679 5609.1385,-5949.8786\" fill=\"none\" stroke=\"#000000\"/>\n",
       "<polygon fill=\"#000000\" points=\"5612.6386,-5949.784 5609.1385,-5939.784 5605.6386,-5949.784 5612.6386,-5949.784\" stroke=\"#000000\"/>\n",
       "</g>\n",
       "<!-- 140228065922576 -->\n",
       "<g class=\"node\" id=\"node12\">\n",
       "<title>140228065922576</title>\n",
       "<polygon fill=\"none\" points=\"5438.6385,-5810.5 5438.6385,-5856.5 5779.6385,-5856.5 5779.6385,-5810.5 5438.6385,-5810.5\" stroke=\"#000000\"/>\n",
       "<text fill=\"#000000\" font-family=\"Times,serif\" font-size=\"14.00\" text-anchor=\"middle\" x=\"5512.6385\" y=\"-5829.8\">activation_5: Activation</text>\n",
       "<polyline fill=\"none\" points=\"5586.6385,-5810.5 5586.6385,-5856.5 \" stroke=\"#000000\"/>\n",
       "<text fill=\"#000000\" font-family=\"Times,serif\" font-size=\"14.00\" text-anchor=\"middle\" x=\"5614.1385\" y=\"-5841.3\">input:</text>\n",
       "<polyline fill=\"none\" points=\"5586.6385,-5833.5 5641.6385,-5833.5 \" stroke=\"#000000\"/>\n",
       "<text fill=\"#000000\" font-family=\"Times,serif\" font-size=\"14.00\" text-anchor=\"middle\" x=\"5614.1385\" y=\"-5818.3\">output:</text>\n",
       "<polyline fill=\"none\" points=\"5641.6385,-5810.5 5641.6385,-5856.5 \" stroke=\"#000000\"/>\n",
       "<text fill=\"#000000\" font-family=\"Times,serif\" font-size=\"14.00\" text-anchor=\"middle\" x=\"5710.6385\" y=\"-5841.3\">(None, 128, 128, 128)</text>\n",
       "<polyline fill=\"none\" points=\"5641.6385,-5833.5 5779.6385,-5833.5 \" stroke=\"#000000\"/>\n",
       "<text fill=\"#000000\" font-family=\"Times,serif\" font-size=\"14.00\" text-anchor=\"middle\" x=\"5710.6385\" y=\"-5818.3\">(None, 128, 128, 128)</text>\n",
       "</g>\n",
       "<!-- 140228878526032&#45;&gt;140228065922576 -->\n",
       "<g class=\"edge\" id=\"edge11\">\n",
       "<title>140228878526032-&gt;140228065922576</title>\n",
       "<path d=\"M5609.1385,-5893.3799C5609.1385,-5885.1745 5609.1385,-5875.7679 5609.1385,-5866.8786\" fill=\"none\" stroke=\"#000000\"/>\n",
       "<polygon fill=\"#000000\" points=\"5612.6386,-5866.784 5609.1385,-5856.784 5605.6386,-5866.784 5612.6386,-5866.784\" stroke=\"#000000\"/>\n",
       "</g>\n",
       "<!-- 140228065621712 -->\n",
       "<g class=\"node\" id=\"node13\">\n",
       "<title>140228065621712</title>\n",
       "<polygon fill=\"none\" points=\"5396.1385,-5727.5 5396.1385,-5773.5 5822.1385,-5773.5 5822.1385,-5727.5 5396.1385,-5727.5\" stroke=\"#000000\"/>\n",
       "<text fill=\"#000000\" font-family=\"Times,serif\" font-size=\"14.00\" text-anchor=\"middle\" x=\"5512.6385\" y=\"-5746.8\">block2_reduction_pool: MaxPooling2D</text>\n",
       "<polyline fill=\"none\" points=\"5629.1385,-5727.5 5629.1385,-5773.5 \" stroke=\"#000000\"/>\n",
       "<text fill=\"#000000\" font-family=\"Times,serif\" font-size=\"14.00\" text-anchor=\"middle\" x=\"5656.6385\" y=\"-5758.3\">input:</text>\n",
       "<polyline fill=\"none\" points=\"5629.1385,-5750.5 5684.1385,-5750.5 \" stroke=\"#000000\"/>\n",
       "<text fill=\"#000000\" font-family=\"Times,serif\" font-size=\"14.00\" text-anchor=\"middle\" x=\"5656.6385\" y=\"-5735.3\">output:</text>\n",
       "<polyline fill=\"none\" points=\"5684.1385,-5727.5 5684.1385,-5773.5 \" stroke=\"#000000\"/>\n",
       "<text fill=\"#000000\" font-family=\"Times,serif\" font-size=\"14.00\" text-anchor=\"middle\" x=\"5753.1385\" y=\"-5758.3\">(None, 128, 128, 128)</text>\n",
       "<polyline fill=\"none\" points=\"5684.1385,-5750.5 5822.1385,-5750.5 \" stroke=\"#000000\"/>\n",
       "<text fill=\"#000000\" font-family=\"Times,serif\" font-size=\"14.00\" text-anchor=\"middle\" x=\"5753.1385\" y=\"-5735.3\">(None, 64, 64, 128)</text>\n",
       "</g>\n",
       "<!-- 140228065922576&#45;&gt;140228065621712 -->\n",
       "<g class=\"edge\" id=\"edge12\">\n",
       "<title>140228065922576-&gt;140228065621712</title>\n",
       "<path d=\"M5609.1385,-5810.3799C5609.1385,-5802.1745 5609.1385,-5792.7679 5609.1385,-5783.8786\" fill=\"none\" stroke=\"#000000\"/>\n",
       "<polygon fill=\"#000000\" points=\"5612.6386,-5783.784 5609.1385,-5773.784 5605.6386,-5783.784 5612.6386,-5783.784\" stroke=\"#000000\"/>\n",
       "</g>\n",
       "<!-- 140228065537936 -->\n",
       "<g class=\"node\" id=\"node14\">\n",
       "<title>140228065537936</title>\n",
       "<polygon fill=\"none\" points=\"5445.1385,-5644.5 5445.1385,-5690.5 5773.1385,-5690.5 5773.1385,-5644.5 5445.1385,-5644.5\" stroke=\"#000000\"/>\n",
       "<text fill=\"#000000\" font-family=\"Times,serif\" font-size=\"14.00\" text-anchor=\"middle\" x=\"5519.1385\" y=\"-5663.8\">activation_6: Activation</text>\n",
       "<polyline fill=\"none\" points=\"5593.1385,-5644.5 5593.1385,-5690.5 \" stroke=\"#000000\"/>\n",
       "<text fill=\"#000000\" font-family=\"Times,serif\" font-size=\"14.00\" text-anchor=\"middle\" x=\"5620.6385\" y=\"-5675.3\">input:</text>\n",
       "<polyline fill=\"none\" points=\"5593.1385,-5667.5 5648.1385,-5667.5 \" stroke=\"#000000\"/>\n",
       "<text fill=\"#000000\" font-family=\"Times,serif\" font-size=\"14.00\" text-anchor=\"middle\" x=\"5620.6385\" y=\"-5652.3\">output:</text>\n",
       "<polyline fill=\"none\" points=\"5648.1385,-5644.5 5648.1385,-5690.5 \" stroke=\"#000000\"/>\n",
       "<text fill=\"#000000\" font-family=\"Times,serif\" font-size=\"14.00\" text-anchor=\"middle\" x=\"5710.6385\" y=\"-5675.3\">(None, 64, 64, 128)</text>\n",
       "<polyline fill=\"none\" points=\"5648.1385,-5667.5 5773.1385,-5667.5 \" stroke=\"#000000\"/>\n",
       "<text fill=\"#000000\" font-family=\"Times,serif\" font-size=\"14.00\" text-anchor=\"middle\" x=\"5710.6385\" y=\"-5652.3\">(None, 64, 64, 128)</text>\n",
       "</g>\n",
       "<!-- 140228065621712&#45;&gt;140228065537936 -->\n",
       "<g class=\"edge\" id=\"edge13\">\n",
       "<title>140228065621712-&gt;140228065537936</title>\n",
       "<path d=\"M5609.1385,-5727.3799C5609.1385,-5719.1745 5609.1385,-5709.7679 5609.1385,-5700.8786\" fill=\"none\" stroke=\"#000000\"/>\n",
       "<polygon fill=\"#000000\" points=\"5612.6386,-5700.784 5609.1385,-5690.784 5605.6386,-5700.784 5612.6386,-5700.784\" stroke=\"#000000\"/>\n",
       "</g>\n",
       "<!-- 140228065246032 -->\n",
       "<g class=\"node\" id=\"node15\">\n",
       "<title>140228065246032</title>\n",
       "<polygon fill=\"none\" points=\"5389.1385,-5561.5 5389.1385,-5607.5 5829.1385,-5607.5 5829.1385,-5561.5 5389.1385,-5561.5\" stroke=\"#000000\"/>\n",
       "<text fill=\"#000000\" font-family=\"Times,serif\" font-size=\"14.00\" text-anchor=\"middle\" x=\"5519.1385\" y=\"-5580.8\">batch_normalization_2: BatchNormalization</text>\n",
       "<polyline fill=\"none\" points=\"5649.1385,-5561.5 5649.1385,-5607.5 \" stroke=\"#000000\"/>\n",
       "<text fill=\"#000000\" font-family=\"Times,serif\" font-size=\"14.00\" text-anchor=\"middle\" x=\"5676.6385\" y=\"-5592.3\">input:</text>\n",
       "<polyline fill=\"none\" points=\"5649.1385,-5584.5 5704.1385,-5584.5 \" stroke=\"#000000\"/>\n",
       "<text fill=\"#000000\" font-family=\"Times,serif\" font-size=\"14.00\" text-anchor=\"middle\" x=\"5676.6385\" y=\"-5569.3\">output:</text>\n",
       "<polyline fill=\"none\" points=\"5704.1385,-5561.5 5704.1385,-5607.5 \" stroke=\"#000000\"/>\n",
       "<text fill=\"#000000\" font-family=\"Times,serif\" font-size=\"14.00\" text-anchor=\"middle\" x=\"5766.6385\" y=\"-5592.3\">(None, 64, 64, 128)</text>\n",
       "<polyline fill=\"none\" points=\"5704.1385,-5584.5 5829.1385,-5584.5 \" stroke=\"#000000\"/>\n",
       "<text fill=\"#000000\" font-family=\"Times,serif\" font-size=\"14.00\" text-anchor=\"middle\" x=\"5766.6385\" y=\"-5569.3\">(None, 64, 64, 128)</text>\n",
       "</g>\n",
       "<!-- 140228065537936&#45;&gt;140228065246032 -->\n",
       "<g class=\"edge\" id=\"edge14\">\n",
       "<title>140228065537936-&gt;140228065246032</title>\n",
       "<path d=\"M5609.1385,-5644.3799C5609.1385,-5636.1745 5609.1385,-5626.7679 5609.1385,-5617.8786\" fill=\"none\" stroke=\"#000000\"/>\n",
       "<polygon fill=\"#000000\" points=\"5612.6386,-5617.784 5609.1385,-5607.784 5605.6386,-5617.784 5612.6386,-5617.784\" stroke=\"#000000\"/>\n",
       "</g>\n",
       "<!-- 140228065247184 -->\n",
       "<g class=\"node\" id=\"node16\">\n",
       "<title>140228065247184</title>\n",
       "<polygon fill=\"none\" points=\"5446.1385,-5478.5 5446.1385,-5524.5 5772.1385,-5524.5 5772.1385,-5478.5 5446.1385,-5478.5\" stroke=\"#000000\"/>\n",
       "<text fill=\"#000000\" font-family=\"Times,serif\" font-size=\"14.00\" text-anchor=\"middle\" x=\"5519.1385\" y=\"-5497.8\">block3_conv1: Conv2D</text>\n",
       "<polyline fill=\"none\" points=\"5592.1385,-5478.5 5592.1385,-5524.5 \" stroke=\"#000000\"/>\n",
       "<text fill=\"#000000\" font-family=\"Times,serif\" font-size=\"14.00\" text-anchor=\"middle\" x=\"5619.6385\" y=\"-5509.3\">input:</text>\n",
       "<polyline fill=\"none\" points=\"5592.1385,-5501.5 5647.1385,-5501.5 \" stroke=\"#000000\"/>\n",
       "<text fill=\"#000000\" font-family=\"Times,serif\" font-size=\"14.00\" text-anchor=\"middle\" x=\"5619.6385\" y=\"-5486.3\">output:</text>\n",
       "<polyline fill=\"none\" points=\"5647.1385,-5478.5 5647.1385,-5524.5 \" stroke=\"#000000\"/>\n",
       "<text fill=\"#000000\" font-family=\"Times,serif\" font-size=\"14.00\" text-anchor=\"middle\" x=\"5709.6385\" y=\"-5509.3\">(None, 64, 64, 128)</text>\n",
       "<polyline fill=\"none\" points=\"5647.1385,-5501.5 5772.1385,-5501.5 \" stroke=\"#000000\"/>\n",
       "<text fill=\"#000000\" font-family=\"Times,serif\" font-size=\"14.00\" text-anchor=\"middle\" x=\"5709.6385\" y=\"-5486.3\">(None, 64, 64, 256)</text>\n",
       "</g>\n",
       "<!-- 140228065246032&#45;&gt;140228065247184 -->\n",
       "<g class=\"edge\" id=\"edge15\">\n",
       "<title>140228065246032-&gt;140228065247184</title>\n",
       "<path d=\"M5609.1385,-5561.3799C5609.1385,-5553.1745 5609.1385,-5543.7679 5609.1385,-5534.8786\" fill=\"none\" stroke=\"#000000\"/>\n",
       "<polygon fill=\"#000000\" points=\"5612.6386,-5534.784 5609.1385,-5524.784 5605.6386,-5534.784 5612.6386,-5534.784\" stroke=\"#000000\"/>\n",
       "</g>\n",
       "<!-- 140227452361168 -->\n",
       "<g class=\"node\" id=\"node17\">\n",
       "<title>140227452361168</title>\n",
       "<polygon fill=\"none\" points=\"5445.1385,-5395.5 5445.1385,-5441.5 5773.1385,-5441.5 5773.1385,-5395.5 5445.1385,-5395.5\" stroke=\"#000000\"/>\n",
       "<text fill=\"#000000\" font-family=\"Times,serif\" font-size=\"14.00\" text-anchor=\"middle\" x=\"5519.1385\" y=\"-5414.8\">activation_7: Activation</text>\n",
       "<polyline fill=\"none\" points=\"5593.1385,-5395.5 5593.1385,-5441.5 \" stroke=\"#000000\"/>\n",
       "<text fill=\"#000000\" font-family=\"Times,serif\" font-size=\"14.00\" text-anchor=\"middle\" x=\"5620.6385\" y=\"-5426.3\">input:</text>\n",
       "<polyline fill=\"none\" points=\"5593.1385,-5418.5 5648.1385,-5418.5 \" stroke=\"#000000\"/>\n",
       "<text fill=\"#000000\" font-family=\"Times,serif\" font-size=\"14.00\" text-anchor=\"middle\" x=\"5620.6385\" y=\"-5403.3\">output:</text>\n",
       "<polyline fill=\"none\" points=\"5648.1385,-5395.5 5648.1385,-5441.5 \" stroke=\"#000000\"/>\n",
       "<text fill=\"#000000\" font-family=\"Times,serif\" font-size=\"14.00\" text-anchor=\"middle\" x=\"5710.6385\" y=\"-5426.3\">(None, 64, 64, 256)</text>\n",
       "<polyline fill=\"none\" points=\"5648.1385,-5418.5 5773.1385,-5418.5 \" stroke=\"#000000\"/>\n",
       "<text fill=\"#000000\" font-family=\"Times,serif\" font-size=\"14.00\" text-anchor=\"middle\" x=\"5710.6385\" y=\"-5403.3\">(None, 64, 64, 256)</text>\n",
       "</g>\n",
       "<!-- 140228065247184&#45;&gt;140227452361168 -->\n",
       "<g class=\"edge\" id=\"edge16\">\n",
       "<title>140228065247184-&gt;140227452361168</title>\n",
       "<path d=\"M5609.1385,-5478.3799C5609.1385,-5470.1745 5609.1385,-5460.7679 5609.1385,-5451.8786\" fill=\"none\" stroke=\"#000000\"/>\n",
       "<polygon fill=\"#000000\" points=\"5612.6386,-5451.784 5609.1385,-5441.784 5605.6386,-5451.784 5612.6386,-5451.784\" stroke=\"#000000\"/>\n",
       "</g>\n",
       "<!-- 140227452361808 -->\n",
       "<g class=\"node\" id=\"node18\">\n",
       "<title>140227452361808</title>\n",
       "<polygon fill=\"none\" points=\"5446.1385,-5312.5 5446.1385,-5358.5 5772.1385,-5358.5 5772.1385,-5312.5 5446.1385,-5312.5\" stroke=\"#000000\"/>\n",
       "<text fill=\"#000000\" font-family=\"Times,serif\" font-size=\"14.00\" text-anchor=\"middle\" x=\"5519.1385\" y=\"-5331.8\">block3_conv2: Conv2D</text>\n",
       "<polyline fill=\"none\" points=\"5592.1385,-5312.5 5592.1385,-5358.5 \" stroke=\"#000000\"/>\n",
       "<text fill=\"#000000\" font-family=\"Times,serif\" font-size=\"14.00\" text-anchor=\"middle\" x=\"5619.6385\" y=\"-5343.3\">input:</text>\n",
       "<polyline fill=\"none\" points=\"5592.1385,-5335.5 5647.1385,-5335.5 \" stroke=\"#000000\"/>\n",
       "<text fill=\"#000000\" font-family=\"Times,serif\" font-size=\"14.00\" text-anchor=\"middle\" x=\"5619.6385\" y=\"-5320.3\">output:</text>\n",
       "<polyline fill=\"none\" points=\"5647.1385,-5312.5 5647.1385,-5358.5 \" stroke=\"#000000\"/>\n",
       "<text fill=\"#000000\" font-family=\"Times,serif\" font-size=\"14.00\" text-anchor=\"middle\" x=\"5709.6385\" y=\"-5343.3\">(None, 64, 64, 256)</text>\n",
       "<polyline fill=\"none\" points=\"5647.1385,-5335.5 5772.1385,-5335.5 \" stroke=\"#000000\"/>\n",
       "<text fill=\"#000000\" font-family=\"Times,serif\" font-size=\"14.00\" text-anchor=\"middle\" x=\"5709.6385\" y=\"-5320.3\">(None, 64, 64, 256)</text>\n",
       "</g>\n",
       "<!-- 140227452361168&#45;&gt;140227452361808 -->\n",
       "<g class=\"edge\" id=\"edge17\">\n",
       "<title>140227452361168-&gt;140227452361808</title>\n",
       "<path d=\"M5609.1385,-5395.3799C5609.1385,-5387.1745 5609.1385,-5377.7679 5609.1385,-5368.8786\" fill=\"none\" stroke=\"#000000\"/>\n",
       "<polygon fill=\"#000000\" points=\"5612.6386,-5368.784 5609.1385,-5358.784 5605.6386,-5368.784 5612.6386,-5368.784\" stroke=\"#000000\"/>\n",
       "</g>\n",
       "<!-- 140227451905296 -->\n",
       "<g class=\"node\" id=\"node19\">\n",
       "<title>140227451905296</title>\n",
       "<polygon fill=\"none\" points=\"5445.1385,-5229.5 5445.1385,-5275.5 5773.1385,-5275.5 5773.1385,-5229.5 5445.1385,-5229.5\" stroke=\"#000000\"/>\n",
       "<text fill=\"#000000\" font-family=\"Times,serif\" font-size=\"14.00\" text-anchor=\"middle\" x=\"5519.1385\" y=\"-5248.8\">activation_8: Activation</text>\n",
       "<polyline fill=\"none\" points=\"5593.1385,-5229.5 5593.1385,-5275.5 \" stroke=\"#000000\"/>\n",
       "<text fill=\"#000000\" font-family=\"Times,serif\" font-size=\"14.00\" text-anchor=\"middle\" x=\"5620.6385\" y=\"-5260.3\">input:</text>\n",
       "<polyline fill=\"none\" points=\"5593.1385,-5252.5 5648.1385,-5252.5 \" stroke=\"#000000\"/>\n",
       "<text fill=\"#000000\" font-family=\"Times,serif\" font-size=\"14.00\" text-anchor=\"middle\" x=\"5620.6385\" y=\"-5237.3\">output:</text>\n",
       "<polyline fill=\"none\" points=\"5648.1385,-5229.5 5648.1385,-5275.5 \" stroke=\"#000000\"/>\n",
       "<text fill=\"#000000\" font-family=\"Times,serif\" font-size=\"14.00\" text-anchor=\"middle\" x=\"5710.6385\" y=\"-5260.3\">(None, 64, 64, 256)</text>\n",
       "<polyline fill=\"none\" points=\"5648.1385,-5252.5 5773.1385,-5252.5 \" stroke=\"#000000\"/>\n",
       "<text fill=\"#000000\" font-family=\"Times,serif\" font-size=\"14.00\" text-anchor=\"middle\" x=\"5710.6385\" y=\"-5237.3\">(None, 64, 64, 256)</text>\n",
       "</g>\n",
       "<!-- 140227452361808&#45;&gt;140227451905296 -->\n",
       "<g class=\"edge\" id=\"edge18\">\n",
       "<title>140227452361808-&gt;140227451905296</title>\n",
       "<path d=\"M5609.1385,-5312.3799C5609.1385,-5304.1745 5609.1385,-5294.7679 5609.1385,-5285.8786\" fill=\"none\" stroke=\"#000000\"/>\n",
       "<polygon fill=\"#000000\" points=\"5612.6386,-5285.784 5609.1385,-5275.784 5605.6386,-5285.784 5612.6386,-5285.784\" stroke=\"#000000\"/>\n",
       "</g>\n",
       "<!-- 140227451906256 -->\n",
       "<g class=\"node\" id=\"node20\">\n",
       "<title>140227451906256</title>\n",
       "<polygon fill=\"none\" points=\"5446.1385,-5146.5 5446.1385,-5192.5 5772.1385,-5192.5 5772.1385,-5146.5 5446.1385,-5146.5\" stroke=\"#000000\"/>\n",
       "<text fill=\"#000000\" font-family=\"Times,serif\" font-size=\"14.00\" text-anchor=\"middle\" x=\"5519.1385\" y=\"-5165.8\">block3_conv3: Conv2D</text>\n",
       "<polyline fill=\"none\" points=\"5592.1385,-5146.5 5592.1385,-5192.5 \" stroke=\"#000000\"/>\n",
       "<text fill=\"#000000\" font-family=\"Times,serif\" font-size=\"14.00\" text-anchor=\"middle\" x=\"5619.6385\" y=\"-5177.3\">input:</text>\n",
       "<polyline fill=\"none\" points=\"5592.1385,-5169.5 5647.1385,-5169.5 \" stroke=\"#000000\"/>\n",
       "<text fill=\"#000000\" font-family=\"Times,serif\" font-size=\"14.00\" text-anchor=\"middle\" x=\"5619.6385\" y=\"-5154.3\">output:</text>\n",
       "<polyline fill=\"none\" points=\"5647.1385,-5146.5 5647.1385,-5192.5 \" stroke=\"#000000\"/>\n",
       "<text fill=\"#000000\" font-family=\"Times,serif\" font-size=\"14.00\" text-anchor=\"middle\" x=\"5709.6385\" y=\"-5177.3\">(None, 64, 64, 256)</text>\n",
       "<polyline fill=\"none\" points=\"5647.1385,-5169.5 5772.1385,-5169.5 \" stroke=\"#000000\"/>\n",
       "<text fill=\"#000000\" font-family=\"Times,serif\" font-size=\"14.00\" text-anchor=\"middle\" x=\"5709.6385\" y=\"-5154.3\">(None, 64, 64, 256)</text>\n",
       "</g>\n",
       "<!-- 140227451905296&#45;&gt;140227451906256 -->\n",
       "<g class=\"edge\" id=\"edge19\">\n",
       "<title>140227451905296-&gt;140227451906256</title>\n",
       "<path d=\"M5609.1385,-5229.3799C5609.1385,-5221.1745 5609.1385,-5211.7679 5609.1385,-5202.8786\" fill=\"none\" stroke=\"#000000\"/>\n",
       "<polygon fill=\"#000000\" points=\"5612.6386,-5202.784 5609.1385,-5192.784 5605.6386,-5202.784 5612.6386,-5202.784\" stroke=\"#000000\"/>\n",
       "</g>\n",
       "<!-- 140227451408208 -->\n",
       "<g class=\"node\" id=\"node21\">\n",
       "<title>140227451408208</title>\n",
       "<polygon fill=\"none\" points=\"5445.1385,-5063.5 5445.1385,-5109.5 5773.1385,-5109.5 5773.1385,-5063.5 5445.1385,-5063.5\" stroke=\"#000000\"/>\n",
       "<text fill=\"#000000\" font-family=\"Times,serif\" font-size=\"14.00\" text-anchor=\"middle\" x=\"5519.1385\" y=\"-5082.8\">activation_9: Activation</text>\n",
       "<polyline fill=\"none\" points=\"5593.1385,-5063.5 5593.1385,-5109.5 \" stroke=\"#000000\"/>\n",
       "<text fill=\"#000000\" font-family=\"Times,serif\" font-size=\"14.00\" text-anchor=\"middle\" x=\"5620.6385\" y=\"-5094.3\">input:</text>\n",
       "<polyline fill=\"none\" points=\"5593.1385,-5086.5 5648.1385,-5086.5 \" stroke=\"#000000\"/>\n",
       "<text fill=\"#000000\" font-family=\"Times,serif\" font-size=\"14.00\" text-anchor=\"middle\" x=\"5620.6385\" y=\"-5071.3\">output:</text>\n",
       "<polyline fill=\"none\" points=\"5648.1385,-5063.5 5648.1385,-5109.5 \" stroke=\"#000000\"/>\n",
       "<text fill=\"#000000\" font-family=\"Times,serif\" font-size=\"14.00\" text-anchor=\"middle\" x=\"5710.6385\" y=\"-5094.3\">(None, 64, 64, 256)</text>\n",
       "<polyline fill=\"none\" points=\"5648.1385,-5086.5 5773.1385,-5086.5 \" stroke=\"#000000\"/>\n",
       "<text fill=\"#000000\" font-family=\"Times,serif\" font-size=\"14.00\" text-anchor=\"middle\" x=\"5710.6385\" y=\"-5071.3\">(None, 64, 64, 256)</text>\n",
       "</g>\n",
       "<!-- 140227451906256&#45;&gt;140227451408208 -->\n",
       "<g class=\"edge\" id=\"edge20\">\n",
       "<title>140227451906256-&gt;140227451408208</title>\n",
       "<path d=\"M5609.1385,-5146.3799C5609.1385,-5138.1745 5609.1385,-5128.7679 5609.1385,-5119.8786\" fill=\"none\" stroke=\"#000000\"/>\n",
       "<polygon fill=\"#000000\" points=\"5612.6386,-5119.784 5609.1385,-5109.784 5605.6386,-5119.784 5612.6386,-5119.784\" stroke=\"#000000\"/>\n",
       "</g>\n",
       "<!-- 140227451336912 -->\n",
       "<g class=\"node\" id=\"node22\">\n",
       "<title>140227451336912</title>\n",
       "<polygon fill=\"none\" points=\"5402.6385,-4980.5 5402.6385,-5026.5 5815.6385,-5026.5 5815.6385,-4980.5 5402.6385,-4980.5\" stroke=\"#000000\"/>\n",
       "<text fill=\"#000000\" font-family=\"Times,serif\" font-size=\"14.00\" text-anchor=\"middle\" x=\"5519.1385\" y=\"-4999.8\">block3_reduction_pool: MaxPooling2D</text>\n",
       "<polyline fill=\"none\" points=\"5635.6385,-4980.5 5635.6385,-5026.5 \" stroke=\"#000000\"/>\n",
       "<text fill=\"#000000\" font-family=\"Times,serif\" font-size=\"14.00\" text-anchor=\"middle\" x=\"5663.1385\" y=\"-5011.3\">input:</text>\n",
       "<polyline fill=\"none\" points=\"5635.6385,-5003.5 5690.6385,-5003.5 \" stroke=\"#000000\"/>\n",
       "<text fill=\"#000000\" font-family=\"Times,serif\" font-size=\"14.00\" text-anchor=\"middle\" x=\"5663.1385\" y=\"-4988.3\">output:</text>\n",
       "<polyline fill=\"none\" points=\"5690.6385,-4980.5 5690.6385,-5026.5 \" stroke=\"#000000\"/>\n",
       "<text fill=\"#000000\" font-family=\"Times,serif\" font-size=\"14.00\" text-anchor=\"middle\" x=\"5753.1385\" y=\"-5011.3\">(None, 64, 64, 256)</text>\n",
       "<polyline fill=\"none\" points=\"5690.6385,-5003.5 5815.6385,-5003.5 \" stroke=\"#000000\"/>\n",
       "<text fill=\"#000000\" font-family=\"Times,serif\" font-size=\"14.00\" text-anchor=\"middle\" x=\"5753.1385\" y=\"-4988.3\">(None, 32, 32, 256)</text>\n",
       "</g>\n",
       "<!-- 140227451408208&#45;&gt;140227451336912 -->\n",
       "<g class=\"edge\" id=\"edge21\">\n",
       "<title>140227451408208-&gt;140227451336912</title>\n",
       "<path d=\"M5609.1385,-5063.3799C5609.1385,-5055.1745 5609.1385,-5045.7679 5609.1385,-5036.8786\" fill=\"none\" stroke=\"#000000\"/>\n",
       "<polygon fill=\"#000000\" points=\"5612.6386,-5036.784 5609.1385,-5026.784 5605.6386,-5036.784 5612.6386,-5036.784\" stroke=\"#000000\"/>\n",
       "</g>\n",
       "<!-- 140227451335056 -->\n",
       "<g class=\"node\" id=\"node23\">\n",
       "<title>140227451335056</title>\n",
       "<polygon fill=\"none\" points=\"5441.6385,-4897.5 5441.6385,-4943.5 5776.6385,-4943.5 5776.6385,-4897.5 5441.6385,-4897.5\" stroke=\"#000000\"/>\n",
       "<text fill=\"#000000\" font-family=\"Times,serif\" font-size=\"14.00\" text-anchor=\"middle\" x=\"5519.1385\" y=\"-4916.8\">activation_10: Activation</text>\n",
       "<polyline fill=\"none\" points=\"5596.6385,-4897.5 5596.6385,-4943.5 \" stroke=\"#000000\"/>\n",
       "<text fill=\"#000000\" font-family=\"Times,serif\" font-size=\"14.00\" text-anchor=\"middle\" x=\"5624.1385\" y=\"-4928.3\">input:</text>\n",
       "<polyline fill=\"none\" points=\"5596.6385,-4920.5 5651.6385,-4920.5 \" stroke=\"#000000\"/>\n",
       "<text fill=\"#000000\" font-family=\"Times,serif\" font-size=\"14.00\" text-anchor=\"middle\" x=\"5624.1385\" y=\"-4905.3\">output:</text>\n",
       "<polyline fill=\"none\" points=\"5651.6385,-4897.5 5651.6385,-4943.5 \" stroke=\"#000000\"/>\n",
       "<text fill=\"#000000\" font-family=\"Times,serif\" font-size=\"14.00\" text-anchor=\"middle\" x=\"5714.1385\" y=\"-4928.3\">(None, 32, 32, 256)</text>\n",
       "<polyline fill=\"none\" points=\"5651.6385,-4920.5 5776.6385,-4920.5 \" stroke=\"#000000\"/>\n",
       "<text fill=\"#000000\" font-family=\"Times,serif\" font-size=\"14.00\" text-anchor=\"middle\" x=\"5714.1385\" y=\"-4905.3\">(None, 32, 32, 256)</text>\n",
       "</g>\n",
       "<!-- 140227451336912&#45;&gt;140227451335056 -->\n",
       "<g class=\"edge\" id=\"edge22\">\n",
       "<title>140227451336912-&gt;140227451335056</title>\n",
       "<path d=\"M5609.1385,-4980.3799C5609.1385,-4972.1745 5609.1385,-4962.7679 5609.1385,-4953.8786\" fill=\"none\" stroke=\"#000000\"/>\n",
       "<polygon fill=\"#000000\" points=\"5612.6386,-4953.784 5609.1385,-4943.784 5605.6386,-4953.784 5612.6386,-4953.784\" stroke=\"#000000\"/>\n",
       "</g>\n",
       "<!-- 140227451543120 -->\n",
       "<g class=\"node\" id=\"node24\">\n",
       "<title>140227451543120</title>\n",
       "<polygon fill=\"none\" points=\"5389.1385,-4814.5 5389.1385,-4860.5 5829.1385,-4860.5 5829.1385,-4814.5 5389.1385,-4814.5\" stroke=\"#000000\"/>\n",
       "<text fill=\"#000000\" font-family=\"Times,serif\" font-size=\"14.00\" text-anchor=\"middle\" x=\"5519.1385\" y=\"-4833.8\">batch_normalization_3: BatchNormalization</text>\n",
       "<polyline fill=\"none\" points=\"5649.1385,-4814.5 5649.1385,-4860.5 \" stroke=\"#000000\"/>\n",
       "<text fill=\"#000000\" font-family=\"Times,serif\" font-size=\"14.00\" text-anchor=\"middle\" x=\"5676.6385\" y=\"-4845.3\">input:</text>\n",
       "<polyline fill=\"none\" points=\"5649.1385,-4837.5 5704.1385,-4837.5 \" stroke=\"#000000\"/>\n",
       "<text fill=\"#000000\" font-family=\"Times,serif\" font-size=\"14.00\" text-anchor=\"middle\" x=\"5676.6385\" y=\"-4822.3\">output:</text>\n",
       "<polyline fill=\"none\" points=\"5704.1385,-4814.5 5704.1385,-4860.5 \" stroke=\"#000000\"/>\n",
       "<text fill=\"#000000\" font-family=\"Times,serif\" font-size=\"14.00\" text-anchor=\"middle\" x=\"5766.6385\" y=\"-4845.3\">(None, 32, 32, 256)</text>\n",
       "<polyline fill=\"none\" points=\"5704.1385,-4837.5 5829.1385,-4837.5 \" stroke=\"#000000\"/>\n",
       "<text fill=\"#000000\" font-family=\"Times,serif\" font-size=\"14.00\" text-anchor=\"middle\" x=\"5766.6385\" y=\"-4822.3\">(None, 32, 32, 256)</text>\n",
       "</g>\n",
       "<!-- 140227451335056&#45;&gt;140227451543120 -->\n",
       "<g class=\"edge\" id=\"edge23\">\n",
       "<title>140227451335056-&gt;140227451543120</title>\n",
       "<path d=\"M5609.1385,-4897.3799C5609.1385,-4889.1745 5609.1385,-4879.7679 5609.1385,-4870.8786\" fill=\"none\" stroke=\"#000000\"/>\n",
       "<polygon fill=\"#000000\" points=\"5612.6386,-4870.784 5609.1385,-4860.784 5605.6386,-4870.784 5612.6386,-4870.784\" stroke=\"#000000\"/>\n",
       "</g>\n",
       "<!-- 140227451539984 -->\n",
       "<g class=\"node\" id=\"node25\">\n",
       "<title>140227451539984</title>\n",
       "<polygon fill=\"none\" points=\"5446.1385,-4731.5 5446.1385,-4777.5 5772.1385,-4777.5 5772.1385,-4731.5 5446.1385,-4731.5\" stroke=\"#000000\"/>\n",
       "<text fill=\"#000000\" font-family=\"Times,serif\" font-size=\"14.00\" text-anchor=\"middle\" x=\"5519.1385\" y=\"-4750.8\">block4_conv1: Conv2D</text>\n",
       "<polyline fill=\"none\" points=\"5592.1385,-4731.5 5592.1385,-4777.5 \" stroke=\"#000000\"/>\n",
       "<text fill=\"#000000\" font-family=\"Times,serif\" font-size=\"14.00\" text-anchor=\"middle\" x=\"5619.6385\" y=\"-4762.3\">input:</text>\n",
       "<polyline fill=\"none\" points=\"5592.1385,-4754.5 5647.1385,-4754.5 \" stroke=\"#000000\"/>\n",
       "<text fill=\"#000000\" font-family=\"Times,serif\" font-size=\"14.00\" text-anchor=\"middle\" x=\"5619.6385\" y=\"-4739.3\">output:</text>\n",
       "<polyline fill=\"none\" points=\"5647.1385,-4731.5 5647.1385,-4777.5 \" stroke=\"#000000\"/>\n",
       "<text fill=\"#000000\" font-family=\"Times,serif\" font-size=\"14.00\" text-anchor=\"middle\" x=\"5709.6385\" y=\"-4762.3\">(None, 32, 32, 256)</text>\n",
       "<polyline fill=\"none\" points=\"5647.1385,-4754.5 5772.1385,-4754.5 \" stroke=\"#000000\"/>\n",
       "<text fill=\"#000000\" font-family=\"Times,serif\" font-size=\"14.00\" text-anchor=\"middle\" x=\"5709.6385\" y=\"-4739.3\">(None, 32, 32, 512)</text>\n",
       "</g>\n",
       "<!-- 140227451543120&#45;&gt;140227451539984 -->\n",
       "<g class=\"edge\" id=\"edge24\">\n",
       "<title>140227451543120-&gt;140227451539984</title>\n",
       "<path d=\"M5609.1385,-4814.3799C5609.1385,-4806.1745 5609.1385,-4796.7679 5609.1385,-4787.8786\" fill=\"none\" stroke=\"#000000\"/>\n",
       "<polygon fill=\"#000000\" points=\"5612.6386,-4787.784 5609.1385,-4777.784 5605.6386,-4787.784 5612.6386,-4787.784\" stroke=\"#000000\"/>\n",
       "</g>\n",
       "<!-- 140235549345616 -->\n",
       "<g class=\"node\" id=\"node26\">\n",
       "<title>140235549345616</title>\n",
       "<polygon fill=\"none\" points=\"5441.6385,-4648.5 5441.6385,-4694.5 5776.6385,-4694.5 5776.6385,-4648.5 5441.6385,-4648.5\" stroke=\"#000000\"/>\n",
       "<text fill=\"#000000\" font-family=\"Times,serif\" font-size=\"14.00\" text-anchor=\"middle\" x=\"5519.1385\" y=\"-4667.8\">activation_11: Activation</text>\n",
       "<polyline fill=\"none\" points=\"5596.6385,-4648.5 5596.6385,-4694.5 \" stroke=\"#000000\"/>\n",
       "<text fill=\"#000000\" font-family=\"Times,serif\" font-size=\"14.00\" text-anchor=\"middle\" x=\"5624.1385\" y=\"-4679.3\">input:</text>\n",
       "<polyline fill=\"none\" points=\"5596.6385,-4671.5 5651.6385,-4671.5 \" stroke=\"#000000\"/>\n",
       "<text fill=\"#000000\" font-family=\"Times,serif\" font-size=\"14.00\" text-anchor=\"middle\" x=\"5624.1385\" y=\"-4656.3\">output:</text>\n",
       "<polyline fill=\"none\" points=\"5651.6385,-4648.5 5651.6385,-4694.5 \" stroke=\"#000000\"/>\n",
       "<text fill=\"#000000\" font-family=\"Times,serif\" font-size=\"14.00\" text-anchor=\"middle\" x=\"5714.1385\" y=\"-4679.3\">(None, 32, 32, 512)</text>\n",
       "<polyline fill=\"none\" points=\"5651.6385,-4671.5 5776.6385,-4671.5 \" stroke=\"#000000\"/>\n",
       "<text fill=\"#000000\" font-family=\"Times,serif\" font-size=\"14.00\" text-anchor=\"middle\" x=\"5714.1385\" y=\"-4656.3\">(None, 32, 32, 512)</text>\n",
       "</g>\n",
       "<!-- 140227451539984&#45;&gt;140235549345616 -->\n",
       "<g class=\"edge\" id=\"edge25\">\n",
       "<title>140227451539984-&gt;140235549345616</title>\n",
       "<path d=\"M5609.1385,-4731.3799C5609.1385,-4723.1745 5609.1385,-4713.7679 5609.1385,-4704.8786\" fill=\"none\" stroke=\"#000000\"/>\n",
       "<polygon fill=\"#000000\" points=\"5612.6386,-4704.784 5609.1385,-4694.784 5605.6386,-4704.784 5612.6386,-4704.784\" stroke=\"#000000\"/>\n",
       "</g>\n",
       "<!-- 140227451226320 -->\n",
       "<g class=\"node\" id=\"node27\">\n",
       "<title>140227451226320</title>\n",
       "<polygon fill=\"none\" points=\"5446.1385,-4565.5 5446.1385,-4611.5 5772.1385,-4611.5 5772.1385,-4565.5 5446.1385,-4565.5\" stroke=\"#000000\"/>\n",
       "<text fill=\"#000000\" font-family=\"Times,serif\" font-size=\"14.00\" text-anchor=\"middle\" x=\"5519.1385\" y=\"-4584.8\">block4_conv2: Conv2D</text>\n",
       "<polyline fill=\"none\" points=\"5592.1385,-4565.5 5592.1385,-4611.5 \" stroke=\"#000000\"/>\n",
       "<text fill=\"#000000\" font-family=\"Times,serif\" font-size=\"14.00\" text-anchor=\"middle\" x=\"5619.6385\" y=\"-4596.3\">input:</text>\n",
       "<polyline fill=\"none\" points=\"5592.1385,-4588.5 5647.1385,-4588.5 \" stroke=\"#000000\"/>\n",
       "<text fill=\"#000000\" font-family=\"Times,serif\" font-size=\"14.00\" text-anchor=\"middle\" x=\"5619.6385\" y=\"-4573.3\">output:</text>\n",
       "<polyline fill=\"none\" points=\"5647.1385,-4565.5 5647.1385,-4611.5 \" stroke=\"#000000\"/>\n",
       "<text fill=\"#000000\" font-family=\"Times,serif\" font-size=\"14.00\" text-anchor=\"middle\" x=\"5709.6385\" y=\"-4596.3\">(None, 32, 32, 512)</text>\n",
       "<polyline fill=\"none\" points=\"5647.1385,-4588.5 5772.1385,-4588.5 \" stroke=\"#000000\"/>\n",
       "<text fill=\"#000000\" font-family=\"Times,serif\" font-size=\"14.00\" text-anchor=\"middle\" x=\"5709.6385\" y=\"-4573.3\">(None, 32, 32, 512)</text>\n",
       "</g>\n",
       "<!-- 140235549345616&#45;&gt;140227451226320 -->\n",
       "<g class=\"edge\" id=\"edge26\">\n",
       "<title>140235549345616-&gt;140227451226320</title>\n",
       "<path d=\"M5609.1385,-4648.3799C5609.1385,-4640.1745 5609.1385,-4630.7679 5609.1385,-4621.8786\" fill=\"none\" stroke=\"#000000\"/>\n",
       "<polygon fill=\"#000000\" points=\"5612.6386,-4621.784 5609.1385,-4611.784 5605.6386,-4621.784 5612.6386,-4621.784\" stroke=\"#000000\"/>\n",
       "</g>\n",
       "<!-- 140227450326992 -->\n",
       "<g class=\"node\" id=\"node28\">\n",
       "<title>140227450326992</title>\n",
       "<polygon fill=\"none\" points=\"5441.6385,-4482.5 5441.6385,-4528.5 5776.6385,-4528.5 5776.6385,-4482.5 5441.6385,-4482.5\" stroke=\"#000000\"/>\n",
       "<text fill=\"#000000\" font-family=\"Times,serif\" font-size=\"14.00\" text-anchor=\"middle\" x=\"5519.1385\" y=\"-4501.8\">activation_12: Activation</text>\n",
       "<polyline fill=\"none\" points=\"5596.6385,-4482.5 5596.6385,-4528.5 \" stroke=\"#000000\"/>\n",
       "<text fill=\"#000000\" font-family=\"Times,serif\" font-size=\"14.00\" text-anchor=\"middle\" x=\"5624.1385\" y=\"-4513.3\">input:</text>\n",
       "<polyline fill=\"none\" points=\"5596.6385,-4505.5 5651.6385,-4505.5 \" stroke=\"#000000\"/>\n",
       "<text fill=\"#000000\" font-family=\"Times,serif\" font-size=\"14.00\" text-anchor=\"middle\" x=\"5624.1385\" y=\"-4490.3\">output:</text>\n",
       "<polyline fill=\"none\" points=\"5651.6385,-4482.5 5651.6385,-4528.5 \" stroke=\"#000000\"/>\n",
       "<text fill=\"#000000\" font-family=\"Times,serif\" font-size=\"14.00\" text-anchor=\"middle\" x=\"5714.1385\" y=\"-4513.3\">(None, 32, 32, 512)</text>\n",
       "<polyline fill=\"none\" points=\"5651.6385,-4505.5 5776.6385,-4505.5 \" stroke=\"#000000\"/>\n",
       "<text fill=\"#000000\" font-family=\"Times,serif\" font-size=\"14.00\" text-anchor=\"middle\" x=\"5714.1385\" y=\"-4490.3\">(None, 32, 32, 512)</text>\n",
       "</g>\n",
       "<!-- 140227451226320&#45;&gt;140227450326992 -->\n",
       "<g class=\"edge\" id=\"edge27\">\n",
       "<title>140227451226320-&gt;140227450326992</title>\n",
       "<path d=\"M5609.1385,-4565.3799C5609.1385,-4557.1745 5609.1385,-4547.7679 5609.1385,-4538.8786\" fill=\"none\" stroke=\"#000000\"/>\n",
       "<polygon fill=\"#000000\" points=\"5612.6386,-4538.784 5609.1385,-4528.784 5605.6386,-4538.784 5612.6386,-4538.784\" stroke=\"#000000\"/>\n",
       "</g>\n",
       "<!-- 140227450323856 -->\n",
       "<g class=\"node\" id=\"node29\">\n",
       "<title>140227450323856</title>\n",
       "<polygon fill=\"none\" points=\"5446.1385,-4399.5 5446.1385,-4445.5 5772.1385,-4445.5 5772.1385,-4399.5 5446.1385,-4399.5\" stroke=\"#000000\"/>\n",
       "<text fill=\"#000000\" font-family=\"Times,serif\" font-size=\"14.00\" text-anchor=\"middle\" x=\"5519.1385\" y=\"-4418.8\">block4_conv3: Conv2D</text>\n",
       "<polyline fill=\"none\" points=\"5592.1385,-4399.5 5592.1385,-4445.5 \" stroke=\"#000000\"/>\n",
       "<text fill=\"#000000\" font-family=\"Times,serif\" font-size=\"14.00\" text-anchor=\"middle\" x=\"5619.6385\" y=\"-4430.3\">input:</text>\n",
       "<polyline fill=\"none\" points=\"5592.1385,-4422.5 5647.1385,-4422.5 \" stroke=\"#000000\"/>\n",
       "<text fill=\"#000000\" font-family=\"Times,serif\" font-size=\"14.00\" text-anchor=\"middle\" x=\"5619.6385\" y=\"-4407.3\">output:</text>\n",
       "<polyline fill=\"none\" points=\"5647.1385,-4399.5 5647.1385,-4445.5 \" stroke=\"#000000\"/>\n",
       "<text fill=\"#000000\" font-family=\"Times,serif\" font-size=\"14.00\" text-anchor=\"middle\" x=\"5709.6385\" y=\"-4430.3\">(None, 32, 32, 512)</text>\n",
       "<polyline fill=\"none\" points=\"5647.1385,-4422.5 5772.1385,-4422.5 \" stroke=\"#000000\"/>\n",
       "<text fill=\"#000000\" font-family=\"Times,serif\" font-size=\"14.00\" text-anchor=\"middle\" x=\"5709.6385\" y=\"-4407.3\">(None, 32, 32, 512)</text>\n",
       "</g>\n",
       "<!-- 140227450326992&#45;&gt;140227450323856 -->\n",
       "<g class=\"edge\" id=\"edge28\">\n",
       "<title>140227450326992-&gt;140227450323856</title>\n",
       "<path d=\"M5609.1385,-4482.3799C5609.1385,-4474.1745 5609.1385,-4464.7679 5609.1385,-4455.8786\" fill=\"none\" stroke=\"#000000\"/>\n",
       "<polygon fill=\"#000000\" points=\"5612.6386,-4455.784 5609.1385,-4445.784 5605.6386,-4455.784 5612.6386,-4455.784\" stroke=\"#000000\"/>\n",
       "</g>\n",
       "<!-- 140227450019280 -->\n",
       "<g class=\"node\" id=\"node30\">\n",
       "<title>140227450019280</title>\n",
       "<polygon fill=\"none\" points=\"5441.6385,-4316.5 5441.6385,-4362.5 5776.6385,-4362.5 5776.6385,-4316.5 5441.6385,-4316.5\" stroke=\"#000000\"/>\n",
       "<text fill=\"#000000\" font-family=\"Times,serif\" font-size=\"14.00\" text-anchor=\"middle\" x=\"5519.1385\" y=\"-4335.8\">activation_13: Activation</text>\n",
       "<polyline fill=\"none\" points=\"5596.6385,-4316.5 5596.6385,-4362.5 \" stroke=\"#000000\"/>\n",
       "<text fill=\"#000000\" font-family=\"Times,serif\" font-size=\"14.00\" text-anchor=\"middle\" x=\"5624.1385\" y=\"-4347.3\">input:</text>\n",
       "<polyline fill=\"none\" points=\"5596.6385,-4339.5 5651.6385,-4339.5 \" stroke=\"#000000\"/>\n",
       "<text fill=\"#000000\" font-family=\"Times,serif\" font-size=\"14.00\" text-anchor=\"middle\" x=\"5624.1385\" y=\"-4324.3\">output:</text>\n",
       "<polyline fill=\"none\" points=\"5651.6385,-4316.5 5651.6385,-4362.5 \" stroke=\"#000000\"/>\n",
       "<text fill=\"#000000\" font-family=\"Times,serif\" font-size=\"14.00\" text-anchor=\"middle\" x=\"5714.1385\" y=\"-4347.3\">(None, 32, 32, 512)</text>\n",
       "<polyline fill=\"none\" points=\"5651.6385,-4339.5 5776.6385,-4339.5 \" stroke=\"#000000\"/>\n",
       "<text fill=\"#000000\" font-family=\"Times,serif\" font-size=\"14.00\" text-anchor=\"middle\" x=\"5714.1385\" y=\"-4324.3\">(None, 32, 32, 512)</text>\n",
       "</g>\n",
       "<!-- 140227450323856&#45;&gt;140227450019280 -->\n",
       "<g class=\"edge\" id=\"edge29\">\n",
       "<title>140227450323856-&gt;140227450019280</title>\n",
       "<path d=\"M5609.1385,-4399.3799C5609.1385,-4391.1745 5609.1385,-4381.7679 5609.1385,-4372.8786\" fill=\"none\" stroke=\"#000000\"/>\n",
       "<polygon fill=\"#000000\" points=\"5612.6386,-4372.784 5609.1385,-4362.784 5605.6386,-4372.784 5612.6386,-4372.784\" stroke=\"#000000\"/>\n",
       "</g>\n",
       "<!-- 140227450019152 -->\n",
       "<g class=\"node\" id=\"node31\">\n",
       "<title>140227450019152</title>\n",
       "<polygon fill=\"none\" points=\"5402.6385,-4233.5 5402.6385,-4279.5 5815.6385,-4279.5 5815.6385,-4233.5 5402.6385,-4233.5\" stroke=\"#000000\"/>\n",
       "<text fill=\"#000000\" font-family=\"Times,serif\" font-size=\"14.00\" text-anchor=\"middle\" x=\"5519.1385\" y=\"-4252.8\">block4_reduction_pool: MaxPooling2D</text>\n",
       "<polyline fill=\"none\" points=\"5635.6385,-4233.5 5635.6385,-4279.5 \" stroke=\"#000000\"/>\n",
       "<text fill=\"#000000\" font-family=\"Times,serif\" font-size=\"14.00\" text-anchor=\"middle\" x=\"5663.1385\" y=\"-4264.3\">input:</text>\n",
       "<polyline fill=\"none\" points=\"5635.6385,-4256.5 5690.6385,-4256.5 \" stroke=\"#000000\"/>\n",
       "<text fill=\"#000000\" font-family=\"Times,serif\" font-size=\"14.00\" text-anchor=\"middle\" x=\"5663.1385\" y=\"-4241.3\">output:</text>\n",
       "<polyline fill=\"none\" points=\"5690.6385,-4233.5 5690.6385,-4279.5 \" stroke=\"#000000\"/>\n",
       "<text fill=\"#000000\" font-family=\"Times,serif\" font-size=\"14.00\" text-anchor=\"middle\" x=\"5753.1385\" y=\"-4264.3\">(None, 32, 32, 512)</text>\n",
       "<polyline fill=\"none\" points=\"5690.6385,-4256.5 5815.6385,-4256.5 \" stroke=\"#000000\"/>\n",
       "<text fill=\"#000000\" font-family=\"Times,serif\" font-size=\"14.00\" text-anchor=\"middle\" x=\"5753.1385\" y=\"-4241.3\">(None, 16, 16, 512)</text>\n",
       "</g>\n",
       "<!-- 140227450019280&#45;&gt;140227450019152 -->\n",
       "<g class=\"edge\" id=\"edge30\">\n",
       "<title>140227450019280-&gt;140227450019152</title>\n",
       "<path d=\"M5609.1385,-4316.3799C5609.1385,-4308.1745 5609.1385,-4298.7679 5609.1385,-4289.8786\" fill=\"none\" stroke=\"#000000\"/>\n",
       "<polygon fill=\"#000000\" points=\"5612.6386,-4289.784 5609.1385,-4279.784 5605.6386,-4289.784 5612.6386,-4289.784\" stroke=\"#000000\"/>\n",
       "</g>\n",
       "<!-- 140227449718928 -->\n",
       "<g class=\"node\" id=\"node32\">\n",
       "<title>140227449718928</title>\n",
       "<polygon fill=\"none\" points=\"5441.6385,-4150.5 5441.6385,-4196.5 5776.6385,-4196.5 5776.6385,-4150.5 5441.6385,-4150.5\" stroke=\"#000000\"/>\n",
       "<text fill=\"#000000\" font-family=\"Times,serif\" font-size=\"14.00\" text-anchor=\"middle\" x=\"5519.1385\" y=\"-4169.8\">activation_14: Activation</text>\n",
       "<polyline fill=\"none\" points=\"5596.6385,-4150.5 5596.6385,-4196.5 \" stroke=\"#000000\"/>\n",
       "<text fill=\"#000000\" font-family=\"Times,serif\" font-size=\"14.00\" text-anchor=\"middle\" x=\"5624.1385\" y=\"-4181.3\">input:</text>\n",
       "<polyline fill=\"none\" points=\"5596.6385,-4173.5 5651.6385,-4173.5 \" stroke=\"#000000\"/>\n",
       "<text fill=\"#000000\" font-family=\"Times,serif\" font-size=\"14.00\" text-anchor=\"middle\" x=\"5624.1385\" y=\"-4158.3\">output:</text>\n",
       "<polyline fill=\"none\" points=\"5651.6385,-4150.5 5651.6385,-4196.5 \" stroke=\"#000000\"/>\n",
       "<text fill=\"#000000\" font-family=\"Times,serif\" font-size=\"14.00\" text-anchor=\"middle\" x=\"5714.1385\" y=\"-4181.3\">(None, 16, 16, 512)</text>\n",
       "<polyline fill=\"none\" points=\"5651.6385,-4173.5 5776.6385,-4173.5 \" stroke=\"#000000\"/>\n",
       "<text fill=\"#000000\" font-family=\"Times,serif\" font-size=\"14.00\" text-anchor=\"middle\" x=\"5714.1385\" y=\"-4158.3\">(None, 16, 16, 512)</text>\n",
       "</g>\n",
       "<!-- 140227450019152&#45;&gt;140227449718928 -->\n",
       "<g class=\"edge\" id=\"edge31\">\n",
       "<title>140227450019152-&gt;140227449718928</title>\n",
       "<path d=\"M5609.1385,-4233.3799C5609.1385,-4225.1745 5609.1385,-4215.7679 5609.1385,-4206.8786\" fill=\"none\" stroke=\"#000000\"/>\n",
       "<polygon fill=\"#000000\" points=\"5612.6386,-4206.784 5609.1385,-4196.784 5605.6386,-4206.784 5612.6386,-4206.784\" stroke=\"#000000\"/>\n",
       "</g>\n",
       "<!-- 140227449719696 -->\n",
       "<g class=\"node\" id=\"node33\">\n",
       "<title>140227449719696</title>\n",
       "<polygon fill=\"none\" points=\"5389.1385,-4067.5 5389.1385,-4113.5 5829.1385,-4113.5 5829.1385,-4067.5 5389.1385,-4067.5\" stroke=\"#000000\"/>\n",
       "<text fill=\"#000000\" font-family=\"Times,serif\" font-size=\"14.00\" text-anchor=\"middle\" x=\"5519.1385\" y=\"-4086.8\">batch_normalization_4: BatchNormalization</text>\n",
       "<polyline fill=\"none\" points=\"5649.1385,-4067.5 5649.1385,-4113.5 \" stroke=\"#000000\"/>\n",
       "<text fill=\"#000000\" font-family=\"Times,serif\" font-size=\"14.00\" text-anchor=\"middle\" x=\"5676.6385\" y=\"-4098.3\">input:</text>\n",
       "<polyline fill=\"none\" points=\"5649.1385,-4090.5 5704.1385,-4090.5 \" stroke=\"#000000\"/>\n",
       "<text fill=\"#000000\" font-family=\"Times,serif\" font-size=\"14.00\" text-anchor=\"middle\" x=\"5676.6385\" y=\"-4075.3\">output:</text>\n",
       "<polyline fill=\"none\" points=\"5704.1385,-4067.5 5704.1385,-4113.5 \" stroke=\"#000000\"/>\n",
       "<text fill=\"#000000\" font-family=\"Times,serif\" font-size=\"14.00\" text-anchor=\"middle\" x=\"5766.6385\" y=\"-4098.3\">(None, 16, 16, 512)</text>\n",
       "<polyline fill=\"none\" points=\"5704.1385,-4090.5 5829.1385,-4090.5 \" stroke=\"#000000\"/>\n",
       "<text fill=\"#000000\" font-family=\"Times,serif\" font-size=\"14.00\" text-anchor=\"middle\" x=\"5766.6385\" y=\"-4075.3\">(None, 16, 16, 512)</text>\n",
       "</g>\n",
       "<!-- 140227449718928&#45;&gt;140227449719696 -->\n",
       "<g class=\"edge\" id=\"edge32\">\n",
       "<title>140227449718928-&gt;140227449719696</title>\n",
       "<path d=\"M5609.1385,-4150.3799C5609.1385,-4142.1745 5609.1385,-4132.7679 5609.1385,-4123.8786\" fill=\"none\" stroke=\"#000000\"/>\n",
       "<polygon fill=\"#000000\" points=\"5612.6386,-4123.784 5609.1385,-4113.784 5605.6386,-4123.784 5612.6386,-4123.784\" stroke=\"#000000\"/>\n",
       "</g>\n",
       "<!-- 140227449844560 -->\n",
       "<g class=\"node\" id=\"node34\">\n",
       "<title>140227449844560</title>\n",
       "<polygon fill=\"none\" points=\"5446.1385,-3984.5 5446.1385,-4030.5 5772.1385,-4030.5 5772.1385,-3984.5 5446.1385,-3984.5\" stroke=\"#000000\"/>\n",
       "<text fill=\"#000000\" font-family=\"Times,serif\" font-size=\"14.00\" text-anchor=\"middle\" x=\"5519.1385\" y=\"-4003.8\">block5_conv1: Conv2D</text>\n",
       "<polyline fill=\"none\" points=\"5592.1385,-3984.5 5592.1385,-4030.5 \" stroke=\"#000000\"/>\n",
       "<text fill=\"#000000\" font-family=\"Times,serif\" font-size=\"14.00\" text-anchor=\"middle\" x=\"5619.6385\" y=\"-4015.3\">input:</text>\n",
       "<polyline fill=\"none\" points=\"5592.1385,-4007.5 5647.1385,-4007.5 \" stroke=\"#000000\"/>\n",
       "<text fill=\"#000000\" font-family=\"Times,serif\" font-size=\"14.00\" text-anchor=\"middle\" x=\"5619.6385\" y=\"-3992.3\">output:</text>\n",
       "<polyline fill=\"none\" points=\"5647.1385,-3984.5 5647.1385,-4030.5 \" stroke=\"#000000\"/>\n",
       "<text fill=\"#000000\" font-family=\"Times,serif\" font-size=\"14.00\" text-anchor=\"middle\" x=\"5709.6385\" y=\"-4015.3\">(None, 16, 16, 512)</text>\n",
       "<polyline fill=\"none\" points=\"5647.1385,-4007.5 5772.1385,-4007.5 \" stroke=\"#000000\"/>\n",
       "<text fill=\"#000000\" font-family=\"Times,serif\" font-size=\"14.00\" text-anchor=\"middle\" x=\"5709.6385\" y=\"-3992.3\">(None, 16, 16, 512)</text>\n",
       "</g>\n",
       "<!-- 140227449719696&#45;&gt;140227449844560 -->\n",
       "<g class=\"edge\" id=\"edge33\">\n",
       "<title>140227449719696-&gt;140227449844560</title>\n",
       "<path d=\"M5609.1385,-4067.3799C5609.1385,-4059.1745 5609.1385,-4049.7679 5609.1385,-4040.8786\" fill=\"none\" stroke=\"#000000\"/>\n",
       "<polygon fill=\"#000000\" points=\"5612.6386,-4040.784 5609.1385,-4030.784 5605.6386,-4040.784 5612.6386,-4040.784\" stroke=\"#000000\"/>\n",
       "</g>\n",
       "<!-- 140227449944016 -->\n",
       "<g class=\"node\" id=\"node35\">\n",
       "<title>140227449944016</title>\n",
       "<polygon fill=\"none\" points=\"5441.6385,-3901.5 5441.6385,-3947.5 5776.6385,-3947.5 5776.6385,-3901.5 5441.6385,-3901.5\" stroke=\"#000000\"/>\n",
       "<text fill=\"#000000\" font-family=\"Times,serif\" font-size=\"14.00\" text-anchor=\"middle\" x=\"5519.1385\" y=\"-3920.8\">activation_15: Activation</text>\n",
       "<polyline fill=\"none\" points=\"5596.6385,-3901.5 5596.6385,-3947.5 \" stroke=\"#000000\"/>\n",
       "<text fill=\"#000000\" font-family=\"Times,serif\" font-size=\"14.00\" text-anchor=\"middle\" x=\"5624.1385\" y=\"-3932.3\">input:</text>\n",
       "<polyline fill=\"none\" points=\"5596.6385,-3924.5 5651.6385,-3924.5 \" stroke=\"#000000\"/>\n",
       "<text fill=\"#000000\" font-family=\"Times,serif\" font-size=\"14.00\" text-anchor=\"middle\" x=\"5624.1385\" y=\"-3909.3\">output:</text>\n",
       "<polyline fill=\"none\" points=\"5651.6385,-3901.5 5651.6385,-3947.5 \" stroke=\"#000000\"/>\n",
       "<text fill=\"#000000\" font-family=\"Times,serif\" font-size=\"14.00\" text-anchor=\"middle\" x=\"5714.1385\" y=\"-3932.3\">(None, 16, 16, 512)</text>\n",
       "<polyline fill=\"none\" points=\"5651.6385,-3924.5 5776.6385,-3924.5 \" stroke=\"#000000\"/>\n",
       "<text fill=\"#000000\" font-family=\"Times,serif\" font-size=\"14.00\" text-anchor=\"middle\" x=\"5714.1385\" y=\"-3909.3\">(None, 16, 16, 512)</text>\n",
       "</g>\n",
       "<!-- 140227449844560&#45;&gt;140227449944016 -->\n",
       "<g class=\"edge\" id=\"edge34\">\n",
       "<title>140227449844560-&gt;140227449944016</title>\n",
       "<path d=\"M5609.1385,-3984.3799C5609.1385,-3976.1745 5609.1385,-3966.7679 5609.1385,-3957.8786\" fill=\"none\" stroke=\"#000000\"/>\n",
       "<polygon fill=\"#000000\" points=\"5612.6386,-3957.784 5609.1385,-3947.784 5605.6386,-3957.784 5612.6386,-3957.784\" stroke=\"#000000\"/>\n",
       "</g>\n",
       "<!-- 140227449943376 -->\n",
       "<g class=\"node\" id=\"node36\">\n",
       "<title>140227449943376</title>\n",
       "<polygon fill=\"none\" points=\"5446.1385,-3818.5 5446.1385,-3864.5 5772.1385,-3864.5 5772.1385,-3818.5 5446.1385,-3818.5\" stroke=\"#000000\"/>\n",
       "<text fill=\"#000000\" font-family=\"Times,serif\" font-size=\"14.00\" text-anchor=\"middle\" x=\"5519.1385\" y=\"-3837.8\">block5_conv2: Conv2D</text>\n",
       "<polyline fill=\"none\" points=\"5592.1385,-3818.5 5592.1385,-3864.5 \" stroke=\"#000000\"/>\n",
       "<text fill=\"#000000\" font-family=\"Times,serif\" font-size=\"14.00\" text-anchor=\"middle\" x=\"5619.6385\" y=\"-3849.3\">input:</text>\n",
       "<polyline fill=\"none\" points=\"5592.1385,-3841.5 5647.1385,-3841.5 \" stroke=\"#000000\"/>\n",
       "<text fill=\"#000000\" font-family=\"Times,serif\" font-size=\"14.00\" text-anchor=\"middle\" x=\"5619.6385\" y=\"-3826.3\">output:</text>\n",
       "<polyline fill=\"none\" points=\"5647.1385,-3818.5 5647.1385,-3864.5 \" stroke=\"#000000\"/>\n",
       "<text fill=\"#000000\" font-family=\"Times,serif\" font-size=\"14.00\" text-anchor=\"middle\" x=\"5709.6385\" y=\"-3849.3\">(None, 16, 16, 512)</text>\n",
       "<polyline fill=\"none\" points=\"5647.1385,-3841.5 5772.1385,-3841.5 \" stroke=\"#000000\"/>\n",
       "<text fill=\"#000000\" font-family=\"Times,serif\" font-size=\"14.00\" text-anchor=\"middle\" x=\"5709.6385\" y=\"-3826.3\">(None, 16, 16, 512)</text>\n",
       "</g>\n",
       "<!-- 140227449944016&#45;&gt;140227449943376 -->\n",
       "<g class=\"edge\" id=\"edge35\">\n",
       "<title>140227449944016-&gt;140227449943376</title>\n",
       "<path d=\"M5609.1385,-3901.3799C5609.1385,-3893.1745 5609.1385,-3883.7679 5609.1385,-3874.8786\" fill=\"none\" stroke=\"#000000\"/>\n",
       "<polygon fill=\"#000000\" points=\"5612.6386,-3874.784 5609.1385,-3864.784 5605.6386,-3874.784 5612.6386,-3874.784\" stroke=\"#000000\"/>\n",
       "</g>\n",
       "<!-- 140227449064144 -->\n",
       "<g class=\"node\" id=\"node37\">\n",
       "<title>140227449064144</title>\n",
       "<polygon fill=\"none\" points=\"5441.6385,-3735.5 5441.6385,-3781.5 5776.6385,-3781.5 5776.6385,-3735.5 5441.6385,-3735.5\" stroke=\"#000000\"/>\n",
       "<text fill=\"#000000\" font-family=\"Times,serif\" font-size=\"14.00\" text-anchor=\"middle\" x=\"5519.1385\" y=\"-3754.8\">activation_16: Activation</text>\n",
       "<polyline fill=\"none\" points=\"5596.6385,-3735.5 5596.6385,-3781.5 \" stroke=\"#000000\"/>\n",
       "<text fill=\"#000000\" font-family=\"Times,serif\" font-size=\"14.00\" text-anchor=\"middle\" x=\"5624.1385\" y=\"-3766.3\">input:</text>\n",
       "<polyline fill=\"none\" points=\"5596.6385,-3758.5 5651.6385,-3758.5 \" stroke=\"#000000\"/>\n",
       "<text fill=\"#000000\" font-family=\"Times,serif\" font-size=\"14.00\" text-anchor=\"middle\" x=\"5624.1385\" y=\"-3743.3\">output:</text>\n",
       "<polyline fill=\"none\" points=\"5651.6385,-3735.5 5651.6385,-3781.5 \" stroke=\"#000000\"/>\n",
       "<text fill=\"#000000\" font-family=\"Times,serif\" font-size=\"14.00\" text-anchor=\"middle\" x=\"5714.1385\" y=\"-3766.3\">(None, 16, 16, 512)</text>\n",
       "<polyline fill=\"none\" points=\"5651.6385,-3758.5 5776.6385,-3758.5 \" stroke=\"#000000\"/>\n",
       "<text fill=\"#000000\" font-family=\"Times,serif\" font-size=\"14.00\" text-anchor=\"middle\" x=\"5714.1385\" y=\"-3743.3\">(None, 16, 16, 512)</text>\n",
       "</g>\n",
       "<!-- 140227449943376&#45;&gt;140227449064144 -->\n",
       "<g class=\"edge\" id=\"edge36\">\n",
       "<title>140227449943376-&gt;140227449064144</title>\n",
       "<path d=\"M5609.1385,-3818.3799C5609.1385,-3810.1745 5609.1385,-3800.7679 5609.1385,-3791.8786\" fill=\"none\" stroke=\"#000000\"/>\n",
       "<polygon fill=\"#000000\" points=\"5612.6386,-3791.784 5609.1385,-3781.784 5605.6386,-3791.784 5612.6386,-3791.784\" stroke=\"#000000\"/>\n",
       "</g>\n",
       "<!-- 140227449062224 -->\n",
       "<g class=\"node\" id=\"node38\">\n",
       "<title>140227449062224</title>\n",
       "<polygon fill=\"none\" points=\"5446.1385,-3652.5 5446.1385,-3698.5 5772.1385,-3698.5 5772.1385,-3652.5 5446.1385,-3652.5\" stroke=\"#000000\"/>\n",
       "<text fill=\"#000000\" font-family=\"Times,serif\" font-size=\"14.00\" text-anchor=\"middle\" x=\"5519.1385\" y=\"-3671.8\">block5_conv3: Conv2D</text>\n",
       "<polyline fill=\"none\" points=\"5592.1385,-3652.5 5592.1385,-3698.5 \" stroke=\"#000000\"/>\n",
       "<text fill=\"#000000\" font-family=\"Times,serif\" font-size=\"14.00\" text-anchor=\"middle\" x=\"5619.6385\" y=\"-3683.3\">input:</text>\n",
       "<polyline fill=\"none\" points=\"5592.1385,-3675.5 5647.1385,-3675.5 \" stroke=\"#000000\"/>\n",
       "<text fill=\"#000000\" font-family=\"Times,serif\" font-size=\"14.00\" text-anchor=\"middle\" x=\"5619.6385\" y=\"-3660.3\">output:</text>\n",
       "<polyline fill=\"none\" points=\"5647.1385,-3652.5 5647.1385,-3698.5 \" stroke=\"#000000\"/>\n",
       "<text fill=\"#000000\" font-family=\"Times,serif\" font-size=\"14.00\" text-anchor=\"middle\" x=\"5709.6385\" y=\"-3683.3\">(None, 16, 16, 512)</text>\n",
       "<polyline fill=\"none\" points=\"5647.1385,-3675.5 5772.1385,-3675.5 \" stroke=\"#000000\"/>\n",
       "<text fill=\"#000000\" font-family=\"Times,serif\" font-size=\"14.00\" text-anchor=\"middle\" x=\"5709.6385\" y=\"-3660.3\">(None, 16, 16, 512)</text>\n",
       "</g>\n",
       "<!-- 140227449064144&#45;&gt;140227449062224 -->\n",
       "<g class=\"edge\" id=\"edge37\">\n",
       "<title>140227449064144-&gt;140227449062224</title>\n",
       "<path d=\"M5609.1385,-3735.3799C5609.1385,-3727.1745 5609.1385,-3717.7679 5609.1385,-3708.8786\" fill=\"none\" stroke=\"#000000\"/>\n",
       "<polygon fill=\"#000000\" points=\"5612.6386,-3708.784 5609.1385,-3698.784 5605.6386,-3708.784 5612.6386,-3708.784\" stroke=\"#000000\"/>\n",
       "</g>\n",
       "<!-- 140227448870928 -->\n",
       "<g class=\"node\" id=\"node39\">\n",
       "<title>140227448870928</title>\n",
       "<polygon fill=\"none\" points=\"5441.6385,-3569.5 5441.6385,-3615.5 5776.6385,-3615.5 5776.6385,-3569.5 5441.6385,-3569.5\" stroke=\"#000000\"/>\n",
       "<text fill=\"#000000\" font-family=\"Times,serif\" font-size=\"14.00\" text-anchor=\"middle\" x=\"5519.1385\" y=\"-3588.8\">activation_17: Activation</text>\n",
       "<polyline fill=\"none\" points=\"5596.6385,-3569.5 5596.6385,-3615.5 \" stroke=\"#000000\"/>\n",
       "<text fill=\"#000000\" font-family=\"Times,serif\" font-size=\"14.00\" text-anchor=\"middle\" x=\"5624.1385\" y=\"-3600.3\">input:</text>\n",
       "<polyline fill=\"none\" points=\"5596.6385,-3592.5 5651.6385,-3592.5 \" stroke=\"#000000\"/>\n",
       "<text fill=\"#000000\" font-family=\"Times,serif\" font-size=\"14.00\" text-anchor=\"middle\" x=\"5624.1385\" y=\"-3577.3\">output:</text>\n",
       "<polyline fill=\"none\" points=\"5651.6385,-3569.5 5651.6385,-3615.5 \" stroke=\"#000000\"/>\n",
       "<text fill=\"#000000\" font-family=\"Times,serif\" font-size=\"14.00\" text-anchor=\"middle\" x=\"5714.1385\" y=\"-3600.3\">(None, 16, 16, 512)</text>\n",
       "<polyline fill=\"none\" points=\"5651.6385,-3592.5 5776.6385,-3592.5 \" stroke=\"#000000\"/>\n",
       "<text fill=\"#000000\" font-family=\"Times,serif\" font-size=\"14.00\" text-anchor=\"middle\" x=\"5714.1385\" y=\"-3577.3\">(None, 16, 16, 512)</text>\n",
       "</g>\n",
       "<!-- 140227449062224&#45;&gt;140227448870928 -->\n",
       "<g class=\"edge\" id=\"edge38\">\n",
       "<title>140227449062224-&gt;140227448870928</title>\n",
       "<path d=\"M5609.1385,-3652.3799C5609.1385,-3644.1745 5609.1385,-3634.7679 5609.1385,-3625.8786\" fill=\"none\" stroke=\"#000000\"/>\n",
       "<polygon fill=\"#000000\" points=\"5612.6386,-3625.784 5609.1385,-3615.784 5605.6386,-3625.784 5612.6386,-3625.784\" stroke=\"#000000\"/>\n",
       "</g>\n",
       "<!-- 140227448870864 -->\n",
       "<g class=\"node\" id=\"node40\">\n",
       "<title>140227448870864</title>\n",
       "<polygon fill=\"none\" points=\"5402.6385,-3486.5 5402.6385,-3532.5 5815.6385,-3532.5 5815.6385,-3486.5 5402.6385,-3486.5\" stroke=\"#000000\"/>\n",
       "<text fill=\"#000000\" font-family=\"Times,serif\" font-size=\"14.00\" text-anchor=\"middle\" x=\"5519.1385\" y=\"-3505.8\">block5_reduction_pool: MaxPooling2D</text>\n",
       "<polyline fill=\"none\" points=\"5635.6385,-3486.5 5635.6385,-3532.5 \" stroke=\"#000000\"/>\n",
       "<text fill=\"#000000\" font-family=\"Times,serif\" font-size=\"14.00\" text-anchor=\"middle\" x=\"5663.1385\" y=\"-3517.3\">input:</text>\n",
       "<polyline fill=\"none\" points=\"5635.6385,-3509.5 5690.6385,-3509.5 \" stroke=\"#000000\"/>\n",
       "<text fill=\"#000000\" font-family=\"Times,serif\" font-size=\"14.00\" text-anchor=\"middle\" x=\"5663.1385\" y=\"-3494.3\">output:</text>\n",
       "<polyline fill=\"none\" points=\"5690.6385,-3486.5 5690.6385,-3532.5 \" stroke=\"#000000\"/>\n",
       "<text fill=\"#000000\" font-family=\"Times,serif\" font-size=\"14.00\" text-anchor=\"middle\" x=\"5753.1385\" y=\"-3517.3\">(None, 16, 16, 512)</text>\n",
       "<polyline fill=\"none\" points=\"5690.6385,-3509.5 5815.6385,-3509.5 \" stroke=\"#000000\"/>\n",
       "<text fill=\"#000000\" font-family=\"Times,serif\" font-size=\"14.00\" text-anchor=\"middle\" x=\"5753.1385\" y=\"-3494.3\">(None, 8, 8, 512)</text>\n",
       "</g>\n",
       "<!-- 140227448870928&#45;&gt;140227448870864 -->\n",
       "<g class=\"edge\" id=\"edge39\">\n",
       "<title>140227448870928-&gt;140227448870864</title>\n",
       "<path d=\"M5609.1385,-3569.3799C5609.1385,-3561.1745 5609.1385,-3551.7679 5609.1385,-3542.8786\" fill=\"none\" stroke=\"#000000\"/>\n",
       "<polygon fill=\"#000000\" points=\"5612.6386,-3542.784 5609.1385,-3532.784 5605.6386,-3542.784 5612.6386,-3542.784\" stroke=\"#000000\"/>\n",
       "</g>\n",
       "<!-- 140227449536144 -->\n",
       "<g class=\"node\" id=\"node41\">\n",
       "<title>140227449536144</title>\n",
       "<polygon fill=\"none\" points=\"5423.1385,-3403.5 5423.1385,-3449.5 5795.1385,-3449.5 5795.1385,-3403.5 5423.1385,-3403.5\" stroke=\"#000000\"/>\n",
       "<text fill=\"#000000\" font-family=\"Times,serif\" font-size=\"14.00\" text-anchor=\"middle\" x=\"5526.1385\" y=\"-3422.8\">image_output_features: Activation</text>\n",
       "<polyline fill=\"none\" points=\"5629.1385,-3403.5 5629.1385,-3449.5 \" stroke=\"#000000\"/>\n",
       "<text fill=\"#000000\" font-family=\"Times,serif\" font-size=\"14.00\" text-anchor=\"middle\" x=\"5656.6385\" y=\"-3434.3\">input:</text>\n",
       "<polyline fill=\"none\" points=\"5629.1385,-3426.5 5684.1385,-3426.5 \" stroke=\"#000000\"/>\n",
       "<text fill=\"#000000\" font-family=\"Times,serif\" font-size=\"14.00\" text-anchor=\"middle\" x=\"5656.6385\" y=\"-3411.3\">output:</text>\n",
       "<polyline fill=\"none\" points=\"5684.1385,-3403.5 5684.1385,-3449.5 \" stroke=\"#000000\"/>\n",
       "<text fill=\"#000000\" font-family=\"Times,serif\" font-size=\"14.00\" text-anchor=\"middle\" x=\"5739.6385\" y=\"-3434.3\">(None, 8, 8, 512)</text>\n",
       "<polyline fill=\"none\" points=\"5684.1385,-3426.5 5795.1385,-3426.5 \" stroke=\"#000000\"/>\n",
       "<text fill=\"#000000\" font-family=\"Times,serif\" font-size=\"14.00\" text-anchor=\"middle\" x=\"5739.6385\" y=\"-3411.3\">(None, 8, 8, 512)</text>\n",
       "</g>\n",
       "<!-- 140227448870864&#45;&gt;140227449536144 -->\n",
       "<g class=\"edge\" id=\"edge40\">\n",
       "<title>140227448870864-&gt;140227449536144</title>\n",
       "<path d=\"M5609.1385,-3486.3799C5609.1385,-3478.1745 5609.1385,-3468.7679 5609.1385,-3459.8786\" fill=\"none\" stroke=\"#000000\"/>\n",
       "<polygon fill=\"#000000\" points=\"5612.6386,-3459.784 5609.1385,-3449.784 5605.6386,-3459.784 5612.6386,-3459.784\" stroke=\"#000000\"/>\n",
       "</g>\n",
       "<!-- 140227448654288 -->\n",
       "<g class=\"node\" id=\"node42\">\n",
       "<title>140227448654288</title>\n",
       "<polygon fill=\"none\" points=\"5161.6385,-3320.5 5161.6385,-3366.5 5650.6385,-3366.5 5650.6385,-3320.5 5161.6385,-3320.5\" stroke=\"#000000\"/>\n",
       "<text fill=\"#000000\" font-family=\"Times,serif\" font-size=\"14.00\" text-anchor=\"middle\" x=\"5323.1385\" y=\"-3339.8\">global_average_pooling2d_1: GlobalAveragePooling2D</text>\n",
       "<polyline fill=\"none\" points=\"5484.6385,-3320.5 5484.6385,-3366.5 \" stroke=\"#000000\"/>\n",
       "<text fill=\"#000000\" font-family=\"Times,serif\" font-size=\"14.00\" text-anchor=\"middle\" x=\"5512.1385\" y=\"-3351.3\">input:</text>\n",
       "<polyline fill=\"none\" points=\"5484.6385,-3343.5 5539.6385,-3343.5 \" stroke=\"#000000\"/>\n",
       "<text fill=\"#000000\" font-family=\"Times,serif\" font-size=\"14.00\" text-anchor=\"middle\" x=\"5512.1385\" y=\"-3328.3\">output:</text>\n",
       "<polyline fill=\"none\" points=\"5539.6385,-3320.5 5539.6385,-3366.5 \" stroke=\"#000000\"/>\n",
       "<text fill=\"#000000\" font-family=\"Times,serif\" font-size=\"14.00\" text-anchor=\"middle\" x=\"5595.1385\" y=\"-3351.3\">(None, 8, 8, 512)</text>\n",
       "<polyline fill=\"none\" points=\"5539.6385,-3343.5 5650.6385,-3343.5 \" stroke=\"#000000\"/>\n",
       "<text fill=\"#000000\" font-family=\"Times,serif\" font-size=\"14.00\" text-anchor=\"middle\" x=\"5595.1385\" y=\"-3328.3\">(None, 512)</text>\n",
       "</g>\n",
       "<!-- 140227449536144&#45;&gt;140227448654288 -->\n",
       "<g class=\"edge\" id=\"edge41\">\n",
       "<title>140227449536144-&gt;140227448654288</title>\n",
       "<path d=\"M5552.8613,-3403.4901C5527.7804,-3393.2353 5498.0688,-3381.0872 5471.9642,-3370.414\" fill=\"none\" stroke=\"#000000\"/>\n",
       "<polygon fill=\"#000000\" points=\"5473.106,-3367.0996 5462.5252,-3366.5547 5470.4568,-3373.579 5473.106,-3367.0996\" stroke=\"#000000\"/>\n",
       "</g>\n",
       "<!-- 140227448557328 -->\n",
       "<g class=\"node\" id=\"node43\">\n",
       "<title>140227448557328</title>\n",
       "<polygon fill=\"none\" points=\"5668.6385,-3320.5 5668.6385,-3366.5 5957.6385,-3366.5 5957.6385,-3320.5 5668.6385,-3320.5\" stroke=\"#000000\"/>\n",
       "<text fill=\"#000000\" font-family=\"Times,serif\" font-size=\"14.00\" text-anchor=\"middle\" x=\"5730.1385\" y=\"-3339.8\">lambda_1: Lambda</text>\n",
       "<polyline fill=\"none\" points=\"5791.6385,-3320.5 5791.6385,-3366.5 \" stroke=\"#000000\"/>\n",
       "<text fill=\"#000000\" font-family=\"Times,serif\" font-size=\"14.00\" text-anchor=\"middle\" x=\"5819.1385\" y=\"-3351.3\">input:</text>\n",
       "<polyline fill=\"none\" points=\"5791.6385,-3343.5 5846.6385,-3343.5 \" stroke=\"#000000\"/>\n",
       "<text fill=\"#000000\" font-family=\"Times,serif\" font-size=\"14.00\" text-anchor=\"middle\" x=\"5819.1385\" y=\"-3328.3\">output:</text>\n",
       "<polyline fill=\"none\" points=\"5846.6385,-3320.5 5846.6385,-3366.5 \" stroke=\"#000000\"/>\n",
       "<text fill=\"#000000\" font-family=\"Times,serif\" font-size=\"14.00\" text-anchor=\"middle\" x=\"5902.1385\" y=\"-3351.3\">(None, 8, 8, 512)</text>\n",
       "<polyline fill=\"none\" points=\"5846.6385,-3343.5 5957.6385,-3343.5 \" stroke=\"#000000\"/>\n",
       "<text fill=\"#000000\" font-family=\"Times,serif\" font-size=\"14.00\" text-anchor=\"middle\" x=\"5902.1385\" y=\"-3328.3\">(None, 64, 512)</text>\n",
       "</g>\n",
       "<!-- 140227449536144&#45;&gt;140227448557328 -->\n",
       "<g class=\"edge\" id=\"edge42\">\n",
       "<title>140227449536144-&gt;140227448557328</title>\n",
       "<path d=\"M5665.693,-3403.4901C5690.8974,-3393.2353 5720.7554,-3381.0872 5746.9885,-3370.414\" fill=\"none\" stroke=\"#000000\"/>\n",
       "<polygon fill=\"#000000\" points=\"5748.5304,-3373.5653 5756.474,-3366.5547 5745.8923,-3367.0814 5748.5304,-3373.5653\" stroke=\"#000000\"/>\n",
       "</g>\n",
       "<!-- 140227448189968 -->\n",
       "<g class=\"node\" id=\"node44\">\n",
       "<title>140227448189968</title>\n",
       "<polygon fill=\"none\" points=\"4911.1385,-3237.5 4911.1385,-3283.5 5247.1385,-3283.5 5247.1385,-3237.5 4911.1385,-3237.5\" stroke=\"#000000\"/>\n",
       "<text fill=\"#000000\" font-family=\"Times,serif\" font-size=\"14.00\" text-anchor=\"middle\" x=\"4958.6385\" y=\"-3256.8\">a10: Attention</text>\n",
       "<polyline fill=\"none\" points=\"5006.1385,-3237.5 5006.1385,-3283.5 \" stroke=\"#000000\"/>\n",
       "<text fill=\"#000000\" font-family=\"Times,serif\" font-size=\"14.00\" text-anchor=\"middle\" x=\"5033.6385\" y=\"-3268.3\">input:</text>\n",
       "<polyline fill=\"none\" points=\"5006.1385,-3260.5 5061.1385,-3260.5 \" stroke=\"#000000\"/>\n",
       "<text fill=\"#000000\" font-family=\"Times,serif\" font-size=\"14.00\" text-anchor=\"middle\" x=\"5033.6385\" y=\"-3245.3\">output:</text>\n",
       "<polyline fill=\"none\" points=\"5061.1385,-3237.5 5061.1385,-3283.5 \" stroke=\"#000000\"/>\n",
       "<text fill=\"#000000\" font-family=\"Times,serif\" font-size=\"14.00\" text-anchor=\"middle\" x=\"5154.1385\" y=\"-3268.3\">[(None, 512), (None, 64, 512)]</text>\n",
       "<polyline fill=\"none\" points=\"5061.1385,-3260.5 5247.1385,-3260.5 \" stroke=\"#000000\"/>\n",
       "<text fill=\"#000000\" font-family=\"Times,serif\" font-size=\"14.00\" text-anchor=\"middle\" x=\"5154.1385\" y=\"-3245.3\">[(None, 1, 512), (1, 64)]</text>\n",
       "</g>\n",
       "<!-- 140227448654288&#45;&gt;140227448189968 -->\n",
       "<g class=\"edge\" id=\"edge43\">\n",
       "<title>140227448654288-&gt;140227448189968</title>\n",
       "<path d=\"M5315.485,-3320.4901C5273.3118,-3309.7856 5223.0105,-3297.018 5179.6748,-3286.0184\" fill=\"none\" stroke=\"#000000\"/>\n",
       "<polygon fill=\"#000000\" points=\"5180.5221,-3282.6225 5169.9683,-3283.5547 5178.7999,-3289.4074 5180.5221,-3282.6225\" stroke=\"#000000\"/>\n",
       "</g>\n",
       "<!-- 140227448249040 -->\n",
       "<g class=\"node\" id=\"node45\">\n",
       "<title>140227448249040</title>\n",
       "<polygon fill=\"none\" points=\"5265.1385,-3237.5 5265.1385,-3283.5 5601.1385,-3283.5 5601.1385,-3237.5 5265.1385,-3237.5\" stroke=\"#000000\"/>\n",
       "<text fill=\"#000000\" font-family=\"Times,serif\" font-size=\"14.00\" text-anchor=\"middle\" x=\"5312.6385\" y=\"-3256.8\">a11: Attention</text>\n",
       "<polyline fill=\"none\" points=\"5360.1385,-3237.5 5360.1385,-3283.5 \" stroke=\"#000000\"/>\n",
       "<text fill=\"#000000\" font-family=\"Times,serif\" font-size=\"14.00\" text-anchor=\"middle\" x=\"5387.6385\" y=\"-3268.3\">input:</text>\n",
       "<polyline fill=\"none\" points=\"5360.1385,-3260.5 5415.1385,-3260.5 \" stroke=\"#000000\"/>\n",
       "<text fill=\"#000000\" font-family=\"Times,serif\" font-size=\"14.00\" text-anchor=\"middle\" x=\"5387.6385\" y=\"-3245.3\">output:</text>\n",
       "<polyline fill=\"none\" points=\"5415.1385,-3237.5 5415.1385,-3283.5 \" stroke=\"#000000\"/>\n",
       "<text fill=\"#000000\" font-family=\"Times,serif\" font-size=\"14.00\" text-anchor=\"middle\" x=\"5508.1385\" y=\"-3268.3\">[(None, 512), (None, 64, 512)]</text>\n",
       "<polyline fill=\"none\" points=\"5415.1385,-3260.5 5601.1385,-3260.5 \" stroke=\"#000000\"/>\n",
       "<text fill=\"#000000\" font-family=\"Times,serif\" font-size=\"14.00\" text-anchor=\"middle\" x=\"5508.1385\" y=\"-3245.3\">[(None, 1, 512), (1, 64)]</text>\n",
       "</g>\n",
       "<!-- 140227448654288&#45;&gt;140227448249040 -->\n",
       "<g class=\"edge\" id=\"edge45\">\n",
       "<title>140227448654288-&gt;140227448249040</title>\n",
       "<path d=\"M5413.6595,-3320.3799C5416.3867,-3311.9962 5419.5219,-3302.3584 5422.4687,-3293.2996\" fill=\"none\" stroke=\"#000000\"/>\n",
       "<polygon fill=\"#000000\" points=\"5425.799,-3294.3762 5425.5642,-3283.784 5419.1423,-3292.2108 5425.799,-3294.3762\" stroke=\"#000000\"/>\n",
       "</g>\n",
       "<!-- 140227198013008 -->\n",
       "<g class=\"node\" id=\"node46\">\n",
       "<title>140227198013008</title>\n",
       "<polygon fill=\"none\" points=\"5619.1385,-3237.5 5619.1385,-3283.5 5955.1385,-3283.5 5955.1385,-3237.5 5619.1385,-3237.5\" stroke=\"#000000\"/>\n",
       "<text fill=\"#000000\" font-family=\"Times,serif\" font-size=\"14.00\" text-anchor=\"middle\" x=\"5666.6385\" y=\"-3256.8\">a12: Attention</text>\n",
       "<polyline fill=\"none\" points=\"5714.1385,-3237.5 5714.1385,-3283.5 \" stroke=\"#000000\"/>\n",
       "<text fill=\"#000000\" font-family=\"Times,serif\" font-size=\"14.00\" text-anchor=\"middle\" x=\"5741.6385\" y=\"-3268.3\">input:</text>\n",
       "<polyline fill=\"none\" points=\"5714.1385,-3260.5 5769.1385,-3260.5 \" stroke=\"#000000\"/>\n",
       "<text fill=\"#000000\" font-family=\"Times,serif\" font-size=\"14.00\" text-anchor=\"middle\" x=\"5741.6385\" y=\"-3245.3\">output:</text>\n",
       "<polyline fill=\"none\" points=\"5769.1385,-3237.5 5769.1385,-3283.5 \" stroke=\"#000000\"/>\n",
       "<text fill=\"#000000\" font-family=\"Times,serif\" font-size=\"14.00\" text-anchor=\"middle\" x=\"5862.1385\" y=\"-3268.3\">[(None, 512), (None, 64, 512)]</text>\n",
       "<polyline fill=\"none\" points=\"5769.1385,-3260.5 5955.1385,-3260.5 \" stroke=\"#000000\"/>\n",
       "<text fill=\"#000000\" font-family=\"Times,serif\" font-size=\"14.00\" text-anchor=\"middle\" x=\"5862.1385\" y=\"-3245.3\">[(None, 1, 512), (1, 64)]</text>\n",
       "</g>\n",
       "<!-- 140227448654288&#45;&gt;140227198013008 -->\n",
       "<g class=\"edge\" id=\"edge47\">\n",
       "<title>140227448654288-&gt;140227198013008</title>\n",
       "<path d=\"M5511.7623,-3320.4901C5561.3128,-3309.6956 5620.4935,-3296.8033 5671.2711,-3285.7415\" fill=\"none\" stroke=\"#000000\"/>\n",
       "<polygon fill=\"#000000\" points=\"5672.2834,-3289.1031 5681.3093,-3283.5547 5670.7934,-3282.2635 5672.2834,-3289.1031\" stroke=\"#000000\"/>\n",
       "</g>\n",
       "<!-- 140227197630352 -->\n",
       "<g class=\"node\" id=\"node47\">\n",
       "<title>140227197630352</title>\n",
       "<polygon fill=\"none\" points=\"5973.1385,-3237.5 5973.1385,-3283.5 6309.1385,-3283.5 6309.1385,-3237.5 5973.1385,-3237.5\" stroke=\"#000000\"/>\n",
       "<text fill=\"#000000\" font-family=\"Times,serif\" font-size=\"14.00\" text-anchor=\"middle\" x=\"6020.6385\" y=\"-3256.8\">a13: Attention</text>\n",
       "<polyline fill=\"none\" points=\"6068.1385,-3237.5 6068.1385,-3283.5 \" stroke=\"#000000\"/>\n",
       "<text fill=\"#000000\" font-family=\"Times,serif\" font-size=\"14.00\" text-anchor=\"middle\" x=\"6095.6385\" y=\"-3268.3\">input:</text>\n",
       "<polyline fill=\"none\" points=\"6068.1385,-3260.5 6123.1385,-3260.5 \" stroke=\"#000000\"/>\n",
       "<text fill=\"#000000\" font-family=\"Times,serif\" font-size=\"14.00\" text-anchor=\"middle\" x=\"6095.6385\" y=\"-3245.3\">output:</text>\n",
       "<polyline fill=\"none\" points=\"6123.1385,-3237.5 6123.1385,-3283.5 \" stroke=\"#000000\"/>\n",
       "<text fill=\"#000000\" font-family=\"Times,serif\" font-size=\"14.00\" text-anchor=\"middle\" x=\"6216.1385\" y=\"-3268.3\">[(None, 512), (None, 64, 512)]</text>\n",
       "<polyline fill=\"none\" points=\"6123.1385,-3260.5 6309.1385,-3260.5 \" stroke=\"#000000\"/>\n",
       "<text fill=\"#000000\" font-family=\"Times,serif\" font-size=\"14.00\" text-anchor=\"middle\" x=\"6216.1385\" y=\"-3245.3\">[(None, 1, 512), (1, 64)]</text>\n",
       "</g>\n",
       "<!-- 140227448654288&#45;&gt;140227197630352 -->\n",
       "<g class=\"edge\" id=\"edge49\">\n",
       "<title>140227448654288-&gt;140227197630352</title>\n",
       "<path d=\"M5634.677,-3320.4735C5732.8562,-3310.2448 5849.1247,-3297.6859 5963.0316,-3284.1206\" fill=\"none\" stroke=\"#000000\"/>\n",
       "<polygon fill=\"#000000\" points=\"5963.4704,-3287.5932 5972.9848,-3282.932 5962.6402,-3280.6425 5963.4704,-3287.5932\" stroke=\"#000000\"/>\n",
       "</g>\n",
       "<!-- 140227195573392 -->\n",
       "<g class=\"node\" id=\"node48\">\n",
       "<title>140227195573392</title>\n",
       "<polygon fill=\"none\" points=\"6327.1385,-3237.5 6327.1385,-3283.5 6663.1385,-3283.5 6663.1385,-3237.5 6327.1385,-3237.5\" stroke=\"#000000\"/>\n",
       "<text fill=\"#000000\" font-family=\"Times,serif\" font-size=\"14.00\" text-anchor=\"middle\" x=\"6374.6385\" y=\"-3256.8\">a14: Attention</text>\n",
       "<polyline fill=\"none\" points=\"6422.1385,-3237.5 6422.1385,-3283.5 \" stroke=\"#000000\"/>\n",
       "<text fill=\"#000000\" font-family=\"Times,serif\" font-size=\"14.00\" text-anchor=\"middle\" x=\"6449.6385\" y=\"-3268.3\">input:</text>\n",
       "<polyline fill=\"none\" points=\"6422.1385,-3260.5 6477.1385,-3260.5 \" stroke=\"#000000\"/>\n",
       "<text fill=\"#000000\" font-family=\"Times,serif\" font-size=\"14.00\" text-anchor=\"middle\" x=\"6449.6385\" y=\"-3245.3\">output:</text>\n",
       "<polyline fill=\"none\" points=\"6477.1385,-3237.5 6477.1385,-3283.5 \" stroke=\"#000000\"/>\n",
       "<text fill=\"#000000\" font-family=\"Times,serif\" font-size=\"14.00\" text-anchor=\"middle\" x=\"6570.1385\" y=\"-3268.3\">[(None, 512), (None, 64, 512)]</text>\n",
       "<polyline fill=\"none\" points=\"6477.1385,-3260.5 6663.1385,-3260.5 \" stroke=\"#000000\"/>\n",
       "<text fill=\"#000000\" font-family=\"Times,serif\" font-size=\"14.00\" text-anchor=\"middle\" x=\"6570.1385\" y=\"-3245.3\">[(None, 1, 512), (1, 64)]</text>\n",
       "</g>\n",
       "<!-- 140227448654288&#45;&gt;140227195573392 -->\n",
       "<g class=\"edge\" id=\"edge51\">\n",
       "<title>140227448654288-&gt;140227195573392</title>\n",
       "<path d=\"M5650.8046,-3320.6975C5653.9344,-3320.4602 5657.0469,-3320.2275 5660.1385,-3320 5948.9502,-3298.7466 6024.8349,-3311.0111 6316.9686,-3284.0751\" fill=\"none\" stroke=\"#000000\"/>\n",
       "<polygon fill=\"#000000\" points=\"6317.374,-3287.5526 6327.0071,-3283.142 6316.7261,-3280.5826 6317.374,-3287.5526\" stroke=\"#000000\"/>\n",
       "</g>\n",
       "<!-- 140227100016208 -->\n",
       "<g class=\"node\" id=\"node49\">\n",
       "<title>140227100016208</title>\n",
       "<polygon fill=\"none\" points=\"6681.1385,-3237.5 6681.1385,-3283.5 7017.1385,-3283.5 7017.1385,-3237.5 6681.1385,-3237.5\" stroke=\"#000000\"/>\n",
       "<text fill=\"#000000\" font-family=\"Times,serif\" font-size=\"14.00\" text-anchor=\"middle\" x=\"6728.6385\" y=\"-3256.8\">a15: Attention</text>\n",
       "<polyline fill=\"none\" points=\"6776.1385,-3237.5 6776.1385,-3283.5 \" stroke=\"#000000\"/>\n",
       "<text fill=\"#000000\" font-family=\"Times,serif\" font-size=\"14.00\" text-anchor=\"middle\" x=\"6803.6385\" y=\"-3268.3\">input:</text>\n",
       "<polyline fill=\"none\" points=\"6776.1385,-3260.5 6831.1385,-3260.5 \" stroke=\"#000000\"/>\n",
       "<text fill=\"#000000\" font-family=\"Times,serif\" font-size=\"14.00\" text-anchor=\"middle\" x=\"6803.6385\" y=\"-3245.3\">output:</text>\n",
       "<polyline fill=\"none\" points=\"6831.1385,-3237.5 6831.1385,-3283.5 \" stroke=\"#000000\"/>\n",
       "<text fill=\"#000000\" font-family=\"Times,serif\" font-size=\"14.00\" text-anchor=\"middle\" x=\"6924.1385\" y=\"-3268.3\">[(None, 512), (None, 64, 512)]</text>\n",
       "<polyline fill=\"none\" points=\"6831.1385,-3260.5 7017.1385,-3260.5 \" stroke=\"#000000\"/>\n",
       "<text fill=\"#000000\" font-family=\"Times,serif\" font-size=\"14.00\" text-anchor=\"middle\" x=\"6924.1385\" y=\"-3245.3\">[(None, 1, 512), (1, 64)]</text>\n",
       "</g>\n",
       "<!-- 140227448654288&#45;&gt;140227100016208 -->\n",
       "<g class=\"edge\" id=\"edge53\">\n",
       "<title>140227448654288-&gt;140227100016208</title>\n",
       "<path d=\"M5650.7988,-3320.6136C5653.9305,-3320.4027 5657.0448,-3320.198 5660.1385,-3320 6105.9924,-3291.4677 6221.9614,-3321.2187 6671.0196,-3284.0535\" fill=\"none\" stroke=\"#000000\"/>\n",
       "<polygon fill=\"#000000\" points=\"6671.3396,-3287.5391 6681.0141,-3283.2199 6670.7577,-3280.5633 6671.3396,-3287.5391\" stroke=\"#000000\"/>\n",
       "</g>\n",
       "<!-- 140227097821072 -->\n",
       "<g class=\"node\" id=\"node50\">\n",
       "<title>140227097821072</title>\n",
       "<polygon fill=\"none\" points=\"4203.1385,-3237.5 4203.1385,-3283.5 4539.1385,-3283.5 4539.1385,-3237.5 4203.1385,-3237.5\" stroke=\"#000000\"/>\n",
       "<text fill=\"#000000\" font-family=\"Times,serif\" font-size=\"14.00\" text-anchor=\"middle\" x=\"4250.6385\" y=\"-3256.8\">a16: Attention</text>\n",
       "<polyline fill=\"none\" points=\"4298.1385,-3237.5 4298.1385,-3283.5 \" stroke=\"#000000\"/>\n",
       "<text fill=\"#000000\" font-family=\"Times,serif\" font-size=\"14.00\" text-anchor=\"middle\" x=\"4325.6385\" y=\"-3268.3\">input:</text>\n",
       "<polyline fill=\"none\" points=\"4298.1385,-3260.5 4353.1385,-3260.5 \" stroke=\"#000000\"/>\n",
       "<text fill=\"#000000\" font-family=\"Times,serif\" font-size=\"14.00\" text-anchor=\"middle\" x=\"4325.6385\" y=\"-3245.3\">output:</text>\n",
       "<polyline fill=\"none\" points=\"4353.1385,-3237.5 4353.1385,-3283.5 \" stroke=\"#000000\"/>\n",
       "<text fill=\"#000000\" font-family=\"Times,serif\" font-size=\"14.00\" text-anchor=\"middle\" x=\"4446.1385\" y=\"-3268.3\">[(None, 512), (None, 64, 512)]</text>\n",
       "<polyline fill=\"none\" points=\"4353.1385,-3260.5 4539.1385,-3260.5 \" stroke=\"#000000\"/>\n",
       "<text fill=\"#000000\" font-family=\"Times,serif\" font-size=\"14.00\" text-anchor=\"middle\" x=\"4446.1385\" y=\"-3245.3\">[(None, 1, 512), (1, 64)]</text>\n",
       "</g>\n",
       "<!-- 140227448654288&#45;&gt;140227097821072 -->\n",
       "<g class=\"edge\" id=\"edge55\">\n",
       "<title>140227448654288-&gt;140227097821072</title>\n",
       "<path d=\"M5161.2388,-3330.6122C4992.1051,-3320.7261 4761.7798,-3305.3194 4549.3762,-3284.0975\" fill=\"none\" stroke=\"#000000\"/>\n",
       "<polygon fill=\"#000000\" points=\"4549.5755,-3280.6 4539.2757,-3283.0825 4548.8756,-3287.5649 4549.5755,-3280.6\" stroke=\"#000000\"/>\n",
       "</g>\n",
       "<!-- 140227098015760 -->\n",
       "<g class=\"node\" id=\"node51\">\n",
       "<title>140227098015760</title>\n",
       "<polygon fill=\"none\" points=\"4557.1385,-3237.5 4557.1385,-3283.5 4893.1385,-3283.5 4893.1385,-3237.5 4557.1385,-3237.5\" stroke=\"#000000\"/>\n",
       "<text fill=\"#000000\" font-family=\"Times,serif\" font-size=\"14.00\" text-anchor=\"middle\" x=\"4604.6385\" y=\"-3256.8\">a17: Attention</text>\n",
       "<polyline fill=\"none\" points=\"4652.1385,-3237.5 4652.1385,-3283.5 \" stroke=\"#000000\"/>\n",
       "<text fill=\"#000000\" font-family=\"Times,serif\" font-size=\"14.00\" text-anchor=\"middle\" x=\"4679.6385\" y=\"-3268.3\">input:</text>\n",
       "<polyline fill=\"none\" points=\"4652.1385,-3260.5 4707.1385,-3260.5 \" stroke=\"#000000\"/>\n",
       "<text fill=\"#000000\" font-family=\"Times,serif\" font-size=\"14.00\" text-anchor=\"middle\" x=\"4679.6385\" y=\"-3245.3\">output:</text>\n",
       "<polyline fill=\"none\" points=\"4707.1385,-3237.5 4707.1385,-3283.5 \" stroke=\"#000000\"/>\n",
       "<text fill=\"#000000\" font-family=\"Times,serif\" font-size=\"14.00\" text-anchor=\"middle\" x=\"4800.1385\" y=\"-3268.3\">[(None, 512), (None, 64, 512)]</text>\n",
       "<polyline fill=\"none\" points=\"4707.1385,-3260.5 4893.1385,-3260.5 \" stroke=\"#000000\"/>\n",
       "<text fill=\"#000000\" font-family=\"Times,serif\" font-size=\"14.00\" text-anchor=\"middle\" x=\"4800.1385\" y=\"-3245.3\">[(None, 1, 512), (1, 64)]</text>\n",
       "</g>\n",
       "<!-- 140227448654288&#45;&gt;140227098015760 -->\n",
       "<g class=\"edge\" id=\"edge57\">\n",
       "<title>140227448654288-&gt;140227098015760</title>\n",
       "<path d=\"M5205.5582,-3320.4956C5116.0205,-3310.0586 5008.9455,-3297.348 4903.4969,-3284.1634\" fill=\"none\" stroke=\"#000000\"/>\n",
       "<polygon fill=\"#000000\" points=\"4903.6553,-3280.656 4893.2979,-3282.8861 4902.7854,-3287.6018 4903.6553,-3280.656\" stroke=\"#000000\"/>\n",
       "</g>\n",
       "<!-- 140227092952208 -->\n",
       "<g class=\"node\" id=\"node63\">\n",
       "<title>140227092952208</title>\n",
       "<polygon fill=\"none\" points=\"3833.6385,-2822.5 3833.6385,-2868.5 4314.6385,-2868.5 4314.6385,-2822.5 3833.6385,-2822.5\" stroke=\"#000000\"/>\n",
       "<text fill=\"#000000\" font-family=\"Times,serif\" font-size=\"14.00\" text-anchor=\"middle\" x=\"3963.1385\" y=\"-2841.8\">residual_combine_attn_1: ResidualCombine</text>\n",
       "<polyline fill=\"none\" points=\"4092.6385,-2822.5 4092.6385,-2868.5 \" stroke=\"#000000\"/>\n",
       "<text fill=\"#000000\" font-family=\"Times,serif\" font-size=\"14.00\" text-anchor=\"middle\" x=\"4120.1385\" y=\"-2853.3\">input:</text>\n",
       "<polyline fill=\"none\" points=\"4092.6385,-2845.5 4147.6385,-2845.5 \" stroke=\"#000000\"/>\n",
       "<text fill=\"#000000\" font-family=\"Times,serif\" font-size=\"14.00\" text-anchor=\"middle\" x=\"4120.1385\" y=\"-2830.3\">output:</text>\n",
       "<polyline fill=\"none\" points=\"4147.6385,-2822.5 4147.6385,-2868.5 \" stroke=\"#000000\"/>\n",
       "<text fill=\"#000000\" font-family=\"Times,serif\" font-size=\"14.00\" text-anchor=\"middle\" x=\"4231.1385\" y=\"-2853.3\">[(None, 512), (None, 512)]</text>\n",
       "<polyline fill=\"none\" points=\"4147.6385,-2845.5 4314.6385,-2845.5 \" stroke=\"#000000\"/>\n",
       "<text fill=\"#000000\" font-family=\"Times,serif\" font-size=\"14.00\" text-anchor=\"middle\" x=\"4231.1385\" y=\"-2830.3\">[(None, 512), (1, 1), (1, 1)]</text>\n",
       "</g>\n",
       "<!-- 140227448654288&#45;&gt;140227092952208 -->\n",
       "<g class=\"edge\" id=\"edge77\">\n",
       "<title>140227448654288-&gt;140227092952208</title>\n",
       "<path d=\"M5161.3922,-3337.4931C4862.2964,-3329.1004 4373.8502,-3311.7041 4194.1385,-3284 4039.7308,-3260.1967 3859.1385,-3333.7317 3859.1385,-3177.5 3859.1385,-3177.5 3859.1385,-3177.5 3859.1385,-3011.5 3859.1385,-2942.2298 3929.9253,-2897.7994 3990.2647,-2872.5095\" fill=\"none\" stroke=\"#000000\"/>\n",
       "<polygon fill=\"#000000\" points=\"3991.901,-2875.6225 3999.8466,-2868.6141 3989.2648,-2869.1379 3991.901,-2875.6225\" stroke=\"#000000\"/>\n",
       "</g>\n",
       "<!-- 140227448557328&#45;&gt;140227448189968 -->\n",
       "<g class=\"edge\" id=\"edge44\">\n",
       "<title>140227448557328-&gt;140227448189968</title>\n",
       "<path d=\"M5668.6181,-3321.0523C5665.7686,-3320.6909 5662.9398,-3320.3396 5660.1385,-3320 5484.4148,-3298.6974 5437.0084,-3303.6753 5257.3373,-3284.1079\" fill=\"none\" stroke=\"#000000\"/>\n",
       "<polygon fill=\"#000000\" points=\"5257.6068,-3280.6165 5247.2841,-3283.0026 5256.8417,-3287.5746 5257.6068,-3280.6165\" stroke=\"#000000\"/>\n",
       "</g>\n",
       "<!-- 140227448557328&#45;&gt;140227448249040 -->\n",
       "<g class=\"edge\" id=\"edge46\">\n",
       "<title>140227448557328-&gt;140227448249040</title>\n",
       "<path d=\"M5707.792,-3320.4901C5658.3715,-3309.6956 5599.3462,-3296.8033 5548.7018,-3285.7415\" fill=\"none\" stroke=\"#000000\"/>\n",
       "<polygon fill=\"#000000\" points=\"5549.2066,-3282.2693 5538.69,-3283.5547 5547.7128,-3289.108 5549.2066,-3282.2693\" stroke=\"#000000\"/>\n",
       "</g>\n",
       "<!-- 140227448557328&#45;&gt;140227198013008 -->\n",
       "<g class=\"edge\" id=\"edge48\">\n",
       "<title>140227448557328-&gt;140227198013008</title>\n",
       "<path d=\"M5805.8961,-3320.3799C5803.2978,-3312.0854 5800.315,-3302.5633 5797.5037,-3293.5889\" fill=\"none\" stroke=\"#000000\"/>\n",
       "<polygon fill=\"#000000\" points=\"5800.7616,-3292.2805 5794.4323,-3283.784 5794.0817,-3294.373 5800.7616,-3292.2805\" stroke=\"#000000\"/>\n",
       "</g>\n",
       "<!-- 140227448557328&#45;&gt;140227197630352 -->\n",
       "<g class=\"edge\" id=\"edge50\">\n",
       "<title>140227448557328-&gt;140227197630352</title>\n",
       "<path d=\"M5904.0692,-3320.4901C5946.3714,-3309.7856 5996.8265,-3297.018 6040.2948,-3286.0184\" fill=\"none\" stroke=\"#000000\"/>\n",
       "<polygon fill=\"#000000\" points=\"6041.1951,-3289.401 6050.0309,-3283.5547 6039.4778,-3282.6149 6041.1951,-3289.401\" stroke=\"#000000\"/>\n",
       "</g>\n",
       "<!-- 140227448557328&#45;&gt;140227195573392 -->\n",
       "<g class=\"edge\" id=\"edge52\">\n",
       "<title>140227448557328-&gt;140227195573392</title>\n",
       "<path d=\"M5957.6916,-3327.0403C6056.1449,-3315.6933 6189.7257,-3300.0325 6317.0422,-3284.1303\" fill=\"none\" stroke=\"#000000\"/>\n",
       "<polygon fill=\"#000000\" points=\"6317.4912,-3287.6015 6326.9793,-3282.887 6316.6221,-3280.6557 6317.4912,-3287.6015\" stroke=\"#000000\"/>\n",
       "</g>\n",
       "<!-- 140227448557328&#45;&gt;140227100016208 -->\n",
       "<g class=\"edge\" id=\"edge54\">\n",
       "<title>140227448557328-&gt;140227100016208</title>\n",
       "<path d=\"M5957.7614,-3336.2625C6126.4197,-3327.1876 6413.8216,-3309.7586 6670.7217,-3284.115\" fill=\"none\" stroke=\"#000000\"/>\n",
       "<polygon fill=\"#000000\" points=\"6671.4011,-3287.5645 6681.0014,-3283.0829 6670.7017,-3280.5995 6671.4011,-3287.5645\" stroke=\"#000000\"/>\n",
       "</g>\n",
       "<!-- 140227448557328&#45;&gt;140227097821072 -->\n",
       "<g class=\"edge\" id=\"edge56\">\n",
       "<title>140227448557328-&gt;140227097821072</title>\n",
       "<path d=\"M5668.2335,-3320.7916C5665.5148,-3320.5123 5662.8144,-3320.2479 5660.1385,-3320 5171.1318,-3274.695 5042.7017,-3323.9086 4549.4981,-3284.0683\" fill=\"none\" stroke=\"#000000\"/>\n",
       "<polygon fill=\"#000000\" points=\"4549.5135,-3280.558 4539.2619,-3283.2329 4548.944,-3287.5348 4549.5135,-3280.558\" stroke=\"#000000\"/>\n",
       "</g>\n",
       "<!-- 140227448557328&#45;&gt;140227098015760 -->\n",
       "<g class=\"edge\" id=\"edge58\">\n",
       "<title>140227448557328-&gt;140227098015760</title>\n",
       "<path d=\"M5668.6359,-3320.892C5665.781,-3320.5795 5662.9462,-3320.2815 5660.1385,-3320 5327.8297,-3286.6812 5239.7636,-3313.6831 4903.2948,-3284.0643\" fill=\"none\" stroke=\"#000000\"/>\n",
       "<polygon fill=\"#000000\" points=\"4903.5382,-3280.5722 4893.2672,-3283.1713 4902.9173,-3287.5446 4903.5382,-3280.5722\" stroke=\"#000000\"/>\n",
       "</g>\n",
       "<!-- 140226920537488 -->\n",
       "<g class=\"node\" id=\"node81\">\n",
       "<title>140226920537488</title>\n",
       "<polygon fill=\"none\" points=\"4600.1385,-1992.5 4600.1385,-2038.5 5362.1385,-2038.5 5362.1385,-1992.5 4600.1385,-1992.5\" stroke=\"#000000\"/>\n",
       "<text fill=\"#000000\" font-family=\"Times,serif\" font-size=\"14.00\" text-anchor=\"middle\" x=\"4674.6385\" y=\"-2011.8\">eca10: EncDecAttention</text>\n",
       "<polyline fill=\"none\" points=\"4749.1385,-1992.5 4749.1385,-2038.5 \" stroke=\"#000000\"/>\n",
       "<text fill=\"#000000\" font-family=\"Times,serif\" font-size=\"14.00\" text-anchor=\"middle\" x=\"4776.6385\" y=\"-2023.3\">input:</text>\n",
       "<polyline fill=\"none\" points=\"4749.1385,-2015.5 4804.1385,-2015.5 \" stroke=\"#000000\"/>\n",
       "<text fill=\"#000000\" font-family=\"Times,serif\" font-size=\"14.00\" text-anchor=\"middle\" x=\"4776.6385\" y=\"-2000.3\">output:</text>\n",
       "<polyline fill=\"none\" points=\"4804.1385,-1992.5 4804.1385,-2038.5 \" stroke=\"#000000\"/>\n",
       "<text fill=\"#000000\" font-family=\"Times,serif\" font-size=\"14.00\" text-anchor=\"middle\" x=\"5083.1385\" y=\"-2023.3\">[(None, 60, 512), (None, 64, 512)]</text>\n",
       "<polyline fill=\"none\" points=\"4804.1385,-2015.5 5362.1385,-2015.5 \" stroke=\"#000000\"/>\n",
       "<text fill=\"#000000\" font-family=\"Times,serif\" font-size=\"14.00\" text-anchor=\"middle\" x=\"5083.1385\" y=\"-2000.3\">[(None, 60, 64), (None, 64, 64), (None, 64, 512), (None, 60, 64), (None, 60, 64), (None, 60, 512)]</text>\n",
       "</g>\n",
       "<!-- 140227448557328&#45;&gt;140226920537488 -->\n",
       "<g class=\"edge\" id=\"edge105\">\n",
       "<title>140227448557328-&gt;140226920537488</title>\n",
       "<path d=\"M7355.1385,-2679.5C7266.9607,-2587.9146 7489.7773,-2574.2184 7531.1385,-2454 7588.3353,-2287.7548 7483.5408,-2164.4539 7321.1385,-2098.5\" fill=\"none\" stroke=\"#000000\"/>\n",
       "<path d=\"M7321.1385,-2098.5C7118.7637,-2020.8302 5587.6832,-2048.8256 5371.1385,-2039 5370.9162,-2038.9899 5370.6938,-2038.9798 5370.4713,-2038.9697\" fill=\"none\" stroke=\"#000000\"/>\n",
       "<polygon fill=\"#000000\" points=\"5370.5646,-2035.4704 5360.414,-2038.5062 5370.2422,-2042.463 5370.5646,-2035.4704\" stroke=\"#000000\"/>\n",
       "</g>\n",
       "<!-- 140226918569360 -->\n",
       "<g class=\"node\" id=\"node82\">\n",
       "<title>140226918569360</title>\n",
       "<polygon fill=\"none\" points=\"1761.1385,-1992.5 1761.1385,-2038.5 2523.1385,-2038.5 2523.1385,-1992.5 1761.1385,-1992.5\" stroke=\"#000000\"/>\n",
       "<text fill=\"#000000\" font-family=\"Times,serif\" font-size=\"14.00\" text-anchor=\"middle\" x=\"1835.6385\" y=\"-2011.8\">eca11: EncDecAttention</text>\n",
       "<polyline fill=\"none\" points=\"1910.1385,-1992.5 1910.1385,-2038.5 \" stroke=\"#000000\"/>\n",
       "<text fill=\"#000000\" font-family=\"Times,serif\" font-size=\"14.00\" text-anchor=\"middle\" x=\"1937.6385\" y=\"-2023.3\">input:</text>\n",
       "<polyline fill=\"none\" points=\"1910.1385,-2015.5 1965.1385,-2015.5 \" stroke=\"#000000\"/>\n",
       "<text fill=\"#000000\" font-family=\"Times,serif\" font-size=\"14.00\" text-anchor=\"middle\" x=\"1937.6385\" y=\"-2000.3\">output:</text>\n",
       "<polyline fill=\"none\" points=\"1965.1385,-1992.5 1965.1385,-2038.5 \" stroke=\"#000000\"/>\n",
       "<text fill=\"#000000\" font-family=\"Times,serif\" font-size=\"14.00\" text-anchor=\"middle\" x=\"2244.1385\" y=\"-2023.3\">[(None, 60, 512), (None, 64, 512)]</text>\n",
       "<polyline fill=\"none\" points=\"1965.1385,-2015.5 2523.1385,-2015.5 \" stroke=\"#000000\"/>\n",
       "<text fill=\"#000000\" font-family=\"Times,serif\" font-size=\"14.00\" text-anchor=\"middle\" x=\"2244.1385\" y=\"-2000.3\">[(None, 60, 64), (None, 64, 64), (None, 64, 512), (None, 60, 64), (None, 60, 64), (None, 60, 512)]</text>\n",
       "</g>\n",
       "<!-- 140227448557328&#45;&gt;140226918569360 -->\n",
       "<g class=\"edge\" id=\"edge107\">\n",
       "<title>140227448557328-&gt;140226918569360</title>\n",
       "<path d=\"M2142.1385,-2098.5C2143.6131,-2082.3337 2143.7899,-2064.3223 2143.5255,-2049.2205\" fill=\"none\" stroke=\"#000000\"/>\n",
       "<polygon fill=\"#000000\" points=\"2147.0142,-2048.7164 2143.2673,-2038.8063 2140.0163,-2048.89 2147.0142,-2048.7164\" stroke=\"#000000\"/>\n",
       "</g>\n",
       "<!-- 140226916442000 -->\n",
       "<g class=\"node\" id=\"node83\">\n",
       "<title>140226916442000</title>\n",
       "<polygon fill=\"none\" points=\"5380.1385,-1992.5 5380.1385,-2038.5 6142.1385,-2038.5 6142.1385,-1992.5 5380.1385,-1992.5\" stroke=\"#000000\"/>\n",
       "<text fill=\"#000000\" font-family=\"Times,serif\" font-size=\"14.00\" text-anchor=\"middle\" x=\"5454.6385\" y=\"-2011.8\">eca12: EncDecAttention</text>\n",
       "<polyline fill=\"none\" points=\"5529.1385,-1992.5 5529.1385,-2038.5 \" stroke=\"#000000\"/>\n",
       "<text fill=\"#000000\" font-family=\"Times,serif\" font-size=\"14.00\" text-anchor=\"middle\" x=\"5556.6385\" y=\"-2023.3\">input:</text>\n",
       "<polyline fill=\"none\" points=\"5529.1385,-2015.5 5584.1385,-2015.5 \" stroke=\"#000000\"/>\n",
       "<text fill=\"#000000\" font-family=\"Times,serif\" font-size=\"14.00\" text-anchor=\"middle\" x=\"5556.6385\" y=\"-2000.3\">output:</text>\n",
       "<polyline fill=\"none\" points=\"5584.1385,-1992.5 5584.1385,-2038.5 \" stroke=\"#000000\"/>\n",
       "<text fill=\"#000000\" font-family=\"Times,serif\" font-size=\"14.00\" text-anchor=\"middle\" x=\"5863.1385\" y=\"-2023.3\">[(None, 60, 512), (None, 64, 512)]</text>\n",
       "<polyline fill=\"none\" points=\"5584.1385,-2015.5 6142.1385,-2015.5 \" stroke=\"#000000\"/>\n",
       "<text fill=\"#000000\" font-family=\"Times,serif\" font-size=\"14.00\" text-anchor=\"middle\" x=\"5863.1385\" y=\"-2000.3\">[(None, 60, 64), (None, 64, 64), (None, 64, 512), (None, 60, 64), (None, 60, 64), (None, 60, 512)]</text>\n",
       "</g>\n",
       "<!-- 140227448557328&#45;&gt;140226916442000 -->\n",
       "<g class=\"edge\" id=\"edge109\">\n",
       "<title>140227448557328-&gt;140226916442000</title>\n",
       "<path d=\"M7321.1385,-2098.5C7203.1276,-2050.5741 6320.2442,-2046.3832 6152.2301,-2038.9944\" fill=\"none\" stroke=\"#000000\"/>\n",
       "<polygon fill=\"#000000\" points=\"6152.3724,-2035.4972 6142.2128,-2038.5025 6152.0291,-2042.4888 6152.3724,-2035.4972\" stroke=\"#000000\"/>\n",
       "</g>\n",
       "<!-- 140226913945616 -->\n",
       "<g class=\"node\" id=\"node84\">\n",
       "<title>140226913945616</title>\n",
       "<polygon fill=\"none\" points=\"6160.1385,-1992.5 6160.1385,-2038.5 6922.1385,-2038.5 6922.1385,-1992.5 6160.1385,-1992.5\" stroke=\"#000000\"/>\n",
       "<text fill=\"#000000\" font-family=\"Times,serif\" font-size=\"14.00\" text-anchor=\"middle\" x=\"6234.6385\" y=\"-2011.8\">eca13: EncDecAttention</text>\n",
       "<polyline fill=\"none\" points=\"6309.1385,-1992.5 6309.1385,-2038.5 \" stroke=\"#000000\"/>\n",
       "<text fill=\"#000000\" font-family=\"Times,serif\" font-size=\"14.00\" text-anchor=\"middle\" x=\"6336.6385\" y=\"-2023.3\">input:</text>\n",
       "<polyline fill=\"none\" points=\"6309.1385,-2015.5 6364.1385,-2015.5 \" stroke=\"#000000\"/>\n",
       "<text fill=\"#000000\" font-family=\"Times,serif\" font-size=\"14.00\" text-anchor=\"middle\" x=\"6336.6385\" y=\"-2000.3\">output:</text>\n",
       "<polyline fill=\"none\" points=\"6364.1385,-1992.5 6364.1385,-2038.5 \" stroke=\"#000000\"/>\n",
       "<text fill=\"#000000\" font-family=\"Times,serif\" font-size=\"14.00\" text-anchor=\"middle\" x=\"6643.1385\" y=\"-2023.3\">[(None, 60, 512), (None, 64, 512)]</text>\n",
       "<polyline fill=\"none\" points=\"6364.1385,-2015.5 6922.1385,-2015.5 \" stroke=\"#000000\"/>\n",
       "<text fill=\"#000000\" font-family=\"Times,serif\" font-size=\"14.00\" text-anchor=\"middle\" x=\"6643.1385\" y=\"-2000.3\">[(None, 60, 64), (None, 64, 64), (None, 64, 512), (None, 60, 64), (None, 60, 64), (None, 60, 512)]</text>\n",
       "</g>\n",
       "<!-- 140227448557328&#45;&gt;140226913945616 -->\n",
       "<g class=\"edge\" id=\"edge111\">\n",
       "<title>140227448557328-&gt;140226913945616</title>\n",
       "<path d=\"M7321.1385,-2098.5C7276.3345,-2080.3045 7041.1259,-2056.7487 6840.5946,-2039.3823\" fill=\"none\" stroke=\"#000000\"/>\n",
       "<polygon fill=\"#000000\" points=\"6840.7333,-2035.8814 6830.4693,-2038.5082 6840.1312,-2042.8554 6840.7333,-2035.8814\" stroke=\"#000000\"/>\n",
       "</g>\n",
       "<!-- 140226913947088 -->\n",
       "<g class=\"node\" id=\"node85\">\n",
       "<title>140226913947088</title>\n",
       "<polygon fill=\"none\" points=\"981.1385,-1992.5 981.1385,-2038.5 1743.1385,-2038.5 1743.1385,-1992.5 981.1385,-1992.5\" stroke=\"#000000\"/>\n",
       "<text fill=\"#000000\" font-family=\"Times,serif\" font-size=\"14.00\" text-anchor=\"middle\" x=\"1055.6385\" y=\"-2011.8\">eca14: EncDecAttention</text>\n",
       "<polyline fill=\"none\" points=\"1130.1385,-1992.5 1130.1385,-2038.5 \" stroke=\"#000000\"/>\n",
       "<text fill=\"#000000\" font-family=\"Times,serif\" font-size=\"14.00\" text-anchor=\"middle\" x=\"1157.6385\" y=\"-2023.3\">input:</text>\n",
       "<polyline fill=\"none\" points=\"1130.1385,-2015.5 1185.1385,-2015.5 \" stroke=\"#000000\"/>\n",
       "<text fill=\"#000000\" font-family=\"Times,serif\" font-size=\"14.00\" text-anchor=\"middle\" x=\"1157.6385\" y=\"-2000.3\">output:</text>\n",
       "<polyline fill=\"none\" points=\"1185.1385,-1992.5 1185.1385,-2038.5 \" stroke=\"#000000\"/>\n",
       "<text fill=\"#000000\" font-family=\"Times,serif\" font-size=\"14.00\" text-anchor=\"middle\" x=\"1464.1385\" y=\"-2023.3\">[(None, 60, 512), (None, 64, 512)]</text>\n",
       "<polyline fill=\"none\" points=\"1185.1385,-2015.5 1743.1385,-2015.5 \" stroke=\"#000000\"/>\n",
       "<text fill=\"#000000\" font-family=\"Times,serif\" font-size=\"14.00\" text-anchor=\"middle\" x=\"1464.1385\" y=\"-2000.3\">[(None, 60, 64), (None, 64, 64), (None, 64, 512), (None, 60, 64), (None, 60, 64), (None, 60, 512)]</text>\n",
       "</g>\n",
       "<!-- 140227448557328&#45;&gt;140226913947088 -->\n",
       "<g class=\"edge\" id=\"edge113\">\n",
       "<title>140227448557328-&gt;140226913947088</title>\n",
       "<path d=\"M2142.1385,-2098.5C2144.18,-2076.1194 1936.6711,-2054.7483 1735.2026,-2039.2976\" fill=\"none\" stroke=\"#000000\"/>\n",
       "<polygon fill=\"#000000\" points=\"1735.2425,-2035.7906 1725.0054,-2038.5202 1734.7103,-2042.7704 1735.2425,-2035.7906\" stroke=\"#000000\"/>\n",
       "</g>\n",
       "<!-- 140226909802576 -->\n",
       "<g class=\"node\" id=\"node86\">\n",
       "<title>140226909802576</title>\n",
       "<polygon fill=\"none\" points=\"7720.1385,-1992.5 7720.1385,-2038.5 8482.1385,-2038.5 8482.1385,-1992.5 7720.1385,-1992.5\" stroke=\"#000000\"/>\n",
       "<text fill=\"#000000\" font-family=\"Times,serif\" font-size=\"14.00\" text-anchor=\"middle\" x=\"7794.6385\" y=\"-2011.8\">eca15: EncDecAttention</text>\n",
       "<polyline fill=\"none\" points=\"7869.1385,-1992.5 7869.1385,-2038.5 \" stroke=\"#000000\"/>\n",
       "<text fill=\"#000000\" font-family=\"Times,serif\" font-size=\"14.00\" text-anchor=\"middle\" x=\"7896.6385\" y=\"-2023.3\">input:</text>\n",
       "<polyline fill=\"none\" points=\"7869.1385,-2015.5 7924.1385,-2015.5 \" stroke=\"#000000\"/>\n",
       "<text fill=\"#000000\" font-family=\"Times,serif\" font-size=\"14.00\" text-anchor=\"middle\" x=\"7896.6385\" y=\"-2000.3\">output:</text>\n",
       "<polyline fill=\"none\" points=\"7924.1385,-1992.5 7924.1385,-2038.5 \" stroke=\"#000000\"/>\n",
       "<text fill=\"#000000\" font-family=\"Times,serif\" font-size=\"14.00\" text-anchor=\"middle\" x=\"8203.1385\" y=\"-2023.3\">[(None, 60, 512), (None, 64, 512)]</text>\n",
       "<polyline fill=\"none\" points=\"7924.1385,-2015.5 8482.1385,-2015.5 \" stroke=\"#000000\"/>\n",
       "<text fill=\"#000000\" font-family=\"Times,serif\" font-size=\"14.00\" text-anchor=\"middle\" x=\"8203.1385\" y=\"-2000.3\">[(None, 60, 64), (None, 64, 64), (None, 64, 512), (None, 60, 64), (None, 60, 64), (None, 60, 512)]</text>\n",
       "</g>\n",
       "<!-- 140227448557328&#45;&gt;140226909802576 -->\n",
       "<g class=\"edge\" id=\"edge115\">\n",
       "<title>140227448557328-&gt;140226909802576</title>\n",
       "<path d=\"M7321.1385,-2098.5C7275.4712,-2080.9733 7526.7537,-2056.9759 7756.0524,-2039.2918\" fill=\"none\" stroke=\"#000000\"/>\n",
       "<polygon fill=\"#000000\" points=\"7756.5607,-2042.7631 7766.2632,-2038.5073 7756.0245,-2035.7837 7756.5607,-2042.7631\" stroke=\"#000000\"/>\n",
       "</g>\n",
       "<!-- 140226907833168 -->\n",
       "<g class=\"node\" id=\"node87\">\n",
       "<title>140226907833168</title>\n",
       "<polygon fill=\"none\" points=\"2541.1385,-1992.5 2541.1385,-2038.5 3303.1385,-2038.5 3303.1385,-1992.5 2541.1385,-1992.5\" stroke=\"#000000\"/>\n",
       "<text fill=\"#000000\" font-family=\"Times,serif\" font-size=\"14.00\" text-anchor=\"middle\" x=\"2615.6385\" y=\"-2011.8\">eca16: EncDecAttention</text>\n",
       "<polyline fill=\"none\" points=\"2690.1385,-1992.5 2690.1385,-2038.5 \" stroke=\"#000000\"/>\n",
       "<text fill=\"#000000\" font-family=\"Times,serif\" font-size=\"14.00\" text-anchor=\"middle\" x=\"2717.6385\" y=\"-2023.3\">input:</text>\n",
       "<polyline fill=\"none\" points=\"2690.1385,-2015.5 2745.1385,-2015.5 \" stroke=\"#000000\"/>\n",
       "<text fill=\"#000000\" font-family=\"Times,serif\" font-size=\"14.00\" text-anchor=\"middle\" x=\"2717.6385\" y=\"-2000.3\">output:</text>\n",
       "<polyline fill=\"none\" points=\"2745.1385,-1992.5 2745.1385,-2038.5 \" stroke=\"#000000\"/>\n",
       "<text fill=\"#000000\" font-family=\"Times,serif\" font-size=\"14.00\" text-anchor=\"middle\" x=\"3024.1385\" y=\"-2023.3\">[(None, 60, 512), (None, 64, 512)]</text>\n",
       "<polyline fill=\"none\" points=\"2745.1385,-2015.5 3303.1385,-2015.5 \" stroke=\"#000000\"/>\n",
       "<text fill=\"#000000\" font-family=\"Times,serif\" font-size=\"14.00\" text-anchor=\"middle\" x=\"3024.1385\" y=\"-2000.3\">[(None, 60, 64), (None, 64, 64), (None, 64, 512), (None, 60, 64), (None, 60, 64), (None, 60, 512)]</text>\n",
       "</g>\n",
       "<!-- 140227448557328&#45;&gt;140226907833168 -->\n",
       "<g class=\"edge\" id=\"edge117\">\n",
       "<title>140227448557328-&gt;140226907833168</title>\n",
       "<path d=\"M2142.1385,-2098.5C2144.18,-2076.1194 2351.5605,-2054.7483 2551.9472,-2039.2976\" fill=\"none\" stroke=\"#000000\"/>\n",
       "<polygon fill=\"#000000\" points=\"2552.3857,-2042.7744 2562.0889,-2038.5202 2551.8506,-2035.7949 2552.3857,-2042.7744\" stroke=\"#000000\"/>\n",
       "</g>\n",
       "<!-- 140226905709712 -->\n",
       "<g class=\"node\" id=\"node88\">\n",
       "<title>140226905709712</title>\n",
       "<polygon fill=\"none\" points=\"6940.1385,-1992.5 6940.1385,-2038.5 7702.1385,-2038.5 7702.1385,-1992.5 6940.1385,-1992.5\" stroke=\"#000000\"/>\n",
       "<text fill=\"#000000\" font-family=\"Times,serif\" font-size=\"14.00\" text-anchor=\"middle\" x=\"7014.6385\" y=\"-2011.8\">eca17: EncDecAttention</text>\n",
       "<polyline fill=\"none\" points=\"7089.1385,-1992.5 7089.1385,-2038.5 \" stroke=\"#000000\"/>\n",
       "<text fill=\"#000000\" font-family=\"Times,serif\" font-size=\"14.00\" text-anchor=\"middle\" x=\"7116.6385\" y=\"-2023.3\">input:</text>\n",
       "<polyline fill=\"none\" points=\"7089.1385,-2015.5 7144.1385,-2015.5 \" stroke=\"#000000\"/>\n",
       "<text fill=\"#000000\" font-family=\"Times,serif\" font-size=\"14.00\" text-anchor=\"middle\" x=\"7116.6385\" y=\"-2000.3\">output:</text>\n",
       "<polyline fill=\"none\" points=\"7144.1385,-1992.5 7144.1385,-2038.5 \" stroke=\"#000000\"/>\n",
       "<text fill=\"#000000\" font-family=\"Times,serif\" font-size=\"14.00\" text-anchor=\"middle\" x=\"7423.1385\" y=\"-2023.3\">[(None, 60, 512), (None, 64, 512)]</text>\n",
       "<polyline fill=\"none\" points=\"7144.1385,-2015.5 7702.1385,-2015.5 \" stroke=\"#000000\"/>\n",
       "<text fill=\"#000000\" font-family=\"Times,serif\" font-size=\"14.00\" text-anchor=\"middle\" x=\"7423.1385\" y=\"-2000.3\">[(None, 60, 64), (None, 64, 64), (None, 64, 512), (None, 60, 64), (None, 60, 64), (None, 60, 512)]</text>\n",
       "</g>\n",
       "<!-- 140227448557328&#45;&gt;140226905709712 -->\n",
       "<g class=\"edge\" id=\"edge119\">\n",
       "<title>140227448557328-&gt;140226905709712</title>\n",
       "<path d=\"M7321.1385,-2098.5C7302.8399,-2091.4771 7303.9863,-2068.4856 7309.0803,-2048.4772\" fill=\"none\" stroke=\"#000000\"/>\n",
       "<polygon fill=\"#000000\" points=\"7312.4969,-2049.2621 7311.9255,-2038.6827 7305.7748,-2047.3094 7312.4969,-2049.2621\" stroke=\"#000000\"/>\n",
       "</g>\n",
       "<!-- 140226829541968 -->\n",
       "<g class=\"node\" id=\"node116\">\n",
       "<title>140226829541968</title>\n",
       "<polygon fill=\"none\" points=\"7790.1385,-830.5 7790.1385,-876.5 8552.1385,-876.5 8552.1385,-830.5 7790.1385,-830.5\" stroke=\"#000000\"/>\n",
       "<text fill=\"#000000\" font-family=\"Times,serif\" font-size=\"14.00\" text-anchor=\"middle\" x=\"7864.6385\" y=\"-849.8\">eca20: EncDecAttention</text>\n",
       "<polyline fill=\"none\" points=\"7939.1385,-830.5 7939.1385,-876.5 \" stroke=\"#000000\"/>\n",
       "<text fill=\"#000000\" font-family=\"Times,serif\" font-size=\"14.00\" text-anchor=\"middle\" x=\"7966.6385\" y=\"-861.3\">input:</text>\n",
       "<polyline fill=\"none\" points=\"7939.1385,-853.5 7994.1385,-853.5 \" stroke=\"#000000\"/>\n",
       "<text fill=\"#000000\" font-family=\"Times,serif\" font-size=\"14.00\" text-anchor=\"middle\" x=\"7966.6385\" y=\"-838.3\">output:</text>\n",
       "<polyline fill=\"none\" points=\"7994.1385,-830.5 7994.1385,-876.5 \" stroke=\"#000000\"/>\n",
       "<text fill=\"#000000\" font-family=\"Times,serif\" font-size=\"14.00\" text-anchor=\"middle\" x=\"8273.1385\" y=\"-861.3\">[(None, 60, 512), (None, 64, 512)]</text>\n",
       "<polyline fill=\"none\" points=\"7994.1385,-853.5 8552.1385,-853.5 \" stroke=\"#000000\"/>\n",
       "<text fill=\"#000000\" font-family=\"Times,serif\" font-size=\"14.00\" text-anchor=\"middle\" x=\"8273.1385\" y=\"-838.3\">[(None, 60, 64), (None, 64, 64), (None, 64, 512), (None, 60, 64), (None, 60, 64), (None, 60, 512)]</text>\n",
       "</g>\n",
       "<!-- 140227448557328&#45;&gt;140226829541968 -->\n",
       "<g class=\"edge\" id=\"edge165\">\n",
       "<title>140227448557328-&gt;140226829541968</title>\n",
       "<path d=\"M8171.1385,-936.5C8151.4354,-932.2694 8153.2597,-907.8907 8158.9709,-886.6401\" fill=\"none\" stroke=\"#000000\"/>\n",
       "<polygon fill=\"#000000\" points=\"8162.3804,-887.4558 8161.9068,-876.8715 8155.6766,-885.441 8162.3804,-887.4558\" stroke=\"#000000\"/>\n",
       "</g>\n",
       "<!-- 140226827466384 -->\n",
       "<g class=\"node\" id=\"node117\">\n",
       "<title>140226827466384</title>\n",
       "<polygon fill=\"none\" points=\"8570.1385,-830.5 8570.1385,-876.5 9332.1385,-876.5 9332.1385,-830.5 8570.1385,-830.5\" stroke=\"#000000\"/>\n",
       "<text fill=\"#000000\" font-family=\"Times,serif\" font-size=\"14.00\" text-anchor=\"middle\" x=\"8644.6385\" y=\"-849.8\">eca21: EncDecAttention</text>\n",
       "<polyline fill=\"none\" points=\"8719.1385,-830.5 8719.1385,-876.5 \" stroke=\"#000000\"/>\n",
       "<text fill=\"#000000\" font-family=\"Times,serif\" font-size=\"14.00\" text-anchor=\"middle\" x=\"8746.6385\" y=\"-861.3\">input:</text>\n",
       "<polyline fill=\"none\" points=\"8719.1385,-853.5 8774.1385,-853.5 \" stroke=\"#000000\"/>\n",
       "<text fill=\"#000000\" font-family=\"Times,serif\" font-size=\"14.00\" text-anchor=\"middle\" x=\"8746.6385\" y=\"-838.3\">output:</text>\n",
       "<polyline fill=\"none\" points=\"8774.1385,-830.5 8774.1385,-876.5 \" stroke=\"#000000\"/>\n",
       "<text fill=\"#000000\" font-family=\"Times,serif\" font-size=\"14.00\" text-anchor=\"middle\" x=\"9053.1385\" y=\"-861.3\">[(None, 60, 512), (None, 64, 512)]</text>\n",
       "<polyline fill=\"none\" points=\"8774.1385,-853.5 9332.1385,-853.5 \" stroke=\"#000000\"/>\n",
       "<text fill=\"#000000\" font-family=\"Times,serif\" font-size=\"14.00\" text-anchor=\"middle\" x=\"9053.1385\" y=\"-838.3\">[(None, 60, 64), (None, 64, 64), (None, 64, 512), (None, 60, 64), (None, 60, 64), (None, 60, 512)]</text>\n",
       "</g>\n",
       "<!-- 140227448557328&#45;&gt;140226827466384 -->\n",
       "<g class=\"edge\" id=\"edge167\">\n",
       "<title>140227448557328-&gt;140226827466384</title>\n",
       "<path d=\"M8171.1385,-936.5C8119.9418,-925.5072 8411.8154,-897.7634 8653.0042,-877.3647\" fill=\"none\" stroke=\"#000000\"/>\n",
       "<polygon fill=\"#000000\" points=\"8653.3334,-880.8494 8663.0035,-876.5207 8652.7446,-873.8742 8653.3334,-880.8494\" stroke=\"#000000\"/>\n",
       "</g>\n",
       "<!-- 140226827467856 -->\n",
       "<g class=\"node\" id=\"node118\">\n",
       "<title>140226827467856</title>\n",
       "<polygon fill=\"none\" points=\"3072.1385,-830.5 3072.1385,-876.5 3834.1385,-876.5 3834.1385,-830.5 3072.1385,-830.5\" stroke=\"#000000\"/>\n",
       "<text fill=\"#000000\" font-family=\"Times,serif\" font-size=\"14.00\" text-anchor=\"middle\" x=\"3146.6385\" y=\"-849.8\">eca22: EncDecAttention</text>\n",
       "<polyline fill=\"none\" points=\"3221.1385,-830.5 3221.1385,-876.5 \" stroke=\"#000000\"/>\n",
       "<text fill=\"#000000\" font-family=\"Times,serif\" font-size=\"14.00\" text-anchor=\"middle\" x=\"3248.6385\" y=\"-861.3\">input:</text>\n",
       "<polyline fill=\"none\" points=\"3221.1385,-853.5 3276.1385,-853.5 \" stroke=\"#000000\"/>\n",
       "<text fill=\"#000000\" font-family=\"Times,serif\" font-size=\"14.00\" text-anchor=\"middle\" x=\"3248.6385\" y=\"-838.3\">output:</text>\n",
       "<polyline fill=\"none\" points=\"3276.1385,-830.5 3276.1385,-876.5 \" stroke=\"#000000\"/>\n",
       "<text fill=\"#000000\" font-family=\"Times,serif\" font-size=\"14.00\" text-anchor=\"middle\" x=\"3555.1385\" y=\"-861.3\">[(None, 60, 512), (None, 64, 512)]</text>\n",
       "<polyline fill=\"none\" points=\"3276.1385,-853.5 3834.1385,-853.5 \" stroke=\"#000000\"/>\n",
       "<text fill=\"#000000\" font-family=\"Times,serif\" font-size=\"14.00\" text-anchor=\"middle\" x=\"3555.1385\" y=\"-838.3\">[(None, 60, 64), (None, 64, 64), (None, 64, 512), (None, 60, 64), (None, 60, 64), (None, 60, 512)]</text>\n",
       "</g>\n",
       "<!-- 140227448557328&#45;&gt;140226827467856 -->\n",
       "<g class=\"edge\" id=\"edge169\">\n",
       "<title>140227448557328-&gt;140226827467856</title>\n",
       "<path d=\"M5957.898,-3340.2545C6233.5735,-3333.4358 6824.4075,-3315.5851 7026.1385,-3284 7177.9811,-3260.226 7355.1385,-3331.1925 7355.1385,-3177.5 7355.1385,-3177.5 7355.1385,-3177.5 7355.1385,-2845.5 7355.1385,-2771.7222 7406.3057,-2732.6515 7355.1385,-2679.5\" fill=\"none\" stroke=\"#000000\"/>\n",
       "<path d=\"M7355.1385,-2679.5C7282.9494,-2617.5518 4026.2213,-2622.8492 3931.1385,-2620 3497.6074,-2607.0088 331.2369,-2767.1436 31.1385,-2454 -298.0138,-2110.5396 2098.9254,-2572.2498 2142.1385,-2098.5\" fill=\"none\" stroke=\"#000000\"/>\n",
       "<path d=\"M2142.1385,-2098.5C2088.5019,-1979.8963 1069.782,-2125.0781 972.1385,-2039 936.0715,-2007.205 953.1385,-1980.5807 953.1385,-1932.5 953.1385,-1932.5 953.1385,-1932.5 953.1385,-1351.5 953.1385,-1303.4193 936.7717,-1277.5721 972.1385,-1245 1507.5628,-751.8849 3903.0019,-1585.2306 4233.1385,-936.5\" fill=\"none\" stroke=\"#000000\"/>\n",
       "<path d=\"M4233.1385,-936.5C4239.9839,-914.7532 4026.1751,-893.0433 3820.718,-877.2839\" fill=\"none\" stroke=\"#000000\"/>\n",
       "<polygon fill=\"#000000\" points=\"3820.8686,-873.7853 3810.6313,-876.5144 3820.3361,-880.765 3820.8686,-873.7853\" stroke=\"#000000\"/>\n",
       "</g>\n",
       "<!-- 140226823317776 -->\n",
       "<g class=\"node\" id=\"node119\">\n",
       "<title>140226823317776</title>\n",
       "<polygon fill=\"none\" points=\"3852.1385,-830.5 3852.1385,-876.5 4614.1385,-876.5 4614.1385,-830.5 3852.1385,-830.5\" stroke=\"#000000\"/>\n",
       "<text fill=\"#000000\" font-family=\"Times,serif\" font-size=\"14.00\" text-anchor=\"middle\" x=\"3926.6385\" y=\"-849.8\">eca23: EncDecAttention</text>\n",
       "<polyline fill=\"none\" points=\"4001.1385,-830.5 4001.1385,-876.5 \" stroke=\"#000000\"/>\n",
       "<text fill=\"#000000\" font-family=\"Times,serif\" font-size=\"14.00\" text-anchor=\"middle\" x=\"4028.6385\" y=\"-861.3\">input:</text>\n",
       "<polyline fill=\"none\" points=\"4001.1385,-853.5 4056.1385,-853.5 \" stroke=\"#000000\"/>\n",
       "<text fill=\"#000000\" font-family=\"Times,serif\" font-size=\"14.00\" text-anchor=\"middle\" x=\"4028.6385\" y=\"-838.3\">output:</text>\n",
       "<polyline fill=\"none\" points=\"4056.1385,-830.5 4056.1385,-876.5 \" stroke=\"#000000\"/>\n",
       "<text fill=\"#000000\" font-family=\"Times,serif\" font-size=\"14.00\" text-anchor=\"middle\" x=\"4335.1385\" y=\"-861.3\">[(None, 60, 512), (None, 64, 512)]</text>\n",
       "<polyline fill=\"none\" points=\"4056.1385,-853.5 4614.1385,-853.5 \" stroke=\"#000000\"/>\n",
       "<text fill=\"#000000\" font-family=\"Times,serif\" font-size=\"14.00\" text-anchor=\"middle\" x=\"4335.1385\" y=\"-838.3\">[(None, 60, 64), (None, 64, 64), (None, 64, 512), (None, 60, 64), (None, 60, 64), (None, 60, 512)]</text>\n",
       "</g>\n",
       "<!-- 140227448557328&#45;&gt;140226823317776 -->\n",
       "<g class=\"edge\" id=\"edge171\">\n",
       "<title>140227448557328-&gt;140226823317776</title>\n",
       "<path d=\"M4233.1385,-936.5C4240.8585,-921.3299 4241.4541,-902.4877 4239.8564,-886.5921\" fill=\"none\" stroke=\"#000000\"/>\n",
       "<polygon fill=\"#000000\" points=\"4243.3213,-886.0961 4238.5425,-876.6402 4236.3815,-887.0123 4243.3213,-886.0961\" stroke=\"#000000\"/>\n",
       "</g>\n",
       "<!-- 140226823319248 -->\n",
       "<g class=\"node\" id=\"node120\">\n",
       "<title>140226823319248</title>\n",
       "<polygon fill=\"none\" points=\"4632.1385,-830.5 4632.1385,-876.5 5394.1385,-876.5 5394.1385,-830.5 4632.1385,-830.5\" stroke=\"#000000\"/>\n",
       "<text fill=\"#000000\" font-family=\"Times,serif\" font-size=\"14.00\" text-anchor=\"middle\" x=\"4706.6385\" y=\"-849.8\">eca24: EncDecAttention</text>\n",
       "<polyline fill=\"none\" points=\"4781.1385,-830.5 4781.1385,-876.5 \" stroke=\"#000000\"/>\n",
       "<text fill=\"#000000\" font-family=\"Times,serif\" font-size=\"14.00\" text-anchor=\"middle\" x=\"4808.6385\" y=\"-861.3\">input:</text>\n",
       "<polyline fill=\"none\" points=\"4781.1385,-853.5 4836.1385,-853.5 \" stroke=\"#000000\"/>\n",
       "<text fill=\"#000000\" font-family=\"Times,serif\" font-size=\"14.00\" text-anchor=\"middle\" x=\"4808.6385\" y=\"-838.3\">output:</text>\n",
       "<polyline fill=\"none\" points=\"4836.1385,-830.5 4836.1385,-876.5 \" stroke=\"#000000\"/>\n",
       "<text fill=\"#000000\" font-family=\"Times,serif\" font-size=\"14.00\" text-anchor=\"middle\" x=\"5115.1385\" y=\"-861.3\">[(None, 60, 512), (None, 64, 512)]</text>\n",
       "<polyline fill=\"none\" points=\"4836.1385,-853.5 5394.1385,-853.5 \" stroke=\"#000000\"/>\n",
       "<text fill=\"#000000\" font-family=\"Times,serif\" font-size=\"14.00\" text-anchor=\"middle\" x=\"5115.1385\" y=\"-838.3\">[(None, 60, 64), (None, 64, 64), (None, 64, 512), (None, 60, 64), (None, 60, 64), (None, 60, 512)]</text>\n",
       "</g>\n",
       "<!-- 140227448557328&#45;&gt;140226823319248 -->\n",
       "<g class=\"edge\" id=\"edge173\">\n",
       "<title>140227448557328-&gt;140226823319248</title>\n",
       "<path d=\"M4233.1385,-936.5C4243.6829,-915.7799 4464.9811,-893.5445 4669.1579,-877.3081\" fill=\"none\" stroke=\"#000000\"/>\n",
       "<polygon fill=\"#000000\" points=\"4669.4821,-880.7935 4679.1747,-876.5152 4668.9297,-873.8153 4669.4821,-880.7935\" stroke=\"#000000\"/>\n",
       "</g>\n",
       "<!-- 140226819215312 -->\n",
       "<g class=\"node\" id=\"node121\">\n",
       "<title>140226819215312</title>\n",
       "<polygon fill=\"none\" points=\"5450.1385,-830.5 5450.1385,-876.5 6212.1385,-876.5 6212.1385,-830.5 5450.1385,-830.5\" stroke=\"#000000\"/>\n",
       "<text fill=\"#000000\" font-family=\"Times,serif\" font-size=\"14.00\" text-anchor=\"middle\" x=\"5524.6385\" y=\"-849.8\">eca25: EncDecAttention</text>\n",
       "<polyline fill=\"none\" points=\"5599.1385,-830.5 5599.1385,-876.5 \" stroke=\"#000000\"/>\n",
       "<text fill=\"#000000\" font-family=\"Times,serif\" font-size=\"14.00\" text-anchor=\"middle\" x=\"5626.6385\" y=\"-861.3\">input:</text>\n",
       "<polyline fill=\"none\" points=\"5599.1385,-853.5 5654.1385,-853.5 \" stroke=\"#000000\"/>\n",
       "<text fill=\"#000000\" font-family=\"Times,serif\" font-size=\"14.00\" text-anchor=\"middle\" x=\"5626.6385\" y=\"-838.3\">output:</text>\n",
       "<polyline fill=\"none\" points=\"5654.1385,-830.5 5654.1385,-876.5 \" stroke=\"#000000\"/>\n",
       "<text fill=\"#000000\" font-family=\"Times,serif\" font-size=\"14.00\" text-anchor=\"middle\" x=\"5933.1385\" y=\"-861.3\">[(None, 60, 512), (None, 64, 512)]</text>\n",
       "<polyline fill=\"none\" points=\"5654.1385,-853.5 6212.1385,-853.5 \" stroke=\"#000000\"/>\n",
       "<text fill=\"#000000\" font-family=\"Times,serif\" font-size=\"14.00\" text-anchor=\"middle\" x=\"5933.1385\" y=\"-838.3\">[(None, 60, 64), (None, 64, 64), (None, 64, 512), (None, 60, 64), (None, 60, 64), (None, 60, 512)]</text>\n",
       "</g>\n",
       "<!-- 140227448557328&#45;&gt;140226819215312 -->\n",
       "<g class=\"edge\" id=\"edge175\">\n",
       "<title>140227448557328-&gt;140226819215312</title>\n",
       "<path d=\"M7321.1385,-2098.5C7199.6133,-2051.8596 8393.495,-2125.0781 8491.1385,-2039 8527.2055,-2007.205 8510.1385,-1980.5807 8510.1385,-1932.5 8510.1385,-1932.5 8510.1385,-1932.5 8510.1385,-1185.5 8510.1385,-998.5573 8353.2013,-978.9345 8171.1385,-936.5\" fill=\"none\" stroke=\"#000000\"/>\n",
       "<path d=\"M8171.1385,-936.5C7747.2644,-845.487 6654.2279,-896.6513 6221.1385,-877 6220.9162,-876.9899 6220.6938,-876.9798 6220.4713,-876.9697\" fill=\"none\" stroke=\"#000000\"/>\n",
       "<polygon fill=\"#000000\" points=\"6220.5646,-873.4704 6210.414,-876.5062 6220.2422,-880.463 6220.5646,-873.4704\" stroke=\"#000000\"/>\n",
       "</g>\n",
       "<!-- 140226816709776 -->\n",
       "<g class=\"node\" id=\"node122\">\n",
       "<title>140226816709776</title>\n",
       "<polygon fill=\"none\" points=\"6230.1385,-830.5 6230.1385,-876.5 6992.1385,-876.5 6992.1385,-830.5 6230.1385,-830.5\" stroke=\"#000000\"/>\n",
       "<text fill=\"#000000\" font-family=\"Times,serif\" font-size=\"14.00\" text-anchor=\"middle\" x=\"6304.6385\" y=\"-849.8\">eca26: EncDecAttention</text>\n",
       "<polyline fill=\"none\" points=\"6379.1385,-830.5 6379.1385,-876.5 \" stroke=\"#000000\"/>\n",
       "<text fill=\"#000000\" font-family=\"Times,serif\" font-size=\"14.00\" text-anchor=\"middle\" x=\"6406.6385\" y=\"-861.3\">input:</text>\n",
       "<polyline fill=\"none\" points=\"6379.1385,-853.5 6434.1385,-853.5 \" stroke=\"#000000\"/>\n",
       "<text fill=\"#000000\" font-family=\"Times,serif\" font-size=\"14.00\" text-anchor=\"middle\" x=\"6406.6385\" y=\"-838.3\">output:</text>\n",
       "<polyline fill=\"none\" points=\"6434.1385,-830.5 6434.1385,-876.5 \" stroke=\"#000000\"/>\n",
       "<text fill=\"#000000\" font-family=\"Times,serif\" font-size=\"14.00\" text-anchor=\"middle\" x=\"6713.1385\" y=\"-861.3\">[(None, 60, 512), (None, 64, 512)]</text>\n",
       "<polyline fill=\"none\" points=\"6434.1385,-853.5 6992.1385,-853.5 \" stroke=\"#000000\"/>\n",
       "<text fill=\"#000000\" font-family=\"Times,serif\" font-size=\"14.00\" text-anchor=\"middle\" x=\"6713.1385\" y=\"-838.3\">[(None, 60, 64), (None, 64, 64), (None, 64, 512), (None, 60, 64), (None, 60, 64), (None, 60, 512)]</text>\n",
       "</g>\n",
       "<!-- 140227448557328&#45;&gt;140226816709776 -->\n",
       "<g class=\"edge\" id=\"edge177\">\n",
       "<title>140227448557328-&gt;140226816709776</title>\n",
       "<path d=\"M8171.1385,-936.5C7919.711,-882.5142 7277.0181,-891.2159 7002.2302,-877.0388\" fill=\"none\" stroke=\"#000000\"/>\n",
       "<polygon fill=\"#000000\" points=\"7002.3856,-873.5422 6992.2128,-876.5025 7002.0114,-880.5322 7002.3856,-873.5422\" stroke=\"#000000\"/>\n",
       "</g>\n",
       "<!-- 140226814590736 -->\n",
       "<g class=\"node\" id=\"node123\">\n",
       "<title>140226814590736</title>\n",
       "<polygon fill=\"none\" points=\"7010.1385,-830.5 7010.1385,-876.5 7772.1385,-876.5 7772.1385,-830.5 7010.1385,-830.5\" stroke=\"#000000\"/>\n",
       "<text fill=\"#000000\" font-family=\"Times,serif\" font-size=\"14.00\" text-anchor=\"middle\" x=\"7084.6385\" y=\"-849.8\">eca27: EncDecAttention</text>\n",
       "<polyline fill=\"none\" points=\"7159.1385,-830.5 7159.1385,-876.5 \" stroke=\"#000000\"/>\n",
       "<text fill=\"#000000\" font-family=\"Times,serif\" font-size=\"14.00\" text-anchor=\"middle\" x=\"7186.6385\" y=\"-861.3\">input:</text>\n",
       "<polyline fill=\"none\" points=\"7159.1385,-853.5 7214.1385,-853.5 \" stroke=\"#000000\"/>\n",
       "<text fill=\"#000000\" font-family=\"Times,serif\" font-size=\"14.00\" text-anchor=\"middle\" x=\"7186.6385\" y=\"-838.3\">output:</text>\n",
       "<polyline fill=\"none\" points=\"7214.1385,-830.5 7214.1385,-876.5 \" stroke=\"#000000\"/>\n",
       "<text fill=\"#000000\" font-family=\"Times,serif\" font-size=\"14.00\" text-anchor=\"middle\" x=\"7493.1385\" y=\"-861.3\">[(None, 60, 512), (None, 64, 512)]</text>\n",
       "<polyline fill=\"none\" points=\"7214.1385,-853.5 7772.1385,-853.5 \" stroke=\"#000000\"/>\n",
       "<text fill=\"#000000\" font-family=\"Times,serif\" font-size=\"14.00\" text-anchor=\"middle\" x=\"7493.1385\" y=\"-838.3\">[(None, 60, 64), (None, 64, 64), (None, 64, 512), (None, 60, 64), (None, 60, 64), (None, 60, 512)]</text>\n",
       "</g>\n",
       "<!-- 140227448557328&#45;&gt;140226814590736 -->\n",
       "<g class=\"edge\" id=\"edge179\">\n",
       "<title>140227448557328-&gt;140226814590736</title>\n",
       "<path d=\"M8171.1385,-936.5C8041.2105,-908.6022 7897.0009,-889.9128 7768.2761,-877.4652\" fill=\"none\" stroke=\"#000000\"/>\n",
       "<polygon fill=\"#000000\" points=\"7768.5356,-873.9742 7758.2475,-876.505 7767.8683,-880.9423 7768.5356,-873.9742\" stroke=\"#000000\"/>\n",
       "</g>\n",
       "<!-- 140227448249488 -->\n",
       "<g class=\"node\" id=\"node52\">\n",
       "<title>140227448249488</title>\n",
       "<polygon fill=\"none\" points=\"4759.1385,-3154.5 4759.1385,-3200.5 5171.1385,-3200.5 5171.1385,-3154.5 4759.1385,-3154.5\" stroke=\"#000000\"/>\n",
       "<text fill=\"#000000\" font-family=\"Times,serif\" font-size=\"14.00\" text-anchor=\"middle\" x=\"4889.1385\" y=\"-3173.8\">batch_normalization_5: BatchNormalization</text>\n",
       "<polyline fill=\"none\" points=\"5019.1385,-3154.5 5019.1385,-3200.5 \" stroke=\"#000000\"/>\n",
       "<text fill=\"#000000\" font-family=\"Times,serif\" font-size=\"14.00\" text-anchor=\"middle\" x=\"5046.6385\" y=\"-3185.3\">input:</text>\n",
       "<polyline fill=\"none\" points=\"5019.1385,-3177.5 5074.1385,-3177.5 \" stroke=\"#000000\"/>\n",
       "<text fill=\"#000000\" font-family=\"Times,serif\" font-size=\"14.00\" text-anchor=\"middle\" x=\"5046.6385\" y=\"-3162.3\">output:</text>\n",
       "<polyline fill=\"none\" points=\"5074.1385,-3154.5 5074.1385,-3200.5 \" stroke=\"#000000\"/>\n",
       "<text fill=\"#000000\" font-family=\"Times,serif\" font-size=\"14.00\" text-anchor=\"middle\" x=\"5122.6385\" y=\"-3185.3\">(None, 1, 512)</text>\n",
       "<polyline fill=\"none\" points=\"5074.1385,-3177.5 5171.1385,-3177.5 \" stroke=\"#000000\"/>\n",
       "<text fill=\"#000000\" font-family=\"Times,serif\" font-size=\"14.00\" text-anchor=\"middle\" x=\"5122.6385\" y=\"-3162.3\">(None, 1, 512)</text>\n",
       "</g>\n",
       "<!-- 140227448189968&#45;&gt;140227448249488 -->\n",
       "<g class=\"edge\" id=\"edge59\">\n",
       "<title>140227448189968-&gt;140227448249488</title>\n",
       "<path d=\"M5047.3832,-3237.3799C5034.3982,-3227.9259 5019.2228,-3216.8772 5005.4677,-3206.8625\" fill=\"none\" stroke=\"#000000\"/>\n",
       "<polygon fill=\"#000000\" points=\"5007.2634,-3203.8405 4997.119,-3200.784 5003.1432,-3209.4995 5007.2634,-3203.8405\" stroke=\"#000000\"/>\n",
       "</g>\n",
       "<!-- 140227448249360 -->\n",
       "<g class=\"node\" id=\"node53\">\n",
       "<title>140227448249360</title>\n",
       "<polygon fill=\"none\" points=\"5189.1385,-3154.5 5189.1385,-3200.5 5601.1385,-3200.5 5601.1385,-3154.5 5189.1385,-3154.5\" stroke=\"#000000\"/>\n",
       "<text fill=\"#000000\" font-family=\"Times,serif\" font-size=\"14.00\" text-anchor=\"middle\" x=\"5319.1385\" y=\"-3173.8\">batch_normalization_6: BatchNormalization</text>\n",
       "<polyline fill=\"none\" points=\"5449.1385,-3154.5 5449.1385,-3200.5 \" stroke=\"#000000\"/>\n",
       "<text fill=\"#000000\" font-family=\"Times,serif\" font-size=\"14.00\" text-anchor=\"middle\" x=\"5476.6385\" y=\"-3185.3\">input:</text>\n",
       "<polyline fill=\"none\" points=\"5449.1385,-3177.5 5504.1385,-3177.5 \" stroke=\"#000000\"/>\n",
       "<text fill=\"#000000\" font-family=\"Times,serif\" font-size=\"14.00\" text-anchor=\"middle\" x=\"5476.6385\" y=\"-3162.3\">output:</text>\n",
       "<polyline fill=\"none\" points=\"5504.1385,-3154.5 5504.1385,-3200.5 \" stroke=\"#000000\"/>\n",
       "<text fill=\"#000000\" font-family=\"Times,serif\" font-size=\"14.00\" text-anchor=\"middle\" x=\"5552.6385\" y=\"-3185.3\">(None, 1, 512)</text>\n",
       "<polyline fill=\"none\" points=\"5504.1385,-3177.5 5601.1385,-3177.5 \" stroke=\"#000000\"/>\n",
       "<text fill=\"#000000\" font-family=\"Times,serif\" font-size=\"14.00\" text-anchor=\"middle\" x=\"5552.6385\" y=\"-3162.3\">(None, 1, 512)</text>\n",
       "</g>\n",
       "<!-- 140227448249040&#45;&gt;140227448249360 -->\n",
       "<g class=\"edge\" id=\"edge60\">\n",
       "<title>140227448249040-&gt;140227448249360</title>\n",
       "<path d=\"M5422.5534,-3237.3799C5418.6742,-3228.907 5414.2086,-3219.1531 5410.0229,-3210.0107\" fill=\"none\" stroke=\"#000000\"/>\n",
       "<polygon fill=\"#000000\" points=\"5413.1438,-3208.4194 5405.7987,-3200.784 5406.7792,-3211.3334 5413.1438,-3208.4194\" stroke=\"#000000\"/>\n",
       "</g>\n",
       "<!-- 140227198010640 -->\n",
       "<g class=\"node\" id=\"node54\">\n",
       "<title>140227198010640</title>\n",
       "<polygon fill=\"none\" points=\"5619.1385,-3154.5 5619.1385,-3200.5 6031.1385,-3200.5 6031.1385,-3154.5 5619.1385,-3154.5\" stroke=\"#000000\"/>\n",
       "<text fill=\"#000000\" font-family=\"Times,serif\" font-size=\"14.00\" text-anchor=\"middle\" x=\"5749.1385\" y=\"-3173.8\">batch_normalization_7: BatchNormalization</text>\n",
       "<polyline fill=\"none\" points=\"5879.1385,-3154.5 5879.1385,-3200.5 \" stroke=\"#000000\"/>\n",
       "<text fill=\"#000000\" font-family=\"Times,serif\" font-size=\"14.00\" text-anchor=\"middle\" x=\"5906.6385\" y=\"-3185.3\">input:</text>\n",
       "<polyline fill=\"none\" points=\"5879.1385,-3177.5 5934.1385,-3177.5 \" stroke=\"#000000\"/>\n",
       "<text fill=\"#000000\" font-family=\"Times,serif\" font-size=\"14.00\" text-anchor=\"middle\" x=\"5906.6385\" y=\"-3162.3\">output:</text>\n",
       "<polyline fill=\"none\" points=\"5934.1385,-3154.5 5934.1385,-3200.5 \" stroke=\"#000000\"/>\n",
       "<text fill=\"#000000\" font-family=\"Times,serif\" font-size=\"14.00\" text-anchor=\"middle\" x=\"5982.6385\" y=\"-3185.3\">(None, 1, 512)</text>\n",
       "<polyline fill=\"none\" points=\"5934.1385,-3177.5 6031.1385,-3177.5 \" stroke=\"#000000\"/>\n",
       "<text fill=\"#000000\" font-family=\"Times,serif\" font-size=\"14.00\" text-anchor=\"middle\" x=\"5982.6385\" y=\"-3162.3\">(None, 1, 512)</text>\n",
       "</g>\n",
       "<!-- 140227198013008&#45;&gt;140227198010640 -->\n",
       "<g class=\"edge\" id=\"edge61\">\n",
       "<title>140227198013008-&gt;140227198010640</title>\n",
       "<path d=\"M5797.7236,-3237.3799C5801.6028,-3228.907 5806.0684,-3219.1531 5810.2541,-3210.0107\" fill=\"none\" stroke=\"#000000\"/>\n",
       "<polygon fill=\"#000000\" points=\"5813.4979,-3211.3334 5814.4784,-3200.784 5807.1332,-3208.4194 5813.4979,-3211.3334\" stroke=\"#000000\"/>\n",
       "</g>\n",
       "<!-- 140227197630416 -->\n",
       "<g class=\"node\" id=\"node55\">\n",
       "<title>140227197630416</title>\n",
       "<polygon fill=\"none\" points=\"6049.1385,-3154.5 6049.1385,-3200.5 6461.1385,-3200.5 6461.1385,-3154.5 6049.1385,-3154.5\" stroke=\"#000000\"/>\n",
       "<text fill=\"#000000\" font-family=\"Times,serif\" font-size=\"14.00\" text-anchor=\"middle\" x=\"6179.1385\" y=\"-3173.8\">batch_normalization_8: BatchNormalization</text>\n",
       "<polyline fill=\"none\" points=\"6309.1385,-3154.5 6309.1385,-3200.5 \" stroke=\"#000000\"/>\n",
       "<text fill=\"#000000\" font-family=\"Times,serif\" font-size=\"14.00\" text-anchor=\"middle\" x=\"6336.6385\" y=\"-3185.3\">input:</text>\n",
       "<polyline fill=\"none\" points=\"6309.1385,-3177.5 6364.1385,-3177.5 \" stroke=\"#000000\"/>\n",
       "<text fill=\"#000000\" font-family=\"Times,serif\" font-size=\"14.00\" text-anchor=\"middle\" x=\"6336.6385\" y=\"-3162.3\">output:</text>\n",
       "<polyline fill=\"none\" points=\"6364.1385,-3154.5 6364.1385,-3200.5 \" stroke=\"#000000\"/>\n",
       "<text fill=\"#000000\" font-family=\"Times,serif\" font-size=\"14.00\" text-anchor=\"middle\" x=\"6412.6385\" y=\"-3185.3\">(None, 1, 512)</text>\n",
       "<polyline fill=\"none\" points=\"6364.1385,-3177.5 6461.1385,-3177.5 \" stroke=\"#000000\"/>\n",
       "<text fill=\"#000000\" font-family=\"Times,serif\" font-size=\"14.00\" text-anchor=\"middle\" x=\"6412.6385\" y=\"-3162.3\">(None, 1, 512)</text>\n",
       "</g>\n",
       "<!-- 140227197630352&#45;&gt;140227197630416 -->\n",
       "<g class=\"edge\" id=\"edge62\">\n",
       "<title>140227197630352-&gt;140227197630416</title>\n",
       "<path d=\"M6172.8939,-3237.3799C6185.8788,-3227.9259 6201.0542,-3216.8772 6214.8093,-3206.8625\" fill=\"none\" stroke=\"#000000\"/>\n",
       "<polygon fill=\"#000000\" points=\"6217.1338,-3209.4995 6223.1581,-3200.784 6213.0137,-3203.8405 6217.1338,-3209.4995\" stroke=\"#000000\"/>\n",
       "</g>\n",
       "<!-- 140227193428816 -->\n",
       "<g class=\"node\" id=\"node56\">\n",
       "<title>140227193428816</title>\n",
       "<polygon fill=\"none\" points=\"6479.1385,-3154.5 6479.1385,-3200.5 6891.1385,-3200.5 6891.1385,-3154.5 6479.1385,-3154.5\" stroke=\"#000000\"/>\n",
       "<text fill=\"#000000\" font-family=\"Times,serif\" font-size=\"14.00\" text-anchor=\"middle\" x=\"6609.1385\" y=\"-3173.8\">batch_normalization_9: BatchNormalization</text>\n",
       "<polyline fill=\"none\" points=\"6739.1385,-3154.5 6739.1385,-3200.5 \" stroke=\"#000000\"/>\n",
       "<text fill=\"#000000\" font-family=\"Times,serif\" font-size=\"14.00\" text-anchor=\"middle\" x=\"6766.6385\" y=\"-3185.3\">input:</text>\n",
       "<polyline fill=\"none\" points=\"6739.1385,-3177.5 6794.1385,-3177.5 \" stroke=\"#000000\"/>\n",
       "<text fill=\"#000000\" font-family=\"Times,serif\" font-size=\"14.00\" text-anchor=\"middle\" x=\"6766.6385\" y=\"-3162.3\">output:</text>\n",
       "<polyline fill=\"none\" points=\"6794.1385,-3154.5 6794.1385,-3200.5 \" stroke=\"#000000\"/>\n",
       "<text fill=\"#000000\" font-family=\"Times,serif\" font-size=\"14.00\" text-anchor=\"middle\" x=\"6842.6385\" y=\"-3185.3\">(None, 1, 512)</text>\n",
       "<polyline fill=\"none\" points=\"6794.1385,-3177.5 6891.1385,-3177.5 \" stroke=\"#000000\"/>\n",
       "<text fill=\"#000000\" font-family=\"Times,serif\" font-size=\"14.00\" text-anchor=\"middle\" x=\"6842.6385\" y=\"-3162.3\">(None, 1, 512)</text>\n",
       "</g>\n",
       "<!-- 140227195573392&#45;&gt;140227193428816 -->\n",
       "<g class=\"edge\" id=\"edge63\">\n",
       "<title>140227195573392-&gt;140227193428816</title>\n",
       "<path d=\"M6547.8118,-3237.4901C6571.0806,-3227.3253 6598.6079,-3215.3002 6622.8845,-3204.6952\" fill=\"none\" stroke=\"#000000\"/>\n",
       "<polygon fill=\"#000000\" points=\"6624.6001,-3207.7652 6632.3628,-3200.5547 6621.7979,-3201.3505 6624.6001,-3207.7652\" stroke=\"#000000\"/>\n",
       "</g>\n",
       "<!-- 140227100013776 -->\n",
       "<g class=\"node\" id=\"node57\">\n",
       "<title>140227100013776</title>\n",
       "<polygon fill=\"none\" points=\"6909.1385,-3154.5 6909.1385,-3200.5 7327.1385,-3200.5 7327.1385,-3154.5 6909.1385,-3154.5\" stroke=\"#000000\"/>\n",
       "<text fill=\"#000000\" font-family=\"Times,serif\" font-size=\"14.00\" text-anchor=\"middle\" x=\"7042.1385\" y=\"-3173.8\">batch_normalization_10: BatchNormalization</text>\n",
       "<polyline fill=\"none\" points=\"7175.1385,-3154.5 7175.1385,-3200.5 \" stroke=\"#000000\"/>\n",
       "<text fill=\"#000000\" font-family=\"Times,serif\" font-size=\"14.00\" text-anchor=\"middle\" x=\"7202.6385\" y=\"-3185.3\">input:</text>\n",
       "<polyline fill=\"none\" points=\"7175.1385,-3177.5 7230.1385,-3177.5 \" stroke=\"#000000\"/>\n",
       "<text fill=\"#000000\" font-family=\"Times,serif\" font-size=\"14.00\" text-anchor=\"middle\" x=\"7202.6385\" y=\"-3162.3\">output:</text>\n",
       "<polyline fill=\"none\" points=\"7230.1385,-3154.5 7230.1385,-3200.5 \" stroke=\"#000000\"/>\n",
       "<text fill=\"#000000\" font-family=\"Times,serif\" font-size=\"14.00\" text-anchor=\"middle\" x=\"7278.6385\" y=\"-3185.3\">(None, 1, 512)</text>\n",
       "<polyline fill=\"none\" points=\"7230.1385,-3177.5 7327.1385,-3177.5 \" stroke=\"#000000\"/>\n",
       "<text fill=\"#000000\" font-family=\"Times,serif\" font-size=\"14.00\" text-anchor=\"middle\" x=\"7278.6385\" y=\"-3162.3\">(None, 1, 512)</text>\n",
       "</g>\n",
       "<!-- 140227100016208&#45;&gt;140227100013776 -->\n",
       "<g class=\"edge\" id=\"edge64\">\n",
       "<title>140227100016208-&gt;140227100013776</title>\n",
       "<path d=\"M6923.7128,-3237.4901C6957.8227,-3226.9655 6998.396,-3214.4466 7033.6321,-3203.5745\" fill=\"none\" stroke=\"#000000\"/>\n",
       "<polygon fill=\"#000000\" points=\"7034.8956,-3206.8475 7043.4192,-3200.5547 7032.8317,-3200.1587 7034.8956,-3206.8475\" stroke=\"#000000\"/>\n",
       "</g>\n",
       "<!-- 140227097817360 -->\n",
       "<g class=\"node\" id=\"node58\">\n",
       "<title>140227097817360</title>\n",
       "<polygon fill=\"none\" points=\"3887.1385,-3154.5 3887.1385,-3200.5 4305.1385,-3200.5 4305.1385,-3154.5 3887.1385,-3154.5\" stroke=\"#000000\"/>\n",
       "<text fill=\"#000000\" font-family=\"Times,serif\" font-size=\"14.00\" text-anchor=\"middle\" x=\"4020.1385\" y=\"-3173.8\">batch_normalization_11: BatchNormalization</text>\n",
       "<polyline fill=\"none\" points=\"4153.1385,-3154.5 4153.1385,-3200.5 \" stroke=\"#000000\"/>\n",
       "<text fill=\"#000000\" font-family=\"Times,serif\" font-size=\"14.00\" text-anchor=\"middle\" x=\"4180.6385\" y=\"-3185.3\">input:</text>\n",
       "<polyline fill=\"none\" points=\"4153.1385,-3177.5 4208.1385,-3177.5 \" stroke=\"#000000\"/>\n",
       "<text fill=\"#000000\" font-family=\"Times,serif\" font-size=\"14.00\" text-anchor=\"middle\" x=\"4180.6385\" y=\"-3162.3\">output:</text>\n",
       "<polyline fill=\"none\" points=\"4208.1385,-3154.5 4208.1385,-3200.5 \" stroke=\"#000000\"/>\n",
       "<text fill=\"#000000\" font-family=\"Times,serif\" font-size=\"14.00\" text-anchor=\"middle\" x=\"4256.6385\" y=\"-3185.3\">(None, 1, 512)</text>\n",
       "<polyline fill=\"none\" points=\"4208.1385,-3177.5 4305.1385,-3177.5 \" stroke=\"#000000\"/>\n",
       "<text fill=\"#000000\" font-family=\"Times,serif\" font-size=\"14.00\" text-anchor=\"middle\" x=\"4256.6385\" y=\"-3162.3\">(None, 1, 512)</text>\n",
       "</g>\n",
       "<!-- 140227097821072&#45;&gt;140227097817360 -->\n",
       "<g class=\"edge\" id=\"edge65\">\n",
       "<title>140227097821072-&gt;140227097817360</title>\n",
       "<path d=\"M4294.9009,-3237.4901C4260.0302,-3226.9655 4218.5518,-3214.4466 4182.5298,-3203.5745\" fill=\"none\" stroke=\"#000000\"/>\n",
       "<polygon fill=\"#000000\" points=\"4183.1092,-3200.0935 4172.5244,-3200.5547 4181.0866,-3206.7949 4183.1092,-3200.0935\" stroke=\"#000000\"/>\n",
       "</g>\n",
       "<!-- 140227095857872 -->\n",
       "<g class=\"node\" id=\"node59\">\n",
       "<title>140227095857872</title>\n",
       "<polygon fill=\"none\" points=\"4323.1385,-3154.5 4323.1385,-3200.5 4741.1385,-3200.5 4741.1385,-3154.5 4323.1385,-3154.5\" stroke=\"#000000\"/>\n",
       "<text fill=\"#000000\" font-family=\"Times,serif\" font-size=\"14.00\" text-anchor=\"middle\" x=\"4456.1385\" y=\"-3173.8\">batch_normalization_12: BatchNormalization</text>\n",
       "<polyline fill=\"none\" points=\"4589.1385,-3154.5 4589.1385,-3200.5 \" stroke=\"#000000\"/>\n",
       "<text fill=\"#000000\" font-family=\"Times,serif\" font-size=\"14.00\" text-anchor=\"middle\" x=\"4616.6385\" y=\"-3185.3\">input:</text>\n",
       "<polyline fill=\"none\" points=\"4589.1385,-3177.5 4644.1385,-3177.5 \" stroke=\"#000000\"/>\n",
       "<text fill=\"#000000\" font-family=\"Times,serif\" font-size=\"14.00\" text-anchor=\"middle\" x=\"4616.6385\" y=\"-3162.3\">output:</text>\n",
       "<polyline fill=\"none\" points=\"4644.1385,-3154.5 4644.1385,-3200.5 \" stroke=\"#000000\"/>\n",
       "<text fill=\"#000000\" font-family=\"Times,serif\" font-size=\"14.00\" text-anchor=\"middle\" x=\"4692.6385\" y=\"-3185.3\">(None, 1, 512)</text>\n",
       "<polyline fill=\"none\" points=\"4644.1385,-3177.5 4741.1385,-3177.5 \" stroke=\"#000000\"/>\n",
       "<text fill=\"#000000\" font-family=\"Times,serif\" font-size=\"14.00\" text-anchor=\"middle\" x=\"4692.6385\" y=\"-3162.3\">(None, 1, 512)</text>\n",
       "</g>\n",
       "<!-- 140227098015760&#45;&gt;140227095857872 -->\n",
       "<g class=\"edge\" id=\"edge66\">\n",
       "<title>140227098015760-&gt;140227095857872</title>\n",
       "<path d=\"M4671.6335,-3237.4901C4647.8928,-3227.2803 4619.7879,-3215.1938 4595.0483,-3204.5545\" fill=\"none\" stroke=\"#000000\"/>\n",
       "<polygon fill=\"#000000\" points=\"4596.3168,-3201.2901 4585.7476,-3200.5547 4593.5513,-3207.7207 4596.3168,-3201.2901\" stroke=\"#000000\"/>\n",
       "</g>\n",
       "<!-- 140227095450640 -->\n",
       "<g class=\"node\" id=\"node60\">\n",
       "<title>140227095450640</title>\n",
       "<polygon fill=\"none\" points=\"4924.1385,-3071.5 4924.1385,-3117.5 5866.1385,-3117.5 5866.1385,-3071.5 4924.1385,-3071.5\" stroke=\"#000000\"/>\n",
       "<text fill=\"#000000\" font-family=\"Times,serif\" font-size=\"14.00\" text-anchor=\"middle\" x=\"5007.6385\" y=\"-3090.8\">concat_attn_1: Concatenate</text>\n",
       "<polyline fill=\"none\" points=\"5091.1385,-3071.5 5091.1385,-3117.5 \" stroke=\"#000000\"/>\n",
       "<text fill=\"#000000\" font-family=\"Times,serif\" font-size=\"14.00\" text-anchor=\"middle\" x=\"5118.6385\" y=\"-3102.3\">input:</text>\n",
       "<polyline fill=\"none\" points=\"5091.1385,-3094.5 5146.1385,-3094.5 \" stroke=\"#000000\"/>\n",
       "<text fill=\"#000000\" font-family=\"Times,serif\" font-size=\"14.00\" text-anchor=\"middle\" x=\"5118.6385\" y=\"-3079.3\">output:</text>\n",
       "<polyline fill=\"none\" points=\"5146.1385,-3071.5 5146.1385,-3117.5 \" stroke=\"#000000\"/>\n",
       "<text fill=\"#000000\" font-family=\"Times,serif\" font-size=\"14.00\" text-anchor=\"middle\" x=\"5506.1385\" y=\"-3102.3\">[(None, 1, 512), (None, 1, 512), (None, 1, 512), (None, 1, 512), (None, 1, 512), (None, 1, 512), (None, 1, 512), (None, 1, 512)]</text>\n",
       "<polyline fill=\"none\" points=\"5146.1385,-3094.5 5866.1385,-3094.5 \" stroke=\"#000000\"/>\n",
       "<text fill=\"#000000\" font-family=\"Times,serif\" font-size=\"14.00\" text-anchor=\"middle\" x=\"5506.1385\" y=\"-3079.3\">(None, 1, 4096)</text>\n",
       "</g>\n",
       "<!-- 140227448249488&#45;&gt;140227095450640 -->\n",
       "<g class=\"edge\" id=\"edge67\">\n",
       "<title>140227448249488-&gt;140227095450640</title>\n",
       "<path d=\"M5084.3464,-3154.4901C5140.7356,-3143.6057 5208.1754,-3130.5882 5265.8003,-3119.4653\" fill=\"none\" stroke=\"#000000\"/>\n",
       "<polygon fill=\"#000000\" points=\"5266.5433,-3122.8866 5275.6987,-3117.5547 5265.2166,-3116.0134 5266.5433,-3122.8866\" stroke=\"#000000\"/>\n",
       "</g>\n",
       "<!-- 140227448249360&#45;&gt;140227095450640 -->\n",
       "<g class=\"edge\" id=\"edge68\">\n",
       "<title>140227448249360-&gt;140227095450640</title>\n",
       "<path d=\"M5395.1385,-3154.3799C5395.1385,-3146.1745 5395.1385,-3136.7679 5395.1385,-3127.8786\" fill=\"none\" stroke=\"#000000\"/>\n",
       "<polygon fill=\"#000000\" points=\"5398.6386,-3127.784 5395.1385,-3117.784 5391.6386,-3127.784 5398.6386,-3127.784\" stroke=\"#000000\"/>\n",
       "</g>\n",
       "<!-- 140227198010640&#45;&gt;140227095450640 -->\n",
       "<g class=\"edge\" id=\"edge69\">\n",
       "<title>140227198010640-&gt;140227095450640</title>\n",
       "<path d=\"M5705.9306,-3154.4901C5649.5414,-3143.6057 5582.1016,-3130.5882 5524.4768,-3119.4653\" fill=\"none\" stroke=\"#000000\"/>\n",
       "<polygon fill=\"#000000\" points=\"5525.0605,-3116.0134 5514.5783,-3117.5547 5523.7337,-3122.8866 5525.0605,-3116.0134\" stroke=\"#000000\"/>\n",
       "</g>\n",
       "<!-- 140227197630416&#45;&gt;140227095450640 -->\n",
       "<g class=\"edge\" id=\"edge70\">\n",
       "<title>140227197630416-&gt;140227095450640</title>\n",
       "<path d=\"M6048.8858,-3154.8864C6045.951,-3154.5874 6043.0339,-3154.2918 6040.1385,-3154 5917.2857,-3141.6204 5781.1633,-3128.9145 5665.754,-3118.4396\" fill=\"none\" stroke=\"#000000\"/>\n",
       "<polygon fill=\"#000000\" points=\"5665.9918,-3114.9469 5655.7165,-3117.5295 5665.3596,-3121.9183 5665.9918,-3114.9469\" stroke=\"#000000\"/>\n",
       "</g>\n",
       "<!-- 140227193428816&#45;&gt;140227095450640 -->\n",
       "<g class=\"edge\" id=\"edge71\">\n",
       "<title>140227193428816-&gt;140227095450640</title>\n",
       "<path d=\"M6478.8996,-3154.7364C6475.9604,-3154.4843 6473.0387,-3154.2386 6470.1385,-3154 6276.2404,-3138.0488 6062.3062,-3125.2326 5876.6817,-3115.6391\" fill=\"none\" stroke=\"#000000\"/>\n",
       "<polygon fill=\"#000000\" points=\"5876.6317,-3112.132 5866.4649,-3115.1128 5876.2716,-3119.1227 5876.6317,-3112.132\" stroke=\"#000000\"/>\n",
       "</g>\n",
       "<!-- 140227100013776&#45;&gt;140227095450640 -->\n",
       "<g class=\"edge\" id=\"edge72\">\n",
       "<title>140227100013776-&gt;140227095450640</title>\n",
       "<path d=\"M6909.0261,-3154.6741C6906.0446,-3154.4414 6903.0807,-3154.2165 6900.1385,-3154 6558.3193,-3128.8485 6171.9904,-3113.8545 5876.3385,-3105.2101\" fill=\"none\" stroke=\"#000000\"/>\n",
       "<polygon fill=\"#000000\" points=\"5876.3974,-3101.7104 5866.2998,-3104.918 5876.1937,-3108.7074 5876.3974,-3101.7104\" stroke=\"#000000\"/>\n",
       "</g>\n",
       "<!-- 140227097817360&#45;&gt;140227095450640 -->\n",
       "<g class=\"edge\" id=\"edge73\">\n",
       "<title>140227097817360-&gt;140227095450640</title>\n",
       "<path d=\"M4305.2559,-3154.7382C4308.2359,-3154.4855 4311.1981,-3154.2392 4314.1385,-3154 4510.147,-3138.052 4726.5052,-3125.2013 4913.8381,-3115.5799\" fill=\"none\" stroke=\"#000000\"/>\n",
       "<polygon fill=\"#000000\" points=\"4914.0577,-3119.0734 4923.8656,-3115.0666 4913.6997,-3112.0825 4914.0577,-3119.0734\" stroke=\"#000000\"/>\n",
       "</g>\n",
       "<!-- 140227095857872&#45;&gt;140227095450640 -->\n",
       "<g class=\"edge\" id=\"edge74\">\n",
       "<title>140227095857872-&gt;140227095450640</title>\n",
       "<path d=\"M4741.2698,-3154.8916C4744.2454,-3154.591 4747.203,-3154.2936 4750.1385,-3154 4873.4082,-3141.6709 5010.0279,-3128.9346 5125.6803,-3118.4246\" fill=\"none\" stroke=\"#000000\"/>\n",
       "<polygon fill=\"#000000\" points=\"5126.0958,-3121.9014 5135.7383,-3117.5114 5125.4628,-3114.9301 5126.0958,-3121.9014\" stroke=\"#000000\"/>\n",
       "</g>\n",
       "<!-- 140227093810448 -->\n",
       "<g class=\"node\" id=\"node61\">\n",
       "<title>140227093810448</title>\n",
       "<polygon fill=\"none\" points=\"4975.6385,-2988.5 4975.6385,-3034.5 5386.6385,-3034.5 5386.6385,-2988.5 4975.6385,-2988.5\" stroke=\"#000000\"/>\n",
       "<text fill=\"#000000\" font-family=\"Times,serif\" font-size=\"14.00\" text-anchor=\"middle\" x=\"5101.6385\" y=\"-3007.8\">condense_attn1D_1: CondenseAttention1D</text>\n",
       "<polyline fill=\"none\" points=\"5227.6385,-2988.5 5227.6385,-3034.5 \" stroke=\"#000000\"/>\n",
       "<text fill=\"#000000\" font-family=\"Times,serif\" font-size=\"14.00\" text-anchor=\"middle\" x=\"5255.1385\" y=\"-3019.3\">input:</text>\n",
       "<polyline fill=\"none\" points=\"5227.6385,-3011.5 5282.6385,-3011.5 \" stroke=\"#000000\"/>\n",
       "<text fill=\"#000000\" font-family=\"Times,serif\" font-size=\"14.00\" text-anchor=\"middle\" x=\"5255.1385\" y=\"-2996.3\">output:</text>\n",
       "<polyline fill=\"none\" points=\"5282.6385,-2988.5 5282.6385,-3034.5 \" stroke=\"#000000\"/>\n",
       "<text fill=\"#000000\" font-family=\"Times,serif\" font-size=\"14.00\" text-anchor=\"middle\" x=\"5334.6385\" y=\"-3019.3\">(None, 1, 4096)</text>\n",
       "<polyline fill=\"none\" points=\"5282.6385,-3011.5 5386.6385,-3011.5 \" stroke=\"#000000\"/>\n",
       "<text fill=\"#000000\" font-family=\"Times,serif\" font-size=\"14.00\" text-anchor=\"middle\" x=\"5334.6385\" y=\"-2996.3\">(None, 1, 512)</text>\n",
       "</g>\n",
       "<!-- 140227095450640&#45;&gt;140227093810448 -->\n",
       "<g class=\"edge\" id=\"edge75\">\n",
       "<title>140227095450640-&gt;140227093810448</title>\n",
       "<path d=\"M5335.8118,-3071.4901C5309.2559,-3061.1904 5277.7754,-3048.9806 5250.1693,-3038.2736\" fill=\"none\" stroke=\"#000000\"/>\n",
       "<polygon fill=\"#000000\" points=\"5251.1696,-3034.9076 5240.5807,-3034.5547 5248.6383,-3041.4339 5251.1696,-3034.9076\" stroke=\"#000000\"/>\n",
       "</g>\n",
       "<!-- 140227092954768 -->\n",
       "<g class=\"node\" id=\"node62\">\n",
       "<title>140227092954768</title>\n",
       "<polygon fill=\"none\" points=\"4351.1385,-2905.5 4351.1385,-2951.5 4655.1385,-2951.5 4655.1385,-2905.5 4351.1385,-2905.5\" stroke=\"#000000\"/>\n",
       "<text fill=\"#000000\" font-family=\"Times,serif\" font-size=\"14.00\" text-anchor=\"middle\" x=\"4427.1385\" y=\"-2924.8\">squeeze_attn_1: Lambda</text>\n",
       "<polyline fill=\"none\" points=\"4503.1385,-2905.5 4503.1385,-2951.5 \" stroke=\"#000000\"/>\n",
       "<text fill=\"#000000\" font-family=\"Times,serif\" font-size=\"14.00\" text-anchor=\"middle\" x=\"4530.6385\" y=\"-2936.3\">input:</text>\n",
       "<polyline fill=\"none\" points=\"4503.1385,-2928.5 4558.1385,-2928.5 \" stroke=\"#000000\"/>\n",
       "<text fill=\"#000000\" font-family=\"Times,serif\" font-size=\"14.00\" text-anchor=\"middle\" x=\"4530.6385\" y=\"-2913.3\">output:</text>\n",
       "<polyline fill=\"none\" points=\"4558.1385,-2905.5 4558.1385,-2951.5 \" stroke=\"#000000\"/>\n",
       "<text fill=\"#000000\" font-family=\"Times,serif\" font-size=\"14.00\" text-anchor=\"middle\" x=\"4606.6385\" y=\"-2936.3\">(None, 1, 512)</text>\n",
       "<polyline fill=\"none\" points=\"4558.1385,-2928.5 4655.1385,-2928.5 \" stroke=\"#000000\"/>\n",
       "<text fill=\"#000000\" font-family=\"Times,serif\" font-size=\"14.00\" text-anchor=\"middle\" x=\"4606.6385\" y=\"-2913.3\">(None, 512)</text>\n",
       "</g>\n",
       "<!-- 140227093810448&#45;&gt;140227092954768 -->\n",
       "<g class=\"edge\" id=\"edge76\">\n",
       "<title>140227093810448-&gt;140227092954768</title>\n",
       "<path d=\"M4993.1781,-2988.4901C4890.2165,-2975.8857 4763.8891,-2960.4208 4665.2866,-2948.35\" fill=\"none\" stroke=\"#000000\"/>\n",
       "<polygon fill=\"#000000\" points=\"4665.5789,-2944.8597 4655.2277,-2947.1186 4664.7283,-2951.8079 4665.5789,-2944.8597\" stroke=\"#000000\"/>\n",
       "</g>\n",
       "<!-- 140227092954768&#45;&gt;140227092952208 -->\n",
       "<g class=\"edge\" id=\"edge78\">\n",
       "<title>140227092954768-&gt;140227092952208</title>\n",
       "<path d=\"M4384.2078,-2905.4901C4327.9497,-2894.6057 4260.6668,-2881.5882 4203.176,-2870.4653\" fill=\"none\" stroke=\"#000000\"/>\n",
       "<polygon fill=\"#000000\" points=\"4203.7834,-2867.018 4193.3006,-2868.5547 4202.4537,-2873.8905 4203.7834,-2867.018\" stroke=\"#000000\"/>\n",
       "</g>\n",
       "<!-- 140227092952784 -->\n",
       "<g class=\"node\" id=\"node64\">\n",
       "<title>140227092952784</title>\n",
       "<polygon fill=\"none\" points=\"3872.1385,-2739.5 3872.1385,-2785.5 4276.1385,-2785.5 4276.1385,-2739.5 3872.1385,-2739.5\" stroke=\"#000000\"/>\n",
       "<text fill=\"#000000\" font-family=\"Times,serif\" font-size=\"14.00\" text-anchor=\"middle\" x=\"4005.1385\" y=\"-2758.8\">batch_normalization_13: BatchNormalization</text>\n",
       "<polyline fill=\"none\" points=\"4138.1385,-2739.5 4138.1385,-2785.5 \" stroke=\"#000000\"/>\n",
       "<text fill=\"#000000\" font-family=\"Times,serif\" font-size=\"14.00\" text-anchor=\"middle\" x=\"4165.6385\" y=\"-2770.3\">input:</text>\n",
       "<polyline fill=\"none\" points=\"4138.1385,-2762.5 4193.1385,-2762.5 \" stroke=\"#000000\"/>\n",
       "<text fill=\"#000000\" font-family=\"Times,serif\" font-size=\"14.00\" text-anchor=\"middle\" x=\"4165.6385\" y=\"-2747.3\">output:</text>\n",
       "<polyline fill=\"none\" points=\"4193.1385,-2739.5 4193.1385,-2785.5 \" stroke=\"#000000\"/>\n",
       "<text fill=\"#000000\" font-family=\"Times,serif\" font-size=\"14.00\" text-anchor=\"middle\" x=\"4234.6385\" y=\"-2770.3\">(None, 512)</text>\n",
       "<polyline fill=\"none\" points=\"4193.1385,-2762.5 4276.1385,-2762.5 \" stroke=\"#000000\"/>\n",
       "<text fill=\"#000000\" font-family=\"Times,serif\" font-size=\"14.00\" text-anchor=\"middle\" x=\"4234.6385\" y=\"-2747.3\">(None, 512)</text>\n",
       "</g>\n",
       "<!-- 140227092952208&#45;&gt;140227092952784 -->\n",
       "<g class=\"edge\" id=\"edge79\">\n",
       "<title>140227092952208-&gt;140227092952784</title>\n",
       "<path d=\"M4074.1385,-2822.3799C4074.1385,-2814.1745 4074.1385,-2804.7679 4074.1385,-2795.8786\" fill=\"none\" stroke=\"#000000\"/>\n",
       "<polygon fill=\"#000000\" points=\"4077.6386,-2795.784 4074.1385,-2785.784 4070.6386,-2795.784 4077.6386,-2795.784\" stroke=\"#000000\"/>\n",
       "</g>\n",
       "<!-- 140227092539856 -->\n",
       "<g class=\"node\" id=\"node65\">\n",
       "<title>140227092539856</title>\n",
       "<polygon fill=\"none\" points=\"3902.1385,-2656.5 3902.1385,-2702.5 4246.1385,-2702.5 4246.1385,-2656.5 3902.1385,-2656.5\" stroke=\"#000000\"/>\n",
       "<text fill=\"#000000\" font-family=\"Times,serif\" font-size=\"14.00\" text-anchor=\"middle\" x=\"3994.6385\" y=\"-2675.8\">repeat_vector_1: RepeatVector</text>\n",
       "<polyline fill=\"none\" points=\"4087.1385,-2656.5 4087.1385,-2702.5 \" stroke=\"#000000\"/>\n",
       "<text fill=\"#000000\" font-family=\"Times,serif\" font-size=\"14.00\" text-anchor=\"middle\" x=\"4114.6385\" y=\"-2687.3\">input:</text>\n",
       "<polyline fill=\"none\" points=\"4087.1385,-2679.5 4142.1385,-2679.5 \" stroke=\"#000000\"/>\n",
       "<text fill=\"#000000\" font-family=\"Times,serif\" font-size=\"14.00\" text-anchor=\"middle\" x=\"4114.6385\" y=\"-2664.3\">output:</text>\n",
       "<polyline fill=\"none\" points=\"4142.1385,-2656.5 4142.1385,-2702.5 \" stroke=\"#000000\"/>\n",
       "<text fill=\"#000000\" font-family=\"Times,serif\" font-size=\"14.00\" text-anchor=\"middle\" x=\"4194.1385\" y=\"-2687.3\">(None, 512)</text>\n",
       "<polyline fill=\"none\" points=\"4142.1385,-2679.5 4246.1385,-2679.5 \" stroke=\"#000000\"/>\n",
       "<text fill=\"#000000\" font-family=\"Times,serif\" font-size=\"14.00\" text-anchor=\"middle\" x=\"4194.1385\" y=\"-2664.3\">(None, 60, 512)</text>\n",
       "</g>\n",
       "<!-- 140227092952784&#45;&gt;140227092539856 -->\n",
       "<g class=\"edge\" id=\"edge80\">\n",
       "<title>140227092952784-&gt;140227092539856</title>\n",
       "<path d=\"M4074.1385,-2739.3799C4074.1385,-2731.1745 4074.1385,-2721.7679 4074.1385,-2712.8786\" fill=\"none\" stroke=\"#000000\"/>\n",
       "<polygon fill=\"#000000\" points=\"4077.6386,-2712.784 4074.1385,-2702.784 4070.6386,-2712.784 4077.6386,-2712.784\" stroke=\"#000000\"/>\n",
       "</g>\n",
       "<!-- 140227092502864 -->\n",
       "<g class=\"node\" id=\"node66\">\n",
       "<title>140227092502864</title>\n",
       "<polygon fill=\"none\" points=\"3940.1385,-2573.5 3940.1385,-2619.5 4208.1385,-2619.5 4208.1385,-2573.5 3940.1385,-2573.5\" stroke=\"#000000\"/>\n",
       "<text fill=\"#000000\" font-family=\"Times,serif\" font-size=\"14.00\" text-anchor=\"middle\" x=\"3994.6385\" y=\"-2592.8\">dense_28: Dense</text>\n",
       "<polyline fill=\"none\" points=\"4049.1385,-2573.5 4049.1385,-2619.5 \" stroke=\"#000000\"/>\n",
       "<text fill=\"#000000\" font-family=\"Times,serif\" font-size=\"14.00\" text-anchor=\"middle\" x=\"4076.6385\" y=\"-2604.3\">input:</text>\n",
       "<polyline fill=\"none\" points=\"4049.1385,-2596.5 4104.1385,-2596.5 \" stroke=\"#000000\"/>\n",
       "<text fill=\"#000000\" font-family=\"Times,serif\" font-size=\"14.00\" text-anchor=\"middle\" x=\"4076.6385\" y=\"-2581.3\">output:</text>\n",
       "<polyline fill=\"none\" points=\"4104.1385,-2573.5 4104.1385,-2619.5 \" stroke=\"#000000\"/>\n",
       "<text fill=\"#000000\" font-family=\"Times,serif\" font-size=\"14.00\" text-anchor=\"middle\" x=\"4156.1385\" y=\"-2604.3\">(None, 60, 512)</text>\n",
       "<polyline fill=\"none\" points=\"4104.1385,-2596.5 4208.1385,-2596.5 \" stroke=\"#000000\"/>\n",
       "<text fill=\"#000000\" font-family=\"Times,serif\" font-size=\"14.00\" text-anchor=\"middle\" x=\"4156.1385\" y=\"-2581.3\">(None, 60, 512)</text>\n",
       "</g>\n",
       "<!-- 140227092539856&#45;&gt;140227092502864 -->\n",
       "<g class=\"edge\" id=\"edge81\">\n",
       "<title>140227092539856-&gt;140227092502864</title>\n",
       "<path d=\"M4074.1385,-2656.3799C4074.1385,-2648.1745 4074.1385,-2638.7679 4074.1385,-2629.8786\" fill=\"none\" stroke=\"#000000\"/>\n",
       "<polygon fill=\"#000000\" points=\"4077.6386,-2629.784 4074.1385,-2619.784 4070.6386,-2629.784 4077.6386,-2629.784\" stroke=\"#000000\"/>\n",
       "</g>\n",
       "<!-- 140226940261264 -->\n",
       "<g class=\"node\" id=\"node68\">\n",
       "<title>140226940261264</title>\n",
       "<polygon fill=\"none\" points=\"4068.1385,-2490.5 4068.1385,-2536.5 4410.1385,-2536.5 4410.1385,-2490.5 4068.1385,-2490.5\" stroke=\"#000000\"/>\n",
       "<text fill=\"#000000\" font-family=\"Times,serif\" font-size=\"14.00\" text-anchor=\"middle\" x=\"4108.1385\" y=\"-2509.8\">add_2: Add</text>\n",
       "<polyline fill=\"none\" points=\"4148.1385,-2490.5 4148.1385,-2536.5 \" stroke=\"#000000\"/>\n",
       "<text fill=\"#000000\" font-family=\"Times,serif\" font-size=\"14.00\" text-anchor=\"middle\" x=\"4175.6385\" y=\"-2521.3\">input:</text>\n",
       "<polyline fill=\"none\" points=\"4148.1385,-2513.5 4203.1385,-2513.5 \" stroke=\"#000000\"/>\n",
       "<text fill=\"#000000\" font-family=\"Times,serif\" font-size=\"14.00\" text-anchor=\"middle\" x=\"4175.6385\" y=\"-2498.3\">output:</text>\n",
       "<polyline fill=\"none\" points=\"4203.1385,-2490.5 4203.1385,-2536.5 \" stroke=\"#000000\"/>\n",
       "<text fill=\"#000000\" font-family=\"Times,serif\" font-size=\"14.00\" text-anchor=\"middle\" x=\"4306.6385\" y=\"-2521.3\">[(None, 60, 512), (None, 60, 512)]</text>\n",
       "<polyline fill=\"none\" points=\"4203.1385,-2513.5 4410.1385,-2513.5 \" stroke=\"#000000\"/>\n",
       "<text fill=\"#000000\" font-family=\"Times,serif\" font-size=\"14.00\" text-anchor=\"middle\" x=\"4306.6385\" y=\"-2498.3\">(None, 60, 512)</text>\n",
       "</g>\n",
       "<!-- 140227092502864&#45;&gt;140226940261264 -->\n",
       "<g class=\"edge\" id=\"edge82\">\n",
       "<title>140227092502864-&gt;140226940261264</title>\n",
       "<path d=\"M4120.1002,-2573.3799C4139.9525,-2563.3936 4163.3421,-2551.6279 4184.1098,-2541.1811\" fill=\"none\" stroke=\"#000000\"/>\n",
       "<polygon fill=\"#000000\" points=\"4185.7768,-2544.2605 4193.1374,-2536.6399 4182.6311,-2538.0071 4185.7768,-2544.2605\" stroke=\"#000000\"/>\n",
       "</g>\n",
       "<!-- 140227446555216 -->\n",
       "<g class=\"node\" id=\"node67\">\n",
       "<title>140227446555216</title>\n",
       "<polygon fill=\"none\" points=\"4226.6385,-2573.5 4226.6385,-2619.5 4579.6385,-2619.5 4579.6385,-2573.5 4226.6385,-2573.5\" stroke=\"#000000\"/>\n",
       "<text fill=\"#000000\" font-family=\"Times,serif\" font-size=\"14.00\" text-anchor=\"middle\" x=\"4323.6385\" y=\"-2592.8\">positional_encoding: InputLayer</text>\n",
       "<polyline fill=\"none\" points=\"4420.6385,-2573.5 4420.6385,-2619.5 \" stroke=\"#000000\"/>\n",
       "<text fill=\"#000000\" font-family=\"Times,serif\" font-size=\"14.00\" text-anchor=\"middle\" x=\"4448.1385\" y=\"-2604.3\">input:</text>\n",
       "<polyline fill=\"none\" points=\"4420.6385,-2596.5 4475.6385,-2596.5 \" stroke=\"#000000\"/>\n",
       "<text fill=\"#000000\" font-family=\"Times,serif\" font-size=\"14.00\" text-anchor=\"middle\" x=\"4448.1385\" y=\"-2581.3\">output:</text>\n",
       "<polyline fill=\"none\" points=\"4475.6385,-2573.5 4475.6385,-2619.5 \" stroke=\"#000000\"/>\n",
       "<text fill=\"#000000\" font-family=\"Times,serif\" font-size=\"14.00\" text-anchor=\"middle\" x=\"4527.6385\" y=\"-2604.3\">(None, 60, 512)</text>\n",
       "<polyline fill=\"none\" points=\"4475.6385,-2596.5 4579.6385,-2596.5 \" stroke=\"#000000\"/>\n",
       "<text fill=\"#000000\" font-family=\"Times,serif\" font-size=\"14.00\" text-anchor=\"middle\" x=\"4527.6385\" y=\"-2581.3\">(None, 60, 512)</text>\n",
       "</g>\n",
       "<!-- 140227446555216&#45;&gt;140226940261264 -->\n",
       "<g class=\"edge\" id=\"edge83\">\n",
       "<title>140227446555216-&gt;140226940261264</title>\n",
       "<path d=\"M4357.4554,-2573.3799C4337.7234,-2563.3936 4314.4756,-2551.6279 4293.8337,-2541.1811\" fill=\"none\" stroke=\"#000000\"/>\n",
       "<polygon fill=\"#000000\" points=\"4295.3637,-2538.0328 4284.8608,-2536.6399 4292.2028,-2544.2785 4295.3637,-2538.0328\" stroke=\"#000000\"/>\n",
       "</g>\n",
       "<!-- 140226939227088 -->\n",
       "<g class=\"node\" id=\"node69\">\n",
       "<title>140226939227088</title>\n",
       "<polygon fill=\"none\" points=\"1910.6385,-2407.5 1910.6385,-2453.5 2827.6385,-2453.5 2827.6385,-2407.5 1910.6385,-2407.5\" stroke=\"#000000\"/>\n",
       "<text fill=\"#000000\" font-family=\"Times,serif\" font-size=\"14.00\" text-anchor=\"middle\" x=\"1971.6385\" y=\"-2426.8\">sa10: SelfAttention</text>\n",
       "<polyline fill=\"none\" points=\"2032.6385,-2407.5 2032.6385,-2453.5 \" stroke=\"#000000\"/>\n",
       "<text fill=\"#000000\" font-family=\"Times,serif\" font-size=\"14.00\" text-anchor=\"middle\" x=\"2060.1385\" y=\"-2438.3\">input:</text>\n",
       "<polyline fill=\"none\" points=\"2032.6385,-2430.5 2087.6385,-2430.5 \" stroke=\"#000000\"/>\n",
       "<text fill=\"#000000\" font-family=\"Times,serif\" font-size=\"14.00\" text-anchor=\"middle\" x=\"2060.1385\" y=\"-2415.3\">output:</text>\n",
       "<polyline fill=\"none\" points=\"2087.6385,-2407.5 2087.6385,-2453.5 \" stroke=\"#000000\"/>\n",
       "<text fill=\"#000000\" font-family=\"Times,serif\" font-size=\"14.00\" text-anchor=\"middle\" x=\"2457.6385\" y=\"-2438.3\">(None, 60, 512)</text>\n",
       "<polyline fill=\"none\" points=\"2087.6385,-2430.5 2827.6385,-2430.5 \" stroke=\"#000000\"/>\n",
       "<text fill=\"#000000\" font-family=\"Times,serif\" font-size=\"14.00\" text-anchor=\"middle\" x=\"2457.6385\" y=\"-2415.3\">[(None, 60, 512), (None, 60, 64), (None, 60, 64), (None, 60, 512), (None, 60, 60), (None, 60, 60), (None, 60, 60), (None, 60, 512)]</text>\n",
       "</g>\n",
       "<!-- 140226940261264&#45;&gt;140226939227088 -->\n",
       "<g class=\"edge\" id=\"edge84\">\n",
       "<title>140226940261264-&gt;140226939227088</title>\n",
       "<path d=\"M4067.9596,-2506.6764C3803.6549,-2496.042 3280.2831,-2474.5925 2836.1385,-2454 2835.9168,-2453.9897 2835.695,-2453.9794 2835.4731,-2453.9691\" fill=\"none\" stroke=\"#000000\"/>\n",
       "<polygon fill=\"#000000\" points=\"2835.6032,-2450.4715 2825.4514,-2453.5029 2835.2779,-2457.4639 2835.6032,-2450.4715\" stroke=\"#000000\"/>\n",
       "</g>\n",
       "<!-- 140226938815632 -->\n",
       "<g class=\"node\" id=\"node70\">\n",
       "<title>140226938815632</title>\n",
       "<polygon fill=\"none\" points=\"2845.6385,-2407.5 2845.6385,-2453.5 3762.6385,-2453.5 3762.6385,-2407.5 2845.6385,-2407.5\" stroke=\"#000000\"/>\n",
       "<text fill=\"#000000\" font-family=\"Times,serif\" font-size=\"14.00\" text-anchor=\"middle\" x=\"2906.6385\" y=\"-2426.8\">sa11: SelfAttention</text>\n",
       "<polyline fill=\"none\" points=\"2967.6385,-2407.5 2967.6385,-2453.5 \" stroke=\"#000000\"/>\n",
       "<text fill=\"#000000\" font-family=\"Times,serif\" font-size=\"14.00\" text-anchor=\"middle\" x=\"2995.1385\" y=\"-2438.3\">input:</text>\n",
       "<polyline fill=\"none\" points=\"2967.6385,-2430.5 3022.6385,-2430.5 \" stroke=\"#000000\"/>\n",
       "<text fill=\"#000000\" font-family=\"Times,serif\" font-size=\"14.00\" text-anchor=\"middle\" x=\"2995.1385\" y=\"-2415.3\">output:</text>\n",
       "<polyline fill=\"none\" points=\"3022.6385,-2407.5 3022.6385,-2453.5 \" stroke=\"#000000\"/>\n",
       "<text fill=\"#000000\" font-family=\"Times,serif\" font-size=\"14.00\" text-anchor=\"middle\" x=\"3392.6385\" y=\"-2438.3\">(None, 60, 512)</text>\n",
       "<polyline fill=\"none\" points=\"3022.6385,-2430.5 3762.6385,-2430.5 \" stroke=\"#000000\"/>\n",
       "<text fill=\"#000000\" font-family=\"Times,serif\" font-size=\"14.00\" text-anchor=\"middle\" x=\"3392.6385\" y=\"-2415.3\">[(None, 60, 512), (None, 60, 64), (None, 60, 64), (None, 60, 512), (None, 60, 60), (None, 60, 60), (None, 60, 60), (None, 60, 512)]</text>\n",
       "</g>\n",
       "<!-- 140226940261264&#45;&gt;140226938815632 -->\n",
       "<g class=\"edge\" id=\"edge85\">\n",
       "<title>140226940261264-&gt;140226938815632</title>\n",
       "<path d=\"M4067.9171,-2498.3007C3929.8225,-2486.042 3733.0614,-2468.5755 3573.835,-2454.441\" fill=\"none\" stroke=\"#000000\"/>\n",
       "<polygon fill=\"#000000\" points=\"3573.6727,-2450.9129 3563.4024,-2453.5149 3573.0537,-2457.8855 3573.6727,-2450.9129\" stroke=\"#000000\"/>\n",
       "</g>\n",
       "<!-- 140226937509072 -->\n",
       "<g class=\"node\" id=\"node71\">\n",
       "<title>140226937509072</title>\n",
       "<polygon fill=\"none\" points=\"3780.6385,-2407.5 3780.6385,-2453.5 4697.6385,-2453.5 4697.6385,-2407.5 3780.6385,-2407.5\" stroke=\"#000000\"/>\n",
       "<text fill=\"#000000\" font-family=\"Times,serif\" font-size=\"14.00\" text-anchor=\"middle\" x=\"3841.6385\" y=\"-2426.8\">sa12: SelfAttention</text>\n",
       "<polyline fill=\"none\" points=\"3902.6385,-2407.5 3902.6385,-2453.5 \" stroke=\"#000000\"/>\n",
       "<text fill=\"#000000\" font-family=\"Times,serif\" font-size=\"14.00\" text-anchor=\"middle\" x=\"3930.1385\" y=\"-2438.3\">input:</text>\n",
       "<polyline fill=\"none\" points=\"3902.6385,-2430.5 3957.6385,-2430.5 \" stroke=\"#000000\"/>\n",
       "<text fill=\"#000000\" font-family=\"Times,serif\" font-size=\"14.00\" text-anchor=\"middle\" x=\"3930.1385\" y=\"-2415.3\">output:</text>\n",
       "<polyline fill=\"none\" points=\"3957.6385,-2407.5 3957.6385,-2453.5 \" stroke=\"#000000\"/>\n",
       "<text fill=\"#000000\" font-family=\"Times,serif\" font-size=\"14.00\" text-anchor=\"middle\" x=\"4327.6385\" y=\"-2438.3\">(None, 60, 512)</text>\n",
       "<polyline fill=\"none\" points=\"3957.6385,-2430.5 4697.6385,-2430.5 \" stroke=\"#000000\"/>\n",
       "<text fill=\"#000000\" font-family=\"Times,serif\" font-size=\"14.00\" text-anchor=\"middle\" x=\"4327.6385\" y=\"-2415.3\">[(None, 60, 512), (None, 60, 64), (None, 60, 64), (None, 60, 512), (None, 60, 60), (None, 60, 60), (None, 60, 60), (None, 60, 512)]</text>\n",
       "</g>\n",
       "<!-- 140226940261264&#45;&gt;140226937509072 -->\n",
       "<g class=\"edge\" id=\"edge86\">\n",
       "<title>140226940261264-&gt;140226937509072</title>\n",
       "<path d=\"M4239.1385,-2490.3799C4239.1385,-2482.1745 4239.1385,-2472.7679 4239.1385,-2463.8786\" fill=\"none\" stroke=\"#000000\"/>\n",
       "<polygon fill=\"#000000\" points=\"4242.6386,-2463.784 4239.1385,-2453.784 4235.6386,-2463.784 4242.6386,-2463.784\" stroke=\"#000000\"/>\n",
       "</g>\n",
       "<!-- 140226935386000 -->\n",
       "<g class=\"node\" id=\"node72\">\n",
       "<title>140226935386000</title>\n",
       "<polygon fill=\"none\" points=\"4715.6385,-2407.5 4715.6385,-2453.5 5632.6385,-2453.5 5632.6385,-2407.5 4715.6385,-2407.5\" stroke=\"#000000\"/>\n",
       "<text fill=\"#000000\" font-family=\"Times,serif\" font-size=\"14.00\" text-anchor=\"middle\" x=\"4776.6385\" y=\"-2426.8\">sa13: SelfAttention</text>\n",
       "<polyline fill=\"none\" points=\"4837.6385,-2407.5 4837.6385,-2453.5 \" stroke=\"#000000\"/>\n",
       "<text fill=\"#000000\" font-family=\"Times,serif\" font-size=\"14.00\" text-anchor=\"middle\" x=\"4865.1385\" y=\"-2438.3\">input:</text>\n",
       "<polyline fill=\"none\" points=\"4837.6385,-2430.5 4892.6385,-2430.5 \" stroke=\"#000000\"/>\n",
       "<text fill=\"#000000\" font-family=\"Times,serif\" font-size=\"14.00\" text-anchor=\"middle\" x=\"4865.1385\" y=\"-2415.3\">output:</text>\n",
       "<polyline fill=\"none\" points=\"4892.6385,-2407.5 4892.6385,-2453.5 \" stroke=\"#000000\"/>\n",
       "<text fill=\"#000000\" font-family=\"Times,serif\" font-size=\"14.00\" text-anchor=\"middle\" x=\"5262.6385\" y=\"-2438.3\">(None, 60, 512)</text>\n",
       "<polyline fill=\"none\" points=\"4892.6385,-2430.5 5632.6385,-2430.5 \" stroke=\"#000000\"/>\n",
       "<text fill=\"#000000\" font-family=\"Times,serif\" font-size=\"14.00\" text-anchor=\"middle\" x=\"5262.6385\" y=\"-2415.3\">[(None, 60, 512), (None, 60, 64), (None, 60, 64), (None, 60, 512), (None, 60, 60), (None, 60, 60), (None, 60, 60), (None, 60, 512)]</text>\n",
       "</g>\n",
       "<!-- 140226940261264&#45;&gt;140226935386000 -->\n",
       "<g class=\"edge\" id=\"edge87\">\n",
       "<title>140226940261264-&gt;140226935386000</title>\n",
       "<path d=\"M4410.3599,-2498.3007C4548.4545,-2486.042 4745.2156,-2468.5755 4904.442,-2454.441\" fill=\"none\" stroke=\"#000000\"/>\n",
       "<polygon fill=\"#000000\" points=\"4905.2233,-2457.8855 4914.8747,-2453.5149 4904.6043,-2450.9129 4905.2233,-2457.8855\" stroke=\"#000000\"/>\n",
       "</g>\n",
       "<!-- 140226933402384 -->\n",
       "<g class=\"node\" id=\"node73\">\n",
       "<title>140226933402384</title>\n",
       "<polygon fill=\"none\" points=\"5650.6385,-2407.5 5650.6385,-2453.5 6567.6385,-2453.5 6567.6385,-2407.5 5650.6385,-2407.5\" stroke=\"#000000\"/>\n",
       "<text fill=\"#000000\" font-family=\"Times,serif\" font-size=\"14.00\" text-anchor=\"middle\" x=\"5711.6385\" y=\"-2426.8\">sa14: SelfAttention</text>\n",
       "<polyline fill=\"none\" points=\"5772.6385,-2407.5 5772.6385,-2453.5 \" stroke=\"#000000\"/>\n",
       "<text fill=\"#000000\" font-family=\"Times,serif\" font-size=\"14.00\" text-anchor=\"middle\" x=\"5800.1385\" y=\"-2438.3\">input:</text>\n",
       "<polyline fill=\"none\" points=\"5772.6385,-2430.5 5827.6385,-2430.5 \" stroke=\"#000000\"/>\n",
       "<text fill=\"#000000\" font-family=\"Times,serif\" font-size=\"14.00\" text-anchor=\"middle\" x=\"5800.1385\" y=\"-2415.3\">output:</text>\n",
       "<polyline fill=\"none\" points=\"5827.6385,-2407.5 5827.6385,-2453.5 \" stroke=\"#000000\"/>\n",
       "<text fill=\"#000000\" font-family=\"Times,serif\" font-size=\"14.00\" text-anchor=\"middle\" x=\"6197.6385\" y=\"-2438.3\">(None, 60, 512)</text>\n",
       "<polyline fill=\"none\" points=\"5827.6385,-2430.5 6567.6385,-2430.5 \" stroke=\"#000000\"/>\n",
       "<text fill=\"#000000\" font-family=\"Times,serif\" font-size=\"14.00\" text-anchor=\"middle\" x=\"6197.6385\" y=\"-2415.3\">[(None, 60, 512), (None, 60, 64), (None, 60, 64), (None, 60, 512), (None, 60, 60), (None, 60, 60), (None, 60, 60), (None, 60, 512)]</text>\n",
       "</g>\n",
       "<!-- 140226940261264&#45;&gt;140226933402384 -->\n",
       "<g class=\"edge\" id=\"edge88\">\n",
       "<title>140226940261264-&gt;140226933402384</title>\n",
       "<path d=\"M4410.3174,-2506.6764C4674.6221,-2496.042 5197.9939,-2474.5925 5642.1385,-2454 5642.3602,-2453.9897 5642.582,-2453.9794 5642.8039,-2453.9691\" fill=\"none\" stroke=\"#000000\"/>\n",
       "<polygon fill=\"#000000\" points=\"5642.9992,-2457.4639 5652.8257,-2453.5029 5642.6738,-2450.4715 5642.9992,-2457.4639\" stroke=\"#000000\"/>\n",
       "</g>\n",
       "<!-- 140226929241552 -->\n",
       "<g class=\"node\" id=\"node74\">\n",
       "<title>140226929241552</title>\n",
       "<polygon fill=\"none\" points=\"6585.6385,-2407.5 6585.6385,-2453.5 7502.6385,-2453.5 7502.6385,-2407.5 6585.6385,-2407.5\" stroke=\"#000000\"/>\n",
       "<text fill=\"#000000\" font-family=\"Times,serif\" font-size=\"14.00\" text-anchor=\"middle\" x=\"6646.6385\" y=\"-2426.8\">sa15: SelfAttention</text>\n",
       "<polyline fill=\"none\" points=\"6707.6385,-2407.5 6707.6385,-2453.5 \" stroke=\"#000000\"/>\n",
       "<text fill=\"#000000\" font-family=\"Times,serif\" font-size=\"14.00\" text-anchor=\"middle\" x=\"6735.1385\" y=\"-2438.3\">input:</text>\n",
       "<polyline fill=\"none\" points=\"6707.6385,-2430.5 6762.6385,-2430.5 \" stroke=\"#000000\"/>\n",
       "<text fill=\"#000000\" font-family=\"Times,serif\" font-size=\"14.00\" text-anchor=\"middle\" x=\"6735.1385\" y=\"-2415.3\">output:</text>\n",
       "<polyline fill=\"none\" points=\"6762.6385,-2407.5 6762.6385,-2453.5 \" stroke=\"#000000\"/>\n",
       "<text fill=\"#000000\" font-family=\"Times,serif\" font-size=\"14.00\" text-anchor=\"middle\" x=\"7132.6385\" y=\"-2438.3\">(None, 60, 512)</text>\n",
       "<polyline fill=\"none\" points=\"6762.6385,-2430.5 7502.6385,-2430.5 \" stroke=\"#000000\"/>\n",
       "<text fill=\"#000000\" font-family=\"Times,serif\" font-size=\"14.00\" text-anchor=\"middle\" x=\"7132.6385\" y=\"-2415.3\">[(None, 60, 512), (None, 60, 64), (None, 60, 64), (None, 60, 512), (None, 60, 60), (None, 60, 60), (None, 60, 60), (None, 60, 512)]</text>\n",
       "</g>\n",
       "<!-- 140226940261264&#45;&gt;140226929241552 -->\n",
       "<g class=\"edge\" id=\"edge89\">\n",
       "<title>140226940261264-&gt;140226929241552</title>\n",
       "<path d=\"M4410.4171,-2510.5975C4796.9309,-2503.7283 5766.4128,-2484.7097 6577.1385,-2454 6578.0701,-2453.9647 6579.0028,-2453.9293 6579.9365,-2453.8937\" fill=\"none\" stroke=\"#000000\"/>\n",
       "<polygon fill=\"#000000\" points=\"6580.1199,-2457.3893 6589.9775,-2453.5064 6579.8501,-2450.3945 6580.1199,-2457.3893\" stroke=\"#000000\"/>\n",
       "</g>\n",
       "<!-- 140226929336784 -->\n",
       "<g class=\"node\" id=\"node75\">\n",
       "<title>140226929336784</title>\n",
       "<polygon fill=\"none\" points=\"40.6385,-2407.5 40.6385,-2453.5 957.6385,-2453.5 957.6385,-2407.5 40.6385,-2407.5\" stroke=\"#000000\"/>\n",
       "<text fill=\"#000000\" font-family=\"Times,serif\" font-size=\"14.00\" text-anchor=\"middle\" x=\"101.6385\" y=\"-2426.8\">sa16: SelfAttention</text>\n",
       "<polyline fill=\"none\" points=\"162.6385,-2407.5 162.6385,-2453.5 \" stroke=\"#000000\"/>\n",
       "<text fill=\"#000000\" font-family=\"Times,serif\" font-size=\"14.00\" text-anchor=\"middle\" x=\"190.1385\" y=\"-2438.3\">input:</text>\n",
       "<polyline fill=\"none\" points=\"162.6385,-2430.5 217.6385,-2430.5 \" stroke=\"#000000\"/>\n",
       "<text fill=\"#000000\" font-family=\"Times,serif\" font-size=\"14.00\" text-anchor=\"middle\" x=\"190.1385\" y=\"-2415.3\">output:</text>\n",
       "<polyline fill=\"none\" points=\"217.6385,-2407.5 217.6385,-2453.5 \" stroke=\"#000000\"/>\n",
       "<text fill=\"#000000\" font-family=\"Times,serif\" font-size=\"14.00\" text-anchor=\"middle\" x=\"587.6385\" y=\"-2438.3\">(None, 60, 512)</text>\n",
       "<polyline fill=\"none\" points=\"217.6385,-2430.5 957.6385,-2430.5 \" stroke=\"#000000\"/>\n",
       "<text fill=\"#000000\" font-family=\"Times,serif\" font-size=\"14.00\" text-anchor=\"middle\" x=\"587.6385\" y=\"-2415.3\">[(None, 60, 512), (None, 60, 64), (None, 60, 64), (None, 60, 512), (None, 60, 60), (None, 60, 60), (None, 60, 60), (None, 60, 512)]</text>\n",
       "</g>\n",
       "<!-- 140226940261264&#45;&gt;140226929336784 -->\n",
       "<g class=\"edge\" id=\"edge90\">\n",
       "<title>140226940261264-&gt;140226929336784</title>\n",
       "<path d=\"M4067.8495,-2512.3233C3581.833,-2508.5666 2152.528,-2494.6235 966.1385,-2454 964.8265,-2453.9551 963.5124,-2453.9098 962.1963,-2453.8641\" fill=\"none\" stroke=\"#000000\"/>\n",
       "<polygon fill=\"#000000\" points=\"962.1859,-2450.3617 952.0688,-2453.507 961.9392,-2457.3573 962.1859,-2450.3617\" stroke=\"#000000\"/>\n",
       "</g>\n",
       "<!-- 140226926730320 -->\n",
       "<g class=\"node\" id=\"node76\">\n",
       "<title>140226926730320</title>\n",
       "<polygon fill=\"none\" points=\"975.6385,-2407.5 975.6385,-2453.5 1892.6385,-2453.5 1892.6385,-2407.5 975.6385,-2407.5\" stroke=\"#000000\"/>\n",
       "<text fill=\"#000000\" font-family=\"Times,serif\" font-size=\"14.00\" text-anchor=\"middle\" x=\"1036.6385\" y=\"-2426.8\">sa17: SelfAttention</text>\n",
       "<polyline fill=\"none\" points=\"1097.6385,-2407.5 1097.6385,-2453.5 \" stroke=\"#000000\"/>\n",
       "<text fill=\"#000000\" font-family=\"Times,serif\" font-size=\"14.00\" text-anchor=\"middle\" x=\"1125.1385\" y=\"-2438.3\">input:</text>\n",
       "<polyline fill=\"none\" points=\"1097.6385,-2430.5 1152.6385,-2430.5 \" stroke=\"#000000\"/>\n",
       "<text fill=\"#000000\" font-family=\"Times,serif\" font-size=\"14.00\" text-anchor=\"middle\" x=\"1125.1385\" y=\"-2415.3\">output:</text>\n",
       "<polyline fill=\"none\" points=\"1152.6385,-2407.5 1152.6385,-2453.5 \" stroke=\"#000000\"/>\n",
       "<text fill=\"#000000\" font-family=\"Times,serif\" font-size=\"14.00\" text-anchor=\"middle\" x=\"1522.6385\" y=\"-2438.3\">(None, 60, 512)</text>\n",
       "<polyline fill=\"none\" points=\"1152.6385,-2430.5 1892.6385,-2430.5 \" stroke=\"#000000\"/>\n",
       "<text fill=\"#000000\" font-family=\"Times,serif\" font-size=\"14.00\" text-anchor=\"middle\" x=\"1522.6385\" y=\"-2415.3\">[(None, 60, 512), (None, 60, 64), (None, 60, 64), (None, 60, 512), (None, 60, 60), (None, 60, 60), (None, 60, 60), (None, 60, 512)]</text>\n",
       "</g>\n",
       "<!-- 140226940261264&#45;&gt;140226926730320 -->\n",
       "<g class=\"edge\" id=\"edge91\">\n",
       "<title>140226940261264-&gt;140226926730320</title>\n",
       "<path d=\"M4067.8599,-2510.5975C3681.3462,-2503.7283 2711.8642,-2484.7097 1901.1385,-2454 1900.2069,-2453.9647 1899.2742,-2453.9293 1898.3406,-2453.8937\" fill=\"none\" stroke=\"#000000\"/>\n",
       "<polygon fill=\"#000000\" points=\"1898.427,-2450.3945 1888.2995,-2453.5064 1898.1571,-2457.3893 1898.427,-2450.3945\" stroke=\"#000000\"/>\n",
       "</g>\n",
       "<!-- 140226922213584 -->\n",
       "<g class=\"node\" id=\"node79\">\n",
       "<title>140226922213584</title>\n",
       "<polygon fill=\"none\" points=\"4747.1385,-2158.5 4747.1385,-2204.5 5215.1385,-2204.5 5215.1385,-2158.5 4747.1385,-2158.5\" stroke=\"#000000\"/>\n",
       "<text fill=\"#000000\" font-family=\"Times,serif\" font-size=\"14.00\" text-anchor=\"middle\" x=\"4850.1385\" y=\"-2177.8\">res_comb_sa_1: ResidualCombine</text>\n",
       "<polyline fill=\"none\" points=\"4953.1385,-2158.5 4953.1385,-2204.5 \" stroke=\"#000000\"/>\n",
       "<text fill=\"#000000\" font-family=\"Times,serif\" font-size=\"14.00\" text-anchor=\"middle\" x=\"4980.6385\" y=\"-2189.3\">input:</text>\n",
       "<polyline fill=\"none\" points=\"4953.1385,-2181.5 5008.1385,-2181.5 \" stroke=\"#000000\"/>\n",
       "<text fill=\"#000000\" font-family=\"Times,serif\" font-size=\"14.00\" text-anchor=\"middle\" x=\"4980.6385\" y=\"-2166.3\">output:</text>\n",
       "<polyline fill=\"none\" points=\"5008.1385,-2158.5 5008.1385,-2204.5 \" stroke=\"#000000\"/>\n",
       "<text fill=\"#000000\" font-family=\"Times,serif\" font-size=\"14.00\" text-anchor=\"middle\" x=\"5111.6385\" y=\"-2189.3\">[(None, 60, 512), (None, 60, 512)]</text>\n",
       "<polyline fill=\"none\" points=\"5008.1385,-2181.5 5215.1385,-2181.5 \" stroke=\"#000000\"/>\n",
       "<text fill=\"#000000\" font-family=\"Times,serif\" font-size=\"14.00\" text-anchor=\"middle\" x=\"5111.6385\" y=\"-2166.3\">[(None, 60, 512), (1, 1), (1, 1)]</text>\n",
       "</g>\n",
       "<!-- 140226940261264&#45;&gt;140226922213584 -->\n",
       "<g class=\"edge\" id=\"edge101\">\n",
       "<title>140226940261264-&gt;140226922213584</title>\n",
       "<path d=\"M4410.3395,-2511.9837C5079.7474,-2505.8577 7484.7197,-2481.9217 7512.1385,-2454 7526.7743,-2439.0957 7526.2386,-2422.4121 7512.1385,-2407 7359.6211,-2240.2899 5830.204,-2195.988 5225.4084,-2184.942\" fill=\"none\" stroke=\"#000000\"/>\n",
       "<polygon fill=\"#000000\" points=\"5225.3133,-2181.4398 5215.2515,-2184.758 5225.1864,-2188.4387 5225.3133,-2181.4398\" stroke=\"#000000\"/>\n",
       "</g>\n",
       "<!-- 140226924697616 -->\n",
       "<g class=\"node\" id=\"node77\">\n",
       "<title>140226924697616</title>\n",
       "<polygon fill=\"none\" points=\"3745.6385,-2324.5 3745.6385,-2370.5 4732.6385,-2370.5 4732.6385,-2324.5 3745.6385,-2324.5\" stroke=\"#000000\"/>\n",
       "<text fill=\"#000000\" font-family=\"Times,serif\" font-size=\"14.00\" text-anchor=\"middle\" x=\"3824.6385\" y=\"-2343.8\">concat_sa_1: Concatenate</text>\n",
       "<polyline fill=\"none\" points=\"3903.6385,-2324.5 3903.6385,-2370.5 \" stroke=\"#000000\"/>\n",
       "<text fill=\"#000000\" font-family=\"Times,serif\" font-size=\"14.00\" text-anchor=\"middle\" x=\"3931.1385\" y=\"-2355.3\">input:</text>\n",
       "<polyline fill=\"none\" points=\"3903.6385,-2347.5 3958.6385,-2347.5 \" stroke=\"#000000\"/>\n",
       "<text fill=\"#000000\" font-family=\"Times,serif\" font-size=\"14.00\" text-anchor=\"middle\" x=\"3931.1385\" y=\"-2332.3\">output:</text>\n",
       "<polyline fill=\"none\" points=\"3958.6385,-2324.5 3958.6385,-2370.5 \" stroke=\"#000000\"/>\n",
       "<text fill=\"#000000\" font-family=\"Times,serif\" font-size=\"14.00\" text-anchor=\"middle\" x=\"4345.6385\" y=\"-2355.3\">[(None, 60, 512), (None, 60, 512), (None, 60, 512), (None, 60, 512), (None, 60, 512), (None, 60, 512), (None, 60, 512), (None, 60, 512)]</text>\n",
       "<polyline fill=\"none\" points=\"3958.6385,-2347.5 4732.6385,-2347.5 \" stroke=\"#000000\"/>\n",
       "<text fill=\"#000000\" font-family=\"Times,serif\" font-size=\"14.00\" text-anchor=\"middle\" x=\"4345.6385\" y=\"-2332.3\">(None, 60, 4096)</text>\n",
       "</g>\n",
       "<!-- 140226939227088&#45;&gt;140226924697616 -->\n",
       "<g class=\"edge\" id=\"edge92\">\n",
       "<title>140226939227088-&gt;140226924697616</title>\n",
       "<path d=\"M2825.4514,-2407.4971C2829.0278,-2407.3302 2832.5907,-2407.1645 2836.1385,-2407 3134.2866,-2393.1765 3468.1363,-2378.9669 3735.3545,-2367.9019\" fill=\"none\" stroke=\"#000000\"/>\n",
       "<polygon fill=\"#000000\" points=\"3735.7827,-2371.3872 3745.6293,-2367.4766 3735.4931,-2364.3932 3735.7827,-2371.3872\" stroke=\"#000000\"/>\n",
       "</g>\n",
       "<!-- 140226938815632&#45;&gt;140226924697616 -->\n",
       "<g class=\"edge\" id=\"edge93\">\n",
       "<title>140226938815632-&gt;140226924697616</title>\n",
       "<path d=\"M3563.3465,-2407.4901C3689.7651,-2396.2679 3841.7266,-2382.7783 3969.5048,-2371.4354\" fill=\"none\" stroke=\"#000000\"/>\n",
       "<polygon fill=\"#000000\" points=\"3970.1805,-2374.8893 3979.8318,-2370.5187 3969.5614,-2367.9167 3970.1805,-2374.8893\" stroke=\"#000000\"/>\n",
       "</g>\n",
       "<!-- 140226937509072&#45;&gt;140226924697616 -->\n",
       "<g class=\"edge\" id=\"edge94\">\n",
       "<title>140226937509072-&gt;140226924697616</title>\n",
       "<path d=\"M4239.1385,-2407.3799C4239.1385,-2399.1745 4239.1385,-2389.7679 4239.1385,-2380.8786\" fill=\"none\" stroke=\"#000000\"/>\n",
       "<polygon fill=\"#000000\" points=\"4242.6386,-2380.784 4239.1385,-2370.784 4235.6386,-2380.784 4242.6386,-2380.784\" stroke=\"#000000\"/>\n",
       "</g>\n",
       "<!-- 140226935386000&#45;&gt;140226924697616 -->\n",
       "<g class=\"edge\" id=\"edge95\">\n",
       "<title>140226935386000-&gt;140226924697616</title>\n",
       "<path d=\"M4914.9305,-2407.4901C4788.5119,-2396.2679 4636.5504,-2382.7783 4508.7722,-2371.4354\" fill=\"none\" stroke=\"#000000\"/>\n",
       "<polygon fill=\"#000000\" points=\"4508.7156,-2367.9167 4498.4452,-2370.5187 4508.0966,-2374.8893 4508.7156,-2367.9167\" stroke=\"#000000\"/>\n",
       "</g>\n",
       "<!-- 140226933402384&#45;&gt;140226924697616 -->\n",
       "<g class=\"edge\" id=\"edge96\">\n",
       "<title>140226933402384-&gt;140226924697616</title>\n",
       "<path d=\"M5652.8257,-2407.4971C5649.2492,-2407.3302 5645.6863,-2407.1645 5642.1385,-2407 5343.9905,-2393.1765 5010.1407,-2378.9669 4742.9225,-2367.9019\" fill=\"none\" stroke=\"#000000\"/>\n",
       "<polygon fill=\"#000000\" points=\"4742.7839,-2364.3932 4732.6477,-2367.4766 4742.4944,-2371.3872 4742.7839,-2364.3932\" stroke=\"#000000\"/>\n",
       "</g>\n",
       "<!-- 140226929241552&#45;&gt;140226924697616 -->\n",
       "<g class=\"edge\" id=\"edge97\">\n",
       "<title>140226929241552-&gt;140226924697616</title>\n",
       "<path d=\"M6589.9775,-2407.4936C6585.6779,-2407.3259 6581.3974,-2407.1613 6577.1385,-2407 5945.0095,-2383.0554 5216.3655,-2366.2183 4742.7978,-2356.7061\" fill=\"none\" stroke=\"#000000\"/>\n",
       "<polygon fill=\"#000000\" points=\"4742.7746,-2353.205 4732.7064,-2356.5037 4742.6342,-2360.2036 4742.7746,-2353.205\" stroke=\"#000000\"/>\n",
       "</g>\n",
       "<!-- 140226929336784&#45;&gt;140226924697616 -->\n",
       "<g class=\"edge\" id=\"edge98\">\n",
       "<title>140226929336784-&gt;140226924697616</title>\n",
       "<path d=\"M952.0688,-2407.493C956.7824,-2407.3242 961.4735,-2407.1597 966.1385,-2407 1946.3084,-2373.4377 3092.2856,-2358.0867 3735.1385,-2351.6456\" fill=\"none\" stroke=\"#000000\"/>\n",
       "<polygon fill=\"#000000\" points=\"3735.5443,-2355.1418 3745.5088,-2351.542 3735.4743,-2348.1422 3735.5443,-2355.1418\" stroke=\"#000000\"/>\n",
       "</g>\n",
       "<!-- 140226926730320&#45;&gt;140226924697616 -->\n",
       "<g class=\"edge\" id=\"edge99\">\n",
       "<title>140226926730320-&gt;140226924697616</title>\n",
       "<path d=\"M1888.2995,-2407.4936C1892.5991,-2407.3259 1896.8797,-2407.1613 1901.1385,-2407 2533.2675,-2383.0554 3261.9115,-2366.2183 3735.4792,-2356.7061\" fill=\"none\" stroke=\"#000000\"/>\n",
       "<polygon fill=\"#000000\" points=\"3735.6428,-2360.2036 3745.5706,-2356.5037 3735.5024,-2353.205 3735.6428,-2360.2036\" stroke=\"#000000\"/>\n",
       "</g>\n",
       "<!-- 140226922681104 -->\n",
       "<g class=\"node\" id=\"node78\">\n",
       "<title>140226922681104</title>\n",
       "<polygon fill=\"none\" points=\"4302.1385,-2241.5 4302.1385,-2287.5 4670.1385,-2287.5 4670.1385,-2241.5 4302.1385,-2241.5\" stroke=\"#000000\"/>\n",
       "<text fill=\"#000000\" font-family=\"Times,serif\" font-size=\"14.00\" text-anchor=\"middle\" x=\"4403.6385\" y=\"-2260.8\">cond_sa_1: CondenseAttention1D</text>\n",
       "<polyline fill=\"none\" points=\"4505.1385,-2241.5 4505.1385,-2287.5 \" stroke=\"#000000\"/>\n",
       "<text fill=\"#000000\" font-family=\"Times,serif\" font-size=\"14.00\" text-anchor=\"middle\" x=\"4532.6385\" y=\"-2272.3\">input:</text>\n",
       "<polyline fill=\"none\" points=\"4505.1385,-2264.5 4560.1385,-2264.5 \" stroke=\"#000000\"/>\n",
       "<text fill=\"#000000\" font-family=\"Times,serif\" font-size=\"14.00\" text-anchor=\"middle\" x=\"4532.6385\" y=\"-2249.3\">output:</text>\n",
       "<polyline fill=\"none\" points=\"4560.1385,-2241.5 4560.1385,-2287.5 \" stroke=\"#000000\"/>\n",
       "<text fill=\"#000000\" font-family=\"Times,serif\" font-size=\"14.00\" text-anchor=\"middle\" x=\"4615.1385\" y=\"-2272.3\">(None, 60, 4096)</text>\n",
       "<polyline fill=\"none\" points=\"4560.1385,-2264.5 4670.1385,-2264.5 \" stroke=\"#000000\"/>\n",
       "<text fill=\"#000000\" font-family=\"Times,serif\" font-size=\"14.00\" text-anchor=\"middle\" x=\"4615.1385\" y=\"-2249.3\">(None, 60, 512)</text>\n",
       "</g>\n",
       "<!-- 140226924697616&#45;&gt;140226922681104 -->\n",
       "<g class=\"edge\" id=\"edge100\">\n",
       "<title>140226924697616-&gt;140226922681104</title>\n",
       "<path d=\"M4307.6138,-2324.4901C4338.6663,-2314.0554 4375.5527,-2301.6604 4407.7128,-2290.8536\" fill=\"none\" stroke=\"#000000\"/>\n",
       "<polygon fill=\"#000000\" points=\"4409.1658,-2294.0577 4417.53,-2287.5547 4406.936,-2287.4223 4409.1658,-2294.0577\" stroke=\"#000000\"/>\n",
       "</g>\n",
       "<!-- 140226922681104&#45;&gt;140226922213584 -->\n",
       "<g class=\"edge\" id=\"edge102\">\n",
       "<title>140226922681104-&gt;140226922213584</title>\n",
       "<path d=\"M4623.3663,-2241.4901C4688.6817,-2230.5382 4766.8764,-2217.4268 4833.4813,-2206.2587\" fill=\"none\" stroke=\"#000000\"/>\n",
       "<polygon fill=\"#000000\" points=\"4834.3603,-2209.6602 4843.6438,-2204.5547 4833.2027,-2202.7566 4834.3603,-2209.6602\" stroke=\"#000000\"/>\n",
       "</g>\n",
       "<!-- 140226921270544 -->\n",
       "<g class=\"node\" id=\"node80\">\n",
       "<title>140226921270544</title>\n",
       "<polygon fill=\"none\" points=\"4768.6385,-2075.5 4768.6385,-2121.5 5193.6385,-2121.5 5193.6385,-2075.5 4768.6385,-2075.5\" stroke=\"#000000\"/>\n",
       "<text fill=\"#000000\" font-family=\"Times,serif\" font-size=\"14.00\" text-anchor=\"middle\" x=\"4901.6385\" y=\"-2094.8\">batch_normalization_22: BatchNormalization</text>\n",
       "<polyline fill=\"none\" points=\"5034.6385,-2075.5 5034.6385,-2121.5 \" stroke=\"#000000\"/>\n",
       "<text fill=\"#000000\" font-family=\"Times,serif\" font-size=\"14.00\" text-anchor=\"middle\" x=\"5062.1385\" y=\"-2106.3\">input:</text>\n",
       "<polyline fill=\"none\" points=\"5034.6385,-2098.5 5089.6385,-2098.5 \" stroke=\"#000000\"/>\n",
       "<text fill=\"#000000\" font-family=\"Times,serif\" font-size=\"14.00\" text-anchor=\"middle\" x=\"5062.1385\" y=\"-2083.3\">output:</text>\n",
       "<polyline fill=\"none\" points=\"5089.6385,-2075.5 5089.6385,-2121.5 \" stroke=\"#000000\"/>\n",
       "<text fill=\"#000000\" font-family=\"Times,serif\" font-size=\"14.00\" text-anchor=\"middle\" x=\"5141.6385\" y=\"-2106.3\">(None, 60, 512)</text>\n",
       "<polyline fill=\"none\" points=\"5089.6385,-2098.5 5193.6385,-2098.5 \" stroke=\"#000000\"/>\n",
       "<text fill=\"#000000\" font-family=\"Times,serif\" font-size=\"14.00\" text-anchor=\"middle\" x=\"5141.6385\" y=\"-2083.3\">(None, 60, 512)</text>\n",
       "</g>\n",
       "<!-- 140226922213584&#45;&gt;140226921270544 -->\n",
       "<g class=\"edge\" id=\"edge103\">\n",
       "<title>140226922213584-&gt;140226921270544</title>\n",
       "<path d=\"M4981.1385,-2158.3799C4981.1385,-2150.1745 4981.1385,-2140.7679 4981.1385,-2131.8786\" fill=\"none\" stroke=\"#000000\"/>\n",
       "<polygon fill=\"#000000\" points=\"4984.6386,-2131.784 4981.1385,-2121.784 4977.6386,-2131.784 4984.6386,-2131.784\" stroke=\"#000000\"/>\n",
       "</g>\n",
       "<!-- 140226921270544&#45;&gt;140226920537488 -->\n",
       "<g class=\"edge\" id=\"edge104\">\n",
       "<title>140226921270544-&gt;140226920537488</title>\n",
       "<path d=\"M4981.1385,-2075.3799C4981.1385,-2067.1745 4981.1385,-2057.7679 4981.1385,-2048.8786\" fill=\"none\" stroke=\"#000000\"/>\n",
       "<polygon fill=\"#000000\" points=\"4984.6386,-2048.784 4981.1385,-2038.784 4977.6386,-2048.784 4984.6386,-2048.784\" stroke=\"#000000\"/>\n",
       "</g>\n",
       "<!-- 140226921270544&#45;&gt;140226918569360 -->\n",
       "<g class=\"edge\" id=\"edge106\">\n",
       "<title>140226921270544-&gt;140226918569360</title>\n",
       "<path d=\"M4768.5355,-2095.9012C4343.5337,-2090.1385 3358.873,-2073.9398 2532.1385,-2039 2531.662,-2038.9799 2531.1852,-2038.9597 2530.708,-2038.9394\" fill=\"none\" stroke=\"#000000\"/>\n",
       "<polygon fill=\"#000000\" points=\"2530.7846,-2035.4395 2520.6427,-2038.5041 2530.4821,-2042.433 2530.7846,-2035.4395\" stroke=\"#000000\"/>\n",
       "</g>\n",
       "<!-- 140226921270544&#45;&gt;140226916442000 -->\n",
       "<g class=\"edge\" id=\"edge108\">\n",
       "<title>140226921270544-&gt;140226916442000</title>\n",
       "<path d=\"M5193.7616,-2075.8747C5299.5116,-2064.6218 5427.371,-2051.0163 5534.9228,-2039.5717\" fill=\"none\" stroke=\"#000000\"/>\n",
       "<polygon fill=\"#000000\" points=\"5535.3615,-2043.0448 5544.935,-2038.5063 5534.6207,-2036.0841 5535.3615,-2043.0448\" stroke=\"#000000\"/>\n",
       "</g>\n",
       "<!-- 140226921270544&#45;&gt;140226913945616 -->\n",
       "<g class=\"edge\" id=\"edge110\">\n",
       "<title>140226921270544-&gt;140226913945616</title>\n",
       "<path d=\"M5193.8668,-2088.2817C5426.0648,-2076.9896 5809.1302,-2057.9557 6149.9921,-2039.0615\" fill=\"none\" stroke=\"#000000\"/>\n",
       "<polygon fill=\"#000000\" points=\"6150.2736,-2042.5514 6160.0642,-2038.5025 6149.8856,-2035.5621 6150.2736,-2042.5514\" stroke=\"#000000\"/>\n",
       "</g>\n",
       "<!-- 140226921270544&#45;&gt;140226913947088 -->\n",
       "<g class=\"edge\" id=\"edge112\">\n",
       "<title>140226921270544-&gt;140226913947088</title>\n",
       "<path d=\"M4768.5297,-2097.651C4251.7706,-2094.9183 2888.7506,-2083.6966 1752.1385,-2039 1751.5031,-2038.975 1750.8671,-2038.9499 1750.2305,-2038.9246\" fill=\"none\" stroke=\"#000000\"/>\n",
       "<polygon fill=\"#000000\" points=\"1750.0046,-2035.4127 1739.8709,-2038.5043 1749.7207,-2042.4069 1750.0046,-2035.4127\" stroke=\"#000000\"/>\n",
       "</g>\n",
       "<!-- 140226921270544&#45;&gt;140226909802576 -->\n",
       "<g class=\"edge\" id=\"edge114\">\n",
       "<title>140226921270544-&gt;140226909802576</title>\n",
       "<path d=\"M5194.0491,-2096.64C5653.7712,-2092.0124 6773.5625,-2077.4505 7711.1385,-2039 7711.6256,-2038.98 7712.1131,-2038.96 7712.6009,-2038.9398\" fill=\"none\" stroke=\"#000000\"/>\n",
       "<polygon fill=\"#000000\" points=\"7713.0477,-2042.4242 7722.8917,-2038.5068 7712.7533,-2035.4304 7713.0477,-2042.4242\" stroke=\"#000000\"/>\n",
       "</g>\n",
       "<!-- 140226921270544&#45;&gt;140226907833168 -->\n",
       "<g class=\"edge\" id=\"edge116\">\n",
       "<title>140226921270544-&gt;140226907833168</title>\n",
       "<path d=\"M4768.5445,-2089.9302C4425.7527,-2076.1119 3745.7225,-2048.6994 3313.4948,-2031.2759\" fill=\"none\" stroke=\"#000000\"/>\n",
       "<polygon fill=\"#000000\" points=\"3313.4639,-2027.7719 3303.331,-2030.8662 3313.1819,-2034.7662 3313.4639,-2027.7719\" stroke=\"#000000\"/>\n",
       "</g>\n",
       "<!-- 140226921270544&#45;&gt;140226905709712 -->\n",
       "<g class=\"edge\" id=\"edge118\">\n",
       "<title>140226921270544-&gt;140226905709712</title>\n",
       "<path d=\"M5193.661,-2094.0799C5552.0773,-2086.1625 6299.4793,-2067.6613 6931.1385,-2039 6931.3609,-2038.9899 6931.5833,-2038.9798 6931.8057,-2038.9697\" fill=\"none\" stroke=\"#000000\"/>\n",
       "<polygon fill=\"#000000\" points=\"6932.0348,-2042.463 6941.863,-2038.5062 6931.7125,-2035.4704 6932.0348,-2042.463\" stroke=\"#000000\"/>\n",
       "</g>\n",
       "<!-- 140226902838288 -->\n",
       "<g class=\"node\" id=\"node99\">\n",
       "<title>140226902838288</title>\n",
       "<polygon fill=\"none\" points=\"4894.1385,-1660.5 4894.1385,-1706.5 5370.1385,-1706.5 5370.1385,-1660.5 4894.1385,-1660.5\" stroke=\"#000000\"/>\n",
       "<text fill=\"#000000\" font-family=\"Times,serif\" font-size=\"14.00\" text-anchor=\"middle\" x=\"5001.1385\" y=\"-1679.8\">res_comb_enc_1: ResidualCombine</text>\n",
       "<polyline fill=\"none\" points=\"5108.1385,-1660.5 5108.1385,-1706.5 \" stroke=\"#000000\"/>\n",
       "<text fill=\"#000000\" font-family=\"Times,serif\" font-size=\"14.00\" text-anchor=\"middle\" x=\"5135.6385\" y=\"-1691.3\">input:</text>\n",
       "<polyline fill=\"none\" points=\"5108.1385,-1683.5 5163.1385,-1683.5 \" stroke=\"#000000\"/>\n",
       "<text fill=\"#000000\" font-family=\"Times,serif\" font-size=\"14.00\" text-anchor=\"middle\" x=\"5135.6385\" y=\"-1668.3\">output:</text>\n",
       "<polyline fill=\"none\" points=\"5163.1385,-1660.5 5163.1385,-1706.5 \" stroke=\"#000000\"/>\n",
       "<text fill=\"#000000\" font-family=\"Times,serif\" font-size=\"14.00\" text-anchor=\"middle\" x=\"5266.6385\" y=\"-1691.3\">[(None, 60, 512), (None, 60, 512)]</text>\n",
       "<polyline fill=\"none\" points=\"5163.1385,-1683.5 5370.1385,-1683.5 \" stroke=\"#000000\"/>\n",
       "<text fill=\"#000000\" font-family=\"Times,serif\" font-size=\"14.00\" text-anchor=\"middle\" x=\"5266.6385\" y=\"-1668.3\">[(None, 60, 512), (1, 1), (1, 1)]</text>\n",
       "</g>\n",
       "<!-- 140226921270544&#45;&gt;140226902838288 -->\n",
       "<g class=\"edge\" id=\"edge137\">\n",
       "<title>140226921270544-&gt;140226902838288</title>\n",
       "<path d=\"M4768.5423,-2076.6412C4684.8473,-2066.0635 4605.1904,-2052.7029 4591.1385,-2039 4556.7155,-2005.432 4572.1385,-1980.5807 4572.1385,-1932.5 4572.1385,-1932.5 4572.1385,-1932.5 4572.1385,-1849.5 4572.1385,-1775.4532 4754.3905,-1731.8665 4910.9514,-1708.0845\" fill=\"none\" stroke=\"#000000\"/>\n",
       "<polygon fill=\"#000000\" points=\"4911.8529,-1711.4886 4921.2245,-1706.5465 4910.8165,-1704.5658 4911.8529,-1711.4886\" stroke=\"#000000\"/>\n",
       "</g>\n",
       "<!-- 140226920537680 -->\n",
       "<g class=\"node\" id=\"node89\">\n",
       "<title>140226920537680</title>\n",
       "<polygon fill=\"none\" points=\"5043.6385,-1909.5 5043.6385,-1955.5 5468.6385,-1955.5 5468.6385,-1909.5 5043.6385,-1909.5\" stroke=\"#000000\"/>\n",
       "<text fill=\"#000000\" font-family=\"Times,serif\" font-size=\"14.00\" text-anchor=\"middle\" x=\"5176.6385\" y=\"-1928.8\">batch_normalization_23: BatchNormalization</text>\n",
       "<polyline fill=\"none\" points=\"5309.6385,-1909.5 5309.6385,-1955.5 \" stroke=\"#000000\"/>\n",
       "<text fill=\"#000000\" font-family=\"Times,serif\" font-size=\"14.00\" text-anchor=\"middle\" x=\"5337.1385\" y=\"-1940.3\">input:</text>\n",
       "<polyline fill=\"none\" points=\"5309.6385,-1932.5 5364.6385,-1932.5 \" stroke=\"#000000\"/>\n",
       "<text fill=\"#000000\" font-family=\"Times,serif\" font-size=\"14.00\" text-anchor=\"middle\" x=\"5337.1385\" y=\"-1917.3\">output:</text>\n",
       "<polyline fill=\"none\" points=\"5364.6385,-1909.5 5364.6385,-1955.5 \" stroke=\"#000000\"/>\n",
       "<text fill=\"#000000\" font-family=\"Times,serif\" font-size=\"14.00\" text-anchor=\"middle\" x=\"5416.6385\" y=\"-1940.3\">(None, 60, 512)</text>\n",
       "<polyline fill=\"none\" points=\"5364.6385,-1932.5 5468.6385,-1932.5 \" stroke=\"#000000\"/>\n",
       "<text fill=\"#000000\" font-family=\"Times,serif\" font-size=\"14.00\" text-anchor=\"middle\" x=\"5416.6385\" y=\"-1917.3\">(None, 60, 512)</text>\n",
       "</g>\n",
       "<!-- 140226920537488&#45;&gt;140226920537680 -->\n",
       "<g class=\"edge\" id=\"edge120\">\n",
       "<title>140226920537488-&gt;140226920537680</title>\n",
       "<path d=\"M5057.3761,-1992.4901C5092.2468,-1981.9655 5133.7252,-1969.4466 5169.7472,-1958.5745\" fill=\"none\" stroke=\"#000000\"/>\n",
       "<polygon fill=\"#000000\" points=\"5171.1904,-1961.7949 5179.7526,-1955.5547 5169.1678,-1955.0935 5171.1904,-1961.7949\" stroke=\"#000000\"/>\n",
       "</g>\n",
       "<!-- 140226918568656 -->\n",
       "<g class=\"node\" id=\"node90\">\n",
       "<title>140226918568656</title>\n",
       "<polygon fill=\"none\" points=\"3024.6385,-1909.5 3024.6385,-1955.5 3449.6385,-1955.5 3449.6385,-1909.5 3024.6385,-1909.5\" stroke=\"#000000\"/>\n",
       "<text fill=\"#000000\" font-family=\"Times,serif\" font-size=\"14.00\" text-anchor=\"middle\" x=\"3157.6385\" y=\"-1928.8\">batch_normalization_24: BatchNormalization</text>\n",
       "<polyline fill=\"none\" points=\"3290.6385,-1909.5 3290.6385,-1955.5 \" stroke=\"#000000\"/>\n",
       "<text fill=\"#000000\" font-family=\"Times,serif\" font-size=\"14.00\" text-anchor=\"middle\" x=\"3318.1385\" y=\"-1940.3\">input:</text>\n",
       "<polyline fill=\"none\" points=\"3290.6385,-1932.5 3345.6385,-1932.5 \" stroke=\"#000000\"/>\n",
       "<text fill=\"#000000\" font-family=\"Times,serif\" font-size=\"14.00\" text-anchor=\"middle\" x=\"3318.1385\" y=\"-1917.3\">output:</text>\n",
       "<polyline fill=\"none\" points=\"3345.6385,-1909.5 3345.6385,-1955.5 \" stroke=\"#000000\"/>\n",
       "<text fill=\"#000000\" font-family=\"Times,serif\" font-size=\"14.00\" text-anchor=\"middle\" x=\"3397.6385\" y=\"-1940.3\">(None, 60, 512)</text>\n",
       "<polyline fill=\"none\" points=\"3345.6385,-1932.5 3449.6385,-1932.5 \" stroke=\"#000000\"/>\n",
       "<text fill=\"#000000\" font-family=\"Times,serif\" font-size=\"14.00\" text-anchor=\"middle\" x=\"3397.6385\" y=\"-1917.3\">(None, 60, 512)</text>\n",
       "</g>\n",
       "<!-- 140226918569360&#45;&gt;140226918568656 -->\n",
       "<g class=\"edge\" id=\"edge121\">\n",
       "<title>140226918569360-&gt;140226918568656</title>\n",
       "<path d=\"M2445.7029,-1992.4901C2625.953,-1978.8273 2850.5434,-1961.8036 3014.3806,-1949.3848\" fill=\"none\" stroke=\"#000000\"/>\n",
       "<polygon fill=\"#000000\" points=\"3014.8838,-1952.8568 3024.5906,-1948.6109 3014.3547,-1945.8769 3014.8838,-1952.8568\" stroke=\"#000000\"/>\n",
       "</g>\n",
       "<!-- 140226916442064 -->\n",
       "<g class=\"node\" id=\"node91\">\n",
       "<title>140226916442064</title>\n",
       "<polygon fill=\"none\" points=\"5517.6385,-1909.5 5517.6385,-1955.5 5942.6385,-1955.5 5942.6385,-1909.5 5517.6385,-1909.5\" stroke=\"#000000\"/>\n",
       "<text fill=\"#000000\" font-family=\"Times,serif\" font-size=\"14.00\" text-anchor=\"middle\" x=\"5650.6385\" y=\"-1928.8\">batch_normalization_25: BatchNormalization</text>\n",
       "<polyline fill=\"none\" points=\"5783.6385,-1909.5 5783.6385,-1955.5 \" stroke=\"#000000\"/>\n",
       "<text fill=\"#000000\" font-family=\"Times,serif\" font-size=\"14.00\" text-anchor=\"middle\" x=\"5811.1385\" y=\"-1940.3\">input:</text>\n",
       "<polyline fill=\"none\" points=\"5783.6385,-1932.5 5838.6385,-1932.5 \" stroke=\"#000000\"/>\n",
       "<text fill=\"#000000\" font-family=\"Times,serif\" font-size=\"14.00\" text-anchor=\"middle\" x=\"5811.1385\" y=\"-1917.3\">output:</text>\n",
       "<polyline fill=\"none\" points=\"5838.6385,-1909.5 5838.6385,-1955.5 \" stroke=\"#000000\"/>\n",
       "<text fill=\"#000000\" font-family=\"Times,serif\" font-size=\"14.00\" text-anchor=\"middle\" x=\"5890.6385\" y=\"-1940.3\">(None, 60, 512)</text>\n",
       "<polyline fill=\"none\" points=\"5838.6385,-1932.5 5942.6385,-1932.5 \" stroke=\"#000000\"/>\n",
       "<text fill=\"#000000\" font-family=\"Times,serif\" font-size=\"14.00\" text-anchor=\"middle\" x=\"5890.6385\" y=\"-1917.3\">(None, 60, 512)</text>\n",
       "</g>\n",
       "<!-- 140226916442000&#45;&gt;140226916442064 -->\n",
       "<g class=\"edge\" id=\"edge122\">\n",
       "<title>140226916442000-&gt;140226916442064</title>\n",
       "<path d=\"M5752.5033,-1992.3799C5749.372,-1983.9962 5745.7724,-1974.3584 5742.389,-1965.2996\" fill=\"none\" stroke=\"#000000\"/>\n",
       "<polygon fill=\"#000000\" points=\"5745.6126,-1963.9273 5738.8349,-1955.784 5739.0551,-1966.3766 5745.6126,-1963.9273\" stroke=\"#000000\"/>\n",
       "</g>\n",
       "<!-- 140226913943632 -->\n",
       "<g class=\"node\" id=\"node92\">\n",
       "<title>140226913943632</title>\n",
       "<polygon fill=\"none\" points=\"6144.6385,-1909.5 6144.6385,-1955.5 6569.6385,-1955.5 6569.6385,-1909.5 6144.6385,-1909.5\" stroke=\"#000000\"/>\n",
       "<text fill=\"#000000\" font-family=\"Times,serif\" font-size=\"14.00\" text-anchor=\"middle\" x=\"6277.6385\" y=\"-1928.8\">batch_normalization_26: BatchNormalization</text>\n",
       "<polyline fill=\"none\" points=\"6410.6385,-1909.5 6410.6385,-1955.5 \" stroke=\"#000000\"/>\n",
       "<text fill=\"#000000\" font-family=\"Times,serif\" font-size=\"14.00\" text-anchor=\"middle\" x=\"6438.1385\" y=\"-1940.3\">input:</text>\n",
       "<polyline fill=\"none\" points=\"6410.6385,-1932.5 6465.6385,-1932.5 \" stroke=\"#000000\"/>\n",
       "<text fill=\"#000000\" font-family=\"Times,serif\" font-size=\"14.00\" text-anchor=\"middle\" x=\"6438.1385\" y=\"-1917.3\">output:</text>\n",
       "<polyline fill=\"none\" points=\"6465.6385,-1909.5 6465.6385,-1955.5 \" stroke=\"#000000\"/>\n",
       "<text fill=\"#000000\" font-family=\"Times,serif\" font-size=\"14.00\" text-anchor=\"middle\" x=\"6517.6385\" y=\"-1940.3\">(None, 60, 512)</text>\n",
       "<polyline fill=\"none\" points=\"6465.6385,-1932.5 6569.6385,-1932.5 \" stroke=\"#000000\"/>\n",
       "<text fill=\"#000000\" font-family=\"Times,serif\" font-size=\"14.00\" text-anchor=\"middle\" x=\"6517.6385\" y=\"-1917.3\">(None, 60, 512)</text>\n",
       "</g>\n",
       "<!-- 140226913945616&#45;&gt;140226913943632 -->\n",
       "<g class=\"edge\" id=\"edge123\">\n",
       "<title>140226913945616-&gt;140226913943632</title>\n",
       "<path d=\"M6489.8843,-1992.3799C6467.4482,-1982.2592 6440.9605,-1970.311 6417.5707,-1959.7602\" fill=\"none\" stroke=\"#000000\"/>\n",
       "<polygon fill=\"#000000\" points=\"6418.9914,-1956.5615 6408.4367,-1955.6399 6416.113,-1962.9423 6418.9914,-1956.5615\" stroke=\"#000000\"/>\n",
       "</g>\n",
       "<!-- 140226911917200 -->\n",
       "<g class=\"node\" id=\"node93\">\n",
       "<title>140226911917200</title>\n",
       "<polygon fill=\"none\" points=\"1865.6385,-1909.5 1865.6385,-1955.5 2290.6385,-1955.5 2290.6385,-1909.5 1865.6385,-1909.5\" stroke=\"#000000\"/>\n",
       "<text fill=\"#000000\" font-family=\"Times,serif\" font-size=\"14.00\" text-anchor=\"middle\" x=\"1998.6385\" y=\"-1928.8\">batch_normalization_27: BatchNormalization</text>\n",
       "<polyline fill=\"none\" points=\"2131.6385,-1909.5 2131.6385,-1955.5 \" stroke=\"#000000\"/>\n",
       "<text fill=\"#000000\" font-family=\"Times,serif\" font-size=\"14.00\" text-anchor=\"middle\" x=\"2159.1385\" y=\"-1940.3\">input:</text>\n",
       "<polyline fill=\"none\" points=\"2131.6385,-1932.5 2186.6385,-1932.5 \" stroke=\"#000000\"/>\n",
       "<text fill=\"#000000\" font-family=\"Times,serif\" font-size=\"14.00\" text-anchor=\"middle\" x=\"2159.1385\" y=\"-1917.3\">output:</text>\n",
       "<polyline fill=\"none\" points=\"2186.6385,-1909.5 2186.6385,-1955.5 \" stroke=\"#000000\"/>\n",
       "<text fill=\"#000000\" font-family=\"Times,serif\" font-size=\"14.00\" text-anchor=\"middle\" x=\"2238.6385\" y=\"-1940.3\">(None, 60, 512)</text>\n",
       "<polyline fill=\"none\" points=\"2186.6385,-1932.5 2290.6385,-1932.5 \" stroke=\"#000000\"/>\n",
       "<text fill=\"#000000\" font-family=\"Times,serif\" font-size=\"14.00\" text-anchor=\"middle\" x=\"2238.6385\" y=\"-1917.3\">(None, 60, 512)</text>\n",
       "</g>\n",
       "<!-- 140226913947088&#45;&gt;140226911917200 -->\n",
       "<g class=\"edge\" id=\"edge124\">\n",
       "<title>140226913947088-&gt;140226911917200</title>\n",
       "<path d=\"M1560.6336,-1992.4901C1656.7621,-1981.3467 1772.1772,-1967.9676 1869.5959,-1956.6746\" fill=\"none\" stroke=\"#000000\"/>\n",
       "<polygon fill=\"#000000\" points=\"1870.0374,-1960.147 1879.5678,-1955.5187 1869.2313,-1953.1935 1870.0374,-1960.147\" stroke=\"#000000\"/>\n",
       "</g>\n",
       "<!-- 140226909805904 -->\n",
       "<g class=\"node\" id=\"node94\">\n",
       "<title>140226909805904</title>\n",
       "<polygon fill=\"none\" points=\"7590.6385,-1909.5 7590.6385,-1955.5 8015.6385,-1955.5 8015.6385,-1909.5 7590.6385,-1909.5\" stroke=\"#000000\"/>\n",
       "<text fill=\"#000000\" font-family=\"Times,serif\" font-size=\"14.00\" text-anchor=\"middle\" x=\"7723.6385\" y=\"-1928.8\">batch_normalization_28: BatchNormalization</text>\n",
       "<polyline fill=\"none\" points=\"7856.6385,-1909.5 7856.6385,-1955.5 \" stroke=\"#000000\"/>\n",
       "<text fill=\"#000000\" font-family=\"Times,serif\" font-size=\"14.00\" text-anchor=\"middle\" x=\"7884.1385\" y=\"-1940.3\">input:</text>\n",
       "<polyline fill=\"none\" points=\"7856.6385,-1932.5 7911.6385,-1932.5 \" stroke=\"#000000\"/>\n",
       "<text fill=\"#000000\" font-family=\"Times,serif\" font-size=\"14.00\" text-anchor=\"middle\" x=\"7884.1385\" y=\"-1917.3\">output:</text>\n",
       "<polyline fill=\"none\" points=\"7911.6385,-1909.5 7911.6385,-1955.5 \" stroke=\"#000000\"/>\n",
       "<text fill=\"#000000\" font-family=\"Times,serif\" font-size=\"14.00\" text-anchor=\"middle\" x=\"7963.6385\" y=\"-1940.3\">(None, 60, 512)</text>\n",
       "<polyline fill=\"none\" points=\"7911.6385,-1932.5 8015.6385,-1932.5 \" stroke=\"#000000\"/>\n",
       "<text fill=\"#000000\" font-family=\"Times,serif\" font-size=\"14.00\" text-anchor=\"middle\" x=\"7963.6385\" y=\"-1917.3\">(None, 60, 512)</text>\n",
       "</g>\n",
       "<!-- 140226909802576&#45;&gt;140226909805904 -->\n",
       "<g class=\"edge\" id=\"edge125\">\n",
       "<title>140226909802576-&gt;140226909805904</title>\n",
       "<path d=\"M8018.5246,-1992.4901C7980.4145,-1981.8755 7935.0212,-1969.2324 7895.7557,-1958.2961\" fill=\"none\" stroke=\"#000000\"/>\n",
       "<polygon fill=\"#000000\" points=\"7896.4855,-1954.8662 7885.9131,-1955.5547 7894.6073,-1961.6095 7896.4855,-1954.8662\" stroke=\"#000000\"/>\n",
       "</g>\n",
       "<!-- 140226907832656 -->\n",
       "<g class=\"node\" id=\"node95\">\n",
       "<title>140226907832656</title>\n",
       "<polygon fill=\"none\" points=\"4600.6385,-1909.5 4600.6385,-1955.5 5025.6385,-1955.5 5025.6385,-1909.5 4600.6385,-1909.5\" stroke=\"#000000\"/>\n",
       "<text fill=\"#000000\" font-family=\"Times,serif\" font-size=\"14.00\" text-anchor=\"middle\" x=\"4733.6385\" y=\"-1928.8\">batch_normalization_29: BatchNormalization</text>\n",
       "<polyline fill=\"none\" points=\"4866.6385,-1909.5 4866.6385,-1955.5 \" stroke=\"#000000\"/>\n",
       "<text fill=\"#000000\" font-family=\"Times,serif\" font-size=\"14.00\" text-anchor=\"middle\" x=\"4894.1385\" y=\"-1940.3\">input:</text>\n",
       "<polyline fill=\"none\" points=\"4866.6385,-1932.5 4921.6385,-1932.5 \" stroke=\"#000000\"/>\n",
       "<text fill=\"#000000\" font-family=\"Times,serif\" font-size=\"14.00\" text-anchor=\"middle\" x=\"4894.1385\" y=\"-1917.3\">output:</text>\n",
       "<polyline fill=\"none\" points=\"4921.6385,-1909.5 4921.6385,-1955.5 \" stroke=\"#000000\"/>\n",
       "<text fill=\"#000000\" font-family=\"Times,serif\" font-size=\"14.00\" text-anchor=\"middle\" x=\"4973.6385\" y=\"-1940.3\">(None, 60, 512)</text>\n",
       "<polyline fill=\"none\" points=\"4921.6385,-1932.5 5025.6385,-1932.5 \" stroke=\"#000000\"/>\n",
       "<text fill=\"#000000\" font-family=\"Times,serif\" font-size=\"14.00\" text-anchor=\"middle\" x=\"4973.6385\" y=\"-1917.3\">(None, 60, 512)</text>\n",
       "</g>\n",
       "<!-- 140226907833168&#45;&gt;140226907832656 -->\n",
       "<g class=\"edge\" id=\"edge126\">\n",
       "<title>140226907833168-&gt;140226907832656</title>\n",
       "<path d=\"M3303.3883,-1998.7661C3689.5789,-1981.8154 4273.8011,-1956.1727 4590.3313,-1942.2795\" fill=\"none\" stroke=\"#000000\"/>\n",
       "<polygon fill=\"#000000\" points=\"4590.7106,-1945.7663 4600.5475,-1941.8311 4590.4036,-1938.773 4590.7106,-1945.7663\" stroke=\"#000000\"/>\n",
       "</g>\n",
       "<!-- 140226905710096 -->\n",
       "<g class=\"node\" id=\"node96\">\n",
       "<title>140226905710096</title>\n",
       "<polygon fill=\"none\" points=\"6848.6385,-1909.5 6848.6385,-1955.5 7273.6385,-1955.5 7273.6385,-1909.5 6848.6385,-1909.5\" stroke=\"#000000\"/>\n",
       "<text fill=\"#000000\" font-family=\"Times,serif\" font-size=\"14.00\" text-anchor=\"middle\" x=\"6981.6385\" y=\"-1928.8\">batch_normalization_30: BatchNormalization</text>\n",
       "<polyline fill=\"none\" points=\"7114.6385,-1909.5 7114.6385,-1955.5 \" stroke=\"#000000\"/>\n",
       "<text fill=\"#000000\" font-family=\"Times,serif\" font-size=\"14.00\" text-anchor=\"middle\" x=\"7142.1385\" y=\"-1940.3\">input:</text>\n",
       "<polyline fill=\"none\" points=\"7114.6385,-1932.5 7169.6385,-1932.5 \" stroke=\"#000000\"/>\n",
       "<text fill=\"#000000\" font-family=\"Times,serif\" font-size=\"14.00\" text-anchor=\"middle\" x=\"7142.1385\" y=\"-1917.3\">output:</text>\n",
       "<polyline fill=\"none\" points=\"7169.6385,-1909.5 7169.6385,-1955.5 \" stroke=\"#000000\"/>\n",
       "<text fill=\"#000000\" font-family=\"Times,serif\" font-size=\"14.00\" text-anchor=\"middle\" x=\"7221.6385\" y=\"-1940.3\">(None, 60, 512)</text>\n",
       "<polyline fill=\"none\" points=\"7169.6385,-1932.5 7273.6385,-1932.5 \" stroke=\"#000000\"/>\n",
       "<text fill=\"#000000\" font-family=\"Times,serif\" font-size=\"14.00\" text-anchor=\"middle\" x=\"7221.6385\" y=\"-1917.3\">(None, 60, 512)</text>\n",
       "</g>\n",
       "<!-- 140226905709712&#45;&gt;140226905710096 -->\n",
       "<g class=\"edge\" id=\"edge127\">\n",
       "<title>140226905709712-&gt;140226905710096</title>\n",
       "<path d=\"M7249.0593,-1992.4901C7216.2315,-1982.0105 7177.2098,-1969.5535 7143.2544,-1958.7139\" fill=\"none\" stroke=\"#000000\"/>\n",
       "<polygon fill=\"#000000\" points=\"7143.9487,-1955.2616 7133.3579,-1955.5547 7141.8199,-1961.9301 7143.9487,-1955.2616\" stroke=\"#000000\"/>\n",
       "</g>\n",
       "<!-- 140226903209424 -->\n",
       "<g class=\"node\" id=\"node97\">\n",
       "<title>140226903209424</title>\n",
       "<polygon fill=\"none\" points=\"4759.1385,-1826.5 4759.1385,-1872.5 5753.1385,-1872.5 5753.1385,-1826.5 4759.1385,-1826.5\" stroke=\"#000000\"/>\n",
       "<text fill=\"#000000\" font-family=\"Times,serif\" font-size=\"14.00\" text-anchor=\"middle\" x=\"4841.6385\" y=\"-1845.8\">concat_enc_1: Concatenate</text>\n",
       "<polyline fill=\"none\" points=\"4924.1385,-1826.5 4924.1385,-1872.5 \" stroke=\"#000000\"/>\n",
       "<text fill=\"#000000\" font-family=\"Times,serif\" font-size=\"14.00\" text-anchor=\"middle\" x=\"4951.6385\" y=\"-1857.3\">input:</text>\n",
       "<polyline fill=\"none\" points=\"4924.1385,-1849.5 4979.1385,-1849.5 \" stroke=\"#000000\"/>\n",
       "<text fill=\"#000000\" font-family=\"Times,serif\" font-size=\"14.00\" text-anchor=\"middle\" x=\"4951.6385\" y=\"-1834.3\">output:</text>\n",
       "<polyline fill=\"none\" points=\"4979.1385,-1826.5 4979.1385,-1872.5 \" stroke=\"#000000\"/>\n",
       "<text fill=\"#000000\" font-family=\"Times,serif\" font-size=\"14.00\" text-anchor=\"middle\" x=\"5366.1385\" y=\"-1857.3\">[(None, 60, 512), (None, 60, 512), (None, 60, 512), (None, 60, 512), (None, 60, 512), (None, 60, 512), (None, 60, 512), (None, 60, 512)]</text>\n",
       "<polyline fill=\"none\" points=\"4979.1385,-1849.5 5753.1385,-1849.5 \" stroke=\"#000000\"/>\n",
       "<text fill=\"#000000\" font-family=\"Times,serif\" font-size=\"14.00\" text-anchor=\"middle\" x=\"5366.1385\" y=\"-1834.3\">(None, 60, 4096)</text>\n",
       "</g>\n",
       "<!-- 140226920537680&#45;&gt;140226903209424 -->\n",
       "<g class=\"edge\" id=\"edge128\">\n",
       "<title>140226920537680-&gt;140226903209424</title>\n",
       "<path d=\"M5256.1385,-1909.3799C5256.1385,-1901.1745 5256.1385,-1891.7679 5256.1385,-1882.8786\" fill=\"none\" stroke=\"#000000\"/>\n",
       "<polygon fill=\"#000000\" points=\"5259.6386,-1882.784 5256.1385,-1872.784 5252.6386,-1882.784 5259.6386,-1882.784\" stroke=\"#000000\"/>\n",
       "</g>\n",
       "<!-- 140226918568656&#45;&gt;140226903209424 -->\n",
       "<g class=\"edge\" id=\"edge129\">\n",
       "<title>140226918568656-&gt;140226903209424</title>\n",
       "<path d=\"M3449.8664,-1923.7549C3755.9809,-1911.1707 4329.9129,-1887.5766 4748.9204,-1870.3515\" fill=\"none\" stroke=\"#000000\"/>\n",
       "<polygon fill=\"#000000\" points=\"4749.2514,-1873.8409 4759.0991,-1869.933 4748.9638,-1866.8468 4749.2514,-1873.8409\" stroke=\"#000000\"/>\n",
       "</g>\n",
       "<!-- 140226916442064&#45;&gt;140226903209424 -->\n",
       "<g class=\"edge\" id=\"edge130\">\n",
       "<title>140226916442064-&gt;140226903209424</title>\n",
       "<path d=\"M5598.7325,-1909.4901C5536.3164,-1898.5607 5461.6182,-1885.4806 5397.9245,-1874.3275\" fill=\"none\" stroke=\"#000000\"/>\n",
       "<polygon fill=\"#000000\" points=\"5398.2539,-1870.832 5387.8001,-1872.5547 5397.0465,-1877.7271 5398.2539,-1870.832\" stroke=\"#000000\"/>\n",
       "</g>\n",
       "<!-- 140226913943632&#45;&gt;140226903209424 -->\n",
       "<g class=\"edge\" id=\"edge131\">\n",
       "<title>140226913943632-&gt;140226903209424</title>\n",
       "<path d=\"M6144.5285,-1916.4722C5981.8968,-1904.212 5755.1061,-1887.1152 5571.3781,-1873.2647\" fill=\"none\" stroke=\"#000000\"/>\n",
       "<polygon fill=\"#000000\" points=\"5571.5162,-1869.7652 5561.2814,-1872.5035 5570.99,-1876.7454 5571.5162,-1869.7652\" stroke=\"#000000\"/>\n",
       "</g>\n",
       "<!-- 140226911917200&#45;&gt;140226903209424 -->\n",
       "<g class=\"edge\" id=\"edge132\">\n",
       "<title>140226911917200-&gt;140226903209424</title>\n",
       "<path d=\"M2290.6617,-1926.9495C2788.392,-1913.9503 4040.9153,-1881.238 4748.6603,-1862.7538\" fill=\"none\" stroke=\"#000000\"/>\n",
       "<polygon fill=\"#000000\" points=\"4748.8741,-1866.2495 4758.7793,-1862.4896 4748.6913,-1859.2519 4748.8741,-1866.2495\" stroke=\"#000000\"/>\n",
       "</g>\n",
       "<!-- 140226909805904&#45;&gt;140226903209424 -->\n",
       "<g class=\"edge\" id=\"edge133\">\n",
       "<title>140226909805904-&gt;140226903209424</title>\n",
       "<path d=\"M7590.3348,-1922.1219C7496.2065,-1917.7279 7384.1697,-1912.7655 7283.1385,-1909 6765.5721,-1889.7099 6173.4735,-1872.9415 5763.4204,-1862.1667\" fill=\"none\" stroke=\"#000000\"/>\n",
       "<polygon fill=\"#000000\" points=\"5763.2505,-1858.6611 5753.1621,-1861.8974 5763.0668,-1865.6587 5763.2505,-1858.6611\" stroke=\"#000000\"/>\n",
       "</g>\n",
       "<!-- 140226907832656&#45;&gt;140226903209424 -->\n",
       "<g class=\"edge\" id=\"edge134\">\n",
       "<title>140226907832656-&gt;140226903209424</title>\n",
       "<path d=\"M4935.9504,-1909.4901C4994.1644,-1898.5832 5063.8102,-1885.5344 5123.2579,-1874.3964\" fill=\"none\" stroke=\"#000000\"/>\n",
       "<polygon fill=\"#000000\" points=\"5123.9033,-1877.8364 5133.0877,-1872.5547 5122.6142,-1870.9562 5123.9033,-1877.8364\" stroke=\"#000000\"/>\n",
       "</g>\n",
       "<!-- 140226905710096&#45;&gt;140226903209424 -->\n",
       "<g class=\"edge\" id=\"edge135\">\n",
       "<title>140226905710096-&gt;140226903209424</title>\n",
       "<path d=\"M6848.4936,-1921.9593C6764.5787,-1917.8449 6667.3248,-1913.1328 6579.1385,-1909 6309.8538,-1896.3802 6009.7115,-1882.839 5763.4655,-1871.8676\" fill=\"none\" stroke=\"#000000\"/>\n",
       "<polygon fill=\"#000000\" points=\"5763.4027,-1868.3614 5753.2569,-1871.4129 5763.0912,-1875.3545 5763.4027,-1868.3614\" stroke=\"#000000\"/>\n",
       "</g>\n",
       "<!-- 140226903210128 -->\n",
       "<g class=\"node\" id=\"node98\">\n",
       "<title>140226903210128</title>\n",
       "<polygon fill=\"none\" points=\"4982.6385,-1743.5 4982.6385,-1789.5 5357.6385,-1789.5 5357.6385,-1743.5 4982.6385,-1743.5\" stroke=\"#000000\"/>\n",
       "<text fill=\"#000000\" font-family=\"Times,serif\" font-size=\"14.00\" text-anchor=\"middle\" x=\"5087.6385\" y=\"-1762.8\">cond_enc_1: CondenseAttention1D</text>\n",
       "<polyline fill=\"none\" points=\"5192.6385,-1743.5 5192.6385,-1789.5 \" stroke=\"#000000\"/>\n",
       "<text fill=\"#000000\" font-family=\"Times,serif\" font-size=\"14.00\" text-anchor=\"middle\" x=\"5220.1385\" y=\"-1774.3\">input:</text>\n",
       "<polyline fill=\"none\" points=\"5192.6385,-1766.5 5247.6385,-1766.5 \" stroke=\"#000000\"/>\n",
       "<text fill=\"#000000\" font-family=\"Times,serif\" font-size=\"14.00\" text-anchor=\"middle\" x=\"5220.1385\" y=\"-1751.3\">output:</text>\n",
       "<polyline fill=\"none\" points=\"5247.6385,-1743.5 5247.6385,-1789.5 \" stroke=\"#000000\"/>\n",
       "<text fill=\"#000000\" font-family=\"Times,serif\" font-size=\"14.00\" text-anchor=\"middle\" x=\"5302.6385\" y=\"-1774.3\">(None, 60, 4096)</text>\n",
       "<polyline fill=\"none\" points=\"5247.6385,-1766.5 5357.6385,-1766.5 \" stroke=\"#000000\"/>\n",
       "<text fill=\"#000000\" font-family=\"Times,serif\" font-size=\"14.00\" text-anchor=\"middle\" x=\"5302.6385\" y=\"-1751.3\">(None, 60, 512)</text>\n",
       "</g>\n",
       "<!-- 140226903209424&#45;&gt;140226903210128 -->\n",
       "<g class=\"edge\" id=\"edge136\">\n",
       "<title>140226903209424-&gt;140226903210128</title>\n",
       "<path d=\"M5232.1827,-1826.3799C5222.7567,-1817.2827 5211.8006,-1806.7088 5201.7414,-1797.0005\" fill=\"none\" stroke=\"#000000\"/>\n",
       "<polygon fill=\"#000000\" points=\"5203.8902,-1794.2101 5194.2641,-1789.784 5199.029,-1799.2469 5203.8902,-1794.2101\" stroke=\"#000000\"/>\n",
       "</g>\n",
       "<!-- 140226903210128&#45;&gt;140226902838288 -->\n",
       "<g class=\"edge\" id=\"edge138\">\n",
       "<title>140226903210128-&gt;140226902838288</title>\n",
       "<path d=\"M5159.5534,-1743.3799C5155.6742,-1734.907 5151.2086,-1725.1531 5147.0229,-1716.0107\" fill=\"none\" stroke=\"#000000\"/>\n",
       "<polygon fill=\"#000000\" points=\"5150.1438,-1714.4194 5142.7987,-1706.784 5143.7792,-1717.3334 5150.1438,-1714.4194\" stroke=\"#000000\"/>\n",
       "</g>\n",
       "<!-- 140226902837008 -->\n",
       "<g class=\"node\" id=\"node100\">\n",
       "<title>140226902837008</title>\n",
       "<polygon fill=\"none\" points=\"4919.6385,-1577.5 4919.6385,-1623.5 5344.6385,-1623.5 5344.6385,-1577.5 4919.6385,-1577.5\" stroke=\"#000000\"/>\n",
       "<text fill=\"#000000\" font-family=\"Times,serif\" font-size=\"14.00\" text-anchor=\"middle\" x=\"5052.6385\" y=\"-1596.8\">batch_normalization_31: BatchNormalization</text>\n",
       "<polyline fill=\"none\" points=\"5185.6385,-1577.5 5185.6385,-1623.5 \" stroke=\"#000000\"/>\n",
       "<text fill=\"#000000\" font-family=\"Times,serif\" font-size=\"14.00\" text-anchor=\"middle\" x=\"5213.1385\" y=\"-1608.3\">input:</text>\n",
       "<polyline fill=\"none\" points=\"5185.6385,-1600.5 5240.6385,-1600.5 \" stroke=\"#000000\"/>\n",
       "<text fill=\"#000000\" font-family=\"Times,serif\" font-size=\"14.00\" text-anchor=\"middle\" x=\"5213.1385\" y=\"-1585.3\">output:</text>\n",
       "<polyline fill=\"none\" points=\"5240.6385,-1577.5 5240.6385,-1623.5 \" stroke=\"#000000\"/>\n",
       "<text fill=\"#000000\" font-family=\"Times,serif\" font-size=\"14.00\" text-anchor=\"middle\" x=\"5292.6385\" y=\"-1608.3\">(None, 60, 512)</text>\n",
       "<polyline fill=\"none\" points=\"5240.6385,-1600.5 5344.6385,-1600.5 \" stroke=\"#000000\"/>\n",
       "<text fill=\"#000000\" font-family=\"Times,serif\" font-size=\"14.00\" text-anchor=\"middle\" x=\"5292.6385\" y=\"-1585.3\">(None, 60, 512)</text>\n",
       "</g>\n",
       "<!-- 140226902838288&#45;&gt;140226902837008 -->\n",
       "<g class=\"edge\" id=\"edge139\">\n",
       "<title>140226902838288-&gt;140226902837008</title>\n",
       "<path d=\"M5132.1385,-1660.3799C5132.1385,-1652.1745 5132.1385,-1642.7679 5132.1385,-1633.8786\" fill=\"none\" stroke=\"#000000\"/>\n",
       "<polygon fill=\"#000000\" points=\"5135.6386,-1633.784 5132.1385,-1623.784 5128.6386,-1633.784 5135.6386,-1633.784\" stroke=\"#000000\"/>\n",
       "</g>\n",
       "<!-- 140226901128848 -->\n",
       "<g class=\"node\" id=\"node101\">\n",
       "<title>140226901128848</title>\n",
       "<polygon fill=\"none\" points=\"4806.6385,-1494.5 4806.6385,-1540.5 5285.6385,-1540.5 5285.6385,-1494.5 4806.6385,-1494.5\" stroke=\"#000000\"/>\n",
       "<text fill=\"#000000\" font-family=\"Times,serif\" font-size=\"14.00\" text-anchor=\"middle\" x=\"4966.6385\" y=\"-1513.8\">time_distributed_1(dense_83): TimeDistributed(Dense)</text>\n",
       "<polyline fill=\"none\" points=\"5126.6385,-1494.5 5126.6385,-1540.5 \" stroke=\"#000000\"/>\n",
       "<text fill=\"#000000\" font-family=\"Times,serif\" font-size=\"14.00\" text-anchor=\"middle\" x=\"5154.1385\" y=\"-1525.3\">input:</text>\n",
       "<polyline fill=\"none\" points=\"5126.6385,-1517.5 5181.6385,-1517.5 \" stroke=\"#000000\"/>\n",
       "<text fill=\"#000000\" font-family=\"Times,serif\" font-size=\"14.00\" text-anchor=\"middle\" x=\"5154.1385\" y=\"-1502.3\">output:</text>\n",
       "<polyline fill=\"none\" points=\"5181.6385,-1494.5 5181.6385,-1540.5 \" stroke=\"#000000\"/>\n",
       "<text fill=\"#000000\" font-family=\"Times,serif\" font-size=\"14.00\" text-anchor=\"middle\" x=\"5233.6385\" y=\"-1525.3\">(None, 60, 512)</text>\n",
       "<polyline fill=\"none\" points=\"5181.6385,-1517.5 5285.6385,-1517.5 \" stroke=\"#000000\"/>\n",
       "<text fill=\"#000000\" font-family=\"Times,serif\" font-size=\"14.00\" text-anchor=\"middle\" x=\"5233.6385\" y=\"-1502.3\">(None, 60, 512)</text>\n",
       "</g>\n",
       "<!-- 140226902837008&#45;&gt;140226901128848 -->\n",
       "<g class=\"edge\" id=\"edge140\">\n",
       "<title>140226902837008-&gt;140226901128848</title>\n",
       "<path d=\"M5108.1827,-1577.3799C5098.7567,-1568.2827 5087.8006,-1557.7088 5077.7414,-1548.0005\" fill=\"none\" stroke=\"#000000\"/>\n",
       "<polygon fill=\"#000000\" points=\"5079.8902,-1545.2101 5070.2641,-1540.784 5075.029,-1550.2469 5079.8902,-1545.2101\" stroke=\"#000000\"/>\n",
       "</g>\n",
       "<!-- 140226901129552 -->\n",
       "<g class=\"node\" id=\"node102\">\n",
       "<title>140226901129552</title>\n",
       "<polygon fill=\"none\" points=\"4941.6385,-1411.5 4941.6385,-1457.5 5418.6385,-1457.5 5418.6385,-1411.5 4941.6385,-1411.5\" stroke=\"#000000\"/>\n",
       "<text fill=\"#000000\" font-family=\"Times,serif\" font-size=\"14.00\" text-anchor=\"middle\" x=\"5049.1385\" y=\"-1430.8\">res_comb_NA_1: ResidualCombine</text>\n",
       "<polyline fill=\"none\" points=\"5156.6385,-1411.5 5156.6385,-1457.5 \" stroke=\"#000000\"/>\n",
       "<text fill=\"#000000\" font-family=\"Times,serif\" font-size=\"14.00\" text-anchor=\"middle\" x=\"5184.1385\" y=\"-1442.3\">input:</text>\n",
       "<polyline fill=\"none\" points=\"5156.6385,-1434.5 5211.6385,-1434.5 \" stroke=\"#000000\"/>\n",
       "<text fill=\"#000000\" font-family=\"Times,serif\" font-size=\"14.00\" text-anchor=\"middle\" x=\"5184.1385\" y=\"-1419.3\">output:</text>\n",
       "<polyline fill=\"none\" points=\"5211.6385,-1411.5 5211.6385,-1457.5 \" stroke=\"#000000\"/>\n",
       "<text fill=\"#000000\" font-family=\"Times,serif\" font-size=\"14.00\" text-anchor=\"middle\" x=\"5315.1385\" y=\"-1442.3\">[(None, 60, 512), (None, 60, 512)]</text>\n",
       "<polyline fill=\"none\" points=\"5211.6385,-1434.5 5418.6385,-1434.5 \" stroke=\"#000000\"/>\n",
       "<text fill=\"#000000\" font-family=\"Times,serif\" font-size=\"14.00\" text-anchor=\"middle\" x=\"5315.1385\" y=\"-1419.3\">[(None, 60, 512), (1, 1), (1, 1)]</text>\n",
       "</g>\n",
       "<!-- 140226902837008&#45;&gt;140226901129552 -->\n",
       "<g class=\"edge\" id=\"edge141\">\n",
       "<title>140226902837008-&gt;140226901129552</title>\n",
       "<path d=\"M5222.3428,-1577.4824C5254.7806,-1567.2371 5285.7277,-1554.4534 5295.1385,-1541 5307.1119,-1523.8832 5305.9974,-1511.8446 5295.1385,-1494 5287.2301,-1481.0041 5275.4662,-1470.7211 5262.438,-1462.625\" fill=\"none\" stroke=\"#000000\"/>\n",
       "<polygon fill=\"#000000\" points=\"5264.1356,-1459.5639 5253.7217,-1457.6139 5260.6467,-1465.6324 5264.1356,-1459.5639\" stroke=\"#000000\"/>\n",
       "</g>\n",
       "<!-- 140226901128848&#45;&gt;140226901129552 -->\n",
       "<g class=\"edge\" id=\"edge142\">\n",
       "<title>140226901128848-&gt;140226901129552</title>\n",
       "<path d=\"M5083.465,-1494.3799C5099.016,-1484.7475 5117.2397,-1473.4597 5133.6474,-1463.2967\" fill=\"none\" stroke=\"#000000\"/>\n",
       "<polygon fill=\"#000000\" points=\"5135.8892,-1466.0252 5142.5475,-1457.784 5132.2031,-1460.0743 5135.8892,-1466.0252\" stroke=\"#000000\"/>\n",
       "</g>\n",
       "<!-- 140226900296912 -->\n",
       "<g class=\"node\" id=\"node103\">\n",
       "<title>140226900296912</title>\n",
       "<polygon fill=\"none\" points=\"4967.6385,-1328.5 4967.6385,-1374.5 5392.6385,-1374.5 5392.6385,-1328.5 4967.6385,-1328.5\" stroke=\"#000000\"/>\n",
       "<text fill=\"#000000\" font-family=\"Times,serif\" font-size=\"14.00\" text-anchor=\"middle\" x=\"5100.6385\" y=\"-1347.8\">batch_normalization_32: BatchNormalization</text>\n",
       "<polyline fill=\"none\" points=\"5233.6385,-1328.5 5233.6385,-1374.5 \" stroke=\"#000000\"/>\n",
       "<text fill=\"#000000\" font-family=\"Times,serif\" font-size=\"14.00\" text-anchor=\"middle\" x=\"5261.1385\" y=\"-1359.3\">input:</text>\n",
       "<polyline fill=\"none\" points=\"5233.6385,-1351.5 5288.6385,-1351.5 \" stroke=\"#000000\"/>\n",
       "<text fill=\"#000000\" font-family=\"Times,serif\" font-size=\"14.00\" text-anchor=\"middle\" x=\"5261.1385\" y=\"-1336.3\">output:</text>\n",
       "<polyline fill=\"none\" points=\"5288.6385,-1328.5 5288.6385,-1374.5 \" stroke=\"#000000\"/>\n",
       "<text fill=\"#000000\" font-family=\"Times,serif\" font-size=\"14.00\" text-anchor=\"middle\" x=\"5340.6385\" y=\"-1359.3\">(None, 60, 512)</text>\n",
       "<polyline fill=\"none\" points=\"5288.6385,-1351.5 5392.6385,-1351.5 \" stroke=\"#000000\"/>\n",
       "<text fill=\"#000000\" font-family=\"Times,serif\" font-size=\"14.00\" text-anchor=\"middle\" x=\"5340.6385\" y=\"-1336.3\">(None, 60, 512)</text>\n",
       "</g>\n",
       "<!-- 140226901129552&#45;&gt;140226900296912 -->\n",
       "<g class=\"edge\" id=\"edge143\">\n",
       "<title>140226901129552-&gt;140226900296912</title>\n",
       "<path d=\"M5180.1385,-1411.3799C5180.1385,-1403.1745 5180.1385,-1393.7679 5180.1385,-1384.8786\" fill=\"none\" stroke=\"#000000\"/>\n",
       "<polygon fill=\"#000000\" points=\"5183.6386,-1384.784 5180.1385,-1374.784 5176.6386,-1384.784 5183.6386,-1384.784\" stroke=\"#000000\"/>\n",
       "</g>\n",
       "<!-- 140226899450448 -->\n",
       "<g class=\"node\" id=\"node104\">\n",
       "<title>140226899450448</title>\n",
       "<polygon fill=\"none\" points=\"2851.6385,-1245.5 2851.6385,-1291.5 3768.6385,-1291.5 3768.6385,-1245.5 2851.6385,-1245.5\" stroke=\"#000000\"/>\n",
       "<text fill=\"#000000\" font-family=\"Times,serif\" font-size=\"14.00\" text-anchor=\"middle\" x=\"2912.6385\" y=\"-1264.8\">sa20: SelfAttention</text>\n",
       "<polyline fill=\"none\" points=\"2973.6385,-1245.5 2973.6385,-1291.5 \" stroke=\"#000000\"/>\n",
       "<text fill=\"#000000\" font-family=\"Times,serif\" font-size=\"14.00\" text-anchor=\"middle\" x=\"3001.1385\" y=\"-1276.3\">input:</text>\n",
       "<polyline fill=\"none\" points=\"2973.6385,-1268.5 3028.6385,-1268.5 \" stroke=\"#000000\"/>\n",
       "<text fill=\"#000000\" font-family=\"Times,serif\" font-size=\"14.00\" text-anchor=\"middle\" x=\"3001.1385\" y=\"-1253.3\">output:</text>\n",
       "<polyline fill=\"none\" points=\"3028.6385,-1245.5 3028.6385,-1291.5 \" stroke=\"#000000\"/>\n",
       "<text fill=\"#000000\" font-family=\"Times,serif\" font-size=\"14.00\" text-anchor=\"middle\" x=\"3398.6385\" y=\"-1276.3\">(None, 60, 512)</text>\n",
       "<polyline fill=\"none\" points=\"3028.6385,-1268.5 3768.6385,-1268.5 \" stroke=\"#000000\"/>\n",
       "<text fill=\"#000000\" font-family=\"Times,serif\" font-size=\"14.00\" text-anchor=\"middle\" x=\"3398.6385\" y=\"-1253.3\">[(None, 60, 512), (None, 60, 64), (None, 60, 64), (None, 60, 512), (None, 60, 60), (None, 60, 60), (None, 60, 60), (None, 60, 512)]</text>\n",
       "</g>\n",
       "<!-- 140226900296912&#45;&gt;140226899450448 -->\n",
       "<g class=\"edge\" id=\"edge144\">\n",
       "<title>140226900296912-&gt;140226899450448</title>\n",
       "<path d=\"M4967.3834,-1343.0004C4692.4802,-1331.8977 4199.0607,-1311.5622 3777.1385,-1292 3776.9168,-1291.9897 3776.695,-1291.9794 3776.4731,-1291.9691\" fill=\"none\" stroke=\"#000000\"/>\n",
       "<polygon fill=\"#000000\" points=\"3776.6032,-1288.4715 3766.4514,-1291.5029 3776.2779,-1295.4639 3776.6032,-1288.4715\" stroke=\"#000000\"/>\n",
       "</g>\n",
       "<!-- 140226899451536 -->\n",
       "<g class=\"node\" id=\"node105\">\n",
       "<title>140226899451536</title>\n",
       "<polygon fill=\"none\" points=\"3786.6385,-1245.5 3786.6385,-1291.5 4703.6385,-1291.5 4703.6385,-1245.5 3786.6385,-1245.5\" stroke=\"#000000\"/>\n",
       "<text fill=\"#000000\" font-family=\"Times,serif\" font-size=\"14.00\" text-anchor=\"middle\" x=\"3847.6385\" y=\"-1264.8\">sa21: SelfAttention</text>\n",
       "<polyline fill=\"none\" points=\"3908.6385,-1245.5 3908.6385,-1291.5 \" stroke=\"#000000\"/>\n",
       "<text fill=\"#000000\" font-family=\"Times,serif\" font-size=\"14.00\" text-anchor=\"middle\" x=\"3936.1385\" y=\"-1276.3\">input:</text>\n",
       "<polyline fill=\"none\" points=\"3908.6385,-1268.5 3963.6385,-1268.5 \" stroke=\"#000000\"/>\n",
       "<text fill=\"#000000\" font-family=\"Times,serif\" font-size=\"14.00\" text-anchor=\"middle\" x=\"3936.1385\" y=\"-1253.3\">output:</text>\n",
       "<polyline fill=\"none\" points=\"3963.6385,-1245.5 3963.6385,-1291.5 \" stroke=\"#000000\"/>\n",
       "<text fill=\"#000000\" font-family=\"Times,serif\" font-size=\"14.00\" text-anchor=\"middle\" x=\"4333.6385\" y=\"-1276.3\">(None, 60, 512)</text>\n",
       "<polyline fill=\"none\" points=\"3963.6385,-1268.5 4703.6385,-1268.5 \" stroke=\"#000000\"/>\n",
       "<text fill=\"#000000\" font-family=\"Times,serif\" font-size=\"14.00\" text-anchor=\"middle\" x=\"4333.6385\" y=\"-1253.3\">[(None, 60, 512), (None, 60, 64), (None, 60, 64), (None, 60, 512), (None, 60, 60), (None, 60, 60), (None, 60, 60), (None, 60, 512)]</text>\n",
       "</g>\n",
       "<!-- 140226900296912&#45;&gt;140226899451536 -->\n",
       "<g class=\"edge\" id=\"edge145\">\n",
       "<title>140226900296912-&gt;140226899451536</title>\n",
       "<path d=\"M4967.3878,-1332.6141C4833.1921,-1320.7016 4658.68,-1305.2101 4514.8145,-1292.4391\" fill=\"none\" stroke=\"#000000\"/>\n",
       "<polygon fill=\"#000000\" points=\"4514.7804,-1288.9224 4504.5101,-1291.5244 4514.1614,-1295.895 4514.7804,-1288.9224\" stroke=\"#000000\"/>\n",
       "</g>\n",
       "<!-- 140226896921936 -->\n",
       "<g class=\"node\" id=\"node106\">\n",
       "<title>140226896921936</title>\n",
       "<polygon fill=\"none\" points=\"4721.6385,-1245.5 4721.6385,-1291.5 5638.6385,-1291.5 5638.6385,-1245.5 4721.6385,-1245.5\" stroke=\"#000000\"/>\n",
       "<text fill=\"#000000\" font-family=\"Times,serif\" font-size=\"14.00\" text-anchor=\"middle\" x=\"4782.6385\" y=\"-1264.8\">sa22: SelfAttention</text>\n",
       "<polyline fill=\"none\" points=\"4843.6385,-1245.5 4843.6385,-1291.5 \" stroke=\"#000000\"/>\n",
       "<text fill=\"#000000\" font-family=\"Times,serif\" font-size=\"14.00\" text-anchor=\"middle\" x=\"4871.1385\" y=\"-1276.3\">input:</text>\n",
       "<polyline fill=\"none\" points=\"4843.6385,-1268.5 4898.6385,-1268.5 \" stroke=\"#000000\"/>\n",
       "<text fill=\"#000000\" font-family=\"Times,serif\" font-size=\"14.00\" text-anchor=\"middle\" x=\"4871.1385\" y=\"-1253.3\">output:</text>\n",
       "<polyline fill=\"none\" points=\"4898.6385,-1245.5 4898.6385,-1291.5 \" stroke=\"#000000\"/>\n",
       "<text fill=\"#000000\" font-family=\"Times,serif\" font-size=\"14.00\" text-anchor=\"middle\" x=\"5268.6385\" y=\"-1276.3\">(None, 60, 512)</text>\n",
       "<polyline fill=\"none\" points=\"4898.6385,-1268.5 5638.6385,-1268.5 \" stroke=\"#000000\"/>\n",
       "<text fill=\"#000000\" font-family=\"Times,serif\" font-size=\"14.00\" text-anchor=\"middle\" x=\"5268.6385\" y=\"-1253.3\">[(None, 60, 512), (None, 60, 64), (None, 60, 64), (None, 60, 512), (None, 60, 60), (None, 60, 60), (None, 60, 60), (None, 60, 512)]</text>\n",
       "</g>\n",
       "<!-- 140226900296912&#45;&gt;140226896921936 -->\n",
       "<g class=\"edge\" id=\"edge146\">\n",
       "<title>140226900296912-&gt;140226896921936</title>\n",
       "<path d=\"M5180.1385,-1328.3799C5180.1385,-1320.1745 5180.1385,-1310.7679 5180.1385,-1301.8786\" fill=\"none\" stroke=\"#000000\"/>\n",
       "<polygon fill=\"#000000\" points=\"5183.6386,-1301.784 5180.1385,-1291.784 5176.6386,-1301.784 5183.6386,-1301.784\" stroke=\"#000000\"/>\n",
       "</g>\n",
       "<!-- 140226894791696 -->\n",
       "<g class=\"node\" id=\"node107\">\n",
       "<title>140226894791696</title>\n",
       "<polygon fill=\"none\" points=\"5656.6385,-1245.5 5656.6385,-1291.5 6573.6385,-1291.5 6573.6385,-1245.5 5656.6385,-1245.5\" stroke=\"#000000\"/>\n",
       "<text fill=\"#000000\" font-family=\"Times,serif\" font-size=\"14.00\" text-anchor=\"middle\" x=\"5717.6385\" y=\"-1264.8\">sa23: SelfAttention</text>\n",
       "<polyline fill=\"none\" points=\"5778.6385,-1245.5 5778.6385,-1291.5 \" stroke=\"#000000\"/>\n",
       "<text fill=\"#000000\" font-family=\"Times,serif\" font-size=\"14.00\" text-anchor=\"middle\" x=\"5806.1385\" y=\"-1276.3\">input:</text>\n",
       "<polyline fill=\"none\" points=\"5778.6385,-1268.5 5833.6385,-1268.5 \" stroke=\"#000000\"/>\n",
       "<text fill=\"#000000\" font-family=\"Times,serif\" font-size=\"14.00\" text-anchor=\"middle\" x=\"5806.1385\" y=\"-1253.3\">output:</text>\n",
       "<polyline fill=\"none\" points=\"5833.6385,-1245.5 5833.6385,-1291.5 \" stroke=\"#000000\"/>\n",
       "<text fill=\"#000000\" font-family=\"Times,serif\" font-size=\"14.00\" text-anchor=\"middle\" x=\"6203.6385\" y=\"-1276.3\">(None, 60, 512)</text>\n",
       "<polyline fill=\"none\" points=\"5833.6385,-1268.5 6573.6385,-1268.5 \" stroke=\"#000000\"/>\n",
       "<text fill=\"#000000\" font-family=\"Times,serif\" font-size=\"14.00\" text-anchor=\"middle\" x=\"6203.6385\" y=\"-1253.3\">[(None, 60, 512), (None, 60, 64), (None, 60, 64), (None, 60, 512), (None, 60, 60), (None, 60, 60), (None, 60, 60), (None, 60, 512)]</text>\n",
       "</g>\n",
       "<!-- 140226900296912&#45;&gt;140226894791696 -->\n",
       "<g class=\"edge\" id=\"edge147\">\n",
       "<title>140226900296912-&gt;140226894791696</title>\n",
       "<path d=\"M5392.8892,-1332.6141C5527.0849,-1320.7016 5701.597,-1305.2101 5845.4626,-1292.4391\" fill=\"none\" stroke=\"#000000\"/>\n",
       "<polygon fill=\"#000000\" points=\"5846.1156,-1295.895 5855.7669,-1291.5244 5845.4966,-1288.9224 5846.1156,-1295.895\" stroke=\"#000000\"/>\n",
       "</g>\n",
       "<!-- 140226892827664 -->\n",
       "<g class=\"node\" id=\"node108\">\n",
       "<title>140226892827664</title>\n",
       "<polygon fill=\"none\" points=\"6591.6385,-1245.5 6591.6385,-1291.5 7508.6385,-1291.5 7508.6385,-1245.5 6591.6385,-1245.5\" stroke=\"#000000\"/>\n",
       "<text fill=\"#000000\" font-family=\"Times,serif\" font-size=\"14.00\" text-anchor=\"middle\" x=\"6652.6385\" y=\"-1264.8\">sa24: SelfAttention</text>\n",
       "<polyline fill=\"none\" points=\"6713.6385,-1245.5 6713.6385,-1291.5 \" stroke=\"#000000\"/>\n",
       "<text fill=\"#000000\" font-family=\"Times,serif\" font-size=\"14.00\" text-anchor=\"middle\" x=\"6741.1385\" y=\"-1276.3\">input:</text>\n",
       "<polyline fill=\"none\" points=\"6713.6385,-1268.5 6768.6385,-1268.5 \" stroke=\"#000000\"/>\n",
       "<text fill=\"#000000\" font-family=\"Times,serif\" font-size=\"14.00\" text-anchor=\"middle\" x=\"6741.1385\" y=\"-1253.3\">output:</text>\n",
       "<polyline fill=\"none\" points=\"6768.6385,-1245.5 6768.6385,-1291.5 \" stroke=\"#000000\"/>\n",
       "<text fill=\"#000000\" font-family=\"Times,serif\" font-size=\"14.00\" text-anchor=\"middle\" x=\"7138.6385\" y=\"-1276.3\">(None, 60, 512)</text>\n",
       "<polyline fill=\"none\" points=\"6768.6385,-1268.5 7508.6385,-1268.5 \" stroke=\"#000000\"/>\n",
       "<text fill=\"#000000\" font-family=\"Times,serif\" font-size=\"14.00\" text-anchor=\"middle\" x=\"7138.6385\" y=\"-1253.3\">[(None, 60, 512), (None, 60, 64), (None, 60, 64), (None, 60, 512), (None, 60, 60), (None, 60, 60), (None, 60, 60), (None, 60, 512)]</text>\n",
       "</g>\n",
       "<!-- 140226900296912&#45;&gt;140226892827664 -->\n",
       "<g class=\"edge\" id=\"edge148\">\n",
       "<title>140226900296912-&gt;140226892827664</title>\n",
       "<path d=\"M5392.8936,-1343.0004C5667.7968,-1331.8977 6161.2164,-1311.5622 6583.1385,-1292 6583.3602,-1291.9897 6583.582,-1291.9794 6583.8039,-1291.9691\" fill=\"none\" stroke=\"#000000\"/>\n",
       "<polygon fill=\"#000000\" points=\"6583.9992,-1295.4639 6593.8257,-1291.5029 6583.6738,-1288.4715 6583.9992,-1295.4639\" stroke=\"#000000\"/>\n",
       "</g>\n",
       "<!-- 140226838650640 -->\n",
       "<g class=\"node\" id=\"node109\">\n",
       "<title>140226838650640</title>\n",
       "<polygon fill=\"none\" points=\"7526.6385,-1245.5 7526.6385,-1291.5 8443.6385,-1291.5 8443.6385,-1245.5 7526.6385,-1245.5\" stroke=\"#000000\"/>\n",
       "<text fill=\"#000000\" font-family=\"Times,serif\" font-size=\"14.00\" text-anchor=\"middle\" x=\"7587.6385\" y=\"-1264.8\">sa25: SelfAttention</text>\n",
       "<polyline fill=\"none\" points=\"7648.6385,-1245.5 7648.6385,-1291.5 \" stroke=\"#000000\"/>\n",
       "<text fill=\"#000000\" font-family=\"Times,serif\" font-size=\"14.00\" text-anchor=\"middle\" x=\"7676.1385\" y=\"-1276.3\">input:</text>\n",
       "<polyline fill=\"none\" points=\"7648.6385,-1268.5 7703.6385,-1268.5 \" stroke=\"#000000\"/>\n",
       "<text fill=\"#000000\" font-family=\"Times,serif\" font-size=\"14.00\" text-anchor=\"middle\" x=\"7676.1385\" y=\"-1253.3\">output:</text>\n",
       "<polyline fill=\"none\" points=\"7703.6385,-1245.5 7703.6385,-1291.5 \" stroke=\"#000000\"/>\n",
       "<text fill=\"#000000\" font-family=\"Times,serif\" font-size=\"14.00\" text-anchor=\"middle\" x=\"8073.6385\" y=\"-1276.3\">(None, 60, 512)</text>\n",
       "<polyline fill=\"none\" points=\"7703.6385,-1268.5 8443.6385,-1268.5 \" stroke=\"#000000\"/>\n",
       "<text fill=\"#000000\" font-family=\"Times,serif\" font-size=\"14.00\" text-anchor=\"middle\" x=\"8073.6385\" y=\"-1253.3\">[(None, 60, 512), (None, 60, 64), (None, 60, 64), (None, 60, 512), (None, 60, 60), (None, 60, 60), (None, 60, 60), (None, 60, 512)]</text>\n",
       "</g>\n",
       "<!-- 140226900296912&#45;&gt;140226838650640 -->\n",
       "<g class=\"edge\" id=\"edge149\">\n",
       "<title>140226900296912-&gt;140226838650640</title>\n",
       "<path d=\"M5392.9546,-1347.8525C5803.8543,-1340.4179 6735.0541,-1321.6627 7518.1385,-1292 7519.0701,-1291.9647 7520.0028,-1291.9293 7520.9365,-1291.8937\" fill=\"none\" stroke=\"#000000\"/>\n",
       "<polygon fill=\"#000000\" points=\"7521.1199,-1295.3893 7530.9775,-1291.5064 7520.8501,-1288.3945 7521.1199,-1295.3893\" stroke=\"#000000\"/>\n",
       "</g>\n",
       "<!-- 140226838221008 -->\n",
       "<g class=\"node\" id=\"node110\">\n",
       "<title>140226838221008</title>\n",
       "<polygon fill=\"none\" points=\"981.6385,-1245.5 981.6385,-1291.5 1898.6385,-1291.5 1898.6385,-1245.5 981.6385,-1245.5\" stroke=\"#000000\"/>\n",
       "<text fill=\"#000000\" font-family=\"Times,serif\" font-size=\"14.00\" text-anchor=\"middle\" x=\"1042.6385\" y=\"-1264.8\">sa26: SelfAttention</text>\n",
       "<polyline fill=\"none\" points=\"1103.6385,-1245.5 1103.6385,-1291.5 \" stroke=\"#000000\"/>\n",
       "<text fill=\"#000000\" font-family=\"Times,serif\" font-size=\"14.00\" text-anchor=\"middle\" x=\"1131.1385\" y=\"-1276.3\">input:</text>\n",
       "<polyline fill=\"none\" points=\"1103.6385,-1268.5 1158.6385,-1268.5 \" stroke=\"#000000\"/>\n",
       "<text fill=\"#000000\" font-family=\"Times,serif\" font-size=\"14.00\" text-anchor=\"middle\" x=\"1131.1385\" y=\"-1253.3\">output:</text>\n",
       "<polyline fill=\"none\" points=\"1158.6385,-1245.5 1158.6385,-1291.5 \" stroke=\"#000000\"/>\n",
       "<text fill=\"#000000\" font-family=\"Times,serif\" font-size=\"14.00\" text-anchor=\"middle\" x=\"1528.6385\" y=\"-1276.3\">(None, 60, 512)</text>\n",
       "<polyline fill=\"none\" points=\"1158.6385,-1268.5 1898.6385,-1268.5 \" stroke=\"#000000\"/>\n",
       "<text fill=\"#000000\" font-family=\"Times,serif\" font-size=\"14.00\" text-anchor=\"middle\" x=\"1528.6385\" y=\"-1253.3\">[(None, 60, 512), (None, 60, 64), (None, 60, 64), (None, 60, 512), (None, 60, 60), (None, 60, 60), (None, 60, 60), (None, 60, 512)]</text>\n",
       "</g>\n",
       "<!-- 140226900296912&#45;&gt;140226838221008 -->\n",
       "<g class=\"edge\" id=\"edge150\">\n",
       "<title>140226900296912-&gt;140226838221008</title>\n",
       "<path d=\"M4967.5552,-1349.9974C4446.0269,-1345.7963 3061.5785,-1331.5295 1907.1385,-1292 1905.8265,-1291.9551 1904.5124,-1291.9098 1903.1963,-1291.8641\" fill=\"none\" stroke=\"#000000\"/>\n",
       "<polygon fill=\"#000000\" points=\"1903.1859,-1288.3617 1893.0688,-1291.507 1902.9392,-1295.3573 1903.1859,-1288.3617\" stroke=\"#000000\"/>\n",
       "</g>\n",
       "<!-- 140226836106704 -->\n",
       "<g class=\"node\" id=\"node111\">\n",
       "<title>140226836106704</title>\n",
       "<polygon fill=\"none\" points=\"1916.6385,-1245.5 1916.6385,-1291.5 2833.6385,-1291.5 2833.6385,-1245.5 1916.6385,-1245.5\" stroke=\"#000000\"/>\n",
       "<text fill=\"#000000\" font-family=\"Times,serif\" font-size=\"14.00\" text-anchor=\"middle\" x=\"1977.6385\" y=\"-1264.8\">sa27: SelfAttention</text>\n",
       "<polyline fill=\"none\" points=\"2038.6385,-1245.5 2038.6385,-1291.5 \" stroke=\"#000000\"/>\n",
       "<text fill=\"#000000\" font-family=\"Times,serif\" font-size=\"14.00\" text-anchor=\"middle\" x=\"2066.1385\" y=\"-1276.3\">input:</text>\n",
       "<polyline fill=\"none\" points=\"2038.6385,-1268.5 2093.6385,-1268.5 \" stroke=\"#000000\"/>\n",
       "<text fill=\"#000000\" font-family=\"Times,serif\" font-size=\"14.00\" text-anchor=\"middle\" x=\"2066.1385\" y=\"-1253.3\">output:</text>\n",
       "<polyline fill=\"none\" points=\"2093.6385,-1245.5 2093.6385,-1291.5 \" stroke=\"#000000\"/>\n",
       "<text fill=\"#000000\" font-family=\"Times,serif\" font-size=\"14.00\" text-anchor=\"middle\" x=\"2463.6385\" y=\"-1276.3\">(None, 60, 512)</text>\n",
       "<polyline fill=\"none\" points=\"2093.6385,-1268.5 2833.6385,-1268.5 \" stroke=\"#000000\"/>\n",
       "<text fill=\"#000000\" font-family=\"Times,serif\" font-size=\"14.00\" text-anchor=\"middle\" x=\"2463.6385\" y=\"-1253.3\">[(None, 60, 512), (None, 60, 64), (None, 60, 64), (None, 60, 512), (None, 60, 60), (None, 60, 60), (None, 60, 60), (None, 60, 512)]</text>\n",
       "</g>\n",
       "<!-- 140226900296912&#45;&gt;140226836106704 -->\n",
       "<g class=\"edge\" id=\"edge151\">\n",
       "<title>140226900296912-&gt;140226836106704</title>\n",
       "<path d=\"M4967.3224,-1347.8525C4556.4228,-1340.4179 3625.2229,-1321.6627 2842.1385,-1292 2841.2069,-1291.9647 2840.2742,-1291.9293 2839.3406,-1291.8937\" fill=\"none\" stroke=\"#000000\"/>\n",
       "<polygon fill=\"#000000\" points=\"2839.427,-1288.3945 2829.2995,-1291.5064 2839.1571,-1295.3893 2839.427,-1288.3945\" stroke=\"#000000\"/>\n",
       "</g>\n",
       "<!-- 140226831589904 -->\n",
       "<g class=\"node\" id=\"node114\">\n",
       "<title>140226831589904</title>\n",
       "<polygon fill=\"none\" points=\"5597.1385,-996.5 5597.1385,-1042.5 6065.1385,-1042.5 6065.1385,-996.5 5597.1385,-996.5\" stroke=\"#000000\"/>\n",
       "<text fill=\"#000000\" font-family=\"Times,serif\" font-size=\"14.00\" text-anchor=\"middle\" x=\"5700.1385\" y=\"-1015.8\">res_comb_sa_2: ResidualCombine</text>\n",
       "<polyline fill=\"none\" points=\"5803.1385,-996.5 5803.1385,-1042.5 \" stroke=\"#000000\"/>\n",
       "<text fill=\"#000000\" font-family=\"Times,serif\" font-size=\"14.00\" text-anchor=\"middle\" x=\"5830.6385\" y=\"-1027.3\">input:</text>\n",
       "<polyline fill=\"none\" points=\"5803.1385,-1019.5 5858.1385,-1019.5 \" stroke=\"#000000\"/>\n",
       "<text fill=\"#000000\" font-family=\"Times,serif\" font-size=\"14.00\" text-anchor=\"middle\" x=\"5830.6385\" y=\"-1004.3\">output:</text>\n",
       "<polyline fill=\"none\" points=\"5858.1385,-996.5 5858.1385,-1042.5 \" stroke=\"#000000\"/>\n",
       "<text fill=\"#000000\" font-family=\"Times,serif\" font-size=\"14.00\" text-anchor=\"middle\" x=\"5961.6385\" y=\"-1027.3\">[(None, 60, 512), (None, 60, 512)]</text>\n",
       "<polyline fill=\"none\" points=\"5858.1385,-1019.5 6065.1385,-1019.5 \" stroke=\"#000000\"/>\n",
       "<text fill=\"#000000\" font-family=\"Times,serif\" font-size=\"14.00\" text-anchor=\"middle\" x=\"5961.6385\" y=\"-1004.3\">[(None, 60, 512), (1, 1), (1, 1)]</text>\n",
       "</g>\n",
       "<!-- 140226900296912&#45;&gt;140226831589904 -->\n",
       "<g class=\"edge\" id=\"edge161\">\n",
       "<title>140226900296912-&gt;140226831589904</title>\n",
       "<path d=\"M5392.9206,-1349.6008C6114.6443,-1342.9124 8426.2603,-1319.3713 8453.1385,-1292 8467.7743,-1277.0957 8467.2622,-1260.3905 8453.1385,-1245 8294.1952,-1071.8004 6696.1954,-1031.34 6075.6721,-1022.1323\" fill=\"none\" stroke=\"#000000\"/>\n",
       "<polygon fill=\"#000000\" points=\"6075.3042,-1018.6267 6065.2538,-1021.9793 6075.2013,-1025.6259 6075.3042,-1018.6267\" stroke=\"#000000\"/>\n",
       "</g>\n",
       "<!-- 140226834098320 -->\n",
       "<g class=\"node\" id=\"node112\">\n",
       "<title>140226834098320</title>\n",
       "<polygon fill=\"none\" points=\"4686.6385,-1162.5 4686.6385,-1208.5 5673.6385,-1208.5 5673.6385,-1162.5 4686.6385,-1162.5\" stroke=\"#000000\"/>\n",
       "<text fill=\"#000000\" font-family=\"Times,serif\" font-size=\"14.00\" text-anchor=\"middle\" x=\"4765.6385\" y=\"-1181.8\">concat_sa_2: Concatenate</text>\n",
       "<polyline fill=\"none\" points=\"4844.6385,-1162.5 4844.6385,-1208.5 \" stroke=\"#000000\"/>\n",
       "<text fill=\"#000000\" font-family=\"Times,serif\" font-size=\"14.00\" text-anchor=\"middle\" x=\"4872.1385\" y=\"-1193.3\">input:</text>\n",
       "<polyline fill=\"none\" points=\"4844.6385,-1185.5 4899.6385,-1185.5 \" stroke=\"#000000\"/>\n",
       "<text fill=\"#000000\" font-family=\"Times,serif\" font-size=\"14.00\" text-anchor=\"middle\" x=\"4872.1385\" y=\"-1170.3\">output:</text>\n",
       "<polyline fill=\"none\" points=\"4899.6385,-1162.5 4899.6385,-1208.5 \" stroke=\"#000000\"/>\n",
       "<text fill=\"#000000\" font-family=\"Times,serif\" font-size=\"14.00\" text-anchor=\"middle\" x=\"5286.6385\" y=\"-1193.3\">[(None, 60, 512), (None, 60, 512), (None, 60, 512), (None, 60, 512), (None, 60, 512), (None, 60, 512), (None, 60, 512), (None, 60, 512)]</text>\n",
       "<polyline fill=\"none\" points=\"4899.6385,-1185.5 5673.6385,-1185.5 \" stroke=\"#000000\"/>\n",
       "<text fill=\"#000000\" font-family=\"Times,serif\" font-size=\"14.00\" text-anchor=\"middle\" x=\"5286.6385\" y=\"-1170.3\">(None, 60, 4096)</text>\n",
       "</g>\n",
       "<!-- 140226899450448&#45;&gt;140226834098320 -->\n",
       "<g class=\"edge\" id=\"edge152\">\n",
       "<title>140226899450448-&gt;140226834098320</title>\n",
       "<path d=\"M3766.4514,-1245.4971C3770.0278,-1245.3302 3773.5907,-1245.1645 3777.1385,-1245 4075.2866,-1231.1765 4409.1363,-1216.9669 4676.3545,-1205.9019\" fill=\"none\" stroke=\"#000000\"/>\n",
       "<polygon fill=\"#000000\" points=\"4676.7827,-1209.3872 4686.6293,-1205.4766 4676.4931,-1202.3932 4676.7827,-1209.3872\" stroke=\"#000000\"/>\n",
       "</g>\n",
       "<!-- 140226899451536&#45;&gt;140226834098320 -->\n",
       "<g class=\"edge\" id=\"edge153\">\n",
       "<title>140226899451536-&gt;140226834098320</title>\n",
       "<path d=\"M4504.3465,-1245.4901C4630.7651,-1234.2679 4782.7266,-1220.7783 4910.5048,-1209.4354\" fill=\"none\" stroke=\"#000000\"/>\n",
       "<polygon fill=\"#000000\" points=\"4911.1805,-1212.8893 4920.8318,-1208.5187 4910.5614,-1205.9167 4911.1805,-1212.8893\" stroke=\"#000000\"/>\n",
       "</g>\n",
       "<!-- 140226896921936&#45;&gt;140226834098320 -->\n",
       "<g class=\"edge\" id=\"edge154\">\n",
       "<title>140226896921936-&gt;140226834098320</title>\n",
       "<path d=\"M5180.1385,-1245.3799C5180.1385,-1237.1745 5180.1385,-1227.7679 5180.1385,-1218.8786\" fill=\"none\" stroke=\"#000000\"/>\n",
       "<polygon fill=\"#000000\" points=\"5183.6386,-1218.784 5180.1385,-1208.784 5176.6386,-1218.784 5183.6386,-1218.784\" stroke=\"#000000\"/>\n",
       "</g>\n",
       "<!-- 140226894791696&#45;&gt;140226834098320 -->\n",
       "<g class=\"edge\" id=\"edge155\">\n",
       "<title>140226894791696-&gt;140226834098320</title>\n",
       "<path d=\"M5855.9305,-1245.4901C5729.5119,-1234.2679 5577.5504,-1220.7783 5449.7722,-1209.4354\" fill=\"none\" stroke=\"#000000\"/>\n",
       "<polygon fill=\"#000000\" points=\"5449.7156,-1205.9167 5439.4452,-1208.5187 5449.0966,-1212.8893 5449.7156,-1205.9167\" stroke=\"#000000\"/>\n",
       "</g>\n",
       "<!-- 140226892827664&#45;&gt;140226834098320 -->\n",
       "<g class=\"edge\" id=\"edge156\">\n",
       "<title>140226892827664-&gt;140226834098320</title>\n",
       "<path d=\"M6593.8257,-1245.4971C6590.2492,-1245.3302 6586.6863,-1245.1645 6583.1385,-1245 6284.9905,-1231.1765 5951.1407,-1216.9669 5683.9225,-1205.9019\" fill=\"none\" stroke=\"#000000\"/>\n",
       "<polygon fill=\"#000000\" points=\"5683.7839,-1202.3932 5673.6477,-1205.4766 5683.4944,-1209.3872 5683.7839,-1202.3932\" stroke=\"#000000\"/>\n",
       "</g>\n",
       "<!-- 140226838650640&#45;&gt;140226834098320 -->\n",
       "<g class=\"edge\" id=\"edge157\">\n",
       "<title>140226838650640-&gt;140226834098320</title>\n",
       "<path d=\"M7530.9775,-1245.4936C7526.6779,-1245.3259 7522.3974,-1245.1613 7518.1385,-1245 6886.0095,-1221.0554 6157.3655,-1204.2183 5683.7978,-1194.7061\" fill=\"none\" stroke=\"#000000\"/>\n",
       "<polygon fill=\"#000000\" points=\"5683.7746,-1191.205 5673.7064,-1194.5037 5683.6342,-1198.2036 5683.7746,-1191.205\" stroke=\"#000000\"/>\n",
       "</g>\n",
       "<!-- 140226838221008&#45;&gt;140226834098320 -->\n",
       "<g class=\"edge\" id=\"edge158\">\n",
       "<title>140226838221008-&gt;140226834098320</title>\n",
       "<path d=\"M1893.0688,-1245.493C1897.7824,-1245.3242 1902.4735,-1245.1597 1907.1385,-1245 2887.3084,-1211.4377 4033.2856,-1196.0867 4676.1385,-1189.6456\" fill=\"none\" stroke=\"#000000\"/>\n",
       "<polygon fill=\"#000000\" points=\"4676.5443,-1193.1418 4686.5088,-1189.542 4676.4743,-1186.1422 4676.5443,-1193.1418\" stroke=\"#000000\"/>\n",
       "</g>\n",
       "<!-- 140226836106704&#45;&gt;140226834098320 -->\n",
       "<g class=\"edge\" id=\"edge159\">\n",
       "<title>140226836106704-&gt;140226834098320</title>\n",
       "<path d=\"M2829.2995,-1245.4936C2833.5991,-1245.3259 2837.8797,-1245.1613 2842.1385,-1245 3474.2675,-1221.0554 4202.9115,-1204.2183 4676.4792,-1194.7061\" fill=\"none\" stroke=\"#000000\"/>\n",
       "<polygon fill=\"#000000\" points=\"4676.6428,-1198.2036 4686.5706,-1194.5037 4676.5024,-1191.205 4676.6428,-1198.2036\" stroke=\"#000000\"/>\n",
       "</g>\n",
       "<!-- 140226832086096 -->\n",
       "<g class=\"node\" id=\"node113\">\n",
       "<title>140226832086096</title>\n",
       "<polygon fill=\"none\" points=\"5265.1385,-1079.5 5265.1385,-1125.5 5633.1385,-1125.5 5633.1385,-1079.5 5265.1385,-1079.5\" stroke=\"#000000\"/>\n",
       "<text fill=\"#000000\" font-family=\"Times,serif\" font-size=\"14.00\" text-anchor=\"middle\" x=\"5366.6385\" y=\"-1098.8\">cond_sa_2: CondenseAttention1D</text>\n",
       "<polyline fill=\"none\" points=\"5468.1385,-1079.5 5468.1385,-1125.5 \" stroke=\"#000000\"/>\n",
       "<text fill=\"#000000\" font-family=\"Times,serif\" font-size=\"14.00\" text-anchor=\"middle\" x=\"5495.6385\" y=\"-1110.3\">input:</text>\n",
       "<polyline fill=\"none\" points=\"5468.1385,-1102.5 5523.1385,-1102.5 \" stroke=\"#000000\"/>\n",
       "<text fill=\"#000000\" font-family=\"Times,serif\" font-size=\"14.00\" text-anchor=\"middle\" x=\"5495.6385\" y=\"-1087.3\">output:</text>\n",
       "<polyline fill=\"none\" points=\"5523.1385,-1079.5 5523.1385,-1125.5 \" stroke=\"#000000\"/>\n",
       "<text fill=\"#000000\" font-family=\"Times,serif\" font-size=\"14.00\" text-anchor=\"middle\" x=\"5578.1385\" y=\"-1110.3\">(None, 60, 4096)</text>\n",
       "<polyline fill=\"none\" points=\"5523.1385,-1102.5 5633.1385,-1102.5 \" stroke=\"#000000\"/>\n",
       "<text fill=\"#000000\" font-family=\"Times,serif\" font-size=\"14.00\" text-anchor=\"middle\" x=\"5578.1385\" y=\"-1087.3\">(None, 60, 512)</text>\n",
       "</g>\n",
       "<!-- 140226834098320&#45;&gt;140226832086096 -->\n",
       "<g class=\"edge\" id=\"edge160\">\n",
       "<title>140226834098320-&gt;140226832086096</title>\n",
       "<path d=\"M5254.7128,-1162.4901C5288.8227,-1151.9655 5329.396,-1139.4466 5364.6321,-1128.5745\" fill=\"none\" stroke=\"#000000\"/>\n",
       "<polygon fill=\"#000000\" points=\"5365.8956,-1131.8475 5374.4192,-1125.5547 5363.8317,-1125.1587 5365.8956,-1131.8475\" stroke=\"#000000\"/>\n",
       "</g>\n",
       "<!-- 140226832086096&#45;&gt;140226831589904 -->\n",
       "<g class=\"edge\" id=\"edge162\">\n",
       "<title>140226832086096-&gt;140226831589904</title>\n",
       "<path d=\"M5555.0395,-1079.4901C5604.7201,-1068.6956 5664.0561,-1055.8033 5714.967,-1044.7415\" fill=\"none\" stroke=\"#000000\"/>\n",
       "<polygon fill=\"#000000\" points=\"5716.0027,-1048.0982 5725.0315,-1042.5547 5714.5163,-1041.2578 5716.0027,-1048.0982\" stroke=\"#000000\"/>\n",
       "</g>\n",
       "<!-- 140226830621840 -->\n",
       "<g class=\"node\" id=\"node115\">\n",
       "<title>140226830621840</title>\n",
       "<polygon fill=\"none\" points=\"5618.6385,-913.5 5618.6385,-959.5 6043.6385,-959.5 6043.6385,-913.5 5618.6385,-913.5\" stroke=\"#000000\"/>\n",
       "<text fill=\"#000000\" font-family=\"Times,serif\" font-size=\"14.00\" text-anchor=\"middle\" x=\"5751.6385\" y=\"-932.8\">batch_normalization_41: BatchNormalization</text>\n",
       "<polyline fill=\"none\" points=\"5884.6385,-913.5 5884.6385,-959.5 \" stroke=\"#000000\"/>\n",
       "<text fill=\"#000000\" font-family=\"Times,serif\" font-size=\"14.00\" text-anchor=\"middle\" x=\"5912.1385\" y=\"-944.3\">input:</text>\n",
       "<polyline fill=\"none\" points=\"5884.6385,-936.5 5939.6385,-936.5 \" stroke=\"#000000\"/>\n",
       "<text fill=\"#000000\" font-family=\"Times,serif\" font-size=\"14.00\" text-anchor=\"middle\" x=\"5912.1385\" y=\"-921.3\">output:</text>\n",
       "<polyline fill=\"none\" points=\"5939.6385,-913.5 5939.6385,-959.5 \" stroke=\"#000000\"/>\n",
       "<text fill=\"#000000\" font-family=\"Times,serif\" font-size=\"14.00\" text-anchor=\"middle\" x=\"5991.6385\" y=\"-944.3\">(None, 60, 512)</text>\n",
       "<polyline fill=\"none\" points=\"5939.6385,-936.5 6043.6385,-936.5 \" stroke=\"#000000\"/>\n",
       "<text fill=\"#000000\" font-family=\"Times,serif\" font-size=\"14.00\" text-anchor=\"middle\" x=\"5991.6385\" y=\"-921.3\">(None, 60, 512)</text>\n",
       "</g>\n",
       "<!-- 140226831589904&#45;&gt;140226830621840 -->\n",
       "<g class=\"edge\" id=\"edge163\">\n",
       "<title>140226831589904-&gt;140226830621840</title>\n",
       "<path d=\"M5831.1385,-996.3799C5831.1385,-988.1745 5831.1385,-978.7679 5831.1385,-969.8786\" fill=\"none\" stroke=\"#000000\"/>\n",
       "<polygon fill=\"#000000\" points=\"5834.6386,-969.784 5831.1385,-959.784 5827.6386,-969.784 5834.6386,-969.784\" stroke=\"#000000\"/>\n",
       "</g>\n",
       "<!-- 140226830621840&#45;&gt;140226829541968 -->\n",
       "<g class=\"edge\" id=\"edge164\">\n",
       "<title>140226830621840-&gt;140226829541968</title>\n",
       "<path d=\"M6043.661,-932.0799C6402.0773,-924.1625 7149.4793,-905.6613 7781.1385,-877 7781.3609,-876.9899 7781.5833,-876.9798 7781.8057,-876.9697\" fill=\"none\" stroke=\"#000000\"/>\n",
       "<polygon fill=\"#000000\" points=\"7782.0348,-880.463 7791.863,-876.5062 7781.7125,-873.4704 7782.0348,-880.463\" stroke=\"#000000\"/>\n",
       "</g>\n",
       "<!-- 140226830621840&#45;&gt;140226827466384 -->\n",
       "<g class=\"edge\" id=\"edge166\">\n",
       "<title>140226830621840-&gt;140226827466384</title>\n",
       "<path d=\"M6044.0491,-934.64C6503.7712,-930.0124 7623.5625,-915.4505 8561.1385,-877 8561.6256,-876.98 8562.1131,-876.96 8562.6009,-876.9398\" fill=\"none\" stroke=\"#000000\"/>\n",
       "<polygon fill=\"#000000\" points=\"8563.0477,-880.4242 8572.8917,-876.5068 8562.7533,-873.4304 8563.0477,-880.4242\" stroke=\"#000000\"/>\n",
       "</g>\n",
       "<!-- 140226830621840&#45;&gt;140226827467856 -->\n",
       "<g class=\"edge\" id=\"edge168\">\n",
       "<title>140226830621840-&gt;140226827467856</title>\n",
       "<path d=\"M5618.4947,-932.247C5254.6859,-924.4979 4489.4756,-906.1386 3843.1385,-877 3842.9162,-876.99 3842.6937,-876.9799 3842.4713,-876.9699\" fill=\"none\" stroke=\"#000000\"/>\n",
       "<polygon fill=\"#000000\" points=\"3842.5636,-873.4705 3832.4139,-876.5091 3842.2432,-880.4632 3842.5636,-873.4705\" stroke=\"#000000\"/>\n",
       "</g>\n",
       "<!-- 140226830621840&#45;&gt;140226823317776 -->\n",
       "<g class=\"edge\" id=\"edge170\">\n",
       "<title>140226830621840-&gt;140226823317776</title>\n",
       "<path d=\"M5618.6165,-926.7383C5379.6043,-915.5972 4979.5398,-896.4611 4624.4405,-877.0687\" fill=\"none\" stroke=\"#000000\"/>\n",
       "<polygon fill=\"#000000\" points=\"4624.3886,-873.5607 4614.2124,-876.5094 4624.0063,-880.5503 4624.3886,-873.5607\" stroke=\"#000000\"/>\n",
       "</g>\n",
       "<!-- 140226830621840&#45;&gt;140226823319248 -->\n",
       "<g class=\"edge\" id=\"edge172\">\n",
       "<title>140226830621840-&gt;140226823319248</title>\n",
       "<path d=\"M5618.6205,-914.9364C5505.6972,-903.4784 5366.5638,-889.361 5250.1565,-877.5495\" fill=\"none\" stroke=\"#000000\"/>\n",
       "<polygon fill=\"#000000\" points=\"5250.3395,-874.0502 5240.0373,-876.5227 5249.6328,-881.0144 5250.3395,-874.0502\" stroke=\"#000000\"/>\n",
       "</g>\n",
       "<!-- 140226830621840&#45;&gt;140226819215312 -->\n",
       "<g class=\"edge\" id=\"edge174\">\n",
       "<title>140226830621840-&gt;140226819215312</title>\n",
       "<path d=\"M5831.1385,-913.3799C5831.1385,-905.1745 5831.1385,-895.7679 5831.1385,-886.8786\" fill=\"none\" stroke=\"#000000\"/>\n",
       "<polygon fill=\"#000000\" points=\"5834.6386,-886.784 5831.1385,-876.784 5827.6386,-886.784 5834.6386,-886.784\" stroke=\"#000000\"/>\n",
       "</g>\n",
       "<!-- 140226830621840&#45;&gt;140226816709776 -->\n",
       "<g class=\"edge\" id=\"edge176\">\n",
       "<title>140226830621840-&gt;140226816709776</title>\n",
       "<path d=\"M6043.7616,-913.8747C6149.5116,-902.6218 6277.371,-889.0163 6384.9228,-877.5717\" fill=\"none\" stroke=\"#000000\"/>\n",
       "<polygon fill=\"#000000\" points=\"6385.3615,-881.0448 6394.935,-876.5063 6384.6207,-874.0841 6385.3615,-881.0448\" stroke=\"#000000\"/>\n",
       "</g>\n",
       "<!-- 140226830621840&#45;&gt;140226814590736 -->\n",
       "<g class=\"edge\" id=\"edge178\">\n",
       "<title>140226830621840-&gt;140226814590736</title>\n",
       "<path d=\"M6043.8668,-926.2817C6276.0648,-914.9896 6659.1302,-895.9557 6999.9921,-877.0615\" fill=\"none\" stroke=\"#000000\"/>\n",
       "<polygon fill=\"#000000\" points=\"7000.2736,-880.5514 7010.0642,-876.5025 6999.8856,-873.5621 7000.2736,-880.5514\" stroke=\"#000000\"/>\n",
       "</g>\n",
       "<!-- 140226811731152 -->\n",
       "<g class=\"node\" id=\"node134\">\n",
       "<title>140226811731152</title>\n",
       "<polygon fill=\"none\" points=\"5292.1385,-498.5 5292.1385,-544.5 5768.1385,-544.5 5768.1385,-498.5 5292.1385,-498.5\" stroke=\"#000000\"/>\n",
       "<text fill=\"#000000\" font-family=\"Times,serif\" font-size=\"14.00\" text-anchor=\"middle\" x=\"5399.1385\" y=\"-517.8\">res_comb_enc_2: ResidualCombine</text>\n",
       "<polyline fill=\"none\" points=\"5506.1385,-498.5 5506.1385,-544.5 \" stroke=\"#000000\"/>\n",
       "<text fill=\"#000000\" font-family=\"Times,serif\" font-size=\"14.00\" text-anchor=\"middle\" x=\"5533.6385\" y=\"-529.3\">input:</text>\n",
       "<polyline fill=\"none\" points=\"5506.1385,-521.5 5561.1385,-521.5 \" stroke=\"#000000\"/>\n",
       "<text fill=\"#000000\" font-family=\"Times,serif\" font-size=\"14.00\" text-anchor=\"middle\" x=\"5533.6385\" y=\"-506.3\">output:</text>\n",
       "<polyline fill=\"none\" points=\"5561.1385,-498.5 5561.1385,-544.5 \" stroke=\"#000000\"/>\n",
       "<text fill=\"#000000\" font-family=\"Times,serif\" font-size=\"14.00\" text-anchor=\"middle\" x=\"5664.6385\" y=\"-529.3\">[(None, 60, 512), (None, 60, 512)]</text>\n",
       "<polyline fill=\"none\" points=\"5561.1385,-521.5 5768.1385,-521.5 \" stroke=\"#000000\"/>\n",
       "<text fill=\"#000000\" font-family=\"Times,serif\" font-size=\"14.00\" text-anchor=\"middle\" x=\"5664.6385\" y=\"-506.3\">[(None, 60, 512), (1, 1), (1, 1)]</text>\n",
       "</g>\n",
       "<!-- 140226830621840&#45;&gt;140226811731152 -->\n",
       "<g class=\"edge\" id=\"edge197\">\n",
       "<title>140226830621840-&gt;140226811731152</title>\n",
       "<path d=\"M5618.5423,-914.6412C5534.8473,-904.0635 5455.1904,-890.7029 5441.1385,-877 5406.7155,-843.432 5422.1385,-818.5807 5422.1385,-770.5 5422.1385,-770.5 5422.1385,-770.5 5422.1385,-687.5 5422.1385,-632.9112 5463.6806,-582.1826 5495.236,-551.5236\" fill=\"none\" stroke=\"#000000\"/>\n",
       "<polygon fill=\"#000000\" points=\"5497.7511,-553.9623 5502.6061,-544.5453 5492.9382,-548.8792 5497.7511,-553.9623\" stroke=\"#000000\"/>\n",
       "</g>\n",
       "<!-- 140226829542096 -->\n",
       "<g class=\"node\" id=\"node124\">\n",
       "<title>140226829542096</title>\n",
       "<polygon fill=\"none\" points=\"7697.6385,-747.5 7697.6385,-793.5 8122.6385,-793.5 8122.6385,-747.5 7697.6385,-747.5\" stroke=\"#000000\"/>\n",
       "<text fill=\"#000000\" font-family=\"Times,serif\" font-size=\"14.00\" text-anchor=\"middle\" x=\"7830.6385\" y=\"-766.8\">batch_normalization_42: BatchNormalization</text>\n",
       "<polyline fill=\"none\" points=\"7963.6385,-747.5 7963.6385,-793.5 \" stroke=\"#000000\"/>\n",
       "<text fill=\"#000000\" font-family=\"Times,serif\" font-size=\"14.00\" text-anchor=\"middle\" x=\"7991.1385\" y=\"-778.3\">input:</text>\n",
       "<polyline fill=\"none\" points=\"7963.6385,-770.5 8018.6385,-770.5 \" stroke=\"#000000\"/>\n",
       "<text fill=\"#000000\" font-family=\"Times,serif\" font-size=\"14.00\" text-anchor=\"middle\" x=\"7991.1385\" y=\"-755.3\">output:</text>\n",
       "<polyline fill=\"none\" points=\"8018.6385,-747.5 8018.6385,-793.5 \" stroke=\"#000000\"/>\n",
       "<text fill=\"#000000\" font-family=\"Times,serif\" font-size=\"14.00\" text-anchor=\"middle\" x=\"8070.6385\" y=\"-778.3\">(None, 60, 512)</text>\n",
       "<polyline fill=\"none\" points=\"8018.6385,-770.5 8122.6385,-770.5 \" stroke=\"#000000\"/>\n",
       "<text fill=\"#000000\" font-family=\"Times,serif\" font-size=\"14.00\" text-anchor=\"middle\" x=\"8070.6385\" y=\"-755.3\">(None, 60, 512)</text>\n",
       "</g>\n",
       "<!-- 140226829541968&#45;&gt;140226829542096 -->\n",
       "<g class=\"edge\" id=\"edge180\">\n",
       "<title>140226829541968-&gt;140226829542096</title>\n",
       "<path d=\"M8098.7821,-830.4901C8065.828,-820.0105 8026.6562,-807.5535 7992.5703,-796.7139\" fill=\"none\" stroke=\"#000000\"/>\n",
       "<polygon fill=\"#000000\" points=\"7993.2262,-793.2499 7982.6357,-793.5547 7991.1047,-799.9207 7993.2262,-793.2499\" stroke=\"#000000\"/>\n",
       "</g>\n",
       "<!-- 140226827464976 -->\n",
       "<g class=\"node\" id=\"node125\">\n",
       "<title>140226827464976</title>\n",
       "<polygon fill=\"none\" points=\"8439.6385,-747.5 8439.6385,-793.5 8864.6385,-793.5 8864.6385,-747.5 8439.6385,-747.5\" stroke=\"#000000\"/>\n",
       "<text fill=\"#000000\" font-family=\"Times,serif\" font-size=\"14.00\" text-anchor=\"middle\" x=\"8572.6385\" y=\"-766.8\">batch_normalization_43: BatchNormalization</text>\n",
       "<polyline fill=\"none\" points=\"8705.6385,-747.5 8705.6385,-793.5 \" stroke=\"#000000\"/>\n",
       "<text fill=\"#000000\" font-family=\"Times,serif\" font-size=\"14.00\" text-anchor=\"middle\" x=\"8733.1385\" y=\"-778.3\">input:</text>\n",
       "<polyline fill=\"none\" points=\"8705.6385,-770.5 8760.6385,-770.5 \" stroke=\"#000000\"/>\n",
       "<text fill=\"#000000\" font-family=\"Times,serif\" font-size=\"14.00\" text-anchor=\"middle\" x=\"8733.1385\" y=\"-755.3\">output:</text>\n",
       "<polyline fill=\"none\" points=\"8760.6385,-747.5 8760.6385,-793.5 \" stroke=\"#000000\"/>\n",
       "<text fill=\"#000000\" font-family=\"Times,serif\" font-size=\"14.00\" text-anchor=\"middle\" x=\"8812.6385\" y=\"-778.3\">(None, 60, 512)</text>\n",
       "<polyline fill=\"none\" points=\"8760.6385,-770.5 8864.6385,-770.5 \" stroke=\"#000000\"/>\n",
       "<text fill=\"#000000\" font-family=\"Times,serif\" font-size=\"14.00\" text-anchor=\"middle\" x=\"8812.6385\" y=\"-755.3\">(None, 60, 512)</text>\n",
       "</g>\n",
       "<!-- 140226827466384&#45;&gt;140226827464976 -->\n",
       "<g class=\"edge\" id=\"edge181\">\n",
       "<title>140226827466384-&gt;140226827464976</title>\n",
       "<path d=\"M8868.2474,-830.4901C8830.0094,-819.8755 8784.4637,-807.2324 8745.0664,-796.2961\" fill=\"none\" stroke=\"#000000\"/>\n",
       "<polygon fill=\"#000000\" points=\"8745.7627,-792.857 8735.1909,-793.5547 8743.8903,-799.602 8745.7627,-792.857\" stroke=\"#000000\"/>\n",
       "</g>\n",
       "<!-- 140226827467216 -->\n",
       "<g class=\"node\" id=\"node126\">\n",
       "<title>140226827467216</title>\n",
       "<polygon fill=\"none\" points=\"3883.6385,-747.5 3883.6385,-793.5 4308.6385,-793.5 4308.6385,-747.5 3883.6385,-747.5\" stroke=\"#000000\"/>\n",
       "<text fill=\"#000000\" font-family=\"Times,serif\" font-size=\"14.00\" text-anchor=\"middle\" x=\"4016.6385\" y=\"-766.8\">batch_normalization_44: BatchNormalization</text>\n",
       "<polyline fill=\"none\" points=\"4149.6385,-747.5 4149.6385,-793.5 \" stroke=\"#000000\"/>\n",
       "<text fill=\"#000000\" font-family=\"Times,serif\" font-size=\"14.00\" text-anchor=\"middle\" x=\"4177.1385\" y=\"-778.3\">input:</text>\n",
       "<polyline fill=\"none\" points=\"4149.6385,-770.5 4204.6385,-770.5 \" stroke=\"#000000\"/>\n",
       "<text fill=\"#000000\" font-family=\"Times,serif\" font-size=\"14.00\" text-anchor=\"middle\" x=\"4177.1385\" y=\"-755.3\">output:</text>\n",
       "<polyline fill=\"none\" points=\"4204.6385,-747.5 4204.6385,-793.5 \" stroke=\"#000000\"/>\n",
       "<text fill=\"#000000\" font-family=\"Times,serif\" font-size=\"14.00\" text-anchor=\"middle\" x=\"4256.6385\" y=\"-778.3\">(None, 60, 512)</text>\n",
       "<polyline fill=\"none\" points=\"4204.6385,-770.5 4308.6385,-770.5 \" stroke=\"#000000\"/>\n",
       "<text fill=\"#000000\" font-family=\"Times,serif\" font-size=\"14.00\" text-anchor=\"middle\" x=\"4256.6385\" y=\"-755.3\">(None, 60, 512)</text>\n",
       "</g>\n",
       "<!-- 140226827467856&#45;&gt;140226827467216 -->\n",
       "<g class=\"edge\" id=\"edge182\">\n",
       "<title>140226827467856-&gt;140226827467216</title>\n",
       "<path d=\"M3631.396,-830.4901C3717.3749,-819.3917 3820.5343,-806.0757 3907.7967,-794.8116\" fill=\"none\" stroke=\"#000000\"/>\n",
       "<polygon fill=\"#000000\" points=\"3908.3435,-798.2702 3917.8131,-793.5187 3907.4473,-791.3278 3908.3435,-798.2702\" stroke=\"#000000\"/>\n",
       "</g>\n",
       "<!-- 140226823316048 -->\n",
       "<g class=\"node\" id=\"node127\">\n",
       "<title>140226823316048</title>\n",
       "<polygon fill=\"none\" points=\"4494.6385,-747.5 4494.6385,-793.5 4919.6385,-793.5 4919.6385,-747.5 4494.6385,-747.5\" stroke=\"#000000\"/>\n",
       "<text fill=\"#000000\" font-family=\"Times,serif\" font-size=\"14.00\" text-anchor=\"middle\" x=\"4627.6385\" y=\"-766.8\">batch_normalization_45: BatchNormalization</text>\n",
       "<polyline fill=\"none\" points=\"4760.6385,-747.5 4760.6385,-793.5 \" stroke=\"#000000\"/>\n",
       "<text fill=\"#000000\" font-family=\"Times,serif\" font-size=\"14.00\" text-anchor=\"middle\" x=\"4788.1385\" y=\"-778.3\">input:</text>\n",
       "<polyline fill=\"none\" points=\"4760.6385,-770.5 4815.6385,-770.5 \" stroke=\"#000000\"/>\n",
       "<text fill=\"#000000\" font-family=\"Times,serif\" font-size=\"14.00\" text-anchor=\"middle\" x=\"4788.1385\" y=\"-755.3\">output:</text>\n",
       "<polyline fill=\"none\" points=\"4815.6385,-747.5 4815.6385,-793.5 \" stroke=\"#000000\"/>\n",
       "<text fill=\"#000000\" font-family=\"Times,serif\" font-size=\"14.00\" text-anchor=\"middle\" x=\"4867.6385\" y=\"-778.3\">(None, 60, 512)</text>\n",
       "<polyline fill=\"none\" points=\"4815.6385,-770.5 4919.6385,-770.5 \" stroke=\"#000000\"/>\n",
       "<text fill=\"#000000\" font-family=\"Times,serif\" font-size=\"14.00\" text-anchor=\"middle\" x=\"4867.6385\" y=\"-755.3\">(None, 60, 512)</text>\n",
       "</g>\n",
       "<!-- 140226823317776&#45;&gt;140226823316048 -->\n",
       "<g class=\"edge\" id=\"edge183\">\n",
       "<title>140226823317776-&gt;140226823316048</title>\n",
       "<path d=\"M4364.5445,-830.4901C4426.9606,-819.5607 4501.6589,-806.4806 4565.3525,-795.3275\" fill=\"none\" stroke=\"#000000\"/>\n",
       "<polygon fill=\"#000000\" points=\"4566.2305,-798.7271 4575.4769,-793.5547 4565.0231,-791.832 4566.2305,-798.7271\" stroke=\"#000000\"/>\n",
       "</g>\n",
       "<!-- 140226821334352 -->\n",
       "<g class=\"node\" id=\"node128\">\n",
       "<title>140226821334352</title>\n",
       "<polygon fill=\"none\" points=\"5450.6385,-747.5 5450.6385,-793.5 5875.6385,-793.5 5875.6385,-747.5 5450.6385,-747.5\" stroke=\"#000000\"/>\n",
       "<text fill=\"#000000\" font-family=\"Times,serif\" font-size=\"14.00\" text-anchor=\"middle\" x=\"5583.6385\" y=\"-766.8\">batch_normalization_46: BatchNormalization</text>\n",
       "<polyline fill=\"none\" points=\"5716.6385,-747.5 5716.6385,-793.5 \" stroke=\"#000000\"/>\n",
       "<text fill=\"#000000\" font-family=\"Times,serif\" font-size=\"14.00\" text-anchor=\"middle\" x=\"5744.1385\" y=\"-778.3\">input:</text>\n",
       "<polyline fill=\"none\" points=\"5716.6385,-770.5 5771.6385,-770.5 \" stroke=\"#000000\"/>\n",
       "<text fill=\"#000000\" font-family=\"Times,serif\" font-size=\"14.00\" text-anchor=\"middle\" x=\"5744.1385\" y=\"-755.3\">output:</text>\n",
       "<polyline fill=\"none\" points=\"5771.6385,-747.5 5771.6385,-793.5 \" stroke=\"#000000\"/>\n",
       "<text fill=\"#000000\" font-family=\"Times,serif\" font-size=\"14.00\" text-anchor=\"middle\" x=\"5823.6385\" y=\"-778.3\">(None, 60, 512)</text>\n",
       "<polyline fill=\"none\" points=\"5771.6385,-770.5 5875.6385,-770.5 \" stroke=\"#000000\"/>\n",
       "<text fill=\"#000000\" font-family=\"Times,serif\" font-size=\"14.00\" text-anchor=\"middle\" x=\"5823.6385\" y=\"-755.3\">(None, 60, 512)</text>\n",
       "</g>\n",
       "<!-- 140226823319248&#45;&gt;140226821334352 -->\n",
       "<g class=\"edge\" id=\"edge184\">\n",
       "<title>140226823319248-&gt;140226821334352</title>\n",
       "<path d=\"M5193.3366,-830.4901C5280.2515,-819.3917 5384.5339,-806.0757 5472.7463,-794.8116\" fill=\"none\" stroke=\"#000000\"/>\n",
       "<polygon fill=\"#000000\" points=\"5473.3957,-798.2572 5482.8718,-793.5187 5472.509,-791.3136 5473.3957,-798.2572\" stroke=\"#000000\"/>\n",
       "</g>\n",
       "<!-- 140226819214928 -->\n",
       "<g class=\"node\" id=\"node129\">\n",
       "<title>140226819214928</title>\n",
       "<polygon fill=\"none\" points=\"5893.6385,-747.5 5893.6385,-793.5 6318.6385,-793.5 6318.6385,-747.5 5893.6385,-747.5\" stroke=\"#000000\"/>\n",
       "<text fill=\"#000000\" font-family=\"Times,serif\" font-size=\"14.00\" text-anchor=\"middle\" x=\"6026.6385\" y=\"-766.8\">batch_normalization_47: BatchNormalization</text>\n",
       "<polyline fill=\"none\" points=\"6159.6385,-747.5 6159.6385,-793.5 \" stroke=\"#000000\"/>\n",
       "<text fill=\"#000000\" font-family=\"Times,serif\" font-size=\"14.00\" text-anchor=\"middle\" x=\"6187.1385\" y=\"-778.3\">input:</text>\n",
       "<polyline fill=\"none\" points=\"6159.6385,-770.5 6214.6385,-770.5 \" stroke=\"#000000\"/>\n",
       "<text fill=\"#000000\" font-family=\"Times,serif\" font-size=\"14.00\" text-anchor=\"middle\" x=\"6187.1385\" y=\"-755.3\">output:</text>\n",
       "<polyline fill=\"none\" points=\"6214.6385,-747.5 6214.6385,-793.5 \" stroke=\"#000000\"/>\n",
       "<text fill=\"#000000\" font-family=\"Times,serif\" font-size=\"14.00\" text-anchor=\"middle\" x=\"6266.6385\" y=\"-778.3\">(None, 60, 512)</text>\n",
       "<polyline fill=\"none\" points=\"6214.6385,-770.5 6318.6385,-770.5 \" stroke=\"#000000\"/>\n",
       "<text fill=\"#000000\" font-family=\"Times,serif\" font-size=\"14.00\" text-anchor=\"middle\" x=\"6266.6385\" y=\"-755.3\">(None, 60, 512)</text>\n",
       "</g>\n",
       "<!-- 140226819215312&#45;&gt;140226819214928 -->\n",
       "<g class=\"edge\" id=\"edge185\">\n",
       "<title>140226819215312-&gt;140226819214928</title>\n",
       "<path d=\"M5907.3761,-830.4901C5942.2468,-819.9655 5983.7252,-807.4466 6019.7472,-796.5745\" fill=\"none\" stroke=\"#000000\"/>\n",
       "<polygon fill=\"#000000\" points=\"6021.1904,-799.7949 6029.7526,-793.5547 6019.1678,-793.0935 6021.1904,-799.7949\" stroke=\"#000000\"/>\n",
       "</g>\n",
       "<!-- 140226816709264 -->\n",
       "<g class=\"node\" id=\"node130\">\n",
       "<title>140226816709264</title>\n",
       "<polygon fill=\"none\" points=\"6367.6385,-747.5 6367.6385,-793.5 6792.6385,-793.5 6792.6385,-747.5 6367.6385,-747.5\" stroke=\"#000000\"/>\n",
       "<text fill=\"#000000\" font-family=\"Times,serif\" font-size=\"14.00\" text-anchor=\"middle\" x=\"6500.6385\" y=\"-766.8\">batch_normalization_48: BatchNormalization</text>\n",
       "<polyline fill=\"none\" points=\"6633.6385,-747.5 6633.6385,-793.5 \" stroke=\"#000000\"/>\n",
       "<text fill=\"#000000\" font-family=\"Times,serif\" font-size=\"14.00\" text-anchor=\"middle\" x=\"6661.1385\" y=\"-778.3\">input:</text>\n",
       "<polyline fill=\"none\" points=\"6633.6385,-770.5 6688.6385,-770.5 \" stroke=\"#000000\"/>\n",
       "<text fill=\"#000000\" font-family=\"Times,serif\" font-size=\"14.00\" text-anchor=\"middle\" x=\"6661.1385\" y=\"-755.3\">output:</text>\n",
       "<polyline fill=\"none\" points=\"6688.6385,-747.5 6688.6385,-793.5 \" stroke=\"#000000\"/>\n",
       "<text fill=\"#000000\" font-family=\"Times,serif\" font-size=\"14.00\" text-anchor=\"middle\" x=\"6740.6385\" y=\"-778.3\">(None, 60, 512)</text>\n",
       "<polyline fill=\"none\" points=\"6688.6385,-770.5 6792.6385,-770.5 \" stroke=\"#000000\"/>\n",
       "<text fill=\"#000000\" font-family=\"Times,serif\" font-size=\"14.00\" text-anchor=\"middle\" x=\"6740.6385\" y=\"-755.3\">(None, 60, 512)</text>\n",
       "</g>\n",
       "<!-- 140226816709776&#45;&gt;140226816709264 -->\n",
       "<g class=\"edge\" id=\"edge186\">\n",
       "<title>140226816709776-&gt;140226816709264</title>\n",
       "<path d=\"M6602.5033,-830.3799C6599.372,-821.9962 6595.7724,-812.3584 6592.389,-803.2996\" fill=\"none\" stroke=\"#000000\"/>\n",
       "<polygon fill=\"#000000\" points=\"6595.6126,-801.9273 6588.8349,-793.784 6589.0551,-804.3766 6595.6126,-801.9273\" stroke=\"#000000\"/>\n",
       "</g>\n",
       "<!-- 140226814590608 -->\n",
       "<g class=\"node\" id=\"node131\">\n",
       "<title>140226814590608</title>\n",
       "<polygon fill=\"none\" points=\"6994.6385,-747.5 6994.6385,-793.5 7419.6385,-793.5 7419.6385,-747.5 6994.6385,-747.5\" stroke=\"#000000\"/>\n",
       "<text fill=\"#000000\" font-family=\"Times,serif\" font-size=\"14.00\" text-anchor=\"middle\" x=\"7127.6385\" y=\"-766.8\">batch_normalization_49: BatchNormalization</text>\n",
       "<polyline fill=\"none\" points=\"7260.6385,-747.5 7260.6385,-793.5 \" stroke=\"#000000\"/>\n",
       "<text fill=\"#000000\" font-family=\"Times,serif\" font-size=\"14.00\" text-anchor=\"middle\" x=\"7288.1385\" y=\"-778.3\">input:</text>\n",
       "<polyline fill=\"none\" points=\"7260.6385,-770.5 7315.6385,-770.5 \" stroke=\"#000000\"/>\n",
       "<text fill=\"#000000\" font-family=\"Times,serif\" font-size=\"14.00\" text-anchor=\"middle\" x=\"7288.1385\" y=\"-755.3\">output:</text>\n",
       "<polyline fill=\"none\" points=\"7315.6385,-747.5 7315.6385,-793.5 \" stroke=\"#000000\"/>\n",
       "<text fill=\"#000000\" font-family=\"Times,serif\" font-size=\"14.00\" text-anchor=\"middle\" x=\"7367.6385\" y=\"-778.3\">(None, 60, 512)</text>\n",
       "<polyline fill=\"none\" points=\"7315.6385,-770.5 7419.6385,-770.5 \" stroke=\"#000000\"/>\n",
       "<text fill=\"#000000\" font-family=\"Times,serif\" font-size=\"14.00\" text-anchor=\"middle\" x=\"7367.6385\" y=\"-755.3\">(None, 60, 512)</text>\n",
       "</g>\n",
       "<!-- 140226814590736&#45;&gt;140226814590608 -->\n",
       "<g class=\"edge\" id=\"edge187\">\n",
       "<title>140226814590736-&gt;140226814590608</title>\n",
       "<path d=\"M7339.8843,-830.3799C7317.4482,-820.2592 7290.9605,-808.311 7267.5707,-797.7602\" fill=\"none\" stroke=\"#000000\"/>\n",
       "<polygon fill=\"#000000\" points=\"7268.9914,-794.5615 7258.4367,-793.6399 7266.113,-800.9423 7268.9914,-794.5615\" stroke=\"#000000\"/>\n",
       "</g>\n",
       "<!-- 140226812610256 -->\n",
       "<g class=\"node\" id=\"node132\">\n",
       "<title>140226812610256</title>\n",
       "<polygon fill=\"none\" points=\"5609.1385,-664.5 5609.1385,-710.5 6603.1385,-710.5 6603.1385,-664.5 5609.1385,-664.5\" stroke=\"#000000\"/>\n",
       "<text fill=\"#000000\" font-family=\"Times,serif\" font-size=\"14.00\" text-anchor=\"middle\" x=\"5691.6385\" y=\"-683.8\">concat_enc_2: Concatenate</text>\n",
       "<polyline fill=\"none\" points=\"5774.1385,-664.5 5774.1385,-710.5 \" stroke=\"#000000\"/>\n",
       "<text fill=\"#000000\" font-family=\"Times,serif\" font-size=\"14.00\" text-anchor=\"middle\" x=\"5801.6385\" y=\"-695.3\">input:</text>\n",
       "<polyline fill=\"none\" points=\"5774.1385,-687.5 5829.1385,-687.5 \" stroke=\"#000000\"/>\n",
       "<text fill=\"#000000\" font-family=\"Times,serif\" font-size=\"14.00\" text-anchor=\"middle\" x=\"5801.6385\" y=\"-672.3\">output:</text>\n",
       "<polyline fill=\"none\" points=\"5829.1385,-664.5 5829.1385,-710.5 \" stroke=\"#000000\"/>\n",
       "<text fill=\"#000000\" font-family=\"Times,serif\" font-size=\"14.00\" text-anchor=\"middle\" x=\"6216.1385\" y=\"-695.3\">[(None, 60, 512), (None, 60, 512), (None, 60, 512), (None, 60, 512), (None, 60, 512), (None, 60, 512), (None, 60, 512), (None, 60, 512)]</text>\n",
       "<polyline fill=\"none\" points=\"5829.1385,-687.5 6603.1385,-687.5 \" stroke=\"#000000\"/>\n",
       "<text fill=\"#000000\" font-family=\"Times,serif\" font-size=\"14.00\" text-anchor=\"middle\" x=\"6216.1385\" y=\"-672.3\">(None, 60, 4096)</text>\n",
       "</g>\n",
       "<!-- 140226829542096&#45;&gt;140226812610256 -->\n",
       "<g class=\"edge\" id=\"edge188\">\n",
       "<title>140226829542096-&gt;140226812610256</title>\n",
       "<path d=\"M7697.637,-759.9404C7613.964,-755.8289 7517.0377,-751.1238 7429.1385,-747 7159.8544,-734.3666 6859.7122,-720.8242 6613.4661,-709.8556\" fill=\"none\" stroke=\"#000000\"/>\n",
       "<polygon fill=\"#000000\" points=\"6613.4033,-706.3494 6603.2574,-709.401 6613.0918,-713.3425 6613.4033,-706.3494\" stroke=\"#000000\"/>\n",
       "</g>\n",
       "<!-- 140226827464976&#45;&gt;140226812610256 -->\n",
       "<g class=\"edge\" id=\"edge189\">\n",
       "<title>140226827464976-&gt;140226812610256</title>\n",
       "<path d=\"M8439.3348,-760.1226C8345.2064,-755.7287 8233.1697,-750.7662 8132.1385,-747 7614.9363,-727.7198 7023.2702,-710.9534 6613.4292,-700.1766\" fill=\"none\" stroke=\"#000000\"/>\n",
       "<polygon fill=\"#000000\" points=\"6613.2646,-696.6712 6603.1761,-699.9073 6613.0807,-703.6688 6613.2646,-696.6712\" stroke=\"#000000\"/>\n",
       "</g>\n",
       "<!-- 140226827467216&#45;&gt;140226812610256 -->\n",
       "<g class=\"edge\" id=\"edge190\">\n",
       "<title>140226827467216-&gt;140226812610256</title>\n",
       "<path d=\"M4308.8726,-756.7741C4366.3913,-753.3106 4428.6344,-749.7881 4486.1385,-747 4858.4311,-728.9491 5279.09,-713.6507 5598.4351,-703.0879\" fill=\"none\" stroke=\"#000000\"/>\n",
       "<polygon fill=\"#000000\" points=\"5598.9232,-706.5738 5608.8022,-702.7455 5598.6921,-699.5776 5598.9232,-706.5738\" stroke=\"#000000\"/>\n",
       "</g>\n",
       "<!-- 140226823316048&#45;&gt;140226812610256 -->\n",
       "<g class=\"edge\" id=\"edge191\">\n",
       "<title>140226823316048-&gt;140226812610256</title>\n",
       "<path d=\"M4919.9968,-757.8715C5128.635,-745.4934 5451.7665,-726.3226 5708.1059,-711.1145\" fill=\"none\" stroke=\"#000000\"/>\n",
       "<polygon fill=\"#000000\" points=\"5708.5684,-714.5933 5718.3435,-710.5071 5708.1538,-707.6056 5708.5684,-714.5933\" stroke=\"#000000\"/>\n",
       "</g>\n",
       "<!-- 140226821334352&#45;&gt;140226812610256 -->\n",
       "<g class=\"edge\" id=\"edge192\">\n",
       "<title>140226821334352-&gt;140226812610256</title>\n",
       "<path d=\"M5785.9504,-747.4901C5844.1644,-736.5832 5913.8102,-723.5344 5973.2579,-712.3964\" fill=\"none\" stroke=\"#000000\"/>\n",
       "<polygon fill=\"#000000\" points=\"5973.9033,-715.8364 5983.0877,-710.5547 5972.6142,-708.9562 5973.9033,-715.8364\" stroke=\"#000000\"/>\n",
       "</g>\n",
       "<!-- 140226819214928&#45;&gt;140226812610256 -->\n",
       "<g class=\"edge\" id=\"edge193\">\n",
       "<title>140226819214928-&gt;140226812610256</title>\n",
       "<path d=\"M6106.1385,-747.3799C6106.1385,-739.1745 6106.1385,-729.7679 6106.1385,-720.8786\" fill=\"none\" stroke=\"#000000\"/>\n",
       "<polygon fill=\"#000000\" points=\"6109.6386,-720.784 6106.1385,-710.784 6102.6386,-720.784 6109.6386,-720.784\" stroke=\"#000000\"/>\n",
       "</g>\n",
       "<!-- 140226816709264&#45;&gt;140226812610256 -->\n",
       "<g class=\"edge\" id=\"edge194\">\n",
       "<title>140226816709264-&gt;140226812610256</title>\n",
       "<path d=\"M6448.7325,-747.4901C6386.3164,-736.5607 6311.6182,-723.4806 6247.9245,-712.3275\" fill=\"none\" stroke=\"#000000\"/>\n",
       "<polygon fill=\"#000000\" points=\"6248.2539,-708.832 6237.8001,-710.5547 6247.0465,-715.7271 6248.2539,-708.832\" stroke=\"#000000\"/>\n",
       "</g>\n",
       "<!-- 140226814590608&#45;&gt;140226812610256 -->\n",
       "<g class=\"edge\" id=\"edge195\">\n",
       "<title>140226814590608-&gt;140226812610256</title>\n",
       "<path d=\"M6994.5285,-754.4722C6831.8968,-742.212 6605.1061,-725.1152 6421.3781,-711.2647\" fill=\"none\" stroke=\"#000000\"/>\n",
       "<polygon fill=\"#000000\" points=\"6421.5162,-707.7652 6411.2814,-710.5035 6420.99,-714.7454 6421.5162,-707.7652\" stroke=\"#000000\"/>\n",
       "</g>\n",
       "<!-- 140226812610960 -->\n",
       "<g class=\"node\" id=\"node133\">\n",
       "<title>140226812610960</title>\n",
       "<polygon fill=\"none\" points=\"5684.6385,-581.5 5684.6385,-627.5 6059.6385,-627.5 6059.6385,-581.5 5684.6385,-581.5\" stroke=\"#000000\"/>\n",
       "<text fill=\"#000000\" font-family=\"Times,serif\" font-size=\"14.00\" text-anchor=\"middle\" x=\"5789.6385\" y=\"-600.8\">cond_enc_2: CondenseAttention1D</text>\n",
       "<polyline fill=\"none\" points=\"5894.6385,-581.5 5894.6385,-627.5 \" stroke=\"#000000\"/>\n",
       "<text fill=\"#000000\" font-family=\"Times,serif\" font-size=\"14.00\" text-anchor=\"middle\" x=\"5922.1385\" y=\"-612.3\">input:</text>\n",
       "<polyline fill=\"none\" points=\"5894.6385,-604.5 5949.6385,-604.5 \" stroke=\"#000000\"/>\n",
       "<text fill=\"#000000\" font-family=\"Times,serif\" font-size=\"14.00\" text-anchor=\"middle\" x=\"5922.1385\" y=\"-589.3\">output:</text>\n",
       "<polyline fill=\"none\" points=\"5949.6385,-581.5 5949.6385,-627.5 \" stroke=\"#000000\"/>\n",
       "<text fill=\"#000000\" font-family=\"Times,serif\" font-size=\"14.00\" text-anchor=\"middle\" x=\"6004.6385\" y=\"-612.3\">(None, 60, 4096)</text>\n",
       "<polyline fill=\"none\" points=\"5949.6385,-604.5 6059.6385,-604.5 \" stroke=\"#000000\"/>\n",
       "<text fill=\"#000000\" font-family=\"Times,serif\" font-size=\"14.00\" text-anchor=\"middle\" x=\"6004.6385\" y=\"-589.3\">(None, 60, 512)</text>\n",
       "</g>\n",
       "<!-- 140226812610256&#45;&gt;140226812610960 -->\n",
       "<g class=\"edge\" id=\"edge196\">\n",
       "<title>140226812610256-&gt;140226812610960</title>\n",
       "<path d=\"M6041.2672,-664.4901C6011.9758,-654.1004 5977.2052,-641.7672 5946.8308,-630.9934\" fill=\"none\" stroke=\"#000000\"/>\n",
       "<polygon fill=\"#000000\" points=\"5947.7307,-627.599 5937.136,-627.5547 5945.3906,-634.1963 5947.7307,-627.599\" stroke=\"#000000\"/>\n",
       "</g>\n",
       "<!-- 140226812610960&#45;&gt;140226811731152 -->\n",
       "<g class=\"edge\" id=\"edge198\">\n",
       "<title>140226812610960-&gt;140226811731152</title>\n",
       "<path d=\"M5777.3266,-581.4901C5733.1262,-570.7631 5680.3891,-557.9643 5635.001,-546.9491\" fill=\"none\" stroke=\"#000000\"/>\n",
       "<polygon fill=\"#000000\" points=\"5635.6782,-543.5119 5625.1348,-544.5547 5634.0273,-550.3144 5635.6782,-543.5119\" stroke=\"#000000\"/>\n",
       "</g>\n",
       "<!-- 140226811729040 -->\n",
       "<g class=\"node\" id=\"node135\">\n",
       "<title>140226811729040</title>\n",
       "<polygon fill=\"none\" points=\"5317.6385,-415.5 5317.6385,-461.5 5742.6385,-461.5 5742.6385,-415.5 5317.6385,-415.5\" stroke=\"#000000\"/>\n",
       "<text fill=\"#000000\" font-family=\"Times,serif\" font-size=\"14.00\" text-anchor=\"middle\" x=\"5450.6385\" y=\"-434.8\">batch_normalization_50: BatchNormalization</text>\n",
       "<polyline fill=\"none\" points=\"5583.6385,-415.5 5583.6385,-461.5 \" stroke=\"#000000\"/>\n",
       "<text fill=\"#000000\" font-family=\"Times,serif\" font-size=\"14.00\" text-anchor=\"middle\" x=\"5611.1385\" y=\"-446.3\">input:</text>\n",
       "<polyline fill=\"none\" points=\"5583.6385,-438.5 5638.6385,-438.5 \" stroke=\"#000000\"/>\n",
       "<text fill=\"#000000\" font-family=\"Times,serif\" font-size=\"14.00\" text-anchor=\"middle\" x=\"5611.1385\" y=\"-423.3\">output:</text>\n",
       "<polyline fill=\"none\" points=\"5638.6385,-415.5 5638.6385,-461.5 \" stroke=\"#000000\"/>\n",
       "<text fill=\"#000000\" font-family=\"Times,serif\" font-size=\"14.00\" text-anchor=\"middle\" x=\"5690.6385\" y=\"-446.3\">(None, 60, 512)</text>\n",
       "<polyline fill=\"none\" points=\"5638.6385,-438.5 5742.6385,-438.5 \" stroke=\"#000000\"/>\n",
       "<text fill=\"#000000\" font-family=\"Times,serif\" font-size=\"14.00\" text-anchor=\"middle\" x=\"5690.6385\" y=\"-423.3\">(None, 60, 512)</text>\n",
       "</g>\n",
       "<!-- 140226811731152&#45;&gt;140226811729040 -->\n",
       "<g class=\"edge\" id=\"edge199\">\n",
       "<title>140226811731152-&gt;140226811729040</title>\n",
       "<path d=\"M5530.1385,-498.3799C5530.1385,-490.1745 5530.1385,-480.7679 5530.1385,-471.8786\" fill=\"none\" stroke=\"#000000\"/>\n",
       "<polygon fill=\"#000000\" points=\"5533.6386,-471.784 5530.1385,-461.784 5526.6386,-471.784 5533.6386,-471.784\" stroke=\"#000000\"/>\n",
       "</g>\n",
       "<!-- 140226810464144 -->\n",
       "<g class=\"node\" id=\"node136\">\n",
       "<title>140226810464144</title>\n",
       "<polygon fill=\"none\" points=\"5423.6385,-332.5 5423.6385,-378.5 5908.6385,-378.5 5908.6385,-332.5 5423.6385,-332.5\" stroke=\"#000000\"/>\n",
       "<text fill=\"#000000\" font-family=\"Times,serif\" font-size=\"14.00\" text-anchor=\"middle\" x=\"5586.6385\" y=\"-351.8\">time_distributed_2(dense_140): TimeDistributed(Dense)</text>\n",
       "<polyline fill=\"none\" points=\"5749.6385,-332.5 5749.6385,-378.5 \" stroke=\"#000000\"/>\n",
       "<text fill=\"#000000\" font-family=\"Times,serif\" font-size=\"14.00\" text-anchor=\"middle\" x=\"5777.1385\" y=\"-363.3\">input:</text>\n",
       "<polyline fill=\"none\" points=\"5749.6385,-355.5 5804.6385,-355.5 \" stroke=\"#000000\"/>\n",
       "<text fill=\"#000000\" font-family=\"Times,serif\" font-size=\"14.00\" text-anchor=\"middle\" x=\"5777.1385\" y=\"-340.3\">output:</text>\n",
       "<polyline fill=\"none\" points=\"5804.6385,-332.5 5804.6385,-378.5 \" stroke=\"#000000\"/>\n",
       "<text fill=\"#000000\" font-family=\"Times,serif\" font-size=\"14.00\" text-anchor=\"middle\" x=\"5856.6385\" y=\"-363.3\">(None, 60, 512)</text>\n",
       "<polyline fill=\"none\" points=\"5804.6385,-355.5 5908.6385,-355.5 \" stroke=\"#000000\"/>\n",
       "<text fill=\"#000000\" font-family=\"Times,serif\" font-size=\"14.00\" text-anchor=\"middle\" x=\"5856.6385\" y=\"-340.3\">(None, 60, 512)</text>\n",
       "</g>\n",
       "<!-- 140226811729040&#45;&gt;140226810464144 -->\n",
       "<g class=\"edge\" id=\"edge200\">\n",
       "<title>140226811729040-&gt;140226810464144</title>\n",
       "<path d=\"M5568.0221,-415.3799C5583.9513,-405.6583 5602.6437,-394.2505 5619.4156,-384.0147\" fill=\"none\" stroke=\"#000000\"/>\n",
       "<polygon fill=\"#000000\" points=\"5621.2738,-386.9811 5627.9864,-378.784 5617.6272,-381.0059 5621.2738,-386.9811\" stroke=\"#000000\"/>\n",
       "</g>\n",
       "<!-- 140226810361296 -->\n",
       "<g class=\"node\" id=\"node137\">\n",
       "<title>140226810361296</title>\n",
       "<polygon fill=\"none\" points=\"5291.6385,-249.5 5291.6385,-295.5 5768.6385,-295.5 5768.6385,-249.5 5291.6385,-249.5\" stroke=\"#000000\"/>\n",
       "<text fill=\"#000000\" font-family=\"Times,serif\" font-size=\"14.00\" text-anchor=\"middle\" x=\"5399.1385\" y=\"-268.8\">res_comb_NA_2: ResidualCombine</text>\n",
       "<polyline fill=\"none\" points=\"5506.6385,-249.5 5506.6385,-295.5 \" stroke=\"#000000\"/>\n",
       "<text fill=\"#000000\" font-family=\"Times,serif\" font-size=\"14.00\" text-anchor=\"middle\" x=\"5534.1385\" y=\"-280.3\">input:</text>\n",
       "<polyline fill=\"none\" points=\"5506.6385,-272.5 5561.6385,-272.5 \" stroke=\"#000000\"/>\n",
       "<text fill=\"#000000\" font-family=\"Times,serif\" font-size=\"14.00\" text-anchor=\"middle\" x=\"5534.1385\" y=\"-257.3\">output:</text>\n",
       "<polyline fill=\"none\" points=\"5561.6385,-249.5 5561.6385,-295.5 \" stroke=\"#000000\"/>\n",
       "<text fill=\"#000000\" font-family=\"Times,serif\" font-size=\"14.00\" text-anchor=\"middle\" x=\"5665.1385\" y=\"-280.3\">[(None, 60, 512), (None, 60, 512)]</text>\n",
       "<polyline fill=\"none\" points=\"5561.6385,-272.5 5768.6385,-272.5 \" stroke=\"#000000\"/>\n",
       "<text fill=\"#000000\" font-family=\"Times,serif\" font-size=\"14.00\" text-anchor=\"middle\" x=\"5665.1385\" y=\"-257.3\">[(None, 60, 512), (1, 1), (1, 1)]</text>\n",
       "</g>\n",
       "<!-- 140226811729040&#45;&gt;140226810361296 -->\n",
       "<g class=\"edge\" id=\"edge201\">\n",
       "<title>140226811729040-&gt;140226810361296</title>\n",
       "<path d=\"M5456.5553,-415.3861C5440.1495,-406.6536 5424.7792,-394.8426 5415.1385,-379 5404.2796,-361.1554 5404.2796,-349.8446 5415.1385,-332 5423.0469,-319.0041 5434.8108,-308.7211 5447.8391,-300.625\" fill=\"none\" stroke=\"#000000\"/>\n",
       "<polygon fill=\"#000000\" points=\"5449.6303,-303.6324 5456.5553,-295.6139 5446.1414,-297.5639 5449.6303,-303.6324\" stroke=\"#000000\"/>\n",
       "</g>\n",
       "<!-- 140226810464144&#45;&gt;140226810361296 -->\n",
       "<g class=\"edge\" id=\"edge202\">\n",
       "<title>140226810464144-&gt;140226810361296</title>\n",
       "<path d=\"M5628.2549,-332.3799C5612.3257,-322.6583 5593.6333,-311.2505 5576.8614,-301.0147\" fill=\"none\" stroke=\"#000000\"/>\n",
       "<polygon fill=\"#000000\" points=\"5578.6499,-298.0059 5568.2906,-295.784 5575.0032,-303.9811 5578.6499,-298.0059\" stroke=\"#000000\"/>\n",
       "</g>\n",
       "<!-- 140226810360912 -->\n",
       "<g class=\"node\" id=\"node138\">\n",
       "<title>140226810360912</title>\n",
       "<polygon fill=\"none\" points=\"5317.6385,-166.5 5317.6385,-212.5 5742.6385,-212.5 5742.6385,-166.5 5317.6385,-166.5\" stroke=\"#000000\"/>\n",
       "<text fill=\"#000000\" font-family=\"Times,serif\" font-size=\"14.00\" text-anchor=\"middle\" x=\"5450.6385\" y=\"-185.8\">batch_normalization_51: BatchNormalization</text>\n",
       "<polyline fill=\"none\" points=\"5583.6385,-166.5 5583.6385,-212.5 \" stroke=\"#000000\"/>\n",
       "<text fill=\"#000000\" font-family=\"Times,serif\" font-size=\"14.00\" text-anchor=\"middle\" x=\"5611.1385\" y=\"-197.3\">input:</text>\n",
       "<polyline fill=\"none\" points=\"5583.6385,-189.5 5638.6385,-189.5 \" stroke=\"#000000\"/>\n",
       "<text fill=\"#000000\" font-family=\"Times,serif\" font-size=\"14.00\" text-anchor=\"middle\" x=\"5611.1385\" y=\"-174.3\">output:</text>\n",
       "<polyline fill=\"none\" points=\"5638.6385,-166.5 5638.6385,-212.5 \" stroke=\"#000000\"/>\n",
       "<text fill=\"#000000\" font-family=\"Times,serif\" font-size=\"14.00\" text-anchor=\"middle\" x=\"5690.6385\" y=\"-197.3\">(None, 60, 512)</text>\n",
       "<polyline fill=\"none\" points=\"5638.6385,-189.5 5742.6385,-189.5 \" stroke=\"#000000\"/>\n",
       "<text fill=\"#000000\" font-family=\"Times,serif\" font-size=\"14.00\" text-anchor=\"middle\" x=\"5690.6385\" y=\"-174.3\">(None, 60, 512)</text>\n",
       "</g>\n",
       "<!-- 140226810361296&#45;&gt;140226810360912 -->\n",
       "<g class=\"edge\" id=\"edge203\">\n",
       "<title>140226810361296-&gt;140226810360912</title>\n",
       "<path d=\"M5530.1385,-249.3799C5530.1385,-241.1745 5530.1385,-231.7679 5530.1385,-222.8786\" fill=\"none\" stroke=\"#000000\"/>\n",
       "<polygon fill=\"#000000\" points=\"5533.6386,-222.784 5530.1385,-212.784 5526.6386,-222.784 5533.6386,-222.784\" stroke=\"#000000\"/>\n",
       "</g>\n",
       "<!-- 140226821333520 -->\n",
       "<g class=\"node\" id=\"node139\">\n",
       "<title>140226821333520</title>\n",
       "<polygon fill=\"none\" points=\"5386.1385,-83.5 5386.1385,-129.5 5674.1385,-129.5 5674.1385,-83.5 5386.1385,-83.5\" stroke=\"#000000\"/>\n",
       "<text fill=\"#000000\" font-family=\"Times,serif\" font-size=\"14.00\" text-anchor=\"middle\" x=\"5444.1385\" y=\"-102.8\">dense_143: Dense</text>\n",
       "<polyline fill=\"none\" points=\"5502.1385,-83.5 5502.1385,-129.5 \" stroke=\"#000000\"/>\n",
       "<text fill=\"#000000\" font-family=\"Times,serif\" font-size=\"14.00\" text-anchor=\"middle\" x=\"5529.6385\" y=\"-114.3\">input:</text>\n",
       "<polyline fill=\"none\" points=\"5502.1385,-106.5 5557.1385,-106.5 \" stroke=\"#000000\"/>\n",
       "<text fill=\"#000000\" font-family=\"Times,serif\" font-size=\"14.00\" text-anchor=\"middle\" x=\"5529.6385\" y=\"-91.3\">output:</text>\n",
       "<polyline fill=\"none\" points=\"5557.1385,-83.5 5557.1385,-129.5 \" stroke=\"#000000\"/>\n",
       "<text fill=\"#000000\" font-family=\"Times,serif\" font-size=\"14.00\" text-anchor=\"middle\" x=\"5615.6385\" y=\"-114.3\">(None, 60, 512)</text>\n",
       "<polyline fill=\"none\" points=\"5557.1385,-106.5 5674.1385,-106.5 \" stroke=\"#000000\"/>\n",
       "<text fill=\"#000000\" font-family=\"Times,serif\" font-size=\"14.00\" text-anchor=\"middle\" x=\"5615.6385\" y=\"-91.3\">(None, 60, 20795)</text>\n",
       "</g>\n",
       "<!-- 140226810360912&#45;&gt;140226821333520 -->\n",
       "<g class=\"edge\" id=\"edge204\">\n",
       "<title>140226810360912-&gt;140226821333520</title>\n",
       "<path d=\"M5530.1385,-166.3799C5530.1385,-158.1745 5530.1385,-148.7679 5530.1385,-139.8786\" fill=\"none\" stroke=\"#000000\"/>\n",
       "<polygon fill=\"#000000\" points=\"5533.6386,-139.784 5530.1385,-129.784 5526.6386,-139.784 5533.6386,-139.784\" stroke=\"#000000\"/>\n",
       "</g>\n",
       "<!-- 140226810103568 -->\n",
       "<g class=\"node\" id=\"node140\">\n",
       "<title>140226810103568</title>\n",
       "<polygon fill=\"none\" points=\"5363.6385,-.5 5363.6385,-46.5 5696.6385,-46.5 5696.6385,-.5 5363.6385,-.5\" stroke=\"#000000\"/>\n",
       "<text fill=\"#000000\" font-family=\"Times,serif\" font-size=\"14.00\" text-anchor=\"middle\" x=\"5444.1385\" y=\"-19.8\">activation_157: Activation</text>\n",
       "<polyline fill=\"none\" points=\"5524.6385,-.5 5524.6385,-46.5 \" stroke=\"#000000\"/>\n",
       "<text fill=\"#000000\" font-family=\"Times,serif\" font-size=\"14.00\" text-anchor=\"middle\" x=\"5552.1385\" y=\"-31.3\">input:</text>\n",
       "<polyline fill=\"none\" points=\"5524.6385,-23.5 5579.6385,-23.5 \" stroke=\"#000000\"/>\n",
       "<text fill=\"#000000\" font-family=\"Times,serif\" font-size=\"14.00\" text-anchor=\"middle\" x=\"5552.1385\" y=\"-8.3\">output:</text>\n",
       "<polyline fill=\"none\" points=\"5579.6385,-.5 5579.6385,-46.5 \" stroke=\"#000000\"/>\n",
       "<text fill=\"#000000\" font-family=\"Times,serif\" font-size=\"14.00\" text-anchor=\"middle\" x=\"5638.1385\" y=\"-31.3\">(None, 60, 20795)</text>\n",
       "<polyline fill=\"none\" points=\"5579.6385,-23.5 5696.6385,-23.5 \" stroke=\"#000000\"/>\n",
       "<text fill=\"#000000\" font-family=\"Times,serif\" font-size=\"14.00\" text-anchor=\"middle\" x=\"5638.1385\" y=\"-8.3\">(None, 60, 20795)</text>\n",
       "</g>\n",
       "<!-- 140226821333520&#45;&gt;140226810103568 -->\n",
       "<g class=\"edge\" id=\"edge205\">\n",
       "<title>140226821333520-&gt;140226810103568</title>\n",
       "<path d=\"M5530.1385,-83.3799C5530.1385,-75.1745 5530.1385,-65.7679 5530.1385,-56.8786\" fill=\"none\" stroke=\"#000000\"/>\n",
       "<polygon fill=\"#000000\" points=\"5533.6386,-56.784 5530.1385,-46.784 5526.6386,-56.784 5533.6386,-56.784\" stroke=\"#000000\"/>\n",
       "</g>\n",
       "</g>\n",
       "</svg>"
      ],
      "text/plain": [
       "<IPython.core.display.SVG object>"
      ]
     },
     "execution_count": 25,
     "metadata": {},
     "output_type": "execute_result"
    }
   ],
   "source": [
    "SVG(model_to_dot(imgNet, show_layer_names=True, show_shapes=True,dpi=60).create(prog='dot', format='svg'))"
   ]
  },
  {
   "cell_type": "code",
   "execution_count": 26,
   "metadata": {},
   "outputs": [],
   "source": [
    "# bottleneck_units = 512\n",
    "# def getTextNet():\n",
    "#     words_input = kl.Input(shape=(max_wlen,),name='words_input')\n",
    "#     padding_masks = kl.Input(shape=(max_wlen,1),name='padding_masks')\n",
    "#     emb = kl.Embedding(vocab_size+1, embedding_size, mask_zero=False, name='w2v_emb')(words_input)\n",
    "# #     lstm = kl.LSTM(512,activation='relu',return_sequences=True,name='lstm_emb')(emb)\n",
    "# #     emb = kl.Conv1D(name='c1',filters=bottleneck_units,activation='relu',strides=1,kernel_size=1,padding='same')(emb)\n",
    "# # #     c2 = kl.Conv1D(name='c2',filters=bottleneck_units,activation='relu',strides=1,kernel_size=3,dilation_rate=2,padding='same')(emb)\n",
    "# # # #     c3 = kl.Conv1D(embedding_size,activation='relu',strides=1,kernel_size=5,padding='same')(emb)\n",
    "# # # #     c4 = kl.Conv1D(embedding_size,activation='relu',strides=1,kernel_size=5,dilation_rate=2,padding='same')(emb)\n",
    "# # # #     c5 = kl.Conv1D(embedding_size,activation='relu',strides=1,kernel_size=7,padding='same')(emb)\n",
    "# # # #     c6 = kl.Conv1D(embedding_size,activation='relu',strides=1,kernel_size=7,dilation_rate=2,padding='same')(emb)\n",
    "# # #     emb = kl.Concatenate(axis=-1)([c1,c2])\n",
    "# # #     emb = kl.Conv1D(bottleneck_units,activation='relu',strides=1,kernel_size=1,padding='same')(emb)\n",
    "# # #     emb = kl.BatchNormalization(name='emb_bn')(emb)\n",
    "# # #     print(emb)\n",
    "#     sa1 = multiheadSelfAttention(prev_layer=emb,padding_masks=padding_masks,layer_number=1,heads=8)\n",
    "#     sa_ff1 = feedforwardsa(sa_layer=sa1,layer_before_sa=emb,layer_number=1,method='add',out_channels=int(emb.shape[-1]))\n",
    "# # #     print(sa_ff1)\n",
    "#     sa2 = multiheadSelfAttention(prev_layer=sa_ff1,padding_masks=padding_masks,layer_number=2,heads=8)\n",
    "#     sa_ff2 = feedforwardsa(sa_layer=sa2,layer_before_sa=sa_ff1,layer_number=2,method='add',out_channels=int(sa_ff1.shape[-1]))\n",
    "# # #     print(sa_ff2)\n",
    "# #     sa3 = multiheadSelfAttention(prev_layer=sa_ff2,padding_masks=None,layer_number=3,heads=2)\n",
    "# #     sa_ff3 = feedforwardsa(sa_layer=sa3,layer_before_sa=sa_ff2,layer_number=3,method='add',out_channels=int(sa_ff2.shape[-1]))\n",
    "# # #     print(sa_ff3)\n",
    "# #     sa4 = multiheadSelfAttention(prev_layer=sa_ff3,padding_masks=None,layer_number=4,heads=2)\n",
    "# #     sa_ff4 = feedforwardsa(sa_layer=sa4,layer_before_sa=sa_ff3,layer_number=4,method='add',out_channels=int(sa_ff3.shape[-1]))\n",
    "# #     print(sa_ff4)\n",
    "# #     context_vector = kl.GlobalAveragePooling1D(name='gap')(sa_ff)\n",
    "\n",
    "# #     a = multiheadAttention(prev_layer=sa_ff,context_vector=context_vector,layer_number=1,heads=8)\n",
    "# #     a_ff = feedforwarda(a_layer=a,context_vector=context_vector,out_channels=int(emb.shape[-1]),layer_number=1,method='add')\n",
    "# #     output = kl.LSTM(512,activation='relu',return_sequences=False,name='lstm_output')(sa_ff1)\n",
    "# #     output = kl.LSTM(bottleneck_units,return_sequences=True,recurrent_activation='relu')(sa_ff2)\n",
    "#     output = kl.TimeDistributed(kl.Dense(bottleneck_units,activation='relu'))(sa_ff2)\n",
    "# #     output = kl.Activation('relu')(output)\n",
    "#     return Model([words_input,padding_masks],output,name='textModel')"
   ]
  },
  {
   "cell_type": "code",
   "execution_count": 27,
   "metadata": {},
   "outputs": [],
   "source": [
    "# textNet = None"
   ]
  },
  {
   "cell_type": "code",
   "execution_count": 28,
   "metadata": {
    "scrolled": true
   },
   "outputs": [],
   "source": [
    "# words_input = kl.Input(shape=(max_wlen,300),name='words_input')\n",
    "# n = Dense(10,activation='relu')(words_input)\n",
    "# print(n)\n",
    "# g1 = Dense(1,activation='tanh')\n",
    "# x = K.expand_dims(axis=-1,x=words_input)\n",
    "# print(x)\n",
    "# g1_out = g1(x)\n",
    "# print(g1_out)\n",
    "# # print(g1.get_weights()[0][0])\n",
    "# # g1_weight = K.tf.convert_to_tensor(g1.get_weights()[0][0])\n",
    "# # print(tuple(g1_weight.shape.as_list()))\n"
   ]
  },
  {
   "cell_type": "code",
   "execution_count": null,
   "metadata": {},
   "outputs": [],
   "source": []
  },
  {
   "cell_type": "code",
   "execution_count": 29,
   "metadata": {
    "scrolled": true
   },
   "outputs": [],
   "source": [
    "# textNet = getTextNet()\n",
    "# textNet.summary()"
   ]
  },
  {
   "cell_type": "code",
   "execution_count": 30,
   "metadata": {
    "scrolled": true
   },
   "outputs": [],
   "source": [
    "# SVG(model_to_dot(textNet, show_layer_names=True, show_shapes=True,dpi=60).create(prog='dot', format='svg'))"
   ]
  },
  {
   "cell_type": "markdown",
   "metadata": {},
   "source": [
    "# Define Complete Joint Network"
   ]
  },
  {
   "cell_type": "code",
   "execution_count": 31,
   "metadata": {
    "scrolled": true
   },
   "outputs": [],
   "source": [
    "# image_dropout_rate = 0.3\n",
    "# image_input = kl.Input(shape=(256,256,3),name='image_input')\n",
    "# image_features = imgNet(image_input)\n",
    "# image_features = kl.Dropout(image_dropout_rate)(image_features)\n",
    "\n",
    "# text_dropout_rate = 0.1\n",
    "# padding_masks = kl.Input(shape=(max_wlen,1),name='padding_masks')\n",
    "# words_input = kl.Input(shape=(max_wlen,),name='words_input')\n",
    "# text_features = textNet([words_input,padding_masks])\n",
    "# # text_features = kl.Dropout(text_dropout_rate)(text_features)\n",
    "# print(image_features.shape)\n",
    "# print(text_features.shape)"
   ]
  },
  {
   "cell_type": "code",
   "execution_count": 32,
   "metadata": {},
   "outputs": [],
   "source": [
    "# img_feats = kl.GlobalAveragePooling2D(name='img_global_pool')(image_features)\n",
    "# txt_feats = kl.GlobalAveragePooling1D(name='text_global_pool')(text_features)"
   ]
  },
  {
   "cell_type": "code",
   "execution_count": 33,
   "metadata": {},
   "outputs": [],
   "source": [
    "# def multiheadImg2TextCA(tf=None,imf=None,padding_masks=None,layer_number=0,heads=8):\n",
    "#     ca_arr = []\n",
    "#     for head in range(heads):\n",
    "#         ca,beta_im = AM.Img2TextCA(text_ch=int(tf.shape[-1]),img_ch=int(imf.shape[-1]),name='img2text_{0}{1}'.format(layer_number,head))([imf,tf,padding_masks])\n",
    "#         ca = kl.BatchNormalization()(ca)\n",
    "#         ca_arr.append(ca)\n",
    "#     return ca_arr\n",
    "# def feedforwardImg2TextCA(ca_layer=None,imf=None,out_channels=512,layer_number=0,method='add'):\n",
    "#     x = kl.Concatenate(name='img2text_concat_{0}'.format(layer_number))(ca_layer)\n",
    "#     x = AM.CondenseAttention2D(ch_in=int(x.shape[-1]),name='condense_Img2Text_2D_{0}'.format(layer_number),ch_out=out_channels)(x)\n",
    "#     x, g1, g2 = AM.ResidualCombine(method=method\n",
    "#                                    ,name='residual_combine_img2text_{0}'.format(layer_number))([imf, x])\n",
    "#     x = kl.BatchNormalization()(x)\n",
    "#     return x\n",
    "\n",
    "# ###########################################################################################################\n",
    "# def multiheadText2ImgCA(tf=None,imf=None,padding_masks=None,layer_number=0,heads=8):\n",
    "#     ca_arr = []\n",
    "#     for head in range(heads):\n",
    "#         tx,q,k,v,s,scores,beta,o = AM.Text2ImgCA(text_ch=int(tf.shape[-1]),img_ch=int(imf.shape[-1]),name='text2img_{0}{1}'.format(layer_number,head))([tf,imf,padding_masks])\n",
    "#         ca = kl.BatchNormalization()(o)\n",
    "#         ca_arr.append(ca)\n",
    "#     return ca_arr\n",
    "# def feedforwardText2ImgCA(ca_layer=None,tf=None,out_channels=512,layer_number=0,method='add'):\n",
    "#     assert tf!=None\n",
    "#     x = kl.Concatenate(name='text2img_concat_{0}'.format(layer_number))(ca_layer)\n",
    "#     x = AM.CondenseAttention1D(ch_in=int(x.shape[-1]),name='condense_Text2Img_1D_{0}'.format(layer_number),ch_out=out_channels)(x)\n",
    "#     x, g1, g2 = AM.ResidualCombine(method=method\n",
    "#                                    ,name='residual_combine_text2img_{0}'.format(layer_number))([tf, x])\n",
    "#     x = kl.BatchNormalization()(x)\n",
    "#     return x"
   ]
  },
  {
   "cell_type": "code",
   "execution_count": 34,
   "metadata": {},
   "outputs": [],
   "source": [
    "# i2t returns text features which are pertinent to the image sections\n",
    "# i2t = multiheadImg2TextCA(tf=text_features,imf=image_features,padding_masks=padding_masks,layer_number=1)\n",
    "\n",
    "# # so we combine it with the existing image features\n",
    "# i2t_comb = feedforwardImg2TextCA(ca_layer=i2t,imf=image_features,out_channels=512,layer_number=1,method='add')\n",
    "# img2text_pool = kl.GlobalAveragePooling2D(name='img2text_global_pool')(i2t_comb)\n"
   ]
  },
  {
   "cell_type": "code",
   "execution_count": 35,
   "metadata": {},
   "outputs": [],
   "source": [
    "# # t2i returns image features which are pertinent to the textual words\n",
    "# t2i = multiheadText2ImgCA(tf=text_features,imf=image_features,padding_masks=padding_masks,layer_number=1)\n",
    "\n",
    "# # so we combine it with the existing textual words\n",
    "# t2i_comb = feedforwardText2ImgCA(ca_layer=t2i,tf=text_features,out_channels=512,layer_number=1,method='add')\n",
    "# text2img_pool = kl.GlobalAveragePooling1D(name='text2img_global_pool')(t2i_comb)"
   ]
  },
  {
   "cell_type": "code",
   "execution_count": 36,
   "metadata": {},
   "outputs": [],
   "source": [
    "# a_out_1,beta_1 = AM.Text2ImgCA(text_ch=int(text_features.shape[-1]),img_ch=int(image_features.shape[-1]),name='text2img_1')([text_features,image_features,padding_masks])\n",
    "# # a_out_1 = kl.BatchNormalization()(a_out_1)\n",
    "# # a_out_1 = kl.ELU(alpha=elu_alpha)(a_out_1)\n",
    "# # print(a_out_1.shape)\n",
    "# a_out_2,beta_2 = AM.Text2ImgCA(text_ch=int(text_features.shape[-1]),img_ch=int(image_features.shape[-1]),name='text2img_2')([text_features,image_features,padding_masks])\n",
    "# # a_out_2 = kl.BatchNormalization()(a_out_2)\n",
    "# # a_out_2 = kl.ELU(alpha=elu_alpha)(a_out_2)\n",
    "# # print(a_out_2.shape)\n",
    "# a_out_3,beta_3 = AM.Text2ImgCA(text_ch=int(text_features.shape[-1]),img_ch=int(image_features.shape[-1]),name='text2img_3')([text_features,image_features,padding_masks])\n",
    "# # a_out_3 = kl.BatchNormalization()(a_out_3)\n",
    "# # a_out_3 = kl.ELU(alpha=elu_alpha)(a_out_3)\n",
    "# # print(a_out_3.shape)\n",
    "# a_out_4,beta_4 = AM.Text2ImgCA(text_ch=int(text_features.shape[-1]),img_ch=int(image_features.shape[-1]),name='text2img_4')([text_features,image_features,padding_masks])\n",
    "# # a_out_4 = kl.BatchNormalization()(a_out_4)\n",
    "# # a_out_4 = kl.ELU(alpha=elu_alpha)(a_out_4)\n",
    "# # print(a_out_4.shape)\n",
    "# a_conc_text = kl.Concatenate(name='text2img_concat')([a_out_1,a_out_2,a_out_3,a_out_4])\n",
    "\n",
    "# text2img_condense = AM.CondenseAttention1D(ch_in=int(a_conc_text.shape[-1]),ch_out=512)(a_conc_text)\n",
    "# text2img_comb, xt2ig1, xt2ig2 = AM.ResidualCombine()([text_features, text2img_condense])\n",
    "# text2img_comb = kl.ELU(alpha=elu_alpha)(text2img_comb)\n",
    "# text2img_comb = kl.Conv1D(filters=bottleneck_units,kernel_size=1,strides=1,padding='same')(text2img_comb)\n",
    "# text2img_comb = kl.BatchNormalization()(text2img_comb)\n",
    "# text2img_comb = kl.Dropout(dropout_rate)(text2img_comb)\n",
    "# text2img_pool = kl.GlobalAveragePooling1D(name='text2img_global_pool')(text_features)\n",
    "# text2img_pool = text_features"
   ]
  },
  {
   "cell_type": "code",
   "execution_count": 37,
   "metadata": {
    "scrolled": true
   },
   "outputs": [],
   "source": [
    "# dropout_rate = 0.3\n",
    "# # all_concat = kl.Concatenate()([img2text_pool,text2img_pool])\n",
    "\n",
    "# # branch 1\n",
    "# cross_pool = kl.Dense(1024)(text2img_pool)\n",
    "# cross_pool = kl.Activation('relu')(cross_pool)\n",
    "# # cross_pool = kl.Dense(512,activation='relu')(cross_pool)\n",
    "# # cross_pool = kl.Dropout(dropout_rate)(cross_pool)\n",
    "# target1 = kl.Dense(vocab_size+1)(cross_pool)\n",
    "# target1 = kl.Activation('tanh',name='cross_pool_target_word')(target1)\n",
    "\n",
    "# # branch 2\n",
    "# img_text_concat = kl.Concatenate()([img_feats,txt_feats])\n",
    "# pool = kl.Dense(1024)(img_text_concat)\n",
    "# pool = kl.Activation('relu')(pool)\n",
    "# # cross_pool = kl.Dense(512,activation='relu')(cross_pool)\n",
    "# # cross_pool = kl.Dropout(dropout_rate)(cross_pool)\n",
    "# target2 = kl.Dense(vocab_size+1)(pool)\n",
    "# target2 = kl.Activation('tanh',name='pool_target_word')(target2)\n",
    "\n",
    "# model = Model([image_input,words_input,padding_masks],[target1,target2])\n"
   ]
  },
  {
   "cell_type": "code",
   "execution_count": 38,
   "metadata": {
    "scrolled": true
   },
   "outputs": [],
   "source": [
    "# json_file = open('../model_json/{0}_{1}_text_img_attention.json'.format(img_arch,text_arch), 'r')\n",
    "# loaded_model_json = json_file.read()\n",
    "# json_file.close()\n",
    "# loaded_model = model_from_json(loaded_model_json)"
   ]
  },
  {
   "cell_type": "code",
   "execution_count": 39,
   "metadata": {},
   "outputs": [],
   "source": [
    "# loaded_model_json"
   ]
  },
  {
   "cell_type": "code",
   "execution_count": 40,
   "metadata": {},
   "outputs": [],
   "source": [
    "# loaded_model==model\n",
    "adam = Adam(\n",
    "    lr=lr, beta_1=0.9, beta_2=0.999, epsilon=1e-07, amsgrad=False\n",
    ")"
   ]
  },
  {
   "cell_type": "code",
   "execution_count": 41,
   "metadata": {
    "scrolled": true
   },
   "outputs": [],
   "source": [
    "# l = textNet.get_layer('w2v_emb')\n",
    "# l.set_weights([embedding_matrix])\n",
    "# l.trainable = False\n",
    "# # if not os.path.exists('../checkpoints/{0}.h5'.format(model_name)):\n",
    "# #     print('New model {0}.'.format(model_name))\n",
    "# # else:\n",
    "# #     print('Existing model {0}. trained weights will be loaded'.format(model_name))\n",
    "# #     model.load_weights('../checkpoints/{0}.h5'.format(model_name), skip_mismatch=True, by_name=True)\n",
    "# # l.trainable = True"
   ]
  },
  {
   "cell_type": "code",
   "execution_count": 42,
   "metadata": {},
   "outputs": [],
   "source": [
    "# w_to_co\n",
    "# textNet.load_weights('../checkpoints/irv2_1dcnn_attention_text_module.h5')\n",
    "# imgNet.load_weights('../checkpoints/irv2_1dcnn_attention_img_module.h5')"
   ]
  },
  {
   "cell_type": "code",
   "execution_count": 43,
   "metadata": {
    "scrolled": true
   },
   "outputs": [],
   "source": [
    "loss_function =  tf.keras.losses.SparseCategoricalCrossentropy(from_logits=True)\n",
    "# model.summary()\n",
    "# model.compile(loss=loss_function, optimizer=adam,metrics=['accuracy'])\n",
    "imgNet.compile(loss=loss_function, optimizer=adam,metrics=['accuracy'])\n",
    "# model.load_weights('../checkpoints/{0}.h5'.format(model_name))"
   ]
  },
  {
   "cell_type": "code",
   "execution_count": 44,
   "metadata": {
    "scrolled": true
   },
   "outputs": [],
   "source": [
    "# SVG(model_to_dot(imgNet, show_layer_names=True, show_shapes=True,dpi=60,expand_nested=True).create(prog='dot', format='svg'))\n"
   ]
  },
  {
   "cell_type": "code",
   "execution_count": 45,
   "metadata": {
    "scrolled": true
   },
   "outputs": [],
   "source": [
    "model_json = imgNet.to_json()\n",
    "with open(\"../model_json/imageNet_visual_genome_{0}.json\".format(model_name), \"w\") as json_file:\n",
    "    json_file.write(model_json)\n"
   ]
  },
  {
   "cell_type": "code",
   "execution_count": 46,
   "metadata": {},
   "outputs": [
    {
     "data": {
      "text/plain": [
       "'vgg_img_attention'"
      ]
     },
     "execution_count": 46,
     "metadata": {},
     "output_type": "execute_result"
    }
   ],
   "source": [
    "model_name"
   ]
  },
  {
   "cell_type": "code",
   "execution_count": 47,
   "metadata": {},
   "outputs": [],
   "source": [
    "# im = 1\n",
    "# image = Image.open('../../dataset/train_images/VG_100K/{0}.jpg'.format(im))\n",
    "# image=image.convert('RGB')"
   ]
  },
  {
   "cell_type": "code",
   "execution_count": 48,
   "metadata": {},
   "outputs": [],
   "source": [
    "# img = image.resize((256,256),Image.BICUBIC)\n",
    "# print(np.asarray(img).shape)\n",
    "# plt.imshow(img)"
   ]
  },
  {
   "cell_type": "code",
   "execution_count": 49,
   "metadata": {},
   "outputs": [],
   "source": [
    "def datagen(img_lst,batch_size=4):\n",
    "    counter=0\n",
    "    x_img,x1,x2,y_seq,sents,masks, img_names = [],[],[],[],[],[],[]\n",
    "    idx = 0\n",
    "    while True:\n",
    "        im = img_lst[idx]\n",
    "#         print(im)\n",
    "        image = Image.open('../../dataset/train_images/VG_100K/{0}.jpg'.format(im))\n",
    "        image = image.convert('RGB')\n",
    "        photo = image.resize((256,256),Image.BICUBIC)\n",
    "        photo = np.asarray(photo)/255.0\n",
    "#         print('{0}.jpg -> '.format(im),photo.shape)\n",
    "#         print(merged_ds[merged_ds.filename==im])\n",
    "        sent = merged_ds[merged_ds.ID==im]['Desc'].values[0].lower()\n",
    "        \n",
    "        ts = nlp(sent)\n",
    "#         print(ts)\n",
    "        ts = [str(x) for x in list(ts)]\n",
    "#         print(tss)\n",
    "        ts = ts[:max_wlen-1]\n",
    "        sent_words = ['startseq']\n",
    "        for t in ts:\n",
    "#             print(t)\n",
    "#             t = 'sdadasasdasads'\n",
    "            if (t not in w_to_co.keys()) : #or ('xx' in t):\n",
    "#                 print('not present:',t)\n",
    "                pass\n",
    "            else:\n",
    "                sent_words.append(t)\n",
    "        sent_words.append('endseq')\n",
    "#         print(sent_words)\n",
    "\n",
    "        seq = [w_to_co[x] for x in sent_words]\n",
    "        # split one sequence into multiple X, y pairs\n",
    "#         for i in range(1, len(seq)):\n",
    "            \n",
    "#             in_seq, out_seq = seq[:i], seq[i]\n",
    "# #             print(out_seq)\n",
    "#             in_seq = sequence.pad_sequences([in_seq], maxlen=max_wlen,padding='pre',value=0)[0]\n",
    "#             mask = [1e-2 if x<1 else  1 for x in in_seq]\n",
    "#             mask = np.expand_dims(mask,-1)\n",
    "# #             out_seq = np_utils.to_categorical([out_seq], num_classes=vocab_size+1)[0]\n",
    "#             x1.append(photo)\n",
    "#             img_names.append('{0}.jpg'.format(im))\n",
    "#             x2.append(in_seq)\n",
    "#             masks.append(mask)\n",
    "#             y.append(out_seq)\n",
    "        seq = sequence.pad_sequences([seq], maxlen=max_wlen,padding='pre',value=0)[0]\n",
    "        sents.append(sent)\n",
    "        x_img.append(photo)\n",
    "        y_seq.append(seq)\n",
    "        img_names.append('{0}.jpg'.format(im))\n",
    "        counter+=1\n",
    "        idx+=1\n",
    "#         print(idx)\n",
    "        if idx==len(img_lst):\n",
    "            idx=0\n",
    "        if counter==batch_size:\n",
    "            counter=0\n",
    "            inputs = {'image_input': np.array(x_img)\n",
    "                      ,'image_names':np.array(img_names)\n",
    "                     }\n",
    "            outputs = {'target_words':np.expand_dims(np.array(y_seq),-1),\n",
    "                      'actual_sentence':np.array(sents)}\n",
    "            yield inputs, outputs\n",
    "            x_img,x1,x2,y_seq,sents,masks,img_names = [],[],[],[],[],[],[]"
   ]
  },
  {
   "cell_type": "code",
   "execution_count": 50,
   "metadata": {},
   "outputs": [
    {
     "name": "stdout",
     "output_type": "stream",
     "text": [
      "train: 35000 + val: 10000 + test: 5000  =  50000\n"
     ]
    }
   ],
   "source": [
    "\n",
    "\n",
    "with open('../../dataset/descriptions/visual_genome_train_images.p', 'rb') as filehandle:\n",
    "    # read the data as binary data stream\n",
    "    train_images_list = pickle.load(filehandle)\n",
    "with open('../../dataset/descriptions/visual_genome_val_images.p', 'rb') as filehandle:\n",
    "    # read the data as binary data stream\n",
    "    val_images_list = pickle.load(filehandle)\n",
    "with open('../../dataset/descriptions/visual_genome_test_images.p', 'rb') as filehandle:\n",
    "    # read the data as binary data stream\n",
    "    test_images_list = pickle.load(filehandle)\n",
    "# train_images_list=list(train_images_list)+list(val_images_list)\n",
    "print('train:',len(train_images_list),\n",
    "      '+ val:',len(val_images_list),\n",
    "      '+ test:',len(test_images_list),\n",
    "      ' = ',(len(train_images_list)+len(val_images_list)+len(test_images_list)))\n",
    "train_batch_size = 64\n",
    "val_batch_size = 64\n",
    "test_batch_size = 1\n",
    "train_gen = datagen(train_images_list,batch_size=train_batch_size)\n",
    "val_gen = datagen(val_images_list,batch_size=val_batch_size)\n",
    "test_gen = datagen(test_images_list,batch_size=test_batch_size)"
   ]
  },
  {
   "cell_type": "code",
   "execution_count": 51,
   "metadata": {},
   "outputs": [],
   "source": [
    "# # test_images_list = merged_ds.filename.values\n",
    "# # test_images_list = list(test_images_list)\n",
    "# # for x in train_images_list:\n",
    "# #     test_images_list.remove(x)\n",
    "# # for x in val_images_list:\n",
    "# #     test_images_list.remove(x)\n",
    "# # len(test_images_list)\n",
    "# imgs = merged_ds.ID.values\n",
    "# imgs"
   ]
  },
  {
   "cell_type": "code",
   "execution_count": 52,
   "metadata": {},
   "outputs": [],
   "source": [
    "\n",
    "# np.random.shuffle(imgs)\n",
    "\n",
    "# train_images_list = imgs[:int(0.7*len(imgs))]\n",
    "# val_images_list = imgs[int(0.7*len(imgs)):int(0.9*len(imgs))]\n",
    "# test_images_list = imgs[int(0.9*len(imgs)):]\n",
    "# train_images_list.shape,val_images_list.shape,test_images_list.shape\n",
    "# with open('../../dataset/descriptions/visual_genome_train_images.p', 'wb') as file:\n",
    "#     # store the data as binary data stream\n",
    "#     pickle.dump(train_images_list, file)\n",
    "# with open('../../dataset/descriptions/visual_genome_val_images.p', 'wb') as file:\n",
    "#     # store the data as binary data stream\n",
    "#     pickle.dump(val_images_list, file)\n",
    "# with open('../../dataset/descriptions/visual_genome_test_images.p', 'wb') as file:\n",
    "#     # store the data as binary data stream\n",
    "#     pickle.dump(test_images_list, file)\n",
    "# # # tx,ty = next(train_gen)\n",
    "# # # tx['padding_masks'][30].shape"
   ]
  },
  {
   "cell_type": "code",
   "execution_count": 53,
   "metadata": {
    "scrolled": true
   },
   "outputs": [],
   "source": [
    "\n",
    "# display(tx['image_input'].shape\n",
    "#         ,tx['words_input'][30]\n",
    "#         ,tx['padding_masks'][30]\n",
    "#         ,' '.join([co_to_w[x] if x !=0 else '' for x in tx['words_input'][30]])\n",
    "#         ,ty['actual_sentence'][30])\n",
    "# train_images_list=list(train_images_list)+list(val_images_list)"
   ]
  },
  {
   "cell_type": "code",
   "execution_count": 54,
   "metadata": {},
   "outputs": [
    {
     "data": {
      "text/plain": [
       "(5000, 35000)"
      ]
     },
     "execution_count": 54,
     "metadata": {},
     "output_type": "execute_result"
    }
   ],
   "source": [
    "len(test_images_list),len(train_images_list)"
   ]
  },
  {
   "cell_type": "code",
   "execution_count": 55,
   "metadata": {},
   "outputs": [],
   "source": [
    "# # def _ctc_lambda_func(args):\n",
    "# #     labels, y_pred, input_length, label_length = args\n",
    "# #     return K.tf.keras.backend.ctc_batch_cost(labels, y_pred, input_length, label_length)\n",
    "# vggnet.summary()\n",
    "# w_to_co['xxxx']\n",
    "\n",
    "# np.clip(0,a_max=1,a_min=1e-8)\n"
   ]
  },
  {
   "cell_type": "code",
   "execution_count": 56,
   "metadata": {
    "scrolled": true
   },
   "outputs": [
    {
     "data": {
      "text/html": [
       "<div>\n",
       "<style scoped>\n",
       "    .dataframe tbody tr th:only-of-type {\n",
       "        vertical-align: middle;\n",
       "    }\n",
       "\n",
       "    .dataframe tbody tr th {\n",
       "        vertical-align: top;\n",
       "    }\n",
       "\n",
       "    .dataframe thead th {\n",
       "        text-align: right;\n",
       "    }\n",
       "</style>\n",
       "<table border=\"1\" class=\"dataframe\">\n",
       "  <thead>\n",
       "    <tr style=\"text-align: right;\">\n",
       "      <th></th>\n",
       "      <th>ID</th>\n",
       "      <th>Desc</th>\n",
       "    </tr>\n",
       "  </thead>\n",
       "  <tbody>\n",
       "    <tr>\n",
       "      <th>0</th>\n",
       "      <td>1</td>\n",
       "      <td>the clock is green in colour. shade is along the street . man is wearing sneakers. cars headlights are off. bikes are parked at the far edge. A sign on the facade of the building. A tree trunk on the sidewalk. A man in a red shirt. A brick sidewalk beside the street. The back of a white car.</td>\n",
       "    </tr>\n",
       "    <tr>\n",
       "      <th>1</th>\n",
       "      <td>2</td>\n",
       "      <td>walk sign is lit up. man wearing silver backpack. red car parked on road. 3 green trees line street. crosswalk. A bricked sidewalk. . A building with a lot of glass windows. . A white car parked on the side of the road. . A white street light. . A sign on the side of the road. .</td>\n",
       "    </tr>\n",
       "    <tr>\n",
       "      <th>2</th>\n",
       "      <td>3</td>\n",
       "      <td>multi-line office phone system. electrical and data line outlets. desktop CPU, monitor and keyboard. two-drawer filing cabinet. black leather computer case. A computer keyboard and mouse. A wireless telephone on its base. A computer tower under a desk. A file cabinet next to the desk. A multiple outlet with several plugs in it.</td>\n",
       "    </tr>\n",
       "    <tr>\n",
       "      <th>3</th>\n",
       "      <td>4</td>\n",
       "      <td>Blue curtains with sailboats on them. A black chair with blue padding. A white sofa pillow. . Plush gray carpet on the floor. A wooden desk. a white pillow is on the couch. a teddy bear lies against a pillow. a blue curtain is drawn. the couch is mainly purple in color. the top of the table is made of glass.</td>\n",
       "    </tr>\n",
       "    <tr>\n",
       "      <th>4</th>\n",
       "      <td>5</td>\n",
       "      <td>the floor is wooden. white cables are on the floor. wooden chairs are empty. the wall is white. light has been switched on. books are on the shelf. this is a white wall. area is clutered with paper. the chair is brown in color. the computer  monitor is switched off.</td>\n",
       "    </tr>\n",
       "  </tbody>\n",
       "</table>\n",
       "</div>"
      ],
      "text/plain": [
       "   ID  \\\n",
       "0   1   \n",
       "1   2   \n",
       "2   3   \n",
       "3   4   \n",
       "4   5   \n",
       "\n",
       "                                                                                                                                                                                                                                                                                                                                        Desc  \n",
       "0                                       the clock is green in colour. shade is along the street . man is wearing sneakers. cars headlights are off. bikes are parked at the far edge. A sign on the facade of the building. A tree trunk on the sidewalk. A man in a red shirt. A brick sidewalk beside the street. The back of a white car.  \n",
       "1                                                    walk sign is lit up. man wearing silver backpack. red car parked on road. 3 green trees line street. crosswalk. A bricked sidewalk. . A building with a lot of glass windows. . A white car parked on the side of the road. . A white street light. . A sign on the side of the road. .  \n",
       "2  multi-line office phone system. electrical and data line outlets. desktop CPU, monitor and keyboard. two-drawer filing cabinet. black leather computer case. A computer keyboard and mouse. A wireless telephone on its base. A computer tower under a desk. A file cabinet next to the desk. A multiple outlet with several plugs in it.  \n",
       "3                      Blue curtains with sailboats on them. A black chair with blue padding. A white sofa pillow. . Plush gray carpet on the floor. A wooden desk. a white pillow is on the couch. a teddy bear lies against a pillow. a blue curtain is drawn. the couch is mainly purple in color. the top of the table is made of glass.  \n",
       "4                                                                 the floor is wooden. white cables are on the floor. wooden chairs are empty. the wall is white. light has been switched on. books are on the shelf. this is a white wall. area is clutered with paper. the chair is brown in color. the computer  monitor is switched off.  "
      ]
     },
     "execution_count": 56,
     "metadata": {},
     "output_type": "execute_result"
    }
   ],
   "source": [
    "# print(co_to_w[273])\n",
    "# print(embedding_matrix[1380])\n",
    "# for u,v in zip(tx['words_input'][0],tx['padding_masks'][0]):\n",
    "#     print(u,v)\n",
    "pd.options.display.max_colwidth=1000\n",
    "merged_ds.head()"
   ]
  },
  {
   "cell_type": "code",
   "execution_count": 57,
   "metadata": {},
   "outputs": [],
   "source": [
    "# c1= Model(textNet.inputs,textNet.get_layer('c1').output)\n",
    "# c1f = c1.predict(vx)\n",
    "# c2= Model(textNet.inputs,textNet.get_layer('c2').output)\n",
    "# c2f = c2.predict(vx)\n",
    "# emb_bn= Model(textNet.inputs,textNet.get_layer('emb_bn').output)\n",
    "# emb_bnf = emb_bn.predict(vx)"
   ]
  },
  {
   "cell_type": "code",
   "execution_count": 58,
   "metadata": {
    "scrolled": true
   },
   "outputs": [],
   "source": [
    "# display(pd.DataFrame(c1f[0]))\n",
    "# display(pd.DataFrame(c2f[0]))\n",
    "# display(pd.DataFrame(emb_bnf[0]))"
   ]
  },
  {
   "cell_type": "code",
   "execution_count": 59,
   "metadata": {
    "scrolled": true
   },
   "outputs": [],
   "source": [
    "# att = np.random.randint(1,10,(4,5,5))\n",
    "# mask = 1-np.triu(np.ones((4,5,5)),k=1)\n",
    "# att*mask\n",
    "tr_x,tr_y = next(train_gen)\n",
    "val_x,val_y = next(val_gen)"
   ]
  },
  {
   "cell_type": "code",
   "execution_count": 60,
   "metadata": {},
   "outputs": [
    {
     "data": {
      "text/plain": [
       "(64, 256, 256, 3)"
      ]
     },
     "execution_count": 60,
     "metadata": {},
     "output_type": "execute_result"
    }
   ],
   "source": [
    "val_x['image_input'].shape"
   ]
  },
  {
   "cell_type": "code",
   "execution_count": 61,
   "metadata": {},
   "outputs": [
    {
     "name": "stdout",
     "output_type": "stream",
     "text": [
      "0.0 1.0\n"
     ]
    },
    {
     "data": {
      "image/png": "[encoded data removed]",
      "text/plain": [
       "<Figure size 432x288 with 1 Axes>"
      ]
     },
     "metadata": {
      "needs_background": "light"
     },
     "output_type": "display_data"
    }
   ],
   "source": [
    "img = val_x['image_input'][1]\n",
    "plt.imshow(img)\n",
    "print(img.min(),img.max())"
   ]
  },
  {
   "cell_type": "code",
   "execution_count": 62,
   "metadata": {
    "scrolled": true
   },
   "outputs": [
    {
     "data": {
      "text/plain": [
       "(64, 60, 1)"
      ]
     },
     "execution_count": 62,
     "metadata": {},
     "output_type": "execute_result"
    }
   ],
   "source": [
    "val_y['target_words'].shape\n"
   ]
  },
  {
   "cell_type": "code",
   "execution_count": 63,
   "metadata": {
    "scrolled": true
   },
   "outputs": [
    {
     "name": "stdout",
     "output_type": "stream",
     "text": [
      "--- 0 ---\n",
      "[2370764.jpg], input_seq: a clock mounted to a wall . a sign on a wall . a blue support beam . a wooden pillar in a building . bars across a window . a light in a ceiling . a light at the bottom of a pole . a bar at an entrance . writing on a sign . a bright light endseq\n",
      "--- 1 ---\n",
      "[2391849.jpg], input_seq: two directional signs over highway . bridge over highway in photo . golden dog being walked on leash . many people walking on highway . many people walking on grass . green sign with two white arrows pointing down . green sign with yellow exit sign on it . person wearing red rain poncho . roads are wet in endseq\n",
      "--- 2 ---\n",
      "[2385100.jpg], input_seq: people walking a curved and steep sidewalk . round traffic signs on a pole . metal railing on inside of curb . trees on top of plant - covered slope . woman using open umbrella on sunny day . cars parked on side of street . windowed building seen through trees . rectangular gray buildings on side of street endseq\n",
      "--- 3 ---\n",
      "[2406296.jpg], input_seq: a clock 's minute hand . a clock 's hour hand . a clear blue sky . an old stone building . an old outdoor clock . a small open window . an off white clock face . the number 12 in roman numerals . the number 6 in roman numerals . the number 9 in roman numerals . endseq\n",
      "--- 4 ---\n",
      "[2375700.jpg], input_seq: the boy is wearing a captains hat . the button is gold . the tray is white . the cupcake is chocolate . the spoon is blue . the hay is blue white and yellow . the boy has a crumb ob his upper lip . the crumbs are on the tray . the top frosting is white and endseq\n",
      "--- 5 ---\n",
      "[2371816.jpg], input_seq: the number three on keypad . the number six on keypad . the number nine on keyboard . the hinge on a cell phone . the keypad on a cell phone . a human thumb . the number four on a keypad . the end button on cell phone . the volume button on cell phone . up arrow endseq\n",
      "--- 6 ---\n",
      "[2382842.jpg], input_seq: a baseball player pitching . a baseball player in the pitcher 's circle . baseball player on baseball field . a red and white uniform . red and white baseball uniform . a baseball player wearing a uniform . a man playing baseball . a man pitching a   baseball . a man throwing a baseball . a man endseq\n",
      "--- 7 ---\n",
      "[2371534.jpg], input_seq: <pad> <pad> startseq the head of the woman . the arm of the woman . the hand of the woman . the leg of the woman . a white tennis shoe . a tennis racket . a green tennis ball . a white visor on the woman . a woman on the court . a red tennis dress . endseq\n",
      "--- 8 ---\n",
      "[2382511.jpg], input_seq: <pad> <pad> <pad> <pad> <pad> <pad> <pad> startseq shadow of a man holding a ski board . sky is bright blue . person carries snowboard . snow is white and frozen . sun shines on snow . person carries skis on back . person carries pole . snow is frozen . mountains in background . snow is blue . endseq\n",
      "--- 9 ---\n",
      "[2382788.jpg], input_seq: the man sitting . the bag in front of the man . the long sleeved blue shirt . the dark green bag next to the man . the blue letters on the man 's bag . the letters on the man 's shirt . the man 's black shirt . the man 's shoes . the cobblestone alley . endseq\n"
     ]
    }
   ],
   "source": [
    "for i in range(10):\n",
    "    print('---',i,'---')\n",
    "    print('['+val_x['image_names'][i]+'], input_seq:',' '.join([co_to_w[x[0]] if x[0]>0 else '<pad>' for x in val_y['target_words'][i]]))"
   ]
  },
  {
   "cell_type": "code",
   "execution_count": 64,
   "metadata": {
    "scrolled": true
   },
   "outputs": [
    {
     "data": {
      "text/plain": [
       "array([-5.75450009e-02, -8.45708980e-01, -4.15130018e-02,  6.09540986e-01,\n",
       "        3.41790991e-01,  6.52820991e-01,  5.06610976e-01, -1.36098994e-01,\n",
       "       -3.52848990e-01, -8.89038993e-01, -3.44089015e-01,  1.98641004e-01,\n",
       "       -8.05399014e-01, -1.43269001e-01, -2.83968998e-01, -5.99079026e-01,\n",
       "        4.05319983e-02, -7.48350008e-02,  4.18041007e-01, -4.80029000e-01,\n",
       "        4.50941013e-01, -1.62578998e-01, -4.01569998e-02,  2.14321004e-01,\n",
       "        2.55931007e-01, -5.36669029e-01,  7.92329998e-02,  7.43790971e-01,\n",
       "        3.00990985e-01,  1.62920998e-01,  4.25631003e-01, -7.16288997e-01,\n",
       "       -2.20769001e-01, -7.79810010e-02,  1.23560996e-01,  4.27290993e-01,\n",
       "        3.96291004e-01, -7.29899002e-01, -4.18488993e-01, -7.89698972e-01,\n",
       "       -4.60720009e-02,  4.33630990e-01,  2.90550994e-01,  2.82580988e-01,\n",
       "       -2.07708998e-01, -4.50419991e-02,  2.56061004e-01,  9.20519994e-02,\n",
       "        3.37831007e-01,  3.05481003e-01, -3.87698991e-01,  6.15949982e-02,\n",
       "        6.59260975e-01,  1.61541002e-01, -6.53690009e-02,  2.35641004e-01,\n",
       "        1.11461000e-01,  6.97940992e-01,  2.40000000e-02,  4.48230006e-04,\n",
       "       -2.77178986e-01,  9.19521020e-01, -3.16259010e-01, -4.32189001e-01,\n",
       "       -2.12739004e-01, -9.61448981e-01,  2.46261002e-01, -4.00729014e-01,\n",
       "       -3.53708996e-01, -2.86618991e-01, -5.82569016e-01,  6.31970988e-01,\n",
       "       -6.50429024e-01,  5.60411023e-01,  2.37781005e-01, -8.82949008e-01,\n",
       "        8.77200009e-02,  2.00471001e-01,  5.55340992e-01,  2.76781009e-01,\n",
       "       -3.37369008e-01, -3.45769001e-01, -7.36849023e-01,  2.87511008e-01,\n",
       "       -1.12979001e-01,  7.46130990e-01,  8.34920989e-01, -1.21139903e+00,\n",
       "       -3.80718990e-01, -3.30708994e-01,  1.81811006e-01, -1.88719003e-01,\n",
       "        6.77381025e-01, -2.47359006e-01,  9.43159999e-02,  9.93410991e-01,\n",
       "       -2.93768985e-01, -5.00288977e-01, -3.02549994e-02, -2.92469008e-01,\n",
       "       -2.73868991e-01,  9.37970983e-01, -9.48108984e-01,  3.80971001e-01,\n",
       "        6.87490986e-01, -4.29508997e-01, -1.56158997e-01, -4.76169003e-01,\n",
       "       -2.43649004e-01,  1.95320995e-01, -8.61100017e-02, -5.91969026e-01,\n",
       "        1.59931006e-01,  4.52029982e-02,  5.45420991e-01, -2.69058986e-01,\n",
       "        1.34241001e-01,  4.74810011e-04,  2.00801002e-01, -7.65658988e-01,\n",
       "        3.22980003e-02,  8.89469978e-04,  2.99089996e-02,  1.43300997e-01,\n",
       "       -3.28679009e-01,  3.10131000e-01,  7.42061006e-01,  6.50090979e-01,\n",
       "        1.10560100e+00, -4.19799013e-01, -4.23750004e-02, -3.25149013e-01,\n",
       "       -7.83030002e-02, -8.54470046e-03,  1.80890994e-01,  3.91730012e-02,\n",
       "       -3.62719013e-01, -4.94669004e-01, -9.12359013e-01,  2.65591012e-01,\n",
       "       -8.23028995e-01, -4.09488989e-01, -3.68029012e-01,  2.19431000e-01,\n",
       "        3.08161007e-01,  3.98931013e-01,  3.86850999e-01,  4.73501013e-01,\n",
       "       -1.09749897e+00,  1.80481003e-01,  6.04381012e-01, -5.07609023e-01,\n",
       "        7.94991003e-01, -8.22940006e-02,  5.91271030e-01,  6.55749978e-02,\n",
       "        5.03770017e-02,  2.45520996e-01,  5.28591024e-01, -8.12398983e-01,\n",
       "       -1.71789004e-01,  5.17269985e-02,  3.14899997e-02,  4.57439998e-02,\n",
       "        6.65110992e-01,  4.17231010e-01, -7.98258974e-01,  8.82890986e-01,\n",
       "       -5.39609028e-01,  2.38041000e-01,  3.72881012e-01, -8.11780004e-02,\n",
       "        1.32621007e-01,  3.32390012e-02,  1.07911000e-01,  2.52221005e-01,\n",
       "        2.02460007e-02,  3.69730012e-02, -5.72798981e-01, -2.22838996e-01,\n",
       "        1.84661003e-01, -1.19349001e-01, -3.46899985e-02, -9.70779015e-01,\n",
       "        2.50520991e-01,  3.21400987e-01, -9.71929027e-01,  2.36111002e-01,\n",
       "       -8.52190016e-02,  2.32709998e-02,  3.47791003e-01,  5.33709989e-02,\n",
       "       -1.93938999e-01, -2.99759014e-01, -2.09249003e-01, -2.47829003e-01,\n",
       "       -1.33628993e-01, -5.22609009e-01,  4.42161010e-01,  4.05230986e-01,\n",
       "        4.09320997e-01,  6.81401001e-01,  5.23570010e-02, -9.38409998e-02,\n",
       "        9.57790033e-02, -5.43348981e-01,  5.98801004e-01, -1.71779005e-01,\n",
       "       -4.80339004e-01, -1.99969007e-01, -1.95658995e-01, -1.64909004e-01,\n",
       "       -3.31628992e-01,  7.50700997e-01, -6.50849997e-02, -3.81190016e-02,\n",
       "        8.13741015e-01,  5.30100988e-01,  3.71081011e-01,  4.10110997e-01,\n",
       "       -7.60658993e-01,  4.33769987e-02,  1.71940008e-02, -5.30000015e-02,\n",
       "        5.63951002e-01,  4.68671011e-01, -4.73178996e-01,  3.65201013e-01,\n",
       "       -8.11749979e-02, -5.41908993e-01, -3.75699998e-03, -1.30918993e-01,\n",
       "       -2.30968995e-01, -4.48198987e-01,  8.63500030e-02,  1.46531002e-01,\n",
       "        1.66420998e-01,  1.17491001e-01, -4.74369003e-01,  4.91120012e-02,\n",
       "        3.88411002e-01,  2.36981006e-01,  4.38271003e-01, -1.62679000e-01,\n",
       "       -3.30748989e-01,  4.14461003e-01,  2.14561002e-01, -5.06568982e-01,\n",
       "       -4.07999999e-02,  5.79120980e-01, -2.92359008e-01, -3.79719002e-01,\n",
       "       -4.69558997e-01,  4.25391005e-01,  5.38870001e-02,  2.47910993e-01,\n",
       "       -4.47078986e-01,  1.77740993e-01,  3.75001000e-01, -1.18269002e-01,\n",
       "       -2.12839006e-01,  6.75491022e-01,  1.06661001e-01,  8.39071022e-01,\n",
       "       -5.79749001e-01, -5.67308976e-01,  2.98360990e-01, -3.17408992e-01,\n",
       "       -9.65498997e-01,  8.23661016e-01, -7.00398995e-01, -6.55710010e-02,\n",
       "       -6.31448997e-01,  4.36041014e-01,  2.95609997e-02,  1.12370999e-01,\n",
       "        1.05141001e-01, -4.26689012e-01, -1.12859002e-01,  4.43801002e-01,\n",
       "       -4.06708999e-01,  2.68910991e-01, -5.53029014e-01, -4.16459007e-01,\n",
       "       -5.78619017e-01,  6.48001002e-01, -1.33238999e-01, -5.90008987e-01,\n",
       "        2.22351001e-01, -9.03249963e-02,  1.95110993e-01, -8.74468995e-01,\n",
       "       -5.66249026e-01,  1.38201000e-01,  1.23660104e+00, -1.04868999e-01,\n",
       "        3.68810998e-01, -4.13678987e-01, -8.56648995e-01,  2.05511005e-01])"
      ]
     },
     "execution_count": 64,
     "metadata": {},
     "output_type": "execute_result"
    }
   ],
   "source": [
    "# # print(vx['words_input'][1])\n",
    "# # embedding_matrix[105]\n",
    "embedding_matrix[7073]"
   ]
  },
  {
   "cell_type": "code",
   "execution_count": 65,
   "metadata": {},
   "outputs": [],
   "source": [
    "# emb = Model(textNet.inputs[0],textNet.get_layer('w2v_emb').output)\n",
    "# emb.summary()\n"
   ]
  },
  {
   "cell_type": "code",
   "execution_count": 66,
   "metadata": {
    "scrolled": true
   },
   "outputs": [
    {
     "data": {
      "text/plain": [
       "array([-5.7546e-02, -8.4571e-01, -4.1514e-02,  6.0954e-01,  3.4179e-01,\n",
       "        6.5282e-01,  5.0661e-01, -1.3610e-01, -3.5285e-01, -8.8904e-01,\n",
       "       -3.4409e-01,  1.9864e-01, -8.0540e-01, -1.4327e-01, -2.8397e-01,\n",
       "       -5.9908e-01,  4.0531e-02, -7.4836e-02,  4.1804e-01, -4.8003e-01,\n",
       "        4.5094e-01, -1.6258e-01, -4.0158e-02,  2.1432e-01,  2.5593e-01,\n",
       "       -5.3667e-01,  7.9232e-02,  7.4379e-01,  3.0099e-01,  1.6292e-01,\n",
       "        4.2563e-01, -7.1629e-01, -2.2077e-01, -7.7982e-02,  1.2356e-01,\n",
       "        4.2729e-01,  3.9629e-01, -7.2990e-01, -4.1849e-01, -7.8970e-01,\n",
       "       -4.6073e-02,  4.3363e-01,  2.9055e-01,  2.8258e-01, -2.0771e-01,\n",
       "       -4.5043e-02,  2.5606e-01,  9.2051e-02,  3.3783e-01,  3.0548e-01,\n",
       "       -3.8770e-01,  6.1594e-02,  6.5926e-01,  1.6154e-01, -6.5370e-02,\n",
       "        2.3564e-01,  1.1146e-01,  6.9794e-01,  2.3999e-02,  4.4723e-04,\n",
       "       -2.7718e-01,  9.1952e-01, -3.1626e-01, -4.3219e-01, -2.1274e-01,\n",
       "       -9.6145e-01,  2.4626e-01, -4.0073e-01, -3.5371e-01, -2.8662e-01,\n",
       "       -5.8257e-01,  6.3197e-01, -6.5043e-01,  5.6041e-01,  2.3778e-01,\n",
       "       -8.8295e-01,  8.7719e-02,  2.0047e-01,  5.5534e-01,  2.7678e-01,\n",
       "       -3.3737e-01, -3.4577e-01, -7.3685e-01,  2.8751e-01, -1.1298e-01,\n",
       "        7.4613e-01,  8.3492e-01, -1.2114e+00, -3.8072e-01, -3.3071e-01,\n",
       "        1.8181e-01, -1.8872e-01,  6.7738e-01, -2.4736e-01,  9.4315e-02,\n",
       "        9.9341e-01, -2.9377e-01, -5.0029e-01, -3.0256e-02, -2.9247e-01,\n",
       "       -2.7387e-01,  9.3797e-01, -9.4811e-01,  3.8097e-01,  6.8749e-01,\n",
       "       -4.2951e-01, -1.5616e-01, -4.7617e-01, -2.4365e-01,  1.9532e-01,\n",
       "       -8.6111e-02, -5.9197e-01,  1.5993e-01,  4.5202e-02,  5.4542e-01,\n",
       "       -2.6906e-01,  1.3424e-01,  4.7381e-04,  2.0080e-01, -7.6566e-01,\n",
       "        3.2297e-02,  8.8847e-04,  2.9908e-02,  1.4330e-01, -3.2868e-01,\n",
       "        3.1013e-01,  7.4206e-01,  6.5009e-01,  1.1056e+00, -4.1980e-01,\n",
       "       -4.2376e-02, -3.2515e-01, -7.8304e-02, -8.5457e-03,  1.8089e-01,\n",
       "        3.9172e-02, -3.6272e-01, -4.9467e-01, -9.1236e-01,  2.6559e-01,\n",
       "       -8.2303e-01, -4.0949e-01, -3.6803e-01,  2.1943e-01,  3.0816e-01,\n",
       "        3.9893e-01,  3.8685e-01,  4.7350e-01, -1.0975e+00,  1.8048e-01,\n",
       "        6.0438e-01, -5.0761e-01,  7.9499e-01, -8.2295e-02,  5.9127e-01,\n",
       "        6.5574e-02,  5.0376e-02,  2.4552e-01,  5.2859e-01, -8.1240e-01,\n",
       "       -1.7179e-01,  5.1726e-02,  3.1489e-02,  4.5743e-02,  6.6511e-01,\n",
       "        4.1723e-01, -7.9826e-01,  8.8289e-01, -5.3961e-01,  2.3804e-01,\n",
       "        3.7288e-01, -8.1179e-02,  1.3262e-01,  3.3238e-02,  1.0791e-01,\n",
       "        2.5222e-01,  2.0245e-02,  3.6972e-02, -5.7280e-01, -2.2284e-01,\n",
       "        1.8466e-01, -1.1935e-01, -3.4691e-02, -9.7078e-01,  2.5052e-01,\n",
       "        3.2140e-01, -9.7193e-01,  2.3611e-01, -8.5220e-02,  2.3270e-02,\n",
       "        3.4779e-01,  5.3370e-02, -1.9394e-01, -2.9976e-01, -2.0925e-01,\n",
       "       -2.4783e-01, -1.3363e-01, -5.2261e-01,  4.4216e-01,  4.0523e-01,\n",
       "        4.0932e-01,  6.8140e-01,  5.2356e-02, -9.3842e-02,  9.5778e-02,\n",
       "       -5.4335e-01,  5.9880e-01, -1.7178e-01, -4.8034e-01, -1.9997e-01,\n",
       "       -1.9566e-01, -1.6491e-01, -3.3163e-01,  7.5070e-01, -6.5086e-02,\n",
       "       -3.8120e-02,  8.1374e-01,  5.3010e-01,  3.7108e-01,  4.1011e-01,\n",
       "       -7.6066e-01,  4.3376e-02,  1.7193e-02, -5.3001e-02,  5.6395e-01,\n",
       "        4.6867e-01, -4.7318e-01,  3.6520e-01, -8.1176e-02, -5.4191e-01,\n",
       "       -3.7580e-03, -1.3092e-01, -2.3097e-01, -4.4820e-01,  8.6349e-02,\n",
       "        1.4653e-01,  1.6642e-01,  1.1749e-01, -4.7437e-01,  4.9111e-02,\n",
       "        3.8841e-01,  2.3698e-01,  4.3827e-01, -1.6268e-01, -3.3075e-01,\n",
       "        4.1446e-01,  2.1456e-01, -5.0657e-01, -4.0801e-02,  5.7912e-01,\n",
       "       -2.9236e-01, -3.7972e-01, -4.6956e-01,  4.2539e-01,  5.3886e-02,\n",
       "        2.4791e-01, -4.4708e-01,  1.7774e-01,  3.7500e-01, -1.1827e-01,\n",
       "       -2.1284e-01,  6.7549e-01,  1.0666e-01,  8.3907e-01, -5.7975e-01,\n",
       "       -5.6731e-01,  2.9836e-01, -3.1741e-01, -9.6550e-01,  8.2366e-01,\n",
       "       -7.0040e-01, -6.5572e-02, -6.3145e-01,  4.3604e-01,  2.9560e-02,\n",
       "        1.1237e-01,  1.0514e-01, -4.2669e-01, -1.1286e-01,  4.4380e-01,\n",
       "       -4.0671e-01,  2.6891e-01, -5.5303e-01, -4.1646e-01, -5.7862e-01,\n",
       "        6.4800e-01, -1.3324e-01, -5.9001e-01,  2.2235e-01, -9.0326e-02,\n",
       "        1.9511e-01, -8.7447e-01, -5.6625e-01,  1.3820e-01,  1.2366e+00,\n",
       "       -1.0487e-01,  3.6881e-01, -4.1368e-01, -8.5665e-01,  2.0551e-01],\n",
       "      dtype=float32)"
      ]
     },
     "execution_count": 66,
     "metadata": {},
     "output_type": "execute_result"
    }
   ],
   "source": [
    "nlp('manin').vector"
   ]
  },
  {
   "cell_type": "code",
   "execution_count": 67,
   "metadata": {
    "scrolled": true
   },
   "outputs": [],
   "source": [
    "# emb_out = emb.predict(val_x['words_input'])\n",
    "# display(pd.DataFrame(emb_out[1]))"
   ]
  },
  {
   "cell_type": "code",
   "execution_count": 68,
   "metadata": {},
   "outputs": [],
   "source": [
    "n_gpu\n",
    "\n",
    "# losses = {\n",
    "#     'cross_pool_target_word':loss_function\n",
    "#     ,'pool_target_word':loss_function\n",
    "# }\n",
    "imgNet.load_weights('../checkpoints/vgg_1dcnn_img_module_vis_gen.h5',skip_mismatch=True,by_name=True)"
   ]
  },
  {
   "cell_type": "code",
   "execution_count": 69,
   "metadata": {
    "scrolled": true
   },
   "outputs": [],
   "source": [
    "parallel_model=multi_gpu_model(imgNet, gpus=n_gpu)\n"
   ]
  },
  {
   "cell_type": "code",
   "execution_count": 70,
   "metadata": {
    "scrolled": true
   },
   "outputs": [
    {
     "name": "stdout",
     "output_type": "stream",
     "text": [
      "Model: \"model_1\"\n",
      "__________________________________________________________________________________________________\n",
      "Layer (type)                    Output Shape         Param #     Connected to                     \n",
      "==================================================================================================\n",
      "image_input (InputLayer)        (None, 256, 256, 3)  0                                            \n",
      "__________________________________________________________________________________________________\n",
      "positional_encoding (InputLayer (None, 60, 512)      0                                            \n",
      "__________________________________________________________________________________________________\n",
      "lambda_2 (Lambda)               (None, 256, 256, 3)  0           image_input[0][0]                \n",
      "__________________________________________________________________________________________________\n",
      "lambda_3 (Lambda)               (None, 60, 512)      0           positional_encoding[0][0]        \n",
      "__________________________________________________________________________________________________\n",
      "lambda_4 (Lambda)               (None, 256, 256, 3)  0           image_input[0][0]                \n",
      "__________________________________________________________________________________________________\n",
      "lambda_5 (Lambda)               (None, 60, 512)      0           positional_encoding[0][0]        \n",
      "__________________________________________________________________________________________________\n",
      "lambda_6 (Lambda)               (None, 256, 256, 3)  0           image_input[0][0]                \n",
      "__________________________________________________________________________________________________\n",
      "lambda_7 (Lambda)               (None, 60, 512)      0           positional_encoding[0][0]        \n",
      "__________________________________________________________________________________________________\n",
      "imgModel (Model)                (None, 60, 20795)    26237819    lambda_2[0][0]                   \n",
      "                                                                 lambda_3[0][0]                   \n",
      "                                                                 lambda_4[0][0]                   \n",
      "                                                                 lambda_5[0][0]                   \n",
      "                                                                 lambda_6[0][0]                   \n",
      "                                                                 lambda_7[0][0]                   \n",
      "__________________________________________________________________________________________________\n",
      "activation_157 (Concatenate)    (None, 60, 20795)    0           imgModel[1][0]                   \n",
      "                                                                 imgModel[2][0]                   \n",
      "                                                                 imgModel[3][0]                   \n",
      "==================================================================================================\n",
      "Total params: 26,237,819\n",
      "Trainable params: 26,204,155\n",
      "Non-trainable params: 33,664\n",
      "__________________________________________________________________________________________________\n"
     ]
    }
   ],
   "source": [
    "\n",
    "parallel_model.compile(loss=loss_function,optimizer=adam,metrics=['accuracy']) #For multi GPU\n",
    "parallel_model.summary()"
   ]
  },
  {
   "cell_type": "code",
   "execution_count": 71,
   "metadata": {},
   "outputs": [
    {
     "name": "stdout",
     "output_type": "stream",
     "text": [
      "training vgg_img_attention for 50 epochs\n"
     ]
    }
   ],
   "source": [
    "# mc=ModelCheckpoint(filepath='../checkpoints/vgg16_lstm_words.h5',monitor='val_loss',period=1,save_best_only=True,save_weights_only=True,mode='auto',verbose=3)\n",
    "# es=EarlyStopping(patience=300,monitor='val_loss',min_delta=0.0001,mode='auto')\n",
    "\n",
    "print('training {0} for {1} epochs'.format(model_name,EPOCHS))\n",
    "# lr = K.eval(parallel_model.optimizer.lr)\n",
    "# decay = 1e-3"
   ]
  },
  {
   "cell_type": "code",
   "execution_count": 72,
   "metadata": {},
   "outputs": [],
   "source": [
    "def CheckSelfAttention(input_data,labels):\n",
    "    _,words_input,padding_masks=input_data\n",
    "    for i in range(words_input.shape[0]):\n",
    "        print('-*-*-',i,'-*-*-')\n",
    "        print('input_seq:',', '.join(['<None> {0}'.format(y) if x==0 else '<{0}> {1}'.format(co_to_w[x],y) for x,y in zip(words_input[i],padding_masks[i])]),', \\t next_word:',co_to_w[labels[i]])\n",
    "#     c1 = Model(textNet.inputs,textNet.get_layer('c1').output)\n",
    "    concat_sa_1 = Model(textNet.inputs,textNet.get_layer('sa11').output)\n",
    "    residual_combine_sa_1 =  Model(textNet.inputs,textNet.get_layer('residual_combine_selfattn_1').output)\n",
    "    t2i_concat_1 = Model(model.inputs,model.get_layer('text2img_concat_1').output)\n",
    "    \n",
    "    return [\n",
    "#         c1.predict(input_data),\n",
    "        concat_sa_1.predict(input_data[1:]),\n",
    "        residual_combine_sa_1.predict(input_data[1:]),\n",
    "        t2i_concat_1.predict(input_data)\n",
    "            , textNet.predict(input_data[1:])]\n",
    "#     print(concat_sa_2)\n",
    "    \n",
    "def ReduceLROnPlateau(decay=0.5):\n",
    "    old_lr = K.eval(parallel_model.optimizer.lr)\n",
    "    new_lr = old_lr * decay\n",
    "    return old_lr,new_lr"
   ]
  },
  {
   "cell_type": "code",
   "execution_count": 73,
   "metadata": {},
   "outputs": [],
   "source": [
    "\n",
    "pos_encoding = positional_encoding(max_wlen, dimensions=512)\n",
    "# ReduceLROnPlateau()\n",
    "pos_encoding = np.repeat(pos_encoding,repeats=train_batch_size,axis=0)"
   ]
  },
  {
   "cell_type": "code",
   "execution_count": 74,
   "metadata": {},
   "outputs": [],
   "source": [
    "patience = 2\n",
    "patience_counter = 0\n",
    "min_delta = 0.001"
   ]
  },
  {
   "cell_type": "code",
   "execution_count": 84,
   "metadata": {
    "scrolled": true
   },
   "outputs": [
    {
     "name": "stdout",
     "output_type": "stream",
     "text": [
      "E: 14/50, tr_loss:8.2980, tr_acc:0.0711, v_loss:9.3588, v_acc:0.0007, lr:0.000001 [1210.93 s/e] (min_v_loss:8.6615)\n"
     ]
    },
    {
     "data": {
      "application/vnd.jupyter.widget-view+json": {
       "model_id": "0867b1254f6647d2ad16d2e49710bc8b",
       "version_major": 2,
       "version_minor": 0
      },
      "text/plain": [
       "HBox(children=(FloatProgress(value=0.0, description='Train_Iter', max=547.0, style=ProgressStyle(description_w…"
      ]
     },
     "metadata": {},
     "output_type": "display_data"
    },
    {
     "name": "stdout",
     "output_type": "stream",
     "text": [
      "Train Iter:  5/547, tr_loss:8.2931, tr_acc:0.0635 (min_v_loss:8.6615)\n"
     ]
    },
    {
     "ename": "KeyboardInterrupt",
     "evalue": "",
     "output_type": "error",
     "traceback": [
      "\u001b[0;31m---------------------------------------------------------------------------\u001b[0m",
      "\u001b[0;31mKeyboardInterrupt\u001b[0m                         Traceback (most recent call last)",
      "\u001b[0;32m<ipython-input-84-05bbdc6fd8dc>\u001b[0m in \u001b[0;36m<module>\u001b[0;34m\u001b[0m\n\u001b[1;32m     30\u001b[0m     \u001b[0mi\u001b[0m\u001b[0;34m=\u001b[0m\u001b[0;34m-\u001b[0m\u001b[0;36m1\u001b[0m\u001b[0;34m\u001b[0m\u001b[0;34m\u001b[0m\u001b[0m\n\u001b[1;32m     31\u001b[0m     \u001b[0;32mfor\u001b[0m \u001b[0mim\u001b[0m \u001b[0;32min\u001b[0m \u001b[0mtqdm\u001b[0m\u001b[0;34m(\u001b[0m\u001b[0mrange\u001b[0m\u001b[0;34m(\u001b[0m\u001b[0mtrain_iterations\u001b[0m\u001b[0;34m)\u001b[0m\u001b[0;34m,\u001b[0m\u001b[0mdesc\u001b[0m\u001b[0;34m=\u001b[0m\u001b[0;34m'Train_Iter'\u001b[0m\u001b[0;34m,\u001b[0m\u001b[0mleave\u001b[0m\u001b[0;34m=\u001b[0m\u001b[0;32mFalse\u001b[0m\u001b[0;34m)\u001b[0m\u001b[0;34m:\u001b[0m\u001b[0;34m\u001b[0m\u001b[0;34m\u001b[0m\u001b[0m\n\u001b[0;32m---> 32\u001b[0;31m         \u001b[0mtx\u001b[0m\u001b[0;34m,\u001b[0m\u001b[0mty\u001b[0m \u001b[0;34m=\u001b[0m \u001b[0mnext\u001b[0m\u001b[0;34m(\u001b[0m\u001b[0mtrain_gen\u001b[0m\u001b[0;34m)\u001b[0m\u001b[0;34m\u001b[0m\u001b[0;34m\u001b[0m\u001b[0m\n\u001b[0m\u001b[1;32m     33\u001b[0m         \u001b[0minputs\u001b[0m \u001b[0;34m=\u001b[0m \u001b[0mtx\u001b[0m\u001b[0;34m[\u001b[0m\u001b[0;34m'image_input'\u001b[0m\u001b[0;34m]\u001b[0m\u001b[0;34m\u001b[0m\u001b[0;34m\u001b[0m\u001b[0m\n\u001b[1;32m     34\u001b[0m         \u001b[0mlabels\u001b[0m \u001b[0;34m=\u001b[0m \u001b[0mty\u001b[0m\u001b[0;34m[\u001b[0m\u001b[0;34m'target_words'\u001b[0m\u001b[0;34m]\u001b[0m\u001b[0;34m\u001b[0m\u001b[0;34m\u001b[0m\u001b[0m\n",
      "\u001b[0;32m<ipython-input-49-2cf36afa884d>\u001b[0m in \u001b[0;36mdatagen\u001b[0;34m(img_lst, batch_size)\u001b[0m\n\u001b[1;32m     14\u001b[0m         \u001b[0msent\u001b[0m \u001b[0;34m=\u001b[0m \u001b[0mmerged_ds\u001b[0m\u001b[0;34m[\u001b[0m\u001b[0mmerged_ds\u001b[0m\u001b[0;34m.\u001b[0m\u001b[0mID\u001b[0m\u001b[0;34m==\u001b[0m\u001b[0mim\u001b[0m\u001b[0;34m]\u001b[0m\u001b[0;34m[\u001b[0m\u001b[0;34m'Desc'\u001b[0m\u001b[0;34m]\u001b[0m\u001b[0;34m.\u001b[0m\u001b[0mvalues\u001b[0m\u001b[0;34m[\u001b[0m\u001b[0;36m0\u001b[0m\u001b[0;34m]\u001b[0m\u001b[0;34m.\u001b[0m\u001b[0mlower\u001b[0m\u001b[0;34m(\u001b[0m\u001b[0;34m)\u001b[0m\u001b[0;34m\u001b[0m\u001b[0;34m\u001b[0m\u001b[0m\n\u001b[1;32m     15\u001b[0m \u001b[0;34m\u001b[0m\u001b[0m\n\u001b[0;32m---> 16\u001b[0;31m         \u001b[0mts\u001b[0m \u001b[0;34m=\u001b[0m \u001b[0mnlp\u001b[0m\u001b[0;34m(\u001b[0m\u001b[0msent\u001b[0m\u001b[0;34m)\u001b[0m\u001b[0;34m\u001b[0m\u001b[0;34m\u001b[0m\u001b[0m\n\u001b[0m\u001b[1;32m     17\u001b[0m \u001b[0;31m#         print(ts)\u001b[0m\u001b[0;34m\u001b[0m\u001b[0;34m\u001b[0m\u001b[0;34m\u001b[0m\u001b[0m\n\u001b[1;32m     18\u001b[0m         \u001b[0mts\u001b[0m \u001b[0;34m=\u001b[0m \u001b[0;34m[\u001b[0m\u001b[0mstr\u001b[0m\u001b[0;34m(\u001b[0m\u001b[0mx\u001b[0m\u001b[0;34m)\u001b[0m \u001b[0;32mfor\u001b[0m \u001b[0mx\u001b[0m \u001b[0;32min\u001b[0m \u001b[0mlist\u001b[0m\u001b[0;34m(\u001b[0m\u001b[0mts\u001b[0m\u001b[0;34m)\u001b[0m\u001b[0;34m]\u001b[0m\u001b[0;34m\u001b[0m\u001b[0;34m\u001b[0m\u001b[0m\n",
      "\u001b[0;32m~/anaconda3/envs/tf-gpu-2/lib/python3.7/site-packages/spacy/language.py\u001b[0m in \u001b[0;36m__call__\u001b[0;34m(self, text, disable, component_cfg)\u001b[0m\n\u001b[1;32m    447\u001b[0m             \u001b[0;32mif\u001b[0m \u001b[0;32mnot\u001b[0m \u001b[0mhasattr\u001b[0m\u001b[0;34m(\u001b[0m\u001b[0mproc\u001b[0m\u001b[0;34m,\u001b[0m \u001b[0;34m\"__call__\"\u001b[0m\u001b[0;34m)\u001b[0m\u001b[0;34m:\u001b[0m\u001b[0;34m\u001b[0m\u001b[0;34m\u001b[0m\u001b[0m\n\u001b[1;32m    448\u001b[0m                 \u001b[0;32mraise\u001b[0m \u001b[0mValueError\u001b[0m\u001b[0;34m(\u001b[0m\u001b[0mErrors\u001b[0m\u001b[0;34m.\u001b[0m\u001b[0mE003\u001b[0m\u001b[0;34m.\u001b[0m\u001b[0mformat\u001b[0m\u001b[0;34m(\u001b[0m\u001b[0mcomponent\u001b[0m\u001b[0;34m=\u001b[0m\u001b[0mtype\u001b[0m\u001b[0;34m(\u001b[0m\u001b[0mproc\u001b[0m\u001b[0;34m)\u001b[0m\u001b[0;34m,\u001b[0m \u001b[0mname\u001b[0m\u001b[0;34m=\u001b[0m\u001b[0mname\u001b[0m\u001b[0;34m)\u001b[0m\u001b[0;34m)\u001b[0m\u001b[0;34m\u001b[0m\u001b[0;34m\u001b[0m\u001b[0m\n\u001b[0;32m--> 449\u001b[0;31m             \u001b[0mdoc\u001b[0m \u001b[0;34m=\u001b[0m \u001b[0mproc\u001b[0m\u001b[0;34m(\u001b[0m\u001b[0mdoc\u001b[0m\u001b[0;34m,\u001b[0m \u001b[0;34m**\u001b[0m\u001b[0mcomponent_cfg\u001b[0m\u001b[0;34m.\u001b[0m\u001b[0mget\u001b[0m\u001b[0;34m(\u001b[0m\u001b[0mname\u001b[0m\u001b[0;34m,\u001b[0m \u001b[0;34m{\u001b[0m\u001b[0;34m}\u001b[0m\u001b[0;34m)\u001b[0m\u001b[0;34m)\u001b[0m\u001b[0;34m\u001b[0m\u001b[0;34m\u001b[0m\u001b[0m\n\u001b[0m\u001b[1;32m    450\u001b[0m             \u001b[0;32mif\u001b[0m \u001b[0mdoc\u001b[0m \u001b[0;32mis\u001b[0m \u001b[0;32mNone\u001b[0m\u001b[0;34m:\u001b[0m\u001b[0;34m\u001b[0m\u001b[0;34m\u001b[0m\u001b[0m\n\u001b[1;32m    451\u001b[0m                 \u001b[0;32mraise\u001b[0m \u001b[0mValueError\u001b[0m\u001b[0;34m(\u001b[0m\u001b[0mErrors\u001b[0m\u001b[0;34m.\u001b[0m\u001b[0mE005\u001b[0m\u001b[0;34m.\u001b[0m\u001b[0mformat\u001b[0m\u001b[0;34m(\u001b[0m\u001b[0mname\u001b[0m\u001b[0;34m=\u001b[0m\u001b[0mname\u001b[0m\u001b[0;34m)\u001b[0m\u001b[0;34m)\u001b[0m\u001b[0;34m\u001b[0m\u001b[0;34m\u001b[0m\u001b[0m\n",
      "\u001b[0;31mKeyboardInterrupt\u001b[0m: "
     ]
    }
   ],
   "source": [
    "from IPython.display import clear_output\n",
    "\n",
    "# counter = 0\n",
    "\n",
    "# history = model.fit_generator(train_gen\n",
    "#                               ,epochs=EPOCHS\n",
    "#                               ,steps_per_epoch=4\n",
    "#                               ,validation_data=val_gen\n",
    "#                               ,validation_steps=2\n",
    "#                               ,callbacks=[mc])\n",
    "\n",
    "hist_tl,hist_ta,hist_vl,hist_va,tt,lr_arr = [],[],[],[],[],[]\n",
    "window = 64\n",
    "val_window = 256\n",
    "train_iterations = int(np.ceil(len(train_images_list)/train_batch_size))\n",
    "val_iterations = int(np.ceil(len(test_images_list)/val_batch_size))\n",
    "\n",
    "print('train_iterations:{0}; val_iterations:{1}'.format(train_iterations,val_iterations))\n",
    "min_v_l,min_v_a,min_t_a = 100,0,0\n",
    "t_l, t_a, v_l, v_a = 0, 0, 4.01, 0\n",
    "\n",
    "\n",
    "train_gen = datagen(train_images_list,batch_size=train_batch_size)\n",
    "val_gen = datagen(val_images_list,batch_size=val_batch_size)\n",
    "\n",
    "\n",
    "for e in tqdm(np.arange(start=0,stop=EPOCHS),desc='Epoch'):\n",
    "    start_time = time()\n",
    "    tl,ta,vl,va = [],[],[],[]\n",
    "    i=-1\n",
    "    for im in tqdm(range(train_iterations),desc='Train_Iter',leave=False):\n",
    "        tx,ty = next(train_gen)\n",
    "        inputs = tx['image_input']\n",
    "        labels = ty['target_words']        \n",
    "#         for i in np.arange(len(inputs1),step=window):\n",
    "            \n",
    "#             train_metrics = parallel_model.train_on_batch([inputs1[i:i+window],inputs2[i:i+window],inputs3[i:i+window]],[labels[i:i+window],labels[i:i+window]])\n",
    "        train_metrics = parallel_model.train_on_batch([inputs,pos_encoding],labels)\n",
    "        loss = train_metrics[0] #train_metrics[1]+train_metrics[2]\n",
    "        accuracy = train_metrics[1] #train_metrics[3]+train_metrics[4]\n",
    "        #             concat_sa_2,concat_sa_3,concat_sa_4,textNet_output = CheckSelfAttention([inputs2[i:i+window],inputs3[i:i+window]],labels[i:i+window])            \n",
    "#             print(train_metrics)\n",
    "        tl.append(loss)\n",
    "        ta.append(accuracy)\n",
    "        i+=1\n",
    "        print('Train Iter:{0:3d}/{1}, tr_loss:{2:.4f}, tr_acc:{3:.4f} (min_v_loss:{4:.4f})'\n",
    "          .format(i+1,train_iterations\n",
    "                  , np.mean(tl)\n",
    "                  , np.mean(ta)\n",
    "                  , min_v_l), end = '\\r')\n",
    "#             break\n",
    "#         break\n",
    "#     break\n",
    "    i=-1\n",
    "    for im in tqdm(range(val_iterations),desc='Val_Iter',leave=False):\n",
    "        vx,vy = next(val_gen)\n",
    "        inputs = vx['image_input']\n",
    "        labels = vy['target_words']\n",
    "#         for i in np.arange(len(inputs1),step=val_window):\n",
    "        loss,accuracy = parallel_model.evaluate(verbose=0,x=[inputs,pos_encoding],y=labels)\n",
    "        vl.append(loss)\n",
    "        va.append(accuracy)\n",
    "    v_l = np.round(np.mean(vl),4)\n",
    "    v_a = np.round(np.mean(va),4)\n",
    "    t_l = np.round(np.mean(tl),4)\n",
    "    t_a = np.round(np.mean(ta),4)\n",
    "    \n",
    "    hist_tl.append(t_l)\n",
    "    hist_ta.append(t_a)\n",
    "    hist_vl.append(v_l)\n",
    "    hist_va.append(v_a)\n",
    "    if len(hist_tl)>=3:\n",
    "        if hist_tl[-2]-hist_tl[-1]<min_delta:\n",
    "            patience_counter+=1\n",
    "            if patience==patience_counter:\n",
    "                old_lr,lr = ReduceLROnPlateau()\n",
    "                patience_counter = 0\n",
    "                K.set_value(parallel_model.optimizer.lr,lr)\n",
    "                K.set_value(imgNet.optimizer.lr,lr)\n",
    "    lr_arr.append(lr)\n",
    "    if v_l < min_v_l:\n",
    "        min_v_l = v_l\n",
    "#         model.save_weights(filepath='../checkpoints/{0}_vis_gen.h5'.format(model_name),overwrite=True)\n",
    "        imgNet.save_weights(filepath='../checkpoints/{0}_{1}_img_module_vis_gen.h5'.format(img_arch,text_arch),overwrite=True)\n",
    "#         textNet.save_weights(filepath='../checkpoints/{0}_{1}_text_module_vis_gen.h5'.format(img_arch,text_arch),overwrite=True)\n",
    "    clear_output(wait=True)\n",
    "    end_time = time()\n",
    "    \n",
    "    time_taken = end_time-start_time\n",
    "    \n",
    "    tt.append(time_taken)\n",
    "    with open('../tf_runs/log.csv','a') as f:\n",
    "        data = '{0:3d}/{7},{1:.4f},{2:.4f},{3:.4f},{4:.4f},{6:.4f},{8:.6f}'.format(e+1, t_l, t_a, v_l, v_a, np.mean(tt),min_v_l,EPOCHS,lr)\n",
    "        t = strftime(\"%m/%d/%Y %H:%M:%S\",localtime())\n",
    "        f.writelines('\\n[{0}],{1},{2}'.format(t, model_name,data))\n",
    "    print('E:{0:3d}/{7}, tr_loss:{1:.4f}, tr_acc:{2:.4f}, v_loss:{3:.4f}, v_acc:{4:.4f}, lr:{8:.6f} [{5:.2f} s/e] (min_v_loss:{6:.4f})'.format(e+1, t_l, t_a, v_l, v_a, np.mean(tt),min_v_l,EPOCHS,lr))"
   ]
  },
  {
   "cell_type": "code",
   "execution_count": null,
   "metadata": {},
   "outputs": [],
   "source": [
    "# model.save_weights(filepath='../checkpoints/{0}_vis_gen.h5'.format(model_name),overwrite=True)\n",
    "# # imgNet.save_weights(filepath='../checkpoints/{0}_{1}_img_module_vis_gen.h5'.format(img_arch,text_arch),overwrite=True)\n",
    "# textNet.save_weights(filepath='../checkpoints/{0}_{1}_text_module_vis_gen.h5'.format(img_arch,text_arch),overwrite=True)"
   ]
  },
  {
   "cell_type": "code",
   "execution_count": null,
   "metadata": {},
   "outputs": [],
   "source": [
    "train_metrics"
   ]
  },
  {
   "cell_type": "code",
   "execution_count": null,
   "metadata": {
    "scrolled": true
   },
   "outputs": [],
   "source": [
    "concat_sa_1,residual_combine_sa_1,t21_concat_1,textNet_output = CheckSelfAttention([inputs1[i:i+window],inputs2[i:i+window],inputs3[i:i+window]],labels[i:i+window])            \n",
    "# "
   ]
  },
  {
   "cell_type": "code",
   "execution_count": 85,
   "metadata": {},
   "outputs": [],
   "source": [
    "pd.options.display.max_columns=1000"
   ]
  },
  {
   "cell_type": "code",
   "execution_count": 86,
   "metadata": {},
   "outputs": [],
   "source": [
    "pmo = parallel_model.predict([inputs,pos_encoding])"
   ]
  },
  {
   "cell_type": "code",
   "execution_count": 87,
   "metadata": {},
   "outputs": [
    {
     "data": {
      "text/plain": [
       "array([3434, 3434, 3434, 3434, 3434, 3434, 3434, 3434, 3434, 3434, 3434,\n",
       "       3434, 3434, 3434, 3434, 3434, 3434, 3434, 3434, 3434, 3434, 3434,\n",
       "       3434, 3434, 3434, 3434, 3434, 3434, 3434, 3434, 3434, 3434, 3434,\n",
       "       3434, 3434, 3434, 3434, 3434, 3434, 3434, 3434, 3434, 3434, 3434,\n",
       "       3434, 3434, 3434, 3434, 3434, 3434, 3434, 3434, 3434, 3434, 3434,\n",
       "       3434, 3434, 3434, 3434, 3434])"
      ]
     },
     "execution_count": 87,
     "metadata": {},
     "output_type": "execute_result"
    }
   ],
   "source": [
    "pmo[0].argmax(-1)"
   ]
  },
  {
   "cell_type": "code",
   "execution_count": 88,
   "metadata": {
    "scrolled": true
   },
   "outputs": [
    {
     "name": "stdout",
     "output_type": "stream",
     "text": [
      "pred: . . . . . . . . . . . . . . . . . . . . . . . . . . . . . . . . . . . . . . . . . . . . . . . . . . . . . . . . . . . .\n",
      "act: a man riding a horse . a horse jump a rail . a horses black tail . a man wearing a helmet . a horse wearing a bridle . a tall skinny tree trunk . a man wearing blue vest . a man wearing black riding boots . a horse with front legs off the ground . a horse endseq\n"
     ]
    }
   ],
   "source": [
    "print('pred:',' '.join([co_to_w[x] if x>0 else '<unk>' for x in pmo[0].argmax(-1)]))\n",
    "print('act:',' '.join([co_to_w[x[0]] if x[0]>0 else '<unk>' for x in labels[0]]))"
   ]
  },
  {
   "cell_type": "code",
   "execution_count": 90,
   "metadata": {
    "scrolled": true
   },
   "outputs": [
    {
     "data": {
      "image/png": "[encoded data removed]",
      "text/plain": [
       "<Figure size 432x288 with 1 Axes>"
      ]
     },
     "metadata": {
      "needs_background": "light"
     },
     "output_type": "display_data"
    },
    {
     "data": {
      "text/plain": [
       "array([[[ 1.        , -1.        , -1.        , ..., -0.9999998 ,\n",
       "          0.9999983 ,  0.99999446],\n",
       "        [ 1.        , -1.        , -1.        , ..., -0.9999998 ,\n",
       "          0.9999983 ,  0.9999948 ],\n",
       "        [ 1.        , -1.        , -1.        , ..., -0.9999998 ,\n",
       "          0.9999983 ,  0.99999595],\n",
       "        ...,\n",
       "        [ 1.        , -1.        , -1.        , ..., -0.9999999 ,\n",
       "          0.99999803,  0.999999  ],\n",
       "        [ 1.        , -1.        , -1.        , ..., -0.9999999 ,\n",
       "          0.99999845,  0.999999  ],\n",
       "        [ 1.        , -1.        , -1.        , ..., -0.9999999 ,\n",
       "          0.99999845,  0.999999  ]],\n",
       "\n",
       "       [[ 1.        , -1.        , -1.        , ..., -0.9999998 ,\n",
       "          0.99999815,  0.9999947 ],\n",
       "        [ 1.        , -1.        , -1.        , ..., -0.9999998 ,\n",
       "          0.999998  ,  0.999995  ],\n",
       "        [ 1.        , -1.        , -1.        , ..., -0.9999998 ,\n",
       "          0.99999785,  0.99999505],\n",
       "        ...,\n",
       "        [ 1.        , -1.        , -1.        , ..., -0.9999999 ,\n",
       "          0.99999774,  0.9999989 ],\n",
       "        [ 1.        , -1.        , -1.        , ..., -0.9999999 ,\n",
       "          0.9999983 ,  0.999999  ],\n",
       "        [ 1.        , -1.        , -1.        , ..., -0.9999999 ,\n",
       "          0.99999815,  0.99999905]],\n",
       "\n",
       "       [[ 1.        , -1.        , -1.        , ..., -0.9999998 ,\n",
       "          0.9999982 ,  0.99999434],\n",
       "        [ 1.        , -1.        , -1.        , ..., -0.9999998 ,\n",
       "          0.99999815,  0.9999948 ],\n",
       "        [ 1.        , -1.        , -1.        , ..., -0.9999998 ,\n",
       "          0.9999981 ,  0.9999956 ],\n",
       "        ...,\n",
       "        [ 1.        , -1.        , -1.        , ..., -0.9999999 ,\n",
       "          0.9999979 ,  0.9999989 ],\n",
       "        [ 1.        , -1.        , -1.        , ..., -0.9999999 ,\n",
       "          0.99999833,  0.999999  ],\n",
       "        [ 1.        , -1.        , -1.        , ..., -0.9999999 ,\n",
       "          0.9999983 ,  0.9999989 ]],\n",
       "\n",
       "       ...,\n",
       "\n",
       "       [[ 1.        , -1.        , -1.        , ..., -0.9999998 ,\n",
       "          0.99999815,  0.9999943 ],\n",
       "        [ 1.        , -1.        , -1.        , ..., -0.9999998 ,\n",
       "          0.9999981 ,  0.9999946 ],\n",
       "        [ 1.        , -1.        , -1.        , ..., -0.9999998 ,\n",
       "          0.9999981 ,  0.9999955 ],\n",
       "        ...,\n",
       "        [ 1.        , -1.        , -1.        , ..., -0.9999999 ,\n",
       "          0.9999979 ,  0.999999  ],\n",
       "        [ 1.        , -1.        , -1.        , ..., -0.9999999 ,\n",
       "          0.9999985 ,  0.99999905],\n",
       "        [ 1.        , -1.        , -1.        , ..., -0.9999999 ,\n",
       "          0.9999984 ,  0.999999  ]],\n",
       "\n",
       "       [[ 1.        , -1.        , -1.        , ..., -0.9999998 ,\n",
       "          0.9999981 ,  0.9999947 ],\n",
       "        [ 1.        , -1.        , -1.        , ..., -0.9999998 ,\n",
       "          0.99999785,  0.9999948 ],\n",
       "        [ 1.        , -1.        , -1.        , ..., -0.9999998 ,\n",
       "          0.9999977 ,  0.99999475],\n",
       "        ...,\n",
       "        [ 1.        , -1.        , -1.        , ..., -0.9999998 ,\n",
       "          0.99999785,  0.99999887],\n",
       "        [ 1.        , -1.        , -1.        , ..., -0.9999999 ,\n",
       "          0.9999982 ,  0.999999  ],\n",
       "        [ 1.        , -1.        , -1.        , ..., -0.9999999 ,\n",
       "          0.9999982 ,  0.9999991 ]],\n",
       "\n",
       "       [[ 1.        , -1.        , -1.        , ..., -0.9999998 ,\n",
       "          0.9999981 ,  0.9999931 ],\n",
       "        [ 1.        , -1.        , -1.        , ..., -0.9999998 ,\n",
       "          0.99999803,  0.99999344],\n",
       "        [ 1.        , -1.        , -1.        , ..., -0.9999998 ,\n",
       "          0.99999785,  0.99999374],\n",
       "        ...,\n",
       "        [ 1.        , -1.        , -1.        , ..., -0.9999998 ,\n",
       "          0.99999756,  0.9999987 ],\n",
       "        [ 1.        , -1.        , -1.        , ..., -0.9999999 ,\n",
       "          0.99999815,  0.9999989 ],\n",
       "        [ 1.        , -1.        , -1.        , ..., -0.9999998 ,\n",
       "          0.999998  ,  0.99999887]]], dtype=float32)"
      ]
     },
     "execution_count": 90,
     "metadata": {},
     "output_type": "execute_result"
    }
   ],
   "source": [
    "# display(pd.DataFrame(emb_bn[0]))\n",
    "# print(labels[0])\n",
    "g = imgNet.predict([inputs,pos_encoding])\n",
    "plt.imshow(inputs[0])\n",
    "plt.show()\n",
    "\n",
    "g\n"
   ]
  },
  {
   "cell_type": "code",
   "execution_count": 94,
   "metadata": {},
   "outputs": [
    {
     "data": {
      "text/plain": [
       "(-74565410.0, 79852800)"
      ]
     },
     "execution_count": 94,
     "metadata": {},
     "output_type": "execute_result"
    }
   ],
   "source": [
    "g.sum(),(64* 60* 20795)"
   ]
  },
  {
   "cell_type": "code",
   "execution_count": null,
   "metadata": {},
   "outputs": [],
   "source": [
    "t = textNet.predict([inputs2[i:i+window],inputs3[i:i+window]])\n",
    "t.min(),t.max()"
   ]
  },
  {
   "cell_type": "code",
   "execution_count": null,
   "metadata": {
    "scrolled": true
   },
   "outputs": [],
   "source": [
    "\n",
    "x,q,k,v,s,scores,beta,o = concat_sa_1\n",
    "display(pd.DataFrame(x[0]))\n",
    "display(pd.DataFrame(q[0]))\n",
    "display(pd.DataFrame(k[0]))\n",
    "display(pd.DataFrame(v[0]))\n",
    "plt.imshow(s[0])\n",
    "plt.show()\n",
    "plt.imshow(scores[0])\n",
    "plt.show()\n",
    "plt.imshow(beta[0])\n",
    "plt.show()\n",
    "display(pd.DataFrame(o[0]))"
   ]
  },
  {
   "cell_type": "code",
   "execution_count": null,
   "metadata": {
    "scrolled": true
   },
   "outputs": [],
   "source": [
    "o, g1,g2= residual_combine_sa_1\n",
    "print(g1[0],g2[0],g1.shape,g2.shape)\n",
    "display(pd.DataFrame(o[0]))"
   ]
  },
  {
   "cell_type": "code",
   "execution_count": null,
   "metadata": {
    "scrolled": true
   },
   "outputs": [],
   "source": [
    "# pd.DataFrame(concat_sa_4[1])"
   ]
  },
  {
   "cell_type": "code",
   "execution_count": null,
   "metadata": {
    "scrolled": true
   },
   "outputs": [],
   "source": [
    "pd.DataFrame(textNet_output[0])"
   ]
  },
  {
   "cell_type": "code",
   "execution_count": null,
   "metadata": {},
   "outputs": [],
   "source": [
    "# with open('../tf_runs/log.csv','a') as f:\n",
    "#     data = '{0:3d}/{7},{1:.4f},{2:.4f},{3:.4f},{4:.4f},{6:.4f}'.format(e+1, t_l, t_a, v_l, v_a, np.mean(tt),min_v_l,EPOCHS)\n",
    "#     t = strftime(\"%m/%d/%Y %H:%M:%S\",localtime())\n",
    "#     f.writelines('\\n[{0}],{1},{2}'.format(t, model_name,data))\n",
    "# data"
   ]
  },
  {
   "cell_type": "code",
   "execution_count": null,
   "metadata": {},
   "outputs": [],
   "source": [
    "history = pd.DataFrame()\n",
    "history['tr_acc'] = hist_ta\n",
    "history['val_acc'] = hist_va\n",
    "history['tr_loss'] = hist_tl\n",
    "history['val_loss'] = hist_vl\n",
    "display(history[['tr_acc','val_acc']].plot())\n",
    "display(history[['tr_loss','val_loss']].plot())\n",
    "history.to_csv('../tf_runs/{0}_x_delete.csv'.format(model_name),index=False)"
   ]
  },
  {
   "cell_type": "markdown",
   "metadata": {},
   "source": [
    "# Evaluate"
   ]
  },
  {
   "cell_type": "code",
   "execution_count": null,
   "metadata": {},
   "outputs": [],
   "source": [
    "model.load_weights('../checkpoints/{0}.h5'.format(model_name))"
   ]
  },
  {
   "cell_type": "code",
   "execution_count": null,
   "metadata": {
    "scrolled": true
   },
   "outputs": [],
   "source": [
    "\n",
    "def predict_captions(image):\n",
    "    start_word = [\"startseq\"]\n",
    "    mask = np.zeros((1,max_wlen,1))+0.001\n",
    "    counter=0\n",
    "    while True:\n",
    "        counter-=1\n",
    "        mask[:,counter,:]=1.0\n",
    "        print(np.sum(mask))\n",
    "        par_caps = [w_to_co[i] for i in start_word]\n",
    "        par_caps = sequence.pad_sequences([par_caps], maxlen=max_wlen, padding='pre',value=0)\n",
    "        preds = model.predict([image, np.array(par_caps),mask])\n",
    "#         print(preds.shape)\n",
    "        idx = preds.argmax(-1)\n",
    "        word_pred = co_to_w[idx[0]]\n",
    "#         print(par_caps)\n",
    "        start_word.append(word_pred)\n",
    "        \n",
    "        if word_pred == \"endseq\" or len(start_word) > max_wlen:\n",
    "            break\n",
    "            \n",
    "    return ' '.join(start_word[1:-1])\n",
    "\n",
    "# print('Predicted:',' '.join(out_text))"
   ]
  },
  {
   "cell_type": "code",
   "execution_count": null,
   "metadata": {},
   "outputs": [],
   "source": [
    "def beam_search_predictions(image, beam_index = 3):\n",
    "    start = [w_to_co[\"startseq\"]]\n",
    "    \n",
    "    # start_word[0][0] = index of the starting word\n",
    "    # start_word[0][1] = probability of the word predicted\n",
    "    start_word = [[start, 0.0]]\n",
    "    mask = np.zeros((1,max_wlen,1))+0.001\n",
    "    counter=0\n",
    "    while len(start_word[0][0]) < max_wlen:\n",
    "        temp = []\n",
    "        counter-=1\n",
    "        mask[:,counter,:]=1.0\n",
    "#         print(np.sum(mask))\n",
    "        for s in start_word:\n",
    "            \n",
    "            par_caps = sequence.pad_sequences([s[0]], maxlen=max_wlen, padding='pre', value=0)\n",
    "            preds = model.predict([image, np.array(par_caps),mask])\n",
    "            \n",
    "            # Getting the top <beam_index>(n) predictions\n",
    "            word_preds = np.argsort(preds[0])[-beam_index:]\n",
    "            \n",
    "            # creating a new list so as to put them via the model again\n",
    "            for w in word_preds:\n",
    "                next_cap, prob = s[0][:], s[1]\n",
    "                next_cap.append(w)\n",
    "                prob += preds[0][w]\n",
    "                temp.append([next_cap, prob])\n",
    "                    \n",
    "        start_word = temp\n",
    "        # Sorting according to the probabilities\n",
    "        start_word = sorted(start_word, reverse=False, key=lambda l: l[1])\n",
    "        # Getting the top words\n",
    "        start_word = start_word[-beam_index:]\n",
    "    \n",
    "    start_word = start_word[-1][0]\n",
    "    intermediate_caption = [co_to_w[i] for i in start_word]\n",
    "\n",
    "    final_caption = []\n",
    "    \n",
    "    for i in intermediate_caption:\n",
    "        if i != 'endseq':\n",
    "            final_caption.append(i)\n",
    "        else:\n",
    "            break\n",
    "    \n",
    "    final_caption = ' '.join(final_caption[1:])\n",
    "    return final_caption"
   ]
  },
  {
   "cell_type": "code",
   "execution_count": null,
   "metadata": {
    "scrolled": true
   },
   "outputs": [],
   "source": [
    "ref_sents = []\n",
    "pred_sents = []\n",
    "for counter in tqdm(range(len(test_images_list))):\n",
    "    testx,testy = next(test_gen)\n",
    "    photo = testx['image_input'][0]\n",
    "#     plt.imshow(photo)\n",
    "#     plt.show()\n",
    "    photo = np.expand_dims(photo,0)\n",
    "    \n",
    "#     print('Actual:',testy['actual_sentence'][0])\n",
    "#     print()\n",
    "    # st = time()\n",
    "    # pred_greedy = predict_captions(photo)\n",
    "    # et = time()\n",
    "    # print('Greedy Predicted:{0},[{1:.2f} s]'.format(pred_greedy,et-st))\n",
    "#     st = time()\n",
    "    pred_bm5 = beam_search_predictions(photo,beam_index=5)\n",
    "#     et = time()\n",
    "#     print('Beam-5 Predicted:{0},[{1:.2f} s]'.format(pred_bm5,et-st))\n",
    "    ref_sents.append(testy['actual_sentence'][0])\n",
    "    pred_sents.append(pred_bm5)\n",
    "    if counter==10:\n",
    "        break"
   ]
  },
  {
   "cell_type": "code",
   "execution_count": null,
   "metadata": {
    "scrolled": true
   },
   "outputs": [],
   "source": [
    "\n",
    "# st = time()\n",
    "# pred_greedy = predict_captions(photo)\n",
    "# et = time()\n",
    "# print('Greedy Predicted:{0},[{1:.2f} s]'.format(pred_greedy,et-st))\n",
    "\n",
    "# st = time()\n",
    "# pred_bm3 = beam_search_predictions(photo,beam_index=3)\n",
    "# et = time()\n",
    "# print('Beam-3 Predicted:{0},[{1:.2f} s]'.format(pred_bm3,et-st))\n",
    "\n",
    "# st = time()\n",
    "# pred_bm5 = beam_search_predictions(photo,beam_index=5)\n",
    "# et = time()\n",
    "# print('Beam-5 Predicted:{0},[{1:.2f} s]'.format(pred_bm5,et-st))\n",
    "\n",
    "# st = time()\n",
    "# pred_bm7 = beam_search_predictions(photo,beam_index=7)\n",
    "# et = time()\n",
    "# print('Beam-7 Predicted:{0},[{1:.2f} s]'.format(pred_bm7,et-st))\n",
    "pd.set_option('display.max_colwidth', -1)\n",
    "df_pred = pd.DataFrame()\n",
    "df_pred['Ref'] = ref_sents\n",
    "df_pred['Pred'] = pred_sents\n",
    "df_pred"
   ]
  },
  {
   "cell_type": "code",
   "execution_count": null,
   "metadata": {},
   "outputs": [],
   "source": [
    "from nltk.translate.bleu_score import sentence_bleu\n",
    "from rouge import Rouge\n",
    "rouge = Rouge()\n",
    "reference = nlp(str(vy['actual_sentence'][0]))\n",
    "reference = [[str(x) for x in list(reference)]]\n",
    "\n",
    "\n",
    "# candidate = nlp(pred_greedy)\n",
    "# candidate = [str(x) for x in list(candidate)]\n",
    "# df_result['greedy'] = [sentence_bleu(reference, candidate, weights=(1, 0, 0, 0))\n",
    "#                       ,sentence_bleu(reference, candidate, weights=(0.5, 0.5, 0, 0))\n",
    "#                       ,sentence_bleu(reference, candidate, weights=(0.33, 0.33, 0.33, 0))\n",
    "#                       ,sentence_bleu(reference, candidate, weights=(0.25, 0.25, 0.25, 0.25))]\n",
    "\n",
    "# candidate = nlp(pred_bm3)\n",
    "# candidate = [str(x) for x in list(candidate)]\n",
    "# df_result['bm3'] = [sentence_bleu(reference, candidate, weights=(1, 0, 0, 0))\n",
    "#                       ,sentence_bleu(reference, candidate, weights=(0.5, 0.5, 0, 0))\n",
    "#                       ,sentence_bleu(reference, candidate, weights=(0.33, 0.33, 0.33, 0))\n",
    "#                       ,sentence_bleu(reference, candidate, weights=(0.25, 0.25, 0.25, 0.25))]\n",
    "row = []\n",
    "for i in range(len(ref_sents)):\n",
    "    r = ref_sents[i]\n",
    "    c = pred_sents[i]\n",
    "    reference = nlp(str(r))\n",
    "    reference = [[str(x) for x in list(reference)]]\n",
    "    candidate = nlp(str(c))\n",
    "    candidate = [str(x) for x in list(candidate)]\n",
    "    row.append([sentence_bleu(reference, candidate, weights=(1, 0, 0, 0))\n",
    "                          ,sentence_bleu(reference, candidate, weights=(0.5, 0.5, 0, 0))\n",
    "                          ,sentence_bleu(reference, candidate, weights=(0.33, 0.33, 0.33, 0))\n",
    "                          ,sentence_bleu(reference, candidate, weights=(0.25, 0.25, 0.25, 0.25))\n",
    "                          ,rouge.get_scores(hyps=c,refs=r)[0]['rouge-l']['f']])\n",
    "\n",
    "\n",
    "# candidate = nlp(pred_bm7)\n",
    "# candidate = [str(x) for x in list(candidate)]\n",
    "# df_result['bm7'] = [sentence_bleu(reference, candidate, weights=(1, 0, 0, 0))\n",
    "#                       ,sentence_bleu(reference, candidate, weights=(0.5, 0.5, 0, 0))\n",
    "#                       ,sentence_bleu(reference, candidate, weights=(0.33, 0.33, 0.33, 0))\n",
    "#                       ,sentence_bleu(reference, candidate, weights=(0.25, 0.25, 0.25, 0.25))]\n",
    "df_result = pd.DataFrame(row)\n",
    "df_result.columns = ['BLEU-1','BLEU-2','BLEU-3','BLEU-4','ROUGE-L']\n",
    "df_result=df_result.round(3)"
   ]
  },
  {
   "cell_type": "code",
   "execution_count": null,
   "metadata": {},
   "outputs": [],
   "source": [
    "# ref_sents,pred_sents\n",
    "df_result.mean()"
   ]
  },
  {
   "cell_type": "code",
   "execution_count": null,
   "metadata": {
    "scrolled": true
   },
   "outputs": [],
   "source": [
    "pd.DataFrame(row)"
   ]
  },
  {
   "cell_type": "code",
   "execution_count": null,
   "metadata": {},
   "outputs": [],
   "source": [
    "\n",
    "reference = str(vy['actual_sentence'][0])\n",
    "# reference = [[str(x) for x in list(reference)]]\n",
    "candidate = pre\n",
    "# candidate = [str(x) for x in list(candidate)]\n",
    "ro = rouge.get_scores(hyps=candidate,refs=reference)\n",
    "ro[0]['ROUGE-L']['f']"
   ]
  },
  {
   "cell_type": "code",
   "execution_count": null,
   "metadata": {},
   "outputs": [],
   "source": [
    "pd.DataFrame(ro[0]).T"
   ]
  },
  {
   "cell_type": "code",
   "execution_count": null,
   "metadata": {},
   "outputs": [],
   "source": [
    "from pycocoevalcap.bleu.bleu import Bleu\n",
    "from pycocoevalcap.rouge.rouge import Rouge\n",
    "from pycocoevalcap.cider.cider import Cider\n",
    "from pycocoevalcap.meteor.meteor import Meteor"
   ]
  },
  {
   "cell_type": "code",
   "execution_count": null,
   "metadata": {},
   "outputs": [],
   "source": [
    "def calc_scores(ref, hypo):\n",
    "    \"\"\"\n",
    "    ref, dictionary of reference sentences (id, sentence)\n",
    "    hypo, dictionary of hypothesis sentences (id, sentence)\n",
    "    score, dictionary of scores\n",
    "    \"\"\"\n",
    "    scorers = [\n",
    "#         (Bleu(4), [\"Bleu_1\", \"Bleu_2\", \"Bleu_3\", \"Bleu_4\"]),\n",
    "#         (Meteor(),\"METEOR\"),\n",
    "        (Rouge(), \"ROUGE_L\"),\n",
    "        (Cider(), \"CIDEr\")\n",
    "    ]\n",
    "    final_scores = {}\n",
    "    for scorer, method in scorers:\n",
    "        score, scores = scorer.compute_score(ref, hypo)\n",
    "        if type(score) == list:\n",
    "            for m, s in zip(method, score):\n",
    "                final_scores[m] = s\n",
    "        else:\n",
    "            final_scores[method] = score\n",
    "    return final_scores "
   ]
  },
  {
   "cell_type": "code",
   "execution_count": null,
   "metadata": {},
   "outputs": [],
   "source": [
    "calc_scores(ref=ref_sents,hypo=pred_sents)"
   ]
  },
  {
   "cell_type": "code",
   "execution_count": null,
   "metadata": {},
   "outputs": [],
   "source": [
    "from nlgeval import NLGEval\n",
    "nlgeval = NLGEval()  # loads the models\n"
   ]
  },
  {
   "cell_type": "code",
   "execution_count": null,
   "metadata": {},
   "outputs": [],
   "source": [
    "references = []\n",
    "hypothesis = []\n",
    "import pickle\n",
    "import numpy as np\n",
    "with open('../dataset/chestxray_cnn_attention_decoder_ref_sents.p', 'rb') as file:\n",
    "    # store the data as binary data stream\n",
    "    references=pickle.load(file)\n",
    "with open('../dataset/chestxray_cnn_attention_decoder_pred_sents.p', 'rb') as file:\n",
    "    # store the data as binary data stream\n",
    "    hypothesis=pickle.load(file)\n",
    "    \n",
    "references=np.array(references)\n",
    "hypothesis=np.array(hypothesis)\n",
    "references[:2],hypothesis[:2]"
   ]
  },
  {
   "cell_type": "code",
   "execution_count": null,
   "metadata": {},
   "outputs": [],
   "source": [
    "refs=np.expand_dims(ref_sents,1)\n",
    "# hyps=np.expand_dims(hypothesis,0)\n",
    "refs=refs.tolist()\n",
    "# hyps=hyps.tolist()\n",
    "hypothesis = pred_sents\n",
    "len(refs),len(hypothesis)"
   ]
  },
  {
   "cell_type": "code",
   "execution_count": null,
   "metadata": {},
   "outputs": [],
   "source": [
    "metrics_dict = nlgeval.compute_metrics(refs, hypothesis)"
   ]
  },
  {
   "cell_type": "code",
   "execution_count": null,
   "metadata": {},
   "outputs": [],
   "source": [
    "r = {idx: strippedlines for (idx, strippedlines) in enumerate(refs)}"
   ]
  },
  {
   "cell_type": "code",
   "execution_count": null,
   "metadata": {},
   "outputs": [],
   "source": [
    "len(r)"
   ]
  },
  {
   "cell_type": "code",
   "execution_count": null,
   "metadata": {},
   "outputs": [],
   "source": [
    "h = {idx: [lines.strip()] for (idx, lines) in enumerate(hypothesis)}"
   ]
  },
  {
   "cell_type": "code",
   "execution_count": null,
   "metadata": {},
   "outputs": [],
   "source": [
    "len(h)"
   ]
  },
  {
   "cell_type": "code",
   "execution_count": null,
   "metadata": {},
   "outputs": [],
   "source": [
    "refs[0],hypothesis[0]"
   ]
  },
  {
   "cell_type": "code",
   "execution_count": null,
   "metadata": {},
   "outputs": [],
   "source": [
    "from nlgeval import compute_individual_metrics\n"
   ]
  },
  {
   "cell_type": "code",
   "execution_count": null,
   "metadata": {},
   "outputs": [],
   "source": [
    "metrics_dict = compute_individual_metrics(refs[1], hypothesis[1])"
   ]
  },
  {
   "cell_type": "code",
   "execution_count": null,
   "metadata": {},
   "outputs": [],
   "source": [
    "import pandas as pd\n",
    "df = pd.DataFrame.from_dict(metrics_dict,orient='index').T"
   ]
  },
  {
   "cell_type": "code",
   "execution_count": null,
   "metadata": {},
   "outputs": [],
   "source": [
    "df = pd.DataFrame()\n",
    "for i in range(300):\n",
    "    m = nlgeval.compute_individual_metrics(refs[i], hypothesis[i])\n",
    "    d = pd.DataFrame.from_dict(m,orient='index').T\n",
    "    df = df.append(d)\n",
    "    print(np.around(i*100//300,2),end='\\r')"
   ]
  },
  {
   "cell_type": "code",
   "execution_count": null,
   "metadata": {},
   "outputs": [],
   "source": [
    "df.shape"
   ]
  },
  {
   "cell_type": "code",
   "execution_count": null,
   "metadata": {},
   "outputs": [],
   "source": [
    "df.mean()"
   ]
  },
  {
   "cell_type": "code",
   "execution_count": null,
   "metadata": {},
   "outputs": [],
   "source": [
    "testx,testy = next(test_gen)\n",
    "plt.imshow(testx['image_input'][1])"
   ]
  },
  {
   "cell_type": "code",
   "execution_count": null,
   "metadata": {},
   "outputs": [],
   "source": [
    "testx.keys()"
   ]
  },
  {
   "cell_type": "code",
   "execution_count": null,
   "metadata": {},
   "outputs": [],
   "source": [
    "for layer  in model.layers:\n",
    "    print(layer.name)"
   ]
  },
  {
   "cell_type": "code",
   "execution_count": null,
   "metadata": {},
   "outputs": [],
   "source": [
    "model_img2_text_ca_1 = Model(model.inputs,model.get_layer('img2text_1').output)\n",
    "model_img2_text_ca_2 = Model(model.inputs,model.get_layer('img2text_2').output)\n",
    "model_img2_text_ca_3 = Model(model.inputs,model.get_layer('img2text_3').output)\n",
    "model_img2_text_ca_4 = Model(model.inputs,model.get_layer('img2text_4').output)\n",
    "# model_text2_img_ca_1 = Model(model.inputs,model.get_layer('text2img_1').output)\n",
    "# model_text2_img_ca_2 = Model(model.inputs,model.get_layer('text2img_2').output)\n",
    "# model_text2_img_ca_3 = Model(model.inputs,model.get_layer('text2img_3').output)\n",
    "# model_text2_img_ca_4 = Model(model.inputs,model.get_layer('text2img_4').output)"
   ]
  },
  {
   "cell_type": "code",
   "execution_count": null,
   "metadata": {},
   "outputs": [],
   "source": [
    "fi2t_1,bi2t_1 = model_img2_text_ca_1.predict(testx)\n",
    "fi2t_2,bi2t_2 = model_img2_text_ca_2.predict(testx)\n",
    "fi2t_3,bi2t_3 = model_img2_text_ca_3.predict(testx)\n",
    "fi2t_4,bi2t_4 = model_img2_text_ca_4.predict(testx)\n",
    "# ft2i_1,bt2i_1 = model_text2_img_ca_1.predict(testx)\n",
    "# ft2i_2,bt2i_2 = model_text2_img_ca_2.predict(testx)\n",
    "# ft2i_3,bt2i_3 = model_text2_img_ca_3.predict(testx)\n",
    "# ft2i_4,bt2i_4 = model_text2_img_ca_4.predict(testx)"
   ]
  },
  {
   "cell_type": "code",
   "execution_count": null,
   "metadata": {},
   "outputs": [],
   "source": [
    "fi2t_1.shape,bi2t_1.shape"
   ]
  },
  {
   "cell_type": "code",
   "execution_count": null,
   "metadata": {},
   "outputs": [],
   "source": [
    "# bt2i_add = bt2i_1+bt2i_1+bt2i_1+bt2i_1\n",
    "bi2t_add = bi2t_1+bi2t_1+bi2t_1+bi2t_1"
   ]
  },
  {
   "cell_type": "code",
   "execution_count": null,
   "metadata": {},
   "outputs": [],
   "source": [
    "# bt2i_add.shape\n",
    "bi2t_add.shape"
   ]
  },
  {
   "cell_type": "code",
   "execution_count": null,
   "metadata": {
    "scrolled": true
   },
   "outputs": [],
   "source": [
    "# for j in range(bt2i_add.shape[0]):    \n",
    "#     i=testx['words_input'][j][-1]\n",
    "#     if i!=0:\n",
    "#         print(j,':',co_to_w[i])\n",
    "#         plt.imshow(bt2i_add[j])\n",
    "#         plt.show()\n",
    "for j in range(bi2t_add.shape[0]):    \n",
    "    i=testx['words_input'][j][-1]\n",
    "    if i!=0:\n",
    "        print(j,':',co_to_w[i])\n",
    "        plt.imshow(bi2t_add[j])\n",
    "        plt.show()"
   ]
  },
  {
   "cell_type": "code",
   "execution_count": null,
   "metadata": {
    "scrolled": true
   },
   "outputs": [],
   "source": [
    "\n",
    "for i in range(pd.DataFrame(bt2i_add[j]).shape[0]):\n",
    "    print('Row:{0},Max Col Idx:{1},Max Col Value:{2}'.format(i,np.argmax(bt2i_add[j][i]),np.max(bt2i_add[j][i])))"
   ]
  },
  {
   "cell_type": "code",
   "execution_count": null,
   "metadata": {},
   "outputs": [],
   "source": [
    "plt.imshow(cv2.resize(bt2i_add[j][57].reshape((8,8)),(256,256),cv2.INTER_CUBIC),cmap='jet')"
   ]
  },
  {
   "cell_type": "code",
   "execution_count": null,
   "metadata": {},
   "outputs": [],
   "source": [
    "plt.imshow(testx['image_input'][1])\n",
    "plt.imshow(cv2.resize(bt2i_add[j][57].reshape((8,8)),(256,256),cv2.INTER_CUBIC),cmap='jet',alpha=0.2)"
   ]
  },
  {
   "cell_type": "code",
   "execution_count": null,
   "metadata": {},
   "outputs": [],
   "source": [
    "testx['words_input'].shape"
   ]
  },
  {
   "cell_type": "code",
   "execution_count": null,
   "metadata": {},
   "outputs": [],
   "source": []
  }
 ],
 "metadata": {
  "kernelspec": {
   "display_name": "tf-gpu-2",
   "language": "python",
   "name": "tf-gpu-2"
  },
  "language_info": {
   "codemirror_mode": {
    "name": "ipython",
    "version": 3
   },
   "file_extension": ".py",
   "mimetype": "text/x-python",
   "name": "python",
   "nbconvert_exporter": "python",
   "pygments_lexer": "ipython3",
   "version": "3.7.7"
  },
  "widgets": {
   "application/vnd.jupyter.widget-state+json": {
    "state": {
     "010ddc4d28bb400086c0f716b1b05081": {
      "model_module": "@jupyter-widgets/controls",
      "model_module_version": "1.4.0",
      "model_name": "HTMLModel",
      "state": {
       "layout": "IPY_MODEL_25ba7d4374d64d1ea836263eb885ff1f",
       "style": "IPY_MODEL_a77b20594717439c857484463f15d685",
       "value": " 87/87 [53:44&lt;00:00, 38.10s/it]"
      }
     },
     "0280fe5d1eea4b63be2e80d2bac721e2": {
      "model_module": "@jupyter-widgets/base",
      "model_module_version": "1.1.0",
      "model_name": "LayoutModel",
      "state": {}
     },
     "03bc49a6777843978e3bd9ab0746c4ea": {
      "model_module": "@jupyter-widgets/base",
      "model_module_version": "1.1.0",
      "model_name": "LayoutModel",
      "state": {}
     },
     "0472670dccd64233b3402e3ec774781b": {
      "model_module": "@jupyter-widgets/base",
      "model_module_version": "1.1.0",
      "model_name": "LayoutModel",
      "state": {}
     },
     "052876b3ff7f489388a43f2109559840": {
      "model_module": "@jupyter-widgets/base",
      "model_module_version": "1.1.0",
      "model_name": "LayoutModel",
      "state": {}
     },
     "0618ddd48aa24064bfa7f7aea072302c": {
      "model_module": "@jupyter-widgets/base",
      "model_module_version": "1.1.0",
      "model_name": "LayoutModel",
      "state": {}
     },
     "067983ddd1564ec598fae1fd9300af41": {
      "model_module": "@jupyter-widgets/base",
      "model_module_version": "1.1.0",
      "model_name": "LayoutModel",
      "state": {}
     },
     "0686955cb1b445a68a2a57b2dbaa6d2f": {
      "model_module": "@jupyter-widgets/controls",
      "model_module_version": "1.4.0",
      "model_name": "ProgressStyleModel",
      "state": {
       "description_width": "initial"
      }
     },
     "07ed5e3500a74d40b42007338756ab20": {
      "model_module": "@jupyter-widgets/controls",
      "model_module_version": "1.4.0",
      "model_name": "FloatProgressModel",
      "state": {
       "description": "Val_Iter: 100%",
       "layout": "IPY_MODEL_d5d90296b40a4357acc9ef4fedffddd9",
       "max": 11,
       "style": "IPY_MODEL_7fc0a03f8e284e94b24bf0f7368b30f6",
       "value": 11
      }
     },
     "08055ccfabde4b74823c630e8d8fccc8": {
      "model_module": "@jupyter-widgets/controls",
      "model_module_version": "1.4.0",
      "model_name": "HTMLModel",
      "state": {
       "layout": "IPY_MODEL_179e763d2a5a45f69d34337d684acb56",
       "style": "IPY_MODEL_98cb38a225034c839f812ed49bc98ac2",
       "value": " 11/11 [03:55&lt;00:00, 21.44s/it]"
      }
     },
     "0990ad529e90440894fecbbd7a2ada24": {
      "model_module": "@jupyter-widgets/controls",
      "model_module_version": "1.4.0",
      "model_name": "ProgressStyleModel",
      "state": {
       "description_width": "initial"
      }
     },
     "0a175d8e29c04840a4de3eadcd496bf3": {
      "model_module": "@jupyter-widgets/controls",
      "model_module_version": "1.4.0",
      "model_name": "DescriptionStyleModel",
      "state": {
       "description_width": ""
      }
     },
     "0a4c152367ec46d5b59b5b79e9e443a2": {
      "model_module": "@jupyter-widgets/base",
      "model_module_version": "1.1.0",
      "model_name": "LayoutModel",
      "state": {}
     },
     "0b860d367e804ec2b99a27f85128bbaf": {
      "model_module": "@jupyter-widgets/controls",
      "model_module_version": "1.4.0",
      "model_name": "DescriptionStyleModel",
      "state": {
       "description_width": ""
      }
     },
     "0c4f07398e294335bc2e8a7e16fea46f": {
      "model_module": "@jupyter-widgets/controls",
      "model_module_version": "1.4.0",
      "model_name": "DescriptionStyleModel",
      "state": {
       "description_width": ""
      }
     },
     "0ce5f1018d3c41778f8fab81aec0caf6": {
      "model_module": "@jupyter-widgets/controls",
      "model_module_version": "1.4.0",
      "model_name": "FloatProgressModel",
      "state": {
       "description": "Val_Iter: 100%",
       "layout": "IPY_MODEL_d3e9397743a54c8183dd5c423f86b308",
       "max": 11,
       "style": "IPY_MODEL_4effd6426d614c288a8443c510b2a87b",
       "value": 11
      }
     },
     "0d928394f999419ea2aef54232a33030": {
      "model_module": "@jupyter-widgets/controls",
      "model_module_version": "1.4.0",
      "model_name": "HBoxModel",
      "state": {
       "children": [
        "IPY_MODEL_3574245a70da48d69ba2da2869262c9e",
        "IPY_MODEL_64c5b696c583401189d6062689629b0f"
       ],
       "layout": "IPY_MODEL_3ac70d2d65cf45a6aa51391d273af503"
      }
     },
     "0dfba8164d784be886b31fae8ec54e67": {
      "model_module": "@jupyter-widgets/controls",
      "model_module_version": "1.4.0",
      "model_name": "DescriptionStyleModel",
      "state": {
       "description_width": ""
      }
     },
     "0e522d1d81e94f71a55592563548c143": {
      "model_module": "@jupyter-widgets/base",
      "model_module_version": "1.1.0",
      "model_name": "LayoutModel",
      "state": {}
     },
     "103af0ab7c7b4c30b7a8b13026f4025d": {
      "model_module": "@jupyter-widgets/controls",
      "model_module_version": "1.4.0",
      "model_name": "HTMLModel",
      "state": {
       "layout": "IPY_MODEL_65af2c1ce6cc4a7db329d01b71a01e2e",
       "style": "IPY_MODEL_4c1fd3010ec4457c92504ac15f707a23",
       "value": " 11/11 [03:59&lt;00:00, 21.59s/it]"
      }
     },
     "114db825e35e4419a53098ee3f75e961": {
      "model_module": "@jupyter-widgets/controls",
      "model_module_version": "1.4.0",
      "model_name": "HBoxModel",
      "state": {
       "children": [
        "IPY_MODEL_23eca8db2f42440083f030ef059c1f5a",
        "IPY_MODEL_e23abb7e8ed844639541b3d321db77d6"
       ],
       "layout": "IPY_MODEL_03bc49a6777843978e3bd9ab0746c4ea"
      }
     },
     "128c9f0683a8419db700394458b19137": {
      "model_module": "@jupyter-widgets/controls",
      "model_module_version": "1.4.0",
      "model_name": "DescriptionStyleModel",
      "state": {
       "description_width": ""
      }
     },
     "12910800928f48519c60dc501bda1e52": {
      "model_module": "@jupyter-widgets/base",
      "model_module_version": "1.1.0",
      "model_name": "LayoutModel",
      "state": {}
     },
     "12b6cbaaeb43475ab19d718096325861": {
      "model_module": "@jupyter-widgets/controls",
      "model_module_version": "1.4.0",
      "model_name": "HTMLModel",
      "state": {
       "layout": "IPY_MODEL_95a8d0221b8644288af205b07b05a460",
       "style": "IPY_MODEL_2976b59ab70248f6b95bc162712bbdb2",
       "value": " 0/87 [00:00&lt;?, ?it/s]"
      }
     },
     "13a7bb140ef5437ba0915b4945e3218f": {
      "model_module": "@jupyter-widgets/controls",
      "model_module_version": "1.4.0",
      "model_name": "DescriptionStyleModel",
      "state": {
       "description_width": ""
      }
     },
     "14d2f602a8ef425fb0496f698080154e": {
      "model_module": "@jupyter-widgets/controls",
      "model_module_version": "1.4.0",
      "model_name": "HTMLModel",
      "state": {
       "layout": "IPY_MODEL_12910800928f48519c60dc501bda1e52",
       "style": "IPY_MODEL_7bd832a9bed44210817e0edfcaef2f6a",
       "value": " 11/11 [04:14&lt;00:00, 23.29s/it]"
      }
     },
     "14e9ffc2d75f4e8b9b370037a0f20514": {
      "model_module": "@jupyter-widgets/controls",
      "model_module_version": "1.4.0",
      "model_name": "DescriptionStyleModel",
      "state": {
       "description_width": ""
      }
     },
     "15b40f5b7e434ff18a25568f612fc490": {
      "model_module": "@jupyter-widgets/controls",
      "model_module_version": "1.4.0",
      "model_name": "ProgressStyleModel",
      "state": {
       "description_width": "initial"
      }
     },
     "15c5c40caf5c419384c930ca5cf787bb": {
      "model_module": "@jupyter-widgets/controls",
      "model_module_version": "1.4.0",
      "model_name": "HTMLModel",
      "state": {
       "layout": "IPY_MODEL_fad18746c9e0432bb83862ed21b8a3b6",
       "style": "IPY_MODEL_cddff91b4c7d4f9f93fd18ceda00ee51",
       "value": " 14/87 [08:41&lt;46:06, 37.90s/it]"
      }
     },
     "1607dbcd442b41e69ee3c78719d9024d": {
      "model_module": "@jupyter-widgets/controls",
      "model_module_version": "1.4.0",
      "model_name": "FloatProgressModel",
      "state": {
       "description": "Train_Iter: 100%",
       "layout": "IPY_MODEL_642809ddfbf94c39ad35538cd368e0b2",
       "max": 87,
       "style": "IPY_MODEL_831d94698c33465db8277691c9a69757",
       "value": 87
      }
     },
     "16cdc7cd5bb54a308935142b9776b7d7": {
      "model_module": "@jupyter-widgets/controls",
      "model_module_version": "1.4.0",
      "model_name": "ProgressStyleModel",
      "state": {
       "description_width": "initial"
      }
     },
     "174f37da3ad94a50bbb9c84f0c3383e1": {
      "model_module": "@jupyter-widgets/controls",
      "model_module_version": "1.4.0",
      "model_name": "ProgressStyleModel",
      "state": {
       "description_width": "initial"
      }
     },
     "179e763d2a5a45f69d34337d684acb56": {
      "model_module": "@jupyter-widgets/base",
      "model_module_version": "1.1.0",
      "model_name": "LayoutModel",
      "state": {}
     },
     "183fb3a7584e41329f2efaee99309575": {
      "model_module": "@jupyter-widgets/base",
      "model_module_version": "1.1.0",
      "model_name": "LayoutModel",
      "state": {}
     },
     "1aa0b931cf0f4003a49bb2c157e15353": {
      "model_module": "@jupyter-widgets/controls",
      "model_module_version": "1.4.0",
      "model_name": "HTMLModel",
      "state": {
       "layout": "IPY_MODEL_067983ddd1564ec598fae1fd9300af41",
       "style": "IPY_MODEL_fb0c0b497e6b4e4892750019872f4164",
       "value": " 87/87 [53:43&lt;00:00, 38.17s/it]"
      }
     },
     "1af734f465bb4948a5a1ab0d64bc1255": {
      "model_module": "@jupyter-widgets/base",
      "model_module_version": "1.1.0",
      "model_name": "LayoutModel",
      "state": {}
     },
     "1bd0dc943989432b90e6eecf58d9f409": {
      "model_module": "@jupyter-widgets/controls",
      "model_module_version": "1.4.0",
      "model_name": "HTMLModel",
      "state": {
       "layout": "IPY_MODEL_39428a1a4a0c4e7fae82479685f1175a",
       "style": "IPY_MODEL_13a7bb140ef5437ba0915b4945e3218f",
       "value": " 11/11 [04:21&lt;00:00, 22.43s/it]"
      }
     },
     "1c04700293c6429d92cfa48a870a1913": {
      "model_module": "@jupyter-widgets/controls",
      "model_module_version": "1.4.0",
      "model_name": "ProgressStyleModel",
      "state": {
       "description_width": "initial"
      }
     },
     "1c7085a5ca4e4b0b81d08c57ca94f16f": {
      "model_module": "@jupyter-widgets/base",
      "model_module_version": "1.1.0",
      "model_name": "LayoutModel",
      "state": {}
     },
     "1cb61d70630b4bb3ba593ef1033a0d0d": {
      "model_module": "@jupyter-widgets/controls",
      "model_module_version": "1.4.0",
      "model_name": "HTMLModel",
      "state": {
       "layout": "IPY_MODEL_052876b3ff7f489388a43f2109559840",
       "style": "IPY_MODEL_ff888637100642dca130ec2fb7232e13",
       "value": " 87/87 [53:38&lt;00:00, 37.54s/it]"
      }
     },
     "1e15df9ed4c2438e870aa8434890313f": {
      "model_module": "@jupyter-widgets/base",
      "model_module_version": "1.1.0",
      "model_name": "LayoutModel",
      "state": {}
     },
     "1ef0475776934256bcc2e5e6e89d4935": {
      "model_module": "@jupyter-widgets/controls",
      "model_module_version": "1.4.0",
      "model_name": "ProgressStyleModel",
      "state": {
       "description_width": "initial"
      }
     },
     "1f4a44ce3c704cea8062213e1fa35e37": {
      "model_module": "@jupyter-widgets/controls",
      "model_module_version": "1.4.0",
      "model_name": "HBoxModel",
      "state": {
       "children": [
        "IPY_MODEL_7d752123f9294b29b3a6dfc381a1f6ea",
        "IPY_MODEL_12b6cbaaeb43475ab19d718096325861"
       ],
       "layout": "IPY_MODEL_f6cf5d1a71ca4dd3bce344957887c2e2"
      }
     },
     "1fc6ec1bf412461d97d727cfe944c8bd": {
      "model_module": "@jupyter-widgets/controls",
      "model_module_version": "1.4.0",
      "model_name": "DescriptionStyleModel",
      "state": {
       "description_width": ""
      }
     },
     "1fd2f5558ccf4b31b9546312dc0fa4eb": {
      "model_module": "@jupyter-widgets/base",
      "model_module_version": "1.1.0",
      "model_name": "LayoutModel",
      "state": {}
     },
     "2052b7f46d744fe4bb1239adc0a804a1": {
      "model_module": "@jupyter-widgets/controls",
      "model_module_version": "1.4.0",
      "model_name": "HTMLModel",
      "state": {
       "layout": "IPY_MODEL_ee68112692074b64bf325156e4f8688a",
       "style": "IPY_MODEL_7e3993445e57417eab04babf83884ae5",
       "value": " 20/87 [12:28&lt;42:28, 38.04s/it]"
      }
     },
     "206c3db300ff42f3b4dc3091ffad6c6d": {
      "model_module": "@jupyter-widgets/controls",
      "model_module_version": "1.4.0",
      "model_name": "HTMLModel",
      "state": {
       "layout": "IPY_MODEL_72a2701d461c48f3bcf907977706bcec",
       "style": "IPY_MODEL_b363d1e512884aaf95b42b34d820ffb2",
       "value": " 11/11 [04:14&lt;00:00, 22.85s/it]"
      }
     },
     "233c6fc7f2064032b5b38a7f846f0a49": {
      "model_module": "@jupyter-widgets/controls",
      "model_module_version": "1.4.0",
      "model_name": "DescriptionStyleModel",
      "state": {
       "description_width": ""
      }
     },
     "2368f46ac52e45b6ac26c5697935d13f": {
      "model_module": "@jupyter-widgets/controls",
      "model_module_version": "1.4.0",
      "model_name": "DescriptionStyleModel",
      "state": {
       "description_width": ""
      }
     },
     "23eca8db2f42440083f030ef059c1f5a": {
      "model_module": "@jupyter-widgets/controls",
      "model_module_version": "1.4.0",
      "model_name": "FloatProgressModel",
      "state": {
       "description": "Train_Iter:  43%",
       "layout": "IPY_MODEL_d0732bf7788640a6bc9121156ee49e91",
       "max": 87,
       "style": "IPY_MODEL_5647668a4c3647abadd9b19814cc7803",
       "value": 37
      }
     },
     "25618cf6387049b5b253b52f1ea7e34c": {
      "model_module": "@jupyter-widgets/base",
      "model_module_version": "1.1.0",
      "model_name": "LayoutModel",
      "state": {}
     },
     "25ba7d4374d64d1ea836263eb885ff1f": {
      "model_module": "@jupyter-widgets/base",
      "model_module_version": "1.1.0",
      "model_name": "LayoutModel",
      "state": {}
     },
     "26db79fd49614853b20f7bc21aa215ed": {
      "model_module": "@jupyter-widgets/controls",
      "model_module_version": "1.4.0",
      "model_name": "FloatProgressModel",
      "state": {
       "bar_style": "danger",
       "description": "Epoch:   0%",
       "layout": "IPY_MODEL_6c5c109e97da4d26b7a3495db6929dae",
       "max": 50,
       "style": "IPY_MODEL_b1e2d7a8e5e649378275353af2320df6"
      }
     },
     "277ad9b8b0ed4f829ea7158b73e96419": {
      "model_module": "@jupyter-widgets/controls",
      "model_module_version": "1.4.0",
      "model_name": "DescriptionStyleModel",
      "state": {
       "description_width": ""
      }
     },
     "28f098caa09149a4b787e3b18aa659e0": {
      "model_module": "@jupyter-widgets/base",
      "model_module_version": "1.1.0",
      "model_name": "LayoutModel",
      "state": {}
     },
     "2976b59ab70248f6b95bc162712bbdb2": {
      "model_module": "@jupyter-widgets/controls",
      "model_module_version": "1.4.0",
      "model_name": "DescriptionStyleModel",
      "state": {
       "description_width": ""
      }
     },
     "299a123c88004d90a95bad4b1909050b": {
      "model_module": "@jupyter-widgets/controls",
      "model_module_version": "1.4.0",
      "model_name": "HTMLModel",
      "state": {
       "layout": "IPY_MODEL_41fa75e23a52442fa8231fcfcf969d79",
       "style": "IPY_MODEL_277ad9b8b0ed4f829ea7158b73e96419",
       "value": " 11/50 [12:15:05&lt;43:26:13, 4009.57s/it]"
      }
     },
     "2a683f8f5dfd4be7a36da81adffb8636": {
      "model_module": "@jupyter-widgets/controls",
      "model_module_version": "1.4.0",
      "model_name": "HTMLModel",
      "state": {
       "layout": "IPY_MODEL_0472670dccd64233b3402e3ec774781b",
       "style": "IPY_MODEL_d05bfdc1d87044e28b80471174bd0a84",
       "value": " 87/87 [53:40&lt;00:00, 37.03s/it]"
      }
     },
     "2b2cceb8c6744ad7b83f9c6a6cf6b30e": {
      "model_module": "@jupyter-widgets/base",
      "model_module_version": "1.1.0",
      "model_name": "LayoutModel",
      "state": {}
     },
     "2da891576a284949ad027dd0b57e6309": {
      "model_module": "@jupyter-widgets/base",
      "model_module_version": "1.1.0",
      "model_name": "LayoutModel",
      "state": {}
     },
     "2dd0a930e4b245baa68522a15c599ebe": {
      "model_module": "@jupyter-widgets/base",
      "model_module_version": "1.1.0",
      "model_name": "LayoutModel",
      "state": {}
     },
     "2f2604d040cd4e2c931a8556bdf06a2c": {
      "model_module": "@jupyter-widgets/controls",
      "model_module_version": "1.4.0",
      "model_name": "FloatProgressModel",
      "state": {
       "bar_style": "danger",
       "description": "Epoch:  22%",
       "layout": "IPY_MODEL_414ff709849b4d8a8190e1b7967830e8",
       "max": 50,
       "style": "IPY_MODEL_f4a6256c58fb44da8addb1cdd48b1897",
       "value": 11
      }
     },
     "30cd64466d524a50a7561c05ce55b293": {
      "model_module": "@jupyter-widgets/controls",
      "model_module_version": "1.4.0",
      "model_name": "FloatProgressModel",
      "state": {
       "description": "Val_Iter: 100%",
       "layout": "IPY_MODEL_b942a08c21a14c79b4862929ca4e44ed",
       "max": 11,
       "style": "IPY_MODEL_c2019ab6cc6843d5b68403a2fb39a40f",
       "value": 11
      }
     },
     "31b89e1614474eaab0c3b7d1104d61fd": {
      "model_module": "@jupyter-widgets/controls",
      "model_module_version": "1.4.0",
      "model_name": "HTMLModel",
      "state": {
       "layout": "IPY_MODEL_d2e048076ea44a0b9681772c4b19ac99",
       "style": "IPY_MODEL_233c6fc7f2064032b5b38a7f846f0a49",
       "value": " 11/11 [04:14&lt;00:00, 22.88s/it]"
      }
     },
     "32052d5b6bb74e45b4c2955fe358c608": {
      "model_module": "@jupyter-widgets/base",
      "model_module_version": "1.1.0",
      "model_name": "LayoutModel",
      "state": {}
     },
     "3222034cb75047439727f33acbc835f3": {
      "model_module": "@jupyter-widgets/controls",
      "model_module_version": "1.4.0",
      "model_name": "ProgressStyleModel",
      "state": {
       "description_width": "initial"
      }
     },
     "33d85586094d4b28b6e50bd2dd88c393": {
      "model_module": "@jupyter-widgets/base",
      "model_module_version": "1.1.0",
      "model_name": "LayoutModel",
      "state": {}
     },
     "33e56bf2ab4b49ea974432b4915e6995": {
      "model_module": "@jupyter-widgets/controls",
      "model_module_version": "1.4.0",
      "model_name": "ProgressStyleModel",
      "state": {
       "description_width": "initial"
      }
     },
     "34f72400330f4d07a38e0c7007b5dc36": {
      "model_module": "@jupyter-widgets/base",
      "model_module_version": "1.1.0",
      "model_name": "LayoutModel",
      "state": {}
     },
     "3574245a70da48d69ba2da2869262c9e": {
      "model_module": "@jupyter-widgets/controls",
      "model_module_version": "1.4.0",
      "model_name": "FloatProgressModel",
      "state": {
       "bar_style": "danger",
       "description": " 35%",
       "layout": "IPY_MODEL_97feac2b54ef413c957e919082d30aab",
       "max": 6457,
       "style": "IPY_MODEL_a948bb65c4f845c5a225b0cfeac71865",
       "value": 2284
      }
     },
     "35ee73941b254fc39ad724ef715986f9": {
      "model_module": "@jupyter-widgets/base",
      "model_module_version": "1.1.0",
      "model_name": "LayoutModel",
      "state": {}
     },
     "3873619e15984e2785999a5082af8b55": {
      "model_module": "@jupyter-widgets/controls",
      "model_module_version": "1.4.0",
      "model_name": "DescriptionStyleModel",
      "state": {
       "description_width": ""
      }
     },
     "39428a1a4a0c4e7fae82479685f1175a": {
      "model_module": "@jupyter-widgets/base",
      "model_module_version": "1.1.0",
      "model_name": "LayoutModel",
      "state": {}
     },
     "3a8c10a932fe472babbe645033502fa0": {
      "model_module": "@jupyter-widgets/base",
      "model_module_version": "1.1.0",
      "model_name": "LayoutModel",
      "state": {}
     },
     "3ac70d2d65cf45a6aa51391d273af503": {
      "model_module": "@jupyter-widgets/base",
      "model_module_version": "1.1.0",
      "model_name": "LayoutModel",
      "state": {}
     },
     "3ae8e75c806b428badfd2e79fcc04522": {
      "model_module": "@jupyter-widgets/controls",
      "model_module_version": "1.4.0",
      "model_name": "HTMLModel",
      "state": {
       "layout": "IPY_MODEL_bdb5c406e60940d9947711013c06dfc9",
       "style": "IPY_MODEL_a3e3e464843b412ea010c6e32d57e2ea",
       "value": " 87/87 [59:51&lt;00:00, 42.73s/it]"
      }
     },
     "3b9c9abcfa6749f5b8daef92ba55ca51": {
      "model_module": "@jupyter-widgets/controls",
      "model_module_version": "1.4.0",
      "model_name": "DescriptionStyleModel",
      "state": {
       "description_width": ""
      }
     },
     "3d568180d0a0447da7ed25233270edc1": {
      "model_module": "@jupyter-widgets/controls",
      "model_module_version": "1.4.0",
      "model_name": "ProgressStyleModel",
      "state": {
       "description_width": "initial"
      }
     },
     "3dbc414d37b8494fb9af0c7258d680eb": {
      "model_module": "@jupyter-widgets/base",
      "model_module_version": "1.1.0",
      "model_name": "LayoutModel",
      "state": {}
     },
     "3f0d8579920b4854bb0ffff145fdcbe9": {
      "model_module": "@jupyter-widgets/controls",
      "model_module_version": "1.4.0",
      "model_name": "DescriptionStyleModel",
      "state": {
       "description_width": ""
      }
     },
     "3f4226ec5d264b4a87de98027d90691b": {
      "model_module": "@jupyter-widgets/base",
      "model_module_version": "1.1.0",
      "model_name": "LayoutModel",
      "state": {}
     },
     "3f49c4d5a8d749a7a009224bc5fab633": {
      "model_module": "@jupyter-widgets/base",
      "model_module_version": "1.1.0",
      "model_name": "LayoutModel",
      "state": {}
     },
     "3fdbb4b6ca1a46f1ae94a7846f7e7267": {
      "model_module": "@jupyter-widgets/controls",
      "model_module_version": "1.4.0",
      "model_name": "FloatProgressModel",
      "state": {
       "description": "Val_Iter: 100%",
       "layout": "IPY_MODEL_183fb3a7584e41329f2efaee99309575",
       "max": 11,
       "style": "IPY_MODEL_f25e75beeca740db9182d098cc3d20a5",
       "value": 11
      }
     },
     "4023f171a7874f8899a65db161ef35b1": {
      "model_module": "@jupyter-widgets/base",
      "model_module_version": "1.1.0",
      "model_name": "LayoutModel",
      "state": {}
     },
     "414ff709849b4d8a8190e1b7967830e8": {
      "model_module": "@jupyter-widgets/base",
      "model_module_version": "1.1.0",
      "model_name": "LayoutModel",
      "state": {}
     },
     "41cfc74d325a4be8837fd2d79302e779": {
      "model_module": "@jupyter-widgets/base",
      "model_module_version": "1.1.0",
      "model_name": "LayoutModel",
      "state": {}
     },
     "41fa75e23a52442fa8231fcfcf969d79": {
      "model_module": "@jupyter-widgets/base",
      "model_module_version": "1.1.0",
      "model_name": "LayoutModel",
      "state": {}
     },
     "4248956d1ef34c569b644273409e5925": {
      "model_module": "@jupyter-widgets/base",
      "model_module_version": "1.1.0",
      "model_name": "LayoutModel",
      "state": {}
     },
     "424a9809d0f64e3587d73fe61c83e0d5": {
      "model_module": "@jupyter-widgets/base",
      "model_module_version": "1.1.0",
      "model_name": "LayoutModel",
      "state": {}
     },
     "427b8564f3a747aea3fa9ca24b14c7fc": {
      "model_module": "@jupyter-widgets/controls",
      "model_module_version": "1.4.0",
      "model_name": "HTMLModel",
      "state": {
       "layout": "IPY_MODEL_db7a537757e44ad39a014785f7a30362",
       "style": "IPY_MODEL_c3c6151d1dda4a64ae67d4c9afb1587f",
       "value": " 11/11 [04:13&lt;00:00, 22.91s/it]"
      }
     },
     "432456c5b30844dd8eeb54c1c628da7a": {
      "model_module": "@jupyter-widgets/base",
      "model_module_version": "1.1.0",
      "model_name": "LayoutModel",
      "state": {}
     },
     "4818c0996a3e4d90acfd3f7f5f81ae5c": {
      "model_module": "@jupyter-widgets/controls",
      "model_module_version": "1.4.0",
      "model_name": "HBoxModel",
      "state": {
       "children": [
        "IPY_MODEL_b259e15f64a64172a636c01ad50098d0",
        "IPY_MODEL_71dc3c1adab4472e8978e61e23d341ad"
       ],
       "layout": "IPY_MODEL_48b5d832f8024af08c0c1ef9c0ad66d0"
      }
     },
     "48b5d832f8024af08c0c1ef9c0ad66d0": {
      "model_module": "@jupyter-widgets/base",
      "model_module_version": "1.1.0",
      "model_name": "LayoutModel",
      "state": {}
     },
     "4a3179508394429590f82e82793aaaa6": {
      "model_module": "@jupyter-widgets/base",
      "model_module_version": "1.1.0",
      "model_name": "LayoutModel",
      "state": {}
     },
     "4b2ec9ef9a4c448caa770602116d00ae": {
      "model_module": "@jupyter-widgets/controls",
      "model_module_version": "1.4.0",
      "model_name": "DescriptionStyleModel",
      "state": {
       "description_width": ""
      }
     },
     "4bd542d1178e4888bedd5c78c5626c20": {
      "model_module": "@jupyter-widgets/controls",
      "model_module_version": "1.4.0",
      "model_name": "HTMLModel",
      "state": {
       "layout": "IPY_MODEL_572c5e5181f74bda896ea80d2a413758",
       "style": "IPY_MODEL_14e9ffc2d75f4e8b9b370037a0f20514",
       "value": " 0/50 [2:50:59&lt;?, ?it/s]"
      }
     },
     "4c1fd3010ec4457c92504ac15f707a23": {
      "model_module": "@jupyter-widgets/controls",
      "model_module_version": "1.4.0",
      "model_name": "DescriptionStyleModel",
      "state": {
       "description_width": ""
      }
     },
     "4d9a1459eb6346a69de0df6b350048f0": {
      "model_module": "@jupyter-widgets/base",
      "model_module_version": "1.1.0",
      "model_name": "LayoutModel",
      "state": {}
     },
     "4e1c605555124d1aa818cc4349e12e0f": {
      "model_module": "@jupyter-widgets/base",
      "model_module_version": "1.1.0",
      "model_name": "LayoutModel",
      "state": {}
     },
     "4e948c5ef8114323b473a06cc7205d06": {
      "model_module": "@jupyter-widgets/base",
      "model_module_version": "1.1.0",
      "model_name": "LayoutModel",
      "state": {}
     },
     "4effd6426d614c288a8443c510b2a87b": {
      "model_module": "@jupyter-widgets/controls",
      "model_module_version": "1.4.0",
      "model_name": "ProgressStyleModel",
      "state": {
       "description_width": "initial"
      }
     },
     "4f72ae606cf54b30bedc548cfba83159": {
      "model_module": "@jupyter-widgets/controls",
      "model_module_version": "1.4.0",
      "model_name": "HTMLModel",
      "state": {
       "layout": "IPY_MODEL_d0d00490b5b444eeac02f354c42837b5",
       "style": "IPY_MODEL_b84c1ac1e6b847ba8e0b448a1a2ac678",
       "value": " 6457/6457 [06:45&lt;00:00, 15.94it/s]"
      }
     },
     "507dde58c9494a5e9e522790c4ff7462": {
      "model_module": "@jupyter-widgets/base",
      "model_module_version": "1.1.0",
      "model_name": "LayoutModel",
      "state": {}
     },
     "511ed06687054c0d8889312db90468ca": {
      "model_module": "@jupyter-widgets/base",
      "model_module_version": "1.1.0",
      "model_name": "LayoutModel",
      "state": {}
     },
     "513470ba074f4c68a07a7ef5980c382c": {
      "model_module": "@jupyter-widgets/controls",
      "model_module_version": "1.4.0",
      "model_name": "HTMLModel",
      "state": {
       "layout": "IPY_MODEL_6da61a05d5b346669cd8ec201f979f34",
       "style": "IPY_MODEL_dfa7b7f2a48c463fb67c90fcb38b1552",
       "value": " 11/11 [04:11&lt;00:00, 22.56s/it]"
      }
     },
     "52392695bc774640ab2955a17257b3d4": {
      "model_module": "@jupyter-widgets/base",
      "model_module_version": "1.1.0",
      "model_name": "LayoutModel",
      "state": {}
     },
     "53400f5227134c45b4a39c0cdc625a9b": {
      "model_module": "@jupyter-widgets/controls",
      "model_module_version": "1.4.0",
      "model_name": "FloatProgressModel",
      "state": {
       "description": "Val_Iter: 100%",
       "layout": "IPY_MODEL_6cde6b30b4ae4ce7b86d38f7ae43c9d7",
       "max": 11,
       "style": "IPY_MODEL_fbeac5f84b0242389a1102667432c47b",
       "value": 11
      }
     },
     "54d5d5dc8bbc458682c1cb77e4380b30": {
      "model_module": "@jupyter-widgets/controls",
      "model_module_version": "1.4.0",
      "model_name": "ProgressStyleModel",
      "state": {
       "description_width": "initial"
      }
     },
     "5647668a4c3647abadd9b19814cc7803": {
      "model_module": "@jupyter-widgets/controls",
      "model_module_version": "1.4.0",
      "model_name": "ProgressStyleModel",
      "state": {
       "description_width": "initial"
      }
     },
     "572c5e5181f74bda896ea80d2a413758": {
      "model_module": "@jupyter-widgets/base",
      "model_module_version": "1.1.0",
      "model_name": "LayoutModel",
      "state": {}
     },
     "5957e1c24f834d149ee611310047e5c6": {
      "model_module": "@jupyter-widgets/controls",
      "model_module_version": "1.4.0",
      "model_name": "FloatProgressModel",
      "state": {
       "description": "Train_Iter: 100%",
       "layout": "IPY_MODEL_a53a933da21143eab8aca856165a6bb3",
       "max": 87,
       "style": "IPY_MODEL_0686955cb1b445a68a2a57b2dbaa6d2f",
       "value": 87
      }
     },
     "5a58d9469e09466e80609040f8d89430": {
      "model_module": "@jupyter-widgets/controls",
      "model_module_version": "1.4.0",
      "model_name": "ProgressStyleModel",
      "state": {
       "description_width": "initial"
      }
     },
     "5bd3ea47a2b142418ebf03e642e81071": {
      "model_module": "@jupyter-widgets/controls",
      "model_module_version": "1.4.0",
      "model_name": "HTMLModel",
      "state": {
       "layout": "IPY_MODEL_4e1c605555124d1aa818cc4349e12e0f",
       "style": "IPY_MODEL_0dfba8164d784be886b31fae8ec54e67",
       "value": " 11/11 [04:02&lt;00:00, 21.72s/it]"
      }
     },
     "5c1d0170e8e246e6ac8a430066fc4e47": {
      "model_module": "@jupyter-widgets/controls",
      "model_module_version": "1.4.0",
      "model_name": "HTMLModel",
      "state": {
       "layout": "IPY_MODEL_caeb75d385024953bb341830c880e69d",
       "style": "IPY_MODEL_2368f46ac52e45b6ac26c5697935d13f",
       "value": " 87/87 [53:41&lt;00:00, 37.20s/it]"
      }
     },
     "5d69211013eb4bfe8c44742799be75a2": {
      "model_module": "@jupyter-widgets/base",
      "model_module_version": "1.1.0",
      "model_name": "LayoutModel",
      "state": {}
     },
     "5d754b4cec1f49c9b585000654830094": {
      "model_module": "@jupyter-widgets/base",
      "model_module_version": "1.1.0",
      "model_name": "LayoutModel",
      "state": {}
     },
     "5dde6fdca1984060a91b6308eb096b87": {
      "model_module": "@jupyter-widgets/controls",
      "model_module_version": "1.4.0",
      "model_name": "DescriptionStyleModel",
      "state": {
       "description_width": ""
      }
     },
     "60e38d9af7f84d6196bcab9a0a12ccff": {
      "model_module": "@jupyter-widgets/base",
      "model_module_version": "1.1.0",
      "model_name": "LayoutModel",
      "state": {}
     },
     "611905a93b2b4c6487307c61a184b95e": {
      "model_module": "@jupyter-widgets/base",
      "model_module_version": "1.1.0",
      "model_name": "LayoutModel",
      "state": {}
     },
     "6122c3ddb0a84369a649d27570570cbc": {
      "model_module": "@jupyter-widgets/controls",
      "model_module_version": "1.4.0",
      "model_name": "DescriptionStyleModel",
      "state": {
       "description_width": ""
      }
     },
     "62a8ccb44b49489991920aec336526d8": {
      "model_module": "@jupyter-widgets/controls",
      "model_module_version": "1.4.0",
      "model_name": "DescriptionStyleModel",
      "state": {
       "description_width": ""
      }
     },
     "64247600538a4f42817056653504d453": {
      "model_module": "@jupyter-widgets/controls",
      "model_module_version": "1.4.0",
      "model_name": "ProgressStyleModel",
      "state": {
       "description_width": "initial"
      }
     },
     "642809ddfbf94c39ad35538cd368e0b2": {
      "model_module": "@jupyter-widgets/base",
      "model_module_version": "1.1.0",
      "model_name": "LayoutModel",
      "state": {}
     },
     "643c96d8fd9e485096937d7433b2be05": {
      "model_module": "@jupyter-widgets/base",
      "model_module_version": "1.1.0",
      "model_name": "LayoutModel",
      "state": {}
     },
     "648a2e23ffdc48108561842b13cd2d2c": {
      "model_module": "@jupyter-widgets/controls",
      "model_module_version": "1.4.0",
      "model_name": "FloatProgressModel",
      "state": {
       "description": "Train_Iter: 100%",
       "layout": "IPY_MODEL_3dbc414d37b8494fb9af0c7258d680eb",
       "max": 87,
       "style": "IPY_MODEL_ce2f97fc059a4b3791e7b9904c87527d",
       "value": 87
      }
     },
     "64c5b696c583401189d6062689629b0f": {
      "model_module": "@jupyter-widgets/controls",
      "model_module_version": "1.4.0",
      "model_name": "HTMLModel",
      "state": {
       "layout": "IPY_MODEL_4e948c5ef8114323b473a06cc7205d06",
       "style": "IPY_MODEL_d36a249433494db0a1022865722b618f",
       "value": " 2284/6457 [00:45&lt;01:22, 50.41it/s]"
      }
     },
     "65af2c1ce6cc4a7db329d01b71a01e2e": {
      "model_module": "@jupyter-widgets/base",
      "model_module_version": "1.1.0",
      "model_name": "LayoutModel",
      "state": {}
     },
     "664a29ec8c9246aabf75dae01b0f3e5e": {
      "model_module": "@jupyter-widgets/controls",
      "model_module_version": "1.4.0",
      "model_name": "ProgressStyleModel",
      "state": {
       "description_width": "initial"
      }
     },
     "66d19137fd8048cfb431c5f62eacf57a": {
      "model_module": "@jupyter-widgets/controls",
      "model_module_version": "1.4.0",
      "model_name": "HBoxModel",
      "state": {
       "children": [
        "IPY_MODEL_7d403306fab74c0285e4878e6d77c86d",
        "IPY_MODEL_2052b7f46d744fe4bb1239adc0a804a1"
       ],
       "layout": "IPY_MODEL_b402622cb6dc45859f9a6e15368b11b6"
      }
     },
     "66d40863d215472f9e7fec24b8f20b1f": {
      "model_module": "@jupyter-widgets/controls",
      "model_module_version": "1.4.0",
      "model_name": "DescriptionStyleModel",
      "state": {
       "description_width": ""
      }
     },
     "6c3d784744bd469d912b7c5de8887850": {
      "model_module": "@jupyter-widgets/controls",
      "model_module_version": "1.4.0",
      "model_name": "HBoxModel",
      "state": {
       "children": [
        "IPY_MODEL_80aa0c2d0c84425e8451a25c920e8ff7",
        "IPY_MODEL_ce8dd747fe9541548a17101e18619576"
       ],
       "layout": "IPY_MODEL_0e522d1d81e94f71a55592563548c143"
      }
     },
     "6c5c109e97da4d26b7a3495db6929dae": {
      "model_module": "@jupyter-widgets/base",
      "model_module_version": "1.1.0",
      "model_name": "LayoutModel",
      "state": {}
     },
     "6cde6b30b4ae4ce7b86d38f7ae43c9d7": {
      "model_module": "@jupyter-widgets/base",
      "model_module_version": "1.1.0",
      "model_name": "LayoutModel",
      "state": {}
     },
     "6da61a05d5b346669cd8ec201f979f34": {
      "model_module": "@jupyter-widgets/base",
      "model_module_version": "1.1.0",
      "model_name": "LayoutModel",
      "state": {}
     },
     "6e00e952dd9d4ced98ef4568248aaf4b": {
      "model_module": "@jupyter-widgets/controls",
      "model_module_version": "1.4.0",
      "model_name": "FloatProgressModel",
      "state": {
       "description": "Train_Iter: 100%",
       "layout": "IPY_MODEL_2dd0a930e4b245baa68522a15c599ebe",
       "max": 87,
       "style": "IPY_MODEL_98e59edbdef241ac9739720c6e370017",
       "value": 87
      }
     },
     "6ec51792af4c4f72b7f209be2bc4a765": {
      "model_module": "@jupyter-widgets/controls",
      "model_module_version": "1.4.0",
      "model_name": "DescriptionStyleModel",
      "state": {
       "description_width": ""
      }
     },
     "70e4a339eef74c9a8d4a5ccb8f8bc1c8": {
      "model_module": "@jupyter-widgets/controls",
      "model_module_version": "1.4.0",
      "model_name": "ProgressStyleModel",
      "state": {
       "description_width": "initial"
      }
     },
     "71dc3c1adab4472e8978e61e23d341ad": {
      "model_module": "@jupyter-widgets/controls",
      "model_module_version": "1.4.0",
      "model_name": "HTMLModel",
      "state": {
       "layout": "IPY_MODEL_611905a93b2b4c6487307c61a184b95e",
       "style": "IPY_MODEL_0b860d367e804ec2b99a27f85128bbaf",
       "value": " 3389/6457 [01:08&lt;01:02, 49.43it/s]"
      }
     },
     "729395fdd02048cd83598302b78a5235": {
      "model_module": "@jupyter-widgets/base",
      "model_module_version": "1.1.0",
      "model_name": "LayoutModel",
      "state": {}
     },
     "72a2701d461c48f3bcf907977706bcec": {
      "model_module": "@jupyter-widgets/base",
      "model_module_version": "1.1.0",
      "model_name": "LayoutModel",
      "state": {}
     },
     "73ef2f10fc1b4122a0d0ac2dd2c3eafd": {
      "model_module": "@jupyter-widgets/controls",
      "model_module_version": "1.4.0",
      "model_name": "HTMLModel",
      "state": {
       "layout": "IPY_MODEL_f25bc9a262e6463a85e7f09bc746f686",
       "style": "IPY_MODEL_5dde6fdca1984060a91b6308eb096b87",
       "value": " 11/11 [04:16&lt;00:00, 23.51s/it]"
      }
     },
     "74d59e14424b4ffbb01853720662bfec": {
      "model_module": "@jupyter-widgets/base",
      "model_module_version": "1.1.0",
      "model_name": "LayoutModel",
      "state": {}
     },
     "74e89dfc4d344adbb97818b7653cffa4": {
      "model_module": "@jupyter-widgets/controls",
      "model_module_version": "1.4.0",
      "model_name": "HTMLModel",
      "state": {
       "layout": "IPY_MODEL_afaba5099986406f9e58a97ee54db2fb",
       "style": "IPY_MODEL_4b2ec9ef9a4c448caa770602116d00ae",
       "value": " 11/11 [04:05&lt;00:00, 22.15s/it]"
      }
     },
     "75d4faf6982d41a1aaca6d065234257d": {
      "model_module": "@jupyter-widgets/controls",
      "model_module_version": "1.4.0",
      "model_name": "FloatProgressModel",
      "state": {
       "description": "Val_Iter: 100%",
       "layout": "IPY_MODEL_f10d68d5ff6944dd87530bd23c0ff692",
       "max": 11,
       "style": "IPY_MODEL_fd7ce960db12442f90422ac8c14e3686",
       "value": 11
      }
     },
     "77d708b4887e41deb01780db29dbb513": {
      "model_module": "@jupyter-widgets/controls",
      "model_module_version": "1.4.0",
      "model_name": "FloatProgressModel",
      "state": {
       "description": "Val_Iter: 100%",
       "layout": "IPY_MODEL_d08af3e0fc974cadad3c33e76efa7cff",
       "max": 11,
       "style": "IPY_MODEL_f99bedd6659c48bc8fed09751d1ebd75",
       "value": 11
      }
     },
     "787b8e9ce5394780992242357f19513d": {
      "model_module": "@jupyter-widgets/controls",
      "model_module_version": "1.4.0",
      "model_name": "FloatProgressModel",
      "state": {
       "description": "Val_Iter: 100%",
       "layout": "IPY_MODEL_a1879834b0b5450b88a9aeea026b71fd",
       "max": 11,
       "style": "IPY_MODEL_e5ccf06e9c4d422b9206cf17fdccb835",
       "value": 11
      }
     },
     "78ba93fce5c54c3680782ac46456eb2b": {
      "model_module": "@jupyter-widgets/controls",
      "model_module_version": "1.4.0",
      "model_name": "HTMLModel",
      "state": {
       "layout": "IPY_MODEL_82e393822d07459b9609ab1520a1b956",
       "style": "IPY_MODEL_e49b2392bbf449b28d6c8a7510038fa5",
       "value": " 0/87 [2:50:59&lt;?, ?it/s]"
      }
     },
     "7940b28c77544881b9c8c1e7ffa47634": {
      "model_module": "@jupyter-widgets/controls",
      "model_module_version": "1.4.0",
      "model_name": "ProgressStyleModel",
      "state": {
       "description_width": "initial"
      }
     },
     "79b23caa99ab4fcfaa1bd525fc54dd6e": {
      "model_module": "@jupyter-widgets/base",
      "model_module_version": "1.1.0",
      "model_name": "LayoutModel",
      "state": {}
     },
     "7a1ce6b54c07406eae5a9f0a5dc23852": {
      "model_module": "@jupyter-widgets/base",
      "model_module_version": "1.1.0",
      "model_name": "LayoutModel",
      "state": {}
     },
     "7b76244a956b40038131605737f79aeb": {
      "model_module": "@jupyter-widgets/controls",
      "model_module_version": "1.4.0",
      "model_name": "HBoxModel",
      "state": {
       "children": [
        "IPY_MODEL_9ffff54b3ae146ffa03ea245daa4ef0f",
        "IPY_MODEL_15c5c40caf5c419384c930ca5cf787bb"
       ],
       "layout": "IPY_MODEL_511ed06687054c0d8889312db90468ca"
      }
     },
     "7bd832a9bed44210817e0edfcaef2f6a": {
      "model_module": "@jupyter-widgets/controls",
      "model_module_version": "1.4.0",
      "model_name": "DescriptionStyleModel",
      "state": {
       "description_width": ""
      }
     },
     "7c0c27deb4c14fabb089f6742d4ed759": {
      "model_module": "@jupyter-widgets/controls",
      "model_module_version": "1.4.0",
      "model_name": "FloatProgressModel",
      "state": {
       "description": "Train_Iter: 100%",
       "layout": "IPY_MODEL_79b23caa99ab4fcfaa1bd525fc54dd6e",
       "max": 87,
       "style": "IPY_MODEL_e4d6aa24b23542cca64e6b6bbc957290",
       "value": 87
      }
     },
     "7c0f72b58f434862a6d7469d19591738": {
      "model_module": "@jupyter-widgets/controls",
      "model_module_version": "1.4.0",
      "model_name": "FloatProgressModel",
      "state": {
       "description": "Val_Iter: 100%",
       "layout": "IPY_MODEL_35ee73941b254fc39ad724ef715986f9",
       "max": 11,
       "style": "IPY_MODEL_1c04700293c6429d92cfa48a870a1913",
       "value": 11
      }
     },
     "7c7c8065e8094d2bb28785e68d3d6e5e": {
      "model_module": "@jupyter-widgets/base",
      "model_module_version": "1.1.0",
      "model_name": "LayoutModel",
      "state": {}
     },
     "7d403306fab74c0285e4878e6d77c86d": {
      "model_module": "@jupyter-widgets/controls",
      "model_module_version": "1.4.0",
      "model_name": "FloatProgressModel",
      "state": {
       "bar_style": "danger",
       "description": "Train_Iter:  23%",
       "layout": "IPY_MODEL_f36138565c29487b922a0b6eb8a8e4f0",
       "max": 87,
       "style": "IPY_MODEL_0990ad529e90440894fecbbd7a2ada24",
       "value": 20
      }
     },
     "7d752123f9294b29b3a6dfc381a1f6ea": {
      "model_module": "@jupyter-widgets/controls",
      "model_module_version": "1.4.0",
      "model_name": "FloatProgressModel",
      "state": {
       "description": "Train_Iter:   0%",
       "layout": "IPY_MODEL_824bff6353cd4dc9a915b327592b1adf",
       "max": 87,
       "style": "IPY_MODEL_8ba1594aacea484aa393a857bd9e0ddf"
      }
     },
     "7e3993445e57417eab04babf83884ae5": {
      "model_module": "@jupyter-widgets/controls",
      "model_module_version": "1.4.0",
      "model_name": "DescriptionStyleModel",
      "state": {
       "description_width": ""
      }
     },
     "7e7ce718a7bc43b2923e4a14ae9ca300": {
      "model_module": "@jupyter-widgets/controls",
      "model_module_version": "1.4.0",
      "model_name": "FloatProgressModel",
      "state": {
       "description": "Val_Iter: 100%",
       "layout": "IPY_MODEL_4d9a1459eb6346a69de0df6b350048f0",
       "max": 11,
       "style": "IPY_MODEL_174f37da3ad94a50bbb9c84f0c3383e1",
       "value": 11
      }
     },
     "7f4f41d1160048ce881da4d924ac18a4": {
      "model_module": "@jupyter-widgets/base",
      "model_module_version": "1.1.0",
      "model_name": "LayoutModel",
      "state": {}
     },
     "7fc0a03f8e284e94b24bf0f7368b30f6": {
      "model_module": "@jupyter-widgets/controls",
      "model_module_version": "1.4.0",
      "model_name": "ProgressStyleModel",
      "state": {
       "description_width": "initial"
      }
     },
     "80aa0c2d0c84425e8451a25c920e8ff7": {
      "model_module": "@jupyter-widgets/controls",
      "model_module_version": "1.4.0",
      "model_name": "FloatProgressModel",
      "state": {
       "bar_style": "danger",
       "description": "  3%",
       "layout": "IPY_MODEL_7a1ce6b54c07406eae5a9f0a5dc23852",
       "max": 300,
       "style": "IPY_MODEL_efe57cb56a6e4d5a95375dca119cc01c",
       "value": 10
      }
     },
     "813aac6bc7044036bf27053ed808b895": {
      "model_module": "@jupyter-widgets/controls",
      "model_module_version": "1.4.0",
      "model_name": "FloatProgressModel",
      "state": {
       "description": "Train_Iter: 100%",
       "layout": "IPY_MODEL_b35991b4fa2448b2aa91531f875c65cf",
       "max": 87,
       "style": "IPY_MODEL_973dd3c7ebd741ab9aad9d5b9f290cef",
       "value": 87
      }
     },
     "824bff6353cd4dc9a915b327592b1adf": {
      "model_module": "@jupyter-widgets/base",
      "model_module_version": "1.1.0",
      "model_name": "LayoutModel",
      "state": {}
     },
     "824caf80c40e4baf85f6a5215526cc79": {
      "model_module": "@jupyter-widgets/controls",
      "model_module_version": "1.4.0",
      "model_name": "HBoxModel",
      "state": {
       "children": [
        "IPY_MODEL_2f2604d040cd4e2c931a8556bdf06a2c",
        "IPY_MODEL_299a123c88004d90a95bad4b1909050b"
       ],
       "layout": "IPY_MODEL_cca1157538bf462eb48caabcd2e79efc"
      }
     },
     "826f28fbb3234f5697a095f9ba30e0dc": {
      "model_module": "@jupyter-widgets/controls",
      "model_module_version": "1.4.0",
      "model_name": "DescriptionStyleModel",
      "state": {
       "description_width": ""
      }
     },
     "8281785c0c6c4e5d92f79692755ae6ea": {
      "model_module": "@jupyter-widgets/base",
      "model_module_version": "1.1.0",
      "model_name": "LayoutModel",
      "state": {}
     },
     "82df1e5d6406449eab6588d8fd47a450": {
      "model_module": "@jupyter-widgets/base",
      "model_module_version": "1.1.0",
      "model_name": "LayoutModel",
      "state": {}
     },
     "82e393822d07459b9609ab1520a1b956": {
      "model_module": "@jupyter-widgets/base",
      "model_module_version": "1.1.0",
      "model_name": "LayoutModel",
      "state": {}
     },
     "831d94698c33465db8277691c9a69757": {
      "model_module": "@jupyter-widgets/controls",
      "model_module_version": "1.4.0",
      "model_name": "ProgressStyleModel",
      "state": {
       "description_width": "initial"
      }
     },
     "83519f8aed8c4afca6a07cc05b06dec4": {
      "model_module": "@jupyter-widgets/base",
      "model_module_version": "1.1.0",
      "model_name": "LayoutModel",
      "state": {}
     },
     "83775c949d1543189e30f552912f68aa": {
      "model_module": "@jupyter-widgets/controls",
      "model_module_version": "1.4.0",
      "model_name": "FloatProgressModel",
      "state": {
       "description": "Val_Iter: 100%",
       "layout": "IPY_MODEL_8281785c0c6c4e5d92f79692755ae6ea",
       "max": 11,
       "style": "IPY_MODEL_c40f09d480c1475d97873cf9b33eda09",
       "value": 11
      }
     },
     "83f75d1519b9402c8e264890b09a4502": {
      "model_module": "@jupyter-widgets/base",
      "model_module_version": "1.1.0",
      "model_name": "LayoutModel",
      "state": {}
     },
     "85c9a745932a4f82abad4b910abfdfbc": {
      "model_module": "@jupyter-widgets/base",
      "model_module_version": "1.1.0",
      "model_name": "LayoutModel",
      "state": {}
     },
     "87e19f680ebc4e3fafefc9d2826defb1": {
      "model_module": "@jupyter-widgets/controls",
      "model_module_version": "1.4.0",
      "model_name": "FloatProgressModel",
      "state": {
       "bar_style": "success",
       "description": "100%",
       "layout": "IPY_MODEL_fc228996770f4347a785bba130b2486c",
       "max": 6457,
       "style": "IPY_MODEL_bb06f72928394f16b2f75eac1d6c095f",
       "value": 6457
      }
     },
     "8993a4cb918144f9892a9605b35e9c7e": {
      "model_module": "@jupyter-widgets/base",
      "model_module_version": "1.1.0",
      "model_name": "LayoutModel",
      "state": {}
     },
     "8a11be9940b3412ca2f6081808b02f1b": {
      "model_module": "@jupyter-widgets/controls",
      "model_module_version": "1.4.0",
      "model_name": "DescriptionStyleModel",
      "state": {
       "description_width": ""
      }
     },
     "8b212c6dddcf4f91ba560d6f112d488a": {
      "model_module": "@jupyter-widgets/controls",
      "model_module_version": "1.4.0",
      "model_name": "FloatProgressModel",
      "state": {
       "description": "Train_Iter: 100%",
       "layout": "IPY_MODEL_ca9faadee9334413ae8fd59a2d140b3d",
       "max": 87,
       "style": "IPY_MODEL_e7fb2ad6672141c1b63d4b4b6caac70a",
       "value": 87
      }
     },
     "8b80339ce05a4d20ba2848821df720a6": {
      "model_module": "@jupyter-widgets/base",
      "model_module_version": "1.1.0",
      "model_name": "LayoutModel",
      "state": {}
     },
     "8ba1594aacea484aa393a857bd9e0ddf": {
      "model_module": "@jupyter-widgets/controls",
      "model_module_version": "1.4.0",
      "model_name": "ProgressStyleModel",
      "state": {
       "description_width": "initial"
      }
     },
     "8becaa1fb75a4fb3ba844ab0dcfd6ecc": {
      "model_module": "@jupyter-widgets/controls",
      "model_module_version": "1.4.0",
      "model_name": "HTMLModel",
      "state": {
       "layout": "IPY_MODEL_28f098caa09149a4b787e3b18aa659e0",
       "style": "IPY_MODEL_3f0d8579920b4854bb0ffff145fdcbe9",
       "value": " 87/87 [53:43&lt;00:00, 38.25s/it]"
      }
     },
     "8d9959877e5c42e8aead176c1b99311d": {
      "model_module": "@jupyter-widgets/controls",
      "model_module_version": "1.4.0",
      "model_name": "ProgressStyleModel",
      "state": {
       "description_width": "initial"
      }
     },
     "8e34b98516ba4944ab067e463887b3dd": {
      "model_module": "@jupyter-widgets/controls",
      "model_module_version": "1.4.0",
      "model_name": "HTMLModel",
      "state": {
       "layout": "IPY_MODEL_8b80339ce05a4d20ba2848821df720a6",
       "style": "IPY_MODEL_6ec51792af4c4f72b7f209be2bc4a765",
       "value": " 87/87 [52:36&lt;00:00, 36.80s/it]"
      }
     },
     "8f24c805959b4c66b5676defb5e45bd7": {
      "model_module": "@jupyter-widgets/controls",
      "model_module_version": "1.4.0",
      "model_name": "HTMLModel",
      "state": {
       "layout": "IPY_MODEL_e1c39d3ccbdd4dd38984114d3fa7d7e6",
       "style": "IPY_MODEL_e5fe46f789054e53a6d371c22c67ef5c",
       "value": " 5/50 [4:59:11&lt;45:02:33, 3603.41s/it]"
      }
     },
     "90b245a3d601450b9bcc6583d2126438": {
      "model_module": "@jupyter-widgets/controls",
      "model_module_version": "1.4.0",
      "model_name": "HTMLModel",
      "state": {
       "layout": "IPY_MODEL_4023f171a7874f8899a65db161ef35b1",
       "style": "IPY_MODEL_d85e66ebc1924eeeb003c98dbad6fdf0",
       "value": " 87/87 [54:20&lt;00:00, 36.31s/it]"
      }
     },
     "92cc703ca5084a27904305c2c3e8a46a": {
      "model_module": "@jupyter-widgets/controls",
      "model_module_version": "1.4.0",
      "model_name": "FloatProgressModel",
      "state": {
       "description": "Train_Iter: 100%",
       "layout": "IPY_MODEL_fb1534803e1447309be173eaf52bad78",
       "max": 87,
       "style": "IPY_MODEL_a9e618e446db4300940da6dfbbd35473",
       "value": 87
      }
     },
     "9442ba984c684ee1884c0a1c017ab5c6": {
      "model_module": "@jupyter-widgets/base",
      "model_module_version": "1.1.0",
      "model_name": "LayoutModel",
      "state": {}
     },
     "95a8d0221b8644288af205b07b05a460": {
      "model_module": "@jupyter-widgets/base",
      "model_module_version": "1.1.0",
      "model_name": "LayoutModel",
      "state": {}
     },
     "96d57fbf84ef4c68aae24a2accfc43a9": {
      "model_module": "@jupyter-widgets/controls",
      "model_module_version": "1.4.0",
      "model_name": "HTMLModel",
      "state": {
       "layout": "IPY_MODEL_ef080220e11944638f561cb163356595",
       "style": "IPY_MODEL_df4956c28a724455b6a4a88004468e52",
       "value": " 87/87 [53:39&lt;00:00, 37.46s/it]"
      }
     },
     "973d5cfd7c144697b43520566c00d8f7": {
      "model_module": "@jupyter-widgets/base",
      "model_module_version": "1.1.0",
      "model_name": "LayoutModel",
      "state": {}
     },
     "973dd3c7ebd741ab9aad9d5b9f290cef": {
      "model_module": "@jupyter-widgets/controls",
      "model_module_version": "1.4.0",
      "model_name": "ProgressStyleModel",
      "state": {
       "description_width": "initial"
      }
     },
     "97db682d9dd44519abaf99ad0967b103": {
      "model_module": "@jupyter-widgets/controls",
      "model_module_version": "1.4.0",
      "model_name": "FloatProgressModel",
      "state": {
       "description": "Train_Iter: 100%",
       "layout": "IPY_MODEL_9442ba984c684ee1884c0a1c017ab5c6",
       "max": 87,
       "style": "IPY_MODEL_ef313b3a596f4377870fd3f2f963fec8",
       "value": 87
      }
     },
     "97feac2b54ef413c957e919082d30aab": {
      "model_module": "@jupyter-widgets/base",
      "model_module_version": "1.1.0",
      "model_name": "LayoutModel",
      "state": {}
     },
     "988de7cf6731462ca30c612f50991c9d": {
      "model_module": "@jupyter-widgets/controls",
      "model_module_version": "1.4.0",
      "model_name": "HTMLModel",
      "state": {
       "layout": "IPY_MODEL_0618ddd48aa24064bfa7f7aea072302c",
       "style": "IPY_MODEL_f66b5ca7e643442592fbbc4a0a85f26f",
       "value": " 87/87 [53:38&lt;00:00, 36.88s/it]"
      }
     },
     "98cb38a225034c839f812ed49bc98ac2": {
      "model_module": "@jupyter-widgets/controls",
      "model_module_version": "1.4.0",
      "model_name": "DescriptionStyleModel",
      "state": {
       "description_width": ""
      }
     },
     "98e59edbdef241ac9739720c6e370017": {
      "model_module": "@jupyter-widgets/controls",
      "model_module_version": "1.4.0",
      "model_name": "ProgressStyleModel",
      "state": {
       "description_width": "initial"
      }
     },
     "991333b872ae4237a5a8b303eb42ffb3": {
      "model_module": "@jupyter-widgets/controls",
      "model_module_version": "1.4.0",
      "model_name": "HTMLModel",
      "state": {
       "layout": "IPY_MODEL_fe29101c64d642e5a88ba98b97bf4ac1",
       "style": "IPY_MODEL_8a11be9940b3412ca2f6081808b02f1b",
       "value": " 11/11 [04:14&lt;00:00, 23.06s/it]"
      }
     },
     "991563d268824ca2b3be8c065bdbf372": {
      "model_module": "@jupyter-widgets/base",
      "model_module_version": "1.1.0",
      "model_name": "LayoutModel",
      "state": {}
     },
     "99aff0993f8643abb59db9e1d6a16059": {
      "model_module": "@jupyter-widgets/base",
      "model_module_version": "1.1.0",
      "model_name": "LayoutModel",
      "state": {}
     },
     "99cf523813d8400bbafb6723c9661b5d": {
      "model_module": "@jupyter-widgets/controls",
      "model_module_version": "1.4.0",
      "model_name": "FloatProgressModel",
      "state": {
       "description": "Val_Iter: 100%",
       "layout": "IPY_MODEL_5d69211013eb4bfe8c44742799be75a2",
       "max": 11,
       "style": "IPY_MODEL_d31dea4b7b6a4302ab7748d5b59b3e31",
       "value": 11
      }
     },
     "9aa51d11fffe440fbb026e0b2f8ef544": {
      "model_module": "@jupyter-widgets/controls",
      "model_module_version": "1.4.0",
      "model_name": "DescriptionStyleModel",
      "state": {
       "description_width": ""
      }
     },
     "9d5d591b9d62440788b4a0b844df0cb4": {
      "model_module": "@jupyter-widgets/base",
      "model_module_version": "1.1.0",
      "model_name": "LayoutModel",
      "state": {}
     },
     "9d60264dec6340b5b92082e95a33d63e": {
      "model_module": "@jupyter-widgets/controls",
      "model_module_version": "1.4.0",
      "model_name": "ProgressStyleModel",
      "state": {
       "description_width": "initial"
      }
     },
     "9e099eff602140f8b9790113cb391741": {
      "model_module": "@jupyter-widgets/base",
      "model_module_version": "1.1.0",
      "model_name": "LayoutModel",
      "state": {}
     },
     "9f88831b1e574b8ea902bb7fdb4375ed": {
      "model_module": "@jupyter-widgets/controls",
      "model_module_version": "1.4.0",
      "model_name": "FloatProgressModel",
      "state": {
       "description": "Train_Iter: 100%",
       "layout": "IPY_MODEL_7f4f41d1160048ce881da4d924ac18a4",
       "max": 87,
       "style": "IPY_MODEL_1ef0475776934256bcc2e5e6e89d4935",
       "value": 87
      }
     },
     "9fc33061eb9e4275924159c10b5f53d2": {
      "model_module": "@jupyter-widgets/controls",
      "model_module_version": "1.4.0",
      "model_name": "DescriptionStyleModel",
      "state": {
       "description_width": ""
      }
     },
     "9ffff54b3ae146ffa03ea245daa4ef0f": {
      "model_module": "@jupyter-widgets/controls",
      "model_module_version": "1.4.0",
      "model_name": "FloatProgressModel",
      "state": {
       "description": "Train_Iter:  16%",
       "layout": "IPY_MODEL_1c7085a5ca4e4b0b81d08c57ca94f16f",
       "max": 87,
       "style": "IPY_MODEL_a7a79ae20cf34badbec2f3eb08531a62",
       "value": 14
      }
     },
     "a0b811dca4de460cb8ee57dc19da60cb": {
      "model_module": "@jupyter-widgets/base",
      "model_module_version": "1.1.0",
      "model_name": "LayoutModel",
      "state": {}
     },
     "a1879834b0b5450b88a9aeea026b71fd": {
      "model_module": "@jupyter-widgets/base",
      "model_module_version": "1.1.0",
      "model_name": "LayoutModel",
      "state": {}
     },
     "a3e3e464843b412ea010c6e32d57e2ea": {
      "model_module": "@jupyter-widgets/controls",
      "model_module_version": "1.4.0",
      "model_name": "DescriptionStyleModel",
      "state": {
       "description_width": ""
      }
     },
     "a53a933da21143eab8aca856165a6bb3": {
      "model_module": "@jupyter-widgets/base",
      "model_module_version": "1.1.0",
      "model_name": "LayoutModel",
      "state": {}
     },
     "a5d31587ee6f498d893a5366a8d117bd": {
      "model_module": "@jupyter-widgets/controls",
      "model_module_version": "1.4.0",
      "model_name": "FloatProgressModel",
      "state": {
       "description": "Train_Iter: 100%",
       "layout": "IPY_MODEL_a0b811dca4de460cb8ee57dc19da60cb",
       "max": 87,
       "style": "IPY_MODEL_d9be3ac510ba4934a018e93d9762a9e5",
       "value": 87
      }
     },
     "a6224a1c95fa4bff8e87ebdf36e4e430": {
      "model_module": "@jupyter-widgets/base",
      "model_module_version": "1.1.0",
      "model_name": "LayoutModel",
      "state": {}
     },
     "a77b20594717439c857484463f15d685": {
      "model_module": "@jupyter-widgets/controls",
      "model_module_version": "1.4.0",
      "model_name": "DescriptionStyleModel",
      "state": {
       "description_width": ""
      }
     },
     "a7a79ae20cf34badbec2f3eb08531a62": {
      "model_module": "@jupyter-widgets/controls",
      "model_module_version": "1.4.0",
      "model_name": "ProgressStyleModel",
      "state": {
       "description_width": "initial"
      }
     },
     "a852123b0b344d1ea6a73d2e7b266884": {
      "model_module": "@jupyter-widgets/controls",
      "model_module_version": "1.4.0",
      "model_name": "DescriptionStyleModel",
      "state": {
       "description_width": ""
      }
     },
     "a948bb65c4f845c5a225b0cfeac71865": {
      "model_module": "@jupyter-widgets/controls",
      "model_module_version": "1.4.0",
      "model_name": "ProgressStyleModel",
      "state": {
       "description_width": "initial"
      }
     },
     "a9e618e446db4300940da6dfbbd35473": {
      "model_module": "@jupyter-widgets/controls",
      "model_module_version": "1.4.0",
      "model_name": "ProgressStyleModel",
      "state": {
       "description_width": "initial"
      }
     },
     "aae650ab4d1246d7bcdfb09e9c4ebf2a": {
      "model_module": "@jupyter-widgets/controls",
      "model_module_version": "1.4.0",
      "model_name": "HTMLModel",
      "state": {
       "layout": "IPY_MODEL_e93bf1517694446f843fc1fc95368e49",
       "style": "IPY_MODEL_9fc33061eb9e4275924159c10b5f53d2",
       "value": " 11/11 [04:13&lt;00:00, 22.93s/it]"
      }
     },
     "ab55958884ca4a2684421323c44d769e": {
      "model_module": "@jupyter-widgets/base",
      "model_module_version": "1.1.0",
      "model_name": "LayoutModel",
      "state": {}
     },
     "ac13ca84cd7e40fab768ade2fd7d7dcf": {
      "model_module": "@jupyter-widgets/controls",
      "model_module_version": "1.4.0",
      "model_name": "HBoxModel",
      "state": {
       "children": [
        "IPY_MODEL_c06d924bd0cf428da464ebf4399d4039",
        "IPY_MODEL_78ba93fce5c54c3680782ac46456eb2b"
       ],
       "layout": "IPY_MODEL_1fd2f5558ccf4b31b9546312dc0fa4eb"
      }
     },
     "ac7a51ab758f428bafe51c6d6d4a346f": {
      "model_module": "@jupyter-widgets/base",
      "model_module_version": "1.1.0",
      "model_name": "LayoutModel",
      "state": {}
     },
     "ac81a08efb6943dfbdd2284ff6b42a04": {
      "model_module": "@jupyter-widgets/controls",
      "model_module_version": "1.4.0",
      "model_name": "FloatProgressModel",
      "state": {
       "description": "Train_Iter: 100%",
       "layout": "IPY_MODEL_efcc88a1579e4d6bae453bd8f5bc751d",
       "max": 87,
       "style": "IPY_MODEL_bb6f95a03726476eb309286c0114e60d",
       "value": 87
      }
     },
     "ae163356c70c4639ae023bf0e578b826": {
      "model_module": "@jupyter-widgets/controls",
      "model_module_version": "1.4.0",
      "model_name": "HTMLModel",
      "state": {
       "layout": "IPY_MODEL_a6224a1c95fa4bff8e87ebdf36e4e430",
       "style": "IPY_MODEL_1fc6ec1bf412461d97d727cfe944c8bd",
       "value": " 87/87 [51:50&lt;00:00, 35.65s/it]"
      }
     },
     "ae6c07f5a8c3449681c188884848feb9": {
      "model_module": "@jupyter-widgets/base",
      "model_module_version": "1.1.0",
      "model_name": "LayoutModel",
      "state": {}
     },
     "af93fe0c08024baa97c53632eb64df5c": {
      "model_module": "@jupyter-widgets/base",
      "model_module_version": "1.1.0",
      "model_name": "LayoutModel",
      "state": {}
     },
     "afaba5099986406f9e58a97ee54db2fb": {
      "model_module": "@jupyter-widgets/base",
      "model_module_version": "1.1.0",
      "model_name": "LayoutModel",
      "state": {}
     },
     "afbf535eda894bad929fdecea1f009b8": {
      "model_module": "@jupyter-widgets/base",
      "model_module_version": "1.1.0",
      "model_name": "LayoutModel",
      "state": {}
     },
     "b03d5c57fd794794aafe9bddbe279a4b": {
      "model_module": "@jupyter-widgets/base",
      "model_module_version": "1.1.0",
      "model_name": "LayoutModel",
      "state": {}
     },
     "b06768d17e6a4e6fbb0bc060bf8051bd": {
      "model_module": "@jupyter-widgets/controls",
      "model_module_version": "1.4.0",
      "model_name": "HTMLModel",
      "state": {
       "layout": "IPY_MODEL_b9cdf2dccb0647a28e0df278c0e8ee87",
       "style": "IPY_MODEL_3873619e15984e2785999a5082af8b55",
       "value": " 11/11 [04:16&lt;00:00, 23.36s/it]"
      }
     },
     "b0d92c85f0244d169f1e9eaea3595c3c": {
      "model_module": "@jupyter-widgets/base",
      "model_module_version": "1.1.0",
      "model_name": "LayoutModel",
      "state": {}
     },
     "b137948b9168496eb490f09a368fadc0": {
      "model_module": "@jupyter-widgets/controls",
      "model_module_version": "1.4.0",
      "model_name": "FloatProgressModel",
      "state": {
       "description": "Val_Iter: 100%",
       "layout": "IPY_MODEL_973d5cfd7c144697b43520566c00d8f7",
       "max": 11,
       "style": "IPY_MODEL_64247600538a4f42817056653504d453",
       "value": 11
      }
     },
     "b1e2d7a8e5e649378275353af2320df6": {
      "model_module": "@jupyter-widgets/controls",
      "model_module_version": "1.4.0",
      "model_name": "ProgressStyleModel",
      "state": {
       "description_width": "initial"
      }
     },
     "b2243570e82b410e8a3da00127f16ce3": {
      "model_module": "@jupyter-widgets/controls",
      "model_module_version": "1.4.0",
      "model_name": "HTMLModel",
      "state": {
       "layout": "IPY_MODEL_82df1e5d6406449eab6588d8fd47a450",
       "style": "IPY_MODEL_e33fe72bb2ef4e73a85e0fb917b45469",
       "value": " 11/11 [04:14&lt;00:00, 23.21s/it]"
      }
     },
     "b259e15f64a64172a636c01ad50098d0": {
      "model_module": "@jupyter-widgets/controls",
      "model_module_version": "1.4.0",
      "model_name": "FloatProgressModel",
      "state": {
       "bar_style": "danger",
       "description": " 52%",
       "layout": "IPY_MODEL_f5638e32e9fe44c09d9109cb7efb6e54",
       "max": 6457,
       "style": "IPY_MODEL_8d9959877e5c42e8aead176c1b99311d",
       "value": 3389
      }
     },
     "b35991b4fa2448b2aa91531f875c65cf": {
      "model_module": "@jupyter-widgets/base",
      "model_module_version": "1.1.0",
      "model_name": "LayoutModel",
      "state": {}
     },
     "b363d1e512884aaf95b42b34d820ffb2": {
      "model_module": "@jupyter-widgets/controls",
      "model_module_version": "1.4.0",
      "model_name": "DescriptionStyleModel",
      "state": {
       "description_width": ""
      }
     },
     "b402622cb6dc45859f9a6e15368b11b6": {
      "model_module": "@jupyter-widgets/base",
      "model_module_version": "1.1.0",
      "model_name": "LayoutModel",
      "state": {}
     },
     "b4174ca72806480c9c40fe74f457a944": {
      "model_module": "@jupyter-widgets/controls",
      "model_module_version": "1.4.0",
      "model_name": "HBoxModel",
      "state": {
       "children": [
        "IPY_MODEL_db80c0e8f732499f93c2afc2f02c5d18",
        "IPY_MODEL_8f24c805959b4c66b5676defb5e45bd7"
       ],
       "layout": "IPY_MODEL_432456c5b30844dd8eeb54c1c628da7a"
      }
     },
     "b57f2832800441ee985f911a1f193df6": {
      "model_module": "@jupyter-widgets/controls",
      "model_module_version": "1.4.0",
      "model_name": "DescriptionStyleModel",
      "state": {
       "description_width": ""
      }
     },
     "b5d500a3771f4fb4902fba70d880a41d": {
      "model_module": "@jupyter-widgets/controls",
      "model_module_version": "1.4.0",
      "model_name": "DescriptionStyleModel",
      "state": {
       "description_width": ""
      }
     },
     "b70b6eaecfa140a8ba16f2ae92f9a8b7": {
      "model_module": "@jupyter-widgets/base",
      "model_module_version": "1.1.0",
      "model_name": "LayoutModel",
      "state": {}
     },
     "b70f5a880f45428dbe70daa939f1d436": {
      "model_module": "@jupyter-widgets/base",
      "model_module_version": "1.1.0",
      "model_name": "LayoutModel",
      "state": {}
     },
     "b7a5cb76033d4398a19ef04dc0c18e99": {
      "model_module": "@jupyter-widgets/base",
      "model_module_version": "1.1.0",
      "model_name": "LayoutModel",
      "state": {}
     },
     "b84c1ac1e6b847ba8e0b448a1a2ac678": {
      "model_module": "@jupyter-widgets/controls",
      "model_module_version": "1.4.0",
      "model_name": "DescriptionStyleModel",
      "state": {
       "description_width": ""
      }
     },
     "b942a08c21a14c79b4862929ca4e44ed": {
      "model_module": "@jupyter-widgets/base",
      "model_module_version": "1.1.0",
      "model_name": "LayoutModel",
      "state": {}
     },
     "b9cdf2dccb0647a28e0df278c0e8ee87": {
      "model_module": "@jupyter-widgets/base",
      "model_module_version": "1.1.0",
      "model_name": "LayoutModel",
      "state": {}
     },
     "ba266ee856984ab4857114c6cde18d86": {
      "model_module": "@jupyter-widgets/base",
      "model_module_version": "1.1.0",
      "model_name": "LayoutModel",
      "state": {}
     },
     "ba659d6aab6246a8a34b773629465f25": {
      "model_module": "@jupyter-widgets/base",
      "model_module_version": "1.1.0",
      "model_name": "LayoutModel",
      "state": {}
     },
     "bb06f72928394f16b2f75eac1d6c095f": {
      "model_module": "@jupyter-widgets/controls",
      "model_module_version": "1.4.0",
      "model_name": "ProgressStyleModel",
      "state": {
       "description_width": "initial"
      }
     },
     "bb6f95a03726476eb309286c0114e60d": {
      "model_module": "@jupyter-widgets/controls",
      "model_module_version": "1.4.0",
      "model_name": "ProgressStyleModel",
      "state": {
       "description_width": "initial"
      }
     },
     "bdb5c406e60940d9947711013c06dfc9": {
      "model_module": "@jupyter-widgets/base",
      "model_module_version": "1.1.0",
      "model_name": "LayoutModel",
      "state": {}
     },
     "be16aef3cc454da598e07725d07262cd": {
      "model_module": "@jupyter-widgets/controls",
      "model_module_version": "1.4.0",
      "model_name": "ProgressStyleModel",
      "state": {
       "description_width": "initial"
      }
     },
     "c06d924bd0cf428da464ebf4399d4039": {
      "model_module": "@jupyter-widgets/controls",
      "model_module_version": "1.4.0",
      "model_name": "FloatProgressModel",
      "state": {
       "bar_style": "danger",
       "description": "Train_Iter:   0%",
       "layout": "IPY_MODEL_b70f5a880f45428dbe70daa939f1d436",
       "max": 87,
       "style": "IPY_MODEL_16cdc7cd5bb54a308935142b9776b7d7"
      }
     },
     "c15156fea849420fa0feae96c3ac92a7": {
      "model_module": "@jupyter-widgets/base",
      "model_module_version": "1.1.0",
      "model_name": "LayoutModel",
      "state": {}
     },
     "c15a594b68454207904aa340f3481fa0": {
      "model_module": "@jupyter-widgets/controls",
      "model_module_version": "1.4.0",
      "model_name": "HTMLModel",
      "state": {
       "layout": "IPY_MODEL_52392695bc774640ab2955a17257b3d4",
       "style": "IPY_MODEL_b57f2832800441ee985f911a1f193df6",
       "value": " 0/50 [00:00&lt;?, ?it/s]"
      }
     },
     "c1686bf9a7c04c3ca428d493a0a7ab88": {
      "model_module": "@jupyter-widgets/controls",
      "model_module_version": "1.4.0",
      "model_name": "HTMLModel",
      "state": {
       "layout": "IPY_MODEL_daf109cb339c46df9b9f03d17b044802",
       "style": "IPY_MODEL_ef6811cf01874e55a2e462e469ae053c",
       "value": " 87/87 [1:00:03&lt;00:00, 42.30s/it]"
      }
     },
     "c2019ab6cc6843d5b68403a2fb39a40f": {
      "model_module": "@jupyter-widgets/controls",
      "model_module_version": "1.4.0",
      "model_name": "ProgressStyleModel",
      "state": {
       "description_width": "initial"
      }
     },
     "c312f07732d34ea983116dab765ba330": {
      "model_module": "@jupyter-widgets/base",
      "model_module_version": "1.1.0",
      "model_name": "LayoutModel",
      "state": {}
     },
     "c3c6151d1dda4a64ae67d4c9afb1587f": {
      "model_module": "@jupyter-widgets/controls",
      "model_module_version": "1.4.0",
      "model_name": "DescriptionStyleModel",
      "state": {
       "description_width": ""
      }
     },
     "c40f09d480c1475d97873cf9b33eda09": {
      "model_module": "@jupyter-widgets/controls",
      "model_module_version": "1.4.0",
      "model_name": "ProgressStyleModel",
      "state": {
       "description_width": "initial"
      }
     },
     "c65c98abd5da40dfb6f996e4df2bc597": {
      "model_module": "@jupyter-widgets/controls",
      "model_module_version": "1.4.0",
      "model_name": "HTMLModel",
      "state": {
       "layout": "IPY_MODEL_c312f07732d34ea983116dab765ba330",
       "style": "IPY_MODEL_0c4f07398e294335bc2e8a7e16fea46f",
       "value": " 11/11 [04:02&lt;00:00, 22.10s/it]"
      }
     },
     "c677d9503a1749c7952279984fe087c7": {
      "model_module": "@jupyter-widgets/base",
      "model_module_version": "1.1.0",
      "model_name": "LayoutModel",
      "state": {}
     },
     "c781ef80435a4581b0ed82e804bc016b": {
      "model_module": "@jupyter-widgets/controls",
      "model_module_version": "1.4.0",
      "model_name": "ProgressStyleModel",
      "state": {
       "description_width": "initial"
      }
     },
     "c7d348816d574722b38d6c5cd8c478ae": {
      "model_module": "@jupyter-widgets/base",
      "model_module_version": "1.1.0",
      "model_name": "LayoutModel",
      "state": {}
     },
     "c853c654261c4eac9d4ec351c3b03cde": {
      "model_module": "@jupyter-widgets/base",
      "model_module_version": "1.1.0",
      "model_name": "LayoutModel",
      "state": {}
     },
     "c9e92f5e542a49f284f490c250db220f": {
      "model_module": "@jupyter-widgets/base",
      "model_module_version": "1.1.0",
      "model_name": "LayoutModel",
      "state": {}
     },
     "ca233808164847148ace5a996d93d9b6": {
      "model_module": "@jupyter-widgets/controls",
      "model_module_version": "1.4.0",
      "model_name": "HTMLModel",
      "state": {
       "layout": "IPY_MODEL_1e15df9ed4c2438e870aa8434890313f",
       "style": "IPY_MODEL_0a175d8e29c04840a4de3eadcd496bf3",
       "value": " 11/11 [04:16&lt;00:00, 23.29s/it]"
      }
     },
     "ca4093e442dd423bad842dd366cca4af": {
      "model_module": "@jupyter-widgets/base",
      "model_module_version": "1.1.0",
      "model_name": "LayoutModel",
      "state": {}
     },
     "ca9faadee9334413ae8fd59a2d140b3d": {
      "model_module": "@jupyter-widgets/base",
      "model_module_version": "1.1.0",
      "model_name": "LayoutModel",
      "state": {}
     },
     "caeb75d385024953bb341830c880e69d": {
      "model_module": "@jupyter-widgets/base",
      "model_module_version": "1.1.0",
      "model_name": "LayoutModel",
      "state": {}
     },
     "cbef7c5cf6cb4beab6cff7f1c0a266da": {
      "model_module": "@jupyter-widgets/base",
      "model_module_version": "1.1.0",
      "model_name": "LayoutModel",
      "state": {}
     },
     "cca1157538bf462eb48caabcd2e79efc": {
      "model_module": "@jupyter-widgets/base",
      "model_module_version": "1.1.0",
      "model_name": "LayoutModel",
      "state": {}
     },
     "cd62ed1325744756829e7479f5dd9ccb": {
      "model_module": "@jupyter-widgets/base",
      "model_module_version": "1.1.0",
      "model_name": "LayoutModel",
      "state": {}
     },
     "cddff91b4c7d4f9f93fd18ceda00ee51": {
      "model_module": "@jupyter-widgets/controls",
      "model_module_version": "1.4.0",
      "model_name": "DescriptionStyleModel",
      "state": {
       "description_width": ""
      }
     },
     "ce2f97fc059a4b3791e7b9904c87527d": {
      "model_module": "@jupyter-widgets/controls",
      "model_module_version": "1.4.0",
      "model_name": "ProgressStyleModel",
      "state": {
       "description_width": "initial"
      }
     },
     "ce8dd747fe9541548a17101e18619576": {
      "model_module": "@jupyter-widgets/controls",
      "model_module_version": "1.4.0",
      "model_name": "HTMLModel",
      "state": {
       "layout": "IPY_MODEL_b70b6eaecfa140a8ba16f2ae92f9a8b7",
       "style": "IPY_MODEL_62a8ccb44b49489991920aec336526d8",
       "value": " 10/300 [02:42&lt;1:18:36, 16.26s/it]"
      }
     },
     "cfbd411e131e4534b416baca0c8159ce": {
      "model_module": "@jupyter-widgets/controls",
      "model_module_version": "1.4.0",
      "model_name": "HTMLModel",
      "state": {
       "layout": "IPY_MODEL_cbef7c5cf6cb4beab6cff7f1c0a266da",
       "style": "IPY_MODEL_3b9c9abcfa6749f5b8daef92ba55ca51",
       "value": " 87/87 [56:55&lt;00:00, 38.57s/it]"
      }
     },
     "d05bfdc1d87044e28b80471174bd0a84": {
      "model_module": "@jupyter-widgets/controls",
      "model_module_version": "1.4.0",
      "model_name": "DescriptionStyleModel",
      "state": {
       "description_width": ""
      }
     },
     "d0732bf7788640a6bc9121156ee49e91": {
      "model_module": "@jupyter-widgets/base",
      "model_module_version": "1.1.0",
      "model_name": "LayoutModel",
      "state": {}
     },
     "d08af3e0fc974cadad3c33e76efa7cff": {
      "model_module": "@jupyter-widgets/base",
      "model_module_version": "1.1.0",
      "model_name": "LayoutModel",
      "state": {}
     },
     "d0aae54e82a84212b2b4c97d946221f7": {
      "model_module": "@jupyter-widgets/controls",
      "model_module_version": "1.4.0",
      "model_name": "HTMLModel",
      "state": {
       "layout": "IPY_MODEL_5d754b4cec1f49c9b585000654830094",
       "style": "IPY_MODEL_a852123b0b344d1ea6a73d2e7b266884",
       "value": " 87/87 [53:35&lt;00:00, 37.99s/it]"
      }
     },
     "d0d00490b5b444eeac02f354c42837b5": {
      "model_module": "@jupyter-widgets/base",
      "model_module_version": "1.1.0",
      "model_name": "LayoutModel",
      "state": {}
     },
     "d199b7df759140748450af60cd7d3785": {
      "model_module": "@jupyter-widgets/controls",
      "model_module_version": "1.4.0",
      "model_name": "HBoxModel",
      "state": {
       "children": [
        "IPY_MODEL_87e19f680ebc4e3fafefc9d2826defb1",
        "IPY_MODEL_4f72ae606cf54b30bedc548cfba83159"
       ],
       "layout": "IPY_MODEL_ac7a51ab758f428bafe51c6d6d4a346f"
      }
     },
     "d2e048076ea44a0b9681772c4b19ac99": {
      "model_module": "@jupyter-widgets/base",
      "model_module_version": "1.1.0",
      "model_name": "LayoutModel",
      "state": {}
     },
     "d31dea4b7b6a4302ab7748d5b59b3e31": {
      "model_module": "@jupyter-widgets/controls",
      "model_module_version": "1.4.0",
      "model_name": "ProgressStyleModel",
      "state": {
       "description_width": "initial"
      }
     },
     "d36a249433494db0a1022865722b618f": {
      "model_module": "@jupyter-widgets/controls",
      "model_module_version": "1.4.0",
      "model_name": "DescriptionStyleModel",
      "state": {
       "description_width": ""
      }
     },
     "d3e9397743a54c8183dd5c423f86b308": {
      "model_module": "@jupyter-widgets/base",
      "model_module_version": "1.1.0",
      "model_name": "LayoutModel",
      "state": {}
     },
     "d4f44dc1942c4349a1d0e6068cbf1a6b": {
      "model_module": "@jupyter-widgets/controls",
      "model_module_version": "1.4.0",
      "model_name": "FloatProgressModel",
      "state": {
       "description": "Train_Iter: 100%",
       "layout": "IPY_MODEL_d959f6c6a9d14c469b9c8df85038a28e",
       "max": 87,
       "style": "IPY_MODEL_f4cf89a19320477389c0d75fa2b1710d",
       "value": 87
      }
     },
     "d504c590259a4b8eb985eae5eb2bba77": {
      "model_module": "@jupyter-widgets/controls",
      "model_module_version": "1.4.0",
      "model_name": "HTMLModel",
      "state": {
       "layout": "IPY_MODEL_9e099eff602140f8b9790113cb391741",
       "style": "IPY_MODEL_128c9f0683a8419db700394458b19137",
       "value": " 11/11 [04:06&lt;00:00, 21.60s/it]"
      }
     },
     "d58d5be094b14d19bbb265668a997cda": {
      "model_module": "@jupyter-widgets/base",
      "model_module_version": "1.1.0",
      "model_name": "LayoutModel",
      "state": {}
     },
     "d5d90296b40a4357acc9ef4fedffddd9": {
      "model_module": "@jupyter-widgets/base",
      "model_module_version": "1.1.0",
      "model_name": "LayoutModel",
      "state": {}
     },
     "d5e3f25b35ea407d8db8597bcca6a55d": {
      "model_module": "@jupyter-widgets/base",
      "model_module_version": "1.1.0",
      "model_name": "LayoutModel",
      "state": {}
     },
     "d6d420eae62e4a7a996fa785290ff574": {
      "model_module": "@jupyter-widgets/base",
      "model_module_version": "1.1.0",
      "model_name": "LayoutModel",
      "state": {}
     },
     "d85e66ebc1924eeeb003c98dbad6fdf0": {
      "model_module": "@jupyter-widgets/controls",
      "model_module_version": "1.4.0",
      "model_name": "DescriptionStyleModel",
      "state": {
       "description_width": ""
      }
     },
     "d959f6c6a9d14c469b9c8df85038a28e": {
      "model_module": "@jupyter-widgets/base",
      "model_module_version": "1.1.0",
      "model_name": "LayoutModel",
      "state": {}
     },
     "d9be3ac510ba4934a018e93d9762a9e5": {
      "model_module": "@jupyter-widgets/controls",
      "model_module_version": "1.4.0",
      "model_name": "ProgressStyleModel",
      "state": {
       "description_width": "initial"
      }
     },
     "dacc4f79ab014059a64d27ec64e28953": {
      "model_module": "@jupyter-widgets/controls",
      "model_module_version": "1.4.0",
      "model_name": "HTMLModel",
      "state": {
       "layout": "IPY_MODEL_74d59e14424b4ffbb01853720662bfec",
       "style": "IPY_MODEL_b5d500a3771f4fb4902fba70d880a41d",
       "value": " 87/87 [53:46&lt;00:00, 38.19s/it]"
      }
     },
     "daf109cb339c46df9b9f03d17b044802": {
      "model_module": "@jupyter-widgets/base",
      "model_module_version": "1.1.0",
      "model_name": "LayoutModel",
      "state": {}
     },
     "db7a537757e44ad39a014785f7a30362": {
      "model_module": "@jupyter-widgets/base",
      "model_module_version": "1.1.0",
      "model_name": "LayoutModel",
      "state": {}
     },
     "db80c0e8f732499f93c2afc2f02c5d18": {
      "model_module": "@jupyter-widgets/controls",
      "model_module_version": "1.4.0",
      "model_name": "FloatProgressModel",
      "state": {
       "description": "Epoch:  10%",
       "layout": "IPY_MODEL_e0061c987f1f4287929671bd23fda19c",
       "max": 50,
       "style": "IPY_MODEL_54d5d5dc8bbc458682c1cb77e4380b30",
       "value": 5
      }
     },
     "de767eebe5b948258efef812fab9f114": {
      "model_module": "@jupyter-widgets/base",
      "model_module_version": "1.1.0",
      "model_name": "LayoutModel",
      "state": {}
     },
     "df4956c28a724455b6a4a88004468e52": {
      "model_module": "@jupyter-widgets/controls",
      "model_module_version": "1.4.0",
      "model_name": "DescriptionStyleModel",
      "state": {
       "description_width": ""
      }
     },
     "dfa7b7f2a48c463fb67c90fcb38b1552": {
      "model_module": "@jupyter-widgets/controls",
      "model_module_version": "1.4.0",
      "model_name": "DescriptionStyleModel",
      "state": {
       "description_width": ""
      }
     },
     "e0061c987f1f4287929671bd23fda19c": {
      "model_module": "@jupyter-widgets/base",
      "model_module_version": "1.1.0",
      "model_name": "LayoutModel",
      "state": {}
     },
     "e0762495f883467e9c81c386b74b9693": {
      "model_module": "@jupyter-widgets/controls",
      "model_module_version": "1.4.0",
      "model_name": "FloatProgressModel",
      "state": {
       "description": "Val_Iter: 100%",
       "layout": "IPY_MODEL_3f49c4d5a8d749a7a009224bc5fab633",
       "max": 11,
       "style": "IPY_MODEL_7940b28c77544881b9c8c1e7ffa47634",
       "value": 11
      }
     },
     "e1c39d3ccbdd4dd38984114d3fa7d7e6": {
      "model_module": "@jupyter-widgets/base",
      "model_module_version": "1.1.0",
      "model_name": "LayoutModel",
      "state": {}
     },
     "e23abb7e8ed844639541b3d321db77d6": {
      "model_module": "@jupyter-widgets/controls",
      "model_module_version": "1.4.0",
      "model_name": "HTMLModel",
      "state": {
       "layout": "IPY_MODEL_32052d5b6bb74e45b4c2955fe358c608",
       "style": "IPY_MODEL_826f28fbb3234f5697a095f9ba30e0dc",
       "value": " 37/87 [25:33&lt;33:33, 40.28s/it]"
      }
     },
     "e2a141bbe8fe480c9095d81bd82d264d": {
      "model_module": "@jupyter-widgets/controls",
      "model_module_version": "1.4.0",
      "model_name": "FloatProgressModel",
      "state": {
       "description": "Val_Iter: 100%",
       "layout": "IPY_MODEL_ae6c07f5a8c3449681c188884848feb9",
       "max": 11,
       "style": "IPY_MODEL_3d568180d0a0447da7ed25233270edc1",
       "value": 11
      }
     },
     "e33fe72bb2ef4e73a85e0fb917b45469": {
      "model_module": "@jupyter-widgets/controls",
      "model_module_version": "1.4.0",
      "model_name": "DescriptionStyleModel",
      "state": {
       "description_width": ""
      }
     },
     "e43b3a19a3d04d818a2352e55b1cccc7": {
      "model_module": "@jupyter-widgets/controls",
      "model_module_version": "1.4.0",
      "model_name": "HBoxModel",
      "state": {
       "children": [
        "IPY_MODEL_fd644aed7d714e3d86e834223c8997f9",
        "IPY_MODEL_c15a594b68454207904aa340f3481fa0"
       ],
       "layout": "IPY_MODEL_3f4226ec5d264b4a87de98027d90691b"
      }
     },
     "e49b2392bbf449b28d6c8a7510038fa5": {
      "model_module": "@jupyter-widgets/controls",
      "model_module_version": "1.4.0",
      "model_name": "DescriptionStyleModel",
      "state": {
       "description_width": ""
      }
     },
     "e4d6aa24b23542cca64e6b6bbc957290": {
      "model_module": "@jupyter-widgets/controls",
      "model_module_version": "1.4.0",
      "model_name": "ProgressStyleModel",
      "state": {
       "description_width": "initial"
      }
     },
     "e51fc85f748947afba80a2564c086d39": {
      "model_module": "@jupyter-widgets/controls",
      "model_module_version": "1.4.0",
      "model_name": "HTMLModel",
      "state": {
       "layout": "IPY_MODEL_99aff0993f8643abb59db9e1d6a16059",
       "style": "IPY_MODEL_66d40863d215472f9e7fec24b8f20b1f",
       "value": " 11/11 [04:15&lt;00:00, 23.40s/it]"
      }
     },
     "e5ccf06e9c4d422b9206cf17fdccb835": {
      "model_module": "@jupyter-widgets/controls",
      "model_module_version": "1.4.0",
      "model_name": "ProgressStyleModel",
      "state": {
       "description_width": "initial"
      }
     },
     "e5fe46f789054e53a6d371c22c67ef5c": {
      "model_module": "@jupyter-widgets/controls",
      "model_module_version": "1.4.0",
      "model_name": "DescriptionStyleModel",
      "state": {
       "description_width": ""
      }
     },
     "e63ad9bb8b7743b4a9d19fe457b0feac": {
      "model_module": "@jupyter-widgets/controls",
      "model_module_version": "1.4.0",
      "model_name": "FloatProgressModel",
      "state": {
       "description": "Train_Iter: 100%",
       "layout": "IPY_MODEL_3a8c10a932fe472babbe645033502fa0",
       "max": 87,
       "style": "IPY_MODEL_9d60264dec6340b5b92082e95a33d63e",
       "value": 87
      }
     },
     "e7513f22f9fc4e6c857e261f08993ca3": {
      "model_module": "@jupyter-widgets/controls",
      "model_module_version": "1.4.0",
      "model_name": "FloatProgressModel",
      "state": {
       "description": "Val_Iter: 100%",
       "layout": "IPY_MODEL_d5e3f25b35ea407d8db8597bcca6a55d",
       "max": 11,
       "style": "IPY_MODEL_15b40f5b7e434ff18a25568f612fc490",
       "value": 11
      }
     },
     "e7fb2ad6672141c1b63d4b4b6caac70a": {
      "model_module": "@jupyter-widgets/controls",
      "model_module_version": "1.4.0",
      "model_name": "ProgressStyleModel",
      "state": {
       "description_width": "initial"
      }
     },
     "e8f97153d8484fdd83be7cb5b114edf8": {
      "model_module": "@jupyter-widgets/controls",
      "model_module_version": "1.4.0",
      "model_name": "FloatProgressModel",
      "state": {
       "description": "Val_Iter: 100%",
       "layout": "IPY_MODEL_83f75d1519b9402c8e264890b09a4502",
       "max": 11,
       "style": "IPY_MODEL_c781ef80435a4581b0ed82e804bc016b",
       "value": 11
      }
     },
     "e93bf1517694446f843fc1fc95368e49": {
      "model_module": "@jupyter-widgets/base",
      "model_module_version": "1.1.0",
      "model_name": "LayoutModel",
      "state": {}
     },
     "ec799499b73f4d17941b990fea0514d2": {
      "model_module": "@jupyter-widgets/controls",
      "model_module_version": "1.4.0",
      "model_name": "HTMLModel",
      "state": {
       "layout": "IPY_MODEL_b7a5cb76033d4398a19ef04dc0c18e99",
       "style": "IPY_MODEL_6122c3ddb0a84369a649d27570570cbc",
       "value": " 87/87 [55:46&lt;00:00, 37.36s/it]"
      }
     },
     "ecfd6275f702418eaa9fae9ad0078aea": {
      "model_module": "@jupyter-widgets/base",
      "model_module_version": "1.1.0",
      "model_name": "LayoutModel",
      "state": {}
     },
     "ed2a01f5f637497ca481156638d97ee4": {
      "model_module": "@jupyter-widgets/controls",
      "model_module_version": "1.4.0",
      "model_name": "FloatProgressModel",
      "state": {
       "description": "Val_Iter: 100%",
       "layout": "IPY_MODEL_8993a4cb918144f9892a9605b35e9c7e",
       "max": 11,
       "style": "IPY_MODEL_be16aef3cc454da598e07725d07262cd",
       "value": 11
      }
     },
     "ed30790935cd4171a5130de048ccd0a1": {
      "model_module": "@jupyter-widgets/base",
      "model_module_version": "1.1.0",
      "model_name": "LayoutModel",
      "state": {}
     },
     "ed31e49bf58a40c5a16c2fa369e5bc2d": {
      "model_module": "@jupyter-widgets/controls",
      "model_module_version": "1.4.0",
      "model_name": "FloatProgressModel",
      "state": {
       "description": "Train_Iter: 100%",
       "layout": "IPY_MODEL_ab55958884ca4a2684421323c44d769e",
       "max": 87,
       "style": "IPY_MODEL_664a29ec8c9246aabf75dae01b0f3e5e",
       "value": 87
      }
     },
     "ed42608b89f44791bfe5e000698ef7c4": {
      "model_module": "@jupyter-widgets/controls",
      "model_module_version": "1.4.0",
      "model_name": "FloatProgressModel",
      "state": {
       "description": "Train_Iter: 100%",
       "layout": "IPY_MODEL_cd62ed1325744756829e7479f5dd9ccb",
       "max": 87,
       "style": "IPY_MODEL_70e4a339eef74c9a8d4a5ccb8f8bc1c8",
       "value": 87
      }
     },
     "ee68112692074b64bf325156e4f8688a": {
      "model_module": "@jupyter-widgets/base",
      "model_module_version": "1.1.0",
      "model_name": "LayoutModel",
      "state": {}
     },
     "ef080220e11944638f561cb163356595": {
      "model_module": "@jupyter-widgets/base",
      "model_module_version": "1.1.0",
      "model_name": "LayoutModel",
      "state": {}
     },
     "ef313b3a596f4377870fd3f2f963fec8": {
      "model_module": "@jupyter-widgets/controls",
      "model_module_version": "1.4.0",
      "model_name": "ProgressStyleModel",
      "state": {
       "description_width": "initial"
      }
     },
     "ef6811cf01874e55a2e462e469ae053c": {
      "model_module": "@jupyter-widgets/controls",
      "model_module_version": "1.4.0",
      "model_name": "DescriptionStyleModel",
      "state": {
       "description_width": ""
      }
     },
     "efcc88a1579e4d6bae453bd8f5bc751d": {
      "model_module": "@jupyter-widgets/base",
      "model_module_version": "1.1.0",
      "model_name": "LayoutModel",
      "state": {}
     },
     "efe57cb56a6e4d5a95375dca119cc01c": {
      "model_module": "@jupyter-widgets/controls",
      "model_module_version": "1.4.0",
      "model_name": "ProgressStyleModel",
      "state": {
       "description_width": "initial"
      }
     },
     "f005855452a64bfc85bd679ef5d8c45b": {
      "model_module": "@jupyter-widgets/base",
      "model_module_version": "1.1.0",
      "model_name": "LayoutModel",
      "state": {}
     },
     "f02d9ad50b3d4831b7e86c2b0dc5bad9": {
      "model_module": "@jupyter-widgets/base",
      "model_module_version": "1.1.0",
      "model_name": "LayoutModel",
      "state": {}
     },
     "f0955acbdf5949dc8b39985025ab59bb": {
      "model_module": "@jupyter-widgets/base",
      "model_module_version": "1.1.0",
      "model_name": "LayoutModel",
      "state": {}
     },
     "f10d68d5ff6944dd87530bd23c0ff692": {
      "model_module": "@jupyter-widgets/base",
      "model_module_version": "1.1.0",
      "model_name": "LayoutModel",
      "state": {}
     },
     "f25bc9a262e6463a85e7f09bc746f686": {
      "model_module": "@jupyter-widgets/base",
      "model_module_version": "1.1.0",
      "model_name": "LayoutModel",
      "state": {}
     },
     "f25df14594d840c7b8c696bac47169a2": {
      "model_module": "@jupyter-widgets/controls",
      "model_module_version": "1.4.0",
      "model_name": "ProgressStyleModel",
      "state": {
       "description_width": "initial"
      }
     },
     "f25e75beeca740db9182d098cc3d20a5": {
      "model_module": "@jupyter-widgets/controls",
      "model_module_version": "1.4.0",
      "model_name": "ProgressStyleModel",
      "state": {
       "description_width": "initial"
      }
     },
     "f36138565c29487b922a0b6eb8a8e4f0": {
      "model_module": "@jupyter-widgets/base",
      "model_module_version": "1.1.0",
      "model_name": "LayoutModel",
      "state": {}
     },
     "f3ae34476d654353a838958672ba5a83": {
      "model_module": "@jupyter-widgets/controls",
      "model_module_version": "1.4.0",
      "model_name": "HTMLModel",
      "state": {
       "layout": "IPY_MODEL_c853c654261c4eac9d4ec351c3b03cde",
       "style": "IPY_MODEL_9aa51d11fffe440fbb026e0b2f8ef544",
       "value": " 87/87 [54:37&lt;00:00, 38.70s/it]"
      }
     },
     "f3cc01903b964aecaff80c5a44df68fa": {
      "model_module": "@jupyter-widgets/controls",
      "model_module_version": "1.4.0",
      "model_name": "HBoxModel",
      "state": {
       "children": [
        "IPY_MODEL_26db79fd49614853b20f7bc21aa215ed",
        "IPY_MODEL_4bd542d1178e4888bedd5c78c5626c20"
       ],
       "layout": "IPY_MODEL_0a4c152367ec46d5b59b5b79e9e443a2"
      }
     },
     "f4a6256c58fb44da8addb1cdd48b1897": {
      "model_module": "@jupyter-widgets/controls",
      "model_module_version": "1.4.0",
      "model_name": "ProgressStyleModel",
      "state": {
       "description_width": "initial"
      }
     },
     "f4cf89a19320477389c0d75fa2b1710d": {
      "model_module": "@jupyter-widgets/controls",
      "model_module_version": "1.4.0",
      "model_name": "ProgressStyleModel",
      "state": {
       "description_width": "initial"
      }
     },
     "f5638e32e9fe44c09d9109cb7efb6e54": {
      "model_module": "@jupyter-widgets/base",
      "model_module_version": "1.1.0",
      "model_name": "LayoutModel",
      "state": {}
     },
     "f66b5ca7e643442592fbbc4a0a85f26f": {
      "model_module": "@jupyter-widgets/controls",
      "model_module_version": "1.4.0",
      "model_name": "DescriptionStyleModel",
      "state": {
       "description_width": ""
      }
     },
     "f6cf5d1a71ca4dd3bce344957887c2e2": {
      "model_module": "@jupyter-widgets/base",
      "model_module_version": "1.1.0",
      "model_name": "LayoutModel",
      "state": {}
     },
     "f72a7c1599664702b520e876512c9dac": {
      "model_module": "@jupyter-widgets/controls",
      "model_module_version": "1.4.0",
      "model_name": "FloatProgressModel",
      "state": {
       "description": "Train_Iter: 100%",
       "layout": "IPY_MODEL_c677d9503a1749c7952279984fe087c7",
       "max": 87,
       "style": "IPY_MODEL_f25df14594d840c7b8c696bac47169a2",
       "value": 87
      }
     },
     "f99bedd6659c48bc8fed09751d1ebd75": {
      "model_module": "@jupyter-widgets/controls",
      "model_module_version": "1.4.0",
      "model_name": "ProgressStyleModel",
      "state": {
       "description_width": "initial"
      }
     },
     "faa1e74c9fb9403494a351b98ebb61dc": {
      "model_module": "@jupyter-widgets/base",
      "model_module_version": "1.1.0",
      "model_name": "LayoutModel",
      "state": {}
     },
     "fad18746c9e0432bb83862ed21b8a3b6": {
      "model_module": "@jupyter-widgets/base",
      "model_module_version": "1.1.0",
      "model_name": "LayoutModel",
      "state": {}
     },
     "fb0c0b497e6b4e4892750019872f4164": {
      "model_module": "@jupyter-widgets/controls",
      "model_module_version": "1.4.0",
      "model_name": "DescriptionStyleModel",
      "state": {
       "description_width": ""
      }
     },
     "fb1534803e1447309be173eaf52bad78": {
      "model_module": "@jupyter-widgets/base",
      "model_module_version": "1.1.0",
      "model_name": "LayoutModel",
      "state": {}
     },
     "fbbc35e68a6a4e40994b331f070a1637": {
      "model_module": "@jupyter-widgets/controls",
      "model_module_version": "1.4.0",
      "model_name": "FloatProgressModel",
      "state": {
       "description": "Val_Iter: 100%",
       "layout": "IPY_MODEL_41cfc74d325a4be8837fd2d79302e779",
       "max": 11,
       "style": "IPY_MODEL_3222034cb75047439727f33acbc835f3",
       "value": 11
      }
     },
     "fbeac5f84b0242389a1102667432c47b": {
      "model_module": "@jupyter-widgets/controls",
      "model_module_version": "1.4.0",
      "model_name": "ProgressStyleModel",
      "state": {
       "description_width": "initial"
      }
     },
     "fc228996770f4347a785bba130b2486c": {
      "model_module": "@jupyter-widgets/base",
      "model_module_version": "1.1.0",
      "model_name": "LayoutModel",
      "state": {}
     },
     "fd644aed7d714e3d86e834223c8997f9": {
      "model_module": "@jupyter-widgets/controls",
      "model_module_version": "1.4.0",
      "model_name": "FloatProgressModel",
      "state": {
       "description": "Epoch:   0%",
       "layout": "IPY_MODEL_f0955acbdf5949dc8b39985025ab59bb",
       "max": 50,
       "style": "IPY_MODEL_33e56bf2ab4b49ea974432b4915e6995"
      }
     },
     "fd7ce960db12442f90422ac8c14e3686": {
      "model_module": "@jupyter-widgets/controls",
      "model_module_version": "1.4.0",
      "model_name": "ProgressStyleModel",
      "state": {
       "description_width": "initial"
      }
     },
     "fe22bf84657a4cf2b24c9a6b6a1e4a2b": {
      "model_module": "@jupyter-widgets/controls",
      "model_module_version": "1.4.0",
      "model_name": "FloatProgressModel",
      "state": {
       "description": "Train_Iter: 100%",
       "layout": "IPY_MODEL_4a3179508394429590f82e82793aaaa6",
       "max": 87,
       "style": "IPY_MODEL_5a58d9469e09466e80609040f8d89430",
       "value": 87
      }
     },
     "fe29101c64d642e5a88ba98b97bf4ac1": {
      "model_module": "@jupyter-widgets/base",
      "model_module_version": "1.1.0",
      "model_name": "LayoutModel",
      "state": {}
     },
     "feecf9b3bd304710a927cd25b778ad08": {
      "model_module": "@jupyter-widgets/base",
      "model_module_version": "1.1.0",
      "model_name": "LayoutModel",
      "state": {}
     },
     "ff888637100642dca130ec2fb7232e13": {
      "model_module": "@jupyter-widgets/controls",
      "model_module_version": "1.4.0",
      "model_name": "DescriptionStyleModel",
      "state": {
       "description_width": ""
      }
     }
    },
    "version_major": 2,
    "version_minor": 0
   }
  }
 },
 "nbformat": 4,
 "nbformat_minor": 4
}
