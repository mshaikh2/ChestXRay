{
 "cells": [
  {
   "cell_type": "code",
   "execution_count": 1,
   "metadata": {
    "scrolled": true
   },
   "outputs": [
    {
     "name": "stderr",
     "output_type": "stream",
     "text": [
      "Using TensorFlow backend.\n"
     ]
    }
   ],
   "source": [
    "import warnings\n",
    "warnings.filterwarnings('ignore')\n",
    "import spacy\n",
    "from keras.applications.vgg16 import VGG16\n",
    "from keras.applications.inception_resnet_v2 import InceptionResNetV2\n",
    "import matplotlib.pyplot as plt\n",
    "from keras.utils import plot_model,multi_gpu_model\n",
    "from IPython.display import SVG\n",
    "from keras.utils.vis_utils import model_to_dot\n",
    "from keras.models import Model\n",
    "from keras.models import load_model\n",
    "from keras.layers import Input,GlobalAveragePooling2D,Layer,InputSpec\n",
    "from keras.layers.core import Dense,Flatten,Dropout\n",
    "from keras.optimizers import Adam,SGD\n",
    "from keras.callbacks import ModelCheckpoint, EarlyStopping, TensorBoard\n",
    "from keras.utils import np_utils\n",
    "import keras.backend as K\n",
    "import keras.layers as kl\n",
    "from keras.preprocessing import sequence\n",
    "import tensorflow as tf\n",
    "from tensorflow.python.client import device_lib\n",
    "from sklearn.metrics import classification_report\n",
    "import pandas as pd\n",
    "import numpy as np\n",
    "from time import time\n",
    "import pickle\n",
    "from keras.models import model_from_json\n",
    "from keras.losses import sparse_categorical_crossentropy\n",
    "from PIL import Image\n",
    "# from AttentionModule import SelfAttention, SoftAttention\n",
    "import os\n",
    "visible_gpu_devices = '0,1,3'\n",
    "os.environ[\"CUDA_VISIBLE_DEVICES\"]=visible_gpu_devices\n",
    "# import cv2\n",
    "from tqdm.notebook import tqdm\n",
    "import AttentionMed as AM\n",
    "from importlib import reload\n",
    "reload(AM)\n",
    "from time import time,localtime,strftime\n",
    "from ipywidgets import IntProgress\n",
    "# from coord import CoordinateChannel2D\n"
   ]
  },
  {
   "cell_type": "code",
   "execution_count": 2,
   "metadata": {},
   "outputs": [],
   "source": [
    "n_gpu = len(visible_gpu_devices.split(','))\n",
    "n_cpu=1\n",
    "tf_config= tf.ConfigProto(device_count = {'GPU': n_gpu , 'CPU': n_cpu})\n",
    "tf_config.gpu_options.allow_growth=True\n",
    "s=tf.Session(config=tf_config)\n",
    "K.set_session(s)\n",
    "\n",
    "\n"
   ]
  },
  {
   "cell_type": "code",
   "execution_count": null,
   "metadata": {},
   "outputs": [],
   "source": []
  },
  {
   "cell_type": "code",
   "execution_count": 29,
   "metadata": {},
   "outputs": [],
   "source": [
    "\n",
    "\n",
    "def multiheadSelfAttention(prev_layer,padding_masks,layer_number=0,heads=8):\n",
    "    assert prev_layer != None\n",
    "    sa_arr = []\n",
    "    for head in range(heads):\n",
    "        if padding_masks!=None:\n",
    "            x,q,k,v,s,b,beta,o = AM.SelfAttention(ch=int(prev_layer.shape[-1]),name='sa{0}{1}'.format(layer_number,head))([prev_layer,padding_masks])\n",
    "        else:\n",
    "            x,q,k,v,s,b,beta,o = AM.SelfAttention(ch=int(prev_layer.shape[-1]),name='sa{0}{1}'.format(layer_number,head))(prev_layer)\n",
    "#         print(q.shape)\n",
    "#         print(k.shape)\n",
    "#         print(v.shape)\n",
    "#         print(s.shape)\n",
    "#         print(b.shape)\n",
    "#         print(beta.shape)\n",
    "#         print(o.shape)\n",
    "        sa = kl.BatchNormalization()(o)\n",
    "        sa_arr.append(o)\n",
    "    return sa_arr\n",
    "\n",
    "def condResAndNormSelfAttn(sa_layer,residual_inp,out_channels,attn_type,layer_number=0,condense=False,method='add'):\n",
    "    assert attn_type!=None\n",
    "    if condense:\n",
    "        x = kl.Concatenate(name='concat_{0}_{1}'.format(attn_type,layer_number))(sa_layer)\n",
    "        x = AM.CondenseAttention1D(ch_in=int(x.shape[-1]),name='cond_{0}_{1}'.format(attn_type,layer_number),ch_out=out_channels)(x)\n",
    "    else:\n",
    "        x = sa_layer\n",
    "    x, g1, g2 = AM.ResidualCombine(method=method\n",
    "                                   ,name='res_comb_{0}_{1}'.format(attn_type,layer_number))([residual_inp, x])\n",
    "#     x = kl.Conv1D(filters=512,activation='relu',strides=1,kernel_size=1,name='ff_conv_{0}'.format(layer_number))(x)\n",
    "    x = kl.BatchNormalization()(x)\n",
    "    return x\n",
    "\n",
    "def enc_dec_attn(encoder,decoder,out_channels,layer_number=0,heads=8):\n",
    "    assert encoder != None\n",
    "    assert decoder != None\n",
    "    eca_arr = []\n",
    "    for head in range(heads):\n",
    "        q,k,v,beta,scores,o = AM.EncDecAttention(enc_ch=int(encoder.shape[-1]),dec_ch=int(decoder.shape[-1]),name='eca{0}{1}'.format(layer_number,head))([decoder,encoder])\n",
    "        eca = kl.BatchNormalization()(o)\n",
    "        eca_arr.append(eca)\n",
    "    return eca_arr\n",
    "\n",
    "def multiheadAttention(prev_layer,context_vector,layer_number=0,heads=8):\n",
    "    assert prev_layer != None\n",
    "    assert context_vector != None\n",
    "    a_arr = []\n",
    "    for head in range(heads):\n",
    "        a,a_map = AM.Attention(ch=int(prev_layer.shape[-1]),name='a{0}{1}'.format(layer_number,head))([context_vector,prev_layer])\n",
    "        a = kl.BatchNormalization()(a)\n",
    "        a_arr.append(a)\n",
    "    return a_arr\n",
    "\n",
    "def condResAndNormAttn(a_layer,context_vector,out_channels,layer_number=0,method='add'):\n",
    "    x = kl.Concatenate(name='concat_attn_{0}'.format(layer_number))(a_layer)\n",
    "    x = AM.CondenseAttention1D(ch_in=int(x.shape[-1]),name='condense_attn1D_{0}'.format(layer_number),ch_out=out_channels)(x)\n",
    "    x = kl.Lambda(lambda x:K.squeeze(x,axis=1),name=\"squeeze_attn_{0}\".format(layer_number))(x)\n",
    "    x, g1, g2 = AM.ResidualCombine(method=method\n",
    "                                   ,name='residual_combine_attn_{0}'.format(layer_number))([context_vector, x])\n",
    "    x = kl.BatchNormalization()(x)\n",
    "    return x\n",
    "\n",
    "def decoder_block(sa_input,encoder_output,padding_masks=None,layer_number=1,heads=8):\n",
    "    mhsa = multiheadSelfAttention(prev_layer=sa_input,padding_masks=None,layer_number=layer_number,heads=heads)\n",
    "    # add+norm\n",
    "    add_norm_mhsa = condResAndNormSelfAttn(attn_type='sa',condense=True,sa_layer=mhsa,residual_inp=sa_input,out_channels=int(sa_input.shape[-1]),layer_number=layer_number)\n",
    "    # enc-dec attn\n",
    "    eca = enc_dec_attn(encoder=encoder_output,decoder=add_norm_mhsa,out_channels=int(sa_input.shape[-1]),layer_number=layer_number) \n",
    "    # add+norm\n",
    "    add_norm_eca = condResAndNormSelfAttn(attn_type='enc',condense=True,sa_layer=eca,residual_inp=add_norm_mhsa,out_channels=int(sa_input.shape[-1]),layer_number=layer_number)\n",
    "    # apply same feed forward on each position\n",
    "    ff_dec = kl.TimeDistributed(kl.Dense(512,activation='relu'))(add_norm_eca)\n",
    "    # add+norm\n",
    "    add_norm_eca = condResAndNormSelfAttn(attn_type='NA',condense=False,sa_layer=ff_dec,residual_inp=add_norm_eca,out_channels=int(sa_input.shape[-1]),layer_number=layer_number)\n",
    "    return add_norm_eca\n",
    "\n",
    "def get_angles(pos, i, dimensions):\n",
    "    angle_rates = 1 / np.power(10000, (2 * (i//2)) / np.float32(dimensions))\n",
    "    return pos * angle_rates\n",
    "\n",
    "def positional_encoding(position, dimensions):\n",
    "    angle_rads = get_angles(np.arange(position)[:, np.newaxis],\n",
    "                          np.arange(dimensions)[np.newaxis, :],\n",
    "                          dimensions)\n",
    "\n",
    "    # apply sin to even indices in the array; 2i\n",
    "    angle_rads[:, 0::2] = np.sin(angle_rads[:, 0::2])\n",
    "\n",
    "    # apply cos to odd indices in the array; 2i+1\n",
    "    angle_rads[:, 1::2] = np.cos(angle_rads[:, 1::2])\n",
    "\n",
    "    pos_encoding = angle_rads[np.newaxis, ...]\n",
    "\n",
    "    return pos_encoding"
   ]
  },
  {
   "cell_type": "code",
   "execution_count": 4,
   "metadata": {},
   "outputs": [],
   "source": [
    "# pos_encoding = positional_encoding(max_wlen, 512)\n",
    "# print(pos_encoding)\n",
    "# print('-----')\n",
    "# ran = np.random.random((64,60,512))\n",
    "# print(ran[0])\n",
    "# print('-----')\n",
    "# print((ran+pos_encoding)[0])"
   ]
  },
  {
   "cell_type": "code",
   "execution_count": 5,
   "metadata": {
    "scrolled": true
   },
   "outputs": [],
   "source": [
    "# print(ran[1])\n",
    "# print('-----')\n",
    "# print((ran+pos_encoding)[1])"
   ]
  },
  {
   "cell_type": "code",
   "execution_count": 6,
   "metadata": {
    "scrolled": true
   },
   "outputs": [],
   "source": [
    "nlp = spacy.load('en_core_web_md')"
   ]
  },
  {
   "cell_type": "code",
   "execution_count": 7,
   "metadata": {},
   "outputs": [
    {
     "data": {
      "text/plain": [
       "'/media/MyDataStor1/mshaikh2/project_xray/ChestXRay/notebooks'"
      ]
     },
     "execution_count": 7,
     "metadata": {},
     "output_type": "execute_result"
    }
   ],
   "source": [
    "path=os.getcwd() #Get the path\n",
    "path"
   ]
  },
  {
   "cell_type": "code",
   "execution_count": 8,
   "metadata": {
    "scrolled": true
   },
   "outputs": [],
   "source": [
    "merged_ds = pd.read_csv('../../dataset/descriptions/region_descriptions_50000.csv')"
   ]
  },
  {
   "cell_type": "code",
   "execution_count": null,
   "metadata": {
    "scrolled": true
   },
   "outputs": [],
   "source": []
  },
  {
   "cell_type": "code",
   "execution_count": 9,
   "metadata": {},
   "outputs": [],
   "source": [
    "# sent_len_arr=[]\n",
    "# wo_len_arr = []\n",
    "# for row in tqdm(merged_ds['impression'].values):\n",
    "#     doc = nlp(row)\n",
    "#     sentences = [sent.string.strip() for sent in doc.sents]\n",
    "#     sent_len_arr.append(len(sentences))\n",
    "#     sentence = ' '.join(sentences[:7])\n",
    "#     sdoc = nlp(sentence)\n",
    "#     ls_sdoc = [str(x) for x in list(sdoc)]\n",
    "#     wo_len_arr.append(len(ls_sdoc))"
   ]
  },
  {
   "cell_type": "code",
   "execution_count": 10,
   "metadata": {},
   "outputs": [],
   "source": [
    "\n",
    "# df_sent_len = pd.DataFrame(sent_len_arr,columns=['count'])\n",
    "# df_word_len = pd.DataFrame(wo_len_arr,columns=['count'])\n",
    "# df_sent_len.shape,df_word_len.shape"
   ]
  },
  {
   "cell_type": "code",
   "execution_count": 11,
   "metadata": {},
   "outputs": [],
   "source": [
    "# df_word_len.describe()"
   ]
  },
  {
   "cell_type": "code",
   "execution_count": 12,
   "metadata": {
    "scrolled": true
   },
   "outputs": [],
   "source": [
    "# df_sent_len[df_sent_len['count']>7].shape\n",
    "# df_word_len[df_word_len['count']>20]\n"
   ]
  },
  {
   "cell_type": "code",
   "execution_count": 13,
   "metadata": {
    "scrolled": true
   },
   "outputs": [],
   "source": [
    "# ch_to_co = df_ccount\n",
    "# ch_to_co.index = ch_to_co.chars\n",
    "# ch_to_co = ch_to_co['index'].to_dict()\n",
    "# display(ch_to_co)\n",
    "# co_to_ch = df_ccount\n",
    "# co_to_ch.index = co_to_ch['index']\n",
    "# co_to_ch = co_to_ch['chars'].to_dict()\n",
    "# display(co_to_ch)"
   ]
  },
  {
   "cell_type": "code",
   "execution_count": 14,
   "metadata": {},
   "outputs": [],
   "source": [
    "# tokens = nlp('startseq ' \n",
    "#              + ' '.join(c_repo_ds.impression.values).lower().replace('/',' ')\n",
    "#              + ' endseq.' \n",
    "#              + ' startseq' \n",
    "#              + ' '.join(c_repo_ds.findings.values).lower().replace('/',' ')\n",
    "#              + ' endseq.')"
   ]
  },
  {
   "cell_type": "code",
   "execution_count": 15,
   "metadata": {},
   "outputs": [],
   "source": [
    "# vocab = [str(x) for x in tokens]\n",
    "# vocab"
   ]
  },
  {
   "cell_type": "code",
   "execution_count": 16,
   "metadata": {
    "scrolled": true
   },
   "outputs": [
    {
     "data": {
      "text/html": [
       "<div>\n",
       "<style scoped>\n",
       "    .dataframe tbody tr th:only-of-type {\n",
       "        vertical-align: middle;\n",
       "    }\n",
       "\n",
       "    .dataframe tbody tr th {\n",
       "        vertical-align: top;\n",
       "    }\n",
       "\n",
       "    .dataframe thead th {\n",
       "        text-align: right;\n",
       "    }\n",
       "</style>\n",
       "<table border=\"1\" class=\"dataframe\">\n",
       "  <thead>\n",
       "    <tr style=\"text-align: right;\">\n",
       "      <th></th>\n",
       "      <th>index</th>\n",
       "      <th>words</th>\n",
       "      <th>w_count</th>\n",
       "    </tr>\n",
       "  </thead>\n",
       "  <tbody>\n",
       "    <tr>\n",
       "      <th>0</th>\n",
       "      <td>3434</td>\n",
       "      <td>.</td>\n",
       "      <td>450076</td>\n",
       "    </tr>\n",
       "    <tr>\n",
       "      <th>1</th>\n",
       "      <td>13908</td>\n",
       "      <td>a</td>\n",
       "      <td>200676</td>\n",
       "    </tr>\n",
       "    <tr>\n",
       "      <th>2</th>\n",
       "      <td>14934</td>\n",
       "      <td>the</td>\n",
       "      <td>198458</td>\n",
       "    </tr>\n",
       "    <tr>\n",
       "      <th>3</th>\n",
       "      <td>16021</td>\n",
       "      <td>on</td>\n",
       "      <td>122073</td>\n",
       "    </tr>\n",
       "    <tr>\n",
       "      <th>4</th>\n",
       "      <td>10923</td>\n",
       "      <td>of</td>\n",
       "      <td>88941</td>\n",
       "    </tr>\n",
       "    <tr>\n",
       "      <th>...</th>\n",
       "      <td>...</td>\n",
       "      <td>...</td>\n",
       "      <td>...</td>\n",
       "    </tr>\n",
       "    <tr>\n",
       "      <th>20789</th>\n",
       "      <td>6648</td>\n",
       "      <td>casa</td>\n",
       "      <td>1</td>\n",
       "    </tr>\n",
       "    <tr>\n",
       "      <th>20790</th>\n",
       "      <td>6647</td>\n",
       "      <td>coppertone</td>\n",
       "      <td>1</td>\n",
       "    </tr>\n",
       "    <tr>\n",
       "      <th>20791</th>\n",
       "      <td>10397</td>\n",
       "      <td>substitutes</td>\n",
       "      <td>1</td>\n",
       "    </tr>\n",
       "    <tr>\n",
       "      <th>20792</th>\n",
       "      <td>20793</td>\n",
       "      <td>startseq</td>\n",
       "      <td>50000</td>\n",
       "    </tr>\n",
       "    <tr>\n",
       "      <th>20793</th>\n",
       "      <td>20794</td>\n",
       "      <td>endseq</td>\n",
       "      <td>50000</td>\n",
       "    </tr>\n",
       "  </tbody>\n",
       "</table>\n",
       "<p>20794 rows × 3 columns</p>\n",
       "</div>"
      ],
      "text/plain": [
       "       index        words  w_count\n",
       "0       3434            .   450076\n",
       "1      13908            a   200676\n",
       "2      14934          the   198458\n",
       "3      16021           on   122073\n",
       "4      10923           of    88941\n",
       "...      ...          ...      ...\n",
       "20789   6648         casa        1\n",
       "20790   6647   coppertone        1\n",
       "20791  10397  substitutes        1\n",
       "20792  20793     startseq    50000\n",
       "20793  20794       endseq    50000\n",
       "\n",
       "[20794 rows x 3 columns]"
      ]
     },
     "metadata": {},
     "output_type": "display_data"
    },
    {
     "name": "stdout",
     "output_type": "stream",
     "text": [
      "20794 60\n"
     ]
    }
   ],
   "source": [
    "# word_count = {}\n",
    "# for word in vocab:\n",
    "#     if word not in word_count.keys():\n",
    "#         word_count[word]=1\n",
    "#     else:\n",
    "#         word_count[word]+=1\n",
    "# df_wcount = pd.DataFrame()\n",
    "# df_wcount['words']=word_count.keys()\n",
    "# df_wcount['w_count']=word_count.values()\n",
    "# df_wcount = df_wcount.sort_values(by='w_count',ascending=False).reset_index()\n",
    "# df_wcount['index']+=1\n",
    "\n",
    "# df_wcount.to_csv('../dataset/vocab_count.csv',index=False)\n",
    "df_wcount = pd.read_csv('../../dataset/descriptions/visual_genome_vocab_count.csv')\n",
    "\n",
    "display(df_wcount)\n",
    "vocab_size=df_wcount.shape[0]\n",
    "max_wlen = 60\n",
    "print(vocab_size,max_wlen)"
   ]
  },
  {
   "cell_type": "code",
   "execution_count": 17,
   "metadata": {
    "scrolled": true
   },
   "outputs": [
    {
     "name": "stdout",
     "output_type": "stream",
     "text": [
      "597 ['.', '..', \"'s\", ' ', ',', '-', '\"', \"'\", '&', '/', 'w/', '[', '\\n', '@', \"n't\", ']', '?', ':', ';', 'p.', 't.v', '...', '  ', '!', '$', '_', 'w.', 'u.s', 'n.', 'a.', \"o'clock\", 'c.', '#', 'x.', '(', 'r.', ')', 'e.', 's.', 't.', 'b.', '1/2', 'l.', 'man`s', 'woman`s', 'm.', 'c-130', '=', 'black+white', '   ', '....', 'and/or', 'o.', 'red+white', 'dog`s', 'i.', 'girl`s', 'v.', 'm&m', 'g.', '......', 'f.', '+', '.....', 'sr-71', 'y.', \"'m\", 'co.', 'h.', 'cow`s', 'j.', 'd.', '`', 'boy`s', '%', 'man;s', '--', '\\n\\n', 't-', '2:35', '1:45', 'u.', 'w/o', 'red+black', 'at&t', '11:50am', '1.00', '12:00', '3:17', '7:05', \"'re\", 'brown+white', '1/3', 'back+one', 'i.d', '/or', '1:55', 'green+white', '10:50', '12:43', '                                    ', 'b+w', '4-post', 'child`s', '11:20', '3:00', 'trunk+branches', '12:40', 'www.myprofe.com', 'person`s', 'k.', 'catcher`s', '9.99', 'free!.', '    ', 'a&m', '3-way', '3:55', 'sea+sky', '11:05', '4-way', '2:20', 'tool+a', 'house/', 'him!.', '11.45', 'tell].', 'red+grey', 'only].', '60s].', '7:23', '].', '6:05', 'in]directly', 'w&s', '40/8', 'woman;s', '8:33', 'section+clear', '6-pained', '3:04', '4.18', 'stuffed+fluffy', '7:59', '107.3', 'bumped+chunked', '9:55', 'photo!.', '24-hour', 'news.com', \"saffron'd\", '12:54', '.francis', 'h.w.bush', 'j.b', '063_689', 'by-', 'sunset-8am', 'guy+presently', 'couch.l', '10:36', '12:51', '6:35', '17,000', '4:07', 'plump+green', '8am-6pm', '3:45', \"'ve\", '7:49pm', 'lights+darkness', \"saute'd\", 'in-', '5:15', \"po'di\", 'www.londonducktoursco.uk', 'white+clear', '3.02', 'low-', '4:05', 'red+blue', '12:20', '2-story', 'j.w.c', 'ricoh.com', '2:50', 'reading11:20', '11:19', '19.99', 'man+woman', '6:40', '1:30', \"graffiti'd\", '101.5', 'caps].', '12.15', '.person', '2:04', '9:17', 'soft+honestly', '2:46', '½-bare', '9:20', 'pitcher`s', 'legs+curious', '1:00', 'p.j', '5:13', 'folks!.', 'reals].', '5:09', 'californian].', 'c.ock', '2.40', '50-yard', 'large+long', 'black+copper', '5:17', '11:04', 'red+a', 'h&e', '12:32', '2012].', ' \\n', 'green+dry', '½-chewed', 'ends+beneath', 'you!.', 'al].', '8.00', 'momcat+kitten', 'green+yellow', 'h.w', 'n.r', 'track.s', '01/03/2008', 'dishes+jam', '1:54', 'maybe].', 'bl;ack', 'boy+kite', '01/05/2011', '1.5', 'beneath+behind', 'j.7124', 'round+', '9:45', 'stix!!.', '2:55', '3-wheel', '9:11', 'hay+straw', '10:52', '1/3d', '3:12', '11:29', '5:20', '12:14', '3:27', 'specks+dashes', 'front+center', 'red+yellow', 'u.k', '12:25', '-yell-', '2-way', 'hopeful;doubtful].', 'calories!.', 'curved+red', '3:54', 'black+white+red', 'lo[ve', 'walther.siksma.ni', '5:06', 'giraffe+one', 'confusion+displeasure', 'apologies].', 'phone.;.', 'multi-', 'pizzas!.', '6:45', 't.c', '1:25', '11.27', 'scarflet+caplet', 'it+nose', '1:53', '5.05', '3:50', '0.99', 'legs+a', 'co.is', 'head+neck', 'wave!.', 'megabus.com', 'front_.', '6:50', 'nose+chin', 'www.go-metro.com', 'dots+dashes', 'heads+tails', 'white+light', 'j-063', 'airplane/.', 'ear+a', 'heights+fairfax', 'television].', '10:45', 'down+illegible', '6:10', '1:52', '5:25', 'top+red', 'joy].', 'c.p.u', '12:05', '4.50', 'thick+clear', 'middle].', '11:41', 'elephant.etsy.com', 'roof+sharp', '11/25/1941', 'pink+red', 'nadalnews.com', 'wii.two', 'eye-', '4:18', 'sunglasses;white', '12:19', '10.00', '3:59', 'l;ights', 'b;ack', 'm&j', \"o'donnell\", '-or-', '12-oz', '7-eleven', \"differen't\", '                                                                                                    ', 'miamidreamrealty.com', 'full+very', 'metro-', '5:40', 'poles+skis', 'pants/', 'unsure].', '12:15', 'tail+paw', \"o'brien\", '12/22/2006', 'white-', \"arc'd\", 'atop+mixed', '11:08', 'zeeman\"printed', '2.29', '8:58', 'downtowntraveler.com', '9:00', \"passenger's\", 'label+perhaps', '04/19/2012', '2.50', '            ', 'coat/.', 'player`s', '3-dome', '-rock', 'k.a', 'boxed+packaged', '1:31', 'rocks!.', 'good!.', '5:54', 'letters+numbers', '11:31:13', 'long+thin', 'featured+in', 'snaps+things', '2.10', 'ra-3560k', \"don't\", 're+white', 'top+bottom+sides', 'sniffs+tastes', '11:15', 'yellow+sparse', 'clydesdale].', '1.99', \"o'dwyer\", '22.00', '5:27', '3:21', 'foto.jlathrop', '12:13', 'whoa!.', 'q-16', 'ears+fur', 'd-0003', '10:54', 'shoulder+foreleg', 'he;met', 'transavia.com', '9:51', 'beside+below', '2:22', 'ahead].', '5:10', 'food+the', '7pm-7am', '                                                                                                                                     ', 'yellow+several', 'green+grey', 'g.t', '5:00', 'names+miles', '\\n\\n\\n\\n\\n\\n\\n\\n', '10:17', 'cream+a', '3/5ths', \"pop'n'fresh\", \"gir'l\", '4:20', 'board!.', 'g-3', '3:32', 'blue+lavender', 'o`clock', 'c.d', 'green+red', 'wretched!.', '10:14', 'grey+white', '5:41', '11:58', '3:15', 's.u.v', 'f\"s', 'rkz-438', '7:39', '4:45', 'orange+red', '10.24.09', '~½', 'u.s.a.f', 'k.o.d', 'ky-[s]p[k', '6.55', 'towel+hand', '5:37', 'showing\"5:03', 'short+stout', 'i/', '2.00', '2:10', 'd&g', 'orange-', 'bananas+apples', 'white+off', 'all-', \"fron'ts\", '12/03/2007', '26.00+dec', '4:00', 'v-2', 'sticker+logo', '3:53', 'lilac+duck', '—.', 'mode;railroad', 'j-062', '4:14', 'st-46', '11:03', 'cx-7', '8:47', '4:53', 'letters-', 'stripe+spots', 'direct.com', '~20', '7:26', 'it-', 'brightcookie.com', '2-wheel', '3:39', 'p[art', 'bear`s', 'red+black+grey', 'back+head', '4-drawer', 'front+centre', '10.51', '6:36', '12:16', 'once!.', '         ', 'beach!.', 'side-', 'pink+brown+darker', 'less].', '2:03', '0.75', 'pink+fairly', '3:10', 'clips+their', '2010].', \"o'neill\", '11:56', '3/4', 'thin+likely', 'confusing].', '51/2', 'everything!.', '1.45', \"its'pedistel\", '3:23', \"handle'd\", 'yes!.', '11:21', 'bushes+grass', 'joespizza.it', '7am-7pm', 'turkerworker!.', '3:7pm', 'j-011', 'plump+yellow', 'royal+navy', '7:57', 'p.m', 'building+its', \"d'albe\", 'yellow+bloodshot', 'top+bottom', '18:00', '12:24', '3:28', 'md.-del', 'tag+sticker', '6:44', 'photographer].', 'microphone/.', '1:43', 'expression+a', 'code].', 'easyjet.com', 'd.s', 'm.p.h', 'remotes!.', '2:56', '11:25', 'pole/.', '1.35c', 'grey+black', 'methinketh].', 'ball/.', '2.99', 'rope+feather', 'white+flocculent', 'petitplat.fr', '10-key', 'norwegian.com', 'floor+cable', '5-gallon', 'n.b.r', 'top+curved', 'kites!.', '70s].', 'martha_2011', 'platfo[rm', '12:30', '7:35', 'oh].', '7.5', 'dark+split', 'red+bowed', 'rogers.com', 'experience].', 'ribs+spines', 'nose+nostrils', '3:25', 'end[s].', 'am=', 'pepperoni`s', 'sea+wavelet', '10:28', '1:34', 'atiempo.dk', 'kinds!.', 'front+back', 'grass+-', 'blue+bright', 'www.krajicek.net', \"o'neil\", 'surfandrock.com']\n"
     ]
    }
   ],
   "source": [
    "new_words= [word for word in df_wcount['words'].values if not word.isalnum()]\n",
    "print(len(new_words),new_words)"
   ]
  },
  {
   "cell_type": "code",
   "execution_count": 18,
   "metadata": {},
   "outputs": [],
   "source": [
    "w_to_co = df_wcount\n",
    "w_to_co.index = w_to_co.words\n",
    "w_to_co = w_to_co['index'].to_dict()\n",
    "# print(w_to_co)\n",
    "co_to_w = df_wcount\n",
    "co_to_w.index = co_to_w['index']\n",
    "co_to_w = co_to_w['words'].to_dict()\n",
    "# print(co_to_w)"
   ]
  },
  {
   "cell_type": "code",
   "execution_count": 19,
   "metadata": {
    "scrolled": true
   },
   "outputs": [
    {
     "data": {
      "text/plain": [
       "'troaster'"
      ]
     },
     "execution_count": 19,
     "metadata": {},
     "output_type": "execute_result"
    }
   ],
   "source": [
    "# df = pd.DataFrame(sorted(finding_len,reverse=True))\n",
    "# display(df.head(50))\n",
    "# df.plot(kind='hist',figsize=(6,6))\n",
    "co_to_w[13]"
   ]
  },
  {
   "cell_type": "code",
   "execution_count": 20,
   "metadata": {
    "scrolled": true
   },
   "outputs": [],
   "source": [
    "embedding_size = 300\n",
    "# embedding_matrix = np.zeros((vocab_size+1, embedding_size)) # last one : to cater to empty/-1\n",
    "# for word,idx in w_to_co.items():\n",
    "#     token = nlp(word)\n",
    "#     embedding_matrix[idx] = token.vector\n",
    "# embedding_matrix[vocab_size] = np.zeros(embedding_size)\n",
    "embedding_matrix = pd.read_pickle('../../dataset/descriptions/visual_genome_initial_emb_mat.p')\n",
    "embedding_matrix = embedding_matrix.values\n",
    "# print(embedding_matrix.shape)\n",
    "# df_emb = pd.DataFrame(embedding_matrix)\n",
    "# df_emb.to_pickle('../dataset/initial_emb_mat.p')"
   ]
  },
  {
   "cell_type": "code",
   "execution_count": null,
   "metadata": {
    "scrolled": true
   },
   "outputs": [],
   "source": []
  },
  {
   "cell_type": "markdown",
   "metadata": {},
   "source": [
    "# Parameters"
   ]
  },
  {
   "cell_type": "code",
   "execution_count": 21,
   "metadata": {},
   "outputs": [],
   "source": [
    "img_arch = 'vgg'\n",
    "text_arch = '1dcnn'\n",
    "model_name = '{0}_img_attention'.format(img_arch)\n",
    "EPOCHS = 50\n",
    "lr = 0.0001\n",
    "img_dropout_rate=0.5\n",
    "text_dropout_rate=0.5\n",
    "elu_alpha = 1.0"
   ]
  },
  {
   "cell_type": "code",
   "execution_count": 22,
   "metadata": {},
   "outputs": [
    {
     "data": {
      "text/plain": [
       "'vgg_img_attention'"
      ]
     },
     "execution_count": 22,
     "metadata": {},
     "output_type": "execute_result"
    }
   ],
   "source": [
    "model_name"
   ]
  },
  {
   "cell_type": "markdown",
   "metadata": {},
   "source": [
    "# Model Initialization"
   ]
  },
  {
   "cell_type": "code",
   "execution_count": 30,
   "metadata": {},
   "outputs": [],
   "source": [
    "def VGGNet():\n",
    "    image_input = Input(shape=(256,256,3),name='image_input')\n",
    "    positional_encoding = Input(shape=(max_wlen,512),name='positional_encoding')\n",
    "    # x = CoordinateChannel2D()(inp)\n",
    "    x = kl.Conv2D(filters=64, kernel_size=(3,3), padding='same', name='block1_conv1')(image_input)\n",
    "    x = kl.Activation('relu')(x)\n",
    "    x = kl.Conv2D(filters=64, kernel_size=(3,3), padding='same', name='block1_conv2')(x)\n",
    "    x = kl.Activation('relu')(x)\n",
    "    x = kl.MaxPool2D(pool_size=2, strides=2, padding='same', name='block1_reduction_pool')(x)\n",
    "    x = kl.Activation('relu')(x)\n",
    "    x = kl.BatchNormalization()(x)\n",
    "#     x = kl.Dropout(img_dropout_rate)(x)\n",
    "\n",
    "    x = kl.Conv2D(filters=128, kernel_size=(3,3), padding='same', name='block2_conv1')(x)\n",
    "    x = kl.Activation('relu')(x)\n",
    "    x = kl.Conv2D(filters=128, kernel_size=(3,3), padding='same', name='block2_conv2')(x)\n",
    "    x = kl.Activation('relu')(x)\n",
    "    x = kl.MaxPool2D(pool_size=2, strides=2, padding='same', name='block2_reduction_pool')(x)\n",
    "    x = kl.Activation('relu')(x)\n",
    "    x = kl.BatchNormalization()(x)\n",
    "#     x = kl.Dropout(img_dropout_rate)(x)\n",
    "\n",
    "    x = kl.Conv2D(filters=256, kernel_size=(3,3), padding='same', name='block3_conv1')(x)\n",
    "    x = kl.Activation('relu')(x)\n",
    "    x = kl.Conv2D(filters=256, kernel_size=(3,3), padding='same', name='block3_conv2')(x)\n",
    "    x = kl.Activation('relu')(x)\n",
    "    x = kl.Conv2D(filters=256, kernel_size=(3,3), padding='same', name='block3_conv3')(x)\n",
    "    x = kl.Activation('relu')(x)\n",
    "    x = kl.MaxPool2D(pool_size=2, strides=2, padding='same', name='block3_reduction_pool')(x)\n",
    "    x = kl.Activation('relu')(x)\n",
    "    x = kl.BatchNormalization()(x)\n",
    "#     x = kl.Dropout(img_dropout_rate)(x)\n",
    "\n",
    "    x = kl.Conv2D(filters=512, kernel_size=(3,3), padding='same', name='block4_conv1')(x)\n",
    "    x = kl.Activation('relu')(x)\n",
    "    x = kl.Conv2D(filters=512, kernel_size=(3,3), padding='same', name='block4_conv2')(x)\n",
    "    x = kl.Activation('relu')(x)\n",
    "    x = kl.Conv2D(filters=512, kernel_size=(3,3), padding='same', name='block4_conv3')(x)\n",
    "    x = kl.Activation('relu')(x)\n",
    "    # x = CoordinateChannel2D(use_radius=True)(x)\n",
    "#     x, samap, g = SelfAttention(ch=512, name='self_attention')(x)\n",
    "    x = kl.MaxPool2D(pool_size=2, strides=2, padding='same', name='block4_reduction_pool')(x)\n",
    "    x = kl.Activation('relu')(x)\n",
    "    x = kl.BatchNormalization()(x)\n",
    "#     x = kl.Dropout(img_dropout_rate)(x)\n",
    "\n",
    "    x = kl.Conv2D(filters=512, kernel_size=(3,3), padding='same', name='block5_conv1')(x)\n",
    "    x = kl.Activation('relu')(x)\n",
    "    x = kl.Conv2D(filters=512, kernel_size=(3,3), padding='same', name='block5_conv2')(x)\n",
    "    x = kl.Activation('relu')(x)\n",
    "    x = kl.Conv2D(filters=512, kernel_size=(3,3), padding='same', name='block5_conv3')(x)\n",
    "    x = kl.Activation('relu')(x)\n",
    "#     x, amaps = SoftAttention(ch=512, m=32, name='soft_attention')(x)\n",
    "    x = kl.MaxPool2D(pool_size=2, strides=2, padding='same', name='block5_reduction_pool')(x)\n",
    "    x = kl.Activation('relu',name='image_output_features')(x)\n",
    "    reshaped = (int(x.shape[1])*int(x.shape[2]),int(x.shape[-1]))\n",
    "    encoded_out = kl.Lambda(lambda x: kl.Reshape(target_shape=reshaped)(x))(x)\n",
    "#     print(hw_flatten)\n",
    "    gap = kl.GlobalAveragePooling2D()(x)\n",
    "    \n",
    "    \n",
    "    mha = multiheadAttention(prev_layer=encoded_out,context_vector=gap,layer_number=1,heads=8)\n",
    "    ff_a = condResAndNormAttn(a_layer=mha,context_vector=gap,out_channels=int(gap.shape[-1]),layer_number=1)\n",
    "    \n",
    "    \n",
    "    \n",
    "    repeat_ff_a = kl.RepeatVector(max_wlen)(ff_a)    \n",
    "    repeat_ff_a = kl.Dense(512,activation='relu')(repeat_ff_a)\n",
    "    # encoder end\n",
    "    \n",
    "    # ---- decoder -----------------------------------\n",
    "    sa_input = kl.Add()([repeat_ff_a,positional_encoding])\n",
    "    \n",
    "    # ---- decoder block 1 ----\n",
    "    dec_1 = decoder_block(sa_input=sa_input\n",
    "                         ,encoder_output=encoded_out\n",
    "                         ,heads=8\n",
    "                         ,layer_number=1)\n",
    "    \n",
    "    # ---- decoder block 2 ----\n",
    "    dec_2 = decoder_block(sa_input=dec_1\n",
    "                         ,encoder_output=encoded_out\n",
    "                         ,heads=8\n",
    "                         ,layer_number=2)\n",
    "    \n",
    "    target = kl.Dense(vocab_size+1)(dec_2)\n",
    "    target = kl.Activation('tanh')(target)\n",
    "    \n",
    "    return Model([image_input,positional_encoding],target,name='imgModel')"
   ]
  },
  {
   "cell_type": "code",
   "execution_count": 31,
   "metadata": {
    "scrolled": true
   },
   "outputs": [
    {
     "name": "stdout",
     "output_type": "stream",
     "text": [
      "Model: \"imgModel\"\n",
      "__________________________________________________________________________________________________\n",
      "Layer (type)                    Output Shape         Param #     Connected to                     \n",
      "==================================================================================================\n",
      "image_input (InputLayer)        (None, 256, 256, 3)  0                                            \n",
      "__________________________________________________________________________________________________\n",
      "block1_conv1 (Conv2D)           (None, 256, 256, 64) 1792        image_input[0][0]                \n",
      "__________________________________________________________________________________________________\n",
      "activation_257 (Activation)     (None, 256, 256, 64) 0           block1_conv1[0][0]               \n",
      "__________________________________________________________________________________________________\n",
      "block1_conv2 (Conv2D)           (None, 256, 256, 64) 36928       activation_257[0][0]             \n",
      "__________________________________________________________________________________________________\n",
      "activation_258 (Activation)     (None, 256, 256, 64) 0           block1_conv2[0][0]               \n",
      "__________________________________________________________________________________________________\n",
      "block1_reduction_pool (MaxPooli (None, 128, 128, 64) 0           activation_258[0][0]             \n",
      "__________________________________________________________________________________________________\n",
      "activation_259 (Activation)     (None, 128, 128, 64) 0           block1_reduction_pool[0][0]      \n",
      "__________________________________________________________________________________________________\n",
      "batch_normalization_84 (BatchNo (None, 128, 128, 64) 256         activation_259[0][0]             \n",
      "__________________________________________________________________________________________________\n",
      "block2_conv1 (Conv2D)           (None, 128, 128, 128 73856       batch_normalization_84[0][0]     \n",
      "__________________________________________________________________________________________________\n",
      "activation_260 (Activation)     (None, 128, 128, 128 0           block2_conv1[0][0]               \n",
      "__________________________________________________________________________________________________\n",
      "block2_conv2 (Conv2D)           (None, 128, 128, 128 147584      activation_260[0][0]             \n",
      "__________________________________________________________________________________________________\n",
      "activation_261 (Activation)     (None, 128, 128, 128 0           block2_conv2[0][0]               \n",
      "__________________________________________________________________________________________________\n",
      "block2_reduction_pool (MaxPooli (None, 64, 64, 128)  0           activation_261[0][0]             \n",
      "__________________________________________________________________________________________________\n",
      "activation_262 (Activation)     (None, 64, 64, 128)  0           block2_reduction_pool[0][0]      \n",
      "__________________________________________________________________________________________________\n",
      "batch_normalization_85 (BatchNo (None, 64, 64, 128)  512         activation_262[0][0]             \n",
      "__________________________________________________________________________________________________\n",
      "block3_conv1 (Conv2D)           (None, 64, 64, 256)  295168      batch_normalization_85[0][0]     \n",
      "__________________________________________________________________________________________________\n",
      "activation_263 (Activation)     (None, 64, 64, 256)  0           block3_conv1[0][0]               \n",
      "__________________________________________________________________________________________________\n",
      "block3_conv2 (Conv2D)           (None, 64, 64, 256)  590080      activation_263[0][0]             \n",
      "__________________________________________________________________________________________________\n",
      "activation_264 (Activation)     (None, 64, 64, 256)  0           block3_conv2[0][0]               \n",
      "__________________________________________________________________________________________________\n",
      "block3_conv3 (Conv2D)           (None, 64, 64, 256)  590080      activation_264[0][0]             \n",
      "__________________________________________________________________________________________________\n",
      "activation_265 (Activation)     (None, 64, 64, 256)  0           block3_conv3[0][0]               \n",
      "__________________________________________________________________________________________________\n",
      "block3_reduction_pool (MaxPooli (None, 32, 32, 256)  0           activation_265[0][0]             \n",
      "__________________________________________________________________________________________________\n",
      "activation_266 (Activation)     (None, 32, 32, 256)  0           block3_reduction_pool[0][0]      \n",
      "__________________________________________________________________________________________________\n",
      "batch_normalization_86 (BatchNo (None, 32, 32, 256)  1024        activation_266[0][0]             \n",
      "__________________________________________________________________________________________________\n",
      "block4_conv1 (Conv2D)           (None, 32, 32, 512)  1180160     batch_normalization_86[0][0]     \n",
      "__________________________________________________________________________________________________\n",
      "activation_267 (Activation)     (None, 32, 32, 512)  0           block4_conv1[0][0]               \n",
      "__________________________________________________________________________________________________\n",
      "block4_conv2 (Conv2D)           (None, 32, 32, 512)  2359808     activation_267[0][0]             \n",
      "__________________________________________________________________________________________________\n",
      "activation_268 (Activation)     (None, 32, 32, 512)  0           block4_conv2[0][0]               \n",
      "__________________________________________________________________________________________________\n",
      "block4_conv3 (Conv2D)           (None, 32, 32, 512)  2359808     activation_268[0][0]             \n",
      "__________________________________________________________________________________________________\n",
      "activation_269 (Activation)     (None, 32, 32, 512)  0           block4_conv3[0][0]               \n",
      "__________________________________________________________________________________________________\n",
      "block4_reduction_pool (MaxPooli (None, 16, 16, 512)  0           activation_269[0][0]             \n",
      "__________________________________________________________________________________________________\n",
      "activation_270 (Activation)     (None, 16, 16, 512)  0           block4_reduction_pool[0][0]      \n",
      "__________________________________________________________________________________________________\n",
      "batch_normalization_87 (BatchNo (None, 16, 16, 512)  2048        activation_270[0][0]             \n",
      "__________________________________________________________________________________________________\n",
      "block5_conv1 (Conv2D)           (None, 16, 16, 512)  2359808     batch_normalization_87[0][0]     \n",
      "__________________________________________________________________________________________________\n",
      "activation_271 (Activation)     (None, 16, 16, 512)  0           block5_conv1[0][0]               \n",
      "__________________________________________________________________________________________________\n",
      "block5_conv2 (Conv2D)           (None, 16, 16, 512)  2359808     activation_271[0][0]             \n",
      "__________________________________________________________________________________________________\n",
      "activation_272 (Activation)     (None, 16, 16, 512)  0           block5_conv2[0][0]               \n",
      "__________________________________________________________________________________________________\n",
      "block5_conv3 (Conv2D)           (None, 16, 16, 512)  2359808     activation_272[0][0]             \n",
      "__________________________________________________________________________________________________\n",
      "activation_273 (Activation)     (None, 16, 16, 512)  0           block5_conv3[0][0]               \n",
      "__________________________________________________________________________________________________\n",
      "block5_reduction_pool (MaxPooli (None, 8, 8, 512)    0           activation_273[0][0]             \n",
      "__________________________________________________________________________________________________\n",
      "image_output_features (Activati (None, 8, 8, 512)    0           block5_reduction_pool[0][0]      \n",
      "__________________________________________________________________________________________________\n",
      "global_average_pooling2d_3 (Glo (None, 512)          0           image_output_features[0][0]      \n",
      "__________________________________________________________________________________________________\n",
      "lambda_3 (Lambda)               (None, 64, 512)      0           image_output_features[0][0]      \n",
      "__________________________________________________________________________________________________\n",
      "a10 (Attention)                 [(None, 1, 512), (1, 0           global_average_pooling2d_3[0][0] \n",
      "                                                                 lambda_3[0][0]                   \n",
      "__________________________________________________________________________________________________\n",
      "a11 (Attention)                 [(None, 1, 512), (1, 0           global_average_pooling2d_3[0][0] \n",
      "                                                                 lambda_3[0][0]                   \n",
      "__________________________________________________________________________________________________\n",
      "a12 (Attention)                 [(None, 1, 512), (1, 0           global_average_pooling2d_3[0][0] \n",
      "                                                                 lambda_3[0][0]                   \n",
      "__________________________________________________________________________________________________\n",
      "a13 (Attention)                 [(None, 1, 512), (1, 0           global_average_pooling2d_3[0][0] \n",
      "                                                                 lambda_3[0][0]                   \n",
      "__________________________________________________________________________________________________\n",
      "a14 (Attention)                 [(None, 1, 512), (1, 0           global_average_pooling2d_3[0][0] \n",
      "                                                                 lambda_3[0][0]                   \n",
      "__________________________________________________________________________________________________\n",
      "a15 (Attention)                 [(None, 1, 512), (1, 0           global_average_pooling2d_3[0][0] \n",
      "                                                                 lambda_3[0][0]                   \n",
      "__________________________________________________________________________________________________\n",
      "a16 (Attention)                 [(None, 1, 512), (1, 0           global_average_pooling2d_3[0][0] \n",
      "                                                                 lambda_3[0][0]                   \n",
      "__________________________________________________________________________________________________\n",
      "a17 (Attention)                 [(None, 1, 512), (1, 0           global_average_pooling2d_3[0][0] \n",
      "                                                                 lambda_3[0][0]                   \n",
      "__________________________________________________________________________________________________\n",
      "batch_normalization_88 (BatchNo (None, 1, 512)       2048        a10[0][0]                        \n",
      "__________________________________________________________________________________________________\n",
      "batch_normalization_89 (BatchNo (None, 1, 512)       2048        a11[0][0]                        \n",
      "__________________________________________________________________________________________________\n",
      "batch_normalization_90 (BatchNo (None, 1, 512)       2048        a12[0][0]                        \n",
      "__________________________________________________________________________________________________\n",
      "batch_normalization_91 (BatchNo (None, 1, 512)       2048        a13[0][0]                        \n",
      "__________________________________________________________________________________________________\n",
      "batch_normalization_92 (BatchNo (None, 1, 512)       2048        a14[0][0]                        \n",
      "__________________________________________________________________________________________________\n",
      "batch_normalization_93 (BatchNo (None, 1, 512)       2048        a15[0][0]                        \n",
      "__________________________________________________________________________________________________\n",
      "batch_normalization_94 (BatchNo (None, 1, 512)       2048        a16[0][0]                        \n",
      "__________________________________________________________________________________________________\n",
      "batch_normalization_95 (BatchNo (None, 1, 512)       2048        a17[0][0]                        \n",
      "__________________________________________________________________________________________________\n",
      "concat_attn_1 (Concatenate)     (None, 1, 4096)      0           batch_normalization_88[0][0]     \n",
      "                                                                 batch_normalization_89[0][0]     \n",
      "                                                                 batch_normalization_90[0][0]     \n",
      "                                                                 batch_normalization_91[0][0]     \n",
      "                                                                 batch_normalization_92[0][0]     \n",
      "                                                                 batch_normalization_93[0][0]     \n",
      "                                                                 batch_normalization_94[0][0]     \n",
      "                                                                 batch_normalization_95[0][0]     \n",
      "__________________________________________________________________________________________________\n",
      "condense_attn1D_1 (CondenseAtte (None, 1, 512)       0           concat_attn_1[0][0]              \n",
      "__________________________________________________________________________________________________\n",
      "squeeze_attn_1 (Lambda)         (None, 512)          0           condense_attn1D_1[0][0]          \n",
      "__________________________________________________________________________________________________\n",
      "residual_combine_attn_1 (Residu [(None, 512), (1, 1) 0           global_average_pooling2d_3[0][0] \n",
      "                                                                 squeeze_attn_1[0][0]             \n",
      "__________________________________________________________________________________________________\n",
      "batch_normalization_96 (BatchNo (None, 512)          2048        residual_combine_attn_1[0][0]    \n",
      "__________________________________________________________________________________________________\n",
      "repeat_vector_3 (RepeatVector)  (None, 60, 512)      0           batch_normalization_96[0][0]     \n",
      "__________________________________________________________________________________________________\n",
      "dense_257 (Dense)               (None, 60, 512)      262656      repeat_vector_3[0][0]            \n",
      "__________________________________________________________________________________________________\n",
      "positional_encoding (InputLayer (None, 60, 512)      0                                            \n",
      "__________________________________________________________________________________________________\n",
      "add_15 (Add)                    (None, 60, 512)      0           dense_257[0][0]                  \n",
      "                                                                 positional_encoding[0][0]        \n",
      "__________________________________________________________________________________________________\n",
      "sa10 (SelfAttention)            [(None, 60, 512), (N 0           add_15[0][0]                     \n",
      "__________________________________________________________________________________________________\n",
      "sa11 (SelfAttention)            [(None, 60, 512), (N 0           add_15[0][0]                     \n",
      "__________________________________________________________________________________________________\n",
      "sa12 (SelfAttention)            [(None, 60, 512), (N 0           add_15[0][0]                     \n",
      "__________________________________________________________________________________________________\n",
      "sa13 (SelfAttention)            [(None, 60, 512), (N 0           add_15[0][0]                     \n",
      "__________________________________________________________________________________________________\n",
      "sa14 (SelfAttention)            [(None, 60, 512), (N 0           add_15[0][0]                     \n",
      "__________________________________________________________________________________________________\n",
      "sa15 (SelfAttention)            [(None, 60, 512), (N 0           add_15[0][0]                     \n",
      "__________________________________________________________________________________________________\n",
      "sa16 (SelfAttention)            [(None, 60, 512), (N 0           add_15[0][0]                     \n",
      "__________________________________________________________________________________________________\n",
      "sa17 (SelfAttention)            [(None, 60, 512), (N 0           add_15[0][0]                     \n",
      "__________________________________________________________________________________________________\n",
      "concat_sa_1 (Concatenate)       (None, 60, 4096)     0           sa10[0][7]                       \n",
      "                                                                 sa11[0][7]                       \n",
      "                                                                 sa12[0][7]                       \n",
      "                                                                 sa13[0][7]                       \n",
      "                                                                 sa14[0][7]                       \n",
      "                                                                 sa15[0][7]                       \n",
      "                                                                 sa16[0][7]                       \n",
      "                                                                 sa17[0][7]                       \n",
      "__________________________________________________________________________________________________\n",
      "cond_sa_1 (CondenseAttention1D) (None, 60, 512)      0           concat_sa_1[0][0]                \n",
      "__________________________________________________________________________________________________\n",
      "res_comb_sa_1 (ResidualCombine) [(None, 60, 512), (1 0           add_15[0][0]                     \n",
      "                                                                 cond_sa_1[0][0]                  \n",
      "__________________________________________________________________________________________________\n",
      "batch_normalization_105 (BatchN (None, 60, 512)      2048        res_comb_sa_1[0][0]              \n",
      "__________________________________________________________________________________________________\n",
      "eca10 (EncDecAttention)         [(None, 60, 64), (No 0           batch_normalization_105[0][0]    \n",
      "                                                                 lambda_3[0][0]                   \n",
      "__________________________________________________________________________________________________\n",
      "eca11 (EncDecAttention)         [(None, 60, 64), (No 0           batch_normalization_105[0][0]    \n",
      "                                                                 lambda_3[0][0]                   \n",
      "__________________________________________________________________________________________________\n",
      "eca12 (EncDecAttention)         [(None, 60, 64), (No 0           batch_normalization_105[0][0]    \n",
      "                                                                 lambda_3[0][0]                   \n",
      "__________________________________________________________________________________________________\n",
      "eca13 (EncDecAttention)         [(None, 60, 64), (No 0           batch_normalization_105[0][0]    \n",
      "                                                                 lambda_3[0][0]                   \n",
      "__________________________________________________________________________________________________\n",
      "eca14 (EncDecAttention)         [(None, 60, 64), (No 0           batch_normalization_105[0][0]    \n",
      "                                                                 lambda_3[0][0]                   \n",
      "__________________________________________________________________________________________________\n",
      "eca15 (EncDecAttention)         [(None, 60, 64), (No 0           batch_normalization_105[0][0]    \n",
      "                                                                 lambda_3[0][0]                   \n",
      "__________________________________________________________________________________________________\n",
      "eca16 (EncDecAttention)         [(None, 60, 64), (No 0           batch_normalization_105[0][0]    \n",
      "                                                                 lambda_3[0][0]                   \n",
      "__________________________________________________________________________________________________\n",
      "eca17 (EncDecAttention)         [(None, 60, 64), (No 0           batch_normalization_105[0][0]    \n",
      "                                                                 lambda_3[0][0]                   \n",
      "__________________________________________________________________________________________________\n",
      "batch_normalization_106 (BatchN (None, 60, 512)      2048        eca10[0][5]                      \n",
      "__________________________________________________________________________________________________\n",
      "batch_normalization_107 (BatchN (None, 60, 512)      2048        eca11[0][5]                      \n",
      "__________________________________________________________________________________________________\n",
      "batch_normalization_108 (BatchN (None, 60, 512)      2048        eca12[0][5]                      \n",
      "__________________________________________________________________________________________________\n",
      "batch_normalization_109 (BatchN (None, 60, 512)      2048        eca13[0][5]                      \n",
      "__________________________________________________________________________________________________\n",
      "batch_normalization_110 (BatchN (None, 60, 512)      2048        eca14[0][5]                      \n",
      "__________________________________________________________________________________________________\n",
      "batch_normalization_111 (BatchN (None, 60, 512)      2048        eca15[0][5]                      \n",
      "__________________________________________________________________________________________________\n",
      "batch_normalization_112 (BatchN (None, 60, 512)      2048        eca16[0][5]                      \n",
      "__________________________________________________________________________________________________\n",
      "batch_normalization_113 (BatchN (None, 60, 512)      2048        eca17[0][5]                      \n",
      "__________________________________________________________________________________________________\n",
      "concat_enc_1 (Concatenate)      (None, 60, 4096)     0           batch_normalization_106[0][0]    \n",
      "                                                                 batch_normalization_107[0][0]    \n",
      "                                                                 batch_normalization_108[0][0]    \n",
      "                                                                 batch_normalization_109[0][0]    \n",
      "                                                                 batch_normalization_110[0][0]    \n",
      "                                                                 batch_normalization_111[0][0]    \n",
      "                                                                 batch_normalization_112[0][0]    \n",
      "                                                                 batch_normalization_113[0][0]    \n",
      "__________________________________________________________________________________________________\n",
      "cond_enc_1 (CondenseAttention1D (None, 60, 512)      0           concat_enc_1[0][0]               \n",
      "__________________________________________________________________________________________________\n",
      "res_comb_enc_1 (ResidualCombine [(None, 60, 512), (1 0           batch_normalization_105[0][0]    \n",
      "                                                                 cond_enc_1[0][0]                 \n",
      "__________________________________________________________________________________________________\n",
      "batch_normalization_114 (BatchN (None, 60, 512)      2048        res_comb_enc_1[0][0]             \n",
      "__________________________________________________________________________________________________\n",
      "time_distributed_4 (TimeDistrib (None, 60, 512)      262656      batch_normalization_114[0][0]    \n",
      "__________________________________________________________________________________________________\n",
      "res_comb_NA_1 (ResidualCombine) [(None, 60, 512), (1 0           batch_normalization_114[0][0]    \n",
      "                                                                 time_distributed_4[0][0]         \n",
      "__________________________________________________________________________________________________\n",
      "batch_normalization_115 (BatchN (None, 60, 512)      2048        res_comb_NA_1[0][0]              \n",
      "__________________________________________________________________________________________________\n",
      "sa20 (SelfAttention)            [(None, 60, 512), (N 0           batch_normalization_115[0][0]    \n",
      "__________________________________________________________________________________________________\n",
      "sa21 (SelfAttention)            [(None, 60, 512), (N 0           batch_normalization_115[0][0]    \n",
      "__________________________________________________________________________________________________\n",
      "sa22 (SelfAttention)            [(None, 60, 512), (N 0           batch_normalization_115[0][0]    \n",
      "__________________________________________________________________________________________________\n",
      "sa23 (SelfAttention)            [(None, 60, 512), (N 0           batch_normalization_115[0][0]    \n",
      "__________________________________________________________________________________________________\n",
      "sa24 (SelfAttention)            [(None, 60, 512), (N 0           batch_normalization_115[0][0]    \n",
      "__________________________________________________________________________________________________\n",
      "sa25 (SelfAttention)            [(None, 60, 512), (N 0           batch_normalization_115[0][0]    \n",
      "__________________________________________________________________________________________________\n",
      "sa26 (SelfAttention)            [(None, 60, 512), (N 0           batch_normalization_115[0][0]    \n",
      "__________________________________________________________________________________________________\n",
      "sa27 (SelfAttention)            [(None, 60, 512), (N 0           batch_normalization_115[0][0]    \n",
      "__________________________________________________________________________________________________\n",
      "concat_sa_2 (Concatenate)       (None, 60, 4096)     0           sa20[0][7]                       \n",
      "                                                                 sa21[0][7]                       \n",
      "                                                                 sa22[0][7]                       \n",
      "                                                                 sa23[0][7]                       \n",
      "                                                                 sa24[0][7]                       \n",
      "                                                                 sa25[0][7]                       \n",
      "                                                                 sa26[0][7]                       \n",
      "                                                                 sa27[0][7]                       \n",
      "__________________________________________________________________________________________________\n",
      "cond_sa_2 (CondenseAttention1D) (None, 60, 512)      0           concat_sa_2[0][0]                \n",
      "__________________________________________________________________________________________________\n",
      "res_comb_sa_2 (ResidualCombine) [(None, 60, 512), (1 0           batch_normalization_115[0][0]    \n",
      "                                                                 cond_sa_2[0][0]                  \n",
      "__________________________________________________________________________________________________\n",
      "batch_normalization_124 (BatchN (None, 60, 512)      2048        res_comb_sa_2[0][0]              \n",
      "__________________________________________________________________________________________________\n",
      "eca20 (EncDecAttention)         [(None, 60, 64), (No 0           batch_normalization_124[0][0]    \n",
      "                                                                 lambda_3[0][0]                   \n",
      "__________________________________________________________________________________________________\n",
      "eca21 (EncDecAttention)         [(None, 60, 64), (No 0           batch_normalization_124[0][0]    \n",
      "                                                                 lambda_3[0][0]                   \n",
      "__________________________________________________________________________________________________\n",
      "eca22 (EncDecAttention)         [(None, 60, 64), (No 0           batch_normalization_124[0][0]    \n",
      "                                                                 lambda_3[0][0]                   \n",
      "__________________________________________________________________________________________________\n",
      "eca23 (EncDecAttention)         [(None, 60, 64), (No 0           batch_normalization_124[0][0]    \n",
      "                                                                 lambda_3[0][0]                   \n",
      "__________________________________________________________________________________________________\n",
      "eca24 (EncDecAttention)         [(None, 60, 64), (No 0           batch_normalization_124[0][0]    \n",
      "                                                                 lambda_3[0][0]                   \n",
      "__________________________________________________________________________________________________\n",
      "eca25 (EncDecAttention)         [(None, 60, 64), (No 0           batch_normalization_124[0][0]    \n",
      "                                                                 lambda_3[0][0]                   \n",
      "__________________________________________________________________________________________________\n",
      "eca26 (EncDecAttention)         [(None, 60, 64), (No 0           batch_normalization_124[0][0]    \n",
      "                                                                 lambda_3[0][0]                   \n",
      "__________________________________________________________________________________________________\n",
      "eca27 (EncDecAttention)         [(None, 60, 64), (No 0           batch_normalization_124[0][0]    \n",
      "                                                                 lambda_3[0][0]                   \n",
      "__________________________________________________________________________________________________\n",
      "batch_normalization_125 (BatchN (None, 60, 512)      2048        eca20[0][5]                      \n",
      "__________________________________________________________________________________________________\n",
      "batch_normalization_126 (BatchN (None, 60, 512)      2048        eca21[0][5]                      \n",
      "__________________________________________________________________________________________________\n",
      "batch_normalization_127 (BatchN (None, 60, 512)      2048        eca22[0][5]                      \n",
      "__________________________________________________________________________________________________\n",
      "batch_normalization_128 (BatchN (None, 60, 512)      2048        eca23[0][5]                      \n",
      "__________________________________________________________________________________________________\n",
      "batch_normalization_129 (BatchN (None, 60, 512)      2048        eca24[0][5]                      \n",
      "__________________________________________________________________________________________________\n",
      "batch_normalization_130 (BatchN (None, 60, 512)      2048        eca25[0][5]                      \n",
      "__________________________________________________________________________________________________\n",
      "batch_normalization_131 (BatchN (None, 60, 512)      2048        eca26[0][5]                      \n",
      "__________________________________________________________________________________________________\n",
      "batch_normalization_132 (BatchN (None, 60, 512)      2048        eca27[0][5]                      \n",
      "__________________________________________________________________________________________________\n",
      "concat_enc_2 (Concatenate)      (None, 60, 4096)     0           batch_normalization_125[0][0]    \n",
      "                                                                 batch_normalization_126[0][0]    \n",
      "                                                                 batch_normalization_127[0][0]    \n",
      "                                                                 batch_normalization_128[0][0]    \n",
      "                                                                 batch_normalization_129[0][0]    \n",
      "                                                                 batch_normalization_130[0][0]    \n",
      "                                                                 batch_normalization_131[0][0]    \n",
      "                                                                 batch_normalization_132[0][0]    \n",
      "__________________________________________________________________________________________________\n",
      "cond_enc_2 (CondenseAttention1D (None, 60, 512)      0           concat_enc_2[0][0]               \n",
      "__________________________________________________________________________________________________\n",
      "res_comb_enc_2 (ResidualCombine [(None, 60, 512), (1 0           batch_normalization_124[0][0]    \n",
      "                                                                 cond_enc_2[0][0]                 \n",
      "__________________________________________________________________________________________________\n",
      "batch_normalization_133 (BatchN (None, 60, 512)      2048        res_comb_enc_2[0][0]             \n",
      "__________________________________________________________________________________________________\n",
      "time_distributed_5 (TimeDistrib (None, 60, 512)      262656      batch_normalization_133[0][0]    \n",
      "__________________________________________________________________________________________________\n",
      "res_comb_NA_2 (ResidualCombine) [(None, 60, 512), (1 0           batch_normalization_133[0][0]    \n",
      "                                                                 time_distributed_5[0][0]         \n",
      "__________________________________________________________________________________________________\n",
      "batch_normalization_134 (BatchN (None, 60, 512)      2048        res_comb_NA_2[0][0]              \n",
      "__________________________________________________________________________________________________\n",
      "dense_372 (Dense)               (None, 60, 20795)    10667835    batch_normalization_134[0][0]    \n",
      "==================================================================================================\n",
      "Total params: 26,237,819\n",
      "Trainable params: 26,204,155\n",
      "Non-trainable params: 33,664\n",
      "__________________________________________________________________________________________________\n"
     ]
    }
   ],
   "source": [
    "if img_arch=='vgg':\n",
    "    imgNet = VGGNet()\n",
    "#     imgNet = VGG16(include_top=False,input_shape=(256,256,3),weights='imagenet')\n",
    "elif img_arch == 'densenet121':\n",
    "    imgNet = DenseNet121(include_top=False,input_shape=(256,256,3))\n",
    "    imgNet.trainable = True\n",
    "elif img_arch == 'densenet':\n",
    "    imgNet = DenseNet()\n",
    "elif img_arch == 'irv2':\n",
    "    imgNet =InceptionResNetV2(include_top=False,input_shape=(256,256,3))\n",
    "    imgNet.trainable = True\n",
    "# if os.path.exists('../checkpoints/{0}_{1}_attention_img_module.h5'.format(img_arch,text_arch)):\n",
    "#     print('loading existing image weights..')\n",
    "#     imgNet.load_weights('../checkpoints/{0}_{1}_attention_img_module.h5'.format(img_arch,text_arch))\n",
    "imgNet.summary()"
   ]
  },
  {
   "cell_type": "code",
   "execution_count": 32,
   "metadata": {},
   "outputs": [
    {
     "data": {
      "image/svg+xml": [
       "<svg height=\"5579pt\" viewBox=\"0.00 0.00 9340.14 6695.00\" width=\"7783pt\" xmlns=\"http://www.w3.org/2000/svg\" xmlns:xlink=\"http://www.w3.org/1999/xlink\">\n",
       "<g class=\"graph\" id=\"graph0\" transform=\"scale(.8333 .8333) rotate(0) translate(4 6691)\">\n",
       "<title>G</title>\n",
       "<polygon fill=\"#ffffff\" points=\"-4,4 -4,-6691 9336.1372,-6691 9336.1372,4 -4,4\" stroke=\"transparent\"/>\n",
       "<!-- 140378944194064 -->\n",
       "<g class=\"node\" id=\"node1\">\n",
       "<title>140378944194064</title>\n",
       "<polygon fill=\"none\" points=\"5453.1372,-6640.5 5453.1372,-6686.5 5785.1372,-6686.5 5785.1372,-6640.5 5453.1372,-6640.5\" stroke=\"#000000\"/>\n",
       "<text fill=\"#000000\" font-family=\"Times,serif\" font-size=\"14.00\" text-anchor=\"middle\" x=\"5529.1372\" y=\"-6659.8\">image_input: InputLayer</text>\n",
       "<polyline fill=\"none\" points=\"5605.1372,-6640.5 5605.1372,-6686.5 \" stroke=\"#000000\"/>\n",
       "<text fill=\"#000000\" font-family=\"Times,serif\" font-size=\"14.00\" text-anchor=\"middle\" x=\"5632.6372\" y=\"-6671.3\">input:</text>\n",
       "<polyline fill=\"none\" points=\"5605.1372,-6663.5 5660.1372,-6663.5 \" stroke=\"#000000\"/>\n",
       "<text fill=\"#000000\" font-family=\"Times,serif\" font-size=\"14.00\" text-anchor=\"middle\" x=\"5632.6372\" y=\"-6648.3\">output:</text>\n",
       "<polyline fill=\"none\" points=\"5660.1372,-6640.5 5660.1372,-6686.5 \" stroke=\"#000000\"/>\n",
       "<text fill=\"#000000\" font-family=\"Times,serif\" font-size=\"14.00\" text-anchor=\"middle\" x=\"5722.6372\" y=\"-6671.3\">(None, 256, 256, 3)</text>\n",
       "<polyline fill=\"none\" points=\"5660.1372,-6663.5 5785.1372,-6663.5 \" stroke=\"#000000\"/>\n",
       "<text fill=\"#000000\" font-family=\"Times,serif\" font-size=\"14.00\" text-anchor=\"middle\" x=\"5722.6372\" y=\"-6648.3\">(None, 256, 256, 3)</text>\n",
       "</g>\n",
       "<!-- 140378944192720 -->\n",
       "<g class=\"node\" id=\"node2\">\n",
       "<title>140378944192720</title>\n",
       "<polygon fill=\"none\" points=\"5453.1372,-6557.5 5453.1372,-6603.5 5785.1372,-6603.5 5785.1372,-6557.5 5453.1372,-6557.5\" stroke=\"#000000\"/>\n",
       "<text fill=\"#000000\" font-family=\"Times,serif\" font-size=\"14.00\" text-anchor=\"middle\" x=\"5526.1372\" y=\"-6576.8\">block1_conv1: Conv2D</text>\n",
       "<polyline fill=\"none\" points=\"5599.1372,-6557.5 5599.1372,-6603.5 \" stroke=\"#000000\"/>\n",
       "<text fill=\"#000000\" font-family=\"Times,serif\" font-size=\"14.00\" text-anchor=\"middle\" x=\"5626.6372\" y=\"-6588.3\">input:</text>\n",
       "<polyline fill=\"none\" points=\"5599.1372,-6580.5 5654.1372,-6580.5 \" stroke=\"#000000\"/>\n",
       "<text fill=\"#000000\" font-family=\"Times,serif\" font-size=\"14.00\" text-anchor=\"middle\" x=\"5626.6372\" y=\"-6565.3\">output:</text>\n",
       "<polyline fill=\"none\" points=\"5654.1372,-6557.5 5654.1372,-6603.5 \" stroke=\"#000000\"/>\n",
       "<text fill=\"#000000\" font-family=\"Times,serif\" font-size=\"14.00\" text-anchor=\"middle\" x=\"5719.6372\" y=\"-6588.3\">(None, 256, 256, 3)</text>\n",
       "<polyline fill=\"none\" points=\"5654.1372,-6580.5 5785.1372,-6580.5 \" stroke=\"#000000\"/>\n",
       "<text fill=\"#000000\" font-family=\"Times,serif\" font-size=\"14.00\" text-anchor=\"middle\" x=\"5719.6372\" y=\"-6565.3\">(None, 256, 256, 64)</text>\n",
       "</g>\n",
       "<!-- 140378944194064&#45;&gt;140378944192720 -->\n",
       "<g class=\"edge\" id=\"edge1\">\n",
       "<title>140378944194064-&gt;140378944192720</title>\n",
       "<path d=\"M5619.1372,-6640.3799C5619.1372,-6632.1745 5619.1372,-6622.7679 5619.1372,-6613.8786\" fill=\"none\" stroke=\"#000000\"/>\n",
       "<polygon fill=\"#000000\" points=\"5622.6373,-6613.784 5619.1372,-6603.784 5615.6373,-6613.784 5622.6373,-6613.784\" stroke=\"#000000\"/>\n",
       "</g>\n",
       "<!-- 140378944195728 -->\n",
       "<g class=\"node\" id=\"node3\">\n",
       "<title>140378944195728</title>\n",
       "<polygon fill=\"none\" points=\"5445.6372,-6474.5 5445.6372,-6520.5 5792.6372,-6520.5 5792.6372,-6474.5 5445.6372,-6474.5\" stroke=\"#000000\"/>\n",
       "<text fill=\"#000000\" font-family=\"Times,serif\" font-size=\"14.00\" text-anchor=\"middle\" x=\"5526.1372\" y=\"-6493.8\">activation_257: Activation</text>\n",
       "<polyline fill=\"none\" points=\"5606.6372,-6474.5 5606.6372,-6520.5 \" stroke=\"#000000\"/>\n",
       "<text fill=\"#000000\" font-family=\"Times,serif\" font-size=\"14.00\" text-anchor=\"middle\" x=\"5634.1372\" y=\"-6505.3\">input:</text>\n",
       "<polyline fill=\"none\" points=\"5606.6372,-6497.5 5661.6372,-6497.5 \" stroke=\"#000000\"/>\n",
       "<text fill=\"#000000\" font-family=\"Times,serif\" font-size=\"14.00\" text-anchor=\"middle\" x=\"5634.1372\" y=\"-6482.3\">output:</text>\n",
       "<polyline fill=\"none\" points=\"5661.6372,-6474.5 5661.6372,-6520.5 \" stroke=\"#000000\"/>\n",
       "<text fill=\"#000000\" font-family=\"Times,serif\" font-size=\"14.00\" text-anchor=\"middle\" x=\"5727.1372\" y=\"-6505.3\">(None, 256, 256, 64)</text>\n",
       "<polyline fill=\"none\" points=\"5661.6372,-6497.5 5792.6372,-6497.5 \" stroke=\"#000000\"/>\n",
       "<text fill=\"#000000\" font-family=\"Times,serif\" font-size=\"14.00\" text-anchor=\"middle\" x=\"5727.1372\" y=\"-6482.3\">(None, 256, 256, 64)</text>\n",
       "</g>\n",
       "<!-- 140378944192720&#45;&gt;140378944195728 -->\n",
       "<g class=\"edge\" id=\"edge2\">\n",
       "<title>140378944192720-&gt;140378944195728</title>\n",
       "<path d=\"M5619.1372,-6557.3799C5619.1372,-6549.1745 5619.1372,-6539.7679 5619.1372,-6530.8786\" fill=\"none\" stroke=\"#000000\"/>\n",
       "<polygon fill=\"#000000\" points=\"5622.6373,-6530.784 5619.1372,-6520.784 5615.6373,-6530.784 5622.6373,-6530.784\" stroke=\"#000000\"/>\n",
       "</g>\n",
       "<!-- 140378944285072 -->\n",
       "<g class=\"node\" id=\"node4\">\n",
       "<title>140378944285072</title>\n",
       "<polygon fill=\"none\" points=\"5453.1372,-6391.5 5453.1372,-6437.5 5785.1372,-6437.5 5785.1372,-6391.5 5453.1372,-6391.5\" stroke=\"#000000\"/>\n",
       "<text fill=\"#000000\" font-family=\"Times,serif\" font-size=\"14.00\" text-anchor=\"middle\" x=\"5526.1372\" y=\"-6410.8\">block1_conv2: Conv2D</text>\n",
       "<polyline fill=\"none\" points=\"5599.1372,-6391.5 5599.1372,-6437.5 \" stroke=\"#000000\"/>\n",
       "<text fill=\"#000000\" font-family=\"Times,serif\" font-size=\"14.00\" text-anchor=\"middle\" x=\"5626.6372\" y=\"-6422.3\">input:</text>\n",
       "<polyline fill=\"none\" points=\"5599.1372,-6414.5 5654.1372,-6414.5 \" stroke=\"#000000\"/>\n",
       "<text fill=\"#000000\" font-family=\"Times,serif\" font-size=\"14.00\" text-anchor=\"middle\" x=\"5626.6372\" y=\"-6399.3\">output:</text>\n",
       "<polyline fill=\"none\" points=\"5654.1372,-6391.5 5654.1372,-6437.5 \" stroke=\"#000000\"/>\n",
       "<text fill=\"#000000\" font-family=\"Times,serif\" font-size=\"14.00\" text-anchor=\"middle\" x=\"5719.6372\" y=\"-6422.3\">(None, 256, 256, 64)</text>\n",
       "<polyline fill=\"none\" points=\"5654.1372,-6414.5 5785.1372,-6414.5 \" stroke=\"#000000\"/>\n",
       "<text fill=\"#000000\" font-family=\"Times,serif\" font-size=\"14.00\" text-anchor=\"middle\" x=\"5719.6372\" y=\"-6399.3\">(None, 256, 256, 64)</text>\n",
       "</g>\n",
       "<!-- 140378944195728&#45;&gt;140378944285072 -->\n",
       "<g class=\"edge\" id=\"edge3\">\n",
       "<title>140378944195728-&gt;140378944285072</title>\n",
       "<path d=\"M5619.1372,-6474.3799C5619.1372,-6466.1745 5619.1372,-6456.7679 5619.1372,-6447.8786\" fill=\"none\" stroke=\"#000000\"/>\n",
       "<polygon fill=\"#000000\" points=\"5622.6373,-6447.784 5619.1372,-6437.784 5615.6373,-6447.784 5622.6373,-6447.784\" stroke=\"#000000\"/>\n",
       "</g>\n",
       "<!-- 140378944205520 -->\n",
       "<g class=\"node\" id=\"node5\">\n",
       "<title>140378944205520</title>\n",
       "<polygon fill=\"none\" points=\"5445.6372,-6308.5 5445.6372,-6354.5 5792.6372,-6354.5 5792.6372,-6308.5 5445.6372,-6308.5\" stroke=\"#000000\"/>\n",
       "<text fill=\"#000000\" font-family=\"Times,serif\" font-size=\"14.00\" text-anchor=\"middle\" x=\"5526.1372\" y=\"-6327.8\">activation_258: Activation</text>\n",
       "<polyline fill=\"none\" points=\"5606.6372,-6308.5 5606.6372,-6354.5 \" stroke=\"#000000\"/>\n",
       "<text fill=\"#000000\" font-family=\"Times,serif\" font-size=\"14.00\" text-anchor=\"middle\" x=\"5634.1372\" y=\"-6339.3\">input:</text>\n",
       "<polyline fill=\"none\" points=\"5606.6372,-6331.5 5661.6372,-6331.5 \" stroke=\"#000000\"/>\n",
       "<text fill=\"#000000\" font-family=\"Times,serif\" font-size=\"14.00\" text-anchor=\"middle\" x=\"5634.1372\" y=\"-6316.3\">output:</text>\n",
       "<polyline fill=\"none\" points=\"5661.6372,-6308.5 5661.6372,-6354.5 \" stroke=\"#000000\"/>\n",
       "<text fill=\"#000000\" font-family=\"Times,serif\" font-size=\"14.00\" text-anchor=\"middle\" x=\"5727.1372\" y=\"-6339.3\">(None, 256, 256, 64)</text>\n",
       "<polyline fill=\"none\" points=\"5661.6372,-6331.5 5792.6372,-6331.5 \" stroke=\"#000000\"/>\n",
       "<text fill=\"#000000\" font-family=\"Times,serif\" font-size=\"14.00\" text-anchor=\"middle\" x=\"5727.1372\" y=\"-6316.3\">(None, 256, 256, 64)</text>\n",
       "</g>\n",
       "<!-- 140378944285072&#45;&gt;140378944205520 -->\n",
       "<g class=\"edge\" id=\"edge4\">\n",
       "<title>140378944285072-&gt;140378944205520</title>\n",
       "<path d=\"M5619.1372,-6391.3799C5619.1372,-6383.1745 5619.1372,-6373.7679 5619.1372,-6364.8786\" fill=\"none\" stroke=\"#000000\"/>\n",
       "<polygon fill=\"#000000\" points=\"5622.6373,-6364.784 5619.1372,-6354.784 5615.6373,-6364.784 5622.6373,-6364.784\" stroke=\"#000000\"/>\n",
       "</g>\n",
       "<!-- 140378944205776 -->\n",
       "<g class=\"node\" id=\"node6\">\n",
       "<title>140378944205776</title>\n",
       "<polygon fill=\"none\" points=\"5409.6372,-6225.5 5409.6372,-6271.5 5828.6372,-6271.5 5828.6372,-6225.5 5409.6372,-6225.5\" stroke=\"#000000\"/>\n",
       "<text fill=\"#000000\" font-family=\"Times,serif\" font-size=\"14.00\" text-anchor=\"middle\" x=\"5526.1372\" y=\"-6244.8\">block1_reduction_pool: MaxPooling2D</text>\n",
       "<polyline fill=\"none\" points=\"5642.6372,-6225.5 5642.6372,-6271.5 \" stroke=\"#000000\"/>\n",
       "<text fill=\"#000000\" font-family=\"Times,serif\" font-size=\"14.00\" text-anchor=\"middle\" x=\"5670.1372\" y=\"-6256.3\">input:</text>\n",
       "<polyline fill=\"none\" points=\"5642.6372,-6248.5 5697.6372,-6248.5 \" stroke=\"#000000\"/>\n",
       "<text fill=\"#000000\" font-family=\"Times,serif\" font-size=\"14.00\" text-anchor=\"middle\" x=\"5670.1372\" y=\"-6233.3\">output:</text>\n",
       "<polyline fill=\"none\" points=\"5697.6372,-6225.5 5697.6372,-6271.5 \" stroke=\"#000000\"/>\n",
       "<text fill=\"#000000\" font-family=\"Times,serif\" font-size=\"14.00\" text-anchor=\"middle\" x=\"5763.1372\" y=\"-6256.3\">(None, 256, 256, 64)</text>\n",
       "<polyline fill=\"none\" points=\"5697.6372,-6248.5 5828.6372,-6248.5 \" stroke=\"#000000\"/>\n",
       "<text fill=\"#000000\" font-family=\"Times,serif\" font-size=\"14.00\" text-anchor=\"middle\" x=\"5763.1372\" y=\"-6233.3\">(None, 128, 128, 64)</text>\n",
       "</g>\n",
       "<!-- 140378944205520&#45;&gt;140378944205776 -->\n",
       "<g class=\"edge\" id=\"edge5\">\n",
       "<title>140378944205520-&gt;140378944205776</title>\n",
       "<path d=\"M5619.1372,-6308.3799C5619.1372,-6300.1745 5619.1372,-6290.7679 5619.1372,-6281.8786\" fill=\"none\" stroke=\"#000000\"/>\n",
       "<polygon fill=\"#000000\" points=\"5622.6373,-6281.784 5619.1372,-6271.784 5615.6373,-6281.784 5622.6373,-6281.784\" stroke=\"#000000\"/>\n",
       "</g>\n",
       "<!-- 140378944528336 -->\n",
       "<g class=\"node\" id=\"node7\">\n",
       "<title>140378944528336</title>\n",
       "<polygon fill=\"none\" points=\"5445.6372,-6142.5 5445.6372,-6188.5 5792.6372,-6188.5 5792.6372,-6142.5 5445.6372,-6142.5\" stroke=\"#000000\"/>\n",
       "<text fill=\"#000000\" font-family=\"Times,serif\" font-size=\"14.00\" text-anchor=\"middle\" x=\"5526.1372\" y=\"-6161.8\">activation_259: Activation</text>\n",
       "<polyline fill=\"none\" points=\"5606.6372,-6142.5 5606.6372,-6188.5 \" stroke=\"#000000\"/>\n",
       "<text fill=\"#000000\" font-family=\"Times,serif\" font-size=\"14.00\" text-anchor=\"middle\" x=\"5634.1372\" y=\"-6173.3\">input:</text>\n",
       "<polyline fill=\"none\" points=\"5606.6372,-6165.5 5661.6372,-6165.5 \" stroke=\"#000000\"/>\n",
       "<text fill=\"#000000\" font-family=\"Times,serif\" font-size=\"14.00\" text-anchor=\"middle\" x=\"5634.1372\" y=\"-6150.3\">output:</text>\n",
       "<polyline fill=\"none\" points=\"5661.6372,-6142.5 5661.6372,-6188.5 \" stroke=\"#000000\"/>\n",
       "<text fill=\"#000000\" font-family=\"Times,serif\" font-size=\"14.00\" text-anchor=\"middle\" x=\"5727.1372\" y=\"-6173.3\">(None, 128, 128, 64)</text>\n",
       "<polyline fill=\"none\" points=\"5661.6372,-6165.5 5792.6372,-6165.5 \" stroke=\"#000000\"/>\n",
       "<text fill=\"#000000\" font-family=\"Times,serif\" font-size=\"14.00\" text-anchor=\"middle\" x=\"5727.1372\" y=\"-6150.3\">(None, 128, 128, 64)</text>\n",
       "</g>\n",
       "<!-- 140378944205776&#45;&gt;140378944528336 -->\n",
       "<g class=\"edge\" id=\"edge6\">\n",
       "<title>140378944205776-&gt;140378944528336</title>\n",
       "<path d=\"M5619.1372,-6225.3799C5619.1372,-6217.1745 5619.1372,-6207.7679 5619.1372,-6198.8786\" fill=\"none\" stroke=\"#000000\"/>\n",
       "<polygon fill=\"#000000\" points=\"5622.6373,-6198.784 5619.1372,-6188.784 5615.6373,-6198.784 5622.6373,-6198.784\" stroke=\"#000000\"/>\n",
       "</g>\n",
       "<!-- 140378944050064 -->\n",
       "<g class=\"node\" id=\"node8\">\n",
       "<title>140378944050064</title>\n",
       "<polygon fill=\"none\" points=\"5393.1372,-6059.5 5393.1372,-6105.5 5845.1372,-6105.5 5845.1372,-6059.5 5393.1372,-6059.5\" stroke=\"#000000\"/>\n",
       "<text fill=\"#000000\" font-family=\"Times,serif\" font-size=\"14.00\" text-anchor=\"middle\" x=\"5526.1372\" y=\"-6078.8\">batch_normalization_84: BatchNormalization</text>\n",
       "<polyline fill=\"none\" points=\"5659.1372,-6059.5 5659.1372,-6105.5 \" stroke=\"#000000\"/>\n",
       "<text fill=\"#000000\" font-family=\"Times,serif\" font-size=\"14.00\" text-anchor=\"middle\" x=\"5686.6372\" y=\"-6090.3\">input:</text>\n",
       "<polyline fill=\"none\" points=\"5659.1372,-6082.5 5714.1372,-6082.5 \" stroke=\"#000000\"/>\n",
       "<text fill=\"#000000\" font-family=\"Times,serif\" font-size=\"14.00\" text-anchor=\"middle\" x=\"5686.6372\" y=\"-6067.3\">output:</text>\n",
       "<polyline fill=\"none\" points=\"5714.1372,-6059.5 5714.1372,-6105.5 \" stroke=\"#000000\"/>\n",
       "<text fill=\"#000000\" font-family=\"Times,serif\" font-size=\"14.00\" text-anchor=\"middle\" x=\"5779.6372\" y=\"-6090.3\">(None, 128, 128, 64)</text>\n",
       "<polyline fill=\"none\" points=\"5714.1372,-6082.5 5845.1372,-6082.5 \" stroke=\"#000000\"/>\n",
       "<text fill=\"#000000\" font-family=\"Times,serif\" font-size=\"14.00\" text-anchor=\"middle\" x=\"5779.6372\" y=\"-6067.3\">(None, 128, 128, 64)</text>\n",
       "</g>\n",
       "<!-- 140378944528336&#45;&gt;140378944050064 -->\n",
       "<g class=\"edge\" id=\"edge7\">\n",
       "<title>140378944528336-&gt;140378944050064</title>\n",
       "<path d=\"M5619.1372,-6142.3799C5619.1372,-6134.1745 5619.1372,-6124.7679 5619.1372,-6115.8786\" fill=\"none\" stroke=\"#000000\"/>\n",
       "<polygon fill=\"#000000\" points=\"5622.6373,-6115.784 5619.1372,-6105.784 5615.6373,-6115.784 5622.6373,-6115.784\" stroke=\"#000000\"/>\n",
       "</g>\n",
       "<!-- 140378944052688 -->\n",
       "<g class=\"node\" id=\"node9\">\n",
       "<title>140378944052688</title>\n",
       "<polygon fill=\"none\" points=\"5449.6372,-5976.5 5449.6372,-6022.5 5788.6372,-6022.5 5788.6372,-5976.5 5449.6372,-5976.5\" stroke=\"#000000\"/>\n",
       "<text fill=\"#000000\" font-family=\"Times,serif\" font-size=\"14.00\" text-anchor=\"middle\" x=\"5522.6372\" y=\"-5995.8\">block2_conv1: Conv2D</text>\n",
       "<polyline fill=\"none\" points=\"5595.6372,-5976.5 5595.6372,-6022.5 \" stroke=\"#000000\"/>\n",
       "<text fill=\"#000000\" font-family=\"Times,serif\" font-size=\"14.00\" text-anchor=\"middle\" x=\"5623.1372\" y=\"-6007.3\">input:</text>\n",
       "<polyline fill=\"none\" points=\"5595.6372,-5999.5 5650.6372,-5999.5 \" stroke=\"#000000\"/>\n",
       "<text fill=\"#000000\" font-family=\"Times,serif\" font-size=\"14.00\" text-anchor=\"middle\" x=\"5623.1372\" y=\"-5984.3\">output:</text>\n",
       "<polyline fill=\"none\" points=\"5650.6372,-5976.5 5650.6372,-6022.5 \" stroke=\"#000000\"/>\n",
       "<text fill=\"#000000\" font-family=\"Times,serif\" font-size=\"14.00\" text-anchor=\"middle\" x=\"5719.6372\" y=\"-6007.3\">(None, 128, 128, 64)</text>\n",
       "<polyline fill=\"none\" points=\"5650.6372,-5999.5 5788.6372,-5999.5 \" stroke=\"#000000\"/>\n",
       "<text fill=\"#000000\" font-family=\"Times,serif\" font-size=\"14.00\" text-anchor=\"middle\" x=\"5719.6372\" y=\"-5984.3\">(None, 128, 128, 128)</text>\n",
       "</g>\n",
       "<!-- 140378944050064&#45;&gt;140378944052688 -->\n",
       "<g class=\"edge\" id=\"edge8\">\n",
       "<title>140378944050064-&gt;140378944052688</title>\n",
       "<path d=\"M5619.1372,-6059.3799C5619.1372,-6051.1745 5619.1372,-6041.7679 5619.1372,-6032.8786\" fill=\"none\" stroke=\"#000000\"/>\n",
       "<polygon fill=\"#000000\" points=\"5622.6373,-6032.784 5619.1372,-6022.784 5615.6373,-6032.784 5622.6373,-6032.784\" stroke=\"#000000\"/>\n",
       "</g>\n",
       "<!-- 140378943843792 -->\n",
       "<g class=\"node\" id=\"node10\">\n",
       "<title>140378943843792</title>\n",
       "<polygon fill=\"none\" points=\"5442.1372,-5893.5 5442.1372,-5939.5 5796.1372,-5939.5 5796.1372,-5893.5 5442.1372,-5893.5\" stroke=\"#000000\"/>\n",
       "<text fill=\"#000000\" font-family=\"Times,serif\" font-size=\"14.00\" text-anchor=\"middle\" x=\"5522.6372\" y=\"-5912.8\">activation_260: Activation</text>\n",
       "<polyline fill=\"none\" points=\"5603.1372,-5893.5 5603.1372,-5939.5 \" stroke=\"#000000\"/>\n",
       "<text fill=\"#000000\" font-family=\"Times,serif\" font-size=\"14.00\" text-anchor=\"middle\" x=\"5630.6372\" y=\"-5924.3\">input:</text>\n",
       "<polyline fill=\"none\" points=\"5603.1372,-5916.5 5658.1372,-5916.5 \" stroke=\"#000000\"/>\n",
       "<text fill=\"#000000\" font-family=\"Times,serif\" font-size=\"14.00\" text-anchor=\"middle\" x=\"5630.6372\" y=\"-5901.3\">output:</text>\n",
       "<polyline fill=\"none\" points=\"5658.1372,-5893.5 5658.1372,-5939.5 \" stroke=\"#000000\"/>\n",
       "<text fill=\"#000000\" font-family=\"Times,serif\" font-size=\"14.00\" text-anchor=\"middle\" x=\"5727.1372\" y=\"-5924.3\">(None, 128, 128, 128)</text>\n",
       "<polyline fill=\"none\" points=\"5658.1372,-5916.5 5796.1372,-5916.5 \" stroke=\"#000000\"/>\n",
       "<text fill=\"#000000\" font-family=\"Times,serif\" font-size=\"14.00\" text-anchor=\"middle\" x=\"5727.1372\" y=\"-5901.3\">(None, 128, 128, 128)</text>\n",
       "</g>\n",
       "<!-- 140378944052688&#45;&gt;140378943843792 -->\n",
       "<g class=\"edge\" id=\"edge9\">\n",
       "<title>140378944052688-&gt;140378943843792</title>\n",
       "<path d=\"M5619.1372,-5976.3799C5619.1372,-5968.1745 5619.1372,-5958.7679 5619.1372,-5949.8786\" fill=\"none\" stroke=\"#000000\"/>\n",
       "<polygon fill=\"#000000\" points=\"5622.6373,-5949.784 5619.1372,-5939.784 5615.6373,-5949.784 5622.6373,-5949.784\" stroke=\"#000000\"/>\n",
       "</g>\n",
       "<!-- 140378943824400 -->\n",
       "<g class=\"node\" id=\"node11\">\n",
       "<title>140378943824400</title>\n",
       "<polygon fill=\"none\" points=\"5449.6372,-5810.5 5449.6372,-5856.5 5788.6372,-5856.5 5788.6372,-5810.5 5449.6372,-5810.5\" stroke=\"#000000\"/>\n",
       "<text fill=\"#000000\" font-family=\"Times,serif\" font-size=\"14.00\" text-anchor=\"middle\" x=\"5522.6372\" y=\"-5829.8\">block2_conv2: Conv2D</text>\n",
       "<polyline fill=\"none\" points=\"5595.6372,-5810.5 5595.6372,-5856.5 \" stroke=\"#000000\"/>\n",
       "<text fill=\"#000000\" font-family=\"Times,serif\" font-size=\"14.00\" text-anchor=\"middle\" x=\"5623.1372\" y=\"-5841.3\">input:</text>\n",
       "<polyline fill=\"none\" points=\"5595.6372,-5833.5 5650.6372,-5833.5 \" stroke=\"#000000\"/>\n",
       "<text fill=\"#000000\" font-family=\"Times,serif\" font-size=\"14.00\" text-anchor=\"middle\" x=\"5623.1372\" y=\"-5818.3\">output:</text>\n",
       "<polyline fill=\"none\" points=\"5650.6372,-5810.5 5650.6372,-5856.5 \" stroke=\"#000000\"/>\n",
       "<text fill=\"#000000\" font-family=\"Times,serif\" font-size=\"14.00\" text-anchor=\"middle\" x=\"5719.6372\" y=\"-5841.3\">(None, 128, 128, 128)</text>\n",
       "<polyline fill=\"none\" points=\"5650.6372,-5833.5 5788.6372,-5833.5 \" stroke=\"#000000\"/>\n",
       "<text fill=\"#000000\" font-family=\"Times,serif\" font-size=\"14.00\" text-anchor=\"middle\" x=\"5719.6372\" y=\"-5818.3\">(None, 128, 128, 128)</text>\n",
       "</g>\n",
       "<!-- 140378943843792&#45;&gt;140378943824400 -->\n",
       "<g class=\"edge\" id=\"edge10\">\n",
       "<title>140378943843792-&gt;140378943824400</title>\n",
       "<path d=\"M5619.1372,-5893.3799C5619.1372,-5885.1745 5619.1372,-5875.7679 5619.1372,-5866.8786\" fill=\"none\" stroke=\"#000000\"/>\n",
       "<polygon fill=\"#000000\" points=\"5622.6373,-5866.784 5619.1372,-5856.784 5615.6373,-5866.784 5622.6373,-5866.784\" stroke=\"#000000\"/>\n",
       "</g>\n",
       "<!-- 140378943911888 -->\n",
       "<g class=\"node\" id=\"node12\">\n",
       "<title>140378943911888</title>\n",
       "<polygon fill=\"none\" points=\"5442.1372,-5727.5 5442.1372,-5773.5 5796.1372,-5773.5 5796.1372,-5727.5 5442.1372,-5727.5\" stroke=\"#000000\"/>\n",
       "<text fill=\"#000000\" font-family=\"Times,serif\" font-size=\"14.00\" text-anchor=\"middle\" x=\"5522.6372\" y=\"-5746.8\">activation_261: Activation</text>\n",
       "<polyline fill=\"none\" points=\"5603.1372,-5727.5 5603.1372,-5773.5 \" stroke=\"#000000\"/>\n",
       "<text fill=\"#000000\" font-family=\"Times,serif\" font-size=\"14.00\" text-anchor=\"middle\" x=\"5630.6372\" y=\"-5758.3\">input:</text>\n",
       "<polyline fill=\"none\" points=\"5603.1372,-5750.5 5658.1372,-5750.5 \" stroke=\"#000000\"/>\n",
       "<text fill=\"#000000\" font-family=\"Times,serif\" font-size=\"14.00\" text-anchor=\"middle\" x=\"5630.6372\" y=\"-5735.3\">output:</text>\n",
       "<polyline fill=\"none\" points=\"5658.1372,-5727.5 5658.1372,-5773.5 \" stroke=\"#000000\"/>\n",
       "<text fill=\"#000000\" font-family=\"Times,serif\" font-size=\"14.00\" text-anchor=\"middle\" x=\"5727.1372\" y=\"-5758.3\">(None, 128, 128, 128)</text>\n",
       "<polyline fill=\"none\" points=\"5658.1372,-5750.5 5796.1372,-5750.5 \" stroke=\"#000000\"/>\n",
       "<text fill=\"#000000\" font-family=\"Times,serif\" font-size=\"14.00\" text-anchor=\"middle\" x=\"5727.1372\" y=\"-5735.3\">(None, 128, 128, 128)</text>\n",
       "</g>\n",
       "<!-- 140378943824400&#45;&gt;140378943911888 -->\n",
       "<g class=\"edge\" id=\"edge11\">\n",
       "<title>140378943824400-&gt;140378943911888</title>\n",
       "<path d=\"M5619.1372,-5810.3799C5619.1372,-5802.1745 5619.1372,-5792.7679 5619.1372,-5783.8786\" fill=\"none\" stroke=\"#000000\"/>\n",
       "<polygon fill=\"#000000\" points=\"5622.6373,-5783.784 5619.1372,-5773.784 5615.6373,-5783.784 5622.6373,-5783.784\" stroke=\"#000000\"/>\n",
       "</g>\n",
       "<!-- 140378943925264 -->\n",
       "<g class=\"node\" id=\"node13\">\n",
       "<title>140378943925264</title>\n",
       "<polygon fill=\"none\" points=\"5406.1372,-5644.5 5406.1372,-5690.5 5832.1372,-5690.5 5832.1372,-5644.5 5406.1372,-5644.5\" stroke=\"#000000\"/>\n",
       "<text fill=\"#000000\" font-family=\"Times,serif\" font-size=\"14.00\" text-anchor=\"middle\" x=\"5522.6372\" y=\"-5663.8\">block2_reduction_pool: MaxPooling2D</text>\n",
       "<polyline fill=\"none\" points=\"5639.1372,-5644.5 5639.1372,-5690.5 \" stroke=\"#000000\"/>\n",
       "<text fill=\"#000000\" font-family=\"Times,serif\" font-size=\"14.00\" text-anchor=\"middle\" x=\"5666.6372\" y=\"-5675.3\">input:</text>\n",
       "<polyline fill=\"none\" points=\"5639.1372,-5667.5 5694.1372,-5667.5 \" stroke=\"#000000\"/>\n",
       "<text fill=\"#000000\" font-family=\"Times,serif\" font-size=\"14.00\" text-anchor=\"middle\" x=\"5666.6372\" y=\"-5652.3\">output:</text>\n",
       "<polyline fill=\"none\" points=\"5694.1372,-5644.5 5694.1372,-5690.5 \" stroke=\"#000000\"/>\n",
       "<text fill=\"#000000\" font-family=\"Times,serif\" font-size=\"14.00\" text-anchor=\"middle\" x=\"5763.1372\" y=\"-5675.3\">(None, 128, 128, 128)</text>\n",
       "<polyline fill=\"none\" points=\"5694.1372,-5667.5 5832.1372,-5667.5 \" stroke=\"#000000\"/>\n",
       "<text fill=\"#000000\" font-family=\"Times,serif\" font-size=\"14.00\" text-anchor=\"middle\" x=\"5763.1372\" y=\"-5652.3\">(None, 64, 64, 128)</text>\n",
       "</g>\n",
       "<!-- 140378943911888&#45;&gt;140378943925264 -->\n",
       "<g class=\"edge\" id=\"edge12\">\n",
       "<title>140378943911888-&gt;140378943925264</title>\n",
       "<path d=\"M5619.1372,-5727.3799C5619.1372,-5719.1745 5619.1372,-5709.7679 5619.1372,-5700.8786\" fill=\"none\" stroke=\"#000000\"/>\n",
       "<polygon fill=\"#000000\" points=\"5622.6373,-5700.784 5619.1372,-5690.784 5615.6373,-5700.784 5622.6373,-5700.784\" stroke=\"#000000\"/>\n",
       "</g>\n",
       "<!-- 140378943951440 -->\n",
       "<g class=\"node\" id=\"node14\">\n",
       "<title>140378943951440</title>\n",
       "<polygon fill=\"none\" points=\"5448.6372,-5561.5 5448.6372,-5607.5 5789.6372,-5607.5 5789.6372,-5561.5 5448.6372,-5561.5\" stroke=\"#000000\"/>\n",
       "<text fill=\"#000000\" font-family=\"Times,serif\" font-size=\"14.00\" text-anchor=\"middle\" x=\"5529.1372\" y=\"-5580.8\">activation_262: Activation</text>\n",
       "<polyline fill=\"none\" points=\"5609.6372,-5561.5 5609.6372,-5607.5 \" stroke=\"#000000\"/>\n",
       "<text fill=\"#000000\" font-family=\"Times,serif\" font-size=\"14.00\" text-anchor=\"middle\" x=\"5637.1372\" y=\"-5592.3\">input:</text>\n",
       "<polyline fill=\"none\" points=\"5609.6372,-5584.5 5664.6372,-5584.5 \" stroke=\"#000000\"/>\n",
       "<text fill=\"#000000\" font-family=\"Times,serif\" font-size=\"14.00\" text-anchor=\"middle\" x=\"5637.1372\" y=\"-5569.3\">output:</text>\n",
       "<polyline fill=\"none\" points=\"5664.6372,-5561.5 5664.6372,-5607.5 \" stroke=\"#000000\"/>\n",
       "<text fill=\"#000000\" font-family=\"Times,serif\" font-size=\"14.00\" text-anchor=\"middle\" x=\"5727.1372\" y=\"-5592.3\">(None, 64, 64, 128)</text>\n",
       "<polyline fill=\"none\" points=\"5664.6372,-5584.5 5789.6372,-5584.5 \" stroke=\"#000000\"/>\n",
       "<text fill=\"#000000\" font-family=\"Times,serif\" font-size=\"14.00\" text-anchor=\"middle\" x=\"5727.1372\" y=\"-5569.3\">(None, 64, 64, 128)</text>\n",
       "</g>\n",
       "<!-- 140378943925264&#45;&gt;140378943951440 -->\n",
       "<g class=\"edge\" id=\"edge13\">\n",
       "<title>140378943925264-&gt;140378943951440</title>\n",
       "<path d=\"M5619.1372,-5644.3799C5619.1372,-5636.1745 5619.1372,-5626.7679 5619.1372,-5617.8786\" fill=\"none\" stroke=\"#000000\"/>\n",
       "<polygon fill=\"#000000\" points=\"5622.6373,-5617.784 5619.1372,-5607.784 5615.6373,-5617.784 5622.6373,-5617.784\" stroke=\"#000000\"/>\n",
       "</g>\n",
       "<!-- 140378943988176 -->\n",
       "<g class=\"node\" id=\"node15\">\n",
       "<title>140378943988176</title>\n",
       "<polygon fill=\"none\" points=\"5396.1372,-5478.5 5396.1372,-5524.5 5842.1372,-5524.5 5842.1372,-5478.5 5396.1372,-5478.5\" stroke=\"#000000\"/>\n",
       "<text fill=\"#000000\" font-family=\"Times,serif\" font-size=\"14.00\" text-anchor=\"middle\" x=\"5529.1372\" y=\"-5497.8\">batch_normalization_85: BatchNormalization</text>\n",
       "<polyline fill=\"none\" points=\"5662.1372,-5478.5 5662.1372,-5524.5 \" stroke=\"#000000\"/>\n",
       "<text fill=\"#000000\" font-family=\"Times,serif\" font-size=\"14.00\" text-anchor=\"middle\" x=\"5689.6372\" y=\"-5509.3\">input:</text>\n",
       "<polyline fill=\"none\" points=\"5662.1372,-5501.5 5717.1372,-5501.5 \" stroke=\"#000000\"/>\n",
       "<text fill=\"#000000\" font-family=\"Times,serif\" font-size=\"14.00\" text-anchor=\"middle\" x=\"5689.6372\" y=\"-5486.3\">output:</text>\n",
       "<polyline fill=\"none\" points=\"5717.1372,-5478.5 5717.1372,-5524.5 \" stroke=\"#000000\"/>\n",
       "<text fill=\"#000000\" font-family=\"Times,serif\" font-size=\"14.00\" text-anchor=\"middle\" x=\"5779.6372\" y=\"-5509.3\">(None, 64, 64, 128)</text>\n",
       "<polyline fill=\"none\" points=\"5717.1372,-5501.5 5842.1372,-5501.5 \" stroke=\"#000000\"/>\n",
       "<text fill=\"#000000\" font-family=\"Times,serif\" font-size=\"14.00\" text-anchor=\"middle\" x=\"5779.6372\" y=\"-5486.3\">(None, 64, 64, 128)</text>\n",
       "</g>\n",
       "<!-- 140378943951440&#45;&gt;140378943988176 -->\n",
       "<g class=\"edge\" id=\"edge14\">\n",
       "<title>140378943951440-&gt;140378943988176</title>\n",
       "<path d=\"M5619.1372,-5561.3799C5619.1372,-5553.1745 5619.1372,-5543.7679 5619.1372,-5534.8786\" fill=\"none\" stroke=\"#000000\"/>\n",
       "<polygon fill=\"#000000\" points=\"5622.6373,-5534.784 5619.1372,-5524.784 5615.6373,-5534.784 5622.6373,-5534.784\" stroke=\"#000000\"/>\n",
       "</g>\n",
       "<!-- 140378943979472 -->\n",
       "<g class=\"node\" id=\"node16\">\n",
       "<title>140378943979472</title>\n",
       "<polygon fill=\"none\" points=\"5456.1372,-5395.5 5456.1372,-5441.5 5782.1372,-5441.5 5782.1372,-5395.5 5456.1372,-5395.5\" stroke=\"#000000\"/>\n",
       "<text fill=\"#000000\" font-family=\"Times,serif\" font-size=\"14.00\" text-anchor=\"middle\" x=\"5529.1372\" y=\"-5414.8\">block3_conv1: Conv2D</text>\n",
       "<polyline fill=\"none\" points=\"5602.1372,-5395.5 5602.1372,-5441.5 \" stroke=\"#000000\"/>\n",
       "<text fill=\"#000000\" font-family=\"Times,serif\" font-size=\"14.00\" text-anchor=\"middle\" x=\"5629.6372\" y=\"-5426.3\">input:</text>\n",
       "<polyline fill=\"none\" points=\"5602.1372,-5418.5 5657.1372,-5418.5 \" stroke=\"#000000\"/>\n",
       "<text fill=\"#000000\" font-family=\"Times,serif\" font-size=\"14.00\" text-anchor=\"middle\" x=\"5629.6372\" y=\"-5403.3\">output:</text>\n",
       "<polyline fill=\"none\" points=\"5657.1372,-5395.5 5657.1372,-5441.5 \" stroke=\"#000000\"/>\n",
       "<text fill=\"#000000\" font-family=\"Times,serif\" font-size=\"14.00\" text-anchor=\"middle\" x=\"5719.6372\" y=\"-5426.3\">(None, 64, 64, 128)</text>\n",
       "<polyline fill=\"none\" points=\"5657.1372,-5418.5 5782.1372,-5418.5 \" stroke=\"#000000\"/>\n",
       "<text fill=\"#000000\" font-family=\"Times,serif\" font-size=\"14.00\" text-anchor=\"middle\" x=\"5719.6372\" y=\"-5403.3\">(None, 64, 64, 256)</text>\n",
       "</g>\n",
       "<!-- 140378943988176&#45;&gt;140378943979472 -->\n",
       "<g class=\"edge\" id=\"edge15\">\n",
       "<title>140378943988176-&gt;140378943979472</title>\n",
       "<path d=\"M5619.1372,-5478.3799C5619.1372,-5470.1745 5619.1372,-5460.7679 5619.1372,-5451.8786\" fill=\"none\" stroke=\"#000000\"/>\n",
       "<polygon fill=\"#000000\" points=\"5622.6373,-5451.784 5619.1372,-5441.784 5615.6373,-5451.784 5622.6373,-5451.784\" stroke=\"#000000\"/>\n",
       "</g>\n",
       "<!-- 140378944002512 -->\n",
       "<g class=\"node\" id=\"node17\">\n",
       "<title>140378944002512</title>\n",
       "<polygon fill=\"none\" points=\"5448.6372,-5312.5 5448.6372,-5358.5 5789.6372,-5358.5 5789.6372,-5312.5 5448.6372,-5312.5\" stroke=\"#000000\"/>\n",
       "<text fill=\"#000000\" font-family=\"Times,serif\" font-size=\"14.00\" text-anchor=\"middle\" x=\"5529.1372\" y=\"-5331.8\">activation_263: Activation</text>\n",
       "<polyline fill=\"none\" points=\"5609.6372,-5312.5 5609.6372,-5358.5 \" stroke=\"#000000\"/>\n",
       "<text fill=\"#000000\" font-family=\"Times,serif\" font-size=\"14.00\" text-anchor=\"middle\" x=\"5637.1372\" y=\"-5343.3\">input:</text>\n",
       "<polyline fill=\"none\" points=\"5609.6372,-5335.5 5664.6372,-5335.5 \" stroke=\"#000000\"/>\n",
       "<text fill=\"#000000\" font-family=\"Times,serif\" font-size=\"14.00\" text-anchor=\"middle\" x=\"5637.1372\" y=\"-5320.3\">output:</text>\n",
       "<polyline fill=\"none\" points=\"5664.6372,-5312.5 5664.6372,-5358.5 \" stroke=\"#000000\"/>\n",
       "<text fill=\"#000000\" font-family=\"Times,serif\" font-size=\"14.00\" text-anchor=\"middle\" x=\"5727.1372\" y=\"-5343.3\">(None, 64, 64, 256)</text>\n",
       "<polyline fill=\"none\" points=\"5664.6372,-5335.5 5789.6372,-5335.5 \" stroke=\"#000000\"/>\n",
       "<text fill=\"#000000\" font-family=\"Times,serif\" font-size=\"14.00\" text-anchor=\"middle\" x=\"5727.1372\" y=\"-5320.3\">(None, 64, 64, 256)</text>\n",
       "</g>\n",
       "<!-- 140378943979472&#45;&gt;140378944002512 -->\n",
       "<g class=\"edge\" id=\"edge16\">\n",
       "<title>140378943979472-&gt;140378944002512</title>\n",
       "<path d=\"M5619.1372,-5395.3799C5619.1372,-5387.1745 5619.1372,-5377.7679 5619.1372,-5368.8786\" fill=\"none\" stroke=\"#000000\"/>\n",
       "<polygon fill=\"#000000\" points=\"5622.6373,-5368.784 5619.1372,-5358.784 5615.6373,-5368.784 5622.6373,-5368.784\" stroke=\"#000000\"/>\n",
       "</g>\n",
       "<!-- 140378944021776 -->\n",
       "<g class=\"node\" id=\"node18\">\n",
       "<title>140378944021776</title>\n",
       "<polygon fill=\"none\" points=\"5456.1372,-5229.5 5456.1372,-5275.5 5782.1372,-5275.5 5782.1372,-5229.5 5456.1372,-5229.5\" stroke=\"#000000\"/>\n",
       "<text fill=\"#000000\" font-family=\"Times,serif\" font-size=\"14.00\" text-anchor=\"middle\" x=\"5529.1372\" y=\"-5248.8\">block3_conv2: Conv2D</text>\n",
       "<polyline fill=\"none\" points=\"5602.1372,-5229.5 5602.1372,-5275.5 \" stroke=\"#000000\"/>\n",
       "<text fill=\"#000000\" font-family=\"Times,serif\" font-size=\"14.00\" text-anchor=\"middle\" x=\"5629.6372\" y=\"-5260.3\">input:</text>\n",
       "<polyline fill=\"none\" points=\"5602.1372,-5252.5 5657.1372,-5252.5 \" stroke=\"#000000\"/>\n",
       "<text fill=\"#000000\" font-family=\"Times,serif\" font-size=\"14.00\" text-anchor=\"middle\" x=\"5629.6372\" y=\"-5237.3\">output:</text>\n",
       "<polyline fill=\"none\" points=\"5657.1372,-5229.5 5657.1372,-5275.5 \" stroke=\"#000000\"/>\n",
       "<text fill=\"#000000\" font-family=\"Times,serif\" font-size=\"14.00\" text-anchor=\"middle\" x=\"5719.6372\" y=\"-5260.3\">(None, 64, 64, 256)</text>\n",
       "<polyline fill=\"none\" points=\"5657.1372,-5252.5 5782.1372,-5252.5 \" stroke=\"#000000\"/>\n",
       "<text fill=\"#000000\" font-family=\"Times,serif\" font-size=\"14.00\" text-anchor=\"middle\" x=\"5719.6372\" y=\"-5237.3\">(None, 64, 64, 256)</text>\n",
       "</g>\n",
       "<!-- 140378944002512&#45;&gt;140378944021776 -->\n",
       "<g class=\"edge\" id=\"edge17\">\n",
       "<title>140378944002512-&gt;140378944021776</title>\n",
       "<path d=\"M5619.1372,-5312.3799C5619.1372,-5304.1745 5619.1372,-5294.7679 5619.1372,-5285.8786\" fill=\"none\" stroke=\"#000000\"/>\n",
       "<polygon fill=\"#000000\" points=\"5622.6373,-5285.784 5619.1372,-5275.784 5615.6373,-5285.784 5622.6373,-5285.784\" stroke=\"#000000\"/>\n",
       "</g>\n",
       "<!-- 140378941774992 -->\n",
       "<g class=\"node\" id=\"node19\">\n",
       "<title>140378941774992</title>\n",
       "<polygon fill=\"none\" points=\"5448.6372,-5146.5 5448.6372,-5192.5 5789.6372,-5192.5 5789.6372,-5146.5 5448.6372,-5146.5\" stroke=\"#000000\"/>\n",
       "<text fill=\"#000000\" font-family=\"Times,serif\" font-size=\"14.00\" text-anchor=\"middle\" x=\"5529.1372\" y=\"-5165.8\">activation_264: Activation</text>\n",
       "<polyline fill=\"none\" points=\"5609.6372,-5146.5 5609.6372,-5192.5 \" stroke=\"#000000\"/>\n",
       "<text fill=\"#000000\" font-family=\"Times,serif\" font-size=\"14.00\" text-anchor=\"middle\" x=\"5637.1372\" y=\"-5177.3\">input:</text>\n",
       "<polyline fill=\"none\" points=\"5609.6372,-5169.5 5664.6372,-5169.5 \" stroke=\"#000000\"/>\n",
       "<text fill=\"#000000\" font-family=\"Times,serif\" font-size=\"14.00\" text-anchor=\"middle\" x=\"5637.1372\" y=\"-5154.3\">output:</text>\n",
       "<polyline fill=\"none\" points=\"5664.6372,-5146.5 5664.6372,-5192.5 \" stroke=\"#000000\"/>\n",
       "<text fill=\"#000000\" font-family=\"Times,serif\" font-size=\"14.00\" text-anchor=\"middle\" x=\"5727.1372\" y=\"-5177.3\">(None, 64, 64, 256)</text>\n",
       "<polyline fill=\"none\" points=\"5664.6372,-5169.5 5789.6372,-5169.5 \" stroke=\"#000000\"/>\n",
       "<text fill=\"#000000\" font-family=\"Times,serif\" font-size=\"14.00\" text-anchor=\"middle\" x=\"5727.1372\" y=\"-5154.3\">(None, 64, 64, 256)</text>\n",
       "</g>\n",
       "<!-- 140378944021776&#45;&gt;140378941774992 -->\n",
       "<g class=\"edge\" id=\"edge18\">\n",
       "<title>140378944021776-&gt;140378941774992</title>\n",
       "<path d=\"M5619.1372,-5229.3799C5619.1372,-5221.1745 5619.1372,-5211.7679 5619.1372,-5202.8786\" fill=\"none\" stroke=\"#000000\"/>\n",
       "<polygon fill=\"#000000\" points=\"5622.6373,-5202.784 5619.1372,-5192.784 5615.6373,-5202.784 5622.6373,-5202.784\" stroke=\"#000000\"/>\n",
       "</g>\n",
       "<!-- 140378941874064 -->\n",
       "<g class=\"node\" id=\"node20\">\n",
       "<title>140378941874064</title>\n",
       "<polygon fill=\"none\" points=\"5456.1372,-5063.5 5456.1372,-5109.5 5782.1372,-5109.5 5782.1372,-5063.5 5456.1372,-5063.5\" stroke=\"#000000\"/>\n",
       "<text fill=\"#000000\" font-family=\"Times,serif\" font-size=\"14.00\" text-anchor=\"middle\" x=\"5529.1372\" y=\"-5082.8\">block3_conv3: Conv2D</text>\n",
       "<polyline fill=\"none\" points=\"5602.1372,-5063.5 5602.1372,-5109.5 \" stroke=\"#000000\"/>\n",
       "<text fill=\"#000000\" font-family=\"Times,serif\" font-size=\"14.00\" text-anchor=\"middle\" x=\"5629.6372\" y=\"-5094.3\">input:</text>\n",
       "<polyline fill=\"none\" points=\"5602.1372,-5086.5 5657.1372,-5086.5 \" stroke=\"#000000\"/>\n",
       "<text fill=\"#000000\" font-family=\"Times,serif\" font-size=\"14.00\" text-anchor=\"middle\" x=\"5629.6372\" y=\"-5071.3\">output:</text>\n",
       "<polyline fill=\"none\" points=\"5657.1372,-5063.5 5657.1372,-5109.5 \" stroke=\"#000000\"/>\n",
       "<text fill=\"#000000\" font-family=\"Times,serif\" font-size=\"14.00\" text-anchor=\"middle\" x=\"5719.6372\" y=\"-5094.3\">(None, 64, 64, 256)</text>\n",
       "<polyline fill=\"none\" points=\"5657.1372,-5086.5 5782.1372,-5086.5 \" stroke=\"#000000\"/>\n",
       "<text fill=\"#000000\" font-family=\"Times,serif\" font-size=\"14.00\" text-anchor=\"middle\" x=\"5719.6372\" y=\"-5071.3\">(None, 64, 64, 256)</text>\n",
       "</g>\n",
       "<!-- 140378941774992&#45;&gt;140378941874064 -->\n",
       "<g class=\"edge\" id=\"edge19\">\n",
       "<title>140378941774992-&gt;140378941874064</title>\n",
       "<path d=\"M5619.1372,-5146.3799C5619.1372,-5138.1745 5619.1372,-5128.7679 5619.1372,-5119.8786\" fill=\"none\" stroke=\"#000000\"/>\n",
       "<polygon fill=\"#000000\" points=\"5622.6373,-5119.784 5619.1372,-5109.784 5615.6373,-5119.784 5622.6373,-5119.784\" stroke=\"#000000\"/>\n",
       "</g>\n",
       "<!-- 140378941549712 -->\n",
       "<g class=\"node\" id=\"node21\">\n",
       "<title>140378941549712</title>\n",
       "<polygon fill=\"none\" points=\"5448.6372,-4980.5 5448.6372,-5026.5 5789.6372,-5026.5 5789.6372,-4980.5 5448.6372,-4980.5\" stroke=\"#000000\"/>\n",
       "<text fill=\"#000000\" font-family=\"Times,serif\" font-size=\"14.00\" text-anchor=\"middle\" x=\"5529.1372\" y=\"-4999.8\">activation_265: Activation</text>\n",
       "<polyline fill=\"none\" points=\"5609.6372,-4980.5 5609.6372,-5026.5 \" stroke=\"#000000\"/>\n",
       "<text fill=\"#000000\" font-family=\"Times,serif\" font-size=\"14.00\" text-anchor=\"middle\" x=\"5637.1372\" y=\"-5011.3\">input:</text>\n",
       "<polyline fill=\"none\" points=\"5609.6372,-5003.5 5664.6372,-5003.5 \" stroke=\"#000000\"/>\n",
       "<text fill=\"#000000\" font-family=\"Times,serif\" font-size=\"14.00\" text-anchor=\"middle\" x=\"5637.1372\" y=\"-4988.3\">output:</text>\n",
       "<polyline fill=\"none\" points=\"5664.6372,-4980.5 5664.6372,-5026.5 \" stroke=\"#000000\"/>\n",
       "<text fill=\"#000000\" font-family=\"Times,serif\" font-size=\"14.00\" text-anchor=\"middle\" x=\"5727.1372\" y=\"-5011.3\">(None, 64, 64, 256)</text>\n",
       "<polyline fill=\"none\" points=\"5664.6372,-5003.5 5789.6372,-5003.5 \" stroke=\"#000000\"/>\n",
       "<text fill=\"#000000\" font-family=\"Times,serif\" font-size=\"14.00\" text-anchor=\"middle\" x=\"5727.1372\" y=\"-4988.3\">(None, 64, 64, 256)</text>\n",
       "</g>\n",
       "<!-- 140378941874064&#45;&gt;140378941549712 -->\n",
       "<g class=\"edge\" id=\"edge20\">\n",
       "<title>140378941874064-&gt;140378941549712</title>\n",
       "<path d=\"M5619.1372,-5063.3799C5619.1372,-5055.1745 5619.1372,-5045.7679 5619.1372,-5036.8786\" fill=\"none\" stroke=\"#000000\"/>\n",
       "<polygon fill=\"#000000\" points=\"5622.6373,-5036.784 5619.1372,-5026.784 5615.6373,-5036.784 5622.6373,-5036.784\" stroke=\"#000000\"/>\n",
       "</g>\n",
       "<!-- 140378941550480 -->\n",
       "<g class=\"node\" id=\"node22\">\n",
       "<title>140378941550480</title>\n",
       "<polygon fill=\"none\" points=\"5412.6372,-4897.5 5412.6372,-4943.5 5825.6372,-4943.5 5825.6372,-4897.5 5412.6372,-4897.5\" stroke=\"#000000\"/>\n",
       "<text fill=\"#000000\" font-family=\"Times,serif\" font-size=\"14.00\" text-anchor=\"middle\" x=\"5529.1372\" y=\"-4916.8\">block3_reduction_pool: MaxPooling2D</text>\n",
       "<polyline fill=\"none\" points=\"5645.6372,-4897.5 5645.6372,-4943.5 \" stroke=\"#000000\"/>\n",
       "<text fill=\"#000000\" font-family=\"Times,serif\" font-size=\"14.00\" text-anchor=\"middle\" x=\"5673.1372\" y=\"-4928.3\">input:</text>\n",
       "<polyline fill=\"none\" points=\"5645.6372,-4920.5 5700.6372,-4920.5 \" stroke=\"#000000\"/>\n",
       "<text fill=\"#000000\" font-family=\"Times,serif\" font-size=\"14.00\" text-anchor=\"middle\" x=\"5673.1372\" y=\"-4905.3\">output:</text>\n",
       "<polyline fill=\"none\" points=\"5700.6372,-4897.5 5700.6372,-4943.5 \" stroke=\"#000000\"/>\n",
       "<text fill=\"#000000\" font-family=\"Times,serif\" font-size=\"14.00\" text-anchor=\"middle\" x=\"5763.1372\" y=\"-4928.3\">(None, 64, 64, 256)</text>\n",
       "<polyline fill=\"none\" points=\"5700.6372,-4920.5 5825.6372,-4920.5 \" stroke=\"#000000\"/>\n",
       "<text fill=\"#000000\" font-family=\"Times,serif\" font-size=\"14.00\" text-anchor=\"middle\" x=\"5763.1372\" y=\"-4905.3\">(None, 32, 32, 256)</text>\n",
       "</g>\n",
       "<!-- 140378941549712&#45;&gt;140378941550480 -->\n",
       "<g class=\"edge\" id=\"edge21\">\n",
       "<title>140378941549712-&gt;140378941550480</title>\n",
       "<path d=\"M5619.1372,-4980.3799C5619.1372,-4972.1745 5619.1372,-4962.7679 5619.1372,-4953.8786\" fill=\"none\" stroke=\"#000000\"/>\n",
       "<polygon fill=\"#000000\" points=\"5622.6373,-4953.784 5619.1372,-4943.784 5615.6373,-4953.784 5622.6373,-4953.784\" stroke=\"#000000\"/>\n",
       "</g>\n",
       "<!-- 140378941665232 -->\n",
       "<g class=\"node\" id=\"node23\">\n",
       "<title>140378941665232</title>\n",
       "<polygon fill=\"none\" points=\"5448.6372,-4814.5 5448.6372,-4860.5 5789.6372,-4860.5 5789.6372,-4814.5 5448.6372,-4814.5\" stroke=\"#000000\"/>\n",
       "<text fill=\"#000000\" font-family=\"Times,serif\" font-size=\"14.00\" text-anchor=\"middle\" x=\"5529.1372\" y=\"-4833.8\">activation_266: Activation</text>\n",
       "<polyline fill=\"none\" points=\"5609.6372,-4814.5 5609.6372,-4860.5 \" stroke=\"#000000\"/>\n",
       "<text fill=\"#000000\" font-family=\"Times,serif\" font-size=\"14.00\" text-anchor=\"middle\" x=\"5637.1372\" y=\"-4845.3\">input:</text>\n",
       "<polyline fill=\"none\" points=\"5609.6372,-4837.5 5664.6372,-4837.5 \" stroke=\"#000000\"/>\n",
       "<text fill=\"#000000\" font-family=\"Times,serif\" font-size=\"14.00\" text-anchor=\"middle\" x=\"5637.1372\" y=\"-4822.3\">output:</text>\n",
       "<polyline fill=\"none\" points=\"5664.6372,-4814.5 5664.6372,-4860.5 \" stroke=\"#000000\"/>\n",
       "<text fill=\"#000000\" font-family=\"Times,serif\" font-size=\"14.00\" text-anchor=\"middle\" x=\"5727.1372\" y=\"-4845.3\">(None, 32, 32, 256)</text>\n",
       "<polyline fill=\"none\" points=\"5664.6372,-4837.5 5789.6372,-4837.5 \" stroke=\"#000000\"/>\n",
       "<text fill=\"#000000\" font-family=\"Times,serif\" font-size=\"14.00\" text-anchor=\"middle\" x=\"5727.1372\" y=\"-4822.3\">(None, 32, 32, 256)</text>\n",
       "</g>\n",
       "<!-- 140378941550480&#45;&gt;140378941665232 -->\n",
       "<g class=\"edge\" id=\"edge22\">\n",
       "<title>140378941550480-&gt;140378941665232</title>\n",
       "<path d=\"M5619.1372,-4897.3799C5619.1372,-4889.1745 5619.1372,-4879.7679 5619.1372,-4870.8786\" fill=\"none\" stroke=\"#000000\"/>\n",
       "<polygon fill=\"#000000\" points=\"5622.6373,-4870.784 5619.1372,-4860.784 5615.6373,-4870.784 5622.6373,-4870.784\" stroke=\"#000000\"/>\n",
       "</g>\n",
       "<!-- 140378941230480 -->\n",
       "<g class=\"node\" id=\"node24\">\n",
       "<title>140378941230480</title>\n",
       "<polygon fill=\"none\" points=\"5396.1372,-4731.5 5396.1372,-4777.5 5842.1372,-4777.5 5842.1372,-4731.5 5396.1372,-4731.5\" stroke=\"#000000\"/>\n",
       "<text fill=\"#000000\" font-family=\"Times,serif\" font-size=\"14.00\" text-anchor=\"middle\" x=\"5529.1372\" y=\"-4750.8\">batch_normalization_86: BatchNormalization</text>\n",
       "<polyline fill=\"none\" points=\"5662.1372,-4731.5 5662.1372,-4777.5 \" stroke=\"#000000\"/>\n",
       "<text fill=\"#000000\" font-family=\"Times,serif\" font-size=\"14.00\" text-anchor=\"middle\" x=\"5689.6372\" y=\"-4762.3\">input:</text>\n",
       "<polyline fill=\"none\" points=\"5662.1372,-4754.5 5717.1372,-4754.5 \" stroke=\"#000000\"/>\n",
       "<text fill=\"#000000\" font-family=\"Times,serif\" font-size=\"14.00\" text-anchor=\"middle\" x=\"5689.6372\" y=\"-4739.3\">output:</text>\n",
       "<polyline fill=\"none\" points=\"5717.1372,-4731.5 5717.1372,-4777.5 \" stroke=\"#000000\"/>\n",
       "<text fill=\"#000000\" font-family=\"Times,serif\" font-size=\"14.00\" text-anchor=\"middle\" x=\"5779.6372\" y=\"-4762.3\">(None, 32, 32, 256)</text>\n",
       "<polyline fill=\"none\" points=\"5717.1372,-4754.5 5842.1372,-4754.5 \" stroke=\"#000000\"/>\n",
       "<text fill=\"#000000\" font-family=\"Times,serif\" font-size=\"14.00\" text-anchor=\"middle\" x=\"5779.6372\" y=\"-4739.3\">(None, 32, 32, 256)</text>\n",
       "</g>\n",
       "<!-- 140378941665232&#45;&gt;140378941230480 -->\n",
       "<g class=\"edge\" id=\"edge23\">\n",
       "<title>140378941665232-&gt;140378941230480</title>\n",
       "<path d=\"M5619.1372,-4814.3799C5619.1372,-4806.1745 5619.1372,-4796.7679 5619.1372,-4787.8786\" fill=\"none\" stroke=\"#000000\"/>\n",
       "<polygon fill=\"#000000\" points=\"5622.6373,-4787.784 5619.1372,-4777.784 5615.6373,-4787.784 5622.6373,-4787.784\" stroke=\"#000000\"/>\n",
       "</g>\n",
       "<!-- 140378941229584 -->\n",
       "<g class=\"node\" id=\"node25\">\n",
       "<title>140378941229584</title>\n",
       "<polygon fill=\"none\" points=\"5456.1372,-4648.5 5456.1372,-4694.5 5782.1372,-4694.5 5782.1372,-4648.5 5456.1372,-4648.5\" stroke=\"#000000\"/>\n",
       "<text fill=\"#000000\" font-family=\"Times,serif\" font-size=\"14.00\" text-anchor=\"middle\" x=\"5529.1372\" y=\"-4667.8\">block4_conv1: Conv2D</text>\n",
       "<polyline fill=\"none\" points=\"5602.1372,-4648.5 5602.1372,-4694.5 \" stroke=\"#000000\"/>\n",
       "<text fill=\"#000000\" font-family=\"Times,serif\" font-size=\"14.00\" text-anchor=\"middle\" x=\"5629.6372\" y=\"-4679.3\">input:</text>\n",
       "<polyline fill=\"none\" points=\"5602.1372,-4671.5 5657.1372,-4671.5 \" stroke=\"#000000\"/>\n",
       "<text fill=\"#000000\" font-family=\"Times,serif\" font-size=\"14.00\" text-anchor=\"middle\" x=\"5629.6372\" y=\"-4656.3\">output:</text>\n",
       "<polyline fill=\"none\" points=\"5657.1372,-4648.5 5657.1372,-4694.5 \" stroke=\"#000000\"/>\n",
       "<text fill=\"#000000\" font-family=\"Times,serif\" font-size=\"14.00\" text-anchor=\"middle\" x=\"5719.6372\" y=\"-4679.3\">(None, 32, 32, 256)</text>\n",
       "<polyline fill=\"none\" points=\"5657.1372,-4671.5 5782.1372,-4671.5 \" stroke=\"#000000\"/>\n",
       "<text fill=\"#000000\" font-family=\"Times,serif\" font-size=\"14.00\" text-anchor=\"middle\" x=\"5719.6372\" y=\"-4656.3\">(None, 32, 32, 512)</text>\n",
       "</g>\n",
       "<!-- 140378941230480&#45;&gt;140378941229584 -->\n",
       "<g class=\"edge\" id=\"edge24\">\n",
       "<title>140378941230480-&gt;140378941229584</title>\n",
       "<path d=\"M5619.1372,-4731.3799C5619.1372,-4723.1745 5619.1372,-4713.7679 5619.1372,-4704.8786\" fill=\"none\" stroke=\"#000000\"/>\n",
       "<polygon fill=\"#000000\" points=\"5622.6373,-4704.784 5619.1372,-4694.784 5615.6373,-4704.784 5622.6373,-4704.784\" stroke=\"#000000\"/>\n",
       "</g>\n",
       "<!-- 140378941347408 -->\n",
       "<g class=\"node\" id=\"node26\">\n",
       "<title>140378941347408</title>\n",
       "<polygon fill=\"none\" points=\"5448.6372,-4565.5 5448.6372,-4611.5 5789.6372,-4611.5 5789.6372,-4565.5 5448.6372,-4565.5\" stroke=\"#000000\"/>\n",
       "<text fill=\"#000000\" font-family=\"Times,serif\" font-size=\"14.00\" text-anchor=\"middle\" x=\"5529.1372\" y=\"-4584.8\">activation_267: Activation</text>\n",
       "<polyline fill=\"none\" points=\"5609.6372,-4565.5 5609.6372,-4611.5 \" stroke=\"#000000\"/>\n",
       "<text fill=\"#000000\" font-family=\"Times,serif\" font-size=\"14.00\" text-anchor=\"middle\" x=\"5637.1372\" y=\"-4596.3\">input:</text>\n",
       "<polyline fill=\"none\" points=\"5609.6372,-4588.5 5664.6372,-4588.5 \" stroke=\"#000000\"/>\n",
       "<text fill=\"#000000\" font-family=\"Times,serif\" font-size=\"14.00\" text-anchor=\"middle\" x=\"5637.1372\" y=\"-4573.3\">output:</text>\n",
       "<polyline fill=\"none\" points=\"5664.6372,-4565.5 5664.6372,-4611.5 \" stroke=\"#000000\"/>\n",
       "<text fill=\"#000000\" font-family=\"Times,serif\" font-size=\"14.00\" text-anchor=\"middle\" x=\"5727.1372\" y=\"-4596.3\">(None, 32, 32, 512)</text>\n",
       "<polyline fill=\"none\" points=\"5664.6372,-4588.5 5789.6372,-4588.5 \" stroke=\"#000000\"/>\n",
       "<text fill=\"#000000\" font-family=\"Times,serif\" font-size=\"14.00\" text-anchor=\"middle\" x=\"5727.1372\" y=\"-4573.3\">(None, 32, 32, 512)</text>\n",
       "</g>\n",
       "<!-- 140378941229584&#45;&gt;140378941347408 -->\n",
       "<g class=\"edge\" id=\"edge25\">\n",
       "<title>140378941229584-&gt;140378941347408</title>\n",
       "<path d=\"M5619.1372,-4648.3799C5619.1372,-4640.1745 5619.1372,-4630.7679 5619.1372,-4621.8786\" fill=\"none\" stroke=\"#000000\"/>\n",
       "<polygon fill=\"#000000\" points=\"5622.6373,-4621.784 5619.1372,-4611.784 5615.6373,-4621.784 5622.6373,-4621.784\" stroke=\"#000000\"/>\n",
       "</g>\n",
       "<!-- 140378940922832 -->\n",
       "<g class=\"node\" id=\"node27\">\n",
       "<title>140378940922832</title>\n",
       "<polygon fill=\"none\" points=\"5456.1372,-4482.5 5456.1372,-4528.5 5782.1372,-4528.5 5782.1372,-4482.5 5456.1372,-4482.5\" stroke=\"#000000\"/>\n",
       "<text fill=\"#000000\" font-family=\"Times,serif\" font-size=\"14.00\" text-anchor=\"middle\" x=\"5529.1372\" y=\"-4501.8\">block4_conv2: Conv2D</text>\n",
       "<polyline fill=\"none\" points=\"5602.1372,-4482.5 5602.1372,-4528.5 \" stroke=\"#000000\"/>\n",
       "<text fill=\"#000000\" font-family=\"Times,serif\" font-size=\"14.00\" text-anchor=\"middle\" x=\"5629.6372\" y=\"-4513.3\">input:</text>\n",
       "<polyline fill=\"none\" points=\"5602.1372,-4505.5 5657.1372,-4505.5 \" stroke=\"#000000\"/>\n",
       "<text fill=\"#000000\" font-family=\"Times,serif\" font-size=\"14.00\" text-anchor=\"middle\" x=\"5629.6372\" y=\"-4490.3\">output:</text>\n",
       "<polyline fill=\"none\" points=\"5657.1372,-4482.5 5657.1372,-4528.5 \" stroke=\"#000000\"/>\n",
       "<text fill=\"#000000\" font-family=\"Times,serif\" font-size=\"14.00\" text-anchor=\"middle\" x=\"5719.6372\" y=\"-4513.3\">(None, 32, 32, 512)</text>\n",
       "<polyline fill=\"none\" points=\"5657.1372,-4505.5 5782.1372,-4505.5 \" stroke=\"#000000\"/>\n",
       "<text fill=\"#000000\" font-family=\"Times,serif\" font-size=\"14.00\" text-anchor=\"middle\" x=\"5719.6372\" y=\"-4490.3\">(None, 32, 32, 512)</text>\n",
       "</g>\n",
       "<!-- 140378941347408&#45;&gt;140378940922832 -->\n",
       "<g class=\"edge\" id=\"edge26\">\n",
       "<title>140378941347408-&gt;140378940922832</title>\n",
       "<path d=\"M5619.1372,-4565.3799C5619.1372,-4557.1745 5619.1372,-4547.7679 5619.1372,-4538.8786\" fill=\"none\" stroke=\"#000000\"/>\n",
       "<polygon fill=\"#000000\" points=\"5622.6373,-4538.784 5619.1372,-4528.784 5615.6373,-4538.784 5622.6373,-4538.784\" stroke=\"#000000\"/>\n",
       "</g>\n",
       "<!-- 140378940519440 -->\n",
       "<g class=\"node\" id=\"node28\">\n",
       "<title>140378940519440</title>\n",
       "<polygon fill=\"none\" points=\"5448.6372,-4399.5 5448.6372,-4445.5 5789.6372,-4445.5 5789.6372,-4399.5 5448.6372,-4399.5\" stroke=\"#000000\"/>\n",
       "<text fill=\"#000000\" font-family=\"Times,serif\" font-size=\"14.00\" text-anchor=\"middle\" x=\"5529.1372\" y=\"-4418.8\">activation_268: Activation</text>\n",
       "<polyline fill=\"none\" points=\"5609.6372,-4399.5 5609.6372,-4445.5 \" stroke=\"#000000\"/>\n",
       "<text fill=\"#000000\" font-family=\"Times,serif\" font-size=\"14.00\" text-anchor=\"middle\" x=\"5637.1372\" y=\"-4430.3\">input:</text>\n",
       "<polyline fill=\"none\" points=\"5609.6372,-4422.5 5664.6372,-4422.5 \" stroke=\"#000000\"/>\n",
       "<text fill=\"#000000\" font-family=\"Times,serif\" font-size=\"14.00\" text-anchor=\"middle\" x=\"5637.1372\" y=\"-4407.3\">output:</text>\n",
       "<polyline fill=\"none\" points=\"5664.6372,-4399.5 5664.6372,-4445.5 \" stroke=\"#000000\"/>\n",
       "<text fill=\"#000000\" font-family=\"Times,serif\" font-size=\"14.00\" text-anchor=\"middle\" x=\"5727.1372\" y=\"-4430.3\">(None, 32, 32, 512)</text>\n",
       "<polyline fill=\"none\" points=\"5664.6372,-4422.5 5789.6372,-4422.5 \" stroke=\"#000000\"/>\n",
       "<text fill=\"#000000\" font-family=\"Times,serif\" font-size=\"14.00\" text-anchor=\"middle\" x=\"5727.1372\" y=\"-4407.3\">(None, 32, 32, 512)</text>\n",
       "</g>\n",
       "<!-- 140378940922832&#45;&gt;140378940519440 -->\n",
       "<g class=\"edge\" id=\"edge27\">\n",
       "<title>140378940922832-&gt;140378940519440</title>\n",
       "<path d=\"M5619.1372,-4482.3799C5619.1372,-4474.1745 5619.1372,-4464.7679 5619.1372,-4455.8786\" fill=\"none\" stroke=\"#000000\"/>\n",
       "<polygon fill=\"#000000\" points=\"5622.6373,-4455.784 5619.1372,-4445.784 5615.6373,-4455.784 5622.6373,-4455.784\" stroke=\"#000000\"/>\n",
       "</g>\n",
       "<!-- 140378940592080 -->\n",
       "<g class=\"node\" id=\"node29\">\n",
       "<title>140378940592080</title>\n",
       "<polygon fill=\"none\" points=\"5456.1372,-4316.5 5456.1372,-4362.5 5782.1372,-4362.5 5782.1372,-4316.5 5456.1372,-4316.5\" stroke=\"#000000\"/>\n",
       "<text fill=\"#000000\" font-family=\"Times,serif\" font-size=\"14.00\" text-anchor=\"middle\" x=\"5529.1372\" y=\"-4335.8\">block4_conv3: Conv2D</text>\n",
       "<polyline fill=\"none\" points=\"5602.1372,-4316.5 5602.1372,-4362.5 \" stroke=\"#000000\"/>\n",
       "<text fill=\"#000000\" font-family=\"Times,serif\" font-size=\"14.00\" text-anchor=\"middle\" x=\"5629.6372\" y=\"-4347.3\">input:</text>\n",
       "<polyline fill=\"none\" points=\"5602.1372,-4339.5 5657.1372,-4339.5 \" stroke=\"#000000\"/>\n",
       "<text fill=\"#000000\" font-family=\"Times,serif\" font-size=\"14.00\" text-anchor=\"middle\" x=\"5629.6372\" y=\"-4324.3\">output:</text>\n",
       "<polyline fill=\"none\" points=\"5657.1372,-4316.5 5657.1372,-4362.5 \" stroke=\"#000000\"/>\n",
       "<text fill=\"#000000\" font-family=\"Times,serif\" font-size=\"14.00\" text-anchor=\"middle\" x=\"5719.6372\" y=\"-4347.3\">(None, 32, 32, 512)</text>\n",
       "<polyline fill=\"none\" points=\"5657.1372,-4339.5 5782.1372,-4339.5 \" stroke=\"#000000\"/>\n",
       "<text fill=\"#000000\" font-family=\"Times,serif\" font-size=\"14.00\" text-anchor=\"middle\" x=\"5719.6372\" y=\"-4324.3\">(None, 32, 32, 512)</text>\n",
       "</g>\n",
       "<!-- 140378940519440&#45;&gt;140378940592080 -->\n",
       "<g class=\"edge\" id=\"edge28\">\n",
       "<title>140378940519440-&gt;140378940592080</title>\n",
       "<path d=\"M5619.1372,-4399.3799C5619.1372,-4391.1745 5619.1372,-4381.7679 5619.1372,-4372.8786\" fill=\"none\" stroke=\"#000000\"/>\n",
       "<polygon fill=\"#000000\" points=\"5622.6373,-4372.784 5619.1372,-4362.784 5615.6373,-4372.784 5622.6373,-4372.784\" stroke=\"#000000\"/>\n",
       "</g>\n",
       "<!-- 140378940306448 -->\n",
       "<g class=\"node\" id=\"node30\">\n",
       "<title>140378940306448</title>\n",
       "<polygon fill=\"none\" points=\"5448.6372,-4233.5 5448.6372,-4279.5 5789.6372,-4279.5 5789.6372,-4233.5 5448.6372,-4233.5\" stroke=\"#000000\"/>\n",
       "<text fill=\"#000000\" font-family=\"Times,serif\" font-size=\"14.00\" text-anchor=\"middle\" x=\"5529.1372\" y=\"-4252.8\">activation_269: Activation</text>\n",
       "<polyline fill=\"none\" points=\"5609.6372,-4233.5 5609.6372,-4279.5 \" stroke=\"#000000\"/>\n",
       "<text fill=\"#000000\" font-family=\"Times,serif\" font-size=\"14.00\" text-anchor=\"middle\" x=\"5637.1372\" y=\"-4264.3\">input:</text>\n",
       "<polyline fill=\"none\" points=\"5609.6372,-4256.5 5664.6372,-4256.5 \" stroke=\"#000000\"/>\n",
       "<text fill=\"#000000\" font-family=\"Times,serif\" font-size=\"14.00\" text-anchor=\"middle\" x=\"5637.1372\" y=\"-4241.3\">output:</text>\n",
       "<polyline fill=\"none\" points=\"5664.6372,-4233.5 5664.6372,-4279.5 \" stroke=\"#000000\"/>\n",
       "<text fill=\"#000000\" font-family=\"Times,serif\" font-size=\"14.00\" text-anchor=\"middle\" x=\"5727.1372\" y=\"-4264.3\">(None, 32, 32, 512)</text>\n",
       "<polyline fill=\"none\" points=\"5664.6372,-4256.5 5789.6372,-4256.5 \" stroke=\"#000000\"/>\n",
       "<text fill=\"#000000\" font-family=\"Times,serif\" font-size=\"14.00\" text-anchor=\"middle\" x=\"5727.1372\" y=\"-4241.3\">(None, 32, 32, 512)</text>\n",
       "</g>\n",
       "<!-- 140378940592080&#45;&gt;140378940306448 -->\n",
       "<g class=\"edge\" id=\"edge29\">\n",
       "<title>140378940592080-&gt;140378940306448</title>\n",
       "<path d=\"M5619.1372,-4316.3799C5619.1372,-4308.1745 5619.1372,-4298.7679 5619.1372,-4289.8786\" fill=\"none\" stroke=\"#000000\"/>\n",
       "<polygon fill=\"#000000\" points=\"5622.6373,-4289.784 5619.1372,-4279.784 5615.6373,-4289.784 5622.6373,-4289.784\" stroke=\"#000000\"/>\n",
       "</g>\n",
       "<!-- 140378940308944 -->\n",
       "<g class=\"node\" id=\"node31\">\n",
       "<title>140378940308944</title>\n",
       "<polygon fill=\"none\" points=\"5412.6372,-4150.5 5412.6372,-4196.5 5825.6372,-4196.5 5825.6372,-4150.5 5412.6372,-4150.5\" stroke=\"#000000\"/>\n",
       "<text fill=\"#000000\" font-family=\"Times,serif\" font-size=\"14.00\" text-anchor=\"middle\" x=\"5529.1372\" y=\"-4169.8\">block4_reduction_pool: MaxPooling2D</text>\n",
       "<polyline fill=\"none\" points=\"5645.6372,-4150.5 5645.6372,-4196.5 \" stroke=\"#000000\"/>\n",
       "<text fill=\"#000000\" font-family=\"Times,serif\" font-size=\"14.00\" text-anchor=\"middle\" x=\"5673.1372\" y=\"-4181.3\">input:</text>\n",
       "<polyline fill=\"none\" points=\"5645.6372,-4173.5 5700.6372,-4173.5 \" stroke=\"#000000\"/>\n",
       "<text fill=\"#000000\" font-family=\"Times,serif\" font-size=\"14.00\" text-anchor=\"middle\" x=\"5673.1372\" y=\"-4158.3\">output:</text>\n",
       "<polyline fill=\"none\" points=\"5700.6372,-4150.5 5700.6372,-4196.5 \" stroke=\"#000000\"/>\n",
       "<text fill=\"#000000\" font-family=\"Times,serif\" font-size=\"14.00\" text-anchor=\"middle\" x=\"5763.1372\" y=\"-4181.3\">(None, 32, 32, 512)</text>\n",
       "<polyline fill=\"none\" points=\"5700.6372,-4173.5 5825.6372,-4173.5 \" stroke=\"#000000\"/>\n",
       "<text fill=\"#000000\" font-family=\"Times,serif\" font-size=\"14.00\" text-anchor=\"middle\" x=\"5763.1372\" y=\"-4158.3\">(None, 16, 16, 512)</text>\n",
       "</g>\n",
       "<!-- 140378940306448&#45;&gt;140378940308944 -->\n",
       "<g class=\"edge\" id=\"edge30\">\n",
       "<title>140378940306448-&gt;140378940308944</title>\n",
       "<path d=\"M5619.1372,-4233.3799C5619.1372,-4225.1745 5619.1372,-4215.7679 5619.1372,-4206.8786\" fill=\"none\" stroke=\"#000000\"/>\n",
       "<polygon fill=\"#000000\" points=\"5622.6373,-4206.784 5619.1372,-4196.784 5615.6373,-4206.784 5622.6373,-4206.784\" stroke=\"#000000\"/>\n",
       "</g>\n",
       "<!-- 140378940308816 -->\n",
       "<g class=\"node\" id=\"node32\">\n",
       "<title>140378940308816</title>\n",
       "<polygon fill=\"none\" points=\"5448.6372,-4067.5 5448.6372,-4113.5 5789.6372,-4113.5 5789.6372,-4067.5 5448.6372,-4067.5\" stroke=\"#000000\"/>\n",
       "<text fill=\"#000000\" font-family=\"Times,serif\" font-size=\"14.00\" text-anchor=\"middle\" x=\"5529.1372\" y=\"-4086.8\">activation_270: Activation</text>\n",
       "<polyline fill=\"none\" points=\"5609.6372,-4067.5 5609.6372,-4113.5 \" stroke=\"#000000\"/>\n",
       "<text fill=\"#000000\" font-family=\"Times,serif\" font-size=\"14.00\" text-anchor=\"middle\" x=\"5637.1372\" y=\"-4098.3\">input:</text>\n",
       "<polyline fill=\"none\" points=\"5609.6372,-4090.5 5664.6372,-4090.5 \" stroke=\"#000000\"/>\n",
       "<text fill=\"#000000\" font-family=\"Times,serif\" font-size=\"14.00\" text-anchor=\"middle\" x=\"5637.1372\" y=\"-4075.3\">output:</text>\n",
       "<polyline fill=\"none\" points=\"5664.6372,-4067.5 5664.6372,-4113.5 \" stroke=\"#000000\"/>\n",
       "<text fill=\"#000000\" font-family=\"Times,serif\" font-size=\"14.00\" text-anchor=\"middle\" x=\"5727.1372\" y=\"-4098.3\">(None, 16, 16, 512)</text>\n",
       "<polyline fill=\"none\" points=\"5664.6372,-4090.5 5789.6372,-4090.5 \" stroke=\"#000000\"/>\n",
       "<text fill=\"#000000\" font-family=\"Times,serif\" font-size=\"14.00\" text-anchor=\"middle\" x=\"5727.1372\" y=\"-4075.3\">(None, 16, 16, 512)</text>\n",
       "</g>\n",
       "<!-- 140378940308944&#45;&gt;140378940308816 -->\n",
       "<g class=\"edge\" id=\"edge31\">\n",
       "<title>140378940308944-&gt;140378940308816</title>\n",
       "<path d=\"M5619.1372,-4150.3799C5619.1372,-4142.1745 5619.1372,-4132.7679 5619.1372,-4123.8786\" fill=\"none\" stroke=\"#000000\"/>\n",
       "<polygon fill=\"#000000\" points=\"5622.6373,-4123.784 5619.1372,-4113.784 5615.6373,-4123.784 5622.6373,-4123.784\" stroke=\"#000000\"/>\n",
       "</g>\n",
       "<!-- 140378940023440 -->\n",
       "<g class=\"node\" id=\"node33\">\n",
       "<title>140378940023440</title>\n",
       "<polygon fill=\"none\" points=\"5396.1372,-3984.5 5396.1372,-4030.5 5842.1372,-4030.5 5842.1372,-3984.5 5396.1372,-3984.5\" stroke=\"#000000\"/>\n",
       "<text fill=\"#000000\" font-family=\"Times,serif\" font-size=\"14.00\" text-anchor=\"middle\" x=\"5529.1372\" y=\"-4003.8\">batch_normalization_87: BatchNormalization</text>\n",
       "<polyline fill=\"none\" points=\"5662.1372,-3984.5 5662.1372,-4030.5 \" stroke=\"#000000\"/>\n",
       "<text fill=\"#000000\" font-family=\"Times,serif\" font-size=\"14.00\" text-anchor=\"middle\" x=\"5689.6372\" y=\"-4015.3\">input:</text>\n",
       "<polyline fill=\"none\" points=\"5662.1372,-4007.5 5717.1372,-4007.5 \" stroke=\"#000000\"/>\n",
       "<text fill=\"#000000\" font-family=\"Times,serif\" font-size=\"14.00\" text-anchor=\"middle\" x=\"5689.6372\" y=\"-3992.3\">output:</text>\n",
       "<polyline fill=\"none\" points=\"5717.1372,-3984.5 5717.1372,-4030.5 \" stroke=\"#000000\"/>\n",
       "<text fill=\"#000000\" font-family=\"Times,serif\" font-size=\"14.00\" text-anchor=\"middle\" x=\"5779.6372\" y=\"-4015.3\">(None, 16, 16, 512)</text>\n",
       "<polyline fill=\"none\" points=\"5717.1372,-4007.5 5842.1372,-4007.5 \" stroke=\"#000000\"/>\n",
       "<text fill=\"#000000\" font-family=\"Times,serif\" font-size=\"14.00\" text-anchor=\"middle\" x=\"5779.6372\" y=\"-3992.3\">(None, 16, 16, 512)</text>\n",
       "</g>\n",
       "<!-- 140378940308816&#45;&gt;140378940023440 -->\n",
       "<g class=\"edge\" id=\"edge32\">\n",
       "<title>140378940308816-&gt;140378940023440</title>\n",
       "<path d=\"M5619.1372,-4067.3799C5619.1372,-4059.1745 5619.1372,-4049.7679 5619.1372,-4040.8786\" fill=\"none\" stroke=\"#000000\"/>\n",
       "<polygon fill=\"#000000\" points=\"5622.6373,-4040.784 5619.1372,-4030.784 5615.6373,-4040.784 5622.6373,-4040.784\" stroke=\"#000000\"/>\n",
       "</g>\n",
       "<!-- 140378940026320 -->\n",
       "<g class=\"node\" id=\"node34\">\n",
       "<title>140378940026320</title>\n",
       "<polygon fill=\"none\" points=\"5456.1372,-3901.5 5456.1372,-3947.5 5782.1372,-3947.5 5782.1372,-3901.5 5456.1372,-3901.5\" stroke=\"#000000\"/>\n",
       "<text fill=\"#000000\" font-family=\"Times,serif\" font-size=\"14.00\" text-anchor=\"middle\" x=\"5529.1372\" y=\"-3920.8\">block5_conv1: Conv2D</text>\n",
       "<polyline fill=\"none\" points=\"5602.1372,-3901.5 5602.1372,-3947.5 \" stroke=\"#000000\"/>\n",
       "<text fill=\"#000000\" font-family=\"Times,serif\" font-size=\"14.00\" text-anchor=\"middle\" x=\"5629.6372\" y=\"-3932.3\">input:</text>\n",
       "<polyline fill=\"none\" points=\"5602.1372,-3924.5 5657.1372,-3924.5 \" stroke=\"#000000\"/>\n",
       "<text fill=\"#000000\" font-family=\"Times,serif\" font-size=\"14.00\" text-anchor=\"middle\" x=\"5629.6372\" y=\"-3909.3\">output:</text>\n",
       "<polyline fill=\"none\" points=\"5657.1372,-3901.5 5657.1372,-3947.5 \" stroke=\"#000000\"/>\n",
       "<text fill=\"#000000\" font-family=\"Times,serif\" font-size=\"14.00\" text-anchor=\"middle\" x=\"5719.6372\" y=\"-3932.3\">(None, 16, 16, 512)</text>\n",
       "<polyline fill=\"none\" points=\"5657.1372,-3924.5 5782.1372,-3924.5 \" stroke=\"#000000\"/>\n",
       "<text fill=\"#000000\" font-family=\"Times,serif\" font-size=\"14.00\" text-anchor=\"middle\" x=\"5719.6372\" y=\"-3909.3\">(None, 16, 16, 512)</text>\n",
       "</g>\n",
       "<!-- 140378940023440&#45;&gt;140378940026320 -->\n",
       "<g class=\"edge\" id=\"edge33\">\n",
       "<title>140378940023440-&gt;140378940026320</title>\n",
       "<path d=\"M5619.1372,-3984.3799C5619.1372,-3976.1745 5619.1372,-3966.7679 5619.1372,-3957.8786\" fill=\"none\" stroke=\"#000000\"/>\n",
       "<polygon fill=\"#000000\" points=\"5622.6373,-3957.784 5619.1372,-3947.784 5615.6373,-3957.784 5622.6373,-3957.784\" stroke=\"#000000\"/>\n",
       "</g>\n",
       "<!-- 140378939700624 -->\n",
       "<g class=\"node\" id=\"node35\">\n",
       "<title>140378939700624</title>\n",
       "<polygon fill=\"none\" points=\"5448.6372,-3818.5 5448.6372,-3864.5 5789.6372,-3864.5 5789.6372,-3818.5 5448.6372,-3818.5\" stroke=\"#000000\"/>\n",
       "<text fill=\"#000000\" font-family=\"Times,serif\" font-size=\"14.00\" text-anchor=\"middle\" x=\"5529.1372\" y=\"-3837.8\">activation_271: Activation</text>\n",
       "<polyline fill=\"none\" points=\"5609.6372,-3818.5 5609.6372,-3864.5 \" stroke=\"#000000\"/>\n",
       "<text fill=\"#000000\" font-family=\"Times,serif\" font-size=\"14.00\" text-anchor=\"middle\" x=\"5637.1372\" y=\"-3849.3\">input:</text>\n",
       "<polyline fill=\"none\" points=\"5609.6372,-3841.5 5664.6372,-3841.5 \" stroke=\"#000000\"/>\n",
       "<text fill=\"#000000\" font-family=\"Times,serif\" font-size=\"14.00\" text-anchor=\"middle\" x=\"5637.1372\" y=\"-3826.3\">output:</text>\n",
       "<polyline fill=\"none\" points=\"5664.6372,-3818.5 5664.6372,-3864.5 \" stroke=\"#000000\"/>\n",
       "<text fill=\"#000000\" font-family=\"Times,serif\" font-size=\"14.00\" text-anchor=\"middle\" x=\"5727.1372\" y=\"-3849.3\">(None, 16, 16, 512)</text>\n",
       "<polyline fill=\"none\" points=\"5664.6372,-3841.5 5789.6372,-3841.5 \" stroke=\"#000000\"/>\n",
       "<text fill=\"#000000\" font-family=\"Times,serif\" font-size=\"14.00\" text-anchor=\"middle\" x=\"5727.1372\" y=\"-3826.3\">(None, 16, 16, 512)</text>\n",
       "</g>\n",
       "<!-- 140378940026320&#45;&gt;140378939700624 -->\n",
       "<g class=\"edge\" id=\"edge34\">\n",
       "<title>140378940026320-&gt;140378939700624</title>\n",
       "<path d=\"M5619.1372,-3901.3799C5619.1372,-3893.1745 5619.1372,-3883.7679 5619.1372,-3874.8786\" fill=\"none\" stroke=\"#000000\"/>\n",
       "<polygon fill=\"#000000\" points=\"5622.6373,-3874.784 5619.1372,-3864.784 5615.6373,-3874.784 5622.6373,-3874.784\" stroke=\"#000000\"/>\n",
       "</g>\n",
       "<!-- 140378939700368 -->\n",
       "<g class=\"node\" id=\"node36\">\n",
       "<title>140378939700368</title>\n",
       "<polygon fill=\"none\" points=\"5456.1372,-3735.5 5456.1372,-3781.5 5782.1372,-3781.5 5782.1372,-3735.5 5456.1372,-3735.5\" stroke=\"#000000\"/>\n",
       "<text fill=\"#000000\" font-family=\"Times,serif\" font-size=\"14.00\" text-anchor=\"middle\" x=\"5529.1372\" y=\"-3754.8\">block5_conv2: Conv2D</text>\n",
       "<polyline fill=\"none\" points=\"5602.1372,-3735.5 5602.1372,-3781.5 \" stroke=\"#000000\"/>\n",
       "<text fill=\"#000000\" font-family=\"Times,serif\" font-size=\"14.00\" text-anchor=\"middle\" x=\"5629.6372\" y=\"-3766.3\">input:</text>\n",
       "<polyline fill=\"none\" points=\"5602.1372,-3758.5 5657.1372,-3758.5 \" stroke=\"#000000\"/>\n",
       "<text fill=\"#000000\" font-family=\"Times,serif\" font-size=\"14.00\" text-anchor=\"middle\" x=\"5629.6372\" y=\"-3743.3\">output:</text>\n",
       "<polyline fill=\"none\" points=\"5657.1372,-3735.5 5657.1372,-3781.5 \" stroke=\"#000000\"/>\n",
       "<text fill=\"#000000\" font-family=\"Times,serif\" font-size=\"14.00\" text-anchor=\"middle\" x=\"5719.6372\" y=\"-3766.3\">(None, 16, 16, 512)</text>\n",
       "<polyline fill=\"none\" points=\"5657.1372,-3758.5 5782.1372,-3758.5 \" stroke=\"#000000\"/>\n",
       "<text fill=\"#000000\" font-family=\"Times,serif\" font-size=\"14.00\" text-anchor=\"middle\" x=\"5719.6372\" y=\"-3743.3\">(None, 16, 16, 512)</text>\n",
       "</g>\n",
       "<!-- 140378939700624&#45;&gt;140378939700368 -->\n",
       "<g class=\"edge\" id=\"edge35\">\n",
       "<title>140378939700624-&gt;140378939700368</title>\n",
       "<path d=\"M5619.1372,-3818.3799C5619.1372,-3810.1745 5619.1372,-3800.7679 5619.1372,-3791.8786\" fill=\"none\" stroke=\"#000000\"/>\n",
       "<polygon fill=\"#000000\" points=\"5622.6373,-3791.784 5619.1372,-3781.784 5615.6373,-3791.784 5622.6373,-3791.784\" stroke=\"#000000\"/>\n",
       "</g>\n",
       "<!-- 140378939168272 -->\n",
       "<g class=\"node\" id=\"node37\">\n",
       "<title>140378939168272</title>\n",
       "<polygon fill=\"none\" points=\"5448.6372,-3652.5 5448.6372,-3698.5 5789.6372,-3698.5 5789.6372,-3652.5 5448.6372,-3652.5\" stroke=\"#000000\"/>\n",
       "<text fill=\"#000000\" font-family=\"Times,serif\" font-size=\"14.00\" text-anchor=\"middle\" x=\"5529.1372\" y=\"-3671.8\">activation_272: Activation</text>\n",
       "<polyline fill=\"none\" points=\"5609.6372,-3652.5 5609.6372,-3698.5 \" stroke=\"#000000\"/>\n",
       "<text fill=\"#000000\" font-family=\"Times,serif\" font-size=\"14.00\" text-anchor=\"middle\" x=\"5637.1372\" y=\"-3683.3\">input:</text>\n",
       "<polyline fill=\"none\" points=\"5609.6372,-3675.5 5664.6372,-3675.5 \" stroke=\"#000000\"/>\n",
       "<text fill=\"#000000\" font-family=\"Times,serif\" font-size=\"14.00\" text-anchor=\"middle\" x=\"5637.1372\" y=\"-3660.3\">output:</text>\n",
       "<polyline fill=\"none\" points=\"5664.6372,-3652.5 5664.6372,-3698.5 \" stroke=\"#000000\"/>\n",
       "<text fill=\"#000000\" font-family=\"Times,serif\" font-size=\"14.00\" text-anchor=\"middle\" x=\"5727.1372\" y=\"-3683.3\">(None, 16, 16, 512)</text>\n",
       "<polyline fill=\"none\" points=\"5664.6372,-3675.5 5789.6372,-3675.5 \" stroke=\"#000000\"/>\n",
       "<text fill=\"#000000\" font-family=\"Times,serif\" font-size=\"14.00\" text-anchor=\"middle\" x=\"5727.1372\" y=\"-3660.3\">(None, 16, 16, 512)</text>\n",
       "</g>\n",
       "<!-- 140378939700368&#45;&gt;140378939168272 -->\n",
       "<g class=\"edge\" id=\"edge36\">\n",
       "<title>140378939700368-&gt;140378939168272</title>\n",
       "<path d=\"M5619.1372,-3735.3799C5619.1372,-3727.1745 5619.1372,-3717.7679 5619.1372,-3708.8786\" fill=\"none\" stroke=\"#000000\"/>\n",
       "<polygon fill=\"#000000\" points=\"5622.6373,-3708.784 5619.1372,-3698.784 5615.6373,-3708.784 5622.6373,-3708.784\" stroke=\"#000000\"/>\n",
       "</g>\n",
       "<!-- 140378939260368 -->\n",
       "<g class=\"node\" id=\"node38\">\n",
       "<title>140378939260368</title>\n",
       "<polygon fill=\"none\" points=\"5456.1372,-3569.5 5456.1372,-3615.5 5782.1372,-3615.5 5782.1372,-3569.5 5456.1372,-3569.5\" stroke=\"#000000\"/>\n",
       "<text fill=\"#000000\" font-family=\"Times,serif\" font-size=\"14.00\" text-anchor=\"middle\" x=\"5529.1372\" y=\"-3588.8\">block5_conv3: Conv2D</text>\n",
       "<polyline fill=\"none\" points=\"5602.1372,-3569.5 5602.1372,-3615.5 \" stroke=\"#000000\"/>\n",
       "<text fill=\"#000000\" font-family=\"Times,serif\" font-size=\"14.00\" text-anchor=\"middle\" x=\"5629.6372\" y=\"-3600.3\">input:</text>\n",
       "<polyline fill=\"none\" points=\"5602.1372,-3592.5 5657.1372,-3592.5 \" stroke=\"#000000\"/>\n",
       "<text fill=\"#000000\" font-family=\"Times,serif\" font-size=\"14.00\" text-anchor=\"middle\" x=\"5629.6372\" y=\"-3577.3\">output:</text>\n",
       "<polyline fill=\"none\" points=\"5657.1372,-3569.5 5657.1372,-3615.5 \" stroke=\"#000000\"/>\n",
       "<text fill=\"#000000\" font-family=\"Times,serif\" font-size=\"14.00\" text-anchor=\"middle\" x=\"5719.6372\" y=\"-3600.3\">(None, 16, 16, 512)</text>\n",
       "<polyline fill=\"none\" points=\"5657.1372,-3592.5 5782.1372,-3592.5 \" stroke=\"#000000\"/>\n",
       "<text fill=\"#000000\" font-family=\"Times,serif\" font-size=\"14.00\" text-anchor=\"middle\" x=\"5719.6372\" y=\"-3577.3\">(None, 16, 16, 512)</text>\n",
       "</g>\n",
       "<!-- 140378939168272&#45;&gt;140378939260368 -->\n",
       "<g class=\"edge\" id=\"edge37\">\n",
       "<title>140378939168272-&gt;140378939260368</title>\n",
       "<path d=\"M5619.1372,-3652.3799C5619.1372,-3644.1745 5619.1372,-3634.7679 5619.1372,-3625.8786\" fill=\"none\" stroke=\"#000000\"/>\n",
       "<polygon fill=\"#000000\" points=\"5622.6373,-3625.784 5619.1372,-3615.784 5615.6373,-3625.784 5622.6373,-3625.784\" stroke=\"#000000\"/>\n",
       "</g>\n",
       "<!-- 140378938936720 -->\n",
       "<g class=\"node\" id=\"node39\">\n",
       "<title>140378938936720</title>\n",
       "<polygon fill=\"none\" points=\"5448.6372,-3486.5 5448.6372,-3532.5 5789.6372,-3532.5 5789.6372,-3486.5 5448.6372,-3486.5\" stroke=\"#000000\"/>\n",
       "<text fill=\"#000000\" font-family=\"Times,serif\" font-size=\"14.00\" text-anchor=\"middle\" x=\"5529.1372\" y=\"-3505.8\">activation_273: Activation</text>\n",
       "<polyline fill=\"none\" points=\"5609.6372,-3486.5 5609.6372,-3532.5 \" stroke=\"#000000\"/>\n",
       "<text fill=\"#000000\" font-family=\"Times,serif\" font-size=\"14.00\" text-anchor=\"middle\" x=\"5637.1372\" y=\"-3517.3\">input:</text>\n",
       "<polyline fill=\"none\" points=\"5609.6372,-3509.5 5664.6372,-3509.5 \" stroke=\"#000000\"/>\n",
       "<text fill=\"#000000\" font-family=\"Times,serif\" font-size=\"14.00\" text-anchor=\"middle\" x=\"5637.1372\" y=\"-3494.3\">output:</text>\n",
       "<polyline fill=\"none\" points=\"5664.6372,-3486.5 5664.6372,-3532.5 \" stroke=\"#000000\"/>\n",
       "<text fill=\"#000000\" font-family=\"Times,serif\" font-size=\"14.00\" text-anchor=\"middle\" x=\"5727.1372\" y=\"-3517.3\">(None, 16, 16, 512)</text>\n",
       "<polyline fill=\"none\" points=\"5664.6372,-3509.5 5789.6372,-3509.5 \" stroke=\"#000000\"/>\n",
       "<text fill=\"#000000\" font-family=\"Times,serif\" font-size=\"14.00\" text-anchor=\"middle\" x=\"5727.1372\" y=\"-3494.3\">(None, 16, 16, 512)</text>\n",
       "</g>\n",
       "<!-- 140378939260368&#45;&gt;140378938936720 -->\n",
       "<g class=\"edge\" id=\"edge38\">\n",
       "<title>140378939260368-&gt;140378938936720</title>\n",
       "<path d=\"M5619.1372,-3569.3799C5619.1372,-3561.1745 5619.1372,-3551.7679 5619.1372,-3542.8786\" fill=\"none\" stroke=\"#000000\"/>\n",
       "<polygon fill=\"#000000\" points=\"5622.6373,-3542.784 5619.1372,-3532.784 5615.6373,-3542.784 5622.6373,-3542.784\" stroke=\"#000000\"/>\n",
       "</g>\n",
       "<!-- 140378938936976 -->\n",
       "<g class=\"node\" id=\"node40\">\n",
       "<title>140378938936976</title>\n",
       "<polygon fill=\"none\" points=\"5412.6372,-3403.5 5412.6372,-3449.5 5825.6372,-3449.5 5825.6372,-3403.5 5412.6372,-3403.5\" stroke=\"#000000\"/>\n",
       "<text fill=\"#000000\" font-family=\"Times,serif\" font-size=\"14.00\" text-anchor=\"middle\" x=\"5529.1372\" y=\"-3422.8\">block5_reduction_pool: MaxPooling2D</text>\n",
       "<polyline fill=\"none\" points=\"5645.6372,-3403.5 5645.6372,-3449.5 \" stroke=\"#000000\"/>\n",
       "<text fill=\"#000000\" font-family=\"Times,serif\" font-size=\"14.00\" text-anchor=\"middle\" x=\"5673.1372\" y=\"-3434.3\">input:</text>\n",
       "<polyline fill=\"none\" points=\"5645.6372,-3426.5 5700.6372,-3426.5 \" stroke=\"#000000\"/>\n",
       "<text fill=\"#000000\" font-family=\"Times,serif\" font-size=\"14.00\" text-anchor=\"middle\" x=\"5673.1372\" y=\"-3411.3\">output:</text>\n",
       "<polyline fill=\"none\" points=\"5700.6372,-3403.5 5700.6372,-3449.5 \" stroke=\"#000000\"/>\n",
       "<text fill=\"#000000\" font-family=\"Times,serif\" font-size=\"14.00\" text-anchor=\"middle\" x=\"5763.1372\" y=\"-3434.3\">(None, 16, 16, 512)</text>\n",
       "<polyline fill=\"none\" points=\"5700.6372,-3426.5 5825.6372,-3426.5 \" stroke=\"#000000\"/>\n",
       "<text fill=\"#000000\" font-family=\"Times,serif\" font-size=\"14.00\" text-anchor=\"middle\" x=\"5763.1372\" y=\"-3411.3\">(None, 8, 8, 512)</text>\n",
       "</g>\n",
       "<!-- 140378938936720&#45;&gt;140378938936976 -->\n",
       "<g class=\"edge\" id=\"edge39\">\n",
       "<title>140378938936720-&gt;140378938936976</title>\n",
       "<path d=\"M5619.1372,-3486.3799C5619.1372,-3478.1745 5619.1372,-3468.7679 5619.1372,-3459.8786\" fill=\"none\" stroke=\"#000000\"/>\n",
       "<polygon fill=\"#000000\" points=\"5622.6373,-3459.784 5619.1372,-3449.784 5615.6373,-3459.784 5622.6373,-3459.784\" stroke=\"#000000\"/>\n",
       "</g>\n",
       "<!-- 140378938546896 -->\n",
       "<g class=\"node\" id=\"node41\">\n",
       "<title>140378938546896</title>\n",
       "<polygon fill=\"none\" points=\"5433.1372,-3320.5 5433.1372,-3366.5 5805.1372,-3366.5 5805.1372,-3320.5 5433.1372,-3320.5\" stroke=\"#000000\"/>\n",
       "<text fill=\"#000000\" font-family=\"Times,serif\" font-size=\"14.00\" text-anchor=\"middle\" x=\"5536.1372\" y=\"-3339.8\">image_output_features: Activation</text>\n",
       "<polyline fill=\"none\" points=\"5639.1372,-3320.5 5639.1372,-3366.5 \" stroke=\"#000000\"/>\n",
       "<text fill=\"#000000\" font-family=\"Times,serif\" font-size=\"14.00\" text-anchor=\"middle\" x=\"5666.6372\" y=\"-3351.3\">input:</text>\n",
       "<polyline fill=\"none\" points=\"5639.1372,-3343.5 5694.1372,-3343.5 \" stroke=\"#000000\"/>\n",
       "<text fill=\"#000000\" font-family=\"Times,serif\" font-size=\"14.00\" text-anchor=\"middle\" x=\"5666.6372\" y=\"-3328.3\">output:</text>\n",
       "<polyline fill=\"none\" points=\"5694.1372,-3320.5 5694.1372,-3366.5 \" stroke=\"#000000\"/>\n",
       "<text fill=\"#000000\" font-family=\"Times,serif\" font-size=\"14.00\" text-anchor=\"middle\" x=\"5749.6372\" y=\"-3351.3\">(None, 8, 8, 512)</text>\n",
       "<polyline fill=\"none\" points=\"5694.1372,-3343.5 5805.1372,-3343.5 \" stroke=\"#000000\"/>\n",
       "<text fill=\"#000000\" font-family=\"Times,serif\" font-size=\"14.00\" text-anchor=\"middle\" x=\"5749.6372\" y=\"-3328.3\">(None, 8, 8, 512)</text>\n",
       "</g>\n",
       "<!-- 140378938936976&#45;&gt;140378938546896 -->\n",
       "<g class=\"edge\" id=\"edge40\">\n",
       "<title>140378938936976-&gt;140378938546896</title>\n",
       "<path d=\"M5619.1372,-3403.3799C5619.1372,-3395.1745 5619.1372,-3385.7679 5619.1372,-3376.8786\" fill=\"none\" stroke=\"#000000\"/>\n",
       "<polygon fill=\"#000000\" points=\"5622.6373,-3376.784 5619.1372,-3366.784 5615.6373,-3376.784 5622.6373,-3376.784\" stroke=\"#000000\"/>\n",
       "</g>\n",
       "<!-- 140378938747920 -->\n",
       "<g class=\"node\" id=\"node42\">\n",
       "<title>140378938747920</title>\n",
       "<polygon fill=\"none\" points=\"5171.6372,-3237.5 5171.6372,-3283.5 5660.6372,-3283.5 5660.6372,-3237.5 5171.6372,-3237.5\" stroke=\"#000000\"/>\n",
       "<text fill=\"#000000\" font-family=\"Times,serif\" font-size=\"14.00\" text-anchor=\"middle\" x=\"5333.1372\" y=\"-3256.8\">global_average_pooling2d_3: GlobalAveragePooling2D</text>\n",
       "<polyline fill=\"none\" points=\"5494.6372,-3237.5 5494.6372,-3283.5 \" stroke=\"#000000\"/>\n",
       "<text fill=\"#000000\" font-family=\"Times,serif\" font-size=\"14.00\" text-anchor=\"middle\" x=\"5522.1372\" y=\"-3268.3\">input:</text>\n",
       "<polyline fill=\"none\" points=\"5494.6372,-3260.5 5549.6372,-3260.5 \" stroke=\"#000000\"/>\n",
       "<text fill=\"#000000\" font-family=\"Times,serif\" font-size=\"14.00\" text-anchor=\"middle\" x=\"5522.1372\" y=\"-3245.3\">output:</text>\n",
       "<polyline fill=\"none\" points=\"5549.6372,-3237.5 5549.6372,-3283.5 \" stroke=\"#000000\"/>\n",
       "<text fill=\"#000000\" font-family=\"Times,serif\" font-size=\"14.00\" text-anchor=\"middle\" x=\"5605.1372\" y=\"-3268.3\">(None, 8, 8, 512)</text>\n",
       "<polyline fill=\"none\" points=\"5549.6372,-3260.5 5660.6372,-3260.5 \" stroke=\"#000000\"/>\n",
       "<text fill=\"#000000\" font-family=\"Times,serif\" font-size=\"14.00\" text-anchor=\"middle\" x=\"5605.1372\" y=\"-3245.3\">(None, 512)</text>\n",
       "</g>\n",
       "<!-- 140378938546896&#45;&gt;140378938747920 -->\n",
       "<g class=\"edge\" id=\"edge41\">\n",
       "<title>140378938546896-&gt;140378938747920</title>\n",
       "<path d=\"M5562.8599,-3320.4901C5537.7791,-3310.2353 5508.0674,-3298.0872 5481.9629,-3287.414\" fill=\"none\" stroke=\"#000000\"/>\n",
       "<polygon fill=\"#000000\" points=\"5483.1047,-3284.0996 5472.5239,-3283.5547 5480.4555,-3290.579 5483.1047,-3284.0996\" stroke=\"#000000\"/>\n",
       "</g>\n",
       "<!-- 140378938624912 -->\n",
       "<g class=\"node\" id=\"node43\">\n",
       "<title>140378938624912</title>\n",
       "<polygon fill=\"none\" points=\"5678.6372,-3237.5 5678.6372,-3283.5 5967.6372,-3283.5 5967.6372,-3237.5 5678.6372,-3237.5\" stroke=\"#000000\"/>\n",
       "<text fill=\"#000000\" font-family=\"Times,serif\" font-size=\"14.00\" text-anchor=\"middle\" x=\"5740.1372\" y=\"-3256.8\">lambda_3: Lambda</text>\n",
       "<polyline fill=\"none\" points=\"5801.6372,-3237.5 5801.6372,-3283.5 \" stroke=\"#000000\"/>\n",
       "<text fill=\"#000000\" font-family=\"Times,serif\" font-size=\"14.00\" text-anchor=\"middle\" x=\"5829.1372\" y=\"-3268.3\">input:</text>\n",
       "<polyline fill=\"none\" points=\"5801.6372,-3260.5 5856.6372,-3260.5 \" stroke=\"#000000\"/>\n",
       "<text fill=\"#000000\" font-family=\"Times,serif\" font-size=\"14.00\" text-anchor=\"middle\" x=\"5829.1372\" y=\"-3245.3\">output:</text>\n",
       "<polyline fill=\"none\" points=\"5856.6372,-3237.5 5856.6372,-3283.5 \" stroke=\"#000000\"/>\n",
       "<text fill=\"#000000\" font-family=\"Times,serif\" font-size=\"14.00\" text-anchor=\"middle\" x=\"5912.1372\" y=\"-3268.3\">(None, 8, 8, 512)</text>\n",
       "<polyline fill=\"none\" points=\"5856.6372,-3260.5 5967.6372,-3260.5 \" stroke=\"#000000\"/>\n",
       "<text fill=\"#000000\" font-family=\"Times,serif\" font-size=\"14.00\" text-anchor=\"middle\" x=\"5912.1372\" y=\"-3245.3\">(None, 64, 512)</text>\n",
       "</g>\n",
       "<!-- 140378938546896&#45;&gt;140378938624912 -->\n",
       "<g class=\"edge\" id=\"edge42\">\n",
       "<title>140378938546896-&gt;140378938624912</title>\n",
       "<path d=\"M5675.6917,-3320.4901C5700.8961,-3310.2353 5730.7541,-3298.0872 5756.9872,-3287.414\" fill=\"none\" stroke=\"#000000\"/>\n",
       "<polygon fill=\"#000000\" points=\"5758.5291,-3290.5653 5766.4727,-3283.5547 5755.891,-3284.0814 5758.5291,-3290.5653\" stroke=\"#000000\"/>\n",
       "</g>\n",
       "<!-- 140378938421776 -->\n",
       "<g class=\"node\" id=\"node44\">\n",
       "<title>140378938421776</title>\n",
       "<polygon fill=\"none\" points=\"4921.1372,-3154.5 4921.1372,-3200.5 5257.1372,-3200.5 5257.1372,-3154.5 4921.1372,-3154.5\" stroke=\"#000000\"/>\n",
       "<text fill=\"#000000\" font-family=\"Times,serif\" font-size=\"14.00\" text-anchor=\"middle\" x=\"4968.6372\" y=\"-3173.8\">a10: Attention</text>\n",
       "<polyline fill=\"none\" points=\"5016.1372,-3154.5 5016.1372,-3200.5 \" stroke=\"#000000\"/>\n",
       "<text fill=\"#000000\" font-family=\"Times,serif\" font-size=\"14.00\" text-anchor=\"middle\" x=\"5043.6372\" y=\"-3185.3\">input:</text>\n",
       "<polyline fill=\"none\" points=\"5016.1372,-3177.5 5071.1372,-3177.5 \" stroke=\"#000000\"/>\n",
       "<text fill=\"#000000\" font-family=\"Times,serif\" font-size=\"14.00\" text-anchor=\"middle\" x=\"5043.6372\" y=\"-3162.3\">output:</text>\n",
       "<polyline fill=\"none\" points=\"5071.1372,-3154.5 5071.1372,-3200.5 \" stroke=\"#000000\"/>\n",
       "<text fill=\"#000000\" font-family=\"Times,serif\" font-size=\"14.00\" text-anchor=\"middle\" x=\"5164.1372\" y=\"-3185.3\">[(None, 512), (None, 64, 512)]</text>\n",
       "<polyline fill=\"none\" points=\"5071.1372,-3177.5 5257.1372,-3177.5 \" stroke=\"#000000\"/>\n",
       "<text fill=\"#000000\" font-family=\"Times,serif\" font-size=\"14.00\" text-anchor=\"middle\" x=\"5164.1372\" y=\"-3162.3\">[(None, 1, 512), (1, 64)]</text>\n",
       "</g>\n",
       "<!-- 140378938747920&#45;&gt;140378938421776 -->\n",
       "<g class=\"edge\" id=\"edge43\">\n",
       "<title>140378938747920-&gt;140378938421776</title>\n",
       "<path d=\"M5325.4837,-3237.4901C5283.3105,-3226.7856 5233.0092,-3214.018 5189.6734,-3203.0184\" fill=\"none\" stroke=\"#000000\"/>\n",
       "<polygon fill=\"#000000\" points=\"5190.5208,-3199.6225 5179.967,-3200.5547 5188.7986,-3206.4074 5190.5208,-3199.6225\" stroke=\"#000000\"/>\n",
       "</g>\n",
       "<!-- 140378938024912 -->\n",
       "<g class=\"node\" id=\"node45\">\n",
       "<title>140378938024912</title>\n",
       "<polygon fill=\"none\" points=\"5275.1372,-3154.5 5275.1372,-3200.5 5611.1372,-3200.5 5611.1372,-3154.5 5275.1372,-3154.5\" stroke=\"#000000\"/>\n",
       "<text fill=\"#000000\" font-family=\"Times,serif\" font-size=\"14.00\" text-anchor=\"middle\" x=\"5322.6372\" y=\"-3173.8\">a11: Attention</text>\n",
       "<polyline fill=\"none\" points=\"5370.1372,-3154.5 5370.1372,-3200.5 \" stroke=\"#000000\"/>\n",
       "<text fill=\"#000000\" font-family=\"Times,serif\" font-size=\"14.00\" text-anchor=\"middle\" x=\"5397.6372\" y=\"-3185.3\">input:</text>\n",
       "<polyline fill=\"none\" points=\"5370.1372,-3177.5 5425.1372,-3177.5 \" stroke=\"#000000\"/>\n",
       "<text fill=\"#000000\" font-family=\"Times,serif\" font-size=\"14.00\" text-anchor=\"middle\" x=\"5397.6372\" y=\"-3162.3\">output:</text>\n",
       "<polyline fill=\"none\" points=\"5425.1372,-3154.5 5425.1372,-3200.5 \" stroke=\"#000000\"/>\n",
       "<text fill=\"#000000\" font-family=\"Times,serif\" font-size=\"14.00\" text-anchor=\"middle\" x=\"5518.1372\" y=\"-3185.3\">[(None, 512), (None, 64, 512)]</text>\n",
       "<polyline fill=\"none\" points=\"5425.1372,-3177.5 5611.1372,-3177.5 \" stroke=\"#000000\"/>\n",
       "<text fill=\"#000000\" font-family=\"Times,serif\" font-size=\"14.00\" text-anchor=\"middle\" x=\"5518.1372\" y=\"-3162.3\">[(None, 1, 512), (1, 64)]</text>\n",
       "</g>\n",
       "<!-- 140378938747920&#45;&gt;140378938024912 -->\n",
       "<g class=\"edge\" id=\"edge45\">\n",
       "<title>140378938747920-&gt;140378938024912</title>\n",
       "<path d=\"M5423.6582,-3237.3799C5426.3854,-3228.9962 5429.5206,-3219.3584 5432.4674,-3210.2996\" fill=\"none\" stroke=\"#000000\"/>\n",
       "<polygon fill=\"#000000\" points=\"5435.7977,-3211.3762 5435.5629,-3200.784 5429.141,-3209.2108 5435.7977,-3211.3762\" stroke=\"#000000\"/>\n",
       "</g>\n",
       "<!-- 140378944485776 -->\n",
       "<g class=\"node\" id=\"node46\">\n",
       "<title>140378944485776</title>\n",
       "<polygon fill=\"none\" points=\"5629.1372,-3154.5 5629.1372,-3200.5 5965.1372,-3200.5 5965.1372,-3154.5 5629.1372,-3154.5\" stroke=\"#000000\"/>\n",
       "<text fill=\"#000000\" font-family=\"Times,serif\" font-size=\"14.00\" text-anchor=\"middle\" x=\"5676.6372\" y=\"-3173.8\">a12: Attention</text>\n",
       "<polyline fill=\"none\" points=\"5724.1372,-3154.5 5724.1372,-3200.5 \" stroke=\"#000000\"/>\n",
       "<text fill=\"#000000\" font-family=\"Times,serif\" font-size=\"14.00\" text-anchor=\"middle\" x=\"5751.6372\" y=\"-3185.3\">input:</text>\n",
       "<polyline fill=\"none\" points=\"5724.1372,-3177.5 5779.1372,-3177.5 \" stroke=\"#000000\"/>\n",
       "<text fill=\"#000000\" font-family=\"Times,serif\" font-size=\"14.00\" text-anchor=\"middle\" x=\"5751.6372\" y=\"-3162.3\">output:</text>\n",
       "<polyline fill=\"none\" points=\"5779.1372,-3154.5 5779.1372,-3200.5 \" stroke=\"#000000\"/>\n",
       "<text fill=\"#000000\" font-family=\"Times,serif\" font-size=\"14.00\" text-anchor=\"middle\" x=\"5872.1372\" y=\"-3185.3\">[(None, 512), (None, 64, 512)]</text>\n",
       "<polyline fill=\"none\" points=\"5779.1372,-3177.5 5965.1372,-3177.5 \" stroke=\"#000000\"/>\n",
       "<text fill=\"#000000\" font-family=\"Times,serif\" font-size=\"14.00\" text-anchor=\"middle\" x=\"5872.1372\" y=\"-3162.3\">[(None, 1, 512), (1, 64)]</text>\n",
       "</g>\n",
       "<!-- 140378938747920&#45;&gt;140378944485776 -->\n",
       "<g class=\"edge\" id=\"edge47\">\n",
       "<title>140378938747920-&gt;140378944485776</title>\n",
       "<path d=\"M5521.761,-3237.4901C5571.3115,-3226.6956 5630.4921,-3213.8033 5681.2698,-3202.7415\" fill=\"none\" stroke=\"#000000\"/>\n",
       "<polygon fill=\"#000000\" points=\"5682.2821,-3206.1031 5691.3079,-3200.5547 5680.7921,-3199.2635 5682.2821,-3206.1031\" stroke=\"#000000\"/>\n",
       "</g>\n",
       "<!-- 140378943977232 -->\n",
       "<g class=\"node\" id=\"node47\">\n",
       "<title>140378943977232</title>\n",
       "<polygon fill=\"none\" points=\"5983.1372,-3154.5 5983.1372,-3200.5 6319.1372,-3200.5 6319.1372,-3154.5 5983.1372,-3154.5\" stroke=\"#000000\"/>\n",
       "<text fill=\"#000000\" font-family=\"Times,serif\" font-size=\"14.00\" text-anchor=\"middle\" x=\"6030.6372\" y=\"-3173.8\">a13: Attention</text>\n",
       "<polyline fill=\"none\" points=\"6078.1372,-3154.5 6078.1372,-3200.5 \" stroke=\"#000000\"/>\n",
       "<text fill=\"#000000\" font-family=\"Times,serif\" font-size=\"14.00\" text-anchor=\"middle\" x=\"6105.6372\" y=\"-3185.3\">input:</text>\n",
       "<polyline fill=\"none\" points=\"6078.1372,-3177.5 6133.1372,-3177.5 \" stroke=\"#000000\"/>\n",
       "<text fill=\"#000000\" font-family=\"Times,serif\" font-size=\"14.00\" text-anchor=\"middle\" x=\"6105.6372\" y=\"-3162.3\">output:</text>\n",
       "<polyline fill=\"none\" points=\"6133.1372,-3154.5 6133.1372,-3200.5 \" stroke=\"#000000\"/>\n",
       "<text fill=\"#000000\" font-family=\"Times,serif\" font-size=\"14.00\" text-anchor=\"middle\" x=\"6226.1372\" y=\"-3185.3\">[(None, 512), (None, 64, 512)]</text>\n",
       "<polyline fill=\"none\" points=\"6133.1372,-3177.5 6319.1372,-3177.5 \" stroke=\"#000000\"/>\n",
       "<text fill=\"#000000\" font-family=\"Times,serif\" font-size=\"14.00\" text-anchor=\"middle\" x=\"6226.1372\" y=\"-3162.3\">[(None, 1, 512), (1, 64)]</text>\n",
       "</g>\n",
       "<!-- 140378938747920&#45;&gt;140378943977232 -->\n",
       "<g class=\"edge\" id=\"edge49\">\n",
       "<title>140378938747920-&gt;140378943977232</title>\n",
       "<path d=\"M5644.6756,-3237.4735C5742.8549,-3227.2448 5859.1233,-3214.6859 5973.0303,-3201.1206\" fill=\"none\" stroke=\"#000000\"/>\n",
       "<polygon fill=\"#000000\" points=\"5973.4691,-3204.5932 5982.9834,-3199.932 5972.6389,-3197.6425 5973.4691,-3204.5932\" stroke=\"#000000\"/>\n",
       "</g>\n",
       "<!-- 140378933623504 -->\n",
       "<g class=\"node\" id=\"node48\">\n",
       "<title>140378933623504</title>\n",
       "<polygon fill=\"none\" points=\"6337.1372,-3154.5 6337.1372,-3200.5 6673.1372,-3200.5 6673.1372,-3154.5 6337.1372,-3154.5\" stroke=\"#000000\"/>\n",
       "<text fill=\"#000000\" font-family=\"Times,serif\" font-size=\"14.00\" text-anchor=\"middle\" x=\"6384.6372\" y=\"-3173.8\">a14: Attention</text>\n",
       "<polyline fill=\"none\" points=\"6432.1372,-3154.5 6432.1372,-3200.5 \" stroke=\"#000000\"/>\n",
       "<text fill=\"#000000\" font-family=\"Times,serif\" font-size=\"14.00\" text-anchor=\"middle\" x=\"6459.6372\" y=\"-3185.3\">input:</text>\n",
       "<polyline fill=\"none\" points=\"6432.1372,-3177.5 6487.1372,-3177.5 \" stroke=\"#000000\"/>\n",
       "<text fill=\"#000000\" font-family=\"Times,serif\" font-size=\"14.00\" text-anchor=\"middle\" x=\"6459.6372\" y=\"-3162.3\">output:</text>\n",
       "<polyline fill=\"none\" points=\"6487.1372,-3154.5 6487.1372,-3200.5 \" stroke=\"#000000\"/>\n",
       "<text fill=\"#000000\" font-family=\"Times,serif\" font-size=\"14.00\" text-anchor=\"middle\" x=\"6580.1372\" y=\"-3185.3\">[(None, 512), (None, 64, 512)]</text>\n",
       "<polyline fill=\"none\" points=\"6487.1372,-3177.5 6673.1372,-3177.5 \" stroke=\"#000000\"/>\n",
       "<text fill=\"#000000\" font-family=\"Times,serif\" font-size=\"14.00\" text-anchor=\"middle\" x=\"6580.1372\" y=\"-3162.3\">[(None, 1, 512), (1, 64)]</text>\n",
       "</g>\n",
       "<!-- 140378938747920&#45;&gt;140378933623504 -->\n",
       "<g class=\"edge\" id=\"edge51\">\n",
       "<title>140378938747920-&gt;140378933623504</title>\n",
       "<path d=\"M5660.8032,-3237.6975C5663.9331,-3237.4602 5667.0456,-3237.2275 5670.1372,-3237 5958.9488,-3215.7466 6034.8336,-3228.0111 6326.9673,-3201.0751\" fill=\"none\" stroke=\"#000000\"/>\n",
       "<polygon fill=\"#000000\" points=\"6327.3727,-3204.5526 6337.0058,-3200.142 6326.7248,-3197.5826 6327.3727,-3204.5526\" stroke=\"#000000\"/>\n",
       "</g>\n",
       "<!-- 140378931480720 -->\n",
       "<g class=\"node\" id=\"node49\">\n",
       "<title>140378931480720</title>\n",
       "<polygon fill=\"none\" points=\"6691.1372,-3154.5 6691.1372,-3200.5 7027.1372,-3200.5 7027.1372,-3154.5 6691.1372,-3154.5\" stroke=\"#000000\"/>\n",
       "<text fill=\"#000000\" font-family=\"Times,serif\" font-size=\"14.00\" text-anchor=\"middle\" x=\"6738.6372\" y=\"-3173.8\">a15: Attention</text>\n",
       "<polyline fill=\"none\" points=\"6786.1372,-3154.5 6786.1372,-3200.5 \" stroke=\"#000000\"/>\n",
       "<text fill=\"#000000\" font-family=\"Times,serif\" font-size=\"14.00\" text-anchor=\"middle\" x=\"6813.6372\" y=\"-3185.3\">input:</text>\n",
       "<polyline fill=\"none\" points=\"6786.1372,-3177.5 6841.1372,-3177.5 \" stroke=\"#000000\"/>\n",
       "<text fill=\"#000000\" font-family=\"Times,serif\" font-size=\"14.00\" text-anchor=\"middle\" x=\"6813.6372\" y=\"-3162.3\">output:</text>\n",
       "<polyline fill=\"none\" points=\"6841.1372,-3154.5 6841.1372,-3200.5 \" stroke=\"#000000\"/>\n",
       "<text fill=\"#000000\" font-family=\"Times,serif\" font-size=\"14.00\" text-anchor=\"middle\" x=\"6934.1372\" y=\"-3185.3\">[(None, 512), (None, 64, 512)]</text>\n",
       "<polyline fill=\"none\" points=\"6841.1372,-3177.5 7027.1372,-3177.5 \" stroke=\"#000000\"/>\n",
       "<text fill=\"#000000\" font-family=\"Times,serif\" font-size=\"14.00\" text-anchor=\"middle\" x=\"6934.1372\" y=\"-3162.3\">[(None, 1, 512), (1, 64)]</text>\n",
       "</g>\n",
       "<!-- 140378938747920&#45;&gt;140378931480720 -->\n",
       "<g class=\"edge\" id=\"edge53\">\n",
       "<title>140378938747920-&gt;140378931480720</title>\n",
       "<path d=\"M5660.7975,-3237.6136C5663.9291,-3237.4027 5667.0435,-3237.198 5670.1372,-3237 6115.9911,-3208.4677 6231.9601,-3238.2187 6681.0183,-3201.0535\" fill=\"none\" stroke=\"#000000\"/>\n",
       "<polygon fill=\"#000000\" points=\"6681.3383,-3204.5391 6691.0127,-3200.2199 6680.7564,-3197.5633 6681.3383,-3204.5391\" stroke=\"#000000\"/>\n",
       "</g>\n",
       "<!-- 140378929812560 -->\n",
       "<g class=\"node\" id=\"node50\">\n",
       "<title>140378929812560</title>\n",
       "<polygon fill=\"none\" points=\"4213.1372,-3154.5 4213.1372,-3200.5 4549.1372,-3200.5 4549.1372,-3154.5 4213.1372,-3154.5\" stroke=\"#000000\"/>\n",
       "<text fill=\"#000000\" font-family=\"Times,serif\" font-size=\"14.00\" text-anchor=\"middle\" x=\"4260.6372\" y=\"-3173.8\">a16: Attention</text>\n",
       "<polyline fill=\"none\" points=\"4308.1372,-3154.5 4308.1372,-3200.5 \" stroke=\"#000000\"/>\n",
       "<text fill=\"#000000\" font-family=\"Times,serif\" font-size=\"14.00\" text-anchor=\"middle\" x=\"4335.6372\" y=\"-3185.3\">input:</text>\n",
       "<polyline fill=\"none\" points=\"4308.1372,-3177.5 4363.1372,-3177.5 \" stroke=\"#000000\"/>\n",
       "<text fill=\"#000000\" font-family=\"Times,serif\" font-size=\"14.00\" text-anchor=\"middle\" x=\"4335.6372\" y=\"-3162.3\">output:</text>\n",
       "<polyline fill=\"none\" points=\"4363.1372,-3154.5 4363.1372,-3200.5 \" stroke=\"#000000\"/>\n",
       "<text fill=\"#000000\" font-family=\"Times,serif\" font-size=\"14.00\" text-anchor=\"middle\" x=\"4456.1372\" y=\"-3185.3\">[(None, 512), (None, 64, 512)]</text>\n",
       "<polyline fill=\"none\" points=\"4363.1372,-3177.5 4549.1372,-3177.5 \" stroke=\"#000000\"/>\n",
       "<text fill=\"#000000\" font-family=\"Times,serif\" font-size=\"14.00\" text-anchor=\"middle\" x=\"4456.1372\" y=\"-3162.3\">[(None, 1, 512), (1, 64)]</text>\n",
       "</g>\n",
       "<!-- 140378938747920&#45;&gt;140378929812560 -->\n",
       "<g class=\"edge\" id=\"edge55\">\n",
       "<title>140378938747920-&gt;140378929812560</title>\n",
       "<path d=\"M5171.2375,-3247.6122C5002.1038,-3237.7261 4771.7785,-3222.3194 4559.3749,-3201.0975\" fill=\"none\" stroke=\"#000000\"/>\n",
       "<polygon fill=\"#000000\" points=\"4559.5742,-3197.6 4549.2743,-3200.0825 4558.8743,-3204.5649 4559.5742,-3197.6\" stroke=\"#000000\"/>\n",
       "</g>\n",
       "<!-- 140378928051408 -->\n",
       "<g class=\"node\" id=\"node51\">\n",
       "<title>140378928051408</title>\n",
       "<polygon fill=\"none\" points=\"4567.1372,-3154.5 4567.1372,-3200.5 4903.1372,-3200.5 4903.1372,-3154.5 4567.1372,-3154.5\" stroke=\"#000000\"/>\n",
       "<text fill=\"#000000\" font-family=\"Times,serif\" font-size=\"14.00\" text-anchor=\"middle\" x=\"4614.6372\" y=\"-3173.8\">a17: Attention</text>\n",
       "<polyline fill=\"none\" points=\"4662.1372,-3154.5 4662.1372,-3200.5 \" stroke=\"#000000\"/>\n",
       "<text fill=\"#000000\" font-family=\"Times,serif\" font-size=\"14.00\" text-anchor=\"middle\" x=\"4689.6372\" y=\"-3185.3\">input:</text>\n",
       "<polyline fill=\"none\" points=\"4662.1372,-3177.5 4717.1372,-3177.5 \" stroke=\"#000000\"/>\n",
       "<text fill=\"#000000\" font-family=\"Times,serif\" font-size=\"14.00\" text-anchor=\"middle\" x=\"4689.6372\" y=\"-3162.3\">output:</text>\n",
       "<polyline fill=\"none\" points=\"4717.1372,-3154.5 4717.1372,-3200.5 \" stroke=\"#000000\"/>\n",
       "<text fill=\"#000000\" font-family=\"Times,serif\" font-size=\"14.00\" text-anchor=\"middle\" x=\"4810.1372\" y=\"-3185.3\">[(None, 512), (None, 64, 512)]</text>\n",
       "<polyline fill=\"none\" points=\"4717.1372,-3177.5 4903.1372,-3177.5 \" stroke=\"#000000\"/>\n",
       "<text fill=\"#000000\" font-family=\"Times,serif\" font-size=\"14.00\" text-anchor=\"middle\" x=\"4810.1372\" y=\"-3162.3\">[(None, 1, 512), (1, 64)]</text>\n",
       "</g>\n",
       "<!-- 140378938747920&#45;&gt;140378928051408 -->\n",
       "<g class=\"edge\" id=\"edge57\">\n",
       "<title>140378938747920-&gt;140378928051408</title>\n",
       "<path d=\"M5215.5569,-3237.4956C5126.0192,-3227.0586 5018.9442,-3214.348 4913.4955,-3201.1634\" fill=\"none\" stroke=\"#000000\"/>\n",
       "<polygon fill=\"#000000\" points=\"4913.654,-3197.656 4903.2966,-3199.8861 4912.7841,-3204.6018 4913.654,-3197.656\" stroke=\"#000000\"/>\n",
       "</g>\n",
       "<!-- 140378922813456 -->\n",
       "<g class=\"node\" id=\"node63\">\n",
       "<title>140378922813456</title>\n",
       "<polygon fill=\"none\" points=\"3832.6372,-2739.5 3832.6372,-2785.5 4313.6372,-2785.5 4313.6372,-2739.5 3832.6372,-2739.5\" stroke=\"#000000\"/>\n",
       "<text fill=\"#000000\" font-family=\"Times,serif\" font-size=\"14.00\" text-anchor=\"middle\" x=\"3962.1372\" y=\"-2758.8\">residual_combine_attn_1: ResidualCombine</text>\n",
       "<polyline fill=\"none\" points=\"4091.6372,-2739.5 4091.6372,-2785.5 \" stroke=\"#000000\"/>\n",
       "<text fill=\"#000000\" font-family=\"Times,serif\" font-size=\"14.00\" text-anchor=\"middle\" x=\"4119.1372\" y=\"-2770.3\">input:</text>\n",
       "<polyline fill=\"none\" points=\"4091.6372,-2762.5 4146.6372,-2762.5 \" stroke=\"#000000\"/>\n",
       "<text fill=\"#000000\" font-family=\"Times,serif\" font-size=\"14.00\" text-anchor=\"middle\" x=\"4119.1372\" y=\"-2747.3\">output:</text>\n",
       "<polyline fill=\"none\" points=\"4146.6372,-2739.5 4146.6372,-2785.5 \" stroke=\"#000000\"/>\n",
       "<text fill=\"#000000\" font-family=\"Times,serif\" font-size=\"14.00\" text-anchor=\"middle\" x=\"4230.1372\" y=\"-2770.3\">[(None, 512), (None, 512)]</text>\n",
       "<polyline fill=\"none\" points=\"4146.6372,-2762.5 4313.6372,-2762.5 \" stroke=\"#000000\"/>\n",
       "<text fill=\"#000000\" font-family=\"Times,serif\" font-size=\"14.00\" text-anchor=\"middle\" x=\"4230.1372\" y=\"-2747.3\">[(None, 512), (1, 1), (1, 1)]</text>\n",
       "</g>\n",
       "<!-- 140378938747920&#45;&gt;140378922813456 -->\n",
       "<g class=\"edge\" id=\"edge77\">\n",
       "<title>140378938747920-&gt;140378922813456</title>\n",
       "<path d=\"M5171.43,-3254.2354C4872.3752,-3245.5728 4383.9719,-3227.8942 4204.1372,-3201 4044.589,-3177.1396 3857.1372,-3255.8225 3857.1372,-3094.5 3857.1372,-3094.5 3857.1372,-3094.5 3857.1372,-2928.5 3857.1372,-2859.0277 3928.2533,-2814.6272 3988.8733,-2789.3994\" fill=\"none\" stroke=\"#000000\"/>\n",
       "<polygon fill=\"#000000\" points=\"3990.5365,-2792.5025 3998.4998,-2785.5142 3987.9166,-2786.0112 3990.5365,-2792.5025\" stroke=\"#000000\"/>\n",
       "</g>\n",
       "<!-- 140378938624912&#45;&gt;140378938421776 -->\n",
       "<g class=\"edge\" id=\"edge44\">\n",
       "<title>140378938624912-&gt;140378938421776</title>\n",
       "<path d=\"M5678.6168,-3238.0523C5675.7673,-3237.6909 5672.9384,-3237.3396 5670.1372,-3237 5494.4135,-3215.6974 5447.0071,-3220.6753 5267.3359,-3201.1079\" fill=\"none\" stroke=\"#000000\"/>\n",
       "<polygon fill=\"#000000\" points=\"5267.6054,-3197.6165 5257.2828,-3200.0026 5266.8404,-3204.5746 5267.6054,-3197.6165\" stroke=\"#000000\"/>\n",
       "</g>\n",
       "<!-- 140378938624912&#45;&gt;140378938024912 -->\n",
       "<g class=\"edge\" id=\"edge46\">\n",
       "<title>140378938624912-&gt;140378938024912</title>\n",
       "<path d=\"M5717.7906,-3237.4901C5668.3702,-3226.6956 5609.3448,-3213.8033 5558.7005,-3202.7415\" fill=\"none\" stroke=\"#000000\"/>\n",
       "<polygon fill=\"#000000\" points=\"5559.2052,-3199.2693 5548.6887,-3200.5547 5557.7114,-3206.108 5559.2052,-3199.2693\" stroke=\"#000000\"/>\n",
       "</g>\n",
       "<!-- 140378938624912&#45;&gt;140378944485776 -->\n",
       "<g class=\"edge\" id=\"edge48\">\n",
       "<title>140378938624912-&gt;140378944485776</title>\n",
       "<path d=\"M5815.8947,-3237.3799C5813.2965,-3229.0854 5810.3136,-3219.5633 5807.5024,-3210.5889\" fill=\"none\" stroke=\"#000000\"/>\n",
       "<polygon fill=\"#000000\" points=\"5810.7603,-3209.2805 5804.431,-3200.784 5804.0804,-3211.373 5810.7603,-3209.2805\" stroke=\"#000000\"/>\n",
       "</g>\n",
       "<!-- 140378938624912&#45;&gt;140378943977232 -->\n",
       "<g class=\"edge\" id=\"edge50\">\n",
       "<title>140378938624912-&gt;140378943977232</title>\n",
       "<path d=\"M5914.0679,-3237.4901C5956.3701,-3226.7856 6006.8252,-3214.018 6050.2935,-3203.0184\" fill=\"none\" stroke=\"#000000\"/>\n",
       "<polygon fill=\"#000000\" points=\"6051.1938,-3206.401 6060.0296,-3200.5547 6049.4765,-3199.6149 6051.1938,-3206.401\" stroke=\"#000000\"/>\n",
       "</g>\n",
       "<!-- 140378938624912&#45;&gt;140378933623504 -->\n",
       "<g class=\"edge\" id=\"edge52\">\n",
       "<title>140378938624912-&gt;140378933623504</title>\n",
       "<path d=\"M5967.6903,-3244.0403C6066.1436,-3232.6933 6199.7243,-3217.0325 6327.0408,-3201.1303\" fill=\"none\" stroke=\"#000000\"/>\n",
       "<polygon fill=\"#000000\" points=\"6327.4898,-3204.6015 6336.9779,-3199.887 6326.6207,-3197.6557 6327.4898,-3204.6015\" stroke=\"#000000\"/>\n",
       "</g>\n",
       "<!-- 140378938624912&#45;&gt;140378931480720 -->\n",
       "<g class=\"edge\" id=\"edge54\">\n",
       "<title>140378938624912-&gt;140378931480720</title>\n",
       "<path d=\"M5967.7601,-3253.2625C6136.4184,-3244.1876 6423.8203,-3226.7586 6680.7204,-3201.115\" fill=\"none\" stroke=\"#000000\"/>\n",
       "<polygon fill=\"#000000\" points=\"6681.3998,-3204.5645 6691.0001,-3200.0829 6680.7004,-3197.5995 6681.3998,-3204.5645\" stroke=\"#000000\"/>\n",
       "</g>\n",
       "<!-- 140378938624912&#45;&gt;140378929812560 -->\n",
       "<g class=\"edge\" id=\"edge56\">\n",
       "<title>140378938624912-&gt;140378929812560</title>\n",
       "<path d=\"M5678.2322,-3237.7916C5675.5135,-3237.5123 5672.8131,-3237.2479 5670.1372,-3237 5181.1305,-3191.695 5052.7004,-3240.9086 4559.4968,-3201.0683\" fill=\"none\" stroke=\"#000000\"/>\n",
       "<polygon fill=\"#000000\" points=\"4559.5121,-3197.558 4549.2605,-3200.2329 4558.9427,-3204.5348 4559.5121,-3197.558\" stroke=\"#000000\"/>\n",
       "</g>\n",
       "<!-- 140378938624912&#45;&gt;140378928051408 -->\n",
       "<g class=\"edge\" id=\"edge58\">\n",
       "<title>140378938624912-&gt;140378928051408</title>\n",
       "<path d=\"M5678.6345,-3237.892C5675.7796,-3237.5795 5672.9449,-3237.2815 5670.1372,-3237 5337.8284,-3203.6812 5249.7623,-3230.6831 4913.2935,-3201.0643\" fill=\"none\" stroke=\"#000000\"/>\n",
       "<polygon fill=\"#000000\" points=\"4913.5369,-3197.5722 4903.2659,-3200.1713 4912.916,-3204.5446 4913.5369,-3197.5722\" stroke=\"#000000\"/>\n",
       "</g>\n",
       "<!-- 140378903262992 -->\n",
       "<g class=\"node\" id=\"node81\">\n",
       "<title>140378903262992</title>\n",
       "<polygon fill=\"none\" points=\"4600.1372,-1909.5 4600.1372,-1955.5 5362.1372,-1955.5 5362.1372,-1909.5 4600.1372,-1909.5\" stroke=\"#000000\"/>\n",
       "<text fill=\"#000000\" font-family=\"Times,serif\" font-size=\"14.00\" text-anchor=\"middle\" x=\"4674.6372\" y=\"-1928.8\">eca10: EncDecAttention</text>\n",
       "<polyline fill=\"none\" points=\"4749.1372,-1909.5 4749.1372,-1955.5 \" stroke=\"#000000\"/>\n",
       "<text fill=\"#000000\" font-family=\"Times,serif\" font-size=\"14.00\" text-anchor=\"middle\" x=\"4776.6372\" y=\"-1940.3\">input:</text>\n",
       "<polyline fill=\"none\" points=\"4749.1372,-1932.5 4804.1372,-1932.5 \" stroke=\"#000000\"/>\n",
       "<text fill=\"#000000\" font-family=\"Times,serif\" font-size=\"14.00\" text-anchor=\"middle\" x=\"4776.6372\" y=\"-1917.3\">output:</text>\n",
       "<polyline fill=\"none\" points=\"4804.1372,-1909.5 4804.1372,-1955.5 \" stroke=\"#000000\"/>\n",
       "<text fill=\"#000000\" font-family=\"Times,serif\" font-size=\"14.00\" text-anchor=\"middle\" x=\"5083.1372\" y=\"-1940.3\">[(None, 60, 512), (None, 64, 512)]</text>\n",
       "<polyline fill=\"none\" points=\"4804.1372,-1932.5 5362.1372,-1932.5 \" stroke=\"#000000\"/>\n",
       "<text fill=\"#000000\" font-family=\"Times,serif\" font-size=\"14.00\" text-anchor=\"middle\" x=\"5083.1372\" y=\"-1917.3\">[(None, 60, 64), (None, 64, 64), (None, 64, 512), (None, 60, 64), (None, 60, 64), (None, 60, 512)]</text>\n",
       "</g>\n",
       "<!-- 140378938624912&#45;&gt;140378903262992 -->\n",
       "<g class=\"edge\" id=\"edge105\">\n",
       "<title>140378938624912-&gt;140378903262992</title>\n",
       "<path d=\"M7383.1372,-2596.5C7287.5343,-2497.2291 7571.7123,-2455.7129 7531.1372,-2324 7482.3064,-2165.4878 7474.8111,-2077.9091 7321.1372,-2015.5\" fill=\"none\" stroke=\"#000000\"/>\n",
       "<path d=\"M7321.1372,-2015.5C7121.2568,-1931.6193 5587.6819,-1965.8256 5371.1372,-1956 5370.9148,-1955.9899 5370.6924,-1955.9798 5370.4699,-1955.9697\" fill=\"none\" stroke=\"#000000\"/>\n",
       "<polygon fill=\"#000000\" points=\"5370.5632,-1952.4704 5360.4127,-1955.5062 5370.2409,-1959.463 5370.5632,-1952.4704\" stroke=\"#000000\"/>\n",
       "</g>\n",
       "<!-- 140378903263248 -->\n",
       "<g class=\"node\" id=\"node82\">\n",
       "<title>140378903263248</title>\n",
       "<polygon fill=\"none\" points=\"1761.1372,-1909.5 1761.1372,-1955.5 2523.1372,-1955.5 2523.1372,-1909.5 1761.1372,-1909.5\" stroke=\"#000000\"/>\n",
       "<text fill=\"#000000\" font-family=\"Times,serif\" font-size=\"14.00\" text-anchor=\"middle\" x=\"1835.6372\" y=\"-1928.8\">eca11: EncDecAttention</text>\n",
       "<polyline fill=\"none\" points=\"1910.1372,-1909.5 1910.1372,-1955.5 \" stroke=\"#000000\"/>\n",
       "<text fill=\"#000000\" font-family=\"Times,serif\" font-size=\"14.00\" text-anchor=\"middle\" x=\"1937.6372\" y=\"-1940.3\">input:</text>\n",
       "<polyline fill=\"none\" points=\"1910.1372,-1932.5 1965.1372,-1932.5 \" stroke=\"#000000\"/>\n",
       "<text fill=\"#000000\" font-family=\"Times,serif\" font-size=\"14.00\" text-anchor=\"middle\" x=\"1937.6372\" y=\"-1917.3\">output:</text>\n",
       "<polyline fill=\"none\" points=\"1965.1372,-1909.5 1965.1372,-1955.5 \" stroke=\"#000000\"/>\n",
       "<text fill=\"#000000\" font-family=\"Times,serif\" font-size=\"14.00\" text-anchor=\"middle\" x=\"2244.1372\" y=\"-1940.3\">[(None, 60, 512), (None, 64, 512)]</text>\n",
       "<polyline fill=\"none\" points=\"1965.1372,-1932.5 2523.1372,-1932.5 \" stroke=\"#000000\"/>\n",
       "<text fill=\"#000000\" font-family=\"Times,serif\" font-size=\"14.00\" text-anchor=\"middle\" x=\"2244.1372\" y=\"-1917.3\">[(None, 60, 64), (None, 64, 64), (None, 64, 512), (None, 60, 64), (None, 60, 64), (None, 60, 512)]</text>\n",
       "</g>\n",
       "<!-- 140378938624912&#45;&gt;140378903263248 -->\n",
       "<g class=\"edge\" id=\"edge107\">\n",
       "<title>140378938624912-&gt;140378903263248</title>\n",
       "<path d=\"M2142.1372,-2015.5C2143.6118,-1999.3337 2143.7886,-1981.3223 2143.5242,-1966.2205\" fill=\"none\" stroke=\"#000000\"/>\n",
       "<polygon fill=\"#000000\" points=\"2147.0129,-1965.7164 2143.266,-1955.8063 2140.015,-1965.89 2147.0129,-1965.7164\" stroke=\"#000000\"/>\n",
       "</g>\n",
       "<!-- 140378901572112 -->\n",
       "<g class=\"node\" id=\"node83\">\n",
       "<title>140378901572112</title>\n",
       "<polygon fill=\"none\" points=\"5380.1372,-1909.5 5380.1372,-1955.5 6142.1372,-1955.5 6142.1372,-1909.5 5380.1372,-1909.5\" stroke=\"#000000\"/>\n",
       "<text fill=\"#000000\" font-family=\"Times,serif\" font-size=\"14.00\" text-anchor=\"middle\" x=\"5454.6372\" y=\"-1928.8\">eca12: EncDecAttention</text>\n",
       "<polyline fill=\"none\" points=\"5529.1372,-1909.5 5529.1372,-1955.5 \" stroke=\"#000000\"/>\n",
       "<text fill=\"#000000\" font-family=\"Times,serif\" font-size=\"14.00\" text-anchor=\"middle\" x=\"5556.6372\" y=\"-1940.3\">input:</text>\n",
       "<polyline fill=\"none\" points=\"5529.1372,-1932.5 5584.1372,-1932.5 \" stroke=\"#000000\"/>\n",
       "<text fill=\"#000000\" font-family=\"Times,serif\" font-size=\"14.00\" text-anchor=\"middle\" x=\"5556.6372\" y=\"-1917.3\">output:</text>\n",
       "<polyline fill=\"none\" points=\"5584.1372,-1909.5 5584.1372,-1955.5 \" stroke=\"#000000\"/>\n",
       "<text fill=\"#000000\" font-family=\"Times,serif\" font-size=\"14.00\" text-anchor=\"middle\" x=\"5863.1372\" y=\"-1940.3\">[(None, 60, 512), (None, 64, 512)]</text>\n",
       "<polyline fill=\"none\" points=\"5584.1372,-1932.5 6142.1372,-1932.5 \" stroke=\"#000000\"/>\n",
       "<text fill=\"#000000\" font-family=\"Times,serif\" font-size=\"14.00\" text-anchor=\"middle\" x=\"5863.1372\" y=\"-1917.3\">[(None, 60, 64), (None, 64, 64), (None, 64, 512), (None, 60, 64), (None, 60, 64), (None, 60, 512)]</text>\n",
       "</g>\n",
       "<!-- 140378938624912&#45;&gt;140378901572112 -->\n",
       "<g class=\"edge\" id=\"edge109\">\n",
       "<title>140378938624912-&gt;140378901572112</title>\n",
       "<path d=\"M7321.1372,-2015.5C7203.1262,-1967.5741 6320.2428,-1963.3832 6152.2287,-1955.9944\" fill=\"none\" stroke=\"#000000\"/>\n",
       "<polygon fill=\"#000000\" points=\"6152.3711,-1952.4972 6142.2115,-1955.5025 6152.0278,-1959.4888 6152.3711,-1952.4972\" stroke=\"#000000\"/>\n",
       "</g>\n",
       "<!-- 140378899452240 -->\n",
       "<g class=\"node\" id=\"node84\">\n",
       "<title>140378899452240</title>\n",
       "<polygon fill=\"none\" points=\"6160.1372,-1909.5 6160.1372,-1955.5 6922.1372,-1955.5 6922.1372,-1909.5 6160.1372,-1909.5\" stroke=\"#000000\"/>\n",
       "<text fill=\"#000000\" font-family=\"Times,serif\" font-size=\"14.00\" text-anchor=\"middle\" x=\"6234.6372\" y=\"-1928.8\">eca13: EncDecAttention</text>\n",
       "<polyline fill=\"none\" points=\"6309.1372,-1909.5 6309.1372,-1955.5 \" stroke=\"#000000\"/>\n",
       "<text fill=\"#000000\" font-family=\"Times,serif\" font-size=\"14.00\" text-anchor=\"middle\" x=\"6336.6372\" y=\"-1940.3\">input:</text>\n",
       "<polyline fill=\"none\" points=\"6309.1372,-1932.5 6364.1372,-1932.5 \" stroke=\"#000000\"/>\n",
       "<text fill=\"#000000\" font-family=\"Times,serif\" font-size=\"14.00\" text-anchor=\"middle\" x=\"6336.6372\" y=\"-1917.3\">output:</text>\n",
       "<polyline fill=\"none\" points=\"6364.1372,-1909.5 6364.1372,-1955.5 \" stroke=\"#000000\"/>\n",
       "<text fill=\"#000000\" font-family=\"Times,serif\" font-size=\"14.00\" text-anchor=\"middle\" x=\"6643.1372\" y=\"-1940.3\">[(None, 60, 512), (None, 64, 512)]</text>\n",
       "<polyline fill=\"none\" points=\"6364.1372,-1932.5 6922.1372,-1932.5 \" stroke=\"#000000\"/>\n",
       "<text fill=\"#000000\" font-family=\"Times,serif\" font-size=\"14.00\" text-anchor=\"middle\" x=\"6643.1372\" y=\"-1917.3\">[(None, 60, 64), (None, 64, 64), (None, 64, 512), (None, 60, 64), (None, 60, 64), (None, 60, 512)]</text>\n",
       "</g>\n",
       "<!-- 140378938624912&#45;&gt;140378899452240 -->\n",
       "<g class=\"edge\" id=\"edge111\">\n",
       "<title>140378938624912-&gt;140378899452240</title>\n",
       "<path d=\"M7321.1372,-2015.5C7276.3332,-1997.3045 7041.1246,-1973.7487 6840.5933,-1956.3823\" fill=\"none\" stroke=\"#000000\"/>\n",
       "<polygon fill=\"#000000\" points=\"6840.732,-1952.8814 6830.468,-1955.5082 6840.1298,-1959.8554 6840.732,-1952.8814\" stroke=\"#000000\"/>\n",
       "</g>\n",
       "<!-- 140378897206288 -->\n",
       "<g class=\"node\" id=\"node85\">\n",
       "<title>140378897206288</title>\n",
       "<polygon fill=\"none\" points=\"981.1372,-1909.5 981.1372,-1955.5 1743.1372,-1955.5 1743.1372,-1909.5 981.1372,-1909.5\" stroke=\"#000000\"/>\n",
       "<text fill=\"#000000\" font-family=\"Times,serif\" font-size=\"14.00\" text-anchor=\"middle\" x=\"1055.6372\" y=\"-1928.8\">eca14: EncDecAttention</text>\n",
       "<polyline fill=\"none\" points=\"1130.1372,-1909.5 1130.1372,-1955.5 \" stroke=\"#000000\"/>\n",
       "<text fill=\"#000000\" font-family=\"Times,serif\" font-size=\"14.00\" text-anchor=\"middle\" x=\"1157.6372\" y=\"-1940.3\">input:</text>\n",
       "<polyline fill=\"none\" points=\"1130.1372,-1932.5 1185.1372,-1932.5 \" stroke=\"#000000\"/>\n",
       "<text fill=\"#000000\" font-family=\"Times,serif\" font-size=\"14.00\" text-anchor=\"middle\" x=\"1157.6372\" y=\"-1917.3\">output:</text>\n",
       "<polyline fill=\"none\" points=\"1185.1372,-1909.5 1185.1372,-1955.5 \" stroke=\"#000000\"/>\n",
       "<text fill=\"#000000\" font-family=\"Times,serif\" font-size=\"14.00\" text-anchor=\"middle\" x=\"1464.1372\" y=\"-1940.3\">[(None, 60, 512), (None, 64, 512)]</text>\n",
       "<polyline fill=\"none\" points=\"1185.1372,-1932.5 1743.1372,-1932.5 \" stroke=\"#000000\"/>\n",
       "<text fill=\"#000000\" font-family=\"Times,serif\" font-size=\"14.00\" text-anchor=\"middle\" x=\"1464.1372\" y=\"-1917.3\">[(None, 60, 64), (None, 64, 64), (None, 64, 512), (None, 60, 64), (None, 60, 64), (None, 60, 512)]</text>\n",
       "</g>\n",
       "<!-- 140378938624912&#45;&gt;140378897206288 -->\n",
       "<g class=\"edge\" id=\"edge113\">\n",
       "<title>140378938624912-&gt;140378897206288</title>\n",
       "<path d=\"M2142.1372,-2015.5C2144.1786,-1993.1194 1936.6698,-1971.7483 1735.2013,-1956.2976\" fill=\"none\" stroke=\"#000000\"/>\n",
       "<polygon fill=\"#000000\" points=\"1735.2412,-1952.7906 1725.004,-1955.5202 1734.709,-1959.7704 1735.2412,-1952.7906\" stroke=\"#000000\"/>\n",
       "</g>\n",
       "<!-- 140378893412624 -->\n",
       "<g class=\"node\" id=\"node86\">\n",
       "<title>140378893412624</title>\n",
       "<polygon fill=\"none\" points=\"7720.1372,-1909.5 7720.1372,-1955.5 8482.1372,-1955.5 8482.1372,-1909.5 7720.1372,-1909.5\" stroke=\"#000000\"/>\n",
       "<text fill=\"#000000\" font-family=\"Times,serif\" font-size=\"14.00\" text-anchor=\"middle\" x=\"7794.6372\" y=\"-1928.8\">eca15: EncDecAttention</text>\n",
       "<polyline fill=\"none\" points=\"7869.1372,-1909.5 7869.1372,-1955.5 \" stroke=\"#000000\"/>\n",
       "<text fill=\"#000000\" font-family=\"Times,serif\" font-size=\"14.00\" text-anchor=\"middle\" x=\"7896.6372\" y=\"-1940.3\">input:</text>\n",
       "<polyline fill=\"none\" points=\"7869.1372,-1932.5 7924.1372,-1932.5 \" stroke=\"#000000\"/>\n",
       "<text fill=\"#000000\" font-family=\"Times,serif\" font-size=\"14.00\" text-anchor=\"middle\" x=\"7896.6372\" y=\"-1917.3\">output:</text>\n",
       "<polyline fill=\"none\" points=\"7924.1372,-1909.5 7924.1372,-1955.5 \" stroke=\"#000000\"/>\n",
       "<text fill=\"#000000\" font-family=\"Times,serif\" font-size=\"14.00\" text-anchor=\"middle\" x=\"8203.1372\" y=\"-1940.3\">[(None, 60, 512), (None, 64, 512)]</text>\n",
       "<polyline fill=\"none\" points=\"7924.1372,-1932.5 8482.1372,-1932.5 \" stroke=\"#000000\"/>\n",
       "<text fill=\"#000000\" font-family=\"Times,serif\" font-size=\"14.00\" text-anchor=\"middle\" x=\"8203.1372\" y=\"-1917.3\">[(None, 60, 64), (None, 64, 64), (None, 64, 512), (None, 60, 64), (None, 60, 64), (None, 60, 512)]</text>\n",
       "</g>\n",
       "<!-- 140378938624912&#45;&gt;140378893412624 -->\n",
       "<g class=\"edge\" id=\"edge115\">\n",
       "<title>140378938624912-&gt;140378893412624</title>\n",
       "<path d=\"M7321.1372,-2015.5C7276.7094,-1996.8557 7519.7756,-1973.4598 7746.05,-1956.2637\" fill=\"none\" stroke=\"#000000\"/>\n",
       "<polygon fill=\"#000000\" points=\"7746.4221,-1959.7456 7756.1294,-1955.5009 7745.8938,-1952.7656 7746.4221,-1959.7456\" stroke=\"#000000\"/>\n",
       "</g>\n",
       "<!-- 140378893412432 -->\n",
       "<g class=\"node\" id=\"node87\">\n",
       "<title>140378893412432</title>\n",
       "<polygon fill=\"none\" points=\"2541.1372,-1909.5 2541.1372,-1955.5 3303.1372,-1955.5 3303.1372,-1909.5 2541.1372,-1909.5\" stroke=\"#000000\"/>\n",
       "<text fill=\"#000000\" font-family=\"Times,serif\" font-size=\"14.00\" text-anchor=\"middle\" x=\"2615.6372\" y=\"-1928.8\">eca16: EncDecAttention</text>\n",
       "<polyline fill=\"none\" points=\"2690.1372,-1909.5 2690.1372,-1955.5 \" stroke=\"#000000\"/>\n",
       "<text fill=\"#000000\" font-family=\"Times,serif\" font-size=\"14.00\" text-anchor=\"middle\" x=\"2717.6372\" y=\"-1940.3\">input:</text>\n",
       "<polyline fill=\"none\" points=\"2690.1372,-1932.5 2745.1372,-1932.5 \" stroke=\"#000000\"/>\n",
       "<text fill=\"#000000\" font-family=\"Times,serif\" font-size=\"14.00\" text-anchor=\"middle\" x=\"2717.6372\" y=\"-1917.3\">output:</text>\n",
       "<polyline fill=\"none\" points=\"2745.1372,-1909.5 2745.1372,-1955.5 \" stroke=\"#000000\"/>\n",
       "<text fill=\"#000000\" font-family=\"Times,serif\" font-size=\"14.00\" text-anchor=\"middle\" x=\"3024.1372\" y=\"-1940.3\">[(None, 60, 512), (None, 64, 512)]</text>\n",
       "<polyline fill=\"none\" points=\"2745.1372,-1932.5 3303.1372,-1932.5 \" stroke=\"#000000\"/>\n",
       "<text fill=\"#000000\" font-family=\"Times,serif\" font-size=\"14.00\" text-anchor=\"middle\" x=\"3024.1372\" y=\"-1917.3\">[(None, 60, 64), (None, 64, 64), (None, 64, 512), (None, 60, 64), (None, 60, 64), (None, 60, 512)]</text>\n",
       "</g>\n",
       "<!-- 140378938624912&#45;&gt;140378893412432 -->\n",
       "<g class=\"edge\" id=\"edge117\">\n",
       "<title>140378938624912-&gt;140378893412432</title>\n",
       "<path d=\"M2142.1372,-2015.5C2144.1786,-1993.1194 2351.5592,-1971.7483 2551.9459,-1956.2976\" fill=\"none\" stroke=\"#000000\"/>\n",
       "<polygon fill=\"#000000\" points=\"2552.3843,-1959.7744 2562.0875,-1955.5202 2551.8492,-1952.7949 2552.3843,-1959.7744\" stroke=\"#000000\"/>\n",
       "</g>\n",
       "<!-- 140378891256144 -->\n",
       "<g class=\"node\" id=\"node88\">\n",
       "<title>140378891256144</title>\n",
       "<polygon fill=\"none\" points=\"6940.1372,-1909.5 6940.1372,-1955.5 7702.1372,-1955.5 7702.1372,-1909.5 6940.1372,-1909.5\" stroke=\"#000000\"/>\n",
       "<text fill=\"#000000\" font-family=\"Times,serif\" font-size=\"14.00\" text-anchor=\"middle\" x=\"7014.6372\" y=\"-1928.8\">eca17: EncDecAttention</text>\n",
       "<polyline fill=\"none\" points=\"7089.1372,-1909.5 7089.1372,-1955.5 \" stroke=\"#000000\"/>\n",
       "<text fill=\"#000000\" font-family=\"Times,serif\" font-size=\"14.00\" text-anchor=\"middle\" x=\"7116.6372\" y=\"-1940.3\">input:</text>\n",
       "<polyline fill=\"none\" points=\"7089.1372,-1932.5 7144.1372,-1932.5 \" stroke=\"#000000\"/>\n",
       "<text fill=\"#000000\" font-family=\"Times,serif\" font-size=\"14.00\" text-anchor=\"middle\" x=\"7116.6372\" y=\"-1917.3\">output:</text>\n",
       "<polyline fill=\"none\" points=\"7144.1372,-1909.5 7144.1372,-1955.5 \" stroke=\"#000000\"/>\n",
       "<text fill=\"#000000\" font-family=\"Times,serif\" font-size=\"14.00\" text-anchor=\"middle\" x=\"7423.1372\" y=\"-1940.3\">[(None, 60, 512), (None, 64, 512)]</text>\n",
       "<polyline fill=\"none\" points=\"7144.1372,-1932.5 7702.1372,-1932.5 \" stroke=\"#000000\"/>\n",
       "<text fill=\"#000000\" font-family=\"Times,serif\" font-size=\"14.00\" text-anchor=\"middle\" x=\"7423.1372\" y=\"-1917.3\">[(None, 60, 64), (None, 64, 64), (None, 64, 512), (None, 60, 64), (None, 60, 64), (None, 60, 512)]</text>\n",
       "</g>\n",
       "<!-- 140378938624912&#45;&gt;140378891256144 -->\n",
       "<g class=\"edge\" id=\"edge119\">\n",
       "<title>140378938624912-&gt;140378891256144</title>\n",
       "<path d=\"M7321.1372,-2015.5C7303.1777,-2007.9632 7304.1829,-1985.2473 7309.1332,-1965.482\" fill=\"none\" stroke=\"#000000\"/>\n",
       "<polygon fill=\"#000000\" points=\"7312.5163,-1966.3814 7311.9076,-1955.8041 7305.7873,-1964.4523 7312.5163,-1966.3814\" stroke=\"#000000\"/>\n",
       "</g>\n",
       "<!-- 140378865261456 -->\n",
       "<g class=\"node\" id=\"node116\">\n",
       "<title>140378865261456</title>\n",
       "<polygon fill=\"none\" points=\"7790.1372,-747.5 7790.1372,-793.5 8552.1372,-793.5 8552.1372,-747.5 7790.1372,-747.5\" stroke=\"#000000\"/>\n",
       "<text fill=\"#000000\" font-family=\"Times,serif\" font-size=\"14.00\" text-anchor=\"middle\" x=\"7864.6372\" y=\"-766.8\">eca20: EncDecAttention</text>\n",
       "<polyline fill=\"none\" points=\"7939.1372,-747.5 7939.1372,-793.5 \" stroke=\"#000000\"/>\n",
       "<text fill=\"#000000\" font-family=\"Times,serif\" font-size=\"14.00\" text-anchor=\"middle\" x=\"7966.6372\" y=\"-778.3\">input:</text>\n",
       "<polyline fill=\"none\" points=\"7939.1372,-770.5 7994.1372,-770.5 \" stroke=\"#000000\"/>\n",
       "<text fill=\"#000000\" font-family=\"Times,serif\" font-size=\"14.00\" text-anchor=\"middle\" x=\"7966.6372\" y=\"-755.3\">output:</text>\n",
       "<polyline fill=\"none\" points=\"7994.1372,-747.5 7994.1372,-793.5 \" stroke=\"#000000\"/>\n",
       "<text fill=\"#000000\" font-family=\"Times,serif\" font-size=\"14.00\" text-anchor=\"middle\" x=\"8273.1372\" y=\"-778.3\">[(None, 60, 512), (None, 64, 512)]</text>\n",
       "<polyline fill=\"none\" points=\"7994.1372,-770.5 8552.1372,-770.5 \" stroke=\"#000000\"/>\n",
       "<text fill=\"#000000\" font-family=\"Times,serif\" font-size=\"14.00\" text-anchor=\"middle\" x=\"8273.1372\" y=\"-755.3\">[(None, 60, 64), (None, 64, 64), (None, 64, 512), (None, 60, 64), (None, 60, 64), (None, 60, 512)]</text>\n",
       "</g>\n",
       "<!-- 140378938624912&#45;&gt;140378865261456 -->\n",
       "<g class=\"edge\" id=\"edge165\">\n",
       "<title>140378938624912-&gt;140378865261456</title>\n",
       "<path d=\"M8171.1372,-853.5C8151.434,-849.2694 8153.2584,-824.8907 8158.9696,-803.6401\" fill=\"none\" stroke=\"#000000\"/>\n",
       "<polygon fill=\"#000000\" points=\"8162.3791,-804.4558 8161.9055,-793.8715 8155.6753,-802.441 8162.3791,-804.4558\" stroke=\"#000000\"/>\n",
       "</g>\n",
       "<!-- 140378864670096 -->\n",
       "<g class=\"node\" id=\"node117\">\n",
       "<title>140378864670096</title>\n",
       "<polygon fill=\"none\" points=\"8570.1372,-747.5 8570.1372,-793.5 9332.1372,-793.5 9332.1372,-747.5 8570.1372,-747.5\" stroke=\"#000000\"/>\n",
       "<text fill=\"#000000\" font-family=\"Times,serif\" font-size=\"14.00\" text-anchor=\"middle\" x=\"8644.6372\" y=\"-766.8\">eca21: EncDecAttention</text>\n",
       "<polyline fill=\"none\" points=\"8719.1372,-747.5 8719.1372,-793.5 \" stroke=\"#000000\"/>\n",
       "<text fill=\"#000000\" font-family=\"Times,serif\" font-size=\"14.00\" text-anchor=\"middle\" x=\"8746.6372\" y=\"-778.3\">input:</text>\n",
       "<polyline fill=\"none\" points=\"8719.1372,-770.5 8774.1372,-770.5 \" stroke=\"#000000\"/>\n",
       "<text fill=\"#000000\" font-family=\"Times,serif\" font-size=\"14.00\" text-anchor=\"middle\" x=\"8746.6372\" y=\"-755.3\">output:</text>\n",
       "<polyline fill=\"none\" points=\"8774.1372,-747.5 8774.1372,-793.5 \" stroke=\"#000000\"/>\n",
       "<text fill=\"#000000\" font-family=\"Times,serif\" font-size=\"14.00\" text-anchor=\"middle\" x=\"9053.1372\" y=\"-778.3\">[(None, 60, 512), (None, 64, 512)]</text>\n",
       "<polyline fill=\"none\" points=\"8774.1372,-770.5 9332.1372,-770.5 \" stroke=\"#000000\"/>\n",
       "<text fill=\"#000000\" font-family=\"Times,serif\" font-size=\"14.00\" text-anchor=\"middle\" x=\"9053.1372\" y=\"-755.3\">[(None, 60, 64), (None, 64, 64), (None, 64, 512), (None, 60, 64), (None, 60, 64), (None, 60, 512)]</text>\n",
       "</g>\n",
       "<!-- 140378938624912&#45;&gt;140378864670096 -->\n",
       "<g class=\"edge\" id=\"edge167\">\n",
       "<title>140378938624912-&gt;140378864670096</title>\n",
       "<path d=\"M8171.1372,-853.5C8119.9405,-842.5072 8411.8141,-814.7634 8653.0028,-794.3647\" fill=\"none\" stroke=\"#000000\"/>\n",
       "<polygon fill=\"#000000\" points=\"8653.332,-797.8494 8663.0022,-793.5207 8652.7433,-790.8742 8653.332,-797.8494\" stroke=\"#000000\"/>\n",
       "</g>\n",
       "<!-- 140378861398352 -->\n",
       "<g class=\"node\" id=\"node118\">\n",
       "<title>140378861398352</title>\n",
       "<polygon fill=\"none\" points=\"3072.1372,-747.5 3072.1372,-793.5 3834.1372,-793.5 3834.1372,-747.5 3072.1372,-747.5\" stroke=\"#000000\"/>\n",
       "<text fill=\"#000000\" font-family=\"Times,serif\" font-size=\"14.00\" text-anchor=\"middle\" x=\"3146.6372\" y=\"-766.8\">eca22: EncDecAttention</text>\n",
       "<polyline fill=\"none\" points=\"3221.1372,-747.5 3221.1372,-793.5 \" stroke=\"#000000\"/>\n",
       "<text fill=\"#000000\" font-family=\"Times,serif\" font-size=\"14.00\" text-anchor=\"middle\" x=\"3248.6372\" y=\"-778.3\">input:</text>\n",
       "<polyline fill=\"none\" points=\"3221.1372,-770.5 3276.1372,-770.5 \" stroke=\"#000000\"/>\n",
       "<text fill=\"#000000\" font-family=\"Times,serif\" font-size=\"14.00\" text-anchor=\"middle\" x=\"3248.6372\" y=\"-755.3\">output:</text>\n",
       "<polyline fill=\"none\" points=\"3276.1372,-747.5 3276.1372,-793.5 \" stroke=\"#000000\"/>\n",
       "<text fill=\"#000000\" font-family=\"Times,serif\" font-size=\"14.00\" text-anchor=\"middle\" x=\"3555.1372\" y=\"-778.3\">[(None, 60, 512), (None, 64, 512)]</text>\n",
       "<polyline fill=\"none\" points=\"3276.1372,-770.5 3834.1372,-770.5 \" stroke=\"#000000\"/>\n",
       "<text fill=\"#000000\" font-family=\"Times,serif\" font-size=\"14.00\" text-anchor=\"middle\" x=\"3555.1372\" y=\"-755.3\">[(None, 60, 64), (None, 64, 64), (None, 64, 512), (None, 60, 64), (None, 60, 64), (None, 60, 512)]</text>\n",
       "</g>\n",
       "<!-- 140378938624912&#45;&gt;140378861398352 -->\n",
       "<g class=\"edge\" id=\"edge169\">\n",
       "<title>140378938624912-&gt;140378861398352</title>\n",
       "<path d=\"M5967.8589,-3257.0076C6243.4688,-3249.7598 6834.1936,-3231.1964 7036.1372,-3201 7195.6858,-3177.1428 7383.1372,-3255.8225 7383.1372,-3094.5 7383.1372,-3094.5 7383.1372,-3094.5 7383.1372,-2762.5 7383.1372,-2688.7222 7434.3136,-2649.6426 7383.1372,-2596.5\" fill=\"none\" stroke=\"#000000\"/>\n",
       "<path d=\"M7383.1372,-2596.5C7310.2628,-2533.9856 4023.1085,-2539.8702 3927.1372,-2537 3494.0492,-2524.0475 330.9216,-2683.8295 31.1372,-2371 -298.0076,-2027.5325 2098.9241,-2489.2498 2142.1372,-2015.5\" fill=\"none\" stroke=\"#000000\"/>\n",
       "<path d=\"M2142.1372,-2015.5C2088.5006,-1896.8963 1069.7807,-2042.0781 972.1372,-1956 936.0702,-1924.205 953.1372,-1897.5807 953.1372,-1849.5 953.1372,-1849.5 953.1372,-1849.5 953.1372,-1268.5 953.1372,-1220.4193 936.7704,-1194.5721 972.1372,-1162 1507.5615,-668.8849 3903.0005,-1502.2306 4233.1372,-853.5\" fill=\"none\" stroke=\"#000000\"/>\n",
       "<path d=\"M4233.1372,-853.5C4239.9826,-831.7532 4026.1738,-810.0433 3820.7167,-794.2839\" fill=\"none\" stroke=\"#000000\"/>\n",
       "<polygon fill=\"#000000\" points=\"3820.8672,-790.7853 3810.63,-793.5144 3820.3347,-797.765 3820.8672,-790.7853\" stroke=\"#000000\"/>\n",
       "</g>\n",
       "<!-- 140378859283152 -->\n",
       "<g class=\"node\" id=\"node119\">\n",
       "<title>140378859283152</title>\n",
       "<polygon fill=\"none\" points=\"3852.1372,-747.5 3852.1372,-793.5 4614.1372,-793.5 4614.1372,-747.5 3852.1372,-747.5\" stroke=\"#000000\"/>\n",
       "<text fill=\"#000000\" font-family=\"Times,serif\" font-size=\"14.00\" text-anchor=\"middle\" x=\"3926.6372\" y=\"-766.8\">eca23: EncDecAttention</text>\n",
       "<polyline fill=\"none\" points=\"4001.1372,-747.5 4001.1372,-793.5 \" stroke=\"#000000\"/>\n",
       "<text fill=\"#000000\" font-family=\"Times,serif\" font-size=\"14.00\" text-anchor=\"middle\" x=\"4028.6372\" y=\"-778.3\">input:</text>\n",
       "<polyline fill=\"none\" points=\"4001.1372,-770.5 4056.1372,-770.5 \" stroke=\"#000000\"/>\n",
       "<text fill=\"#000000\" font-family=\"Times,serif\" font-size=\"14.00\" text-anchor=\"middle\" x=\"4028.6372\" y=\"-755.3\">output:</text>\n",
       "<polyline fill=\"none\" points=\"4056.1372,-747.5 4056.1372,-793.5 \" stroke=\"#000000\"/>\n",
       "<text fill=\"#000000\" font-family=\"Times,serif\" font-size=\"14.00\" text-anchor=\"middle\" x=\"4335.1372\" y=\"-778.3\">[(None, 60, 512), (None, 64, 512)]</text>\n",
       "<polyline fill=\"none\" points=\"4056.1372,-770.5 4614.1372,-770.5 \" stroke=\"#000000\"/>\n",
       "<text fill=\"#000000\" font-family=\"Times,serif\" font-size=\"14.00\" text-anchor=\"middle\" x=\"4335.1372\" y=\"-755.3\">[(None, 60, 64), (None, 64, 64), (None, 64, 512), (None, 60, 64), (None, 60, 64), (None, 60, 512)]</text>\n",
       "</g>\n",
       "<!-- 140378938624912&#45;&gt;140378859283152 -->\n",
       "<g class=\"edge\" id=\"edge171\">\n",
       "<title>140378938624912-&gt;140378859283152</title>\n",
       "<path d=\"M4233.1372,-853.5C4240.8572,-838.3299 4241.4528,-819.4877 4239.855,-803.5921\" fill=\"none\" stroke=\"#000000\"/>\n",
       "<polygon fill=\"#000000\" points=\"4243.32,-803.0961 4238.5412,-793.6402 4236.3802,-804.0123 4243.32,-803.0961\" stroke=\"#000000\"/>\n",
       "</g>\n",
       "<!-- 140378857024464 -->\n",
       "<g class=\"node\" id=\"node120\">\n",
       "<title>140378857024464</title>\n",
       "<polygon fill=\"none\" points=\"4632.1372,-747.5 4632.1372,-793.5 5394.1372,-793.5 5394.1372,-747.5 4632.1372,-747.5\" stroke=\"#000000\"/>\n",
       "<text fill=\"#000000\" font-family=\"Times,serif\" font-size=\"14.00\" text-anchor=\"middle\" x=\"4706.6372\" y=\"-766.8\">eca24: EncDecAttention</text>\n",
       "<polyline fill=\"none\" points=\"4781.1372,-747.5 4781.1372,-793.5 \" stroke=\"#000000\"/>\n",
       "<text fill=\"#000000\" font-family=\"Times,serif\" font-size=\"14.00\" text-anchor=\"middle\" x=\"4808.6372\" y=\"-778.3\">input:</text>\n",
       "<polyline fill=\"none\" points=\"4781.1372,-770.5 4836.1372,-770.5 \" stroke=\"#000000\"/>\n",
       "<text fill=\"#000000\" font-family=\"Times,serif\" font-size=\"14.00\" text-anchor=\"middle\" x=\"4808.6372\" y=\"-755.3\">output:</text>\n",
       "<polyline fill=\"none\" points=\"4836.1372,-747.5 4836.1372,-793.5 \" stroke=\"#000000\"/>\n",
       "<text fill=\"#000000\" font-family=\"Times,serif\" font-size=\"14.00\" text-anchor=\"middle\" x=\"5115.1372\" y=\"-778.3\">[(None, 60, 512), (None, 64, 512)]</text>\n",
       "<polyline fill=\"none\" points=\"4836.1372,-770.5 5394.1372,-770.5 \" stroke=\"#000000\"/>\n",
       "<text fill=\"#000000\" font-family=\"Times,serif\" font-size=\"14.00\" text-anchor=\"middle\" x=\"5115.1372\" y=\"-755.3\">[(None, 60, 64), (None, 64, 64), (None, 64, 512), (None, 60, 64), (None, 60, 64), (None, 60, 512)]</text>\n",
       "</g>\n",
       "<!-- 140378938624912&#45;&gt;140378857024464 -->\n",
       "<g class=\"edge\" id=\"edge173\">\n",
       "<title>140378938624912-&gt;140378857024464</title>\n",
       "<path d=\"M4233.1372,-853.5C4243.6816,-832.7799 4464.9797,-810.5445 4669.1566,-794.3081\" fill=\"none\" stroke=\"#000000\"/>\n",
       "<polygon fill=\"#000000\" points=\"4669.4807,-797.7935 4679.1734,-793.5152 4668.9283,-790.8153 4669.4807,-797.7935\" stroke=\"#000000\"/>\n",
       "</g>\n",
       "<!-- 140378855424720 -->\n",
       "<g class=\"node\" id=\"node121\">\n",
       "<title>140378855424720</title>\n",
       "<polygon fill=\"none\" points=\"5450.1372,-747.5 5450.1372,-793.5 6212.1372,-793.5 6212.1372,-747.5 5450.1372,-747.5\" stroke=\"#000000\"/>\n",
       "<text fill=\"#000000\" font-family=\"Times,serif\" font-size=\"14.00\" text-anchor=\"middle\" x=\"5524.6372\" y=\"-766.8\">eca25: EncDecAttention</text>\n",
       "<polyline fill=\"none\" points=\"5599.1372,-747.5 5599.1372,-793.5 \" stroke=\"#000000\"/>\n",
       "<text fill=\"#000000\" font-family=\"Times,serif\" font-size=\"14.00\" text-anchor=\"middle\" x=\"5626.6372\" y=\"-778.3\">input:</text>\n",
       "<polyline fill=\"none\" points=\"5599.1372,-770.5 5654.1372,-770.5 \" stroke=\"#000000\"/>\n",
       "<text fill=\"#000000\" font-family=\"Times,serif\" font-size=\"14.00\" text-anchor=\"middle\" x=\"5626.6372\" y=\"-755.3\">output:</text>\n",
       "<polyline fill=\"none\" points=\"5654.1372,-747.5 5654.1372,-793.5 \" stroke=\"#000000\"/>\n",
       "<text fill=\"#000000\" font-family=\"Times,serif\" font-size=\"14.00\" text-anchor=\"middle\" x=\"5933.1372\" y=\"-778.3\">[(None, 60, 512), (None, 64, 512)]</text>\n",
       "<polyline fill=\"none\" points=\"5654.1372,-770.5 6212.1372,-770.5 \" stroke=\"#000000\"/>\n",
       "<text fill=\"#000000\" font-family=\"Times,serif\" font-size=\"14.00\" text-anchor=\"middle\" x=\"5933.1372\" y=\"-755.3\">[(None, 60, 64), (None, 64, 64), (None, 64, 512), (None, 60, 64), (None, 60, 64), (None, 60, 512)]</text>\n",
       "</g>\n",
       "<!-- 140378938624912&#45;&gt;140378855424720 -->\n",
       "<g class=\"edge\" id=\"edge175\">\n",
       "<title>140378938624912-&gt;140378855424720</title>\n",
       "<path d=\"M7321.1372,-2015.5C7201.1098,-1965.13 8393.4936,-2042.0781 8491.1372,-1956 8527.2042,-1924.205 8510.1372,-1897.5807 8510.1372,-1849.5 8510.1372,-1849.5 8510.1372,-1849.5 8510.1372,-1102.5 8510.1372,-915.5573 8353.2,-895.9345 8171.1372,-853.5\" fill=\"none\" stroke=\"#000000\"/>\n",
       "<path d=\"M8171.1372,-853.5C7747.2631,-762.487 6654.2266,-813.6513 6221.1372,-794 6220.9148,-793.9899 6220.6924,-793.9798 6220.4699,-793.9697\" fill=\"none\" stroke=\"#000000\"/>\n",
       "<polygon fill=\"#000000\" points=\"6220.5632,-790.4704 6210.4127,-793.5062 6220.2409,-797.463 6220.5632,-790.4704\" stroke=\"#000000\"/>\n",
       "</g>\n",
       "<!-- 140378853174992 -->\n",
       "<g class=\"node\" id=\"node122\">\n",
       "<title>140378853174992</title>\n",
       "<polygon fill=\"none\" points=\"6230.1372,-747.5 6230.1372,-793.5 6992.1372,-793.5 6992.1372,-747.5 6230.1372,-747.5\" stroke=\"#000000\"/>\n",
       "<text fill=\"#000000\" font-family=\"Times,serif\" font-size=\"14.00\" text-anchor=\"middle\" x=\"6304.6372\" y=\"-766.8\">eca26: EncDecAttention</text>\n",
       "<polyline fill=\"none\" points=\"6379.1372,-747.5 6379.1372,-793.5 \" stroke=\"#000000\"/>\n",
       "<text fill=\"#000000\" font-family=\"Times,serif\" font-size=\"14.00\" text-anchor=\"middle\" x=\"6406.6372\" y=\"-778.3\">input:</text>\n",
       "<polyline fill=\"none\" points=\"6379.1372,-770.5 6434.1372,-770.5 \" stroke=\"#000000\"/>\n",
       "<text fill=\"#000000\" font-family=\"Times,serif\" font-size=\"14.00\" text-anchor=\"middle\" x=\"6406.6372\" y=\"-755.3\">output:</text>\n",
       "<polyline fill=\"none\" points=\"6434.1372,-747.5 6434.1372,-793.5 \" stroke=\"#000000\"/>\n",
       "<text fill=\"#000000\" font-family=\"Times,serif\" font-size=\"14.00\" text-anchor=\"middle\" x=\"6713.1372\" y=\"-778.3\">[(None, 60, 512), (None, 64, 512)]</text>\n",
       "<polyline fill=\"none\" points=\"6434.1372,-770.5 6992.1372,-770.5 \" stroke=\"#000000\"/>\n",
       "<text fill=\"#000000\" font-family=\"Times,serif\" font-size=\"14.00\" text-anchor=\"middle\" x=\"6713.1372\" y=\"-755.3\">[(None, 60, 64), (None, 64, 64), (None, 64, 512), (None, 60, 64), (None, 60, 64), (None, 60, 512)]</text>\n",
       "</g>\n",
       "<!-- 140378938624912&#45;&gt;140378853174992 -->\n",
       "<g class=\"edge\" id=\"edge177\">\n",
       "<title>140378938624912-&gt;140378853174992</title>\n",
       "<path d=\"M8171.1372,-853.5C7919.7097,-799.5142 7277.0168,-808.2159 7002.2289,-794.0388\" fill=\"none\" stroke=\"#000000\"/>\n",
       "<polygon fill=\"#000000\" points=\"7002.3843,-790.5422 6992.2115,-793.5025 7002.01,-797.5322 7002.3843,-790.5422\" stroke=\"#000000\"/>\n",
       "</g>\n",
       "<!-- 140378851043152 -->\n",
       "<g class=\"node\" id=\"node123\">\n",
       "<title>140378851043152</title>\n",
       "<polygon fill=\"none\" points=\"7010.1372,-747.5 7010.1372,-793.5 7772.1372,-793.5 7772.1372,-747.5 7010.1372,-747.5\" stroke=\"#000000\"/>\n",
       "<text fill=\"#000000\" font-family=\"Times,serif\" font-size=\"14.00\" text-anchor=\"middle\" x=\"7084.6372\" y=\"-766.8\">eca27: EncDecAttention</text>\n",
       "<polyline fill=\"none\" points=\"7159.1372,-747.5 7159.1372,-793.5 \" stroke=\"#000000\"/>\n",
       "<text fill=\"#000000\" font-family=\"Times,serif\" font-size=\"14.00\" text-anchor=\"middle\" x=\"7186.6372\" y=\"-778.3\">input:</text>\n",
       "<polyline fill=\"none\" points=\"7159.1372,-770.5 7214.1372,-770.5 \" stroke=\"#000000\"/>\n",
       "<text fill=\"#000000\" font-family=\"Times,serif\" font-size=\"14.00\" text-anchor=\"middle\" x=\"7186.6372\" y=\"-755.3\">output:</text>\n",
       "<polyline fill=\"none\" points=\"7214.1372,-747.5 7214.1372,-793.5 \" stroke=\"#000000\"/>\n",
       "<text fill=\"#000000\" font-family=\"Times,serif\" font-size=\"14.00\" text-anchor=\"middle\" x=\"7493.1372\" y=\"-778.3\">[(None, 60, 512), (None, 64, 512)]</text>\n",
       "<polyline fill=\"none\" points=\"7214.1372,-770.5 7772.1372,-770.5 \" stroke=\"#000000\"/>\n",
       "<text fill=\"#000000\" font-family=\"Times,serif\" font-size=\"14.00\" text-anchor=\"middle\" x=\"7493.1372\" y=\"-755.3\">[(None, 60, 64), (None, 64, 64), (None, 64, 512), (None, 60, 64), (None, 60, 64), (None, 60, 512)]</text>\n",
       "</g>\n",
       "<!-- 140378938624912&#45;&gt;140378851043152 -->\n",
       "<g class=\"edge\" id=\"edge179\">\n",
       "<title>140378938624912-&gt;140378851043152</title>\n",
       "<path d=\"M8171.1372,-853.5C8041.2091,-825.6022 7896.9996,-806.9128 7768.2748,-794.4652\" fill=\"none\" stroke=\"#000000\"/>\n",
       "<polygon fill=\"#000000\" points=\"7768.5343,-790.9742 7758.2462,-793.505 7767.867,-797.9423 7768.5343,-790.9742\" stroke=\"#000000\"/>\n",
       "</g>\n",
       "<!-- 140378938024464 -->\n",
       "<g class=\"node\" id=\"node52\">\n",
       "<title>140378938024464</title>\n",
       "<polygon fill=\"none\" points=\"4757.1372,-3071.5 4757.1372,-3117.5 5175.1372,-3117.5 5175.1372,-3071.5 4757.1372,-3071.5\" stroke=\"#000000\"/>\n",
       "<text fill=\"#000000\" font-family=\"Times,serif\" font-size=\"14.00\" text-anchor=\"middle\" x=\"4890.1372\" y=\"-3090.8\">batch_normalization_88: BatchNormalization</text>\n",
       "<polyline fill=\"none\" points=\"5023.1372,-3071.5 5023.1372,-3117.5 \" stroke=\"#000000\"/>\n",
       "<text fill=\"#000000\" font-family=\"Times,serif\" font-size=\"14.00\" text-anchor=\"middle\" x=\"5050.6372\" y=\"-3102.3\">input:</text>\n",
       "<polyline fill=\"none\" points=\"5023.1372,-3094.5 5078.1372,-3094.5 \" stroke=\"#000000\"/>\n",
       "<text fill=\"#000000\" font-family=\"Times,serif\" font-size=\"14.00\" text-anchor=\"middle\" x=\"5050.6372\" y=\"-3079.3\">output:</text>\n",
       "<polyline fill=\"none\" points=\"5078.1372,-3071.5 5078.1372,-3117.5 \" stroke=\"#000000\"/>\n",
       "<text fill=\"#000000\" font-family=\"Times,serif\" font-size=\"14.00\" text-anchor=\"middle\" x=\"5126.6372\" y=\"-3102.3\">(None, 1, 512)</text>\n",
       "<polyline fill=\"none\" points=\"5078.1372,-3094.5 5175.1372,-3094.5 \" stroke=\"#000000\"/>\n",
       "<text fill=\"#000000\" font-family=\"Times,serif\" font-size=\"14.00\" text-anchor=\"middle\" x=\"5126.6372\" y=\"-3079.3\">(None, 1, 512)</text>\n",
       "</g>\n",
       "<!-- 140378938421776&#45;&gt;140378938024464 -->\n",
       "<g class=\"edge\" id=\"edge59\">\n",
       "<title>140378938421776-&gt;140378938024464</title>\n",
       "<path d=\"M5054.8748,-3154.3799C5040.7326,-3144.8367 5024.1822,-3133.6686 5009.2306,-3123.5793\" fill=\"none\" stroke=\"#000000\"/>\n",
       "<polygon fill=\"#000000\" points=\"5010.8894,-3120.4764 5000.6424,-3117.784 5006.9739,-3126.2789 5010.8894,-3120.4764\" stroke=\"#000000\"/>\n",
       "</g>\n",
       "<!-- 140378938025168 -->\n",
       "<g class=\"node\" id=\"node53\">\n",
       "<title>140378938025168</title>\n",
       "<polygon fill=\"none\" points=\"5193.1372,-3071.5 5193.1372,-3117.5 5611.1372,-3117.5 5611.1372,-3071.5 5193.1372,-3071.5\" stroke=\"#000000\"/>\n",
       "<text fill=\"#000000\" font-family=\"Times,serif\" font-size=\"14.00\" text-anchor=\"middle\" x=\"5326.1372\" y=\"-3090.8\">batch_normalization_89: BatchNormalization</text>\n",
       "<polyline fill=\"none\" points=\"5459.1372,-3071.5 5459.1372,-3117.5 \" stroke=\"#000000\"/>\n",
       "<text fill=\"#000000\" font-family=\"Times,serif\" font-size=\"14.00\" text-anchor=\"middle\" x=\"5486.6372\" y=\"-3102.3\">input:</text>\n",
       "<polyline fill=\"none\" points=\"5459.1372,-3094.5 5514.1372,-3094.5 \" stroke=\"#000000\"/>\n",
       "<text fill=\"#000000\" font-family=\"Times,serif\" font-size=\"14.00\" text-anchor=\"middle\" x=\"5486.6372\" y=\"-3079.3\">output:</text>\n",
       "<polyline fill=\"none\" points=\"5514.1372,-3071.5 5514.1372,-3117.5 \" stroke=\"#000000\"/>\n",
       "<text fill=\"#000000\" font-family=\"Times,serif\" font-size=\"14.00\" text-anchor=\"middle\" x=\"5562.6372\" y=\"-3102.3\">(None, 1, 512)</text>\n",
       "<polyline fill=\"none\" points=\"5514.1372,-3094.5 5611.1372,-3094.5 \" stroke=\"#000000\"/>\n",
       "<text fill=\"#000000\" font-family=\"Times,serif\" font-size=\"14.00\" text-anchor=\"middle\" x=\"5562.6372\" y=\"-3079.3\">(None, 1, 512)</text>\n",
       "</g>\n",
       "<!-- 140378938024912&#45;&gt;140378938025168 -->\n",
       "<g class=\"edge\" id=\"edge60\">\n",
       "<title>140378938024912-&gt;140378938025168</title>\n",
       "<path d=\"M5431.7164,-3154.3799C5427.531,-3145.907 5422.7128,-3136.1531 5418.1967,-3127.0107\" fill=\"none\" stroke=\"#000000\"/>\n",
       "<polygon fill=\"#000000\" points=\"5421.2059,-3125.1997 5413.6389,-3117.784 5414.9298,-3128.2999 5421.2059,-3125.1997\" stroke=\"#000000\"/>\n",
       "</g>\n",
       "<!-- 140378937015184 -->\n",
       "<g class=\"node\" id=\"node54\">\n",
       "<title>140378937015184</title>\n",
       "<polygon fill=\"none\" points=\"5629.1372,-3071.5 5629.1372,-3117.5 6047.1372,-3117.5 6047.1372,-3071.5 5629.1372,-3071.5\" stroke=\"#000000\"/>\n",
       "<text fill=\"#000000\" font-family=\"Times,serif\" font-size=\"14.00\" text-anchor=\"middle\" x=\"5762.1372\" y=\"-3090.8\">batch_normalization_90: BatchNormalization</text>\n",
       "<polyline fill=\"none\" points=\"5895.1372,-3071.5 5895.1372,-3117.5 \" stroke=\"#000000\"/>\n",
       "<text fill=\"#000000\" font-family=\"Times,serif\" font-size=\"14.00\" text-anchor=\"middle\" x=\"5922.6372\" y=\"-3102.3\">input:</text>\n",
       "<polyline fill=\"none\" points=\"5895.1372,-3094.5 5950.1372,-3094.5 \" stroke=\"#000000\"/>\n",
       "<text fill=\"#000000\" font-family=\"Times,serif\" font-size=\"14.00\" text-anchor=\"middle\" x=\"5922.6372\" y=\"-3079.3\">output:</text>\n",
       "<polyline fill=\"none\" points=\"5950.1372,-3071.5 5950.1372,-3117.5 \" stroke=\"#000000\"/>\n",
       "<text fill=\"#000000\" font-family=\"Times,serif\" font-size=\"14.00\" text-anchor=\"middle\" x=\"5998.6372\" y=\"-3102.3\">(None, 1, 512)</text>\n",
       "<polyline fill=\"none\" points=\"5950.1372,-3094.5 6047.1372,-3094.5 \" stroke=\"#000000\"/>\n",
       "<text fill=\"#000000\" font-family=\"Times,serif\" font-size=\"14.00\" text-anchor=\"middle\" x=\"5998.6372\" y=\"-3079.3\">(None, 1, 512)</text>\n",
       "</g>\n",
       "<!-- 140378944485776&#45;&gt;140378937015184 -->\n",
       "<g class=\"edge\" id=\"edge61\">\n",
       "<title>140378944485776-&gt;140378937015184</title>\n",
       "<path d=\"M5808.558,-3154.3799C5812.7434,-3145.907 5817.5615,-3136.1531 5822.0777,-3127.0107\" fill=\"none\" stroke=\"#000000\"/>\n",
       "<polygon fill=\"#000000\" points=\"5825.3445,-3128.2999 5826.6354,-3117.784 5819.0685,-3125.1997 5825.3445,-3128.2999\" stroke=\"#000000\"/>\n",
       "</g>\n",
       "<!-- 140378944080016 -->\n",
       "<g class=\"node\" id=\"node55\">\n",
       "<title>140378944080016</title>\n",
       "<polygon fill=\"none\" points=\"6065.1372,-3071.5 6065.1372,-3117.5 6483.1372,-3117.5 6483.1372,-3071.5 6065.1372,-3071.5\" stroke=\"#000000\"/>\n",
       "<text fill=\"#000000\" font-family=\"Times,serif\" font-size=\"14.00\" text-anchor=\"middle\" x=\"6198.1372\" y=\"-3090.8\">batch_normalization_91: BatchNormalization</text>\n",
       "<polyline fill=\"none\" points=\"6331.1372,-3071.5 6331.1372,-3117.5 \" stroke=\"#000000\"/>\n",
       "<text fill=\"#000000\" font-family=\"Times,serif\" font-size=\"14.00\" text-anchor=\"middle\" x=\"6358.6372\" y=\"-3102.3\">input:</text>\n",
       "<polyline fill=\"none\" points=\"6331.1372,-3094.5 6386.1372,-3094.5 \" stroke=\"#000000\"/>\n",
       "<text fill=\"#000000\" font-family=\"Times,serif\" font-size=\"14.00\" text-anchor=\"middle\" x=\"6358.6372\" y=\"-3079.3\">output:</text>\n",
       "<polyline fill=\"none\" points=\"6386.1372,-3071.5 6386.1372,-3117.5 \" stroke=\"#000000\"/>\n",
       "<text fill=\"#000000\" font-family=\"Times,serif\" font-size=\"14.00\" text-anchor=\"middle\" x=\"6434.6372\" y=\"-3102.3\">(None, 1, 512)</text>\n",
       "<polyline fill=\"none\" points=\"6386.1372,-3094.5 6483.1372,-3094.5 \" stroke=\"#000000\"/>\n",
       "<text fill=\"#000000\" font-family=\"Times,serif\" font-size=\"14.00\" text-anchor=\"middle\" x=\"6434.6372\" y=\"-3079.3\">(None, 1, 512)</text>\n",
       "</g>\n",
       "<!-- 140378943977232&#45;&gt;140378944080016 -->\n",
       "<g class=\"edge\" id=\"edge62\">\n",
       "<title>140378943977232-&gt;140378944080016</title>\n",
       "<path d=\"M6185.3995,-3154.3799C6199.5418,-3144.8367 6216.0922,-3133.6686 6231.0437,-3123.5793\" fill=\"none\" stroke=\"#000000\"/>\n",
       "<polygon fill=\"#000000\" points=\"6233.3005,-3126.2789 6239.632,-3117.784 6229.3849,-3120.4764 6233.3005,-3126.2789\" stroke=\"#000000\"/>\n",
       "</g>\n",
       "<!-- 140378931851024 -->\n",
       "<g class=\"node\" id=\"node56\">\n",
       "<title>140378931851024</title>\n",
       "<polygon fill=\"none\" points=\"6501.1372,-3071.5 6501.1372,-3117.5 6919.1372,-3117.5 6919.1372,-3071.5 6501.1372,-3071.5\" stroke=\"#000000\"/>\n",
       "<text fill=\"#000000\" font-family=\"Times,serif\" font-size=\"14.00\" text-anchor=\"middle\" x=\"6634.1372\" y=\"-3090.8\">batch_normalization_92: BatchNormalization</text>\n",
       "<polyline fill=\"none\" points=\"6767.1372,-3071.5 6767.1372,-3117.5 \" stroke=\"#000000\"/>\n",
       "<text fill=\"#000000\" font-family=\"Times,serif\" font-size=\"14.00\" text-anchor=\"middle\" x=\"6794.6372\" y=\"-3102.3\">input:</text>\n",
       "<polyline fill=\"none\" points=\"6767.1372,-3094.5 6822.1372,-3094.5 \" stroke=\"#000000\"/>\n",
       "<text fill=\"#000000\" font-family=\"Times,serif\" font-size=\"14.00\" text-anchor=\"middle\" x=\"6794.6372\" y=\"-3079.3\">output:</text>\n",
       "<polyline fill=\"none\" points=\"6822.1372,-3071.5 6822.1372,-3117.5 \" stroke=\"#000000\"/>\n",
       "<text fill=\"#000000\" font-family=\"Times,serif\" font-size=\"14.00\" text-anchor=\"middle\" x=\"6870.6372\" y=\"-3102.3\">(None, 1, 512)</text>\n",
       "<polyline fill=\"none\" points=\"6822.1372,-3094.5 6919.1372,-3094.5 \" stroke=\"#000000\"/>\n",
       "<text fill=\"#000000\" font-family=\"Times,serif\" font-size=\"14.00\" text-anchor=\"middle\" x=\"6870.6372\" y=\"-3079.3\">(None, 1, 512)</text>\n",
       "</g>\n",
       "<!-- 140378933623504&#45;&gt;140378931851024 -->\n",
       "<g class=\"edge\" id=\"edge63\">\n",
       "<title>140378933623504-&gt;140378931851024</title>\n",
       "<path d=\"M6561.9689,-3154.4901C6587.2969,-3144.2353 6617.3012,-3132.0872 6643.6629,-3121.414\" fill=\"none\" stroke=\"#000000\"/>\n",
       "<polygon fill=\"#000000\" points=\"6645.2394,-3124.5518 6653.1949,-3117.5547 6642.6123,-3118.0634 6645.2394,-3124.5518\" stroke=\"#000000\"/>\n",
       "</g>\n",
       "<!-- 140378929709008 -->\n",
       "<g class=\"node\" id=\"node57\">\n",
       "<title>140378929709008</title>\n",
       "<polygon fill=\"none\" points=\"6937.1372,-3071.5 6937.1372,-3117.5 7355.1372,-3117.5 7355.1372,-3071.5 6937.1372,-3071.5\" stroke=\"#000000\"/>\n",
       "<text fill=\"#000000\" font-family=\"Times,serif\" font-size=\"14.00\" text-anchor=\"middle\" x=\"7070.1372\" y=\"-3090.8\">batch_normalization_93: BatchNormalization</text>\n",
       "<polyline fill=\"none\" points=\"7203.1372,-3071.5 7203.1372,-3117.5 \" stroke=\"#000000\"/>\n",
       "<text fill=\"#000000\" font-family=\"Times,serif\" font-size=\"14.00\" text-anchor=\"middle\" x=\"7230.6372\" y=\"-3102.3\">input:</text>\n",
       "<polyline fill=\"none\" points=\"7203.1372,-3094.5 7258.1372,-3094.5 \" stroke=\"#000000\"/>\n",
       "<text fill=\"#000000\" font-family=\"Times,serif\" font-size=\"14.00\" text-anchor=\"middle\" x=\"7230.6372\" y=\"-3079.3\">output:</text>\n",
       "<polyline fill=\"none\" points=\"7258.1372,-3071.5 7258.1372,-3117.5 \" stroke=\"#000000\"/>\n",
       "<text fill=\"#000000\" font-family=\"Times,serif\" font-size=\"14.00\" text-anchor=\"middle\" x=\"7306.6372\" y=\"-3102.3\">(None, 1, 512)</text>\n",
       "<polyline fill=\"none\" points=\"7258.1372,-3094.5 7355.1372,-3094.5 \" stroke=\"#000000\"/>\n",
       "<text fill=\"#000000\" font-family=\"Times,serif\" font-size=\"14.00\" text-anchor=\"middle\" x=\"7306.6372\" y=\"-3079.3\">(None, 1, 512)</text>\n",
       "</g>\n",
       "<!-- 140378931480720&#45;&gt;140378929709008 -->\n",
       "<g class=\"edge\" id=\"edge64\">\n",
       "<title>140378931480720-&gt;140378929709008</title>\n",
       "<path d=\"M6938.7016,-3154.4901C6975.2494,-3143.9205 7018.7523,-3131.3395 7056.4578,-3120.4352\" fill=\"none\" stroke=\"#000000\"/>\n",
       "<polygon fill=\"#000000\" points=\"7057.7841,-3123.6951 7066.418,-3117.5547 7055.8393,-3116.9707 7057.7841,-3123.6951\" stroke=\"#000000\"/>\n",
       "</g>\n",
       "<!-- 140378929812240 -->\n",
       "<g class=\"node\" id=\"node58\">\n",
       "<title>140378929812240</title>\n",
       "<polygon fill=\"none\" points=\"3885.1372,-3071.5 3885.1372,-3117.5 4303.1372,-3117.5 4303.1372,-3071.5 3885.1372,-3071.5\" stroke=\"#000000\"/>\n",
       "<text fill=\"#000000\" font-family=\"Times,serif\" font-size=\"14.00\" text-anchor=\"middle\" x=\"4018.1372\" y=\"-3090.8\">batch_normalization_94: BatchNormalization</text>\n",
       "<polyline fill=\"none\" points=\"4151.1372,-3071.5 4151.1372,-3117.5 \" stroke=\"#000000\"/>\n",
       "<text fill=\"#000000\" font-family=\"Times,serif\" font-size=\"14.00\" text-anchor=\"middle\" x=\"4178.6372\" y=\"-3102.3\">input:</text>\n",
       "<polyline fill=\"none\" points=\"4151.1372,-3094.5 4206.1372,-3094.5 \" stroke=\"#000000\"/>\n",
       "<text fill=\"#000000\" font-family=\"Times,serif\" font-size=\"14.00\" text-anchor=\"middle\" x=\"4178.6372\" y=\"-3079.3\">output:</text>\n",
       "<polyline fill=\"none\" points=\"4206.1372,-3071.5 4206.1372,-3117.5 \" stroke=\"#000000\"/>\n",
       "<text fill=\"#000000\" font-family=\"Times,serif\" font-size=\"14.00\" text-anchor=\"middle\" x=\"4254.6372\" y=\"-3102.3\">(None, 1, 512)</text>\n",
       "<polyline fill=\"none\" points=\"4206.1372,-3094.5 4303.1372,-3094.5 \" stroke=\"#000000\"/>\n",
       "<text fill=\"#000000\" font-family=\"Times,serif\" font-size=\"14.00\" text-anchor=\"middle\" x=\"4254.6372\" y=\"-3079.3\">(None, 1, 512)</text>\n",
       "</g>\n",
       "<!-- 140378929812560&#45;&gt;140378929812240 -->\n",
       "<g class=\"edge\" id=\"edge65\">\n",
       "<title>140378929812560-&gt;140378929812240</title>\n",
       "<path d=\"M4301.5728,-3154.4901C4265.025,-3143.9205 4221.522,-3131.3395 4183.8166,-3120.4352\" fill=\"none\" stroke=\"#000000\"/>\n",
       "<polygon fill=\"#000000\" points=\"4184.4351,-3116.9707 4173.8563,-3117.5547 4182.4903,-3123.6951 4184.4351,-3116.9707\" stroke=\"#000000\"/>\n",
       "</g>\n",
       "<!-- 140378928053200 -->\n",
       "<g class=\"node\" id=\"node59\">\n",
       "<title>140378928053200</title>\n",
       "<polygon fill=\"none\" points=\"4321.1372,-3071.5 4321.1372,-3117.5 4739.1372,-3117.5 4739.1372,-3071.5 4321.1372,-3071.5\" stroke=\"#000000\"/>\n",
       "<text fill=\"#000000\" font-family=\"Times,serif\" font-size=\"14.00\" text-anchor=\"middle\" x=\"4454.1372\" y=\"-3090.8\">batch_normalization_95: BatchNormalization</text>\n",
       "<polyline fill=\"none\" points=\"4587.1372,-3071.5 4587.1372,-3117.5 \" stroke=\"#000000\"/>\n",
       "<text fill=\"#000000\" font-family=\"Times,serif\" font-size=\"14.00\" text-anchor=\"middle\" x=\"4614.6372\" y=\"-3102.3\">input:</text>\n",
       "<polyline fill=\"none\" points=\"4587.1372,-3094.5 4642.1372,-3094.5 \" stroke=\"#000000\"/>\n",
       "<text fill=\"#000000\" font-family=\"Times,serif\" font-size=\"14.00\" text-anchor=\"middle\" x=\"4614.6372\" y=\"-3079.3\">output:</text>\n",
       "<polyline fill=\"none\" points=\"4642.1372,-3071.5 4642.1372,-3117.5 \" stroke=\"#000000\"/>\n",
       "<text fill=\"#000000\" font-family=\"Times,serif\" font-size=\"14.00\" text-anchor=\"middle\" x=\"4690.6372\" y=\"-3102.3\">(None, 1, 512)</text>\n",
       "<polyline fill=\"none\" points=\"4642.1372,-3094.5 4739.1372,-3094.5 \" stroke=\"#000000\"/>\n",
       "<text fill=\"#000000\" font-family=\"Times,serif\" font-size=\"14.00\" text-anchor=\"middle\" x=\"4690.6372\" y=\"-3079.3\">(None, 1, 512)</text>\n",
       "</g>\n",
       "<!-- 140378928051408&#45;&gt;140378928053200 -->\n",
       "<g class=\"edge\" id=\"edge66\">\n",
       "<title>140378928051408-&gt;140378928053200</title>\n",
       "<path d=\"M4678.3055,-3154.4901C4652.9775,-3144.2353 4622.9731,-3132.0872 4596.6114,-3121.414\" fill=\"none\" stroke=\"#000000\"/>\n",
       "<polygon fill=\"#000000\" points=\"4597.6621,-3118.0634 4587.0794,-3117.5547 4595.035,-3124.5518 4597.6621,-3118.0634\" stroke=\"#000000\"/>\n",
       "</g>\n",
       "<!-- 140378925873616 -->\n",
       "<g class=\"node\" id=\"node60\">\n",
       "<title>140378925873616</title>\n",
       "<polygon fill=\"none\" points=\"4931.1372,-2988.5 4931.1372,-3034.5 5873.1372,-3034.5 5873.1372,-2988.5 4931.1372,-2988.5\" stroke=\"#000000\"/>\n",
       "<text fill=\"#000000\" font-family=\"Times,serif\" font-size=\"14.00\" text-anchor=\"middle\" x=\"5014.6372\" y=\"-3007.8\">concat_attn_1: Concatenate</text>\n",
       "<polyline fill=\"none\" points=\"5098.1372,-2988.5 5098.1372,-3034.5 \" stroke=\"#000000\"/>\n",
       "<text fill=\"#000000\" font-family=\"Times,serif\" font-size=\"14.00\" text-anchor=\"middle\" x=\"5125.6372\" y=\"-3019.3\">input:</text>\n",
       "<polyline fill=\"none\" points=\"5098.1372,-3011.5 5153.1372,-3011.5 \" stroke=\"#000000\"/>\n",
       "<text fill=\"#000000\" font-family=\"Times,serif\" font-size=\"14.00\" text-anchor=\"middle\" x=\"5125.6372\" y=\"-2996.3\">output:</text>\n",
       "<polyline fill=\"none\" points=\"5153.1372,-2988.5 5153.1372,-3034.5 \" stroke=\"#000000\"/>\n",
       "<text fill=\"#000000\" font-family=\"Times,serif\" font-size=\"14.00\" text-anchor=\"middle\" x=\"5513.1372\" y=\"-3019.3\">[(None, 1, 512), (None, 1, 512), (None, 1, 512), (None, 1, 512), (None, 1, 512), (None, 1, 512), (None, 1, 512), (None, 1, 512)]</text>\n",
       "<polyline fill=\"none\" points=\"5153.1372,-3011.5 5873.1372,-3011.5 \" stroke=\"#000000\"/>\n",
       "<text fill=\"#000000\" font-family=\"Times,serif\" font-size=\"14.00\" text-anchor=\"middle\" x=\"5513.1372\" y=\"-2996.3\">(None, 1, 4096)</text>\n",
       "</g>\n",
       "<!-- 140378938024464&#45;&gt;140378925873616 -->\n",
       "<g class=\"edge\" id=\"edge67\">\n",
       "<title>140378938024464-&gt;140378925873616</title>\n",
       "<path d=\"M5087.0085,-3071.4901C5144.1845,-3060.6057 5212.5653,-3047.5882 5270.9942,-3036.4653\" fill=\"none\" stroke=\"#000000\"/>\n",
       "<polygon fill=\"#000000\" points=\"5271.8617,-3039.8631 5281.0308,-3034.5547 5270.5526,-3032.9866 5271.8617,-3039.8631\" stroke=\"#000000\"/>\n",
       "</g>\n",
       "<!-- 140378938025168&#45;&gt;140378925873616 -->\n",
       "<g class=\"edge\" id=\"edge68\">\n",
       "<title>140378938025168-&gt;140378925873616</title>\n",
       "<path d=\"M5402.1372,-3071.3799C5402.1372,-3063.1745 5402.1372,-3053.7679 5402.1372,-3044.8786\" fill=\"none\" stroke=\"#000000\"/>\n",
       "<polygon fill=\"#000000\" points=\"5405.6373,-3044.784 5402.1372,-3034.784 5398.6373,-3044.784 5405.6373,-3044.784\" stroke=\"#000000\"/>\n",
       "</g>\n",
       "<!-- 140378937015184&#45;&gt;140378925873616 -->\n",
       "<g class=\"edge\" id=\"edge69\">\n",
       "<title>140378937015184-&gt;140378925873616</title>\n",
       "<path d=\"M5717.2659,-3071.4901C5660.0899,-3060.6057 5591.7091,-3047.5882 5533.2802,-3036.4653\" fill=\"none\" stroke=\"#000000\"/>\n",
       "<polygon fill=\"#000000\" points=\"5533.7218,-3032.9866 5523.2436,-3034.5547 5532.4126,-3039.8631 5533.7218,-3032.9866\" stroke=\"#000000\"/>\n",
       "</g>\n",
       "<!-- 140378944080016&#45;&gt;140378925873616 -->\n",
       "<g class=\"edge\" id=\"edge70\">\n",
       "<title>140378944080016-&gt;140378925873616</title>\n",
       "<path d=\"M6065.0064,-3071.8864C6062.0306,-3071.5874 6059.0729,-3071.2918 6056.1372,-3071 5931.5674,-3058.6201 5793.5452,-3045.9142 5676.526,-3035.4393\" fill=\"none\" stroke=\"#000000\"/>\n",
       "<polygon fill=\"#000000\" points=\"5676.6206,-3031.9339 5666.3485,-3034.5292 5675.997,-3038.9061 5676.6206,-3031.9339\" stroke=\"#000000\"/>\n",
       "</g>\n",
       "<!-- 140378931851024&#45;&gt;140378925873616 -->\n",
       "<g class=\"edge\" id=\"edge71\">\n",
       "<title>140378931851024-&gt;140378925873616</title>\n",
       "<path d=\"M6501.0199,-3071.7364C6498.0399,-3071.4842 6495.0777,-3071.2386 6492.1372,-3071 6293.1062,-3054.8515 6073.2652,-3041.9166 5883.4597,-3032.2855\" fill=\"none\" stroke=\"#000000\"/>\n",
       "<polygon fill=\"#000000\" points=\"5883.4645,-3028.7814 5873.3005,-3031.7717 5883.1109,-3035.7724 5883.4645,-3028.7814\" stroke=\"#000000\"/>\n",
       "</g>\n",
       "<!-- 140378929709008&#45;&gt;140378925873616 -->\n",
       "<g class=\"edge\" id=\"edge72\">\n",
       "<title>140378929709008-&gt;140378925873616</title>\n",
       "<path d=\"M6937.0249,-3071.6718C6934.0433,-3071.4399 6931.0794,-3071.2157 6928.1372,-3071 6579.0978,-3045.4126 6184.2865,-3030.3929 5883.7056,-3021.846\" fill=\"none\" stroke=\"#000000\"/>\n",
       "<polygon fill=\"#000000\" points=\"5883.5953,-3018.3415 5873.5003,-3021.5572 5883.3973,-3025.3387 5883.5953,-3018.3415\" stroke=\"#000000\"/>\n",
       "</g>\n",
       "<!-- 140378929812240&#45;&gt;140378925873616 -->\n",
       "<g class=\"edge\" id=\"edge73\">\n",
       "<title>140378929812240-&gt;140378925873616</title>\n",
       "<path d=\"M4303.2545,-3071.7364C4306.2345,-3071.4842 4309.1967,-3071.2386 4312.1372,-3071 4511.1681,-3054.8515 4731.0092,-3041.9166 4920.8147,-3032.2855\" fill=\"none\" stroke=\"#000000\"/>\n",
       "<polygon fill=\"#000000\" points=\"4921.1635,-3035.7724 4930.9739,-3031.7717 4920.8099,-3028.7814 4921.1635,-3035.7724\" stroke=\"#000000\"/>\n",
       "</g>\n",
       "<!-- 140378928053200&#45;&gt;140378925873616 -->\n",
       "<g class=\"edge\" id=\"edge74\">\n",
       "<title>140378928053200-&gt;140378925873616</title>\n",
       "<path d=\"M4739.268,-3071.8864C4742.2438,-3071.5874 4745.2015,-3071.2918 4748.1372,-3071 4872.7069,-3058.6201 5010.7292,-3045.9142 5127.7484,-3035.4393\" fill=\"none\" stroke=\"#000000\"/>\n",
       "<polygon fill=\"#000000\" points=\"5128.2774,-3038.9061 5137.9258,-3034.5292 5127.6538,-3031.9339 5128.2774,-3038.9061\" stroke=\"#000000\"/>\n",
       "</g>\n",
       "<!-- 140378923626192 -->\n",
       "<g class=\"node\" id=\"node61\">\n",
       "<title>140378923626192</title>\n",
       "<polygon fill=\"none\" points=\"4980.6372,-2905.5 4980.6372,-2951.5 5391.6372,-2951.5 5391.6372,-2905.5 4980.6372,-2905.5\" stroke=\"#000000\"/>\n",
       "<text fill=\"#000000\" font-family=\"Times,serif\" font-size=\"14.00\" text-anchor=\"middle\" x=\"5106.6372\" y=\"-2924.8\">condense_attn1D_1: CondenseAttention1D</text>\n",
       "<polyline fill=\"none\" points=\"5232.6372,-2905.5 5232.6372,-2951.5 \" stroke=\"#000000\"/>\n",
       "<text fill=\"#000000\" font-family=\"Times,serif\" font-size=\"14.00\" text-anchor=\"middle\" x=\"5260.1372\" y=\"-2936.3\">input:</text>\n",
       "<polyline fill=\"none\" points=\"5232.6372,-2928.5 5287.6372,-2928.5 \" stroke=\"#000000\"/>\n",
       "<text fill=\"#000000\" font-family=\"Times,serif\" font-size=\"14.00\" text-anchor=\"middle\" x=\"5260.1372\" y=\"-2913.3\">output:</text>\n",
       "<polyline fill=\"none\" points=\"5287.6372,-2905.5 5287.6372,-2951.5 \" stroke=\"#000000\"/>\n",
       "<text fill=\"#000000\" font-family=\"Times,serif\" font-size=\"14.00\" text-anchor=\"middle\" x=\"5339.6372\" y=\"-2936.3\">(None, 1, 4096)</text>\n",
       "<polyline fill=\"none\" points=\"5287.6372,-2928.5 5391.6372,-2928.5 \" stroke=\"#000000\"/>\n",
       "<text fill=\"#000000\" font-family=\"Times,serif\" font-size=\"14.00\" text-anchor=\"middle\" x=\"5339.6372\" y=\"-2913.3\">(None, 1, 512)</text>\n",
       "</g>\n",
       "<!-- 140378925873616&#45;&gt;140378923626192 -->\n",
       "<g class=\"edge\" id=\"edge75\">\n",
       "<title>140378925873616-&gt;140378923626192</title>\n",
       "<path d=\"M5342.256,-2988.4901C5315.4519,-2978.1904 5283.6772,-2965.9806 5255.8131,-2955.2736\" fill=\"none\" stroke=\"#000000\"/>\n",
       "<polygon fill=\"#000000\" points=\"5256.7249,-2951.8745 5246.1349,-2951.5547 5254.214,-2958.4087 5256.7249,-2951.8745\" stroke=\"#000000\"/>\n",
       "</g>\n",
       "<!-- 140378923091088 -->\n",
       "<g class=\"node\" id=\"node62\">\n",
       "<title>140378923091088</title>\n",
       "<polygon fill=\"none\" points=\"4352.1372,-2822.5 4352.1372,-2868.5 4656.1372,-2868.5 4656.1372,-2822.5 4352.1372,-2822.5\" stroke=\"#000000\"/>\n",
       "<text fill=\"#000000\" font-family=\"Times,serif\" font-size=\"14.00\" text-anchor=\"middle\" x=\"4428.1372\" y=\"-2841.8\">squeeze_attn_1: Lambda</text>\n",
       "<polyline fill=\"none\" points=\"4504.1372,-2822.5 4504.1372,-2868.5 \" stroke=\"#000000\"/>\n",
       "<text fill=\"#000000\" font-family=\"Times,serif\" font-size=\"14.00\" text-anchor=\"middle\" x=\"4531.6372\" y=\"-2853.3\">input:</text>\n",
       "<polyline fill=\"none\" points=\"4504.1372,-2845.5 4559.1372,-2845.5 \" stroke=\"#000000\"/>\n",
       "<text fill=\"#000000\" font-family=\"Times,serif\" font-size=\"14.00\" text-anchor=\"middle\" x=\"4531.6372\" y=\"-2830.3\">output:</text>\n",
       "<polyline fill=\"none\" points=\"4559.1372,-2822.5 4559.1372,-2868.5 \" stroke=\"#000000\"/>\n",
       "<text fill=\"#000000\" font-family=\"Times,serif\" font-size=\"14.00\" text-anchor=\"middle\" x=\"4607.6372\" y=\"-2853.3\">(None, 1, 512)</text>\n",
       "<polyline fill=\"none\" points=\"4559.1372,-2845.5 4656.1372,-2845.5 \" stroke=\"#000000\"/>\n",
       "<text fill=\"#000000\" font-family=\"Times,serif\" font-size=\"14.00\" text-anchor=\"middle\" x=\"4607.6372\" y=\"-2830.3\">(None, 512)</text>\n",
       "</g>\n",
       "<!-- 140378923626192&#45;&gt;140378923091088 -->\n",
       "<g class=\"edge\" id=\"edge76\">\n",
       "<title>140378923626192-&gt;140378923091088</title>\n",
       "<path d=\"M4997.0678,-2905.4901C4893.213,-2892.8509 4765.7245,-2877.3354 4666.4213,-2865.2501\" fill=\"none\" stroke=\"#000000\"/>\n",
       "<polygon fill=\"#000000\" points=\"4666.6415,-2861.7512 4656.2919,-2864.0174 4665.7958,-2868.6999 4666.6415,-2861.7512\" stroke=\"#000000\"/>\n",
       "</g>\n",
       "<!-- 140378923091088&#45;&gt;140378922813456 -->\n",
       "<g class=\"edge\" id=\"edge78\">\n",
       "<title>140378923091088-&gt;140378922813456</title>\n",
       "<path d=\"M4384.652,-2822.4901C4328.1317,-2811.6057 4260.5351,-2798.5882 4202.7762,-2787.4653\" fill=\"none\" stroke=\"#000000\"/>\n",
       "<polygon fill=\"#000000\" points=\"4203.3362,-2784.0089 4192.8548,-2785.5547 4202.0125,-2790.8826 4203.3362,-2784.0089\" stroke=\"#000000\"/>\n",
       "</g>\n",
       "<!-- 140378922814928 -->\n",
       "<g class=\"node\" id=\"node64\">\n",
       "<title>140378922814928</title>\n",
       "<polygon fill=\"none\" points=\"3871.1372,-2656.5 3871.1372,-2702.5 4275.1372,-2702.5 4275.1372,-2656.5 3871.1372,-2656.5\" stroke=\"#000000\"/>\n",
       "<text fill=\"#000000\" font-family=\"Times,serif\" font-size=\"14.00\" text-anchor=\"middle\" x=\"4004.1372\" y=\"-2675.8\">batch_normalization_96: BatchNormalization</text>\n",
       "<polyline fill=\"none\" points=\"4137.1372,-2656.5 4137.1372,-2702.5 \" stroke=\"#000000\"/>\n",
       "<text fill=\"#000000\" font-family=\"Times,serif\" font-size=\"14.00\" text-anchor=\"middle\" x=\"4164.6372\" y=\"-2687.3\">input:</text>\n",
       "<polyline fill=\"none\" points=\"4137.1372,-2679.5 4192.1372,-2679.5 \" stroke=\"#000000\"/>\n",
       "<text fill=\"#000000\" font-family=\"Times,serif\" font-size=\"14.00\" text-anchor=\"middle\" x=\"4164.6372\" y=\"-2664.3\">output:</text>\n",
       "<polyline fill=\"none\" points=\"4192.1372,-2656.5 4192.1372,-2702.5 \" stroke=\"#000000\"/>\n",
       "<text fill=\"#000000\" font-family=\"Times,serif\" font-size=\"14.00\" text-anchor=\"middle\" x=\"4233.6372\" y=\"-2687.3\">(None, 512)</text>\n",
       "<polyline fill=\"none\" points=\"4192.1372,-2679.5 4275.1372,-2679.5 \" stroke=\"#000000\"/>\n",
       "<text fill=\"#000000\" font-family=\"Times,serif\" font-size=\"14.00\" text-anchor=\"middle\" x=\"4233.6372\" y=\"-2664.3\">(None, 512)</text>\n",
       "</g>\n",
       "<!-- 140378922813456&#45;&gt;140378922814928 -->\n",
       "<g class=\"edge\" id=\"edge79\">\n",
       "<title>140378922813456-&gt;140378922814928</title>\n",
       "<path d=\"M4073.1372,-2739.3799C4073.1372,-2731.1745 4073.1372,-2721.7679 4073.1372,-2712.8786\" fill=\"none\" stroke=\"#000000\"/>\n",
       "<polygon fill=\"#000000\" points=\"4076.6373,-2712.784 4073.1372,-2702.784 4069.6373,-2712.784 4076.6373,-2712.784\" stroke=\"#000000\"/>\n",
       "</g>\n",
       "<!-- 140378929708176 -->\n",
       "<g class=\"node\" id=\"node65\">\n",
       "<title>140378929708176</title>\n",
       "<polygon fill=\"none\" points=\"3901.1372,-2573.5 3901.1372,-2619.5 4245.1372,-2619.5 4245.1372,-2573.5 3901.1372,-2573.5\" stroke=\"#000000\"/>\n",
       "<text fill=\"#000000\" font-family=\"Times,serif\" font-size=\"14.00\" text-anchor=\"middle\" x=\"3993.6372\" y=\"-2592.8\">repeat_vector_3: RepeatVector</text>\n",
       "<polyline fill=\"none\" points=\"4086.1372,-2573.5 4086.1372,-2619.5 \" stroke=\"#000000\"/>\n",
       "<text fill=\"#000000\" font-family=\"Times,serif\" font-size=\"14.00\" text-anchor=\"middle\" x=\"4113.6372\" y=\"-2604.3\">input:</text>\n",
       "<polyline fill=\"none\" points=\"4086.1372,-2596.5 4141.1372,-2596.5 \" stroke=\"#000000\"/>\n",
       "<text fill=\"#000000\" font-family=\"Times,serif\" font-size=\"14.00\" text-anchor=\"middle\" x=\"4113.6372\" y=\"-2581.3\">output:</text>\n",
       "<polyline fill=\"none\" points=\"4141.1372,-2573.5 4141.1372,-2619.5 \" stroke=\"#000000\"/>\n",
       "<text fill=\"#000000\" font-family=\"Times,serif\" font-size=\"14.00\" text-anchor=\"middle\" x=\"4193.1372\" y=\"-2604.3\">(None, 512)</text>\n",
       "<polyline fill=\"none\" points=\"4141.1372,-2596.5 4245.1372,-2596.5 \" stroke=\"#000000\"/>\n",
       "<text fill=\"#000000\" font-family=\"Times,serif\" font-size=\"14.00\" text-anchor=\"middle\" x=\"4193.1372\" y=\"-2581.3\">(None, 60, 512)</text>\n",
       "</g>\n",
       "<!-- 140378922814928&#45;&gt;140378929708176 -->\n",
       "<g class=\"edge\" id=\"edge80\">\n",
       "<title>140378922814928-&gt;140378929708176</title>\n",
       "<path d=\"M4073.1372,-2656.3799C4073.1372,-2648.1745 4073.1372,-2638.7679 4073.1372,-2629.8786\" fill=\"none\" stroke=\"#000000\"/>\n",
       "<polygon fill=\"#000000\" points=\"4076.6373,-2629.784 4073.1372,-2619.784 4069.6373,-2629.784 4076.6373,-2629.784\" stroke=\"#000000\"/>\n",
       "</g>\n",
       "<!-- 140378921526928 -->\n",
       "<g class=\"node\" id=\"node66\">\n",
       "<title>140378921526928</title>\n",
       "<polygon fill=\"none\" points=\"3935.6372,-2490.5 3935.6372,-2536.5 4210.6372,-2536.5 4210.6372,-2490.5 3935.6372,-2490.5\" stroke=\"#000000\"/>\n",
       "<text fill=\"#000000\" font-family=\"Times,serif\" font-size=\"14.00\" text-anchor=\"middle\" x=\"3993.6372\" y=\"-2509.8\">dense_257: Dense</text>\n",
       "<polyline fill=\"none\" points=\"4051.6372,-2490.5 4051.6372,-2536.5 \" stroke=\"#000000\"/>\n",
       "<text fill=\"#000000\" font-family=\"Times,serif\" font-size=\"14.00\" text-anchor=\"middle\" x=\"4079.1372\" y=\"-2521.3\">input:</text>\n",
       "<polyline fill=\"none\" points=\"4051.6372,-2513.5 4106.6372,-2513.5 \" stroke=\"#000000\"/>\n",
       "<text fill=\"#000000\" font-family=\"Times,serif\" font-size=\"14.00\" text-anchor=\"middle\" x=\"4079.1372\" y=\"-2498.3\">output:</text>\n",
       "<polyline fill=\"none\" points=\"4106.6372,-2490.5 4106.6372,-2536.5 \" stroke=\"#000000\"/>\n",
       "<text fill=\"#000000\" font-family=\"Times,serif\" font-size=\"14.00\" text-anchor=\"middle\" x=\"4158.6372\" y=\"-2521.3\">(None, 60, 512)</text>\n",
       "<polyline fill=\"none\" points=\"4106.6372,-2513.5 4210.6372,-2513.5 \" stroke=\"#000000\"/>\n",
       "<text fill=\"#000000\" font-family=\"Times,serif\" font-size=\"14.00\" text-anchor=\"middle\" x=\"4158.6372\" y=\"-2498.3\">(None, 60, 512)</text>\n",
       "</g>\n",
       "<!-- 140378929708176&#45;&gt;140378921526928 -->\n",
       "<g class=\"edge\" id=\"edge81\">\n",
       "<title>140378929708176-&gt;140378921526928</title>\n",
       "<path d=\"M4073.1372,-2573.3799C4073.1372,-2565.1745 4073.1372,-2555.7679 4073.1372,-2546.8786\" fill=\"none\" stroke=\"#000000\"/>\n",
       "<polygon fill=\"#000000\" points=\"4076.6373,-2546.784 4073.1372,-2536.784 4069.6373,-2546.784 4076.6373,-2546.784\" stroke=\"#000000\"/>\n",
       "</g>\n",
       "<!-- 140378921466832 -->\n",
       "<g class=\"node\" id=\"node68\">\n",
       "<title>140378921466832</title>\n",
       "<polygon fill=\"none\" points=\"4064.6372,-2407.5 4064.6372,-2453.5 4413.6372,-2453.5 4413.6372,-2407.5 4064.6372,-2407.5\" stroke=\"#000000\"/>\n",
       "<text fill=\"#000000\" font-family=\"Times,serif\" font-size=\"14.00\" text-anchor=\"middle\" x=\"4108.1372\" y=\"-2426.8\">add_15: Add</text>\n",
       "<polyline fill=\"none\" points=\"4151.6372,-2407.5 4151.6372,-2453.5 \" stroke=\"#000000\"/>\n",
       "<text fill=\"#000000\" font-family=\"Times,serif\" font-size=\"14.00\" text-anchor=\"middle\" x=\"4179.1372\" y=\"-2438.3\">input:</text>\n",
       "<polyline fill=\"none\" points=\"4151.6372,-2430.5 4206.6372,-2430.5 \" stroke=\"#000000\"/>\n",
       "<text fill=\"#000000\" font-family=\"Times,serif\" font-size=\"14.00\" text-anchor=\"middle\" x=\"4179.1372\" y=\"-2415.3\">output:</text>\n",
       "<polyline fill=\"none\" points=\"4206.6372,-2407.5 4206.6372,-2453.5 \" stroke=\"#000000\"/>\n",
       "<text fill=\"#000000\" font-family=\"Times,serif\" font-size=\"14.00\" text-anchor=\"middle\" x=\"4310.1372\" y=\"-2438.3\">[(None, 60, 512), (None, 60, 512)]</text>\n",
       "<polyline fill=\"none\" points=\"4206.6372,-2430.5 4413.6372,-2430.5 \" stroke=\"#000000\"/>\n",
       "<text fill=\"#000000\" font-family=\"Times,serif\" font-size=\"14.00\" text-anchor=\"middle\" x=\"4310.1372\" y=\"-2415.3\">(None, 60, 512)</text>\n",
       "</g>\n",
       "<!-- 140378921526928&#45;&gt;140378921466832 -->\n",
       "<g class=\"edge\" id=\"edge82\">\n",
       "<title>140378921526928-&gt;140378921466832</title>\n",
       "<path d=\"M4119.3774,-2490.3799C4139.35,-2480.3936 4162.8814,-2468.6279 4183.775,-2458.1811\" fill=\"none\" stroke=\"#000000\"/>\n",
       "<polygon fill=\"#000000\" points=\"4185.4783,-2461.2426 4192.8573,-2453.6399 4182.3477,-2454.9816 4185.4783,-2461.2426\" stroke=\"#000000\"/>\n",
       "</g>\n",
       "<!-- 140378944196048 -->\n",
       "<g class=\"node\" id=\"node67\">\n",
       "<title>140378944196048</title>\n",
       "<polygon fill=\"none\" points=\"4228.6372,-2490.5 4228.6372,-2536.5 4581.6372,-2536.5 4581.6372,-2490.5 4228.6372,-2490.5\" stroke=\"#000000\"/>\n",
       "<text fill=\"#000000\" font-family=\"Times,serif\" font-size=\"14.00\" text-anchor=\"middle\" x=\"4325.6372\" y=\"-2509.8\">positional_encoding: InputLayer</text>\n",
       "<polyline fill=\"none\" points=\"4422.6372,-2490.5 4422.6372,-2536.5 \" stroke=\"#000000\"/>\n",
       "<text fill=\"#000000\" font-family=\"Times,serif\" font-size=\"14.00\" text-anchor=\"middle\" x=\"4450.1372\" y=\"-2521.3\">input:</text>\n",
       "<polyline fill=\"none\" points=\"4422.6372,-2513.5 4477.6372,-2513.5 \" stroke=\"#000000\"/>\n",
       "<text fill=\"#000000\" font-family=\"Times,serif\" font-size=\"14.00\" text-anchor=\"middle\" x=\"4450.1372\" y=\"-2498.3\">output:</text>\n",
       "<polyline fill=\"none\" points=\"4477.6372,-2490.5 4477.6372,-2536.5 \" stroke=\"#000000\"/>\n",
       "<text fill=\"#000000\" font-family=\"Times,serif\" font-size=\"14.00\" text-anchor=\"middle\" x=\"4529.6372\" y=\"-2521.3\">(None, 60, 512)</text>\n",
       "<polyline fill=\"none\" points=\"4477.6372,-2513.5 4581.6372,-2513.5 \" stroke=\"#000000\"/>\n",
       "<text fill=\"#000000\" font-family=\"Times,serif\" font-size=\"14.00\" text-anchor=\"middle\" x=\"4529.6372\" y=\"-2498.3\">(None, 60, 512)</text>\n",
       "</g>\n",
       "<!-- 140378944196048&#45;&gt;140378921466832 -->\n",
       "<g class=\"edge\" id=\"edge83\">\n",
       "<title>140378944196048-&gt;140378921466832</title>\n",
       "<path d=\"M4358.8969,-2490.3799C4338.9244,-2480.3936 4315.393,-2468.6279 4294.4994,-2458.1811\" fill=\"none\" stroke=\"#000000\"/>\n",
       "<polygon fill=\"#000000\" points=\"4295.9266,-2454.9816 4285.4171,-2453.6399 4292.7961,-2461.2426 4295.9266,-2454.9816\" stroke=\"#000000\"/>\n",
       "</g>\n",
       "<!-- 140378920462224 -->\n",
       "<g class=\"node\" id=\"node69\">\n",
       "<title>140378920462224</title>\n",
       "<polygon fill=\"none\" points=\"1910.6372,-2324.5 1910.6372,-2370.5 2827.6372,-2370.5 2827.6372,-2324.5 1910.6372,-2324.5\" stroke=\"#000000\"/>\n",
       "<text fill=\"#000000\" font-family=\"Times,serif\" font-size=\"14.00\" text-anchor=\"middle\" x=\"1971.6372\" y=\"-2343.8\">sa10: SelfAttention</text>\n",
       "<polyline fill=\"none\" points=\"2032.6372,-2324.5 2032.6372,-2370.5 \" stroke=\"#000000\"/>\n",
       "<text fill=\"#000000\" font-family=\"Times,serif\" font-size=\"14.00\" text-anchor=\"middle\" x=\"2060.1372\" y=\"-2355.3\">input:</text>\n",
       "<polyline fill=\"none\" points=\"2032.6372,-2347.5 2087.6372,-2347.5 \" stroke=\"#000000\"/>\n",
       "<text fill=\"#000000\" font-family=\"Times,serif\" font-size=\"14.00\" text-anchor=\"middle\" x=\"2060.1372\" y=\"-2332.3\">output:</text>\n",
       "<polyline fill=\"none\" points=\"2087.6372,-2324.5 2087.6372,-2370.5 \" stroke=\"#000000\"/>\n",
       "<text fill=\"#000000\" font-family=\"Times,serif\" font-size=\"14.00\" text-anchor=\"middle\" x=\"2457.6372\" y=\"-2355.3\">(None, 60, 512)</text>\n",
       "<polyline fill=\"none\" points=\"2087.6372,-2347.5 2827.6372,-2347.5 \" stroke=\"#000000\"/>\n",
       "<text fill=\"#000000\" font-family=\"Times,serif\" font-size=\"14.00\" text-anchor=\"middle\" x=\"2457.6372\" y=\"-2332.3\">[(None, 60, 512), (None, 60, 64), (None, 60, 64), (None, 60, 512), (None, 60, 60), (None, 60, 60), (None, 60, 60), (None, 60, 512)]</text>\n",
       "</g>\n",
       "<!-- 140378921466832&#45;&gt;140378920462224 -->\n",
       "<g class=\"edge\" id=\"edge84\">\n",
       "<title>140378921466832-&gt;140378920462224</title>\n",
       "<path d=\"M4064.4104,-2423.5336C3798.9918,-2412.8509 3278.3031,-2391.5008 2836.1372,-2371 2835.9155,-2370.9897 2835.6937,-2370.9794 2835.4718,-2370.9691\" fill=\"none\" stroke=\"#000000\"/>\n",
       "<polygon fill=\"#000000\" points=\"2835.6019,-2367.4715 2825.45,-2370.5029 2835.2765,-2374.4639 2835.6019,-2367.4715\" stroke=\"#000000\"/>\n",
       "</g>\n",
       "<!-- 140378920580688 -->\n",
       "<g class=\"node\" id=\"node70\">\n",
       "<title>140378920580688</title>\n",
       "<polygon fill=\"none\" points=\"2845.6372,-2324.5 2845.6372,-2370.5 3762.6372,-2370.5 3762.6372,-2324.5 2845.6372,-2324.5\" stroke=\"#000000\"/>\n",
       "<text fill=\"#000000\" font-family=\"Times,serif\" font-size=\"14.00\" text-anchor=\"middle\" x=\"2906.6372\" y=\"-2343.8\">sa11: SelfAttention</text>\n",
       "<polyline fill=\"none\" points=\"2967.6372,-2324.5 2967.6372,-2370.5 \" stroke=\"#000000\"/>\n",
       "<text fill=\"#000000\" font-family=\"Times,serif\" font-size=\"14.00\" text-anchor=\"middle\" x=\"2995.1372\" y=\"-2355.3\">input:</text>\n",
       "<polyline fill=\"none\" points=\"2967.6372,-2347.5 3022.6372,-2347.5 \" stroke=\"#000000\"/>\n",
       "<text fill=\"#000000\" font-family=\"Times,serif\" font-size=\"14.00\" text-anchor=\"middle\" x=\"2995.1372\" y=\"-2332.3\">output:</text>\n",
       "<polyline fill=\"none\" points=\"3022.6372,-2324.5 3022.6372,-2370.5 \" stroke=\"#000000\"/>\n",
       "<text fill=\"#000000\" font-family=\"Times,serif\" font-size=\"14.00\" text-anchor=\"middle\" x=\"3392.6372\" y=\"-2355.3\">(None, 60, 512)</text>\n",
       "<polyline fill=\"none\" points=\"3022.6372,-2347.5 3762.6372,-2347.5 \" stroke=\"#000000\"/>\n",
       "<text fill=\"#000000\" font-family=\"Times,serif\" font-size=\"14.00\" text-anchor=\"middle\" x=\"3392.6372\" y=\"-2332.3\">[(None, 60, 512), (None, 60, 64), (None, 60, 64), (None, 60, 512), (None, 60, 60), (None, 60, 60), (None, 60, 60), (None, 60, 512)]</text>\n",
       "</g>\n",
       "<!-- 140378921466832&#45;&gt;140378920580688 -->\n",
       "<g class=\"edge\" id=\"edge85\">\n",
       "<title>140378921466832-&gt;140378920580688</title>\n",
       "<path d=\"M4064.3677,-2414.9857C3926.4033,-2402.7386 3731.5251,-2385.4393 3573.6196,-2371.422\" fill=\"none\" stroke=\"#000000\"/>\n",
       "<polygon fill=\"#000000\" points=\"3573.5434,-2367.9015 3563.2731,-2370.5035 3572.9244,-2374.8741 3573.5434,-2367.9015\" stroke=\"#000000\"/>\n",
       "</g>\n",
       "<!-- 140378919195728 -->\n",
       "<g class=\"node\" id=\"node71\">\n",
       "<title>140378919195728</title>\n",
       "<polygon fill=\"none\" points=\"3780.6372,-2324.5 3780.6372,-2370.5 4697.6372,-2370.5 4697.6372,-2324.5 3780.6372,-2324.5\" stroke=\"#000000\"/>\n",
       "<text fill=\"#000000\" font-family=\"Times,serif\" font-size=\"14.00\" text-anchor=\"middle\" x=\"3841.6372\" y=\"-2343.8\">sa12: SelfAttention</text>\n",
       "<polyline fill=\"none\" points=\"3902.6372,-2324.5 3902.6372,-2370.5 \" stroke=\"#000000\"/>\n",
       "<text fill=\"#000000\" font-family=\"Times,serif\" font-size=\"14.00\" text-anchor=\"middle\" x=\"3930.1372\" y=\"-2355.3\">input:</text>\n",
       "<polyline fill=\"none\" points=\"3902.6372,-2347.5 3957.6372,-2347.5 \" stroke=\"#000000\"/>\n",
       "<text fill=\"#000000\" font-family=\"Times,serif\" font-size=\"14.00\" text-anchor=\"middle\" x=\"3930.1372\" y=\"-2332.3\">output:</text>\n",
       "<polyline fill=\"none\" points=\"3957.6372,-2324.5 3957.6372,-2370.5 \" stroke=\"#000000\"/>\n",
       "<text fill=\"#000000\" font-family=\"Times,serif\" font-size=\"14.00\" text-anchor=\"middle\" x=\"4327.6372\" y=\"-2355.3\">(None, 60, 512)</text>\n",
       "<polyline fill=\"none\" points=\"3957.6372,-2347.5 4697.6372,-2347.5 \" stroke=\"#000000\"/>\n",
       "<text fill=\"#000000\" font-family=\"Times,serif\" font-size=\"14.00\" text-anchor=\"middle\" x=\"4327.6372\" y=\"-2332.3\">[(None, 60, 512), (None, 60, 64), (None, 60, 64), (None, 60, 512), (None, 60, 60), (None, 60, 60), (None, 60, 60), (None, 60, 512)]</text>\n",
       "</g>\n",
       "<!-- 140378921466832&#45;&gt;140378919195728 -->\n",
       "<g class=\"edge\" id=\"edge86\">\n",
       "<title>140378921466832-&gt;140378919195728</title>\n",
       "<path d=\"M4239.1372,-2407.3799C4239.1372,-2399.1745 4239.1372,-2389.7679 4239.1372,-2380.8786\" fill=\"none\" stroke=\"#000000\"/>\n",
       "<polygon fill=\"#000000\" points=\"4242.6373,-2380.784 4239.1372,-2370.784 4235.6373,-2380.784 4242.6373,-2380.784\" stroke=\"#000000\"/>\n",
       "</g>\n",
       "<!-- 140378917452816 -->\n",
       "<g class=\"node\" id=\"node72\">\n",
       "<title>140378917452816</title>\n",
       "<polygon fill=\"none\" points=\"4715.6372,-2324.5 4715.6372,-2370.5 5632.6372,-2370.5 5632.6372,-2324.5 4715.6372,-2324.5\" stroke=\"#000000\"/>\n",
       "<text fill=\"#000000\" font-family=\"Times,serif\" font-size=\"14.00\" text-anchor=\"middle\" x=\"4776.6372\" y=\"-2343.8\">sa13: SelfAttention</text>\n",
       "<polyline fill=\"none\" points=\"4837.6372,-2324.5 4837.6372,-2370.5 \" stroke=\"#000000\"/>\n",
       "<text fill=\"#000000\" font-family=\"Times,serif\" font-size=\"14.00\" text-anchor=\"middle\" x=\"4865.1372\" y=\"-2355.3\">input:</text>\n",
       "<polyline fill=\"none\" points=\"4837.6372,-2347.5 4892.6372,-2347.5 \" stroke=\"#000000\"/>\n",
       "<text fill=\"#000000\" font-family=\"Times,serif\" font-size=\"14.00\" text-anchor=\"middle\" x=\"4865.1372\" y=\"-2332.3\">output:</text>\n",
       "<polyline fill=\"none\" points=\"4892.6372,-2324.5 4892.6372,-2370.5 \" stroke=\"#000000\"/>\n",
       "<text fill=\"#000000\" font-family=\"Times,serif\" font-size=\"14.00\" text-anchor=\"middle\" x=\"5262.6372\" y=\"-2355.3\">(None, 60, 512)</text>\n",
       "<polyline fill=\"none\" points=\"4892.6372,-2347.5 5632.6372,-2347.5 \" stroke=\"#000000\"/>\n",
       "<text fill=\"#000000\" font-family=\"Times,serif\" font-size=\"14.00\" text-anchor=\"middle\" x=\"5262.6372\" y=\"-2332.3\">[(None, 60, 512), (None, 60, 64), (None, 60, 64), (None, 60, 512), (None, 60, 60), (None, 60, 60), (None, 60, 60), (None, 60, 512)]</text>\n",
       "</g>\n",
       "<!-- 140378921466832&#45;&gt;140378917452816 -->\n",
       "<g class=\"edge\" id=\"edge87\">\n",
       "<title>140378921466832-&gt;140378917452816</title>\n",
       "<path d=\"M4413.9067,-2414.9857C4551.871,-2402.7386 4746.7492,-2385.4393 4904.6548,-2371.422\" fill=\"none\" stroke=\"#000000\"/>\n",
       "<polygon fill=\"#000000\" points=\"4905.35,-2374.8741 4915.0013,-2370.5035 4904.731,-2367.9015 4905.35,-2374.8741\" stroke=\"#000000\"/>\n",
       "</g>\n",
       "<!-- 140378913503632 -->\n",
       "<g class=\"node\" id=\"node73\">\n",
       "<title>140378913503632</title>\n",
       "<polygon fill=\"none\" points=\"5650.6372,-2324.5 5650.6372,-2370.5 6567.6372,-2370.5 6567.6372,-2324.5 5650.6372,-2324.5\" stroke=\"#000000\"/>\n",
       "<text fill=\"#000000\" font-family=\"Times,serif\" font-size=\"14.00\" text-anchor=\"middle\" x=\"5711.6372\" y=\"-2343.8\">sa14: SelfAttention</text>\n",
       "<polyline fill=\"none\" points=\"5772.6372,-2324.5 5772.6372,-2370.5 \" stroke=\"#000000\"/>\n",
       "<text fill=\"#000000\" font-family=\"Times,serif\" font-size=\"14.00\" text-anchor=\"middle\" x=\"5800.1372\" y=\"-2355.3\">input:</text>\n",
       "<polyline fill=\"none\" points=\"5772.6372,-2347.5 5827.6372,-2347.5 \" stroke=\"#000000\"/>\n",
       "<text fill=\"#000000\" font-family=\"Times,serif\" font-size=\"14.00\" text-anchor=\"middle\" x=\"5800.1372\" y=\"-2332.3\">output:</text>\n",
       "<polyline fill=\"none\" points=\"5827.6372,-2324.5 5827.6372,-2370.5 \" stroke=\"#000000\"/>\n",
       "<text fill=\"#000000\" font-family=\"Times,serif\" font-size=\"14.00\" text-anchor=\"middle\" x=\"6197.6372\" y=\"-2355.3\">(None, 60, 512)</text>\n",
       "<polyline fill=\"none\" points=\"5827.6372,-2347.5 6567.6372,-2347.5 \" stroke=\"#000000\"/>\n",
       "<text fill=\"#000000\" font-family=\"Times,serif\" font-size=\"14.00\" text-anchor=\"middle\" x=\"6197.6372\" y=\"-2332.3\">[(None, 60, 512), (None, 60, 64), (None, 60, 64), (None, 60, 512), (None, 60, 60), (None, 60, 60), (None, 60, 60), (None, 60, 512)]</text>\n",
       "</g>\n",
       "<!-- 140378921466832&#45;&gt;140378913503632 -->\n",
       "<g class=\"edge\" id=\"edge88\">\n",
       "<title>140378921466832-&gt;140378913503632</title>\n",
       "<path d=\"M4413.864,-2423.5336C4679.2826,-2412.8509 5199.9713,-2391.5008 5642.1372,-2371 5642.3589,-2370.9897 5642.5807,-2370.9794 5642.8026,-2370.9691\" fill=\"none\" stroke=\"#000000\"/>\n",
       "<polygon fill=\"#000000\" points=\"5642.9978,-2374.4639 5652.8243,-2370.5029 5642.6724,-2367.4715 5642.9978,-2374.4639\" stroke=\"#000000\"/>\n",
       "</g>\n",
       "<!-- 140378913175312 -->\n",
       "<g class=\"node\" id=\"node74\">\n",
       "<title>140378913175312</title>\n",
       "<polygon fill=\"none\" points=\"6585.6372,-2324.5 6585.6372,-2370.5 7502.6372,-2370.5 7502.6372,-2324.5 6585.6372,-2324.5\" stroke=\"#000000\"/>\n",
       "<text fill=\"#000000\" font-family=\"Times,serif\" font-size=\"14.00\" text-anchor=\"middle\" x=\"6646.6372\" y=\"-2343.8\">sa15: SelfAttention</text>\n",
       "<polyline fill=\"none\" points=\"6707.6372,-2324.5 6707.6372,-2370.5 \" stroke=\"#000000\"/>\n",
       "<text fill=\"#000000\" font-family=\"Times,serif\" font-size=\"14.00\" text-anchor=\"middle\" x=\"6735.1372\" y=\"-2355.3\">input:</text>\n",
       "<polyline fill=\"none\" points=\"6707.6372,-2347.5 6762.6372,-2347.5 \" stroke=\"#000000\"/>\n",
       "<text fill=\"#000000\" font-family=\"Times,serif\" font-size=\"14.00\" text-anchor=\"middle\" x=\"6735.1372\" y=\"-2332.3\">output:</text>\n",
       "<polyline fill=\"none\" points=\"6762.6372,-2324.5 6762.6372,-2370.5 \" stroke=\"#000000\"/>\n",
       "<text fill=\"#000000\" font-family=\"Times,serif\" font-size=\"14.00\" text-anchor=\"middle\" x=\"7132.6372\" y=\"-2355.3\">(None, 60, 512)</text>\n",
       "<polyline fill=\"none\" points=\"6762.6372,-2347.5 7502.6372,-2347.5 \" stroke=\"#000000\"/>\n",
       "<text fill=\"#000000\" font-family=\"Times,serif\" font-size=\"14.00\" text-anchor=\"middle\" x=\"7132.6372\" y=\"-2332.3\">[(None, 60, 512), (None, 60, 64), (None, 60, 64), (None, 60, 512), (None, 60, 60), (None, 60, 60), (None, 60, 60), (None, 60, 512)]</text>\n",
       "</g>\n",
       "<!-- 140378921466832&#45;&gt;140378913175312 -->\n",
       "<g class=\"edge\" id=\"edge89\">\n",
       "<title>140378921466832-&gt;140378913175312</title>\n",
       "<path d=\"M4413.6939,-2427.5392C4802.3867,-2420.6212 5768.6938,-2401.6233 6577.1372,-2371 6578.0688,-2370.9647 6579.0015,-2370.9293 6579.9351,-2370.8937\" fill=\"none\" stroke=\"#000000\"/>\n",
       "<polygon fill=\"#000000\" points=\"6580.1185,-2374.3893 6589.9762,-2370.5064 6579.8487,-2367.3945 6580.1185,-2374.3893\" stroke=\"#000000\"/>\n",
       "</g>\n",
       "<!-- 140378911484752 -->\n",
       "<g class=\"node\" id=\"node75\">\n",
       "<title>140378911484752</title>\n",
       "<polygon fill=\"none\" points=\"40.6372,-2324.5 40.6372,-2370.5 957.6372,-2370.5 957.6372,-2324.5 40.6372,-2324.5\" stroke=\"#000000\"/>\n",
       "<text fill=\"#000000\" font-family=\"Times,serif\" font-size=\"14.00\" text-anchor=\"middle\" x=\"101.6372\" y=\"-2343.8\">sa16: SelfAttention</text>\n",
       "<polyline fill=\"none\" points=\"162.6372,-2324.5 162.6372,-2370.5 \" stroke=\"#000000\"/>\n",
       "<text fill=\"#000000\" font-family=\"Times,serif\" font-size=\"14.00\" text-anchor=\"middle\" x=\"190.1372\" y=\"-2355.3\">input:</text>\n",
       "<polyline fill=\"none\" points=\"162.6372,-2347.5 217.6372,-2347.5 \" stroke=\"#000000\"/>\n",
       "<text fill=\"#000000\" font-family=\"Times,serif\" font-size=\"14.00\" text-anchor=\"middle\" x=\"190.1372\" y=\"-2332.3\">output:</text>\n",
       "<polyline fill=\"none\" points=\"217.6372,-2324.5 217.6372,-2370.5 \" stroke=\"#000000\"/>\n",
       "<text fill=\"#000000\" font-family=\"Times,serif\" font-size=\"14.00\" text-anchor=\"middle\" x=\"587.6372\" y=\"-2355.3\">(None, 60, 512)</text>\n",
       "<polyline fill=\"none\" points=\"217.6372,-2347.5 957.6372,-2347.5 \" stroke=\"#000000\"/>\n",
       "<text fill=\"#000000\" font-family=\"Times,serif\" font-size=\"14.00\" text-anchor=\"middle\" x=\"587.6372\" y=\"-2332.3\">[(None, 60, 512), (None, 60, 64), (None, 60, 64), (None, 60, 512), (None, 60, 60), (None, 60, 60), (None, 60, 60), (None, 60, 512)]</text>\n",
       "</g>\n",
       "<!-- 140378921466832&#45;&gt;140378911484752 -->\n",
       "<g class=\"edge\" id=\"edge90\">\n",
       "<title>140378921466832-&gt;140378911484752</title>\n",
       "<path d=\"M4064.3418,-2429.2962C3574.9902,-2425.4997 2149.6867,-2411.5263 966.1372,-2371 964.8251,-2370.9551 963.511,-2370.9098 962.1949,-2370.8641\" fill=\"none\" stroke=\"#000000\"/>\n",
       "<polygon fill=\"#000000\" points=\"962.1846,-2367.3617 952.0674,-2370.507 961.9379,-2374.3573 962.1846,-2367.3617\" stroke=\"#000000\"/>\n",
       "</g>\n",
       "<!-- 140378909316304 -->\n",
       "<g class=\"node\" id=\"node76\">\n",
       "<title>140378909316304</title>\n",
       "<polygon fill=\"none\" points=\"975.6372,-2324.5 975.6372,-2370.5 1892.6372,-2370.5 1892.6372,-2324.5 975.6372,-2324.5\" stroke=\"#000000\"/>\n",
       "<text fill=\"#000000\" font-family=\"Times,serif\" font-size=\"14.00\" text-anchor=\"middle\" x=\"1036.6372\" y=\"-2343.8\">sa17: SelfAttention</text>\n",
       "<polyline fill=\"none\" points=\"1097.6372,-2324.5 1097.6372,-2370.5 \" stroke=\"#000000\"/>\n",
       "<text fill=\"#000000\" font-family=\"Times,serif\" font-size=\"14.00\" text-anchor=\"middle\" x=\"1125.1372\" y=\"-2355.3\">input:</text>\n",
       "<polyline fill=\"none\" points=\"1097.6372,-2347.5 1152.6372,-2347.5 \" stroke=\"#000000\"/>\n",
       "<text fill=\"#000000\" font-family=\"Times,serif\" font-size=\"14.00\" text-anchor=\"middle\" x=\"1125.1372\" y=\"-2332.3\">output:</text>\n",
       "<polyline fill=\"none\" points=\"1152.6372,-2324.5 1152.6372,-2370.5 \" stroke=\"#000000\"/>\n",
       "<text fill=\"#000000\" font-family=\"Times,serif\" font-size=\"14.00\" text-anchor=\"middle\" x=\"1522.6372\" y=\"-2355.3\">(None, 60, 512)</text>\n",
       "<polyline fill=\"none\" points=\"1152.6372,-2347.5 1892.6372,-2347.5 \" stroke=\"#000000\"/>\n",
       "<text fill=\"#000000\" font-family=\"Times,serif\" font-size=\"14.00\" text-anchor=\"middle\" x=\"1522.6372\" y=\"-2332.3\">[(None, 60, 512), (None, 60, 64), (None, 60, 64), (None, 60, 512), (None, 60, 60), (None, 60, 60), (None, 60, 60), (None, 60, 512)]</text>\n",
       "</g>\n",
       "<!-- 140378921466832&#45;&gt;140378909316304 -->\n",
       "<g class=\"edge\" id=\"edge91\">\n",
       "<title>140378921466832-&gt;140378909316304</title>\n",
       "<path d=\"M4064.5805,-2427.5392C3675.8876,-2420.6212 2709.5805,-2401.6233 1901.1372,-2371 1900.2056,-2370.9647 1899.2729,-2370.9293 1898.3392,-2370.8937\" fill=\"none\" stroke=\"#000000\"/>\n",
       "<polygon fill=\"#000000\" points=\"1898.4256,-2367.3945 1888.2982,-2370.5064 1898.1558,-2374.3893 1898.4256,-2367.3945\" stroke=\"#000000\"/>\n",
       "</g>\n",
       "<!-- 140378904933392 -->\n",
       "<g class=\"node\" id=\"node79\">\n",
       "<title>140378904933392</title>\n",
       "<polygon fill=\"none\" points=\"4747.1372,-2075.5 4747.1372,-2121.5 5215.1372,-2121.5 5215.1372,-2075.5 4747.1372,-2075.5\" stroke=\"#000000\"/>\n",
       "<text fill=\"#000000\" font-family=\"Times,serif\" font-size=\"14.00\" text-anchor=\"middle\" x=\"4850.1372\" y=\"-2094.8\">res_comb_sa_1: ResidualCombine</text>\n",
       "<polyline fill=\"none\" points=\"4953.1372,-2075.5 4953.1372,-2121.5 \" stroke=\"#000000\"/>\n",
       "<text fill=\"#000000\" font-family=\"Times,serif\" font-size=\"14.00\" text-anchor=\"middle\" x=\"4980.6372\" y=\"-2106.3\">input:</text>\n",
       "<polyline fill=\"none\" points=\"4953.1372,-2098.5 5008.1372,-2098.5 \" stroke=\"#000000\"/>\n",
       "<text fill=\"#000000\" font-family=\"Times,serif\" font-size=\"14.00\" text-anchor=\"middle\" x=\"4980.6372\" y=\"-2083.3\">output:</text>\n",
       "<polyline fill=\"none\" points=\"5008.1372,-2075.5 5008.1372,-2121.5 \" stroke=\"#000000\"/>\n",
       "<text fill=\"#000000\" font-family=\"Times,serif\" font-size=\"14.00\" text-anchor=\"middle\" x=\"5111.6372\" y=\"-2106.3\">[(None, 60, 512), (None, 60, 512)]</text>\n",
       "<polyline fill=\"none\" points=\"5008.1372,-2098.5 5215.1372,-2098.5 \" stroke=\"#000000\"/>\n",
       "<text fill=\"#000000\" font-family=\"Times,serif\" font-size=\"14.00\" text-anchor=\"middle\" x=\"5111.6372\" y=\"-2083.3\">[(None, 60, 512), (1, 1), (1, 1)]</text>\n",
       "</g>\n",
       "<!-- 140378921466832&#45;&gt;140378904933392 -->\n",
       "<g class=\"edge\" id=\"edge101\">\n",
       "<title>140378921466832-&gt;140378904933392</title>\n",
       "<path d=\"M4413.771,-2428.9523C5087.9252,-2422.7762 7484.7651,-2398.8742 7512.1372,-2371 7526.773,-2356.0957 7526.2372,-2339.4121 7512.1372,-2324 7359.6198,-2157.2899 5830.2027,-2112.988 5225.407,-2101.942\" fill=\"none\" stroke=\"#000000\"/>\n",
       "<polygon fill=\"#000000\" points=\"5225.3119,-2098.4398 5215.2502,-2101.758 5225.1851,-2105.4387 5225.3119,-2098.4398\" stroke=\"#000000\"/>\n",
       "</g>\n",
       "<!-- 140378907156944 -->\n",
       "<g class=\"node\" id=\"node77\">\n",
       "<title>140378907156944</title>\n",
       "<polygon fill=\"none\" points=\"3745.6372,-2241.5 3745.6372,-2287.5 4732.6372,-2287.5 4732.6372,-2241.5 3745.6372,-2241.5\" stroke=\"#000000\"/>\n",
       "<text fill=\"#000000\" font-family=\"Times,serif\" font-size=\"14.00\" text-anchor=\"middle\" x=\"3824.6372\" y=\"-2260.8\">concat_sa_1: Concatenate</text>\n",
       "<polyline fill=\"none\" points=\"3903.6372,-2241.5 3903.6372,-2287.5 \" stroke=\"#000000\"/>\n",
       "<text fill=\"#000000\" font-family=\"Times,serif\" font-size=\"14.00\" text-anchor=\"middle\" x=\"3931.1372\" y=\"-2272.3\">input:</text>\n",
       "<polyline fill=\"none\" points=\"3903.6372,-2264.5 3958.6372,-2264.5 \" stroke=\"#000000\"/>\n",
       "<text fill=\"#000000\" font-family=\"Times,serif\" font-size=\"14.00\" text-anchor=\"middle\" x=\"3931.1372\" y=\"-2249.3\">output:</text>\n",
       "<polyline fill=\"none\" points=\"3958.6372,-2241.5 3958.6372,-2287.5 \" stroke=\"#000000\"/>\n",
       "<text fill=\"#000000\" font-family=\"Times,serif\" font-size=\"14.00\" text-anchor=\"middle\" x=\"4345.6372\" y=\"-2272.3\">[(None, 60, 512), (None, 60, 512), (None, 60, 512), (None, 60, 512), (None, 60, 512), (None, 60, 512), (None, 60, 512), (None, 60, 512)]</text>\n",
       "<polyline fill=\"none\" points=\"3958.6372,-2264.5 4732.6372,-2264.5 \" stroke=\"#000000\"/>\n",
       "<text fill=\"#000000\" font-family=\"Times,serif\" font-size=\"14.00\" text-anchor=\"middle\" x=\"4345.6372\" y=\"-2249.3\">(None, 60, 4096)</text>\n",
       "</g>\n",
       "<!-- 140378920462224&#45;&gt;140378907156944 -->\n",
       "<g class=\"edge\" id=\"edge92\">\n",
       "<title>140378920462224-&gt;140378907156944</title>\n",
       "<path d=\"M2825.45,-2324.4971C2829.0265,-2324.3302 2832.5894,-2324.1645 2836.1372,-2324 3134.2852,-2310.1765 3468.135,-2295.9669 3735.3532,-2284.9019\" fill=\"none\" stroke=\"#000000\"/>\n",
       "<polygon fill=\"#000000\" points=\"3735.7813,-2288.3872 3745.628,-2284.4766 3735.4918,-2281.3932 3735.7813,-2288.3872\" stroke=\"#000000\"/>\n",
       "</g>\n",
       "<!-- 140378920580688&#45;&gt;140378907156944 -->\n",
       "<g class=\"edge\" id=\"edge93\">\n",
       "<title>140378920580688-&gt;140378907156944</title>\n",
       "<path d=\"M3563.3451,-2324.4901C3689.7637,-2313.2679 3841.7253,-2299.7783 3969.5035,-2288.4354\" fill=\"none\" stroke=\"#000000\"/>\n",
       "<polygon fill=\"#000000\" points=\"3970.1791,-2291.8893 3979.8305,-2287.5187 3969.5601,-2284.9167 3970.1791,-2291.8893\" stroke=\"#000000\"/>\n",
       "</g>\n",
       "<!-- 140378919195728&#45;&gt;140378907156944 -->\n",
       "<g class=\"edge\" id=\"edge94\">\n",
       "<title>140378919195728-&gt;140378907156944</title>\n",
       "<path d=\"M4239.1372,-2324.3799C4239.1372,-2316.1745 4239.1372,-2306.7679 4239.1372,-2297.8786\" fill=\"none\" stroke=\"#000000\"/>\n",
       "<polygon fill=\"#000000\" points=\"4242.6373,-2297.784 4239.1372,-2287.784 4235.6373,-2297.784 4242.6373,-2297.784\" stroke=\"#000000\"/>\n",
       "</g>\n",
       "<!-- 140378917452816&#45;&gt;140378907156944 -->\n",
       "<g class=\"edge\" id=\"edge95\">\n",
       "<title>140378917452816-&gt;140378907156944</title>\n",
       "<path d=\"M4914.9292,-2324.4901C4788.5106,-2313.2679 4636.5491,-2299.7783 4508.7709,-2288.4354\" fill=\"none\" stroke=\"#000000\"/>\n",
       "<polygon fill=\"#000000\" points=\"4508.7143,-2284.9167 4498.4439,-2287.5187 4508.0952,-2291.8893 4508.7143,-2284.9167\" stroke=\"#000000\"/>\n",
       "</g>\n",
       "<!-- 140378913503632&#45;&gt;140378907156944 -->\n",
       "<g class=\"edge\" id=\"edge96\">\n",
       "<title>140378913503632-&gt;140378907156944</title>\n",
       "<path d=\"M5652.8243,-2324.4971C5649.2479,-2324.3302 5645.685,-2324.1645 5642.1372,-2324 5343.9891,-2310.1765 5010.1394,-2295.9669 4742.9212,-2284.9019\" fill=\"none\" stroke=\"#000000\"/>\n",
       "<polygon fill=\"#000000\" points=\"4742.7826,-2281.3932 4732.6464,-2284.4766 4742.493,-2288.3872 4742.7826,-2281.3932\" stroke=\"#000000\"/>\n",
       "</g>\n",
       "<!-- 140378913175312&#45;&gt;140378907156944 -->\n",
       "<g class=\"edge\" id=\"edge97\">\n",
       "<title>140378913175312-&gt;140378907156944</title>\n",
       "<path d=\"M6589.9762,-2324.4936C6585.6766,-2324.3259 6581.396,-2324.1613 6577.1372,-2324 5945.0082,-2300.0554 5216.3642,-2283.2183 4742.7965,-2273.7061\" fill=\"none\" stroke=\"#000000\"/>\n",
       "<polygon fill=\"#000000\" points=\"4742.7733,-2270.205 4732.7051,-2273.5037 4742.6329,-2277.2036 4742.7733,-2270.205\" stroke=\"#000000\"/>\n",
       "</g>\n",
       "<!-- 140378911484752&#45;&gt;140378907156944 -->\n",
       "<g class=\"edge\" id=\"edge98\">\n",
       "<title>140378911484752-&gt;140378907156944</title>\n",
       "<path d=\"M952.0674,-2324.493C956.781,-2324.3242 961.4721,-2324.1597 966.1372,-2324 1946.3071,-2290.4377 3092.2843,-2275.0867 3735.1372,-2268.6456\" fill=\"none\" stroke=\"#000000\"/>\n",
       "<polygon fill=\"#000000\" points=\"3735.543,-2272.1418 3745.5075,-2268.542 3735.473,-2265.1422 3735.543,-2272.1418\" stroke=\"#000000\"/>\n",
       "</g>\n",
       "<!-- 140378909316304&#45;&gt;140378907156944 -->\n",
       "<g class=\"edge\" id=\"edge99\">\n",
       "<title>140378909316304-&gt;140378907156944</title>\n",
       "<path d=\"M1888.2982,-2324.4936C1892.5978,-2324.3259 1896.8783,-2324.1613 1901.1372,-2324 2533.2662,-2300.0554 3261.9102,-2283.2183 3735.4779,-2273.7061\" fill=\"none\" stroke=\"#000000\"/>\n",
       "<polygon fill=\"#000000\" points=\"3735.6415,-2277.2036 3745.5693,-2273.5037 3735.5011,-2270.205 3735.6415,-2277.2036\" stroke=\"#000000\"/>\n",
       "</g>\n",
       "<!-- 140378904845328 -->\n",
       "<g class=\"node\" id=\"node78\">\n",
       "<title>140378904845328</title>\n",
       "<polygon fill=\"none\" points=\"4302.1372,-2158.5 4302.1372,-2204.5 4670.1372,-2204.5 4670.1372,-2158.5 4302.1372,-2158.5\" stroke=\"#000000\"/>\n",
       "<text fill=\"#000000\" font-family=\"Times,serif\" font-size=\"14.00\" text-anchor=\"middle\" x=\"4403.6372\" y=\"-2177.8\">cond_sa_1: CondenseAttention1D</text>\n",
       "<polyline fill=\"none\" points=\"4505.1372,-2158.5 4505.1372,-2204.5 \" stroke=\"#000000\"/>\n",
       "<text fill=\"#000000\" font-family=\"Times,serif\" font-size=\"14.00\" text-anchor=\"middle\" x=\"4532.6372\" y=\"-2189.3\">input:</text>\n",
       "<polyline fill=\"none\" points=\"4505.1372,-2181.5 4560.1372,-2181.5 \" stroke=\"#000000\"/>\n",
       "<text fill=\"#000000\" font-family=\"Times,serif\" font-size=\"14.00\" text-anchor=\"middle\" x=\"4532.6372\" y=\"-2166.3\">output:</text>\n",
       "<polyline fill=\"none\" points=\"4560.1372,-2158.5 4560.1372,-2204.5 \" stroke=\"#000000\"/>\n",
       "<text fill=\"#000000\" font-family=\"Times,serif\" font-size=\"14.00\" text-anchor=\"middle\" x=\"4615.1372\" y=\"-2189.3\">(None, 60, 4096)</text>\n",
       "<polyline fill=\"none\" points=\"4560.1372,-2181.5 4670.1372,-2181.5 \" stroke=\"#000000\"/>\n",
       "<text fill=\"#000000\" font-family=\"Times,serif\" font-size=\"14.00\" text-anchor=\"middle\" x=\"4615.1372\" y=\"-2166.3\">(None, 60, 512)</text>\n",
       "</g>\n",
       "<!-- 140378907156944&#45;&gt;140378904845328 -->\n",
       "<g class=\"edge\" id=\"edge100\">\n",
       "<title>140378907156944-&gt;140378904845328</title>\n",
       "<path d=\"M4307.6124,-2241.4901C4338.665,-2231.0554 4375.5514,-2218.6604 4407.7114,-2207.8536\" fill=\"none\" stroke=\"#000000\"/>\n",
       "<polygon fill=\"#000000\" points=\"4409.1645,-2211.0577 4417.5287,-2204.5547 4406.9347,-2204.4223 4409.1645,-2211.0577\" stroke=\"#000000\"/>\n",
       "</g>\n",
       "<!-- 140378904845328&#45;&gt;140378904933392 -->\n",
       "<g class=\"edge\" id=\"edge102\">\n",
       "<title>140378904845328-&gt;140378904933392</title>\n",
       "<path d=\"M4623.3649,-2158.4901C4688.6804,-2147.5382 4766.8751,-2134.4268 4833.48,-2123.2587\" fill=\"none\" stroke=\"#000000\"/>\n",
       "<polygon fill=\"#000000\" points=\"4834.359,-2126.6602 4843.6425,-2121.5547 4833.2014,-2119.7566 4834.359,-2126.6602\" stroke=\"#000000\"/>\n",
       "</g>\n",
       "<!-- 140378904936336 -->\n",
       "<g class=\"node\" id=\"node80\">\n",
       "<title>140378904936336</title>\n",
       "<polygon fill=\"none\" points=\"4765.1372,-1992.5 4765.1372,-2038.5 5197.1372,-2038.5 5197.1372,-1992.5 4765.1372,-1992.5\" stroke=\"#000000\"/>\n",
       "<text fill=\"#000000\" font-family=\"Times,serif\" font-size=\"14.00\" text-anchor=\"middle\" x=\"4901.6372\" y=\"-2011.8\">batch_normalization_105: BatchNormalization</text>\n",
       "<polyline fill=\"none\" points=\"5038.1372,-1992.5 5038.1372,-2038.5 \" stroke=\"#000000\"/>\n",
       "<text fill=\"#000000\" font-family=\"Times,serif\" font-size=\"14.00\" text-anchor=\"middle\" x=\"5065.6372\" y=\"-2023.3\">input:</text>\n",
       "<polyline fill=\"none\" points=\"5038.1372,-2015.5 5093.1372,-2015.5 \" stroke=\"#000000\"/>\n",
       "<text fill=\"#000000\" font-family=\"Times,serif\" font-size=\"14.00\" text-anchor=\"middle\" x=\"5065.6372\" y=\"-2000.3\">output:</text>\n",
       "<polyline fill=\"none\" points=\"5093.1372,-1992.5 5093.1372,-2038.5 \" stroke=\"#000000\"/>\n",
       "<text fill=\"#000000\" font-family=\"Times,serif\" font-size=\"14.00\" text-anchor=\"middle\" x=\"5145.1372\" y=\"-2023.3\">(None, 60, 512)</text>\n",
       "<polyline fill=\"none\" points=\"5093.1372,-2015.5 5197.1372,-2015.5 \" stroke=\"#000000\"/>\n",
       "<text fill=\"#000000\" font-family=\"Times,serif\" font-size=\"14.00\" text-anchor=\"middle\" x=\"5145.1372\" y=\"-2000.3\">(None, 60, 512)</text>\n",
       "</g>\n",
       "<!-- 140378904933392&#45;&gt;140378904936336 -->\n",
       "<g class=\"edge\" id=\"edge103\">\n",
       "<title>140378904933392-&gt;140378904936336</title>\n",
       "<path d=\"M4981.1372,-2075.3799C4981.1372,-2067.1745 4981.1372,-2057.7679 4981.1372,-2048.8786\" fill=\"none\" stroke=\"#000000\"/>\n",
       "<polygon fill=\"#000000\" points=\"4984.6373,-2048.784 4981.1372,-2038.784 4977.6373,-2048.784 4984.6373,-2048.784\" stroke=\"#000000\"/>\n",
       "</g>\n",
       "<!-- 140378904936336&#45;&gt;140378903262992 -->\n",
       "<g class=\"edge\" id=\"edge104\">\n",
       "<title>140378904936336-&gt;140378903262992</title>\n",
       "<path d=\"M4981.1372,-1992.3799C4981.1372,-1984.1745 4981.1372,-1974.7679 4981.1372,-1965.8786\" fill=\"none\" stroke=\"#000000\"/>\n",
       "<polygon fill=\"#000000\" points=\"4984.6373,-1965.784 4981.1372,-1955.784 4977.6373,-1965.784 4984.6373,-1965.784\" stroke=\"#000000\"/>\n",
       "</g>\n",
       "<!-- 140378904936336&#45;&gt;140378903263248 -->\n",
       "<g class=\"edge\" id=\"edge106\">\n",
       "<title>140378904936336-&gt;140378903263248</title>\n",
       "<path d=\"M4764.834,-2012.8509C4337.8402,-2007.0447 3356.4815,-1990.8388 2532.1372,-1956 2531.6607,-1955.9799 2531.1838,-1955.9597 2530.7067,-1955.9394\" fill=\"none\" stroke=\"#000000\"/>\n",
       "<polygon fill=\"#000000\" points=\"2530.7832,-1952.4395 2520.6413,-1955.5041 2530.4808,-1959.433 2530.7832,-1952.4395\" stroke=\"#000000\"/>\n",
       "</g>\n",
       "<!-- 140378904936336&#45;&gt;140378901572112 -->\n",
       "<g class=\"edge\" id=\"edge108\">\n",
       "<title>140378904936336-&gt;140378901572112</title>\n",
       "<path d=\"M5197.3748,-1992.4901C5302.3075,-1981.3242 5428.3354,-1967.9135 5534.5968,-1956.6062\" fill=\"none\" stroke=\"#000000\"/>\n",
       "<polygon fill=\"#000000\" points=\"5535.2436,-1960.0572 5544.8171,-1955.5187 5534.5029,-1953.0965 5535.2436,-1960.0572\" stroke=\"#000000\"/>\n",
       "</g>\n",
       "<!-- 140378904936336&#45;&gt;140378899452240 -->\n",
       "<g class=\"edge\" id=\"edge110\">\n",
       "<title>140378904936336-&gt;140378899452240</title>\n",
       "<path d=\"M5197.3473,-2005.1123C5429.8906,-1993.7994 5810.8212,-1974.8621 6150.0392,-1956.0588\" fill=\"none\" stroke=\"#000000\"/>\n",
       "<polygon fill=\"#000000\" points=\"6150.2722,-1959.5514 6160.0629,-1955.5025 6149.8843,-1952.5621 6150.2722,-1959.5514\" stroke=\"#000000\"/>\n",
       "</g>\n",
       "<!-- 140378904936336&#45;&gt;140378897206288 -->\n",
       "<g class=\"edge\" id=\"edge112\">\n",
       "<title>140378904936336-&gt;140378897206288</title>\n",
       "<path d=\"M4764.6922,-2014.6306C4245.0521,-2011.8628 2885.948,-2000.5864 1752.1372,-1956 1751.5018,-1955.975 1750.8658,-1955.9499 1750.2292,-1955.9246\" fill=\"none\" stroke=\"#000000\"/>\n",
       "<polygon fill=\"#000000\" points=\"1750.0032,-1952.4127 1739.8695,-1955.5043 1749.7194,-1959.4069 1750.0032,-1952.4127\" stroke=\"#000000\"/>\n",
       "</g>\n",
       "<!-- 140378904936336&#45;&gt;140378893412624 -->\n",
       "<g class=\"edge\" id=\"edge114\">\n",
       "<title>140378904936336-&gt;140378893412624</title>\n",
       "<path d=\"M5197.5443,-2013.6047C5659.4261,-2008.9387 6775.9296,-1994.3533 7711.1372,-1956 7711.6243,-1955.98 7712.1118,-1955.96 7712.5996,-1955.9398\" fill=\"none\" stroke=\"#000000\"/>\n",
       "<polygon fill=\"#000000\" points=\"7713.0464,-1959.4242 7722.8904,-1955.5068 7712.752,-1952.4304 7713.0464,-1959.4242\" stroke=\"#000000\"/>\n",
       "</g>\n",
       "<!-- 140378904936336&#45;&gt;140378893412432 -->\n",
       "<g class=\"edge\" id=\"edge116\">\n",
       "<title>140378904936336-&gt;140378893412432</title>\n",
       "<path d=\"M4764.6797,-2006.7744C4420.7259,-1992.9094 3744.3468,-1965.644 3313.726,-1948.2853\" fill=\"none\" stroke=\"#000000\"/>\n",
       "<polygon fill=\"#000000\" points=\"3313.7327,-1944.7828 3303.5998,-1947.8771 3313.4507,-1951.7771 3313.7327,-1944.7828\" stroke=\"#000000\"/>\n",
       "</g>\n",
       "<!-- 140378904936336&#45;&gt;140378891256144 -->\n",
       "<g class=\"edge\" id=\"edge118\">\n",
       "<title>140378904936336-&gt;140378891256144</title>\n",
       "<path d=\"M5197.2725,-2011C5557.079,-2003.0385 6301.5927,-1984.5653 6931.1372,-1956 6931.3595,-1955.9899 6931.5819,-1955.9798 6931.8044,-1955.9697\" fill=\"none\" stroke=\"#000000\"/>\n",
       "<polygon fill=\"#000000\" points=\"6932.0335,-1959.463 6941.8617,-1955.5062 6931.7111,-1952.4704 6932.0335,-1959.463\" stroke=\"#000000\"/>\n",
       "</g>\n",
       "<!-- 140378886398736 -->\n",
       "<g class=\"node\" id=\"node99\">\n",
       "<title>140378886398736</title>\n",
       "<polygon fill=\"none\" points=\"4896.1372,-1577.5 4896.1372,-1623.5 5372.1372,-1623.5 5372.1372,-1577.5 4896.1372,-1577.5\" stroke=\"#000000\"/>\n",
       "<text fill=\"#000000\" font-family=\"Times,serif\" font-size=\"14.00\" text-anchor=\"middle\" x=\"5003.1372\" y=\"-1596.8\">res_comb_enc_1: ResidualCombine</text>\n",
       "<polyline fill=\"none\" points=\"5110.1372,-1577.5 5110.1372,-1623.5 \" stroke=\"#000000\"/>\n",
       "<text fill=\"#000000\" font-family=\"Times,serif\" font-size=\"14.00\" text-anchor=\"middle\" x=\"5137.6372\" y=\"-1608.3\">input:</text>\n",
       "<polyline fill=\"none\" points=\"5110.1372,-1600.5 5165.1372,-1600.5 \" stroke=\"#000000\"/>\n",
       "<text fill=\"#000000\" font-family=\"Times,serif\" font-size=\"14.00\" text-anchor=\"middle\" x=\"5137.6372\" y=\"-1585.3\">output:</text>\n",
       "<polyline fill=\"none\" points=\"5165.1372,-1577.5 5165.1372,-1623.5 \" stroke=\"#000000\"/>\n",
       "<text fill=\"#000000\" font-family=\"Times,serif\" font-size=\"14.00\" text-anchor=\"middle\" x=\"5268.6372\" y=\"-1608.3\">[(None, 60, 512), (None, 60, 512)]</text>\n",
       "<polyline fill=\"none\" points=\"5165.1372,-1600.5 5372.1372,-1600.5 \" stroke=\"#000000\"/>\n",
       "<text fill=\"#000000\" font-family=\"Times,serif\" font-size=\"14.00\" text-anchor=\"middle\" x=\"5268.6372\" y=\"-1585.3\">[(None, 60, 512), (1, 1), (1, 1)]</text>\n",
       "</g>\n",
       "<!-- 140378904936336&#45;&gt;140378886398736 -->\n",
       "<g class=\"edge\" id=\"edge137\">\n",
       "<title>140378904936336-&gt;140378886398736</title>\n",
       "<path d=\"M4764.984,-1993.1896C4682.6007,-1982.6846 4604.9899,-1969.5086 4591.1372,-1956 4556.7142,-1922.432 4572.1372,-1897.5807 4572.1372,-1849.5 4572.1372,-1849.5 4572.1372,-1849.5 4572.1372,-1766.5 4572.1372,-1692.3345 4754.4279,-1648.8036 4911.3704,-1625.0692\" fill=\"none\" stroke=\"#000000\"/>\n",
       "<polygon fill=\"#000000\" points=\"4912.2943,-1628.4703 4921.6691,-1623.5344 4911.2624,-1621.5468 4912.2943,-1628.4703\" stroke=\"#000000\"/>\n",
       "</g>\n",
       "<!-- 140378903263056 -->\n",
       "<g class=\"node\" id=\"node89\">\n",
       "<title>140378903263056</title>\n",
       "<polygon fill=\"none\" points=\"5050.1372,-1826.5 5050.1372,-1872.5 5482.1372,-1872.5 5482.1372,-1826.5 5050.1372,-1826.5\" stroke=\"#000000\"/>\n",
       "<text fill=\"#000000\" font-family=\"Times,serif\" font-size=\"14.00\" text-anchor=\"middle\" x=\"5186.6372\" y=\"-1845.8\">batch_normalization_106: BatchNormalization</text>\n",
       "<polyline fill=\"none\" points=\"5323.1372,-1826.5 5323.1372,-1872.5 \" stroke=\"#000000\"/>\n",
       "<text fill=\"#000000\" font-family=\"Times,serif\" font-size=\"14.00\" text-anchor=\"middle\" x=\"5350.6372\" y=\"-1857.3\">input:</text>\n",
       "<polyline fill=\"none\" points=\"5323.1372,-1849.5 5378.1372,-1849.5 \" stroke=\"#000000\"/>\n",
       "<text fill=\"#000000\" font-family=\"Times,serif\" font-size=\"14.00\" text-anchor=\"middle\" x=\"5350.6372\" y=\"-1834.3\">output:</text>\n",
       "<polyline fill=\"none\" points=\"5378.1372,-1826.5 5378.1372,-1872.5 \" stroke=\"#000000\"/>\n",
       "<text fill=\"#000000\" font-family=\"Times,serif\" font-size=\"14.00\" text-anchor=\"middle\" x=\"5430.1372\" y=\"-1857.3\">(None, 60, 512)</text>\n",
       "<polyline fill=\"none\" points=\"5378.1372,-1849.5 5482.1372,-1849.5 \" stroke=\"#000000\"/>\n",
       "<text fill=\"#000000\" font-family=\"Times,serif\" font-size=\"14.00\" text-anchor=\"middle\" x=\"5430.1372\" y=\"-1834.3\">(None, 60, 512)</text>\n",
       "</g>\n",
       "<!-- 140378903262992&#45;&gt;140378903263056 -->\n",
       "<g class=\"edge\" id=\"edge120\">\n",
       "<title>140378903262992-&gt;140378903263056</title>\n",
       "<path d=\"M5060.1471,-1909.4901C5096.4403,-1898.9205 5139.64,-1886.3395 5177.0827,-1875.4352\" fill=\"none\" stroke=\"#000000\"/>\n",
       "<polygon fill=\"#000000\" points=\"5178.3511,-1878.7113 5186.9736,-1872.5547 5176.3938,-1871.9905 5178.3511,-1878.7113\" stroke=\"#000000\"/>\n",
       "</g>\n",
       "<!-- 140378901572752 -->\n",
       "<g class=\"node\" id=\"node90\">\n",
       "<title>140378901572752</title>\n",
       "<polygon fill=\"none\" points=\"3019.1372,-1826.5 3019.1372,-1872.5 3451.1372,-1872.5 3451.1372,-1826.5 3019.1372,-1826.5\" stroke=\"#000000\"/>\n",
       "<text fill=\"#000000\" font-family=\"Times,serif\" font-size=\"14.00\" text-anchor=\"middle\" x=\"3155.6372\" y=\"-1845.8\">batch_normalization_107: BatchNormalization</text>\n",
       "<polyline fill=\"none\" points=\"3292.1372,-1826.5 3292.1372,-1872.5 \" stroke=\"#000000\"/>\n",
       "<text fill=\"#000000\" font-family=\"Times,serif\" font-size=\"14.00\" text-anchor=\"middle\" x=\"3319.6372\" y=\"-1857.3\">input:</text>\n",
       "<polyline fill=\"none\" points=\"3292.1372,-1849.5 3347.1372,-1849.5 \" stroke=\"#000000\"/>\n",
       "<text fill=\"#000000\" font-family=\"Times,serif\" font-size=\"14.00\" text-anchor=\"middle\" x=\"3319.6372\" y=\"-1834.3\">output:</text>\n",
       "<polyline fill=\"none\" points=\"3347.1372,-1826.5 3347.1372,-1872.5 \" stroke=\"#000000\"/>\n",
       "<text fill=\"#000000\" font-family=\"Times,serif\" font-size=\"14.00\" text-anchor=\"middle\" x=\"3399.1372\" y=\"-1857.3\">(None, 60, 512)</text>\n",
       "<polyline fill=\"none\" points=\"3347.1372,-1849.5 3451.1372,-1849.5 \" stroke=\"#000000\"/>\n",
       "<text fill=\"#000000\" font-family=\"Times,serif\" font-size=\"14.00\" text-anchor=\"middle\" x=\"3399.1372\" y=\"-1834.3\">(None, 60, 512)</text>\n",
       "</g>\n",
       "<!-- 140378903263248&#45;&gt;140378901572752 -->\n",
       "<g class=\"edge\" id=\"edge121\">\n",
       "<title>140378903263248-&gt;140378901572752</title>\n",
       "<path d=\"M2445.1471,-1909.4901C2623.521,-1895.9448 2845.3962,-1879.0961 3008.5543,-1866.7062\" fill=\"none\" stroke=\"#000000\"/>\n",
       "<polygon fill=\"#000000\" points=\"3009.0181,-1870.1812 3018.7243,-1865.9339 3008.488,-1863.2013 3009.0181,-1870.1812\" stroke=\"#000000\"/>\n",
       "</g>\n",
       "<!-- 140378899452944 -->\n",
       "<g class=\"node\" id=\"node91\">\n",
       "<title>140378899452944</title>\n",
       "<polygon fill=\"none\" points=\"5523.1372,-1826.5 5523.1372,-1872.5 5955.1372,-1872.5 5955.1372,-1826.5 5523.1372,-1826.5\" stroke=\"#000000\"/>\n",
       "<text fill=\"#000000\" font-family=\"Times,serif\" font-size=\"14.00\" text-anchor=\"middle\" x=\"5659.6372\" y=\"-1845.8\">batch_normalization_108: BatchNormalization</text>\n",
       "<polyline fill=\"none\" points=\"5796.1372,-1826.5 5796.1372,-1872.5 \" stroke=\"#000000\"/>\n",
       "<text fill=\"#000000\" font-family=\"Times,serif\" font-size=\"14.00\" text-anchor=\"middle\" x=\"5823.6372\" y=\"-1857.3\">input:</text>\n",
       "<polyline fill=\"none\" points=\"5796.1372,-1849.5 5851.1372,-1849.5 \" stroke=\"#000000\"/>\n",
       "<text fill=\"#000000\" font-family=\"Times,serif\" font-size=\"14.00\" text-anchor=\"middle\" x=\"5823.6372\" y=\"-1834.3\">output:</text>\n",
       "<polyline fill=\"none\" points=\"5851.1372,-1826.5 5851.1372,-1872.5 \" stroke=\"#000000\"/>\n",
       "<text fill=\"#000000\" font-family=\"Times,serif\" font-size=\"14.00\" text-anchor=\"middle\" x=\"5903.1372\" y=\"-1857.3\">(None, 60, 512)</text>\n",
       "<polyline fill=\"none\" points=\"5851.1372,-1849.5 5955.1372,-1849.5 \" stroke=\"#000000\"/>\n",
       "<text fill=\"#000000\" font-family=\"Times,serif\" font-size=\"14.00\" text-anchor=\"middle\" x=\"5903.1372\" y=\"-1834.3\">(None, 60, 512)</text>\n",
       "</g>\n",
       "<!-- 140378901572112&#45;&gt;140378899452944 -->\n",
       "<g class=\"edge\" id=\"edge122\">\n",
       "<title>140378901572112-&gt;140378899452944</title>\n",
       "<path d=\"M5755.009,-1909.3799C5752.8104,-1901.0854 5750.2865,-1891.5633 5747.9077,-1882.5889\" fill=\"none\" stroke=\"#000000\"/>\n",
       "<polygon fill=\"#000000\" points=\"5751.2542,-1881.5534 5745.3088,-1872.784 5744.4879,-1883.347 5751.2542,-1881.5534\" stroke=\"#000000\"/>\n",
       "</g>\n",
       "<!-- 140378897206032 -->\n",
       "<g class=\"node\" id=\"node92\">\n",
       "<title>140378897206032</title>\n",
       "<polygon fill=\"none\" points=\"6149.1372,-1826.5 6149.1372,-1872.5 6581.1372,-1872.5 6581.1372,-1826.5 6149.1372,-1826.5\" stroke=\"#000000\"/>\n",
       "<text fill=\"#000000\" font-family=\"Times,serif\" font-size=\"14.00\" text-anchor=\"middle\" x=\"6285.6372\" y=\"-1845.8\">batch_normalization_109: BatchNormalization</text>\n",
       "<polyline fill=\"none\" points=\"6422.1372,-1826.5 6422.1372,-1872.5 \" stroke=\"#000000\"/>\n",
       "<text fill=\"#000000\" font-family=\"Times,serif\" font-size=\"14.00\" text-anchor=\"middle\" x=\"6449.6372\" y=\"-1857.3\">input:</text>\n",
       "<polyline fill=\"none\" points=\"6422.1372,-1849.5 6477.1372,-1849.5 \" stroke=\"#000000\"/>\n",
       "<text fill=\"#000000\" font-family=\"Times,serif\" font-size=\"14.00\" text-anchor=\"middle\" x=\"6449.6372\" y=\"-1834.3\">output:</text>\n",
       "<polyline fill=\"none\" points=\"6477.1372,-1826.5 6477.1372,-1872.5 \" stroke=\"#000000\"/>\n",
       "<text fill=\"#000000\" font-family=\"Times,serif\" font-size=\"14.00\" text-anchor=\"middle\" x=\"6529.1372\" y=\"-1857.3\">(None, 60, 512)</text>\n",
       "<polyline fill=\"none\" points=\"6477.1372,-1849.5 6581.1372,-1849.5 \" stroke=\"#000000\"/>\n",
       "<text fill=\"#000000\" font-family=\"Times,serif\" font-size=\"14.00\" text-anchor=\"middle\" x=\"6529.1372\" y=\"-1834.3\">(None, 60, 512)</text>\n",
       "</g>\n",
       "<!-- 140378899452240&#45;&gt;140378897206032 -->\n",
       "<g class=\"edge\" id=\"edge123\">\n",
       "<title>140378899452240-&gt;140378897206032</title>\n",
       "<path d=\"M6492.1114,-1909.3799C6470.8407,-1899.3488 6445.7629,-1887.5224 6423.5366,-1877.0406\" fill=\"none\" stroke=\"#000000\"/>\n",
       "<polygon fill=\"#000000\" points=\"6424.7426,-1873.7398 6414.205,-1872.6399 6421.7568,-1880.071 6424.7426,-1873.7398\" stroke=\"#000000\"/>\n",
       "</g>\n",
       "<!-- 140378897206928 -->\n",
       "<g class=\"node\" id=\"node93\">\n",
       "<title>140378897206928</title>\n",
       "<polygon fill=\"none\" points=\"1857.1372,-1826.5 1857.1372,-1872.5 2289.1372,-1872.5 2289.1372,-1826.5 1857.1372,-1826.5\" stroke=\"#000000\"/>\n",
       "<text fill=\"#000000\" font-family=\"Times,serif\" font-size=\"14.00\" text-anchor=\"middle\" x=\"1993.6372\" y=\"-1845.8\">batch_normalization_110: BatchNormalization</text>\n",
       "<polyline fill=\"none\" points=\"2130.1372,-1826.5 2130.1372,-1872.5 \" stroke=\"#000000\"/>\n",
       "<text fill=\"#000000\" font-family=\"Times,serif\" font-size=\"14.00\" text-anchor=\"middle\" x=\"2157.6372\" y=\"-1857.3\">input:</text>\n",
       "<polyline fill=\"none\" points=\"2130.1372,-1849.5 2185.1372,-1849.5 \" stroke=\"#000000\"/>\n",
       "<text fill=\"#000000\" font-family=\"Times,serif\" font-size=\"14.00\" text-anchor=\"middle\" x=\"2157.6372\" y=\"-1834.3\">output:</text>\n",
       "<polyline fill=\"none\" points=\"2185.1372,-1826.5 2185.1372,-1872.5 \" stroke=\"#000000\"/>\n",
       "<text fill=\"#000000\" font-family=\"Times,serif\" font-size=\"14.00\" text-anchor=\"middle\" x=\"2237.1372\" y=\"-1857.3\">(None, 60, 512)</text>\n",
       "<polyline fill=\"none\" points=\"2185.1372,-1849.5 2289.1372,-1849.5 \" stroke=\"#000000\"/>\n",
       "<text fill=\"#000000\" font-family=\"Times,serif\" font-size=\"14.00\" text-anchor=\"middle\" x=\"2237.1372\" y=\"-1834.3\">(None, 60, 512)</text>\n",
       "</g>\n",
       "<!-- 140378897206288&#45;&gt;140378897206928 -->\n",
       "<g class=\"edge\" id=\"edge124\">\n",
       "<title>140378897206288-&gt;140378897206928</title>\n",
       "<path d=\"M1559.2461,-1909.4901C1654.607,-1898.358 1769.0809,-1884.9946 1865.7577,-1873.7089\" fill=\"none\" stroke=\"#000000\"/>\n",
       "<polygon fill=\"#000000\" points=\"1866.4264,-1877.1546 1875.9531,-1872.5187 1865.6147,-1870.2019 1866.4264,-1877.1546\" stroke=\"#000000\"/>\n",
       "</g>\n",
       "<!-- 140378893413392 -->\n",
       "<g class=\"node\" id=\"node94\">\n",
       "<title>140378893413392</title>\n",
       "<polygon fill=\"none\" points=\"7594.1372,-1826.5 7594.1372,-1872.5 8026.1372,-1872.5 8026.1372,-1826.5 7594.1372,-1826.5\" stroke=\"#000000\"/>\n",
       "<text fill=\"#000000\" font-family=\"Times,serif\" font-size=\"14.00\" text-anchor=\"middle\" x=\"7730.6372\" y=\"-1845.8\">batch_normalization_111: BatchNormalization</text>\n",
       "<polyline fill=\"none\" points=\"7867.1372,-1826.5 7867.1372,-1872.5 \" stroke=\"#000000\"/>\n",
       "<text fill=\"#000000\" font-family=\"Times,serif\" font-size=\"14.00\" text-anchor=\"middle\" x=\"7894.6372\" y=\"-1857.3\">input:</text>\n",
       "<polyline fill=\"none\" points=\"7867.1372,-1849.5 7922.1372,-1849.5 \" stroke=\"#000000\"/>\n",
       "<text fill=\"#000000\" font-family=\"Times,serif\" font-size=\"14.00\" text-anchor=\"middle\" x=\"7894.6372\" y=\"-1834.3\">output:</text>\n",
       "<polyline fill=\"none\" points=\"7922.1372,-1826.5 7922.1372,-1872.5 \" stroke=\"#000000\"/>\n",
       "<text fill=\"#000000\" font-family=\"Times,serif\" font-size=\"14.00\" text-anchor=\"middle\" x=\"7974.1372\" y=\"-1857.3\">(None, 60, 512)</text>\n",
       "<polyline fill=\"none\" points=\"7922.1372,-1849.5 8026.1372,-1849.5 \" stroke=\"#000000\"/>\n",
       "<text fill=\"#000000\" font-family=\"Times,serif\" font-size=\"14.00\" text-anchor=\"middle\" x=\"7974.1372\" y=\"-1834.3\">(None, 60, 512)</text>\n",
       "</g>\n",
       "<!-- 140378893412624&#45;&gt;140378893413392 -->\n",
       "<g class=\"edge\" id=\"edge125\">\n",
       "<title>140378893412624-&gt;140378893413392</title>\n",
       "<path d=\"M8020.4639,-1909.4901C7983.4067,-1898.9205 7939.2974,-1886.3395 7901.0665,-1875.4352\" fill=\"none\" stroke=\"#000000\"/>\n",
       "<polygon fill=\"#000000\" points=\"7901.5439,-1871.9318 7890.9674,-1872.5547 7899.6239,-1878.6634 7901.5439,-1871.9318\" stroke=\"#000000\"/>\n",
       "</g>\n",
       "<!-- 140378891153360 -->\n",
       "<g class=\"node\" id=\"node95\">\n",
       "<title>140378891153360</title>\n",
       "<polygon fill=\"none\" points=\"4600.1372,-1826.5 4600.1372,-1872.5 5032.1372,-1872.5 5032.1372,-1826.5 4600.1372,-1826.5\" stroke=\"#000000\"/>\n",
       "<text fill=\"#000000\" font-family=\"Times,serif\" font-size=\"14.00\" text-anchor=\"middle\" x=\"4736.6372\" y=\"-1845.8\">batch_normalization_112: BatchNormalization</text>\n",
       "<polyline fill=\"none\" points=\"4873.1372,-1826.5 4873.1372,-1872.5 \" stroke=\"#000000\"/>\n",
       "<text fill=\"#000000\" font-family=\"Times,serif\" font-size=\"14.00\" text-anchor=\"middle\" x=\"4900.6372\" y=\"-1857.3\">input:</text>\n",
       "<polyline fill=\"none\" points=\"4873.1372,-1849.5 4928.1372,-1849.5 \" stroke=\"#000000\"/>\n",
       "<text fill=\"#000000\" font-family=\"Times,serif\" font-size=\"14.00\" text-anchor=\"middle\" x=\"4900.6372\" y=\"-1834.3\">output:</text>\n",
       "<polyline fill=\"none\" points=\"4928.1372,-1826.5 4928.1372,-1872.5 \" stroke=\"#000000\"/>\n",
       "<text fill=\"#000000\" font-family=\"Times,serif\" font-size=\"14.00\" text-anchor=\"middle\" x=\"4980.1372\" y=\"-1857.3\">(None, 60, 512)</text>\n",
       "<polyline fill=\"none\" points=\"4928.1372,-1849.5 5032.1372,-1849.5 \" stroke=\"#000000\"/>\n",
       "<text fill=\"#000000\" font-family=\"Times,serif\" font-size=\"14.00\" text-anchor=\"middle\" x=\"4980.1372\" y=\"-1834.3\">(None, 60, 512)</text>\n",
       "</g>\n",
       "<!-- 140378893412432&#45;&gt;140378891153360 -->\n",
       "<g class=\"edge\" id=\"edge126\">\n",
       "<title>140378893412432-&gt;140378891153360</title>\n",
       "<path d=\"M3303.138,-1915.8036C3688.6457,-1898.9096 4271.8124,-1873.3537 4589.7987,-1859.4187\" fill=\"none\" stroke=\"#000000\"/>\n",
       "<polygon fill=\"#000000\" points=\"4590.2261,-1862.9035 4600.0632,-1858.9689 4589.9196,-1855.9102 4590.2261,-1862.9035\" stroke=\"#000000\"/>\n",
       "</g>\n",
       "<!-- 140378889037712 -->\n",
       "<g class=\"node\" id=\"node96\">\n",
       "<title>140378889037712</title>\n",
       "<polygon fill=\"none\" points=\"6852.1372,-1826.5 6852.1372,-1872.5 7284.1372,-1872.5 7284.1372,-1826.5 6852.1372,-1826.5\" stroke=\"#000000\"/>\n",
       "<text fill=\"#000000\" font-family=\"Times,serif\" font-size=\"14.00\" text-anchor=\"middle\" x=\"6988.6372\" y=\"-1845.8\">batch_normalization_113: BatchNormalization</text>\n",
       "<polyline fill=\"none\" points=\"7125.1372,-1826.5 7125.1372,-1872.5 \" stroke=\"#000000\"/>\n",
       "<text fill=\"#000000\" font-family=\"Times,serif\" font-size=\"14.00\" text-anchor=\"middle\" x=\"7152.6372\" y=\"-1857.3\">input:</text>\n",
       "<polyline fill=\"none\" points=\"7125.1372,-1849.5 7180.1372,-1849.5 \" stroke=\"#000000\"/>\n",
       "<text fill=\"#000000\" font-family=\"Times,serif\" font-size=\"14.00\" text-anchor=\"middle\" x=\"7152.6372\" y=\"-1834.3\">output:</text>\n",
       "<polyline fill=\"none\" points=\"7180.1372,-1826.5 7180.1372,-1872.5 \" stroke=\"#000000\"/>\n",
       "<text fill=\"#000000\" font-family=\"Times,serif\" font-size=\"14.00\" text-anchor=\"middle\" x=\"7232.1372\" y=\"-1857.3\">(None, 60, 512)</text>\n",
       "<polyline fill=\"none\" points=\"7180.1372,-1849.5 7284.1372,-1849.5 \" stroke=\"#000000\"/>\n",
       "<text fill=\"#000000\" font-family=\"Times,serif\" font-size=\"14.00\" text-anchor=\"middle\" x=\"7232.1372\" y=\"-1834.3\">(None, 60, 512)</text>\n",
       "</g>\n",
       "<!-- 140378891256144&#45;&gt;140378889037712 -->\n",
       "<g class=\"edge\" id=\"edge127\">\n",
       "<title>140378891256144-&gt;140378889037712</title>\n",
       "<path d=\"M7250.9986,-1909.4901C7219.0546,-1899.0105 7181.0835,-1886.5535 7148.0423,-1875.7139\" fill=\"none\" stroke=\"#000000\"/>\n",
       "<polygon fill=\"#000000\" points=\"7149.005,-1872.3463 7138.4122,-1872.5547 7146.823,-1878.9975 7149.005,-1872.3463\" stroke=\"#000000\"/>\n",
       "</g>\n",
       "<!-- 140378889037072 -->\n",
       "<g class=\"node\" id=\"node97\">\n",
       "<title>140378889037072</title>\n",
       "<polygon fill=\"none\" points=\"4769.1372,-1743.5 4769.1372,-1789.5 5763.1372,-1789.5 5763.1372,-1743.5 4769.1372,-1743.5\" stroke=\"#000000\"/>\n",
       "<text fill=\"#000000\" font-family=\"Times,serif\" font-size=\"14.00\" text-anchor=\"middle\" x=\"4851.6372\" y=\"-1762.8\">concat_enc_1: Concatenate</text>\n",
       "<polyline fill=\"none\" points=\"4934.1372,-1743.5 4934.1372,-1789.5 \" stroke=\"#000000\"/>\n",
       "<text fill=\"#000000\" font-family=\"Times,serif\" font-size=\"14.00\" text-anchor=\"middle\" x=\"4961.6372\" y=\"-1774.3\">input:</text>\n",
       "<polyline fill=\"none\" points=\"4934.1372,-1766.5 4989.1372,-1766.5 \" stroke=\"#000000\"/>\n",
       "<text fill=\"#000000\" font-family=\"Times,serif\" font-size=\"14.00\" text-anchor=\"middle\" x=\"4961.6372\" y=\"-1751.3\">output:</text>\n",
       "<polyline fill=\"none\" points=\"4989.1372,-1743.5 4989.1372,-1789.5 \" stroke=\"#000000\"/>\n",
       "<text fill=\"#000000\" font-family=\"Times,serif\" font-size=\"14.00\" text-anchor=\"middle\" x=\"5376.1372\" y=\"-1774.3\">[(None, 60, 512), (None, 60, 512), (None, 60, 512), (None, 60, 512), (None, 60, 512), (None, 60, 512), (None, 60, 512), (None, 60, 512)]</text>\n",
       "<polyline fill=\"none\" points=\"4989.1372,-1766.5 5763.1372,-1766.5 \" stroke=\"#000000\"/>\n",
       "<text fill=\"#000000\" font-family=\"Times,serif\" font-size=\"14.00\" text-anchor=\"middle\" x=\"5376.1372\" y=\"-1751.3\">(None, 60, 4096)</text>\n",
       "</g>\n",
       "<!-- 140378903263056&#45;&gt;140378889037072 -->\n",
       "<g class=\"edge\" id=\"edge128\">\n",
       "<title>140378903263056-&gt;140378889037072</title>\n",
       "<path d=\"M5266.1372,-1826.3799C5266.1372,-1818.1745 5266.1372,-1808.7679 5266.1372,-1799.8786\" fill=\"none\" stroke=\"#000000\"/>\n",
       "<polygon fill=\"#000000\" points=\"5269.6373,-1799.784 5266.1372,-1789.784 5262.6373,-1799.784 5269.6373,-1799.784\" stroke=\"#000000\"/>\n",
       "</g>\n",
       "<!-- 140378901572752&#45;&gt;140378889037072 -->\n",
       "<g class=\"edge\" id=\"edge129\">\n",
       "<title>140378901572752-&gt;140378889037072</title>\n",
       "<path d=\"M3451.5275,-1840.6569C3760.7615,-1828.0195 4338.1427,-1804.4239 4758.7984,-1787.2332\" fill=\"none\" stroke=\"#000000\"/>\n",
       "<polygon fill=\"#000000\" points=\"4759.1682,-1790.7211 4769.0169,-1786.8156 4758.8823,-1783.7269 4759.1682,-1790.7211\" stroke=\"#000000\"/>\n",
       "</g>\n",
       "<!-- 140378899452944&#45;&gt;140378889037072 -->\n",
       "<g class=\"edge\" id=\"edge130\">\n",
       "<title>140378899452944-&gt;140378889037072</title>\n",
       "<path d=\"M5608.0085,-1826.4901C5545.724,-1815.5607 5471.1833,-1802.4806 5407.624,-1791.3275\" fill=\"none\" stroke=\"#000000\"/>\n",
       "<polygon fill=\"#000000\" points=\"5407.9755,-1787.8358 5397.521,-1789.5547 5406.7656,-1794.7304 5407.9755,-1787.8358\" stroke=\"#000000\"/>\n",
       "</g>\n",
       "<!-- 140378897206032&#45;&gt;140378889037072 -->\n",
       "<g class=\"edge\" id=\"edge131\">\n",
       "<title>140378897206032-&gt;140378889037072</title>\n",
       "<path d=\"M6148.9939,-1833.1762C5986.9168,-1820.9356 5762.6424,-1803.9977 5580.7011,-1790.2569\" fill=\"none\" stroke=\"#000000\"/>\n",
       "<polygon fill=\"#000000\" points=\"5580.9375,-1786.7648 5570.7023,-1789.5017 5580.4103,-1793.745 5580.9375,-1786.7648\" stroke=\"#000000\"/>\n",
       "</g>\n",
       "<!-- 140378897206928&#45;&gt;140378889037072 -->\n",
       "<g class=\"edge\" id=\"edge132\">\n",
       "<title>140378897206928-&gt;140378889037072</title>\n",
       "<path d=\"M2289.1566,-1843.8847C2791.5127,-1830.8263 4049.3559,-1798.1295 4758.8041,-1779.6878\" fill=\"none\" stroke=\"#000000\"/>\n",
       "<polygon fill=\"#000000\" points=\"4759.0417,-1783.1829 4768.9473,-1779.4241 4758.8597,-1776.1853 4759.0417,-1783.1829\" stroke=\"#000000\"/>\n",
       "</g>\n",
       "<!-- 140378893413392&#45;&gt;140378889037072 -->\n",
       "<g class=\"edge\" id=\"edge133\">\n",
       "<title>140378893413392-&gt;140378889037072</title>\n",
       "<path d=\"M7593.8416,-1838.8923C7501.246,-1834.5523 7391.9027,-1829.694 7293.1372,-1826 6775.5733,-1806.6422 6183.4743,-1789.8839 5773.4205,-1779.1299\" fill=\"none\" stroke=\"#000000\"/>\n",
       "<polygon fill=\"#000000\" points=\"5773.2504,-1775.6244 5763.1621,-1778.8611 5773.067,-1782.622 5773.2504,-1775.6244\" stroke=\"#000000\"/>\n",
       "</g>\n",
       "<!-- 140378891153360&#45;&gt;140378889037072 -->\n",
       "<g class=\"edge\" id=\"edge134\">\n",
       "<title>140378891153360-&gt;140378889037072</title>\n",
       "<path d=\"M4940.8897,-1826.4901C5000.0235,-1815.5832 5070.7698,-1802.5344 5131.1569,-1791.3964\" fill=\"none\" stroke=\"#000000\"/>\n",
       "<polygon fill=\"#000000\" points=\"5131.9428,-1794.8105 5141.142,-1789.5547 5130.673,-1787.9267 5131.9428,-1794.8105\" stroke=\"#000000\"/>\n",
       "</g>\n",
       "<!-- 140378889037712&#45;&gt;140378889037072 -->\n",
       "<g class=\"edge\" id=\"edge135\">\n",
       "<title>140378889037712-&gt;140378889037072</title>\n",
       "<path d=\"M6851.9094,-1838.6762C6769.9249,-1834.623 6675.7253,-1830.027 6590.1372,-1826 6320.51,-1813.3137 6019.9669,-1799.7599 5773.4614,-1788.7976\" fill=\"none\" stroke=\"#000000\"/>\n",
       "<polygon fill=\"#000000\" points=\"5773.3877,-1785.291 5763.2421,-1788.3433 5773.0767,-1792.2841 5773.3877,-1785.291\" stroke=\"#000000\"/>\n",
       "</g>\n",
       "<!-- 140378886707088 -->\n",
       "<g class=\"node\" id=\"node98\">\n",
       "<title>140378886707088</title>\n",
       "<polygon fill=\"none\" points=\"4989.6372,-1660.5 4989.6372,-1706.5 5364.6372,-1706.5 5364.6372,-1660.5 4989.6372,-1660.5\" stroke=\"#000000\"/>\n",
       "<text fill=\"#000000\" font-family=\"Times,serif\" font-size=\"14.00\" text-anchor=\"middle\" x=\"5094.6372\" y=\"-1679.8\">cond_enc_1: CondenseAttention1D</text>\n",
       "<polyline fill=\"none\" points=\"5199.6372,-1660.5 5199.6372,-1706.5 \" stroke=\"#000000\"/>\n",
       "<text fill=\"#000000\" font-family=\"Times,serif\" font-size=\"14.00\" text-anchor=\"middle\" x=\"5227.1372\" y=\"-1691.3\">input:</text>\n",
       "<polyline fill=\"none\" points=\"5199.6372,-1683.5 5254.6372,-1683.5 \" stroke=\"#000000\"/>\n",
       "<text fill=\"#000000\" font-family=\"Times,serif\" font-size=\"14.00\" text-anchor=\"middle\" x=\"5227.1372\" y=\"-1668.3\">output:</text>\n",
       "<polyline fill=\"none\" points=\"5254.6372,-1660.5 5254.6372,-1706.5 \" stroke=\"#000000\"/>\n",
       "<text fill=\"#000000\" font-family=\"Times,serif\" font-size=\"14.00\" text-anchor=\"middle\" x=\"5309.6372\" y=\"-1691.3\">(None, 60, 4096)</text>\n",
       "<polyline fill=\"none\" points=\"5254.6372,-1683.5 5364.6372,-1683.5 \" stroke=\"#000000\"/>\n",
       "<text fill=\"#000000\" font-family=\"Times,serif\" font-size=\"14.00\" text-anchor=\"middle\" x=\"5309.6372\" y=\"-1668.3\">(None, 60, 512)</text>\n",
       "</g>\n",
       "<!-- 140378889037072&#45;&gt;140378886707088 -->\n",
       "<g class=\"edge\" id=\"edge136\">\n",
       "<title>140378889037072-&gt;140378886707088</title>\n",
       "<path d=\"M5241.3457,-1743.3799C5231.4952,-1734.1935 5220.0302,-1723.5013 5209.5366,-1713.7152\" fill=\"none\" stroke=\"#000000\"/>\n",
       "<polygon fill=\"#000000\" points=\"5211.8048,-1711.0446 5202.1044,-1706.784 5207.0306,-1716.1639 5211.8048,-1711.0446\" stroke=\"#000000\"/>\n",
       "</g>\n",
       "<!-- 140378886707088&#45;&gt;140378886398736 -->\n",
       "<g class=\"edge\" id=\"edge138\">\n",
       "<title>140378886707088-&gt;140378886398736</title>\n",
       "<path d=\"M5165.1593,-1660.3799C5160.7235,-1651.8178 5155.6101,-1641.9477 5150.8306,-1632.7222\" fill=\"none\" stroke=\"#000000\"/>\n",
       "<polygon fill=\"#000000\" points=\"5153.9078,-1631.0531 5146.2,-1623.784 5147.6924,-1634.2732 5153.9078,-1631.0531\" stroke=\"#000000\"/>\n",
       "</g>\n",
       "<!-- 140378886401360 -->\n",
       "<g class=\"node\" id=\"node100\">\n",
       "<title>140378886401360</title>\n",
       "<polygon fill=\"none\" points=\"4918.1372,-1494.5 4918.1372,-1540.5 5350.1372,-1540.5 5350.1372,-1494.5 4918.1372,-1494.5\" stroke=\"#000000\"/>\n",
       "<text fill=\"#000000\" font-family=\"Times,serif\" font-size=\"14.00\" text-anchor=\"middle\" x=\"5054.6372\" y=\"-1513.8\">batch_normalization_114: BatchNormalization</text>\n",
       "<polyline fill=\"none\" points=\"5191.1372,-1494.5 5191.1372,-1540.5 \" stroke=\"#000000\"/>\n",
       "<text fill=\"#000000\" font-family=\"Times,serif\" font-size=\"14.00\" text-anchor=\"middle\" x=\"5218.6372\" y=\"-1525.3\">input:</text>\n",
       "<polyline fill=\"none\" points=\"5191.1372,-1517.5 5246.1372,-1517.5 \" stroke=\"#000000\"/>\n",
       "<text fill=\"#000000\" font-family=\"Times,serif\" font-size=\"14.00\" text-anchor=\"middle\" x=\"5218.6372\" y=\"-1502.3\">output:</text>\n",
       "<polyline fill=\"none\" points=\"5246.1372,-1494.5 5246.1372,-1540.5 \" stroke=\"#000000\"/>\n",
       "<text fill=\"#000000\" font-family=\"Times,serif\" font-size=\"14.00\" text-anchor=\"middle\" x=\"5298.1372\" y=\"-1525.3\">(None, 60, 512)</text>\n",
       "<polyline fill=\"none\" points=\"5246.1372,-1517.5 5350.1372,-1517.5 \" stroke=\"#000000\"/>\n",
       "<text fill=\"#000000\" font-family=\"Times,serif\" font-size=\"14.00\" text-anchor=\"middle\" x=\"5298.1372\" y=\"-1502.3\">(None, 60, 512)</text>\n",
       "</g>\n",
       "<!-- 140378886398736&#45;&gt;140378886401360 -->\n",
       "<g class=\"edge\" id=\"edge139\">\n",
       "<title>140378886398736-&gt;140378886401360</title>\n",
       "<path d=\"M5134.1372,-1577.3799C5134.1372,-1569.1745 5134.1372,-1559.7679 5134.1372,-1550.8786\" fill=\"none\" stroke=\"#000000\"/>\n",
       "<polygon fill=\"#000000\" points=\"5137.6373,-1550.784 5134.1372,-1540.784 5130.6373,-1550.784 5137.6373,-1550.784\" stroke=\"#000000\"/>\n",
       "</g>\n",
       "<!-- 140378885135440 -->\n",
       "<g class=\"node\" id=\"node101\">\n",
       "<title>140378885135440</title>\n",
       "<polygon fill=\"none\" points=\"4802.6372,-1411.5 4802.6372,-1457.5 5287.6372,-1457.5 5287.6372,-1411.5 4802.6372,-1411.5\" stroke=\"#000000\"/>\n",
       "<text fill=\"#000000\" font-family=\"Times,serif\" font-size=\"14.00\" text-anchor=\"middle\" x=\"4965.6372\" y=\"-1430.8\">time_distributed_4(dense_312): TimeDistributed(Dense)</text>\n",
       "<polyline fill=\"none\" points=\"5128.6372,-1411.5 5128.6372,-1457.5 \" stroke=\"#000000\"/>\n",
       "<text fill=\"#000000\" font-family=\"Times,serif\" font-size=\"14.00\" text-anchor=\"middle\" x=\"5156.1372\" y=\"-1442.3\">input:</text>\n",
       "<polyline fill=\"none\" points=\"5128.6372,-1434.5 5183.6372,-1434.5 \" stroke=\"#000000\"/>\n",
       "<text fill=\"#000000\" font-family=\"Times,serif\" font-size=\"14.00\" text-anchor=\"middle\" x=\"5156.1372\" y=\"-1419.3\">output:</text>\n",
       "<polyline fill=\"none\" points=\"5183.6372,-1411.5 5183.6372,-1457.5 \" stroke=\"#000000\"/>\n",
       "<text fill=\"#000000\" font-family=\"Times,serif\" font-size=\"14.00\" text-anchor=\"middle\" x=\"5235.6372\" y=\"-1442.3\">(None, 60, 512)</text>\n",
       "<polyline fill=\"none\" points=\"5183.6372,-1434.5 5287.6372,-1434.5 \" stroke=\"#000000\"/>\n",
       "<text fill=\"#000000\" font-family=\"Times,serif\" font-size=\"14.00\" text-anchor=\"middle\" x=\"5235.6372\" y=\"-1419.3\">(None, 60, 512)</text>\n",
       "</g>\n",
       "<!-- 140378886401360&#45;&gt;140378885135440 -->\n",
       "<g class=\"edge\" id=\"edge140\">\n",
       "<title>140378886401360-&gt;140378885135440</title>\n",
       "<path d=\"M5109.3457,-1494.3799C5099.4952,-1485.1935 5088.0302,-1474.5013 5077.5366,-1464.7152\" fill=\"none\" stroke=\"#000000\"/>\n",
       "<polygon fill=\"#000000\" points=\"5079.8048,-1462.0446 5070.1044,-1457.784 5075.0306,-1467.1639 5079.8048,-1462.0446\" stroke=\"#000000\"/>\n",
       "</g>\n",
       "<!-- 140378884545296 -->\n",
       "<g class=\"node\" id=\"node102\">\n",
       "<title>140378884545296</title>\n",
       "<polygon fill=\"none\" points=\"4941.6372,-1328.5 4941.6372,-1374.5 5418.6372,-1374.5 5418.6372,-1328.5 4941.6372,-1328.5\" stroke=\"#000000\"/>\n",
       "<text fill=\"#000000\" font-family=\"Times,serif\" font-size=\"14.00\" text-anchor=\"middle\" x=\"5049.1372\" y=\"-1347.8\">res_comb_NA_1: ResidualCombine</text>\n",
       "<polyline fill=\"none\" points=\"5156.6372,-1328.5 5156.6372,-1374.5 \" stroke=\"#000000\"/>\n",
       "<text fill=\"#000000\" font-family=\"Times,serif\" font-size=\"14.00\" text-anchor=\"middle\" x=\"5184.1372\" y=\"-1359.3\">input:</text>\n",
       "<polyline fill=\"none\" points=\"5156.6372,-1351.5 5211.6372,-1351.5 \" stroke=\"#000000\"/>\n",
       "<text fill=\"#000000\" font-family=\"Times,serif\" font-size=\"14.00\" text-anchor=\"middle\" x=\"5184.1372\" y=\"-1336.3\">output:</text>\n",
       "<polyline fill=\"none\" points=\"5211.6372,-1328.5 5211.6372,-1374.5 \" stroke=\"#000000\"/>\n",
       "<text fill=\"#000000\" font-family=\"Times,serif\" font-size=\"14.00\" text-anchor=\"middle\" x=\"5315.1372\" y=\"-1359.3\">[(None, 60, 512), (None, 60, 512)]</text>\n",
       "<polyline fill=\"none\" points=\"5211.6372,-1351.5 5418.6372,-1351.5 \" stroke=\"#000000\"/>\n",
       "<text fill=\"#000000\" font-family=\"Times,serif\" font-size=\"14.00\" text-anchor=\"middle\" x=\"5315.1372\" y=\"-1336.3\">[(None, 60, 512), (1, 1), (1, 1)]</text>\n",
       "</g>\n",
       "<!-- 140378886401360&#45;&gt;140378884545296 -->\n",
       "<g class=\"edge\" id=\"edge141\">\n",
       "<title>140378886401360-&gt;140378884545296</title>\n",
       "<path d=\"M5224.3414,-1494.4824C5256.7793,-1484.2371 5287.7264,-1471.4534 5297.1372,-1458 5309.1106,-1440.8832 5308.0585,-1428.8065 5297.1372,-1411 5289.1229,-1397.9333 5277.2425,-1387.6254 5264.0809,-1379.5286\" fill=\"none\" stroke=\"#000000\"/>\n",
       "<polygon fill=\"#000000\" points=\"5265.6974,-1376.4216 5255.2746,-1374.5204 5262.2369,-1382.5064 5265.6974,-1376.4216\" stroke=\"#000000\"/>\n",
       "</g>\n",
       "<!-- 140378885135440&#45;&gt;140378884545296 -->\n",
       "<g class=\"edge\" id=\"edge142\">\n",
       "<title>140378885135440-&gt;140378884545296</title>\n",
       "<path d=\"M5082.7422,-1411.3799C5098.4093,-1401.7475 5116.769,-1390.4597 5133.2991,-1380.2967\" fill=\"none\" stroke=\"#000000\"/>\n",
       "<polygon fill=\"#000000\" points=\"5135.58,-1383.0031 5142.2656,-1374.784 5131.9137,-1377.0399 5135.58,-1383.0031\" stroke=\"#000000\"/>\n",
       "</g>\n",
       "<!-- 140378884623056 -->\n",
       "<g class=\"node\" id=\"node103\">\n",
       "<title>140378884623056</title>\n",
       "<polygon fill=\"none\" points=\"4964.1372,-1245.5 4964.1372,-1291.5 5396.1372,-1291.5 5396.1372,-1245.5 4964.1372,-1245.5\" stroke=\"#000000\"/>\n",
       "<text fill=\"#000000\" font-family=\"Times,serif\" font-size=\"14.00\" text-anchor=\"middle\" x=\"5100.6372\" y=\"-1264.8\">batch_normalization_115: BatchNormalization</text>\n",
       "<polyline fill=\"none\" points=\"5237.1372,-1245.5 5237.1372,-1291.5 \" stroke=\"#000000\"/>\n",
       "<text fill=\"#000000\" font-family=\"Times,serif\" font-size=\"14.00\" text-anchor=\"middle\" x=\"5264.6372\" y=\"-1276.3\">input:</text>\n",
       "<polyline fill=\"none\" points=\"5237.1372,-1268.5 5292.1372,-1268.5 \" stroke=\"#000000\"/>\n",
       "<text fill=\"#000000\" font-family=\"Times,serif\" font-size=\"14.00\" text-anchor=\"middle\" x=\"5264.6372\" y=\"-1253.3\">output:</text>\n",
       "<polyline fill=\"none\" points=\"5292.1372,-1245.5 5292.1372,-1291.5 \" stroke=\"#000000\"/>\n",
       "<text fill=\"#000000\" font-family=\"Times,serif\" font-size=\"14.00\" text-anchor=\"middle\" x=\"5344.1372\" y=\"-1276.3\">(None, 60, 512)</text>\n",
       "<polyline fill=\"none\" points=\"5292.1372,-1268.5 5396.1372,-1268.5 \" stroke=\"#000000\"/>\n",
       "<text fill=\"#000000\" font-family=\"Times,serif\" font-size=\"14.00\" text-anchor=\"middle\" x=\"5344.1372\" y=\"-1253.3\">(None, 60, 512)</text>\n",
       "</g>\n",
       "<!-- 140378884545296&#45;&gt;140378884623056 -->\n",
       "<g class=\"edge\" id=\"edge143\">\n",
       "<title>140378884545296-&gt;140378884623056</title>\n",
       "<path d=\"M5180.1372,-1328.3799C5180.1372,-1320.1745 5180.1372,-1310.7679 5180.1372,-1301.8786\" fill=\"none\" stroke=\"#000000\"/>\n",
       "<polygon fill=\"#000000\" points=\"5183.6373,-1301.784 5180.1372,-1291.784 5176.6373,-1301.784 5183.6373,-1301.784\" stroke=\"#000000\"/>\n",
       "</g>\n",
       "<!-- 140378883432656 -->\n",
       "<g class=\"node\" id=\"node104\">\n",
       "<title>140378883432656</title>\n",
       "<polygon fill=\"none\" points=\"2851.6372,-1162.5 2851.6372,-1208.5 3768.6372,-1208.5 3768.6372,-1162.5 2851.6372,-1162.5\" stroke=\"#000000\"/>\n",
       "<text fill=\"#000000\" font-family=\"Times,serif\" font-size=\"14.00\" text-anchor=\"middle\" x=\"2912.6372\" y=\"-1181.8\">sa20: SelfAttention</text>\n",
       "<polyline fill=\"none\" points=\"2973.6372,-1162.5 2973.6372,-1208.5 \" stroke=\"#000000\"/>\n",
       "<text fill=\"#000000\" font-family=\"Times,serif\" font-size=\"14.00\" text-anchor=\"middle\" x=\"3001.1372\" y=\"-1193.3\">input:</text>\n",
       "<polyline fill=\"none\" points=\"2973.6372,-1185.5 3028.6372,-1185.5 \" stroke=\"#000000\"/>\n",
       "<text fill=\"#000000\" font-family=\"Times,serif\" font-size=\"14.00\" text-anchor=\"middle\" x=\"3001.1372\" y=\"-1170.3\">output:</text>\n",
       "<polyline fill=\"none\" points=\"3028.6372,-1162.5 3028.6372,-1208.5 \" stroke=\"#000000\"/>\n",
       "<text fill=\"#000000\" font-family=\"Times,serif\" font-size=\"14.00\" text-anchor=\"middle\" x=\"3398.6372\" y=\"-1193.3\">(None, 60, 512)</text>\n",
       "<polyline fill=\"none\" points=\"3028.6372,-1185.5 3768.6372,-1185.5 \" stroke=\"#000000\"/>\n",
       "<text fill=\"#000000\" font-family=\"Times,serif\" font-size=\"14.00\" text-anchor=\"middle\" x=\"3398.6372\" y=\"-1170.3\">[(None, 60, 512), (None, 60, 64), (None, 60, 64), (None, 60, 512), (None, 60, 60), (None, 60, 60), (None, 60, 60), (None, 60, 512)]</text>\n",
       "</g>\n",
       "<!-- 140378884623056&#45;&gt;140378883432656 -->\n",
       "<g class=\"edge\" id=\"edge144\">\n",
       "<title>140378884623056-&gt;140378883432656</title>\n",
       "<path d=\"M4964.0992,-1259.8677C4688.564,-1248.7363 4197.3851,-1228.4846 3777.1372,-1209 3776.9155,-1208.9897 3776.6937,-1208.9794 3776.4718,-1208.9691\" fill=\"none\" stroke=\"#000000\"/>\n",
       "<polygon fill=\"#000000\" points=\"3776.6019,-1205.4715 3766.45,-1208.5029 3776.2765,-1212.4639 3776.6019,-1205.4715\" stroke=\"#000000\"/>\n",
       "</g>\n",
       "<!-- 140378883433040 -->\n",
       "<g class=\"node\" id=\"node105\">\n",
       "<title>140378883433040</title>\n",
       "<polygon fill=\"none\" points=\"3786.6372,-1162.5 3786.6372,-1208.5 4703.6372,-1208.5 4703.6372,-1162.5 3786.6372,-1162.5\" stroke=\"#000000\"/>\n",
       "<text fill=\"#000000\" font-family=\"Times,serif\" font-size=\"14.00\" text-anchor=\"middle\" x=\"3847.6372\" y=\"-1181.8\">sa21: SelfAttention</text>\n",
       "<polyline fill=\"none\" points=\"3908.6372,-1162.5 3908.6372,-1208.5 \" stroke=\"#000000\"/>\n",
       "<text fill=\"#000000\" font-family=\"Times,serif\" font-size=\"14.00\" text-anchor=\"middle\" x=\"3936.1372\" y=\"-1193.3\">input:</text>\n",
       "<polyline fill=\"none\" points=\"3908.6372,-1185.5 3963.6372,-1185.5 \" stroke=\"#000000\"/>\n",
       "<text fill=\"#000000\" font-family=\"Times,serif\" font-size=\"14.00\" text-anchor=\"middle\" x=\"3936.1372\" y=\"-1170.3\">output:</text>\n",
       "<polyline fill=\"none\" points=\"3963.6372,-1162.5 3963.6372,-1208.5 \" stroke=\"#000000\"/>\n",
       "<text fill=\"#000000\" font-family=\"Times,serif\" font-size=\"14.00\" text-anchor=\"middle\" x=\"4333.6372\" y=\"-1193.3\">(None, 60, 512)</text>\n",
       "<polyline fill=\"none\" points=\"3963.6372,-1185.5 4703.6372,-1185.5 \" stroke=\"#000000\"/>\n",
       "<text fill=\"#000000\" font-family=\"Times,serif\" font-size=\"14.00\" text-anchor=\"middle\" x=\"4333.6372\" y=\"-1170.3\">[(None, 60, 512), (None, 60, 64), (None, 60, 64), (None, 60, 512), (None, 60, 60), (None, 60, 60), (None, 60, 60), (None, 60, 512)]</text>\n",
       "</g>\n",
       "<!-- 140378884623056&#45;&gt;140378883433040 -->\n",
       "<g class=\"edge\" id=\"edge145\">\n",
       "<title>140378884623056-&gt;140378883433040</title>\n",
       "<path d=\"M4963.8675,-1249.3017C4830.073,-1237.4248 4657.2248,-1222.081 4514.5659,-1209.4172\" fill=\"none\" stroke=\"#000000\"/>\n",
       "<polygon fill=\"#000000\" points=\"4514.6179,-1205.9081 4504.3476,-1208.5101 4513.9989,-1212.8807 4514.6179,-1205.9081\" stroke=\"#000000\"/>\n",
       "</g>\n",
       "<!-- 140378881206416 -->\n",
       "<g class=\"node\" id=\"node106\">\n",
       "<title>140378881206416</title>\n",
       "<polygon fill=\"none\" points=\"4721.6372,-1162.5 4721.6372,-1208.5 5638.6372,-1208.5 5638.6372,-1162.5 4721.6372,-1162.5\" stroke=\"#000000\"/>\n",
       "<text fill=\"#000000\" font-family=\"Times,serif\" font-size=\"14.00\" text-anchor=\"middle\" x=\"4782.6372\" y=\"-1181.8\">sa22: SelfAttention</text>\n",
       "<polyline fill=\"none\" points=\"4843.6372,-1162.5 4843.6372,-1208.5 \" stroke=\"#000000\"/>\n",
       "<text fill=\"#000000\" font-family=\"Times,serif\" font-size=\"14.00\" text-anchor=\"middle\" x=\"4871.1372\" y=\"-1193.3\">input:</text>\n",
       "<polyline fill=\"none\" points=\"4843.6372,-1185.5 4898.6372,-1185.5 \" stroke=\"#000000\"/>\n",
       "<text fill=\"#000000\" font-family=\"Times,serif\" font-size=\"14.00\" text-anchor=\"middle\" x=\"4871.1372\" y=\"-1170.3\">output:</text>\n",
       "<polyline fill=\"none\" points=\"4898.6372,-1162.5 4898.6372,-1208.5 \" stroke=\"#000000\"/>\n",
       "<text fill=\"#000000\" font-family=\"Times,serif\" font-size=\"14.00\" text-anchor=\"middle\" x=\"5268.6372\" y=\"-1193.3\">(None, 60, 512)</text>\n",
       "<polyline fill=\"none\" points=\"4898.6372,-1185.5 5638.6372,-1185.5 \" stroke=\"#000000\"/>\n",
       "<text fill=\"#000000\" font-family=\"Times,serif\" font-size=\"14.00\" text-anchor=\"middle\" x=\"5268.6372\" y=\"-1170.3\">[(None, 60, 512), (None, 60, 64), (None, 60, 64), (None, 60, 512), (None, 60, 60), (None, 60, 60), (None, 60, 60), (None, 60, 512)]</text>\n",
       "</g>\n",
       "<!-- 140378884623056&#45;&gt;140378881206416 -->\n",
       "<g class=\"edge\" id=\"edge146\">\n",
       "<title>140378884623056-&gt;140378881206416</title>\n",
       "<path d=\"M5180.1372,-1245.3799C5180.1372,-1237.1745 5180.1372,-1227.7679 5180.1372,-1218.8786\" fill=\"none\" stroke=\"#000000\"/>\n",
       "<polygon fill=\"#000000\" points=\"5183.6373,-1218.784 5180.1372,-1208.784 5176.6373,-1218.784 5183.6373,-1218.784\" stroke=\"#000000\"/>\n",
       "</g>\n",
       "<!-- 140378879038928 -->\n",
       "<g class=\"node\" id=\"node107\">\n",
       "<title>140378879038928</title>\n",
       "<polygon fill=\"none\" points=\"5656.6372,-1162.5 5656.6372,-1208.5 6573.6372,-1208.5 6573.6372,-1162.5 5656.6372,-1162.5\" stroke=\"#000000\"/>\n",
       "<text fill=\"#000000\" font-family=\"Times,serif\" font-size=\"14.00\" text-anchor=\"middle\" x=\"5717.6372\" y=\"-1181.8\">sa23: SelfAttention</text>\n",
       "<polyline fill=\"none\" points=\"5778.6372,-1162.5 5778.6372,-1208.5 \" stroke=\"#000000\"/>\n",
       "<text fill=\"#000000\" font-family=\"Times,serif\" font-size=\"14.00\" text-anchor=\"middle\" x=\"5806.1372\" y=\"-1193.3\">input:</text>\n",
       "<polyline fill=\"none\" points=\"5778.6372,-1185.5 5833.6372,-1185.5 \" stroke=\"#000000\"/>\n",
       "<text fill=\"#000000\" font-family=\"Times,serif\" font-size=\"14.00\" text-anchor=\"middle\" x=\"5806.1372\" y=\"-1170.3\">output:</text>\n",
       "<polyline fill=\"none\" points=\"5833.6372,-1162.5 5833.6372,-1208.5 \" stroke=\"#000000\"/>\n",
       "<text fill=\"#000000\" font-family=\"Times,serif\" font-size=\"14.00\" text-anchor=\"middle\" x=\"6203.6372\" y=\"-1193.3\">(None, 60, 512)</text>\n",
       "<polyline fill=\"none\" points=\"5833.6372,-1185.5 6573.6372,-1185.5 \" stroke=\"#000000\"/>\n",
       "<text fill=\"#000000\" font-family=\"Times,serif\" font-size=\"14.00\" text-anchor=\"middle\" x=\"6203.6372\" y=\"-1170.3\">[(None, 60, 512), (None, 60, 64), (None, 60, 64), (None, 60, 512), (None, 60, 60), (None, 60, 60), (None, 60, 60), (None, 60, 512)]</text>\n",
       "</g>\n",
       "<!-- 140378884623056&#45;&gt;140378879038928 -->\n",
       "<g class=\"edge\" id=\"edge147\">\n",
       "<title>140378884623056-&gt;140378879038928</title>\n",
       "<path d=\"M5396.4068,-1249.3017C5530.2014,-1237.4248 5703.0496,-1222.081 5845.7085,-1209.4172\" fill=\"none\" stroke=\"#000000\"/>\n",
       "<polygon fill=\"#000000\" points=\"5846.2755,-1212.8807 5855.9268,-1208.5101 5845.6565,-1205.9081 5846.2755,-1212.8807\" stroke=\"#000000\"/>\n",
       "</g>\n",
       "<!-- 140378877303120 -->\n",
       "<g class=\"node\" id=\"node108\">\n",
       "<title>140378877303120</title>\n",
       "<polygon fill=\"none\" points=\"6591.6372,-1162.5 6591.6372,-1208.5 7508.6372,-1208.5 7508.6372,-1162.5 6591.6372,-1162.5\" stroke=\"#000000\"/>\n",
       "<text fill=\"#000000\" font-family=\"Times,serif\" font-size=\"14.00\" text-anchor=\"middle\" x=\"6652.6372\" y=\"-1181.8\">sa24: SelfAttention</text>\n",
       "<polyline fill=\"none\" points=\"6713.6372,-1162.5 6713.6372,-1208.5 \" stroke=\"#000000\"/>\n",
       "<text fill=\"#000000\" font-family=\"Times,serif\" font-size=\"14.00\" text-anchor=\"middle\" x=\"6741.1372\" y=\"-1193.3\">input:</text>\n",
       "<polyline fill=\"none\" points=\"6713.6372,-1185.5 6768.6372,-1185.5 \" stroke=\"#000000\"/>\n",
       "<text fill=\"#000000\" font-family=\"Times,serif\" font-size=\"14.00\" text-anchor=\"middle\" x=\"6741.1372\" y=\"-1170.3\">output:</text>\n",
       "<polyline fill=\"none\" points=\"6768.6372,-1162.5 6768.6372,-1208.5 \" stroke=\"#000000\"/>\n",
       "<text fill=\"#000000\" font-family=\"Times,serif\" font-size=\"14.00\" text-anchor=\"middle\" x=\"7138.6372\" y=\"-1193.3\">(None, 60, 512)</text>\n",
       "<polyline fill=\"none\" points=\"6768.6372,-1185.5 7508.6372,-1185.5 \" stroke=\"#000000\"/>\n",
       "<text fill=\"#000000\" font-family=\"Times,serif\" font-size=\"14.00\" text-anchor=\"middle\" x=\"7138.6372\" y=\"-1170.3\">[(None, 60, 512), (None, 60, 64), (None, 60, 64), (None, 60, 512), (None, 60, 60), (None, 60, 60), (None, 60, 60), (None, 60, 512)]</text>\n",
       "</g>\n",
       "<!-- 140378884623056&#45;&gt;140378877303120 -->\n",
       "<g class=\"edge\" id=\"edge148\">\n",
       "<title>140378884623056-&gt;140378877303120</title>\n",
       "<path d=\"M5396.1752,-1259.8677C5671.7104,-1248.7363 6162.8893,-1228.4846 6583.1372,-1209 6583.3589,-1208.9897 6583.5807,-1208.9794 6583.8026,-1208.9691\" fill=\"none\" stroke=\"#000000\"/>\n",
       "<polygon fill=\"#000000\" points=\"6583.9978,-1212.4639 6593.8243,-1208.5029 6583.6724,-1205.4715 6583.9978,-1212.4639\" stroke=\"#000000\"/>\n",
       "</g>\n",
       "<!-- 140378875175696 -->\n",
       "<g class=\"node\" id=\"node109\">\n",
       "<title>140378875175696</title>\n",
       "<polygon fill=\"none\" points=\"7526.6372,-1162.5 7526.6372,-1208.5 8443.6372,-1208.5 8443.6372,-1162.5 7526.6372,-1162.5\" stroke=\"#000000\"/>\n",
       "<text fill=\"#000000\" font-family=\"Times,serif\" font-size=\"14.00\" text-anchor=\"middle\" x=\"7587.6372\" y=\"-1181.8\">sa25: SelfAttention</text>\n",
       "<polyline fill=\"none\" points=\"7648.6372,-1162.5 7648.6372,-1208.5 \" stroke=\"#000000\"/>\n",
       "<text fill=\"#000000\" font-family=\"Times,serif\" font-size=\"14.00\" text-anchor=\"middle\" x=\"7676.1372\" y=\"-1193.3\">input:</text>\n",
       "<polyline fill=\"none\" points=\"7648.6372,-1185.5 7703.6372,-1185.5 \" stroke=\"#000000\"/>\n",
       "<text fill=\"#000000\" font-family=\"Times,serif\" font-size=\"14.00\" text-anchor=\"middle\" x=\"7676.1372\" y=\"-1170.3\">output:</text>\n",
       "<polyline fill=\"none\" points=\"7703.6372,-1162.5 7703.6372,-1208.5 \" stroke=\"#000000\"/>\n",
       "<text fill=\"#000000\" font-family=\"Times,serif\" font-size=\"14.00\" text-anchor=\"middle\" x=\"8073.6372\" y=\"-1193.3\">(None, 60, 512)</text>\n",
       "<polyline fill=\"none\" points=\"7703.6372,-1185.5 8443.6372,-1185.5 \" stroke=\"#000000\"/>\n",
       "<text fill=\"#000000\" font-family=\"Times,serif\" font-size=\"14.00\" text-anchor=\"middle\" x=\"8073.6372\" y=\"-1170.3\">[(None, 60, 512), (None, 60, 64), (None, 60, 64), (None, 60, 512), (None, 60, 60), (None, 60, 60), (None, 60, 60), (None, 60, 512)]</text>\n",
       "</g>\n",
       "<!-- 140378884623056&#45;&gt;140378875175696 -->\n",
       "<g class=\"edge\" id=\"edge149\">\n",
       "<title>140378884623056-&gt;140378875175696</title>\n",
       "<path d=\"M5396.1573,-1264.7945C5808.6768,-1257.3206 6737.0815,-1238.5858 7518.1372,-1209 7519.0688,-1208.9647 7520.0015,-1208.9293 7520.9351,-1208.8937\" fill=\"none\" stroke=\"#000000\"/>\n",
       "<polygon fill=\"#000000\" points=\"7521.1185,-1212.3893 7530.9762,-1208.5064 7520.8487,-1205.3945 7521.1185,-1212.3893\" stroke=\"#000000\"/>\n",
       "</g>\n",
       "<!-- 140378873020944 -->\n",
       "<g class=\"node\" id=\"node110\">\n",
       "<title>140378873020944</title>\n",
       "<polygon fill=\"none\" points=\"981.6372,-1162.5 981.6372,-1208.5 1898.6372,-1208.5 1898.6372,-1162.5 981.6372,-1162.5\" stroke=\"#000000\"/>\n",
       "<text fill=\"#000000\" font-family=\"Times,serif\" font-size=\"14.00\" text-anchor=\"middle\" x=\"1042.6372\" y=\"-1181.8\">sa26: SelfAttention</text>\n",
       "<polyline fill=\"none\" points=\"1103.6372,-1162.5 1103.6372,-1208.5 \" stroke=\"#000000\"/>\n",
       "<text fill=\"#000000\" font-family=\"Times,serif\" font-size=\"14.00\" text-anchor=\"middle\" x=\"1131.1372\" y=\"-1193.3\">input:</text>\n",
       "<polyline fill=\"none\" points=\"1103.6372,-1185.5 1158.6372,-1185.5 \" stroke=\"#000000\"/>\n",
       "<text fill=\"#000000\" font-family=\"Times,serif\" font-size=\"14.00\" text-anchor=\"middle\" x=\"1131.1372\" y=\"-1170.3\">output:</text>\n",
       "<polyline fill=\"none\" points=\"1158.6372,-1162.5 1158.6372,-1208.5 \" stroke=\"#000000\"/>\n",
       "<text fill=\"#000000\" font-family=\"Times,serif\" font-size=\"14.00\" text-anchor=\"middle\" x=\"1528.6372\" y=\"-1193.3\">(None, 60, 512)</text>\n",
       "<polyline fill=\"none\" points=\"1158.6372,-1185.5 1898.6372,-1185.5 \" stroke=\"#000000\"/>\n",
       "<text fill=\"#000000\" font-family=\"Times,serif\" font-size=\"14.00\" text-anchor=\"middle\" x=\"1528.6372\" y=\"-1170.3\">[(None, 60, 512), (None, 60, 64), (None, 60, 64), (None, 60, 512), (None, 60, 60), (None, 60, 60), (None, 60, 60), (None, 60, 512)]</text>\n",
       "</g>\n",
       "<!-- 140378884623056&#45;&gt;140378873020944 -->\n",
       "<g class=\"edge\" id=\"edge150\">\n",
       "<title>140378884623056-&gt;140378873020944</title>\n",
       "<path d=\"M4963.6893,-1266.9662C4439.2154,-1262.7259 3058.7373,-1248.4323 1907.1372,-1209 1905.8251,-1208.9551 1904.511,-1208.9098 1903.1949,-1208.8641\" fill=\"none\" stroke=\"#000000\"/>\n",
       "<polygon fill=\"#000000\" points=\"1903.1846,-1205.3617 1893.0674,-1208.507 1902.9379,-1212.3573 1903.1846,-1205.3617\" stroke=\"#000000\"/>\n",
       "</g>\n",
       "<!-- 140378871326992 -->\n",
       "<g class=\"node\" id=\"node111\">\n",
       "<title>140378871326992</title>\n",
       "<polygon fill=\"none\" points=\"1916.6372,-1162.5 1916.6372,-1208.5 2833.6372,-1208.5 2833.6372,-1162.5 1916.6372,-1162.5\" stroke=\"#000000\"/>\n",
       "<text fill=\"#000000\" font-family=\"Times,serif\" font-size=\"14.00\" text-anchor=\"middle\" x=\"1977.6372\" y=\"-1181.8\">sa27: SelfAttention</text>\n",
       "<polyline fill=\"none\" points=\"2038.6372,-1162.5 2038.6372,-1208.5 \" stroke=\"#000000\"/>\n",
       "<text fill=\"#000000\" font-family=\"Times,serif\" font-size=\"14.00\" text-anchor=\"middle\" x=\"2066.1372\" y=\"-1193.3\">input:</text>\n",
       "<polyline fill=\"none\" points=\"2038.6372,-1185.5 2093.6372,-1185.5 \" stroke=\"#000000\"/>\n",
       "<text fill=\"#000000\" font-family=\"Times,serif\" font-size=\"14.00\" text-anchor=\"middle\" x=\"2066.1372\" y=\"-1170.3\">output:</text>\n",
       "<polyline fill=\"none\" points=\"2093.6372,-1162.5 2093.6372,-1208.5 \" stroke=\"#000000\"/>\n",
       "<text fill=\"#000000\" font-family=\"Times,serif\" font-size=\"14.00\" text-anchor=\"middle\" x=\"2463.6372\" y=\"-1193.3\">(None, 60, 512)</text>\n",
       "<polyline fill=\"none\" points=\"2093.6372,-1185.5 2833.6372,-1185.5 \" stroke=\"#000000\"/>\n",
       "<text fill=\"#000000\" font-family=\"Times,serif\" font-size=\"14.00\" text-anchor=\"middle\" x=\"2463.6372\" y=\"-1170.3\">[(None, 60, 512), (None, 60, 64), (None, 60, 64), (None, 60, 512), (None, 60, 60), (None, 60, 60), (None, 60, 60), (None, 60, 512)]</text>\n",
       "</g>\n",
       "<!-- 140378884623056&#45;&gt;140378871326992 -->\n",
       "<g class=\"edge\" id=\"edge151\">\n",
       "<title>140378884623056-&gt;140378871326992</title>\n",
       "<path d=\"M4964.1171,-1264.7945C4551.5976,-1257.3206 3623.1929,-1238.5858 2842.1372,-1209 2841.2056,-1208.9647 2840.2729,-1208.9293 2839.3392,-1208.8937\" fill=\"none\" stroke=\"#000000\"/>\n",
       "<polygon fill=\"#000000\" points=\"2839.4256,-1205.3945 2829.2982,-1208.5064 2839.1558,-1212.3893 2839.4256,-1205.3945\" stroke=\"#000000\"/>\n",
       "</g>\n",
       "<!-- 140378866902800 -->\n",
       "<g class=\"node\" id=\"node114\">\n",
       "<title>140378866902800</title>\n",
       "<polygon fill=\"none\" points=\"5597.1372,-913.5 5597.1372,-959.5 6065.1372,-959.5 6065.1372,-913.5 5597.1372,-913.5\" stroke=\"#000000\"/>\n",
       "<text fill=\"#000000\" font-family=\"Times,serif\" font-size=\"14.00\" text-anchor=\"middle\" x=\"5700.1372\" y=\"-932.8\">res_comb_sa_2: ResidualCombine</text>\n",
       "<polyline fill=\"none\" points=\"5803.1372,-913.5 5803.1372,-959.5 \" stroke=\"#000000\"/>\n",
       "<text fill=\"#000000\" font-family=\"Times,serif\" font-size=\"14.00\" text-anchor=\"middle\" x=\"5830.6372\" y=\"-944.3\">input:</text>\n",
       "<polyline fill=\"none\" points=\"5803.1372,-936.5 5858.1372,-936.5 \" stroke=\"#000000\"/>\n",
       "<text fill=\"#000000\" font-family=\"Times,serif\" font-size=\"14.00\" text-anchor=\"middle\" x=\"5830.6372\" y=\"-921.3\">output:</text>\n",
       "<polyline fill=\"none\" points=\"5858.1372,-913.5 5858.1372,-959.5 \" stroke=\"#000000\"/>\n",
       "<text fill=\"#000000\" font-family=\"Times,serif\" font-size=\"14.00\" text-anchor=\"middle\" x=\"5961.6372\" y=\"-944.3\">[(None, 60, 512), (None, 60, 512)]</text>\n",
       "<polyline fill=\"none\" points=\"5858.1372,-936.5 6065.1372,-936.5 \" stroke=\"#000000\"/>\n",
       "<text fill=\"#000000\" font-family=\"Times,serif\" font-size=\"14.00\" text-anchor=\"middle\" x=\"5961.6372\" y=\"-921.3\">[(None, 60, 512), (1, 1), (1, 1)]</text>\n",
       "</g>\n",
       "<!-- 140378884623056&#45;&gt;140378866902800 -->\n",
       "<g class=\"edge\" id=\"edge161\">\n",
       "<title>140378884623056-&gt;140378866902800</title>\n",
       "<path d=\"M5396.377,-1266.5687C6121.9948,-1259.8375 8426.3017,-1236.3277 8453.1372,-1209 8467.773,-1194.0957 8467.2609,-1177.3905 8453.1372,-1162 8294.1939,-988.8004 6696.194,-948.34 6075.6707,-939.1323\" fill=\"none\" stroke=\"#000000\"/>\n",
       "<polygon fill=\"#000000\" points=\"6075.3028,-935.6267 6065.2525,-938.9793 6075.2,-942.6259 6075.3028,-935.6267\" stroke=\"#000000\"/>\n",
       "</g>\n",
       "<!-- 140378869162064 -->\n",
       "<g class=\"node\" id=\"node112\">\n",
       "<title>140378869162064</title>\n",
       "<polygon fill=\"none\" points=\"4686.6372,-1079.5 4686.6372,-1125.5 5673.6372,-1125.5 5673.6372,-1079.5 4686.6372,-1079.5\" stroke=\"#000000\"/>\n",
       "<text fill=\"#000000\" font-family=\"Times,serif\" font-size=\"14.00\" text-anchor=\"middle\" x=\"4765.6372\" y=\"-1098.8\">concat_sa_2: Concatenate</text>\n",
       "<polyline fill=\"none\" points=\"4844.6372,-1079.5 4844.6372,-1125.5 \" stroke=\"#000000\"/>\n",
       "<text fill=\"#000000\" font-family=\"Times,serif\" font-size=\"14.00\" text-anchor=\"middle\" x=\"4872.1372\" y=\"-1110.3\">input:</text>\n",
       "<polyline fill=\"none\" points=\"4844.6372,-1102.5 4899.6372,-1102.5 \" stroke=\"#000000\"/>\n",
       "<text fill=\"#000000\" font-family=\"Times,serif\" font-size=\"14.00\" text-anchor=\"middle\" x=\"4872.1372\" y=\"-1087.3\">output:</text>\n",
       "<polyline fill=\"none\" points=\"4899.6372,-1079.5 4899.6372,-1125.5 \" stroke=\"#000000\"/>\n",
       "<text fill=\"#000000\" font-family=\"Times,serif\" font-size=\"14.00\" text-anchor=\"middle\" x=\"5286.6372\" y=\"-1110.3\">[(None, 60, 512), (None, 60, 512), (None, 60, 512), (None, 60, 512), (None, 60, 512), (None, 60, 512), (None, 60, 512), (None, 60, 512)]</text>\n",
       "<polyline fill=\"none\" points=\"4899.6372,-1102.5 5673.6372,-1102.5 \" stroke=\"#000000\"/>\n",
       "<text fill=\"#000000\" font-family=\"Times,serif\" font-size=\"14.00\" text-anchor=\"middle\" x=\"5286.6372\" y=\"-1087.3\">(None, 60, 4096)</text>\n",
       "</g>\n",
       "<!-- 140378883432656&#45;&gt;140378869162064 -->\n",
       "<g class=\"edge\" id=\"edge152\">\n",
       "<title>140378883432656-&gt;140378869162064</title>\n",
       "<path d=\"M3766.45,-1162.4971C3770.0265,-1162.3302 3773.5894,-1162.1645 3777.1372,-1162 4075.2852,-1148.1765 4409.135,-1133.9669 4676.3532,-1122.9019\" fill=\"none\" stroke=\"#000000\"/>\n",
       "<polygon fill=\"#000000\" points=\"4676.7813,-1126.3872 4686.628,-1122.4766 4676.4918,-1119.3932 4676.7813,-1126.3872\" stroke=\"#000000\"/>\n",
       "</g>\n",
       "<!-- 140378883433040&#45;&gt;140378869162064 -->\n",
       "<g class=\"edge\" id=\"edge153\">\n",
       "<title>140378883433040-&gt;140378869162064</title>\n",
       "<path d=\"M4504.3451,-1162.4901C4630.7637,-1151.2679 4782.7253,-1137.7783 4910.5035,-1126.4354\" fill=\"none\" stroke=\"#000000\"/>\n",
       "<polygon fill=\"#000000\" points=\"4911.1791,-1129.8893 4920.8305,-1125.5187 4910.5601,-1122.9167 4911.1791,-1129.8893\" stroke=\"#000000\"/>\n",
       "</g>\n",
       "<!-- 140378881206416&#45;&gt;140378869162064 -->\n",
       "<g class=\"edge\" id=\"edge154\">\n",
       "<title>140378881206416-&gt;140378869162064</title>\n",
       "<path d=\"M5180.1372,-1162.3799C5180.1372,-1154.1745 5180.1372,-1144.7679 5180.1372,-1135.8786\" fill=\"none\" stroke=\"#000000\"/>\n",
       "<polygon fill=\"#000000\" points=\"5183.6373,-1135.784 5180.1372,-1125.784 5176.6373,-1135.784 5183.6373,-1135.784\" stroke=\"#000000\"/>\n",
       "</g>\n",
       "<!-- 140378879038928&#45;&gt;140378869162064 -->\n",
       "<g class=\"edge\" id=\"edge155\">\n",
       "<title>140378879038928-&gt;140378869162064</title>\n",
       "<path d=\"M5855.9292,-1162.4901C5729.5106,-1151.2679 5577.5491,-1137.7783 5449.7709,-1126.4354\" fill=\"none\" stroke=\"#000000\"/>\n",
       "<polygon fill=\"#000000\" points=\"5449.7143,-1122.9167 5439.4439,-1125.5187 5449.0952,-1129.8893 5449.7143,-1122.9167\" stroke=\"#000000\"/>\n",
       "</g>\n",
       "<!-- 140378877303120&#45;&gt;140378869162064 -->\n",
       "<g class=\"edge\" id=\"edge156\">\n",
       "<title>140378877303120-&gt;140378869162064</title>\n",
       "<path d=\"M6593.8243,-1162.4971C6590.2479,-1162.3302 6586.685,-1162.1645 6583.1372,-1162 6284.9891,-1148.1765 5951.1394,-1133.9669 5683.9212,-1122.9019\" fill=\"none\" stroke=\"#000000\"/>\n",
       "<polygon fill=\"#000000\" points=\"5683.7826,-1119.3932 5673.6464,-1122.4766 5683.493,-1126.3872 5683.7826,-1119.3932\" stroke=\"#000000\"/>\n",
       "</g>\n",
       "<!-- 140378875175696&#45;&gt;140378869162064 -->\n",
       "<g class=\"edge\" id=\"edge157\">\n",
       "<title>140378875175696-&gt;140378869162064</title>\n",
       "<path d=\"M7530.9762,-1162.4936C7526.6766,-1162.3259 7522.396,-1162.1613 7518.1372,-1162 6886.0082,-1138.0554 6157.3642,-1121.2183 5683.7965,-1111.7061\" fill=\"none\" stroke=\"#000000\"/>\n",
       "<polygon fill=\"#000000\" points=\"5683.7733,-1108.205 5673.7051,-1111.5037 5683.6329,-1115.2036 5683.7733,-1108.205\" stroke=\"#000000\"/>\n",
       "</g>\n",
       "<!-- 140378873020944&#45;&gt;140378869162064 -->\n",
       "<g class=\"edge\" id=\"edge158\">\n",
       "<title>140378873020944-&gt;140378869162064</title>\n",
       "<path d=\"M1893.0674,-1162.493C1897.781,-1162.3242 1902.4721,-1162.1597 1907.1372,-1162 2887.3071,-1128.4377 4033.2843,-1113.0867 4676.1372,-1106.6456\" fill=\"none\" stroke=\"#000000\"/>\n",
       "<polygon fill=\"#000000\" points=\"4676.543,-1110.1418 4686.5075,-1106.542 4676.473,-1103.1422 4676.543,-1110.1418\" stroke=\"#000000\"/>\n",
       "</g>\n",
       "<!-- 140378871326992&#45;&gt;140378869162064 -->\n",
       "<g class=\"edge\" id=\"edge159\">\n",
       "<title>140378871326992-&gt;140378869162064</title>\n",
       "<path d=\"M2829.2982,-1162.4936C2833.5978,-1162.3259 2837.8783,-1162.1613 2842.1372,-1162 3474.2662,-1138.0554 4202.9102,-1121.2183 4676.4779,-1111.7061\" fill=\"none\" stroke=\"#000000\"/>\n",
       "<polygon fill=\"#000000\" points=\"4676.6415,-1115.2036 4686.5693,-1111.5037 4676.5011,-1108.205 4676.6415,-1115.2036\" stroke=\"#000000\"/>\n",
       "</g>\n",
       "<!-- 140378866797328 -->\n",
       "<g class=\"node\" id=\"node113\">\n",
       "<title>140378866797328</title>\n",
       "<polygon fill=\"none\" points=\"5265.1372,-996.5 5265.1372,-1042.5 5633.1372,-1042.5 5633.1372,-996.5 5265.1372,-996.5\" stroke=\"#000000\"/>\n",
       "<text fill=\"#000000\" font-family=\"Times,serif\" font-size=\"14.00\" text-anchor=\"middle\" x=\"5366.6372\" y=\"-1015.8\">cond_sa_2: CondenseAttention1D</text>\n",
       "<polyline fill=\"none\" points=\"5468.1372,-996.5 5468.1372,-1042.5 \" stroke=\"#000000\"/>\n",
       "<text fill=\"#000000\" font-family=\"Times,serif\" font-size=\"14.00\" text-anchor=\"middle\" x=\"5495.6372\" y=\"-1027.3\">input:</text>\n",
       "<polyline fill=\"none\" points=\"5468.1372,-1019.5 5523.1372,-1019.5 \" stroke=\"#000000\"/>\n",
       "<text fill=\"#000000\" font-family=\"Times,serif\" font-size=\"14.00\" text-anchor=\"middle\" x=\"5495.6372\" y=\"-1004.3\">output:</text>\n",
       "<polyline fill=\"none\" points=\"5523.1372,-996.5 5523.1372,-1042.5 \" stroke=\"#000000\"/>\n",
       "<text fill=\"#000000\" font-family=\"Times,serif\" font-size=\"14.00\" text-anchor=\"middle\" x=\"5578.1372\" y=\"-1027.3\">(None, 60, 4096)</text>\n",
       "<polyline fill=\"none\" points=\"5523.1372,-1019.5 5633.1372,-1019.5 \" stroke=\"#000000\"/>\n",
       "<text fill=\"#000000\" font-family=\"Times,serif\" font-size=\"14.00\" text-anchor=\"middle\" x=\"5578.1372\" y=\"-1004.3\">(None, 60, 512)</text>\n",
       "</g>\n",
       "<!-- 140378869162064&#45;&gt;140378866797328 -->\n",
       "<g class=\"edge\" id=\"edge160\">\n",
       "<title>140378869162064-&gt;140378866797328</title>\n",
       "<path d=\"M5254.7115,-1079.4901C5288.8213,-1068.9655 5329.3947,-1056.4466 5364.6308,-1045.5745\" fill=\"none\" stroke=\"#000000\"/>\n",
       "<polygon fill=\"#000000\" points=\"5365.8943,-1048.8475 5374.4178,-1042.5547 5363.8304,-1042.1587 5365.8943,-1048.8475\" stroke=\"#000000\"/>\n",
       "</g>\n",
       "<!-- 140378866797328&#45;&gt;140378866902800 -->\n",
       "<g class=\"edge\" id=\"edge162\">\n",
       "<title>140378866797328-&gt;140378866902800</title>\n",
       "<path d=\"M5555.0382,-996.4901C5604.7188,-985.6956 5664.0548,-972.8033 5714.9657,-961.7415\" fill=\"none\" stroke=\"#000000\"/>\n",
       "<polygon fill=\"#000000\" points=\"5716.0013,-965.0982 5725.0302,-959.5547 5714.515,-958.2578 5716.0013,-965.0982\" stroke=\"#000000\"/>\n",
       "</g>\n",
       "<!-- 140378866904080 -->\n",
       "<g class=\"node\" id=\"node115\">\n",
       "<title>140378866904080</title>\n",
       "<polygon fill=\"none\" points=\"5615.1372,-830.5 5615.1372,-876.5 6047.1372,-876.5 6047.1372,-830.5 5615.1372,-830.5\" stroke=\"#000000\"/>\n",
       "<text fill=\"#000000\" font-family=\"Times,serif\" font-size=\"14.00\" text-anchor=\"middle\" x=\"5751.6372\" y=\"-849.8\">batch_normalization_124: BatchNormalization</text>\n",
       "<polyline fill=\"none\" points=\"5888.1372,-830.5 5888.1372,-876.5 \" stroke=\"#000000\"/>\n",
       "<text fill=\"#000000\" font-family=\"Times,serif\" font-size=\"14.00\" text-anchor=\"middle\" x=\"5915.6372\" y=\"-861.3\">input:</text>\n",
       "<polyline fill=\"none\" points=\"5888.1372,-853.5 5943.1372,-853.5 \" stroke=\"#000000\"/>\n",
       "<text fill=\"#000000\" font-family=\"Times,serif\" font-size=\"14.00\" text-anchor=\"middle\" x=\"5915.6372\" y=\"-838.3\">output:</text>\n",
       "<polyline fill=\"none\" points=\"5943.1372,-830.5 5943.1372,-876.5 \" stroke=\"#000000\"/>\n",
       "<text fill=\"#000000\" font-family=\"Times,serif\" font-size=\"14.00\" text-anchor=\"middle\" x=\"5995.1372\" y=\"-861.3\">(None, 60, 512)</text>\n",
       "<polyline fill=\"none\" points=\"5943.1372,-853.5 6047.1372,-853.5 \" stroke=\"#000000\"/>\n",
       "<text fill=\"#000000\" font-family=\"Times,serif\" font-size=\"14.00\" text-anchor=\"middle\" x=\"5995.1372\" y=\"-838.3\">(None, 60, 512)</text>\n",
       "</g>\n",
       "<!-- 140378866902800&#45;&gt;140378866904080 -->\n",
       "<g class=\"edge\" id=\"edge163\">\n",
       "<title>140378866902800-&gt;140378866904080</title>\n",
       "<path d=\"M5831.1372,-913.3799C5831.1372,-905.1745 5831.1372,-895.7679 5831.1372,-886.8786\" fill=\"none\" stroke=\"#000000\"/>\n",
       "<polygon fill=\"#000000\" points=\"5834.6373,-886.784 5831.1372,-876.784 5827.6373,-886.784 5834.6373,-886.784\" stroke=\"#000000\"/>\n",
       "</g>\n",
       "<!-- 140378866904080&#45;&gt;140378865261456 -->\n",
       "<g class=\"edge\" id=\"edge164\">\n",
       "<title>140378866904080-&gt;140378865261456</title>\n",
       "<path d=\"M6047.2725,-849C6407.079,-841.0385 7151.5927,-822.5653 7781.1372,-794 7781.3595,-793.9899 7781.5819,-793.9798 7781.8044,-793.9697\" fill=\"none\" stroke=\"#000000\"/>\n",
       "<polygon fill=\"#000000\" points=\"7782.0335,-797.463 7791.8617,-793.5062 7781.7111,-790.4704 7782.0335,-797.463\" stroke=\"#000000\"/>\n",
       "</g>\n",
       "<!-- 140378866904080&#45;&gt;140378864670096 -->\n",
       "<g class=\"edge\" id=\"edge166\">\n",
       "<title>140378866904080-&gt;140378864670096</title>\n",
       "<path d=\"M6047.5443,-851.6047C6509.4261,-846.9387 7625.9296,-832.3533 8561.1372,-794 8561.6243,-793.98 8562.1118,-793.96 8562.5996,-793.9398\" fill=\"none\" stroke=\"#000000\"/>\n",
       "<polygon fill=\"#000000\" points=\"8563.0464,-797.4242 8572.8904,-793.5068 8562.752,-790.4304 8563.0464,-797.4242\" stroke=\"#000000\"/>\n",
       "</g>\n",
       "<!-- 140378866904080&#45;&gt;140378861398352 -->\n",
       "<g class=\"edge\" id=\"edge168\">\n",
       "<title>140378866904080-&gt;140378861398352</title>\n",
       "<path d=\"M5614.8395,-849.1691C5249.5811,-841.3753 4487.3184,-823.0414 3843.1372,-794 3842.9148,-793.99 3842.6924,-793.9799 3842.4699,-793.9699\" fill=\"none\" stroke=\"#000000\"/>\n",
       "<polygon fill=\"#000000\" points=\"3842.5623,-790.4705 3832.4125,-793.5091 3842.2419,-797.4632 3842.5623,-790.4705\" stroke=\"#000000\"/>\n",
       "</g>\n",
       "<!-- 140378866904080&#45;&gt;140378859283152 -->\n",
       "<g class=\"edge\" id=\"edge170\">\n",
       "<title>140378866904080-&gt;140378859283152</title>\n",
       "<path d=\"M5615.0668,-843.5729C5375.6464,-832.4079 4977.7923,-813.366 4624.3904,-794.0661\" fill=\"none\" stroke=\"#000000\"/>\n",
       "<polygon fill=\"#000000\" points=\"4624.3873,-790.5608 4614.2111,-793.5094 4624.005,-797.5503 4624.3873,-790.5608\" stroke=\"#000000\"/>\n",
       "</g>\n",
       "<!-- 140378866904080&#45;&gt;140378857024464 -->\n",
       "<g class=\"edge\" id=\"edge172\">\n",
       "<title>140378866904080-&gt;140378857024464</title>\n",
       "<path d=\"M5614.8796,-831.557C5502.5421,-820.1584 5365.0543,-806.208 5249.8705,-794.5206\" fill=\"none\" stroke=\"#000000\"/>\n",
       "<polygon fill=\"#000000\" points=\"5250.1594,-791.032 5239.8572,-793.5046 5249.4527,-797.9963 5250.1594,-791.032\" stroke=\"#000000\"/>\n",
       "</g>\n",
       "<!-- 140378866904080&#45;&gt;140378855424720 -->\n",
       "<g class=\"edge\" id=\"edge174\">\n",
       "<title>140378866904080-&gt;140378855424720</title>\n",
       "<path d=\"M5831.1372,-830.3799C5831.1372,-822.1745 5831.1372,-812.7679 5831.1372,-803.8786\" fill=\"none\" stroke=\"#000000\"/>\n",
       "<polygon fill=\"#000000\" points=\"5834.6373,-803.784 5831.1372,-793.784 5827.6373,-803.784 5834.6373,-803.784\" stroke=\"#000000\"/>\n",
       "</g>\n",
       "<!-- 140378866904080&#45;&gt;140378853174992 -->\n",
       "<g class=\"edge\" id=\"edge176\">\n",
       "<title>140378866904080-&gt;140378853174992</title>\n",
       "<path d=\"M6047.3748,-830.4901C6152.3075,-819.3242 6278.3354,-805.9135 6384.5968,-794.6062\" fill=\"none\" stroke=\"#000000\"/>\n",
       "<polygon fill=\"#000000\" points=\"6385.2436,-798.0572 6394.8171,-793.5187 6384.5029,-791.0965 6385.2436,-798.0572\" stroke=\"#000000\"/>\n",
       "</g>\n",
       "<!-- 140378866904080&#45;&gt;140378851043152 -->\n",
       "<g class=\"edge\" id=\"edge178\">\n",
       "<title>140378866904080-&gt;140378851043152</title>\n",
       "<path d=\"M6047.3473,-843.1123C6279.8906,-831.7994 6660.8212,-812.8621 7000.0392,-794.0588\" fill=\"none\" stroke=\"#000000\"/>\n",
       "<polygon fill=\"#000000\" points=\"7000.2722,-797.5514 7010.0629,-793.5025 6999.8843,-790.5621 7000.2722,-797.5514\" stroke=\"#000000\"/>\n",
       "</g>\n",
       "<!-- 140378848876432 -->\n",
       "<g class=\"node\" id=\"node134\">\n",
       "<title>140378848876432</title>\n",
       "<polygon fill=\"none\" points=\"5292.1372,-415.5 5292.1372,-461.5 5768.1372,-461.5 5768.1372,-415.5 5292.1372,-415.5\" stroke=\"#000000\"/>\n",
       "<text fill=\"#000000\" font-family=\"Times,serif\" font-size=\"14.00\" text-anchor=\"middle\" x=\"5399.1372\" y=\"-434.8\">res_comb_enc_2: ResidualCombine</text>\n",
       "<polyline fill=\"none\" points=\"5506.1372,-415.5 5506.1372,-461.5 \" stroke=\"#000000\"/>\n",
       "<text fill=\"#000000\" font-family=\"Times,serif\" font-size=\"14.00\" text-anchor=\"middle\" x=\"5533.6372\" y=\"-446.3\">input:</text>\n",
       "<polyline fill=\"none\" points=\"5506.1372,-438.5 5561.1372,-438.5 \" stroke=\"#000000\"/>\n",
       "<text fill=\"#000000\" font-family=\"Times,serif\" font-size=\"14.00\" text-anchor=\"middle\" x=\"5533.6372\" y=\"-423.3\">output:</text>\n",
       "<polyline fill=\"none\" points=\"5561.1372,-415.5 5561.1372,-461.5 \" stroke=\"#000000\"/>\n",
       "<text fill=\"#000000\" font-family=\"Times,serif\" font-size=\"14.00\" text-anchor=\"middle\" x=\"5664.6372\" y=\"-446.3\">[(None, 60, 512), (None, 60, 512)]</text>\n",
       "<polyline fill=\"none\" points=\"5561.1372,-438.5 5768.1372,-438.5 \" stroke=\"#000000\"/>\n",
       "<text fill=\"#000000\" font-family=\"Times,serif\" font-size=\"14.00\" text-anchor=\"middle\" x=\"5664.6372\" y=\"-423.3\">[(None, 60, 512), (1, 1), (1, 1)]</text>\n",
       "</g>\n",
       "<!-- 140378866904080&#45;&gt;140378848876432 -->\n",
       "<g class=\"edge\" id=\"edge197\">\n",
       "<title>140378866904080-&gt;140378848876432</title>\n",
       "<path d=\"M5614.984,-831.1896C5532.6007,-820.6846 5454.9899,-807.5086 5441.1372,-794 5406.7142,-760.432 5422.1372,-735.5807 5422.1372,-687.5 5422.1372,-687.5 5422.1372,-687.5 5422.1372,-604.5 5422.1372,-549.9112 5463.6793,-499.1826 5495.2346,-468.5236\" fill=\"none\" stroke=\"#000000\"/>\n",
       "<polygon fill=\"#000000\" points=\"5497.7497,-470.9623 5502.6048,-461.5453 5492.9369,-465.8792 5497.7497,-470.9623\" stroke=\"#000000\"/>\n",
       "</g>\n",
       "<!-- 140378865261328 -->\n",
       "<g class=\"node\" id=\"node124\">\n",
       "<title>140378865261328</title>\n",
       "<polygon fill=\"none\" points=\"7701.1372,-664.5 7701.1372,-710.5 8133.1372,-710.5 8133.1372,-664.5 7701.1372,-664.5\" stroke=\"#000000\"/>\n",
       "<text fill=\"#000000\" font-family=\"Times,serif\" font-size=\"14.00\" text-anchor=\"middle\" x=\"7837.6372\" y=\"-683.8\">batch_normalization_125: BatchNormalization</text>\n",
       "<polyline fill=\"none\" points=\"7974.1372,-664.5 7974.1372,-710.5 \" stroke=\"#000000\"/>\n",
       "<text fill=\"#000000\" font-family=\"Times,serif\" font-size=\"14.00\" text-anchor=\"middle\" x=\"8001.6372\" y=\"-695.3\">input:</text>\n",
       "<polyline fill=\"none\" points=\"7974.1372,-687.5 8029.1372,-687.5 \" stroke=\"#000000\"/>\n",
       "<text fill=\"#000000\" font-family=\"Times,serif\" font-size=\"14.00\" text-anchor=\"middle\" x=\"8001.6372\" y=\"-672.3\">output:</text>\n",
       "<polyline fill=\"none\" points=\"8029.1372,-664.5 8029.1372,-710.5 \" stroke=\"#000000\"/>\n",
       "<text fill=\"#000000\" font-family=\"Times,serif\" font-size=\"14.00\" text-anchor=\"middle\" x=\"8081.1372\" y=\"-695.3\">(None, 60, 512)</text>\n",
       "<polyline fill=\"none\" points=\"8029.1372,-687.5 8133.1372,-687.5 \" stroke=\"#000000\"/>\n",
       "<text fill=\"#000000\" font-family=\"Times,serif\" font-size=\"14.00\" text-anchor=\"middle\" x=\"8081.1372\" y=\"-672.3\">(None, 60, 512)</text>\n",
       "</g>\n",
       "<!-- 140378865261456&#45;&gt;140378865261328 -->\n",
       "<g class=\"edge\" id=\"edge180\">\n",
       "<title>140378865261456-&gt;140378865261328</title>\n",
       "<path d=\"M8100.7213,-747.4901C8068.6511,-737.0105 8030.5299,-724.5535 7997.3581,-713.7139\" fill=\"none\" stroke=\"#000000\"/>\n",
       "<polygon fill=\"#000000\" points=\"7998.2826,-710.3339 7987.69,-710.5547 7996.1082,-716.9877 7998.2826,-710.3339\" stroke=\"#000000\"/>\n",
       "</g>\n",
       "<!-- 140378864670608 -->\n",
       "<g class=\"node\" id=\"node125\">\n",
       "<title>140378864670608</title>\n",
       "<polygon fill=\"none\" points=\"8443.1372,-664.5 8443.1372,-710.5 8875.1372,-710.5 8875.1372,-664.5 8443.1372,-664.5\" stroke=\"#000000\"/>\n",
       "<text fill=\"#000000\" font-family=\"Times,serif\" font-size=\"14.00\" text-anchor=\"middle\" x=\"8579.6372\" y=\"-683.8\">batch_normalization_126: BatchNormalization</text>\n",
       "<polyline fill=\"none\" points=\"8716.1372,-664.5 8716.1372,-710.5 \" stroke=\"#000000\"/>\n",
       "<text fill=\"#000000\" font-family=\"Times,serif\" font-size=\"14.00\" text-anchor=\"middle\" x=\"8743.6372\" y=\"-695.3\">input:</text>\n",
       "<polyline fill=\"none\" points=\"8716.1372,-687.5 8771.1372,-687.5 \" stroke=\"#000000\"/>\n",
       "<text fill=\"#000000\" font-family=\"Times,serif\" font-size=\"14.00\" text-anchor=\"middle\" x=\"8743.6372\" y=\"-672.3\">output:</text>\n",
       "<polyline fill=\"none\" points=\"8771.1372,-664.5 8771.1372,-710.5 \" stroke=\"#000000\"/>\n",
       "<text fill=\"#000000\" font-family=\"Times,serif\" font-size=\"14.00\" text-anchor=\"middle\" x=\"8823.1372\" y=\"-695.3\">(None, 60, 512)</text>\n",
       "<polyline fill=\"none\" points=\"8771.1372,-687.5 8875.1372,-687.5 \" stroke=\"#000000\"/>\n",
       "<text fill=\"#000000\" font-family=\"Times,serif\" font-size=\"14.00\" text-anchor=\"middle\" x=\"8823.1372\" y=\"-672.3\">(None, 60, 512)</text>\n",
       "</g>\n",
       "<!-- 140378864670096&#45;&gt;140378864670608 -->\n",
       "<g class=\"edge\" id=\"edge181\">\n",
       "<title>140378864670096-&gt;140378864670608</title>\n",
       "<path d=\"M8870.1867,-747.4901C8832.8439,-736.8755 8788.3645,-724.2324 8749.8896,-713.2961\" fill=\"none\" stroke=\"#000000\"/>\n",
       "<polygon fill=\"#000000\" points=\"8750.8211,-709.9223 8740.2452,-710.5547 8748.9071,-716.6555 8750.8211,-709.9223\" stroke=\"#000000\"/>\n",
       "</g>\n",
       "<!-- 140378861396624 -->\n",
       "<g class=\"node\" id=\"node126\">\n",
       "<title>140378861396624</title>\n",
       "<polygon fill=\"none\" points=\"3874.1372,-664.5 3874.1372,-710.5 4306.1372,-710.5 4306.1372,-664.5 3874.1372,-664.5\" stroke=\"#000000\"/>\n",
       "<text fill=\"#000000\" font-family=\"Times,serif\" font-size=\"14.00\" text-anchor=\"middle\" x=\"4010.6372\" y=\"-683.8\">batch_normalization_127: BatchNormalization</text>\n",
       "<polyline fill=\"none\" points=\"4147.1372,-664.5 4147.1372,-710.5 \" stroke=\"#000000\"/>\n",
       "<text fill=\"#000000\" font-family=\"Times,serif\" font-size=\"14.00\" text-anchor=\"middle\" x=\"4174.6372\" y=\"-695.3\">input:</text>\n",
       "<polyline fill=\"none\" points=\"4147.1372,-687.5 4202.1372,-687.5 \" stroke=\"#000000\"/>\n",
       "<text fill=\"#000000\" font-family=\"Times,serif\" font-size=\"14.00\" text-anchor=\"middle\" x=\"4174.6372\" y=\"-672.3\">output:</text>\n",
       "<polyline fill=\"none\" points=\"4202.1372,-664.5 4202.1372,-710.5 \" stroke=\"#000000\"/>\n",
       "<text fill=\"#000000\" font-family=\"Times,serif\" font-size=\"14.00\" text-anchor=\"middle\" x=\"4254.1372\" y=\"-695.3\">(None, 60, 512)</text>\n",
       "<polyline fill=\"none\" points=\"4202.1372,-687.5 4306.1372,-687.5 \" stroke=\"#000000\"/>\n",
       "<text fill=\"#000000\" font-family=\"Times,serif\" font-size=\"14.00\" text-anchor=\"middle\" x=\"4254.1372\" y=\"-672.3\">(None, 60, 512)</text>\n",
       "</g>\n",
       "<!-- 140378861398352&#45;&gt;140378861396624 -->\n",
       "<g class=\"edge\" id=\"edge182\">\n",
       "<title>140378861398352-&gt;140378861396624</title>\n",
       "<path d=\"M3629.7313,-747.4901C3714.9079,-736.3917 3817.1047,-723.0757 3903.5528,-711.8116\" fill=\"none\" stroke=\"#000000\"/>\n",
       "<polygon fill=\"#000000\" points=\"3904.0119,-715.2815 3913.4758,-710.5187 3903.1074,-708.3402 3904.0119,-715.2815\" stroke=\"#000000\"/>\n",
       "</g>\n",
       "<!-- 140378859282512 -->\n",
       "<g class=\"node\" id=\"node127\">\n",
       "<title>140378859282512</title>\n",
       "<polygon fill=\"none\" points=\"4489.1372,-664.5 4489.1372,-710.5 4921.1372,-710.5 4921.1372,-664.5 4489.1372,-664.5\" stroke=\"#000000\"/>\n",
       "<text fill=\"#000000\" font-family=\"Times,serif\" font-size=\"14.00\" text-anchor=\"middle\" x=\"4625.6372\" y=\"-683.8\">batch_normalization_128: BatchNormalization</text>\n",
       "<polyline fill=\"none\" points=\"4762.1372,-664.5 4762.1372,-710.5 \" stroke=\"#000000\"/>\n",
       "<text fill=\"#000000\" font-family=\"Times,serif\" font-size=\"14.00\" text-anchor=\"middle\" x=\"4789.6372\" y=\"-695.3\">input:</text>\n",
       "<polyline fill=\"none\" points=\"4762.1372,-687.5 4817.1372,-687.5 \" stroke=\"#000000\"/>\n",
       "<text fill=\"#000000\" font-family=\"Times,serif\" font-size=\"14.00\" text-anchor=\"middle\" x=\"4789.6372\" y=\"-672.3\">output:</text>\n",
       "<polyline fill=\"none\" points=\"4817.1372,-664.5 4817.1372,-710.5 \" stroke=\"#000000\"/>\n",
       "<text fill=\"#000000\" font-family=\"Times,serif\" font-size=\"14.00\" text-anchor=\"middle\" x=\"4869.1372\" y=\"-695.3\">(None, 60, 512)</text>\n",
       "<polyline fill=\"none\" points=\"4817.1372,-687.5 4921.1372,-687.5 \" stroke=\"#000000\"/>\n",
       "<text fill=\"#000000\" font-family=\"Times,serif\" font-size=\"14.00\" text-anchor=\"middle\" x=\"4869.1372\" y=\"-672.3\">(None, 60, 512)</text>\n",
       "</g>\n",
       "<!-- 140378859283152&#45;&gt;140378859282512 -->\n",
       "<g class=\"edge\" id=\"edge183\">\n",
       "<title>140378859283152-&gt;140378859282512</title>\n",
       "<path d=\"M4363.9887,-747.4901C4426.1414,-736.5607 4500.5245,-723.4806 4563.9495,-712.3275\" fill=\"none\" stroke=\"#000000\"/>\n",
       "<polygon fill=\"#000000\" points=\"4564.7884,-715.7338 4574.0311,-710.5547 4563.5761,-708.8395 4564.7884,-715.7338\" stroke=\"#000000\"/>\n",
       "</g>\n",
       "<!-- 140378857024848 -->\n",
       "<g class=\"node\" id=\"node128\">\n",
       "<title>140378857024848</title>\n",
       "<polygon fill=\"none\" points=\"5450.1372,-664.5 5450.1372,-710.5 5882.1372,-710.5 5882.1372,-664.5 5450.1372,-664.5\" stroke=\"#000000\"/>\n",
       "<text fill=\"#000000\" font-family=\"Times,serif\" font-size=\"14.00\" text-anchor=\"middle\" x=\"5586.6372\" y=\"-683.8\">batch_normalization_129: BatchNormalization</text>\n",
       "<polyline fill=\"none\" points=\"5723.1372,-664.5 5723.1372,-710.5 \" stroke=\"#000000\"/>\n",
       "<text fill=\"#000000\" font-family=\"Times,serif\" font-size=\"14.00\" text-anchor=\"middle\" x=\"5750.6372\" y=\"-695.3\">input:</text>\n",
       "<polyline fill=\"none\" points=\"5723.1372,-687.5 5778.1372,-687.5 \" stroke=\"#000000\"/>\n",
       "<text fill=\"#000000\" font-family=\"Times,serif\" font-size=\"14.00\" text-anchor=\"middle\" x=\"5750.6372\" y=\"-672.3\">output:</text>\n",
       "<polyline fill=\"none\" points=\"5778.1372,-664.5 5778.1372,-710.5 \" stroke=\"#000000\"/>\n",
       "<text fill=\"#000000\" font-family=\"Times,serif\" font-size=\"14.00\" text-anchor=\"middle\" x=\"5830.1372\" y=\"-695.3\">(None, 60, 512)</text>\n",
       "<polyline fill=\"none\" points=\"5778.1372,-687.5 5882.1372,-687.5 \" stroke=\"#000000\"/>\n",
       "<text fill=\"#000000\" font-family=\"Times,serif\" font-size=\"14.00\" text-anchor=\"middle\" x=\"5830.1372\" y=\"-672.3\">(None, 60, 512)</text>\n",
       "</g>\n",
       "<!-- 140378857024464&#45;&gt;140378857024848 -->\n",
       "<g class=\"edge\" id=\"edge184\">\n",
       "<title>140378857024464-&gt;140378857024848</title>\n",
       "<path d=\"M5194.1669,-747.4901C5281.483,-736.3917 5386.2467,-723.0757 5474.8663,-711.8116\" fill=\"none\" stroke=\"#000000\"/>\n",
       "<polygon fill=\"#000000\" points=\"5475.5596,-715.2517 5485.0385,-710.5187 5474.6769,-708.3076 5475.5596,-715.2517\" stroke=\"#000000\"/>\n",
       "</g>\n",
       "<!-- 140378855424912 -->\n",
       "<g class=\"node\" id=\"node129\">\n",
       "<title>140378855424912</title>\n",
       "<polygon fill=\"none\" points=\"5900.1372,-664.5 5900.1372,-710.5 6332.1372,-710.5 6332.1372,-664.5 5900.1372,-664.5\" stroke=\"#000000\"/>\n",
       "<text fill=\"#000000\" font-family=\"Times,serif\" font-size=\"14.00\" text-anchor=\"middle\" x=\"6036.6372\" y=\"-683.8\">batch_normalization_130: BatchNormalization</text>\n",
       "<polyline fill=\"none\" points=\"6173.1372,-664.5 6173.1372,-710.5 \" stroke=\"#000000\"/>\n",
       "<text fill=\"#000000\" font-family=\"Times,serif\" font-size=\"14.00\" text-anchor=\"middle\" x=\"6200.6372\" y=\"-695.3\">input:</text>\n",
       "<polyline fill=\"none\" points=\"6173.1372,-687.5 6228.1372,-687.5 \" stroke=\"#000000\"/>\n",
       "<text fill=\"#000000\" font-family=\"Times,serif\" font-size=\"14.00\" text-anchor=\"middle\" x=\"6200.6372\" y=\"-672.3\">output:</text>\n",
       "<polyline fill=\"none\" points=\"6228.1372,-664.5 6228.1372,-710.5 \" stroke=\"#000000\"/>\n",
       "<text fill=\"#000000\" font-family=\"Times,serif\" font-size=\"14.00\" text-anchor=\"middle\" x=\"6280.1372\" y=\"-695.3\">(None, 60, 512)</text>\n",
       "<polyline fill=\"none\" points=\"6228.1372,-687.5 6332.1372,-687.5 \" stroke=\"#000000\"/>\n",
       "<text fill=\"#000000\" font-family=\"Times,serif\" font-size=\"14.00\" text-anchor=\"middle\" x=\"6280.1372\" y=\"-672.3\">(None, 60, 512)</text>\n",
       "</g>\n",
       "<!-- 140378855424720&#45;&gt;140378855424912 -->\n",
       "<g class=\"edge\" id=\"edge185\">\n",
       "<title>140378855424720-&gt;140378855424912</title>\n",
       "<path d=\"M5910.1471,-747.4901C5946.4403,-736.9205 5989.64,-724.3395 6027.0827,-713.4352\" fill=\"none\" stroke=\"#000000\"/>\n",
       "<polygon fill=\"#000000\" points=\"6028.3511,-716.7113 6036.9736,-710.5547 6026.3938,-709.9905 6028.3511,-716.7113\" stroke=\"#000000\"/>\n",
       "</g>\n",
       "<!-- 140378853175120 -->\n",
       "<g class=\"node\" id=\"node130\">\n",
       "<title>140378853175120</title>\n",
       "<polygon fill=\"none\" points=\"6372.1372,-664.5 6372.1372,-710.5 6804.1372,-710.5 6804.1372,-664.5 6372.1372,-664.5\" stroke=\"#000000\"/>\n",
       "<text fill=\"#000000\" font-family=\"Times,serif\" font-size=\"14.00\" text-anchor=\"middle\" x=\"6508.6372\" y=\"-683.8\">batch_normalization_131: BatchNormalization</text>\n",
       "<polyline fill=\"none\" points=\"6645.1372,-664.5 6645.1372,-710.5 \" stroke=\"#000000\"/>\n",
       "<text fill=\"#000000\" font-family=\"Times,serif\" font-size=\"14.00\" text-anchor=\"middle\" x=\"6672.6372\" y=\"-695.3\">input:</text>\n",
       "<polyline fill=\"none\" points=\"6645.1372,-687.5 6700.1372,-687.5 \" stroke=\"#000000\"/>\n",
       "<text fill=\"#000000\" font-family=\"Times,serif\" font-size=\"14.00\" text-anchor=\"middle\" x=\"6672.6372\" y=\"-672.3\">output:</text>\n",
       "<polyline fill=\"none\" points=\"6700.1372,-664.5 6700.1372,-710.5 \" stroke=\"#000000\"/>\n",
       "<text fill=\"#000000\" font-family=\"Times,serif\" font-size=\"14.00\" text-anchor=\"middle\" x=\"6752.1372\" y=\"-695.3\">(None, 60, 512)</text>\n",
       "<polyline fill=\"none\" points=\"6700.1372,-687.5 6804.1372,-687.5 \" stroke=\"#000000\"/>\n",
       "<text fill=\"#000000\" font-family=\"Times,serif\" font-size=\"14.00\" text-anchor=\"middle\" x=\"6752.1372\" y=\"-672.3\">(None, 60, 512)</text>\n",
       "</g>\n",
       "<!-- 140378853174992&#45;&gt;140378853175120 -->\n",
       "<g class=\"edge\" id=\"edge186\">\n",
       "<title>140378853174992-&gt;140378853175120</title>\n",
       "<path d=\"M6604.7304,-747.3799C6602.4319,-739.0854 6599.7933,-729.5633 6597.3064,-720.5889\" fill=\"none\" stroke=\"#000000\"/>\n",
       "<polygon fill=\"#000000\" points=\"6600.6328,-719.4862 6594.5894,-710.784 6593.887,-721.3555 6600.6328,-719.4862\" stroke=\"#000000\"/>\n",
       "</g>\n",
       "<!-- 140378851041360 -->\n",
       "<g class=\"node\" id=\"node131\">\n",
       "<title>140378851041360</title>\n",
       "<polygon fill=\"none\" points=\"6998.1372,-664.5 6998.1372,-710.5 7430.1372,-710.5 7430.1372,-664.5 6998.1372,-664.5\" stroke=\"#000000\"/>\n",
       "<text fill=\"#000000\" font-family=\"Times,serif\" font-size=\"14.00\" text-anchor=\"middle\" x=\"7134.6372\" y=\"-683.8\">batch_normalization_132: BatchNormalization</text>\n",
       "<polyline fill=\"none\" points=\"7271.1372,-664.5 7271.1372,-710.5 \" stroke=\"#000000\"/>\n",
       "<text fill=\"#000000\" font-family=\"Times,serif\" font-size=\"14.00\" text-anchor=\"middle\" x=\"7298.6372\" y=\"-695.3\">input:</text>\n",
       "<polyline fill=\"none\" points=\"7271.1372,-687.5 7326.1372,-687.5 \" stroke=\"#000000\"/>\n",
       "<text fill=\"#000000\" font-family=\"Times,serif\" font-size=\"14.00\" text-anchor=\"middle\" x=\"7298.6372\" y=\"-672.3\">output:</text>\n",
       "<polyline fill=\"none\" points=\"7326.1372,-664.5 7326.1372,-710.5 \" stroke=\"#000000\"/>\n",
       "<text fill=\"#000000\" font-family=\"Times,serif\" font-size=\"14.00\" text-anchor=\"middle\" x=\"7378.1372\" y=\"-695.3\">(None, 60, 512)</text>\n",
       "<polyline fill=\"none\" points=\"7326.1372,-687.5 7430.1372,-687.5 \" stroke=\"#000000\"/>\n",
       "<text fill=\"#000000\" font-family=\"Times,serif\" font-size=\"14.00\" text-anchor=\"middle\" x=\"7378.1372\" y=\"-672.3\">(None, 60, 512)</text>\n",
       "</g>\n",
       "<!-- 140378851043152&#45;&gt;140378851041360 -->\n",
       "<g class=\"edge\" id=\"edge187\">\n",
       "<title>140378851043152-&gt;140378851041360</title>\n",
       "<path d=\"M7341.8328,-747.3799C7320.3458,-737.304 7294.9957,-725.4167 7272.5692,-714.9003\" fill=\"none\" stroke=\"#000000\"/>\n",
       "<polygon fill=\"#000000\" points=\"7274.0238,-711.7168 7263.4838,-710.6399 7271.0518,-718.0545 7274.0238,-711.7168\" stroke=\"#000000\"/>\n",
       "</g>\n",
       "<!-- 140378851044624 -->\n",
       "<g class=\"node\" id=\"node132\">\n",
       "<title>140378851044624</title>\n",
       "<polygon fill=\"none\" points=\"5619.1372,-581.5 5619.1372,-627.5 6613.1372,-627.5 6613.1372,-581.5 5619.1372,-581.5\" stroke=\"#000000\"/>\n",
       "<text fill=\"#000000\" font-family=\"Times,serif\" font-size=\"14.00\" text-anchor=\"middle\" x=\"5701.6372\" y=\"-600.8\">concat_enc_2: Concatenate</text>\n",
       "<polyline fill=\"none\" points=\"5784.1372,-581.5 5784.1372,-627.5 \" stroke=\"#000000\"/>\n",
       "<text fill=\"#000000\" font-family=\"Times,serif\" font-size=\"14.00\" text-anchor=\"middle\" x=\"5811.6372\" y=\"-612.3\">input:</text>\n",
       "<polyline fill=\"none\" points=\"5784.1372,-604.5 5839.1372,-604.5 \" stroke=\"#000000\"/>\n",
       "<text fill=\"#000000\" font-family=\"Times,serif\" font-size=\"14.00\" text-anchor=\"middle\" x=\"5811.6372\" y=\"-589.3\">output:</text>\n",
       "<polyline fill=\"none\" points=\"5839.1372,-581.5 5839.1372,-627.5 \" stroke=\"#000000\"/>\n",
       "<text fill=\"#000000\" font-family=\"Times,serif\" font-size=\"14.00\" text-anchor=\"middle\" x=\"6226.1372\" y=\"-612.3\">[(None, 60, 512), (None, 60, 512), (None, 60, 512), (None, 60, 512), (None, 60, 512), (None, 60, 512), (None, 60, 512), (None, 60, 512)]</text>\n",
       "<polyline fill=\"none\" points=\"5839.1372,-604.5 6613.1372,-604.5 \" stroke=\"#000000\"/>\n",
       "<text fill=\"#000000\" font-family=\"Times,serif\" font-size=\"14.00\" text-anchor=\"middle\" x=\"6226.1372\" y=\"-589.3\">(None, 60, 4096)</text>\n",
       "</g>\n",
       "<!-- 140378865261328&#45;&gt;140378851044624 -->\n",
       "<g class=\"edge\" id=\"edge188\">\n",
       "<title>140378865261328-&gt;140378851044624</title>\n",
       "<path d=\"M7700.9093,-676.6777C7618.9249,-672.6248 7524.7252,-668.0285 7439.1372,-664 7169.8551,-651.3254 6869.713,-637.7796 6623.4665,-626.8193\" fill=\"none\" stroke=\"#000000\"/>\n",
       "<polygon fill=\"#000000\" points=\"6623.4035,-623.3132 6613.2578,-626.3651 6623.0923,-630.3062 6623.4035,-623.3132\" stroke=\"#000000\"/>\n",
       "</g>\n",
       "<!-- 140378864670608&#45;&gt;140378851044624 -->\n",
       "<g class=\"edge\" id=\"edge189\">\n",
       "<title>140378864670608-&gt;140378851044624</title>\n",
       "<path d=\"M8442.8416,-676.893C8350.246,-672.5531 8240.9027,-667.6947 8142.1372,-664 7624.9375,-644.6521 7033.271,-627.8959 6623.4292,-617.1399\" fill=\"none\" stroke=\"#000000\"/>\n",
       "<polygon fill=\"#000000\" points=\"6623.2645,-613.6344 6613.1761,-616.871 6623.0809,-620.632 6623.2645,-613.6344\" stroke=\"#000000\"/>\n",
       "</g>\n",
       "<!-- 140378861396624&#45;&gt;140378851044624 -->\n",
       "<g class=\"edge\" id=\"edge190\">\n",
       "<title>140378861396624-&gt;140378851044624</title>\n",
       "<path d=\"M4306.1795,-673.5613C4362.771,-670.1624 4423.7335,-666.7246 4480.1372,-664 4858.2223,-645.7362 5285.7049,-630.3718 5608.8569,-619.8331\" fill=\"none\" stroke=\"#000000\"/>\n",
       "<polygon fill=\"#000000\" points=\"5608.9861,-623.3308 5618.8669,-619.5071 5608.7582,-616.3346 5608.9861,-623.3308\" stroke=\"#000000\"/>\n",
       "</g>\n",
       "<!-- 140378859282512&#45;&gt;140378851044624 -->\n",
       "<g class=\"edge\" id=\"edge191\">\n",
       "<title>140378859282512-&gt;140378851044624</title>\n",
       "<path d=\"M4921.3583,-674.7811C5131.7874,-662.4029 5456.6383,-643.2941 5714.5207,-628.1245\" fill=\"none\" stroke=\"#000000\"/>\n",
       "<polygon fill=\"#000000\" points=\"5715.0429,-631.5999 5724.8201,-627.5187 5714.6318,-624.612 5715.0429,-631.5999\" stroke=\"#000000\"/>\n",
       "</g>\n",
       "<!-- 140378857024848&#45;&gt;140378851044624 -->\n",
       "<g class=\"edge\" id=\"edge192\">\n",
       "<title>140378857024848-&gt;140378851044624</title>\n",
       "<path d=\"M5790.8897,-664.4901C5850.0235,-653.5832 5920.7698,-640.5344 5981.1569,-629.3964\" fill=\"none\" stroke=\"#000000\"/>\n",
       "<polygon fill=\"#000000\" points=\"5981.9428,-632.8105 5991.142,-627.5547 5980.673,-625.9267 5981.9428,-632.8105\" stroke=\"#000000\"/>\n",
       "</g>\n",
       "<!-- 140378855424912&#45;&gt;140378851044624 -->\n",
       "<g class=\"edge\" id=\"edge193\">\n",
       "<title>140378855424912-&gt;140378851044624</title>\n",
       "<path d=\"M6116.1372,-664.3799C6116.1372,-656.1745 6116.1372,-646.7679 6116.1372,-637.8786\" fill=\"none\" stroke=\"#000000\"/>\n",
       "<polygon fill=\"#000000\" points=\"6119.6373,-637.784 6116.1372,-627.784 6112.6373,-637.784 6119.6373,-637.784\" stroke=\"#000000\"/>\n",
       "</g>\n",
       "<!-- 140378853175120&#45;&gt;140378851044624 -->\n",
       "<g class=\"edge\" id=\"edge194\">\n",
       "<title>140378853175120-&gt;140378851044624</title>\n",
       "<path d=\"M6457.2857,-664.4901C6395.1329,-653.5607 6320.7498,-640.4806 6257.3249,-629.3275\" fill=\"none\" stroke=\"#000000\"/>\n",
       "<polygon fill=\"#000000\" points=\"6257.6983,-625.8395 6247.2432,-627.5547 6256.4859,-632.7338 6257.6983,-625.8395\" stroke=\"#000000\"/>\n",
       "</g>\n",
       "<!-- 140378851041360&#45;&gt;140378851044624 -->\n",
       "<g class=\"edge\" id=\"edge195\">\n",
       "<title>140378851041360-&gt;140378851044624</title>\n",
       "<path d=\"M6997.8631,-671.1514C6835.9818,-658.9145 6612.1311,-641.9932 6430.4916,-628.2627\" fill=\"none\" stroke=\"#000000\"/>\n",
       "<polygon fill=\"#000000\" points=\"6430.7447,-624.7719 6420.5093,-627.5081 6430.217,-631.752 6430.7447,-624.7719\" stroke=\"#000000\"/>\n",
       "</g>\n",
       "<!-- 140378848887632 -->\n",
       "<g class=\"node\" id=\"node133\">\n",
       "<title>140378848887632</title>\n",
       "<polygon fill=\"none\" points=\"5689.6372,-498.5 5689.6372,-544.5 6064.6372,-544.5 6064.6372,-498.5 5689.6372,-498.5\" stroke=\"#000000\"/>\n",
       "<text fill=\"#000000\" font-family=\"Times,serif\" font-size=\"14.00\" text-anchor=\"middle\" x=\"5794.6372\" y=\"-517.8\">cond_enc_2: CondenseAttention1D</text>\n",
       "<polyline fill=\"none\" points=\"5899.6372,-498.5 5899.6372,-544.5 \" stroke=\"#000000\"/>\n",
       "<text fill=\"#000000\" font-family=\"Times,serif\" font-size=\"14.00\" text-anchor=\"middle\" x=\"5927.1372\" y=\"-529.3\">input:</text>\n",
       "<polyline fill=\"none\" points=\"5899.6372,-521.5 5954.6372,-521.5 \" stroke=\"#000000\"/>\n",
       "<text fill=\"#000000\" font-family=\"Times,serif\" font-size=\"14.00\" text-anchor=\"middle\" x=\"5927.1372\" y=\"-506.3\">output:</text>\n",
       "<polyline fill=\"none\" points=\"5954.6372,-498.5 5954.6372,-544.5 \" stroke=\"#000000\"/>\n",
       "<text fill=\"#000000\" font-family=\"Times,serif\" font-size=\"14.00\" text-anchor=\"middle\" x=\"6009.6372\" y=\"-529.3\">(None, 60, 4096)</text>\n",
       "<polyline fill=\"none\" points=\"5954.6372,-521.5 6064.6372,-521.5 \" stroke=\"#000000\"/>\n",
       "<text fill=\"#000000\" font-family=\"Times,serif\" font-size=\"14.00\" text-anchor=\"middle\" x=\"6009.6372\" y=\"-506.3\">(None, 60, 512)</text>\n",
       "</g>\n",
       "<!-- 140378851044624&#45;&gt;140378848887632 -->\n",
       "<g class=\"edge\" id=\"edge196\">\n",
       "<title>140378851044624-&gt;140378848887632</title>\n",
       "<path d=\"M6049.8797,-581.4901C6019.833,-571.0554 5984.1413,-558.6604 5953.0228,-547.8536\" fill=\"none\" stroke=\"#000000\"/>\n",
       "<polygon fill=\"#000000\" points=\"5954.1183,-544.529 5943.5235,-544.5547 5951.8218,-551.1416 5954.1183,-544.529\" stroke=\"#000000\"/>\n",
       "</g>\n",
       "<!-- 140378848887632&#45;&gt;140378848876432 -->\n",
       "<g class=\"edge\" id=\"edge198\">\n",
       "<title>140378848887632-&gt;140378848876432</title>\n",
       "<path d=\"M5780.9391,-498.4901C5736.0925,-487.7631 5682.5844,-474.9643 5636.5327,-463.9491\" fill=\"none\" stroke=\"#000000\"/>\n",
       "<polygon fill=\"#000000\" points=\"5637.0622,-460.4771 5626.5224,-461.5547 5635.4338,-467.285 5637.0622,-460.4771\" stroke=\"#000000\"/>\n",
       "</g>\n",
       "<!-- 140378848268048 -->\n",
       "<g class=\"node\" id=\"node135\">\n",
       "<title>140378848268048</title>\n",
       "<polygon fill=\"none\" points=\"5314.1372,-332.5 5314.1372,-378.5 5746.1372,-378.5 5746.1372,-332.5 5314.1372,-332.5\" stroke=\"#000000\"/>\n",
       "<text fill=\"#000000\" font-family=\"Times,serif\" font-size=\"14.00\" text-anchor=\"middle\" x=\"5450.6372\" y=\"-351.8\">batch_normalization_133: BatchNormalization</text>\n",
       "<polyline fill=\"none\" points=\"5587.1372,-332.5 5587.1372,-378.5 \" stroke=\"#000000\"/>\n",
       "<text fill=\"#000000\" font-family=\"Times,serif\" font-size=\"14.00\" text-anchor=\"middle\" x=\"5614.6372\" y=\"-363.3\">input:</text>\n",
       "<polyline fill=\"none\" points=\"5587.1372,-355.5 5642.1372,-355.5 \" stroke=\"#000000\"/>\n",
       "<text fill=\"#000000\" font-family=\"Times,serif\" font-size=\"14.00\" text-anchor=\"middle\" x=\"5614.6372\" y=\"-340.3\">output:</text>\n",
       "<polyline fill=\"none\" points=\"5642.1372,-332.5 5642.1372,-378.5 \" stroke=\"#000000\"/>\n",
       "<text fill=\"#000000\" font-family=\"Times,serif\" font-size=\"14.00\" text-anchor=\"middle\" x=\"5694.1372\" y=\"-363.3\">(None, 60, 512)</text>\n",
       "<polyline fill=\"none\" points=\"5642.1372,-355.5 5746.1372,-355.5 \" stroke=\"#000000\"/>\n",
       "<text fill=\"#000000\" font-family=\"Times,serif\" font-size=\"14.00\" text-anchor=\"middle\" x=\"5694.1372\" y=\"-340.3\">(None, 60, 512)</text>\n",
       "</g>\n",
       "<!-- 140378848876432&#45;&gt;140378848268048 -->\n",
       "<g class=\"edge\" id=\"edge199\">\n",
       "<title>140378848876432-&gt;140378848268048</title>\n",
       "<path d=\"M5530.1372,-415.3799C5530.1372,-407.1745 5530.1372,-397.7679 5530.1372,-388.8786\" fill=\"none\" stroke=\"#000000\"/>\n",
       "<polygon fill=\"#000000\" points=\"5533.6373,-388.784 5530.1372,-378.784 5526.6373,-388.784 5533.6373,-388.784\" stroke=\"#000000\"/>\n",
       "</g>\n",
       "<!-- 140378847240336 -->\n",
       "<g class=\"node\" id=\"node136\">\n",
       "<title>140378847240336</title>\n",
       "<polygon fill=\"none\" points=\"5423.6372,-249.5 5423.6372,-295.5 5908.6372,-295.5 5908.6372,-249.5 5423.6372,-249.5\" stroke=\"#000000\"/>\n",
       "<text fill=\"#000000\" font-family=\"Times,serif\" font-size=\"14.00\" text-anchor=\"middle\" x=\"5586.6372\" y=\"-268.8\">time_distributed_5(dense_369): TimeDistributed(Dense)</text>\n",
       "<polyline fill=\"none\" points=\"5749.6372,-249.5 5749.6372,-295.5 \" stroke=\"#000000\"/>\n",
       "<text fill=\"#000000\" font-family=\"Times,serif\" font-size=\"14.00\" text-anchor=\"middle\" x=\"5777.1372\" y=\"-280.3\">input:</text>\n",
       "<polyline fill=\"none\" points=\"5749.6372,-272.5 5804.6372,-272.5 \" stroke=\"#000000\"/>\n",
       "<text fill=\"#000000\" font-family=\"Times,serif\" font-size=\"14.00\" text-anchor=\"middle\" x=\"5777.1372\" y=\"-257.3\">output:</text>\n",
       "<polyline fill=\"none\" points=\"5804.6372,-249.5 5804.6372,-295.5 \" stroke=\"#000000\"/>\n",
       "<text fill=\"#000000\" font-family=\"Times,serif\" font-size=\"14.00\" text-anchor=\"middle\" x=\"5856.6372\" y=\"-280.3\">(None, 60, 512)</text>\n",
       "<polyline fill=\"none\" points=\"5804.6372,-272.5 5908.6372,-272.5 \" stroke=\"#000000\"/>\n",
       "<text fill=\"#000000\" font-family=\"Times,serif\" font-size=\"14.00\" text-anchor=\"middle\" x=\"5856.6372\" y=\"-257.3\">(None, 60, 512)</text>\n",
       "</g>\n",
       "<!-- 140378848268048&#45;&gt;140378847240336 -->\n",
       "<g class=\"edge\" id=\"edge200\">\n",
       "<title>140378848268048-&gt;140378847240336</title>\n",
       "<path d=\"M5568.0208,-332.3799C5583.95,-322.6583 5602.6424,-311.2505 5619.4143,-301.0147\" fill=\"none\" stroke=\"#000000\"/>\n",
       "<polygon fill=\"#000000\" points=\"5621.2725,-303.9811 5627.9851,-295.784 5617.6258,-298.0059 5621.2725,-303.9811\" stroke=\"#000000\"/>\n",
       "</g>\n",
       "<!-- 140378847241488 -->\n",
       "<g class=\"node\" id=\"node137\">\n",
       "<title>140378847241488</title>\n",
       "<polygon fill=\"none\" points=\"5291.6372,-166.5 5291.6372,-212.5 5768.6372,-212.5 5768.6372,-166.5 5291.6372,-166.5\" stroke=\"#000000\"/>\n",
       "<text fill=\"#000000\" font-family=\"Times,serif\" font-size=\"14.00\" text-anchor=\"middle\" x=\"5399.1372\" y=\"-185.8\">res_comb_NA_2: ResidualCombine</text>\n",
       "<polyline fill=\"none\" points=\"5506.6372,-166.5 5506.6372,-212.5 \" stroke=\"#000000\"/>\n",
       "<text fill=\"#000000\" font-family=\"Times,serif\" font-size=\"14.00\" text-anchor=\"middle\" x=\"5534.1372\" y=\"-197.3\">input:</text>\n",
       "<polyline fill=\"none\" points=\"5506.6372,-189.5 5561.6372,-189.5 \" stroke=\"#000000\"/>\n",
       "<text fill=\"#000000\" font-family=\"Times,serif\" font-size=\"14.00\" text-anchor=\"middle\" x=\"5534.1372\" y=\"-174.3\">output:</text>\n",
       "<polyline fill=\"none\" points=\"5561.6372,-166.5 5561.6372,-212.5 \" stroke=\"#000000\"/>\n",
       "<text fill=\"#000000\" font-family=\"Times,serif\" font-size=\"14.00\" text-anchor=\"middle\" x=\"5665.1372\" y=\"-197.3\">[(None, 60, 512), (None, 60, 512)]</text>\n",
       "<polyline fill=\"none\" points=\"5561.6372,-189.5 5768.6372,-189.5 \" stroke=\"#000000\"/>\n",
       "<text fill=\"#000000\" font-family=\"Times,serif\" font-size=\"14.00\" text-anchor=\"middle\" x=\"5665.1372\" y=\"-174.3\">[(None, 60, 512), (1, 1), (1, 1)]</text>\n",
       "</g>\n",
       "<!-- 140378848268048&#45;&gt;140378847241488 -->\n",
       "<g class=\"edge\" id=\"edge201\">\n",
       "<title>140378848268048-&gt;140378847241488</title>\n",
       "<path d=\"M5456.5539,-332.3861C5440.1482,-323.6536 5424.7779,-311.8426 5415.1372,-296 5404.2783,-278.1554 5404.2783,-266.8446 5415.1372,-249 5423.0456,-236.0041 5434.8095,-225.7211 5447.8377,-217.625\" fill=\"none\" stroke=\"#000000\"/>\n",
       "<polygon fill=\"#000000\" points=\"5449.629,-220.6324 5456.5539,-212.6139 5446.1401,-214.5639 5449.629,-220.6324\" stroke=\"#000000\"/>\n",
       "</g>\n",
       "<!-- 140378847240336&#45;&gt;140378847241488 -->\n",
       "<g class=\"edge\" id=\"edge202\">\n",
       "<title>140378847240336-&gt;140378847241488</title>\n",
       "<path d=\"M5628.2536,-249.3799C5612.3243,-239.6583 5593.632,-228.2505 5576.8601,-218.0147\" fill=\"none\" stroke=\"#000000\"/>\n",
       "<polygon fill=\"#000000\" points=\"5578.6485,-215.0059 5568.2893,-212.784 5575.0019,-220.9811 5578.6485,-215.0059\" stroke=\"#000000\"/>\n",
       "</g>\n",
       "<!-- 140378847034640 -->\n",
       "<g class=\"node\" id=\"node138\">\n",
       "<title>140378847034640</title>\n",
       "<polygon fill=\"none\" points=\"5314.1372,-83.5 5314.1372,-129.5 5746.1372,-129.5 5746.1372,-83.5 5314.1372,-83.5\" stroke=\"#000000\"/>\n",
       "<text fill=\"#000000\" font-family=\"Times,serif\" font-size=\"14.00\" text-anchor=\"middle\" x=\"5450.6372\" y=\"-102.8\">batch_normalization_134: BatchNormalization</text>\n",
       "<polyline fill=\"none\" points=\"5587.1372,-83.5 5587.1372,-129.5 \" stroke=\"#000000\"/>\n",
       "<text fill=\"#000000\" font-family=\"Times,serif\" font-size=\"14.00\" text-anchor=\"middle\" x=\"5614.6372\" y=\"-114.3\">input:</text>\n",
       "<polyline fill=\"none\" points=\"5587.1372,-106.5 5642.1372,-106.5 \" stroke=\"#000000\"/>\n",
       "<text fill=\"#000000\" font-family=\"Times,serif\" font-size=\"14.00\" text-anchor=\"middle\" x=\"5614.6372\" y=\"-91.3\">output:</text>\n",
       "<polyline fill=\"none\" points=\"5642.1372,-83.5 5642.1372,-129.5 \" stroke=\"#000000\"/>\n",
       "<text fill=\"#000000\" font-family=\"Times,serif\" font-size=\"14.00\" text-anchor=\"middle\" x=\"5694.1372\" y=\"-114.3\">(None, 60, 512)</text>\n",
       "<polyline fill=\"none\" points=\"5642.1372,-106.5 5746.1372,-106.5 \" stroke=\"#000000\"/>\n",
       "<text fill=\"#000000\" font-family=\"Times,serif\" font-size=\"14.00\" text-anchor=\"middle\" x=\"5694.1372\" y=\"-91.3\">(None, 60, 512)</text>\n",
       "</g>\n",
       "<!-- 140378847241488&#45;&gt;140378847034640 -->\n",
       "<g class=\"edge\" id=\"edge203\">\n",
       "<title>140378847241488-&gt;140378847034640</title>\n",
       "<path d=\"M5530.1372,-166.3799C5530.1372,-158.1745 5530.1372,-148.7679 5530.1372,-139.8786\" fill=\"none\" stroke=\"#000000\"/>\n",
       "<polygon fill=\"#000000\" points=\"5533.6373,-139.784 5530.1372,-129.784 5526.6373,-139.784 5533.6373,-139.784\" stroke=\"#000000\"/>\n",
       "</g>\n",
       "<!-- 140378857024080 -->\n",
       "<g class=\"node\" id=\"node139\">\n",
       "<title>140378857024080</title>\n",
       "<polygon fill=\"none\" points=\"5386.1372,-.5 5386.1372,-46.5 5674.1372,-46.5 5674.1372,-.5 5386.1372,-.5\" stroke=\"#000000\"/>\n",
       "<text fill=\"#000000\" font-family=\"Times,serif\" font-size=\"14.00\" text-anchor=\"middle\" x=\"5444.1372\" y=\"-19.8\">dense_372: Dense</text>\n",
       "<polyline fill=\"none\" points=\"5502.1372,-.5 5502.1372,-46.5 \" stroke=\"#000000\"/>\n",
       "<text fill=\"#000000\" font-family=\"Times,serif\" font-size=\"14.00\" text-anchor=\"middle\" x=\"5529.6372\" y=\"-31.3\">input:</text>\n",
       "<polyline fill=\"none\" points=\"5502.1372,-23.5 5557.1372,-23.5 \" stroke=\"#000000\"/>\n",
       "<text fill=\"#000000\" font-family=\"Times,serif\" font-size=\"14.00\" text-anchor=\"middle\" x=\"5529.6372\" y=\"-8.3\">output:</text>\n",
       "<polyline fill=\"none\" points=\"5557.1372,-.5 5557.1372,-46.5 \" stroke=\"#000000\"/>\n",
       "<text fill=\"#000000\" font-family=\"Times,serif\" font-size=\"14.00\" text-anchor=\"middle\" x=\"5615.6372\" y=\"-31.3\">(None, 60, 512)</text>\n",
       "<polyline fill=\"none\" points=\"5557.1372,-23.5 5674.1372,-23.5 \" stroke=\"#000000\"/>\n",
       "<text fill=\"#000000\" font-family=\"Times,serif\" font-size=\"14.00\" text-anchor=\"middle\" x=\"5615.6372\" y=\"-8.3\">(None, 60, 20795)</text>\n",
       "</g>\n",
       "<!-- 140378847034640&#45;&gt;140378857024080 -->\n",
       "<g class=\"edge\" id=\"edge204\">\n",
       "<title>140378847034640-&gt;140378857024080</title>\n",
       "<path d=\"M5530.1372,-83.3799C5530.1372,-75.1745 5530.1372,-65.7679 5530.1372,-56.8786\" fill=\"none\" stroke=\"#000000\"/>\n",
       "<polygon fill=\"#000000\" points=\"5533.6373,-56.784 5530.1372,-46.784 5526.6373,-56.784 5533.6373,-56.784\" stroke=\"#000000\"/>\n",
       "</g>\n",
       "</g>\n",
       "</svg>"
      ],
      "text/plain": [
       "<IPython.core.display.SVG object>"
      ]
     },
     "execution_count": 32,
     "metadata": {},
     "output_type": "execute_result"
    }
   ],
   "source": [
    "SVG(model_to_dot(imgNet, show_layer_names=True, show_shapes=True,dpi=60).create(prog='dot', format='svg'))"
   ]
  },
  {
   "cell_type": "code",
   "execution_count": 33,
   "metadata": {},
   "outputs": [],
   "source": [
    "# bottleneck_units = 512\n",
    "# def getTextNet():\n",
    "#     words_input = kl.Input(shape=(max_wlen,),name='words_input')\n",
    "#     padding_masks = kl.Input(shape=(max_wlen,1),name='padding_masks')\n",
    "#     emb = kl.Embedding(vocab_size+1, embedding_size, mask_zero=False, name='w2v_emb')(words_input)\n",
    "# #     lstm = kl.LSTM(512,activation='relu',return_sequences=True,name='lstm_emb')(emb)\n",
    "# #     emb = kl.Conv1D(name='c1',filters=bottleneck_units,activation='relu',strides=1,kernel_size=1,padding='same')(emb)\n",
    "# # #     c2 = kl.Conv1D(name='c2',filters=bottleneck_units,activation='relu',strides=1,kernel_size=3,dilation_rate=2,padding='same')(emb)\n",
    "# # # #     c3 = kl.Conv1D(embedding_size,activation='relu',strides=1,kernel_size=5,padding='same')(emb)\n",
    "# # # #     c4 = kl.Conv1D(embedding_size,activation='relu',strides=1,kernel_size=5,dilation_rate=2,padding='same')(emb)\n",
    "# # # #     c5 = kl.Conv1D(embedding_size,activation='relu',strides=1,kernel_size=7,padding='same')(emb)\n",
    "# # # #     c6 = kl.Conv1D(embedding_size,activation='relu',strides=1,kernel_size=7,dilation_rate=2,padding='same')(emb)\n",
    "# # #     emb = kl.Concatenate(axis=-1)([c1,c2])\n",
    "# # #     emb = kl.Conv1D(bottleneck_units,activation='relu',strides=1,kernel_size=1,padding='same')(emb)\n",
    "# # #     emb = kl.BatchNormalization(name='emb_bn')(emb)\n",
    "# # #     print(emb)\n",
    "#     sa1 = multiheadSelfAttention(prev_layer=emb,padding_masks=padding_masks,layer_number=1,heads=8)\n",
    "#     sa_ff1 = feedforwardsa(sa_layer=sa1,layer_before_sa=emb,layer_number=1,method='add',out_channels=int(emb.shape[-1]))\n",
    "# # #     print(sa_ff1)\n",
    "#     sa2 = multiheadSelfAttention(prev_layer=sa_ff1,padding_masks=padding_masks,layer_number=2,heads=8)\n",
    "#     sa_ff2 = feedforwardsa(sa_layer=sa2,layer_before_sa=sa_ff1,layer_number=2,method='add',out_channels=int(sa_ff1.shape[-1]))\n",
    "# # #     print(sa_ff2)\n",
    "# #     sa3 = multiheadSelfAttention(prev_layer=sa_ff2,padding_masks=None,layer_number=3,heads=2)\n",
    "# #     sa_ff3 = feedforwardsa(sa_layer=sa3,layer_before_sa=sa_ff2,layer_number=3,method='add',out_channels=int(sa_ff2.shape[-1]))\n",
    "# # #     print(sa_ff3)\n",
    "# #     sa4 = multiheadSelfAttention(prev_layer=sa_ff3,padding_masks=None,layer_number=4,heads=2)\n",
    "# #     sa_ff4 = feedforwardsa(sa_layer=sa4,layer_before_sa=sa_ff3,layer_number=4,method='add',out_channels=int(sa_ff3.shape[-1]))\n",
    "# #     print(sa_ff4)\n",
    "# #     context_vector = kl.GlobalAveragePooling1D(name='gap')(sa_ff)\n",
    "\n",
    "# #     a = multiheadAttention(prev_layer=sa_ff,context_vector=context_vector,layer_number=1,heads=8)\n",
    "# #     a_ff = feedforwarda(a_layer=a,context_vector=context_vector,out_channels=int(emb.shape[-1]),layer_number=1,method='add')\n",
    "# #     output = kl.LSTM(512,activation='relu',return_sequences=False,name='lstm_output')(sa_ff1)\n",
    "# #     output = kl.LSTM(bottleneck_units,return_sequences=True,recurrent_activation='relu')(sa_ff2)\n",
    "#     output = kl.TimeDistributed(kl.Dense(bottleneck_units,activation='relu'))(sa_ff2)\n",
    "# #     output = kl.Activation('relu')(output)\n",
    "#     return Model([words_input,padding_masks],output,name='textModel')"
   ]
  },
  {
   "cell_type": "code",
   "execution_count": 34,
   "metadata": {},
   "outputs": [],
   "source": [
    "# textNet = None"
   ]
  },
  {
   "cell_type": "code",
   "execution_count": 35,
   "metadata": {
    "scrolled": true
   },
   "outputs": [],
   "source": [
    "# words_input = kl.Input(shape=(max_wlen,300),name='words_input')\n",
    "# n = Dense(10,activation='relu')(words_input)\n",
    "# print(n)\n",
    "# g1 = Dense(1,activation='tanh')\n",
    "# x = K.expand_dims(axis=-1,x=words_input)\n",
    "# print(x)\n",
    "# g1_out = g1(x)\n",
    "# print(g1_out)\n",
    "# # print(g1.get_weights()[0][0])\n",
    "# # g1_weight = K.tf.convert_to_tensor(g1.get_weights()[0][0])\n",
    "# # print(tuple(g1_weight.shape.as_list()))\n"
   ]
  },
  {
   "cell_type": "code",
   "execution_count": null,
   "metadata": {},
   "outputs": [],
   "source": []
  },
  {
   "cell_type": "code",
   "execution_count": 36,
   "metadata": {
    "scrolled": true
   },
   "outputs": [],
   "source": [
    "# textNet = getTextNet()\n",
    "# textNet.summary()"
   ]
  },
  {
   "cell_type": "code",
   "execution_count": 37,
   "metadata": {
    "scrolled": true
   },
   "outputs": [],
   "source": [
    "# SVG(model_to_dot(textNet, show_layer_names=True, show_shapes=True,dpi=60).create(prog='dot', format='svg'))"
   ]
  },
  {
   "cell_type": "markdown",
   "metadata": {},
   "source": [
    "# Define Complete Joint Network"
   ]
  },
  {
   "cell_type": "code",
   "execution_count": 38,
   "metadata": {
    "scrolled": true
   },
   "outputs": [],
   "source": [
    "# image_dropout_rate = 0.3\n",
    "# image_input = kl.Input(shape=(256,256,3),name='image_input')\n",
    "# image_features = imgNet(image_input)\n",
    "# image_features = kl.Dropout(image_dropout_rate)(image_features)\n",
    "\n",
    "# text_dropout_rate = 0.1\n",
    "# padding_masks = kl.Input(shape=(max_wlen,1),name='padding_masks')\n",
    "# words_input = kl.Input(shape=(max_wlen,),name='words_input')\n",
    "# text_features = textNet([words_input,padding_masks])\n",
    "# # text_features = kl.Dropout(text_dropout_rate)(text_features)\n",
    "# print(image_features.shape)\n",
    "# print(text_features.shape)"
   ]
  },
  {
   "cell_type": "code",
   "execution_count": 39,
   "metadata": {},
   "outputs": [],
   "source": [
    "# img_feats = kl.GlobalAveragePooling2D(name='img_global_pool')(image_features)\n",
    "# txt_feats = kl.GlobalAveragePooling1D(name='text_global_pool')(text_features)"
   ]
  },
  {
   "cell_type": "code",
   "execution_count": 40,
   "metadata": {},
   "outputs": [],
   "source": [
    "# def multiheadImg2TextCA(tf=None,imf=None,padding_masks=None,layer_number=0,heads=8):\n",
    "#     ca_arr = []\n",
    "#     for head in range(heads):\n",
    "#         ca,beta_im = AM.Img2TextCA(text_ch=int(tf.shape[-1]),img_ch=int(imf.shape[-1]),name='img2text_{0}{1}'.format(layer_number,head))([imf,tf,padding_masks])\n",
    "#         ca = kl.BatchNormalization()(ca)\n",
    "#         ca_arr.append(ca)\n",
    "#     return ca_arr\n",
    "# def feedforwardImg2TextCA(ca_layer=None,imf=None,out_channels=512,layer_number=0,method='add'):\n",
    "#     x = kl.Concatenate(name='img2text_concat_{0}'.format(layer_number))(ca_layer)\n",
    "#     x = AM.CondenseAttention2D(ch_in=int(x.shape[-1]),name='condense_Img2Text_2D_{0}'.format(layer_number),ch_out=out_channels)(x)\n",
    "#     x, g1, g2 = AM.ResidualCombine(method=method\n",
    "#                                    ,name='residual_combine_img2text_{0}'.format(layer_number))([imf, x])\n",
    "#     x = kl.BatchNormalization()(x)\n",
    "#     return x\n",
    "\n",
    "# ###########################################################################################################\n",
    "# def multiheadText2ImgCA(tf=None,imf=None,padding_masks=None,layer_number=0,heads=8):\n",
    "#     ca_arr = []\n",
    "#     for head in range(heads):\n",
    "#         tx,q,k,v,s,scores,beta,o = AM.Text2ImgCA(text_ch=int(tf.shape[-1]),img_ch=int(imf.shape[-1]),name='text2img_{0}{1}'.format(layer_number,head))([tf,imf,padding_masks])\n",
    "#         ca = kl.BatchNormalization()(o)\n",
    "#         ca_arr.append(ca)\n",
    "#     return ca_arr\n",
    "# def feedforwardText2ImgCA(ca_layer=None,tf=None,out_channels=512,layer_number=0,method='add'):\n",
    "#     assert tf!=None\n",
    "#     x = kl.Concatenate(name='text2img_concat_{0}'.format(layer_number))(ca_layer)\n",
    "#     x = AM.CondenseAttention1D(ch_in=int(x.shape[-1]),name='condense_Text2Img_1D_{0}'.format(layer_number),ch_out=out_channels)(x)\n",
    "#     x, g1, g2 = AM.ResidualCombine(method=method\n",
    "#                                    ,name='residual_combine_text2img_{0}'.format(layer_number))([tf, x])\n",
    "#     x = kl.BatchNormalization()(x)\n",
    "#     return x"
   ]
  },
  {
   "cell_type": "code",
   "execution_count": 41,
   "metadata": {},
   "outputs": [],
   "source": [
    "# i2t returns text features which are pertinent to the image sections\n",
    "# i2t = multiheadImg2TextCA(tf=text_features,imf=image_features,padding_masks=padding_masks,layer_number=1)\n",
    "\n",
    "# # so we combine it with the existing image features\n",
    "# i2t_comb = feedforwardImg2TextCA(ca_layer=i2t,imf=image_features,out_channels=512,layer_number=1,method='add')\n",
    "# img2text_pool = kl.GlobalAveragePooling2D(name='img2text_global_pool')(i2t_comb)\n"
   ]
  },
  {
   "cell_type": "code",
   "execution_count": 42,
   "metadata": {},
   "outputs": [],
   "source": [
    "# # t2i returns image features which are pertinent to the textual words\n",
    "# t2i = multiheadText2ImgCA(tf=text_features,imf=image_features,padding_masks=padding_masks,layer_number=1)\n",
    "\n",
    "# # so we combine it with the existing textual words\n",
    "# t2i_comb = feedforwardText2ImgCA(ca_layer=t2i,tf=text_features,out_channels=512,layer_number=1,method='add')\n",
    "# text2img_pool = kl.GlobalAveragePooling1D(name='text2img_global_pool')(t2i_comb)"
   ]
  },
  {
   "cell_type": "code",
   "execution_count": 43,
   "metadata": {},
   "outputs": [],
   "source": [
    "# a_out_1,beta_1 = AM.Text2ImgCA(text_ch=int(text_features.shape[-1]),img_ch=int(image_features.shape[-1]),name='text2img_1')([text_features,image_features,padding_masks])\n",
    "# # a_out_1 = kl.BatchNormalization()(a_out_1)\n",
    "# # a_out_1 = kl.ELU(alpha=elu_alpha)(a_out_1)\n",
    "# # print(a_out_1.shape)\n",
    "# a_out_2,beta_2 = AM.Text2ImgCA(text_ch=int(text_features.shape[-1]),img_ch=int(image_features.shape[-1]),name='text2img_2')([text_features,image_features,padding_masks])\n",
    "# # a_out_2 = kl.BatchNormalization()(a_out_2)\n",
    "# # a_out_2 = kl.ELU(alpha=elu_alpha)(a_out_2)\n",
    "# # print(a_out_2.shape)\n",
    "# a_out_3,beta_3 = AM.Text2ImgCA(text_ch=int(text_features.shape[-1]),img_ch=int(image_features.shape[-1]),name='text2img_3')([text_features,image_features,padding_masks])\n",
    "# # a_out_3 = kl.BatchNormalization()(a_out_3)\n",
    "# # a_out_3 = kl.ELU(alpha=elu_alpha)(a_out_3)\n",
    "# # print(a_out_3.shape)\n",
    "# a_out_4,beta_4 = AM.Text2ImgCA(text_ch=int(text_features.shape[-1]),img_ch=int(image_features.shape[-1]),name='text2img_4')([text_features,image_features,padding_masks])\n",
    "# # a_out_4 = kl.BatchNormalization()(a_out_4)\n",
    "# # a_out_4 = kl.ELU(alpha=elu_alpha)(a_out_4)\n",
    "# # print(a_out_4.shape)\n",
    "# a_conc_text = kl.Concatenate(name='text2img_concat')([a_out_1,a_out_2,a_out_3,a_out_4])\n",
    "\n",
    "# text2img_condense = AM.CondenseAttention1D(ch_in=int(a_conc_text.shape[-1]),ch_out=512)(a_conc_text)\n",
    "# text2img_comb, xt2ig1, xt2ig2 = AM.ResidualCombine()([text_features, text2img_condense])\n",
    "# text2img_comb = kl.ELU(alpha=elu_alpha)(text2img_comb)\n",
    "# text2img_comb = kl.Conv1D(filters=bottleneck_units,kernel_size=1,strides=1,padding='same')(text2img_comb)\n",
    "# text2img_comb = kl.BatchNormalization()(text2img_comb)\n",
    "# text2img_comb = kl.Dropout(dropout_rate)(text2img_comb)\n",
    "# text2img_pool = kl.GlobalAveragePooling1D(name='text2img_global_pool')(text_features)\n",
    "# text2img_pool = text_features"
   ]
  },
  {
   "cell_type": "code",
   "execution_count": 44,
   "metadata": {
    "scrolled": true
   },
   "outputs": [],
   "source": [
    "# dropout_rate = 0.3\n",
    "# # all_concat = kl.Concatenate()([img2text_pool,text2img_pool])\n",
    "\n",
    "# # branch 1\n",
    "# cross_pool = kl.Dense(1024)(text2img_pool)\n",
    "# cross_pool = kl.Activation('relu')(cross_pool)\n",
    "# # cross_pool = kl.Dense(512,activation='relu')(cross_pool)\n",
    "# # cross_pool = kl.Dropout(dropout_rate)(cross_pool)\n",
    "# target1 = kl.Dense(vocab_size+1)(cross_pool)\n",
    "# target1 = kl.Activation('tanh',name='cross_pool_target_word')(target1)\n",
    "\n",
    "# # branch 2\n",
    "# img_text_concat = kl.Concatenate()([img_feats,txt_feats])\n",
    "# pool = kl.Dense(1024)(img_text_concat)\n",
    "# pool = kl.Activation('relu')(pool)\n",
    "# # cross_pool = kl.Dense(512,activation='relu')(cross_pool)\n",
    "# # cross_pool = kl.Dropout(dropout_rate)(cross_pool)\n",
    "# target2 = kl.Dense(vocab_size+1)(pool)\n",
    "# target2 = kl.Activation('tanh',name='pool_target_word')(target2)\n",
    "\n",
    "# model = Model([image_input,words_input,padding_masks],[target1,target2])\n"
   ]
  },
  {
   "cell_type": "code",
   "execution_count": 45,
   "metadata": {
    "scrolled": true
   },
   "outputs": [],
   "source": [
    "# json_file = open('../model_json/{0}_{1}_text_img_attention.json'.format(img_arch,text_arch), 'r')\n",
    "# loaded_model_json = json_file.read()\n",
    "# json_file.close()\n",
    "# loaded_model = model_from_json(loaded_model_json)"
   ]
  },
  {
   "cell_type": "code",
   "execution_count": 46,
   "metadata": {},
   "outputs": [],
   "source": [
    "# loaded_model_json"
   ]
  },
  {
   "cell_type": "code",
   "execution_count": 47,
   "metadata": {},
   "outputs": [],
   "source": [
    "# loaded_model==model\n",
    "adam = Adam(\n",
    "    lr=lr, beta_1=0.9, beta_2=0.999, epsilon=1e-07, amsgrad=False\n",
    ")"
   ]
  },
  {
   "cell_type": "code",
   "execution_count": 48,
   "metadata": {
    "scrolled": true
   },
   "outputs": [],
   "source": [
    "# l = textNet.get_layer('w2v_emb')\n",
    "# l.set_weights([embedding_matrix])\n",
    "# l.trainable = False\n",
    "# # if not os.path.exists('../checkpoints/{0}.h5'.format(model_name)):\n",
    "# #     print('New model {0}.'.format(model_name))\n",
    "# # else:\n",
    "# #     print('Existing model {0}. trained weights will be loaded'.format(model_name))\n",
    "# #     model.load_weights('../checkpoints/{0}.h5'.format(model_name), skip_mismatch=True, by_name=True)\n",
    "# # l.trainable = True"
   ]
  },
  {
   "cell_type": "code",
   "execution_count": 49,
   "metadata": {},
   "outputs": [],
   "source": [
    "# w_to_co\n",
    "# textNet.load_weights('../checkpoints/irv2_1dcnn_attention_text_module.h5')\n",
    "# imgNet.load_weights('../checkpoints/irv2_1dcnn_attention_img_module.h5')"
   ]
  },
  {
   "cell_type": "code",
   "execution_count": 53,
   "metadata": {
    "scrolled": true
   },
   "outputs": [],
   "source": [
    "loss_function =  tf.keras.losses.SparseCategoricalCrossentropy(from_logits=True)\n",
    "# model.summary()\n",
    "# model.compile(loss=loss_function, optimizer=adam,metrics=['accuracy'])\n",
    "imgNet.compile(loss=loss_function, optimizer=adam,metrics=['accuracy'])\n",
    "# model.load_weights('../checkpoints/{0}.h5'.format(model_name))"
   ]
  },
  {
   "cell_type": "code",
   "execution_count": 54,
   "metadata": {
    "scrolled": true
   },
   "outputs": [],
   "source": [
    "# SVG(model_to_dot(imgNet, show_layer_names=True, show_shapes=True,dpi=60,expand_nested=True).create(prog='dot', format='svg'))\n"
   ]
  },
  {
   "cell_type": "code",
   "execution_count": 55,
   "metadata": {
    "scrolled": true
   },
   "outputs": [],
   "source": [
    "model_json = imgNet.to_json()\n",
    "with open(\"../model_json/imageNet_visual_genome_{0}.json\".format(model_name), \"w\") as json_file:\n",
    "    json_file.write(model_json)\n"
   ]
  },
  {
   "cell_type": "code",
   "execution_count": 56,
   "metadata": {},
   "outputs": [
    {
     "data": {
      "text/plain": [
       "'vgg_img_attention'"
      ]
     },
     "execution_count": 56,
     "metadata": {},
     "output_type": "execute_result"
    }
   ],
   "source": [
    "model_name"
   ]
  },
  {
   "cell_type": "code",
   "execution_count": 57,
   "metadata": {},
   "outputs": [],
   "source": [
    "# im = 1\n",
    "# image = Image.open('../../dataset/train_images/VG_100K/{0}.jpg'.format(im))\n",
    "# image=image.convert('RGB')"
   ]
  },
  {
   "cell_type": "code",
   "execution_count": 58,
   "metadata": {},
   "outputs": [],
   "source": [
    "# img = image.resize((256,256),Image.BICUBIC)\n",
    "# print(np.asarray(img).shape)\n",
    "# plt.imshow(img)"
   ]
  },
  {
   "cell_type": "code",
   "execution_count": 59,
   "metadata": {},
   "outputs": [],
   "source": [
    "def datagen(img_lst,batch_size=4):\n",
    "    counter=0\n",
    "    x_img,x1,x2,y_seq,sents,masks, img_names = [],[],[],[],[],[],[]\n",
    "    idx = 0\n",
    "    while True:\n",
    "        im = img_lst[idx]\n",
    "#         print(im)\n",
    "        image = Image.open('../../dataset/train_images/VG_100K/{0}.jpg'.format(im))\n",
    "        image = image.convert('RGB')\n",
    "        photo = image.resize((256,256),Image.BICUBIC)\n",
    "        photo = np.asarray(photo)/255.0\n",
    "#         print('{0}.jpg -> '.format(im),photo.shape)\n",
    "#         print(merged_ds[merged_ds.filename==im])\n",
    "        sent = merged_ds[merged_ds.ID==im]['Desc'].values[0].lower()\n",
    "        \n",
    "        ts = nlp(sent)\n",
    "#         print(ts)\n",
    "        ts = [str(x) for x in list(ts)]\n",
    "#         print(tss)\n",
    "        ts = ts[:max_wlen-1]\n",
    "        sent_words = ['startseq']\n",
    "        for t in ts:\n",
    "#             print(t)\n",
    "#             t = 'sdadasasdasads'\n",
    "            if (t not in w_to_co.keys()) : #or ('xx' in t):\n",
    "#                 print('not present:',t)\n",
    "                pass\n",
    "            else:\n",
    "                sent_words.append(t)\n",
    "        sent_words.append('endseq')\n",
    "#         print(sent_words)\n",
    "\n",
    "        seq = [w_to_co[x] for x in sent_words]\n",
    "        # split one sequence into multiple X, y pairs\n",
    "#         for i in range(1, len(seq)):\n",
    "            \n",
    "#             in_seq, out_seq = seq[:i], seq[i]\n",
    "# #             print(out_seq)\n",
    "#             in_seq = sequence.pad_sequences([in_seq], maxlen=max_wlen,padding='pre',value=0)[0]\n",
    "#             mask = [1e-2 if x<1 else  1 for x in in_seq]\n",
    "#             mask = np.expand_dims(mask,-1)\n",
    "# #             out_seq = np_utils.to_categorical([out_seq], num_classes=vocab_size+1)[0]\n",
    "#             x1.append(photo)\n",
    "#             img_names.append('{0}.jpg'.format(im))\n",
    "#             x2.append(in_seq)\n",
    "#             masks.append(mask)\n",
    "#             y.append(out_seq)\n",
    "        seq = sequence.pad_sequences([seq], maxlen=max_wlen,padding='pre',value=0)[0]\n",
    "        sents.append(sent)\n",
    "        x_img.append(photo)\n",
    "        y_seq.append(seq)\n",
    "        img_names.append('{0}.jpg'.format(im))\n",
    "        counter+=1\n",
    "        idx+=1\n",
    "#         print(idx)\n",
    "        if idx==len(img_lst):\n",
    "            idx=0\n",
    "        if counter==batch_size:\n",
    "            counter=0\n",
    "            inputs = {'image_input': np.array(x_img)\n",
    "                      ,'image_names':np.array(img_names)\n",
    "                     }\n",
    "            outputs = {'target_words':np.expand_dims(np.array(y_seq),-1),\n",
    "                      'actual_sentence':np.array(sents)}\n",
    "            yield inputs, outputs\n",
    "            x_img,x1,x2,y_seq,sents,masks,img_names = [],[],[],[],[],[],[]"
   ]
  },
  {
   "cell_type": "code",
   "execution_count": 60,
   "metadata": {},
   "outputs": [
    {
     "name": "stdout",
     "output_type": "stream",
     "text": [
      "train: 35000 + val: 10000 + test: 5000  =  50000\n"
     ]
    }
   ],
   "source": [
    "\n",
    "\n",
    "with open('../../dataset/descriptions/visual_genome_train_images.p', 'rb') as filehandle:\n",
    "    # read the data as binary data stream\n",
    "    train_images_list = pickle.load(filehandle)\n",
    "with open('../../dataset/descriptions/visual_genome_val_images.p', 'rb') as filehandle:\n",
    "    # read the data as binary data stream\n",
    "    val_images_list = pickle.load(filehandle)\n",
    "with open('../../dataset/descriptions/visual_genome_test_images.p', 'rb') as filehandle:\n",
    "    # read the data as binary data stream\n",
    "    test_images_list = pickle.load(filehandle)\n",
    "# train_images_list=list(train_images_list)+list(val_images_list)\n",
    "print('train:',len(train_images_list),\n",
    "      '+ val:',len(val_images_list),\n",
    "      '+ test:',len(test_images_list),\n",
    "      ' = ',(len(train_images_list)+len(val_images_list)+len(test_images_list)))\n",
    "train_batch_size = 64\n",
    "val_batch_size = 64\n",
    "test_batch_size = 1\n",
    "train_gen = datagen(train_images_list,batch_size=train_batch_size)\n",
    "val_gen = datagen(val_images_list,batch_size=val_batch_size)\n",
    "test_gen = datagen(test_images_list,batch_size=test_batch_size)"
   ]
  },
  {
   "cell_type": "code",
   "execution_count": 61,
   "metadata": {},
   "outputs": [],
   "source": [
    "# # test_images_list = merged_ds.filename.values\n",
    "# # test_images_list = list(test_images_list)\n",
    "# # for x in train_images_list:\n",
    "# #     test_images_list.remove(x)\n",
    "# # for x in val_images_list:\n",
    "# #     test_images_list.remove(x)\n",
    "# # len(test_images_list)\n",
    "# imgs = merged_ds.ID.values\n",
    "# imgs"
   ]
  },
  {
   "cell_type": "code",
   "execution_count": 62,
   "metadata": {},
   "outputs": [],
   "source": [
    "\n",
    "# np.random.shuffle(imgs)\n",
    "\n",
    "# train_images_list = imgs[:int(0.7*len(imgs))]\n",
    "# val_images_list = imgs[int(0.7*len(imgs)):int(0.9*len(imgs))]\n",
    "# test_images_list = imgs[int(0.9*len(imgs)):]\n",
    "# train_images_list.shape,val_images_list.shape,test_images_list.shape\n",
    "# with open('../../dataset/descriptions/visual_genome_train_images.p', 'wb') as file:\n",
    "#     # store the data as binary data stream\n",
    "#     pickle.dump(train_images_list, file)\n",
    "# with open('../../dataset/descriptions/visual_genome_val_images.p', 'wb') as file:\n",
    "#     # store the data as binary data stream\n",
    "#     pickle.dump(val_images_list, file)\n",
    "# with open('../../dataset/descriptions/visual_genome_test_images.p', 'wb') as file:\n",
    "#     # store the data as binary data stream\n",
    "#     pickle.dump(test_images_list, file)\n",
    "# # # tx,ty = next(train_gen)\n",
    "# # # tx['padding_masks'][30].shape"
   ]
  },
  {
   "cell_type": "code",
   "execution_count": 63,
   "metadata": {
    "scrolled": true
   },
   "outputs": [],
   "source": [
    "\n",
    "# display(tx['image_input'].shape\n",
    "#         ,tx['words_input'][30]\n",
    "#         ,tx['padding_masks'][30]\n",
    "#         ,' '.join([co_to_w[x] if x !=0 else '' for x in tx['words_input'][30]])\n",
    "#         ,ty['actual_sentence'][30])\n",
    "# train_images_list=list(train_images_list)+list(val_images_list)"
   ]
  },
  {
   "cell_type": "code",
   "execution_count": 64,
   "metadata": {},
   "outputs": [
    {
     "data": {
      "text/plain": [
       "(5000, 35000)"
      ]
     },
     "execution_count": 64,
     "metadata": {},
     "output_type": "execute_result"
    }
   ],
   "source": [
    "len(test_images_list),len(train_images_list)"
   ]
  },
  {
   "cell_type": "code",
   "execution_count": 65,
   "metadata": {},
   "outputs": [],
   "source": [
    "# # def _ctc_lambda_func(args):\n",
    "# #     labels, y_pred, input_length, label_length = args\n",
    "# #     return K.tf.keras.backend.ctc_batch_cost(labels, y_pred, input_length, label_length)\n",
    "# vggnet.summary()\n",
    "# w_to_co['xxxx']\n",
    "\n",
    "# np.clip(0,a_max=1,a_min=1e-8)\n"
   ]
  },
  {
   "cell_type": "code",
   "execution_count": 66,
   "metadata": {
    "scrolled": true
   },
   "outputs": [
    {
     "data": {
      "text/html": [
       "<div>\n",
       "<style scoped>\n",
       "    .dataframe tbody tr th:only-of-type {\n",
       "        vertical-align: middle;\n",
       "    }\n",
       "\n",
       "    .dataframe tbody tr th {\n",
       "        vertical-align: top;\n",
       "    }\n",
       "\n",
       "    .dataframe thead th {\n",
       "        text-align: right;\n",
       "    }\n",
       "</style>\n",
       "<table border=\"1\" class=\"dataframe\">\n",
       "  <thead>\n",
       "    <tr style=\"text-align: right;\">\n",
       "      <th></th>\n",
       "      <th>ID</th>\n",
       "      <th>Desc</th>\n",
       "    </tr>\n",
       "  </thead>\n",
       "  <tbody>\n",
       "    <tr>\n",
       "      <th>0</th>\n",
       "      <td>1</td>\n",
       "      <td>the clock is green in colour. shade is along the street . man is wearing sneakers. cars headlights are off. bikes are parked at the far edge. A sign on the facade of the building. A tree trunk on the sidewalk. A man in a red shirt. A brick sidewalk beside the street. The back of a white car.</td>\n",
       "    </tr>\n",
       "    <tr>\n",
       "      <th>1</th>\n",
       "      <td>2</td>\n",
       "      <td>walk sign is lit up. man wearing silver backpack. red car parked on road. 3 green trees line street. crosswalk. A bricked sidewalk. . A building with a lot of glass windows. . A white car parked on the side of the road. . A white street light. . A sign on the side of the road. .</td>\n",
       "    </tr>\n",
       "    <tr>\n",
       "      <th>2</th>\n",
       "      <td>3</td>\n",
       "      <td>multi-line office phone system. electrical and data line outlets. desktop CPU, monitor and keyboard. two-drawer filing cabinet. black leather computer case. A computer keyboard and mouse. A wireless telephone on its base. A computer tower under a desk. A file cabinet next to the desk. A multiple outlet with several plugs in it.</td>\n",
       "    </tr>\n",
       "    <tr>\n",
       "      <th>3</th>\n",
       "      <td>4</td>\n",
       "      <td>Blue curtains with sailboats on them. A black chair with blue padding. A white sofa pillow. . Plush gray carpet on the floor. A wooden desk. a white pillow is on the couch. a teddy bear lies against a pillow. a blue curtain is drawn. the couch is mainly purple in color. the top of the table is made of glass.</td>\n",
       "    </tr>\n",
       "    <tr>\n",
       "      <th>4</th>\n",
       "      <td>5</td>\n",
       "      <td>the floor is wooden. white cables are on the floor. wooden chairs are empty. the wall is white. light has been switched on. books are on the shelf. this is a white wall. area is clutered with paper. the chair is brown in color. the computer  monitor is switched off.</td>\n",
       "    </tr>\n",
       "  </tbody>\n",
       "</table>\n",
       "</div>"
      ],
      "text/plain": [
       "   ID  \\\n",
       "0   1   \n",
       "1   2   \n",
       "2   3   \n",
       "3   4   \n",
       "4   5   \n",
       "\n",
       "                                                                                                                                                                                                                                                                                                                                        Desc  \n",
       "0                                       the clock is green in colour. shade is along the street . man is wearing sneakers. cars headlights are off. bikes are parked at the far edge. A sign on the facade of the building. A tree trunk on the sidewalk. A man in a red shirt. A brick sidewalk beside the street. The back of a white car.  \n",
       "1                                                    walk sign is lit up. man wearing silver backpack. red car parked on road. 3 green trees line street. crosswalk. A bricked sidewalk. . A building with a lot of glass windows. . A white car parked on the side of the road. . A white street light. . A sign on the side of the road. .  \n",
       "2  multi-line office phone system. electrical and data line outlets. desktop CPU, monitor and keyboard. two-drawer filing cabinet. black leather computer case. A computer keyboard and mouse. A wireless telephone on its base. A computer tower under a desk. A file cabinet next to the desk. A multiple outlet with several plugs in it.  \n",
       "3                      Blue curtains with sailboats on them. A black chair with blue padding. A white sofa pillow. . Plush gray carpet on the floor. A wooden desk. a white pillow is on the couch. a teddy bear lies against a pillow. a blue curtain is drawn. the couch is mainly purple in color. the top of the table is made of glass.  \n",
       "4                                                                 the floor is wooden. white cables are on the floor. wooden chairs are empty. the wall is white. light has been switched on. books are on the shelf. this is a white wall. area is clutered with paper. the chair is brown in color. the computer  monitor is switched off.  "
      ]
     },
     "execution_count": 66,
     "metadata": {},
     "output_type": "execute_result"
    }
   ],
   "source": [
    "# print(co_to_w[273])\n",
    "# print(embedding_matrix[1380])\n",
    "# for u,v in zip(tx['words_input'][0],tx['padding_masks'][0]):\n",
    "#     print(u,v)\n",
    "pd.options.display.max_colwidth=1000\n",
    "merged_ds.head()"
   ]
  },
  {
   "cell_type": "code",
   "execution_count": 67,
   "metadata": {},
   "outputs": [],
   "source": [
    "# c1= Model(textNet.inputs,textNet.get_layer('c1').output)\n",
    "# c1f = c1.predict(vx)\n",
    "# c2= Model(textNet.inputs,textNet.get_layer('c2').output)\n",
    "# c2f = c2.predict(vx)\n",
    "# emb_bn= Model(textNet.inputs,textNet.get_layer('emb_bn').output)\n",
    "# emb_bnf = emb_bn.predict(vx)"
   ]
  },
  {
   "cell_type": "code",
   "execution_count": 68,
   "metadata": {
    "scrolled": true
   },
   "outputs": [],
   "source": [
    "# display(pd.DataFrame(c1f[0]))\n",
    "# display(pd.DataFrame(c2f[0]))\n",
    "# display(pd.DataFrame(emb_bnf[0]))"
   ]
  },
  {
   "cell_type": "code",
   "execution_count": 69,
   "metadata": {
    "scrolled": true
   },
   "outputs": [],
   "source": [
    "# att = np.random.randint(1,10,(4,5,5))\n",
    "# mask = 1-np.triu(np.ones((4,5,5)),k=1)\n",
    "# att*mask\n",
    "tr_x,tr_y = next(train_gen)\n",
    "val_x,val_y = next(val_gen)"
   ]
  },
  {
   "cell_type": "code",
   "execution_count": 70,
   "metadata": {},
   "outputs": [
    {
     "data": {
      "text/plain": [
       "(64, 256, 256, 3)"
      ]
     },
     "execution_count": 70,
     "metadata": {},
     "output_type": "execute_result"
    }
   ],
   "source": [
    "val_x['image_input'].shape"
   ]
  },
  {
   "cell_type": "code",
   "execution_count": 71,
   "metadata": {},
   "outputs": [
    {
     "name": "stdout",
     "output_type": "stream",
     "text": [
      "0.0 1.0\n"
     ]
    },
    {
     "data": {
      "image/png": "[encoded data removed]",
      "text/plain": [
       "<Figure size 432x288 with 1 Axes>"
      ]
     },
     "metadata": {
      "needs_background": "light"
     },
     "output_type": "display_data"
    }
   ],
   "source": [
    "img = val_x['image_input'][1]\n",
    "plt.imshow(img)\n",
    "print(img.min(),img.max())"
   ]
  },
  {
   "cell_type": "code",
   "execution_count": 72,
   "metadata": {
    "scrolled": true
   },
   "outputs": [
    {
     "data": {
      "text/plain": [
       "(64, 60, 1)"
      ]
     },
     "execution_count": 72,
     "metadata": {},
     "output_type": "execute_result"
    }
   ],
   "source": [
    "val_y['target_words'].shape\n"
   ]
  },
  {
   "cell_type": "code",
   "execution_count": 73,
   "metadata": {
    "scrolled": true
   },
   "outputs": [
    {
     "name": "stdout",
     "output_type": "stream",
     "text": [
      "--- 0 ---\n",
      "[2370764.jpg], input_seq: a clock mounted to a wall . a sign on a wall . a blue support beam . a wooden pillar in a building . bars across a window . a light in a ceiling . a light at the bottom of a pole . a bar at an entrance . writing on a sign . a bright light endseq\n",
      "--- 1 ---\n",
      "[2391849.jpg], input_seq: two directional signs over highway . bridge over highway in photo . golden dog being walked on leash . many people walking on highway . many people walking on grass . green sign with two white arrows pointing down . green sign with yellow exit sign on it . person wearing red rain poncho . roads are wet in endseq\n",
      "--- 2 ---\n",
      "[2385100.jpg], input_seq: people walking a curved and steep sidewalk . round traffic signs on a pole . metal railing on inside of curb . trees on top of plant - covered slope . woman using open umbrella on sunny day . cars parked on side of street . windowed building seen through trees . rectangular gray buildings on side of street endseq\n",
      "--- 3 ---\n",
      "[2406296.jpg], input_seq: a clock 's minute hand . a clock 's hour hand . a clear blue sky . an old stone building . an old outdoor clock . a small open window . an off white clock face . the number 12 in roman numerals . the number 6 in roman numerals . the number 9 in roman numerals . endseq\n",
      "--- 4 ---\n",
      "[2375700.jpg], input_seq: the boy is wearing a captains hat . the button is gold . the tray is white . the cupcake is chocolate . the spoon is blue . the hay is blue white and yellow . the boy has a crumb ob his upper lip . the crumbs are on the tray . the top frosting is white and endseq\n",
      "--- 5 ---\n",
      "[2371816.jpg], input_seq: the number three on keypad . the number six on keypad . the number nine on keyboard . the hinge on a cell phone . the keypad on a cell phone . a human thumb . the number four on a keypad . the end button on cell phone . the volume button on cell phone . up arrow endseq\n",
      "--- 6 ---\n",
      "[2382842.jpg], input_seq: a baseball player pitching . a baseball player in the pitcher 's circle . baseball player on baseball field . a red and white uniform . red and white baseball uniform . a baseball player wearing a uniform . a man playing baseball . a man pitching a   baseball . a man throwing a baseball . a man endseq\n",
      "--- 7 ---\n",
      "[2371534.jpg], input_seq: <pad> <pad> startseq the head of the woman . the arm of the woman . the hand of the woman . the leg of the woman . a white tennis shoe . a tennis racket . a green tennis ball . a white visor on the woman . a woman on the court . a red tennis dress . endseq\n",
      "--- 8 ---\n",
      "[2382511.jpg], input_seq: <pad> <pad> <pad> <pad> <pad> <pad> <pad> startseq shadow of a man holding a ski board . sky is bright blue . person carries snowboard . snow is white and frozen . sun shines on snow . person carries skis on back . person carries pole . snow is frozen . mountains in background . snow is blue . endseq\n",
      "--- 9 ---\n",
      "[2382788.jpg], input_seq: the man sitting . the bag in front of the man . the long sleeved blue shirt . the dark green bag next to the man . the blue letters on the man 's bag . the letters on the man 's shirt . the man 's black shirt . the man 's shoes . the cobblestone alley . endseq\n"
     ]
    }
   ],
   "source": [
    "for i in range(10):\n",
    "    print('---',i,'---')\n",
    "    print('['+val_x['image_names'][i]+'], input_seq:',' '.join([co_to_w[x[0]] if x[0]>0 else '<pad>' for x in val_y['target_words'][i]]))"
   ]
  },
  {
   "cell_type": "code",
   "execution_count": 109,
   "metadata": {
    "scrolled": true
   },
   "outputs": [
    {
     "data": {
      "text/plain": [
       "array([-5.75450009e-02, -8.45708980e-01, -4.15130018e-02,  6.09540986e-01,\n",
       "        3.41790991e-01,  6.52820991e-01,  5.06610976e-01, -1.36098994e-01,\n",
       "       -3.52848990e-01, -8.89038993e-01, -3.44089015e-01,  1.98641004e-01,\n",
       "       -8.05399014e-01, -1.43269001e-01, -2.83968998e-01, -5.99079026e-01,\n",
       "        4.05319983e-02, -7.48350008e-02,  4.18041007e-01, -4.80029000e-01,\n",
       "        4.50941013e-01, -1.62578998e-01, -4.01569998e-02,  2.14321004e-01,\n",
       "        2.55931007e-01, -5.36669029e-01,  7.92329998e-02,  7.43790971e-01,\n",
       "        3.00990985e-01,  1.62920998e-01,  4.25631003e-01, -7.16288997e-01,\n",
       "       -2.20769001e-01, -7.79810010e-02,  1.23560996e-01,  4.27290993e-01,\n",
       "        3.96291004e-01, -7.29899002e-01, -4.18488993e-01, -7.89698972e-01,\n",
       "       -4.60720009e-02,  4.33630990e-01,  2.90550994e-01,  2.82580988e-01,\n",
       "       -2.07708998e-01, -4.50419991e-02,  2.56061004e-01,  9.20519994e-02,\n",
       "        3.37831007e-01,  3.05481003e-01, -3.87698991e-01,  6.15949982e-02,\n",
       "        6.59260975e-01,  1.61541002e-01, -6.53690009e-02,  2.35641004e-01,\n",
       "        1.11461000e-01,  6.97940992e-01,  2.40000000e-02,  4.48230006e-04,\n",
       "       -2.77178986e-01,  9.19521020e-01, -3.16259010e-01, -4.32189001e-01,\n",
       "       -2.12739004e-01, -9.61448981e-01,  2.46261002e-01, -4.00729014e-01,\n",
       "       -3.53708996e-01, -2.86618991e-01, -5.82569016e-01,  6.31970988e-01,\n",
       "       -6.50429024e-01,  5.60411023e-01,  2.37781005e-01, -8.82949008e-01,\n",
       "        8.77200009e-02,  2.00471001e-01,  5.55340992e-01,  2.76781009e-01,\n",
       "       -3.37369008e-01, -3.45769001e-01, -7.36849023e-01,  2.87511008e-01,\n",
       "       -1.12979001e-01,  7.46130990e-01,  8.34920989e-01, -1.21139903e+00,\n",
       "       -3.80718990e-01, -3.30708994e-01,  1.81811006e-01, -1.88719003e-01,\n",
       "        6.77381025e-01, -2.47359006e-01,  9.43159999e-02,  9.93410991e-01,\n",
       "       -2.93768985e-01, -5.00288977e-01, -3.02549994e-02, -2.92469008e-01,\n",
       "       -2.73868991e-01,  9.37970983e-01, -9.48108984e-01,  3.80971001e-01,\n",
       "        6.87490986e-01, -4.29508997e-01, -1.56158997e-01, -4.76169003e-01,\n",
       "       -2.43649004e-01,  1.95320995e-01, -8.61100017e-02, -5.91969026e-01,\n",
       "        1.59931006e-01,  4.52029982e-02,  5.45420991e-01, -2.69058986e-01,\n",
       "        1.34241001e-01,  4.74810011e-04,  2.00801002e-01, -7.65658988e-01,\n",
       "        3.22980003e-02,  8.89469978e-04,  2.99089996e-02,  1.43300997e-01,\n",
       "       -3.28679009e-01,  3.10131000e-01,  7.42061006e-01,  6.50090979e-01,\n",
       "        1.10560100e+00, -4.19799013e-01, -4.23750004e-02, -3.25149013e-01,\n",
       "       -7.83030002e-02, -8.54470046e-03,  1.80890994e-01,  3.91730012e-02,\n",
       "       -3.62719013e-01, -4.94669004e-01, -9.12359013e-01,  2.65591012e-01,\n",
       "       -8.23028995e-01, -4.09488989e-01, -3.68029012e-01,  2.19431000e-01,\n",
       "        3.08161007e-01,  3.98931013e-01,  3.86850999e-01,  4.73501013e-01,\n",
       "       -1.09749897e+00,  1.80481003e-01,  6.04381012e-01, -5.07609023e-01,\n",
       "        7.94991003e-01, -8.22940006e-02,  5.91271030e-01,  6.55749978e-02,\n",
       "        5.03770017e-02,  2.45520996e-01,  5.28591024e-01, -8.12398983e-01,\n",
       "       -1.71789004e-01,  5.17269985e-02,  3.14899997e-02,  4.57439998e-02,\n",
       "        6.65110992e-01,  4.17231010e-01, -7.98258974e-01,  8.82890986e-01,\n",
       "       -5.39609028e-01,  2.38041000e-01,  3.72881012e-01, -8.11780004e-02,\n",
       "        1.32621007e-01,  3.32390012e-02,  1.07911000e-01,  2.52221005e-01,\n",
       "        2.02460007e-02,  3.69730012e-02, -5.72798981e-01, -2.22838996e-01,\n",
       "        1.84661003e-01, -1.19349001e-01, -3.46899985e-02, -9.70779015e-01,\n",
       "        2.50520991e-01,  3.21400987e-01, -9.71929027e-01,  2.36111002e-01,\n",
       "       -8.52190016e-02,  2.32709998e-02,  3.47791003e-01,  5.33709989e-02,\n",
       "       -1.93938999e-01, -2.99759014e-01, -2.09249003e-01, -2.47829003e-01,\n",
       "       -1.33628993e-01, -5.22609009e-01,  4.42161010e-01,  4.05230986e-01,\n",
       "        4.09320997e-01,  6.81401001e-01,  5.23570010e-02, -9.38409998e-02,\n",
       "        9.57790033e-02, -5.43348981e-01,  5.98801004e-01, -1.71779005e-01,\n",
       "       -4.80339004e-01, -1.99969007e-01, -1.95658995e-01, -1.64909004e-01,\n",
       "       -3.31628992e-01,  7.50700997e-01, -6.50849997e-02, -3.81190016e-02,\n",
       "        8.13741015e-01,  5.30100988e-01,  3.71081011e-01,  4.10110997e-01,\n",
       "       -7.60658993e-01,  4.33769987e-02,  1.71940008e-02, -5.30000015e-02,\n",
       "        5.63951002e-01,  4.68671011e-01, -4.73178996e-01,  3.65201013e-01,\n",
       "       -8.11749979e-02, -5.41908993e-01, -3.75699998e-03, -1.30918993e-01,\n",
       "       -2.30968995e-01, -4.48198987e-01,  8.63500030e-02,  1.46531002e-01,\n",
       "        1.66420998e-01,  1.17491001e-01, -4.74369003e-01,  4.91120012e-02,\n",
       "        3.88411002e-01,  2.36981006e-01,  4.38271003e-01, -1.62679000e-01,\n",
       "       -3.30748989e-01,  4.14461003e-01,  2.14561002e-01, -5.06568982e-01,\n",
       "       -4.07999999e-02,  5.79120980e-01, -2.92359008e-01, -3.79719002e-01,\n",
       "       -4.69558997e-01,  4.25391005e-01,  5.38870001e-02,  2.47910993e-01,\n",
       "       -4.47078986e-01,  1.77740993e-01,  3.75001000e-01, -1.18269002e-01,\n",
       "       -2.12839006e-01,  6.75491022e-01,  1.06661001e-01,  8.39071022e-01,\n",
       "       -5.79749001e-01, -5.67308976e-01,  2.98360990e-01, -3.17408992e-01,\n",
       "       -9.65498997e-01,  8.23661016e-01, -7.00398995e-01, -6.55710010e-02,\n",
       "       -6.31448997e-01,  4.36041014e-01,  2.95609997e-02,  1.12370999e-01,\n",
       "        1.05141001e-01, -4.26689012e-01, -1.12859002e-01,  4.43801002e-01,\n",
       "       -4.06708999e-01,  2.68910991e-01, -5.53029014e-01, -4.16459007e-01,\n",
       "       -5.78619017e-01,  6.48001002e-01, -1.33238999e-01, -5.90008987e-01,\n",
       "        2.22351001e-01, -9.03249963e-02,  1.95110993e-01, -8.74468995e-01,\n",
       "       -5.66249026e-01,  1.38201000e-01,  1.23660104e+00, -1.04868999e-01,\n",
       "        3.68810998e-01, -4.13678987e-01, -8.56648995e-01,  2.05511005e-01])"
      ]
     },
     "execution_count": 109,
     "metadata": {},
     "output_type": "execute_result"
    }
   ],
   "source": [
    "# # print(vx['words_input'][1])\n",
    "# # embedding_matrix[105]\n",
    "embedding_matrix[7073]"
   ]
  },
  {
   "cell_type": "code",
   "execution_count": 75,
   "metadata": {},
   "outputs": [],
   "source": [
    "# emb = Model(textNet.inputs[0],textNet.get_layer('w2v_emb').output)\n",
    "# emb.summary()\n"
   ]
  },
  {
   "cell_type": "code",
   "execution_count": 110,
   "metadata": {
    "scrolled": true
   },
   "outputs": [
    {
     "data": {
      "text/plain": [
       "array([-5.7546e-02, -8.4571e-01, -4.1514e-02,  6.0954e-01,  3.4179e-01,\n",
       "        6.5282e-01,  5.0661e-01, -1.3610e-01, -3.5285e-01, -8.8904e-01,\n",
       "       -3.4409e-01,  1.9864e-01, -8.0540e-01, -1.4327e-01, -2.8397e-01,\n",
       "       -5.9908e-01,  4.0531e-02, -7.4836e-02,  4.1804e-01, -4.8003e-01,\n",
       "        4.5094e-01, -1.6258e-01, -4.0158e-02,  2.1432e-01,  2.5593e-01,\n",
       "       -5.3667e-01,  7.9232e-02,  7.4379e-01,  3.0099e-01,  1.6292e-01,\n",
       "        4.2563e-01, -7.1629e-01, -2.2077e-01, -7.7982e-02,  1.2356e-01,\n",
       "        4.2729e-01,  3.9629e-01, -7.2990e-01, -4.1849e-01, -7.8970e-01,\n",
       "       -4.6073e-02,  4.3363e-01,  2.9055e-01,  2.8258e-01, -2.0771e-01,\n",
       "       -4.5043e-02,  2.5606e-01,  9.2051e-02,  3.3783e-01,  3.0548e-01,\n",
       "       -3.8770e-01,  6.1594e-02,  6.5926e-01,  1.6154e-01, -6.5370e-02,\n",
       "        2.3564e-01,  1.1146e-01,  6.9794e-01,  2.3999e-02,  4.4723e-04,\n",
       "       -2.7718e-01,  9.1952e-01, -3.1626e-01, -4.3219e-01, -2.1274e-01,\n",
       "       -9.6145e-01,  2.4626e-01, -4.0073e-01, -3.5371e-01, -2.8662e-01,\n",
       "       -5.8257e-01,  6.3197e-01, -6.5043e-01,  5.6041e-01,  2.3778e-01,\n",
       "       -8.8295e-01,  8.7719e-02,  2.0047e-01,  5.5534e-01,  2.7678e-01,\n",
       "       -3.3737e-01, -3.4577e-01, -7.3685e-01,  2.8751e-01, -1.1298e-01,\n",
       "        7.4613e-01,  8.3492e-01, -1.2114e+00, -3.8072e-01, -3.3071e-01,\n",
       "        1.8181e-01, -1.8872e-01,  6.7738e-01, -2.4736e-01,  9.4315e-02,\n",
       "        9.9341e-01, -2.9377e-01, -5.0029e-01, -3.0256e-02, -2.9247e-01,\n",
       "       -2.7387e-01,  9.3797e-01, -9.4811e-01,  3.8097e-01,  6.8749e-01,\n",
       "       -4.2951e-01, -1.5616e-01, -4.7617e-01, -2.4365e-01,  1.9532e-01,\n",
       "       -8.6111e-02, -5.9197e-01,  1.5993e-01,  4.5202e-02,  5.4542e-01,\n",
       "       -2.6906e-01,  1.3424e-01,  4.7381e-04,  2.0080e-01, -7.6566e-01,\n",
       "        3.2297e-02,  8.8847e-04,  2.9908e-02,  1.4330e-01, -3.2868e-01,\n",
       "        3.1013e-01,  7.4206e-01,  6.5009e-01,  1.1056e+00, -4.1980e-01,\n",
       "       -4.2376e-02, -3.2515e-01, -7.8304e-02, -8.5457e-03,  1.8089e-01,\n",
       "        3.9172e-02, -3.6272e-01, -4.9467e-01, -9.1236e-01,  2.6559e-01,\n",
       "       -8.2303e-01, -4.0949e-01, -3.6803e-01,  2.1943e-01,  3.0816e-01,\n",
       "        3.9893e-01,  3.8685e-01,  4.7350e-01, -1.0975e+00,  1.8048e-01,\n",
       "        6.0438e-01, -5.0761e-01,  7.9499e-01, -8.2295e-02,  5.9127e-01,\n",
       "        6.5574e-02,  5.0376e-02,  2.4552e-01,  5.2859e-01, -8.1240e-01,\n",
       "       -1.7179e-01,  5.1726e-02,  3.1489e-02,  4.5743e-02,  6.6511e-01,\n",
       "        4.1723e-01, -7.9826e-01,  8.8289e-01, -5.3961e-01,  2.3804e-01,\n",
       "        3.7288e-01, -8.1179e-02,  1.3262e-01,  3.3238e-02,  1.0791e-01,\n",
       "        2.5222e-01,  2.0245e-02,  3.6972e-02, -5.7280e-01, -2.2284e-01,\n",
       "        1.8466e-01, -1.1935e-01, -3.4691e-02, -9.7078e-01,  2.5052e-01,\n",
       "        3.2140e-01, -9.7193e-01,  2.3611e-01, -8.5220e-02,  2.3270e-02,\n",
       "        3.4779e-01,  5.3370e-02, -1.9394e-01, -2.9976e-01, -2.0925e-01,\n",
       "       -2.4783e-01, -1.3363e-01, -5.2261e-01,  4.4216e-01,  4.0523e-01,\n",
       "        4.0932e-01,  6.8140e-01,  5.2356e-02, -9.3842e-02,  9.5778e-02,\n",
       "       -5.4335e-01,  5.9880e-01, -1.7178e-01, -4.8034e-01, -1.9997e-01,\n",
       "       -1.9566e-01, -1.6491e-01, -3.3163e-01,  7.5070e-01, -6.5086e-02,\n",
       "       -3.8120e-02,  8.1374e-01,  5.3010e-01,  3.7108e-01,  4.1011e-01,\n",
       "       -7.6066e-01,  4.3376e-02,  1.7193e-02, -5.3001e-02,  5.6395e-01,\n",
       "        4.6867e-01, -4.7318e-01,  3.6520e-01, -8.1176e-02, -5.4191e-01,\n",
       "       -3.7580e-03, -1.3092e-01, -2.3097e-01, -4.4820e-01,  8.6349e-02,\n",
       "        1.4653e-01,  1.6642e-01,  1.1749e-01, -4.7437e-01,  4.9111e-02,\n",
       "        3.8841e-01,  2.3698e-01,  4.3827e-01, -1.6268e-01, -3.3075e-01,\n",
       "        4.1446e-01,  2.1456e-01, -5.0657e-01, -4.0801e-02,  5.7912e-01,\n",
       "       -2.9236e-01, -3.7972e-01, -4.6956e-01,  4.2539e-01,  5.3886e-02,\n",
       "        2.4791e-01, -4.4708e-01,  1.7774e-01,  3.7500e-01, -1.1827e-01,\n",
       "       -2.1284e-01,  6.7549e-01,  1.0666e-01,  8.3907e-01, -5.7975e-01,\n",
       "       -5.6731e-01,  2.9836e-01, -3.1741e-01, -9.6550e-01,  8.2366e-01,\n",
       "       -7.0040e-01, -6.5572e-02, -6.3145e-01,  4.3604e-01,  2.9560e-02,\n",
       "        1.1237e-01,  1.0514e-01, -4.2669e-01, -1.1286e-01,  4.4380e-01,\n",
       "       -4.0671e-01,  2.6891e-01, -5.5303e-01, -4.1646e-01, -5.7862e-01,\n",
       "        6.4800e-01, -1.3324e-01, -5.9001e-01,  2.2235e-01, -9.0326e-02,\n",
       "        1.9511e-01, -8.7447e-01, -5.6625e-01,  1.3820e-01,  1.2366e+00,\n",
       "       -1.0487e-01,  3.6881e-01, -4.1368e-01, -8.5665e-01,  2.0551e-01],\n",
       "      dtype=float32)"
      ]
     },
     "execution_count": 110,
     "metadata": {},
     "output_type": "execute_result"
    }
   ],
   "source": [
    "nlp('manin').vector"
   ]
  },
  {
   "cell_type": "code",
   "execution_count": 77,
   "metadata": {
    "scrolled": true
   },
   "outputs": [],
   "source": [
    "# emb_out = emb.predict(val_x['words_input'])\n",
    "# display(pd.DataFrame(emb_out[1]))"
   ]
  },
  {
   "cell_type": "code",
   "execution_count": 78,
   "metadata": {},
   "outputs": [],
   "source": [
    "n_gpu\n",
    "\n",
    "# losses = {\n",
    "#     'cross_pool_target_word':loss_function\n",
    "#     ,'pool_target_word':loss_function\n",
    "# }\n",
    "imgNet.load_weights('../checkpoints/vgg_1dcnn_img_module_vis_gen.h5',skip_mismatch=True,by_name=True)"
   ]
  },
  {
   "cell_type": "code",
   "execution_count": 79,
   "metadata": {
    "scrolled": true
   },
   "outputs": [],
   "source": [
    "parallel_model=multi_gpu_model(imgNet, gpus=n_gpu)\n"
   ]
  },
  {
   "cell_type": "code",
   "execution_count": 80,
   "metadata": {
    "scrolled": true
   },
   "outputs": [
    {
     "name": "stdout",
     "output_type": "stream",
     "text": [
      "Model: \"model_1\"\n",
      "__________________________________________________________________________________________________\n",
      "Layer (type)                    Output Shape         Param #     Connected to                     \n",
      "==================================================================================================\n",
      "image_input (InputLayer)        (None, 256, 256, 3)  0                                            \n",
      "__________________________________________________________________________________________________\n",
      "positional_encoding (InputLayer (None, 60, 512)      0                                            \n",
      "__________________________________________________________________________________________________\n",
      "lambda_4 (Lambda)               (None, 256, 256, 3)  0           image_input[0][0]                \n",
      "__________________________________________________________________________________________________\n",
      "lambda_5 (Lambda)               (None, 60, 512)      0           positional_encoding[0][0]        \n",
      "__________________________________________________________________________________________________\n",
      "lambda_6 (Lambda)               (None, 256, 256, 3)  0           image_input[0][0]                \n",
      "__________________________________________________________________________________________________\n",
      "lambda_7 (Lambda)               (None, 60, 512)      0           positional_encoding[0][0]        \n",
      "__________________________________________________________________________________________________\n",
      "lambda_8 (Lambda)               (None, 256, 256, 3)  0           image_input[0][0]                \n",
      "__________________________________________________________________________________________________\n",
      "lambda_9 (Lambda)               (None, 60, 512)      0           positional_encoding[0][0]        \n",
      "__________________________________________________________________________________________________\n",
      "imgModel (Model)                (None, 60, 20795)    26237819    lambda_4[0][0]                   \n",
      "                                                                 lambda_5[0][0]                   \n",
      "                                                                 lambda_6[0][0]                   \n",
      "                                                                 lambda_7[0][0]                   \n",
      "                                                                 lambda_8[0][0]                   \n",
      "                                                                 lambda_9[0][0]                   \n",
      "__________________________________________________________________________________________________\n",
      "dense_372 (Concatenate)         (None, 60, 20795)    0           imgModel[1][0]                   \n",
      "                                                                 imgModel[2][0]                   \n",
      "                                                                 imgModel[3][0]                   \n",
      "==================================================================================================\n",
      "Total params: 26,237,819\n",
      "Trainable params: 26,204,155\n",
      "Non-trainable params: 33,664\n",
      "__________________________________________________________________________________________________\n"
     ]
    }
   ],
   "source": [
    "\n",
    "parallel_model.compile(loss=loss_function,optimizer=adam,metrics=['accuracy']) #For multi GPU\n",
    "parallel_model.summary()"
   ]
  },
  {
   "cell_type": "code",
   "execution_count": 81,
   "metadata": {},
   "outputs": [
    {
     "name": "stdout",
     "output_type": "stream",
     "text": [
      "training vgg_img_attention for 50 epochs\n"
     ]
    }
   ],
   "source": [
    "# mc=ModelCheckpoint(filepath='../checkpoints/vgg16_lstm_words.h5',monitor='val_loss',period=1,save_best_only=True,save_weights_only=True,mode='auto',verbose=3)\n",
    "# es=EarlyStopping(patience=300,monitor='val_loss',min_delta=0.0001,mode='auto')\n",
    "\n",
    "print('training {0} for {1} epochs'.format(model_name,EPOCHS))\n",
    "# lr = K.eval(parallel_model.optimizer.lr)\n",
    "# decay = 1e-3"
   ]
  },
  {
   "cell_type": "code",
   "execution_count": 82,
   "metadata": {},
   "outputs": [],
   "source": [
    "def CheckSelfAttention(input_data,labels):\n",
    "    _,words_input,padding_masks=input_data\n",
    "    for i in range(words_input.shape[0]):\n",
    "        print('-*-*-',i,'-*-*-')\n",
    "        print('input_seq:',', '.join(['<None> {0}'.format(y) if x==0 else '<{0}> {1}'.format(co_to_w[x],y) for x,y in zip(words_input[i],padding_masks[i])]),', \\t next_word:',co_to_w[labels[i]])\n",
    "#     c1 = Model(textNet.inputs,textNet.get_layer('c1').output)\n",
    "    concat_sa_1 = Model(textNet.inputs,textNet.get_layer('sa11').output)\n",
    "    residual_combine_sa_1 =  Model(textNet.inputs,textNet.get_layer('residual_combine_selfattn_1').output)\n",
    "    t2i_concat_1 = Model(model.inputs,model.get_layer('text2img_concat_1').output)\n",
    "    \n",
    "    return [\n",
    "#         c1.predict(input_data),\n",
    "        concat_sa_1.predict(input_data[1:]),\n",
    "        residual_combine_sa_1.predict(input_data[1:]),\n",
    "        t2i_concat_1.predict(input_data)\n",
    "            , textNet.predict(input_data[1:])]\n",
    "#     print(concat_sa_2)\n",
    "    \n",
    "def ReduceLROnPlateau(decay=0.5):\n",
    "    old_lr = K.eval(parallel_model.optimizer.lr)\n",
    "    new_lr = old_lr * decay\n",
    "    return old_lr,new_lr"
   ]
  },
  {
   "cell_type": "code",
   "execution_count": 83,
   "metadata": {},
   "outputs": [],
   "source": [
    "\n",
    "pos_encoding = positional_encoding(max_wlen, dimensions=512)\n",
    "# ReduceLROnPlateau()\n",
    "pos_encoding = np.repeat(pos_encoding,repeats=train_batch_size,axis=0)"
   ]
  },
  {
   "cell_type": "code",
   "execution_count": 84,
   "metadata": {},
   "outputs": [],
   "source": [
    "patience = 2\n",
    "patience_counter = 0\n",
    "min_delta = 0.001"
   ]
  },
  {
   "cell_type": "code",
   "execution_count": 104,
   "metadata": {
    "scrolled": true
   },
   "outputs": [
    {
     "name": "stdout",
     "output_type": "stream",
     "text": [
      "E:  1/50, tr_loss:6.3811, tr_acc:0.1294, v_loss:111.7857, v_acc:0.0275, lr:0.000100 [1206.00 s/e] (min_v_loss:100.0000)\n"
     ]
    },
    {
     "data": {
      "application/vnd.jupyter.widget-view+json": {
       "model_id": "38ef09feca594107bb3520e458717335",
       "version_major": 2,
       "version_minor": 0
      },
      "text/plain": [
       "HBox(children=(FloatProgress(value=0.0, description='Train_Iter', max=547.0, style=ProgressStyle(description_w…"
      ]
     },
     "metadata": {},
     "output_type": "display_data"
    },
    {
     "name": "stdout",
     "output_type": "stream",
     "text": [
      "Train Iter: 15/547, tr_loss:5.5062, tr_acc:0.1051 (min_v_loss:100.0000)\n"
     ]
    },
    {
     "ename": "KeyboardInterrupt",
     "evalue": "",
     "output_type": "error",
     "traceback": [
      "\u001b[0;31m---------------------------------------------------------------------------\u001b[0m",
      "\u001b[0;31mKeyboardInterrupt\u001b[0m                         Traceback (most recent call last)",
      "\u001b[0;32m<ipython-input-104-d05547f54700>\u001b[0m in \u001b[0;36m<module>\u001b[0;34m\u001b[0m\n\u001b[1;32m     30\u001b[0m     \u001b[0mi\u001b[0m\u001b[0;34m=\u001b[0m\u001b[0;34m-\u001b[0m\u001b[0;36m1\u001b[0m\u001b[0;34m\u001b[0m\u001b[0;34m\u001b[0m\u001b[0m\n\u001b[1;32m     31\u001b[0m     \u001b[0;32mfor\u001b[0m \u001b[0mim\u001b[0m \u001b[0;32min\u001b[0m \u001b[0mtqdm\u001b[0m\u001b[0;34m(\u001b[0m\u001b[0mrange\u001b[0m\u001b[0;34m(\u001b[0m\u001b[0mtrain_iterations\u001b[0m\u001b[0;34m)\u001b[0m\u001b[0;34m,\u001b[0m\u001b[0mdesc\u001b[0m\u001b[0;34m=\u001b[0m\u001b[0;34m'Train_Iter'\u001b[0m\u001b[0;34m,\u001b[0m\u001b[0mleave\u001b[0m\u001b[0;34m=\u001b[0m\u001b[0;32mFalse\u001b[0m\u001b[0;34m)\u001b[0m\u001b[0;34m:\u001b[0m\u001b[0;34m\u001b[0m\u001b[0;34m\u001b[0m\u001b[0m\n\u001b[0;32m---> 32\u001b[0;31m         \u001b[0mtx\u001b[0m\u001b[0;34m,\u001b[0m\u001b[0mty\u001b[0m \u001b[0;34m=\u001b[0m \u001b[0mnext\u001b[0m\u001b[0;34m(\u001b[0m\u001b[0mtrain_gen\u001b[0m\u001b[0;34m)\u001b[0m\u001b[0;34m\u001b[0m\u001b[0;34m\u001b[0m\u001b[0m\n\u001b[0m\u001b[1;32m     33\u001b[0m         \u001b[0minputs\u001b[0m \u001b[0;34m=\u001b[0m \u001b[0mtx\u001b[0m\u001b[0;34m[\u001b[0m\u001b[0;34m'image_input'\u001b[0m\u001b[0;34m]\u001b[0m\u001b[0;34m\u001b[0m\u001b[0;34m\u001b[0m\u001b[0m\n\u001b[1;32m     34\u001b[0m         \u001b[0mlabels\u001b[0m \u001b[0;34m=\u001b[0m \u001b[0mty\u001b[0m\u001b[0;34m[\u001b[0m\u001b[0;34m'target_words'\u001b[0m\u001b[0;34m]\u001b[0m\u001b[0;34m\u001b[0m\u001b[0;34m\u001b[0m\u001b[0m\n",
      "\u001b[0;32m<ipython-input-59-2cf36afa884d>\u001b[0m in \u001b[0;36mdatagen\u001b[0;34m(img_lst, batch_size)\u001b[0m\n\u001b[1;32m      7\u001b[0m \u001b[0;31m#         print(im)\u001b[0m\u001b[0;34m\u001b[0m\u001b[0;34m\u001b[0m\u001b[0;34m\u001b[0m\u001b[0m\n\u001b[1;32m      8\u001b[0m         \u001b[0mimage\u001b[0m \u001b[0;34m=\u001b[0m \u001b[0mImage\u001b[0m\u001b[0;34m.\u001b[0m\u001b[0mopen\u001b[0m\u001b[0;34m(\u001b[0m\u001b[0;34m'../../dataset/train_images/VG_100K/{0}.jpg'\u001b[0m\u001b[0;34m.\u001b[0m\u001b[0mformat\u001b[0m\u001b[0;34m(\u001b[0m\u001b[0mim\u001b[0m\u001b[0;34m)\u001b[0m\u001b[0;34m)\u001b[0m\u001b[0;34m\u001b[0m\u001b[0;34m\u001b[0m\u001b[0m\n\u001b[0;32m----> 9\u001b[0;31m         \u001b[0mimage\u001b[0m \u001b[0;34m=\u001b[0m \u001b[0mimage\u001b[0m\u001b[0;34m.\u001b[0m\u001b[0mconvert\u001b[0m\u001b[0;34m(\u001b[0m\u001b[0;34m'RGB'\u001b[0m\u001b[0;34m)\u001b[0m\u001b[0;34m\u001b[0m\u001b[0;34m\u001b[0m\u001b[0m\n\u001b[0m\u001b[1;32m     10\u001b[0m         \u001b[0mphoto\u001b[0m \u001b[0;34m=\u001b[0m \u001b[0mimage\u001b[0m\u001b[0;34m.\u001b[0m\u001b[0mresize\u001b[0m\u001b[0;34m(\u001b[0m\u001b[0;34m(\u001b[0m\u001b[0;36m256\u001b[0m\u001b[0;34m,\u001b[0m\u001b[0;36m256\u001b[0m\u001b[0;34m)\u001b[0m\u001b[0;34m,\u001b[0m\u001b[0mImage\u001b[0m\u001b[0;34m.\u001b[0m\u001b[0mBICUBIC\u001b[0m\u001b[0;34m)\u001b[0m\u001b[0;34m\u001b[0m\u001b[0;34m\u001b[0m\u001b[0m\n\u001b[1;32m     11\u001b[0m         \u001b[0mphoto\u001b[0m \u001b[0;34m=\u001b[0m \u001b[0mnp\u001b[0m\u001b[0;34m.\u001b[0m\u001b[0masarray\u001b[0m\u001b[0;34m(\u001b[0m\u001b[0mphoto\u001b[0m\u001b[0;34m)\u001b[0m\u001b[0;34m/\u001b[0m\u001b[0;36m255.0\u001b[0m\u001b[0;34m\u001b[0m\u001b[0;34m\u001b[0m\u001b[0m\n",
      "\u001b[0;32m~/anaconda3/envs/tf-gpu-2/lib/python3.7/site-packages/PIL/Image.py\u001b[0m in \u001b[0;36mconvert\u001b[0;34m(self, mode, matrix, dither, palette, colors)\u001b[0m\n\u001b[1;32m    900\u001b[0m         \"\"\"\n\u001b[1;32m    901\u001b[0m \u001b[0;34m\u001b[0m\u001b[0m\n\u001b[0;32m--> 902\u001b[0;31m         \u001b[0mself\u001b[0m\u001b[0;34m.\u001b[0m\u001b[0mload\u001b[0m\u001b[0;34m(\u001b[0m\u001b[0;34m)\u001b[0m\u001b[0;34m\u001b[0m\u001b[0;34m\u001b[0m\u001b[0m\n\u001b[0m\u001b[1;32m    903\u001b[0m \u001b[0;34m\u001b[0m\u001b[0m\n\u001b[1;32m    904\u001b[0m         \u001b[0;32mif\u001b[0m \u001b[0;32mnot\u001b[0m \u001b[0mmode\u001b[0m \u001b[0;32mand\u001b[0m \u001b[0mself\u001b[0m\u001b[0;34m.\u001b[0m\u001b[0mmode\u001b[0m \u001b[0;34m==\u001b[0m \u001b[0;34m\"P\"\u001b[0m\u001b[0;34m:\u001b[0m\u001b[0;34m\u001b[0m\u001b[0;34m\u001b[0m\u001b[0m\n",
      "\u001b[0;32m~/anaconda3/envs/tf-gpu-2/lib/python3.7/site-packages/PIL/ImageFile.py\u001b[0m in \u001b[0;36mload\u001b[0;34m(self)\u001b[0m\n\u001b[1;32m    259\u001b[0m \u001b[0;34m\u001b[0m\u001b[0m\n\u001b[1;32m    260\u001b[0m                             \u001b[0mb\u001b[0m \u001b[0;34m=\u001b[0m \u001b[0mb\u001b[0m \u001b[0;34m+\u001b[0m \u001b[0ms\u001b[0m\u001b[0;34m\u001b[0m\u001b[0;34m\u001b[0m\u001b[0m\n\u001b[0;32m--> 261\u001b[0;31m                             \u001b[0mn\u001b[0m\u001b[0;34m,\u001b[0m \u001b[0merr_code\u001b[0m \u001b[0;34m=\u001b[0m \u001b[0mdecoder\u001b[0m\u001b[0;34m.\u001b[0m\u001b[0mdecode\u001b[0m\u001b[0;34m(\u001b[0m\u001b[0mb\u001b[0m\u001b[0;34m)\u001b[0m\u001b[0;34m\u001b[0m\u001b[0;34m\u001b[0m\u001b[0m\n\u001b[0m\u001b[1;32m    262\u001b[0m                             \u001b[0;32mif\u001b[0m \u001b[0mn\u001b[0m \u001b[0;34m<\u001b[0m \u001b[0;36m0\u001b[0m\u001b[0;34m:\u001b[0m\u001b[0;34m\u001b[0m\u001b[0;34m\u001b[0m\u001b[0m\n\u001b[1;32m    263\u001b[0m                                 \u001b[0;32mbreak\u001b[0m\u001b[0;34m\u001b[0m\u001b[0;34m\u001b[0m\u001b[0m\n",
      "\u001b[0;31mKeyboardInterrupt\u001b[0m: "
     ]
    }
   ],
   "source": [
    "from IPython.display import clear_output\n",
    "\n",
    "# counter = 0\n",
    "\n",
    "# history = model.fit_generator(train_gen\n",
    "#                               ,epochs=EPOCHS\n",
    "#                               ,steps_per_epoch=4\n",
    "#                               ,validation_data=val_gen\n",
    "#                               ,validation_steps=2\n",
    "#                               ,callbacks=[mc])\n",
    "\n",
    "hist_tl,hist_ta,hist_vl,hist_va,tt,lr_arr = [],[],[],[],[],[]\n",
    "window = 64\n",
    "val_window = 256\n",
    "train_iterations = int(np.ceil(len(train_images_list)/train_batch_size))\n",
    "val_iterations = int(np.ceil(len(test_images_list)/val_batch_size))\n",
    "\n",
    "print('train_iterations:{0}; val_iterations:{1}'.format(train_iterations,val_iterations))\n",
    "min_v_l,min_v_a,min_t_a = 100,0,0\n",
    "t_l, t_a, v_l, v_a = 0, 0, 4.01, 0\n",
    "\n",
    "\n",
    "train_gen = datagen(train_images_list,batch_size=train_batch_size)\n",
    "val_gen = datagen(val_images_list,batch_size=val_batch_size)\n",
    "\n",
    "\n",
    "for e in tqdm(np.arange(start=0,stop=EPOCHS),desc='Epoch'):\n",
    "    start_time = time()\n",
    "    tl,ta,vl,va = [],[],[],[]\n",
    "    i=-1\n",
    "    for im in tqdm(range(train_iterations),desc='Train_Iter',leave=False):\n",
    "        tx,ty = next(train_gen)\n",
    "        inputs = tx['image_input']\n",
    "        labels = ty['target_words']        \n",
    "#         for i in np.arange(len(inputs1),step=window):\n",
    "            \n",
    "#             train_metrics = parallel_model.train_on_batch([inputs1[i:i+window],inputs2[i:i+window],inputs3[i:i+window]],[labels[i:i+window],labels[i:i+window]])\n",
    "        train_metrics = parallel_model.train_on_batch([inputs,pos_encoding],labels)\n",
    "        loss = train_metrics[0] #train_metrics[1]+train_metrics[2]\n",
    "        accuracy = train_metrics[1] #train_metrics[3]+train_metrics[4]\n",
    "        #             concat_sa_2,concat_sa_3,concat_sa_4,textNet_output = CheckSelfAttention([inputs2[i:i+window],inputs3[i:i+window]],labels[i:i+window])            \n",
    "#             print(train_metrics)\n",
    "        tl.append(loss)\n",
    "        ta.append(accuracy)\n",
    "        i+=1\n",
    "        print('Train Iter:{0:3d}/{1}, tr_loss:{2:.4f}, tr_acc:{3:.4f} (min_v_loss:{4:.4f})'\n",
    "          .format(i+1,train_iterations\n",
    "                  , np.mean(tl)\n",
    "                  , np.mean(ta)\n",
    "                  , min_v_l), end = '\\r')\n",
    "#             break\n",
    "#         break\n",
    "#     break\n",
    "    i=-1\n",
    "    for im in tqdm(range(val_iterations),desc='Val_Iter',leave=False):\n",
    "        vx,vy = next(val_gen)\n",
    "        inputs = vx['image_input']\n",
    "        labels = vy['target_words']\n",
    "#         for i in np.arange(len(inputs1),step=val_window):\n",
    "        loss,accuracy = parallel_model.evaluate(verbose=0,x=[inputs,pos_encoding],y=labels)\n",
    "        vl.append(loss)\n",
    "        va.append(accuracy)\n",
    "    v_l = np.round(np.mean(vl),4)\n",
    "    v_a = np.round(np.mean(va),4)\n",
    "    t_l = np.round(np.mean(tl),4)\n",
    "    t_a = np.round(np.mean(ta),4)\n",
    "    \n",
    "    hist_tl.append(t_l)\n",
    "    hist_ta.append(t_a)\n",
    "    hist_vl.append(v_l)\n",
    "    hist_va.append(v_a)\n",
    "    if len(hist_tl)>=3:\n",
    "        if hist_tl[-2]-hist_tl[-1]<min_delta:\n",
    "            patience_counter+=1\n",
    "            if patience==patience_counter:\n",
    "                old_lr,lr = ReduceLROnPlateau()\n",
    "                patience_counter = 0\n",
    "                K.set_value(parallel_model.optimizer.lr,lr)\n",
    "                K.set_value(model.optimizer.lr,lr)\n",
    "    lr_arr.append(lr)\n",
    "    if v_l < min_v_l:\n",
    "        min_v_l = v_l\n",
    "#         model.save_weights(filepath='../checkpoints/{0}_vis_gen.h5'.format(model_name),overwrite=True)\n",
    "        imgNet.save_weights(filepath='../checkpoints/{0}_{1}_img_module_vis_gen.h5'.format(img_arch,text_arch),overwrite=True)\n",
    "#         textNet.save_weights(filepath='../checkpoints/{0}_{1}_text_module_vis_gen.h5'.format(img_arch,text_arch),overwrite=True)\n",
    "    clear_output(wait=True)\n",
    "    end_time = time()\n",
    "    \n",
    "    time_taken = end_time-start_time\n",
    "    \n",
    "    tt.append(time_taken)\n",
    "    with open('../tf_runs/log.csv','a') as f:\n",
    "        data = '{0:3d}/{7},{1:.4f},{2:.4f},{3:.4f},{4:.4f},{6:.4f},{8:.6f}'.format(e+1, t_l, t_a, v_l, v_a, np.mean(tt),min_v_l,EPOCHS,lr)\n",
    "        t = strftime(\"%m/%d/%Y %H:%M:%S\",localtime())\n",
    "        f.writelines('\\n[{0}],{1},{2}'.format(t, model_name,data))\n",
    "    print('E:{0:3d}/{7}, tr_loss:{1:.4f}, tr_acc:{2:.4f}, v_loss:{3:.4f}, v_acc:{4:.4f}, lr:{8:.6f} [{5:.2f} s/e] (min_v_loss:{6:.4f})'.format(e+1, t_l, t_a, v_l, v_a, np.mean(tt),min_v_l,EPOCHS,lr))"
   ]
  },
  {
   "cell_type": "code",
   "execution_count": null,
   "metadata": {},
   "outputs": [],
   "source": [
    "# model.save_weights(filepath='../checkpoints/{0}_vis_gen.h5'.format(model_name),overwrite=True)\n",
    "# # imgNet.save_weights(filepath='../checkpoints/{0}_{1}_img_module_vis_gen.h5'.format(img_arch,text_arch),overwrite=True)\n",
    "# textNet.save_weights(filepath='../checkpoints/{0}_{1}_text_module_vis_gen.h5'.format(img_arch,text_arch),overwrite=True)"
   ]
  },
  {
   "cell_type": "code",
   "execution_count": 202,
   "metadata": {},
   "outputs": [
    {
     "data": {
      "text/plain": [
       "[9.066454, 0.0]"
      ]
     },
     "execution_count": 202,
     "metadata": {},
     "output_type": "execute_result"
    }
   ],
   "source": [
    "train_metrics"
   ]
  },
  {
   "cell_type": "code",
   "execution_count": 141,
   "metadata": {
    "scrolled": true
   },
   "outputs": [
    {
     "name": "stdout",
     "output_type": "stream",
     "text": [
      "-*-*- 0 -*-*-\n",
      "input_seq: <None> [0.01], <None> [0.01], <None> [0.01], <None> [0.01], <None> [0.01], <None> [0.01], <None> [0.01], <None> [0.01], <None> [0.01], <None> [0.01], <None> [0.01], <None> [0.01], <None> [0.01], <None> [0.01], <None> [0.01], <None> [0.01], <None> [0.01], <None> [0.01], <startseq> [1.], <a> [1.], <white> [1.], <car> [1.], <on> [1.], <a> [1.], <road> [1.], <.> [1.], <a> [1.], <sign> [1.], <near> [1.], <a> [1.], <road> [1.], <.> [1.], <two> [1.], <metal> [1.], <posts> [1.], <with> [1.], <a> [1.], <sign> [1.], <.> [1.], <signs> [1.], <near> [1.], <a> [1.], <road> [1.], <.> [1.], <green> [1.], <signs> [1.], <near> [1.], <a> [1.], <road> [1.], <.> [1.], <a> [1.], <post> [1.], <with> [1.], <signs> [1.], <.> [1.], <a> [1.], <concrete> [1.], <overpass> [1.], <above> [1.], <a> [1.] , \t next_word: road\n",
      "-*-*- 1 -*-*-\n",
      "input_seq: <None> [0.01], <None> [0.01], <None> [0.01], <None> [0.01], <None> [0.01], <None> [0.01], <None> [0.01], <None> [0.01], <None> [0.01], <None> [0.01], <None> [0.01], <None> [0.01], <None> [0.01], <None> [0.01], <None> [0.01], <None> [0.01], <None> [0.01], <startseq> [1.], <a> [1.], <white> [1.], <car> [1.], <on> [1.], <a> [1.], <road> [1.], <.> [1.], <a> [1.], <sign> [1.], <near> [1.], <a> [1.], <road> [1.], <.> [1.], <two> [1.], <metal> [1.], <posts> [1.], <with> [1.], <a> [1.], <sign> [1.], <.> [1.], <signs> [1.], <near> [1.], <a> [1.], <road> [1.], <.> [1.], <green> [1.], <signs> [1.], <near> [1.], <a> [1.], <road> [1.], <.> [1.], <a> [1.], <post> [1.], <with> [1.], <signs> [1.], <.> [1.], <a> [1.], <concrete> [1.], <overpass> [1.], <above> [1.], <a> [1.], <road> [1.] , \t next_word: .\n",
      "-*-*- 2 -*-*-\n",
      "input_seq: <None> [0.01], <None> [0.01], <None> [0.01], <None> [0.01], <None> [0.01], <None> [0.01], <None> [0.01], <None> [0.01], <None> [0.01], <None> [0.01], <None> [0.01], <None> [0.01], <None> [0.01], <None> [0.01], <None> [0.01], <None> [0.01], <startseq> [1.], <a> [1.], <white> [1.], <car> [1.], <on> [1.], <a> [1.], <road> [1.], <.> [1.], <a> [1.], <sign> [1.], <near> [1.], <a> [1.], <road> [1.], <.> [1.], <two> [1.], <metal> [1.], <posts> [1.], <with> [1.], <a> [1.], <sign> [1.], <.> [1.], <signs> [1.], <near> [1.], <a> [1.], <road> [1.], <.> [1.], <green> [1.], <signs> [1.], <near> [1.], <a> [1.], <road> [1.], <.> [1.], <a> [1.], <post> [1.], <with> [1.], <signs> [1.], <.> [1.], <a> [1.], <concrete> [1.], <overpass> [1.], <above> [1.], <a> [1.], <road> [1.], <.> [1.] , \t next_word: a\n",
      "-*-*- 3 -*-*-\n",
      "input_seq: <None> [0.01], <None> [0.01], <None> [0.01], <None> [0.01], <None> [0.01], <None> [0.01], <None> [0.01], <None> [0.01], <None> [0.01], <None> [0.01], <None> [0.01], <None> [0.01], <None> [0.01], <None> [0.01], <None> [0.01], <startseq> [1.], <a> [1.], <white> [1.], <car> [1.], <on> [1.], <a> [1.], <road> [1.], <.> [1.], <a> [1.], <sign> [1.], <near> [1.], <a> [1.], <road> [1.], <.> [1.], <two> [1.], <metal> [1.], <posts> [1.], <with> [1.], <a> [1.], <sign> [1.], <.> [1.], <signs> [1.], <near> [1.], <a> [1.], <road> [1.], <.> [1.], <green> [1.], <signs> [1.], <near> [1.], <a> [1.], <road> [1.], <.> [1.], <a> [1.], <post> [1.], <with> [1.], <signs> [1.], <.> [1.], <a> [1.], <concrete> [1.], <overpass> [1.], <above> [1.], <a> [1.], <road> [1.], <.> [1.], <a> [1.] , \t next_word: yellow\n",
      "-*-*- 4 -*-*-\n",
      "input_seq: <None> [0.01], <None> [0.01], <None> [0.01], <None> [0.01], <None> [0.01], <None> [0.01], <None> [0.01], <None> [0.01], <None> [0.01], <None> [0.01], <None> [0.01], <None> [0.01], <None> [0.01], <None> [0.01], <startseq> [1.], <a> [1.], <white> [1.], <car> [1.], <on> [1.], <a> [1.], <road> [1.], <.> [1.], <a> [1.], <sign> [1.], <near> [1.], <a> [1.], <road> [1.], <.> [1.], <two> [1.], <metal> [1.], <posts> [1.], <with> [1.], <a> [1.], <sign> [1.], <.> [1.], <signs> [1.], <near> [1.], <a> [1.], <road> [1.], <.> [1.], <green> [1.], <signs> [1.], <near> [1.], <a> [1.], <road> [1.], <.> [1.], <a> [1.], <post> [1.], <with> [1.], <signs> [1.], <.> [1.], <a> [1.], <concrete> [1.], <overpass> [1.], <above> [1.], <a> [1.], <road> [1.], <.> [1.], <a> [1.], <yellow> [1.] , \t next_word: sign\n",
      "-*-*- 5 -*-*-\n",
      "input_seq: <None> [0.01], <None> [0.01], <None> [0.01], <None> [0.01], <None> [0.01], <None> [0.01], <None> [0.01], <None> [0.01], <None> [0.01], <None> [0.01], <None> [0.01], <None> [0.01], <None> [0.01], <startseq> [1.], <a> [1.], <white> [1.], <car> [1.], <on> [1.], <a> [1.], <road> [1.], <.> [1.], <a> [1.], <sign> [1.], <near> [1.], <a> [1.], <road> [1.], <.> [1.], <two> [1.], <metal> [1.], <posts> [1.], <with> [1.], <a> [1.], <sign> [1.], <.> [1.], <signs> [1.], <near> [1.], <a> [1.], <road> [1.], <.> [1.], <green> [1.], <signs> [1.], <near> [1.], <a> [1.], <road> [1.], <.> [1.], <a> [1.], <post> [1.], <with> [1.], <signs> [1.], <.> [1.], <a> [1.], <concrete> [1.], <overpass> [1.], <above> [1.], <a> [1.], <road> [1.], <.> [1.], <a> [1.], <yellow> [1.], <sign> [1.] , \t next_word: on\n",
      "-*-*- 6 -*-*-\n",
      "input_seq: <None> [0.01], <None> [0.01], <None> [0.01], <None> [0.01], <None> [0.01], <None> [0.01], <None> [0.01], <None> [0.01], <None> [0.01], <None> [0.01], <None> [0.01], <None> [0.01], <startseq> [1.], <a> [1.], <white> [1.], <car> [1.], <on> [1.], <a> [1.], <road> [1.], <.> [1.], <a> [1.], <sign> [1.], <near> [1.], <a> [1.], <road> [1.], <.> [1.], <two> [1.], <metal> [1.], <posts> [1.], <with> [1.], <a> [1.], <sign> [1.], <.> [1.], <signs> [1.], <near> [1.], <a> [1.], <road> [1.], <.> [1.], <green> [1.], <signs> [1.], <near> [1.], <a> [1.], <road> [1.], <.> [1.], <a> [1.], <post> [1.], <with> [1.], <signs> [1.], <.> [1.], <a> [1.], <concrete> [1.], <overpass> [1.], <above> [1.], <a> [1.], <road> [1.], <.> [1.], <a> [1.], <yellow> [1.], <sign> [1.], <on> [1.] , \t next_word: a\n",
      "-*-*- 7 -*-*-\n",
      "input_seq: <None> [0.01], <None> [0.01], <None> [0.01], <None> [0.01], <None> [0.01], <None> [0.01], <None> [0.01], <None> [0.01], <None> [0.01], <None> [0.01], <None> [0.01], <startseq> [1.], <a> [1.], <white> [1.], <car> [1.], <on> [1.], <a> [1.], <road> [1.], <.> [1.], <a> [1.], <sign> [1.], <near> [1.], <a> [1.], <road> [1.], <.> [1.], <two> [1.], <metal> [1.], <posts> [1.], <with> [1.], <a> [1.], <sign> [1.], <.> [1.], <signs> [1.], <near> [1.], <a> [1.], <road> [1.], <.> [1.], <green> [1.], <signs> [1.], <near> [1.], <a> [1.], <road> [1.], <.> [1.], <a> [1.], <post> [1.], <with> [1.], <signs> [1.], <.> [1.], <a> [1.], <concrete> [1.], <overpass> [1.], <above> [1.], <a> [1.], <road> [1.], <.> [1.], <a> [1.], <yellow> [1.], <sign> [1.], <on> [1.], <a> [1.] , \t next_word: road\n",
      "-*-*- 8 -*-*-\n",
      "input_seq: <None> [0.01], <None> [0.01], <None> [0.01], <None> [0.01], <None> [0.01], <None> [0.01], <None> [0.01], <None> [0.01], <None> [0.01], <None> [0.01], <startseq> [1.], <a> [1.], <white> [1.], <car> [1.], <on> [1.], <a> [1.], <road> [1.], <.> [1.], <a> [1.], <sign> [1.], <near> [1.], <a> [1.], <road> [1.], <.> [1.], <two> [1.], <metal> [1.], <posts> [1.], <with> [1.], <a> [1.], <sign> [1.], <.> [1.], <signs> [1.], <near> [1.], <a> [1.], <road> [1.], <.> [1.], <green> [1.], <signs> [1.], <near> [1.], <a> [1.], <road> [1.], <.> [1.], <a> [1.], <post> [1.], <with> [1.], <signs> [1.], <.> [1.], <a> [1.], <concrete> [1.], <overpass> [1.], <above> [1.], <a> [1.], <road> [1.], <.> [1.], <a> [1.], <yellow> [1.], <sign> [1.], <on> [1.], <a> [1.], <road> [1.] , \t next_word: .\n",
      "-*-*- 9 -*-*-\n",
      "input_seq: <None> [0.01], <None> [0.01], <None> [0.01], <None> [0.01], <None> [0.01], <None> [0.01], <None> [0.01], <None> [0.01], <None> [0.01], <startseq> [1.], <a> [1.], <white> [1.], <car> [1.], <on> [1.], <a> [1.], <road> [1.], <.> [1.], <a> [1.], <sign> [1.], <near> [1.], <a> [1.], <road> [1.], <.> [1.], <two> [1.], <metal> [1.], <posts> [1.], <with> [1.], <a> [1.], <sign> [1.], <.> [1.], <signs> [1.], <near> [1.], <a> [1.], <road> [1.], <.> [1.], <green> [1.], <signs> [1.], <near> [1.], <a> [1.], <road> [1.], <.> [1.], <a> [1.], <post> [1.], <with> [1.], <signs> [1.], <.> [1.], <a> [1.], <concrete> [1.], <overpass> [1.], <above> [1.], <a> [1.], <road> [1.], <.> [1.], <a> [1.], <yellow> [1.], <sign> [1.], <on> [1.], <a> [1.], <road> [1.], <.> [1.] , \t next_word: headlights\n",
      "-*-*- 10 -*-*-\n",
      "input_seq: <None> [0.01], <None> [0.01], <None> [0.01], <None> [0.01], <None> [0.01], <None> [0.01], <None> [0.01], <None> [0.01], <startseq> [1.], <a> [1.], <white> [1.], <car> [1.], <on> [1.], <a> [1.], <road> [1.], <.> [1.], <a> [1.], <sign> [1.], <near> [1.], <a> [1.], <road> [1.], <.> [1.], <two> [1.], <metal> [1.], <posts> [1.], <with> [1.], <a> [1.], <sign> [1.], <.> [1.], <signs> [1.], <near> [1.], <a> [1.], <road> [1.], <.> [1.], <green> [1.], <signs> [1.], <near> [1.], <a> [1.], <road> [1.], <.> [1.], <a> [1.], <post> [1.], <with> [1.], <signs> [1.], <.> [1.], <a> [1.], <concrete> [1.], <overpass> [1.], <above> [1.], <a> [1.], <road> [1.], <.> [1.], <a> [1.], <yellow> [1.], <sign> [1.], <on> [1.], <a> [1.], <road> [1.], <.> [1.], <headlights> [1.] , \t next_word: on\n",
      "-*-*- 11 -*-*-\n",
      "input_seq: <None> [0.01], <None> [0.01], <None> [0.01], <None> [0.01], <None> [0.01], <None> [0.01], <None> [0.01], <startseq> [1.], <a> [1.], <white> [1.], <car> [1.], <on> [1.], <a> [1.], <road> [1.], <.> [1.], <a> [1.], <sign> [1.], <near> [1.], <a> [1.], <road> [1.], <.> [1.], <two> [1.], <metal> [1.], <posts> [1.], <with> [1.], <a> [1.], <sign> [1.], <.> [1.], <signs> [1.], <near> [1.], <a> [1.], <road> [1.], <.> [1.], <green> [1.], <signs> [1.], <near> [1.], <a> [1.], <road> [1.], <.> [1.], <a> [1.], <post> [1.], <with> [1.], <signs> [1.], <.> [1.], <a> [1.], <concrete> [1.], <overpass> [1.], <above> [1.], <a> [1.], <road> [1.], <.> [1.], <a> [1.], <yellow> [1.], <sign> [1.], <on> [1.], <a> [1.], <road> [1.], <.> [1.], <headlights> [1.], <on> [1.] , \t next_word: a\n",
      "-*-*- 12 -*-*-\n",
      "input_seq: <None> [0.01], <None> [0.01], <None> [0.01], <None> [0.01], <None> [0.01], <None> [0.01], <startseq> [1.], <a> [1.], <white> [1.], <car> [1.], <on> [1.], <a> [1.], <road> [1.], <.> [1.], <a> [1.], <sign> [1.], <near> [1.], <a> [1.], <road> [1.], <.> [1.], <two> [1.], <metal> [1.], <posts> [1.], <with> [1.], <a> [1.], <sign> [1.], <.> [1.], <signs> [1.], <near> [1.], <a> [1.], <road> [1.], <.> [1.], <green> [1.], <signs> [1.], <near> [1.], <a> [1.], <road> [1.], <.> [1.], <a> [1.], <post> [1.], <with> [1.], <signs> [1.], <.> [1.], <a> [1.], <concrete> [1.], <overpass> [1.], <above> [1.], <a> [1.], <road> [1.], <.> [1.], <a> [1.], <yellow> [1.], <sign> [1.], <on> [1.], <a> [1.], <road> [1.], <.> [1.], <headlights> [1.], <on> [1.], <a> [1.] , \t next_word: car\n",
      "-*-*- 13 -*-*-\n",
      "input_seq: <None> [0.01], <None> [0.01], <None> [0.01], <None> [0.01], <None> [0.01], <startseq> [1.], <a> [1.], <white> [1.], <car> [1.], <on> [1.], <a> [1.], <road> [1.], <.> [1.], <a> [1.], <sign> [1.], <near> [1.], <a> [1.], <road> [1.], <.> [1.], <two> [1.], <metal> [1.], <posts> [1.], <with> [1.], <a> [1.], <sign> [1.], <.> [1.], <signs> [1.], <near> [1.], <a> [1.], <road> [1.], <.> [1.], <green> [1.], <signs> [1.], <near> [1.], <a> [1.], <road> [1.], <.> [1.], <a> [1.], <post> [1.], <with> [1.], <signs> [1.], <.> [1.], <a> [1.], <concrete> [1.], <overpass> [1.], <above> [1.], <a> [1.], <road> [1.], <.> [1.], <a> [1.], <yellow> [1.], <sign> [1.], <on> [1.], <a> [1.], <road> [1.], <.> [1.], <headlights> [1.], <on> [1.], <a> [1.], <car> [1.] , \t next_word: .\n",
      "-*-*- 14 -*-*-\n",
      "input_seq: <None> [0.01], <None> [0.01], <None> [0.01], <None> [0.01], <startseq> [1.], <a> [1.], <white> [1.], <car> [1.], <on> [1.], <a> [1.], <road> [1.], <.> [1.], <a> [1.], <sign> [1.], <near> [1.], <a> [1.], <road> [1.], <.> [1.], <two> [1.], <metal> [1.], <posts> [1.], <with> [1.], <a> [1.], <sign> [1.], <.> [1.], <signs> [1.], <near> [1.], <a> [1.], <road> [1.], <.> [1.], <green> [1.], <signs> [1.], <near> [1.], <a> [1.], <road> [1.], <.> [1.], <a> [1.], <post> [1.], <with> [1.], <signs> [1.], <.> [1.], <a> [1.], <concrete> [1.], <overpass> [1.], <above> [1.], <a> [1.], <road> [1.], <.> [1.], <a> [1.], <yellow> [1.], <sign> [1.], <on> [1.], <a> [1.], <road> [1.], <.> [1.], <headlights> [1.], <on> [1.], <a> [1.], <car> [1.], <.> [1.] , \t next_word: a\n",
      "-*-*- 15 -*-*-\n",
      "input_seq: <None> [0.01], <None> [0.01], <None> [0.01], <startseq> [1.], <a> [1.], <white> [1.], <car> [1.], <on> [1.], <a> [1.], <road> [1.], <.> [1.], <a> [1.], <sign> [1.], <near> [1.], <a> [1.], <road> [1.], <.> [1.], <two> [1.], <metal> [1.], <posts> [1.], <with> [1.], <a> [1.], <sign> [1.], <.> [1.], <signs> [1.], <near> [1.], <a> [1.], <road> [1.], <.> [1.], <green> [1.], <signs> [1.], <near> [1.], <a> [1.], <road> [1.], <.> [1.], <a> [1.], <post> [1.], <with> [1.], <signs> [1.], <.> [1.], <a> [1.], <concrete> [1.], <overpass> [1.], <above> [1.], <a> [1.], <road> [1.], <.> [1.], <a> [1.], <yellow> [1.], <sign> [1.], <on> [1.], <a> [1.], <road> [1.], <.> [1.], <headlights> [1.], <on> [1.], <a> [1.], <car> [1.], <.> [1.], <a> [1.] , \t next_word: double\n",
      "-*-*- 16 -*-*-\n",
      "input_seq: <None> [0.01], <None> [0.01], <startseq> [1.], <a> [1.], <white> [1.], <car> [1.], <on> [1.], <a> [1.], <road> [1.], <.> [1.], <a> [1.], <sign> [1.], <near> [1.], <a> [1.], <road> [1.], <.> [1.], <two> [1.], <metal> [1.], <posts> [1.], <with> [1.], <a> [1.], <sign> [1.], <.> [1.], <signs> [1.], <near> [1.], <a> [1.], <road> [1.], <.> [1.], <green> [1.], <signs> [1.], <near> [1.], <a> [1.], <road> [1.], <.> [1.], <a> [1.], <post> [1.], <with> [1.], <signs> [1.], <.> [1.], <a> [1.], <concrete> [1.], <overpass> [1.], <above> [1.], <a> [1.], <road> [1.], <.> [1.], <a> [1.], <yellow> [1.], <sign> [1.], <on> [1.], <a> [1.], <road> [1.], <.> [1.], <headlights> [1.], <on> [1.], <a> [1.], <car> [1.], <.> [1.], <a> [1.], <double> [1.] , \t next_word: yellow\n",
      "-*-*- 17 -*-*-\n",
      "input_seq: <None> [0.01], <startseq> [1.], <a> [1.], <white> [1.], <car> [1.], <on> [1.], <a> [1.], <road> [1.], <.> [1.], <a> [1.], <sign> [1.], <near> [1.], <a> [1.], <road> [1.], <.> [1.], <two> [1.], <metal> [1.], <posts> [1.], <with> [1.], <a> [1.], <sign> [1.], <.> [1.], <signs> [1.], <near> [1.], <a> [1.], <road> [1.], <.> [1.], <green> [1.], <signs> [1.], <near> [1.], <a> [1.], <road> [1.], <.> [1.], <a> [1.], <post> [1.], <with> [1.], <signs> [1.], <.> [1.], <a> [1.], <concrete> [1.], <overpass> [1.], <above> [1.], <a> [1.], <road> [1.], <.> [1.], <a> [1.], <yellow> [1.], <sign> [1.], <on> [1.], <a> [1.], <road> [1.], <.> [1.], <headlights> [1.], <on> [1.], <a> [1.], <car> [1.], <.> [1.], <a> [1.], <double> [1.], <yellow> [1.] , \t next_word: line\n",
      "-*-*- 18 -*-*-\n",
      "input_seq: <startseq> [1.], <a> [1.], <white> [1.], <car> [1.], <on> [1.], <a> [1.], <road> [1.], <.> [1.], <a> [1.], <sign> [1.], <near> [1.], <a> [1.], <road> [1.], <.> [1.], <two> [1.], <metal> [1.], <posts> [1.], <with> [1.], <a> [1.], <sign> [1.], <.> [1.], <signs> [1.], <near> [1.], <a> [1.], <road> [1.], <.> [1.], <green> [1.], <signs> [1.], <near> [1.], <a> [1.], <road> [1.], <.> [1.], <a> [1.], <post> [1.], <with> [1.], <signs> [1.], <.> [1.], <a> [1.], <concrete> [1.], <overpass> [1.], <above> [1.], <a> [1.], <road> [1.], <.> [1.], <a> [1.], <yellow> [1.], <sign> [1.], <on> [1.], <a> [1.], <road> [1.], <.> [1.], <headlights> [1.], <on> [1.], <a> [1.], <car> [1.], <.> [1.], <a> [1.], <double> [1.], <yellow> [1.], <line> [1.] , \t next_word: endseq\n",
      "-*-*- 19 -*-*-\n"
     ]
    },
    {
     "name": "stdout",
     "output_type": "stream",
     "text": [
      "input_seq: <None> [0.01], <None> [0.01], <None> [0.01], <None> [0.01], <None> [0.01], <None> [0.01], <None> [0.01], <None> [0.01], <None> [0.01], <None> [0.01], <None> [0.01], <None> [0.01], <None> [0.01], <None> [0.01], <None> [0.01], <None> [0.01], <None> [0.01], <None> [0.01], <None> [0.01], <None> [0.01], <None> [0.01], <None> [0.01], <None> [0.01], <None> [0.01], <None> [0.01], <None> [0.01], <None> [0.01], <None> [0.01], <None> [0.01], <None> [0.01], <None> [0.01], <None> [0.01], <None> [0.01], <None> [0.01], <None> [0.01], <None> [0.01], <None> [0.01], <None> [0.01], <None> [0.01], <None> [0.01], <None> [0.01], <None> [0.01], <None> [0.01], <None> [0.01], <None> [0.01], <None> [0.01], <None> [0.01], <None> [0.01], <None> [0.01], <None> [0.01], <None> [0.01], <None> [0.01], <None> [0.01], <None> [0.01], <None> [0.01], <None> [0.01], <None> [0.01], <None> [0.01], <None> [0.01], <startseq> [1.] , \t next_word: yellow\n",
      "-*-*- 20 -*-*-\n",
      "input_seq: <None> [0.01], <None> [0.01], <None> [0.01], <None> [0.01], <None> [0.01], <None> [0.01], <None> [0.01], <None> [0.01], <None> [0.01], <None> [0.01], <None> [0.01], <None> [0.01], <None> [0.01], <None> [0.01], <None> [0.01], <None> [0.01], <None> [0.01], <None> [0.01], <None> [0.01], <None> [0.01], <None> [0.01], <None> [0.01], <None> [0.01], <None> [0.01], <None> [0.01], <None> [0.01], <None> [0.01], <None> [0.01], <None> [0.01], <None> [0.01], <None> [0.01], <None> [0.01], <None> [0.01], <None> [0.01], <None> [0.01], <None> [0.01], <None> [0.01], <None> [0.01], <None> [0.01], <None> [0.01], <None> [0.01], <None> [0.01], <None> [0.01], <None> [0.01], <None> [0.01], <None> [0.01], <None> [0.01], <None> [0.01], <None> [0.01], <None> [0.01], <None> [0.01], <None> [0.01], <None> [0.01], <None> [0.01], <None> [0.01], <None> [0.01], <None> [0.01], <None> [0.01], <startseq> [1.], <yellow> [1.] , \t next_word: bananas\n",
      "-*-*- 21 -*-*-\n",
      "input_seq: <None> [0.01], <None> [0.01], <None> [0.01], <None> [0.01], <None> [0.01], <None> [0.01], <None> [0.01], <None> [0.01], <None> [0.01], <None> [0.01], <None> [0.01], <None> [0.01], <None> [0.01], <None> [0.01], <None> [0.01], <None> [0.01], <None> [0.01], <None> [0.01], <None> [0.01], <None> [0.01], <None> [0.01], <None> [0.01], <None> [0.01], <None> [0.01], <None> [0.01], <None> [0.01], <None> [0.01], <None> [0.01], <None> [0.01], <None> [0.01], <None> [0.01], <None> [0.01], <None> [0.01], <None> [0.01], <None> [0.01], <None> [0.01], <None> [0.01], <None> [0.01], <None> [0.01], <None> [0.01], <None> [0.01], <None> [0.01], <None> [0.01], <None> [0.01], <None> [0.01], <None> [0.01], <None> [0.01], <None> [0.01], <None> [0.01], <None> [0.01], <None> [0.01], <None> [0.01], <None> [0.01], <None> [0.01], <None> [0.01], <None> [0.01], <None> [0.01], <startseq> [1.], <yellow> [1.], <bananas> [1.] , \t next_word: laying\n",
      "-*-*- 22 -*-*-\n",
      "input_seq: <None> [0.01], <None> [0.01], <None> [0.01], <None> [0.01], <None> [0.01], <None> [0.01], <None> [0.01], <None> [0.01], <None> [0.01], <None> [0.01], <None> [0.01], <None> [0.01], <None> [0.01], <None> [0.01], <None> [0.01], <None> [0.01], <None> [0.01], <None> [0.01], <None> [0.01], <None> [0.01], <None> [0.01], <None> [0.01], <None> [0.01], <None> [0.01], <None> [0.01], <None> [0.01], <None> [0.01], <None> [0.01], <None> [0.01], <None> [0.01], <None> [0.01], <None> [0.01], <None> [0.01], <None> [0.01], <None> [0.01], <None> [0.01], <None> [0.01], <None> [0.01], <None> [0.01], <None> [0.01], <None> [0.01], <None> [0.01], <None> [0.01], <None> [0.01], <None> [0.01], <None> [0.01], <None> [0.01], <None> [0.01], <None> [0.01], <None> [0.01], <None> [0.01], <None> [0.01], <None> [0.01], <None> [0.01], <None> [0.01], <None> [0.01], <startseq> [1.], <yellow> [1.], <bananas> [1.], <laying> [1.] , \t next_word: on\n",
      "-*-*- 23 -*-*-\n",
      "input_seq: <None> [0.01], <None> [0.01], <None> [0.01], <None> [0.01], <None> [0.01], <None> [0.01], <None> [0.01], <None> [0.01], <None> [0.01], <None> [0.01], <None> [0.01], <None> [0.01], <None> [0.01], <None> [0.01], <None> [0.01], <None> [0.01], <None> [0.01], <None> [0.01], <None> [0.01], <None> [0.01], <None> [0.01], <None> [0.01], <None> [0.01], <None> [0.01], <None> [0.01], <None> [0.01], <None> [0.01], <None> [0.01], <None> [0.01], <None> [0.01], <None> [0.01], <None> [0.01], <None> [0.01], <None> [0.01], <None> [0.01], <None> [0.01], <None> [0.01], <None> [0.01], <None> [0.01], <None> [0.01], <None> [0.01], <None> [0.01], <None> [0.01], <None> [0.01], <None> [0.01], <None> [0.01], <None> [0.01], <None> [0.01], <None> [0.01], <None> [0.01], <None> [0.01], <None> [0.01], <None> [0.01], <None> [0.01], <None> [0.01], <startseq> [1.], <yellow> [1.], <bananas> [1.], <laying> [1.], <on> [1.] , \t next_word: a\n",
      "-*-*- 24 -*-*-\n",
      "input_seq: <None> [0.01], <None> [0.01], <None> [0.01], <None> [0.01], <None> [0.01], <None> [0.01], <None> [0.01], <None> [0.01], <None> [0.01], <None> [0.01], <None> [0.01], <None> [0.01], <None> [0.01], <None> [0.01], <None> [0.01], <None> [0.01], <None> [0.01], <None> [0.01], <None> [0.01], <None> [0.01], <None> [0.01], <None> [0.01], <None> [0.01], <None> [0.01], <None> [0.01], <None> [0.01], <None> [0.01], <None> [0.01], <None> [0.01], <None> [0.01], <None> [0.01], <None> [0.01], <None> [0.01], <None> [0.01], <None> [0.01], <None> [0.01], <None> [0.01], <None> [0.01], <None> [0.01], <None> [0.01], <None> [0.01], <None> [0.01], <None> [0.01], <None> [0.01], <None> [0.01], <None> [0.01], <None> [0.01], <None> [0.01], <None> [0.01], <None> [0.01], <None> [0.01], <None> [0.01], <None> [0.01], <None> [0.01], <startseq> [1.], <yellow> [1.], <bananas> [1.], <laying> [1.], <on> [1.], <a> [1.] , \t next_word: table\n",
      "-*-*- 25 -*-*-\n",
      "input_seq: <None> [0.01], <None> [0.01], <None> [0.01], <None> [0.01], <None> [0.01], <None> [0.01], <None> [0.01], <None> [0.01], <None> [0.01], <None> [0.01], <None> [0.01], <None> [0.01], <None> [0.01], <None> [0.01], <None> [0.01], <None> [0.01], <None> [0.01], <None> [0.01], <None> [0.01], <None> [0.01], <None> [0.01], <None> [0.01], <None> [0.01], <None> [0.01], <None> [0.01], <None> [0.01], <None> [0.01], <None> [0.01], <None> [0.01], <None> [0.01], <None> [0.01], <None> [0.01], <None> [0.01], <None> [0.01], <None> [0.01], <None> [0.01], <None> [0.01], <None> [0.01], <None> [0.01], <None> [0.01], <None> [0.01], <None> [0.01], <None> [0.01], <None> [0.01], <None> [0.01], <None> [0.01], <None> [0.01], <None> [0.01], <None> [0.01], <None> [0.01], <None> [0.01], <None> [0.01], <None> [0.01], <startseq> [1.], <yellow> [1.], <bananas> [1.], <laying> [1.], <on> [1.], <a> [1.], <table> [1.] , \t next_word: .\n",
      "-*-*- 26 -*-*-\n",
      "input_seq: <None> [0.01], <None> [0.01], <None> [0.01], <None> [0.01], <None> [0.01], <None> [0.01], <None> [0.01], <None> [0.01], <None> [0.01], <None> [0.01], <None> [0.01], <None> [0.01], <None> [0.01], <None> [0.01], <None> [0.01], <None> [0.01], <None> [0.01], <None> [0.01], <None> [0.01], <None> [0.01], <None> [0.01], <None> [0.01], <None> [0.01], <None> [0.01], <None> [0.01], <None> [0.01], <None> [0.01], <None> [0.01], <None> [0.01], <None> [0.01], <None> [0.01], <None> [0.01], <None> [0.01], <None> [0.01], <None> [0.01], <None> [0.01], <None> [0.01], <None> [0.01], <None> [0.01], <None> [0.01], <None> [0.01], <None> [0.01], <None> [0.01], <None> [0.01], <None> [0.01], <None> [0.01], <None> [0.01], <None> [0.01], <None> [0.01], <None> [0.01], <None> [0.01], <None> [0.01], <startseq> [1.], <yellow> [1.], <bananas> [1.], <laying> [1.], <on> [1.], <a> [1.], <table> [1.], <.> [1.] , \t next_word: red\n",
      "-*-*- 27 -*-*-\n",
      "input_seq: <None> [0.01], <None> [0.01], <None> [0.01], <None> [0.01], <None> [0.01], <None> [0.01], <None> [0.01], <None> [0.01], <None> [0.01], <None> [0.01], <None> [0.01], <None> [0.01], <None> [0.01], <None> [0.01], <None> [0.01], <None> [0.01], <None> [0.01], <None> [0.01], <None> [0.01], <None> [0.01], <None> [0.01], <None> [0.01], <None> [0.01], <None> [0.01], <None> [0.01], <None> [0.01], <None> [0.01], <None> [0.01], <None> [0.01], <None> [0.01], <None> [0.01], <None> [0.01], <None> [0.01], <None> [0.01], <None> [0.01], <None> [0.01], <None> [0.01], <None> [0.01], <None> [0.01], <None> [0.01], <None> [0.01], <None> [0.01], <None> [0.01], <None> [0.01], <None> [0.01], <None> [0.01], <None> [0.01], <None> [0.01], <None> [0.01], <None> [0.01], <None> [0.01], <startseq> [1.], <yellow> [1.], <bananas> [1.], <laying> [1.], <on> [1.], <a> [1.], <table> [1.], <.> [1.], <red> [1.] , \t next_word: wire\n",
      "-*-*- 28 -*-*-\n",
      "input_seq: <None> [0.01], <None> [0.01], <None> [0.01], <None> [0.01], <None> [0.01], <None> [0.01], <None> [0.01], <None> [0.01], <None> [0.01], <None> [0.01], <None> [0.01], <None> [0.01], <None> [0.01], <None> [0.01], <None> [0.01], <None> [0.01], <None> [0.01], <None> [0.01], <None> [0.01], <None> [0.01], <None> [0.01], <None> [0.01], <None> [0.01], <None> [0.01], <None> [0.01], <None> [0.01], <None> [0.01], <None> [0.01], <None> [0.01], <None> [0.01], <None> [0.01], <None> [0.01], <None> [0.01], <None> [0.01], <None> [0.01], <None> [0.01], <None> [0.01], <None> [0.01], <None> [0.01], <None> [0.01], <None> [0.01], <None> [0.01], <None> [0.01], <None> [0.01], <None> [0.01], <None> [0.01], <None> [0.01], <None> [0.01], <None> [0.01], <None> [0.01], <startseq> [1.], <yellow> [1.], <bananas> [1.], <laying> [1.], <on> [1.], <a> [1.], <table> [1.], <.> [1.], <red> [1.], <wire> [1.] , \t next_word: running\n",
      "-*-*- 29 -*-*-\n",
      "input_seq: <None> [0.01], <None> [0.01], <None> [0.01], <None> [0.01], <None> [0.01], <None> [0.01], <None> [0.01], <None> [0.01], <None> [0.01], <None> [0.01], <None> [0.01], <None> [0.01], <None> [0.01], <None> [0.01], <None> [0.01], <None> [0.01], <None> [0.01], <None> [0.01], <None> [0.01], <None> [0.01], <None> [0.01], <None> [0.01], <None> [0.01], <None> [0.01], <None> [0.01], <None> [0.01], <None> [0.01], <None> [0.01], <None> [0.01], <None> [0.01], <None> [0.01], <None> [0.01], <None> [0.01], <None> [0.01], <None> [0.01], <None> [0.01], <None> [0.01], <None> [0.01], <None> [0.01], <None> [0.01], <None> [0.01], <None> [0.01], <None> [0.01], <None> [0.01], <None> [0.01], <None> [0.01], <None> [0.01], <None> [0.01], <None> [0.01], <startseq> [1.], <yellow> [1.], <bananas> [1.], <laying> [1.], <on> [1.], <a> [1.], <table> [1.], <.> [1.], <red> [1.], <wire> [1.], <running> [1.] , \t next_word: down\n",
      "-*-*- 30 -*-*-\n",
      "input_seq: <None> [0.01], <None> [0.01], <None> [0.01], <None> [0.01], <None> [0.01], <None> [0.01], <None> [0.01], <None> [0.01], <None> [0.01], <None> [0.01], <None> [0.01], <None> [0.01], <None> [0.01], <None> [0.01], <None> [0.01], <None> [0.01], <None> [0.01], <None> [0.01], <None> [0.01], <None> [0.01], <None> [0.01], <None> [0.01], <None> [0.01], <None> [0.01], <None> [0.01], <None> [0.01], <None> [0.01], <None> [0.01], <None> [0.01], <None> [0.01], <None> [0.01], <None> [0.01], <None> [0.01], <None> [0.01], <None> [0.01], <None> [0.01], <None> [0.01], <None> [0.01], <None> [0.01], <None> [0.01], <None> [0.01], <None> [0.01], <None> [0.01], <None> [0.01], <None> [0.01], <None> [0.01], <None> [0.01], <None> [0.01], <startseq> [1.], <yellow> [1.], <bananas> [1.], <laying> [1.], <on> [1.], <a> [1.], <table> [1.], <.> [1.], <red> [1.], <wire> [1.], <running> [1.], <down> [1.] , \t next_word: from\n",
      "-*-*- 31 -*-*-\n",
      "input_seq: <None> [0.01], <None> [0.01], <None> [0.01], <None> [0.01], <None> [0.01], <None> [0.01], <None> [0.01], <None> [0.01], <None> [0.01], <None> [0.01], <None> [0.01], <None> [0.01], <None> [0.01], <None> [0.01], <None> [0.01], <None> [0.01], <None> [0.01], <None> [0.01], <None> [0.01], <None> [0.01], <None> [0.01], <None> [0.01], <None> [0.01], <None> [0.01], <None> [0.01], <None> [0.01], <None> [0.01], <None> [0.01], <None> [0.01], <None> [0.01], <None> [0.01], <None> [0.01], <None> [0.01], <None> [0.01], <None> [0.01], <None> [0.01], <None> [0.01], <None> [0.01], <None> [0.01], <None> [0.01], <None> [0.01], <None> [0.01], <None> [0.01], <None> [0.01], <None> [0.01], <None> [0.01], <None> [0.01], <startseq> [1.], <yellow> [1.], <bananas> [1.], <laying> [1.], <on> [1.], <a> [1.], <table> [1.], <.> [1.], <red> [1.], <wire> [1.], <running> [1.], <down> [1.], <from> [1.] , \t next_word: the\n",
      "-*-*- 32 -*-*-\n",
      "input_seq: <None> [0.01], <None> [0.01], <None> [0.01], <None> [0.01], <None> [0.01], <None> [0.01], <None> [0.01], <None> [0.01], <None> [0.01], <None> [0.01], <None> [0.01], <None> [0.01], <None> [0.01], <None> [0.01], <None> [0.01], <None> [0.01], <None> [0.01], <None> [0.01], <None> [0.01], <None> [0.01], <None> [0.01], <None> [0.01], <None> [0.01], <None> [0.01], <None> [0.01], <None> [0.01], <None> [0.01], <None> [0.01], <None> [0.01], <None> [0.01], <None> [0.01], <None> [0.01], <None> [0.01], <None> [0.01], <None> [0.01], <None> [0.01], <None> [0.01], <None> [0.01], <None> [0.01], <None> [0.01], <None> [0.01], <None> [0.01], <None> [0.01], <None> [0.01], <None> [0.01], <None> [0.01], <startseq> [1.], <yellow> [1.], <bananas> [1.], <laying> [1.], <on> [1.], <a> [1.], <table> [1.], <.> [1.], <red> [1.], <wire> [1.], <running> [1.], <down> [1.], <from> [1.], <the> [1.] , \t next_word: table\n",
      "-*-*- 33 -*-*-\n",
      "input_seq: <None> [0.01], <None> [0.01], <None> [0.01], <None> [0.01], <None> [0.01], <None> [0.01], <None> [0.01], <None> [0.01], <None> [0.01], <None> [0.01], <None> [0.01], <None> [0.01], <None> [0.01], <None> [0.01], <None> [0.01], <None> [0.01], <None> [0.01], <None> [0.01], <None> [0.01], <None> [0.01], <None> [0.01], <None> [0.01], <None> [0.01], <None> [0.01], <None> [0.01], <None> [0.01], <None> [0.01], <None> [0.01], <None> [0.01], <None> [0.01], <None> [0.01], <None> [0.01], <None> [0.01], <None> [0.01], <None> [0.01], <None> [0.01], <None> [0.01], <None> [0.01], <None> [0.01], <None> [0.01], <None> [0.01], <None> [0.01], <None> [0.01], <None> [0.01], <None> [0.01], <startseq> [1.], <yellow> [1.], <bananas> [1.], <laying> [1.], <on> [1.], <a> [1.], <table> [1.], <.> [1.], <red> [1.], <wire> [1.], <running> [1.], <down> [1.], <from> [1.], <the> [1.], <table> [1.] , \t next_word: .\n",
      "-*-*- 34 -*-*-\n",
      "input_seq: <None> [0.01], <None> [0.01], <None> [0.01], <None> [0.01], <None> [0.01], <None> [0.01], <None> [0.01], <None> [0.01], <None> [0.01], <None> [0.01], <None> [0.01], <None> [0.01], <None> [0.01], <None> [0.01], <None> [0.01], <None> [0.01], <None> [0.01], <None> [0.01], <None> [0.01], <None> [0.01], <None> [0.01], <None> [0.01], <None> [0.01], <None> [0.01], <None> [0.01], <None> [0.01], <None> [0.01], <None> [0.01], <None> [0.01], <None> [0.01], <None> [0.01], <None> [0.01], <None> [0.01], <None> [0.01], <None> [0.01], <None> [0.01], <None> [0.01], <None> [0.01], <None> [0.01], <None> [0.01], <None> [0.01], <None> [0.01], <None> [0.01], <None> [0.01], <startseq> [1.], <yellow> [1.], <bananas> [1.], <laying> [1.], <on> [1.], <a> [1.], <table> [1.], <.> [1.], <red> [1.], <wire> [1.], <running> [1.], <down> [1.], <from> [1.], <the> [1.], <table> [1.], <.> [1.] , \t next_word: watch\n",
      "-*-*- 35 -*-*-\n",
      "input_seq: <None> [0.01], <None> [0.01], <None> [0.01], <None> [0.01], <None> [0.01], <None> [0.01], <None> [0.01], <None> [0.01], <None> [0.01], <None> [0.01], <None> [0.01], <None> [0.01], <None> [0.01], <None> [0.01], <None> [0.01], <None> [0.01], <None> [0.01], <None> [0.01], <None> [0.01], <None> [0.01], <None> [0.01], <None> [0.01], <None> [0.01], <None> [0.01], <None> [0.01], <None> [0.01], <None> [0.01], <None> [0.01], <None> [0.01], <None> [0.01], <None> [0.01], <None> [0.01], <None> [0.01], <None> [0.01], <None> [0.01], <None> [0.01], <None> [0.01], <None> [0.01], <None> [0.01], <None> [0.01], <None> [0.01], <None> [0.01], <None> [0.01], <startseq> [1.], <yellow> [1.], <bananas> [1.], <laying> [1.], <on> [1.], <a> [1.], <table> [1.], <.> [1.], <red> [1.], <wire> [1.], <running> [1.], <down> [1.], <from> [1.], <the> [1.], <table> [1.], <.> [1.], <watch> [1.] , \t next_word: on\n",
      "-*-*- 36 -*-*-\n",
      "input_seq: <None> [0.01], <None> [0.01], <None> [0.01], <None> [0.01], <None> [0.01], <None> [0.01], <None> [0.01], <None> [0.01], <None> [0.01], <None> [0.01], <None> [0.01], <None> [0.01], <None> [0.01], <None> [0.01], <None> [0.01], <None> [0.01], <None> [0.01], <None> [0.01], <None> [0.01], <None> [0.01], <None> [0.01], <None> [0.01], <None> [0.01], <None> [0.01], <None> [0.01], <None> [0.01], <None> [0.01], <None> [0.01], <None> [0.01], <None> [0.01], <None> [0.01], <None> [0.01], <None> [0.01], <None> [0.01], <None> [0.01], <None> [0.01], <None> [0.01], <None> [0.01], <None> [0.01], <None> [0.01], <None> [0.01], <None> [0.01], <startseq> [1.], <yellow> [1.], <bananas> [1.], <laying> [1.], <on> [1.], <a> [1.], <table> [1.], <.> [1.], <red> [1.], <wire> [1.], <running> [1.], <down> [1.], <from> [1.], <the> [1.], <table> [1.], <.> [1.], <watch> [1.], <on> [1.] , \t next_word: the\n",
      "-*-*- 37 -*-*-\n",
      "input_seq: <None> [0.01], <None> [0.01], <None> [0.01], <None> [0.01], <None> [0.01], <None> [0.01], <None> [0.01], <None> [0.01], <None> [0.01], <None> [0.01], <None> [0.01], <None> [0.01], <None> [0.01], <None> [0.01], <None> [0.01], <None> [0.01], <None> [0.01], <None> [0.01], <None> [0.01], <None> [0.01], <None> [0.01], <None> [0.01], <None> [0.01], <None> [0.01], <None> [0.01], <None> [0.01], <None> [0.01], <None> [0.01], <None> [0.01], <None> [0.01], <None> [0.01], <None> [0.01], <None> [0.01], <None> [0.01], <None> [0.01], <None> [0.01], <None> [0.01], <None> [0.01], <None> [0.01], <None> [0.01], <None> [0.01], <startseq> [1.], <yellow> [1.], <bananas> [1.], <laying> [1.], <on> [1.], <a> [1.], <table> [1.], <.> [1.], <red> [1.], <wire> [1.], <running> [1.], <down> [1.], <from> [1.], <the> [1.], <table> [1.], <.> [1.], <watch> [1.], <on> [1.], <the> [1.] , \t next_word: wrist\n",
      "-*-*- 38 -*-*-\n"
     ]
    },
    {
     "name": "stdout",
     "output_type": "stream",
     "text": [
      "input_seq: <None> [0.01], <None> [0.01], <None> [0.01], <None> [0.01], <None> [0.01], <None> [0.01], <None> [0.01], <None> [0.01], <None> [0.01], <None> [0.01], <None> [0.01], <None> [0.01], <None> [0.01], <None> [0.01], <None> [0.01], <None> [0.01], <None> [0.01], <None> [0.01], <None> [0.01], <None> [0.01], <None> [0.01], <None> [0.01], <None> [0.01], <None> [0.01], <None> [0.01], <None> [0.01], <None> [0.01], <None> [0.01], <None> [0.01], <None> [0.01], <None> [0.01], <None> [0.01], <None> [0.01], <None> [0.01], <None> [0.01], <None> [0.01], <None> [0.01], <None> [0.01], <None> [0.01], <None> [0.01], <startseq> [1.], <yellow> [1.], <bananas> [1.], <laying> [1.], <on> [1.], <a> [1.], <table> [1.], <.> [1.], <red> [1.], <wire> [1.], <running> [1.], <down> [1.], <from> [1.], <the> [1.], <table> [1.], <.> [1.], <watch> [1.], <on> [1.], <the> [1.], <wrist> [1.] , \t next_word: .\n",
      "-*-*- 39 -*-*-\n",
      "input_seq: <None> [0.01], <None> [0.01], <None> [0.01], <None> [0.01], <None> [0.01], <None> [0.01], <None> [0.01], <None> [0.01], <None> [0.01], <None> [0.01], <None> [0.01], <None> [0.01], <None> [0.01], <None> [0.01], <None> [0.01], <None> [0.01], <None> [0.01], <None> [0.01], <None> [0.01], <None> [0.01], <None> [0.01], <None> [0.01], <None> [0.01], <None> [0.01], <None> [0.01], <None> [0.01], <None> [0.01], <None> [0.01], <None> [0.01], <None> [0.01], <None> [0.01], <None> [0.01], <None> [0.01], <None> [0.01], <None> [0.01], <None> [0.01], <None> [0.01], <None> [0.01], <None> [0.01], <startseq> [1.], <yellow> [1.], <bananas> [1.], <laying> [1.], <on> [1.], <a> [1.], <table> [1.], <.> [1.], <red> [1.], <wire> [1.], <running> [1.], <down> [1.], <from> [1.], <the> [1.], <table> [1.], <.> [1.], <watch> [1.], <on> [1.], <the> [1.], <wrist> [1.], <.> [1.] , \t next_word: hand\n",
      "-*-*- 40 -*-*-\n",
      "input_seq: <None> [0.01], <None> [0.01], <None> [0.01], <None> [0.01], <None> [0.01], <None> [0.01], <None> [0.01], <None> [0.01], <None> [0.01], <None> [0.01], <None> [0.01], <None> [0.01], <None> [0.01], <None> [0.01], <None> [0.01], <None> [0.01], <None> [0.01], <None> [0.01], <None> [0.01], <None> [0.01], <None> [0.01], <None> [0.01], <None> [0.01], <None> [0.01], <None> [0.01], <None> [0.01], <None> [0.01], <None> [0.01], <None> [0.01], <None> [0.01], <None> [0.01], <None> [0.01], <None> [0.01], <None> [0.01], <None> [0.01], <None> [0.01], <None> [0.01], <None> [0.01], <startseq> [1.], <yellow> [1.], <bananas> [1.], <laying> [1.], <on> [1.], <a> [1.], <table> [1.], <.> [1.], <red> [1.], <wire> [1.], <running> [1.], <down> [1.], <from> [1.], <the> [1.], <table> [1.], <.> [1.], <watch> [1.], <on> [1.], <the> [1.], <wrist> [1.], <.> [1.], <hand> [1.] , \t next_word: touching\n",
      "-*-*- 41 -*-*-\n",
      "input_seq: <None> [0.01], <None> [0.01], <None> [0.01], <None> [0.01], <None> [0.01], <None> [0.01], <None> [0.01], <None> [0.01], <None> [0.01], <None> [0.01], <None> [0.01], <None> [0.01], <None> [0.01], <None> [0.01], <None> [0.01], <None> [0.01], <None> [0.01], <None> [0.01], <None> [0.01], <None> [0.01], <None> [0.01], <None> [0.01], <None> [0.01], <None> [0.01], <None> [0.01], <None> [0.01], <None> [0.01], <None> [0.01], <None> [0.01], <None> [0.01], <None> [0.01], <None> [0.01], <None> [0.01], <None> [0.01], <None> [0.01], <None> [0.01], <None> [0.01], <startseq> [1.], <yellow> [1.], <bananas> [1.], <laying> [1.], <on> [1.], <a> [1.], <table> [1.], <.> [1.], <red> [1.], <wire> [1.], <running> [1.], <down> [1.], <from> [1.], <the> [1.], <table> [1.], <.> [1.], <watch> [1.], <on> [1.], <the> [1.], <wrist> [1.], <.> [1.], <hand> [1.], <touching> [1.] , \t next_word: the\n",
      "-*-*- 42 -*-*-\n",
      "input_seq: <None> [0.01], <None> [0.01], <None> [0.01], <None> [0.01], <None> [0.01], <None> [0.01], <None> [0.01], <None> [0.01], <None> [0.01], <None> [0.01], <None> [0.01], <None> [0.01], <None> [0.01], <None> [0.01], <None> [0.01], <None> [0.01], <None> [0.01], <None> [0.01], <None> [0.01], <None> [0.01], <None> [0.01], <None> [0.01], <None> [0.01], <None> [0.01], <None> [0.01], <None> [0.01], <None> [0.01], <None> [0.01], <None> [0.01], <None> [0.01], <None> [0.01], <None> [0.01], <None> [0.01], <None> [0.01], <None> [0.01], <None> [0.01], <startseq> [1.], <yellow> [1.], <bananas> [1.], <laying> [1.], <on> [1.], <a> [1.], <table> [1.], <.> [1.], <red> [1.], <wire> [1.], <running> [1.], <down> [1.], <from> [1.], <the> [1.], <table> [1.], <.> [1.], <watch> [1.], <on> [1.], <the> [1.], <wrist> [1.], <.> [1.], <hand> [1.], <touching> [1.], <the> [1.] , \t next_word: banana\n",
      "-*-*- 43 -*-*-\n",
      "input_seq: <None> [0.01], <None> [0.01], <None> [0.01], <None> [0.01], <None> [0.01], <None> [0.01], <None> [0.01], <None> [0.01], <None> [0.01], <None> [0.01], <None> [0.01], <None> [0.01], <None> [0.01], <None> [0.01], <None> [0.01], <None> [0.01], <None> [0.01], <None> [0.01], <None> [0.01], <None> [0.01], <None> [0.01], <None> [0.01], <None> [0.01], <None> [0.01], <None> [0.01], <None> [0.01], <None> [0.01], <None> [0.01], <None> [0.01], <None> [0.01], <None> [0.01], <None> [0.01], <None> [0.01], <None> [0.01], <None> [0.01], <startseq> [1.], <yellow> [1.], <bananas> [1.], <laying> [1.], <on> [1.], <a> [1.], <table> [1.], <.> [1.], <red> [1.], <wire> [1.], <running> [1.], <down> [1.], <from> [1.], <the> [1.], <table> [1.], <.> [1.], <watch> [1.], <on> [1.], <the> [1.], <wrist> [1.], <.> [1.], <hand> [1.], <touching> [1.], <the> [1.], <banana> [1.] , \t next_word: .\n",
      "-*-*- 44 -*-*-\n",
      "input_seq: <None> [0.01], <None> [0.01], <None> [0.01], <None> [0.01], <None> [0.01], <None> [0.01], <None> [0.01], <None> [0.01], <None> [0.01], <None> [0.01], <None> [0.01], <None> [0.01], <None> [0.01], <None> [0.01], <None> [0.01], <None> [0.01], <None> [0.01], <None> [0.01], <None> [0.01], <None> [0.01], <None> [0.01], <None> [0.01], <None> [0.01], <None> [0.01], <None> [0.01], <None> [0.01], <None> [0.01], <None> [0.01], <None> [0.01], <None> [0.01], <None> [0.01], <None> [0.01], <None> [0.01], <None> [0.01], <startseq> [1.], <yellow> [1.], <bananas> [1.], <laying> [1.], <on> [1.], <a> [1.], <table> [1.], <.> [1.], <red> [1.], <wire> [1.], <running> [1.], <down> [1.], <from> [1.], <the> [1.], <table> [1.], <.> [1.], <watch> [1.], <on> [1.], <the> [1.], <wrist> [1.], <.> [1.], <hand> [1.], <touching> [1.], <the> [1.], <banana> [1.], <.> [1.] , \t next_word: brown\n",
      "-*-*- 45 -*-*-\n",
      "input_seq: <None> [0.01], <None> [0.01], <None> [0.01], <None> [0.01], <None> [0.01], <None> [0.01], <None> [0.01], <None> [0.01], <None> [0.01], <None> [0.01], <None> [0.01], <None> [0.01], <None> [0.01], <None> [0.01], <None> [0.01], <None> [0.01], <None> [0.01], <None> [0.01], <None> [0.01], <None> [0.01], <None> [0.01], <None> [0.01], <None> [0.01], <None> [0.01], <None> [0.01], <None> [0.01], <None> [0.01], <None> [0.01], <None> [0.01], <None> [0.01], <None> [0.01], <None> [0.01], <None> [0.01], <startseq> [1.], <yellow> [1.], <bananas> [1.], <laying> [1.], <on> [1.], <a> [1.], <table> [1.], <.> [1.], <red> [1.], <wire> [1.], <running> [1.], <down> [1.], <from> [1.], <the> [1.], <table> [1.], <.> [1.], <watch> [1.], <on> [1.], <the> [1.], <wrist> [1.], <.> [1.], <hand> [1.], <touching> [1.], <the> [1.], <banana> [1.], <.> [1.], <brown> [1.] , \t next_word: mark\n",
      "-*-*- 46 -*-*-\n",
      "input_seq: <None> [0.01], <None> [0.01], <None> [0.01], <None> [0.01], <None> [0.01], <None> [0.01], <None> [0.01], <None> [0.01], <None> [0.01], <None> [0.01], <None> [0.01], <None> [0.01], <None> [0.01], <None> [0.01], <None> [0.01], <None> [0.01], <None> [0.01], <None> [0.01], <None> [0.01], <None> [0.01], <None> [0.01], <None> [0.01], <None> [0.01], <None> [0.01], <None> [0.01], <None> [0.01], <None> [0.01], <None> [0.01], <None> [0.01], <None> [0.01], <None> [0.01], <None> [0.01], <startseq> [1.], <yellow> [1.], <bananas> [1.], <laying> [1.], <on> [1.], <a> [1.], <table> [1.], <.> [1.], <red> [1.], <wire> [1.], <running> [1.], <down> [1.], <from> [1.], <the> [1.], <table> [1.], <.> [1.], <watch> [1.], <on> [1.], <the> [1.], <wrist> [1.], <.> [1.], <hand> [1.], <touching> [1.], <the> [1.], <banana> [1.], <.> [1.], <brown> [1.], <mark> [1.] , \t next_word: on\n",
      "-*-*- 47 -*-*-\n",
      "input_seq: <None> [0.01], <None> [0.01], <None> [0.01], <None> [0.01], <None> [0.01], <None> [0.01], <None> [0.01], <None> [0.01], <None> [0.01], <None> [0.01], <None> [0.01], <None> [0.01], <None> [0.01], <None> [0.01], <None> [0.01], <None> [0.01], <None> [0.01], <None> [0.01], <None> [0.01], <None> [0.01], <None> [0.01], <None> [0.01], <None> [0.01], <None> [0.01], <None> [0.01], <None> [0.01], <None> [0.01], <None> [0.01], <None> [0.01], <None> [0.01], <None> [0.01], <startseq> [1.], <yellow> [1.], <bananas> [1.], <laying> [1.], <on> [1.], <a> [1.], <table> [1.], <.> [1.], <red> [1.], <wire> [1.], <running> [1.], <down> [1.], <from> [1.], <the> [1.], <table> [1.], <.> [1.], <watch> [1.], <on> [1.], <the> [1.], <wrist> [1.], <.> [1.], <hand> [1.], <touching> [1.], <the> [1.], <banana> [1.], <.> [1.], <brown> [1.], <mark> [1.], <on> [1.] , \t next_word: the\n",
      "-*-*- 48 -*-*-\n",
      "input_seq: <None> [0.01], <None> [0.01], <None> [0.01], <None> [0.01], <None> [0.01], <None> [0.01], <None> [0.01], <None> [0.01], <None> [0.01], <None> [0.01], <None> [0.01], <None> [0.01], <None> [0.01], <None> [0.01], <None> [0.01], <None> [0.01], <None> [0.01], <None> [0.01], <None> [0.01], <None> [0.01], <None> [0.01], <None> [0.01], <None> [0.01], <None> [0.01], <None> [0.01], <None> [0.01], <None> [0.01], <None> [0.01], <None> [0.01], <None> [0.01], <startseq> [1.], <yellow> [1.], <bananas> [1.], <laying> [1.], <on> [1.], <a> [1.], <table> [1.], <.> [1.], <red> [1.], <wire> [1.], <running> [1.], <down> [1.], <from> [1.], <the> [1.], <table> [1.], <.> [1.], <watch> [1.], <on> [1.], <the> [1.], <wrist> [1.], <.> [1.], <hand> [1.], <touching> [1.], <the> [1.], <banana> [1.], <.> [1.], <brown> [1.], <mark> [1.], <on> [1.], <the> [1.] , \t next_word: banana\n",
      "-*-*- 49 -*-*-\n",
      "input_seq: <None> [0.01], <None> [0.01], <None> [0.01], <None> [0.01], <None> [0.01], <None> [0.01], <None> [0.01], <None> [0.01], <None> [0.01], <None> [0.01], <None> [0.01], <None> [0.01], <None> [0.01], <None> [0.01], <None> [0.01], <None> [0.01], <None> [0.01], <None> [0.01], <None> [0.01], <None> [0.01], <None> [0.01], <None> [0.01], <None> [0.01], <None> [0.01], <None> [0.01], <None> [0.01], <None> [0.01], <None> [0.01], <None> [0.01], <startseq> [1.], <yellow> [1.], <bananas> [1.], <laying> [1.], <on> [1.], <a> [1.], <table> [1.], <.> [1.], <red> [1.], <wire> [1.], <running> [1.], <down> [1.], <from> [1.], <the> [1.], <table> [1.], <.> [1.], <watch> [1.], <on> [1.], <the> [1.], <wrist> [1.], <.> [1.], <hand> [1.], <touching> [1.], <the> [1.], <banana> [1.], <.> [1.], <brown> [1.], <mark> [1.], <on> [1.], <the> [1.], <banana> [1.] , \t next_word: .\n",
      "-*-*- 50 -*-*-\n",
      "input_seq: <None> [0.01], <None> [0.01], <None> [0.01], <None> [0.01], <None> [0.01], <None> [0.01], <None> [0.01], <None> [0.01], <None> [0.01], <None> [0.01], <None> [0.01], <None> [0.01], <None> [0.01], <None> [0.01], <None> [0.01], <None> [0.01], <None> [0.01], <None> [0.01], <None> [0.01], <None> [0.01], <None> [0.01], <None> [0.01], <None> [0.01], <None> [0.01], <None> [0.01], <None> [0.01], <None> [0.01], <None> [0.01], <startseq> [1.], <yellow> [1.], <bananas> [1.], <laying> [1.], <on> [1.], <a> [1.], <table> [1.], <.> [1.], <red> [1.], <wire> [1.], <running> [1.], <down> [1.], <from> [1.], <the> [1.], <table> [1.], <.> [1.], <watch> [1.], <on> [1.], <the> [1.], <wrist> [1.], <.> [1.], <hand> [1.], <touching> [1.], <the> [1.], <banana> [1.], <.> [1.], <brown> [1.], <mark> [1.], <on> [1.], <the> [1.], <banana> [1.], <.> [1.] , \t next_word: bananas\n",
      "-*-*- 51 -*-*-\n",
      "input_seq: <None> [0.01], <None> [0.01], <None> [0.01], <None> [0.01], <None> [0.01], <None> [0.01], <None> [0.01], <None> [0.01], <None> [0.01], <None> [0.01], <None> [0.01], <None> [0.01], <None> [0.01], <None> [0.01], <None> [0.01], <None> [0.01], <None> [0.01], <None> [0.01], <None> [0.01], <None> [0.01], <None> [0.01], <None> [0.01], <None> [0.01], <None> [0.01], <None> [0.01], <None> [0.01], <None> [0.01], <startseq> [1.], <yellow> [1.], <bananas> [1.], <laying> [1.], <on> [1.], <a> [1.], <table> [1.], <.> [1.], <red> [1.], <wire> [1.], <running> [1.], <down> [1.], <from> [1.], <the> [1.], <table> [1.], <.> [1.], <watch> [1.], <on> [1.], <the> [1.], <wrist> [1.], <.> [1.], <hand> [1.], <touching> [1.], <the> [1.], <banana> [1.], <.> [1.], <brown> [1.], <mark> [1.], <on> [1.], <the> [1.], <banana> [1.], <.> [1.], <bananas> [1.] , \t next_word: hooked\n",
      "-*-*- 52 -*-*-\n",
      "input_seq: <None> [0.01], <None> [0.01], <None> [0.01], <None> [0.01], <None> [0.01], <None> [0.01], <None> [0.01], <None> [0.01], <None> [0.01], <None> [0.01], <None> [0.01], <None> [0.01], <None> [0.01], <None> [0.01], <None> [0.01], <None> [0.01], <None> [0.01], <None> [0.01], <None> [0.01], <None> [0.01], <None> [0.01], <None> [0.01], <None> [0.01], <None> [0.01], <None> [0.01], <None> [0.01], <startseq> [1.], <yellow> [1.], <bananas> [1.], <laying> [1.], <on> [1.], <a> [1.], <table> [1.], <.> [1.], <red> [1.], <wire> [1.], <running> [1.], <down> [1.], <from> [1.], <the> [1.], <table> [1.], <.> [1.], <watch> [1.], <on> [1.], <the> [1.], <wrist> [1.], <.> [1.], <hand> [1.], <touching> [1.], <the> [1.], <banana> [1.], <.> [1.], <brown> [1.], <mark> [1.], <on> [1.], <the> [1.], <banana> [1.], <.> [1.], <bananas> [1.], <hooked> [1.] , \t next_word: up\n",
      "-*-*- 53 -*-*-\n",
      "input_seq: <None> [0.01], <None> [0.01], <None> [0.01], <None> [0.01], <None> [0.01], <None> [0.01], <None> [0.01], <None> [0.01], <None> [0.01], <None> [0.01], <None> [0.01], <None> [0.01], <None> [0.01], <None> [0.01], <None> [0.01], <None> [0.01], <None> [0.01], <None> [0.01], <None> [0.01], <None> [0.01], <None> [0.01], <None> [0.01], <None> [0.01], <None> [0.01], <None> [0.01], <startseq> [1.], <yellow> [1.], <bananas> [1.], <laying> [1.], <on> [1.], <a> [1.], <table> [1.], <.> [1.], <red> [1.], <wire> [1.], <running> [1.], <down> [1.], <from> [1.], <the> [1.], <table> [1.], <.> [1.], <watch> [1.], <on> [1.], <the> [1.], <wrist> [1.], <.> [1.], <hand> [1.], <touching> [1.], <the> [1.], <banana> [1.], <.> [1.], <brown> [1.], <mark> [1.], <on> [1.], <the> [1.], <banana> [1.], <.> [1.], <bananas> [1.], <hooked> [1.], <up> [1.] , \t next_word: to\n",
      "-*-*- 54 -*-*-\n",
      "input_seq: <None> [0.01], <None> [0.01], <None> [0.01], <None> [0.01], <None> [0.01], <None> [0.01], <None> [0.01], <None> [0.01], <None> [0.01], <None> [0.01], <None> [0.01], <None> [0.01], <None> [0.01], <None> [0.01], <None> [0.01], <None> [0.01], <None> [0.01], <None> [0.01], <None> [0.01], <None> [0.01], <None> [0.01], <None> [0.01], <None> [0.01], <None> [0.01], <startseq> [1.], <yellow> [1.], <bananas> [1.], <laying> [1.], <on> [1.], <a> [1.], <table> [1.], <.> [1.], <red> [1.], <wire> [1.], <running> [1.], <down> [1.], <from> [1.], <the> [1.], <table> [1.], <.> [1.], <watch> [1.], <on> [1.], <the> [1.], <wrist> [1.], <.> [1.], <hand> [1.], <touching> [1.], <the> [1.], <banana> [1.], <.> [1.], <brown> [1.], <mark> [1.], <on> [1.], <the> [1.], <banana> [1.], <.> [1.], <bananas> [1.], <hooked> [1.], <up> [1.], <to> [1.] , \t next_word: wires\n",
      "-*-*- 55 -*-*-\n",
      "input_seq: <None> [0.01], <None> [0.01], <None> [0.01], <None> [0.01], <None> [0.01], <None> [0.01], <None> [0.01], <None> [0.01], <None> [0.01], <None> [0.01], <None> [0.01], <None> [0.01], <None> [0.01], <None> [0.01], <None> [0.01], <None> [0.01], <None> [0.01], <None> [0.01], <None> [0.01], <None> [0.01], <None> [0.01], <None> [0.01], <None> [0.01], <startseq> [1.], <yellow> [1.], <bananas> [1.], <laying> [1.], <on> [1.], <a> [1.], <table> [1.], <.> [1.], <red> [1.], <wire> [1.], <running> [1.], <down> [1.], <from> [1.], <the> [1.], <table> [1.], <.> [1.], <watch> [1.], <on> [1.], <the> [1.], <wrist> [1.], <.> [1.], <hand> [1.], <touching> [1.], <the> [1.], <banana> [1.], <.> [1.], <brown> [1.], <mark> [1.], <on> [1.], <the> [1.], <banana> [1.], <.> [1.], <bananas> [1.], <hooked> [1.], <up> [1.], <to> [1.], <wires> [1.] , \t next_word: .\n",
      "-*-*- 56 -*-*-\n",
      "input_seq: <None> [0.01], <None> [0.01], <None> [0.01], <None> [0.01], <None> [0.01], <None> [0.01], <None> [0.01], <None> [0.01], <None> [0.01], <None> [0.01], <None> [0.01], <None> [0.01], <None> [0.01], <None> [0.01], <None> [0.01], <None> [0.01], <None> [0.01], <None> [0.01], <None> [0.01], <None> [0.01], <None> [0.01], <None> [0.01], <startseq> [1.], <yellow> [1.], <bananas> [1.], <laying> [1.], <on> [1.], <a> [1.], <table> [1.], <.> [1.], <red> [1.], <wire> [1.], <running> [1.], <down> [1.], <from> [1.], <the> [1.], <table> [1.], <.> [1.], <watch> [1.], <on> [1.], <the> [1.], <wrist> [1.], <.> [1.], <hand> [1.], <touching> [1.], <the> [1.], <banana> [1.], <.> [1.], <brown> [1.], <mark> [1.], <on> [1.], <the> [1.], <banana> [1.], <.> [1.], <bananas> [1.], <hooked> [1.], <up> [1.], <to> [1.], <wires> [1.], <.> [1.] , \t next_word: white\n",
      "-*-*- 57 -*-*-\n"
     ]
    },
    {
     "name": "stdout",
     "output_type": "stream",
     "text": [
      "input_seq: <None> [0.01], <None> [0.01], <None> [0.01], <None> [0.01], <None> [0.01], <None> [0.01], <None> [0.01], <None> [0.01], <None> [0.01], <None> [0.01], <None> [0.01], <None> [0.01], <None> [0.01], <None> [0.01], <None> [0.01], <None> [0.01], <None> [0.01], <None> [0.01], <None> [0.01], <None> [0.01], <None> [0.01], <startseq> [1.], <yellow> [1.], <bananas> [1.], <laying> [1.], <on> [1.], <a> [1.], <table> [1.], <.> [1.], <red> [1.], <wire> [1.], <running> [1.], <down> [1.], <from> [1.], <the> [1.], <table> [1.], <.> [1.], <watch> [1.], <on> [1.], <the> [1.], <wrist> [1.], <.> [1.], <hand> [1.], <touching> [1.], <the> [1.], <banana> [1.], <.> [1.], <brown> [1.], <mark> [1.], <on> [1.], <the> [1.], <banana> [1.], <.> [1.], <bananas> [1.], <hooked> [1.], <up> [1.], <to> [1.], <wires> [1.], <.> [1.], <white> [1.] , \t next_word: tablecloth\n",
      "-*-*- 58 -*-*-\n",
      "input_seq: <None> [0.01], <None> [0.01], <None> [0.01], <None> [0.01], <None> [0.01], <None> [0.01], <None> [0.01], <None> [0.01], <None> [0.01], <None> [0.01], <None> [0.01], <None> [0.01], <None> [0.01], <None> [0.01], <None> [0.01], <None> [0.01], <None> [0.01], <None> [0.01], <None> [0.01], <None> [0.01], <startseq> [1.], <yellow> [1.], <bananas> [1.], <laying> [1.], <on> [1.], <a> [1.], <table> [1.], <.> [1.], <red> [1.], <wire> [1.], <running> [1.], <down> [1.], <from> [1.], <the> [1.], <table> [1.], <.> [1.], <watch> [1.], <on> [1.], <the> [1.], <wrist> [1.], <.> [1.], <hand> [1.], <touching> [1.], <the> [1.], <banana> [1.], <.> [1.], <brown> [1.], <mark> [1.], <on> [1.], <the> [1.], <banana> [1.], <.> [1.], <bananas> [1.], <hooked> [1.], <up> [1.], <to> [1.], <wires> [1.], <.> [1.], <white> [1.], <tablecloth> [1.] , \t next_word: on\n",
      "-*-*- 59 -*-*-\n",
      "input_seq: <None> [0.01], <None> [0.01], <None> [0.01], <None> [0.01], <None> [0.01], <None> [0.01], <None> [0.01], <None> [0.01], <None> [0.01], <None> [0.01], <None> [0.01], <None> [0.01], <None> [0.01], <None> [0.01], <None> [0.01], <None> [0.01], <None> [0.01], <None> [0.01], <None> [0.01], <startseq> [1.], <yellow> [1.], <bananas> [1.], <laying> [1.], <on> [1.], <a> [1.], <table> [1.], <.> [1.], <red> [1.], <wire> [1.], <running> [1.], <down> [1.], <from> [1.], <the> [1.], <table> [1.], <.> [1.], <watch> [1.], <on> [1.], <the> [1.], <wrist> [1.], <.> [1.], <hand> [1.], <touching> [1.], <the> [1.], <banana> [1.], <.> [1.], <brown> [1.], <mark> [1.], <on> [1.], <the> [1.], <banana> [1.], <.> [1.], <bananas> [1.], <hooked> [1.], <up> [1.], <to> [1.], <wires> [1.], <.> [1.], <white> [1.], <tablecloth> [1.], <on> [1.] , \t next_word: the\n",
      "-*-*- 60 -*-*-\n",
      "input_seq: <None> [0.01], <None> [0.01], <None> [0.01], <None> [0.01], <None> [0.01], <None> [0.01], <None> [0.01], <None> [0.01], <None> [0.01], <None> [0.01], <None> [0.01], <None> [0.01], <None> [0.01], <None> [0.01], <None> [0.01], <None> [0.01], <None> [0.01], <None> [0.01], <startseq> [1.], <yellow> [1.], <bananas> [1.], <laying> [1.], <on> [1.], <a> [1.], <table> [1.], <.> [1.], <red> [1.], <wire> [1.], <running> [1.], <down> [1.], <from> [1.], <the> [1.], <table> [1.], <.> [1.], <watch> [1.], <on> [1.], <the> [1.], <wrist> [1.], <.> [1.], <hand> [1.], <touching> [1.], <the> [1.], <banana> [1.], <.> [1.], <brown> [1.], <mark> [1.], <on> [1.], <the> [1.], <banana> [1.], <.> [1.], <bananas> [1.], <hooked> [1.], <up> [1.], <to> [1.], <wires> [1.], <.> [1.], <white> [1.], <tablecloth> [1.], <on> [1.], <the> [1.] , \t next_word: table\n",
      "-*-*- 61 -*-*-\n",
      "input_seq: <None> [0.01], <None> [0.01], <None> [0.01], <None> [0.01], <None> [0.01], <None> [0.01], <None> [0.01], <None> [0.01], <None> [0.01], <None> [0.01], <None> [0.01], <None> [0.01], <None> [0.01], <None> [0.01], <None> [0.01], <None> [0.01], <None> [0.01], <startseq> [1.], <yellow> [1.], <bananas> [1.], <laying> [1.], <on> [1.], <a> [1.], <table> [1.], <.> [1.], <red> [1.], <wire> [1.], <running> [1.], <down> [1.], <from> [1.], <the> [1.], <table> [1.], <.> [1.], <watch> [1.], <on> [1.], <the> [1.], <wrist> [1.], <.> [1.], <hand> [1.], <touching> [1.], <the> [1.], <banana> [1.], <.> [1.], <brown> [1.], <mark> [1.], <on> [1.], <the> [1.], <banana> [1.], <.> [1.], <bananas> [1.], <hooked> [1.], <up> [1.], <to> [1.], <wires> [1.], <.> [1.], <white> [1.], <tablecloth> [1.], <on> [1.], <the> [1.], <table> [1.] , \t next_word: .\n",
      "-*-*- 62 -*-*-\n",
      "input_seq: <None> [0.01], <None> [0.01], <None> [0.01], <None> [0.01], <None> [0.01], <None> [0.01], <None> [0.01], <None> [0.01], <None> [0.01], <None> [0.01], <None> [0.01], <None> [0.01], <None> [0.01], <None> [0.01], <None> [0.01], <None> [0.01], <startseq> [1.], <yellow> [1.], <bananas> [1.], <laying> [1.], <on> [1.], <a> [1.], <table> [1.], <.> [1.], <red> [1.], <wire> [1.], <running> [1.], <down> [1.], <from> [1.], <the> [1.], <table> [1.], <.> [1.], <watch> [1.], <on> [1.], <the> [1.], <wrist> [1.], <.> [1.], <hand> [1.], <touching> [1.], <the> [1.], <banana> [1.], <.> [1.], <brown> [1.], <mark> [1.], <on> [1.], <the> [1.], <banana> [1.], <.> [1.], <bananas> [1.], <hooked> [1.], <up> [1.], <to> [1.], <wires> [1.], <.> [1.], <white> [1.], <tablecloth> [1.], <on> [1.], <the> [1.], <table> [1.], <.> [1.] , \t next_word: mix\n",
      "-*-*- 63 -*-*-\n",
      "input_seq: <None> [0.01], <None> [0.01], <None> [0.01], <None> [0.01], <None> [0.01], <None> [0.01], <None> [0.01], <None> [0.01], <None> [0.01], <None> [0.01], <None> [0.01], <None> [0.01], <None> [0.01], <None> [0.01], <None> [0.01], <startseq> [1.], <yellow> [1.], <bananas> [1.], <laying> [1.], <on> [1.], <a> [1.], <table> [1.], <.> [1.], <red> [1.], <wire> [1.], <running> [1.], <down> [1.], <from> [1.], <the> [1.], <table> [1.], <.> [1.], <watch> [1.], <on> [1.], <the> [1.], <wrist> [1.], <.> [1.], <hand> [1.], <touching> [1.], <the> [1.], <banana> [1.], <.> [1.], <brown> [1.], <mark> [1.], <on> [1.], <the> [1.], <banana> [1.], <.> [1.], <bananas> [1.], <hooked> [1.], <up> [1.], <to> [1.], <wires> [1.], <.> [1.], <white> [1.], <tablecloth> [1.], <on> [1.], <the> [1.], <table> [1.], <.> [1.], <mix> [1.] , \t next_word: of\n"
     ]
    }
   ],
   "source": [
    "concat_sa_1,residual_combine_sa_1,t21_concat_1,textNet_output = CheckSelfAttention([inputs1[i:i+window],inputs2[i:i+window],inputs3[i:i+window]],labels[i:i+window])            \n",
    "# "
   ]
  },
  {
   "cell_type": "code",
   "execution_count": 105,
   "metadata": {},
   "outputs": [],
   "source": [
    "pd.options.display.max_columns=1000"
   ]
  },
  {
   "cell_type": "code",
   "execution_count": 106,
   "metadata": {},
   "outputs": [],
   "source": [
    "pmo = parallel_model.predict([inputs,pos_encoding])"
   ]
  },
  {
   "cell_type": "code",
   "execution_count": 107,
   "metadata": {},
   "outputs": [
    {
     "data": {
      "text/plain": [
       "array([7073, 7073, 7073, 7073, 7073, 7073, 7073, 7073, 7073, 7073, 7073,\n",
       "       7073, 7073, 7073, 7073, 7073, 7073, 7073, 7073, 7073, 7073, 7073,\n",
       "       7073, 7073, 7073, 7073, 7073, 7073, 7073, 7073, 7073, 7073, 7073,\n",
       "       7073, 7073, 7073, 7073, 7073, 7073, 7073, 7073, 7073, 7073, 7073,\n",
       "       7073, 7073, 7073, 7073, 7073, 7073, 7073, 7073, 7073, 7073, 7073,\n",
       "       7073, 7073, 7073, 7073, 7073])"
      ]
     },
     "execution_count": 107,
     "metadata": {},
     "output_type": "execute_result"
    }
   ],
   "source": [
    "pmo[0].argmax(-1)"
   ]
  },
  {
   "cell_type": "code",
   "execution_count": 108,
   "metadata": {
    "scrolled": true
   },
   "outputs": [
    {
     "name": "stdout",
     "output_type": "stream",
     "text": [
      "pred: manin manin manin manin manin manin manin manin manin manin manin manin manin manin manin manin manin manin manin manin manin manin manin manin manin manin manin manin manin manin manin manin manin manin manin manin manin manin manin manin manin manin manin manin manin manin manin manin manin manin manin manin manin manin manin manin manin manin manin manin\n",
      "act: <unk> <unk> <unk> startseq black and white cat . cat laying on floor . cat looking at camera . cat laying in front of fridge . apple in fridge drawer . fridge is opened wide . cartons on fridge door . fridge is black and white . bags of food in fridge door . cat has white paws . endseq\n"
     ]
    }
   ],
   "source": [
    "print('pred:',' '.join([co_to_w[x] if x>0 else '<unk>' for x in pmo[0].argmax(-1)]))\n",
    "print('act:',' '.join([co_to_w[x[0]] if x[0]>0 else '<unk>' for x in labels[0]]))"
   ]
  },
  {
   "cell_type": "code",
   "execution_count": 111,
   "metadata": {
    "scrolled": true
   },
   "outputs": [
    {
     "data": {
      "image/png": "[encoded data removed]",
      "text/plain": [
       "<Figure size 432x288 with 1 Axes>"
      ]
     },
     "metadata": {
      "needs_background": "light"
     },
     "output_type": "display_data"
    },
    {
     "data": {
      "text/plain": [
       "(-1067685.4, 796791.2)"
      ]
     },
     "execution_count": 111,
     "metadata": {},
     "output_type": "execute_result"
    }
   ],
   "source": [
    "# display(pd.DataFrame(emb_bn[0]))\n",
    "# print(labels[0])\n",
    "g = imgNet.predict([inputs,pos_encoding])\n",
    "plt.imshow(inputs[0])\n",
    "plt.show()\n",
    "g.min(),g.max()\n"
   ]
  },
  {
   "cell_type": "code",
   "execution_count": 91,
   "metadata": {},
   "outputs": [
    {
     "ename": "NameError",
     "evalue": "name 'textNet' is not defined",
     "output_type": "error",
     "traceback": [
      "\u001b[0;31m---------------------------------------------------------------------------\u001b[0m",
      "\u001b[0;31mNameError\u001b[0m                                 Traceback (most recent call last)",
      "\u001b[0;32m<ipython-input-91-9a046b181f75>\u001b[0m in \u001b[0;36m<module>\u001b[0;34m\u001b[0m\n\u001b[0;32m----> 1\u001b[0;31m \u001b[0mt\u001b[0m \u001b[0;34m=\u001b[0m \u001b[0mtextNet\u001b[0m\u001b[0;34m.\u001b[0m\u001b[0mpredict\u001b[0m\u001b[0;34m(\u001b[0m\u001b[0;34m[\u001b[0m\u001b[0minputs2\u001b[0m\u001b[0;34m[\u001b[0m\u001b[0mi\u001b[0m\u001b[0;34m:\u001b[0m\u001b[0mi\u001b[0m\u001b[0;34m+\u001b[0m\u001b[0mwindow\u001b[0m\u001b[0;34m]\u001b[0m\u001b[0;34m,\u001b[0m\u001b[0minputs3\u001b[0m\u001b[0;34m[\u001b[0m\u001b[0mi\u001b[0m\u001b[0;34m:\u001b[0m\u001b[0mi\u001b[0m\u001b[0;34m+\u001b[0m\u001b[0mwindow\u001b[0m\u001b[0;34m]\u001b[0m\u001b[0;34m]\u001b[0m\u001b[0;34m)\u001b[0m\u001b[0;34m\u001b[0m\u001b[0;34m\u001b[0m\u001b[0m\n\u001b[0m\u001b[1;32m      2\u001b[0m \u001b[0mt\u001b[0m\u001b[0;34m.\u001b[0m\u001b[0mmin\u001b[0m\u001b[0;34m(\u001b[0m\u001b[0;34m)\u001b[0m\u001b[0;34m,\u001b[0m\u001b[0mt\u001b[0m\u001b[0;34m.\u001b[0m\u001b[0mmax\u001b[0m\u001b[0;34m(\u001b[0m\u001b[0;34m)\u001b[0m\u001b[0;34m\u001b[0m\u001b[0;34m\u001b[0m\u001b[0m\n",
      "\u001b[0;31mNameError\u001b[0m: name 'textNet' is not defined"
     ]
    }
   ],
   "source": [
    "t = textNet.predict([inputs2[i:i+window],inputs3[i:i+window]])\n",
    "t.min(),t.max()"
   ]
  },
  {
   "cell_type": "code",
   "execution_count": null,
   "metadata": {
    "scrolled": true
   },
   "outputs": [],
   "source": [
    "\n",
    "x,q,k,v,s,scores,beta,o = concat_sa_1\n",
    "display(pd.DataFrame(x[0]))\n",
    "display(pd.DataFrame(q[0]))\n",
    "display(pd.DataFrame(k[0]))\n",
    "display(pd.DataFrame(v[0]))\n",
    "plt.imshow(s[0])\n",
    "plt.show()\n",
    "plt.imshow(scores[0])\n",
    "plt.show()\n",
    "plt.imshow(beta[0])\n",
    "plt.show()\n",
    "display(pd.DataFrame(o[0]))"
   ]
  },
  {
   "cell_type": "code",
   "execution_count": null,
   "metadata": {
    "scrolled": true
   },
   "outputs": [],
   "source": [
    "o, g1,g2= residual_combine_sa_1\n",
    "print(g1[0],g2[0],g1.shape,g2.shape)\n",
    "display(pd.DataFrame(o[0]))"
   ]
  },
  {
   "cell_type": "code",
   "execution_count": null,
   "metadata": {
    "scrolled": true
   },
   "outputs": [],
   "source": [
    "# pd.DataFrame(concat_sa_4[1])"
   ]
  },
  {
   "cell_type": "code",
   "execution_count": null,
   "metadata": {
    "scrolled": true
   },
   "outputs": [],
   "source": [
    "pd.DataFrame(textNet_output[0])"
   ]
  },
  {
   "cell_type": "code",
   "execution_count": null,
   "metadata": {},
   "outputs": [],
   "source": [
    "# with open('../tf_runs/log.csv','a') as f:\n",
    "#     data = '{0:3d}/{7},{1:.4f},{2:.4f},{3:.4f},{4:.4f},{6:.4f}'.format(e+1, t_l, t_a, v_l, v_a, np.mean(tt),min_v_l,EPOCHS)\n",
    "#     t = strftime(\"%m/%d/%Y %H:%M:%S\",localtime())\n",
    "#     f.writelines('\\n[{0}],{1},{2}'.format(t, model_name,data))\n",
    "# data"
   ]
  },
  {
   "cell_type": "code",
   "execution_count": null,
   "metadata": {},
   "outputs": [],
   "source": [
    "history = pd.DataFrame()\n",
    "history['tr_acc'] = hist_ta\n",
    "history['val_acc'] = hist_va\n",
    "history['tr_loss'] = hist_tl\n",
    "history['val_loss'] = hist_vl\n",
    "display(history[['tr_acc','val_acc']].plot())\n",
    "display(history[['tr_loss','val_loss']].plot())\n",
    "history.to_csv('../tf_runs/{0}_x_delete.csv'.format(model_name),index=False)"
   ]
  },
  {
   "cell_type": "markdown",
   "metadata": {},
   "source": [
    "# Evaluate"
   ]
  },
  {
   "cell_type": "code",
   "execution_count": null,
   "metadata": {},
   "outputs": [],
   "source": [
    "model.load_weights('../checkpoints/{0}.h5'.format(model_name))"
   ]
  },
  {
   "cell_type": "code",
   "execution_count": null,
   "metadata": {
    "scrolled": true
   },
   "outputs": [],
   "source": [
    "\n",
    "def predict_captions(image):\n",
    "    start_word = [\"startseq\"]\n",
    "    mask = np.zeros((1,max_wlen,1))+0.001\n",
    "    counter=0\n",
    "    while True:\n",
    "        counter-=1\n",
    "        mask[:,counter,:]=1.0\n",
    "        print(np.sum(mask))\n",
    "        par_caps = [w_to_co[i] for i in start_word]\n",
    "        par_caps = sequence.pad_sequences([par_caps], maxlen=max_wlen, padding='pre',value=0)\n",
    "        preds = model.predict([image, np.array(par_caps),mask])\n",
    "#         print(preds.shape)\n",
    "        idx = preds.argmax(-1)\n",
    "        word_pred = co_to_w[idx[0]]\n",
    "#         print(par_caps)\n",
    "        start_word.append(word_pred)\n",
    "        \n",
    "        if word_pred == \"endseq\" or len(start_word) > max_wlen:\n",
    "            break\n",
    "            \n",
    "    return ' '.join(start_word[1:-1])\n",
    "\n",
    "# print('Predicted:',' '.join(out_text))"
   ]
  },
  {
   "cell_type": "code",
   "execution_count": null,
   "metadata": {},
   "outputs": [],
   "source": [
    "def beam_search_predictions(image, beam_index = 3):\n",
    "    start = [w_to_co[\"startseq\"]]\n",
    "    \n",
    "    # start_word[0][0] = index of the starting word\n",
    "    # start_word[0][1] = probability of the word predicted\n",
    "    start_word = [[start, 0.0]]\n",
    "    mask = np.zeros((1,max_wlen,1))+0.001\n",
    "    counter=0\n",
    "    while len(start_word[0][0]) < max_wlen:\n",
    "        temp = []\n",
    "        counter-=1\n",
    "        mask[:,counter,:]=1.0\n",
    "#         print(np.sum(mask))\n",
    "        for s in start_word:\n",
    "            \n",
    "            par_caps = sequence.pad_sequences([s[0]], maxlen=max_wlen, padding='pre', value=0)\n",
    "            preds = model.predict([image, np.array(par_caps),mask])\n",
    "            \n",
    "            # Getting the top <beam_index>(n) predictions\n",
    "            word_preds = np.argsort(preds[0])[-beam_index:]\n",
    "            \n",
    "            # creating a new list so as to put them via the model again\n",
    "            for w in word_preds:\n",
    "                next_cap, prob = s[0][:], s[1]\n",
    "                next_cap.append(w)\n",
    "                prob += preds[0][w]\n",
    "                temp.append([next_cap, prob])\n",
    "                    \n",
    "        start_word = temp\n",
    "        # Sorting according to the probabilities\n",
    "        start_word = sorted(start_word, reverse=False, key=lambda l: l[1])\n",
    "        # Getting the top words\n",
    "        start_word = start_word[-beam_index:]\n",
    "    \n",
    "    start_word = start_word[-1][0]\n",
    "    intermediate_caption = [co_to_w[i] for i in start_word]\n",
    "\n",
    "    final_caption = []\n",
    "    \n",
    "    for i in intermediate_caption:\n",
    "        if i != 'endseq':\n",
    "            final_caption.append(i)\n",
    "        else:\n",
    "            break\n",
    "    \n",
    "    final_caption = ' '.join(final_caption[1:])\n",
    "    return final_caption"
   ]
  },
  {
   "cell_type": "code",
   "execution_count": null,
   "metadata": {
    "scrolled": true
   },
   "outputs": [],
   "source": [
    "ref_sents = []\n",
    "pred_sents = []\n",
    "for counter in tqdm(range(len(test_images_list))):\n",
    "    testx,testy = next(test_gen)\n",
    "    photo = testx['image_input'][0]\n",
    "#     plt.imshow(photo)\n",
    "#     plt.show()\n",
    "    photo = np.expand_dims(photo,0)\n",
    "    \n",
    "#     print('Actual:',testy['actual_sentence'][0])\n",
    "#     print()\n",
    "    # st = time()\n",
    "    # pred_greedy = predict_captions(photo)\n",
    "    # et = time()\n",
    "    # print('Greedy Predicted:{0},[{1:.2f} s]'.format(pred_greedy,et-st))\n",
    "#     st = time()\n",
    "    pred_bm5 = beam_search_predictions(photo,beam_index=5)\n",
    "#     et = time()\n",
    "#     print('Beam-5 Predicted:{0},[{1:.2f} s]'.format(pred_bm5,et-st))\n",
    "    ref_sents.append(testy['actual_sentence'][0])\n",
    "    pred_sents.append(pred_bm5)\n",
    "    if counter==10:\n",
    "        break"
   ]
  },
  {
   "cell_type": "code",
   "execution_count": null,
   "metadata": {
    "scrolled": true
   },
   "outputs": [],
   "source": [
    "\n",
    "# st = time()\n",
    "# pred_greedy = predict_captions(photo)\n",
    "# et = time()\n",
    "# print('Greedy Predicted:{0},[{1:.2f} s]'.format(pred_greedy,et-st))\n",
    "\n",
    "# st = time()\n",
    "# pred_bm3 = beam_search_predictions(photo,beam_index=3)\n",
    "# et = time()\n",
    "# print('Beam-3 Predicted:{0},[{1:.2f} s]'.format(pred_bm3,et-st))\n",
    "\n",
    "# st = time()\n",
    "# pred_bm5 = beam_search_predictions(photo,beam_index=5)\n",
    "# et = time()\n",
    "# print('Beam-5 Predicted:{0},[{1:.2f} s]'.format(pred_bm5,et-st))\n",
    "\n",
    "# st = time()\n",
    "# pred_bm7 = beam_search_predictions(photo,beam_index=7)\n",
    "# et = time()\n",
    "# print('Beam-7 Predicted:{0},[{1:.2f} s]'.format(pred_bm7,et-st))\n",
    "pd.set_option('display.max_colwidth', -1)\n",
    "df_pred = pd.DataFrame()\n",
    "df_pred['Ref'] = ref_sents\n",
    "df_pred['Pred'] = pred_sents\n",
    "df_pred"
   ]
  },
  {
   "cell_type": "code",
   "execution_count": null,
   "metadata": {},
   "outputs": [],
   "source": [
    "from nltk.translate.bleu_score import sentence_bleu\n",
    "from rouge import Rouge\n",
    "rouge = Rouge()\n",
    "reference = nlp(str(vy['actual_sentence'][0]))\n",
    "reference = [[str(x) for x in list(reference)]]\n",
    "\n",
    "\n",
    "# candidate = nlp(pred_greedy)\n",
    "# candidate = [str(x) for x in list(candidate)]\n",
    "# df_result['greedy'] = [sentence_bleu(reference, candidate, weights=(1, 0, 0, 0))\n",
    "#                       ,sentence_bleu(reference, candidate, weights=(0.5, 0.5, 0, 0))\n",
    "#                       ,sentence_bleu(reference, candidate, weights=(0.33, 0.33, 0.33, 0))\n",
    "#                       ,sentence_bleu(reference, candidate, weights=(0.25, 0.25, 0.25, 0.25))]\n",
    "\n",
    "# candidate = nlp(pred_bm3)\n",
    "# candidate = [str(x) for x in list(candidate)]\n",
    "# df_result['bm3'] = [sentence_bleu(reference, candidate, weights=(1, 0, 0, 0))\n",
    "#                       ,sentence_bleu(reference, candidate, weights=(0.5, 0.5, 0, 0))\n",
    "#                       ,sentence_bleu(reference, candidate, weights=(0.33, 0.33, 0.33, 0))\n",
    "#                       ,sentence_bleu(reference, candidate, weights=(0.25, 0.25, 0.25, 0.25))]\n",
    "row = []\n",
    "for i in range(len(ref_sents)):\n",
    "    r = ref_sents[i]\n",
    "    c = pred_sents[i]\n",
    "    reference = nlp(str(r))\n",
    "    reference = [[str(x) for x in list(reference)]]\n",
    "    candidate = nlp(str(c))\n",
    "    candidate = [str(x) for x in list(candidate)]\n",
    "    row.append([sentence_bleu(reference, candidate, weights=(1, 0, 0, 0))\n",
    "                          ,sentence_bleu(reference, candidate, weights=(0.5, 0.5, 0, 0))\n",
    "                          ,sentence_bleu(reference, candidate, weights=(0.33, 0.33, 0.33, 0))\n",
    "                          ,sentence_bleu(reference, candidate, weights=(0.25, 0.25, 0.25, 0.25))\n",
    "                          ,rouge.get_scores(hyps=c,refs=r)[0]['rouge-l']['f']])\n",
    "\n",
    "\n",
    "# candidate = nlp(pred_bm7)\n",
    "# candidate = [str(x) for x in list(candidate)]\n",
    "# df_result['bm7'] = [sentence_bleu(reference, candidate, weights=(1, 0, 0, 0))\n",
    "#                       ,sentence_bleu(reference, candidate, weights=(0.5, 0.5, 0, 0))\n",
    "#                       ,sentence_bleu(reference, candidate, weights=(0.33, 0.33, 0.33, 0))\n",
    "#                       ,sentence_bleu(reference, candidate, weights=(0.25, 0.25, 0.25, 0.25))]\n",
    "df_result = pd.DataFrame(row)\n",
    "df_result.columns = ['BLEU-1','BLEU-2','BLEU-3','BLEU-4','ROUGE-L']\n",
    "df_result=df_result.round(3)"
   ]
  },
  {
   "cell_type": "code",
   "execution_count": null,
   "metadata": {},
   "outputs": [],
   "source": [
    "# ref_sents,pred_sents\n",
    "df_result.mean()"
   ]
  },
  {
   "cell_type": "code",
   "execution_count": null,
   "metadata": {
    "scrolled": true
   },
   "outputs": [],
   "source": [
    "pd.DataFrame(row)"
   ]
  },
  {
   "cell_type": "code",
   "execution_count": null,
   "metadata": {},
   "outputs": [],
   "source": [
    "\n",
    "reference = str(vy['actual_sentence'][0])\n",
    "# reference = [[str(x) for x in list(reference)]]\n",
    "candidate = pre\n",
    "# candidate = [str(x) for x in list(candidate)]\n",
    "ro = rouge.get_scores(hyps=candidate,refs=reference)\n",
    "ro[0]['ROUGE-L']['f']"
   ]
  },
  {
   "cell_type": "code",
   "execution_count": null,
   "metadata": {},
   "outputs": [],
   "source": [
    "pd.DataFrame(ro[0]).T"
   ]
  },
  {
   "cell_type": "code",
   "execution_count": null,
   "metadata": {},
   "outputs": [],
   "source": [
    "from pycocoevalcap.bleu.bleu import Bleu\n",
    "from pycocoevalcap.rouge.rouge import Rouge\n",
    "from pycocoevalcap.cider.cider import Cider\n",
    "from pycocoevalcap.meteor.meteor import Meteor"
   ]
  },
  {
   "cell_type": "code",
   "execution_count": null,
   "metadata": {},
   "outputs": [],
   "source": [
    "def calc_scores(ref, hypo):\n",
    "    \"\"\"\n",
    "    ref, dictionary of reference sentences (id, sentence)\n",
    "    hypo, dictionary of hypothesis sentences (id, sentence)\n",
    "    score, dictionary of scores\n",
    "    \"\"\"\n",
    "    scorers = [\n",
    "#         (Bleu(4), [\"Bleu_1\", \"Bleu_2\", \"Bleu_3\", \"Bleu_4\"]),\n",
    "#         (Meteor(),\"METEOR\"),\n",
    "        (Rouge(), \"ROUGE_L\"),\n",
    "        (Cider(), \"CIDEr\")\n",
    "    ]\n",
    "    final_scores = {}\n",
    "    for scorer, method in scorers:\n",
    "        score, scores = scorer.compute_score(ref, hypo)\n",
    "        if type(score) == list:\n",
    "            for m, s in zip(method, score):\n",
    "                final_scores[m] = s\n",
    "        else:\n",
    "            final_scores[method] = score\n",
    "    return final_scores "
   ]
  },
  {
   "cell_type": "code",
   "execution_count": null,
   "metadata": {},
   "outputs": [],
   "source": [
    "calc_scores(ref=ref_sents,hypo=pred_sents)"
   ]
  },
  {
   "cell_type": "code",
   "execution_count": null,
   "metadata": {},
   "outputs": [],
   "source": [
    "from nlgeval import NLGEval\n",
    "nlgeval = NLGEval()  # loads the models\n"
   ]
  },
  {
   "cell_type": "code",
   "execution_count": null,
   "metadata": {},
   "outputs": [],
   "source": [
    "references = []\n",
    "hypothesis = []\n",
    "import pickle\n",
    "import numpy as np\n",
    "with open('../dataset/chestxray_cnn_attention_decoder_ref_sents.p', 'rb') as file:\n",
    "    # store the data as binary data stream\n",
    "    references=pickle.load(file)\n",
    "with open('../dataset/chestxray_cnn_attention_decoder_pred_sents.p', 'rb') as file:\n",
    "    # store the data as binary data stream\n",
    "    hypothesis=pickle.load(file)\n",
    "    \n",
    "references=np.array(references)\n",
    "hypothesis=np.array(hypothesis)\n",
    "references[:2],hypothesis[:2]"
   ]
  },
  {
   "cell_type": "code",
   "execution_count": null,
   "metadata": {},
   "outputs": [],
   "source": [
    "refs=np.expand_dims(ref_sents,1)\n",
    "# hyps=np.expand_dims(hypothesis,0)\n",
    "refs=refs.tolist()\n",
    "# hyps=hyps.tolist()\n",
    "hypothesis = pred_sents\n",
    "len(refs),len(hypothesis)"
   ]
  },
  {
   "cell_type": "code",
   "execution_count": null,
   "metadata": {},
   "outputs": [],
   "source": [
    "metrics_dict = nlgeval.compute_metrics(refs, hypothesis)"
   ]
  },
  {
   "cell_type": "code",
   "execution_count": null,
   "metadata": {},
   "outputs": [],
   "source": [
    "r = {idx: strippedlines for (idx, strippedlines) in enumerate(refs)}"
   ]
  },
  {
   "cell_type": "code",
   "execution_count": null,
   "metadata": {},
   "outputs": [],
   "source": [
    "len(r)"
   ]
  },
  {
   "cell_type": "code",
   "execution_count": null,
   "metadata": {},
   "outputs": [],
   "source": [
    "h = {idx: [lines.strip()] for (idx, lines) in enumerate(hypothesis)}"
   ]
  },
  {
   "cell_type": "code",
   "execution_count": null,
   "metadata": {},
   "outputs": [],
   "source": [
    "len(h)"
   ]
  },
  {
   "cell_type": "code",
   "execution_count": null,
   "metadata": {},
   "outputs": [],
   "source": [
    "refs[0],hypothesis[0]"
   ]
  },
  {
   "cell_type": "code",
   "execution_count": null,
   "metadata": {},
   "outputs": [],
   "source": [
    "from nlgeval import compute_individual_metrics\n"
   ]
  },
  {
   "cell_type": "code",
   "execution_count": null,
   "metadata": {},
   "outputs": [],
   "source": [
    "metrics_dict = compute_individual_metrics(refs[1], hypothesis[1])"
   ]
  },
  {
   "cell_type": "code",
   "execution_count": null,
   "metadata": {},
   "outputs": [],
   "source": [
    "import pandas as pd\n",
    "df = pd.DataFrame.from_dict(metrics_dict,orient='index').T"
   ]
  },
  {
   "cell_type": "code",
   "execution_count": null,
   "metadata": {},
   "outputs": [],
   "source": [
    "df = pd.DataFrame()\n",
    "for i in range(300):\n",
    "    m = nlgeval.compute_individual_metrics(refs[i], hypothesis[i])\n",
    "    d = pd.DataFrame.from_dict(m,orient='index').T\n",
    "    df = df.append(d)\n",
    "    print(np.around(i*100//300,2),end='\\r')"
   ]
  },
  {
   "cell_type": "code",
   "execution_count": null,
   "metadata": {},
   "outputs": [],
   "source": [
    "df.shape"
   ]
  },
  {
   "cell_type": "code",
   "execution_count": null,
   "metadata": {},
   "outputs": [],
   "source": [
    "df.mean()"
   ]
  },
  {
   "cell_type": "code",
   "execution_count": null,
   "metadata": {},
   "outputs": [],
   "source": [
    "testx,testy = next(test_gen)\n",
    "plt.imshow(testx['image_input'][1])"
   ]
  },
  {
   "cell_type": "code",
   "execution_count": null,
   "metadata": {},
   "outputs": [],
   "source": [
    "testx.keys()"
   ]
  },
  {
   "cell_type": "code",
   "execution_count": null,
   "metadata": {},
   "outputs": [],
   "source": [
    "for layer  in model.layers:\n",
    "    print(layer.name)"
   ]
  },
  {
   "cell_type": "code",
   "execution_count": null,
   "metadata": {},
   "outputs": [],
   "source": [
    "model_img2_text_ca_1 = Model(model.inputs,model.get_layer('img2text_1').output)\n",
    "model_img2_text_ca_2 = Model(model.inputs,model.get_layer('img2text_2').output)\n",
    "model_img2_text_ca_3 = Model(model.inputs,model.get_layer('img2text_3').output)\n",
    "model_img2_text_ca_4 = Model(model.inputs,model.get_layer('img2text_4').output)\n",
    "# model_text2_img_ca_1 = Model(model.inputs,model.get_layer('text2img_1').output)\n",
    "# model_text2_img_ca_2 = Model(model.inputs,model.get_layer('text2img_2').output)\n",
    "# model_text2_img_ca_3 = Model(model.inputs,model.get_layer('text2img_3').output)\n",
    "# model_text2_img_ca_4 = Model(model.inputs,model.get_layer('text2img_4').output)"
   ]
  },
  {
   "cell_type": "code",
   "execution_count": null,
   "metadata": {},
   "outputs": [],
   "source": [
    "fi2t_1,bi2t_1 = model_img2_text_ca_1.predict(testx)\n",
    "fi2t_2,bi2t_2 = model_img2_text_ca_2.predict(testx)\n",
    "fi2t_3,bi2t_3 = model_img2_text_ca_3.predict(testx)\n",
    "fi2t_4,bi2t_4 = model_img2_text_ca_4.predict(testx)\n",
    "# ft2i_1,bt2i_1 = model_text2_img_ca_1.predict(testx)\n",
    "# ft2i_2,bt2i_2 = model_text2_img_ca_2.predict(testx)\n",
    "# ft2i_3,bt2i_3 = model_text2_img_ca_3.predict(testx)\n",
    "# ft2i_4,bt2i_4 = model_text2_img_ca_4.predict(testx)"
   ]
  },
  {
   "cell_type": "code",
   "execution_count": null,
   "metadata": {},
   "outputs": [],
   "source": [
    "fi2t_1.shape,bi2t_1.shape"
   ]
  },
  {
   "cell_type": "code",
   "execution_count": null,
   "metadata": {},
   "outputs": [],
   "source": [
    "# bt2i_add = bt2i_1+bt2i_1+bt2i_1+bt2i_1\n",
    "bi2t_add = bi2t_1+bi2t_1+bi2t_1+bi2t_1"
   ]
  },
  {
   "cell_type": "code",
   "execution_count": null,
   "metadata": {},
   "outputs": [],
   "source": [
    "# bt2i_add.shape\n",
    "bi2t_add.shape"
   ]
  },
  {
   "cell_type": "code",
   "execution_count": null,
   "metadata": {
    "scrolled": true
   },
   "outputs": [],
   "source": [
    "# for j in range(bt2i_add.shape[0]):    \n",
    "#     i=testx['words_input'][j][-1]\n",
    "#     if i!=0:\n",
    "#         print(j,':',co_to_w[i])\n",
    "#         plt.imshow(bt2i_add[j])\n",
    "#         plt.show()\n",
    "for j in range(bi2t_add.shape[0]):    \n",
    "    i=testx['words_input'][j][-1]\n",
    "    if i!=0:\n",
    "        print(j,':',co_to_w[i])\n",
    "        plt.imshow(bi2t_add[j])\n",
    "        plt.show()"
   ]
  },
  {
   "cell_type": "code",
   "execution_count": null,
   "metadata": {
    "scrolled": true
   },
   "outputs": [],
   "source": [
    "\n",
    "for i in range(pd.DataFrame(bt2i_add[j]).shape[0]):\n",
    "    print('Row:{0},Max Col Idx:{1},Max Col Value:{2}'.format(i,np.argmax(bt2i_add[j][i]),np.max(bt2i_add[j][i])))"
   ]
  },
  {
   "cell_type": "code",
   "execution_count": null,
   "metadata": {},
   "outputs": [],
   "source": [
    "plt.imshow(cv2.resize(bt2i_add[j][57].reshape((8,8)),(256,256),cv2.INTER_CUBIC),cmap='jet')"
   ]
  },
  {
   "cell_type": "code",
   "execution_count": null,
   "metadata": {},
   "outputs": [],
   "source": [
    "plt.imshow(testx['image_input'][1])\n",
    "plt.imshow(cv2.resize(bt2i_add[j][57].reshape((8,8)),(256,256),cv2.INTER_CUBIC),cmap='jet',alpha=0.2)"
   ]
  },
  {
   "cell_type": "code",
   "execution_count": null,
   "metadata": {},
   "outputs": [],
   "source": [
    "testx['words_input'].shape"
   ]
  },
  {
   "cell_type": "code",
   "execution_count": null,
   "metadata": {},
   "outputs": [],
   "source": []
  }
 ],
 "metadata": {
  "kernelspec": {
   "display_name": "tf-gpu-2",
   "language": "python",
   "name": "tf-gpu-2"
  },
  "language_info": {
   "codemirror_mode": {
    "name": "ipython",
    "version": 3
   },
   "file_extension": ".py",
   "mimetype": "text/x-python",
   "name": "python",
   "nbconvert_exporter": "python",
   "pygments_lexer": "ipython3",
   "version": "3.7.7"
  },
  "widgets": {
   "application/vnd.jupyter.widget-state+json": {
    "state": {
     "010ddc4d28bb400086c0f716b1b05081": {
      "model_module": "@jupyter-widgets/controls",
      "model_module_version": "1.4.0",
      "model_name": "HTMLModel",
      "state": {
       "layout": "IPY_MODEL_25ba7d4374d64d1ea836263eb885ff1f",
       "style": "IPY_MODEL_a77b20594717439c857484463f15d685",
       "value": " 87/87 [53:44&lt;00:00, 38.10s/it]"
      }
     },
     "0280fe5d1eea4b63be2e80d2bac721e2": {
      "model_module": "@jupyter-widgets/base",
      "model_module_version": "1.1.0",
      "model_name": "LayoutModel",
      "state": {}
     },
     "03bc49a6777843978e3bd9ab0746c4ea": {
      "model_module": "@jupyter-widgets/base",
      "model_module_version": "1.1.0",
      "model_name": "LayoutModel",
      "state": {}
     },
     "0472670dccd64233b3402e3ec774781b": {
      "model_module": "@jupyter-widgets/base",
      "model_module_version": "1.1.0",
      "model_name": "LayoutModel",
      "state": {}
     },
     "052876b3ff7f489388a43f2109559840": {
      "model_module": "@jupyter-widgets/base",
      "model_module_version": "1.1.0",
      "model_name": "LayoutModel",
      "state": {}
     },
     "0618ddd48aa24064bfa7f7aea072302c": {
      "model_module": "@jupyter-widgets/base",
      "model_module_version": "1.1.0",
      "model_name": "LayoutModel",
      "state": {}
     },
     "067983ddd1564ec598fae1fd9300af41": {
      "model_module": "@jupyter-widgets/base",
      "model_module_version": "1.1.0",
      "model_name": "LayoutModel",
      "state": {}
     },
     "0686955cb1b445a68a2a57b2dbaa6d2f": {
      "model_module": "@jupyter-widgets/controls",
      "model_module_version": "1.4.0",
      "model_name": "ProgressStyleModel",
      "state": {
       "description_width": "initial"
      }
     },
     "07ed5e3500a74d40b42007338756ab20": {
      "model_module": "@jupyter-widgets/controls",
      "model_module_version": "1.4.0",
      "model_name": "FloatProgressModel",
      "state": {
       "description": "Val_Iter: 100%",
       "layout": "IPY_MODEL_d5d90296b40a4357acc9ef4fedffddd9",
       "max": 11,
       "style": "IPY_MODEL_7fc0a03f8e284e94b24bf0f7368b30f6",
       "value": 11
      }
     },
     "08055ccfabde4b74823c630e8d8fccc8": {
      "model_module": "@jupyter-widgets/controls",
      "model_module_version": "1.4.0",
      "model_name": "HTMLModel",
      "state": {
       "layout": "IPY_MODEL_179e763d2a5a45f69d34337d684acb56",
       "style": "IPY_MODEL_98cb38a225034c839f812ed49bc98ac2",
       "value": " 11/11 [03:55&lt;00:00, 21.44s/it]"
      }
     },
     "0990ad529e90440894fecbbd7a2ada24": {
      "model_module": "@jupyter-widgets/controls",
      "model_module_version": "1.4.0",
      "model_name": "ProgressStyleModel",
      "state": {
       "description_width": "initial"
      }
     },
     "0a175d8e29c04840a4de3eadcd496bf3": {
      "model_module": "@jupyter-widgets/controls",
      "model_module_version": "1.4.0",
      "model_name": "DescriptionStyleModel",
      "state": {
       "description_width": ""
      }
     },
     "0a4c152367ec46d5b59b5b79e9e443a2": {
      "model_module": "@jupyter-widgets/base",
      "model_module_version": "1.1.0",
      "model_name": "LayoutModel",
      "state": {}
     },
     "0b860d367e804ec2b99a27f85128bbaf": {
      "model_module": "@jupyter-widgets/controls",
      "model_module_version": "1.4.0",
      "model_name": "DescriptionStyleModel",
      "state": {
       "description_width": ""
      }
     },
     "0c4f07398e294335bc2e8a7e16fea46f": {
      "model_module": "@jupyter-widgets/controls",
      "model_module_version": "1.4.0",
      "model_name": "DescriptionStyleModel",
      "state": {
       "description_width": ""
      }
     },
     "0ce5f1018d3c41778f8fab81aec0caf6": {
      "model_module": "@jupyter-widgets/controls",
      "model_module_version": "1.4.0",
      "model_name": "FloatProgressModel",
      "state": {
       "description": "Val_Iter: 100%",
       "layout": "IPY_MODEL_d3e9397743a54c8183dd5c423f86b308",
       "max": 11,
       "style": "IPY_MODEL_4effd6426d614c288a8443c510b2a87b",
       "value": 11
      }
     },
     "0d928394f999419ea2aef54232a33030": {
      "model_module": "@jupyter-widgets/controls",
      "model_module_version": "1.4.0",
      "model_name": "HBoxModel",
      "state": {
       "children": [
        "IPY_MODEL_3574245a70da48d69ba2da2869262c9e",
        "IPY_MODEL_64c5b696c583401189d6062689629b0f"
       ],
       "layout": "IPY_MODEL_3ac70d2d65cf45a6aa51391d273af503"
      }
     },
     "0dfba8164d784be886b31fae8ec54e67": {
      "model_module": "@jupyter-widgets/controls",
      "model_module_version": "1.4.0",
      "model_name": "DescriptionStyleModel",
      "state": {
       "description_width": ""
      }
     },
     "0e522d1d81e94f71a55592563548c143": {
      "model_module": "@jupyter-widgets/base",
      "model_module_version": "1.1.0",
      "model_name": "LayoutModel",
      "state": {}
     },
     "103af0ab7c7b4c30b7a8b13026f4025d": {
      "model_module": "@jupyter-widgets/controls",
      "model_module_version": "1.4.0",
      "model_name": "HTMLModel",
      "state": {
       "layout": "IPY_MODEL_65af2c1ce6cc4a7db329d01b71a01e2e",
       "style": "IPY_MODEL_4c1fd3010ec4457c92504ac15f707a23",
       "value": " 11/11 [03:59&lt;00:00, 21.59s/it]"
      }
     },
     "114db825e35e4419a53098ee3f75e961": {
      "model_module": "@jupyter-widgets/controls",
      "model_module_version": "1.4.0",
      "model_name": "HBoxModel",
      "state": {
       "children": [
        "IPY_MODEL_23eca8db2f42440083f030ef059c1f5a",
        "IPY_MODEL_e23abb7e8ed844639541b3d321db77d6"
       ],
       "layout": "IPY_MODEL_03bc49a6777843978e3bd9ab0746c4ea"
      }
     },
     "128c9f0683a8419db700394458b19137": {
      "model_module": "@jupyter-widgets/controls",
      "model_module_version": "1.4.0",
      "model_name": "DescriptionStyleModel",
      "state": {
       "description_width": ""
      }
     },
     "12910800928f48519c60dc501bda1e52": {
      "model_module": "@jupyter-widgets/base",
      "model_module_version": "1.1.0",
      "model_name": "LayoutModel",
      "state": {}
     },
     "12b6cbaaeb43475ab19d718096325861": {
      "model_module": "@jupyter-widgets/controls",
      "model_module_version": "1.4.0",
      "model_name": "HTMLModel",
      "state": {
       "layout": "IPY_MODEL_95a8d0221b8644288af205b07b05a460",
       "style": "IPY_MODEL_2976b59ab70248f6b95bc162712bbdb2",
       "value": " 0/87 [00:00&lt;?, ?it/s]"
      }
     },
     "13a7bb140ef5437ba0915b4945e3218f": {
      "model_module": "@jupyter-widgets/controls",
      "model_module_version": "1.4.0",
      "model_name": "DescriptionStyleModel",
      "state": {
       "description_width": ""
      }
     },
     "14d2f602a8ef425fb0496f698080154e": {
      "model_module": "@jupyter-widgets/controls",
      "model_module_version": "1.4.0",
      "model_name": "HTMLModel",
      "state": {
       "layout": "IPY_MODEL_12910800928f48519c60dc501bda1e52",
       "style": "IPY_MODEL_7bd832a9bed44210817e0edfcaef2f6a",
       "value": " 11/11 [04:14&lt;00:00, 23.29s/it]"
      }
     },
     "14e9ffc2d75f4e8b9b370037a0f20514": {
      "model_module": "@jupyter-widgets/controls",
      "model_module_version": "1.4.0",
      "model_name": "DescriptionStyleModel",
      "state": {
       "description_width": ""
      }
     },
     "15b40f5b7e434ff18a25568f612fc490": {
      "model_module": "@jupyter-widgets/controls",
      "model_module_version": "1.4.0",
      "model_name": "ProgressStyleModel",
      "state": {
       "description_width": "initial"
      }
     },
     "15c5c40caf5c419384c930ca5cf787bb": {
      "model_module": "@jupyter-widgets/controls",
      "model_module_version": "1.4.0",
      "model_name": "HTMLModel",
      "state": {
       "layout": "IPY_MODEL_fad18746c9e0432bb83862ed21b8a3b6",
       "style": "IPY_MODEL_cddff91b4c7d4f9f93fd18ceda00ee51",
       "value": " 14/87 [08:41&lt;46:06, 37.90s/it]"
      }
     },
     "1607dbcd442b41e69ee3c78719d9024d": {
      "model_module": "@jupyter-widgets/controls",
      "model_module_version": "1.4.0",
      "model_name": "FloatProgressModel",
      "state": {
       "description": "Train_Iter: 100%",
       "layout": "IPY_MODEL_642809ddfbf94c39ad35538cd368e0b2",
       "max": 87,
       "style": "IPY_MODEL_831d94698c33465db8277691c9a69757",
       "value": 87
      }
     },
     "16cdc7cd5bb54a308935142b9776b7d7": {
      "model_module": "@jupyter-widgets/controls",
      "model_module_version": "1.4.0",
      "model_name": "ProgressStyleModel",
      "state": {
       "description_width": "initial"
      }
     },
     "174f37da3ad94a50bbb9c84f0c3383e1": {
      "model_module": "@jupyter-widgets/controls",
      "model_module_version": "1.4.0",
      "model_name": "ProgressStyleModel",
      "state": {
       "description_width": "initial"
      }
     },
     "179e763d2a5a45f69d34337d684acb56": {
      "model_module": "@jupyter-widgets/base",
      "model_module_version": "1.1.0",
      "model_name": "LayoutModel",
      "state": {}
     },
     "183fb3a7584e41329f2efaee99309575": {
      "model_module": "@jupyter-widgets/base",
      "model_module_version": "1.1.0",
      "model_name": "LayoutModel",
      "state": {}
     },
     "1aa0b931cf0f4003a49bb2c157e15353": {
      "model_module": "@jupyter-widgets/controls",
      "model_module_version": "1.4.0",
      "model_name": "HTMLModel",
      "state": {
       "layout": "IPY_MODEL_067983ddd1564ec598fae1fd9300af41",
       "style": "IPY_MODEL_fb0c0b497e6b4e4892750019872f4164",
       "value": " 87/87 [53:43&lt;00:00, 38.17s/it]"
      }
     },
     "1af734f465bb4948a5a1ab0d64bc1255": {
      "model_module": "@jupyter-widgets/base",
      "model_module_version": "1.1.0",
      "model_name": "LayoutModel",
      "state": {}
     },
     "1bd0dc943989432b90e6eecf58d9f409": {
      "model_module": "@jupyter-widgets/controls",
      "model_module_version": "1.4.0",
      "model_name": "HTMLModel",
      "state": {
       "layout": "IPY_MODEL_39428a1a4a0c4e7fae82479685f1175a",
       "style": "IPY_MODEL_13a7bb140ef5437ba0915b4945e3218f",
       "value": " 11/11 [04:21&lt;00:00, 22.43s/it]"
      }
     },
     "1c04700293c6429d92cfa48a870a1913": {
      "model_module": "@jupyter-widgets/controls",
      "model_module_version": "1.4.0",
      "model_name": "ProgressStyleModel",
      "state": {
       "description_width": "initial"
      }
     },
     "1c7085a5ca4e4b0b81d08c57ca94f16f": {
      "model_module": "@jupyter-widgets/base",
      "model_module_version": "1.1.0",
      "model_name": "LayoutModel",
      "state": {}
     },
     "1cb61d70630b4bb3ba593ef1033a0d0d": {
      "model_module": "@jupyter-widgets/controls",
      "model_module_version": "1.4.0",
      "model_name": "HTMLModel",
      "state": {
       "layout": "IPY_MODEL_052876b3ff7f489388a43f2109559840",
       "style": "IPY_MODEL_ff888637100642dca130ec2fb7232e13",
       "value": " 87/87 [53:38&lt;00:00, 37.54s/it]"
      }
     },
     "1e15df9ed4c2438e870aa8434890313f": {
      "model_module": "@jupyter-widgets/base",
      "model_module_version": "1.1.0",
      "model_name": "LayoutModel",
      "state": {}
     },
     "1ef0475776934256bcc2e5e6e89d4935": {
      "model_module": "@jupyter-widgets/controls",
      "model_module_version": "1.4.0",
      "model_name": "ProgressStyleModel",
      "state": {
       "description_width": "initial"
      }
     },
     "1f4a44ce3c704cea8062213e1fa35e37": {
      "model_module": "@jupyter-widgets/controls",
      "model_module_version": "1.4.0",
      "model_name": "HBoxModel",
      "state": {
       "children": [
        "IPY_MODEL_7d752123f9294b29b3a6dfc381a1f6ea",
        "IPY_MODEL_12b6cbaaeb43475ab19d718096325861"
       ],
       "layout": "IPY_MODEL_f6cf5d1a71ca4dd3bce344957887c2e2"
      }
     },
     "1fc6ec1bf412461d97d727cfe944c8bd": {
      "model_module": "@jupyter-widgets/controls",
      "model_module_version": "1.4.0",
      "model_name": "DescriptionStyleModel",
      "state": {
       "description_width": ""
      }
     },
     "1fd2f5558ccf4b31b9546312dc0fa4eb": {
      "model_module": "@jupyter-widgets/base",
      "model_module_version": "1.1.0",
      "model_name": "LayoutModel",
      "state": {}
     },
     "2052b7f46d744fe4bb1239adc0a804a1": {
      "model_module": "@jupyter-widgets/controls",
      "model_module_version": "1.4.0",
      "model_name": "HTMLModel",
      "state": {
       "layout": "IPY_MODEL_ee68112692074b64bf325156e4f8688a",
       "style": "IPY_MODEL_7e3993445e57417eab04babf83884ae5",
       "value": " 20/87 [12:28&lt;42:28, 38.04s/it]"
      }
     },
     "206c3db300ff42f3b4dc3091ffad6c6d": {
      "model_module": "@jupyter-widgets/controls",
      "model_module_version": "1.4.0",
      "model_name": "HTMLModel",
      "state": {
       "layout": "IPY_MODEL_72a2701d461c48f3bcf907977706bcec",
       "style": "IPY_MODEL_b363d1e512884aaf95b42b34d820ffb2",
       "value": " 11/11 [04:14&lt;00:00, 22.85s/it]"
      }
     },
     "233c6fc7f2064032b5b38a7f846f0a49": {
      "model_module": "@jupyter-widgets/controls",
      "model_module_version": "1.4.0",
      "model_name": "DescriptionStyleModel",
      "state": {
       "description_width": ""
      }
     },
     "2368f46ac52e45b6ac26c5697935d13f": {
      "model_module": "@jupyter-widgets/controls",
      "model_module_version": "1.4.0",
      "model_name": "DescriptionStyleModel",
      "state": {
       "description_width": ""
      }
     },
     "23eca8db2f42440083f030ef059c1f5a": {
      "model_module": "@jupyter-widgets/controls",
      "model_module_version": "1.4.0",
      "model_name": "FloatProgressModel",
      "state": {
       "description": "Train_Iter:  43%",
       "layout": "IPY_MODEL_d0732bf7788640a6bc9121156ee49e91",
       "max": 87,
       "style": "IPY_MODEL_5647668a4c3647abadd9b19814cc7803",
       "value": 37
      }
     },
     "25618cf6387049b5b253b52f1ea7e34c": {
      "model_module": "@jupyter-widgets/base",
      "model_module_version": "1.1.0",
      "model_name": "LayoutModel",
      "state": {}
     },
     "25ba7d4374d64d1ea836263eb885ff1f": {
      "model_module": "@jupyter-widgets/base",
      "model_module_version": "1.1.0",
      "model_name": "LayoutModel",
      "state": {}
     },
     "26db79fd49614853b20f7bc21aa215ed": {
      "model_module": "@jupyter-widgets/controls",
      "model_module_version": "1.4.0",
      "model_name": "FloatProgressModel",
      "state": {
       "bar_style": "danger",
       "description": "Epoch:   0%",
       "layout": "IPY_MODEL_6c5c109e97da4d26b7a3495db6929dae",
       "max": 50,
       "style": "IPY_MODEL_b1e2d7a8e5e649378275353af2320df6"
      }
     },
     "277ad9b8b0ed4f829ea7158b73e96419": {
      "model_module": "@jupyter-widgets/controls",
      "model_module_version": "1.4.0",
      "model_name": "DescriptionStyleModel",
      "state": {
       "description_width": ""
      }
     },
     "28f098caa09149a4b787e3b18aa659e0": {
      "model_module": "@jupyter-widgets/base",
      "model_module_version": "1.1.0",
      "model_name": "LayoutModel",
      "state": {}
     },
     "2976b59ab70248f6b95bc162712bbdb2": {
      "model_module": "@jupyter-widgets/controls",
      "model_module_version": "1.4.0",
      "model_name": "DescriptionStyleModel",
      "state": {
       "description_width": ""
      }
     },
     "299a123c88004d90a95bad4b1909050b": {
      "model_module": "@jupyter-widgets/controls",
      "model_module_version": "1.4.0",
      "model_name": "HTMLModel",
      "state": {
       "layout": "IPY_MODEL_41fa75e23a52442fa8231fcfcf969d79",
       "style": "IPY_MODEL_277ad9b8b0ed4f829ea7158b73e96419",
       "value": " 11/50 [12:15:05&lt;43:26:13, 4009.57s/it]"
      }
     },
     "2a683f8f5dfd4be7a36da81adffb8636": {
      "model_module": "@jupyter-widgets/controls",
      "model_module_version": "1.4.0",
      "model_name": "HTMLModel",
      "state": {
       "layout": "IPY_MODEL_0472670dccd64233b3402e3ec774781b",
       "style": "IPY_MODEL_d05bfdc1d87044e28b80471174bd0a84",
       "value": " 87/87 [53:40&lt;00:00, 37.03s/it]"
      }
     },
     "2b2cceb8c6744ad7b83f9c6a6cf6b30e": {
      "model_module": "@jupyter-widgets/base",
      "model_module_version": "1.1.0",
      "model_name": "LayoutModel",
      "state": {}
     },
     "2da891576a284949ad027dd0b57e6309": {
      "model_module": "@jupyter-widgets/base",
      "model_module_version": "1.1.0",
      "model_name": "LayoutModel",
      "state": {}
     },
     "2dd0a930e4b245baa68522a15c599ebe": {
      "model_module": "@jupyter-widgets/base",
      "model_module_version": "1.1.0",
      "model_name": "LayoutModel",
      "state": {}
     },
     "2f2604d040cd4e2c931a8556bdf06a2c": {
      "model_module": "@jupyter-widgets/controls",
      "model_module_version": "1.4.0",
      "model_name": "FloatProgressModel",
      "state": {
       "bar_style": "danger",
       "description": "Epoch:  22%",
       "layout": "IPY_MODEL_414ff709849b4d8a8190e1b7967830e8",
       "max": 50,
       "style": "IPY_MODEL_f4a6256c58fb44da8addb1cdd48b1897",
       "value": 11
      }
     },
     "30cd64466d524a50a7561c05ce55b293": {
      "model_module": "@jupyter-widgets/controls",
      "model_module_version": "1.4.0",
      "model_name": "FloatProgressModel",
      "state": {
       "description": "Val_Iter: 100%",
       "layout": "IPY_MODEL_b942a08c21a14c79b4862929ca4e44ed",
       "max": 11,
       "style": "IPY_MODEL_c2019ab6cc6843d5b68403a2fb39a40f",
       "value": 11
      }
     },
     "31b89e1614474eaab0c3b7d1104d61fd": {
      "model_module": "@jupyter-widgets/controls",
      "model_module_version": "1.4.0",
      "model_name": "HTMLModel",
      "state": {
       "layout": "IPY_MODEL_d2e048076ea44a0b9681772c4b19ac99",
       "style": "IPY_MODEL_233c6fc7f2064032b5b38a7f846f0a49",
       "value": " 11/11 [04:14&lt;00:00, 22.88s/it]"
      }
     },
     "32052d5b6bb74e45b4c2955fe358c608": {
      "model_module": "@jupyter-widgets/base",
      "model_module_version": "1.1.0",
      "model_name": "LayoutModel",
      "state": {}
     },
     "3222034cb75047439727f33acbc835f3": {
      "model_module": "@jupyter-widgets/controls",
      "model_module_version": "1.4.0",
      "model_name": "ProgressStyleModel",
      "state": {
       "description_width": "initial"
      }
     },
     "33d85586094d4b28b6e50bd2dd88c393": {
      "model_module": "@jupyter-widgets/base",
      "model_module_version": "1.1.0",
      "model_name": "LayoutModel",
      "state": {}
     },
     "33e56bf2ab4b49ea974432b4915e6995": {
      "model_module": "@jupyter-widgets/controls",
      "model_module_version": "1.4.0",
      "model_name": "ProgressStyleModel",
      "state": {
       "description_width": "initial"
      }
     },
     "34f72400330f4d07a38e0c7007b5dc36": {
      "model_module": "@jupyter-widgets/base",
      "model_module_version": "1.1.0",
      "model_name": "LayoutModel",
      "state": {}
     },
     "3574245a70da48d69ba2da2869262c9e": {
      "model_module": "@jupyter-widgets/controls",
      "model_module_version": "1.4.0",
      "model_name": "FloatProgressModel",
      "state": {
       "bar_style": "danger",
       "description": " 35%",
       "layout": "IPY_MODEL_97feac2b54ef413c957e919082d30aab",
       "max": 6457,
       "style": "IPY_MODEL_a948bb65c4f845c5a225b0cfeac71865",
       "value": 2284
      }
     },
     "35ee73941b254fc39ad724ef715986f9": {
      "model_module": "@jupyter-widgets/base",
      "model_module_version": "1.1.0",
      "model_name": "LayoutModel",
      "state": {}
     },
     "3873619e15984e2785999a5082af8b55": {
      "model_module": "@jupyter-widgets/controls",
      "model_module_version": "1.4.0",
      "model_name": "DescriptionStyleModel",
      "state": {
       "description_width": ""
      }
     },
     "39428a1a4a0c4e7fae82479685f1175a": {
      "model_module": "@jupyter-widgets/base",
      "model_module_version": "1.1.0",
      "model_name": "LayoutModel",
      "state": {}
     },
     "3a8c10a932fe472babbe645033502fa0": {
      "model_module": "@jupyter-widgets/base",
      "model_module_version": "1.1.0",
      "model_name": "LayoutModel",
      "state": {}
     },
     "3ac70d2d65cf45a6aa51391d273af503": {
      "model_module": "@jupyter-widgets/base",
      "model_module_version": "1.1.0",
      "model_name": "LayoutModel",
      "state": {}
     },
     "3ae8e75c806b428badfd2e79fcc04522": {
      "model_module": "@jupyter-widgets/controls",
      "model_module_version": "1.4.0",
      "model_name": "HTMLModel",
      "state": {
       "layout": "IPY_MODEL_bdb5c406e60940d9947711013c06dfc9",
       "style": "IPY_MODEL_a3e3e464843b412ea010c6e32d57e2ea",
       "value": " 87/87 [59:51&lt;00:00, 42.73s/it]"
      }
     },
     "3b9c9abcfa6749f5b8daef92ba55ca51": {
      "model_module": "@jupyter-widgets/controls",
      "model_module_version": "1.4.0",
      "model_name": "DescriptionStyleModel",
      "state": {
       "description_width": ""
      }
     },
     "3d568180d0a0447da7ed25233270edc1": {
      "model_module": "@jupyter-widgets/controls",
      "model_module_version": "1.4.0",
      "model_name": "ProgressStyleModel",
      "state": {
       "description_width": "initial"
      }
     },
     "3dbc414d37b8494fb9af0c7258d680eb": {
      "model_module": "@jupyter-widgets/base",
      "model_module_version": "1.1.0",
      "model_name": "LayoutModel",
      "state": {}
     },
     "3f0d8579920b4854bb0ffff145fdcbe9": {
      "model_module": "@jupyter-widgets/controls",
      "model_module_version": "1.4.0",
      "model_name": "DescriptionStyleModel",
      "state": {
       "description_width": ""
      }
     },
     "3f4226ec5d264b4a87de98027d90691b": {
      "model_module": "@jupyter-widgets/base",
      "model_module_version": "1.1.0",
      "model_name": "LayoutModel",
      "state": {}
     },
     "3f49c4d5a8d749a7a009224bc5fab633": {
      "model_module": "@jupyter-widgets/base",
      "model_module_version": "1.1.0",
      "model_name": "LayoutModel",
      "state": {}
     },
     "3fdbb4b6ca1a46f1ae94a7846f7e7267": {
      "model_module": "@jupyter-widgets/controls",
      "model_module_version": "1.4.0",
      "model_name": "FloatProgressModel",
      "state": {
       "description": "Val_Iter: 100%",
       "layout": "IPY_MODEL_183fb3a7584e41329f2efaee99309575",
       "max": 11,
       "style": "IPY_MODEL_f25e75beeca740db9182d098cc3d20a5",
       "value": 11
      }
     },
     "4023f171a7874f8899a65db161ef35b1": {
      "model_module": "@jupyter-widgets/base",
      "model_module_version": "1.1.0",
      "model_name": "LayoutModel",
      "state": {}
     },
     "414ff709849b4d8a8190e1b7967830e8": {
      "model_module": "@jupyter-widgets/base",
      "model_module_version": "1.1.0",
      "model_name": "LayoutModel",
      "state": {}
     },
     "41cfc74d325a4be8837fd2d79302e779": {
      "model_module": "@jupyter-widgets/base",
      "model_module_version": "1.1.0",
      "model_name": "LayoutModel",
      "state": {}
     },
     "41fa75e23a52442fa8231fcfcf969d79": {
      "model_module": "@jupyter-widgets/base",
      "model_module_version": "1.1.0",
      "model_name": "LayoutModel",
      "state": {}
     },
     "4248956d1ef34c569b644273409e5925": {
      "model_module": "@jupyter-widgets/base",
      "model_module_version": "1.1.0",
      "model_name": "LayoutModel",
      "state": {}
     },
     "424a9809d0f64e3587d73fe61c83e0d5": {
      "model_module": "@jupyter-widgets/base",
      "model_module_version": "1.1.0",
      "model_name": "LayoutModel",
      "state": {}
     },
     "427b8564f3a747aea3fa9ca24b14c7fc": {
      "model_module": "@jupyter-widgets/controls",
      "model_module_version": "1.4.0",
      "model_name": "HTMLModel",
      "state": {
       "layout": "IPY_MODEL_db7a537757e44ad39a014785f7a30362",
       "style": "IPY_MODEL_c3c6151d1dda4a64ae67d4c9afb1587f",
       "value": " 11/11 [04:13&lt;00:00, 22.91s/it]"
      }
     },
     "432456c5b30844dd8eeb54c1c628da7a": {
      "model_module": "@jupyter-widgets/base",
      "model_module_version": "1.1.0",
      "model_name": "LayoutModel",
      "state": {}
     },
     "4818c0996a3e4d90acfd3f7f5f81ae5c": {
      "model_module": "@jupyter-widgets/controls",
      "model_module_version": "1.4.0",
      "model_name": "HBoxModel",
      "state": {
       "children": [
        "IPY_MODEL_b259e15f64a64172a636c01ad50098d0",
        "IPY_MODEL_71dc3c1adab4472e8978e61e23d341ad"
       ],
       "layout": "IPY_MODEL_48b5d832f8024af08c0c1ef9c0ad66d0"
      }
     },
     "48b5d832f8024af08c0c1ef9c0ad66d0": {
      "model_module": "@jupyter-widgets/base",
      "model_module_version": "1.1.0",
      "model_name": "LayoutModel",
      "state": {}
     },
     "4a3179508394429590f82e82793aaaa6": {
      "model_module": "@jupyter-widgets/base",
      "model_module_version": "1.1.0",
      "model_name": "LayoutModel",
      "state": {}
     },
     "4b2ec9ef9a4c448caa770602116d00ae": {
      "model_module": "@jupyter-widgets/controls",
      "model_module_version": "1.4.0",
      "model_name": "DescriptionStyleModel",
      "state": {
       "description_width": ""
      }
     },
     "4bd542d1178e4888bedd5c78c5626c20": {
      "model_module": "@jupyter-widgets/controls",
      "model_module_version": "1.4.0",
      "model_name": "HTMLModel",
      "state": {
       "layout": "IPY_MODEL_572c5e5181f74bda896ea80d2a413758",
       "style": "IPY_MODEL_14e9ffc2d75f4e8b9b370037a0f20514",
       "value": " 0/50 [2:50:59&lt;?, ?it/s]"
      }
     },
     "4c1fd3010ec4457c92504ac15f707a23": {
      "model_module": "@jupyter-widgets/controls",
      "model_module_version": "1.4.0",
      "model_name": "DescriptionStyleModel",
      "state": {
       "description_width": ""
      }
     },
     "4d9a1459eb6346a69de0df6b350048f0": {
      "model_module": "@jupyter-widgets/base",
      "model_module_version": "1.1.0",
      "model_name": "LayoutModel",
      "state": {}
     },
     "4e1c605555124d1aa818cc4349e12e0f": {
      "model_module": "@jupyter-widgets/base",
      "model_module_version": "1.1.0",
      "model_name": "LayoutModel",
      "state": {}
     },
     "4e948c5ef8114323b473a06cc7205d06": {
      "model_module": "@jupyter-widgets/base",
      "model_module_version": "1.1.0",
      "model_name": "LayoutModel",
      "state": {}
     },
     "4effd6426d614c288a8443c510b2a87b": {
      "model_module": "@jupyter-widgets/controls",
      "model_module_version": "1.4.0",
      "model_name": "ProgressStyleModel",
      "state": {
       "description_width": "initial"
      }
     },
     "4f72ae606cf54b30bedc548cfba83159": {
      "model_module": "@jupyter-widgets/controls",
      "model_module_version": "1.4.0",
      "model_name": "HTMLModel",
      "state": {
       "layout": "IPY_MODEL_d0d00490b5b444eeac02f354c42837b5",
       "style": "IPY_MODEL_b84c1ac1e6b847ba8e0b448a1a2ac678",
       "value": " 6457/6457 [06:45&lt;00:00, 15.94it/s]"
      }
     },
     "507dde58c9494a5e9e522790c4ff7462": {
      "model_module": "@jupyter-widgets/base",
      "model_module_version": "1.1.0",
      "model_name": "LayoutModel",
      "state": {}
     },
     "511ed06687054c0d8889312db90468ca": {
      "model_module": "@jupyter-widgets/base",
      "model_module_version": "1.1.0",
      "model_name": "LayoutModel",
      "state": {}
     },
     "513470ba074f4c68a07a7ef5980c382c": {
      "model_module": "@jupyter-widgets/controls",
      "model_module_version": "1.4.0",
      "model_name": "HTMLModel",
      "state": {
       "layout": "IPY_MODEL_6da61a05d5b346669cd8ec201f979f34",
       "style": "IPY_MODEL_dfa7b7f2a48c463fb67c90fcb38b1552",
       "value": " 11/11 [04:11&lt;00:00, 22.56s/it]"
      }
     },
     "52392695bc774640ab2955a17257b3d4": {
      "model_module": "@jupyter-widgets/base",
      "model_module_version": "1.1.0",
      "model_name": "LayoutModel",
      "state": {}
     },
     "53400f5227134c45b4a39c0cdc625a9b": {
      "model_module": "@jupyter-widgets/controls",
      "model_module_version": "1.4.0",
      "model_name": "FloatProgressModel",
      "state": {
       "description": "Val_Iter: 100%",
       "layout": "IPY_MODEL_6cde6b30b4ae4ce7b86d38f7ae43c9d7",
       "max": 11,
       "style": "IPY_MODEL_fbeac5f84b0242389a1102667432c47b",
       "value": 11
      }
     },
     "54d5d5dc8bbc458682c1cb77e4380b30": {
      "model_module": "@jupyter-widgets/controls",
      "model_module_version": "1.4.0",
      "model_name": "ProgressStyleModel",
      "state": {
       "description_width": "initial"
      }
     },
     "5647668a4c3647abadd9b19814cc7803": {
      "model_module": "@jupyter-widgets/controls",
      "model_module_version": "1.4.0",
      "model_name": "ProgressStyleModel",
      "state": {
       "description_width": "initial"
      }
     },
     "572c5e5181f74bda896ea80d2a413758": {
      "model_module": "@jupyter-widgets/base",
      "model_module_version": "1.1.0",
      "model_name": "LayoutModel",
      "state": {}
     },
     "5957e1c24f834d149ee611310047e5c6": {
      "model_module": "@jupyter-widgets/controls",
      "model_module_version": "1.4.0",
      "model_name": "FloatProgressModel",
      "state": {
       "description": "Train_Iter: 100%",
       "layout": "IPY_MODEL_a53a933da21143eab8aca856165a6bb3",
       "max": 87,
       "style": "IPY_MODEL_0686955cb1b445a68a2a57b2dbaa6d2f",
       "value": 87
      }
     },
     "5a58d9469e09466e80609040f8d89430": {
      "model_module": "@jupyter-widgets/controls",
      "model_module_version": "1.4.0",
      "model_name": "ProgressStyleModel",
      "state": {
       "description_width": "initial"
      }
     },
     "5bd3ea47a2b142418ebf03e642e81071": {
      "model_module": "@jupyter-widgets/controls",
      "model_module_version": "1.4.0",
      "model_name": "HTMLModel",
      "state": {
       "layout": "IPY_MODEL_4e1c605555124d1aa818cc4349e12e0f",
       "style": "IPY_MODEL_0dfba8164d784be886b31fae8ec54e67",
       "value": " 11/11 [04:02&lt;00:00, 21.72s/it]"
      }
     },
     "5c1d0170e8e246e6ac8a430066fc4e47": {
      "model_module": "@jupyter-widgets/controls",
      "model_module_version": "1.4.0",
      "model_name": "HTMLModel",
      "state": {
       "layout": "IPY_MODEL_caeb75d385024953bb341830c880e69d",
       "style": "IPY_MODEL_2368f46ac52e45b6ac26c5697935d13f",
       "value": " 87/87 [53:41&lt;00:00, 37.20s/it]"
      }
     },
     "5d69211013eb4bfe8c44742799be75a2": {
      "model_module": "@jupyter-widgets/base",
      "model_module_version": "1.1.0",
      "model_name": "LayoutModel",
      "state": {}
     },
     "5d754b4cec1f49c9b585000654830094": {
      "model_module": "@jupyter-widgets/base",
      "model_module_version": "1.1.0",
      "model_name": "LayoutModel",
      "state": {}
     },
     "5dde6fdca1984060a91b6308eb096b87": {
      "model_module": "@jupyter-widgets/controls",
      "model_module_version": "1.4.0",
      "model_name": "DescriptionStyleModel",
      "state": {
       "description_width": ""
      }
     },
     "60e38d9af7f84d6196bcab9a0a12ccff": {
      "model_module": "@jupyter-widgets/base",
      "model_module_version": "1.1.0",
      "model_name": "LayoutModel",
      "state": {}
     },
     "611905a93b2b4c6487307c61a184b95e": {
      "model_module": "@jupyter-widgets/base",
      "model_module_version": "1.1.0",
      "model_name": "LayoutModel",
      "state": {}
     },
     "6122c3ddb0a84369a649d27570570cbc": {
      "model_module": "@jupyter-widgets/controls",
      "model_module_version": "1.4.0",
      "model_name": "DescriptionStyleModel",
      "state": {
       "description_width": ""
      }
     },
     "62a8ccb44b49489991920aec336526d8": {
      "model_module": "@jupyter-widgets/controls",
      "model_module_version": "1.4.0",
      "model_name": "DescriptionStyleModel",
      "state": {
       "description_width": ""
      }
     },
     "64247600538a4f42817056653504d453": {
      "model_module": "@jupyter-widgets/controls",
      "model_module_version": "1.4.0",
      "model_name": "ProgressStyleModel",
      "state": {
       "description_width": "initial"
      }
     },
     "642809ddfbf94c39ad35538cd368e0b2": {
      "model_module": "@jupyter-widgets/base",
      "model_module_version": "1.1.0",
      "model_name": "LayoutModel",
      "state": {}
     },
     "643c96d8fd9e485096937d7433b2be05": {
      "model_module": "@jupyter-widgets/base",
      "model_module_version": "1.1.0",
      "model_name": "LayoutModel",
      "state": {}
     },
     "648a2e23ffdc48108561842b13cd2d2c": {
      "model_module": "@jupyter-widgets/controls",
      "model_module_version": "1.4.0",
      "model_name": "FloatProgressModel",
      "state": {
       "description": "Train_Iter: 100%",
       "layout": "IPY_MODEL_3dbc414d37b8494fb9af0c7258d680eb",
       "max": 87,
       "style": "IPY_MODEL_ce2f97fc059a4b3791e7b9904c87527d",
       "value": 87
      }
     },
     "64c5b696c583401189d6062689629b0f": {
      "model_module": "@jupyter-widgets/controls",
      "model_module_version": "1.4.0",
      "model_name": "HTMLModel",
      "state": {
       "layout": "IPY_MODEL_4e948c5ef8114323b473a06cc7205d06",
       "style": "IPY_MODEL_d36a249433494db0a1022865722b618f",
       "value": " 2284/6457 [00:45&lt;01:22, 50.41it/s]"
      }
     },
     "65af2c1ce6cc4a7db329d01b71a01e2e": {
      "model_module": "@jupyter-widgets/base",
      "model_module_version": "1.1.0",
      "model_name": "LayoutModel",
      "state": {}
     },
     "664a29ec8c9246aabf75dae01b0f3e5e": {
      "model_module": "@jupyter-widgets/controls",
      "model_module_version": "1.4.0",
      "model_name": "ProgressStyleModel",
      "state": {
       "description_width": "initial"
      }
     },
     "66d19137fd8048cfb431c5f62eacf57a": {
      "model_module": "@jupyter-widgets/controls",
      "model_module_version": "1.4.0",
      "model_name": "HBoxModel",
      "state": {
       "children": [
        "IPY_MODEL_7d403306fab74c0285e4878e6d77c86d",
        "IPY_MODEL_2052b7f46d744fe4bb1239adc0a804a1"
       ],
       "layout": "IPY_MODEL_b402622cb6dc45859f9a6e15368b11b6"
      }
     },
     "66d40863d215472f9e7fec24b8f20b1f": {
      "model_module": "@jupyter-widgets/controls",
      "model_module_version": "1.4.0",
      "model_name": "DescriptionStyleModel",
      "state": {
       "description_width": ""
      }
     },
     "6c3d784744bd469d912b7c5de8887850": {
      "model_module": "@jupyter-widgets/controls",
      "model_module_version": "1.4.0",
      "model_name": "HBoxModel",
      "state": {
       "children": [
        "IPY_MODEL_80aa0c2d0c84425e8451a25c920e8ff7",
        "IPY_MODEL_ce8dd747fe9541548a17101e18619576"
       ],
       "layout": "IPY_MODEL_0e522d1d81e94f71a55592563548c143"
      }
     },
     "6c5c109e97da4d26b7a3495db6929dae": {
      "model_module": "@jupyter-widgets/base",
      "model_module_version": "1.1.0",
      "model_name": "LayoutModel",
      "state": {}
     },
     "6cde6b30b4ae4ce7b86d38f7ae43c9d7": {
      "model_module": "@jupyter-widgets/base",
      "model_module_version": "1.1.0",
      "model_name": "LayoutModel",
      "state": {}
     },
     "6da61a05d5b346669cd8ec201f979f34": {
      "model_module": "@jupyter-widgets/base",
      "model_module_version": "1.1.0",
      "model_name": "LayoutModel",
      "state": {}
     },
     "6e00e952dd9d4ced98ef4568248aaf4b": {
      "model_module": "@jupyter-widgets/controls",
      "model_module_version": "1.4.0",
      "model_name": "FloatProgressModel",
      "state": {
       "description": "Train_Iter: 100%",
       "layout": "IPY_MODEL_2dd0a930e4b245baa68522a15c599ebe",
       "max": 87,
       "style": "IPY_MODEL_98e59edbdef241ac9739720c6e370017",
       "value": 87
      }
     },
     "6ec51792af4c4f72b7f209be2bc4a765": {
      "model_module": "@jupyter-widgets/controls",
      "model_module_version": "1.4.0",
      "model_name": "DescriptionStyleModel",
      "state": {
       "description_width": ""
      }
     },
     "70e4a339eef74c9a8d4a5ccb8f8bc1c8": {
      "model_module": "@jupyter-widgets/controls",
      "model_module_version": "1.4.0",
      "model_name": "ProgressStyleModel",
      "state": {
       "description_width": "initial"
      }
     },
     "71dc3c1adab4472e8978e61e23d341ad": {
      "model_module": "@jupyter-widgets/controls",
      "model_module_version": "1.4.0",
      "model_name": "HTMLModel",
      "state": {
       "layout": "IPY_MODEL_611905a93b2b4c6487307c61a184b95e",
       "style": "IPY_MODEL_0b860d367e804ec2b99a27f85128bbaf",
       "value": " 3389/6457 [01:08&lt;01:02, 49.43it/s]"
      }
     },
     "729395fdd02048cd83598302b78a5235": {
      "model_module": "@jupyter-widgets/base",
      "model_module_version": "1.1.0",
      "model_name": "LayoutModel",
      "state": {}
     },
     "72a2701d461c48f3bcf907977706bcec": {
      "model_module": "@jupyter-widgets/base",
      "model_module_version": "1.1.0",
      "model_name": "LayoutModel",
      "state": {}
     },
     "73ef2f10fc1b4122a0d0ac2dd2c3eafd": {
      "model_module": "@jupyter-widgets/controls",
      "model_module_version": "1.4.0",
      "model_name": "HTMLModel",
      "state": {
       "layout": "IPY_MODEL_f25bc9a262e6463a85e7f09bc746f686",
       "style": "IPY_MODEL_5dde6fdca1984060a91b6308eb096b87",
       "value": " 11/11 [04:16&lt;00:00, 23.51s/it]"
      }
     },
     "74d59e14424b4ffbb01853720662bfec": {
      "model_module": "@jupyter-widgets/base",
      "model_module_version": "1.1.0",
      "model_name": "LayoutModel",
      "state": {}
     },
     "74e89dfc4d344adbb97818b7653cffa4": {
      "model_module": "@jupyter-widgets/controls",
      "model_module_version": "1.4.0",
      "model_name": "HTMLModel",
      "state": {
       "layout": "IPY_MODEL_afaba5099986406f9e58a97ee54db2fb",
       "style": "IPY_MODEL_4b2ec9ef9a4c448caa770602116d00ae",
       "value": " 11/11 [04:05&lt;00:00, 22.15s/it]"
      }
     },
     "75d4faf6982d41a1aaca6d065234257d": {
      "model_module": "@jupyter-widgets/controls",
      "model_module_version": "1.4.0",
      "model_name": "FloatProgressModel",
      "state": {
       "description": "Val_Iter: 100%",
       "layout": "IPY_MODEL_f10d68d5ff6944dd87530bd23c0ff692",
       "max": 11,
       "style": "IPY_MODEL_fd7ce960db12442f90422ac8c14e3686",
       "value": 11
      }
     },
     "77d708b4887e41deb01780db29dbb513": {
      "model_module": "@jupyter-widgets/controls",
      "model_module_version": "1.4.0",
      "model_name": "FloatProgressModel",
      "state": {
       "description": "Val_Iter: 100%",
       "layout": "IPY_MODEL_d08af3e0fc974cadad3c33e76efa7cff",
       "max": 11,
       "style": "IPY_MODEL_f99bedd6659c48bc8fed09751d1ebd75",
       "value": 11
      }
     },
     "787b8e9ce5394780992242357f19513d": {
      "model_module": "@jupyter-widgets/controls",
      "model_module_version": "1.4.0",
      "model_name": "FloatProgressModel",
      "state": {
       "description": "Val_Iter: 100%",
       "layout": "IPY_MODEL_a1879834b0b5450b88a9aeea026b71fd",
       "max": 11,
       "style": "IPY_MODEL_e5ccf06e9c4d422b9206cf17fdccb835",
       "value": 11
      }
     },
     "78ba93fce5c54c3680782ac46456eb2b": {
      "model_module": "@jupyter-widgets/controls",
      "model_module_version": "1.4.0",
      "model_name": "HTMLModel",
      "state": {
       "layout": "IPY_MODEL_82e393822d07459b9609ab1520a1b956",
       "style": "IPY_MODEL_e49b2392bbf449b28d6c8a7510038fa5",
       "value": " 0/87 [2:50:59&lt;?, ?it/s]"
      }
     },
     "7940b28c77544881b9c8c1e7ffa47634": {
      "model_module": "@jupyter-widgets/controls",
      "model_module_version": "1.4.0",
      "model_name": "ProgressStyleModel",
      "state": {
       "description_width": "initial"
      }
     },
     "79b23caa99ab4fcfaa1bd525fc54dd6e": {
      "model_module": "@jupyter-widgets/base",
      "model_module_version": "1.1.0",
      "model_name": "LayoutModel",
      "state": {}
     },
     "7a1ce6b54c07406eae5a9f0a5dc23852": {
      "model_module": "@jupyter-widgets/base",
      "model_module_version": "1.1.0",
      "model_name": "LayoutModel",
      "state": {}
     },
     "7b76244a956b40038131605737f79aeb": {
      "model_module": "@jupyter-widgets/controls",
      "model_module_version": "1.4.0",
      "model_name": "HBoxModel",
      "state": {
       "children": [
        "IPY_MODEL_9ffff54b3ae146ffa03ea245daa4ef0f",
        "IPY_MODEL_15c5c40caf5c419384c930ca5cf787bb"
       ],
       "layout": "IPY_MODEL_511ed06687054c0d8889312db90468ca"
      }
     },
     "7bd832a9bed44210817e0edfcaef2f6a": {
      "model_module": "@jupyter-widgets/controls",
      "model_module_version": "1.4.0",
      "model_name": "DescriptionStyleModel",
      "state": {
       "description_width": ""
      }
     },
     "7c0c27deb4c14fabb089f6742d4ed759": {
      "model_module": "@jupyter-widgets/controls",
      "model_module_version": "1.4.0",
      "model_name": "FloatProgressModel",
      "state": {
       "description": "Train_Iter: 100%",
       "layout": "IPY_MODEL_79b23caa99ab4fcfaa1bd525fc54dd6e",
       "max": 87,
       "style": "IPY_MODEL_e4d6aa24b23542cca64e6b6bbc957290",
       "value": 87
      }
     },
     "7c0f72b58f434862a6d7469d19591738": {
      "model_module": "@jupyter-widgets/controls",
      "model_module_version": "1.4.0",
      "model_name": "FloatProgressModel",
      "state": {
       "description": "Val_Iter: 100%",
       "layout": "IPY_MODEL_35ee73941b254fc39ad724ef715986f9",
       "max": 11,
       "style": "IPY_MODEL_1c04700293c6429d92cfa48a870a1913",
       "value": 11
      }
     },
     "7c7c8065e8094d2bb28785e68d3d6e5e": {
      "model_module": "@jupyter-widgets/base",
      "model_module_version": "1.1.0",
      "model_name": "LayoutModel",
      "state": {}
     },
     "7d403306fab74c0285e4878e6d77c86d": {
      "model_module": "@jupyter-widgets/controls",
      "model_module_version": "1.4.0",
      "model_name": "FloatProgressModel",
      "state": {
       "bar_style": "danger",
       "description": "Train_Iter:  23%",
       "layout": "IPY_MODEL_f36138565c29487b922a0b6eb8a8e4f0",
       "max": 87,
       "style": "IPY_MODEL_0990ad529e90440894fecbbd7a2ada24",
       "value": 20
      }
     },
     "7d752123f9294b29b3a6dfc381a1f6ea": {
      "model_module": "@jupyter-widgets/controls",
      "model_module_version": "1.4.0",
      "model_name": "FloatProgressModel",
      "state": {
       "description": "Train_Iter:   0%",
       "layout": "IPY_MODEL_824bff6353cd4dc9a915b327592b1adf",
       "max": 87,
       "style": "IPY_MODEL_8ba1594aacea484aa393a857bd9e0ddf"
      }
     },
     "7e3993445e57417eab04babf83884ae5": {
      "model_module": "@jupyter-widgets/controls",
      "model_module_version": "1.4.0",
      "model_name": "DescriptionStyleModel",
      "state": {
       "description_width": ""
      }
     },
     "7e7ce718a7bc43b2923e4a14ae9ca300": {
      "model_module": "@jupyter-widgets/controls",
      "model_module_version": "1.4.0",
      "model_name": "FloatProgressModel",
      "state": {
       "description": "Val_Iter: 100%",
       "layout": "IPY_MODEL_4d9a1459eb6346a69de0df6b350048f0",
       "max": 11,
       "style": "IPY_MODEL_174f37da3ad94a50bbb9c84f0c3383e1",
       "value": 11
      }
     },
     "7f4f41d1160048ce881da4d924ac18a4": {
      "model_module": "@jupyter-widgets/base",
      "model_module_version": "1.1.0",
      "model_name": "LayoutModel",
      "state": {}
     },
     "7fc0a03f8e284e94b24bf0f7368b30f6": {
      "model_module": "@jupyter-widgets/controls",
      "model_module_version": "1.4.0",
      "model_name": "ProgressStyleModel",
      "state": {
       "description_width": "initial"
      }
     },
     "80aa0c2d0c84425e8451a25c920e8ff7": {
      "model_module": "@jupyter-widgets/controls",
      "model_module_version": "1.4.0",
      "model_name": "FloatProgressModel",
      "state": {
       "bar_style": "danger",
       "description": "  3%",
       "layout": "IPY_MODEL_7a1ce6b54c07406eae5a9f0a5dc23852",
       "max": 300,
       "style": "IPY_MODEL_efe57cb56a6e4d5a95375dca119cc01c",
       "value": 10
      }
     },
     "813aac6bc7044036bf27053ed808b895": {
      "model_module": "@jupyter-widgets/controls",
      "model_module_version": "1.4.0",
      "model_name": "FloatProgressModel",
      "state": {
       "description": "Train_Iter: 100%",
       "layout": "IPY_MODEL_b35991b4fa2448b2aa91531f875c65cf",
       "max": 87,
       "style": "IPY_MODEL_973dd3c7ebd741ab9aad9d5b9f290cef",
       "value": 87
      }
     },
     "824bff6353cd4dc9a915b327592b1adf": {
      "model_module": "@jupyter-widgets/base",
      "model_module_version": "1.1.0",
      "model_name": "LayoutModel",
      "state": {}
     },
     "824caf80c40e4baf85f6a5215526cc79": {
      "model_module": "@jupyter-widgets/controls",
      "model_module_version": "1.4.0",
      "model_name": "HBoxModel",
      "state": {
       "children": [
        "IPY_MODEL_2f2604d040cd4e2c931a8556bdf06a2c",
        "IPY_MODEL_299a123c88004d90a95bad4b1909050b"
       ],
       "layout": "IPY_MODEL_cca1157538bf462eb48caabcd2e79efc"
      }
     },
     "826f28fbb3234f5697a095f9ba30e0dc": {
      "model_module": "@jupyter-widgets/controls",
      "model_module_version": "1.4.0",
      "model_name": "DescriptionStyleModel",
      "state": {
       "description_width": ""
      }
     },
     "8281785c0c6c4e5d92f79692755ae6ea": {
      "model_module": "@jupyter-widgets/base",
      "model_module_version": "1.1.0",
      "model_name": "LayoutModel",
      "state": {}
     },
     "82df1e5d6406449eab6588d8fd47a450": {
      "model_module": "@jupyter-widgets/base",
      "model_module_version": "1.1.0",
      "model_name": "LayoutModel",
      "state": {}
     },
     "82e393822d07459b9609ab1520a1b956": {
      "model_module": "@jupyter-widgets/base",
      "model_module_version": "1.1.0",
      "model_name": "LayoutModel",
      "state": {}
     },
     "831d94698c33465db8277691c9a69757": {
      "model_module": "@jupyter-widgets/controls",
      "model_module_version": "1.4.0",
      "model_name": "ProgressStyleModel",
      "state": {
       "description_width": "initial"
      }
     },
     "83519f8aed8c4afca6a07cc05b06dec4": {
      "model_module": "@jupyter-widgets/base",
      "model_module_version": "1.1.0",
      "model_name": "LayoutModel",
      "state": {}
     },
     "83775c949d1543189e30f552912f68aa": {
      "model_module": "@jupyter-widgets/controls",
      "model_module_version": "1.4.0",
      "model_name": "FloatProgressModel",
      "state": {
       "description": "Val_Iter: 100%",
       "layout": "IPY_MODEL_8281785c0c6c4e5d92f79692755ae6ea",
       "max": 11,
       "style": "IPY_MODEL_c40f09d480c1475d97873cf9b33eda09",
       "value": 11
      }
     },
     "83f75d1519b9402c8e264890b09a4502": {
      "model_module": "@jupyter-widgets/base",
      "model_module_version": "1.1.0",
      "model_name": "LayoutModel",
      "state": {}
     },
     "85c9a745932a4f82abad4b910abfdfbc": {
      "model_module": "@jupyter-widgets/base",
      "model_module_version": "1.1.0",
      "model_name": "LayoutModel",
      "state": {}
     },
     "87e19f680ebc4e3fafefc9d2826defb1": {
      "model_module": "@jupyter-widgets/controls",
      "model_module_version": "1.4.0",
      "model_name": "FloatProgressModel",
      "state": {
       "bar_style": "success",
       "description": "100%",
       "layout": "IPY_MODEL_fc228996770f4347a785bba130b2486c",
       "max": 6457,
       "style": "IPY_MODEL_bb06f72928394f16b2f75eac1d6c095f",
       "value": 6457
      }
     },
     "8993a4cb918144f9892a9605b35e9c7e": {
      "model_module": "@jupyter-widgets/base",
      "model_module_version": "1.1.0",
      "model_name": "LayoutModel",
      "state": {}
     },
     "8a11be9940b3412ca2f6081808b02f1b": {
      "model_module": "@jupyter-widgets/controls",
      "model_module_version": "1.4.0",
      "model_name": "DescriptionStyleModel",
      "state": {
       "description_width": ""
      }
     },
     "8b212c6dddcf4f91ba560d6f112d488a": {
      "model_module": "@jupyter-widgets/controls",
      "model_module_version": "1.4.0",
      "model_name": "FloatProgressModel",
      "state": {
       "description": "Train_Iter: 100%",
       "layout": "IPY_MODEL_ca9faadee9334413ae8fd59a2d140b3d",
       "max": 87,
       "style": "IPY_MODEL_e7fb2ad6672141c1b63d4b4b6caac70a",
       "value": 87
      }
     },
     "8b80339ce05a4d20ba2848821df720a6": {
      "model_module": "@jupyter-widgets/base",
      "model_module_version": "1.1.0",
      "model_name": "LayoutModel",
      "state": {}
     },
     "8ba1594aacea484aa393a857bd9e0ddf": {
      "model_module": "@jupyter-widgets/controls",
      "model_module_version": "1.4.0",
      "model_name": "ProgressStyleModel",
      "state": {
       "description_width": "initial"
      }
     },
     "8becaa1fb75a4fb3ba844ab0dcfd6ecc": {
      "model_module": "@jupyter-widgets/controls",
      "model_module_version": "1.4.0",
      "model_name": "HTMLModel",
      "state": {
       "layout": "IPY_MODEL_28f098caa09149a4b787e3b18aa659e0",
       "style": "IPY_MODEL_3f0d8579920b4854bb0ffff145fdcbe9",
       "value": " 87/87 [53:43&lt;00:00, 38.25s/it]"
      }
     },
     "8d9959877e5c42e8aead176c1b99311d": {
      "model_module": "@jupyter-widgets/controls",
      "model_module_version": "1.4.0",
      "model_name": "ProgressStyleModel",
      "state": {
       "description_width": "initial"
      }
     },
     "8e34b98516ba4944ab067e463887b3dd": {
      "model_module": "@jupyter-widgets/controls",
      "model_module_version": "1.4.0",
      "model_name": "HTMLModel",
      "state": {
       "layout": "IPY_MODEL_8b80339ce05a4d20ba2848821df720a6",
       "style": "IPY_MODEL_6ec51792af4c4f72b7f209be2bc4a765",
       "value": " 87/87 [52:36&lt;00:00, 36.80s/it]"
      }
     },
     "8f24c805959b4c66b5676defb5e45bd7": {
      "model_module": "@jupyter-widgets/controls",
      "model_module_version": "1.4.0",
      "model_name": "HTMLModel",
      "state": {
       "layout": "IPY_MODEL_e1c39d3ccbdd4dd38984114d3fa7d7e6",
       "style": "IPY_MODEL_e5fe46f789054e53a6d371c22c67ef5c",
       "value": " 5/50 [4:59:11&lt;45:02:33, 3603.41s/it]"
      }
     },
     "90b245a3d601450b9bcc6583d2126438": {
      "model_module": "@jupyter-widgets/controls",
      "model_module_version": "1.4.0",
      "model_name": "HTMLModel",
      "state": {
       "layout": "IPY_MODEL_4023f171a7874f8899a65db161ef35b1",
       "style": "IPY_MODEL_d85e66ebc1924eeeb003c98dbad6fdf0",
       "value": " 87/87 [54:20&lt;00:00, 36.31s/it]"
      }
     },
     "92cc703ca5084a27904305c2c3e8a46a": {
      "model_module": "@jupyter-widgets/controls",
      "model_module_version": "1.4.0",
      "model_name": "FloatProgressModel",
      "state": {
       "description": "Train_Iter: 100%",
       "layout": "IPY_MODEL_fb1534803e1447309be173eaf52bad78",
       "max": 87,
       "style": "IPY_MODEL_a9e618e446db4300940da6dfbbd35473",
       "value": 87
      }
     },
     "9442ba984c684ee1884c0a1c017ab5c6": {
      "model_module": "@jupyter-widgets/base",
      "model_module_version": "1.1.0",
      "model_name": "LayoutModel",
      "state": {}
     },
     "95a8d0221b8644288af205b07b05a460": {
      "model_module": "@jupyter-widgets/base",
      "model_module_version": "1.1.0",
      "model_name": "LayoutModel",
      "state": {}
     },
     "96d57fbf84ef4c68aae24a2accfc43a9": {
      "model_module": "@jupyter-widgets/controls",
      "model_module_version": "1.4.0",
      "model_name": "HTMLModel",
      "state": {
       "layout": "IPY_MODEL_ef080220e11944638f561cb163356595",
       "style": "IPY_MODEL_df4956c28a724455b6a4a88004468e52",
       "value": " 87/87 [53:39&lt;00:00, 37.46s/it]"
      }
     },
     "973d5cfd7c144697b43520566c00d8f7": {
      "model_module": "@jupyter-widgets/base",
      "model_module_version": "1.1.0",
      "model_name": "LayoutModel",
      "state": {}
     },
     "973dd3c7ebd741ab9aad9d5b9f290cef": {
      "model_module": "@jupyter-widgets/controls",
      "model_module_version": "1.4.0",
      "model_name": "ProgressStyleModel",
      "state": {
       "description_width": "initial"
      }
     },
     "97db682d9dd44519abaf99ad0967b103": {
      "model_module": "@jupyter-widgets/controls",
      "model_module_version": "1.4.0",
      "model_name": "FloatProgressModel",
      "state": {
       "description": "Train_Iter: 100%",
       "layout": "IPY_MODEL_9442ba984c684ee1884c0a1c017ab5c6",
       "max": 87,
       "style": "IPY_MODEL_ef313b3a596f4377870fd3f2f963fec8",
       "value": 87
      }
     },
     "97feac2b54ef413c957e919082d30aab": {
      "model_module": "@jupyter-widgets/base",
      "model_module_version": "1.1.0",
      "model_name": "LayoutModel",
      "state": {}
     },
     "988de7cf6731462ca30c612f50991c9d": {
      "model_module": "@jupyter-widgets/controls",
      "model_module_version": "1.4.0",
      "model_name": "HTMLModel",
      "state": {
       "layout": "IPY_MODEL_0618ddd48aa24064bfa7f7aea072302c",
       "style": "IPY_MODEL_f66b5ca7e643442592fbbc4a0a85f26f",
       "value": " 87/87 [53:38&lt;00:00, 36.88s/it]"
      }
     },
     "98cb38a225034c839f812ed49bc98ac2": {
      "model_module": "@jupyter-widgets/controls",
      "model_module_version": "1.4.0",
      "model_name": "DescriptionStyleModel",
      "state": {
       "description_width": ""
      }
     },
     "98e59edbdef241ac9739720c6e370017": {
      "model_module": "@jupyter-widgets/controls",
      "model_module_version": "1.4.0",
      "model_name": "ProgressStyleModel",
      "state": {
       "description_width": "initial"
      }
     },
     "991333b872ae4237a5a8b303eb42ffb3": {
      "model_module": "@jupyter-widgets/controls",
      "model_module_version": "1.4.0",
      "model_name": "HTMLModel",
      "state": {
       "layout": "IPY_MODEL_fe29101c64d642e5a88ba98b97bf4ac1",
       "style": "IPY_MODEL_8a11be9940b3412ca2f6081808b02f1b",
       "value": " 11/11 [04:14&lt;00:00, 23.06s/it]"
      }
     },
     "991563d268824ca2b3be8c065bdbf372": {
      "model_module": "@jupyter-widgets/base",
      "model_module_version": "1.1.0",
      "model_name": "LayoutModel",
      "state": {}
     },
     "99aff0993f8643abb59db9e1d6a16059": {
      "model_module": "@jupyter-widgets/base",
      "model_module_version": "1.1.0",
      "model_name": "LayoutModel",
      "state": {}
     },
     "99cf523813d8400bbafb6723c9661b5d": {
      "model_module": "@jupyter-widgets/controls",
      "model_module_version": "1.4.0",
      "model_name": "FloatProgressModel",
      "state": {
       "description": "Val_Iter: 100%",
       "layout": "IPY_MODEL_5d69211013eb4bfe8c44742799be75a2",
       "max": 11,
       "style": "IPY_MODEL_d31dea4b7b6a4302ab7748d5b59b3e31",
       "value": 11
      }
     },
     "9aa51d11fffe440fbb026e0b2f8ef544": {
      "model_module": "@jupyter-widgets/controls",
      "model_module_version": "1.4.0",
      "model_name": "DescriptionStyleModel",
      "state": {
       "description_width": ""
      }
     },
     "9d5d591b9d62440788b4a0b844df0cb4": {
      "model_module": "@jupyter-widgets/base",
      "model_module_version": "1.1.0",
      "model_name": "LayoutModel",
      "state": {}
     },
     "9d60264dec6340b5b92082e95a33d63e": {
      "model_module": "@jupyter-widgets/controls",
      "model_module_version": "1.4.0",
      "model_name": "ProgressStyleModel",
      "state": {
       "description_width": "initial"
      }
     },
     "9e099eff602140f8b9790113cb391741": {
      "model_module": "@jupyter-widgets/base",
      "model_module_version": "1.1.0",
      "model_name": "LayoutModel",
      "state": {}
     },
     "9f88831b1e574b8ea902bb7fdb4375ed": {
      "model_module": "@jupyter-widgets/controls",
      "model_module_version": "1.4.0",
      "model_name": "FloatProgressModel",
      "state": {
       "description": "Train_Iter: 100%",
       "layout": "IPY_MODEL_7f4f41d1160048ce881da4d924ac18a4",
       "max": 87,
       "style": "IPY_MODEL_1ef0475776934256bcc2e5e6e89d4935",
       "value": 87
      }
     },
     "9fc33061eb9e4275924159c10b5f53d2": {
      "model_module": "@jupyter-widgets/controls",
      "model_module_version": "1.4.0",
      "model_name": "DescriptionStyleModel",
      "state": {
       "description_width": ""
      }
     },
     "9ffff54b3ae146ffa03ea245daa4ef0f": {
      "model_module": "@jupyter-widgets/controls",
      "model_module_version": "1.4.0",
      "model_name": "FloatProgressModel",
      "state": {
       "description": "Train_Iter:  16%",
       "layout": "IPY_MODEL_1c7085a5ca4e4b0b81d08c57ca94f16f",
       "max": 87,
       "style": "IPY_MODEL_a7a79ae20cf34badbec2f3eb08531a62",
       "value": 14
      }
     },
     "a0b811dca4de460cb8ee57dc19da60cb": {
      "model_module": "@jupyter-widgets/base",
      "model_module_version": "1.1.0",
      "model_name": "LayoutModel",
      "state": {}
     },
     "a1879834b0b5450b88a9aeea026b71fd": {
      "model_module": "@jupyter-widgets/base",
      "model_module_version": "1.1.0",
      "model_name": "LayoutModel",
      "state": {}
     },
     "a3e3e464843b412ea010c6e32d57e2ea": {
      "model_module": "@jupyter-widgets/controls",
      "model_module_version": "1.4.0",
      "model_name": "DescriptionStyleModel",
      "state": {
       "description_width": ""
      }
     },
     "a53a933da21143eab8aca856165a6bb3": {
      "model_module": "@jupyter-widgets/base",
      "model_module_version": "1.1.0",
      "model_name": "LayoutModel",
      "state": {}
     },
     "a5d31587ee6f498d893a5366a8d117bd": {
      "model_module": "@jupyter-widgets/controls",
      "model_module_version": "1.4.0",
      "model_name": "FloatProgressModel",
      "state": {
       "description": "Train_Iter: 100%",
       "layout": "IPY_MODEL_a0b811dca4de460cb8ee57dc19da60cb",
       "max": 87,
       "style": "IPY_MODEL_d9be3ac510ba4934a018e93d9762a9e5",
       "value": 87
      }
     },
     "a6224a1c95fa4bff8e87ebdf36e4e430": {
      "model_module": "@jupyter-widgets/base",
      "model_module_version": "1.1.0",
      "model_name": "LayoutModel",
      "state": {}
     },
     "a77b20594717439c857484463f15d685": {
      "model_module": "@jupyter-widgets/controls",
      "model_module_version": "1.4.0",
      "model_name": "DescriptionStyleModel",
      "state": {
       "description_width": ""
      }
     },
     "a7a79ae20cf34badbec2f3eb08531a62": {
      "model_module": "@jupyter-widgets/controls",
      "model_module_version": "1.4.0",
      "model_name": "ProgressStyleModel",
      "state": {
       "description_width": "initial"
      }
     },
     "a852123b0b344d1ea6a73d2e7b266884": {
      "model_module": "@jupyter-widgets/controls",
      "model_module_version": "1.4.0",
      "model_name": "DescriptionStyleModel",
      "state": {
       "description_width": ""
      }
     },
     "a948bb65c4f845c5a225b0cfeac71865": {
      "model_module": "@jupyter-widgets/controls",
      "model_module_version": "1.4.0",
      "model_name": "ProgressStyleModel",
      "state": {
       "description_width": "initial"
      }
     },
     "a9e618e446db4300940da6dfbbd35473": {
      "model_module": "@jupyter-widgets/controls",
      "model_module_version": "1.4.0",
      "model_name": "ProgressStyleModel",
      "state": {
       "description_width": "initial"
      }
     },
     "aae650ab4d1246d7bcdfb09e9c4ebf2a": {
      "model_module": "@jupyter-widgets/controls",
      "model_module_version": "1.4.0",
      "model_name": "HTMLModel",
      "state": {
       "layout": "IPY_MODEL_e93bf1517694446f843fc1fc95368e49",
       "style": "IPY_MODEL_9fc33061eb9e4275924159c10b5f53d2",
       "value": " 11/11 [04:13&lt;00:00, 22.93s/it]"
      }
     },
     "ab55958884ca4a2684421323c44d769e": {
      "model_module": "@jupyter-widgets/base",
      "model_module_version": "1.1.0",
      "model_name": "LayoutModel",
      "state": {}
     },
     "ac13ca84cd7e40fab768ade2fd7d7dcf": {
      "model_module": "@jupyter-widgets/controls",
      "model_module_version": "1.4.0",
      "model_name": "HBoxModel",
      "state": {
       "children": [
        "IPY_MODEL_c06d924bd0cf428da464ebf4399d4039",
        "IPY_MODEL_78ba93fce5c54c3680782ac46456eb2b"
       ],
       "layout": "IPY_MODEL_1fd2f5558ccf4b31b9546312dc0fa4eb"
      }
     },
     "ac7a51ab758f428bafe51c6d6d4a346f": {
      "model_module": "@jupyter-widgets/base",
      "model_module_version": "1.1.0",
      "model_name": "LayoutModel",
      "state": {}
     },
     "ac81a08efb6943dfbdd2284ff6b42a04": {
      "model_module": "@jupyter-widgets/controls",
      "model_module_version": "1.4.0",
      "model_name": "FloatProgressModel",
      "state": {
       "description": "Train_Iter: 100%",
       "layout": "IPY_MODEL_efcc88a1579e4d6bae453bd8f5bc751d",
       "max": 87,
       "style": "IPY_MODEL_bb6f95a03726476eb309286c0114e60d",
       "value": 87
      }
     },
     "ae163356c70c4639ae023bf0e578b826": {
      "model_module": "@jupyter-widgets/controls",
      "model_module_version": "1.4.0",
      "model_name": "HTMLModel",
      "state": {
       "layout": "IPY_MODEL_a6224a1c95fa4bff8e87ebdf36e4e430",
       "style": "IPY_MODEL_1fc6ec1bf412461d97d727cfe944c8bd",
       "value": " 87/87 [51:50&lt;00:00, 35.65s/it]"
      }
     },
     "ae6c07f5a8c3449681c188884848feb9": {
      "model_module": "@jupyter-widgets/base",
      "model_module_version": "1.1.0",
      "model_name": "LayoutModel",
      "state": {}
     },
     "af93fe0c08024baa97c53632eb64df5c": {
      "model_module": "@jupyter-widgets/base",
      "model_module_version": "1.1.0",
      "model_name": "LayoutModel",
      "state": {}
     },
     "afaba5099986406f9e58a97ee54db2fb": {
      "model_module": "@jupyter-widgets/base",
      "model_module_version": "1.1.0",
      "model_name": "LayoutModel",
      "state": {}
     },
     "afbf535eda894bad929fdecea1f009b8": {
      "model_module": "@jupyter-widgets/base",
      "model_module_version": "1.1.0",
      "model_name": "LayoutModel",
      "state": {}
     },
     "b03d5c57fd794794aafe9bddbe279a4b": {
      "model_module": "@jupyter-widgets/base",
      "model_module_version": "1.1.0",
      "model_name": "LayoutModel",
      "state": {}
     },
     "b06768d17e6a4e6fbb0bc060bf8051bd": {
      "model_module": "@jupyter-widgets/controls",
      "model_module_version": "1.4.0",
      "model_name": "HTMLModel",
      "state": {
       "layout": "IPY_MODEL_b9cdf2dccb0647a28e0df278c0e8ee87",
       "style": "IPY_MODEL_3873619e15984e2785999a5082af8b55",
       "value": " 11/11 [04:16&lt;00:00, 23.36s/it]"
      }
     },
     "b0d92c85f0244d169f1e9eaea3595c3c": {
      "model_module": "@jupyter-widgets/base",
      "model_module_version": "1.1.0",
      "model_name": "LayoutModel",
      "state": {}
     },
     "b137948b9168496eb490f09a368fadc0": {
      "model_module": "@jupyter-widgets/controls",
      "model_module_version": "1.4.0",
      "model_name": "FloatProgressModel",
      "state": {
       "description": "Val_Iter: 100%",
       "layout": "IPY_MODEL_973d5cfd7c144697b43520566c00d8f7",
       "max": 11,
       "style": "IPY_MODEL_64247600538a4f42817056653504d453",
       "value": 11
      }
     },
     "b1e2d7a8e5e649378275353af2320df6": {
      "model_module": "@jupyter-widgets/controls",
      "model_module_version": "1.4.0",
      "model_name": "ProgressStyleModel",
      "state": {
       "description_width": "initial"
      }
     },
     "b2243570e82b410e8a3da00127f16ce3": {
      "model_module": "@jupyter-widgets/controls",
      "model_module_version": "1.4.0",
      "model_name": "HTMLModel",
      "state": {
       "layout": "IPY_MODEL_82df1e5d6406449eab6588d8fd47a450",
       "style": "IPY_MODEL_e33fe72bb2ef4e73a85e0fb917b45469",
       "value": " 11/11 [04:14&lt;00:00, 23.21s/it]"
      }
     },
     "b259e15f64a64172a636c01ad50098d0": {
      "model_module": "@jupyter-widgets/controls",
      "model_module_version": "1.4.0",
      "model_name": "FloatProgressModel",
      "state": {
       "bar_style": "danger",
       "description": " 52%",
       "layout": "IPY_MODEL_f5638e32e9fe44c09d9109cb7efb6e54",
       "max": 6457,
       "style": "IPY_MODEL_8d9959877e5c42e8aead176c1b99311d",
       "value": 3389
      }
     },
     "b35991b4fa2448b2aa91531f875c65cf": {
      "model_module": "@jupyter-widgets/base",
      "model_module_version": "1.1.0",
      "model_name": "LayoutModel",
      "state": {}
     },
     "b363d1e512884aaf95b42b34d820ffb2": {
      "model_module": "@jupyter-widgets/controls",
      "model_module_version": "1.4.0",
      "model_name": "DescriptionStyleModel",
      "state": {
       "description_width": ""
      }
     },
     "b402622cb6dc45859f9a6e15368b11b6": {
      "model_module": "@jupyter-widgets/base",
      "model_module_version": "1.1.0",
      "model_name": "LayoutModel",
      "state": {}
     },
     "b4174ca72806480c9c40fe74f457a944": {
      "model_module": "@jupyter-widgets/controls",
      "model_module_version": "1.4.0",
      "model_name": "HBoxModel",
      "state": {
       "children": [
        "IPY_MODEL_db80c0e8f732499f93c2afc2f02c5d18",
        "IPY_MODEL_8f24c805959b4c66b5676defb5e45bd7"
       ],
       "layout": "IPY_MODEL_432456c5b30844dd8eeb54c1c628da7a"
      }
     },
     "b57f2832800441ee985f911a1f193df6": {
      "model_module": "@jupyter-widgets/controls",
      "model_module_version": "1.4.0",
      "model_name": "DescriptionStyleModel",
      "state": {
       "description_width": ""
      }
     },
     "b5d500a3771f4fb4902fba70d880a41d": {
      "model_module": "@jupyter-widgets/controls",
      "model_module_version": "1.4.0",
      "model_name": "DescriptionStyleModel",
      "state": {
       "description_width": ""
      }
     },
     "b70b6eaecfa140a8ba16f2ae92f9a8b7": {
      "model_module": "@jupyter-widgets/base",
      "model_module_version": "1.1.0",
      "model_name": "LayoutModel",
      "state": {}
     },
     "b70f5a880f45428dbe70daa939f1d436": {
      "model_module": "@jupyter-widgets/base",
      "model_module_version": "1.1.0",
      "model_name": "LayoutModel",
      "state": {}
     },
     "b7a5cb76033d4398a19ef04dc0c18e99": {
      "model_module": "@jupyter-widgets/base",
      "model_module_version": "1.1.0",
      "model_name": "LayoutModel",
      "state": {}
     },
     "b84c1ac1e6b847ba8e0b448a1a2ac678": {
      "model_module": "@jupyter-widgets/controls",
      "model_module_version": "1.4.0",
      "model_name": "DescriptionStyleModel",
      "state": {
       "description_width": ""
      }
     },
     "b942a08c21a14c79b4862929ca4e44ed": {
      "model_module": "@jupyter-widgets/base",
      "model_module_version": "1.1.0",
      "model_name": "LayoutModel",
      "state": {}
     },
     "b9cdf2dccb0647a28e0df278c0e8ee87": {
      "model_module": "@jupyter-widgets/base",
      "model_module_version": "1.1.0",
      "model_name": "LayoutModel",
      "state": {}
     },
     "ba266ee856984ab4857114c6cde18d86": {
      "model_module": "@jupyter-widgets/base",
      "model_module_version": "1.1.0",
      "model_name": "LayoutModel",
      "state": {}
     },
     "ba659d6aab6246a8a34b773629465f25": {
      "model_module": "@jupyter-widgets/base",
      "model_module_version": "1.1.0",
      "model_name": "LayoutModel",
      "state": {}
     },
     "bb06f72928394f16b2f75eac1d6c095f": {
      "model_module": "@jupyter-widgets/controls",
      "model_module_version": "1.4.0",
      "model_name": "ProgressStyleModel",
      "state": {
       "description_width": "initial"
      }
     },
     "bb6f95a03726476eb309286c0114e60d": {
      "model_module": "@jupyter-widgets/controls",
      "model_module_version": "1.4.0",
      "model_name": "ProgressStyleModel",
      "state": {
       "description_width": "initial"
      }
     },
     "bdb5c406e60940d9947711013c06dfc9": {
      "model_module": "@jupyter-widgets/base",
      "model_module_version": "1.1.0",
      "model_name": "LayoutModel",
      "state": {}
     },
     "be16aef3cc454da598e07725d07262cd": {
      "model_module": "@jupyter-widgets/controls",
      "model_module_version": "1.4.0",
      "model_name": "ProgressStyleModel",
      "state": {
       "description_width": "initial"
      }
     },
     "c06d924bd0cf428da464ebf4399d4039": {
      "model_module": "@jupyter-widgets/controls",
      "model_module_version": "1.4.0",
      "model_name": "FloatProgressModel",
      "state": {
       "bar_style": "danger",
       "description": "Train_Iter:   0%",
       "layout": "IPY_MODEL_b70f5a880f45428dbe70daa939f1d436",
       "max": 87,
       "style": "IPY_MODEL_16cdc7cd5bb54a308935142b9776b7d7"
      }
     },
     "c15156fea849420fa0feae96c3ac92a7": {
      "model_module": "@jupyter-widgets/base",
      "model_module_version": "1.1.0",
      "model_name": "LayoutModel",
      "state": {}
     },
     "c15a594b68454207904aa340f3481fa0": {
      "model_module": "@jupyter-widgets/controls",
      "model_module_version": "1.4.0",
      "model_name": "HTMLModel",
      "state": {
       "layout": "IPY_MODEL_52392695bc774640ab2955a17257b3d4",
       "style": "IPY_MODEL_b57f2832800441ee985f911a1f193df6",
       "value": " 0/50 [00:00&lt;?, ?it/s]"
      }
     },
     "c1686bf9a7c04c3ca428d493a0a7ab88": {
      "model_module": "@jupyter-widgets/controls",
      "model_module_version": "1.4.0",
      "model_name": "HTMLModel",
      "state": {
       "layout": "IPY_MODEL_daf109cb339c46df9b9f03d17b044802",
       "style": "IPY_MODEL_ef6811cf01874e55a2e462e469ae053c",
       "value": " 87/87 [1:00:03&lt;00:00, 42.30s/it]"
      }
     },
     "c2019ab6cc6843d5b68403a2fb39a40f": {
      "model_module": "@jupyter-widgets/controls",
      "model_module_version": "1.4.0",
      "model_name": "ProgressStyleModel",
      "state": {
       "description_width": "initial"
      }
     },
     "c312f07732d34ea983116dab765ba330": {
      "model_module": "@jupyter-widgets/base",
      "model_module_version": "1.1.0",
      "model_name": "LayoutModel",
      "state": {}
     },
     "c3c6151d1dda4a64ae67d4c9afb1587f": {
      "model_module": "@jupyter-widgets/controls",
      "model_module_version": "1.4.0",
      "model_name": "DescriptionStyleModel",
      "state": {
       "description_width": ""
      }
     },
     "c40f09d480c1475d97873cf9b33eda09": {
      "model_module": "@jupyter-widgets/controls",
      "model_module_version": "1.4.0",
      "model_name": "ProgressStyleModel",
      "state": {
       "description_width": "initial"
      }
     },
     "c65c98abd5da40dfb6f996e4df2bc597": {
      "model_module": "@jupyter-widgets/controls",
      "model_module_version": "1.4.0",
      "model_name": "HTMLModel",
      "state": {
       "layout": "IPY_MODEL_c312f07732d34ea983116dab765ba330",
       "style": "IPY_MODEL_0c4f07398e294335bc2e8a7e16fea46f",
       "value": " 11/11 [04:02&lt;00:00, 22.10s/it]"
      }
     },
     "c677d9503a1749c7952279984fe087c7": {
      "model_module": "@jupyter-widgets/base",
      "model_module_version": "1.1.0",
      "model_name": "LayoutModel",
      "state": {}
     },
     "c781ef80435a4581b0ed82e804bc016b": {
      "model_module": "@jupyter-widgets/controls",
      "model_module_version": "1.4.0",
      "model_name": "ProgressStyleModel",
      "state": {
       "description_width": "initial"
      }
     },
     "c7d348816d574722b38d6c5cd8c478ae": {
      "model_module": "@jupyter-widgets/base",
      "model_module_version": "1.1.0",
      "model_name": "LayoutModel",
      "state": {}
     },
     "c853c654261c4eac9d4ec351c3b03cde": {
      "model_module": "@jupyter-widgets/base",
      "model_module_version": "1.1.0",
      "model_name": "LayoutModel",
      "state": {}
     },
     "c9e92f5e542a49f284f490c250db220f": {
      "model_module": "@jupyter-widgets/base",
      "model_module_version": "1.1.0",
      "model_name": "LayoutModel",
      "state": {}
     },
     "ca233808164847148ace5a996d93d9b6": {
      "model_module": "@jupyter-widgets/controls",
      "model_module_version": "1.4.0",
      "model_name": "HTMLModel",
      "state": {
       "layout": "IPY_MODEL_1e15df9ed4c2438e870aa8434890313f",
       "style": "IPY_MODEL_0a175d8e29c04840a4de3eadcd496bf3",
       "value": " 11/11 [04:16&lt;00:00, 23.29s/it]"
      }
     },
     "ca4093e442dd423bad842dd366cca4af": {
      "model_module": "@jupyter-widgets/base",
      "model_module_version": "1.1.0",
      "model_name": "LayoutModel",
      "state": {}
     },
     "ca9faadee9334413ae8fd59a2d140b3d": {
      "model_module": "@jupyter-widgets/base",
      "model_module_version": "1.1.0",
      "model_name": "LayoutModel",
      "state": {}
     },
     "caeb75d385024953bb341830c880e69d": {
      "model_module": "@jupyter-widgets/base",
      "model_module_version": "1.1.0",
      "model_name": "LayoutModel",
      "state": {}
     },
     "cbef7c5cf6cb4beab6cff7f1c0a266da": {
      "model_module": "@jupyter-widgets/base",
      "model_module_version": "1.1.0",
      "model_name": "LayoutModel",
      "state": {}
     },
     "cca1157538bf462eb48caabcd2e79efc": {
      "model_module": "@jupyter-widgets/base",
      "model_module_version": "1.1.0",
      "model_name": "LayoutModel",
      "state": {}
     },
     "cd62ed1325744756829e7479f5dd9ccb": {
      "model_module": "@jupyter-widgets/base",
      "model_module_version": "1.1.0",
      "model_name": "LayoutModel",
      "state": {}
     },
     "cddff91b4c7d4f9f93fd18ceda00ee51": {
      "model_module": "@jupyter-widgets/controls",
      "model_module_version": "1.4.0",
      "model_name": "DescriptionStyleModel",
      "state": {
       "description_width": ""
      }
     },
     "ce2f97fc059a4b3791e7b9904c87527d": {
      "model_module": "@jupyter-widgets/controls",
      "model_module_version": "1.4.0",
      "model_name": "ProgressStyleModel",
      "state": {
       "description_width": "initial"
      }
     },
     "ce8dd747fe9541548a17101e18619576": {
      "model_module": "@jupyter-widgets/controls",
      "model_module_version": "1.4.0",
      "model_name": "HTMLModel",
      "state": {
       "layout": "IPY_MODEL_b70b6eaecfa140a8ba16f2ae92f9a8b7",
       "style": "IPY_MODEL_62a8ccb44b49489991920aec336526d8",
       "value": " 10/300 [02:42&lt;1:18:36, 16.26s/it]"
      }
     },
     "cfbd411e131e4534b416baca0c8159ce": {
      "model_module": "@jupyter-widgets/controls",
      "model_module_version": "1.4.0",
      "model_name": "HTMLModel",
      "state": {
       "layout": "IPY_MODEL_cbef7c5cf6cb4beab6cff7f1c0a266da",
       "style": "IPY_MODEL_3b9c9abcfa6749f5b8daef92ba55ca51",
       "value": " 87/87 [56:55&lt;00:00, 38.57s/it]"
      }
     },
     "d05bfdc1d87044e28b80471174bd0a84": {
      "model_module": "@jupyter-widgets/controls",
      "model_module_version": "1.4.0",
      "model_name": "DescriptionStyleModel",
      "state": {
       "description_width": ""
      }
     },
     "d0732bf7788640a6bc9121156ee49e91": {
      "model_module": "@jupyter-widgets/base",
      "model_module_version": "1.1.0",
      "model_name": "LayoutModel",
      "state": {}
     },
     "d08af3e0fc974cadad3c33e76efa7cff": {
      "model_module": "@jupyter-widgets/base",
      "model_module_version": "1.1.0",
      "model_name": "LayoutModel",
      "state": {}
     },
     "d0aae54e82a84212b2b4c97d946221f7": {
      "model_module": "@jupyter-widgets/controls",
      "model_module_version": "1.4.0",
      "model_name": "HTMLModel",
      "state": {
       "layout": "IPY_MODEL_5d754b4cec1f49c9b585000654830094",
       "style": "IPY_MODEL_a852123b0b344d1ea6a73d2e7b266884",
       "value": " 87/87 [53:35&lt;00:00, 37.99s/it]"
      }
     },
     "d0d00490b5b444eeac02f354c42837b5": {
      "model_module": "@jupyter-widgets/base",
      "model_module_version": "1.1.0",
      "model_name": "LayoutModel",
      "state": {}
     },
     "d199b7df759140748450af60cd7d3785": {
      "model_module": "@jupyter-widgets/controls",
      "model_module_version": "1.4.0",
      "model_name": "HBoxModel",
      "state": {
       "children": [
        "IPY_MODEL_87e19f680ebc4e3fafefc9d2826defb1",
        "IPY_MODEL_4f72ae606cf54b30bedc548cfba83159"
       ],
       "layout": "IPY_MODEL_ac7a51ab758f428bafe51c6d6d4a346f"
      }
     },
     "d2e048076ea44a0b9681772c4b19ac99": {
      "model_module": "@jupyter-widgets/base",
      "model_module_version": "1.1.0",
      "model_name": "LayoutModel",
      "state": {}
     },
     "d31dea4b7b6a4302ab7748d5b59b3e31": {
      "model_module": "@jupyter-widgets/controls",
      "model_module_version": "1.4.0",
      "model_name": "ProgressStyleModel",
      "state": {
       "description_width": "initial"
      }
     },
     "d36a249433494db0a1022865722b618f": {
      "model_module": "@jupyter-widgets/controls",
      "model_module_version": "1.4.0",
      "model_name": "DescriptionStyleModel",
      "state": {
       "description_width": ""
      }
     },
     "d3e9397743a54c8183dd5c423f86b308": {
      "model_module": "@jupyter-widgets/base",
      "model_module_version": "1.1.0",
      "model_name": "LayoutModel",
      "state": {}
     },
     "d4f44dc1942c4349a1d0e6068cbf1a6b": {
      "model_module": "@jupyter-widgets/controls",
      "model_module_version": "1.4.0",
      "model_name": "FloatProgressModel",
      "state": {
       "description": "Train_Iter: 100%",
       "layout": "IPY_MODEL_d959f6c6a9d14c469b9c8df85038a28e",
       "max": 87,
       "style": "IPY_MODEL_f4cf89a19320477389c0d75fa2b1710d",
       "value": 87
      }
     },
     "d504c590259a4b8eb985eae5eb2bba77": {
      "model_module": "@jupyter-widgets/controls",
      "model_module_version": "1.4.0",
      "model_name": "HTMLModel",
      "state": {
       "layout": "IPY_MODEL_9e099eff602140f8b9790113cb391741",
       "style": "IPY_MODEL_128c9f0683a8419db700394458b19137",
       "value": " 11/11 [04:06&lt;00:00, 21.60s/it]"
      }
     },
     "d58d5be094b14d19bbb265668a997cda": {
      "model_module": "@jupyter-widgets/base",
      "model_module_version": "1.1.0",
      "model_name": "LayoutModel",
      "state": {}
     },
     "d5d90296b40a4357acc9ef4fedffddd9": {
      "model_module": "@jupyter-widgets/base",
      "model_module_version": "1.1.0",
      "model_name": "LayoutModel",
      "state": {}
     },
     "d5e3f25b35ea407d8db8597bcca6a55d": {
      "model_module": "@jupyter-widgets/base",
      "model_module_version": "1.1.0",
      "model_name": "LayoutModel",
      "state": {}
     },
     "d6d420eae62e4a7a996fa785290ff574": {
      "model_module": "@jupyter-widgets/base",
      "model_module_version": "1.1.0",
      "model_name": "LayoutModel",
      "state": {}
     },
     "d85e66ebc1924eeeb003c98dbad6fdf0": {
      "model_module": "@jupyter-widgets/controls",
      "model_module_version": "1.4.0",
      "model_name": "DescriptionStyleModel",
      "state": {
       "description_width": ""
      }
     },
     "d959f6c6a9d14c469b9c8df85038a28e": {
      "model_module": "@jupyter-widgets/base",
      "model_module_version": "1.1.0",
      "model_name": "LayoutModel",
      "state": {}
     },
     "d9be3ac510ba4934a018e93d9762a9e5": {
      "model_module": "@jupyter-widgets/controls",
      "model_module_version": "1.4.0",
      "model_name": "ProgressStyleModel",
      "state": {
       "description_width": "initial"
      }
     },
     "dacc4f79ab014059a64d27ec64e28953": {
      "model_module": "@jupyter-widgets/controls",
      "model_module_version": "1.4.0",
      "model_name": "HTMLModel",
      "state": {
       "layout": "IPY_MODEL_74d59e14424b4ffbb01853720662bfec",
       "style": "IPY_MODEL_b5d500a3771f4fb4902fba70d880a41d",
       "value": " 87/87 [53:46&lt;00:00, 38.19s/it]"
      }
     },
     "daf109cb339c46df9b9f03d17b044802": {
      "model_module": "@jupyter-widgets/base",
      "model_module_version": "1.1.0",
      "model_name": "LayoutModel",
      "state": {}
     },
     "db7a537757e44ad39a014785f7a30362": {
      "model_module": "@jupyter-widgets/base",
      "model_module_version": "1.1.0",
      "model_name": "LayoutModel",
      "state": {}
     },
     "db80c0e8f732499f93c2afc2f02c5d18": {
      "model_module": "@jupyter-widgets/controls",
      "model_module_version": "1.4.0",
      "model_name": "FloatProgressModel",
      "state": {
       "description": "Epoch:  10%",
       "layout": "IPY_MODEL_e0061c987f1f4287929671bd23fda19c",
       "max": 50,
       "style": "IPY_MODEL_54d5d5dc8bbc458682c1cb77e4380b30",
       "value": 5
      }
     },
     "de767eebe5b948258efef812fab9f114": {
      "model_module": "@jupyter-widgets/base",
      "model_module_version": "1.1.0",
      "model_name": "LayoutModel",
      "state": {}
     },
     "df4956c28a724455b6a4a88004468e52": {
      "model_module": "@jupyter-widgets/controls",
      "model_module_version": "1.4.0",
      "model_name": "DescriptionStyleModel",
      "state": {
       "description_width": ""
      }
     },
     "dfa7b7f2a48c463fb67c90fcb38b1552": {
      "model_module": "@jupyter-widgets/controls",
      "model_module_version": "1.4.0",
      "model_name": "DescriptionStyleModel",
      "state": {
       "description_width": ""
      }
     },
     "e0061c987f1f4287929671bd23fda19c": {
      "model_module": "@jupyter-widgets/base",
      "model_module_version": "1.1.0",
      "model_name": "LayoutModel",
      "state": {}
     },
     "e0762495f883467e9c81c386b74b9693": {
      "model_module": "@jupyter-widgets/controls",
      "model_module_version": "1.4.0",
      "model_name": "FloatProgressModel",
      "state": {
       "description": "Val_Iter: 100%",
       "layout": "IPY_MODEL_3f49c4d5a8d749a7a009224bc5fab633",
       "max": 11,
       "style": "IPY_MODEL_7940b28c77544881b9c8c1e7ffa47634",
       "value": 11
      }
     },
     "e1c39d3ccbdd4dd38984114d3fa7d7e6": {
      "model_module": "@jupyter-widgets/base",
      "model_module_version": "1.1.0",
      "model_name": "LayoutModel",
      "state": {}
     },
     "e23abb7e8ed844639541b3d321db77d6": {
      "model_module": "@jupyter-widgets/controls",
      "model_module_version": "1.4.0",
      "model_name": "HTMLModel",
      "state": {
       "layout": "IPY_MODEL_32052d5b6bb74e45b4c2955fe358c608",
       "style": "IPY_MODEL_826f28fbb3234f5697a095f9ba30e0dc",
       "value": " 37/87 [25:33&lt;33:33, 40.28s/it]"
      }
     },
     "e2a141bbe8fe480c9095d81bd82d264d": {
      "model_module": "@jupyter-widgets/controls",
      "model_module_version": "1.4.0",
      "model_name": "FloatProgressModel",
      "state": {
       "description": "Val_Iter: 100%",
       "layout": "IPY_MODEL_ae6c07f5a8c3449681c188884848feb9",
       "max": 11,
       "style": "IPY_MODEL_3d568180d0a0447da7ed25233270edc1",
       "value": 11
      }
     },
     "e33fe72bb2ef4e73a85e0fb917b45469": {
      "model_module": "@jupyter-widgets/controls",
      "model_module_version": "1.4.0",
      "model_name": "DescriptionStyleModel",
      "state": {
       "description_width": ""
      }
     },
     "e43b3a19a3d04d818a2352e55b1cccc7": {
      "model_module": "@jupyter-widgets/controls",
      "model_module_version": "1.4.0",
      "model_name": "HBoxModel",
      "state": {
       "children": [
        "IPY_MODEL_fd644aed7d714e3d86e834223c8997f9",
        "IPY_MODEL_c15a594b68454207904aa340f3481fa0"
       ],
       "layout": "IPY_MODEL_3f4226ec5d264b4a87de98027d90691b"
      }
     },
     "e49b2392bbf449b28d6c8a7510038fa5": {
      "model_module": "@jupyter-widgets/controls",
      "model_module_version": "1.4.0",
      "model_name": "DescriptionStyleModel",
      "state": {
       "description_width": ""
      }
     },
     "e4d6aa24b23542cca64e6b6bbc957290": {
      "model_module": "@jupyter-widgets/controls",
      "model_module_version": "1.4.0",
      "model_name": "ProgressStyleModel",
      "state": {
       "description_width": "initial"
      }
     },
     "e51fc85f748947afba80a2564c086d39": {
      "model_module": "@jupyter-widgets/controls",
      "model_module_version": "1.4.0",
      "model_name": "HTMLModel",
      "state": {
       "layout": "IPY_MODEL_99aff0993f8643abb59db9e1d6a16059",
       "style": "IPY_MODEL_66d40863d215472f9e7fec24b8f20b1f",
       "value": " 11/11 [04:15&lt;00:00, 23.40s/it]"
      }
     },
     "e5ccf06e9c4d422b9206cf17fdccb835": {
      "model_module": "@jupyter-widgets/controls",
      "model_module_version": "1.4.0",
      "model_name": "ProgressStyleModel",
      "state": {
       "description_width": "initial"
      }
     },
     "e5fe46f789054e53a6d371c22c67ef5c": {
      "model_module": "@jupyter-widgets/controls",
      "model_module_version": "1.4.0",
      "model_name": "DescriptionStyleModel",
      "state": {
       "description_width": ""
      }
     },
     "e63ad9bb8b7743b4a9d19fe457b0feac": {
      "model_module": "@jupyter-widgets/controls",
      "model_module_version": "1.4.0",
      "model_name": "FloatProgressModel",
      "state": {
       "description": "Train_Iter: 100%",
       "layout": "IPY_MODEL_3a8c10a932fe472babbe645033502fa0",
       "max": 87,
       "style": "IPY_MODEL_9d60264dec6340b5b92082e95a33d63e",
       "value": 87
      }
     },
     "e7513f22f9fc4e6c857e261f08993ca3": {
      "model_module": "@jupyter-widgets/controls",
      "model_module_version": "1.4.0",
      "model_name": "FloatProgressModel",
      "state": {
       "description": "Val_Iter: 100%",
       "layout": "IPY_MODEL_d5e3f25b35ea407d8db8597bcca6a55d",
       "max": 11,
       "style": "IPY_MODEL_15b40f5b7e434ff18a25568f612fc490",
       "value": 11
      }
     },
     "e7fb2ad6672141c1b63d4b4b6caac70a": {
      "model_module": "@jupyter-widgets/controls",
      "model_module_version": "1.4.0",
      "model_name": "ProgressStyleModel",
      "state": {
       "description_width": "initial"
      }
     },
     "e8f97153d8484fdd83be7cb5b114edf8": {
      "model_module": "@jupyter-widgets/controls",
      "model_module_version": "1.4.0",
      "model_name": "FloatProgressModel",
      "state": {
       "description": "Val_Iter: 100%",
       "layout": "IPY_MODEL_83f75d1519b9402c8e264890b09a4502",
       "max": 11,
       "style": "IPY_MODEL_c781ef80435a4581b0ed82e804bc016b",
       "value": 11
      }
     },
     "e93bf1517694446f843fc1fc95368e49": {
      "model_module": "@jupyter-widgets/base",
      "model_module_version": "1.1.0",
      "model_name": "LayoutModel",
      "state": {}
     },
     "ec799499b73f4d17941b990fea0514d2": {
      "model_module": "@jupyter-widgets/controls",
      "model_module_version": "1.4.0",
      "model_name": "HTMLModel",
      "state": {
       "layout": "IPY_MODEL_b7a5cb76033d4398a19ef04dc0c18e99",
       "style": "IPY_MODEL_6122c3ddb0a84369a649d27570570cbc",
       "value": " 87/87 [55:46&lt;00:00, 37.36s/it]"
      }
     },
     "ecfd6275f702418eaa9fae9ad0078aea": {
      "model_module": "@jupyter-widgets/base",
      "model_module_version": "1.1.0",
      "model_name": "LayoutModel",
      "state": {}
     },
     "ed2a01f5f637497ca481156638d97ee4": {
      "model_module": "@jupyter-widgets/controls",
      "model_module_version": "1.4.0",
      "model_name": "FloatProgressModel",
      "state": {
       "description": "Val_Iter: 100%",
       "layout": "IPY_MODEL_8993a4cb918144f9892a9605b35e9c7e",
       "max": 11,
       "style": "IPY_MODEL_be16aef3cc454da598e07725d07262cd",
       "value": 11
      }
     },
     "ed30790935cd4171a5130de048ccd0a1": {
      "model_module": "@jupyter-widgets/base",
      "model_module_version": "1.1.0",
      "model_name": "LayoutModel",
      "state": {}
     },
     "ed31e49bf58a40c5a16c2fa369e5bc2d": {
      "model_module": "@jupyter-widgets/controls",
      "model_module_version": "1.4.0",
      "model_name": "FloatProgressModel",
      "state": {
       "description": "Train_Iter: 100%",
       "layout": "IPY_MODEL_ab55958884ca4a2684421323c44d769e",
       "max": 87,
       "style": "IPY_MODEL_664a29ec8c9246aabf75dae01b0f3e5e",
       "value": 87
      }
     },
     "ed42608b89f44791bfe5e000698ef7c4": {
      "model_module": "@jupyter-widgets/controls",
      "model_module_version": "1.4.0",
      "model_name": "FloatProgressModel",
      "state": {
       "description": "Train_Iter: 100%",
       "layout": "IPY_MODEL_cd62ed1325744756829e7479f5dd9ccb",
       "max": 87,
       "style": "IPY_MODEL_70e4a339eef74c9a8d4a5ccb8f8bc1c8",
       "value": 87
      }
     },
     "ee68112692074b64bf325156e4f8688a": {
      "model_module": "@jupyter-widgets/base",
      "model_module_version": "1.1.0",
      "model_name": "LayoutModel",
      "state": {}
     },
     "ef080220e11944638f561cb163356595": {
      "model_module": "@jupyter-widgets/base",
      "model_module_version": "1.1.0",
      "model_name": "LayoutModel",
      "state": {}
     },
     "ef313b3a596f4377870fd3f2f963fec8": {
      "model_module": "@jupyter-widgets/controls",
      "model_module_version": "1.4.0",
      "model_name": "ProgressStyleModel",
      "state": {
       "description_width": "initial"
      }
     },
     "ef6811cf01874e55a2e462e469ae053c": {
      "model_module": "@jupyter-widgets/controls",
      "model_module_version": "1.4.0",
      "model_name": "DescriptionStyleModel",
      "state": {
       "description_width": ""
      }
     },
     "efcc88a1579e4d6bae453bd8f5bc751d": {
      "model_module": "@jupyter-widgets/base",
      "model_module_version": "1.1.0",
      "model_name": "LayoutModel",
      "state": {}
     },
     "efe57cb56a6e4d5a95375dca119cc01c": {
      "model_module": "@jupyter-widgets/controls",
      "model_module_version": "1.4.0",
      "model_name": "ProgressStyleModel",
      "state": {
       "description_width": "initial"
      }
     },
     "f005855452a64bfc85bd679ef5d8c45b": {
      "model_module": "@jupyter-widgets/base",
      "model_module_version": "1.1.0",
      "model_name": "LayoutModel",
      "state": {}
     },
     "f02d9ad50b3d4831b7e86c2b0dc5bad9": {
      "model_module": "@jupyter-widgets/base",
      "model_module_version": "1.1.0",
      "model_name": "LayoutModel",
      "state": {}
     },
     "f0955acbdf5949dc8b39985025ab59bb": {
      "model_module": "@jupyter-widgets/base",
      "model_module_version": "1.1.0",
      "model_name": "LayoutModel",
      "state": {}
     },
     "f10d68d5ff6944dd87530bd23c0ff692": {
      "model_module": "@jupyter-widgets/base",
      "model_module_version": "1.1.0",
      "model_name": "LayoutModel",
      "state": {}
     },
     "f25bc9a262e6463a85e7f09bc746f686": {
      "model_module": "@jupyter-widgets/base",
      "model_module_version": "1.1.0",
      "model_name": "LayoutModel",
      "state": {}
     },
     "f25df14594d840c7b8c696bac47169a2": {
      "model_module": "@jupyter-widgets/controls",
      "model_module_version": "1.4.0",
      "model_name": "ProgressStyleModel",
      "state": {
       "description_width": "initial"
      }
     },
     "f25e75beeca740db9182d098cc3d20a5": {
      "model_module": "@jupyter-widgets/controls",
      "model_module_version": "1.4.0",
      "model_name": "ProgressStyleModel",
      "state": {
       "description_width": "initial"
      }
     },
     "f36138565c29487b922a0b6eb8a8e4f0": {
      "model_module": "@jupyter-widgets/base",
      "model_module_version": "1.1.0",
      "model_name": "LayoutModel",
      "state": {}
     },
     "f3ae34476d654353a838958672ba5a83": {
      "model_module": "@jupyter-widgets/controls",
      "model_module_version": "1.4.0",
      "model_name": "HTMLModel",
      "state": {
       "layout": "IPY_MODEL_c853c654261c4eac9d4ec351c3b03cde",
       "style": "IPY_MODEL_9aa51d11fffe440fbb026e0b2f8ef544",
       "value": " 87/87 [54:37&lt;00:00, 38.70s/it]"
      }
     },
     "f3cc01903b964aecaff80c5a44df68fa": {
      "model_module": "@jupyter-widgets/controls",
      "model_module_version": "1.4.0",
      "model_name": "HBoxModel",
      "state": {
       "children": [
        "IPY_MODEL_26db79fd49614853b20f7bc21aa215ed",
        "IPY_MODEL_4bd542d1178e4888bedd5c78c5626c20"
       ],
       "layout": "IPY_MODEL_0a4c152367ec46d5b59b5b79e9e443a2"
      }
     },
     "f4a6256c58fb44da8addb1cdd48b1897": {
      "model_module": "@jupyter-widgets/controls",
      "model_module_version": "1.4.0",
      "model_name": "ProgressStyleModel",
      "state": {
       "description_width": "initial"
      }
     },
     "f4cf89a19320477389c0d75fa2b1710d": {
      "model_module": "@jupyter-widgets/controls",
      "model_module_version": "1.4.0",
      "model_name": "ProgressStyleModel",
      "state": {
       "description_width": "initial"
      }
     },
     "f5638e32e9fe44c09d9109cb7efb6e54": {
      "model_module": "@jupyter-widgets/base",
      "model_module_version": "1.1.0",
      "model_name": "LayoutModel",
      "state": {}
     },
     "f66b5ca7e643442592fbbc4a0a85f26f": {
      "model_module": "@jupyter-widgets/controls",
      "model_module_version": "1.4.0",
      "model_name": "DescriptionStyleModel",
      "state": {
       "description_width": ""
      }
     },
     "f6cf5d1a71ca4dd3bce344957887c2e2": {
      "model_module": "@jupyter-widgets/base",
      "model_module_version": "1.1.0",
      "model_name": "LayoutModel",
      "state": {}
     },
     "f72a7c1599664702b520e876512c9dac": {
      "model_module": "@jupyter-widgets/controls",
      "model_module_version": "1.4.0",
      "model_name": "FloatProgressModel",
      "state": {
       "description": "Train_Iter: 100%",
       "layout": "IPY_MODEL_c677d9503a1749c7952279984fe087c7",
       "max": 87,
       "style": "IPY_MODEL_f25df14594d840c7b8c696bac47169a2",
       "value": 87
      }
     },
     "f99bedd6659c48bc8fed09751d1ebd75": {
      "model_module": "@jupyter-widgets/controls",
      "model_module_version": "1.4.0",
      "model_name": "ProgressStyleModel",
      "state": {
       "description_width": "initial"
      }
     },
     "faa1e74c9fb9403494a351b98ebb61dc": {
      "model_module": "@jupyter-widgets/base",
      "model_module_version": "1.1.0",
      "model_name": "LayoutModel",
      "state": {}
     },
     "fad18746c9e0432bb83862ed21b8a3b6": {
      "model_module": "@jupyter-widgets/base",
      "model_module_version": "1.1.0",
      "model_name": "LayoutModel",
      "state": {}
     },
     "fb0c0b497e6b4e4892750019872f4164": {
      "model_module": "@jupyter-widgets/controls",
      "model_module_version": "1.4.0",
      "model_name": "DescriptionStyleModel",
      "state": {
       "description_width": ""
      }
     },
     "fb1534803e1447309be173eaf52bad78": {
      "model_module": "@jupyter-widgets/base",
      "model_module_version": "1.1.0",
      "model_name": "LayoutModel",
      "state": {}
     },
     "fbbc35e68a6a4e40994b331f070a1637": {
      "model_module": "@jupyter-widgets/controls",
      "model_module_version": "1.4.0",
      "model_name": "FloatProgressModel",
      "state": {
       "description": "Val_Iter: 100%",
       "layout": "IPY_MODEL_41cfc74d325a4be8837fd2d79302e779",
       "max": 11,
       "style": "IPY_MODEL_3222034cb75047439727f33acbc835f3",
       "value": 11
      }
     },
     "fbeac5f84b0242389a1102667432c47b": {
      "model_module": "@jupyter-widgets/controls",
      "model_module_version": "1.4.0",
      "model_name": "ProgressStyleModel",
      "state": {
       "description_width": "initial"
      }
     },
     "fc228996770f4347a785bba130b2486c": {
      "model_module": "@jupyter-widgets/base",
      "model_module_version": "1.1.0",
      "model_name": "LayoutModel",
      "state": {}
     },
     "fd644aed7d714e3d86e834223c8997f9": {
      "model_module": "@jupyter-widgets/controls",
      "model_module_version": "1.4.0",
      "model_name": "FloatProgressModel",
      "state": {
       "description": "Epoch:   0%",
       "layout": "IPY_MODEL_f0955acbdf5949dc8b39985025ab59bb",
       "max": 50,
       "style": "IPY_MODEL_33e56bf2ab4b49ea974432b4915e6995"
      }
     },
     "fd7ce960db12442f90422ac8c14e3686": {
      "model_module": "@jupyter-widgets/controls",
      "model_module_version": "1.4.0",
      "model_name": "ProgressStyleModel",
      "state": {
       "description_width": "initial"
      }
     },
     "fe22bf84657a4cf2b24c9a6b6a1e4a2b": {
      "model_module": "@jupyter-widgets/controls",
      "model_module_version": "1.4.0",
      "model_name": "FloatProgressModel",
      "state": {
       "description": "Train_Iter: 100%",
       "layout": "IPY_MODEL_4a3179508394429590f82e82793aaaa6",
       "max": 87,
       "style": "IPY_MODEL_5a58d9469e09466e80609040f8d89430",
       "value": 87
      }
     },
     "fe29101c64d642e5a88ba98b97bf4ac1": {
      "model_module": "@jupyter-widgets/base",
      "model_module_version": "1.1.0",
      "model_name": "LayoutModel",
      "state": {}
     },
     "feecf9b3bd304710a927cd25b778ad08": {
      "model_module": "@jupyter-widgets/base",
      "model_module_version": "1.1.0",
      "model_name": "LayoutModel",
      "state": {}
     },
     "ff888637100642dca130ec2fb7232e13": {
      "model_module": "@jupyter-widgets/controls",
      "model_module_version": "1.4.0",
      "model_name": "DescriptionStyleModel",
      "state": {
       "description_width": ""
      }
     }
    },
    "version_major": 2,
    "version_minor": 0
   }
  }
 },
 "nbformat": 4,
 "nbformat_minor": 4
}
