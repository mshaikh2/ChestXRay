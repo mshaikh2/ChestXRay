{
 "cells": [
  {
   "cell_type": "code",
   "execution_count": 1,
   "metadata": {},
   "outputs": [
    {
     "name": "stderr",
     "output_type": "stream",
     "text": [
      "Using TensorFlow backend.\n"
     ]
    }
   ],
   "source": [
    "import spacy\n",
    "from keras.applications.vgg16 import VGG16\n",
    "from keras.applications.inception_resnet_v2 import InceptionResNetV2\n",
    "import matplotlib.pyplot as plt\n",
    "from keras.utils import plot_model,multi_gpu_model\n",
    "from IPython.display import SVG\n",
    "from keras.utils.vis_utils import model_to_dot\n",
    "from keras.models import Model\n",
    "from keras.models import load_model\n",
    "from keras.layers import Input,GlobalAveragePooling2D,Layer,InputSpec\n",
    "from keras.layers.core import Dense,Flatten,Dropout\n",
    "from keras.optimizers import Adam,SGD\n",
    "from keras.callbacks import ModelCheckpoint, EarlyStopping, TensorBoard\n",
    "from keras.utils import np_utils\n",
    "import keras.backend as K\n",
    "import keras.layers as kl\n",
    "from keras.preprocessing import sequence\n",
    "import tensorflow as tf\n",
    "from tensorflow.python.client import device_lib\n",
    "from sklearn.metrics import classification_report\n",
    "import pandas as pd\n",
    "import numpy as np\n",
    "from time import time\n",
    "import pickle\n",
    "from keras.models import model_from_json\n",
    "# from AttentionModule import SelfAttention, SoftAttention\n",
    "import os\n",
    "os.environ[\"CUDA_VISIBLE_DEVICES\"]='0,1,3'\n",
    "import cv2\n",
    "from tqdm.notebook import tqdm\n",
    "import AttentionMed as AM\n",
    "from importlib import reload\n",
    "reload(AM)\n",
    "from time import time,localtime,strftime\n",
    "from ipywidgets import IntProgress\n",
    "# from coord import CoordinateChannel2D"
   ]
  },
  {
   "cell_type": "code",
   "execution_count": null,
   "metadata": {
    "scrolled": true
   },
   "outputs": [],
   "source": []
  },
  {
   "cell_type": "code",
   "execution_count": 2,
   "metadata": {},
   "outputs": [],
   "source": [
    "# /media/MyDataStor1/mshaikh2/project_xray/notebooks"
   ]
  },
  {
   "cell_type": "code",
   "execution_count": 3,
   "metadata": {},
   "outputs": [],
   "source": [
    "n_gpu=3\n",
    "n_cpu=1\n",
    "tf_config= tf.ConfigProto(device_count = {'GPU': n_gpu , 'CPU': n_cpu})\n",
    "tf_config.gpu_options.allow_growth=True\n",
    "s=tf.Session(config=tf_config)\n",
    "K.set_session(s)"
   ]
  },
  {
   "cell_type": "code",
   "execution_count": 4,
   "metadata": {
    "scrolled": true
   },
   "outputs": [],
   "source": [
    "nlp = spacy.load('en_core_web_md')"
   ]
  },
  {
   "cell_type": "code",
   "execution_count": 5,
   "metadata": {},
   "outputs": [
    {
     "data": {
      "text/plain": [
       "'/media/MyDataStor1/mshaikh2/project_xray/notebooks'"
      ]
     },
     "execution_count": 5,
     "metadata": {},
     "output_type": "execute_result"
    }
   ],
   "source": [
    "path=os.getcwd() #Get the path\n",
    "path"
   ]
  },
  {
   "cell_type": "code",
   "execution_count": 6,
   "metadata": {
    "scrolled": true
   },
   "outputs": [
    {
     "data": {
      "text/html": [
       "<div>\n",
       "<style scoped>\n",
       "    .dataframe tbody tr th:only-of-type {\n",
       "        vertical-align: middle;\n",
       "    }\n",
       "\n",
       "    .dataframe tbody tr th {\n",
       "        vertical-align: top;\n",
       "    }\n",
       "\n",
       "    .dataframe thead th {\n",
       "        text-align: right;\n",
       "    }\n",
       "</style>\n",
       "<table border=\"1\" class=\"dataframe\">\n",
       "  <thead>\n",
       "    <tr style=\"text-align: right;\">\n",
       "      <th></th>\n",
       "      <th>uid</th>\n",
       "      <th>filename</th>\n",
       "      <th>projection</th>\n",
       "    </tr>\n",
       "  </thead>\n",
       "  <tbody>\n",
       "    <tr>\n",
       "      <th>0</th>\n",
       "      <td>1</td>\n",
       "      <td>1_IM-0001-4001.dcm.png</td>\n",
       "      <td>Frontal</td>\n",
       "    </tr>\n",
       "    <tr>\n",
       "      <th>1</th>\n",
       "      <td>1</td>\n",
       "      <td>1_IM-0001-3001.dcm.png</td>\n",
       "      <td>Lateral</td>\n",
       "    </tr>\n",
       "    <tr>\n",
       "      <th>2</th>\n",
       "      <td>2</td>\n",
       "      <td>2_IM-0652-1001.dcm.png</td>\n",
       "      <td>Frontal</td>\n",
       "    </tr>\n",
       "    <tr>\n",
       "      <th>3</th>\n",
       "      <td>2</td>\n",
       "      <td>2_IM-0652-2001.dcm.png</td>\n",
       "      <td>Lateral</td>\n",
       "    </tr>\n",
       "    <tr>\n",
       "      <th>4</th>\n",
       "      <td>3</td>\n",
       "      <td>3_IM-1384-1001.dcm.png</td>\n",
       "      <td>Frontal</td>\n",
       "    </tr>\n",
       "    <tr>\n",
       "      <th>5</th>\n",
       "      <td>3</td>\n",
       "      <td>3_IM-1384-2001.dcm.png</td>\n",
       "      <td>Lateral</td>\n",
       "    </tr>\n",
       "    <tr>\n",
       "      <th>6</th>\n",
       "      <td>4</td>\n",
       "      <td>4_IM-2050-1001.dcm.png</td>\n",
       "      <td>Frontal</td>\n",
       "    </tr>\n",
       "    <tr>\n",
       "      <th>7</th>\n",
       "      <td>4</td>\n",
       "      <td>4_IM-2050-2001.dcm.png</td>\n",
       "      <td>Lateral</td>\n",
       "    </tr>\n",
       "    <tr>\n",
       "      <th>8</th>\n",
       "      <td>5</td>\n",
       "      <td>5_IM-2117-1003002.dcm.png</td>\n",
       "      <td>Frontal</td>\n",
       "    </tr>\n",
       "    <tr>\n",
       "      <th>9</th>\n",
       "      <td>5</td>\n",
       "      <td>5_IM-2117-1004003.dcm.png</td>\n",
       "      <td>Lateral</td>\n",
       "    </tr>\n",
       "    <tr>\n",
       "      <th>10</th>\n",
       "      <td>6</td>\n",
       "      <td>6_IM-2192-1001.dcm.png</td>\n",
       "      <td>Frontal</td>\n",
       "    </tr>\n",
       "    <tr>\n",
       "      <th>11</th>\n",
       "      <td>6</td>\n",
       "      <td>6_IM-2192-2001.dcm.png</td>\n",
       "      <td>Lateral</td>\n",
       "    </tr>\n",
       "    <tr>\n",
       "      <th>12</th>\n",
       "      <td>7</td>\n",
       "      <td>7_IM-2263-1001.dcm.png</td>\n",
       "      <td>Frontal</td>\n",
       "    </tr>\n",
       "    <tr>\n",
       "      <th>13</th>\n",
       "      <td>7</td>\n",
       "      <td>7_IM-2263-2001.dcm.png</td>\n",
       "      <td>Lateral</td>\n",
       "    </tr>\n",
       "    <tr>\n",
       "      <th>14</th>\n",
       "      <td>8</td>\n",
       "      <td>8_IM-2333-1001.dcm.png</td>\n",
       "      <td>Frontal</td>\n",
       "    </tr>\n",
       "    <tr>\n",
       "      <th>15</th>\n",
       "      <td>8</td>\n",
       "      <td>8_IM-2333-2001.dcm.png</td>\n",
       "      <td>Lateral</td>\n",
       "    </tr>\n",
       "    <tr>\n",
       "      <th>16</th>\n",
       "      <td>9</td>\n",
       "      <td>9_IM-2407-1001.dcm.png</td>\n",
       "      <td>Frontal</td>\n",
       "    </tr>\n",
       "    <tr>\n",
       "      <th>17</th>\n",
       "      <td>9</td>\n",
       "      <td>9_IM-2407-2001.dcm.png</td>\n",
       "      <td>Lateral</td>\n",
       "    </tr>\n",
       "    <tr>\n",
       "      <th>18</th>\n",
       "      <td>10</td>\n",
       "      <td>10_IM-0002-2001.dcm.png</td>\n",
       "      <td>Frontal</td>\n",
       "    </tr>\n",
       "    <tr>\n",
       "      <th>19</th>\n",
       "      <td>10</td>\n",
       "      <td>10_IM-0002-1001.dcm.png</td>\n",
       "      <td>Lateral</td>\n",
       "    </tr>\n",
       "    <tr>\n",
       "      <th>20</th>\n",
       "      <td>11</td>\n",
       "      <td>11_IM-0067-1001.dcm.png</td>\n",
       "      <td>Frontal</td>\n",
       "    </tr>\n",
       "    <tr>\n",
       "      <th>21</th>\n",
       "      <td>11</td>\n",
       "      <td>11_IM-0067-2001.dcm.png</td>\n",
       "      <td>Lateral</td>\n",
       "    </tr>\n",
       "    <tr>\n",
       "      <th>22</th>\n",
       "      <td>12</td>\n",
       "      <td>12_IM-0133-1001.dcm.png</td>\n",
       "      <td>Frontal</td>\n",
       "    </tr>\n",
       "    <tr>\n",
       "      <th>23</th>\n",
       "      <td>12</td>\n",
       "      <td>12_IM-0133-2001.dcm.png</td>\n",
       "      <td>Lateral</td>\n",
       "    </tr>\n",
       "    <tr>\n",
       "      <th>24</th>\n",
       "      <td>13</td>\n",
       "      <td>13_IM-0198-1001.dcm.png</td>\n",
       "      <td>Frontal</td>\n",
       "    </tr>\n",
       "    <tr>\n",
       "      <th>25</th>\n",
       "      <td>13</td>\n",
       "      <td>13_IM-0198-2001.dcm.png</td>\n",
       "      <td>Lateral</td>\n",
       "    </tr>\n",
       "    <tr>\n",
       "      <th>26</th>\n",
       "      <td>14</td>\n",
       "      <td>14_IM-0256-1001.dcm.png</td>\n",
       "      <td>Frontal</td>\n",
       "    </tr>\n",
       "    <tr>\n",
       "      <th>27</th>\n",
       "      <td>14</td>\n",
       "      <td>14_IM-0256-2001.dcm.png</td>\n",
       "      <td>Lateral</td>\n",
       "    </tr>\n",
       "    <tr>\n",
       "      <th>28</th>\n",
       "      <td>15</td>\n",
       "      <td>15_IM-0324-1001.dcm.png</td>\n",
       "      <td>Frontal</td>\n",
       "    </tr>\n",
       "    <tr>\n",
       "      <th>29</th>\n",
       "      <td>15</td>\n",
       "      <td>15_IM-0324-2001.dcm.png</td>\n",
       "      <td>Lateral</td>\n",
       "    </tr>\n",
       "    <tr>\n",
       "      <th>30</th>\n",
       "      <td>16</td>\n",
       "      <td>16_IM-0389-1001.dcm.png</td>\n",
       "      <td>Frontal</td>\n",
       "    </tr>\n",
       "    <tr>\n",
       "      <th>31</th>\n",
       "      <td>16</td>\n",
       "      <td>16_IM-0389-2001.dcm.png</td>\n",
       "      <td>Lateral</td>\n",
       "    </tr>\n",
       "    <tr>\n",
       "      <th>32</th>\n",
       "      <td>17</td>\n",
       "      <td>17_IM-0460-2001.dcm.png</td>\n",
       "      <td>Frontal</td>\n",
       "    </tr>\n",
       "    <tr>\n",
       "      <th>33</th>\n",
       "      <td>17</td>\n",
       "      <td>17_IM-0460-1001.dcm.png</td>\n",
       "      <td>Lateral</td>\n",
       "    </tr>\n",
       "    <tr>\n",
       "      <th>34</th>\n",
       "      <td>18</td>\n",
       "      <td>18_IM-0520-1001.dcm.png</td>\n",
       "      <td>Frontal</td>\n",
       "    </tr>\n",
       "    <tr>\n",
       "      <th>35</th>\n",
       "      <td>18</td>\n",
       "      <td>18_IM-0520-2001.dcm.png</td>\n",
       "      <td>Lateral</td>\n",
       "    </tr>\n",
       "    <tr>\n",
       "      <th>36</th>\n",
       "      <td>19</td>\n",
       "      <td>19_IM-0583-1001.dcm.png</td>\n",
       "      <td>Frontal</td>\n",
       "    </tr>\n",
       "    <tr>\n",
       "      <th>37</th>\n",
       "      <td>19</td>\n",
       "      <td>19_IM-0583-3003.dcm.png</td>\n",
       "      <td>Lateral</td>\n",
       "    </tr>\n",
       "    <tr>\n",
       "      <th>38</th>\n",
       "      <td>20</td>\n",
       "      <td>20_IM-0653-1001.dcm.png</td>\n",
       "      <td>Frontal</td>\n",
       "    </tr>\n",
       "    <tr>\n",
       "      <th>39</th>\n",
       "      <td>20</td>\n",
       "      <td>20_IM-0653-1002.dcm.png</td>\n",
       "      <td>Lateral</td>\n",
       "    </tr>\n",
       "    <tr>\n",
       "      <th>40</th>\n",
       "      <td>21</td>\n",
       "      <td>21_IM-0729-1001-0001.dcm.png</td>\n",
       "      <td>Frontal</td>\n",
       "    </tr>\n",
       "    <tr>\n",
       "      <th>41</th>\n",
       "      <td>21</td>\n",
       "      <td>21_IM-0729-1001-0002.dcm.png</td>\n",
       "      <td>Lateral</td>\n",
       "    </tr>\n",
       "    <tr>\n",
       "      <th>42</th>\n",
       "      <td>22</td>\n",
       "      <td>22_IM-0810-1001.dcm.png</td>\n",
       "      <td>Frontal</td>\n",
       "    </tr>\n",
       "    <tr>\n",
       "      <th>43</th>\n",
       "      <td>22</td>\n",
       "      <td>22_IM-0810-2001.dcm.png</td>\n",
       "      <td>Lateral</td>\n",
       "    </tr>\n",
       "    <tr>\n",
       "      <th>44</th>\n",
       "      <td>23</td>\n",
       "      <td>23_IM-0879-1001.dcm.png</td>\n",
       "      <td>Frontal</td>\n",
       "    </tr>\n",
       "    <tr>\n",
       "      <th>45</th>\n",
       "      <td>23</td>\n",
       "      <td>23_IM-0879-2001.dcm.png</td>\n",
       "      <td>Lateral</td>\n",
       "    </tr>\n",
       "    <tr>\n",
       "      <th>46</th>\n",
       "      <td>24</td>\n",
       "      <td>24_IM-0949-1001.dcm.png</td>\n",
       "      <td>Frontal</td>\n",
       "    </tr>\n",
       "    <tr>\n",
       "      <th>47</th>\n",
       "      <td>24</td>\n",
       "      <td>24_IM-0949-2001.dcm.png</td>\n",
       "      <td>Lateral</td>\n",
       "    </tr>\n",
       "    <tr>\n",
       "      <th>48</th>\n",
       "      <td>25</td>\n",
       "      <td>25_IM-1024-2001.dcm.png</td>\n",
       "      <td>Frontal</td>\n",
       "    </tr>\n",
       "    <tr>\n",
       "      <th>49</th>\n",
       "      <td>25</td>\n",
       "      <td>25_IM-1024-3001.dcm.png</td>\n",
       "      <td>Lateral</td>\n",
       "    </tr>\n",
       "  </tbody>\n",
       "</table>\n",
       "</div>"
      ],
      "text/plain": [
       "    uid                      filename projection\n",
       "0     1        1_IM-0001-4001.dcm.png    Frontal\n",
       "1     1        1_IM-0001-3001.dcm.png    Lateral\n",
       "2     2        2_IM-0652-1001.dcm.png    Frontal\n",
       "3     2        2_IM-0652-2001.dcm.png    Lateral\n",
       "4     3        3_IM-1384-1001.dcm.png    Frontal\n",
       "5     3        3_IM-1384-2001.dcm.png    Lateral\n",
       "6     4        4_IM-2050-1001.dcm.png    Frontal\n",
       "7     4        4_IM-2050-2001.dcm.png    Lateral\n",
       "8     5     5_IM-2117-1003002.dcm.png    Frontal\n",
       "9     5     5_IM-2117-1004003.dcm.png    Lateral\n",
       "10    6        6_IM-2192-1001.dcm.png    Frontal\n",
       "11    6        6_IM-2192-2001.dcm.png    Lateral\n",
       "12    7        7_IM-2263-1001.dcm.png    Frontal\n",
       "13    7        7_IM-2263-2001.dcm.png    Lateral\n",
       "14    8        8_IM-2333-1001.dcm.png    Frontal\n",
       "15    8        8_IM-2333-2001.dcm.png    Lateral\n",
       "16    9        9_IM-2407-1001.dcm.png    Frontal\n",
       "17    9        9_IM-2407-2001.dcm.png    Lateral\n",
       "18   10       10_IM-0002-2001.dcm.png    Frontal\n",
       "19   10       10_IM-0002-1001.dcm.png    Lateral\n",
       "20   11       11_IM-0067-1001.dcm.png    Frontal\n",
       "21   11       11_IM-0067-2001.dcm.png    Lateral\n",
       "22   12       12_IM-0133-1001.dcm.png    Frontal\n",
       "23   12       12_IM-0133-2001.dcm.png    Lateral\n",
       "24   13       13_IM-0198-1001.dcm.png    Frontal\n",
       "25   13       13_IM-0198-2001.dcm.png    Lateral\n",
       "26   14       14_IM-0256-1001.dcm.png    Frontal\n",
       "27   14       14_IM-0256-2001.dcm.png    Lateral\n",
       "28   15       15_IM-0324-1001.dcm.png    Frontal\n",
       "29   15       15_IM-0324-2001.dcm.png    Lateral\n",
       "30   16       16_IM-0389-1001.dcm.png    Frontal\n",
       "31   16       16_IM-0389-2001.dcm.png    Lateral\n",
       "32   17       17_IM-0460-2001.dcm.png    Frontal\n",
       "33   17       17_IM-0460-1001.dcm.png    Lateral\n",
       "34   18       18_IM-0520-1001.dcm.png    Frontal\n",
       "35   18       18_IM-0520-2001.dcm.png    Lateral\n",
       "36   19       19_IM-0583-1001.dcm.png    Frontal\n",
       "37   19       19_IM-0583-3003.dcm.png    Lateral\n",
       "38   20       20_IM-0653-1001.dcm.png    Frontal\n",
       "39   20       20_IM-0653-1002.dcm.png    Lateral\n",
       "40   21  21_IM-0729-1001-0001.dcm.png    Frontal\n",
       "41   21  21_IM-0729-1001-0002.dcm.png    Lateral\n",
       "42   22       22_IM-0810-1001.dcm.png    Frontal\n",
       "43   22       22_IM-0810-2001.dcm.png    Lateral\n",
       "44   23       23_IM-0879-1001.dcm.png    Frontal\n",
       "45   23       23_IM-0879-2001.dcm.png    Lateral\n",
       "46   24       24_IM-0949-1001.dcm.png    Frontal\n",
       "47   24       24_IM-0949-2001.dcm.png    Lateral\n",
       "48   25       25_IM-1024-2001.dcm.png    Frontal\n",
       "49   25       25_IM-1024-3001.dcm.png    Lateral"
      ]
     },
     "metadata": {},
     "output_type": "display_data"
    },
    {
     "data": {
      "text/plain": [
       "(7466, 3)"
      ]
     },
     "metadata": {},
     "output_type": "display_data"
    },
    {
     "data": {
      "text/html": [
       "<div>\n",
       "<style scoped>\n",
       "    .dataframe tbody tr th:only-of-type {\n",
       "        vertical-align: middle;\n",
       "    }\n",
       "\n",
       "    .dataframe tbody tr th {\n",
       "        vertical-align: top;\n",
       "    }\n",
       "\n",
       "    .dataframe thead th {\n",
       "        text-align: right;\n",
       "    }\n",
       "</style>\n",
       "<table border=\"1\" class=\"dataframe\">\n",
       "  <thead>\n",
       "    <tr style=\"text-align: right;\">\n",
       "      <th></th>\n",
       "      <th>uid</th>\n",
       "      <th>MeSH</th>\n",
       "      <th>Problems</th>\n",
       "      <th>image</th>\n",
       "      <th>indication</th>\n",
       "      <th>comparison</th>\n",
       "      <th>findings</th>\n",
       "      <th>impression</th>\n",
       "    </tr>\n",
       "  </thead>\n",
       "  <tbody>\n",
       "    <tr>\n",
       "      <th>0</th>\n",
       "      <td>1</td>\n",
       "      <td>normal</td>\n",
       "      <td>normal</td>\n",
       "      <td>Xray Chest PA and Lateral</td>\n",
       "      <td>Positive TB test</td>\n",
       "      <td>None.</td>\n",
       "      <td>The cardiac silhouette and mediastinum size ar...</td>\n",
       "      <td>Normal chest x-XXXX.</td>\n",
       "    </tr>\n",
       "    <tr>\n",
       "      <th>1</th>\n",
       "      <td>2</td>\n",
       "      <td>Cardiomegaly/borderline;Pulmonary Artery/enlarged</td>\n",
       "      <td>Cardiomegaly;Pulmonary Artery</td>\n",
       "      <td>Chest, 2 views, frontal and lateral</td>\n",
       "      <td>Preop bariatric surgery.</td>\n",
       "      <td>None.</td>\n",
       "      <td>Borderline cardiomegaly. Midline sternotomy XX...</td>\n",
       "      <td>No acute pulmonary findings.</td>\n",
       "    </tr>\n",
       "    <tr>\n",
       "      <th>2</th>\n",
       "      <td>3</td>\n",
       "      <td>normal</td>\n",
       "      <td>normal</td>\n",
       "      <td>Xray Chest PA and Lateral</td>\n",
       "      <td>rib pain after a XXXX, XXXX XXXX steps this XX...</td>\n",
       "      <td>NaN</td>\n",
       "      <td>NaN</td>\n",
       "      <td>No displaced rib fractures, pneumothorax, or p...</td>\n",
       "    </tr>\n",
       "    <tr>\n",
       "      <th>3</th>\n",
       "      <td>4</td>\n",
       "      <td>Pulmonary Disease, Chronic Obstructive;Bullous...</td>\n",
       "      <td>Pulmonary Disease, Chronic Obstructive;Bullous...</td>\n",
       "      <td>PA and lateral views of the chest XXXX, XXXX a...</td>\n",
       "      <td>XXXX-year-old XXXX with XXXX.</td>\n",
       "      <td>None available</td>\n",
       "      <td>There are diffuse bilateral interstitial and a...</td>\n",
       "      <td>1. Bullous emphysema and interstitial fibrosis...</td>\n",
       "    </tr>\n",
       "    <tr>\n",
       "      <th>4</th>\n",
       "      <td>5</td>\n",
       "      <td>Osteophyte/thoracic vertebrae/multiple/small;T...</td>\n",
       "      <td>Osteophyte;Thickening;Lung</td>\n",
       "      <td>Xray Chest PA and Lateral</td>\n",
       "      <td>Chest and nasal congestion.</td>\n",
       "      <td>NaN</td>\n",
       "      <td>The cardiomediastinal silhouette and pulmonary...</td>\n",
       "      <td>No acute cardiopulmonary abnormality.</td>\n",
       "    </tr>\n",
       "  </tbody>\n",
       "</table>\n",
       "</div>"
      ],
      "text/plain": [
       "   uid                                               MeSH  \\\n",
       "0    1                                             normal   \n",
       "1    2  Cardiomegaly/borderline;Pulmonary Artery/enlarged   \n",
       "2    3                                             normal   \n",
       "3    4  Pulmonary Disease, Chronic Obstructive;Bullous...   \n",
       "4    5  Osteophyte/thoracic vertebrae/multiple/small;T...   \n",
       "\n",
       "                                            Problems  \\\n",
       "0                                             normal   \n",
       "1                      Cardiomegaly;Pulmonary Artery   \n",
       "2                                             normal   \n",
       "3  Pulmonary Disease, Chronic Obstructive;Bullous...   \n",
       "4                         Osteophyte;Thickening;Lung   \n",
       "\n",
       "                                               image  \\\n",
       "0                          Xray Chest PA and Lateral   \n",
       "1                Chest, 2 views, frontal and lateral   \n",
       "2                          Xray Chest PA and Lateral   \n",
       "3  PA and lateral views of the chest XXXX, XXXX a...   \n",
       "4                          Xray Chest PA and Lateral   \n",
       "\n",
       "                                          indication      comparison  \\\n",
       "0                                   Positive TB test           None.   \n",
       "1                           Preop bariatric surgery.           None.   \n",
       "2  rib pain after a XXXX, XXXX XXXX steps this XX...             NaN   \n",
       "3                      XXXX-year-old XXXX with XXXX.  None available   \n",
       "4                        Chest and nasal congestion.             NaN   \n",
       "\n",
       "                                            findings  \\\n",
       "0  The cardiac silhouette and mediastinum size ar...   \n",
       "1  Borderline cardiomegaly. Midline sternotomy XX...   \n",
       "2                                                NaN   \n",
       "3  There are diffuse bilateral interstitial and a...   \n",
       "4  The cardiomediastinal silhouette and pulmonary...   \n",
       "\n",
       "                                          impression  \n",
       "0                               Normal chest x-XXXX.  \n",
       "1                       No acute pulmonary findings.  \n",
       "2  No displaced rib fractures, pneumothorax, or p...  \n",
       "3  1. Bullous emphysema and interstitial fibrosis...  \n",
       "4              No acute cardiopulmonary abnormality.  "
      ]
     },
     "metadata": {},
     "output_type": "display_data"
    },
    {
     "data": {
      "text/plain": [
       "(3851, 8)"
      ]
     },
     "metadata": {},
     "output_type": "display_data"
    }
   ],
   "source": [
    "proj_ds=pd.read_csv(path+'/../dataset/indiana_projections.csv')\n",
    "repo_ds=pd.read_csv(path+'/../dataset/indiana_reports.csv')\n",
    "\n",
    "display(proj_ds.head(50),proj_ds.shape)\n",
    "display(repo_ds.sort_values(by='uid').head(),repo_ds.shape)"
   ]
  },
  {
   "cell_type": "code",
   "execution_count": 7,
   "metadata": {},
   "outputs": [
    {
     "data": {
      "text/html": [
       "<div>\n",
       "<style scoped>\n",
       "    .dataframe tbody tr th:only-of-type {\n",
       "        vertical-align: middle;\n",
       "    }\n",
       "\n",
       "    .dataframe tbody tr th {\n",
       "        vertical-align: top;\n",
       "    }\n",
       "\n",
       "    .dataframe thead th {\n",
       "        text-align: right;\n",
       "    }\n",
       "</style>\n",
       "<table border=\"1\" class=\"dataframe\">\n",
       "  <thead>\n",
       "    <tr style=\"text-align: right;\">\n",
       "      <th></th>\n",
       "      <th>uid</th>\n",
       "      <th>filename</th>\n",
       "      <th>projection</th>\n",
       "    </tr>\n",
       "  </thead>\n",
       "  <tbody>\n",
       "    <tr>\n",
       "      <th>0</th>\n",
       "      <td>1</td>\n",
       "      <td>1_IM-0001-4001.dcm.png</td>\n",
       "      <td>Frontal</td>\n",
       "    </tr>\n",
       "    <tr>\n",
       "      <th>2</th>\n",
       "      <td>2</td>\n",
       "      <td>2_IM-0652-1001.dcm.png</td>\n",
       "      <td>Frontal</td>\n",
       "    </tr>\n",
       "    <tr>\n",
       "      <th>4</th>\n",
       "      <td>3</td>\n",
       "      <td>3_IM-1384-1001.dcm.png</td>\n",
       "      <td>Frontal</td>\n",
       "    </tr>\n",
       "    <tr>\n",
       "      <th>6</th>\n",
       "      <td>4</td>\n",
       "      <td>4_IM-2050-1001.dcm.png</td>\n",
       "      <td>Frontal</td>\n",
       "    </tr>\n",
       "    <tr>\n",
       "      <th>8</th>\n",
       "      <td>5</td>\n",
       "      <td>5_IM-2117-1003002.dcm.png</td>\n",
       "      <td>Frontal</td>\n",
       "    </tr>\n",
       "  </tbody>\n",
       "</table>\n",
       "</div>"
      ],
      "text/plain": [
       "   uid                   filename projection\n",
       "0    1     1_IM-0001-4001.dcm.png    Frontal\n",
       "2    2     2_IM-0652-1001.dcm.png    Frontal\n",
       "4    3     3_IM-1384-1001.dcm.png    Frontal\n",
       "6    4     4_IM-2050-1001.dcm.png    Frontal\n",
       "8    5  5_IM-2117-1003002.dcm.png    Frontal"
      ]
     },
     "metadata": {},
     "output_type": "display_data"
    },
    {
     "data": {
      "text/plain": [
       "(3818, 3)"
      ]
     },
     "execution_count": 7,
     "metadata": {},
     "output_type": "execute_result"
    }
   ],
   "source": [
    "f_proj_ds = proj_ds[proj_ds.projection=='Frontal']\n",
    "f_proj_ds = f_proj_ds.sort_values(by='uid')\n",
    "display(f_proj_ds.head())\n",
    "f_proj_ds.shape"
   ]
  },
  {
   "cell_type": "code",
   "execution_count": 8,
   "metadata": {},
   "outputs": [
    {
     "data": {
      "text/html": [
       "<div>\n",
       "<style scoped>\n",
       "    .dataframe tbody tr th:only-of-type {\n",
       "        vertical-align: middle;\n",
       "    }\n",
       "\n",
       "    .dataframe tbody tr th {\n",
       "        vertical-align: top;\n",
       "    }\n",
       "\n",
       "    .dataframe thead th {\n",
       "        text-align: right;\n",
       "    }\n",
       "</style>\n",
       "<table border=\"1\" class=\"dataframe\">\n",
       "  <thead>\n",
       "    <tr style=\"text-align: right;\">\n",
       "      <th></th>\n",
       "      <th>uid</th>\n",
       "      <th>MeSH</th>\n",
       "      <th>Problems</th>\n",
       "      <th>image</th>\n",
       "      <th>indication</th>\n",
       "      <th>comparison</th>\n",
       "      <th>findings</th>\n",
       "      <th>impression</th>\n",
       "    </tr>\n",
       "  </thead>\n",
       "  <tbody>\n",
       "    <tr>\n",
       "      <th>0</th>\n",
       "      <td>1</td>\n",
       "      <td>normal</td>\n",
       "      <td>normal</td>\n",
       "      <td>Xray Chest PA and Lateral</td>\n",
       "      <td>Positive TB test</td>\n",
       "      <td>None.</td>\n",
       "      <td>The cardiac silhouette and mediastinum size ar...</td>\n",
       "      <td>Normal chest x-XXXX.</td>\n",
       "    </tr>\n",
       "    <tr>\n",
       "      <th>1</th>\n",
       "      <td>2</td>\n",
       "      <td>Cardiomegaly/borderline;Pulmonary Artery/enlarged</td>\n",
       "      <td>Cardiomegaly;Pulmonary Artery</td>\n",
       "      <td>Chest, 2 views, frontal and lateral</td>\n",
       "      <td>Preop bariatric surgery.</td>\n",
       "      <td>None.</td>\n",
       "      <td>Borderline cardiomegaly. Midline sternotomy XX...</td>\n",
       "      <td>No acute pulmonary findings.</td>\n",
       "    </tr>\n",
       "    <tr>\n",
       "      <th>3</th>\n",
       "      <td>4</td>\n",
       "      <td>Pulmonary Disease, Chronic Obstructive;Bullous...</td>\n",
       "      <td>Pulmonary Disease, Chronic Obstructive;Bullous...</td>\n",
       "      <td>PA and lateral views of the chest XXXX, XXXX a...</td>\n",
       "      <td>XXXX-year-old XXXX with XXXX.</td>\n",
       "      <td>None available</td>\n",
       "      <td>There are diffuse bilateral interstitial and a...</td>\n",
       "      <td>1. Bullous emphysema and interstitial fibrosis...</td>\n",
       "    </tr>\n",
       "    <tr>\n",
       "      <th>4</th>\n",
       "      <td>5</td>\n",
       "      <td>Osteophyte/thoracic vertebrae/multiple/small;T...</td>\n",
       "      <td>Osteophyte;Thickening;Lung</td>\n",
       "      <td>Xray Chest PA and Lateral</td>\n",
       "      <td>Chest and nasal congestion.</td>\n",
       "      <td>NaN</td>\n",
       "      <td>The cardiomediastinal silhouette and pulmonary...</td>\n",
       "      <td>No acute cardiopulmonary abnormality.</td>\n",
       "    </tr>\n",
       "    <tr>\n",
       "      <th>5</th>\n",
       "      <td>6</td>\n",
       "      <td>normal</td>\n",
       "      <td>normal</td>\n",
       "      <td>PA and Lateral Chest. XXXX, XXXX at XXXX</td>\n",
       "      <td>Evaluate for infection</td>\n",
       "      <td>XXXX, XXXX</td>\n",
       "      <td>Heart size and mediastinal contour are within ...</td>\n",
       "      <td>No acute cardiopulmonary findings.</td>\n",
       "    </tr>\n",
       "  </tbody>\n",
       "</table>\n",
       "</div>"
      ],
      "text/plain": [
       "   uid                                               MeSH  \\\n",
       "0    1                                             normal   \n",
       "1    2  Cardiomegaly/borderline;Pulmonary Artery/enlarged   \n",
       "3    4  Pulmonary Disease, Chronic Obstructive;Bullous...   \n",
       "4    5  Osteophyte/thoracic vertebrae/multiple/small;T...   \n",
       "5    6                                             normal   \n",
       "\n",
       "                                            Problems  \\\n",
       "0                                             normal   \n",
       "1                      Cardiomegaly;Pulmonary Artery   \n",
       "3  Pulmonary Disease, Chronic Obstructive;Bullous...   \n",
       "4                         Osteophyte;Thickening;Lung   \n",
       "5                                             normal   \n",
       "\n",
       "                                               image  \\\n",
       "0                          Xray Chest PA and Lateral   \n",
       "1                Chest, 2 views, frontal and lateral   \n",
       "3  PA and lateral views of the chest XXXX, XXXX a...   \n",
       "4                          Xray Chest PA and Lateral   \n",
       "5          PA and Lateral Chest. XXXX, XXXX at XXXX    \n",
       "\n",
       "                      indication      comparison  \\\n",
       "0               Positive TB test           None.   \n",
       "1       Preop bariatric surgery.           None.   \n",
       "3  XXXX-year-old XXXX with XXXX.  None available   \n",
       "4    Chest and nasal congestion.             NaN   \n",
       "5         Evaluate for infection      XXXX, XXXX   \n",
       "\n",
       "                                            findings  \\\n",
       "0  The cardiac silhouette and mediastinum size ar...   \n",
       "1  Borderline cardiomegaly. Midline sternotomy XX...   \n",
       "3  There are diffuse bilateral interstitial and a...   \n",
       "4  The cardiomediastinal silhouette and pulmonary...   \n",
       "5  Heart size and mediastinal contour are within ...   \n",
       "\n",
       "                                          impression  \n",
       "0                               Normal chest x-XXXX.  \n",
       "1                       No acute pulmonary findings.  \n",
       "3  1. Bullous emphysema and interstitial fibrosis...  \n",
       "4              No acute cardiopulmonary abnormality.  \n",
       "5                 No acute cardiopulmonary findings.  "
      ]
     },
     "metadata": {},
     "output_type": "display_data"
    },
    {
     "data": {
      "text/plain": [
       "(3331, 8)"
      ]
     },
     "execution_count": 8,
     "metadata": {},
     "output_type": "execute_result"
    }
   ],
   "source": [
    "c_repo_ds = repo_ds.dropna(subset=['findings','impression'],how='any')\n",
    "display(c_repo_ds.head())\n",
    "c_repo_ds.shape"
   ]
  },
  {
   "cell_type": "code",
   "execution_count": 9,
   "metadata": {
    "scrolled": true
   },
   "outputs": [
    {
     "data": {
      "text/html": [
       "<div>\n",
       "<style scoped>\n",
       "    .dataframe tbody tr th:only-of-type {\n",
       "        vertical-align: middle;\n",
       "    }\n",
       "\n",
       "    .dataframe tbody tr th {\n",
       "        vertical-align: top;\n",
       "    }\n",
       "\n",
       "    .dataframe thead th {\n",
       "        text-align: right;\n",
       "    }\n",
       "</style>\n",
       "<table border=\"1\" class=\"dataframe\">\n",
       "  <thead>\n",
       "    <tr style=\"text-align: right;\">\n",
       "      <th></th>\n",
       "      <th>uid</th>\n",
       "      <th>MeSH</th>\n",
       "      <th>Problems</th>\n",
       "      <th>image</th>\n",
       "      <th>indication</th>\n",
       "      <th>comparison</th>\n",
       "      <th>findings</th>\n",
       "      <th>impression</th>\n",
       "      <th>filename</th>\n",
       "      <th>projection</th>\n",
       "    </tr>\n",
       "  </thead>\n",
       "  <tbody>\n",
       "    <tr>\n",
       "      <th>0</th>\n",
       "      <td>1</td>\n",
       "      <td>normal</td>\n",
       "      <td>normal</td>\n",
       "      <td>Xray Chest PA and Lateral</td>\n",
       "      <td>Positive TB test</td>\n",
       "      <td>None.</td>\n",
       "      <td>The cardiac silhouette and mediastinum size ar...</td>\n",
       "      <td>Normal chest x-XXXX.</td>\n",
       "      <td>1_IM-0001-4001.dcm.png</td>\n",
       "      <td>Frontal</td>\n",
       "    </tr>\n",
       "    <tr>\n",
       "      <th>1</th>\n",
       "      <td>1</td>\n",
       "      <td>normal</td>\n",
       "      <td>normal</td>\n",
       "      <td>Xray Chest PA and Lateral</td>\n",
       "      <td>Positive TB test</td>\n",
       "      <td>None.</td>\n",
       "      <td>The cardiac silhouette and mediastinum size ar...</td>\n",
       "      <td>Normal chest x-XXXX.</td>\n",
       "      <td>1_IM-0001-3001.dcm.png</td>\n",
       "      <td>Lateral</td>\n",
       "    </tr>\n",
       "    <tr>\n",
       "      <th>2</th>\n",
       "      <td>2</td>\n",
       "      <td>Cardiomegaly/borderline;Pulmonary Artery/enlarged</td>\n",
       "      <td>Cardiomegaly;Pulmonary Artery</td>\n",
       "      <td>Chest, 2 views, frontal and lateral</td>\n",
       "      <td>Preop bariatric surgery.</td>\n",
       "      <td>None.</td>\n",
       "      <td>Borderline cardiomegaly. Midline sternotomy XX...</td>\n",
       "      <td>No acute pulmonary findings.</td>\n",
       "      <td>2_IM-0652-1001.dcm.png</td>\n",
       "      <td>Frontal</td>\n",
       "    </tr>\n",
       "    <tr>\n",
       "      <th>3</th>\n",
       "      <td>2</td>\n",
       "      <td>Cardiomegaly/borderline;Pulmonary Artery/enlarged</td>\n",
       "      <td>Cardiomegaly;Pulmonary Artery</td>\n",
       "      <td>Chest, 2 views, frontal and lateral</td>\n",
       "      <td>Preop bariatric surgery.</td>\n",
       "      <td>None.</td>\n",
       "      <td>Borderline cardiomegaly. Midline sternotomy XX...</td>\n",
       "      <td>No acute pulmonary findings.</td>\n",
       "      <td>2_IM-0652-2001.dcm.png</td>\n",
       "      <td>Lateral</td>\n",
       "    </tr>\n",
       "    <tr>\n",
       "      <th>4</th>\n",
       "      <td>4</td>\n",
       "      <td>Pulmonary Disease, Chronic Obstructive;Bullous...</td>\n",
       "      <td>Pulmonary Disease, Chronic Obstructive;Bullous...</td>\n",
       "      <td>PA and lateral views of the chest XXXX, XXXX a...</td>\n",
       "      <td>XXXX-year-old XXXX with XXXX.</td>\n",
       "      <td>None available</td>\n",
       "      <td>There are diffuse bilateral interstitial and a...</td>\n",
       "      <td>1. Bullous emphysema and interstitial fibrosis...</td>\n",
       "      <td>4_IM-2050-1001.dcm.png</td>\n",
       "      <td>Frontal</td>\n",
       "    </tr>\n",
       "  </tbody>\n",
       "</table>\n",
       "</div>"
      ],
      "text/plain": [
       "   uid                                               MeSH  \\\n",
       "0    1                                             normal   \n",
       "1    1                                             normal   \n",
       "2    2  Cardiomegaly/borderline;Pulmonary Artery/enlarged   \n",
       "3    2  Cardiomegaly/borderline;Pulmonary Artery/enlarged   \n",
       "4    4  Pulmonary Disease, Chronic Obstructive;Bullous...   \n",
       "\n",
       "                                            Problems  \\\n",
       "0                                             normal   \n",
       "1                                             normal   \n",
       "2                      Cardiomegaly;Pulmonary Artery   \n",
       "3                      Cardiomegaly;Pulmonary Artery   \n",
       "4  Pulmonary Disease, Chronic Obstructive;Bullous...   \n",
       "\n",
       "                                               image  \\\n",
       "0                          Xray Chest PA and Lateral   \n",
       "1                          Xray Chest PA and Lateral   \n",
       "2                Chest, 2 views, frontal and lateral   \n",
       "3                Chest, 2 views, frontal and lateral   \n",
       "4  PA and lateral views of the chest XXXX, XXXX a...   \n",
       "\n",
       "                      indication      comparison  \\\n",
       "0               Positive TB test           None.   \n",
       "1               Positive TB test           None.   \n",
       "2       Preop bariatric surgery.           None.   \n",
       "3       Preop bariatric surgery.           None.   \n",
       "4  XXXX-year-old XXXX with XXXX.  None available   \n",
       "\n",
       "                                            findings  \\\n",
       "0  The cardiac silhouette and mediastinum size ar...   \n",
       "1  The cardiac silhouette and mediastinum size ar...   \n",
       "2  Borderline cardiomegaly. Midline sternotomy XX...   \n",
       "3  Borderline cardiomegaly. Midline sternotomy XX...   \n",
       "4  There are diffuse bilateral interstitial and a...   \n",
       "\n",
       "                                          impression                filename  \\\n",
       "0                               Normal chest x-XXXX.  1_IM-0001-4001.dcm.png   \n",
       "1                               Normal chest x-XXXX.  1_IM-0001-3001.dcm.png   \n",
       "2                       No acute pulmonary findings.  2_IM-0652-1001.dcm.png   \n",
       "3                       No acute pulmonary findings.  2_IM-0652-2001.dcm.png   \n",
       "4  1. Bullous emphysema and interstitial fibrosis...  4_IM-2050-1001.dcm.png   \n",
       "\n",
       "  projection  \n",
       "0    Frontal  \n",
       "1    Lateral  \n",
       "2    Frontal  \n",
       "3    Lateral  \n",
       "4    Frontal  "
      ]
     },
     "metadata": {},
     "output_type": "display_data"
    },
    {
     "data": {
      "text/plain": [
       "(3301, 10)"
      ]
     },
     "execution_count": 9,
     "metadata": {},
     "output_type": "execute_result"
    }
   ],
   "source": [
    "merged_ds = pd.merge(left=c_repo_ds,right=proj_ds,on='uid',how='inner')\n",
    "display(merged_ds.head())\n",
    "merged_ds = merged_ds[merged_ds.projection=='Frontal']\n",
    "merged_ds.shape"
   ]
  },
  {
   "cell_type": "code",
   "execution_count": 10,
   "metadata": {
    "scrolled": true
   },
   "outputs": [],
   "source": [
    "# chars = []\n",
    "# char_count = {}\n",
    "# finding_len = []\n",
    "# max_len=0\n",
    "# for finding in c_repo_ds.findings:\n",
    "#     tokens = finding.lower()\n",
    "#     for i in list(\"[-<>:.,()]/\"):\n",
    "#         tokens = tokens.replace(i,' ')\n",
    "#     tokens=tokens.strip()\n",
    "#     if max_len<len(tokens):\n",
    "#         max_len=len(tokens)\n",
    "#     finding_len.append(len(tokens))\n",
    "#     chars+=tokens\n",
    "# for impr in c_repo_ds.impression:\n",
    "#     tokens = impr.lower()\n",
    "#     for i in list(\"[-<>:.,()]/\"):\n",
    "#         tokens = tokens.replace(i,' ')\n",
    "#     tokens=tokens.strip()\n",
    "#     chars+=tokens\n",
    "#     if max_len<len(tokens):\n",
    "#         max_len=len(tokens)\n",
    "#     finding_len.append(len(tokens))\n",
    "# print(len(list(set(chars))))\n",
    "# for char in chars:\n",
    "#     if char not in char_count.keys():\n",
    "#         char_count[char]=1\n",
    "#     else:\n",
    "#         char_count[char]+=1\n",
    "# df_ccount = pd.DataFrame()\n",
    "# df_ccount['chars']=char_count.keys()\n",
    "# df_ccount['c_count']=char_count.values()\n",
    "# df_ccount = df_ccount.sort_values(by='c_count',ascending=False).reset_index()\n",
    "# display(df_ccount.head(10))\n",
    "# df_ccount['index'].max(),max_len"
   ]
  },
  {
   "cell_type": "code",
   "execution_count": 11,
   "metadata": {},
   "outputs": [],
   "source": [
    "# sent_len_arr=[]\n",
    "# wo_len_arr = []\n",
    "# for row in tqdm_notebook(merged_ds['findings'].values):\n",
    "#     doc = nlp(row)\n",
    "#     sentences = [sent.string.strip() for sent in doc.sents]\n",
    "#     sent_len_arr.append(len(sentences))\n",
    "#     sentence = ' '.join(sentences[:7])\n",
    "#     sdoc = nlp(sentence)\n",
    "#     ls_sdoc = [str(x) for x in list(sdoc)]\n",
    "#     wo_len_arr.append(len(ls_sdoc))"
   ]
  },
  {
   "cell_type": "code",
   "execution_count": 12,
   "metadata": {},
   "outputs": [],
   "source": [
    "# df_sent_len = pd.DataFrame(sent_len_arr,columns=['count'])\n",
    "# df_word_len = pd.DataFrame(wo_len_arr,columns=['count'])\n",
    "# df_sent_len.shape,df_word_len.shape"
   ]
  },
  {
   "cell_type": "code",
   "execution_count": 13,
   "metadata": {},
   "outputs": [],
   "source": [
    "# df_word_len.describe()"
   ]
  },
  {
   "cell_type": "code",
   "execution_count": 14,
   "metadata": {},
   "outputs": [],
   "source": [
    "# df_sent_len[df_sent_len['count']>7].shape,df_word_len[df_word_len['count']>60].shape\n"
   ]
  },
  {
   "cell_type": "code",
   "execution_count": 15,
   "metadata": {
    "scrolled": true
   },
   "outputs": [],
   "source": [
    "# ch_to_co = df_ccount\n",
    "# ch_to_co.index = ch_to_co.chars\n",
    "# ch_to_co = ch_to_co['index'].to_dict()\n",
    "# display(ch_to_co)\n",
    "# co_to_ch = df_ccount\n",
    "# co_to_ch.index = co_to_ch['index']\n",
    "# co_to_ch = co_to_ch['chars'].to_dict()\n",
    "# display(co_to_ch)"
   ]
  },
  {
   "cell_type": "code",
   "execution_count": 16,
   "metadata": {},
   "outputs": [],
   "source": [
    "# tokens = nlp('startseq ' \n",
    "#              + ' '.join(c_repo_ds.impression.values).lower().replace('/',' ')\n",
    "#              + ' endseq.' \n",
    "#              + ' startseq' \n",
    "#              + ' '.join(c_repo_ds.findings.values).lower().replace('/',' ')\n",
    "#              + ' endseq.')"
   ]
  },
  {
   "cell_type": "code",
   "execution_count": 17,
   "metadata": {},
   "outputs": [],
   "source": [
    "# vocab = [str(x) for x in tokens]\n",
    "# vocab"
   ]
  },
  {
   "cell_type": "code",
   "execution_count": 18,
   "metadata": {
    "scrolled": true
   },
   "outputs": [
    {
     "data": {
      "text/html": [
       "<div>\n",
       "<style scoped>\n",
       "    .dataframe tbody tr th:only-of-type {\n",
       "        vertical-align: middle;\n",
       "    }\n",
       "\n",
       "    .dataframe tbody tr th {\n",
       "        vertical-align: top;\n",
       "    }\n",
       "\n",
       "    .dataframe thead th {\n",
       "        text-align: right;\n",
       "    }\n",
       "</style>\n",
       "<table border=\"1\" class=\"dataframe\">\n",
       "  <thead>\n",
       "    <tr style=\"text-align: right;\">\n",
       "      <th></th>\n",
       "      <th>index</th>\n",
       "      <th>words</th>\n",
       "      <th>w_count</th>\n",
       "    </tr>\n",
       "  </thead>\n",
       "  <tbody>\n",
       "    <tr>\n",
       "      <th>0</th>\n",
       "      <td>1608</td>\n",
       "      <td>.</td>\n",
       "      <td>21069</td>\n",
       "    </tr>\n",
       "    <tr>\n",
       "      <th>1</th>\n",
       "      <td>1667</td>\n",
       "      <td>no</td>\n",
       "      <td>6824</td>\n",
       "    </tr>\n",
       "    <tr>\n",
       "      <th>2</th>\n",
       "      <td>1855</td>\n",
       "      <td>the</td>\n",
       "      <td>6596</td>\n",
       "    </tr>\n",
       "    <tr>\n",
       "      <th>3</th>\n",
       "      <td>1370</td>\n",
       "      <td>is</td>\n",
       "      <td>4367</td>\n",
       "    </tr>\n",
       "    <tr>\n",
       "      <th>4</th>\n",
       "      <td>538</td>\n",
       "      <td>are</td>\n",
       "      <td>4312</td>\n",
       "    </tr>\n",
       "    <tr>\n",
       "      <th>5</th>\n",
       "      <td>910</td>\n",
       "      <td>normal</td>\n",
       "      <td>3548</td>\n",
       "    </tr>\n",
       "    <tr>\n",
       "      <th>6</th>\n",
       "      <td>99</td>\n",
       "      <td>,</td>\n",
       "      <td>3534</td>\n",
       "    </tr>\n",
       "    <tr>\n",
       "      <th>7</th>\n",
       "      <td>1380</td>\n",
       "      <td>xxxx</td>\n",
       "      <td>3080</td>\n",
       "    </tr>\n",
       "    <tr>\n",
       "      <th>8</th>\n",
       "      <td>1089</td>\n",
       "      <td>of</td>\n",
       "      <td>3043</td>\n",
       "    </tr>\n",
       "    <tr>\n",
       "      <th>9</th>\n",
       "      <td>1675</td>\n",
       "      <td>and</td>\n",
       "      <td>3029</td>\n",
       "    </tr>\n",
       "    <tr>\n",
       "      <th>10</th>\n",
       "      <td>1434</td>\n",
       "      <td>acute</td>\n",
       "      <td>2871</td>\n",
       "    </tr>\n",
       "    <tr>\n",
       "      <th>11</th>\n",
       "      <td>1853</td>\n",
       "      <td>or</td>\n",
       "      <td>2614</td>\n",
       "    </tr>\n",
       "    <tr>\n",
       "      <th>12</th>\n",
       "      <td>694</td>\n",
       "      <td>pleural</td>\n",
       "      <td>2613</td>\n",
       "    </tr>\n",
       "    <tr>\n",
       "      <th>13</th>\n",
       "      <td>405</td>\n",
       "      <td>pneumothorax</td>\n",
       "      <td>2407</td>\n",
       "    </tr>\n",
       "    <tr>\n",
       "      <th>14</th>\n",
       "      <td>367</td>\n",
       "      <td>there</td>\n",
       "      <td>2361</td>\n",
       "    </tr>\n",
       "    <tr>\n",
       "      <th>15</th>\n",
       "      <td>1649</td>\n",
       "      <td>effusion</td>\n",
       "      <td>2303</td>\n",
       "    </tr>\n",
       "    <tr>\n",
       "      <th>16</th>\n",
       "      <td>1336</td>\n",
       "      <td>heart</td>\n",
       "      <td>2150</td>\n",
       "    </tr>\n",
       "    <tr>\n",
       "      <th>17</th>\n",
       "      <td>1450</td>\n",
       "      <td>lungs</td>\n",
       "      <td>2093</td>\n",
       "    </tr>\n",
       "    <tr>\n",
       "      <th>18</th>\n",
       "      <td>483</td>\n",
       "      <td>size</td>\n",
       "      <td>1916</td>\n",
       "    </tr>\n",
       "    <tr>\n",
       "      <th>19</th>\n",
       "      <td>310</td>\n",
       "      <td>focal</td>\n",
       "      <td>1796</td>\n",
       "    </tr>\n",
       "    <tr>\n",
       "      <th>20</th>\n",
       "      <td>1693</td>\n",
       "      <td>clear</td>\n",
       "      <td>1609</td>\n",
       "    </tr>\n",
       "    <tr>\n",
       "      <th>21</th>\n",
       "      <td>1223</td>\n",
       "      <td>in</td>\n",
       "      <td>1561</td>\n",
       "    </tr>\n",
       "    <tr>\n",
       "      <th>22</th>\n",
       "      <td>1591</td>\n",
       "      <td>disease</td>\n",
       "      <td>1546</td>\n",
       "    </tr>\n",
       "    <tr>\n",
       "      <th>23</th>\n",
       "      <td>353</td>\n",
       "      <td>cardiopulmonary</td>\n",
       "      <td>1545</td>\n",
       "    </tr>\n",
       "    <tr>\n",
       "      <th>24</th>\n",
       "      <td>1214</td>\n",
       "      <td>pulmonary</td>\n",
       "      <td>1528</td>\n",
       "    </tr>\n",
       "    <tr>\n",
       "      <th>25</th>\n",
       "      <td>851</td>\n",
       "      <td>within</td>\n",
       "      <td>1522</td>\n",
       "    </tr>\n",
       "    <tr>\n",
       "      <th>26</th>\n",
       "      <td>1127</td>\n",
       "      <td>limits</td>\n",
       "      <td>1448</td>\n",
       "    </tr>\n",
       "    <tr>\n",
       "      <th>27</th>\n",
       "      <td>185</td>\n",
       "      <td>right</td>\n",
       "      <td>1282</td>\n",
       "    </tr>\n",
       "    <tr>\n",
       "      <th>28</th>\n",
       "      <td>348</td>\n",
       "      <td>left</td>\n",
       "      <td>1121</td>\n",
       "    </tr>\n",
       "    <tr>\n",
       "      <th>29</th>\n",
       "      <td>1082</td>\n",
       "      <td>abnormality</td>\n",
       "      <td>1106</td>\n",
       "    </tr>\n",
       "    <tr>\n",
       "      <th>...</th>\n",
       "      <td>...</td>\n",
       "      <td>...</td>\n",
       "      <td>...</td>\n",
       "    </tr>\n",
       "    <tr>\n",
       "      <th>1912</th>\n",
       "      <td>201</td>\n",
       "      <td>definitive</td>\n",
       "      <td>1</td>\n",
       "    </tr>\n",
       "    <tr>\n",
       "      <th>1913</th>\n",
       "      <td>1537</td>\n",
       "      <td>3.0</td>\n",
       "      <td>1</td>\n",
       "    </tr>\n",
       "    <tr>\n",
       "      <th>1914</th>\n",
       "      <td>1043</td>\n",
       "      <td>respect</td>\n",
       "      <td>1</td>\n",
       "    </tr>\n",
       "    <tr>\n",
       "      <th>1915</th>\n",
       "      <td>199</td>\n",
       "      <td>beyond</td>\n",
       "      <td>1</td>\n",
       "    </tr>\n",
       "    <tr>\n",
       "      <th>1916</th>\n",
       "      <td>1540</td>\n",
       "      <td>lytic</td>\n",
       "      <td>1</td>\n",
       "    </tr>\n",
       "    <tr>\n",
       "      <th>1917</th>\n",
       "      <td>1042</td>\n",
       "      <td>showed</td>\n",
       "      <td>1</td>\n",
       "    </tr>\n",
       "    <tr>\n",
       "      <th>1918</th>\n",
       "      <td>197</td>\n",
       "      <td>detailed</td>\n",
       "      <td>1</td>\n",
       "    </tr>\n",
       "    <tr>\n",
       "      <th>1919</th>\n",
       "      <td>492</td>\n",
       "      <td>primarily</td>\n",
       "      <td>1</td>\n",
       "    </tr>\n",
       "    <tr>\n",
       "      <th>1920</th>\n",
       "      <td>1545</td>\n",
       "      <td>representative</td>\n",
       "      <td>1</td>\n",
       "    </tr>\n",
       "    <tr>\n",
       "      <th>1921</th>\n",
       "      <td>493</td>\n",
       "      <td>l4</td>\n",
       "      <td>1</td>\n",
       "    </tr>\n",
       "    <tr>\n",
       "      <th>1922</th>\n",
       "      <td>495</td>\n",
       "      <td>reversal</td>\n",
       "      <td>1</td>\n",
       "    </tr>\n",
       "    <tr>\n",
       "      <th>1923</th>\n",
       "      <td>205</td>\n",
       "      <td>perforation</td>\n",
       "      <td>1</td>\n",
       "    </tr>\n",
       "    <tr>\n",
       "      <th>1924</th>\n",
       "      <td>207</td>\n",
       "      <td>sternoclavicular</td>\n",
       "      <td>1</td>\n",
       "    </tr>\n",
       "    <tr>\n",
       "      <th>1925</th>\n",
       "      <td>1051</td>\n",
       "      <td>unilateral</td>\n",
       "      <td>1</td>\n",
       "    </tr>\n",
       "    <tr>\n",
       "      <th>1926</th>\n",
       "      <td>1059</td>\n",
       "      <td>orif</td>\n",
       "      <td>1</td>\n",
       "    </tr>\n",
       "    <tr>\n",
       "      <th>1927</th>\n",
       "      <td>470</td>\n",
       "      <td>exchanged</td>\n",
       "      <td>1</td>\n",
       "    </tr>\n",
       "    <tr>\n",
       "      <th>1928</th>\n",
       "      <td>1070</td>\n",
       "      <td>tenting</td>\n",
       "      <td>1</td>\n",
       "    </tr>\n",
       "    <tr>\n",
       "      <th>1929</th>\n",
       "      <td>1511</td>\n",
       "      <td>clavicles</td>\n",
       "      <td>1</td>\n",
       "    </tr>\n",
       "    <tr>\n",
       "      <th>1930</th>\n",
       "      <td>1063</td>\n",
       "      <td>duct</td>\n",
       "      <td>1</td>\n",
       "    </tr>\n",
       "    <tr>\n",
       "      <th>1931</th>\n",
       "      <td>475</td>\n",
       "      <td>assessment</td>\n",
       "      <td>1</td>\n",
       "    </tr>\n",
       "    <tr>\n",
       "      <th>1932</th>\n",
       "      <td>1518</td>\n",
       "      <td>suggestions</td>\n",
       "      <td>1</td>\n",
       "    </tr>\n",
       "    <tr>\n",
       "      <th>1933</th>\n",
       "      <td>212</td>\n",
       "      <td>plates</td>\n",
       "      <td>1</td>\n",
       "    </tr>\n",
       "    <tr>\n",
       "      <th>1934</th>\n",
       "      <td>1528</td>\n",
       "      <td>inthe</td>\n",
       "      <td>1</td>\n",
       "    </tr>\n",
       "    <tr>\n",
       "      <th>1935</th>\n",
       "      <td>478</td>\n",
       "      <td>being</td>\n",
       "      <td>1</td>\n",
       "    </tr>\n",
       "    <tr>\n",
       "      <th>1936</th>\n",
       "      <td>210</td>\n",
       "      <td>shrapnel</td>\n",
       "      <td>1</td>\n",
       "    </tr>\n",
       "    <tr>\n",
       "      <th>1937</th>\n",
       "      <td>484</td>\n",
       "      <td>accentuates</td>\n",
       "      <td>1</td>\n",
       "    </tr>\n",
       "    <tr>\n",
       "      <th>1938</th>\n",
       "      <td>208</td>\n",
       "      <td>grafts</td>\n",
       "      <td>1</td>\n",
       "    </tr>\n",
       "    <tr>\n",
       "      <th>1939</th>\n",
       "      <td>1526</td>\n",
       "      <td>jewelry</td>\n",
       "      <td>1</td>\n",
       "    </tr>\n",
       "    <tr>\n",
       "      <th>1940</th>\n",
       "      <td>1527</td>\n",
       "      <td></td>\n",
       "      <td>1</td>\n",
       "    </tr>\n",
       "    <tr>\n",
       "      <th>1941</th>\n",
       "      <td>972</td>\n",
       "      <td>mentally</td>\n",
       "      <td>1</td>\n",
       "    </tr>\n",
       "  </tbody>\n",
       "</table>\n",
       "<p>1942 rows × 3 columns</p>\n",
       "</div>"
      ],
      "text/plain": [
       "      index             words  w_count\n",
       "0      1608                 .    21069\n",
       "1      1667                no     6824\n",
       "2      1855               the     6596\n",
       "3      1370                is     4367\n",
       "4       538               are     4312\n",
       "5       910            normal     3548\n",
       "6        99                 ,     3534\n",
       "7      1380              xxxx     3080\n",
       "8      1089                of     3043\n",
       "9      1675               and     3029\n",
       "10     1434             acute     2871\n",
       "11     1853                or     2614\n",
       "12      694           pleural     2613\n",
       "13      405      pneumothorax     2407\n",
       "14      367             there     2361\n",
       "15     1649          effusion     2303\n",
       "16     1336             heart     2150\n",
       "17     1450             lungs     2093\n",
       "18      483              size     1916\n",
       "19      310             focal     1796\n",
       "20     1693             clear     1609\n",
       "21     1223                in     1561\n",
       "22     1591           disease     1546\n",
       "23      353   cardiopulmonary     1545\n",
       "24     1214         pulmonary     1528\n",
       "25      851            within     1522\n",
       "26     1127            limits     1448\n",
       "27      185             right     1282\n",
       "28      348              left     1121\n",
       "29     1082       abnormality     1106\n",
       "...     ...               ...      ...\n",
       "1912    201        definitive        1\n",
       "1913   1537               3.0        1\n",
       "1914   1043           respect        1\n",
       "1915    199            beyond        1\n",
       "1916   1540             lytic        1\n",
       "1917   1042            showed        1\n",
       "1918    197          detailed        1\n",
       "1919    492         primarily        1\n",
       "1920   1545    representative        1\n",
       "1921    493                l4        1\n",
       "1922    495          reversal        1\n",
       "1923    205       perforation        1\n",
       "1924    207  sternoclavicular        1\n",
       "1925   1051        unilateral        1\n",
       "1926   1059              orif        1\n",
       "1927    470         exchanged        1\n",
       "1928   1070           tenting        1\n",
       "1929   1511         clavicles        1\n",
       "1930   1063              duct        1\n",
       "1931    475        assessment        1\n",
       "1932   1518       suggestions        1\n",
       "1933    212            plates        1\n",
       "1934   1528             inthe        1\n",
       "1935    478             being        1\n",
       "1936    210          shrapnel        1\n",
       "1937    484       accentuates        1\n",
       "1938    208            grafts        1\n",
       "1939   1526           jewelry        1\n",
       "1940   1527                          1\n",
       "1941    972          mentally        1\n",
       "\n",
       "[1942 rows x 3 columns]"
      ]
     },
     "metadata": {},
     "output_type": "display_data"
    },
    {
     "name": "stdout",
     "output_type": "stream",
     "text": [
      "1942 60\n"
     ]
    }
   ],
   "source": [
    "# word_count = {}\n",
    "# for word in vocab:\n",
    "#     if word not in word_count.keys():\n",
    "#         word_count[word]=1\n",
    "#     else:\n",
    "#         word_count[word]+=1\n",
    "# df_wcount = pd.DataFrame()\n",
    "# df_wcount['words']=word_count.keys()\n",
    "# df_wcount['w_count']=word_count.values()\n",
    "# df_wcount = df_wcount.sort_values(by='w_count',ascending=False).reset_index()\n",
    "# df_wcount['index']+=1\n",
    "\n",
    "# df_wcount.to_csv('../dataset/vocab_count.csv',index=False)\n",
    "df_wcount = pd.read_csv('../dataset/vocab_count.csv')\n",
    "\n",
    "display(df_wcount)\n",
    "vocab_size=df_wcount.shape[0]\n",
    "max_wlen = 60\n",
    "print(vocab_size,max_wlen)"
   ]
  },
  {
   "cell_type": "code",
   "execution_count": 19,
   "metadata": {
    "scrolled": true
   },
   "outputs": [
    {
     "name": "stdout",
     "output_type": "stream",
     "text": [
      "74 ['.', ',', '-', '..', \"'s\", ':', '(', ')', ' ', ';', '1.4', '>', '3.3', '1.9', '<', 'bilaterally.there', '1.2', '1.0', '2.1', 'p.m.', '1.7', '1.5', '3.5', '1.6', '3.7', '[', 't12-l1', '1.8', \"xxxx't\", '?', '2.0', '4.5', '2.2', '3.2', \"'re\", 'l1-l2', '4.6', 'xxxx.in', 'a.m.', 'l2-l3', '4.3', 'contour.unfolded', 'effusion.heart', '0.9', '5.9', '5.8', 'apex.there', '16.2', 'body(lateral', 'xxxx-', '2.no', '2.6', '1.severe', ']', '1.there', 'enlargement.prominence', '1.lucency', '6.0', '2.8', '1.3', '1.1', '3.chronic', 'limits.the', '2.5', 'limits.minimal', '4.8', 'normal.calcified', 'mediastinum.there', '7.0', '24.7', '3rd-5xxxx', '6.8', '3.0', '  ']\n"
     ]
    }
   ],
   "source": [
    "new_words= [word for word in df_wcount['words'].values if not word.isalnum()]\n",
    "print(len(new_words),new_words)"
   ]
  },
  {
   "cell_type": "code",
   "execution_count": 20,
   "metadata": {},
   "outputs": [],
   "source": [
    "w_to_co = df_wcount\n",
    "w_to_co.index = w_to_co.words\n",
    "w_to_co = w_to_co['index'].to_dict()\n",
    "# print(w_to_co)\n",
    "co_to_w = df_wcount\n",
    "co_to_w.index = co_to_w['index']\n",
    "co_to_w = co_to_w['words'].to_dict()\n",
    "# print(co_to_w)"
   ]
  },
  {
   "cell_type": "code",
   "execution_count": 21,
   "metadata": {
    "scrolled": true
   },
   "outputs": [
    {
     "data": {
      "text/plain": [
       "'mediport'"
      ]
     },
     "execution_count": 21,
     "metadata": {},
     "output_type": "execute_result"
    }
   ],
   "source": [
    "# df = pd.DataFrame(sorted(finding_len,reverse=True))\n",
    "# display(df.head(50))\n",
    "# df.plot(kind='hist',figsize=(6,6))\n",
    "co_to_w[13]"
   ]
  },
  {
   "cell_type": "code",
   "execution_count": 22,
   "metadata": {
    "scrolled": true
   },
   "outputs": [],
   "source": [
    "embedding_size = 300\n",
    "# embedding_matrix = np.zeros((vocab_size+1, embedding_size)) # last one : to cater to empty/-1\n",
    "# for word,idx in w_to_co.items():\n",
    "#     token = nlp(word)\n",
    "#     embedding_matrix[idx] = token.vector\n",
    "# embedding_matrix[vocab_size] = np.zeros(embedding_size)\n",
    "embedding_matrix = pd.read_pickle('../dataset/initial_emb_mat.p')\n",
    "embedding_matrix = embedding_matrix.values\n",
    "# print(embedding_matrix.shape)\n",
    "# df_emb = pd.DataFrame(embedding_matrix)\n",
    "# df_emb.to_pickle('../dataset/initial_emb_mat.p')"
   ]
  },
  {
   "cell_type": "code",
   "execution_count": null,
   "metadata": {
    "scrolled": true
   },
   "outputs": [],
   "source": []
  },
  {
   "cell_type": "markdown",
   "metadata": {},
   "source": [
    "# Parameters"
   ]
  },
  {
   "cell_type": "code",
   "execution_count": 23,
   "metadata": {},
   "outputs": [],
   "source": [
    "img_arch = 'vgg'\n",
    "text_arch = '1dcnn'\n",
    "model_name = '{0}_{1}_text_img_attention'.format(img_arch,text_arch)\n",
    "EPOCHS = 50\n",
    "lr = 0.0001\n",
    "img_dropout_rate=0.5\n",
    "text_dropout_rate=0.5\n",
    "elu_alpha = 1.0"
   ]
  },
  {
   "cell_type": "markdown",
   "metadata": {},
   "source": [
    "# Model Initialization"
   ]
  },
  {
   "cell_type": "code",
   "execution_count": 24,
   "metadata": {},
   "outputs": [],
   "source": [
    "def VGGNet():\n",
    "    image_input = Input(shape=(256,256,3),name='image_input')\n",
    "    # x = CoordinateChannel2D()(inp)\n",
    "    x = kl.Conv2D(filters=64, kernel_size=(3,3), activation='relu', padding='same', name='block1_conv1')(image_input)\n",
    "    x = kl.Conv2D(filters=64, kernel_size=(3,3), activation='relu', padding='same', name='block1_conv2')(x)\n",
    "    x = kl.Conv2D(filters=64, kernel_size=2, strides=2, activation='relu', padding='same', name='block1_reduction_conv')(x)\n",
    "    x = kl.BatchNormalization()(x)\n",
    "    x = kl.Dropout(img_dropout_rate)(x)\n",
    "\n",
    "    x = kl.Conv2D(filters=128, kernel_size=(3,3), activation='relu', padding='same', name='block2_conv1')(x)\n",
    "    x = kl.Conv2D(filters=128, kernel_size=(3,3), activation='relu', padding='same', name='block2_conv2')(x)\n",
    "    x = kl.Conv2D(filters=128, kernel_size=2, strides=2, activation='relu', padding='same', name='block2_reduction_conv')(x)\n",
    "    x = kl.BatchNormalization()(x)\n",
    "    x = kl.Dropout(img_dropout_rate)(x)\n",
    "\n",
    "    x = kl.Conv2D(filters=256, kernel_size=(3,3), activation='relu', padding='same', name='block3_conv1')(x)\n",
    "    x = kl.Conv2D(filters=256, kernel_size=(3,3), activation='relu', padding='same', name='block3_conv2')(x)\n",
    "    x = kl.Conv2D(filters=256, kernel_size=(3,3), activation='relu', padding='same', name='block3_conv3')(x)\n",
    "    x = kl.Conv2D(filters=256, kernel_size=2, strides=2, activation='relu', padding='same', name='block3_reduction_conv')(x)\n",
    "    x = kl.BatchNormalization()(x)\n",
    "    x = kl.Dropout(img_dropout_rate)(x)\n",
    "\n",
    "    x = kl.Conv2D(filters=512, kernel_size=(3,3), activation='relu', padding='same', name='block4_conv1')(x)\n",
    "    x = kl.Conv2D(filters=512, kernel_size=(3,3), activation='relu', padding='same', name='block4_conv2')(x)\n",
    "    x = kl.Conv2D(filters=512, kernel_size=(3,3), activation='relu', padding='same', name='block4_conv3')(x)\n",
    "    # x = CoordinateChannel2D(use_radius=True)(x)\n",
    "#     x, samap, g = SelfAttention(ch=512, name='self_attention')(x)\n",
    "    x = kl.Conv2D(filters=512, kernel_size=2, strides=2, activation='relu', padding='same', name='block4_reduction_conv')(x)\n",
    "    x = kl.BatchNormalization()(x)\n",
    "    x = kl.Dropout(img_dropout_rate)(x)\n",
    "\n",
    "    x = kl.Conv2D(filters=512, kernel_size=(3,3), activation='relu', padding='same', name='block5_conv1')(x)\n",
    "    x = kl.Conv2D(filters=512, kernel_size=(3,3), activation='relu', padding='same', name='block5_conv2')(x)\n",
    "    x = kl.Conv2D(filters=512, kernel_size=(3,3), activation='relu', padding='same', name='block5_conv3')(x)\n",
    "#     x, amaps = SoftAttention(ch=512, m=32, name='soft_attention')(x)\n",
    "    x = kl.Conv2D(filters=512, kernel_size=2, strides=2, activation='relu', padding='same', name='block5_reduction_conv')(x)\n",
    "    return Model(image_input,x,name='imgModel')\n",
    "# def DenseNet():\n",
    "#     qw = Input(shape=(256,256,3),name='image_input')\n",
    "#     qw_1 = kl.Conv2D(strides=1,padding='valid',activation='relu',filters=64,name='conv',kernel_size=3)(qw)\n",
    "\n",
    "#     qw_1 = densenet.densenet.conv_block(x=qw_1,growth_rate=64,name='conv_1',)\n",
    "\n",
    "#     qw_2 = densenet.densenet.dense_block(qw_1,blocks=1,name='block_1')\n",
    "#     qw_2 = kl.BatchNormalization()(qw_2)\n",
    "#     qw_2 = kl.Activation('relu')(qw_2)\n",
    "#     qw_2 = kl.Conv2D(filters=64, kernel_size=2, strides=2, activation='relu', padding='same', name='block1_reduction_conv')(qw_2)\n",
    "#     qw_2 = kl.Dropout(0.5)(qw_2)\n",
    "\n",
    "#     qw_2 = densenet.densenet.dense_block(qw_2,blocks=1,name='block_2')\n",
    "#     qw_2 = kl.BatchNormalization()(qw_2)\n",
    "#     qw_2 = kl.Activation('relu')(qw_2)\n",
    "#     # qw_2 = kl.MaxPool2D(pool_size=2)(qw_2)\n",
    "#     qw_2 = kl.Conv2D(filters=128, kernel_size=2, strides=2, activation='relu', padding='same', name='block2_reduction_conv')(qw_2)\n",
    "#     qw_2 = kl.Dropout(0.5)(qw_2)\n",
    "\n",
    "#     qw_2 = densenet.densenet.dense_block(qw_2,blocks=1,name='block_3')\n",
    "#     qw_2 = kl.BatchNormalization()(qw_2)\n",
    "#     qw_2 = kl.Activation('relu')(qw_2)\n",
    "#     # qw_2 = kl.MaxPool2D(pool_size=2)(qw_2)\n",
    "#     qw_2 = kl.Conv2D(filters=256, kernel_size=2, strides=2, activation='relu', padding='same', name='block3_reduction_conv')(qw_2)\n",
    "#     qw_2 = kl.Dropout(0.5)(qw_2)\n",
    "\n",
    "#     qw_2 = densenet.densenet.dense_block(qw_2,blocks=1,name='block_4')\n",
    "#     qw_2 = kl.BatchNormalization()(qw_2)\n",
    "#     qw_2 = kl.Activation('relu')(qw_2)\n",
    "#     # qw_2 = kl.MaxPool2D(pool_size=2)(qw_2)\n",
    "#     qw_2 = kl.Conv2D(filters=512, kernel_size=2, strides=2, activation='relu', padding='same', name='block4_reduction_conv')(qw_2)\n",
    "#     qw_2 = kl.Dropout(0.5)(qw_2)\n",
    "\n",
    "#     qw_2 = densenet.densenet.dense_block(qw_2,blocks=1,name='block_5')\n",
    "#     qw_2 = kl.BatchNormalization()(qw_2)\n",
    "#     qw_2 = kl.Activation('relu')(qw_2)\n",
    "#     # qw_2 = kl.MaxPool2D(pool_size=2)(qw_2)\n",
    "#     qw_2 = kl.Conv2D(filters=1024, kernel_size=2, strides=2, activation='relu', padding='same', name='block5_reduction_conv')(qw_2)\n",
    "#     # qw_2 = kl.Dropout(0.5)(qw_2)\n",
    "#     qw_2 = kl.BatchNormalization()(qw_2)\n",
    "#     qw_2 = kl.Activation('relu')(qw_2)\n",
    "\n",
    "#     return Model(qw,qw_2, name='imgModel')"
   ]
  },
  {
   "cell_type": "code",
   "execution_count": 25,
   "metadata": {
    "scrolled": true
   },
   "outputs": [
    {
     "name": "stdout",
     "output_type": "stream",
     "text": [
      "_________________________________________________________________\n",
      "Layer (type)                 Output Shape              Param #   \n",
      "=================================================================\n",
      "image_input (InputLayer)     (None, 256, 256, 3)       0         \n",
      "_________________________________________________________________\n",
      "block1_conv1 (Conv2D)        (None, 256, 256, 64)      1792      \n",
      "_________________________________________________________________\n",
      "block1_conv2 (Conv2D)        (None, 256, 256, 64)      36928     \n",
      "_________________________________________________________________\n",
      "block1_reduction_conv (Conv2 (None, 128, 128, 64)      16448     \n",
      "_________________________________________________________________\n",
      "batch_normalization_1 (Batch (None, 128, 128, 64)      256       \n",
      "_________________________________________________________________\n",
      "dropout_1 (Dropout)          (None, 128, 128, 64)      0         \n",
      "_________________________________________________________________\n",
      "block2_conv1 (Conv2D)        (None, 128, 128, 128)     73856     \n",
      "_________________________________________________________________\n",
      "block2_conv2 (Conv2D)        (None, 128, 128, 128)     147584    \n",
      "_________________________________________________________________\n",
      "block2_reduction_conv (Conv2 (None, 64, 64, 128)       65664     \n",
      "_________________________________________________________________\n",
      "batch_normalization_2 (Batch (None, 64, 64, 128)       512       \n",
      "_________________________________________________________________\n",
      "dropout_2 (Dropout)          (None, 64, 64, 128)       0         \n",
      "_________________________________________________________________\n",
      "block3_conv1 (Conv2D)        (None, 64, 64, 256)       295168    \n",
      "_________________________________________________________________\n",
      "block3_conv2 (Conv2D)        (None, 64, 64, 256)       590080    \n",
      "_________________________________________________________________\n",
      "block3_conv3 (Conv2D)        (None, 64, 64, 256)       590080    \n",
      "_________________________________________________________________\n",
      "block3_reduction_conv (Conv2 (None, 32, 32, 256)       262400    \n",
      "_________________________________________________________________\n",
      "batch_normalization_3 (Batch (None, 32, 32, 256)       1024      \n",
      "_________________________________________________________________\n",
      "dropout_3 (Dropout)          (None, 32, 32, 256)       0         \n",
      "_________________________________________________________________\n",
      "block4_conv1 (Conv2D)        (None, 32, 32, 512)       1180160   \n",
      "_________________________________________________________________\n",
      "block4_conv2 (Conv2D)        (None, 32, 32, 512)       2359808   \n",
      "_________________________________________________________________\n",
      "block4_conv3 (Conv2D)        (None, 32, 32, 512)       2359808   \n",
      "_________________________________________________________________\n",
      "block4_reduction_conv (Conv2 (None, 16, 16, 512)       1049088   \n",
      "_________________________________________________________________\n",
      "batch_normalization_4 (Batch (None, 16, 16, 512)       2048      \n",
      "_________________________________________________________________\n",
      "dropout_4 (Dropout)          (None, 16, 16, 512)       0         \n",
      "_________________________________________________________________\n",
      "block5_conv1 (Conv2D)        (None, 16, 16, 512)       2359808   \n",
      "_________________________________________________________________\n",
      "block5_conv2 (Conv2D)        (None, 16, 16, 512)       2359808   \n",
      "_________________________________________________________________\n",
      "block5_conv3 (Conv2D)        (None, 16, 16, 512)       2359808   \n",
      "_________________________________________________________________\n",
      "block5_reduction_conv (Conv2 (None, 8, 8, 512)         1049088   \n",
      "=================================================================\n",
      "Total params: 17,161,216\n",
      "Trainable params: 17,159,296\n",
      "Non-trainable params: 1,920\n",
      "_________________________________________________________________\n"
     ]
    }
   ],
   "source": [
    "if img_arch=='vgg':\n",
    "    imgNet = VGGNet()\n",
    "elif img_arch == 'densenet121':\n",
    "    imgNet = DenseNet121(include_top=False,input_shape=(256,256,3))\n",
    "    imgNet.trainable = True\n",
    "elif img_arch == 'densenet':\n",
    "    imgNet = DenseNet()\n",
    "elif img_arch == 'irv2':\n",
    "    imgNet =InceptionResNetV2(include_top=False,input_shape=(256,256,3))\n",
    "    imgNet.trainable = True\n",
    "if os.path.exists('../checkpoints/{0}_{1}_attention_img_module.h5'.format(img_arch,text_arch)):\n",
    "    print('loading existing image weights..')\n",
    "    imgNet.load_weights('../checkpoints/{0}_{1}_attention_img_module.h5'.format(img_arch,text_arch))\n",
    "imgNet.summary()"
   ]
  },
  {
   "cell_type": "code",
   "execution_count": null,
   "metadata": {},
   "outputs": [],
   "source": []
  },
  {
   "cell_type": "code",
   "execution_count": 2,
   "metadata": {},
   "outputs": [],
   "source": [
    "bottleneck_units = 512\n",
    "def getTextNet():\n",
    "    words_input = kl.Input(shape=(max_wlen,),name='words_input')\n",
    "    padding_masks = kl.Input(shape=(max_wlen,1),name='padding_masks')\n",
    "    x = kl.Embedding(vocab_size+1, embedding_size, mask_zero=False, name='w2v_emb')(words_input)\n",
    "    xk3 = kl.Conv1D(filters=324,kernel_size=3,strides=1,padding='same')(x)\n",
    "    xk3 = kl.ELU(alpha=elu_alpha)(xk3)\n",
    "    xk3 = kl.Conv1D(filters=324,kernel_size=3,strides=1,padding='same')(xk3)\n",
    "    xk3 = kl.BatchNormalization()(xk3)\n",
    "    \n",
    "    xk5 = kl.Conv1D(filters=324,kernel_size=5,strides=1,padding='same')(x)\n",
    "    xk5 = kl.ELU(alpha=elu_alpha)(xk5)\n",
    "    xk5 = kl.Conv1D(filters=324,kernel_size=5,strides=1,padding='same')(x5)\n",
    "    xk5 = kl.BatchNormalization()(xk5)\n",
    "    \n",
    "    xk7 = kl.Conv1D(filters=324,kernel_size=7,strides=1,padding='same')(x)\n",
    "    xk7 = kl.ELU(alpha=elu_alpha)(xk7)\n",
    "    xk7 = kl.Conv1D(filters=324,kernel_size=7,strides=1,padding='same')(x7)\n",
    "    xk7 = kl.BatchNormalization()(xk7)\n",
    "    \n",
    "    xk3d2 = kl.Conv1D(filters=324,kernel_size=3,strides=1,dilation_rate=2, padding='same')(x)\n",
    "    xk3d2 = kl.ELU(alpha=elu_alpha)(xk3d2)\n",
    "    xk3d2 = kl.Conv1D(filters=324,kernel_size=3,strides=1,dilation_rate=2, padding='same')(xk3d2)\n",
    "    xk3d2 = kl.BatchNormalization()(xk3d2)\n",
    "    \n",
    "    xk5d2 = kl.Conv1D(filters=324,kernel_size=5,strides=1,dilation_rate=2, padding='same')(x)\n",
    "    xk5d2 = kl.ELU(alpha=elu_alpha)(xk5d2)\n",
    "    xk5d2 = kl.Conv1D(filters=324,kernel_size=5,strides=1,dilation_rate=2, padding='same')(xk5d2)\n",
    "    xk5d2 = kl.BatchNormalization()(xk5d2)\n",
    "    \n",
    "    xk7d2 = kl.Conv1D(filters=324,kernel_size=7,strides=1,dilation_rate=2, padding='same')(x)\n",
    "    xk7d2 = kl.ELU(alpha=elu_alpha)(xk7d2)\n",
    "    xk7d2 = kl.Conv1D(filters=324,kernel_size=7,strides=1,dilation_rate=2, padding='same')(xk7d2)\n",
    "    xk7d2 = kl.BatchNormalization()(xk7d2)\n",
    "    \n",
    "    x2 = kl.Concatenate()([xk3,xk5,xk7,xk3d2,xk5d2,xk7d2])\n",
    "#     x2 = kl.BatchNormalization()(x2)\n",
    "#     x2 = kl.ELU(alpha=elu_alpha)(x2)\n",
    "    x2 = kl.Conv1D(filters=bottleneck_units,kernel_size=1,strides=1,padding='same')(x2)\n",
    "    x2 = kl.ELU(alpha=elu_alpha)(x2)\n",
    "    x2 = kl.Conv1D(filters=bottleneck_units,kernel_size=1,strides=1,padding='same')(x2)\n",
    "    x2 = kl.BatchNormalization()(x2)\n",
    "    \n",
    "    # print('x2.shape:',x2.shape)\n",
    "    x2 = kl.Dropout(text_dropout_rate)(x2)\n",
    "    sa_out_x2_1,s_x2_1 = AM.SelfAttention(ch=int(x2.shape[-1]),name='sa_2_1')([x2,padding_masks])\n",
    "    sa_out_x2_2,s_x2_2 = AM.SelfAttention(ch=int(x2.shape[-1]),name='sa_2_2')([x2,padding_masks])\n",
    "    sa_out_x2_3,s_x2_3 = AM.SelfAttention(ch=int(x2.shape[-1]),name='sa_2_3')([x2,padding_masks])\n",
    "    sa_out_x2_4,s_x2_4 = AM.SelfAttention(ch=int(x2.shape[-1]),name='sa_2_4')([x2,padding_masks])\n",
    "#     print(sa_out_x2_4)\n",
    "    x3 = kl.Concatenate(name='concat_sa_2')([sa_out_x2_1,sa_out_x2_2,sa_out_x2_3,sa_out_x2_4])\n",
    "    # x3 = kl.ELU(alpha=elu_alpha,name='act_concat_sa_2')(x3)\n",
    "    x3comb,x3_g1,x3_g2 = AM.ResidualCombine1D(ch_in=int(x3.shape[-1]),ch_out=bottleneck_units)([x2,x3])\n",
    "    x3comb = kl.BatchNormalization()(x3comb)\n",
    "    # x3comb = kl.ELU(alpha=elu_alpha)(x3comb)\n",
    "    x3comb = kl.Conv1D(filters=bottleneck_units,kernel_size=1,strides=1,padding='same')(x3comb)\n",
    "    x3comb = kl.BatchNormalization()(x3comb)\n",
    "    x3comb = kl.ELU(alpha=elu_alpha)(x3comb)\n",
    "    x3comb = kl.Dropout(text_dropout_rate)(x3comb)\n",
    "    \n",
    "    sa_out_x3_1,s_x3_1 = AM.SelfAttention(ch=int(x3comb.shape[-1]),name='sa_3_1')([x3comb,padding_masks])\n",
    "    sa_out_x3_2,s_x3_2 = AM.SelfAttention(ch=int(x3comb.shape[-1]),name='sa_3_2')([x3comb,padding_masks])\n",
    "    sa_out_x3_3,s_x3_3 = AM.SelfAttention(ch=int(x3comb.shape[-1]),name='sa_3_3')([x3comb,padding_masks])\n",
    "    sa_out_x3_4,s_x3_4 = AM.SelfAttention(ch=int(x3comb.shape[-1]),name='sa_3_4')([x3comb,padding_masks])\n",
    "    x4 = kl.Concatenate(name='concat_sa_3')([sa_out_x3_1,sa_out_x3_2,sa_out_x3_3,sa_out_x3_4])\n",
    "    # x4 = kl.ELU(alpha=elu_alpha,name='act_concat_sa_3')(x4)\n",
    "    x4comb,x4_g1,x4_g2 = AM.ResidualCombine1D(ch_in=int(x4.shape[-1]),ch_out=bottleneck_units)([x3comb,x4])\n",
    "    x4comb = kl.BatchNormalization()(x4comb)\n",
    "    # x4comb = kl.ELU(alpha=elu_alpha)(x4comb)\n",
    "    x4comb = kl.Conv1D(filters=bottleneck_units,kernel_size=1,strides=1,padding='same')(x4comb)\n",
    "    x4comb = kl.BatchNormalization()(x4comb)\n",
    "    x4comb = kl.ELU(alpha=elu_alpha)(x4comb)\n",
    "    # x4comb = kl.Dropout(dropout_rate)(x4comb)\n",
    "    \n",
    "    # sa_out_x4_1,s_x4_1 = SelfAttention(ch=int(x4comb.shape[-1]),name='sa_4_1')([x4comb,padding_masks])\n",
    "    # sa_out_x4_2,s_x4_2 = SelfAttention(ch=int(x4comb.shape[-1]),name='sa_4_2')([x4comb,padding_masks])\n",
    "    # sa_out_x4_3,s_x4_3 = SelfAttention(ch=int(x4comb.shape[-1]),name='sa_4_3')([x4comb,padding_masks])\n",
    "    # sa_out_x4_4,s_x4_4 = SelfAttention(ch=int(x4comb.shape[-1]),name='sa_4_4')([x4comb,padding_masks])\n",
    "    # x5 = kl.Concatenate(name='concat_sa_4')([sa_out_x4_1,sa_out_x4_2,sa_out_x4_3,sa_out_x4_4])\n",
    "    # x5 = kl.ELU(alpha=elu_alpha,name='act_concat_sa_4')(x5)\n",
    "    # x5comb,x5_g1,x5_g2 = ResidualCombine1D(ch_in=int(x5.shape[-1]),ch_out=bottleneck_units)([x4comb,x5]) \n",
    "    # x5comb = kl.BatchNormalization()(x5comb)\n",
    "    # x5comb = kl.ELU(alpha=elu_alpha)(x5comb)\n",
    "    # x5comb = kl.Conv1D(filters=bottleneck_units,kernel_size=1,strides=1,padding='same')(x5comb)\n",
    "    # x5comb = kl.BatchNormalization()(x5comb)\n",
    "    # x5comb = kl.ELU(alpha=elu_alpha)(x5comb)\n",
    "    \n",
    "    return Model([words_input,padding_masks],x4comb,name='textModel')"
   ]
  },
  {
   "cell_type": "code",
   "execution_count": 27,
   "metadata": {},
   "outputs": [],
   "source": [
    "textNet = None"
   ]
  },
  {
   "cell_type": "code",
   "execution_count": 28,
   "metadata": {
    "scrolled": true
   },
   "outputs": [
    {
     "name": "stdout",
     "output_type": "stream",
     "text": [
      "__________________________________________________________________________________________________\n",
      "Layer (type)                    Output Shape         Param #     Connected to                     \n",
      "==================================================================================================\n",
      "words_input (InputLayer)        (None, 60)           0                                            \n",
      "__________________________________________________________________________________________________\n",
      "w2v_emb (Embedding)             (None, 60, 300)      582900      words_input[0][0]                \n",
      "__________________________________________________________________________________________________\n",
      "conv1d_1 (Conv1D)               (None, 60, 324)      291924      w2v_emb[0][0]                    \n",
      "__________________________________________________________________________________________________\n",
      "conv1d_2 (Conv1D)               (None, 60, 324)      486324      w2v_emb[0][0]                    \n",
      "__________________________________________________________________________________________________\n",
      "conv1d_3 (Conv1D)               (None, 60, 324)      680724      w2v_emb[0][0]                    \n",
      "__________________________________________________________________________________________________\n",
      "conv1d_4 (Conv1D)               (None, 60, 324)      291924      w2v_emb[0][0]                    \n",
      "__________________________________________________________________________________________________\n",
      "conv1d_5 (Conv1D)               (None, 60, 324)      486324      w2v_emb[0][0]                    \n",
      "__________________________________________________________________________________________________\n",
      "conv1d_6 (Conv1D)               (None, 60, 324)      680724      w2v_emb[0][0]                    \n",
      "__________________________________________________________________________________________________\n",
      "elu_1 (ELU)                     (None, 60, 324)      0           conv1d_1[0][0]                   \n",
      "__________________________________________________________________________________________________\n",
      "elu_2 (ELU)                     (None, 60, 324)      0           conv1d_2[0][0]                   \n",
      "__________________________________________________________________________________________________\n",
      "elu_3 (ELU)                     (None, 60, 324)      0           conv1d_3[0][0]                   \n",
      "__________________________________________________________________________________________________\n",
      "elu_4 (ELU)                     (None, 60, 324)      0           conv1d_4[0][0]                   \n",
      "__________________________________________________________________________________________________\n",
      "elu_5 (ELU)                     (None, 60, 324)      0           conv1d_5[0][0]                   \n",
      "__________________________________________________________________________________________________\n",
      "elu_6 (ELU)                     (None, 60, 324)      0           conv1d_6[0][0]                   \n",
      "__________________________________________________________________________________________________\n",
      "concatenate_1 (Concatenate)     (None, 60, 1944)     0           elu_1[0][0]                      \n",
      "                                                                 elu_2[0][0]                      \n",
      "                                                                 elu_3[0][0]                      \n",
      "                                                                 elu_4[0][0]                      \n",
      "                                                                 elu_5[0][0]                      \n",
      "                                                                 elu_6[0][0]                      \n",
      "__________________________________________________________________________________________________\n",
      "conv1d_7 (Conv1D)               (None, 60, 512)      995840      concatenate_1[0][0]              \n",
      "__________________________________________________________________________________________________\n",
      "batch_normalization_5 (BatchNor (None, 60, 512)      2048        conv1d_7[0][0]                   \n",
      "__________________________________________________________________________________________________\n",
      "elu_7 (ELU)                     (None, 60, 512)      0           batch_normalization_5[0][0]      \n",
      "__________________________________________________________________________________________________\n",
      "dropout_5 (Dropout)             (None, 60, 512)      0           elu_7[0][0]                      \n",
      "__________________________________________________________________________________________________\n",
      "padding_masks (InputLayer)      (None, 60, 1)        0                                            \n",
      "__________________________________________________________________________________________________\n",
      "sa_2_1 (SelfAttention)          [(None, 60, 512), (6 590976      dropout_5[0][0]                  \n",
      "                                                                 padding_masks[0][0]              \n",
      "__________________________________________________________________________________________________\n",
      "sa_2_2 (SelfAttention)          [(None, 60, 512), (6 590976      dropout_5[0][0]                  \n",
      "                                                                 padding_masks[0][0]              \n",
      "__________________________________________________________________________________________________\n",
      "sa_2_3 (SelfAttention)          [(None, 60, 512), (6 590976      dropout_5[0][0]                  \n",
      "                                                                 padding_masks[0][0]              \n",
      "__________________________________________________________________________________________________\n",
      "sa_2_4 (SelfAttention)          [(None, 60, 512), (6 590976      dropout_5[0][0]                  \n",
      "                                                                 padding_masks[0][0]              \n",
      "__________________________________________________________________________________________________\n",
      "concat_sa_2 (Concatenate)       (None, 60, 2048)     0           sa_2_1[0][0]                     \n",
      "                                                                 sa_2_2[0][0]                     \n",
      "                                                                 sa_2_3[0][0]                     \n",
      "                                                                 sa_2_4[0][0]                     \n",
      "__________________________________________________________________________________________________\n",
      "residual_combine1d_1 (ResidualC [(None, 60, 1024), ( 1049090     dropout_5[0][0]                  \n",
      "                                                                 concat_sa_2[0][0]                \n",
      "__________________________________________________________________________________________________\n",
      "batch_normalization_6 (BatchNor (None, 60, 1024)     4096        residual_combine1d_1[0][0]       \n",
      "__________________________________________________________________________________________________\n",
      "conv1d_8 (Conv1D)               (None, 60, 512)      524800      batch_normalization_6[0][0]      \n",
      "__________________________________________________________________________________________________\n",
      "batch_normalization_7 (BatchNor (None, 60, 512)      2048        conv1d_8[0][0]                   \n",
      "__________________________________________________________________________________________________\n",
      "elu_25 (ELU)                    (None, 60, 512)      0           batch_normalization_7[0][0]      \n",
      "__________________________________________________________________________________________________\n",
      "dropout_6 (Dropout)             (None, 60, 512)      0           elu_25[0][0]                     \n",
      "__________________________________________________________________________________________________\n",
      "sa_3_1 (SelfAttention)          [(None, 60, 512), (6 590976      dropout_6[0][0]                  \n",
      "                                                                 padding_masks[0][0]              \n",
      "__________________________________________________________________________________________________\n",
      "sa_3_2 (SelfAttention)          [(None, 60, 512), (6 590976      dropout_6[0][0]                  \n",
      "                                                                 padding_masks[0][0]              \n",
      "__________________________________________________________________________________________________\n",
      "sa_3_3 (SelfAttention)          [(None, 60, 512), (6 590976      dropout_6[0][0]                  \n",
      "                                                                 padding_masks[0][0]              \n",
      "__________________________________________________________________________________________________\n",
      "sa_3_4 (SelfAttention)          [(None, 60, 512), (6 590976      dropout_6[0][0]                  \n",
      "                                                                 padding_masks[0][0]              \n",
      "__________________________________________________________________________________________________\n",
      "concat_sa_3 (Concatenate)       (None, 60, 2048)     0           sa_3_1[0][0]                     \n",
      "                                                                 sa_3_2[0][0]                     \n",
      "                                                                 sa_3_3[0][0]                     \n",
      "                                                                 sa_3_4[0][0]                     \n",
      "__________________________________________________________________________________________________\n",
      "residual_combine1d_2 (ResidualC [(None, 60, 1024), ( 1049090     dropout_6[0][0]                  \n",
      "                                                                 concat_sa_3[0][0]                \n",
      "__________________________________________________________________________________________________\n",
      "batch_normalization_8 (BatchNor (None, 60, 1024)     4096        residual_combine1d_2[0][0]       \n",
      "__________________________________________________________________________________________________\n",
      "conv1d_9 (Conv1D)               (None, 60, 512)      524800      batch_normalization_8[0][0]      \n",
      "__________________________________________________________________________________________________\n",
      "batch_normalization_9 (BatchNor (None, 60, 512)      2048        conv1d_9[0][0]                   \n",
      "__________________________________________________________________________________________________\n",
      "elu_43 (ELU)                    (None, 60, 512)      0           batch_normalization_9[0][0]      \n",
      "==================================================================================================\n",
      "Total params: 12,386,608\n",
      "Trainable params: 12,379,440\n",
      "Non-trainable params: 7,168\n",
      "__________________________________________________________________________________________________\n"
     ]
    }
   ],
   "source": [
    "textNet = getTextNet()\n",
    "textNet.summary()"
   ]
  },
  {
   "cell_type": "code",
   "execution_count": 29,
   "metadata": {
    "scrolled": true
   },
   "outputs": [
    {
     "data": {
      "image/svg+xml": [
       "<svg height=\"1964pt\" viewBox=\"0.00 0.00 2517.00 1964.00\" width=\"2517pt\" xmlns=\"http://www.w3.org/2000/svg\" xmlns:xlink=\"http://www.w3.org/1999/xlink\">\n",
       "<g class=\"graph\" id=\"graph0\" transform=\"scale(1 1) rotate(0) translate(4 1960)\">\n",
       "<title>G</title>\n",
       "<polygon fill=\"#ffffff\" points=\"-4,4 -4,-1960 2513,-1960 2513,4 -4,4\" stroke=\"transparent\"/>\n",
       "<!-- 139798557398408 -->\n",
       "<g class=\"node\" id=\"node1\">\n",
       "<title>139798557398408</title>\n",
       "<polygon fill=\"none\" points=\"749.5,-1909.5 749.5,-1955.5 1032.5,-1955.5 1032.5,-1909.5 749.5,-1909.5\" stroke=\"#000000\"/>\n",
       "<text fill=\"#000000\" font-family=\"Times,serif\" font-size=\"14.00\" text-anchor=\"middle\" x=\"825.5\" y=\"-1928.8\">words_input: InputLayer</text>\n",
       "<polyline fill=\"none\" points=\"901.5,-1909.5 901.5,-1955.5 \" stroke=\"#000000\"/>\n",
       "<text fill=\"#000000\" font-family=\"Times,serif\" font-size=\"14.00\" text-anchor=\"middle\" x=\"929\" y=\"-1940.3\">input:</text>\n",
       "<polyline fill=\"none\" points=\"901.5,-1932.5 956.5,-1932.5 \" stroke=\"#000000\"/>\n",
       "<text fill=\"#000000\" font-family=\"Times,serif\" font-size=\"14.00\" text-anchor=\"middle\" x=\"929\" y=\"-1917.3\">output:</text>\n",
       "<polyline fill=\"none\" points=\"956.5,-1909.5 956.5,-1955.5 \" stroke=\"#000000\"/>\n",
       "<text fill=\"#000000\" font-family=\"Times,serif\" font-size=\"14.00\" text-anchor=\"middle\" x=\"994.5\" y=\"-1940.3\">(None, 60)</text>\n",
       "<polyline fill=\"none\" points=\"956.5,-1932.5 1032.5,-1932.5 \" stroke=\"#000000\"/>\n",
       "<text fill=\"#000000\" font-family=\"Times,serif\" font-size=\"14.00\" text-anchor=\"middle\" x=\"994.5\" y=\"-1917.3\">(None, 60)</text>\n",
       "</g>\n",
       "<!-- 139798557398632 -->\n",
       "<g class=\"node\" id=\"node2\">\n",
       "<title>139798557398632</title>\n",
       "<polygon fill=\"none\" points=\"741,-1826.5 741,-1872.5 1041,-1872.5 1041,-1826.5 741,-1826.5\" stroke=\"#000000\"/>\n",
       "<text fill=\"#000000\" font-family=\"Times,serif\" font-size=\"14.00\" text-anchor=\"middle\" x=\"811.5\" y=\"-1845.8\">w2v_emb: Embedding</text>\n",
       "<polyline fill=\"none\" points=\"882,-1826.5 882,-1872.5 \" stroke=\"#000000\"/>\n",
       "<text fill=\"#000000\" font-family=\"Times,serif\" font-size=\"14.00\" text-anchor=\"middle\" x=\"909.5\" y=\"-1857.3\">input:</text>\n",
       "<polyline fill=\"none\" points=\"882,-1849.5 937,-1849.5 \" stroke=\"#000000\"/>\n",
       "<text fill=\"#000000\" font-family=\"Times,serif\" font-size=\"14.00\" text-anchor=\"middle\" x=\"909.5\" y=\"-1834.3\">output:</text>\n",
       "<polyline fill=\"none\" points=\"937,-1826.5 937,-1872.5 \" stroke=\"#000000\"/>\n",
       "<text fill=\"#000000\" font-family=\"Times,serif\" font-size=\"14.00\" text-anchor=\"middle\" x=\"989\" y=\"-1857.3\">(None, 60)</text>\n",
       "<polyline fill=\"none\" points=\"937,-1849.5 1041,-1849.5 \" stroke=\"#000000\"/>\n",
       "<text fill=\"#000000\" font-family=\"Times,serif\" font-size=\"14.00\" text-anchor=\"middle\" x=\"989\" y=\"-1834.3\">(None, 60, 300)</text>\n",
       "</g>\n",
       "<!-- 139798557398408&#45;&gt;139798557398632 -->\n",
       "<g class=\"edge\" id=\"edge1\">\n",
       "<title>139798557398408-&gt;139798557398632</title>\n",
       "<path d=\"M891,-1909.3799C891,-1901.1745 891,-1891.7679 891,-1882.8786\" fill=\"none\" stroke=\"#000000\"/>\n",
       "<polygon fill=\"#000000\" points=\"894.5001,-1882.784 891,-1872.784 887.5001,-1882.784 894.5001,-1882.784\" stroke=\"#000000\"/>\n",
       "</g>\n",
       "<!-- 139798557398520 -->\n",
       "<g class=\"node\" id=\"node3\">\n",
       "<title>139798557398520</title>\n",
       "<polygon fill=\"none\" points=\"0,-1743.5 0,-1789.5 282,-1789.5 282,-1743.5 0,-1743.5\" stroke=\"#000000\"/>\n",
       "<text fill=\"#000000\" font-family=\"Times,serif\" font-size=\"14.00\" text-anchor=\"middle\" x=\"61.5\" y=\"-1762.8\">conv1d_1: Conv1D</text>\n",
       "<polyline fill=\"none\" points=\"123,-1743.5 123,-1789.5 \" stroke=\"#000000\"/>\n",
       "<text fill=\"#000000\" font-family=\"Times,serif\" font-size=\"14.00\" text-anchor=\"middle\" x=\"150.5\" y=\"-1774.3\">input:</text>\n",
       "<polyline fill=\"none\" points=\"123,-1766.5 178,-1766.5 \" stroke=\"#000000\"/>\n",
       "<text fill=\"#000000\" font-family=\"Times,serif\" font-size=\"14.00\" text-anchor=\"middle\" x=\"150.5\" y=\"-1751.3\">output:</text>\n",
       "<polyline fill=\"none\" points=\"178,-1743.5 178,-1789.5 \" stroke=\"#000000\"/>\n",
       "<text fill=\"#000000\" font-family=\"Times,serif\" font-size=\"14.00\" text-anchor=\"middle\" x=\"230\" y=\"-1774.3\">(None, 60, 300)</text>\n",
       "<polyline fill=\"none\" points=\"178,-1766.5 282,-1766.5 \" stroke=\"#000000\"/>\n",
       "<text fill=\"#000000\" font-family=\"Times,serif\" font-size=\"14.00\" text-anchor=\"middle\" x=\"230\" y=\"-1751.3\">(None, 60, 324)</text>\n",
       "</g>\n",
       "<!-- 139798557398632&#45;&gt;139798557398520 -->\n",
       "<g class=\"edge\" id=\"edge2\">\n",
       "<title>139798557398632-&gt;139798557398520</title>\n",
       "<path d=\"M740.9389,-1836.9901C621.9022,-1826.5079 451.0702,-1810.2261 292.2495,-1790.1307\" fill=\"none\" stroke=\"#000000\"/>\n",
       "<polygon fill=\"#000000\" points=\"292.652,-1786.6538 282.2901,-1788.8635 291.7684,-1793.5978 292.652,-1786.6538\" stroke=\"#000000\"/>\n",
       "</g>\n",
       "<!-- 139806090285744 -->\n",
       "<g class=\"node\" id=\"node4\">\n",
       "<title>139806090285744</title>\n",
       "<polygon fill=\"none\" points=\"300,-1743.5 300,-1789.5 582,-1789.5 582,-1743.5 300,-1743.5\" stroke=\"#000000\"/>\n",
       "<text fill=\"#000000\" font-family=\"Times,serif\" font-size=\"14.00\" text-anchor=\"middle\" x=\"361.5\" y=\"-1762.8\">conv1d_2: Conv1D</text>\n",
       "<polyline fill=\"none\" points=\"423,-1743.5 423,-1789.5 \" stroke=\"#000000\"/>\n",
       "<text fill=\"#000000\" font-family=\"Times,serif\" font-size=\"14.00\" text-anchor=\"middle\" x=\"450.5\" y=\"-1774.3\">input:</text>\n",
       "<polyline fill=\"none\" points=\"423,-1766.5 478,-1766.5 \" stroke=\"#000000\"/>\n",
       "<text fill=\"#000000\" font-family=\"Times,serif\" font-size=\"14.00\" text-anchor=\"middle\" x=\"450.5\" y=\"-1751.3\">output:</text>\n",
       "<polyline fill=\"none\" points=\"478,-1743.5 478,-1789.5 \" stroke=\"#000000\"/>\n",
       "<text fill=\"#000000\" font-family=\"Times,serif\" font-size=\"14.00\" text-anchor=\"middle\" x=\"530\" y=\"-1774.3\">(None, 60, 300)</text>\n",
       "<polyline fill=\"none\" points=\"478,-1766.5 582,-1766.5 \" stroke=\"#000000\"/>\n",
       "<text fill=\"#000000\" font-family=\"Times,serif\" font-size=\"14.00\" text-anchor=\"middle\" x=\"530\" y=\"-1751.3\">(None, 60, 324)</text>\n",
       "</g>\n",
       "<!-- 139798557398632&#45;&gt;139806090285744 -->\n",
       "<g class=\"edge\" id=\"edge3\">\n",
       "<title>139798557398632-&gt;139806090285744</title>\n",
       "<path d=\"M766.2475,-1826.4901C707.1136,-1815.5832 636.3674,-1802.5344 575.9803,-1791.3964\" fill=\"none\" stroke=\"#000000\"/>\n",
       "<polygon fill=\"#000000\" points=\"576.4642,-1787.9267 565.9952,-1789.5547 575.1944,-1794.8105 576.4642,-1787.9267\" stroke=\"#000000\"/>\n",
       "</g>\n",
       "<!-- 139798556815880 -->\n",
       "<g class=\"node\" id=\"node5\">\n",
       "<title>139798556815880</title>\n",
       "<polygon fill=\"none\" points=\"600,-1743.5 600,-1789.5 882,-1789.5 882,-1743.5 600,-1743.5\" stroke=\"#000000\"/>\n",
       "<text fill=\"#000000\" font-family=\"Times,serif\" font-size=\"14.00\" text-anchor=\"middle\" x=\"661.5\" y=\"-1762.8\">conv1d_3: Conv1D</text>\n",
       "<polyline fill=\"none\" points=\"723,-1743.5 723,-1789.5 \" stroke=\"#000000\"/>\n",
       "<text fill=\"#000000\" font-family=\"Times,serif\" font-size=\"14.00\" text-anchor=\"middle\" x=\"750.5\" y=\"-1774.3\">input:</text>\n",
       "<polyline fill=\"none\" points=\"723,-1766.5 778,-1766.5 \" stroke=\"#000000\"/>\n",
       "<text fill=\"#000000\" font-family=\"Times,serif\" font-size=\"14.00\" text-anchor=\"middle\" x=\"750.5\" y=\"-1751.3\">output:</text>\n",
       "<polyline fill=\"none\" points=\"778,-1743.5 778,-1789.5 \" stroke=\"#000000\"/>\n",
       "<text fill=\"#000000\" font-family=\"Times,serif\" font-size=\"14.00\" text-anchor=\"middle\" x=\"830\" y=\"-1774.3\">(None, 60, 300)</text>\n",
       "<polyline fill=\"none\" points=\"778,-1766.5 882,-1766.5 \" stroke=\"#000000\"/>\n",
       "<text fill=\"#000000\" font-family=\"Times,serif\" font-size=\"14.00\" text-anchor=\"middle\" x=\"830\" y=\"-1751.3\">(None, 60, 324)</text>\n",
       "</g>\n",
       "<!-- 139798557398632&#45;&gt;139798556815880 -->\n",
       "<g class=\"edge\" id=\"edge4\">\n",
       "<title>139798557398632-&gt;139798556815880</title>\n",
       "<path d=\"M849.2166,-1826.3799C831.4119,-1816.5279 810.4774,-1804.9442 791.7893,-1794.6034\" fill=\"none\" stroke=\"#000000\"/>\n",
       "<polygon fill=\"#000000\" points=\"793.2636,-1791.4191 782.8192,-1789.6399 789.8744,-1797.544 793.2636,-1791.4191\" stroke=\"#000000\"/>\n",
       "</g>\n",
       "<!-- 139798557016696 -->\n",
       "<g class=\"node\" id=\"node6\">\n",
       "<title>139798557016696</title>\n",
       "<polygon fill=\"none\" points=\"900,-1743.5 900,-1789.5 1182,-1789.5 1182,-1743.5 900,-1743.5\" stroke=\"#000000\"/>\n",
       "<text fill=\"#000000\" font-family=\"Times,serif\" font-size=\"14.00\" text-anchor=\"middle\" x=\"961.5\" y=\"-1762.8\">conv1d_4: Conv1D</text>\n",
       "<polyline fill=\"none\" points=\"1023,-1743.5 1023,-1789.5 \" stroke=\"#000000\"/>\n",
       "<text fill=\"#000000\" font-family=\"Times,serif\" font-size=\"14.00\" text-anchor=\"middle\" x=\"1050.5\" y=\"-1774.3\">input:</text>\n",
       "<polyline fill=\"none\" points=\"1023,-1766.5 1078,-1766.5 \" stroke=\"#000000\"/>\n",
       "<text fill=\"#000000\" font-family=\"Times,serif\" font-size=\"14.00\" text-anchor=\"middle\" x=\"1050.5\" y=\"-1751.3\">output:</text>\n",
       "<polyline fill=\"none\" points=\"1078,-1743.5 1078,-1789.5 \" stroke=\"#000000\"/>\n",
       "<text fill=\"#000000\" font-family=\"Times,serif\" font-size=\"14.00\" text-anchor=\"middle\" x=\"1130\" y=\"-1774.3\">(None, 60, 300)</text>\n",
       "<polyline fill=\"none\" points=\"1078,-1766.5 1182,-1766.5 \" stroke=\"#000000\"/>\n",
       "<text fill=\"#000000\" font-family=\"Times,serif\" font-size=\"14.00\" text-anchor=\"middle\" x=\"1130\" y=\"-1751.3\">(None, 60, 324)</text>\n",
       "</g>\n",
       "<!-- 139798557398632&#45;&gt;139798557016696 -->\n",
       "<g class=\"edge\" id=\"edge5\">\n",
       "<title>139798557398632-&gt;139798557016696</title>\n",
       "<path d=\"M932.7834,-1826.3799C950.5881,-1816.5279 971.5226,-1804.9442 990.2107,-1794.6034\" fill=\"none\" stroke=\"#000000\"/>\n",
       "<polygon fill=\"#000000\" points=\"992.1256,-1797.544 999.1808,-1789.6399 988.7364,-1791.4191 992.1256,-1797.544\" stroke=\"#000000\"/>\n",
       "</g>\n",
       "<!-- 139798557144344 -->\n",
       "<g class=\"node\" id=\"node7\">\n",
       "<title>139798557144344</title>\n",
       "<polygon fill=\"none\" points=\"1200,-1743.5 1200,-1789.5 1482,-1789.5 1482,-1743.5 1200,-1743.5\" stroke=\"#000000\"/>\n",
       "<text fill=\"#000000\" font-family=\"Times,serif\" font-size=\"14.00\" text-anchor=\"middle\" x=\"1261.5\" y=\"-1762.8\">conv1d_5: Conv1D</text>\n",
       "<polyline fill=\"none\" points=\"1323,-1743.5 1323,-1789.5 \" stroke=\"#000000\"/>\n",
       "<text fill=\"#000000\" font-family=\"Times,serif\" font-size=\"14.00\" text-anchor=\"middle\" x=\"1350.5\" y=\"-1774.3\">input:</text>\n",
       "<polyline fill=\"none\" points=\"1323,-1766.5 1378,-1766.5 \" stroke=\"#000000\"/>\n",
       "<text fill=\"#000000\" font-family=\"Times,serif\" font-size=\"14.00\" text-anchor=\"middle\" x=\"1350.5\" y=\"-1751.3\">output:</text>\n",
       "<polyline fill=\"none\" points=\"1378,-1743.5 1378,-1789.5 \" stroke=\"#000000\"/>\n",
       "<text fill=\"#000000\" font-family=\"Times,serif\" font-size=\"14.00\" text-anchor=\"middle\" x=\"1430\" y=\"-1774.3\">(None, 60, 300)</text>\n",
       "<polyline fill=\"none\" points=\"1378,-1766.5 1482,-1766.5 \" stroke=\"#000000\"/>\n",
       "<text fill=\"#000000\" font-family=\"Times,serif\" font-size=\"14.00\" text-anchor=\"middle\" x=\"1430\" y=\"-1751.3\">(None, 60, 324)</text>\n",
       "</g>\n",
       "<!-- 139798557398632&#45;&gt;139798557144344 -->\n",
       "<g class=\"edge\" id=\"edge6\">\n",
       "<title>139798557398632-&gt;139798557144344</title>\n",
       "<path d=\"M1015.7525,-1826.4901C1074.8864,-1815.5832 1145.6326,-1802.5344 1206.0197,-1791.3964\" fill=\"none\" stroke=\"#000000\"/>\n",
       "<polygon fill=\"#000000\" points=\"1206.8056,-1794.8105 1216.0048,-1789.5547 1205.5358,-1787.9267 1206.8056,-1794.8105\" stroke=\"#000000\"/>\n",
       "</g>\n",
       "<!-- 139798556565176 -->\n",
       "<g class=\"node\" id=\"node8\">\n",
       "<title>139798556565176</title>\n",
       "<polygon fill=\"none\" points=\"1500,-1743.5 1500,-1789.5 1782,-1789.5 1782,-1743.5 1500,-1743.5\" stroke=\"#000000\"/>\n",
       "<text fill=\"#000000\" font-family=\"Times,serif\" font-size=\"14.00\" text-anchor=\"middle\" x=\"1561.5\" y=\"-1762.8\">conv1d_6: Conv1D</text>\n",
       "<polyline fill=\"none\" points=\"1623,-1743.5 1623,-1789.5 \" stroke=\"#000000\"/>\n",
       "<text fill=\"#000000\" font-family=\"Times,serif\" font-size=\"14.00\" text-anchor=\"middle\" x=\"1650.5\" y=\"-1774.3\">input:</text>\n",
       "<polyline fill=\"none\" points=\"1623,-1766.5 1678,-1766.5 \" stroke=\"#000000\"/>\n",
       "<text fill=\"#000000\" font-family=\"Times,serif\" font-size=\"14.00\" text-anchor=\"middle\" x=\"1650.5\" y=\"-1751.3\">output:</text>\n",
       "<polyline fill=\"none\" points=\"1678,-1743.5 1678,-1789.5 \" stroke=\"#000000\"/>\n",
       "<text fill=\"#000000\" font-family=\"Times,serif\" font-size=\"14.00\" text-anchor=\"middle\" x=\"1730\" y=\"-1774.3\">(None, 60, 300)</text>\n",
       "<polyline fill=\"none\" points=\"1678,-1766.5 1782,-1766.5 \" stroke=\"#000000\"/>\n",
       "<text fill=\"#000000\" font-family=\"Times,serif\" font-size=\"14.00\" text-anchor=\"middle\" x=\"1730\" y=\"-1751.3\">(None, 60, 324)</text>\n",
       "</g>\n",
       "<!-- 139798557398632&#45;&gt;139798556565176 -->\n",
       "<g class=\"edge\" id=\"edge7\">\n",
       "<title>139798557398632-&gt;139798556565176</title>\n",
       "<path d=\"M1041.0611,-1836.9901C1160.0978,-1826.5079 1330.9298,-1810.2261 1489.7505,-1790.1307\" fill=\"none\" stroke=\"#000000\"/>\n",
       "<polygon fill=\"#000000\" points=\"1490.2316,-1793.5978 1499.7099,-1788.8635 1489.348,-1786.6538 1490.2316,-1793.5978\" stroke=\"#000000\"/>\n",
       "</g>\n",
       "<!-- 139798557400928 -->\n",
       "<g class=\"node\" id=\"node9\">\n",
       "<title>139798557400928</title>\n",
       "<polygon fill=\"none\" points=\"64.5,-1660.5 64.5,-1706.5 303.5,-1706.5 303.5,-1660.5 64.5,-1660.5\" stroke=\"#000000\"/>\n",
       "<text fill=\"#000000\" font-family=\"Times,serif\" font-size=\"14.00\" text-anchor=\"middle\" x=\"104.5\" y=\"-1679.8\">elu_1: ELU</text>\n",
       "<polyline fill=\"none\" points=\"144.5,-1660.5 144.5,-1706.5 \" stroke=\"#000000\"/>\n",
       "<text fill=\"#000000\" font-family=\"Times,serif\" font-size=\"14.00\" text-anchor=\"middle\" x=\"172\" y=\"-1691.3\">input:</text>\n",
       "<polyline fill=\"none\" points=\"144.5,-1683.5 199.5,-1683.5 \" stroke=\"#000000\"/>\n",
       "<text fill=\"#000000\" font-family=\"Times,serif\" font-size=\"14.00\" text-anchor=\"middle\" x=\"172\" y=\"-1668.3\">output:</text>\n",
       "<polyline fill=\"none\" points=\"199.5,-1660.5 199.5,-1706.5 \" stroke=\"#000000\"/>\n",
       "<text fill=\"#000000\" font-family=\"Times,serif\" font-size=\"14.00\" text-anchor=\"middle\" x=\"251.5\" y=\"-1691.3\">(None, 60, 324)</text>\n",
       "<polyline fill=\"none\" points=\"199.5,-1683.5 303.5,-1683.5 \" stroke=\"#000000\"/>\n",
       "<text fill=\"#000000\" font-family=\"Times,serif\" font-size=\"14.00\" text-anchor=\"middle\" x=\"251.5\" y=\"-1668.3\">(None, 60, 324)</text>\n",
       "</g>\n",
       "<!-- 139798557398520&#45;&gt;139798557400928 -->\n",
       "<g class=\"edge\" id=\"edge8\">\n",
       "<title>139798557398520-&gt;139798557400928</title>\n",
       "<path d=\"M152.9779,-1743.3799C157.4137,-1734.8178 162.5271,-1724.9477 167.3066,-1715.7222\" fill=\"none\" stroke=\"#000000\"/>\n",
       "<polygon fill=\"#000000\" points=\"170.4448,-1717.2732 171.9372,-1706.784 164.2294,-1714.0531 170.4448,-1717.2732\" stroke=\"#000000\"/>\n",
       "</g>\n",
       "<!-- 139798556818288 -->\n",
       "<g class=\"node\" id=\"node10\">\n",
       "<title>139798556818288</title>\n",
       "<polygon fill=\"none\" points=\"342.5,-1660.5 342.5,-1706.5 581.5,-1706.5 581.5,-1660.5 342.5,-1660.5\" stroke=\"#000000\"/>\n",
       "<text fill=\"#000000\" font-family=\"Times,serif\" font-size=\"14.00\" text-anchor=\"middle\" x=\"382.5\" y=\"-1679.8\">elu_2: ELU</text>\n",
       "<polyline fill=\"none\" points=\"422.5,-1660.5 422.5,-1706.5 \" stroke=\"#000000\"/>\n",
       "<text fill=\"#000000\" font-family=\"Times,serif\" font-size=\"14.00\" text-anchor=\"middle\" x=\"450\" y=\"-1691.3\">input:</text>\n",
       "<polyline fill=\"none\" points=\"422.5,-1683.5 477.5,-1683.5 \" stroke=\"#000000\"/>\n",
       "<text fill=\"#000000\" font-family=\"Times,serif\" font-size=\"14.00\" text-anchor=\"middle\" x=\"450\" y=\"-1668.3\">output:</text>\n",
       "<polyline fill=\"none\" points=\"477.5,-1660.5 477.5,-1706.5 \" stroke=\"#000000\"/>\n",
       "<text fill=\"#000000\" font-family=\"Times,serif\" font-size=\"14.00\" text-anchor=\"middle\" x=\"529.5\" y=\"-1691.3\">(None, 60, 324)</text>\n",
       "<polyline fill=\"none\" points=\"477.5,-1683.5 581.5,-1683.5 \" stroke=\"#000000\"/>\n",
       "<text fill=\"#000000\" font-family=\"Times,serif\" font-size=\"14.00\" text-anchor=\"middle\" x=\"529.5\" y=\"-1668.3\">(None, 60, 324)</text>\n",
       "</g>\n",
       "<!-- 139806090285744&#45;&gt;139798556818288 -->\n",
       "<g class=\"edge\" id=\"edge9\">\n",
       "<title>139806090285744-&gt;139798556818288</title>\n",
       "<path d=\"M446.8497,-1743.3799C448.9483,-1735.0854 451.3575,-1725.5633 453.6281,-1716.5889\" fill=\"none\" stroke=\"#000000\"/>\n",
       "<polygon fill=\"#000000\" points=\"457.049,-1717.337 456.1089,-1706.784 450.2629,-1715.62 457.049,-1717.337\" stroke=\"#000000\"/>\n",
       "</g>\n",
       "<!-- 139798557017032 -->\n",
       "<g class=\"node\" id=\"node11\">\n",
       "<title>139798557017032</title>\n",
       "<polygon fill=\"none\" points=\"632.5,-1660.5 632.5,-1706.5 871.5,-1706.5 871.5,-1660.5 632.5,-1660.5\" stroke=\"#000000\"/>\n",
       "<text fill=\"#000000\" font-family=\"Times,serif\" font-size=\"14.00\" text-anchor=\"middle\" x=\"672.5\" y=\"-1679.8\">elu_3: ELU</text>\n",
       "<polyline fill=\"none\" points=\"712.5,-1660.5 712.5,-1706.5 \" stroke=\"#000000\"/>\n",
       "<text fill=\"#000000\" font-family=\"Times,serif\" font-size=\"14.00\" text-anchor=\"middle\" x=\"740\" y=\"-1691.3\">input:</text>\n",
       "<polyline fill=\"none\" points=\"712.5,-1683.5 767.5,-1683.5 \" stroke=\"#000000\"/>\n",
       "<text fill=\"#000000\" font-family=\"Times,serif\" font-size=\"14.00\" text-anchor=\"middle\" x=\"740\" y=\"-1668.3\">output:</text>\n",
       "<polyline fill=\"none\" points=\"767.5,-1660.5 767.5,-1706.5 \" stroke=\"#000000\"/>\n",
       "<text fill=\"#000000\" font-family=\"Times,serif\" font-size=\"14.00\" text-anchor=\"middle\" x=\"819.5\" y=\"-1691.3\">(None, 60, 324)</text>\n",
       "<polyline fill=\"none\" points=\"767.5,-1683.5 871.5,-1683.5 \" stroke=\"#000000\"/>\n",
       "<text fill=\"#000000\" font-family=\"Times,serif\" font-size=\"14.00\" text-anchor=\"middle\" x=\"819.5\" y=\"-1668.3\">(None, 60, 324)</text>\n",
       "</g>\n",
       "<!-- 139798556815880&#45;&gt;139798557017032 -->\n",
       "<g class=\"edge\" id=\"edge10\">\n",
       "<title>139798556815880-&gt;139798557017032</title>\n",
       "<path d=\"M744.0641,-1743.3799C745.1516,-1735.1745 746.3982,-1725.7679 747.5763,-1716.8786\" fill=\"none\" stroke=\"#000000\"/>\n",
       "<polygon fill=\"#000000\" points=\"751.0699,-1717.1572 748.9142,-1706.784 744.1306,-1716.2375 751.0699,-1717.1572\" stroke=\"#000000\"/>\n",
       "</g>\n",
       "<!-- 139798557144568 -->\n",
       "<g class=\"node\" id=\"node12\">\n",
       "<title>139798557144568</title>\n",
       "<polygon fill=\"none\" points=\"910.5,-1660.5 910.5,-1706.5 1149.5,-1706.5 1149.5,-1660.5 910.5,-1660.5\" stroke=\"#000000\"/>\n",
       "<text fill=\"#000000\" font-family=\"Times,serif\" font-size=\"14.00\" text-anchor=\"middle\" x=\"950.5\" y=\"-1679.8\">elu_4: ELU</text>\n",
       "<polyline fill=\"none\" points=\"990.5,-1660.5 990.5,-1706.5 \" stroke=\"#000000\"/>\n",
       "<text fill=\"#000000\" font-family=\"Times,serif\" font-size=\"14.00\" text-anchor=\"middle\" x=\"1018\" y=\"-1691.3\">input:</text>\n",
       "<polyline fill=\"none\" points=\"990.5,-1683.5 1045.5,-1683.5 \" stroke=\"#000000\"/>\n",
       "<text fill=\"#000000\" font-family=\"Times,serif\" font-size=\"14.00\" text-anchor=\"middle\" x=\"1018\" y=\"-1668.3\">output:</text>\n",
       "<polyline fill=\"none\" points=\"1045.5,-1660.5 1045.5,-1706.5 \" stroke=\"#000000\"/>\n",
       "<text fill=\"#000000\" font-family=\"Times,serif\" font-size=\"14.00\" text-anchor=\"middle\" x=\"1097.5\" y=\"-1691.3\">(None, 60, 324)</text>\n",
       "<polyline fill=\"none\" points=\"1045.5,-1683.5 1149.5,-1683.5 \" stroke=\"#000000\"/>\n",
       "<text fill=\"#000000\" font-family=\"Times,serif\" font-size=\"14.00\" text-anchor=\"middle\" x=\"1097.5\" y=\"-1668.3\">(None, 60, 324)</text>\n",
       "</g>\n",
       "<!-- 139798557016696&#45;&gt;139798557144568 -->\n",
       "<g class=\"edge\" id=\"edge11\">\n",
       "<title>139798557016696-&gt;139798557144568</title>\n",
       "<path d=\"M1037.9359,-1743.3799C1036.8484,-1735.1745 1035.6018,-1725.7679 1034.4237,-1716.8786\" fill=\"none\" stroke=\"#000000\"/>\n",
       "<polygon fill=\"#000000\" points=\"1037.8694,-1716.2375 1033.0858,-1706.784 1030.9301,-1717.1572 1037.8694,-1716.2375\" stroke=\"#000000\"/>\n",
       "</g>\n",
       "<!-- 139798556564560 -->\n",
       "<g class=\"node\" id=\"node13\">\n",
       "<title>139798556564560</title>\n",
       "<polygon fill=\"none\" points=\"1199.5,-1660.5 1199.5,-1706.5 1438.5,-1706.5 1438.5,-1660.5 1199.5,-1660.5\" stroke=\"#000000\"/>\n",
       "<text fill=\"#000000\" font-family=\"Times,serif\" font-size=\"14.00\" text-anchor=\"middle\" x=\"1239.5\" y=\"-1679.8\">elu_5: ELU</text>\n",
       "<polyline fill=\"none\" points=\"1279.5,-1660.5 1279.5,-1706.5 \" stroke=\"#000000\"/>\n",
       "<text fill=\"#000000\" font-family=\"Times,serif\" font-size=\"14.00\" text-anchor=\"middle\" x=\"1307\" y=\"-1691.3\">input:</text>\n",
       "<polyline fill=\"none\" points=\"1279.5,-1683.5 1334.5,-1683.5 \" stroke=\"#000000\"/>\n",
       "<text fill=\"#000000\" font-family=\"Times,serif\" font-size=\"14.00\" text-anchor=\"middle\" x=\"1307\" y=\"-1668.3\">output:</text>\n",
       "<polyline fill=\"none\" points=\"1334.5,-1660.5 1334.5,-1706.5 \" stroke=\"#000000\"/>\n",
       "<text fill=\"#000000\" font-family=\"Times,serif\" font-size=\"14.00\" text-anchor=\"middle\" x=\"1386.5\" y=\"-1691.3\">(None, 60, 324)</text>\n",
       "<polyline fill=\"none\" points=\"1334.5,-1683.5 1438.5,-1683.5 \" stroke=\"#000000\"/>\n",
       "<text fill=\"#000000\" font-family=\"Times,serif\" font-size=\"14.00\" text-anchor=\"middle\" x=\"1386.5\" y=\"-1668.3\">(None, 60, 324)</text>\n",
       "</g>\n",
       "<!-- 139798557144344&#45;&gt;139798556564560 -->\n",
       "<g class=\"edge\" id=\"edge12\">\n",
       "<title>139798557144344-&gt;139798556564560</title>\n",
       "<path d=\"M1334.8718,-1743.3799C1332.6732,-1735.0854 1330.1493,-1725.5633 1327.7706,-1716.5889\" fill=\"none\" stroke=\"#000000\"/>\n",
       "<polygon fill=\"#000000\" points=\"1331.117,-1715.5534 1325.1717,-1706.784 1324.3507,-1717.347 1331.117,-1715.5534\" stroke=\"#000000\"/>\n",
       "</g>\n",
       "<!-- 139798556278568 -->\n",
       "<g class=\"node\" id=\"node14\">\n",
       "<title>139798556278568</title>\n",
       "<polygon fill=\"none\" points=\"1494.5,-1660.5 1494.5,-1706.5 1733.5,-1706.5 1733.5,-1660.5 1494.5,-1660.5\" stroke=\"#000000\"/>\n",
       "<text fill=\"#000000\" font-family=\"Times,serif\" font-size=\"14.00\" text-anchor=\"middle\" x=\"1534.5\" y=\"-1679.8\">elu_6: ELU</text>\n",
       "<polyline fill=\"none\" points=\"1574.5,-1660.5 1574.5,-1706.5 \" stroke=\"#000000\"/>\n",
       "<text fill=\"#000000\" font-family=\"Times,serif\" font-size=\"14.00\" text-anchor=\"middle\" x=\"1602\" y=\"-1691.3\">input:</text>\n",
       "<polyline fill=\"none\" points=\"1574.5,-1683.5 1629.5,-1683.5 \" stroke=\"#000000\"/>\n",
       "<text fill=\"#000000\" font-family=\"Times,serif\" font-size=\"14.00\" text-anchor=\"middle\" x=\"1602\" y=\"-1668.3\">output:</text>\n",
       "<polyline fill=\"none\" points=\"1629.5,-1660.5 1629.5,-1706.5 \" stroke=\"#000000\"/>\n",
       "<text fill=\"#000000\" font-family=\"Times,serif\" font-size=\"14.00\" text-anchor=\"middle\" x=\"1681.5\" y=\"-1691.3\">(None, 60, 324)</text>\n",
       "<polyline fill=\"none\" points=\"1629.5,-1683.5 1733.5,-1683.5 \" stroke=\"#000000\"/>\n",
       "<text fill=\"#000000\" font-family=\"Times,serif\" font-size=\"14.00\" text-anchor=\"middle\" x=\"1681.5\" y=\"-1668.3\">(None, 60, 324)</text>\n",
       "</g>\n",
       "<!-- 139798556565176&#45;&gt;139798556278568 -->\n",
       "<g class=\"edge\" id=\"edge13\">\n",
       "<title>139798556565176-&gt;139798556278568</title>\n",
       "<path d=\"M1633.479,-1743.3799C1630.7518,-1734.9962 1627.6166,-1725.3584 1624.6698,-1716.2996\" fill=\"none\" stroke=\"#000000\"/>\n",
       "<polygon fill=\"#000000\" points=\"1627.9962,-1715.2108 1621.5743,-1706.784 1621.3395,-1717.3762 1627.9962,-1715.2108\" stroke=\"#000000\"/>\n",
       "</g>\n",
       "<!-- 139798555985344 -->\n",
       "<g class=\"node\" id=\"node15\">\n",
       "<title>139798555985344</title>\n",
       "<polygon fill=\"none\" points=\"487,-1577.5 487,-1623.5 1295,-1623.5 1295,-1577.5 487,-1577.5\" stroke=\"#000000\"/>\n",
       "<text fill=\"#000000\" font-family=\"Times,serif\" font-size=\"14.00\" text-anchor=\"middle\" x=\"571\" y=\"-1596.8\">concatenate_1: Concatenate</text>\n",
       "<polyline fill=\"none\" points=\"655,-1577.5 655,-1623.5 \" stroke=\"#000000\"/>\n",
       "<text fill=\"#000000\" font-family=\"Times,serif\" font-size=\"14.00\" text-anchor=\"middle\" x=\"682.5\" y=\"-1608.3\">input:</text>\n",
       "<polyline fill=\"none\" points=\"655,-1600.5 710,-1600.5 \" stroke=\"#000000\"/>\n",
       "<text fill=\"#000000\" font-family=\"Times,serif\" font-size=\"14.00\" text-anchor=\"middle\" x=\"682.5\" y=\"-1585.3\">output:</text>\n",
       "<polyline fill=\"none\" points=\"710,-1577.5 710,-1623.5 \" stroke=\"#000000\"/>\n",
       "<text fill=\"#000000\" font-family=\"Times,serif\" font-size=\"14.00\" text-anchor=\"middle\" x=\"1002.5\" y=\"-1608.3\">[(None, 60, 324), (None, 60, 324), (None, 60, 324), (None, 60, 324), (None, 60, 324), (None, 60, 324)]</text>\n",
       "<polyline fill=\"none\" points=\"710,-1600.5 1295,-1600.5 \" stroke=\"#000000\"/>\n",
       "<text fill=\"#000000\" font-family=\"Times,serif\" font-size=\"14.00\" text-anchor=\"middle\" x=\"1002.5\" y=\"-1585.3\">(None, 60, 1944)</text>\n",
       "</g>\n",
       "<!-- 139798557400928&#45;&gt;139798555985344 -->\n",
       "<g class=\"edge\" id=\"edge14\">\n",
       "<title>139798557400928-&gt;139798555985344</title>\n",
       "<path d=\"M303.8691,-1664.185C314.0522,-1662.7069 324.1998,-1661.2903 334,-1660 434.2245,-1646.804 544.8906,-1634.5146 640.995,-1624.571\" fill=\"none\" stroke=\"#000000\"/>\n",
       "<polygon fill=\"#000000\" points=\"641.5543,-1628.032 651.1423,-1623.5242 640.8359,-1621.0689 641.5543,-1628.032\" stroke=\"#000000\"/>\n",
       "</g>\n",
       "<!-- 139798556818288&#45;&gt;139798555985344 -->\n",
       "<g class=\"edge\" id=\"edge15\">\n",
       "<title>139798556818288-&gt;139798555985344</title>\n",
       "<path d=\"M580.9307,-1660.4901C637.1888,-1649.6057 704.4717,-1636.5882 761.9625,-1625.4653\" fill=\"none\" stroke=\"#000000\"/>\n",
       "<polygon fill=\"#000000\" points=\"762.6849,-1628.8905 771.8379,-1623.5547 761.3551,-1622.018 762.6849,-1628.8905\" stroke=\"#000000\"/>\n",
       "</g>\n",
       "<!-- 139798557017032&#45;&gt;139798555985344 -->\n",
       "<g class=\"edge\" id=\"edge16\">\n",
       "<title>139798557017032-&gt;139798555985344</title>\n",
       "<path d=\"M790.7192,-1660.3799C806.9999,-1650.6583 826.1046,-1639.2505 843.2465,-1629.0147\" fill=\"none\" stroke=\"#000000\"/>\n",
       "<polygon fill=\"#000000\" points=\"845.2149,-1631.9159 852.0063,-1623.784 841.6261,-1625.9058 845.2149,-1631.9159\" stroke=\"#000000\"/>\n",
       "</g>\n",
       "<!-- 139798557144568&#45;&gt;139798555985344 -->\n",
       "<g class=\"edge\" id=\"edge17\">\n",
       "<title>139798557144568-&gt;139798555985344</title>\n",
       "<path d=\"M991.2808,-1660.3799C975.0001,-1650.6583 955.8954,-1639.2505 938.7535,-1629.0147\" fill=\"none\" stroke=\"#000000\"/>\n",
       "<polygon fill=\"#000000\" points=\"940.3739,-1625.9058 929.9937,-1623.784 936.7851,-1631.9159 940.3739,-1625.9058\" stroke=\"#000000\"/>\n",
       "</g>\n",
       "<!-- 139798556564560&#45;&gt;139798555985344 -->\n",
       "<g class=\"edge\" id=\"edge18\">\n",
       "<title>139798556564560-&gt;139798555985344</title>\n",
       "<path d=\"M1200.3465,-1660.4901C1144.2196,-1649.6057 1077.0935,-1636.5882 1019.7367,-1625.4653\" fill=\"none\" stroke=\"#000000\"/>\n",
       "<polygon fill=\"#000000\" points=\"1020.3678,-1622.0225 1009.8843,-1623.5547 1019.0351,-1628.8945 1020.3678,-1622.0225\" stroke=\"#000000\"/>\n",
       "</g>\n",
       "<!-- 139798556278568&#45;&gt;139798555985344 -->\n",
       "<g class=\"edge\" id=\"edge19\">\n",
       "<title>139798556278568-&gt;139798555985344</title>\n",
       "<path d=\"M1494.3788,-1666.0675C1478.7876,-1663.9417 1463.0202,-1661.8649 1448,-1660 1345.0134,-1647.2135 1231.1037,-1634.7484 1133.2713,-1624.5586\" fill=\"none\" stroke=\"#000000\"/>\n",
       "<polygon fill=\"#000000\" points=\"1133.5579,-1621.0696 1123.2496,-1623.5168 1132.8341,-1628.0321 1133.5579,-1621.0696\" stroke=\"#000000\"/>\n",
       "</g>\n",
       "<!-- 139798556378952 -->\n",
       "<g class=\"node\" id=\"node16\">\n",
       "<title>139798556378952</title>\n",
       "<polygon fill=\"none\" points=\"747,-1494.5 747,-1540.5 1035,-1540.5 1035,-1494.5 747,-1494.5\" stroke=\"#000000\"/>\n",
       "<text fill=\"#000000\" font-family=\"Times,serif\" font-size=\"14.00\" text-anchor=\"middle\" x=\"808.5\" y=\"-1513.8\">conv1d_7: Conv1D</text>\n",
       "<polyline fill=\"none\" points=\"870,-1494.5 870,-1540.5 \" stroke=\"#000000\"/>\n",
       "<text fill=\"#000000\" font-family=\"Times,serif\" font-size=\"14.00\" text-anchor=\"middle\" x=\"897.5\" y=\"-1525.3\">input:</text>\n",
       "<polyline fill=\"none\" points=\"870,-1517.5 925,-1517.5 \" stroke=\"#000000\"/>\n",
       "<text fill=\"#000000\" font-family=\"Times,serif\" font-size=\"14.00\" text-anchor=\"middle\" x=\"897.5\" y=\"-1502.3\">output:</text>\n",
       "<polyline fill=\"none\" points=\"925,-1494.5 925,-1540.5 \" stroke=\"#000000\"/>\n",
       "<text fill=\"#000000\" font-family=\"Times,serif\" font-size=\"14.00\" text-anchor=\"middle\" x=\"980\" y=\"-1525.3\">(None, 60, 1944)</text>\n",
       "<polyline fill=\"none\" points=\"925,-1517.5 1035,-1517.5 \" stroke=\"#000000\"/>\n",
       "<text fill=\"#000000\" font-family=\"Times,serif\" font-size=\"14.00\" text-anchor=\"middle\" x=\"980\" y=\"-1502.3\">(None, 60, 512)</text>\n",
       "</g>\n",
       "<!-- 139798555985344&#45;&gt;139798556378952 -->\n",
       "<g class=\"edge\" id=\"edge20\">\n",
       "<title>139798555985344-&gt;139798556378952</title>\n",
       "<path d=\"M891,-1577.3799C891,-1569.1745 891,-1559.7679 891,-1550.8786\" fill=\"none\" stroke=\"#000000\"/>\n",
       "<polygon fill=\"#000000\" points=\"894.5001,-1550.784 891,-1540.784 887.5001,-1550.784 894.5001,-1550.784\" stroke=\"#000000\"/>\n",
       "</g>\n",
       "<!-- 139798556092120 -->\n",
       "<g class=\"node\" id=\"node17\">\n",
       "<title>139798556092120</title>\n",
       "<polygon fill=\"none\" points=\"681.5,-1411.5 681.5,-1457.5 1100.5,-1457.5 1100.5,-1411.5 681.5,-1411.5\" stroke=\"#000000\"/>\n",
       "<text fill=\"#000000\" font-family=\"Times,serif\" font-size=\"14.00\" text-anchor=\"middle\" x=\"811.5\" y=\"-1430.8\">batch_normalization_5: BatchNormalization</text>\n",
       "<polyline fill=\"none\" points=\"941.5,-1411.5 941.5,-1457.5 \" stroke=\"#000000\"/>\n",
       "<text fill=\"#000000\" font-family=\"Times,serif\" font-size=\"14.00\" text-anchor=\"middle\" x=\"969\" y=\"-1442.3\">input:</text>\n",
       "<polyline fill=\"none\" points=\"941.5,-1434.5 996.5,-1434.5 \" stroke=\"#000000\"/>\n",
       "<text fill=\"#000000\" font-family=\"Times,serif\" font-size=\"14.00\" text-anchor=\"middle\" x=\"969\" y=\"-1419.3\">output:</text>\n",
       "<polyline fill=\"none\" points=\"996.5,-1411.5 996.5,-1457.5 \" stroke=\"#000000\"/>\n",
       "<text fill=\"#000000\" font-family=\"Times,serif\" font-size=\"14.00\" text-anchor=\"middle\" x=\"1048.5\" y=\"-1442.3\">(None, 60, 512)</text>\n",
       "<polyline fill=\"none\" points=\"996.5,-1434.5 1100.5,-1434.5 \" stroke=\"#000000\"/>\n",
       "<text fill=\"#000000\" font-family=\"Times,serif\" font-size=\"14.00\" text-anchor=\"middle\" x=\"1048.5\" y=\"-1419.3\">(None, 60, 512)</text>\n",
       "</g>\n",
       "<!-- 139798556378952&#45;&gt;139798556092120 -->\n",
       "<g class=\"edge\" id=\"edge21\">\n",
       "<title>139798556378952-&gt;139798556092120</title>\n",
       "<path d=\"M891,-1494.3799C891,-1486.1745 891,-1476.7679 891,-1467.8786\" fill=\"none\" stroke=\"#000000\"/>\n",
       "<polygon fill=\"#000000\" points=\"894.5001,-1467.784 891,-1457.784 887.5001,-1467.784 894.5001,-1467.784\" stroke=\"#000000\"/>\n",
       "</g>\n",
       "<!-- 139798556093688 -->\n",
       "<g class=\"node\" id=\"node18\">\n",
       "<title>139798556093688</title>\n",
       "<polygon fill=\"none\" points=\"771.5,-1328.5 771.5,-1374.5 1010.5,-1374.5 1010.5,-1328.5 771.5,-1328.5\" stroke=\"#000000\"/>\n",
       "<text fill=\"#000000\" font-family=\"Times,serif\" font-size=\"14.00\" text-anchor=\"middle\" x=\"811.5\" y=\"-1347.8\">elu_7: ELU</text>\n",
       "<polyline fill=\"none\" points=\"851.5,-1328.5 851.5,-1374.5 \" stroke=\"#000000\"/>\n",
       "<text fill=\"#000000\" font-family=\"Times,serif\" font-size=\"14.00\" text-anchor=\"middle\" x=\"879\" y=\"-1359.3\">input:</text>\n",
       "<polyline fill=\"none\" points=\"851.5,-1351.5 906.5,-1351.5 \" stroke=\"#000000\"/>\n",
       "<text fill=\"#000000\" font-family=\"Times,serif\" font-size=\"14.00\" text-anchor=\"middle\" x=\"879\" y=\"-1336.3\">output:</text>\n",
       "<polyline fill=\"none\" points=\"906.5,-1328.5 906.5,-1374.5 \" stroke=\"#000000\"/>\n",
       "<text fill=\"#000000\" font-family=\"Times,serif\" font-size=\"14.00\" text-anchor=\"middle\" x=\"958.5\" y=\"-1359.3\">(None, 60, 512)</text>\n",
       "<polyline fill=\"none\" points=\"906.5,-1351.5 1010.5,-1351.5 \" stroke=\"#000000\"/>\n",
       "<text fill=\"#000000\" font-family=\"Times,serif\" font-size=\"14.00\" text-anchor=\"middle\" x=\"958.5\" y=\"-1336.3\">(None, 60, 512)</text>\n",
       "</g>\n",
       "<!-- 139798556092120&#45;&gt;139798556093688 -->\n",
       "<g class=\"edge\" id=\"edge22\">\n",
       "<title>139798556092120-&gt;139798556093688</title>\n",
       "<path d=\"M891,-1411.3799C891,-1403.1745 891,-1393.7679 891,-1384.8786\" fill=\"none\" stroke=\"#000000\"/>\n",
       "<polygon fill=\"#000000\" points=\"894.5001,-1384.784 891,-1374.784 887.5001,-1384.784 894.5001,-1384.784\" stroke=\"#000000\"/>\n",
       "</g>\n",
       "<!-- 139798555692784 -->\n",
       "<g class=\"node\" id=\"node19\">\n",
       "<title>139798555692784</title>\n",
       "<polygon fill=\"none\" points=\"749,-1245.5 749,-1291.5 1033,-1291.5 1033,-1245.5 749,-1245.5\" stroke=\"#000000\"/>\n",
       "<text fill=\"#000000\" font-family=\"Times,serif\" font-size=\"14.00\" text-anchor=\"middle\" x=\"811.5\" y=\"-1264.8\">dropout_5: Dropout</text>\n",
       "<polyline fill=\"none\" points=\"874,-1245.5 874,-1291.5 \" stroke=\"#000000\"/>\n",
       "<text fill=\"#000000\" font-family=\"Times,serif\" font-size=\"14.00\" text-anchor=\"middle\" x=\"901.5\" y=\"-1276.3\">input:</text>\n",
       "<polyline fill=\"none\" points=\"874,-1268.5 929,-1268.5 \" stroke=\"#000000\"/>\n",
       "<text fill=\"#000000\" font-family=\"Times,serif\" font-size=\"14.00\" text-anchor=\"middle\" x=\"901.5\" y=\"-1253.3\">output:</text>\n",
       "<polyline fill=\"none\" points=\"929,-1245.5 929,-1291.5 \" stroke=\"#000000\"/>\n",
       "<text fill=\"#000000\" font-family=\"Times,serif\" font-size=\"14.00\" text-anchor=\"middle\" x=\"981\" y=\"-1276.3\">(None, 60, 512)</text>\n",
       "<polyline fill=\"none\" points=\"929,-1268.5 1033,-1268.5 \" stroke=\"#000000\"/>\n",
       "<text fill=\"#000000\" font-family=\"Times,serif\" font-size=\"14.00\" text-anchor=\"middle\" x=\"981\" y=\"-1253.3\">(None, 60, 512)</text>\n",
       "</g>\n",
       "<!-- 139798556093688&#45;&gt;139798555692784 -->\n",
       "<g class=\"edge\" id=\"edge23\">\n",
       "<title>139798556093688-&gt;139798555692784</title>\n",
       "<path d=\"M891,-1328.3799C891,-1320.1745 891,-1310.7679 891,-1301.8786\" fill=\"none\" stroke=\"#000000\"/>\n",
       "<polygon fill=\"#000000\" points=\"894.5001,-1301.784 891,-1291.784 887.5001,-1301.784 894.5001,-1301.784\" stroke=\"#000000\"/>\n",
       "</g>\n",
       "<!-- 139798555691888 -->\n",
       "<g class=\"node\" id=\"node21\">\n",
       "<title>139798555691888</title>\n",
       "<polygon fill=\"none\" points=\"699,-1162.5 699,-1208.5 1083,-1208.5 1083,-1162.5 699,-1162.5\" stroke=\"#000000\"/>\n",
       "<text fill=\"#000000\" font-family=\"Times,serif\" font-size=\"14.00\" text-anchor=\"middle\" x=\"766.5\" y=\"-1181.8\">sa_2_1: SelfAttention</text>\n",
       "<polyline fill=\"none\" points=\"834,-1162.5 834,-1208.5 \" stroke=\"#000000\"/>\n",
       "<text fill=\"#000000\" font-family=\"Times,serif\" font-size=\"14.00\" text-anchor=\"middle\" x=\"861.5\" y=\"-1193.3\">input:</text>\n",
       "<polyline fill=\"none\" points=\"834,-1185.5 889,-1185.5 \" stroke=\"#000000\"/>\n",
       "<text fill=\"#000000\" font-family=\"Times,serif\" font-size=\"14.00\" text-anchor=\"middle\" x=\"861.5\" y=\"-1170.3\">output:</text>\n",
       "<polyline fill=\"none\" points=\"889,-1162.5 889,-1208.5 \" stroke=\"#000000\"/>\n",
       "<text fill=\"#000000\" font-family=\"Times,serif\" font-size=\"14.00\" text-anchor=\"middle\" x=\"986\" y=\"-1193.3\">[(None, 60, 512), (None, 60, 1)]</text>\n",
       "<polyline fill=\"none\" points=\"889,-1185.5 1083,-1185.5 \" stroke=\"#000000\"/>\n",
       "<text fill=\"#000000\" font-family=\"Times,serif\" font-size=\"14.00\" text-anchor=\"middle\" x=\"986\" y=\"-1170.3\">[(None, 60, 512), (60, 60)]</text>\n",
       "</g>\n",
       "<!-- 139798555692784&#45;&gt;139798555691888 -->\n",
       "<g class=\"edge\" id=\"edge24\">\n",
       "<title>139798555692784-&gt;139798555691888</title>\n",
       "<path d=\"M891,-1245.3799C891,-1237.1745 891,-1227.7679 891,-1218.8786\" fill=\"none\" stroke=\"#000000\"/>\n",
       "<polygon fill=\"#000000\" points=\"894.5001,-1218.784 891,-1208.784 887.5001,-1218.784 894.5001,-1218.784\" stroke=\"#000000\"/>\n",
       "</g>\n",
       "<!-- 139798555621416 -->\n",
       "<g class=\"node\" id=\"node22\">\n",
       "<title>139798555621416</title>\n",
       "<polygon fill=\"none\" points=\"1101,-1162.5 1101,-1208.5 1485,-1208.5 1485,-1162.5 1101,-1162.5\" stroke=\"#000000\"/>\n",
       "<text fill=\"#000000\" font-family=\"Times,serif\" font-size=\"14.00\" text-anchor=\"middle\" x=\"1168.5\" y=\"-1181.8\">sa_2_2: SelfAttention</text>\n",
       "<polyline fill=\"none\" points=\"1236,-1162.5 1236,-1208.5 \" stroke=\"#000000\"/>\n",
       "<text fill=\"#000000\" font-family=\"Times,serif\" font-size=\"14.00\" text-anchor=\"middle\" x=\"1263.5\" y=\"-1193.3\">input:</text>\n",
       "<polyline fill=\"none\" points=\"1236,-1185.5 1291,-1185.5 \" stroke=\"#000000\"/>\n",
       "<text fill=\"#000000\" font-family=\"Times,serif\" font-size=\"14.00\" text-anchor=\"middle\" x=\"1263.5\" y=\"-1170.3\">output:</text>\n",
       "<polyline fill=\"none\" points=\"1291,-1162.5 1291,-1208.5 \" stroke=\"#000000\"/>\n",
       "<text fill=\"#000000\" font-family=\"Times,serif\" font-size=\"14.00\" text-anchor=\"middle\" x=\"1388\" y=\"-1193.3\">[(None, 60, 512), (None, 60, 1)]</text>\n",
       "<polyline fill=\"none\" points=\"1291,-1185.5 1485,-1185.5 \" stroke=\"#000000\"/>\n",
       "<text fill=\"#000000\" font-family=\"Times,serif\" font-size=\"14.00\" text-anchor=\"middle\" x=\"1388\" y=\"-1170.3\">[(None, 60, 512), (60, 60)]</text>\n",
       "</g>\n",
       "<!-- 139798555692784&#45;&gt;139798555621416 -->\n",
       "<g class=\"edge\" id=\"edge26\">\n",
       "<title>139798555692784-&gt;139798555621416</title>\n",
       "<path d=\"M1002.4456,-1245.4901C1054.9451,-1234.6506 1117.6903,-1221.6958 1171.4155,-1210.6033\" fill=\"none\" stroke=\"#000000\"/>\n",
       "<polygon fill=\"#000000\" points=\"1172.2519,-1214.0045 1181.3376,-1208.5547 1170.8365,-1207.1491 1172.2519,-1214.0045\" stroke=\"#000000\"/>\n",
       "</g>\n",
       "<!-- 139798553682496 -->\n",
       "<g class=\"node\" id=\"node23\">\n",
       "<title>139798553682496</title>\n",
       "<polygon fill=\"none\" points=\"1503,-1162.5 1503,-1208.5 1887,-1208.5 1887,-1162.5 1503,-1162.5\" stroke=\"#000000\"/>\n",
       "<text fill=\"#000000\" font-family=\"Times,serif\" font-size=\"14.00\" text-anchor=\"middle\" x=\"1570.5\" y=\"-1181.8\">sa_2_3: SelfAttention</text>\n",
       "<polyline fill=\"none\" points=\"1638,-1162.5 1638,-1208.5 \" stroke=\"#000000\"/>\n",
       "<text fill=\"#000000\" font-family=\"Times,serif\" font-size=\"14.00\" text-anchor=\"middle\" x=\"1665.5\" y=\"-1193.3\">input:</text>\n",
       "<polyline fill=\"none\" points=\"1638,-1185.5 1693,-1185.5 \" stroke=\"#000000\"/>\n",
       "<text fill=\"#000000\" font-family=\"Times,serif\" font-size=\"14.00\" text-anchor=\"middle\" x=\"1665.5\" y=\"-1170.3\">output:</text>\n",
       "<polyline fill=\"none\" points=\"1693,-1162.5 1693,-1208.5 \" stroke=\"#000000\"/>\n",
       "<text fill=\"#000000\" font-family=\"Times,serif\" font-size=\"14.00\" text-anchor=\"middle\" x=\"1790\" y=\"-1193.3\">[(None, 60, 512), (None, 60, 1)]</text>\n",
       "<polyline fill=\"none\" points=\"1693,-1185.5 1887,-1185.5 \" stroke=\"#000000\"/>\n",
       "<text fill=\"#000000\" font-family=\"Times,serif\" font-size=\"14.00\" text-anchor=\"middle\" x=\"1790\" y=\"-1170.3\">[(None, 60, 512), (60, 60)]</text>\n",
       "</g>\n",
       "<!-- 139798555692784&#45;&gt;139798553682496 -->\n",
       "<g class=\"edge\" id=\"edge28\">\n",
       "<title>139798555692784-&gt;139798553682496</title>\n",
       "<path d=\"M1033.2653,-1254.2996C1064.1669,-1251.2247 1096.6783,-1247.9968 1127,-1245 1286.7545,-1229.2108 1329.314,-1226.6195 1492.5614,-1209.1463\" fill=\"none\" stroke=\"#000000\"/>\n",
       "<polygon fill=\"#000000\" points=\"1493.4065,-1212.5758 1502.9761,-1208.029 1492.6598,-1205.6158 1493.4065,-1212.5758\" stroke=\"#000000\"/>\n",
       "</g>\n",
       "<!-- 139798552885232 -->\n",
       "<g class=\"node\" id=\"node24\">\n",
       "<title>139798552885232</title>\n",
       "<polygon fill=\"none\" points=\"297,-1162.5 297,-1208.5 681,-1208.5 681,-1162.5 297,-1162.5\" stroke=\"#000000\"/>\n",
       "<text fill=\"#000000\" font-family=\"Times,serif\" font-size=\"14.00\" text-anchor=\"middle\" x=\"364.5\" y=\"-1181.8\">sa_2_4: SelfAttention</text>\n",
       "<polyline fill=\"none\" points=\"432,-1162.5 432,-1208.5 \" stroke=\"#000000\"/>\n",
       "<text fill=\"#000000\" font-family=\"Times,serif\" font-size=\"14.00\" text-anchor=\"middle\" x=\"459.5\" y=\"-1193.3\">input:</text>\n",
       "<polyline fill=\"none\" points=\"432,-1185.5 487,-1185.5 \" stroke=\"#000000\"/>\n",
       "<text fill=\"#000000\" font-family=\"Times,serif\" font-size=\"14.00\" text-anchor=\"middle\" x=\"459.5\" y=\"-1170.3\">output:</text>\n",
       "<polyline fill=\"none\" points=\"487,-1162.5 487,-1208.5 \" stroke=\"#000000\"/>\n",
       "<text fill=\"#000000\" font-family=\"Times,serif\" font-size=\"14.00\" text-anchor=\"middle\" x=\"584\" y=\"-1193.3\">[(None, 60, 512), (None, 60, 1)]</text>\n",
       "<polyline fill=\"none\" points=\"487,-1185.5 681,-1185.5 \" stroke=\"#000000\"/>\n",
       "<text fill=\"#000000\" font-family=\"Times,serif\" font-size=\"14.00\" text-anchor=\"middle\" x=\"584\" y=\"-1170.3\">[(None, 60, 512), (60, 60)]</text>\n",
       "</g>\n",
       "<!-- 139798555692784&#45;&gt;139798552885232 -->\n",
       "<g class=\"edge\" id=\"edge30\">\n",
       "<title>139798555692784-&gt;139798552885232</title>\n",
       "<path d=\"M779.5544,-1245.4901C727.0549,-1234.6506 664.3097,-1221.6958 610.5845,-1210.6033\" fill=\"none\" stroke=\"#000000\"/>\n",
       "<polygon fill=\"#000000\" points=\"611.1635,-1207.1491 600.6624,-1208.5547 609.7481,-1214.0045 611.1635,-1207.1491\" stroke=\"#000000\"/>\n",
       "</g>\n",
       "<!-- 139798555621864 -->\n",
       "<g class=\"node\" id=\"node26\">\n",
       "<title>139798555621864</title>\n",
       "<polygon fill=\"none\" points=\"821.5,-996.5 821.5,-1042.5 1352.5,-1042.5 1352.5,-996.5 821.5,-996.5\" stroke=\"#000000\"/>\n",
       "<text fill=\"#000000\" font-family=\"Times,serif\" font-size=\"14.00\" text-anchor=\"middle\" x=\"952.5\" y=\"-1015.8\">residual_combine1d_1: ResidualCombine1D</text>\n",
       "<polyline fill=\"none\" points=\"1083.5,-996.5 1083.5,-1042.5 \" stroke=\"#000000\"/>\n",
       "<text fill=\"#000000\" font-family=\"Times,serif\" font-size=\"14.00\" text-anchor=\"middle\" x=\"1111\" y=\"-1027.3\">input:</text>\n",
       "<polyline fill=\"none\" points=\"1083.5,-1019.5 1138.5,-1019.5 \" stroke=\"#000000\"/>\n",
       "<text fill=\"#000000\" font-family=\"Times,serif\" font-size=\"14.00\" text-anchor=\"middle\" x=\"1111\" y=\"-1004.3\">output:</text>\n",
       "<polyline fill=\"none\" points=\"1138.5,-996.5 1138.5,-1042.5 \" stroke=\"#000000\"/>\n",
       "<text fill=\"#000000\" font-family=\"Times,serif\" font-size=\"14.00\" text-anchor=\"middle\" x=\"1245.5\" y=\"-1027.3\">[(None, 60, 512), (None, 60, 2048)]</text>\n",
       "<polyline fill=\"none\" points=\"1138.5,-1019.5 1352.5,-1019.5 \" stroke=\"#000000\"/>\n",
       "<text fill=\"#000000\" font-family=\"Times,serif\" font-size=\"14.00\" text-anchor=\"middle\" x=\"1245.5\" y=\"-1004.3\">[(None, 60, 1024), (1,), (1,)]</text>\n",
       "</g>\n",
       "<!-- 139798555692784&#45;&gt;139798555621864 -->\n",
       "<g class=\"edge\" id=\"edge36\">\n",
       "<title>139798555692784-&gt;139798555621864</title>\n",
       "<path d=\"M748.6485,-1264.3122C580.1371,-1257.8562 318.3744,-1242.5191 288,-1209 273.9733,-1193.5211 274.5886,-1178.015 288,-1162 354.3892,-1082.7228 607.2889,-1047.5088 811.0128,-1031.8915\" fill=\"none\" stroke=\"#000000\"/>\n",
       "<polygon fill=\"#000000\" points=\"811.5786,-1035.3589 821.2873,-1031.1172 811.0525,-1028.3787 811.5786,-1035.3589\" stroke=\"#000000\"/>\n",
       "</g>\n",
       "<!-- 139798557398576 -->\n",
       "<g class=\"node\" id=\"node20\">\n",
       "<title>139798557398576</title>\n",
       "<polygon fill=\"none\" points=\"1136,-1245.5 1136,-1291.5 1450,-1291.5 1450,-1245.5 1136,-1245.5\" stroke=\"#000000\"/>\n",
       "<text fill=\"#000000\" font-family=\"Times,serif\" font-size=\"14.00\" text-anchor=\"middle\" x=\"1220.5\" y=\"-1264.8\">padding_masks: InputLayer</text>\n",
       "<polyline fill=\"none\" points=\"1305,-1245.5 1305,-1291.5 \" stroke=\"#000000\"/>\n",
       "<text fill=\"#000000\" font-family=\"Times,serif\" font-size=\"14.00\" text-anchor=\"middle\" x=\"1332.5\" y=\"-1276.3\">input:</text>\n",
       "<polyline fill=\"none\" points=\"1305,-1268.5 1360,-1268.5 \" stroke=\"#000000\"/>\n",
       "<text fill=\"#000000\" font-family=\"Times,serif\" font-size=\"14.00\" text-anchor=\"middle\" x=\"1332.5\" y=\"-1253.3\">output:</text>\n",
       "<polyline fill=\"none\" points=\"1360,-1245.5 1360,-1291.5 \" stroke=\"#000000\"/>\n",
       "<text fill=\"#000000\" font-family=\"Times,serif\" font-size=\"14.00\" text-anchor=\"middle\" x=\"1405\" y=\"-1276.3\">(None, 60, 1)</text>\n",
       "<polyline fill=\"none\" points=\"1360,-1268.5 1450,-1268.5 \" stroke=\"#000000\"/>\n",
       "<text fill=\"#000000\" font-family=\"Times,serif\" font-size=\"14.00\" text-anchor=\"middle\" x=\"1405\" y=\"-1253.3\">(None, 60, 1)</text>\n",
       "</g>\n",
       "<!-- 139798557398576&#45;&gt;139798555691888 -->\n",
       "<g class=\"edge\" id=\"edge25\">\n",
       "<title>139798557398576-&gt;139798555691888</title>\n",
       "<path d=\"M1181.5544,-1245.4901C1129.0549,-1234.6506 1066.3097,-1221.6958 1012.5845,-1210.6033\" fill=\"none\" stroke=\"#000000\"/>\n",
       "<polygon fill=\"#000000\" points=\"1013.1635,-1207.1491 1002.6624,-1208.5547 1011.7481,-1214.0045 1013.1635,-1207.1491\" stroke=\"#000000\"/>\n",
       "</g>\n",
       "<!-- 139798557398576&#45;&gt;139798555621416 -->\n",
       "<g class=\"edge\" id=\"edge27\">\n",
       "<title>139798557398576-&gt;139798555621416</title>\n",
       "<path d=\"M1293,-1245.3799C1293,-1237.1745 1293,-1227.7679 1293,-1218.8786\" fill=\"none\" stroke=\"#000000\"/>\n",
       "<polygon fill=\"#000000\" points=\"1296.5001,-1218.784 1293,-1208.784 1289.5001,-1218.784 1296.5001,-1218.784\" stroke=\"#000000\"/>\n",
       "</g>\n",
       "<!-- 139798557398576&#45;&gt;139798553682496 -->\n",
       "<g class=\"edge\" id=\"edge29\">\n",
       "<title>139798557398576-&gt;139798553682496</title>\n",
       "<path d=\"M1404.4456,-1245.4901C1456.9451,-1234.6506 1519.6903,-1221.6958 1573.4155,-1210.6033\" fill=\"none\" stroke=\"#000000\"/>\n",
       "<polygon fill=\"#000000\" points=\"1574.2519,-1214.0045 1583.3376,-1208.5547 1572.8365,-1207.1491 1574.2519,-1214.0045\" stroke=\"#000000\"/>\n",
       "</g>\n",
       "<!-- 139798557398576&#45;&gt;139798552885232 -->\n",
       "<g class=\"edge\" id=\"edge31\">\n",
       "<title>139798557398576-&gt;139798552885232</title>\n",
       "<path d=\"M1135.8008,-1253.7713C1016.685,-1242.4255 848.6651,-1226.0266 691.3689,-1209.1396\" fill=\"none\" stroke=\"#000000\"/>\n",
       "<polygon fill=\"#000000\" points=\"691.3412,-1205.6165 681.0242,-1208.0266 690.5924,-1212.5763 691.3412,-1205.6165\" stroke=\"#000000\"/>\n",
       "</g>\n",
       "<!-- 139798139974768 -->\n",
       "<g class=\"node\" id=\"node32\">\n",
       "<title>139798139974768</title>\n",
       "<polygon fill=\"none\" points=\"1723,-498.5 1723,-544.5 2107,-544.5 2107,-498.5 1723,-498.5\" stroke=\"#000000\"/>\n",
       "<text fill=\"#000000\" font-family=\"Times,serif\" font-size=\"14.00\" text-anchor=\"middle\" x=\"1790.5\" y=\"-517.8\">sa_3_1: SelfAttention</text>\n",
       "<polyline fill=\"none\" points=\"1858,-498.5 1858,-544.5 \" stroke=\"#000000\"/>\n",
       "<text fill=\"#000000\" font-family=\"Times,serif\" font-size=\"14.00\" text-anchor=\"middle\" x=\"1885.5\" y=\"-529.3\">input:</text>\n",
       "<polyline fill=\"none\" points=\"1858,-521.5 1913,-521.5 \" stroke=\"#000000\"/>\n",
       "<text fill=\"#000000\" font-family=\"Times,serif\" font-size=\"14.00\" text-anchor=\"middle\" x=\"1885.5\" y=\"-506.3\">output:</text>\n",
       "<polyline fill=\"none\" points=\"1913,-498.5 1913,-544.5 \" stroke=\"#000000\"/>\n",
       "<text fill=\"#000000\" font-family=\"Times,serif\" font-size=\"14.00\" text-anchor=\"middle\" x=\"2010\" y=\"-529.3\">[(None, 60, 512), (None, 60, 1)]</text>\n",
       "<polyline fill=\"none\" points=\"1913,-521.5 2107,-521.5 \" stroke=\"#000000\"/>\n",
       "<text fill=\"#000000\" font-family=\"Times,serif\" font-size=\"14.00\" text-anchor=\"middle\" x=\"2010\" y=\"-506.3\">[(None, 60, 512), (60, 60)]</text>\n",
       "</g>\n",
       "<!-- 139798557398576&#45;&gt;139798139974768 -->\n",
       "<g class=\"edge\" id=\"edge44\">\n",
       "<title>139798557398576-&gt;139798139974768</title>\n",
       "<path d=\"M1915,-604.5C1916.4493,-588.3314 1916.623,-570.3198 1916.3632,-555.2184\" fill=\"none\" stroke=\"#000000\"/>\n",
       "<polygon fill=\"#000000\" points=\"1919.8521,-554.7162 1916.1094,-544.8045 1912.8542,-554.8868 1919.8521,-554.7162\" stroke=\"#000000\"/>\n",
       "</g>\n",
       "<!-- 139798139820408 -->\n",
       "<g class=\"node\" id=\"node33\">\n",
       "<title>139798139820408</title>\n",
       "<polygon fill=\"none\" points=\"2125,-498.5 2125,-544.5 2509,-544.5 2509,-498.5 2125,-498.5\" stroke=\"#000000\"/>\n",
       "<text fill=\"#000000\" font-family=\"Times,serif\" font-size=\"14.00\" text-anchor=\"middle\" x=\"2192.5\" y=\"-517.8\">sa_3_2: SelfAttention</text>\n",
       "<polyline fill=\"none\" points=\"2260,-498.5 2260,-544.5 \" stroke=\"#000000\"/>\n",
       "<text fill=\"#000000\" font-family=\"Times,serif\" font-size=\"14.00\" text-anchor=\"middle\" x=\"2287.5\" y=\"-529.3\">input:</text>\n",
       "<polyline fill=\"none\" points=\"2260,-521.5 2315,-521.5 \" stroke=\"#000000\"/>\n",
       "<text fill=\"#000000\" font-family=\"Times,serif\" font-size=\"14.00\" text-anchor=\"middle\" x=\"2287.5\" y=\"-506.3\">output:</text>\n",
       "<polyline fill=\"none\" points=\"2315,-498.5 2315,-544.5 \" stroke=\"#000000\"/>\n",
       "<text fill=\"#000000\" font-family=\"Times,serif\" font-size=\"14.00\" text-anchor=\"middle\" x=\"2412\" y=\"-529.3\">[(None, 60, 512), (None, 60, 1)]</text>\n",
       "<polyline fill=\"none\" points=\"2315,-521.5 2509,-521.5 \" stroke=\"#000000\"/>\n",
       "<text fill=\"#000000\" font-family=\"Times,serif\" font-size=\"14.00\" text-anchor=\"middle\" x=\"2412\" y=\"-506.3\">[(None, 60, 512), (60, 60)]</text>\n",
       "</g>\n",
       "<!-- 139798557398576&#45;&gt;139798139820408 -->\n",
       "<g class=\"edge\" id=\"edge46\">\n",
       "<title>139798557398576-&gt;139798139820408</title>\n",
       "<path d=\"M1915,-604.5C1917.0338,-581.8103 2017.3273,-561.0798 2117.2154,-546.012\" fill=\"none\" stroke=\"#000000\"/>\n",
       "<polygon fill=\"#000000\" points=\"2117.8143,-549.4615 2127.1891,-544.5257 2116.7825,-542.5379 2117.8143,-549.4615\" stroke=\"#000000\"/>\n",
       "</g>\n",
       "<!-- 139798139530040 -->\n",
       "<g class=\"node\" id=\"node34\">\n",
       "<title>139798139530040</title>\n",
       "<polygon fill=\"none\" points=\"919,-498.5 919,-544.5 1303,-544.5 1303,-498.5 919,-498.5\" stroke=\"#000000\"/>\n",
       "<text fill=\"#000000\" font-family=\"Times,serif\" font-size=\"14.00\" text-anchor=\"middle\" x=\"986.5\" y=\"-517.8\">sa_3_3: SelfAttention</text>\n",
       "<polyline fill=\"none\" points=\"1054,-498.5 1054,-544.5 \" stroke=\"#000000\"/>\n",
       "<text fill=\"#000000\" font-family=\"Times,serif\" font-size=\"14.00\" text-anchor=\"middle\" x=\"1081.5\" y=\"-529.3\">input:</text>\n",
       "<polyline fill=\"none\" points=\"1054,-521.5 1109,-521.5 \" stroke=\"#000000\"/>\n",
       "<text fill=\"#000000\" font-family=\"Times,serif\" font-size=\"14.00\" text-anchor=\"middle\" x=\"1081.5\" y=\"-506.3\">output:</text>\n",
       "<polyline fill=\"none\" points=\"1109,-498.5 1109,-544.5 \" stroke=\"#000000\"/>\n",
       "<text fill=\"#000000\" font-family=\"Times,serif\" font-size=\"14.00\" text-anchor=\"middle\" x=\"1206\" y=\"-529.3\">[(None, 60, 512), (None, 60, 1)]</text>\n",
       "<polyline fill=\"none\" points=\"1109,-521.5 1303,-521.5 \" stroke=\"#000000\"/>\n",
       "<text fill=\"#000000\" font-family=\"Times,serif\" font-size=\"14.00\" text-anchor=\"middle\" x=\"1206\" y=\"-506.3\">[(None, 60, 512), (60, 60)]</text>\n",
       "</g>\n",
       "<!-- 139798557398576&#45;&gt;139798139530040 -->\n",
       "<g class=\"edge\" id=\"edge48\">\n",
       "<title>139798557398576-&gt;139798139530040</title>\n",
       "<path d=\"M1450.0306,-1262.7032C1617.7095,-1255.0046 1863.8025,-1238.7734 1896,-1209 1931.3011,-1176.3566 1915,-1150.5807 1915,-1102.5 1915,-1102.5 1915,-1102.5 1915,-936.5 1915,-862.7222 1953.8998,-833.1894 1915,-770.5\" fill=\"none\" stroke=\"#000000\"/>\n",
       "<path d=\"M1915,-770.5C1907.118,-759.6249 1907.743,-753.519 1896,-747 1781.6745,-683.5338 1730.8612,-742.6938 1604,-711 1440.9658,-670.269 1258.704,-590.7399 1168.2955,-548.8358\" fill=\"none\" stroke=\"#000000\"/>\n",
       "<polygon fill=\"#000000\" points=\"1169.5901,-545.5779 1159.047,-544.5317 1166.6365,-551.9243 1169.5901,-545.5779\" stroke=\"#000000\"/>\n",
       "</g>\n",
       "<!-- 139798138266232 -->\n",
       "<g class=\"node\" id=\"node35\">\n",
       "<title>139798138266232</title>\n",
       "<polygon fill=\"none\" points=\"1321,-498.5 1321,-544.5 1705,-544.5 1705,-498.5 1321,-498.5\" stroke=\"#000000\"/>\n",
       "<text fill=\"#000000\" font-family=\"Times,serif\" font-size=\"14.00\" text-anchor=\"middle\" x=\"1388.5\" y=\"-517.8\">sa_3_4: SelfAttention</text>\n",
       "<polyline fill=\"none\" points=\"1456,-498.5 1456,-544.5 \" stroke=\"#000000\"/>\n",
       "<text fill=\"#000000\" font-family=\"Times,serif\" font-size=\"14.00\" text-anchor=\"middle\" x=\"1483.5\" y=\"-529.3\">input:</text>\n",
       "<polyline fill=\"none\" points=\"1456,-521.5 1511,-521.5 \" stroke=\"#000000\"/>\n",
       "<text fill=\"#000000\" font-family=\"Times,serif\" font-size=\"14.00\" text-anchor=\"middle\" x=\"1483.5\" y=\"-506.3\">output:</text>\n",
       "<polyline fill=\"none\" points=\"1511,-498.5 1511,-544.5 \" stroke=\"#000000\"/>\n",
       "<text fill=\"#000000\" font-family=\"Times,serif\" font-size=\"14.00\" text-anchor=\"middle\" x=\"1608\" y=\"-529.3\">[(None, 60, 512), (None, 60, 1)]</text>\n",
       "<polyline fill=\"none\" points=\"1511,-521.5 1705,-521.5 \" stroke=\"#000000\"/>\n",
       "<text fill=\"#000000\" font-family=\"Times,serif\" font-size=\"14.00\" text-anchor=\"middle\" x=\"1608\" y=\"-506.3\">[(None, 60, 512), (60, 60)]</text>\n",
       "</g>\n",
       "<!-- 139798557398576&#45;&gt;139798138266232 -->\n",
       "<g class=\"edge\" id=\"edge50\">\n",
       "<title>139798557398576-&gt;139798138266232</title>\n",
       "<path d=\"M1915,-770.5C1870.1092,-711.9511 1915,-678.2778 1915,-604.5\" fill=\"none\" stroke=\"#000000\"/>\n",
       "<path d=\"M1915,-604.5C1916.1991,-591.1225 1907.639,-587.7028 1896,-581 1878.6993,-571.0367 1795.1304,-557.5241 1710.4523,-545.8941\" fill=\"none\" stroke=\"#000000\"/>\n",
       "<polygon fill=\"#000000\" points=\"1710.7743,-542.4057 1700.393,-544.5219 1709.8281,-549.3414 1710.7743,-542.4057\" stroke=\"#000000\"/>\n",
       "</g>\n",
       "<!-- 139798552127752 -->\n",
       "<g class=\"node\" id=\"node25\">\n",
       "<title>139798552127752</title>\n",
       "<polygon fill=\"none\" points=\"782.5,-1079.5 782.5,-1125.5 1391.5,-1125.5 1391.5,-1079.5 782.5,-1079.5\" stroke=\"#000000\"/>\n",
       "<text fill=\"#000000\" font-family=\"Times,serif\" font-size=\"14.00\" text-anchor=\"middle\" x=\"861.5\" y=\"-1098.8\">concat_sa_2: Concatenate</text>\n",
       "<polyline fill=\"none\" points=\"940.5,-1079.5 940.5,-1125.5 \" stroke=\"#000000\"/>\n",
       "<text fill=\"#000000\" font-family=\"Times,serif\" font-size=\"14.00\" text-anchor=\"middle\" x=\"968\" y=\"-1110.3\">input:</text>\n",
       "<polyline fill=\"none\" points=\"940.5,-1102.5 995.5,-1102.5 \" stroke=\"#000000\"/>\n",
       "<text fill=\"#000000\" font-family=\"Times,serif\" font-size=\"14.00\" text-anchor=\"middle\" x=\"968\" y=\"-1087.3\">output:</text>\n",
       "<polyline fill=\"none\" points=\"995.5,-1079.5 995.5,-1125.5 \" stroke=\"#000000\"/>\n",
       "<text fill=\"#000000\" font-family=\"Times,serif\" font-size=\"14.00\" text-anchor=\"middle\" x=\"1193.5\" y=\"-1110.3\">[(None, 60, 512), (None, 60, 512), (None, 60, 512), (None, 60, 512)]</text>\n",
       "<polyline fill=\"none\" points=\"995.5,-1102.5 1391.5,-1102.5 \" stroke=\"#000000\"/>\n",
       "<text fill=\"#000000\" font-family=\"Times,serif\" font-size=\"14.00\" text-anchor=\"middle\" x=\"1193.5\" y=\"-1087.3\">(None, 60, 2048)</text>\n",
       "</g>\n",
       "<!-- 139798555691888&#45;&gt;139798552127752 -->\n",
       "<g class=\"edge\" id=\"edge32\">\n",
       "<title>139798555691888-&gt;139798552127752</title>\n",
       "<path d=\"M945.3366,-1162.4901C969.4465,-1152.2803 997.9882,-1140.1938 1023.1123,-1129.5545\" fill=\"none\" stroke=\"#000000\"/>\n",
       "<polygon fill=\"#000000\" points=\"1024.7141,-1132.6771 1032.5577,-1125.5547 1021.9844,-1126.2313 1024.7141,-1132.6771\" stroke=\"#000000\"/>\n",
       "</g>\n",
       "<!-- 139798555621416&#45;&gt;139798552127752 -->\n",
       "<g class=\"edge\" id=\"edge33\">\n",
       "<title>139798555621416-&gt;139798552127752</title>\n",
       "<path d=\"M1235.8911,-1162.4901C1210.4395,-1152.2353 1180.2888,-1140.0872 1153.7985,-1129.414\" fill=\"none\" stroke=\"#000000\"/>\n",
       "<polygon fill=\"#000000\" points=\"1154.8035,-1126.0455 1144.22,-1125.5547 1152.1874,-1132.5383 1154.8035,-1126.0455\" stroke=\"#000000\"/>\n",
       "</g>\n",
       "<!-- 139798553682496&#45;&gt;139798552127752 -->\n",
       "<g class=\"edge\" id=\"edge34\">\n",
       "<title>139798553682496-&gt;139798552127752</title>\n",
       "<path d=\"M1526.4455,-1162.4901C1445.3115,-1151.4142 1347.9981,-1138.1297 1265.5922,-1126.8802\" fill=\"none\" stroke=\"#000000\"/>\n",
       "<polygon fill=\"#000000\" points=\"1266.0002,-1123.4035 1255.6187,-1125.5187 1265.0534,-1130.3392 1266.0002,-1123.4035\" stroke=\"#000000\"/>\n",
       "</g>\n",
       "<!-- 139798552885232&#45;&gt;139798552127752 -->\n",
       "<g class=\"edge\" id=\"edge35\">\n",
       "<title>139798552885232-&gt;139798552127752</title>\n",
       "<path d=\"M654.7822,-1162.4901C734.4196,-1151.4367 829.9056,-1138.1837 910.8508,-1126.9488\" fill=\"none\" stroke=\"#000000\"/>\n",
       "<polygon fill=\"#000000\" points=\"911.7308,-1130.3603 921.1546,-1125.5187 910.7684,-1123.4268 911.7308,-1130.3603\" stroke=\"#000000\"/>\n",
       "</g>\n",
       "<!-- 139798552127752&#45;&gt;139798555621864 -->\n",
       "<g class=\"edge\" id=\"edge37\">\n",
       "<title>139798552127752-&gt;139798555621864</title>\n",
       "<path d=\"M1087,-1079.3799C1087,-1071.1745 1087,-1061.7679 1087,-1052.8786\" fill=\"none\" stroke=\"#000000\"/>\n",
       "<polygon fill=\"#000000\" points=\"1090.5001,-1052.784 1087,-1042.784 1083.5001,-1052.784 1090.5001,-1052.784\" stroke=\"#000000\"/>\n",
       "</g>\n",
       "<!-- 139798551383400 -->\n",
       "<g class=\"node\" id=\"node27\">\n",
       "<title>139798551383400</title>\n",
       "<polygon fill=\"none\" points=\"1070.5,-913.5 1070.5,-959.5 1495.5,-959.5 1495.5,-913.5 1070.5,-913.5\" stroke=\"#000000\"/>\n",
       "<text fill=\"#000000\" font-family=\"Times,serif\" font-size=\"14.00\" text-anchor=\"middle\" x=\"1200.5\" y=\"-932.8\">batch_normalization_6: BatchNormalization</text>\n",
       "<polyline fill=\"none\" points=\"1330.5,-913.5 1330.5,-959.5 \" stroke=\"#000000\"/>\n",
       "<text fill=\"#000000\" font-family=\"Times,serif\" font-size=\"14.00\" text-anchor=\"middle\" x=\"1358\" y=\"-944.3\">input:</text>\n",
       "<polyline fill=\"none\" points=\"1330.5,-936.5 1385.5,-936.5 \" stroke=\"#000000\"/>\n",
       "<text fill=\"#000000\" font-family=\"Times,serif\" font-size=\"14.00\" text-anchor=\"middle\" x=\"1358\" y=\"-921.3\">output:</text>\n",
       "<polyline fill=\"none\" points=\"1385.5,-913.5 1385.5,-959.5 \" stroke=\"#000000\"/>\n",
       "<text fill=\"#000000\" font-family=\"Times,serif\" font-size=\"14.00\" text-anchor=\"middle\" x=\"1440.5\" y=\"-944.3\">(None, 60, 1024)</text>\n",
       "<polyline fill=\"none\" points=\"1385.5,-936.5 1495.5,-936.5 \" stroke=\"#000000\"/>\n",
       "<text fill=\"#000000\" font-family=\"Times,serif\" font-size=\"14.00\" text-anchor=\"middle\" x=\"1440.5\" y=\"-921.3\">(None, 60, 1024)</text>\n",
       "</g>\n",
       "<!-- 139798555621864&#45;&gt;139798551383400 -->\n",
       "<g class=\"edge\" id=\"edge38\">\n",
       "<title>139798555621864-&gt;139798551383400</title>\n",
       "<path d=\"M1141.3366,-996.4901C1165.4465,-986.2803 1193.9882,-974.1938 1219.1123,-963.5545\" fill=\"none\" stroke=\"#000000\"/>\n",
       "<polygon fill=\"#000000\" points=\"1220.7141,-966.6771 1228.5577,-959.5547 1217.9844,-960.2313 1220.7141,-966.6771\" stroke=\"#000000\"/>\n",
       "</g>\n",
       "<!-- 139798550947320 -->\n",
       "<g class=\"node\" id=\"node28\">\n",
       "<title>139798550947320</title>\n",
       "<polygon fill=\"none\" points=\"1531,-830.5 1531,-876.5 1819,-876.5 1819,-830.5 1531,-830.5\" stroke=\"#000000\"/>\n",
       "<text fill=\"#000000\" font-family=\"Times,serif\" font-size=\"14.00\" text-anchor=\"middle\" x=\"1592.5\" y=\"-849.8\">conv1d_8: Conv1D</text>\n",
       "<polyline fill=\"none\" points=\"1654,-830.5 1654,-876.5 \" stroke=\"#000000\"/>\n",
       "<text fill=\"#000000\" font-family=\"Times,serif\" font-size=\"14.00\" text-anchor=\"middle\" x=\"1681.5\" y=\"-861.3\">input:</text>\n",
       "<polyline fill=\"none\" points=\"1654,-853.5 1709,-853.5 \" stroke=\"#000000\"/>\n",
       "<text fill=\"#000000\" font-family=\"Times,serif\" font-size=\"14.00\" text-anchor=\"middle\" x=\"1681.5\" y=\"-838.3\">output:</text>\n",
       "<polyline fill=\"none\" points=\"1709,-830.5 1709,-876.5 \" stroke=\"#000000\"/>\n",
       "<text fill=\"#000000\" font-family=\"Times,serif\" font-size=\"14.00\" text-anchor=\"middle\" x=\"1764\" y=\"-861.3\">(None, 60, 1024)</text>\n",
       "<polyline fill=\"none\" points=\"1709,-853.5 1819,-853.5 \" stroke=\"#000000\"/>\n",
       "<text fill=\"#000000\" font-family=\"Times,serif\" font-size=\"14.00\" text-anchor=\"middle\" x=\"1764\" y=\"-838.3\">(None, 60, 512)</text>\n",
       "</g>\n",
       "<!-- 139798551383400&#45;&gt;139798550947320 -->\n",
       "<g class=\"edge\" id=\"edge39\">\n",
       "<title>139798551383400-&gt;139798550947320</title>\n",
       "<path d=\"M1391.6733,-913.4901C1442.7606,-902.6731 1503.7974,-889.7495 1556.1138,-878.6723\" fill=\"none\" stroke=\"#000000\"/>\n",
       "<polygon fill=\"#000000\" points=\"1557.0572,-882.0503 1566.1153,-876.5547 1555.6072,-875.2021 1557.0572,-882.0503\" stroke=\"#000000\"/>\n",
       "</g>\n",
       "<!-- 139798550763224 -->\n",
       "<g class=\"node\" id=\"node29\">\n",
       "<title>139798550763224</title>\n",
       "<polygon fill=\"none\" points=\"1467.5,-747.5 1467.5,-793.5 1886.5,-793.5 1886.5,-747.5 1467.5,-747.5\" stroke=\"#000000\"/>\n",
       "<text fill=\"#000000\" font-family=\"Times,serif\" font-size=\"14.00\" text-anchor=\"middle\" x=\"1597.5\" y=\"-766.8\">batch_normalization_7: BatchNormalization</text>\n",
       "<polyline fill=\"none\" points=\"1727.5,-747.5 1727.5,-793.5 \" stroke=\"#000000\"/>\n",
       "<text fill=\"#000000\" font-family=\"Times,serif\" font-size=\"14.00\" text-anchor=\"middle\" x=\"1755\" y=\"-778.3\">input:</text>\n",
       "<polyline fill=\"none\" points=\"1727.5,-770.5 1782.5,-770.5 \" stroke=\"#000000\"/>\n",
       "<text fill=\"#000000\" font-family=\"Times,serif\" font-size=\"14.00\" text-anchor=\"middle\" x=\"1755\" y=\"-755.3\">output:</text>\n",
       "<polyline fill=\"none\" points=\"1782.5,-747.5 1782.5,-793.5 \" stroke=\"#000000\"/>\n",
       "<text fill=\"#000000\" font-family=\"Times,serif\" font-size=\"14.00\" text-anchor=\"middle\" x=\"1834.5\" y=\"-778.3\">(None, 60, 512)</text>\n",
       "<polyline fill=\"none\" points=\"1782.5,-770.5 1886.5,-770.5 \" stroke=\"#000000\"/>\n",
       "<text fill=\"#000000\" font-family=\"Times,serif\" font-size=\"14.00\" text-anchor=\"middle\" x=\"1834.5\" y=\"-755.3\">(None, 60, 512)</text>\n",
       "</g>\n",
       "<!-- 139798550947320&#45;&gt;139798550763224 -->\n",
       "<g class=\"edge\" id=\"edge40\">\n",
       "<title>139798550947320-&gt;139798550763224</title>\n",
       "<path d=\"M1675.5571,-830.3799C1675.7548,-822.1745 1675.9815,-812.7679 1676.1957,-803.8786\" fill=\"none\" stroke=\"#000000\"/>\n",
       "<polygon fill=\"#000000\" points=\"1679.6969,-803.8655 1676.4389,-793.784 1672.699,-803.6968 1679.6969,-803.8655\" stroke=\"#000000\"/>\n",
       "</g>\n",
       "<!-- 139798140476608 -->\n",
       "<g class=\"node\" id=\"node30\">\n",
       "<title>139798140476608</title>\n",
       "<polygon fill=\"none\" points=\"1613,-664.5 1613,-710.5 1859,-710.5 1859,-664.5 1613,-664.5\" stroke=\"#000000\"/>\n",
       "<text fill=\"#000000\" font-family=\"Times,serif\" font-size=\"14.00\" text-anchor=\"middle\" x=\"1656.5\" y=\"-683.8\">elu_25: ELU</text>\n",
       "<polyline fill=\"none\" points=\"1700,-664.5 1700,-710.5 \" stroke=\"#000000\"/>\n",
       "<text fill=\"#000000\" font-family=\"Times,serif\" font-size=\"14.00\" text-anchor=\"middle\" x=\"1727.5\" y=\"-695.3\">input:</text>\n",
       "<polyline fill=\"none\" points=\"1700,-687.5 1755,-687.5 \" stroke=\"#000000\"/>\n",
       "<text fill=\"#000000\" font-family=\"Times,serif\" font-size=\"14.00\" text-anchor=\"middle\" x=\"1727.5\" y=\"-672.3\">output:</text>\n",
       "<polyline fill=\"none\" points=\"1755,-664.5 1755,-710.5 \" stroke=\"#000000\"/>\n",
       "<text fill=\"#000000\" font-family=\"Times,serif\" font-size=\"14.00\" text-anchor=\"middle\" x=\"1807\" y=\"-695.3\">(None, 60, 512)</text>\n",
       "<polyline fill=\"none\" points=\"1755,-687.5 1859,-687.5 \" stroke=\"#000000\"/>\n",
       "<text fill=\"#000000\" font-family=\"Times,serif\" font-size=\"14.00\" text-anchor=\"middle\" x=\"1807\" y=\"-672.3\">(None, 60, 512)</text>\n",
       "</g>\n",
       "<!-- 139798550763224&#45;&gt;139798140476608 -->\n",
       "<g class=\"edge\" id=\"edge41\">\n",
       "<title>139798550763224-&gt;139798140476608</title>\n",
       "<path d=\"M1693.4348,-747.3799C1699.6479,-738.6394 1706.8299,-728.5358 1713.5043,-719.1465\" fill=\"none\" stroke=\"#000000\"/>\n",
       "<polygon fill=\"#000000\" points=\"1716.5076,-720.9624 1719.4487,-710.784 1710.8022,-716.9068 1716.5076,-720.9624\" stroke=\"#000000\"/>\n",
       "</g>\n",
       "<!-- 139798139975720 -->\n",
       "<g class=\"node\" id=\"node31\">\n",
       "<title>139798139975720</title>\n",
       "<polygon fill=\"none\" points=\"1603,-581.5 1603,-627.5 1887,-627.5 1887,-581.5 1603,-581.5\" stroke=\"#000000\"/>\n",
       "<text fill=\"#000000\" font-family=\"Times,serif\" font-size=\"14.00\" text-anchor=\"middle\" x=\"1665.5\" y=\"-600.8\">dropout_6: Dropout</text>\n",
       "<polyline fill=\"none\" points=\"1728,-581.5 1728,-627.5 \" stroke=\"#000000\"/>\n",
       "<text fill=\"#000000\" font-family=\"Times,serif\" font-size=\"14.00\" text-anchor=\"middle\" x=\"1755.5\" y=\"-612.3\">input:</text>\n",
       "<polyline fill=\"none\" points=\"1728,-604.5 1783,-604.5 \" stroke=\"#000000\"/>\n",
       "<text fill=\"#000000\" font-family=\"Times,serif\" font-size=\"14.00\" text-anchor=\"middle\" x=\"1755.5\" y=\"-589.3\">output:</text>\n",
       "<polyline fill=\"none\" points=\"1783,-581.5 1783,-627.5 \" stroke=\"#000000\"/>\n",
       "<text fill=\"#000000\" font-family=\"Times,serif\" font-size=\"14.00\" text-anchor=\"middle\" x=\"1835\" y=\"-612.3\">(None, 60, 512)</text>\n",
       "<polyline fill=\"none\" points=\"1783,-604.5 1887,-604.5 \" stroke=\"#000000\"/>\n",
       "<text fill=\"#000000\" font-family=\"Times,serif\" font-size=\"14.00\" text-anchor=\"middle\" x=\"1835\" y=\"-589.3\">(None, 60, 512)</text>\n",
       "</g>\n",
       "<!-- 139798140476608&#45;&gt;139798139975720 -->\n",
       "<g class=\"edge\" id=\"edge42\">\n",
       "<title>139798140476608-&gt;139798139975720</title>\n",
       "<path d=\"M1738.507,-664.3799C1739.3967,-656.1745 1740.4167,-646.7679 1741.3806,-637.8786\" fill=\"none\" stroke=\"#000000\"/>\n",
       "<polygon fill=\"#000000\" points=\"1744.8767,-638.1031 1742.4752,-627.784 1737.9175,-637.3484 1744.8767,-638.1031\" stroke=\"#000000\"/>\n",
       "</g>\n",
       "<!-- 139798139975720&#45;&gt;139798139974768 -->\n",
       "<g class=\"edge\" id=\"edge43\">\n",
       "<title>139798139975720-&gt;139798139974768</title>\n",
       "<path d=\"M1792.3545,-581.3799C1812.9,-571.3488 1837.1229,-559.5224 1858.5915,-549.0406\" fill=\"none\" stroke=\"#000000\"/>\n",
       "<polygon fill=\"#000000\" points=\"1860.1544,-552.1725 1867.6049,-544.6399 1857.0832,-545.8822 1860.1544,-552.1725\" stroke=\"#000000\"/>\n",
       "</g>\n",
       "<!-- 139798139975720&#45;&gt;139798139820408 -->\n",
       "<g class=\"edge\" id=\"edge45\">\n",
       "<title>139798139975720-&gt;139798139820408</title>\n",
       "<path d=\"M1887.3991,-583.0041C1891.9859,-582.326 1896.5288,-581.6565 1901,-581 1980.7893,-569.2843 2069.2334,-556.5928 2143.9824,-545.9525\" fill=\"none\" stroke=\"#000000\"/>\n",
       "<polygon fill=\"#000000\" points=\"2144.5586,-549.4059 2153.9658,-544.532 2143.5724,-542.4757 2144.5586,-549.4059\" stroke=\"#000000\"/>\n",
       "</g>\n",
       "<!-- 139798139975720&#45;&gt;139798139530040 -->\n",
       "<g class=\"edge\" id=\"edge47\">\n",
       "<title>139798139975720-&gt;139798139530040</title>\n",
       "<path d=\"M1602.6161,-582.8971C1598.025,-582.2498 1593.477,-581.6158 1589,-581 1498.5503,-568.5599 1398.3109,-555.9087 1313.0829,-545.4891\" fill=\"none\" stroke=\"#000000\"/>\n",
       "<polygon fill=\"#000000\" points=\"1313.3819,-541.9997 1303.0315,-544.2621 1312.5337,-548.9481 1313.3819,-541.9997\" stroke=\"#000000\"/>\n",
       "</g>\n",
       "<!-- 139798139975720&#45;&gt;139798138266232 -->\n",
       "<g class=\"edge\" id=\"edge49\">\n",
       "<title>139798139975720-&gt;139798138266232</title>\n",
       "<path d=\"M1680.6832,-581.4901C1651.6421,-571.1004 1617.1686,-558.7672 1587.0539,-547.9934\" fill=\"none\" stroke=\"#000000\"/>\n",
       "<polygon fill=\"#000000\" points=\"1588.0365,-544.6278 1577.442,-544.5547 1585.6785,-551.2187 1588.0365,-544.6278\" stroke=\"#000000\"/>\n",
       "</g>\n",
       "<!-- 139798139442176 -->\n",
       "<g class=\"node\" id=\"node37\">\n",
       "<title>139798139442176</title>\n",
       "<polygon fill=\"none\" points=\"936.5,-332.5 936.5,-378.5 1467.5,-378.5 1467.5,-332.5 936.5,-332.5\" stroke=\"#000000\"/>\n",
       "<text fill=\"#000000\" font-family=\"Times,serif\" font-size=\"14.00\" text-anchor=\"middle\" x=\"1067.5\" y=\"-351.8\">residual_combine1d_2: ResidualCombine1D</text>\n",
       "<polyline fill=\"none\" points=\"1198.5,-332.5 1198.5,-378.5 \" stroke=\"#000000\"/>\n",
       "<text fill=\"#000000\" font-family=\"Times,serif\" font-size=\"14.00\" text-anchor=\"middle\" x=\"1226\" y=\"-363.3\">input:</text>\n",
       "<polyline fill=\"none\" points=\"1198.5,-355.5 1253.5,-355.5 \" stroke=\"#000000\"/>\n",
       "<text fill=\"#000000\" font-family=\"Times,serif\" font-size=\"14.00\" text-anchor=\"middle\" x=\"1226\" y=\"-340.3\">output:</text>\n",
       "<polyline fill=\"none\" points=\"1253.5,-332.5 1253.5,-378.5 \" stroke=\"#000000\"/>\n",
       "<text fill=\"#000000\" font-family=\"Times,serif\" font-size=\"14.00\" text-anchor=\"middle\" x=\"1360.5\" y=\"-363.3\">[(None, 60, 512), (None, 60, 2048)]</text>\n",
       "<polyline fill=\"none\" points=\"1253.5,-355.5 1467.5,-355.5 \" stroke=\"#000000\"/>\n",
       "<text fill=\"#000000\" font-family=\"Times,serif\" font-size=\"14.00\" text-anchor=\"middle\" x=\"1360.5\" y=\"-340.3\">[(None, 60, 1024), (1,), (1,)]</text>\n",
       "</g>\n",
       "<!-- 139798139975720&#45;&gt;139798139442176 -->\n",
       "<g class=\"edge\" id=\"edge55\">\n",
       "<title>139798139975720-&gt;139798139442176</title>\n",
       "<path d=\"M1602.6271,-599.3537C1370.352,-590.2581 933.214,-569.927 910,-545 841.1343,-471.0525 986.7908,-412.862 1096.1214,-381.3909\" fill=\"none\" stroke=\"#000000\"/>\n",
       "<polygon fill=\"#000000\" points=\"1097.2481,-384.7095 1105.9143,-378.6147 1095.3388,-377.9749 1097.2481,-384.7095\" stroke=\"#000000\"/>\n",
       "</g>\n",
       "<!-- 139798136987776 -->\n",
       "<g class=\"node\" id=\"node36\">\n",
       "<title>139798136987776</title>\n",
       "<polygon fill=\"none\" points=\"1208.5,-415.5 1208.5,-461.5 1817.5,-461.5 1817.5,-415.5 1208.5,-415.5\" stroke=\"#000000\"/>\n",
       "<text fill=\"#000000\" font-family=\"Times,serif\" font-size=\"14.00\" text-anchor=\"middle\" x=\"1287.5\" y=\"-434.8\">concat_sa_3: Concatenate</text>\n",
       "<polyline fill=\"none\" points=\"1366.5,-415.5 1366.5,-461.5 \" stroke=\"#000000\"/>\n",
       "<text fill=\"#000000\" font-family=\"Times,serif\" font-size=\"14.00\" text-anchor=\"middle\" x=\"1394\" y=\"-446.3\">input:</text>\n",
       "<polyline fill=\"none\" points=\"1366.5,-438.5 1421.5,-438.5 \" stroke=\"#000000\"/>\n",
       "<text fill=\"#000000\" font-family=\"Times,serif\" font-size=\"14.00\" text-anchor=\"middle\" x=\"1394\" y=\"-423.3\">output:</text>\n",
       "<polyline fill=\"none\" points=\"1421.5,-415.5 1421.5,-461.5 \" stroke=\"#000000\"/>\n",
       "<text fill=\"#000000\" font-family=\"Times,serif\" font-size=\"14.00\" text-anchor=\"middle\" x=\"1619.5\" y=\"-446.3\">[(None, 60, 512), (None, 60, 512), (None, 60, 512), (None, 60, 512)]</text>\n",
       "<polyline fill=\"none\" points=\"1421.5,-438.5 1817.5,-438.5 \" stroke=\"#000000\"/>\n",
       "<text fill=\"#000000\" font-family=\"Times,serif\" font-size=\"14.00\" text-anchor=\"middle\" x=\"1619.5\" y=\"-423.3\">(None, 60, 2048)</text>\n",
       "</g>\n",
       "<!-- 139798139974768&#45;&gt;139798136987776 -->\n",
       "<g class=\"edge\" id=\"edge51\">\n",
       "<title>139798139974768-&gt;139798136987776</title>\n",
       "<path d=\"M1803.5544,-498.4901C1751.0549,-487.6506 1688.3097,-474.6958 1634.5845,-463.6033\" fill=\"none\" stroke=\"#000000\"/>\n",
       "<polygon fill=\"#000000\" points=\"1635.1635,-460.1491 1624.6624,-461.5547 1633.7481,-467.0045 1635.1635,-460.1491\" stroke=\"#000000\"/>\n",
       "</g>\n",
       "<!-- 139798139820408&#45;&gt;139798136987776 -->\n",
       "<g class=\"edge\" id=\"edge52\">\n",
       "<title>139798139820408-&gt;139798136987776</title>\n",
       "<path d=\"M2124.9758,-498.9734C2121.9627,-498.6447 2118.9692,-498.32 2116,-498 2001.3911,-485.6468 1874.415,-472.9674 1766.6579,-462.5043\" fill=\"none\" stroke=\"#000000\"/>\n",
       "<polygon fill=\"#000000\" points=\"1766.9142,-459.0129 1756.623,-461.531 1766.2384,-465.9802 1766.9142,-459.0129\" stroke=\"#000000\"/>\n",
       "</g>\n",
       "<!-- 139798139530040&#45;&gt;139798136987776 -->\n",
       "<g class=\"edge\" id=\"edge53\">\n",
       "<title>139798139530040-&gt;139798136987776</title>\n",
       "<path d=\"M1222.4456,-498.4901C1274.9451,-487.6506 1337.6903,-474.6958 1391.4155,-463.6033\" fill=\"none\" stroke=\"#000000\"/>\n",
       "<polygon fill=\"#000000\" points=\"1392.2519,-467.0045 1401.3376,-461.5547 1390.8365,-460.1491 1392.2519,-467.0045\" stroke=\"#000000\"/>\n",
       "</g>\n",
       "<!-- 139798138266232&#45;&gt;139798136987776 -->\n",
       "<g class=\"edge\" id=\"edge54\">\n",
       "<title>139798138266232-&gt;139798136987776</title>\n",
       "<path d=\"M1513,-498.3799C1513,-490.1745 1513,-480.7679 1513,-471.8786\" fill=\"none\" stroke=\"#000000\"/>\n",
       "<polygon fill=\"#000000\" points=\"1516.5001,-471.784 1513,-461.784 1509.5001,-471.784 1516.5001,-471.784\" stroke=\"#000000\"/>\n",
       "</g>\n",
       "<!-- 139798136987776&#45;&gt;139798139442176 -->\n",
       "<g class=\"edge\" id=\"edge56\">\n",
       "<title>139798136987776-&gt;139798139442176</title>\n",
       "<path d=\"M1426.7822,-415.4901C1386.841,-404.8306 1339.2343,-392.1252 1298.1369,-381.1571\" fill=\"none\" stroke=\"#000000\"/>\n",
       "<polygon fill=\"#000000\" points=\"1298.9499,-377.7517 1288.3856,-378.5547 1297.1449,-384.5149 1298.9499,-377.7517\" stroke=\"#000000\"/>\n",
       "</g>\n",
       "<!-- 139798135488464 -->\n",
       "<g class=\"node\" id=\"node38\">\n",
       "<title>139798135488464</title>\n",
       "<polygon fill=\"none\" points=\"989.5,-249.5 989.5,-295.5 1414.5,-295.5 1414.5,-249.5 989.5,-249.5\" stroke=\"#000000\"/>\n",
       "<text fill=\"#000000\" font-family=\"Times,serif\" font-size=\"14.00\" text-anchor=\"middle\" x=\"1119.5\" y=\"-268.8\">batch_normalization_8: BatchNormalization</text>\n",
       "<polyline fill=\"none\" points=\"1249.5,-249.5 1249.5,-295.5 \" stroke=\"#000000\"/>\n",
       "<text fill=\"#000000\" font-family=\"Times,serif\" font-size=\"14.00\" text-anchor=\"middle\" x=\"1277\" y=\"-280.3\">input:</text>\n",
       "<polyline fill=\"none\" points=\"1249.5,-272.5 1304.5,-272.5 \" stroke=\"#000000\"/>\n",
       "<text fill=\"#000000\" font-family=\"Times,serif\" font-size=\"14.00\" text-anchor=\"middle\" x=\"1277\" y=\"-257.3\">output:</text>\n",
       "<polyline fill=\"none\" points=\"1304.5,-249.5 1304.5,-295.5 \" stroke=\"#000000\"/>\n",
       "<text fill=\"#000000\" font-family=\"Times,serif\" font-size=\"14.00\" text-anchor=\"middle\" x=\"1359.5\" y=\"-280.3\">(None, 60, 1024)</text>\n",
       "<polyline fill=\"none\" points=\"1304.5,-272.5 1414.5,-272.5 \" stroke=\"#000000\"/>\n",
       "<text fill=\"#000000\" font-family=\"Times,serif\" font-size=\"14.00\" text-anchor=\"middle\" x=\"1359.5\" y=\"-257.3\">(None, 60, 1024)</text>\n",
       "</g>\n",
       "<!-- 139798139442176&#45;&gt;139798135488464 -->\n",
       "<g class=\"edge\" id=\"edge57\">\n",
       "<title>139798139442176-&gt;139798135488464</title>\n",
       "<path d=\"M1202,-332.3799C1202,-324.1745 1202,-314.7679 1202,-305.8786\" fill=\"none\" stroke=\"#000000\"/>\n",
       "<polygon fill=\"#000000\" points=\"1205.5001,-305.784 1202,-295.784 1198.5001,-305.784 1205.5001,-305.784\" stroke=\"#000000\"/>\n",
       "</g>\n",
       "<!-- 139798135487512 -->\n",
       "<g class=\"node\" id=\"node39\">\n",
       "<title>139798135487512</title>\n",
       "<polygon fill=\"none\" points=\"1058,-166.5 1058,-212.5 1346,-212.5 1346,-166.5 1058,-166.5\" stroke=\"#000000\"/>\n",
       "<text fill=\"#000000\" font-family=\"Times,serif\" font-size=\"14.00\" text-anchor=\"middle\" x=\"1119.5\" y=\"-185.8\">conv1d_9: Conv1D</text>\n",
       "<polyline fill=\"none\" points=\"1181,-166.5 1181,-212.5 \" stroke=\"#000000\"/>\n",
       "<text fill=\"#000000\" font-family=\"Times,serif\" font-size=\"14.00\" text-anchor=\"middle\" x=\"1208.5\" y=\"-197.3\">input:</text>\n",
       "<polyline fill=\"none\" points=\"1181,-189.5 1236,-189.5 \" stroke=\"#000000\"/>\n",
       "<text fill=\"#000000\" font-family=\"Times,serif\" font-size=\"14.00\" text-anchor=\"middle\" x=\"1208.5\" y=\"-174.3\">output:</text>\n",
       "<polyline fill=\"none\" points=\"1236,-166.5 1236,-212.5 \" stroke=\"#000000\"/>\n",
       "<text fill=\"#000000\" font-family=\"Times,serif\" font-size=\"14.00\" text-anchor=\"middle\" x=\"1291\" y=\"-197.3\">(None, 60, 1024)</text>\n",
       "<polyline fill=\"none\" points=\"1236,-189.5 1346,-189.5 \" stroke=\"#000000\"/>\n",
       "<text fill=\"#000000\" font-family=\"Times,serif\" font-size=\"14.00\" text-anchor=\"middle\" x=\"1291\" y=\"-174.3\">(None, 60, 512)</text>\n",
       "</g>\n",
       "<!-- 139798135488464&#45;&gt;139798135487512 -->\n",
       "<g class=\"edge\" id=\"edge58\">\n",
       "<title>139798135488464-&gt;139798135487512</title>\n",
       "<path d=\"M1202,-249.3799C1202,-241.1745 1202,-231.7679 1202,-222.8786\" fill=\"none\" stroke=\"#000000\"/>\n",
       "<polygon fill=\"#000000\" points=\"1205.5001,-222.784 1202,-212.784 1198.5001,-222.784 1205.5001,-222.784\" stroke=\"#000000\"/>\n",
       "</g>\n",
       "<!-- 139798135282264 -->\n",
       "<g class=\"node\" id=\"node40\">\n",
       "<title>139798135282264</title>\n",
       "<polygon fill=\"none\" points=\"992.5,-83.5 992.5,-129.5 1411.5,-129.5 1411.5,-83.5 992.5,-83.5\" stroke=\"#000000\"/>\n",
       "<text fill=\"#000000\" font-family=\"Times,serif\" font-size=\"14.00\" text-anchor=\"middle\" x=\"1122.5\" y=\"-102.8\">batch_normalization_9: BatchNormalization</text>\n",
       "<polyline fill=\"none\" points=\"1252.5,-83.5 1252.5,-129.5 \" stroke=\"#000000\"/>\n",
       "<text fill=\"#000000\" font-family=\"Times,serif\" font-size=\"14.00\" text-anchor=\"middle\" x=\"1280\" y=\"-114.3\">input:</text>\n",
       "<polyline fill=\"none\" points=\"1252.5,-106.5 1307.5,-106.5 \" stroke=\"#000000\"/>\n",
       "<text fill=\"#000000\" font-family=\"Times,serif\" font-size=\"14.00\" text-anchor=\"middle\" x=\"1280\" y=\"-91.3\">output:</text>\n",
       "<polyline fill=\"none\" points=\"1307.5,-83.5 1307.5,-129.5 \" stroke=\"#000000\"/>\n",
       "<text fill=\"#000000\" font-family=\"Times,serif\" font-size=\"14.00\" text-anchor=\"middle\" x=\"1359.5\" y=\"-114.3\">(None, 60, 512)</text>\n",
       "<polyline fill=\"none\" points=\"1307.5,-106.5 1411.5,-106.5 \" stroke=\"#000000\"/>\n",
       "<text fill=\"#000000\" font-family=\"Times,serif\" font-size=\"14.00\" text-anchor=\"middle\" x=\"1359.5\" y=\"-91.3\">(None, 60, 512)</text>\n",
       "</g>\n",
       "<!-- 139798135487512&#45;&gt;139798135282264 -->\n",
       "<g class=\"edge\" id=\"edge59\">\n",
       "<title>139798135487512-&gt;139798135282264</title>\n",
       "<path d=\"M1202,-166.3799C1202,-158.1745 1202,-148.7679 1202,-139.8786\" fill=\"none\" stroke=\"#000000\"/>\n",
       "<polygon fill=\"#000000\" points=\"1205.5001,-139.784 1202,-129.784 1198.5001,-139.784 1205.5001,-139.784\" stroke=\"#000000\"/>\n",
       "</g>\n",
       "<!-- 139798134491008 -->\n",
       "<g class=\"node\" id=\"node41\">\n",
       "<title>139798134491008</title>\n",
       "<polygon fill=\"none\" points=\"1079,-.5 1079,-46.5 1325,-46.5 1325,-.5 1079,-.5\" stroke=\"#000000\"/>\n",
       "<text fill=\"#000000\" font-family=\"Times,serif\" font-size=\"14.00\" text-anchor=\"middle\" x=\"1122.5\" y=\"-19.8\">elu_43: ELU</text>\n",
       "<polyline fill=\"none\" points=\"1166,-.5 1166,-46.5 \" stroke=\"#000000\"/>\n",
       "<text fill=\"#000000\" font-family=\"Times,serif\" font-size=\"14.00\" text-anchor=\"middle\" x=\"1193.5\" y=\"-31.3\">input:</text>\n",
       "<polyline fill=\"none\" points=\"1166,-23.5 1221,-23.5 \" stroke=\"#000000\"/>\n",
       "<text fill=\"#000000\" font-family=\"Times,serif\" font-size=\"14.00\" text-anchor=\"middle\" x=\"1193.5\" y=\"-8.3\">output:</text>\n",
       "<polyline fill=\"none\" points=\"1221,-.5 1221,-46.5 \" stroke=\"#000000\"/>\n",
       "<text fill=\"#000000\" font-family=\"Times,serif\" font-size=\"14.00\" text-anchor=\"middle\" x=\"1273\" y=\"-31.3\">(None, 60, 512)</text>\n",
       "<polyline fill=\"none\" points=\"1221,-23.5 1325,-23.5 \" stroke=\"#000000\"/>\n",
       "<text fill=\"#000000\" font-family=\"Times,serif\" font-size=\"14.00\" text-anchor=\"middle\" x=\"1273\" y=\"-8.3\">(None, 60, 512)</text>\n",
       "</g>\n",
       "<!-- 139798135282264&#45;&gt;139798134491008 -->\n",
       "<g class=\"edge\" id=\"edge60\">\n",
       "<title>139798135282264-&gt;139798134491008</title>\n",
       "<path d=\"M1202,-83.3799C1202,-75.1745 1202,-65.7679 1202,-56.8786\" fill=\"none\" stroke=\"#000000\"/>\n",
       "<polygon fill=\"#000000\" points=\"1205.5001,-56.784 1202,-46.784 1198.5001,-56.784 1205.5001,-56.784\" stroke=\"#000000\"/>\n",
       "</g>\n",
       "</g>\n",
       "</svg>"
      ],
      "text/plain": [
       "<IPython.core.display.SVG object>"
      ]
     },
     "execution_count": 29,
     "metadata": {},
     "output_type": "execute_result"
    }
   ],
   "source": [
    "SVG(model_to_dot(textNet, show_layer_names=True, show_shapes=True).create(prog='dot', format='svg'))"
   ]
  },
  {
   "cell_type": "code",
   "execution_count": null,
   "metadata": {},
   "outputs": [],
   "source": []
  },
  {
   "cell_type": "markdown",
   "metadata": {},
   "source": [
    "# Define Complete Joint Network"
   ]
  },
  {
   "cell_type": "code",
   "execution_count": 30,
   "metadata": {
    "scrolled": true
   },
   "outputs": [
    {
     "name": "stdout",
     "output_type": "stream",
     "text": [
      "(?, 8, 8, 512)\n",
      "(?, 60, 512)\n"
     ]
    }
   ],
   "source": [
    "dropout_rate = 0.75\n",
    "image_input = kl.Input(shape=(256,256,3),name='image_input')\n",
    "image_features = imgNet(image_input)\n",
    "image_features = kl.Dropout(dropout_rate)(image_features)\n",
    "\n",
    "padding_masks = kl.Input(shape=(max_wlen,1),name='padding_masks')\n",
    "words_input = kl.Input(shape=(max_wlen,),name='words_input')\n",
    "\n",
    "text_features = textNet([words_input,padding_masks])\n",
    "text_features = kl.Dropout(dropout_rate)(text_features)\n",
    "print(image_features.shape)\n",
    "print(text_features.shape)"
   ]
  },
  {
   "cell_type": "code",
   "execution_count": null,
   "metadata": {},
   "outputs": [],
   "source": []
  },
  {
   "cell_type": "code",
   "execution_count": 31,
   "metadata": {},
   "outputs": [],
   "source": [
    "a_out_im_1,beta_im_1 = AM.Img2TextCA(text_ch=int(text_features.shape[-1]),img_ch=int(image_features.shape[-1]),name='img2text_1')([image_features,text_features,padding_masks])\n",
    "a_out_im_1 = kl.BatchNormalization()(a_out_im_1)\n",
    "# a_out_im_1 = kl.ELU(alpha=elu_alpha)(a_out_im_1)\n",
    "a_out_im_2,beta_im_2 = AM.Img2TextCA(text_ch=int(text_features.shape[-1]),img_ch=int(image_features.shape[-1]),name='img2text_2')([image_features,text_features,padding_masks])\n",
    "a_out_im_2 = kl.BatchNormalization()(a_out_im_2)\n",
    "# a_out_im_2 = kl.ELU(alpha=elu_alpha)(a_out_im_2)\n",
    "a_out_im_3,beta_im_3 = AM.Img2TextCA(text_ch=int(text_features.shape[-1]),img_ch=int(image_features.shape[-1]),name='img2text_3')([image_features,text_features,padding_masks])\n",
    "a_out_im_3 = kl.BatchNormalization()(a_out_im_3)\n",
    "# a_out_im_3 = kl.ELU(alpha=elu_alpha)(a_out_im_3)\n",
    "a_out_im_4,beta_im_4 = AM.Img2TextCA(text_ch=int(text_features.shape[-1]),img_ch=int(image_features.shape[-1]),name='img2text_4')([image_features,text_features,padding_masks])\n",
    "a_out_im_4 = kl.BatchNormalization()(a_out_im_4)\n",
    "# a_out_im_4 = kl.ELU(alpha=elu_alpha)(a_out_im_4)\n",
    "a_conc_im_out = kl.Concatenate(name='img2text_concat')([a_out_im_1,a_out_im_2,a_out_im_3,a_out_im_4])\n",
    "# a_conc_im_out = kl.BatchNormalization()(a_conc_im_out)\n",
    "# print('a_conc_im_out.shape:',a_conc_im_out.shape)\n",
    "\n",
    "img2text_comb,g1,g2 = AM.ResidualCombine2D(ch_in=int(a_conc_im_out.shape[-1]),ch_out=512)([image_features,a_conc_im_out])\n",
    "img2text_comb = kl.BatchNormalization(name='img2text_comb_batchnorm')(img2text_comb)\n",
    "img2text_comb = kl.ELU(alpha=elu_alpha)(img2text_comb)\n",
    "img2text_comb = kl.Dropout(0.5)(img2text_comb)\n",
    "img2text_pool = kl.GlobalAveragePooling2D(name='img2text_global_pool')(img2text_comb)\n"
   ]
  },
  {
   "cell_type": "code",
   "execution_count": 32,
   "metadata": {},
   "outputs": [],
   "source": [
    "a_out_1,beta_1 = AM.Text2ImgCA(text_ch=int(text_features.shape[-1]),img_ch=int(image_features.shape[-1]),name='text2img_1')([text_features,image_features,padding_masks])\n",
    "a_out_1 = kl.BatchNormalization()(a_out_1)\n",
    "# a_out_1 = kl.ELU(alpha=elu_alpha)(a_out_1)\n",
    "# print(a_out_1.shape)\n",
    "a_out_2,beta_2 = AM.Text2ImgCA(text_ch=int(text_features.shape[-1]),img_ch=int(image_features.shape[-1]),name='text2img_2')([text_features,image_features,padding_masks])\n",
    "a_out_2 = kl.BatchNormalization()(a_out_2)\n",
    "# a_out_2 = kl.ELU(alpha=elu_alpha)(a_out_2)\n",
    "# print(a_out_2.shape)\n",
    "a_out_3,beta_3 = AM.Text2ImgCA(text_ch=int(text_features.shape[-1]),img_ch=int(image_features.shape[-1]),name='text2img_3')([text_features,image_features,padding_masks])\n",
    "a_out_3 = kl.BatchNormalization()(a_out_3)\n",
    "# a_out_3 = kl.ELU(alpha=elu_alpha)(a_out_3)\n",
    "# print(a_out_3.shape)\n",
    "a_out_4,beta_4 = AM.Text2ImgCA(text_ch=int(text_features.shape[-1]),img_ch=int(image_features.shape[-1]),name='text2img_4')([text_features,image_features,padding_masks])\n",
    "a_out_4 = kl.BatchNormalization()(a_out_4)\n",
    "# a_out_4 = kl.ELU(alpha=elu_alpha)(a_out_4)\n",
    "# print(a_out_4.shape)\n",
    "a_conc_out = kl.Concatenate(name='text2img_concat')([a_out_1,a_out_2,a_out_3,a_out_4])\n",
    "a_conc_out = kl.BatchNormalization()(a_conc_out)\n",
    "# print('a_conc_out.shape:',a_conc_out.shape)\n",
    "\n",
    "text2img_comb,g1,g2 = AM.ResidualCombine1D(ch_in=int(a_conc_out.shape[-1]),mode='add',ch_out=512)([text_features,a_conc_out])\n",
    "text2img_comb = kl.BatchNormalization(name='text2img_comb_batchnorm')(text2img_comb)\n",
    "text2img_comb = kl.ELU(alpha=elu_alpha)(text2img_comb)\n",
    "text2img_comb = kl.Dropout(dropout_rate)(text2img_comb)\n",
    "text2img_pool = kl.GlobalAveragePooling1D(name='text2img_global_pool')(text2img_comb)\n"
   ]
  },
  {
   "cell_type": "code",
   "execution_count": 33,
   "metadata": {
    "scrolled": true
   },
   "outputs": [],
   "source": [
    "all_concat = kl.Concatenate()([img2text_pool,text2img_pool])\n",
    "cross_pool = kl.Dense(512)(all_concat)\n",
    "cross_pool = kl.ELU(alpha=elu_alpha)(cross_pool)\n",
    "cross_pool = kl.Dropout(dropout_rate)(cross_pool)\n",
    "target = kl.Dense(vocab_size+1, activation='softmax',name='target_word')(cross_pool)\n",
    "model = Model([image_input,words_input,padding_masks],target)\n"
   ]
  },
  {
   "cell_type": "code",
   "execution_count": 34,
   "metadata": {
    "scrolled": true
   },
   "outputs": [],
   "source": [
    "# json_file = open('../model_json/{0}_{1}_text_img_attention.json'.format(img_arch,text_arch), 'r')\n",
    "# loaded_model_json = json_file.read()\n",
    "# json_file.close()\n",
    "# loaded_model = model_from_json(loaded_model_json)"
   ]
  },
  {
   "cell_type": "code",
   "execution_count": 35,
   "metadata": {},
   "outputs": [],
   "source": [
    "# loaded_model_json"
   ]
  },
  {
   "cell_type": "code",
   "execution_count": 36,
   "metadata": {},
   "outputs": [],
   "source": [
    "# loaded_model==model"
   ]
  },
  {
   "cell_type": "code",
   "execution_count": 37,
   "metadata": {
    "scrolled": true
   },
   "outputs": [
    {
     "name": "stdout",
     "output_type": "stream",
     "text": [
      "Existing model vgg_1dcnn_text_img_attention. trained weights will be loaded\n"
     ]
    }
   ],
   "source": [
    "l = textNet.get_layer('w2v_emb')\n",
    "l.set_weights([embedding_matrix])\n",
    "l.trainable = False\n",
    "if not os.path.exists('../checkpoints/{0}.h5'.format(model_name)):\n",
    "    print('New model {0}.'.format(model_name))\n",
    "else:\n",
    "    print('Existing model {0}. trained weights will be loaded'.format(model_name))\n",
    "    model.load_weights('../checkpoints/{0}.h5'.format(model_name))"
   ]
  },
  {
   "cell_type": "code",
   "execution_count": 38,
   "metadata": {},
   "outputs": [],
   "source": [
    "# w_to_co\n",
    "# textNet.load_weights('../checkpoints/irv2_1dcnn_attention_text_module.h5')\n",
    "# imgNet.load_weights('../checkpoints/irv2_1dcnn_attention_img_module.h5')"
   ]
  },
  {
   "cell_type": "code",
   "execution_count": 39,
   "metadata": {
    "scrolled": true
   },
   "outputs": [
    {
     "name": "stdout",
     "output_type": "stream",
     "text": [
      "__________________________________________________________________________________________________\n",
      "Layer (type)                    Output Shape         Param #     Connected to                     \n",
      "==================================================================================================\n",
      "image_input (InputLayer)        (None, 256, 256, 3)  0                                            \n",
      "__________________________________________________________________________________________________\n",
      "words_input (InputLayer)        (None, 60)           0                                            \n",
      "__________________________________________________________________________________________________\n",
      "padding_masks (InputLayer)      (None, 60, 1)        0                                            \n",
      "__________________________________________________________________________________________________\n",
      "imgModel (Model)                (None, 8, 8, 512)    17161216    image_input[0][0]                \n",
      "__________________________________________________________________________________________________\n",
      "textModel (Model)               (None, 60, 512)      12386608    words_input[0][0]                \n",
      "                                                                 padding_masks[0][0]              \n",
      "__________________________________________________________________________________________________\n",
      "dropout_7 (Dropout)             (None, 8, 8, 512)    0           imgModel[1][0]                   \n",
      "__________________________________________________________________________________________________\n",
      "dropout_8 (Dropout)             (None, 60, 512)      0           textModel[1][0]                  \n",
      "__________________________________________________________________________________________________\n",
      "text2img_1 (Text2ImgCA)         [(None, 60, 512), (6 1050624     dropout_8[0][0]                  \n",
      "                                                                 dropout_7[0][0]                  \n",
      "                                                                 padding_masks[0][0]              \n",
      "__________________________________________________________________________________________________\n",
      "text2img_2 (Text2ImgCA)         [(None, 60, 512), (6 1050624     dropout_8[0][0]                  \n",
      "                                                                 dropout_7[0][0]                  \n",
      "                                                                 padding_masks[0][0]              \n",
      "__________________________________________________________________________________________________\n",
      "text2img_3 (Text2ImgCA)         [(None, 60, 512), (6 1050624     dropout_8[0][0]                  \n",
      "                                                                 dropout_7[0][0]                  \n",
      "                                                                 padding_masks[0][0]              \n",
      "__________________________________________________________________________________________________\n",
      "text2img_4 (Text2ImgCA)         [(None, 60, 512), (6 1050624     dropout_8[0][0]                  \n",
      "                                                                 dropout_7[0][0]                  \n",
      "                                                                 padding_masks[0][0]              \n",
      "__________________________________________________________________________________________________\n",
      "img2text_1 (Img2TextCA)         [(None, 8, 8, 512),  1050624     dropout_7[0][0]                  \n",
      "                                                                 dropout_8[0][0]                  \n",
      "                                                                 padding_masks[0][0]              \n",
      "__________________________________________________________________________________________________\n",
      "img2text_2 (Img2TextCA)         [(None, 8, 8, 512),  1050624     dropout_7[0][0]                  \n",
      "                                                                 dropout_8[0][0]                  \n",
      "                                                                 padding_masks[0][0]              \n",
      "__________________________________________________________________________________________________\n",
      "img2text_3 (Img2TextCA)         [(None, 8, 8, 512),  1050624     dropout_7[0][0]                  \n",
      "                                                                 dropout_8[0][0]                  \n",
      "                                                                 padding_masks[0][0]              \n",
      "__________________________________________________________________________________________________\n",
      "img2text_4 (Img2TextCA)         [(None, 8, 8, 512),  1050624     dropout_7[0][0]                  \n",
      "                                                                 dropout_8[0][0]                  \n",
      "                                                                 padding_masks[0][0]              \n",
      "__________________________________________________________________________________________________\n",
      "batch_normalization_14 (BatchNo (None, 60, 512)      2048        text2img_1[0][0]                 \n",
      "__________________________________________________________________________________________________\n",
      "batch_normalization_15 (BatchNo (None, 60, 512)      2048        text2img_2[0][0]                 \n",
      "__________________________________________________________________________________________________\n",
      "batch_normalization_16 (BatchNo (None, 60, 512)      2048        text2img_3[0][0]                 \n",
      "__________________________________________________________________________________________________\n",
      "batch_normalization_17 (BatchNo (None, 60, 512)      2048        text2img_4[0][0]                 \n",
      "__________________________________________________________________________________________________\n",
      "batch_normalization_10 (BatchNo (None, 8, 8, 512)    2048        img2text_1[0][0]                 \n",
      "__________________________________________________________________________________________________\n",
      "batch_normalization_11 (BatchNo (None, 8, 8, 512)    2048        img2text_2[0][0]                 \n",
      "__________________________________________________________________________________________________\n",
      "batch_normalization_12 (BatchNo (None, 8, 8, 512)    2048        img2text_3[0][0]                 \n",
      "__________________________________________________________________________________________________\n",
      "batch_normalization_13 (BatchNo (None, 8, 8, 512)    2048        img2text_4[0][0]                 \n",
      "__________________________________________________________________________________________________\n",
      "text2img_concat (Concatenate)   (None, 60, 2048)     0           batch_normalization_14[0][0]     \n",
      "                                                                 batch_normalization_15[0][0]     \n",
      "                                                                 batch_normalization_16[0][0]     \n",
      "                                                                 batch_normalization_17[0][0]     \n",
      "__________________________________________________________________________________________________\n",
      "img2text_concat (Concatenate)   (None, 8, 8, 2048)   0           batch_normalization_10[0][0]     \n",
      "                                                                 batch_normalization_11[0][0]     \n",
      "                                                                 batch_normalization_12[0][0]     \n",
      "                                                                 batch_normalization_13[0][0]     \n",
      "__________________________________________________________________________________________________\n",
      "batch_normalization_18 (BatchNo (None, 60, 2048)     8192        text2img_concat[0][0]            \n",
      "__________________________________________________________________________________________________\n",
      "residual_combine2d_1 (ResidualC [(None, 8, 8, 1024), 1049090     dropout_7[0][0]                  \n",
      "                                                                 img2text_concat[0][0]            \n",
      "__________________________________________________________________________________________________\n",
      "residual_combine1d_3 (ResidualC [(None, 60, 1024), ( 1049090     dropout_8[0][0]                  \n",
      "                                                                 batch_normalization_18[0][0]     \n",
      "__________________________________________________________________________________________________\n",
      "img2text_comb_batchnorm (BatchN (None, 8, 8, 1024)   4096        residual_combine2d_1[0][0]       \n",
      "__________________________________________________________________________________________________\n",
      "text2img_comb_batchnorm (BatchN (None, 60, 1024)     4096        residual_combine1d_3[0][0]       \n",
      "__________________________________________________________________________________________________\n",
      "elu_95 (ELU)                    (None, 8, 8, 1024)   0           img2text_comb_batchnorm[0][0]    \n",
      "__________________________________________________________________________________________________\n",
      "elu_113 (ELU)                   (None, 60, 1024)     0           text2img_comb_batchnorm[0][0]    \n",
      "__________________________________________________________________________________________________\n",
      "dropout_9 (Dropout)             (None, 8, 8, 1024)   0           elu_95[0][0]                     \n",
      "__________________________________________________________________________________________________\n",
      "dropout_10 (Dropout)            (None, 60, 1024)     0           elu_113[0][0]                    \n",
      "__________________________________________________________________________________________________\n",
      "img2text_global_pool (GlobalAve (None, 1024)         0           dropout_9[0][0]                  \n",
      "__________________________________________________________________________________________________\n",
      "text2img_global_pool (GlobalAve (None, 1024)         0           dropout_10[0][0]                 \n",
      "__________________________________________________________________________________________________\n",
      "concatenate_8 (Concatenate)     (None, 2048)         0           img2text_global_pool[0][0]       \n",
      "                                                                 text2img_global_pool[0][0]       \n",
      "__________________________________________________________________________________________________\n",
      "dense_1 (Dense)                 (None, 512)          1049088     concatenate_8[0][0]              \n",
      "__________________________________________________________________________________________________\n",
      "elu_114 (ELU)                   (None, 512)          0           dense_1[0][0]                    \n",
      "__________________________________________________________________________________________________\n",
      "dropout_11 (Dropout)            (None, 512)          0           elu_114[0][0]                    \n",
      "__________________________________________________________________________________________________\n",
      "target_word (Dense)             (None, 1943)         996759      dropout_11[0][0]                 \n",
      "==================================================================================================\n",
      "Total params: 42,129,611\n",
      "Trainable params: 41,521,239\n",
      "Non-trainable params: 608,372\n",
      "__________________________________________________________________________________________________\n"
     ]
    }
   ],
   "source": [
    "\n",
    "model.summary()\n",
    "model.compile(loss='categorical_crossentropy', optimizer=Adam(lr=lr),metrics=['accuracy'])\n",
    "# model.load_weights('../checkpoints/{0}.h5'.format(model_name))"
   ]
  },
  {
   "cell_type": "code",
   "execution_count": 40,
   "metadata": {
    "scrolled": true
   },
   "outputs": [
    {
     "data": {
      "image/svg+xml": [
       "<svg height=\"1383pt\" viewBox=\"0.00 0.00 4274.06 1383.00\" width=\"4274pt\" xmlns=\"http://www.w3.org/2000/svg\" xmlns:xlink=\"http://www.w3.org/1999/xlink\">\n",
       "<g class=\"graph\" id=\"graph0\" transform=\"scale(1 1) rotate(0) translate(4 1379)\">\n",
       "<title>G</title>\n",
       "<polygon fill=\"#ffffff\" points=\"-4,4 -4,-1379 4270.0597,-1379 4270.0597,4 -4,4\" stroke=\"transparent\"/>\n",
       "<!-- 139798131238504 -->\n",
       "<g class=\"node\" id=\"node1\">\n",
       "<title>139798131238504</title>\n",
       "<polygon fill=\"none\" points=\"1887.7333,-1328.5 1887.7333,-1374.5 2219.7333,-1374.5 2219.7333,-1328.5 1887.7333,-1328.5\" stroke=\"#000000\"/>\n",
       "<text fill=\"#000000\" font-family=\"Times,serif\" font-size=\"14.00\" text-anchor=\"middle\" x=\"1963.7333\" y=\"-1347.8\">image_input: InputLayer</text>\n",
       "<polyline fill=\"none\" points=\"2039.7333,-1328.5 2039.7333,-1374.5 \" stroke=\"#000000\"/>\n",
       "<text fill=\"#000000\" font-family=\"Times,serif\" font-size=\"14.00\" text-anchor=\"middle\" x=\"2067.2333\" y=\"-1359.3\">input:</text>\n",
       "<polyline fill=\"none\" points=\"2039.7333,-1351.5 2094.7333,-1351.5 \" stroke=\"#000000\"/>\n",
       "<text fill=\"#000000\" font-family=\"Times,serif\" font-size=\"14.00\" text-anchor=\"middle\" x=\"2067.2333\" y=\"-1336.3\">output:</text>\n",
       "<polyline fill=\"none\" points=\"2094.7333,-1328.5 2094.7333,-1374.5 \" stroke=\"#000000\"/>\n",
       "<text fill=\"#000000\" font-family=\"Times,serif\" font-size=\"14.00\" text-anchor=\"middle\" x=\"2157.2333\" y=\"-1359.3\">(None, 256, 256, 3)</text>\n",
       "<polyline fill=\"none\" points=\"2094.7333,-1351.5 2219.7333,-1351.5 \" stroke=\"#000000\"/>\n",
       "<text fill=\"#000000\" font-family=\"Times,serif\" font-size=\"14.00\" text-anchor=\"middle\" x=\"2157.2333\" y=\"-1336.3\">(None, 256, 256, 3)</text>\n",
       "</g>\n",
       "<!-- 139798557729904 -->\n",
       "<g class=\"node\" id=\"node4\">\n",
       "<title>139798557729904</title>\n",
       "<polygon fill=\"none\" points=\"1986.7333,-1245.5 1986.7333,-1291.5 2284.7333,-1291.5 2284.7333,-1245.5 1986.7333,-1245.5\" stroke=\"#000000\"/>\n",
       "<text fill=\"#000000\" font-family=\"Times,serif\" font-size=\"14.00\" text-anchor=\"middle\" x=\"2045.7333\" y=\"-1264.8\">imgModel: Model</text>\n",
       "<polyline fill=\"none\" points=\"2104.7333,-1245.5 2104.7333,-1291.5 \" stroke=\"#000000\"/>\n",
       "<text fill=\"#000000\" font-family=\"Times,serif\" font-size=\"14.00\" text-anchor=\"middle\" x=\"2132.2333\" y=\"-1276.3\">input:</text>\n",
       "<polyline fill=\"none\" points=\"2104.7333,-1268.5 2159.7333,-1268.5 \" stroke=\"#000000\"/>\n",
       "<text fill=\"#000000\" font-family=\"Times,serif\" font-size=\"14.00\" text-anchor=\"middle\" x=\"2132.2333\" y=\"-1253.3\">output:</text>\n",
       "<polyline fill=\"none\" points=\"2159.7333,-1245.5 2159.7333,-1291.5 \" stroke=\"#000000\"/>\n",
       "<text fill=\"#000000\" font-family=\"Times,serif\" font-size=\"14.00\" text-anchor=\"middle\" x=\"2222.2333\" y=\"-1276.3\">(None, 256, 256, 3)</text>\n",
       "<polyline fill=\"none\" points=\"2159.7333,-1268.5 2284.7333,-1268.5 \" stroke=\"#000000\"/>\n",
       "<text fill=\"#000000\" font-family=\"Times,serif\" font-size=\"14.00\" text-anchor=\"middle\" x=\"2222.2333\" y=\"-1253.3\">(None, 8, 8, 512)</text>\n",
       "</g>\n",
       "<!-- 139798131238504&#45;&gt;139798557729904 -->\n",
       "<g class=\"edge\" id=\"edge1\">\n",
       "<title>139798131238504-&gt;139798557729904</title>\n",
       "<path d=\"M2076.5749,-1328.3799C2085.5625,-1319.2827 2096.009,-1308.7088 2105.6003,-1299.0005\" fill=\"none\" stroke=\"#000000\"/>\n",
       "<polygon fill=\"#000000\" points=\"2108.1916,-1301.3577 2112.7298,-1291.784 2103.2119,-1296.438 2108.1916,-1301.3577\" stroke=\"#000000\"/>\n",
       "</g>\n",
       "<!-- 139798131236992 -->\n",
       "<g class=\"node\" id=\"node2\">\n",
       "<title>139798131236992</title>\n",
       "<polygon fill=\"none\" points=\"2570.2333,-1328.5 2570.2333,-1374.5 2853.2333,-1374.5 2853.2333,-1328.5 2570.2333,-1328.5\" stroke=\"#000000\"/>\n",
       "<text fill=\"#000000\" font-family=\"Times,serif\" font-size=\"14.00\" text-anchor=\"middle\" x=\"2646.2333\" y=\"-1347.8\">words_input: InputLayer</text>\n",
       "<polyline fill=\"none\" points=\"2722.2333,-1328.5 2722.2333,-1374.5 \" stroke=\"#000000\"/>\n",
       "<text fill=\"#000000\" font-family=\"Times,serif\" font-size=\"14.00\" text-anchor=\"middle\" x=\"2749.7333\" y=\"-1359.3\">input:</text>\n",
       "<polyline fill=\"none\" points=\"2722.2333,-1351.5 2777.2333,-1351.5 \" stroke=\"#000000\"/>\n",
       "<text fill=\"#000000\" font-family=\"Times,serif\" font-size=\"14.00\" text-anchor=\"middle\" x=\"2749.7333\" y=\"-1336.3\">output:</text>\n",
       "<polyline fill=\"none\" points=\"2777.2333,-1328.5 2777.2333,-1374.5 \" stroke=\"#000000\"/>\n",
       "<text fill=\"#000000\" font-family=\"Times,serif\" font-size=\"14.00\" text-anchor=\"middle\" x=\"2815.2333\" y=\"-1359.3\">(None, 60)</text>\n",
       "<polyline fill=\"none\" points=\"2777.2333,-1351.5 2853.2333,-1351.5 \" stroke=\"#000000\"/>\n",
       "<text fill=\"#000000\" font-family=\"Times,serif\" font-size=\"14.00\" text-anchor=\"middle\" x=\"2815.2333\" y=\"-1336.3\">(None, 60)</text>\n",
       "</g>\n",
       "<!-- 139798134134656 -->\n",
       "<g class=\"node\" id=\"node5\">\n",
       "<title>139798134134656</title>\n",
       "<polygon fill=\"none\" points=\"2423.2333,-1245.5 2423.2333,-1291.5 2760.2333,-1291.5 2760.2333,-1245.5 2423.2333,-1245.5\" stroke=\"#000000\"/>\n",
       "<text fill=\"#000000\" font-family=\"Times,serif\" font-size=\"14.00\" text-anchor=\"middle\" x=\"2481.2333\" y=\"-1264.8\">textModel: Model</text>\n",
       "<polyline fill=\"none\" points=\"2539.2333,-1245.5 2539.2333,-1291.5 \" stroke=\"#000000\"/>\n",
       "<text fill=\"#000000\" font-family=\"Times,serif\" font-size=\"14.00\" text-anchor=\"middle\" x=\"2566.7333\" y=\"-1276.3\">input:</text>\n",
       "<polyline fill=\"none\" points=\"2539.2333,-1268.5 2594.2333,-1268.5 \" stroke=\"#000000\"/>\n",
       "<text fill=\"#000000\" font-family=\"Times,serif\" font-size=\"14.00\" text-anchor=\"middle\" x=\"2566.7333\" y=\"-1253.3\">output:</text>\n",
       "<polyline fill=\"none\" points=\"2594.2333,-1245.5 2594.2333,-1291.5 \" stroke=\"#000000\"/>\n",
       "<text fill=\"#000000\" font-family=\"Times,serif\" font-size=\"14.00\" text-anchor=\"middle\" x=\"2677.2333\" y=\"-1276.3\">[(None, 60), (None, 60, 1)]</text>\n",
       "<polyline fill=\"none\" points=\"2594.2333,-1268.5 2760.2333,-1268.5 \" stroke=\"#000000\"/>\n",
       "<text fill=\"#000000\" font-family=\"Times,serif\" font-size=\"14.00\" text-anchor=\"middle\" x=\"2677.2333\" y=\"-1253.3\">(None, 60, 512)</text>\n",
       "</g>\n",
       "<!-- 139798131236992&#45;&gt;139798134134656 -->\n",
       "<g class=\"edge\" id=\"edge2\">\n",
       "<title>139798131236992-&gt;139798134134656</title>\n",
       "<path d=\"M2678.3066,-1328.3799C2664.5093,-1318.8367 2648.3626,-1307.6686 2633.7757,-1297.5793\" fill=\"none\" stroke=\"#000000\"/>\n",
       "<polygon fill=\"#000000\" points=\"2635.6123,-1294.594 2625.3969,-1291.784 2631.6303,-1300.3511 2635.6123,-1294.594\" stroke=\"#000000\"/>\n",
       "</g>\n",
       "<!-- 139798131239456 -->\n",
       "<g class=\"node\" id=\"node3\">\n",
       "<title>139798131239456</title>\n",
       "<polygon fill=\"none\" points=\"2237.7333,-1328.5 2237.7333,-1374.5 2551.7333,-1374.5 2551.7333,-1328.5 2237.7333,-1328.5\" stroke=\"#000000\"/>\n",
       "<text fill=\"#000000\" font-family=\"Times,serif\" font-size=\"14.00\" text-anchor=\"middle\" x=\"2322.2333\" y=\"-1347.8\">padding_masks: InputLayer</text>\n",
       "<polyline fill=\"none\" points=\"2406.7333,-1328.5 2406.7333,-1374.5 \" stroke=\"#000000\"/>\n",
       "<text fill=\"#000000\" font-family=\"Times,serif\" font-size=\"14.00\" text-anchor=\"middle\" x=\"2434.2333\" y=\"-1359.3\">input:</text>\n",
       "<polyline fill=\"none\" points=\"2406.7333,-1351.5 2461.7333,-1351.5 \" stroke=\"#000000\"/>\n",
       "<text fill=\"#000000\" font-family=\"Times,serif\" font-size=\"14.00\" text-anchor=\"middle\" x=\"2434.2333\" y=\"-1336.3\">output:</text>\n",
       "<polyline fill=\"none\" points=\"2461.7333,-1328.5 2461.7333,-1374.5 \" stroke=\"#000000\"/>\n",
       "<text fill=\"#000000\" font-family=\"Times,serif\" font-size=\"14.00\" text-anchor=\"middle\" x=\"2506.7333\" y=\"-1359.3\">(None, 60, 1)</text>\n",
       "<polyline fill=\"none\" points=\"2461.7333,-1351.5 2551.7333,-1351.5 \" stroke=\"#000000\"/>\n",
       "<text fill=\"#000000\" font-family=\"Times,serif\" font-size=\"14.00\" text-anchor=\"middle\" x=\"2506.7333\" y=\"-1336.3\">(None, 60, 1)</text>\n",
       "</g>\n",
       "<!-- 139798131239456&#45;&gt;139798134134656 -->\n",
       "<g class=\"edge\" id=\"edge3\">\n",
       "<title>139798131239456-&gt;139798134134656</title>\n",
       "<path d=\"M2449.3472,-1328.4901C2473.58,-1318.2803 2502.2674,-1306.1938 2527.5197,-1295.5545\" fill=\"none\" stroke=\"#000000\"/>\n",
       "<polygon fill=\"#000000\" points=\"2529.1567,-1298.6628 2537.0132,-1291.5547 2526.4388,-1292.212 2529.1567,-1298.6628\" stroke=\"#000000\"/>\n",
       "</g>\n",
       "<!-- 139798095766136 -->\n",
       "<g class=\"node\" id=\"node8\">\n",
       "<title>139798095766136</title>\n",
       "<polygon fill=\"none\" points=\"2139.7333,-1079.5 2139.7333,-1125.5 2649.7333,-1125.5 2649.7333,-1079.5 2139.7333,-1079.5\" stroke=\"#000000\"/>\n",
       "<text fill=\"#000000\" font-family=\"Times,serif\" font-size=\"14.00\" text-anchor=\"middle\" x=\"2219.2333\" y=\"-1098.8\">text2img_1: Text2ImgCA</text>\n",
       "<polyline fill=\"none\" points=\"2298.7333,-1079.5 2298.7333,-1125.5 \" stroke=\"#000000\"/>\n",
       "<text fill=\"#000000\" font-family=\"Times,serif\" font-size=\"14.00\" text-anchor=\"middle\" x=\"2326.2333\" y=\"-1110.3\">input:</text>\n",
       "<polyline fill=\"none\" points=\"2298.7333,-1102.5 2353.7333,-1102.5 \" stroke=\"#000000\"/>\n",
       "<text fill=\"#000000\" font-family=\"Times,serif\" font-size=\"14.00\" text-anchor=\"middle\" x=\"2326.2333\" y=\"-1087.3\">output:</text>\n",
       "<polyline fill=\"none\" points=\"2353.7333,-1079.5 2353.7333,-1125.5 \" stroke=\"#000000\"/>\n",
       "<text fill=\"#000000\" font-family=\"Times,serif\" font-size=\"14.00\" text-anchor=\"middle\" x=\"2501.7333\" y=\"-1110.3\">[(None, 60, 512), (None, 8, 8, 512), (None, 60, 1)]</text>\n",
       "<polyline fill=\"none\" points=\"2353.7333,-1102.5 2649.7333,-1102.5 \" stroke=\"#000000\"/>\n",
       "<text fill=\"#000000\" font-family=\"Times,serif\" font-size=\"14.00\" text-anchor=\"middle\" x=\"2501.7333\" y=\"-1087.3\">[(None, 60, 512), (60, 64)]</text>\n",
       "</g>\n",
       "<!-- 139798131239456&#45;&gt;139798095766136 -->\n",
       "<g class=\"edge\" id=\"edge8\">\n",
       "<title>139798131239456-&gt;139798095766136</title>\n",
       "<path d=\"M2394.7333,-1185.5C2384.4529,-1171.4914 2383.8574,-1152.2641 2386.1039,-1135.8428\" fill=\"none\" stroke=\"#000000\"/>\n",
       "<polygon fill=\"#000000\" points=\"2389.6308,-1135.9952 2387.9174,-1125.5399 2382.7368,-1134.7817 2389.6308,-1135.9952\" stroke=\"#000000\"/>\n",
       "</g>\n",
       "<!-- 139798095766248 -->\n",
       "<g class=\"node\" id=\"node9\">\n",
       "<title>139798095766248</title>\n",
       "<polygon fill=\"none\" points=\"2667.7333,-1079.5 2667.7333,-1125.5 3177.7333,-1125.5 3177.7333,-1079.5 2667.7333,-1079.5\" stroke=\"#000000\"/>\n",
       "<text fill=\"#000000\" font-family=\"Times,serif\" font-size=\"14.00\" text-anchor=\"middle\" x=\"2747.2333\" y=\"-1098.8\">text2img_2: Text2ImgCA</text>\n",
       "<polyline fill=\"none\" points=\"2826.7333,-1079.5 2826.7333,-1125.5 \" stroke=\"#000000\"/>\n",
       "<text fill=\"#000000\" font-family=\"Times,serif\" font-size=\"14.00\" text-anchor=\"middle\" x=\"2854.2333\" y=\"-1110.3\">input:</text>\n",
       "<polyline fill=\"none\" points=\"2826.7333,-1102.5 2881.7333,-1102.5 \" stroke=\"#000000\"/>\n",
       "<text fill=\"#000000\" font-family=\"Times,serif\" font-size=\"14.00\" text-anchor=\"middle\" x=\"2854.2333\" y=\"-1087.3\">output:</text>\n",
       "<polyline fill=\"none\" points=\"2881.7333,-1079.5 2881.7333,-1125.5 \" stroke=\"#000000\"/>\n",
       "<text fill=\"#000000\" font-family=\"Times,serif\" font-size=\"14.00\" text-anchor=\"middle\" x=\"3029.7333\" y=\"-1110.3\">[(None, 60, 512), (None, 8, 8, 512), (None, 60, 1)]</text>\n",
       "<polyline fill=\"none\" points=\"2881.7333,-1102.5 3177.7333,-1102.5 \" stroke=\"#000000\"/>\n",
       "<text fill=\"#000000\" font-family=\"Times,serif\" font-size=\"14.00\" text-anchor=\"middle\" x=\"3029.7333\" y=\"-1087.3\">[(None, 60, 512), (60, 64)]</text>\n",
       "</g>\n",
       "<!-- 139798131239456&#45;&gt;139798095766248 -->\n",
       "<g class=\"edge\" id=\"edge11\">\n",
       "<title>139798131239456-&gt;139798095766248</title>\n",
       "<path d=\"M2394.7333,-1268.5C2402.6658,-1257.3119 2402.4533,-1251.1075 2414.7333,-1245 2517.9706,-1193.6547 3372.4627,-1270.164 3450.7333,-1185.5\" fill=\"none\" stroke=\"#000000\"/>\n",
       "<path d=\"M3450.7333,-1185.5C3462.5504,-1172.7176 3279.0446,-1146.3965 3125.1703,-1126.8038\" fill=\"none\" stroke=\"#000000\"/>\n",
       "<polygon fill=\"#000000\" points=\"3125.4412,-1123.3102 3115.0801,-1125.5233 3124.5598,-1130.2545 3125.4412,-1123.3102\" stroke=\"#000000\"/>\n",
       "</g>\n",
       "<!-- 139798094833200 -->\n",
       "<g class=\"node\" id=\"node10\">\n",
       "<title>139798094833200</title>\n",
       "<polygon fill=\"none\" points=\"3195.7333,-1079.5 3195.7333,-1125.5 3705.7333,-1125.5 3705.7333,-1079.5 3195.7333,-1079.5\" stroke=\"#000000\"/>\n",
       "<text fill=\"#000000\" font-family=\"Times,serif\" font-size=\"14.00\" text-anchor=\"middle\" x=\"3275.2333\" y=\"-1098.8\">text2img_3: Text2ImgCA</text>\n",
       "<polyline fill=\"none\" points=\"3354.7333,-1079.5 3354.7333,-1125.5 \" stroke=\"#000000\"/>\n",
       "<text fill=\"#000000\" font-family=\"Times,serif\" font-size=\"14.00\" text-anchor=\"middle\" x=\"3382.2333\" y=\"-1110.3\">input:</text>\n",
       "<polyline fill=\"none\" points=\"3354.7333,-1102.5 3409.7333,-1102.5 \" stroke=\"#000000\"/>\n",
       "<text fill=\"#000000\" font-family=\"Times,serif\" font-size=\"14.00\" text-anchor=\"middle\" x=\"3382.2333\" y=\"-1087.3\">output:</text>\n",
       "<polyline fill=\"none\" points=\"3409.7333,-1079.5 3409.7333,-1125.5 \" stroke=\"#000000\"/>\n",
       "<text fill=\"#000000\" font-family=\"Times,serif\" font-size=\"14.00\" text-anchor=\"middle\" x=\"3557.7333\" y=\"-1110.3\">[(None, 60, 512), (None, 8, 8, 512), (None, 60, 1)]</text>\n",
       "<polyline fill=\"none\" points=\"3409.7333,-1102.5 3705.7333,-1102.5 \" stroke=\"#000000\"/>\n",
       "<text fill=\"#000000\" font-family=\"Times,serif\" font-size=\"14.00\" text-anchor=\"middle\" x=\"3557.7333\" y=\"-1087.3\">[(None, 60, 512), (60, 64)]</text>\n",
       "</g>\n",
       "<!-- 139798131239456&#45;&gt;139798094833200 -->\n",
       "<g class=\"edge\" id=\"edge14\">\n",
       "<title>139798131239456-&gt;139798094833200</title>\n",
       "<path d=\"M3450.7333,-1185.5C3462.8032,-1172.4442 3463.2379,-1152.6916 3460.4495,-1135.7309\" fill=\"none\" stroke=\"#000000\"/>\n",
       "<polygon fill=\"#000000\" points=\"3463.8124,-1134.7075 3458.372,-1125.6161 3456.9555,-1136.1159 3463.8124,-1134.7075\" stroke=\"#000000\"/>\n",
       "</g>\n",
       "<!-- 139798093323232 -->\n",
       "<g class=\"node\" id=\"node11\">\n",
       "<title>139798093323232</title>\n",
       "<polygon fill=\"none\" points=\"3723.7333,-1079.5 3723.7333,-1125.5 4233.7333,-1125.5 4233.7333,-1079.5 3723.7333,-1079.5\" stroke=\"#000000\"/>\n",
       "<text fill=\"#000000\" font-family=\"Times,serif\" font-size=\"14.00\" text-anchor=\"middle\" x=\"3803.2333\" y=\"-1098.8\">text2img_4: Text2ImgCA</text>\n",
       "<polyline fill=\"none\" points=\"3882.7333,-1079.5 3882.7333,-1125.5 \" stroke=\"#000000\"/>\n",
       "<text fill=\"#000000\" font-family=\"Times,serif\" font-size=\"14.00\" text-anchor=\"middle\" x=\"3910.2333\" y=\"-1110.3\">input:</text>\n",
       "<polyline fill=\"none\" points=\"3882.7333,-1102.5 3937.7333,-1102.5 \" stroke=\"#000000\"/>\n",
       "<text fill=\"#000000\" font-family=\"Times,serif\" font-size=\"14.00\" text-anchor=\"middle\" x=\"3910.2333\" y=\"-1087.3\">output:</text>\n",
       "<polyline fill=\"none\" points=\"3937.7333,-1079.5 3937.7333,-1125.5 \" stroke=\"#000000\"/>\n",
       "<text fill=\"#000000\" font-family=\"Times,serif\" font-size=\"14.00\" text-anchor=\"middle\" x=\"4085.7333\" y=\"-1110.3\">[(None, 60, 512), (None, 8, 8, 512), (None, 60, 1)]</text>\n",
       "<polyline fill=\"none\" points=\"3937.7333,-1102.5 4233.7333,-1102.5 \" stroke=\"#000000\"/>\n",
       "<text fill=\"#000000\" font-family=\"Times,serif\" font-size=\"14.00\" text-anchor=\"middle\" x=\"4085.7333\" y=\"-1087.3\">[(None, 60, 512), (60, 64)]</text>\n",
       "</g>\n",
       "<!-- 139798131239456&#45;&gt;139798093323232 -->\n",
       "<g class=\"edge\" id=\"edge17\">\n",
       "<title>139798131239456-&gt;139798093323232</title>\n",
       "<path d=\"M3450.7333,-1185.5C3471.2995,-1163.2539 3608.2942,-1142.1046 3737.5736,-1126.7226\" fill=\"none\" stroke=\"#000000\"/>\n",
       "<polygon fill=\"#000000\" points=\"3738.1389,-1130.1803 3747.6598,-1125.5322 3737.3184,-1123.2285 3738.1389,-1130.1803\" stroke=\"#000000\"/>\n",
       "</g>\n",
       "<!-- 139798103064024 -->\n",
       "<g class=\"node\" id=\"node12\">\n",
       "<title>139798103064024</title>\n",
       "<polygon fill=\"none\" points=\"27.7333,-1079.5 27.7333,-1125.5 537.7333,-1125.5 537.7333,-1079.5 27.7333,-1079.5\" stroke=\"#000000\"/>\n",
       "<text fill=\"#000000\" font-family=\"Times,serif\" font-size=\"14.00\" text-anchor=\"middle\" x=\"107.2333\" y=\"-1098.8\">img2text_1: Img2TextCA</text>\n",
       "<polyline fill=\"none\" points=\"186.7333,-1079.5 186.7333,-1125.5 \" stroke=\"#000000\"/>\n",
       "<text fill=\"#000000\" font-family=\"Times,serif\" font-size=\"14.00\" text-anchor=\"middle\" x=\"214.2333\" y=\"-1110.3\">input:</text>\n",
       "<polyline fill=\"none\" points=\"186.7333,-1102.5 241.7333,-1102.5 \" stroke=\"#000000\"/>\n",
       "<text fill=\"#000000\" font-family=\"Times,serif\" font-size=\"14.00\" text-anchor=\"middle\" x=\"214.2333\" y=\"-1087.3\">output:</text>\n",
       "<polyline fill=\"none\" points=\"241.7333,-1079.5 241.7333,-1125.5 \" stroke=\"#000000\"/>\n",
       "<text fill=\"#000000\" font-family=\"Times,serif\" font-size=\"14.00\" text-anchor=\"middle\" x=\"389.7333\" y=\"-1110.3\">[(None, 8, 8, 512), (None, 60, 512), (None, 60, 1)]</text>\n",
       "<polyline fill=\"none\" points=\"241.7333,-1102.5 537.7333,-1102.5 \" stroke=\"#000000\"/>\n",
       "<text fill=\"#000000\" font-family=\"Times,serif\" font-size=\"14.00\" text-anchor=\"middle\" x=\"389.7333\" y=\"-1087.3\">[(None, 8, 8, 512), (64, 60)]</text>\n",
       "</g>\n",
       "<!-- 139798131239456&#45;&gt;139798103064024 -->\n",
       "<g class=\"edge\" id=\"edge20\">\n",
       "<title>139798131239456-&gt;139798103064024</title>\n",
       "<path d=\"M2237.4782,-1329.0732C2234.5401,-1328.7077 2231.6229,-1328.3496 2228.7333,-1328 2071.5304,-1308.9816 904.4192,-1313.1613 810.7333,-1185.5\" fill=\"none\" stroke=\"#000000\"/>\n",
       "<path d=\"M810.7333,-1185.5C712.2856,-1159.0323 601.0943,-1139.9957 506.2282,-1126.8867\" fill=\"none\" stroke=\"#000000\"/>\n",
       "<polygon fill=\"#000000\" points=\"506.6012,-1123.4052 496.219,-1125.5172 505.6522,-1130.3406 506.6012,-1123.4052\" stroke=\"#000000\"/>\n",
       "</g>\n",
       "<!-- 139798103064136 -->\n",
       "<g class=\"node\" id=\"node13\">\n",
       "<title>139798103064136</title>\n",
       "<polygon fill=\"none\" points=\"555.7333,-1079.5 555.7333,-1125.5 1065.7333,-1125.5 1065.7333,-1079.5 555.7333,-1079.5\" stroke=\"#000000\"/>\n",
       "<text fill=\"#000000\" font-family=\"Times,serif\" font-size=\"14.00\" text-anchor=\"middle\" x=\"635.2333\" y=\"-1098.8\">img2text_2: Img2TextCA</text>\n",
       "<polyline fill=\"none\" points=\"714.7333,-1079.5 714.7333,-1125.5 \" stroke=\"#000000\"/>\n",
       "<text fill=\"#000000\" font-family=\"Times,serif\" font-size=\"14.00\" text-anchor=\"middle\" x=\"742.2333\" y=\"-1110.3\">input:</text>\n",
       "<polyline fill=\"none\" points=\"714.7333,-1102.5 769.7333,-1102.5 \" stroke=\"#000000\"/>\n",
       "<text fill=\"#000000\" font-family=\"Times,serif\" font-size=\"14.00\" text-anchor=\"middle\" x=\"742.2333\" y=\"-1087.3\">output:</text>\n",
       "<polyline fill=\"none\" points=\"769.7333,-1079.5 769.7333,-1125.5 \" stroke=\"#000000\"/>\n",
       "<text fill=\"#000000\" font-family=\"Times,serif\" font-size=\"14.00\" text-anchor=\"middle\" x=\"917.7333\" y=\"-1110.3\">[(None, 8, 8, 512), (None, 60, 512), (None, 60, 1)]</text>\n",
       "<polyline fill=\"none\" points=\"769.7333,-1102.5 1065.7333,-1102.5 \" stroke=\"#000000\"/>\n",
       "<text fill=\"#000000\" font-family=\"Times,serif\" font-size=\"14.00\" text-anchor=\"middle\" x=\"917.7333\" y=\"-1087.3\">[(None, 8, 8, 512), (64, 60)]</text>\n",
       "</g>\n",
       "<!-- 139798131239456&#45;&gt;139798103064136 -->\n",
       "<g class=\"edge\" id=\"edge23\">\n",
       "<title>139798131239456-&gt;139798103064136</title>\n",
       "<path d=\"M810.7333,-1185.5C800.4529,-1171.4914 799.8574,-1152.2641 802.1039,-1135.8428\" fill=\"none\" stroke=\"#000000\"/>\n",
       "<polygon fill=\"#000000\" points=\"805.6308,-1135.9952 803.9174,-1125.5399 798.7368,-1134.7817 805.6308,-1135.9952\" stroke=\"#000000\"/>\n",
       "</g>\n",
       "<!-- 139798102217616 -->\n",
       "<g class=\"node\" id=\"node14\">\n",
       "<title>139798102217616</title>\n",
       "<polygon fill=\"none\" points=\"1083.7333,-1079.5 1083.7333,-1125.5 1593.7333,-1125.5 1593.7333,-1079.5 1083.7333,-1079.5\" stroke=\"#000000\"/>\n",
       "<text fill=\"#000000\" font-family=\"Times,serif\" font-size=\"14.00\" text-anchor=\"middle\" x=\"1163.2333\" y=\"-1098.8\">img2text_3: Img2TextCA</text>\n",
       "<polyline fill=\"none\" points=\"1242.7333,-1079.5 1242.7333,-1125.5 \" stroke=\"#000000\"/>\n",
       "<text fill=\"#000000\" font-family=\"Times,serif\" font-size=\"14.00\" text-anchor=\"middle\" x=\"1270.2333\" y=\"-1110.3\">input:</text>\n",
       "<polyline fill=\"none\" points=\"1242.7333,-1102.5 1297.7333,-1102.5 \" stroke=\"#000000\"/>\n",
       "<text fill=\"#000000\" font-family=\"Times,serif\" font-size=\"14.00\" text-anchor=\"middle\" x=\"1270.2333\" y=\"-1087.3\">output:</text>\n",
       "<polyline fill=\"none\" points=\"1297.7333,-1079.5 1297.7333,-1125.5 \" stroke=\"#000000\"/>\n",
       "<text fill=\"#000000\" font-family=\"Times,serif\" font-size=\"14.00\" text-anchor=\"middle\" x=\"1445.7333\" y=\"-1110.3\">[(None, 8, 8, 512), (None, 60, 512), (None, 60, 1)]</text>\n",
       "<polyline fill=\"none\" points=\"1297.7333,-1102.5 1593.7333,-1102.5 \" stroke=\"#000000\"/>\n",
       "<text fill=\"#000000\" font-family=\"Times,serif\" font-size=\"14.00\" text-anchor=\"middle\" x=\"1445.7333\" y=\"-1087.3\">[(None, 8, 8, 512), (64, 60)]</text>\n",
       "</g>\n",
       "<!-- 139798131239456&#45;&gt;139798102217616 -->\n",
       "<g class=\"edge\" id=\"edge26\">\n",
       "<title>139798131239456-&gt;139798102217616</title>\n",
       "<path d=\"M2387.9934,-1328.2022C2384.2763,-1310.245 2382.5651,-1285.6622 2394.7333,-1268.5\" fill=\"none\" stroke=\"#000000\"/>\n",
       "<path d=\"M2394.7333,-1268.5C2421.3899,-1230.9031 2339.0061,-1253.6301 2293.7333,-1245 2218.2732,-1230.6155 1761.261,-1163.7726 1507.7819,-1126.9686\" fill=\"none\" stroke=\"#000000\"/>\n",
       "<polygon fill=\"#000000\" points=\"1508.1322,-1123.4828 1497.7331,-1125.5098 1507.1265,-1130.4102 1508.1322,-1123.4828\" stroke=\"#000000\"/>\n",
       "</g>\n",
       "<!-- 139798100549472 -->\n",
       "<g class=\"node\" id=\"node15\">\n",
       "<title>139798100549472</title>\n",
       "<polygon fill=\"none\" points=\"1611.7333,-1079.5 1611.7333,-1125.5 2121.7333,-1125.5 2121.7333,-1079.5 1611.7333,-1079.5\" stroke=\"#000000\"/>\n",
       "<text fill=\"#000000\" font-family=\"Times,serif\" font-size=\"14.00\" text-anchor=\"middle\" x=\"1691.2333\" y=\"-1098.8\">img2text_4: Img2TextCA</text>\n",
       "<polyline fill=\"none\" points=\"1770.7333,-1079.5 1770.7333,-1125.5 \" stroke=\"#000000\"/>\n",
       "<text fill=\"#000000\" font-family=\"Times,serif\" font-size=\"14.00\" text-anchor=\"middle\" x=\"1798.2333\" y=\"-1110.3\">input:</text>\n",
       "<polyline fill=\"none\" points=\"1770.7333,-1102.5 1825.7333,-1102.5 \" stroke=\"#000000\"/>\n",
       "<text fill=\"#000000\" font-family=\"Times,serif\" font-size=\"14.00\" text-anchor=\"middle\" x=\"1798.2333\" y=\"-1087.3\">output:</text>\n",
       "<polyline fill=\"none\" points=\"1825.7333,-1079.5 1825.7333,-1125.5 \" stroke=\"#000000\"/>\n",
       "<text fill=\"#000000\" font-family=\"Times,serif\" font-size=\"14.00\" text-anchor=\"middle\" x=\"1973.7333\" y=\"-1110.3\">[(None, 8, 8, 512), (None, 60, 512), (None, 60, 1)]</text>\n",
       "<polyline fill=\"none\" points=\"1825.7333,-1102.5 2121.7333,-1102.5 \" stroke=\"#000000\"/>\n",
       "<text fill=\"#000000\" font-family=\"Times,serif\" font-size=\"14.00\" text-anchor=\"middle\" x=\"1973.7333\" y=\"-1087.3\">[(None, 8, 8, 512), (64, 60)]</text>\n",
       "</g>\n",
       "<!-- 139798131239456&#45;&gt;139798100549472 -->\n",
       "<g class=\"edge\" id=\"edge29\">\n",
       "<title>139798131239456-&gt;139798100549472</title>\n",
       "<path d=\"M2394.7333,-1268.5C2416.0693,-1238.4074 2416.5583,-1215.2399 2394.7333,-1185.5\" fill=\"none\" stroke=\"#000000\"/>\n",
       "<path d=\"M2394.7333,-1185.5C2386.7869,-1174.6718 2387.4968,-1168.4819 2375.7333,-1162 2363.1083,-1155.0434 2232.7865,-1139.8784 2107.186,-1126.6004\" fill=\"none\" stroke=\"#000000\"/>\n",
       "<polygon fill=\"#000000\" points=\"2107.3065,-1123.0938 2096.9946,-1125.526 2106.5725,-1130.0552 2107.3065,-1123.0938\" stroke=\"#000000\"/>\n",
       "</g>\n",
       "<!-- 139798131688784 -->\n",
       "<g class=\"node\" id=\"node6\">\n",
       "<title>139798131688784</title>\n",
       "<polygon fill=\"none\" points=\"2076.2333,-1162.5 2076.2333,-1208.5 2367.2333,-1208.5 2367.2333,-1162.5 2076.2333,-1162.5\" stroke=\"#000000\"/>\n",
       "<text fill=\"#000000\" font-family=\"Times,serif\" font-size=\"14.00\" text-anchor=\"middle\" x=\"2138.7333\" y=\"-1181.8\">dropout_7: Dropout</text>\n",
       "<polyline fill=\"none\" points=\"2201.2333,-1162.5 2201.2333,-1208.5 \" stroke=\"#000000\"/>\n",
       "<text fill=\"#000000\" font-family=\"Times,serif\" font-size=\"14.00\" text-anchor=\"middle\" x=\"2228.7333\" y=\"-1193.3\">input:</text>\n",
       "<polyline fill=\"none\" points=\"2201.2333,-1185.5 2256.2333,-1185.5 \" stroke=\"#000000\"/>\n",
       "<text fill=\"#000000\" font-family=\"Times,serif\" font-size=\"14.00\" text-anchor=\"middle\" x=\"2228.7333\" y=\"-1170.3\">output:</text>\n",
       "<polyline fill=\"none\" points=\"2256.2333,-1162.5 2256.2333,-1208.5 \" stroke=\"#000000\"/>\n",
       "<text fill=\"#000000\" font-family=\"Times,serif\" font-size=\"14.00\" text-anchor=\"middle\" x=\"2311.7333\" y=\"-1193.3\">(None, 8, 8, 512)</text>\n",
       "<polyline fill=\"none\" points=\"2256.2333,-1185.5 2367.2333,-1185.5 \" stroke=\"#000000\"/>\n",
       "<text fill=\"#000000\" font-family=\"Times,serif\" font-size=\"14.00\" text-anchor=\"middle\" x=\"2311.7333\" y=\"-1170.3\">(None, 8, 8, 512)</text>\n",
       "</g>\n",
       "<!-- 139798557729904&#45;&gt;139798131688784 -->\n",
       "<g class=\"edge\" id=\"edge4\">\n",
       "<title>139798557729904-&gt;139798131688784</title>\n",
       "<path d=\"M2159.6891,-1245.3799C2169.1151,-1236.2827 2180.0712,-1225.7088 2190.1304,-1216.0005\" fill=\"none\" stroke=\"#000000\"/>\n",
       "<polygon fill=\"#000000\" points=\"2192.8428,-1218.2469 2197.6077,-1208.784 2187.9817,-1213.2101 2192.8428,-1218.2469\" stroke=\"#000000\"/>\n",
       "</g>\n",
       "<!-- 139798131239288 -->\n",
       "<g class=\"node\" id=\"node7\">\n",
       "<title>139798131239288</title>\n",
       "<polygon fill=\"none\" points=\"2436.7333,-1162.5 2436.7333,-1208.5 2720.7333,-1208.5 2720.7333,-1162.5 2436.7333,-1162.5\" stroke=\"#000000\"/>\n",
       "<text fill=\"#000000\" font-family=\"Times,serif\" font-size=\"14.00\" text-anchor=\"middle\" x=\"2499.2333\" y=\"-1181.8\">dropout_8: Dropout</text>\n",
       "<polyline fill=\"none\" points=\"2561.7333,-1162.5 2561.7333,-1208.5 \" stroke=\"#000000\"/>\n",
       "<text fill=\"#000000\" font-family=\"Times,serif\" font-size=\"14.00\" text-anchor=\"middle\" x=\"2589.2333\" y=\"-1193.3\">input:</text>\n",
       "<polyline fill=\"none\" points=\"2561.7333,-1185.5 2616.7333,-1185.5 \" stroke=\"#000000\"/>\n",
       "<text fill=\"#000000\" font-family=\"Times,serif\" font-size=\"14.00\" text-anchor=\"middle\" x=\"2589.2333\" y=\"-1170.3\">output:</text>\n",
       "<polyline fill=\"none\" points=\"2616.7333,-1162.5 2616.7333,-1208.5 \" stroke=\"#000000\"/>\n",
       "<text fill=\"#000000\" font-family=\"Times,serif\" font-size=\"14.00\" text-anchor=\"middle\" x=\"2668.7333\" y=\"-1193.3\">(None, 60, 512)</text>\n",
       "<polyline fill=\"none\" points=\"2616.7333,-1185.5 2720.7333,-1185.5 \" stroke=\"#000000\"/>\n",
       "<text fill=\"#000000\" font-family=\"Times,serif\" font-size=\"14.00\" text-anchor=\"middle\" x=\"2668.7333\" y=\"-1170.3\">(None, 60, 512)</text>\n",
       "</g>\n",
       "<!-- 139798134134656&#45;&gt;139798131239288 -->\n",
       "<g class=\"edge\" id=\"edge5\">\n",
       "<title>139798134134656-&gt;139798131239288</title>\n",
       "<path d=\"M2588.1121,-1245.3799C2586.8269,-1237.1745 2585.3536,-1227.7679 2583.9613,-1218.8786\" fill=\"none\" stroke=\"#000000\"/>\n",
       "<polygon fill=\"#000000\" points=\"2587.3855,-1218.1219 2582.3802,-1208.784 2580.4698,-1219.2052 2587.3855,-1218.1219\" stroke=\"#000000\"/>\n",
       "</g>\n",
       "<!-- 139798131688784&#45;&gt;139798095766136 -->\n",
       "<g class=\"edge\" id=\"edge7\">\n",
       "<title>139798131688784-&gt;139798095766136</title>\n",
       "<path d=\"M2269.9235,-1162.3799C2290.8316,-1152.3488 2315.4819,-1140.5224 2337.3294,-1130.0406\" fill=\"none\" stroke=\"#000000\"/>\n",
       "<polygon fill=\"#000000\" points=\"2338.9998,-1133.1212 2346.5019,-1125.6399 2335.9718,-1126.81 2338.9998,-1133.1212\" stroke=\"#000000\"/>\n",
       "</g>\n",
       "<!-- 139798131688784&#45;&gt;139798095766248 -->\n",
       "<g class=\"edge\" id=\"edge10\">\n",
       "<title>139798131688784-&gt;139798095766248</title>\n",
       "<path d=\"M2367.272,-1163.7671C2371.8095,-1163.1607 2376.3052,-1162.5701 2380.7333,-1162 2480.4798,-1149.1584 2590.7828,-1136.7279 2685.7016,-1126.5789\" fill=\"none\" stroke=\"#000000\"/>\n",
       "<polygon fill=\"#000000\" points=\"2686.1477,-1130.0513 2695.72,-1125.5101 2685.4051,-1123.0908 2686.1477,-1130.0513\" stroke=\"#000000\"/>\n",
       "</g>\n",
       "<!-- 139798131688784&#45;&gt;139798094833200 -->\n",
       "<g class=\"edge\" id=\"edge13\">\n",
       "<title>139798131688784-&gt;139798094833200</title>\n",
       "<path d=\"M2367.6559,-1163.3421C2372.0611,-1162.8626 2376.428,-1162.4132 2380.7333,-1162 2734.3609,-1128.0592 2827.235,-1149.4961 3185.2629,-1126.081\" fill=\"none\" stroke=\"#000000\"/>\n",
       "<polygon fill=\"#000000\" points=\"3185.6438,-1129.5635 3195.391,-1125.4113 3185.1819,-1122.5788 3185.6438,-1129.5635\" stroke=\"#000000\"/>\n",
       "</g>\n",
       "<!-- 139798131688784&#45;&gt;139798093323232 -->\n",
       "<g class=\"edge\" id=\"edge16\">\n",
       "<title>139798131688784-&gt;139798093323232</title>\n",
       "<path d=\"M2367.6467,-1163.2414C2372.0546,-1162.7911 2376.4245,-1162.3752 2380.7333,-1162 2968.2843,-1110.8377 3120.9119,-1159.7544 3713.3175,-1126.0623\" fill=\"none\" stroke=\"#000000\"/>\n",
       "<polygon fill=\"#000000\" points=\"3713.6127,-1129.5513 3723.3955,-1125.4836 3713.2113,-1122.5628 3713.6127,-1129.5513\" stroke=\"#000000\"/>\n",
       "</g>\n",
       "<!-- 139798131688784&#45;&gt;139798103064024 -->\n",
       "<g class=\"edge\" id=\"edge18\">\n",
       "<title>139798131688784-&gt;139798103064024</title>\n",
       "<path d=\"M2075.9738,-1182.9337C1786.7227,-1177.2672 1119.4793,-1161.3367 548.1649,-1126.0742\" fill=\"none\" stroke=\"#000000\"/>\n",
       "<polygon fill=\"#000000\" points=\"548.2706,-1122.5741 538.0732,-1125.4487 547.8375,-1129.5607 548.2706,-1122.5741\" stroke=\"#000000\"/>\n",
       "</g>\n",
       "<!-- 139798131688784&#45;&gt;139798103064136 -->\n",
       "<g class=\"edge\" id=\"edge21\">\n",
       "<title>139798131688784-&gt;139798103064136</title>\n",
       "<path d=\"M2075.8736,-1179.662C1859.8582,-1170.6281 1441.8946,-1151.6645 1076.0685,-1126.083\" fill=\"none\" stroke=\"#000000\"/>\n",
       "<polygon fill=\"#000000\" points=\"1076.2982,-1122.5906 1066.0776,-1125.3818 1075.808,-1129.5735 1076.2982,-1122.5906\" stroke=\"#000000\"/>\n",
       "</g>\n",
       "<!-- 139798131688784&#45;&gt;139798102217616 -->\n",
       "<g class=\"edge\" id=\"edge24\">\n",
       "<title>139798131688784-&gt;139798102217616</title>\n",
       "<path d=\"M2076.2167,-1163.5845C2071.6728,-1163.0309 2067.1698,-1162.5009 2062.7333,-1162 1862.2417,-1139.3655 1808.8004,-1142.9665 1603.927,-1126.0908\" fill=\"none\" stroke=\"#000000\"/>\n",
       "<polygon fill=\"#000000\" points=\"1603.9934,-1122.5843 1593.7381,-1125.245 1603.4142,-1129.5603 1603.9934,-1122.5843\" stroke=\"#000000\"/>\n",
       "</g>\n",
       "<!-- 139798131688784&#45;&gt;139798100549472 -->\n",
       "<g class=\"edge\" id=\"edge27\">\n",
       "<title>139798131688784-&gt;139798100549472</title>\n",
       "<path d=\"M2123.3175,-1162.4901C2077.3407,-1151.7406 2022.4656,-1138.9107 1975.2856,-1127.8798\" fill=\"none\" stroke=\"#000000\"/>\n",
       "<polygon fill=\"#000000\" points=\"1975.8749,-1124.4233 1965.3406,-1125.5547 1974.2812,-1131.2395 1975.8749,-1124.4233\" stroke=\"#000000\"/>\n",
       "</g>\n",
       "<!-- 139798097413288 -->\n",
       "<g class=\"node\" id=\"node27\">\n",
       "<title>139798097413288</title>\n",
       "<polygon fill=\"none\" points=\"802.7333,-830.5 802.7333,-876.5 1348.7333,-876.5 1348.7333,-830.5 802.7333,-830.5\" stroke=\"#000000\"/>\n",
       "<text fill=\"#000000\" font-family=\"Times,serif\" font-size=\"14.00\" text-anchor=\"middle\" x=\"933.7333\" y=\"-849.8\">residual_combine2d_1: ResidualCombine2D</text>\n",
       "<polyline fill=\"none\" points=\"1064.7333,-830.5 1064.7333,-876.5 \" stroke=\"#000000\"/>\n",
       "<text fill=\"#000000\" font-family=\"Times,serif\" font-size=\"14.00\" text-anchor=\"middle\" x=\"1092.2333\" y=\"-861.3\">input:</text>\n",
       "<polyline fill=\"none\" points=\"1064.7333,-853.5 1119.7333,-853.5 \" stroke=\"#000000\"/>\n",
       "<text fill=\"#000000\" font-family=\"Times,serif\" font-size=\"14.00\" text-anchor=\"middle\" x=\"1092.2333\" y=\"-838.3\">output:</text>\n",
       "<polyline fill=\"none\" points=\"1119.7333,-830.5 1119.7333,-876.5 \" stroke=\"#000000\"/>\n",
       "<text fill=\"#000000\" font-family=\"Times,serif\" font-size=\"14.00\" text-anchor=\"middle\" x=\"1234.2333\" y=\"-861.3\">[(None, 8, 8, 512), (None, 8, 8, 2048)]</text>\n",
       "<polyline fill=\"none\" points=\"1119.7333,-853.5 1348.7333,-853.5 \" stroke=\"#000000\"/>\n",
       "<text fill=\"#000000\" font-family=\"Times,serif\" font-size=\"14.00\" text-anchor=\"middle\" x=\"1234.2333\" y=\"-838.3\">[(None, 8, 8, 1024), (1,), (1,)]</text>\n",
       "</g>\n",
       "<!-- 139798131688784&#45;&gt;139798097413288 -->\n",
       "<g class=\"edge\" id=\"edge47\">\n",
       "<title>139798131688784-&gt;139798097413288</title>\n",
       "<path d=\"M2075.9678,-1182.9054C1587.3112,-1174.0393 36.7154,-1144.4744 18.7333,-1126 -47.3623,-1058.0951 81.4061,-1011.6423 115.7333,-996 234.1053,-942.06 558.9262,-901.3476 798.0926,-877.5292\" fill=\"none\" stroke=\"#000000\"/>\n",
       "<polygon fill=\"#000000\" points=\"798.7384,-880.9825 808.3445,-876.5134 798.0481,-874.0166 798.7384,-880.9825\" stroke=\"#000000\"/>\n",
       "</g>\n",
       "<!-- 139798131239288&#45;&gt;139798095766136 -->\n",
       "<g class=\"edge\" id=\"edge6\">\n",
       "<title>139798131239288-&gt;139798095766136</title>\n",
       "<path d=\"M2527.4791,-1162.3799C2505.043,-1152.2592 2478.5553,-1140.311 2455.1656,-1129.7602\" fill=\"none\" stroke=\"#000000\"/>\n",
       "<polygon fill=\"#000000\" points=\"2456.5862,-1126.5615 2446.0315,-1125.6399 2453.7078,-1132.9423 2456.5862,-1126.5615\" stroke=\"#000000\"/>\n",
       "</g>\n",
       "<!-- 139798131239288&#45;&gt;139798095766248 -->\n",
       "<g class=\"edge\" id=\"edge9\">\n",
       "<title>139798131239288-&gt;139798095766248</title>\n",
       "<path d=\"M2674.0997,-1162.4901C2718.5586,-1151.7631 2771.6041,-1138.9643 2817.2576,-1127.9491\" fill=\"none\" stroke=\"#000000\"/>\n",
       "<polygon fill=\"#000000\" points=\"2818.2813,-1131.3026 2827.1815,-1125.5547 2816.6395,-1124.4979 2818.2813,-1131.3026\" stroke=\"#000000\"/>\n",
       "</g>\n",
       "<!-- 139798131239288&#45;&gt;139798094833200 -->\n",
       "<g class=\"edge\" id=\"edge12\">\n",
       "<title>139798131239288-&gt;139798094833200</title>\n",
       "<path d=\"M2720.7759,-1171.9799C2849.9314,-1159.6864 3043.5049,-1141.2614 3198.8657,-1126.4736\" fill=\"none\" stroke=\"#000000\"/>\n",
       "<polygon fill=\"#000000\" points=\"3199.4194,-1129.9368 3209.0427,-1125.505 3198.756,-1122.9683 3199.4194,-1129.9368\" stroke=\"#000000\"/>\n",
       "</g>\n",
       "<!-- 139798131239288&#45;&gt;139798093323232 -->\n",
       "<g class=\"edge\" id=\"edge15\">\n",
       "<title>139798131239288-&gt;139798093323232</title>\n",
       "<path d=\"M2720.9612,-1179.7171C2934.1874,-1170.6738 3349.6242,-1151.6099 3713.1892,-1126.0982\" fill=\"none\" stroke=\"#000000\"/>\n",
       "<polygon fill=\"#000000\" points=\"3713.6595,-1129.5738 3723.3889,-1125.3798 3713.1676,-1122.5911 3713.6595,-1129.5738\" stroke=\"#000000\"/>\n",
       "</g>\n",
       "<!-- 139798131239288&#45;&gt;139798103064024 -->\n",
       "<g class=\"edge\" id=\"edge19\">\n",
       "<title>139798131239288-&gt;139798103064024</title>\n",
       "<path d=\"M2436.4856,-1164.5768C2427.1066,-1163.5866 2417.7928,-1162.7112 2408.7333,-1162 1586.8863,-1097.4777 1374.939,-1170.1313 548.1319,-1126.0555\" fill=\"none\" stroke=\"#000000\"/>\n",
       "<polygon fill=\"#000000\" points=\"548.2427,-1122.5565 538.0693,-1125.515 547.8672,-1129.5465 548.2427,-1122.5565\" stroke=\"#000000\"/>\n",
       "</g>\n",
       "<!-- 139798131239288&#45;&gt;139798103064136 -->\n",
       "<g class=\"edge\" id=\"edge22\">\n",
       "<title>139798131239288-&gt;139798103064136</title>\n",
       "<path d=\"M2436.4791,-1164.6575C2427.1017,-1163.6476 2417.79,-1162.7459 2408.7333,-1162 1820.949,-1113.5914 1668.5521,-1159.7853 1076.1491,-1126.0626\" fill=\"none\" stroke=\"#000000\"/>\n",
       "<polygon fill=\"#000000\" points=\"1076.2554,-1122.563 1066.0711,-1125.4836 1075.8539,-1129.5515 1076.2554,-1122.563\" stroke=\"#000000\"/>\n",
       "</g>\n",
       "<!-- 139798131239288&#45;&gt;139798102217616 -->\n",
       "<g class=\"edge\" id=\"edge25\">\n",
       "<title>139798131239288-&gt;139798102217616</title>\n",
       "<path d=\"M2436.4629,-1164.8435C2427.0895,-1163.7884 2417.7831,-1162.8258 2408.7333,-1162 2054.9505,-1129.7166 1962.2288,-1149.5269 1604.2037,-1126.0814\" fill=\"none\" stroke=\"#000000\"/>\n",
       "<polygon fill=\"#000000\" points=\"1604.2849,-1122.5792 1594.0756,-1125.4113 1603.8227,-1129.5639 1604.2849,-1122.5792\" stroke=\"#000000\"/>\n",
       "</g>\n",
       "<!-- 139798131239288&#45;&gt;139798100549472 -->\n",
       "<g class=\"edge\" id=\"edge28\">\n",
       "<title>139798131239288-&gt;139798100549472</title>\n",
       "<path d=\"M2436.3897,-1165.5239C2427.0341,-1164.3034 2417.7516,-1163.1181 2408.7333,-1162 2307.4534,-1149.4431 2195.3531,-1136.91 2099.5083,-1126.6076\" fill=\"none\" stroke=\"#000000\"/>\n",
       "<polygon fill=\"#000000\" points=\"2099.7113,-1123.1094 2089.3949,-1125.5223 2098.9643,-1130.0694 2099.7113,-1123.1094\" stroke=\"#000000\"/>\n",
       "</g>\n",
       "<!-- 139798095766192 -->\n",
       "<g class=\"node\" id=\"node28\">\n",
       "<title>139798095766192</title>\n",
       "<polygon fill=\"none\" points=\"2910.2333,-747.5 2910.2333,-793.5 3441.2333,-793.5 3441.2333,-747.5 2910.2333,-747.5\" stroke=\"#000000\"/>\n",
       "<text fill=\"#000000\" font-family=\"Times,serif\" font-size=\"14.00\" text-anchor=\"middle\" x=\"3041.2333\" y=\"-766.8\">residual_combine1d_3: ResidualCombine1D</text>\n",
       "<polyline fill=\"none\" points=\"3172.2333,-747.5 3172.2333,-793.5 \" stroke=\"#000000\"/>\n",
       "<text fill=\"#000000\" font-family=\"Times,serif\" font-size=\"14.00\" text-anchor=\"middle\" x=\"3199.7333\" y=\"-778.3\">input:</text>\n",
       "<polyline fill=\"none\" points=\"3172.2333,-770.5 3227.2333,-770.5 \" stroke=\"#000000\"/>\n",
       "<text fill=\"#000000\" font-family=\"Times,serif\" font-size=\"14.00\" text-anchor=\"middle\" x=\"3199.7333\" y=\"-755.3\">output:</text>\n",
       "<polyline fill=\"none\" points=\"3227.2333,-747.5 3227.2333,-793.5 \" stroke=\"#000000\"/>\n",
       "<text fill=\"#000000\" font-family=\"Times,serif\" font-size=\"14.00\" text-anchor=\"middle\" x=\"3334.2333\" y=\"-778.3\">[(None, 60, 512), (None, 60, 2048)]</text>\n",
       "<polyline fill=\"none\" points=\"3227.2333,-770.5 3441.2333,-770.5 \" stroke=\"#000000\"/>\n",
       "<text fill=\"#000000\" font-family=\"Times,serif\" font-size=\"14.00\" text-anchor=\"middle\" x=\"3334.2333\" y=\"-755.3\">[(None, 60, 1024), (1,), (1,)]</text>\n",
       "</g>\n",
       "<!-- 139798131239288&#45;&gt;139798095766192 -->\n",
       "<g class=\"edge\" id=\"edge49\">\n",
       "<title>139798131239288-&gt;139798095766192</title>\n",
       "<path d=\"M2721.0019,-1181.582C3121.1617,-1170.4125 4228.4301,-1138.4188 4242.7333,-1126 4279.0388,-1094.4776 4261.7333,-1067.5807 4261.7333,-1019.5 4261.7333,-1019.5 4261.7333,-1019.5 4261.7333,-936.5 4261.7333,-854.6589 3773.567,-807.9408 3451.8205,-786.0372\" fill=\"none\" stroke=\"#000000\"/>\n",
       "<polygon fill=\"#000000\" points=\"3451.6122,-782.5152 3441.3988,-785.3324 3451.1398,-789.4993 3451.6122,-782.5152\" stroke=\"#000000\"/>\n",
       "</g>\n",
       "<!-- 139798095766080 -->\n",
       "<g class=\"node\" id=\"node16\">\n",
       "<title>139798095766080</title>\n",
       "<polygon fill=\"none\" points=\"2246.2333,-996.5 2246.2333,-1042.5 2671.2333,-1042.5 2671.2333,-996.5 2246.2333,-996.5\" stroke=\"#000000\"/>\n",
       "<text fill=\"#000000\" font-family=\"Times,serif\" font-size=\"14.00\" text-anchor=\"middle\" x=\"2379.2333\" y=\"-1015.8\">batch_normalization_14: BatchNormalization</text>\n",
       "<polyline fill=\"none\" points=\"2512.2333,-996.5 2512.2333,-1042.5 \" stroke=\"#000000\"/>\n",
       "<text fill=\"#000000\" font-family=\"Times,serif\" font-size=\"14.00\" text-anchor=\"middle\" x=\"2539.7333\" y=\"-1027.3\">input:</text>\n",
       "<polyline fill=\"none\" points=\"2512.2333,-1019.5 2567.2333,-1019.5 \" stroke=\"#000000\"/>\n",
       "<text fill=\"#000000\" font-family=\"Times,serif\" font-size=\"14.00\" text-anchor=\"middle\" x=\"2539.7333\" y=\"-1004.3\">output:</text>\n",
       "<polyline fill=\"none\" points=\"2567.2333,-996.5 2567.2333,-1042.5 \" stroke=\"#000000\"/>\n",
       "<text fill=\"#000000\" font-family=\"Times,serif\" font-size=\"14.00\" text-anchor=\"middle\" x=\"2619.2333\" y=\"-1027.3\">(None, 60, 512)</text>\n",
       "<polyline fill=\"none\" points=\"2567.2333,-1019.5 2671.2333,-1019.5 \" stroke=\"#000000\"/>\n",
       "<text fill=\"#000000\" font-family=\"Times,serif\" font-size=\"14.00\" text-anchor=\"middle\" x=\"2619.2333\" y=\"-1004.3\">(None, 60, 512)</text>\n",
       "</g>\n",
       "<!-- 139798095766136&#45;&gt;139798095766080 -->\n",
       "<g class=\"edge\" id=\"edge30\">\n",
       "<title>139798095766136-&gt;139798095766080</title>\n",
       "<path d=\"M2412.5609,-1079.3799C2419.3693,-1070.5502 2427.2503,-1060.3295 2434.5527,-1050.8593\" fill=\"none\" stroke=\"#000000\"/>\n",
       "<polygon fill=\"#000000\" points=\"2437.4447,-1052.8404 2440.7794,-1042.784 2431.9013,-1048.5659 2437.4447,-1052.8404\" stroke=\"#000000\"/>\n",
       "</g>\n",
       "<!-- 139798095766416 -->\n",
       "<g class=\"node\" id=\"node17\">\n",
       "<title>139798095766416</title>\n",
       "<polygon fill=\"none\" points=\"2731.2333,-996.5 2731.2333,-1042.5 3156.2333,-1042.5 3156.2333,-996.5 2731.2333,-996.5\" stroke=\"#000000\"/>\n",
       "<text fill=\"#000000\" font-family=\"Times,serif\" font-size=\"14.00\" text-anchor=\"middle\" x=\"2864.2333\" y=\"-1015.8\">batch_normalization_15: BatchNormalization</text>\n",
       "<polyline fill=\"none\" points=\"2997.2333,-996.5 2997.2333,-1042.5 \" stroke=\"#000000\"/>\n",
       "<text fill=\"#000000\" font-family=\"Times,serif\" font-size=\"14.00\" text-anchor=\"middle\" x=\"3024.7333\" y=\"-1027.3\">input:</text>\n",
       "<polyline fill=\"none\" points=\"2997.2333,-1019.5 3052.2333,-1019.5 \" stroke=\"#000000\"/>\n",
       "<text fill=\"#000000\" font-family=\"Times,serif\" font-size=\"14.00\" text-anchor=\"middle\" x=\"3024.7333\" y=\"-1004.3\">output:</text>\n",
       "<polyline fill=\"none\" points=\"3052.2333,-996.5 3052.2333,-1042.5 \" stroke=\"#000000\"/>\n",
       "<text fill=\"#000000\" font-family=\"Times,serif\" font-size=\"14.00\" text-anchor=\"middle\" x=\"3104.2333\" y=\"-1027.3\">(None, 60, 512)</text>\n",
       "<polyline fill=\"none\" points=\"3052.2333,-1019.5 3156.2333,-1019.5 \" stroke=\"#000000\"/>\n",
       "<text fill=\"#000000\" font-family=\"Times,serif\" font-size=\"14.00\" text-anchor=\"middle\" x=\"3104.2333\" y=\"-1004.3\">(None, 60, 512)</text>\n",
       "</g>\n",
       "<!-- 139798095766248&#45;&gt;139798095766416 -->\n",
       "<g class=\"edge\" id=\"edge31\">\n",
       "<title>139798095766248-&gt;139798095766416</title>\n",
       "<path d=\"M2928.583,-1079.3799C2930.6816,-1071.0854 2933.0908,-1061.5633 2935.3614,-1052.5889\" fill=\"none\" stroke=\"#000000\"/>\n",
       "<polygon fill=\"#000000\" points=\"2938.7824,-1053.337 2937.8422,-1042.784 2931.9962,-1051.62 2938.7824,-1053.337\" stroke=\"#000000\"/>\n",
       "</g>\n",
       "<!-- 139798094834432 -->\n",
       "<g class=\"node\" id=\"node18\">\n",
       "<title>139798094834432</title>\n",
       "<polygon fill=\"none\" points=\"3196.2333,-996.5 3196.2333,-1042.5 3621.2333,-1042.5 3621.2333,-996.5 3196.2333,-996.5\" stroke=\"#000000\"/>\n",
       "<text fill=\"#000000\" font-family=\"Times,serif\" font-size=\"14.00\" text-anchor=\"middle\" x=\"3329.2333\" y=\"-1015.8\">batch_normalization_16: BatchNormalization</text>\n",
       "<polyline fill=\"none\" points=\"3462.2333,-996.5 3462.2333,-1042.5 \" stroke=\"#000000\"/>\n",
       "<text fill=\"#000000\" font-family=\"Times,serif\" font-size=\"14.00\" text-anchor=\"middle\" x=\"3489.7333\" y=\"-1027.3\">input:</text>\n",
       "<polyline fill=\"none\" points=\"3462.2333,-1019.5 3517.2333,-1019.5 \" stroke=\"#000000\"/>\n",
       "<text fill=\"#000000\" font-family=\"Times,serif\" font-size=\"14.00\" text-anchor=\"middle\" x=\"3489.7333\" y=\"-1004.3\">output:</text>\n",
       "<polyline fill=\"none\" points=\"3517.2333,-996.5 3517.2333,-1042.5 \" stroke=\"#000000\"/>\n",
       "<text fill=\"#000000\" font-family=\"Times,serif\" font-size=\"14.00\" text-anchor=\"middle\" x=\"3569.2333\" y=\"-1027.3\">(None, 60, 512)</text>\n",
       "<polyline fill=\"none\" points=\"3517.2333,-1019.5 3621.2333,-1019.5 \" stroke=\"#000000\"/>\n",
       "<text fill=\"#000000\" font-family=\"Times,serif\" font-size=\"14.00\" text-anchor=\"middle\" x=\"3569.2333\" y=\"-1004.3\">(None, 60, 512)</text>\n",
       "</g>\n",
       "<!-- 139798094833200&#45;&gt;139798094834432 -->\n",
       "<g class=\"edge\" id=\"edge32\">\n",
       "<title>139798094833200-&gt;139798094834432</title>\n",
       "<path d=\"M3439.034,-1079.3799C3434.7014,-1070.8178 3429.7068,-1060.9477 3425.0385,-1051.7222\" fill=\"none\" stroke=\"#000000\"/>\n",
       "<polygon fill=\"#000000\" points=\"3428.1537,-1050.1264 3420.5156,-1042.784 3421.9078,-1053.287 3428.1537,-1050.1264\" stroke=\"#000000\"/>\n",
       "</g>\n",
       "<!-- 139798091796432 -->\n",
       "<g class=\"node\" id=\"node19\">\n",
       "<title>139798091796432</title>\n",
       "<polygon fill=\"none\" points=\"3703.2333,-996.5 3703.2333,-1042.5 4128.2333,-1042.5 4128.2333,-996.5 3703.2333,-996.5\" stroke=\"#000000\"/>\n",
       "<text fill=\"#000000\" font-family=\"Times,serif\" font-size=\"14.00\" text-anchor=\"middle\" x=\"3836.2333\" y=\"-1015.8\">batch_normalization_17: BatchNormalization</text>\n",
       "<polyline fill=\"none\" points=\"3969.2333,-996.5 3969.2333,-1042.5 \" stroke=\"#000000\"/>\n",
       "<text fill=\"#000000\" font-family=\"Times,serif\" font-size=\"14.00\" text-anchor=\"middle\" x=\"3996.7333\" y=\"-1027.3\">input:</text>\n",
       "<polyline fill=\"none\" points=\"3969.2333,-1019.5 4024.2333,-1019.5 \" stroke=\"#000000\"/>\n",
       "<text fill=\"#000000\" font-family=\"Times,serif\" font-size=\"14.00\" text-anchor=\"middle\" x=\"3996.7333\" y=\"-1004.3\">output:</text>\n",
       "<polyline fill=\"none\" points=\"4024.2333,-996.5 4024.2333,-1042.5 \" stroke=\"#000000\"/>\n",
       "<text fill=\"#000000\" font-family=\"Times,serif\" font-size=\"14.00\" text-anchor=\"middle\" x=\"4076.2333\" y=\"-1027.3\">(None, 60, 512)</text>\n",
       "<polyline fill=\"none\" points=\"4024.2333,-1019.5 4128.2333,-1019.5 \" stroke=\"#000000\"/>\n",
       "<text fill=\"#000000\" font-family=\"Times,serif\" font-size=\"14.00\" text-anchor=\"middle\" x=\"4076.2333\" y=\"-1004.3\">(None, 60, 512)</text>\n",
       "</g>\n",
       "<!-- 139798093323232&#45;&gt;139798091796432 -->\n",
       "<g class=\"edge\" id=\"edge33\">\n",
       "<title>139798093323232-&gt;139798091796432</title>\n",
       "<path d=\"M3961.1843,-1079.3799C3954.4823,-1070.5502 3946.7244,-1060.3295 3939.5361,-1050.8593\" fill=\"none\" stroke=\"#000000\"/>\n",
       "<polygon fill=\"#000000\" points=\"3942.2406,-1048.6332 3933.4067,-1042.784 3936.6649,-1052.8654 3942.2406,-1048.6332\" stroke=\"#000000\"/>\n",
       "</g>\n",
       "<!-- 139798103063968 -->\n",
       "<g class=\"node\" id=\"node20\">\n",
       "<title>139798103063968</title>\n",
       "<polygon fill=\"none\" points=\"124.7333,-996.5 124.7333,-1042.5 556.7333,-1042.5 556.7333,-996.5 124.7333,-996.5\" stroke=\"#000000\"/>\n",
       "<text fill=\"#000000\" font-family=\"Times,serif\" font-size=\"14.00\" text-anchor=\"middle\" x=\"257.7333\" y=\"-1015.8\">batch_normalization_10: BatchNormalization</text>\n",
       "<polyline fill=\"none\" points=\"390.7333,-996.5 390.7333,-1042.5 \" stroke=\"#000000\"/>\n",
       "<text fill=\"#000000\" font-family=\"Times,serif\" font-size=\"14.00\" text-anchor=\"middle\" x=\"418.2333\" y=\"-1027.3\">input:</text>\n",
       "<polyline fill=\"none\" points=\"390.7333,-1019.5 445.7333,-1019.5 \" stroke=\"#000000\"/>\n",
       "<text fill=\"#000000\" font-family=\"Times,serif\" font-size=\"14.00\" text-anchor=\"middle\" x=\"418.2333\" y=\"-1004.3\">output:</text>\n",
       "<polyline fill=\"none\" points=\"445.7333,-996.5 445.7333,-1042.5 \" stroke=\"#000000\"/>\n",
       "<text fill=\"#000000\" font-family=\"Times,serif\" font-size=\"14.00\" text-anchor=\"middle\" x=\"501.2333\" y=\"-1027.3\">(None, 8, 8, 512)</text>\n",
       "<polyline fill=\"none\" points=\"445.7333,-1019.5 556.7333,-1019.5 \" stroke=\"#000000\"/>\n",
       "<text fill=\"#000000\" font-family=\"Times,serif\" font-size=\"14.00\" text-anchor=\"middle\" x=\"501.2333\" y=\"-1004.3\">(None, 8, 8, 512)</text>\n",
       "</g>\n",
       "<!-- 139798103064024&#45;&gt;139798103063968 -->\n",
       "<g class=\"edge\" id=\"edge34\">\n",
       "<title>139798103064024-&gt;139798103063968</title>\n",
       "<path d=\"M298.8895,-1079.3799C304.9973,-1070.6394 312.0577,-1060.5358 318.6189,-1051.1465\" fill=\"none\" stroke=\"#000000\"/>\n",
       "<polygon fill=\"#000000\" points=\"321.6035,-1052.9858 324.4626,-1042.784 315.8656,-1048.9762 321.6035,-1052.9858\" stroke=\"#000000\"/>\n",
       "</g>\n",
       "<!-- 139798103064248 -->\n",
       "<g class=\"node\" id=\"node21\">\n",
       "<title>139798103064248</title>\n",
       "<polygon fill=\"none\" points=\"614.7333,-996.5 614.7333,-1042.5 1046.7333,-1042.5 1046.7333,-996.5 614.7333,-996.5\" stroke=\"#000000\"/>\n",
       "<text fill=\"#000000\" font-family=\"Times,serif\" font-size=\"14.00\" text-anchor=\"middle\" x=\"747.7333\" y=\"-1015.8\">batch_normalization_11: BatchNormalization</text>\n",
       "<polyline fill=\"none\" points=\"880.7333,-996.5 880.7333,-1042.5 \" stroke=\"#000000\"/>\n",
       "<text fill=\"#000000\" font-family=\"Times,serif\" font-size=\"14.00\" text-anchor=\"middle\" x=\"908.2333\" y=\"-1027.3\">input:</text>\n",
       "<polyline fill=\"none\" points=\"880.7333,-1019.5 935.7333,-1019.5 \" stroke=\"#000000\"/>\n",
       "<text fill=\"#000000\" font-family=\"Times,serif\" font-size=\"14.00\" text-anchor=\"middle\" x=\"908.2333\" y=\"-1004.3\">output:</text>\n",
       "<polyline fill=\"none\" points=\"935.7333,-996.5 935.7333,-1042.5 \" stroke=\"#000000\"/>\n",
       "<text fill=\"#000000\" font-family=\"Times,serif\" font-size=\"14.00\" text-anchor=\"middle\" x=\"991.2333\" y=\"-1027.3\">(None, 8, 8, 512)</text>\n",
       "<polyline fill=\"none\" points=\"935.7333,-1019.5 1046.7333,-1019.5 \" stroke=\"#000000\"/>\n",
       "<text fill=\"#000000\" font-family=\"Times,serif\" font-size=\"14.00\" text-anchor=\"middle\" x=\"991.2333\" y=\"-1004.3\">(None, 8, 8, 512)</text>\n",
       "</g>\n",
       "<!-- 139798103064136&#45;&gt;139798103064248 -->\n",
       "<g class=\"edge\" id=\"edge35\">\n",
       "<title>139798103064136-&gt;139798103064248</title>\n",
       "<path d=\"M816.3044,-1079.3799C818.3031,-1071.0854 820.5976,-1061.5633 822.7601,-1052.5889\" fill=\"none\" stroke=\"#000000\"/>\n",
       "<polygon fill=\"#000000\" points=\"826.1827,-1053.3257 825.1227,-1042.784 819.3774,-1051.6858 826.1827,-1053.3257\" stroke=\"#000000\"/>\n",
       "</g>\n",
       "<!-- 139798102218400 -->\n",
       "<g class=\"node\" id=\"node22\">\n",
       "<title>139798102218400</title>\n",
       "<polygon fill=\"none\" points=\"1103.7333,-996.5 1103.7333,-1042.5 1535.7333,-1042.5 1535.7333,-996.5 1103.7333,-996.5\" stroke=\"#000000\"/>\n",
       "<text fill=\"#000000\" font-family=\"Times,serif\" font-size=\"14.00\" text-anchor=\"middle\" x=\"1236.7333\" y=\"-1015.8\">batch_normalization_12: BatchNormalization</text>\n",
       "<polyline fill=\"none\" points=\"1369.7333,-996.5 1369.7333,-1042.5 \" stroke=\"#000000\"/>\n",
       "<text fill=\"#000000\" font-family=\"Times,serif\" font-size=\"14.00\" text-anchor=\"middle\" x=\"1397.2333\" y=\"-1027.3\">input:</text>\n",
       "<polyline fill=\"none\" points=\"1369.7333,-1019.5 1424.7333,-1019.5 \" stroke=\"#000000\"/>\n",
       "<text fill=\"#000000\" font-family=\"Times,serif\" font-size=\"14.00\" text-anchor=\"middle\" x=\"1397.2333\" y=\"-1004.3\">output:</text>\n",
       "<polyline fill=\"none\" points=\"1424.7333,-996.5 1424.7333,-1042.5 \" stroke=\"#000000\"/>\n",
       "<text fill=\"#000000\" font-family=\"Times,serif\" font-size=\"14.00\" text-anchor=\"middle\" x=\"1480.2333\" y=\"-1027.3\">(None, 8, 8, 512)</text>\n",
       "<polyline fill=\"none\" points=\"1424.7333,-1019.5 1535.7333,-1019.5 \" stroke=\"#000000\"/>\n",
       "<text fill=\"#000000\" font-family=\"Times,serif\" font-size=\"14.00\" text-anchor=\"middle\" x=\"1480.2333\" y=\"-1004.3\">(None, 8, 8, 512)</text>\n",
       "</g>\n",
       "<!-- 139798102217616&#45;&gt;139798102218400 -->\n",
       "<g class=\"edge\" id=\"edge36\">\n",
       "<title>139798102217616-&gt;139798102218400</title>\n",
       "<path d=\"M1333.4408,-1079.3799C1331.542,-1071.0854 1329.3623,-1061.5633 1327.3079,-1052.5889\" fill=\"none\" stroke=\"#000000\"/>\n",
       "<polygon fill=\"#000000\" points=\"1330.7067,-1051.7508 1325.0634,-1042.784 1323.8832,-1053.3129 1330.7067,-1051.7508\" stroke=\"#000000\"/>\n",
       "</g>\n",
       "<!-- 139798100627864 -->\n",
       "<g class=\"node\" id=\"node23\">\n",
       "<title>139798100627864</title>\n",
       "<polygon fill=\"none\" points=\"1611.7333,-996.5 1611.7333,-1042.5 2043.7333,-1042.5 2043.7333,-996.5 1611.7333,-996.5\" stroke=\"#000000\"/>\n",
       "<text fill=\"#000000\" font-family=\"Times,serif\" font-size=\"14.00\" text-anchor=\"middle\" x=\"1744.7333\" y=\"-1015.8\">batch_normalization_13: BatchNormalization</text>\n",
       "<polyline fill=\"none\" points=\"1877.7333,-996.5 1877.7333,-1042.5 \" stroke=\"#000000\"/>\n",
       "<text fill=\"#000000\" font-family=\"Times,serif\" font-size=\"14.00\" text-anchor=\"middle\" x=\"1905.2333\" y=\"-1027.3\">input:</text>\n",
       "<polyline fill=\"none\" points=\"1877.7333,-1019.5 1932.7333,-1019.5 \" stroke=\"#000000\"/>\n",
       "<text fill=\"#000000\" font-family=\"Times,serif\" font-size=\"14.00\" text-anchor=\"middle\" x=\"1905.2333\" y=\"-1004.3\">output:</text>\n",
       "<polyline fill=\"none\" points=\"1932.7333,-996.5 1932.7333,-1042.5 \" stroke=\"#000000\"/>\n",
       "<text fill=\"#000000\" font-family=\"Times,serif\" font-size=\"14.00\" text-anchor=\"middle\" x=\"1988.2333\" y=\"-1027.3\">(None, 8, 8, 512)</text>\n",
       "<polyline fill=\"none\" points=\"1932.7333,-1019.5 2043.7333,-1019.5 \" stroke=\"#000000\"/>\n",
       "<text fill=\"#000000\" font-family=\"Times,serif\" font-size=\"14.00\" text-anchor=\"middle\" x=\"1988.2333\" y=\"-1004.3\">(None, 8, 8, 512)</text>\n",
       "</g>\n",
       "<!-- 139798100549472&#45;&gt;139798100627864 -->\n",
       "<g class=\"edge\" id=\"edge37\">\n",
       "<title>139798100549472-&gt;139798100627864</title>\n",
       "<path d=\"M1855.8696,-1079.3799C1851.8884,-1070.907 1847.3053,-1061.1531 1843.0094,-1052.0107\" fill=\"none\" stroke=\"#000000\"/>\n",
       "<polygon fill=\"#000000\" points=\"1846.0945,-1050.3462 1838.674,-1042.784 1839.759,-1053.3231 1846.0945,-1050.3462\" stroke=\"#000000\"/>\n",
       "</g>\n",
       "<!-- 139798091403672 -->\n",
       "<g class=\"node\" id=\"node24\">\n",
       "<title>139798091403672</title>\n",
       "<polygon fill=\"none\" points=\"2859.2333,-913.5 2859.2333,-959.5 3492.2333,-959.5 3492.2333,-913.5 2859.2333,-913.5\" stroke=\"#000000\"/>\n",
       "<text fill=\"#000000\" font-family=\"Times,serif\" font-size=\"14.00\" text-anchor=\"middle\" x=\"2950.2333\" y=\"-932.8\">text2img_concat: Concatenate</text>\n",
       "<polyline fill=\"none\" points=\"3041.2333,-913.5 3041.2333,-959.5 \" stroke=\"#000000\"/>\n",
       "<text fill=\"#000000\" font-family=\"Times,serif\" font-size=\"14.00\" text-anchor=\"middle\" x=\"3068.7333\" y=\"-944.3\">input:</text>\n",
       "<polyline fill=\"none\" points=\"3041.2333,-936.5 3096.2333,-936.5 \" stroke=\"#000000\"/>\n",
       "<text fill=\"#000000\" font-family=\"Times,serif\" font-size=\"14.00\" text-anchor=\"middle\" x=\"3068.7333\" y=\"-921.3\">output:</text>\n",
       "<polyline fill=\"none\" points=\"3096.2333,-913.5 3096.2333,-959.5 \" stroke=\"#000000\"/>\n",
       "<text fill=\"#000000\" font-family=\"Times,serif\" font-size=\"14.00\" text-anchor=\"middle\" x=\"3294.2333\" y=\"-944.3\">[(None, 60, 512), (None, 60, 512), (None, 60, 512), (None, 60, 512)]</text>\n",
       "<polyline fill=\"none\" points=\"3096.2333,-936.5 3492.2333,-936.5 \" stroke=\"#000000\"/>\n",
       "<text fill=\"#000000\" font-family=\"Times,serif\" font-size=\"14.00\" text-anchor=\"middle\" x=\"3294.2333\" y=\"-921.3\">(None, 60, 2048)</text>\n",
       "</g>\n",
       "<!-- 139798095766080&#45;&gt;139798091403672 -->\n",
       "<g class=\"edge\" id=\"edge38\">\n",
       "<title>139798095766080-&gt;139798091403672</title>\n",
       "<path d=\"M2657.5056,-996.4901C2753.7684,-985.3467 2869.3446,-971.9676 2966.8994,-960.6746\" fill=\"none\" stroke=\"#000000\"/>\n",
       "<polygon fill=\"#000000\" points=\"2967.3541,-964.1455 2976.8853,-959.5187 2966.5491,-957.1919 2967.3541,-964.1455\" stroke=\"#000000\"/>\n",
       "</g>\n",
       "<!-- 139798095766416&#45;&gt;139798091403672 -->\n",
       "<g class=\"edge\" id=\"edge39\">\n",
       "<title>139798095766416-&gt;139798091403672</title>\n",
       "<path d=\"M3008.0502,-996.4901C3037.0912,-986.1004 3071.5647,-973.7672 3101.6794,-962.9934\" fill=\"none\" stroke=\"#000000\"/>\n",
       "<polygon fill=\"#000000\" points=\"3103.0548,-966.2187 3111.2914,-959.5547 3100.6968,-959.6278 3103.0548,-966.2187\" stroke=\"#000000\"/>\n",
       "</g>\n",
       "<!-- 139798094834432&#45;&gt;139798091403672 -->\n",
       "<g class=\"edge\" id=\"edge40\">\n",
       "<title>139798094834432-&gt;139798091403672</title>\n",
       "<path d=\"M3344.1392,-996.4901C3314.973,-986.1004 3280.351,-973.7672 3250.1064,-962.9934\" fill=\"none\" stroke=\"#000000\"/>\n",
       "<polygon fill=\"#000000\" points=\"3251.0477,-959.6134 3240.453,-959.5547 3248.6987,-966.2075 3251.0477,-959.6134\" stroke=\"#000000\"/>\n",
       "</g>\n",
       "<!-- 139798091796432&#45;&gt;139798091403672 -->\n",
       "<g class=\"edge\" id=\"edge41\">\n",
       "<title>139798091796432-&gt;139798091403672</title>\n",
       "<path d=\"M3710.5848,-996.4901C3611.1337,-985.3354 3491.7094,-971.9406 3390.9611,-960.6404\" fill=\"none\" stroke=\"#000000\"/>\n",
       "<polygon fill=\"#000000\" points=\"3391.2879,-957.1552 3380.96,-959.5187 3390.5076,-964.1116 3391.2879,-957.1552\" stroke=\"#000000\"/>\n",
       "</g>\n",
       "<!-- 139798098991424 -->\n",
       "<g class=\"node\" id=\"node25\">\n",
       "<title>139798098991424</title>\n",
       "<polygon fill=\"none\" points=\"744.2333,-913.5 744.2333,-959.5 1407.2333,-959.5 1407.2333,-913.5 744.2333,-913.5\" stroke=\"#000000\"/>\n",
       "<text fill=\"#000000\" font-family=\"Times,serif\" font-size=\"14.00\" text-anchor=\"middle\" x=\"835.2333\" y=\"-932.8\">img2text_concat: Concatenate</text>\n",
       "<polyline fill=\"none\" points=\"926.2333,-913.5 926.2333,-959.5 \" stroke=\"#000000\"/>\n",
       "<text fill=\"#000000\" font-family=\"Times,serif\" font-size=\"14.00\" text-anchor=\"middle\" x=\"953.7333\" y=\"-944.3\">input:</text>\n",
       "<polyline fill=\"none\" points=\"926.2333,-936.5 981.2333,-936.5 \" stroke=\"#000000\"/>\n",
       "<text fill=\"#000000\" font-family=\"Times,serif\" font-size=\"14.00\" text-anchor=\"middle\" x=\"953.7333\" y=\"-921.3\">output:</text>\n",
       "<polyline fill=\"none\" points=\"981.2333,-913.5 981.2333,-959.5 \" stroke=\"#000000\"/>\n",
       "<text fill=\"#000000\" font-family=\"Times,serif\" font-size=\"14.00\" text-anchor=\"middle\" x=\"1194.2333\" y=\"-944.3\">[(None, 8, 8, 512), (None, 8, 8, 512), (None, 8, 8, 512), (None, 8, 8, 512)]</text>\n",
       "<polyline fill=\"none\" points=\"981.2333,-936.5 1407.2333,-936.5 \" stroke=\"#000000\"/>\n",
       "<text fill=\"#000000\" font-family=\"Times,serif\" font-size=\"14.00\" text-anchor=\"middle\" x=\"1194.2333\" y=\"-921.3\">(None, 8, 8, 2048)</text>\n",
       "</g>\n",
       "<!-- 139798103063968&#45;&gt;139798098991424 -->\n",
       "<g class=\"edge\" id=\"edge42\">\n",
       "<title>139798103063968-&gt;139798098991424</title>\n",
       "<path d=\"M544.4957,-996.4901C643.1752,-985.3467 761.6529,-971.9676 861.6568,-960.6746\" fill=\"none\" stroke=\"#000000\"/>\n",
       "<polygon fill=\"#000000\" points=\"862.3492,-964.1188 871.8933,-959.5187 861.5637,-957.163 862.3492,-964.1188\" stroke=\"#000000\"/>\n",
       "</g>\n",
       "<!-- 139798103064248&#45;&gt;139798098991424 -->\n",
       "<g class=\"edge\" id=\"edge43\">\n",
       "<title>139798103064248-&gt;139798098991424</title>\n",
       "<path d=\"M898.6541,-996.4901C929.4552,-986.0554 966.0429,-973.6604 997.9426,-962.8536\" fill=\"none\" stroke=\"#000000\"/>\n",
       "<polygon fill=\"#000000\" points=\"999.3322,-966.0783 1007.6804,-959.5547 997.0861,-959.4484 999.3322,-966.0783\" stroke=\"#000000\"/>\n",
       "</g>\n",
       "<!-- 139798102218400&#45;&gt;139798098991424 -->\n",
       "<g class=\"edge\" id=\"edge44\">\n",
       "<title>139798102218400-&gt;139798098991424</title>\n",
       "<path d=\"M1252.0897,-996.4901C1221.4144,-986.0554 1184.976,-973.6604 1153.2065,-962.8536\" fill=\"none\" stroke=\"#000000\"/>\n",
       "<polygon fill=\"#000000\" points=\"1154.1029,-959.4616 1143.5085,-959.5547 1151.8486,-966.0887 1154.1029,-959.4616\" stroke=\"#000000\"/>\n",
       "</g>\n",
       "<!-- 139798100627864&#45;&gt;139798098991424 -->\n",
       "<g class=\"edge\" id=\"edge45\">\n",
       "<title>139798100627864-&gt;139798098991424</title>\n",
       "<path d=\"M1619.258,-996.4901C1518.1942,-985.3354 1396.8333,-971.9406 1294.4513,-960.6404\" fill=\"none\" stroke=\"#000000\"/>\n",
       "<polygon fill=\"#000000\" points=\"1294.6117,-957.1369 1284.288,-959.5187 1293.8437,-964.0947 1294.6117,-957.1369\" stroke=\"#000000\"/>\n",
       "</g>\n",
       "<!-- 139798091404792 -->\n",
       "<g class=\"node\" id=\"node26\">\n",
       "<title>139798091404792</title>\n",
       "<polygon fill=\"none\" points=\"2960.2333,-830.5 2960.2333,-876.5 3391.2333,-876.5 3391.2333,-830.5 2960.2333,-830.5\" stroke=\"#000000\"/>\n",
       "<text fill=\"#000000\" font-family=\"Times,serif\" font-size=\"14.00\" text-anchor=\"middle\" x=\"3093.2333\" y=\"-849.8\">batch_normalization_18: BatchNormalization</text>\n",
       "<polyline fill=\"none\" points=\"3226.2333,-830.5 3226.2333,-876.5 \" stroke=\"#000000\"/>\n",
       "<text fill=\"#000000\" font-family=\"Times,serif\" font-size=\"14.00\" text-anchor=\"middle\" x=\"3253.7333\" y=\"-861.3\">input:</text>\n",
       "<polyline fill=\"none\" points=\"3226.2333,-853.5 3281.2333,-853.5 \" stroke=\"#000000\"/>\n",
       "<text fill=\"#000000\" font-family=\"Times,serif\" font-size=\"14.00\" text-anchor=\"middle\" x=\"3253.7333\" y=\"-838.3\">output:</text>\n",
       "<polyline fill=\"none\" points=\"3281.2333,-830.5 3281.2333,-876.5 \" stroke=\"#000000\"/>\n",
       "<text fill=\"#000000\" font-family=\"Times,serif\" font-size=\"14.00\" text-anchor=\"middle\" x=\"3336.2333\" y=\"-861.3\">(None, 60, 2048)</text>\n",
       "<polyline fill=\"none\" points=\"3281.2333,-853.5 3391.2333,-853.5 \" stroke=\"#000000\"/>\n",
       "<text fill=\"#000000\" font-family=\"Times,serif\" font-size=\"14.00\" text-anchor=\"middle\" x=\"3336.2333\" y=\"-838.3\">(None, 60, 2048)</text>\n",
       "</g>\n",
       "<!-- 139798091403672&#45;&gt;139798091404792 -->\n",
       "<g class=\"edge\" id=\"edge46\">\n",
       "<title>139798091403672-&gt;139798091404792</title>\n",
       "<path d=\"M3175.7333,-913.3799C3175.7333,-905.1745 3175.7333,-895.7679 3175.7333,-886.8786\" fill=\"none\" stroke=\"#000000\"/>\n",
       "<polygon fill=\"#000000\" points=\"3179.2334,-886.784 3175.7333,-876.784 3172.2334,-886.784 3179.2334,-886.784\" stroke=\"#000000\"/>\n",
       "</g>\n",
       "<!-- 139798098991424&#45;&gt;139798097413288 -->\n",
       "<g class=\"edge\" id=\"edge48\">\n",
       "<title>139798098991424-&gt;139798097413288</title>\n",
       "<path d=\"M1075.7333,-913.3799C1075.7333,-905.1745 1075.7333,-895.7679 1075.7333,-886.8786\" fill=\"none\" stroke=\"#000000\"/>\n",
       "<polygon fill=\"#000000\" points=\"1079.2334,-886.784 1075.7333,-876.784 1072.2334,-886.784 1079.2334,-886.784\" stroke=\"#000000\"/>\n",
       "</g>\n",
       "<!-- 139798091404792&#45;&gt;139798095766192 -->\n",
       "<g class=\"edge\" id=\"edge50\">\n",
       "<title>139798091404792-&gt;139798095766192</title>\n",
       "<path d=\"M3175.7333,-830.3799C3175.7333,-822.1745 3175.7333,-812.7679 3175.7333,-803.8786\" fill=\"none\" stroke=\"#000000\"/>\n",
       "<polygon fill=\"#000000\" points=\"3179.2334,-803.784 3175.7333,-793.784 3172.2334,-803.784 3179.2334,-803.784\" stroke=\"#000000\"/>\n",
       "</g>\n",
       "<!-- 139798103064080 -->\n",
       "<g class=\"node\" id=\"node29\">\n",
       "<title>139798103064080</title>\n",
       "<polygon fill=\"none\" points=\"2056.2333,-664.5 2056.2333,-710.5 2515.2333,-710.5 2515.2333,-664.5 2056.2333,-664.5\" stroke=\"#000000\"/>\n",
       "<text fill=\"#000000\" font-family=\"Times,serif\" font-size=\"14.00\" text-anchor=\"middle\" x=\"2199.2333\" y=\"-683.8\">img2text_comb_batchnorm: BatchNormalization</text>\n",
       "<polyline fill=\"none\" points=\"2342.2333,-664.5 2342.2333,-710.5 \" stroke=\"#000000\"/>\n",
       "<text fill=\"#000000\" font-family=\"Times,serif\" font-size=\"14.00\" text-anchor=\"middle\" x=\"2369.7333\" y=\"-695.3\">input:</text>\n",
       "<polyline fill=\"none\" points=\"2342.2333,-687.5 2397.2333,-687.5 \" stroke=\"#000000\"/>\n",
       "<text fill=\"#000000\" font-family=\"Times,serif\" font-size=\"14.00\" text-anchor=\"middle\" x=\"2369.7333\" y=\"-672.3\">output:</text>\n",
       "<polyline fill=\"none\" points=\"2397.2333,-664.5 2397.2333,-710.5 \" stroke=\"#000000\"/>\n",
       "<text fill=\"#000000\" font-family=\"Times,serif\" font-size=\"14.00\" text-anchor=\"middle\" x=\"2456.2333\" y=\"-695.3\">(None, 8, 8, 1024)</text>\n",
       "<polyline fill=\"none\" points=\"2397.2333,-687.5 2515.2333,-687.5 \" stroke=\"#000000\"/>\n",
       "<text fill=\"#000000\" font-family=\"Times,serif\" font-size=\"14.00\" text-anchor=\"middle\" x=\"2456.2333\" y=\"-672.3\">(None, 8, 8, 1024)</text>\n",
       "</g>\n",
       "<!-- 139798097413288&#45;&gt;139798103064080 -->\n",
       "<g class=\"edge\" id=\"edge51\">\n",
       "<title>139798097413288-&gt;139798103064080</title>\n",
       "<path d=\"M1243.6607,-830.462C1471.149,-799.2529 1875.4627,-743.7851 2107.9377,-711.8918\" fill=\"none\" stroke=\"#000000\"/>\n",
       "<polygon fill=\"#000000\" points=\"2108.4164,-715.359 2117.8478,-710.5322 2107.4649,-708.424 2108.4164,-715.359\" stroke=\"#000000\"/>\n",
       "</g>\n",
       "<!-- 139798090007496 -->\n",
       "<g class=\"node\" id=\"node30\">\n",
       "<title>139798090007496</title>\n",
       "<polygon fill=\"none\" points=\"2811.2333,-664.5 2811.2333,-710.5 3262.2333,-710.5 3262.2333,-664.5 2811.2333,-664.5\" stroke=\"#000000\"/>\n",
       "<text fill=\"#000000\" font-family=\"Times,serif\" font-size=\"14.00\" text-anchor=\"middle\" x=\"2954.2333\" y=\"-683.8\">text2img_comb_batchnorm: BatchNormalization</text>\n",
       "<polyline fill=\"none\" points=\"3097.2333,-664.5 3097.2333,-710.5 \" stroke=\"#000000\"/>\n",
       "<text fill=\"#000000\" font-family=\"Times,serif\" font-size=\"14.00\" text-anchor=\"middle\" x=\"3124.7333\" y=\"-695.3\">input:</text>\n",
       "<polyline fill=\"none\" points=\"3097.2333,-687.5 3152.2333,-687.5 \" stroke=\"#000000\"/>\n",
       "<text fill=\"#000000\" font-family=\"Times,serif\" font-size=\"14.00\" text-anchor=\"middle\" x=\"3124.7333\" y=\"-672.3\">output:</text>\n",
       "<polyline fill=\"none\" points=\"3152.2333,-664.5 3152.2333,-710.5 \" stroke=\"#000000\"/>\n",
       "<text fill=\"#000000\" font-family=\"Times,serif\" font-size=\"14.00\" text-anchor=\"middle\" x=\"3207.2333\" y=\"-695.3\">(None, 60, 1024)</text>\n",
       "<polyline fill=\"none\" points=\"3152.2333,-687.5 3262.2333,-687.5 \" stroke=\"#000000\"/>\n",
       "<text fill=\"#000000\" font-family=\"Times,serif\" font-size=\"14.00\" text-anchor=\"middle\" x=\"3207.2333\" y=\"-672.3\">(None, 60, 1024)</text>\n",
       "</g>\n",
       "<!-- 139798095766192&#45;&gt;139798090007496 -->\n",
       "<g class=\"edge\" id=\"edge52\">\n",
       "<title>139798095766192-&gt;139798090007496</title>\n",
       "<path d=\"M3137.0141,-747.3799C3120.7334,-737.6583 3101.6288,-726.2505 3084.4869,-716.0147\" fill=\"none\" stroke=\"#000000\"/>\n",
       "<polygon fill=\"#000000\" points=\"3086.1072,-712.9058 3075.727,-710.784 3082.5184,-718.9159 3086.1072,-712.9058\" stroke=\"#000000\"/>\n",
       "</g>\n",
       "<!-- 139798097211800 -->\n",
       "<g class=\"node\" id=\"node31\">\n",
       "<title>139798097211800</title>\n",
       "<polygon fill=\"none\" points=\"2155.7333,-581.5 2155.7333,-627.5 2415.7333,-627.5 2415.7333,-581.5 2155.7333,-581.5\" stroke=\"#000000\"/>\n",
       "<text fill=\"#000000\" font-family=\"Times,serif\" font-size=\"14.00\" text-anchor=\"middle\" x=\"2199.2333\" y=\"-600.8\">elu_95: ELU</text>\n",
       "<polyline fill=\"none\" points=\"2242.7333,-581.5 2242.7333,-627.5 \" stroke=\"#000000\"/>\n",
       "<text fill=\"#000000\" font-family=\"Times,serif\" font-size=\"14.00\" text-anchor=\"middle\" x=\"2270.2333\" y=\"-612.3\">input:</text>\n",
       "<polyline fill=\"none\" points=\"2242.7333,-604.5 2297.7333,-604.5 \" stroke=\"#000000\"/>\n",
       "<text fill=\"#000000\" font-family=\"Times,serif\" font-size=\"14.00\" text-anchor=\"middle\" x=\"2270.2333\" y=\"-589.3\">output:</text>\n",
       "<polyline fill=\"none\" points=\"2297.7333,-581.5 2297.7333,-627.5 \" stroke=\"#000000\"/>\n",
       "<text fill=\"#000000\" font-family=\"Times,serif\" font-size=\"14.00\" text-anchor=\"middle\" x=\"2356.7333\" y=\"-612.3\">(None, 8, 8, 1024)</text>\n",
       "<polyline fill=\"none\" points=\"2297.7333,-604.5 2415.7333,-604.5 \" stroke=\"#000000\"/>\n",
       "<text fill=\"#000000\" font-family=\"Times,serif\" font-size=\"14.00\" text-anchor=\"middle\" x=\"2356.7333\" y=\"-589.3\">(None, 8, 8, 1024)</text>\n",
       "</g>\n",
       "<!-- 139798103064080&#45;&gt;139798097211800 -->\n",
       "<g class=\"edge\" id=\"edge53\">\n",
       "<title>139798103064080-&gt;139798097211800</title>\n",
       "<path d=\"M2285.7333,-664.3799C2285.7333,-656.1745 2285.7333,-646.7679 2285.7333,-637.8786\" fill=\"none\" stroke=\"#000000\"/>\n",
       "<polygon fill=\"#000000\" points=\"2289.2334,-637.784 2285.7333,-627.784 2282.2334,-637.784 2289.2334,-637.784\" stroke=\"#000000\"/>\n",
       "</g>\n",
       "<!-- 139798089721392 -->\n",
       "<g class=\"node\" id=\"node32\">\n",
       "<title>139798089721392</title>\n",
       "<polygon fill=\"none\" points=\"2837.2333,-581.5 2837.2333,-627.5 3096.2333,-627.5 3096.2333,-581.5 2837.2333,-581.5\" stroke=\"#000000\"/>\n",
       "<text fill=\"#000000\" font-family=\"Times,serif\" font-size=\"14.00\" text-anchor=\"middle\" x=\"2884.2333\" y=\"-600.8\">elu_113: ELU</text>\n",
       "<polyline fill=\"none\" points=\"2931.2333,-581.5 2931.2333,-627.5 \" stroke=\"#000000\"/>\n",
       "<text fill=\"#000000\" font-family=\"Times,serif\" font-size=\"14.00\" text-anchor=\"middle\" x=\"2958.7333\" y=\"-612.3\">input:</text>\n",
       "<polyline fill=\"none\" points=\"2931.2333,-604.5 2986.2333,-604.5 \" stroke=\"#000000\"/>\n",
       "<text fill=\"#000000\" font-family=\"Times,serif\" font-size=\"14.00\" text-anchor=\"middle\" x=\"2958.7333\" y=\"-589.3\">output:</text>\n",
       "<polyline fill=\"none\" points=\"2986.2333,-581.5 2986.2333,-627.5 \" stroke=\"#000000\"/>\n",
       "<text fill=\"#000000\" font-family=\"Times,serif\" font-size=\"14.00\" text-anchor=\"middle\" x=\"3041.2333\" y=\"-612.3\">(None, 60, 1024)</text>\n",
       "<polyline fill=\"none\" points=\"2986.2333,-604.5 3096.2333,-604.5 \" stroke=\"#000000\"/>\n",
       "<text fill=\"#000000\" font-family=\"Times,serif\" font-size=\"14.00\" text-anchor=\"middle\" x=\"3041.2333\" y=\"-589.3\">(None, 60, 1024)</text>\n",
       "</g>\n",
       "<!-- 139798090007496&#45;&gt;139798089721392 -->\n",
       "<g class=\"edge\" id=\"edge54\">\n",
       "<title>139798090007496-&gt;139798089721392</title>\n",
       "<path d=\"M3017.2344,-664.3799C3009.7125,-655.461 3000.9936,-645.1229 2992.9391,-635.5725\" fill=\"none\" stroke=\"#000000\"/>\n",
       "<polygon fill=\"#000000\" points=\"2995.493,-633.1719 2986.3704,-627.784 2990.142,-637.6848 2995.493,-633.1719\" stroke=\"#000000\"/>\n",
       "</g>\n",
       "<!-- 139798096927152 -->\n",
       "<g class=\"node\" id=\"node33\">\n",
       "<title>139798096927152</title>\n",
       "<polygon fill=\"none\" points=\"2136.7333,-498.5 2136.7333,-544.5 2434.7333,-544.5 2434.7333,-498.5 2136.7333,-498.5\" stroke=\"#000000\"/>\n",
       "<text fill=\"#000000\" font-family=\"Times,serif\" font-size=\"14.00\" text-anchor=\"middle\" x=\"2199.2333\" y=\"-517.8\">dropout_9: Dropout</text>\n",
       "<polyline fill=\"none\" points=\"2261.7333,-498.5 2261.7333,-544.5 \" stroke=\"#000000\"/>\n",
       "<text fill=\"#000000\" font-family=\"Times,serif\" font-size=\"14.00\" text-anchor=\"middle\" x=\"2289.2333\" y=\"-529.3\">input:</text>\n",
       "<polyline fill=\"none\" points=\"2261.7333,-521.5 2316.7333,-521.5 \" stroke=\"#000000\"/>\n",
       "<text fill=\"#000000\" font-family=\"Times,serif\" font-size=\"14.00\" text-anchor=\"middle\" x=\"2289.2333\" y=\"-506.3\">output:</text>\n",
       "<polyline fill=\"none\" points=\"2316.7333,-498.5 2316.7333,-544.5 \" stroke=\"#000000\"/>\n",
       "<text fill=\"#000000\" font-family=\"Times,serif\" font-size=\"14.00\" text-anchor=\"middle\" x=\"2375.7333\" y=\"-529.3\">(None, 8, 8, 1024)</text>\n",
       "<polyline fill=\"none\" points=\"2316.7333,-521.5 2434.7333,-521.5 \" stroke=\"#000000\"/>\n",
       "<text fill=\"#000000\" font-family=\"Times,serif\" font-size=\"14.00\" text-anchor=\"middle\" x=\"2375.7333\" y=\"-506.3\">(None, 8, 8, 1024)</text>\n",
       "</g>\n",
       "<!-- 139798097211800&#45;&gt;139798096927152 -->\n",
       "<g class=\"edge\" id=\"edge55\">\n",
       "<title>139798097211800-&gt;139798096927152</title>\n",
       "<path d=\"M2285.7333,-581.3799C2285.7333,-573.1745 2285.7333,-563.7679 2285.7333,-554.8786\" fill=\"none\" stroke=\"#000000\"/>\n",
       "<polygon fill=\"#000000\" points=\"2289.2334,-554.784 2285.7333,-544.784 2282.2334,-554.784 2289.2334,-554.784\" stroke=\"#000000\"/>\n",
       "</g>\n",
       "<!-- 139798089221680 -->\n",
       "<g class=\"node\" id=\"node34\">\n",
       "<title>139798089221680</title>\n",
       "<polygon fill=\"none\" points=\"2679.7333,-498.5 2679.7333,-544.5 2975.7333,-544.5 2975.7333,-498.5 2679.7333,-498.5\" stroke=\"#000000\"/>\n",
       "<text fill=\"#000000\" font-family=\"Times,serif\" font-size=\"14.00\" text-anchor=\"middle\" x=\"2745.2333\" y=\"-517.8\">dropout_10: Dropout</text>\n",
       "<polyline fill=\"none\" points=\"2810.7333,-498.5 2810.7333,-544.5 \" stroke=\"#000000\"/>\n",
       "<text fill=\"#000000\" font-family=\"Times,serif\" font-size=\"14.00\" text-anchor=\"middle\" x=\"2838.2333\" y=\"-529.3\">input:</text>\n",
       "<polyline fill=\"none\" points=\"2810.7333,-521.5 2865.7333,-521.5 \" stroke=\"#000000\"/>\n",
       "<text fill=\"#000000\" font-family=\"Times,serif\" font-size=\"14.00\" text-anchor=\"middle\" x=\"2838.2333\" y=\"-506.3\">output:</text>\n",
       "<polyline fill=\"none\" points=\"2865.7333,-498.5 2865.7333,-544.5 \" stroke=\"#000000\"/>\n",
       "<text fill=\"#000000\" font-family=\"Times,serif\" font-size=\"14.00\" text-anchor=\"middle\" x=\"2920.7333\" y=\"-529.3\">(None, 60, 1024)</text>\n",
       "<polyline fill=\"none\" points=\"2865.7333,-521.5 2975.7333,-521.5 \" stroke=\"#000000\"/>\n",
       "<text fill=\"#000000\" font-family=\"Times,serif\" font-size=\"14.00\" text-anchor=\"middle\" x=\"2920.7333\" y=\"-506.3\">(None, 60, 1024)</text>\n",
       "</g>\n",
       "<!-- 139798089721392&#45;&gt;139798089221680 -->\n",
       "<g class=\"edge\" id=\"edge56\">\n",
       "<title>139798089721392-&gt;139798089221680</title>\n",
       "<path d=\"M2928.0141,-581.3799C2911.7334,-571.6583 2892.6288,-560.2505 2875.4869,-550.0147\" fill=\"none\" stroke=\"#000000\"/>\n",
       "<polygon fill=\"#000000\" points=\"2877.1072,-546.9058 2866.727,-544.784 2873.5184,-552.9159 2877.1072,-546.9058\" stroke=\"#000000\"/>\n",
       "</g>\n",
       "<!-- 139798096723864 -->\n",
       "<g class=\"node\" id=\"node35\">\n",
       "<title>139798096723864</title>\n",
       "<polygon fill=\"none\" points=\"2056.7333,-415.5 2056.7333,-461.5 2514.7333,-461.5 2514.7333,-415.5 2056.7333,-415.5\" stroke=\"#000000\"/>\n",
       "<text fill=\"#000000\" font-family=\"Times,serif\" font-size=\"14.00\" text-anchor=\"middle\" x=\"2199.2333\" y=\"-434.8\">img2text_global_pool: GlobalAveragePooling2D</text>\n",
       "<polyline fill=\"none\" points=\"2341.7333,-415.5 2341.7333,-461.5 \" stroke=\"#000000\"/>\n",
       "<text fill=\"#000000\" font-family=\"Times,serif\" font-size=\"14.00\" text-anchor=\"middle\" x=\"2369.2333\" y=\"-446.3\">input:</text>\n",
       "<polyline fill=\"none\" points=\"2341.7333,-438.5 2396.7333,-438.5 \" stroke=\"#000000\"/>\n",
       "<text fill=\"#000000\" font-family=\"Times,serif\" font-size=\"14.00\" text-anchor=\"middle\" x=\"2369.2333\" y=\"-423.3\">output:</text>\n",
       "<polyline fill=\"none\" points=\"2396.7333,-415.5 2396.7333,-461.5 \" stroke=\"#000000\"/>\n",
       "<text fill=\"#000000\" font-family=\"Times,serif\" font-size=\"14.00\" text-anchor=\"middle\" x=\"2455.7333\" y=\"-446.3\">(None, 8, 8, 1024)</text>\n",
       "<polyline fill=\"none\" points=\"2396.7333,-438.5 2514.7333,-438.5 \" stroke=\"#000000\"/>\n",
       "<text fill=\"#000000\" font-family=\"Times,serif\" font-size=\"14.00\" text-anchor=\"middle\" x=\"2455.7333\" y=\"-423.3\">(None, 1024)</text>\n",
       "</g>\n",
       "<!-- 139798096927152&#45;&gt;139798096723864 -->\n",
       "<g class=\"edge\" id=\"edge57\">\n",
       "<title>139798096927152-&gt;139798096723864</title>\n",
       "<path d=\"M2285.7333,-498.3799C2285.7333,-490.1745 2285.7333,-480.7679 2285.7333,-471.8786\" fill=\"none\" stroke=\"#000000\"/>\n",
       "<polygon fill=\"#000000\" points=\"2289.2334,-471.784 2285.7333,-461.784 2282.2334,-471.784 2289.2334,-471.784\" stroke=\"#000000\"/>\n",
       "</g>\n",
       "<!-- 139798087726136 -->\n",
       "<g class=\"node\" id=\"node36\">\n",
       "<title>139798087726136</title>\n",
       "<polygon fill=\"none\" points=\"2532.7333,-415.5 2532.7333,-461.5 2982.7333,-461.5 2982.7333,-415.5 2532.7333,-415.5\" stroke=\"#000000\"/>\n",
       "<text fill=\"#000000\" font-family=\"Times,serif\" font-size=\"14.00\" text-anchor=\"middle\" x=\"2675.2333\" y=\"-434.8\">text2img_global_pool: GlobalAveragePooling1D</text>\n",
       "<polyline fill=\"none\" points=\"2817.7333,-415.5 2817.7333,-461.5 \" stroke=\"#000000\"/>\n",
       "<text fill=\"#000000\" font-family=\"Times,serif\" font-size=\"14.00\" text-anchor=\"middle\" x=\"2845.2333\" y=\"-446.3\">input:</text>\n",
       "<polyline fill=\"none\" points=\"2817.7333,-438.5 2872.7333,-438.5 \" stroke=\"#000000\"/>\n",
       "<text fill=\"#000000\" font-family=\"Times,serif\" font-size=\"14.00\" text-anchor=\"middle\" x=\"2845.2333\" y=\"-423.3\">output:</text>\n",
       "<polyline fill=\"none\" points=\"2872.7333,-415.5 2872.7333,-461.5 \" stroke=\"#000000\"/>\n",
       "<text fill=\"#000000\" font-family=\"Times,serif\" font-size=\"14.00\" text-anchor=\"middle\" x=\"2927.7333\" y=\"-446.3\">(None, 60, 1024)</text>\n",
       "<polyline fill=\"none\" points=\"2872.7333,-438.5 2982.7333,-438.5 \" stroke=\"#000000\"/>\n",
       "<text fill=\"#000000\" font-family=\"Times,serif\" font-size=\"14.00\" text-anchor=\"middle\" x=\"2927.7333\" y=\"-423.3\">(None, 1024)</text>\n",
       "</g>\n",
       "<!-- 139798089221680&#45;&gt;139798087726136 -->\n",
       "<g class=\"edge\" id=\"edge58\">\n",
       "<title>139798089221680-&gt;139798087726136</title>\n",
       "<path d=\"M2808.2344,-498.3799C2800.7125,-489.461 2791.9936,-479.1229 2783.9391,-469.5725\" fill=\"none\" stroke=\"#000000\"/>\n",
       "<polygon fill=\"#000000\" points=\"2786.493,-467.1719 2777.3704,-461.784 2781.142,-471.6848 2786.493,-467.1719\" stroke=\"#000000\"/>\n",
       "</g>\n",
       "<!-- 139798103060888 -->\n",
       "<g class=\"node\" id=\"node37\">\n",
       "<title>139798103060888</title>\n",
       "<polygon fill=\"none\" points=\"2320.7333,-332.5 2320.7333,-378.5 2722.7333,-378.5 2722.7333,-332.5 2320.7333,-332.5\" stroke=\"#000000\"/>\n",
       "<text fill=\"#000000\" font-family=\"Times,serif\" font-size=\"14.00\" text-anchor=\"middle\" x=\"2404.7333\" y=\"-351.8\">concatenate_8: Concatenate</text>\n",
       "<polyline fill=\"none\" points=\"2488.7333,-332.5 2488.7333,-378.5 \" stroke=\"#000000\"/>\n",
       "<text fill=\"#000000\" font-family=\"Times,serif\" font-size=\"14.00\" text-anchor=\"middle\" x=\"2516.2333\" y=\"-363.3\">input:</text>\n",
       "<polyline fill=\"none\" points=\"2488.7333,-355.5 2543.7333,-355.5 \" stroke=\"#000000\"/>\n",
       "<text fill=\"#000000\" font-family=\"Times,serif\" font-size=\"14.00\" text-anchor=\"middle\" x=\"2516.2333\" y=\"-340.3\">output:</text>\n",
       "<polyline fill=\"none\" points=\"2543.7333,-332.5 2543.7333,-378.5 \" stroke=\"#000000\"/>\n",
       "<text fill=\"#000000\" font-family=\"Times,serif\" font-size=\"14.00\" text-anchor=\"middle\" x=\"2633.2333\" y=\"-363.3\">[(None, 1024), (None, 1024)]</text>\n",
       "<polyline fill=\"none\" points=\"2543.7333,-355.5 2722.7333,-355.5 \" stroke=\"#000000\"/>\n",
       "<text fill=\"#000000\" font-family=\"Times,serif\" font-size=\"14.00\" text-anchor=\"middle\" x=\"2633.2333\" y=\"-340.3\">(None, 2048)</text>\n",
       "</g>\n",
       "<!-- 139798096723864&#45;&gt;139798103060888 -->\n",
       "<g class=\"edge\" id=\"edge59\">\n",
       "<title>139798096723864-&gt;139798103060888</title>\n",
       "<path d=\"M2351.1591,-415.4901C2380.7008,-405.1004 2415.7687,-392.7672 2446.4026,-381.9934\" fill=\"none\" stroke=\"#000000\"/>\n",
       "<polygon fill=\"#000000\" points=\"2447.9079,-385.1742 2456.1803,-378.5547 2445.5855,-378.5707 2447.9079,-385.1742\" stroke=\"#000000\"/>\n",
       "</g>\n",
       "<!-- 139798087726136&#45;&gt;139798103060888 -->\n",
       "<g class=\"edge\" id=\"edge60\">\n",
       "<title>139798087726136-&gt;139798103060888</title>\n",
       "<path d=\"M2692.3076,-415.4901C2662.7658,-405.1004 2627.698,-392.7672 2597.064,-381.9934\" fill=\"none\" stroke=\"#000000\"/>\n",
       "<polygon fill=\"#000000\" points=\"2597.8812,-378.5707 2587.2863,-378.5547 2595.5587,-385.1742 2597.8812,-378.5707\" stroke=\"#000000\"/>\n",
       "</g>\n",
       "<!-- 139798103060720 -->\n",
       "<g class=\"node\" id=\"node38\">\n",
       "<title>139798103060720</title>\n",
       "<polygon fill=\"none\" points=\"2398.7333,-249.5 2398.7333,-295.5 2644.7333,-295.5 2644.7333,-249.5 2398.7333,-249.5\" stroke=\"#000000\"/>\n",
       "<text fill=\"#000000\" font-family=\"Times,serif\" font-size=\"14.00\" text-anchor=\"middle\" x=\"2449.7333\" y=\"-268.8\">dense_1: Dense</text>\n",
       "<polyline fill=\"none\" points=\"2500.7333,-249.5 2500.7333,-295.5 \" stroke=\"#000000\"/>\n",
       "<text fill=\"#000000\" font-family=\"Times,serif\" font-size=\"14.00\" text-anchor=\"middle\" x=\"2528.2333\" y=\"-280.3\">input:</text>\n",
       "<polyline fill=\"none\" points=\"2500.7333,-272.5 2555.7333,-272.5 \" stroke=\"#000000\"/>\n",
       "<text fill=\"#000000\" font-family=\"Times,serif\" font-size=\"14.00\" text-anchor=\"middle\" x=\"2528.2333\" y=\"-257.3\">output:</text>\n",
       "<polyline fill=\"none\" points=\"2555.7333,-249.5 2555.7333,-295.5 \" stroke=\"#000000\"/>\n",
       "<text fill=\"#000000\" font-family=\"Times,serif\" font-size=\"14.00\" text-anchor=\"middle\" x=\"2600.2333\" y=\"-280.3\">(None, 2048)</text>\n",
       "<polyline fill=\"none\" points=\"2555.7333,-272.5 2644.7333,-272.5 \" stroke=\"#000000\"/>\n",
       "<text fill=\"#000000\" font-family=\"Times,serif\" font-size=\"14.00\" text-anchor=\"middle\" x=\"2600.2333\" y=\"-257.3\">(None, 512)</text>\n",
       "</g>\n",
       "<!-- 139798103060888&#45;&gt;139798103060720 -->\n",
       "<g class=\"edge\" id=\"edge61\">\n",
       "<title>139798103060888-&gt;139798103060720</title>\n",
       "<path d=\"M2521.7333,-332.3799C2521.7333,-324.1745 2521.7333,-314.7679 2521.7333,-305.8786\" fill=\"none\" stroke=\"#000000\"/>\n",
       "<polygon fill=\"#000000\" points=\"2525.2334,-305.784 2521.7333,-295.784 2518.2334,-305.784 2525.2334,-305.784\" stroke=\"#000000\"/>\n",
       "</g>\n",
       "<!-- 139798103060944 -->\n",
       "<g class=\"node\" id=\"node39\">\n",
       "<title>139798103060944</title>\n",
       "<polygon fill=\"none\" points=\"2405.7333,-166.5 2405.7333,-212.5 2637.7333,-212.5 2637.7333,-166.5 2405.7333,-166.5\" stroke=\"#000000\"/>\n",
       "<text fill=\"#000000\" font-family=\"Times,serif\" font-size=\"14.00\" text-anchor=\"middle\" x=\"2452.7333\" y=\"-185.8\">elu_114: ELU</text>\n",
       "<polyline fill=\"none\" points=\"2499.7333,-166.5 2499.7333,-212.5 \" stroke=\"#000000\"/>\n",
       "<text fill=\"#000000\" font-family=\"Times,serif\" font-size=\"14.00\" text-anchor=\"middle\" x=\"2527.2333\" y=\"-197.3\">input:</text>\n",
       "<polyline fill=\"none\" points=\"2499.7333,-189.5 2554.7333,-189.5 \" stroke=\"#000000\"/>\n",
       "<text fill=\"#000000\" font-family=\"Times,serif\" font-size=\"14.00\" text-anchor=\"middle\" x=\"2527.2333\" y=\"-174.3\">output:</text>\n",
       "<polyline fill=\"none\" points=\"2554.7333,-166.5 2554.7333,-212.5 \" stroke=\"#000000\"/>\n",
       "<text fill=\"#000000\" font-family=\"Times,serif\" font-size=\"14.00\" text-anchor=\"middle\" x=\"2596.2333\" y=\"-197.3\">(None, 512)</text>\n",
       "<polyline fill=\"none\" points=\"2554.7333,-189.5 2637.7333,-189.5 \" stroke=\"#000000\"/>\n",
       "<text fill=\"#000000\" font-family=\"Times,serif\" font-size=\"14.00\" text-anchor=\"middle\" x=\"2596.2333\" y=\"-174.3\">(None, 512)</text>\n",
       "</g>\n",
       "<!-- 139798103060720&#45;&gt;139798103060944 -->\n",
       "<g class=\"edge\" id=\"edge62\">\n",
       "<title>139798103060720-&gt;139798103060944</title>\n",
       "<path d=\"M2521.7333,-249.3799C2521.7333,-241.1745 2521.7333,-231.7679 2521.7333,-222.8786\" fill=\"none\" stroke=\"#000000\"/>\n",
       "<polygon fill=\"#000000\" points=\"2525.2334,-222.784 2521.7333,-212.784 2518.2334,-222.784 2525.2334,-222.784\" stroke=\"#000000\"/>\n",
       "</g>\n",
       "<!-- 139798103061672 -->\n",
       "<g class=\"node\" id=\"node40\">\n",
       "<title>139798103061672</title>\n",
       "<polygon fill=\"none\" points=\"2387.2333,-83.5 2387.2333,-129.5 2656.2333,-129.5 2656.2333,-83.5 2387.2333,-83.5\" stroke=\"#000000\"/>\n",
       "<text fill=\"#000000\" font-family=\"Times,serif\" font-size=\"14.00\" text-anchor=\"middle\" x=\"2452.7333\" y=\"-102.8\">dropout_11: Dropout</text>\n",
       "<polyline fill=\"none\" points=\"2518.2333,-83.5 2518.2333,-129.5 \" stroke=\"#000000\"/>\n",
       "<text fill=\"#000000\" font-family=\"Times,serif\" font-size=\"14.00\" text-anchor=\"middle\" x=\"2545.7333\" y=\"-114.3\">input:</text>\n",
       "<polyline fill=\"none\" points=\"2518.2333,-106.5 2573.2333,-106.5 \" stroke=\"#000000\"/>\n",
       "<text fill=\"#000000\" font-family=\"Times,serif\" font-size=\"14.00\" text-anchor=\"middle\" x=\"2545.7333\" y=\"-91.3\">output:</text>\n",
       "<polyline fill=\"none\" points=\"2573.2333,-83.5 2573.2333,-129.5 \" stroke=\"#000000\"/>\n",
       "<text fill=\"#000000\" font-family=\"Times,serif\" font-size=\"14.00\" text-anchor=\"middle\" x=\"2614.7333\" y=\"-114.3\">(None, 512)</text>\n",
       "<polyline fill=\"none\" points=\"2573.2333,-106.5 2656.2333,-106.5 \" stroke=\"#000000\"/>\n",
       "<text fill=\"#000000\" font-family=\"Times,serif\" font-size=\"14.00\" text-anchor=\"middle\" x=\"2614.7333\" y=\"-91.3\">(None, 512)</text>\n",
       "</g>\n",
       "<!-- 139798103060944&#45;&gt;139798103061672 -->\n",
       "<g class=\"edge\" id=\"edge63\">\n",
       "<title>139798103060944-&gt;139798103061672</title>\n",
       "<path d=\"M2521.7333,-166.3799C2521.7333,-158.1745 2521.7333,-148.7679 2521.7333,-139.8786\" fill=\"none\" stroke=\"#000000\"/>\n",
       "<polygon fill=\"#000000\" points=\"2525.2334,-139.784 2521.7333,-129.784 2518.2334,-139.784 2525.2334,-139.784\" stroke=\"#000000\"/>\n",
       "</g>\n",
       "<!-- 139798103061224 -->\n",
       "<g class=\"node\" id=\"node41\">\n",
       "<title>139798103061224</title>\n",
       "<polygon fill=\"none\" points=\"2388.2333,-.5 2388.2333,-46.5 2655.2333,-46.5 2655.2333,-.5 2388.2333,-.5\" stroke=\"#000000\"/>\n",
       "<text fill=\"#000000\" font-family=\"Times,serif\" font-size=\"14.00\" text-anchor=\"middle\" x=\"2449.7333\" y=\"-19.8\">target_word: Dense</text>\n",
       "<polyline fill=\"none\" points=\"2511.2333,-.5 2511.2333,-46.5 \" stroke=\"#000000\"/>\n",
       "<text fill=\"#000000\" font-family=\"Times,serif\" font-size=\"14.00\" text-anchor=\"middle\" x=\"2538.7333\" y=\"-31.3\">input:</text>\n",
       "<polyline fill=\"none\" points=\"2511.2333,-23.5 2566.2333,-23.5 \" stroke=\"#000000\"/>\n",
       "<text fill=\"#000000\" font-family=\"Times,serif\" font-size=\"14.00\" text-anchor=\"middle\" x=\"2538.7333\" y=\"-8.3\">output:</text>\n",
       "<polyline fill=\"none\" points=\"2566.2333,-.5 2566.2333,-46.5 \" stroke=\"#000000\"/>\n",
       "<text fill=\"#000000\" font-family=\"Times,serif\" font-size=\"14.00\" text-anchor=\"middle\" x=\"2610.7333\" y=\"-31.3\">(None, 512)</text>\n",
       "<polyline fill=\"none\" points=\"2566.2333,-23.5 2655.2333,-23.5 \" stroke=\"#000000\"/>\n",
       "<text fill=\"#000000\" font-family=\"Times,serif\" font-size=\"14.00\" text-anchor=\"middle\" x=\"2610.7333\" y=\"-8.3\">(None, 1943)</text>\n",
       "</g>\n",
       "<!-- 139798103061672&#45;&gt;139798103061224 -->\n",
       "<g class=\"edge\" id=\"edge64\">\n",
       "<title>139798103061672-&gt;139798103061224</title>\n",
       "<path d=\"M2521.7333,-83.3799C2521.7333,-75.1745 2521.7333,-65.7679 2521.7333,-56.8786\" fill=\"none\" stroke=\"#000000\"/>\n",
       "<polygon fill=\"#000000\" points=\"2525.2334,-56.784 2521.7333,-46.784 2518.2334,-56.784 2525.2334,-56.784\" stroke=\"#000000\"/>\n",
       "</g>\n",
       "</g>\n",
       "</svg>"
      ],
      "text/plain": [
       "<IPython.core.display.SVG object>"
      ]
     },
     "execution_count": 40,
     "metadata": {},
     "output_type": "execute_result"
    }
   ],
   "source": [
    "SVG(model_to_dot(model, show_layer_names=True, show_shapes=True).create(prog='dot', format='svg'))\n"
   ]
  },
  {
   "cell_type": "code",
   "execution_count": 41,
   "metadata": {},
   "outputs": [],
   "source": [
    "model_json = model.to_json()\n",
    "with open(\"../model_json/{0}.json\".format(model_name), \"w\") as json_file:\n",
    "    json_file.write(model_json)\n"
   ]
  },
  {
   "cell_type": "code",
   "execution_count": 42,
   "metadata": {},
   "outputs": [
    {
     "data": {
      "text/plain": [
       "'vgg_1dcnn_text_img_attention'"
      ]
     },
     "execution_count": 42,
     "metadata": {},
     "output_type": "execute_result"
    }
   ],
   "source": [
    "model_name"
   ]
  },
  {
   "cell_type": "code",
   "execution_count": 43,
   "metadata": {},
   "outputs": [],
   "source": [
    "# emb = Model(textNet.inputs[0],textNet.get_layer('w2v_emb').output)\n",
    "# emb.summary()\n"
   ]
  },
  {
   "cell_type": "code",
   "execution_count": 44,
   "metadata": {},
   "outputs": [],
   "source": [
    "def datagen(img_lst,batch_size=4):\n",
    "    counter=0\n",
    "    x1,x2,y,sents,masks, img_names = [],[],[],[],[],[]\n",
    "    idx = 0\n",
    "    while True:\n",
    "        im = img_lst[idx]\n",
    "#         print(im)\n",
    "        photo = cv2.imread('../dataset/images/images_normalized/resized_1024/{0}'.format(im))/255.0\n",
    "#         print(merged_ds[merged_ds.filename==im])\n",
    "        sent = merged_ds[merged_ds.filename==im]['findings'].values[0].lower().replace('/',' ')\n",
    "        \n",
    "        ts = nlp(sent)\n",
    "#         print(ts)\n",
    "        ts = [str(x) for x in list(ts)]\n",
    "#         print(tss)\n",
    "        ts = ts[:max_wlen-1]\n",
    "        sent_words = ['startseq']\n",
    "        for t in ts:\n",
    "#             print(t)\n",
    "#             t = 'sdadasasdasads'\n",
    "            if (t not in w_to_co.keys()) : #or ('xx' in t):\n",
    "#                 print('not present:',t)\n",
    "                pass\n",
    "            else:\n",
    "                sent_words.append(t)\n",
    "        sent_words.append('endseq')\n",
    "#         print(sent_words)\n",
    "\n",
    "        seq = [w_to_co[x] for x in sent_words]\n",
    "        # split one sequence into multiple X, y pairs\n",
    "        for i in range(1, len(seq)):\n",
    "            \n",
    "            in_seq, out_seq = seq[:i], seq[i]\n",
    "#             print(out_seq)\n",
    "            in_seq = sequence.pad_sequences([in_seq], maxlen=max_wlen,padding='pre',value=0)[0]\n",
    "            mask = [0.001 if x<1 else  1 for x in in_seq]\n",
    "            mask = np.expand_dims(mask,-1)\n",
    "            out_seq = np_utils.to_categorical([out_seq], num_classes=vocab_size+1)[0]\n",
    "            x1.append(photo)\n",
    "            img_names.append(im)\n",
    "            x2.append(in_seq)\n",
    "            masks.append(mask)\n",
    "            y.append(out_seq)\n",
    "            sents.append(sent)\n",
    "        counter+=1\n",
    "        idx+=1\n",
    "#         print(idx)\n",
    "        if idx==len(img_lst):\n",
    "            idx=0\n",
    "        if counter==batch_size:\n",
    "            counter=0\n",
    "            inputs = {'image_input': np.array(x1),\n",
    "                      'words_input': np.array(x2),\n",
    "                      'padding_masks':np.array(masks),\n",
    "                      'image_names':np.array(img_names)\n",
    "                     }\n",
    "            outputs = {'target_word':np.array(y),\n",
    "                      'actual_sentence':np.array(sents)}\n",
    "            yield inputs, outputs\n",
    "            x1,x2,y,sents,masks,img_names = [],[],[],[],[],[]"
   ]
  },
  {
   "cell_type": "code",
   "execution_count": 45,
   "metadata": {},
   "outputs": [
    {
     "name": "stdout",
     "output_type": "stream",
     "text": [
      "train: 2310 + val: 660 + test: 331  =  3301\n"
     ]
    }
   ],
   "source": [
    "\n",
    "\n",
    "with open('../dataset/train_images.p', 'rb') as filehandle:\n",
    "    # read the data as binary data stream\n",
    "    train_images_list = pickle.load(filehandle)\n",
    "with open('../dataset/val_images.p', 'rb') as filehandle:\n",
    "    # read the data as binary data stream\n",
    "    val_images_list = pickle.load(filehandle)\n",
    "with open('../dataset/test_images.p', 'rb') as filehandle:\n",
    "    # read the data as binary data stream\n",
    "    test_images_list = pickle.load(filehandle)\n",
    "\n",
    "print('train:',len(train_images_list),\n",
    "      '+ val:',len(val_images_list),\n",
    "      '+ test:',len(test_images_list),\n",
    "      ' = ',(len(train_images_list)+len(val_images_list)+len(test_images_list)))\n",
    "train_batch_size = 64\n",
    "val_batch_size = 64\n",
    "test_batch_size = 1\n",
    "train_gen = datagen(train_images_list,batch_size=train_batch_size)\n",
    "val_gen = datagen(val_images_list,batch_size=val_batch_size)\n",
    "test_gen = datagen(test_images_list,batch_size=test_batch_size)"
   ]
  },
  {
   "cell_type": "code",
   "execution_count": 46,
   "metadata": {},
   "outputs": [],
   "source": [
    "# test_images_list = merged_ds.filename.values\n",
    "# test_images_list = list(test_images_list)\n",
    "# for x in train_images_list:\n",
    "#     test_images_list.remove(x)\n",
    "# for x in val_images_list:\n",
    "#     test_images_list.remove(x)\n",
    "# len(test_images_list)"
   ]
  },
  {
   "cell_type": "code",
   "execution_count": 47,
   "metadata": {},
   "outputs": [],
   "source": [
    "# imgs = merged_ds.filename.values\n",
    "# np.random.shuffle(imgs)\n",
    "\n",
    "# train_images_list = imgs[:int(0.7*len(imgs))]\n",
    "# val_images_list = imgs[int(0.7*len(imgs)):int(0.9*len(imgs))]\n",
    "# test_images_list = imgs[int(0.9*len(imgs)):]\n",
    "# train_images_list.shape,val_images_list.shape,test_images_list.shape\n",
    "# with open('../dataset/train_images.p', 'wb') as file:\n",
    "#     # store the data as binary data stream\n",
    "#     pickle.dump(train_images_list, file)\n",
    "# with open('../dataset/val_images.p', 'wb') as file:\n",
    "#     # store the data as binary data stream\n",
    "#     pickle.dump(val_images_list, file)\n",
    "# with open('../dataset/test_images.p', 'wb') as file:\n",
    "#     # store the data as binary data stream\n",
    "#     pickle.dump(test_images_list, file)\n",
    "# # # tx,ty = next(train_gen)\n",
    "# # # tx['padding_masks'][30].shape"
   ]
  },
  {
   "cell_type": "code",
   "execution_count": 48,
   "metadata": {
    "scrolled": true
   },
   "outputs": [],
   "source": [
    "\n",
    "# display(tx['image_input'].shape\n",
    "#         ,tx['words_input'][30]\n",
    "#         ,tx['padding_masks'][30]\n",
    "#         ,' '.join([co_to_w[x] if x !=0 else '' for x in tx['words_input'][30]])\n",
    "#         ,ty['actual_sentence'][30])\n"
   ]
  },
  {
   "cell_type": "code",
   "execution_count": 49,
   "metadata": {},
   "outputs": [
    {
     "data": {
      "text/plain": [
       "(660, 2310, 1380)"
      ]
     },
     "execution_count": 49,
     "metadata": {},
     "output_type": "execute_result"
    }
   ],
   "source": [
    "len(val_images_list),len(train_images_list), w_to_co['xxxx']"
   ]
  },
  {
   "cell_type": "code",
   "execution_count": 50,
   "metadata": {},
   "outputs": [],
   "source": [
    "# # def _ctc_lambda_func(args):\n",
    "# #     labels, y_pred, input_length, label_length = args\n",
    "# #     return K.tf.keras.backend.ctc_batch_cost(labels, y_pred, input_length, label_length)\n",
    "# vggnet.summary()\n",
    "# w_to_co['xxxx']\n",
    "\n",
    "# np.clip(0,a_max=1,a_min=1e-8)"
   ]
  },
  {
   "cell_type": "code",
   "execution_count": 51,
   "metadata": {
    "scrolled": true
   },
   "outputs": [
    {
     "data": {
      "text/html": [
       "<div>\n",
       "<style scoped>\n",
       "    .dataframe tbody tr th:only-of-type {\n",
       "        vertical-align: middle;\n",
       "    }\n",
       "\n",
       "    .dataframe tbody tr th {\n",
       "        vertical-align: top;\n",
       "    }\n",
       "\n",
       "    .dataframe thead th {\n",
       "        text-align: right;\n",
       "    }\n",
       "</style>\n",
       "<table border=\"1\" class=\"dataframe\">\n",
       "  <thead>\n",
       "    <tr style=\"text-align: right;\">\n",
       "      <th></th>\n",
       "      <th>uid</th>\n",
       "      <th>MeSH</th>\n",
       "      <th>Problems</th>\n",
       "      <th>image</th>\n",
       "      <th>indication</th>\n",
       "      <th>comparison</th>\n",
       "      <th>findings</th>\n",
       "      <th>impression</th>\n",
       "      <th>filename</th>\n",
       "      <th>projection</th>\n",
       "    </tr>\n",
       "  </thead>\n",
       "  <tbody>\n",
       "    <tr>\n",
       "      <th>0</th>\n",
       "      <td>1</td>\n",
       "      <td>normal</td>\n",
       "      <td>normal</td>\n",
       "      <td>Xray Chest PA and Lateral</td>\n",
       "      <td>Positive TB test</td>\n",
       "      <td>None.</td>\n",
       "      <td>The cardiac silhouette and mediastinum size ar...</td>\n",
       "      <td>Normal chest x-XXXX.</td>\n",
       "      <td>1_IM-0001-4001.dcm.png</td>\n",
       "      <td>Frontal</td>\n",
       "    </tr>\n",
       "    <tr>\n",
       "      <th>2</th>\n",
       "      <td>2</td>\n",
       "      <td>Cardiomegaly/borderline;Pulmonary Artery/enlarged</td>\n",
       "      <td>Cardiomegaly;Pulmonary Artery</td>\n",
       "      <td>Chest, 2 views, frontal and lateral</td>\n",
       "      <td>Preop bariatric surgery.</td>\n",
       "      <td>None.</td>\n",
       "      <td>Borderline cardiomegaly. Midline sternotomy XX...</td>\n",
       "      <td>No acute pulmonary findings.</td>\n",
       "      <td>2_IM-0652-1001.dcm.png</td>\n",
       "      <td>Frontal</td>\n",
       "    </tr>\n",
       "    <tr>\n",
       "      <th>4</th>\n",
       "      <td>4</td>\n",
       "      <td>Pulmonary Disease, Chronic Obstructive;Bullous...</td>\n",
       "      <td>Pulmonary Disease, Chronic Obstructive;Bullous...</td>\n",
       "      <td>PA and lateral views of the chest XXXX, XXXX a...</td>\n",
       "      <td>XXXX-year-old XXXX with XXXX.</td>\n",
       "      <td>None available</td>\n",
       "      <td>There are diffuse bilateral interstitial and a...</td>\n",
       "      <td>1. Bullous emphysema and interstitial fibrosis...</td>\n",
       "      <td>4_IM-2050-1001.dcm.png</td>\n",
       "      <td>Frontal</td>\n",
       "    </tr>\n",
       "    <tr>\n",
       "      <th>6</th>\n",
       "      <td>5</td>\n",
       "      <td>Osteophyte/thoracic vertebrae/multiple/small;T...</td>\n",
       "      <td>Osteophyte;Thickening;Lung</td>\n",
       "      <td>Xray Chest PA and Lateral</td>\n",
       "      <td>Chest and nasal congestion.</td>\n",
       "      <td>NaN</td>\n",
       "      <td>The cardiomediastinal silhouette and pulmonary...</td>\n",
       "      <td>No acute cardiopulmonary abnormality.</td>\n",
       "      <td>5_IM-2117-1003002.dcm.png</td>\n",
       "      <td>Frontal</td>\n",
       "    </tr>\n",
       "    <tr>\n",
       "      <th>8</th>\n",
       "      <td>6</td>\n",
       "      <td>normal</td>\n",
       "      <td>normal</td>\n",
       "      <td>PA and Lateral Chest. XXXX, XXXX at XXXX</td>\n",
       "      <td>Evaluate for infection</td>\n",
       "      <td>XXXX, XXXX</td>\n",
       "      <td>Heart size and mediastinal contour are within ...</td>\n",
       "      <td>No acute cardiopulmonary findings.</td>\n",
       "      <td>6_IM-2192-1001.dcm.png</td>\n",
       "      <td>Frontal</td>\n",
       "    </tr>\n",
       "  </tbody>\n",
       "</table>\n",
       "</div>"
      ],
      "text/plain": [
       "   uid                                               MeSH  \\\n",
       "0    1                                             normal   \n",
       "2    2  Cardiomegaly/borderline;Pulmonary Artery/enlarged   \n",
       "4    4  Pulmonary Disease, Chronic Obstructive;Bullous...   \n",
       "6    5  Osteophyte/thoracic vertebrae/multiple/small;T...   \n",
       "8    6                                             normal   \n",
       "\n",
       "                                            Problems  \\\n",
       "0                                             normal   \n",
       "2                      Cardiomegaly;Pulmonary Artery   \n",
       "4  Pulmonary Disease, Chronic Obstructive;Bullous...   \n",
       "6                         Osteophyte;Thickening;Lung   \n",
       "8                                             normal   \n",
       "\n",
       "                                               image  \\\n",
       "0                          Xray Chest PA and Lateral   \n",
       "2                Chest, 2 views, frontal and lateral   \n",
       "4  PA and lateral views of the chest XXXX, XXXX a...   \n",
       "6                          Xray Chest PA and Lateral   \n",
       "8          PA and Lateral Chest. XXXX, XXXX at XXXX    \n",
       "\n",
       "                      indication      comparison  \\\n",
       "0               Positive TB test           None.   \n",
       "2       Preop bariatric surgery.           None.   \n",
       "4  XXXX-year-old XXXX with XXXX.  None available   \n",
       "6    Chest and nasal congestion.             NaN   \n",
       "8         Evaluate for infection      XXXX, XXXX   \n",
       "\n",
       "                                            findings  \\\n",
       "0  The cardiac silhouette and mediastinum size ar...   \n",
       "2  Borderline cardiomegaly. Midline sternotomy XX...   \n",
       "4  There are diffuse bilateral interstitial and a...   \n",
       "6  The cardiomediastinal silhouette and pulmonary...   \n",
       "8  Heart size and mediastinal contour are within ...   \n",
       "\n",
       "                                          impression  \\\n",
       "0                               Normal chest x-XXXX.   \n",
       "2                       No acute pulmonary findings.   \n",
       "4  1. Bullous emphysema and interstitial fibrosis...   \n",
       "6              No acute cardiopulmonary abnormality.   \n",
       "8                 No acute cardiopulmonary findings.   \n",
       "\n",
       "                    filename projection  \n",
       "0     1_IM-0001-4001.dcm.png    Frontal  \n",
       "2     2_IM-0652-1001.dcm.png    Frontal  \n",
       "4     4_IM-2050-1001.dcm.png    Frontal  \n",
       "6  5_IM-2117-1003002.dcm.png    Frontal  \n",
       "8     6_IM-2192-1001.dcm.png    Frontal  "
      ]
     },
     "execution_count": 51,
     "metadata": {},
     "output_type": "execute_result"
    }
   ],
   "source": [
    "# print(co_to_w[273])\n",
    "# print(embedding_matrix[1380])\n",
    "# for u,v in zip(tx['words_input'][0],tx['padding_masks'][0]):\n",
    "#     print(u,v)\n",
    "merged_ds.head()"
   ]
  },
  {
   "cell_type": "code",
   "execution_count": 52,
   "metadata": {
    "scrolled": true
   },
   "outputs": [],
   "source": [
    "# att = np.random.randint(1,10,(4,5,5))\n",
    "# mask = 1-np.triu(np.ones((4,5,5)),k=1)\n",
    "# att*mask\n",
    "vx,vy = next(val_gen)"
   ]
  },
  {
   "cell_type": "code",
   "execution_count": 53,
   "metadata": {},
   "outputs": [
    {
     "data": {
      "text/plain": [
       "<matplotlib.image.AxesImage at 0x7f2537b32898>"
      ]
     },
     "execution_count": 53,
     "metadata": {},
     "output_type": "execute_result"
    },
    {
     "data": {
      "image/png": "[encoded data removed]",
      "text/plain": [
       "<Figure size 432x288 with 1 Axes>"
      ]
     },
     "metadata": {
      "needs_background": "light"
     },
     "output_type": "display_data"
    }
   ],
   "source": [
    "img = cv2.imread('../dataset/images/images_normalized/{0}'.format(vx['image_names'][0]))\n",
    "plt.imshow(img)"
   ]
  },
  {
   "cell_type": "code",
   "execution_count": 54,
   "metadata": {
    "scrolled": true
   },
   "outputs": [
    {
     "name": "stdout",
     "output_type": "stream",
     "text": [
      "--- 0 ---\n",
      "[2518_IM-1036-1001.dcm.png], input_seq: <None> [0.001], <None> [0.001], <None> [0.001], <None> [0.001], <None> [0.001], <None> [0.001], <None> [0.001], <None> [0.001], <None> [0.001], <None> [0.001], <None> [0.001], <None> [0.001], <None> [0.001], <None> [0.001], <None> [0.001], <None> [0.001], <None> [0.001], <None> [0.001], <None> [0.001], <None> [0.001], <None> [0.001], <None> [0.001], <None> [0.001], <None> [0.001], <None> [0.001], <None> [0.001], <None> [0.001], <None> [0.001], <None> [0.001], <None> [0.001], <None> [0.001], <None> [0.001], <None> [0.001], <None> [0.001], <None> [0.001], <None> [0.001], <None> [0.001], <None> [0.001], <None> [0.001], <None> [0.001], <None> [0.001], <None> [0.001], <None> [0.001], <None> [0.001], <None> [0.001], <None> [0.001], <None> [0.001], <None> [0.001], <None> [0.001], <None> [0.001], <None> [0.001], <None> [0.001], <None> [0.001], <None> [0.001], <None> [0.001], <None> [0.001], <None> [0.001], <None> [0.001], <None> [0.001], <startseq> [1.] , \t next_word: no\n",
      "--- 1 ---\n",
      "[2518_IM-1036-1001.dcm.png], input_seq: <None> [0.001], <None> [0.001], <None> [0.001], <None> [0.001], <None> [0.001], <None> [0.001], <None> [0.001], <None> [0.001], <None> [0.001], <None> [0.001], <None> [0.001], <None> [0.001], <None> [0.001], <None> [0.001], <None> [0.001], <None> [0.001], <None> [0.001], <None> [0.001], <None> [0.001], <None> [0.001], <None> [0.001], <None> [0.001], <None> [0.001], <None> [0.001], <None> [0.001], <None> [0.001], <None> [0.001], <None> [0.001], <None> [0.001], <None> [0.001], <None> [0.001], <None> [0.001], <None> [0.001], <None> [0.001], <None> [0.001], <None> [0.001], <None> [0.001], <None> [0.001], <None> [0.001], <None> [0.001], <None> [0.001], <None> [0.001], <None> [0.001], <None> [0.001], <None> [0.001], <None> [0.001], <None> [0.001], <None> [0.001], <None> [0.001], <None> [0.001], <None> [0.001], <None> [0.001], <None> [0.001], <None> [0.001], <None> [0.001], <None> [0.001], <None> [0.001], <None> [0.001], <startseq> [1.], <no> [1.] , \t next_word: the\n",
      "--- 2 ---\n",
      "[2518_IM-1036-1001.dcm.png], input_seq: <None> [0.001], <None> [0.001], <None> [0.001], <None> [0.001], <None> [0.001], <None> [0.001], <None> [0.001], <None> [0.001], <None> [0.001], <None> [0.001], <None> [0.001], <None> [0.001], <None> [0.001], <None> [0.001], <None> [0.001], <None> [0.001], <None> [0.001], <None> [0.001], <None> [0.001], <None> [0.001], <None> [0.001], <None> [0.001], <None> [0.001], <None> [0.001], <None> [0.001], <None> [0.001], <None> [0.001], <None> [0.001], <None> [0.001], <None> [0.001], <None> [0.001], <None> [0.001], <None> [0.001], <None> [0.001], <None> [0.001], <None> [0.001], <None> [0.001], <None> [0.001], <None> [0.001], <None> [0.001], <None> [0.001], <None> [0.001], <None> [0.001], <None> [0.001], <None> [0.001], <None> [0.001], <None> [0.001], <None> [0.001], <None> [0.001], <None> [0.001], <None> [0.001], <None> [0.001], <None> [0.001], <None> [0.001], <None> [0.001], <None> [0.001], <None> [0.001], <startseq> [1.], <no> [1.], <the> [1.] , \t next_word: cardiomediastinal\n",
      "--- 3 ---\n",
      "[2518_IM-1036-1001.dcm.png], input_seq: <None> [0.001], <None> [0.001], <None> [0.001], <None> [0.001], <None> [0.001], <None> [0.001], <None> [0.001], <None> [0.001], <None> [0.001], <None> [0.001], <None> [0.001], <None> [0.001], <None> [0.001], <None> [0.001], <None> [0.001], <None> [0.001], <None> [0.001], <None> [0.001], <None> [0.001], <None> [0.001], <None> [0.001], <None> [0.001], <None> [0.001], <None> [0.001], <None> [0.001], <None> [0.001], <None> [0.001], <None> [0.001], <None> [0.001], <None> [0.001], <None> [0.001], <None> [0.001], <None> [0.001], <None> [0.001], <None> [0.001], <None> [0.001], <None> [0.001], <None> [0.001], <None> [0.001], <None> [0.001], <None> [0.001], <None> [0.001], <None> [0.001], <None> [0.001], <None> [0.001], <None> [0.001], <None> [0.001], <None> [0.001], <None> [0.001], <None> [0.001], <None> [0.001], <None> [0.001], <None> [0.001], <None> [0.001], <None> [0.001], <None> [0.001], <startseq> [1.], <no> [1.], <the> [1.], <cardiomediastinal> [1.] , \t next_word: silhouette\n",
      "--- 4 ---\n",
      "[2518_IM-1036-1001.dcm.png], input_seq: <None> [0.001], <None> [0.001], <None> [0.001], <None> [0.001], <None> [0.001], <None> [0.001], <None> [0.001], <None> [0.001], <None> [0.001], <None> [0.001], <None> [0.001], <None> [0.001], <None> [0.001], <None> [0.001], <None> [0.001], <None> [0.001], <None> [0.001], <None> [0.001], <None> [0.001], <None> [0.001], <None> [0.001], <None> [0.001], <None> [0.001], <None> [0.001], <None> [0.001], <None> [0.001], <None> [0.001], <None> [0.001], <None> [0.001], <None> [0.001], <None> [0.001], <None> [0.001], <None> [0.001], <None> [0.001], <None> [0.001], <None> [0.001], <None> [0.001], <None> [0.001], <None> [0.001], <None> [0.001], <None> [0.001], <None> [0.001], <None> [0.001], <None> [0.001], <None> [0.001], <None> [0.001], <None> [0.001], <None> [0.001], <None> [0.001], <None> [0.001], <None> [0.001], <None> [0.001], <None> [0.001], <None> [0.001], <None> [0.001], <startseq> [1.], <no> [1.], <the> [1.], <cardiomediastinal> [1.], <silhouette> [1.] , \t next_word: and\n",
      "--- 5 ---\n",
      "[2518_IM-1036-1001.dcm.png], input_seq: <None> [0.001], <None> [0.001], <None> [0.001], <None> [0.001], <None> [0.001], <None> [0.001], <None> [0.001], <None> [0.001], <None> [0.001], <None> [0.001], <None> [0.001], <None> [0.001], <None> [0.001], <None> [0.001], <None> [0.001], <None> [0.001], <None> [0.001], <None> [0.001], <None> [0.001], <None> [0.001], <None> [0.001], <None> [0.001], <None> [0.001], <None> [0.001], <None> [0.001], <None> [0.001], <None> [0.001], <None> [0.001], <None> [0.001], <None> [0.001], <None> [0.001], <None> [0.001], <None> [0.001], <None> [0.001], <None> [0.001], <None> [0.001], <None> [0.001], <None> [0.001], <None> [0.001], <None> [0.001], <None> [0.001], <None> [0.001], <None> [0.001], <None> [0.001], <None> [0.001], <None> [0.001], <None> [0.001], <None> [0.001], <None> [0.001], <None> [0.001], <None> [0.001], <None> [0.001], <None> [0.001], <None> [0.001], <startseq> [1.], <no> [1.], <the> [1.], <cardiomediastinal> [1.], <silhouette> [1.], <and> [1.] , \t next_word: pulmonary\n",
      "--- 6 ---\n",
      "[2518_IM-1036-1001.dcm.png], input_seq: <None> [0.001], <None> [0.001], <None> [0.001], <None> [0.001], <None> [0.001], <None> [0.001], <None> [0.001], <None> [0.001], <None> [0.001], <None> [0.001], <None> [0.001], <None> [0.001], <None> [0.001], <None> [0.001], <None> [0.001], <None> [0.001], <None> [0.001], <None> [0.001], <None> [0.001], <None> [0.001], <None> [0.001], <None> [0.001], <None> [0.001], <None> [0.001], <None> [0.001], <None> [0.001], <None> [0.001], <None> [0.001], <None> [0.001], <None> [0.001], <None> [0.001], <None> [0.001], <None> [0.001], <None> [0.001], <None> [0.001], <None> [0.001], <None> [0.001], <None> [0.001], <None> [0.001], <None> [0.001], <None> [0.001], <None> [0.001], <None> [0.001], <None> [0.001], <None> [0.001], <None> [0.001], <None> [0.001], <None> [0.001], <None> [0.001], <None> [0.001], <None> [0.001], <None> [0.001], <None> [0.001], <startseq> [1.], <no> [1.], <the> [1.], <cardiomediastinal> [1.], <silhouette> [1.], <and> [1.], <pulmonary> [1.] , \t next_word: vasculature\n",
      "--- 7 ---\n",
      "[2518_IM-1036-1001.dcm.png], input_seq: <None> [0.001], <None> [0.001], <None> [0.001], <None> [0.001], <None> [0.001], <None> [0.001], <None> [0.001], <None> [0.001], <None> [0.001], <None> [0.001], <None> [0.001], <None> [0.001], <None> [0.001], <None> [0.001], <None> [0.001], <None> [0.001], <None> [0.001], <None> [0.001], <None> [0.001], <None> [0.001], <None> [0.001], <None> [0.001], <None> [0.001], <None> [0.001], <None> [0.001], <None> [0.001], <None> [0.001], <None> [0.001], <None> [0.001], <None> [0.001], <None> [0.001], <None> [0.001], <None> [0.001], <None> [0.001], <None> [0.001], <None> [0.001], <None> [0.001], <None> [0.001], <None> [0.001], <None> [0.001], <None> [0.001], <None> [0.001], <None> [0.001], <None> [0.001], <None> [0.001], <None> [0.001], <None> [0.001], <None> [0.001], <None> [0.001], <None> [0.001], <None> [0.001], <None> [0.001], <startseq> [1.], <no> [1.], <the> [1.], <cardiomediastinal> [1.], <silhouette> [1.], <and> [1.], <pulmonary> [1.], <vasculature> [1.] , \t next_word: are\n",
      "--- 8 ---\n",
      "[2518_IM-1036-1001.dcm.png], input_seq: <None> [0.001], <None> [0.001], <None> [0.001], <None> [0.001], <None> [0.001], <None> [0.001], <None> [0.001], <None> [0.001], <None> [0.001], <None> [0.001], <None> [0.001], <None> [0.001], <None> [0.001], <None> [0.001], <None> [0.001], <None> [0.001], <None> [0.001], <None> [0.001], <None> [0.001], <None> [0.001], <None> [0.001], <None> [0.001], <None> [0.001], <None> [0.001], <None> [0.001], <None> [0.001], <None> [0.001], <None> [0.001], <None> [0.001], <None> [0.001], <None> [0.001], <None> [0.001], <None> [0.001], <None> [0.001], <None> [0.001], <None> [0.001], <None> [0.001], <None> [0.001], <None> [0.001], <None> [0.001], <None> [0.001], <None> [0.001], <None> [0.001], <None> [0.001], <None> [0.001], <None> [0.001], <None> [0.001], <None> [0.001], <None> [0.001], <None> [0.001], <None> [0.001], <startseq> [1.], <no> [1.], <the> [1.], <cardiomediastinal> [1.], <silhouette> [1.], <and> [1.], <pulmonary> [1.], <vasculature> [1.], <are> [1.] , \t next_word: within\n",
      "--- 9 ---\n",
      "[2518_IM-1036-1001.dcm.png], input_seq: <None> [0.001], <None> [0.001], <None> [0.001], <None> [0.001], <None> [0.001], <None> [0.001], <None> [0.001], <None> [0.001], <None> [0.001], <None> [0.001], <None> [0.001], <None> [0.001], <None> [0.001], <None> [0.001], <None> [0.001], <None> [0.001], <None> [0.001], <None> [0.001], <None> [0.001], <None> [0.001], <None> [0.001], <None> [0.001], <None> [0.001], <None> [0.001], <None> [0.001], <None> [0.001], <None> [0.001], <None> [0.001], <None> [0.001], <None> [0.001], <None> [0.001], <None> [0.001], <None> [0.001], <None> [0.001], <None> [0.001], <None> [0.001], <None> [0.001], <None> [0.001], <None> [0.001], <None> [0.001], <None> [0.001], <None> [0.001], <None> [0.001], <None> [0.001], <None> [0.001], <None> [0.001], <None> [0.001], <None> [0.001], <None> [0.001], <None> [0.001], <startseq> [1.], <no> [1.], <the> [1.], <cardiomediastinal> [1.], <silhouette> [1.], <and> [1.], <pulmonary> [1.], <vasculature> [1.], <are> [1.], <within> [1.] , \t next_word: normal\n",
      "--- 10 ---\n",
      "[2518_IM-1036-1001.dcm.png], input_seq: <None> [0.001], <None> [0.001], <None> [0.001], <None> [0.001], <None> [0.001], <None> [0.001], <None> [0.001], <None> [0.001], <None> [0.001], <None> [0.001], <None> [0.001], <None> [0.001], <None> [0.001], <None> [0.001], <None> [0.001], <None> [0.001], <None> [0.001], <None> [0.001], <None> [0.001], <None> [0.001], <None> [0.001], <None> [0.001], <None> [0.001], <None> [0.001], <None> [0.001], <None> [0.001], <None> [0.001], <None> [0.001], <None> [0.001], <None> [0.001], <None> [0.001], <None> [0.001], <None> [0.001], <None> [0.001], <None> [0.001], <None> [0.001], <None> [0.001], <None> [0.001], <None> [0.001], <None> [0.001], <None> [0.001], <None> [0.001], <None> [0.001], <None> [0.001], <None> [0.001], <None> [0.001], <None> [0.001], <None> [0.001], <None> [0.001], <startseq> [1.], <no> [1.], <the> [1.], <cardiomediastinal> [1.], <silhouette> [1.], <and> [1.], <pulmonary> [1.], <vasculature> [1.], <are> [1.], <within> [1.], <normal> [1.] , \t next_word: limits\n",
      "--- 11 ---\n",
      "[2518_IM-1036-1001.dcm.png], input_seq: <None> [0.001], <None> [0.001], <None> [0.001], <None> [0.001], <None> [0.001], <None> [0.001], <None> [0.001], <None> [0.001], <None> [0.001], <None> [0.001], <None> [0.001], <None> [0.001], <None> [0.001], <None> [0.001], <None> [0.001], <None> [0.001], <None> [0.001], <None> [0.001], <None> [0.001], <None> [0.001], <None> [0.001], <None> [0.001], <None> [0.001], <None> [0.001], <None> [0.001], <None> [0.001], <None> [0.001], <None> [0.001], <None> [0.001], <None> [0.001], <None> [0.001], <None> [0.001], <None> [0.001], <None> [0.001], <None> [0.001], <None> [0.001], <None> [0.001], <None> [0.001], <None> [0.001], <None> [0.001], <None> [0.001], <None> [0.001], <None> [0.001], <None> [0.001], <None> [0.001], <None> [0.001], <None> [0.001], <None> [0.001], <startseq> [1.], <no> [1.], <the> [1.], <cardiomediastinal> [1.], <silhouette> [1.], <and> [1.], <pulmonary> [1.], <vasculature> [1.], <are> [1.], <within> [1.], <normal> [1.], <limits> [1.] , \t next_word: .\n",
      "--- 12 ---\n",
      "[2518_IM-1036-1001.dcm.png], input_seq: <None> [0.001], <None> [0.001], <None> [0.001], <None> [0.001], <None> [0.001], <None> [0.001], <None> [0.001], <None> [0.001], <None> [0.001], <None> [0.001], <None> [0.001], <None> [0.001], <None> [0.001], <None> [0.001], <None> [0.001], <None> [0.001], <None> [0.001], <None> [0.001], <None> [0.001], <None> [0.001], <None> [0.001], <None> [0.001], <None> [0.001], <None> [0.001], <None> [0.001], <None> [0.001], <None> [0.001], <None> [0.001], <None> [0.001], <None> [0.001], <None> [0.001], <None> [0.001], <None> [0.001], <None> [0.001], <None> [0.001], <None> [0.001], <None> [0.001], <None> [0.001], <None> [0.001], <None> [0.001], <None> [0.001], <None> [0.001], <None> [0.001], <None> [0.001], <None> [0.001], <None> [0.001], <None> [0.001], <startseq> [1.], <no> [1.], <the> [1.], <cardiomediastinal> [1.], <silhouette> [1.], <and> [1.], <pulmonary> [1.], <vasculature> [1.], <are> [1.], <within> [1.], <normal> [1.], <limits> [1.], <.> [1.] , \t next_word: there\n",
      "--- 13 ---\n",
      "[2518_IM-1036-1001.dcm.png], input_seq: <None> [0.001], <None> [0.001], <None> [0.001], <None> [0.001], <None> [0.001], <None> [0.001], <None> [0.001], <None> [0.001], <None> [0.001], <None> [0.001], <None> [0.001], <None> [0.001], <None> [0.001], <None> [0.001], <None> [0.001], <None> [0.001], <None> [0.001], <None> [0.001], <None> [0.001], <None> [0.001], <None> [0.001], <None> [0.001], <None> [0.001], <None> [0.001], <None> [0.001], <None> [0.001], <None> [0.001], <None> [0.001], <None> [0.001], <None> [0.001], <None> [0.001], <None> [0.001], <None> [0.001], <None> [0.001], <None> [0.001], <None> [0.001], <None> [0.001], <None> [0.001], <None> [0.001], <None> [0.001], <None> [0.001], <None> [0.001], <None> [0.001], <None> [0.001], <None> [0.001], <None> [0.001], <startseq> [1.], <no> [1.], <the> [1.], <cardiomediastinal> [1.], <silhouette> [1.], <and> [1.], <pulmonary> [1.], <vasculature> [1.], <are> [1.], <within> [1.], <normal> [1.], <limits> [1.], <.> [1.], <there> [1.] , \t next_word: is\n",
      "--- 14 ---\n",
      "[2518_IM-1036-1001.dcm.png], input_seq: <None> [0.001], <None> [0.001], <None> [0.001], <None> [0.001], <None> [0.001], <None> [0.001], <None> [0.001], <None> [0.001], <None> [0.001], <None> [0.001], <None> [0.001], <None> [0.001], <None> [0.001], <None> [0.001], <None> [0.001], <None> [0.001], <None> [0.001], <None> [0.001], <None> [0.001], <None> [0.001], <None> [0.001], <None> [0.001], <None> [0.001], <None> [0.001], <None> [0.001], <None> [0.001], <None> [0.001], <None> [0.001], <None> [0.001], <None> [0.001], <None> [0.001], <None> [0.001], <None> [0.001], <None> [0.001], <None> [0.001], <None> [0.001], <None> [0.001], <None> [0.001], <None> [0.001], <None> [0.001], <None> [0.001], <None> [0.001], <None> [0.001], <None> [0.001], <None> [0.001], <startseq> [1.], <no> [1.], <the> [1.], <cardiomediastinal> [1.], <silhouette> [1.], <and> [1.], <pulmonary> [1.], <vasculature> [1.], <are> [1.], <within> [1.], <normal> [1.], <limits> [1.], <.> [1.], <there> [1.], <is> [1.] , \t next_word: no\n",
      "--- 15 ---\n",
      "[2518_IM-1036-1001.dcm.png], input_seq: <None> [0.001], <None> [0.001], <None> [0.001], <None> [0.001], <None> [0.001], <None> [0.001], <None> [0.001], <None> [0.001], <None> [0.001], <None> [0.001], <None> [0.001], <None> [0.001], <None> [0.001], <None> [0.001], <None> [0.001], <None> [0.001], <None> [0.001], <None> [0.001], <None> [0.001], <None> [0.001], <None> [0.001], <None> [0.001], <None> [0.001], <None> [0.001], <None> [0.001], <None> [0.001], <None> [0.001], <None> [0.001], <None> [0.001], <None> [0.001], <None> [0.001], <None> [0.001], <None> [0.001], <None> [0.001], <None> [0.001], <None> [0.001], <None> [0.001], <None> [0.001], <None> [0.001], <None> [0.001], <None> [0.001], <None> [0.001], <None> [0.001], <None> [0.001], <startseq> [1.], <no> [1.], <the> [1.], <cardiomediastinal> [1.], <silhouette> [1.], <and> [1.], <pulmonary> [1.], <vasculature> [1.], <are> [1.], <within> [1.], <normal> [1.], <limits> [1.], <.> [1.], <there> [1.], <is> [1.], <no> [1.] , \t next_word: pneumothorax\n",
      "--- 16 ---\n",
      "[2518_IM-1036-1001.dcm.png], input_seq: <None> [0.001], <None> [0.001], <None> [0.001], <None> [0.001], <None> [0.001], <None> [0.001], <None> [0.001], <None> [0.001], <None> [0.001], <None> [0.001], <None> [0.001], <None> [0.001], <None> [0.001], <None> [0.001], <None> [0.001], <None> [0.001], <None> [0.001], <None> [0.001], <None> [0.001], <None> [0.001], <None> [0.001], <None> [0.001], <None> [0.001], <None> [0.001], <None> [0.001], <None> [0.001], <None> [0.001], <None> [0.001], <None> [0.001], <None> [0.001], <None> [0.001], <None> [0.001], <None> [0.001], <None> [0.001], <None> [0.001], <None> [0.001], <None> [0.001], <None> [0.001], <None> [0.001], <None> [0.001], <None> [0.001], <None> [0.001], <None> [0.001], <startseq> [1.], <no> [1.], <the> [1.], <cardiomediastinal> [1.], <silhouette> [1.], <and> [1.], <pulmonary> [1.], <vasculature> [1.], <are> [1.], <within> [1.], <normal> [1.], <limits> [1.], <.> [1.], <there> [1.], <is> [1.], <no> [1.], <pneumothorax> [1.] , \t next_word: or\n",
      "--- 17 ---\n",
      "[2518_IM-1036-1001.dcm.png], input_seq: <None> [0.001], <None> [0.001], <None> [0.001], <None> [0.001], <None> [0.001], <None> [0.001], <None> [0.001], <None> [0.001], <None> [0.001], <None> [0.001], <None> [0.001], <None> [0.001], <None> [0.001], <None> [0.001], <None> [0.001], <None> [0.001], <None> [0.001], <None> [0.001], <None> [0.001], <None> [0.001], <None> [0.001], <None> [0.001], <None> [0.001], <None> [0.001], <None> [0.001], <None> [0.001], <None> [0.001], <None> [0.001], <None> [0.001], <None> [0.001], <None> [0.001], <None> [0.001], <None> [0.001], <None> [0.001], <None> [0.001], <None> [0.001], <None> [0.001], <None> [0.001], <None> [0.001], <None> [0.001], <None> [0.001], <None> [0.001], <startseq> [1.], <no> [1.], <the> [1.], <cardiomediastinal> [1.], <silhouette> [1.], <and> [1.], <pulmonary> [1.], <vasculature> [1.], <are> [1.], <within> [1.], <normal> [1.], <limits> [1.], <.> [1.], <there> [1.], <is> [1.], <no> [1.], <pneumothorax> [1.], <or> [1.] , \t next_word: pleural\n",
      "--- 18 ---\n",
      "[2518_IM-1036-1001.dcm.png], input_seq: <None> [0.001], <None> [0.001], <None> [0.001], <None> [0.001], <None> [0.001], <None> [0.001], <None> [0.001], <None> [0.001], <None> [0.001], <None> [0.001], <None> [0.001], <None> [0.001], <None> [0.001], <None> [0.001], <None> [0.001], <None> [0.001], <None> [0.001], <None> [0.001], <None> [0.001], <None> [0.001], <None> [0.001], <None> [0.001], <None> [0.001], <None> [0.001], <None> [0.001], <None> [0.001], <None> [0.001], <None> [0.001], <None> [0.001], <None> [0.001], <None> [0.001], <None> [0.001], <None> [0.001], <None> [0.001], <None> [0.001], <None> [0.001], <None> [0.001], <None> [0.001], <None> [0.001], <None> [0.001], <None> [0.001], <startseq> [1.], <no> [1.], <the> [1.], <cardiomediastinal> [1.], <silhouette> [1.], <and> [1.], <pulmonary> [1.], <vasculature> [1.], <are> [1.], <within> [1.], <normal> [1.], <limits> [1.], <.> [1.], <there> [1.], <is> [1.], <no> [1.], <pneumothorax> [1.], <or> [1.], <pleural> [1.] , \t next_word: effusion\n",
      "--- 19 ---\n",
      "[2518_IM-1036-1001.dcm.png], input_seq: <None> [0.001], <None> [0.001], <None> [0.001], <None> [0.001], <None> [0.001], <None> [0.001], <None> [0.001], <None> [0.001], <None> [0.001], <None> [0.001], <None> [0.001], <None> [0.001], <None> [0.001], <None> [0.001], <None> [0.001], <None> [0.001], <None> [0.001], <None> [0.001], <None> [0.001], <None> [0.001], <None> [0.001], <None> [0.001], <None> [0.001], <None> [0.001], <None> [0.001], <None> [0.001], <None> [0.001], <None> [0.001], <None> [0.001], <None> [0.001], <None> [0.001], <None> [0.001], <None> [0.001], <None> [0.001], <None> [0.001], <None> [0.001], <None> [0.001], <None> [0.001], <None> [0.001], <None> [0.001], <startseq> [1.], <no> [1.], <the> [1.], <cardiomediastinal> [1.], <silhouette> [1.], <and> [1.], <pulmonary> [1.], <vasculature> [1.], <are> [1.], <within> [1.], <normal> [1.], <limits> [1.], <.> [1.], <there> [1.], <is> [1.], <no> [1.], <pneumothorax> [1.], <or> [1.], <pleural> [1.], <effusion> [1.] , \t next_word: .\n",
      "--- 20 ---\n",
      "[2518_IM-1036-1001.dcm.png], input_seq: <None> [0.001], <None> [0.001], <None> [0.001], <None> [0.001], <None> [0.001], <None> [0.001], <None> [0.001], <None> [0.001], <None> [0.001], <None> [0.001], <None> [0.001], <None> [0.001], <None> [0.001], <None> [0.001], <None> [0.001], <None> [0.001], <None> [0.001], <None> [0.001], <None> [0.001], <None> [0.001], <None> [0.001], <None> [0.001], <None> [0.001], <None> [0.001], <None> [0.001], <None> [0.001], <None> [0.001], <None> [0.001], <None> [0.001], <None> [0.001], <None> [0.001], <None> [0.001], <None> [0.001], <None> [0.001], <None> [0.001], <None> [0.001], <None> [0.001], <None> [0.001], <None> [0.001], <startseq> [1.], <no> [1.], <the> [1.], <cardiomediastinal> [1.], <silhouette> [1.], <and> [1.], <pulmonary> [1.], <vasculature> [1.], <are> [1.], <within> [1.], <normal> [1.], <limits> [1.], <.> [1.], <there> [1.], <is> [1.], <no> [1.], <pneumothorax> [1.], <or> [1.], <pleural> [1.], <effusion> [1.], <.> [1.] , \t next_word: there\n",
      "--- 21 ---\n",
      "[2518_IM-1036-1001.dcm.png], input_seq: <None> [0.001], <None> [0.001], <None> [0.001], <None> [0.001], <None> [0.001], <None> [0.001], <None> [0.001], <None> [0.001], <None> [0.001], <None> [0.001], <None> [0.001], <None> [0.001], <None> [0.001], <None> [0.001], <None> [0.001], <None> [0.001], <None> [0.001], <None> [0.001], <None> [0.001], <None> [0.001], <None> [0.001], <None> [0.001], <None> [0.001], <None> [0.001], <None> [0.001], <None> [0.001], <None> [0.001], <None> [0.001], <None> [0.001], <None> [0.001], <None> [0.001], <None> [0.001], <None> [0.001], <None> [0.001], <None> [0.001], <None> [0.001], <None> [0.001], <None> [0.001], <startseq> [1.], <no> [1.], <the> [1.], <cardiomediastinal> [1.], <silhouette> [1.], <and> [1.], <pulmonary> [1.], <vasculature> [1.], <are> [1.], <within> [1.], <normal> [1.], <limits> [1.], <.> [1.], <there> [1.], <is> [1.], <no> [1.], <pneumothorax> [1.], <or> [1.], <pleural> [1.], <effusion> [1.], <.> [1.], <there> [1.] , \t next_word: are\n",
      "--- 22 ---\n",
      "[2518_IM-1036-1001.dcm.png], input_seq: <None> [0.001], <None> [0.001], <None> [0.001], <None> [0.001], <None> [0.001], <None> [0.001], <None> [0.001], <None> [0.001], <None> [0.001], <None> [0.001], <None> [0.001], <None> [0.001], <None> [0.001], <None> [0.001], <None> [0.001], <None> [0.001], <None> [0.001], <None> [0.001], <None> [0.001], <None> [0.001], <None> [0.001], <None> [0.001], <None> [0.001], <None> [0.001], <None> [0.001], <None> [0.001], <None> [0.001], <None> [0.001], <None> [0.001], <None> [0.001], <None> [0.001], <None> [0.001], <None> [0.001], <None> [0.001], <None> [0.001], <None> [0.001], <None> [0.001], <startseq> [1.], <no> [1.], <the> [1.], <cardiomediastinal> [1.], <silhouette> [1.], <and> [1.], <pulmonary> [1.], <vasculature> [1.], <are> [1.], <within> [1.], <normal> [1.], <limits> [1.], <.> [1.], <there> [1.], <is> [1.], <no> [1.], <pneumothorax> [1.], <or> [1.], <pleural> [1.], <effusion> [1.], <.> [1.], <there> [1.], <are> [1.] , \t next_word: no\n",
      "--- 23 ---\n",
      "[2518_IM-1036-1001.dcm.png], input_seq: <None> [0.001], <None> [0.001], <None> [0.001], <None> [0.001], <None> [0.001], <None> [0.001], <None> [0.001], <None> [0.001], <None> [0.001], <None> [0.001], <None> [0.001], <None> [0.001], <None> [0.001], <None> [0.001], <None> [0.001], <None> [0.001], <None> [0.001], <None> [0.001], <None> [0.001], <None> [0.001], <None> [0.001], <None> [0.001], <None> [0.001], <None> [0.001], <None> [0.001], <None> [0.001], <None> [0.001], <None> [0.001], <None> [0.001], <None> [0.001], <None> [0.001], <None> [0.001], <None> [0.001], <None> [0.001], <None> [0.001], <None> [0.001], <startseq> [1.], <no> [1.], <the> [1.], <cardiomediastinal> [1.], <silhouette> [1.], <and> [1.], <pulmonary> [1.], <vasculature> [1.], <are> [1.], <within> [1.], <normal> [1.], <limits> [1.], <.> [1.], <there> [1.], <is> [1.], <no> [1.], <pneumothorax> [1.], <or> [1.], <pleural> [1.], <effusion> [1.], <.> [1.], <there> [1.], <are> [1.], <no> [1.] , \t next_word: focal\n",
      "--- 24 ---\n",
      "[2518_IM-1036-1001.dcm.png], input_seq: <None> [0.001], <None> [0.001], <None> [0.001], <None> [0.001], <None> [0.001], <None> [0.001], <None> [0.001], <None> [0.001], <None> [0.001], <None> [0.001], <None> [0.001], <None> [0.001], <None> [0.001], <None> [0.001], <None> [0.001], <None> [0.001], <None> [0.001], <None> [0.001], <None> [0.001], <None> [0.001], <None> [0.001], <None> [0.001], <None> [0.001], <None> [0.001], <None> [0.001], <None> [0.001], <None> [0.001], <None> [0.001], <None> [0.001], <None> [0.001], <None> [0.001], <None> [0.001], <None> [0.001], <None> [0.001], <None> [0.001], <startseq> [1.], <no> [1.], <the> [1.], <cardiomediastinal> [1.], <silhouette> [1.], <and> [1.], <pulmonary> [1.], <vasculature> [1.], <are> [1.], <within> [1.], <normal> [1.], <limits> [1.], <.> [1.], <there> [1.], <is> [1.], <no> [1.], <pneumothorax> [1.], <or> [1.], <pleural> [1.], <effusion> [1.], <.> [1.], <there> [1.], <are> [1.], <no> [1.], <focal> [1.] , \t next_word: areas\n",
      "--- 25 ---\n",
      "[2518_IM-1036-1001.dcm.png], input_seq: <None> [0.001], <None> [0.001], <None> [0.001], <None> [0.001], <None> [0.001], <None> [0.001], <None> [0.001], <None> [0.001], <None> [0.001], <None> [0.001], <None> [0.001], <None> [0.001], <None> [0.001], <None> [0.001], <None> [0.001], <None> [0.001], <None> [0.001], <None> [0.001], <None> [0.001], <None> [0.001], <None> [0.001], <None> [0.001], <None> [0.001], <None> [0.001], <None> [0.001], <None> [0.001], <None> [0.001], <None> [0.001], <None> [0.001], <None> [0.001], <None> [0.001], <None> [0.001], <None> [0.001], <None> [0.001], <startseq> [1.], <no> [1.], <the> [1.], <cardiomediastinal> [1.], <silhouette> [1.], <and> [1.], <pulmonary> [1.], <vasculature> [1.], <are> [1.], <within> [1.], <normal> [1.], <limits> [1.], <.> [1.], <there> [1.], <is> [1.], <no> [1.], <pneumothorax> [1.], <or> [1.], <pleural> [1.], <effusion> [1.], <.> [1.], <there> [1.], <are> [1.], <no> [1.], <focal> [1.], <areas> [1.] , \t next_word: of\n",
      "--- 26 ---\n",
      "[2518_IM-1036-1001.dcm.png], input_seq: <None> [0.001], <None> [0.001], <None> [0.001], <None> [0.001], <None> [0.001], <None> [0.001], <None> [0.001], <None> [0.001], <None> [0.001], <None> [0.001], <None> [0.001], <None> [0.001], <None> [0.001], <None> [0.001], <None> [0.001], <None> [0.001], <None> [0.001], <None> [0.001], <None> [0.001], <None> [0.001], <None> [0.001], <None> [0.001], <None> [0.001], <None> [0.001], <None> [0.001], <None> [0.001], <None> [0.001], <None> [0.001], <None> [0.001], <None> [0.001], <None> [0.001], <None> [0.001], <None> [0.001], <startseq> [1.], <no> [1.], <the> [1.], <cardiomediastinal> [1.], <silhouette> [1.], <and> [1.], <pulmonary> [1.], <vasculature> [1.], <are> [1.], <within> [1.], <normal> [1.], <limits> [1.], <.> [1.], <there> [1.], <is> [1.], <no> [1.], <pneumothorax> [1.], <or> [1.], <pleural> [1.], <effusion> [1.], <.> [1.], <there> [1.], <are> [1.], <no> [1.], <focal> [1.], <areas> [1.], <of> [1.] , \t next_word: consolidation\n",
      "--- 27 ---\n",
      "[2518_IM-1036-1001.dcm.png], input_seq: <None> [0.001], <None> [0.001], <None> [0.001], <None> [0.001], <None> [0.001], <None> [0.001], <None> [0.001], <None> [0.001], <None> [0.001], <None> [0.001], <None> [0.001], <None> [0.001], <None> [0.001], <None> [0.001], <None> [0.001], <None> [0.001], <None> [0.001], <None> [0.001], <None> [0.001], <None> [0.001], <None> [0.001], <None> [0.001], <None> [0.001], <None> [0.001], <None> [0.001], <None> [0.001], <None> [0.001], <None> [0.001], <None> [0.001], <None> [0.001], <None> [0.001], <None> [0.001], <startseq> [1.], <no> [1.], <the> [1.], <cardiomediastinal> [1.], <silhouette> [1.], <and> [1.], <pulmonary> [1.], <vasculature> [1.], <are> [1.], <within> [1.], <normal> [1.], <limits> [1.], <.> [1.], <there> [1.], <is> [1.], <no> [1.], <pneumothorax> [1.], <or> [1.], <pleural> [1.], <effusion> [1.], <.> [1.], <there> [1.], <are> [1.], <no> [1.], <focal> [1.], <areas> [1.], <of> [1.], <consolidation> [1.] , \t next_word: .\n",
      "--- 28 ---\n",
      "[2518_IM-1036-1001.dcm.png], input_seq: <None> [0.001], <None> [0.001], <None> [0.001], <None> [0.001], <None> [0.001], <None> [0.001], <None> [0.001], <None> [0.001], <None> [0.001], <None> [0.001], <None> [0.001], <None> [0.001], <None> [0.001], <None> [0.001], <None> [0.001], <None> [0.001], <None> [0.001], <None> [0.001], <None> [0.001], <None> [0.001], <None> [0.001], <None> [0.001], <None> [0.001], <None> [0.001], <None> [0.001], <None> [0.001], <None> [0.001], <None> [0.001], <None> [0.001], <None> [0.001], <None> [0.001], <startseq> [1.], <no> [1.], <the> [1.], <cardiomediastinal> [1.], <silhouette> [1.], <and> [1.], <pulmonary> [1.], <vasculature> [1.], <are> [1.], <within> [1.], <normal> [1.], <limits> [1.], <.> [1.], <there> [1.], <is> [1.], <no> [1.], <pneumothorax> [1.], <or> [1.], <pleural> [1.], <effusion> [1.], <.> [1.], <there> [1.], <are> [1.], <no> [1.], <focal> [1.], <areas> [1.], <of> [1.], <consolidation> [1.], <.> [1.] , \t next_word: there\n",
      "--- 29 ---\n",
      "[2518_IM-1036-1001.dcm.png], input_seq: <None> [0.001], <None> [0.001], <None> [0.001], <None> [0.001], <None> [0.001], <None> [0.001], <None> [0.001], <None> [0.001], <None> [0.001], <None> [0.001], <None> [0.001], <None> [0.001], <None> [0.001], <None> [0.001], <None> [0.001], <None> [0.001], <None> [0.001], <None> [0.001], <None> [0.001], <None> [0.001], <None> [0.001], <None> [0.001], <None> [0.001], <None> [0.001], <None> [0.001], <None> [0.001], <None> [0.001], <None> [0.001], <None> [0.001], <None> [0.001], <startseq> [1.], <no> [1.], <the> [1.], <cardiomediastinal> [1.], <silhouette> [1.], <and> [1.], <pulmonary> [1.], <vasculature> [1.], <are> [1.], <within> [1.], <normal> [1.], <limits> [1.], <.> [1.], <there> [1.], <is> [1.], <no> [1.], <pneumothorax> [1.], <or> [1.], <pleural> [1.], <effusion> [1.], <.> [1.], <there> [1.], <are> [1.], <no> [1.], <focal> [1.], <areas> [1.], <of> [1.], <consolidation> [1.], <.> [1.], <there> [1.] , \t next_word: are\n",
      "--- 30 ---\n",
      "[2518_IM-1036-1001.dcm.png], input_seq: <None> [0.001], <None> [0.001], <None> [0.001], <None> [0.001], <None> [0.001], <None> [0.001], <None> [0.001], <None> [0.001], <None> [0.001], <None> [0.001], <None> [0.001], <None> [0.001], <None> [0.001], <None> [0.001], <None> [0.001], <None> [0.001], <None> [0.001], <None> [0.001], <None> [0.001], <None> [0.001], <None> [0.001], <None> [0.001], <None> [0.001], <None> [0.001], <None> [0.001], <None> [0.001], <None> [0.001], <None> [0.001], <None> [0.001], <startseq> [1.], <no> [1.], <the> [1.], <cardiomediastinal> [1.], <silhouette> [1.], <and> [1.], <pulmonary> [1.], <vasculature> [1.], <are> [1.], <within> [1.], <normal> [1.], <limits> [1.], <.> [1.], <there> [1.], <is> [1.], <no> [1.], <pneumothorax> [1.], <or> [1.], <pleural> [1.], <effusion> [1.], <.> [1.], <there> [1.], <are> [1.], <no> [1.], <focal> [1.], <areas> [1.], <of> [1.], <consolidation> [1.], <.> [1.], <there> [1.], <are> [1.] , \t next_word: t\n",
      "--- 31 ---\n",
      "[2518_IM-1036-1001.dcm.png], input_seq: <None> [0.001], <None> [0.001], <None> [0.001], <None> [0.001], <None> [0.001], <None> [0.001], <None> [0.001], <None> [0.001], <None> [0.001], <None> [0.001], <None> [0.001], <None> [0.001], <None> [0.001], <None> [0.001], <None> [0.001], <None> [0.001], <None> [0.001], <None> [0.001], <None> [0.001], <None> [0.001], <None> [0.001], <None> [0.001], <None> [0.001], <None> [0.001], <None> [0.001], <None> [0.001], <None> [0.001], <None> [0.001], <startseq> [1.], <no> [1.], <the> [1.], <cardiomediastinal> [1.], <silhouette> [1.], <and> [1.], <pulmonary> [1.], <vasculature> [1.], <are> [1.], <within> [1.], <normal> [1.], <limits> [1.], <.> [1.], <there> [1.], <is> [1.], <no> [1.], <pneumothorax> [1.], <or> [1.], <pleural> [1.], <effusion> [1.], <.> [1.], <there> [1.], <are> [1.], <no> [1.], <focal> [1.], <areas> [1.], <of> [1.], <consolidation> [1.], <.> [1.], <there> [1.], <are> [1.], <t> [1.] , \t next_word: -\n",
      "--- 32 ---\n",
      "[2518_IM-1036-1001.dcm.png], input_seq: <None> [0.001], <None> [0.001], <None> [0.001], <None> [0.001], <None> [0.001], <None> [0.001], <None> [0.001], <None> [0.001], <None> [0.001], <None> [0.001], <None> [0.001], <None> [0.001], <None> [0.001], <None> [0.001], <None> [0.001], <None> [0.001], <None> [0.001], <None> [0.001], <None> [0.001], <None> [0.001], <None> [0.001], <None> [0.001], <None> [0.001], <None> [0.001], <None> [0.001], <None> [0.001], <None> [0.001], <startseq> [1.], <no> [1.], <the> [1.], <cardiomediastinal> [1.], <silhouette> [1.], <and> [1.], <pulmonary> [1.], <vasculature> [1.], <are> [1.], <within> [1.], <normal> [1.], <limits> [1.], <.> [1.], <there> [1.], <is> [1.], <no> [1.], <pneumothorax> [1.], <or> [1.], <pleural> [1.], <effusion> [1.], <.> [1.], <there> [1.], <are> [1.], <no> [1.], <focal> [1.], <areas> [1.], <of> [1.], <consolidation> [1.], <.> [1.], <there> [1.], <are> [1.], <t> [1.], <-> [1.] , \t next_word: spine\n",
      "--- 33 ---\n",
      "[2518_IM-1036-1001.dcm.png], input_seq: <None> [0.001], <None> [0.001], <None> [0.001], <None> [0.001], <None> [0.001], <None> [0.001], <None> [0.001], <None> [0.001], <None> [0.001], <None> [0.001], <None> [0.001], <None> [0.001], <None> [0.001], <None> [0.001], <None> [0.001], <None> [0.001], <None> [0.001], <None> [0.001], <None> [0.001], <None> [0.001], <None> [0.001], <None> [0.001], <None> [0.001], <None> [0.001], <None> [0.001], <None> [0.001], <startseq> [1.], <no> [1.], <the> [1.], <cardiomediastinal> [1.], <silhouette> [1.], <and> [1.], <pulmonary> [1.], <vasculature> [1.], <are> [1.], <within> [1.], <normal> [1.], <limits> [1.], <.> [1.], <there> [1.], <is> [1.], <no> [1.], <pneumothorax> [1.], <or> [1.], <pleural> [1.], <effusion> [1.], <.> [1.], <there> [1.], <are> [1.], <no> [1.], <focal> [1.], <areas> [1.], <of> [1.], <consolidation> [1.], <.> [1.], <there> [1.], <are> [1.], <t> [1.], <-> [1.], <spine> [1.] , \t next_word: osteophytes\n",
      "--- 34 ---\n",
      "[2518_IM-1036-1001.dcm.png], input_seq: <None> [0.001], <None> [0.001], <None> [0.001], <None> [0.001], <None> [0.001], <None> [0.001], <None> [0.001], <None> [0.001], <None> [0.001], <None> [0.001], <None> [0.001], <None> [0.001], <None> [0.001], <None> [0.001], <None> [0.001], <None> [0.001], <None> [0.001], <None> [0.001], <None> [0.001], <None> [0.001], <None> [0.001], <None> [0.001], <None> [0.001], <None> [0.001], <None> [0.001], <startseq> [1.], <no> [1.], <the> [1.], <cardiomediastinal> [1.], <silhouette> [1.], <and> [1.], <pulmonary> [1.], <vasculature> [1.], <are> [1.], <within> [1.], <normal> [1.], <limits> [1.], <.> [1.], <there> [1.], <is> [1.], <no> [1.], <pneumothorax> [1.], <or> [1.], <pleural> [1.], <effusion> [1.], <.> [1.], <there> [1.], <are> [1.], <no> [1.], <focal> [1.], <areas> [1.], <of> [1.], <consolidation> [1.], <.> [1.], <there> [1.], <are> [1.], <t> [1.], <-> [1.], <spine> [1.], <osteophytes> [1.] , \t next_word: .\n",
      "--- 35 ---\n",
      "[2518_IM-1036-1001.dcm.png], input_seq: <None> [0.001], <None> [0.001], <None> [0.001], <None> [0.001], <None> [0.001], <None> [0.001], <None> [0.001], <None> [0.001], <None> [0.001], <None> [0.001], <None> [0.001], <None> [0.001], <None> [0.001], <None> [0.001], <None> [0.001], <None> [0.001], <None> [0.001], <None> [0.001], <None> [0.001], <None> [0.001], <None> [0.001], <None> [0.001], <None> [0.001], <None> [0.001], <startseq> [1.], <no> [1.], <the> [1.], <cardiomediastinal> [1.], <silhouette> [1.], <and> [1.], <pulmonary> [1.], <vasculature> [1.], <are> [1.], <within> [1.], <normal> [1.], <limits> [1.], <.> [1.], <there> [1.], <is> [1.], <no> [1.], <pneumothorax> [1.], <or> [1.], <pleural> [1.], <effusion> [1.], <.> [1.], <there> [1.], <are> [1.], <no> [1.], <focal> [1.], <areas> [1.], <of> [1.], <consolidation> [1.], <.> [1.], <there> [1.], <are> [1.], <t> [1.], <-> [1.], <spine> [1.], <osteophytes> [1.], <.> [1.] , \t next_word: endseq\n",
      "--- 36 ---\n",
      "[1427_IM-0273-12012.dcm.png], input_seq: <None> [0.001], <None> [0.001], <None> [0.001], <None> [0.001], <None> [0.001], <None> [0.001], <None> [0.001], <None> [0.001], <None> [0.001], <None> [0.001], <None> [0.001], <None> [0.001], <None> [0.001], <None> [0.001], <None> [0.001], <None> [0.001], <None> [0.001], <None> [0.001], <None> [0.001], <None> [0.001], <None> [0.001], <None> [0.001], <None> [0.001], <None> [0.001], <None> [0.001], <None> [0.001], <None> [0.001], <None> [0.001], <None> [0.001], <None> [0.001], <None> [0.001], <None> [0.001], <None> [0.001], <None> [0.001], <None> [0.001], <None> [0.001], <None> [0.001], <None> [0.001], <None> [0.001], <None> [0.001], <None> [0.001], <None> [0.001], <None> [0.001], <None> [0.001], <None> [0.001], <None> [0.001], <None> [0.001], <None> [0.001], <None> [0.001], <None> [0.001], <None> [0.001], <None> [0.001], <None> [0.001], <None> [0.001], <None> [0.001], <None> [0.001], <None> [0.001], <None> [0.001], <None> [0.001], <startseq> [1.] , \t next_word: the\n",
      "--- 37 ---\n",
      "[1427_IM-0273-12012.dcm.png], input_seq: <None> [0.001], <None> [0.001], <None> [0.001], <None> [0.001], <None> [0.001], <None> [0.001], <None> [0.001], <None> [0.001], <None> [0.001], <None> [0.001], <None> [0.001], <None> [0.001], <None> [0.001], <None> [0.001], <None> [0.001], <None> [0.001], <None> [0.001], <None> [0.001], <None> [0.001], <None> [0.001], <None> [0.001], <None> [0.001], <None> [0.001], <None> [0.001], <None> [0.001], <None> [0.001], <None> [0.001], <None> [0.001], <None> [0.001], <None> [0.001], <None> [0.001], <None> [0.001], <None> [0.001], <None> [0.001], <None> [0.001], <None> [0.001], <None> [0.001], <None> [0.001], <None> [0.001], <None> [0.001], <None> [0.001], <None> [0.001], <None> [0.001], <None> [0.001], <None> [0.001], <None> [0.001], <None> [0.001], <None> [0.001], <None> [0.001], <None> [0.001], <None> [0.001], <None> [0.001], <None> [0.001], <None> [0.001], <None> [0.001], <None> [0.001], <None> [0.001], <None> [0.001], <startseq> [1.], <the> [1.] , \t next_word: lungs\n",
      "--- 38 ---\n",
      "[1427_IM-0273-12012.dcm.png], input_seq: <None> [0.001], <None> [0.001], <None> [0.001], <None> [0.001], <None> [0.001], <None> [0.001], <None> [0.001], <None> [0.001], <None> [0.001], <None> [0.001], <None> [0.001], <None> [0.001], <None> [0.001], <None> [0.001], <None> [0.001], <None> [0.001], <None> [0.001], <None> [0.001], <None> [0.001], <None> [0.001], <None> [0.001], <None> [0.001], <None> [0.001], <None> [0.001], <None> [0.001], <None> [0.001], <None> [0.001], <None> [0.001], <None> [0.001], <None> [0.001], <None> [0.001], <None> [0.001], <None> [0.001], <None> [0.001], <None> [0.001], <None> [0.001], <None> [0.001], <None> [0.001], <None> [0.001], <None> [0.001], <None> [0.001], <None> [0.001], <None> [0.001], <None> [0.001], <None> [0.001], <None> [0.001], <None> [0.001], <None> [0.001], <None> [0.001], <None> [0.001], <None> [0.001], <None> [0.001], <None> [0.001], <None> [0.001], <None> [0.001], <None> [0.001], <None> [0.001], <startseq> [1.], <the> [1.], <lungs> [1.] , \t next_word: are\n",
      "--- 39 ---\n",
      "[1427_IM-0273-12012.dcm.png], input_seq: <None> [0.001], <None> [0.001], <None> [0.001], <None> [0.001], <None> [0.001], <None> [0.001], <None> [0.001], <None> [0.001], <None> [0.001], <None> [0.001], <None> [0.001], <None> [0.001], <None> [0.001], <None> [0.001], <None> [0.001], <None> [0.001], <None> [0.001], <None> [0.001], <None> [0.001], <None> [0.001], <None> [0.001], <None> [0.001], <None> [0.001], <None> [0.001], <None> [0.001], <None> [0.001], <None> [0.001], <None> [0.001], <None> [0.001], <None> [0.001], <None> [0.001], <None> [0.001], <None> [0.001], <None> [0.001], <None> [0.001], <None> [0.001], <None> [0.001], <None> [0.001], <None> [0.001], <None> [0.001], <None> [0.001], <None> [0.001], <None> [0.001], <None> [0.001], <None> [0.001], <None> [0.001], <None> [0.001], <None> [0.001], <None> [0.001], <None> [0.001], <None> [0.001], <None> [0.001], <None> [0.001], <None> [0.001], <None> [0.001], <None> [0.001], <startseq> [1.], <the> [1.], <lungs> [1.], <are> [1.] , \t next_word: clear\n",
      "--- 40 ---\n",
      "[1427_IM-0273-12012.dcm.png], input_seq: <None> [0.001], <None> [0.001], <None> [0.001], <None> [0.001], <None> [0.001], <None> [0.001], <None> [0.001], <None> [0.001], <None> [0.001], <None> [0.001], <None> [0.001], <None> [0.001], <None> [0.001], <None> [0.001], <None> [0.001], <None> [0.001], <None> [0.001], <None> [0.001], <None> [0.001], <None> [0.001], <None> [0.001], <None> [0.001], <None> [0.001], <None> [0.001], <None> [0.001], <None> [0.001], <None> [0.001], <None> [0.001], <None> [0.001], <None> [0.001], <None> [0.001], <None> [0.001], <None> [0.001], <None> [0.001], <None> [0.001], <None> [0.001], <None> [0.001], <None> [0.001], <None> [0.001], <None> [0.001], <None> [0.001], <None> [0.001], <None> [0.001], <None> [0.001], <None> [0.001], <None> [0.001], <None> [0.001], <None> [0.001], <None> [0.001], <None> [0.001], <None> [0.001], <None> [0.001], <None> [0.001], <None> [0.001], <None> [0.001], <startseq> [1.], <the> [1.], <lungs> [1.], <are> [1.], <clear> [1.] , \t next_word: .\n",
      "--- 41 ---\n",
      "[1427_IM-0273-12012.dcm.png], input_seq: <None> [0.001], <None> [0.001], <None> [0.001], <None> [0.001], <None> [0.001], <None> [0.001], <None> [0.001], <None> [0.001], <None> [0.001], <None> [0.001], <None> [0.001], <None> [0.001], <None> [0.001], <None> [0.001], <None> [0.001], <None> [0.001], <None> [0.001], <None> [0.001], <None> [0.001], <None> [0.001], <None> [0.001], <None> [0.001], <None> [0.001], <None> [0.001], <None> [0.001], <None> [0.001], <None> [0.001], <None> [0.001], <None> [0.001], <None> [0.001], <None> [0.001], <None> [0.001], <None> [0.001], <None> [0.001], <None> [0.001], <None> [0.001], <None> [0.001], <None> [0.001], <None> [0.001], <None> [0.001], <None> [0.001], <None> [0.001], <None> [0.001], <None> [0.001], <None> [0.001], <None> [0.001], <None> [0.001], <None> [0.001], <None> [0.001], <None> [0.001], <None> [0.001], <None> [0.001], <None> [0.001], <None> [0.001], <startseq> [1.], <the> [1.], <lungs> [1.], <are> [1.], <clear> [1.], <.> [1.] , \t next_word: heart\n",
      "--- 42 ---\n",
      "[1427_IM-0273-12012.dcm.png], input_seq: <None> [0.001], <None> [0.001], <None> [0.001], <None> [0.001], <None> [0.001], <None> [0.001], <None> [0.001], <None> [0.001], <None> [0.001], <None> [0.001], <None> [0.001], <None> [0.001], <None> [0.001], <None> [0.001], <None> [0.001], <None> [0.001], <None> [0.001], <None> [0.001], <None> [0.001], <None> [0.001], <None> [0.001], <None> [0.001], <None> [0.001], <None> [0.001], <None> [0.001], <None> [0.001], <None> [0.001], <None> [0.001], <None> [0.001], <None> [0.001], <None> [0.001], <None> [0.001], <None> [0.001], <None> [0.001], <None> [0.001], <None> [0.001], <None> [0.001], <None> [0.001], <None> [0.001], <None> [0.001], <None> [0.001], <None> [0.001], <None> [0.001], <None> [0.001], <None> [0.001], <None> [0.001], <None> [0.001], <None> [0.001], <None> [0.001], <None> [0.001], <None> [0.001], <None> [0.001], <None> [0.001], <startseq> [1.], <the> [1.], <lungs> [1.], <are> [1.], <clear> [1.], <.> [1.], <heart> [1.] , \t next_word: size\n",
      "--- 43 ---\n",
      "[1427_IM-0273-12012.dcm.png], input_seq: <None> [0.001], <None> [0.001], <None> [0.001], <None> [0.001], <None> [0.001], <None> [0.001], <None> [0.001], <None> [0.001], <None> [0.001], <None> [0.001], <None> [0.001], <None> [0.001], <None> [0.001], <None> [0.001], <None> [0.001], <None> [0.001], <None> [0.001], <None> [0.001], <None> [0.001], <None> [0.001], <None> [0.001], <None> [0.001], <None> [0.001], <None> [0.001], <None> [0.001], <None> [0.001], <None> [0.001], <None> [0.001], <None> [0.001], <None> [0.001], <None> [0.001], <None> [0.001], <None> [0.001], <None> [0.001], <None> [0.001], <None> [0.001], <None> [0.001], <None> [0.001], <None> [0.001], <None> [0.001], <None> [0.001], <None> [0.001], <None> [0.001], <None> [0.001], <None> [0.001], <None> [0.001], <None> [0.001], <None> [0.001], <None> [0.001], <None> [0.001], <None> [0.001], <None> [0.001], <startseq> [1.], <the> [1.], <lungs> [1.], <are> [1.], <clear> [1.], <.> [1.], <heart> [1.], <size> [1.] , \t next_word: is\n",
      "--- 44 ---\n",
      "[1427_IM-0273-12012.dcm.png], input_seq: <None> [0.001], <None> [0.001], <None> [0.001], <None> [0.001], <None> [0.001], <None> [0.001], <None> [0.001], <None> [0.001], <None> [0.001], <None> [0.001], <None> [0.001], <None> [0.001], <None> [0.001], <None> [0.001], <None> [0.001], <None> [0.001], <None> [0.001], <None> [0.001], <None> [0.001], <None> [0.001], <None> [0.001], <None> [0.001], <None> [0.001], <None> [0.001], <None> [0.001], <None> [0.001], <None> [0.001], <None> [0.001], <None> [0.001], <None> [0.001], <None> [0.001], <None> [0.001], <None> [0.001], <None> [0.001], <None> [0.001], <None> [0.001], <None> [0.001], <None> [0.001], <None> [0.001], <None> [0.001], <None> [0.001], <None> [0.001], <None> [0.001], <None> [0.001], <None> [0.001], <None> [0.001], <None> [0.001], <None> [0.001], <None> [0.001], <None> [0.001], <None> [0.001], <startseq> [1.], <the> [1.], <lungs> [1.], <are> [1.], <clear> [1.], <.> [1.], <heart> [1.], <size> [1.], <is> [1.] , \t next_word: normal\n",
      "--- 45 ---\n",
      "[1427_IM-0273-12012.dcm.png], input_seq: <None> [0.001], <None> [0.001], <None> [0.001], <None> [0.001], <None> [0.001], <None> [0.001], <None> [0.001], <None> [0.001], <None> [0.001], <None> [0.001], <None> [0.001], <None> [0.001], <None> [0.001], <None> [0.001], <None> [0.001], <None> [0.001], <None> [0.001], <None> [0.001], <None> [0.001], <None> [0.001], <None> [0.001], <None> [0.001], <None> [0.001], <None> [0.001], <None> [0.001], <None> [0.001], <None> [0.001], <None> [0.001], <None> [0.001], <None> [0.001], <None> [0.001], <None> [0.001], <None> [0.001], <None> [0.001], <None> [0.001], <None> [0.001], <None> [0.001], <None> [0.001], <None> [0.001], <None> [0.001], <None> [0.001], <None> [0.001], <None> [0.001], <None> [0.001], <None> [0.001], <None> [0.001], <None> [0.001], <None> [0.001], <None> [0.001], <None> [0.001], <startseq> [1.], <the> [1.], <lungs> [1.], <are> [1.], <clear> [1.], <.> [1.], <heart> [1.], <size> [1.], <is> [1.], <normal> [1.] , \t next_word: .\n",
      "--- 46 ---\n",
      "[1427_IM-0273-12012.dcm.png], input_seq: <None> [0.001], <None> [0.001], <None> [0.001], <None> [0.001], <None> [0.001], <None> [0.001], <None> [0.001], <None> [0.001], <None> [0.001], <None> [0.001], <None> [0.001], <None> [0.001], <None> [0.001], <None> [0.001], <None> [0.001], <None> [0.001], <None> [0.001], <None> [0.001], <None> [0.001], <None> [0.001], <None> [0.001], <None> [0.001], <None> [0.001], <None> [0.001], <None> [0.001], <None> [0.001], <None> [0.001], <None> [0.001], <None> [0.001], <None> [0.001], <None> [0.001], <None> [0.001], <None> [0.001], <None> [0.001], <None> [0.001], <None> [0.001], <None> [0.001], <None> [0.001], <None> [0.001], <None> [0.001], <None> [0.001], <None> [0.001], <None> [0.001], <None> [0.001], <None> [0.001], <None> [0.001], <None> [0.001], <None> [0.001], <None> [0.001], <startseq> [1.], <the> [1.], <lungs> [1.], <are> [1.], <clear> [1.], <.> [1.], <heart> [1.], <size> [1.], <is> [1.], <normal> [1.], <.> [1.] , \t next_word: no\n",
      "--- 47 ---\n",
      "[1427_IM-0273-12012.dcm.png], input_seq: <None> [0.001], <None> [0.001], <None> [0.001], <None> [0.001], <None> [0.001], <None> [0.001], <None> [0.001], <None> [0.001], <None> [0.001], <None> [0.001], <None> [0.001], <None> [0.001], <None> [0.001], <None> [0.001], <None> [0.001], <None> [0.001], <None> [0.001], <None> [0.001], <None> [0.001], <None> [0.001], <None> [0.001], <None> [0.001], <None> [0.001], <None> [0.001], <None> [0.001], <None> [0.001], <None> [0.001], <None> [0.001], <None> [0.001], <None> [0.001], <None> [0.001], <None> [0.001], <None> [0.001], <None> [0.001], <None> [0.001], <None> [0.001], <None> [0.001], <None> [0.001], <None> [0.001], <None> [0.001], <None> [0.001], <None> [0.001], <None> [0.001], <None> [0.001], <None> [0.001], <None> [0.001], <None> [0.001], <None> [0.001], <startseq> [1.], <the> [1.], <lungs> [1.], <are> [1.], <clear> [1.], <.> [1.], <heart> [1.], <size> [1.], <is> [1.], <normal> [1.], <.> [1.], <no> [1.] , \t next_word: pneumothorax\n",
      "--- 48 ---\n",
      "[1427_IM-0273-12012.dcm.png], input_seq: <None> [0.001], <None> [0.001], <None> [0.001], <None> [0.001], <None> [0.001], <None> [0.001], <None> [0.001], <None> [0.001], <None> [0.001], <None> [0.001], <None> [0.001], <None> [0.001], <None> [0.001], <None> [0.001], <None> [0.001], <None> [0.001], <None> [0.001], <None> [0.001], <None> [0.001], <None> [0.001], <None> [0.001], <None> [0.001], <None> [0.001], <None> [0.001], <None> [0.001], <None> [0.001], <None> [0.001], <None> [0.001], <None> [0.001], <None> [0.001], <None> [0.001], <None> [0.001], <None> [0.001], <None> [0.001], <None> [0.001], <None> [0.001], <None> [0.001], <None> [0.001], <None> [0.001], <None> [0.001], <None> [0.001], <None> [0.001], <None> [0.001], <None> [0.001], <None> [0.001], <None> [0.001], <None> [0.001], <startseq> [1.], <the> [1.], <lungs> [1.], <are> [1.], <clear> [1.], <.> [1.], <heart> [1.], <size> [1.], <is> [1.], <normal> [1.], <.> [1.], <no> [1.], <pneumothorax> [1.] , \t next_word: .\n",
      "--- 49 ---\n",
      "[1427_IM-0273-12012.dcm.png], input_seq: <None> [0.001], <None> [0.001], <None> [0.001], <None> [0.001], <None> [0.001], <None> [0.001], <None> [0.001], <None> [0.001], <None> [0.001], <None> [0.001], <None> [0.001], <None> [0.001], <None> [0.001], <None> [0.001], <None> [0.001], <None> [0.001], <None> [0.001], <None> [0.001], <None> [0.001], <None> [0.001], <None> [0.001], <None> [0.001], <None> [0.001], <None> [0.001], <None> [0.001], <None> [0.001], <None> [0.001], <None> [0.001], <None> [0.001], <None> [0.001], <None> [0.001], <None> [0.001], <None> [0.001], <None> [0.001], <None> [0.001], <None> [0.001], <None> [0.001], <None> [0.001], <None> [0.001], <None> [0.001], <None> [0.001], <None> [0.001], <None> [0.001], <None> [0.001], <None> [0.001], <None> [0.001], <startseq> [1.], <the> [1.], <lungs> [1.], <are> [1.], <clear> [1.], <.> [1.], <heart> [1.], <size> [1.], <is> [1.], <normal> [1.], <.> [1.], <no> [1.], <pneumothorax> [1.], <.> [1.] , \t next_word: there\n",
      "--- 50 ---\n",
      "[1427_IM-0273-12012.dcm.png], input_seq: <None> [0.001], <None> [0.001], <None> [0.001], <None> [0.001], <None> [0.001], <None> [0.001], <None> [0.001], <None> [0.001], <None> [0.001], <None> [0.001], <None> [0.001], <None> [0.001], <None> [0.001], <None> [0.001], <None> [0.001], <None> [0.001], <None> [0.001], <None> [0.001], <None> [0.001], <None> [0.001], <None> [0.001], <None> [0.001], <None> [0.001], <None> [0.001], <None> [0.001], <None> [0.001], <None> [0.001], <None> [0.001], <None> [0.001], <None> [0.001], <None> [0.001], <None> [0.001], <None> [0.001], <None> [0.001], <None> [0.001], <None> [0.001], <None> [0.001], <None> [0.001], <None> [0.001], <None> [0.001], <None> [0.001], <None> [0.001], <None> [0.001], <None> [0.001], <None> [0.001], <startseq> [1.], <the> [1.], <lungs> [1.], <are> [1.], <clear> [1.], <.> [1.], <heart> [1.], <size> [1.], <is> [1.], <normal> [1.], <.> [1.], <no> [1.], <pneumothorax> [1.], <.> [1.], <there> [1.] , \t next_word: is\n",
      "--- 51 ---\n",
      "[1427_IM-0273-12012.dcm.png], input_seq: <None> [0.001], <None> [0.001], <None> [0.001], <None> [0.001], <None> [0.001], <None> [0.001], <None> [0.001], <None> [0.001], <None> [0.001], <None> [0.001], <None> [0.001], <None> [0.001], <None> [0.001], <None> [0.001], <None> [0.001], <None> [0.001], <None> [0.001], <None> [0.001], <None> [0.001], <None> [0.001], <None> [0.001], <None> [0.001], <None> [0.001], <None> [0.001], <None> [0.001], <None> [0.001], <None> [0.001], <None> [0.001], <None> [0.001], <None> [0.001], <None> [0.001], <None> [0.001], <None> [0.001], <None> [0.001], <None> [0.001], <None> [0.001], <None> [0.001], <None> [0.001], <None> [0.001], <None> [0.001], <None> [0.001], <None> [0.001], <None> [0.001], <None> [0.001], <startseq> [1.], <the> [1.], <lungs> [1.], <are> [1.], <clear> [1.], <.> [1.], <heart> [1.], <size> [1.], <is> [1.], <normal> [1.], <.> [1.], <no> [1.], <pneumothorax> [1.], <.> [1.], <there> [1.], <is> [1.] , \t next_word: a\n",
      "--- 52 ---\n",
      "[1427_IM-0273-12012.dcm.png], input_seq: <None> [0.001], <None> [0.001], <None> [0.001], <None> [0.001], <None> [0.001], <None> [0.001], <None> [0.001], <None> [0.001], <None> [0.001], <None> [0.001], <None> [0.001], <None> [0.001], <None> [0.001], <None> [0.001], <None> [0.001], <None> [0.001], <None> [0.001], <None> [0.001], <None> [0.001], <None> [0.001], <None> [0.001], <None> [0.001], <None> [0.001], <None> [0.001], <None> [0.001], <None> [0.001], <None> [0.001], <None> [0.001], <None> [0.001], <None> [0.001], <None> [0.001], <None> [0.001], <None> [0.001], <None> [0.001], <None> [0.001], <None> [0.001], <None> [0.001], <None> [0.001], <None> [0.001], <None> [0.001], <None> [0.001], <None> [0.001], <None> [0.001], <startseq> [1.], <the> [1.], <lungs> [1.], <are> [1.], <clear> [1.], <.> [1.], <heart> [1.], <size> [1.], <is> [1.], <normal> [1.], <.> [1.], <no> [1.], <pneumothorax> [1.], <.> [1.], <there> [1.], <is> [1.], <a> [1.] , \t next_word: cardiac\n",
      "--- 53 ---\n",
      "[1427_IM-0273-12012.dcm.png], input_seq: <None> [0.001], <None> [0.001], <None> [0.001], <None> [0.001], <None> [0.001], <None> [0.001], <None> [0.001], <None> [0.001], <None> [0.001], <None> [0.001], <None> [0.001], <None> [0.001], <None> [0.001], <None> [0.001], <None> [0.001], <None> [0.001], <None> [0.001], <None> [0.001], <None> [0.001], <None> [0.001], <None> [0.001], <None> [0.001], <None> [0.001], <None> [0.001], <None> [0.001], <None> [0.001], <None> [0.001], <None> [0.001], <None> [0.001], <None> [0.001], <None> [0.001], <None> [0.001], <None> [0.001], <None> [0.001], <None> [0.001], <None> [0.001], <None> [0.001], <None> [0.001], <None> [0.001], <None> [0.001], <None> [0.001], <None> [0.001], <startseq> [1.], <the> [1.], <lungs> [1.], <are> [1.], <clear> [1.], <.> [1.], <heart> [1.], <size> [1.], <is> [1.], <normal> [1.], <.> [1.], <no> [1.], <pneumothorax> [1.], <.> [1.], <there> [1.], <is> [1.], <a> [1.], <cardiac> [1.] , \t next_word: xxxx\n",
      "--- 54 ---\n",
      "[1427_IM-0273-12012.dcm.png], input_seq: <None> [0.001], <None> [0.001], <None> [0.001], <None> [0.001], <None> [0.001], <None> [0.001], <None> [0.001], <None> [0.001], <None> [0.001], <None> [0.001], <None> [0.001], <None> [0.001], <None> [0.001], <None> [0.001], <None> [0.001], <None> [0.001], <None> [0.001], <None> [0.001], <None> [0.001], <None> [0.001], <None> [0.001], <None> [0.001], <None> [0.001], <None> [0.001], <None> [0.001], <None> [0.001], <None> [0.001], <None> [0.001], <None> [0.001], <None> [0.001], <None> [0.001], <None> [0.001], <None> [0.001], <None> [0.001], <None> [0.001], <None> [0.001], <None> [0.001], <None> [0.001], <None> [0.001], <None> [0.001], <None> [0.001], <startseq> [1.], <the> [1.], <lungs> [1.], <are> [1.], <clear> [1.], <.> [1.], <heart> [1.], <size> [1.], <is> [1.], <normal> [1.], <.> [1.], <no> [1.], <pneumothorax> [1.], <.> [1.], <there> [1.], <is> [1.], <a> [1.], <cardiac> [1.], <xxxx> [1.] , \t next_word: with\n",
      "--- 55 ---\n",
      "[1427_IM-0273-12012.dcm.png], input_seq: <None> [0.001], <None> [0.001], <None> [0.001], <None> [0.001], <None> [0.001], <None> [0.001], <None> [0.001], <None> [0.001], <None> [0.001], <None> [0.001], <None> [0.001], <None> [0.001], <None> [0.001], <None> [0.001], <None> [0.001], <None> [0.001], <None> [0.001], <None> [0.001], <None> [0.001], <None> [0.001], <None> [0.001], <None> [0.001], <None> [0.001], <None> [0.001], <None> [0.001], <None> [0.001], <None> [0.001], <None> [0.001], <None> [0.001], <None> [0.001], <None> [0.001], <None> [0.001], <None> [0.001], <None> [0.001], <None> [0.001], <None> [0.001], <None> [0.001], <None> [0.001], <None> [0.001], <None> [0.001], <startseq> [1.], <the> [1.], <lungs> [1.], <are> [1.], <clear> [1.], <.> [1.], <heart> [1.], <size> [1.], <is> [1.], <normal> [1.], <.> [1.], <no> [1.], <pneumothorax> [1.], <.> [1.], <there> [1.], <is> [1.], <a> [1.], <cardiac> [1.], <xxxx> [1.], <with> [1.] , \t next_word: leads\n",
      "--- 56 ---\n",
      "[1427_IM-0273-12012.dcm.png], input_seq: <None> [0.001], <None> [0.001], <None> [0.001], <None> [0.001], <None> [0.001], <None> [0.001], <None> [0.001], <None> [0.001], <None> [0.001], <None> [0.001], <None> [0.001], <None> [0.001], <None> [0.001], <None> [0.001], <None> [0.001], <None> [0.001], <None> [0.001], <None> [0.001], <None> [0.001], <None> [0.001], <None> [0.001], <None> [0.001], <None> [0.001], <None> [0.001], <None> [0.001], <None> [0.001], <None> [0.001], <None> [0.001], <None> [0.001], <None> [0.001], <None> [0.001], <None> [0.001], <None> [0.001], <None> [0.001], <None> [0.001], <None> [0.001], <None> [0.001], <None> [0.001], <None> [0.001], <startseq> [1.], <the> [1.], <lungs> [1.], <are> [1.], <clear> [1.], <.> [1.], <heart> [1.], <size> [1.], <is> [1.], <normal> [1.], <.> [1.], <no> [1.], <pneumothorax> [1.], <.> [1.], <there> [1.], <is> [1.], <a> [1.], <cardiac> [1.], <xxxx> [1.], <with> [1.], <leads> [1.] , \t next_word: terminating\n",
      "--- 57 ---\n",
      "[1427_IM-0273-12012.dcm.png], input_seq: <None> [0.001], <None> [0.001], <None> [0.001], <None> [0.001], <None> [0.001], <None> [0.001], <None> [0.001], <None> [0.001], <None> [0.001], <None> [0.001], <None> [0.001], <None> [0.001], <None> [0.001], <None> [0.001], <None> [0.001], <None> [0.001], <None> [0.001], <None> [0.001], <None> [0.001], <None> [0.001], <None> [0.001], <None> [0.001], <None> [0.001], <None> [0.001], <None> [0.001], <None> [0.001], <None> [0.001], <None> [0.001], <None> [0.001], <None> [0.001], <None> [0.001], <None> [0.001], <None> [0.001], <None> [0.001], <None> [0.001], <None> [0.001], <None> [0.001], <None> [0.001], <startseq> [1.], <the> [1.], <lungs> [1.], <are> [1.], <clear> [1.], <.> [1.], <heart> [1.], <size> [1.], <is> [1.], <normal> [1.], <.> [1.], <no> [1.], <pneumothorax> [1.], <.> [1.], <there> [1.], <is> [1.], <a> [1.], <cardiac> [1.], <xxxx> [1.], <with> [1.], <leads> [1.], <terminating> [1.] , \t next_word: in\n",
      "--- 58 ---\n",
      "[1427_IM-0273-12012.dcm.png], input_seq: <None> [0.001], <None> [0.001], <None> [0.001], <None> [0.001], <None> [0.001], <None> [0.001], <None> [0.001], <None> [0.001], <None> [0.001], <None> [0.001], <None> [0.001], <None> [0.001], <None> [0.001], <None> [0.001], <None> [0.001], <None> [0.001], <None> [0.001], <None> [0.001], <None> [0.001], <None> [0.001], <None> [0.001], <None> [0.001], <None> [0.001], <None> [0.001], <None> [0.001], <None> [0.001], <None> [0.001], <None> [0.001], <None> [0.001], <None> [0.001], <None> [0.001], <None> [0.001], <None> [0.001], <None> [0.001], <None> [0.001], <None> [0.001], <None> [0.001], <startseq> [1.], <the> [1.], <lungs> [1.], <are> [1.], <clear> [1.], <.> [1.], <heart> [1.], <size> [1.], <is> [1.], <normal> [1.], <.> [1.], <no> [1.], <pneumothorax> [1.], <.> [1.], <there> [1.], <is> [1.], <a> [1.], <cardiac> [1.], <xxxx> [1.], <with> [1.], <leads> [1.], <terminating> [1.], <in> [1.] , \t next_word: the\n",
      "--- 59 ---\n",
      "[1427_IM-0273-12012.dcm.png], input_seq: <None> [0.001], <None> [0.001], <None> [0.001], <None> [0.001], <None> [0.001], <None> [0.001], <None> [0.001], <None> [0.001], <None> [0.001], <None> [0.001], <None> [0.001], <None> [0.001], <None> [0.001], <None> [0.001], <None> [0.001], <None> [0.001], <None> [0.001], <None> [0.001], <None> [0.001], <None> [0.001], <None> [0.001], <None> [0.001], <None> [0.001], <None> [0.001], <None> [0.001], <None> [0.001], <None> [0.001], <None> [0.001], <None> [0.001], <None> [0.001], <None> [0.001], <None> [0.001], <None> [0.001], <None> [0.001], <None> [0.001], <None> [0.001], <startseq> [1.], <the> [1.], <lungs> [1.], <are> [1.], <clear> [1.], <.> [1.], <heart> [1.], <size> [1.], <is> [1.], <normal> [1.], <.> [1.], <no> [1.], <pneumothorax> [1.], <.> [1.], <there> [1.], <is> [1.], <a> [1.], <cardiac> [1.], <xxxx> [1.], <with> [1.], <leads> [1.], <terminating> [1.], <in> [1.], <the> [1.] , \t next_word: right\n",
      "--- 60 ---\n",
      "[1427_IM-0273-12012.dcm.png], input_seq: <None> [0.001], <None> [0.001], <None> [0.001], <None> [0.001], <None> [0.001], <None> [0.001], <None> [0.001], <None> [0.001], <None> [0.001], <None> [0.001], <None> [0.001], <None> [0.001], <None> [0.001], <None> [0.001], <None> [0.001], <None> [0.001], <None> [0.001], <None> [0.001], <None> [0.001], <None> [0.001], <None> [0.001], <None> [0.001], <None> [0.001], <None> [0.001], <None> [0.001], <None> [0.001], <None> [0.001], <None> [0.001], <None> [0.001], <None> [0.001], <None> [0.001], <None> [0.001], <None> [0.001], <None> [0.001], <None> [0.001], <startseq> [1.], <the> [1.], <lungs> [1.], <are> [1.], <clear> [1.], <.> [1.], <heart> [1.], <size> [1.], <is> [1.], <normal> [1.], <.> [1.], <no> [1.], <pneumothorax> [1.], <.> [1.], <there> [1.], <is> [1.], <a> [1.], <cardiac> [1.], <xxxx> [1.], <with> [1.], <leads> [1.], <terminating> [1.], <in> [1.], <the> [1.], <right> [1.] , \t next_word: atrium\n",
      "--- 61 ---\n",
      "[1427_IM-0273-12012.dcm.png], input_seq: <None> [0.001], <None> [0.001], <None> [0.001], <None> [0.001], <None> [0.001], <None> [0.001], <None> [0.001], <None> [0.001], <None> [0.001], <None> [0.001], <None> [0.001], <None> [0.001], <None> [0.001], <None> [0.001], <None> [0.001], <None> [0.001], <None> [0.001], <None> [0.001], <None> [0.001], <None> [0.001], <None> [0.001], <None> [0.001], <None> [0.001], <None> [0.001], <None> [0.001], <None> [0.001], <None> [0.001], <None> [0.001], <None> [0.001], <None> [0.001], <None> [0.001], <None> [0.001], <None> [0.001], <None> [0.001], <startseq> [1.], <the> [1.], <lungs> [1.], <are> [1.], <clear> [1.], <.> [1.], <heart> [1.], <size> [1.], <is> [1.], <normal> [1.], <.> [1.], <no> [1.], <pneumothorax> [1.], <.> [1.], <there> [1.], <is> [1.], <a> [1.], <cardiac> [1.], <xxxx> [1.], <with> [1.], <leads> [1.], <terminating> [1.], <in> [1.], <the> [1.], <right> [1.], <atrium> [1.] , \t next_word: and\n",
      "--- 62 ---\n",
      "[1427_IM-0273-12012.dcm.png], input_seq: <None> [0.001], <None> [0.001], <None> [0.001], <None> [0.001], <None> [0.001], <None> [0.001], <None> [0.001], <None> [0.001], <None> [0.001], <None> [0.001], <None> [0.001], <None> [0.001], <None> [0.001], <None> [0.001], <None> [0.001], <None> [0.001], <None> [0.001], <None> [0.001], <None> [0.001], <None> [0.001], <None> [0.001], <None> [0.001], <None> [0.001], <None> [0.001], <None> [0.001], <None> [0.001], <None> [0.001], <None> [0.001], <None> [0.001], <None> [0.001], <None> [0.001], <None> [0.001], <None> [0.001], <startseq> [1.], <the> [1.], <lungs> [1.], <are> [1.], <clear> [1.], <.> [1.], <heart> [1.], <size> [1.], <is> [1.], <normal> [1.], <.> [1.], <no> [1.], <pneumothorax> [1.], <.> [1.], <there> [1.], <is> [1.], <a> [1.], <cardiac> [1.], <xxxx> [1.], <with> [1.], <leads> [1.], <terminating> [1.], <in> [1.], <the> [1.], <right> [1.], <atrium> [1.], <and> [1.] , \t next_word: right\n",
      "--- 63 ---\n",
      "[1427_IM-0273-12012.dcm.png], input_seq: <None> [0.001], <None> [0.001], <None> [0.001], <None> [0.001], <None> [0.001], <None> [0.001], <None> [0.001], <None> [0.001], <None> [0.001], <None> [0.001], <None> [0.001], <None> [0.001], <None> [0.001], <None> [0.001], <None> [0.001], <None> [0.001], <None> [0.001], <None> [0.001], <None> [0.001], <None> [0.001], <None> [0.001], <None> [0.001], <None> [0.001], <None> [0.001], <None> [0.001], <None> [0.001], <None> [0.001], <None> [0.001], <None> [0.001], <None> [0.001], <None> [0.001], <None> [0.001], <startseq> [1.], <the> [1.], <lungs> [1.], <are> [1.], <clear> [1.], <.> [1.], <heart> [1.], <size> [1.], <is> [1.], <normal> [1.], <.> [1.], <no> [1.], <pneumothorax> [1.], <.> [1.], <there> [1.], <is> [1.], <a> [1.], <cardiac> [1.], <xxxx> [1.], <with> [1.], <leads> [1.], <terminating> [1.], <in> [1.], <the> [1.], <right> [1.], <atrium> [1.], <and> [1.], <right> [1.] , \t next_word: ventricle\n",
      "--- 64 ---\n",
      "[1427_IM-0273-12012.dcm.png], input_seq: <None> [0.001], <None> [0.001], <None> [0.001], <None> [0.001], <None> [0.001], <None> [0.001], <None> [0.001], <None> [0.001], <None> [0.001], <None> [0.001], <None> [0.001], <None> [0.001], <None> [0.001], <None> [0.001], <None> [0.001], <None> [0.001], <None> [0.001], <None> [0.001], <None> [0.001], <None> [0.001], <None> [0.001], <None> [0.001], <None> [0.001], <None> [0.001], <None> [0.001], <None> [0.001], <None> [0.001], <None> [0.001], <None> [0.001], <None> [0.001], <None> [0.001], <startseq> [1.], <the> [1.], <lungs> [1.], <are> [1.], <clear> [1.], <.> [1.], <heart> [1.], <size> [1.], <is> [1.], <normal> [1.], <.> [1.], <no> [1.], <pneumothorax> [1.], <.> [1.], <there> [1.], <is> [1.], <a> [1.], <cardiac> [1.], <xxxx> [1.], <with> [1.], <leads> [1.], <terminating> [1.], <in> [1.], <the> [1.], <right> [1.], <atrium> [1.], <and> [1.], <right> [1.], <ventricle> [1.] , \t next_word: .\n",
      "--- 65 ---\n",
      "[1427_IM-0273-12012.dcm.png], input_seq: <None> [0.001], <None> [0.001], <None> [0.001], <None> [0.001], <None> [0.001], <None> [0.001], <None> [0.001], <None> [0.001], <None> [0.001], <None> [0.001], <None> [0.001], <None> [0.001], <None> [0.001], <None> [0.001], <None> [0.001], <None> [0.001], <None> [0.001], <None> [0.001], <None> [0.001], <None> [0.001], <None> [0.001], <None> [0.001], <None> [0.001], <None> [0.001], <None> [0.001], <None> [0.001], <None> [0.001], <None> [0.001], <None> [0.001], <None> [0.001], <startseq> [1.], <the> [1.], <lungs> [1.], <are> [1.], <clear> [1.], <.> [1.], <heart> [1.], <size> [1.], <is> [1.], <normal> [1.], <.> [1.], <no> [1.], <pneumothorax> [1.], <.> [1.], <there> [1.], <is> [1.], <a> [1.], <cardiac> [1.], <xxxx> [1.], <with> [1.], <leads> [1.], <terminating> [1.], <in> [1.], <the> [1.], <right> [1.], <atrium> [1.], <and> [1.], <right> [1.], <ventricle> [1.], <.> [1.] , \t next_word: there\n",
      "--- 66 ---\n",
      "[1427_IM-0273-12012.dcm.png], input_seq: <None> [0.001], <None> [0.001], <None> [0.001], <None> [0.001], <None> [0.001], <None> [0.001], <None> [0.001], <None> [0.001], <None> [0.001], <None> [0.001], <None> [0.001], <None> [0.001], <None> [0.001], <None> [0.001], <None> [0.001], <None> [0.001], <None> [0.001], <None> [0.001], <None> [0.001], <None> [0.001], <None> [0.001], <None> [0.001], <None> [0.001], <None> [0.001], <None> [0.001], <None> [0.001], <None> [0.001], <None> [0.001], <None> [0.001], <startseq> [1.], <the> [1.], <lungs> [1.], <are> [1.], <clear> [1.], <.> [1.], <heart> [1.], <size> [1.], <is> [1.], <normal> [1.], <.> [1.], <no> [1.], <pneumothorax> [1.], <.> [1.], <there> [1.], <is> [1.], <a> [1.], <cardiac> [1.], <xxxx> [1.], <with> [1.], <leads> [1.], <terminating> [1.], <in> [1.], <the> [1.], <right> [1.], <atrium> [1.], <and> [1.], <right> [1.], <ventricle> [1.], <.> [1.], <there> [1.] , \t next_word: are\n",
      "--- 67 ---\n",
      "[1427_IM-0273-12012.dcm.png], input_seq: <None> [0.001], <None> [0.001], <None> [0.001], <None> [0.001], <None> [0.001], <None> [0.001], <None> [0.001], <None> [0.001], <None> [0.001], <None> [0.001], <None> [0.001], <None> [0.001], <None> [0.001], <None> [0.001], <None> [0.001], <None> [0.001], <None> [0.001], <None> [0.001], <None> [0.001], <None> [0.001], <None> [0.001], <None> [0.001], <None> [0.001], <None> [0.001], <None> [0.001], <None> [0.001], <None> [0.001], <None> [0.001], <startseq> [1.], <the> [1.], <lungs> [1.], <are> [1.], <clear> [1.], <.> [1.], <heart> [1.], <size> [1.], <is> [1.], <normal> [1.], <.> [1.], <no> [1.], <pneumothorax> [1.], <.> [1.], <there> [1.], <is> [1.], <a> [1.], <cardiac> [1.], <xxxx> [1.], <with> [1.], <leads> [1.], <terminating> [1.], <in> [1.], <the> [1.], <right> [1.], <atrium> [1.], <and> [1.], <right> [1.], <ventricle> [1.], <.> [1.], <there> [1.], <are> [1.] , \t next_word: atherosclerotic\n",
      "--- 68 ---\n",
      "[1427_IM-0273-12012.dcm.png], input_seq: <None> [0.001], <None> [0.001], <None> [0.001], <None> [0.001], <None> [0.001], <None> [0.001], <None> [0.001], <None> [0.001], <None> [0.001], <None> [0.001], <None> [0.001], <None> [0.001], <None> [0.001], <None> [0.001], <None> [0.001], <None> [0.001], <None> [0.001], <None> [0.001], <None> [0.001], <None> [0.001], <None> [0.001], <None> [0.001], <None> [0.001], <None> [0.001], <None> [0.001], <None> [0.001], <None> [0.001], <startseq> [1.], <the> [1.], <lungs> [1.], <are> [1.], <clear> [1.], <.> [1.], <heart> [1.], <size> [1.], <is> [1.], <normal> [1.], <.> [1.], <no> [1.], <pneumothorax> [1.], <.> [1.], <there> [1.], <is> [1.], <a> [1.], <cardiac> [1.], <xxxx> [1.], <with> [1.], <leads> [1.], <terminating> [1.], <in> [1.], <the> [1.], <right> [1.], <atrium> [1.], <and> [1.], <right> [1.], <ventricle> [1.], <.> [1.], <there> [1.], <are> [1.], <atherosclerotic> [1.] , \t next_word: calcifications\n",
      "--- 69 ---\n",
      "[1427_IM-0273-12012.dcm.png], input_seq: <None> [0.001], <None> [0.001], <None> [0.001], <None> [0.001], <None> [0.001], <None> [0.001], <None> [0.001], <None> [0.001], <None> [0.001], <None> [0.001], <None> [0.001], <None> [0.001], <None> [0.001], <None> [0.001], <None> [0.001], <None> [0.001], <None> [0.001], <None> [0.001], <None> [0.001], <None> [0.001], <None> [0.001], <None> [0.001], <None> [0.001], <None> [0.001], <None> [0.001], <None> [0.001], <startseq> [1.], <the> [1.], <lungs> [1.], <are> [1.], <clear> [1.], <.> [1.], <heart> [1.], <size> [1.], <is> [1.], <normal> [1.], <.> [1.], <no> [1.], <pneumothorax> [1.], <.> [1.], <there> [1.], <is> [1.], <a> [1.], <cardiac> [1.], <xxxx> [1.], <with> [1.], <leads> [1.], <terminating> [1.], <in> [1.], <the> [1.], <right> [1.], <atrium> [1.], <and> [1.], <right> [1.], <ventricle> [1.], <.> [1.], <there> [1.], <are> [1.], <atherosclerotic> [1.], <calcifications> [1.] , \t next_word: .\n",
      "--- 70 ---\n",
      "[1427_IM-0273-12012.dcm.png], input_seq: <None> [0.001], <None> [0.001], <None> [0.001], <None> [0.001], <None> [0.001], <None> [0.001], <None> [0.001], <None> [0.001], <None> [0.001], <None> [0.001], <None> [0.001], <None> [0.001], <None> [0.001], <None> [0.001], <None> [0.001], <None> [0.001], <None> [0.001], <None> [0.001], <None> [0.001], <None> [0.001], <None> [0.001], <None> [0.001], <None> [0.001], <None> [0.001], <None> [0.001], <startseq> [1.], <the> [1.], <lungs> [1.], <are> [1.], <clear> [1.], <.> [1.], <heart> [1.], <size> [1.], <is> [1.], <normal> [1.], <.> [1.], <no> [1.], <pneumothorax> [1.], <.> [1.], <there> [1.], <is> [1.], <a> [1.], <cardiac> [1.], <xxxx> [1.], <with> [1.], <leads> [1.], <terminating> [1.], <in> [1.], <the> [1.], <right> [1.], <atrium> [1.], <and> [1.], <right> [1.], <ventricle> [1.], <.> [1.], <there> [1.], <are> [1.], <atherosclerotic> [1.], <calcifications> [1.], <.> [1.] , \t next_word: endseq\n",
      "--- 71 ---\n",
      "[3262_IM-1548-3001.dcm.png], input_seq: <None> [0.001], <None> [0.001], <None> [0.001], <None> [0.001], <None> [0.001], <None> [0.001], <None> [0.001], <None> [0.001], <None> [0.001], <None> [0.001], <None> [0.001], <None> [0.001], <None> [0.001], <None> [0.001], <None> [0.001], <None> [0.001], <None> [0.001], <None> [0.001], <None> [0.001], <None> [0.001], <None> [0.001], <None> [0.001], <None> [0.001], <None> [0.001], <None> [0.001], <None> [0.001], <None> [0.001], <None> [0.001], <None> [0.001], <None> [0.001], <None> [0.001], <None> [0.001], <None> [0.001], <None> [0.001], <None> [0.001], <None> [0.001], <None> [0.001], <None> [0.001], <None> [0.001], <None> [0.001], <None> [0.001], <None> [0.001], <None> [0.001], <None> [0.001], <None> [0.001], <None> [0.001], <None> [0.001], <None> [0.001], <None> [0.001], <None> [0.001], <None> [0.001], <None> [0.001], <None> [0.001], <None> [0.001], <None> [0.001], <None> [0.001], <None> [0.001], <None> [0.001], <None> [0.001], <startseq> [1.] , \t next_word: the\n",
      "--- 72 ---\n",
      "[3262_IM-1548-3001.dcm.png], input_seq: <None> [0.001], <None> [0.001], <None> [0.001], <None> [0.001], <None> [0.001], <None> [0.001], <None> [0.001], <None> [0.001], <None> [0.001], <None> [0.001], <None> [0.001], <None> [0.001], <None> [0.001], <None> [0.001], <None> [0.001], <None> [0.001], <None> [0.001], <None> [0.001], <None> [0.001], <None> [0.001], <None> [0.001], <None> [0.001], <None> [0.001], <None> [0.001], <None> [0.001], <None> [0.001], <None> [0.001], <None> [0.001], <None> [0.001], <None> [0.001], <None> [0.001], <None> [0.001], <None> [0.001], <None> [0.001], <None> [0.001], <None> [0.001], <None> [0.001], <None> [0.001], <None> [0.001], <None> [0.001], <None> [0.001], <None> [0.001], <None> [0.001], <None> [0.001], <None> [0.001], <None> [0.001], <None> [0.001], <None> [0.001], <None> [0.001], <None> [0.001], <None> [0.001], <None> [0.001], <None> [0.001], <None> [0.001], <None> [0.001], <None> [0.001], <None> [0.001], <None> [0.001], <startseq> [1.], <the> [1.] , \t next_word: cardiomediastinal\n",
      "--- 73 ---\n",
      "[3262_IM-1548-3001.dcm.png], input_seq: <None> [0.001], <None> [0.001], <None> [0.001], <None> [0.001], <None> [0.001], <None> [0.001], <None> [0.001], <None> [0.001], <None> [0.001], <None> [0.001], <None> [0.001], <None> [0.001], <None> [0.001], <None> [0.001], <None> [0.001], <None> [0.001], <None> [0.001], <None> [0.001], <None> [0.001], <None> [0.001], <None> [0.001], <None> [0.001], <None> [0.001], <None> [0.001], <None> [0.001], <None> [0.001], <None> [0.001], <None> [0.001], <None> [0.001], <None> [0.001], <None> [0.001], <None> [0.001], <None> [0.001], <None> [0.001], <None> [0.001], <None> [0.001], <None> [0.001], <None> [0.001], <None> [0.001], <None> [0.001], <None> [0.001], <None> [0.001], <None> [0.001], <None> [0.001], <None> [0.001], <None> [0.001], <None> [0.001], <None> [0.001], <None> [0.001], <None> [0.001], <None> [0.001], <None> [0.001], <None> [0.001], <None> [0.001], <None> [0.001], <None> [0.001], <None> [0.001], <startseq> [1.], <the> [1.], <cardiomediastinal> [1.] , \t next_word: silhouette\n",
      "--- 74 ---\n",
      "[3262_IM-1548-3001.dcm.png], input_seq: <None> [0.001], <None> [0.001], <None> [0.001], <None> [0.001], <None> [0.001], <None> [0.001], <None> [0.001], <None> [0.001], <None> [0.001], <None> [0.001], <None> [0.001], <None> [0.001], <None> [0.001], <None> [0.001], <None> [0.001], <None> [0.001], <None> [0.001], <None> [0.001], <None> [0.001], <None> [0.001], <None> [0.001], <None> [0.001], <None> [0.001], <None> [0.001], <None> [0.001], <None> [0.001], <None> [0.001], <None> [0.001], <None> [0.001], <None> [0.001], <None> [0.001], <None> [0.001], <None> [0.001], <None> [0.001], <None> [0.001], <None> [0.001], <None> [0.001], <None> [0.001], <None> [0.001], <None> [0.001], <None> [0.001], <None> [0.001], <None> [0.001], <None> [0.001], <None> [0.001], <None> [0.001], <None> [0.001], <None> [0.001], <None> [0.001], <None> [0.001], <None> [0.001], <None> [0.001], <None> [0.001], <None> [0.001], <None> [0.001], <None> [0.001], <startseq> [1.], <the> [1.], <cardiomediastinal> [1.], <silhouette> [1.] , \t next_word: is\n",
      "--- 75 ---\n",
      "[3262_IM-1548-3001.dcm.png], input_seq: <None> [0.001], <None> [0.001], <None> [0.001], <None> [0.001], <None> [0.001], <None> [0.001], <None> [0.001], <None> [0.001], <None> [0.001], <None> [0.001], <None> [0.001], <None> [0.001], <None> [0.001], <None> [0.001], <None> [0.001], <None> [0.001], <None> [0.001], <None> [0.001], <None> [0.001], <None> [0.001], <None> [0.001], <None> [0.001], <None> [0.001], <None> [0.001], <None> [0.001], <None> [0.001], <None> [0.001], <None> [0.001], <None> [0.001], <None> [0.001], <None> [0.001], <None> [0.001], <None> [0.001], <None> [0.001], <None> [0.001], <None> [0.001], <None> [0.001], <None> [0.001], <None> [0.001], <None> [0.001], <None> [0.001], <None> [0.001], <None> [0.001], <None> [0.001], <None> [0.001], <None> [0.001], <None> [0.001], <None> [0.001], <None> [0.001], <None> [0.001], <None> [0.001], <None> [0.001], <None> [0.001], <None> [0.001], <None> [0.001], <startseq> [1.], <the> [1.], <cardiomediastinal> [1.], <silhouette> [1.], <is> [1.] , \t next_word: within\n",
      "--- 76 ---\n",
      "[3262_IM-1548-3001.dcm.png], input_seq: <None> [0.001], <None> [0.001], <None> [0.001], <None> [0.001], <None> [0.001], <None> [0.001], <None> [0.001], <None> [0.001], <None> [0.001], <None> [0.001], <None> [0.001], <None> [0.001], <None> [0.001], <None> [0.001], <None> [0.001], <None> [0.001], <None> [0.001], <None> [0.001], <None> [0.001], <None> [0.001], <None> [0.001], <None> [0.001], <None> [0.001], <None> [0.001], <None> [0.001], <None> [0.001], <None> [0.001], <None> [0.001], <None> [0.001], <None> [0.001], <None> [0.001], <None> [0.001], <None> [0.001], <None> [0.001], <None> [0.001], <None> [0.001], <None> [0.001], <None> [0.001], <None> [0.001], <None> [0.001], <None> [0.001], <None> [0.001], <None> [0.001], <None> [0.001], <None> [0.001], <None> [0.001], <None> [0.001], <None> [0.001], <None> [0.001], <None> [0.001], <None> [0.001], <None> [0.001], <None> [0.001], <None> [0.001], <startseq> [1.], <the> [1.], <cardiomediastinal> [1.], <silhouette> [1.], <is> [1.], <within> [1.] , \t next_word: normal\n",
      "--- 77 ---\n",
      "[3262_IM-1548-3001.dcm.png], input_seq: <None> [0.001], <None> [0.001], <None> [0.001], <None> [0.001], <None> [0.001], <None> [0.001], <None> [0.001], <None> [0.001], <None> [0.001], <None> [0.001], <None> [0.001], <None> [0.001], <None> [0.001], <None> [0.001], <None> [0.001], <None> [0.001], <None> [0.001], <None> [0.001], <None> [0.001], <None> [0.001], <None> [0.001], <None> [0.001], <None> [0.001], <None> [0.001], <None> [0.001], <None> [0.001], <None> [0.001], <None> [0.001], <None> [0.001], <None> [0.001], <None> [0.001], <None> [0.001], <None> [0.001], <None> [0.001], <None> [0.001], <None> [0.001], <None> [0.001], <None> [0.001], <None> [0.001], <None> [0.001], <None> [0.001], <None> [0.001], <None> [0.001], <None> [0.001], <None> [0.001], <None> [0.001], <None> [0.001], <None> [0.001], <None> [0.001], <None> [0.001], <None> [0.001], <None> [0.001], <None> [0.001], <startseq> [1.], <the> [1.], <cardiomediastinal> [1.], <silhouette> [1.], <is> [1.], <within> [1.], <normal> [1.] , \t next_word: limits\n",
      "--- 78 ---\n",
      "[3262_IM-1548-3001.dcm.png], input_seq: <None> [0.001], <None> [0.001], <None> [0.001], <None> [0.001], <None> [0.001], <None> [0.001], <None> [0.001], <None> [0.001], <None> [0.001], <None> [0.001], <None> [0.001], <None> [0.001], <None> [0.001], <None> [0.001], <None> [0.001], <None> [0.001], <None> [0.001], <None> [0.001], <None> [0.001], <None> [0.001], <None> [0.001], <None> [0.001], <None> [0.001], <None> [0.001], <None> [0.001], <None> [0.001], <None> [0.001], <None> [0.001], <None> [0.001], <None> [0.001], <None> [0.001], <None> [0.001], <None> [0.001], <None> [0.001], <None> [0.001], <None> [0.001], <None> [0.001], <None> [0.001], <None> [0.001], <None> [0.001], <None> [0.001], <None> [0.001], <None> [0.001], <None> [0.001], <None> [0.001], <None> [0.001], <None> [0.001], <None> [0.001], <None> [0.001], <None> [0.001], <None> [0.001], <None> [0.001], <startseq> [1.], <the> [1.], <cardiomediastinal> [1.], <silhouette> [1.], <is> [1.], <within> [1.], <normal> [1.], <limits> [1.] , \t next_word: .\n",
      "--- 79 ---\n",
      "[3262_IM-1548-3001.dcm.png], input_seq: <None> [0.001], <None> [0.001], <None> [0.001], <None> [0.001], <None> [0.001], <None> [0.001], <None> [0.001], <None> [0.001], <None> [0.001], <None> [0.001], <None> [0.001], <None> [0.001], <None> [0.001], <None> [0.001], <None> [0.001], <None> [0.001], <None> [0.001], <None> [0.001], <None> [0.001], <None> [0.001], <None> [0.001], <None> [0.001], <None> [0.001], <None> [0.001], <None> [0.001], <None> [0.001], <None> [0.001], <None> [0.001], <None> [0.001], <None> [0.001], <None> [0.001], <None> [0.001], <None> [0.001], <None> [0.001], <None> [0.001], <None> [0.001], <None> [0.001], <None> [0.001], <None> [0.001], <None> [0.001], <None> [0.001], <None> [0.001], <None> [0.001], <None> [0.001], <None> [0.001], <None> [0.001], <None> [0.001], <None> [0.001], <None> [0.001], <None> [0.001], <None> [0.001], <startseq> [1.], <the> [1.], <cardiomediastinal> [1.], <silhouette> [1.], <is> [1.], <within> [1.], <normal> [1.], <limits> [1.], <.> [1.] , \t next_word: lungs\n",
      "--- 80 ---\n",
      "[3262_IM-1548-3001.dcm.png], input_seq: <None> [0.001], <None> [0.001], <None> [0.001], <None> [0.001], <None> [0.001], <None> [0.001], <None> [0.001], <None> [0.001], <None> [0.001], <None> [0.001], <None> [0.001], <None> [0.001], <None> [0.001], <None> [0.001], <None> [0.001], <None> [0.001], <None> [0.001], <None> [0.001], <None> [0.001], <None> [0.001], <None> [0.001], <None> [0.001], <None> [0.001], <None> [0.001], <None> [0.001], <None> [0.001], <None> [0.001], <None> [0.001], <None> [0.001], <None> [0.001], <None> [0.001], <None> [0.001], <None> [0.001], <None> [0.001], <None> [0.001], <None> [0.001], <None> [0.001], <None> [0.001], <None> [0.001], <None> [0.001], <None> [0.001], <None> [0.001], <None> [0.001], <None> [0.001], <None> [0.001], <None> [0.001], <None> [0.001], <None> [0.001], <None> [0.001], <None> [0.001], <startseq> [1.], <the> [1.], <cardiomediastinal> [1.], <silhouette> [1.], <is> [1.], <within> [1.], <normal> [1.], <limits> [1.], <.> [1.], <lungs> [1.] , \t next_word: are\n",
      "--- 81 ---\n",
      "[3262_IM-1548-3001.dcm.png], input_seq: <None> [0.001], <None> [0.001], <None> [0.001], <None> [0.001], <None> [0.001], <None> [0.001], <None> [0.001], <None> [0.001], <None> [0.001], <None> [0.001], <None> [0.001], <None> [0.001], <None> [0.001], <None> [0.001], <None> [0.001], <None> [0.001], <None> [0.001], <None> [0.001], <None> [0.001], <None> [0.001], <None> [0.001], <None> [0.001], <None> [0.001], <None> [0.001], <None> [0.001], <None> [0.001], <None> [0.001], <None> [0.001], <None> [0.001], <None> [0.001], <None> [0.001], <None> [0.001], <None> [0.001], <None> [0.001], <None> [0.001], <None> [0.001], <None> [0.001], <None> [0.001], <None> [0.001], <None> [0.001], <None> [0.001], <None> [0.001], <None> [0.001], <None> [0.001], <None> [0.001], <None> [0.001], <None> [0.001], <None> [0.001], <None> [0.001], <startseq> [1.], <the> [1.], <cardiomediastinal> [1.], <silhouette> [1.], <is> [1.], <within> [1.], <normal> [1.], <limits> [1.], <.> [1.], <lungs> [1.], <are> [1.] , \t next_word: clear\n",
      "--- 82 ---\n",
      "[3262_IM-1548-3001.dcm.png], input_seq: <None> [0.001], <None> [0.001], <None> [0.001], <None> [0.001], <None> [0.001], <None> [0.001], <None> [0.001], <None> [0.001], <None> [0.001], <None> [0.001], <None> [0.001], <None> [0.001], <None> [0.001], <None> [0.001], <None> [0.001], <None> [0.001], <None> [0.001], <None> [0.001], <None> [0.001], <None> [0.001], <None> [0.001], <None> [0.001], <None> [0.001], <None> [0.001], <None> [0.001], <None> [0.001], <None> [0.001], <None> [0.001], <None> [0.001], <None> [0.001], <None> [0.001], <None> [0.001], <None> [0.001], <None> [0.001], <None> [0.001], <None> [0.001], <None> [0.001], <None> [0.001], <None> [0.001], <None> [0.001], <None> [0.001], <None> [0.001], <None> [0.001], <None> [0.001], <None> [0.001], <None> [0.001], <None> [0.001], <None> [0.001], <startseq> [1.], <the> [1.], <cardiomediastinal> [1.], <silhouette> [1.], <is> [1.], <within> [1.], <normal> [1.], <limits> [1.], <.> [1.], <lungs> [1.], <are> [1.], <clear> [1.] , \t next_word: without\n",
      "--- 83 ---\n",
      "[3262_IM-1548-3001.dcm.png], input_seq: <None> [0.001], <None> [0.001], <None> [0.001], <None> [0.001], <None> [0.001], <None> [0.001], <None> [0.001], <None> [0.001], <None> [0.001], <None> [0.001], <None> [0.001], <None> [0.001], <None> [0.001], <None> [0.001], <None> [0.001], <None> [0.001], <None> [0.001], <None> [0.001], <None> [0.001], <None> [0.001], <None> [0.001], <None> [0.001], <None> [0.001], <None> [0.001], <None> [0.001], <None> [0.001], <None> [0.001], <None> [0.001], <None> [0.001], <None> [0.001], <None> [0.001], <None> [0.001], <None> [0.001], <None> [0.001], <None> [0.001], <None> [0.001], <None> [0.001], <None> [0.001], <None> [0.001], <None> [0.001], <None> [0.001], <None> [0.001], <None> [0.001], <None> [0.001], <None> [0.001], <None> [0.001], <None> [0.001], <startseq> [1.], <the> [1.], <cardiomediastinal> [1.], <silhouette> [1.], <is> [1.], <within> [1.], <normal> [1.], <limits> [1.], <.> [1.], <lungs> [1.], <are> [1.], <clear> [1.], <without> [1.] , \t next_word: focal\n",
      "--- 84 ---\n",
      "[3262_IM-1548-3001.dcm.png], input_seq: <None> [0.001], <None> [0.001], <None> [0.001], <None> [0.001], <None> [0.001], <None> [0.001], <None> [0.001], <None> [0.001], <None> [0.001], <None> [0.001], <None> [0.001], <None> [0.001], <None> [0.001], <None> [0.001], <None> [0.001], <None> [0.001], <None> [0.001], <None> [0.001], <None> [0.001], <None> [0.001], <None> [0.001], <None> [0.001], <None> [0.001], <None> [0.001], <None> [0.001], <None> [0.001], <None> [0.001], <None> [0.001], <None> [0.001], <None> [0.001], <None> [0.001], <None> [0.001], <None> [0.001], <None> [0.001], <None> [0.001], <None> [0.001], <None> [0.001], <None> [0.001], <None> [0.001], <None> [0.001], <None> [0.001], <None> [0.001], <None> [0.001], <None> [0.001], <None> [0.001], <None> [0.001], <startseq> [1.], <the> [1.], <cardiomediastinal> [1.], <silhouette> [1.], <is> [1.], <within> [1.], <normal> [1.], <limits> [1.], <.> [1.], <lungs> [1.], <are> [1.], <clear> [1.], <without> [1.], <focal> [1.] , \t next_word: consolidation\n",
      "--- 85 ---\n",
      "[3262_IM-1548-3001.dcm.png], input_seq: <None> [0.001], <None> [0.001], <None> [0.001], <None> [0.001], <None> [0.001], <None> [0.001], <None> [0.001], <None> [0.001], <None> [0.001], <None> [0.001], <None> [0.001], <None> [0.001], <None> [0.001], <None> [0.001], <None> [0.001], <None> [0.001], <None> [0.001], <None> [0.001], <None> [0.001], <None> [0.001], <None> [0.001], <None> [0.001], <None> [0.001], <None> [0.001], <None> [0.001], <None> [0.001], <None> [0.001], <None> [0.001], <None> [0.001], <None> [0.001], <None> [0.001], <None> [0.001], <None> [0.001], <None> [0.001], <None> [0.001], <None> [0.001], <None> [0.001], <None> [0.001], <None> [0.001], <None> [0.001], <None> [0.001], <None> [0.001], <None> [0.001], <None> [0.001], <None> [0.001], <startseq> [1.], <the> [1.], <cardiomediastinal> [1.], <silhouette> [1.], <is> [1.], <within> [1.], <normal> [1.], <limits> [1.], <.> [1.], <lungs> [1.], <are> [1.], <clear> [1.], <without> [1.], <focal> [1.], <consolidation> [1.] , \t next_word: .\n",
      "--- 86 ---\n",
      "[3262_IM-1548-3001.dcm.png], input_seq: <None> [0.001], <None> [0.001], <None> [0.001], <None> [0.001], <None> [0.001], <None> [0.001], <None> [0.001], <None> [0.001], <None> [0.001], <None> [0.001], <None> [0.001], <None> [0.001], <None> [0.001], <None> [0.001], <None> [0.001], <None> [0.001], <None> [0.001], <None> [0.001], <None> [0.001], <None> [0.001], <None> [0.001], <None> [0.001], <None> [0.001], <None> [0.001], <None> [0.001], <None> [0.001], <None> [0.001], <None> [0.001], <None> [0.001], <None> [0.001], <None> [0.001], <None> [0.001], <None> [0.001], <None> [0.001], <None> [0.001], <None> [0.001], <None> [0.001], <None> [0.001], <None> [0.001], <None> [0.001], <None> [0.001], <None> [0.001], <None> [0.001], <None> [0.001], <startseq> [1.], <the> [1.], <cardiomediastinal> [1.], <silhouette> [1.], <is> [1.], <within> [1.], <normal> [1.], <limits> [1.], <.> [1.], <lungs> [1.], <are> [1.], <clear> [1.], <without> [1.], <focal> [1.], <consolidation> [1.], <.> [1.] , \t next_word: no\n",
      "--- 87 ---\n",
      "[3262_IM-1548-3001.dcm.png], input_seq: <None> [0.001], <None> [0.001], <None> [0.001], <None> [0.001], <None> [0.001], <None> [0.001], <None> [0.001], <None> [0.001], <None> [0.001], <None> [0.001], <None> [0.001], <None> [0.001], <None> [0.001], <None> [0.001], <None> [0.001], <None> [0.001], <None> [0.001], <None> [0.001], <None> [0.001], <None> [0.001], <None> [0.001], <None> [0.001], <None> [0.001], <None> [0.001], <None> [0.001], <None> [0.001], <None> [0.001], <None> [0.001], <None> [0.001], <None> [0.001], <None> [0.001], <None> [0.001], <None> [0.001], <None> [0.001], <None> [0.001], <None> [0.001], <None> [0.001], <None> [0.001], <None> [0.001], <None> [0.001], <None> [0.001], <None> [0.001], <None> [0.001], <startseq> [1.], <the> [1.], <cardiomediastinal> [1.], <silhouette> [1.], <is> [1.], <within> [1.], <normal> [1.], <limits> [1.], <.> [1.], <lungs> [1.], <are> [1.], <clear> [1.], <without> [1.], <focal> [1.], <consolidation> [1.], <.> [1.], <no> [1.] , \t next_word: pneumothorax\n",
      "--- 88 ---\n",
      "[3262_IM-1548-3001.dcm.png], input_seq: <None> [0.001], <None> [0.001], <None> [0.001], <None> [0.001], <None> [0.001], <None> [0.001], <None> [0.001], <None> [0.001], <None> [0.001], <None> [0.001], <None> [0.001], <None> [0.001], <None> [0.001], <None> [0.001], <None> [0.001], <None> [0.001], <None> [0.001], <None> [0.001], <None> [0.001], <None> [0.001], <None> [0.001], <None> [0.001], <None> [0.001], <None> [0.001], <None> [0.001], <None> [0.001], <None> [0.001], <None> [0.001], <None> [0.001], <None> [0.001], <None> [0.001], <None> [0.001], <None> [0.001], <None> [0.001], <None> [0.001], <None> [0.001], <None> [0.001], <None> [0.001], <None> [0.001], <None> [0.001], <None> [0.001], <None> [0.001], <startseq> [1.], <the> [1.], <cardiomediastinal> [1.], <silhouette> [1.], <is> [1.], <within> [1.], <normal> [1.], <limits> [1.], <.> [1.], <lungs> [1.], <are> [1.], <clear> [1.], <without> [1.], <focal> [1.], <consolidation> [1.], <.> [1.], <no> [1.], <pneumothorax> [1.] , \t next_word: or\n",
      "--- 89 ---\n",
      "[3262_IM-1548-3001.dcm.png], input_seq: <None> [0.001], <None> [0.001], <None> [0.001], <None> [0.001], <None> [0.001], <None> [0.001], <None> [0.001], <None> [0.001], <None> [0.001], <None> [0.001], <None> [0.001], <None> [0.001], <None> [0.001], <None> [0.001], <None> [0.001], <None> [0.001], <None> [0.001], <None> [0.001], <None> [0.001], <None> [0.001], <None> [0.001], <None> [0.001], <None> [0.001], <None> [0.001], <None> [0.001], <None> [0.001], <None> [0.001], <None> [0.001], <None> [0.001], <None> [0.001], <None> [0.001], <None> [0.001], <None> [0.001], <None> [0.001], <None> [0.001], <None> [0.001], <None> [0.001], <None> [0.001], <None> [0.001], <None> [0.001], <None> [0.001], <startseq> [1.], <the> [1.], <cardiomediastinal> [1.], <silhouette> [1.], <is> [1.], <within> [1.], <normal> [1.], <limits> [1.], <.> [1.], <lungs> [1.], <are> [1.], <clear> [1.], <without> [1.], <focal> [1.], <consolidation> [1.], <.> [1.], <no> [1.], <pneumothorax> [1.], <or> [1.] , \t next_word: large\n",
      "--- 90 ---\n",
      "[3262_IM-1548-3001.dcm.png], input_seq: <None> [0.001], <None> [0.001], <None> [0.001], <None> [0.001], <None> [0.001], <None> [0.001], <None> [0.001], <None> [0.001], <None> [0.001], <None> [0.001], <None> [0.001], <None> [0.001], <None> [0.001], <None> [0.001], <None> [0.001], <None> [0.001], <None> [0.001], <None> [0.001], <None> [0.001], <None> [0.001], <None> [0.001], <None> [0.001], <None> [0.001], <None> [0.001], <None> [0.001], <None> [0.001], <None> [0.001], <None> [0.001], <None> [0.001], <None> [0.001], <None> [0.001], <None> [0.001], <None> [0.001], <None> [0.001], <None> [0.001], <None> [0.001], <None> [0.001], <None> [0.001], <None> [0.001], <None> [0.001], <startseq> [1.], <the> [1.], <cardiomediastinal> [1.], <silhouette> [1.], <is> [1.], <within> [1.], <normal> [1.], <limits> [1.], <.> [1.], <lungs> [1.], <are> [1.], <clear> [1.], <without> [1.], <focal> [1.], <consolidation> [1.], <.> [1.], <no> [1.], <pneumothorax> [1.], <or> [1.], <large> [1.] , \t next_word: pleural\n",
      "--- 91 ---\n",
      "[3262_IM-1548-3001.dcm.png], input_seq: <None> [0.001], <None> [0.001], <None> [0.001], <None> [0.001], <None> [0.001], <None> [0.001], <None> [0.001], <None> [0.001], <None> [0.001], <None> [0.001], <None> [0.001], <None> [0.001], <None> [0.001], <None> [0.001], <None> [0.001], <None> [0.001], <None> [0.001], <None> [0.001], <None> [0.001], <None> [0.001], <None> [0.001], <None> [0.001], <None> [0.001], <None> [0.001], <None> [0.001], <None> [0.001], <None> [0.001], <None> [0.001], <None> [0.001], <None> [0.001], <None> [0.001], <None> [0.001], <None> [0.001], <None> [0.001], <None> [0.001], <None> [0.001], <None> [0.001], <None> [0.001], <None> [0.001], <startseq> [1.], <the> [1.], <cardiomediastinal> [1.], <silhouette> [1.], <is> [1.], <within> [1.], <normal> [1.], <limits> [1.], <.> [1.], <lungs> [1.], <are> [1.], <clear> [1.], <without> [1.], <focal> [1.], <consolidation> [1.], <.> [1.], <no> [1.], <pneumothorax> [1.], <or> [1.], <large> [1.], <pleural> [1.] , \t next_word: effusion\n",
      "--- 92 ---\n",
      "[3262_IM-1548-3001.dcm.png], input_seq: <None> [0.001], <None> [0.001], <None> [0.001], <None> [0.001], <None> [0.001], <None> [0.001], <None> [0.001], <None> [0.001], <None> [0.001], <None> [0.001], <None> [0.001], <None> [0.001], <None> [0.001], <None> [0.001], <None> [0.001], <None> [0.001], <None> [0.001], <None> [0.001], <None> [0.001], <None> [0.001], <None> [0.001], <None> [0.001], <None> [0.001], <None> [0.001], <None> [0.001], <None> [0.001], <None> [0.001], <None> [0.001], <None> [0.001], <None> [0.001], <None> [0.001], <None> [0.001], <None> [0.001], <None> [0.001], <None> [0.001], <None> [0.001], <None> [0.001], <None> [0.001], <startseq> [1.], <the> [1.], <cardiomediastinal> [1.], <silhouette> [1.], <is> [1.], <within> [1.], <normal> [1.], <limits> [1.], <.> [1.], <lungs> [1.], <are> [1.], <clear> [1.], <without> [1.], <focal> [1.], <consolidation> [1.], <.> [1.], <no> [1.], <pneumothorax> [1.], <or> [1.], <large> [1.], <pleural> [1.], <effusion> [1.] , \t next_word: .\n",
      "--- 93 ---\n",
      "[3262_IM-1548-3001.dcm.png], input_seq: <None> [0.001], <None> [0.001], <None> [0.001], <None> [0.001], <None> [0.001], <None> [0.001], <None> [0.001], <None> [0.001], <None> [0.001], <None> [0.001], <None> [0.001], <None> [0.001], <None> [0.001], <None> [0.001], <None> [0.001], <None> [0.001], <None> [0.001], <None> [0.001], <None> [0.001], <None> [0.001], <None> [0.001], <None> [0.001], <None> [0.001], <None> [0.001], <None> [0.001], <None> [0.001], <None> [0.001], <None> [0.001], <None> [0.001], <None> [0.001], <None> [0.001], <None> [0.001], <None> [0.001], <None> [0.001], <None> [0.001], <None> [0.001], <None> [0.001], <startseq> [1.], <the> [1.], <cardiomediastinal> [1.], <silhouette> [1.], <is> [1.], <within> [1.], <normal> [1.], <limits> [1.], <.> [1.], <lungs> [1.], <are> [1.], <clear> [1.], <without> [1.], <focal> [1.], <consolidation> [1.], <.> [1.], <no> [1.], <pneumothorax> [1.], <or> [1.], <large> [1.], <pleural> [1.], <effusion> [1.], <.> [1.] , \t next_word: endseq\n",
      "--- 94 ---\n",
      "[3284_IM-1565-20001.dcm.png], input_seq: <None> [0.001], <None> [0.001], <None> [0.001], <None> [0.001], <None> [0.001], <None> [0.001], <None> [0.001], <None> [0.001], <None> [0.001], <None> [0.001], <None> [0.001], <None> [0.001], <None> [0.001], <None> [0.001], <None> [0.001], <None> [0.001], <None> [0.001], <None> [0.001], <None> [0.001], <None> [0.001], <None> [0.001], <None> [0.001], <None> [0.001], <None> [0.001], <None> [0.001], <None> [0.001], <None> [0.001], <None> [0.001], <None> [0.001], <None> [0.001], <None> [0.001], <None> [0.001], <None> [0.001], <None> [0.001], <None> [0.001], <None> [0.001], <None> [0.001], <None> [0.001], <None> [0.001], <None> [0.001], <None> [0.001], <None> [0.001], <None> [0.001], <None> [0.001], <None> [0.001], <None> [0.001], <None> [0.001], <None> [0.001], <None> [0.001], <None> [0.001], <None> [0.001], <None> [0.001], <None> [0.001], <None> [0.001], <None> [0.001], <None> [0.001], <None> [0.001], <None> [0.001], <None> [0.001], <startseq> [1.] , \t next_word: the\n",
      "--- 95 ---\n",
      "[3284_IM-1565-20001.dcm.png], input_seq: <None> [0.001], <None> [0.001], <None> [0.001], <None> [0.001], <None> [0.001], <None> [0.001], <None> [0.001], <None> [0.001], <None> [0.001], <None> [0.001], <None> [0.001], <None> [0.001], <None> [0.001], <None> [0.001], <None> [0.001], <None> [0.001], <None> [0.001], <None> [0.001], <None> [0.001], <None> [0.001], <None> [0.001], <None> [0.001], <None> [0.001], <None> [0.001], <None> [0.001], <None> [0.001], <None> [0.001], <None> [0.001], <None> [0.001], <None> [0.001], <None> [0.001], <None> [0.001], <None> [0.001], <None> [0.001], <None> [0.001], <None> [0.001], <None> [0.001], <None> [0.001], <None> [0.001], <None> [0.001], <None> [0.001], <None> [0.001], <None> [0.001], <None> [0.001], <None> [0.001], <None> [0.001], <None> [0.001], <None> [0.001], <None> [0.001], <None> [0.001], <None> [0.001], <None> [0.001], <None> [0.001], <None> [0.001], <None> [0.001], <None> [0.001], <None> [0.001], <None> [0.001], <startseq> [1.], <the> [1.] , \t next_word: heart\n",
      "--- 96 ---\n",
      "[3284_IM-1565-20001.dcm.png], input_seq: <None> [0.001], <None> [0.001], <None> [0.001], <None> [0.001], <None> [0.001], <None> [0.001], <None> [0.001], <None> [0.001], <None> [0.001], <None> [0.001], <None> [0.001], <None> [0.001], <None> [0.001], <None> [0.001], <None> [0.001], <None> [0.001], <None> [0.001], <None> [0.001], <None> [0.001], <None> [0.001], <None> [0.001], <None> [0.001], <None> [0.001], <None> [0.001], <None> [0.001], <None> [0.001], <None> [0.001], <None> [0.001], <None> [0.001], <None> [0.001], <None> [0.001], <None> [0.001], <None> [0.001], <None> [0.001], <None> [0.001], <None> [0.001], <None> [0.001], <None> [0.001], <None> [0.001], <None> [0.001], <None> [0.001], <None> [0.001], <None> [0.001], <None> [0.001], <None> [0.001], <None> [0.001], <None> [0.001], <None> [0.001], <None> [0.001], <None> [0.001], <None> [0.001], <None> [0.001], <None> [0.001], <None> [0.001], <None> [0.001], <None> [0.001], <None> [0.001], <startseq> [1.], <the> [1.], <heart> [1.] , \t next_word: size\n",
      "--- 97 ---\n",
      "[3284_IM-1565-20001.dcm.png], input_seq: <None> [0.001], <None> [0.001], <None> [0.001], <None> [0.001], <None> [0.001], <None> [0.001], <None> [0.001], <None> [0.001], <None> [0.001], <None> [0.001], <None> [0.001], <None> [0.001], <None> [0.001], <None> [0.001], <None> [0.001], <None> [0.001], <None> [0.001], <None> [0.001], <None> [0.001], <None> [0.001], <None> [0.001], <None> [0.001], <None> [0.001], <None> [0.001], <None> [0.001], <None> [0.001], <None> [0.001], <None> [0.001], <None> [0.001], <None> [0.001], <None> [0.001], <None> [0.001], <None> [0.001], <None> [0.001], <None> [0.001], <None> [0.001], <None> [0.001], <None> [0.001], <None> [0.001], <None> [0.001], <None> [0.001], <None> [0.001], <None> [0.001], <None> [0.001], <None> [0.001], <None> [0.001], <None> [0.001], <None> [0.001], <None> [0.001], <None> [0.001], <None> [0.001], <None> [0.001], <None> [0.001], <None> [0.001], <None> [0.001], <None> [0.001], <startseq> [1.], <the> [1.], <heart> [1.], <size> [1.] , \t next_word: and\n",
      "--- 98 ---\n",
      "[3284_IM-1565-20001.dcm.png], input_seq: <None> [0.001], <None> [0.001], <None> [0.001], <None> [0.001], <None> [0.001], <None> [0.001], <None> [0.001], <None> [0.001], <None> [0.001], <None> [0.001], <None> [0.001], <None> [0.001], <None> [0.001], <None> [0.001], <None> [0.001], <None> [0.001], <None> [0.001], <None> [0.001], <None> [0.001], <None> [0.001], <None> [0.001], <None> [0.001], <None> [0.001], <None> [0.001], <None> [0.001], <None> [0.001], <None> [0.001], <None> [0.001], <None> [0.001], <None> [0.001], <None> [0.001], <None> [0.001], <None> [0.001], <None> [0.001], <None> [0.001], <None> [0.001], <None> [0.001], <None> [0.001], <None> [0.001], <None> [0.001], <None> [0.001], <None> [0.001], <None> [0.001], <None> [0.001], <None> [0.001], <None> [0.001], <None> [0.001], <None> [0.001], <None> [0.001], <None> [0.001], <None> [0.001], <None> [0.001], <None> [0.001], <None> [0.001], <None> [0.001], <startseq> [1.], <the> [1.], <heart> [1.], <size> [1.], <and> [1.] , \t next_word: pulmonary\n",
      "--- 99 ---\n",
      "[3284_IM-1565-20001.dcm.png], input_seq: <None> [0.001], <None> [0.001], <None> [0.001], <None> [0.001], <None> [0.001], <None> [0.001], <None> [0.001], <None> [0.001], <None> [0.001], <None> [0.001], <None> [0.001], <None> [0.001], <None> [0.001], <None> [0.001], <None> [0.001], <None> [0.001], <None> [0.001], <None> [0.001], <None> [0.001], <None> [0.001], <None> [0.001], <None> [0.001], <None> [0.001], <None> [0.001], <None> [0.001], <None> [0.001], <None> [0.001], <None> [0.001], <None> [0.001], <None> [0.001], <None> [0.001], <None> [0.001], <None> [0.001], <None> [0.001], <None> [0.001], <None> [0.001], <None> [0.001], <None> [0.001], <None> [0.001], <None> [0.001], <None> [0.001], <None> [0.001], <None> [0.001], <None> [0.001], <None> [0.001], <None> [0.001], <None> [0.001], <None> [0.001], <None> [0.001], <None> [0.001], <None> [0.001], <None> [0.001], <None> [0.001], <None> [0.001], <startseq> [1.], <the> [1.], <heart> [1.], <size> [1.], <and> [1.], <pulmonary> [1.] , \t next_word: vascularity\n",
      "--- 100 ---\n",
      "[3284_IM-1565-20001.dcm.png], input_seq: <None> [0.001], <None> [0.001], <None> [0.001], <None> [0.001], <None> [0.001], <None> [0.001], <None> [0.001], <None> [0.001], <None> [0.001], <None> [0.001], <None> [0.001], <None> [0.001], <None> [0.001], <None> [0.001], <None> [0.001], <None> [0.001], <None> [0.001], <None> [0.001], <None> [0.001], <None> [0.001], <None> [0.001], <None> [0.001], <None> [0.001], <None> [0.001], <None> [0.001], <None> [0.001], <None> [0.001], <None> [0.001], <None> [0.001], <None> [0.001], <None> [0.001], <None> [0.001], <None> [0.001], <None> [0.001], <None> [0.001], <None> [0.001], <None> [0.001], <None> [0.001], <None> [0.001], <None> [0.001], <None> [0.001], <None> [0.001], <None> [0.001], <None> [0.001], <None> [0.001], <None> [0.001], <None> [0.001], <None> [0.001], <None> [0.001], <None> [0.001], <None> [0.001], <None> [0.001], <None> [0.001], <startseq> [1.], <the> [1.], <heart> [1.], <size> [1.], <and> [1.], <pulmonary> [1.], <vascularity> [1.] , \t next_word: appear\n",
      "--- 101 ---\n",
      "[3284_IM-1565-20001.dcm.png], input_seq: <None> [0.001], <None> [0.001], <None> [0.001], <None> [0.001], <None> [0.001], <None> [0.001], <None> [0.001], <None> [0.001], <None> [0.001], <None> [0.001], <None> [0.001], <None> [0.001], <None> [0.001], <None> [0.001], <None> [0.001], <None> [0.001], <None> [0.001], <None> [0.001], <None> [0.001], <None> [0.001], <None> [0.001], <None> [0.001], <None> [0.001], <None> [0.001], <None> [0.001], <None> [0.001], <None> [0.001], <None> [0.001], <None> [0.001], <None> [0.001], <None> [0.001], <None> [0.001], <None> [0.001], <None> [0.001], <None> [0.001], <None> [0.001], <None> [0.001], <None> [0.001], <None> [0.001], <None> [0.001], <None> [0.001], <None> [0.001], <None> [0.001], <None> [0.001], <None> [0.001], <None> [0.001], <None> [0.001], <None> [0.001], <None> [0.001], <None> [0.001], <None> [0.001], <None> [0.001], <startseq> [1.], <the> [1.], <heart> [1.], <size> [1.], <and> [1.], <pulmonary> [1.], <vascularity> [1.], <appear> [1.] , \t next_word: within\n",
      "--- 102 ---\n",
      "[3284_IM-1565-20001.dcm.png], input_seq: <None> [0.001], <None> [0.001], <None> [0.001], <None> [0.001], <None> [0.001], <None> [0.001], <None> [0.001], <None> [0.001], <None> [0.001], <None> [0.001], <None> [0.001], <None> [0.001], <None> [0.001], <None> [0.001], <None> [0.001], <None> [0.001], <None> [0.001], <None> [0.001], <None> [0.001], <None> [0.001], <None> [0.001], <None> [0.001], <None> [0.001], <None> [0.001], <None> [0.001], <None> [0.001], <None> [0.001], <None> [0.001], <None> [0.001], <None> [0.001], <None> [0.001], <None> [0.001], <None> [0.001], <None> [0.001], <None> [0.001], <None> [0.001], <None> [0.001], <None> [0.001], <None> [0.001], <None> [0.001], <None> [0.001], <None> [0.001], <None> [0.001], <None> [0.001], <None> [0.001], <None> [0.001], <None> [0.001], <None> [0.001], <None> [0.001], <None> [0.001], <None> [0.001], <startseq> [1.], <the> [1.], <heart> [1.], <size> [1.], <and> [1.], <pulmonary> [1.], <vascularity> [1.], <appear> [1.], <within> [1.] , \t next_word: normal\n",
      "--- 103 ---\n",
      "[3284_IM-1565-20001.dcm.png], input_seq: <None> [0.001], <None> [0.001], <None> [0.001], <None> [0.001], <None> [0.001], <None> [0.001], <None> [0.001], <None> [0.001], <None> [0.001], <None> [0.001], <None> [0.001], <None> [0.001], <None> [0.001], <None> [0.001], <None> [0.001], <None> [0.001], <None> [0.001], <None> [0.001], <None> [0.001], <None> [0.001], <None> [0.001], <None> [0.001], <None> [0.001], <None> [0.001], <None> [0.001], <None> [0.001], <None> [0.001], <None> [0.001], <None> [0.001], <None> [0.001], <None> [0.001], <None> [0.001], <None> [0.001], <None> [0.001], <None> [0.001], <None> [0.001], <None> [0.001], <None> [0.001], <None> [0.001], <None> [0.001], <None> [0.001], <None> [0.001], <None> [0.001], <None> [0.001], <None> [0.001], <None> [0.001], <None> [0.001], <None> [0.001], <None> [0.001], <None> [0.001], <startseq> [1.], <the> [1.], <heart> [1.], <size> [1.], <and> [1.], <pulmonary> [1.], <vascularity> [1.], <appear> [1.], <within> [1.], <normal> [1.] , \t next_word: limits\n",
      "--- 104 ---\n",
      "[3284_IM-1565-20001.dcm.png], input_seq: <None> [0.001], <None> [0.001], <None> [0.001], <None> [0.001], <None> [0.001], <None> [0.001], <None> [0.001], <None> [0.001], <None> [0.001], <None> [0.001], <None> [0.001], <None> [0.001], <None> [0.001], <None> [0.001], <None> [0.001], <None> [0.001], <None> [0.001], <None> [0.001], <None> [0.001], <None> [0.001], <None> [0.001], <None> [0.001], <None> [0.001], <None> [0.001], <None> [0.001], <None> [0.001], <None> [0.001], <None> [0.001], <None> [0.001], <None> [0.001], <None> [0.001], <None> [0.001], <None> [0.001], <None> [0.001], <None> [0.001], <None> [0.001], <None> [0.001], <None> [0.001], <None> [0.001], <None> [0.001], <None> [0.001], <None> [0.001], <None> [0.001], <None> [0.001], <None> [0.001], <None> [0.001], <None> [0.001], <None> [0.001], <None> [0.001], <startseq> [1.], <the> [1.], <heart> [1.], <size> [1.], <and> [1.], <pulmonary> [1.], <vascularity> [1.], <appear> [1.], <within> [1.], <normal> [1.], <limits> [1.] , \t next_word: .\n",
      "--- 105 ---\n",
      "[3284_IM-1565-20001.dcm.png], input_seq: <None> [0.001], <None> [0.001], <None> [0.001], <None> [0.001], <None> [0.001], <None> [0.001], <None> [0.001], <None> [0.001], <None> [0.001], <None> [0.001], <None> [0.001], <None> [0.001], <None> [0.001], <None> [0.001], <None> [0.001], <None> [0.001], <None> [0.001], <None> [0.001], <None> [0.001], <None> [0.001], <None> [0.001], <None> [0.001], <None> [0.001], <None> [0.001], <None> [0.001], <None> [0.001], <None> [0.001], <None> [0.001], <None> [0.001], <None> [0.001], <None> [0.001], <None> [0.001], <None> [0.001], <None> [0.001], <None> [0.001], <None> [0.001], <None> [0.001], <None> [0.001], <None> [0.001], <None> [0.001], <None> [0.001], <None> [0.001], <None> [0.001], <None> [0.001], <None> [0.001], <None> [0.001], <None> [0.001], <None> [0.001], <startseq> [1.], <the> [1.], <heart> [1.], <size> [1.], <and> [1.], <pulmonary> [1.], <vascularity> [1.], <appear> [1.], <within> [1.], <normal> [1.], <limits> [1.], <.> [1.] , \t next_word: the\n",
      "--- 106 ---\n",
      "[3284_IM-1565-20001.dcm.png], input_seq: <None> [0.001], <None> [0.001], <None> [0.001], <None> [0.001], <None> [0.001], <None> [0.001], <None> [0.001], <None> [0.001], <None> [0.001], <None> [0.001], <None> [0.001], <None> [0.001], <None> [0.001], <None> [0.001], <None> [0.001], <None> [0.001], <None> [0.001], <None> [0.001], <None> [0.001], <None> [0.001], <None> [0.001], <None> [0.001], <None> [0.001], <None> [0.001], <None> [0.001], <None> [0.001], <None> [0.001], <None> [0.001], <None> [0.001], <None> [0.001], <None> [0.001], <None> [0.001], <None> [0.001], <None> [0.001], <None> [0.001], <None> [0.001], <None> [0.001], <None> [0.001], <None> [0.001], <None> [0.001], <None> [0.001], <None> [0.001], <None> [0.001], <None> [0.001], <None> [0.001], <None> [0.001], <None> [0.001], <startseq> [1.], <the> [1.], <heart> [1.], <size> [1.], <and> [1.], <pulmonary> [1.], <vascularity> [1.], <appear> [1.], <within> [1.], <normal> [1.], <limits> [1.], <.> [1.], <the> [1.] , \t next_word: lungs\n",
      "--- 107 ---\n",
      "[3284_IM-1565-20001.dcm.png], input_seq: <None> [0.001], <None> [0.001], <None> [0.001], <None> [0.001], <None> [0.001], <None> [0.001], <None> [0.001], <None> [0.001], <None> [0.001], <None> [0.001], <None> [0.001], <None> [0.001], <None> [0.001], <None> [0.001], <None> [0.001], <None> [0.001], <None> [0.001], <None> [0.001], <None> [0.001], <None> [0.001], <None> [0.001], <None> [0.001], <None> [0.001], <None> [0.001], <None> [0.001], <None> [0.001], <None> [0.001], <None> [0.001], <None> [0.001], <None> [0.001], <None> [0.001], <None> [0.001], <None> [0.001], <None> [0.001], <None> [0.001], <None> [0.001], <None> [0.001], <None> [0.001], <None> [0.001], <None> [0.001], <None> [0.001], <None> [0.001], <None> [0.001], <None> [0.001], <None> [0.001], <None> [0.001], <startseq> [1.], <the> [1.], <heart> [1.], <size> [1.], <and> [1.], <pulmonary> [1.], <vascularity> [1.], <appear> [1.], <within> [1.], <normal> [1.], <limits> [1.], <.> [1.], <the> [1.], <lungs> [1.] , \t next_word: are\n",
      "--- 108 ---\n",
      "[3284_IM-1565-20001.dcm.png], input_seq: <None> [0.001], <None> [0.001], <None> [0.001], <None> [0.001], <None> [0.001], <None> [0.001], <None> [0.001], <None> [0.001], <None> [0.001], <None> [0.001], <None> [0.001], <None> [0.001], <None> [0.001], <None> [0.001], <None> [0.001], <None> [0.001], <None> [0.001], <None> [0.001], <None> [0.001], <None> [0.001], <None> [0.001], <None> [0.001], <None> [0.001], <None> [0.001], <None> [0.001], <None> [0.001], <None> [0.001], <None> [0.001], <None> [0.001], <None> [0.001], <None> [0.001], <None> [0.001], <None> [0.001], <None> [0.001], <None> [0.001], <None> [0.001], <None> [0.001], <None> [0.001], <None> [0.001], <None> [0.001], <None> [0.001], <None> [0.001], <None> [0.001], <None> [0.001], <None> [0.001], <startseq> [1.], <the> [1.], <heart> [1.], <size> [1.], <and> [1.], <pulmonary> [1.], <vascularity> [1.], <appear> [1.], <within> [1.], <normal> [1.], <limits> [1.], <.> [1.], <the> [1.], <lungs> [1.], <are> [1.] , \t next_word: free\n",
      "--- 109 ---\n",
      "[3284_IM-1565-20001.dcm.png], input_seq: <None> [0.001], <None> [0.001], <None> [0.001], <None> [0.001], <None> [0.001], <None> [0.001], <None> [0.001], <None> [0.001], <None> [0.001], <None> [0.001], <None> [0.001], <None> [0.001], <None> [0.001], <None> [0.001], <None> [0.001], <None> [0.001], <None> [0.001], <None> [0.001], <None> [0.001], <None> [0.001], <None> [0.001], <None> [0.001], <None> [0.001], <None> [0.001], <None> [0.001], <None> [0.001], <None> [0.001], <None> [0.001], <None> [0.001], <None> [0.001], <None> [0.001], <None> [0.001], <None> [0.001], <None> [0.001], <None> [0.001], <None> [0.001], <None> [0.001], <None> [0.001], <None> [0.001], <None> [0.001], <None> [0.001], <None> [0.001], <None> [0.001], <None> [0.001], <startseq> [1.], <the> [1.], <heart> [1.], <size> [1.], <and> [1.], <pulmonary> [1.], <vascularity> [1.], <appear> [1.], <within> [1.], <normal> [1.], <limits> [1.], <.> [1.], <the> [1.], <lungs> [1.], <are> [1.], <free> [1.] , \t next_word: of\n",
      "--- 110 ---\n",
      "[3284_IM-1565-20001.dcm.png], input_seq: <None> [0.001], <None> [0.001], <None> [0.001], <None> [0.001], <None> [0.001], <None> [0.001], <None> [0.001], <None> [0.001], <None> [0.001], <None> [0.001], <None> [0.001], <None> [0.001], <None> [0.001], <None> [0.001], <None> [0.001], <None> [0.001], <None> [0.001], <None> [0.001], <None> [0.001], <None> [0.001], <None> [0.001], <None> [0.001], <None> [0.001], <None> [0.001], <None> [0.001], <None> [0.001], <None> [0.001], <None> [0.001], <None> [0.001], <None> [0.001], <None> [0.001], <None> [0.001], <None> [0.001], <None> [0.001], <None> [0.001], <None> [0.001], <None> [0.001], <None> [0.001], <None> [0.001], <None> [0.001], <None> [0.001], <None> [0.001], <None> [0.001], <startseq> [1.], <the> [1.], <heart> [1.], <size> [1.], <and> [1.], <pulmonary> [1.], <vascularity> [1.], <appear> [1.], <within> [1.], <normal> [1.], <limits> [1.], <.> [1.], <the> [1.], <lungs> [1.], <are> [1.], <free> [1.], <of> [1.] , \t next_word: focal\n",
      "--- 111 ---\n",
      "[3284_IM-1565-20001.dcm.png], input_seq: <None> [0.001], <None> [0.001], <None> [0.001], <None> [0.001], <None> [0.001], <None> [0.001], <None> [0.001], <None> [0.001], <None> [0.001], <None> [0.001], <None> [0.001], <None> [0.001], <None> [0.001], <None> [0.001], <None> [0.001], <None> [0.001], <None> [0.001], <None> [0.001], <None> [0.001], <None> [0.001], <None> [0.001], <None> [0.001], <None> [0.001], <None> [0.001], <None> [0.001], <None> [0.001], <None> [0.001], <None> [0.001], <None> [0.001], <None> [0.001], <None> [0.001], <None> [0.001], <None> [0.001], <None> [0.001], <None> [0.001], <None> [0.001], <None> [0.001], <None> [0.001], <None> [0.001], <None> [0.001], <None> [0.001], <None> [0.001], <startseq> [1.], <the> [1.], <heart> [1.], <size> [1.], <and> [1.], <pulmonary> [1.], <vascularity> [1.], <appear> [1.], <within> [1.], <normal> [1.], <limits> [1.], <.> [1.], <the> [1.], <lungs> [1.], <are> [1.], <free> [1.], <of> [1.], <focal> [1.] , \t next_word: airspace\n",
      "--- 112 ---\n",
      "[3284_IM-1565-20001.dcm.png], input_seq: <None> [0.001], <None> [0.001], <None> [0.001], <None> [0.001], <None> [0.001], <None> [0.001], <None> [0.001], <None> [0.001], <None> [0.001], <None> [0.001], <None> [0.001], <None> [0.001], <None> [0.001], <None> [0.001], <None> [0.001], <None> [0.001], <None> [0.001], <None> [0.001], <None> [0.001], <None> [0.001], <None> [0.001], <None> [0.001], <None> [0.001], <None> [0.001], <None> [0.001], <None> [0.001], <None> [0.001], <None> [0.001], <None> [0.001], <None> [0.001], <None> [0.001], <None> [0.001], <None> [0.001], <None> [0.001], <None> [0.001], <None> [0.001], <None> [0.001], <None> [0.001], <None> [0.001], <None> [0.001], <None> [0.001], <startseq> [1.], <the> [1.], <heart> [1.], <size> [1.], <and> [1.], <pulmonary> [1.], <vascularity> [1.], <appear> [1.], <within> [1.], <normal> [1.], <limits> [1.], <.> [1.], <the> [1.], <lungs> [1.], <are> [1.], <free> [1.], <of> [1.], <focal> [1.], <airspace> [1.] , \t next_word: disease\n",
      "--- 113 ---\n",
      "[3284_IM-1565-20001.dcm.png], input_seq: <None> [0.001], <None> [0.001], <None> [0.001], <None> [0.001], <None> [0.001], <None> [0.001], <None> [0.001], <None> [0.001], <None> [0.001], <None> [0.001], <None> [0.001], <None> [0.001], <None> [0.001], <None> [0.001], <None> [0.001], <None> [0.001], <None> [0.001], <None> [0.001], <None> [0.001], <None> [0.001], <None> [0.001], <None> [0.001], <None> [0.001], <None> [0.001], <None> [0.001], <None> [0.001], <None> [0.001], <None> [0.001], <None> [0.001], <None> [0.001], <None> [0.001], <None> [0.001], <None> [0.001], <None> [0.001], <None> [0.001], <None> [0.001], <None> [0.001], <None> [0.001], <None> [0.001], <None> [0.001], <startseq> [1.], <the> [1.], <heart> [1.], <size> [1.], <and> [1.], <pulmonary> [1.], <vascularity> [1.], <appear> [1.], <within> [1.], <normal> [1.], <limits> [1.], <.> [1.], <the> [1.], <lungs> [1.], <are> [1.], <free> [1.], <of> [1.], <focal> [1.], <airspace> [1.], <disease> [1.] , \t next_word: .\n",
      "--- 114 ---\n",
      "[3284_IM-1565-20001.dcm.png], input_seq: <None> [0.001], <None> [0.001], <None> [0.001], <None> [0.001], <None> [0.001], <None> [0.001], <None> [0.001], <None> [0.001], <None> [0.001], <None> [0.001], <None> [0.001], <None> [0.001], <None> [0.001], <None> [0.001], <None> [0.001], <None> [0.001], <None> [0.001], <None> [0.001], <None> [0.001], <None> [0.001], <None> [0.001], <None> [0.001], <None> [0.001], <None> [0.001], <None> [0.001], <None> [0.001], <None> [0.001], <None> [0.001], <None> [0.001], <None> [0.001], <None> [0.001], <None> [0.001], <None> [0.001], <None> [0.001], <None> [0.001], <None> [0.001], <None> [0.001], <None> [0.001], <None> [0.001], <startseq> [1.], <the> [1.], <heart> [1.], <size> [1.], <and> [1.], <pulmonary> [1.], <vascularity> [1.], <appear> [1.], <within> [1.], <normal> [1.], <limits> [1.], <.> [1.], <the> [1.], <lungs> [1.], <are> [1.], <free> [1.], <of> [1.], <focal> [1.], <airspace> [1.], <disease> [1.], <.> [1.] , \t next_word: no\n",
      "--- 115 ---\n",
      "[3284_IM-1565-20001.dcm.png], input_seq: <None> [0.001], <None> [0.001], <None> [0.001], <None> [0.001], <None> [0.001], <None> [0.001], <None> [0.001], <None> [0.001], <None> [0.001], <None> [0.001], <None> [0.001], <None> [0.001], <None> [0.001], <None> [0.001], <None> [0.001], <None> [0.001], <None> [0.001], <None> [0.001], <None> [0.001], <None> [0.001], <None> [0.001], <None> [0.001], <None> [0.001], <None> [0.001], <None> [0.001], <None> [0.001], <None> [0.001], <None> [0.001], <None> [0.001], <None> [0.001], <None> [0.001], <None> [0.001], <None> [0.001], <None> [0.001], <None> [0.001], <None> [0.001], <None> [0.001], <None> [0.001], <startseq> [1.], <the> [1.], <heart> [1.], <size> [1.], <and> [1.], <pulmonary> [1.], <vascularity> [1.], <appear> [1.], <within> [1.], <normal> [1.], <limits> [1.], <.> [1.], <the> [1.], <lungs> [1.], <are> [1.], <free> [1.], <of> [1.], <focal> [1.], <airspace> [1.], <disease> [1.], <.> [1.], <no> [1.] , \t next_word: pleural\n",
      "--- 116 ---\n",
      "[3284_IM-1565-20001.dcm.png], input_seq: <None> [0.001], <None> [0.001], <None> [0.001], <None> [0.001], <None> [0.001], <None> [0.001], <None> [0.001], <None> [0.001], <None> [0.001], <None> [0.001], <None> [0.001], <None> [0.001], <None> [0.001], <None> [0.001], <None> [0.001], <None> [0.001], <None> [0.001], <None> [0.001], <None> [0.001], <None> [0.001], <None> [0.001], <None> [0.001], <None> [0.001], <None> [0.001], <None> [0.001], <None> [0.001], <None> [0.001], <None> [0.001], <None> [0.001], <None> [0.001], <None> [0.001], <None> [0.001], <None> [0.001], <None> [0.001], <None> [0.001], <None> [0.001], <None> [0.001], <startseq> [1.], <the> [1.], <heart> [1.], <size> [1.], <and> [1.], <pulmonary> [1.], <vascularity> [1.], <appear> [1.], <within> [1.], <normal> [1.], <limits> [1.], <.> [1.], <the> [1.], <lungs> [1.], <are> [1.], <free> [1.], <of> [1.], <focal> [1.], <airspace> [1.], <disease> [1.], <.> [1.], <no> [1.], <pleural> [1.] , \t next_word: effusion\n",
      "--- 117 ---\n",
      "[3284_IM-1565-20001.dcm.png], input_seq: <None> [0.001], <None> [0.001], <None> [0.001], <None> [0.001], <None> [0.001], <None> [0.001], <None> [0.001], <None> [0.001], <None> [0.001], <None> [0.001], <None> [0.001], <None> [0.001], <None> [0.001], <None> [0.001], <None> [0.001], <None> [0.001], <None> [0.001], <None> [0.001], <None> [0.001], <None> [0.001], <None> [0.001], <None> [0.001], <None> [0.001], <None> [0.001], <None> [0.001], <None> [0.001], <None> [0.001], <None> [0.001], <None> [0.001], <None> [0.001], <None> [0.001], <None> [0.001], <None> [0.001], <None> [0.001], <None> [0.001], <None> [0.001], <startseq> [1.], <the> [1.], <heart> [1.], <size> [1.], <and> [1.], <pulmonary> [1.], <vascularity> [1.], <appear> [1.], <within> [1.], <normal> [1.], <limits> [1.], <.> [1.], <the> [1.], <lungs> [1.], <are> [1.], <free> [1.], <of> [1.], <focal> [1.], <airspace> [1.], <disease> [1.], <.> [1.], <no> [1.], <pleural> [1.], <effusion> [1.] , \t next_word: or\n",
      "--- 118 ---\n",
      "[3284_IM-1565-20001.dcm.png], input_seq: <None> [0.001], <None> [0.001], <None> [0.001], <None> [0.001], <None> [0.001], <None> [0.001], <None> [0.001], <None> [0.001], <None> [0.001], <None> [0.001], <None> [0.001], <None> [0.001], <None> [0.001], <None> [0.001], <None> [0.001], <None> [0.001], <None> [0.001], <None> [0.001], <None> [0.001], <None> [0.001], <None> [0.001], <None> [0.001], <None> [0.001], <None> [0.001], <None> [0.001], <None> [0.001], <None> [0.001], <None> [0.001], <None> [0.001], <None> [0.001], <None> [0.001], <None> [0.001], <None> [0.001], <None> [0.001], <None> [0.001], <startseq> [1.], <the> [1.], <heart> [1.], <size> [1.], <and> [1.], <pulmonary> [1.], <vascularity> [1.], <appear> [1.], <within> [1.], <normal> [1.], <limits> [1.], <.> [1.], <the> [1.], <lungs> [1.], <are> [1.], <free> [1.], <of> [1.], <focal> [1.], <airspace> [1.], <disease> [1.], <.> [1.], <no> [1.], <pleural> [1.], <effusion> [1.], <or> [1.] , \t next_word: pneumothorax\n",
      "--- 119 ---\n",
      "[3284_IM-1565-20001.dcm.png], input_seq: <None> [0.001], <None> [0.001], <None> [0.001], <None> [0.001], <None> [0.001], <None> [0.001], <None> [0.001], <None> [0.001], <None> [0.001], <None> [0.001], <None> [0.001], <None> [0.001], <None> [0.001], <None> [0.001], <None> [0.001], <None> [0.001], <None> [0.001], <None> [0.001], <None> [0.001], <None> [0.001], <None> [0.001], <None> [0.001], <None> [0.001], <None> [0.001], <None> [0.001], <None> [0.001], <None> [0.001], <None> [0.001], <None> [0.001], <None> [0.001], <None> [0.001], <None> [0.001], <None> [0.001], <None> [0.001], <startseq> [1.], <the> [1.], <heart> [1.], <size> [1.], <and> [1.], <pulmonary> [1.], <vascularity> [1.], <appear> [1.], <within> [1.], <normal> [1.], <limits> [1.], <.> [1.], <the> [1.], <lungs> [1.], <are> [1.], <free> [1.], <of> [1.], <focal> [1.], <airspace> [1.], <disease> [1.], <.> [1.], <no> [1.], <pleural> [1.], <effusion> [1.], <or> [1.], <pneumothorax> [1.] , \t next_word: is\n",
      "--- 120 ---\n",
      "[3284_IM-1565-20001.dcm.png], input_seq: <None> [0.001], <None> [0.001], <None> [0.001], <None> [0.001], <None> [0.001], <None> [0.001], <None> [0.001], <None> [0.001], <None> [0.001], <None> [0.001], <None> [0.001], <None> [0.001], <None> [0.001], <None> [0.001], <None> [0.001], <None> [0.001], <None> [0.001], <None> [0.001], <None> [0.001], <None> [0.001], <None> [0.001], <None> [0.001], <None> [0.001], <None> [0.001], <None> [0.001], <None> [0.001], <None> [0.001], <None> [0.001], <None> [0.001], <None> [0.001], <None> [0.001], <None> [0.001], <None> [0.001], <startseq> [1.], <the> [1.], <heart> [1.], <size> [1.], <and> [1.], <pulmonary> [1.], <vascularity> [1.], <appear> [1.], <within> [1.], <normal> [1.], <limits> [1.], <.> [1.], <the> [1.], <lungs> [1.], <are> [1.], <free> [1.], <of> [1.], <focal> [1.], <airspace> [1.], <disease> [1.], <.> [1.], <no> [1.], <pleural> [1.], <effusion> [1.], <or> [1.], <pneumothorax> [1.], <is> [1.] , \t next_word: seen\n",
      "--- 121 ---\n",
      "[3284_IM-1565-20001.dcm.png], input_seq: <None> [0.001], <None> [0.001], <None> [0.001], <None> [0.001], <None> [0.001], <None> [0.001], <None> [0.001], <None> [0.001], <None> [0.001], <None> [0.001], <None> [0.001], <None> [0.001], <None> [0.001], <None> [0.001], <None> [0.001], <None> [0.001], <None> [0.001], <None> [0.001], <None> [0.001], <None> [0.001], <None> [0.001], <None> [0.001], <None> [0.001], <None> [0.001], <None> [0.001], <None> [0.001], <None> [0.001], <None> [0.001], <None> [0.001], <None> [0.001], <None> [0.001], <None> [0.001], <startseq> [1.], <the> [1.], <heart> [1.], <size> [1.], <and> [1.], <pulmonary> [1.], <vascularity> [1.], <appear> [1.], <within> [1.], <normal> [1.], <limits> [1.], <.> [1.], <the> [1.], <lungs> [1.], <are> [1.], <free> [1.], <of> [1.], <focal> [1.], <airspace> [1.], <disease> [1.], <.> [1.], <no> [1.], <pleural> [1.], <effusion> [1.], <or> [1.], <pneumothorax> [1.], <is> [1.], <seen> [1.] , \t next_word: .\n",
      "--- 122 ---\n",
      "[3284_IM-1565-20001.dcm.png], input_seq: <None> [0.001], <None> [0.001], <None> [0.001], <None> [0.001], <None> [0.001], <None> [0.001], <None> [0.001], <None> [0.001], <None> [0.001], <None> [0.001], <None> [0.001], <None> [0.001], <None> [0.001], <None> [0.001], <None> [0.001], <None> [0.001], <None> [0.001], <None> [0.001], <None> [0.001], <None> [0.001], <None> [0.001], <None> [0.001], <None> [0.001], <None> [0.001], <None> [0.001], <None> [0.001], <None> [0.001], <None> [0.001], <None> [0.001], <None> [0.001], <None> [0.001], <startseq> [1.], <the> [1.], <heart> [1.], <size> [1.], <and> [1.], <pulmonary> [1.], <vascularity> [1.], <appear> [1.], <within> [1.], <normal> [1.], <limits> [1.], <.> [1.], <the> [1.], <lungs> [1.], <are> [1.], <free> [1.], <of> [1.], <focal> [1.], <airspace> [1.], <disease> [1.], <.> [1.], <no> [1.], <pleural> [1.], <effusion> [1.], <or> [1.], <pneumothorax> [1.], <is> [1.], <seen> [1.], <.> [1.] , \t next_word: endseq\n",
      "--- 123 ---\n",
      "[3819_IM-1926-1001.dcm.png], input_seq: <None> [0.001], <None> [0.001], <None> [0.001], <None> [0.001], <None> [0.001], <None> [0.001], <None> [0.001], <None> [0.001], <None> [0.001], <None> [0.001], <None> [0.001], <None> [0.001], <None> [0.001], <None> [0.001], <None> [0.001], <None> [0.001], <None> [0.001], <None> [0.001], <None> [0.001], <None> [0.001], <None> [0.001], <None> [0.001], <None> [0.001], <None> [0.001], <None> [0.001], <None> [0.001], <None> [0.001], <None> [0.001], <None> [0.001], <None> [0.001], <None> [0.001], <None> [0.001], <None> [0.001], <None> [0.001], <None> [0.001], <None> [0.001], <None> [0.001], <None> [0.001], <None> [0.001], <None> [0.001], <None> [0.001], <None> [0.001], <None> [0.001], <None> [0.001], <None> [0.001], <None> [0.001], <None> [0.001], <None> [0.001], <None> [0.001], <None> [0.001], <None> [0.001], <None> [0.001], <None> [0.001], <None> [0.001], <None> [0.001], <None> [0.001], <None> [0.001], <None> [0.001], <None> [0.001], <startseq> [1.] , \t next_word: frontal\n",
      "--- 124 ---\n",
      "[3819_IM-1926-1001.dcm.png], input_seq: <None> [0.001], <None> [0.001], <None> [0.001], <None> [0.001], <None> [0.001], <None> [0.001], <None> [0.001], <None> [0.001], <None> [0.001], <None> [0.001], <None> [0.001], <None> [0.001], <None> [0.001], <None> [0.001], <None> [0.001], <None> [0.001], <None> [0.001], <None> [0.001], <None> [0.001], <None> [0.001], <None> [0.001], <None> [0.001], <None> [0.001], <None> [0.001], <None> [0.001], <None> [0.001], <None> [0.001], <None> [0.001], <None> [0.001], <None> [0.001], <None> [0.001], <None> [0.001], <None> [0.001], <None> [0.001], <None> [0.001], <None> [0.001], <None> [0.001], <None> [0.001], <None> [0.001], <None> [0.001], <None> [0.001], <None> [0.001], <None> [0.001], <None> [0.001], <None> [0.001], <None> [0.001], <None> [0.001], <None> [0.001], <None> [0.001], <None> [0.001], <None> [0.001], <None> [0.001], <None> [0.001], <None> [0.001], <None> [0.001], <None> [0.001], <None> [0.001], <None> [0.001], <startseq> [1.], <frontal> [1.] , \t next_word: (\n",
      "--- 125 ---\n",
      "[3819_IM-1926-1001.dcm.png], input_seq: <None> [0.001], <None> [0.001], <None> [0.001], <None> [0.001], <None> [0.001], <None> [0.001], <None> [0.001], <None> [0.001], <None> [0.001], <None> [0.001], <None> [0.001], <None> [0.001], <None> [0.001], <None> [0.001], <None> [0.001], <None> [0.001], <None> [0.001], <None> [0.001], <None> [0.001], <None> [0.001], <None> [0.001], <None> [0.001], <None> [0.001], <None> [0.001], <None> [0.001], <None> [0.001], <None> [0.001], <None> [0.001], <None> [0.001], <None> [0.001], <None> [0.001], <None> [0.001], <None> [0.001], <None> [0.001], <None> [0.001], <None> [0.001], <None> [0.001], <None> [0.001], <None> [0.001], <None> [0.001], <None> [0.001], <None> [0.001], <None> [0.001], <None> [0.001], <None> [0.001], <None> [0.001], <None> [0.001], <None> [0.001], <None> [0.001], <None> [0.001], <None> [0.001], <None> [0.001], <None> [0.001], <None> [0.001], <None> [0.001], <None> [0.001], <None> [0.001], <startseq> [1.], <frontal> [1.], <(> [1.] , \t next_word: on\n",
      "--- 126 ---\n",
      "[3819_IM-1926-1001.dcm.png], input_seq: <None> [0.001], <None> [0.001], <None> [0.001], <None> [0.001], <None> [0.001], <None> [0.001], <None> [0.001], <None> [0.001], <None> [0.001], <None> [0.001], <None> [0.001], <None> [0.001], <None> [0.001], <None> [0.001], <None> [0.001], <None> [0.001], <None> [0.001], <None> [0.001], <None> [0.001], <None> [0.001], <None> [0.001], <None> [0.001], <None> [0.001], <None> [0.001], <None> [0.001], <None> [0.001], <None> [0.001], <None> [0.001], <None> [0.001], <None> [0.001], <None> [0.001], <None> [0.001], <None> [0.001], <None> [0.001], <None> [0.001], <None> [0.001], <None> [0.001], <None> [0.001], <None> [0.001], <None> [0.001], <None> [0.001], <None> [0.001], <None> [0.001], <None> [0.001], <None> [0.001], <None> [0.001], <None> [0.001], <None> [0.001], <None> [0.001], <None> [0.001], <None> [0.001], <None> [0.001], <None> [0.001], <None> [0.001], <None> [0.001], <None> [0.001], <startseq> [1.], <frontal> [1.], <(> [1.], <on> [1.] , \t next_word: two\n",
      "--- 127 ---\n",
      "[3819_IM-1926-1001.dcm.png], input_seq: <None> [0.001], <None> [0.001], <None> [0.001], <None> [0.001], <None> [0.001], <None> [0.001], <None> [0.001], <None> [0.001], <None> [0.001], <None> [0.001], <None> [0.001], <None> [0.001], <None> [0.001], <None> [0.001], <None> [0.001], <None> [0.001], <None> [0.001], <None> [0.001], <None> [0.001], <None> [0.001], <None> [0.001], <None> [0.001], <None> [0.001], <None> [0.001], <None> [0.001], <None> [0.001], <None> [0.001], <None> [0.001], <None> [0.001], <None> [0.001], <None> [0.001], <None> [0.001], <None> [0.001], <None> [0.001], <None> [0.001], <None> [0.001], <None> [0.001], <None> [0.001], <None> [0.001], <None> [0.001], <None> [0.001], <None> [0.001], <None> [0.001], <None> [0.001], <None> [0.001], <None> [0.001], <None> [0.001], <None> [0.001], <None> [0.001], <None> [0.001], <None> [0.001], <None> [0.001], <None> [0.001], <None> [0.001], <None> [0.001], <startseq> [1.], <frontal> [1.], <(> [1.], <on> [1.], <two> [1.] , \t next_word: cassettes\n",
      "--- 128 ---\n",
      "[3819_IM-1926-1001.dcm.png], input_seq: <None> [0.001], <None> [0.001], <None> [0.001], <None> [0.001], <None> [0.001], <None> [0.001], <None> [0.001], <None> [0.001], <None> [0.001], <None> [0.001], <None> [0.001], <None> [0.001], <None> [0.001], <None> [0.001], <None> [0.001], <None> [0.001], <None> [0.001], <None> [0.001], <None> [0.001], <None> [0.001], <None> [0.001], <None> [0.001], <None> [0.001], <None> [0.001], <None> [0.001], <None> [0.001], <None> [0.001], <None> [0.001], <None> [0.001], <None> [0.001], <None> [0.001], <None> [0.001], <None> [0.001], <None> [0.001], <None> [0.001], <None> [0.001], <None> [0.001], <None> [0.001], <None> [0.001], <None> [0.001], <None> [0.001], <None> [0.001], <None> [0.001], <None> [0.001], <None> [0.001], <None> [0.001], <None> [0.001], <None> [0.001], <None> [0.001], <None> [0.001], <None> [0.001], <None> [0.001], <None> [0.001], <None> [0.001], <startseq> [1.], <frontal> [1.], <(> [1.], <on> [1.], <two> [1.], <cassettes> [1.] , \t next_word: )\n",
      "--- 129 ---\n",
      "[3819_IM-1926-1001.dcm.png], input_seq: <None> [0.001], <None> [0.001], <None> [0.001], <None> [0.001], <None> [0.001], <None> [0.001], <None> [0.001], <None> [0.001], <None> [0.001], <None> [0.001], <None> [0.001], <None> [0.001], <None> [0.001], <None> [0.001], <None> [0.001], <None> [0.001], <None> [0.001], <None> [0.001], <None> [0.001], <None> [0.001], <None> [0.001], <None> [0.001], <None> [0.001], <None> [0.001], <None> [0.001], <None> [0.001], <None> [0.001], <None> [0.001], <None> [0.001], <None> [0.001], <None> [0.001], <None> [0.001], <None> [0.001], <None> [0.001], <None> [0.001], <None> [0.001], <None> [0.001], <None> [0.001], <None> [0.001], <None> [0.001], <None> [0.001], <None> [0.001], <None> [0.001], <None> [0.001], <None> [0.001], <None> [0.001], <None> [0.001], <None> [0.001], <None> [0.001], <None> [0.001], <None> [0.001], <None> [0.001], <None> [0.001], <startseq> [1.], <frontal> [1.], <(> [1.], <on> [1.], <two> [1.], <cassettes> [1.], <)> [1.] , \t next_word: and\n",
      "--- 130 ---\n",
      "[3819_IM-1926-1001.dcm.png], input_seq: <None> [0.001], <None> [0.001], <None> [0.001], <None> [0.001], <None> [0.001], <None> [0.001], <None> [0.001], <None> [0.001], <None> [0.001], <None> [0.001], <None> [0.001], <None> [0.001], <None> [0.001], <None> [0.001], <None> [0.001], <None> [0.001], <None> [0.001], <None> [0.001], <None> [0.001], <None> [0.001], <None> [0.001], <None> [0.001], <None> [0.001], <None> [0.001], <None> [0.001], <None> [0.001], <None> [0.001], <None> [0.001], <None> [0.001], <None> [0.001], <None> [0.001], <None> [0.001], <None> [0.001], <None> [0.001], <None> [0.001], <None> [0.001], <None> [0.001], <None> [0.001], <None> [0.001], <None> [0.001], <None> [0.001], <None> [0.001], <None> [0.001], <None> [0.001], <None> [0.001], <None> [0.001], <None> [0.001], <None> [0.001], <None> [0.001], <None> [0.001], <None> [0.001], <None> [0.001], <startseq> [1.], <frontal> [1.], <(> [1.], <on> [1.], <two> [1.], <cassettes> [1.], <)> [1.], <and> [1.] , \t next_word: lateral\n",
      "--- 131 ---\n",
      "[3819_IM-1926-1001.dcm.png], input_seq: <None> [0.001], <None> [0.001], <None> [0.001], <None> [0.001], <None> [0.001], <None> [0.001], <None> [0.001], <None> [0.001], <None> [0.001], <None> [0.001], <None> [0.001], <None> [0.001], <None> [0.001], <None> [0.001], <None> [0.001], <None> [0.001], <None> [0.001], <None> [0.001], <None> [0.001], <None> [0.001], <None> [0.001], <None> [0.001], <None> [0.001], <None> [0.001], <None> [0.001], <None> [0.001], <None> [0.001], <None> [0.001], <None> [0.001], <None> [0.001], <None> [0.001], <None> [0.001], <None> [0.001], <None> [0.001], <None> [0.001], <None> [0.001], <None> [0.001], <None> [0.001], <None> [0.001], <None> [0.001], <None> [0.001], <None> [0.001], <None> [0.001], <None> [0.001], <None> [0.001], <None> [0.001], <None> [0.001], <None> [0.001], <None> [0.001], <None> [0.001], <None> [0.001], <startseq> [1.], <frontal> [1.], <(> [1.], <on> [1.], <two> [1.], <cassettes> [1.], <)> [1.], <and> [1.], <lateral> [1.] , \t next_word: views\n",
      "--- 132 ---\n",
      "[3819_IM-1926-1001.dcm.png], input_seq: <None> [0.001], <None> [0.001], <None> [0.001], <None> [0.001], <None> [0.001], <None> [0.001], <None> [0.001], <None> [0.001], <None> [0.001], <None> [0.001], <None> [0.001], <None> [0.001], <None> [0.001], <None> [0.001], <None> [0.001], <None> [0.001], <None> [0.001], <None> [0.001], <None> [0.001], <None> [0.001], <None> [0.001], <None> [0.001], <None> [0.001], <None> [0.001], <None> [0.001], <None> [0.001], <None> [0.001], <None> [0.001], <None> [0.001], <None> [0.001], <None> [0.001], <None> [0.001], <None> [0.001], <None> [0.001], <None> [0.001], <None> [0.001], <None> [0.001], <None> [0.001], <None> [0.001], <None> [0.001], <None> [0.001], <None> [0.001], <None> [0.001], <None> [0.001], <None> [0.001], <None> [0.001], <None> [0.001], <None> [0.001], <None> [0.001], <None> [0.001], <startseq> [1.], <frontal> [1.], <(> [1.], <on> [1.], <two> [1.], <cassettes> [1.], <)> [1.], <and> [1.], <lateral> [1.], <views> [1.] , \t next_word: of\n",
      "--- 133 ---\n",
      "[3819_IM-1926-1001.dcm.png], input_seq: <None> [0.001], <None> [0.001], <None> [0.001], <None> [0.001], <None> [0.001], <None> [0.001], <None> [0.001], <None> [0.001], <None> [0.001], <None> [0.001], <None> [0.001], <None> [0.001], <None> [0.001], <None> [0.001], <None> [0.001], <None> [0.001], <None> [0.001], <None> [0.001], <None> [0.001], <None> [0.001], <None> [0.001], <None> [0.001], <None> [0.001], <None> [0.001], <None> [0.001], <None> [0.001], <None> [0.001], <None> [0.001], <None> [0.001], <None> [0.001], <None> [0.001], <None> [0.001], <None> [0.001], <None> [0.001], <None> [0.001], <None> [0.001], <None> [0.001], <None> [0.001], <None> [0.001], <None> [0.001], <None> [0.001], <None> [0.001], <None> [0.001], <None> [0.001], <None> [0.001], <None> [0.001], <None> [0.001], <None> [0.001], <None> [0.001], <startseq> [1.], <frontal> [1.], <(> [1.], <on> [1.], <two> [1.], <cassettes> [1.], <)> [1.], <and> [1.], <lateral> [1.], <views> [1.], <of> [1.] , \t next_word: the\n",
      "--- 134 ---\n",
      "[3819_IM-1926-1001.dcm.png], input_seq: <None> [0.001], <None> [0.001], <None> [0.001], <None> [0.001], <None> [0.001], <None> [0.001], <None> [0.001], <None> [0.001], <None> [0.001], <None> [0.001], <None> [0.001], <None> [0.001], <None> [0.001], <None> [0.001], <None> [0.001], <None> [0.001], <None> [0.001], <None> [0.001], <None> [0.001], <None> [0.001], <None> [0.001], <None> [0.001], <None> [0.001], <None> [0.001], <None> [0.001], <None> [0.001], <None> [0.001], <None> [0.001], <None> [0.001], <None> [0.001], <None> [0.001], <None> [0.001], <None> [0.001], <None> [0.001], <None> [0.001], <None> [0.001], <None> [0.001], <None> [0.001], <None> [0.001], <None> [0.001], <None> [0.001], <None> [0.001], <None> [0.001], <None> [0.001], <None> [0.001], <None> [0.001], <None> [0.001], <None> [0.001], <startseq> [1.], <frontal> [1.], <(> [1.], <on> [1.], <two> [1.], <cassettes> [1.], <)> [1.], <and> [1.], <lateral> [1.], <views> [1.], <of> [1.], <the> [1.] , \t next_word: chest\n",
      "--- 135 ---\n",
      "[3819_IM-1926-1001.dcm.png], input_seq: <None> [0.001], <None> [0.001], <None> [0.001], <None> [0.001], <None> [0.001], <None> [0.001], <None> [0.001], <None> [0.001], <None> [0.001], <None> [0.001], <None> [0.001], <None> [0.001], <None> [0.001], <None> [0.001], <None> [0.001], <None> [0.001], <None> [0.001], <None> [0.001], <None> [0.001], <None> [0.001], <None> [0.001], <None> [0.001], <None> [0.001], <None> [0.001], <None> [0.001], <None> [0.001], <None> [0.001], <None> [0.001], <None> [0.001], <None> [0.001], <None> [0.001], <None> [0.001], <None> [0.001], <None> [0.001], <None> [0.001], <None> [0.001], <None> [0.001], <None> [0.001], <None> [0.001], <None> [0.001], <None> [0.001], <None> [0.001], <None> [0.001], <None> [0.001], <None> [0.001], <None> [0.001], <None> [0.001], <startseq> [1.], <frontal> [1.], <(> [1.], <on> [1.], <two> [1.], <cassettes> [1.], <)> [1.], <and> [1.], <lateral> [1.], <views> [1.], <of> [1.], <the> [1.], <chest> [1.] , \t next_word: with\n",
      "--- 136 ---\n",
      "[3819_IM-1926-1001.dcm.png], input_seq: <None> [0.001], <None> [0.001], <None> [0.001], <None> [0.001], <None> [0.001], <None> [0.001], <None> [0.001], <None> [0.001], <None> [0.001], <None> [0.001], <None> [0.001], <None> [0.001], <None> [0.001], <None> [0.001], <None> [0.001], <None> [0.001], <None> [0.001], <None> [0.001], <None> [0.001], <None> [0.001], <None> [0.001], <None> [0.001], <None> [0.001], <None> [0.001], <None> [0.001], <None> [0.001], <None> [0.001], <None> [0.001], <None> [0.001], <None> [0.001], <None> [0.001], <None> [0.001], <None> [0.001], <None> [0.001], <None> [0.001], <None> [0.001], <None> [0.001], <None> [0.001], <None> [0.001], <None> [0.001], <None> [0.001], <None> [0.001], <None> [0.001], <None> [0.001], <None> [0.001], <None> [0.001], <startseq> [1.], <frontal> [1.], <(> [1.], <on> [1.], <two> [1.], <cassettes> [1.], <)> [1.], <and> [1.], <lateral> [1.], <views> [1.], <of> [1.], <the> [1.], <chest> [1.], <with> [1.] , \t next_word: overlying\n",
      "--- 137 ---\n",
      "[3819_IM-1926-1001.dcm.png], input_seq: <None> [0.001], <None> [0.001], <None> [0.001], <None> [0.001], <None> [0.001], <None> [0.001], <None> [0.001], <None> [0.001], <None> [0.001], <None> [0.001], <None> [0.001], <None> [0.001], <None> [0.001], <None> [0.001], <None> [0.001], <None> [0.001], <None> [0.001], <None> [0.001], <None> [0.001], <None> [0.001], <None> [0.001], <None> [0.001], <None> [0.001], <None> [0.001], <None> [0.001], <None> [0.001], <None> [0.001], <None> [0.001], <None> [0.001], <None> [0.001], <None> [0.001], <None> [0.001], <None> [0.001], <None> [0.001], <None> [0.001], <None> [0.001], <None> [0.001], <None> [0.001], <None> [0.001], <None> [0.001], <None> [0.001], <None> [0.001], <None> [0.001], <None> [0.001], <None> [0.001], <startseq> [1.], <frontal> [1.], <(> [1.], <on> [1.], <two> [1.], <cassettes> [1.], <)> [1.], <and> [1.], <lateral> [1.], <views> [1.], <of> [1.], <the> [1.], <chest> [1.], <with> [1.], <overlying> [1.] , \t next_word: external\n",
      "--- 138 ---\n",
      "[3819_IM-1926-1001.dcm.png], input_seq: <None> [0.001], <None> [0.001], <None> [0.001], <None> [0.001], <None> [0.001], <None> [0.001], <None> [0.001], <None> [0.001], <None> [0.001], <None> [0.001], <None> [0.001], <None> [0.001], <None> [0.001], <None> [0.001], <None> [0.001], <None> [0.001], <None> [0.001], <None> [0.001], <None> [0.001], <None> [0.001], <None> [0.001], <None> [0.001], <None> [0.001], <None> [0.001], <None> [0.001], <None> [0.001], <None> [0.001], <None> [0.001], <None> [0.001], <None> [0.001], <None> [0.001], <None> [0.001], <None> [0.001], <None> [0.001], <None> [0.001], <None> [0.001], <None> [0.001], <None> [0.001], <None> [0.001], <None> [0.001], <None> [0.001], <None> [0.001], <None> [0.001], <None> [0.001], <startseq> [1.], <frontal> [1.], <(> [1.], <on> [1.], <two> [1.], <cassettes> [1.], <)> [1.], <and> [1.], <lateral> [1.], <views> [1.], <of> [1.], <the> [1.], <chest> [1.], <with> [1.], <overlying> [1.], <external> [1.] , \t next_word: cardiac\n",
      "--- 139 ---\n",
      "[3819_IM-1926-1001.dcm.png], input_seq: <None> [0.001], <None> [0.001], <None> [0.001], <None> [0.001], <None> [0.001], <None> [0.001], <None> [0.001], <None> [0.001], <None> [0.001], <None> [0.001], <None> [0.001], <None> [0.001], <None> [0.001], <None> [0.001], <None> [0.001], <None> [0.001], <None> [0.001], <None> [0.001], <None> [0.001], <None> [0.001], <None> [0.001], <None> [0.001], <None> [0.001], <None> [0.001], <None> [0.001], <None> [0.001], <None> [0.001], <None> [0.001], <None> [0.001], <None> [0.001], <None> [0.001], <None> [0.001], <None> [0.001], <None> [0.001], <None> [0.001], <None> [0.001], <None> [0.001], <None> [0.001], <None> [0.001], <None> [0.001], <None> [0.001], <None> [0.001], <None> [0.001], <startseq> [1.], <frontal> [1.], <(> [1.], <on> [1.], <two> [1.], <cassettes> [1.], <)> [1.], <and> [1.], <lateral> [1.], <views> [1.], <of> [1.], <the> [1.], <chest> [1.], <with> [1.], <overlying> [1.], <external> [1.], <cardiac> [1.] , \t next_word: monitor\n",
      "--- 140 ---\n",
      "[3819_IM-1926-1001.dcm.png], input_seq: <None> [0.001], <None> [0.001], <None> [0.001], <None> [0.001], <None> [0.001], <None> [0.001], <None> [0.001], <None> [0.001], <None> [0.001], <None> [0.001], <None> [0.001], <None> [0.001], <None> [0.001], <None> [0.001], <None> [0.001], <None> [0.001], <None> [0.001], <None> [0.001], <None> [0.001], <None> [0.001], <None> [0.001], <None> [0.001], <None> [0.001], <None> [0.001], <None> [0.001], <None> [0.001], <None> [0.001], <None> [0.001], <None> [0.001], <None> [0.001], <None> [0.001], <None> [0.001], <None> [0.001], <None> [0.001], <None> [0.001], <None> [0.001], <None> [0.001], <None> [0.001], <None> [0.001], <None> [0.001], <None> [0.001], <None> [0.001], <startseq> [1.], <frontal> [1.], <(> [1.], <on> [1.], <two> [1.], <cassettes> [1.], <)> [1.], <and> [1.], <lateral> [1.], <views> [1.], <of> [1.], <the> [1.], <chest> [1.], <with> [1.], <overlying> [1.], <external> [1.], <cardiac> [1.], <monitor> [1.] , \t next_word: leads\n",
      "--- 141 ---\n",
      "[3819_IM-1926-1001.dcm.png], input_seq: <None> [0.001], <None> [0.001], <None> [0.001], <None> [0.001], <None> [0.001], <None> [0.001], <None> [0.001], <None> [0.001], <None> [0.001], <None> [0.001], <None> [0.001], <None> [0.001], <None> [0.001], <None> [0.001], <None> [0.001], <None> [0.001], <None> [0.001], <None> [0.001], <None> [0.001], <None> [0.001], <None> [0.001], <None> [0.001], <None> [0.001], <None> [0.001], <None> [0.001], <None> [0.001], <None> [0.001], <None> [0.001], <None> [0.001], <None> [0.001], <None> [0.001], <None> [0.001], <None> [0.001], <None> [0.001], <None> [0.001], <None> [0.001], <None> [0.001], <None> [0.001], <None> [0.001], <None> [0.001], <None> [0.001], <startseq> [1.], <frontal> [1.], <(> [1.], <on> [1.], <two> [1.], <cassettes> [1.], <)> [1.], <and> [1.], <lateral> [1.], <views> [1.], <of> [1.], <the> [1.], <chest> [1.], <with> [1.], <overlying> [1.], <external> [1.], <cardiac> [1.], <monitor> [1.], <leads> [1.] , \t next_word: show\n",
      "--- 142 ---\n",
      "[3819_IM-1926-1001.dcm.png], input_seq: <None> [0.001], <None> [0.001], <None> [0.001], <None> [0.001], <None> [0.001], <None> [0.001], <None> [0.001], <None> [0.001], <None> [0.001], <None> [0.001], <None> [0.001], <None> [0.001], <None> [0.001], <None> [0.001], <None> [0.001], <None> [0.001], <None> [0.001], <None> [0.001], <None> [0.001], <None> [0.001], <None> [0.001], <None> [0.001], <None> [0.001], <None> [0.001], <None> [0.001], <None> [0.001], <None> [0.001], <None> [0.001], <None> [0.001], <None> [0.001], <None> [0.001], <None> [0.001], <None> [0.001], <None> [0.001], <None> [0.001], <None> [0.001], <None> [0.001], <None> [0.001], <None> [0.001], <None> [0.001], <startseq> [1.], <frontal> [1.], <(> [1.], <on> [1.], <two> [1.], <cassettes> [1.], <)> [1.], <and> [1.], <lateral> [1.], <views> [1.], <of> [1.], <the> [1.], <chest> [1.], <with> [1.], <overlying> [1.], <external> [1.], <cardiac> [1.], <monitor> [1.], <leads> [1.], <show> [1.] , \t next_word: an\n",
      "--- 143 ---\n",
      "[3819_IM-1926-1001.dcm.png], input_seq: <None> [0.001], <None> [0.001], <None> [0.001], <None> [0.001], <None> [0.001], <None> [0.001], <None> [0.001], <None> [0.001], <None> [0.001], <None> [0.001], <None> [0.001], <None> [0.001], <None> [0.001], <None> [0.001], <None> [0.001], <None> [0.001], <None> [0.001], <None> [0.001], <None> [0.001], <None> [0.001], <None> [0.001], <None> [0.001], <None> [0.001], <None> [0.001], <None> [0.001], <None> [0.001], <None> [0.001], <None> [0.001], <None> [0.001], <None> [0.001], <None> [0.001], <None> [0.001], <None> [0.001], <None> [0.001], <None> [0.001], <None> [0.001], <None> [0.001], <None> [0.001], <None> [0.001], <startseq> [1.], <frontal> [1.], <(> [1.], <on> [1.], <two> [1.], <cassettes> [1.], <)> [1.], <and> [1.], <lateral> [1.], <views> [1.], <of> [1.], <the> [1.], <chest> [1.], <with> [1.], <overlying> [1.], <external> [1.], <cardiac> [1.], <monitor> [1.], <leads> [1.], <show> [1.], <an> [1.] , \t next_word: unchanged\n",
      "--- 144 ---\n",
      "[3819_IM-1926-1001.dcm.png], input_seq: <None> [0.001], <None> [0.001], <None> [0.001], <None> [0.001], <None> [0.001], <None> [0.001], <None> [0.001], <None> [0.001], <None> [0.001], <None> [0.001], <None> [0.001], <None> [0.001], <None> [0.001], <None> [0.001], <None> [0.001], <None> [0.001], <None> [0.001], <None> [0.001], <None> [0.001], <None> [0.001], <None> [0.001], <None> [0.001], <None> [0.001], <None> [0.001], <None> [0.001], <None> [0.001], <None> [0.001], <None> [0.001], <None> [0.001], <None> [0.001], <None> [0.001], <None> [0.001], <None> [0.001], <None> [0.001], <None> [0.001], <None> [0.001], <None> [0.001], <None> [0.001], <startseq> [1.], <frontal> [1.], <(> [1.], <on> [1.], <two> [1.], <cassettes> [1.], <)> [1.], <and> [1.], <lateral> [1.], <views> [1.], <of> [1.], <the> [1.], <chest> [1.], <with> [1.], <overlying> [1.], <external> [1.], <cardiac> [1.], <monitor> [1.], <leads> [1.], <show> [1.], <an> [1.], <unchanged> [1.] , \t next_word: cardiomediastinal\n",
      "--- 145 ---\n",
      "[3819_IM-1926-1001.dcm.png], input_seq: <None> [0.001], <None> [0.001], <None> [0.001], <None> [0.001], <None> [0.001], <None> [0.001], <None> [0.001], <None> [0.001], <None> [0.001], <None> [0.001], <None> [0.001], <None> [0.001], <None> [0.001], <None> [0.001], <None> [0.001], <None> [0.001], <None> [0.001], <None> [0.001], <None> [0.001], <None> [0.001], <None> [0.001], <None> [0.001], <None> [0.001], <None> [0.001], <None> [0.001], <None> [0.001], <None> [0.001], <None> [0.001], <None> [0.001], <None> [0.001], <None> [0.001], <None> [0.001], <None> [0.001], <None> [0.001], <None> [0.001], <None> [0.001], <None> [0.001], <startseq> [1.], <frontal> [1.], <(> [1.], <on> [1.], <two> [1.], <cassettes> [1.], <)> [1.], <and> [1.], <lateral> [1.], <views> [1.], <of> [1.], <the> [1.], <chest> [1.], <with> [1.], <overlying> [1.], <external> [1.], <cardiac> [1.], <monitor> [1.], <leads> [1.], <show> [1.], <an> [1.], <unchanged> [1.], <cardiomediastinal> [1.] , \t next_word: silhouette\n",
      "--- 146 ---\n",
      "[3819_IM-1926-1001.dcm.png], input_seq: <None> [0.001], <None> [0.001], <None> [0.001], <None> [0.001], <None> [0.001], <None> [0.001], <None> [0.001], <None> [0.001], <None> [0.001], <None> [0.001], <None> [0.001], <None> [0.001], <None> [0.001], <None> [0.001], <None> [0.001], <None> [0.001], <None> [0.001], <None> [0.001], <None> [0.001], <None> [0.001], <None> [0.001], <None> [0.001], <None> [0.001], <None> [0.001], <None> [0.001], <None> [0.001], <None> [0.001], <None> [0.001], <None> [0.001], <None> [0.001], <None> [0.001], <None> [0.001], <None> [0.001], <None> [0.001], <None> [0.001], <None> [0.001], <startseq> [1.], <frontal> [1.], <(> [1.], <on> [1.], <two> [1.], <cassettes> [1.], <)> [1.], <and> [1.], <lateral> [1.], <views> [1.], <of> [1.], <the> [1.], <chest> [1.], <with> [1.], <overlying> [1.], <external> [1.], <cardiac> [1.], <monitor> [1.], <leads> [1.], <show> [1.], <an> [1.], <unchanged> [1.], <cardiomediastinal> [1.], <silhouette> [1.] , \t next_word: .\n",
      "--- 147 ---\n",
      "[3819_IM-1926-1001.dcm.png], input_seq: <None> [0.001], <None> [0.001], <None> [0.001], <None> [0.001], <None> [0.001], <None> [0.001], <None> [0.001], <None> [0.001], <None> [0.001], <None> [0.001], <None> [0.001], <None> [0.001], <None> [0.001], <None> [0.001], <None> [0.001], <None> [0.001], <None> [0.001], <None> [0.001], <None> [0.001], <None> [0.001], <None> [0.001], <None> [0.001], <None> [0.001], <None> [0.001], <None> [0.001], <None> [0.001], <None> [0.001], <None> [0.001], <None> [0.001], <None> [0.001], <None> [0.001], <None> [0.001], <None> [0.001], <None> [0.001], <None> [0.001], <startseq> [1.], <frontal> [1.], <(> [1.], <on> [1.], <two> [1.], <cassettes> [1.], <)> [1.], <and> [1.], <lateral> [1.], <views> [1.], <of> [1.], <the> [1.], <chest> [1.], <with> [1.], <overlying> [1.], <external> [1.], <cardiac> [1.], <monitor> [1.], <leads> [1.], <show> [1.], <an> [1.], <unchanged> [1.], <cardiomediastinal> [1.], <silhouette> [1.], <.> [1.] , \t next_word: the\n",
      "--- 148 ---\n",
      "[3819_IM-1926-1001.dcm.png], input_seq: <None> [0.001], <None> [0.001], <None> [0.001], <None> [0.001], <None> [0.001], <None> [0.001], <None> [0.001], <None> [0.001], <None> [0.001], <None> [0.001], <None> [0.001], <None> [0.001], <None> [0.001], <None> [0.001], <None> [0.001], <None> [0.001], <None> [0.001], <None> [0.001], <None> [0.001], <None> [0.001], <None> [0.001], <None> [0.001], <None> [0.001], <None> [0.001], <None> [0.001], <None> [0.001], <None> [0.001], <None> [0.001], <None> [0.001], <None> [0.001], <None> [0.001], <None> [0.001], <None> [0.001], <None> [0.001], <startseq> [1.], <frontal> [1.], <(> [1.], <on> [1.], <two> [1.], <cassettes> [1.], <)> [1.], <and> [1.], <lateral> [1.], <views> [1.], <of> [1.], <the> [1.], <chest> [1.], <with> [1.], <overlying> [1.], <external> [1.], <cardiac> [1.], <monitor> [1.], <leads> [1.], <show> [1.], <an> [1.], <unchanged> [1.], <cardiomediastinal> [1.], <silhouette> [1.], <.> [1.], <the> [1.] , \t next_word: cardiac\n",
      "--- 149 ---\n",
      "[3819_IM-1926-1001.dcm.png], input_seq: <None> [0.001], <None> [0.001], <None> [0.001], <None> [0.001], <None> [0.001], <None> [0.001], <None> [0.001], <None> [0.001], <None> [0.001], <None> [0.001], <None> [0.001], <None> [0.001], <None> [0.001], <None> [0.001], <None> [0.001], <None> [0.001], <None> [0.001], <None> [0.001], <None> [0.001], <None> [0.001], <None> [0.001], <None> [0.001], <None> [0.001], <None> [0.001], <None> [0.001], <None> [0.001], <None> [0.001], <None> [0.001], <None> [0.001], <None> [0.001], <None> [0.001], <None> [0.001], <None> [0.001], <startseq> [1.], <frontal> [1.], <(> [1.], <on> [1.], <two> [1.], <cassettes> [1.], <)> [1.], <and> [1.], <lateral> [1.], <views> [1.], <of> [1.], <the> [1.], <chest> [1.], <with> [1.], <overlying> [1.], <external> [1.], <cardiac> [1.], <monitor> [1.], <leads> [1.], <show> [1.], <an> [1.], <unchanged> [1.], <cardiomediastinal> [1.], <silhouette> [1.], <.> [1.], <the> [1.], <cardiac> [1.] , \t next_word: silhouette\n",
      "--- 150 ---\n",
      "[3819_IM-1926-1001.dcm.png], input_seq: <None> [0.001], <None> [0.001], <None> [0.001], <None> [0.001], <None> [0.001], <None> [0.001], <None> [0.001], <None> [0.001], <None> [0.001], <None> [0.001], <None> [0.001], <None> [0.001], <None> [0.001], <None> [0.001], <None> [0.001], <None> [0.001], <None> [0.001], <None> [0.001], <None> [0.001], <None> [0.001], <None> [0.001], <None> [0.001], <None> [0.001], <None> [0.001], <None> [0.001], <None> [0.001], <None> [0.001], <None> [0.001], <None> [0.001], <None> [0.001], <None> [0.001], <None> [0.001], <startseq> [1.], <frontal> [1.], <(> [1.], <on> [1.], <two> [1.], <cassettes> [1.], <)> [1.], <and> [1.], <lateral> [1.], <views> [1.], <of> [1.], <the> [1.], <chest> [1.], <with> [1.], <overlying> [1.], <external> [1.], <cardiac> [1.], <monitor> [1.], <leads> [1.], <show> [1.], <an> [1.], <unchanged> [1.], <cardiomediastinal> [1.], <silhouette> [1.], <.> [1.], <the> [1.], <cardiac> [1.], <silhouette> [1.] , \t next_word: remains\n",
      "--- 151 ---\n",
      "[3819_IM-1926-1001.dcm.png], input_seq: <None> [0.001], <None> [0.001], <None> [0.001], <None> [0.001], <None> [0.001], <None> [0.001], <None> [0.001], <None> [0.001], <None> [0.001], <None> [0.001], <None> [0.001], <None> [0.001], <None> [0.001], <None> [0.001], <None> [0.001], <None> [0.001], <None> [0.001], <None> [0.001], <None> [0.001], <None> [0.001], <None> [0.001], <None> [0.001], <None> [0.001], <None> [0.001], <None> [0.001], <None> [0.001], <None> [0.001], <None> [0.001], <None> [0.001], <None> [0.001], <None> [0.001], <startseq> [1.], <frontal> [1.], <(> [1.], <on> [1.], <two> [1.], <cassettes> [1.], <)> [1.], <and> [1.], <lateral> [1.], <views> [1.], <of> [1.], <the> [1.], <chest> [1.], <with> [1.], <overlying> [1.], <external> [1.], <cardiac> [1.], <monitor> [1.], <leads> [1.], <show> [1.], <an> [1.], <unchanged> [1.], <cardiomediastinal> [1.], <silhouette> [1.], <.> [1.], <the> [1.], <cardiac> [1.], <silhouette> [1.], <remains> [1.] , \t next_word: markedly\n",
      "--- 152 ---\n",
      "[3819_IM-1926-1001.dcm.png], input_seq: <None> [0.001], <None> [0.001], <None> [0.001], <None> [0.001], <None> [0.001], <None> [0.001], <None> [0.001], <None> [0.001], <None> [0.001], <None> [0.001], <None> [0.001], <None> [0.001], <None> [0.001], <None> [0.001], <None> [0.001], <None> [0.001], <None> [0.001], <None> [0.001], <None> [0.001], <None> [0.001], <None> [0.001], <None> [0.001], <None> [0.001], <None> [0.001], <None> [0.001], <None> [0.001], <None> [0.001], <None> [0.001], <None> [0.001], <None> [0.001], <startseq> [1.], <frontal> [1.], <(> [1.], <on> [1.], <two> [1.], <cassettes> [1.], <)> [1.], <and> [1.], <lateral> [1.], <views> [1.], <of> [1.], <the> [1.], <chest> [1.], <with> [1.], <overlying> [1.], <external> [1.], <cardiac> [1.], <monitor> [1.], <leads> [1.], <show> [1.], <an> [1.], <unchanged> [1.], <cardiomediastinal> [1.], <silhouette> [1.], <.> [1.], <the> [1.], <cardiac> [1.], <silhouette> [1.], <remains> [1.], <markedly> [1.] , \t next_word: enlarged\n",
      "--- 153 ---\n",
      "[3819_IM-1926-1001.dcm.png], input_seq: <None> [0.001], <None> [0.001], <None> [0.001], <None> [0.001], <None> [0.001], <None> [0.001], <None> [0.001], <None> [0.001], <None> [0.001], <None> [0.001], <None> [0.001], <None> [0.001], <None> [0.001], <None> [0.001], <None> [0.001], <None> [0.001], <None> [0.001], <None> [0.001], <None> [0.001], <None> [0.001], <None> [0.001], <None> [0.001], <None> [0.001], <None> [0.001], <None> [0.001], <None> [0.001], <None> [0.001], <None> [0.001], <None> [0.001], <startseq> [1.], <frontal> [1.], <(> [1.], <on> [1.], <two> [1.], <cassettes> [1.], <)> [1.], <and> [1.], <lateral> [1.], <views> [1.], <of> [1.], <the> [1.], <chest> [1.], <with> [1.], <overlying> [1.], <external> [1.], <cardiac> [1.], <monitor> [1.], <leads> [1.], <show> [1.], <an> [1.], <unchanged> [1.], <cardiomediastinal> [1.], <silhouette> [1.], <.> [1.], <the> [1.], <cardiac> [1.], <silhouette> [1.], <remains> [1.], <markedly> [1.], <enlarged> [1.] , \t next_word: .\n",
      "--- 154 ---\n",
      "[3819_IM-1926-1001.dcm.png], input_seq: <None> [0.001], <None> [0.001], <None> [0.001], <None> [0.001], <None> [0.001], <None> [0.001], <None> [0.001], <None> [0.001], <None> [0.001], <None> [0.001], <None> [0.001], <None> [0.001], <None> [0.001], <None> [0.001], <None> [0.001], <None> [0.001], <None> [0.001], <None> [0.001], <None> [0.001], <None> [0.001], <None> [0.001], <None> [0.001], <None> [0.001], <None> [0.001], <None> [0.001], <None> [0.001], <None> [0.001], <None> [0.001], <startseq> [1.], <frontal> [1.], <(> [1.], <on> [1.], <two> [1.], <cassettes> [1.], <)> [1.], <and> [1.], <lateral> [1.], <views> [1.], <of> [1.], <the> [1.], <chest> [1.], <with> [1.], <overlying> [1.], <external> [1.], <cardiac> [1.], <monitor> [1.], <leads> [1.], <show> [1.], <an> [1.], <unchanged> [1.], <cardiomediastinal> [1.], <silhouette> [1.], <.> [1.], <the> [1.], <cardiac> [1.], <silhouette> [1.], <remains> [1.], <markedly> [1.], <enlarged> [1.], <.> [1.] , \t next_word: there\n",
      "--- 155 ---\n",
      "[3819_IM-1926-1001.dcm.png], input_seq: <None> [0.001], <None> [0.001], <None> [0.001], <None> [0.001], <None> [0.001], <None> [0.001], <None> [0.001], <None> [0.001], <None> [0.001], <None> [0.001], <None> [0.001], <None> [0.001], <None> [0.001], <None> [0.001], <None> [0.001], <None> [0.001], <None> [0.001], <None> [0.001], <None> [0.001], <None> [0.001], <None> [0.001], <None> [0.001], <None> [0.001], <None> [0.001], <None> [0.001], <None> [0.001], <None> [0.001], <startseq> [1.], <frontal> [1.], <(> [1.], <on> [1.], <two> [1.], <cassettes> [1.], <)> [1.], <and> [1.], <lateral> [1.], <views> [1.], <of> [1.], <the> [1.], <chest> [1.], <with> [1.], <overlying> [1.], <external> [1.], <cardiac> [1.], <monitor> [1.], <leads> [1.], <show> [1.], <an> [1.], <unchanged> [1.], <cardiomediastinal> [1.], <silhouette> [1.], <.> [1.], <the> [1.], <cardiac> [1.], <silhouette> [1.], <remains> [1.], <markedly> [1.], <enlarged> [1.], <.> [1.], <there> [1.] , \t next_word: is\n",
      "--- 156 ---\n",
      "[3819_IM-1926-1001.dcm.png], input_seq: <None> [0.001], <None> [0.001], <None> [0.001], <None> [0.001], <None> [0.001], <None> [0.001], <None> [0.001], <None> [0.001], <None> [0.001], <None> [0.001], <None> [0.001], <None> [0.001], <None> [0.001], <None> [0.001], <None> [0.001], <None> [0.001], <None> [0.001], <None> [0.001], <None> [0.001], <None> [0.001], <None> [0.001], <None> [0.001], <None> [0.001], <None> [0.001], <None> [0.001], <None> [0.001], <startseq> [1.], <frontal> [1.], <(> [1.], <on> [1.], <two> [1.], <cassettes> [1.], <)> [1.], <and> [1.], <lateral> [1.], <views> [1.], <of> [1.], <the> [1.], <chest> [1.], <with> [1.], <overlying> [1.], <external> [1.], <cardiac> [1.], <monitor> [1.], <leads> [1.], <show> [1.], <an> [1.], <unchanged> [1.], <cardiomediastinal> [1.], <silhouette> [1.], <.> [1.], <the> [1.], <cardiac> [1.], <silhouette> [1.], <remains> [1.], <markedly> [1.], <enlarged> [1.], <.> [1.], <there> [1.], <is> [1.] , \t next_word: aortic\n",
      "--- 157 ---\n",
      "[3819_IM-1926-1001.dcm.png], input_seq: <None> [0.001], <None> [0.001], <None> [0.001], <None> [0.001], <None> [0.001], <None> [0.001], <None> [0.001], <None> [0.001], <None> [0.001], <None> [0.001], <None> [0.001], <None> [0.001], <None> [0.001], <None> [0.001], <None> [0.001], <None> [0.001], <None> [0.001], <None> [0.001], <None> [0.001], <None> [0.001], <None> [0.001], <None> [0.001], <None> [0.001], <None> [0.001], <None> [0.001], <startseq> [1.], <frontal> [1.], <(> [1.], <on> [1.], <two> [1.], <cassettes> [1.], <)> [1.], <and> [1.], <lateral> [1.], <views> [1.], <of> [1.], <the> [1.], <chest> [1.], <with> [1.], <overlying> [1.], <external> [1.], <cardiac> [1.], <monitor> [1.], <leads> [1.], <show> [1.], <an> [1.], <unchanged> [1.], <cardiomediastinal> [1.], <silhouette> [1.], <.> [1.], <the> [1.], <cardiac> [1.], <silhouette> [1.], <remains> [1.], <markedly> [1.], <enlarged> [1.], <.> [1.], <there> [1.], <is> [1.], <aortic> [1.] , \t next_word: xxxx\n",
      "--- 158 ---\n",
      "[3819_IM-1926-1001.dcm.png], input_seq: <None> [0.001], <None> [0.001], <None> [0.001], <None> [0.001], <None> [0.001], <None> [0.001], <None> [0.001], <None> [0.001], <None> [0.001], <None> [0.001], <None> [0.001], <None> [0.001], <None> [0.001], <None> [0.001], <None> [0.001], <None> [0.001], <None> [0.001], <None> [0.001], <None> [0.001], <None> [0.001], <None> [0.001], <None> [0.001], <None> [0.001], <None> [0.001], <startseq> [1.], <frontal> [1.], <(> [1.], <on> [1.], <two> [1.], <cassettes> [1.], <)> [1.], <and> [1.], <lateral> [1.], <views> [1.], <of> [1.], <the> [1.], <chest> [1.], <with> [1.], <overlying> [1.], <external> [1.], <cardiac> [1.], <monitor> [1.], <leads> [1.], <show> [1.], <an> [1.], <unchanged> [1.], <cardiomediastinal> [1.], <silhouette> [1.], <.> [1.], <the> [1.], <cardiac> [1.], <silhouette> [1.], <remains> [1.], <markedly> [1.], <enlarged> [1.], <.> [1.], <there> [1.], <is> [1.], <aortic> [1.], <xxxx> [1.] , \t next_word: vascular\n",
      "--- 159 ---\n",
      "[3819_IM-1926-1001.dcm.png], input_seq: <None> [0.001], <None> [0.001], <None> [0.001], <None> [0.001], <None> [0.001], <None> [0.001], <None> [0.001], <None> [0.001], <None> [0.001], <None> [0.001], <None> [0.001], <None> [0.001], <None> [0.001], <None> [0.001], <None> [0.001], <None> [0.001], <None> [0.001], <None> [0.001], <None> [0.001], <None> [0.001], <None> [0.001], <None> [0.001], <None> [0.001], <startseq> [1.], <frontal> [1.], <(> [1.], <on> [1.], <two> [1.], <cassettes> [1.], <)> [1.], <and> [1.], <lateral> [1.], <views> [1.], <of> [1.], <the> [1.], <chest> [1.], <with> [1.], <overlying> [1.], <external> [1.], <cardiac> [1.], <monitor> [1.], <leads> [1.], <show> [1.], <an> [1.], <unchanged> [1.], <cardiomediastinal> [1.], <silhouette> [1.], <.> [1.], <the> [1.], <cardiac> [1.], <silhouette> [1.], <remains> [1.], <markedly> [1.], <enlarged> [1.], <.> [1.], <there> [1.], <is> [1.], <aortic> [1.], <xxxx> [1.], <vascular> [1.] , \t next_word: calcification\n",
      "--- 160 ---\n",
      "[3819_IM-1926-1001.dcm.png], input_seq: <None> [0.001], <None> [0.001], <None> [0.001], <None> [0.001], <None> [0.001], <None> [0.001], <None> [0.001], <None> [0.001], <None> [0.001], <None> [0.001], <None> [0.001], <None> [0.001], <None> [0.001], <None> [0.001], <None> [0.001], <None> [0.001], <None> [0.001], <None> [0.001], <None> [0.001], <None> [0.001], <None> [0.001], <None> [0.001], <startseq> [1.], <frontal> [1.], <(> [1.], <on> [1.], <two> [1.], <cassettes> [1.], <)> [1.], <and> [1.], <lateral> [1.], <views> [1.], <of> [1.], <the> [1.], <chest> [1.], <with> [1.], <overlying> [1.], <external> [1.], <cardiac> [1.], <monitor> [1.], <leads> [1.], <show> [1.], <an> [1.], <unchanged> [1.], <cardiomediastinal> [1.], <silhouette> [1.], <.> [1.], <the> [1.], <cardiac> [1.], <silhouette> [1.], <remains> [1.], <markedly> [1.], <enlarged> [1.], <.> [1.], <there> [1.], <is> [1.], <aortic> [1.], <xxxx> [1.], <vascular> [1.], <calcification> [1.] , \t next_word: .\n",
      "--- 161 ---\n",
      "[3819_IM-1926-1001.dcm.png], input_seq: <None> [0.001], <None> [0.001], <None> [0.001], <None> [0.001], <None> [0.001], <None> [0.001], <None> [0.001], <None> [0.001], <None> [0.001], <None> [0.001], <None> [0.001], <None> [0.001], <None> [0.001], <None> [0.001], <None> [0.001], <None> [0.001], <None> [0.001], <None> [0.001], <None> [0.001], <None> [0.001], <None> [0.001], <startseq> [1.], <frontal> [1.], <(> [1.], <on> [1.], <two> [1.], <cassettes> [1.], <)> [1.], <and> [1.], <lateral> [1.], <views> [1.], <of> [1.], <the> [1.], <chest> [1.], <with> [1.], <overlying> [1.], <external> [1.], <cardiac> [1.], <monitor> [1.], <leads> [1.], <show> [1.], <an> [1.], <unchanged> [1.], <cardiomediastinal> [1.], <silhouette> [1.], <.> [1.], <the> [1.], <cardiac> [1.], <silhouette> [1.], <remains> [1.], <markedly> [1.], <enlarged> [1.], <.> [1.], <there> [1.], <is> [1.], <aortic> [1.], <xxxx> [1.], <vascular> [1.], <calcification> [1.], <.> [1.] , \t next_word: no\n",
      "--- 162 ---\n",
      "[3819_IM-1926-1001.dcm.png], input_seq: <None> [0.001], <None> [0.001], <None> [0.001], <None> [0.001], <None> [0.001], <None> [0.001], <None> [0.001], <None> [0.001], <None> [0.001], <None> [0.001], <None> [0.001], <None> [0.001], <None> [0.001], <None> [0.001], <None> [0.001], <None> [0.001], <None> [0.001], <None> [0.001], <None> [0.001], <None> [0.001], <startseq> [1.], <frontal> [1.], <(> [1.], <on> [1.], <two> [1.], <cassettes> [1.], <)> [1.], <and> [1.], <lateral> [1.], <views> [1.], <of> [1.], <the> [1.], <chest> [1.], <with> [1.], <overlying> [1.], <external> [1.], <cardiac> [1.], <monitor> [1.], <leads> [1.], <show> [1.], <an> [1.], <unchanged> [1.], <cardiomediastinal> [1.], <silhouette> [1.], <.> [1.], <the> [1.], <cardiac> [1.], <silhouette> [1.], <remains> [1.], <markedly> [1.], <enlarged> [1.], <.> [1.], <there> [1.], <is> [1.], <aortic> [1.], <xxxx> [1.], <vascular> [1.], <calcification> [1.], <.> [1.], <no> [1.] , \t next_word: xxxx\n",
      "--- 163 ---\n",
      "[3819_IM-1926-1001.dcm.png], input_seq: <None> [0.001], <None> [0.001], <None> [0.001], <None> [0.001], <None> [0.001], <None> [0.001], <None> [0.001], <None> [0.001], <None> [0.001], <None> [0.001], <None> [0.001], <None> [0.001], <None> [0.001], <None> [0.001], <None> [0.001], <None> [0.001], <None> [0.001], <None> [0.001], <None> [0.001], <startseq> [1.], <frontal> [1.], <(> [1.], <on> [1.], <two> [1.], <cassettes> [1.], <)> [1.], <and> [1.], <lateral> [1.], <views> [1.], <of> [1.], <the> [1.], <chest> [1.], <with> [1.], <overlying> [1.], <external> [1.], <cardiac> [1.], <monitor> [1.], <leads> [1.], <show> [1.], <an> [1.], <unchanged> [1.], <cardiomediastinal> [1.], <silhouette> [1.], <.> [1.], <the> [1.], <cardiac> [1.], <silhouette> [1.], <remains> [1.], <markedly> [1.], <enlarged> [1.], <.> [1.], <there> [1.], <is> [1.], <aortic> [1.], <xxxx> [1.], <vascular> [1.], <calcification> [1.], <.> [1.], <no> [1.], <xxxx> [1.] , \t next_word: focal\n",
      "--- 164 ---\n",
      "[3819_IM-1926-1001.dcm.png], input_seq: <None> [0.001], <None> [0.001], <None> [0.001], <None> [0.001], <None> [0.001], <None> [0.001], <None> [0.001], <None> [0.001], <None> [0.001], <None> [0.001], <None> [0.001], <None> [0.001], <None> [0.001], <None> [0.001], <None> [0.001], <None> [0.001], <None> [0.001], <None> [0.001], <startseq> [1.], <frontal> [1.], <(> [1.], <on> [1.], <two> [1.], <cassettes> [1.], <)> [1.], <and> [1.], <lateral> [1.], <views> [1.], <of> [1.], <the> [1.], <chest> [1.], <with> [1.], <overlying> [1.], <external> [1.], <cardiac> [1.], <monitor> [1.], <leads> [1.], <show> [1.], <an> [1.], <unchanged> [1.], <cardiomediastinal> [1.], <silhouette> [1.], <.> [1.], <the> [1.], <cardiac> [1.], <silhouette> [1.], <remains> [1.], <markedly> [1.], <enlarged> [1.], <.> [1.], <there> [1.], <is> [1.], <aortic> [1.], <xxxx> [1.], <vascular> [1.], <calcification> [1.], <.> [1.], <no> [1.], <xxxx> [1.], <focal> [1.] , \t next_word: airspace\n",
      "--- 165 ---\n",
      "[3819_IM-1926-1001.dcm.png], input_seq: <None> [0.001], <None> [0.001], <None> [0.001], <None> [0.001], <None> [0.001], <None> [0.001], <None> [0.001], <None> [0.001], <None> [0.001], <None> [0.001], <None> [0.001], <None> [0.001], <None> [0.001], <None> [0.001], <None> [0.001], <None> [0.001], <None> [0.001], <startseq> [1.], <frontal> [1.], <(> [1.], <on> [1.], <two> [1.], <cassettes> [1.], <)> [1.], <and> [1.], <lateral> [1.], <views> [1.], <of> [1.], <the> [1.], <chest> [1.], <with> [1.], <overlying> [1.], <external> [1.], <cardiac> [1.], <monitor> [1.], <leads> [1.], <show> [1.], <an> [1.], <unchanged> [1.], <cardiomediastinal> [1.], <silhouette> [1.], <.> [1.], <the> [1.], <cardiac> [1.], <silhouette> [1.], <remains> [1.], <markedly> [1.], <enlarged> [1.], <.> [1.], <there> [1.], <is> [1.], <aortic> [1.], <xxxx> [1.], <vascular> [1.], <calcification> [1.], <.> [1.], <no> [1.], <xxxx> [1.], <focal> [1.], <airspace> [1.] , \t next_word: consolidation\n",
      "--- 166 ---\n",
      "[3819_IM-1926-1001.dcm.png], input_seq: <None> [0.001], <None> [0.001], <None> [0.001], <None> [0.001], <None> [0.001], <None> [0.001], <None> [0.001], <None> [0.001], <None> [0.001], <None> [0.001], <None> [0.001], <None> [0.001], <None> [0.001], <None> [0.001], <None> [0.001], <None> [0.001], <startseq> [1.], <frontal> [1.], <(> [1.], <on> [1.], <two> [1.], <cassettes> [1.], <)> [1.], <and> [1.], <lateral> [1.], <views> [1.], <of> [1.], <the> [1.], <chest> [1.], <with> [1.], <overlying> [1.], <external> [1.], <cardiac> [1.], <monitor> [1.], <leads> [1.], <show> [1.], <an> [1.], <unchanged> [1.], <cardiomediastinal> [1.], <silhouette> [1.], <.> [1.], <the> [1.], <cardiac> [1.], <silhouette> [1.], <remains> [1.], <markedly> [1.], <enlarged> [1.], <.> [1.], <there> [1.], <is> [1.], <aortic> [1.], <xxxx> [1.], <vascular> [1.], <calcification> [1.], <.> [1.], <no> [1.], <xxxx> [1.], <focal> [1.], <airspace> [1.], <consolidation> [1.] , \t next_word: or\n",
      "--- 167 ---\n",
      "[3819_IM-1926-1001.dcm.png], input_seq: <None> [0.001], <None> [0.001], <None> [0.001], <None> [0.001], <None> [0.001], <None> [0.001], <None> [0.001], <None> [0.001], <None> [0.001], <None> [0.001], <None> [0.001], <None> [0.001], <None> [0.001], <None> [0.001], <None> [0.001], <startseq> [1.], <frontal> [1.], <(> [1.], <on> [1.], <two> [1.], <cassettes> [1.], <)> [1.], <and> [1.], <lateral> [1.], <views> [1.], <of> [1.], <the> [1.], <chest> [1.], <with> [1.], <overlying> [1.], <external> [1.], <cardiac> [1.], <monitor> [1.], <leads> [1.], <show> [1.], <an> [1.], <unchanged> [1.], <cardiomediastinal> [1.], <silhouette> [1.], <.> [1.], <the> [1.], <cardiac> [1.], <silhouette> [1.], <remains> [1.], <markedly> [1.], <enlarged> [1.], <.> [1.], <there> [1.], <is> [1.], <aortic> [1.], <xxxx> [1.], <vascular> [1.], <calcification> [1.], <.> [1.], <no> [1.], <xxxx> [1.], <focal> [1.], <airspace> [1.], <consolidation> [1.], <or> [1.] , \t next_word: pleural\n",
      "--- 168 ---\n",
      "[3819_IM-1926-1001.dcm.png], input_seq: <None> [0.001], <None> [0.001], <None> [0.001], <None> [0.001], <None> [0.001], <None> [0.001], <None> [0.001], <None> [0.001], <None> [0.001], <None> [0.001], <None> [0.001], <None> [0.001], <None> [0.001], <None> [0.001], <startseq> [1.], <frontal> [1.], <(> [1.], <on> [1.], <two> [1.], <cassettes> [1.], <)> [1.], <and> [1.], <lateral> [1.], <views> [1.], <of> [1.], <the> [1.], <chest> [1.], <with> [1.], <overlying> [1.], <external> [1.], <cardiac> [1.], <monitor> [1.], <leads> [1.], <show> [1.], <an> [1.], <unchanged> [1.], <cardiomediastinal> [1.], <silhouette> [1.], <.> [1.], <the> [1.], <cardiac> [1.], <silhouette> [1.], <remains> [1.], <markedly> [1.], <enlarged> [1.], <.> [1.], <there> [1.], <is> [1.], <aortic> [1.], <xxxx> [1.], <vascular> [1.], <calcification> [1.], <.> [1.], <no> [1.], <xxxx> [1.], <focal> [1.], <airspace> [1.], <consolidation> [1.], <or> [1.], <pleural> [1.] , \t next_word: effusion\n",
      "--- 169 ---\n",
      "[3819_IM-1926-1001.dcm.png], input_seq: <None> [0.001], <None> [0.001], <None> [0.001], <None> [0.001], <None> [0.001], <None> [0.001], <None> [0.001], <None> [0.001], <None> [0.001], <None> [0.001], <None> [0.001], <None> [0.001], <None> [0.001], <startseq> [1.], <frontal> [1.], <(> [1.], <on> [1.], <two> [1.], <cassettes> [1.], <)> [1.], <and> [1.], <lateral> [1.], <views> [1.], <of> [1.], <the> [1.], <chest> [1.], <with> [1.], <overlying> [1.], <external> [1.], <cardiac> [1.], <monitor> [1.], <leads> [1.], <show> [1.], <an> [1.], <unchanged> [1.], <cardiomediastinal> [1.], <silhouette> [1.], <.> [1.], <the> [1.], <cardiac> [1.], <silhouette> [1.], <remains> [1.], <markedly> [1.], <enlarged> [1.], <.> [1.], <there> [1.], <is> [1.], <aortic> [1.], <xxxx> [1.], <vascular> [1.], <calcification> [1.], <.> [1.], <no> [1.], <xxxx> [1.], <focal> [1.], <airspace> [1.], <consolidation> [1.], <or> [1.], <pleural> [1.], <effusion> [1.] , \t next_word: .\n",
      "--- 170 ---\n",
      "[3819_IM-1926-1001.dcm.png], input_seq: <None> [0.001], <None> [0.001], <None> [0.001], <None> [0.001], <None> [0.001], <None> [0.001], <None> [0.001], <None> [0.001], <None> [0.001], <None> [0.001], <None> [0.001], <None> [0.001], <startseq> [1.], <frontal> [1.], <(> [1.], <on> [1.], <two> [1.], <cassettes> [1.], <)> [1.], <and> [1.], <lateral> [1.], <views> [1.], <of> [1.], <the> [1.], <chest> [1.], <with> [1.], <overlying> [1.], <external> [1.], <cardiac> [1.], <monitor> [1.], <leads> [1.], <show> [1.], <an> [1.], <unchanged> [1.], <cardiomediastinal> [1.], <silhouette> [1.], <.> [1.], <the> [1.], <cardiac> [1.], <silhouette> [1.], <remains> [1.], <markedly> [1.], <enlarged> [1.], <.> [1.], <there> [1.], <is> [1.], <aortic> [1.], <xxxx> [1.], <vascular> [1.], <calcification> [1.], <.> [1.], <no> [1.], <xxxx> [1.], <focal> [1.], <airspace> [1.], <consolidation> [1.], <or> [1.], <pleural> [1.], <effusion> [1.], <.> [1.] , \t next_word: endseq\n",
      "--- 171 ---\n",
      "[1588_IM-0382-1001.dcm.png], input_seq: <None> [0.001], <None> [0.001], <None> [0.001], <None> [0.001], <None> [0.001], <None> [0.001], <None> [0.001], <None> [0.001], <None> [0.001], <None> [0.001], <None> [0.001], <None> [0.001], <None> [0.001], <None> [0.001], <None> [0.001], <None> [0.001], <None> [0.001], <None> [0.001], <None> [0.001], <None> [0.001], <None> [0.001], <None> [0.001], <None> [0.001], <None> [0.001], <None> [0.001], <None> [0.001], <None> [0.001], <None> [0.001], <None> [0.001], <None> [0.001], <None> [0.001], <None> [0.001], <None> [0.001], <None> [0.001], <None> [0.001], <None> [0.001], <None> [0.001], <None> [0.001], <None> [0.001], <None> [0.001], <None> [0.001], <None> [0.001], <None> [0.001], <None> [0.001], <None> [0.001], <None> [0.001], <None> [0.001], <None> [0.001], <None> [0.001], <None> [0.001], <None> [0.001], <None> [0.001], <None> [0.001], <None> [0.001], <None> [0.001], <None> [0.001], <None> [0.001], <None> [0.001], <None> [0.001], <startseq> [1.] , \t next_word: heart\n",
      "--- 172 ---\n",
      "[1588_IM-0382-1001.dcm.png], input_seq: <None> [0.001], <None> [0.001], <None> [0.001], <None> [0.001], <None> [0.001], <None> [0.001], <None> [0.001], <None> [0.001], <None> [0.001], <None> [0.001], <None> [0.001], <None> [0.001], <None> [0.001], <None> [0.001], <None> [0.001], <None> [0.001], <None> [0.001], <None> [0.001], <None> [0.001], <None> [0.001], <None> [0.001], <None> [0.001], <None> [0.001], <None> [0.001], <None> [0.001], <None> [0.001], <None> [0.001], <None> [0.001], <None> [0.001], <None> [0.001], <None> [0.001], <None> [0.001], <None> [0.001], <None> [0.001], <None> [0.001], <None> [0.001], <None> [0.001], <None> [0.001], <None> [0.001], <None> [0.001], <None> [0.001], <None> [0.001], <None> [0.001], <None> [0.001], <None> [0.001], <None> [0.001], <None> [0.001], <None> [0.001], <None> [0.001], <None> [0.001], <None> [0.001], <None> [0.001], <None> [0.001], <None> [0.001], <None> [0.001], <None> [0.001], <None> [0.001], <None> [0.001], <startseq> [1.], <heart> [1.] , \t next_word: size\n",
      "--- 173 ---\n",
      "[1588_IM-0382-1001.dcm.png], input_seq: <None> [0.001], <None> [0.001], <None> [0.001], <None> [0.001], <None> [0.001], <None> [0.001], <None> [0.001], <None> [0.001], <None> [0.001], <None> [0.001], <None> [0.001], <None> [0.001], <None> [0.001], <None> [0.001], <None> [0.001], <None> [0.001], <None> [0.001], <None> [0.001], <None> [0.001], <None> [0.001], <None> [0.001], <None> [0.001], <None> [0.001], <None> [0.001], <None> [0.001], <None> [0.001], <None> [0.001], <None> [0.001], <None> [0.001], <None> [0.001], <None> [0.001], <None> [0.001], <None> [0.001], <None> [0.001], <None> [0.001], <None> [0.001], <None> [0.001], <None> [0.001], <None> [0.001], <None> [0.001], <None> [0.001], <None> [0.001], <None> [0.001], <None> [0.001], <None> [0.001], <None> [0.001], <None> [0.001], <None> [0.001], <None> [0.001], <None> [0.001], <None> [0.001], <None> [0.001], <None> [0.001], <None> [0.001], <None> [0.001], <None> [0.001], <None> [0.001], <startseq> [1.], <heart> [1.], <size> [1.] , \t next_word: normal\n",
      "--- 174 ---\n",
      "[1588_IM-0382-1001.dcm.png], input_seq: <None> [0.001], <None> [0.001], <None> [0.001], <None> [0.001], <None> [0.001], <None> [0.001], <None> [0.001], <None> [0.001], <None> [0.001], <None> [0.001], <None> [0.001], <None> [0.001], <None> [0.001], <None> [0.001], <None> [0.001], <None> [0.001], <None> [0.001], <None> [0.001], <None> [0.001], <None> [0.001], <None> [0.001], <None> [0.001], <None> [0.001], <None> [0.001], <None> [0.001], <None> [0.001], <None> [0.001], <None> [0.001], <None> [0.001], <None> [0.001], <None> [0.001], <None> [0.001], <None> [0.001], <None> [0.001], <None> [0.001], <None> [0.001], <None> [0.001], <None> [0.001], <None> [0.001], <None> [0.001], <None> [0.001], <None> [0.001], <None> [0.001], <None> [0.001], <None> [0.001], <None> [0.001], <None> [0.001], <None> [0.001], <None> [0.001], <None> [0.001], <None> [0.001], <None> [0.001], <None> [0.001], <None> [0.001], <None> [0.001], <None> [0.001], <startseq> [1.], <heart> [1.], <size> [1.], <normal> [1.] , \t next_word: .\n",
      "--- 175 ---\n",
      "[1588_IM-0382-1001.dcm.png], input_seq: <None> [0.001], <None> [0.001], <None> [0.001], <None> [0.001], <None> [0.001], <None> [0.001], <None> [0.001], <None> [0.001], <None> [0.001], <None> [0.001], <None> [0.001], <None> [0.001], <None> [0.001], <None> [0.001], <None> [0.001], <None> [0.001], <None> [0.001], <None> [0.001], <None> [0.001], <None> [0.001], <None> [0.001], <None> [0.001], <None> [0.001], <None> [0.001], <None> [0.001], <None> [0.001], <None> [0.001], <None> [0.001], <None> [0.001], <None> [0.001], <None> [0.001], <None> [0.001], <None> [0.001], <None> [0.001], <None> [0.001], <None> [0.001], <None> [0.001], <None> [0.001], <None> [0.001], <None> [0.001], <None> [0.001], <None> [0.001], <None> [0.001], <None> [0.001], <None> [0.001], <None> [0.001], <None> [0.001], <None> [0.001], <None> [0.001], <None> [0.001], <None> [0.001], <None> [0.001], <None> [0.001], <None> [0.001], <None> [0.001], <startseq> [1.], <heart> [1.], <size> [1.], <normal> [1.], <.> [1.] , \t next_word: lungs\n",
      "--- 176 ---\n",
      "[1588_IM-0382-1001.dcm.png], input_seq: <None> [0.001], <None> [0.001], <None> [0.001], <None> [0.001], <None> [0.001], <None> [0.001], <None> [0.001], <None> [0.001], <None> [0.001], <None> [0.001], <None> [0.001], <None> [0.001], <None> [0.001], <None> [0.001], <None> [0.001], <None> [0.001], <None> [0.001], <None> [0.001], <None> [0.001], <None> [0.001], <None> [0.001], <None> [0.001], <None> [0.001], <None> [0.001], <None> [0.001], <None> [0.001], <None> [0.001], <None> [0.001], <None> [0.001], <None> [0.001], <None> [0.001], <None> [0.001], <None> [0.001], <None> [0.001], <None> [0.001], <None> [0.001], <None> [0.001], <None> [0.001], <None> [0.001], <None> [0.001], <None> [0.001], <None> [0.001], <None> [0.001], <None> [0.001], <None> [0.001], <None> [0.001], <None> [0.001], <None> [0.001], <None> [0.001], <None> [0.001], <None> [0.001], <None> [0.001], <None> [0.001], <None> [0.001], <startseq> [1.], <heart> [1.], <size> [1.], <normal> [1.], <.> [1.], <lungs> [1.] , \t next_word: are\n",
      "--- 177 ---\n",
      "[1588_IM-0382-1001.dcm.png], input_seq: <None> [0.001], <None> [0.001], <None> [0.001], <None> [0.001], <None> [0.001], <None> [0.001], <None> [0.001], <None> [0.001], <None> [0.001], <None> [0.001], <None> [0.001], <None> [0.001], <None> [0.001], <None> [0.001], <None> [0.001], <None> [0.001], <None> [0.001], <None> [0.001], <None> [0.001], <None> [0.001], <None> [0.001], <None> [0.001], <None> [0.001], <None> [0.001], <None> [0.001], <None> [0.001], <None> [0.001], <None> [0.001], <None> [0.001], <None> [0.001], <None> [0.001], <None> [0.001], <None> [0.001], <None> [0.001], <None> [0.001], <None> [0.001], <None> [0.001], <None> [0.001], <None> [0.001], <None> [0.001], <None> [0.001], <None> [0.001], <None> [0.001], <None> [0.001], <None> [0.001], <None> [0.001], <None> [0.001], <None> [0.001], <None> [0.001], <None> [0.001], <None> [0.001], <None> [0.001], <None> [0.001], <startseq> [1.], <heart> [1.], <size> [1.], <normal> [1.], <.> [1.], <lungs> [1.], <are> [1.] , \t next_word: clear\n",
      "--- 178 ---\n",
      "[1588_IM-0382-1001.dcm.png], input_seq: <None> [0.001], <None> [0.001], <None> [0.001], <None> [0.001], <None> [0.001], <None> [0.001], <None> [0.001], <None> [0.001], <None> [0.001], <None> [0.001], <None> [0.001], <None> [0.001], <None> [0.001], <None> [0.001], <None> [0.001], <None> [0.001], <None> [0.001], <None> [0.001], <None> [0.001], <None> [0.001], <None> [0.001], <None> [0.001], <None> [0.001], <None> [0.001], <None> [0.001], <None> [0.001], <None> [0.001], <None> [0.001], <None> [0.001], <None> [0.001], <None> [0.001], <None> [0.001], <None> [0.001], <None> [0.001], <None> [0.001], <None> [0.001], <None> [0.001], <None> [0.001], <None> [0.001], <None> [0.001], <None> [0.001], <None> [0.001], <None> [0.001], <None> [0.001], <None> [0.001], <None> [0.001], <None> [0.001], <None> [0.001], <None> [0.001], <None> [0.001], <None> [0.001], <None> [0.001], <startseq> [1.], <heart> [1.], <size> [1.], <normal> [1.], <.> [1.], <lungs> [1.], <are> [1.], <clear> [1.] , \t next_word: .\n",
      "--- 179 ---\n",
      "[1588_IM-0382-1001.dcm.png], input_seq: <None> [0.001], <None> [0.001], <None> [0.001], <None> [0.001], <None> [0.001], <None> [0.001], <None> [0.001], <None> [0.001], <None> [0.001], <None> [0.001], <None> [0.001], <None> [0.001], <None> [0.001], <None> [0.001], <None> [0.001], <None> [0.001], <None> [0.001], <None> [0.001], <None> [0.001], <None> [0.001], <None> [0.001], <None> [0.001], <None> [0.001], <None> [0.001], <None> [0.001], <None> [0.001], <None> [0.001], <None> [0.001], <None> [0.001], <None> [0.001], <None> [0.001], <None> [0.001], <None> [0.001], <None> [0.001], <None> [0.001], <None> [0.001], <None> [0.001], <None> [0.001], <None> [0.001], <None> [0.001], <None> [0.001], <None> [0.001], <None> [0.001], <None> [0.001], <None> [0.001], <None> [0.001], <None> [0.001], <None> [0.001], <None> [0.001], <None> [0.001], <None> [0.001], <startseq> [1.], <heart> [1.], <size> [1.], <normal> [1.], <.> [1.], <lungs> [1.], <are> [1.], <clear> [1.], <.> [1.] , \t next_word: xxxx\n",
      "--- 180 ---\n",
      "[1588_IM-0382-1001.dcm.png], input_seq: <None> [0.001], <None> [0.001], <None> [0.001], <None> [0.001], <None> [0.001], <None> [0.001], <None> [0.001], <None> [0.001], <None> [0.001], <None> [0.001], <None> [0.001], <None> [0.001], <None> [0.001], <None> [0.001], <None> [0.001], <None> [0.001], <None> [0.001], <None> [0.001], <None> [0.001], <None> [0.001], <None> [0.001], <None> [0.001], <None> [0.001], <None> [0.001], <None> [0.001], <None> [0.001], <None> [0.001], <None> [0.001], <None> [0.001], <None> [0.001], <None> [0.001], <None> [0.001], <None> [0.001], <None> [0.001], <None> [0.001], <None> [0.001], <None> [0.001], <None> [0.001], <None> [0.001], <None> [0.001], <None> [0.001], <None> [0.001], <None> [0.001], <None> [0.001], <None> [0.001], <None> [0.001], <None> [0.001], <None> [0.001], <None> [0.001], <None> [0.001], <startseq> [1.], <heart> [1.], <size> [1.], <normal> [1.], <.> [1.], <lungs> [1.], <are> [1.], <clear> [1.], <.> [1.], <xxxx> [1.] , \t next_word: are\n",
      "--- 181 ---\n",
      "[1588_IM-0382-1001.dcm.png], input_seq: <None> [0.001], <None> [0.001], <None> [0.001], <None> [0.001], <None> [0.001], <None> [0.001], <None> [0.001], <None> [0.001], <None> [0.001], <None> [0.001], <None> [0.001], <None> [0.001], <None> [0.001], <None> [0.001], <None> [0.001], <None> [0.001], <None> [0.001], <None> [0.001], <None> [0.001], <None> [0.001], <None> [0.001], <None> [0.001], <None> [0.001], <None> [0.001], <None> [0.001], <None> [0.001], <None> [0.001], <None> [0.001], <None> [0.001], <None> [0.001], <None> [0.001], <None> [0.001], <None> [0.001], <None> [0.001], <None> [0.001], <None> [0.001], <None> [0.001], <None> [0.001], <None> [0.001], <None> [0.001], <None> [0.001], <None> [0.001], <None> [0.001], <None> [0.001], <None> [0.001], <None> [0.001], <None> [0.001], <None> [0.001], <None> [0.001], <startseq> [1.], <heart> [1.], <size> [1.], <normal> [1.], <.> [1.], <lungs> [1.], <are> [1.], <clear> [1.], <.> [1.], <xxxx> [1.], <are> [1.] , \t next_word: normal\n",
      "--- 182 ---\n",
      "[1588_IM-0382-1001.dcm.png], input_seq: <None> [0.001], <None> [0.001], <None> [0.001], <None> [0.001], <None> [0.001], <None> [0.001], <None> [0.001], <None> [0.001], <None> [0.001], <None> [0.001], <None> [0.001], <None> [0.001], <None> [0.001], <None> [0.001], <None> [0.001], <None> [0.001], <None> [0.001], <None> [0.001], <None> [0.001], <None> [0.001], <None> [0.001], <None> [0.001], <None> [0.001], <None> [0.001], <None> [0.001], <None> [0.001], <None> [0.001], <None> [0.001], <None> [0.001], <None> [0.001], <None> [0.001], <None> [0.001], <None> [0.001], <None> [0.001], <None> [0.001], <None> [0.001], <None> [0.001], <None> [0.001], <None> [0.001], <None> [0.001], <None> [0.001], <None> [0.001], <None> [0.001], <None> [0.001], <None> [0.001], <None> [0.001], <None> [0.001], <None> [0.001], <startseq> [1.], <heart> [1.], <size> [1.], <normal> [1.], <.> [1.], <lungs> [1.], <are> [1.], <clear> [1.], <.> [1.], <xxxx> [1.], <are> [1.], <normal> [1.] , \t next_word: .\n",
      "--- 183 ---\n",
      "[1588_IM-0382-1001.dcm.png], input_seq: <None> [0.001], <None> [0.001], <None> [0.001], <None> [0.001], <None> [0.001], <None> [0.001], <None> [0.001], <None> [0.001], <None> [0.001], <None> [0.001], <None> [0.001], <None> [0.001], <None> [0.001], <None> [0.001], <None> [0.001], <None> [0.001], <None> [0.001], <None> [0.001], <None> [0.001], <None> [0.001], <None> [0.001], <None> [0.001], <None> [0.001], <None> [0.001], <None> [0.001], <None> [0.001], <None> [0.001], <None> [0.001], <None> [0.001], <None> [0.001], <None> [0.001], <None> [0.001], <None> [0.001], <None> [0.001], <None> [0.001], <None> [0.001], <None> [0.001], <None> [0.001], <None> [0.001], <None> [0.001], <None> [0.001], <None> [0.001], <None> [0.001], <None> [0.001], <None> [0.001], <None> [0.001], <None> [0.001], <startseq> [1.], <heart> [1.], <size> [1.], <normal> [1.], <.> [1.], <lungs> [1.], <are> [1.], <clear> [1.], <.> [1.], <xxxx> [1.], <are> [1.], <normal> [1.], <.> [1.] , \t next_word: no\n",
      "--- 184 ---\n",
      "[1588_IM-0382-1001.dcm.png], input_seq: <None> [0.001], <None> [0.001], <None> [0.001], <None> [0.001], <None> [0.001], <None> [0.001], <None> [0.001], <None> [0.001], <None> [0.001], <None> [0.001], <None> [0.001], <None> [0.001], <None> [0.001], <None> [0.001], <None> [0.001], <None> [0.001], <None> [0.001], <None> [0.001], <None> [0.001], <None> [0.001], <None> [0.001], <None> [0.001], <None> [0.001], <None> [0.001], <None> [0.001], <None> [0.001], <None> [0.001], <None> [0.001], <None> [0.001], <None> [0.001], <None> [0.001], <None> [0.001], <None> [0.001], <None> [0.001], <None> [0.001], <None> [0.001], <None> [0.001], <None> [0.001], <None> [0.001], <None> [0.001], <None> [0.001], <None> [0.001], <None> [0.001], <None> [0.001], <None> [0.001], <None> [0.001], <startseq> [1.], <heart> [1.], <size> [1.], <normal> [1.], <.> [1.], <lungs> [1.], <are> [1.], <clear> [1.], <.> [1.], <xxxx> [1.], <are> [1.], <normal> [1.], <.> [1.], <no> [1.] , \t next_word: pneumonia\n",
      "--- 185 ---\n",
      "[1588_IM-0382-1001.dcm.png], input_seq: <None> [0.001], <None> [0.001], <None> [0.001], <None> [0.001], <None> [0.001], <None> [0.001], <None> [0.001], <None> [0.001], <None> [0.001], <None> [0.001], <None> [0.001], <None> [0.001], <None> [0.001], <None> [0.001], <None> [0.001], <None> [0.001], <None> [0.001], <None> [0.001], <None> [0.001], <None> [0.001], <None> [0.001], <None> [0.001], <None> [0.001], <None> [0.001], <None> [0.001], <None> [0.001], <None> [0.001], <None> [0.001], <None> [0.001], <None> [0.001], <None> [0.001], <None> [0.001], <None> [0.001], <None> [0.001], <None> [0.001], <None> [0.001], <None> [0.001], <None> [0.001], <None> [0.001], <None> [0.001], <None> [0.001], <None> [0.001], <None> [0.001], <None> [0.001], <None> [0.001], <startseq> [1.], <heart> [1.], <size> [1.], <normal> [1.], <.> [1.], <lungs> [1.], <are> [1.], <clear> [1.], <.> [1.], <xxxx> [1.], <are> [1.], <normal> [1.], <.> [1.], <no> [1.], <pneumonia> [1.] , \t next_word: ,\n",
      "--- 186 ---\n",
      "[1588_IM-0382-1001.dcm.png], input_seq: <None> [0.001], <None> [0.001], <None> [0.001], <None> [0.001], <None> [0.001], <None> [0.001], <None> [0.001], <None> [0.001], <None> [0.001], <None> [0.001], <None> [0.001], <None> [0.001], <None> [0.001], <None> [0.001], <None> [0.001], <None> [0.001], <None> [0.001], <None> [0.001], <None> [0.001], <None> [0.001], <None> [0.001], <None> [0.001], <None> [0.001], <None> [0.001], <None> [0.001], <None> [0.001], <None> [0.001], <None> [0.001], <None> [0.001], <None> [0.001], <None> [0.001], <None> [0.001], <None> [0.001], <None> [0.001], <None> [0.001], <None> [0.001], <None> [0.001], <None> [0.001], <None> [0.001], <None> [0.001], <None> [0.001], <None> [0.001], <None> [0.001], <None> [0.001], <startseq> [1.], <heart> [1.], <size> [1.], <normal> [1.], <.> [1.], <lungs> [1.], <are> [1.], <clear> [1.], <.> [1.], <xxxx> [1.], <are> [1.], <normal> [1.], <.> [1.], <no> [1.], <pneumonia> [1.], <,> [1.] , \t next_word: effusions\n",
      "--- 187 ---\n",
      "[1588_IM-0382-1001.dcm.png], input_seq: <None> [0.001], <None> [0.001], <None> [0.001], <None> [0.001], <None> [0.001], <None> [0.001], <None> [0.001], <None> [0.001], <None> [0.001], <None> [0.001], <None> [0.001], <None> [0.001], <None> [0.001], <None> [0.001], <None> [0.001], <None> [0.001], <None> [0.001], <None> [0.001], <None> [0.001], <None> [0.001], <None> [0.001], <None> [0.001], <None> [0.001], <None> [0.001], <None> [0.001], <None> [0.001], <None> [0.001], <None> [0.001], <None> [0.001], <None> [0.001], <None> [0.001], <None> [0.001], <None> [0.001], <None> [0.001], <None> [0.001], <None> [0.001], <None> [0.001], <None> [0.001], <None> [0.001], <None> [0.001], <None> [0.001], <None> [0.001], <None> [0.001], <startseq> [1.], <heart> [1.], <size> [1.], <normal> [1.], <.> [1.], <lungs> [1.], <are> [1.], <clear> [1.], <.> [1.], <xxxx> [1.], <are> [1.], <normal> [1.], <.> [1.], <no> [1.], <pneumonia> [1.], <,> [1.], <effusions> [1.] , \t next_word: ,\n",
      "--- 188 ---\n",
      "[1588_IM-0382-1001.dcm.png], input_seq: <None> [0.001], <None> [0.001], <None> [0.001], <None> [0.001], <None> [0.001], <None> [0.001], <None> [0.001], <None> [0.001], <None> [0.001], <None> [0.001], <None> [0.001], <None> [0.001], <None> [0.001], <None> [0.001], <None> [0.001], <None> [0.001], <None> [0.001], <None> [0.001], <None> [0.001], <None> [0.001], <None> [0.001], <None> [0.001], <None> [0.001], <None> [0.001], <None> [0.001], <None> [0.001], <None> [0.001], <None> [0.001], <None> [0.001], <None> [0.001], <None> [0.001], <None> [0.001], <None> [0.001], <None> [0.001], <None> [0.001], <None> [0.001], <None> [0.001], <None> [0.001], <None> [0.001], <None> [0.001], <None> [0.001], <None> [0.001], <startseq> [1.], <heart> [1.], <size> [1.], <normal> [1.], <.> [1.], <lungs> [1.], <are> [1.], <clear> [1.], <.> [1.], <xxxx> [1.], <are> [1.], <normal> [1.], <.> [1.], <no> [1.], <pneumonia> [1.], <,> [1.], <effusions> [1.], <,> [1.] , \t next_word: edema\n",
      "--- 189 ---\n",
      "[1588_IM-0382-1001.dcm.png], input_seq: <None> [0.001], <None> [0.001], <None> [0.001], <None> [0.001], <None> [0.001], <None> [0.001], <None> [0.001], <None> [0.001], <None> [0.001], <None> [0.001], <None> [0.001], <None> [0.001], <None> [0.001], <None> [0.001], <None> [0.001], <None> [0.001], <None> [0.001], <None> [0.001], <None> [0.001], <None> [0.001], <None> [0.001], <None> [0.001], <None> [0.001], <None> [0.001], <None> [0.001], <None> [0.001], <None> [0.001], <None> [0.001], <None> [0.001], <None> [0.001], <None> [0.001], <None> [0.001], <None> [0.001], <None> [0.001], <None> [0.001], <None> [0.001], <None> [0.001], <None> [0.001], <None> [0.001], <None> [0.001], <None> [0.001], <startseq> [1.], <heart> [1.], <size> [1.], <normal> [1.], <.> [1.], <lungs> [1.], <are> [1.], <clear> [1.], <.> [1.], <xxxx> [1.], <are> [1.], <normal> [1.], <.> [1.], <no> [1.], <pneumonia> [1.], <,> [1.], <effusions> [1.], <,> [1.], <edema> [1.] , \t next_word: ,\n",
      "--- 190 ---\n",
      "[1588_IM-0382-1001.dcm.png], input_seq: <None> [0.001], <None> [0.001], <None> [0.001], <None> [0.001], <None> [0.001], <None> [0.001], <None> [0.001], <None> [0.001], <None> [0.001], <None> [0.001], <None> [0.001], <None> [0.001], <None> [0.001], <None> [0.001], <None> [0.001], <None> [0.001], <None> [0.001], <None> [0.001], <None> [0.001], <None> [0.001], <None> [0.001], <None> [0.001], <None> [0.001], <None> [0.001], <None> [0.001], <None> [0.001], <None> [0.001], <None> [0.001], <None> [0.001], <None> [0.001], <None> [0.001], <None> [0.001], <None> [0.001], <None> [0.001], <None> [0.001], <None> [0.001], <None> [0.001], <None> [0.001], <None> [0.001], <None> [0.001], <startseq> [1.], <heart> [1.], <size> [1.], <normal> [1.], <.> [1.], <lungs> [1.], <are> [1.], <clear> [1.], <.> [1.], <xxxx> [1.], <are> [1.], <normal> [1.], <.> [1.], <no> [1.], <pneumonia> [1.], <,> [1.], <effusions> [1.], <,> [1.], <edema> [1.], <,> [1.] , \t next_word: pneumothorax\n",
      "--- 191 ---\n",
      "[1588_IM-0382-1001.dcm.png], input_seq: <None> [0.001], <None> [0.001], <None> [0.001], <None> [0.001], <None> [0.001], <None> [0.001], <None> [0.001], <None> [0.001], <None> [0.001], <None> [0.001], <None> [0.001], <None> [0.001], <None> [0.001], <None> [0.001], <None> [0.001], <None> [0.001], <None> [0.001], <None> [0.001], <None> [0.001], <None> [0.001], <None> [0.001], <None> [0.001], <None> [0.001], <None> [0.001], <None> [0.001], <None> [0.001], <None> [0.001], <None> [0.001], <None> [0.001], <None> [0.001], <None> [0.001], <None> [0.001], <None> [0.001], <None> [0.001], <None> [0.001], <None> [0.001], <None> [0.001], <None> [0.001], <None> [0.001], <startseq> [1.], <heart> [1.], <size> [1.], <normal> [1.], <.> [1.], <lungs> [1.], <are> [1.], <clear> [1.], <.> [1.], <xxxx> [1.], <are> [1.], <normal> [1.], <.> [1.], <no> [1.], <pneumonia> [1.], <,> [1.], <effusions> [1.], <,> [1.], <edema> [1.], <,> [1.], <pneumothorax> [1.] , \t next_word: ,\n",
      "--- 192 ---\n",
      "[1588_IM-0382-1001.dcm.png], input_seq: <None> [0.001], <None> [0.001], <None> [0.001], <None> [0.001], <None> [0.001], <None> [0.001], <None> [0.001], <None> [0.001], <None> [0.001], <None> [0.001], <None> [0.001], <None> [0.001], <None> [0.001], <None> [0.001], <None> [0.001], <None> [0.001], <None> [0.001], <None> [0.001], <None> [0.001], <None> [0.001], <None> [0.001], <None> [0.001], <None> [0.001], <None> [0.001], <None> [0.001], <None> [0.001], <None> [0.001], <None> [0.001], <None> [0.001], <None> [0.001], <None> [0.001], <None> [0.001], <None> [0.001], <None> [0.001], <None> [0.001], <None> [0.001], <None> [0.001], <None> [0.001], <startseq> [1.], <heart> [1.], <size> [1.], <normal> [1.], <.> [1.], <lungs> [1.], <are> [1.], <clear> [1.], <.> [1.], <xxxx> [1.], <are> [1.], <normal> [1.], <.> [1.], <no> [1.], <pneumonia> [1.], <,> [1.], <effusions> [1.], <,> [1.], <edema> [1.], <,> [1.], <pneumothorax> [1.], <,> [1.] , \t next_word: adenopathy\n",
      "--- 193 ---\n",
      "[1588_IM-0382-1001.dcm.png], input_seq: <None> [0.001], <None> [0.001], <None> [0.001], <None> [0.001], <None> [0.001], <None> [0.001], <None> [0.001], <None> [0.001], <None> [0.001], <None> [0.001], <None> [0.001], <None> [0.001], <None> [0.001], <None> [0.001], <None> [0.001], <None> [0.001], <None> [0.001], <None> [0.001], <None> [0.001], <None> [0.001], <None> [0.001], <None> [0.001], <None> [0.001], <None> [0.001], <None> [0.001], <None> [0.001], <None> [0.001], <None> [0.001], <None> [0.001], <None> [0.001], <None> [0.001], <None> [0.001], <None> [0.001], <None> [0.001], <None> [0.001], <None> [0.001], <None> [0.001], <startseq> [1.], <heart> [1.], <size> [1.], <normal> [1.], <.> [1.], <lungs> [1.], <are> [1.], <clear> [1.], <.> [1.], <xxxx> [1.], <are> [1.], <normal> [1.], <.> [1.], <no> [1.], <pneumonia> [1.], <,> [1.], <effusions> [1.], <,> [1.], <edema> [1.], <,> [1.], <pneumothorax> [1.], <,> [1.], <adenopathy> [1.] , \t next_word: ,\n",
      "--- 194 ---\n",
      "[1588_IM-0382-1001.dcm.png], input_seq: <None> [0.001], <None> [0.001], <None> [0.001], <None> [0.001], <None> [0.001], <None> [0.001], <None> [0.001], <None> [0.001], <None> [0.001], <None> [0.001], <None> [0.001], <None> [0.001], <None> [0.001], <None> [0.001], <None> [0.001], <None> [0.001], <None> [0.001], <None> [0.001], <None> [0.001], <None> [0.001], <None> [0.001], <None> [0.001], <None> [0.001], <None> [0.001], <None> [0.001], <None> [0.001], <None> [0.001], <None> [0.001], <None> [0.001], <None> [0.001], <None> [0.001], <None> [0.001], <None> [0.001], <None> [0.001], <None> [0.001], <None> [0.001], <startseq> [1.], <heart> [1.], <size> [1.], <normal> [1.], <.> [1.], <lungs> [1.], <are> [1.], <clear> [1.], <.> [1.], <xxxx> [1.], <are> [1.], <normal> [1.], <.> [1.], <no> [1.], <pneumonia> [1.], <,> [1.], <effusions> [1.], <,> [1.], <edema> [1.], <,> [1.], <pneumothorax> [1.], <,> [1.], <adenopathy> [1.], <,> [1.] , \t next_word: nodules\n",
      "--- 195 ---\n",
      "[1588_IM-0382-1001.dcm.png], input_seq: <None> [0.001], <None> [0.001], <None> [0.001], <None> [0.001], <None> [0.001], <None> [0.001], <None> [0.001], <None> [0.001], <None> [0.001], <None> [0.001], <None> [0.001], <None> [0.001], <None> [0.001], <None> [0.001], <None> [0.001], <None> [0.001], <None> [0.001], <None> [0.001], <None> [0.001], <None> [0.001], <None> [0.001], <None> [0.001], <None> [0.001], <None> [0.001], <None> [0.001], <None> [0.001], <None> [0.001], <None> [0.001], <None> [0.001], <None> [0.001], <None> [0.001], <None> [0.001], <None> [0.001], <None> [0.001], <None> [0.001], <startseq> [1.], <heart> [1.], <size> [1.], <normal> [1.], <.> [1.], <lungs> [1.], <are> [1.], <clear> [1.], <.> [1.], <xxxx> [1.], <are> [1.], <normal> [1.], <.> [1.], <no> [1.], <pneumonia> [1.], <,> [1.], <effusions> [1.], <,> [1.], <edema> [1.], <,> [1.], <pneumothorax> [1.], <,> [1.], <adenopathy> [1.], <,> [1.], <nodules> [1.] , \t next_word: or\n",
      "--- 196 ---\n",
      "[1588_IM-0382-1001.dcm.png], input_seq: <None> [0.001], <None> [0.001], <None> [0.001], <None> [0.001], <None> [0.001], <None> [0.001], <None> [0.001], <None> [0.001], <None> [0.001], <None> [0.001], <None> [0.001], <None> [0.001], <None> [0.001], <None> [0.001], <None> [0.001], <None> [0.001], <None> [0.001], <None> [0.001], <None> [0.001], <None> [0.001], <None> [0.001], <None> [0.001], <None> [0.001], <None> [0.001], <None> [0.001], <None> [0.001], <None> [0.001], <None> [0.001], <None> [0.001], <None> [0.001], <None> [0.001], <None> [0.001], <None> [0.001], <None> [0.001], <startseq> [1.], <heart> [1.], <size> [1.], <normal> [1.], <.> [1.], <lungs> [1.], <are> [1.], <clear> [1.], <.> [1.], <xxxx> [1.], <are> [1.], <normal> [1.], <.> [1.], <no> [1.], <pneumonia> [1.], <,> [1.], <effusions> [1.], <,> [1.], <edema> [1.], <,> [1.], <pneumothorax> [1.], <,> [1.], <adenopathy> [1.], <,> [1.], <nodules> [1.], <or> [1.] , \t next_word: masses\n",
      "--- 197 ---\n",
      "[1588_IM-0382-1001.dcm.png], input_seq: <None> [0.001], <None> [0.001], <None> [0.001], <None> [0.001], <None> [0.001], <None> [0.001], <None> [0.001], <None> [0.001], <None> [0.001], <None> [0.001], <None> [0.001], <None> [0.001], <None> [0.001], <None> [0.001], <None> [0.001], <None> [0.001], <None> [0.001], <None> [0.001], <None> [0.001], <None> [0.001], <None> [0.001], <None> [0.001], <None> [0.001], <None> [0.001], <None> [0.001], <None> [0.001], <None> [0.001], <None> [0.001], <None> [0.001], <None> [0.001], <None> [0.001], <None> [0.001], <None> [0.001], <startseq> [1.], <heart> [1.], <size> [1.], <normal> [1.], <.> [1.], <lungs> [1.], <are> [1.], <clear> [1.], <.> [1.], <xxxx> [1.], <are> [1.], <normal> [1.], <.> [1.], <no> [1.], <pneumonia> [1.], <,> [1.], <effusions> [1.], <,> [1.], <edema> [1.], <,> [1.], <pneumothorax> [1.], <,> [1.], <adenopathy> [1.], <,> [1.], <nodules> [1.], <or> [1.], <masses> [1.] , \t next_word: .\n",
      "--- 198 ---\n",
      "[1588_IM-0382-1001.dcm.png], input_seq: <None> [0.001], <None> [0.001], <None> [0.001], <None> [0.001], <None> [0.001], <None> [0.001], <None> [0.001], <None> [0.001], <None> [0.001], <None> [0.001], <None> [0.001], <None> [0.001], <None> [0.001], <None> [0.001], <None> [0.001], <None> [0.001], <None> [0.001], <None> [0.001], <None> [0.001], <None> [0.001], <None> [0.001], <None> [0.001], <None> [0.001], <None> [0.001], <None> [0.001], <None> [0.001], <None> [0.001], <None> [0.001], <None> [0.001], <None> [0.001], <None> [0.001], <None> [0.001], <startseq> [1.], <heart> [1.], <size> [1.], <normal> [1.], <.> [1.], <lungs> [1.], <are> [1.], <clear> [1.], <.> [1.], <xxxx> [1.], <are> [1.], <normal> [1.], <.> [1.], <no> [1.], <pneumonia> [1.], <,> [1.], <effusions> [1.], <,> [1.], <edema> [1.], <,> [1.], <pneumothorax> [1.], <,> [1.], <adenopathy> [1.], <,> [1.], <nodules> [1.], <or> [1.], <masses> [1.], <.> [1.] , \t next_word: endseq\n",
      "--- 199 ---\n",
      "[82_IM-2350-3001.dcm.png], input_seq: <None> [0.001], <None> [0.001], <None> [0.001], <None> [0.001], <None> [0.001], <None> [0.001], <None> [0.001], <None> [0.001], <None> [0.001], <None> [0.001], <None> [0.001], <None> [0.001], <None> [0.001], <None> [0.001], <None> [0.001], <None> [0.001], <None> [0.001], <None> [0.001], <None> [0.001], <None> [0.001], <None> [0.001], <None> [0.001], <None> [0.001], <None> [0.001], <None> [0.001], <None> [0.001], <None> [0.001], <None> [0.001], <None> [0.001], <None> [0.001], <None> [0.001], <None> [0.001], <None> [0.001], <None> [0.001], <None> [0.001], <None> [0.001], <None> [0.001], <None> [0.001], <None> [0.001], <None> [0.001], <None> [0.001], <None> [0.001], <None> [0.001], <None> [0.001], <None> [0.001], <None> [0.001], <None> [0.001], <None> [0.001], <None> [0.001], <None> [0.001], <None> [0.001], <None> [0.001], <None> [0.001], <None> [0.001], <None> [0.001], <None> [0.001], <None> [0.001], <None> [0.001], <None> [0.001], <startseq> [1.] , \t next_word: no\n"
     ]
    }
   ],
   "source": [
    "for i in range(200):\n",
    "    print('---',i,'---')\n",
    "    print('['+vx['image_names'][i]+'], input_seq:',', '.join(['<None> {0}'.format(y) if x==0 else '<{0}> {1}'.format(co_to_w[x],y) for x,y in zip(vx['words_input'][i],vx['padding_masks'][i])]),', \\t next_word:',co_to_w[np.argmax(vy['target_word'][i])])"
   ]
  },
  {
   "cell_type": "code",
   "execution_count": 55,
   "metadata": {
    "scrolled": true
   },
   "outputs": [
    {
     "name": "stdout",
     "output_type": "stream",
     "text": [
      "[   0    0    0    0    0    0    0    0    0    0    0    0    0    0\n",
      "    0    0    0    0    0    0    0    0    0    0    0    0    0    0\n",
      "    0    0    0    0    0    0    0    0    0    0    0    0    0    0\n",
      "    0    0    0    0    0    0    0    0    0    0    0    0    0    0\n",
      "    0    0  105 1667]\n"
     ]
    },
    {
     "data": {
      "text/plain": [
       "array([0.87749377, 0.70275573, 0.2821012 , 0.81863486, 0.74583549,\n",
       "       0.34336174, 0.6239491 , 0.78875861, 0.88404274, 0.47183051,\n",
       "       0.39509649, 0.52243708, 0.07633962, 0.81263937, 0.39995035,\n",
       "       0.54251465, 0.33023597, 0.38177721, 0.72792975, 0.28376835,\n",
       "       0.1962039 , 0.24933322, 0.25449001, 0.37835411, 0.17022616,\n",
       "       0.7451347 , 0.12770332, 0.40862071, 0.15203045, 0.4578276 ,\n",
       "       0.71059968, 0.2139542 , 0.45761894, 0.61981414, 0.9277183 ,\n",
       "       0.19679774, 0.88094972, 0.04810931, 0.02994228, 0.32311452,\n",
       "       0.69152694, 0.61853972, 0.31041178, 0.14744789, 0.67535795,\n",
       "       0.43940283, 0.65170832, 0.82738837, 0.82410592, 0.14035516,\n",
       "       0.72441303, 0.55140711, 0.61970473, 0.41845017, 0.79335535,\n",
       "       0.43796208, 0.99479203, 0.18528307, 0.77601376, 0.90879176,\n",
       "       0.4355555 , 0.96815896, 0.81644619, 0.28018123, 0.04958191,\n",
       "       0.54413741, 0.9244749 , 0.47654332, 0.14145499, 0.25458149,\n",
       "       0.68814974, 0.7652857 , 0.25055083, 0.67300159, 0.35400045,\n",
       "       0.84578774, 0.1930864 , 0.67925871, 0.55982221, 0.86357059,\n",
       "       0.75232516, 0.71288484, 0.80473452, 0.91558354, 0.57542062,\n",
       "       0.43166361, 0.86737961, 0.96755348, 0.73305416, 0.06095617,\n",
       "       0.81047875, 0.71785457, 0.63558847, 0.9946032 , 0.570487  ,\n",
       "       0.10199554, 0.56887822, 0.5154098 , 0.00482204, 0.50648772,\n",
       "       0.66027281, 0.34706067, 0.8981703 , 0.05083233, 0.06384688,\n",
       "       0.03252825, 0.04433639, 0.52179045, 0.32818744, 0.502212  ,\n",
       "       0.3702326 , 0.5523214 , 0.36905042, 0.5305475 , 0.47703051,\n",
       "       0.81488509, 0.12304924, 0.62750584, 0.85910569, 0.0294284 ,\n",
       "       0.207299  , 0.11878997, 0.2469531 , 0.15219123, 0.94388301,\n",
       "       0.02845112, 0.22938083, 0.94552565, 0.41447048, 0.27563467,\n",
       "       0.39822629, 0.57133002, 0.24522782, 0.24251899, 0.25170029,\n",
       "       0.26616183, 0.48114313, 0.95843051, 0.57864391, 0.44465044,\n",
       "       0.95561422, 0.88135273, 0.52356985, 0.11781965, 0.01251023,\n",
       "       0.41075576, 0.9163319 , 0.59540833, 0.86097891, 0.28937532,\n",
       "       0.00468905, 0.64078609, 0.71273074, 0.21319877, 0.45543039,\n",
       "       0.61450017, 0.05269725, 0.97739187, 0.12988943, 0.4800715 ,\n",
       "       0.30448919, 0.08505967, 0.65330558, 0.8688135 , 0.39105389,\n",
       "       0.34916446, 0.66558787, 0.49686645, 0.16491548, 0.90951535,\n",
       "       0.18882916, 0.45612572, 0.99063789, 0.94927207, 0.68094741,\n",
       "       0.7229301 , 0.72635172, 0.62001517, 0.35663463, 0.87732035,\n",
       "       0.84153719, 0.48059867, 0.78639744, 0.38762264, 0.20456253,\n",
       "       0.72363218, 0.73660101, 0.06866502, 0.34685664, 0.27917141,\n",
       "       0.37984528, 0.59544962, 0.09726903, 0.61329292, 0.08984786,\n",
       "       0.82777415, 0.03918716, 0.01047135, 0.96081908, 0.7074303 ,\n",
       "       0.38285874, 0.53762108, 0.90982207, 0.84512906, 0.83163707,\n",
       "       0.23105515, 0.70580104, 0.15136243, 0.20253101, 0.30105901,\n",
       "       0.972865  , 0.03729343, 0.71222914, 0.3425955 , 0.47334038,\n",
       "       0.91057381, 0.0826056 , 0.32324502, 0.65745675, 0.69736996,\n",
       "       0.34873454, 0.88793375, 0.32776672, 0.5575659 , 0.24257209,\n",
       "       0.71286649, 0.93472019, 0.55356631, 0.6609729 , 0.4354792 ,\n",
       "       0.66855855, 0.7683268 , 0.32753606, 0.52513421, 0.60445812,\n",
       "       0.12559643, 0.2199372 , 0.30083229, 0.2639883 , 0.68481015,\n",
       "       0.3122819 , 0.04983028, 0.67740078, 0.22107789, 0.76091001,\n",
       "       0.97129496, 0.72651682, 0.14439868, 0.74734765, 0.80693872,\n",
       "       0.00935243, 0.05756345, 0.51584791, 0.70708794, 0.02662675,\n",
       "       0.21582205, 0.23714393, 0.44078078, 0.21584825, 0.90882103,\n",
       "       0.11891676, 0.93229166, 0.96010267, 0.89632091, 0.85528208,\n",
       "       0.63640719, 0.90840667, 0.61033779, 0.23154433, 0.79904324,\n",
       "       0.21372036, 0.53370612, 0.21856467, 0.93695147, 0.7635993 ,\n",
       "       0.33648643, 0.16596465, 0.10604256, 0.08695475, 0.90288161,\n",
       "       0.0933659 , 0.50604982, 0.50402573, 0.20060706, 0.76465945,\n",
       "       0.84911715, 0.65740943, 0.71143909, 0.17022159, 0.81008675,\n",
       "       0.70475467, 0.8288096 , 0.73377324, 0.53907493, 0.50269474,\n",
       "       0.22323099, 0.70981025, 0.80915491, 0.90749929, 0.81878246])"
      ]
     },
     "execution_count": 55,
     "metadata": {},
     "output_type": "execute_result"
    }
   ],
   "source": [
    "print(vx['words_input'][1])\n",
    "embedding_matrix[105]"
   ]
  },
  {
   "cell_type": "code",
   "execution_count": 56,
   "metadata": {
    "scrolled": true
   },
   "outputs": [],
   "source": [
    "# emb_out = emb.predict(tx['words_input'])\n",
    "# emb_out[1][-2]"
   ]
  },
  {
   "cell_type": "code",
   "execution_count": 57,
   "metadata": {
    "scrolled": true
   },
   "outputs": [],
   "source": [
    "parallel_model=multi_gpu_model(model, gpus=3)\n",
    "# # model_resnet.summary()\n",
    "# # parallel_model.load_weights('./../checkpoints/sa_vgg16_3d_32x24_m32_direct.h5', by_name=True, skip_mismatch=True)"
   ]
  },
  {
   "cell_type": "code",
   "execution_count": 58,
   "metadata": {
    "scrolled": true
   },
   "outputs": [
    {
     "name": "stdout",
     "output_type": "stream",
     "text": [
      "__________________________________________________________________________________________________\n",
      "Layer (type)                    Output Shape         Param #     Connected to                     \n",
      "==================================================================================================\n",
      "image_input (InputLayer)        (None, 256, 256, 3)  0                                            \n",
      "__________________________________________________________________________________________________\n",
      "words_input (InputLayer)        (None, 60)           0                                            \n",
      "__________________________________________________________________________________________________\n",
      "padding_masks (InputLayer)      (None, 60, 1)        0                                            \n",
      "__________________________________________________________________________________________________\n",
      "lambda_1 (Lambda)               (None, 256, 256, 3)  0           image_input[0][0]                \n",
      "__________________________________________________________________________________________________\n",
      "lambda_2 (Lambda)               (None, 60)           0           words_input[0][0]                \n",
      "__________________________________________________________________________________________________\n",
      "lambda_3 (Lambda)               (None, 60, 1)        0           padding_masks[0][0]              \n",
      "__________________________________________________________________________________________________\n",
      "lambda_4 (Lambda)               (None, 256, 256, 3)  0           image_input[0][0]                \n",
      "__________________________________________________________________________________________________\n",
      "lambda_5 (Lambda)               (None, 60)           0           words_input[0][0]                \n",
      "__________________________________________________________________________________________________\n",
      "lambda_6 (Lambda)               (None, 60, 1)        0           padding_masks[0][0]              \n",
      "__________________________________________________________________________________________________\n",
      "lambda_7 (Lambda)               (None, 256, 256, 3)  0           image_input[0][0]                \n",
      "__________________________________________________________________________________________________\n",
      "lambda_8 (Lambda)               (None, 60)           0           words_input[0][0]                \n",
      "__________________________________________________________________________________________________\n",
      "lambda_9 (Lambda)               (None, 60, 1)        0           padding_masks[0][0]              \n",
      "__________________________________________________________________________________________________\n",
      "model_1 (Model)                 (None, 1943)         42129611    lambda_1[0][0]                   \n",
      "                                                                 lambda_2[0][0]                   \n",
      "                                                                 lambda_3[0][0]                   \n",
      "                                                                 lambda_4[0][0]                   \n",
      "                                                                 lambda_5[0][0]                   \n",
      "                                                                 lambda_6[0][0]                   \n",
      "                                                                 lambda_7[0][0]                   \n",
      "                                                                 lambda_8[0][0]                   \n",
      "                                                                 lambda_9[0][0]                   \n",
      "__________________________________________________________________________________________________\n",
      "target_word (Concatenate)       (None, 1943)         0           model_1[1][0]                    \n",
      "                                                                 model_1[2][0]                    \n",
      "                                                                 model_1[3][0]                    \n",
      "==================================================================================================\n",
      "Total params: 42,129,611\n",
      "Trainable params: 41,521,239\n",
      "Non-trainable params: 608,372\n",
      "__________________________________________________________________________________________________\n"
     ]
    }
   ],
   "source": [
    "parallel_model.compile(loss='categorical_crossentropy',optimizer=Adam(lr=lr),metrics=['accuracy']) #For multi GPU\n",
    "parallel_model.summary()"
   ]
  },
  {
   "cell_type": "code",
   "execution_count": 59,
   "metadata": {},
   "outputs": [
    {
     "name": "stdout",
     "output_type": "stream",
     "text": [
      "training vgg_1dcnn_text_img_attention for 50 epochs\n"
     ]
    }
   ],
   "source": [
    "# mc=ModelCheckpoint(filepath='../checkpoints/vgg16_lstm_words.h5',monitor='val_loss',period=1,save_best_only=True,save_weights_only=True,mode='auto',verbose=3)\n",
    "# es=EarlyStopping(patience=300,monitor='val_loss',min_delta=0.0001,mode='auto')\n",
    "\n",
    "print('training {0} for {1} epochs'.format(model_name,EPOCHS))\n",
    "# lr = K.eval(parallel_model.optimizer.lr)\n",
    "# decay = 1e-3"
   ]
  },
  {
   "cell_type": "code",
   "execution_count": 60,
   "metadata": {},
   "outputs": [],
   "source": [
    "def CheckSelfAttention(input_data,labels):\n",
    "    words_input,padding_masks=input_data\n",
    "    for i in range(words_input.shape[0]):\n",
    "        print('-*-*-',i,'-*-*-')\n",
    "        print('input_seq:',', '.join(['<None> {0}'.format(y) if x==0 else '<{0}> {1}'.format(co_to_w[x],y) for x,y in zip(words_input[i],padding_masks[i])]),', \\t next_word:',co_to_w[np.argmax(labels[i])])\n",
    "    model_concat_sa_2 = Model(textNet.inputs,textNet.get_layer('concat_sa_2').output)\n",
    "    model_concat_sa_3 = Model(textNet.inputs,textNet.get_layer('concat_sa_3').output)\n",
    "    model_concat_sa_4 = []#Model(textNet.inputs,textNet.get_layer('act_concat_sa_4').output)\n",
    "    \n",
    "    return [model_concat_sa_2.predict(input_data)\n",
    "            , model_concat_sa_3.predict(input_data)\n",
    "            , []#model_concat_sa_4.predict(input_data)\n",
    "            , textNet.predict(input_data)]\n",
    "#     print(concat_sa_2)\n",
    "    \n",
    "def ReduceLROnPlateau(decay=0.5):\n",
    "    old_lr = K.eval(parallel_model.optimizer.lr)\n",
    "    new_lr = old_lr * decay\n",
    "    return old_lr,new_lr"
   ]
  },
  {
   "cell_type": "code",
   "execution_count": 61,
   "metadata": {},
   "outputs": [],
   "source": [
    "# ReduceLROnPlateau()"
   ]
  },
  {
   "cell_type": "code",
   "execution_count": 62,
   "metadata": {},
   "outputs": [],
   "source": [
    "patience = 2\n",
    "patience_counter = 0\n",
    "min_delta = 0.001"
   ]
  },
  {
   "cell_type": "code",
   "execution_count": null,
   "metadata": {
    "scrolled": true
   },
   "outputs": [
    {
     "name": "stdout",
     "output_type": "stream",
     "text": [
      "E: 24/50, tr_loss:0.1692, tr_acc:0.9517, v_loss:13.5992, v_acc:0.0034, lr:0.000100 [1508.89 s/e] (min_v_loss:100.0000)\n"
     ]
    },
    {
     "data": {
      "application/vnd.jupyter.widget-view+json": {
       "model_id": "e1f7e76e45df4be18e657cbf906b2657",
       "version_major": 2,
       "version_minor": 0
      },
      "text/plain": [
       "HBox(children=(FloatProgress(value=0.0, description='Train_Iter', max=37.0, style=ProgressStyle(description_wi…"
      ]
     },
     "metadata": {},
     "output_type": "display_data"
    },
    {
     "name": "stdout",
     "output_type": "stream",
     "text": [
      "Train Iter:641/2254, tr_loss:0.1450, tr_acc:0.9584 (min_v_loss:100.0000))\r"
     ]
    }
   ],
   "source": [
    "from IPython.display import clear_output\n",
    "\n",
    "# counter = 0\n",
    "\n",
    "# history = model.fit_generator(train_gen\n",
    "#                               ,epochs=EPOCHS\n",
    "#                               ,steps_per_epoch=4\n",
    "#                               ,validation_data=val_gen\n",
    "#                               ,validation_steps=2\n",
    "#                               ,callbacks=[mc])\n",
    "\n",
    "hist_tl,hist_ta,hist_vl,hist_va,tt,lr_arr = [],[],[],[],[],[]\n",
    "window = 64\n",
    "val_window = 128\n",
    "train_iterations = int(np.ceil(len(train_images_list)/train_batch_size))\n",
    "val_iterations = int(np.ceil(len(val_images_list)/val_batch_size))\n",
    "\n",
    "print('train_iterations:{0}; val_iterations:{1}'.format(train_iterations,val_iterations))\n",
    "min_v_l,min_v_a = 100,0\n",
    "t_l, t_a, v_l, v_a = 0, 0, 4.01, 0\n",
    "train_gen = datagen(train_images_list,batch_size=train_batch_size)\n",
    "val_gen = datagen(val_images_list,batch_size=val_batch_size)\n",
    "for e in tqdm(np.arange(start=0,stop=EPOCHS),desc='Epoch'):\n",
    "    start_time = time()\n",
    "    tl,ta,vl,va = [],[],[],[]\n",
    "    for im in tqdm(range(train_iterations),desc='Train_Iter',leave=False):\n",
    "        train_gen = datagen(train_images_list,batch_size=train_batch_size)\n",
    "        tx,ty = next(train_gen)\n",
    "        inputs1 = tx['image_input']\n",
    "        inputs2 = tx['words_input']\n",
    "        inputs3 = tx['padding_masks']\n",
    "#         print(inputs3.shape)\n",
    "        labels = ty['target_word']        \n",
    "        for i in np.arange(len(inputs1),step=window):\n",
    "            \n",
    "            loss,accuracy = parallel_model.train_on_batch([inputs1[i:i+window],inputs2[i:i+window],inputs3[i:i+window]],labels[i:i+window])\n",
    "#             concat_sa_2,concat_sa_3,concat_sa_4,textNet_output = CheckSelfAttention([inputs2[i:i+window],inputs3[i:i+window]],labels[i:i+window])            \n",
    "            \n",
    "            tl.append(loss)\n",
    "            ta.append(accuracy)\n",
    "            print('Train Iter:{0:3d}/{1}, tr_loss:{2:.4f}, tr_acc:{3:.4f} (min_v_loss:{4:.4f})'\n",
    "                  .format(i+1,len(inputs1)\n",
    "                          , np.mean(tl)\n",
    "                          , np.mean(ta)\n",
    "                          , min_v_l), end = '\\r')\n",
    "#             break\n",
    "#         break\n",
    "#     break\n",
    "    for im in tqdm(range(val_iterations),desc='Val_Iter',leave=False):\n",
    "        vx,vy = next(val_gen)\n",
    "        inputs1 = vx['image_input']\n",
    "        inputs2 = vx['words_input']\n",
    "        inputs3 = vx['padding_masks']\n",
    "        labels = vy['target_word']\n",
    "        for i in np.arange(len(inputs1),step=val_window):\n",
    "            loss,accuracy = parallel_model.evaluate(verbose=0,x=[inputs1[i:i+val_window],inputs2[i:i+val_window],inputs3[i:i+val_window]],y=labels[i:i+val_window])\n",
    "            vl.append(loss)\n",
    "            va.append(accuracy)\n",
    "    v_l = np.round(np.mean(vl),4)\n",
    "    v_a = np.round(np.mean(va),4)\n",
    "    t_l = np.round(np.mean(tl),4)\n",
    "    t_a = np.round(np.mean(ta),4)\n",
    "    \n",
    "    hist_tl.append(t_l)\n",
    "    hist_ta.append(t_a)\n",
    "    hist_vl.append(v_l)\n",
    "    hist_va.append(v_a)\n",
    "    if len(hist_tl)>=3:\n",
    "        if hist_tl[-2]-hist_tl[-1]<min_delta:\n",
    "            patience_counter+=1\n",
    "            if patience==patience_counter:\n",
    "                old_lr,lr = ReduceLROnPlateau()\n",
    "                patience_counter = 0\n",
    "                K.set_value(parallel_model.optimizer.lr,lr)\n",
    "                K.set_value(model.optimizer.lr,lr)\n",
    "    lr_arr.append(lr)\n",
    "    if v_a > min_v_a:\n",
    "        min_v_a = v_a\n",
    "        model.save_weights(filepath='../checkpoints/{0}.h5'.format(model_name),overwrite=True)\n",
    "        imgNet.save_weights(filepath='../checkpoints/{0}_{1}_img_module.h5'.format(img_arch,text_arch),overwrite=True)\n",
    "        textNet.save_weights(filepath='../checkpoints/{0}_{1}_text_module.h5'.format(img_arch,text_arch),overwrite=True)\n",
    "    clear_output(wait=True)\n",
    "    end_time = time()\n",
    "    time_taken = end_time-start_time\n",
    "    tt.append(time_taken)\n",
    "    with open('../tf_runs/log.csv','a') as f:\n",
    "        data = '{0:3d}/{7},{1:.4f},{2:.4f},{3:.4f},{4:.4f},{6:.4f},{8:.6f}'.format(e+1, t_l, t_a, v_l, v_a, np.mean(tt),min_v_l,EPOCHS,lr)\n",
    "        t = strftime(\"%m/%d/%Y %H:%M:%S\",localtime())\n",
    "        f.writelines('\\n[{0}],{1},{2}'.format(t, model_name,data))\n",
    "    print('E:{0:3d}/{7}, tr_loss:{1:.4f}, tr_acc:{2:.4f}, v_loss:{3:.4f}, v_acc:{4:.4f}, lr:{8:.6f} [{5:.2f} s/e] (min_v_loss:{6:.4f})'.format(e+1, t_l, t_a, v_l, v_a, np.mean(tt),min_v_l,EPOCHS,lr))"
   ]
  },
  {
   "cell_type": "code",
   "execution_count": 1,
   "metadata": {},
   "outputs": [
    {
     "ename": "NameError",
     "evalue": "name 'CheckSelfAttention' is not defined",
     "output_type": "error",
     "traceback": [
      "\u001b[0;31m---------------------------------------------------------------------------\u001b[0m",
      "\u001b[0;31mNameError\u001b[0m                                 Traceback (most recent call last)",
      "\u001b[0;32m<ipython-input-1-52201b3cfab4>\u001b[0m in \u001b[0;36m<module>\u001b[0;34m()\u001b[0m\n\u001b[0;32m----> 1\u001b[0;31m \u001b[0mconcat_sa_2\u001b[0m\u001b[0;34m,\u001b[0m\u001b[0mconcat_sa_3\u001b[0m\u001b[0;34m,\u001b[0m\u001b[0mconcat_sa_4\u001b[0m\u001b[0;34m,\u001b[0m\u001b[0mtextNet_output\u001b[0m \u001b[0;34m=\u001b[0m \u001b[0mCheckSelfAttention\u001b[0m\u001b[0;34m(\u001b[0m\u001b[0;34m[\u001b[0m\u001b[0minputs2\u001b[0m\u001b[0;34m[\u001b[0m\u001b[0mi\u001b[0m\u001b[0;34m:\u001b[0m\u001b[0mi\u001b[0m\u001b[0;34m+\u001b[0m\u001b[0mwindow\u001b[0m\u001b[0;34m]\u001b[0m\u001b[0;34m,\u001b[0m\u001b[0minputs3\u001b[0m\u001b[0;34m[\u001b[0m\u001b[0mi\u001b[0m\u001b[0;34m:\u001b[0m\u001b[0mi\u001b[0m\u001b[0;34m+\u001b[0m\u001b[0mwindow\u001b[0m\u001b[0;34m]\u001b[0m\u001b[0;34m]\u001b[0m\u001b[0;34m,\u001b[0m\u001b[0mlabels\u001b[0m\u001b[0;34m[\u001b[0m\u001b[0mi\u001b[0m\u001b[0;34m:\u001b[0m\u001b[0mi\u001b[0m\u001b[0;34m+\u001b[0m\u001b[0mwindow\u001b[0m\u001b[0;34m]\u001b[0m\u001b[0;34m)\u001b[0m\u001b[0;34m\u001b[0m\u001b[0m\n\u001b[0m\u001b[1;32m      2\u001b[0m \u001b[0;31m#\u001b[0m\u001b[0;34m\u001b[0m\u001b[0;34m\u001b[0m\u001b[0m\n",
      "\u001b[0;31mNameError\u001b[0m: name 'CheckSelfAttention' is not defined"
     ]
    }
   ],
   "source": [
    "concat_sa_2,concat_sa_3,concat_sa_4,textNet_output = CheckSelfAttention([inputs2[i:i+window],inputs3[i:i+window]],labels[i:i+window])            \n",
    "# "
   ]
  },
  {
   "cell_type": "code",
   "execution_count": null,
   "metadata": {
    "scrolled": true
   },
   "outputs": [],
   "source": [
    "pd.DataFrame(concat_sa_2[1])"
   ]
  },
  {
   "cell_type": "code",
   "execution_count": null,
   "metadata": {
    "scrolled": true
   },
   "outputs": [],
   "source": [
    "pd.DataFrame(concat_sa_3[1])"
   ]
  },
  {
   "cell_type": "code",
   "execution_count": null,
   "metadata": {
    "scrolled": true
   },
   "outputs": [],
   "source": [
    "# pd.DataFrame(concat_sa_4[1])"
   ]
  },
  {
   "cell_type": "code",
   "execution_count": null,
   "metadata": {
    "scrolled": true
   },
   "outputs": [],
   "source": [
    "pd.DataFrame(textNet_output[1])"
   ]
  },
  {
   "cell_type": "code",
   "execution_count": null,
   "metadata": {},
   "outputs": [],
   "source": [
    "# with open('../tf_runs/log.csv','a') as f:\n",
    "#     data = '{0:3d}/{7},{1:.4f},{2:.4f},{3:.4f},{4:.4f},{6:.4f}'.format(e+1, t_l, t_a, v_l, v_a, np.mean(tt),min_v_l,EPOCHS)\n",
    "#     t = strftime(\"%m/%d/%Y %H:%M:%S\",localtime())\n",
    "#     f.writelines('\\n[{0}],{1},{2}'.format(t, model_name,data))\n",
    "# data"
   ]
  },
  {
   "cell_type": "code",
   "execution_count": null,
   "metadata": {},
   "outputs": [],
   "source": [
    "history = pd.DataFrame()\n",
    "history['tr_acc'] = hist_ta\n",
    "history['val_acc'] = hist_va\n",
    "history['tr_loss'] = hist_tl\n",
    "history['val_loss'] = hist_vl\n",
    "display(history[['tr_acc','val_acc']].plot())\n",
    "display(history[['tr_loss','val_loss']].plot())\n",
    "history.to_csv('../tf_runs/{0}_x_delete.csv'.format(model_name),index=False)"
   ]
  },
  {
   "cell_type": "markdown",
   "metadata": {},
   "source": [
    "# Evaluate"
   ]
  },
  {
   "cell_type": "code",
   "execution_count": null,
   "metadata": {},
   "outputs": [],
   "source": [
    "model.load_weights('../checkpoints/{0}.h5'.format(model_name))"
   ]
  },
  {
   "cell_type": "code",
   "execution_count": null,
   "metadata": {
    "scrolled": true
   },
   "outputs": [],
   "source": [
    "\n",
    "def predict_captions(image):\n",
    "    start_word = [\"startseq\"]\n",
    "    mask = np.zeros((1,max_wlen,1))+0.001\n",
    "    counter=0\n",
    "    while True:\n",
    "        counter-=1\n",
    "        mask[:,counter,:]=1.0\n",
    "        print(np.sum(mask))\n",
    "        par_caps = [w_to_co[i] for i in start_word]\n",
    "        par_caps = sequence.pad_sequences([par_caps], maxlen=max_wlen, padding='pre',value=0)\n",
    "        preds = model.predict([image, np.array(par_caps),mask])\n",
    "#         print(preds.shape)\n",
    "        idx = preds.argmax(-1)\n",
    "        word_pred = co_to_w[idx[0]]\n",
    "#         print(par_caps)\n",
    "        start_word.append(word_pred)\n",
    "        \n",
    "        if word_pred == \"endseq\" or len(start_word) > max_wlen:\n",
    "            break\n",
    "            \n",
    "    return ' '.join(start_word[1:-1])\n",
    "\n",
    "# print('Predicted:',' '.join(out_text))"
   ]
  },
  {
   "cell_type": "code",
   "execution_count": null,
   "metadata": {},
   "outputs": [],
   "source": [
    "def beam_search_predictions(image, beam_index = 3):\n",
    "    start = [w_to_co[\"startseq\"]]\n",
    "    \n",
    "    # start_word[0][0] = index of the starting word\n",
    "    # start_word[0][1] = probability of the word predicted\n",
    "    start_word = [[start, 0.0]]\n",
    "    mask = np.zeros((1,max_wlen,1))+0.001\n",
    "    counter=0\n",
    "    while len(start_word[0][0]) < max_wlen:\n",
    "        temp = []\n",
    "        counter-=1\n",
    "        mask[:,counter,:]=1.0\n",
    "#         print(np.sum(mask))\n",
    "        for s in start_word:\n",
    "            \n",
    "            par_caps = sequence.pad_sequences([s[0]], maxlen=max_wlen, padding='pre', value=0)\n",
    "            preds = model.predict([image, np.array(par_caps),mask])\n",
    "            \n",
    "            # Getting the top <beam_index>(n) predictions\n",
    "            word_preds = np.argsort(preds[0])[-beam_index:]\n",
    "            \n",
    "            # creating a new list so as to put them via the model again\n",
    "            for w in word_preds:\n",
    "                next_cap, prob = s[0][:], s[1]\n",
    "                next_cap.append(w)\n",
    "                prob += preds[0][w]\n",
    "                temp.append([next_cap, prob])\n",
    "                    \n",
    "        start_word = temp\n",
    "        # Sorting according to the probabilities\n",
    "        start_word = sorted(start_word, reverse=False, key=lambda l: l[1])\n",
    "        # Getting the top words\n",
    "        start_word = start_word[-beam_index:]\n",
    "    \n",
    "    start_word = start_word[-1][0]\n",
    "    intermediate_caption = [co_to_w[i] for i in start_word]\n",
    "\n",
    "    final_caption = []\n",
    "    \n",
    "    for i in intermediate_caption:\n",
    "        if i != 'endseq':\n",
    "            final_caption.append(i)\n",
    "        else:\n",
    "            break\n",
    "    \n",
    "    final_caption = ' '.join(final_caption[1:])\n",
    "    return final_caption"
   ]
  },
  {
   "cell_type": "code",
   "execution_count": null,
   "metadata": {
    "jupyter": {
     "source_hidden": true
    },
    "scrolled": true
   },
   "outputs": [],
   "source": [
    "ref_sents = []\n",
    "pred_sents = []\n",
    "for counter in tqdm(range(len(test_images_list))):\n",
    "    testx,testy = next(test_gen)\n",
    "    photo = testx['image_input'][0]\n",
    "#     plt.imshow(photo)\n",
    "#     plt.show()\n",
    "    photo = np.expand_dims(photo,0)\n",
    "    \n",
    "#     print('Actual:',testy['actual_sentence'][0])\n",
    "#     print()\n",
    "    # st = time()\n",
    "    # pred_greedy = predict_captions(photo)\n",
    "    # et = time()\n",
    "    # print('Greedy Predicted:{0},[{1:.2f} s]'.format(pred_greedy,et-st))\n",
    "#     st = time()\n",
    "    pred_bm5 = beam_search_predictions(photo,beam_index=5)\n",
    "#     et = time()\n",
    "#     print('Beam-5 Predicted:{0},[{1:.2f} s]'.format(pred_bm5,et-st))\n",
    "    ref_sents.append(testy['actual_sentence'][0])\n",
    "    pred_sents.append(pred_bm5)\n",
    "    if counter==10:\n",
    "        break"
   ]
  },
  {
   "cell_type": "code",
   "execution_count": null,
   "metadata": {
    "scrolled": true
   },
   "outputs": [],
   "source": [
    "\n",
    "# st = time()\n",
    "# pred_greedy = predict_captions(photo)\n",
    "# et = time()\n",
    "# print('Greedy Predicted:{0},[{1:.2f} s]'.format(pred_greedy,et-st))\n",
    "\n",
    "# st = time()\n",
    "# pred_bm3 = beam_search_predictions(photo,beam_index=3)\n",
    "# et = time()\n",
    "# print('Beam-3 Predicted:{0},[{1:.2f} s]'.format(pred_bm3,et-st))\n",
    "\n",
    "# st = time()\n",
    "# pred_bm5 = beam_search_predictions(photo,beam_index=5)\n",
    "# et = time()\n",
    "# print('Beam-5 Predicted:{0},[{1:.2f} s]'.format(pred_bm5,et-st))\n",
    "\n",
    "# st = time()\n",
    "# pred_bm7 = beam_search_predictions(photo,beam_index=7)\n",
    "# et = time()\n",
    "# print('Beam-7 Predicted:{0},[{1:.2f} s]'.format(pred_bm7,et-st))\n",
    "pd.set_option('display.max_colwidth', -1)\n",
    "df_pred = pd.DataFrame()\n",
    "df_pred['Ref'] = ref_sents\n",
    "df_pred['Pred'] = pred_sents\n",
    "df_pred"
   ]
  },
  {
   "cell_type": "code",
   "execution_count": null,
   "metadata": {},
   "outputs": [],
   "source": [
    "from nltk.translate.bleu_score import sentence_bleu\n",
    "from rouge import Rouge\n",
    "rouge = Rouge()\n",
    "reference = nlp(str(vy['actual_sentence'][0]))\n",
    "reference = [[str(x) for x in list(reference)]]\n",
    "\n",
    "\n",
    "# candidate = nlp(pred_greedy)\n",
    "# candidate = [str(x) for x in list(candidate)]\n",
    "# df_result['greedy'] = [sentence_bleu(reference, candidate, weights=(1, 0, 0, 0))\n",
    "#                       ,sentence_bleu(reference, candidate, weights=(0.5, 0.5, 0, 0))\n",
    "#                       ,sentence_bleu(reference, candidate, weights=(0.33, 0.33, 0.33, 0))\n",
    "#                       ,sentence_bleu(reference, candidate, weights=(0.25, 0.25, 0.25, 0.25))]\n",
    "\n",
    "# candidate = nlp(pred_bm3)\n",
    "# candidate = [str(x) for x in list(candidate)]\n",
    "# df_result['bm3'] = [sentence_bleu(reference, candidate, weights=(1, 0, 0, 0))\n",
    "#                       ,sentence_bleu(reference, candidate, weights=(0.5, 0.5, 0, 0))\n",
    "#                       ,sentence_bleu(reference, candidate, weights=(0.33, 0.33, 0.33, 0))\n",
    "#                       ,sentence_bleu(reference, candidate, weights=(0.25, 0.25, 0.25, 0.25))]\n",
    "row = []\n",
    "for i in range(len(ref_sents)):\n",
    "    r = ref_sents[i]\n",
    "    c = pred_sents[i]\n",
    "    reference = nlp(str(r))\n",
    "    reference = [[str(x) for x in list(reference)]]\n",
    "    candidate = nlp(str(c))\n",
    "    candidate = [str(x) for x in list(candidate)]\n",
    "    row.append([sentence_bleu(reference, candidate, weights=(1, 0, 0, 0))\n",
    "                          ,sentence_bleu(reference, candidate, weights=(0.5, 0.5, 0, 0))\n",
    "                          ,sentence_bleu(reference, candidate, weights=(0.33, 0.33, 0.33, 0))\n",
    "                          ,sentence_bleu(reference, candidate, weights=(0.25, 0.25, 0.25, 0.25))\n",
    "                          ,rouge.get_scores(hyps=c,refs=r)[0]['rouge-l']['f']])\n",
    "\n",
    "\n",
    "# candidate = nlp(pred_bm7)\n",
    "# candidate = [str(x) for x in list(candidate)]\n",
    "# df_result['bm7'] = [sentence_bleu(reference, candidate, weights=(1, 0, 0, 0))\n",
    "#                       ,sentence_bleu(reference, candidate, weights=(0.5, 0.5, 0, 0))\n",
    "#                       ,sentence_bleu(reference, candidate, weights=(0.33, 0.33, 0.33, 0))\n",
    "#                       ,sentence_bleu(reference, candidate, weights=(0.25, 0.25, 0.25, 0.25))]\n",
    "df_result = pd.DataFrame(row)\n",
    "df_result.columns = ['BLEU-1','BLEU-2','BLEU-3','BLEU-4','ROUGE-L']\n",
    "df_result=df_result.round(3)"
   ]
  },
  {
   "cell_type": "code",
   "execution_count": null,
   "metadata": {},
   "outputs": [],
   "source": [
    "# ref_sents,pred_sents\n",
    "df_result.mean()"
   ]
  },
  {
   "cell_type": "code",
   "execution_count": null,
   "metadata": {
    "scrolled": true
   },
   "outputs": [],
   "source": [
    "pd.DataFrame(row)"
   ]
  },
  {
   "cell_type": "code",
   "execution_count": null,
   "metadata": {},
   "outputs": [],
   "source": [
    "\n",
    "reference = str(vy['actual_sentence'][0])\n",
    "# reference = [[str(x) for x in list(reference)]]\n",
    "candidate = pre\n",
    "# candidate = [str(x) for x in list(candidate)]\n",
    "ro = rouge.get_scores(hyps=candidate,refs=reference)\n",
    "ro[0]['ROUGE-L']['f']"
   ]
  },
  {
   "cell_type": "code",
   "execution_count": null,
   "metadata": {},
   "outputs": [],
   "source": [
    "pd.DataFrame(ro[0]).T"
   ]
  },
  {
   "cell_type": "code",
   "execution_count": null,
   "metadata": {},
   "outputs": [],
   "source": [
    "from pycocoevalcap.bleu.bleu import Bleu\n",
    "from pycocoevalcap.rouge.rouge import Rouge\n",
    "from pycocoevalcap.cider.cider import Cider\n",
    "from pycocoevalcap.meteor.meteor import Meteor"
   ]
  },
  {
   "cell_type": "code",
   "execution_count": null,
   "metadata": {},
   "outputs": [],
   "source": [
    "def calc_scores(ref, hypo):\n",
    "    \"\"\"\n",
    "    ref, dictionary of reference sentences (id, sentence)\n",
    "    hypo, dictionary of hypothesis sentences (id, sentence)\n",
    "    score, dictionary of scores\n",
    "    \"\"\"\n",
    "    scorers = [\n",
    "#         (Bleu(4), [\"Bleu_1\", \"Bleu_2\", \"Bleu_3\", \"Bleu_4\"]),\n",
    "#         (Meteor(),\"METEOR\"),\n",
    "        (Rouge(), \"ROUGE_L\"),\n",
    "        (Cider(), \"CIDEr\")\n",
    "    ]\n",
    "    final_scores = {}\n",
    "    for scorer, method in scorers:\n",
    "        score, scores = scorer.compute_score(ref, hypo)\n",
    "        if type(score) == list:\n",
    "            for m, s in zip(method, score):\n",
    "                final_scores[m] = s\n",
    "        else:\n",
    "            final_scores[method] = score\n",
    "    return final_scores "
   ]
  },
  {
   "cell_type": "code",
   "execution_count": null,
   "metadata": {},
   "outputs": [],
   "source": [
    "calc_scores(ref=ref_sents,hypo=pred_sents)"
   ]
  },
  {
   "cell_type": "code",
   "execution_count": null,
   "metadata": {},
   "outputs": [],
   "source": [
    "from nlgeval import NLGEval\n",
    "nlgeval = NLGEval()  # loads the models\n"
   ]
  },
  {
   "cell_type": "code",
   "execution_count": null,
   "metadata": {},
   "outputs": [],
   "source": [
    "references = []\n",
    "hypothesis = []\n",
    "import pickle\n",
    "import numpy as np\n",
    "with open('../dataset/chestxray_cnn_attention_decoder_ref_sents.p', 'rb') as file:\n",
    "    # store the data as binary data stream\n",
    "    references=pickle.load(file)\n",
    "with open('../dataset/chestxray_cnn_attention_decoder_pred_sents.p', 'rb') as file:\n",
    "    # store the data as binary data stream\n",
    "    hypothesis=pickle.load(file)\n",
    "    \n",
    "references=np.array(references)\n",
    "hypothesis=np.array(hypothesis)\n",
    "references[:2],hypothesis[:2]"
   ]
  },
  {
   "cell_type": "code",
   "execution_count": null,
   "metadata": {},
   "outputs": [],
   "source": [
    "refs=np.expand_dims(ref_sents,1)\n",
    "# hyps=np.expand_dims(hypothesis,0)\n",
    "refs=refs.tolist()\n",
    "# hyps=hyps.tolist()\n",
    "hypothesis = pred_sents\n",
    "len(refs),len(hypothesis)"
   ]
  },
  {
   "cell_type": "code",
   "execution_count": null,
   "metadata": {},
   "outputs": [],
   "source": [
    "metrics_dict = nlgeval.compute_metrics(refs, hypothesis)"
   ]
  },
  {
   "cell_type": "code",
   "execution_count": null,
   "metadata": {},
   "outputs": [],
   "source": [
    "r = {idx: strippedlines for (idx, strippedlines) in enumerate(refs)}"
   ]
  },
  {
   "cell_type": "code",
   "execution_count": null,
   "metadata": {},
   "outputs": [],
   "source": [
    "len(r)"
   ]
  },
  {
   "cell_type": "code",
   "execution_count": null,
   "metadata": {},
   "outputs": [],
   "source": [
    "h = {idx: [lines.strip()] for (idx, lines) in enumerate(hypothesis)}"
   ]
  },
  {
   "cell_type": "code",
   "execution_count": null,
   "metadata": {},
   "outputs": [],
   "source": [
    "len(h)"
   ]
  },
  {
   "cell_type": "code",
   "execution_count": null,
   "metadata": {},
   "outputs": [],
   "source": [
    "refs[0],hypothesis[0]"
   ]
  },
  {
   "cell_type": "code",
   "execution_count": null,
   "metadata": {},
   "outputs": [],
   "source": [
    "from nlgeval import compute_individual_metrics\n"
   ]
  },
  {
   "cell_type": "code",
   "execution_count": null,
   "metadata": {},
   "outputs": [],
   "source": [
    "metrics_dict = compute_individual_metrics(refs[1], hypothesis[1])"
   ]
  },
  {
   "cell_type": "code",
   "execution_count": null,
   "metadata": {},
   "outputs": [],
   "source": [
    "import pandas as pd\n",
    "df = pd.DataFrame.from_dict(metrics_dict,orient='index').T"
   ]
  },
  {
   "cell_type": "code",
   "execution_count": null,
   "metadata": {},
   "outputs": [],
   "source": [
    "df = pd.DataFrame()\n",
    "for i in range(300):\n",
    "    m = nlgeval.compute_individual_metrics(refs[i], hypothesis[i])\n",
    "    d = pd.DataFrame.from_dict(m,orient='index').T\n",
    "    df = df.append(d)\n",
    "    print(np.around(i*100//300,2),end='\\r')"
   ]
  },
  {
   "cell_type": "code",
   "execution_count": null,
   "metadata": {},
   "outputs": [],
   "source": [
    "df.shape"
   ]
  },
  {
   "cell_type": "code",
   "execution_count": null,
   "metadata": {},
   "outputs": [],
   "source": [
    "df.mean()"
   ]
  },
  {
   "cell_type": "code",
   "execution_count": null,
   "metadata": {},
   "outputs": [],
   "source": [
    "testx,testy = next(test_gen)\n",
    "plt.imshow(testx['image_input'][1])"
   ]
  },
  {
   "cell_type": "code",
   "execution_count": null,
   "metadata": {},
   "outputs": [],
   "source": [
    "testx.keys()"
   ]
  },
  {
   "cell_type": "code",
   "execution_count": null,
   "metadata": {},
   "outputs": [],
   "source": [
    "model_img2_text_ca_1 = Model(model.inputs,model.get_layer('img2_text_ca_1').output)\n",
    "model_text2_img_ca_1 = Model(model.inputs,model.get_layer('text2_img_ca_1').output)\n",
    "model_text2_img_ca_2 = Model(model.inputs,model.get_layer('text2_img_ca_2').output)\n",
    "model_text2_img_ca_3 = Model(model.inputs,model.get_layer('text2_img_ca_3').output)\n",
    "model_text2_img_ca_4 = Model(model.inputs,model.get_layer('text2_img_ca_4').output)"
   ]
  },
  {
   "cell_type": "code",
   "execution_count": null,
   "metadata": {},
   "outputs": [],
   "source": [
    "fi2t,bi2t = model_img2_text_ca_1.predict(testx)\n",
    "ft2i_1,bt2i_1 = model_text2_img_ca_1.predict(testx)\n",
    "ft2i_2,bt2i_2 = model_text2_img_ca_2.predict(testx)\n",
    "ft2i_3,bt2i_3 = model_text2_img_ca_3.predict(testx)\n",
    "ft2i_4,bt2i_4 = model_text2_img_ca_4.predict(testx)"
   ]
  },
  {
   "cell_type": "code",
   "execution_count": null,
   "metadata": {},
   "outputs": [],
   "source": [
    "bt2i_add = bt2i_1+bt2i_1+bt2i_1+bt2i_1"
   ]
  },
  {
   "cell_type": "code",
   "execution_count": null,
   "metadata": {},
   "outputs": [],
   "source": [
    "bt2i_add.shape"
   ]
  },
  {
   "cell_type": "code",
   "execution_count": null,
   "metadata": {
    "scrolled": true
   },
   "outputs": [],
   "source": [
    "for j in range(bt2i_add.shape[0]):    \n",
    "    i=testx['words_input'][j][-1]\n",
    "    if i!=0:\n",
    "        print(j,':',co_to_w[i])\n",
    "        plt.imshow(bt2i_add[j])\n",
    "        plt.show()"
   ]
  },
  {
   "cell_type": "code",
   "execution_count": null,
   "metadata": {
    "scrolled": true
   },
   "outputs": [],
   "source": [
    "\n",
    "for i in range(pd.DataFrame(bt2i_add[j]).shape[0]):\n",
    "    print('Row:{0},Max Col Idx:{1},Max Col Value:{2}'.format(i,np.argmax(bt2i_add[j][i]),np.max(bt2i_add[j][i])))"
   ]
  },
  {
   "cell_type": "code",
   "execution_count": null,
   "metadata": {},
   "outputs": [],
   "source": [
    "plt.imshow(cv2.resize(bt2i_add[j][57].reshape((8,8)),(256,256),cv2.INTER_CUBIC),cmap='jet')"
   ]
  },
  {
   "cell_type": "code",
   "execution_count": null,
   "metadata": {},
   "outputs": [],
   "source": [
    "plt.imshow(testx['image_input'][1])\n",
    "plt.imshow(cv2.resize(bt2i_add[j][57].reshape((8,8)),(256,256),cv2.INTER_CUBIC),cmap='jet',alpha=0.2)"
   ]
  },
  {
   "cell_type": "code",
   "execution_count": null,
   "metadata": {},
   "outputs": [],
   "source": [
    "testx['words_input'].shape"
   ]
  },
  {
   "cell_type": "code",
   "execution_count": null,
   "metadata": {},
   "outputs": [],
   "source": []
  }
 ],
 "metadata": {
  "kernelspec": {
   "display_name": "Python (tf-gpu)",
   "language": "python",
   "name": "tf-gpu"
  },
  "language_info": {
   "codemirror_mode": {
    "name": "ipython",
    "version": 3
   },
   "file_extension": ".py",
   "mimetype": "text/x-python",
   "name": "python",
   "nbconvert_exporter": "python",
   "pygments_lexer": "ipython3",
   "version": "3.5.6"
  },
  "widgets": {
   "application/vnd.jupyter.widget-state+json": {
    "state": {
     "010ddc4d28bb400086c0f716b1b05081": {
      "model_module": "@jupyter-widgets/controls",
      "model_module_version": "1.4.0",
      "model_name": "HTMLModel",
      "state": {
       "layout": "IPY_MODEL_25ba7d4374d64d1ea836263eb885ff1f",
       "style": "IPY_MODEL_a77b20594717439c857484463f15d685",
       "value": " 87/87 [53:44&lt;00:00, 38.10s/it]"
      }
     },
     "0280fe5d1eea4b63be2e80d2bac721e2": {
      "model_module": "@jupyter-widgets/base",
      "model_module_version": "1.1.0",
      "model_name": "LayoutModel",
      "state": {}
     },
     "03bc49a6777843978e3bd9ab0746c4ea": {
      "model_module": "@jupyter-widgets/base",
      "model_module_version": "1.1.0",
      "model_name": "LayoutModel",
      "state": {}
     },
     "0472670dccd64233b3402e3ec774781b": {
      "model_module": "@jupyter-widgets/base",
      "model_module_version": "1.1.0",
      "model_name": "LayoutModel",
      "state": {}
     },
     "052876b3ff7f489388a43f2109559840": {
      "model_module": "@jupyter-widgets/base",
      "model_module_version": "1.1.0",
      "model_name": "LayoutModel",
      "state": {}
     },
     "0618ddd48aa24064bfa7f7aea072302c": {
      "model_module": "@jupyter-widgets/base",
      "model_module_version": "1.1.0",
      "model_name": "LayoutModel",
      "state": {}
     },
     "067983ddd1564ec598fae1fd9300af41": {
      "model_module": "@jupyter-widgets/base",
      "model_module_version": "1.1.0",
      "model_name": "LayoutModel",
      "state": {}
     },
     "0686955cb1b445a68a2a57b2dbaa6d2f": {
      "model_module": "@jupyter-widgets/controls",
      "model_module_version": "1.4.0",
      "model_name": "ProgressStyleModel",
      "state": {
       "description_width": "initial"
      }
     },
     "07ed5e3500a74d40b42007338756ab20": {
      "model_module": "@jupyter-widgets/controls",
      "model_module_version": "1.4.0",
      "model_name": "FloatProgressModel",
      "state": {
       "description": "Val_Iter: 100%",
       "layout": "IPY_MODEL_d5d90296b40a4357acc9ef4fedffddd9",
       "max": 11,
       "style": "IPY_MODEL_7fc0a03f8e284e94b24bf0f7368b30f6",
       "value": 11
      }
     },
     "08055ccfabde4b74823c630e8d8fccc8": {
      "model_module": "@jupyter-widgets/controls",
      "model_module_version": "1.4.0",
      "model_name": "HTMLModel",
      "state": {
       "layout": "IPY_MODEL_179e763d2a5a45f69d34337d684acb56",
       "style": "IPY_MODEL_98cb38a225034c839f812ed49bc98ac2",
       "value": " 11/11 [03:55&lt;00:00, 21.44s/it]"
      }
     },
     "0990ad529e90440894fecbbd7a2ada24": {
      "model_module": "@jupyter-widgets/controls",
      "model_module_version": "1.4.0",
      "model_name": "ProgressStyleModel",
      "state": {
       "description_width": "initial"
      }
     },
     "0a175d8e29c04840a4de3eadcd496bf3": {
      "model_module": "@jupyter-widgets/controls",
      "model_module_version": "1.4.0",
      "model_name": "DescriptionStyleModel",
      "state": {
       "description_width": ""
      }
     },
     "0a4c152367ec46d5b59b5b79e9e443a2": {
      "model_module": "@jupyter-widgets/base",
      "model_module_version": "1.1.0",
      "model_name": "LayoutModel",
      "state": {}
     },
     "0b860d367e804ec2b99a27f85128bbaf": {
      "model_module": "@jupyter-widgets/controls",
      "model_module_version": "1.4.0",
      "model_name": "DescriptionStyleModel",
      "state": {
       "description_width": ""
      }
     },
     "0c4f07398e294335bc2e8a7e16fea46f": {
      "model_module": "@jupyter-widgets/controls",
      "model_module_version": "1.4.0",
      "model_name": "DescriptionStyleModel",
      "state": {
       "description_width": ""
      }
     },
     "0ce5f1018d3c41778f8fab81aec0caf6": {
      "model_module": "@jupyter-widgets/controls",
      "model_module_version": "1.4.0",
      "model_name": "FloatProgressModel",
      "state": {
       "description": "Val_Iter: 100%",
       "layout": "IPY_MODEL_d3e9397743a54c8183dd5c423f86b308",
       "max": 11,
       "style": "IPY_MODEL_4effd6426d614c288a8443c510b2a87b",
       "value": 11
      }
     },
     "0d928394f999419ea2aef54232a33030": {
      "model_module": "@jupyter-widgets/controls",
      "model_module_version": "1.4.0",
      "model_name": "HBoxModel",
      "state": {
       "children": [
        "IPY_MODEL_3574245a70da48d69ba2da2869262c9e",
        "IPY_MODEL_64c5b696c583401189d6062689629b0f"
       ],
       "layout": "IPY_MODEL_3ac70d2d65cf45a6aa51391d273af503"
      }
     },
     "0dfba8164d784be886b31fae8ec54e67": {
      "model_module": "@jupyter-widgets/controls",
      "model_module_version": "1.4.0",
      "model_name": "DescriptionStyleModel",
      "state": {
       "description_width": ""
      }
     },
     "0e522d1d81e94f71a55592563548c143": {
      "model_module": "@jupyter-widgets/base",
      "model_module_version": "1.1.0",
      "model_name": "LayoutModel",
      "state": {}
     },
     "103af0ab7c7b4c30b7a8b13026f4025d": {
      "model_module": "@jupyter-widgets/controls",
      "model_module_version": "1.4.0",
      "model_name": "HTMLModel",
      "state": {
       "layout": "IPY_MODEL_65af2c1ce6cc4a7db329d01b71a01e2e",
       "style": "IPY_MODEL_4c1fd3010ec4457c92504ac15f707a23",
       "value": " 11/11 [03:59&lt;00:00, 21.59s/it]"
      }
     },
     "114db825e35e4419a53098ee3f75e961": {
      "model_module": "@jupyter-widgets/controls",
      "model_module_version": "1.4.0",
      "model_name": "HBoxModel",
      "state": {
       "children": [
        "IPY_MODEL_23eca8db2f42440083f030ef059c1f5a",
        "IPY_MODEL_e23abb7e8ed844639541b3d321db77d6"
       ],
       "layout": "IPY_MODEL_03bc49a6777843978e3bd9ab0746c4ea"
      }
     },
     "128c9f0683a8419db700394458b19137": {
      "model_module": "@jupyter-widgets/controls",
      "model_module_version": "1.4.0",
      "model_name": "DescriptionStyleModel",
      "state": {
       "description_width": ""
      }
     },
     "12910800928f48519c60dc501bda1e52": {
      "model_module": "@jupyter-widgets/base",
      "model_module_version": "1.1.0",
      "model_name": "LayoutModel",
      "state": {}
     },
     "12b6cbaaeb43475ab19d718096325861": {
      "model_module": "@jupyter-widgets/controls",
      "model_module_version": "1.4.0",
      "model_name": "HTMLModel",
      "state": {
       "layout": "IPY_MODEL_95a8d0221b8644288af205b07b05a460",
       "style": "IPY_MODEL_2976b59ab70248f6b95bc162712bbdb2",
       "value": " 0/87 [00:00&lt;?, ?it/s]"
      }
     },
     "13a7bb140ef5437ba0915b4945e3218f": {
      "model_module": "@jupyter-widgets/controls",
      "model_module_version": "1.4.0",
      "model_name": "DescriptionStyleModel",
      "state": {
       "description_width": ""
      }
     },
     "14d2f602a8ef425fb0496f698080154e": {
      "model_module": "@jupyter-widgets/controls",
      "model_module_version": "1.4.0",
      "model_name": "HTMLModel",
      "state": {
       "layout": "IPY_MODEL_12910800928f48519c60dc501bda1e52",
       "style": "IPY_MODEL_7bd832a9bed44210817e0edfcaef2f6a",
       "value": " 11/11 [04:14&lt;00:00, 23.29s/it]"
      }
     },
     "14e9ffc2d75f4e8b9b370037a0f20514": {
      "model_module": "@jupyter-widgets/controls",
      "model_module_version": "1.4.0",
      "model_name": "DescriptionStyleModel",
      "state": {
       "description_width": ""
      }
     },
     "15b40f5b7e434ff18a25568f612fc490": {
      "model_module": "@jupyter-widgets/controls",
      "model_module_version": "1.4.0",
      "model_name": "ProgressStyleModel",
      "state": {
       "description_width": "initial"
      }
     },
     "15c5c40caf5c419384c930ca5cf787bb": {
      "model_module": "@jupyter-widgets/controls",
      "model_module_version": "1.4.0",
      "model_name": "HTMLModel",
      "state": {
       "layout": "IPY_MODEL_fad18746c9e0432bb83862ed21b8a3b6",
       "style": "IPY_MODEL_cddff91b4c7d4f9f93fd18ceda00ee51",
       "value": " 14/87 [08:41&lt;46:06, 37.90s/it]"
      }
     },
     "1607dbcd442b41e69ee3c78719d9024d": {
      "model_module": "@jupyter-widgets/controls",
      "model_module_version": "1.4.0",
      "model_name": "FloatProgressModel",
      "state": {
       "description": "Train_Iter: 100%",
       "layout": "IPY_MODEL_642809ddfbf94c39ad35538cd368e0b2",
       "max": 87,
       "style": "IPY_MODEL_831d94698c33465db8277691c9a69757",
       "value": 87
      }
     },
     "16cdc7cd5bb54a308935142b9776b7d7": {
      "model_module": "@jupyter-widgets/controls",
      "model_module_version": "1.4.0",
      "model_name": "ProgressStyleModel",
      "state": {
       "description_width": "initial"
      }
     },
     "174f37da3ad94a50bbb9c84f0c3383e1": {
      "model_module": "@jupyter-widgets/controls",
      "model_module_version": "1.4.0",
      "model_name": "ProgressStyleModel",
      "state": {
       "description_width": "initial"
      }
     },
     "179e763d2a5a45f69d34337d684acb56": {
      "model_module": "@jupyter-widgets/base",
      "model_module_version": "1.1.0",
      "model_name": "LayoutModel",
      "state": {}
     },
     "183fb3a7584e41329f2efaee99309575": {
      "model_module": "@jupyter-widgets/base",
      "model_module_version": "1.1.0",
      "model_name": "LayoutModel",
      "state": {}
     },
     "1aa0b931cf0f4003a49bb2c157e15353": {
      "model_module": "@jupyter-widgets/controls",
      "model_module_version": "1.4.0",
      "model_name": "HTMLModel",
      "state": {
       "layout": "IPY_MODEL_067983ddd1564ec598fae1fd9300af41",
       "style": "IPY_MODEL_fb0c0b497e6b4e4892750019872f4164",
       "value": " 87/87 [53:43&lt;00:00, 38.17s/it]"
      }
     },
     "1af734f465bb4948a5a1ab0d64bc1255": {
      "model_module": "@jupyter-widgets/base",
      "model_module_version": "1.1.0",
      "model_name": "LayoutModel",
      "state": {}
     },
     "1bd0dc943989432b90e6eecf58d9f409": {
      "model_module": "@jupyter-widgets/controls",
      "model_module_version": "1.4.0",
      "model_name": "HTMLModel",
      "state": {
       "layout": "IPY_MODEL_39428a1a4a0c4e7fae82479685f1175a",
       "style": "IPY_MODEL_13a7bb140ef5437ba0915b4945e3218f",
       "value": " 11/11 [04:21&lt;00:00, 22.43s/it]"
      }
     },
     "1c04700293c6429d92cfa48a870a1913": {
      "model_module": "@jupyter-widgets/controls",
      "model_module_version": "1.4.0",
      "model_name": "ProgressStyleModel",
      "state": {
       "description_width": "initial"
      }
     },
     "1c7085a5ca4e4b0b81d08c57ca94f16f": {
      "model_module": "@jupyter-widgets/base",
      "model_module_version": "1.1.0",
      "model_name": "LayoutModel",
      "state": {}
     },
     "1cb61d70630b4bb3ba593ef1033a0d0d": {
      "model_module": "@jupyter-widgets/controls",
      "model_module_version": "1.4.0",
      "model_name": "HTMLModel",
      "state": {
       "layout": "IPY_MODEL_052876b3ff7f489388a43f2109559840",
       "style": "IPY_MODEL_ff888637100642dca130ec2fb7232e13",
       "value": " 87/87 [53:38&lt;00:00, 37.54s/it]"
      }
     },
     "1e15df9ed4c2438e870aa8434890313f": {
      "model_module": "@jupyter-widgets/base",
      "model_module_version": "1.1.0",
      "model_name": "LayoutModel",
      "state": {}
     },
     "1ef0475776934256bcc2e5e6e89d4935": {
      "model_module": "@jupyter-widgets/controls",
      "model_module_version": "1.4.0",
      "model_name": "ProgressStyleModel",
      "state": {
       "description_width": "initial"
      }
     },
     "1f4a44ce3c704cea8062213e1fa35e37": {
      "model_module": "@jupyter-widgets/controls",
      "model_module_version": "1.4.0",
      "model_name": "HBoxModel",
      "state": {
       "children": [
        "IPY_MODEL_7d752123f9294b29b3a6dfc381a1f6ea",
        "IPY_MODEL_12b6cbaaeb43475ab19d718096325861"
       ],
       "layout": "IPY_MODEL_f6cf5d1a71ca4dd3bce344957887c2e2"
      }
     },
     "1fc6ec1bf412461d97d727cfe944c8bd": {
      "model_module": "@jupyter-widgets/controls",
      "model_module_version": "1.4.0",
      "model_name": "DescriptionStyleModel",
      "state": {
       "description_width": ""
      }
     },
     "1fd2f5558ccf4b31b9546312dc0fa4eb": {
      "model_module": "@jupyter-widgets/base",
      "model_module_version": "1.1.0",
      "model_name": "LayoutModel",
      "state": {}
     },
     "2052b7f46d744fe4bb1239adc0a804a1": {
      "model_module": "@jupyter-widgets/controls",
      "model_module_version": "1.4.0",
      "model_name": "HTMLModel",
      "state": {
       "layout": "IPY_MODEL_ee68112692074b64bf325156e4f8688a",
       "style": "IPY_MODEL_7e3993445e57417eab04babf83884ae5",
       "value": " 20/87 [12:28&lt;42:28, 38.04s/it]"
      }
     },
     "206c3db300ff42f3b4dc3091ffad6c6d": {
      "model_module": "@jupyter-widgets/controls",
      "model_module_version": "1.4.0",
      "model_name": "HTMLModel",
      "state": {
       "layout": "IPY_MODEL_72a2701d461c48f3bcf907977706bcec",
       "style": "IPY_MODEL_b363d1e512884aaf95b42b34d820ffb2",
       "value": " 11/11 [04:14&lt;00:00, 22.85s/it]"
      }
     },
     "233c6fc7f2064032b5b38a7f846f0a49": {
      "model_module": "@jupyter-widgets/controls",
      "model_module_version": "1.4.0",
      "model_name": "DescriptionStyleModel",
      "state": {
       "description_width": ""
      }
     },
     "2368f46ac52e45b6ac26c5697935d13f": {
      "model_module": "@jupyter-widgets/controls",
      "model_module_version": "1.4.0",
      "model_name": "DescriptionStyleModel",
      "state": {
       "description_width": ""
      }
     },
     "23eca8db2f42440083f030ef059c1f5a": {
      "model_module": "@jupyter-widgets/controls",
      "model_module_version": "1.4.0",
      "model_name": "FloatProgressModel",
      "state": {
       "description": "Train_Iter:  43%",
       "layout": "IPY_MODEL_d0732bf7788640a6bc9121156ee49e91",
       "max": 87,
       "style": "IPY_MODEL_5647668a4c3647abadd9b19814cc7803",
       "value": 37
      }
     },
     "25618cf6387049b5b253b52f1ea7e34c": {
      "model_module": "@jupyter-widgets/base",
      "model_module_version": "1.1.0",
      "model_name": "LayoutModel",
      "state": {}
     },
     "25ba7d4374d64d1ea836263eb885ff1f": {
      "model_module": "@jupyter-widgets/base",
      "model_module_version": "1.1.0",
      "model_name": "LayoutModel",
      "state": {}
     },
     "26db79fd49614853b20f7bc21aa215ed": {
      "model_module": "@jupyter-widgets/controls",
      "model_module_version": "1.4.0",
      "model_name": "FloatProgressModel",
      "state": {
       "bar_style": "danger",
       "description": "Epoch:   0%",
       "layout": "IPY_MODEL_6c5c109e97da4d26b7a3495db6929dae",
       "max": 50,
       "style": "IPY_MODEL_b1e2d7a8e5e649378275353af2320df6"
      }
     },
     "277ad9b8b0ed4f829ea7158b73e96419": {
      "model_module": "@jupyter-widgets/controls",
      "model_module_version": "1.4.0",
      "model_name": "DescriptionStyleModel",
      "state": {
       "description_width": ""
      }
     },
     "28f098caa09149a4b787e3b18aa659e0": {
      "model_module": "@jupyter-widgets/base",
      "model_module_version": "1.1.0",
      "model_name": "LayoutModel",
      "state": {}
     },
     "2976b59ab70248f6b95bc162712bbdb2": {
      "model_module": "@jupyter-widgets/controls",
      "model_module_version": "1.4.0",
      "model_name": "DescriptionStyleModel",
      "state": {
       "description_width": ""
      }
     },
     "299a123c88004d90a95bad4b1909050b": {
      "model_module": "@jupyter-widgets/controls",
      "model_module_version": "1.4.0",
      "model_name": "HTMLModel",
      "state": {
       "layout": "IPY_MODEL_41fa75e23a52442fa8231fcfcf969d79",
       "style": "IPY_MODEL_277ad9b8b0ed4f829ea7158b73e96419",
       "value": " 11/50 [12:15:05&lt;43:26:13, 4009.57s/it]"
      }
     },
     "2a683f8f5dfd4be7a36da81adffb8636": {
      "model_module": "@jupyter-widgets/controls",
      "model_module_version": "1.4.0",
      "model_name": "HTMLModel",
      "state": {
       "layout": "IPY_MODEL_0472670dccd64233b3402e3ec774781b",
       "style": "IPY_MODEL_d05bfdc1d87044e28b80471174bd0a84",
       "value": " 87/87 [53:40&lt;00:00, 37.03s/it]"
      }
     },
     "2b2cceb8c6744ad7b83f9c6a6cf6b30e": {
      "model_module": "@jupyter-widgets/base",
      "model_module_version": "1.1.0",
      "model_name": "LayoutModel",
      "state": {}
     },
     "2da891576a284949ad027dd0b57e6309": {
      "model_module": "@jupyter-widgets/base",
      "model_module_version": "1.1.0",
      "model_name": "LayoutModel",
      "state": {}
     },
     "2dd0a930e4b245baa68522a15c599ebe": {
      "model_module": "@jupyter-widgets/base",
      "model_module_version": "1.1.0",
      "model_name": "LayoutModel",
      "state": {}
     },
     "2f2604d040cd4e2c931a8556bdf06a2c": {
      "model_module": "@jupyter-widgets/controls",
      "model_module_version": "1.4.0",
      "model_name": "FloatProgressModel",
      "state": {
       "bar_style": "danger",
       "description": "Epoch:  22%",
       "layout": "IPY_MODEL_414ff709849b4d8a8190e1b7967830e8",
       "max": 50,
       "style": "IPY_MODEL_f4a6256c58fb44da8addb1cdd48b1897",
       "value": 11
      }
     },
     "30cd64466d524a50a7561c05ce55b293": {
      "model_module": "@jupyter-widgets/controls",
      "model_module_version": "1.4.0",
      "model_name": "FloatProgressModel",
      "state": {
       "description": "Val_Iter: 100%",
       "layout": "IPY_MODEL_b942a08c21a14c79b4862929ca4e44ed",
       "max": 11,
       "style": "IPY_MODEL_c2019ab6cc6843d5b68403a2fb39a40f",
       "value": 11
      }
     },
     "31b89e1614474eaab0c3b7d1104d61fd": {
      "model_module": "@jupyter-widgets/controls",
      "model_module_version": "1.4.0",
      "model_name": "HTMLModel",
      "state": {
       "layout": "IPY_MODEL_d2e048076ea44a0b9681772c4b19ac99",
       "style": "IPY_MODEL_233c6fc7f2064032b5b38a7f846f0a49",
       "value": " 11/11 [04:14&lt;00:00, 22.88s/it]"
      }
     },
     "32052d5b6bb74e45b4c2955fe358c608": {
      "model_module": "@jupyter-widgets/base",
      "model_module_version": "1.1.0",
      "model_name": "LayoutModel",
      "state": {}
     },
     "3222034cb75047439727f33acbc835f3": {
      "model_module": "@jupyter-widgets/controls",
      "model_module_version": "1.4.0",
      "model_name": "ProgressStyleModel",
      "state": {
       "description_width": "initial"
      }
     },
     "33d85586094d4b28b6e50bd2dd88c393": {
      "model_module": "@jupyter-widgets/base",
      "model_module_version": "1.1.0",
      "model_name": "LayoutModel",
      "state": {}
     },
     "33e56bf2ab4b49ea974432b4915e6995": {
      "model_module": "@jupyter-widgets/controls",
      "model_module_version": "1.4.0",
      "model_name": "ProgressStyleModel",
      "state": {
       "description_width": "initial"
      }
     },
     "34f72400330f4d07a38e0c7007b5dc36": {
      "model_module": "@jupyter-widgets/base",
      "model_module_version": "1.1.0",
      "model_name": "LayoutModel",
      "state": {}
     },
     "3574245a70da48d69ba2da2869262c9e": {
      "model_module": "@jupyter-widgets/controls",
      "model_module_version": "1.4.0",
      "model_name": "FloatProgressModel",
      "state": {
       "bar_style": "danger",
       "description": " 35%",
       "layout": "IPY_MODEL_97feac2b54ef413c957e919082d30aab",
       "max": 6457,
       "style": "IPY_MODEL_a948bb65c4f845c5a225b0cfeac71865",
       "value": 2284
      }
     },
     "35ee73941b254fc39ad724ef715986f9": {
      "model_module": "@jupyter-widgets/base",
      "model_module_version": "1.1.0",
      "model_name": "LayoutModel",
      "state": {}
     },
     "3873619e15984e2785999a5082af8b55": {
      "model_module": "@jupyter-widgets/controls",
      "model_module_version": "1.4.0",
      "model_name": "DescriptionStyleModel",
      "state": {
       "description_width": ""
      }
     },
     "39428a1a4a0c4e7fae82479685f1175a": {
      "model_module": "@jupyter-widgets/base",
      "model_module_version": "1.1.0",
      "model_name": "LayoutModel",
      "state": {}
     },
     "3a8c10a932fe472babbe645033502fa0": {
      "model_module": "@jupyter-widgets/base",
      "model_module_version": "1.1.0",
      "model_name": "LayoutModel",
      "state": {}
     },
     "3ac70d2d65cf45a6aa51391d273af503": {
      "model_module": "@jupyter-widgets/base",
      "model_module_version": "1.1.0",
      "model_name": "LayoutModel",
      "state": {}
     },
     "3ae8e75c806b428badfd2e79fcc04522": {
      "model_module": "@jupyter-widgets/controls",
      "model_module_version": "1.4.0",
      "model_name": "HTMLModel",
      "state": {
       "layout": "IPY_MODEL_bdb5c406e60940d9947711013c06dfc9",
       "style": "IPY_MODEL_a3e3e464843b412ea010c6e32d57e2ea",
       "value": " 87/87 [59:51&lt;00:00, 42.73s/it]"
      }
     },
     "3b9c9abcfa6749f5b8daef92ba55ca51": {
      "model_module": "@jupyter-widgets/controls",
      "model_module_version": "1.4.0",
      "model_name": "DescriptionStyleModel",
      "state": {
       "description_width": ""
      }
     },
     "3d568180d0a0447da7ed25233270edc1": {
      "model_module": "@jupyter-widgets/controls",
      "model_module_version": "1.4.0",
      "model_name": "ProgressStyleModel",
      "state": {
       "description_width": "initial"
      }
     },
     "3dbc414d37b8494fb9af0c7258d680eb": {
      "model_module": "@jupyter-widgets/base",
      "model_module_version": "1.1.0",
      "model_name": "LayoutModel",
      "state": {}
     },
     "3f0d8579920b4854bb0ffff145fdcbe9": {
      "model_module": "@jupyter-widgets/controls",
      "model_module_version": "1.4.0",
      "model_name": "DescriptionStyleModel",
      "state": {
       "description_width": ""
      }
     },
     "3f4226ec5d264b4a87de98027d90691b": {
      "model_module": "@jupyter-widgets/base",
      "model_module_version": "1.1.0",
      "model_name": "LayoutModel",
      "state": {}
     },
     "3f49c4d5a8d749a7a009224bc5fab633": {
      "model_module": "@jupyter-widgets/base",
      "model_module_version": "1.1.0",
      "model_name": "LayoutModel",
      "state": {}
     },
     "3fdbb4b6ca1a46f1ae94a7846f7e7267": {
      "model_module": "@jupyter-widgets/controls",
      "model_module_version": "1.4.0",
      "model_name": "FloatProgressModel",
      "state": {
       "description": "Val_Iter: 100%",
       "layout": "IPY_MODEL_183fb3a7584e41329f2efaee99309575",
       "max": 11,
       "style": "IPY_MODEL_f25e75beeca740db9182d098cc3d20a5",
       "value": 11
      }
     },
     "4023f171a7874f8899a65db161ef35b1": {
      "model_module": "@jupyter-widgets/base",
      "model_module_version": "1.1.0",
      "model_name": "LayoutModel",
      "state": {}
     },
     "414ff709849b4d8a8190e1b7967830e8": {
      "model_module": "@jupyter-widgets/base",
      "model_module_version": "1.1.0",
      "model_name": "LayoutModel",
      "state": {}
     },
     "41cfc74d325a4be8837fd2d79302e779": {
      "model_module": "@jupyter-widgets/base",
      "model_module_version": "1.1.0",
      "model_name": "LayoutModel",
      "state": {}
     },
     "41fa75e23a52442fa8231fcfcf969d79": {
      "model_module": "@jupyter-widgets/base",
      "model_module_version": "1.1.0",
      "model_name": "LayoutModel",
      "state": {}
     },
     "4248956d1ef34c569b644273409e5925": {
      "model_module": "@jupyter-widgets/base",
      "model_module_version": "1.1.0",
      "model_name": "LayoutModel",
      "state": {}
     },
     "424a9809d0f64e3587d73fe61c83e0d5": {
      "model_module": "@jupyter-widgets/base",
      "model_module_version": "1.1.0",
      "model_name": "LayoutModel",
      "state": {}
     },
     "427b8564f3a747aea3fa9ca24b14c7fc": {
      "model_module": "@jupyter-widgets/controls",
      "model_module_version": "1.4.0",
      "model_name": "HTMLModel",
      "state": {
       "layout": "IPY_MODEL_db7a537757e44ad39a014785f7a30362",
       "style": "IPY_MODEL_c3c6151d1dda4a64ae67d4c9afb1587f",
       "value": " 11/11 [04:13&lt;00:00, 22.91s/it]"
      }
     },
     "432456c5b30844dd8eeb54c1c628da7a": {
      "model_module": "@jupyter-widgets/base",
      "model_module_version": "1.1.0",
      "model_name": "LayoutModel",
      "state": {}
     },
     "4818c0996a3e4d90acfd3f7f5f81ae5c": {
      "model_module": "@jupyter-widgets/controls",
      "model_module_version": "1.4.0",
      "model_name": "HBoxModel",
      "state": {
       "children": [
        "IPY_MODEL_b259e15f64a64172a636c01ad50098d0",
        "IPY_MODEL_71dc3c1adab4472e8978e61e23d341ad"
       ],
       "layout": "IPY_MODEL_48b5d832f8024af08c0c1ef9c0ad66d0"
      }
     },
     "48b5d832f8024af08c0c1ef9c0ad66d0": {
      "model_module": "@jupyter-widgets/base",
      "model_module_version": "1.1.0",
      "model_name": "LayoutModel",
      "state": {}
     },
     "4a3179508394429590f82e82793aaaa6": {
      "model_module": "@jupyter-widgets/base",
      "model_module_version": "1.1.0",
      "model_name": "LayoutModel",
      "state": {}
     },
     "4b2ec9ef9a4c448caa770602116d00ae": {
      "model_module": "@jupyter-widgets/controls",
      "model_module_version": "1.4.0",
      "model_name": "DescriptionStyleModel",
      "state": {
       "description_width": ""
      }
     },
     "4bd542d1178e4888bedd5c78c5626c20": {
      "model_module": "@jupyter-widgets/controls",
      "model_module_version": "1.4.0",
      "model_name": "HTMLModel",
      "state": {
       "layout": "IPY_MODEL_572c5e5181f74bda896ea80d2a413758",
       "style": "IPY_MODEL_14e9ffc2d75f4e8b9b370037a0f20514",
       "value": " 0/50 [2:50:59&lt;?, ?it/s]"
      }
     },
     "4c1fd3010ec4457c92504ac15f707a23": {
      "model_module": "@jupyter-widgets/controls",
      "model_module_version": "1.4.0",
      "model_name": "DescriptionStyleModel",
      "state": {
       "description_width": ""
      }
     },
     "4d9a1459eb6346a69de0df6b350048f0": {
      "model_module": "@jupyter-widgets/base",
      "model_module_version": "1.1.0",
      "model_name": "LayoutModel",
      "state": {}
     },
     "4e1c605555124d1aa818cc4349e12e0f": {
      "model_module": "@jupyter-widgets/base",
      "model_module_version": "1.1.0",
      "model_name": "LayoutModel",
      "state": {}
     },
     "4e948c5ef8114323b473a06cc7205d06": {
      "model_module": "@jupyter-widgets/base",
      "model_module_version": "1.1.0",
      "model_name": "LayoutModel",
      "state": {}
     },
     "4effd6426d614c288a8443c510b2a87b": {
      "model_module": "@jupyter-widgets/controls",
      "model_module_version": "1.4.0",
      "model_name": "ProgressStyleModel",
      "state": {
       "description_width": "initial"
      }
     },
     "4f72ae606cf54b30bedc548cfba83159": {
      "model_module": "@jupyter-widgets/controls",
      "model_module_version": "1.4.0",
      "model_name": "HTMLModel",
      "state": {
       "layout": "IPY_MODEL_d0d00490b5b444eeac02f354c42837b5",
       "style": "IPY_MODEL_b84c1ac1e6b847ba8e0b448a1a2ac678",
       "value": " 6457/6457 [06:45&lt;00:00, 15.94it/s]"
      }
     },
     "507dde58c9494a5e9e522790c4ff7462": {
      "model_module": "@jupyter-widgets/base",
      "model_module_version": "1.1.0",
      "model_name": "LayoutModel",
      "state": {}
     },
     "511ed06687054c0d8889312db90468ca": {
      "model_module": "@jupyter-widgets/base",
      "model_module_version": "1.1.0",
      "model_name": "LayoutModel",
      "state": {}
     },
     "513470ba074f4c68a07a7ef5980c382c": {
      "model_module": "@jupyter-widgets/controls",
      "model_module_version": "1.4.0",
      "model_name": "HTMLModel",
      "state": {
       "layout": "IPY_MODEL_6da61a05d5b346669cd8ec201f979f34",
       "style": "IPY_MODEL_dfa7b7f2a48c463fb67c90fcb38b1552",
       "value": " 11/11 [04:11&lt;00:00, 22.56s/it]"
      }
     },
     "52392695bc774640ab2955a17257b3d4": {
      "model_module": "@jupyter-widgets/base",
      "model_module_version": "1.1.0",
      "model_name": "LayoutModel",
      "state": {}
     },
     "53400f5227134c45b4a39c0cdc625a9b": {
      "model_module": "@jupyter-widgets/controls",
      "model_module_version": "1.4.0",
      "model_name": "FloatProgressModel",
      "state": {
       "description": "Val_Iter: 100%",
       "layout": "IPY_MODEL_6cde6b30b4ae4ce7b86d38f7ae43c9d7",
       "max": 11,
       "style": "IPY_MODEL_fbeac5f84b0242389a1102667432c47b",
       "value": 11
      }
     },
     "54d5d5dc8bbc458682c1cb77e4380b30": {
      "model_module": "@jupyter-widgets/controls",
      "model_module_version": "1.4.0",
      "model_name": "ProgressStyleModel",
      "state": {
       "description_width": "initial"
      }
     },
     "5647668a4c3647abadd9b19814cc7803": {
      "model_module": "@jupyter-widgets/controls",
      "model_module_version": "1.4.0",
      "model_name": "ProgressStyleModel",
      "state": {
       "description_width": "initial"
      }
     },
     "572c5e5181f74bda896ea80d2a413758": {
      "model_module": "@jupyter-widgets/base",
      "model_module_version": "1.1.0",
      "model_name": "LayoutModel",
      "state": {}
     },
     "5957e1c24f834d149ee611310047e5c6": {
      "model_module": "@jupyter-widgets/controls",
      "model_module_version": "1.4.0",
      "model_name": "FloatProgressModel",
      "state": {
       "description": "Train_Iter: 100%",
       "layout": "IPY_MODEL_a53a933da21143eab8aca856165a6bb3",
       "max": 87,
       "style": "IPY_MODEL_0686955cb1b445a68a2a57b2dbaa6d2f",
       "value": 87
      }
     },
     "5a58d9469e09466e80609040f8d89430": {
      "model_module": "@jupyter-widgets/controls",
      "model_module_version": "1.4.0",
      "model_name": "ProgressStyleModel",
      "state": {
       "description_width": "initial"
      }
     },
     "5bd3ea47a2b142418ebf03e642e81071": {
      "model_module": "@jupyter-widgets/controls",
      "model_module_version": "1.4.0",
      "model_name": "HTMLModel",
      "state": {
       "layout": "IPY_MODEL_4e1c605555124d1aa818cc4349e12e0f",
       "style": "IPY_MODEL_0dfba8164d784be886b31fae8ec54e67",
       "value": " 11/11 [04:02&lt;00:00, 21.72s/it]"
      }
     },
     "5c1d0170e8e246e6ac8a430066fc4e47": {
      "model_module": "@jupyter-widgets/controls",
      "model_module_version": "1.4.0",
      "model_name": "HTMLModel",
      "state": {
       "layout": "IPY_MODEL_caeb75d385024953bb341830c880e69d",
       "style": "IPY_MODEL_2368f46ac52e45b6ac26c5697935d13f",
       "value": " 87/87 [53:41&lt;00:00, 37.20s/it]"
      }
     },
     "5d69211013eb4bfe8c44742799be75a2": {
      "model_module": "@jupyter-widgets/base",
      "model_module_version": "1.1.0",
      "model_name": "LayoutModel",
      "state": {}
     },
     "5d754b4cec1f49c9b585000654830094": {
      "model_module": "@jupyter-widgets/base",
      "model_module_version": "1.1.0",
      "model_name": "LayoutModel",
      "state": {}
     },
     "5dde6fdca1984060a91b6308eb096b87": {
      "model_module": "@jupyter-widgets/controls",
      "model_module_version": "1.4.0",
      "model_name": "DescriptionStyleModel",
      "state": {
       "description_width": ""
      }
     },
     "60e38d9af7f84d6196bcab9a0a12ccff": {
      "model_module": "@jupyter-widgets/base",
      "model_module_version": "1.1.0",
      "model_name": "LayoutModel",
      "state": {}
     },
     "611905a93b2b4c6487307c61a184b95e": {
      "model_module": "@jupyter-widgets/base",
      "model_module_version": "1.1.0",
      "model_name": "LayoutModel",
      "state": {}
     },
     "6122c3ddb0a84369a649d27570570cbc": {
      "model_module": "@jupyter-widgets/controls",
      "model_module_version": "1.4.0",
      "model_name": "DescriptionStyleModel",
      "state": {
       "description_width": ""
      }
     },
     "62a8ccb44b49489991920aec336526d8": {
      "model_module": "@jupyter-widgets/controls",
      "model_module_version": "1.4.0",
      "model_name": "DescriptionStyleModel",
      "state": {
       "description_width": ""
      }
     },
     "64247600538a4f42817056653504d453": {
      "model_module": "@jupyter-widgets/controls",
      "model_module_version": "1.4.0",
      "model_name": "ProgressStyleModel",
      "state": {
       "description_width": "initial"
      }
     },
     "642809ddfbf94c39ad35538cd368e0b2": {
      "model_module": "@jupyter-widgets/base",
      "model_module_version": "1.1.0",
      "model_name": "LayoutModel",
      "state": {}
     },
     "643c96d8fd9e485096937d7433b2be05": {
      "model_module": "@jupyter-widgets/base",
      "model_module_version": "1.1.0",
      "model_name": "LayoutModel",
      "state": {}
     },
     "648a2e23ffdc48108561842b13cd2d2c": {
      "model_module": "@jupyter-widgets/controls",
      "model_module_version": "1.4.0",
      "model_name": "FloatProgressModel",
      "state": {
       "description": "Train_Iter: 100%",
       "layout": "IPY_MODEL_3dbc414d37b8494fb9af0c7258d680eb",
       "max": 87,
       "style": "IPY_MODEL_ce2f97fc059a4b3791e7b9904c87527d",
       "value": 87
      }
     },
     "64c5b696c583401189d6062689629b0f": {
      "model_module": "@jupyter-widgets/controls",
      "model_module_version": "1.4.0",
      "model_name": "HTMLModel",
      "state": {
       "layout": "IPY_MODEL_4e948c5ef8114323b473a06cc7205d06",
       "style": "IPY_MODEL_d36a249433494db0a1022865722b618f",
       "value": " 2284/6457 [00:45&lt;01:22, 50.41it/s]"
      }
     },
     "65af2c1ce6cc4a7db329d01b71a01e2e": {
      "model_module": "@jupyter-widgets/base",
      "model_module_version": "1.1.0",
      "model_name": "LayoutModel",
      "state": {}
     },
     "664a29ec8c9246aabf75dae01b0f3e5e": {
      "model_module": "@jupyter-widgets/controls",
      "model_module_version": "1.4.0",
      "model_name": "ProgressStyleModel",
      "state": {
       "description_width": "initial"
      }
     },
     "66d19137fd8048cfb431c5f62eacf57a": {
      "model_module": "@jupyter-widgets/controls",
      "model_module_version": "1.4.0",
      "model_name": "HBoxModel",
      "state": {
       "children": [
        "IPY_MODEL_7d403306fab74c0285e4878e6d77c86d",
        "IPY_MODEL_2052b7f46d744fe4bb1239adc0a804a1"
       ],
       "layout": "IPY_MODEL_b402622cb6dc45859f9a6e15368b11b6"
      }
     },
     "66d40863d215472f9e7fec24b8f20b1f": {
      "model_module": "@jupyter-widgets/controls",
      "model_module_version": "1.4.0",
      "model_name": "DescriptionStyleModel",
      "state": {
       "description_width": ""
      }
     },
     "6c3d784744bd469d912b7c5de8887850": {
      "model_module": "@jupyter-widgets/controls",
      "model_module_version": "1.4.0",
      "model_name": "HBoxModel",
      "state": {
       "children": [
        "IPY_MODEL_80aa0c2d0c84425e8451a25c920e8ff7",
        "IPY_MODEL_ce8dd747fe9541548a17101e18619576"
       ],
       "layout": "IPY_MODEL_0e522d1d81e94f71a55592563548c143"
      }
     },
     "6c5c109e97da4d26b7a3495db6929dae": {
      "model_module": "@jupyter-widgets/base",
      "model_module_version": "1.1.0",
      "model_name": "LayoutModel",
      "state": {}
     },
     "6cde6b30b4ae4ce7b86d38f7ae43c9d7": {
      "model_module": "@jupyter-widgets/base",
      "model_module_version": "1.1.0",
      "model_name": "LayoutModel",
      "state": {}
     },
     "6da61a05d5b346669cd8ec201f979f34": {
      "model_module": "@jupyter-widgets/base",
      "model_module_version": "1.1.0",
      "model_name": "LayoutModel",
      "state": {}
     },
     "6e00e952dd9d4ced98ef4568248aaf4b": {
      "model_module": "@jupyter-widgets/controls",
      "model_module_version": "1.4.0",
      "model_name": "FloatProgressModel",
      "state": {
       "description": "Train_Iter: 100%",
       "layout": "IPY_MODEL_2dd0a930e4b245baa68522a15c599ebe",
       "max": 87,
       "style": "IPY_MODEL_98e59edbdef241ac9739720c6e370017",
       "value": 87
      }
     },
     "6ec51792af4c4f72b7f209be2bc4a765": {
      "model_module": "@jupyter-widgets/controls",
      "model_module_version": "1.4.0",
      "model_name": "DescriptionStyleModel",
      "state": {
       "description_width": ""
      }
     },
     "70e4a339eef74c9a8d4a5ccb8f8bc1c8": {
      "model_module": "@jupyter-widgets/controls",
      "model_module_version": "1.4.0",
      "model_name": "ProgressStyleModel",
      "state": {
       "description_width": "initial"
      }
     },
     "71dc3c1adab4472e8978e61e23d341ad": {
      "model_module": "@jupyter-widgets/controls",
      "model_module_version": "1.4.0",
      "model_name": "HTMLModel",
      "state": {
       "layout": "IPY_MODEL_611905a93b2b4c6487307c61a184b95e",
       "style": "IPY_MODEL_0b860d367e804ec2b99a27f85128bbaf",
       "value": " 3389/6457 [01:08&lt;01:02, 49.43it/s]"
      }
     },
     "729395fdd02048cd83598302b78a5235": {
      "model_module": "@jupyter-widgets/base",
      "model_module_version": "1.1.0",
      "model_name": "LayoutModel",
      "state": {}
     },
     "72a2701d461c48f3bcf907977706bcec": {
      "model_module": "@jupyter-widgets/base",
      "model_module_version": "1.1.0",
      "model_name": "LayoutModel",
      "state": {}
     },
     "73ef2f10fc1b4122a0d0ac2dd2c3eafd": {
      "model_module": "@jupyter-widgets/controls",
      "model_module_version": "1.4.0",
      "model_name": "HTMLModel",
      "state": {
       "layout": "IPY_MODEL_f25bc9a262e6463a85e7f09bc746f686",
       "style": "IPY_MODEL_5dde6fdca1984060a91b6308eb096b87",
       "value": " 11/11 [04:16&lt;00:00, 23.51s/it]"
      }
     },
     "74d59e14424b4ffbb01853720662bfec": {
      "model_module": "@jupyter-widgets/base",
      "model_module_version": "1.1.0",
      "model_name": "LayoutModel",
      "state": {}
     },
     "74e89dfc4d344adbb97818b7653cffa4": {
      "model_module": "@jupyter-widgets/controls",
      "model_module_version": "1.4.0",
      "model_name": "HTMLModel",
      "state": {
       "layout": "IPY_MODEL_afaba5099986406f9e58a97ee54db2fb",
       "style": "IPY_MODEL_4b2ec9ef9a4c448caa770602116d00ae",
       "value": " 11/11 [04:05&lt;00:00, 22.15s/it]"
      }
     },
     "75d4faf6982d41a1aaca6d065234257d": {
      "model_module": "@jupyter-widgets/controls",
      "model_module_version": "1.4.0",
      "model_name": "FloatProgressModel",
      "state": {
       "description": "Val_Iter: 100%",
       "layout": "IPY_MODEL_f10d68d5ff6944dd87530bd23c0ff692",
       "max": 11,
       "style": "IPY_MODEL_fd7ce960db12442f90422ac8c14e3686",
       "value": 11
      }
     },
     "77d708b4887e41deb01780db29dbb513": {
      "model_module": "@jupyter-widgets/controls",
      "model_module_version": "1.4.0",
      "model_name": "FloatProgressModel",
      "state": {
       "description": "Val_Iter: 100%",
       "layout": "IPY_MODEL_d08af3e0fc974cadad3c33e76efa7cff",
       "max": 11,
       "style": "IPY_MODEL_f99bedd6659c48bc8fed09751d1ebd75",
       "value": 11
      }
     },
     "787b8e9ce5394780992242357f19513d": {
      "model_module": "@jupyter-widgets/controls",
      "model_module_version": "1.4.0",
      "model_name": "FloatProgressModel",
      "state": {
       "description": "Val_Iter: 100%",
       "layout": "IPY_MODEL_a1879834b0b5450b88a9aeea026b71fd",
       "max": 11,
       "style": "IPY_MODEL_e5ccf06e9c4d422b9206cf17fdccb835",
       "value": 11
      }
     },
     "78ba93fce5c54c3680782ac46456eb2b": {
      "model_module": "@jupyter-widgets/controls",
      "model_module_version": "1.4.0",
      "model_name": "HTMLModel",
      "state": {
       "layout": "IPY_MODEL_82e393822d07459b9609ab1520a1b956",
       "style": "IPY_MODEL_e49b2392bbf449b28d6c8a7510038fa5",
       "value": " 0/87 [2:50:59&lt;?, ?it/s]"
      }
     },
     "7940b28c77544881b9c8c1e7ffa47634": {
      "model_module": "@jupyter-widgets/controls",
      "model_module_version": "1.4.0",
      "model_name": "ProgressStyleModel",
      "state": {
       "description_width": "initial"
      }
     },
     "79b23caa99ab4fcfaa1bd525fc54dd6e": {
      "model_module": "@jupyter-widgets/base",
      "model_module_version": "1.1.0",
      "model_name": "LayoutModel",
      "state": {}
     },
     "7a1ce6b54c07406eae5a9f0a5dc23852": {
      "model_module": "@jupyter-widgets/base",
      "model_module_version": "1.1.0",
      "model_name": "LayoutModel",
      "state": {}
     },
     "7b76244a956b40038131605737f79aeb": {
      "model_module": "@jupyter-widgets/controls",
      "model_module_version": "1.4.0",
      "model_name": "HBoxModel",
      "state": {
       "children": [
        "IPY_MODEL_9ffff54b3ae146ffa03ea245daa4ef0f",
        "IPY_MODEL_15c5c40caf5c419384c930ca5cf787bb"
       ],
       "layout": "IPY_MODEL_511ed06687054c0d8889312db90468ca"
      }
     },
     "7bd832a9bed44210817e0edfcaef2f6a": {
      "model_module": "@jupyter-widgets/controls",
      "model_module_version": "1.4.0",
      "model_name": "DescriptionStyleModel",
      "state": {
       "description_width": ""
      }
     },
     "7c0c27deb4c14fabb089f6742d4ed759": {
      "model_module": "@jupyter-widgets/controls",
      "model_module_version": "1.4.0",
      "model_name": "FloatProgressModel",
      "state": {
       "description": "Train_Iter: 100%",
       "layout": "IPY_MODEL_79b23caa99ab4fcfaa1bd525fc54dd6e",
       "max": 87,
       "style": "IPY_MODEL_e4d6aa24b23542cca64e6b6bbc957290",
       "value": 87
      }
     },
     "7c0f72b58f434862a6d7469d19591738": {
      "model_module": "@jupyter-widgets/controls",
      "model_module_version": "1.4.0",
      "model_name": "FloatProgressModel",
      "state": {
       "description": "Val_Iter: 100%",
       "layout": "IPY_MODEL_35ee73941b254fc39ad724ef715986f9",
       "max": 11,
       "style": "IPY_MODEL_1c04700293c6429d92cfa48a870a1913",
       "value": 11
      }
     },
     "7c7c8065e8094d2bb28785e68d3d6e5e": {
      "model_module": "@jupyter-widgets/base",
      "model_module_version": "1.1.0",
      "model_name": "LayoutModel",
      "state": {}
     },
     "7d403306fab74c0285e4878e6d77c86d": {
      "model_module": "@jupyter-widgets/controls",
      "model_module_version": "1.4.0",
      "model_name": "FloatProgressModel",
      "state": {
       "bar_style": "danger",
       "description": "Train_Iter:  23%",
       "layout": "IPY_MODEL_f36138565c29487b922a0b6eb8a8e4f0",
       "max": 87,
       "style": "IPY_MODEL_0990ad529e90440894fecbbd7a2ada24",
       "value": 20
      }
     },
     "7d752123f9294b29b3a6dfc381a1f6ea": {
      "model_module": "@jupyter-widgets/controls",
      "model_module_version": "1.4.0",
      "model_name": "FloatProgressModel",
      "state": {
       "description": "Train_Iter:   0%",
       "layout": "IPY_MODEL_824bff6353cd4dc9a915b327592b1adf",
       "max": 87,
       "style": "IPY_MODEL_8ba1594aacea484aa393a857bd9e0ddf"
      }
     },
     "7e3993445e57417eab04babf83884ae5": {
      "model_module": "@jupyter-widgets/controls",
      "model_module_version": "1.4.0",
      "model_name": "DescriptionStyleModel",
      "state": {
       "description_width": ""
      }
     },
     "7e7ce718a7bc43b2923e4a14ae9ca300": {
      "model_module": "@jupyter-widgets/controls",
      "model_module_version": "1.4.0",
      "model_name": "FloatProgressModel",
      "state": {
       "description": "Val_Iter: 100%",
       "layout": "IPY_MODEL_4d9a1459eb6346a69de0df6b350048f0",
       "max": 11,
       "style": "IPY_MODEL_174f37da3ad94a50bbb9c84f0c3383e1",
       "value": 11
      }
     },
     "7f4f41d1160048ce881da4d924ac18a4": {
      "model_module": "@jupyter-widgets/base",
      "model_module_version": "1.1.0",
      "model_name": "LayoutModel",
      "state": {}
     },
     "7fc0a03f8e284e94b24bf0f7368b30f6": {
      "model_module": "@jupyter-widgets/controls",
      "model_module_version": "1.4.0",
      "model_name": "ProgressStyleModel",
      "state": {
       "description_width": "initial"
      }
     },
     "80aa0c2d0c84425e8451a25c920e8ff7": {
      "model_module": "@jupyter-widgets/controls",
      "model_module_version": "1.4.0",
      "model_name": "FloatProgressModel",
      "state": {
       "bar_style": "danger",
       "description": "  3%",
       "layout": "IPY_MODEL_7a1ce6b54c07406eae5a9f0a5dc23852",
       "max": 300,
       "style": "IPY_MODEL_efe57cb56a6e4d5a95375dca119cc01c",
       "value": 10
      }
     },
     "813aac6bc7044036bf27053ed808b895": {
      "model_module": "@jupyter-widgets/controls",
      "model_module_version": "1.4.0",
      "model_name": "FloatProgressModel",
      "state": {
       "description": "Train_Iter: 100%",
       "layout": "IPY_MODEL_b35991b4fa2448b2aa91531f875c65cf",
       "max": 87,
       "style": "IPY_MODEL_973dd3c7ebd741ab9aad9d5b9f290cef",
       "value": 87
      }
     },
     "824bff6353cd4dc9a915b327592b1adf": {
      "model_module": "@jupyter-widgets/base",
      "model_module_version": "1.1.0",
      "model_name": "LayoutModel",
      "state": {}
     },
     "824caf80c40e4baf85f6a5215526cc79": {
      "model_module": "@jupyter-widgets/controls",
      "model_module_version": "1.4.0",
      "model_name": "HBoxModel",
      "state": {
       "children": [
        "IPY_MODEL_2f2604d040cd4e2c931a8556bdf06a2c",
        "IPY_MODEL_299a123c88004d90a95bad4b1909050b"
       ],
       "layout": "IPY_MODEL_cca1157538bf462eb48caabcd2e79efc"
      }
     },
     "826f28fbb3234f5697a095f9ba30e0dc": {
      "model_module": "@jupyter-widgets/controls",
      "model_module_version": "1.4.0",
      "model_name": "DescriptionStyleModel",
      "state": {
       "description_width": ""
      }
     },
     "8281785c0c6c4e5d92f79692755ae6ea": {
      "model_module": "@jupyter-widgets/base",
      "model_module_version": "1.1.0",
      "model_name": "LayoutModel",
      "state": {}
     },
     "82df1e5d6406449eab6588d8fd47a450": {
      "model_module": "@jupyter-widgets/base",
      "model_module_version": "1.1.0",
      "model_name": "LayoutModel",
      "state": {}
     },
     "82e393822d07459b9609ab1520a1b956": {
      "model_module": "@jupyter-widgets/base",
      "model_module_version": "1.1.0",
      "model_name": "LayoutModel",
      "state": {}
     },
     "831d94698c33465db8277691c9a69757": {
      "model_module": "@jupyter-widgets/controls",
      "model_module_version": "1.4.0",
      "model_name": "ProgressStyleModel",
      "state": {
       "description_width": "initial"
      }
     },
     "83519f8aed8c4afca6a07cc05b06dec4": {
      "model_module": "@jupyter-widgets/base",
      "model_module_version": "1.1.0",
      "model_name": "LayoutModel",
      "state": {}
     },
     "83775c949d1543189e30f552912f68aa": {
      "model_module": "@jupyter-widgets/controls",
      "model_module_version": "1.4.0",
      "model_name": "FloatProgressModel",
      "state": {
       "description": "Val_Iter: 100%",
       "layout": "IPY_MODEL_8281785c0c6c4e5d92f79692755ae6ea",
       "max": 11,
       "style": "IPY_MODEL_c40f09d480c1475d97873cf9b33eda09",
       "value": 11
      }
     },
     "83f75d1519b9402c8e264890b09a4502": {
      "model_module": "@jupyter-widgets/base",
      "model_module_version": "1.1.0",
      "model_name": "LayoutModel",
      "state": {}
     },
     "85c9a745932a4f82abad4b910abfdfbc": {
      "model_module": "@jupyter-widgets/base",
      "model_module_version": "1.1.0",
      "model_name": "LayoutModel",
      "state": {}
     },
     "87e19f680ebc4e3fafefc9d2826defb1": {
      "model_module": "@jupyter-widgets/controls",
      "model_module_version": "1.4.0",
      "model_name": "FloatProgressModel",
      "state": {
       "bar_style": "success",
       "description": "100%",
       "layout": "IPY_MODEL_fc228996770f4347a785bba130b2486c",
       "max": 6457,
       "style": "IPY_MODEL_bb06f72928394f16b2f75eac1d6c095f",
       "value": 6457
      }
     },
     "8993a4cb918144f9892a9605b35e9c7e": {
      "model_module": "@jupyter-widgets/base",
      "model_module_version": "1.1.0",
      "model_name": "LayoutModel",
      "state": {}
     },
     "8a11be9940b3412ca2f6081808b02f1b": {
      "model_module": "@jupyter-widgets/controls",
      "model_module_version": "1.4.0",
      "model_name": "DescriptionStyleModel",
      "state": {
       "description_width": ""
      }
     },
     "8b212c6dddcf4f91ba560d6f112d488a": {
      "model_module": "@jupyter-widgets/controls",
      "model_module_version": "1.4.0",
      "model_name": "FloatProgressModel",
      "state": {
       "description": "Train_Iter: 100%",
       "layout": "IPY_MODEL_ca9faadee9334413ae8fd59a2d140b3d",
       "max": 87,
       "style": "IPY_MODEL_e7fb2ad6672141c1b63d4b4b6caac70a",
       "value": 87
      }
     },
     "8b80339ce05a4d20ba2848821df720a6": {
      "model_module": "@jupyter-widgets/base",
      "model_module_version": "1.1.0",
      "model_name": "LayoutModel",
      "state": {}
     },
     "8ba1594aacea484aa393a857bd9e0ddf": {
      "model_module": "@jupyter-widgets/controls",
      "model_module_version": "1.4.0",
      "model_name": "ProgressStyleModel",
      "state": {
       "description_width": "initial"
      }
     },
     "8becaa1fb75a4fb3ba844ab0dcfd6ecc": {
      "model_module": "@jupyter-widgets/controls",
      "model_module_version": "1.4.0",
      "model_name": "HTMLModel",
      "state": {
       "layout": "IPY_MODEL_28f098caa09149a4b787e3b18aa659e0",
       "style": "IPY_MODEL_3f0d8579920b4854bb0ffff145fdcbe9",
       "value": " 87/87 [53:43&lt;00:00, 38.25s/it]"
      }
     },
     "8d9959877e5c42e8aead176c1b99311d": {
      "model_module": "@jupyter-widgets/controls",
      "model_module_version": "1.4.0",
      "model_name": "ProgressStyleModel",
      "state": {
       "description_width": "initial"
      }
     },
     "8e34b98516ba4944ab067e463887b3dd": {
      "model_module": "@jupyter-widgets/controls",
      "model_module_version": "1.4.0",
      "model_name": "HTMLModel",
      "state": {
       "layout": "IPY_MODEL_8b80339ce05a4d20ba2848821df720a6",
       "style": "IPY_MODEL_6ec51792af4c4f72b7f209be2bc4a765",
       "value": " 87/87 [52:36&lt;00:00, 36.80s/it]"
      }
     },
     "8f24c805959b4c66b5676defb5e45bd7": {
      "model_module": "@jupyter-widgets/controls",
      "model_module_version": "1.4.0",
      "model_name": "HTMLModel",
      "state": {
       "layout": "IPY_MODEL_e1c39d3ccbdd4dd38984114d3fa7d7e6",
       "style": "IPY_MODEL_e5fe46f789054e53a6d371c22c67ef5c",
       "value": " 5/50 [4:59:11&lt;45:02:33, 3603.41s/it]"
      }
     },
     "90b245a3d601450b9bcc6583d2126438": {
      "model_module": "@jupyter-widgets/controls",
      "model_module_version": "1.4.0",
      "model_name": "HTMLModel",
      "state": {
       "layout": "IPY_MODEL_4023f171a7874f8899a65db161ef35b1",
       "style": "IPY_MODEL_d85e66ebc1924eeeb003c98dbad6fdf0",
       "value": " 87/87 [54:20&lt;00:00, 36.31s/it]"
      }
     },
     "92cc703ca5084a27904305c2c3e8a46a": {
      "model_module": "@jupyter-widgets/controls",
      "model_module_version": "1.4.0",
      "model_name": "FloatProgressModel",
      "state": {
       "description": "Train_Iter: 100%",
       "layout": "IPY_MODEL_fb1534803e1447309be173eaf52bad78",
       "max": 87,
       "style": "IPY_MODEL_a9e618e446db4300940da6dfbbd35473",
       "value": 87
      }
     },
     "9442ba984c684ee1884c0a1c017ab5c6": {
      "model_module": "@jupyter-widgets/base",
      "model_module_version": "1.1.0",
      "model_name": "LayoutModel",
      "state": {}
     },
     "95a8d0221b8644288af205b07b05a460": {
      "model_module": "@jupyter-widgets/base",
      "model_module_version": "1.1.0",
      "model_name": "LayoutModel",
      "state": {}
     },
     "96d57fbf84ef4c68aae24a2accfc43a9": {
      "model_module": "@jupyter-widgets/controls",
      "model_module_version": "1.4.0",
      "model_name": "HTMLModel",
      "state": {
       "layout": "IPY_MODEL_ef080220e11944638f561cb163356595",
       "style": "IPY_MODEL_df4956c28a724455b6a4a88004468e52",
       "value": " 87/87 [53:39&lt;00:00, 37.46s/it]"
      }
     },
     "973d5cfd7c144697b43520566c00d8f7": {
      "model_module": "@jupyter-widgets/base",
      "model_module_version": "1.1.0",
      "model_name": "LayoutModel",
      "state": {}
     },
     "973dd3c7ebd741ab9aad9d5b9f290cef": {
      "model_module": "@jupyter-widgets/controls",
      "model_module_version": "1.4.0",
      "model_name": "ProgressStyleModel",
      "state": {
       "description_width": "initial"
      }
     },
     "97db682d9dd44519abaf99ad0967b103": {
      "model_module": "@jupyter-widgets/controls",
      "model_module_version": "1.4.0",
      "model_name": "FloatProgressModel",
      "state": {
       "description": "Train_Iter: 100%",
       "layout": "IPY_MODEL_9442ba984c684ee1884c0a1c017ab5c6",
       "max": 87,
       "style": "IPY_MODEL_ef313b3a596f4377870fd3f2f963fec8",
       "value": 87
      }
     },
     "97feac2b54ef413c957e919082d30aab": {
      "model_module": "@jupyter-widgets/base",
      "model_module_version": "1.1.0",
      "model_name": "LayoutModel",
      "state": {}
     },
     "988de7cf6731462ca30c612f50991c9d": {
      "model_module": "@jupyter-widgets/controls",
      "model_module_version": "1.4.0",
      "model_name": "HTMLModel",
      "state": {
       "layout": "IPY_MODEL_0618ddd48aa24064bfa7f7aea072302c",
       "style": "IPY_MODEL_f66b5ca7e643442592fbbc4a0a85f26f",
       "value": " 87/87 [53:38&lt;00:00, 36.88s/it]"
      }
     },
     "98cb38a225034c839f812ed49bc98ac2": {
      "model_module": "@jupyter-widgets/controls",
      "model_module_version": "1.4.0",
      "model_name": "DescriptionStyleModel",
      "state": {
       "description_width": ""
      }
     },
     "98e59edbdef241ac9739720c6e370017": {
      "model_module": "@jupyter-widgets/controls",
      "model_module_version": "1.4.0",
      "model_name": "ProgressStyleModel",
      "state": {
       "description_width": "initial"
      }
     },
     "991333b872ae4237a5a8b303eb42ffb3": {
      "model_module": "@jupyter-widgets/controls",
      "model_module_version": "1.4.0",
      "model_name": "HTMLModel",
      "state": {
       "layout": "IPY_MODEL_fe29101c64d642e5a88ba98b97bf4ac1",
       "style": "IPY_MODEL_8a11be9940b3412ca2f6081808b02f1b",
       "value": " 11/11 [04:14&lt;00:00, 23.06s/it]"
      }
     },
     "991563d268824ca2b3be8c065bdbf372": {
      "model_module": "@jupyter-widgets/base",
      "model_module_version": "1.1.0",
      "model_name": "LayoutModel",
      "state": {}
     },
     "99aff0993f8643abb59db9e1d6a16059": {
      "model_module": "@jupyter-widgets/base",
      "model_module_version": "1.1.0",
      "model_name": "LayoutModel",
      "state": {}
     },
     "99cf523813d8400bbafb6723c9661b5d": {
      "model_module": "@jupyter-widgets/controls",
      "model_module_version": "1.4.0",
      "model_name": "FloatProgressModel",
      "state": {
       "description": "Val_Iter: 100%",
       "layout": "IPY_MODEL_5d69211013eb4bfe8c44742799be75a2",
       "max": 11,
       "style": "IPY_MODEL_d31dea4b7b6a4302ab7748d5b59b3e31",
       "value": 11
      }
     },
     "9aa51d11fffe440fbb026e0b2f8ef544": {
      "model_module": "@jupyter-widgets/controls",
      "model_module_version": "1.4.0",
      "model_name": "DescriptionStyleModel",
      "state": {
       "description_width": ""
      }
     },
     "9d5d591b9d62440788b4a0b844df0cb4": {
      "model_module": "@jupyter-widgets/base",
      "model_module_version": "1.1.0",
      "model_name": "LayoutModel",
      "state": {}
     },
     "9d60264dec6340b5b92082e95a33d63e": {
      "model_module": "@jupyter-widgets/controls",
      "model_module_version": "1.4.0",
      "model_name": "ProgressStyleModel",
      "state": {
       "description_width": "initial"
      }
     },
     "9e099eff602140f8b9790113cb391741": {
      "model_module": "@jupyter-widgets/base",
      "model_module_version": "1.1.0",
      "model_name": "LayoutModel",
      "state": {}
     },
     "9f88831b1e574b8ea902bb7fdb4375ed": {
      "model_module": "@jupyter-widgets/controls",
      "model_module_version": "1.4.0",
      "model_name": "FloatProgressModel",
      "state": {
       "description": "Train_Iter: 100%",
       "layout": "IPY_MODEL_7f4f41d1160048ce881da4d924ac18a4",
       "max": 87,
       "style": "IPY_MODEL_1ef0475776934256bcc2e5e6e89d4935",
       "value": 87
      }
     },
     "9fc33061eb9e4275924159c10b5f53d2": {
      "model_module": "@jupyter-widgets/controls",
      "model_module_version": "1.4.0",
      "model_name": "DescriptionStyleModel",
      "state": {
       "description_width": ""
      }
     },
     "9ffff54b3ae146ffa03ea245daa4ef0f": {
      "model_module": "@jupyter-widgets/controls",
      "model_module_version": "1.4.0",
      "model_name": "FloatProgressModel",
      "state": {
       "description": "Train_Iter:  16%",
       "layout": "IPY_MODEL_1c7085a5ca4e4b0b81d08c57ca94f16f",
       "max": 87,
       "style": "IPY_MODEL_a7a79ae20cf34badbec2f3eb08531a62",
       "value": 14
      }
     },
     "a0b811dca4de460cb8ee57dc19da60cb": {
      "model_module": "@jupyter-widgets/base",
      "model_module_version": "1.1.0",
      "model_name": "LayoutModel",
      "state": {}
     },
     "a1879834b0b5450b88a9aeea026b71fd": {
      "model_module": "@jupyter-widgets/base",
      "model_module_version": "1.1.0",
      "model_name": "LayoutModel",
      "state": {}
     },
     "a3e3e464843b412ea010c6e32d57e2ea": {
      "model_module": "@jupyter-widgets/controls",
      "model_module_version": "1.4.0",
      "model_name": "DescriptionStyleModel",
      "state": {
       "description_width": ""
      }
     },
     "a53a933da21143eab8aca856165a6bb3": {
      "model_module": "@jupyter-widgets/base",
      "model_module_version": "1.1.0",
      "model_name": "LayoutModel",
      "state": {}
     },
     "a5d31587ee6f498d893a5366a8d117bd": {
      "model_module": "@jupyter-widgets/controls",
      "model_module_version": "1.4.0",
      "model_name": "FloatProgressModel",
      "state": {
       "description": "Train_Iter: 100%",
       "layout": "IPY_MODEL_a0b811dca4de460cb8ee57dc19da60cb",
       "max": 87,
       "style": "IPY_MODEL_d9be3ac510ba4934a018e93d9762a9e5",
       "value": 87
      }
     },
     "a6224a1c95fa4bff8e87ebdf36e4e430": {
      "model_module": "@jupyter-widgets/base",
      "model_module_version": "1.1.0",
      "model_name": "LayoutModel",
      "state": {}
     },
     "a77b20594717439c857484463f15d685": {
      "model_module": "@jupyter-widgets/controls",
      "model_module_version": "1.4.0",
      "model_name": "DescriptionStyleModel",
      "state": {
       "description_width": ""
      }
     },
     "a7a79ae20cf34badbec2f3eb08531a62": {
      "model_module": "@jupyter-widgets/controls",
      "model_module_version": "1.4.0",
      "model_name": "ProgressStyleModel",
      "state": {
       "description_width": "initial"
      }
     },
     "a852123b0b344d1ea6a73d2e7b266884": {
      "model_module": "@jupyter-widgets/controls",
      "model_module_version": "1.4.0",
      "model_name": "DescriptionStyleModel",
      "state": {
       "description_width": ""
      }
     },
     "a948bb65c4f845c5a225b0cfeac71865": {
      "model_module": "@jupyter-widgets/controls",
      "model_module_version": "1.4.0",
      "model_name": "ProgressStyleModel",
      "state": {
       "description_width": "initial"
      }
     },
     "a9e618e446db4300940da6dfbbd35473": {
      "model_module": "@jupyter-widgets/controls",
      "model_module_version": "1.4.0",
      "model_name": "ProgressStyleModel",
      "state": {
       "description_width": "initial"
      }
     },
     "aae650ab4d1246d7bcdfb09e9c4ebf2a": {
      "model_module": "@jupyter-widgets/controls",
      "model_module_version": "1.4.0",
      "model_name": "HTMLModel",
      "state": {
       "layout": "IPY_MODEL_e93bf1517694446f843fc1fc95368e49",
       "style": "IPY_MODEL_9fc33061eb9e4275924159c10b5f53d2",
       "value": " 11/11 [04:13&lt;00:00, 22.93s/it]"
      }
     },
     "ab55958884ca4a2684421323c44d769e": {
      "model_module": "@jupyter-widgets/base",
      "model_module_version": "1.1.0",
      "model_name": "LayoutModel",
      "state": {}
     },
     "ac13ca84cd7e40fab768ade2fd7d7dcf": {
      "model_module": "@jupyter-widgets/controls",
      "model_module_version": "1.4.0",
      "model_name": "HBoxModel",
      "state": {
       "children": [
        "IPY_MODEL_c06d924bd0cf428da464ebf4399d4039",
        "IPY_MODEL_78ba93fce5c54c3680782ac46456eb2b"
       ],
       "layout": "IPY_MODEL_1fd2f5558ccf4b31b9546312dc0fa4eb"
      }
     },
     "ac7a51ab758f428bafe51c6d6d4a346f": {
      "model_module": "@jupyter-widgets/base",
      "model_module_version": "1.1.0",
      "model_name": "LayoutModel",
      "state": {}
     },
     "ac81a08efb6943dfbdd2284ff6b42a04": {
      "model_module": "@jupyter-widgets/controls",
      "model_module_version": "1.4.0",
      "model_name": "FloatProgressModel",
      "state": {
       "description": "Train_Iter: 100%",
       "layout": "IPY_MODEL_efcc88a1579e4d6bae453bd8f5bc751d",
       "max": 87,
       "style": "IPY_MODEL_bb6f95a03726476eb309286c0114e60d",
       "value": 87
      }
     },
     "ae163356c70c4639ae023bf0e578b826": {
      "model_module": "@jupyter-widgets/controls",
      "model_module_version": "1.4.0",
      "model_name": "HTMLModel",
      "state": {
       "layout": "IPY_MODEL_a6224a1c95fa4bff8e87ebdf36e4e430",
       "style": "IPY_MODEL_1fc6ec1bf412461d97d727cfe944c8bd",
       "value": " 87/87 [51:50&lt;00:00, 35.65s/it]"
      }
     },
     "ae6c07f5a8c3449681c188884848feb9": {
      "model_module": "@jupyter-widgets/base",
      "model_module_version": "1.1.0",
      "model_name": "LayoutModel",
      "state": {}
     },
     "af93fe0c08024baa97c53632eb64df5c": {
      "model_module": "@jupyter-widgets/base",
      "model_module_version": "1.1.0",
      "model_name": "LayoutModel",
      "state": {}
     },
     "afaba5099986406f9e58a97ee54db2fb": {
      "model_module": "@jupyter-widgets/base",
      "model_module_version": "1.1.0",
      "model_name": "LayoutModel",
      "state": {}
     },
     "afbf535eda894bad929fdecea1f009b8": {
      "model_module": "@jupyter-widgets/base",
      "model_module_version": "1.1.0",
      "model_name": "LayoutModel",
      "state": {}
     },
     "b03d5c57fd794794aafe9bddbe279a4b": {
      "model_module": "@jupyter-widgets/base",
      "model_module_version": "1.1.0",
      "model_name": "LayoutModel",
      "state": {}
     },
     "b06768d17e6a4e6fbb0bc060bf8051bd": {
      "model_module": "@jupyter-widgets/controls",
      "model_module_version": "1.4.0",
      "model_name": "HTMLModel",
      "state": {
       "layout": "IPY_MODEL_b9cdf2dccb0647a28e0df278c0e8ee87",
       "style": "IPY_MODEL_3873619e15984e2785999a5082af8b55",
       "value": " 11/11 [04:16&lt;00:00, 23.36s/it]"
      }
     },
     "b0d92c85f0244d169f1e9eaea3595c3c": {
      "model_module": "@jupyter-widgets/base",
      "model_module_version": "1.1.0",
      "model_name": "LayoutModel",
      "state": {}
     },
     "b137948b9168496eb490f09a368fadc0": {
      "model_module": "@jupyter-widgets/controls",
      "model_module_version": "1.4.0",
      "model_name": "FloatProgressModel",
      "state": {
       "description": "Val_Iter: 100%",
       "layout": "IPY_MODEL_973d5cfd7c144697b43520566c00d8f7",
       "max": 11,
       "style": "IPY_MODEL_64247600538a4f42817056653504d453",
       "value": 11
      }
     },
     "b1e2d7a8e5e649378275353af2320df6": {
      "model_module": "@jupyter-widgets/controls",
      "model_module_version": "1.4.0",
      "model_name": "ProgressStyleModel",
      "state": {
       "description_width": "initial"
      }
     },
     "b2243570e82b410e8a3da00127f16ce3": {
      "model_module": "@jupyter-widgets/controls",
      "model_module_version": "1.4.0",
      "model_name": "HTMLModel",
      "state": {
       "layout": "IPY_MODEL_82df1e5d6406449eab6588d8fd47a450",
       "style": "IPY_MODEL_e33fe72bb2ef4e73a85e0fb917b45469",
       "value": " 11/11 [04:14&lt;00:00, 23.21s/it]"
      }
     },
     "b259e15f64a64172a636c01ad50098d0": {
      "model_module": "@jupyter-widgets/controls",
      "model_module_version": "1.4.0",
      "model_name": "FloatProgressModel",
      "state": {
       "bar_style": "danger",
       "description": " 52%",
       "layout": "IPY_MODEL_f5638e32e9fe44c09d9109cb7efb6e54",
       "max": 6457,
       "style": "IPY_MODEL_8d9959877e5c42e8aead176c1b99311d",
       "value": 3389
      }
     },
     "b35991b4fa2448b2aa91531f875c65cf": {
      "model_module": "@jupyter-widgets/base",
      "model_module_version": "1.1.0",
      "model_name": "LayoutModel",
      "state": {}
     },
     "b363d1e512884aaf95b42b34d820ffb2": {
      "model_module": "@jupyter-widgets/controls",
      "model_module_version": "1.4.0",
      "model_name": "DescriptionStyleModel",
      "state": {
       "description_width": ""
      }
     },
     "b402622cb6dc45859f9a6e15368b11b6": {
      "model_module": "@jupyter-widgets/base",
      "model_module_version": "1.1.0",
      "model_name": "LayoutModel",
      "state": {}
     },
     "b4174ca72806480c9c40fe74f457a944": {
      "model_module": "@jupyter-widgets/controls",
      "model_module_version": "1.4.0",
      "model_name": "HBoxModel",
      "state": {
       "children": [
        "IPY_MODEL_db80c0e8f732499f93c2afc2f02c5d18",
        "IPY_MODEL_8f24c805959b4c66b5676defb5e45bd7"
       ],
       "layout": "IPY_MODEL_432456c5b30844dd8eeb54c1c628da7a"
      }
     },
     "b57f2832800441ee985f911a1f193df6": {
      "model_module": "@jupyter-widgets/controls",
      "model_module_version": "1.4.0",
      "model_name": "DescriptionStyleModel",
      "state": {
       "description_width": ""
      }
     },
     "b5d500a3771f4fb4902fba70d880a41d": {
      "model_module": "@jupyter-widgets/controls",
      "model_module_version": "1.4.0",
      "model_name": "DescriptionStyleModel",
      "state": {
       "description_width": ""
      }
     },
     "b70b6eaecfa140a8ba16f2ae92f9a8b7": {
      "model_module": "@jupyter-widgets/base",
      "model_module_version": "1.1.0",
      "model_name": "LayoutModel",
      "state": {}
     },
     "b70f5a880f45428dbe70daa939f1d436": {
      "model_module": "@jupyter-widgets/base",
      "model_module_version": "1.1.0",
      "model_name": "LayoutModel",
      "state": {}
     },
     "b7a5cb76033d4398a19ef04dc0c18e99": {
      "model_module": "@jupyter-widgets/base",
      "model_module_version": "1.1.0",
      "model_name": "LayoutModel",
      "state": {}
     },
     "b84c1ac1e6b847ba8e0b448a1a2ac678": {
      "model_module": "@jupyter-widgets/controls",
      "model_module_version": "1.4.0",
      "model_name": "DescriptionStyleModel",
      "state": {
       "description_width": ""
      }
     },
     "b942a08c21a14c79b4862929ca4e44ed": {
      "model_module": "@jupyter-widgets/base",
      "model_module_version": "1.1.0",
      "model_name": "LayoutModel",
      "state": {}
     },
     "b9cdf2dccb0647a28e0df278c0e8ee87": {
      "model_module": "@jupyter-widgets/base",
      "model_module_version": "1.1.0",
      "model_name": "LayoutModel",
      "state": {}
     },
     "ba266ee856984ab4857114c6cde18d86": {
      "model_module": "@jupyter-widgets/base",
      "model_module_version": "1.1.0",
      "model_name": "LayoutModel",
      "state": {}
     },
     "ba659d6aab6246a8a34b773629465f25": {
      "model_module": "@jupyter-widgets/base",
      "model_module_version": "1.1.0",
      "model_name": "LayoutModel",
      "state": {}
     },
     "bb06f72928394f16b2f75eac1d6c095f": {
      "model_module": "@jupyter-widgets/controls",
      "model_module_version": "1.4.0",
      "model_name": "ProgressStyleModel",
      "state": {
       "description_width": "initial"
      }
     },
     "bb6f95a03726476eb309286c0114e60d": {
      "model_module": "@jupyter-widgets/controls",
      "model_module_version": "1.4.0",
      "model_name": "ProgressStyleModel",
      "state": {
       "description_width": "initial"
      }
     },
     "bdb5c406e60940d9947711013c06dfc9": {
      "model_module": "@jupyter-widgets/base",
      "model_module_version": "1.1.0",
      "model_name": "LayoutModel",
      "state": {}
     },
     "be16aef3cc454da598e07725d07262cd": {
      "model_module": "@jupyter-widgets/controls",
      "model_module_version": "1.4.0",
      "model_name": "ProgressStyleModel",
      "state": {
       "description_width": "initial"
      }
     },
     "c06d924bd0cf428da464ebf4399d4039": {
      "model_module": "@jupyter-widgets/controls",
      "model_module_version": "1.4.0",
      "model_name": "FloatProgressModel",
      "state": {
       "bar_style": "danger",
       "description": "Train_Iter:   0%",
       "layout": "IPY_MODEL_b70f5a880f45428dbe70daa939f1d436",
       "max": 87,
       "style": "IPY_MODEL_16cdc7cd5bb54a308935142b9776b7d7"
      }
     },
     "c15156fea849420fa0feae96c3ac92a7": {
      "model_module": "@jupyter-widgets/base",
      "model_module_version": "1.1.0",
      "model_name": "LayoutModel",
      "state": {}
     },
     "c15a594b68454207904aa340f3481fa0": {
      "model_module": "@jupyter-widgets/controls",
      "model_module_version": "1.4.0",
      "model_name": "HTMLModel",
      "state": {
       "layout": "IPY_MODEL_52392695bc774640ab2955a17257b3d4",
       "style": "IPY_MODEL_b57f2832800441ee985f911a1f193df6",
       "value": " 0/50 [00:00&lt;?, ?it/s]"
      }
     },
     "c1686bf9a7c04c3ca428d493a0a7ab88": {
      "model_module": "@jupyter-widgets/controls",
      "model_module_version": "1.4.0",
      "model_name": "HTMLModel",
      "state": {
       "layout": "IPY_MODEL_daf109cb339c46df9b9f03d17b044802",
       "style": "IPY_MODEL_ef6811cf01874e55a2e462e469ae053c",
       "value": " 87/87 [1:00:03&lt;00:00, 42.30s/it]"
      }
     },
     "c2019ab6cc6843d5b68403a2fb39a40f": {
      "model_module": "@jupyter-widgets/controls",
      "model_module_version": "1.4.0",
      "model_name": "ProgressStyleModel",
      "state": {
       "description_width": "initial"
      }
     },
     "c312f07732d34ea983116dab765ba330": {
      "model_module": "@jupyter-widgets/base",
      "model_module_version": "1.1.0",
      "model_name": "LayoutModel",
      "state": {}
     },
     "c3c6151d1dda4a64ae67d4c9afb1587f": {
      "model_module": "@jupyter-widgets/controls",
      "model_module_version": "1.4.0",
      "model_name": "DescriptionStyleModel",
      "state": {
       "description_width": ""
      }
     },
     "c40f09d480c1475d97873cf9b33eda09": {
      "model_module": "@jupyter-widgets/controls",
      "model_module_version": "1.4.0",
      "model_name": "ProgressStyleModel",
      "state": {
       "description_width": "initial"
      }
     },
     "c65c98abd5da40dfb6f996e4df2bc597": {
      "model_module": "@jupyter-widgets/controls",
      "model_module_version": "1.4.0",
      "model_name": "HTMLModel",
      "state": {
       "layout": "IPY_MODEL_c312f07732d34ea983116dab765ba330",
       "style": "IPY_MODEL_0c4f07398e294335bc2e8a7e16fea46f",
       "value": " 11/11 [04:02&lt;00:00, 22.10s/it]"
      }
     },
     "c677d9503a1749c7952279984fe087c7": {
      "model_module": "@jupyter-widgets/base",
      "model_module_version": "1.1.0",
      "model_name": "LayoutModel",
      "state": {}
     },
     "c781ef80435a4581b0ed82e804bc016b": {
      "model_module": "@jupyter-widgets/controls",
      "model_module_version": "1.4.0",
      "model_name": "ProgressStyleModel",
      "state": {
       "description_width": "initial"
      }
     },
     "c7d348816d574722b38d6c5cd8c478ae": {
      "model_module": "@jupyter-widgets/base",
      "model_module_version": "1.1.0",
      "model_name": "LayoutModel",
      "state": {}
     },
     "c853c654261c4eac9d4ec351c3b03cde": {
      "model_module": "@jupyter-widgets/base",
      "model_module_version": "1.1.0",
      "model_name": "LayoutModel",
      "state": {}
     },
     "c9e92f5e542a49f284f490c250db220f": {
      "model_module": "@jupyter-widgets/base",
      "model_module_version": "1.1.0",
      "model_name": "LayoutModel",
      "state": {}
     },
     "ca233808164847148ace5a996d93d9b6": {
      "model_module": "@jupyter-widgets/controls",
      "model_module_version": "1.4.0",
      "model_name": "HTMLModel",
      "state": {
       "layout": "IPY_MODEL_1e15df9ed4c2438e870aa8434890313f",
       "style": "IPY_MODEL_0a175d8e29c04840a4de3eadcd496bf3",
       "value": " 11/11 [04:16&lt;00:00, 23.29s/it]"
      }
     },
     "ca4093e442dd423bad842dd366cca4af": {
      "model_module": "@jupyter-widgets/base",
      "model_module_version": "1.1.0",
      "model_name": "LayoutModel",
      "state": {}
     },
     "ca9faadee9334413ae8fd59a2d140b3d": {
      "model_module": "@jupyter-widgets/base",
      "model_module_version": "1.1.0",
      "model_name": "LayoutModel",
      "state": {}
     },
     "caeb75d385024953bb341830c880e69d": {
      "model_module": "@jupyter-widgets/base",
      "model_module_version": "1.1.0",
      "model_name": "LayoutModel",
      "state": {}
     },
     "cbef7c5cf6cb4beab6cff7f1c0a266da": {
      "model_module": "@jupyter-widgets/base",
      "model_module_version": "1.1.0",
      "model_name": "LayoutModel",
      "state": {}
     },
     "cca1157538bf462eb48caabcd2e79efc": {
      "model_module": "@jupyter-widgets/base",
      "model_module_version": "1.1.0",
      "model_name": "LayoutModel",
      "state": {}
     },
     "cd62ed1325744756829e7479f5dd9ccb": {
      "model_module": "@jupyter-widgets/base",
      "model_module_version": "1.1.0",
      "model_name": "LayoutModel",
      "state": {}
     },
     "cddff91b4c7d4f9f93fd18ceda00ee51": {
      "model_module": "@jupyter-widgets/controls",
      "model_module_version": "1.4.0",
      "model_name": "DescriptionStyleModel",
      "state": {
       "description_width": ""
      }
     },
     "ce2f97fc059a4b3791e7b9904c87527d": {
      "model_module": "@jupyter-widgets/controls",
      "model_module_version": "1.4.0",
      "model_name": "ProgressStyleModel",
      "state": {
       "description_width": "initial"
      }
     },
     "ce8dd747fe9541548a17101e18619576": {
      "model_module": "@jupyter-widgets/controls",
      "model_module_version": "1.4.0",
      "model_name": "HTMLModel",
      "state": {
       "layout": "IPY_MODEL_b70b6eaecfa140a8ba16f2ae92f9a8b7",
       "style": "IPY_MODEL_62a8ccb44b49489991920aec336526d8",
       "value": " 10/300 [02:42&lt;1:18:36, 16.26s/it]"
      }
     },
     "cfbd411e131e4534b416baca0c8159ce": {
      "model_module": "@jupyter-widgets/controls",
      "model_module_version": "1.4.0",
      "model_name": "HTMLModel",
      "state": {
       "layout": "IPY_MODEL_cbef7c5cf6cb4beab6cff7f1c0a266da",
       "style": "IPY_MODEL_3b9c9abcfa6749f5b8daef92ba55ca51",
       "value": " 87/87 [56:55&lt;00:00, 38.57s/it]"
      }
     },
     "d05bfdc1d87044e28b80471174bd0a84": {
      "model_module": "@jupyter-widgets/controls",
      "model_module_version": "1.4.0",
      "model_name": "DescriptionStyleModel",
      "state": {
       "description_width": ""
      }
     },
     "d0732bf7788640a6bc9121156ee49e91": {
      "model_module": "@jupyter-widgets/base",
      "model_module_version": "1.1.0",
      "model_name": "LayoutModel",
      "state": {}
     },
     "d08af3e0fc974cadad3c33e76efa7cff": {
      "model_module": "@jupyter-widgets/base",
      "model_module_version": "1.1.0",
      "model_name": "LayoutModel",
      "state": {}
     },
     "d0aae54e82a84212b2b4c97d946221f7": {
      "model_module": "@jupyter-widgets/controls",
      "model_module_version": "1.4.0",
      "model_name": "HTMLModel",
      "state": {
       "layout": "IPY_MODEL_5d754b4cec1f49c9b585000654830094",
       "style": "IPY_MODEL_a852123b0b344d1ea6a73d2e7b266884",
       "value": " 87/87 [53:35&lt;00:00, 37.99s/it]"
      }
     },
     "d0d00490b5b444eeac02f354c42837b5": {
      "model_module": "@jupyter-widgets/base",
      "model_module_version": "1.1.0",
      "model_name": "LayoutModel",
      "state": {}
     },
     "d199b7df759140748450af60cd7d3785": {
      "model_module": "@jupyter-widgets/controls",
      "model_module_version": "1.4.0",
      "model_name": "HBoxModel",
      "state": {
       "children": [
        "IPY_MODEL_87e19f680ebc4e3fafefc9d2826defb1",
        "IPY_MODEL_4f72ae606cf54b30bedc548cfba83159"
       ],
       "layout": "IPY_MODEL_ac7a51ab758f428bafe51c6d6d4a346f"
      }
     },
     "d2e048076ea44a0b9681772c4b19ac99": {
      "model_module": "@jupyter-widgets/base",
      "model_module_version": "1.1.0",
      "model_name": "LayoutModel",
      "state": {}
     },
     "d31dea4b7b6a4302ab7748d5b59b3e31": {
      "model_module": "@jupyter-widgets/controls",
      "model_module_version": "1.4.0",
      "model_name": "ProgressStyleModel",
      "state": {
       "description_width": "initial"
      }
     },
     "d36a249433494db0a1022865722b618f": {
      "model_module": "@jupyter-widgets/controls",
      "model_module_version": "1.4.0",
      "model_name": "DescriptionStyleModel",
      "state": {
       "description_width": ""
      }
     },
     "d3e9397743a54c8183dd5c423f86b308": {
      "model_module": "@jupyter-widgets/base",
      "model_module_version": "1.1.0",
      "model_name": "LayoutModel",
      "state": {}
     },
     "d4f44dc1942c4349a1d0e6068cbf1a6b": {
      "model_module": "@jupyter-widgets/controls",
      "model_module_version": "1.4.0",
      "model_name": "FloatProgressModel",
      "state": {
       "description": "Train_Iter: 100%",
       "layout": "IPY_MODEL_d959f6c6a9d14c469b9c8df85038a28e",
       "max": 87,
       "style": "IPY_MODEL_f4cf89a19320477389c0d75fa2b1710d",
       "value": 87
      }
     },
     "d504c590259a4b8eb985eae5eb2bba77": {
      "model_module": "@jupyter-widgets/controls",
      "model_module_version": "1.4.0",
      "model_name": "HTMLModel",
      "state": {
       "layout": "IPY_MODEL_9e099eff602140f8b9790113cb391741",
       "style": "IPY_MODEL_128c9f0683a8419db700394458b19137",
       "value": " 11/11 [04:06&lt;00:00, 21.60s/it]"
      }
     },
     "d58d5be094b14d19bbb265668a997cda": {
      "model_module": "@jupyter-widgets/base",
      "model_module_version": "1.1.0",
      "model_name": "LayoutModel",
      "state": {}
     },
     "d5d90296b40a4357acc9ef4fedffddd9": {
      "model_module": "@jupyter-widgets/base",
      "model_module_version": "1.1.0",
      "model_name": "LayoutModel",
      "state": {}
     },
     "d5e3f25b35ea407d8db8597bcca6a55d": {
      "model_module": "@jupyter-widgets/base",
      "model_module_version": "1.1.0",
      "model_name": "LayoutModel",
      "state": {}
     },
     "d6d420eae62e4a7a996fa785290ff574": {
      "model_module": "@jupyter-widgets/base",
      "model_module_version": "1.1.0",
      "model_name": "LayoutModel",
      "state": {}
     },
     "d85e66ebc1924eeeb003c98dbad6fdf0": {
      "model_module": "@jupyter-widgets/controls",
      "model_module_version": "1.4.0",
      "model_name": "DescriptionStyleModel",
      "state": {
       "description_width": ""
      }
     },
     "d959f6c6a9d14c469b9c8df85038a28e": {
      "model_module": "@jupyter-widgets/base",
      "model_module_version": "1.1.0",
      "model_name": "LayoutModel",
      "state": {}
     },
     "d9be3ac510ba4934a018e93d9762a9e5": {
      "model_module": "@jupyter-widgets/controls",
      "model_module_version": "1.4.0",
      "model_name": "ProgressStyleModel",
      "state": {
       "description_width": "initial"
      }
     },
     "dacc4f79ab014059a64d27ec64e28953": {
      "model_module": "@jupyter-widgets/controls",
      "model_module_version": "1.4.0",
      "model_name": "HTMLModel",
      "state": {
       "layout": "IPY_MODEL_74d59e14424b4ffbb01853720662bfec",
       "style": "IPY_MODEL_b5d500a3771f4fb4902fba70d880a41d",
       "value": " 87/87 [53:46&lt;00:00, 38.19s/it]"
      }
     },
     "daf109cb339c46df9b9f03d17b044802": {
      "model_module": "@jupyter-widgets/base",
      "model_module_version": "1.1.0",
      "model_name": "LayoutModel",
      "state": {}
     },
     "db7a537757e44ad39a014785f7a30362": {
      "model_module": "@jupyter-widgets/base",
      "model_module_version": "1.1.0",
      "model_name": "LayoutModel",
      "state": {}
     },
     "db80c0e8f732499f93c2afc2f02c5d18": {
      "model_module": "@jupyter-widgets/controls",
      "model_module_version": "1.4.0",
      "model_name": "FloatProgressModel",
      "state": {
       "description": "Epoch:  10%",
       "layout": "IPY_MODEL_e0061c987f1f4287929671bd23fda19c",
       "max": 50,
       "style": "IPY_MODEL_54d5d5dc8bbc458682c1cb77e4380b30",
       "value": 5
      }
     },
     "de767eebe5b948258efef812fab9f114": {
      "model_module": "@jupyter-widgets/base",
      "model_module_version": "1.1.0",
      "model_name": "LayoutModel",
      "state": {}
     },
     "df4956c28a724455b6a4a88004468e52": {
      "model_module": "@jupyter-widgets/controls",
      "model_module_version": "1.4.0",
      "model_name": "DescriptionStyleModel",
      "state": {
       "description_width": ""
      }
     },
     "dfa7b7f2a48c463fb67c90fcb38b1552": {
      "model_module": "@jupyter-widgets/controls",
      "model_module_version": "1.4.0",
      "model_name": "DescriptionStyleModel",
      "state": {
       "description_width": ""
      }
     },
     "e0061c987f1f4287929671bd23fda19c": {
      "model_module": "@jupyter-widgets/base",
      "model_module_version": "1.1.0",
      "model_name": "LayoutModel",
      "state": {}
     },
     "e0762495f883467e9c81c386b74b9693": {
      "model_module": "@jupyter-widgets/controls",
      "model_module_version": "1.4.0",
      "model_name": "FloatProgressModel",
      "state": {
       "description": "Val_Iter: 100%",
       "layout": "IPY_MODEL_3f49c4d5a8d749a7a009224bc5fab633",
       "max": 11,
       "style": "IPY_MODEL_7940b28c77544881b9c8c1e7ffa47634",
       "value": 11
      }
     },
     "e1c39d3ccbdd4dd38984114d3fa7d7e6": {
      "model_module": "@jupyter-widgets/base",
      "model_module_version": "1.1.0",
      "model_name": "LayoutModel",
      "state": {}
     },
     "e23abb7e8ed844639541b3d321db77d6": {
      "model_module": "@jupyter-widgets/controls",
      "model_module_version": "1.4.0",
      "model_name": "HTMLModel",
      "state": {
       "layout": "IPY_MODEL_32052d5b6bb74e45b4c2955fe358c608",
       "style": "IPY_MODEL_826f28fbb3234f5697a095f9ba30e0dc",
       "value": " 37/87 [25:33&lt;33:33, 40.28s/it]"
      }
     },
     "e2a141bbe8fe480c9095d81bd82d264d": {
      "model_module": "@jupyter-widgets/controls",
      "model_module_version": "1.4.0",
      "model_name": "FloatProgressModel",
      "state": {
       "description": "Val_Iter: 100%",
       "layout": "IPY_MODEL_ae6c07f5a8c3449681c188884848feb9",
       "max": 11,
       "style": "IPY_MODEL_3d568180d0a0447da7ed25233270edc1",
       "value": 11
      }
     },
     "e33fe72bb2ef4e73a85e0fb917b45469": {
      "model_module": "@jupyter-widgets/controls",
      "model_module_version": "1.4.0",
      "model_name": "DescriptionStyleModel",
      "state": {
       "description_width": ""
      }
     },
     "e43b3a19a3d04d818a2352e55b1cccc7": {
      "model_module": "@jupyter-widgets/controls",
      "model_module_version": "1.4.0",
      "model_name": "HBoxModel",
      "state": {
       "children": [
        "IPY_MODEL_fd644aed7d714e3d86e834223c8997f9",
        "IPY_MODEL_c15a594b68454207904aa340f3481fa0"
       ],
       "layout": "IPY_MODEL_3f4226ec5d264b4a87de98027d90691b"
      }
     },
     "e49b2392bbf449b28d6c8a7510038fa5": {
      "model_module": "@jupyter-widgets/controls",
      "model_module_version": "1.4.0",
      "model_name": "DescriptionStyleModel",
      "state": {
       "description_width": ""
      }
     },
     "e4d6aa24b23542cca64e6b6bbc957290": {
      "model_module": "@jupyter-widgets/controls",
      "model_module_version": "1.4.0",
      "model_name": "ProgressStyleModel",
      "state": {
       "description_width": "initial"
      }
     },
     "e51fc85f748947afba80a2564c086d39": {
      "model_module": "@jupyter-widgets/controls",
      "model_module_version": "1.4.0",
      "model_name": "HTMLModel",
      "state": {
       "layout": "IPY_MODEL_99aff0993f8643abb59db9e1d6a16059",
       "style": "IPY_MODEL_66d40863d215472f9e7fec24b8f20b1f",
       "value": " 11/11 [04:15&lt;00:00, 23.40s/it]"
      }
     },
     "e5ccf06e9c4d422b9206cf17fdccb835": {
      "model_module": "@jupyter-widgets/controls",
      "model_module_version": "1.4.0",
      "model_name": "ProgressStyleModel",
      "state": {
       "description_width": "initial"
      }
     },
     "e5fe46f789054e53a6d371c22c67ef5c": {
      "model_module": "@jupyter-widgets/controls",
      "model_module_version": "1.4.0",
      "model_name": "DescriptionStyleModel",
      "state": {
       "description_width": ""
      }
     },
     "e63ad9bb8b7743b4a9d19fe457b0feac": {
      "model_module": "@jupyter-widgets/controls",
      "model_module_version": "1.4.0",
      "model_name": "FloatProgressModel",
      "state": {
       "description": "Train_Iter: 100%",
       "layout": "IPY_MODEL_3a8c10a932fe472babbe645033502fa0",
       "max": 87,
       "style": "IPY_MODEL_9d60264dec6340b5b92082e95a33d63e",
       "value": 87
      }
     },
     "e7513f22f9fc4e6c857e261f08993ca3": {
      "model_module": "@jupyter-widgets/controls",
      "model_module_version": "1.4.0",
      "model_name": "FloatProgressModel",
      "state": {
       "description": "Val_Iter: 100%",
       "layout": "IPY_MODEL_d5e3f25b35ea407d8db8597bcca6a55d",
       "max": 11,
       "style": "IPY_MODEL_15b40f5b7e434ff18a25568f612fc490",
       "value": 11
      }
     },
     "e7fb2ad6672141c1b63d4b4b6caac70a": {
      "model_module": "@jupyter-widgets/controls",
      "model_module_version": "1.4.0",
      "model_name": "ProgressStyleModel",
      "state": {
       "description_width": "initial"
      }
     },
     "e8f97153d8484fdd83be7cb5b114edf8": {
      "model_module": "@jupyter-widgets/controls",
      "model_module_version": "1.4.0",
      "model_name": "FloatProgressModel",
      "state": {
       "description": "Val_Iter: 100%",
       "layout": "IPY_MODEL_83f75d1519b9402c8e264890b09a4502",
       "max": 11,
       "style": "IPY_MODEL_c781ef80435a4581b0ed82e804bc016b",
       "value": 11
      }
     },
     "e93bf1517694446f843fc1fc95368e49": {
      "model_module": "@jupyter-widgets/base",
      "model_module_version": "1.1.0",
      "model_name": "LayoutModel",
      "state": {}
     },
     "ec799499b73f4d17941b990fea0514d2": {
      "model_module": "@jupyter-widgets/controls",
      "model_module_version": "1.4.0",
      "model_name": "HTMLModel",
      "state": {
       "layout": "IPY_MODEL_b7a5cb76033d4398a19ef04dc0c18e99",
       "style": "IPY_MODEL_6122c3ddb0a84369a649d27570570cbc",
       "value": " 87/87 [55:46&lt;00:00, 37.36s/it]"
      }
     },
     "ecfd6275f702418eaa9fae9ad0078aea": {
      "model_module": "@jupyter-widgets/base",
      "model_module_version": "1.1.0",
      "model_name": "LayoutModel",
      "state": {}
     },
     "ed2a01f5f637497ca481156638d97ee4": {
      "model_module": "@jupyter-widgets/controls",
      "model_module_version": "1.4.0",
      "model_name": "FloatProgressModel",
      "state": {
       "description": "Val_Iter: 100%",
       "layout": "IPY_MODEL_8993a4cb918144f9892a9605b35e9c7e",
       "max": 11,
       "style": "IPY_MODEL_be16aef3cc454da598e07725d07262cd",
       "value": 11
      }
     },
     "ed30790935cd4171a5130de048ccd0a1": {
      "model_module": "@jupyter-widgets/base",
      "model_module_version": "1.1.0",
      "model_name": "LayoutModel",
      "state": {}
     },
     "ed31e49bf58a40c5a16c2fa369e5bc2d": {
      "model_module": "@jupyter-widgets/controls",
      "model_module_version": "1.4.0",
      "model_name": "FloatProgressModel",
      "state": {
       "description": "Train_Iter: 100%",
       "layout": "IPY_MODEL_ab55958884ca4a2684421323c44d769e",
       "max": 87,
       "style": "IPY_MODEL_664a29ec8c9246aabf75dae01b0f3e5e",
       "value": 87
      }
     },
     "ed42608b89f44791bfe5e000698ef7c4": {
      "model_module": "@jupyter-widgets/controls",
      "model_module_version": "1.4.0",
      "model_name": "FloatProgressModel",
      "state": {
       "description": "Train_Iter: 100%",
       "layout": "IPY_MODEL_cd62ed1325744756829e7479f5dd9ccb",
       "max": 87,
       "style": "IPY_MODEL_70e4a339eef74c9a8d4a5ccb8f8bc1c8",
       "value": 87
      }
     },
     "ee68112692074b64bf325156e4f8688a": {
      "model_module": "@jupyter-widgets/base",
      "model_module_version": "1.1.0",
      "model_name": "LayoutModel",
      "state": {}
     },
     "ef080220e11944638f561cb163356595": {
      "model_module": "@jupyter-widgets/base",
      "model_module_version": "1.1.0",
      "model_name": "LayoutModel",
      "state": {}
     },
     "ef313b3a596f4377870fd3f2f963fec8": {
      "model_module": "@jupyter-widgets/controls",
      "model_module_version": "1.4.0",
      "model_name": "ProgressStyleModel",
      "state": {
       "description_width": "initial"
      }
     },
     "ef6811cf01874e55a2e462e469ae053c": {
      "model_module": "@jupyter-widgets/controls",
      "model_module_version": "1.4.0",
      "model_name": "DescriptionStyleModel",
      "state": {
       "description_width": ""
      }
     },
     "efcc88a1579e4d6bae453bd8f5bc751d": {
      "model_module": "@jupyter-widgets/base",
      "model_module_version": "1.1.0",
      "model_name": "LayoutModel",
      "state": {}
     },
     "efe57cb56a6e4d5a95375dca119cc01c": {
      "model_module": "@jupyter-widgets/controls",
      "model_module_version": "1.4.0",
      "model_name": "ProgressStyleModel",
      "state": {
       "description_width": "initial"
      }
     },
     "f005855452a64bfc85bd679ef5d8c45b": {
      "model_module": "@jupyter-widgets/base",
      "model_module_version": "1.1.0",
      "model_name": "LayoutModel",
      "state": {}
     },
     "f02d9ad50b3d4831b7e86c2b0dc5bad9": {
      "model_module": "@jupyter-widgets/base",
      "model_module_version": "1.1.0",
      "model_name": "LayoutModel",
      "state": {}
     },
     "f0955acbdf5949dc8b39985025ab59bb": {
      "model_module": "@jupyter-widgets/base",
      "model_module_version": "1.1.0",
      "model_name": "LayoutModel",
      "state": {}
     },
     "f10d68d5ff6944dd87530bd23c0ff692": {
      "model_module": "@jupyter-widgets/base",
      "model_module_version": "1.1.0",
      "model_name": "LayoutModel",
      "state": {}
     },
     "f25bc9a262e6463a85e7f09bc746f686": {
      "model_module": "@jupyter-widgets/base",
      "model_module_version": "1.1.0",
      "model_name": "LayoutModel",
      "state": {}
     },
     "f25df14594d840c7b8c696bac47169a2": {
      "model_module": "@jupyter-widgets/controls",
      "model_module_version": "1.4.0",
      "model_name": "ProgressStyleModel",
      "state": {
       "description_width": "initial"
      }
     },
     "f25e75beeca740db9182d098cc3d20a5": {
      "model_module": "@jupyter-widgets/controls",
      "model_module_version": "1.4.0",
      "model_name": "ProgressStyleModel",
      "state": {
       "description_width": "initial"
      }
     },
     "f36138565c29487b922a0b6eb8a8e4f0": {
      "model_module": "@jupyter-widgets/base",
      "model_module_version": "1.1.0",
      "model_name": "LayoutModel",
      "state": {}
     },
     "f3ae34476d654353a838958672ba5a83": {
      "model_module": "@jupyter-widgets/controls",
      "model_module_version": "1.4.0",
      "model_name": "HTMLModel",
      "state": {
       "layout": "IPY_MODEL_c853c654261c4eac9d4ec351c3b03cde",
       "style": "IPY_MODEL_9aa51d11fffe440fbb026e0b2f8ef544",
       "value": " 87/87 [54:37&lt;00:00, 38.70s/it]"
      }
     },
     "f3cc01903b964aecaff80c5a44df68fa": {
      "model_module": "@jupyter-widgets/controls",
      "model_module_version": "1.4.0",
      "model_name": "HBoxModel",
      "state": {
       "children": [
        "IPY_MODEL_26db79fd49614853b20f7bc21aa215ed",
        "IPY_MODEL_4bd542d1178e4888bedd5c78c5626c20"
       ],
       "layout": "IPY_MODEL_0a4c152367ec46d5b59b5b79e9e443a2"
      }
     },
     "f4a6256c58fb44da8addb1cdd48b1897": {
      "model_module": "@jupyter-widgets/controls",
      "model_module_version": "1.4.0",
      "model_name": "ProgressStyleModel",
      "state": {
       "description_width": "initial"
      }
     },
     "f4cf89a19320477389c0d75fa2b1710d": {
      "model_module": "@jupyter-widgets/controls",
      "model_module_version": "1.4.0",
      "model_name": "ProgressStyleModel",
      "state": {
       "description_width": "initial"
      }
     },
     "f5638e32e9fe44c09d9109cb7efb6e54": {
      "model_module": "@jupyter-widgets/base",
      "model_module_version": "1.1.0",
      "model_name": "LayoutModel",
      "state": {}
     },
     "f66b5ca7e643442592fbbc4a0a85f26f": {
      "model_module": "@jupyter-widgets/controls",
      "model_module_version": "1.4.0",
      "model_name": "DescriptionStyleModel",
      "state": {
       "description_width": ""
      }
     },
     "f6cf5d1a71ca4dd3bce344957887c2e2": {
      "model_module": "@jupyter-widgets/base",
      "model_module_version": "1.1.0",
      "model_name": "LayoutModel",
      "state": {}
     },
     "f72a7c1599664702b520e876512c9dac": {
      "model_module": "@jupyter-widgets/controls",
      "model_module_version": "1.4.0",
      "model_name": "FloatProgressModel",
      "state": {
       "description": "Train_Iter: 100%",
       "layout": "IPY_MODEL_c677d9503a1749c7952279984fe087c7",
       "max": 87,
       "style": "IPY_MODEL_f25df14594d840c7b8c696bac47169a2",
       "value": 87
      }
     },
     "f99bedd6659c48bc8fed09751d1ebd75": {
      "model_module": "@jupyter-widgets/controls",
      "model_module_version": "1.4.0",
      "model_name": "ProgressStyleModel",
      "state": {
       "description_width": "initial"
      }
     },
     "faa1e74c9fb9403494a351b98ebb61dc": {
      "model_module": "@jupyter-widgets/base",
      "model_module_version": "1.1.0",
      "model_name": "LayoutModel",
      "state": {}
     },
     "fad18746c9e0432bb83862ed21b8a3b6": {
      "model_module": "@jupyter-widgets/base",
      "model_module_version": "1.1.0",
      "model_name": "LayoutModel",
      "state": {}
     },
     "fb0c0b497e6b4e4892750019872f4164": {
      "model_module": "@jupyter-widgets/controls",
      "model_module_version": "1.4.0",
      "model_name": "DescriptionStyleModel",
      "state": {
       "description_width": ""
      }
     },
     "fb1534803e1447309be173eaf52bad78": {
      "model_module": "@jupyter-widgets/base",
      "model_module_version": "1.1.0",
      "model_name": "LayoutModel",
      "state": {}
     },
     "fbbc35e68a6a4e40994b331f070a1637": {
      "model_module": "@jupyter-widgets/controls",
      "model_module_version": "1.4.0",
      "model_name": "FloatProgressModel",
      "state": {
       "description": "Val_Iter: 100%",
       "layout": "IPY_MODEL_41cfc74d325a4be8837fd2d79302e779",
       "max": 11,
       "style": "IPY_MODEL_3222034cb75047439727f33acbc835f3",
       "value": 11
      }
     },
     "fbeac5f84b0242389a1102667432c47b": {
      "model_module": "@jupyter-widgets/controls",
      "model_module_version": "1.4.0",
      "model_name": "ProgressStyleModel",
      "state": {
       "description_width": "initial"
      }
     },
     "fc228996770f4347a785bba130b2486c": {
      "model_module": "@jupyter-widgets/base",
      "model_module_version": "1.1.0",
      "model_name": "LayoutModel",
      "state": {}
     },
     "fd644aed7d714e3d86e834223c8997f9": {
      "model_module": "@jupyter-widgets/controls",
      "model_module_version": "1.4.0",
      "model_name": "FloatProgressModel",
      "state": {
       "description": "Epoch:   0%",
       "layout": "IPY_MODEL_f0955acbdf5949dc8b39985025ab59bb",
       "max": 50,
       "style": "IPY_MODEL_33e56bf2ab4b49ea974432b4915e6995"
      }
     },
     "fd7ce960db12442f90422ac8c14e3686": {
      "model_module": "@jupyter-widgets/controls",
      "model_module_version": "1.4.0",
      "model_name": "ProgressStyleModel",
      "state": {
       "description_width": "initial"
      }
     },
     "fe22bf84657a4cf2b24c9a6b6a1e4a2b": {
      "model_module": "@jupyter-widgets/controls",
      "model_module_version": "1.4.0",
      "model_name": "FloatProgressModel",
      "state": {
       "description": "Train_Iter: 100%",
       "layout": "IPY_MODEL_4a3179508394429590f82e82793aaaa6",
       "max": 87,
       "style": "IPY_MODEL_5a58d9469e09466e80609040f8d89430",
       "value": 87
      }
     },
     "fe29101c64d642e5a88ba98b97bf4ac1": {
      "model_module": "@jupyter-widgets/base",
      "model_module_version": "1.1.0",
      "model_name": "LayoutModel",
      "state": {}
     },
     "feecf9b3bd304710a927cd25b778ad08": {
      "model_module": "@jupyter-widgets/base",
      "model_module_version": "1.1.0",
      "model_name": "LayoutModel",
      "state": {}
     },
     "ff888637100642dca130ec2fb7232e13": {
      "model_module": "@jupyter-widgets/controls",
      "model_module_version": "1.4.0",
      "model_name": "DescriptionStyleModel",
      "state": {
       "description_width": ""
      }
     }
    },
    "version_major": 2,
    "version_minor": 0
   }
  }
 },
 "nbformat": 4,
 "nbformat_minor": 4
}
