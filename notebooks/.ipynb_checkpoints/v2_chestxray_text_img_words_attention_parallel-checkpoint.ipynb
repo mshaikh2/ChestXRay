{
 "cells": [
  {
   "cell_type": "code",
   "execution_count": 8,
   "metadata": {},
   "outputs": [],
   "source": [
    "import spacy\n",
    "from keras.applications.vgg16 import VGG16\n",
    "from keras.applications.inception_resnet_v2 import InceptionResNetV2\n",
    "import matplotlib.pyplot as plt\n",
    "from keras.utils import plot_model,multi_gpu_model\n",
    "from IPython.display import SVG\n",
    "from keras.utils.vis_utils import model_to_dot\n",
    "from keras.models import Model\n",
    "from keras.models import load_model\n",
    "from keras.layers import Input,GlobalAveragePooling2D,Layer,InputSpec\n",
    "from keras.layers.core import Dense,Flatten,Dropout\n",
    "from keras.optimizers import Adam,SGD\n",
    "from keras.callbacks import ModelCheckpoint, EarlyStopping, TensorBoard\n",
    "from keras.utils import np_utils\n",
    "import keras.backend as K\n",
    "import keras.layers as kl\n",
    "from keras.preprocessing import sequence\n",
    "import tensorflow as tf\n",
    "from tensorflow.python.client import device_lib\n",
    "from sklearn.metrics import classification_report\n",
    "import pandas as pd\n",
    "import numpy as np\n",
    "from time import time\n",
    "import pickle\n",
    "from keras.models import model_from_json\n",
    "\n",
    "# from AttentionModule import SelfAttention, SoftAttention\n",
    "import os\n",
    "visible_gpu_devices = '0'\n",
    "os.environ[\"CUDA_VISIBLE_DEVICES\"]=visible_gpu_devices\n",
    "import cv2\n",
    "from tqdm.notebook import tqdm\n",
    "import AttentionMed as AM\n",
    "from importlib import reload\n",
    "reload(AM)\n",
    "from time import time,localtime,strftime\n",
    "from ipywidgets import IntProgress\n",
    "# from coord import CoordinateChannel2D"
   ]
  },
  {
   "cell_type": "code",
   "execution_count": 9,
   "metadata": {},
   "outputs": [],
   "source": [
    "n_gpu=len(visible_gpu_devices.split(','))\n",
    "n_cpu=1\n",
    "tf_config= tf.ConfigProto(device_count = {'GPU': n_gpu , 'CPU': n_cpu})\n",
    "tf_config.gpu_options.allow_growth=True\n",
    "s=tf.Session(config=tf_config)\n",
    "K.set_session(s)"
   ]
  },
  {
   "cell_type": "code",
   "execution_count": null,
   "metadata": {},
   "outputs": [],
   "source": [
    "def multiheadSelfAttention(prev_layer,layer_number=0,heads=8):\n",
    "    assert prev_layer != None\n",
    "    sa_arr = []\n",
    "    for head in range(heads):\n",
    "        sa,samap = AM.SelfAttention(ch=int(prev_layer.shape[-1]),name='sa{0}{1}'.format(layer_number,head))(prev_layer)\n",
    "        sa = kl.BatchNormalization()(sa)\n",
    "        sa_arr.append(sa)\n",
    "    return sa_arr\n",
    "def multiheadAttention(prev_layer,context_vector,layer_number=0,heads=8):\n",
    "    assert prev_layer != None\n",
    "    assert context_vector != None\n",
    "    a_arr = []\n",
    "    for head in range(heads):\n",
    "        a,a_map = AM.Attention(ch=int(prev_layer.shape[-1]),timesteps=1,name='a{0}{1}'.format(layer_number,head))([context_vector,prev_layer])\n",
    "        a = kl.BatchNormalization()(a)\n",
    "        a_arr.append(a)\n",
    "    return a_arr\n",
    "def feedforwardsa(sa_layer,layer_before_sa,out_channels,layer_number=0,method='add'):\n",
    "    x = kl.Concatenate(name='concat_selfattn_{0}'.format(layer_number))(sa_layer)\n",
    "    x = AM.CondenseAttention1D(ch_in=int(x.shape[-1]),ch_out=out_channels)(x)\n",
    "    x, g1, g2 = AM.ResidualCombine(method=method\n",
    "                                   ,name='residual_combine_selfattn_{0}'.format(layer_number))([layer_before_sa, x])\n",
    "    x = kl.BatchNormalization()(x)\n",
    "    return x\n",
    "def feedforwarda(a_layer,context_vector,out_channels,layer_number=0,method='add'):\n",
    "    x = kl.Concatenate(name='concat_attn_{0}'.format(layer_number))(a_layer)\n",
    "    x = AM.CondenseAttention1D(ch_in=int(x.shape[-1]),ch_out=out_channels)(x)\n",
    "    x = kl.Lambda(lambda x:K.squeeze(x,axis=1),name=\"squeeze_attn_{0}\".format(layer_number))(x)\n",
    "    x, g1, g2 = AM.ResidualCombine(method=method\n",
    "                                   ,name='residual_combine_attn_{0}'.format(layer_number))([context_vector, x])\n",
    "    x = kl.BatchNormalization()(x)\n",
    "    return x"
   ]
  },
  {
   "cell_type": "code",
   "execution_count": 10,
   "metadata": {
    "scrolled": true
   },
   "outputs": [],
   "source": [
    "timesteps = 40\n",
    "vocab_size = 100\n",
    "embedding_size = 300\n",
    "elu_alpha = 1.0\n",
    "bottleneck_units = 512\n",
    "batchsize = 256\n",
    "def temp_datagen(batchsize=1):\n",
    "    counter=0\n",
    "    while True:\n",
    "        inp = np.random.randint(1,vocab_size,(batchsize,timesteps,))\n",
    "        out = inp.copy()\n",
    "        out[:,::2]=0\n",
    "        out = np_utils.to_categorical(out,num_classes=101)\n",
    "        counter+=1\n",
    "        if batchsize==counter:\n",
    "            yield inp,out\n",
    "            counter=0\n",
    "t_datagen = temp_datagen(batchsize)"
   ]
  },
  {
   "cell_type": "code",
   "execution_count": 11,
   "metadata": {},
   "outputs": [
    {
     "data": {
      "text/plain": [
       "(array([[97, 10, 32, 31, 34, 11, 26, 80, 54, 86, 20, 89, 40,  4, 91, 75,\n",
       "          3, 75, 95, 74, 29, 76, 77, 72, 82, 29, 28, 73, 65, 35,  3, 72,\n",
       "         74,  8, 28, 20,  9, 59, 76, 98],\n",
       "        [42, 15,  6, 60,  8, 22, 45, 97, 27, 97, 36, 67,  8, 12, 23, 34,\n",
       "         34, 17, 65, 81, 92, 12, 75, 34, 15, 74, 36, 31, 22, 65, 64, 71,\n",
       "         52, 43, 56, 81, 84, 39, 52, 58]]),\n",
       " array([[ 0, 10,  0, ..., 59,  0, 98],\n",
       "        [ 0, 15,  0, ..., 39,  0, 58],\n",
       "        [ 0, 16,  0, ..., 82,  0, 87],\n",
       "        ...,\n",
       "        [ 0, 37,  0, ..., 54,  0, 74],\n",
       "        [ 0, 37,  0, ..., 50,  0, 20],\n",
       "        [ 0, 84,  0, ..., 40,  0, 56]]),\n",
       " (256, 40, 101))"
      ]
     },
     "execution_count": 11,
     "metadata": {},
     "output_type": "execute_result"
    }
   ],
   "source": [
    "t_x,t_y=next(t_datagen)\n",
    "t_x[:2],t_y.argmax(-1),t_y.shape"
   ]
  },
  {
   "cell_type": "code",
   "execution_count": 12,
   "metadata": {},
   "outputs": [
    {
     "data": {
      "text/plain": [
       "list"
      ]
     },
     "execution_count": 12,
     "metadata": {},
     "output_type": "execute_result"
    }
   ],
   "source": [
    "type([2,3,4])"
   ]
  },
  {
   "cell_type": "code",
   "execution_count": 15,
   "metadata": {
    "scrolled": true
   },
   "outputs": [
    {
     "name": "stdout",
     "output_type": "stream",
     "text": [
      "__________________________________________________________________________________________________\n",
      "Layer (type)                    Output Shape         Param #     Connected to                     \n",
      "==================================================================================================\n",
      "input_3 (InputLayer)            (None, 40)           0                                            \n",
      "__________________________________________________________________________________________________\n",
      "w2v_emb (Embedding)             (None, 40, 300)      30300       input_3[0][0]                    \n",
      "__________________________________________________________________________________________________\n",
      "lstm_5 (LSTM)                   (None, 40, 512)      1665024     w2v_emb[0][0]                    \n",
      "__________________________________________________________________________________________________\n",
      "gap (GlobalAveragePooling1D)    (None, 512)          0           lstm_5[0][0]                     \n",
      "__________________________________________________________________________________________________\n",
      "a1 (Attention)                  [(None, 1, 512), (1, 1050624     gap[0][0]                        \n",
      "                                                                 lstm_5[0][0]                     \n",
      "__________________________________________________________________________________________________\n",
      "a2 (Attention)                  [(None, 1, 512), (1, 1050624     gap[0][0]                        \n",
      "                                                                 lstm_5[0][0]                     \n",
      "__________________________________________________________________________________________________\n",
      "a3 (Attention)                  [(None, 1, 512), (1, 1050624     gap[0][0]                        \n",
      "                                                                 lstm_5[0][0]                     \n",
      "__________________________________________________________________________________________________\n",
      "a4 (Attention)                  [(None, 1, 512), (1, 1050624     gap[0][0]                        \n",
      "                                                                 lstm_5[0][0]                     \n",
      "__________________________________________________________________________________________________\n",
      "a5 (Attention)                  [(None, 1, 512), (1, 1050624     gap[0][0]                        \n",
      "                                                                 lstm_5[0][0]                     \n",
      "__________________________________________________________________________________________________\n",
      "a6 (Attention)                  [(None, 1, 512), (1, 1050624     gap[0][0]                        \n",
      "                                                                 lstm_5[0][0]                     \n",
      "__________________________________________________________________________________________________\n",
      "a7 (Attention)                  [(None, 1, 512), (1, 1050624     gap[0][0]                        \n",
      "                                                                 lstm_5[0][0]                     \n",
      "__________________________________________________________________________________________________\n",
      "a8 (Attention)                  [(None, 1, 512), (1, 1050624     gap[0][0]                        \n",
      "                                                                 lstm_5[0][0]                     \n",
      "__________________________________________________________________________________________________\n",
      "concat_attn (Concatenate)       (None, 1, 4096)      0           a1[0][0]                         \n",
      "                                                                 a2[0][0]                         \n",
      "                                                                 a3[0][0]                         \n",
      "                                                                 a4[0][0]                         \n",
      "                                                                 a5[0][0]                         \n",
      "                                                                 a6[0][0]                         \n",
      "                                                                 a7[0][0]                         \n",
      "                                                                 a8[0][0]                         \n",
      "__________________________________________________________________________________________________\n",
      "condense_attention1d_3 (Condens (None, 1, 512)       2097664     concat_attn[0][0]                \n",
      "__________________________________________________________________________________________________\n",
      "attention_squeeze (Lambda)      (None, 512)          0           condense_attention1d_3[0][0]     \n",
      "__________________________________________________________________________________________________\n",
      "residual_combine (ResidualCombi [(None, 512), (1,),  2           gap[0][0]                        \n",
      "                                                                 attention_squeeze[0][0]          \n",
      "__________________________________________________________________________________________________\n",
      "repeat_vector_3 (RepeatVector)  (None, 40, 512)      0           residual_combine[0][0]           \n",
      "__________________________________________________________________________________________________\n",
      "lstm_6 (LSTM)                   (None, 40, 512)      2099200     repeat_vector_3[0][0]            \n",
      "__________________________________________________________________________________________________\n",
      "time_distributed_3 (TimeDistrib (None, 40, 101)      51813       lstm_6[0][0]                     \n",
      "==================================================================================================\n",
      "Total params: 14,348,995\n",
      "Trainable params: 14,348,995\n",
      "Non-trainable params: 0\n",
      "__________________________________________________________________________________________________\n"
     ]
    }
   ],
   "source": [
    "units = 512\n",
    "\n",
    "inp = kl.Input(shape=(timesteps,))\n",
    "emb = kl.Embedding(vocab_size+1, embedding_size, mask_zero=False, name='w2v_emb')(inp)\n",
    "encoder = kl.LSTM(units,activation='relu',return_sequences=True)(emb)\n",
    "\n",
    "# encoder,sa_maps = AM.SelfAttention(ch=512)(encoder)\n",
    "\n",
    "# context_vector = kl.LSTM(512,activation='relu',return_sequences=False)(encoder)\n",
    "context_vector = kl.GlobalAveragePooling1D(name='gap')(encoder)\n",
    "acv_1,a_map_1 = AM.Attention(ch=512,timesteps=1,name='a1')([context_vector,encoder])\n",
    "acv_2,a_map_2 = AM.Attention(ch=512,timesteps=1,name='a2')([context_vector,encoder])\n",
    "acv_3,a_map_3 = AM.Attention(ch=512,timesteps=1,name='a3')([context_vector,encoder])\n",
    "acv_4,a_map_4 = AM.Attention(ch=512,timesteps=1,name='a4')([context_vector,encoder])\n",
    "acv_5,a_map_5 = AM.Attention(ch=512,timesteps=1,name='a5')([context_vector,encoder])\n",
    "acv_6,a_map_6 = AM.Attention(ch=512,timesteps=1,name='a6')([context_vector,encoder])\n",
    "acv_7,a_map_7 = AM.Attention(ch=512,timesteps=1,name='a7')([context_vector,encoder])\n",
    "acv_8,a_map_8 = AM.Attention(ch=512,timesteps=1,name='a8')([context_vector,encoder])\n",
    "\n",
    "concat_attention = kl.Concatenate(name='concat_attn')([acv_1,acv_2,acv_3,acv_4,acv_5,acv_6,acv_7,acv_8])\n",
    "# attended_context_vector = kl.Lambda(lambda x:K.squeeze(x,axis=1),name=\"Squeeze\")(concat_attention)\n",
    "concat_attention = AM.CondenseAttention1D(ch_in=int(concat_attention.shape[-1]),ch_out=512)(concat_attention)\n",
    "concat_attention = kl.Lambda(lambda x:K.squeeze(x,axis=1),name=\"attention_squeeze\")(concat_attention)\n",
    "concat_attention, g1, g2 = AM.ResidualCombine(method='add',name='residual_combine')([context_vector, concat_attention])\n",
    "\n",
    "# acv_combine = kl.ELU(alpha=elu_alpha)(acv_combine)\n",
    "# acv_combine = kl.Lambda(lambda x:K.expand_dims(x,axis=1),name=\"Expand\")(acv_combine)\n",
    "# acv_combine = kl.Conv1D(filters=bottleneck_units,kernel_size=1,strides=1,padding='same')(acv_combine)\n",
    "# acv_combine = kl.BatchNormalization()(acv_combine)\n",
    "# acv_combine = kl.Lambda(lambda x:K.squeeze(x,axis=1),name=\"Squeeze2\")(acv_combine)\n",
    "\n",
    "# # # # print(attended_context_vector)\n",
    "repeat_context_vector = kl.RepeatVector(n=timesteps)(concat_attention)\n",
    "decoder = kl.LSTM(512,activation='relu',return_sequences=True)(repeat_context_vector)\n",
    "# # AM.Attention(ch=1)([])\n",
    "decoder_out = kl.TimeDistributed(Dense(vocab_size+1,activation='softmax'))(decoder)\n",
    "model = Model(inp,decoder_out)\n",
    "model.summary()\n",
    "model.compile(loss='categorical_crossentropy',metrics=['accuracy'],optimizer=Adam(lr=0.001))"
   ]
  },
  {
   "cell_type": "code",
   "execution_count": 16,
   "metadata": {},
   "outputs": [],
   "source": [
    "# parallel_model=multi_gpu_model(model, gpus=n_gpu)\n",
    "# parallel_model.compile(loss='categorical_crossentropy',metrics=['accuracy'],optimizer=Adam(lr=0.0001))"
   ]
  },
  {
   "cell_type": "code",
   "execution_count": null,
   "metadata": {
    "scrolled": true
   },
   "outputs": [
    {
     "name": "stdout",
     "output_type": "stream",
     "text": [
      "Epoch 1/1000\n",
      "50/50 [==============================] - 27s 537ms/step - loss: 3.4374 - acc: 0.4901\n",
      "Epoch 2/1000\n",
      "50/50 [==============================] - 20s 409ms/step - loss: 3.0092 - acc: 0.5000\n",
      "Epoch 3/1000\n",
      "50/50 [==============================] - 20s 410ms/step - loss: 2.3546 - acc: 0.5045\n",
      "Epoch 4/1000\n",
      "50/50 [==============================] - 20s 409ms/step - loss: 2.3040 - acc: 0.5051\n",
      "Epoch 5/1000\n",
      "50/50 [==============================] - 20s 409ms/step - loss: 2.2995 - acc: 0.5049\n",
      "Epoch 6/1000\n",
      "50/50 [==============================] - 21s 411ms/step - loss: 2.2988 - acc: 0.5049\n",
      "Epoch 7/1000\n",
      "50/50 [==============================] - 21s 411ms/step - loss: 2.2986 - acc: 0.5050\n",
      "Epoch 8/1000\n",
      "50/50 [==============================] - 20s 408ms/step - loss: 2.2984 - acc: 0.5050\n",
      "Epoch 9/1000\n",
      "50/50 [==============================] - 20s 410ms/step - loss: 2.2982 - acc: 0.5050\n",
      "Epoch 10/1000\n",
      "50/50 [==============================] - 21s 410ms/step - loss: 2.2981 - acc: 0.5050\n",
      "Epoch 11/1000\n",
      "50/50 [==============================] - 20s 410ms/step - loss: 2.2981 - acc: 0.5049\n",
      "Epoch 12/1000\n",
      "50/50 [==============================] - 20s 409ms/step - loss: 2.2980 - acc: 0.5052\n",
      "Epoch 13/1000\n",
      "50/50 [==============================] - 21s 412ms/step - loss: 2.2977 - acc: 0.5053\n",
      "Epoch 14/1000\n",
      "50/50 [==============================] - 21s 411ms/step - loss: 2.3282 - acc: 0.5057\n",
      "Epoch 15/1000\n",
      "50/50 [==============================] - 20s 409ms/step - loss: 2.5825 - acc: 0.5015\n",
      "Epoch 16/1000\n",
      "50/50 [==============================] - 20s 409ms/step - loss: 2.2995 - acc: 0.5052\n",
      "Epoch 17/1000\n",
      "50/50 [==============================] - 20s 406ms/step - loss: 2.2988 - acc: 0.5050\n",
      "Epoch 18/1000\n",
      "50/50 [==============================] - 20s 409ms/step - loss: 2.2982 - acc: 0.5053\n",
      "Epoch 19/1000\n",
      "50/50 [==============================] - 20s 410ms/step - loss: 2.2951 - acc: 0.5058\n",
      "Epoch 20/1000\n",
      "50/50 [==============================] - 21s 411ms/step - loss: 2.2931 - acc: 0.5061\n",
      "Epoch 21/1000\n",
      "50/50 [==============================] - 20s 409ms/step - loss: 2.2927 - acc: 0.5061\n",
      "Epoch 22/1000\n",
      "50/50 [==============================] - 20s 409ms/step - loss: 2.2923 - acc: 0.5063\n",
      "Epoch 23/1000\n",
      "50/50 [==============================] - 21s 413ms/step - loss: 2.2922 - acc: 0.5063\n",
      "Epoch 24/1000\n",
      "50/50 [==============================] - 21s 410ms/step - loss: 2.2922 - acc: 0.5062\n",
      "Epoch 25/1000\n",
      "50/50 [==============================] - 21s 410ms/step - loss: 2.2925 - acc: 0.5061\n",
      "Epoch 26/1000\n",
      "50/50 [==============================] - 20s 409ms/step - loss: 2.2923 - acc: 0.5061\n",
      "Epoch 27/1000\n",
      "50/50 [==============================] - 20s 410ms/step - loss: 2.2924 - acc: 0.5059\n",
      "Epoch 28/1000\n",
      "50/50 [==============================] - 20s 410ms/step - loss: 2.2921 - acc: 0.5062\n",
      "Epoch 29/1000\n",
      "50/50 [==============================] - 20s 409ms/step - loss: 2.2919 - acc: 0.5063\n",
      "Epoch 30/1000\n",
      "50/50 [==============================] - 21s 413ms/step - loss: 2.2921 - acc: 0.5063\n",
      "Epoch 31/1000\n",
      "50/50 [==============================] - 21s 410ms/step - loss: 2.2920 - acc: 0.5062\n",
      "Epoch 32/1000\n",
      "50/50 [==============================] - 20s 409ms/step - loss: 2.2917 - acc: 0.5062\n",
      "Epoch 33/1000\n",
      "50/50 [==============================] - 21s 411ms/step - loss: 2.2893 - acc: 0.5072\n",
      "Epoch 34/1000\n",
      "50/50 [==============================] - 20s 409ms/step - loss: 2.2864 - acc: 0.5073\n",
      "Epoch 35/1000\n",
      "50/50 [==============================] - 21s 411ms/step - loss: 2.2861 - acc: 0.5075\n",
      "Epoch 36/1000\n",
      "50/50 [==============================] - 21s 413ms/step - loss: 2.2856 - acc: 0.5078\n",
      "Epoch 37/1000\n",
      "50/50 [==============================] - 21s 414ms/step - loss: 2.2821 - acc: 0.5088\n",
      "Epoch 38/1000\n",
      "50/50 [==============================] - 21s 411ms/step - loss: 2.2807 - acc: 0.5089\n",
      "Epoch 39/1000\n",
      "50/50 [==============================] - 20s 409ms/step - loss: 2.2797 - acc: 0.5087\n",
      "Epoch 40/1000\n",
      "50/50 [==============================] - 21s 410ms/step - loss: 2.2773 - acc: 0.5093\n",
      "Epoch 41/1000\n",
      "50/50 [==============================] - 20s 409ms/step - loss: 2.2748 - acc: 0.5099\n",
      "Epoch 42/1000\n",
      "50/50 [==============================] - 20s 410ms/step - loss: 2.2741 - acc: 0.5098\n",
      "Epoch 43/1000\n",
      "50/50 [==============================] - 20s 410ms/step - loss: 2.2699 - acc: 0.5107\n",
      "Epoch 44/1000\n",
      "50/50 [==============================] - 20s 409ms/step - loss: 2.2683 - acc: 0.5106\n",
      "Epoch 45/1000\n",
      "50/50 [==============================] - 20s 409ms/step - loss: 2.2688 - acc: 0.5108\n",
      "Epoch 46/1000\n",
      "50/50 [==============================] - 20s 410ms/step - loss: 2.2680 - acc: 0.5108\n",
      "Epoch 47/1000\n",
      "50/50 [==============================] - 21s 410ms/step - loss: 2.2669 - acc: 0.5113\n",
      "Epoch 48/1000\n",
      "50/50 [==============================] - 21s 413ms/step - loss: 2.2641 - acc: 0.5117\n",
      "Epoch 49/1000\n",
      "50/50 [==============================] - 20s 410ms/step - loss: 2.2613 - acc: 0.5124\n",
      "Epoch 50/1000\n",
      "50/50 [==============================] - 20s 410ms/step - loss: 2.2582 - acc: 0.5130\n",
      "Epoch 51/1000\n",
      "50/50 [==============================] - 20s 410ms/step - loss: 2.2555 - acc: 0.5134\n",
      "Epoch 52/1000\n",
      "50/50 [==============================] - 20s 409ms/step - loss: 2.2513 - acc: 0.5139\n",
      "Epoch 53/1000\n",
      "18/50 [=========>....................] - ETA: 13s - loss: 2.2500 - acc: 0.5139"
     ]
    }
   ],
   "source": [
    "# /media/MyDataStor1/mshaikh2/project_xray/notebooks\n",
    "hist = model.fit_generator(t_datagen,epochs=1000,verbose=1,steps_per_epoch=50)"
   ]
  },
  {
   "cell_type": "code",
   "execution_count": null,
   "metadata": {
    "scrolled": true
   },
   "outputs": [],
   "source": [
    "df = pd.DataFrame(hist.history)\n",
    "df.to_csv(\"graphs/gap_add_8_atten_metrics.csv\")\n",
    "plot1,plot2 = df.plot(subplots=True, figsize=(5,10))\n",
    "fig1 = plot1.get_figure()\n",
    "fig2 = plot2.get_figure()\n",
    "fig1.savefig(\"graphs/gap_add_8_atten_acc.png\")\n",
    "fig2.savefig(\"graphs/gap_add_8_atten_loss.png\")"
   ]
  },
  {
   "cell_type": "code",
   "execution_count": 38,
   "metadata": {},
   "outputs": [],
   "source": [
    "t_datagen = temp_datagen(batchsize=5)\n",
    "t_x,t_y = next(t_datagen)\n",
    "p_y = model.predict(t_x)"
   ]
  },
  {
   "cell_type": "code",
   "execution_count": 56,
   "metadata": {},
   "outputs": [],
   "source": [
    "attn_model_1 = Model(inp,model.get_layer(\"a1\").output)\n",
    "attn_model_2 = Model(inp,model.get_layer(\"a2\").output)\n",
    "attn_model_3 = Model(inp,model.get_layer(\"a3\").output)\n",
    "attn_model_4 = Model(inp,model.get_layer(\"a4\").output)\n",
    "attn_model_5 = Model(inp,model.get_layer(\"a4\").output)\n",
    "attn_model_6 = Model(inp,model.get_layer(\"a5\").output)\n",
    "attn_model_7 = Model(inp,model.get_layer(\"a6\").output)\n",
    "attn_model_8 = Model(inp,model.get_layer(\"a7\").output)"
   ]
  },
  {
   "cell_type": "code",
   "execution_count": 57,
   "metadata": {},
   "outputs": [],
   "source": [
    "_,map1 = attn_model_1.predict(t_x)\n",
    "_,map2 = attn_model_2.predict(t_x)\n",
    "_,map3 = attn_model_3.predict(t_x)\n",
    "_,map4 = attn_model_4.predict(t_x)\n",
    "_,map5 = attn_model_5.predict(t_x)\n",
    "_,map6 = attn_model_6.predict(t_x)\n",
    "_,map7 = attn_model_7.predict(t_x)\n",
    "_,map8 = attn_model_8.predict(t_x)"
   ]
  },
  {
   "cell_type": "code",
   "execution_count": 92,
   "metadata": {},
   "outputs": [],
   "source": [
    "def softmax(z):\n",
    "    assert len(z.shape) == 2\n",
    "    s = np.max(z, axis=1)\n",
    "    s = s[:, np.newaxis] # necessary step to do broadcasting\n",
    "    e_x = np.exp(z - s)\n",
    "    div = np.sum(e_x, axis=1)\n",
    "    div = div[:, np.newaxis] # dito\n",
    "    return e_x / div"
   ]
  },
  {
   "cell_type": "code",
   "execution_count": 98,
   "metadata": {},
   "outputs": [],
   "source": [
    "maps = softmax(map8[idx])+ \\\n",
    "softmax(map1[idx])+ \\\n",
    "softmax(map2[idx])+ \\\n",
    "softmax(map3[idx])+ \\\n",
    "softmax(map4[idx])+ \\\n",
    "softmax(map5[idx])+ \\\n",
    "softmax(map6[idx])+ \\\n",
    "softmax(map7[idx])"
   ]
  },
  {
   "cell_type": "code",
   "execution_count": 117,
   "metadata": {},
   "outputs": [
    {
     "data": {
      "text/plain": [
       "<matplotlib.axes._subplots.AxesSubplot at 0x7f6fbca0f438>"
      ]
     },
     "execution_count": 117,
     "metadata": {},
     "output_type": "execute_result"
    },
    {
     "data": {
      "image/png": "[encoded data removed]",
      "text/plain": [
       "<Figure size 1080x144 with 1 Axes>"
      ]
     },
     "metadata": {
      "needs_background": "light"
     },
     "output_type": "display_data"
    }
   ],
   "source": [
    "df_maps=pd.DataFrame(maps[0])\n",
    "df_maps.plot(kind='bar',legend=False,figsize=(15,2))"
   ]
  },
  {
   "cell_type": "code",
   "execution_count": 59,
   "metadata": {},
   "outputs": [],
   "source": [
    "idx = 1"
   ]
  },
  {
   "cell_type": "code",
   "execution_count": 93,
   "metadata": {},
   "outputs": [
    {
     "data": {
      "image/png": "[encoded data removed]",
      "text/plain": [
       "<Figure size 432x288 with 1 Axes>"
      ]
     },
     "metadata": {
      "needs_background": "light"
     },
     "output_type": "display_data"
    },
    {
     "data": {
      "image/png": "[encoded data removed]",
      "text/plain": [
       "<Figure size 432x288 with 1 Axes>"
      ]
     },
     "metadata": {
      "needs_background": "light"
     },
     "output_type": "display_data"
    },
    {
     "data": {
      "image/png": "[encoded data removed]",
      "text/plain": [
       "<Figure size 432x288 with 1 Axes>"
      ]
     },
     "metadata": {
      "needs_background": "light"
     },
     "output_type": "display_data"
    },
    {
     "data": {
      "image/png": "[encoded data removed]",
      "text/plain": [
       "<Figure size 432x288 with 1 Axes>"
      ]
     },
     "metadata": {
      "needs_background": "light"
     },
     "output_type": "display_data"
    },
    {
     "data": {
      "image/png": "[encoded data removed]",
      "text/plain": [
       "<Figure size 432x288 with 1 Axes>"
      ]
     },
     "metadata": {
      "needs_background": "light"
     },
     "output_type": "display_data"
    },
    {
     "data": {
      "image/png": "[encoded data removed]",
      "text/plain": [
       "<Figure size 432x288 with 1 Axes>"
      ]
     },
     "metadata": {
      "needs_background": "light"
     },
     "output_type": "display_data"
    },
    {
     "data": {
      "image/png": "[encoded data removed]",
      "text/plain": [
       "<Figure size 432x288 with 1 Axes>"
      ]
     },
     "metadata": {
      "needs_background": "light"
     },
     "output_type": "display_data"
    }
   ],
   "source": [
    "plt.imshow(softmax(map1[idx]))\n",
    "plt.show()\n",
    "plt.imshow(softmax(map2[idx]))\n",
    "plt.show()\n",
    "plt.imshow(softmax(map3[idx]))\n",
    "plt.show()\n",
    "plt.imshow(softmax(map4[idx]))\n",
    "plt.show()\n",
    "plt.imshow(softmax(map5[idx]))\n",
    "plt.show()\n",
    "plt.imshow(softmax(map6[idx]))\n",
    "plt.show()\n",
    "plt.imshow(softmax(map7[idx]))\n",
    "plt.show()\n"
   ]
  },
  {
   "cell_type": "code",
   "execution_count": 91,
   "metadata": {},
   "outputs": [
    {
     "data": {
      "text/plain": [
       "<matplotlib.image.AxesImage at 0x7f6fbd489400>"
      ]
     },
     "execution_count": 91,
     "metadata": {},
     "output_type": "execute_result"
    },
    {
     "data": {
      "image/png": "[encoded data removed]",
      "text/plain": [
       "<Figure size 432x288 with 1 Axes>"
      ]
     },
     "metadata": {
      "needs_background": "light"
     },
     "output_type": "display_data"
    }
   ],
   "source": [
    "\n",
    "plt.imshow(softmax(map7[idx]))"
   ]
  },
  {
   "cell_type": "code",
   "execution_count": 39,
   "metadata": {
    "scrolled": true
   },
   "outputs": [
    {
     "data": {
      "text/html": [
       "<div>\n",
       "<style scoped>\n",
       "    .dataframe tbody tr th:only-of-type {\n",
       "        vertical-align: middle;\n",
       "    }\n",
       "\n",
       "    .dataframe tbody tr th {\n",
       "        vertical-align: top;\n",
       "    }\n",
       "\n",
       "    .dataframe thead th {\n",
       "        text-align: right;\n",
       "    }\n",
       "</style>\n",
       "<table border=\"1\" class=\"dataframe\">\n",
       "  <thead>\n",
       "    <tr style=\"text-align: right;\">\n",
       "      <th></th>\n",
       "      <th>0</th>\n",
       "      <th>1</th>\n",
       "      <th>2</th>\n",
       "      <th>3</th>\n",
       "      <th>4</th>\n",
       "      <th>5</th>\n",
       "      <th>6</th>\n",
       "      <th>7</th>\n",
       "      <th>8</th>\n",
       "      <th>9</th>\n",
       "      <th>10</th>\n",
       "      <th>11</th>\n",
       "      <th>12</th>\n",
       "      <th>13</th>\n",
       "      <th>14</th>\n",
       "      <th>15</th>\n",
       "      <th>16</th>\n",
       "      <th>17</th>\n",
       "      <th>18</th>\n",
       "      <th>19</th>\n",
       "      <th>20</th>\n",
       "      <th>21</th>\n",
       "      <th>22</th>\n",
       "      <th>23</th>\n",
       "      <th>24</th>\n",
       "      <th>25</th>\n",
       "      <th>26</th>\n",
       "      <th>27</th>\n",
       "      <th>28</th>\n",
       "      <th>29</th>\n",
       "      <th>30</th>\n",
       "      <th>31</th>\n",
       "      <th>32</th>\n",
       "      <th>33</th>\n",
       "      <th>34</th>\n",
       "      <th>35</th>\n",
       "      <th>36</th>\n",
       "      <th>37</th>\n",
       "      <th>38</th>\n",
       "      <th>39</th>\n",
       "    </tr>\n",
       "  </thead>\n",
       "  <tbody>\n",
       "    <tr>\n",
       "      <th>0</th>\n",
       "      <td>17</td>\n",
       "      <td>41</td>\n",
       "      <td>61</td>\n",
       "      <td>12</td>\n",
       "      <td>70</td>\n",
       "      <td>74</td>\n",
       "      <td>96</td>\n",
       "      <td>86</td>\n",
       "      <td>53</td>\n",
       "      <td>91</td>\n",
       "      <td>91</td>\n",
       "      <td>98</td>\n",
       "      <td>76</td>\n",
       "      <td>72</td>\n",
       "      <td>41</td>\n",
       "      <td>43</td>\n",
       "      <td>31</td>\n",
       "      <td>97</td>\n",
       "      <td>68</td>\n",
       "      <td>2</td>\n",
       "      <td>19</td>\n",
       "      <td>93</td>\n",
       "      <td>34</td>\n",
       "      <td>94</td>\n",
       "      <td>30</td>\n",
       "      <td>1</td>\n",
       "      <td>37</td>\n",
       "      <td>84</td>\n",
       "      <td>17</td>\n",
       "      <td>91</td>\n",
       "      <td>95</td>\n",
       "      <td>12</td>\n",
       "      <td>82</td>\n",
       "      <td>62</td>\n",
       "      <td>12</td>\n",
       "      <td>54</td>\n",
       "      <td>47</td>\n",
       "      <td>98</td>\n",
       "      <td>44</td>\n",
       "      <td>56</td>\n",
       "    </tr>\n",
       "    <tr>\n",
       "      <th>1</th>\n",
       "      <td>73</td>\n",
       "      <td>50</td>\n",
       "      <td>22</td>\n",
       "      <td>2</td>\n",
       "      <td>73</td>\n",
       "      <td>94</td>\n",
       "      <td>28</td>\n",
       "      <td>86</td>\n",
       "      <td>29</td>\n",
       "      <td>89</td>\n",
       "      <td>40</td>\n",
       "      <td>90</td>\n",
       "      <td>53</td>\n",
       "      <td>28</td>\n",
       "      <td>31</td>\n",
       "      <td>58</td>\n",
       "      <td>63</td>\n",
       "      <td>16</td>\n",
       "      <td>49</td>\n",
       "      <td>64</td>\n",
       "      <td>29</td>\n",
       "      <td>9</td>\n",
       "      <td>47</td>\n",
       "      <td>73</td>\n",
       "      <td>18</td>\n",
       "      <td>49</td>\n",
       "      <td>88</td>\n",
       "      <td>60</td>\n",
       "      <td>42</td>\n",
       "      <td>82</td>\n",
       "      <td>45</td>\n",
       "      <td>14</td>\n",
       "      <td>90</td>\n",
       "      <td>44</td>\n",
       "      <td>26</td>\n",
       "      <td>80</td>\n",
       "      <td>80</td>\n",
       "      <td>69</td>\n",
       "      <td>73</td>\n",
       "      <td>24</td>\n",
       "    </tr>\n",
       "    <tr>\n",
       "      <th>2</th>\n",
       "      <td>74</td>\n",
       "      <td>79</td>\n",
       "      <td>1</td>\n",
       "      <td>2</td>\n",
       "      <td>16</td>\n",
       "      <td>7</td>\n",
       "      <td>66</td>\n",
       "      <td>97</td>\n",
       "      <td>23</td>\n",
       "      <td>34</td>\n",
       "      <td>81</td>\n",
       "      <td>80</td>\n",
       "      <td>42</td>\n",
       "      <td>38</td>\n",
       "      <td>54</td>\n",
       "      <td>86</td>\n",
       "      <td>46</td>\n",
       "      <td>30</td>\n",
       "      <td>29</td>\n",
       "      <td>16</td>\n",
       "      <td>98</td>\n",
       "      <td>85</td>\n",
       "      <td>56</td>\n",
       "      <td>75</td>\n",
       "      <td>77</td>\n",
       "      <td>39</td>\n",
       "      <td>39</td>\n",
       "      <td>91</td>\n",
       "      <td>47</td>\n",
       "      <td>80</td>\n",
       "      <td>78</td>\n",
       "      <td>12</td>\n",
       "      <td>70</td>\n",
       "      <td>41</td>\n",
       "      <td>52</td>\n",
       "      <td>41</td>\n",
       "      <td>33</td>\n",
       "      <td>8</td>\n",
       "      <td>11</td>\n",
       "      <td>55</td>\n",
       "    </tr>\n",
       "    <tr>\n",
       "      <th>3</th>\n",
       "      <td>30</td>\n",
       "      <td>83</td>\n",
       "      <td>46</td>\n",
       "      <td>60</td>\n",
       "      <td>28</td>\n",
       "      <td>64</td>\n",
       "      <td>93</td>\n",
       "      <td>37</td>\n",
       "      <td>57</td>\n",
       "      <td>8</td>\n",
       "      <td>63</td>\n",
       "      <td>80</td>\n",
       "      <td>55</td>\n",
       "      <td>32</td>\n",
       "      <td>11</td>\n",
       "      <td>63</td>\n",
       "      <td>54</td>\n",
       "      <td>15</td>\n",
       "      <td>52</td>\n",
       "      <td>76</td>\n",
       "      <td>84</td>\n",
       "      <td>17</td>\n",
       "      <td>34</td>\n",
       "      <td>54</td>\n",
       "      <td>31</td>\n",
       "      <td>41</td>\n",
       "      <td>97</td>\n",
       "      <td>68</td>\n",
       "      <td>82</td>\n",
       "      <td>99</td>\n",
       "      <td>41</td>\n",
       "      <td>77</td>\n",
       "      <td>90</td>\n",
       "      <td>33</td>\n",
       "      <td>35</td>\n",
       "      <td>46</td>\n",
       "      <td>57</td>\n",
       "      <td>18</td>\n",
       "      <td>67</td>\n",
       "      <td>43</td>\n",
       "    </tr>\n",
       "    <tr>\n",
       "      <th>4</th>\n",
       "      <td>51</td>\n",
       "      <td>86</td>\n",
       "      <td>29</td>\n",
       "      <td>38</td>\n",
       "      <td>41</td>\n",
       "      <td>80</td>\n",
       "      <td>34</td>\n",
       "      <td>98</td>\n",
       "      <td>95</td>\n",
       "      <td>36</td>\n",
       "      <td>81</td>\n",
       "      <td>69</td>\n",
       "      <td>59</td>\n",
       "      <td>93</td>\n",
       "      <td>2</td>\n",
       "      <td>17</td>\n",
       "      <td>11</td>\n",
       "      <td>60</td>\n",
       "      <td>82</td>\n",
       "      <td>45</td>\n",
       "      <td>25</td>\n",
       "      <td>90</td>\n",
       "      <td>70</td>\n",
       "      <td>73</td>\n",
       "      <td>2</td>\n",
       "      <td>26</td>\n",
       "      <td>14</td>\n",
       "      <td>83</td>\n",
       "      <td>31</td>\n",
       "      <td>28</td>\n",
       "      <td>2</td>\n",
       "      <td>70</td>\n",
       "      <td>11</td>\n",
       "      <td>82</td>\n",
       "      <td>21</td>\n",
       "      <td>25</td>\n",
       "      <td>77</td>\n",
       "      <td>84</td>\n",
       "      <td>72</td>\n",
       "      <td>85</td>\n",
       "    </tr>\n",
       "  </tbody>\n",
       "</table>\n",
       "</div>"
      ],
      "text/plain": [
       "   0   1   2   3   4   5   6   7   8   9   10  11  12  13  14  15  16  17  18  \\\n",
       "0  17  41  61  12  70  74  96  86  53  91  91  98  76  72  41  43  31  97  68   \n",
       "1  73  50  22   2  73  94  28  86  29  89  40  90  53  28  31  58  63  16  49   \n",
       "2  74  79   1   2  16   7  66  97  23  34  81  80  42  38  54  86  46  30  29   \n",
       "3  30  83  46  60  28  64  93  37  57   8  63  80  55  32  11  63  54  15  52   \n",
       "4  51  86  29  38  41  80  34  98  95  36  81  69  59  93   2  17  11  60  82   \n",
       "\n",
       "   19  20  21  22  23  24  25  26  27  28  29  30  31  32  33  34  35  36  37  \\\n",
       "0   2  19  93  34  94  30   1  37  84  17  91  95  12  82  62  12  54  47  98   \n",
       "1  64  29   9  47  73  18  49  88  60  42  82  45  14  90  44  26  80  80  69   \n",
       "2  16  98  85  56  75  77  39  39  91  47  80  78  12  70  41  52  41  33   8   \n",
       "3  76  84  17  34  54  31  41  97  68  82  99  41  77  90  33  35  46  57  18   \n",
       "4  45  25  90  70  73   2  26  14  83  31  28   2  70  11  82  21  25  77  84   \n",
       "\n",
       "   38  39  \n",
       "0  44  56  \n",
       "1  73  24  \n",
       "2  11  55  \n",
       "3  67  43  \n",
       "4  72  85  "
      ]
     },
     "metadata": {},
     "output_type": "display_data"
    },
    {
     "data": {
      "text/html": [
       "<div>\n",
       "<style scoped>\n",
       "    .dataframe tbody tr th:only-of-type {\n",
       "        vertical-align: middle;\n",
       "    }\n",
       "\n",
       "    .dataframe tbody tr th {\n",
       "        vertical-align: top;\n",
       "    }\n",
       "\n",
       "    .dataframe thead th {\n",
       "        text-align: right;\n",
       "    }\n",
       "</style>\n",
       "<table border=\"1\" class=\"dataframe\">\n",
       "  <thead>\n",
       "    <tr style=\"text-align: right;\">\n",
       "      <th></th>\n",
       "      <th>0</th>\n",
       "      <th>1</th>\n",
       "      <th>2</th>\n",
       "      <th>3</th>\n",
       "      <th>4</th>\n",
       "      <th>5</th>\n",
       "      <th>6</th>\n",
       "      <th>7</th>\n",
       "      <th>8</th>\n",
       "      <th>9</th>\n",
       "      <th>10</th>\n",
       "      <th>11</th>\n",
       "      <th>12</th>\n",
       "      <th>13</th>\n",
       "      <th>14</th>\n",
       "      <th>15</th>\n",
       "      <th>16</th>\n",
       "      <th>17</th>\n",
       "      <th>18</th>\n",
       "      <th>19</th>\n",
       "      <th>20</th>\n",
       "      <th>21</th>\n",
       "      <th>22</th>\n",
       "      <th>23</th>\n",
       "      <th>24</th>\n",
       "      <th>25</th>\n",
       "      <th>26</th>\n",
       "      <th>27</th>\n",
       "      <th>28</th>\n",
       "      <th>29</th>\n",
       "      <th>30</th>\n",
       "      <th>31</th>\n",
       "      <th>32</th>\n",
       "      <th>33</th>\n",
       "      <th>34</th>\n",
       "      <th>35</th>\n",
       "      <th>36</th>\n",
       "      <th>37</th>\n",
       "      <th>38</th>\n",
       "      <th>39</th>\n",
       "    </tr>\n",
       "  </thead>\n",
       "  <tbody>\n",
       "    <tr>\n",
       "      <th>0</th>\n",
       "      <td>0</td>\n",
       "      <td>41</td>\n",
       "      <td>0</td>\n",
       "      <td>12</td>\n",
       "      <td>0</td>\n",
       "      <td>74</td>\n",
       "      <td>0</td>\n",
       "      <td>86</td>\n",
       "      <td>0</td>\n",
       "      <td>91</td>\n",
       "      <td>0</td>\n",
       "      <td>98</td>\n",
       "      <td>0</td>\n",
       "      <td>72</td>\n",
       "      <td>0</td>\n",
       "      <td>43</td>\n",
       "      <td>0</td>\n",
       "      <td>97</td>\n",
       "      <td>0</td>\n",
       "      <td>2</td>\n",
       "      <td>0</td>\n",
       "      <td>93</td>\n",
       "      <td>0</td>\n",
       "      <td>94</td>\n",
       "      <td>0</td>\n",
       "      <td>1</td>\n",
       "      <td>0</td>\n",
       "      <td>84</td>\n",
       "      <td>0</td>\n",
       "      <td>91</td>\n",
       "      <td>0</td>\n",
       "      <td>12</td>\n",
       "      <td>0</td>\n",
       "      <td>62</td>\n",
       "      <td>0</td>\n",
       "      <td>54</td>\n",
       "      <td>0</td>\n",
       "      <td>98</td>\n",
       "      <td>0</td>\n",
       "      <td>56</td>\n",
       "    </tr>\n",
       "    <tr>\n",
       "      <th>1</th>\n",
       "      <td>0</td>\n",
       "      <td>50</td>\n",
       "      <td>0</td>\n",
       "      <td>2</td>\n",
       "      <td>0</td>\n",
       "      <td>94</td>\n",
       "      <td>0</td>\n",
       "      <td>86</td>\n",
       "      <td>0</td>\n",
       "      <td>89</td>\n",
       "      <td>0</td>\n",
       "      <td>90</td>\n",
       "      <td>0</td>\n",
       "      <td>28</td>\n",
       "      <td>0</td>\n",
       "      <td>58</td>\n",
       "      <td>0</td>\n",
       "      <td>16</td>\n",
       "      <td>0</td>\n",
       "      <td>64</td>\n",
       "      <td>0</td>\n",
       "      <td>9</td>\n",
       "      <td>0</td>\n",
       "      <td>73</td>\n",
       "      <td>0</td>\n",
       "      <td>49</td>\n",
       "      <td>0</td>\n",
       "      <td>60</td>\n",
       "      <td>0</td>\n",
       "      <td>82</td>\n",
       "      <td>0</td>\n",
       "      <td>14</td>\n",
       "      <td>0</td>\n",
       "      <td>44</td>\n",
       "      <td>0</td>\n",
       "      <td>80</td>\n",
       "      <td>0</td>\n",
       "      <td>69</td>\n",
       "      <td>0</td>\n",
       "      <td>24</td>\n",
       "    </tr>\n",
       "    <tr>\n",
       "      <th>2</th>\n",
       "      <td>0</td>\n",
       "      <td>79</td>\n",
       "      <td>0</td>\n",
       "      <td>2</td>\n",
       "      <td>0</td>\n",
       "      <td>7</td>\n",
       "      <td>0</td>\n",
       "      <td>97</td>\n",
       "      <td>0</td>\n",
       "      <td>34</td>\n",
       "      <td>0</td>\n",
       "      <td>80</td>\n",
       "      <td>0</td>\n",
       "      <td>38</td>\n",
       "      <td>0</td>\n",
       "      <td>86</td>\n",
       "      <td>0</td>\n",
       "      <td>30</td>\n",
       "      <td>0</td>\n",
       "      <td>16</td>\n",
       "      <td>0</td>\n",
       "      <td>85</td>\n",
       "      <td>0</td>\n",
       "      <td>75</td>\n",
       "      <td>0</td>\n",
       "      <td>39</td>\n",
       "      <td>0</td>\n",
       "      <td>91</td>\n",
       "      <td>0</td>\n",
       "      <td>80</td>\n",
       "      <td>0</td>\n",
       "      <td>12</td>\n",
       "      <td>0</td>\n",
       "      <td>41</td>\n",
       "      <td>0</td>\n",
       "      <td>41</td>\n",
       "      <td>0</td>\n",
       "      <td>8</td>\n",
       "      <td>0</td>\n",
       "      <td>55</td>\n",
       "    </tr>\n",
       "    <tr>\n",
       "      <th>3</th>\n",
       "      <td>0</td>\n",
       "      <td>83</td>\n",
       "      <td>0</td>\n",
       "      <td>60</td>\n",
       "      <td>0</td>\n",
       "      <td>64</td>\n",
       "      <td>0</td>\n",
       "      <td>37</td>\n",
       "      <td>0</td>\n",
       "      <td>8</td>\n",
       "      <td>0</td>\n",
       "      <td>80</td>\n",
       "      <td>0</td>\n",
       "      <td>32</td>\n",
       "      <td>0</td>\n",
       "      <td>63</td>\n",
       "      <td>0</td>\n",
       "      <td>15</td>\n",
       "      <td>0</td>\n",
       "      <td>76</td>\n",
       "      <td>0</td>\n",
       "      <td>17</td>\n",
       "      <td>0</td>\n",
       "      <td>54</td>\n",
       "      <td>0</td>\n",
       "      <td>41</td>\n",
       "      <td>0</td>\n",
       "      <td>68</td>\n",
       "      <td>0</td>\n",
       "      <td>99</td>\n",
       "      <td>0</td>\n",
       "      <td>77</td>\n",
       "      <td>0</td>\n",
       "      <td>33</td>\n",
       "      <td>0</td>\n",
       "      <td>46</td>\n",
       "      <td>0</td>\n",
       "      <td>18</td>\n",
       "      <td>0</td>\n",
       "      <td>43</td>\n",
       "    </tr>\n",
       "    <tr>\n",
       "      <th>4</th>\n",
       "      <td>0</td>\n",
       "      <td>86</td>\n",
       "      <td>0</td>\n",
       "      <td>38</td>\n",
       "      <td>0</td>\n",
       "      <td>80</td>\n",
       "      <td>0</td>\n",
       "      <td>98</td>\n",
       "      <td>0</td>\n",
       "      <td>36</td>\n",
       "      <td>0</td>\n",
       "      <td>69</td>\n",
       "      <td>0</td>\n",
       "      <td>93</td>\n",
       "      <td>0</td>\n",
       "      <td>17</td>\n",
       "      <td>0</td>\n",
       "      <td>60</td>\n",
       "      <td>0</td>\n",
       "      <td>45</td>\n",
       "      <td>0</td>\n",
       "      <td>90</td>\n",
       "      <td>0</td>\n",
       "      <td>73</td>\n",
       "      <td>0</td>\n",
       "      <td>26</td>\n",
       "      <td>0</td>\n",
       "      <td>83</td>\n",
       "      <td>0</td>\n",
       "      <td>28</td>\n",
       "      <td>0</td>\n",
       "      <td>70</td>\n",
       "      <td>0</td>\n",
       "      <td>82</td>\n",
       "      <td>0</td>\n",
       "      <td>25</td>\n",
       "      <td>0</td>\n",
       "      <td>84</td>\n",
       "      <td>0</td>\n",
       "      <td>85</td>\n",
       "    </tr>\n",
       "  </tbody>\n",
       "</table>\n",
       "</div>"
      ],
      "text/plain": [
       "   0   1   2   3   4   5   6   7   8   9   10  11  12  13  14  15  16  17  18  \\\n",
       "0   0  41   0  12   0  74   0  86   0  91   0  98   0  72   0  43   0  97   0   \n",
       "1   0  50   0   2   0  94   0  86   0  89   0  90   0  28   0  58   0  16   0   \n",
       "2   0  79   0   2   0   7   0  97   0  34   0  80   0  38   0  86   0  30   0   \n",
       "3   0  83   0  60   0  64   0  37   0   8   0  80   0  32   0  63   0  15   0   \n",
       "4   0  86   0  38   0  80   0  98   0  36   0  69   0  93   0  17   0  60   0   \n",
       "\n",
       "   19  20  21  22  23  24  25  26  27  28  29  30  31  32  33  34  35  36  37  \\\n",
       "0   2   0  93   0  94   0   1   0  84   0  91   0  12   0  62   0  54   0  98   \n",
       "1  64   0   9   0  73   0  49   0  60   0  82   0  14   0  44   0  80   0  69   \n",
       "2  16   0  85   0  75   0  39   0  91   0  80   0  12   0  41   0  41   0   8   \n",
       "3  76   0  17   0  54   0  41   0  68   0  99   0  77   0  33   0  46   0  18   \n",
       "4  45   0  90   0  73   0  26   0  83   0  28   0  70   0  82   0  25   0  84   \n",
       "\n",
       "   38  39  \n",
       "0   0  56  \n",
       "1   0  24  \n",
       "2   0  55  \n",
       "3   0  43  \n",
       "4   0  85  "
      ]
     },
     "metadata": {},
     "output_type": "display_data"
    },
    {
     "data": {
      "text/html": [
       "<div>\n",
       "<style scoped>\n",
       "    .dataframe tbody tr th:only-of-type {\n",
       "        vertical-align: middle;\n",
       "    }\n",
       "\n",
       "    .dataframe tbody tr th {\n",
       "        vertical-align: top;\n",
       "    }\n",
       "\n",
       "    .dataframe thead th {\n",
       "        text-align: right;\n",
       "    }\n",
       "</style>\n",
       "<table border=\"1\" class=\"dataframe\">\n",
       "  <thead>\n",
       "    <tr style=\"text-align: right;\">\n",
       "      <th></th>\n",
       "      <th>0</th>\n",
       "      <th>1</th>\n",
       "      <th>2</th>\n",
       "      <th>3</th>\n",
       "      <th>4</th>\n",
       "      <th>5</th>\n",
       "      <th>6</th>\n",
       "      <th>7</th>\n",
       "      <th>8</th>\n",
       "      <th>9</th>\n",
       "      <th>10</th>\n",
       "      <th>11</th>\n",
       "      <th>12</th>\n",
       "      <th>13</th>\n",
       "      <th>14</th>\n",
       "      <th>15</th>\n",
       "      <th>16</th>\n",
       "      <th>17</th>\n",
       "      <th>18</th>\n",
       "      <th>19</th>\n",
       "      <th>20</th>\n",
       "      <th>21</th>\n",
       "      <th>22</th>\n",
       "      <th>23</th>\n",
       "      <th>24</th>\n",
       "      <th>25</th>\n",
       "      <th>26</th>\n",
       "      <th>27</th>\n",
       "      <th>28</th>\n",
       "      <th>29</th>\n",
       "      <th>30</th>\n",
       "      <th>31</th>\n",
       "      <th>32</th>\n",
       "      <th>33</th>\n",
       "      <th>34</th>\n",
       "      <th>35</th>\n",
       "      <th>36</th>\n",
       "      <th>37</th>\n",
       "      <th>38</th>\n",
       "      <th>39</th>\n",
       "    </tr>\n",
       "  </thead>\n",
       "  <tbody>\n",
       "    <tr>\n",
       "      <th>0</th>\n",
       "      <td>0</td>\n",
       "      <td>41</td>\n",
       "      <td>0</td>\n",
       "      <td>12</td>\n",
       "      <td>0</td>\n",
       "      <td>74</td>\n",
       "      <td>0</td>\n",
       "      <td>86</td>\n",
       "      <td>0</td>\n",
       "      <td>91</td>\n",
       "      <td>0</td>\n",
       "      <td>98</td>\n",
       "      <td>0</td>\n",
       "      <td>72</td>\n",
       "      <td>0</td>\n",
       "      <td>43</td>\n",
       "      <td>0</td>\n",
       "      <td>97</td>\n",
       "      <td>0</td>\n",
       "      <td>2</td>\n",
       "      <td>0</td>\n",
       "      <td>93</td>\n",
       "      <td>0</td>\n",
       "      <td>94</td>\n",
       "      <td>0</td>\n",
       "      <td>1</td>\n",
       "      <td>0</td>\n",
       "      <td>84</td>\n",
       "      <td>0</td>\n",
       "      <td>91</td>\n",
       "      <td>0</td>\n",
       "      <td>12</td>\n",
       "      <td>0</td>\n",
       "      <td>62</td>\n",
       "      <td>0</td>\n",
       "      <td>54</td>\n",
       "      <td>0</td>\n",
       "      <td>98</td>\n",
       "      <td>0</td>\n",
       "      <td>56</td>\n",
       "    </tr>\n",
       "    <tr>\n",
       "      <th>1</th>\n",
       "      <td>0</td>\n",
       "      <td>50</td>\n",
       "      <td>0</td>\n",
       "      <td>2</td>\n",
       "      <td>0</td>\n",
       "      <td>94</td>\n",
       "      <td>0</td>\n",
       "      <td>86</td>\n",
       "      <td>0</td>\n",
       "      <td>89</td>\n",
       "      <td>0</td>\n",
       "      <td>90</td>\n",
       "      <td>0</td>\n",
       "      <td>28</td>\n",
       "      <td>0</td>\n",
       "      <td>58</td>\n",
       "      <td>0</td>\n",
       "      <td>16</td>\n",
       "      <td>0</td>\n",
       "      <td>64</td>\n",
       "      <td>0</td>\n",
       "      <td>9</td>\n",
       "      <td>0</td>\n",
       "      <td>73</td>\n",
       "      <td>0</td>\n",
       "      <td>49</td>\n",
       "      <td>0</td>\n",
       "      <td>60</td>\n",
       "      <td>0</td>\n",
       "      <td>82</td>\n",
       "      <td>0</td>\n",
       "      <td>14</td>\n",
       "      <td>0</td>\n",
       "      <td>44</td>\n",
       "      <td>0</td>\n",
       "      <td>80</td>\n",
       "      <td>0</td>\n",
       "      <td>69</td>\n",
       "      <td>0</td>\n",
       "      <td>24</td>\n",
       "    </tr>\n",
       "    <tr>\n",
       "      <th>2</th>\n",
       "      <td>0</td>\n",
       "      <td>79</td>\n",
       "      <td>0</td>\n",
       "      <td>2</td>\n",
       "      <td>0</td>\n",
       "      <td>7</td>\n",
       "      <td>0</td>\n",
       "      <td>97</td>\n",
       "      <td>0</td>\n",
       "      <td>34</td>\n",
       "      <td>0</td>\n",
       "      <td>80</td>\n",
       "      <td>0</td>\n",
       "      <td>38</td>\n",
       "      <td>0</td>\n",
       "      <td>86</td>\n",
       "      <td>0</td>\n",
       "      <td>30</td>\n",
       "      <td>0</td>\n",
       "      <td>16</td>\n",
       "      <td>0</td>\n",
       "      <td>85</td>\n",
       "      <td>0</td>\n",
       "      <td>75</td>\n",
       "      <td>0</td>\n",
       "      <td>39</td>\n",
       "      <td>0</td>\n",
       "      <td>91</td>\n",
       "      <td>0</td>\n",
       "      <td>80</td>\n",
       "      <td>0</td>\n",
       "      <td>12</td>\n",
       "      <td>0</td>\n",
       "      <td>41</td>\n",
       "      <td>0</td>\n",
       "      <td>41</td>\n",
       "      <td>0</td>\n",
       "      <td>8</td>\n",
       "      <td>0</td>\n",
       "      <td>55</td>\n",
       "    </tr>\n",
       "    <tr>\n",
       "      <th>3</th>\n",
       "      <td>0</td>\n",
       "      <td>83</td>\n",
       "      <td>0</td>\n",
       "      <td>60</td>\n",
       "      <td>0</td>\n",
       "      <td>64</td>\n",
       "      <td>0</td>\n",
       "      <td>37</td>\n",
       "      <td>0</td>\n",
       "      <td>8</td>\n",
       "      <td>0</td>\n",
       "      <td>80</td>\n",
       "      <td>0</td>\n",
       "      <td>32</td>\n",
       "      <td>0</td>\n",
       "      <td>63</td>\n",
       "      <td>0</td>\n",
       "      <td>15</td>\n",
       "      <td>0</td>\n",
       "      <td>76</td>\n",
       "      <td>0</td>\n",
       "      <td>17</td>\n",
       "      <td>0</td>\n",
       "      <td>54</td>\n",
       "      <td>0</td>\n",
       "      <td>41</td>\n",
       "      <td>0</td>\n",
       "      <td>68</td>\n",
       "      <td>0</td>\n",
       "      <td>99</td>\n",
       "      <td>0</td>\n",
       "      <td>77</td>\n",
       "      <td>0</td>\n",
       "      <td>33</td>\n",
       "      <td>0</td>\n",
       "      <td>46</td>\n",
       "      <td>0</td>\n",
       "      <td>18</td>\n",
       "      <td>0</td>\n",
       "      <td>43</td>\n",
       "    </tr>\n",
       "    <tr>\n",
       "      <th>4</th>\n",
       "      <td>0</td>\n",
       "      <td>86</td>\n",
       "      <td>0</td>\n",
       "      <td>38</td>\n",
       "      <td>0</td>\n",
       "      <td>80</td>\n",
       "      <td>0</td>\n",
       "      <td>98</td>\n",
       "      <td>0</td>\n",
       "      <td>36</td>\n",
       "      <td>0</td>\n",
       "      <td>69</td>\n",
       "      <td>0</td>\n",
       "      <td>93</td>\n",
       "      <td>0</td>\n",
       "      <td>17</td>\n",
       "      <td>0</td>\n",
       "      <td>60</td>\n",
       "      <td>0</td>\n",
       "      <td>45</td>\n",
       "      <td>0</td>\n",
       "      <td>90</td>\n",
       "      <td>0</td>\n",
       "      <td>73</td>\n",
       "      <td>0</td>\n",
       "      <td>26</td>\n",
       "      <td>0</td>\n",
       "      <td>83</td>\n",
       "      <td>0</td>\n",
       "      <td>28</td>\n",
       "      <td>0</td>\n",
       "      <td>70</td>\n",
       "      <td>0</td>\n",
       "      <td>82</td>\n",
       "      <td>0</td>\n",
       "      <td>25</td>\n",
       "      <td>0</td>\n",
       "      <td>84</td>\n",
       "      <td>0</td>\n",
       "      <td>85</td>\n",
       "    </tr>\n",
       "  </tbody>\n",
       "</table>\n",
       "</div>"
      ],
      "text/plain": [
       "   0   1   2   3   4   5   6   7   8   9   10  11  12  13  14  15  16  17  18  \\\n",
       "0   0  41   0  12   0  74   0  86   0  91   0  98   0  72   0  43   0  97   0   \n",
       "1   0  50   0   2   0  94   0  86   0  89   0  90   0  28   0  58   0  16   0   \n",
       "2   0  79   0   2   0   7   0  97   0  34   0  80   0  38   0  86   0  30   0   \n",
       "3   0  83   0  60   0  64   0  37   0   8   0  80   0  32   0  63   0  15   0   \n",
       "4   0  86   0  38   0  80   0  98   0  36   0  69   0  93   0  17   0  60   0   \n",
       "\n",
       "   19  20  21  22  23  24  25  26  27  28  29  30  31  32  33  34  35  36  37  \\\n",
       "0   2   0  93   0  94   0   1   0  84   0  91   0  12   0  62   0  54   0  98   \n",
       "1  64   0   9   0  73   0  49   0  60   0  82   0  14   0  44   0  80   0  69   \n",
       "2  16   0  85   0  75   0  39   0  91   0  80   0  12   0  41   0  41   0   8   \n",
       "3  76   0  17   0  54   0  41   0  68   0  99   0  77   0  33   0  46   0  18   \n",
       "4  45   0  90   0  73   0  26   0  83   0  28   0  70   0  82   0  25   0  84   \n",
       "\n",
       "   38  39  \n",
       "0   0  56  \n",
       "1   0  24  \n",
       "2   0  55  \n",
       "3   0  43  \n",
       "4   0  85  "
      ]
     },
     "metadata": {},
     "output_type": "display_data"
    },
    {
     "data": {
      "text/plain": [
       "(None, None, None)"
      ]
     },
     "execution_count": 39,
     "metadata": {},
     "output_type": "execute_result"
    }
   ],
   "source": [
    "pd.options.display.max_columns=100\n",
    "display(pd.DataFrame(t_x)),display(pd.DataFrame(t_y.argmax(-1))),display(pd.DataFrame(p_y.argmax(-1)))"
   ]
  },
  {
   "cell_type": "code",
   "execution_count": 4,
   "metadata": {
    "scrolled": true
   },
   "outputs": [],
   "source": [
    "nlp = spacy.load('en_core_web_md')"
   ]
  },
  {
   "cell_type": "code",
   "execution_count": 5,
   "metadata": {},
   "outputs": [
    {
     "data": {
      "text/plain": [
       "'/media/MyDataStor1/mshaikh2/project_xray/ChestXRay/notebooks'"
      ]
     },
     "execution_count": 5,
     "metadata": {},
     "output_type": "execute_result"
    }
   ],
   "source": [
    "path=os.getcwd() #Get the path\n",
    "path"
   ]
  },
  {
   "cell_type": "code",
   "execution_count": 6,
   "metadata": {
    "scrolled": true
   },
   "outputs": [
    {
     "data": {
      "text/html": [
       "<div>\n",
       "<style scoped>\n",
       "    .dataframe tbody tr th:only-of-type {\n",
       "        vertical-align: middle;\n",
       "    }\n",
       "\n",
       "    .dataframe tbody tr th {\n",
       "        vertical-align: top;\n",
       "    }\n",
       "\n",
       "    .dataframe thead th {\n",
       "        text-align: right;\n",
       "    }\n",
       "</style>\n",
       "<table border=\"1\" class=\"dataframe\">\n",
       "  <thead>\n",
       "    <tr style=\"text-align: right;\">\n",
       "      <th></th>\n",
       "      <th>uid</th>\n",
       "      <th>filename</th>\n",
       "      <th>projection</th>\n",
       "    </tr>\n",
       "  </thead>\n",
       "  <tbody>\n",
       "    <tr>\n",
       "      <th>0</th>\n",
       "      <td>1</td>\n",
       "      <td>1_IM-0001-4001.dcm.png</td>\n",
       "      <td>Frontal</td>\n",
       "    </tr>\n",
       "    <tr>\n",
       "      <th>1</th>\n",
       "      <td>1</td>\n",
       "      <td>1_IM-0001-3001.dcm.png</td>\n",
       "      <td>Lateral</td>\n",
       "    </tr>\n",
       "    <tr>\n",
       "      <th>2</th>\n",
       "      <td>2</td>\n",
       "      <td>2_IM-0652-1001.dcm.png</td>\n",
       "      <td>Frontal</td>\n",
       "    </tr>\n",
       "    <tr>\n",
       "      <th>3</th>\n",
       "      <td>2</td>\n",
       "      <td>2_IM-0652-2001.dcm.png</td>\n",
       "      <td>Lateral</td>\n",
       "    </tr>\n",
       "    <tr>\n",
       "      <th>4</th>\n",
       "      <td>3</td>\n",
       "      <td>3_IM-1384-1001.dcm.png</td>\n",
       "      <td>Frontal</td>\n",
       "    </tr>\n",
       "    <tr>\n",
       "      <th>5</th>\n",
       "      <td>3</td>\n",
       "      <td>3_IM-1384-2001.dcm.png</td>\n",
       "      <td>Lateral</td>\n",
       "    </tr>\n",
       "    <tr>\n",
       "      <th>6</th>\n",
       "      <td>4</td>\n",
       "      <td>4_IM-2050-1001.dcm.png</td>\n",
       "      <td>Frontal</td>\n",
       "    </tr>\n",
       "    <tr>\n",
       "      <th>7</th>\n",
       "      <td>4</td>\n",
       "      <td>4_IM-2050-2001.dcm.png</td>\n",
       "      <td>Lateral</td>\n",
       "    </tr>\n",
       "    <tr>\n",
       "      <th>8</th>\n",
       "      <td>5</td>\n",
       "      <td>5_IM-2117-1003002.dcm.png</td>\n",
       "      <td>Frontal</td>\n",
       "    </tr>\n",
       "    <tr>\n",
       "      <th>9</th>\n",
       "      <td>5</td>\n",
       "      <td>5_IM-2117-1004003.dcm.png</td>\n",
       "      <td>Lateral</td>\n",
       "    </tr>\n",
       "    <tr>\n",
       "      <th>10</th>\n",
       "      <td>6</td>\n",
       "      <td>6_IM-2192-1001.dcm.png</td>\n",
       "      <td>Frontal</td>\n",
       "    </tr>\n",
       "    <tr>\n",
       "      <th>11</th>\n",
       "      <td>6</td>\n",
       "      <td>6_IM-2192-2001.dcm.png</td>\n",
       "      <td>Lateral</td>\n",
       "    </tr>\n",
       "    <tr>\n",
       "      <th>12</th>\n",
       "      <td>7</td>\n",
       "      <td>7_IM-2263-1001.dcm.png</td>\n",
       "      <td>Frontal</td>\n",
       "    </tr>\n",
       "    <tr>\n",
       "      <th>13</th>\n",
       "      <td>7</td>\n",
       "      <td>7_IM-2263-2001.dcm.png</td>\n",
       "      <td>Lateral</td>\n",
       "    </tr>\n",
       "    <tr>\n",
       "      <th>14</th>\n",
       "      <td>8</td>\n",
       "      <td>8_IM-2333-1001.dcm.png</td>\n",
       "      <td>Frontal</td>\n",
       "    </tr>\n",
       "    <tr>\n",
       "      <th>15</th>\n",
       "      <td>8</td>\n",
       "      <td>8_IM-2333-2001.dcm.png</td>\n",
       "      <td>Lateral</td>\n",
       "    </tr>\n",
       "    <tr>\n",
       "      <th>16</th>\n",
       "      <td>9</td>\n",
       "      <td>9_IM-2407-1001.dcm.png</td>\n",
       "      <td>Frontal</td>\n",
       "    </tr>\n",
       "    <tr>\n",
       "      <th>17</th>\n",
       "      <td>9</td>\n",
       "      <td>9_IM-2407-2001.dcm.png</td>\n",
       "      <td>Lateral</td>\n",
       "    </tr>\n",
       "    <tr>\n",
       "      <th>18</th>\n",
       "      <td>10</td>\n",
       "      <td>10_IM-0002-2001.dcm.png</td>\n",
       "      <td>Frontal</td>\n",
       "    </tr>\n",
       "    <tr>\n",
       "      <th>19</th>\n",
       "      <td>10</td>\n",
       "      <td>10_IM-0002-1001.dcm.png</td>\n",
       "      <td>Lateral</td>\n",
       "    </tr>\n",
       "    <tr>\n",
       "      <th>20</th>\n",
       "      <td>11</td>\n",
       "      <td>11_IM-0067-1001.dcm.png</td>\n",
       "      <td>Frontal</td>\n",
       "    </tr>\n",
       "    <tr>\n",
       "      <th>21</th>\n",
       "      <td>11</td>\n",
       "      <td>11_IM-0067-2001.dcm.png</td>\n",
       "      <td>Lateral</td>\n",
       "    </tr>\n",
       "    <tr>\n",
       "      <th>22</th>\n",
       "      <td>12</td>\n",
       "      <td>12_IM-0133-1001.dcm.png</td>\n",
       "      <td>Frontal</td>\n",
       "    </tr>\n",
       "    <tr>\n",
       "      <th>23</th>\n",
       "      <td>12</td>\n",
       "      <td>12_IM-0133-2001.dcm.png</td>\n",
       "      <td>Lateral</td>\n",
       "    </tr>\n",
       "    <tr>\n",
       "      <th>24</th>\n",
       "      <td>13</td>\n",
       "      <td>13_IM-0198-1001.dcm.png</td>\n",
       "      <td>Frontal</td>\n",
       "    </tr>\n",
       "    <tr>\n",
       "      <th>25</th>\n",
       "      <td>13</td>\n",
       "      <td>13_IM-0198-2001.dcm.png</td>\n",
       "      <td>Lateral</td>\n",
       "    </tr>\n",
       "    <tr>\n",
       "      <th>26</th>\n",
       "      <td>14</td>\n",
       "      <td>14_IM-0256-1001.dcm.png</td>\n",
       "      <td>Frontal</td>\n",
       "    </tr>\n",
       "    <tr>\n",
       "      <th>27</th>\n",
       "      <td>14</td>\n",
       "      <td>14_IM-0256-2001.dcm.png</td>\n",
       "      <td>Lateral</td>\n",
       "    </tr>\n",
       "    <tr>\n",
       "      <th>28</th>\n",
       "      <td>15</td>\n",
       "      <td>15_IM-0324-1001.dcm.png</td>\n",
       "      <td>Frontal</td>\n",
       "    </tr>\n",
       "    <tr>\n",
       "      <th>29</th>\n",
       "      <td>15</td>\n",
       "      <td>15_IM-0324-2001.dcm.png</td>\n",
       "      <td>Lateral</td>\n",
       "    </tr>\n",
       "    <tr>\n",
       "      <th>30</th>\n",
       "      <td>16</td>\n",
       "      <td>16_IM-0389-1001.dcm.png</td>\n",
       "      <td>Frontal</td>\n",
       "    </tr>\n",
       "    <tr>\n",
       "      <th>31</th>\n",
       "      <td>16</td>\n",
       "      <td>16_IM-0389-2001.dcm.png</td>\n",
       "      <td>Lateral</td>\n",
       "    </tr>\n",
       "    <tr>\n",
       "      <th>32</th>\n",
       "      <td>17</td>\n",
       "      <td>17_IM-0460-2001.dcm.png</td>\n",
       "      <td>Frontal</td>\n",
       "    </tr>\n",
       "    <tr>\n",
       "      <th>33</th>\n",
       "      <td>17</td>\n",
       "      <td>17_IM-0460-1001.dcm.png</td>\n",
       "      <td>Lateral</td>\n",
       "    </tr>\n",
       "    <tr>\n",
       "      <th>34</th>\n",
       "      <td>18</td>\n",
       "      <td>18_IM-0520-1001.dcm.png</td>\n",
       "      <td>Frontal</td>\n",
       "    </tr>\n",
       "    <tr>\n",
       "      <th>35</th>\n",
       "      <td>18</td>\n",
       "      <td>18_IM-0520-2001.dcm.png</td>\n",
       "      <td>Lateral</td>\n",
       "    </tr>\n",
       "    <tr>\n",
       "      <th>36</th>\n",
       "      <td>19</td>\n",
       "      <td>19_IM-0583-1001.dcm.png</td>\n",
       "      <td>Frontal</td>\n",
       "    </tr>\n",
       "    <tr>\n",
       "      <th>37</th>\n",
       "      <td>19</td>\n",
       "      <td>19_IM-0583-3003.dcm.png</td>\n",
       "      <td>Lateral</td>\n",
       "    </tr>\n",
       "    <tr>\n",
       "      <th>38</th>\n",
       "      <td>20</td>\n",
       "      <td>20_IM-0653-1001.dcm.png</td>\n",
       "      <td>Frontal</td>\n",
       "    </tr>\n",
       "    <tr>\n",
       "      <th>39</th>\n",
       "      <td>20</td>\n",
       "      <td>20_IM-0653-1002.dcm.png</td>\n",
       "      <td>Lateral</td>\n",
       "    </tr>\n",
       "    <tr>\n",
       "      <th>40</th>\n",
       "      <td>21</td>\n",
       "      <td>21_IM-0729-1001-0001.dcm.png</td>\n",
       "      <td>Frontal</td>\n",
       "    </tr>\n",
       "    <tr>\n",
       "      <th>41</th>\n",
       "      <td>21</td>\n",
       "      <td>21_IM-0729-1001-0002.dcm.png</td>\n",
       "      <td>Lateral</td>\n",
       "    </tr>\n",
       "    <tr>\n",
       "      <th>42</th>\n",
       "      <td>22</td>\n",
       "      <td>22_IM-0810-1001.dcm.png</td>\n",
       "      <td>Frontal</td>\n",
       "    </tr>\n",
       "    <tr>\n",
       "      <th>43</th>\n",
       "      <td>22</td>\n",
       "      <td>22_IM-0810-2001.dcm.png</td>\n",
       "      <td>Lateral</td>\n",
       "    </tr>\n",
       "    <tr>\n",
       "      <th>44</th>\n",
       "      <td>23</td>\n",
       "      <td>23_IM-0879-1001.dcm.png</td>\n",
       "      <td>Frontal</td>\n",
       "    </tr>\n",
       "    <tr>\n",
       "      <th>45</th>\n",
       "      <td>23</td>\n",
       "      <td>23_IM-0879-2001.dcm.png</td>\n",
       "      <td>Lateral</td>\n",
       "    </tr>\n",
       "    <tr>\n",
       "      <th>46</th>\n",
       "      <td>24</td>\n",
       "      <td>24_IM-0949-1001.dcm.png</td>\n",
       "      <td>Frontal</td>\n",
       "    </tr>\n",
       "    <tr>\n",
       "      <th>47</th>\n",
       "      <td>24</td>\n",
       "      <td>24_IM-0949-2001.dcm.png</td>\n",
       "      <td>Lateral</td>\n",
       "    </tr>\n",
       "    <tr>\n",
       "      <th>48</th>\n",
       "      <td>25</td>\n",
       "      <td>25_IM-1024-2001.dcm.png</td>\n",
       "      <td>Frontal</td>\n",
       "    </tr>\n",
       "    <tr>\n",
       "      <th>49</th>\n",
       "      <td>25</td>\n",
       "      <td>25_IM-1024-3001.dcm.png</td>\n",
       "      <td>Lateral</td>\n",
       "    </tr>\n",
       "  </tbody>\n",
       "</table>\n",
       "</div>"
      ],
      "text/plain": [
       "    uid                      filename projection\n",
       "0     1        1_IM-0001-4001.dcm.png    Frontal\n",
       "1     1        1_IM-0001-3001.dcm.png    Lateral\n",
       "2     2        2_IM-0652-1001.dcm.png    Frontal\n",
       "3     2        2_IM-0652-2001.dcm.png    Lateral\n",
       "4     3        3_IM-1384-1001.dcm.png    Frontal\n",
       "5     3        3_IM-1384-2001.dcm.png    Lateral\n",
       "6     4        4_IM-2050-1001.dcm.png    Frontal\n",
       "7     4        4_IM-2050-2001.dcm.png    Lateral\n",
       "8     5     5_IM-2117-1003002.dcm.png    Frontal\n",
       "9     5     5_IM-2117-1004003.dcm.png    Lateral\n",
       "10    6        6_IM-2192-1001.dcm.png    Frontal\n",
       "11    6        6_IM-2192-2001.dcm.png    Lateral\n",
       "12    7        7_IM-2263-1001.dcm.png    Frontal\n",
       "13    7        7_IM-2263-2001.dcm.png    Lateral\n",
       "14    8        8_IM-2333-1001.dcm.png    Frontal\n",
       "15    8        8_IM-2333-2001.dcm.png    Lateral\n",
       "16    9        9_IM-2407-1001.dcm.png    Frontal\n",
       "17    9        9_IM-2407-2001.dcm.png    Lateral\n",
       "18   10       10_IM-0002-2001.dcm.png    Frontal\n",
       "19   10       10_IM-0002-1001.dcm.png    Lateral\n",
       "20   11       11_IM-0067-1001.dcm.png    Frontal\n",
       "21   11       11_IM-0067-2001.dcm.png    Lateral\n",
       "22   12       12_IM-0133-1001.dcm.png    Frontal\n",
       "23   12       12_IM-0133-2001.dcm.png    Lateral\n",
       "24   13       13_IM-0198-1001.dcm.png    Frontal\n",
       "25   13       13_IM-0198-2001.dcm.png    Lateral\n",
       "26   14       14_IM-0256-1001.dcm.png    Frontal\n",
       "27   14       14_IM-0256-2001.dcm.png    Lateral\n",
       "28   15       15_IM-0324-1001.dcm.png    Frontal\n",
       "29   15       15_IM-0324-2001.dcm.png    Lateral\n",
       "30   16       16_IM-0389-1001.dcm.png    Frontal\n",
       "31   16       16_IM-0389-2001.dcm.png    Lateral\n",
       "32   17       17_IM-0460-2001.dcm.png    Frontal\n",
       "33   17       17_IM-0460-1001.dcm.png    Lateral\n",
       "34   18       18_IM-0520-1001.dcm.png    Frontal\n",
       "35   18       18_IM-0520-2001.dcm.png    Lateral\n",
       "36   19       19_IM-0583-1001.dcm.png    Frontal\n",
       "37   19       19_IM-0583-3003.dcm.png    Lateral\n",
       "38   20       20_IM-0653-1001.dcm.png    Frontal\n",
       "39   20       20_IM-0653-1002.dcm.png    Lateral\n",
       "40   21  21_IM-0729-1001-0001.dcm.png    Frontal\n",
       "41   21  21_IM-0729-1001-0002.dcm.png    Lateral\n",
       "42   22       22_IM-0810-1001.dcm.png    Frontal\n",
       "43   22       22_IM-0810-2001.dcm.png    Lateral\n",
       "44   23       23_IM-0879-1001.dcm.png    Frontal\n",
       "45   23       23_IM-0879-2001.dcm.png    Lateral\n",
       "46   24       24_IM-0949-1001.dcm.png    Frontal\n",
       "47   24       24_IM-0949-2001.dcm.png    Lateral\n",
       "48   25       25_IM-1024-2001.dcm.png    Frontal\n",
       "49   25       25_IM-1024-3001.dcm.png    Lateral"
      ]
     },
     "metadata": {},
     "output_type": "display_data"
    },
    {
     "data": {
      "text/plain": [
       "(7466, 3)"
      ]
     },
     "metadata": {},
     "output_type": "display_data"
    },
    {
     "data": {
      "text/html": [
       "<div>\n",
       "<style scoped>\n",
       "    .dataframe tbody tr th:only-of-type {\n",
       "        vertical-align: middle;\n",
       "    }\n",
       "\n",
       "    .dataframe tbody tr th {\n",
       "        vertical-align: top;\n",
       "    }\n",
       "\n",
       "    .dataframe thead th {\n",
       "        text-align: right;\n",
       "    }\n",
       "</style>\n",
       "<table border=\"1\" class=\"dataframe\">\n",
       "  <thead>\n",
       "    <tr style=\"text-align: right;\">\n",
       "      <th></th>\n",
       "      <th>uid</th>\n",
       "      <th>MeSH</th>\n",
       "      <th>Problems</th>\n",
       "      <th>image</th>\n",
       "      <th>indication</th>\n",
       "      <th>comparison</th>\n",
       "      <th>findings</th>\n",
       "      <th>impression</th>\n",
       "    </tr>\n",
       "  </thead>\n",
       "  <tbody>\n",
       "    <tr>\n",
       "      <th>0</th>\n",
       "      <td>1</td>\n",
       "      <td>normal</td>\n",
       "      <td>normal</td>\n",
       "      <td>Xray Chest PA and Lateral</td>\n",
       "      <td>Positive TB test</td>\n",
       "      <td>None.</td>\n",
       "      <td>The cardiac silhouette and mediastinum size ar...</td>\n",
       "      <td>Normal chest x-XXXX.</td>\n",
       "    </tr>\n",
       "    <tr>\n",
       "      <th>1</th>\n",
       "      <td>2</td>\n",
       "      <td>Cardiomegaly/borderline;Pulmonary Artery/enlarged</td>\n",
       "      <td>Cardiomegaly;Pulmonary Artery</td>\n",
       "      <td>Chest, 2 views, frontal and lateral</td>\n",
       "      <td>Preop bariatric surgery.</td>\n",
       "      <td>None.</td>\n",
       "      <td>Borderline cardiomegaly. Midline sternotomy XX...</td>\n",
       "      <td>No acute pulmonary findings.</td>\n",
       "    </tr>\n",
       "    <tr>\n",
       "      <th>2</th>\n",
       "      <td>3</td>\n",
       "      <td>normal</td>\n",
       "      <td>normal</td>\n",
       "      <td>Xray Chest PA and Lateral</td>\n",
       "      <td>rib pain after a XXXX, XXXX XXXX steps this XX...</td>\n",
       "      <td>NaN</td>\n",
       "      <td>NaN</td>\n",
       "      <td>No displaced rib fractures, pneumothorax, or p...</td>\n",
       "    </tr>\n",
       "    <tr>\n",
       "      <th>3</th>\n",
       "      <td>4</td>\n",
       "      <td>Pulmonary Disease, Chronic Obstructive;Bullous...</td>\n",
       "      <td>Pulmonary Disease, Chronic Obstructive;Bullous...</td>\n",
       "      <td>PA and lateral views of the chest XXXX, XXXX a...</td>\n",
       "      <td>XXXX-year-old XXXX with XXXX.</td>\n",
       "      <td>None available</td>\n",
       "      <td>There are diffuse bilateral interstitial and a...</td>\n",
       "      <td>1. Bullous emphysema and interstitial fibrosis...</td>\n",
       "    </tr>\n",
       "    <tr>\n",
       "      <th>4</th>\n",
       "      <td>5</td>\n",
       "      <td>Osteophyte/thoracic vertebrae/multiple/small;T...</td>\n",
       "      <td>Osteophyte;Thickening;Lung</td>\n",
       "      <td>Xray Chest PA and Lateral</td>\n",
       "      <td>Chest and nasal congestion.</td>\n",
       "      <td>NaN</td>\n",
       "      <td>The cardiomediastinal silhouette and pulmonary...</td>\n",
       "      <td>No acute cardiopulmonary abnormality.</td>\n",
       "    </tr>\n",
       "  </tbody>\n",
       "</table>\n",
       "</div>"
      ],
      "text/plain": [
       "   uid                                               MeSH  \\\n",
       "0    1                                             normal   \n",
       "1    2  Cardiomegaly/borderline;Pulmonary Artery/enlarged   \n",
       "2    3                                             normal   \n",
       "3    4  Pulmonary Disease, Chronic Obstructive;Bullous...   \n",
       "4    5  Osteophyte/thoracic vertebrae/multiple/small;T...   \n",
       "\n",
       "                                            Problems  \\\n",
       "0                                             normal   \n",
       "1                      Cardiomegaly;Pulmonary Artery   \n",
       "2                                             normal   \n",
       "3  Pulmonary Disease, Chronic Obstructive;Bullous...   \n",
       "4                         Osteophyte;Thickening;Lung   \n",
       "\n",
       "                                               image  \\\n",
       "0                          Xray Chest PA and Lateral   \n",
       "1                Chest, 2 views, frontal and lateral   \n",
       "2                          Xray Chest PA and Lateral   \n",
       "3  PA and lateral views of the chest XXXX, XXXX a...   \n",
       "4                          Xray Chest PA and Lateral   \n",
       "\n",
       "                                          indication      comparison  \\\n",
       "0                                   Positive TB test           None.   \n",
       "1                           Preop bariatric surgery.           None.   \n",
       "2  rib pain after a XXXX, XXXX XXXX steps this XX...             NaN   \n",
       "3                      XXXX-year-old XXXX with XXXX.  None available   \n",
       "4                        Chest and nasal congestion.             NaN   \n",
       "\n",
       "                                            findings  \\\n",
       "0  The cardiac silhouette and mediastinum size ar...   \n",
       "1  Borderline cardiomegaly. Midline sternotomy XX...   \n",
       "2                                                NaN   \n",
       "3  There are diffuse bilateral interstitial and a...   \n",
       "4  The cardiomediastinal silhouette and pulmonary...   \n",
       "\n",
       "                                          impression  \n",
       "0                               Normal chest x-XXXX.  \n",
       "1                       No acute pulmonary findings.  \n",
       "2  No displaced rib fractures, pneumothorax, or p...  \n",
       "3  1. Bullous emphysema and interstitial fibrosis...  \n",
       "4              No acute cardiopulmonary abnormality.  "
      ]
     },
     "metadata": {},
     "output_type": "display_data"
    },
    {
     "data": {
      "text/plain": [
       "(3851, 8)"
      ]
     },
     "metadata": {},
     "output_type": "display_data"
    }
   ],
   "source": [
    "proj_ds=pd.read_csv(path+'/../dataset/indiana_projections.csv')\n",
    "repo_ds=pd.read_csv(path+'/../dataset/indiana_reports.csv')\n",
    "\n",
    "display(proj_ds.head(50),proj_ds.shape)\n",
    "display(repo_ds.sort_values(by='uid').head(),repo_ds.shape)"
   ]
  },
  {
   "cell_type": "code",
   "execution_count": 7,
   "metadata": {},
   "outputs": [
    {
     "data": {
      "text/html": [
       "<div>\n",
       "<style scoped>\n",
       "    .dataframe tbody tr th:only-of-type {\n",
       "        vertical-align: middle;\n",
       "    }\n",
       "\n",
       "    .dataframe tbody tr th {\n",
       "        vertical-align: top;\n",
       "    }\n",
       "\n",
       "    .dataframe thead th {\n",
       "        text-align: right;\n",
       "    }\n",
       "</style>\n",
       "<table border=\"1\" class=\"dataframe\">\n",
       "  <thead>\n",
       "    <tr style=\"text-align: right;\">\n",
       "      <th></th>\n",
       "      <th>uid</th>\n",
       "      <th>filename</th>\n",
       "      <th>projection</th>\n",
       "    </tr>\n",
       "  </thead>\n",
       "  <tbody>\n",
       "    <tr>\n",
       "      <th>0</th>\n",
       "      <td>1</td>\n",
       "      <td>1_IM-0001-4001.dcm.png</td>\n",
       "      <td>Frontal</td>\n",
       "    </tr>\n",
       "    <tr>\n",
       "      <th>2</th>\n",
       "      <td>2</td>\n",
       "      <td>2_IM-0652-1001.dcm.png</td>\n",
       "      <td>Frontal</td>\n",
       "    </tr>\n",
       "    <tr>\n",
       "      <th>4</th>\n",
       "      <td>3</td>\n",
       "      <td>3_IM-1384-1001.dcm.png</td>\n",
       "      <td>Frontal</td>\n",
       "    </tr>\n",
       "    <tr>\n",
       "      <th>6</th>\n",
       "      <td>4</td>\n",
       "      <td>4_IM-2050-1001.dcm.png</td>\n",
       "      <td>Frontal</td>\n",
       "    </tr>\n",
       "    <tr>\n",
       "      <th>8</th>\n",
       "      <td>5</td>\n",
       "      <td>5_IM-2117-1003002.dcm.png</td>\n",
       "      <td>Frontal</td>\n",
       "    </tr>\n",
       "  </tbody>\n",
       "</table>\n",
       "</div>"
      ],
      "text/plain": [
       "   uid                   filename projection\n",
       "0    1     1_IM-0001-4001.dcm.png    Frontal\n",
       "2    2     2_IM-0652-1001.dcm.png    Frontal\n",
       "4    3     3_IM-1384-1001.dcm.png    Frontal\n",
       "6    4     4_IM-2050-1001.dcm.png    Frontal\n",
       "8    5  5_IM-2117-1003002.dcm.png    Frontal"
      ]
     },
     "metadata": {},
     "output_type": "display_data"
    },
    {
     "data": {
      "text/plain": [
       "(3818, 3)"
      ]
     },
     "execution_count": 7,
     "metadata": {},
     "output_type": "execute_result"
    }
   ],
   "source": [
    "f_proj_ds = proj_ds[proj_ds.projection=='Frontal']\n",
    "f_proj_ds = f_proj_ds.sort_values(by='uid')\n",
    "display(f_proj_ds.head())\n",
    "f_proj_ds.shape"
   ]
  },
  {
   "cell_type": "code",
   "execution_count": 8,
   "metadata": {},
   "outputs": [
    {
     "data": {
      "text/html": [
       "<div>\n",
       "<style scoped>\n",
       "    .dataframe tbody tr th:only-of-type {\n",
       "        vertical-align: middle;\n",
       "    }\n",
       "\n",
       "    .dataframe tbody tr th {\n",
       "        vertical-align: top;\n",
       "    }\n",
       "\n",
       "    .dataframe thead th {\n",
       "        text-align: right;\n",
       "    }\n",
       "</style>\n",
       "<table border=\"1\" class=\"dataframe\">\n",
       "  <thead>\n",
       "    <tr style=\"text-align: right;\">\n",
       "      <th></th>\n",
       "      <th>uid</th>\n",
       "      <th>MeSH</th>\n",
       "      <th>Problems</th>\n",
       "      <th>image</th>\n",
       "      <th>indication</th>\n",
       "      <th>comparison</th>\n",
       "      <th>findings</th>\n",
       "      <th>impression</th>\n",
       "    </tr>\n",
       "  </thead>\n",
       "  <tbody>\n",
       "    <tr>\n",
       "      <th>0</th>\n",
       "      <td>1</td>\n",
       "      <td>normal</td>\n",
       "      <td>normal</td>\n",
       "      <td>Xray Chest PA and Lateral</td>\n",
       "      <td>Positive TB test</td>\n",
       "      <td>None.</td>\n",
       "      <td>The cardiac silhouette and mediastinum size ar...</td>\n",
       "      <td>Normal chest x-XXXX.</td>\n",
       "    </tr>\n",
       "    <tr>\n",
       "      <th>1</th>\n",
       "      <td>2</td>\n",
       "      <td>Cardiomegaly/borderline;Pulmonary Artery/enlarged</td>\n",
       "      <td>Cardiomegaly;Pulmonary Artery</td>\n",
       "      <td>Chest, 2 views, frontal and lateral</td>\n",
       "      <td>Preop bariatric surgery.</td>\n",
       "      <td>None.</td>\n",
       "      <td>Borderline cardiomegaly. Midline sternotomy XX...</td>\n",
       "      <td>No acute pulmonary findings.</td>\n",
       "    </tr>\n",
       "    <tr>\n",
       "      <th>3</th>\n",
       "      <td>4</td>\n",
       "      <td>Pulmonary Disease, Chronic Obstructive;Bullous...</td>\n",
       "      <td>Pulmonary Disease, Chronic Obstructive;Bullous...</td>\n",
       "      <td>PA and lateral views of the chest XXXX, XXXX a...</td>\n",
       "      <td>XXXX-year-old XXXX with XXXX.</td>\n",
       "      <td>None available</td>\n",
       "      <td>There are diffuse bilateral interstitial and a...</td>\n",
       "      <td>1. Bullous emphysema and interstitial fibrosis...</td>\n",
       "    </tr>\n",
       "    <tr>\n",
       "      <th>4</th>\n",
       "      <td>5</td>\n",
       "      <td>Osteophyte/thoracic vertebrae/multiple/small;T...</td>\n",
       "      <td>Osteophyte;Thickening;Lung</td>\n",
       "      <td>Xray Chest PA and Lateral</td>\n",
       "      <td>Chest and nasal congestion.</td>\n",
       "      <td>NaN</td>\n",
       "      <td>The cardiomediastinal silhouette and pulmonary...</td>\n",
       "      <td>No acute cardiopulmonary abnormality.</td>\n",
       "    </tr>\n",
       "    <tr>\n",
       "      <th>5</th>\n",
       "      <td>6</td>\n",
       "      <td>normal</td>\n",
       "      <td>normal</td>\n",
       "      <td>PA and Lateral Chest. XXXX, XXXX at XXXX</td>\n",
       "      <td>Evaluate for infection</td>\n",
       "      <td>XXXX, XXXX</td>\n",
       "      <td>Heart size and mediastinal contour are within ...</td>\n",
       "      <td>No acute cardiopulmonary findings.</td>\n",
       "    </tr>\n",
       "  </tbody>\n",
       "</table>\n",
       "</div>"
      ],
      "text/plain": [
       "   uid                                               MeSH  \\\n",
       "0    1                                             normal   \n",
       "1    2  Cardiomegaly/borderline;Pulmonary Artery/enlarged   \n",
       "3    4  Pulmonary Disease, Chronic Obstructive;Bullous...   \n",
       "4    5  Osteophyte/thoracic vertebrae/multiple/small;T...   \n",
       "5    6                                             normal   \n",
       "\n",
       "                                            Problems  \\\n",
       "0                                             normal   \n",
       "1                      Cardiomegaly;Pulmonary Artery   \n",
       "3  Pulmonary Disease, Chronic Obstructive;Bullous...   \n",
       "4                         Osteophyte;Thickening;Lung   \n",
       "5                                             normal   \n",
       "\n",
       "                                               image  \\\n",
       "0                          Xray Chest PA and Lateral   \n",
       "1                Chest, 2 views, frontal and lateral   \n",
       "3  PA and lateral views of the chest XXXX, XXXX a...   \n",
       "4                          Xray Chest PA and Lateral   \n",
       "5          PA and Lateral Chest. XXXX, XXXX at XXXX    \n",
       "\n",
       "                      indication      comparison  \\\n",
       "0               Positive TB test           None.   \n",
       "1       Preop bariatric surgery.           None.   \n",
       "3  XXXX-year-old XXXX with XXXX.  None available   \n",
       "4    Chest and nasal congestion.             NaN   \n",
       "5         Evaluate for infection      XXXX, XXXX   \n",
       "\n",
       "                                            findings  \\\n",
       "0  The cardiac silhouette and mediastinum size ar...   \n",
       "1  Borderline cardiomegaly. Midline sternotomy XX...   \n",
       "3  There are diffuse bilateral interstitial and a...   \n",
       "4  The cardiomediastinal silhouette and pulmonary...   \n",
       "5  Heart size and mediastinal contour are within ...   \n",
       "\n",
       "                                          impression  \n",
       "0                               Normal chest x-XXXX.  \n",
       "1                       No acute pulmonary findings.  \n",
       "3  1. Bullous emphysema and interstitial fibrosis...  \n",
       "4              No acute cardiopulmonary abnormality.  \n",
       "5                 No acute cardiopulmonary findings.  "
      ]
     },
     "metadata": {},
     "output_type": "display_data"
    },
    {
     "data": {
      "text/plain": [
       "(3331, 8)"
      ]
     },
     "execution_count": 8,
     "metadata": {},
     "output_type": "execute_result"
    }
   ],
   "source": [
    "c_repo_ds = repo_ds.dropna(subset=['findings','impression'],how='any')\n",
    "display(c_repo_ds.head())\n",
    "c_repo_ds.shape"
   ]
  },
  {
   "cell_type": "code",
   "execution_count": 9,
   "metadata": {
    "scrolled": true
   },
   "outputs": [
    {
     "data": {
      "text/html": [
       "<div>\n",
       "<style scoped>\n",
       "    .dataframe tbody tr th:only-of-type {\n",
       "        vertical-align: middle;\n",
       "    }\n",
       "\n",
       "    .dataframe tbody tr th {\n",
       "        vertical-align: top;\n",
       "    }\n",
       "\n",
       "    .dataframe thead th {\n",
       "        text-align: right;\n",
       "    }\n",
       "</style>\n",
       "<table border=\"1\" class=\"dataframe\">\n",
       "  <thead>\n",
       "    <tr style=\"text-align: right;\">\n",
       "      <th></th>\n",
       "      <th>uid</th>\n",
       "      <th>MeSH</th>\n",
       "      <th>Problems</th>\n",
       "      <th>image</th>\n",
       "      <th>indication</th>\n",
       "      <th>comparison</th>\n",
       "      <th>findings</th>\n",
       "      <th>impression</th>\n",
       "      <th>filename</th>\n",
       "      <th>projection</th>\n",
       "    </tr>\n",
       "  </thead>\n",
       "  <tbody>\n",
       "    <tr>\n",
       "      <th>0</th>\n",
       "      <td>1</td>\n",
       "      <td>normal</td>\n",
       "      <td>normal</td>\n",
       "      <td>Xray Chest PA and Lateral</td>\n",
       "      <td>Positive TB test</td>\n",
       "      <td>None.</td>\n",
       "      <td>The cardiac silhouette and mediastinum size ar...</td>\n",
       "      <td>Normal chest x-XXXX.</td>\n",
       "      <td>1_IM-0001-4001.dcm.png</td>\n",
       "      <td>Frontal</td>\n",
       "    </tr>\n",
       "    <tr>\n",
       "      <th>1</th>\n",
       "      <td>1</td>\n",
       "      <td>normal</td>\n",
       "      <td>normal</td>\n",
       "      <td>Xray Chest PA and Lateral</td>\n",
       "      <td>Positive TB test</td>\n",
       "      <td>None.</td>\n",
       "      <td>The cardiac silhouette and mediastinum size ar...</td>\n",
       "      <td>Normal chest x-XXXX.</td>\n",
       "      <td>1_IM-0001-3001.dcm.png</td>\n",
       "      <td>Lateral</td>\n",
       "    </tr>\n",
       "    <tr>\n",
       "      <th>2</th>\n",
       "      <td>2</td>\n",
       "      <td>Cardiomegaly/borderline;Pulmonary Artery/enlarged</td>\n",
       "      <td>Cardiomegaly;Pulmonary Artery</td>\n",
       "      <td>Chest, 2 views, frontal and lateral</td>\n",
       "      <td>Preop bariatric surgery.</td>\n",
       "      <td>None.</td>\n",
       "      <td>Borderline cardiomegaly. Midline sternotomy XX...</td>\n",
       "      <td>No acute pulmonary findings.</td>\n",
       "      <td>2_IM-0652-1001.dcm.png</td>\n",
       "      <td>Frontal</td>\n",
       "    </tr>\n",
       "    <tr>\n",
       "      <th>3</th>\n",
       "      <td>2</td>\n",
       "      <td>Cardiomegaly/borderline;Pulmonary Artery/enlarged</td>\n",
       "      <td>Cardiomegaly;Pulmonary Artery</td>\n",
       "      <td>Chest, 2 views, frontal and lateral</td>\n",
       "      <td>Preop bariatric surgery.</td>\n",
       "      <td>None.</td>\n",
       "      <td>Borderline cardiomegaly. Midline sternotomy XX...</td>\n",
       "      <td>No acute pulmonary findings.</td>\n",
       "      <td>2_IM-0652-2001.dcm.png</td>\n",
       "      <td>Lateral</td>\n",
       "    </tr>\n",
       "    <tr>\n",
       "      <th>4</th>\n",
       "      <td>4</td>\n",
       "      <td>Pulmonary Disease, Chronic Obstructive;Bullous...</td>\n",
       "      <td>Pulmonary Disease, Chronic Obstructive;Bullous...</td>\n",
       "      <td>PA and lateral views of the chest XXXX, XXXX a...</td>\n",
       "      <td>XXXX-year-old XXXX with XXXX.</td>\n",
       "      <td>None available</td>\n",
       "      <td>There are diffuse bilateral interstitial and a...</td>\n",
       "      <td>1. Bullous emphysema and interstitial fibrosis...</td>\n",
       "      <td>4_IM-2050-1001.dcm.png</td>\n",
       "      <td>Frontal</td>\n",
       "    </tr>\n",
       "  </tbody>\n",
       "</table>\n",
       "</div>"
      ],
      "text/plain": [
       "   uid                                               MeSH  \\\n",
       "0    1                                             normal   \n",
       "1    1                                             normal   \n",
       "2    2  Cardiomegaly/borderline;Pulmonary Artery/enlarged   \n",
       "3    2  Cardiomegaly/borderline;Pulmonary Artery/enlarged   \n",
       "4    4  Pulmonary Disease, Chronic Obstructive;Bullous...   \n",
       "\n",
       "                                            Problems  \\\n",
       "0                                             normal   \n",
       "1                                             normal   \n",
       "2                      Cardiomegaly;Pulmonary Artery   \n",
       "3                      Cardiomegaly;Pulmonary Artery   \n",
       "4  Pulmonary Disease, Chronic Obstructive;Bullous...   \n",
       "\n",
       "                                               image  \\\n",
       "0                          Xray Chest PA and Lateral   \n",
       "1                          Xray Chest PA and Lateral   \n",
       "2                Chest, 2 views, frontal and lateral   \n",
       "3                Chest, 2 views, frontal and lateral   \n",
       "4  PA and lateral views of the chest XXXX, XXXX a...   \n",
       "\n",
       "                      indication      comparison  \\\n",
       "0               Positive TB test           None.   \n",
       "1               Positive TB test           None.   \n",
       "2       Preop bariatric surgery.           None.   \n",
       "3       Preop bariatric surgery.           None.   \n",
       "4  XXXX-year-old XXXX with XXXX.  None available   \n",
       "\n",
       "                                            findings  \\\n",
       "0  The cardiac silhouette and mediastinum size ar...   \n",
       "1  The cardiac silhouette and mediastinum size ar...   \n",
       "2  Borderline cardiomegaly. Midline sternotomy XX...   \n",
       "3  Borderline cardiomegaly. Midline sternotomy XX...   \n",
       "4  There are diffuse bilateral interstitial and a...   \n",
       "\n",
       "                                          impression                filename  \\\n",
       "0                               Normal chest x-XXXX.  1_IM-0001-4001.dcm.png   \n",
       "1                               Normal chest x-XXXX.  1_IM-0001-3001.dcm.png   \n",
       "2                       No acute pulmonary findings.  2_IM-0652-1001.dcm.png   \n",
       "3                       No acute pulmonary findings.  2_IM-0652-2001.dcm.png   \n",
       "4  1. Bullous emphysema and interstitial fibrosis...  4_IM-2050-1001.dcm.png   \n",
       "\n",
       "  projection  \n",
       "0    Frontal  \n",
       "1    Lateral  \n",
       "2    Frontal  \n",
       "3    Lateral  \n",
       "4    Frontal  "
      ]
     },
     "metadata": {},
     "output_type": "display_data"
    },
    {
     "data": {
      "text/plain": [
       "(3301, 10)"
      ]
     },
     "execution_count": 9,
     "metadata": {},
     "output_type": "execute_result"
    }
   ],
   "source": [
    "merged_ds = pd.merge(left=c_repo_ds,right=proj_ds,on='uid',how='inner')\n",
    "display(merged_ds.head())\n",
    "merged_ds = merged_ds[merged_ds.projection=='Frontal']\n",
    "merged_ds.shape"
   ]
  },
  {
   "cell_type": "code",
   "execution_count": 10,
   "metadata": {
    "scrolled": true
   },
   "outputs": [],
   "source": [
    "# chars = []\n",
    "# char_count = {}\n",
    "# finding_len = []\n",
    "# max_len=0\n",
    "# for finding in c_repo_ds.findings:\n",
    "#     tokens = finding.lower()\n",
    "#     for i in list(\"[-<>:.,()]/\"):\n",
    "#         tokens = tokens.replace(i,' ')\n",
    "#     tokens=tokens.strip()\n",
    "#     if max_len<len(tokens):\n",
    "#         max_len=len(tokens)\n",
    "#     finding_len.append(len(tokens))\n",
    "#     chars+=tokens\n",
    "# for impr in c_repo_ds.impression:\n",
    "#     tokens = impr.lower()\n",
    "#     for i in list(\"[-<>:.,()]/\"):\n",
    "#         tokens = tokens.replace(i,' ')\n",
    "#     tokens=tokens.strip()\n",
    "#     chars+=tokens\n",
    "#     if max_len<len(tokens):\n",
    "#         max_len=len(tokens)\n",
    "#     finding_len.append(len(tokens))\n",
    "# print(len(list(set(chars))))\n",
    "# for char in chars:\n",
    "#     if char not in char_count.keys():\n",
    "#         char_count[char]=1\n",
    "#     else:\n",
    "#         char_count[char]+=1\n",
    "# df_ccount = pd.DataFrame()\n",
    "# df_ccount['chars']=char_count.keys()\n",
    "# df_ccount['c_count']=char_count.values()\n",
    "# df_ccount = df_ccount.sort_values(by='c_count',ascending=False).reset_index()\n",
    "# display(df_ccount.head(10))\n",
    "# df_ccount['index'].max(),max_len"
   ]
  },
  {
   "cell_type": "code",
   "execution_count": 11,
   "metadata": {},
   "outputs": [],
   "source": [
    "# sent_len_arr=[]\n",
    "# wo_len_arr = []\n",
    "# for row in tqdm_notebook(merged_ds['findings'].values):\n",
    "#     doc = nlp(row)\n",
    "#     sentences = [sent.string.strip() for sent in doc.sents]\n",
    "#     sent_len_arr.append(len(sentences))\n",
    "#     sentence = ' '.join(sentences[:7])\n",
    "#     sdoc = nlp(sentence)\n",
    "#     ls_sdoc = [str(x) for x in list(sdoc)]\n",
    "#     wo_len_arr.append(len(ls_sdoc))"
   ]
  },
  {
   "cell_type": "code",
   "execution_count": 12,
   "metadata": {},
   "outputs": [],
   "source": [
    "# df_sent_len = pd.DataFrame(sent_len_arr,columns=['count'])\n",
    "# df_word_len = pd.DataFrame(wo_len_arr,columns=['count'])\n",
    "# df_sent_len.shape,df_word_len.shape"
   ]
  },
  {
   "cell_type": "code",
   "execution_count": 13,
   "metadata": {},
   "outputs": [],
   "source": [
    "# df_word_len.describe()"
   ]
  },
  {
   "cell_type": "code",
   "execution_count": 14,
   "metadata": {},
   "outputs": [],
   "source": [
    "# df_sent_len[df_sent_len['count']>7].shape,df_word_len[df_word_len['count']>60].shape\n"
   ]
  },
  {
   "cell_type": "code",
   "execution_count": 15,
   "metadata": {
    "scrolled": true
   },
   "outputs": [],
   "source": [
    "# ch_to_co = df_ccount\n",
    "# ch_to_co.index = ch_to_co.chars\n",
    "# ch_to_co = ch_to_co['index'].to_dict()\n",
    "# display(ch_to_co)\n",
    "# co_to_ch = df_ccount\n",
    "# co_to_ch.index = co_to_ch['index']\n",
    "# co_to_ch = co_to_ch['chars'].to_dict()\n",
    "# display(co_to_ch)"
   ]
  },
  {
   "cell_type": "code",
   "execution_count": 16,
   "metadata": {},
   "outputs": [],
   "source": [
    "# tokens = nlp('startseq ' \n",
    "#              + ' '.join(c_repo_ds.impression.values).lower().replace('/',' ')\n",
    "#              + ' endseq.' \n",
    "#              + ' startseq' \n",
    "#              + ' '.join(c_repo_ds.findings.values).lower().replace('/',' ')\n",
    "#              + ' endseq.')"
   ]
  },
  {
   "cell_type": "code",
   "execution_count": 17,
   "metadata": {},
   "outputs": [],
   "source": [
    "# vocab = [str(x) for x in tokens]\n",
    "# vocab"
   ]
  },
  {
   "cell_type": "code",
   "execution_count": 18,
   "metadata": {
    "scrolled": true
   },
   "outputs": [
    {
     "data": {
      "text/html": [
       "<div>\n",
       "<style scoped>\n",
       "    .dataframe tbody tr th:only-of-type {\n",
       "        vertical-align: middle;\n",
       "    }\n",
       "\n",
       "    .dataframe tbody tr th {\n",
       "        vertical-align: top;\n",
       "    }\n",
       "\n",
       "    .dataframe thead th {\n",
       "        text-align: right;\n",
       "    }\n",
       "</style>\n",
       "<table border=\"1\" class=\"dataframe\">\n",
       "  <thead>\n",
       "    <tr style=\"text-align: right;\">\n",
       "      <th></th>\n",
       "      <th>index</th>\n",
       "      <th>words</th>\n",
       "      <th>w_count</th>\n",
       "    </tr>\n",
       "  </thead>\n",
       "  <tbody>\n",
       "    <tr>\n",
       "      <th>0</th>\n",
       "      <td>1608</td>\n",
       "      <td>.</td>\n",
       "      <td>21069</td>\n",
       "    </tr>\n",
       "    <tr>\n",
       "      <th>1</th>\n",
       "      <td>1667</td>\n",
       "      <td>no</td>\n",
       "      <td>6824</td>\n",
       "    </tr>\n",
       "    <tr>\n",
       "      <th>2</th>\n",
       "      <td>1855</td>\n",
       "      <td>the</td>\n",
       "      <td>6596</td>\n",
       "    </tr>\n",
       "    <tr>\n",
       "      <th>3</th>\n",
       "      <td>1370</td>\n",
       "      <td>is</td>\n",
       "      <td>4367</td>\n",
       "    </tr>\n",
       "    <tr>\n",
       "      <th>4</th>\n",
       "      <td>538</td>\n",
       "      <td>are</td>\n",
       "      <td>4312</td>\n",
       "    </tr>\n",
       "    <tr>\n",
       "      <th>5</th>\n",
       "      <td>910</td>\n",
       "      <td>normal</td>\n",
       "      <td>3548</td>\n",
       "    </tr>\n",
       "    <tr>\n",
       "      <th>6</th>\n",
       "      <td>99</td>\n",
       "      <td>,</td>\n",
       "      <td>3534</td>\n",
       "    </tr>\n",
       "    <tr>\n",
       "      <th>7</th>\n",
       "      <td>1380</td>\n",
       "      <td>xxxx</td>\n",
       "      <td>3080</td>\n",
       "    </tr>\n",
       "    <tr>\n",
       "      <th>8</th>\n",
       "      <td>1089</td>\n",
       "      <td>of</td>\n",
       "      <td>3043</td>\n",
       "    </tr>\n",
       "    <tr>\n",
       "      <th>9</th>\n",
       "      <td>1675</td>\n",
       "      <td>and</td>\n",
       "      <td>3029</td>\n",
       "    </tr>\n",
       "    <tr>\n",
       "      <th>10</th>\n",
       "      <td>1434</td>\n",
       "      <td>acute</td>\n",
       "      <td>2871</td>\n",
       "    </tr>\n",
       "    <tr>\n",
       "      <th>11</th>\n",
       "      <td>1853</td>\n",
       "      <td>or</td>\n",
       "      <td>2614</td>\n",
       "    </tr>\n",
       "    <tr>\n",
       "      <th>12</th>\n",
       "      <td>694</td>\n",
       "      <td>pleural</td>\n",
       "      <td>2613</td>\n",
       "    </tr>\n",
       "    <tr>\n",
       "      <th>13</th>\n",
       "      <td>405</td>\n",
       "      <td>pneumothorax</td>\n",
       "      <td>2407</td>\n",
       "    </tr>\n",
       "    <tr>\n",
       "      <th>14</th>\n",
       "      <td>367</td>\n",
       "      <td>there</td>\n",
       "      <td>2361</td>\n",
       "    </tr>\n",
       "    <tr>\n",
       "      <th>15</th>\n",
       "      <td>1649</td>\n",
       "      <td>effusion</td>\n",
       "      <td>2303</td>\n",
       "    </tr>\n",
       "    <tr>\n",
       "      <th>16</th>\n",
       "      <td>1336</td>\n",
       "      <td>heart</td>\n",
       "      <td>2150</td>\n",
       "    </tr>\n",
       "    <tr>\n",
       "      <th>17</th>\n",
       "      <td>1450</td>\n",
       "      <td>lungs</td>\n",
       "      <td>2093</td>\n",
       "    </tr>\n",
       "    <tr>\n",
       "      <th>18</th>\n",
       "      <td>483</td>\n",
       "      <td>size</td>\n",
       "      <td>1916</td>\n",
       "    </tr>\n",
       "    <tr>\n",
       "      <th>19</th>\n",
       "      <td>310</td>\n",
       "      <td>focal</td>\n",
       "      <td>1796</td>\n",
       "    </tr>\n",
       "    <tr>\n",
       "      <th>20</th>\n",
       "      <td>1693</td>\n",
       "      <td>clear</td>\n",
       "      <td>1609</td>\n",
       "    </tr>\n",
       "    <tr>\n",
       "      <th>21</th>\n",
       "      <td>1223</td>\n",
       "      <td>in</td>\n",
       "      <td>1561</td>\n",
       "    </tr>\n",
       "    <tr>\n",
       "      <th>22</th>\n",
       "      <td>1591</td>\n",
       "      <td>disease</td>\n",
       "      <td>1546</td>\n",
       "    </tr>\n",
       "    <tr>\n",
       "      <th>23</th>\n",
       "      <td>353</td>\n",
       "      <td>cardiopulmonary</td>\n",
       "      <td>1545</td>\n",
       "    </tr>\n",
       "    <tr>\n",
       "      <th>24</th>\n",
       "      <td>1214</td>\n",
       "      <td>pulmonary</td>\n",
       "      <td>1528</td>\n",
       "    </tr>\n",
       "    <tr>\n",
       "      <th>25</th>\n",
       "      <td>851</td>\n",
       "      <td>within</td>\n",
       "      <td>1522</td>\n",
       "    </tr>\n",
       "    <tr>\n",
       "      <th>26</th>\n",
       "      <td>1127</td>\n",
       "      <td>limits</td>\n",
       "      <td>1448</td>\n",
       "    </tr>\n",
       "    <tr>\n",
       "      <th>27</th>\n",
       "      <td>185</td>\n",
       "      <td>right</td>\n",
       "      <td>1282</td>\n",
       "    </tr>\n",
       "    <tr>\n",
       "      <th>28</th>\n",
       "      <td>348</td>\n",
       "      <td>left</td>\n",
       "      <td>1121</td>\n",
       "    </tr>\n",
       "    <tr>\n",
       "      <th>29</th>\n",
       "      <td>1082</td>\n",
       "      <td>abnormality</td>\n",
       "      <td>1106</td>\n",
       "    </tr>\n",
       "    <tr>\n",
       "      <th>...</th>\n",
       "      <td>...</td>\n",
       "      <td>...</td>\n",
       "      <td>...</td>\n",
       "    </tr>\n",
       "    <tr>\n",
       "      <th>1912</th>\n",
       "      <td>201</td>\n",
       "      <td>definitive</td>\n",
       "      <td>1</td>\n",
       "    </tr>\n",
       "    <tr>\n",
       "      <th>1913</th>\n",
       "      <td>1537</td>\n",
       "      <td>3.0</td>\n",
       "      <td>1</td>\n",
       "    </tr>\n",
       "    <tr>\n",
       "      <th>1914</th>\n",
       "      <td>1043</td>\n",
       "      <td>respect</td>\n",
       "      <td>1</td>\n",
       "    </tr>\n",
       "    <tr>\n",
       "      <th>1915</th>\n",
       "      <td>199</td>\n",
       "      <td>beyond</td>\n",
       "      <td>1</td>\n",
       "    </tr>\n",
       "    <tr>\n",
       "      <th>1916</th>\n",
       "      <td>1540</td>\n",
       "      <td>lytic</td>\n",
       "      <td>1</td>\n",
       "    </tr>\n",
       "    <tr>\n",
       "      <th>1917</th>\n",
       "      <td>1042</td>\n",
       "      <td>showed</td>\n",
       "      <td>1</td>\n",
       "    </tr>\n",
       "    <tr>\n",
       "      <th>1918</th>\n",
       "      <td>197</td>\n",
       "      <td>detailed</td>\n",
       "      <td>1</td>\n",
       "    </tr>\n",
       "    <tr>\n",
       "      <th>1919</th>\n",
       "      <td>492</td>\n",
       "      <td>primarily</td>\n",
       "      <td>1</td>\n",
       "    </tr>\n",
       "    <tr>\n",
       "      <th>1920</th>\n",
       "      <td>1545</td>\n",
       "      <td>representative</td>\n",
       "      <td>1</td>\n",
       "    </tr>\n",
       "    <tr>\n",
       "      <th>1921</th>\n",
       "      <td>493</td>\n",
       "      <td>l4</td>\n",
       "      <td>1</td>\n",
       "    </tr>\n",
       "    <tr>\n",
       "      <th>1922</th>\n",
       "      <td>495</td>\n",
       "      <td>reversal</td>\n",
       "      <td>1</td>\n",
       "    </tr>\n",
       "    <tr>\n",
       "      <th>1923</th>\n",
       "      <td>205</td>\n",
       "      <td>perforation</td>\n",
       "      <td>1</td>\n",
       "    </tr>\n",
       "    <tr>\n",
       "      <th>1924</th>\n",
       "      <td>207</td>\n",
       "      <td>sternoclavicular</td>\n",
       "      <td>1</td>\n",
       "    </tr>\n",
       "    <tr>\n",
       "      <th>1925</th>\n",
       "      <td>1051</td>\n",
       "      <td>unilateral</td>\n",
       "      <td>1</td>\n",
       "    </tr>\n",
       "    <tr>\n",
       "      <th>1926</th>\n",
       "      <td>1059</td>\n",
       "      <td>orif</td>\n",
       "      <td>1</td>\n",
       "    </tr>\n",
       "    <tr>\n",
       "      <th>1927</th>\n",
       "      <td>470</td>\n",
       "      <td>exchanged</td>\n",
       "      <td>1</td>\n",
       "    </tr>\n",
       "    <tr>\n",
       "      <th>1928</th>\n",
       "      <td>1070</td>\n",
       "      <td>tenting</td>\n",
       "      <td>1</td>\n",
       "    </tr>\n",
       "    <tr>\n",
       "      <th>1929</th>\n",
       "      <td>1511</td>\n",
       "      <td>clavicles</td>\n",
       "      <td>1</td>\n",
       "    </tr>\n",
       "    <tr>\n",
       "      <th>1930</th>\n",
       "      <td>1063</td>\n",
       "      <td>duct</td>\n",
       "      <td>1</td>\n",
       "    </tr>\n",
       "    <tr>\n",
       "      <th>1931</th>\n",
       "      <td>475</td>\n",
       "      <td>assessment</td>\n",
       "      <td>1</td>\n",
       "    </tr>\n",
       "    <tr>\n",
       "      <th>1932</th>\n",
       "      <td>1518</td>\n",
       "      <td>suggestions</td>\n",
       "      <td>1</td>\n",
       "    </tr>\n",
       "    <tr>\n",
       "      <th>1933</th>\n",
       "      <td>212</td>\n",
       "      <td>plates</td>\n",
       "      <td>1</td>\n",
       "    </tr>\n",
       "    <tr>\n",
       "      <th>1934</th>\n",
       "      <td>1528</td>\n",
       "      <td>inthe</td>\n",
       "      <td>1</td>\n",
       "    </tr>\n",
       "    <tr>\n",
       "      <th>1935</th>\n",
       "      <td>478</td>\n",
       "      <td>being</td>\n",
       "      <td>1</td>\n",
       "    </tr>\n",
       "    <tr>\n",
       "      <th>1936</th>\n",
       "      <td>210</td>\n",
       "      <td>shrapnel</td>\n",
       "      <td>1</td>\n",
       "    </tr>\n",
       "    <tr>\n",
       "      <th>1937</th>\n",
       "      <td>484</td>\n",
       "      <td>accentuates</td>\n",
       "      <td>1</td>\n",
       "    </tr>\n",
       "    <tr>\n",
       "      <th>1938</th>\n",
       "      <td>208</td>\n",
       "      <td>grafts</td>\n",
       "      <td>1</td>\n",
       "    </tr>\n",
       "    <tr>\n",
       "      <th>1939</th>\n",
       "      <td>1526</td>\n",
       "      <td>jewelry</td>\n",
       "      <td>1</td>\n",
       "    </tr>\n",
       "    <tr>\n",
       "      <th>1940</th>\n",
       "      <td>1527</td>\n",
       "      <td></td>\n",
       "      <td>1</td>\n",
       "    </tr>\n",
       "    <tr>\n",
       "      <th>1941</th>\n",
       "      <td>972</td>\n",
       "      <td>mentally</td>\n",
       "      <td>1</td>\n",
       "    </tr>\n",
       "  </tbody>\n",
       "</table>\n",
       "<p>1942 rows × 3 columns</p>\n",
       "</div>"
      ],
      "text/plain": [
       "      index             words  w_count\n",
       "0      1608                 .    21069\n",
       "1      1667                no     6824\n",
       "2      1855               the     6596\n",
       "3      1370                is     4367\n",
       "4       538               are     4312\n",
       "5       910            normal     3548\n",
       "6        99                 ,     3534\n",
       "7      1380              xxxx     3080\n",
       "8      1089                of     3043\n",
       "9      1675               and     3029\n",
       "10     1434             acute     2871\n",
       "11     1853                or     2614\n",
       "12      694           pleural     2613\n",
       "13      405      pneumothorax     2407\n",
       "14      367             there     2361\n",
       "15     1649          effusion     2303\n",
       "16     1336             heart     2150\n",
       "17     1450             lungs     2093\n",
       "18      483              size     1916\n",
       "19      310             focal     1796\n",
       "20     1693             clear     1609\n",
       "21     1223                in     1561\n",
       "22     1591           disease     1546\n",
       "23      353   cardiopulmonary     1545\n",
       "24     1214         pulmonary     1528\n",
       "25      851            within     1522\n",
       "26     1127            limits     1448\n",
       "27      185             right     1282\n",
       "28      348              left     1121\n",
       "29     1082       abnormality     1106\n",
       "...     ...               ...      ...\n",
       "1912    201        definitive        1\n",
       "1913   1537               3.0        1\n",
       "1914   1043           respect        1\n",
       "1915    199            beyond        1\n",
       "1916   1540             lytic        1\n",
       "1917   1042            showed        1\n",
       "1918    197          detailed        1\n",
       "1919    492         primarily        1\n",
       "1920   1545    representative        1\n",
       "1921    493                l4        1\n",
       "1922    495          reversal        1\n",
       "1923    205       perforation        1\n",
       "1924    207  sternoclavicular        1\n",
       "1925   1051        unilateral        1\n",
       "1926   1059              orif        1\n",
       "1927    470         exchanged        1\n",
       "1928   1070           tenting        1\n",
       "1929   1511         clavicles        1\n",
       "1930   1063              duct        1\n",
       "1931    475        assessment        1\n",
       "1932   1518       suggestions        1\n",
       "1933    212            plates        1\n",
       "1934   1528             inthe        1\n",
       "1935    478             being        1\n",
       "1936    210          shrapnel        1\n",
       "1937    484       accentuates        1\n",
       "1938    208            grafts        1\n",
       "1939   1526           jewelry        1\n",
       "1940   1527                          1\n",
       "1941    972          mentally        1\n",
       "\n",
       "[1942 rows x 3 columns]"
      ]
     },
     "metadata": {},
     "output_type": "display_data"
    },
    {
     "name": "stdout",
     "output_type": "stream",
     "text": [
      "1942 60\n"
     ]
    }
   ],
   "source": [
    "# word_count = {}\n",
    "# for word in vocab:\n",
    "#     if word not in word_count.keys():\n",
    "#         word_count[word]=1\n",
    "#     else:\n",
    "#         word_count[word]+=1\n",
    "# df_wcount = pd.DataFrame()\n",
    "# df_wcount['words']=word_count.keys()\n",
    "# df_wcount['w_count']=word_count.values()\n",
    "# df_wcount = df_wcount.sort_values(by='w_count',ascending=False).reset_index()\n",
    "# df_wcount['index']+=1\n",
    "\n",
    "# df_wcount.to_csv('../dataset/vocab_count.csv',index=False)\n",
    "df_wcount = pd.read_csv('../dataset/vocab_count.csv')\n",
    "\n",
    "display(df_wcount)\n",
    "vocab_size=df_wcount.shape[0]\n",
    "max_wlen = 60\n",
    "print(vocab_size,max_wlen)"
   ]
  },
  {
   "cell_type": "code",
   "execution_count": 19,
   "metadata": {
    "scrolled": true
   },
   "outputs": [
    {
     "name": "stdout",
     "output_type": "stream",
     "text": [
      "74 ['.', ',', '-', '..', \"'s\", ':', '(', ')', ' ', ';', '1.4', '>', '3.3', '1.9', '<', 'bilaterally.there', '1.2', '1.0', '2.1', 'p.m.', '1.7', '1.5', '3.5', '1.6', '3.7', '[', 't12-l1', '1.8', \"xxxx't\", '?', '2.0', '4.5', '2.2', '3.2', \"'re\", 'l1-l2', '4.6', 'xxxx.in', 'a.m.', 'l2-l3', '4.3', 'contour.unfolded', 'effusion.heart', '0.9', '5.9', '5.8', 'apex.there', '16.2', 'body(lateral', 'xxxx-', '2.no', '2.6', '1.severe', ']', '1.there', 'enlargement.prominence', '1.lucency', '6.0', '2.8', '1.3', '1.1', '3.chronic', 'limits.the', '2.5', 'limits.minimal', '4.8', 'normal.calcified', 'mediastinum.there', '7.0', '24.7', '3rd-5xxxx', '6.8', '3.0', '  ']\n"
     ]
    }
   ],
   "source": [
    "new_words= [word for word in df_wcount['words'].values if not word.isalnum()]\n",
    "print(len(new_words),new_words)"
   ]
  },
  {
   "cell_type": "code",
   "execution_count": 20,
   "metadata": {},
   "outputs": [],
   "source": [
    "w_to_co = df_wcount\n",
    "w_to_co.index = w_to_co.words\n",
    "w_to_co = w_to_co['index'].to_dict()\n",
    "# print(w_to_co)\n",
    "co_to_w = df_wcount\n",
    "co_to_w.index = co_to_w['index']\n",
    "co_to_w = co_to_w['words'].to_dict()\n",
    "# print(co_to_w)"
   ]
  },
  {
   "cell_type": "code",
   "execution_count": 21,
   "metadata": {
    "scrolled": true
   },
   "outputs": [
    {
     "data": {
      "text/plain": [
       "'mediport'"
      ]
     },
     "execution_count": 21,
     "metadata": {},
     "output_type": "execute_result"
    }
   ],
   "source": [
    "# df = pd.DataFrame(sorted(finding_len,reverse=True))\n",
    "# display(df.head(50))\n",
    "# df.plot(kind='hist',figsize=(6,6))\n",
    "co_to_w[13]"
   ]
  },
  {
   "cell_type": "code",
   "execution_count": 22,
   "metadata": {
    "scrolled": true
   },
   "outputs": [],
   "source": [
    "embedding_size = 300\n",
    "# embedding_matrix = np.zeros((vocab_size+1, embedding_size)) # last one : to cater to empty/-1\n",
    "# for word,idx in w_to_co.items():\n",
    "#     token = nlp(word)\n",
    "#     embedding_matrix[idx] = token.vector\n",
    "# embedding_matrix[vocab_size] = np.zeros(embedding_size)\n",
    "embedding_matrix = pd.read_pickle('../dataset/initial_emb_mat.p')\n",
    "embedding_matrix = embedding_matrix.values\n",
    "# print(embedding_matrix.shape)\n",
    "# df_emb = pd.DataFrame(embedding_matrix)\n",
    "# df_emb.to_pickle('../dataset/initial_emb_mat.p')"
   ]
  },
  {
   "cell_type": "code",
   "execution_count": null,
   "metadata": {
    "scrolled": true
   },
   "outputs": [],
   "source": []
  },
  {
   "cell_type": "markdown",
   "metadata": {},
   "source": [
    "# Parameters"
   ]
  },
  {
   "cell_type": "code",
   "execution_count": 23,
   "metadata": {},
   "outputs": [],
   "source": [
    "img_arch = 'vgg'\n",
    "text_arch = '1dcnn'\n",
    "model_name = '{0}_{1}_text_img_attention'.format(img_arch,text_arch)\n",
    "EPOCHS = 50\n",
    "lr = 0.0001\n",
    "img_dropout_rate=0.5\n",
    "text_dropout_rate=0.5\n",
    "elu_alpha = 1.0"
   ]
  },
  {
   "cell_type": "markdown",
   "metadata": {},
   "source": [
    "# Model Initialization"
   ]
  },
  {
   "cell_type": "code",
   "execution_count": 24,
   "metadata": {},
   "outputs": [],
   "source": [
    "def VGGNet():\n",
    "    image_input = Input(shape=(256,256,3),name='image_input')\n",
    "    # x = CoordinateChannel2D()(inp)\n",
    "    x = kl.Conv2D(filters=64, kernel_size=(3,3), activation='relu', padding='same', name='block1_conv1')(image_input)\n",
    "    x = kl.Conv2D(filters=64, kernel_size=(3,3), activation='relu', padding='same', name='block1_conv2')(x)\n",
    "    x = kl.Conv2D(filters=64, kernel_size=2, strides=2, activation='relu', padding='same', name='block1_reduction_conv')(x)\n",
    "    x = kl.BatchNormalization()(x)\n",
    "    x = kl.Dropout(img_dropout_rate)(x)\n",
    "\n",
    "    x = kl.Conv2D(filters=128, kernel_size=(3,3), activation='relu', padding='same', name='block2_conv1')(x)\n",
    "    x = kl.Conv2D(filters=128, kernel_size=(3,3), activation='relu', padding='same', name='block2_conv2')(x)\n",
    "    x = kl.Conv2D(filters=128, kernel_size=2, strides=2, activation='relu', padding='same', name='block2_reduction_conv')(x)\n",
    "    x = kl.BatchNormalization()(x)\n",
    "    x = kl.Dropout(img_dropout_rate)(x)\n",
    "\n",
    "    x = kl.Conv2D(filters=256, kernel_size=(3,3), activation='relu', padding='same', name='block3_conv1')(x)\n",
    "    x = kl.Conv2D(filters=256, kernel_size=(3,3), activation='relu', padding='same', name='block3_conv2')(x)\n",
    "    x = kl.Conv2D(filters=256, kernel_size=(3,3), activation='relu', padding='same', name='block3_conv3')(x)\n",
    "    x = kl.Conv2D(filters=256, kernel_size=2, strides=2, activation='relu', padding='same', name='block3_reduction_conv')(x)\n",
    "    x = kl.BatchNormalization()(x)\n",
    "    x = kl.Dropout(img_dropout_rate)(x)\n",
    "\n",
    "    x = kl.Conv2D(filters=512, kernel_size=(3,3), activation='relu', padding='same', name='block4_conv1')(x)\n",
    "    x = kl.Conv2D(filters=512, kernel_size=(3,3), activation='relu', padding='same', name='block4_conv2')(x)\n",
    "    x = kl.Conv2D(filters=512, kernel_size=(3,3), activation='relu', padding='same', name='block4_conv3')(x)\n",
    "    # x = CoordinateChannel2D(use_radius=True)(x)\n",
    "#     x, samap, g = SelfAttention(ch=512, name='self_attention')(x)\n",
    "    x = kl.Conv2D(filters=512, kernel_size=2, strides=2, activation='relu', padding='same', name='block4_reduction_conv')(x)\n",
    "    x = kl.BatchNormalization()(x)\n",
    "    x = kl.Dropout(img_dropout_rate)(x)\n",
    "\n",
    "    x = kl.Conv2D(filters=512, kernel_size=(3,3), activation='relu', padding='same', name='block5_conv1')(x)\n",
    "    x = kl.Conv2D(filters=512, kernel_size=(3,3), activation='relu', padding='same', name='block5_conv2')(x)\n",
    "    x = kl.Conv2D(filters=512, kernel_size=(3,3), activation='relu', padding='same', name='block5_conv3')(x)\n",
    "#     x, amaps = SoftAttention(ch=512, m=32, name='soft_attention')(x)\n",
    "    x = kl.Conv2D(filters=512, kernel_size=2, strides=2, activation='relu', padding='same', name='block5_reduction_conv')(x)\n",
    "    return Model(image_input,x,name='imgModel')\n",
    "# def DenseNet():\n",
    "#     qw = Input(shape=(256,256,3),name='image_input')\n",
    "#     qw_1 = kl.Conv2D(strides=1,padding='valid',activation='relu',filters=64,name='conv',kernel_size=3)(qw)\n",
    "\n",
    "#     qw_1 = densenet.densenet.conv_block(x=qw_1,growth_rate=64,name='conv_1',)\n",
    "\n",
    "#     qw_2 = densenet.densenet.dense_block(qw_1,blocks=1,name='block_1')\n",
    "#     qw_2 = kl.BatchNormalization()(qw_2)\n",
    "#     qw_2 = kl.Activation('relu')(qw_2)\n",
    "#     qw_2 = kl.Conv2D(filters=64, kernel_size=2, strides=2, activation='relu', padding='same', name='block1_reduction_conv')(qw_2)\n",
    "#     qw_2 = kl.Dropout(0.5)(qw_2)\n",
    "\n",
    "#     qw_2 = densenet.densenet.dense_block(qw_2,blocks=1,name='block_2')\n",
    "#     qw_2 = kl.BatchNormalization()(qw_2)\n",
    "#     qw_2 = kl.Activation('relu')(qw_2)\n",
    "#     # qw_2 = kl.MaxPool2D(pool_size=2)(qw_2)\n",
    "#     qw_2 = kl.Conv2D(filters=128, kernel_size=2, strides=2, activation='relu', padding='same', name='block2_reduction_conv')(qw_2)\n",
    "#     qw_2 = kl.Dropout(0.5)(qw_2)\n",
    "\n",
    "#     qw_2 = densenet.densenet.dense_block(qw_2,blocks=1,name='block_3')\n",
    "#     qw_2 = kl.BatchNormalization()(qw_2)\n",
    "#     qw_2 = kl.Activation('relu')(qw_2)\n",
    "#     # qw_2 = kl.MaxPool2D(pool_size=2)(qw_2)\n",
    "#     qw_2 = kl.Conv2D(filters=256, kernel_size=2, strides=2, activation='relu', padding='same', name='block3_reduction_conv')(qw_2)\n",
    "#     qw_2 = kl.Dropout(0.5)(qw_2)\n",
    "\n",
    "#     qw_2 = densenet.densenet.dense_block(qw_2,blocks=1,name='block_4')\n",
    "#     qw_2 = kl.BatchNormalization()(qw_2)\n",
    "#     qw_2 = kl.Activation('relu')(qw_2)\n",
    "#     # qw_2 = kl.MaxPool2D(pool_size=2)(qw_2)\n",
    "#     qw_2 = kl.Conv2D(filters=512, kernel_size=2, strides=2, activation='relu', padding='same', name='block4_reduction_conv')(qw_2)\n",
    "#     qw_2 = kl.Dropout(0.5)(qw_2)\n",
    "\n",
    "#     qw_2 = densenet.densenet.dense_block(qw_2,blocks=1,name='block_5')\n",
    "#     qw_2 = kl.BatchNormalization()(qw_2)\n",
    "#     qw_2 = kl.Activation('relu')(qw_2)\n",
    "#     # qw_2 = kl.MaxPool2D(pool_size=2)(qw_2)\n",
    "#     qw_2 = kl.Conv2D(filters=1024, kernel_size=2, strides=2, activation='relu', padding='same', name='block5_reduction_conv')(qw_2)\n",
    "#     # qw_2 = kl.Dropout(0.5)(qw_2)\n",
    "#     qw_2 = kl.BatchNormalization()(qw_2)\n",
    "#     qw_2 = kl.Activation('relu')(qw_2)\n",
    "\n",
    "#     return Model(qw,qw_2, name='imgModel')"
   ]
  },
  {
   "cell_type": "code",
   "execution_count": 25,
   "metadata": {
    "scrolled": true
   },
   "outputs": [
    {
     "name": "stdout",
     "output_type": "stream",
     "text": [
      "_________________________________________________________________\n",
      "Layer (type)                 Output Shape              Param #   \n",
      "=================================================================\n",
      "image_input (InputLayer)     (None, 256, 256, 3)       0         \n",
      "_________________________________________________________________\n",
      "block1_conv1 (Conv2D)        (None, 256, 256, 64)      1792      \n",
      "_________________________________________________________________\n",
      "block1_conv2 (Conv2D)        (None, 256, 256, 64)      36928     \n",
      "_________________________________________________________________\n",
      "block1_reduction_conv (Conv2 (None, 128, 128, 64)      16448     \n",
      "_________________________________________________________________\n",
      "batch_normalization_1 (Batch (None, 128, 128, 64)      256       \n",
      "_________________________________________________________________\n",
      "dropout_1 (Dropout)          (None, 128, 128, 64)      0         \n",
      "_________________________________________________________________\n",
      "block2_conv1 (Conv2D)        (None, 128, 128, 128)     73856     \n",
      "_________________________________________________________________\n",
      "block2_conv2 (Conv2D)        (None, 128, 128, 128)     147584    \n",
      "_________________________________________________________________\n",
      "block2_reduction_conv (Conv2 (None, 64, 64, 128)       65664     \n",
      "_________________________________________________________________\n",
      "batch_normalization_2 (Batch (None, 64, 64, 128)       512       \n",
      "_________________________________________________________________\n",
      "dropout_2 (Dropout)          (None, 64, 64, 128)       0         \n",
      "_________________________________________________________________\n",
      "block3_conv1 (Conv2D)        (None, 64, 64, 256)       295168    \n",
      "_________________________________________________________________\n",
      "block3_conv2 (Conv2D)        (None, 64, 64, 256)       590080    \n",
      "_________________________________________________________________\n",
      "block3_conv3 (Conv2D)        (None, 64, 64, 256)       590080    \n",
      "_________________________________________________________________\n",
      "block3_reduction_conv (Conv2 (None, 32, 32, 256)       262400    \n",
      "_________________________________________________________________\n",
      "batch_normalization_3 (Batch (None, 32, 32, 256)       1024      \n",
      "_________________________________________________________________\n",
      "dropout_3 (Dropout)          (None, 32, 32, 256)       0         \n",
      "_________________________________________________________________\n",
      "block4_conv1 (Conv2D)        (None, 32, 32, 512)       1180160   \n",
      "_________________________________________________________________\n",
      "block4_conv2 (Conv2D)        (None, 32, 32, 512)       2359808   \n",
      "_________________________________________________________________\n",
      "block4_conv3 (Conv2D)        (None, 32, 32, 512)       2359808   \n",
      "_________________________________________________________________\n",
      "block4_reduction_conv (Conv2 (None, 16, 16, 512)       1049088   \n",
      "_________________________________________________________________\n",
      "batch_normalization_4 (Batch (None, 16, 16, 512)       2048      \n",
      "_________________________________________________________________\n",
      "dropout_4 (Dropout)          (None, 16, 16, 512)       0         \n",
      "_________________________________________________________________\n",
      "block5_conv1 (Conv2D)        (None, 16, 16, 512)       2359808   \n",
      "_________________________________________________________________\n",
      "block5_conv2 (Conv2D)        (None, 16, 16, 512)       2359808   \n",
      "_________________________________________________________________\n",
      "block5_conv3 (Conv2D)        (None, 16, 16, 512)       2359808   \n",
      "_________________________________________________________________\n",
      "block5_reduction_conv (Conv2 (None, 8, 8, 512)         1049088   \n",
      "=================================================================\n",
      "Total params: 17,161,216\n",
      "Trainable params: 17,159,296\n",
      "Non-trainable params: 1,920\n",
      "_________________________________________________________________\n"
     ]
    }
   ],
   "source": [
    "if img_arch=='vgg':\n",
    "    imgNet = VGGNet()\n",
    "elif img_arch == 'densenet121':\n",
    "    imgNet = DenseNet121(include_top=False,input_shape=(256,256,3))\n",
    "    imgNet.trainable = True\n",
    "elif img_arch == 'densenet':\n",
    "    imgNet = DenseNet()\n",
    "elif img_arch == 'irv2':\n",
    "    imgNet =InceptionResNetV2(include_top=False,input_shape=(256,256,3))\n",
    "    imgNet.trainable = True\n",
    "if os.path.exists('../checkpoints/{0}_{1}_attention_img_module.h5'.format(img_arch,text_arch)):\n",
    "    print('loading existing image weights..')\n",
    "    imgNet.load_weights('../checkpoints/{0}_{1}_attention_img_module.h5'.format(img_arch,text_arch))\n",
    "imgNet.summary()"
   ]
  },
  {
   "cell_type": "code",
   "execution_count": null,
   "metadata": {},
   "outputs": [],
   "source": []
  },
  {
   "cell_type": "code",
   "execution_count": 121,
   "metadata": {},
   "outputs": [],
   "source": [
    "bottleneck_units = 512\n",
    "def getTextNet():\n",
    "    words_input = kl.Input(shape=(max_wlen,),name='words_input')\n",
    "#     padding_masks = kl.Input(shape=(max_wlen,1),name='padding_masks')\n",
    "    x = kl.Embedding(vocab_size+1, embedding_size, mask_zero=False, name='w2v_emb')(words_input)\n",
    "#     xk3 = kl.Conv1D(filters=324,kernel_size=3,strides=1,padding='same')(x)\n",
    "#     xk3 = kl.ELU(alpha=elu_alpha)(xk3)\n",
    "#     xk3 = kl.Conv1D(filters=324,kernel_size=3,strides=1,padding='same')(xk3)\n",
    "#     xk3 = kl.BatchNormalization()(xk3)\n",
    "    \n",
    "#     xk5 = kl.Conv1D(filters=324,kernel_size=5,strides=1,padding='same')(x)\n",
    "#     xk5 = kl.ELU(alpha=elu_alpha)(xk5)\n",
    "#     xk5 = kl.Conv1D(filters=324,kernel_size=5,strides=1,padding='same')(xk5)\n",
    "#     xk5 = kl.BatchNormalization()(xk5)\n",
    "    \n",
    "#     xk7 = kl.Conv1D(filters=324,kernel_size=7,strides=1,padding='same')(x)\n",
    "#     xk7 = kl.ELU(alpha=elu_alpha)(xk7)\n",
    "#     xk7 = kl.Conv1D(filters=324,kernel_size=7,strides=1,padding='same')(xk7)\n",
    "#     xk7 = kl.BatchNormalization()(xk7)\n",
    "    \n",
    "#     xk3d2 = kl.Conv1D(filters=324,kernel_size=3,strides=1,dilation_rate=2, padding='same')(x)\n",
    "#     xk3d2 = kl.ELU(alpha=elu_alpha)(xk3d2)\n",
    "#     xk3d2 = kl.Conv1D(filters=324,kernel_size=3,strides=1,dilation_rate=2, padding='same')(xk3d2)\n",
    "#     xk3d2 = kl.BatchNormalization()(xk3d2)\n",
    "    \n",
    "#     xk5d2 = kl.Conv1D(filters=324,kernel_size=5,strides=1,dilation_rate=2, padding='same')(x)\n",
    "#     xk5d2 = kl.ELU(alpha=elu_alpha)(xk5d2)\n",
    "#     xk5d2 = kl.Conv1D(filters=324,kernel_size=5,strides=1,dilation_rate=2, padding='same')(xk5d2)\n",
    "#     xk5d2 = kl.BatchNormalization()(xk5d2)\n",
    "    \n",
    "#     xk7d2 = kl.Conv1D(filters=324,kernel_size=7,strides=1,dilation_rate=2, padding='same')(x)\n",
    "#     xk7d2 = kl.ELU(alpha=elu_alpha)(xk7d2)\n",
    "#     xk7d2 = kl.Conv1D(filters=324,kernel_size=7,strides=1,dilation_rate=2, padding='same')(xk7d2)\n",
    "#     xk7d2 = kl.BatchNormalization()(xk7d2)\n",
    "    \n",
    "#     x2 = kl.Concatenate()([xk3,xk5,xk7,xk3d2,xk5d2,xk7d2])\n",
    "# #     x2 = kl.BatchNormalization()(x2)\n",
    "# #     x2 = kl.ELU(alpha=elu_alpha)(x2)\n",
    "#     x2 = kl.Conv1D(filters=bottleneck_units,kernel_size=1,strides=1,padding='same')(x2)\n",
    "#     x2 = kl.ELU(alpha=elu_alpha)(x2)\n",
    "#     x2 = kl.Conv1D(filters=bottleneck_units,kernel_size=1,strides=1,padding='same')(x2)\n",
    "#     x2 = kl.BatchNormalization()(x2)\n",
    "    \n",
    "#     # print('x2.shape:',x2.shape)\n",
    "#     x2 = kl.Dropout(text_dropout_rate)(x2)\n",
    "    \n",
    "#     #sa1\n",
    "#     sa_out_x2_1,s_x2_1 = AM.SelfAttention(ch=int(x2.shape[-1]),name='sa_2_1')([x2,padding_masks])\n",
    "#     sa_out_x2_2,s_x2_2 = AM.SelfAttention(ch=int(x2.shape[-1]),name='sa_2_2')([x2,padding_masks])\n",
    "#     sa_out_x2_3,s_x2_3 = AM.SelfAttention(ch=int(x2.shape[-1]),name='sa_2_3')([x2,padding_masks])\n",
    "#     sa_out_x2_4,s_x2_4 = AM.SelfAttention(ch=int(x2.shape[-1]),name='sa_2_4')([x2,padding_masks])\n",
    "# #     print(sa_out_x2_4)\n",
    "#     x3 = kl.Concatenate(name='concat_sa_2')([sa_out_x2_1,sa_out_x2_2,sa_out_x2_3,sa_out_x2_4])\n",
    "#     # x3 = kl.ELU(alpha=elu_alpha,name='act_concat_sa_2')(x3)\n",
    "#     x3condense = AM.CondenseAttention1D(ch_in=int(x3.shape[-1]),ch_out=bottleneck_units)(x3)\n",
    "#     x3comb, x3g1, x3g2 = AM.ResidualCombine()([x2, x3condense])\n",
    "#     x3comb = kl.ELU(alpha=elu_alpha)(x3comb)\n",
    "#     x3comb = kl.Conv1D(filters=bottleneck_units,kernel_size=1,strides=1,padding='same')(x3comb)\n",
    "#     x3comb = kl.BatchNormalization()(x3comb)\n",
    "    \n",
    "#     x3comb = kl.Dropout(text_dropout_rate)(x3comb)\n",
    "    \n",
    "#     #sa2\n",
    "#     sa_out_x3_1,s_x3_1 = AM.SelfAttention(ch=int(x3comb.shape[-1]),name='sa_3_1')([x3comb,padding_masks])\n",
    "#     sa_out_x3_2,s_x3_2 = AM.SelfAttention(ch=int(x3comb.shape[-1]),name='sa_3_2')([x3comb,padding_masks])\n",
    "#     sa_out_x3_3,s_x3_3 = AM.SelfAttention(ch=int(x3comb.shape[-1]),name='sa_3_3')([x3comb,padding_masks])\n",
    "#     sa_out_x3_4,s_x3_4 = AM.SelfAttention(ch=int(x3comb.shape[-1]),name='sa_3_4')([x3comb,padding_masks])\n",
    "#     x4 = kl.Concatenate(name='concat_sa_3')([sa_out_x3_1,sa_out_x3_2,sa_out_x3_3,sa_out_x3_4])\n",
    "#     x4condense = AM.CondenseAttention1D(ch_in=int(x4.shape[-1]),ch_out=bottleneck_units)(x4)\n",
    "#     x4comb, x4g1, x4g2 = AM.ResidualCombine()([x3comb, x4condense])\n",
    "#     x4comb = kl.ELU(alpha=elu_alpha)(x4comb)\n",
    "#     x4comb = kl.Conv1D(filters=bottleneck_units,kernel_size=1,strides=1,padding='same')(x4comb)\n",
    "#     x4comb = kl.BatchNormalization()(x4comb)\n",
    "#     # x4comb = kl.Dropout(dropout_rate)(x4comb)\n",
    "    \n",
    "#     sa_out_x4_1,s_x4_1 = AM.SelfAttention(ch=int(x4comb.shape[-1]),name='sa_4_1')([x4comb,padding_masks])\n",
    "#     sa_out_x4_2,s_x4_2 = AM.SelfAttention(ch=int(x4comb.shape[-1]),name='sa_4_2')([x4comb,padding_masks])\n",
    "#     sa_out_x4_3,s_x4_3 = AM.SelfAttention(ch=int(x4comb.shape[-1]),name='sa_4_3')([x4comb,padding_masks])\n",
    "#     sa_out_x4_4,s_x4_4 = AM.SelfAttention(ch=int(x4comb.shape[-1]),name='sa_4_4')([x4comb,padding_masks])\n",
    "#     x5 = kl.Concatenate(name='concat_sa_4')([sa_out_x4_1,sa_out_x4_2,sa_out_x4_3,sa_out_x4_4])\n",
    "#     x5condense = AM.CondenseAttention1D(ch_in=int(x5.shape[-1]),ch_out=bottleneck_units)(x5)\n",
    "#     x5comb, x5g1, x5g2 = AM.ResidualCombine()([x4comb, x5condense])\n",
    "#     x5comb = kl.ELU(alpha=elu_alpha)(x5comb)\n",
    "#     x5comb = kl.Conv1D(filters=bottleneck_units,kernel_size=1,strides=1,padding='same')(x5comb)\n",
    "#     x5comb = kl.BatchNormalization()(x5comb)\n",
    "    output = kl.LSTM(512,activation='relu',return_sequences=True, dropout=text_dropout_rate)(x)\n",
    "    output = kl.LSTM(512,activation='relu',return_sequences=True, dropout=text_dropout_rate)(output)\n",
    "    \n",
    "    \n",
    "    return Model([words_input],output,name='textModel')"
   ]
  },
  {
   "cell_type": "code",
   "execution_count": 122,
   "metadata": {},
   "outputs": [],
   "source": [
    "textNet = None"
   ]
  },
  {
   "cell_type": "code",
   "execution_count": 123,
   "metadata": {
    "scrolled": true
   },
   "outputs": [
    {
     "name": "stdout",
     "output_type": "stream",
     "text": [
      "_________________________________________________________________\n",
      "Layer (type)                 Output Shape              Param #   \n",
      "=================================================================\n",
      "words_input (InputLayer)     (None, 60)                0         \n",
      "_________________________________________________________________\n",
      "w2v_emb (Embedding)          (None, 60, 300)           582900    \n",
      "_________________________________________________________________\n",
      "lstm_6 (LSTM)                (None, 60, 512)           1665024   \n",
      "_________________________________________________________________\n",
      "lstm_7 (LSTM)                (None, 60, 512)           2099200   \n",
      "=================================================================\n",
      "Total params: 4,347,124\n",
      "Trainable params: 4,347,124\n",
      "Non-trainable params: 0\n",
      "_________________________________________________________________\n"
     ]
    }
   ],
   "source": [
    "textNet = getTextNet()\n",
    "textNet.summary()"
   ]
  },
  {
   "cell_type": "code",
   "execution_count": 124,
   "metadata": {
    "scrolled": true
   },
   "outputs": [
    {
     "data": {
      "image/svg+xml": [
       "<svg height=\"304pt\" viewBox=\"0.00 0.00 308.00 304.00\" width=\"308pt\" xmlns=\"http://www.w3.org/2000/svg\" xmlns:xlink=\"http://www.w3.org/1999/xlink\">\n",
       "<g class=\"graph\" id=\"graph0\" transform=\"scale(1 1) rotate(0) translate(4 300)\">\n",
       "<title>G</title>\n",
       "<polygon fill=\"#ffffff\" points=\"-4,4 -4,-300 304,-300 304,4 -4,4\" stroke=\"transparent\"/>\n",
       "<!-- 140524909750424 -->\n",
       "<g class=\"node\" id=\"node1\">\n",
       "<title>140524909750424</title>\n",
       "<polygon fill=\"none\" points=\"8.5,-249.5 8.5,-295.5 291.5,-295.5 291.5,-249.5 8.5,-249.5\" stroke=\"#000000\"/>\n",
       "<text fill=\"#000000\" font-family=\"Times,serif\" font-size=\"14.00\" text-anchor=\"middle\" x=\"84.5\" y=\"-268.8\">words_input: InputLayer</text>\n",
       "<polyline fill=\"none\" points=\"160.5,-249.5 160.5,-295.5 \" stroke=\"#000000\"/>\n",
       "<text fill=\"#000000\" font-family=\"Times,serif\" font-size=\"14.00\" text-anchor=\"middle\" x=\"188\" y=\"-280.3\">input:</text>\n",
       "<polyline fill=\"none\" points=\"160.5,-272.5 215.5,-272.5 \" stroke=\"#000000\"/>\n",
       "<text fill=\"#000000\" font-family=\"Times,serif\" font-size=\"14.00\" text-anchor=\"middle\" x=\"188\" y=\"-257.3\">output:</text>\n",
       "<polyline fill=\"none\" points=\"215.5,-249.5 215.5,-295.5 \" stroke=\"#000000\"/>\n",
       "<text fill=\"#000000\" font-family=\"Times,serif\" font-size=\"14.00\" text-anchor=\"middle\" x=\"253.5\" y=\"-280.3\">(None, 60)</text>\n",
       "<polyline fill=\"none\" points=\"215.5,-272.5 291.5,-272.5 \" stroke=\"#000000\"/>\n",
       "<text fill=\"#000000\" font-family=\"Times,serif\" font-size=\"14.00\" text-anchor=\"middle\" x=\"253.5\" y=\"-257.3\">(None, 60)</text>\n",
       "</g>\n",
       "<!-- 140524905468480 -->\n",
       "<g class=\"node\" id=\"node2\">\n",
       "<title>140524905468480</title>\n",
       "<polygon fill=\"none\" points=\"0,-166.5 0,-212.5 300,-212.5 300,-166.5 0,-166.5\" stroke=\"#000000\"/>\n",
       "<text fill=\"#000000\" font-family=\"Times,serif\" font-size=\"14.00\" text-anchor=\"middle\" x=\"70.5\" y=\"-185.8\">w2v_emb: Embedding</text>\n",
       "<polyline fill=\"none\" points=\"141,-166.5 141,-212.5 \" stroke=\"#000000\"/>\n",
       "<text fill=\"#000000\" font-family=\"Times,serif\" font-size=\"14.00\" text-anchor=\"middle\" x=\"168.5\" y=\"-197.3\">input:</text>\n",
       "<polyline fill=\"none\" points=\"141,-189.5 196,-189.5 \" stroke=\"#000000\"/>\n",
       "<text fill=\"#000000\" font-family=\"Times,serif\" font-size=\"14.00\" text-anchor=\"middle\" x=\"168.5\" y=\"-174.3\">output:</text>\n",
       "<polyline fill=\"none\" points=\"196,-166.5 196,-212.5 \" stroke=\"#000000\"/>\n",
       "<text fill=\"#000000\" font-family=\"Times,serif\" font-size=\"14.00\" text-anchor=\"middle\" x=\"248\" y=\"-197.3\">(None, 60)</text>\n",
       "<polyline fill=\"none\" points=\"196,-189.5 300,-189.5 \" stroke=\"#000000\"/>\n",
       "<text fill=\"#000000\" font-family=\"Times,serif\" font-size=\"14.00\" text-anchor=\"middle\" x=\"248\" y=\"-174.3\">(None, 60, 300)</text>\n",
       "</g>\n",
       "<!-- 140524909750424&#45;&gt;140524905468480 -->\n",
       "<g class=\"edge\" id=\"edge1\">\n",
       "<title>140524909750424-&gt;140524905468480</title>\n",
       "<path d=\"M150,-249.3799C150,-241.1745 150,-231.7679 150,-222.8786\" fill=\"none\" stroke=\"#000000\"/>\n",
       "<polygon fill=\"#000000\" points=\"153.5001,-222.784 150,-212.784 146.5001,-222.784 153.5001,-222.784\" stroke=\"#000000\"/>\n",
       "</g>\n",
       "<!-- 140524909720072 -->\n",
       "<g class=\"node\" id=\"node3\">\n",
       "<title>140524909720072</title>\n",
       "<polygon fill=\"none\" points=\"21.5,-83.5 21.5,-129.5 278.5,-129.5 278.5,-83.5 21.5,-83.5\" stroke=\"#000000\"/>\n",
       "<text fill=\"#000000\" font-family=\"Times,serif\" font-size=\"14.00\" text-anchor=\"middle\" x=\"70.5\" y=\"-102.8\">lstm_6: LSTM</text>\n",
       "<polyline fill=\"none\" points=\"119.5,-83.5 119.5,-129.5 \" stroke=\"#000000\"/>\n",
       "<text fill=\"#000000\" font-family=\"Times,serif\" font-size=\"14.00\" text-anchor=\"middle\" x=\"147\" y=\"-114.3\">input:</text>\n",
       "<polyline fill=\"none\" points=\"119.5,-106.5 174.5,-106.5 \" stroke=\"#000000\"/>\n",
       "<text fill=\"#000000\" font-family=\"Times,serif\" font-size=\"14.00\" text-anchor=\"middle\" x=\"147\" y=\"-91.3\">output:</text>\n",
       "<polyline fill=\"none\" points=\"174.5,-83.5 174.5,-129.5 \" stroke=\"#000000\"/>\n",
       "<text fill=\"#000000\" font-family=\"Times,serif\" font-size=\"14.00\" text-anchor=\"middle\" x=\"226.5\" y=\"-114.3\">(None, 60, 300)</text>\n",
       "<polyline fill=\"none\" points=\"174.5,-106.5 278.5,-106.5 \" stroke=\"#000000\"/>\n",
       "<text fill=\"#000000\" font-family=\"Times,serif\" font-size=\"14.00\" text-anchor=\"middle\" x=\"226.5\" y=\"-91.3\">(None, 60, 512)</text>\n",
       "</g>\n",
       "<!-- 140524905468480&#45;&gt;140524909720072 -->\n",
       "<g class=\"edge\" id=\"edge2\">\n",
       "<title>140524905468480-&gt;140524909720072</title>\n",
       "<path d=\"M150,-166.3799C150,-158.1745 150,-148.7679 150,-139.8786\" fill=\"none\" stroke=\"#000000\"/>\n",
       "<polygon fill=\"#000000\" points=\"153.5001,-139.784 150,-129.784 146.5001,-139.784 153.5001,-139.784\" stroke=\"#000000\"/>\n",
       "</g>\n",
       "<!-- 140524909751264 -->\n",
       "<g class=\"node\" id=\"node4\">\n",
       "<title>140524909751264</title>\n",
       "<polygon fill=\"none\" points=\"21.5,-.5 21.5,-46.5 278.5,-46.5 278.5,-.5 21.5,-.5\" stroke=\"#000000\"/>\n",
       "<text fill=\"#000000\" font-family=\"Times,serif\" font-size=\"14.00\" text-anchor=\"middle\" x=\"70.5\" y=\"-19.8\">lstm_7: LSTM</text>\n",
       "<polyline fill=\"none\" points=\"119.5,-.5 119.5,-46.5 \" stroke=\"#000000\"/>\n",
       "<text fill=\"#000000\" font-family=\"Times,serif\" font-size=\"14.00\" text-anchor=\"middle\" x=\"147\" y=\"-31.3\">input:</text>\n",
       "<polyline fill=\"none\" points=\"119.5,-23.5 174.5,-23.5 \" stroke=\"#000000\"/>\n",
       "<text fill=\"#000000\" font-family=\"Times,serif\" font-size=\"14.00\" text-anchor=\"middle\" x=\"147\" y=\"-8.3\">output:</text>\n",
       "<polyline fill=\"none\" points=\"174.5,-.5 174.5,-46.5 \" stroke=\"#000000\"/>\n",
       "<text fill=\"#000000\" font-family=\"Times,serif\" font-size=\"14.00\" text-anchor=\"middle\" x=\"226.5\" y=\"-31.3\">(None, 60, 512)</text>\n",
       "<polyline fill=\"none\" points=\"174.5,-23.5 278.5,-23.5 \" stroke=\"#000000\"/>\n",
       "<text fill=\"#000000\" font-family=\"Times,serif\" font-size=\"14.00\" text-anchor=\"middle\" x=\"226.5\" y=\"-8.3\">(None, 60, 512)</text>\n",
       "</g>\n",
       "<!-- 140524909720072&#45;&gt;140524909751264 -->\n",
       "<g class=\"edge\" id=\"edge3\">\n",
       "<title>140524909720072-&gt;140524909751264</title>\n",
       "<path d=\"M150,-83.3799C150,-75.1745 150,-65.7679 150,-56.8786\" fill=\"none\" stroke=\"#000000\"/>\n",
       "<polygon fill=\"#000000\" points=\"153.5001,-56.784 150,-46.784 146.5001,-56.784 153.5001,-56.784\" stroke=\"#000000\"/>\n",
       "</g>\n",
       "</g>\n",
       "</svg>"
      ],
      "text/plain": [
       "<IPython.core.display.SVG object>"
      ]
     },
     "execution_count": 124,
     "metadata": {},
     "output_type": "execute_result"
    }
   ],
   "source": [
    "SVG(model_to_dot(textNet, show_layer_names=True, show_shapes=True).create(prog='dot', format='svg'))"
   ]
  },
  {
   "cell_type": "code",
   "execution_count": null,
   "metadata": {},
   "outputs": [],
   "source": []
  },
  {
   "cell_type": "markdown",
   "metadata": {},
   "source": [
    "# Define Complete Joint Network"
   ]
  },
  {
   "cell_type": "code",
   "execution_count": 125,
   "metadata": {
    "scrolled": true
   },
   "outputs": [
    {
     "name": "stdout",
     "output_type": "stream",
     "text": [
      "(?, 8, 8, 512)\n",
      "(?, ?, 512)\n"
     ]
    }
   ],
   "source": [
    "dropout_rate = 0.75\n",
    "image_input = kl.Input(shape=(256,256,3),name='image_input')\n",
    "image_features = imgNet(image_input)\n",
    "image_features = kl.Dropout(dropout_rate)(image_features)\n",
    "\n",
    "# padding_masks = kl.Input(shape=(max_wlen,1),name='padding_masks')\n",
    "words_input = kl.Input(shape=(max_wlen,),name='words_input')\n",
    "text_features = textNet([words_input])\n",
    "# text_features = kl.Dropout(dropout_rate)(text_features)\n",
    "print(image_features.shape)\n",
    "print(text_features.shape)"
   ]
  },
  {
   "cell_type": "code",
   "execution_count": null,
   "metadata": {},
   "outputs": [],
   "source": []
  },
  {
   "cell_type": "code",
   "execution_count": 127,
   "metadata": {},
   "outputs": [],
   "source": [
    "# a_out_im_1,beta_im_1 = AM.Img2TextCA(text_ch=int(text_features.shape[-1]),img_ch=int(image_features.shape[-1]),name='img2text_1')([image_features,text_features,padding_masks])\n",
    "# # a_out_im_1 = kl.BatchNormalization()(a_out_im_1)\n",
    "# # a_out_im_1 = kl.ELU(alpha=elu_alpha)(a_out_im_1)\n",
    "# a_out_im_2,beta_im_2 = AM.Img2TextCA(text_ch=int(text_features.shape[-1]),img_ch=int(image_features.shape[-1]),name='img2text_2')([image_features,text_features,padding_masks])\n",
    "# # a_out_im_2 = kl.BatchNormalization()(a_out_im_2)\n",
    "# # a_out_im_2 = kl.ELU(alpha=elu_alpha)(a_out_im_2)\n",
    "# a_out_im_3,beta_im_3 = AM.Img2TextCA(text_ch=int(text_features.shape[-1]),img_ch=int(image_features.shape[-1]),name='img2text_3')([image_features,text_features,padding_masks])\n",
    "# # a_out_im_3 = kl.BatchNormalization()(a_out_im_3)\n",
    "# # a_out_im_3 = kl.ELU(alpha=elu_alpha)(a_out_im_3)\n",
    "# a_out_im_4,beta_im_4 = AM.Img2TextCA(text_ch=int(text_features.shape[-1]),img_ch=int(image_features.shape[-1]),name='img2text_4')([image_features,text_features,padding_masks])\n",
    "# # a_out_im_4 = kl.BatchNormalization()(a_out_im_4)\n",
    "# # a_out_im_4 = kl.ELU(alpha=elu_alpha)(a_out_im_4)\n",
    "# a_conc_images = kl.Concatenate(name='img2text_concat')([a_out_im_1,a_out_im_2,a_out_im_3,a_out_im_4])\n",
    "# # a_conc_im_out = kl.BatchNormalization()(a_conc_im_out)\n",
    "# # print('a_conc_im_out.shape:',a_conc_im_out.shape)\n",
    "\n",
    "# img2text_condense = AM.CondenseAttention2D(ch_in=int(a_conc_images.shape[-1]),ch_out=512)(a_conc_images)\n",
    "# img2text_comb, xi2tg1, xi2tg2 = AM.ResidualCombine()([image_features, img2text_condense])\n",
    "# img2text_comb = kl.ELU(alpha=elu_alpha)(img2text_comb)\n",
    "# img2text_comb = kl.Conv2D(filters=bottleneck_units,kernel_size=1,strides=1,padding='same')(img2text_comb)\n",
    "# img2text_comb = kl.BatchNormalization()(img2text_comb)\n",
    "# img2text_comb = kl.Dropout(dropout_rate)(img2text_comb)\n",
    "img2text_pool = kl.GlobalAveragePooling2D(name='img2text_global_pool')(image_features)\n"
   ]
  },
  {
   "cell_type": "code",
   "execution_count": 128,
   "metadata": {},
   "outputs": [],
   "source": [
    "# a_out_1,beta_1 = AM.Text2ImgCA(text_ch=int(text_features.shape[-1]),img_ch=int(image_features.shape[-1]),name='text2img_1')([text_features,image_features,padding_masks])\n",
    "# # a_out_1 = kl.BatchNormalization()(a_out_1)\n",
    "# # a_out_1 = kl.ELU(alpha=elu_alpha)(a_out_1)\n",
    "# # print(a_out_1.shape)\n",
    "# a_out_2,beta_2 = AM.Text2ImgCA(text_ch=int(text_features.shape[-1]),img_ch=int(image_features.shape[-1]),name='text2img_2')([text_features,image_features,padding_masks])\n",
    "# # a_out_2 = kl.BatchNormalization()(a_out_2)\n",
    "# # a_out_2 = kl.ELU(alpha=elu_alpha)(a_out_2)\n",
    "# # print(a_out_2.shape)\n",
    "# a_out_3,beta_3 = AM.Text2ImgCA(text_ch=int(text_features.shape[-1]),img_ch=int(image_features.shape[-1]),name='text2img_3')([text_features,image_features,padding_masks])\n",
    "# # a_out_3 = kl.BatchNormalization()(a_out_3)\n",
    "# # a_out_3 = kl.ELU(alpha=elu_alpha)(a_out_3)\n",
    "# # print(a_out_3.shape)\n",
    "# a_out_4,beta_4 = AM.Text2ImgCA(text_ch=int(text_features.shape[-1]),img_ch=int(image_features.shape[-1]),name='text2img_4')([text_features,image_features,padding_masks])\n",
    "# # a_out_4 = kl.BatchNormalization()(a_out_4)\n",
    "# # a_out_4 = kl.ELU(alpha=elu_alpha)(a_out_4)\n",
    "# # print(a_out_4.shape)\n",
    "# a_conc_text = kl.Concatenate(name='text2img_concat')([a_out_1,a_out_2,a_out_3,a_out_4])\n",
    "\n",
    "# text2img_condense = AM.CondenseAttention1D(ch_in=int(a_conc_text.shape[-1]),ch_out=512)(a_conc_text)\n",
    "# text2img_comb, xt2ig1, xt2ig2 = AM.ResidualCombine()([text_features, text2img_condense])\n",
    "# text2img_comb = kl.ELU(alpha=elu_alpha)(text2img_comb)\n",
    "# text2img_comb = kl.Conv1D(filters=bottleneck_units,kernel_size=1,strides=1,padding='same')(text2img_comb)\n",
    "# text2img_comb = kl.BatchNormalization()(text2img_comb)\n",
    "# text2img_comb = kl.Dropout(dropout_rate)(text2img_comb)\n",
    "text2img_pool = kl.GlobalAveragePooling1D(name='text2img_global_pool')(text_features)\n",
    "# text2img_pool = text_features"
   ]
  },
  {
   "cell_type": "code",
   "execution_count": 129,
   "metadata": {
    "scrolled": true
   },
   "outputs": [],
   "source": [
    "all_concat = kl.Concatenate()([img2text_pool,text2img_pool])\n",
    "cross_pool = kl.Dense(1024)(all_concat)\n",
    "cross_pool = kl.ELU(alpha=elu_alpha)(cross_pool)\n",
    "cross_pool = kl.Dense(512)(cross_pool)\n",
    "cross_pool = kl.Dropout(dropout_rate)(cross_pool)\n",
    "target = kl.Dense(vocab_size+1, activation='softmax',name='target_word')(cross_pool)\n",
    "model = Model([image_input,words_input],target)\n"
   ]
  },
  {
   "cell_type": "code",
   "execution_count": 130,
   "metadata": {
    "scrolled": true
   },
   "outputs": [],
   "source": [
    "# json_file = open('../model_json/{0}_{1}_text_img_attention.json'.format(img_arch,text_arch), 'r')\n",
    "# loaded_model_json = json_file.read()\n",
    "# json_file.close()\n",
    "# loaded_model = model_from_json(loaded_model_json)"
   ]
  },
  {
   "cell_type": "code",
   "execution_count": 131,
   "metadata": {},
   "outputs": [],
   "source": [
    "# loaded_model_json"
   ]
  },
  {
   "cell_type": "code",
   "execution_count": 132,
   "metadata": {},
   "outputs": [],
   "source": [
    "# loaded_model==model"
   ]
  },
  {
   "cell_type": "code",
   "execution_count": 133,
   "metadata": {
    "scrolled": true
   },
   "outputs": [],
   "source": [
    "l = textNet.get_layer('w2v_emb')\n",
    "l.set_weights([embedding_matrix])\n",
    "l.trainable = True\n",
    "# if not os.path.exists('../checkpoints/{0}.h5'.format(model_name)):\n",
    "#     print('New model {0}.'.format(model_name))\n",
    "# else:\n",
    "#     print('Existing model {0}. trained weights will be loaded'.format(model_name))\n",
    "#     model.load_weights('../checkpoints/{0}.h5'.format(model_name), skip_mismatch=True, by_name=True)\n",
    "# l.trainable = True"
   ]
  },
  {
   "cell_type": "code",
   "execution_count": 134,
   "metadata": {},
   "outputs": [],
   "source": [
    "# w_to_co\n",
    "# textNet.load_weights('../checkpoints/irv2_1dcnn_attention_text_module.h5')\n",
    "# imgNet.load_weights('../checkpoints/irv2_1dcnn_attention_img_module.h5')"
   ]
  },
  {
   "cell_type": "code",
   "execution_count": 135,
   "metadata": {
    "scrolled": true
   },
   "outputs": [
    {
     "name": "stdout",
     "output_type": "stream",
     "text": [
      "__________________________________________________________________________________________________\n",
      "Layer (type)                    Output Shape         Param #     Connected to                     \n",
      "==================================================================================================\n",
      "image_input (InputLayer)        (None, 256, 256, 3)  0                                            \n",
      "__________________________________________________________________________________________________\n",
      "imgModel (Model)                (None, 8, 8, 512)    17161216    image_input[0][0]                \n",
      "__________________________________________________________________________________________________\n",
      "words_input (InputLayer)        (None, 60)           0                                            \n",
      "__________________________________________________________________________________________________\n",
      "dropout_15 (Dropout)            (None, 8, 8, 512)    0           imgModel[5][0]                   \n",
      "__________________________________________________________________________________________________\n",
      "textModel (Model)               (None, 60, 512)      4347124     words_input[0][0]                \n",
      "__________________________________________________________________________________________________\n",
      "img2text_global_pool (GlobalAve (None, 512)          0           dropout_15[0][0]                 \n",
      "__________________________________________________________________________________________________\n",
      "text2img_global_pool (GlobalAve (None, 512)          0           textModel[1][0]                  \n",
      "__________________________________________________________________________________________________\n",
      "concatenate_17 (Concatenate)    (None, 1024)         0           img2text_global_pool[0][0]       \n",
      "                                                                 text2img_global_pool[0][0]       \n",
      "__________________________________________________________________________________________________\n",
      "dense_7 (Dense)                 (None, 1024)         1049600     concatenate_17[0][0]             \n",
      "__________________________________________________________________________________________________\n",
      "elu_14 (ELU)                    (None, 1024)         0           dense_7[0][0]                    \n",
      "__________________________________________________________________________________________________\n",
      "dense_8 (Dense)                 (None, 512)          524800      elu_14[0][0]                     \n",
      "__________________________________________________________________________________________________\n",
      "dropout_16 (Dropout)            (None, 512)          0           dense_8[0][0]                    \n",
      "__________________________________________________________________________________________________\n",
      "target_word (Dense)             (None, 1943)         996759      dropout_16[0][0]                 \n",
      "==================================================================================================\n",
      "Total params: 24,079,499\n",
      "Trainable params: 24,077,579\n",
      "Non-trainable params: 1,920\n",
      "__________________________________________________________________________________________________\n"
     ]
    }
   ],
   "source": [
    "\n",
    "model.summary()\n",
    "model.compile(loss='categorical_crossentropy', optimizer=Adam(lr=lr),metrics=['accuracy'])\n",
    "# model.load_weights('../checkpoints/{0}.h5'.format(model_name))"
   ]
  },
  {
   "cell_type": "code",
   "execution_count": 136,
   "metadata": {
    "scrolled": true
   },
   "outputs": [
    {
     "data": {
      "image/svg+xml": [
       "<svg height=\"802pt\" viewBox=\"0.00 0.00 920.50 802.00\" width=\"921pt\" xmlns=\"http://www.w3.org/2000/svg\" xmlns:xlink=\"http://www.w3.org/1999/xlink\">\n",
       "<g class=\"graph\" id=\"graph0\" transform=\"scale(1 1) rotate(0) translate(4 798)\">\n",
       "<title>G</title>\n",
       "<polygon fill=\"#ffffff\" points=\"-4,4 -4,-798 916.5,-798 916.5,4 -4,4\" stroke=\"transparent\"/>\n",
       "<!-- 140524911175496 -->\n",
       "<g class=\"node\" id=\"node1\">\n",
       "<title>140524911175496</title>\n",
       "<polygon fill=\"none\" points=\"59.5,-747.5 59.5,-793.5 391.5,-793.5 391.5,-747.5 59.5,-747.5\" stroke=\"#000000\"/>\n",
       "<text fill=\"#000000\" font-family=\"Times,serif\" font-size=\"14.00\" text-anchor=\"middle\" x=\"135.5\" y=\"-766.8\">image_input: InputLayer</text>\n",
       "<polyline fill=\"none\" points=\"211.5,-747.5 211.5,-793.5 \" stroke=\"#000000\"/>\n",
       "<text fill=\"#000000\" font-family=\"Times,serif\" font-size=\"14.00\" text-anchor=\"middle\" x=\"239\" y=\"-778.3\">input:</text>\n",
       "<polyline fill=\"none\" points=\"211.5,-770.5 266.5,-770.5 \" stroke=\"#000000\"/>\n",
       "<text fill=\"#000000\" font-family=\"Times,serif\" font-size=\"14.00\" text-anchor=\"middle\" x=\"239\" y=\"-755.3\">output:</text>\n",
       "<polyline fill=\"none\" points=\"266.5,-747.5 266.5,-793.5 \" stroke=\"#000000\"/>\n",
       "<text fill=\"#000000\" font-family=\"Times,serif\" font-size=\"14.00\" text-anchor=\"middle\" x=\"329\" y=\"-778.3\">(None, 256, 256, 3)</text>\n",
       "<polyline fill=\"none\" points=\"266.5,-770.5 391.5,-770.5 \" stroke=\"#000000\"/>\n",
       "<text fill=\"#000000\" font-family=\"Times,serif\" font-size=\"14.00\" text-anchor=\"middle\" x=\"329\" y=\"-755.3\">(None, 256, 256, 3)</text>\n",
       "</g>\n",
       "<!-- 140530268234528 -->\n",
       "<g class=\"node\" id=\"node2\">\n",
       "<title>140530268234528</title>\n",
       "<polygon fill=\"none\" points=\"76.5,-664.5 76.5,-710.5 374.5,-710.5 374.5,-664.5 76.5,-664.5\" stroke=\"#000000\"/>\n",
       "<text fill=\"#000000\" font-family=\"Times,serif\" font-size=\"14.00\" text-anchor=\"middle\" x=\"135.5\" y=\"-683.8\">imgModel: Model</text>\n",
       "<polyline fill=\"none\" points=\"194.5,-664.5 194.5,-710.5 \" stroke=\"#000000\"/>\n",
       "<text fill=\"#000000\" font-family=\"Times,serif\" font-size=\"14.00\" text-anchor=\"middle\" x=\"222\" y=\"-695.3\">input:</text>\n",
       "<polyline fill=\"none\" points=\"194.5,-687.5 249.5,-687.5 \" stroke=\"#000000\"/>\n",
       "<text fill=\"#000000\" font-family=\"Times,serif\" font-size=\"14.00\" text-anchor=\"middle\" x=\"222\" y=\"-672.3\">output:</text>\n",
       "<polyline fill=\"none\" points=\"249.5,-664.5 249.5,-710.5 \" stroke=\"#000000\"/>\n",
       "<text fill=\"#000000\" font-family=\"Times,serif\" font-size=\"14.00\" text-anchor=\"middle\" x=\"312\" y=\"-695.3\">(None, 256, 256, 3)</text>\n",
       "<polyline fill=\"none\" points=\"249.5,-687.5 374.5,-687.5 \" stroke=\"#000000\"/>\n",
       "<text fill=\"#000000\" font-family=\"Times,serif\" font-size=\"14.00\" text-anchor=\"middle\" x=\"312\" y=\"-672.3\">(None, 8, 8, 512)</text>\n",
       "</g>\n",
       "<!-- 140524911175496&#45;&gt;140530268234528 -->\n",
       "<g class=\"edge\" id=\"edge1\">\n",
       "<title>140524911175496-&gt;140530268234528</title>\n",
       "<path d=\"M225.5,-747.3799C225.5,-739.1745 225.5,-729.7679 225.5,-720.8786\" fill=\"none\" stroke=\"#000000\"/>\n",
       "<polygon fill=\"#000000\" points=\"229.0001,-720.784 225.5,-710.784 222.0001,-720.784 229.0001,-720.784\" stroke=\"#000000\"/>\n",
       "</g>\n",
       "<!-- 140524907500880 -->\n",
       "<g class=\"node\" id=\"node4\">\n",
       "<title>140524907500880</title>\n",
       "<polygon fill=\"none\" points=\"77,-581.5 77,-627.5 374,-627.5 374,-581.5 77,-581.5\" stroke=\"#000000\"/>\n",
       "<text fill=\"#000000\" font-family=\"Times,serif\" font-size=\"14.00\" text-anchor=\"middle\" x=\"142.5\" y=\"-600.8\">dropout_15: Dropout</text>\n",
       "<polyline fill=\"none\" points=\"208,-581.5 208,-627.5 \" stroke=\"#000000\"/>\n",
       "<text fill=\"#000000\" font-family=\"Times,serif\" font-size=\"14.00\" text-anchor=\"middle\" x=\"235.5\" y=\"-612.3\">input:</text>\n",
       "<polyline fill=\"none\" points=\"208,-604.5 263,-604.5 \" stroke=\"#000000\"/>\n",
       "<text fill=\"#000000\" font-family=\"Times,serif\" font-size=\"14.00\" text-anchor=\"middle\" x=\"235.5\" y=\"-589.3\">output:</text>\n",
       "<polyline fill=\"none\" points=\"263,-581.5 263,-627.5 \" stroke=\"#000000\"/>\n",
       "<text fill=\"#000000\" font-family=\"Times,serif\" font-size=\"14.00\" text-anchor=\"middle\" x=\"318.5\" y=\"-612.3\">(None, 8, 8, 512)</text>\n",
       "<polyline fill=\"none\" points=\"263,-604.5 374,-604.5 \" stroke=\"#000000\"/>\n",
       "<text fill=\"#000000\" font-family=\"Times,serif\" font-size=\"14.00\" text-anchor=\"middle\" x=\"318.5\" y=\"-589.3\">(None, 8, 8, 512)</text>\n",
       "</g>\n",
       "<!-- 140530268234528&#45;&gt;140524907500880 -->\n",
       "<g class=\"edge\" id=\"edge2\">\n",
       "<title>140530268234528-&gt;140524907500880</title>\n",
       "<path d=\"M225.5,-664.3799C225.5,-656.1745 225.5,-646.7679 225.5,-637.8786\" fill=\"none\" stroke=\"#000000\"/>\n",
       "<polygon fill=\"#000000\" points=\"229.0001,-637.784 225.5,-627.784 222.0001,-637.784 229.0001,-637.784\" stroke=\"#000000\"/>\n",
       "</g>\n",
       "<!-- 140524906947696 -->\n",
       "<g class=\"node\" id=\"node3\">\n",
       "<title>140524906947696</title>\n",
       "<polygon fill=\"none\" points=\"549,-664.5 549,-710.5 832,-710.5 832,-664.5 549,-664.5\" stroke=\"#000000\"/>\n",
       "<text fill=\"#000000\" font-family=\"Times,serif\" font-size=\"14.00\" text-anchor=\"middle\" x=\"625\" y=\"-683.8\">words_input: InputLayer</text>\n",
       "<polyline fill=\"none\" points=\"701,-664.5 701,-710.5 \" stroke=\"#000000\"/>\n",
       "<text fill=\"#000000\" font-family=\"Times,serif\" font-size=\"14.00\" text-anchor=\"middle\" x=\"728.5\" y=\"-695.3\">input:</text>\n",
       "<polyline fill=\"none\" points=\"701,-687.5 756,-687.5 \" stroke=\"#000000\"/>\n",
       "<text fill=\"#000000\" font-family=\"Times,serif\" font-size=\"14.00\" text-anchor=\"middle\" x=\"728.5\" y=\"-672.3\">output:</text>\n",
       "<polyline fill=\"none\" points=\"756,-664.5 756,-710.5 \" stroke=\"#000000\"/>\n",
       "<text fill=\"#000000\" font-family=\"Times,serif\" font-size=\"14.00\" text-anchor=\"middle\" x=\"794\" y=\"-695.3\">(None, 60)</text>\n",
       "<polyline fill=\"none\" points=\"756,-687.5 832,-687.5 \" stroke=\"#000000\"/>\n",
       "<text fill=\"#000000\" font-family=\"Times,serif\" font-size=\"14.00\" text-anchor=\"middle\" x=\"794\" y=\"-672.3\">(None, 60)</text>\n",
       "</g>\n",
       "<!-- 140524910194472 -->\n",
       "<g class=\"node\" id=\"node5\">\n",
       "<title>140524910194472</title>\n",
       "<polygon fill=\"none\" points=\"553,-581.5 553,-627.5 828,-627.5 828,-581.5 553,-581.5\" stroke=\"#000000\"/>\n",
       "<text fill=\"#000000\" font-family=\"Times,serif\" font-size=\"14.00\" text-anchor=\"middle\" x=\"611\" y=\"-600.8\">textModel: Model</text>\n",
       "<polyline fill=\"none\" points=\"669,-581.5 669,-627.5 \" stroke=\"#000000\"/>\n",
       "<text fill=\"#000000\" font-family=\"Times,serif\" font-size=\"14.00\" text-anchor=\"middle\" x=\"696.5\" y=\"-612.3\">input:</text>\n",
       "<polyline fill=\"none\" points=\"669,-604.5 724,-604.5 \" stroke=\"#000000\"/>\n",
       "<text fill=\"#000000\" font-family=\"Times,serif\" font-size=\"14.00\" text-anchor=\"middle\" x=\"696.5\" y=\"-589.3\">output:</text>\n",
       "<polyline fill=\"none\" points=\"724,-581.5 724,-627.5 \" stroke=\"#000000\"/>\n",
       "<text fill=\"#000000\" font-family=\"Times,serif\" font-size=\"14.00\" text-anchor=\"middle\" x=\"776\" y=\"-612.3\">(None, 60)</text>\n",
       "<polyline fill=\"none\" points=\"724,-604.5 828,-604.5 \" stroke=\"#000000\"/>\n",
       "<text fill=\"#000000\" font-family=\"Times,serif\" font-size=\"14.00\" text-anchor=\"middle\" x=\"776\" y=\"-589.3\">(None, 60, 512)</text>\n",
       "</g>\n",
       "<!-- 140524906947696&#45;&gt;140524910194472 -->\n",
       "<g class=\"edge\" id=\"edge3\">\n",
       "<title>140524906947696-&gt;140524910194472</title>\n",
       "<path d=\"M690.5,-664.3799C690.5,-656.1745 690.5,-646.7679 690.5,-637.8786\" fill=\"none\" stroke=\"#000000\"/>\n",
       "<polygon fill=\"#000000\" points=\"694.0001,-637.784 690.5,-627.784 687.0001,-637.784 694.0001,-637.784\" stroke=\"#000000\"/>\n",
       "</g>\n",
       "<!-- 140524905380944 -->\n",
       "<g class=\"node\" id=\"node6\">\n",
       "<title>140524905380944</title>\n",
       "<polygon fill=\"none\" points=\"0,-498.5 0,-544.5 451,-544.5 451,-498.5 0,-498.5\" stroke=\"#000000\"/>\n",
       "<text fill=\"#000000\" font-family=\"Times,serif\" font-size=\"14.00\" text-anchor=\"middle\" x=\"142.5\" y=\"-517.8\">img2text_global_pool: GlobalAveragePooling2D</text>\n",
       "<polyline fill=\"none\" points=\"285,-498.5 285,-544.5 \" stroke=\"#000000\"/>\n",
       "<text fill=\"#000000\" font-family=\"Times,serif\" font-size=\"14.00\" text-anchor=\"middle\" x=\"312.5\" y=\"-529.3\">input:</text>\n",
       "<polyline fill=\"none\" points=\"285,-521.5 340,-521.5 \" stroke=\"#000000\"/>\n",
       "<text fill=\"#000000\" font-family=\"Times,serif\" font-size=\"14.00\" text-anchor=\"middle\" x=\"312.5\" y=\"-506.3\">output:</text>\n",
       "<polyline fill=\"none\" points=\"340,-498.5 340,-544.5 \" stroke=\"#000000\"/>\n",
       "<text fill=\"#000000\" font-family=\"Times,serif\" font-size=\"14.00\" text-anchor=\"middle\" x=\"395.5\" y=\"-529.3\">(None, 8, 8, 512)</text>\n",
       "<polyline fill=\"none\" points=\"340,-521.5 451,-521.5 \" stroke=\"#000000\"/>\n",
       "<text fill=\"#000000\" font-family=\"Times,serif\" font-size=\"14.00\" text-anchor=\"middle\" x=\"395.5\" y=\"-506.3\">(None, 512)</text>\n",
       "</g>\n",
       "<!-- 140524907500880&#45;&gt;140524905380944 -->\n",
       "<g class=\"edge\" id=\"edge4\">\n",
       "<title>140524907500880-&gt;140524905380944</title>\n",
       "<path d=\"M225.5,-581.3799C225.5,-573.1745 225.5,-563.7679 225.5,-554.8786\" fill=\"none\" stroke=\"#000000\"/>\n",
       "<polygon fill=\"#000000\" points=\"229.0001,-554.784 225.5,-544.784 222.0001,-554.784 229.0001,-554.784\" stroke=\"#000000\"/>\n",
       "</g>\n",
       "<!-- 140524907332160 -->\n",
       "<g class=\"node\" id=\"node7\">\n",
       "<title>140524907332160</title>\n",
       "<polygon fill=\"none\" points=\"468.5,-498.5 468.5,-544.5 912.5,-544.5 912.5,-498.5 468.5,-498.5\" stroke=\"#000000\"/>\n",
       "<text fill=\"#000000\" font-family=\"Times,serif\" font-size=\"14.00\" text-anchor=\"middle\" x=\"611\" y=\"-517.8\">text2img_global_pool: GlobalAveragePooling1D</text>\n",
       "<polyline fill=\"none\" points=\"753.5,-498.5 753.5,-544.5 \" stroke=\"#000000\"/>\n",
       "<text fill=\"#000000\" font-family=\"Times,serif\" font-size=\"14.00\" text-anchor=\"middle\" x=\"781\" y=\"-529.3\">input:</text>\n",
       "<polyline fill=\"none\" points=\"753.5,-521.5 808.5,-521.5 \" stroke=\"#000000\"/>\n",
       "<text fill=\"#000000\" font-family=\"Times,serif\" font-size=\"14.00\" text-anchor=\"middle\" x=\"781\" y=\"-506.3\">output:</text>\n",
       "<polyline fill=\"none\" points=\"808.5,-498.5 808.5,-544.5 \" stroke=\"#000000\"/>\n",
       "<text fill=\"#000000\" font-family=\"Times,serif\" font-size=\"14.00\" text-anchor=\"middle\" x=\"860.5\" y=\"-529.3\">(None, 60, 512)</text>\n",
       "<polyline fill=\"none\" points=\"808.5,-521.5 912.5,-521.5 \" stroke=\"#000000\"/>\n",
       "<text fill=\"#000000\" font-family=\"Times,serif\" font-size=\"14.00\" text-anchor=\"middle\" x=\"860.5\" y=\"-506.3\">(None, 512)</text>\n",
       "</g>\n",
       "<!-- 140524910194472&#45;&gt;140524907332160 -->\n",
       "<g class=\"edge\" id=\"edge5\">\n",
       "<title>140524910194472-&gt;140524907332160</title>\n",
       "<path d=\"M690.5,-581.3799C690.5,-573.1745 690.5,-563.7679 690.5,-554.8786\" fill=\"none\" stroke=\"#000000\"/>\n",
       "<polygon fill=\"#000000\" points=\"694.0001,-554.784 690.5,-544.784 687.0001,-554.784 694.0001,-554.784\" stroke=\"#000000\"/>\n",
       "</g>\n",
       "<!-- 140528521947400 -->\n",
       "<g class=\"node\" id=\"node8\">\n",
       "<title>140528521947400</title>\n",
       "<polygon fill=\"none\" points=\"260,-415.5 260,-461.5 655,-461.5 655,-415.5 260,-415.5\" stroke=\"#000000\"/>\n",
       "<text fill=\"#000000\" font-family=\"Times,serif\" font-size=\"14.00\" text-anchor=\"middle\" x=\"347.5\" y=\"-434.8\">concatenate_17: Concatenate</text>\n",
       "<polyline fill=\"none\" points=\"435,-415.5 435,-461.5 \" stroke=\"#000000\"/>\n",
       "<text fill=\"#000000\" font-family=\"Times,serif\" font-size=\"14.00\" text-anchor=\"middle\" x=\"462.5\" y=\"-446.3\">input:</text>\n",
       "<polyline fill=\"none\" points=\"435,-438.5 490,-438.5 \" stroke=\"#000000\"/>\n",
       "<text fill=\"#000000\" font-family=\"Times,serif\" font-size=\"14.00\" text-anchor=\"middle\" x=\"462.5\" y=\"-423.3\">output:</text>\n",
       "<polyline fill=\"none\" points=\"490,-415.5 490,-461.5 \" stroke=\"#000000\"/>\n",
       "<text fill=\"#000000\" font-family=\"Times,serif\" font-size=\"14.00\" text-anchor=\"middle\" x=\"572.5\" y=\"-446.3\">[(None, 512), (None, 512)]</text>\n",
       "<polyline fill=\"none\" points=\"490,-438.5 655,-438.5 \" stroke=\"#000000\"/>\n",
       "<text fill=\"#000000\" font-family=\"Times,serif\" font-size=\"14.00\" text-anchor=\"middle\" x=\"572.5\" y=\"-423.3\">(None, 1024)</text>\n",
       "</g>\n",
       "<!-- 140524905380944&#45;&gt;140528521947400 -->\n",
       "<g class=\"edge\" id=\"edge6\">\n",
       "<title>140524905380944-&gt;140528521947400</title>\n",
       "<path d=\"M289.8168,-498.4901C318.8579,-488.1004 353.3314,-475.7672 383.4461,-464.9934\" fill=\"none\" stroke=\"#000000\"/>\n",
       "<polygon fill=\"#000000\" points=\"384.8215,-468.2187 393.058,-461.5547 382.4635,-461.6278 384.8215,-468.2187\" stroke=\"#000000\"/>\n",
       "</g>\n",
       "<!-- 140524907332160&#45;&gt;140528521947400 -->\n",
       "<g class=\"edge\" id=\"edge7\">\n",
       "<title>140524907332160-&gt;140528521947400</title>\n",
       "<path d=\"M625.9059,-498.4901C596.7397,-488.1004 562.1176,-475.7672 531.8731,-464.9934\" fill=\"none\" stroke=\"#000000\"/>\n",
       "<polygon fill=\"#000000\" points=\"532.8144,-461.6134 522.2197,-461.5547 530.4654,-468.2075 532.8144,-461.6134\" stroke=\"#000000\"/>\n",
       "</g>\n",
       "<!-- 140528521947344 -->\n",
       "<g class=\"node\" id=\"node9\">\n",
       "<title>140528521947344</title>\n",
       "<polygon fill=\"none\" points=\"334.5,-332.5 334.5,-378.5 580.5,-378.5 580.5,-332.5 334.5,-332.5\" stroke=\"#000000\"/>\n",
       "<text fill=\"#000000\" font-family=\"Times,serif\" font-size=\"14.00\" text-anchor=\"middle\" x=\"385.5\" y=\"-351.8\">dense_7: Dense</text>\n",
       "<polyline fill=\"none\" points=\"436.5,-332.5 436.5,-378.5 \" stroke=\"#000000\"/>\n",
       "<text fill=\"#000000\" font-family=\"Times,serif\" font-size=\"14.00\" text-anchor=\"middle\" x=\"464\" y=\"-363.3\">input:</text>\n",
       "<polyline fill=\"none\" points=\"436.5,-355.5 491.5,-355.5 \" stroke=\"#000000\"/>\n",
       "<text fill=\"#000000\" font-family=\"Times,serif\" font-size=\"14.00\" text-anchor=\"middle\" x=\"464\" y=\"-340.3\">output:</text>\n",
       "<polyline fill=\"none\" points=\"491.5,-332.5 491.5,-378.5 \" stroke=\"#000000\"/>\n",
       "<text fill=\"#000000\" font-family=\"Times,serif\" font-size=\"14.00\" text-anchor=\"middle\" x=\"536\" y=\"-363.3\">(None, 1024)</text>\n",
       "<polyline fill=\"none\" points=\"491.5,-355.5 580.5,-355.5 \" stroke=\"#000000\"/>\n",
       "<text fill=\"#000000\" font-family=\"Times,serif\" font-size=\"14.00\" text-anchor=\"middle\" x=\"536\" y=\"-340.3\">(None, 1024)</text>\n",
       "</g>\n",
       "<!-- 140528521947400&#45;&gt;140528521947344 -->\n",
       "<g class=\"edge\" id=\"edge8\">\n",
       "<title>140528521947400-&gt;140528521947344</title>\n",
       "<path d=\"M457.5,-415.3799C457.5,-407.1745 457.5,-397.7679 457.5,-388.8786\" fill=\"none\" stroke=\"#000000\"/>\n",
       "<polygon fill=\"#000000\" points=\"461.0001,-388.784 457.5,-378.784 454.0001,-388.784 461.0001,-388.784\" stroke=\"#000000\"/>\n",
       "</g>\n",
       "<!-- 140528521947456 -->\n",
       "<g class=\"node\" id=\"node10\">\n",
       "<title>140528521947456</title>\n",
       "<polygon fill=\"none\" points=\"342,-249.5 342,-295.5 573,-295.5 573,-249.5 342,-249.5\" stroke=\"#000000\"/>\n",
       "<text fill=\"#000000\" font-family=\"Times,serif\" font-size=\"14.00\" text-anchor=\"middle\" x=\"385.5\" y=\"-268.8\">elu_14: ELU</text>\n",
       "<polyline fill=\"none\" points=\"429,-249.5 429,-295.5 \" stroke=\"#000000\"/>\n",
       "<text fill=\"#000000\" font-family=\"Times,serif\" font-size=\"14.00\" text-anchor=\"middle\" x=\"456.5\" y=\"-280.3\">input:</text>\n",
       "<polyline fill=\"none\" points=\"429,-272.5 484,-272.5 \" stroke=\"#000000\"/>\n",
       "<text fill=\"#000000\" font-family=\"Times,serif\" font-size=\"14.00\" text-anchor=\"middle\" x=\"456.5\" y=\"-257.3\">output:</text>\n",
       "<polyline fill=\"none\" points=\"484,-249.5 484,-295.5 \" stroke=\"#000000\"/>\n",
       "<text fill=\"#000000\" font-family=\"Times,serif\" font-size=\"14.00\" text-anchor=\"middle\" x=\"528.5\" y=\"-280.3\">(None, 1024)</text>\n",
       "<polyline fill=\"none\" points=\"484,-272.5 573,-272.5 \" stroke=\"#000000\"/>\n",
       "<text fill=\"#000000\" font-family=\"Times,serif\" font-size=\"14.00\" text-anchor=\"middle\" x=\"528.5\" y=\"-257.3\">(None, 1024)</text>\n",
       "</g>\n",
       "<!-- 140528521947344&#45;&gt;140528521947456 -->\n",
       "<g class=\"edge\" id=\"edge9\">\n",
       "<title>140528521947344-&gt;140528521947456</title>\n",
       "<path d=\"M457.5,-332.3799C457.5,-324.1745 457.5,-314.7679 457.5,-305.8786\" fill=\"none\" stroke=\"#000000\"/>\n",
       "<polygon fill=\"#000000\" points=\"461.0001,-305.784 457.5,-295.784 454.0001,-305.784 461.0001,-305.784\" stroke=\"#000000\"/>\n",
       "</g>\n",
       "<!-- 140528521948856 -->\n",
       "<g class=\"node\" id=\"node11\">\n",
       "<title>140528521948856</title>\n",
       "<polygon fill=\"none\" points=\"334.5,-166.5 334.5,-212.5 580.5,-212.5 580.5,-166.5 334.5,-166.5\" stroke=\"#000000\"/>\n",
       "<text fill=\"#000000\" font-family=\"Times,serif\" font-size=\"14.00\" text-anchor=\"middle\" x=\"385.5\" y=\"-185.8\">dense_8: Dense</text>\n",
       "<polyline fill=\"none\" points=\"436.5,-166.5 436.5,-212.5 \" stroke=\"#000000\"/>\n",
       "<text fill=\"#000000\" font-family=\"Times,serif\" font-size=\"14.00\" text-anchor=\"middle\" x=\"464\" y=\"-197.3\">input:</text>\n",
       "<polyline fill=\"none\" points=\"436.5,-189.5 491.5,-189.5 \" stroke=\"#000000\"/>\n",
       "<text fill=\"#000000\" font-family=\"Times,serif\" font-size=\"14.00\" text-anchor=\"middle\" x=\"464\" y=\"-174.3\">output:</text>\n",
       "<polyline fill=\"none\" points=\"491.5,-166.5 491.5,-212.5 \" stroke=\"#000000\"/>\n",
       "<text fill=\"#000000\" font-family=\"Times,serif\" font-size=\"14.00\" text-anchor=\"middle\" x=\"536\" y=\"-197.3\">(None, 1024)</text>\n",
       "<polyline fill=\"none\" points=\"491.5,-189.5 580.5,-189.5 \" stroke=\"#000000\"/>\n",
       "<text fill=\"#000000\" font-family=\"Times,serif\" font-size=\"14.00\" text-anchor=\"middle\" x=\"536\" y=\"-174.3\">(None, 512)</text>\n",
       "</g>\n",
       "<!-- 140528521947456&#45;&gt;140528521948856 -->\n",
       "<g class=\"edge\" id=\"edge10\">\n",
       "<title>140528521947456-&gt;140528521948856</title>\n",
       "<path d=\"M457.5,-249.3799C457.5,-241.1745 457.5,-231.7679 457.5,-222.8786\" fill=\"none\" stroke=\"#000000\"/>\n",
       "<polygon fill=\"#000000\" points=\"461.0001,-222.784 457.5,-212.784 454.0001,-222.784 461.0001,-222.784\" stroke=\"#000000\"/>\n",
       "</g>\n",
       "<!-- 140528521947736 -->\n",
       "<g class=\"node\" id=\"node12\">\n",
       "<title>140528521947736</title>\n",
       "<polygon fill=\"none\" points=\"323,-83.5 323,-129.5 592,-129.5 592,-83.5 323,-83.5\" stroke=\"#000000\"/>\n",
       "<text fill=\"#000000\" font-family=\"Times,serif\" font-size=\"14.00\" text-anchor=\"middle\" x=\"388.5\" y=\"-102.8\">dropout_16: Dropout</text>\n",
       "<polyline fill=\"none\" points=\"454,-83.5 454,-129.5 \" stroke=\"#000000\"/>\n",
       "<text fill=\"#000000\" font-family=\"Times,serif\" font-size=\"14.00\" text-anchor=\"middle\" x=\"481.5\" y=\"-114.3\">input:</text>\n",
       "<polyline fill=\"none\" points=\"454,-106.5 509,-106.5 \" stroke=\"#000000\"/>\n",
       "<text fill=\"#000000\" font-family=\"Times,serif\" font-size=\"14.00\" text-anchor=\"middle\" x=\"481.5\" y=\"-91.3\">output:</text>\n",
       "<polyline fill=\"none\" points=\"509,-83.5 509,-129.5 \" stroke=\"#000000\"/>\n",
       "<text fill=\"#000000\" font-family=\"Times,serif\" font-size=\"14.00\" text-anchor=\"middle\" x=\"550.5\" y=\"-114.3\">(None, 512)</text>\n",
       "<polyline fill=\"none\" points=\"509,-106.5 592,-106.5 \" stroke=\"#000000\"/>\n",
       "<text fill=\"#000000\" font-family=\"Times,serif\" font-size=\"14.00\" text-anchor=\"middle\" x=\"550.5\" y=\"-91.3\">(None, 512)</text>\n",
       "</g>\n",
       "<!-- 140528521948856&#45;&gt;140528521947736 -->\n",
       "<g class=\"edge\" id=\"edge11\">\n",
       "<title>140528521948856-&gt;140528521947736</title>\n",
       "<path d=\"M457.5,-166.3799C457.5,-158.1745 457.5,-148.7679 457.5,-139.8786\" fill=\"none\" stroke=\"#000000\"/>\n",
       "<polygon fill=\"#000000\" points=\"461.0001,-139.784 457.5,-129.784 454.0001,-139.784 461.0001,-139.784\" stroke=\"#000000\"/>\n",
       "</g>\n",
       "<!-- 140528521537520 -->\n",
       "<g class=\"node\" id=\"node13\">\n",
       "<title>140528521537520</title>\n",
       "<polygon fill=\"none\" points=\"324,-.5 324,-46.5 591,-46.5 591,-.5 324,-.5\" stroke=\"#000000\"/>\n",
       "<text fill=\"#000000\" font-family=\"Times,serif\" font-size=\"14.00\" text-anchor=\"middle\" x=\"385.5\" y=\"-19.8\">target_word: Dense</text>\n",
       "<polyline fill=\"none\" points=\"447,-.5 447,-46.5 \" stroke=\"#000000\"/>\n",
       "<text fill=\"#000000\" font-family=\"Times,serif\" font-size=\"14.00\" text-anchor=\"middle\" x=\"474.5\" y=\"-31.3\">input:</text>\n",
       "<polyline fill=\"none\" points=\"447,-23.5 502,-23.5 \" stroke=\"#000000\"/>\n",
       "<text fill=\"#000000\" font-family=\"Times,serif\" font-size=\"14.00\" text-anchor=\"middle\" x=\"474.5\" y=\"-8.3\">output:</text>\n",
       "<polyline fill=\"none\" points=\"502,-.5 502,-46.5 \" stroke=\"#000000\"/>\n",
       "<text fill=\"#000000\" font-family=\"Times,serif\" font-size=\"14.00\" text-anchor=\"middle\" x=\"546.5\" y=\"-31.3\">(None, 512)</text>\n",
       "<polyline fill=\"none\" points=\"502,-23.5 591,-23.5 \" stroke=\"#000000\"/>\n",
       "<text fill=\"#000000\" font-family=\"Times,serif\" font-size=\"14.00\" text-anchor=\"middle\" x=\"546.5\" y=\"-8.3\">(None, 1943)</text>\n",
       "</g>\n",
       "<!-- 140528521947736&#45;&gt;140528521537520 -->\n",
       "<g class=\"edge\" id=\"edge12\">\n",
       "<title>140528521947736-&gt;140528521537520</title>\n",
       "<path d=\"M457.5,-83.3799C457.5,-75.1745 457.5,-65.7679 457.5,-56.8786\" fill=\"none\" stroke=\"#000000\"/>\n",
       "<polygon fill=\"#000000\" points=\"461.0001,-56.784 457.5,-46.784 454.0001,-56.784 461.0001,-56.784\" stroke=\"#000000\"/>\n",
       "</g>\n",
       "</g>\n",
       "</svg>"
      ],
      "text/plain": [
       "<IPython.core.display.SVG object>"
      ]
     },
     "execution_count": 136,
     "metadata": {},
     "output_type": "execute_result"
    }
   ],
   "source": [
    "SVG(model_to_dot(model, show_layer_names=True, show_shapes=True).create(prog='dot', format='svg'))\n"
   ]
  },
  {
   "cell_type": "code",
   "execution_count": 140,
   "metadata": {},
   "outputs": [],
   "source": [
    "model_json = model.to_json()\n",
    "with open(\"../model_json/{0}.json\".format(model_name), \"w\") as json_file:\n",
    "    json_file.write(model_json)\n"
   ]
  },
  {
   "cell_type": "code",
   "execution_count": 141,
   "metadata": {},
   "outputs": [
    {
     "data": {
      "text/plain": [
       "'vgg_1dcnn_text_img_attention'"
      ]
     },
     "execution_count": 141,
     "metadata": {},
     "output_type": "execute_result"
    }
   ],
   "source": [
    "model_name"
   ]
  },
  {
   "cell_type": "code",
   "execution_count": 142,
   "metadata": {},
   "outputs": [
    {
     "name": "stdout",
     "output_type": "stream",
     "text": [
      "_________________________________________________________________\n",
      "Layer (type)                 Output Shape              Param #   \n",
      "=================================================================\n",
      "words_input (InputLayer)     (None, 60)                0         \n",
      "_________________________________________________________________\n",
      "w2v_emb (Embedding)          (None, 60, 300)           582900    \n",
      "=================================================================\n",
      "Total params: 582,900\n",
      "Trainable params: 582,900\n",
      "Non-trainable params: 0\n",
      "_________________________________________________________________\n"
     ]
    }
   ],
   "source": [
    "emb = Model(textNet.inputs[0],textNet.get_layer('w2v_emb').output)\n",
    "emb.summary()\n"
   ]
  },
  {
   "cell_type": "code",
   "execution_count": 143,
   "metadata": {},
   "outputs": [],
   "source": [
    "def datagen(img_lst,batch_size=4):\n",
    "    counter=0\n",
    "    x1,x2,y,sents,masks, img_names = [],[],[],[],[],[]\n",
    "    idx = 0\n",
    "    while True:\n",
    "        im = img_lst[idx]\n",
    "#         print(im)\n",
    "        photo = cv2.imread('../dataset/images/images_normalized/resized_1024/{0}'.format(im))/255.0\n",
    "#         print(merged_ds[merged_ds.filename==im])\n",
    "        sent = merged_ds[merged_ds.filename==im]['findings'].values[0].lower().replace('/',' ')\n",
    "        \n",
    "        ts = nlp(sent)\n",
    "#         print(ts)\n",
    "        ts = [str(x) for x in list(ts)]\n",
    "#         print(tss)\n",
    "        ts = ts[:max_wlen-1]\n",
    "        sent_words = ['startseq']\n",
    "        for t in ts:\n",
    "#             print(t)\n",
    "#             t = 'sdadasasdasads'\n",
    "            if (t not in w_to_co.keys()) : #or ('xx' in t):\n",
    "#                 print('not present:',t)\n",
    "                pass\n",
    "            else:\n",
    "                sent_words.append(t)\n",
    "        sent_words.append('endseq')\n",
    "#         print(sent_words)\n",
    "\n",
    "        seq = [w_to_co[x] for x in sent_words]\n",
    "        # split one sequence into multiple X, y pairs\n",
    "        for i in range(1, len(seq)):\n",
    "            \n",
    "            in_seq, out_seq = seq[:i], seq[i]\n",
    "#             print(out_seq)\n",
    "            in_seq = sequence.pad_sequences([in_seq], maxlen=max_wlen,padding='pre',value=0)[0]\n",
    "            mask = [0.001 if x<1 else  1 for x in in_seq]\n",
    "            mask = np.expand_dims(mask,-1)\n",
    "            out_seq = np_utils.to_categorical([out_seq], num_classes=vocab_size+1)[0]\n",
    "            x1.append(photo)\n",
    "            img_names.append(im)\n",
    "            x2.append(in_seq)\n",
    "            masks.append(mask)\n",
    "            y.append(out_seq)\n",
    "            sents.append(sent)\n",
    "        counter+=1\n",
    "        idx+=1\n",
    "#         print(idx)\n",
    "        if idx==len(img_lst):\n",
    "            idx=0\n",
    "        if counter==batch_size:\n",
    "            counter=0\n",
    "            inputs = {'image_input': np.array(x1),\n",
    "                      'words_input': np.array(x2),\n",
    "                      'padding_masks':np.array(masks),\n",
    "                      'image_names':np.array(img_names)\n",
    "                     }\n",
    "            outputs = {'target_word':np.array(y),\n",
    "                      'actual_sentence':np.array(sents)}\n",
    "            yield inputs, outputs\n",
    "            x1,x2,y,sents,masks,img_names = [],[],[],[],[],[]"
   ]
  },
  {
   "cell_type": "code",
   "execution_count": 144,
   "metadata": {},
   "outputs": [
    {
     "name": "stdout",
     "output_type": "stream",
     "text": [
      "train: 2310 + val: 660 + test: 331  =  3301\n"
     ]
    }
   ],
   "source": [
    "\n",
    "\n",
    "with open('../dataset/train_images.p', 'rb') as filehandle:\n",
    "    # read the data as binary data stream\n",
    "    train_images_list = pickle.load(filehandle)\n",
    "with open('../dataset/val_images.p', 'rb') as filehandle:\n",
    "    # read the data as binary data stream\n",
    "    val_images_list = pickle.load(filehandle)\n",
    "with open('../dataset/test_images.p', 'rb') as filehandle:\n",
    "    # read the data as binary data stream\n",
    "    test_images_list = pickle.load(filehandle)\n",
    "\n",
    "print('train:',len(train_images_list),\n",
    "      '+ val:',len(val_images_list),\n",
    "      '+ test:',len(test_images_list),\n",
    "      ' = ',(len(train_images_list)+len(val_images_list)+len(test_images_list)))\n",
    "train_batch_size = 64\n",
    "val_batch_size = 64\n",
    "test_batch_size = 1\n",
    "train_gen = datagen(train_images_list,batch_size=train_batch_size)\n",
    "val_gen = datagen(val_images_list,batch_size=val_batch_size)\n",
    "test_gen = datagen(test_images_list,batch_size=test_batch_size)"
   ]
  },
  {
   "cell_type": "code",
   "execution_count": 145,
   "metadata": {},
   "outputs": [],
   "source": [
    "# test_images_list = merged_ds.filename.values\n",
    "# test_images_list = list(test_images_list)\n",
    "# for x in train_images_list:\n",
    "#     test_images_list.remove(x)\n",
    "# for x in val_images_list:\n",
    "#     test_images_list.remove(x)\n",
    "# len(test_images_list)"
   ]
  },
  {
   "cell_type": "code",
   "execution_count": 146,
   "metadata": {},
   "outputs": [],
   "source": [
    "# imgs = merged_ds.filename.values\n",
    "# np.random.shuffle(imgs)\n",
    "\n",
    "# train_images_list = imgs[:int(0.7*len(imgs))]\n",
    "# val_images_list = imgs[int(0.7*len(imgs)):int(0.9*len(imgs))]\n",
    "# test_images_list = imgs[int(0.9*len(imgs)):]\n",
    "# train_images_list.shape,val_images_list.shape,test_images_list.shape\n",
    "# with open('../dataset/train_images.p', 'wb') as file:\n",
    "#     # store the data as binary data stream\n",
    "#     pickle.dump(train_images_list, file)\n",
    "# with open('../dataset/val_images.p', 'wb') as file:\n",
    "#     # store the data as binary data stream\n",
    "#     pickle.dump(val_images_list, file)\n",
    "# with open('../dataset/test_images.p', 'wb') as file:\n",
    "#     # store the data as binary data stream\n",
    "#     pickle.dump(test_images_list, file)\n",
    "# # # tx,ty = next(train_gen)\n",
    "# # # tx['padding_masks'][30].shape"
   ]
  },
  {
   "cell_type": "code",
   "execution_count": 147,
   "metadata": {
    "scrolled": true
   },
   "outputs": [],
   "source": [
    "\n",
    "# display(tx['image_input'].shape\n",
    "#         ,tx['words_input'][30]\n",
    "#         ,tx['padding_masks'][30]\n",
    "#         ,' '.join([co_to_w[x] if x !=0 else '' for x in tx['words_input'][30]])\n",
    "#         ,ty['actual_sentence'][30])\n"
   ]
  },
  {
   "cell_type": "code",
   "execution_count": 148,
   "metadata": {},
   "outputs": [
    {
     "data": {
      "text/plain": [
       "(660, 2310, 1380)"
      ]
     },
     "execution_count": 148,
     "metadata": {},
     "output_type": "execute_result"
    }
   ],
   "source": [
    "len(val_images_list),len(train_images_list), w_to_co['xxxx']"
   ]
  },
  {
   "cell_type": "code",
   "execution_count": 149,
   "metadata": {},
   "outputs": [],
   "source": [
    "# # def _ctc_lambda_func(args):\n",
    "# #     labels, y_pred, input_length, label_length = args\n",
    "# #     return K.tf.keras.backend.ctc_batch_cost(labels, y_pred, input_length, label_length)\n",
    "# vggnet.summary()\n",
    "# w_to_co['xxxx']\n",
    "\n",
    "# np.clip(0,a_max=1,a_min=1e-8)"
   ]
  },
  {
   "cell_type": "code",
   "execution_count": 150,
   "metadata": {
    "scrolled": true
   },
   "outputs": [
    {
     "data": {
      "text/html": [
       "<div>\n",
       "<style scoped>\n",
       "    .dataframe tbody tr th:only-of-type {\n",
       "        vertical-align: middle;\n",
       "    }\n",
       "\n",
       "    .dataframe tbody tr th {\n",
       "        vertical-align: top;\n",
       "    }\n",
       "\n",
       "    .dataframe thead th {\n",
       "        text-align: right;\n",
       "    }\n",
       "</style>\n",
       "<table border=\"1\" class=\"dataframe\">\n",
       "  <thead>\n",
       "    <tr style=\"text-align: right;\">\n",
       "      <th></th>\n",
       "      <th>uid</th>\n",
       "      <th>MeSH</th>\n",
       "      <th>Problems</th>\n",
       "      <th>image</th>\n",
       "      <th>indication</th>\n",
       "      <th>comparison</th>\n",
       "      <th>findings</th>\n",
       "      <th>impression</th>\n",
       "      <th>filename</th>\n",
       "      <th>projection</th>\n",
       "    </tr>\n",
       "  </thead>\n",
       "  <tbody>\n",
       "    <tr>\n",
       "      <th>0</th>\n",
       "      <td>1</td>\n",
       "      <td>normal</td>\n",
       "      <td>normal</td>\n",
       "      <td>Xray Chest PA and Lateral</td>\n",
       "      <td>Positive TB test</td>\n",
       "      <td>None.</td>\n",
       "      <td>The cardiac silhouette and mediastinum size are within normal limits. There is no pulmonary edema. There is no focal consolidation. There are no XXXX of a pleural effusion. There is no evidence of pneumothorax.</td>\n",
       "      <td>Normal chest x-XXXX.</td>\n",
       "      <td>1_IM-0001-4001.dcm.png</td>\n",
       "      <td>Frontal</td>\n",
       "    </tr>\n",
       "    <tr>\n",
       "      <th>2</th>\n",
       "      <td>2</td>\n",
       "      <td>Cardiomegaly/borderline;Pulmonary Artery/enlarged</td>\n",
       "      <td>Cardiomegaly;Pulmonary Artery</td>\n",
       "      <td>Chest, 2 views, frontal and lateral</td>\n",
       "      <td>Preop bariatric surgery.</td>\n",
       "      <td>None.</td>\n",
       "      <td>Borderline cardiomegaly. Midline sternotomy XXXX. Enlarged pulmonary arteries. Clear lungs. Inferior XXXX XXXX XXXX.</td>\n",
       "      <td>No acute pulmonary findings.</td>\n",
       "      <td>2_IM-0652-1001.dcm.png</td>\n",
       "      <td>Frontal</td>\n",
       "    </tr>\n",
       "    <tr>\n",
       "      <th>4</th>\n",
       "      <td>4</td>\n",
       "      <td>Pulmonary Disease, Chronic Obstructive;Bullous Emphysema;Pulmonary Fibrosis/interstitial;Cicatrix/lung/upper lobe/left;Opacity/lung/apex/left/irregular;Opacity/lung/upper lobe/right/streaky;Opacity/pulmonary alveoli;Opacity/lung/bilateral/interstitial/diffuse</td>\n",
       "      <td>Pulmonary Disease, Chronic Obstructive;Bullous Emphysema;Pulmonary Fibrosis;Cicatrix;Opacity;Opacity;Opacity;Opacity</td>\n",
       "      <td>PA and lateral views of the chest XXXX, XXXX at XXXX hours</td>\n",
       "      <td>XXXX-year-old XXXX with XXXX.</td>\n",
       "      <td>None available</td>\n",
       "      <td>There are diffuse bilateral interstitial and alveolar opacities consistent with chronic obstructive lung disease and bullous emphysema. There are irregular opacities in the left lung apex, that could represent a cavitary lesion in the left lung apex.There are streaky opacities in the right upper lobe, XXXX scarring. The cardiomediastinal silhouette is normal in size and contour. There is no pneumothorax or large pleural effusion.</td>\n",
       "      <td>1. Bullous emphysema and interstitial fibrosis. 2. Probably scarring in the left apex, although difficult to exclude a cavitary lesion. 3. Opacities in the bilateral upper lobes could represent scarring, however the absence of comparison exam, recommend short interval followup radiograph or CT thorax to document resolution.</td>\n",
       "      <td>4_IM-2050-1001.dcm.png</td>\n",
       "      <td>Frontal</td>\n",
       "    </tr>\n",
       "    <tr>\n",
       "      <th>6</th>\n",
       "      <td>5</td>\n",
       "      <td>Osteophyte/thoracic vertebrae/multiple/small;Thickening/pleura/apex/bilateral;Lung/hyperdistention/mild</td>\n",
       "      <td>Osteophyte;Thickening;Lung</td>\n",
       "      <td>Xray Chest PA and Lateral</td>\n",
       "      <td>Chest and nasal congestion.</td>\n",
       "      <td>NaN</td>\n",
       "      <td>The cardiomediastinal silhouette and pulmonary vasculature are within normal limits. There is no pneumothorax or pleural effusion. There are no focal areas of consolidation. Cholecystectomy clips are present. Small T-spine osteophytes. There is biapical pleural thickening, unchanged from prior. Mildly hyperexpanded lungs.</td>\n",
       "      <td>No acute cardiopulmonary abnormality.</td>\n",
       "      <td>5_IM-2117-1003002.dcm.png</td>\n",
       "      <td>Frontal</td>\n",
       "    </tr>\n",
       "    <tr>\n",
       "      <th>8</th>\n",
       "      <td>6</td>\n",
       "      <td>normal</td>\n",
       "      <td>normal</td>\n",
       "      <td>PA and Lateral Chest. XXXX, XXXX at XXXX</td>\n",
       "      <td>Evaluate for infection</td>\n",
       "      <td>XXXX, XXXX</td>\n",
       "      <td>Heart size and mediastinal contour are within normal limits. There is no focal airspace consolidation or suspicious pulmonary opacity. No pneumothorax or large pleural effusion. Mild degenerative change of the thoracic spine.</td>\n",
       "      <td>No acute cardiopulmonary findings.</td>\n",
       "      <td>6_IM-2192-1001.dcm.png</td>\n",
       "      <td>Frontal</td>\n",
       "    </tr>\n",
       "  </tbody>\n",
       "</table>\n",
       "</div>"
      ],
      "text/plain": [
       "   uid  \\\n",
       "0  1     \n",
       "2  2     \n",
       "4  4     \n",
       "6  5     \n",
       "8  6     \n",
       "\n",
       "                                                                                                                                                                                                                                                                  MeSH  \\\n",
       "0  normal                                                                                                                                                                                                                                                                \n",
       "2  Cardiomegaly/borderline;Pulmonary Artery/enlarged                                                                                                                                                                                                                     \n",
       "4  Pulmonary Disease, Chronic Obstructive;Bullous Emphysema;Pulmonary Fibrosis/interstitial;Cicatrix/lung/upper lobe/left;Opacity/lung/apex/left/irregular;Opacity/lung/upper lobe/right/streaky;Opacity/pulmonary alveoli;Opacity/lung/bilateral/interstitial/diffuse   \n",
       "6  Osteophyte/thoracic vertebrae/multiple/small;Thickening/pleura/apex/bilateral;Lung/hyperdistention/mild                                                                                                                                                               \n",
       "8  normal                                                                                                                                                                                                                                                                \n",
       "\n",
       "                                                                                                               Problems  \\\n",
       "0  normal                                                                                                                 \n",
       "2  Cardiomegaly;Pulmonary Artery                                                                                          \n",
       "4  Pulmonary Disease, Chronic Obstructive;Bullous Emphysema;Pulmonary Fibrosis;Cicatrix;Opacity;Opacity;Opacity;Opacity   \n",
       "6  Osteophyte;Thickening;Lung                                                                                             \n",
       "8  normal                                                                                                                 \n",
       "\n",
       "                                                         image  \\\n",
       "0  Xray Chest PA and Lateral                                     \n",
       "2  Chest, 2 views, frontal and lateral                           \n",
       "4  PA and lateral views of the chest XXXX, XXXX at XXXX hours    \n",
       "6  Xray Chest PA and Lateral                                     \n",
       "8  PA and Lateral Chest. XXXX, XXXX at XXXX                      \n",
       "\n",
       "                      indication      comparison  \\\n",
       "0  Positive TB test               None.            \n",
       "2  Preop bariatric surgery.       None.            \n",
       "4  XXXX-year-old XXXX with XXXX.  None available   \n",
       "6  Chest and nasal congestion.    NaN              \n",
       "8  Evaluate for infection         XXXX, XXXX       \n",
       "\n",
       "                                                                                                                                                                                                                                                                                                                                                                                                                                            findings  \\\n",
       "0  The cardiac silhouette and mediastinum size are within normal limits. There is no pulmonary edema. There is no focal consolidation. There are no XXXX of a pleural effusion. There is no evidence of pneumothorax.                                                                                                                                                                                                                                  \n",
       "2  Borderline cardiomegaly. Midline sternotomy XXXX. Enlarged pulmonary arteries. Clear lungs. Inferior XXXX XXXX XXXX.                                                                                                                                                                                                                                                                                                                                \n",
       "4  There are diffuse bilateral interstitial and alveolar opacities consistent with chronic obstructive lung disease and bullous emphysema. There are irregular opacities in the left lung apex, that could represent a cavitary lesion in the left lung apex.There are streaky opacities in the right upper lobe, XXXX scarring. The cardiomediastinal silhouette is normal in size and contour. There is no pneumothorax or large pleural effusion.   \n",
       "6  The cardiomediastinal silhouette and pulmonary vasculature are within normal limits. There is no pneumothorax or pleural effusion. There are no focal areas of consolidation. Cholecystectomy clips are present. Small T-spine osteophytes. There is biapical pleural thickening, unchanged from prior. Mildly hyperexpanded lungs.                                                                                                                 \n",
       "8  Heart size and mediastinal contour are within normal limits. There is no focal airspace consolidation or suspicious pulmonary opacity. No pneumothorax or large pleural effusion. Mild degenerative change of the thoracic spine.                                                                                                                                                                                                                   \n",
       "\n",
       "                                                                                                                                                                                                                                                                                                                              impression  \\\n",
       "0  Normal chest x-XXXX.                                                                                                                                                                                                                                                                                                                    \n",
       "2  No acute pulmonary findings.                                                                                                                                                                                                                                                                                                            \n",
       "4  1. Bullous emphysema and interstitial fibrosis. 2. Probably scarring in the left apex, although difficult to exclude a cavitary lesion. 3. Opacities in the bilateral upper lobes could represent scarring, however the absence of comparison exam, recommend short interval followup radiograph or CT thorax to document resolution.   \n",
       "6  No acute cardiopulmonary abnormality.                                                                                                                                                                                                                                                                                                   \n",
       "8  No acute cardiopulmonary findings.                                                                                                                                                                                                                                                                                                      \n",
       "\n",
       "                    filename projection  \n",
       "0  1_IM-0001-4001.dcm.png     Frontal    \n",
       "2  2_IM-0652-1001.dcm.png     Frontal    \n",
       "4  4_IM-2050-1001.dcm.png     Frontal    \n",
       "6  5_IM-2117-1003002.dcm.png  Frontal    \n",
       "8  6_IM-2192-1001.dcm.png     Frontal    "
      ]
     },
     "execution_count": 150,
     "metadata": {},
     "output_type": "execute_result"
    }
   ],
   "source": [
    "# print(co_to_w[273])\n",
    "# print(embedding_matrix[1380])\n",
    "# for u,v in zip(tx['words_input'][0],tx['padding_masks'][0]):\n",
    "#     print(u,v)\n",
    "merged_ds.head()"
   ]
  },
  {
   "cell_type": "code",
   "execution_count": 151,
   "metadata": {
    "scrolled": true
   },
   "outputs": [],
   "source": [
    "# att = np.random.randint(1,10,(4,5,5))\n",
    "# mask = 1-np.triu(np.ones((4,5,5)),k=1)\n",
    "# att*mask\n",
    "vx,vy = next(train_gen)"
   ]
  },
  {
   "cell_type": "code",
   "execution_count": 152,
   "metadata": {},
   "outputs": [
    {
     "data": {
      "text/plain": [
       "<matplotlib.image.AxesImage at 0x7fce81370278>"
      ]
     },
     "execution_count": 152,
     "metadata": {},
     "output_type": "execute_result"
    },
    {
     "data": {
      "image/png": "[encoded data removed]",
      "text/plain": [
       "<Figure size 432x288 with 1 Axes>"
      ]
     },
     "metadata": {
      "needs_background": "light"
     },
     "output_type": "display_data"
    }
   ],
   "source": [
    "img = cv2.imread('../dataset/images/images_normalized/{0}'.format(vx['image_names'][0]))\n",
    "plt.imshow(img)"
   ]
  },
  {
   "cell_type": "code",
   "execution_count": 153,
   "metadata": {
    "scrolled": true
   },
   "outputs": [],
   "source": [
    "# for i in range(200):\n",
    "#     print('---',i,'---')\n",
    "#     print('['+vx['image_names'][i]+'], input_seq:',', '.join(['<None> {0}'.format(y) if x==0 else '<{0}> {1}'.format(co_to_w[x],y) for x,y in zip(vx['words_input'][i],vx['padding_masks'][i])]),', \\t next_word:',co_to_w[np.argmax(vy['target_word'][i])])"
   ]
  },
  {
   "cell_type": "code",
   "execution_count": 154,
   "metadata": {
    "scrolled": true
   },
   "outputs": [],
   "source": [
    "# print(vx['words_input'][1])\n",
    "# embedding_matrix[105]"
   ]
  },
  {
   "cell_type": "code",
   "execution_count": 155,
   "metadata": {
    "scrolled": true
   },
   "outputs": [
    {
     "data": {
      "text/plain": [
       "array([0.8774938 , 0.70275575, 0.28210118, 0.81863487, 0.7458355 ,\n",
       "       0.34336174, 0.6239491 , 0.78875864, 0.88404274, 0.47183052,\n",
       "       0.39509648, 0.5224371 , 0.07633962, 0.81263936, 0.39995036,\n",
       "       0.5425147 , 0.33023596, 0.38177723, 0.7279298 , 0.28376836,\n",
       "       0.1962039 , 0.24933322, 0.25449002, 0.3783541 , 0.17022616,\n",
       "       0.7451347 , 0.12770332, 0.40862072, 0.15203045, 0.4578276 ,\n",
       "       0.71059966, 0.21395421, 0.45761895, 0.61981416, 0.9277183 ,\n",
       "       0.19679774, 0.88094974, 0.04810931, 0.02994228, 0.3231145 ,\n",
       "       0.69152695, 0.61853975, 0.31041178, 0.1474479 , 0.67535794,\n",
       "       0.43940282, 0.6517083 , 0.82738835, 0.8241059 , 0.14035515,\n",
       "       0.72441304, 0.5514071 , 0.6197047 , 0.41845018, 0.79335535,\n",
       "       0.43796209, 0.99479204, 0.18528308, 0.7760138 , 0.9087918 ,\n",
       "       0.4355555 , 0.96815896, 0.8164462 , 0.28018123, 0.04958191,\n",
       "       0.5441374 , 0.9244749 , 0.47654334, 0.141455  , 0.25458148,\n",
       "       0.68814975, 0.76528573, 0.25055084, 0.6730016 , 0.35400045,\n",
       "       0.84578776, 0.1930864 , 0.6792587 , 0.5598222 , 0.8635706 ,\n",
       "       0.7523252 , 0.71288484, 0.8047345 , 0.91558355, 0.5754206 ,\n",
       "       0.4316636 , 0.8673796 , 0.9675535 , 0.73305416, 0.06095617,\n",
       "       0.81047875, 0.71785456, 0.63558847, 0.9946032 , 0.570487  ,\n",
       "       0.10199554, 0.56887823, 0.51540977, 0.00482204, 0.5064877 ,\n",
       "       0.6602728 , 0.34706068, 0.8981703 , 0.05083233, 0.06384688,\n",
       "       0.03252826, 0.04433639, 0.52179044, 0.32818744, 0.502212  ,\n",
       "       0.37023258, 0.55232143, 0.3690504 , 0.5305475 , 0.47703052,\n",
       "       0.8148851 , 0.12304924, 0.62750584, 0.8591057 , 0.0294284 ,\n",
       "       0.207299  , 0.11878996, 0.2469531 , 0.15219122, 0.943883  ,\n",
       "       0.02845112, 0.22938083, 0.94552565, 0.4144705 , 0.27563468,\n",
       "       0.3982263 , 0.57133   , 0.24522781, 0.24251899, 0.25170028,\n",
       "       0.26616183, 0.48114315, 0.9584305 , 0.5786439 , 0.44465044,\n",
       "       0.9556142 , 0.8813527 , 0.5235698 , 0.11781964, 0.01251023,\n",
       "       0.41075575, 0.9163319 , 0.5954083 , 0.8609789 , 0.2893753 ,\n",
       "       0.00468905, 0.6407861 , 0.7127307 , 0.21319878, 0.4554304 ,\n",
       "       0.61450016, 0.05269725, 0.97739184, 0.12988943, 0.48007149,\n",
       "       0.3044892 , 0.08505967, 0.6533056 , 0.8688135 , 0.3910539 ,\n",
       "       0.34916446, 0.66558784, 0.49686646, 0.16491547, 0.9095153 ,\n",
       "       0.18882915, 0.4561257 , 0.9906379 , 0.9492721 , 0.6809474 ,\n",
       "       0.72293013, 0.72635174, 0.62001514, 0.35663462, 0.87732035,\n",
       "       0.8415372 , 0.48059866, 0.78639746, 0.38762265, 0.20456253,\n",
       "       0.72363216, 0.736601  , 0.06866502, 0.34685665, 0.2791714 ,\n",
       "       0.3798453 , 0.5954496 , 0.09726903, 0.61329293, 0.08984786,\n",
       "       0.82777417, 0.03918716, 0.01047135, 0.96081907, 0.7074303 ,\n",
       "       0.38285875, 0.5376211 , 0.90982205, 0.8451291 , 0.8316371 ,\n",
       "       0.23105516, 0.70580107, 0.15136243, 0.20253101, 0.301059  ,\n",
       "       0.972865  , 0.03729343, 0.71222913, 0.3425955 , 0.4733404 ,\n",
       "       0.9105738 , 0.0826056 , 0.32324502, 0.65745676, 0.69736993,\n",
       "       0.34873453, 0.88793373, 0.32776672, 0.55756587, 0.24257208,\n",
       "       0.7128665 , 0.9347202 , 0.55356634, 0.6609729 , 0.4354792 ,\n",
       "       0.66855854, 0.7683268 , 0.32753608, 0.5251342 , 0.6044581 ,\n",
       "       0.12559643, 0.2199372 , 0.30083227, 0.2639883 , 0.68481016,\n",
       "       0.3122819 , 0.04983028, 0.67740077, 0.22107789, 0.76091003,\n",
       "       0.97129494, 0.72651684, 0.14439867, 0.74734765, 0.8069387 ,\n",
       "       0.00935243, 0.05756345, 0.5158479 , 0.70708793, 0.02662675,\n",
       "       0.21582204, 0.23714393, 0.4407808 , 0.21584825, 0.90882105,\n",
       "       0.11891676, 0.9322917 , 0.9601027 , 0.89632094, 0.85528207,\n",
       "       0.6364072 , 0.9084067 , 0.6103378 , 0.23154433, 0.79904324,\n",
       "       0.21372037, 0.5337061 , 0.21856467, 0.93695146, 0.7635993 ,\n",
       "       0.33648643, 0.16596465, 0.10604256, 0.08695475, 0.9028816 ,\n",
       "       0.0933659 , 0.5060498 , 0.5040257 , 0.20060706, 0.76465946,\n",
       "       0.84911716, 0.6574094 , 0.7114391 , 0.17022158, 0.8100867 ,\n",
       "       0.70475465, 0.8288096 , 0.73377323, 0.5390749 , 0.5026947 ,\n",
       "       0.22323099, 0.70981026, 0.8091549 , 0.9074993 , 0.81878245],\n",
       "      dtype=float32)"
      ]
     },
     "execution_count": 155,
     "metadata": {},
     "output_type": "execute_result"
    }
   ],
   "source": [
    "emb_out = emb.predict(vx['words_input'])\n",
    "emb_out[1][-2]"
   ]
  },
  {
   "cell_type": "code",
   "execution_count": 156,
   "metadata": {
    "scrolled": true
   },
   "outputs": [],
   "source": [
    "parallel_model=multi_gpu_model(model, gpus=n_gpu)\n",
    "# # model_resnet.summary()\n",
    "# # parallel_model.load_weights('./../checkpoints/sa_vgg16_3d_32x24_m32_direct.h5', by_name=True, skip_mismatch=True)"
   ]
  },
  {
   "cell_type": "code",
   "execution_count": 157,
   "metadata": {
    "scrolled": true
   },
   "outputs": [
    {
     "name": "stdout",
     "output_type": "stream",
     "text": [
      "__________________________________________________________________________________________________\n",
      "Layer (type)                    Output Shape         Param #     Connected to                     \n",
      "==================================================================================================\n",
      "image_input (InputLayer)        (None, 256, 256, 3)  0                                            \n",
      "__________________________________________________________________________________________________\n",
      "words_input (InputLayer)        (None, 60)           0                                            \n",
      "__________________________________________________________________________________________________\n",
      "lambda_11 (Lambda)              (None, 256, 256, 3)  0           image_input[0][0]                \n",
      "__________________________________________________________________________________________________\n",
      "lambda_12 (Lambda)              (None, 60)           0           words_input[0][0]                \n",
      "__________________________________________________________________________________________________\n",
      "lambda_13 (Lambda)              (None, 256, 256, 3)  0           image_input[0][0]                \n",
      "__________________________________________________________________________________________________\n",
      "lambda_14 (Lambda)              (None, 60)           0           words_input[0][0]                \n",
      "__________________________________________________________________________________________________\n",
      "model_8 (Model)                 (None, 1943)         24079499    lambda_11[0][0]                  \n",
      "                                                                 lambda_12[0][0]                  \n",
      "                                                                 lambda_13[0][0]                  \n",
      "                                                                 lambda_14[0][0]                  \n",
      "__________________________________________________________________________________________________\n",
      "target_word (Concatenate)       (None, 1943)         0           model_8[1][0]                    \n",
      "                                                                 model_8[2][0]                    \n",
      "==================================================================================================\n",
      "Total params: 24,079,499\n",
      "Trainable params: 24,077,579\n",
      "Non-trainable params: 1,920\n",
      "__________________________________________________________________________________________________\n"
     ]
    }
   ],
   "source": [
    "parallel_model.compile(loss='categorical_crossentropy',optimizer=Adam(lr=lr),metrics=['accuracy']) #For multi GPU\n",
    "parallel_model.summary()"
   ]
  },
  {
   "cell_type": "code",
   "execution_count": 158,
   "metadata": {},
   "outputs": [
    {
     "name": "stdout",
     "output_type": "stream",
     "text": [
      "training vgg_1dcnn_text_img_attention for 50 epochs\n"
     ]
    }
   ],
   "source": [
    "# mc=ModelCheckpoint(filepath='../checkpoints/vgg16_lstm_words.h5',monitor='val_loss',period=1,save_best_only=True,save_weights_only=True,mode='auto',verbose=3)\n",
    "# es=EarlyStopping(patience=300,monitor='val_loss',min_delta=0.0001,mode='auto')\n",
    "\n",
    "print('training {0} for {1} epochs'.format(model_name,EPOCHS))\n",
    "# lr = K.eval(parallel_model.optimizer.lr)\n",
    "# decay = 1e-3"
   ]
  },
  {
   "cell_type": "code",
   "execution_count": 159,
   "metadata": {},
   "outputs": [],
   "source": [
    "def CheckSelfAttention(input_data,labels):\n",
    "    words_input,padding_masks=input_data\n",
    "    for i in range(words_input.shape[0]):\n",
    "        print('-*-*-',i,'-*-*-')\n",
    "        print('input_seq:',', '.join(['<None> {0}'.format(y) if x==0 else '<{0}> {1}'.format(co_to_w[x],y) for x,y in zip(words_input[i],padding_masks[i])]),', \\t next_word:',co_to_w[np.argmax(labels[i])])\n",
    "    model_concat_sa_2 = Model(textNet.inputs,textNet.get_layer('concat_sa_2').output)\n",
    "    model_concat_sa_3 = Model(textNet.inputs,textNet.get_layer('concat_sa_3').output)\n",
    "    model_concat_sa_4 = []#Model(textNet.inputs,textNet.get_layer('act_concat_sa_4').output)\n",
    "    \n",
    "    return [model_concat_sa_2.predict(input_data)\n",
    "            , model_concat_sa_3.predict(input_data)\n",
    "            , []#model_concat_sa_4.predict(input_data)\n",
    "            , textNet.predict(input_data)]\n",
    "#     print(concat_sa_2)\n",
    "    \n",
    "def ReduceLROnPlateau(decay=0.5):\n",
    "    old_lr = K.eval(parallel_model.optimizer.lr)\n",
    "    new_lr = old_lr * decay\n",
    "    return old_lr,new_lr"
   ]
  },
  {
   "cell_type": "code",
   "execution_count": 160,
   "metadata": {},
   "outputs": [],
   "source": [
    "# ReduceLROnPlateau()"
   ]
  },
  {
   "cell_type": "code",
   "execution_count": 161,
   "metadata": {},
   "outputs": [],
   "source": [
    "patience = 2\n",
    "patience_counter = 0\n",
    "min_delta = 0.001"
   ]
  },
  {
   "cell_type": "code",
   "execution_count": null,
   "metadata": {
    "scrolled": true
   },
   "outputs": [
    {
     "name": "stdout",
     "output_type": "stream",
     "text": [
      "E:  7/50, tr_loss:2.1221, tr_acc:0.3154, v_loss:6.3110, v_acc:0.1243, lr:0.000100 [1075.08 s/e] (min_v_loss:100.0000)\n"
     ]
    },
    {
     "data": {
      "application/vnd.jupyter.widget-view+json": {
       "model_id": "2bed94f1a9cf4e59b84a4206e2839b2a",
       "version_major": 2,
       "version_minor": 0
      },
      "text/plain": [
       "HBox(children=(FloatProgress(value=0.0, description='Train_Iter', max=37.0, style=ProgressStyle(description_wi…"
      ]
     },
     "metadata": {},
     "output_type": "display_data"
    },
    {
     "name": "stdout",
     "output_type": "stream",
     "text": [
      "Train Iter:577/2254, tr_loss:1.8952, tr_acc:0.3624 (min_v_loss:100.0000))\r"
     ]
    }
   ],
   "source": [
    "from IPython.display import clear_output\n",
    "\n",
    "# counter = 0\n",
    "\n",
    "# history = model.fit_generator(train_gen\n",
    "#                               ,epochs=EPOCHS\n",
    "#                               ,steps_per_epoch=4\n",
    "#                               ,validation_data=val_gen\n",
    "#                               ,validation_steps=2\n",
    "#                               ,callbacks=[mc])\n",
    "\n",
    "hist_tl,hist_ta,hist_vl,hist_va,tt,lr_arr = [],[],[],[],[],[]\n",
    "window = 64\n",
    "val_window = 512\n",
    "train_iterations = int(np.ceil(len(train_images_list)/train_batch_size))\n",
    "val_iterations = int(np.ceil(len(val_images_list)/val_batch_size))\n",
    "\n",
    "print('train_iterations:{0}; val_iterations:{1}'.format(train_iterations,val_iterations))\n",
    "min_v_l,min_v_a,min_t_a = 100,0,0\n",
    "t_l, t_a, v_l, v_a = 0, 0, 4.01, 0\n",
    "train_gen = datagen(train_images_list,batch_size=train_batch_size)\n",
    "val_gen = datagen(val_images_list,batch_size=val_batch_size)\n",
    "for e in tqdm(np.arange(start=0,stop=EPOCHS),desc='Epoch'):\n",
    "    start_time = time()\n",
    "    tl,ta,vl,va = [],[],[],[]\n",
    "    for im in tqdm(range(train_iterations),desc='Train_Iter',leave=False):\n",
    "        train_gen = datagen(train_images_list,batch_size=train_batch_size)\n",
    "        tx,ty = next(train_gen)\n",
    "        inputs1 = tx['image_input']\n",
    "        inputs2 = tx['words_input']\n",
    "        inputs3 = tx['padding_masks']\n",
    "#         print(inputs3.shape)\n",
    "        labels = ty['target_word']        \n",
    "        for i in np.arange(len(inputs1),step=window):\n",
    "            \n",
    "            loss,accuracy = parallel_model.train_on_batch([inputs1[i:i+window],inputs2[i:i+window]],labels[i:i+window])\n",
    "#             concat_sa_2,concat_sa_3,concat_sa_4,textNet_output = CheckSelfAttention([inputs2[i:i+window],inputs3[i:i+window]],labels[i:i+window])            \n",
    "            \n",
    "            tl.append(loss)\n",
    "            ta.append(accuracy)\n",
    "            print('Train Iter:{0:3d}/{1}, tr_loss:{2:.4f}, tr_acc:{3:.4f} (min_v_loss:{4:.4f})'\n",
    "                  .format(i+1,len(inputs1)\n",
    "                          , np.mean(tl)\n",
    "                          , np.mean(ta)\n",
    "                          , min_v_l), end = '\\r')\n",
    "#             break\n",
    "#         break\n",
    "#     break\n",
    "    for im in tqdm(range(val_iterations),desc='Val_Iter',leave=False):\n",
    "        vx,vy = next(val_gen)\n",
    "        inputs1 = vx['image_input']\n",
    "        inputs2 = vx['words_input']\n",
    "        inputs3 = vx['padding_masks']\n",
    "        labels = vy['target_word']\n",
    "        for i in np.arange(len(inputs1),step=val_window):\n",
    "            loss,accuracy = parallel_model.evaluate(verbose=0,x=[inputs1[i:i+val_window],inputs2[i:i+val_window]],y=labels[i:i+val_window])\n",
    "            vl.append(loss)\n",
    "            va.append(accuracy)\n",
    "    v_l = np.round(np.mean(vl),4)\n",
    "    v_a = np.round(np.mean(va),4)\n",
    "    t_l = np.round(np.mean(tl),4)\n",
    "    t_a = np.round(np.mean(ta),4)\n",
    "    \n",
    "    hist_tl.append(t_l)\n",
    "    hist_ta.append(t_a)\n",
    "    hist_vl.append(v_l)\n",
    "    hist_va.append(v_a)\n",
    "    if len(hist_tl)>=3:\n",
    "        if hist_tl[-2]-hist_tl[-1]<min_delta:\n",
    "            patience_counter+=1\n",
    "            if patience==patience_counter:\n",
    "                old_lr,lr = ReduceLROnPlateau()\n",
    "                patience_counter = 0\n",
    "                K.set_value(parallel_model.optimizer.lr,lr)\n",
    "                K.set_value(model.optimizer.lr,lr)\n",
    "    lr_arr.append(lr)\n",
    "    if t_a > min_t_a:\n",
    "        min_t_a = t_a\n",
    "        model.save_weights(filepath='../checkpoints/{0}.h5'.format(model_name),overwrite=True)\n",
    "        imgNet.save_weights(filepath='../checkpoints/{0}_{1}_img_module.h5'.format(img_arch,text_arch),overwrite=True)\n",
    "        textNet.save_weights(filepath='../checkpoints/{0}_{1}_text_module.h5'.format(img_arch,text_arch),overwrite=True)\n",
    "    clear_output(wait=True)\n",
    "    end_time = time()\n",
    "    time_taken = end_time-start_time\n",
    "    tt.append(time_taken)\n",
    "    with open('../tf_runs/log.csv','a') as f:\n",
    "        data = '{0:3d}/{7},{1:.4f},{2:.4f},{3:.4f},{4:.4f},{6:.4f},{8:.6f}'.format(e+1, t_l, t_a, v_l, v_a, np.mean(tt),min_v_l,EPOCHS,lr)\n",
    "        t = strftime(\"%m/%d/%Y %H:%M:%S\",localtime())\n",
    "        f.writelines('\\n[{0}],{1},{2}'.format(t, model_name,data))\n",
    "    print('E:{0:3d}/{7}, tr_loss:{1:.4f}, tr_acc:{2:.4f}, v_loss:{3:.4f}, v_acc:{4:.4f}, lr:{8:.6f} [{5:.2f} s/e] (min_v_loss:{6:.4f})'.format(e+1, t_l, t_a, v_l, v_a, np.mean(tt),min_v_l,EPOCHS,lr))"
   ]
  },
  {
   "cell_type": "code",
   "execution_count": null,
   "metadata": {},
   "outputs": [],
   "source": [
    "concat_sa_2,concat_sa_3,concat_sa_4,textNet_output = CheckSelfAttention([inputs2[i:i+window],inputs3[i:i+window]],labels[i:i+window])            \n",
    "# "
   ]
  },
  {
   "cell_type": "code",
   "execution_count": null,
   "metadata": {
    "scrolled": true
   },
   "outputs": [],
   "source": [
    "pd.DataFrame(concat_sa_2[1])"
   ]
  },
  {
   "cell_type": "code",
   "execution_count": null,
   "metadata": {
    "scrolled": true
   },
   "outputs": [],
   "source": [
    "pd.DataFrame(concat_sa_3[1])"
   ]
  },
  {
   "cell_type": "code",
   "execution_count": null,
   "metadata": {
    "scrolled": true
   },
   "outputs": [],
   "source": [
    "# pd.DataFrame(concat_sa_4[1])"
   ]
  },
  {
   "cell_type": "code",
   "execution_count": null,
   "metadata": {
    "scrolled": true
   },
   "outputs": [],
   "source": [
    "pd.DataFrame(textNet_output[1])"
   ]
  },
  {
   "cell_type": "code",
   "execution_count": null,
   "metadata": {},
   "outputs": [],
   "source": [
    "# with open('../tf_runs/log.csv','a') as f:\n",
    "#     data = '{0:3d}/{7},{1:.4f},{2:.4f},{3:.4f},{4:.4f},{6:.4f}'.format(e+1, t_l, t_a, v_l, v_a, np.mean(tt),min_v_l,EPOCHS)\n",
    "#     t = strftime(\"%m/%d/%Y %H:%M:%S\",localtime())\n",
    "#     f.writelines('\\n[{0}],{1},{2}'.format(t, model_name,data))\n",
    "# data"
   ]
  },
  {
   "cell_type": "code",
   "execution_count": 113,
   "metadata": {},
   "outputs": [
    {
     "data": {
      "text/plain": [
       "<matplotlib.axes._subplots.AxesSubplot at 0x7fce81411908>"
      ]
     },
     "metadata": {},
     "output_type": "display_data"
    },
    {
     "data": {
      "text/plain": [
       "<matplotlib.axes._subplots.AxesSubplot at 0x7fce814af5f8>"
      ]
     },
     "metadata": {},
     "output_type": "display_data"
    },
    {
     "data": {
      "image/png": "[encoded data removed]",
      "text/plain": [
       "<Figure size 432x288 with 1 Axes>"
      ]
     },
     "metadata": {
      "needs_background": "light"
     },
     "output_type": "display_data"
    },
    {
     "data": {
      "image/png": "[encoded data removed]",
      "text/plain": [
       "<Figure size 432x288 with 1 Axes>"
      ]
     },
     "metadata": {
      "needs_background": "light"
     },
     "output_type": "display_data"
    }
   ],
   "source": [
    "history = pd.DataFrame()\n",
    "history['tr_acc'] = hist_ta\n",
    "history['val_acc'] = hist_va\n",
    "history['tr_loss'] = hist_tl\n",
    "history['val_loss'] = hist_vl\n",
    "display(history[['tr_acc','val_acc']].plot())\n",
    "display(history[['tr_loss','val_loss']].plot())\n",
    "history.to_csv('../tf_runs/{0}_x_delete.csv'.format(model_name),index=False)"
   ]
  },
  {
   "cell_type": "markdown",
   "metadata": {},
   "source": [
    "# Evaluate"
   ]
  },
  {
   "cell_type": "code",
   "execution_count": null,
   "metadata": {},
   "outputs": [],
   "source": [
    "model.load_weights('../checkpoints/{0}.h5'.format(model_name))"
   ]
  },
  {
   "cell_type": "code",
   "execution_count": 114,
   "metadata": {
    "scrolled": true
   },
   "outputs": [],
   "source": [
    "\n",
    "def predict_captions(image):\n",
    "    start_word = [\"startseq\"]\n",
    "    mask = np.zeros((1,max_wlen,1))+0.001\n",
    "    counter=0\n",
    "    while True:\n",
    "        counter-=1\n",
    "        mask[:,counter,:]=1.0\n",
    "        print(np.sum(mask))\n",
    "        par_caps = [w_to_co[i] for i in start_word]\n",
    "        par_caps = sequence.pad_sequences([par_caps], maxlen=max_wlen, padding='pre',value=0)\n",
    "        preds = model.predict([image, np.array(par_caps),mask])\n",
    "#         print(preds.shape)\n",
    "        idx = preds.argmax(-1)\n",
    "        word_pred = co_to_w[idx[0]]\n",
    "#         print(par_caps)\n",
    "        start_word.append(word_pred)\n",
    "        \n",
    "        if word_pred == \"endseq\" or len(start_word) > max_wlen:\n",
    "            break\n",
    "            \n",
    "    return ' '.join(start_word[1:-1])\n",
    "\n",
    "# print('Predicted:',' '.join(out_text))"
   ]
  },
  {
   "cell_type": "code",
   "execution_count": 117,
   "metadata": {},
   "outputs": [],
   "source": [
    "def beam_search_predictions(image, beam_index = 3):\n",
    "    start = [w_to_co[\"startseq\"]]\n",
    "    \n",
    "    # start_word[0][0] = index of the starting word\n",
    "    # start_word[0][1] = probability of the word predicted\n",
    "    start_word = [[start, 0.0]]\n",
    "    mask = np.zeros((1,max_wlen,1))+0.001\n",
    "    counter=0\n",
    "    while len(start_word[0][0]) < max_wlen:\n",
    "        temp = []\n",
    "        counter-=1\n",
    "        mask[:,counter,:]=1.0\n",
    "#         print(np.sum(mask))\n",
    "        for s in start_word:\n",
    "            \n",
    "            par_caps = sequence.pad_sequences([s[0]], maxlen=max_wlen, padding='pre', value=0)\n",
    "            preds = model.predict([image, np.array(par_caps)])\n",
    "            \n",
    "            # Getting the top <beam_index>(n) predictions\n",
    "            word_preds = np.argsort(preds[0])[-beam_index:]\n",
    "            \n",
    "            # creating a new list so as to put them via the model again\n",
    "            for w in word_preds:\n",
    "                next_cap, prob = s[0][:], s[1]\n",
    "                next_cap.append(w)\n",
    "                prob += preds[0][w]\n",
    "                temp.append([next_cap, prob])\n",
    "                    \n",
    "        start_word = temp\n",
    "        # Sorting according to the probabilities\n",
    "        start_word = sorted(start_word, reverse=False, key=lambda l: l[1])\n",
    "        # Getting the top words\n",
    "        start_word = start_word[-beam_index:]\n",
    "    \n",
    "    start_word = start_word[-1][0]\n",
    "    intermediate_caption = [co_to_w[i] for i in start_word]\n",
    "\n",
    "    final_caption = []\n",
    "    \n",
    "    for i in intermediate_caption:\n",
    "        if i != 'endseq':\n",
    "            final_caption.append(i)\n",
    "        else:\n",
    "            break\n",
    "    \n",
    "    final_caption = ' '.join(final_caption[1:])\n",
    "    return final_caption"
   ]
  },
  {
   "cell_type": "code",
   "execution_count": 118,
   "metadata": {
    "scrolled": true
   },
   "outputs": [
    {
     "data": {
      "application/vnd.jupyter.widget-view+json": {
       "model_id": "232726f31f884bd0ae573dfd293640c8",
       "version_major": 2,
       "version_minor": 0
      },
      "text/plain": [
       "HBox(children=(FloatProgress(value=0.0, max=331.0), HTML(value='')))"
      ]
     },
     "metadata": {},
     "output_type": "display_data"
    },
    {
     "name": "stdout",
     "output_type": "stream",
     "text": [
      "\n"
     ]
    }
   ],
   "source": [
    "ref_sents = []\n",
    "pred_sents = []\n",
    "for counter in tqdm(range(len(test_images_list))):\n",
    "    testx,testy = next(test_gen)\n",
    "    photo = testx['image_input'][0]\n",
    "#     plt.imshow(photo)\n",
    "#     plt.show()\n",
    "    photo = np.expand_dims(photo,0)\n",
    "    \n",
    "#     print('Actual:',testy['actual_sentence'][0])\n",
    "#     print()\n",
    "    # st = time()\n",
    "    # pred_greedy = predict_captions(photo)\n",
    "    # et = time()\n",
    "    # print('Greedy Predicted:{0},[{1:.2f} s]'.format(pred_greedy,et-st))\n",
    "#     st = time()\n",
    "    pred_bm5 = beam_search_predictions(photo,beam_index=5)\n",
    "#     et = time()\n",
    "#     print('Beam-5 Predicted:{0},[{1:.2f} s]'.format(pred_bm5,et-st))\n",
    "    ref_sents.append(testy['actual_sentence'][0])\n",
    "    pred_sents.append(pred_bm5)\n",
    "    if counter==10:\n",
    "        break"
   ]
  },
  {
   "cell_type": "code",
   "execution_count": 119,
   "metadata": {
    "scrolled": true
   },
   "outputs": [
    {
     "data": {
      "text/html": [
       "<div>\n",
       "<style scoped>\n",
       "    .dataframe tbody tr th:only-of-type {\n",
       "        vertical-align: middle;\n",
       "    }\n",
       "\n",
       "    .dataframe tbody tr th {\n",
       "        vertical-align: top;\n",
       "    }\n",
       "\n",
       "    .dataframe thead th {\n",
       "        text-align: right;\n",
       "    }\n",
       "</style>\n",
       "<table border=\"1\" class=\"dataframe\">\n",
       "  <thead>\n",
       "    <tr style=\"text-align: right;\">\n",
       "      <th></th>\n",
       "      <th>Ref</th>\n",
       "      <th>Pred</th>\n",
       "    </tr>\n",
       "  </thead>\n",
       "  <tbody>\n",
       "    <tr>\n",
       "      <th>0</th>\n",
       "      <td>there is chronic asymmetric elevation of the right hemidiaphragm. compared with the prior study, there is mildly increased streaky airspace disease in the right lung base. hilar prominence appears stable. there is no pneumothorax or large pleural effusion. heart size is stable and grossly normal. there no acute bony findings.</td>\n",
       "      <td>the heart size is upper limits of normal . the pulmonary xxxx and mediastinum are within normal limits . there is no pleural effusion or pneumothorax . there is no focal air space opacity to suggest a pneumonia .</td>\n",
       "    </tr>\n",
       "    <tr>\n",
       "      <th>1</th>\n",
       "      <td>this radiograph was xxxx available for my interpretation at xxxx hours xxxx xxxx. there are low lung volumes with associated bronchovascular crowding and basilar subsegmental atelectasis. the cardiomediastinal silhouette and pulmonary vasculature are within normal limits. there is no pneumothorax or pleural effusion. there are no focal areas of consolidation.</td>\n",
       "      <td>the lungs are clear bilaterally . specifically , no evidence of focal consolidation , pneumothorax , or pleural effusion .. cardio mediastinal silhouette is unremarkable . visualized osseous structures of the thorax are without acute abnormality .</td>\n",
       "    </tr>\n",
       "    <tr>\n",
       "      <th>2</th>\n",
       "      <td>the lungs are clear bilaterally. specifically, no evidence of focal consolidation, pneumothorax, or pleural effusion. cardiomediastinal silhouette is unremarkable. heart size upper limit of normal. visualized osseous structures of the thorax are without acute abnormality.</td>\n",
       "      <td>the cardiomediastinal silhouette is within normal limits for size and contour . the lungs are normally inflated without evidence of focal airspace disease , pleural effusion , or pneumothorax . osseous structures are within normal limits for patient age .</td>\n",
       "    </tr>\n",
       "    <tr>\n",
       "      <th>3</th>\n",
       "      <td>frontal and lateral views of the chest show an unchanged cardiomediastinal silhouette. no xxxx focal airspace consolidation or pleural effusion.</td>\n",
       "      <td>the lungs are clear bilaterally . specifically , no evidence of focal consolidation , pneumothorax , or pleural effusion .. cardio mediastinal silhouette is unremarkable . visualized osseous structures of the thorax are without acute abnormality .</td>\n",
       "    </tr>\n",
       "    <tr>\n",
       "      <th>4</th>\n",
       "      <td>heart size within normal limits. no focal airspace disease. stable 4 mm lateral left midlung calcified granuloma. no pneumothorax or pleural effusion.</td>\n",
       "      <td>lungs are clear . heart size within normal . no pneumothorax . left costophrenic opacity may represent pleural or pericardial fat .</td>\n",
       "    </tr>\n",
       "    <tr>\n",
       "      <th>5</th>\n",
       "      <td>the lungs remain hyperexpanded. no masses or infiltrates in the lungs. no pleural or mediastinal air collections. heart size normal.</td>\n",
       "      <td>the heart size is upper limits of normal . the pulmonary xxxx and mediastinum are within normal limits . there is no pleural effusion or pneumothorax . there is no focal air space opacity to suggest a pneumonia .</td>\n",
       "    </tr>\n",
       "    <tr>\n",
       "      <th>6</th>\n",
       "      <td>stable mild cardiomegaly. no pneumothorax, pleural effusion, or focal airspace disease. bony structures intact. right humeral head bone anchor.</td>\n",
       "      <td>the heart size is upper limits of normal . the pulmonary xxxx and mediastinum are within normal limits . there is no pleural effusion or pneumothorax . there is no focal air space opacity to suggest a pneumonia .</td>\n",
       "    </tr>\n",
       "    <tr>\n",
       "      <th>7</th>\n",
       "      <td>there are t-spine osteophytes. there calcified costochondral cartilages. there is loss of disc xxxx of a midthoracic vertebral body. there are streaky opacities in both lung bases which may represent atelectasis or scarring. no pneumothorax. the heart is borderline enlarged.</td>\n",
       "      <td>cardiomediastinal silhouette and pulmonary vasculature are within normal limits . lungs are clear . no pneumothorax or pleural effusion . evidence of prior granulomatous disease . no acute osseous findings .</td>\n",
       "    </tr>\n",
       "    <tr>\n",
       "      <th>8</th>\n",
       "      <td>heart size and mediastinal contour are within normal limits. no focal consolidation, suspicious pulmonary opacity, large pleural effusion, or pneumothorax is identified. again visualized is a wedge-shaped xxxx fracture of t12.</td>\n",
       "      <td>the cardiomediastinal silhouette is within normal limits for appearance . no focal areas of pulmonary consolidation . no pneumothorax . no pleural effusion . the xxxx are grossly normal . there is no visible free intraperitoneal air</td>\n",
       "    </tr>\n",
       "    <tr>\n",
       "      <th>9</th>\n",
       "      <td>cardiac and mediastinal contours are within normal limits. the lungs are clear. bony structures are intact.</td>\n",
       "      <td>the heart size is upper limits of normal . the pulmonary xxxx and mediastinum are within normal limits . there is no pleural effusion or pneumothorax . there is no focal air space opacity , suggest a pneumonia .</td>\n",
       "    </tr>\n",
       "    <tr>\n",
       "      <th>10</th>\n",
       "      <td>the heart size and mediastinal silhouette are within normal limits. no pneumothorax or pleural effusions. the lungs are clear. no focal consolidations. the osseous structures are intact. calcification in the right upper quadrant of the abdomen xxxx consistent with gallstone.</td>\n",
       "      <td>the lungs are clear bilaterally . specifically , no evidence of focal consolidation , pneumothorax , or pleural effusion .. cardio mediastinal silhouette is unremarkable . visualized osseous structures of the thorax are without acute abnormality .</td>\n",
       "    </tr>\n",
       "  </tbody>\n",
       "</table>\n",
       "</div>"
      ],
      "text/plain": [
       "                                                                                                                                                                                                                                                                                                                                                                          Ref  \\\n",
       "0   there is chronic asymmetric elevation of the right hemidiaphragm. compared with the prior study, there is mildly increased streaky airspace disease in the right lung base. hilar prominence appears stable. there is no pneumothorax or large pleural effusion. heart size is stable and grossly normal. there no acute bony findings.                                     \n",
       "1   this radiograph was xxxx available for my interpretation at xxxx hours xxxx xxxx. there are low lung volumes with associated bronchovascular crowding and basilar subsegmental atelectasis. the cardiomediastinal silhouette and pulmonary vasculature are within normal limits. there is no pneumothorax or pleural effusion. there are no focal areas of consolidation.   \n",
       "2   the lungs are clear bilaterally. specifically, no evidence of focal consolidation, pneumothorax, or pleural effusion. cardiomediastinal silhouette is unremarkable. heart size upper limit of normal. visualized osseous structures of the thorax are without acute abnormality.                                                                                            \n",
       "3   frontal and lateral views of the chest show an unchanged cardiomediastinal silhouette. no xxxx focal airspace consolidation or pleural effusion.                                                                                                                                                                                                                            \n",
       "4   heart size within normal limits. no focal airspace disease. stable 4 mm lateral left midlung calcified granuloma. no pneumothorax or pleural effusion.                                                                                                                                                                                                                      \n",
       "5   the lungs remain hyperexpanded. no masses or infiltrates in the lungs. no pleural or mediastinal air collections. heart size normal.                                                                                                                                                                                                                                        \n",
       "6   stable mild cardiomegaly. no pneumothorax, pleural effusion, or focal airspace disease. bony structures intact. right humeral head bone anchor.                                                                                                                                                                                                                             \n",
       "7   there are t-spine osteophytes. there calcified costochondral cartilages. there is loss of disc xxxx of a midthoracic vertebral body. there are streaky opacities in both lung bases which may represent atelectasis or scarring. no pneumothorax. the heart is borderline enlarged.                                                                                         \n",
       "8   heart size and mediastinal contour are within normal limits. no focal consolidation, suspicious pulmonary opacity, large pleural effusion, or pneumothorax is identified. again visualized is a wedge-shaped xxxx fracture of t12.                                                                                                                                          \n",
       "9   cardiac and mediastinal contours are within normal limits. the lungs are clear. bony structures are intact.                                                                                                                                                                                                                                                                 \n",
       "10  the heart size and mediastinal silhouette are within normal limits. no pneumothorax or pleural effusions. the lungs are clear. no focal consolidations. the osseous structures are intact. calcification in the right upper quadrant of the abdomen xxxx consistent with gallstone.                                                                                         \n",
       "\n",
       "                                                                                                                                                                                                                                                               Pred  \n",
       "0   the heart size is upper limits of normal . the pulmonary xxxx and mediastinum are within normal limits . there is no pleural effusion or pneumothorax . there is no focal air space opacity to suggest a pneumonia .                                             \n",
       "1   the lungs are clear bilaterally . specifically , no evidence of focal consolidation , pneumothorax , or pleural effusion .. cardio mediastinal silhouette is unremarkable . visualized osseous structures of the thorax are without acute abnormality .          \n",
       "2   the cardiomediastinal silhouette is within normal limits for size and contour . the lungs are normally inflated without evidence of focal airspace disease , pleural effusion , or pneumothorax . osseous structures are within normal limits for patient age .  \n",
       "3   the lungs are clear bilaterally . specifically , no evidence of focal consolidation , pneumothorax , or pleural effusion .. cardio mediastinal silhouette is unremarkable . visualized osseous structures of the thorax are without acute abnormality .          \n",
       "4   lungs are clear . heart size within normal . no pneumothorax . left costophrenic opacity may represent pleural or pericardial fat .                                                                                                                              \n",
       "5   the heart size is upper limits of normal . the pulmonary xxxx and mediastinum are within normal limits . there is no pleural effusion or pneumothorax . there is no focal air space opacity to suggest a pneumonia .                                             \n",
       "6   the heart size is upper limits of normal . the pulmonary xxxx and mediastinum are within normal limits . there is no pleural effusion or pneumothorax . there is no focal air space opacity to suggest a pneumonia .                                             \n",
       "7   cardiomediastinal silhouette and pulmonary vasculature are within normal limits . lungs are clear . no pneumothorax or pleural effusion . evidence of prior granulomatous disease . no acute osseous findings .                                                  \n",
       "8   the cardiomediastinal silhouette is within normal limits for appearance . no focal areas of pulmonary consolidation . no pneumothorax . no pleural effusion . the xxxx are grossly normal . there is no visible free intraperitoneal air                         \n",
       "9   the heart size is upper limits of normal . the pulmonary xxxx and mediastinum are within normal limits . there is no pleural effusion or pneumothorax . there is no focal air space opacity , suggest a pneumonia .                                              \n",
       "10  the lungs are clear bilaterally . specifically , no evidence of focal consolidation , pneumothorax , or pleural effusion .. cardio mediastinal silhouette is unremarkable . visualized osseous structures of the thorax are without acute abnormality .          "
      ]
     },
     "execution_count": 119,
     "metadata": {},
     "output_type": "execute_result"
    }
   ],
   "source": [
    "\n",
    "# st = time()\n",
    "# pred_greedy = predict_captions(photo)\n",
    "# et = time()\n",
    "# print('Greedy Predicted:{0},[{1:.2f} s]'.format(pred_greedy,et-st))\n",
    "\n",
    "# st = time()\n",
    "# pred_bm3 = beam_search_predictions(photo,beam_index=3)\n",
    "# et = time()\n",
    "# print('Beam-3 Predicted:{0},[{1:.2f} s]'.format(pred_bm3,et-st))\n",
    "\n",
    "# st = time()\n",
    "# pred_bm5 = beam_search_predictions(photo,beam_index=5)\n",
    "# et = time()\n",
    "# print('Beam-5 Predicted:{0},[{1:.2f} s]'.format(pred_bm5,et-st))\n",
    "\n",
    "# st = time()\n",
    "# pred_bm7 = beam_search_predictions(photo,beam_index=7)\n",
    "# et = time()\n",
    "# print('Beam-7 Predicted:{0},[{1:.2f} s]'.format(pred_bm7,et-st))\n",
    "pd.set_option('display.max_colwidth', -1)\n",
    "df_pred = pd.DataFrame()\n",
    "df_pred['Ref'] = ref_sents\n",
    "df_pred['Pred'] = pred_sents\n",
    "df_pred"
   ]
  },
  {
   "cell_type": "code",
   "execution_count": null,
   "metadata": {},
   "outputs": [],
   "source": [
    "from nltk.translate.bleu_score import sentence_bleu\n",
    "from rouge import Rouge\n",
    "rouge = Rouge()\n",
    "reference = nlp(str(vy['actual_sentence'][0]))\n",
    "reference = [[str(x) for x in list(reference)]]\n",
    "\n",
    "\n",
    "# candidate = nlp(pred_greedy)\n",
    "# candidate = [str(x) for x in list(candidate)]\n",
    "# df_result['greedy'] = [sentence_bleu(reference, candidate, weights=(1, 0, 0, 0))\n",
    "#                       ,sentence_bleu(reference, candidate, weights=(0.5, 0.5, 0, 0))\n",
    "#                       ,sentence_bleu(reference, candidate, weights=(0.33, 0.33, 0.33, 0))\n",
    "#                       ,sentence_bleu(reference, candidate, weights=(0.25, 0.25, 0.25, 0.25))]\n",
    "\n",
    "# candidate = nlp(pred_bm3)\n",
    "# candidate = [str(x) for x in list(candidate)]\n",
    "# df_result['bm3'] = [sentence_bleu(reference, candidate, weights=(1, 0, 0, 0))\n",
    "#                       ,sentence_bleu(reference, candidate, weights=(0.5, 0.5, 0, 0))\n",
    "#                       ,sentence_bleu(reference, candidate, weights=(0.33, 0.33, 0.33, 0))\n",
    "#                       ,sentence_bleu(reference, candidate, weights=(0.25, 0.25, 0.25, 0.25))]\n",
    "row = []\n",
    "for i in range(len(ref_sents)):\n",
    "    r = ref_sents[i]\n",
    "    c = pred_sents[i]\n",
    "    reference = nlp(str(r))\n",
    "    reference = [[str(x) for x in list(reference)]]\n",
    "    candidate = nlp(str(c))\n",
    "    candidate = [str(x) for x in list(candidate)]\n",
    "    row.append([sentence_bleu(reference, candidate, weights=(1, 0, 0, 0))\n",
    "                          ,sentence_bleu(reference, candidate, weights=(0.5, 0.5, 0, 0))\n",
    "                          ,sentence_bleu(reference, candidate, weights=(0.33, 0.33, 0.33, 0))\n",
    "                          ,sentence_bleu(reference, candidate, weights=(0.25, 0.25, 0.25, 0.25))\n",
    "                          ,rouge.get_scores(hyps=c,refs=r)[0]['rouge-l']['f']])\n",
    "\n",
    "\n",
    "# candidate = nlp(pred_bm7)\n",
    "# candidate = [str(x) for x in list(candidate)]\n",
    "# df_result['bm7'] = [sentence_bleu(reference, candidate, weights=(1, 0, 0, 0))\n",
    "#                       ,sentence_bleu(reference, candidate, weights=(0.5, 0.5, 0, 0))\n",
    "#                       ,sentence_bleu(reference, candidate, weights=(0.33, 0.33, 0.33, 0))\n",
    "#                       ,sentence_bleu(reference, candidate, weights=(0.25, 0.25, 0.25, 0.25))]\n",
    "df_result = pd.DataFrame(row)\n",
    "df_result.columns = ['BLEU-1','BLEU-2','BLEU-3','BLEU-4','ROUGE-L']\n",
    "df_result=df_result.round(3)"
   ]
  },
  {
   "cell_type": "code",
   "execution_count": null,
   "metadata": {},
   "outputs": [],
   "source": [
    "# ref_sents,pred_sents\n",
    "df_result.mean()"
   ]
  },
  {
   "cell_type": "code",
   "execution_count": null,
   "metadata": {
    "scrolled": true
   },
   "outputs": [],
   "source": [
    "pd.DataFrame(row)"
   ]
  },
  {
   "cell_type": "code",
   "execution_count": null,
   "metadata": {},
   "outputs": [],
   "source": [
    "\n",
    "reference = str(vy['actual_sentence'][0])\n",
    "# reference = [[str(x) for x in list(reference)]]\n",
    "candidate = pre\n",
    "# candidate = [str(x) for x in list(candidate)]\n",
    "ro = rouge.get_scores(hyps=candidate,refs=reference)\n",
    "ro[0]['ROUGE-L']['f']"
   ]
  },
  {
   "cell_type": "code",
   "execution_count": null,
   "metadata": {},
   "outputs": [],
   "source": [
    "pd.DataFrame(ro[0]).T"
   ]
  },
  {
   "cell_type": "code",
   "execution_count": null,
   "metadata": {},
   "outputs": [],
   "source": [
    "from pycocoevalcap.bleu.bleu import Bleu\n",
    "from pycocoevalcap.rouge.rouge import Rouge\n",
    "from pycocoevalcap.cider.cider import Cider\n",
    "from pycocoevalcap.meteor.meteor import Meteor"
   ]
  },
  {
   "cell_type": "code",
   "execution_count": null,
   "metadata": {},
   "outputs": [],
   "source": [
    "def calc_scores(ref, hypo):\n",
    "    \"\"\"\n",
    "    ref, dictionary of reference sentences (id, sentence)\n",
    "    hypo, dictionary of hypothesis sentences (id, sentence)\n",
    "    score, dictionary of scores\n",
    "    \"\"\"\n",
    "    scorers = [\n",
    "#         (Bleu(4), [\"Bleu_1\", \"Bleu_2\", \"Bleu_3\", \"Bleu_4\"]),\n",
    "#         (Meteor(),\"METEOR\"),\n",
    "        (Rouge(), \"ROUGE_L\"),\n",
    "        (Cider(), \"CIDEr\")\n",
    "    ]\n",
    "    final_scores = {}\n",
    "    for scorer, method in scorers:\n",
    "        score, scores = scorer.compute_score(ref, hypo)\n",
    "        if type(score) == list:\n",
    "            for m, s in zip(method, score):\n",
    "                final_scores[m] = s\n",
    "        else:\n",
    "            final_scores[method] = score\n",
    "    return final_scores "
   ]
  },
  {
   "cell_type": "code",
   "execution_count": null,
   "metadata": {},
   "outputs": [],
   "source": [
    "calc_scores(ref=ref_sents,hypo=pred_sents)"
   ]
  },
  {
   "cell_type": "code",
   "execution_count": null,
   "metadata": {},
   "outputs": [],
   "source": [
    "from nlgeval import NLGEval\n",
    "nlgeval = NLGEval()  # loads the models\n"
   ]
  },
  {
   "cell_type": "code",
   "execution_count": null,
   "metadata": {},
   "outputs": [],
   "source": [
    "references = []\n",
    "hypothesis = []\n",
    "import pickle\n",
    "import numpy as np\n",
    "with open('../dataset/chestxray_cnn_attention_decoder_ref_sents.p', 'rb') as file:\n",
    "    # store the data as binary data stream\n",
    "    references=pickle.load(file)\n",
    "with open('../dataset/chestxray_cnn_attention_decoder_pred_sents.p', 'rb') as file:\n",
    "    # store the data as binary data stream\n",
    "    hypothesis=pickle.load(file)\n",
    "    \n",
    "references=np.array(references)\n",
    "hypothesis=np.array(hypothesis)\n",
    "references[:2],hypothesis[:2]"
   ]
  },
  {
   "cell_type": "code",
   "execution_count": null,
   "metadata": {},
   "outputs": [],
   "source": [
    "refs=np.expand_dims(ref_sents,1)\n",
    "# hyps=np.expand_dims(hypothesis,0)\n",
    "refs=refs.tolist()\n",
    "# hyps=hyps.tolist()\n",
    "hypothesis = pred_sents\n",
    "len(refs),len(hypothesis)"
   ]
  },
  {
   "cell_type": "code",
   "execution_count": null,
   "metadata": {},
   "outputs": [],
   "source": [
    "metrics_dict = nlgeval.compute_metrics(refs, hypothesis)"
   ]
  },
  {
   "cell_type": "code",
   "execution_count": null,
   "metadata": {},
   "outputs": [],
   "source": [
    "r = {idx: strippedlines for (idx, strippedlines) in enumerate(refs)}"
   ]
  },
  {
   "cell_type": "code",
   "execution_count": null,
   "metadata": {},
   "outputs": [],
   "source": [
    "len(r)"
   ]
  },
  {
   "cell_type": "code",
   "execution_count": null,
   "metadata": {},
   "outputs": [],
   "source": [
    "h = {idx: [lines.strip()] for (idx, lines) in enumerate(hypothesis)}"
   ]
  },
  {
   "cell_type": "code",
   "execution_count": null,
   "metadata": {},
   "outputs": [],
   "source": [
    "len(h)"
   ]
  },
  {
   "cell_type": "code",
   "execution_count": null,
   "metadata": {},
   "outputs": [],
   "source": [
    "refs[0],hypothesis[0]"
   ]
  },
  {
   "cell_type": "code",
   "execution_count": null,
   "metadata": {},
   "outputs": [],
   "source": [
    "from nlgeval import compute_individual_metrics\n"
   ]
  },
  {
   "cell_type": "code",
   "execution_count": null,
   "metadata": {},
   "outputs": [],
   "source": [
    "metrics_dict = compute_individual_metrics(refs[1], hypothesis[1])"
   ]
  },
  {
   "cell_type": "code",
   "execution_count": null,
   "metadata": {},
   "outputs": [],
   "source": [
    "import pandas as pd\n",
    "df = pd.DataFrame.from_dict(metrics_dict,orient='index').T"
   ]
  },
  {
   "cell_type": "code",
   "execution_count": null,
   "metadata": {},
   "outputs": [],
   "source": [
    "df = pd.DataFrame()\n",
    "for i in range(300):\n",
    "    m = nlgeval.compute_individual_metrics(refs[i], hypothesis[i])\n",
    "    d = pd.DataFrame.from_dict(m,orient='index').T\n",
    "    df = df.append(d)\n",
    "    print(np.around(i*100//300,2),end='\\r')"
   ]
  },
  {
   "cell_type": "code",
   "execution_count": null,
   "metadata": {},
   "outputs": [],
   "source": [
    "df.shape"
   ]
  },
  {
   "cell_type": "code",
   "execution_count": null,
   "metadata": {},
   "outputs": [],
   "source": [
    "df.mean()"
   ]
  },
  {
   "cell_type": "code",
   "execution_count": null,
   "metadata": {},
   "outputs": [],
   "source": [
    "testx,testy = next(test_gen)\n",
    "plt.imshow(testx['image_input'][1])"
   ]
  },
  {
   "cell_type": "code",
   "execution_count": null,
   "metadata": {},
   "outputs": [],
   "source": [
    "testx.keys()"
   ]
  },
  {
   "cell_type": "code",
   "execution_count": null,
   "metadata": {},
   "outputs": [],
   "source": [
    "for layer  in model.layers:\n",
    "    print(layer.name)"
   ]
  },
  {
   "cell_type": "code",
   "execution_count": null,
   "metadata": {},
   "outputs": [],
   "source": [
    "model_img2_text_ca_1 = Model(model.inputs,model.get_layer('img2text_1').output)\n",
    "model_img2_text_ca_2 = Model(model.inputs,model.get_layer('img2text_2').output)\n",
    "model_img2_text_ca_3 = Model(model.inputs,model.get_layer('img2text_3').output)\n",
    "model_img2_text_ca_4 = Model(model.inputs,model.get_layer('img2text_4').output)\n",
    "# model_text2_img_ca_1 = Model(model.inputs,model.get_layer('text2img_1').output)\n",
    "# model_text2_img_ca_2 = Model(model.inputs,model.get_layer('text2img_2').output)\n",
    "# model_text2_img_ca_3 = Model(model.inputs,model.get_layer('text2img_3').output)\n",
    "# model_text2_img_ca_4 = Model(model.inputs,model.get_layer('text2img_4').output)"
   ]
  },
  {
   "cell_type": "code",
   "execution_count": null,
   "metadata": {},
   "outputs": [],
   "source": [
    "fi2t_1,bi2t_1 = model_img2_text_ca_1.predict(testx)\n",
    "fi2t_2,bi2t_2 = model_img2_text_ca_2.predict(testx)\n",
    "fi2t_3,bi2t_3 = model_img2_text_ca_3.predict(testx)\n",
    "fi2t_4,bi2t_4 = model_img2_text_ca_4.predict(testx)\n",
    "# ft2i_1,bt2i_1 = model_text2_img_ca_1.predict(testx)\n",
    "# ft2i_2,bt2i_2 = model_text2_img_ca_2.predict(testx)\n",
    "# ft2i_3,bt2i_3 = model_text2_img_ca_3.predict(testx)\n",
    "# ft2i_4,bt2i_4 = model_text2_img_ca_4.predict(testx)"
   ]
  },
  {
   "cell_type": "code",
   "execution_count": null,
   "metadata": {},
   "outputs": [],
   "source": [
    "fi2t_1.shape,bi2t_1.shape"
   ]
  },
  {
   "cell_type": "code",
   "execution_count": null,
   "metadata": {},
   "outputs": [],
   "source": [
    "# bt2i_add = bt2i_1+bt2i_1+bt2i_1+bt2i_1\n",
    "bi2t_add = bi2t_1+bi2t_1+bi2t_1+bi2t_1"
   ]
  },
  {
   "cell_type": "code",
   "execution_count": null,
   "metadata": {},
   "outputs": [],
   "source": [
    "# bt2i_add.shape\n",
    "bi2t_add.shape"
   ]
  },
  {
   "cell_type": "code",
   "execution_count": null,
   "metadata": {
    "scrolled": true
   },
   "outputs": [],
   "source": [
    "# for j in range(bt2i_add.shape[0]):    \n",
    "#     i=testx['words_input'][j][-1]\n",
    "#     if i!=0:\n",
    "#         print(j,':',co_to_w[i])\n",
    "#         plt.imshow(bt2i_add[j])\n",
    "#         plt.show()\n",
    "for j in range(bi2t_add.shape[0]):    \n",
    "    i=testx['words_input'][j][-1]\n",
    "    if i!=0:\n",
    "        print(j,':',co_to_w[i])\n",
    "        plt.imshow(bi2t_add[j])\n",
    "        plt.show()"
   ]
  },
  {
   "cell_type": "code",
   "execution_count": null,
   "metadata": {
    "scrolled": true
   },
   "outputs": [],
   "source": [
    "\n",
    "for i in range(pd.DataFrame(bt2i_add[j]).shape[0]):\n",
    "    print('Row:{0},Max Col Idx:{1},Max Col Value:{2}'.format(i,np.argmax(bt2i_add[j][i]),np.max(bt2i_add[j][i])))"
   ]
  },
  {
   "cell_type": "code",
   "execution_count": null,
   "metadata": {},
   "outputs": [],
   "source": [
    "plt.imshow(cv2.resize(bt2i_add[j][57].reshape((8,8)),(256,256),cv2.INTER_CUBIC),cmap='jet')"
   ]
  },
  {
   "cell_type": "code",
   "execution_count": null,
   "metadata": {},
   "outputs": [],
   "source": [
    "plt.imshow(testx['image_input'][1])\n",
    "plt.imshow(cv2.resize(bt2i_add[j][57].reshape((8,8)),(256,256),cv2.INTER_CUBIC),cmap='jet',alpha=0.2)"
   ]
  },
  {
   "cell_type": "code",
   "execution_count": null,
   "metadata": {},
   "outputs": [],
   "source": [
    "testx['words_input'].shape"
   ]
  },
  {
   "cell_type": "code",
   "execution_count": null,
   "metadata": {},
   "outputs": [],
   "source": []
  }
 ],
 "metadata": {
  "kernelspec": {
   "display_name": "Python (tf-gpu)",
   "language": "python",
   "name": "tf-gpu"
  },
  "language_info": {
   "codemirror_mode": {
    "name": "ipython",
    "version": 3
   },
   "file_extension": ".py",
   "mimetype": "text/x-python",
   "name": "python",
   "nbconvert_exporter": "python",
   "pygments_lexer": "ipython3",
   "version": "3.5.6"
  },
  "widgets": {
   "application/vnd.jupyter.widget-state+json": {
    "state": {
     "010ddc4d28bb400086c0f716b1b05081": {
      "model_module": "@jupyter-widgets/controls",
      "model_module_version": "1.4.0",
      "model_name": "HTMLModel",
      "state": {
       "layout": "IPY_MODEL_25ba7d4374d64d1ea836263eb885ff1f",
       "style": "IPY_MODEL_a77b20594717439c857484463f15d685",
       "value": " 87/87 [53:44&lt;00:00, 38.10s/it]"
      }
     },
     "0280fe5d1eea4b63be2e80d2bac721e2": {
      "model_module": "@jupyter-widgets/base",
      "model_module_version": "1.1.0",
      "model_name": "LayoutModel",
      "state": {}
     },
     "03bc49a6777843978e3bd9ab0746c4ea": {
      "model_module": "@jupyter-widgets/base",
      "model_module_version": "1.1.0",
      "model_name": "LayoutModel",
      "state": {}
     },
     "0472670dccd64233b3402e3ec774781b": {
      "model_module": "@jupyter-widgets/base",
      "model_module_version": "1.1.0",
      "model_name": "LayoutModel",
      "state": {}
     },
     "052876b3ff7f489388a43f2109559840": {
      "model_module": "@jupyter-widgets/base",
      "model_module_version": "1.1.0",
      "model_name": "LayoutModel",
      "state": {}
     },
     "0618ddd48aa24064bfa7f7aea072302c": {
      "model_module": "@jupyter-widgets/base",
      "model_module_version": "1.1.0",
      "model_name": "LayoutModel",
      "state": {}
     },
     "067983ddd1564ec598fae1fd9300af41": {
      "model_module": "@jupyter-widgets/base",
      "model_module_version": "1.1.0",
      "model_name": "LayoutModel",
      "state": {}
     },
     "0686955cb1b445a68a2a57b2dbaa6d2f": {
      "model_module": "@jupyter-widgets/controls",
      "model_module_version": "1.4.0",
      "model_name": "ProgressStyleModel",
      "state": {
       "description_width": "initial"
      }
     },
     "07ed5e3500a74d40b42007338756ab20": {
      "model_module": "@jupyter-widgets/controls",
      "model_module_version": "1.4.0",
      "model_name": "FloatProgressModel",
      "state": {
       "description": "Val_Iter: 100%",
       "layout": "IPY_MODEL_d5d90296b40a4357acc9ef4fedffddd9",
       "max": 11,
       "style": "IPY_MODEL_7fc0a03f8e284e94b24bf0f7368b30f6",
       "value": 11
      }
     },
     "08055ccfabde4b74823c630e8d8fccc8": {
      "model_module": "@jupyter-widgets/controls",
      "model_module_version": "1.4.0",
      "model_name": "HTMLModel",
      "state": {
       "layout": "IPY_MODEL_179e763d2a5a45f69d34337d684acb56",
       "style": "IPY_MODEL_98cb38a225034c839f812ed49bc98ac2",
       "value": " 11/11 [03:55&lt;00:00, 21.44s/it]"
      }
     },
     "0990ad529e90440894fecbbd7a2ada24": {
      "model_module": "@jupyter-widgets/controls",
      "model_module_version": "1.4.0",
      "model_name": "ProgressStyleModel",
      "state": {
       "description_width": "initial"
      }
     },
     "0a175d8e29c04840a4de3eadcd496bf3": {
      "model_module": "@jupyter-widgets/controls",
      "model_module_version": "1.4.0",
      "model_name": "DescriptionStyleModel",
      "state": {
       "description_width": ""
      }
     },
     "0a4c152367ec46d5b59b5b79e9e443a2": {
      "model_module": "@jupyter-widgets/base",
      "model_module_version": "1.1.0",
      "model_name": "LayoutModel",
      "state": {}
     },
     "0b860d367e804ec2b99a27f85128bbaf": {
      "model_module": "@jupyter-widgets/controls",
      "model_module_version": "1.4.0",
      "model_name": "DescriptionStyleModel",
      "state": {
       "description_width": ""
      }
     },
     "0c4f07398e294335bc2e8a7e16fea46f": {
      "model_module": "@jupyter-widgets/controls",
      "model_module_version": "1.4.0",
      "model_name": "DescriptionStyleModel",
      "state": {
       "description_width": ""
      }
     },
     "0ce5f1018d3c41778f8fab81aec0caf6": {
      "model_module": "@jupyter-widgets/controls",
      "model_module_version": "1.4.0",
      "model_name": "FloatProgressModel",
      "state": {
       "description": "Val_Iter: 100%",
       "layout": "IPY_MODEL_d3e9397743a54c8183dd5c423f86b308",
       "max": 11,
       "style": "IPY_MODEL_4effd6426d614c288a8443c510b2a87b",
       "value": 11
      }
     },
     "0d928394f999419ea2aef54232a33030": {
      "model_module": "@jupyter-widgets/controls",
      "model_module_version": "1.4.0",
      "model_name": "HBoxModel",
      "state": {
       "children": [
        "IPY_MODEL_3574245a70da48d69ba2da2869262c9e",
        "IPY_MODEL_64c5b696c583401189d6062689629b0f"
       ],
       "layout": "IPY_MODEL_3ac70d2d65cf45a6aa51391d273af503"
      }
     },
     "0dfba8164d784be886b31fae8ec54e67": {
      "model_module": "@jupyter-widgets/controls",
      "model_module_version": "1.4.0",
      "model_name": "DescriptionStyleModel",
      "state": {
       "description_width": ""
      }
     },
     "0e522d1d81e94f71a55592563548c143": {
      "model_module": "@jupyter-widgets/base",
      "model_module_version": "1.1.0",
      "model_name": "LayoutModel",
      "state": {}
     },
     "103af0ab7c7b4c30b7a8b13026f4025d": {
      "model_module": "@jupyter-widgets/controls",
      "model_module_version": "1.4.0",
      "model_name": "HTMLModel",
      "state": {
       "layout": "IPY_MODEL_65af2c1ce6cc4a7db329d01b71a01e2e",
       "style": "IPY_MODEL_4c1fd3010ec4457c92504ac15f707a23",
       "value": " 11/11 [03:59&lt;00:00, 21.59s/it]"
      }
     },
     "114db825e35e4419a53098ee3f75e961": {
      "model_module": "@jupyter-widgets/controls",
      "model_module_version": "1.4.0",
      "model_name": "HBoxModel",
      "state": {
       "children": [
        "IPY_MODEL_23eca8db2f42440083f030ef059c1f5a",
        "IPY_MODEL_e23abb7e8ed844639541b3d321db77d6"
       ],
       "layout": "IPY_MODEL_03bc49a6777843978e3bd9ab0746c4ea"
      }
     },
     "128c9f0683a8419db700394458b19137": {
      "model_module": "@jupyter-widgets/controls",
      "model_module_version": "1.4.0",
      "model_name": "DescriptionStyleModel",
      "state": {
       "description_width": ""
      }
     },
     "12910800928f48519c60dc501bda1e52": {
      "model_module": "@jupyter-widgets/base",
      "model_module_version": "1.1.0",
      "model_name": "LayoutModel",
      "state": {}
     },
     "12b6cbaaeb43475ab19d718096325861": {
      "model_module": "@jupyter-widgets/controls",
      "model_module_version": "1.4.0",
      "model_name": "HTMLModel",
      "state": {
       "layout": "IPY_MODEL_95a8d0221b8644288af205b07b05a460",
       "style": "IPY_MODEL_2976b59ab70248f6b95bc162712bbdb2",
       "value": " 0/87 [00:00&lt;?, ?it/s]"
      }
     },
     "13a7bb140ef5437ba0915b4945e3218f": {
      "model_module": "@jupyter-widgets/controls",
      "model_module_version": "1.4.0",
      "model_name": "DescriptionStyleModel",
      "state": {
       "description_width": ""
      }
     },
     "14d2f602a8ef425fb0496f698080154e": {
      "model_module": "@jupyter-widgets/controls",
      "model_module_version": "1.4.0",
      "model_name": "HTMLModel",
      "state": {
       "layout": "IPY_MODEL_12910800928f48519c60dc501bda1e52",
       "style": "IPY_MODEL_7bd832a9bed44210817e0edfcaef2f6a",
       "value": " 11/11 [04:14&lt;00:00, 23.29s/it]"
      }
     },
     "14e9ffc2d75f4e8b9b370037a0f20514": {
      "model_module": "@jupyter-widgets/controls",
      "model_module_version": "1.4.0",
      "model_name": "DescriptionStyleModel",
      "state": {
       "description_width": ""
      }
     },
     "15b40f5b7e434ff18a25568f612fc490": {
      "model_module": "@jupyter-widgets/controls",
      "model_module_version": "1.4.0",
      "model_name": "ProgressStyleModel",
      "state": {
       "description_width": "initial"
      }
     },
     "15c5c40caf5c419384c930ca5cf787bb": {
      "model_module": "@jupyter-widgets/controls",
      "model_module_version": "1.4.0",
      "model_name": "HTMLModel",
      "state": {
       "layout": "IPY_MODEL_fad18746c9e0432bb83862ed21b8a3b6",
       "style": "IPY_MODEL_cddff91b4c7d4f9f93fd18ceda00ee51",
       "value": " 14/87 [08:41&lt;46:06, 37.90s/it]"
      }
     },
     "1607dbcd442b41e69ee3c78719d9024d": {
      "model_module": "@jupyter-widgets/controls",
      "model_module_version": "1.4.0",
      "model_name": "FloatProgressModel",
      "state": {
       "description": "Train_Iter: 100%",
       "layout": "IPY_MODEL_642809ddfbf94c39ad35538cd368e0b2",
       "max": 87,
       "style": "IPY_MODEL_831d94698c33465db8277691c9a69757",
       "value": 87
      }
     },
     "16cdc7cd5bb54a308935142b9776b7d7": {
      "model_module": "@jupyter-widgets/controls",
      "model_module_version": "1.4.0",
      "model_name": "ProgressStyleModel",
      "state": {
       "description_width": "initial"
      }
     },
     "174f37da3ad94a50bbb9c84f0c3383e1": {
      "model_module": "@jupyter-widgets/controls",
      "model_module_version": "1.4.0",
      "model_name": "ProgressStyleModel",
      "state": {
       "description_width": "initial"
      }
     },
     "179e763d2a5a45f69d34337d684acb56": {
      "model_module": "@jupyter-widgets/base",
      "model_module_version": "1.1.0",
      "model_name": "LayoutModel",
      "state": {}
     },
     "183fb3a7584e41329f2efaee99309575": {
      "model_module": "@jupyter-widgets/base",
      "model_module_version": "1.1.0",
      "model_name": "LayoutModel",
      "state": {}
     },
     "1aa0b931cf0f4003a49bb2c157e15353": {
      "model_module": "@jupyter-widgets/controls",
      "model_module_version": "1.4.0",
      "model_name": "HTMLModel",
      "state": {
       "layout": "IPY_MODEL_067983ddd1564ec598fae1fd9300af41",
       "style": "IPY_MODEL_fb0c0b497e6b4e4892750019872f4164",
       "value": " 87/87 [53:43&lt;00:00, 38.17s/it]"
      }
     },
     "1af734f465bb4948a5a1ab0d64bc1255": {
      "model_module": "@jupyter-widgets/base",
      "model_module_version": "1.1.0",
      "model_name": "LayoutModel",
      "state": {}
     },
     "1bd0dc943989432b90e6eecf58d9f409": {
      "model_module": "@jupyter-widgets/controls",
      "model_module_version": "1.4.0",
      "model_name": "HTMLModel",
      "state": {
       "layout": "IPY_MODEL_39428a1a4a0c4e7fae82479685f1175a",
       "style": "IPY_MODEL_13a7bb140ef5437ba0915b4945e3218f",
       "value": " 11/11 [04:21&lt;00:00, 22.43s/it]"
      }
     },
     "1c04700293c6429d92cfa48a870a1913": {
      "model_module": "@jupyter-widgets/controls",
      "model_module_version": "1.4.0",
      "model_name": "ProgressStyleModel",
      "state": {
       "description_width": "initial"
      }
     },
     "1c7085a5ca4e4b0b81d08c57ca94f16f": {
      "model_module": "@jupyter-widgets/base",
      "model_module_version": "1.1.0",
      "model_name": "LayoutModel",
      "state": {}
     },
     "1cb61d70630b4bb3ba593ef1033a0d0d": {
      "model_module": "@jupyter-widgets/controls",
      "model_module_version": "1.4.0",
      "model_name": "HTMLModel",
      "state": {
       "layout": "IPY_MODEL_052876b3ff7f489388a43f2109559840",
       "style": "IPY_MODEL_ff888637100642dca130ec2fb7232e13",
       "value": " 87/87 [53:38&lt;00:00, 37.54s/it]"
      }
     },
     "1e15df9ed4c2438e870aa8434890313f": {
      "model_module": "@jupyter-widgets/base",
      "model_module_version": "1.1.0",
      "model_name": "LayoutModel",
      "state": {}
     },
     "1ef0475776934256bcc2e5e6e89d4935": {
      "model_module": "@jupyter-widgets/controls",
      "model_module_version": "1.4.0",
      "model_name": "ProgressStyleModel",
      "state": {
       "description_width": "initial"
      }
     },
     "1f4a44ce3c704cea8062213e1fa35e37": {
      "model_module": "@jupyter-widgets/controls",
      "model_module_version": "1.4.0",
      "model_name": "HBoxModel",
      "state": {
       "children": [
        "IPY_MODEL_7d752123f9294b29b3a6dfc381a1f6ea",
        "IPY_MODEL_12b6cbaaeb43475ab19d718096325861"
       ],
       "layout": "IPY_MODEL_f6cf5d1a71ca4dd3bce344957887c2e2"
      }
     },
     "1fc6ec1bf412461d97d727cfe944c8bd": {
      "model_module": "@jupyter-widgets/controls",
      "model_module_version": "1.4.0",
      "model_name": "DescriptionStyleModel",
      "state": {
       "description_width": ""
      }
     },
     "1fd2f5558ccf4b31b9546312dc0fa4eb": {
      "model_module": "@jupyter-widgets/base",
      "model_module_version": "1.1.0",
      "model_name": "LayoutModel",
      "state": {}
     },
     "2052b7f46d744fe4bb1239adc0a804a1": {
      "model_module": "@jupyter-widgets/controls",
      "model_module_version": "1.4.0",
      "model_name": "HTMLModel",
      "state": {
       "layout": "IPY_MODEL_ee68112692074b64bf325156e4f8688a",
       "style": "IPY_MODEL_7e3993445e57417eab04babf83884ae5",
       "value": " 20/87 [12:28&lt;42:28, 38.04s/it]"
      }
     },
     "206c3db300ff42f3b4dc3091ffad6c6d": {
      "model_module": "@jupyter-widgets/controls",
      "model_module_version": "1.4.0",
      "model_name": "HTMLModel",
      "state": {
       "layout": "IPY_MODEL_72a2701d461c48f3bcf907977706bcec",
       "style": "IPY_MODEL_b363d1e512884aaf95b42b34d820ffb2",
       "value": " 11/11 [04:14&lt;00:00, 22.85s/it]"
      }
     },
     "233c6fc7f2064032b5b38a7f846f0a49": {
      "model_module": "@jupyter-widgets/controls",
      "model_module_version": "1.4.0",
      "model_name": "DescriptionStyleModel",
      "state": {
       "description_width": ""
      }
     },
     "2368f46ac52e45b6ac26c5697935d13f": {
      "model_module": "@jupyter-widgets/controls",
      "model_module_version": "1.4.0",
      "model_name": "DescriptionStyleModel",
      "state": {
       "description_width": ""
      }
     },
     "23eca8db2f42440083f030ef059c1f5a": {
      "model_module": "@jupyter-widgets/controls",
      "model_module_version": "1.4.0",
      "model_name": "FloatProgressModel",
      "state": {
       "description": "Train_Iter:  43%",
       "layout": "IPY_MODEL_d0732bf7788640a6bc9121156ee49e91",
       "max": 87,
       "style": "IPY_MODEL_5647668a4c3647abadd9b19814cc7803",
       "value": 37
      }
     },
     "25618cf6387049b5b253b52f1ea7e34c": {
      "model_module": "@jupyter-widgets/base",
      "model_module_version": "1.1.0",
      "model_name": "LayoutModel",
      "state": {}
     },
     "25ba7d4374d64d1ea836263eb885ff1f": {
      "model_module": "@jupyter-widgets/base",
      "model_module_version": "1.1.0",
      "model_name": "LayoutModel",
      "state": {}
     },
     "26db79fd49614853b20f7bc21aa215ed": {
      "model_module": "@jupyter-widgets/controls",
      "model_module_version": "1.4.0",
      "model_name": "FloatProgressModel",
      "state": {
       "bar_style": "danger",
       "description": "Epoch:   0%",
       "layout": "IPY_MODEL_6c5c109e97da4d26b7a3495db6929dae",
       "max": 50,
       "style": "IPY_MODEL_b1e2d7a8e5e649378275353af2320df6"
      }
     },
     "277ad9b8b0ed4f829ea7158b73e96419": {
      "model_module": "@jupyter-widgets/controls",
      "model_module_version": "1.4.0",
      "model_name": "DescriptionStyleModel",
      "state": {
       "description_width": ""
      }
     },
     "28f098caa09149a4b787e3b18aa659e0": {
      "model_module": "@jupyter-widgets/base",
      "model_module_version": "1.1.0",
      "model_name": "LayoutModel",
      "state": {}
     },
     "2976b59ab70248f6b95bc162712bbdb2": {
      "model_module": "@jupyter-widgets/controls",
      "model_module_version": "1.4.0",
      "model_name": "DescriptionStyleModel",
      "state": {
       "description_width": ""
      }
     },
     "299a123c88004d90a95bad4b1909050b": {
      "model_module": "@jupyter-widgets/controls",
      "model_module_version": "1.4.0",
      "model_name": "HTMLModel",
      "state": {
       "layout": "IPY_MODEL_41fa75e23a52442fa8231fcfcf969d79",
       "style": "IPY_MODEL_277ad9b8b0ed4f829ea7158b73e96419",
       "value": " 11/50 [12:15:05&lt;43:26:13, 4009.57s/it]"
      }
     },
     "2a683f8f5dfd4be7a36da81adffb8636": {
      "model_module": "@jupyter-widgets/controls",
      "model_module_version": "1.4.0",
      "model_name": "HTMLModel",
      "state": {
       "layout": "IPY_MODEL_0472670dccd64233b3402e3ec774781b",
       "style": "IPY_MODEL_d05bfdc1d87044e28b80471174bd0a84",
       "value": " 87/87 [53:40&lt;00:00, 37.03s/it]"
      }
     },
     "2b2cceb8c6744ad7b83f9c6a6cf6b30e": {
      "model_module": "@jupyter-widgets/base",
      "model_module_version": "1.1.0",
      "model_name": "LayoutModel",
      "state": {}
     },
     "2da891576a284949ad027dd0b57e6309": {
      "model_module": "@jupyter-widgets/base",
      "model_module_version": "1.1.0",
      "model_name": "LayoutModel",
      "state": {}
     },
     "2dd0a930e4b245baa68522a15c599ebe": {
      "model_module": "@jupyter-widgets/base",
      "model_module_version": "1.1.0",
      "model_name": "LayoutModel",
      "state": {}
     },
     "2f2604d040cd4e2c931a8556bdf06a2c": {
      "model_module": "@jupyter-widgets/controls",
      "model_module_version": "1.4.0",
      "model_name": "FloatProgressModel",
      "state": {
       "bar_style": "danger",
       "description": "Epoch:  22%",
       "layout": "IPY_MODEL_414ff709849b4d8a8190e1b7967830e8",
       "max": 50,
       "style": "IPY_MODEL_f4a6256c58fb44da8addb1cdd48b1897",
       "value": 11
      }
     },
     "30cd64466d524a50a7561c05ce55b293": {
      "model_module": "@jupyter-widgets/controls",
      "model_module_version": "1.4.0",
      "model_name": "FloatProgressModel",
      "state": {
       "description": "Val_Iter: 100%",
       "layout": "IPY_MODEL_b942a08c21a14c79b4862929ca4e44ed",
       "max": 11,
       "style": "IPY_MODEL_c2019ab6cc6843d5b68403a2fb39a40f",
       "value": 11
      }
     },
     "31b89e1614474eaab0c3b7d1104d61fd": {
      "model_module": "@jupyter-widgets/controls",
      "model_module_version": "1.4.0",
      "model_name": "HTMLModel",
      "state": {
       "layout": "IPY_MODEL_d2e048076ea44a0b9681772c4b19ac99",
       "style": "IPY_MODEL_233c6fc7f2064032b5b38a7f846f0a49",
       "value": " 11/11 [04:14&lt;00:00, 22.88s/it]"
      }
     },
     "32052d5b6bb74e45b4c2955fe358c608": {
      "model_module": "@jupyter-widgets/base",
      "model_module_version": "1.1.0",
      "model_name": "LayoutModel",
      "state": {}
     },
     "3222034cb75047439727f33acbc835f3": {
      "model_module": "@jupyter-widgets/controls",
      "model_module_version": "1.4.0",
      "model_name": "ProgressStyleModel",
      "state": {
       "description_width": "initial"
      }
     },
     "33d85586094d4b28b6e50bd2dd88c393": {
      "model_module": "@jupyter-widgets/base",
      "model_module_version": "1.1.0",
      "model_name": "LayoutModel",
      "state": {}
     },
     "33e56bf2ab4b49ea974432b4915e6995": {
      "model_module": "@jupyter-widgets/controls",
      "model_module_version": "1.4.0",
      "model_name": "ProgressStyleModel",
      "state": {
       "description_width": "initial"
      }
     },
     "34f72400330f4d07a38e0c7007b5dc36": {
      "model_module": "@jupyter-widgets/base",
      "model_module_version": "1.1.0",
      "model_name": "LayoutModel",
      "state": {}
     },
     "3574245a70da48d69ba2da2869262c9e": {
      "model_module": "@jupyter-widgets/controls",
      "model_module_version": "1.4.0",
      "model_name": "FloatProgressModel",
      "state": {
       "bar_style": "danger",
       "description": " 35%",
       "layout": "IPY_MODEL_97feac2b54ef413c957e919082d30aab",
       "max": 6457,
       "style": "IPY_MODEL_a948bb65c4f845c5a225b0cfeac71865",
       "value": 2284
      }
     },
     "35ee73941b254fc39ad724ef715986f9": {
      "model_module": "@jupyter-widgets/base",
      "model_module_version": "1.1.0",
      "model_name": "LayoutModel",
      "state": {}
     },
     "3873619e15984e2785999a5082af8b55": {
      "model_module": "@jupyter-widgets/controls",
      "model_module_version": "1.4.0",
      "model_name": "DescriptionStyleModel",
      "state": {
       "description_width": ""
      }
     },
     "39428a1a4a0c4e7fae82479685f1175a": {
      "model_module": "@jupyter-widgets/base",
      "model_module_version": "1.1.0",
      "model_name": "LayoutModel",
      "state": {}
     },
     "3a8c10a932fe472babbe645033502fa0": {
      "model_module": "@jupyter-widgets/base",
      "model_module_version": "1.1.0",
      "model_name": "LayoutModel",
      "state": {}
     },
     "3ac70d2d65cf45a6aa51391d273af503": {
      "model_module": "@jupyter-widgets/base",
      "model_module_version": "1.1.0",
      "model_name": "LayoutModel",
      "state": {}
     },
     "3ae8e75c806b428badfd2e79fcc04522": {
      "model_module": "@jupyter-widgets/controls",
      "model_module_version": "1.4.0",
      "model_name": "HTMLModel",
      "state": {
       "layout": "IPY_MODEL_bdb5c406e60940d9947711013c06dfc9",
       "style": "IPY_MODEL_a3e3e464843b412ea010c6e32d57e2ea",
       "value": " 87/87 [59:51&lt;00:00, 42.73s/it]"
      }
     },
     "3b9c9abcfa6749f5b8daef92ba55ca51": {
      "model_module": "@jupyter-widgets/controls",
      "model_module_version": "1.4.0",
      "model_name": "DescriptionStyleModel",
      "state": {
       "description_width": ""
      }
     },
     "3d568180d0a0447da7ed25233270edc1": {
      "model_module": "@jupyter-widgets/controls",
      "model_module_version": "1.4.0",
      "model_name": "ProgressStyleModel",
      "state": {
       "description_width": "initial"
      }
     },
     "3dbc414d37b8494fb9af0c7258d680eb": {
      "model_module": "@jupyter-widgets/base",
      "model_module_version": "1.1.0",
      "model_name": "LayoutModel",
      "state": {}
     },
     "3f0d8579920b4854bb0ffff145fdcbe9": {
      "model_module": "@jupyter-widgets/controls",
      "model_module_version": "1.4.0",
      "model_name": "DescriptionStyleModel",
      "state": {
       "description_width": ""
      }
     },
     "3f4226ec5d264b4a87de98027d90691b": {
      "model_module": "@jupyter-widgets/base",
      "model_module_version": "1.1.0",
      "model_name": "LayoutModel",
      "state": {}
     },
     "3f49c4d5a8d749a7a009224bc5fab633": {
      "model_module": "@jupyter-widgets/base",
      "model_module_version": "1.1.0",
      "model_name": "LayoutModel",
      "state": {}
     },
     "3fdbb4b6ca1a46f1ae94a7846f7e7267": {
      "model_module": "@jupyter-widgets/controls",
      "model_module_version": "1.4.0",
      "model_name": "FloatProgressModel",
      "state": {
       "description": "Val_Iter: 100%",
       "layout": "IPY_MODEL_183fb3a7584e41329f2efaee99309575",
       "max": 11,
       "style": "IPY_MODEL_f25e75beeca740db9182d098cc3d20a5",
       "value": 11
      }
     },
     "4023f171a7874f8899a65db161ef35b1": {
      "model_module": "@jupyter-widgets/base",
      "model_module_version": "1.1.0",
      "model_name": "LayoutModel",
      "state": {}
     },
     "414ff709849b4d8a8190e1b7967830e8": {
      "model_module": "@jupyter-widgets/base",
      "model_module_version": "1.1.0",
      "model_name": "LayoutModel",
      "state": {}
     },
     "41cfc74d325a4be8837fd2d79302e779": {
      "model_module": "@jupyter-widgets/base",
      "model_module_version": "1.1.0",
      "model_name": "LayoutModel",
      "state": {}
     },
     "41fa75e23a52442fa8231fcfcf969d79": {
      "model_module": "@jupyter-widgets/base",
      "model_module_version": "1.1.0",
      "model_name": "LayoutModel",
      "state": {}
     },
     "4248956d1ef34c569b644273409e5925": {
      "model_module": "@jupyter-widgets/base",
      "model_module_version": "1.1.0",
      "model_name": "LayoutModel",
      "state": {}
     },
     "424a9809d0f64e3587d73fe61c83e0d5": {
      "model_module": "@jupyter-widgets/base",
      "model_module_version": "1.1.0",
      "model_name": "LayoutModel",
      "state": {}
     },
     "427b8564f3a747aea3fa9ca24b14c7fc": {
      "model_module": "@jupyter-widgets/controls",
      "model_module_version": "1.4.0",
      "model_name": "HTMLModel",
      "state": {
       "layout": "IPY_MODEL_db7a537757e44ad39a014785f7a30362",
       "style": "IPY_MODEL_c3c6151d1dda4a64ae67d4c9afb1587f",
       "value": " 11/11 [04:13&lt;00:00, 22.91s/it]"
      }
     },
     "432456c5b30844dd8eeb54c1c628da7a": {
      "model_module": "@jupyter-widgets/base",
      "model_module_version": "1.1.0",
      "model_name": "LayoutModel",
      "state": {}
     },
     "4818c0996a3e4d90acfd3f7f5f81ae5c": {
      "model_module": "@jupyter-widgets/controls",
      "model_module_version": "1.4.0",
      "model_name": "HBoxModel",
      "state": {
       "children": [
        "IPY_MODEL_b259e15f64a64172a636c01ad50098d0",
        "IPY_MODEL_71dc3c1adab4472e8978e61e23d341ad"
       ],
       "layout": "IPY_MODEL_48b5d832f8024af08c0c1ef9c0ad66d0"
      }
     },
     "48b5d832f8024af08c0c1ef9c0ad66d0": {
      "model_module": "@jupyter-widgets/base",
      "model_module_version": "1.1.0",
      "model_name": "LayoutModel",
      "state": {}
     },
     "4a3179508394429590f82e82793aaaa6": {
      "model_module": "@jupyter-widgets/base",
      "model_module_version": "1.1.0",
      "model_name": "LayoutModel",
      "state": {}
     },
     "4b2ec9ef9a4c448caa770602116d00ae": {
      "model_module": "@jupyter-widgets/controls",
      "model_module_version": "1.4.0",
      "model_name": "DescriptionStyleModel",
      "state": {
       "description_width": ""
      }
     },
     "4bd542d1178e4888bedd5c78c5626c20": {
      "model_module": "@jupyter-widgets/controls",
      "model_module_version": "1.4.0",
      "model_name": "HTMLModel",
      "state": {
       "layout": "IPY_MODEL_572c5e5181f74bda896ea80d2a413758",
       "style": "IPY_MODEL_14e9ffc2d75f4e8b9b370037a0f20514",
       "value": " 0/50 [2:50:59&lt;?, ?it/s]"
      }
     },
     "4c1fd3010ec4457c92504ac15f707a23": {
      "model_module": "@jupyter-widgets/controls",
      "model_module_version": "1.4.0",
      "model_name": "DescriptionStyleModel",
      "state": {
       "description_width": ""
      }
     },
     "4d9a1459eb6346a69de0df6b350048f0": {
      "model_module": "@jupyter-widgets/base",
      "model_module_version": "1.1.0",
      "model_name": "LayoutModel",
      "state": {}
     },
     "4e1c605555124d1aa818cc4349e12e0f": {
      "model_module": "@jupyter-widgets/base",
      "model_module_version": "1.1.0",
      "model_name": "LayoutModel",
      "state": {}
     },
     "4e948c5ef8114323b473a06cc7205d06": {
      "model_module": "@jupyter-widgets/base",
      "model_module_version": "1.1.0",
      "model_name": "LayoutModel",
      "state": {}
     },
     "4effd6426d614c288a8443c510b2a87b": {
      "model_module": "@jupyter-widgets/controls",
      "model_module_version": "1.4.0",
      "model_name": "ProgressStyleModel",
      "state": {
       "description_width": "initial"
      }
     },
     "4f72ae606cf54b30bedc548cfba83159": {
      "model_module": "@jupyter-widgets/controls",
      "model_module_version": "1.4.0",
      "model_name": "HTMLModel",
      "state": {
       "layout": "IPY_MODEL_d0d00490b5b444eeac02f354c42837b5",
       "style": "IPY_MODEL_b84c1ac1e6b847ba8e0b448a1a2ac678",
       "value": " 6457/6457 [06:45&lt;00:00, 15.94it/s]"
      }
     },
     "507dde58c9494a5e9e522790c4ff7462": {
      "model_module": "@jupyter-widgets/base",
      "model_module_version": "1.1.0",
      "model_name": "LayoutModel",
      "state": {}
     },
     "511ed06687054c0d8889312db90468ca": {
      "model_module": "@jupyter-widgets/base",
      "model_module_version": "1.1.0",
      "model_name": "LayoutModel",
      "state": {}
     },
     "513470ba074f4c68a07a7ef5980c382c": {
      "model_module": "@jupyter-widgets/controls",
      "model_module_version": "1.4.0",
      "model_name": "HTMLModel",
      "state": {
       "layout": "IPY_MODEL_6da61a05d5b346669cd8ec201f979f34",
       "style": "IPY_MODEL_dfa7b7f2a48c463fb67c90fcb38b1552",
       "value": " 11/11 [04:11&lt;00:00, 22.56s/it]"
      }
     },
     "52392695bc774640ab2955a17257b3d4": {
      "model_module": "@jupyter-widgets/base",
      "model_module_version": "1.1.0",
      "model_name": "LayoutModel",
      "state": {}
     },
     "53400f5227134c45b4a39c0cdc625a9b": {
      "model_module": "@jupyter-widgets/controls",
      "model_module_version": "1.4.0",
      "model_name": "FloatProgressModel",
      "state": {
       "description": "Val_Iter: 100%",
       "layout": "IPY_MODEL_6cde6b30b4ae4ce7b86d38f7ae43c9d7",
       "max": 11,
       "style": "IPY_MODEL_fbeac5f84b0242389a1102667432c47b",
       "value": 11
      }
     },
     "54d5d5dc8bbc458682c1cb77e4380b30": {
      "model_module": "@jupyter-widgets/controls",
      "model_module_version": "1.4.0",
      "model_name": "ProgressStyleModel",
      "state": {
       "description_width": "initial"
      }
     },
     "5647668a4c3647abadd9b19814cc7803": {
      "model_module": "@jupyter-widgets/controls",
      "model_module_version": "1.4.0",
      "model_name": "ProgressStyleModel",
      "state": {
       "description_width": "initial"
      }
     },
     "572c5e5181f74bda896ea80d2a413758": {
      "model_module": "@jupyter-widgets/base",
      "model_module_version": "1.1.0",
      "model_name": "LayoutModel",
      "state": {}
     },
     "5957e1c24f834d149ee611310047e5c6": {
      "model_module": "@jupyter-widgets/controls",
      "model_module_version": "1.4.0",
      "model_name": "FloatProgressModel",
      "state": {
       "description": "Train_Iter: 100%",
       "layout": "IPY_MODEL_a53a933da21143eab8aca856165a6bb3",
       "max": 87,
       "style": "IPY_MODEL_0686955cb1b445a68a2a57b2dbaa6d2f",
       "value": 87
      }
     },
     "5a58d9469e09466e80609040f8d89430": {
      "model_module": "@jupyter-widgets/controls",
      "model_module_version": "1.4.0",
      "model_name": "ProgressStyleModel",
      "state": {
       "description_width": "initial"
      }
     },
     "5bd3ea47a2b142418ebf03e642e81071": {
      "model_module": "@jupyter-widgets/controls",
      "model_module_version": "1.4.0",
      "model_name": "HTMLModel",
      "state": {
       "layout": "IPY_MODEL_4e1c605555124d1aa818cc4349e12e0f",
       "style": "IPY_MODEL_0dfba8164d784be886b31fae8ec54e67",
       "value": " 11/11 [04:02&lt;00:00, 21.72s/it]"
      }
     },
     "5c1d0170e8e246e6ac8a430066fc4e47": {
      "model_module": "@jupyter-widgets/controls",
      "model_module_version": "1.4.0",
      "model_name": "HTMLModel",
      "state": {
       "layout": "IPY_MODEL_caeb75d385024953bb341830c880e69d",
       "style": "IPY_MODEL_2368f46ac52e45b6ac26c5697935d13f",
       "value": " 87/87 [53:41&lt;00:00, 37.20s/it]"
      }
     },
     "5d69211013eb4bfe8c44742799be75a2": {
      "model_module": "@jupyter-widgets/base",
      "model_module_version": "1.1.0",
      "model_name": "LayoutModel",
      "state": {}
     },
     "5d754b4cec1f49c9b585000654830094": {
      "model_module": "@jupyter-widgets/base",
      "model_module_version": "1.1.0",
      "model_name": "LayoutModel",
      "state": {}
     },
     "5dde6fdca1984060a91b6308eb096b87": {
      "model_module": "@jupyter-widgets/controls",
      "model_module_version": "1.4.0",
      "model_name": "DescriptionStyleModel",
      "state": {
       "description_width": ""
      }
     },
     "60e38d9af7f84d6196bcab9a0a12ccff": {
      "model_module": "@jupyter-widgets/base",
      "model_module_version": "1.1.0",
      "model_name": "LayoutModel",
      "state": {}
     },
     "611905a93b2b4c6487307c61a184b95e": {
      "model_module": "@jupyter-widgets/base",
      "model_module_version": "1.1.0",
      "model_name": "LayoutModel",
      "state": {}
     },
     "6122c3ddb0a84369a649d27570570cbc": {
      "model_module": "@jupyter-widgets/controls",
      "model_module_version": "1.4.0",
      "model_name": "DescriptionStyleModel",
      "state": {
       "description_width": ""
      }
     },
     "62a8ccb44b49489991920aec336526d8": {
      "model_module": "@jupyter-widgets/controls",
      "model_module_version": "1.4.0",
      "model_name": "DescriptionStyleModel",
      "state": {
       "description_width": ""
      }
     },
     "64247600538a4f42817056653504d453": {
      "model_module": "@jupyter-widgets/controls",
      "model_module_version": "1.4.0",
      "model_name": "ProgressStyleModel",
      "state": {
       "description_width": "initial"
      }
     },
     "642809ddfbf94c39ad35538cd368e0b2": {
      "model_module": "@jupyter-widgets/base",
      "model_module_version": "1.1.0",
      "model_name": "LayoutModel",
      "state": {}
     },
     "643c96d8fd9e485096937d7433b2be05": {
      "model_module": "@jupyter-widgets/base",
      "model_module_version": "1.1.0",
      "model_name": "LayoutModel",
      "state": {}
     },
     "648a2e23ffdc48108561842b13cd2d2c": {
      "model_module": "@jupyter-widgets/controls",
      "model_module_version": "1.4.0",
      "model_name": "FloatProgressModel",
      "state": {
       "description": "Train_Iter: 100%",
       "layout": "IPY_MODEL_3dbc414d37b8494fb9af0c7258d680eb",
       "max": 87,
       "style": "IPY_MODEL_ce2f97fc059a4b3791e7b9904c87527d",
       "value": 87
      }
     },
     "64c5b696c583401189d6062689629b0f": {
      "model_module": "@jupyter-widgets/controls",
      "model_module_version": "1.4.0",
      "model_name": "HTMLModel",
      "state": {
       "layout": "IPY_MODEL_4e948c5ef8114323b473a06cc7205d06",
       "style": "IPY_MODEL_d36a249433494db0a1022865722b618f",
       "value": " 2284/6457 [00:45&lt;01:22, 50.41it/s]"
      }
     },
     "65af2c1ce6cc4a7db329d01b71a01e2e": {
      "model_module": "@jupyter-widgets/base",
      "model_module_version": "1.1.0",
      "model_name": "LayoutModel",
      "state": {}
     },
     "664a29ec8c9246aabf75dae01b0f3e5e": {
      "model_module": "@jupyter-widgets/controls",
      "model_module_version": "1.4.0",
      "model_name": "ProgressStyleModel",
      "state": {
       "description_width": "initial"
      }
     },
     "66d19137fd8048cfb431c5f62eacf57a": {
      "model_module": "@jupyter-widgets/controls",
      "model_module_version": "1.4.0",
      "model_name": "HBoxModel",
      "state": {
       "children": [
        "IPY_MODEL_7d403306fab74c0285e4878e6d77c86d",
        "IPY_MODEL_2052b7f46d744fe4bb1239adc0a804a1"
       ],
       "layout": "IPY_MODEL_b402622cb6dc45859f9a6e15368b11b6"
      }
     },
     "66d40863d215472f9e7fec24b8f20b1f": {
      "model_module": "@jupyter-widgets/controls",
      "model_module_version": "1.4.0",
      "model_name": "DescriptionStyleModel",
      "state": {
       "description_width": ""
      }
     },
     "6c3d784744bd469d912b7c5de8887850": {
      "model_module": "@jupyter-widgets/controls",
      "model_module_version": "1.4.0",
      "model_name": "HBoxModel",
      "state": {
       "children": [
        "IPY_MODEL_80aa0c2d0c84425e8451a25c920e8ff7",
        "IPY_MODEL_ce8dd747fe9541548a17101e18619576"
       ],
       "layout": "IPY_MODEL_0e522d1d81e94f71a55592563548c143"
      }
     },
     "6c5c109e97da4d26b7a3495db6929dae": {
      "model_module": "@jupyter-widgets/base",
      "model_module_version": "1.1.0",
      "model_name": "LayoutModel",
      "state": {}
     },
     "6cde6b30b4ae4ce7b86d38f7ae43c9d7": {
      "model_module": "@jupyter-widgets/base",
      "model_module_version": "1.1.0",
      "model_name": "LayoutModel",
      "state": {}
     },
     "6da61a05d5b346669cd8ec201f979f34": {
      "model_module": "@jupyter-widgets/base",
      "model_module_version": "1.1.0",
      "model_name": "LayoutModel",
      "state": {}
     },
     "6e00e952dd9d4ced98ef4568248aaf4b": {
      "model_module": "@jupyter-widgets/controls",
      "model_module_version": "1.4.0",
      "model_name": "FloatProgressModel",
      "state": {
       "description": "Train_Iter: 100%",
       "layout": "IPY_MODEL_2dd0a930e4b245baa68522a15c599ebe",
       "max": 87,
       "style": "IPY_MODEL_98e59edbdef241ac9739720c6e370017",
       "value": 87
      }
     },
     "6ec51792af4c4f72b7f209be2bc4a765": {
      "model_module": "@jupyter-widgets/controls",
      "model_module_version": "1.4.0",
      "model_name": "DescriptionStyleModel",
      "state": {
       "description_width": ""
      }
     },
     "70e4a339eef74c9a8d4a5ccb8f8bc1c8": {
      "model_module": "@jupyter-widgets/controls",
      "model_module_version": "1.4.0",
      "model_name": "ProgressStyleModel",
      "state": {
       "description_width": "initial"
      }
     },
     "71dc3c1adab4472e8978e61e23d341ad": {
      "model_module": "@jupyter-widgets/controls",
      "model_module_version": "1.4.0",
      "model_name": "HTMLModel",
      "state": {
       "layout": "IPY_MODEL_611905a93b2b4c6487307c61a184b95e",
       "style": "IPY_MODEL_0b860d367e804ec2b99a27f85128bbaf",
       "value": " 3389/6457 [01:08&lt;01:02, 49.43it/s]"
      }
     },
     "729395fdd02048cd83598302b78a5235": {
      "model_module": "@jupyter-widgets/base",
      "model_module_version": "1.1.0",
      "model_name": "LayoutModel",
      "state": {}
     },
     "72a2701d461c48f3bcf907977706bcec": {
      "model_module": "@jupyter-widgets/base",
      "model_module_version": "1.1.0",
      "model_name": "LayoutModel",
      "state": {}
     },
     "73ef2f10fc1b4122a0d0ac2dd2c3eafd": {
      "model_module": "@jupyter-widgets/controls",
      "model_module_version": "1.4.0",
      "model_name": "HTMLModel",
      "state": {
       "layout": "IPY_MODEL_f25bc9a262e6463a85e7f09bc746f686",
       "style": "IPY_MODEL_5dde6fdca1984060a91b6308eb096b87",
       "value": " 11/11 [04:16&lt;00:00, 23.51s/it]"
      }
     },
     "74d59e14424b4ffbb01853720662bfec": {
      "model_module": "@jupyter-widgets/base",
      "model_module_version": "1.1.0",
      "model_name": "LayoutModel",
      "state": {}
     },
     "74e89dfc4d344adbb97818b7653cffa4": {
      "model_module": "@jupyter-widgets/controls",
      "model_module_version": "1.4.0",
      "model_name": "HTMLModel",
      "state": {
       "layout": "IPY_MODEL_afaba5099986406f9e58a97ee54db2fb",
       "style": "IPY_MODEL_4b2ec9ef9a4c448caa770602116d00ae",
       "value": " 11/11 [04:05&lt;00:00, 22.15s/it]"
      }
     },
     "75d4faf6982d41a1aaca6d065234257d": {
      "model_module": "@jupyter-widgets/controls",
      "model_module_version": "1.4.0",
      "model_name": "FloatProgressModel",
      "state": {
       "description": "Val_Iter: 100%",
       "layout": "IPY_MODEL_f10d68d5ff6944dd87530bd23c0ff692",
       "max": 11,
       "style": "IPY_MODEL_fd7ce960db12442f90422ac8c14e3686",
       "value": 11
      }
     },
     "77d708b4887e41deb01780db29dbb513": {
      "model_module": "@jupyter-widgets/controls",
      "model_module_version": "1.4.0",
      "model_name": "FloatProgressModel",
      "state": {
       "description": "Val_Iter: 100%",
       "layout": "IPY_MODEL_d08af3e0fc974cadad3c33e76efa7cff",
       "max": 11,
       "style": "IPY_MODEL_f99bedd6659c48bc8fed09751d1ebd75",
       "value": 11
      }
     },
     "787b8e9ce5394780992242357f19513d": {
      "model_module": "@jupyter-widgets/controls",
      "model_module_version": "1.4.0",
      "model_name": "FloatProgressModel",
      "state": {
       "description": "Val_Iter: 100%",
       "layout": "IPY_MODEL_a1879834b0b5450b88a9aeea026b71fd",
       "max": 11,
       "style": "IPY_MODEL_e5ccf06e9c4d422b9206cf17fdccb835",
       "value": 11
      }
     },
     "78ba93fce5c54c3680782ac46456eb2b": {
      "model_module": "@jupyter-widgets/controls",
      "model_module_version": "1.4.0",
      "model_name": "HTMLModel",
      "state": {
       "layout": "IPY_MODEL_82e393822d07459b9609ab1520a1b956",
       "style": "IPY_MODEL_e49b2392bbf449b28d6c8a7510038fa5",
       "value": " 0/87 [2:50:59&lt;?, ?it/s]"
      }
     },
     "7940b28c77544881b9c8c1e7ffa47634": {
      "model_module": "@jupyter-widgets/controls",
      "model_module_version": "1.4.0",
      "model_name": "ProgressStyleModel",
      "state": {
       "description_width": "initial"
      }
     },
     "79b23caa99ab4fcfaa1bd525fc54dd6e": {
      "model_module": "@jupyter-widgets/base",
      "model_module_version": "1.1.0",
      "model_name": "LayoutModel",
      "state": {}
     },
     "7a1ce6b54c07406eae5a9f0a5dc23852": {
      "model_module": "@jupyter-widgets/base",
      "model_module_version": "1.1.0",
      "model_name": "LayoutModel",
      "state": {}
     },
     "7b76244a956b40038131605737f79aeb": {
      "model_module": "@jupyter-widgets/controls",
      "model_module_version": "1.4.0",
      "model_name": "HBoxModel",
      "state": {
       "children": [
        "IPY_MODEL_9ffff54b3ae146ffa03ea245daa4ef0f",
        "IPY_MODEL_15c5c40caf5c419384c930ca5cf787bb"
       ],
       "layout": "IPY_MODEL_511ed06687054c0d8889312db90468ca"
      }
     },
     "7bd832a9bed44210817e0edfcaef2f6a": {
      "model_module": "@jupyter-widgets/controls",
      "model_module_version": "1.4.0",
      "model_name": "DescriptionStyleModel",
      "state": {
       "description_width": ""
      }
     },
     "7c0c27deb4c14fabb089f6742d4ed759": {
      "model_module": "@jupyter-widgets/controls",
      "model_module_version": "1.4.0",
      "model_name": "FloatProgressModel",
      "state": {
       "description": "Train_Iter: 100%",
       "layout": "IPY_MODEL_79b23caa99ab4fcfaa1bd525fc54dd6e",
       "max": 87,
       "style": "IPY_MODEL_e4d6aa24b23542cca64e6b6bbc957290",
       "value": 87
      }
     },
     "7c0f72b58f434862a6d7469d19591738": {
      "model_module": "@jupyter-widgets/controls",
      "model_module_version": "1.4.0",
      "model_name": "FloatProgressModel",
      "state": {
       "description": "Val_Iter: 100%",
       "layout": "IPY_MODEL_35ee73941b254fc39ad724ef715986f9",
       "max": 11,
       "style": "IPY_MODEL_1c04700293c6429d92cfa48a870a1913",
       "value": 11
      }
     },
     "7c7c8065e8094d2bb28785e68d3d6e5e": {
      "model_module": "@jupyter-widgets/base",
      "model_module_version": "1.1.0",
      "model_name": "LayoutModel",
      "state": {}
     },
     "7d403306fab74c0285e4878e6d77c86d": {
      "model_module": "@jupyter-widgets/controls",
      "model_module_version": "1.4.0",
      "model_name": "FloatProgressModel",
      "state": {
       "bar_style": "danger",
       "description": "Train_Iter:  23%",
       "layout": "IPY_MODEL_f36138565c29487b922a0b6eb8a8e4f0",
       "max": 87,
       "style": "IPY_MODEL_0990ad529e90440894fecbbd7a2ada24",
       "value": 20
      }
     },
     "7d752123f9294b29b3a6dfc381a1f6ea": {
      "model_module": "@jupyter-widgets/controls",
      "model_module_version": "1.4.0",
      "model_name": "FloatProgressModel",
      "state": {
       "description": "Train_Iter:   0%",
       "layout": "IPY_MODEL_824bff6353cd4dc9a915b327592b1adf",
       "max": 87,
       "style": "IPY_MODEL_8ba1594aacea484aa393a857bd9e0ddf"
      }
     },
     "7e3993445e57417eab04babf83884ae5": {
      "model_module": "@jupyter-widgets/controls",
      "model_module_version": "1.4.0",
      "model_name": "DescriptionStyleModel",
      "state": {
       "description_width": ""
      }
     },
     "7e7ce718a7bc43b2923e4a14ae9ca300": {
      "model_module": "@jupyter-widgets/controls",
      "model_module_version": "1.4.0",
      "model_name": "FloatProgressModel",
      "state": {
       "description": "Val_Iter: 100%",
       "layout": "IPY_MODEL_4d9a1459eb6346a69de0df6b350048f0",
       "max": 11,
       "style": "IPY_MODEL_174f37da3ad94a50bbb9c84f0c3383e1",
       "value": 11
      }
     },
     "7f4f41d1160048ce881da4d924ac18a4": {
      "model_module": "@jupyter-widgets/base",
      "model_module_version": "1.1.0",
      "model_name": "LayoutModel",
      "state": {}
     },
     "7fc0a03f8e284e94b24bf0f7368b30f6": {
      "model_module": "@jupyter-widgets/controls",
      "model_module_version": "1.4.0",
      "model_name": "ProgressStyleModel",
      "state": {
       "description_width": "initial"
      }
     },
     "80aa0c2d0c84425e8451a25c920e8ff7": {
      "model_module": "@jupyter-widgets/controls",
      "model_module_version": "1.4.0",
      "model_name": "FloatProgressModel",
      "state": {
       "bar_style": "danger",
       "description": "  3%",
       "layout": "IPY_MODEL_7a1ce6b54c07406eae5a9f0a5dc23852",
       "max": 300,
       "style": "IPY_MODEL_efe57cb56a6e4d5a95375dca119cc01c",
       "value": 10
      }
     },
     "813aac6bc7044036bf27053ed808b895": {
      "model_module": "@jupyter-widgets/controls",
      "model_module_version": "1.4.0",
      "model_name": "FloatProgressModel",
      "state": {
       "description": "Train_Iter: 100%",
       "layout": "IPY_MODEL_b35991b4fa2448b2aa91531f875c65cf",
       "max": 87,
       "style": "IPY_MODEL_973dd3c7ebd741ab9aad9d5b9f290cef",
       "value": 87
      }
     },
     "824bff6353cd4dc9a915b327592b1adf": {
      "model_module": "@jupyter-widgets/base",
      "model_module_version": "1.1.0",
      "model_name": "LayoutModel",
      "state": {}
     },
     "824caf80c40e4baf85f6a5215526cc79": {
      "model_module": "@jupyter-widgets/controls",
      "model_module_version": "1.4.0",
      "model_name": "HBoxModel",
      "state": {
       "children": [
        "IPY_MODEL_2f2604d040cd4e2c931a8556bdf06a2c",
        "IPY_MODEL_299a123c88004d90a95bad4b1909050b"
       ],
       "layout": "IPY_MODEL_cca1157538bf462eb48caabcd2e79efc"
      }
     },
     "826f28fbb3234f5697a095f9ba30e0dc": {
      "model_module": "@jupyter-widgets/controls",
      "model_module_version": "1.4.0",
      "model_name": "DescriptionStyleModel",
      "state": {
       "description_width": ""
      }
     },
     "8281785c0c6c4e5d92f79692755ae6ea": {
      "model_module": "@jupyter-widgets/base",
      "model_module_version": "1.1.0",
      "model_name": "LayoutModel",
      "state": {}
     },
     "82df1e5d6406449eab6588d8fd47a450": {
      "model_module": "@jupyter-widgets/base",
      "model_module_version": "1.1.0",
      "model_name": "LayoutModel",
      "state": {}
     },
     "82e393822d07459b9609ab1520a1b956": {
      "model_module": "@jupyter-widgets/base",
      "model_module_version": "1.1.0",
      "model_name": "LayoutModel",
      "state": {}
     },
     "831d94698c33465db8277691c9a69757": {
      "model_module": "@jupyter-widgets/controls",
      "model_module_version": "1.4.0",
      "model_name": "ProgressStyleModel",
      "state": {
       "description_width": "initial"
      }
     },
     "83519f8aed8c4afca6a07cc05b06dec4": {
      "model_module": "@jupyter-widgets/base",
      "model_module_version": "1.1.0",
      "model_name": "LayoutModel",
      "state": {}
     },
     "83775c949d1543189e30f552912f68aa": {
      "model_module": "@jupyter-widgets/controls",
      "model_module_version": "1.4.0",
      "model_name": "FloatProgressModel",
      "state": {
       "description": "Val_Iter: 100%",
       "layout": "IPY_MODEL_8281785c0c6c4e5d92f79692755ae6ea",
       "max": 11,
       "style": "IPY_MODEL_c40f09d480c1475d97873cf9b33eda09",
       "value": 11
      }
     },
     "83f75d1519b9402c8e264890b09a4502": {
      "model_module": "@jupyter-widgets/base",
      "model_module_version": "1.1.0",
      "model_name": "LayoutModel",
      "state": {}
     },
     "85c9a745932a4f82abad4b910abfdfbc": {
      "model_module": "@jupyter-widgets/base",
      "model_module_version": "1.1.0",
      "model_name": "LayoutModel",
      "state": {}
     },
     "87e19f680ebc4e3fafefc9d2826defb1": {
      "model_module": "@jupyter-widgets/controls",
      "model_module_version": "1.4.0",
      "model_name": "FloatProgressModel",
      "state": {
       "bar_style": "success",
       "description": "100%",
       "layout": "IPY_MODEL_fc228996770f4347a785bba130b2486c",
       "max": 6457,
       "style": "IPY_MODEL_bb06f72928394f16b2f75eac1d6c095f",
       "value": 6457
      }
     },
     "8993a4cb918144f9892a9605b35e9c7e": {
      "model_module": "@jupyter-widgets/base",
      "model_module_version": "1.1.0",
      "model_name": "LayoutModel",
      "state": {}
     },
     "8a11be9940b3412ca2f6081808b02f1b": {
      "model_module": "@jupyter-widgets/controls",
      "model_module_version": "1.4.0",
      "model_name": "DescriptionStyleModel",
      "state": {
       "description_width": ""
      }
     },
     "8b212c6dddcf4f91ba560d6f112d488a": {
      "model_module": "@jupyter-widgets/controls",
      "model_module_version": "1.4.0",
      "model_name": "FloatProgressModel",
      "state": {
       "description": "Train_Iter: 100%",
       "layout": "IPY_MODEL_ca9faadee9334413ae8fd59a2d140b3d",
       "max": 87,
       "style": "IPY_MODEL_e7fb2ad6672141c1b63d4b4b6caac70a",
       "value": 87
      }
     },
     "8b80339ce05a4d20ba2848821df720a6": {
      "model_module": "@jupyter-widgets/base",
      "model_module_version": "1.1.0",
      "model_name": "LayoutModel",
      "state": {}
     },
     "8ba1594aacea484aa393a857bd9e0ddf": {
      "model_module": "@jupyter-widgets/controls",
      "model_module_version": "1.4.0",
      "model_name": "ProgressStyleModel",
      "state": {
       "description_width": "initial"
      }
     },
     "8becaa1fb75a4fb3ba844ab0dcfd6ecc": {
      "model_module": "@jupyter-widgets/controls",
      "model_module_version": "1.4.0",
      "model_name": "HTMLModel",
      "state": {
       "layout": "IPY_MODEL_28f098caa09149a4b787e3b18aa659e0",
       "style": "IPY_MODEL_3f0d8579920b4854bb0ffff145fdcbe9",
       "value": " 87/87 [53:43&lt;00:00, 38.25s/it]"
      }
     },
     "8d9959877e5c42e8aead176c1b99311d": {
      "model_module": "@jupyter-widgets/controls",
      "model_module_version": "1.4.0",
      "model_name": "ProgressStyleModel",
      "state": {
       "description_width": "initial"
      }
     },
     "8e34b98516ba4944ab067e463887b3dd": {
      "model_module": "@jupyter-widgets/controls",
      "model_module_version": "1.4.0",
      "model_name": "HTMLModel",
      "state": {
       "layout": "IPY_MODEL_8b80339ce05a4d20ba2848821df720a6",
       "style": "IPY_MODEL_6ec51792af4c4f72b7f209be2bc4a765",
       "value": " 87/87 [52:36&lt;00:00, 36.80s/it]"
      }
     },
     "8f24c805959b4c66b5676defb5e45bd7": {
      "model_module": "@jupyter-widgets/controls",
      "model_module_version": "1.4.0",
      "model_name": "HTMLModel",
      "state": {
       "layout": "IPY_MODEL_e1c39d3ccbdd4dd38984114d3fa7d7e6",
       "style": "IPY_MODEL_e5fe46f789054e53a6d371c22c67ef5c",
       "value": " 5/50 [4:59:11&lt;45:02:33, 3603.41s/it]"
      }
     },
     "90b245a3d601450b9bcc6583d2126438": {
      "model_module": "@jupyter-widgets/controls",
      "model_module_version": "1.4.0",
      "model_name": "HTMLModel",
      "state": {
       "layout": "IPY_MODEL_4023f171a7874f8899a65db161ef35b1",
       "style": "IPY_MODEL_d85e66ebc1924eeeb003c98dbad6fdf0",
       "value": " 87/87 [54:20&lt;00:00, 36.31s/it]"
      }
     },
     "92cc703ca5084a27904305c2c3e8a46a": {
      "model_module": "@jupyter-widgets/controls",
      "model_module_version": "1.4.0",
      "model_name": "FloatProgressModel",
      "state": {
       "description": "Train_Iter: 100%",
       "layout": "IPY_MODEL_fb1534803e1447309be173eaf52bad78",
       "max": 87,
       "style": "IPY_MODEL_a9e618e446db4300940da6dfbbd35473",
       "value": 87
      }
     },
     "9442ba984c684ee1884c0a1c017ab5c6": {
      "model_module": "@jupyter-widgets/base",
      "model_module_version": "1.1.0",
      "model_name": "LayoutModel",
      "state": {}
     },
     "95a8d0221b8644288af205b07b05a460": {
      "model_module": "@jupyter-widgets/base",
      "model_module_version": "1.1.0",
      "model_name": "LayoutModel",
      "state": {}
     },
     "96d57fbf84ef4c68aae24a2accfc43a9": {
      "model_module": "@jupyter-widgets/controls",
      "model_module_version": "1.4.0",
      "model_name": "HTMLModel",
      "state": {
       "layout": "IPY_MODEL_ef080220e11944638f561cb163356595",
       "style": "IPY_MODEL_df4956c28a724455b6a4a88004468e52",
       "value": " 87/87 [53:39&lt;00:00, 37.46s/it]"
      }
     },
     "973d5cfd7c144697b43520566c00d8f7": {
      "model_module": "@jupyter-widgets/base",
      "model_module_version": "1.1.0",
      "model_name": "LayoutModel",
      "state": {}
     },
     "973dd3c7ebd741ab9aad9d5b9f290cef": {
      "model_module": "@jupyter-widgets/controls",
      "model_module_version": "1.4.0",
      "model_name": "ProgressStyleModel",
      "state": {
       "description_width": "initial"
      }
     },
     "97db682d9dd44519abaf99ad0967b103": {
      "model_module": "@jupyter-widgets/controls",
      "model_module_version": "1.4.0",
      "model_name": "FloatProgressModel",
      "state": {
       "description": "Train_Iter: 100%",
       "layout": "IPY_MODEL_9442ba984c684ee1884c0a1c017ab5c6",
       "max": 87,
       "style": "IPY_MODEL_ef313b3a596f4377870fd3f2f963fec8",
       "value": 87
      }
     },
     "97feac2b54ef413c957e919082d30aab": {
      "model_module": "@jupyter-widgets/base",
      "model_module_version": "1.1.0",
      "model_name": "LayoutModel",
      "state": {}
     },
     "988de7cf6731462ca30c612f50991c9d": {
      "model_module": "@jupyter-widgets/controls",
      "model_module_version": "1.4.0",
      "model_name": "HTMLModel",
      "state": {
       "layout": "IPY_MODEL_0618ddd48aa24064bfa7f7aea072302c",
       "style": "IPY_MODEL_f66b5ca7e643442592fbbc4a0a85f26f",
       "value": " 87/87 [53:38&lt;00:00, 36.88s/it]"
      }
     },
     "98cb38a225034c839f812ed49bc98ac2": {
      "model_module": "@jupyter-widgets/controls",
      "model_module_version": "1.4.0",
      "model_name": "DescriptionStyleModel",
      "state": {
       "description_width": ""
      }
     },
     "98e59edbdef241ac9739720c6e370017": {
      "model_module": "@jupyter-widgets/controls",
      "model_module_version": "1.4.0",
      "model_name": "ProgressStyleModel",
      "state": {
       "description_width": "initial"
      }
     },
     "991333b872ae4237a5a8b303eb42ffb3": {
      "model_module": "@jupyter-widgets/controls",
      "model_module_version": "1.4.0",
      "model_name": "HTMLModel",
      "state": {
       "layout": "IPY_MODEL_fe29101c64d642e5a88ba98b97bf4ac1",
       "style": "IPY_MODEL_8a11be9940b3412ca2f6081808b02f1b",
       "value": " 11/11 [04:14&lt;00:00, 23.06s/it]"
      }
     },
     "991563d268824ca2b3be8c065bdbf372": {
      "model_module": "@jupyter-widgets/base",
      "model_module_version": "1.1.0",
      "model_name": "LayoutModel",
      "state": {}
     },
     "99aff0993f8643abb59db9e1d6a16059": {
      "model_module": "@jupyter-widgets/base",
      "model_module_version": "1.1.0",
      "model_name": "LayoutModel",
      "state": {}
     },
     "99cf523813d8400bbafb6723c9661b5d": {
      "model_module": "@jupyter-widgets/controls",
      "model_module_version": "1.4.0",
      "model_name": "FloatProgressModel",
      "state": {
       "description": "Val_Iter: 100%",
       "layout": "IPY_MODEL_5d69211013eb4bfe8c44742799be75a2",
       "max": 11,
       "style": "IPY_MODEL_d31dea4b7b6a4302ab7748d5b59b3e31",
       "value": 11
      }
     },
     "9aa51d11fffe440fbb026e0b2f8ef544": {
      "model_module": "@jupyter-widgets/controls",
      "model_module_version": "1.4.0",
      "model_name": "DescriptionStyleModel",
      "state": {
       "description_width": ""
      }
     },
     "9d5d591b9d62440788b4a0b844df0cb4": {
      "model_module": "@jupyter-widgets/base",
      "model_module_version": "1.1.0",
      "model_name": "LayoutModel",
      "state": {}
     },
     "9d60264dec6340b5b92082e95a33d63e": {
      "model_module": "@jupyter-widgets/controls",
      "model_module_version": "1.4.0",
      "model_name": "ProgressStyleModel",
      "state": {
       "description_width": "initial"
      }
     },
     "9e099eff602140f8b9790113cb391741": {
      "model_module": "@jupyter-widgets/base",
      "model_module_version": "1.1.0",
      "model_name": "LayoutModel",
      "state": {}
     },
     "9f88831b1e574b8ea902bb7fdb4375ed": {
      "model_module": "@jupyter-widgets/controls",
      "model_module_version": "1.4.0",
      "model_name": "FloatProgressModel",
      "state": {
       "description": "Train_Iter: 100%",
       "layout": "IPY_MODEL_7f4f41d1160048ce881da4d924ac18a4",
       "max": 87,
       "style": "IPY_MODEL_1ef0475776934256bcc2e5e6e89d4935",
       "value": 87
      }
     },
     "9fc33061eb9e4275924159c10b5f53d2": {
      "model_module": "@jupyter-widgets/controls",
      "model_module_version": "1.4.0",
      "model_name": "DescriptionStyleModel",
      "state": {
       "description_width": ""
      }
     },
     "9ffff54b3ae146ffa03ea245daa4ef0f": {
      "model_module": "@jupyter-widgets/controls",
      "model_module_version": "1.4.0",
      "model_name": "FloatProgressModel",
      "state": {
       "description": "Train_Iter:  16%",
       "layout": "IPY_MODEL_1c7085a5ca4e4b0b81d08c57ca94f16f",
       "max": 87,
       "style": "IPY_MODEL_a7a79ae20cf34badbec2f3eb08531a62",
       "value": 14
      }
     },
     "a0b811dca4de460cb8ee57dc19da60cb": {
      "model_module": "@jupyter-widgets/base",
      "model_module_version": "1.1.0",
      "model_name": "LayoutModel",
      "state": {}
     },
     "a1879834b0b5450b88a9aeea026b71fd": {
      "model_module": "@jupyter-widgets/base",
      "model_module_version": "1.1.0",
      "model_name": "LayoutModel",
      "state": {}
     },
     "a3e3e464843b412ea010c6e32d57e2ea": {
      "model_module": "@jupyter-widgets/controls",
      "model_module_version": "1.4.0",
      "model_name": "DescriptionStyleModel",
      "state": {
       "description_width": ""
      }
     },
     "a53a933da21143eab8aca856165a6bb3": {
      "model_module": "@jupyter-widgets/base",
      "model_module_version": "1.1.0",
      "model_name": "LayoutModel",
      "state": {}
     },
     "a5d31587ee6f498d893a5366a8d117bd": {
      "model_module": "@jupyter-widgets/controls",
      "model_module_version": "1.4.0",
      "model_name": "FloatProgressModel",
      "state": {
       "description": "Train_Iter: 100%",
       "layout": "IPY_MODEL_a0b811dca4de460cb8ee57dc19da60cb",
       "max": 87,
       "style": "IPY_MODEL_d9be3ac510ba4934a018e93d9762a9e5",
       "value": 87
      }
     },
     "a6224a1c95fa4bff8e87ebdf36e4e430": {
      "model_module": "@jupyter-widgets/base",
      "model_module_version": "1.1.0",
      "model_name": "LayoutModel",
      "state": {}
     },
     "a77b20594717439c857484463f15d685": {
      "model_module": "@jupyter-widgets/controls",
      "model_module_version": "1.4.0",
      "model_name": "DescriptionStyleModel",
      "state": {
       "description_width": ""
      }
     },
     "a7a79ae20cf34badbec2f3eb08531a62": {
      "model_module": "@jupyter-widgets/controls",
      "model_module_version": "1.4.0",
      "model_name": "ProgressStyleModel",
      "state": {
       "description_width": "initial"
      }
     },
     "a852123b0b344d1ea6a73d2e7b266884": {
      "model_module": "@jupyter-widgets/controls",
      "model_module_version": "1.4.0",
      "model_name": "DescriptionStyleModel",
      "state": {
       "description_width": ""
      }
     },
     "a948bb65c4f845c5a225b0cfeac71865": {
      "model_module": "@jupyter-widgets/controls",
      "model_module_version": "1.4.0",
      "model_name": "ProgressStyleModel",
      "state": {
       "description_width": "initial"
      }
     },
     "a9e618e446db4300940da6dfbbd35473": {
      "model_module": "@jupyter-widgets/controls",
      "model_module_version": "1.4.0",
      "model_name": "ProgressStyleModel",
      "state": {
       "description_width": "initial"
      }
     },
     "aae650ab4d1246d7bcdfb09e9c4ebf2a": {
      "model_module": "@jupyter-widgets/controls",
      "model_module_version": "1.4.0",
      "model_name": "HTMLModel",
      "state": {
       "layout": "IPY_MODEL_e93bf1517694446f843fc1fc95368e49",
       "style": "IPY_MODEL_9fc33061eb9e4275924159c10b5f53d2",
       "value": " 11/11 [04:13&lt;00:00, 22.93s/it]"
      }
     },
     "ab55958884ca4a2684421323c44d769e": {
      "model_module": "@jupyter-widgets/base",
      "model_module_version": "1.1.0",
      "model_name": "LayoutModel",
      "state": {}
     },
     "ac13ca84cd7e40fab768ade2fd7d7dcf": {
      "model_module": "@jupyter-widgets/controls",
      "model_module_version": "1.4.0",
      "model_name": "HBoxModel",
      "state": {
       "children": [
        "IPY_MODEL_c06d924bd0cf428da464ebf4399d4039",
        "IPY_MODEL_78ba93fce5c54c3680782ac46456eb2b"
       ],
       "layout": "IPY_MODEL_1fd2f5558ccf4b31b9546312dc0fa4eb"
      }
     },
     "ac7a51ab758f428bafe51c6d6d4a346f": {
      "model_module": "@jupyter-widgets/base",
      "model_module_version": "1.1.0",
      "model_name": "LayoutModel",
      "state": {}
     },
     "ac81a08efb6943dfbdd2284ff6b42a04": {
      "model_module": "@jupyter-widgets/controls",
      "model_module_version": "1.4.0",
      "model_name": "FloatProgressModel",
      "state": {
       "description": "Train_Iter: 100%",
       "layout": "IPY_MODEL_efcc88a1579e4d6bae453bd8f5bc751d",
       "max": 87,
       "style": "IPY_MODEL_bb6f95a03726476eb309286c0114e60d",
       "value": 87
      }
     },
     "ae163356c70c4639ae023bf0e578b826": {
      "model_module": "@jupyter-widgets/controls",
      "model_module_version": "1.4.0",
      "model_name": "HTMLModel",
      "state": {
       "layout": "IPY_MODEL_a6224a1c95fa4bff8e87ebdf36e4e430",
       "style": "IPY_MODEL_1fc6ec1bf412461d97d727cfe944c8bd",
       "value": " 87/87 [51:50&lt;00:00, 35.65s/it]"
      }
     },
     "ae6c07f5a8c3449681c188884848feb9": {
      "model_module": "@jupyter-widgets/base",
      "model_module_version": "1.1.0",
      "model_name": "LayoutModel",
      "state": {}
     },
     "af93fe0c08024baa97c53632eb64df5c": {
      "model_module": "@jupyter-widgets/base",
      "model_module_version": "1.1.0",
      "model_name": "LayoutModel",
      "state": {}
     },
     "afaba5099986406f9e58a97ee54db2fb": {
      "model_module": "@jupyter-widgets/base",
      "model_module_version": "1.1.0",
      "model_name": "LayoutModel",
      "state": {}
     },
     "afbf535eda894bad929fdecea1f009b8": {
      "model_module": "@jupyter-widgets/base",
      "model_module_version": "1.1.0",
      "model_name": "LayoutModel",
      "state": {}
     },
     "b03d5c57fd794794aafe9bddbe279a4b": {
      "model_module": "@jupyter-widgets/base",
      "model_module_version": "1.1.0",
      "model_name": "LayoutModel",
      "state": {}
     },
     "b06768d17e6a4e6fbb0bc060bf8051bd": {
      "model_module": "@jupyter-widgets/controls",
      "model_module_version": "1.4.0",
      "model_name": "HTMLModel",
      "state": {
       "layout": "IPY_MODEL_b9cdf2dccb0647a28e0df278c0e8ee87",
       "style": "IPY_MODEL_3873619e15984e2785999a5082af8b55",
       "value": " 11/11 [04:16&lt;00:00, 23.36s/it]"
      }
     },
     "b0d92c85f0244d169f1e9eaea3595c3c": {
      "model_module": "@jupyter-widgets/base",
      "model_module_version": "1.1.0",
      "model_name": "LayoutModel",
      "state": {}
     },
     "b137948b9168496eb490f09a368fadc0": {
      "model_module": "@jupyter-widgets/controls",
      "model_module_version": "1.4.0",
      "model_name": "FloatProgressModel",
      "state": {
       "description": "Val_Iter: 100%",
       "layout": "IPY_MODEL_973d5cfd7c144697b43520566c00d8f7",
       "max": 11,
       "style": "IPY_MODEL_64247600538a4f42817056653504d453",
       "value": 11
      }
     },
     "b1e2d7a8e5e649378275353af2320df6": {
      "model_module": "@jupyter-widgets/controls",
      "model_module_version": "1.4.0",
      "model_name": "ProgressStyleModel",
      "state": {
       "description_width": "initial"
      }
     },
     "b2243570e82b410e8a3da00127f16ce3": {
      "model_module": "@jupyter-widgets/controls",
      "model_module_version": "1.4.0",
      "model_name": "HTMLModel",
      "state": {
       "layout": "IPY_MODEL_82df1e5d6406449eab6588d8fd47a450",
       "style": "IPY_MODEL_e33fe72bb2ef4e73a85e0fb917b45469",
       "value": " 11/11 [04:14&lt;00:00, 23.21s/it]"
      }
     },
     "b259e15f64a64172a636c01ad50098d0": {
      "model_module": "@jupyter-widgets/controls",
      "model_module_version": "1.4.0",
      "model_name": "FloatProgressModel",
      "state": {
       "bar_style": "danger",
       "description": " 52%",
       "layout": "IPY_MODEL_f5638e32e9fe44c09d9109cb7efb6e54",
       "max": 6457,
       "style": "IPY_MODEL_8d9959877e5c42e8aead176c1b99311d",
       "value": 3389
      }
     },
     "b35991b4fa2448b2aa91531f875c65cf": {
      "model_module": "@jupyter-widgets/base",
      "model_module_version": "1.1.0",
      "model_name": "LayoutModel",
      "state": {}
     },
     "b363d1e512884aaf95b42b34d820ffb2": {
      "model_module": "@jupyter-widgets/controls",
      "model_module_version": "1.4.0",
      "model_name": "DescriptionStyleModel",
      "state": {
       "description_width": ""
      }
     },
     "b402622cb6dc45859f9a6e15368b11b6": {
      "model_module": "@jupyter-widgets/base",
      "model_module_version": "1.1.0",
      "model_name": "LayoutModel",
      "state": {}
     },
     "b4174ca72806480c9c40fe74f457a944": {
      "model_module": "@jupyter-widgets/controls",
      "model_module_version": "1.4.0",
      "model_name": "HBoxModel",
      "state": {
       "children": [
        "IPY_MODEL_db80c0e8f732499f93c2afc2f02c5d18",
        "IPY_MODEL_8f24c805959b4c66b5676defb5e45bd7"
       ],
       "layout": "IPY_MODEL_432456c5b30844dd8eeb54c1c628da7a"
      }
     },
     "b57f2832800441ee985f911a1f193df6": {
      "model_module": "@jupyter-widgets/controls",
      "model_module_version": "1.4.0",
      "model_name": "DescriptionStyleModel",
      "state": {
       "description_width": ""
      }
     },
     "b5d500a3771f4fb4902fba70d880a41d": {
      "model_module": "@jupyter-widgets/controls",
      "model_module_version": "1.4.0",
      "model_name": "DescriptionStyleModel",
      "state": {
       "description_width": ""
      }
     },
     "b70b6eaecfa140a8ba16f2ae92f9a8b7": {
      "model_module": "@jupyter-widgets/base",
      "model_module_version": "1.1.0",
      "model_name": "LayoutModel",
      "state": {}
     },
     "b70f5a880f45428dbe70daa939f1d436": {
      "model_module": "@jupyter-widgets/base",
      "model_module_version": "1.1.0",
      "model_name": "LayoutModel",
      "state": {}
     },
     "b7a5cb76033d4398a19ef04dc0c18e99": {
      "model_module": "@jupyter-widgets/base",
      "model_module_version": "1.1.0",
      "model_name": "LayoutModel",
      "state": {}
     },
     "b84c1ac1e6b847ba8e0b448a1a2ac678": {
      "model_module": "@jupyter-widgets/controls",
      "model_module_version": "1.4.0",
      "model_name": "DescriptionStyleModel",
      "state": {
       "description_width": ""
      }
     },
     "b942a08c21a14c79b4862929ca4e44ed": {
      "model_module": "@jupyter-widgets/base",
      "model_module_version": "1.1.0",
      "model_name": "LayoutModel",
      "state": {}
     },
     "b9cdf2dccb0647a28e0df278c0e8ee87": {
      "model_module": "@jupyter-widgets/base",
      "model_module_version": "1.1.0",
      "model_name": "LayoutModel",
      "state": {}
     },
     "ba266ee856984ab4857114c6cde18d86": {
      "model_module": "@jupyter-widgets/base",
      "model_module_version": "1.1.0",
      "model_name": "LayoutModel",
      "state": {}
     },
     "ba659d6aab6246a8a34b773629465f25": {
      "model_module": "@jupyter-widgets/base",
      "model_module_version": "1.1.0",
      "model_name": "LayoutModel",
      "state": {}
     },
     "bb06f72928394f16b2f75eac1d6c095f": {
      "model_module": "@jupyter-widgets/controls",
      "model_module_version": "1.4.0",
      "model_name": "ProgressStyleModel",
      "state": {
       "description_width": "initial"
      }
     },
     "bb6f95a03726476eb309286c0114e60d": {
      "model_module": "@jupyter-widgets/controls",
      "model_module_version": "1.4.0",
      "model_name": "ProgressStyleModel",
      "state": {
       "description_width": "initial"
      }
     },
     "bdb5c406e60940d9947711013c06dfc9": {
      "model_module": "@jupyter-widgets/base",
      "model_module_version": "1.1.0",
      "model_name": "LayoutModel",
      "state": {}
     },
     "be16aef3cc454da598e07725d07262cd": {
      "model_module": "@jupyter-widgets/controls",
      "model_module_version": "1.4.0",
      "model_name": "ProgressStyleModel",
      "state": {
       "description_width": "initial"
      }
     },
     "c06d924bd0cf428da464ebf4399d4039": {
      "model_module": "@jupyter-widgets/controls",
      "model_module_version": "1.4.0",
      "model_name": "FloatProgressModel",
      "state": {
       "bar_style": "danger",
       "description": "Train_Iter:   0%",
       "layout": "IPY_MODEL_b70f5a880f45428dbe70daa939f1d436",
       "max": 87,
       "style": "IPY_MODEL_16cdc7cd5bb54a308935142b9776b7d7"
      }
     },
     "c15156fea849420fa0feae96c3ac92a7": {
      "model_module": "@jupyter-widgets/base",
      "model_module_version": "1.1.0",
      "model_name": "LayoutModel",
      "state": {}
     },
     "c15a594b68454207904aa340f3481fa0": {
      "model_module": "@jupyter-widgets/controls",
      "model_module_version": "1.4.0",
      "model_name": "HTMLModel",
      "state": {
       "layout": "IPY_MODEL_52392695bc774640ab2955a17257b3d4",
       "style": "IPY_MODEL_b57f2832800441ee985f911a1f193df6",
       "value": " 0/50 [00:00&lt;?, ?it/s]"
      }
     },
     "c1686bf9a7c04c3ca428d493a0a7ab88": {
      "model_module": "@jupyter-widgets/controls",
      "model_module_version": "1.4.0",
      "model_name": "HTMLModel",
      "state": {
       "layout": "IPY_MODEL_daf109cb339c46df9b9f03d17b044802",
       "style": "IPY_MODEL_ef6811cf01874e55a2e462e469ae053c",
       "value": " 87/87 [1:00:03&lt;00:00, 42.30s/it]"
      }
     },
     "c2019ab6cc6843d5b68403a2fb39a40f": {
      "model_module": "@jupyter-widgets/controls",
      "model_module_version": "1.4.0",
      "model_name": "ProgressStyleModel",
      "state": {
       "description_width": "initial"
      }
     },
     "c312f07732d34ea983116dab765ba330": {
      "model_module": "@jupyter-widgets/base",
      "model_module_version": "1.1.0",
      "model_name": "LayoutModel",
      "state": {}
     },
     "c3c6151d1dda4a64ae67d4c9afb1587f": {
      "model_module": "@jupyter-widgets/controls",
      "model_module_version": "1.4.0",
      "model_name": "DescriptionStyleModel",
      "state": {
       "description_width": ""
      }
     },
     "c40f09d480c1475d97873cf9b33eda09": {
      "model_module": "@jupyter-widgets/controls",
      "model_module_version": "1.4.0",
      "model_name": "ProgressStyleModel",
      "state": {
       "description_width": "initial"
      }
     },
     "c65c98abd5da40dfb6f996e4df2bc597": {
      "model_module": "@jupyter-widgets/controls",
      "model_module_version": "1.4.0",
      "model_name": "HTMLModel",
      "state": {
       "layout": "IPY_MODEL_c312f07732d34ea983116dab765ba330",
       "style": "IPY_MODEL_0c4f07398e294335bc2e8a7e16fea46f",
       "value": " 11/11 [04:02&lt;00:00, 22.10s/it]"
      }
     },
     "c677d9503a1749c7952279984fe087c7": {
      "model_module": "@jupyter-widgets/base",
      "model_module_version": "1.1.0",
      "model_name": "LayoutModel",
      "state": {}
     },
     "c781ef80435a4581b0ed82e804bc016b": {
      "model_module": "@jupyter-widgets/controls",
      "model_module_version": "1.4.0",
      "model_name": "ProgressStyleModel",
      "state": {
       "description_width": "initial"
      }
     },
     "c7d348816d574722b38d6c5cd8c478ae": {
      "model_module": "@jupyter-widgets/base",
      "model_module_version": "1.1.0",
      "model_name": "LayoutModel",
      "state": {}
     },
     "c853c654261c4eac9d4ec351c3b03cde": {
      "model_module": "@jupyter-widgets/base",
      "model_module_version": "1.1.0",
      "model_name": "LayoutModel",
      "state": {}
     },
     "c9e92f5e542a49f284f490c250db220f": {
      "model_module": "@jupyter-widgets/base",
      "model_module_version": "1.1.0",
      "model_name": "LayoutModel",
      "state": {}
     },
     "ca233808164847148ace5a996d93d9b6": {
      "model_module": "@jupyter-widgets/controls",
      "model_module_version": "1.4.0",
      "model_name": "HTMLModel",
      "state": {
       "layout": "IPY_MODEL_1e15df9ed4c2438e870aa8434890313f",
       "style": "IPY_MODEL_0a175d8e29c04840a4de3eadcd496bf3",
       "value": " 11/11 [04:16&lt;00:00, 23.29s/it]"
      }
     },
     "ca4093e442dd423bad842dd366cca4af": {
      "model_module": "@jupyter-widgets/base",
      "model_module_version": "1.1.0",
      "model_name": "LayoutModel",
      "state": {}
     },
     "ca9faadee9334413ae8fd59a2d140b3d": {
      "model_module": "@jupyter-widgets/base",
      "model_module_version": "1.1.0",
      "model_name": "LayoutModel",
      "state": {}
     },
     "caeb75d385024953bb341830c880e69d": {
      "model_module": "@jupyter-widgets/base",
      "model_module_version": "1.1.0",
      "model_name": "LayoutModel",
      "state": {}
     },
     "cbef7c5cf6cb4beab6cff7f1c0a266da": {
      "model_module": "@jupyter-widgets/base",
      "model_module_version": "1.1.0",
      "model_name": "LayoutModel",
      "state": {}
     },
     "cca1157538bf462eb48caabcd2e79efc": {
      "model_module": "@jupyter-widgets/base",
      "model_module_version": "1.1.0",
      "model_name": "LayoutModel",
      "state": {}
     },
     "cd62ed1325744756829e7479f5dd9ccb": {
      "model_module": "@jupyter-widgets/base",
      "model_module_version": "1.1.0",
      "model_name": "LayoutModel",
      "state": {}
     },
     "cddff91b4c7d4f9f93fd18ceda00ee51": {
      "model_module": "@jupyter-widgets/controls",
      "model_module_version": "1.4.0",
      "model_name": "DescriptionStyleModel",
      "state": {
       "description_width": ""
      }
     },
     "ce2f97fc059a4b3791e7b9904c87527d": {
      "model_module": "@jupyter-widgets/controls",
      "model_module_version": "1.4.0",
      "model_name": "ProgressStyleModel",
      "state": {
       "description_width": "initial"
      }
     },
     "ce8dd747fe9541548a17101e18619576": {
      "model_module": "@jupyter-widgets/controls",
      "model_module_version": "1.4.0",
      "model_name": "HTMLModel",
      "state": {
       "layout": "IPY_MODEL_b70b6eaecfa140a8ba16f2ae92f9a8b7",
       "style": "IPY_MODEL_62a8ccb44b49489991920aec336526d8",
       "value": " 10/300 [02:42&lt;1:18:36, 16.26s/it]"
      }
     },
     "cfbd411e131e4534b416baca0c8159ce": {
      "model_module": "@jupyter-widgets/controls",
      "model_module_version": "1.4.0",
      "model_name": "HTMLModel",
      "state": {
       "layout": "IPY_MODEL_cbef7c5cf6cb4beab6cff7f1c0a266da",
       "style": "IPY_MODEL_3b9c9abcfa6749f5b8daef92ba55ca51",
       "value": " 87/87 [56:55&lt;00:00, 38.57s/it]"
      }
     },
     "d05bfdc1d87044e28b80471174bd0a84": {
      "model_module": "@jupyter-widgets/controls",
      "model_module_version": "1.4.0",
      "model_name": "DescriptionStyleModel",
      "state": {
       "description_width": ""
      }
     },
     "d0732bf7788640a6bc9121156ee49e91": {
      "model_module": "@jupyter-widgets/base",
      "model_module_version": "1.1.0",
      "model_name": "LayoutModel",
      "state": {}
     },
     "d08af3e0fc974cadad3c33e76efa7cff": {
      "model_module": "@jupyter-widgets/base",
      "model_module_version": "1.1.0",
      "model_name": "LayoutModel",
      "state": {}
     },
     "d0aae54e82a84212b2b4c97d946221f7": {
      "model_module": "@jupyter-widgets/controls",
      "model_module_version": "1.4.0",
      "model_name": "HTMLModel",
      "state": {
       "layout": "IPY_MODEL_5d754b4cec1f49c9b585000654830094",
       "style": "IPY_MODEL_a852123b0b344d1ea6a73d2e7b266884",
       "value": " 87/87 [53:35&lt;00:00, 37.99s/it]"
      }
     },
     "d0d00490b5b444eeac02f354c42837b5": {
      "model_module": "@jupyter-widgets/base",
      "model_module_version": "1.1.0",
      "model_name": "LayoutModel",
      "state": {}
     },
     "d199b7df759140748450af60cd7d3785": {
      "model_module": "@jupyter-widgets/controls",
      "model_module_version": "1.4.0",
      "model_name": "HBoxModel",
      "state": {
       "children": [
        "IPY_MODEL_87e19f680ebc4e3fafefc9d2826defb1",
        "IPY_MODEL_4f72ae606cf54b30bedc548cfba83159"
       ],
       "layout": "IPY_MODEL_ac7a51ab758f428bafe51c6d6d4a346f"
      }
     },
     "d2e048076ea44a0b9681772c4b19ac99": {
      "model_module": "@jupyter-widgets/base",
      "model_module_version": "1.1.0",
      "model_name": "LayoutModel",
      "state": {}
     },
     "d31dea4b7b6a4302ab7748d5b59b3e31": {
      "model_module": "@jupyter-widgets/controls",
      "model_module_version": "1.4.0",
      "model_name": "ProgressStyleModel",
      "state": {
       "description_width": "initial"
      }
     },
     "d36a249433494db0a1022865722b618f": {
      "model_module": "@jupyter-widgets/controls",
      "model_module_version": "1.4.0",
      "model_name": "DescriptionStyleModel",
      "state": {
       "description_width": ""
      }
     },
     "d3e9397743a54c8183dd5c423f86b308": {
      "model_module": "@jupyter-widgets/base",
      "model_module_version": "1.1.0",
      "model_name": "LayoutModel",
      "state": {}
     },
     "d4f44dc1942c4349a1d0e6068cbf1a6b": {
      "model_module": "@jupyter-widgets/controls",
      "model_module_version": "1.4.0",
      "model_name": "FloatProgressModel",
      "state": {
       "description": "Train_Iter: 100%",
       "layout": "IPY_MODEL_d959f6c6a9d14c469b9c8df85038a28e",
       "max": 87,
       "style": "IPY_MODEL_f4cf89a19320477389c0d75fa2b1710d",
       "value": 87
      }
     },
     "d504c590259a4b8eb985eae5eb2bba77": {
      "model_module": "@jupyter-widgets/controls",
      "model_module_version": "1.4.0",
      "model_name": "HTMLModel",
      "state": {
       "layout": "IPY_MODEL_9e099eff602140f8b9790113cb391741",
       "style": "IPY_MODEL_128c9f0683a8419db700394458b19137",
       "value": " 11/11 [04:06&lt;00:00, 21.60s/it]"
      }
     },
     "d58d5be094b14d19bbb265668a997cda": {
      "model_module": "@jupyter-widgets/base",
      "model_module_version": "1.1.0",
      "model_name": "LayoutModel",
      "state": {}
     },
     "d5d90296b40a4357acc9ef4fedffddd9": {
      "model_module": "@jupyter-widgets/base",
      "model_module_version": "1.1.0",
      "model_name": "LayoutModel",
      "state": {}
     },
     "d5e3f25b35ea407d8db8597bcca6a55d": {
      "model_module": "@jupyter-widgets/base",
      "model_module_version": "1.1.0",
      "model_name": "LayoutModel",
      "state": {}
     },
     "d6d420eae62e4a7a996fa785290ff574": {
      "model_module": "@jupyter-widgets/base",
      "model_module_version": "1.1.0",
      "model_name": "LayoutModel",
      "state": {}
     },
     "d85e66ebc1924eeeb003c98dbad6fdf0": {
      "model_module": "@jupyter-widgets/controls",
      "model_module_version": "1.4.0",
      "model_name": "DescriptionStyleModel",
      "state": {
       "description_width": ""
      }
     },
     "d959f6c6a9d14c469b9c8df85038a28e": {
      "model_module": "@jupyter-widgets/base",
      "model_module_version": "1.1.0",
      "model_name": "LayoutModel",
      "state": {}
     },
     "d9be3ac510ba4934a018e93d9762a9e5": {
      "model_module": "@jupyter-widgets/controls",
      "model_module_version": "1.4.0",
      "model_name": "ProgressStyleModel",
      "state": {
       "description_width": "initial"
      }
     },
     "dacc4f79ab014059a64d27ec64e28953": {
      "model_module": "@jupyter-widgets/controls",
      "model_module_version": "1.4.0",
      "model_name": "HTMLModel",
      "state": {
       "layout": "IPY_MODEL_74d59e14424b4ffbb01853720662bfec",
       "style": "IPY_MODEL_b5d500a3771f4fb4902fba70d880a41d",
       "value": " 87/87 [53:46&lt;00:00, 38.19s/it]"
      }
     },
     "daf109cb339c46df9b9f03d17b044802": {
      "model_module": "@jupyter-widgets/base",
      "model_module_version": "1.1.0",
      "model_name": "LayoutModel",
      "state": {}
     },
     "db7a537757e44ad39a014785f7a30362": {
      "model_module": "@jupyter-widgets/base",
      "model_module_version": "1.1.0",
      "model_name": "LayoutModel",
      "state": {}
     },
     "db80c0e8f732499f93c2afc2f02c5d18": {
      "model_module": "@jupyter-widgets/controls",
      "model_module_version": "1.4.0",
      "model_name": "FloatProgressModel",
      "state": {
       "description": "Epoch:  10%",
       "layout": "IPY_MODEL_e0061c987f1f4287929671bd23fda19c",
       "max": 50,
       "style": "IPY_MODEL_54d5d5dc8bbc458682c1cb77e4380b30",
       "value": 5
      }
     },
     "de767eebe5b948258efef812fab9f114": {
      "model_module": "@jupyter-widgets/base",
      "model_module_version": "1.1.0",
      "model_name": "LayoutModel",
      "state": {}
     },
     "df4956c28a724455b6a4a88004468e52": {
      "model_module": "@jupyter-widgets/controls",
      "model_module_version": "1.4.0",
      "model_name": "DescriptionStyleModel",
      "state": {
       "description_width": ""
      }
     },
     "dfa7b7f2a48c463fb67c90fcb38b1552": {
      "model_module": "@jupyter-widgets/controls",
      "model_module_version": "1.4.0",
      "model_name": "DescriptionStyleModel",
      "state": {
       "description_width": ""
      }
     },
     "e0061c987f1f4287929671bd23fda19c": {
      "model_module": "@jupyter-widgets/base",
      "model_module_version": "1.1.0",
      "model_name": "LayoutModel",
      "state": {}
     },
     "e0762495f883467e9c81c386b74b9693": {
      "model_module": "@jupyter-widgets/controls",
      "model_module_version": "1.4.0",
      "model_name": "FloatProgressModel",
      "state": {
       "description": "Val_Iter: 100%",
       "layout": "IPY_MODEL_3f49c4d5a8d749a7a009224bc5fab633",
       "max": 11,
       "style": "IPY_MODEL_7940b28c77544881b9c8c1e7ffa47634",
       "value": 11
      }
     },
     "e1c39d3ccbdd4dd38984114d3fa7d7e6": {
      "model_module": "@jupyter-widgets/base",
      "model_module_version": "1.1.0",
      "model_name": "LayoutModel",
      "state": {}
     },
     "e23abb7e8ed844639541b3d321db77d6": {
      "model_module": "@jupyter-widgets/controls",
      "model_module_version": "1.4.0",
      "model_name": "HTMLModel",
      "state": {
       "layout": "IPY_MODEL_32052d5b6bb74e45b4c2955fe358c608",
       "style": "IPY_MODEL_826f28fbb3234f5697a095f9ba30e0dc",
       "value": " 37/87 [25:33&lt;33:33, 40.28s/it]"
      }
     },
     "e2a141bbe8fe480c9095d81bd82d264d": {
      "model_module": "@jupyter-widgets/controls",
      "model_module_version": "1.4.0",
      "model_name": "FloatProgressModel",
      "state": {
       "description": "Val_Iter: 100%",
       "layout": "IPY_MODEL_ae6c07f5a8c3449681c188884848feb9",
       "max": 11,
       "style": "IPY_MODEL_3d568180d0a0447da7ed25233270edc1",
       "value": 11
      }
     },
     "e33fe72bb2ef4e73a85e0fb917b45469": {
      "model_module": "@jupyter-widgets/controls",
      "model_module_version": "1.4.0",
      "model_name": "DescriptionStyleModel",
      "state": {
       "description_width": ""
      }
     },
     "e43b3a19a3d04d818a2352e55b1cccc7": {
      "model_module": "@jupyter-widgets/controls",
      "model_module_version": "1.4.0",
      "model_name": "HBoxModel",
      "state": {
       "children": [
        "IPY_MODEL_fd644aed7d714e3d86e834223c8997f9",
        "IPY_MODEL_c15a594b68454207904aa340f3481fa0"
       ],
       "layout": "IPY_MODEL_3f4226ec5d264b4a87de98027d90691b"
      }
     },
     "e49b2392bbf449b28d6c8a7510038fa5": {
      "model_module": "@jupyter-widgets/controls",
      "model_module_version": "1.4.0",
      "model_name": "DescriptionStyleModel",
      "state": {
       "description_width": ""
      }
     },
     "e4d6aa24b23542cca64e6b6bbc957290": {
      "model_module": "@jupyter-widgets/controls",
      "model_module_version": "1.4.0",
      "model_name": "ProgressStyleModel",
      "state": {
       "description_width": "initial"
      }
     },
     "e51fc85f748947afba80a2564c086d39": {
      "model_module": "@jupyter-widgets/controls",
      "model_module_version": "1.4.0",
      "model_name": "HTMLModel",
      "state": {
       "layout": "IPY_MODEL_99aff0993f8643abb59db9e1d6a16059",
       "style": "IPY_MODEL_66d40863d215472f9e7fec24b8f20b1f",
       "value": " 11/11 [04:15&lt;00:00, 23.40s/it]"
      }
     },
     "e5ccf06e9c4d422b9206cf17fdccb835": {
      "model_module": "@jupyter-widgets/controls",
      "model_module_version": "1.4.0",
      "model_name": "ProgressStyleModel",
      "state": {
       "description_width": "initial"
      }
     },
     "e5fe46f789054e53a6d371c22c67ef5c": {
      "model_module": "@jupyter-widgets/controls",
      "model_module_version": "1.4.0",
      "model_name": "DescriptionStyleModel",
      "state": {
       "description_width": ""
      }
     },
     "e63ad9bb8b7743b4a9d19fe457b0feac": {
      "model_module": "@jupyter-widgets/controls",
      "model_module_version": "1.4.0",
      "model_name": "FloatProgressModel",
      "state": {
       "description": "Train_Iter: 100%",
       "layout": "IPY_MODEL_3a8c10a932fe472babbe645033502fa0",
       "max": 87,
       "style": "IPY_MODEL_9d60264dec6340b5b92082e95a33d63e",
       "value": 87
      }
     },
     "e7513f22f9fc4e6c857e261f08993ca3": {
      "model_module": "@jupyter-widgets/controls",
      "model_module_version": "1.4.0",
      "model_name": "FloatProgressModel",
      "state": {
       "description": "Val_Iter: 100%",
       "layout": "IPY_MODEL_d5e3f25b35ea407d8db8597bcca6a55d",
       "max": 11,
       "style": "IPY_MODEL_15b40f5b7e434ff18a25568f612fc490",
       "value": 11
      }
     },
     "e7fb2ad6672141c1b63d4b4b6caac70a": {
      "model_module": "@jupyter-widgets/controls",
      "model_module_version": "1.4.0",
      "model_name": "ProgressStyleModel",
      "state": {
       "description_width": "initial"
      }
     },
     "e8f97153d8484fdd83be7cb5b114edf8": {
      "model_module": "@jupyter-widgets/controls",
      "model_module_version": "1.4.0",
      "model_name": "FloatProgressModel",
      "state": {
       "description": "Val_Iter: 100%",
       "layout": "IPY_MODEL_83f75d1519b9402c8e264890b09a4502",
       "max": 11,
       "style": "IPY_MODEL_c781ef80435a4581b0ed82e804bc016b",
       "value": 11
      }
     },
     "e93bf1517694446f843fc1fc95368e49": {
      "model_module": "@jupyter-widgets/base",
      "model_module_version": "1.1.0",
      "model_name": "LayoutModel",
      "state": {}
     },
     "ec799499b73f4d17941b990fea0514d2": {
      "model_module": "@jupyter-widgets/controls",
      "model_module_version": "1.4.0",
      "model_name": "HTMLModel",
      "state": {
       "layout": "IPY_MODEL_b7a5cb76033d4398a19ef04dc0c18e99",
       "style": "IPY_MODEL_6122c3ddb0a84369a649d27570570cbc",
       "value": " 87/87 [55:46&lt;00:00, 37.36s/it]"
      }
     },
     "ecfd6275f702418eaa9fae9ad0078aea": {
      "model_module": "@jupyter-widgets/base",
      "model_module_version": "1.1.0",
      "model_name": "LayoutModel",
      "state": {}
     },
     "ed2a01f5f637497ca481156638d97ee4": {
      "model_module": "@jupyter-widgets/controls",
      "model_module_version": "1.4.0",
      "model_name": "FloatProgressModel",
      "state": {
       "description": "Val_Iter: 100%",
       "layout": "IPY_MODEL_8993a4cb918144f9892a9605b35e9c7e",
       "max": 11,
       "style": "IPY_MODEL_be16aef3cc454da598e07725d07262cd",
       "value": 11
      }
     },
     "ed30790935cd4171a5130de048ccd0a1": {
      "model_module": "@jupyter-widgets/base",
      "model_module_version": "1.1.0",
      "model_name": "LayoutModel",
      "state": {}
     },
     "ed31e49bf58a40c5a16c2fa369e5bc2d": {
      "model_module": "@jupyter-widgets/controls",
      "model_module_version": "1.4.0",
      "model_name": "FloatProgressModel",
      "state": {
       "description": "Train_Iter: 100%",
       "layout": "IPY_MODEL_ab55958884ca4a2684421323c44d769e",
       "max": 87,
       "style": "IPY_MODEL_664a29ec8c9246aabf75dae01b0f3e5e",
       "value": 87
      }
     },
     "ed42608b89f44791bfe5e000698ef7c4": {
      "model_module": "@jupyter-widgets/controls",
      "model_module_version": "1.4.0",
      "model_name": "FloatProgressModel",
      "state": {
       "description": "Train_Iter: 100%",
       "layout": "IPY_MODEL_cd62ed1325744756829e7479f5dd9ccb",
       "max": 87,
       "style": "IPY_MODEL_70e4a339eef74c9a8d4a5ccb8f8bc1c8",
       "value": 87
      }
     },
     "ee68112692074b64bf325156e4f8688a": {
      "model_module": "@jupyter-widgets/base",
      "model_module_version": "1.1.0",
      "model_name": "LayoutModel",
      "state": {}
     },
     "ef080220e11944638f561cb163356595": {
      "model_module": "@jupyter-widgets/base",
      "model_module_version": "1.1.0",
      "model_name": "LayoutModel",
      "state": {}
     },
     "ef313b3a596f4377870fd3f2f963fec8": {
      "model_module": "@jupyter-widgets/controls",
      "model_module_version": "1.4.0",
      "model_name": "ProgressStyleModel",
      "state": {
       "description_width": "initial"
      }
     },
     "ef6811cf01874e55a2e462e469ae053c": {
      "model_module": "@jupyter-widgets/controls",
      "model_module_version": "1.4.0",
      "model_name": "DescriptionStyleModel",
      "state": {
       "description_width": ""
      }
     },
     "efcc88a1579e4d6bae453bd8f5bc751d": {
      "model_module": "@jupyter-widgets/base",
      "model_module_version": "1.1.0",
      "model_name": "LayoutModel",
      "state": {}
     },
     "efe57cb56a6e4d5a95375dca119cc01c": {
      "model_module": "@jupyter-widgets/controls",
      "model_module_version": "1.4.0",
      "model_name": "ProgressStyleModel",
      "state": {
       "description_width": "initial"
      }
     },
     "f005855452a64bfc85bd679ef5d8c45b": {
      "model_module": "@jupyter-widgets/base",
      "model_module_version": "1.1.0",
      "model_name": "LayoutModel",
      "state": {}
     },
     "f02d9ad50b3d4831b7e86c2b0dc5bad9": {
      "model_module": "@jupyter-widgets/base",
      "model_module_version": "1.1.0",
      "model_name": "LayoutModel",
      "state": {}
     },
     "f0955acbdf5949dc8b39985025ab59bb": {
      "model_module": "@jupyter-widgets/base",
      "model_module_version": "1.1.0",
      "model_name": "LayoutModel",
      "state": {}
     },
     "f10d68d5ff6944dd87530bd23c0ff692": {
      "model_module": "@jupyter-widgets/base",
      "model_module_version": "1.1.0",
      "model_name": "LayoutModel",
      "state": {}
     },
     "f25bc9a262e6463a85e7f09bc746f686": {
      "model_module": "@jupyter-widgets/base",
      "model_module_version": "1.1.0",
      "model_name": "LayoutModel",
      "state": {}
     },
     "f25df14594d840c7b8c696bac47169a2": {
      "model_module": "@jupyter-widgets/controls",
      "model_module_version": "1.4.0",
      "model_name": "ProgressStyleModel",
      "state": {
       "description_width": "initial"
      }
     },
     "f25e75beeca740db9182d098cc3d20a5": {
      "model_module": "@jupyter-widgets/controls",
      "model_module_version": "1.4.0",
      "model_name": "ProgressStyleModel",
      "state": {
       "description_width": "initial"
      }
     },
     "f36138565c29487b922a0b6eb8a8e4f0": {
      "model_module": "@jupyter-widgets/base",
      "model_module_version": "1.1.0",
      "model_name": "LayoutModel",
      "state": {}
     },
     "f3ae34476d654353a838958672ba5a83": {
      "model_module": "@jupyter-widgets/controls",
      "model_module_version": "1.4.0",
      "model_name": "HTMLModel",
      "state": {
       "layout": "IPY_MODEL_c853c654261c4eac9d4ec351c3b03cde",
       "style": "IPY_MODEL_9aa51d11fffe440fbb026e0b2f8ef544",
       "value": " 87/87 [54:37&lt;00:00, 38.70s/it]"
      }
     },
     "f3cc01903b964aecaff80c5a44df68fa": {
      "model_module": "@jupyter-widgets/controls",
      "model_module_version": "1.4.0",
      "model_name": "HBoxModel",
      "state": {
       "children": [
        "IPY_MODEL_26db79fd49614853b20f7bc21aa215ed",
        "IPY_MODEL_4bd542d1178e4888bedd5c78c5626c20"
       ],
       "layout": "IPY_MODEL_0a4c152367ec46d5b59b5b79e9e443a2"
      }
     },
     "f4a6256c58fb44da8addb1cdd48b1897": {
      "model_module": "@jupyter-widgets/controls",
      "model_module_version": "1.4.0",
      "model_name": "ProgressStyleModel",
      "state": {
       "description_width": "initial"
      }
     },
     "f4cf89a19320477389c0d75fa2b1710d": {
      "model_module": "@jupyter-widgets/controls",
      "model_module_version": "1.4.0",
      "model_name": "ProgressStyleModel",
      "state": {
       "description_width": "initial"
      }
     },
     "f5638e32e9fe44c09d9109cb7efb6e54": {
      "model_module": "@jupyter-widgets/base",
      "model_module_version": "1.1.0",
      "model_name": "LayoutModel",
      "state": {}
     },
     "f66b5ca7e643442592fbbc4a0a85f26f": {
      "model_module": "@jupyter-widgets/controls",
      "model_module_version": "1.4.0",
      "model_name": "DescriptionStyleModel",
      "state": {
       "description_width": ""
      }
     },
     "f6cf5d1a71ca4dd3bce344957887c2e2": {
      "model_module": "@jupyter-widgets/base",
      "model_module_version": "1.1.0",
      "model_name": "LayoutModel",
      "state": {}
     },
     "f72a7c1599664702b520e876512c9dac": {
      "model_module": "@jupyter-widgets/controls",
      "model_module_version": "1.4.0",
      "model_name": "FloatProgressModel",
      "state": {
       "description": "Train_Iter: 100%",
       "layout": "IPY_MODEL_c677d9503a1749c7952279984fe087c7",
       "max": 87,
       "style": "IPY_MODEL_f25df14594d840c7b8c696bac47169a2",
       "value": 87
      }
     },
     "f99bedd6659c48bc8fed09751d1ebd75": {
      "model_module": "@jupyter-widgets/controls",
      "model_module_version": "1.4.0",
      "model_name": "ProgressStyleModel",
      "state": {
       "description_width": "initial"
      }
     },
     "faa1e74c9fb9403494a351b98ebb61dc": {
      "model_module": "@jupyter-widgets/base",
      "model_module_version": "1.1.0",
      "model_name": "LayoutModel",
      "state": {}
     },
     "fad18746c9e0432bb83862ed21b8a3b6": {
      "model_module": "@jupyter-widgets/base",
      "model_module_version": "1.1.0",
      "model_name": "LayoutModel",
      "state": {}
     },
     "fb0c0b497e6b4e4892750019872f4164": {
      "model_module": "@jupyter-widgets/controls",
      "model_module_version": "1.4.0",
      "model_name": "DescriptionStyleModel",
      "state": {
       "description_width": ""
      }
     },
     "fb1534803e1447309be173eaf52bad78": {
      "model_module": "@jupyter-widgets/base",
      "model_module_version": "1.1.0",
      "model_name": "LayoutModel",
      "state": {}
     },
     "fbbc35e68a6a4e40994b331f070a1637": {
      "model_module": "@jupyter-widgets/controls",
      "model_module_version": "1.4.0",
      "model_name": "FloatProgressModel",
      "state": {
       "description": "Val_Iter: 100%",
       "layout": "IPY_MODEL_41cfc74d325a4be8837fd2d79302e779",
       "max": 11,
       "style": "IPY_MODEL_3222034cb75047439727f33acbc835f3",
       "value": 11
      }
     },
     "fbeac5f84b0242389a1102667432c47b": {
      "model_module": "@jupyter-widgets/controls",
      "model_module_version": "1.4.0",
      "model_name": "ProgressStyleModel",
      "state": {
       "description_width": "initial"
      }
     },
     "fc228996770f4347a785bba130b2486c": {
      "model_module": "@jupyter-widgets/base",
      "model_module_version": "1.1.0",
      "model_name": "LayoutModel",
      "state": {}
     },
     "fd644aed7d714e3d86e834223c8997f9": {
      "model_module": "@jupyter-widgets/controls",
      "model_module_version": "1.4.0",
      "model_name": "FloatProgressModel",
      "state": {
       "description": "Epoch:   0%",
       "layout": "IPY_MODEL_f0955acbdf5949dc8b39985025ab59bb",
       "max": 50,
       "style": "IPY_MODEL_33e56bf2ab4b49ea974432b4915e6995"
      }
     },
     "fd7ce960db12442f90422ac8c14e3686": {
      "model_module": "@jupyter-widgets/controls",
      "model_module_version": "1.4.0",
      "model_name": "ProgressStyleModel",
      "state": {
       "description_width": "initial"
      }
     },
     "fe22bf84657a4cf2b24c9a6b6a1e4a2b": {
      "model_module": "@jupyter-widgets/controls",
      "model_module_version": "1.4.0",
      "model_name": "FloatProgressModel",
      "state": {
       "description": "Train_Iter: 100%",
       "layout": "IPY_MODEL_4a3179508394429590f82e82793aaaa6",
       "max": 87,
       "style": "IPY_MODEL_5a58d9469e09466e80609040f8d89430",
       "value": 87
      }
     },
     "fe29101c64d642e5a88ba98b97bf4ac1": {
      "model_module": "@jupyter-widgets/base",
      "model_module_version": "1.1.0",
      "model_name": "LayoutModel",
      "state": {}
     },
     "feecf9b3bd304710a927cd25b778ad08": {
      "model_module": "@jupyter-widgets/base",
      "model_module_version": "1.1.0",
      "model_name": "LayoutModel",
      "state": {}
     },
     "ff888637100642dca130ec2fb7232e13": {
      "model_module": "@jupyter-widgets/controls",
      "model_module_version": "1.4.0",
      "model_name": "DescriptionStyleModel",
      "state": {
       "description_width": ""
      }
     }
    },
    "version_major": 2,
    "version_minor": 0
   }
  }
 },
 "nbformat": 4,
 "nbformat_minor": 4
}
