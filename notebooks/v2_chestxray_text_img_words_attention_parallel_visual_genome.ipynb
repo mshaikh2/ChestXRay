{
 "cells": [
  {
   "cell_type": "code",
   "execution_count": 1,
   "metadata": {},
   "outputs": [
    {
     "name": "stderr",
     "output_type": "stream",
     "text": [
      "Using TensorFlow backend.\n"
     ]
    }
   ],
   "source": [
    "import spacy\n",
    "from keras.applications.vgg16 import VGG16\n",
    "from keras.applications.inception_resnet_v2 import InceptionResNetV2\n",
    "import matplotlib.pyplot as plt\n",
    "from keras.utils import plot_model,multi_gpu_model\n",
    "from IPython.display import SVG\n",
    "from keras.utils.vis_utils import model_to_dot\n",
    "from keras.models import Model\n",
    "from keras.models import load_model\n",
    "from keras.layers import Input,GlobalAveragePooling2D,Layer,InputSpec\n",
    "from keras.layers.core import Dense,Flatten,Dropout\n",
    "from keras.optimizers import Adam,SGD\n",
    "from keras.callbacks import ModelCheckpoint, EarlyStopping, TensorBoard\n",
    "from keras.utils import np_utils\n",
    "import keras.backend as K\n",
    "import keras.layers as kl\n",
    "from keras.preprocessing import sequence\n",
    "import tensorflow as tf\n",
    "from tensorflow.python.client import device_lib\n",
    "from sklearn.metrics import classification_report\n",
    "import pandas as pd\n",
    "import numpy as np\n",
    "from time import time\n",
    "import pickle\n",
    "from keras.models import model_from_json\n",
    "\n",
    "# from AttentionModule import SelfAttention, SoftAttention\n",
    "import os\n",
    "visible_gpu_devices = '0,1,3'\n",
    "os.environ[\"CUDA_VISIBLE_DEVICES\"]=visible_gpu_devices\n",
    "import cv2\n",
    "from tqdm.notebook import tqdm\n",
    "import AttentionMed as AM\n",
    "from importlib import reload\n",
    "reload(AM)\n",
    "from time import time,localtime,strftime\n",
    "from ipywidgets import IntProgress\n",
    "# from coord import CoordinateChannel2D"
   ]
  },
  {
   "cell_type": "code",
   "execution_count": 2,
   "metadata": {},
   "outputs": [],
   "source": [
    "n_gpu=len(visible_gpu_devices.split(','))\n",
    "n_cpu=1\n",
    "tf_config= tf.ConfigProto(device_count = {'GPU': n_gpu , 'CPU': n_cpu})\n",
    "tf_config.gpu_options.allow_growth=True\n",
    "s=tf.Session(config=tf_config)\n",
    "K.set_session(s)"
   ]
  },
  {
   "cell_type": "code",
   "execution_count": null,
   "metadata": {},
   "outputs": [],
   "source": []
  },
  {
   "cell_type": "code",
   "execution_count": 3,
   "metadata": {},
   "outputs": [],
   "source": [
    "def multiheadSelfAttention(prev_layer,layer_number=0,heads=8):\n",
    "    assert prev_layer != None\n",
    "    sa_arr = []\n",
    "    for head in range(heads):\n",
    "        sa,samap = AM.SelfAttention(ch=int(prev_layer.shape[-1]),name='sa{0}{1}'.format(layer_number,head))(prev_layer)\n",
    "        sa = kl.BatchNormalization()(sa)\n",
    "        sa_arr.append(sa)\n",
    "    return sa_arr\n",
    "def multiheadAttention(prev_layer,context_vector,layer_number=0,heads=8):\n",
    "    assert prev_layer != None\n",
    "    assert context_vector != None\n",
    "    a_arr = []\n",
    "    for head in range(heads):\n",
    "        a,a_map = AM.Attention(ch=int(prev_layer.shape[-1]),timesteps=1,name='a{0}{1}'.format(layer_number,head))([context_vector,prev_layer])\n",
    "        a = kl.BatchNormalization()(a)\n",
    "        a_arr.append(a)\n",
    "    return a_arr\n",
    "def feedforwardsa(sa_layer,layer_before_sa,out_channels,layer_number=0,method='add'):\n",
    "    x = kl.Concatenate(name='concat_selfattn_{0}'.format(layer_number))(sa_layer)\n",
    "    x = AM.CondenseAttention1D(ch_in=int(x.shape[-1]),ch_out=out_channels)(x)\n",
    "    x, g1, g2 = AM.ResidualCombine(method=method\n",
    "                                   ,name='residual_combine_selfattn_{0}'.format(layer_number))([layer_before_sa, x])\n",
    "    x = kl.BatchNormalization()(x)\n",
    "    return x\n",
    "def feedforwarda(a_layer,context_vector,out_channels,layer_number=0,method='add'):\n",
    "    x = kl.Concatenate(name='concat_attn_{0}'.format(layer_number))(a_layer)\n",
    "    x = AM.CondenseAttention1D(ch_in=int(x.shape[-1]),ch_out=out_channels)(x)\n",
    "    x = kl.Lambda(lambda x:K.squeeze(x,axis=1),name=\"squeeze_attn_{0}\".format(layer_number))(x)\n",
    "    x, g1, g2 = AM.ResidualCombine(method=method\n",
    "                                   ,name='residual_combine_attn_{0}'.format(layer_number))([context_vector, x])\n",
    "    x = kl.BatchNormalization()(x)\n",
    "    return x"
   ]
  },
  {
   "cell_type": "code",
   "execution_count": 4,
   "metadata": {
    "scrolled": true
   },
   "outputs": [],
   "source": [
    "nlp = spacy.load('en_core_web_md')"
   ]
  },
  {
   "cell_type": "code",
   "execution_count": 5,
   "metadata": {},
   "outputs": [
    {
     "data": {
      "text/plain": [
       "'/media/MyDataStor1/mshaikh2/project_xray/ChestXRay/notebooks'"
      ]
     },
     "execution_count": 5,
     "metadata": {},
     "output_type": "execute_result"
    }
   ],
   "source": [
    "path=os.getcwd() #Get the path\n",
    "path"
   ]
  },
  {
   "cell_type": "code",
   "execution_count": 6,
   "metadata": {
    "scrolled": true
   },
   "outputs": [],
   "source": [
    "merged_ds = pd.read_csv('../../dataset/descriptions/region_descriptions_50000.csv')"
   ]
  },
  {
   "cell_type": "code",
   "execution_count": null,
   "metadata": {
    "scrolled": true
   },
   "outputs": [],
   "source": []
  },
  {
   "cell_type": "code",
   "execution_count": 7,
   "metadata": {},
   "outputs": [],
   "source": [
    "# sent_len_arr=[]\n",
    "# wo_len_arr = []\n",
    "# for row in tqdm(merged_ds['impression'].values):\n",
    "#     doc = nlp(row)\n",
    "#     sentences = [sent.string.strip() for sent in doc.sents]\n",
    "#     sent_len_arr.append(len(sentences))\n",
    "#     sentence = ' '.join(sentences[:7])\n",
    "#     sdoc = nlp(sentence)\n",
    "#     ls_sdoc = [str(x) for x in list(sdoc)]\n",
    "#     wo_len_arr.append(len(ls_sdoc))"
   ]
  },
  {
   "cell_type": "code",
   "execution_count": 8,
   "metadata": {},
   "outputs": [],
   "source": [
    "\n",
    "# df_sent_len = pd.DataFrame(sent_len_arr,columns=['count'])\n",
    "# df_word_len = pd.DataFrame(wo_len_arr,columns=['count'])\n",
    "# df_sent_len.shape,df_word_len.shape"
   ]
  },
  {
   "cell_type": "code",
   "execution_count": 9,
   "metadata": {},
   "outputs": [],
   "source": [
    "# df_word_len.describe()"
   ]
  },
  {
   "cell_type": "code",
   "execution_count": 10,
   "metadata": {
    "scrolled": true
   },
   "outputs": [],
   "source": [
    "# df_sent_len[df_sent_len['count']>7].shape\n",
    "# df_word_len[df_word_len['count']>20]\n"
   ]
  },
  {
   "cell_type": "code",
   "execution_count": 11,
   "metadata": {
    "scrolled": true
   },
   "outputs": [],
   "source": [
    "# ch_to_co = df_ccount\n",
    "# ch_to_co.index = ch_to_co.chars\n",
    "# ch_to_co = ch_to_co['index'].to_dict()\n",
    "# display(ch_to_co)\n",
    "# co_to_ch = df_ccount\n",
    "# co_to_ch.index = co_to_ch['index']\n",
    "# co_to_ch = co_to_ch['chars'].to_dict()\n",
    "# display(co_to_ch)"
   ]
  },
  {
   "cell_type": "code",
   "execution_count": 12,
   "metadata": {},
   "outputs": [],
   "source": [
    "# tokens = nlp('startseq ' \n",
    "#              + ' '.join(c_repo_ds.impression.values).lower().replace('/',' ')\n",
    "#              + ' endseq.' \n",
    "#              + ' startseq' \n",
    "#              + ' '.join(c_repo_ds.findings.values).lower().replace('/',' ')\n",
    "#              + ' endseq.')"
   ]
  },
  {
   "cell_type": "code",
   "execution_count": 13,
   "metadata": {},
   "outputs": [],
   "source": [
    "# vocab = [str(x) for x in tokens]\n",
    "# vocab"
   ]
  },
  {
   "cell_type": "code",
   "execution_count": 14,
   "metadata": {
    "scrolled": true
   },
   "outputs": [
    {
     "data": {
      "text/html": [
       "<div>\n",
       "<style scoped>\n",
       "    .dataframe tbody tr th:only-of-type {\n",
       "        vertical-align: middle;\n",
       "    }\n",
       "\n",
       "    .dataframe tbody tr th {\n",
       "        vertical-align: top;\n",
       "    }\n",
       "\n",
       "    .dataframe thead th {\n",
       "        text-align: right;\n",
       "    }\n",
       "</style>\n",
       "<table border=\"1\" class=\"dataframe\">\n",
       "  <thead>\n",
       "    <tr style=\"text-align: right;\">\n",
       "      <th></th>\n",
       "      <th>index</th>\n",
       "      <th>words</th>\n",
       "      <th>w_count</th>\n",
       "    </tr>\n",
       "  </thead>\n",
       "  <tbody>\n",
       "    <tr>\n",
       "      <th>0</th>\n",
       "      <td>3434</td>\n",
       "      <td>.</td>\n",
       "      <td>450076</td>\n",
       "    </tr>\n",
       "    <tr>\n",
       "      <th>1</th>\n",
       "      <td>13908</td>\n",
       "      <td>a</td>\n",
       "      <td>200676</td>\n",
       "    </tr>\n",
       "    <tr>\n",
       "      <th>2</th>\n",
       "      <td>14934</td>\n",
       "      <td>the</td>\n",
       "      <td>198458</td>\n",
       "    </tr>\n",
       "    <tr>\n",
       "      <th>3</th>\n",
       "      <td>16021</td>\n",
       "      <td>on</td>\n",
       "      <td>122073</td>\n",
       "    </tr>\n",
       "    <tr>\n",
       "      <th>4</th>\n",
       "      <td>10923</td>\n",
       "      <td>of</td>\n",
       "      <td>88941</td>\n",
       "    </tr>\n",
       "    <tr>\n",
       "      <th>5</th>\n",
       "      <td>15692</td>\n",
       "      <td>is</td>\n",
       "      <td>74203</td>\n",
       "    </tr>\n",
       "    <tr>\n",
       "      <th>6</th>\n",
       "      <td>11138</td>\n",
       "      <td>in</td>\n",
       "      <td>61882</td>\n",
       "    </tr>\n",
       "    <tr>\n",
       "      <th>7</th>\n",
       "      <td>6384</td>\n",
       "      <td>white</td>\n",
       "      <td>59361</td>\n",
       "    </tr>\n",
       "    <tr>\n",
       "      <th>8</th>\n",
       "      <td>1829</td>\n",
       "      <td>..</td>\n",
       "      <td>57700</td>\n",
       "    </tr>\n",
       "    <tr>\n",
       "      <th>9</th>\n",
       "      <td>18441</td>\n",
       "      <td>black</td>\n",
       "      <td>37028</td>\n",
       "    </tr>\n",
       "    <tr>\n",
       "      <th>10</th>\n",
       "      <td>13305</td>\n",
       "      <td>man</td>\n",
       "      <td>33233</td>\n",
       "    </tr>\n",
       "    <tr>\n",
       "      <th>11</th>\n",
       "      <td>14932</td>\n",
       "      <td>and</td>\n",
       "      <td>33071</td>\n",
       "    </tr>\n",
       "    <tr>\n",
       "      <th>12</th>\n",
       "      <td>11979</td>\n",
       "      <td>with</td>\n",
       "      <td>28825</td>\n",
       "    </tr>\n",
       "    <tr>\n",
       "      <th>13</th>\n",
       "      <td>1352</td>\n",
       "      <td>blue</td>\n",
       "      <td>25001</td>\n",
       "    </tr>\n",
       "    <tr>\n",
       "      <th>14</th>\n",
       "      <td>7155</td>\n",
       "      <td>red</td>\n",
       "      <td>23102</td>\n",
       "    </tr>\n",
       "    <tr>\n",
       "      <th>15</th>\n",
       "      <td>13020</td>\n",
       "      <td>green</td>\n",
       "      <td>21692</td>\n",
       "    </tr>\n",
       "    <tr>\n",
       "      <th>16</th>\n",
       "      <td>13050</td>\n",
       "      <td>wearing</td>\n",
       "      <td>19083</td>\n",
       "    </tr>\n",
       "    <tr>\n",
       "      <th>17</th>\n",
       "      <td>7454</td>\n",
       "      <td>building</td>\n",
       "      <td>18596</td>\n",
       "    </tr>\n",
       "    <tr>\n",
       "      <th>18</th>\n",
       "      <td>15646</td>\n",
       "      <td>brown</td>\n",
       "      <td>16989</td>\n",
       "    </tr>\n",
       "    <tr>\n",
       "      <th>19</th>\n",
       "      <td>2831</td>\n",
       "      <td>woman</td>\n",
       "      <td>15079</td>\n",
       "    </tr>\n",
       "    <tr>\n",
       "      <th>20</th>\n",
       "      <td>13985</td>\n",
       "      <td>are</td>\n",
       "      <td>14602</td>\n",
       "    </tr>\n",
       "    <tr>\n",
       "      <th>21</th>\n",
       "      <td>19740</td>\n",
       "      <td>'s</td>\n",
       "      <td>14106</td>\n",
       "    </tr>\n",
       "    <tr>\n",
       "      <th>22</th>\n",
       "      <td>27</td>\n",
       "      <td>wall</td>\n",
       "      <td>13639</td>\n",
       "    </tr>\n",
       "    <tr>\n",
       "      <th>23</th>\n",
       "      <td>16550</td>\n",
       "      <td>yellow</td>\n",
       "      <td>12618</td>\n",
       "    </tr>\n",
       "    <tr>\n",
       "      <th>24</th>\n",
       "      <td>7669</td>\n",
       "      <td>window</td>\n",
       "      <td>12279</td>\n",
       "    </tr>\n",
       "    <tr>\n",
       "      <th>25</th>\n",
       "      <td>19711</td>\n",
       "      <td>person</td>\n",
       "      <td>11997</td>\n",
       "    </tr>\n",
       "    <tr>\n",
       "      <th>26</th>\n",
       "      <td>19821</td>\n",
       "      <td>sign</td>\n",
       "      <td>11669</td>\n",
       "    </tr>\n",
       "    <tr>\n",
       "      <th>27</th>\n",
       "      <td>5546</td>\n",
       "      <td>shirt</td>\n",
       "      <td>11455</td>\n",
       "    </tr>\n",
       "    <tr>\n",
       "      <th>28</th>\n",
       "      <td>13298</td>\n",
       "      <td>has</td>\n",
       "      <td>11092</td>\n",
       "    </tr>\n",
       "    <tr>\n",
       "      <th>29</th>\n",
       "      <td>15413</td>\n",
       "      <td>to</td>\n",
       "      <td>10846</td>\n",
       "    </tr>\n",
       "    <tr>\n",
       "      <th>...</th>\n",
       "      <td>...</td>\n",
       "      <td>...</td>\n",
       "      <td>...</td>\n",
       "    </tr>\n",
       "    <tr>\n",
       "      <th>20764</th>\n",
       "      <td>14124</td>\n",
       "      <td>wegmans</td>\n",
       "      <td>1</td>\n",
       "    </tr>\n",
       "    <tr>\n",
       "      <th>20765</th>\n",
       "      <td>6634</td>\n",
       "      <td>pendants</td>\n",
       "      <td>1</td>\n",
       "    </tr>\n",
       "    <tr>\n",
       "      <th>20766</th>\n",
       "      <td>6633</td>\n",
       "      <td>535</td>\n",
       "      <td>1</td>\n",
       "    </tr>\n",
       "    <tr>\n",
       "      <th>20767</th>\n",
       "      <td>6632</td>\n",
       "      <td>chait</td>\n",
       "      <td>1</td>\n",
       "    </tr>\n",
       "    <tr>\n",
       "      <th>20768</th>\n",
       "      <td>6630</td>\n",
       "      <td>blue+bright</td>\n",
       "      <td>1</td>\n",
       "    </tr>\n",
       "    <tr>\n",
       "      <th>20769</th>\n",
       "      <td>14130</td>\n",
       "      <td>www.krajicek.net</td>\n",
       "      <td>1</td>\n",
       "    </tr>\n",
       "    <tr>\n",
       "      <th>20770</th>\n",
       "      <td>14131</td>\n",
       "      <td>1994</td>\n",
       "      <td>1</td>\n",
       "    </tr>\n",
       "    <tr>\n",
       "      <th>20771</th>\n",
       "      <td>6629</td>\n",
       "      <td>screem</td>\n",
       "      <td>1</td>\n",
       "    </tr>\n",
       "    <tr>\n",
       "      <th>20772</th>\n",
       "      <td>14133</td>\n",
       "      <td>motorists</td>\n",
       "      <td>1</td>\n",
       "    </tr>\n",
       "    <tr>\n",
       "      <th>20773</th>\n",
       "      <td>14116</td>\n",
       "      <td>luxe</td>\n",
       "      <td>1</td>\n",
       "    </tr>\n",
       "    <tr>\n",
       "      <th>20774</th>\n",
       "      <td>6640</td>\n",
       "      <td>o'neil</td>\n",
       "      <td>1</td>\n",
       "    </tr>\n",
       "    <tr>\n",
       "      <th>20775</th>\n",
       "      <td>6642</td>\n",
       "      <td>grownd</td>\n",
       "      <td>1</td>\n",
       "    </tr>\n",
       "    <tr>\n",
       "      <th>20776</th>\n",
       "      <td>6658</td>\n",
       "      <td>curdoroy</td>\n",
       "      <td>1</td>\n",
       "    </tr>\n",
       "    <tr>\n",
       "      <th>20777</th>\n",
       "      <td>6677</td>\n",
       "      <td>champs</td>\n",
       "      <td>1</td>\n",
       "    </tr>\n",
       "    <tr>\n",
       "      <th>20778</th>\n",
       "      <td>6674</td>\n",
       "      <td>somerset</td>\n",
       "      <td>1</td>\n",
       "    </tr>\n",
       "    <tr>\n",
       "      <th>20779</th>\n",
       "      <td>6667</td>\n",
       "      <td>medians</td>\n",
       "      <td>1</td>\n",
       "    </tr>\n",
       "    <tr>\n",
       "      <th>20780</th>\n",
       "      <td>6666</td>\n",
       "      <td>bast</td>\n",
       "      <td>1</td>\n",
       "    </tr>\n",
       "    <tr>\n",
       "      <th>20781</th>\n",
       "      <td>14102</td>\n",
       "      <td>convo</td>\n",
       "      <td>1</td>\n",
       "    </tr>\n",
       "    <tr>\n",
       "      <th>20782</th>\n",
       "      <td>6660</td>\n",
       "      <td>postvisual</td>\n",
       "      <td>1</td>\n",
       "    </tr>\n",
       "    <tr>\n",
       "      <th>20783</th>\n",
       "      <td>14105</td>\n",
       "      <td>peopl</td>\n",
       "      <td>1</td>\n",
       "    </tr>\n",
       "    <tr>\n",
       "      <th>20784</th>\n",
       "      <td>14113</td>\n",
       "      <td>mellow</td>\n",
       "      <td>1</td>\n",
       "    </tr>\n",
       "    <tr>\n",
       "      <th>20785</th>\n",
       "      <td>6656</td>\n",
       "      <td>surfandrock.com</td>\n",
       "      <td>1</td>\n",
       "    </tr>\n",
       "    <tr>\n",
       "      <th>20786</th>\n",
       "      <td>6655</td>\n",
       "      <td>antiqued</td>\n",
       "      <td>1</td>\n",
       "    </tr>\n",
       "    <tr>\n",
       "      <th>20787</th>\n",
       "      <td>6651</td>\n",
       "      <td>saliva</td>\n",
       "      <td>1</td>\n",
       "    </tr>\n",
       "    <tr>\n",
       "      <th>20788</th>\n",
       "      <td>6649</td>\n",
       "      <td>kissed</td>\n",
       "      <td>1</td>\n",
       "    </tr>\n",
       "    <tr>\n",
       "      <th>20789</th>\n",
       "      <td>6648</td>\n",
       "      <td>casa</td>\n",
       "      <td>1</td>\n",
       "    </tr>\n",
       "    <tr>\n",
       "      <th>20790</th>\n",
       "      <td>6647</td>\n",
       "      <td>coppertone</td>\n",
       "      <td>1</td>\n",
       "    </tr>\n",
       "    <tr>\n",
       "      <th>20791</th>\n",
       "      <td>10397</td>\n",
       "      <td>substitutes</td>\n",
       "      <td>1</td>\n",
       "    </tr>\n",
       "    <tr>\n",
       "      <th>20792</th>\n",
       "      <td>20793</td>\n",
       "      <td>startseq</td>\n",
       "      <td>50000</td>\n",
       "    </tr>\n",
       "    <tr>\n",
       "      <th>20793</th>\n",
       "      <td>20794</td>\n",
       "      <td>endseq</td>\n",
       "      <td>50000</td>\n",
       "    </tr>\n",
       "  </tbody>\n",
       "</table>\n",
       "<p>20794 rows × 3 columns</p>\n",
       "</div>"
      ],
      "text/plain": [
       "       index             words  w_count\n",
       "0       3434                 .   450076\n",
       "1      13908                 a   200676\n",
       "2      14934               the   198458\n",
       "3      16021                on   122073\n",
       "4      10923                of    88941\n",
       "5      15692                is    74203\n",
       "6      11138                in    61882\n",
       "7       6384             white    59361\n",
       "8       1829                ..    57700\n",
       "9      18441             black    37028\n",
       "10     13305               man    33233\n",
       "11     14932               and    33071\n",
       "12     11979              with    28825\n",
       "13      1352              blue    25001\n",
       "14      7155               red    23102\n",
       "15     13020             green    21692\n",
       "16     13050           wearing    19083\n",
       "17      7454          building    18596\n",
       "18     15646             brown    16989\n",
       "19      2831             woman    15079\n",
       "20     13985               are    14602\n",
       "21     19740                's    14106\n",
       "22        27              wall    13639\n",
       "23     16550            yellow    12618\n",
       "24      7669            window    12279\n",
       "25     19711            person    11997\n",
       "26     19821              sign    11669\n",
       "27      5546             shirt    11455\n",
       "28     13298               has    11092\n",
       "29     15413                to    10846\n",
       "...      ...               ...      ...\n",
       "20764  14124           wegmans        1\n",
       "20765   6634          pendants        1\n",
       "20766   6633               535        1\n",
       "20767   6632             chait        1\n",
       "20768   6630       blue+bright        1\n",
       "20769  14130  www.krajicek.net        1\n",
       "20770  14131              1994        1\n",
       "20771   6629            screem        1\n",
       "20772  14133         motorists        1\n",
       "20773  14116              luxe        1\n",
       "20774   6640            o'neil        1\n",
       "20775   6642            grownd        1\n",
       "20776   6658          curdoroy        1\n",
       "20777   6677            champs        1\n",
       "20778   6674          somerset        1\n",
       "20779   6667           medians        1\n",
       "20780   6666              bast        1\n",
       "20781  14102             convo        1\n",
       "20782   6660        postvisual        1\n",
       "20783  14105             peopl        1\n",
       "20784  14113            mellow        1\n",
       "20785   6656   surfandrock.com        1\n",
       "20786   6655          antiqued        1\n",
       "20787   6651            saliva        1\n",
       "20788   6649            kissed        1\n",
       "20789   6648              casa        1\n",
       "20790   6647        coppertone        1\n",
       "20791  10397       substitutes        1\n",
       "20792  20793          startseq    50000\n",
       "20793  20794            endseq    50000\n",
       "\n",
       "[20794 rows x 3 columns]"
      ]
     },
     "metadata": {},
     "output_type": "display_data"
    },
    {
     "name": "stdout",
     "output_type": "stream",
     "text": [
      "20794 60\n"
     ]
    }
   ],
   "source": [
    "# word_count = {}\n",
    "# for word in vocab:\n",
    "#     if word not in word_count.keys():\n",
    "#         word_count[word]=1\n",
    "#     else:\n",
    "#         word_count[word]+=1\n",
    "# df_wcount = pd.DataFrame()\n",
    "# df_wcount['words']=word_count.keys()\n",
    "# df_wcount['w_count']=word_count.values()\n",
    "# df_wcount = df_wcount.sort_values(by='w_count',ascending=False).reset_index()\n",
    "# df_wcount['index']+=1\n",
    "\n",
    "# df_wcount.to_csv('../dataset/vocab_count.csv',index=False)\n",
    "df_wcount = pd.read_csv('../../dataset/descriptions/visual_genome_vocab_count.csv')\n",
    "\n",
    "display(df_wcount)\n",
    "vocab_size=df_wcount.shape[0]\n",
    "max_wlen = 60\n",
    "print(vocab_size,max_wlen)"
   ]
  },
  {
   "cell_type": "code",
   "execution_count": 15,
   "metadata": {
    "scrolled": true
   },
   "outputs": [
    {
     "name": "stdout",
     "output_type": "stream",
     "text": [
      "597 ['.', '..', \"'s\", ' ', ',', '-', '\"', \"'\", '&', '/', 'w/', '[', '\\n', '@', \"n't\", ']', '?', ':', ';', 'p.', 't.v', '...', '  ', '!', '$', '_', 'w.', 'u.s', 'n.', 'a.', \"o'clock\", 'c.', '#', 'x.', '(', 'r.', ')', 'e.', 's.', 't.', 'b.', '1/2', 'l.', 'man`s', 'woman`s', 'm.', 'c-130', '=', 'black+white', '   ', '....', 'and/or', 'o.', 'red+white', 'dog`s', 'i.', 'girl`s', 'v.', 'm&m', 'g.', '......', 'f.', '+', '.....', 'sr-71', 'y.', \"'m\", 'co.', 'h.', 'cow`s', 'j.', 'd.', '`', 'boy`s', '%', 'man;s', '--', '\\n\\n', 't-', '2:35', '1:45', 'u.', 'w/o', 'red+black', 'at&t', '11:50am', '1.00', '12:00', '3:17', '7:05', \"'re\", 'brown+white', '1/3', 'back+one', 'i.d', '/or', '1:55', 'green+white', '10:50', '12:43', '                                    ', 'b+w', '4-post', 'child`s', '11:20', '3:00', 'trunk+branches', '12:40', 'www.myprofe.com', 'person`s', 'k.', 'catcher`s', '9.99', 'free!.', '    ', 'a&m', '3-way', '3:55', 'sea+sky', '11:05', '4-way', '2:20', 'tool+a', 'house/', 'him!.', '11.45', 'tell].', 'red+grey', 'only].', '60s].', '7:23', '].', '6:05', 'in]directly', 'w&s', '40/8', 'woman;s', '8:33', 'section+clear', '6-pained', '3:04', '4.18', 'stuffed+fluffy', '7:59', '107.3', 'bumped+chunked', '9:55', 'photo!.', '24-hour', 'news.com', \"saffron'd\", '12:54', '.francis', 'h.w.bush', 'j.b', '063_689', 'by-', 'sunset-8am', 'guy+presently', 'couch.l', '10:36', '12:51', '6:35', '17,000', '4:07', 'plump+green', '8am-6pm', '3:45', \"'ve\", '7:49pm', 'lights+darkness', \"saute'd\", 'in-', '5:15', \"po'di\", 'www.londonducktoursco.uk', 'white+clear', '3.02', 'low-', '4:05', 'red+blue', '12:20', '2-story', 'j.w.c', 'ricoh.com', '2:50', 'reading11:20', '11:19', '19.99', 'man+woman', '6:40', '1:30', \"graffiti'd\", '101.5', 'caps].', '12.15', '.person', '2:04', '9:17', 'soft+honestly', '2:46', '½-bare', '9:20', 'pitcher`s', 'legs+curious', '1:00', 'p.j', '5:13', 'folks!.', 'reals].', '5:09', 'californian].', 'c.ock', '2.40', '50-yard', 'large+long', 'black+copper', '5:17', '11:04', 'red+a', 'h&e', '12:32', '2012].', ' \\n', 'green+dry', '½-chewed', 'ends+beneath', 'you!.', 'al].', '8.00', 'momcat+kitten', 'green+yellow', 'h.w', 'n.r', 'track.s', '01/03/2008', 'dishes+jam', '1:54', 'maybe].', 'bl;ack', 'boy+kite', '01/05/2011', '1.5', 'beneath+behind', 'j.7124', 'round+', '9:45', 'stix!!.', '2:55', '3-wheel', '9:11', 'hay+straw', '10:52', '1/3d', '3:12', '11:29', '5:20', '12:14', '3:27', 'specks+dashes', 'front+center', 'red+yellow', 'u.k', '12:25', '-yell-', '2-way', 'hopeful;doubtful].', 'calories!.', 'curved+red', '3:54', 'black+white+red', 'lo[ve', 'walther.siksma.ni', '5:06', 'giraffe+one', 'confusion+displeasure', 'apologies].', 'phone.;.', 'multi-', 'pizzas!.', '6:45', 't.c', '1:25', '11.27', 'scarflet+caplet', 'it+nose', '1:53', '5.05', '3:50', '0.99', 'legs+a', 'co.is', 'head+neck', 'wave!.', 'megabus.com', 'front_.', '6:50', 'nose+chin', 'www.go-metro.com', 'dots+dashes', 'heads+tails', 'white+light', 'j-063', 'airplane/.', 'ear+a', 'heights+fairfax', 'television].', '10:45', 'down+illegible', '6:10', '1:52', '5:25', 'top+red', 'joy].', 'c.p.u', '12:05', '4.50', 'thick+clear', 'middle].', '11:41', 'elephant.etsy.com', 'roof+sharp', '11/25/1941', 'pink+red', 'nadalnews.com', 'wii.two', 'eye-', '4:18', 'sunglasses;white', '12:19', '10.00', '3:59', 'l;ights', 'b;ack', 'm&j', \"o'donnell\", '-or-', '12-oz', '7-eleven', \"differen't\", '                                                                                                    ', 'miamidreamrealty.com', 'full+very', 'metro-', '5:40', 'poles+skis', 'pants/', 'unsure].', '12:15', 'tail+paw', \"o'brien\", '12/22/2006', 'white-', \"arc'd\", 'atop+mixed', '11:08', 'zeeman\"printed', '2.29', '8:58', 'downtowntraveler.com', '9:00', \"passenger's\", 'label+perhaps', '04/19/2012', '2.50', '            ', 'coat/.', 'player`s', '3-dome', '-rock', 'k.a', 'boxed+packaged', '1:31', 'rocks!.', 'good!.', '5:54', 'letters+numbers', '11:31:13', 'long+thin', 'featured+in', 'snaps+things', '2.10', 'ra-3560k', \"don't\", 're+white', 'top+bottom+sides', 'sniffs+tastes', '11:15', 'yellow+sparse', 'clydesdale].', '1.99', \"o'dwyer\", '22.00', '5:27', '3:21', 'foto.jlathrop', '12:13', 'whoa!.', 'q-16', 'ears+fur', 'd-0003', '10:54', 'shoulder+foreleg', 'he;met', 'transavia.com', '9:51', 'beside+below', '2:22', 'ahead].', '5:10', 'food+the', '7pm-7am', '                                                                                                                                     ', 'yellow+several', 'green+grey', 'g.t', '5:00', 'names+miles', '\\n\\n\\n\\n\\n\\n\\n\\n', '10:17', 'cream+a', '3/5ths', \"pop'n'fresh\", \"gir'l\", '4:20', 'board!.', 'g-3', '3:32', 'blue+lavender', 'o`clock', 'c.d', 'green+red', 'wretched!.', '10:14', 'grey+white', '5:41', '11:58', '3:15', 's.u.v', 'f\"s', 'rkz-438', '7:39', '4:45', 'orange+red', '10.24.09', '~½', 'u.s.a.f', 'k.o.d', 'ky-[s]p[k', '6.55', 'towel+hand', '5:37', 'showing\"5:03', 'short+stout', 'i/', '2.00', '2:10', 'd&g', 'orange-', 'bananas+apples', 'white+off', 'all-', \"fron'ts\", '12/03/2007', '26.00+dec', '4:00', 'v-2', 'sticker+logo', '3:53', 'lilac+duck', '—.', 'mode;railroad', 'j-062', '4:14', 'st-46', '11:03', 'cx-7', '8:47', '4:53', 'letters-', 'stripe+spots', 'direct.com', '~20', '7:26', 'it-', 'brightcookie.com', '2-wheel', '3:39', 'p[art', 'bear`s', 'red+black+grey', 'back+head', '4-drawer', 'front+centre', '10.51', '6:36', '12:16', 'once!.', '         ', 'beach!.', 'side-', 'pink+brown+darker', 'less].', '2:03', '0.75', 'pink+fairly', '3:10', 'clips+their', '2010].', \"o'neill\", '11:56', '3/4', 'thin+likely', 'confusing].', '51/2', 'everything!.', '1.45', \"its'pedistel\", '3:23', \"handle'd\", 'yes!.', '11:21', 'bushes+grass', 'joespizza.it', '7am-7pm', 'turkerworker!.', '3:7pm', 'j-011', 'plump+yellow', 'royal+navy', '7:57', 'p.m', 'building+its', \"d'albe\", 'yellow+bloodshot', 'top+bottom', '18:00', '12:24', '3:28', 'md.-del', 'tag+sticker', '6:44', 'photographer].', 'microphone/.', '1:43', 'expression+a', 'code].', 'easyjet.com', 'd.s', 'm.p.h', 'remotes!.', '2:56', '11:25', 'pole/.', '1.35c', 'grey+black', 'methinketh].', 'ball/.', '2.99', 'rope+feather', 'white+flocculent', 'petitplat.fr', '10-key', 'norwegian.com', 'floor+cable', '5-gallon', 'n.b.r', 'top+curved', 'kites!.', '70s].', 'martha_2011', 'platfo[rm', '12:30', '7:35', 'oh].', '7.5', 'dark+split', 'red+bowed', 'rogers.com', 'experience].', 'ribs+spines', 'nose+nostrils', '3:25', 'end[s].', 'am=', 'pepperoni`s', 'sea+wavelet', '10:28', '1:34', 'atiempo.dk', 'kinds!.', 'front+back', 'grass+-', 'blue+bright', 'www.krajicek.net', \"o'neil\", 'surfandrock.com']\n"
     ]
    }
   ],
   "source": [
    "new_words= [word for word in df_wcount['words'].values if not word.isalnum()]\n",
    "print(len(new_words),new_words)"
   ]
  },
  {
   "cell_type": "code",
   "execution_count": 16,
   "metadata": {},
   "outputs": [],
   "source": [
    "w_to_co = df_wcount\n",
    "w_to_co.index = w_to_co.words\n",
    "w_to_co = w_to_co['index'].to_dict()\n",
    "# print(w_to_co)\n",
    "co_to_w = df_wcount\n",
    "co_to_w.index = co_to_w['index']\n",
    "co_to_w = co_to_w['words'].to_dict()\n",
    "# print(co_to_w)"
   ]
  },
  {
   "cell_type": "code",
   "execution_count": 17,
   "metadata": {
    "scrolled": true
   },
   "outputs": [
    {
     "data": {
      "text/plain": [
       "'troaster'"
      ]
     },
     "execution_count": 17,
     "metadata": {},
     "output_type": "execute_result"
    }
   ],
   "source": [
    "# df = pd.DataFrame(sorted(finding_len,reverse=True))\n",
    "# display(df.head(50))\n",
    "# df.plot(kind='hist',figsize=(6,6))\n",
    "co_to_w[13]"
   ]
  },
  {
   "cell_type": "code",
   "execution_count": 18,
   "metadata": {
    "scrolled": true
   },
   "outputs": [],
   "source": [
    "embedding_size = 300\n",
    "# embedding_matrix = np.zeros((vocab_size+1, embedding_size)) # last one : to cater to empty/-1\n",
    "# for word,idx in w_to_co.items():\n",
    "#     token = nlp(word)\n",
    "#     embedding_matrix[idx] = token.vector\n",
    "# embedding_matrix[vocab_size] = np.zeros(embedding_size)\n",
    "embedding_matrix = pd.read_pickle('../../dataset/descriptions/visual_genome_initial_emb_mat.p')\n",
    "embedding_matrix = embedding_matrix.values\n",
    "# print(embedding_matrix.shape)\n",
    "# df_emb = pd.DataFrame(embedding_matrix)\n",
    "# df_emb.to_pickle('../dataset/initial_emb_mat.p')"
   ]
  },
  {
   "cell_type": "code",
   "execution_count": null,
   "metadata": {
    "scrolled": true
   },
   "outputs": [],
   "source": []
  },
  {
   "cell_type": "markdown",
   "metadata": {},
   "source": [
    "# Parameters"
   ]
  },
  {
   "cell_type": "code",
   "execution_count": 19,
   "metadata": {},
   "outputs": [],
   "source": [
    "img_arch = 'vgg'\n",
    "text_arch = '1dcnn'\n",
    "model_name = '{0}_{1}_text_img_attention'.format(img_arch,text_arch)\n",
    "EPOCHS = 50\n",
    "lr = 0.0001\n",
    "img_dropout_rate=0.5\n",
    "text_dropout_rate=0.5\n",
    "elu_alpha = 1.0"
   ]
  },
  {
   "cell_type": "markdown",
   "metadata": {},
   "source": [
    "# Model Initialization"
   ]
  },
  {
   "cell_type": "code",
   "execution_count": 20,
   "metadata": {},
   "outputs": [],
   "source": [
    "def VGGNet():\n",
    "    image_input = Input(shape=(256,256,3),name='image_input')\n",
    "    # x = CoordinateChannel2D()(inp)\n",
    "    x = kl.Conv2D(filters=64, kernel_size=(3,3), activation='relu', padding='same', name='block1_conv1')(image_input)\n",
    "    x = kl.Conv2D(filters=64, kernel_size=(3,3), activation='relu', padding='same', name='block1_conv2')(x)\n",
    "    x = kl.Conv2D(filters=64, kernel_size=2, strides=2, activation='relu', padding='same', name='block1_reduction_conv')(x)\n",
    "    x = kl.BatchNormalization()(x)\n",
    "    x = kl.Dropout(img_dropout_rate)(x)\n",
    "\n",
    "    x = kl.Conv2D(filters=128, kernel_size=(3,3), activation='relu', padding='same', name='block2_conv1')(x)\n",
    "    x = kl.Conv2D(filters=128, kernel_size=(3,3), activation='relu', padding='same', name='block2_conv2')(x)\n",
    "    x = kl.Conv2D(filters=128, kernel_size=2, strides=2, activation='relu', padding='same', name='block2_reduction_conv')(x)\n",
    "    x = kl.BatchNormalization()(x)\n",
    "    x = kl.Dropout(img_dropout_rate)(x)\n",
    "\n",
    "    x = kl.Conv2D(filters=256, kernel_size=(3,3), activation='relu', padding='same', name='block3_conv1')(x)\n",
    "    x = kl.Conv2D(filters=256, kernel_size=(3,3), activation='relu', padding='same', name='block3_conv2')(x)\n",
    "    x = kl.Conv2D(filters=256, kernel_size=(3,3), activation='relu', padding='same', name='block3_conv3')(x)\n",
    "    x = kl.Conv2D(filters=256, kernel_size=2, strides=2, activation='relu', padding='same', name='block3_reduction_conv')(x)\n",
    "    x = kl.BatchNormalization()(x)\n",
    "    x = kl.Dropout(img_dropout_rate)(x)\n",
    "\n",
    "    x = kl.Conv2D(filters=512, kernel_size=(3,3), activation='relu', padding='same', name='block4_conv1')(x)\n",
    "    x = kl.Conv2D(filters=512, kernel_size=(3,3), activation='relu', padding='same', name='block4_conv2')(x)\n",
    "    x = kl.Conv2D(filters=512, kernel_size=(3,3), activation='relu', padding='same', name='block4_conv3')(x)\n",
    "    # x = CoordinateChannel2D(use_radius=True)(x)\n",
    "#     x, samap, g = SelfAttention(ch=512, name='self_attention')(x)\n",
    "    x = kl.Conv2D(filters=512, kernel_size=2, strides=2, activation='relu', padding='same', name='block4_reduction_conv')(x)\n",
    "    x = kl.BatchNormalization()(x)\n",
    "    x = kl.Dropout(img_dropout_rate)(x)\n",
    "\n",
    "    x = kl.Conv2D(filters=512, kernel_size=(3,3), activation='relu', padding='same', name='block5_conv1')(x)\n",
    "    x = kl.Conv2D(filters=512, kernel_size=(3,3), activation='relu', padding='same', name='block5_conv2')(x)\n",
    "    x = kl.Conv2D(filters=512, kernel_size=(3,3), activation='relu', padding='same', name='block5_conv3')(x)\n",
    "#     x, amaps = SoftAttention(ch=512, m=32, name='soft_attention')(x)\n",
    "    x = kl.Conv2D(filters=512, kernel_size=2, strides=2, activation='relu', padding='same', name='block5_reduction_conv')(x)\n",
    "    return Model(image_input,x,name='imgModel')\n",
    "# def DenseNet():\n",
    "#     qw = Input(shape=(256,256,3),name='image_input')\n",
    "#     qw_1 = kl.Conv2D(strides=1,padding='valid',activation='relu',filters=64,name='conv',kernel_size=3)(qw)\n",
    "\n",
    "#     qw_1 = densenet.densenet.conv_block(x=qw_1,growth_rate=64,name='conv_1',)\n",
    "\n",
    "#     qw_2 = densenet.densenet.dense_block(qw_1,blocks=1,name='block_1')\n",
    "#     qw_2 = kl.BatchNormalization()(qw_2)\n",
    "#     qw_2 = kl.Activation('relu')(qw_2)\n",
    "#     qw_2 = kl.Conv2D(filters=64, kernel_size=2, strides=2, activation='relu', padding='same', name='block1_reduction_conv')(qw_2)\n",
    "#     qw_2 = kl.Dropout(0.5)(qw_2)\n",
    "\n",
    "#     qw_2 = densenet.densenet.dense_block(qw_2,blocks=1,name='block_2')\n",
    "#     qw_2 = kl.BatchNormalization()(qw_2)\n",
    "#     qw_2 = kl.Activation('relu')(qw_2)\n",
    "#     # qw_2 = kl.MaxPool2D(pool_size=2)(qw_2)\n",
    "#     qw_2 = kl.Conv2D(filters=128, kernel_size=2, strides=2, activation='relu', padding='same', name='block2_reduction_conv')(qw_2)\n",
    "#     qw_2 = kl.Dropout(0.5)(qw_2)\n",
    "\n",
    "#     qw_2 = densenet.densenet.dense_block(qw_2,blocks=1,name='block_3')\n",
    "#     qw_2 = kl.BatchNormalization()(qw_2)\n",
    "#     qw_2 = kl.Activation('relu')(qw_2)\n",
    "#     # qw_2 = kl.MaxPool2D(pool_size=2)(qw_2)\n",
    "#     qw_2 = kl.Conv2D(filters=256, kernel_size=2, strides=2, activation='relu', padding='same', name='block3_reduction_conv')(qw_2)\n",
    "#     qw_2 = kl.Dropout(0.5)(qw_2)\n",
    "\n",
    "#     qw_2 = densenet.densenet.dense_block(qw_2,blocks=1,name='block_4')\n",
    "#     qw_2 = kl.BatchNormalization()(qw_2)\n",
    "#     qw_2 = kl.Activation('relu')(qw_2)\n",
    "#     # qw_2 = kl.MaxPool2D(pool_size=2)(qw_2)\n",
    "#     qw_2 = kl.Conv2D(filters=512, kernel_size=2, strides=2, activation='relu', padding='same', name='block4_reduction_conv')(qw_2)\n",
    "#     qw_2 = kl.Dropout(0.5)(qw_2)\n",
    "\n",
    "#     qw_2 = densenet.densenet.dense_block(qw_2,blocks=1,name='block_5')\n",
    "#     qw_2 = kl.BatchNormalization()(qw_2)\n",
    "#     qw_2 = kl.Activation('relu')(qw_2)\n",
    "#     # qw_2 = kl.MaxPool2D(pool_size=2)(qw_2)\n",
    "#     qw_2 = kl.Conv2D(filters=1024, kernel_size=2, strides=2, activation='relu', padding='same', name='block5_reduction_conv')(qw_2)\n",
    "#     # qw_2 = kl.Dropout(0.5)(qw_2)\n",
    "#     qw_2 = kl.BatchNormalization()(qw_2)\n",
    "#     qw_2 = kl.Activation('relu')(qw_2)\n",
    "\n",
    "#     return Model(qw,qw_2, name='imgModel')"
   ]
  },
  {
   "cell_type": "code",
   "execution_count": 21,
   "metadata": {
    "scrolled": true
   },
   "outputs": [
    {
     "name": "stdout",
     "output_type": "stream",
     "text": [
      "_________________________________________________________________\n",
      "Layer (type)                 Output Shape              Param #   \n",
      "=================================================================\n",
      "input_1 (InputLayer)         (None, 256, 256, 3)       0         \n",
      "_________________________________________________________________\n",
      "block1_conv1 (Conv2D)        (None, 256, 256, 64)      1792      \n",
      "_________________________________________________________________\n",
      "block1_conv2 (Conv2D)        (None, 256, 256, 64)      36928     \n",
      "_________________________________________________________________\n",
      "block1_pool (MaxPooling2D)   (None, 128, 128, 64)      0         \n",
      "_________________________________________________________________\n",
      "block2_conv1 (Conv2D)        (None, 128, 128, 128)     73856     \n",
      "_________________________________________________________________\n",
      "block2_conv2 (Conv2D)        (None, 128, 128, 128)     147584    \n",
      "_________________________________________________________________\n",
      "block2_pool (MaxPooling2D)   (None, 64, 64, 128)       0         \n",
      "_________________________________________________________________\n",
      "block3_conv1 (Conv2D)        (None, 64, 64, 256)       295168    \n",
      "_________________________________________________________________\n",
      "block3_conv2 (Conv2D)        (None, 64, 64, 256)       590080    \n",
      "_________________________________________________________________\n",
      "block3_conv3 (Conv2D)        (None, 64, 64, 256)       590080    \n",
      "_________________________________________________________________\n",
      "block3_pool (MaxPooling2D)   (None, 32, 32, 256)       0         \n",
      "_________________________________________________________________\n",
      "block4_conv1 (Conv2D)        (None, 32, 32, 512)       1180160   \n",
      "_________________________________________________________________\n",
      "block4_conv2 (Conv2D)        (None, 32, 32, 512)       2359808   \n",
      "_________________________________________________________________\n",
      "block4_conv3 (Conv2D)        (None, 32, 32, 512)       2359808   \n",
      "_________________________________________________________________\n",
      "block4_pool (MaxPooling2D)   (None, 16, 16, 512)       0         \n",
      "_________________________________________________________________\n",
      "block5_conv1 (Conv2D)        (None, 16, 16, 512)       2359808   \n",
      "_________________________________________________________________\n",
      "block5_conv2 (Conv2D)        (None, 16, 16, 512)       2359808   \n",
      "_________________________________________________________________\n",
      "block5_conv3 (Conv2D)        (None, 16, 16, 512)       2359808   \n",
      "_________________________________________________________________\n",
      "block5_pool (MaxPooling2D)   (None, 8, 8, 512)         0         \n",
      "=================================================================\n",
      "Total params: 14,714,688\n",
      "Trainable params: 14,714,688\n",
      "Non-trainable params: 0\n",
      "_________________________________________________________________\n"
     ]
    }
   ],
   "source": [
    "if img_arch=='vgg':\n",
    "#     imgNet = VGGNet()\n",
    "    imgNet = VGG16(include_top=False,input_shape=(256,256,3),weights='imagenet')\n",
    "elif img_arch == 'densenet121':\n",
    "    imgNet = DenseNet121(include_top=False,input_shape=(256,256,3))\n",
    "    imgNet.trainable = True\n",
    "elif img_arch == 'densenet':\n",
    "    imgNet = DenseNet()\n",
    "elif img_arch == 'irv2':\n",
    "    imgNet =InceptionResNetV2(include_top=False,input_shape=(256,256,3))\n",
    "    imgNet.trainable = True\n",
    "# if os.path.exists('../checkpoints/{0}_{1}_attention_img_module.h5'.format(img_arch,text_arch)):\n",
    "#     print('loading existing image weights..')\n",
    "#     imgNet.load_weights('../checkpoints/{0}_{1}_attention_img_module.h5'.format(img_arch,text_arch))\n",
    "imgNet.summary()"
   ]
  },
  {
   "cell_type": "code",
   "execution_count": null,
   "metadata": {},
   "outputs": [],
   "source": []
  },
  {
   "cell_type": "code",
   "execution_count": 22,
   "metadata": {},
   "outputs": [],
   "source": [
    "bottleneck_units = 512\n",
    "def getTextNet():\n",
    "    words_input = kl.Input(shape=(max_wlen,),name='words_input')\n",
    "#     padding_masks = kl.Input(shape=(max_wlen,1),name='padding_masks')\n",
    "    emb = kl.Embedding(vocab_size+1, embedding_size, mask_zero=False, name='w2v_emb')(words_input)\n",
    "    c1 = kl.Conv1D(embedding_size,activation='relu',strides=1,kernel_size=3,padding='same')(emb)\n",
    "    c2 = kl.Conv1D(embedding_size,activation='relu',strides=1,kernel_size=3,dilation_rate=2,padding='same')(emb)\n",
    "    c3 = kl.Conv1D(embedding_size,activation='relu',strides=1,kernel_size=5,padding='same')(emb)\n",
    "    c4 = kl.Conv1D(embedding_size,activation='relu',strides=1,kernel_size=5,dilation_rate=2,padding='same')(emb)\n",
    "    c5 = kl.Conv1D(embedding_size,activation='relu',strides=1,kernel_size=7,padding='same')(emb)\n",
    "    c6 = kl.Conv1D(embedding_size,activation='relu',strides=1,kernel_size=7,dilation_rate=2,padding='same')(emb)\n",
    "    emb = kl.Concatenate(axis=-1)([c1,c2,c3,c4,c5,c6])\n",
    "    emb = kl.Conv1D(embedding_size,activation='relu',strides=1,kernel_size=1,padding='same')(emb)\n",
    "    emb = kl.BatchNormalization()(emb)\n",
    "    \n",
    "    sa = multiheadSelfAttention(prev_layer=emb,layer_number=1,heads=8)\n",
    "    sa_ff = feedforwardsa(sa_layer=sa,layer_before_sa=emb,layer_number=1,method='add',out_channels=int(emb.shape[-1]))\n",
    "\n",
    "    sa = multiheadSelfAttention(prev_layer=sa_ff,layer_number=2,heads=8)\n",
    "    sa_ff = feedforwardsa(sa_layer=sa,layer_before_sa=sa_ff,layer_number=2,method='add',out_channels=int(sa_ff.shape[-1]))\n",
    "\n",
    "    sa = multiheadSelfAttention(prev_layer=sa_ff,layer_number=3,heads=8)\n",
    "    sa_ff = feedforwardsa(sa_layer=sa,layer_before_sa=sa_ff,layer_number=3,method='add',out_channels=int(sa_ff.shape[-1]))\n",
    "    \n",
    "    sa = multiheadSelfAttention(prev_layer=sa_ff,layer_number=4,heads=8)\n",
    "    sa_ff = feedforwardsa(sa_layer=sa,layer_before_sa=sa_ff,layer_number=4,method='add',out_channels=int(sa_ff.shape[-1]))\n",
    "    \n",
    "    context_vector = kl.GlobalAveragePooling1D(name='gap')(sa_ff)\n",
    "\n",
    "    a = multiheadAttention(prev_layer=sa_ff,context_vector=context_vector,layer_number=1,heads=8)\n",
    "    a_ff = feedforwarda(a_layer=a,context_vector=context_vector,out_channels=int(emb.shape[-1]),layer_number=1,method='add')\n",
    "    output = kl.Dense(512,name='text_context')(a_ff)\n",
    "    return Model([words_input],output,name='textModel')"
   ]
  },
  {
   "cell_type": "code",
   "execution_count": 23,
   "metadata": {},
   "outputs": [],
   "source": [
    "textNet = None"
   ]
  },
  {
   "cell_type": "code",
   "execution_count": 24,
   "metadata": {
    "scrolled": true
   },
   "outputs": [
    {
     "name": "stdout",
     "output_type": "stream",
     "text": [
      "__________________________________________________________________________________________________\n",
      "Layer (type)                    Output Shape         Param #     Connected to                     \n",
      "==================================================================================================\n",
      "words_input (InputLayer)        (None, 60)           0                                            \n",
      "__________________________________________________________________________________________________\n",
      "w2v_emb (Embedding)             (None, 60, 300)      6238500     words_input[0][0]                \n",
      "__________________________________________________________________________________________________\n",
      "conv1d_1 (Conv1D)               (None, 60, 300)      270300      w2v_emb[0][0]                    \n",
      "__________________________________________________________________________________________________\n",
      "conv1d_2 (Conv1D)               (None, 60, 300)      270300      w2v_emb[0][0]                    \n",
      "__________________________________________________________________________________________________\n",
      "conv1d_3 (Conv1D)               (None, 60, 300)      450300      w2v_emb[0][0]                    \n",
      "__________________________________________________________________________________________________\n",
      "conv1d_4 (Conv1D)               (None, 60, 300)      450300      w2v_emb[0][0]                    \n",
      "__________________________________________________________________________________________________\n",
      "conv1d_5 (Conv1D)               (None, 60, 300)      630300      w2v_emb[0][0]                    \n",
      "__________________________________________________________________________________________________\n",
      "conv1d_6 (Conv1D)               (None, 60, 300)      630300      w2v_emb[0][0]                    \n",
      "__________________________________________________________________________________________________\n",
      "concatenate_1 (Concatenate)     (None, 60, 1800)     0           conv1d_1[0][0]                   \n",
      "                                                                 conv1d_2[0][0]                   \n",
      "                                                                 conv1d_3[0][0]                   \n",
      "                                                                 conv1d_4[0][0]                   \n",
      "                                                                 conv1d_5[0][0]                   \n",
      "                                                                 conv1d_6[0][0]                   \n",
      "__________________________________________________________________________________________________\n",
      "conv1d_7 (Conv1D)               (None, 60, 300)      540300      concatenate_1[0][0]              \n",
      "__________________________________________________________________________________________________\n",
      "batch_normalization_1 (BatchNor (None, 60, 300)      1200        conv1d_7[0][0]                   \n",
      "__________________________________________________________________________________________________\n",
      "sa10 (SelfAttention)            [(None, 60, 300), (6 202874      batch_normalization_1[0][0]      \n",
      "__________________________________________________________________________________________________\n",
      "sa11 (SelfAttention)            [(None, 60, 300), (6 202874      batch_normalization_1[0][0]      \n",
      "__________________________________________________________________________________________________\n",
      "sa12 (SelfAttention)            [(None, 60, 300), (6 202874      batch_normalization_1[0][0]      \n",
      "__________________________________________________________________________________________________\n",
      "sa13 (SelfAttention)            [(None, 60, 300), (6 202874      batch_normalization_1[0][0]      \n",
      "__________________________________________________________________________________________________\n",
      "sa14 (SelfAttention)            [(None, 60, 300), (6 202874      batch_normalization_1[0][0]      \n",
      "__________________________________________________________________________________________________\n",
      "sa15 (SelfAttention)            [(None, 60, 300), (6 202874      batch_normalization_1[0][0]      \n",
      "__________________________________________________________________________________________________\n",
      "sa16 (SelfAttention)            [(None, 60, 300), (6 202874      batch_normalization_1[0][0]      \n",
      "__________________________________________________________________________________________________\n",
      "sa17 (SelfAttention)            [(None, 60, 300), (6 202874      batch_normalization_1[0][0]      \n",
      "__________________________________________________________________________________________________\n",
      "batch_normalization_2 (BatchNor (None, 60, 300)      1200        sa10[0][0]                       \n",
      "__________________________________________________________________________________________________\n",
      "batch_normalization_3 (BatchNor (None, 60, 300)      1200        sa11[0][0]                       \n",
      "__________________________________________________________________________________________________\n",
      "batch_normalization_4 (BatchNor (None, 60, 300)      1200        sa12[0][0]                       \n",
      "__________________________________________________________________________________________________\n",
      "batch_normalization_5 (BatchNor (None, 60, 300)      1200        sa13[0][0]                       \n",
      "__________________________________________________________________________________________________\n",
      "batch_normalization_6 (BatchNor (None, 60, 300)      1200        sa14[0][0]                       \n",
      "__________________________________________________________________________________________________\n",
      "batch_normalization_7 (BatchNor (None, 60, 300)      1200        sa15[0][0]                       \n",
      "__________________________________________________________________________________________________\n",
      "batch_normalization_8 (BatchNor (None, 60, 300)      1200        sa16[0][0]                       \n",
      "__________________________________________________________________________________________________\n",
      "batch_normalization_9 (BatchNor (None, 60, 300)      1200        sa17[0][0]                       \n",
      "__________________________________________________________________________________________________\n",
      "concat_selfattn_1 (Concatenate) (None, 60, 2400)     0           batch_normalization_2[0][0]      \n",
      "                                                                 batch_normalization_3[0][0]      \n",
      "                                                                 batch_normalization_4[0][0]      \n",
      "                                                                 batch_normalization_5[0][0]      \n",
      "                                                                 batch_normalization_6[0][0]      \n",
      "                                                                 batch_normalization_7[0][0]      \n",
      "                                                                 batch_normalization_8[0][0]      \n",
      "                                                                 batch_normalization_9[0][0]      \n",
      "__________________________________________________________________________________________________\n",
      "condense_attention1d_1 (Condens (None, 60, 300)      720300      concat_selfattn_1[0][0]          \n",
      "__________________________________________________________________________________________________\n",
      "residual_combine_selfattn_1 (Re [(None, 60, 300), (1 2           batch_normalization_1[0][0]      \n",
      "                                                                 condense_attention1d_1[0][0]     \n",
      "__________________________________________________________________________________________________\n",
      "batch_normalization_10 (BatchNo (None, 60, 300)      1200        residual_combine_selfattn_1[0][0]\n",
      "__________________________________________________________________________________________________\n",
      "sa20 (SelfAttention)            [(None, 60, 300), (6 202874      batch_normalization_10[0][0]     \n",
      "__________________________________________________________________________________________________\n",
      "sa21 (SelfAttention)            [(None, 60, 300), (6 202874      batch_normalization_10[0][0]     \n",
      "__________________________________________________________________________________________________\n",
      "sa22 (SelfAttention)            [(None, 60, 300), (6 202874      batch_normalization_10[0][0]     \n",
      "__________________________________________________________________________________________________\n",
      "sa23 (SelfAttention)            [(None, 60, 300), (6 202874      batch_normalization_10[0][0]     \n",
      "__________________________________________________________________________________________________\n",
      "sa24 (SelfAttention)            [(None, 60, 300), (6 202874      batch_normalization_10[0][0]     \n",
      "__________________________________________________________________________________________________\n",
      "sa25 (SelfAttention)            [(None, 60, 300), (6 202874      batch_normalization_10[0][0]     \n",
      "__________________________________________________________________________________________________\n",
      "sa26 (SelfAttention)            [(None, 60, 300), (6 202874      batch_normalization_10[0][0]     \n",
      "__________________________________________________________________________________________________\n",
      "sa27 (SelfAttention)            [(None, 60, 300), (6 202874      batch_normalization_10[0][0]     \n",
      "__________________________________________________________________________________________________\n",
      "batch_normalization_11 (BatchNo (None, 60, 300)      1200        sa20[0][0]                       \n",
      "__________________________________________________________________________________________________\n",
      "batch_normalization_12 (BatchNo (None, 60, 300)      1200        sa21[0][0]                       \n",
      "__________________________________________________________________________________________________\n",
      "batch_normalization_13 (BatchNo (None, 60, 300)      1200        sa22[0][0]                       \n",
      "__________________________________________________________________________________________________\n",
      "batch_normalization_14 (BatchNo (None, 60, 300)      1200        sa23[0][0]                       \n",
      "__________________________________________________________________________________________________\n",
      "batch_normalization_15 (BatchNo (None, 60, 300)      1200        sa24[0][0]                       \n",
      "__________________________________________________________________________________________________\n",
      "batch_normalization_16 (BatchNo (None, 60, 300)      1200        sa25[0][0]                       \n",
      "__________________________________________________________________________________________________\n",
      "batch_normalization_17 (BatchNo (None, 60, 300)      1200        sa26[0][0]                       \n",
      "__________________________________________________________________________________________________\n",
      "batch_normalization_18 (BatchNo (None, 60, 300)      1200        sa27[0][0]                       \n",
      "__________________________________________________________________________________________________\n",
      "concat_selfattn_2 (Concatenate) (None, 60, 2400)     0           batch_normalization_11[0][0]     \n",
      "                                                                 batch_normalization_12[0][0]     \n",
      "                                                                 batch_normalization_13[0][0]     \n",
      "                                                                 batch_normalization_14[0][0]     \n",
      "                                                                 batch_normalization_15[0][0]     \n",
      "                                                                 batch_normalization_16[0][0]     \n",
      "                                                                 batch_normalization_17[0][0]     \n",
      "                                                                 batch_normalization_18[0][0]     \n",
      "__________________________________________________________________________________________________\n",
      "condense_attention1d_2 (Condens (None, 60, 300)      720300      concat_selfattn_2[0][0]          \n",
      "__________________________________________________________________________________________________\n",
      "residual_combine_selfattn_2 (Re [(None, 60, 300), (1 2           batch_normalization_10[0][0]     \n",
      "                                                                 condense_attention1d_2[0][0]     \n",
      "__________________________________________________________________________________________________\n",
      "batch_normalization_19 (BatchNo (None, 60, 300)      1200        residual_combine_selfattn_2[0][0]\n",
      "__________________________________________________________________________________________________\n",
      "sa30 (SelfAttention)            [(None, 60, 300), (6 202874      batch_normalization_19[0][0]     \n",
      "__________________________________________________________________________________________________\n",
      "sa31 (SelfAttention)            [(None, 60, 300), (6 202874      batch_normalization_19[0][0]     \n",
      "__________________________________________________________________________________________________\n",
      "sa32 (SelfAttention)            [(None, 60, 300), (6 202874      batch_normalization_19[0][0]     \n",
      "__________________________________________________________________________________________________\n",
      "sa33 (SelfAttention)            [(None, 60, 300), (6 202874      batch_normalization_19[0][0]     \n",
      "__________________________________________________________________________________________________\n",
      "sa34 (SelfAttention)            [(None, 60, 300), (6 202874      batch_normalization_19[0][0]     \n",
      "__________________________________________________________________________________________________\n",
      "sa35 (SelfAttention)            [(None, 60, 300), (6 202874      batch_normalization_19[0][0]     \n",
      "__________________________________________________________________________________________________\n",
      "sa36 (SelfAttention)            [(None, 60, 300), (6 202874      batch_normalization_19[0][0]     \n",
      "__________________________________________________________________________________________________\n",
      "sa37 (SelfAttention)            [(None, 60, 300), (6 202874      batch_normalization_19[0][0]     \n",
      "__________________________________________________________________________________________________\n",
      "batch_normalization_20 (BatchNo (None, 60, 300)      1200        sa30[0][0]                       \n",
      "__________________________________________________________________________________________________\n",
      "batch_normalization_21 (BatchNo (None, 60, 300)      1200        sa31[0][0]                       \n",
      "__________________________________________________________________________________________________\n",
      "batch_normalization_22 (BatchNo (None, 60, 300)      1200        sa32[0][0]                       \n",
      "__________________________________________________________________________________________________\n",
      "batch_normalization_23 (BatchNo (None, 60, 300)      1200        sa33[0][0]                       \n",
      "__________________________________________________________________________________________________\n",
      "batch_normalization_24 (BatchNo (None, 60, 300)      1200        sa34[0][0]                       \n",
      "__________________________________________________________________________________________________\n",
      "batch_normalization_25 (BatchNo (None, 60, 300)      1200        sa35[0][0]                       \n",
      "__________________________________________________________________________________________________\n",
      "batch_normalization_26 (BatchNo (None, 60, 300)      1200        sa36[0][0]                       \n",
      "__________________________________________________________________________________________________\n",
      "batch_normalization_27 (BatchNo (None, 60, 300)      1200        sa37[0][0]                       \n",
      "__________________________________________________________________________________________________\n",
      "concat_selfattn_3 (Concatenate) (None, 60, 2400)     0           batch_normalization_20[0][0]     \n",
      "                                                                 batch_normalization_21[0][0]     \n",
      "                                                                 batch_normalization_22[0][0]     \n",
      "                                                                 batch_normalization_23[0][0]     \n",
      "                                                                 batch_normalization_24[0][0]     \n",
      "                                                                 batch_normalization_25[0][0]     \n",
      "                                                                 batch_normalization_26[0][0]     \n",
      "                                                                 batch_normalization_27[0][0]     \n",
      "__________________________________________________________________________________________________\n",
      "condense_attention1d_3 (Condens (None, 60, 300)      720300      concat_selfattn_3[0][0]          \n",
      "__________________________________________________________________________________________________\n",
      "residual_combine_selfattn_3 (Re [(None, 60, 300), (1 2           batch_normalization_19[0][0]     \n",
      "                                                                 condense_attention1d_3[0][0]     \n",
      "__________________________________________________________________________________________________\n",
      "batch_normalization_28 (BatchNo (None, 60, 300)      1200        residual_combine_selfattn_3[0][0]\n",
      "__________________________________________________________________________________________________\n",
      "sa40 (SelfAttention)            [(None, 60, 300), (6 202874      batch_normalization_28[0][0]     \n",
      "__________________________________________________________________________________________________\n",
      "sa41 (SelfAttention)            [(None, 60, 300), (6 202874      batch_normalization_28[0][0]     \n",
      "__________________________________________________________________________________________________\n",
      "sa42 (SelfAttention)            [(None, 60, 300), (6 202874      batch_normalization_28[0][0]     \n",
      "__________________________________________________________________________________________________\n",
      "sa43 (SelfAttention)            [(None, 60, 300), (6 202874      batch_normalization_28[0][0]     \n",
      "__________________________________________________________________________________________________\n",
      "sa44 (SelfAttention)            [(None, 60, 300), (6 202874      batch_normalization_28[0][0]     \n",
      "__________________________________________________________________________________________________\n",
      "sa45 (SelfAttention)            [(None, 60, 300), (6 202874      batch_normalization_28[0][0]     \n",
      "__________________________________________________________________________________________________\n",
      "sa46 (SelfAttention)            [(None, 60, 300), (6 202874      batch_normalization_28[0][0]     \n",
      "__________________________________________________________________________________________________\n",
      "sa47 (SelfAttention)            [(None, 60, 300), (6 202874      batch_normalization_28[0][0]     \n",
      "__________________________________________________________________________________________________\n",
      "batch_normalization_29 (BatchNo (None, 60, 300)      1200        sa40[0][0]                       \n",
      "__________________________________________________________________________________________________\n",
      "batch_normalization_30 (BatchNo (None, 60, 300)      1200        sa41[0][0]                       \n",
      "__________________________________________________________________________________________________\n",
      "batch_normalization_31 (BatchNo (None, 60, 300)      1200        sa42[0][0]                       \n",
      "__________________________________________________________________________________________________\n",
      "batch_normalization_32 (BatchNo (None, 60, 300)      1200        sa43[0][0]                       \n",
      "__________________________________________________________________________________________________\n",
      "batch_normalization_33 (BatchNo (None, 60, 300)      1200        sa44[0][0]                       \n",
      "__________________________________________________________________________________________________\n",
      "batch_normalization_34 (BatchNo (None, 60, 300)      1200        sa45[0][0]                       \n",
      "__________________________________________________________________________________________________\n",
      "batch_normalization_35 (BatchNo (None, 60, 300)      1200        sa46[0][0]                       \n",
      "__________________________________________________________________________________________________\n",
      "batch_normalization_36 (BatchNo (None, 60, 300)      1200        sa47[0][0]                       \n",
      "__________________________________________________________________________________________________\n",
      "concat_selfattn_4 (Concatenate) (None, 60, 2400)     0           batch_normalization_29[0][0]     \n",
      "                                                                 batch_normalization_30[0][0]     \n",
      "                                                                 batch_normalization_31[0][0]     \n",
      "                                                                 batch_normalization_32[0][0]     \n",
      "                                                                 batch_normalization_33[0][0]     \n",
      "                                                                 batch_normalization_34[0][0]     \n",
      "                                                                 batch_normalization_35[0][0]     \n",
      "                                                                 batch_normalization_36[0][0]     \n",
      "__________________________________________________________________________________________________\n",
      "condense_attention1d_4 (Condens (None, 60, 300)      720300      concat_selfattn_4[0][0]          \n",
      "__________________________________________________________________________________________________\n",
      "residual_combine_selfattn_4 (Re [(None, 60, 300), (1 2           batch_normalization_28[0][0]     \n",
      "                                                                 condense_attention1d_4[0][0]     \n",
      "__________________________________________________________________________________________________\n",
      "batch_normalization_37 (BatchNo (None, 60, 300)      1200        residual_combine_selfattn_4[0][0]\n",
      "__________________________________________________________________________________________________\n",
      "gap (GlobalAveragePooling1D)    (None, 300)          0           batch_normalization_37[0][0]     \n",
      "__________________________________________________________________________________________________\n",
      "a10 (Attention)                 [(None, 1, 300), (1, 361200      gap[0][0]                        \n",
      "                                                                 batch_normalization_37[0][0]     \n",
      "__________________________________________________________________________________________________\n",
      "a11 (Attention)                 [(None, 1, 300), (1, 361200      gap[0][0]                        \n",
      "                                                                 batch_normalization_37[0][0]     \n",
      "__________________________________________________________________________________________________\n",
      "a12 (Attention)                 [(None, 1, 300), (1, 361200      gap[0][0]                        \n",
      "                                                                 batch_normalization_37[0][0]     \n",
      "__________________________________________________________________________________________________\n",
      "a13 (Attention)                 [(None, 1, 300), (1, 361200      gap[0][0]                        \n",
      "                                                                 batch_normalization_37[0][0]     \n",
      "__________________________________________________________________________________________________\n",
      "a14 (Attention)                 [(None, 1, 300), (1, 361200      gap[0][0]                        \n",
      "                                                                 batch_normalization_37[0][0]     \n",
      "__________________________________________________________________________________________________\n",
      "a15 (Attention)                 [(None, 1, 300), (1, 361200      gap[0][0]                        \n",
      "                                                                 batch_normalization_37[0][0]     \n",
      "__________________________________________________________________________________________________\n",
      "a16 (Attention)                 [(None, 1, 300), (1, 361200      gap[0][0]                        \n",
      "                                                                 batch_normalization_37[0][0]     \n",
      "__________________________________________________________________________________________________\n",
      "a17 (Attention)                 [(None, 1, 300), (1, 361200      gap[0][0]                        \n",
      "                                                                 batch_normalization_37[0][0]     \n",
      "__________________________________________________________________________________________________\n",
      "batch_normalization_38 (BatchNo (None, 1, 300)       1200        a10[0][0]                        \n",
      "__________________________________________________________________________________________________\n",
      "batch_normalization_39 (BatchNo (None, 1, 300)       1200        a11[0][0]                        \n",
      "__________________________________________________________________________________________________\n",
      "batch_normalization_40 (BatchNo (None, 1, 300)       1200        a12[0][0]                        \n",
      "__________________________________________________________________________________________________\n",
      "batch_normalization_41 (BatchNo (None, 1, 300)       1200        a13[0][0]                        \n",
      "__________________________________________________________________________________________________\n",
      "batch_normalization_42 (BatchNo (None, 1, 300)       1200        a14[0][0]                        \n",
      "__________________________________________________________________________________________________\n",
      "batch_normalization_43 (BatchNo (None, 1, 300)       1200        a15[0][0]                        \n",
      "__________________________________________________________________________________________________\n",
      "batch_normalization_44 (BatchNo (None, 1, 300)       1200        a16[0][0]                        \n",
      "__________________________________________________________________________________________________\n",
      "batch_normalization_45 (BatchNo (None, 1, 300)       1200        a17[0][0]                        \n",
      "__________________________________________________________________________________________________\n",
      "concat_attn_1 (Concatenate)     (None, 1, 2400)      0           batch_normalization_38[0][0]     \n",
      "                                                                 batch_normalization_39[0][0]     \n",
      "                                                                 batch_normalization_40[0][0]     \n",
      "                                                                 batch_normalization_41[0][0]     \n",
      "                                                                 batch_normalization_42[0][0]     \n",
      "                                                                 batch_normalization_43[0][0]     \n",
      "                                                                 batch_normalization_44[0][0]     \n",
      "                                                                 batch_normalization_45[0][0]     \n",
      "__________________________________________________________________________________________________\n",
      "condense_attention1d_5 (Condens (None, 1, 300)       720300      concat_attn_1[0][0]              \n",
      "__________________________________________________________________________________________________\n",
      "squeeze_attn_1 (Lambda)         (None, 300)          0           condense_attention1d_5[0][0]     \n",
      "__________________________________________________________________________________________________\n",
      "residual_combine_attn_1 (Residu [(None, 300), (1,),  2           gap[0][0]                        \n",
      "                                                                 squeeze_attn_1[0][0]             \n",
      "__________________________________________________________________________________________________\n",
      "batch_normalization_46 (BatchNo (None, 300)          1200        residual_combine_attn_1[0][0]    \n",
      "__________________________________________________________________________________________________\n",
      "text_context (Dense)            (None, 512)          154112      batch_normalization_46[0][0]     \n",
      "==================================================================================================\n",
      "Total params: 22,672,990\n",
      "Trainable params: 22,645,390\n",
      "Non-trainable params: 27,600\n",
      "__________________________________________________________________________________________________\n"
     ]
    }
   ],
   "source": [
    "textNet = getTextNet()\n",
    "textNet.summary()"
   ]
  },
  {
   "cell_type": "code",
   "execution_count": 25,
   "metadata": {
    "scrolled": true
   },
   "outputs": [
    {
     "data": {
      "image/svg+xml": [
       "<svg height=\"3209pt\" viewBox=\"0.00 0.00 9261.50 3209.00\" width=\"9262pt\" xmlns=\"http://www.w3.org/2000/svg\" xmlns:xlink=\"http://www.w3.org/1999/xlink\">\n",
       "<g class=\"graph\" id=\"graph0\" transform=\"scale(1 1) rotate(0) translate(4 3205)\">\n",
       "<title>G</title>\n",
       "<polygon fill=\"#ffffff\" points=\"-4,4 -4,-3205 9257.5,-3205 9257.5,4 -4,4\" stroke=\"transparent\"/>\n",
       "<!-- 140523239265616 -->\n",
       "<g class=\"node\" id=\"node1\">\n",
       "<title>140523239265616</title>\n",
       "<polygon fill=\"none\" points=\"7154.5,-3154.5 7154.5,-3200.5 7437.5,-3200.5 7437.5,-3154.5 7154.5,-3154.5\" stroke=\"#000000\"/>\n",
       "<text fill=\"#000000\" font-family=\"Times,serif\" font-size=\"14.00\" text-anchor=\"middle\" x=\"7230.5\" y=\"-3173.8\">words_input: InputLayer</text>\n",
       "<polyline fill=\"none\" points=\"7306.5,-3154.5 7306.5,-3200.5 \" stroke=\"#000000\"/>\n",
       "<text fill=\"#000000\" font-family=\"Times,serif\" font-size=\"14.00\" text-anchor=\"middle\" x=\"7334\" y=\"-3185.3\">input:</text>\n",
       "<polyline fill=\"none\" points=\"7306.5,-3177.5 7361.5,-3177.5 \" stroke=\"#000000\"/>\n",
       "<text fill=\"#000000\" font-family=\"Times,serif\" font-size=\"14.00\" text-anchor=\"middle\" x=\"7334\" y=\"-3162.3\">output:</text>\n",
       "<polyline fill=\"none\" points=\"7361.5,-3154.5 7361.5,-3200.5 \" stroke=\"#000000\"/>\n",
       "<text fill=\"#000000\" font-family=\"Times,serif\" font-size=\"14.00\" text-anchor=\"middle\" x=\"7399.5\" y=\"-3185.3\">(None, 60)</text>\n",
       "<polyline fill=\"none\" points=\"7361.5,-3177.5 7437.5,-3177.5 \" stroke=\"#000000\"/>\n",
       "<text fill=\"#000000\" font-family=\"Times,serif\" font-size=\"14.00\" text-anchor=\"middle\" x=\"7399.5\" y=\"-3162.3\">(None, 60)</text>\n",
       "</g>\n",
       "<!-- 140523238468184 -->\n",
       "<g class=\"node\" id=\"node2\">\n",
       "<title>140523238468184</title>\n",
       "<polygon fill=\"none\" points=\"7146,-3071.5 7146,-3117.5 7446,-3117.5 7446,-3071.5 7146,-3071.5\" stroke=\"#000000\"/>\n",
       "<text fill=\"#000000\" font-family=\"Times,serif\" font-size=\"14.00\" text-anchor=\"middle\" x=\"7216.5\" y=\"-3090.8\">w2v_emb: Embedding</text>\n",
       "<polyline fill=\"none\" points=\"7287,-3071.5 7287,-3117.5 \" stroke=\"#000000\"/>\n",
       "<text fill=\"#000000\" font-family=\"Times,serif\" font-size=\"14.00\" text-anchor=\"middle\" x=\"7314.5\" y=\"-3102.3\">input:</text>\n",
       "<polyline fill=\"none\" points=\"7287,-3094.5 7342,-3094.5 \" stroke=\"#000000\"/>\n",
       "<text fill=\"#000000\" font-family=\"Times,serif\" font-size=\"14.00\" text-anchor=\"middle\" x=\"7314.5\" y=\"-3079.3\">output:</text>\n",
       "<polyline fill=\"none\" points=\"7342,-3071.5 7342,-3117.5 \" stroke=\"#000000\"/>\n",
       "<text fill=\"#000000\" font-family=\"Times,serif\" font-size=\"14.00\" text-anchor=\"middle\" x=\"7394\" y=\"-3102.3\">(None, 60)</text>\n",
       "<polyline fill=\"none\" points=\"7342,-3094.5 7446,-3094.5 \" stroke=\"#000000\"/>\n",
       "<text fill=\"#000000\" font-family=\"Times,serif\" font-size=\"14.00\" text-anchor=\"middle\" x=\"7394\" y=\"-3079.3\">(None, 60, 300)</text>\n",
       "</g>\n",
       "<!-- 140523239265616&#45;&gt;140523238468184 -->\n",
       "<g class=\"edge\" id=\"edge1\">\n",
       "<title>140523239265616-&gt;140523238468184</title>\n",
       "<path d=\"M7296,-3154.3799C7296,-3146.1745 7296,-3136.7679 7296,-3127.8786\" fill=\"none\" stroke=\"#000000\"/>\n",
       "<polygon fill=\"#000000\" points=\"7299.5001,-3127.784 7296,-3117.784 7292.5001,-3127.784 7299.5001,-3127.784\" stroke=\"#000000\"/>\n",
       "</g>\n",
       "<!-- 140523239266904 -->\n",
       "<g class=\"node\" id=\"node3\">\n",
       "<title>140523239266904</title>\n",
       "<polygon fill=\"none\" points=\"6405,-2988.5 6405,-3034.5 6687,-3034.5 6687,-2988.5 6405,-2988.5\" stroke=\"#000000\"/>\n",
       "<text fill=\"#000000\" font-family=\"Times,serif\" font-size=\"14.00\" text-anchor=\"middle\" x=\"6466.5\" y=\"-3007.8\">conv1d_1: Conv1D</text>\n",
       "<polyline fill=\"none\" points=\"6528,-2988.5 6528,-3034.5 \" stroke=\"#000000\"/>\n",
       "<text fill=\"#000000\" font-family=\"Times,serif\" font-size=\"14.00\" text-anchor=\"middle\" x=\"6555.5\" y=\"-3019.3\">input:</text>\n",
       "<polyline fill=\"none\" points=\"6528,-3011.5 6583,-3011.5 \" stroke=\"#000000\"/>\n",
       "<text fill=\"#000000\" font-family=\"Times,serif\" font-size=\"14.00\" text-anchor=\"middle\" x=\"6555.5\" y=\"-2996.3\">output:</text>\n",
       "<polyline fill=\"none\" points=\"6583,-2988.5 6583,-3034.5 \" stroke=\"#000000\"/>\n",
       "<text fill=\"#000000\" font-family=\"Times,serif\" font-size=\"14.00\" text-anchor=\"middle\" x=\"6635\" y=\"-3019.3\">(None, 60, 300)</text>\n",
       "<polyline fill=\"none\" points=\"6583,-3011.5 6687,-3011.5 \" stroke=\"#000000\"/>\n",
       "<text fill=\"#000000\" font-family=\"Times,serif\" font-size=\"14.00\" text-anchor=\"middle\" x=\"6635\" y=\"-2996.3\">(None, 60, 300)</text>\n",
       "</g>\n",
       "<!-- 140523238468184&#45;&gt;140523239266904 -->\n",
       "<g class=\"edge\" id=\"edge2\">\n",
       "<title>140523238468184-&gt;140523239266904</title>\n",
       "<path d=\"M7145.9389,-3081.9901C7026.9022,-3071.5079 6856.0702,-3055.2261 6697.2495,-3035.1307\" fill=\"none\" stroke=\"#000000\"/>\n",
       "<polygon fill=\"#000000\" points=\"6697.652,-3031.6538 6687.2901,-3033.8635 6696.7684,-3038.5978 6697.652,-3031.6538\" stroke=\"#000000\"/>\n",
       "</g>\n",
       "<!-- 140523238285208 -->\n",
       "<g class=\"node\" id=\"node4\">\n",
       "<title>140523238285208</title>\n",
       "<polygon fill=\"none\" points=\"6705,-2988.5 6705,-3034.5 6987,-3034.5 6987,-2988.5 6705,-2988.5\" stroke=\"#000000\"/>\n",
       "<text fill=\"#000000\" font-family=\"Times,serif\" font-size=\"14.00\" text-anchor=\"middle\" x=\"6766.5\" y=\"-3007.8\">conv1d_2: Conv1D</text>\n",
       "<polyline fill=\"none\" points=\"6828,-2988.5 6828,-3034.5 \" stroke=\"#000000\"/>\n",
       "<text fill=\"#000000\" font-family=\"Times,serif\" font-size=\"14.00\" text-anchor=\"middle\" x=\"6855.5\" y=\"-3019.3\">input:</text>\n",
       "<polyline fill=\"none\" points=\"6828,-3011.5 6883,-3011.5 \" stroke=\"#000000\"/>\n",
       "<text fill=\"#000000\" font-family=\"Times,serif\" font-size=\"14.00\" text-anchor=\"middle\" x=\"6855.5\" y=\"-2996.3\">output:</text>\n",
       "<polyline fill=\"none\" points=\"6883,-2988.5 6883,-3034.5 \" stroke=\"#000000\"/>\n",
       "<text fill=\"#000000\" font-family=\"Times,serif\" font-size=\"14.00\" text-anchor=\"middle\" x=\"6935\" y=\"-3019.3\">(None, 60, 300)</text>\n",
       "<polyline fill=\"none\" points=\"6883,-3011.5 6987,-3011.5 \" stroke=\"#000000\"/>\n",
       "<text fill=\"#000000\" font-family=\"Times,serif\" font-size=\"14.00\" text-anchor=\"middle\" x=\"6935\" y=\"-2996.3\">(None, 60, 300)</text>\n",
       "</g>\n",
       "<!-- 140523238468184&#45;&gt;140523238285208 -->\n",
       "<g class=\"edge\" id=\"edge3\">\n",
       "<title>140523238468184-&gt;140523238285208</title>\n",
       "<path d=\"M7171.2475,-3071.4901C7112.1136,-3060.5832 7041.3674,-3047.5344 6980.9803,-3036.3964\" fill=\"none\" stroke=\"#000000\"/>\n",
       "<polygon fill=\"#000000\" points=\"6981.4642,-3032.9267 6970.9952,-3034.5547 6980.1944,-3039.8105 6981.4642,-3032.9267\" stroke=\"#000000\"/>\n",
       "</g>\n",
       "<!-- 140523237867472 -->\n",
       "<g class=\"node\" id=\"node5\">\n",
       "<title>140523237867472</title>\n",
       "<polygon fill=\"none\" points=\"7005,-2988.5 7005,-3034.5 7287,-3034.5 7287,-2988.5 7005,-2988.5\" stroke=\"#000000\"/>\n",
       "<text fill=\"#000000\" font-family=\"Times,serif\" font-size=\"14.00\" text-anchor=\"middle\" x=\"7066.5\" y=\"-3007.8\">conv1d_3: Conv1D</text>\n",
       "<polyline fill=\"none\" points=\"7128,-2988.5 7128,-3034.5 \" stroke=\"#000000\"/>\n",
       "<text fill=\"#000000\" font-family=\"Times,serif\" font-size=\"14.00\" text-anchor=\"middle\" x=\"7155.5\" y=\"-3019.3\">input:</text>\n",
       "<polyline fill=\"none\" points=\"7128,-3011.5 7183,-3011.5 \" stroke=\"#000000\"/>\n",
       "<text fill=\"#000000\" font-family=\"Times,serif\" font-size=\"14.00\" text-anchor=\"middle\" x=\"7155.5\" y=\"-2996.3\">output:</text>\n",
       "<polyline fill=\"none\" points=\"7183,-2988.5 7183,-3034.5 \" stroke=\"#000000\"/>\n",
       "<text fill=\"#000000\" font-family=\"Times,serif\" font-size=\"14.00\" text-anchor=\"middle\" x=\"7235\" y=\"-3019.3\">(None, 60, 300)</text>\n",
       "<polyline fill=\"none\" points=\"7183,-3011.5 7287,-3011.5 \" stroke=\"#000000\"/>\n",
       "<text fill=\"#000000\" font-family=\"Times,serif\" font-size=\"14.00\" text-anchor=\"middle\" x=\"7235\" y=\"-2996.3\">(None, 60, 300)</text>\n",
       "</g>\n",
       "<!-- 140523238468184&#45;&gt;140523237867472 -->\n",
       "<g class=\"edge\" id=\"edge4\">\n",
       "<title>140523238468184-&gt;140523237867472</title>\n",
       "<path d=\"M7254.2166,-3071.3799C7236.4119,-3061.5279 7215.4774,-3049.9442 7196.7893,-3039.6034\" fill=\"none\" stroke=\"#000000\"/>\n",
       "<polygon fill=\"#000000\" points=\"7198.2636,-3036.4191 7187.8192,-3034.6399 7194.8744,-3042.544 7198.2636,-3036.4191\" stroke=\"#000000\"/>\n",
       "</g>\n",
       "<!-- 140523238238864 -->\n",
       "<g class=\"node\" id=\"node6\">\n",
       "<title>140523238238864</title>\n",
       "<polygon fill=\"none\" points=\"7305,-2988.5 7305,-3034.5 7587,-3034.5 7587,-2988.5 7305,-2988.5\" stroke=\"#000000\"/>\n",
       "<text fill=\"#000000\" font-family=\"Times,serif\" font-size=\"14.00\" text-anchor=\"middle\" x=\"7366.5\" y=\"-3007.8\">conv1d_4: Conv1D</text>\n",
       "<polyline fill=\"none\" points=\"7428,-2988.5 7428,-3034.5 \" stroke=\"#000000\"/>\n",
       "<text fill=\"#000000\" font-family=\"Times,serif\" font-size=\"14.00\" text-anchor=\"middle\" x=\"7455.5\" y=\"-3019.3\">input:</text>\n",
       "<polyline fill=\"none\" points=\"7428,-3011.5 7483,-3011.5 \" stroke=\"#000000\"/>\n",
       "<text fill=\"#000000\" font-family=\"Times,serif\" font-size=\"14.00\" text-anchor=\"middle\" x=\"7455.5\" y=\"-2996.3\">output:</text>\n",
       "<polyline fill=\"none\" points=\"7483,-2988.5 7483,-3034.5 \" stroke=\"#000000\"/>\n",
       "<text fill=\"#000000\" font-family=\"Times,serif\" font-size=\"14.00\" text-anchor=\"middle\" x=\"7535\" y=\"-3019.3\">(None, 60, 300)</text>\n",
       "<polyline fill=\"none\" points=\"7483,-3011.5 7587,-3011.5 \" stroke=\"#000000\"/>\n",
       "<text fill=\"#000000\" font-family=\"Times,serif\" font-size=\"14.00\" text-anchor=\"middle\" x=\"7535\" y=\"-2996.3\">(None, 60, 300)</text>\n",
       "</g>\n",
       "<!-- 140523238468184&#45;&gt;140523238238864 -->\n",
       "<g class=\"edge\" id=\"edge5\">\n",
       "<title>140523238468184-&gt;140523238238864</title>\n",
       "<path d=\"M7337.7834,-3071.3799C7355.5881,-3061.5279 7376.5226,-3049.9442 7395.2107,-3039.6034\" fill=\"none\" stroke=\"#000000\"/>\n",
       "<polygon fill=\"#000000\" points=\"7397.1256,-3042.544 7404.1808,-3034.6399 7393.7364,-3036.4191 7397.1256,-3042.544\" stroke=\"#000000\"/>\n",
       "</g>\n",
       "<!-- 140523229333824 -->\n",
       "<g class=\"node\" id=\"node7\">\n",
       "<title>140523229333824</title>\n",
       "<polygon fill=\"none\" points=\"7605,-2988.5 7605,-3034.5 7887,-3034.5 7887,-2988.5 7605,-2988.5\" stroke=\"#000000\"/>\n",
       "<text fill=\"#000000\" font-family=\"Times,serif\" font-size=\"14.00\" text-anchor=\"middle\" x=\"7666.5\" y=\"-3007.8\">conv1d_5: Conv1D</text>\n",
       "<polyline fill=\"none\" points=\"7728,-2988.5 7728,-3034.5 \" stroke=\"#000000\"/>\n",
       "<text fill=\"#000000\" font-family=\"Times,serif\" font-size=\"14.00\" text-anchor=\"middle\" x=\"7755.5\" y=\"-3019.3\">input:</text>\n",
       "<polyline fill=\"none\" points=\"7728,-3011.5 7783,-3011.5 \" stroke=\"#000000\"/>\n",
       "<text fill=\"#000000\" font-family=\"Times,serif\" font-size=\"14.00\" text-anchor=\"middle\" x=\"7755.5\" y=\"-2996.3\">output:</text>\n",
       "<polyline fill=\"none\" points=\"7783,-2988.5 7783,-3034.5 \" stroke=\"#000000\"/>\n",
       "<text fill=\"#000000\" font-family=\"Times,serif\" font-size=\"14.00\" text-anchor=\"middle\" x=\"7835\" y=\"-3019.3\">(None, 60, 300)</text>\n",
       "<polyline fill=\"none\" points=\"7783,-3011.5 7887,-3011.5 \" stroke=\"#000000\"/>\n",
       "<text fill=\"#000000\" font-family=\"Times,serif\" font-size=\"14.00\" text-anchor=\"middle\" x=\"7835\" y=\"-2996.3\">(None, 60, 300)</text>\n",
       "</g>\n",
       "<!-- 140523238468184&#45;&gt;140523229333824 -->\n",
       "<g class=\"edge\" id=\"edge6\">\n",
       "<title>140523238468184-&gt;140523229333824</title>\n",
       "<path d=\"M7420.7525,-3071.4901C7479.8864,-3060.5832 7550.6326,-3047.5344 7611.0197,-3036.3964\" fill=\"none\" stroke=\"#000000\"/>\n",
       "<polygon fill=\"#000000\" points=\"7611.8056,-3039.8105 7621.0048,-3034.5547 7610.5358,-3032.9267 7611.8056,-3039.8105\" stroke=\"#000000\"/>\n",
       "</g>\n",
       "<!-- 140523229030496 -->\n",
       "<g class=\"node\" id=\"node8\">\n",
       "<title>140523229030496</title>\n",
       "<polygon fill=\"none\" points=\"7905,-2988.5 7905,-3034.5 8187,-3034.5 8187,-2988.5 7905,-2988.5\" stroke=\"#000000\"/>\n",
       "<text fill=\"#000000\" font-family=\"Times,serif\" font-size=\"14.00\" text-anchor=\"middle\" x=\"7966.5\" y=\"-3007.8\">conv1d_6: Conv1D</text>\n",
       "<polyline fill=\"none\" points=\"8028,-2988.5 8028,-3034.5 \" stroke=\"#000000\"/>\n",
       "<text fill=\"#000000\" font-family=\"Times,serif\" font-size=\"14.00\" text-anchor=\"middle\" x=\"8055.5\" y=\"-3019.3\">input:</text>\n",
       "<polyline fill=\"none\" points=\"8028,-3011.5 8083,-3011.5 \" stroke=\"#000000\"/>\n",
       "<text fill=\"#000000\" font-family=\"Times,serif\" font-size=\"14.00\" text-anchor=\"middle\" x=\"8055.5\" y=\"-2996.3\">output:</text>\n",
       "<polyline fill=\"none\" points=\"8083,-2988.5 8083,-3034.5 \" stroke=\"#000000\"/>\n",
       "<text fill=\"#000000\" font-family=\"Times,serif\" font-size=\"14.00\" text-anchor=\"middle\" x=\"8135\" y=\"-3019.3\">(None, 60, 300)</text>\n",
       "<polyline fill=\"none\" points=\"8083,-3011.5 8187,-3011.5 \" stroke=\"#000000\"/>\n",
       "<text fill=\"#000000\" font-family=\"Times,serif\" font-size=\"14.00\" text-anchor=\"middle\" x=\"8135\" y=\"-2996.3\">(None, 60, 300)</text>\n",
       "</g>\n",
       "<!-- 140523238468184&#45;&gt;140523229030496 -->\n",
       "<g class=\"edge\" id=\"edge7\">\n",
       "<title>140523238468184-&gt;140523229030496</title>\n",
       "<path d=\"M7446.0611,-3081.9901C7565.0978,-3071.5079 7735.9298,-3055.2261 7894.7505,-3035.1307\" fill=\"none\" stroke=\"#000000\"/>\n",
       "<polygon fill=\"#000000\" points=\"7895.2316,-3038.5978 7904.7099,-3033.8635 7894.348,-3031.6538 7895.2316,-3038.5978\" stroke=\"#000000\"/>\n",
       "</g>\n",
       "<!-- 140523228620000 -->\n",
       "<g class=\"node\" id=\"node9\">\n",
       "<title>140523228620000</title>\n",
       "<polygon fill=\"none\" points=\"6892,-2905.5 6892,-2951.5 7700,-2951.5 7700,-2905.5 6892,-2905.5\" stroke=\"#000000\"/>\n",
       "<text fill=\"#000000\" font-family=\"Times,serif\" font-size=\"14.00\" text-anchor=\"middle\" x=\"6976\" y=\"-2924.8\">concatenate_1: Concatenate</text>\n",
       "<polyline fill=\"none\" points=\"7060,-2905.5 7060,-2951.5 \" stroke=\"#000000\"/>\n",
       "<text fill=\"#000000\" font-family=\"Times,serif\" font-size=\"14.00\" text-anchor=\"middle\" x=\"7087.5\" y=\"-2936.3\">input:</text>\n",
       "<polyline fill=\"none\" points=\"7060,-2928.5 7115,-2928.5 \" stroke=\"#000000\"/>\n",
       "<text fill=\"#000000\" font-family=\"Times,serif\" font-size=\"14.00\" text-anchor=\"middle\" x=\"7087.5\" y=\"-2913.3\">output:</text>\n",
       "<polyline fill=\"none\" points=\"7115,-2905.5 7115,-2951.5 \" stroke=\"#000000\"/>\n",
       "<text fill=\"#000000\" font-family=\"Times,serif\" font-size=\"14.00\" text-anchor=\"middle\" x=\"7407.5\" y=\"-2936.3\">[(None, 60, 300), (None, 60, 300), (None, 60, 300), (None, 60, 300), (None, 60, 300), (None, 60, 300)]</text>\n",
       "<polyline fill=\"none\" points=\"7115,-2928.5 7700,-2928.5 \" stroke=\"#000000\"/>\n",
       "<text fill=\"#000000\" font-family=\"Times,serif\" font-size=\"14.00\" text-anchor=\"middle\" x=\"7407.5\" y=\"-2913.3\">(None, 60, 1800)</text>\n",
       "</g>\n",
       "<!-- 140523239266904&#45;&gt;140523228620000 -->\n",
       "<g class=\"edge\" id=\"edge8\">\n",
       "<title>140523239266904-&gt;140523228620000</title>\n",
       "<path d=\"M6687.2901,-2989.1365C6690.218,-2988.747 6693.1239,-2988.3676 6696,-2988 6801.8879,-2974.4662 6918.6261,-2962.273 7020.767,-2952.5\" fill=\"none\" stroke=\"#000000\"/>\n",
       "<polygon fill=\"#000000\" points=\"7021.2987,-2955.9653 7030.9213,-2951.5318 7020.6342,-2948.9969 7021.2987,-2955.9653\" stroke=\"#000000\"/>\n",
       "</g>\n",
       "<!-- 140523238285208&#45;&gt;140523228620000 -->\n",
       "<g class=\"edge\" id=\"edge9\">\n",
       "<title>140523238285208-&gt;140523228620000</title>\n",
       "<path d=\"M6970.7525,-2988.4901C7029.8864,-2977.5832 7100.6326,-2964.5344 7161.0197,-2953.3964\" fill=\"none\" stroke=\"#000000\"/>\n",
       "<polygon fill=\"#000000\" points=\"7161.8056,-2956.8105 7171.0048,-2951.5547 7160.5358,-2949.9267 7161.8056,-2956.8105\" stroke=\"#000000\"/>\n",
       "</g>\n",
       "<!-- 140523237867472&#45;&gt;140523228620000 -->\n",
       "<g class=\"edge\" id=\"edge10\">\n",
       "<title>140523237867472-&gt;140523228620000</title>\n",
       "<path d=\"M7187.7834,-2988.3799C7205.5881,-2978.5279 7226.5226,-2966.9442 7245.2107,-2956.6034\" fill=\"none\" stroke=\"#000000\"/>\n",
       "<polygon fill=\"#000000\" points=\"7247.1256,-2959.544 7254.1808,-2951.6399 7243.7364,-2953.4191 7247.1256,-2959.544\" stroke=\"#000000\"/>\n",
       "</g>\n",
       "<!-- 140523238238864&#45;&gt;140523228620000 -->\n",
       "<g class=\"edge\" id=\"edge11\">\n",
       "<title>140523238238864-&gt;140523228620000</title>\n",
       "<path d=\"M7404.2166,-2988.3799C7386.4119,-2978.5279 7365.4774,-2966.9442 7346.7893,-2956.6034\" fill=\"none\" stroke=\"#000000\"/>\n",
       "<polygon fill=\"#000000\" points=\"7348.2636,-2953.4191 7337.8192,-2951.6399 7344.8744,-2959.544 7348.2636,-2953.4191\" stroke=\"#000000\"/>\n",
       "</g>\n",
       "<!-- 140523229333824&#45;&gt;140523228620000 -->\n",
       "<g class=\"edge\" id=\"edge12\">\n",
       "<title>140523229333824-&gt;140523228620000</title>\n",
       "<path d=\"M7621.2475,-2988.4901C7562.1136,-2977.5832 7491.3674,-2964.5344 7430.9803,-2953.3964\" fill=\"none\" stroke=\"#000000\"/>\n",
       "<polygon fill=\"#000000\" points=\"7431.4642,-2949.9267 7420.9952,-2951.5547 7430.1944,-2956.8105 7431.4642,-2949.9267\" stroke=\"#000000\"/>\n",
       "</g>\n",
       "<!-- 140523229030496&#45;&gt;140523228620000 -->\n",
       "<g class=\"edge\" id=\"edge13\">\n",
       "<title>140523229030496-&gt;140523228620000</title>\n",
       "<path d=\"M7904.7099,-2989.1365C7901.782,-2988.747 7898.8761,-2988.3676 7896,-2988 7790.1121,-2974.4662 7673.3739,-2962.273 7571.233,-2952.5\" fill=\"none\" stroke=\"#000000\"/>\n",
       "<polygon fill=\"#000000\" points=\"7571.3658,-2948.9969 7561.0787,-2951.5318 7570.7013,-2955.9653 7571.3658,-2948.9969\" stroke=\"#000000\"/>\n",
       "</g>\n",
       "<!-- 140523228710672 -->\n",
       "<g class=\"node\" id=\"node10\">\n",
       "<title>140523228710672</title>\n",
       "<polygon fill=\"none\" points=\"7152,-2822.5 7152,-2868.5 7440,-2868.5 7440,-2822.5 7152,-2822.5\" stroke=\"#000000\"/>\n",
       "<text fill=\"#000000\" font-family=\"Times,serif\" font-size=\"14.00\" text-anchor=\"middle\" x=\"7213.5\" y=\"-2841.8\">conv1d_7: Conv1D</text>\n",
       "<polyline fill=\"none\" points=\"7275,-2822.5 7275,-2868.5 \" stroke=\"#000000\"/>\n",
       "<text fill=\"#000000\" font-family=\"Times,serif\" font-size=\"14.00\" text-anchor=\"middle\" x=\"7302.5\" y=\"-2853.3\">input:</text>\n",
       "<polyline fill=\"none\" points=\"7275,-2845.5 7330,-2845.5 \" stroke=\"#000000\"/>\n",
       "<text fill=\"#000000\" font-family=\"Times,serif\" font-size=\"14.00\" text-anchor=\"middle\" x=\"7302.5\" y=\"-2830.3\">output:</text>\n",
       "<polyline fill=\"none\" points=\"7330,-2822.5 7330,-2868.5 \" stroke=\"#000000\"/>\n",
       "<text fill=\"#000000\" font-family=\"Times,serif\" font-size=\"14.00\" text-anchor=\"middle\" x=\"7385\" y=\"-2853.3\">(None, 60, 1800)</text>\n",
       "<polyline fill=\"none\" points=\"7330,-2845.5 7440,-2845.5 \" stroke=\"#000000\"/>\n",
       "<text fill=\"#000000\" font-family=\"Times,serif\" font-size=\"14.00\" text-anchor=\"middle\" x=\"7385\" y=\"-2830.3\">(None, 60, 300)</text>\n",
       "</g>\n",
       "<!-- 140523228620000&#45;&gt;140523228710672 -->\n",
       "<g class=\"edge\" id=\"edge14\">\n",
       "<title>140523228620000-&gt;140523228710672</title>\n",
       "<path d=\"M7296,-2905.3799C7296,-2897.1745 7296,-2887.7679 7296,-2878.8786\" fill=\"none\" stroke=\"#000000\"/>\n",
       "<polygon fill=\"#000000\" points=\"7299.5001,-2878.784 7296,-2868.784 7292.5001,-2878.784 7299.5001,-2878.784\" stroke=\"#000000\"/>\n",
       "</g>\n",
       "<!-- 140523228836024 -->\n",
       "<g class=\"node\" id=\"node11\">\n",
       "<title>140523228836024</title>\n",
       "<polygon fill=\"none\" points=\"7086.5,-2739.5 7086.5,-2785.5 7505.5,-2785.5 7505.5,-2739.5 7086.5,-2739.5\" stroke=\"#000000\"/>\n",
       "<text fill=\"#000000\" font-family=\"Times,serif\" font-size=\"14.00\" text-anchor=\"middle\" x=\"7216.5\" y=\"-2758.8\">batch_normalization_1: BatchNormalization</text>\n",
       "<polyline fill=\"none\" points=\"7346.5,-2739.5 7346.5,-2785.5 \" stroke=\"#000000\"/>\n",
       "<text fill=\"#000000\" font-family=\"Times,serif\" font-size=\"14.00\" text-anchor=\"middle\" x=\"7374\" y=\"-2770.3\">input:</text>\n",
       "<polyline fill=\"none\" points=\"7346.5,-2762.5 7401.5,-2762.5 \" stroke=\"#000000\"/>\n",
       "<text fill=\"#000000\" font-family=\"Times,serif\" font-size=\"14.00\" text-anchor=\"middle\" x=\"7374\" y=\"-2747.3\">output:</text>\n",
       "<polyline fill=\"none\" points=\"7401.5,-2739.5 7401.5,-2785.5 \" stroke=\"#000000\"/>\n",
       "<text fill=\"#000000\" font-family=\"Times,serif\" font-size=\"14.00\" text-anchor=\"middle\" x=\"7453.5\" y=\"-2770.3\">(None, 60, 300)</text>\n",
       "<polyline fill=\"none\" points=\"7401.5,-2762.5 7505.5,-2762.5 \" stroke=\"#000000\"/>\n",
       "<text fill=\"#000000\" font-family=\"Times,serif\" font-size=\"14.00\" text-anchor=\"middle\" x=\"7453.5\" y=\"-2747.3\">(None, 60, 300)</text>\n",
       "</g>\n",
       "<!-- 140523228710672&#45;&gt;140523228836024 -->\n",
       "<g class=\"edge\" id=\"edge15\">\n",
       "<title>140523228710672-&gt;140523228836024</title>\n",
       "<path d=\"M7296,-2822.3799C7296,-2814.1745 7296,-2804.7679 7296,-2795.8786\" fill=\"none\" stroke=\"#000000\"/>\n",
       "<polygon fill=\"#000000\" points=\"7299.5001,-2795.784 7296,-2785.784 7292.5001,-2795.784 7299.5001,-2795.784\" stroke=\"#000000\"/>\n",
       "</g>\n",
       "<!-- 140523228129040 -->\n",
       "<g class=\"node\" id=\"node12\">\n",
       "<title>140523228129040</title>\n",
       "<polygon fill=\"none\" points=\"7940.5,-2656.5 7940.5,-2702.5 8281.5,-2702.5 8281.5,-2656.5 7940.5,-2656.5\" stroke=\"#000000\"/>\n",
       "<text fill=\"#000000\" font-family=\"Times,serif\" font-size=\"14.00\" text-anchor=\"middle\" x=\"8001.5\" y=\"-2675.8\">sa10: SelfAttention</text>\n",
       "<polyline fill=\"none\" points=\"8062.5,-2656.5 8062.5,-2702.5 \" stroke=\"#000000\"/>\n",
       "<text fill=\"#000000\" font-family=\"Times,serif\" font-size=\"14.00\" text-anchor=\"middle\" x=\"8090\" y=\"-2687.3\">input:</text>\n",
       "<polyline fill=\"none\" points=\"8062.5,-2679.5 8117.5,-2679.5 \" stroke=\"#000000\"/>\n",
       "<text fill=\"#000000\" font-family=\"Times,serif\" font-size=\"14.00\" text-anchor=\"middle\" x=\"8090\" y=\"-2664.3\">output:</text>\n",
       "<polyline fill=\"none\" points=\"8117.5,-2656.5 8117.5,-2702.5 \" stroke=\"#000000\"/>\n",
       "<text fill=\"#000000\" font-family=\"Times,serif\" font-size=\"14.00\" text-anchor=\"middle\" x=\"8199.5\" y=\"-2687.3\">(None, 60, 300)</text>\n",
       "<polyline fill=\"none\" points=\"8117.5,-2679.5 8281.5,-2679.5 \" stroke=\"#000000\"/>\n",
       "<text fill=\"#000000\" font-family=\"Times,serif\" font-size=\"14.00\" text-anchor=\"middle\" x=\"8199.5\" y=\"-2664.3\">[(None, 60, 300), (60, 60)]</text>\n",
       "</g>\n",
       "<!-- 140523228836024&#45;&gt;140523228129040 -->\n",
       "<g class=\"edge\" id=\"edge16\">\n",
       "<title>140523228836024-&gt;140523228129040</title>\n",
       "<path d=\"M7505.618,-2741.1524C7637.0641,-2727.7659 7804.786,-2710.685 7930.3426,-2697.8982\" fill=\"none\" stroke=\"#000000\"/>\n",
       "<polygon fill=\"#000000\" points=\"7930.8551,-2701.3642 7940.449,-2696.869 7930.1458,-2694.4003 7930.8551,-2701.3642\" stroke=\"#000000\"/>\n",
       "</g>\n",
       "<!-- 140523226569640 -->\n",
       "<g class=\"node\" id=\"node13\">\n",
       "<title>140523226569640</title>\n",
       "<polygon fill=\"none\" points=\"8367.5,-2656.5 8367.5,-2702.5 8708.5,-2702.5 8708.5,-2656.5 8367.5,-2656.5\" stroke=\"#000000\"/>\n",
       "<text fill=\"#000000\" font-family=\"Times,serif\" font-size=\"14.00\" text-anchor=\"middle\" x=\"8428.5\" y=\"-2675.8\">sa11: SelfAttention</text>\n",
       "<polyline fill=\"none\" points=\"8489.5,-2656.5 8489.5,-2702.5 \" stroke=\"#000000\"/>\n",
       "<text fill=\"#000000\" font-family=\"Times,serif\" font-size=\"14.00\" text-anchor=\"middle\" x=\"8517\" y=\"-2687.3\">input:</text>\n",
       "<polyline fill=\"none\" points=\"8489.5,-2679.5 8544.5,-2679.5 \" stroke=\"#000000\"/>\n",
       "<text fill=\"#000000\" font-family=\"Times,serif\" font-size=\"14.00\" text-anchor=\"middle\" x=\"8517\" y=\"-2664.3\">output:</text>\n",
       "<polyline fill=\"none\" points=\"8544.5,-2656.5 8544.5,-2702.5 \" stroke=\"#000000\"/>\n",
       "<text fill=\"#000000\" font-family=\"Times,serif\" font-size=\"14.00\" text-anchor=\"middle\" x=\"8626.5\" y=\"-2687.3\">(None, 60, 300)</text>\n",
       "<polyline fill=\"none\" points=\"8544.5,-2679.5 8708.5,-2679.5 \" stroke=\"#000000\"/>\n",
       "<text fill=\"#000000\" font-family=\"Times,serif\" font-size=\"14.00\" text-anchor=\"middle\" x=\"8626.5\" y=\"-2664.3\">[(None, 60, 300), (60, 60)]</text>\n",
       "</g>\n",
       "<!-- 140523228836024&#45;&gt;140523226569640 -->\n",
       "<g class=\"edge\" id=\"edge17\">\n",
       "<title>140523228836024-&gt;140523226569640</title>\n",
       "<path d=\"M7505.5764,-2752.0707C7706.8413,-2741.5547 8019.388,-2723.9143 8290,-2703 8311.7856,-2701.3163 8334.6317,-2699.3818 8357.2711,-2697.3612\" fill=\"none\" stroke=\"#000000\"/>\n",
       "<polygon fill=\"#000000\" points=\"8357.6578,-2700.8407 8367.3041,-2696.459 8357.0308,-2693.8688 8357.6578,-2700.8407\" stroke=\"#000000\"/>\n",
       "</g>\n",
       "<!-- 140523225140416 -->\n",
       "<g class=\"node\" id=\"node14\">\n",
       "<title>140523225140416</title>\n",
       "<polygon fill=\"none\" points=\"8799.5,-2656.5 8799.5,-2702.5 9140.5,-2702.5 9140.5,-2656.5 8799.5,-2656.5\" stroke=\"#000000\"/>\n",
       "<text fill=\"#000000\" font-family=\"Times,serif\" font-size=\"14.00\" text-anchor=\"middle\" x=\"8860.5\" y=\"-2675.8\">sa12: SelfAttention</text>\n",
       "<polyline fill=\"none\" points=\"8921.5,-2656.5 8921.5,-2702.5 \" stroke=\"#000000\"/>\n",
       "<text fill=\"#000000\" font-family=\"Times,serif\" font-size=\"14.00\" text-anchor=\"middle\" x=\"8949\" y=\"-2687.3\">input:</text>\n",
       "<polyline fill=\"none\" points=\"8921.5,-2679.5 8976.5,-2679.5 \" stroke=\"#000000\"/>\n",
       "<text fill=\"#000000\" font-family=\"Times,serif\" font-size=\"14.00\" text-anchor=\"middle\" x=\"8949\" y=\"-2664.3\">output:</text>\n",
       "<polyline fill=\"none\" points=\"8976.5,-2656.5 8976.5,-2702.5 \" stroke=\"#000000\"/>\n",
       "<text fill=\"#000000\" font-family=\"Times,serif\" font-size=\"14.00\" text-anchor=\"middle\" x=\"9058.5\" y=\"-2687.3\">(None, 60, 300)</text>\n",
       "<polyline fill=\"none\" points=\"8976.5,-2679.5 9140.5,-2679.5 \" stroke=\"#000000\"/>\n",
       "<text fill=\"#000000\" font-family=\"Times,serif\" font-size=\"14.00\" text-anchor=\"middle\" x=\"9058.5\" y=\"-2664.3\">[(None, 60, 300), (60, 60)]</text>\n",
       "</g>\n",
       "<!-- 140523228836024&#45;&gt;140523225140416 -->\n",
       "<g class=\"edge\" id=\"edge18\">\n",
       "<title>140523228836024-&gt;140523225140416</title>\n",
       "<path d=\"M7505.651,-2757.0499C7783.0313,-2749.0769 8287.1023,-2731.9472 8717,-2703 8740.4034,-2701.4241 8764.9999,-2699.489 8789.2841,-2697.4119\" fill=\"none\" stroke=\"#000000\"/>\n",
       "<polygon fill=\"#000000\" points=\"8789.6386,-2700.8944 8799.2998,-2696.5459 8789.0355,-2693.9205 8789.6386,-2700.8944\" stroke=\"#000000\"/>\n",
       "</g>\n",
       "<!-- 140523223156664 -->\n",
       "<g class=\"node\" id=\"node15\">\n",
       "<title>140523223156664</title>\n",
       "<polygon fill=\"none\" points=\"5853.5,-2656.5 5853.5,-2702.5 6194.5,-2702.5 6194.5,-2656.5 5853.5,-2656.5\" stroke=\"#000000\"/>\n",
       "<text fill=\"#000000\" font-family=\"Times,serif\" font-size=\"14.00\" text-anchor=\"middle\" x=\"5914.5\" y=\"-2675.8\">sa13: SelfAttention</text>\n",
       "<polyline fill=\"none\" points=\"5975.5,-2656.5 5975.5,-2702.5 \" stroke=\"#000000\"/>\n",
       "<text fill=\"#000000\" font-family=\"Times,serif\" font-size=\"14.00\" text-anchor=\"middle\" x=\"6003\" y=\"-2687.3\">input:</text>\n",
       "<polyline fill=\"none\" points=\"5975.5,-2679.5 6030.5,-2679.5 \" stroke=\"#000000\"/>\n",
       "<text fill=\"#000000\" font-family=\"Times,serif\" font-size=\"14.00\" text-anchor=\"middle\" x=\"6003\" y=\"-2664.3\">output:</text>\n",
       "<polyline fill=\"none\" points=\"6030.5,-2656.5 6030.5,-2702.5 \" stroke=\"#000000\"/>\n",
       "<text fill=\"#000000\" font-family=\"Times,serif\" font-size=\"14.00\" text-anchor=\"middle\" x=\"6112.5\" y=\"-2687.3\">(None, 60, 300)</text>\n",
       "<polyline fill=\"none\" points=\"6030.5,-2679.5 6194.5,-2679.5 \" stroke=\"#000000\"/>\n",
       "<text fill=\"#000000\" font-family=\"Times,serif\" font-size=\"14.00\" text-anchor=\"middle\" x=\"6112.5\" y=\"-2664.3\">[(None, 60, 300), (60, 60)]</text>\n",
       "</g>\n",
       "<!-- 140523228836024&#45;&gt;140523223156664 -->\n",
       "<g class=\"edge\" id=\"edge19\">\n",
       "<title>140523228836024-&gt;140523223156664</title>\n",
       "<path d=\"M7086.4084,-2752.214C6881.076,-2741.665 6559.3368,-2723.8781 6281,-2703 6256.3482,-2701.1509 6230.3843,-2699.0072 6204.8191,-2696.7818\" fill=\"none\" stroke=\"#000000\"/>\n",
       "<polygon fill=\"#000000\" points=\"6204.9307,-2693.2782 6194.6633,-2695.8917 6204.3195,-2700.2515 6204.9307,-2693.2782\" stroke=\"#000000\"/>\n",
       "</g>\n",
       "<!-- 140523221617800 -->\n",
       "<g class=\"node\" id=\"node16\">\n",
       "<title>140523221617800</title>\n",
       "<polygon fill=\"none\" points=\"6290.5,-2656.5 6290.5,-2702.5 6631.5,-2702.5 6631.5,-2656.5 6290.5,-2656.5\" stroke=\"#000000\"/>\n",
       "<text fill=\"#000000\" font-family=\"Times,serif\" font-size=\"14.00\" text-anchor=\"middle\" x=\"6351.5\" y=\"-2675.8\">sa14: SelfAttention</text>\n",
       "<polyline fill=\"none\" points=\"6412.5,-2656.5 6412.5,-2702.5 \" stroke=\"#000000\"/>\n",
       "<text fill=\"#000000\" font-family=\"Times,serif\" font-size=\"14.00\" text-anchor=\"middle\" x=\"6440\" y=\"-2687.3\">input:</text>\n",
       "<polyline fill=\"none\" points=\"6412.5,-2679.5 6467.5,-2679.5 \" stroke=\"#000000\"/>\n",
       "<text fill=\"#000000\" font-family=\"Times,serif\" font-size=\"14.00\" text-anchor=\"middle\" x=\"6440\" y=\"-2664.3\">output:</text>\n",
       "<polyline fill=\"none\" points=\"6467.5,-2656.5 6467.5,-2702.5 \" stroke=\"#000000\"/>\n",
       "<text fill=\"#000000\" font-family=\"Times,serif\" font-size=\"14.00\" text-anchor=\"middle\" x=\"6549.5\" y=\"-2687.3\">(None, 60, 300)</text>\n",
       "<polyline fill=\"none\" points=\"6467.5,-2679.5 6631.5,-2679.5 \" stroke=\"#000000\"/>\n",
       "<text fill=\"#000000\" font-family=\"Times,serif\" font-size=\"14.00\" text-anchor=\"middle\" x=\"6549.5\" y=\"-2664.3\">[(None, 60, 300), (60, 60)]</text>\n",
       "</g>\n",
       "<!-- 140523228836024&#45;&gt;140523221617800 -->\n",
       "<g class=\"edge\" id=\"edge20\">\n",
       "<title>140523228836024-&gt;140523221617800</title>\n",
       "<path d=\"M7086.372,-2741.6627C6949.4794,-2728.0554 6772.5564,-2710.4691 6641.8444,-2697.4761\" fill=\"none\" stroke=\"#000000\"/>\n",
       "<polygon fill=\"#000000\" points=\"6642.0212,-2693.9766 6631.724,-2696.4702 6641.3288,-2700.9422 6642.0212,-2693.9766\" stroke=\"#000000\"/>\n",
       "</g>\n",
       "<!-- 140523238399336 -->\n",
       "<g class=\"node\" id=\"node17\">\n",
       "<title>140523238399336</title>\n",
       "<polygon fill=\"none\" points=\"6727.5,-2656.5 6727.5,-2702.5 7068.5,-2702.5 7068.5,-2656.5 6727.5,-2656.5\" stroke=\"#000000\"/>\n",
       "<text fill=\"#000000\" font-family=\"Times,serif\" font-size=\"14.00\" text-anchor=\"middle\" x=\"6788.5\" y=\"-2675.8\">sa15: SelfAttention</text>\n",
       "<polyline fill=\"none\" points=\"6849.5,-2656.5 6849.5,-2702.5 \" stroke=\"#000000\"/>\n",
       "<text fill=\"#000000\" font-family=\"Times,serif\" font-size=\"14.00\" text-anchor=\"middle\" x=\"6877\" y=\"-2687.3\">input:</text>\n",
       "<polyline fill=\"none\" points=\"6849.5,-2679.5 6904.5,-2679.5 \" stroke=\"#000000\"/>\n",
       "<text fill=\"#000000\" font-family=\"Times,serif\" font-size=\"14.00\" text-anchor=\"middle\" x=\"6877\" y=\"-2664.3\">output:</text>\n",
       "<polyline fill=\"none\" points=\"6904.5,-2656.5 6904.5,-2702.5 \" stroke=\"#000000\"/>\n",
       "<text fill=\"#000000\" font-family=\"Times,serif\" font-size=\"14.00\" text-anchor=\"middle\" x=\"6986.5\" y=\"-2687.3\">(None, 60, 300)</text>\n",
       "<polyline fill=\"none\" points=\"6904.5,-2679.5 7068.5,-2679.5 \" stroke=\"#000000\"/>\n",
       "<text fill=\"#000000\" font-family=\"Times,serif\" font-size=\"14.00\" text-anchor=\"middle\" x=\"6986.5\" y=\"-2664.3\">[(None, 60, 300), (60, 60)]</text>\n",
       "</g>\n",
       "<!-- 140523228836024&#45;&gt;140523238399336 -->\n",
       "<g class=\"edge\" id=\"edge21\">\n",
       "<title>140523228836024-&gt;140523238399336</title>\n",
       "<path d=\"M7185.6633,-2739.4901C7133.6862,-2728.6506 7071.5653,-2715.6958 7018.3747,-2704.6033\" fill=\"none\" stroke=\"#000000\"/>\n",
       "<polygon fill=\"#000000\" points=\"7019.0552,-2701.17 7008.5513,-2702.5547 7017.6261,-2708.0225 7019.0552,-2701.17\" stroke=\"#000000\"/>\n",
       "</g>\n",
       "<!-- 140523238308048 -->\n",
       "<g class=\"node\" id=\"node18\">\n",
       "<title>140523238308048</title>\n",
       "<polygon fill=\"none\" points=\"7125.5,-2656.5 7125.5,-2702.5 7466.5,-2702.5 7466.5,-2656.5 7125.5,-2656.5\" stroke=\"#000000\"/>\n",
       "<text fill=\"#000000\" font-family=\"Times,serif\" font-size=\"14.00\" text-anchor=\"middle\" x=\"7186.5\" y=\"-2675.8\">sa16: SelfAttention</text>\n",
       "<polyline fill=\"none\" points=\"7247.5,-2656.5 7247.5,-2702.5 \" stroke=\"#000000\"/>\n",
       "<text fill=\"#000000\" font-family=\"Times,serif\" font-size=\"14.00\" text-anchor=\"middle\" x=\"7275\" y=\"-2687.3\">input:</text>\n",
       "<polyline fill=\"none\" points=\"7247.5,-2679.5 7302.5,-2679.5 \" stroke=\"#000000\"/>\n",
       "<text fill=\"#000000\" font-family=\"Times,serif\" font-size=\"14.00\" text-anchor=\"middle\" x=\"7275\" y=\"-2664.3\">output:</text>\n",
       "<polyline fill=\"none\" points=\"7302.5,-2656.5 7302.5,-2702.5 \" stroke=\"#000000\"/>\n",
       "<text fill=\"#000000\" font-family=\"Times,serif\" font-size=\"14.00\" text-anchor=\"middle\" x=\"7384.5\" y=\"-2687.3\">(None, 60, 300)</text>\n",
       "<polyline fill=\"none\" points=\"7302.5,-2679.5 7466.5,-2679.5 \" stroke=\"#000000\"/>\n",
       "<text fill=\"#000000\" font-family=\"Times,serif\" font-size=\"14.00\" text-anchor=\"middle\" x=\"7384.5\" y=\"-2664.3\">[(None, 60, 300), (60, 60)]</text>\n",
       "</g>\n",
       "<!-- 140523228836024&#45;&gt;140523238308048 -->\n",
       "<g class=\"edge\" id=\"edge22\">\n",
       "<title>140523228836024-&gt;140523238308048</title>\n",
       "<path d=\"M7296,-2739.3799C7296,-2731.1745 7296,-2721.7679 7296,-2712.8786\" fill=\"none\" stroke=\"#000000\"/>\n",
       "<polygon fill=\"#000000\" points=\"7299.5001,-2712.784 7296,-2702.784 7292.5001,-2712.784 7299.5001,-2712.784\" stroke=\"#000000\"/>\n",
       "</g>\n",
       "<!-- 140523216578040 -->\n",
       "<g class=\"node\" id=\"node19\">\n",
       "<title>140523216578040</title>\n",
       "<polygon fill=\"none\" points=\"7523.5,-2656.5 7523.5,-2702.5 7864.5,-2702.5 7864.5,-2656.5 7523.5,-2656.5\" stroke=\"#000000\"/>\n",
       "<text fill=\"#000000\" font-family=\"Times,serif\" font-size=\"14.00\" text-anchor=\"middle\" x=\"7584.5\" y=\"-2675.8\">sa17: SelfAttention</text>\n",
       "<polyline fill=\"none\" points=\"7645.5,-2656.5 7645.5,-2702.5 \" stroke=\"#000000\"/>\n",
       "<text fill=\"#000000\" font-family=\"Times,serif\" font-size=\"14.00\" text-anchor=\"middle\" x=\"7673\" y=\"-2687.3\">input:</text>\n",
       "<polyline fill=\"none\" points=\"7645.5,-2679.5 7700.5,-2679.5 \" stroke=\"#000000\"/>\n",
       "<text fill=\"#000000\" font-family=\"Times,serif\" font-size=\"14.00\" text-anchor=\"middle\" x=\"7673\" y=\"-2664.3\">output:</text>\n",
       "<polyline fill=\"none\" points=\"7700.5,-2656.5 7700.5,-2702.5 \" stroke=\"#000000\"/>\n",
       "<text fill=\"#000000\" font-family=\"Times,serif\" font-size=\"14.00\" text-anchor=\"middle\" x=\"7782.5\" y=\"-2687.3\">(None, 60, 300)</text>\n",
       "<polyline fill=\"none\" points=\"7700.5,-2679.5 7864.5,-2679.5 \" stroke=\"#000000\"/>\n",
       "<text fill=\"#000000\" font-family=\"Times,serif\" font-size=\"14.00\" text-anchor=\"middle\" x=\"7782.5\" y=\"-2664.3\">[(None, 60, 300), (60, 60)]</text>\n",
       "</g>\n",
       "<!-- 140523228836024&#45;&gt;140523216578040 -->\n",
       "<g class=\"edge\" id=\"edge23\">\n",
       "<title>140523228836024-&gt;140523216578040</title>\n",
       "<path d=\"M7406.3367,-2739.4901C7458.3138,-2728.6506 7520.4347,-2715.6958 7573.6253,-2704.6033\" fill=\"none\" stroke=\"#000000\"/>\n",
       "<polygon fill=\"#000000\" points=\"7574.3739,-2708.0225 7583.4487,-2702.5547 7572.9448,-2701.17 7574.3739,-2708.0225\" stroke=\"#000000\"/>\n",
       "</g>\n",
       "<!-- 140523214861872 -->\n",
       "<g class=\"node\" id=\"node30\">\n",
       "<title>140523214861872</title>\n",
       "<polygon fill=\"none\" points=\"5602,-2324.5 5602,-2370.5 6142,-2370.5 6142,-2324.5 5602,-2324.5\" stroke=\"#000000\"/>\n",
       "<text fill=\"#000000\" font-family=\"Times,serif\" font-size=\"14.00\" text-anchor=\"middle\" x=\"5741\" y=\"-2343.8\">residual_combine_selfattn_1: ResidualCombine</text>\n",
       "<polyline fill=\"none\" points=\"5880,-2324.5 5880,-2370.5 \" stroke=\"#000000\"/>\n",
       "<text fill=\"#000000\" font-family=\"Times,serif\" font-size=\"14.00\" text-anchor=\"middle\" x=\"5907.5\" y=\"-2355.3\">input:</text>\n",
       "<polyline fill=\"none\" points=\"5880,-2347.5 5935,-2347.5 \" stroke=\"#000000\"/>\n",
       "<text fill=\"#000000\" font-family=\"Times,serif\" font-size=\"14.00\" text-anchor=\"middle\" x=\"5907.5\" y=\"-2332.3\">output:</text>\n",
       "<polyline fill=\"none\" points=\"5935,-2324.5 5935,-2370.5 \" stroke=\"#000000\"/>\n",
       "<text fill=\"#000000\" font-family=\"Times,serif\" font-size=\"14.00\" text-anchor=\"middle\" x=\"6038.5\" y=\"-2355.3\">[(None, 60, 300), (None, 60, 300)]</text>\n",
       "<polyline fill=\"none\" points=\"5935,-2347.5 6142,-2347.5 \" stroke=\"#000000\"/>\n",
       "<text fill=\"#000000\" font-family=\"Times,serif\" font-size=\"14.00\" text-anchor=\"middle\" x=\"6038.5\" y=\"-2332.3\">[(None, 60, 300), (1,), (1,)]</text>\n",
       "</g>\n",
       "<!-- 140523228836024&#45;&gt;140523214861872 -->\n",
       "<g class=\"edge\" id=\"edge41\">\n",
       "<title>140523228836024-&gt;140523214861872</title>\n",
       "<path d=\"M7086.2856,-2758.0772C6697.5595,-2749.2985 5899.394,-2728.3177 5844,-2703 5786.0416,-2676.5102 5748,-2660.2251 5748,-2596.5 5748,-2596.5 5748,-2596.5 5748,-2513.5 5748,-2456.8141 5794.9846,-2407.0161 5831.1105,-2377.1049\" fill=\"none\" stroke=\"#000000\"/>\n",
       "<polygon fill=\"#000000\" points=\"5833.5088,-2379.6672 5839.0958,-2370.6652 5829.1145,-2374.2183 5833.5088,-2379.6672\" stroke=\"#000000\"/>\n",
       "</g>\n",
       "<!-- 140523228128592 -->\n",
       "<g class=\"node\" id=\"node20\">\n",
       "<title>140523228128592</title>\n",
       "<polygon fill=\"none\" points=\"7960.5,-2573.5 7960.5,-2619.5 8379.5,-2619.5 8379.5,-2573.5 7960.5,-2573.5\" stroke=\"#000000\"/>\n",
       "<text fill=\"#000000\" font-family=\"Times,serif\" font-size=\"14.00\" text-anchor=\"middle\" x=\"8090.5\" y=\"-2592.8\">batch_normalization_2: BatchNormalization</text>\n",
       "<polyline fill=\"none\" points=\"8220.5,-2573.5 8220.5,-2619.5 \" stroke=\"#000000\"/>\n",
       "<text fill=\"#000000\" font-family=\"Times,serif\" font-size=\"14.00\" text-anchor=\"middle\" x=\"8248\" y=\"-2604.3\">input:</text>\n",
       "<polyline fill=\"none\" points=\"8220.5,-2596.5 8275.5,-2596.5 \" stroke=\"#000000\"/>\n",
       "<text fill=\"#000000\" font-family=\"Times,serif\" font-size=\"14.00\" text-anchor=\"middle\" x=\"8248\" y=\"-2581.3\">output:</text>\n",
       "<polyline fill=\"none\" points=\"8275.5,-2573.5 8275.5,-2619.5 \" stroke=\"#000000\"/>\n",
       "<text fill=\"#000000\" font-family=\"Times,serif\" font-size=\"14.00\" text-anchor=\"middle\" x=\"8327.5\" y=\"-2604.3\">(None, 60, 300)</text>\n",
       "<polyline fill=\"none\" points=\"8275.5,-2596.5 8379.5,-2596.5 \" stroke=\"#000000\"/>\n",
       "<text fill=\"#000000\" font-family=\"Times,serif\" font-size=\"14.00\" text-anchor=\"middle\" x=\"8327.5\" y=\"-2581.3\">(None, 60, 300)</text>\n",
       "</g>\n",
       "<!-- 140523228129040&#45;&gt;140523228128592 -->\n",
       "<g class=\"edge\" id=\"edge24\">\n",
       "<title>140523228129040-&gt;140523228128592</title>\n",
       "<path d=\"M8127.4348,-2656.3799C8133.6479,-2647.6394 8140.8299,-2637.5358 8147.5043,-2628.1465\" fill=\"none\" stroke=\"#000000\"/>\n",
       "<polygon fill=\"#000000\" points=\"8150.5076,-2629.9624 8153.4487,-2619.784 8144.8022,-2625.9068 8150.5076,-2629.9624\" stroke=\"#000000\"/>\n",
       "</g>\n",
       "<!-- 140523226570032 -->\n",
       "<g class=\"node\" id=\"node21\">\n",
       "<title>140523226570032</title>\n",
       "<polygon fill=\"none\" points=\"8397.5,-2573.5 8397.5,-2619.5 8816.5,-2619.5 8816.5,-2573.5 8397.5,-2573.5\" stroke=\"#000000\"/>\n",
       "<text fill=\"#000000\" font-family=\"Times,serif\" font-size=\"14.00\" text-anchor=\"middle\" x=\"8527.5\" y=\"-2592.8\">batch_normalization_3: BatchNormalization</text>\n",
       "<polyline fill=\"none\" points=\"8657.5,-2573.5 8657.5,-2619.5 \" stroke=\"#000000\"/>\n",
       "<text fill=\"#000000\" font-family=\"Times,serif\" font-size=\"14.00\" text-anchor=\"middle\" x=\"8685\" y=\"-2604.3\">input:</text>\n",
       "<polyline fill=\"none\" points=\"8657.5,-2596.5 8712.5,-2596.5 \" stroke=\"#000000\"/>\n",
       "<text fill=\"#000000\" font-family=\"Times,serif\" font-size=\"14.00\" text-anchor=\"middle\" x=\"8685\" y=\"-2581.3\">output:</text>\n",
       "<polyline fill=\"none\" points=\"8712.5,-2573.5 8712.5,-2619.5 \" stroke=\"#000000\"/>\n",
       "<text fill=\"#000000\" font-family=\"Times,serif\" font-size=\"14.00\" text-anchor=\"middle\" x=\"8764.5\" y=\"-2604.3\">(None, 60, 300)</text>\n",
       "<polyline fill=\"none\" points=\"8712.5,-2596.5 8816.5,-2596.5 \" stroke=\"#000000\"/>\n",
       "<text fill=\"#000000\" font-family=\"Times,serif\" font-size=\"14.00\" text-anchor=\"middle\" x=\"8764.5\" y=\"-2581.3\">(None, 60, 300)</text>\n",
       "</g>\n",
       "<!-- 140523226569640&#45;&gt;140523226570032 -->\n",
       "<g class=\"edge\" id=\"edge25\">\n",
       "<title>140523226569640-&gt;140523226570032</title>\n",
       "<path d=\"M8557.2203,-2656.3799C8564.6348,-2647.461 8573.2292,-2637.1229 8581.1686,-2627.5725\" fill=\"none\" stroke=\"#000000\"/>\n",
       "<polygon fill=\"#000000\" points=\"8583.9421,-2629.7113 8587.6434,-2619.784 8578.5592,-2625.2364 8583.9421,-2629.7113\" stroke=\"#000000\"/>\n",
       "</g>\n",
       "<!-- 140523225138848 -->\n",
       "<g class=\"node\" id=\"node22\">\n",
       "<title>140523225138848</title>\n",
       "<polygon fill=\"none\" points=\"8834.5,-2573.5 8834.5,-2619.5 9253.5,-2619.5 9253.5,-2573.5 8834.5,-2573.5\" stroke=\"#000000\"/>\n",
       "<text fill=\"#000000\" font-family=\"Times,serif\" font-size=\"14.00\" text-anchor=\"middle\" x=\"8964.5\" y=\"-2592.8\">batch_normalization_4: BatchNormalization</text>\n",
       "<polyline fill=\"none\" points=\"9094.5,-2573.5 9094.5,-2619.5 \" stroke=\"#000000\"/>\n",
       "<text fill=\"#000000\" font-family=\"Times,serif\" font-size=\"14.00\" text-anchor=\"middle\" x=\"9122\" y=\"-2604.3\">input:</text>\n",
       "<polyline fill=\"none\" points=\"9094.5,-2596.5 9149.5,-2596.5 \" stroke=\"#000000\"/>\n",
       "<text fill=\"#000000\" font-family=\"Times,serif\" font-size=\"14.00\" text-anchor=\"middle\" x=\"9122\" y=\"-2581.3\">output:</text>\n",
       "<polyline fill=\"none\" points=\"9149.5,-2573.5 9149.5,-2619.5 \" stroke=\"#000000\"/>\n",
       "<text fill=\"#000000\" font-family=\"Times,serif\" font-size=\"14.00\" text-anchor=\"middle\" x=\"9201.5\" y=\"-2604.3\">(None, 60, 300)</text>\n",
       "<polyline fill=\"none\" points=\"9149.5,-2596.5 9253.5,-2596.5 \" stroke=\"#000000\"/>\n",
       "<text fill=\"#000000\" font-family=\"Times,serif\" font-size=\"14.00\" text-anchor=\"middle\" x=\"9201.5\" y=\"-2581.3\">(None, 60, 300)</text>\n",
       "</g>\n",
       "<!-- 140523225140416&#45;&gt;140523225138848 -->\n",
       "<g class=\"edge\" id=\"edge26\">\n",
       "<title>140523225140416-&gt;140523225138848</title>\n",
       "<path d=\"M8990.6131,-2656.3799C8998.6444,-2647.3718 9007.9665,-2636.916 9016.552,-2627.2863\" fill=\"none\" stroke=\"#000000\"/>\n",
       "<polygon fill=\"#000000\" points=\"9019.1984,-2629.5774 9023.2408,-2619.784 9013.9735,-2624.919 9019.1984,-2629.5774\" stroke=\"#000000\"/>\n",
       "</g>\n",
       "<!-- 140523223155096 -->\n",
       "<g class=\"node\" id=\"node23\">\n",
       "<title>140523223155096</title>\n",
       "<polygon fill=\"none\" points=\"5775.5,-2573.5 5775.5,-2619.5 6194.5,-2619.5 6194.5,-2573.5 5775.5,-2573.5\" stroke=\"#000000\"/>\n",
       "<text fill=\"#000000\" font-family=\"Times,serif\" font-size=\"14.00\" text-anchor=\"middle\" x=\"5905.5\" y=\"-2592.8\">batch_normalization_5: BatchNormalization</text>\n",
       "<polyline fill=\"none\" points=\"6035.5,-2573.5 6035.5,-2619.5 \" stroke=\"#000000\"/>\n",
       "<text fill=\"#000000\" font-family=\"Times,serif\" font-size=\"14.00\" text-anchor=\"middle\" x=\"6063\" y=\"-2604.3\">input:</text>\n",
       "<polyline fill=\"none\" points=\"6035.5,-2596.5 6090.5,-2596.5 \" stroke=\"#000000\"/>\n",
       "<text fill=\"#000000\" font-family=\"Times,serif\" font-size=\"14.00\" text-anchor=\"middle\" x=\"6063\" y=\"-2581.3\">output:</text>\n",
       "<polyline fill=\"none\" points=\"6090.5,-2573.5 6090.5,-2619.5 \" stroke=\"#000000\"/>\n",
       "<text fill=\"#000000\" font-family=\"Times,serif\" font-size=\"14.00\" text-anchor=\"middle\" x=\"6142.5\" y=\"-2604.3\">(None, 60, 300)</text>\n",
       "<polyline fill=\"none\" points=\"6090.5,-2596.5 6194.5,-2596.5 \" stroke=\"#000000\"/>\n",
       "<text fill=\"#000000\" font-family=\"Times,serif\" font-size=\"14.00\" text-anchor=\"middle\" x=\"6142.5\" y=\"-2581.3\">(None, 60, 300)</text>\n",
       "</g>\n",
       "<!-- 140523223156664&#45;&gt;140523223155096 -->\n",
       "<g class=\"edge\" id=\"edge27\">\n",
       "<title>140523223156664-&gt;140523223155096</title>\n",
       "<path d=\"M6013.1363,-2656.3799C6009.1551,-2647.907 6004.572,-2638.1531 6000.2761,-2629.0107\" fill=\"none\" stroke=\"#000000\"/>\n",
       "<polygon fill=\"#000000\" points=\"6003.3612,-2627.3462 5995.9407,-2619.784 5997.0257,-2630.3231 6003.3612,-2627.3462\" stroke=\"#000000\"/>\n",
       "</g>\n",
       "<!-- 140523221618192 -->\n",
       "<g class=\"node\" id=\"node24\">\n",
       "<title>140523221618192</title>\n",
       "<polygon fill=\"none\" points=\"6212.5,-2573.5 6212.5,-2619.5 6631.5,-2619.5 6631.5,-2573.5 6212.5,-2573.5\" stroke=\"#000000\"/>\n",
       "<text fill=\"#000000\" font-family=\"Times,serif\" font-size=\"14.00\" text-anchor=\"middle\" x=\"6342.5\" y=\"-2592.8\">batch_normalization_6: BatchNormalization</text>\n",
       "<polyline fill=\"none\" points=\"6472.5,-2573.5 6472.5,-2619.5 \" stroke=\"#000000\"/>\n",
       "<text fill=\"#000000\" font-family=\"Times,serif\" font-size=\"14.00\" text-anchor=\"middle\" x=\"6500\" y=\"-2604.3\">input:</text>\n",
       "<polyline fill=\"none\" points=\"6472.5,-2596.5 6527.5,-2596.5 \" stroke=\"#000000\"/>\n",
       "<text fill=\"#000000\" font-family=\"Times,serif\" font-size=\"14.00\" text-anchor=\"middle\" x=\"6500\" y=\"-2581.3\">output:</text>\n",
       "<polyline fill=\"none\" points=\"6527.5,-2573.5 6527.5,-2619.5 \" stroke=\"#000000\"/>\n",
       "<text fill=\"#000000\" font-family=\"Times,serif\" font-size=\"14.00\" text-anchor=\"middle\" x=\"6579.5\" y=\"-2604.3\">(None, 60, 300)</text>\n",
       "<polyline fill=\"none\" points=\"6527.5,-2596.5 6631.5,-2596.5 \" stroke=\"#000000\"/>\n",
       "<text fill=\"#000000\" font-family=\"Times,serif\" font-size=\"14.00\" text-anchor=\"middle\" x=\"6579.5\" y=\"-2581.3\">(None, 60, 300)</text>\n",
       "</g>\n",
       "<!-- 140523221617800&#45;&gt;140523221618192 -->\n",
       "<g class=\"edge\" id=\"edge28\">\n",
       "<title>140523221617800-&gt;140523221618192</title>\n",
       "<path d=\"M6450.1363,-2656.3799C6446.1551,-2647.907 6441.572,-2638.1531 6437.2761,-2629.0107\" fill=\"none\" stroke=\"#000000\"/>\n",
       "<polygon fill=\"#000000\" points=\"6440.3612,-2627.3462 6432.9407,-2619.784 6434.0257,-2630.3231 6440.3612,-2627.3462\" stroke=\"#000000\"/>\n",
       "</g>\n",
       "<!-- 140523238465776 -->\n",
       "<g class=\"node\" id=\"node25\">\n",
       "<title>140523238465776</title>\n",
       "<polygon fill=\"none\" points=\"6649.5,-2573.5 6649.5,-2619.5 7068.5,-2619.5 7068.5,-2573.5 6649.5,-2573.5\" stroke=\"#000000\"/>\n",
       "<text fill=\"#000000\" font-family=\"Times,serif\" font-size=\"14.00\" text-anchor=\"middle\" x=\"6779.5\" y=\"-2592.8\">batch_normalization_7: BatchNormalization</text>\n",
       "<polyline fill=\"none\" points=\"6909.5,-2573.5 6909.5,-2619.5 \" stroke=\"#000000\"/>\n",
       "<text fill=\"#000000\" font-family=\"Times,serif\" font-size=\"14.00\" text-anchor=\"middle\" x=\"6937\" y=\"-2604.3\">input:</text>\n",
       "<polyline fill=\"none\" points=\"6909.5,-2596.5 6964.5,-2596.5 \" stroke=\"#000000\"/>\n",
       "<text fill=\"#000000\" font-family=\"Times,serif\" font-size=\"14.00\" text-anchor=\"middle\" x=\"6937\" y=\"-2581.3\">output:</text>\n",
       "<polyline fill=\"none\" points=\"6964.5,-2573.5 6964.5,-2619.5 \" stroke=\"#000000\"/>\n",
       "<text fill=\"#000000\" font-family=\"Times,serif\" font-size=\"14.00\" text-anchor=\"middle\" x=\"7016.5\" y=\"-2604.3\">(None, 60, 300)</text>\n",
       "<polyline fill=\"none\" points=\"6964.5,-2596.5 7068.5,-2596.5 \" stroke=\"#000000\"/>\n",
       "<text fill=\"#000000\" font-family=\"Times,serif\" font-size=\"14.00\" text-anchor=\"middle\" x=\"7016.5\" y=\"-2581.3\">(None, 60, 300)</text>\n",
       "</g>\n",
       "<!-- 140523238399336&#45;&gt;140523238465776 -->\n",
       "<g class=\"edge\" id=\"edge29\">\n",
       "<title>140523238399336-&gt;140523238465776</title>\n",
       "<path d=\"M6887.1363,-2656.3799C6883.1551,-2647.907 6878.572,-2638.1531 6874.2761,-2629.0107\" fill=\"none\" stroke=\"#000000\"/>\n",
       "<polygon fill=\"#000000\" points=\"6877.3612,-2627.3462 6869.9407,-2619.784 6871.0257,-2630.3231 6877.3612,-2627.3462\" stroke=\"#000000\"/>\n",
       "</g>\n",
       "<!-- 140523238307208 -->\n",
       "<g class=\"node\" id=\"node26\">\n",
       "<title>140523238307208</title>\n",
       "<polygon fill=\"none\" points=\"7086.5,-2573.5 7086.5,-2619.5 7505.5,-2619.5 7505.5,-2573.5 7086.5,-2573.5\" stroke=\"#000000\"/>\n",
       "<text fill=\"#000000\" font-family=\"Times,serif\" font-size=\"14.00\" text-anchor=\"middle\" x=\"7216.5\" y=\"-2592.8\">batch_normalization_8: BatchNormalization</text>\n",
       "<polyline fill=\"none\" points=\"7346.5,-2573.5 7346.5,-2619.5 \" stroke=\"#000000\"/>\n",
       "<text fill=\"#000000\" font-family=\"Times,serif\" font-size=\"14.00\" text-anchor=\"middle\" x=\"7374\" y=\"-2604.3\">input:</text>\n",
       "<polyline fill=\"none\" points=\"7346.5,-2596.5 7401.5,-2596.5 \" stroke=\"#000000\"/>\n",
       "<text fill=\"#000000\" font-family=\"Times,serif\" font-size=\"14.00\" text-anchor=\"middle\" x=\"7374\" y=\"-2581.3\">output:</text>\n",
       "<polyline fill=\"none\" points=\"7401.5,-2573.5 7401.5,-2619.5 \" stroke=\"#000000\"/>\n",
       "<text fill=\"#000000\" font-family=\"Times,serif\" font-size=\"14.00\" text-anchor=\"middle\" x=\"7453.5\" y=\"-2604.3\">(None, 60, 300)</text>\n",
       "<polyline fill=\"none\" points=\"7401.5,-2596.5 7505.5,-2596.5 \" stroke=\"#000000\"/>\n",
       "<text fill=\"#000000\" font-family=\"Times,serif\" font-size=\"14.00\" text-anchor=\"middle\" x=\"7453.5\" y=\"-2581.3\">(None, 60, 300)</text>\n",
       "</g>\n",
       "<!-- 140523238308048&#45;&gt;140523238307208 -->\n",
       "<g class=\"edge\" id=\"edge30\">\n",
       "<title>140523238308048-&gt;140523238307208</title>\n",
       "<path d=\"M7296,-2656.3799C7296,-2648.1745 7296,-2638.7679 7296,-2629.8786\" fill=\"none\" stroke=\"#000000\"/>\n",
       "<polygon fill=\"#000000\" points=\"7299.5001,-2629.784 7296,-2619.784 7292.5001,-2629.784 7299.5001,-2629.784\" stroke=\"#000000\"/>\n",
       "</g>\n",
       "<!-- 140523216805392 -->\n",
       "<g class=\"node\" id=\"node27\">\n",
       "<title>140523216805392</title>\n",
       "<polygon fill=\"none\" points=\"7523.5,-2573.5 7523.5,-2619.5 7942.5,-2619.5 7942.5,-2573.5 7523.5,-2573.5\" stroke=\"#000000\"/>\n",
       "<text fill=\"#000000\" font-family=\"Times,serif\" font-size=\"14.00\" text-anchor=\"middle\" x=\"7653.5\" y=\"-2592.8\">batch_normalization_9: BatchNormalization</text>\n",
       "<polyline fill=\"none\" points=\"7783.5,-2573.5 7783.5,-2619.5 \" stroke=\"#000000\"/>\n",
       "<text fill=\"#000000\" font-family=\"Times,serif\" font-size=\"14.00\" text-anchor=\"middle\" x=\"7811\" y=\"-2604.3\">input:</text>\n",
       "<polyline fill=\"none\" points=\"7783.5,-2596.5 7838.5,-2596.5 \" stroke=\"#000000\"/>\n",
       "<text fill=\"#000000\" font-family=\"Times,serif\" font-size=\"14.00\" text-anchor=\"middle\" x=\"7811\" y=\"-2581.3\">output:</text>\n",
       "<polyline fill=\"none\" points=\"7838.5,-2573.5 7838.5,-2619.5 \" stroke=\"#000000\"/>\n",
       "<text fill=\"#000000\" font-family=\"Times,serif\" font-size=\"14.00\" text-anchor=\"middle\" x=\"7890.5\" y=\"-2604.3\">(None, 60, 300)</text>\n",
       "<polyline fill=\"none\" points=\"7838.5,-2596.5 7942.5,-2596.5 \" stroke=\"#000000\"/>\n",
       "<text fill=\"#000000\" font-family=\"Times,serif\" font-size=\"14.00\" text-anchor=\"middle\" x=\"7890.5\" y=\"-2581.3\">(None, 60, 300)</text>\n",
       "</g>\n",
       "<!-- 140523216578040&#45;&gt;140523216805392 -->\n",
       "<g class=\"edge\" id=\"edge31\">\n",
       "<title>140523216578040-&gt;140523216805392</title>\n",
       "<path d=\"M7704.8637,-2656.3799C7708.8449,-2647.907 7713.428,-2638.1531 7717.7239,-2629.0107\" fill=\"none\" stroke=\"#000000\"/>\n",
       "<polygon fill=\"#000000\" points=\"7720.9743,-2630.3231 7722.0593,-2619.784 7714.6388,-2627.3462 7720.9743,-2630.3231\" stroke=\"#000000\"/>\n",
       "</g>\n",
       "<!-- 140523216579272 -->\n",
       "<g class=\"node\" id=\"node28\">\n",
       "<title>140523216579272</title>\n",
       "<polygon fill=\"none\" points=\"6788.5,-2490.5 6788.5,-2536.5 7803.5,-2536.5 7803.5,-2490.5 6788.5,-2490.5\" stroke=\"#000000\"/>\n",
       "<text fill=\"#000000\" font-family=\"Times,serif\" font-size=\"14.00\" text-anchor=\"middle\" x=\"6881.5\" y=\"-2509.8\">concat_selfattn_1: Concatenate</text>\n",
       "<polyline fill=\"none\" points=\"6974.5,-2490.5 6974.5,-2536.5 \" stroke=\"#000000\"/>\n",
       "<text fill=\"#000000\" font-family=\"Times,serif\" font-size=\"14.00\" text-anchor=\"middle\" x=\"7002\" y=\"-2521.3\">input:</text>\n",
       "<polyline fill=\"none\" points=\"6974.5,-2513.5 7029.5,-2513.5 \" stroke=\"#000000\"/>\n",
       "<text fill=\"#000000\" font-family=\"Times,serif\" font-size=\"14.00\" text-anchor=\"middle\" x=\"7002\" y=\"-2498.3\">output:</text>\n",
       "<polyline fill=\"none\" points=\"7029.5,-2490.5 7029.5,-2536.5 \" stroke=\"#000000\"/>\n",
       "<text fill=\"#000000\" font-family=\"Times,serif\" font-size=\"14.00\" text-anchor=\"middle\" x=\"7416.5\" y=\"-2521.3\">[(None, 60, 300), (None, 60, 300), (None, 60, 300), (None, 60, 300), (None, 60, 300), (None, 60, 300), (None, 60, 300), (None, 60, 300)]</text>\n",
       "<polyline fill=\"none\" points=\"7029.5,-2513.5 7803.5,-2513.5 \" stroke=\"#000000\"/>\n",
       "<text fill=\"#000000\" font-family=\"Times,serif\" font-size=\"14.00\" text-anchor=\"middle\" x=\"7416.5\" y=\"-2498.3\">(None, 60, 2400)</text>\n",
       "</g>\n",
       "<!-- 140523228128592&#45;&gt;140523216579272 -->\n",
       "<g class=\"edge\" id=\"edge32\">\n",
       "<title>140523228128592-&gt;140523216579272</title>\n",
       "<path d=\"M7960.4885,-2573.9455C7957.3038,-2573.6264 7954.1394,-2573.311 7951,-2573 7826.0995,-2560.6266 7687.698,-2547.9091 7570.4173,-2537.4243\" fill=\"none\" stroke=\"#000000\"/>\n",
       "<polygon fill=\"#000000\" points=\"7570.489,-2533.9169 7560.2172,-2536.5133 7569.8662,-2540.8891 7570.489,-2533.9169\" stroke=\"#000000\"/>\n",
       "</g>\n",
       "<!-- 140523226570032&#45;&gt;140523216579272 -->\n",
       "<g class=\"edge\" id=\"edge33\">\n",
       "<title>140523226570032-&gt;140523216579272</title>\n",
       "<path d=\"M8397.213,-2573.7614C8394.1217,-2573.5005 8391.0492,-2573.2465 8388,-2573 8200.8943,-2557.8743 7995.4345,-2545.5571 7813.705,-2536.1353\" fill=\"none\" stroke=\"#000000\"/>\n",
       "<polygon fill=\"#000000\" points=\"7813.8659,-2532.639 7803.6986,-2535.6181 7813.5046,-2539.6297 7813.8659,-2532.639\" stroke=\"#000000\"/>\n",
       "</g>\n",
       "<!-- 140523225138848&#45;&gt;140523216579272 -->\n",
       "<g class=\"edge\" id=\"edge34\">\n",
       "<title>140523225138848-&gt;140523216579272</title>\n",
       "<path d=\"M8834.2181,-2573.6947C8831.1252,-2573.4546 8828.051,-2573.2228 8825,-2573 8488.6943,-2548.4412 8109.9862,-2533.6084 7813.6056,-2524.8945\" fill=\"none\" stroke=\"#000000\"/>\n",
       "<polygon fill=\"#000000\" points=\"7813.6369,-2521.394 7803.5388,-2524.6 7813.4321,-2528.391 7813.6369,-2521.394\" stroke=\"#000000\"/>\n",
       "</g>\n",
       "<!-- 140523223155096&#45;&gt;140523216579272 -->\n",
       "<g class=\"edge\" id=\"edge35\">\n",
       "<title>140523223155096-&gt;140523216579272</title>\n",
       "<path d=\"M6194.6938,-2573.6871C6197.4794,-2573.4522 6200.2492,-2573.223 6203,-2573 6390.3895,-2557.8101 6596.1757,-2545.4746 6778.1553,-2536.0559\" fill=\"none\" stroke=\"#000000\"/>\n",
       "<polygon fill=\"#000000\" points=\"6778.3691,-2539.5496 6788.1754,-2535.539 6778.0084,-2532.5589 6778.3691,-2539.5496\" stroke=\"#000000\"/>\n",
       "</g>\n",
       "<!-- 140523221618192&#45;&gt;140523216579272 -->\n",
       "<g class=\"edge\" id=\"edge36\">\n",
       "<title>140523221618192-&gt;140523216579272</title>\n",
       "<path d=\"M6631.7064,-2573.8275C6634.4881,-2573.5485 6637.2537,-2573.2726 6640,-2573 6764.9493,-2560.5997 6903.3934,-2547.8909 7020.7707,-2537.4194\" fill=\"none\" stroke=\"#000000\"/>\n",
       "<polygon fill=\"#000000\" points=\"7021.3295,-2540.8836 7030.9793,-2536.5096 7020.708,-2533.9112 7021.3295,-2540.8836\" stroke=\"#000000\"/>\n",
       "</g>\n",
       "<!-- 140523238465776&#45;&gt;140523216579272 -->\n",
       "<g class=\"edge\" id=\"edge37\">\n",
       "<title>140523238465776-&gt;140523216579272</title>\n",
       "<path d=\"M6980.1485,-2573.4901C7037.4557,-2562.6057 7105.9933,-2549.5882 7164.5562,-2538.4653\" fill=\"none\" stroke=\"#000000\"/>\n",
       "<polygon fill=\"#000000\" points=\"7165.4445,-2541.8592 7174.6158,-2536.5547 7164.1383,-2534.9822 7165.4445,-2541.8592\" stroke=\"#000000\"/>\n",
       "</g>\n",
       "<!-- 140523238307208&#45;&gt;140523216579272 -->\n",
       "<g class=\"edge\" id=\"edge38\">\n",
       "<title>140523238307208-&gt;140523216579272</title>\n",
       "<path d=\"M7296,-2573.3799C7296,-2565.1745 7296,-2555.7679 7296,-2546.8786\" fill=\"none\" stroke=\"#000000\"/>\n",
       "<polygon fill=\"#000000\" points=\"7299.5001,-2546.784 7296,-2536.784 7292.5001,-2546.784 7299.5001,-2546.784\" stroke=\"#000000\"/>\n",
       "</g>\n",
       "<!-- 140523216805392&#45;&gt;140523216579272 -->\n",
       "<g class=\"edge\" id=\"edge39\">\n",
       "<title>140523216805392-&gt;140523216579272</title>\n",
       "<path d=\"M7611.8515,-2573.4901C7554.5443,-2562.6057 7486.0067,-2549.5882 7427.4438,-2538.4653\" fill=\"none\" stroke=\"#000000\"/>\n",
       "<polygon fill=\"#000000\" points=\"7427.8617,-2534.9822 7417.3842,-2536.5547 7426.5555,-2541.8592 7427.8617,-2534.9822\" stroke=\"#000000\"/>\n",
       "</g>\n",
       "<!-- 140523215043776 -->\n",
       "<g class=\"node\" id=\"node29\">\n",
       "<title>140523215043776</title>\n",
       "<polygon fill=\"none\" points=\"6425.5,-2407.5 6425.5,-2453.5 6866.5,-2453.5 6866.5,-2407.5 6425.5,-2407.5\" stroke=\"#000000\"/>\n",
       "<text fill=\"#000000\" font-family=\"Times,serif\" font-size=\"14.00\" text-anchor=\"middle\" x=\"6563.5\" y=\"-2426.8\">condense_attention1d_1: CondenseAttention1D</text>\n",
       "<polyline fill=\"none\" points=\"6701.5,-2407.5 6701.5,-2453.5 \" stroke=\"#000000\"/>\n",
       "<text fill=\"#000000\" font-family=\"Times,serif\" font-size=\"14.00\" text-anchor=\"middle\" x=\"6729\" y=\"-2438.3\">input:</text>\n",
       "<polyline fill=\"none\" points=\"6701.5,-2430.5 6756.5,-2430.5 \" stroke=\"#000000\"/>\n",
       "<text fill=\"#000000\" font-family=\"Times,serif\" font-size=\"14.00\" text-anchor=\"middle\" x=\"6729\" y=\"-2415.3\">output:</text>\n",
       "<polyline fill=\"none\" points=\"6756.5,-2407.5 6756.5,-2453.5 \" stroke=\"#000000\"/>\n",
       "<text fill=\"#000000\" font-family=\"Times,serif\" font-size=\"14.00\" text-anchor=\"middle\" x=\"6811.5\" y=\"-2438.3\">(None, 60, 2400)</text>\n",
       "<polyline fill=\"none\" points=\"6756.5,-2430.5 6866.5,-2430.5 \" stroke=\"#000000\"/>\n",
       "<text fill=\"#000000\" font-family=\"Times,serif\" font-size=\"14.00\" text-anchor=\"middle\" x=\"6811.5\" y=\"-2415.3\">(None, 60, 300)</text>\n",
       "</g>\n",
       "<!-- 140523216579272&#45;&gt;140523215043776 -->\n",
       "<g class=\"edge\" id=\"edge40\">\n",
       "<title>140523216579272-&gt;140523215043776</title>\n",
       "<path d=\"M7115.802,-2490.4901C7028.887,-2479.3917 6924.6046,-2466.0757 6836.3922,-2454.8116\" fill=\"none\" stroke=\"#000000\"/>\n",
       "<polygon fill=\"#000000\" points=\"6836.6295,-2451.3136 6826.2667,-2453.5187 6835.7428,-2458.2572 6836.6295,-2451.3136\" stroke=\"#000000\"/>\n",
       "</g>\n",
       "<!-- 140523215043776&#45;&gt;140523214861872 -->\n",
       "<g class=\"edge\" id=\"edge42\">\n",
       "<title>140523215043776-&gt;140523214861872</title>\n",
       "<path d=\"M6431.4257,-2407.4901C6327.3003,-2396.3242 6202.2418,-2382.9135 6096.7977,-2371.6062\" fill=\"none\" stroke=\"#000000\"/>\n",
       "<polygon fill=\"#000000\" points=\"6096.9723,-2368.1049 6086.6561,-2370.5187 6096.2258,-2375.065 6096.9723,-2368.1049\" stroke=\"#000000\"/>\n",
       "</g>\n",
       "<!-- 140523214862992 -->\n",
       "<g class=\"node\" id=\"node31\">\n",
       "<title>140523214862992</title>\n",
       "<polygon fill=\"none\" points=\"5659.5,-2241.5 5659.5,-2287.5 6084.5,-2287.5 6084.5,-2241.5 5659.5,-2241.5\" stroke=\"#000000\"/>\n",
       "<text fill=\"#000000\" font-family=\"Times,serif\" font-size=\"14.00\" text-anchor=\"middle\" x=\"5792.5\" y=\"-2260.8\">batch_normalization_10: BatchNormalization</text>\n",
       "<polyline fill=\"none\" points=\"5925.5,-2241.5 5925.5,-2287.5 \" stroke=\"#000000\"/>\n",
       "<text fill=\"#000000\" font-family=\"Times,serif\" font-size=\"14.00\" text-anchor=\"middle\" x=\"5953\" y=\"-2272.3\">input:</text>\n",
       "<polyline fill=\"none\" points=\"5925.5,-2264.5 5980.5,-2264.5 \" stroke=\"#000000\"/>\n",
       "<text fill=\"#000000\" font-family=\"Times,serif\" font-size=\"14.00\" text-anchor=\"middle\" x=\"5953\" y=\"-2249.3\">output:</text>\n",
       "<polyline fill=\"none\" points=\"5980.5,-2241.5 5980.5,-2287.5 \" stroke=\"#000000\"/>\n",
       "<text fill=\"#000000\" font-family=\"Times,serif\" font-size=\"14.00\" text-anchor=\"middle\" x=\"6032.5\" y=\"-2272.3\">(None, 60, 300)</text>\n",
       "<polyline fill=\"none\" points=\"5980.5,-2264.5 6084.5,-2264.5 \" stroke=\"#000000\"/>\n",
       "<text fill=\"#000000\" font-family=\"Times,serif\" font-size=\"14.00\" text-anchor=\"middle\" x=\"6032.5\" y=\"-2249.3\">(None, 60, 300)</text>\n",
       "</g>\n",
       "<!-- 140523214861872&#45;&gt;140523214862992 -->\n",
       "<g class=\"edge\" id=\"edge43\">\n",
       "<title>140523214861872-&gt;140523214862992</title>\n",
       "<path d=\"M5872,-2324.3799C5872,-2316.1745 5872,-2306.7679 5872,-2297.8786\" fill=\"none\" stroke=\"#000000\"/>\n",
       "<polygon fill=\"#000000\" points=\"5875.5001,-2297.784 5872,-2287.784 5868.5001,-2297.784 5875.5001,-2297.784\" stroke=\"#000000\"/>\n",
       "</g>\n",
       "<!-- 140523214024320 -->\n",
       "<g class=\"node\" id=\"node32\">\n",
       "<title>140523214024320</title>\n",
       "<polygon fill=\"none\" points=\"6524.5,-2158.5 6524.5,-2204.5 6865.5,-2204.5 6865.5,-2158.5 6524.5,-2158.5\" stroke=\"#000000\"/>\n",
       "<text fill=\"#000000\" font-family=\"Times,serif\" font-size=\"14.00\" text-anchor=\"middle\" x=\"6585.5\" y=\"-2177.8\">sa20: SelfAttention</text>\n",
       "<polyline fill=\"none\" points=\"6646.5,-2158.5 6646.5,-2204.5 \" stroke=\"#000000\"/>\n",
       "<text fill=\"#000000\" font-family=\"Times,serif\" font-size=\"14.00\" text-anchor=\"middle\" x=\"6674\" y=\"-2189.3\">input:</text>\n",
       "<polyline fill=\"none\" points=\"6646.5,-2181.5 6701.5,-2181.5 \" stroke=\"#000000\"/>\n",
       "<text fill=\"#000000\" font-family=\"Times,serif\" font-size=\"14.00\" text-anchor=\"middle\" x=\"6674\" y=\"-2166.3\">output:</text>\n",
       "<polyline fill=\"none\" points=\"6701.5,-2158.5 6701.5,-2204.5 \" stroke=\"#000000\"/>\n",
       "<text fill=\"#000000\" font-family=\"Times,serif\" font-size=\"14.00\" text-anchor=\"middle\" x=\"6783.5\" y=\"-2189.3\">(None, 60, 300)</text>\n",
       "<polyline fill=\"none\" points=\"6701.5,-2181.5 6865.5,-2181.5 \" stroke=\"#000000\"/>\n",
       "<text fill=\"#000000\" font-family=\"Times,serif\" font-size=\"14.00\" text-anchor=\"middle\" x=\"6783.5\" y=\"-2166.3\">[(None, 60, 300), (60, 60)]</text>\n",
       "</g>\n",
       "<!-- 140523214862992&#45;&gt;140523214024320 -->\n",
       "<g class=\"edge\" id=\"edge44\">\n",
       "<title>140523214862992-&gt;140523214024320</title>\n",
       "<path d=\"M6084.7455,-2243.0445C6217.8315,-2229.6227 6387.4209,-2212.5195 6514.0279,-2199.7511\" fill=\"none\" stroke=\"#000000\"/>\n",
       "<polygon fill=\"#000000\" points=\"6514.6194,-2203.2093 6524.2177,-2198.7235 6513.917,-2196.2447 6514.6194,-2203.2093\" stroke=\"#000000\"/>\n",
       "</g>\n",
       "<!-- 140523211857368 -->\n",
       "<g class=\"node\" id=\"node33\">\n",
       "<title>140523211857368</title>\n",
       "<polygon fill=\"none\" points=\"6956.5,-2158.5 6956.5,-2204.5 7297.5,-2204.5 7297.5,-2158.5 6956.5,-2158.5\" stroke=\"#000000\"/>\n",
       "<text fill=\"#000000\" font-family=\"Times,serif\" font-size=\"14.00\" text-anchor=\"middle\" x=\"7017.5\" y=\"-2177.8\">sa21: SelfAttention</text>\n",
       "<polyline fill=\"none\" points=\"7078.5,-2158.5 7078.5,-2204.5 \" stroke=\"#000000\"/>\n",
       "<text fill=\"#000000\" font-family=\"Times,serif\" font-size=\"14.00\" text-anchor=\"middle\" x=\"7106\" y=\"-2189.3\">input:</text>\n",
       "<polyline fill=\"none\" points=\"7078.5,-2181.5 7133.5,-2181.5 \" stroke=\"#000000\"/>\n",
       "<text fill=\"#000000\" font-family=\"Times,serif\" font-size=\"14.00\" text-anchor=\"middle\" x=\"7106\" y=\"-2166.3\">output:</text>\n",
       "<polyline fill=\"none\" points=\"7133.5,-2158.5 7133.5,-2204.5 \" stroke=\"#000000\"/>\n",
       "<text fill=\"#000000\" font-family=\"Times,serif\" font-size=\"14.00\" text-anchor=\"middle\" x=\"7215.5\" y=\"-2189.3\">(None, 60, 300)</text>\n",
       "<polyline fill=\"none\" points=\"7133.5,-2181.5 7297.5,-2181.5 \" stroke=\"#000000\"/>\n",
       "<text fill=\"#000000\" font-family=\"Times,serif\" font-size=\"14.00\" text-anchor=\"middle\" x=\"7215.5\" y=\"-2166.3\">[(None, 60, 300), (60, 60)]</text>\n",
       "</g>\n",
       "<!-- 140523214862992&#45;&gt;140523211857368 -->\n",
       "<g class=\"edge\" id=\"edge45\">\n",
       "<title>140523214862992-&gt;140523211857368</title>\n",
       "<path d=\"M6084.7113,-2253.9273C6287.6398,-2243.3539 6601.845,-2225.7143 6874,-2205 6897.3888,-2203.2198 6921.9767,-2201.1653 6946.2565,-2199.0272\" fill=\"none\" stroke=\"#000000\"/>\n",
       "<polygon fill=\"#000000\" points=\"6946.6189,-2202.5089 6956.2707,-2198.1392 6946.0006,-2195.5363 6946.6189,-2202.5089\" stroke=\"#000000\"/>\n",
       "</g>\n",
       "<!-- 140523210699272 -->\n",
       "<g class=\"node\" id=\"node34\">\n",
       "<title>140523210699272</title>\n",
       "<polygon fill=\"none\" points=\"7394.5,-2158.5 7394.5,-2204.5 7735.5,-2204.5 7735.5,-2158.5 7394.5,-2158.5\" stroke=\"#000000\"/>\n",
       "<text fill=\"#000000\" font-family=\"Times,serif\" font-size=\"14.00\" text-anchor=\"middle\" x=\"7455.5\" y=\"-2177.8\">sa22: SelfAttention</text>\n",
       "<polyline fill=\"none\" points=\"7516.5,-2158.5 7516.5,-2204.5 \" stroke=\"#000000\"/>\n",
       "<text fill=\"#000000\" font-family=\"Times,serif\" font-size=\"14.00\" text-anchor=\"middle\" x=\"7544\" y=\"-2189.3\">input:</text>\n",
       "<polyline fill=\"none\" points=\"7516.5,-2181.5 7571.5,-2181.5 \" stroke=\"#000000\"/>\n",
       "<text fill=\"#000000\" font-family=\"Times,serif\" font-size=\"14.00\" text-anchor=\"middle\" x=\"7544\" y=\"-2166.3\">output:</text>\n",
       "<polyline fill=\"none\" points=\"7571.5,-2158.5 7571.5,-2204.5 \" stroke=\"#000000\"/>\n",
       "<text fill=\"#000000\" font-family=\"Times,serif\" font-size=\"14.00\" text-anchor=\"middle\" x=\"7653.5\" y=\"-2189.3\">(None, 60, 300)</text>\n",
       "<polyline fill=\"none\" points=\"7571.5,-2181.5 7735.5,-2181.5 \" stroke=\"#000000\"/>\n",
       "<text fill=\"#000000\" font-family=\"Times,serif\" font-size=\"14.00\" text-anchor=\"middle\" x=\"7653.5\" y=\"-2166.3\">[(None, 60, 300), (60, 60)]</text>\n",
       "</g>\n",
       "<!-- 140523214862992&#45;&gt;140523210699272 -->\n",
       "<g class=\"edge\" id=\"edge46\">\n",
       "<title>140523214862992-&gt;140523210699272</title>\n",
       "<path d=\"M6084.7645,-2258.9298C6364.9254,-2250.8488 6872.7615,-2233.6254 7306,-2205 7331.3671,-2203.3239 7358.105,-2201.2483 7384.3835,-2199.0299\" fill=\"none\" stroke=\"#000000\"/>\n",
       "<polygon fill=\"#000000\" points=\"7384.7623,-2202.5104 7394.4287,-2198.1733 7384.1674,-2195.5357 7384.7623,-2202.5104\" stroke=\"#000000\"/>\n",
       "</g>\n",
       "<!-- 140523141827608 -->\n",
       "<g class=\"node\" id=\"node35\">\n",
       "<title>140523141827608</title>\n",
       "<polygon fill=\"none\" points=\"4414.5,-2158.5 4414.5,-2204.5 4755.5,-2204.5 4755.5,-2158.5 4414.5,-2158.5\" stroke=\"#000000\"/>\n",
       "<text fill=\"#000000\" font-family=\"Times,serif\" font-size=\"14.00\" text-anchor=\"middle\" x=\"4475.5\" y=\"-2177.8\">sa23: SelfAttention</text>\n",
       "<polyline fill=\"none\" points=\"4536.5,-2158.5 4536.5,-2204.5 \" stroke=\"#000000\"/>\n",
       "<text fill=\"#000000\" font-family=\"Times,serif\" font-size=\"14.00\" text-anchor=\"middle\" x=\"4564\" y=\"-2189.3\">input:</text>\n",
       "<polyline fill=\"none\" points=\"4536.5,-2181.5 4591.5,-2181.5 \" stroke=\"#000000\"/>\n",
       "<text fill=\"#000000\" font-family=\"Times,serif\" font-size=\"14.00\" text-anchor=\"middle\" x=\"4564\" y=\"-2166.3\">output:</text>\n",
       "<polyline fill=\"none\" points=\"4591.5,-2158.5 4591.5,-2204.5 \" stroke=\"#000000\"/>\n",
       "<text fill=\"#000000\" font-family=\"Times,serif\" font-size=\"14.00\" text-anchor=\"middle\" x=\"4673.5\" y=\"-2189.3\">(None, 60, 300)</text>\n",
       "<polyline fill=\"none\" points=\"4591.5,-2181.5 4755.5,-2181.5 \" stroke=\"#000000\"/>\n",
       "<text fill=\"#000000\" font-family=\"Times,serif\" font-size=\"14.00\" text-anchor=\"middle\" x=\"4673.5\" y=\"-2166.3\">[(None, 60, 300), (60, 60)]</text>\n",
       "</g>\n",
       "<!-- 140523214862992&#45;&gt;140523141827608 -->\n",
       "<g class=\"edge\" id=\"edge47\">\n",
       "<title>140523214862992-&gt;140523141827608</title>\n",
       "<path d=\"M5659.0824,-2254.0603C5451.8718,-2243.4442 5128.1574,-2225.6509 4848,-2205 4821.432,-2203.0416 4793.3734,-2200.7614 4765.8701,-2198.4063\" fill=\"none\" stroke=\"#000000\"/>\n",
       "<polygon fill=\"#000000\" points=\"4766.0297,-2194.9072 4755.7662,-2197.5358 4765.4288,-2201.8814 4766.0297,-2194.9072\" stroke=\"#000000\"/>\n",
       "</g>\n",
       "<!-- 140523139949960 -->\n",
       "<g class=\"node\" id=\"node36\">\n",
       "<title>140523139949960</title>\n",
       "<polygon fill=\"none\" points=\"4857.5,-2158.5 4857.5,-2204.5 5198.5,-2204.5 5198.5,-2158.5 4857.5,-2158.5\" stroke=\"#000000\"/>\n",
       "<text fill=\"#000000\" font-family=\"Times,serif\" font-size=\"14.00\" text-anchor=\"middle\" x=\"4918.5\" y=\"-2177.8\">sa24: SelfAttention</text>\n",
       "<polyline fill=\"none\" points=\"4979.5,-2158.5 4979.5,-2204.5 \" stroke=\"#000000\"/>\n",
       "<text fill=\"#000000\" font-family=\"Times,serif\" font-size=\"14.00\" text-anchor=\"middle\" x=\"5007\" y=\"-2189.3\">input:</text>\n",
       "<polyline fill=\"none\" points=\"4979.5,-2181.5 5034.5,-2181.5 \" stroke=\"#000000\"/>\n",
       "<text fill=\"#000000\" font-family=\"Times,serif\" font-size=\"14.00\" text-anchor=\"middle\" x=\"5007\" y=\"-2166.3\">output:</text>\n",
       "<polyline fill=\"none\" points=\"5034.5,-2158.5 5034.5,-2204.5 \" stroke=\"#000000\"/>\n",
       "<text fill=\"#000000\" font-family=\"Times,serif\" font-size=\"14.00\" text-anchor=\"middle\" x=\"5116.5\" y=\"-2189.3\">(None, 60, 300)</text>\n",
       "<polyline fill=\"none\" points=\"5034.5,-2181.5 5198.5,-2181.5 \" stroke=\"#000000\"/>\n",
       "<text fill=\"#000000\" font-family=\"Times,serif\" font-size=\"14.00\" text-anchor=\"middle\" x=\"5116.5\" y=\"-2166.3\">[(None, 60, 300), (60, 60)]</text>\n",
       "</g>\n",
       "<!-- 140523214862992&#45;&gt;140523139949960 -->\n",
       "<g class=\"edge\" id=\"edge48\">\n",
       "<title>140523214862992-&gt;140523139949960</title>\n",
       "<path d=\"M5659.2957,-2243.5824C5520.3246,-2229.9158 5340.8044,-2212.2616 5208.747,-2199.2749\" fill=\"none\" stroke=\"#000000\"/>\n",
       "<polygon fill=\"#000000\" points=\"5208.8187,-2195.7651 5198.5241,-2198.2696 5208.1336,-2202.7315 5208.8187,-2195.7651\" stroke=\"#000000\"/>\n",
       "</g>\n",
       "<!-- 140523138444368 -->\n",
       "<g class=\"node\" id=\"node37\">\n",
       "<title>140523138444368</title>\n",
       "<polygon fill=\"none\" points=\"5300.5,-2158.5 5300.5,-2204.5 5641.5,-2204.5 5641.5,-2158.5 5300.5,-2158.5\" stroke=\"#000000\"/>\n",
       "<text fill=\"#000000\" font-family=\"Times,serif\" font-size=\"14.00\" text-anchor=\"middle\" x=\"5361.5\" y=\"-2177.8\">sa25: SelfAttention</text>\n",
       "<polyline fill=\"none\" points=\"5422.5,-2158.5 5422.5,-2204.5 \" stroke=\"#000000\"/>\n",
       "<text fill=\"#000000\" font-family=\"Times,serif\" font-size=\"14.00\" text-anchor=\"middle\" x=\"5450\" y=\"-2189.3\">input:</text>\n",
       "<polyline fill=\"none\" points=\"5422.5,-2181.5 5477.5,-2181.5 \" stroke=\"#000000\"/>\n",
       "<text fill=\"#000000\" font-family=\"Times,serif\" font-size=\"14.00\" text-anchor=\"middle\" x=\"5450\" y=\"-2166.3\">output:</text>\n",
       "<polyline fill=\"none\" points=\"5477.5,-2158.5 5477.5,-2204.5 \" stroke=\"#000000\"/>\n",
       "<text fill=\"#000000\" font-family=\"Times,serif\" font-size=\"14.00\" text-anchor=\"middle\" x=\"5559.5\" y=\"-2189.3\">(None, 60, 300)</text>\n",
       "<polyline fill=\"none\" points=\"5477.5,-2181.5 5641.5,-2181.5 \" stroke=\"#000000\"/>\n",
       "<text fill=\"#000000\" font-family=\"Times,serif\" font-size=\"14.00\" text-anchor=\"middle\" x=\"5559.5\" y=\"-2166.3\">[(None, 60, 300), (60, 60)]</text>\n",
       "</g>\n",
       "<!-- 140523214862992&#45;&gt;140523138444368 -->\n",
       "<g class=\"edge\" id=\"edge49\">\n",
       "<title>140523214862992-&gt;140523138444368</title>\n",
       "<path d=\"M5760.8317,-2241.4901C5708.4628,-2230.6506 5645.8736,-2217.6958 5592.2821,-2206.6033\" fill=\"none\" stroke=\"#000000\"/>\n",
       "<polygon fill=\"#000000\" points=\"5592.8865,-2203.1543 5582.3846,-2204.5547 5591.4676,-2210.009 5592.8865,-2203.1543\" stroke=\"#000000\"/>\n",
       "</g>\n",
       "<!-- 140523136452984 -->\n",
       "<g class=\"node\" id=\"node38\">\n",
       "<title>140523136452984</title>\n",
       "<polygon fill=\"none\" points=\"5701.5,-2158.5 5701.5,-2204.5 6042.5,-2204.5 6042.5,-2158.5 5701.5,-2158.5\" stroke=\"#000000\"/>\n",
       "<text fill=\"#000000\" font-family=\"Times,serif\" font-size=\"14.00\" text-anchor=\"middle\" x=\"5762.5\" y=\"-2177.8\">sa26: SelfAttention</text>\n",
       "<polyline fill=\"none\" points=\"5823.5,-2158.5 5823.5,-2204.5 \" stroke=\"#000000\"/>\n",
       "<text fill=\"#000000\" font-family=\"Times,serif\" font-size=\"14.00\" text-anchor=\"middle\" x=\"5851\" y=\"-2189.3\">input:</text>\n",
       "<polyline fill=\"none\" points=\"5823.5,-2181.5 5878.5,-2181.5 \" stroke=\"#000000\"/>\n",
       "<text fill=\"#000000\" font-family=\"Times,serif\" font-size=\"14.00\" text-anchor=\"middle\" x=\"5851\" y=\"-2166.3\">output:</text>\n",
       "<polyline fill=\"none\" points=\"5878.5,-2158.5 5878.5,-2204.5 \" stroke=\"#000000\"/>\n",
       "<text fill=\"#000000\" font-family=\"Times,serif\" font-size=\"14.00\" text-anchor=\"middle\" x=\"5960.5\" y=\"-2189.3\">(None, 60, 300)</text>\n",
       "<polyline fill=\"none\" points=\"5878.5,-2181.5 6042.5,-2181.5 \" stroke=\"#000000\"/>\n",
       "<text fill=\"#000000\" font-family=\"Times,serif\" font-size=\"14.00\" text-anchor=\"middle\" x=\"5960.5\" y=\"-2166.3\">[(None, 60, 300), (60, 60)]</text>\n",
       "</g>\n",
       "<!-- 140523214862992&#45;&gt;140523136452984 -->\n",
       "<g class=\"edge\" id=\"edge50\">\n",
       "<title>140523214862992-&gt;140523136452984</title>\n",
       "<path d=\"M5872,-2241.3799C5872,-2233.1745 5872,-2223.7679 5872,-2214.8786\" fill=\"none\" stroke=\"#000000\"/>\n",
       "<polygon fill=\"#000000\" points=\"5875.5001,-2214.784 5872,-2204.784 5868.5001,-2214.784 5875.5001,-2214.784\" stroke=\"#000000\"/>\n",
       "</g>\n",
       "<!-- 140523134989984 -->\n",
       "<g class=\"node\" id=\"node39\">\n",
       "<title>140523134989984</title>\n",
       "<polygon fill=\"none\" points=\"6102.5,-2158.5 6102.5,-2204.5 6443.5,-2204.5 6443.5,-2158.5 6102.5,-2158.5\" stroke=\"#000000\"/>\n",
       "<text fill=\"#000000\" font-family=\"Times,serif\" font-size=\"14.00\" text-anchor=\"middle\" x=\"6163.5\" y=\"-2177.8\">sa27: SelfAttention</text>\n",
       "<polyline fill=\"none\" points=\"6224.5,-2158.5 6224.5,-2204.5 \" stroke=\"#000000\"/>\n",
       "<text fill=\"#000000\" font-family=\"Times,serif\" font-size=\"14.00\" text-anchor=\"middle\" x=\"6252\" y=\"-2189.3\">input:</text>\n",
       "<polyline fill=\"none\" points=\"6224.5,-2181.5 6279.5,-2181.5 \" stroke=\"#000000\"/>\n",
       "<text fill=\"#000000\" font-family=\"Times,serif\" font-size=\"14.00\" text-anchor=\"middle\" x=\"6252\" y=\"-2166.3\">output:</text>\n",
       "<polyline fill=\"none\" points=\"6279.5,-2158.5 6279.5,-2204.5 \" stroke=\"#000000\"/>\n",
       "<text fill=\"#000000\" font-family=\"Times,serif\" font-size=\"14.00\" text-anchor=\"middle\" x=\"6361.5\" y=\"-2189.3\">(None, 60, 300)</text>\n",
       "<polyline fill=\"none\" points=\"6279.5,-2181.5 6443.5,-2181.5 \" stroke=\"#000000\"/>\n",
       "<text fill=\"#000000\" font-family=\"Times,serif\" font-size=\"14.00\" text-anchor=\"middle\" x=\"6361.5\" y=\"-2166.3\">[(None, 60, 300), (60, 60)]</text>\n",
       "</g>\n",
       "<!-- 140523214862992&#45;&gt;140523134989984 -->\n",
       "<g class=\"edge\" id=\"edge51\">\n",
       "<title>140523214862992-&gt;140523134989984</title>\n",
       "<path d=\"M5983.1683,-2241.4901C6035.5372,-2230.6506 6098.1264,-2217.6958 6151.7179,-2206.6033\" fill=\"none\" stroke=\"#000000\"/>\n",
       "<polygon fill=\"#000000\" points=\"6152.5324,-2210.009 6161.6154,-2204.5547 6151.1135,-2203.1543 6152.5324,-2210.009\" stroke=\"#000000\"/>\n",
       "</g>\n",
       "<!-- 140523132721416 -->\n",
       "<g class=\"node\" id=\"node50\">\n",
       "<title>140523132721416</title>\n",
       "<polygon fill=\"none\" points=\"4156,-1826.5 4156,-1872.5 4696,-1872.5 4696,-1826.5 4156,-1826.5\" stroke=\"#000000\"/>\n",
       "<text fill=\"#000000\" font-family=\"Times,serif\" font-size=\"14.00\" text-anchor=\"middle\" x=\"4295\" y=\"-1845.8\">residual_combine_selfattn_2: ResidualCombine</text>\n",
       "<polyline fill=\"none\" points=\"4434,-1826.5 4434,-1872.5 \" stroke=\"#000000\"/>\n",
       "<text fill=\"#000000\" font-family=\"Times,serif\" font-size=\"14.00\" text-anchor=\"middle\" x=\"4461.5\" y=\"-1857.3\">input:</text>\n",
       "<polyline fill=\"none\" points=\"4434,-1849.5 4489,-1849.5 \" stroke=\"#000000\"/>\n",
       "<text fill=\"#000000\" font-family=\"Times,serif\" font-size=\"14.00\" text-anchor=\"middle\" x=\"4461.5\" y=\"-1834.3\">output:</text>\n",
       "<polyline fill=\"none\" points=\"4489,-1826.5 4489,-1872.5 \" stroke=\"#000000\"/>\n",
       "<text fill=\"#000000\" font-family=\"Times,serif\" font-size=\"14.00\" text-anchor=\"middle\" x=\"4592.5\" y=\"-1857.3\">[(None, 60, 300), (None, 60, 300)]</text>\n",
       "<polyline fill=\"none\" points=\"4489,-1849.5 4696,-1849.5 \" stroke=\"#000000\"/>\n",
       "<text fill=\"#000000\" font-family=\"Times,serif\" font-size=\"14.00\" text-anchor=\"middle\" x=\"4592.5\" y=\"-1834.3\">[(None, 60, 300), (1,), (1,)]</text>\n",
       "</g>\n",
       "<!-- 140523214862992&#45;&gt;140523132721416 -->\n",
       "<g class=\"edge\" id=\"edge69\">\n",
       "<title>140523214862992-&gt;140523132721416</title>\n",
       "<path d=\"M5659.441,-2259.9165C5266.564,-2250.8821 4461.398,-2229.5105 4405,-2205 4344.6081,-2178.7537 4302,-2164.3487 4302,-2098.5 4302,-2098.5 4302,-2098.5 4302,-2015.5 4302,-1958.8141 4348.9846,-1909.0161 4385.1105,-1879.1049\" fill=\"none\" stroke=\"#000000\"/>\n",
       "<polygon fill=\"#000000\" points=\"4387.5088,-1881.6672 4393.0958,-1872.6652 4383.1145,-1876.2183 4387.5088,-1881.6672\" stroke=\"#000000\"/>\n",
       "</g>\n",
       "<!-- 140523214395152 -->\n",
       "<g class=\"node\" id=\"node40\">\n",
       "<title>140523214395152</title>\n",
       "<polygon fill=\"none\" points=\"6545.5,-2075.5 6545.5,-2121.5 6970.5,-2121.5 6970.5,-2075.5 6545.5,-2075.5\" stroke=\"#000000\"/>\n",
       "<text fill=\"#000000\" font-family=\"Times,serif\" font-size=\"14.00\" text-anchor=\"middle\" x=\"6678.5\" y=\"-2094.8\">batch_normalization_11: BatchNormalization</text>\n",
       "<polyline fill=\"none\" points=\"6811.5,-2075.5 6811.5,-2121.5 \" stroke=\"#000000\"/>\n",
       "<text fill=\"#000000\" font-family=\"Times,serif\" font-size=\"14.00\" text-anchor=\"middle\" x=\"6839\" y=\"-2106.3\">input:</text>\n",
       "<polyline fill=\"none\" points=\"6811.5,-2098.5 6866.5,-2098.5 \" stroke=\"#000000\"/>\n",
       "<text fill=\"#000000\" font-family=\"Times,serif\" font-size=\"14.00\" text-anchor=\"middle\" x=\"6839\" y=\"-2083.3\">output:</text>\n",
       "<polyline fill=\"none\" points=\"6866.5,-2075.5 6866.5,-2121.5 \" stroke=\"#000000\"/>\n",
       "<text fill=\"#000000\" font-family=\"Times,serif\" font-size=\"14.00\" text-anchor=\"middle\" x=\"6918.5\" y=\"-2106.3\">(None, 60, 300)</text>\n",
       "<polyline fill=\"none\" points=\"6866.5,-2098.5 6970.5,-2098.5 \" stroke=\"#000000\"/>\n",
       "<text fill=\"#000000\" font-family=\"Times,serif\" font-size=\"14.00\" text-anchor=\"middle\" x=\"6918.5\" y=\"-2083.3\">(None, 60, 300)</text>\n",
       "</g>\n",
       "<!-- 140523214024320&#45;&gt;140523214395152 -->\n",
       "<g class=\"edge\" id=\"edge52\">\n",
       "<title>140523214024320-&gt;140523214395152</title>\n",
       "<path d=\"M6712.549,-2158.3799C6719.251,-2149.5502 6727.0089,-2139.3295 6734.1972,-2129.8593\" fill=\"none\" stroke=\"#000000\"/>\n",
       "<polygon fill=\"#000000\" points=\"6737.0685,-2131.8654 6740.3266,-2121.784 6731.4927,-2127.6332 6737.0685,-2131.8654\" stroke=\"#000000\"/>\n",
       "</g>\n",
       "<!-- 140523211857592 -->\n",
       "<g class=\"node\" id=\"node41\">\n",
       "<title>140523211857592</title>\n",
       "<polygon fill=\"none\" points=\"6988.5,-2075.5 6988.5,-2121.5 7413.5,-2121.5 7413.5,-2075.5 6988.5,-2075.5\" stroke=\"#000000\"/>\n",
       "<text fill=\"#000000\" font-family=\"Times,serif\" font-size=\"14.00\" text-anchor=\"middle\" x=\"7121.5\" y=\"-2094.8\">batch_normalization_12: BatchNormalization</text>\n",
       "<polyline fill=\"none\" points=\"7254.5,-2075.5 7254.5,-2121.5 \" stroke=\"#000000\"/>\n",
       "<text fill=\"#000000\" font-family=\"Times,serif\" font-size=\"14.00\" text-anchor=\"middle\" x=\"7282\" y=\"-2106.3\">input:</text>\n",
       "<polyline fill=\"none\" points=\"7254.5,-2098.5 7309.5,-2098.5 \" stroke=\"#000000\"/>\n",
       "<text fill=\"#000000\" font-family=\"Times,serif\" font-size=\"14.00\" text-anchor=\"middle\" x=\"7282\" y=\"-2083.3\">output:</text>\n",
       "<polyline fill=\"none\" points=\"7309.5,-2075.5 7309.5,-2121.5 \" stroke=\"#000000\"/>\n",
       "<text fill=\"#000000\" font-family=\"Times,serif\" font-size=\"14.00\" text-anchor=\"middle\" x=\"7361.5\" y=\"-2106.3\">(None, 60, 300)</text>\n",
       "<polyline fill=\"none\" points=\"7309.5,-2098.5 7413.5,-2098.5 \" stroke=\"#000000\"/>\n",
       "<text fill=\"#000000\" font-family=\"Times,serif\" font-size=\"14.00\" text-anchor=\"middle\" x=\"7361.5\" y=\"-2083.3\">(None, 60, 300)</text>\n",
       "</g>\n",
       "<!-- 140523211857368&#45;&gt;140523211857592 -->\n",
       "<g class=\"edge\" id=\"edge53\">\n",
       "<title>140523211857368-&gt;140523211857592</title>\n",
       "<path d=\"M7147.6131,-2158.3799C7155.6444,-2149.3718 7164.9665,-2138.916 7173.552,-2129.2863\" fill=\"none\" stroke=\"#000000\"/>\n",
       "<polygon fill=\"#000000\" points=\"7176.1984,-2131.5774 7180.2408,-2121.784 7170.9735,-2126.919 7176.1984,-2131.5774\" stroke=\"#000000\"/>\n",
       "</g>\n",
       "<!-- 140523210698992 -->\n",
       "<g class=\"node\" id=\"node42\">\n",
       "<title>140523210698992</title>\n",
       "<polygon fill=\"none\" points=\"7431.5,-2075.5 7431.5,-2121.5 7856.5,-2121.5 7856.5,-2075.5 7431.5,-2075.5\" stroke=\"#000000\"/>\n",
       "<text fill=\"#000000\" font-family=\"Times,serif\" font-size=\"14.00\" text-anchor=\"middle\" x=\"7564.5\" y=\"-2094.8\">batch_normalization_13: BatchNormalization</text>\n",
       "<polyline fill=\"none\" points=\"7697.5,-2075.5 7697.5,-2121.5 \" stroke=\"#000000\"/>\n",
       "<text fill=\"#000000\" font-family=\"Times,serif\" font-size=\"14.00\" text-anchor=\"middle\" x=\"7725\" y=\"-2106.3\">input:</text>\n",
       "<polyline fill=\"none\" points=\"7697.5,-2098.5 7752.5,-2098.5 \" stroke=\"#000000\"/>\n",
       "<text fill=\"#000000\" font-family=\"Times,serif\" font-size=\"14.00\" text-anchor=\"middle\" x=\"7725\" y=\"-2083.3\">output:</text>\n",
       "<polyline fill=\"none\" points=\"7752.5,-2075.5 7752.5,-2121.5 \" stroke=\"#000000\"/>\n",
       "<text fill=\"#000000\" font-family=\"Times,serif\" font-size=\"14.00\" text-anchor=\"middle\" x=\"7804.5\" y=\"-2106.3\">(None, 60, 300)</text>\n",
       "<polyline fill=\"none\" points=\"7752.5,-2098.5 7856.5,-2098.5 \" stroke=\"#000000\"/>\n",
       "<text fill=\"#000000\" font-family=\"Times,serif\" font-size=\"14.00\" text-anchor=\"middle\" x=\"7804.5\" y=\"-2083.3\">(None, 60, 300)</text>\n",
       "</g>\n",
       "<!-- 140523210699272&#45;&gt;140523210698992 -->\n",
       "<g class=\"edge\" id=\"edge54\">\n",
       "<title>140523210699272-&gt;140523210698992</title>\n",
       "<path d=\"M7587.0059,-2158.3799C7595.5798,-2149.3718 7605.5318,-2138.916 7614.6974,-2129.2863\" fill=\"none\" stroke=\"#000000\"/>\n",
       "<polygon fill=\"#000000\" points=\"7617.4789,-2131.4405 7621.8381,-2121.784 7612.4085,-2126.6144 7617.4789,-2131.4405\" stroke=\"#000000\"/>\n",
       "</g>\n",
       "<!-- 140523141828000 -->\n",
       "<g class=\"node\" id=\"node43\">\n",
       "<title>140523141828000</title>\n",
       "<polygon fill=\"none\" points=\"4330.5,-2075.5 4330.5,-2121.5 4755.5,-2121.5 4755.5,-2075.5 4330.5,-2075.5\" stroke=\"#000000\"/>\n",
       "<text fill=\"#000000\" font-family=\"Times,serif\" font-size=\"14.00\" text-anchor=\"middle\" x=\"4463.5\" y=\"-2094.8\">batch_normalization_14: BatchNormalization</text>\n",
       "<polyline fill=\"none\" points=\"4596.5,-2075.5 4596.5,-2121.5 \" stroke=\"#000000\"/>\n",
       "<text fill=\"#000000\" font-family=\"Times,serif\" font-size=\"14.00\" text-anchor=\"middle\" x=\"4624\" y=\"-2106.3\">input:</text>\n",
       "<polyline fill=\"none\" points=\"4596.5,-2098.5 4651.5,-2098.5 \" stroke=\"#000000\"/>\n",
       "<text fill=\"#000000\" font-family=\"Times,serif\" font-size=\"14.00\" text-anchor=\"middle\" x=\"4624\" y=\"-2083.3\">output:</text>\n",
       "<polyline fill=\"none\" points=\"4651.5,-2075.5 4651.5,-2121.5 \" stroke=\"#000000\"/>\n",
       "<text fill=\"#000000\" font-family=\"Times,serif\" font-size=\"14.00\" text-anchor=\"middle\" x=\"4703.5\" y=\"-2106.3\">(None, 60, 300)</text>\n",
       "<polyline fill=\"none\" points=\"4651.5,-2098.5 4755.5,-2098.5 \" stroke=\"#000000\"/>\n",
       "<text fill=\"#000000\" font-family=\"Times,serif\" font-size=\"14.00\" text-anchor=\"middle\" x=\"4703.5\" y=\"-2083.3\">(None, 60, 300)</text>\n",
       "</g>\n",
       "<!-- 140523141827608&#45;&gt;140523141828000 -->\n",
       "<g class=\"edge\" id=\"edge55\">\n",
       "<title>140523141827608-&gt;140523141828000</title>\n",
       "<path d=\"M4573.3007,-2158.3799C4568.968,-2149.8178 4563.9735,-2139.9477 4559.3052,-2130.7222\" fill=\"none\" stroke=\"#000000\"/>\n",
       "<polygon fill=\"#000000\" points=\"4562.4203,-2129.1264 4554.7823,-2121.784 4556.1745,-2132.287 4562.4203,-2129.1264\" stroke=\"#000000\"/>\n",
       "</g>\n",
       "<!-- 140523139668680 -->\n",
       "<g class=\"node\" id=\"node44\">\n",
       "<title>140523139668680</title>\n",
       "<polygon fill=\"none\" points=\"4773.5,-2075.5 4773.5,-2121.5 5198.5,-2121.5 5198.5,-2075.5 4773.5,-2075.5\" stroke=\"#000000\"/>\n",
       "<text fill=\"#000000\" font-family=\"Times,serif\" font-size=\"14.00\" text-anchor=\"middle\" x=\"4906.5\" y=\"-2094.8\">batch_normalization_15: BatchNormalization</text>\n",
       "<polyline fill=\"none\" points=\"5039.5,-2075.5 5039.5,-2121.5 \" stroke=\"#000000\"/>\n",
       "<text fill=\"#000000\" font-family=\"Times,serif\" font-size=\"14.00\" text-anchor=\"middle\" x=\"5067\" y=\"-2106.3\">input:</text>\n",
       "<polyline fill=\"none\" points=\"5039.5,-2098.5 5094.5,-2098.5 \" stroke=\"#000000\"/>\n",
       "<text fill=\"#000000\" font-family=\"Times,serif\" font-size=\"14.00\" text-anchor=\"middle\" x=\"5067\" y=\"-2083.3\">output:</text>\n",
       "<polyline fill=\"none\" points=\"5094.5,-2075.5 5094.5,-2121.5 \" stroke=\"#000000\"/>\n",
       "<text fill=\"#000000\" font-family=\"Times,serif\" font-size=\"14.00\" text-anchor=\"middle\" x=\"5146.5\" y=\"-2106.3\">(None, 60, 300)</text>\n",
       "<polyline fill=\"none\" points=\"5094.5,-2098.5 5198.5,-2098.5 \" stroke=\"#000000\"/>\n",
       "<text fill=\"#000000\" font-family=\"Times,serif\" font-size=\"14.00\" text-anchor=\"middle\" x=\"5146.5\" y=\"-2083.3\">(None, 60, 300)</text>\n",
       "</g>\n",
       "<!-- 140523139949960&#45;&gt;140523139668680 -->\n",
       "<g class=\"edge\" id=\"edge56\">\n",
       "<title>140523139949960-&gt;140523139668680</title>\n",
       "<path d=\"M5016.3007,-2158.3799C5011.968,-2149.8178 5006.9735,-2139.9477 5002.3052,-2130.7222\" fill=\"none\" stroke=\"#000000\"/>\n",
       "<polygon fill=\"#000000\" points=\"5005.4203,-2129.1264 4997.7823,-2121.784 4999.1745,-2132.287 5005.4203,-2129.1264\" stroke=\"#000000\"/>\n",
       "</g>\n",
       "<!-- 140523138442800 -->\n",
       "<g class=\"node\" id=\"node45\">\n",
       "<title>140523138442800</title>\n",
       "<polygon fill=\"none\" points=\"5216.5,-2075.5 5216.5,-2121.5 5641.5,-2121.5 5641.5,-2075.5 5216.5,-2075.5\" stroke=\"#000000\"/>\n",
       "<text fill=\"#000000\" font-family=\"Times,serif\" font-size=\"14.00\" text-anchor=\"middle\" x=\"5349.5\" y=\"-2094.8\">batch_normalization_16: BatchNormalization</text>\n",
       "<polyline fill=\"none\" points=\"5482.5,-2075.5 5482.5,-2121.5 \" stroke=\"#000000\"/>\n",
       "<text fill=\"#000000\" font-family=\"Times,serif\" font-size=\"14.00\" text-anchor=\"middle\" x=\"5510\" y=\"-2106.3\">input:</text>\n",
       "<polyline fill=\"none\" points=\"5482.5,-2098.5 5537.5,-2098.5 \" stroke=\"#000000\"/>\n",
       "<text fill=\"#000000\" font-family=\"Times,serif\" font-size=\"14.00\" text-anchor=\"middle\" x=\"5510\" y=\"-2083.3\">output:</text>\n",
       "<polyline fill=\"none\" points=\"5537.5,-2075.5 5537.5,-2121.5 \" stroke=\"#000000\"/>\n",
       "<text fill=\"#000000\" font-family=\"Times,serif\" font-size=\"14.00\" text-anchor=\"middle\" x=\"5589.5\" y=\"-2106.3\">(None, 60, 300)</text>\n",
       "<polyline fill=\"none\" points=\"5537.5,-2098.5 5641.5,-2098.5 \" stroke=\"#000000\"/>\n",
       "<text fill=\"#000000\" font-family=\"Times,serif\" font-size=\"14.00\" text-anchor=\"middle\" x=\"5589.5\" y=\"-2083.3\">(None, 60, 300)</text>\n",
       "</g>\n",
       "<!-- 140523138444368&#45;&gt;140523138442800 -->\n",
       "<g class=\"edge\" id=\"edge57\">\n",
       "<title>140523138444368-&gt;140523138442800</title>\n",
       "<path d=\"M5459.3007,-2158.3799C5454.968,-2149.8178 5449.9735,-2139.9477 5445.3052,-2130.7222\" fill=\"none\" stroke=\"#000000\"/>\n",
       "<polygon fill=\"#000000\" points=\"5448.4203,-2129.1264 5440.7823,-2121.784 5442.1745,-2132.287 5448.4203,-2129.1264\" stroke=\"#000000\"/>\n",
       "</g>\n",
       "<!-- 140523136541584 -->\n",
       "<g class=\"node\" id=\"node46\">\n",
       "<title>140523136541584</title>\n",
       "<polygon fill=\"none\" points=\"5659.5,-2075.5 5659.5,-2121.5 6084.5,-2121.5 6084.5,-2075.5 5659.5,-2075.5\" stroke=\"#000000\"/>\n",
       "<text fill=\"#000000\" font-family=\"Times,serif\" font-size=\"14.00\" text-anchor=\"middle\" x=\"5792.5\" y=\"-2094.8\">batch_normalization_17: BatchNormalization</text>\n",
       "<polyline fill=\"none\" points=\"5925.5,-2075.5 5925.5,-2121.5 \" stroke=\"#000000\"/>\n",
       "<text fill=\"#000000\" font-family=\"Times,serif\" font-size=\"14.00\" text-anchor=\"middle\" x=\"5953\" y=\"-2106.3\">input:</text>\n",
       "<polyline fill=\"none\" points=\"5925.5,-2098.5 5980.5,-2098.5 \" stroke=\"#000000\"/>\n",
       "<text fill=\"#000000\" font-family=\"Times,serif\" font-size=\"14.00\" text-anchor=\"middle\" x=\"5953\" y=\"-2083.3\">output:</text>\n",
       "<polyline fill=\"none\" points=\"5980.5,-2075.5 5980.5,-2121.5 \" stroke=\"#000000\"/>\n",
       "<text fill=\"#000000\" font-family=\"Times,serif\" font-size=\"14.00\" text-anchor=\"middle\" x=\"6032.5\" y=\"-2106.3\">(None, 60, 300)</text>\n",
       "<polyline fill=\"none\" points=\"5980.5,-2098.5 6084.5,-2098.5 \" stroke=\"#000000\"/>\n",
       "<text fill=\"#000000\" font-family=\"Times,serif\" font-size=\"14.00\" text-anchor=\"middle\" x=\"6032.5\" y=\"-2083.3\">(None, 60, 300)</text>\n",
       "</g>\n",
       "<!-- 140523136452984&#45;&gt;140523136541584 -->\n",
       "<g class=\"edge\" id=\"edge58\">\n",
       "<title>140523136452984-&gt;140523136541584</title>\n",
       "<path d=\"M5872,-2158.3799C5872,-2150.1745 5872,-2140.7679 5872,-2131.8786\" fill=\"none\" stroke=\"#000000\"/>\n",
       "<polygon fill=\"#000000\" points=\"5875.5001,-2131.784 5872,-2121.784 5868.5001,-2131.784 5875.5001,-2131.784\" stroke=\"#000000\"/>\n",
       "</g>\n",
       "<!-- 140523134988416 -->\n",
       "<g class=\"node\" id=\"node47\">\n",
       "<title>140523134988416</title>\n",
       "<polygon fill=\"none\" points=\"6102.5,-2075.5 6102.5,-2121.5 6527.5,-2121.5 6527.5,-2075.5 6102.5,-2075.5\" stroke=\"#000000\"/>\n",
       "<text fill=\"#000000\" font-family=\"Times,serif\" font-size=\"14.00\" text-anchor=\"middle\" x=\"6235.5\" y=\"-2094.8\">batch_normalization_18: BatchNormalization</text>\n",
       "<polyline fill=\"none\" points=\"6368.5,-2075.5 6368.5,-2121.5 \" stroke=\"#000000\"/>\n",
       "<text fill=\"#000000\" font-family=\"Times,serif\" font-size=\"14.00\" text-anchor=\"middle\" x=\"6396\" y=\"-2106.3\">input:</text>\n",
       "<polyline fill=\"none\" points=\"6368.5,-2098.5 6423.5,-2098.5 \" stroke=\"#000000\"/>\n",
       "<text fill=\"#000000\" font-family=\"Times,serif\" font-size=\"14.00\" text-anchor=\"middle\" x=\"6396\" y=\"-2083.3\">output:</text>\n",
       "<polyline fill=\"none\" points=\"6423.5,-2075.5 6423.5,-2121.5 \" stroke=\"#000000\"/>\n",
       "<text fill=\"#000000\" font-family=\"Times,serif\" font-size=\"14.00\" text-anchor=\"middle\" x=\"6475.5\" y=\"-2106.3\">(None, 60, 300)</text>\n",
       "<polyline fill=\"none\" points=\"6423.5,-2098.5 6527.5,-2098.5 \" stroke=\"#000000\"/>\n",
       "<text fill=\"#000000\" font-family=\"Times,serif\" font-size=\"14.00\" text-anchor=\"middle\" x=\"6475.5\" y=\"-2083.3\">(None, 60, 300)</text>\n",
       "</g>\n",
       "<!-- 140523134989984&#45;&gt;140523134988416 -->\n",
       "<g class=\"edge\" id=\"edge59\">\n",
       "<title>140523134989984-&gt;140523134988416</title>\n",
       "<path d=\"M6284.6993,-2158.3799C6289.032,-2149.8178 6294.0265,-2139.9477 6298.6948,-2130.7222\" fill=\"none\" stroke=\"#000000\"/>\n",
       "<polygon fill=\"#000000\" points=\"6301.8255,-2132.287 6303.2177,-2121.784 6295.5797,-2129.1264 6301.8255,-2132.287\" stroke=\"#000000\"/>\n",
       "</g>\n",
       "<!-- 140523134991608 -->\n",
       "<g class=\"node\" id=\"node48\">\n",
       "<title>140523134991608</title>\n",
       "<polygon fill=\"none\" points=\"5364.5,-1992.5 5364.5,-2038.5 6379.5,-2038.5 6379.5,-1992.5 5364.5,-1992.5\" stroke=\"#000000\"/>\n",
       "<text fill=\"#000000\" font-family=\"Times,serif\" font-size=\"14.00\" text-anchor=\"middle\" x=\"5457.5\" y=\"-2011.8\">concat_selfattn_2: Concatenate</text>\n",
       "<polyline fill=\"none\" points=\"5550.5,-1992.5 5550.5,-2038.5 \" stroke=\"#000000\"/>\n",
       "<text fill=\"#000000\" font-family=\"Times,serif\" font-size=\"14.00\" text-anchor=\"middle\" x=\"5578\" y=\"-2023.3\">input:</text>\n",
       "<polyline fill=\"none\" points=\"5550.5,-2015.5 5605.5,-2015.5 \" stroke=\"#000000\"/>\n",
       "<text fill=\"#000000\" font-family=\"Times,serif\" font-size=\"14.00\" text-anchor=\"middle\" x=\"5578\" y=\"-2000.3\">output:</text>\n",
       "<polyline fill=\"none\" points=\"5605.5,-1992.5 5605.5,-2038.5 \" stroke=\"#000000\"/>\n",
       "<text fill=\"#000000\" font-family=\"Times,serif\" font-size=\"14.00\" text-anchor=\"middle\" x=\"5992.5\" y=\"-2023.3\">[(None, 60, 300), (None, 60, 300), (None, 60, 300), (None, 60, 300), (None, 60, 300), (None, 60, 300), (None, 60, 300), (None, 60, 300)]</text>\n",
       "<polyline fill=\"none\" points=\"5605.5,-2015.5 6379.5,-2015.5 \" stroke=\"#000000\"/>\n",
       "<text fill=\"#000000\" font-family=\"Times,serif\" font-size=\"14.00\" text-anchor=\"middle\" x=\"5992.5\" y=\"-2000.3\">(None, 60, 2400)</text>\n",
       "</g>\n",
       "<!-- 140523214395152&#45;&gt;140523134991608 -->\n",
       "<g class=\"edge\" id=\"edge60\">\n",
       "<title>140523214395152-&gt;140523134991608</title>\n",
       "<path d=\"M6545.3249,-2075.9165C6542.1957,-2075.6072 6539.0859,-2075.3016 6536,-2075 6409.2534,-2062.6136 6268.7951,-2049.8829 6149.827,-2039.3922\" fill=\"none\" stroke=\"#000000\"/>\n",
       "<polygon fill=\"#000000\" points=\"6150.1138,-2035.904 6139.8452,-2038.5128 6149.4994,-2042.877 6150.1138,-2035.904\" stroke=\"#000000\"/>\n",
       "</g>\n",
       "<!-- 140523211857592&#45;&gt;140523134991608 -->\n",
       "<g class=\"edge\" id=\"edge61\">\n",
       "<title>140523211857592-&gt;140523134991608</title>\n",
       "<path d=\"M6988.3386,-2075.7614C6985.2051,-2075.5005 6982.0907,-2075.2465 6979,-2075 6786.9603,-2059.6851 6575.8567,-2047.2501 6389.9562,-2037.7842\" fill=\"none\" stroke=\"#000000\"/>\n",
       "<polygon fill=\"#000000\" points=\"6389.8856,-2034.2762 6379.721,-2037.2647 6389.5307,-2041.2672 6389.8856,-2034.2762\" stroke=\"#000000\"/>\n",
       "</g>\n",
       "<!-- 140523210698992&#45;&gt;140523134991608 -->\n",
       "<g class=\"edge\" id=\"edge62\">\n",
       "<title>140523210698992-&gt;140523134991608</title>\n",
       "<path d=\"M7431.3437,-2075.6947C7428.2086,-2075.4546 7425.0925,-2075.2228 7422,-2075 7078.5682,-2050.2592 6691.5389,-2035.3897 6390.1326,-2026.7026\" fill=\"none\" stroke=\"#000000\"/>\n",
       "<polygon fill=\"#000000\" points=\"6389.992,-2023.1972 6379.8957,-2026.409 6389.7913,-2030.1943 6389.992,-2023.1972\" stroke=\"#000000\"/>\n",
       "</g>\n",
       "<!-- 140523141828000&#45;&gt;140523134991608 -->\n",
       "<g class=\"edge\" id=\"edge63\">\n",
       "<title>140523141828000-&gt;140523134991608</title>\n",
       "<path d=\"M4755.58,-2075.687C4758.4038,-2075.4522 4761.2115,-2075.223 4764,-2075 4956.3273,-2059.621 5167.762,-2047.1682 5353.914,-2037.7059\" fill=\"none\" stroke=\"#000000\"/>\n",
       "<polygon fill=\"#000000\" points=\"5354.3529,-2041.1883 5364.1629,-2037.1867 5353.9986,-2034.1972 5354.3529,-2041.1883\" stroke=\"#000000\"/>\n",
       "</g>\n",
       "<!-- 140523139668680&#45;&gt;140523134991608 -->\n",
       "<g class=\"edge\" id=\"edge64\">\n",
       "<title>140523139668680-&gt;140523134991608</title>\n",
       "<path d=\"M5198.5925,-2075.8275C5201.4123,-2075.5485 5204.2159,-2075.2726 5207,-2075 5333.7936,-2062.5872 5474.2923,-2049.8654 5593.356,-2039.3878\" fill=\"none\" stroke=\"#000000\"/>\n",
       "<polygon fill=\"#000000\" points=\"5593.6909,-2042.872 5603.346,-2038.5096 5593.0778,-2035.8989 5593.6909,-2042.872\" stroke=\"#000000\"/>\n",
       "</g>\n",
       "<!-- 140523138442800&#45;&gt;140523134991608 -->\n",
       "<g class=\"edge\" id=\"edge65\">\n",
       "<title>140523138442800-&gt;140523134991608</title>\n",
       "<path d=\"M5551.8119,-2075.4901C5610.0259,-2064.5832 5679.6716,-2051.5344 5739.1194,-2040.3964\" fill=\"none\" stroke=\"#000000\"/>\n",
       "<polygon fill=\"#000000\" points=\"5739.7648,-2043.8364 5748.9492,-2038.5547 5738.4757,-2036.9562 5739.7648,-2043.8364\" stroke=\"#000000\"/>\n",
       "</g>\n",
       "<!-- 140523136541584&#45;&gt;140523134991608 -->\n",
       "<g class=\"edge\" id=\"edge66\">\n",
       "<title>140523136541584-&gt;140523134991608</title>\n",
       "<path d=\"M5872,-2075.3799C5872,-2067.1745 5872,-2057.7679 5872,-2048.8786\" fill=\"none\" stroke=\"#000000\"/>\n",
       "<polygon fill=\"#000000\" points=\"5875.5001,-2048.784 5872,-2038.784 5868.5001,-2048.784 5875.5001,-2048.784\" stroke=\"#000000\"/>\n",
       "</g>\n",
       "<!-- 140523134988416&#45;&gt;140523134991608 -->\n",
       "<g class=\"edge\" id=\"edge67\">\n",
       "<title>140523134988416-&gt;140523134991608</title>\n",
       "<path d=\"M6192.1881,-2075.4901C6133.9741,-2064.5832 6064.3284,-2051.5344 6004.8806,-2040.3964\" fill=\"none\" stroke=\"#000000\"/>\n",
       "<polygon fill=\"#000000\" points=\"6005.5243,-2036.9562 5995.0508,-2038.5547 6004.2352,-2043.8364 6005.5243,-2036.9562\" stroke=\"#000000\"/>\n",
       "</g>\n",
       "<!-- 140523133427272 -->\n",
       "<g class=\"node\" id=\"node49\">\n",
       "<title>140523133427272</title>\n",
       "<polygon fill=\"none\" points=\"4990.5,-1909.5 4990.5,-1955.5 5431.5,-1955.5 5431.5,-1909.5 4990.5,-1909.5\" stroke=\"#000000\"/>\n",
       "<text fill=\"#000000\" font-family=\"Times,serif\" font-size=\"14.00\" text-anchor=\"middle\" x=\"5128.5\" y=\"-1928.8\">condense_attention1d_2: CondenseAttention1D</text>\n",
       "<polyline fill=\"none\" points=\"5266.5,-1909.5 5266.5,-1955.5 \" stroke=\"#000000\"/>\n",
       "<text fill=\"#000000\" font-family=\"Times,serif\" font-size=\"14.00\" text-anchor=\"middle\" x=\"5294\" y=\"-1940.3\">input:</text>\n",
       "<polyline fill=\"none\" points=\"5266.5,-1932.5 5321.5,-1932.5 \" stroke=\"#000000\"/>\n",
       "<text fill=\"#000000\" font-family=\"Times,serif\" font-size=\"14.00\" text-anchor=\"middle\" x=\"5294\" y=\"-1917.3\">output:</text>\n",
       "<polyline fill=\"none\" points=\"5321.5,-1909.5 5321.5,-1955.5 \" stroke=\"#000000\"/>\n",
       "<text fill=\"#000000\" font-family=\"Times,serif\" font-size=\"14.00\" text-anchor=\"middle\" x=\"5376.5\" y=\"-1940.3\">(None, 60, 2400)</text>\n",
       "<polyline fill=\"none\" points=\"5321.5,-1932.5 5431.5,-1932.5 \" stroke=\"#000000\"/>\n",
       "<text fill=\"#000000\" font-family=\"Times,serif\" font-size=\"14.00\" text-anchor=\"middle\" x=\"5376.5\" y=\"-1917.3\">(None, 60, 300)</text>\n",
       "</g>\n",
       "<!-- 140523134991608&#45;&gt;140523133427272 -->\n",
       "<g class=\"edge\" id=\"edge68\">\n",
       "<title>140523134991608-&gt;140523133427272</title>\n",
       "<path d=\"M5688.7524,-1992.4901C5600.277,-1981.3805 5494.1043,-1968.0487 5404.3413,-1956.7774\" fill=\"none\" stroke=\"#000000\"/>\n",
       "<polygon fill=\"#000000\" points=\"5404.6756,-1953.2919 5394.3174,-1955.5187 5403.8034,-1960.2374 5404.6756,-1953.2919\" stroke=\"#000000\"/>\n",
       "</g>\n",
       "<!-- 140523133427272&#45;&gt;140523132721416 -->\n",
       "<g class=\"edge\" id=\"edge70\">\n",
       "<title>140523133427272-&gt;140523132721416</title>\n",
       "<path d=\"M4993.3762,-1909.4901C4887.6645,-1898.3129 4760.6794,-1884.8865 4653.6692,-1873.572\" fill=\"none\" stroke=\"#000000\"/>\n",
       "<polygon fill=\"#000000\" points=\"4654.0193,-1870.0896 4643.7067,-1872.5187 4653.2832,-1877.0508 4654.0193,-1870.0896\" stroke=\"#000000\"/>\n",
       "</g>\n",
       "<!-- 140523132421456 -->\n",
       "<g class=\"node\" id=\"node51\">\n",
       "<title>140523132421456</title>\n",
       "<polygon fill=\"none\" points=\"4213.5,-1743.5 4213.5,-1789.5 4638.5,-1789.5 4638.5,-1743.5 4213.5,-1743.5\" stroke=\"#000000\"/>\n",
       "<text fill=\"#000000\" font-family=\"Times,serif\" font-size=\"14.00\" text-anchor=\"middle\" x=\"4346.5\" y=\"-1762.8\">batch_normalization_19: BatchNormalization</text>\n",
       "<polyline fill=\"none\" points=\"4479.5,-1743.5 4479.5,-1789.5 \" stroke=\"#000000\"/>\n",
       "<text fill=\"#000000\" font-family=\"Times,serif\" font-size=\"14.00\" text-anchor=\"middle\" x=\"4507\" y=\"-1774.3\">input:</text>\n",
       "<polyline fill=\"none\" points=\"4479.5,-1766.5 4534.5,-1766.5 \" stroke=\"#000000\"/>\n",
       "<text fill=\"#000000\" font-family=\"Times,serif\" font-size=\"14.00\" text-anchor=\"middle\" x=\"4507\" y=\"-1751.3\">output:</text>\n",
       "<polyline fill=\"none\" points=\"4534.5,-1743.5 4534.5,-1789.5 \" stroke=\"#000000\"/>\n",
       "<text fill=\"#000000\" font-family=\"Times,serif\" font-size=\"14.00\" text-anchor=\"middle\" x=\"4586.5\" y=\"-1774.3\">(None, 60, 300)</text>\n",
       "<polyline fill=\"none\" points=\"4534.5,-1766.5 4638.5,-1766.5 \" stroke=\"#000000\"/>\n",
       "<text fill=\"#000000\" font-family=\"Times,serif\" font-size=\"14.00\" text-anchor=\"middle\" x=\"4586.5\" y=\"-1751.3\">(None, 60, 300)</text>\n",
       "</g>\n",
       "<!-- 140523132721416&#45;&gt;140523132421456 -->\n",
       "<g class=\"edge\" id=\"edge71\">\n",
       "<title>140523132721416-&gt;140523132421456</title>\n",
       "<path d=\"M4426,-1826.3799C4426,-1818.1745 4426,-1808.7679 4426,-1799.8786\" fill=\"none\" stroke=\"#000000\"/>\n",
       "<polygon fill=\"#000000\" points=\"4429.5001,-1799.784 4426,-1789.784 4422.5001,-1799.784 4429.5001,-1799.784\" stroke=\"#000000\"/>\n",
       "</g>\n",
       "<!-- 140523132117624 -->\n",
       "<g class=\"node\" id=\"node52\">\n",
       "<title>140523132117624</title>\n",
       "<polygon fill=\"none\" points=\"5078.5,-1660.5 5078.5,-1706.5 5419.5,-1706.5 5419.5,-1660.5 5078.5,-1660.5\" stroke=\"#000000\"/>\n",
       "<text fill=\"#000000\" font-family=\"Times,serif\" font-size=\"14.00\" text-anchor=\"middle\" x=\"5139.5\" y=\"-1679.8\">sa30: SelfAttention</text>\n",
       "<polyline fill=\"none\" points=\"5200.5,-1660.5 5200.5,-1706.5 \" stroke=\"#000000\"/>\n",
       "<text fill=\"#000000\" font-family=\"Times,serif\" font-size=\"14.00\" text-anchor=\"middle\" x=\"5228\" y=\"-1691.3\">input:</text>\n",
       "<polyline fill=\"none\" points=\"5200.5,-1683.5 5255.5,-1683.5 \" stroke=\"#000000\"/>\n",
       "<text fill=\"#000000\" font-family=\"Times,serif\" font-size=\"14.00\" text-anchor=\"middle\" x=\"5228\" y=\"-1668.3\">output:</text>\n",
       "<polyline fill=\"none\" points=\"5255.5,-1660.5 5255.5,-1706.5 \" stroke=\"#000000\"/>\n",
       "<text fill=\"#000000\" font-family=\"Times,serif\" font-size=\"14.00\" text-anchor=\"middle\" x=\"5337.5\" y=\"-1691.3\">(None, 60, 300)</text>\n",
       "<polyline fill=\"none\" points=\"5255.5,-1683.5 5419.5,-1683.5 \" stroke=\"#000000\"/>\n",
       "<text fill=\"#000000\" font-family=\"Times,serif\" font-size=\"14.00\" text-anchor=\"middle\" x=\"5337.5\" y=\"-1668.3\">[(None, 60, 300), (60, 60)]</text>\n",
       "</g>\n",
       "<!-- 140523132421456&#45;&gt;140523132117624 -->\n",
       "<g class=\"edge\" id=\"edge72\">\n",
       "<title>140523132421456-&gt;140523132117624</title>\n",
       "<path d=\"M4638.7455,-1745.0445C4771.8315,-1731.6227 4941.4209,-1714.5195 5068.0279,-1701.7511\" fill=\"none\" stroke=\"#000000\"/>\n",
       "<polygon fill=\"#000000\" points=\"5068.6194,-1705.2093 5078.2177,-1700.7235 5067.917,-1698.2447 5068.6194,-1705.2093\" stroke=\"#000000\"/>\n",
       "</g>\n",
       "<!-- 140523130138976 -->\n",
       "<g class=\"node\" id=\"node53\">\n",
       "<title>140523130138976</title>\n",
       "<polygon fill=\"none\" points=\"5510.5,-1660.5 5510.5,-1706.5 5851.5,-1706.5 5851.5,-1660.5 5510.5,-1660.5\" stroke=\"#000000\"/>\n",
       "<text fill=\"#000000\" font-family=\"Times,serif\" font-size=\"14.00\" text-anchor=\"middle\" x=\"5571.5\" y=\"-1679.8\">sa31: SelfAttention</text>\n",
       "<polyline fill=\"none\" points=\"5632.5,-1660.5 5632.5,-1706.5 \" stroke=\"#000000\"/>\n",
       "<text fill=\"#000000\" font-family=\"Times,serif\" font-size=\"14.00\" text-anchor=\"middle\" x=\"5660\" y=\"-1691.3\">input:</text>\n",
       "<polyline fill=\"none\" points=\"5632.5,-1683.5 5687.5,-1683.5 \" stroke=\"#000000\"/>\n",
       "<text fill=\"#000000\" font-family=\"Times,serif\" font-size=\"14.00\" text-anchor=\"middle\" x=\"5660\" y=\"-1668.3\">output:</text>\n",
       "<polyline fill=\"none\" points=\"5687.5,-1660.5 5687.5,-1706.5 \" stroke=\"#000000\"/>\n",
       "<text fill=\"#000000\" font-family=\"Times,serif\" font-size=\"14.00\" text-anchor=\"middle\" x=\"5769.5\" y=\"-1691.3\">(None, 60, 300)</text>\n",
       "<polyline fill=\"none\" points=\"5687.5,-1683.5 5851.5,-1683.5 \" stroke=\"#000000\"/>\n",
       "<text fill=\"#000000\" font-family=\"Times,serif\" font-size=\"14.00\" text-anchor=\"middle\" x=\"5769.5\" y=\"-1668.3\">[(None, 60, 300), (60, 60)]</text>\n",
       "</g>\n",
       "<!-- 140523132421456&#45;&gt;140523130138976 -->\n",
       "<g class=\"edge\" id=\"edge73\">\n",
       "<title>140523132421456-&gt;140523130138976</title>\n",
       "<path d=\"M4638.7113,-1755.9273C4841.6398,-1745.3539 5155.845,-1727.7143 5428,-1707 5451.3888,-1705.2198 5475.9767,-1703.1653 5500.2565,-1701.0272\" fill=\"none\" stroke=\"#000000\"/>\n",
       "<polygon fill=\"#000000\" points=\"5500.6189,-1704.5089 5510.2707,-1700.1392 5500.0006,-1697.5363 5500.6189,-1704.5089\" stroke=\"#000000\"/>\n",
       "</g>\n",
       "<!-- 140523128584232 -->\n",
       "<g class=\"node\" id=\"node54\">\n",
       "<title>140523128584232</title>\n",
       "<polygon fill=\"none\" points=\"5948.5,-1660.5 5948.5,-1706.5 6289.5,-1706.5 6289.5,-1660.5 5948.5,-1660.5\" stroke=\"#000000\"/>\n",
       "<text fill=\"#000000\" font-family=\"Times,serif\" font-size=\"14.00\" text-anchor=\"middle\" x=\"6009.5\" y=\"-1679.8\">sa32: SelfAttention</text>\n",
       "<polyline fill=\"none\" points=\"6070.5,-1660.5 6070.5,-1706.5 \" stroke=\"#000000\"/>\n",
       "<text fill=\"#000000\" font-family=\"Times,serif\" font-size=\"14.00\" text-anchor=\"middle\" x=\"6098\" y=\"-1691.3\">input:</text>\n",
       "<polyline fill=\"none\" points=\"6070.5,-1683.5 6125.5,-1683.5 \" stroke=\"#000000\"/>\n",
       "<text fill=\"#000000\" font-family=\"Times,serif\" font-size=\"14.00\" text-anchor=\"middle\" x=\"6098\" y=\"-1668.3\">output:</text>\n",
       "<polyline fill=\"none\" points=\"6125.5,-1660.5 6125.5,-1706.5 \" stroke=\"#000000\"/>\n",
       "<text fill=\"#000000\" font-family=\"Times,serif\" font-size=\"14.00\" text-anchor=\"middle\" x=\"6207.5\" y=\"-1691.3\">(None, 60, 300)</text>\n",
       "<polyline fill=\"none\" points=\"6125.5,-1683.5 6289.5,-1683.5 \" stroke=\"#000000\"/>\n",
       "<text fill=\"#000000\" font-family=\"Times,serif\" font-size=\"14.00\" text-anchor=\"middle\" x=\"6207.5\" y=\"-1668.3\">[(None, 60, 300), (60, 60)]</text>\n",
       "</g>\n",
       "<!-- 140523132421456&#45;&gt;140523128584232 -->\n",
       "<g class=\"edge\" id=\"edge74\">\n",
       "<title>140523132421456-&gt;140523128584232</title>\n",
       "<path d=\"M4638.7645,-1760.9298C4918.9254,-1752.8488 5426.7615,-1735.6254 5860,-1707 5885.3671,-1705.3239 5912.105,-1703.2483 5938.3835,-1701.0299\" fill=\"none\" stroke=\"#000000\"/>\n",
       "<polygon fill=\"#000000\" points=\"5938.7623,-1704.5104 5948.4287,-1700.1733 5938.1674,-1697.5357 5938.7623,-1704.5104\" stroke=\"#000000\"/>\n",
       "</g>\n",
       "<!-- 140523127120448 -->\n",
       "<g class=\"node\" id=\"node55\">\n",
       "<title>140523127120448</title>\n",
       "<polygon fill=\"none\" points=\"2968.5,-1660.5 2968.5,-1706.5 3309.5,-1706.5 3309.5,-1660.5 2968.5,-1660.5\" stroke=\"#000000\"/>\n",
       "<text fill=\"#000000\" font-family=\"Times,serif\" font-size=\"14.00\" text-anchor=\"middle\" x=\"3029.5\" y=\"-1679.8\">sa33: SelfAttention</text>\n",
       "<polyline fill=\"none\" points=\"3090.5,-1660.5 3090.5,-1706.5 \" stroke=\"#000000\"/>\n",
       "<text fill=\"#000000\" font-family=\"Times,serif\" font-size=\"14.00\" text-anchor=\"middle\" x=\"3118\" y=\"-1691.3\">input:</text>\n",
       "<polyline fill=\"none\" points=\"3090.5,-1683.5 3145.5,-1683.5 \" stroke=\"#000000\"/>\n",
       "<text fill=\"#000000\" font-family=\"Times,serif\" font-size=\"14.00\" text-anchor=\"middle\" x=\"3118\" y=\"-1668.3\">output:</text>\n",
       "<polyline fill=\"none\" points=\"3145.5,-1660.5 3145.5,-1706.5 \" stroke=\"#000000\"/>\n",
       "<text fill=\"#000000\" font-family=\"Times,serif\" font-size=\"14.00\" text-anchor=\"middle\" x=\"3227.5\" y=\"-1691.3\">(None, 60, 300)</text>\n",
       "<polyline fill=\"none\" points=\"3145.5,-1683.5 3309.5,-1683.5 \" stroke=\"#000000\"/>\n",
       "<text fill=\"#000000\" font-family=\"Times,serif\" font-size=\"14.00\" text-anchor=\"middle\" x=\"3227.5\" y=\"-1668.3\">[(None, 60, 300), (60, 60)]</text>\n",
       "</g>\n",
       "<!-- 140523132421456&#45;&gt;140523127120448 -->\n",
       "<g class=\"edge\" id=\"edge75\">\n",
       "<title>140523132421456-&gt;140523127120448</title>\n",
       "<path d=\"M4213.0824,-1756.0603C4005.8718,-1745.4442 3682.1574,-1727.6509 3402,-1707 3375.432,-1705.0416 3347.3734,-1702.7614 3319.8701,-1700.4063\" fill=\"none\" stroke=\"#000000\"/>\n",
       "<polygon fill=\"#000000\" points=\"3320.0297,-1696.9072 3309.7662,-1699.5358 3319.4288,-1703.8814 3320.0297,-1696.9072\" stroke=\"#000000\"/>\n",
       "</g>\n",
       "<!-- 140523125570808 -->\n",
       "<g class=\"node\" id=\"node56\">\n",
       "<title>140523125570808</title>\n",
       "<polygon fill=\"none\" points=\"3411.5,-1660.5 3411.5,-1706.5 3752.5,-1706.5 3752.5,-1660.5 3411.5,-1660.5\" stroke=\"#000000\"/>\n",
       "<text fill=\"#000000\" font-family=\"Times,serif\" font-size=\"14.00\" text-anchor=\"middle\" x=\"3472.5\" y=\"-1679.8\">sa34: SelfAttention</text>\n",
       "<polyline fill=\"none\" points=\"3533.5,-1660.5 3533.5,-1706.5 \" stroke=\"#000000\"/>\n",
       "<text fill=\"#000000\" font-family=\"Times,serif\" font-size=\"14.00\" text-anchor=\"middle\" x=\"3561\" y=\"-1691.3\">input:</text>\n",
       "<polyline fill=\"none\" points=\"3533.5,-1683.5 3588.5,-1683.5 \" stroke=\"#000000\"/>\n",
       "<text fill=\"#000000\" font-family=\"Times,serif\" font-size=\"14.00\" text-anchor=\"middle\" x=\"3561\" y=\"-1668.3\">output:</text>\n",
       "<polyline fill=\"none\" points=\"3588.5,-1660.5 3588.5,-1706.5 \" stroke=\"#000000\"/>\n",
       "<text fill=\"#000000\" font-family=\"Times,serif\" font-size=\"14.00\" text-anchor=\"middle\" x=\"3670.5\" y=\"-1691.3\">(None, 60, 300)</text>\n",
       "<polyline fill=\"none\" points=\"3588.5,-1683.5 3752.5,-1683.5 \" stroke=\"#000000\"/>\n",
       "<text fill=\"#000000\" font-family=\"Times,serif\" font-size=\"14.00\" text-anchor=\"middle\" x=\"3670.5\" y=\"-1668.3\">[(None, 60, 300), (60, 60)]</text>\n",
       "</g>\n",
       "<!-- 140523132421456&#45;&gt;140523125570808 -->\n",
       "<g class=\"edge\" id=\"edge76\">\n",
       "<title>140523132421456-&gt;140523125570808</title>\n",
       "<path d=\"M4213.2957,-1745.5824C4074.3246,-1731.9158 3894.8044,-1714.2616 3762.747,-1701.2749\" fill=\"none\" stroke=\"#000000\"/>\n",
       "<polygon fill=\"#000000\" points=\"3762.8187,-1697.7651 3752.5241,-1700.2696 3762.1336,-1704.7315 3762.8187,-1697.7651\" stroke=\"#000000\"/>\n",
       "</g>\n",
       "<!-- 140523123591712 -->\n",
       "<g class=\"node\" id=\"node57\">\n",
       "<title>140523123591712</title>\n",
       "<polygon fill=\"none\" points=\"3854.5,-1660.5 3854.5,-1706.5 4195.5,-1706.5 4195.5,-1660.5 3854.5,-1660.5\" stroke=\"#000000\"/>\n",
       "<text fill=\"#000000\" font-family=\"Times,serif\" font-size=\"14.00\" text-anchor=\"middle\" x=\"3915.5\" y=\"-1679.8\">sa35: SelfAttention</text>\n",
       "<polyline fill=\"none\" points=\"3976.5,-1660.5 3976.5,-1706.5 \" stroke=\"#000000\"/>\n",
       "<text fill=\"#000000\" font-family=\"Times,serif\" font-size=\"14.00\" text-anchor=\"middle\" x=\"4004\" y=\"-1691.3\">input:</text>\n",
       "<polyline fill=\"none\" points=\"3976.5,-1683.5 4031.5,-1683.5 \" stroke=\"#000000\"/>\n",
       "<text fill=\"#000000\" font-family=\"Times,serif\" font-size=\"14.00\" text-anchor=\"middle\" x=\"4004\" y=\"-1668.3\">output:</text>\n",
       "<polyline fill=\"none\" points=\"4031.5,-1660.5 4031.5,-1706.5 \" stroke=\"#000000\"/>\n",
       "<text fill=\"#000000\" font-family=\"Times,serif\" font-size=\"14.00\" text-anchor=\"middle\" x=\"4113.5\" y=\"-1691.3\">(None, 60, 300)</text>\n",
       "<polyline fill=\"none\" points=\"4031.5,-1683.5 4195.5,-1683.5 \" stroke=\"#000000\"/>\n",
       "<text fill=\"#000000\" font-family=\"Times,serif\" font-size=\"14.00\" text-anchor=\"middle\" x=\"4113.5\" y=\"-1668.3\">[(None, 60, 300), (60, 60)]</text>\n",
       "</g>\n",
       "<!-- 140523132421456&#45;&gt;140523123591712 -->\n",
       "<g class=\"edge\" id=\"edge77\">\n",
       "<title>140523132421456-&gt;140523123591712</title>\n",
       "<path d=\"M4314.8317,-1743.4901C4262.4628,-1732.6506 4199.8736,-1719.6958 4146.2821,-1708.6033\" fill=\"none\" stroke=\"#000000\"/>\n",
       "<polygon fill=\"#000000\" points=\"4146.8865,-1705.1543 4136.3846,-1706.5547 4145.4676,-1712.009 4146.8865,-1705.1543\" stroke=\"#000000\"/>\n",
       "</g>\n",
       "<!-- 140523122187344 -->\n",
       "<g class=\"node\" id=\"node58\">\n",
       "<title>140523122187344</title>\n",
       "<polygon fill=\"none\" points=\"4255.5,-1660.5 4255.5,-1706.5 4596.5,-1706.5 4596.5,-1660.5 4255.5,-1660.5\" stroke=\"#000000\"/>\n",
       "<text fill=\"#000000\" font-family=\"Times,serif\" font-size=\"14.00\" text-anchor=\"middle\" x=\"4316.5\" y=\"-1679.8\">sa36: SelfAttention</text>\n",
       "<polyline fill=\"none\" points=\"4377.5,-1660.5 4377.5,-1706.5 \" stroke=\"#000000\"/>\n",
       "<text fill=\"#000000\" font-family=\"Times,serif\" font-size=\"14.00\" text-anchor=\"middle\" x=\"4405\" y=\"-1691.3\">input:</text>\n",
       "<polyline fill=\"none\" points=\"4377.5,-1683.5 4432.5,-1683.5 \" stroke=\"#000000\"/>\n",
       "<text fill=\"#000000\" font-family=\"Times,serif\" font-size=\"14.00\" text-anchor=\"middle\" x=\"4405\" y=\"-1668.3\">output:</text>\n",
       "<polyline fill=\"none\" points=\"4432.5,-1660.5 4432.5,-1706.5 \" stroke=\"#000000\"/>\n",
       "<text fill=\"#000000\" font-family=\"Times,serif\" font-size=\"14.00\" text-anchor=\"middle\" x=\"4514.5\" y=\"-1691.3\">(None, 60, 300)</text>\n",
       "<polyline fill=\"none\" points=\"4432.5,-1683.5 4596.5,-1683.5 \" stroke=\"#000000\"/>\n",
       "<text fill=\"#000000\" font-family=\"Times,serif\" font-size=\"14.00\" text-anchor=\"middle\" x=\"4514.5\" y=\"-1668.3\">[(None, 60, 300), (60, 60)]</text>\n",
       "</g>\n",
       "<!-- 140523132421456&#45;&gt;140523122187344 -->\n",
       "<g class=\"edge\" id=\"edge78\">\n",
       "<title>140523132421456-&gt;140523122187344</title>\n",
       "<path d=\"M4426,-1743.3799C4426,-1735.1745 4426,-1725.7679 4426,-1716.8786\" fill=\"none\" stroke=\"#000000\"/>\n",
       "<polygon fill=\"#000000\" points=\"4429.5001,-1716.784 4426,-1706.784 4422.5001,-1716.784 4429.5001,-1716.784\" stroke=\"#000000\"/>\n",
       "</g>\n",
       "<!-- 140523120208584 -->\n",
       "<g class=\"node\" id=\"node59\">\n",
       "<title>140523120208584</title>\n",
       "<polygon fill=\"none\" points=\"4656.5,-1660.5 4656.5,-1706.5 4997.5,-1706.5 4997.5,-1660.5 4656.5,-1660.5\" stroke=\"#000000\"/>\n",
       "<text fill=\"#000000\" font-family=\"Times,serif\" font-size=\"14.00\" text-anchor=\"middle\" x=\"4717.5\" y=\"-1679.8\">sa37: SelfAttention</text>\n",
       "<polyline fill=\"none\" points=\"4778.5,-1660.5 4778.5,-1706.5 \" stroke=\"#000000\"/>\n",
       "<text fill=\"#000000\" font-family=\"Times,serif\" font-size=\"14.00\" text-anchor=\"middle\" x=\"4806\" y=\"-1691.3\">input:</text>\n",
       "<polyline fill=\"none\" points=\"4778.5,-1683.5 4833.5,-1683.5 \" stroke=\"#000000\"/>\n",
       "<text fill=\"#000000\" font-family=\"Times,serif\" font-size=\"14.00\" text-anchor=\"middle\" x=\"4806\" y=\"-1668.3\">output:</text>\n",
       "<polyline fill=\"none\" points=\"4833.5,-1660.5 4833.5,-1706.5 \" stroke=\"#000000\"/>\n",
       "<text fill=\"#000000\" font-family=\"Times,serif\" font-size=\"14.00\" text-anchor=\"middle\" x=\"4915.5\" y=\"-1691.3\">(None, 60, 300)</text>\n",
       "<polyline fill=\"none\" points=\"4833.5,-1683.5 4997.5,-1683.5 \" stroke=\"#000000\"/>\n",
       "<text fill=\"#000000\" font-family=\"Times,serif\" font-size=\"14.00\" text-anchor=\"middle\" x=\"4915.5\" y=\"-1668.3\">[(None, 60, 300), (60, 60)]</text>\n",
       "</g>\n",
       "<!-- 140523132421456&#45;&gt;140523120208584 -->\n",
       "<g class=\"edge\" id=\"edge79\">\n",
       "<title>140523132421456-&gt;140523120208584</title>\n",
       "<path d=\"M4537.1683,-1743.4901C4589.5372,-1732.6506 4652.1264,-1719.6958 4705.7179,-1708.6033\" fill=\"none\" stroke=\"#000000\"/>\n",
       "<polygon fill=\"#000000\" points=\"4706.5324,-1712.009 4715.6154,-1706.5547 4705.1135,-1705.1543 4706.5324,-1712.009\" stroke=\"#000000\"/>\n",
       "</g>\n",
       "<!-- 140523118636784 -->\n",
       "<g class=\"node\" id=\"node70\">\n",
       "<title>140523118636784</title>\n",
       "<polygon fill=\"none\" points=\"2710,-1328.5 2710,-1374.5 3250,-1374.5 3250,-1328.5 2710,-1328.5\" stroke=\"#000000\"/>\n",
       "<text fill=\"#000000\" font-family=\"Times,serif\" font-size=\"14.00\" text-anchor=\"middle\" x=\"2849\" y=\"-1347.8\">residual_combine_selfattn_3: ResidualCombine</text>\n",
       "<polyline fill=\"none\" points=\"2988,-1328.5 2988,-1374.5 \" stroke=\"#000000\"/>\n",
       "<text fill=\"#000000\" font-family=\"Times,serif\" font-size=\"14.00\" text-anchor=\"middle\" x=\"3015.5\" y=\"-1359.3\">input:</text>\n",
       "<polyline fill=\"none\" points=\"2988,-1351.5 3043,-1351.5 \" stroke=\"#000000\"/>\n",
       "<text fill=\"#000000\" font-family=\"Times,serif\" font-size=\"14.00\" text-anchor=\"middle\" x=\"3015.5\" y=\"-1336.3\">output:</text>\n",
       "<polyline fill=\"none\" points=\"3043,-1328.5 3043,-1374.5 \" stroke=\"#000000\"/>\n",
       "<text fill=\"#000000\" font-family=\"Times,serif\" font-size=\"14.00\" text-anchor=\"middle\" x=\"3146.5\" y=\"-1359.3\">[(None, 60, 300), (None, 60, 300)]</text>\n",
       "<polyline fill=\"none\" points=\"3043,-1351.5 3250,-1351.5 \" stroke=\"#000000\"/>\n",
       "<text fill=\"#000000\" font-family=\"Times,serif\" font-size=\"14.00\" text-anchor=\"middle\" x=\"3146.5\" y=\"-1336.3\">[(None, 60, 300), (1,), (1,)]</text>\n",
       "</g>\n",
       "<!-- 140523132421456&#45;&gt;140523118636784 -->\n",
       "<g class=\"edge\" id=\"edge97\">\n",
       "<title>140523132421456-&gt;140523118636784</title>\n",
       "<path d=\"M4213.441,-1761.9165C3820.564,-1752.8821 3015.398,-1731.5105 2959,-1707 2898.6081,-1680.7537 2856,-1666.3487 2856,-1600.5 2856,-1600.5 2856,-1600.5 2856,-1517.5 2856,-1460.8141 2902.9846,-1411.0161 2939.1105,-1381.1049\" fill=\"none\" stroke=\"#000000\"/>\n",
       "<polygon fill=\"#000000\" points=\"2941.5088,-1383.6672 2947.0958,-1374.6652 2937.1145,-1378.2183 2941.5088,-1383.6672\" stroke=\"#000000\"/>\n",
       "</g>\n",
       "<!-- 140523132117680 -->\n",
       "<g class=\"node\" id=\"node60\">\n",
       "<title>140523132117680</title>\n",
       "<polygon fill=\"none\" points=\"5099.5,-1577.5 5099.5,-1623.5 5524.5,-1623.5 5524.5,-1577.5 5099.5,-1577.5\" stroke=\"#000000\"/>\n",
       "<text fill=\"#000000\" font-family=\"Times,serif\" font-size=\"14.00\" text-anchor=\"middle\" x=\"5232.5\" y=\"-1596.8\">batch_normalization_20: BatchNormalization</text>\n",
       "<polyline fill=\"none\" points=\"5365.5,-1577.5 5365.5,-1623.5 \" stroke=\"#000000\"/>\n",
       "<text fill=\"#000000\" font-family=\"Times,serif\" font-size=\"14.00\" text-anchor=\"middle\" x=\"5393\" y=\"-1608.3\">input:</text>\n",
       "<polyline fill=\"none\" points=\"5365.5,-1600.5 5420.5,-1600.5 \" stroke=\"#000000\"/>\n",
       "<text fill=\"#000000\" font-family=\"Times,serif\" font-size=\"14.00\" text-anchor=\"middle\" x=\"5393\" y=\"-1585.3\">output:</text>\n",
       "<polyline fill=\"none\" points=\"5420.5,-1577.5 5420.5,-1623.5 \" stroke=\"#000000\"/>\n",
       "<text fill=\"#000000\" font-family=\"Times,serif\" font-size=\"14.00\" text-anchor=\"middle\" x=\"5472.5\" y=\"-1608.3\">(None, 60, 300)</text>\n",
       "<polyline fill=\"none\" points=\"5420.5,-1600.5 5524.5,-1600.5 \" stroke=\"#000000\"/>\n",
       "<text fill=\"#000000\" font-family=\"Times,serif\" font-size=\"14.00\" text-anchor=\"middle\" x=\"5472.5\" y=\"-1585.3\">(None, 60, 300)</text>\n",
       "</g>\n",
       "<!-- 140523132117624&#45;&gt;140523132117680 -->\n",
       "<g class=\"edge\" id=\"edge80\">\n",
       "<title>140523132117624-&gt;140523132117680</title>\n",
       "<path d=\"M5266.549,-1660.3799C5273.251,-1651.5502 5281.0089,-1641.3295 5288.1972,-1631.8593\" fill=\"none\" stroke=\"#000000\"/>\n",
       "<polygon fill=\"#000000\" points=\"5291.0685,-1633.8654 5294.3266,-1623.784 5285.4927,-1629.6332 5291.0685,-1633.8654\" stroke=\"#000000\"/>\n",
       "</g>\n",
       "<!-- 140523129858760 -->\n",
       "<g class=\"node\" id=\"node61\">\n",
       "<title>140523129858760</title>\n",
       "<polygon fill=\"none\" points=\"5542.5,-1577.5 5542.5,-1623.5 5967.5,-1623.5 5967.5,-1577.5 5542.5,-1577.5\" stroke=\"#000000\"/>\n",
       "<text fill=\"#000000\" font-family=\"Times,serif\" font-size=\"14.00\" text-anchor=\"middle\" x=\"5675.5\" y=\"-1596.8\">batch_normalization_21: BatchNormalization</text>\n",
       "<polyline fill=\"none\" points=\"5808.5,-1577.5 5808.5,-1623.5 \" stroke=\"#000000\"/>\n",
       "<text fill=\"#000000\" font-family=\"Times,serif\" font-size=\"14.00\" text-anchor=\"middle\" x=\"5836\" y=\"-1608.3\">input:</text>\n",
       "<polyline fill=\"none\" points=\"5808.5,-1600.5 5863.5,-1600.5 \" stroke=\"#000000\"/>\n",
       "<text fill=\"#000000\" font-family=\"Times,serif\" font-size=\"14.00\" text-anchor=\"middle\" x=\"5836\" y=\"-1585.3\">output:</text>\n",
       "<polyline fill=\"none\" points=\"5863.5,-1577.5 5863.5,-1623.5 \" stroke=\"#000000\"/>\n",
       "<text fill=\"#000000\" font-family=\"Times,serif\" font-size=\"14.00\" text-anchor=\"middle\" x=\"5915.5\" y=\"-1608.3\">(None, 60, 300)</text>\n",
       "<polyline fill=\"none\" points=\"5863.5,-1600.5 5967.5,-1600.5 \" stroke=\"#000000\"/>\n",
       "<text fill=\"#000000\" font-family=\"Times,serif\" font-size=\"14.00\" text-anchor=\"middle\" x=\"5915.5\" y=\"-1585.3\">(None, 60, 300)</text>\n",
       "</g>\n",
       "<!-- 140523130138976&#45;&gt;140523129858760 -->\n",
       "<g class=\"edge\" id=\"edge81\">\n",
       "<title>140523130138976-&gt;140523129858760</title>\n",
       "<path d=\"M5701.6131,-1660.3799C5709.6444,-1651.3718 5718.9665,-1640.916 5727.552,-1631.2863\" fill=\"none\" stroke=\"#000000\"/>\n",
       "<polygon fill=\"#000000\" points=\"5730.1984,-1633.5774 5734.2408,-1623.784 5724.9735,-1628.919 5730.1984,-1633.5774\" stroke=\"#000000\"/>\n",
       "</g>\n",
       "<!-- 140523128582664 -->\n",
       "<g class=\"node\" id=\"node62\">\n",
       "<title>140523128582664</title>\n",
       "<polygon fill=\"none\" points=\"5985.5,-1577.5 5985.5,-1623.5 6410.5,-1623.5 6410.5,-1577.5 5985.5,-1577.5\" stroke=\"#000000\"/>\n",
       "<text fill=\"#000000\" font-family=\"Times,serif\" font-size=\"14.00\" text-anchor=\"middle\" x=\"6118.5\" y=\"-1596.8\">batch_normalization_22: BatchNormalization</text>\n",
       "<polyline fill=\"none\" points=\"6251.5,-1577.5 6251.5,-1623.5 \" stroke=\"#000000\"/>\n",
       "<text fill=\"#000000\" font-family=\"Times,serif\" font-size=\"14.00\" text-anchor=\"middle\" x=\"6279\" y=\"-1608.3\">input:</text>\n",
       "<polyline fill=\"none\" points=\"6251.5,-1600.5 6306.5,-1600.5 \" stroke=\"#000000\"/>\n",
       "<text fill=\"#000000\" font-family=\"Times,serif\" font-size=\"14.00\" text-anchor=\"middle\" x=\"6279\" y=\"-1585.3\">output:</text>\n",
       "<polyline fill=\"none\" points=\"6306.5,-1577.5 6306.5,-1623.5 \" stroke=\"#000000\"/>\n",
       "<text fill=\"#000000\" font-family=\"Times,serif\" font-size=\"14.00\" text-anchor=\"middle\" x=\"6358.5\" y=\"-1608.3\">(None, 60, 300)</text>\n",
       "<polyline fill=\"none\" points=\"6306.5,-1600.5 6410.5,-1600.5 \" stroke=\"#000000\"/>\n",
       "<text fill=\"#000000\" font-family=\"Times,serif\" font-size=\"14.00\" text-anchor=\"middle\" x=\"6358.5\" y=\"-1585.3\">(None, 60, 300)</text>\n",
       "</g>\n",
       "<!-- 140523128584232&#45;&gt;140523128582664 -->\n",
       "<g class=\"edge\" id=\"edge82\">\n",
       "<title>140523128584232-&gt;140523128582664</title>\n",
       "<path d=\"M6141.0059,-1660.3799C6149.5798,-1651.3718 6159.5318,-1640.916 6168.6974,-1631.2863\" fill=\"none\" stroke=\"#000000\"/>\n",
       "<polygon fill=\"#000000\" points=\"6171.4789,-1633.4405 6175.8381,-1623.784 6166.4085,-1628.6144 6171.4789,-1633.4405\" stroke=\"#000000\"/>\n",
       "</g>\n",
       "<!-- 140523127120168 -->\n",
       "<g class=\"node\" id=\"node63\">\n",
       "<title>140523127120168</title>\n",
       "<polygon fill=\"none\" points=\"2884.5,-1577.5 2884.5,-1623.5 3309.5,-1623.5 3309.5,-1577.5 2884.5,-1577.5\" stroke=\"#000000\"/>\n",
       "<text fill=\"#000000\" font-family=\"Times,serif\" font-size=\"14.00\" text-anchor=\"middle\" x=\"3017.5\" y=\"-1596.8\">batch_normalization_23: BatchNormalization</text>\n",
       "<polyline fill=\"none\" points=\"3150.5,-1577.5 3150.5,-1623.5 \" stroke=\"#000000\"/>\n",
       "<text fill=\"#000000\" font-family=\"Times,serif\" font-size=\"14.00\" text-anchor=\"middle\" x=\"3178\" y=\"-1608.3\">input:</text>\n",
       "<polyline fill=\"none\" points=\"3150.5,-1600.5 3205.5,-1600.5 \" stroke=\"#000000\"/>\n",
       "<text fill=\"#000000\" font-family=\"Times,serif\" font-size=\"14.00\" text-anchor=\"middle\" x=\"3178\" y=\"-1585.3\">output:</text>\n",
       "<polyline fill=\"none\" points=\"3205.5,-1577.5 3205.5,-1623.5 \" stroke=\"#000000\"/>\n",
       "<text fill=\"#000000\" font-family=\"Times,serif\" font-size=\"14.00\" text-anchor=\"middle\" x=\"3257.5\" y=\"-1608.3\">(None, 60, 300)</text>\n",
       "<polyline fill=\"none\" points=\"3205.5,-1600.5 3309.5,-1600.5 \" stroke=\"#000000\"/>\n",
       "<text fill=\"#000000\" font-family=\"Times,serif\" font-size=\"14.00\" text-anchor=\"middle\" x=\"3257.5\" y=\"-1585.3\">(None, 60, 300)</text>\n",
       "</g>\n",
       "<!-- 140523127120448&#45;&gt;140523127120168 -->\n",
       "<g class=\"edge\" id=\"edge83\">\n",
       "<title>140523127120448-&gt;140523127120168</title>\n",
       "<path d=\"M3127.3007,-1660.3799C3122.968,-1651.8178 3117.9735,-1641.9477 3113.3052,-1632.7222\" fill=\"none\" stroke=\"#000000\"/>\n",
       "<polygon fill=\"#000000\" points=\"3116.4203,-1631.1264 3108.7823,-1623.784 3110.1745,-1634.287 3116.4203,-1631.1264\" stroke=\"#000000\"/>\n",
       "</g>\n",
       "<!-- 140523125571256 -->\n",
       "<g class=\"node\" id=\"node64\">\n",
       "<title>140523125571256</title>\n",
       "<polygon fill=\"none\" points=\"3327.5,-1577.5 3327.5,-1623.5 3752.5,-1623.5 3752.5,-1577.5 3327.5,-1577.5\" stroke=\"#000000\"/>\n",
       "<text fill=\"#000000\" font-family=\"Times,serif\" font-size=\"14.00\" text-anchor=\"middle\" x=\"3460.5\" y=\"-1596.8\">batch_normalization_24: BatchNormalization</text>\n",
       "<polyline fill=\"none\" points=\"3593.5,-1577.5 3593.5,-1623.5 \" stroke=\"#000000\"/>\n",
       "<text fill=\"#000000\" font-family=\"Times,serif\" font-size=\"14.00\" text-anchor=\"middle\" x=\"3621\" y=\"-1608.3\">input:</text>\n",
       "<polyline fill=\"none\" points=\"3593.5,-1600.5 3648.5,-1600.5 \" stroke=\"#000000\"/>\n",
       "<text fill=\"#000000\" font-family=\"Times,serif\" font-size=\"14.00\" text-anchor=\"middle\" x=\"3621\" y=\"-1585.3\">output:</text>\n",
       "<polyline fill=\"none\" points=\"3648.5,-1577.5 3648.5,-1623.5 \" stroke=\"#000000\"/>\n",
       "<text fill=\"#000000\" font-family=\"Times,serif\" font-size=\"14.00\" text-anchor=\"middle\" x=\"3700.5\" y=\"-1608.3\">(None, 60, 300)</text>\n",
       "<polyline fill=\"none\" points=\"3648.5,-1600.5 3752.5,-1600.5 \" stroke=\"#000000\"/>\n",
       "<text fill=\"#000000\" font-family=\"Times,serif\" font-size=\"14.00\" text-anchor=\"middle\" x=\"3700.5\" y=\"-1585.3\">(None, 60, 300)</text>\n",
       "</g>\n",
       "<!-- 140523125570808&#45;&gt;140523125571256 -->\n",
       "<g class=\"edge\" id=\"edge84\">\n",
       "<title>140523125570808-&gt;140523125571256</title>\n",
       "<path d=\"M3570.3007,-1660.3799C3565.968,-1651.8178 3560.9735,-1641.9477 3556.3052,-1632.7222\" fill=\"none\" stroke=\"#000000\"/>\n",
       "<polygon fill=\"#000000\" points=\"3559.4203,-1631.1264 3551.7823,-1623.784 3553.1745,-1634.287 3559.4203,-1631.1264\" stroke=\"#000000\"/>\n",
       "</g>\n",
       "<!-- 140523123591880 -->\n",
       "<g class=\"node\" id=\"node65\">\n",
       "<title>140523123591880</title>\n",
       "<polygon fill=\"none\" points=\"3770.5,-1577.5 3770.5,-1623.5 4195.5,-1623.5 4195.5,-1577.5 3770.5,-1577.5\" stroke=\"#000000\"/>\n",
       "<text fill=\"#000000\" font-family=\"Times,serif\" font-size=\"14.00\" text-anchor=\"middle\" x=\"3903.5\" y=\"-1596.8\">batch_normalization_25: BatchNormalization</text>\n",
       "<polyline fill=\"none\" points=\"4036.5,-1577.5 4036.5,-1623.5 \" stroke=\"#000000\"/>\n",
       "<text fill=\"#000000\" font-family=\"Times,serif\" font-size=\"14.00\" text-anchor=\"middle\" x=\"4064\" y=\"-1608.3\">input:</text>\n",
       "<polyline fill=\"none\" points=\"4036.5,-1600.5 4091.5,-1600.5 \" stroke=\"#000000\"/>\n",
       "<text fill=\"#000000\" font-family=\"Times,serif\" font-size=\"14.00\" text-anchor=\"middle\" x=\"4064\" y=\"-1585.3\">output:</text>\n",
       "<polyline fill=\"none\" points=\"4091.5,-1577.5 4091.5,-1623.5 \" stroke=\"#000000\"/>\n",
       "<text fill=\"#000000\" font-family=\"Times,serif\" font-size=\"14.00\" text-anchor=\"middle\" x=\"4143.5\" y=\"-1608.3\">(None, 60, 300)</text>\n",
       "<polyline fill=\"none\" points=\"4091.5,-1600.5 4195.5,-1600.5 \" stroke=\"#000000\"/>\n",
       "<text fill=\"#000000\" font-family=\"Times,serif\" font-size=\"14.00\" text-anchor=\"middle\" x=\"4143.5\" y=\"-1585.3\">(None, 60, 300)</text>\n",
       "</g>\n",
       "<!-- 140523123591712&#45;&gt;140523123591880 -->\n",
       "<g class=\"edge\" id=\"edge85\">\n",
       "<title>140523123591712-&gt;140523123591880</title>\n",
       "<path d=\"M4013.3007,-1660.3799C4008.968,-1651.8178 4003.9735,-1641.9477 3999.3052,-1632.7222\" fill=\"none\" stroke=\"#000000\"/>\n",
       "<polygon fill=\"#000000\" points=\"4002.4203,-1631.1264 3994.7823,-1623.784 3996.1745,-1634.287 4002.4203,-1631.1264\" stroke=\"#000000\"/>\n",
       "</g>\n",
       "<!-- 140523122185944 -->\n",
       "<g class=\"node\" id=\"node66\">\n",
       "<title>140523122185944</title>\n",
       "<polygon fill=\"none\" points=\"4213.5,-1577.5 4213.5,-1623.5 4638.5,-1623.5 4638.5,-1577.5 4213.5,-1577.5\" stroke=\"#000000\"/>\n",
       "<text fill=\"#000000\" font-family=\"Times,serif\" font-size=\"14.00\" text-anchor=\"middle\" x=\"4346.5\" y=\"-1596.8\">batch_normalization_26: BatchNormalization</text>\n",
       "<polyline fill=\"none\" points=\"4479.5,-1577.5 4479.5,-1623.5 \" stroke=\"#000000\"/>\n",
       "<text fill=\"#000000\" font-family=\"Times,serif\" font-size=\"14.00\" text-anchor=\"middle\" x=\"4507\" y=\"-1608.3\">input:</text>\n",
       "<polyline fill=\"none\" points=\"4479.5,-1600.5 4534.5,-1600.5 \" stroke=\"#000000\"/>\n",
       "<text fill=\"#000000\" font-family=\"Times,serif\" font-size=\"14.00\" text-anchor=\"middle\" x=\"4507\" y=\"-1585.3\">output:</text>\n",
       "<polyline fill=\"none\" points=\"4534.5,-1577.5 4534.5,-1623.5 \" stroke=\"#000000\"/>\n",
       "<text fill=\"#000000\" font-family=\"Times,serif\" font-size=\"14.00\" text-anchor=\"middle\" x=\"4586.5\" y=\"-1608.3\">(None, 60, 300)</text>\n",
       "<polyline fill=\"none\" points=\"4534.5,-1600.5 4638.5,-1600.5 \" stroke=\"#000000\"/>\n",
       "<text fill=\"#000000\" font-family=\"Times,serif\" font-size=\"14.00\" text-anchor=\"middle\" x=\"4586.5\" y=\"-1585.3\">(None, 60, 300)</text>\n",
       "</g>\n",
       "<!-- 140523122187344&#45;&gt;140523122185944 -->\n",
       "<g class=\"edge\" id=\"edge86\">\n",
       "<title>140523122187344-&gt;140523122185944</title>\n",
       "<path d=\"M4426,-1660.3799C4426,-1652.1745 4426,-1642.7679 4426,-1633.8786\" fill=\"none\" stroke=\"#000000\"/>\n",
       "<polygon fill=\"#000000\" points=\"4429.5001,-1633.784 4426,-1623.784 4422.5001,-1633.784 4429.5001,-1633.784\" stroke=\"#000000\"/>\n",
       "</g>\n",
       "<!-- 140523120207016 -->\n",
       "<g class=\"node\" id=\"node67\">\n",
       "<title>140523120207016</title>\n",
       "<polygon fill=\"none\" points=\"4656.5,-1577.5 4656.5,-1623.5 5081.5,-1623.5 5081.5,-1577.5 4656.5,-1577.5\" stroke=\"#000000\"/>\n",
       "<text fill=\"#000000\" font-family=\"Times,serif\" font-size=\"14.00\" text-anchor=\"middle\" x=\"4789.5\" y=\"-1596.8\">batch_normalization_27: BatchNormalization</text>\n",
       "<polyline fill=\"none\" points=\"4922.5,-1577.5 4922.5,-1623.5 \" stroke=\"#000000\"/>\n",
       "<text fill=\"#000000\" font-family=\"Times,serif\" font-size=\"14.00\" text-anchor=\"middle\" x=\"4950\" y=\"-1608.3\">input:</text>\n",
       "<polyline fill=\"none\" points=\"4922.5,-1600.5 4977.5,-1600.5 \" stroke=\"#000000\"/>\n",
       "<text fill=\"#000000\" font-family=\"Times,serif\" font-size=\"14.00\" text-anchor=\"middle\" x=\"4950\" y=\"-1585.3\">output:</text>\n",
       "<polyline fill=\"none\" points=\"4977.5,-1577.5 4977.5,-1623.5 \" stroke=\"#000000\"/>\n",
       "<text fill=\"#000000\" font-family=\"Times,serif\" font-size=\"14.00\" text-anchor=\"middle\" x=\"5029.5\" y=\"-1608.3\">(None, 60, 300)</text>\n",
       "<polyline fill=\"none\" points=\"4977.5,-1600.5 5081.5,-1600.5 \" stroke=\"#000000\"/>\n",
       "<text fill=\"#000000\" font-family=\"Times,serif\" font-size=\"14.00\" text-anchor=\"middle\" x=\"5029.5\" y=\"-1585.3\">(None, 60, 300)</text>\n",
       "</g>\n",
       "<!-- 140523120208584&#45;&gt;140523120207016 -->\n",
       "<g class=\"edge\" id=\"edge87\">\n",
       "<title>140523120208584-&gt;140523120207016</title>\n",
       "<path d=\"M4838.6993,-1660.3799C4843.032,-1651.8178 4848.0265,-1641.9477 4852.6948,-1632.7222\" fill=\"none\" stroke=\"#000000\"/>\n",
       "<polygon fill=\"#000000\" points=\"4855.8255,-1634.287 4857.2177,-1623.784 4849.5797,-1631.1264 4855.8255,-1634.287\" stroke=\"#000000\"/>\n",
       "</g>\n",
       "<!-- 140523120300328 -->\n",
       "<g class=\"node\" id=\"node68\">\n",
       "<title>140523120300328</title>\n",
       "<polygon fill=\"none\" points=\"3918.5,-1494.5 3918.5,-1540.5 4933.5,-1540.5 4933.5,-1494.5 3918.5,-1494.5\" stroke=\"#000000\"/>\n",
       "<text fill=\"#000000\" font-family=\"Times,serif\" font-size=\"14.00\" text-anchor=\"middle\" x=\"4011.5\" y=\"-1513.8\">concat_selfattn_3: Concatenate</text>\n",
       "<polyline fill=\"none\" points=\"4104.5,-1494.5 4104.5,-1540.5 \" stroke=\"#000000\"/>\n",
       "<text fill=\"#000000\" font-family=\"Times,serif\" font-size=\"14.00\" text-anchor=\"middle\" x=\"4132\" y=\"-1525.3\">input:</text>\n",
       "<polyline fill=\"none\" points=\"4104.5,-1517.5 4159.5,-1517.5 \" stroke=\"#000000\"/>\n",
       "<text fill=\"#000000\" font-family=\"Times,serif\" font-size=\"14.00\" text-anchor=\"middle\" x=\"4132\" y=\"-1502.3\">output:</text>\n",
       "<polyline fill=\"none\" points=\"4159.5,-1494.5 4159.5,-1540.5 \" stroke=\"#000000\"/>\n",
       "<text fill=\"#000000\" font-family=\"Times,serif\" font-size=\"14.00\" text-anchor=\"middle\" x=\"4546.5\" y=\"-1525.3\">[(None, 60, 300), (None, 60, 300), (None, 60, 300), (None, 60, 300), (None, 60, 300), (None, 60, 300), (None, 60, 300), (None, 60, 300)]</text>\n",
       "<polyline fill=\"none\" points=\"4159.5,-1517.5 4933.5,-1517.5 \" stroke=\"#000000\"/>\n",
       "<text fill=\"#000000\" font-family=\"Times,serif\" font-size=\"14.00\" text-anchor=\"middle\" x=\"4546.5\" y=\"-1502.3\">(None, 60, 2400)</text>\n",
       "</g>\n",
       "<!-- 140523132117680&#45;&gt;140523120300328 -->\n",
       "<g class=\"edge\" id=\"edge88\">\n",
       "<title>140523132117680-&gt;140523120300328</title>\n",
       "<path d=\"M5099.3249,-1577.9165C5096.1957,-1577.6072 5093.0859,-1577.3016 5090,-1577 4963.2534,-1564.6136 4822.7951,-1551.8829 4703.827,-1541.3922\" fill=\"none\" stroke=\"#000000\"/>\n",
       "<polygon fill=\"#000000\" points=\"4704.1138,-1537.904 4693.8452,-1540.5128 4703.4994,-1544.877 4704.1138,-1537.904\" stroke=\"#000000\"/>\n",
       "</g>\n",
       "<!-- 140523129858760&#45;&gt;140523120300328 -->\n",
       "<g class=\"edge\" id=\"edge89\">\n",
       "<title>140523129858760-&gt;140523120300328</title>\n",
       "<path d=\"M5542.3386,-1577.7614C5539.2051,-1577.5005 5536.0907,-1577.2465 5533,-1577 5340.9603,-1561.6851 5129.8567,-1549.2501 4943.9562,-1539.7842\" fill=\"none\" stroke=\"#000000\"/>\n",
       "<polygon fill=\"#000000\" points=\"4943.8856,-1536.2762 4933.721,-1539.2647 4943.5307,-1543.2672 4943.8856,-1536.2762\" stroke=\"#000000\"/>\n",
       "</g>\n",
       "<!-- 140523128582664&#45;&gt;140523120300328 -->\n",
       "<g class=\"edge\" id=\"edge90\">\n",
       "<title>140523128582664-&gt;140523120300328</title>\n",
       "<path d=\"M5985.3437,-1577.6947C5982.2086,-1577.4546 5979.0925,-1577.2228 5976,-1577 5632.5682,-1552.2592 5245.5389,-1537.3897 4944.1326,-1528.7026\" fill=\"none\" stroke=\"#000000\"/>\n",
       "<polygon fill=\"#000000\" points=\"4943.992,-1525.1972 4933.8957,-1528.409 4943.7913,-1532.1943 4943.992,-1525.1972\" stroke=\"#000000\"/>\n",
       "</g>\n",
       "<!-- 140523127120168&#45;&gt;140523120300328 -->\n",
       "<g class=\"edge\" id=\"edge91\">\n",
       "<title>140523127120168-&gt;140523120300328</title>\n",
       "<path d=\"M3309.58,-1577.687C3312.4038,-1577.4522 3315.2115,-1577.223 3318,-1577 3510.3273,-1561.621 3721.762,-1549.1682 3907.914,-1539.7059\" fill=\"none\" stroke=\"#000000\"/>\n",
       "<polygon fill=\"#000000\" points=\"3908.3529,-1543.1883 3918.1629,-1539.1867 3907.9986,-1536.1972 3908.3529,-1543.1883\" stroke=\"#000000\"/>\n",
       "</g>\n",
       "<!-- 140523125571256&#45;&gt;140523120300328 -->\n",
       "<g class=\"edge\" id=\"edge92\">\n",
       "<title>140523125571256-&gt;140523120300328</title>\n",
       "<path d=\"M3752.5925,-1577.8275C3755.4123,-1577.5485 3758.2159,-1577.2726 3761,-1577 3887.7936,-1564.5872 4028.2923,-1551.8654 4147.356,-1541.3878\" fill=\"none\" stroke=\"#000000\"/>\n",
       "<polygon fill=\"#000000\" points=\"4147.6909,-1544.872 4157.346,-1540.5096 4147.0778,-1537.8989 4147.6909,-1544.872\" stroke=\"#000000\"/>\n",
       "</g>\n",
       "<!-- 140523123591880&#45;&gt;140523120300328 -->\n",
       "<g class=\"edge\" id=\"edge93\">\n",
       "<title>140523123591880-&gt;140523120300328</title>\n",
       "<path d=\"M4105.8119,-1577.4901C4164.0259,-1566.5832 4233.6716,-1553.5344 4293.1194,-1542.3964\" fill=\"none\" stroke=\"#000000\"/>\n",
       "<polygon fill=\"#000000\" points=\"4293.7648,-1545.8364 4302.9492,-1540.5547 4292.4757,-1538.9562 4293.7648,-1545.8364\" stroke=\"#000000\"/>\n",
       "</g>\n",
       "<!-- 140523122185944&#45;&gt;140523120300328 -->\n",
       "<g class=\"edge\" id=\"edge94\">\n",
       "<title>140523122185944-&gt;140523120300328</title>\n",
       "<path d=\"M4426,-1577.3799C4426,-1569.1745 4426,-1559.7679 4426,-1550.8786\" fill=\"none\" stroke=\"#000000\"/>\n",
       "<polygon fill=\"#000000\" points=\"4429.5001,-1550.784 4426,-1540.784 4422.5001,-1550.784 4429.5001,-1550.784\" stroke=\"#000000\"/>\n",
       "</g>\n",
       "<!-- 140523120207016&#45;&gt;140523120300328 -->\n",
       "<g class=\"edge\" id=\"edge95\">\n",
       "<title>140523120207016-&gt;140523120300328</title>\n",
       "<path d=\"M4746.1881,-1577.4901C4687.9741,-1566.5832 4618.3284,-1553.5344 4558.8806,-1542.3964\" fill=\"none\" stroke=\"#000000\"/>\n",
       "<polygon fill=\"#000000\" points=\"4559.5243,-1538.9562 4549.0508,-1540.5547 4558.2352,-1545.8364 4559.5243,-1538.9562\" stroke=\"#000000\"/>\n",
       "</g>\n",
       "<!-- 140523118755232 -->\n",
       "<g class=\"node\" id=\"node69\">\n",
       "<title>140523118755232</title>\n",
       "<polygon fill=\"none\" points=\"3544.5,-1411.5 3544.5,-1457.5 3985.5,-1457.5 3985.5,-1411.5 3544.5,-1411.5\" stroke=\"#000000\"/>\n",
       "<text fill=\"#000000\" font-family=\"Times,serif\" font-size=\"14.00\" text-anchor=\"middle\" x=\"3682.5\" y=\"-1430.8\">condense_attention1d_3: CondenseAttention1D</text>\n",
       "<polyline fill=\"none\" points=\"3820.5,-1411.5 3820.5,-1457.5 \" stroke=\"#000000\"/>\n",
       "<text fill=\"#000000\" font-family=\"Times,serif\" font-size=\"14.00\" text-anchor=\"middle\" x=\"3848\" y=\"-1442.3\">input:</text>\n",
       "<polyline fill=\"none\" points=\"3820.5,-1434.5 3875.5,-1434.5 \" stroke=\"#000000\"/>\n",
       "<text fill=\"#000000\" font-family=\"Times,serif\" font-size=\"14.00\" text-anchor=\"middle\" x=\"3848\" y=\"-1419.3\">output:</text>\n",
       "<polyline fill=\"none\" points=\"3875.5,-1411.5 3875.5,-1457.5 \" stroke=\"#000000\"/>\n",
       "<text fill=\"#000000\" font-family=\"Times,serif\" font-size=\"14.00\" text-anchor=\"middle\" x=\"3930.5\" y=\"-1442.3\">(None, 60, 2400)</text>\n",
       "<polyline fill=\"none\" points=\"3875.5,-1434.5 3985.5,-1434.5 \" stroke=\"#000000\"/>\n",
       "<text fill=\"#000000\" font-family=\"Times,serif\" font-size=\"14.00\" text-anchor=\"middle\" x=\"3930.5\" y=\"-1419.3\">(None, 60, 300)</text>\n",
       "</g>\n",
       "<!-- 140523120300328&#45;&gt;140523118755232 -->\n",
       "<g class=\"edge\" id=\"edge96\">\n",
       "<title>140523120300328-&gt;140523118755232</title>\n",
       "<path d=\"M4242.7524,-1494.4901C4154.277,-1483.3805 4048.1043,-1470.0487 3958.3413,-1458.7774\" fill=\"none\" stroke=\"#000000\"/>\n",
       "<polygon fill=\"#000000\" points=\"3958.6756,-1455.2919 3948.3174,-1457.5187 3957.8034,-1462.2374 3958.6756,-1455.2919\" stroke=\"#000000\"/>\n",
       "</g>\n",
       "<!-- 140523118755232&#45;&gt;140523118636784 -->\n",
       "<g class=\"edge\" id=\"edge98\">\n",
       "<title>140523118755232-&gt;140523118636784</title>\n",
       "<path d=\"M3547.3762,-1411.4901C3441.6645,-1400.3129 3314.6794,-1386.8865 3207.6692,-1375.572\" fill=\"none\" stroke=\"#000000\"/>\n",
       "<polygon fill=\"#000000\" points=\"3208.0193,-1372.0896 3197.7067,-1374.5187 3207.2832,-1379.0508 3208.0193,-1372.0896\" stroke=\"#000000\"/>\n",
       "</g>\n",
       "<!-- 140523117633040 -->\n",
       "<g class=\"node\" id=\"node71\">\n",
       "<title>140523117633040</title>\n",
       "<polygon fill=\"none\" points=\"2767.5,-1245.5 2767.5,-1291.5 3192.5,-1291.5 3192.5,-1245.5 2767.5,-1245.5\" stroke=\"#000000\"/>\n",
       "<text fill=\"#000000\" font-family=\"Times,serif\" font-size=\"14.00\" text-anchor=\"middle\" x=\"2900.5\" y=\"-1264.8\">batch_normalization_28: BatchNormalization</text>\n",
       "<polyline fill=\"none\" points=\"3033.5,-1245.5 3033.5,-1291.5 \" stroke=\"#000000\"/>\n",
       "<text fill=\"#000000\" font-family=\"Times,serif\" font-size=\"14.00\" text-anchor=\"middle\" x=\"3061\" y=\"-1276.3\">input:</text>\n",
       "<polyline fill=\"none\" points=\"3033.5,-1268.5 3088.5,-1268.5 \" stroke=\"#000000\"/>\n",
       "<text fill=\"#000000\" font-family=\"Times,serif\" font-size=\"14.00\" text-anchor=\"middle\" x=\"3061\" y=\"-1253.3\">output:</text>\n",
       "<polyline fill=\"none\" points=\"3088.5,-1245.5 3088.5,-1291.5 \" stroke=\"#000000\"/>\n",
       "<text fill=\"#000000\" font-family=\"Times,serif\" font-size=\"14.00\" text-anchor=\"middle\" x=\"3140.5\" y=\"-1276.3\">(None, 60, 300)</text>\n",
       "<polyline fill=\"none\" points=\"3088.5,-1268.5 3192.5,-1268.5 \" stroke=\"#000000\"/>\n",
       "<text fill=\"#000000\" font-family=\"Times,serif\" font-size=\"14.00\" text-anchor=\"middle\" x=\"3140.5\" y=\"-1253.3\">(None, 60, 300)</text>\n",
       "</g>\n",
       "<!-- 140523118636784&#45;&gt;140523117633040 -->\n",
       "<g class=\"edge\" id=\"edge99\">\n",
       "<title>140523118636784-&gt;140523117633040</title>\n",
       "<path d=\"M2980,-1328.3799C2980,-1320.1745 2980,-1310.7679 2980,-1301.8786\" fill=\"none\" stroke=\"#000000\"/>\n",
       "<polygon fill=\"#000000\" points=\"2983.5001,-1301.784 2980,-1291.784 2976.5001,-1301.784 2983.5001,-1301.784\" stroke=\"#000000\"/>\n",
       "</g>\n",
       "<!-- 140523117348512 -->\n",
       "<g class=\"node\" id=\"node72\">\n",
       "<title>140523117348512</title>\n",
       "<polygon fill=\"none\" points=\"3632.5,-1162.5 3632.5,-1208.5 3973.5,-1208.5 3973.5,-1162.5 3632.5,-1162.5\" stroke=\"#000000\"/>\n",
       "<text fill=\"#000000\" font-family=\"Times,serif\" font-size=\"14.00\" text-anchor=\"middle\" x=\"3693.5\" y=\"-1181.8\">sa40: SelfAttention</text>\n",
       "<polyline fill=\"none\" points=\"3754.5,-1162.5 3754.5,-1208.5 \" stroke=\"#000000\"/>\n",
       "<text fill=\"#000000\" font-family=\"Times,serif\" font-size=\"14.00\" text-anchor=\"middle\" x=\"3782\" y=\"-1193.3\">input:</text>\n",
       "<polyline fill=\"none\" points=\"3754.5,-1185.5 3809.5,-1185.5 \" stroke=\"#000000\"/>\n",
       "<text fill=\"#000000\" font-family=\"Times,serif\" font-size=\"14.00\" text-anchor=\"middle\" x=\"3782\" y=\"-1170.3\">output:</text>\n",
       "<polyline fill=\"none\" points=\"3809.5,-1162.5 3809.5,-1208.5 \" stroke=\"#000000\"/>\n",
       "<text fill=\"#000000\" font-family=\"Times,serif\" font-size=\"14.00\" text-anchor=\"middle\" x=\"3891.5\" y=\"-1193.3\">(None, 60, 300)</text>\n",
       "<polyline fill=\"none\" points=\"3809.5,-1185.5 3973.5,-1185.5 \" stroke=\"#000000\"/>\n",
       "<text fill=\"#000000\" font-family=\"Times,serif\" font-size=\"14.00\" text-anchor=\"middle\" x=\"3891.5\" y=\"-1170.3\">[(None, 60, 300), (60, 60)]</text>\n",
       "</g>\n",
       "<!-- 140523117633040&#45;&gt;140523117348512 -->\n",
       "<g class=\"edge\" id=\"edge100\">\n",
       "<title>140523117633040-&gt;140523117348512</title>\n",
       "<path d=\"M3192.7455,-1247.0445C3325.8315,-1233.6227 3495.4209,-1216.5195 3622.0279,-1203.7511\" fill=\"none\" stroke=\"#000000\"/>\n",
       "<polygon fill=\"#000000\" points=\"3622.6194,-1207.2093 3632.2177,-1202.7235 3621.917,-1200.2447 3622.6194,-1207.2093\" stroke=\"#000000\"/>\n",
       "</g>\n",
       "<!-- 140523115741080 -->\n",
       "<g class=\"node\" id=\"node73\">\n",
       "<title>140523115741080</title>\n",
       "<polygon fill=\"none\" points=\"4064.5,-1162.5 4064.5,-1208.5 4405.5,-1208.5 4405.5,-1162.5 4064.5,-1162.5\" stroke=\"#000000\"/>\n",
       "<text fill=\"#000000\" font-family=\"Times,serif\" font-size=\"14.00\" text-anchor=\"middle\" x=\"4125.5\" y=\"-1181.8\">sa41: SelfAttention</text>\n",
       "<polyline fill=\"none\" points=\"4186.5,-1162.5 4186.5,-1208.5 \" stroke=\"#000000\"/>\n",
       "<text fill=\"#000000\" font-family=\"Times,serif\" font-size=\"14.00\" text-anchor=\"middle\" x=\"4214\" y=\"-1193.3\">input:</text>\n",
       "<polyline fill=\"none\" points=\"4186.5,-1185.5 4241.5,-1185.5 \" stroke=\"#000000\"/>\n",
       "<text fill=\"#000000\" font-family=\"Times,serif\" font-size=\"14.00\" text-anchor=\"middle\" x=\"4214\" y=\"-1170.3\">output:</text>\n",
       "<polyline fill=\"none\" points=\"4241.5,-1162.5 4241.5,-1208.5 \" stroke=\"#000000\"/>\n",
       "<text fill=\"#000000\" font-family=\"Times,serif\" font-size=\"14.00\" text-anchor=\"middle\" x=\"4323.5\" y=\"-1193.3\">(None, 60, 300)</text>\n",
       "<polyline fill=\"none\" points=\"4241.5,-1185.5 4405.5,-1185.5 \" stroke=\"#000000\"/>\n",
       "<text fill=\"#000000\" font-family=\"Times,serif\" font-size=\"14.00\" text-anchor=\"middle\" x=\"4323.5\" y=\"-1170.3\">[(None, 60, 300), (60, 60)]</text>\n",
       "</g>\n",
       "<!-- 140523117633040&#45;&gt;140523115741080 -->\n",
       "<g class=\"edge\" id=\"edge101\">\n",
       "<title>140523117633040-&gt;140523115741080</title>\n",
       "<path d=\"M3192.7113,-1257.9273C3395.6398,-1247.3539 3709.845,-1229.7143 3982,-1209 4005.3888,-1207.2198 4029.9767,-1205.1653 4054.2565,-1203.0272\" fill=\"none\" stroke=\"#000000\"/>\n",
       "<polygon fill=\"#000000\" points=\"4054.6189,-1206.5089 4064.2707,-1202.1392 4054.0006,-1199.5363 4054.6189,-1206.5089\" stroke=\"#000000\"/>\n",
       "</g>\n",
       "<!-- 140523113810912 -->\n",
       "<g class=\"node\" id=\"node74\">\n",
       "<title>140523113810912</title>\n",
       "<polygon fill=\"none\" points=\"4502.5,-1162.5 4502.5,-1208.5 4843.5,-1208.5 4843.5,-1162.5 4502.5,-1162.5\" stroke=\"#000000\"/>\n",
       "<text fill=\"#000000\" font-family=\"Times,serif\" font-size=\"14.00\" text-anchor=\"middle\" x=\"4563.5\" y=\"-1181.8\">sa42: SelfAttention</text>\n",
       "<polyline fill=\"none\" points=\"4624.5,-1162.5 4624.5,-1208.5 \" stroke=\"#000000\"/>\n",
       "<text fill=\"#000000\" font-family=\"Times,serif\" font-size=\"14.00\" text-anchor=\"middle\" x=\"4652\" y=\"-1193.3\">input:</text>\n",
       "<polyline fill=\"none\" points=\"4624.5,-1185.5 4679.5,-1185.5 \" stroke=\"#000000\"/>\n",
       "<text fill=\"#000000\" font-family=\"Times,serif\" font-size=\"14.00\" text-anchor=\"middle\" x=\"4652\" y=\"-1170.3\">output:</text>\n",
       "<polyline fill=\"none\" points=\"4679.5,-1162.5 4679.5,-1208.5 \" stroke=\"#000000\"/>\n",
       "<text fill=\"#000000\" font-family=\"Times,serif\" font-size=\"14.00\" text-anchor=\"middle\" x=\"4761.5\" y=\"-1193.3\">(None, 60, 300)</text>\n",
       "<polyline fill=\"none\" points=\"4679.5,-1185.5 4843.5,-1185.5 \" stroke=\"#000000\"/>\n",
       "<text fill=\"#000000\" font-family=\"Times,serif\" font-size=\"14.00\" text-anchor=\"middle\" x=\"4761.5\" y=\"-1170.3\">[(None, 60, 300), (60, 60)]</text>\n",
       "</g>\n",
       "<!-- 140523117633040&#45;&gt;140523113810912 -->\n",
       "<g class=\"edge\" id=\"edge102\">\n",
       "<title>140523117633040-&gt;140523113810912</title>\n",
       "<path d=\"M3192.7645,-1262.9298C3472.9254,-1254.8488 3980.7615,-1237.6254 4414,-1209 4439.3671,-1207.3239 4466.105,-1205.2483 4492.3835,-1203.0299\" fill=\"none\" stroke=\"#000000\"/>\n",
       "<polygon fill=\"#000000\" points=\"4492.7623,-1206.5104 4502.4287,-1202.1733 4492.1674,-1199.5357 4492.7623,-1206.5104\" stroke=\"#000000\"/>\n",
       "</g>\n",
       "<!-- 140523112339720 -->\n",
       "<g class=\"node\" id=\"node75\">\n",
       "<title>140523112339720</title>\n",
       "<polygon fill=\"none\" points=\"1522.5,-1162.5 1522.5,-1208.5 1863.5,-1208.5 1863.5,-1162.5 1522.5,-1162.5\" stroke=\"#000000\"/>\n",
       "<text fill=\"#000000\" font-family=\"Times,serif\" font-size=\"14.00\" text-anchor=\"middle\" x=\"1583.5\" y=\"-1181.8\">sa43: SelfAttention</text>\n",
       "<polyline fill=\"none\" points=\"1644.5,-1162.5 1644.5,-1208.5 \" stroke=\"#000000\"/>\n",
       "<text fill=\"#000000\" font-family=\"Times,serif\" font-size=\"14.00\" text-anchor=\"middle\" x=\"1672\" y=\"-1193.3\">input:</text>\n",
       "<polyline fill=\"none\" points=\"1644.5,-1185.5 1699.5,-1185.5 \" stroke=\"#000000\"/>\n",
       "<text fill=\"#000000\" font-family=\"Times,serif\" font-size=\"14.00\" text-anchor=\"middle\" x=\"1672\" y=\"-1170.3\">output:</text>\n",
       "<polyline fill=\"none\" points=\"1699.5,-1162.5 1699.5,-1208.5 \" stroke=\"#000000\"/>\n",
       "<text fill=\"#000000\" font-family=\"Times,serif\" font-size=\"14.00\" text-anchor=\"middle\" x=\"1781.5\" y=\"-1193.3\">(None, 60, 300)</text>\n",
       "<polyline fill=\"none\" points=\"1699.5,-1185.5 1863.5,-1185.5 \" stroke=\"#000000\"/>\n",
       "<text fill=\"#000000\" font-family=\"Times,serif\" font-size=\"14.00\" text-anchor=\"middle\" x=\"1781.5\" y=\"-1170.3\">[(None, 60, 300), (60, 60)]</text>\n",
       "</g>\n",
       "<!-- 140523117633040&#45;&gt;140523112339720 -->\n",
       "<g class=\"edge\" id=\"edge103\">\n",
       "<title>140523117633040-&gt;140523112339720</title>\n",
       "<path d=\"M2767.0824,-1258.0603C2559.8718,-1247.4442 2236.1574,-1229.6509 1956,-1209 1929.432,-1207.0416 1901.3734,-1204.7614 1873.8701,-1202.4063\" fill=\"none\" stroke=\"#000000\"/>\n",
       "<polygon fill=\"#000000\" points=\"1874.0297,-1198.9072 1863.7662,-1201.5358 1873.4288,-1205.8814 1874.0297,-1198.9072\" stroke=\"#000000\"/>\n",
       "</g>\n",
       "<!-- 140523110739136 -->\n",
       "<g class=\"node\" id=\"node76\">\n",
       "<title>140523110739136</title>\n",
       "<polygon fill=\"none\" points=\"1965.5,-1162.5 1965.5,-1208.5 2306.5,-1208.5 2306.5,-1162.5 1965.5,-1162.5\" stroke=\"#000000\"/>\n",
       "<text fill=\"#000000\" font-family=\"Times,serif\" font-size=\"14.00\" text-anchor=\"middle\" x=\"2026.5\" y=\"-1181.8\">sa44: SelfAttention</text>\n",
       "<polyline fill=\"none\" points=\"2087.5,-1162.5 2087.5,-1208.5 \" stroke=\"#000000\"/>\n",
       "<text fill=\"#000000\" font-family=\"Times,serif\" font-size=\"14.00\" text-anchor=\"middle\" x=\"2115\" y=\"-1193.3\">input:</text>\n",
       "<polyline fill=\"none\" points=\"2087.5,-1185.5 2142.5,-1185.5 \" stroke=\"#000000\"/>\n",
       "<text fill=\"#000000\" font-family=\"Times,serif\" font-size=\"14.00\" text-anchor=\"middle\" x=\"2115\" y=\"-1170.3\">output:</text>\n",
       "<polyline fill=\"none\" points=\"2142.5,-1162.5 2142.5,-1208.5 \" stroke=\"#000000\"/>\n",
       "<text fill=\"#000000\" font-family=\"Times,serif\" font-size=\"14.00\" text-anchor=\"middle\" x=\"2224.5\" y=\"-1193.3\">(None, 60, 300)</text>\n",
       "<polyline fill=\"none\" points=\"2142.5,-1185.5 2306.5,-1185.5 \" stroke=\"#000000\"/>\n",
       "<text fill=\"#000000\" font-family=\"Times,serif\" font-size=\"14.00\" text-anchor=\"middle\" x=\"2224.5\" y=\"-1170.3\">[(None, 60, 300), (60, 60)]</text>\n",
       "</g>\n",
       "<!-- 140523117633040&#45;&gt;140523110739136 -->\n",
       "<g class=\"edge\" id=\"edge104\">\n",
       "<title>140523117633040-&gt;140523110739136</title>\n",
       "<path d=\"M2767.2957,-1247.5824C2628.3246,-1233.9158 2448.8044,-1216.2616 2316.747,-1203.2749\" fill=\"none\" stroke=\"#000000\"/>\n",
       "<polygon fill=\"#000000\" points=\"2316.8187,-1199.7651 2306.5241,-1202.2696 2316.1336,-1206.7315 2316.8187,-1199.7651\" stroke=\"#000000\"/>\n",
       "</g>\n",
       "<!-- 140523109300656 -->\n",
       "<g class=\"node\" id=\"node77\">\n",
       "<title>140523109300656</title>\n",
       "<polygon fill=\"none\" points=\"2408.5,-1162.5 2408.5,-1208.5 2749.5,-1208.5 2749.5,-1162.5 2408.5,-1162.5\" stroke=\"#000000\"/>\n",
       "<text fill=\"#000000\" font-family=\"Times,serif\" font-size=\"14.00\" text-anchor=\"middle\" x=\"2469.5\" y=\"-1181.8\">sa45: SelfAttention</text>\n",
       "<polyline fill=\"none\" points=\"2530.5,-1162.5 2530.5,-1208.5 \" stroke=\"#000000\"/>\n",
       "<text fill=\"#000000\" font-family=\"Times,serif\" font-size=\"14.00\" text-anchor=\"middle\" x=\"2558\" y=\"-1193.3\">input:</text>\n",
       "<polyline fill=\"none\" points=\"2530.5,-1185.5 2585.5,-1185.5 \" stroke=\"#000000\"/>\n",
       "<text fill=\"#000000\" font-family=\"Times,serif\" font-size=\"14.00\" text-anchor=\"middle\" x=\"2558\" y=\"-1170.3\">output:</text>\n",
       "<polyline fill=\"none\" points=\"2585.5,-1162.5 2585.5,-1208.5 \" stroke=\"#000000\"/>\n",
       "<text fill=\"#000000\" font-family=\"Times,serif\" font-size=\"14.00\" text-anchor=\"middle\" x=\"2667.5\" y=\"-1193.3\">(None, 60, 300)</text>\n",
       "<polyline fill=\"none\" points=\"2585.5,-1185.5 2749.5,-1185.5 \" stroke=\"#000000\"/>\n",
       "<text fill=\"#000000\" font-family=\"Times,serif\" font-size=\"14.00\" text-anchor=\"middle\" x=\"2667.5\" y=\"-1170.3\">[(None, 60, 300), (60, 60)]</text>\n",
       "</g>\n",
       "<!-- 140523117633040&#45;&gt;140523109300656 -->\n",
       "<g class=\"edge\" id=\"edge105\">\n",
       "<title>140523117633040-&gt;140523109300656</title>\n",
       "<path d=\"M2868.8317,-1245.4901C2816.4628,-1234.6506 2753.8736,-1221.6958 2700.2821,-1210.6033\" fill=\"none\" stroke=\"#000000\"/>\n",
       "<polygon fill=\"#000000\" points=\"2700.8865,-1207.1543 2690.3846,-1208.5547 2699.4676,-1214.009 2700.8865,-1207.1543\" stroke=\"#000000\"/>\n",
       "</g>\n",
       "<!-- 140522939533128 -->\n",
       "<g class=\"node\" id=\"node78\">\n",
       "<title>140522939533128</title>\n",
       "<polygon fill=\"none\" points=\"2809.5,-1162.5 2809.5,-1208.5 3150.5,-1208.5 3150.5,-1162.5 2809.5,-1162.5\" stroke=\"#000000\"/>\n",
       "<text fill=\"#000000\" font-family=\"Times,serif\" font-size=\"14.00\" text-anchor=\"middle\" x=\"2870.5\" y=\"-1181.8\">sa46: SelfAttention</text>\n",
       "<polyline fill=\"none\" points=\"2931.5,-1162.5 2931.5,-1208.5 \" stroke=\"#000000\"/>\n",
       "<text fill=\"#000000\" font-family=\"Times,serif\" font-size=\"14.00\" text-anchor=\"middle\" x=\"2959\" y=\"-1193.3\">input:</text>\n",
       "<polyline fill=\"none\" points=\"2931.5,-1185.5 2986.5,-1185.5 \" stroke=\"#000000\"/>\n",
       "<text fill=\"#000000\" font-family=\"Times,serif\" font-size=\"14.00\" text-anchor=\"middle\" x=\"2959\" y=\"-1170.3\">output:</text>\n",
       "<polyline fill=\"none\" points=\"2986.5,-1162.5 2986.5,-1208.5 \" stroke=\"#000000\"/>\n",
       "<text fill=\"#000000\" font-family=\"Times,serif\" font-size=\"14.00\" text-anchor=\"middle\" x=\"3068.5\" y=\"-1193.3\">(None, 60, 300)</text>\n",
       "<polyline fill=\"none\" points=\"2986.5,-1185.5 3150.5,-1185.5 \" stroke=\"#000000\"/>\n",
       "<text fill=\"#000000\" font-family=\"Times,serif\" font-size=\"14.00\" text-anchor=\"middle\" x=\"3068.5\" y=\"-1170.3\">[(None, 60, 300), (60, 60)]</text>\n",
       "</g>\n",
       "<!-- 140523117633040&#45;&gt;140522939533128 -->\n",
       "<g class=\"edge\" id=\"edge106\">\n",
       "<title>140523117633040-&gt;140522939533128</title>\n",
       "<path d=\"M2980,-1245.3799C2980,-1237.1745 2980,-1227.7679 2980,-1218.8786\" fill=\"none\" stroke=\"#000000\"/>\n",
       "<polygon fill=\"#000000\" points=\"2983.5001,-1218.784 2980,-1208.784 2976.5001,-1218.784 2983.5001,-1218.784\" stroke=\"#000000\"/>\n",
       "</g>\n",
       "<!-- 140522938125448 -->\n",
       "<g class=\"node\" id=\"node79\">\n",
       "<title>140522938125448</title>\n",
       "<polygon fill=\"none\" points=\"3210.5,-1162.5 3210.5,-1208.5 3551.5,-1208.5 3551.5,-1162.5 3210.5,-1162.5\" stroke=\"#000000\"/>\n",
       "<text fill=\"#000000\" font-family=\"Times,serif\" font-size=\"14.00\" text-anchor=\"middle\" x=\"3271.5\" y=\"-1181.8\">sa47: SelfAttention</text>\n",
       "<polyline fill=\"none\" points=\"3332.5,-1162.5 3332.5,-1208.5 \" stroke=\"#000000\"/>\n",
       "<text fill=\"#000000\" font-family=\"Times,serif\" font-size=\"14.00\" text-anchor=\"middle\" x=\"3360\" y=\"-1193.3\">input:</text>\n",
       "<polyline fill=\"none\" points=\"3332.5,-1185.5 3387.5,-1185.5 \" stroke=\"#000000\"/>\n",
       "<text fill=\"#000000\" font-family=\"Times,serif\" font-size=\"14.00\" text-anchor=\"middle\" x=\"3360\" y=\"-1170.3\">output:</text>\n",
       "<polyline fill=\"none\" points=\"3387.5,-1162.5 3387.5,-1208.5 \" stroke=\"#000000\"/>\n",
       "<text fill=\"#000000\" font-family=\"Times,serif\" font-size=\"14.00\" text-anchor=\"middle\" x=\"3469.5\" y=\"-1193.3\">(None, 60, 300)</text>\n",
       "<polyline fill=\"none\" points=\"3387.5,-1185.5 3551.5,-1185.5 \" stroke=\"#000000\"/>\n",
       "<text fill=\"#000000\" font-family=\"Times,serif\" font-size=\"14.00\" text-anchor=\"middle\" x=\"3469.5\" y=\"-1170.3\">[(None, 60, 300), (60, 60)]</text>\n",
       "</g>\n",
       "<!-- 140523117633040&#45;&gt;140522938125448 -->\n",
       "<g class=\"edge\" id=\"edge107\">\n",
       "<title>140523117633040-&gt;140522938125448</title>\n",
       "<path d=\"M3091.1683,-1245.4901C3143.5372,-1234.6506 3206.1264,-1221.6958 3259.7179,-1210.6033\" fill=\"none\" stroke=\"#000000\"/>\n",
       "<polygon fill=\"#000000\" points=\"3260.5324,-1214.009 3269.6154,-1208.5547 3259.1135,-1207.1543 3260.5324,-1214.009\" stroke=\"#000000\"/>\n",
       "</g>\n",
       "<!-- 140522935980888 -->\n",
       "<g class=\"node\" id=\"node90\">\n",
       "<title>140522935980888</title>\n",
       "<polygon fill=\"none\" points=\"1264,-830.5 1264,-876.5 1804,-876.5 1804,-830.5 1264,-830.5\" stroke=\"#000000\"/>\n",
       "<text fill=\"#000000\" font-family=\"Times,serif\" font-size=\"14.00\" text-anchor=\"middle\" x=\"1403\" y=\"-849.8\">residual_combine_selfattn_4: ResidualCombine</text>\n",
       "<polyline fill=\"none\" points=\"1542,-830.5 1542,-876.5 \" stroke=\"#000000\"/>\n",
       "<text fill=\"#000000\" font-family=\"Times,serif\" font-size=\"14.00\" text-anchor=\"middle\" x=\"1569.5\" y=\"-861.3\">input:</text>\n",
       "<polyline fill=\"none\" points=\"1542,-853.5 1597,-853.5 \" stroke=\"#000000\"/>\n",
       "<text fill=\"#000000\" font-family=\"Times,serif\" font-size=\"14.00\" text-anchor=\"middle\" x=\"1569.5\" y=\"-838.3\">output:</text>\n",
       "<polyline fill=\"none\" points=\"1597,-830.5 1597,-876.5 \" stroke=\"#000000\"/>\n",
       "<text fill=\"#000000\" font-family=\"Times,serif\" font-size=\"14.00\" text-anchor=\"middle\" x=\"1700.5\" y=\"-861.3\">[(None, 60, 300), (None, 60, 300)]</text>\n",
       "<polyline fill=\"none\" points=\"1597,-853.5 1804,-853.5 \" stroke=\"#000000\"/>\n",
       "<text fill=\"#000000\" font-family=\"Times,serif\" font-size=\"14.00\" text-anchor=\"middle\" x=\"1700.5\" y=\"-838.3\">[(None, 60, 300), (1,), (1,)]</text>\n",
       "</g>\n",
       "<!-- 140523117633040&#45;&gt;140522935980888 -->\n",
       "<g class=\"edge\" id=\"edge125\">\n",
       "<title>140523117633040-&gt;140522935980888</title>\n",
       "<path d=\"M2767.441,-1263.9165C2374.564,-1254.8821 1569.398,-1233.5105 1513,-1209 1452.6081,-1182.7537 1410,-1168.3487 1410,-1102.5 1410,-1102.5 1410,-1102.5 1410,-1019.5 1410,-962.8141 1456.9846,-913.0161 1493.1105,-883.1049\" fill=\"none\" stroke=\"#000000\"/>\n",
       "<polygon fill=\"#000000\" points=\"1495.5088,-885.6672 1501.0958,-876.6652 1491.1145,-880.2183 1495.5088,-885.6672\" stroke=\"#000000\"/>\n",
       "</g>\n",
       "<!-- 140523117348736 -->\n",
       "<g class=\"node\" id=\"node80\">\n",
       "<title>140523117348736</title>\n",
       "<polygon fill=\"none\" points=\"3653.5,-1079.5 3653.5,-1125.5 4078.5,-1125.5 4078.5,-1079.5 3653.5,-1079.5\" stroke=\"#000000\"/>\n",
       "<text fill=\"#000000\" font-family=\"Times,serif\" font-size=\"14.00\" text-anchor=\"middle\" x=\"3786.5\" y=\"-1098.8\">batch_normalization_29: BatchNormalization</text>\n",
       "<polyline fill=\"none\" points=\"3919.5,-1079.5 3919.5,-1125.5 \" stroke=\"#000000\"/>\n",
       "<text fill=\"#000000\" font-family=\"Times,serif\" font-size=\"14.00\" text-anchor=\"middle\" x=\"3947\" y=\"-1110.3\">input:</text>\n",
       "<polyline fill=\"none\" points=\"3919.5,-1102.5 3974.5,-1102.5 \" stroke=\"#000000\"/>\n",
       "<text fill=\"#000000\" font-family=\"Times,serif\" font-size=\"14.00\" text-anchor=\"middle\" x=\"3947\" y=\"-1087.3\">output:</text>\n",
       "<polyline fill=\"none\" points=\"3974.5,-1079.5 3974.5,-1125.5 \" stroke=\"#000000\"/>\n",
       "<text fill=\"#000000\" font-family=\"Times,serif\" font-size=\"14.00\" text-anchor=\"middle\" x=\"4026.5\" y=\"-1110.3\">(None, 60, 300)</text>\n",
       "<polyline fill=\"none\" points=\"3974.5,-1102.5 4078.5,-1102.5 \" stroke=\"#000000\"/>\n",
       "<text fill=\"#000000\" font-family=\"Times,serif\" font-size=\"14.00\" text-anchor=\"middle\" x=\"4026.5\" y=\"-1087.3\">(None, 60, 300)</text>\n",
       "</g>\n",
       "<!-- 140523117348512&#45;&gt;140523117348736 -->\n",
       "<g class=\"edge\" id=\"edge108\">\n",
       "<title>140523117348512-&gt;140523117348736</title>\n",
       "<path d=\"M3820.549,-1162.3799C3827.251,-1153.5502 3835.0089,-1143.3295 3842.1972,-1133.8593\" fill=\"none\" stroke=\"#000000\"/>\n",
       "<polygon fill=\"#000000\" points=\"3845.0685,-1135.8654 3848.3266,-1125.784 3839.4927,-1131.6332 3845.0685,-1135.8654\" stroke=\"#000000\"/>\n",
       "</g>\n",
       "<!-- 140523115739400 -->\n",
       "<g class=\"node\" id=\"node81\">\n",
       "<title>140523115739400</title>\n",
       "<polygon fill=\"none\" points=\"4096.5,-1079.5 4096.5,-1125.5 4521.5,-1125.5 4521.5,-1079.5 4096.5,-1079.5\" stroke=\"#000000\"/>\n",
       "<text fill=\"#000000\" font-family=\"Times,serif\" font-size=\"14.00\" text-anchor=\"middle\" x=\"4229.5\" y=\"-1098.8\">batch_normalization_30: BatchNormalization</text>\n",
       "<polyline fill=\"none\" points=\"4362.5,-1079.5 4362.5,-1125.5 \" stroke=\"#000000\"/>\n",
       "<text fill=\"#000000\" font-family=\"Times,serif\" font-size=\"14.00\" text-anchor=\"middle\" x=\"4390\" y=\"-1110.3\">input:</text>\n",
       "<polyline fill=\"none\" points=\"4362.5,-1102.5 4417.5,-1102.5 \" stroke=\"#000000\"/>\n",
       "<text fill=\"#000000\" font-family=\"Times,serif\" font-size=\"14.00\" text-anchor=\"middle\" x=\"4390\" y=\"-1087.3\">output:</text>\n",
       "<polyline fill=\"none\" points=\"4417.5,-1079.5 4417.5,-1125.5 \" stroke=\"#000000\"/>\n",
       "<text fill=\"#000000\" font-family=\"Times,serif\" font-size=\"14.00\" text-anchor=\"middle\" x=\"4469.5\" y=\"-1110.3\">(None, 60, 300)</text>\n",
       "<polyline fill=\"none\" points=\"4417.5,-1102.5 4521.5,-1102.5 \" stroke=\"#000000\"/>\n",
       "<text fill=\"#000000\" font-family=\"Times,serif\" font-size=\"14.00\" text-anchor=\"middle\" x=\"4469.5\" y=\"-1087.3\">(None, 60, 300)</text>\n",
       "</g>\n",
       "<!-- 140523115741080&#45;&gt;140523115739400 -->\n",
       "<g class=\"edge\" id=\"edge109\">\n",
       "<title>140523115741080-&gt;140523115739400</title>\n",
       "<path d=\"M4255.6131,-1162.3799C4263.6444,-1153.3718 4272.9665,-1142.916 4281.552,-1133.2863\" fill=\"none\" stroke=\"#000000\"/>\n",
       "<polygon fill=\"#000000\" points=\"4284.1984,-1135.5774 4288.2408,-1125.784 4278.9735,-1130.919 4284.1984,-1135.5774\" stroke=\"#000000\"/>\n",
       "</g>\n",
       "<!-- 140523113809344 -->\n",
       "<g class=\"node\" id=\"node82\">\n",
       "<title>140523113809344</title>\n",
       "<polygon fill=\"none\" points=\"4539.5,-1079.5 4539.5,-1125.5 4964.5,-1125.5 4964.5,-1079.5 4539.5,-1079.5\" stroke=\"#000000\"/>\n",
       "<text fill=\"#000000\" font-family=\"Times,serif\" font-size=\"14.00\" text-anchor=\"middle\" x=\"4672.5\" y=\"-1098.8\">batch_normalization_31: BatchNormalization</text>\n",
       "<polyline fill=\"none\" points=\"4805.5,-1079.5 4805.5,-1125.5 \" stroke=\"#000000\"/>\n",
       "<text fill=\"#000000\" font-family=\"Times,serif\" font-size=\"14.00\" text-anchor=\"middle\" x=\"4833\" y=\"-1110.3\">input:</text>\n",
       "<polyline fill=\"none\" points=\"4805.5,-1102.5 4860.5,-1102.5 \" stroke=\"#000000\"/>\n",
       "<text fill=\"#000000\" font-family=\"Times,serif\" font-size=\"14.00\" text-anchor=\"middle\" x=\"4833\" y=\"-1087.3\">output:</text>\n",
       "<polyline fill=\"none\" points=\"4860.5,-1079.5 4860.5,-1125.5 \" stroke=\"#000000\"/>\n",
       "<text fill=\"#000000\" font-family=\"Times,serif\" font-size=\"14.00\" text-anchor=\"middle\" x=\"4912.5\" y=\"-1110.3\">(None, 60, 300)</text>\n",
       "<polyline fill=\"none\" points=\"4860.5,-1102.5 4964.5,-1102.5 \" stroke=\"#000000\"/>\n",
       "<text fill=\"#000000\" font-family=\"Times,serif\" font-size=\"14.00\" text-anchor=\"middle\" x=\"4912.5\" y=\"-1087.3\">(None, 60, 300)</text>\n",
       "</g>\n",
       "<!-- 140523113810912&#45;&gt;140523113809344 -->\n",
       "<g class=\"edge\" id=\"edge110\">\n",
       "<title>140523113810912-&gt;140523113809344</title>\n",
       "<path d=\"M4695.0059,-1162.3799C4703.5798,-1153.3718 4713.5318,-1142.916 4722.6974,-1133.2863\" fill=\"none\" stroke=\"#000000\"/>\n",
       "<polygon fill=\"#000000\" points=\"4725.4789,-1135.4405 4729.8381,-1125.784 4720.4085,-1130.6144 4725.4789,-1135.4405\" stroke=\"#000000\"/>\n",
       "</g>\n",
       "<!-- 140523112338152 -->\n",
       "<g class=\"node\" id=\"node83\">\n",
       "<title>140523112338152</title>\n",
       "<polygon fill=\"none\" points=\"1438.5,-1079.5 1438.5,-1125.5 1863.5,-1125.5 1863.5,-1079.5 1438.5,-1079.5\" stroke=\"#000000\"/>\n",
       "<text fill=\"#000000\" font-family=\"Times,serif\" font-size=\"14.00\" text-anchor=\"middle\" x=\"1571.5\" y=\"-1098.8\">batch_normalization_32: BatchNormalization</text>\n",
       "<polyline fill=\"none\" points=\"1704.5,-1079.5 1704.5,-1125.5 \" stroke=\"#000000\"/>\n",
       "<text fill=\"#000000\" font-family=\"Times,serif\" font-size=\"14.00\" text-anchor=\"middle\" x=\"1732\" y=\"-1110.3\">input:</text>\n",
       "<polyline fill=\"none\" points=\"1704.5,-1102.5 1759.5,-1102.5 \" stroke=\"#000000\"/>\n",
       "<text fill=\"#000000\" font-family=\"Times,serif\" font-size=\"14.00\" text-anchor=\"middle\" x=\"1732\" y=\"-1087.3\">output:</text>\n",
       "<polyline fill=\"none\" points=\"1759.5,-1079.5 1759.5,-1125.5 \" stroke=\"#000000\"/>\n",
       "<text fill=\"#000000\" font-family=\"Times,serif\" font-size=\"14.00\" text-anchor=\"middle\" x=\"1811.5\" y=\"-1110.3\">(None, 60, 300)</text>\n",
       "<polyline fill=\"none\" points=\"1759.5,-1102.5 1863.5,-1102.5 \" stroke=\"#000000\"/>\n",
       "<text fill=\"#000000\" font-family=\"Times,serif\" font-size=\"14.00\" text-anchor=\"middle\" x=\"1811.5\" y=\"-1087.3\">(None, 60, 300)</text>\n",
       "</g>\n",
       "<!-- 140523112339720&#45;&gt;140523112338152 -->\n",
       "<g class=\"edge\" id=\"edge111\">\n",
       "<title>140523112339720-&gt;140523112338152</title>\n",
       "<path d=\"M1681.3007,-1162.3799C1676.968,-1153.8178 1671.9735,-1143.9477 1667.3052,-1134.7222\" fill=\"none\" stroke=\"#000000\"/>\n",
       "<polygon fill=\"#000000\" points=\"1670.4203,-1133.1264 1662.7823,-1125.784 1664.1745,-1136.287 1670.4203,-1133.1264\" stroke=\"#000000\"/>\n",
       "</g>\n",
       "<!-- 140523110850632 -->\n",
       "<g class=\"node\" id=\"node84\">\n",
       "<title>140523110850632</title>\n",
       "<polygon fill=\"none\" points=\"1881.5,-1079.5 1881.5,-1125.5 2306.5,-1125.5 2306.5,-1079.5 1881.5,-1079.5\" stroke=\"#000000\"/>\n",
       "<text fill=\"#000000\" font-family=\"Times,serif\" font-size=\"14.00\" text-anchor=\"middle\" x=\"2014.5\" y=\"-1098.8\">batch_normalization_33: BatchNormalization</text>\n",
       "<polyline fill=\"none\" points=\"2147.5,-1079.5 2147.5,-1125.5 \" stroke=\"#000000\"/>\n",
       "<text fill=\"#000000\" font-family=\"Times,serif\" font-size=\"14.00\" text-anchor=\"middle\" x=\"2175\" y=\"-1110.3\">input:</text>\n",
       "<polyline fill=\"none\" points=\"2147.5,-1102.5 2202.5,-1102.5 \" stroke=\"#000000\"/>\n",
       "<text fill=\"#000000\" font-family=\"Times,serif\" font-size=\"14.00\" text-anchor=\"middle\" x=\"2175\" y=\"-1087.3\">output:</text>\n",
       "<polyline fill=\"none\" points=\"2202.5,-1079.5 2202.5,-1125.5 \" stroke=\"#000000\"/>\n",
       "<text fill=\"#000000\" font-family=\"Times,serif\" font-size=\"14.00\" text-anchor=\"middle\" x=\"2254.5\" y=\"-1110.3\">(None, 60, 300)</text>\n",
       "<polyline fill=\"none\" points=\"2202.5,-1102.5 2306.5,-1102.5 \" stroke=\"#000000\"/>\n",
       "<text fill=\"#000000\" font-family=\"Times,serif\" font-size=\"14.00\" text-anchor=\"middle\" x=\"2254.5\" y=\"-1087.3\">(None, 60, 300)</text>\n",
       "</g>\n",
       "<!-- 140523110739136&#45;&gt;140523110850632 -->\n",
       "<g class=\"edge\" id=\"edge112\">\n",
       "<title>140523110739136-&gt;140523110850632</title>\n",
       "<path d=\"M2124.3007,-1162.3799C2119.968,-1153.8178 2114.9735,-1143.9477 2110.3052,-1134.7222\" fill=\"none\" stroke=\"#000000\"/>\n",
       "<polygon fill=\"#000000\" points=\"2113.4203,-1133.1264 2105.7823,-1125.784 2107.1745,-1136.287 2113.4203,-1133.1264\" stroke=\"#000000\"/>\n",
       "</g>\n",
       "<!-- 140523109301216 -->\n",
       "<g class=\"node\" id=\"node85\">\n",
       "<title>140523109301216</title>\n",
       "<polygon fill=\"none\" points=\"2324.5,-1079.5 2324.5,-1125.5 2749.5,-1125.5 2749.5,-1079.5 2324.5,-1079.5\" stroke=\"#000000\"/>\n",
       "<text fill=\"#000000\" font-family=\"Times,serif\" font-size=\"14.00\" text-anchor=\"middle\" x=\"2457.5\" y=\"-1098.8\">batch_normalization_34: BatchNormalization</text>\n",
       "<polyline fill=\"none\" points=\"2590.5,-1079.5 2590.5,-1125.5 \" stroke=\"#000000\"/>\n",
       "<text fill=\"#000000\" font-family=\"Times,serif\" font-size=\"14.00\" text-anchor=\"middle\" x=\"2618\" y=\"-1110.3\">input:</text>\n",
       "<polyline fill=\"none\" points=\"2590.5,-1102.5 2645.5,-1102.5 \" stroke=\"#000000\"/>\n",
       "<text fill=\"#000000\" font-family=\"Times,serif\" font-size=\"14.00\" text-anchor=\"middle\" x=\"2618\" y=\"-1087.3\">output:</text>\n",
       "<polyline fill=\"none\" points=\"2645.5,-1079.5 2645.5,-1125.5 \" stroke=\"#000000\"/>\n",
       "<text fill=\"#000000\" font-family=\"Times,serif\" font-size=\"14.00\" text-anchor=\"middle\" x=\"2697.5\" y=\"-1110.3\">(None, 60, 300)</text>\n",
       "<polyline fill=\"none\" points=\"2645.5,-1102.5 2749.5,-1102.5 \" stroke=\"#000000\"/>\n",
       "<text fill=\"#000000\" font-family=\"Times,serif\" font-size=\"14.00\" text-anchor=\"middle\" x=\"2697.5\" y=\"-1087.3\">(None, 60, 300)</text>\n",
       "</g>\n",
       "<!-- 140523109300656&#45;&gt;140523109301216 -->\n",
       "<g class=\"edge\" id=\"edge113\">\n",
       "<title>140523109300656-&gt;140523109301216</title>\n",
       "<path d=\"M2567.3007,-1162.3799C2562.968,-1153.8178 2557.9735,-1143.9477 2553.3052,-1134.7222\" fill=\"none\" stroke=\"#000000\"/>\n",
       "<polygon fill=\"#000000\" points=\"2556.4203,-1133.1264 2548.7823,-1125.784 2550.1745,-1136.287 2556.4203,-1133.1264\" stroke=\"#000000\"/>\n",
       "</g>\n",
       "<!-- 140522939533688 -->\n",
       "<g class=\"node\" id=\"node86\">\n",
       "<title>140522939533688</title>\n",
       "<polygon fill=\"none\" points=\"2767.5,-1079.5 2767.5,-1125.5 3192.5,-1125.5 3192.5,-1079.5 2767.5,-1079.5\" stroke=\"#000000\"/>\n",
       "<text fill=\"#000000\" font-family=\"Times,serif\" font-size=\"14.00\" text-anchor=\"middle\" x=\"2900.5\" y=\"-1098.8\">batch_normalization_35: BatchNormalization</text>\n",
       "<polyline fill=\"none\" points=\"3033.5,-1079.5 3033.5,-1125.5 \" stroke=\"#000000\"/>\n",
       "<text fill=\"#000000\" font-family=\"Times,serif\" font-size=\"14.00\" text-anchor=\"middle\" x=\"3061\" y=\"-1110.3\">input:</text>\n",
       "<polyline fill=\"none\" points=\"3033.5,-1102.5 3088.5,-1102.5 \" stroke=\"#000000\"/>\n",
       "<text fill=\"#000000\" font-family=\"Times,serif\" font-size=\"14.00\" text-anchor=\"middle\" x=\"3061\" y=\"-1087.3\">output:</text>\n",
       "<polyline fill=\"none\" points=\"3088.5,-1079.5 3088.5,-1125.5 \" stroke=\"#000000\"/>\n",
       "<text fill=\"#000000\" font-family=\"Times,serif\" font-size=\"14.00\" text-anchor=\"middle\" x=\"3140.5\" y=\"-1110.3\">(None, 60, 300)</text>\n",
       "<polyline fill=\"none\" points=\"3088.5,-1102.5 3192.5,-1102.5 \" stroke=\"#000000\"/>\n",
       "<text fill=\"#000000\" font-family=\"Times,serif\" font-size=\"14.00\" text-anchor=\"middle\" x=\"3140.5\" y=\"-1087.3\">(None, 60, 300)</text>\n",
       "</g>\n",
       "<!-- 140522939533128&#45;&gt;140522939533688 -->\n",
       "<g class=\"edge\" id=\"edge114\">\n",
       "<title>140522939533128-&gt;140522939533688</title>\n",
       "<path d=\"M2980,-1162.3799C2980,-1154.1745 2980,-1144.7679 2980,-1135.8786\" fill=\"none\" stroke=\"#000000\"/>\n",
       "<polygon fill=\"#000000\" points=\"2983.5001,-1135.784 2980,-1125.784 2976.5001,-1135.784 2983.5001,-1135.784\" stroke=\"#000000\"/>\n",
       "</g>\n",
       "<!-- 140522938123880 -->\n",
       "<g class=\"node\" id=\"node87\">\n",
       "<title>140522938123880</title>\n",
       "<polygon fill=\"none\" points=\"3210.5,-1079.5 3210.5,-1125.5 3635.5,-1125.5 3635.5,-1079.5 3210.5,-1079.5\" stroke=\"#000000\"/>\n",
       "<text fill=\"#000000\" font-family=\"Times,serif\" font-size=\"14.00\" text-anchor=\"middle\" x=\"3343.5\" y=\"-1098.8\">batch_normalization_36: BatchNormalization</text>\n",
       "<polyline fill=\"none\" points=\"3476.5,-1079.5 3476.5,-1125.5 \" stroke=\"#000000\"/>\n",
       "<text fill=\"#000000\" font-family=\"Times,serif\" font-size=\"14.00\" text-anchor=\"middle\" x=\"3504\" y=\"-1110.3\">input:</text>\n",
       "<polyline fill=\"none\" points=\"3476.5,-1102.5 3531.5,-1102.5 \" stroke=\"#000000\"/>\n",
       "<text fill=\"#000000\" font-family=\"Times,serif\" font-size=\"14.00\" text-anchor=\"middle\" x=\"3504\" y=\"-1087.3\">output:</text>\n",
       "<polyline fill=\"none\" points=\"3531.5,-1079.5 3531.5,-1125.5 \" stroke=\"#000000\"/>\n",
       "<text fill=\"#000000\" font-family=\"Times,serif\" font-size=\"14.00\" text-anchor=\"middle\" x=\"3583.5\" y=\"-1110.3\">(None, 60, 300)</text>\n",
       "<polyline fill=\"none\" points=\"3531.5,-1102.5 3635.5,-1102.5 \" stroke=\"#000000\"/>\n",
       "<text fill=\"#000000\" font-family=\"Times,serif\" font-size=\"14.00\" text-anchor=\"middle\" x=\"3583.5\" y=\"-1087.3\">(None, 60, 300)</text>\n",
       "</g>\n",
       "<!-- 140522938125448&#45;&gt;140522938123880 -->\n",
       "<g class=\"edge\" id=\"edge115\">\n",
       "<title>140522938125448-&gt;140522938123880</title>\n",
       "<path d=\"M3392.6993,-1162.3799C3397.032,-1153.8178 3402.0265,-1143.9477 3406.6948,-1134.7222\" fill=\"none\" stroke=\"#000000\"/>\n",
       "<polygon fill=\"#000000\" points=\"3409.8255,-1136.287 3411.2177,-1125.784 3403.5797,-1133.1264 3409.8255,-1136.287\" stroke=\"#000000\"/>\n",
       "</g>\n",
       "<!-- 140522937705192 -->\n",
       "<g class=\"node\" id=\"node88\">\n",
       "<title>140522937705192</title>\n",
       "<polygon fill=\"none\" points=\"2472.5,-996.5 2472.5,-1042.5 3487.5,-1042.5 3487.5,-996.5 2472.5,-996.5\" stroke=\"#000000\"/>\n",
       "<text fill=\"#000000\" font-family=\"Times,serif\" font-size=\"14.00\" text-anchor=\"middle\" x=\"2565.5\" y=\"-1015.8\">concat_selfattn_4: Concatenate</text>\n",
       "<polyline fill=\"none\" points=\"2658.5,-996.5 2658.5,-1042.5 \" stroke=\"#000000\"/>\n",
       "<text fill=\"#000000\" font-family=\"Times,serif\" font-size=\"14.00\" text-anchor=\"middle\" x=\"2686\" y=\"-1027.3\">input:</text>\n",
       "<polyline fill=\"none\" points=\"2658.5,-1019.5 2713.5,-1019.5 \" stroke=\"#000000\"/>\n",
       "<text fill=\"#000000\" font-family=\"Times,serif\" font-size=\"14.00\" text-anchor=\"middle\" x=\"2686\" y=\"-1004.3\">output:</text>\n",
       "<polyline fill=\"none\" points=\"2713.5,-996.5 2713.5,-1042.5 \" stroke=\"#000000\"/>\n",
       "<text fill=\"#000000\" font-family=\"Times,serif\" font-size=\"14.00\" text-anchor=\"middle\" x=\"3100.5\" y=\"-1027.3\">[(None, 60, 300), (None, 60, 300), (None, 60, 300), (None, 60, 300), (None, 60, 300), (None, 60, 300), (None, 60, 300), (None, 60, 300)]</text>\n",
       "<polyline fill=\"none\" points=\"2713.5,-1019.5 3487.5,-1019.5 \" stroke=\"#000000\"/>\n",
       "<text fill=\"#000000\" font-family=\"Times,serif\" font-size=\"14.00\" text-anchor=\"middle\" x=\"3100.5\" y=\"-1004.3\">(None, 60, 2400)</text>\n",
       "</g>\n",
       "<!-- 140523117348736&#45;&gt;140522937705192 -->\n",
       "<g class=\"edge\" id=\"edge116\">\n",
       "<title>140523117348736-&gt;140522937705192</title>\n",
       "<path d=\"M3653.3249,-1079.9165C3650.1957,-1079.6072 3647.0859,-1079.3016 3644,-1079 3517.2534,-1066.6136 3376.7951,-1053.8829 3257.827,-1043.3922\" fill=\"none\" stroke=\"#000000\"/>\n",
       "<polygon fill=\"#000000\" points=\"3258.1138,-1039.904 3247.8452,-1042.5128 3257.4994,-1046.877 3258.1138,-1039.904\" stroke=\"#000000\"/>\n",
       "</g>\n",
       "<!-- 140523115739400&#45;&gt;140522937705192 -->\n",
       "<g class=\"edge\" id=\"edge117\">\n",
       "<title>140523115739400-&gt;140522937705192</title>\n",
       "<path d=\"M4096.3386,-1079.7614C4093.2051,-1079.5005 4090.0907,-1079.2465 4087,-1079 3894.9603,-1063.6851 3683.8567,-1051.2501 3497.9562,-1041.7842\" fill=\"none\" stroke=\"#000000\"/>\n",
       "<polygon fill=\"#000000\" points=\"3497.8856,-1038.2762 3487.721,-1041.2647 3497.5307,-1045.2672 3497.8856,-1038.2762\" stroke=\"#000000\"/>\n",
       "</g>\n",
       "<!-- 140523113809344&#45;&gt;140522937705192 -->\n",
       "<g class=\"edge\" id=\"edge118\">\n",
       "<title>140523113809344-&gt;140522937705192</title>\n",
       "<path d=\"M4539.3437,-1079.6947C4536.2086,-1079.4546 4533.0925,-1079.2228 4530,-1079 4186.5682,-1054.2592 3799.5389,-1039.3897 3498.1326,-1030.7026\" fill=\"none\" stroke=\"#000000\"/>\n",
       "<polygon fill=\"#000000\" points=\"3497.992,-1027.1972 3487.8957,-1030.409 3497.7913,-1034.1943 3497.992,-1027.1972\" stroke=\"#000000\"/>\n",
       "</g>\n",
       "<!-- 140523112338152&#45;&gt;140522937705192 -->\n",
       "<g class=\"edge\" id=\"edge119\">\n",
       "<title>140523112338152-&gt;140522937705192</title>\n",
       "<path d=\"M1863.58,-1079.687C1866.4038,-1079.4522 1869.2115,-1079.223 1872,-1079 2064.3273,-1063.621 2275.762,-1051.1682 2461.914,-1041.7059\" fill=\"none\" stroke=\"#000000\"/>\n",
       "<polygon fill=\"#000000\" points=\"2462.3529,-1045.1883 2472.1629,-1041.1867 2461.9986,-1038.1972 2462.3529,-1045.1883\" stroke=\"#000000\"/>\n",
       "</g>\n",
       "<!-- 140523110850632&#45;&gt;140522937705192 -->\n",
       "<g class=\"edge\" id=\"edge120\">\n",
       "<title>140523110850632-&gt;140522937705192</title>\n",
       "<path d=\"M2306.5925,-1079.8275C2309.4123,-1079.5485 2312.2159,-1079.2726 2315,-1079 2441.7936,-1066.5872 2582.2923,-1053.8654 2701.356,-1043.3878\" fill=\"none\" stroke=\"#000000\"/>\n",
       "<polygon fill=\"#000000\" points=\"2701.6909,-1046.872 2711.346,-1042.5096 2701.0778,-1039.8989 2701.6909,-1046.872\" stroke=\"#000000\"/>\n",
       "</g>\n",
       "<!-- 140523109301216&#45;&gt;140522937705192 -->\n",
       "<g class=\"edge\" id=\"edge121\">\n",
       "<title>140523109301216-&gt;140522937705192</title>\n",
       "<path d=\"M2659.8119,-1079.4901C2718.0259,-1068.5832 2787.6716,-1055.5344 2847.1194,-1044.3964\" fill=\"none\" stroke=\"#000000\"/>\n",
       "<polygon fill=\"#000000\" points=\"2847.7648,-1047.8364 2856.9492,-1042.5547 2846.4757,-1040.9562 2847.7648,-1047.8364\" stroke=\"#000000\"/>\n",
       "</g>\n",
       "<!-- 140522939533688&#45;&gt;140522937705192 -->\n",
       "<g class=\"edge\" id=\"edge122\">\n",
       "<title>140522939533688-&gt;140522937705192</title>\n",
       "<path d=\"M2980,-1079.3799C2980,-1071.1745 2980,-1061.7679 2980,-1052.8786\" fill=\"none\" stroke=\"#000000\"/>\n",
       "<polygon fill=\"#000000\" points=\"2983.5001,-1052.784 2980,-1042.784 2976.5001,-1052.784 2983.5001,-1052.784\" stroke=\"#000000\"/>\n",
       "</g>\n",
       "<!-- 140522938123880&#45;&gt;140522937705192 -->\n",
       "<g class=\"edge\" id=\"edge123\">\n",
       "<title>140522938123880-&gt;140522937705192</title>\n",
       "<path d=\"M3300.1881,-1079.4901C3241.9741,-1068.5832 3172.3284,-1055.5344 3112.8806,-1044.3964\" fill=\"none\" stroke=\"#000000\"/>\n",
       "<polygon fill=\"#000000\" points=\"3113.5243,-1040.9562 3103.0508,-1042.5547 3112.2352,-1047.8364 3113.5243,-1040.9562\" stroke=\"#000000\"/>\n",
       "</g>\n",
       "<!-- 140522936093216 -->\n",
       "<g class=\"node\" id=\"node89\">\n",
       "<title>140522936093216</title>\n",
       "<polygon fill=\"none\" points=\"2098.5,-913.5 2098.5,-959.5 2539.5,-959.5 2539.5,-913.5 2098.5,-913.5\" stroke=\"#000000\"/>\n",
       "<text fill=\"#000000\" font-family=\"Times,serif\" font-size=\"14.00\" text-anchor=\"middle\" x=\"2236.5\" y=\"-932.8\">condense_attention1d_4: CondenseAttention1D</text>\n",
       "<polyline fill=\"none\" points=\"2374.5,-913.5 2374.5,-959.5 \" stroke=\"#000000\"/>\n",
       "<text fill=\"#000000\" font-family=\"Times,serif\" font-size=\"14.00\" text-anchor=\"middle\" x=\"2402\" y=\"-944.3\">input:</text>\n",
       "<polyline fill=\"none\" points=\"2374.5,-936.5 2429.5,-936.5 \" stroke=\"#000000\"/>\n",
       "<text fill=\"#000000\" font-family=\"Times,serif\" font-size=\"14.00\" text-anchor=\"middle\" x=\"2402\" y=\"-921.3\">output:</text>\n",
       "<polyline fill=\"none\" points=\"2429.5,-913.5 2429.5,-959.5 \" stroke=\"#000000\"/>\n",
       "<text fill=\"#000000\" font-family=\"Times,serif\" font-size=\"14.00\" text-anchor=\"middle\" x=\"2484.5\" y=\"-944.3\">(None, 60, 2400)</text>\n",
       "<polyline fill=\"none\" points=\"2429.5,-936.5 2539.5,-936.5 \" stroke=\"#000000\"/>\n",
       "<text fill=\"#000000\" font-family=\"Times,serif\" font-size=\"14.00\" text-anchor=\"middle\" x=\"2484.5\" y=\"-921.3\">(None, 60, 300)</text>\n",
       "</g>\n",
       "<!-- 140522937705192&#45;&gt;140522936093216 -->\n",
       "<g class=\"edge\" id=\"edge124\">\n",
       "<title>140522937705192-&gt;140522936093216</title>\n",
       "<path d=\"M2796.7524,-996.4901C2708.277,-985.3805 2602.1043,-972.0487 2512.3413,-960.7774\" fill=\"none\" stroke=\"#000000\"/>\n",
       "<polygon fill=\"#000000\" points=\"2512.6756,-957.2919 2502.3174,-959.5187 2511.8034,-964.2374 2512.6756,-957.2919\" stroke=\"#000000\"/>\n",
       "</g>\n",
       "<!-- 140522936093216&#45;&gt;140522935980888 -->\n",
       "<g class=\"edge\" id=\"edge126\">\n",
       "<title>140522936093216-&gt;140522935980888</title>\n",
       "<path d=\"M2101.3762,-913.4901C1995.6645,-902.3129 1868.6794,-888.8865 1761.6692,-877.572\" fill=\"none\" stroke=\"#000000\"/>\n",
       "<polygon fill=\"#000000\" points=\"1762.0193,-874.0896 1751.7067,-876.5187 1761.2832,-881.0508 1762.0193,-874.0896\" stroke=\"#000000\"/>\n",
       "</g>\n",
       "<!-- 140522935511528 -->\n",
       "<g class=\"node\" id=\"node91\">\n",
       "<title>140522935511528</title>\n",
       "<polygon fill=\"none\" points=\"1321.5,-747.5 1321.5,-793.5 1746.5,-793.5 1746.5,-747.5 1321.5,-747.5\" stroke=\"#000000\"/>\n",
       "<text fill=\"#000000\" font-family=\"Times,serif\" font-size=\"14.00\" text-anchor=\"middle\" x=\"1454.5\" y=\"-766.8\">batch_normalization_37: BatchNormalization</text>\n",
       "<polyline fill=\"none\" points=\"1587.5,-747.5 1587.5,-793.5 \" stroke=\"#000000\"/>\n",
       "<text fill=\"#000000\" font-family=\"Times,serif\" font-size=\"14.00\" text-anchor=\"middle\" x=\"1615\" y=\"-778.3\">input:</text>\n",
       "<polyline fill=\"none\" points=\"1587.5,-770.5 1642.5,-770.5 \" stroke=\"#000000\"/>\n",
       "<text fill=\"#000000\" font-family=\"Times,serif\" font-size=\"14.00\" text-anchor=\"middle\" x=\"1615\" y=\"-755.3\">output:</text>\n",
       "<polyline fill=\"none\" points=\"1642.5,-747.5 1642.5,-793.5 \" stroke=\"#000000\"/>\n",
       "<text fill=\"#000000\" font-family=\"Times,serif\" font-size=\"14.00\" text-anchor=\"middle\" x=\"1694.5\" y=\"-778.3\">(None, 60, 300)</text>\n",
       "<polyline fill=\"none\" points=\"1642.5,-770.5 1746.5,-770.5 \" stroke=\"#000000\"/>\n",
       "<text fill=\"#000000\" font-family=\"Times,serif\" font-size=\"14.00\" text-anchor=\"middle\" x=\"1694.5\" y=\"-755.3\">(None, 60, 300)</text>\n",
       "</g>\n",
       "<!-- 140522935980888&#45;&gt;140522935511528 -->\n",
       "<g class=\"edge\" id=\"edge127\">\n",
       "<title>140522935980888-&gt;140522935511528</title>\n",
       "<path d=\"M1534,-830.3799C1534,-822.1745 1534,-812.7679 1534,-803.8786\" fill=\"none\" stroke=\"#000000\"/>\n",
       "<polygon fill=\"#000000\" points=\"1537.5001,-803.784 1534,-793.784 1530.5001,-803.784 1537.5001,-803.784\" stroke=\"#000000\"/>\n",
       "</g>\n",
       "<!-- 140522935980440 -->\n",
       "<g class=\"node\" id=\"node92\">\n",
       "<title>140522935980440</title>\n",
       "<polygon fill=\"none\" points=\"1362,-664.5 1362,-710.5 1706,-710.5 1706,-664.5 1362,-664.5\" stroke=\"#000000\"/>\n",
       "<text fill=\"#000000\" font-family=\"Times,serif\" font-size=\"14.00\" text-anchor=\"middle\" x=\"1454.5\" y=\"-683.8\">gap: GlobalAveragePooling1D</text>\n",
       "<polyline fill=\"none\" points=\"1547,-664.5 1547,-710.5 \" stroke=\"#000000\"/>\n",
       "<text fill=\"#000000\" font-family=\"Times,serif\" font-size=\"14.00\" text-anchor=\"middle\" x=\"1574.5\" y=\"-695.3\">input:</text>\n",
       "<polyline fill=\"none\" points=\"1547,-687.5 1602,-687.5 \" stroke=\"#000000\"/>\n",
       "<text fill=\"#000000\" font-family=\"Times,serif\" font-size=\"14.00\" text-anchor=\"middle\" x=\"1574.5\" y=\"-672.3\">output:</text>\n",
       "<polyline fill=\"none\" points=\"1602,-664.5 1602,-710.5 \" stroke=\"#000000\"/>\n",
       "<text fill=\"#000000\" font-family=\"Times,serif\" font-size=\"14.00\" text-anchor=\"middle\" x=\"1654\" y=\"-695.3\">(None, 60, 300)</text>\n",
       "<polyline fill=\"none\" points=\"1602,-687.5 1706,-687.5 \" stroke=\"#000000\"/>\n",
       "<text fill=\"#000000\" font-family=\"Times,serif\" font-size=\"14.00\" text-anchor=\"middle\" x=\"1654\" y=\"-672.3\">(None, 300)</text>\n",
       "</g>\n",
       "<!-- 140522935511528&#45;&gt;140522935980440 -->\n",
       "<g class=\"edge\" id=\"edge128\">\n",
       "<title>140522935511528-&gt;140522935980440</title>\n",
       "<path d=\"M1534,-747.3799C1534,-739.1745 1534,-729.7679 1534,-720.8786\" fill=\"none\" stroke=\"#000000\"/>\n",
       "<polygon fill=\"#000000\" points=\"1537.5001,-720.784 1534,-710.784 1530.5001,-720.784 1537.5001,-720.784\" stroke=\"#000000\"/>\n",
       "</g>\n",
       "<!-- 140522935224528 -->\n",
       "<g class=\"node\" id=\"node93\">\n",
       "<title>140522935224528</title>\n",
       "<polygon fill=\"none\" points=\"2074,-581.5 2074,-627.5 2410,-627.5 2410,-581.5 2074,-581.5\" stroke=\"#000000\"/>\n",
       "<text fill=\"#000000\" font-family=\"Times,serif\" font-size=\"14.00\" text-anchor=\"middle\" x=\"2121.5\" y=\"-600.8\">a10: Attention</text>\n",
       "<polyline fill=\"none\" points=\"2169,-581.5 2169,-627.5 \" stroke=\"#000000\"/>\n",
       "<text fill=\"#000000\" font-family=\"Times,serif\" font-size=\"14.00\" text-anchor=\"middle\" x=\"2196.5\" y=\"-612.3\">input:</text>\n",
       "<polyline fill=\"none\" points=\"2169,-604.5 2224,-604.5 \" stroke=\"#000000\"/>\n",
       "<text fill=\"#000000\" font-family=\"Times,serif\" font-size=\"14.00\" text-anchor=\"middle\" x=\"2196.5\" y=\"-589.3\">output:</text>\n",
       "<polyline fill=\"none\" points=\"2224,-581.5 2224,-627.5 \" stroke=\"#000000\"/>\n",
       "<text fill=\"#000000\" font-family=\"Times,serif\" font-size=\"14.00\" text-anchor=\"middle\" x=\"2317\" y=\"-612.3\">[(None, 300), (None, 60, 300)]</text>\n",
       "<polyline fill=\"none\" points=\"2224,-604.5 2410,-604.5 \" stroke=\"#000000\"/>\n",
       "<text fill=\"#000000\" font-family=\"Times,serif\" font-size=\"14.00\" text-anchor=\"middle\" x=\"2317\" y=\"-589.3\">[(None, 1, 300), (1, 60)]</text>\n",
       "</g>\n",
       "<!-- 140522935511528&#45;&gt;140522935224528 -->\n",
       "<g class=\"edge\" id=\"edge130\">\n",
       "<title>140522935511528-&gt;140522935224528</title>\n",
       "<path d=\"M2242,-687.5C2253.7386,-674.3048 2254.2373,-654.7198 2251.5679,-637.8878\" fill=\"none\" stroke=\"#000000\"/>\n",
       "<polygon fill=\"#000000\" points=\"2254.9537,-636.9691 2249.5685,-627.845 2248.0885,-638.3359 2254.9537,-636.9691\" stroke=\"#000000\"/>\n",
       "</g>\n",
       "<!-- 140522933241784 -->\n",
       "<g class=\"node\" id=\"node94\">\n",
       "<title>140522933241784</title>\n",
       "<polygon fill=\"none\" points=\"2428,-581.5 2428,-627.5 2764,-627.5 2764,-581.5 2428,-581.5\" stroke=\"#000000\"/>\n",
       "<text fill=\"#000000\" font-family=\"Times,serif\" font-size=\"14.00\" text-anchor=\"middle\" x=\"2475.5\" y=\"-600.8\">a11: Attention</text>\n",
       "<polyline fill=\"none\" points=\"2523,-581.5 2523,-627.5 \" stroke=\"#000000\"/>\n",
       "<text fill=\"#000000\" font-family=\"Times,serif\" font-size=\"14.00\" text-anchor=\"middle\" x=\"2550.5\" y=\"-612.3\">input:</text>\n",
       "<polyline fill=\"none\" points=\"2523,-604.5 2578,-604.5 \" stroke=\"#000000\"/>\n",
       "<text fill=\"#000000\" font-family=\"Times,serif\" font-size=\"14.00\" text-anchor=\"middle\" x=\"2550.5\" y=\"-589.3\">output:</text>\n",
       "<polyline fill=\"none\" points=\"2578,-581.5 2578,-627.5 \" stroke=\"#000000\"/>\n",
       "<text fill=\"#000000\" font-family=\"Times,serif\" font-size=\"14.00\" text-anchor=\"middle\" x=\"2671\" y=\"-612.3\">[(None, 300), (None, 60, 300)]</text>\n",
       "<polyline fill=\"none\" points=\"2578,-604.5 2764,-604.5 \" stroke=\"#000000\"/>\n",
       "<text fill=\"#000000\" font-family=\"Times,serif\" font-size=\"14.00\" text-anchor=\"middle\" x=\"2671\" y=\"-589.3\">[(None, 1, 300), (1, 60)]</text>\n",
       "</g>\n",
       "<!-- 140522935511528&#45;&gt;140522933241784 -->\n",
       "<g class=\"edge\" id=\"edge132\">\n",
       "<title>140522935511528-&gt;140522933241784</title>\n",
       "<path d=\"M2242,-687.5C2256.8266,-670.8338 2363.2029,-647.268 2455.511,-629.5029\" fill=\"none\" stroke=\"#000000\"/>\n",
       "<polygon fill=\"#000000\" points=\"2456.3758,-632.901 2465.5402,-627.5847 2455.0607,-626.0256 2456.3758,-632.901\" stroke=\"#000000\"/>\n",
       "</g>\n",
       "<!-- 140522931787592 -->\n",
       "<g class=\"node\" id=\"node95\">\n",
       "<title>140522931787592</title>\n",
       "<polygon fill=\"none\" points=\"2782,-581.5 2782,-627.5 3118,-627.5 3118,-581.5 2782,-581.5\" stroke=\"#000000\"/>\n",
       "<text fill=\"#000000\" font-family=\"Times,serif\" font-size=\"14.00\" text-anchor=\"middle\" x=\"2829.5\" y=\"-600.8\">a12: Attention</text>\n",
       "<polyline fill=\"none\" points=\"2877,-581.5 2877,-627.5 \" stroke=\"#000000\"/>\n",
       "<text fill=\"#000000\" font-family=\"Times,serif\" font-size=\"14.00\" text-anchor=\"middle\" x=\"2904.5\" y=\"-612.3\">input:</text>\n",
       "<polyline fill=\"none\" points=\"2877,-604.5 2932,-604.5 \" stroke=\"#000000\"/>\n",
       "<text fill=\"#000000\" font-family=\"Times,serif\" font-size=\"14.00\" text-anchor=\"middle\" x=\"2904.5\" y=\"-589.3\">output:</text>\n",
       "<polyline fill=\"none\" points=\"2932,-581.5 2932,-627.5 \" stroke=\"#000000\"/>\n",
       "<text fill=\"#000000\" font-family=\"Times,serif\" font-size=\"14.00\" text-anchor=\"middle\" x=\"3025\" y=\"-612.3\">[(None, 300), (None, 60, 300)]</text>\n",
       "<polyline fill=\"none\" points=\"2932,-604.5 3118,-604.5 \" stroke=\"#000000\"/>\n",
       "<text fill=\"#000000\" font-family=\"Times,serif\" font-size=\"14.00\" text-anchor=\"middle\" x=\"3025\" y=\"-589.3\">[(None, 1, 300), (1, 60)]</text>\n",
       "</g>\n",
       "<!-- 140522935511528&#45;&gt;140522931787592 -->\n",
       "<g class=\"edge\" id=\"edge134\">\n",
       "<title>140522935511528-&gt;140522931787592</title>\n",
       "<path d=\"M2242,-687.5C2318.9177,-601.0383 2638.3336,-640.2949 2771.7987,-627.9807\" fill=\"none\" stroke=\"#000000\"/>\n",
       "<polygon fill=\"#000000\" points=\"2772.2709,-631.4503 2781.8436,-626.9102 2771.529,-624.4897 2772.2709,-631.4503\" stroke=\"#000000\"/>\n",
       "</g>\n",
       "<!-- 140522929801144 -->\n",
       "<g class=\"node\" id=\"node96\">\n",
       "<title>140522929801144</title>\n",
       "<polygon fill=\"none\" points=\"246,-581.5 246,-627.5 582,-627.5 582,-581.5 246,-581.5\" stroke=\"#000000\"/>\n",
       "<text fill=\"#000000\" font-family=\"Times,serif\" font-size=\"14.00\" text-anchor=\"middle\" x=\"293.5\" y=\"-600.8\">a13: Attention</text>\n",
       "<polyline fill=\"none\" points=\"341,-581.5 341,-627.5 \" stroke=\"#000000\"/>\n",
       "<text fill=\"#000000\" font-family=\"Times,serif\" font-size=\"14.00\" text-anchor=\"middle\" x=\"368.5\" y=\"-612.3\">input:</text>\n",
       "<polyline fill=\"none\" points=\"341,-604.5 396,-604.5 \" stroke=\"#000000\"/>\n",
       "<text fill=\"#000000\" font-family=\"Times,serif\" font-size=\"14.00\" text-anchor=\"middle\" x=\"368.5\" y=\"-589.3\">output:</text>\n",
       "<polyline fill=\"none\" points=\"396,-581.5 396,-627.5 \" stroke=\"#000000\"/>\n",
       "<text fill=\"#000000\" font-family=\"Times,serif\" font-size=\"14.00\" text-anchor=\"middle\" x=\"489\" y=\"-612.3\">[(None, 300), (None, 60, 300)]</text>\n",
       "<polyline fill=\"none\" points=\"396,-604.5 582,-604.5 \" stroke=\"#000000\"/>\n",
       "<text fill=\"#000000\" font-family=\"Times,serif\" font-size=\"14.00\" text-anchor=\"middle\" x=\"489\" y=\"-589.3\">[(None, 1, 300), (1, 60)]</text>\n",
       "</g>\n",
       "<!-- 140522935511528&#45;&gt;140522929801144 -->\n",
       "<g class=\"edge\" id=\"edge136\">\n",
       "<title>140522935511528-&gt;140522929801144</title>\n",
       "<path d=\"M1321.178,-755.9406C1207.7549,-744.3461 1066.8663,-723.7654 945,-687.5\" fill=\"none\" stroke=\"#000000\"/>\n",
       "<path d=\"M945,-687.5C910.7483,-677.3073 727.3298,-649.5899 585.5427,-628.9727\" fill=\"none\" stroke=\"#000000\"/>\n",
       "<polygon fill=\"#000000\" points=\"585.8079,-625.4746 575.4086,-627.5009 584.8017,-632.4019 585.8079,-625.4746\" stroke=\"#000000\"/>\n",
       "</g>\n",
       "<!-- 140522928351272 -->\n",
       "<g class=\"node\" id=\"node97\">\n",
       "<title>140522928351272</title>\n",
       "<polygon fill=\"none\" points=\"600,-581.5 600,-627.5 936,-627.5 936,-581.5 600,-581.5\" stroke=\"#000000\"/>\n",
       "<text fill=\"#000000\" font-family=\"Times,serif\" font-size=\"14.00\" text-anchor=\"middle\" x=\"647.5\" y=\"-600.8\">a14: Attention</text>\n",
       "<polyline fill=\"none\" points=\"695,-581.5 695,-627.5 \" stroke=\"#000000\"/>\n",
       "<text fill=\"#000000\" font-family=\"Times,serif\" font-size=\"14.00\" text-anchor=\"middle\" x=\"722.5\" y=\"-612.3\">input:</text>\n",
       "<polyline fill=\"none\" points=\"695,-604.5 750,-604.5 \" stroke=\"#000000\"/>\n",
       "<text fill=\"#000000\" font-family=\"Times,serif\" font-size=\"14.00\" text-anchor=\"middle\" x=\"722.5\" y=\"-589.3\">output:</text>\n",
       "<polyline fill=\"none\" points=\"750,-581.5 750,-627.5 \" stroke=\"#000000\"/>\n",
       "<text fill=\"#000000\" font-family=\"Times,serif\" font-size=\"14.00\" text-anchor=\"middle\" x=\"843\" y=\"-612.3\">[(None, 300), (None, 60, 300)]</text>\n",
       "<polyline fill=\"none\" points=\"750,-604.5 936,-604.5 \" stroke=\"#000000\"/>\n",
       "<text fill=\"#000000\" font-family=\"Times,serif\" font-size=\"14.00\" text-anchor=\"middle\" x=\"843\" y=\"-589.3\">[(None, 1, 300), (1, 60)]</text>\n",
       "</g>\n",
       "<!-- 140522935511528&#45;&gt;140522928351272 -->\n",
       "<g class=\"edge\" id=\"edge138\">\n",
       "<title>140522935511528-&gt;140522928351272</title>\n",
       "<path d=\"M945,-687.5C899.9089,-674.0816 851.7554,-650.8606 817.0754,-632.3862\" fill=\"none\" stroke=\"#000000\"/>\n",
       "<polygon fill=\"#000000\" points=\"818.5766,-629.2194 808.1128,-627.5576 815.2564,-635.3819 818.5766,-629.2194\" stroke=\"#000000\"/>\n",
       "</g>\n",
       "<!-- 140522926457520 -->\n",
       "<g class=\"node\" id=\"node98\">\n",
       "<title>140522926457520</title>\n",
       "<polygon fill=\"none\" points=\"954,-581.5 954,-627.5 1290,-627.5 1290,-581.5 954,-581.5\" stroke=\"#000000\"/>\n",
       "<text fill=\"#000000\" font-family=\"Times,serif\" font-size=\"14.00\" text-anchor=\"middle\" x=\"1001.5\" y=\"-600.8\">a15: Attention</text>\n",
       "<polyline fill=\"none\" points=\"1049,-581.5 1049,-627.5 \" stroke=\"#000000\"/>\n",
       "<text fill=\"#000000\" font-family=\"Times,serif\" font-size=\"14.00\" text-anchor=\"middle\" x=\"1076.5\" y=\"-612.3\">input:</text>\n",
       "<polyline fill=\"none\" points=\"1049,-604.5 1104,-604.5 \" stroke=\"#000000\"/>\n",
       "<text fill=\"#000000\" font-family=\"Times,serif\" font-size=\"14.00\" text-anchor=\"middle\" x=\"1076.5\" y=\"-589.3\">output:</text>\n",
       "<polyline fill=\"none\" points=\"1104,-581.5 1104,-627.5 \" stroke=\"#000000\"/>\n",
       "<text fill=\"#000000\" font-family=\"Times,serif\" font-size=\"14.00\" text-anchor=\"middle\" x=\"1197\" y=\"-612.3\">[(None, 300), (None, 60, 300)]</text>\n",
       "<polyline fill=\"none\" points=\"1104,-604.5 1290,-604.5 \" stroke=\"#000000\"/>\n",
       "<text fill=\"#000000\" font-family=\"Times,serif\" font-size=\"14.00\" text-anchor=\"middle\" x=\"1197\" y=\"-589.3\">[(None, 1, 300), (1, 60)]</text>\n",
       "</g>\n",
       "<!-- 140522935511528&#45;&gt;140522926457520 -->\n",
       "<g class=\"edge\" id=\"edge140\">\n",
       "<title>140522935511528-&gt;140522926457520</title>\n",
       "<path d=\"M945,-687.5C898.2779,-673.5963 959.6961,-649.1679 1022.6186,-630.4009\" fill=\"none\" stroke=\"#000000\"/>\n",
       "<polygon fill=\"#000000\" points=\"1023.6968,-633.7322 1032.3064,-627.5576 1021.7255,-627.0155 1023.6968,-633.7322\" stroke=\"#000000\"/>\n",
       "</g>\n",
       "<!-- 140522924894024 -->\n",
       "<g class=\"node\" id=\"node99\">\n",
       "<title>140522924894024</title>\n",
       "<polygon fill=\"none\" points=\"1366,-581.5 1366,-627.5 1702,-627.5 1702,-581.5 1366,-581.5\" stroke=\"#000000\"/>\n",
       "<text fill=\"#000000\" font-family=\"Times,serif\" font-size=\"14.00\" text-anchor=\"middle\" x=\"1413.5\" y=\"-600.8\">a16: Attention</text>\n",
       "<polyline fill=\"none\" points=\"1461,-581.5 1461,-627.5 \" stroke=\"#000000\"/>\n",
       "<text fill=\"#000000\" font-family=\"Times,serif\" font-size=\"14.00\" text-anchor=\"middle\" x=\"1488.5\" y=\"-612.3\">input:</text>\n",
       "<polyline fill=\"none\" points=\"1461,-604.5 1516,-604.5 \" stroke=\"#000000\"/>\n",
       "<text fill=\"#000000\" font-family=\"Times,serif\" font-size=\"14.00\" text-anchor=\"middle\" x=\"1488.5\" y=\"-589.3\">output:</text>\n",
       "<polyline fill=\"none\" points=\"1516,-581.5 1516,-627.5 \" stroke=\"#000000\"/>\n",
       "<text fill=\"#000000\" font-family=\"Times,serif\" font-size=\"14.00\" text-anchor=\"middle\" x=\"1609\" y=\"-612.3\">[(None, 300), (None, 60, 300)]</text>\n",
       "<polyline fill=\"none\" points=\"1516,-604.5 1702,-604.5 \" stroke=\"#000000\"/>\n",
       "<text fill=\"#000000\" font-family=\"Times,serif\" font-size=\"14.00\" text-anchor=\"middle\" x=\"1609\" y=\"-589.3\">[(None, 1, 300), (1, 60)]</text>\n",
       "</g>\n",
       "<!-- 140522935511528&#45;&gt;140522924894024 -->\n",
       "<g class=\"edge\" id=\"edge142\">\n",
       "<title>140522935511528-&gt;140522924894024</title>\n",
       "<path d=\"M1746.9043,-759.6697C1943.2705,-747.4437 2209.251,-724.3125 2242,-687.5\" fill=\"none\" stroke=\"#000000\"/>\n",
       "<path d=\"M2242,-687.5C2318.9177,-601.0383 1853.4784,-640.2949 1712.4989,-627.9807\" fill=\"none\" stroke=\"#000000\"/>\n",
       "<polygon fill=\"#000000\" points=\"1712.4636,-624.4585 1702.1564,-626.9102 1711.7428,-631.4213 1712.4636,-624.4585\" stroke=\"#000000\"/>\n",
       "</g>\n",
       "<!-- 140522923423952 -->\n",
       "<g class=\"node\" id=\"node100\">\n",
       "<title>140522923423952</title>\n",
       "<polygon fill=\"none\" points=\"1720,-581.5 1720,-627.5 2056,-627.5 2056,-581.5 1720,-581.5\" stroke=\"#000000\"/>\n",
       "<text fill=\"#000000\" font-family=\"Times,serif\" font-size=\"14.00\" text-anchor=\"middle\" x=\"1767.5\" y=\"-600.8\">a17: Attention</text>\n",
       "<polyline fill=\"none\" points=\"1815,-581.5 1815,-627.5 \" stroke=\"#000000\"/>\n",
       "<text fill=\"#000000\" font-family=\"Times,serif\" font-size=\"14.00\" text-anchor=\"middle\" x=\"1842.5\" y=\"-612.3\">input:</text>\n",
       "<polyline fill=\"none\" points=\"1815,-604.5 1870,-604.5 \" stroke=\"#000000\"/>\n",
       "<text fill=\"#000000\" font-family=\"Times,serif\" font-size=\"14.00\" text-anchor=\"middle\" x=\"1842.5\" y=\"-589.3\">output:</text>\n",
       "<polyline fill=\"none\" points=\"1870,-581.5 1870,-627.5 \" stroke=\"#000000\"/>\n",
       "<text fill=\"#000000\" font-family=\"Times,serif\" font-size=\"14.00\" text-anchor=\"middle\" x=\"1963\" y=\"-612.3\">[(None, 300), (None, 60, 300)]</text>\n",
       "<polyline fill=\"none\" points=\"1870,-604.5 2056,-604.5 \" stroke=\"#000000\"/>\n",
       "<text fill=\"#000000\" font-family=\"Times,serif\" font-size=\"14.00\" text-anchor=\"middle\" x=\"1963\" y=\"-589.3\">[(None, 1, 300), (1, 60)]</text>\n",
       "</g>\n",
       "<!-- 140522935511528&#45;&gt;140522923423952 -->\n",
       "<g class=\"edge\" id=\"edge144\">\n",
       "<title>140522935511528-&gt;140522923423952</title>\n",
       "<path d=\"M2242,-687.5C2256.8843,-670.7689 2146.5036,-647.0845 2045.1525,-629.2957\" fill=\"none\" stroke=\"#000000\"/>\n",
       "<polygon fill=\"#000000\" points=\"2045.5149,-625.8062 2035.0626,-627.5387 2044.3139,-632.7024 2045.5149,-625.8062\" stroke=\"#000000\"/>\n",
       "</g>\n",
       "<!-- 140522935980440&#45;&gt;140522935224528 -->\n",
       "<g class=\"edge\" id=\"edge129\">\n",
       "<title>140522935980440-&gt;140522935224528</title>\n",
       "<path d=\"M1706.2861,-669.0948C1807.498,-658.0643 1938.1988,-643.4455 2063.6627,-628.1539\" fill=\"none\" stroke=\"#000000\"/>\n",
       "<polygon fill=\"#000000\" points=\"2064.3419,-631.5971 2073.8436,-626.9102 2063.493,-624.6487 2064.3419,-631.5971\" stroke=\"#000000\"/>\n",
       "</g>\n",
       "<!-- 140522935980440&#45;&gt;140522933241784 -->\n",
       "<g class=\"edge\" id=\"edge131\">\n",
       "<title>140522935980440-&gt;140522933241784</title>\n",
       "<path d=\"M1706.0022,-679.2464C1882.176,-670.0271 2164.1713,-653.1535 2417.7174,-628.0996\" fill=\"none\" stroke=\"#000000\"/>\n",
       "<polygon fill=\"#000000\" points=\"2418.259,-631.5631 2427.8637,-627.0911 2417.5665,-624.5975 2418.259,-631.5631\" stroke=\"#000000\"/>\n",
       "</g>\n",
       "<!-- 140522935980440&#45;&gt;140522931787592 -->\n",
       "<g class=\"edge\" id=\"edge133\">\n",
       "<title>140522935980440-&gt;140522931787592</title>\n",
       "<path d=\"M1706.2737,-681.0202C1992.0126,-669.9758 2553.2991,-646.9447 2771.7312,-628.065\" fill=\"none\" stroke=\"#000000\"/>\n",
       "<polygon fill=\"#000000\" points=\"2772.218,-631.5357 2781.8711,-627.1692 2771.6019,-624.5629 2772.218,-631.5357\" stroke=\"#000000\"/>\n",
       "</g>\n",
       "<!-- 140522935980440&#45;&gt;140522929801144 -->\n",
       "<g class=\"edge\" id=\"edge135\">\n",
       "<title>140522935980440-&gt;140522929801144</title>\n",
       "<path d=\"M1361.6384,-680.1981C1174.6639,-671.4547 867.1835,-654.6854 592.31,-628.0981\" fill=\"none\" stroke=\"#000000\"/>\n",
       "<polygon fill=\"#000000\" points=\"592.4266,-624.593 582.1346,-627.1079 591.7486,-631.5601 592.4266,-624.593\" stroke=\"#000000\"/>\n",
       "</g>\n",
       "<!-- 140522935980440&#45;&gt;140522928351272 -->\n",
       "<g class=\"edge\" id=\"edge137\">\n",
       "<title>140522935980440-&gt;140522928351272</title>\n",
       "<path d=\"M1361.8103,-671.5388C1246.9244,-660.5456 1092.2379,-645.0865 946.2031,-628.126\" fill=\"none\" stroke=\"#000000\"/>\n",
       "<polygon fill=\"#000000\" points=\"946.489,-624.6357 936.1511,-626.9545 945.6787,-631.5886 946.489,-624.6357\" stroke=\"#000000\"/>\n",
       "</g>\n",
       "<!-- 140522935980440&#45;&gt;140522926457520 -->\n",
       "<g class=\"edge\" id=\"edge139\">\n",
       "<title>140522935980440-&gt;140522926457520</title>\n",
       "<path d=\"M1419.7822,-664.4901C1365.8651,-653.6282 1301.4037,-640.642 1246.2664,-629.5343\" fill=\"none\" stroke=\"#000000\"/>\n",
       "<polygon fill=\"#000000\" points=\"1246.9343,-626.0986 1236.44,-627.5547 1245.5518,-632.9607 1246.9343,-626.0986\" stroke=\"#000000\"/>\n",
       "</g>\n",
       "<!-- 140522935980440&#45;&gt;140522924894024 -->\n",
       "<g class=\"edge\" id=\"edge141\">\n",
       "<title>140522935980440-&gt;140522924894024</title>\n",
       "<path d=\"M1534,-664.3799C1534,-656.1745 1534,-646.7679 1534,-637.8786\" fill=\"none\" stroke=\"#000000\"/>\n",
       "<polygon fill=\"#000000\" points=\"1537.5001,-637.784 1534,-627.784 1530.5001,-637.784 1537.5001,-637.784\" stroke=\"#000000\"/>\n",
       "</g>\n",
       "<!-- 140522935980440&#45;&gt;140522923423952 -->\n",
       "<g class=\"edge\" id=\"edge143\">\n",
       "<title>140522935980440-&gt;140522923423952</title>\n",
       "<path d=\"M1632.1386,-664.4901C1677.9859,-653.7406 1732.7064,-640.9107 1779.7535,-629.8798\" fill=\"none\" stroke=\"#000000\"/>\n",
       "<polygon fill=\"#000000\" points=\"1780.7335,-633.2451 1789.6705,-627.5547 1779.1355,-626.4299 1780.7335,-633.2451\" stroke=\"#000000\"/>\n",
       "</g>\n",
       "<!-- 140522920849872 -->\n",
       "<g class=\"node\" id=\"node112\">\n",
       "<title>140522920849872</title>\n",
       "<polygon fill=\"none\" points=\"1168.5,-166.5 1168.5,-212.5 1647.5,-212.5 1647.5,-166.5 1168.5,-166.5\" stroke=\"#000000\"/>\n",
       "<text fill=\"#000000\" font-family=\"Times,serif\" font-size=\"14.00\" text-anchor=\"middle\" x=\"1298\" y=\"-185.8\">residual_combine_attn_1: ResidualCombine</text>\n",
       "<polyline fill=\"none\" points=\"1427.5,-166.5 1427.5,-212.5 \" stroke=\"#000000\"/>\n",
       "<text fill=\"#000000\" font-family=\"Times,serif\" font-size=\"14.00\" text-anchor=\"middle\" x=\"1455\" y=\"-197.3\">input:</text>\n",
       "<polyline fill=\"none\" points=\"1427.5,-189.5 1482.5,-189.5 \" stroke=\"#000000\"/>\n",
       "<text fill=\"#000000\" font-family=\"Times,serif\" font-size=\"14.00\" text-anchor=\"middle\" x=\"1455\" y=\"-174.3\">output:</text>\n",
       "<polyline fill=\"none\" points=\"1482.5,-166.5 1482.5,-212.5 \" stroke=\"#000000\"/>\n",
       "<text fill=\"#000000\" font-family=\"Times,serif\" font-size=\"14.00\" text-anchor=\"middle\" x=\"1565\" y=\"-197.3\">[(None, 300), (None, 300)]</text>\n",
       "<polyline fill=\"none\" points=\"1482.5,-189.5 1647.5,-189.5 \" stroke=\"#000000\"/>\n",
       "<text fill=\"#000000\" font-family=\"Times,serif\" font-size=\"14.00\" text-anchor=\"middle\" x=\"1565\" y=\"-174.3\">[(None, 300), (1,), (1,)]</text>\n",
       "</g>\n",
       "<!-- 140522935980440&#45;&gt;140522920849872 -->\n",
       "<g class=\"edge\" id=\"edge163\">\n",
       "<title>140522935980440-&gt;140522920849872</title>\n",
       "<path d=\"M1416.1302,-664.3475C1394.4508,-655.7837 1373.4919,-644.0567 1357,-628 1320.8834,-592.8364 1318,-571.9072 1318,-521.5 1318,-521.5 1318,-521.5 1318,-355.5 1318,-303.4384 1352.6346,-252.0875 1378.933,-220.6005\" fill=\"none\" stroke=\"#000000\"/>\n",
       "<polygon fill=\"#000000\" points=\"1381.8993,-222.518 1385.7528,-212.6488 1376.5859,-217.9609 1381.8993,-222.518\" stroke=\"#000000\"/>\n",
       "</g>\n",
       "<!-- 140522935223184 -->\n",
       "<g class=\"node\" id=\"node101\">\n",
       "<title>140522935223184</title>\n",
       "<polygon fill=\"none\" points=\"2218,-498.5 2218,-544.5 2636,-544.5 2636,-498.5 2218,-498.5\" stroke=\"#000000\"/>\n",
       "<text fill=\"#000000\" font-family=\"Times,serif\" font-size=\"14.00\" text-anchor=\"middle\" x=\"2351\" y=\"-517.8\">batch_normalization_38: BatchNormalization</text>\n",
       "<polyline fill=\"none\" points=\"2484,-498.5 2484,-544.5 \" stroke=\"#000000\"/>\n",
       "<text fill=\"#000000\" font-family=\"Times,serif\" font-size=\"14.00\" text-anchor=\"middle\" x=\"2511.5\" y=\"-529.3\">input:</text>\n",
       "<polyline fill=\"none\" points=\"2484,-521.5 2539,-521.5 \" stroke=\"#000000\"/>\n",
       "<text fill=\"#000000\" font-family=\"Times,serif\" font-size=\"14.00\" text-anchor=\"middle\" x=\"2511.5\" y=\"-506.3\">output:</text>\n",
       "<polyline fill=\"none\" points=\"2539,-498.5 2539,-544.5 \" stroke=\"#000000\"/>\n",
       "<text fill=\"#000000\" font-family=\"Times,serif\" font-size=\"14.00\" text-anchor=\"middle\" x=\"2587.5\" y=\"-529.3\">(None, 1, 300)</text>\n",
       "<polyline fill=\"none\" points=\"2539,-521.5 2636,-521.5 \" stroke=\"#000000\"/>\n",
       "<text fill=\"#000000\" font-family=\"Times,serif\" font-size=\"14.00\" text-anchor=\"middle\" x=\"2587.5\" y=\"-506.3\">(None, 1, 300)</text>\n",
       "</g>\n",
       "<!-- 140522935224528&#45;&gt;140522935223184 -->\n",
       "<g class=\"edge\" id=\"edge145\">\n",
       "<title>140522935224528-&gt;140522935223184</title>\n",
       "<path d=\"M2293.5328,-581.3799C2316.0908,-571.2592 2342.7224,-559.311 2366.2393,-548.7602\" fill=\"none\" stroke=\"#000000\"/>\n",
       "<polygon fill=\"#000000\" points=\"2367.7319,-551.9267 2375.423,-544.6399 2364.8665,-545.5401 2367.7319,-551.9267\" stroke=\"#000000\"/>\n",
       "</g>\n",
       "<!-- 140522933240216 -->\n",
       "<g class=\"node\" id=\"node102\">\n",
       "<title>140522933240216</title>\n",
       "<polygon fill=\"none\" points=\"2654,-498.5 2654,-544.5 3072,-544.5 3072,-498.5 2654,-498.5\" stroke=\"#000000\"/>\n",
       "<text fill=\"#000000\" font-family=\"Times,serif\" font-size=\"14.00\" text-anchor=\"middle\" x=\"2787\" y=\"-517.8\">batch_normalization_39: BatchNormalization</text>\n",
       "<polyline fill=\"none\" points=\"2920,-498.5 2920,-544.5 \" stroke=\"#000000\"/>\n",
       "<text fill=\"#000000\" font-family=\"Times,serif\" font-size=\"14.00\" text-anchor=\"middle\" x=\"2947.5\" y=\"-529.3\">input:</text>\n",
       "<polyline fill=\"none\" points=\"2920,-521.5 2975,-521.5 \" stroke=\"#000000\"/>\n",
       "<text fill=\"#000000\" font-family=\"Times,serif\" font-size=\"14.00\" text-anchor=\"middle\" x=\"2947.5\" y=\"-506.3\">output:</text>\n",
       "<polyline fill=\"none\" points=\"2975,-498.5 2975,-544.5 \" stroke=\"#000000\"/>\n",
       "<text fill=\"#000000\" font-family=\"Times,serif\" font-size=\"14.00\" text-anchor=\"middle\" x=\"3023.5\" y=\"-529.3\">(None, 1, 300)</text>\n",
       "<polyline fill=\"none\" points=\"2975,-521.5 3072,-521.5 \" stroke=\"#000000\"/>\n",
       "<text fill=\"#000000\" font-family=\"Times,serif\" font-size=\"14.00\" text-anchor=\"middle\" x=\"3023.5\" y=\"-506.3\">(None, 1, 300)</text>\n",
       "</g>\n",
       "<!-- 140522933241784&#45;&gt;140522933240216 -->\n",
       "<g class=\"edge\" id=\"edge146\">\n",
       "<title>140522933241784-&gt;140522933240216</title>\n",
       "<path d=\"M2670.0198,-581.4901C2703.8761,-570.9655 2744.1478,-558.4466 2779.1219,-547.5745\" fill=\"none\" stroke=\"#000000\"/>\n",
       "<polygon fill=\"#000000\" points=\"2780.3259,-550.8655 2788.8362,-544.5547 2778.248,-544.181 2780.3259,-550.8655\" stroke=\"#000000\"/>\n",
       "</g>\n",
       "<!-- 140522931786024 -->\n",
       "<g class=\"node\" id=\"node103\">\n",
       "<title>140522931786024</title>\n",
       "<polygon fill=\"none\" points=\"3090,-498.5 3090,-544.5 3508,-544.5 3508,-498.5 3090,-498.5\" stroke=\"#000000\"/>\n",
       "<text fill=\"#000000\" font-family=\"Times,serif\" font-size=\"14.00\" text-anchor=\"middle\" x=\"3223\" y=\"-517.8\">batch_normalization_40: BatchNormalization</text>\n",
       "<polyline fill=\"none\" points=\"3356,-498.5 3356,-544.5 \" stroke=\"#000000\"/>\n",
       "<text fill=\"#000000\" font-family=\"Times,serif\" font-size=\"14.00\" text-anchor=\"middle\" x=\"3383.5\" y=\"-529.3\">input:</text>\n",
       "<polyline fill=\"none\" points=\"3356,-521.5 3411,-521.5 \" stroke=\"#000000\"/>\n",
       "<text fill=\"#000000\" font-family=\"Times,serif\" font-size=\"14.00\" text-anchor=\"middle\" x=\"3383.5\" y=\"-506.3\">output:</text>\n",
       "<polyline fill=\"none\" points=\"3411,-498.5 3411,-544.5 \" stroke=\"#000000\"/>\n",
       "<text fill=\"#000000\" font-family=\"Times,serif\" font-size=\"14.00\" text-anchor=\"middle\" x=\"3459.5\" y=\"-529.3\">(None, 1, 300)</text>\n",
       "<polyline fill=\"none\" points=\"3411,-521.5 3508,-521.5 \" stroke=\"#000000\"/>\n",
       "<text fill=\"#000000\" font-family=\"Times,serif\" font-size=\"14.00\" text-anchor=\"middle\" x=\"3459.5\" y=\"-506.3\">(None, 1, 300)</text>\n",
       "</g>\n",
       "<!-- 140522931787592&#45;&gt;140522931786024 -->\n",
       "<g class=\"edge\" id=\"edge147\">\n",
       "<title>140522931787592-&gt;140522931786024</title>\n",
       "<path d=\"M3046.7525,-581.4901C3091.9522,-570.7406 3145.8998,-557.9107 3192.2824,-546.8798\" fill=\"none\" stroke=\"#000000\"/>\n",
       "<polygon fill=\"#000000\" points=\"3193.1405,-550.2735 3202.0593,-544.5547 3191.5208,-543.4634 3193.1405,-550.2735\" stroke=\"#000000\"/>\n",
       "</g>\n",
       "<!-- 140522929799576 -->\n",
       "<g class=\"node\" id=\"node104\">\n",
       "<title>140522929799576</title>\n",
       "<polygon fill=\"none\" points=\"0,-498.5 0,-544.5 418,-544.5 418,-498.5 0,-498.5\" stroke=\"#000000\"/>\n",
       "<text fill=\"#000000\" font-family=\"Times,serif\" font-size=\"14.00\" text-anchor=\"middle\" x=\"133\" y=\"-517.8\">batch_normalization_41: BatchNormalization</text>\n",
       "<polyline fill=\"none\" points=\"266,-498.5 266,-544.5 \" stroke=\"#000000\"/>\n",
       "<text fill=\"#000000\" font-family=\"Times,serif\" font-size=\"14.00\" text-anchor=\"middle\" x=\"293.5\" y=\"-529.3\">input:</text>\n",
       "<polyline fill=\"none\" points=\"266,-521.5 321,-521.5 \" stroke=\"#000000\"/>\n",
       "<text fill=\"#000000\" font-family=\"Times,serif\" font-size=\"14.00\" text-anchor=\"middle\" x=\"293.5\" y=\"-506.3\">output:</text>\n",
       "<polyline fill=\"none\" points=\"321,-498.5 321,-544.5 \" stroke=\"#000000\"/>\n",
       "<text fill=\"#000000\" font-family=\"Times,serif\" font-size=\"14.00\" text-anchor=\"middle\" x=\"369.5\" y=\"-529.3\">(None, 1, 300)</text>\n",
       "<polyline fill=\"none\" points=\"321,-521.5 418,-521.5 \" stroke=\"#000000\"/>\n",
       "<text fill=\"#000000\" font-family=\"Times,serif\" font-size=\"14.00\" text-anchor=\"middle\" x=\"369.5\" y=\"-506.3\">(None, 1, 300)</text>\n",
       "</g>\n",
       "<!-- 140522929801144&#45;&gt;140522929799576 -->\n",
       "<g class=\"edge\" id=\"edge148\">\n",
       "<title>140522929801144-&gt;140522929799576</title>\n",
       "<path d=\"M357.1683,-581.4901C331.8403,-571.2353 301.836,-559.0872 275.4742,-548.414\" fill=\"none\" stroke=\"#000000\"/>\n",
       "<polygon fill=\"#000000\" points=\"276.5249,-545.0634 265.9422,-544.5547 273.8978,-551.5518 276.5249,-545.0634\" stroke=\"#000000\"/>\n",
       "</g>\n",
       "<!-- 140522928349704 -->\n",
       "<g class=\"node\" id=\"node105\">\n",
       "<title>140522928349704</title>\n",
       "<polygon fill=\"none\" points=\"436,-498.5 436,-544.5 854,-544.5 854,-498.5 436,-498.5\" stroke=\"#000000\"/>\n",
       "<text fill=\"#000000\" font-family=\"Times,serif\" font-size=\"14.00\" text-anchor=\"middle\" x=\"569\" y=\"-517.8\">batch_normalization_42: BatchNormalization</text>\n",
       "<polyline fill=\"none\" points=\"702,-498.5 702,-544.5 \" stroke=\"#000000\"/>\n",
       "<text fill=\"#000000\" font-family=\"Times,serif\" font-size=\"14.00\" text-anchor=\"middle\" x=\"729.5\" y=\"-529.3\">input:</text>\n",
       "<polyline fill=\"none\" points=\"702,-521.5 757,-521.5 \" stroke=\"#000000\"/>\n",
       "<text fill=\"#000000\" font-family=\"Times,serif\" font-size=\"14.00\" text-anchor=\"middle\" x=\"729.5\" y=\"-506.3\">output:</text>\n",
       "<polyline fill=\"none\" points=\"757,-498.5 757,-544.5 \" stroke=\"#000000\"/>\n",
       "<text fill=\"#000000\" font-family=\"Times,serif\" font-size=\"14.00\" text-anchor=\"middle\" x=\"805.5\" y=\"-529.3\">(None, 1, 300)</text>\n",
       "<polyline fill=\"none\" points=\"757,-521.5 854,-521.5 \" stroke=\"#000000\"/>\n",
       "<text fill=\"#000000\" font-family=\"Times,serif\" font-size=\"14.00\" text-anchor=\"middle\" x=\"805.5\" y=\"-506.3\">(None, 1, 300)</text>\n",
       "</g>\n",
       "<!-- 140522928351272&#45;&gt;140522928349704 -->\n",
       "<g class=\"edge\" id=\"edge149\">\n",
       "<title>140522928351272-&gt;140522928349704</title>\n",
       "<path d=\"M733.7376,-581.3799C719.5954,-571.8367 703.045,-560.6686 688.0934,-550.5793\" fill=\"none\" stroke=\"#000000\"/>\n",
       "<polygon fill=\"#000000\" points=\"689.7523,-547.4764 679.5052,-544.784 685.8367,-553.2789 689.7523,-547.4764\" stroke=\"#000000\"/>\n",
       "</g>\n",
       "<!-- 140522926885072 -->\n",
       "<g class=\"node\" id=\"node106\">\n",
       "<title>140522926885072</title>\n",
       "<polygon fill=\"none\" points=\"872,-498.5 872,-544.5 1290,-544.5 1290,-498.5 872,-498.5\" stroke=\"#000000\"/>\n",
       "<text fill=\"#000000\" font-family=\"Times,serif\" font-size=\"14.00\" text-anchor=\"middle\" x=\"1005\" y=\"-517.8\">batch_normalization_43: BatchNormalization</text>\n",
       "<polyline fill=\"none\" points=\"1138,-498.5 1138,-544.5 \" stroke=\"#000000\"/>\n",
       "<text fill=\"#000000\" font-family=\"Times,serif\" font-size=\"14.00\" text-anchor=\"middle\" x=\"1165.5\" y=\"-529.3\">input:</text>\n",
       "<polyline fill=\"none\" points=\"1138,-521.5 1193,-521.5 \" stroke=\"#000000\"/>\n",
       "<text fill=\"#000000\" font-family=\"Times,serif\" font-size=\"14.00\" text-anchor=\"middle\" x=\"1165.5\" y=\"-506.3\">output:</text>\n",
       "<polyline fill=\"none\" points=\"1193,-498.5 1193,-544.5 \" stroke=\"#000000\"/>\n",
       "<text fill=\"#000000\" font-family=\"Times,serif\" font-size=\"14.00\" text-anchor=\"middle\" x=\"1241.5\" y=\"-529.3\">(None, 1, 300)</text>\n",
       "<polyline fill=\"none\" points=\"1193,-521.5 1290,-521.5 \" stroke=\"#000000\"/>\n",
       "<text fill=\"#000000\" font-family=\"Times,serif\" font-size=\"14.00\" text-anchor=\"middle\" x=\"1241.5\" y=\"-506.3\">(None, 1, 300)</text>\n",
       "</g>\n",
       "<!-- 140522926457520&#45;&gt;140522926885072 -->\n",
       "<g class=\"edge\" id=\"edge150\">\n",
       "<title>140522926457520-&gt;140522926885072</title>\n",
       "<path d=\"M1110.5792,-581.3799C1106.3938,-572.907 1101.5757,-563.1531 1097.0595,-554.0107\" fill=\"none\" stroke=\"#000000\"/>\n",
       "<polygon fill=\"#000000\" points=\"1100.0687,-552.1997 1092.5017,-544.784 1093.7926,-555.2999 1100.0687,-552.1997\" stroke=\"#000000\"/>\n",
       "</g>\n",
       "<!-- 140522924892456 -->\n",
       "<g class=\"node\" id=\"node107\">\n",
       "<title>140522924892456</title>\n",
       "<polygon fill=\"none\" points=\"1346,-498.5 1346,-544.5 1764,-544.5 1764,-498.5 1346,-498.5\" stroke=\"#000000\"/>\n",
       "<text fill=\"#000000\" font-family=\"Times,serif\" font-size=\"14.00\" text-anchor=\"middle\" x=\"1479\" y=\"-517.8\">batch_normalization_44: BatchNormalization</text>\n",
       "<polyline fill=\"none\" points=\"1612,-498.5 1612,-544.5 \" stroke=\"#000000\"/>\n",
       "<text fill=\"#000000\" font-family=\"Times,serif\" font-size=\"14.00\" text-anchor=\"middle\" x=\"1639.5\" y=\"-529.3\">input:</text>\n",
       "<polyline fill=\"none\" points=\"1612,-521.5 1667,-521.5 \" stroke=\"#000000\"/>\n",
       "<text fill=\"#000000\" font-family=\"Times,serif\" font-size=\"14.00\" text-anchor=\"middle\" x=\"1639.5\" y=\"-506.3\">output:</text>\n",
       "<polyline fill=\"none\" points=\"1667,-498.5 1667,-544.5 \" stroke=\"#000000\"/>\n",
       "<text fill=\"#000000\" font-family=\"Times,serif\" font-size=\"14.00\" text-anchor=\"middle\" x=\"1715.5\" y=\"-529.3\">(None, 1, 300)</text>\n",
       "<polyline fill=\"none\" points=\"1667,-521.5 1764,-521.5 \" stroke=\"#000000\"/>\n",
       "<text fill=\"#000000\" font-family=\"Times,serif\" font-size=\"14.00\" text-anchor=\"middle\" x=\"1715.5\" y=\"-506.3\">(None, 1, 300)</text>\n",
       "</g>\n",
       "<!-- 140522924894024&#45;&gt;140522924892456 -->\n",
       "<g class=\"edge\" id=\"edge151\">\n",
       "<title>140522924894024-&gt;140522924892456</title>\n",
       "<path d=\"M1539.8497,-581.3799C1541.9483,-573.0854 1544.3575,-563.5633 1546.6281,-554.5889\" fill=\"none\" stroke=\"#000000\"/>\n",
       "<polygon fill=\"#000000\" points=\"1550.049,-555.337 1549.1089,-544.784 1543.2629,-553.62 1550.049,-555.337\" stroke=\"#000000\"/>\n",
       "</g>\n",
       "<!-- 140522923422384 -->\n",
       "<g class=\"node\" id=\"node108\">\n",
       "<title>140522923422384</title>\n",
       "<polygon fill=\"none\" points=\"1782,-498.5 1782,-544.5 2200,-544.5 2200,-498.5 1782,-498.5\" stroke=\"#000000\"/>\n",
       "<text fill=\"#000000\" font-family=\"Times,serif\" font-size=\"14.00\" text-anchor=\"middle\" x=\"1915\" y=\"-517.8\">batch_normalization_45: BatchNormalization</text>\n",
       "<polyline fill=\"none\" points=\"2048,-498.5 2048,-544.5 \" stroke=\"#000000\"/>\n",
       "<text fill=\"#000000\" font-family=\"Times,serif\" font-size=\"14.00\" text-anchor=\"middle\" x=\"2075.5\" y=\"-529.3\">input:</text>\n",
       "<polyline fill=\"none\" points=\"2048,-521.5 2103,-521.5 \" stroke=\"#000000\"/>\n",
       "<text fill=\"#000000\" font-family=\"Times,serif\" font-size=\"14.00\" text-anchor=\"middle\" x=\"2075.5\" y=\"-506.3\">output:</text>\n",
       "<polyline fill=\"none\" points=\"2103,-498.5 2103,-544.5 \" stroke=\"#000000\"/>\n",
       "<text fill=\"#000000\" font-family=\"Times,serif\" font-size=\"14.00\" text-anchor=\"middle\" x=\"2151.5\" y=\"-529.3\">(None, 1, 300)</text>\n",
       "<polyline fill=\"none\" points=\"2103,-521.5 2200,-521.5 \" stroke=\"#000000\"/>\n",
       "<text fill=\"#000000\" font-family=\"Times,serif\" font-size=\"14.00\" text-anchor=\"middle\" x=\"2151.5\" y=\"-506.3\">(None, 1, 300)</text>\n",
       "</g>\n",
       "<!-- 140522923423952&#45;&gt;140522923422384 -->\n",
       "<g class=\"edge\" id=\"edge152\">\n",
       "<title>140522923423952-&gt;140522923422384</title>\n",
       "<path d=\"M1916.6912,-581.3799C1928.3126,-572.0151 1941.8758,-561.0855 1954.2102,-551.1462\" fill=\"none\" stroke=\"#000000\"/>\n",
       "<polygon fill=\"#000000\" points=\"1956.515,-553.7839 1962.1054,-544.784 1952.1227,-548.3333 1956.515,-553.7839\" stroke=\"#000000\"/>\n",
       "</g>\n",
       "<!-- 140522923425688 -->\n",
       "<g class=\"node\" id=\"node109\">\n",
       "<title>140522923425688</title>\n",
       "<polygon fill=\"none\" points=\"1346,-415.5 1346,-461.5 2288,-461.5 2288,-415.5 1346,-415.5\" stroke=\"#000000\"/>\n",
       "<text fill=\"#000000\" font-family=\"Times,serif\" font-size=\"14.00\" text-anchor=\"middle\" x=\"1429.5\" y=\"-434.8\">concat_attn_1: Concatenate</text>\n",
       "<polyline fill=\"none\" points=\"1513,-415.5 1513,-461.5 \" stroke=\"#000000\"/>\n",
       "<text fill=\"#000000\" font-family=\"Times,serif\" font-size=\"14.00\" text-anchor=\"middle\" x=\"1540.5\" y=\"-446.3\">input:</text>\n",
       "<polyline fill=\"none\" points=\"1513,-438.5 1568,-438.5 \" stroke=\"#000000\"/>\n",
       "<text fill=\"#000000\" font-family=\"Times,serif\" font-size=\"14.00\" text-anchor=\"middle\" x=\"1540.5\" y=\"-423.3\">output:</text>\n",
       "<polyline fill=\"none\" points=\"1568,-415.5 1568,-461.5 \" stroke=\"#000000\"/>\n",
       "<text fill=\"#000000\" font-family=\"Times,serif\" font-size=\"14.00\" text-anchor=\"middle\" x=\"1928\" y=\"-446.3\">[(None, 1, 300), (None, 1, 300), (None, 1, 300), (None, 1, 300), (None, 1, 300), (None, 1, 300), (None, 1, 300), (None, 1, 300)]</text>\n",
       "<polyline fill=\"none\" points=\"1568,-438.5 2288,-438.5 \" stroke=\"#000000\"/>\n",
       "<text fill=\"#000000\" font-family=\"Times,serif\" font-size=\"14.00\" text-anchor=\"middle\" x=\"1928\" y=\"-423.3\">(None, 1, 2400)</text>\n",
       "</g>\n",
       "<!-- 140522935223184&#45;&gt;140522923425688 -->\n",
       "<g class=\"edge\" id=\"edge153\">\n",
       "<title>140522935223184-&gt;140522923425688</title>\n",
       "<path d=\"M2257.8911,-498.4901C2176.4902,-487.4142 2078.8567,-474.1297 1996.1797,-462.8802\" fill=\"none\" stroke=\"#000000\"/>\n",
       "<polygon fill=\"#000000\" points=\"1996.554,-459.3989 1986.1734,-461.5187 1995.6102,-466.335 1996.554,-459.3989\" stroke=\"#000000\"/>\n",
       "</g>\n",
       "<!-- 140522933240216&#45;&gt;140522923425688 -->\n",
       "<g class=\"edge\" id=\"edge154\">\n",
       "<title>140522933240216-&gt;140522923425688</title>\n",
       "<path d=\"M2653.8766,-498.8077C2650.8985,-498.5333 2647.9383,-498.2639 2645,-498 2495.0963,-484.5386 2329.7066,-472.1585 2186.4109,-462.2177\" fill=\"none\" stroke=\"#000000\"/>\n",
       "<polygon fill=\"#000000\" points=\"2186.3502,-458.7052 2176.1323,-461.5062 2185.8667,-465.6885 2186.3502,-458.7052\" stroke=\"#000000\"/>\n",
       "</g>\n",
       "<!-- 140522931786024&#45;&gt;140522923425688 -->\n",
       "<g class=\"edge\" id=\"edge155\">\n",
       "<title>140522931786024-&gt;140522923425688</title>\n",
       "<path d=\"M3089.8852,-498.7053C3086.9044,-498.4629 3083.9414,-498.2276 3081,-498 2822.827,-478.0266 2534.4341,-463.8321 2298.3804,-454.3294\" fill=\"none\" stroke=\"#000000\"/>\n",
       "<polygon fill=\"#000000\" points=\"2298.3736,-450.8264 2288.2413,-453.9228 2298.093,-457.8207 2298.3736,-450.8264\" stroke=\"#000000\"/>\n",
       "</g>\n",
       "<!-- 140522929799576&#45;&gt;140522923425688 -->\n",
       "<g class=\"edge\" id=\"edge156\">\n",
       "<title>140522929799576-&gt;140522923425688</title>\n",
       "<path d=\"M418.1135,-498.6876C421.0946,-498.4507 424.0582,-498.2213 427,-498 728.5628,-475.3155 1067.6303,-460.5879 1335.386,-451.46\" fill=\"none\" stroke=\"#000000\"/>\n",
       "<polygon fill=\"#000000\" points=\"1335.8038,-454.9479 1345.6793,-451.1107 1335.5663,-447.952 1335.8038,-454.9479\" stroke=\"#000000\"/>\n",
       "</g>\n",
       "<!-- 140522928349704&#45;&gt;140522923425688 -->\n",
       "<g class=\"edge\" id=\"edge157\">\n",
       "<title>140522928349704-&gt;140522923425688</title>\n",
       "<path d=\"M854.1199,-498.7685C857.0991,-498.5064 860.0605,-498.25 863,-498 1028.8056,-483.8999 1211.0907,-471.7168 1371.5058,-462.1122\" fill=\"none\" stroke=\"#000000\"/>\n",
       "<polygon fill=\"#000000\" points=\"1371.779,-465.6022 1381.5526,-461.5124 1371.3617,-458.6147 1371.779,-465.6022\" stroke=\"#000000\"/>\n",
       "</g>\n",
       "<!-- 140522926885072&#45;&gt;140522923425688 -->\n",
       "<g class=\"edge\" id=\"edge158\">\n",
       "<title>140522926885072-&gt;140522923425688</title>\n",
       "<path d=\"M1285.0396,-498.4901C1383.9532,-487.3354 1502.7319,-473.9406 1602.9356,-462.6404\" fill=\"none\" stroke=\"#000000\"/>\n",
       "<polygon fill=\"#000000\" points=\"1603.3379,-466.1173 1612.8826,-461.5187 1602.5534,-459.1614 1603.3379,-466.1173\" stroke=\"#000000\"/>\n",
       "</g>\n",
       "<!-- 140522924892456&#45;&gt;140522923425688 -->\n",
       "<g class=\"edge\" id=\"edge159\">\n",
       "<title>140522924892456-&gt;140522923425688</title>\n",
       "<path d=\"M1627.6337,-498.4901C1660.714,-488.0105 1700.0359,-475.5535 1734.2524,-464.7139\" fill=\"none\" stroke=\"#000000\"/>\n",
       "<polygon fill=\"#000000\" points=\"1735.749,-467.9113 1744.225,-461.5547 1733.6349,-461.2382 1735.749,-467.9113\" stroke=\"#000000\"/>\n",
       "</g>\n",
       "<!-- 140522923422384&#45;&gt;140522923425688 -->\n",
       "<g class=\"edge\" id=\"edge160\">\n",
       "<title>140522923422384-&gt;140522923425688</title>\n",
       "<path d=\"M1942.5313,-498.3799C1921.5023,-488.3488 1896.7095,-476.5224 1874.7358,-466.0406\" fill=\"none\" stroke=\"#000000\"/>\n",
       "<polygon fill=\"#000000\" points=\"1876.0429,-462.7864 1865.5103,-461.6399 1873.0291,-469.1044 1876.0429,-462.7864\" stroke=\"#000000\"/>\n",
       "</g>\n",
       "<!-- 140522921451360 -->\n",
       "<g class=\"node\" id=\"node110\">\n",
       "<title>140522921451360</title>\n",
       "<polygon fill=\"none\" points=\"1472.5,-332.5 1472.5,-378.5 1907.5,-378.5 1907.5,-332.5 1472.5,-332.5\" stroke=\"#000000\"/>\n",
       "<text fill=\"#000000\" font-family=\"Times,serif\" font-size=\"14.00\" text-anchor=\"middle\" x=\"1610.5\" y=\"-351.8\">condense_attention1d_5: CondenseAttention1D</text>\n",
       "<polyline fill=\"none\" points=\"1748.5,-332.5 1748.5,-378.5 \" stroke=\"#000000\"/>\n",
       "<text fill=\"#000000\" font-family=\"Times,serif\" font-size=\"14.00\" text-anchor=\"middle\" x=\"1776\" y=\"-363.3\">input:</text>\n",
       "<polyline fill=\"none\" points=\"1748.5,-355.5 1803.5,-355.5 \" stroke=\"#000000\"/>\n",
       "<text fill=\"#000000\" font-family=\"Times,serif\" font-size=\"14.00\" text-anchor=\"middle\" x=\"1776\" y=\"-340.3\">output:</text>\n",
       "<polyline fill=\"none\" points=\"1803.5,-332.5 1803.5,-378.5 \" stroke=\"#000000\"/>\n",
       "<text fill=\"#000000\" font-family=\"Times,serif\" font-size=\"14.00\" text-anchor=\"middle\" x=\"1855.5\" y=\"-363.3\">(None, 1, 2400)</text>\n",
       "<polyline fill=\"none\" points=\"1803.5,-355.5 1907.5,-355.5 \" stroke=\"#000000\"/>\n",
       "<text fill=\"#000000\" font-family=\"Times,serif\" font-size=\"14.00\" text-anchor=\"middle\" x=\"1855.5\" y=\"-340.3\">(None, 1, 300)</text>\n",
       "</g>\n",
       "<!-- 140522923425688&#45;&gt;140522921451360 -->\n",
       "<g class=\"edge\" id=\"edge161\">\n",
       "<title>140522923425688-&gt;140522921451360</title>\n",
       "<path d=\"M1781.6234,-415.3799C1766.8848,-405.7475 1749.613,-394.4597 1734.0625,-384.2967\" fill=\"none\" stroke=\"#000000\"/>\n",
       "<polygon fill=\"#000000\" points=\"1735.913,-381.325 1725.6273,-378.784 1732.0834,-387.1846 1735.913,-381.325\" stroke=\"#000000\"/>\n",
       "</g>\n",
       "<!-- 140522921169640 -->\n",
       "<g class=\"node\" id=\"node111\">\n",
       "<title>140522921169640</title>\n",
       "<polygon fill=\"none\" points=\"1378,-249.5 1378,-295.5 1682,-295.5 1682,-249.5 1378,-249.5\" stroke=\"#000000\"/>\n",
       "<text fill=\"#000000\" font-family=\"Times,serif\" font-size=\"14.00\" text-anchor=\"middle\" x=\"1454\" y=\"-268.8\">squeeze_attn_1: Lambda</text>\n",
       "<polyline fill=\"none\" points=\"1530,-249.5 1530,-295.5 \" stroke=\"#000000\"/>\n",
       "<text fill=\"#000000\" font-family=\"Times,serif\" font-size=\"14.00\" text-anchor=\"middle\" x=\"1557.5\" y=\"-280.3\">input:</text>\n",
       "<polyline fill=\"none\" points=\"1530,-272.5 1585,-272.5 \" stroke=\"#000000\"/>\n",
       "<text fill=\"#000000\" font-family=\"Times,serif\" font-size=\"14.00\" text-anchor=\"middle\" x=\"1557.5\" y=\"-257.3\">output:</text>\n",
       "<polyline fill=\"none\" points=\"1585,-249.5 1585,-295.5 \" stroke=\"#000000\"/>\n",
       "<text fill=\"#000000\" font-family=\"Times,serif\" font-size=\"14.00\" text-anchor=\"middle\" x=\"1633.5\" y=\"-280.3\">(None, 1, 300)</text>\n",
       "<polyline fill=\"none\" points=\"1585,-272.5 1682,-272.5 \" stroke=\"#000000\"/>\n",
       "<text fill=\"#000000\" font-family=\"Times,serif\" font-size=\"14.00\" text-anchor=\"middle\" x=\"1633.5\" y=\"-257.3\">(None, 300)</text>\n",
       "</g>\n",
       "<!-- 140522921451360&#45;&gt;140522921169640 -->\n",
       "<g class=\"edge\" id=\"edge162\">\n",
       "<title>140522921451360-&gt;140522921169640</title>\n",
       "<path d=\"M1645.4311,-332.3799C1626.2667,-322.4384 1603.7029,-310.7334 1583.6322,-300.3217\" fill=\"none\" stroke=\"#000000\"/>\n",
       "<polygon fill=\"#000000\" points=\"1585.0955,-297.1379 1574.6071,-295.6399 1581.8722,-303.3516 1585.0955,-297.1379\" stroke=\"#000000\"/>\n",
       "</g>\n",
       "<!-- 140522921169640&#45;&gt;140522920849872 -->\n",
       "<g class=\"edge\" id=\"edge164\">\n",
       "<title>140522921169640-&gt;140522920849872</title>\n",
       "<path d=\"M1496.0162,-249.3799C1481.9889,-239.8367 1465.5731,-228.6686 1450.7431,-218.5793\" fill=\"none\" stroke=\"#000000\"/>\n",
       "<polygon fill=\"#000000\" points=\"1452.4615,-215.5152 1442.2247,-212.784 1448.524,-221.3028 1452.4615,-215.5152\" stroke=\"#000000\"/>\n",
       "</g>\n",
       "<!-- 140522920424056 -->\n",
       "<g class=\"node\" id=\"node113\">\n",
       "<title>140522920424056</title>\n",
       "<polygon fill=\"none\" points=\"1206,-83.5 1206,-129.5 1610,-129.5 1610,-83.5 1206,-83.5\" stroke=\"#000000\"/>\n",
       "<text fill=\"#000000\" font-family=\"Times,serif\" font-size=\"14.00\" text-anchor=\"middle\" x=\"1339\" y=\"-102.8\">batch_normalization_46: BatchNormalization</text>\n",
       "<polyline fill=\"none\" points=\"1472,-83.5 1472,-129.5 \" stroke=\"#000000\"/>\n",
       "<text fill=\"#000000\" font-family=\"Times,serif\" font-size=\"14.00\" text-anchor=\"middle\" x=\"1499.5\" y=\"-114.3\">input:</text>\n",
       "<polyline fill=\"none\" points=\"1472,-106.5 1527,-106.5 \" stroke=\"#000000\"/>\n",
       "<text fill=\"#000000\" font-family=\"Times,serif\" font-size=\"14.00\" text-anchor=\"middle\" x=\"1499.5\" y=\"-91.3\">output:</text>\n",
       "<polyline fill=\"none\" points=\"1527,-83.5 1527,-129.5 \" stroke=\"#000000\"/>\n",
       "<text fill=\"#000000\" font-family=\"Times,serif\" font-size=\"14.00\" text-anchor=\"middle\" x=\"1568.5\" y=\"-114.3\">(None, 300)</text>\n",
       "<polyline fill=\"none\" points=\"1527,-106.5 1610,-106.5 \" stroke=\"#000000\"/>\n",
       "<text fill=\"#000000\" font-family=\"Times,serif\" font-size=\"14.00\" text-anchor=\"middle\" x=\"1568.5\" y=\"-91.3\">(None, 300)</text>\n",
       "</g>\n",
       "<!-- 140522920849872&#45;&gt;140522920424056 -->\n",
       "<g class=\"edge\" id=\"edge165\">\n",
       "<title>140522920849872-&gt;140522920424056</title>\n",
       "<path d=\"M1408,-166.3799C1408,-158.1745 1408,-148.7679 1408,-139.8786\" fill=\"none\" stroke=\"#000000\"/>\n",
       "<polygon fill=\"#000000\" points=\"1411.5001,-139.784 1408,-129.784 1404.5001,-139.784 1411.5001,-139.784\" stroke=\"#000000\"/>\n",
       "</g>\n",
       "<!-- 140522921171320 -->\n",
       "<g class=\"node\" id=\"node114\">\n",
       "<title>140522921171320</title>\n",
       "<polygon fill=\"none\" points=\"1276.5,-.5 1276.5,-46.5 1539.5,-46.5 1539.5,-.5 1276.5,-.5\" stroke=\"#000000\"/>\n",
       "<text fill=\"#000000\" font-family=\"Times,serif\" font-size=\"14.00\" text-anchor=\"middle\" x=\"1339\" y=\"-19.8\">text_context: Dense</text>\n",
       "<polyline fill=\"none\" points=\"1401.5,-.5 1401.5,-46.5 \" stroke=\"#000000\"/>\n",
       "<text fill=\"#000000\" font-family=\"Times,serif\" font-size=\"14.00\" text-anchor=\"middle\" x=\"1429\" y=\"-31.3\">input:</text>\n",
       "<polyline fill=\"none\" points=\"1401.5,-23.5 1456.5,-23.5 \" stroke=\"#000000\"/>\n",
       "<text fill=\"#000000\" font-family=\"Times,serif\" font-size=\"14.00\" text-anchor=\"middle\" x=\"1429\" y=\"-8.3\">output:</text>\n",
       "<polyline fill=\"none\" points=\"1456.5,-.5 1456.5,-46.5 \" stroke=\"#000000\"/>\n",
       "<text fill=\"#000000\" font-family=\"Times,serif\" font-size=\"14.00\" text-anchor=\"middle\" x=\"1498\" y=\"-31.3\">(None, 300)</text>\n",
       "<polyline fill=\"none\" points=\"1456.5,-23.5 1539.5,-23.5 \" stroke=\"#000000\"/>\n",
       "<text fill=\"#000000\" font-family=\"Times,serif\" font-size=\"14.00\" text-anchor=\"middle\" x=\"1498\" y=\"-8.3\">(None, 512)</text>\n",
       "</g>\n",
       "<!-- 140522920424056&#45;&gt;140522921171320 -->\n",
       "<g class=\"edge\" id=\"edge166\">\n",
       "<title>140522920424056-&gt;140522921171320</title>\n",
       "<path d=\"M1408,-83.3799C1408,-75.1745 1408,-65.7679 1408,-56.8786\" fill=\"none\" stroke=\"#000000\"/>\n",
       "<polygon fill=\"#000000\" points=\"1411.5001,-56.784 1408,-46.784 1404.5001,-56.784 1411.5001,-56.784\" stroke=\"#000000\"/>\n",
       "</g>\n",
       "</g>\n",
       "</svg>"
      ],
      "text/plain": [
       "<IPython.core.display.SVG object>"
      ]
     },
     "execution_count": 25,
     "metadata": {},
     "output_type": "execute_result"
    }
   ],
   "source": [
    "SVG(model_to_dot(textNet, show_layer_names=True, show_shapes=True).create(prog='dot', format='svg'))"
   ]
  },
  {
   "cell_type": "code",
   "execution_count": null,
   "metadata": {},
   "outputs": [],
   "source": []
  },
  {
   "cell_type": "markdown",
   "metadata": {},
   "source": [
    "# Define Complete Joint Network"
   ]
  },
  {
   "cell_type": "code",
   "execution_count": 26,
   "metadata": {
    "scrolled": true
   },
   "outputs": [
    {
     "name": "stdout",
     "output_type": "stream",
     "text": [
      "(?, 8, 8, 512)\n",
      "(?, 512)\n"
     ]
    }
   ],
   "source": [
    "image_dropout_rate = 0.3\n",
    "image_input = kl.Input(shape=(256,256,3),name='image_input')\n",
    "image_features = imgNet(image_input)\n",
    "image_features = kl.Dropout(image_dropout_rate)(image_features)\n",
    "\n",
    "text_dropout_rate = 0.1\n",
    "# padding_masks = kl.Input(shape=(max_wlen,1),name='padding_masks')\n",
    "words_input = kl.Input(shape=(max_wlen,),name='words_input')\n",
    "text_features = textNet([words_input])\n",
    "text_features = kl.Dropout(text_dropout_rate)(text_features)\n",
    "print(image_features.shape)\n",
    "print(text_features.shape)"
   ]
  },
  {
   "cell_type": "code",
   "execution_count": null,
   "metadata": {},
   "outputs": [],
   "source": []
  },
  {
   "cell_type": "code",
   "execution_count": 27,
   "metadata": {},
   "outputs": [],
   "source": [
    "# a_out_im_1,beta_im_1 = AM.Img2TextCA(text_ch=int(text_features.shape[-1]),img_ch=int(image_features.shape[-1]),name='img2text_1')([image_features,text_features,padding_masks])\n",
    "# # a_out_im_1 = kl.BatchNormalization()(a_out_im_1)\n",
    "# # a_out_im_1 = kl.ELU(alpha=elu_alpha)(a_out_im_1)\n",
    "# a_out_im_2,beta_im_2 = AM.Img2TextCA(text_ch=int(text_features.shape[-1]),img_ch=int(image_features.shape[-1]),name='img2text_2')([image_features,text_features,padding_masks])\n",
    "# # a_out_im_2 = kl.BatchNormalization()(a_out_im_2)\n",
    "# # a_out_im_2 = kl.ELU(alpha=elu_alpha)(a_out_im_2)\n",
    "# a_out_im_3,beta_im_3 = AM.Img2TextCA(text_ch=int(text_features.shape[-1]),img_ch=int(image_features.shape[-1]),name='img2text_3')([image_features,text_features,padding_masks])\n",
    "# # a_out_im_3 = kl.BatchNormalization()(a_out_im_3)\n",
    "# # a_out_im_3 = kl.ELU(alpha=elu_alpha)(a_out_im_3)\n",
    "# a_out_im_4,beta_im_4 = AM.Img2TextCA(text_ch=int(text_features.shape[-1]),img_ch=int(image_features.shape[-1]),name='img2text_4')([image_features,text_features,padding_masks])\n",
    "# # a_out_im_4 = kl.BatchNormalization()(a_out_im_4)\n",
    "# # a_out_im_4 = kl.ELU(alpha=elu_alpha)(a_out_im_4)\n",
    "# a_conc_images = kl.Concatenate(name='img2text_concat')([a_out_im_1,a_out_im_2,a_out_im_3,a_out_im_4])\n",
    "# # a_conc_im_out = kl.BatchNormalization()(a_conc_im_out)\n",
    "# # print('a_conc_im_out.shape:',a_conc_im_out.shape)\n",
    "\n",
    "# img2text_condense = AM.CondenseAttention2D(ch_in=int(a_conc_images.shape[-1]),ch_out=512)(a_conc_images)\n",
    "# img2text_comb, xi2tg1, xi2tg2 = AM.ResidualCombine()([image_features, img2text_condense])\n",
    "# img2text_comb = kl.ELU(alpha=elu_alpha)(img2text_comb)\n",
    "# img2text_comb = kl.Conv2D(filters=bottleneck_units,kernel_size=1,strides=1,padding='same')(img2text_comb)\n",
    "# img2text_comb = kl.BatchNormalization()(img2text_comb)\n",
    "# img2text_comb = kl.Dropout(dropout_rate)(img2text_comb)\n",
    "img2text_pool = kl.GlobalAveragePooling2D(name='img2text_global_pool')(image_features)\n"
   ]
  },
  {
   "cell_type": "code",
   "execution_count": 28,
   "metadata": {},
   "outputs": [],
   "source": [
    "# a_out_1,beta_1 = AM.Text2ImgCA(text_ch=int(text_features.shape[-1]),img_ch=int(image_features.shape[-1]),name='text2img_1')([text_features,image_features,padding_masks])\n",
    "# # a_out_1 = kl.BatchNormalization()(a_out_1)\n",
    "# # a_out_1 = kl.ELU(alpha=elu_alpha)(a_out_1)\n",
    "# # print(a_out_1.shape)\n",
    "# a_out_2,beta_2 = AM.Text2ImgCA(text_ch=int(text_features.shape[-1]),img_ch=int(image_features.shape[-1]),name='text2img_2')([text_features,image_features,padding_masks])\n",
    "# # a_out_2 = kl.BatchNormalization()(a_out_2)\n",
    "# # a_out_2 = kl.ELU(alpha=elu_alpha)(a_out_2)\n",
    "# # print(a_out_2.shape)\n",
    "# a_out_3,beta_3 = AM.Text2ImgCA(text_ch=int(text_features.shape[-1]),img_ch=int(image_features.shape[-1]),name='text2img_3')([text_features,image_features,padding_masks])\n",
    "# # a_out_3 = kl.BatchNormalization()(a_out_3)\n",
    "# # a_out_3 = kl.ELU(alpha=elu_alpha)(a_out_3)\n",
    "# # print(a_out_3.shape)\n",
    "# a_out_4,beta_4 = AM.Text2ImgCA(text_ch=int(text_features.shape[-1]),img_ch=int(image_features.shape[-1]),name='text2img_4')([text_features,image_features,padding_masks])\n",
    "# # a_out_4 = kl.BatchNormalization()(a_out_4)\n",
    "# # a_out_4 = kl.ELU(alpha=elu_alpha)(a_out_4)\n",
    "# # print(a_out_4.shape)\n",
    "# a_conc_text = kl.Concatenate(name='text2img_concat')([a_out_1,a_out_2,a_out_3,a_out_4])\n",
    "\n",
    "# text2img_condense = AM.CondenseAttention1D(ch_in=int(a_conc_text.shape[-1]),ch_out=512)(a_conc_text)\n",
    "# text2img_comb, xt2ig1, xt2ig2 = AM.ResidualCombine()([text_features, text2img_condense])\n",
    "# text2img_comb = kl.ELU(alpha=elu_alpha)(text2img_comb)\n",
    "# text2img_comb = kl.Conv1D(filters=bottleneck_units,kernel_size=1,strides=1,padding='same')(text2img_comb)\n",
    "# text2img_comb = kl.BatchNormalization()(text2img_comb)\n",
    "# text2img_comb = kl.Dropout(dropout_rate)(text2img_comb)\n",
    "# text2img_pool = kl.GlobalAveragePooling1D(name='text2img_global_pool')(text_features)\n",
    "text2img_pool = text_features"
   ]
  },
  {
   "cell_type": "code",
   "execution_count": 29,
   "metadata": {
    "scrolled": true
   },
   "outputs": [],
   "source": [
    "dropout_rate = 0.3\n",
    "all_concat = kl.Concatenate()([img2text_pool,text2img_pool])\n",
    "cross_pool = kl.Dense(1024,activation='relu')(all_concat)\n",
    "cross_pool = kl.Dense(512,activation='relu')(cross_pool)\n",
    "cross_pool = kl.Dropout(dropout_rate)(cross_pool)\n",
    "target = kl.Dense(vocab_size+1, activation='softmax',name='target_word')(cross_pool)\n",
    "model = Model([image_input,words_input],target)\n"
   ]
  },
  {
   "cell_type": "code",
   "execution_count": 30,
   "metadata": {
    "scrolled": true
   },
   "outputs": [],
   "source": [
    "# json_file = open('../model_json/{0}_{1}_text_img_attention.json'.format(img_arch,text_arch), 'r')\n",
    "# loaded_model_json = json_file.read()\n",
    "# json_file.close()\n",
    "# loaded_model = model_from_json(loaded_model_json)"
   ]
  },
  {
   "cell_type": "code",
   "execution_count": 31,
   "metadata": {},
   "outputs": [],
   "source": [
    "# loaded_model_json"
   ]
  },
  {
   "cell_type": "code",
   "execution_count": 32,
   "metadata": {},
   "outputs": [],
   "source": [
    "# loaded_model==model"
   ]
  },
  {
   "cell_type": "code",
   "execution_count": 33,
   "metadata": {
    "scrolled": true
   },
   "outputs": [],
   "source": [
    "l = textNet.get_layer('w2v_emb')\n",
    "l.set_weights([embedding_matrix])\n",
    "l.trainable = True\n",
    "# if not os.path.exists('../checkpoints/{0}.h5'.format(model_name)):\n",
    "#     print('New model {0}.'.format(model_name))\n",
    "# else:\n",
    "#     print('Existing model {0}. trained weights will be loaded'.format(model_name))\n",
    "#     model.load_weights('../checkpoints/{0}.h5'.format(model_name), skip_mismatch=True, by_name=True)\n",
    "# l.trainable = True"
   ]
  },
  {
   "cell_type": "code",
   "execution_count": 34,
   "metadata": {},
   "outputs": [],
   "source": [
    "# w_to_co\n",
    "# textNet.load_weights('../checkpoints/irv2_1dcnn_attention_text_module.h5')\n",
    "# imgNet.load_weights('../checkpoints/irv2_1dcnn_attention_img_module.h5')"
   ]
  },
  {
   "cell_type": "code",
   "execution_count": 35,
   "metadata": {
    "scrolled": true
   },
   "outputs": [
    {
     "name": "stdout",
     "output_type": "stream",
     "text": [
      "__________________________________________________________________________________________________\n",
      "Layer (type)                    Output Shape         Param #     Connected to                     \n",
      "==================================================================================================\n",
      "image_input (InputLayer)        (None, 256, 256, 3)  0                                            \n",
      "__________________________________________________________________________________________________\n",
      "vgg16 (Model)                   (None, 8, 8, 512)    14714688    image_input[0][0]                \n",
      "__________________________________________________________________________________________________\n",
      "words_input (InputLayer)        (None, 60)           0                                            \n",
      "__________________________________________________________________________________________________\n",
      "dropout_1 (Dropout)             (None, 8, 8, 512)    0           vgg16[1][0]                      \n",
      "__________________________________________________________________________________________________\n",
      "textModel (Model)               (None, 512)          22672990    words_input[0][0]                \n",
      "__________________________________________________________________________________________________\n",
      "img2text_global_pool (GlobalAve (None, 512)          0           dropout_1[0][0]                  \n",
      "__________________________________________________________________________________________________\n",
      "dropout_2 (Dropout)             (None, 512)          0           textModel[1][0]                  \n",
      "__________________________________________________________________________________________________\n",
      "concatenate_2 (Concatenate)     (None, 1024)         0           img2text_global_pool[0][0]       \n",
      "                                                                 dropout_2[0][0]                  \n",
      "__________________________________________________________________________________________________\n",
      "dense_1 (Dense)                 (None, 1024)         1049600     concatenate_2[0][0]              \n",
      "__________________________________________________________________________________________________\n",
      "dense_2 (Dense)                 (None, 512)          524800      dense_1[0][0]                    \n",
      "__________________________________________________________________________________________________\n",
      "dropout_3 (Dropout)             (None, 512)          0           dense_2[0][0]                    \n",
      "__________________________________________________________________________________________________\n",
      "target_word (Dense)             (None, 20795)        10667835    dropout_3[0][0]                  \n",
      "==================================================================================================\n",
      "Total params: 49,629,913\n",
      "Trainable params: 49,602,313\n",
      "Non-trainable params: 27,600\n",
      "__________________________________________________________________________________________________\n"
     ]
    }
   ],
   "source": [
    "\n",
    "model.summary()\n",
    "model.compile(loss='categorical_crossentropy', optimizer=Adam(lr=lr),metrics=['accuracy'])\n",
    "# model.load_weights('../checkpoints/{0}.h5'.format(model_name))"
   ]
  },
  {
   "cell_type": "code",
   "execution_count": 36,
   "metadata": {
    "scrolled": true
   },
   "outputs": [
    {
     "data": {
      "image/svg+xml": [
       "<svg height=\"719pt\" viewBox=\"0.00 0.00 750.00 719.00\" width=\"750pt\" xmlns=\"http://www.w3.org/2000/svg\" xmlns:xlink=\"http://www.w3.org/1999/xlink\">\n",
       "<g class=\"graph\" id=\"graph0\" transform=\"scale(1 1) rotate(0) translate(4 715)\">\n",
       "<title>G</title>\n",
       "<polygon fill=\"#ffffff\" points=\"-4,4 -4,-715 746,-715 746,4 -4,4\" stroke=\"transparent\"/>\n",
       "<!-- 140522909635472 -->\n",
       "<g class=\"node\" id=\"node1\">\n",
       "<title>140522909635472</title>\n",
       "<polygon fill=\"none\" points=\"59.5,-664.5 59.5,-710.5 391.5,-710.5 391.5,-664.5 59.5,-664.5\" stroke=\"#000000\"/>\n",
       "<text fill=\"#000000\" font-family=\"Times,serif\" font-size=\"14.00\" text-anchor=\"middle\" x=\"135.5\" y=\"-683.8\">image_input: InputLayer</text>\n",
       "<polyline fill=\"none\" points=\"211.5,-664.5 211.5,-710.5 \" stroke=\"#000000\"/>\n",
       "<text fill=\"#000000\" font-family=\"Times,serif\" font-size=\"14.00\" text-anchor=\"middle\" x=\"239\" y=\"-695.3\">input:</text>\n",
       "<polyline fill=\"none\" points=\"211.5,-687.5 266.5,-687.5 \" stroke=\"#000000\"/>\n",
       "<text fill=\"#000000\" font-family=\"Times,serif\" font-size=\"14.00\" text-anchor=\"middle\" x=\"239\" y=\"-672.3\">output:</text>\n",
       "<polyline fill=\"none\" points=\"266.5,-664.5 266.5,-710.5 \" stroke=\"#000000\"/>\n",
       "<text fill=\"#000000\" font-family=\"Times,serif\" font-size=\"14.00\" text-anchor=\"middle\" x=\"329\" y=\"-695.3\">(None, 256, 256, 3)</text>\n",
       "<polyline fill=\"none\" points=\"266.5,-687.5 391.5,-687.5 \" stroke=\"#000000\"/>\n",
       "<text fill=\"#000000\" font-family=\"Times,serif\" font-size=\"14.00\" text-anchor=\"middle\" x=\"329\" y=\"-672.3\">(None, 256, 256, 3)</text>\n",
       "</g>\n",
       "<!-- 140523239184984 -->\n",
       "<g class=\"node\" id=\"node2\">\n",
       "<title>140523239184984</title>\n",
       "<polygon fill=\"none\" points=\"88.5,-581.5 88.5,-627.5 362.5,-627.5 362.5,-581.5 88.5,-581.5\" stroke=\"#000000\"/>\n",
       "<text fill=\"#000000\" font-family=\"Times,serif\" font-size=\"14.00\" text-anchor=\"middle\" x=\"135.5\" y=\"-600.8\">vgg16: Model</text>\n",
       "<polyline fill=\"none\" points=\"182.5,-581.5 182.5,-627.5 \" stroke=\"#000000\"/>\n",
       "<text fill=\"#000000\" font-family=\"Times,serif\" font-size=\"14.00\" text-anchor=\"middle\" x=\"210\" y=\"-612.3\">input:</text>\n",
       "<polyline fill=\"none\" points=\"182.5,-604.5 237.5,-604.5 \" stroke=\"#000000\"/>\n",
       "<text fill=\"#000000\" font-family=\"Times,serif\" font-size=\"14.00\" text-anchor=\"middle\" x=\"210\" y=\"-589.3\">output:</text>\n",
       "<polyline fill=\"none\" points=\"237.5,-581.5 237.5,-627.5 \" stroke=\"#000000\"/>\n",
       "<text fill=\"#000000\" font-family=\"Times,serif\" font-size=\"14.00\" text-anchor=\"middle\" x=\"300\" y=\"-612.3\">(None, 256, 256, 3)</text>\n",
       "<polyline fill=\"none\" points=\"237.5,-604.5 362.5,-604.5 \" stroke=\"#000000\"/>\n",
       "<text fill=\"#000000\" font-family=\"Times,serif\" font-size=\"14.00\" text-anchor=\"middle\" x=\"300\" y=\"-589.3\">(None, 8, 8, 512)</text>\n",
       "</g>\n",
       "<!-- 140522909635472&#45;&gt;140523239184984 -->\n",
       "<g class=\"edge\" id=\"edge1\">\n",
       "<title>140522909635472-&gt;140523239184984</title>\n",
       "<path d=\"M225.5,-664.3799C225.5,-656.1745 225.5,-646.7679 225.5,-637.8786\" fill=\"none\" stroke=\"#000000\"/>\n",
       "<polygon fill=\"#000000\" points=\"229.0001,-637.784 225.5,-627.784 222.0001,-637.784 229.0001,-637.784\" stroke=\"#000000\"/>\n",
       "</g>\n",
       "<!-- 140522919466152 -->\n",
       "<g class=\"node\" id=\"node4\">\n",
       "<title>140522919466152</title>\n",
       "<polygon fill=\"none\" points=\"80,-498.5 80,-544.5 371,-544.5 371,-498.5 80,-498.5\" stroke=\"#000000\"/>\n",
       "<text fill=\"#000000\" font-family=\"Times,serif\" font-size=\"14.00\" text-anchor=\"middle\" x=\"142.5\" y=\"-517.8\">dropout_1: Dropout</text>\n",
       "<polyline fill=\"none\" points=\"205,-498.5 205,-544.5 \" stroke=\"#000000\"/>\n",
       "<text fill=\"#000000\" font-family=\"Times,serif\" font-size=\"14.00\" text-anchor=\"middle\" x=\"232.5\" y=\"-529.3\">input:</text>\n",
       "<polyline fill=\"none\" points=\"205,-521.5 260,-521.5 \" stroke=\"#000000\"/>\n",
       "<text fill=\"#000000\" font-family=\"Times,serif\" font-size=\"14.00\" text-anchor=\"middle\" x=\"232.5\" y=\"-506.3\">output:</text>\n",
       "<polyline fill=\"none\" points=\"260,-498.5 260,-544.5 \" stroke=\"#000000\"/>\n",
       "<text fill=\"#000000\" font-family=\"Times,serif\" font-size=\"14.00\" text-anchor=\"middle\" x=\"315.5\" y=\"-529.3\">(None, 8, 8, 512)</text>\n",
       "<polyline fill=\"none\" points=\"260,-521.5 371,-521.5 \" stroke=\"#000000\"/>\n",
       "<text fill=\"#000000\" font-family=\"Times,serif\" font-size=\"14.00\" text-anchor=\"middle\" x=\"315.5\" y=\"-506.3\">(None, 8, 8, 512)</text>\n",
       "</g>\n",
       "<!-- 140523239184984&#45;&gt;140522919466152 -->\n",
       "<g class=\"edge\" id=\"edge2\">\n",
       "<title>140523239184984-&gt;140522919466152</title>\n",
       "<path d=\"M225.5,-581.3799C225.5,-573.1745 225.5,-563.7679 225.5,-554.8786\" fill=\"none\" stroke=\"#000000\"/>\n",
       "<polygon fill=\"#000000\" points=\"229.0001,-554.784 225.5,-544.784 222.0001,-554.784 229.0001,-554.784\" stroke=\"#000000\"/>\n",
       "</g>\n",
       "<!-- 140522909636256 -->\n",
       "<g class=\"node\" id=\"node3\">\n",
       "<title>140522909636256</title>\n",
       "<polygon fill=\"none\" points=\"459,-581.5 459,-627.5 742,-627.5 742,-581.5 459,-581.5\" stroke=\"#000000\"/>\n",
       "<text fill=\"#000000\" font-family=\"Times,serif\" font-size=\"14.00\" text-anchor=\"middle\" x=\"535\" y=\"-600.8\">words_input: InputLayer</text>\n",
       "<polyline fill=\"none\" points=\"611,-581.5 611,-627.5 \" stroke=\"#000000\"/>\n",
       "<text fill=\"#000000\" font-family=\"Times,serif\" font-size=\"14.00\" text-anchor=\"middle\" x=\"638.5\" y=\"-612.3\">input:</text>\n",
       "<polyline fill=\"none\" points=\"611,-604.5 666,-604.5 \" stroke=\"#000000\"/>\n",
       "<text fill=\"#000000\" font-family=\"Times,serif\" font-size=\"14.00\" text-anchor=\"middle\" x=\"638.5\" y=\"-589.3\">output:</text>\n",
       "<polyline fill=\"none\" points=\"666,-581.5 666,-627.5 \" stroke=\"#000000\"/>\n",
       "<text fill=\"#000000\" font-family=\"Times,serif\" font-size=\"14.00\" text-anchor=\"middle\" x=\"704\" y=\"-612.3\">(None, 60)</text>\n",
       "<polyline fill=\"none\" points=\"666,-604.5 742,-604.5 \" stroke=\"#000000\"/>\n",
       "<text fill=\"#000000\" font-family=\"Times,serif\" font-size=\"14.00\" text-anchor=\"middle\" x=\"704\" y=\"-589.3\">(None, 60)</text>\n",
       "</g>\n",
       "<!-- 140522920532680 -->\n",
       "<g class=\"node\" id=\"node5\">\n",
       "<title>140522920532680</title>\n",
       "<polygon fill=\"none\" points=\"473.5,-498.5 473.5,-544.5 727.5,-544.5 727.5,-498.5 473.5,-498.5\" stroke=\"#000000\"/>\n",
       "<text fill=\"#000000\" font-family=\"Times,serif\" font-size=\"14.00\" text-anchor=\"middle\" x=\"531.5\" y=\"-517.8\">textModel: Model</text>\n",
       "<polyline fill=\"none\" points=\"589.5,-498.5 589.5,-544.5 \" stroke=\"#000000\"/>\n",
       "<text fill=\"#000000\" font-family=\"Times,serif\" font-size=\"14.00\" text-anchor=\"middle\" x=\"617\" y=\"-529.3\">input:</text>\n",
       "<polyline fill=\"none\" points=\"589.5,-521.5 644.5,-521.5 \" stroke=\"#000000\"/>\n",
       "<text fill=\"#000000\" font-family=\"Times,serif\" font-size=\"14.00\" text-anchor=\"middle\" x=\"617\" y=\"-506.3\">output:</text>\n",
       "<polyline fill=\"none\" points=\"644.5,-498.5 644.5,-544.5 \" stroke=\"#000000\"/>\n",
       "<text fill=\"#000000\" font-family=\"Times,serif\" font-size=\"14.00\" text-anchor=\"middle\" x=\"686\" y=\"-529.3\">(None, 60)</text>\n",
       "<polyline fill=\"none\" points=\"644.5,-521.5 727.5,-521.5 \" stroke=\"#000000\"/>\n",
       "<text fill=\"#000000\" font-family=\"Times,serif\" font-size=\"14.00\" text-anchor=\"middle\" x=\"686\" y=\"-506.3\">(None, 512)</text>\n",
       "</g>\n",
       "<!-- 140522909636256&#45;&gt;140522920532680 -->\n",
       "<g class=\"edge\" id=\"edge3\">\n",
       "<title>140522909636256-&gt;140522920532680</title>\n",
       "<path d=\"M600.5,-581.3799C600.5,-573.1745 600.5,-563.7679 600.5,-554.8786\" fill=\"none\" stroke=\"#000000\"/>\n",
       "<polygon fill=\"#000000\" points=\"604.0001,-554.784 600.5,-544.784 597.0001,-554.784 604.0001,-554.784\" stroke=\"#000000\"/>\n",
       "</g>\n",
       "<!-- 140522910046808 -->\n",
       "<g class=\"node\" id=\"node6\">\n",
       "<title>140522910046808</title>\n",
       "<polygon fill=\"none\" points=\"0,-415.5 0,-461.5 451,-461.5 451,-415.5 0,-415.5\" stroke=\"#000000\"/>\n",
       "<text fill=\"#000000\" font-family=\"Times,serif\" font-size=\"14.00\" text-anchor=\"middle\" x=\"142.5\" y=\"-434.8\">img2text_global_pool: GlobalAveragePooling2D</text>\n",
       "<polyline fill=\"none\" points=\"285,-415.5 285,-461.5 \" stroke=\"#000000\"/>\n",
       "<text fill=\"#000000\" font-family=\"Times,serif\" font-size=\"14.00\" text-anchor=\"middle\" x=\"312.5\" y=\"-446.3\">input:</text>\n",
       "<polyline fill=\"none\" points=\"285,-438.5 340,-438.5 \" stroke=\"#000000\"/>\n",
       "<text fill=\"#000000\" font-family=\"Times,serif\" font-size=\"14.00\" text-anchor=\"middle\" x=\"312.5\" y=\"-423.3\">output:</text>\n",
       "<polyline fill=\"none\" points=\"340,-415.5 340,-461.5 \" stroke=\"#000000\"/>\n",
       "<text fill=\"#000000\" font-family=\"Times,serif\" font-size=\"14.00\" text-anchor=\"middle\" x=\"395.5\" y=\"-446.3\">(None, 8, 8, 512)</text>\n",
       "<polyline fill=\"none\" points=\"340,-438.5 451,-438.5 \" stroke=\"#000000\"/>\n",
       "<text fill=\"#000000\" font-family=\"Times,serif\" font-size=\"14.00\" text-anchor=\"middle\" x=\"395.5\" y=\"-423.3\">(None, 512)</text>\n",
       "</g>\n",
       "<!-- 140522919466152&#45;&gt;140522910046808 -->\n",
       "<g class=\"edge\" id=\"edge4\">\n",
       "<title>140522919466152-&gt;140522910046808</title>\n",
       "<path d=\"M225.5,-498.3799C225.5,-490.1745 225.5,-480.7679 225.5,-471.8786\" fill=\"none\" stroke=\"#000000\"/>\n",
       "<polygon fill=\"#000000\" points=\"229.0001,-471.784 225.5,-461.784 222.0001,-471.784 229.0001,-471.784\" stroke=\"#000000\"/>\n",
       "</g>\n",
       "<!-- 140522909635808 -->\n",
       "<g class=\"node\" id=\"node7\">\n",
       "<title>140522909635808</title>\n",
       "<polygon fill=\"none\" points=\"469,-415.5 469,-461.5 732,-461.5 732,-415.5 469,-415.5\" stroke=\"#000000\"/>\n",
       "<text fill=\"#000000\" font-family=\"Times,serif\" font-size=\"14.00\" text-anchor=\"middle\" x=\"531.5\" y=\"-434.8\">dropout_2: Dropout</text>\n",
       "<polyline fill=\"none\" points=\"594,-415.5 594,-461.5 \" stroke=\"#000000\"/>\n",
       "<text fill=\"#000000\" font-family=\"Times,serif\" font-size=\"14.00\" text-anchor=\"middle\" x=\"621.5\" y=\"-446.3\">input:</text>\n",
       "<polyline fill=\"none\" points=\"594,-438.5 649,-438.5 \" stroke=\"#000000\"/>\n",
       "<text fill=\"#000000\" font-family=\"Times,serif\" font-size=\"14.00\" text-anchor=\"middle\" x=\"621.5\" y=\"-423.3\">output:</text>\n",
       "<polyline fill=\"none\" points=\"649,-415.5 649,-461.5 \" stroke=\"#000000\"/>\n",
       "<text fill=\"#000000\" font-family=\"Times,serif\" font-size=\"14.00\" text-anchor=\"middle\" x=\"690.5\" y=\"-446.3\">(None, 512)</text>\n",
       "<polyline fill=\"none\" points=\"649,-438.5 732,-438.5 \" stroke=\"#000000\"/>\n",
       "<text fill=\"#000000\" font-family=\"Times,serif\" font-size=\"14.00\" text-anchor=\"middle\" x=\"690.5\" y=\"-423.3\">(None, 512)</text>\n",
       "</g>\n",
       "<!-- 140522920532680&#45;&gt;140522909635808 -->\n",
       "<g class=\"edge\" id=\"edge5\">\n",
       "<title>140522920532680-&gt;140522909635808</title>\n",
       "<path d=\"M600.5,-498.3799C600.5,-490.1745 600.5,-480.7679 600.5,-471.8786\" fill=\"none\" stroke=\"#000000\"/>\n",
       "<polygon fill=\"#000000\" points=\"604.0001,-471.784 600.5,-461.784 597.0001,-471.784 604.0001,-471.784\" stroke=\"#000000\"/>\n",
       "</g>\n",
       "<!-- 140522679383040 -->\n",
       "<g class=\"node\" id=\"node8\">\n",
       "<title>140522679383040</title>\n",
       "<polygon fill=\"none\" points=\"218.5,-332.5 218.5,-378.5 606.5,-378.5 606.5,-332.5 218.5,-332.5\" stroke=\"#000000\"/>\n",
       "<text fill=\"#000000\" font-family=\"Times,serif\" font-size=\"14.00\" text-anchor=\"middle\" x=\"302.5\" y=\"-351.8\">concatenate_2: Concatenate</text>\n",
       "<polyline fill=\"none\" points=\"386.5,-332.5 386.5,-378.5 \" stroke=\"#000000\"/>\n",
       "<text fill=\"#000000\" font-family=\"Times,serif\" font-size=\"14.00\" text-anchor=\"middle\" x=\"414\" y=\"-363.3\">input:</text>\n",
       "<polyline fill=\"none\" points=\"386.5,-355.5 441.5,-355.5 \" stroke=\"#000000\"/>\n",
       "<text fill=\"#000000\" font-family=\"Times,serif\" font-size=\"14.00\" text-anchor=\"middle\" x=\"414\" y=\"-340.3\">output:</text>\n",
       "<polyline fill=\"none\" points=\"441.5,-332.5 441.5,-378.5 \" stroke=\"#000000\"/>\n",
       "<text fill=\"#000000\" font-family=\"Times,serif\" font-size=\"14.00\" text-anchor=\"middle\" x=\"524\" y=\"-363.3\">[(None, 512), (None, 512)]</text>\n",
       "<polyline fill=\"none\" points=\"441.5,-355.5 606.5,-355.5 \" stroke=\"#000000\"/>\n",
       "<text fill=\"#000000\" font-family=\"Times,serif\" font-size=\"14.00\" text-anchor=\"middle\" x=\"524\" y=\"-340.3\">(None, 1024)</text>\n",
       "</g>\n",
       "<!-- 140522910046808&#45;&gt;140522679383040 -->\n",
       "<g class=\"edge\" id=\"edge6\">\n",
       "<title>140522910046808-&gt;140522679383040</title>\n",
       "<path d=\"M277.5899,-415.3799C300.3918,-405.2592 327.3113,-393.311 351.0825,-382.7602\" fill=\"none\" stroke=\"#000000\"/>\n",
       "<polygon fill=\"#000000\" points=\"352.6452,-385.8959 360.3654,-378.6399 349.8054,-379.4978 352.6452,-385.8959\" stroke=\"#000000\"/>\n",
       "</g>\n",
       "<!-- 140522909635808&#45;&gt;140522679383040 -->\n",
       "<g class=\"edge\" id=\"edge7\">\n",
       "<title>140522909635808-&gt;140522679383040</title>\n",
       "<path d=\"M548.1315,-415.3799C525.2077,-405.2592 498.1442,-393.311 474.246,-382.7602\" fill=\"none\" stroke=\"#000000\"/>\n",
       "<polygon fill=\"#000000\" points=\"475.4751,-379.477 464.9134,-378.6399 472.6479,-385.8806 475.4751,-379.477\" stroke=\"#000000\"/>\n",
       "</g>\n",
       "<!-- 140522679383824 -->\n",
       "<g class=\"node\" id=\"node9\">\n",
       "<title>140522679383824</title>\n",
       "<polygon fill=\"none\" points=\"289.5,-249.5 289.5,-295.5 535.5,-295.5 535.5,-249.5 289.5,-249.5\" stroke=\"#000000\"/>\n",
       "<text fill=\"#000000\" font-family=\"Times,serif\" font-size=\"14.00\" text-anchor=\"middle\" x=\"340.5\" y=\"-268.8\">dense_1: Dense</text>\n",
       "<polyline fill=\"none\" points=\"391.5,-249.5 391.5,-295.5 \" stroke=\"#000000\"/>\n",
       "<text fill=\"#000000\" font-family=\"Times,serif\" font-size=\"14.00\" text-anchor=\"middle\" x=\"419\" y=\"-280.3\">input:</text>\n",
       "<polyline fill=\"none\" points=\"391.5,-272.5 446.5,-272.5 \" stroke=\"#000000\"/>\n",
       "<text fill=\"#000000\" font-family=\"Times,serif\" font-size=\"14.00\" text-anchor=\"middle\" x=\"419\" y=\"-257.3\">output:</text>\n",
       "<polyline fill=\"none\" points=\"446.5,-249.5 446.5,-295.5 \" stroke=\"#000000\"/>\n",
       "<text fill=\"#000000\" font-family=\"Times,serif\" font-size=\"14.00\" text-anchor=\"middle\" x=\"491\" y=\"-280.3\">(None, 1024)</text>\n",
       "<polyline fill=\"none\" points=\"446.5,-272.5 535.5,-272.5 \" stroke=\"#000000\"/>\n",
       "<text fill=\"#000000\" font-family=\"Times,serif\" font-size=\"14.00\" text-anchor=\"middle\" x=\"491\" y=\"-257.3\">(None, 1024)</text>\n",
       "</g>\n",
       "<!-- 140522679383040&#45;&gt;140522679383824 -->\n",
       "<g class=\"edge\" id=\"edge8\">\n",
       "<title>140522679383040-&gt;140522679383824</title>\n",
       "<path d=\"M412.5,-332.3799C412.5,-324.1745 412.5,-314.7679 412.5,-305.8786\" fill=\"none\" stroke=\"#000000\"/>\n",
       "<polygon fill=\"#000000\" points=\"416.0001,-305.784 412.5,-295.784 409.0001,-305.784 416.0001,-305.784\" stroke=\"#000000\"/>\n",
       "</g>\n",
       "<!-- 140522679383992 -->\n",
       "<g class=\"node\" id=\"node10\">\n",
       "<title>140522679383992</title>\n",
       "<polygon fill=\"none\" points=\"289.5,-166.5 289.5,-212.5 535.5,-212.5 535.5,-166.5 289.5,-166.5\" stroke=\"#000000\"/>\n",
       "<text fill=\"#000000\" font-family=\"Times,serif\" font-size=\"14.00\" text-anchor=\"middle\" x=\"340.5\" y=\"-185.8\">dense_2: Dense</text>\n",
       "<polyline fill=\"none\" points=\"391.5,-166.5 391.5,-212.5 \" stroke=\"#000000\"/>\n",
       "<text fill=\"#000000\" font-family=\"Times,serif\" font-size=\"14.00\" text-anchor=\"middle\" x=\"419\" y=\"-197.3\">input:</text>\n",
       "<polyline fill=\"none\" points=\"391.5,-189.5 446.5,-189.5 \" stroke=\"#000000\"/>\n",
       "<text fill=\"#000000\" font-family=\"Times,serif\" font-size=\"14.00\" text-anchor=\"middle\" x=\"419\" y=\"-174.3\">output:</text>\n",
       "<polyline fill=\"none\" points=\"446.5,-166.5 446.5,-212.5 \" stroke=\"#000000\"/>\n",
       "<text fill=\"#000000\" font-family=\"Times,serif\" font-size=\"14.00\" text-anchor=\"middle\" x=\"491\" y=\"-197.3\">(None, 1024)</text>\n",
       "<polyline fill=\"none\" points=\"446.5,-189.5 535.5,-189.5 \" stroke=\"#000000\"/>\n",
       "<text fill=\"#000000\" font-family=\"Times,serif\" font-size=\"14.00\" text-anchor=\"middle\" x=\"491\" y=\"-174.3\">(None, 512)</text>\n",
       "</g>\n",
       "<!-- 140522679383824&#45;&gt;140522679383992 -->\n",
       "<g class=\"edge\" id=\"edge9\">\n",
       "<title>140522679383824-&gt;140522679383992</title>\n",
       "<path d=\"M412.5,-249.3799C412.5,-241.1745 412.5,-231.7679 412.5,-222.8786\" fill=\"none\" stroke=\"#000000\"/>\n",
       "<polygon fill=\"#000000\" points=\"416.0001,-222.784 412.5,-212.784 409.0001,-222.784 416.0001,-222.784\" stroke=\"#000000\"/>\n",
       "</g>\n",
       "<!-- 140522679385000 -->\n",
       "<g class=\"node\" id=\"node11\">\n",
       "<title>140522679385000</title>\n",
       "<polygon fill=\"none\" points=\"281,-83.5 281,-129.5 544,-129.5 544,-83.5 281,-83.5\" stroke=\"#000000\"/>\n",
       "<text fill=\"#000000\" font-family=\"Times,serif\" font-size=\"14.00\" text-anchor=\"middle\" x=\"343.5\" y=\"-102.8\">dropout_3: Dropout</text>\n",
       "<polyline fill=\"none\" points=\"406,-83.5 406,-129.5 \" stroke=\"#000000\"/>\n",
       "<text fill=\"#000000\" font-family=\"Times,serif\" font-size=\"14.00\" text-anchor=\"middle\" x=\"433.5\" y=\"-114.3\">input:</text>\n",
       "<polyline fill=\"none\" points=\"406,-106.5 461,-106.5 \" stroke=\"#000000\"/>\n",
       "<text fill=\"#000000\" font-family=\"Times,serif\" font-size=\"14.00\" text-anchor=\"middle\" x=\"433.5\" y=\"-91.3\">output:</text>\n",
       "<polyline fill=\"none\" points=\"461,-83.5 461,-129.5 \" stroke=\"#000000\"/>\n",
       "<text fill=\"#000000\" font-family=\"Times,serif\" font-size=\"14.00\" text-anchor=\"middle\" x=\"502.5\" y=\"-114.3\">(None, 512)</text>\n",
       "<polyline fill=\"none\" points=\"461,-106.5 544,-106.5 \" stroke=\"#000000\"/>\n",
       "<text fill=\"#000000\" font-family=\"Times,serif\" font-size=\"14.00\" text-anchor=\"middle\" x=\"502.5\" y=\"-91.3\">(None, 512)</text>\n",
       "</g>\n",
       "<!-- 140522679383992&#45;&gt;140522679385000 -->\n",
       "<g class=\"edge\" id=\"edge10\">\n",
       "<title>140522679383992-&gt;140522679385000</title>\n",
       "<path d=\"M412.5,-166.3799C412.5,-158.1745 412.5,-148.7679 412.5,-139.8786\" fill=\"none\" stroke=\"#000000\"/>\n",
       "<polygon fill=\"#000000\" points=\"416.0001,-139.784 412.5,-129.784 409.0001,-139.784 416.0001,-139.784\" stroke=\"#000000\"/>\n",
       "</g>\n",
       "<!-- 140522679005760 -->\n",
       "<g class=\"node\" id=\"node12\">\n",
       "<title>140522679005760</title>\n",
       "<polygon fill=\"none\" points=\"275.5,-.5 275.5,-46.5 549.5,-46.5 549.5,-.5 275.5,-.5\" stroke=\"#000000\"/>\n",
       "<text fill=\"#000000\" font-family=\"Times,serif\" font-size=\"14.00\" text-anchor=\"middle\" x=\"337\" y=\"-19.8\">target_word: Dense</text>\n",
       "<polyline fill=\"none\" points=\"398.5,-.5 398.5,-46.5 \" stroke=\"#000000\"/>\n",
       "<text fill=\"#000000\" font-family=\"Times,serif\" font-size=\"14.00\" text-anchor=\"middle\" x=\"426\" y=\"-31.3\">input:</text>\n",
       "<polyline fill=\"none\" points=\"398.5,-23.5 453.5,-23.5 \" stroke=\"#000000\"/>\n",
       "<text fill=\"#000000\" font-family=\"Times,serif\" font-size=\"14.00\" text-anchor=\"middle\" x=\"426\" y=\"-8.3\">output:</text>\n",
       "<polyline fill=\"none\" points=\"453.5,-.5 453.5,-46.5 \" stroke=\"#000000\"/>\n",
       "<text fill=\"#000000\" font-family=\"Times,serif\" font-size=\"14.00\" text-anchor=\"middle\" x=\"501.5\" y=\"-31.3\">(None, 512)</text>\n",
       "<polyline fill=\"none\" points=\"453.5,-23.5 549.5,-23.5 \" stroke=\"#000000\"/>\n",
       "<text fill=\"#000000\" font-family=\"Times,serif\" font-size=\"14.00\" text-anchor=\"middle\" x=\"501.5\" y=\"-8.3\">(None, 20795)</text>\n",
       "</g>\n",
       "<!-- 140522679385000&#45;&gt;140522679005760 -->\n",
       "<g class=\"edge\" id=\"edge11\">\n",
       "<title>140522679385000-&gt;140522679005760</title>\n",
       "<path d=\"M412.5,-83.3799C412.5,-75.1745 412.5,-65.7679 412.5,-56.8786\" fill=\"none\" stroke=\"#000000\"/>\n",
       "<polygon fill=\"#000000\" points=\"416.0001,-56.784 412.5,-46.784 409.0001,-56.784 416.0001,-56.784\" stroke=\"#000000\"/>\n",
       "</g>\n",
       "</g>\n",
       "</svg>"
      ],
      "text/plain": [
       "<IPython.core.display.SVG object>"
      ]
     },
     "execution_count": 36,
     "metadata": {},
     "output_type": "execute_result"
    }
   ],
   "source": [
    "SVG(model_to_dot(model, show_layer_names=True, show_shapes=True).create(prog='dot', format='svg'))\n"
   ]
  },
  {
   "cell_type": "code",
   "execution_count": 37,
   "metadata": {},
   "outputs": [],
   "source": [
    "model_json = model.to_json()\n",
    "with open(\"../model_json/visual_genome_{0}.json\".format(model_name), \"w\") as json_file:\n",
    "    json_file.write(model_json)\n"
   ]
  },
  {
   "cell_type": "code",
   "execution_count": 38,
   "metadata": {},
   "outputs": [
    {
     "data": {
      "text/plain": [
       "'vgg_1dcnn_text_img_attention'"
      ]
     },
     "execution_count": 38,
     "metadata": {},
     "output_type": "execute_result"
    }
   ],
   "source": [
    "model_name"
   ]
  },
  {
   "cell_type": "code",
   "execution_count": 39,
   "metadata": {},
   "outputs": [
    {
     "name": "stdout",
     "output_type": "stream",
     "text": [
      "_________________________________________________________________\n",
      "Layer (type)                 Output Shape              Param #   \n",
      "=================================================================\n",
      "words_input (InputLayer)     (None, 60)                0         \n",
      "_________________________________________________________________\n",
      "w2v_emb (Embedding)          (None, 60, 300)           6238500   \n",
      "=================================================================\n",
      "Total params: 6,238,500\n",
      "Trainable params: 6,238,500\n",
      "Non-trainable params: 0\n",
      "_________________________________________________________________\n"
     ]
    }
   ],
   "source": [
    "emb = Model(textNet.inputs[0],textNet.get_layer('w2v_emb').output)\n",
    "emb.summary()\n"
   ]
  },
  {
   "cell_type": "code",
   "execution_count": 40,
   "metadata": {},
   "outputs": [],
   "source": [
    "def datagen(img_lst,batch_size=4):\n",
    "    counter=0\n",
    "    x1,x2,y,sents,masks, img_names = [],[],[],[],[],[]\n",
    "    idx = 0\n",
    "    while True:\n",
    "        im = img_lst[idx]\n",
    "#         print(im)\n",
    "        photo = cv2.resize(cv2.imread('../../dataset/train_images/VG_100K/{0}.jpg'.format(im)),(256,256),cv2.INTER_CUBIC)\n",
    "        photo = photo/255.0\n",
    "    \n",
    "#         print(merged_ds[merged_ds.filename==im])\n",
    "        sent = merged_ds[merged_ds.ID==im]['Desc'].values[0].lower()\n",
    "        \n",
    "        ts = nlp(sent)\n",
    "#         print(ts)\n",
    "        ts = [str(x) for x in list(ts)]\n",
    "#         print(tss)\n",
    "        ts = ts[:max_wlen-1]\n",
    "        sent_words = ['startseq']\n",
    "        for t in ts:\n",
    "#             print(t)\n",
    "#             t = 'sdadasasdasads'\n",
    "            if (t not in w_to_co.keys()) : #or ('xx' in t):\n",
    "#                 print('not present:',t)\n",
    "                pass\n",
    "            else:\n",
    "                sent_words.append(t)\n",
    "        sent_words.append('endseq')\n",
    "#         print(sent_words)\n",
    "\n",
    "        seq = [w_to_co[x] for x in sent_words]\n",
    "        # split one sequence into multiple X, y pairs\n",
    "        for i in range(1, len(seq)):\n",
    "            \n",
    "            in_seq, out_seq = seq[:i], seq[i]\n",
    "#             print(out_seq)\n",
    "            in_seq = sequence.pad_sequences([in_seq], maxlen=max_wlen,padding='pre',value=0)[0]\n",
    "            mask = [0.001 if x<1 else  1 for x in in_seq]\n",
    "            mask = np.expand_dims(mask,-1)\n",
    "            out_seq = np_utils.to_categorical([out_seq], num_classes=vocab_size+1)[0]\n",
    "            x1.append(photo)\n",
    "            img_names.append('{0}.jpg'.format(im))\n",
    "            x2.append(in_seq)\n",
    "            masks.append(mask)\n",
    "            y.append(out_seq)\n",
    "            sents.append(sent)\n",
    "        counter+=1\n",
    "        idx+=1\n",
    "#         print(idx)\n",
    "        if idx==len(img_lst):\n",
    "            idx=0\n",
    "        if counter==batch_size:\n",
    "            counter=0\n",
    "            inputs = {'image_input': np.array(x1),\n",
    "                      'words_input': np.array(x2),\n",
    "                      'padding_masks':np.array(masks),\n",
    "                      'image_names':np.array(img_names)\n",
    "                     }\n",
    "            outputs = {'target_word':np.array(y),\n",
    "                      'actual_sentence':np.array(sents)}\n",
    "            yield inputs, outputs\n",
    "            x1,x2,y,sents,masks,img_names = [],[],[],[],[],[]"
   ]
  },
  {
   "cell_type": "code",
   "execution_count": 41,
   "metadata": {},
   "outputs": [
    {
     "name": "stdout",
     "output_type": "stream",
     "text": [
      "train: 35000 + val: 10000 + test: 5000  =  50000\n"
     ]
    }
   ],
   "source": [
    "\n",
    "\n",
    "with open('../../dataset/descriptions/visual_genome_train_images.p', 'rb') as filehandle:\n",
    "    # read the data as binary data stream\n",
    "    train_images_list = pickle.load(filehandle)\n",
    "with open('../../dataset/descriptions/visual_genome_val_images.p', 'rb') as filehandle:\n",
    "    # read the data as binary data stream\n",
    "    val_images_list = pickle.load(filehandle)\n",
    "with open('../../dataset/descriptions/visual_genome_test_images.p', 'rb') as filehandle:\n",
    "    # read the data as binary data stream\n",
    "    test_images_list = pickle.load(filehandle)\n",
    "# train_images_list=list(train_images_list)+list(val_images_list)\n",
    "print('train:',len(train_images_list),\n",
    "      '+ val:',len(val_images_list),\n",
    "      '+ test:',len(test_images_list),\n",
    "      ' = ',(len(train_images_list)+len(val_images_list)+len(test_images_list)))\n",
    "train_batch_size = 64\n",
    "val_batch_size = 64\n",
    "test_batch_size = 1\n",
    "train_gen = datagen(train_images_list,batch_size=train_batch_size)\n",
    "val_gen = datagen(val_images_list,batch_size=val_batch_size)\n",
    "test_gen = datagen(test_images_list,batch_size=test_batch_size)"
   ]
  },
  {
   "cell_type": "code",
   "execution_count": 42,
   "metadata": {},
   "outputs": [],
   "source": [
    "# # test_images_list = merged_ds.filename.values\n",
    "# # test_images_list = list(test_images_list)\n",
    "# # for x in train_images_list:\n",
    "# #     test_images_list.remove(x)\n",
    "# # for x in val_images_list:\n",
    "# #     test_images_list.remove(x)\n",
    "# # len(test_images_list)\n",
    "# imgs = merged_ds.ID.values\n",
    "# imgs"
   ]
  },
  {
   "cell_type": "code",
   "execution_count": 43,
   "metadata": {},
   "outputs": [],
   "source": [
    "\n",
    "# np.random.shuffle(imgs)\n",
    "\n",
    "# train_images_list = imgs[:int(0.7*len(imgs))]\n",
    "# val_images_list = imgs[int(0.7*len(imgs)):int(0.9*len(imgs))]\n",
    "# test_images_list = imgs[int(0.9*len(imgs)):]\n",
    "# train_images_list.shape,val_images_list.shape,test_images_list.shape\n",
    "# with open('../../dataset/descriptions/visual_genome_train_images.p', 'wb') as file:\n",
    "#     # store the data as binary data stream\n",
    "#     pickle.dump(train_images_list, file)\n",
    "# with open('../../dataset/descriptions/visual_genome_val_images.p', 'wb') as file:\n",
    "#     # store the data as binary data stream\n",
    "#     pickle.dump(val_images_list, file)\n",
    "# with open('../../dataset/descriptions/visual_genome_test_images.p', 'wb') as file:\n",
    "#     # store the data as binary data stream\n",
    "#     pickle.dump(test_images_list, file)\n",
    "# # # tx,ty = next(train_gen)\n",
    "# # # tx['padding_masks'][30].shape"
   ]
  },
  {
   "cell_type": "code",
   "execution_count": 44,
   "metadata": {
    "scrolled": true
   },
   "outputs": [],
   "source": [
    "\n",
    "# display(tx['image_input'].shape\n",
    "#         ,tx['words_input'][30]\n",
    "#         ,tx['padding_masks'][30]\n",
    "#         ,' '.join([co_to_w[x] if x !=0 else '' for x in tx['words_input'][30]])\n",
    "#         ,ty['actual_sentence'][30])\n",
    "# train_images_list=list(train_images_list)+list(val_images_list)"
   ]
  },
  {
   "cell_type": "code",
   "execution_count": 45,
   "metadata": {},
   "outputs": [
    {
     "data": {
      "text/plain": [
       "(5000, 35000)"
      ]
     },
     "execution_count": 45,
     "metadata": {},
     "output_type": "execute_result"
    }
   ],
   "source": [
    "len(test_images_list),len(train_images_list)"
   ]
  },
  {
   "cell_type": "code",
   "execution_count": 46,
   "metadata": {},
   "outputs": [],
   "source": [
    "# # def _ctc_lambda_func(args):\n",
    "# #     labels, y_pred, input_length, label_length = args\n",
    "# #     return K.tf.keras.backend.ctc_batch_cost(labels, y_pred, input_length, label_length)\n",
    "# vggnet.summary()\n",
    "# w_to_co['xxxx']\n",
    "\n",
    "# np.clip(0,a_max=1,a_min=1e-8)"
   ]
  },
  {
   "cell_type": "code",
   "execution_count": 47,
   "metadata": {
    "scrolled": true
   },
   "outputs": [
    {
     "data": {
      "text/html": [
       "<div>\n",
       "<style scoped>\n",
       "    .dataframe tbody tr th:only-of-type {\n",
       "        vertical-align: middle;\n",
       "    }\n",
       "\n",
       "    .dataframe tbody tr th {\n",
       "        vertical-align: top;\n",
       "    }\n",
       "\n",
       "    .dataframe thead th {\n",
       "        text-align: right;\n",
       "    }\n",
       "</style>\n",
       "<table border=\"1\" class=\"dataframe\">\n",
       "  <thead>\n",
       "    <tr style=\"text-align: right;\">\n",
       "      <th></th>\n",
       "      <th>ID</th>\n",
       "      <th>Desc</th>\n",
       "    </tr>\n",
       "  </thead>\n",
       "  <tbody>\n",
       "    <tr>\n",
       "      <th>0</th>\n",
       "      <td>1</td>\n",
       "      <td>the clock is green in colour. shade is along t...</td>\n",
       "    </tr>\n",
       "    <tr>\n",
       "      <th>1</th>\n",
       "      <td>2</td>\n",
       "      <td>walk sign is lit up. man wearing silver backpa...</td>\n",
       "    </tr>\n",
       "    <tr>\n",
       "      <th>2</th>\n",
       "      <td>3</td>\n",
       "      <td>multi-line office phone system. electrical and...</td>\n",
       "    </tr>\n",
       "    <tr>\n",
       "      <th>3</th>\n",
       "      <td>4</td>\n",
       "      <td>Blue curtains with sailboats on them. A black ...</td>\n",
       "    </tr>\n",
       "    <tr>\n",
       "      <th>4</th>\n",
       "      <td>5</td>\n",
       "      <td>the floor is wooden. white cables are on the f...</td>\n",
       "    </tr>\n",
       "  </tbody>\n",
       "</table>\n",
       "</div>"
      ],
      "text/plain": [
       "   ID                                               Desc\n",
       "0   1  the clock is green in colour. shade is along t...\n",
       "1   2  walk sign is lit up. man wearing silver backpa...\n",
       "2   3  multi-line office phone system. electrical and...\n",
       "3   4  Blue curtains with sailboats on them. A black ...\n",
       "4   5  the floor is wooden. white cables are on the f..."
      ]
     },
     "execution_count": 47,
     "metadata": {},
     "output_type": "execute_result"
    }
   ],
   "source": [
    "# print(co_to_w[273])\n",
    "# print(embedding_matrix[1380])\n",
    "# for u,v in zip(tx['words_input'][0],tx['padding_masks'][0]):\n",
    "#     print(u,v)\n",
    "merged_ds.head()"
   ]
  },
  {
   "cell_type": "code",
   "execution_count": 48,
   "metadata": {
    "scrolled": true
   },
   "outputs": [],
   "source": [
    "# att = np.random.randint(1,10,(4,5,5))\n",
    "# mask = 1-np.triu(np.ones((4,5,5)),k=1)\n",
    "# att*mask\n",
    "vx,vy = next(val_gen)"
   ]
  },
  {
   "cell_type": "code",
   "execution_count": 49,
   "metadata": {},
   "outputs": [
    {
     "data": {
      "text/plain": [
       "<matplotlib.image.AxesImage at 0x7fcde65b9748>"
      ]
     },
     "execution_count": 49,
     "metadata": {},
     "output_type": "execute_result"
    },
    {
     "data": {
      "image/png": "[encoded data removed]",
      "text/plain": [
       "<Figure size 432x288 with 1 Axes>"
      ]
     },
     "metadata": {
      "needs_background": "light"
     },
     "output_type": "display_data"
    }
   ],
   "source": [
    "img = vx['image_input'][0]\n",
    "plt.imshow(img)"
   ]
  },
  {
   "cell_type": "code",
   "execution_count": 50,
   "metadata": {
    "scrolled": true
   },
   "outputs": [
    {
     "name": "stdout",
     "output_type": "stream",
     "text": [
      "--- 0 ---\n",
      "[2370764.jpg], input_seq: <None> [0.001], <None> [0.001], <None> [0.001], <None> [0.001], <None> [0.001], <None> [0.001], <None> [0.001], <None> [0.001], <None> [0.001], <None> [0.001], <None> [0.001], <None> [0.001], <None> [0.001], <None> [0.001], <None> [0.001], <None> [0.001], <None> [0.001], <None> [0.001], <None> [0.001], <None> [0.001], <None> [0.001], <None> [0.001], <None> [0.001], <None> [0.001], <None> [0.001], <None> [0.001], <None> [0.001], <None> [0.001], <None> [0.001], <None> [0.001], <None> [0.001], <None> [0.001], <None> [0.001], <None> [0.001], <None> [0.001], <None> [0.001], <None> [0.001], <None> [0.001], <None> [0.001], <None> [0.001], <None> [0.001], <None> [0.001], <None> [0.001], <None> [0.001], <None> [0.001], <None> [0.001], <None> [0.001], <None> [0.001], <None> [0.001], <None> [0.001], <None> [0.001], <None> [0.001], <None> [0.001], <None> [0.001], <None> [0.001], <None> [0.001], <None> [0.001], <None> [0.001], <None> [0.001], <startseq> [1.] , \t next_word: a\n",
      "--- 1 ---\n",
      "[2370764.jpg], input_seq: <None> [0.001], <None> [0.001], <None> [0.001], <None> [0.001], <None> [0.001], <None> [0.001], <None> [0.001], <None> [0.001], <None> [0.001], <None> [0.001], <None> [0.001], <None> [0.001], <None> [0.001], <None> [0.001], <None> [0.001], <None> [0.001], <None> [0.001], <None> [0.001], <None> [0.001], <None> [0.001], <None> [0.001], <None> [0.001], <None> [0.001], <None> [0.001], <None> [0.001], <None> [0.001], <None> [0.001], <None> [0.001], <None> [0.001], <None> [0.001], <None> [0.001], <None> [0.001], <None> [0.001], <None> [0.001], <None> [0.001], <None> [0.001], <None> [0.001], <None> [0.001], <None> [0.001], <None> [0.001], <None> [0.001], <None> [0.001], <None> [0.001], <None> [0.001], <None> [0.001], <None> [0.001], <None> [0.001], <None> [0.001], <None> [0.001], <None> [0.001], <None> [0.001], <None> [0.001], <None> [0.001], <None> [0.001], <None> [0.001], <None> [0.001], <None> [0.001], <None> [0.001], <startseq> [1.], <a> [1.] , \t next_word: clock\n",
      "--- 2 ---\n",
      "[2370764.jpg], input_seq: <None> [0.001], <None> [0.001], <None> [0.001], <None> [0.001], <None> [0.001], <None> [0.001], <None> [0.001], <None> [0.001], <None> [0.001], <None> [0.001], <None> [0.001], <None> [0.001], <None> [0.001], <None> [0.001], <None> [0.001], <None> [0.001], <None> [0.001], <None> [0.001], <None> [0.001], <None> [0.001], <None> [0.001], <None> [0.001], <None> [0.001], <None> [0.001], <None> [0.001], <None> [0.001], <None> [0.001], <None> [0.001], <None> [0.001], <None> [0.001], <None> [0.001], <None> [0.001], <None> [0.001], <None> [0.001], <None> [0.001], <None> [0.001], <None> [0.001], <None> [0.001], <None> [0.001], <None> [0.001], <None> [0.001], <None> [0.001], <None> [0.001], <None> [0.001], <None> [0.001], <None> [0.001], <None> [0.001], <None> [0.001], <None> [0.001], <None> [0.001], <None> [0.001], <None> [0.001], <None> [0.001], <None> [0.001], <None> [0.001], <None> [0.001], <None> [0.001], <startseq> [1.], <a> [1.], <clock> [1.] , \t next_word: mounted\n",
      "--- 3 ---\n",
      "[2370764.jpg], input_seq: <None> [0.001], <None> [0.001], <None> [0.001], <None> [0.001], <None> [0.001], <None> [0.001], <None> [0.001], <None> [0.001], <None> [0.001], <None> [0.001], <None> [0.001], <None> [0.001], <None> [0.001], <None> [0.001], <None> [0.001], <None> [0.001], <None> [0.001], <None> [0.001], <None> [0.001], <None> [0.001], <None> [0.001], <None> [0.001], <None> [0.001], <None> [0.001], <None> [0.001], <None> [0.001], <None> [0.001], <None> [0.001], <None> [0.001], <None> [0.001], <None> [0.001], <None> [0.001], <None> [0.001], <None> [0.001], <None> [0.001], <None> [0.001], <None> [0.001], <None> [0.001], <None> [0.001], <None> [0.001], <None> [0.001], <None> [0.001], <None> [0.001], <None> [0.001], <None> [0.001], <None> [0.001], <None> [0.001], <None> [0.001], <None> [0.001], <None> [0.001], <None> [0.001], <None> [0.001], <None> [0.001], <None> [0.001], <None> [0.001], <None> [0.001], <startseq> [1.], <a> [1.], <clock> [1.], <mounted> [1.] , \t next_word: to\n",
      "--- 4 ---\n",
      "[2370764.jpg], input_seq: <None> [0.001], <None> [0.001], <None> [0.001], <None> [0.001], <None> [0.001], <None> [0.001], <None> [0.001], <None> [0.001], <None> [0.001], <None> [0.001], <None> [0.001], <None> [0.001], <None> [0.001], <None> [0.001], <None> [0.001], <None> [0.001], <None> [0.001], <None> [0.001], <None> [0.001], <None> [0.001], <None> [0.001], <None> [0.001], <None> [0.001], <None> [0.001], <None> [0.001], <None> [0.001], <None> [0.001], <None> [0.001], <None> [0.001], <None> [0.001], <None> [0.001], <None> [0.001], <None> [0.001], <None> [0.001], <None> [0.001], <None> [0.001], <None> [0.001], <None> [0.001], <None> [0.001], <None> [0.001], <None> [0.001], <None> [0.001], <None> [0.001], <None> [0.001], <None> [0.001], <None> [0.001], <None> [0.001], <None> [0.001], <None> [0.001], <None> [0.001], <None> [0.001], <None> [0.001], <None> [0.001], <None> [0.001], <None> [0.001], <startseq> [1.], <a> [1.], <clock> [1.], <mounted> [1.], <to> [1.] , \t next_word: a\n",
      "--- 5 ---\n",
      "[2370764.jpg], input_seq: <None> [0.001], <None> [0.001], <None> [0.001], <None> [0.001], <None> [0.001], <None> [0.001], <None> [0.001], <None> [0.001], <None> [0.001], <None> [0.001], <None> [0.001], <None> [0.001], <None> [0.001], <None> [0.001], <None> [0.001], <None> [0.001], <None> [0.001], <None> [0.001], <None> [0.001], <None> [0.001], <None> [0.001], <None> [0.001], <None> [0.001], <None> [0.001], <None> [0.001], <None> [0.001], <None> [0.001], <None> [0.001], <None> [0.001], <None> [0.001], <None> [0.001], <None> [0.001], <None> [0.001], <None> [0.001], <None> [0.001], <None> [0.001], <None> [0.001], <None> [0.001], <None> [0.001], <None> [0.001], <None> [0.001], <None> [0.001], <None> [0.001], <None> [0.001], <None> [0.001], <None> [0.001], <None> [0.001], <None> [0.001], <None> [0.001], <None> [0.001], <None> [0.001], <None> [0.001], <None> [0.001], <None> [0.001], <startseq> [1.], <a> [1.], <clock> [1.], <mounted> [1.], <to> [1.], <a> [1.] , \t next_word: wall\n",
      "--- 6 ---\n",
      "[2370764.jpg], input_seq: <None> [0.001], <None> [0.001], <None> [0.001], <None> [0.001], <None> [0.001], <None> [0.001], <None> [0.001], <None> [0.001], <None> [0.001], <None> [0.001], <None> [0.001], <None> [0.001], <None> [0.001], <None> [0.001], <None> [0.001], <None> [0.001], <None> [0.001], <None> [0.001], <None> [0.001], <None> [0.001], <None> [0.001], <None> [0.001], <None> [0.001], <None> [0.001], <None> [0.001], <None> [0.001], <None> [0.001], <None> [0.001], <None> [0.001], <None> [0.001], <None> [0.001], <None> [0.001], <None> [0.001], <None> [0.001], <None> [0.001], <None> [0.001], <None> [0.001], <None> [0.001], <None> [0.001], <None> [0.001], <None> [0.001], <None> [0.001], <None> [0.001], <None> [0.001], <None> [0.001], <None> [0.001], <None> [0.001], <None> [0.001], <None> [0.001], <None> [0.001], <None> [0.001], <None> [0.001], <None> [0.001], <startseq> [1.], <a> [1.], <clock> [1.], <mounted> [1.], <to> [1.], <a> [1.], <wall> [1.] , \t next_word: .\n",
      "--- 7 ---\n",
      "[2370764.jpg], input_seq: <None> [0.001], <None> [0.001], <None> [0.001], <None> [0.001], <None> [0.001], <None> [0.001], <None> [0.001], <None> [0.001], <None> [0.001], <None> [0.001], <None> [0.001], <None> [0.001], <None> [0.001], <None> [0.001], <None> [0.001], <None> [0.001], <None> [0.001], <None> [0.001], <None> [0.001], <None> [0.001], <None> [0.001], <None> [0.001], <None> [0.001], <None> [0.001], <None> [0.001], <None> [0.001], <None> [0.001], <None> [0.001], <None> [0.001], <None> [0.001], <None> [0.001], <None> [0.001], <None> [0.001], <None> [0.001], <None> [0.001], <None> [0.001], <None> [0.001], <None> [0.001], <None> [0.001], <None> [0.001], <None> [0.001], <None> [0.001], <None> [0.001], <None> [0.001], <None> [0.001], <None> [0.001], <None> [0.001], <None> [0.001], <None> [0.001], <None> [0.001], <None> [0.001], <None> [0.001], <startseq> [1.], <a> [1.], <clock> [1.], <mounted> [1.], <to> [1.], <a> [1.], <wall> [1.], <.> [1.] , \t next_word: a\n",
      "--- 8 ---\n",
      "[2370764.jpg], input_seq: <None> [0.001], <None> [0.001], <None> [0.001], <None> [0.001], <None> [0.001], <None> [0.001], <None> [0.001], <None> [0.001], <None> [0.001], <None> [0.001], <None> [0.001], <None> [0.001], <None> [0.001], <None> [0.001], <None> [0.001], <None> [0.001], <None> [0.001], <None> [0.001], <None> [0.001], <None> [0.001], <None> [0.001], <None> [0.001], <None> [0.001], <None> [0.001], <None> [0.001], <None> [0.001], <None> [0.001], <None> [0.001], <None> [0.001], <None> [0.001], <None> [0.001], <None> [0.001], <None> [0.001], <None> [0.001], <None> [0.001], <None> [0.001], <None> [0.001], <None> [0.001], <None> [0.001], <None> [0.001], <None> [0.001], <None> [0.001], <None> [0.001], <None> [0.001], <None> [0.001], <None> [0.001], <None> [0.001], <None> [0.001], <None> [0.001], <None> [0.001], <None> [0.001], <startseq> [1.], <a> [1.], <clock> [1.], <mounted> [1.], <to> [1.], <a> [1.], <wall> [1.], <.> [1.], <a> [1.] , \t next_word: sign\n",
      "--- 9 ---\n",
      "[2370764.jpg], input_seq: <None> [0.001], <None> [0.001], <None> [0.001], <None> [0.001], <None> [0.001], <None> [0.001], <None> [0.001], <None> [0.001], <None> [0.001], <None> [0.001], <None> [0.001], <None> [0.001], <None> [0.001], <None> [0.001], <None> [0.001], <None> [0.001], <None> [0.001], <None> [0.001], <None> [0.001], <None> [0.001], <None> [0.001], <None> [0.001], <None> [0.001], <None> [0.001], <None> [0.001], <None> [0.001], <None> [0.001], <None> [0.001], <None> [0.001], <None> [0.001], <None> [0.001], <None> [0.001], <None> [0.001], <None> [0.001], <None> [0.001], <None> [0.001], <None> [0.001], <None> [0.001], <None> [0.001], <None> [0.001], <None> [0.001], <None> [0.001], <None> [0.001], <None> [0.001], <None> [0.001], <None> [0.001], <None> [0.001], <None> [0.001], <None> [0.001], <None> [0.001], <startseq> [1.], <a> [1.], <clock> [1.], <mounted> [1.], <to> [1.], <a> [1.], <wall> [1.], <.> [1.], <a> [1.], <sign> [1.] , \t next_word: on\n",
      "--- 10 ---\n",
      "[2370764.jpg], input_seq: <None> [0.001], <None> [0.001], <None> [0.001], <None> [0.001], <None> [0.001], <None> [0.001], <None> [0.001], <None> [0.001], <None> [0.001], <None> [0.001], <None> [0.001], <None> [0.001], <None> [0.001], <None> [0.001], <None> [0.001], <None> [0.001], <None> [0.001], <None> [0.001], <None> [0.001], <None> [0.001], <None> [0.001], <None> [0.001], <None> [0.001], <None> [0.001], <None> [0.001], <None> [0.001], <None> [0.001], <None> [0.001], <None> [0.001], <None> [0.001], <None> [0.001], <None> [0.001], <None> [0.001], <None> [0.001], <None> [0.001], <None> [0.001], <None> [0.001], <None> [0.001], <None> [0.001], <None> [0.001], <None> [0.001], <None> [0.001], <None> [0.001], <None> [0.001], <None> [0.001], <None> [0.001], <None> [0.001], <None> [0.001], <None> [0.001], <startseq> [1.], <a> [1.], <clock> [1.], <mounted> [1.], <to> [1.], <a> [1.], <wall> [1.], <.> [1.], <a> [1.], <sign> [1.], <on> [1.] , \t next_word: a\n",
      "--- 11 ---\n",
      "[2370764.jpg], input_seq: <None> [0.001], <None> [0.001], <None> [0.001], <None> [0.001], <None> [0.001], <None> [0.001], <None> [0.001], <None> [0.001], <None> [0.001], <None> [0.001], <None> [0.001], <None> [0.001], <None> [0.001], <None> [0.001], <None> [0.001], <None> [0.001], <None> [0.001], <None> [0.001], <None> [0.001], <None> [0.001], <None> [0.001], <None> [0.001], <None> [0.001], <None> [0.001], <None> [0.001], <None> [0.001], <None> [0.001], <None> [0.001], <None> [0.001], <None> [0.001], <None> [0.001], <None> [0.001], <None> [0.001], <None> [0.001], <None> [0.001], <None> [0.001], <None> [0.001], <None> [0.001], <None> [0.001], <None> [0.001], <None> [0.001], <None> [0.001], <None> [0.001], <None> [0.001], <None> [0.001], <None> [0.001], <None> [0.001], <None> [0.001], <startseq> [1.], <a> [1.], <clock> [1.], <mounted> [1.], <to> [1.], <a> [1.], <wall> [1.], <.> [1.], <a> [1.], <sign> [1.], <on> [1.], <a> [1.] , \t next_word: wall\n",
      "--- 12 ---\n",
      "[2370764.jpg], input_seq: <None> [0.001], <None> [0.001], <None> [0.001], <None> [0.001], <None> [0.001], <None> [0.001], <None> [0.001], <None> [0.001], <None> [0.001], <None> [0.001], <None> [0.001], <None> [0.001], <None> [0.001], <None> [0.001], <None> [0.001], <None> [0.001], <None> [0.001], <None> [0.001], <None> [0.001], <None> [0.001], <None> [0.001], <None> [0.001], <None> [0.001], <None> [0.001], <None> [0.001], <None> [0.001], <None> [0.001], <None> [0.001], <None> [0.001], <None> [0.001], <None> [0.001], <None> [0.001], <None> [0.001], <None> [0.001], <None> [0.001], <None> [0.001], <None> [0.001], <None> [0.001], <None> [0.001], <None> [0.001], <None> [0.001], <None> [0.001], <None> [0.001], <None> [0.001], <None> [0.001], <None> [0.001], <None> [0.001], <startseq> [1.], <a> [1.], <clock> [1.], <mounted> [1.], <to> [1.], <a> [1.], <wall> [1.], <.> [1.], <a> [1.], <sign> [1.], <on> [1.], <a> [1.], <wall> [1.] , \t next_word: .\n",
      "--- 13 ---\n",
      "[2370764.jpg], input_seq: <None> [0.001], <None> [0.001], <None> [0.001], <None> [0.001], <None> [0.001], <None> [0.001], <None> [0.001], <None> [0.001], <None> [0.001], <None> [0.001], <None> [0.001], <None> [0.001], <None> [0.001], <None> [0.001], <None> [0.001], <None> [0.001], <None> [0.001], <None> [0.001], <None> [0.001], <None> [0.001], <None> [0.001], <None> [0.001], <None> [0.001], <None> [0.001], <None> [0.001], <None> [0.001], <None> [0.001], <None> [0.001], <None> [0.001], <None> [0.001], <None> [0.001], <None> [0.001], <None> [0.001], <None> [0.001], <None> [0.001], <None> [0.001], <None> [0.001], <None> [0.001], <None> [0.001], <None> [0.001], <None> [0.001], <None> [0.001], <None> [0.001], <None> [0.001], <None> [0.001], <None> [0.001], <startseq> [1.], <a> [1.], <clock> [1.], <mounted> [1.], <to> [1.], <a> [1.], <wall> [1.], <.> [1.], <a> [1.], <sign> [1.], <on> [1.], <a> [1.], <wall> [1.], <.> [1.] , \t next_word: a\n",
      "--- 14 ---\n",
      "[2370764.jpg], input_seq: <None> [0.001], <None> [0.001], <None> [0.001], <None> [0.001], <None> [0.001], <None> [0.001], <None> [0.001], <None> [0.001], <None> [0.001], <None> [0.001], <None> [0.001], <None> [0.001], <None> [0.001], <None> [0.001], <None> [0.001], <None> [0.001], <None> [0.001], <None> [0.001], <None> [0.001], <None> [0.001], <None> [0.001], <None> [0.001], <None> [0.001], <None> [0.001], <None> [0.001], <None> [0.001], <None> [0.001], <None> [0.001], <None> [0.001], <None> [0.001], <None> [0.001], <None> [0.001], <None> [0.001], <None> [0.001], <None> [0.001], <None> [0.001], <None> [0.001], <None> [0.001], <None> [0.001], <None> [0.001], <None> [0.001], <None> [0.001], <None> [0.001], <None> [0.001], <None> [0.001], <startseq> [1.], <a> [1.], <clock> [1.], <mounted> [1.], <to> [1.], <a> [1.], <wall> [1.], <.> [1.], <a> [1.], <sign> [1.], <on> [1.], <a> [1.], <wall> [1.], <.> [1.], <a> [1.] , \t next_word: blue\n",
      "--- 15 ---\n",
      "[2370764.jpg], input_seq: <None> [0.001], <None> [0.001], <None> [0.001], <None> [0.001], <None> [0.001], <None> [0.001], <None> [0.001], <None> [0.001], <None> [0.001], <None> [0.001], <None> [0.001], <None> [0.001], <None> [0.001], <None> [0.001], <None> [0.001], <None> [0.001], <None> [0.001], <None> [0.001], <None> [0.001], <None> [0.001], <None> [0.001], <None> [0.001], <None> [0.001], <None> [0.001], <None> [0.001], <None> [0.001], <None> [0.001], <None> [0.001], <None> [0.001], <None> [0.001], <None> [0.001], <None> [0.001], <None> [0.001], <None> [0.001], <None> [0.001], <None> [0.001], <None> [0.001], <None> [0.001], <None> [0.001], <None> [0.001], <None> [0.001], <None> [0.001], <None> [0.001], <None> [0.001], <startseq> [1.], <a> [1.], <clock> [1.], <mounted> [1.], <to> [1.], <a> [1.], <wall> [1.], <.> [1.], <a> [1.], <sign> [1.], <on> [1.], <a> [1.], <wall> [1.], <.> [1.], <a> [1.], <blue> [1.] , \t next_word: support\n",
      "--- 16 ---\n",
      "[2370764.jpg], input_seq: <None> [0.001], <None> [0.001], <None> [0.001], <None> [0.001], <None> [0.001], <None> [0.001], <None> [0.001], <None> [0.001], <None> [0.001], <None> [0.001], <None> [0.001], <None> [0.001], <None> [0.001], <None> [0.001], <None> [0.001], <None> [0.001], <None> [0.001], <None> [0.001], <None> [0.001], <None> [0.001], <None> [0.001], <None> [0.001], <None> [0.001], <None> [0.001], <None> [0.001], <None> [0.001], <None> [0.001], <None> [0.001], <None> [0.001], <None> [0.001], <None> [0.001], <None> [0.001], <None> [0.001], <None> [0.001], <None> [0.001], <None> [0.001], <None> [0.001], <None> [0.001], <None> [0.001], <None> [0.001], <None> [0.001], <None> [0.001], <None> [0.001], <startseq> [1.], <a> [1.], <clock> [1.], <mounted> [1.], <to> [1.], <a> [1.], <wall> [1.], <.> [1.], <a> [1.], <sign> [1.], <on> [1.], <a> [1.], <wall> [1.], <.> [1.], <a> [1.], <blue> [1.], <support> [1.] , \t next_word: beam\n",
      "--- 17 ---\n",
      "[2370764.jpg], input_seq: <None> [0.001], <None> [0.001], <None> [0.001], <None> [0.001], <None> [0.001], <None> [0.001], <None> [0.001], <None> [0.001], <None> [0.001], <None> [0.001], <None> [0.001], <None> [0.001], <None> [0.001], <None> [0.001], <None> [0.001], <None> [0.001], <None> [0.001], <None> [0.001], <None> [0.001], <None> [0.001], <None> [0.001], <None> [0.001], <None> [0.001], <None> [0.001], <None> [0.001], <None> [0.001], <None> [0.001], <None> [0.001], <None> [0.001], <None> [0.001], <None> [0.001], <None> [0.001], <None> [0.001], <None> [0.001], <None> [0.001], <None> [0.001], <None> [0.001], <None> [0.001], <None> [0.001], <None> [0.001], <None> [0.001], <None> [0.001], <startseq> [1.], <a> [1.], <clock> [1.], <mounted> [1.], <to> [1.], <a> [1.], <wall> [1.], <.> [1.], <a> [1.], <sign> [1.], <on> [1.], <a> [1.], <wall> [1.], <.> [1.], <a> [1.], <blue> [1.], <support> [1.], <beam> [1.] , \t next_word: .\n",
      "--- 18 ---\n",
      "[2370764.jpg], input_seq: <None> [0.001], <None> [0.001], <None> [0.001], <None> [0.001], <None> [0.001], <None> [0.001], <None> [0.001], <None> [0.001], <None> [0.001], <None> [0.001], <None> [0.001], <None> [0.001], <None> [0.001], <None> [0.001], <None> [0.001], <None> [0.001], <None> [0.001], <None> [0.001], <None> [0.001], <None> [0.001], <None> [0.001], <None> [0.001], <None> [0.001], <None> [0.001], <None> [0.001], <None> [0.001], <None> [0.001], <None> [0.001], <None> [0.001], <None> [0.001], <None> [0.001], <None> [0.001], <None> [0.001], <None> [0.001], <None> [0.001], <None> [0.001], <None> [0.001], <None> [0.001], <None> [0.001], <None> [0.001], <None> [0.001], <startseq> [1.], <a> [1.], <clock> [1.], <mounted> [1.], <to> [1.], <a> [1.], <wall> [1.], <.> [1.], <a> [1.], <sign> [1.], <on> [1.], <a> [1.], <wall> [1.], <.> [1.], <a> [1.], <blue> [1.], <support> [1.], <beam> [1.], <.> [1.] , \t next_word: a\n",
      "--- 19 ---\n",
      "[2370764.jpg], input_seq: <None> [0.001], <None> [0.001], <None> [0.001], <None> [0.001], <None> [0.001], <None> [0.001], <None> [0.001], <None> [0.001], <None> [0.001], <None> [0.001], <None> [0.001], <None> [0.001], <None> [0.001], <None> [0.001], <None> [0.001], <None> [0.001], <None> [0.001], <None> [0.001], <None> [0.001], <None> [0.001], <None> [0.001], <None> [0.001], <None> [0.001], <None> [0.001], <None> [0.001], <None> [0.001], <None> [0.001], <None> [0.001], <None> [0.001], <None> [0.001], <None> [0.001], <None> [0.001], <None> [0.001], <None> [0.001], <None> [0.001], <None> [0.001], <None> [0.001], <None> [0.001], <None> [0.001], <None> [0.001], <startseq> [1.], <a> [1.], <clock> [1.], <mounted> [1.], <to> [1.], <a> [1.], <wall> [1.], <.> [1.], <a> [1.], <sign> [1.], <on> [1.], <a> [1.], <wall> [1.], <.> [1.], <a> [1.], <blue> [1.], <support> [1.], <beam> [1.], <.> [1.], <a> [1.] , \t next_word: wooden\n",
      "--- 20 ---\n",
      "[2370764.jpg], input_seq: <None> [0.001], <None> [0.001], <None> [0.001], <None> [0.001], <None> [0.001], <None> [0.001], <None> [0.001], <None> [0.001], <None> [0.001], <None> [0.001], <None> [0.001], <None> [0.001], <None> [0.001], <None> [0.001], <None> [0.001], <None> [0.001], <None> [0.001], <None> [0.001], <None> [0.001], <None> [0.001], <None> [0.001], <None> [0.001], <None> [0.001], <None> [0.001], <None> [0.001], <None> [0.001], <None> [0.001], <None> [0.001], <None> [0.001], <None> [0.001], <None> [0.001], <None> [0.001], <None> [0.001], <None> [0.001], <None> [0.001], <None> [0.001], <None> [0.001], <None> [0.001], <None> [0.001], <startseq> [1.], <a> [1.], <clock> [1.], <mounted> [1.], <to> [1.], <a> [1.], <wall> [1.], <.> [1.], <a> [1.], <sign> [1.], <on> [1.], <a> [1.], <wall> [1.], <.> [1.], <a> [1.], <blue> [1.], <support> [1.], <beam> [1.], <.> [1.], <a> [1.], <wooden> [1.] , \t next_word: pillar\n",
      "--- 21 ---\n",
      "[2370764.jpg], input_seq: <None> [0.001], <None> [0.001], <None> [0.001], <None> [0.001], <None> [0.001], <None> [0.001], <None> [0.001], <None> [0.001], <None> [0.001], <None> [0.001], <None> [0.001], <None> [0.001], <None> [0.001], <None> [0.001], <None> [0.001], <None> [0.001], <None> [0.001], <None> [0.001], <None> [0.001], <None> [0.001], <None> [0.001], <None> [0.001], <None> [0.001], <None> [0.001], <None> [0.001], <None> [0.001], <None> [0.001], <None> [0.001], <None> [0.001], <None> [0.001], <None> [0.001], <None> [0.001], <None> [0.001], <None> [0.001], <None> [0.001], <None> [0.001], <None> [0.001], <None> [0.001], <startseq> [1.], <a> [1.], <clock> [1.], <mounted> [1.], <to> [1.], <a> [1.], <wall> [1.], <.> [1.], <a> [1.], <sign> [1.], <on> [1.], <a> [1.], <wall> [1.], <.> [1.], <a> [1.], <blue> [1.], <support> [1.], <beam> [1.], <.> [1.], <a> [1.], <wooden> [1.], <pillar> [1.] , \t next_word: in\n",
      "--- 22 ---\n",
      "[2370764.jpg], input_seq: <None> [0.001], <None> [0.001], <None> [0.001], <None> [0.001], <None> [0.001], <None> [0.001], <None> [0.001], <None> [0.001], <None> [0.001], <None> [0.001], <None> [0.001], <None> [0.001], <None> [0.001], <None> [0.001], <None> [0.001], <None> [0.001], <None> [0.001], <None> [0.001], <None> [0.001], <None> [0.001], <None> [0.001], <None> [0.001], <None> [0.001], <None> [0.001], <None> [0.001], <None> [0.001], <None> [0.001], <None> [0.001], <None> [0.001], <None> [0.001], <None> [0.001], <None> [0.001], <None> [0.001], <None> [0.001], <None> [0.001], <None> [0.001], <None> [0.001], <startseq> [1.], <a> [1.], <clock> [1.], <mounted> [1.], <to> [1.], <a> [1.], <wall> [1.], <.> [1.], <a> [1.], <sign> [1.], <on> [1.], <a> [1.], <wall> [1.], <.> [1.], <a> [1.], <blue> [1.], <support> [1.], <beam> [1.], <.> [1.], <a> [1.], <wooden> [1.], <pillar> [1.], <in> [1.] , \t next_word: a\n",
      "--- 23 ---\n",
      "[2370764.jpg], input_seq: <None> [0.001], <None> [0.001], <None> [0.001], <None> [0.001], <None> [0.001], <None> [0.001], <None> [0.001], <None> [0.001], <None> [0.001], <None> [0.001], <None> [0.001], <None> [0.001], <None> [0.001], <None> [0.001], <None> [0.001], <None> [0.001], <None> [0.001], <None> [0.001], <None> [0.001], <None> [0.001], <None> [0.001], <None> [0.001], <None> [0.001], <None> [0.001], <None> [0.001], <None> [0.001], <None> [0.001], <None> [0.001], <None> [0.001], <None> [0.001], <None> [0.001], <None> [0.001], <None> [0.001], <None> [0.001], <None> [0.001], <None> [0.001], <startseq> [1.], <a> [1.], <clock> [1.], <mounted> [1.], <to> [1.], <a> [1.], <wall> [1.], <.> [1.], <a> [1.], <sign> [1.], <on> [1.], <a> [1.], <wall> [1.], <.> [1.], <a> [1.], <blue> [1.], <support> [1.], <beam> [1.], <.> [1.], <a> [1.], <wooden> [1.], <pillar> [1.], <in> [1.], <a> [1.] , \t next_word: building\n",
      "--- 24 ---\n",
      "[2370764.jpg], input_seq: <None> [0.001], <None> [0.001], <None> [0.001], <None> [0.001], <None> [0.001], <None> [0.001], <None> [0.001], <None> [0.001], <None> [0.001], <None> [0.001], <None> [0.001], <None> [0.001], <None> [0.001], <None> [0.001], <None> [0.001], <None> [0.001], <None> [0.001], <None> [0.001], <None> [0.001], <None> [0.001], <None> [0.001], <None> [0.001], <None> [0.001], <None> [0.001], <None> [0.001], <None> [0.001], <None> [0.001], <None> [0.001], <None> [0.001], <None> [0.001], <None> [0.001], <None> [0.001], <None> [0.001], <None> [0.001], <None> [0.001], <startseq> [1.], <a> [1.], <clock> [1.], <mounted> [1.], <to> [1.], <a> [1.], <wall> [1.], <.> [1.], <a> [1.], <sign> [1.], <on> [1.], <a> [1.], <wall> [1.], <.> [1.], <a> [1.], <blue> [1.], <support> [1.], <beam> [1.], <.> [1.], <a> [1.], <wooden> [1.], <pillar> [1.], <in> [1.], <a> [1.], <building> [1.] , \t next_word: .\n",
      "--- 25 ---\n",
      "[2370764.jpg], input_seq: <None> [0.001], <None> [0.001], <None> [0.001], <None> [0.001], <None> [0.001], <None> [0.001], <None> [0.001], <None> [0.001], <None> [0.001], <None> [0.001], <None> [0.001], <None> [0.001], <None> [0.001], <None> [0.001], <None> [0.001], <None> [0.001], <None> [0.001], <None> [0.001], <None> [0.001], <None> [0.001], <None> [0.001], <None> [0.001], <None> [0.001], <None> [0.001], <None> [0.001], <None> [0.001], <None> [0.001], <None> [0.001], <None> [0.001], <None> [0.001], <None> [0.001], <None> [0.001], <None> [0.001], <None> [0.001], <startseq> [1.], <a> [1.], <clock> [1.], <mounted> [1.], <to> [1.], <a> [1.], <wall> [1.], <.> [1.], <a> [1.], <sign> [1.], <on> [1.], <a> [1.], <wall> [1.], <.> [1.], <a> [1.], <blue> [1.], <support> [1.], <beam> [1.], <.> [1.], <a> [1.], <wooden> [1.], <pillar> [1.], <in> [1.], <a> [1.], <building> [1.], <.> [1.] , \t next_word: bars\n",
      "--- 26 ---\n",
      "[2370764.jpg], input_seq: <None> [0.001], <None> [0.001], <None> [0.001], <None> [0.001], <None> [0.001], <None> [0.001], <None> [0.001], <None> [0.001], <None> [0.001], <None> [0.001], <None> [0.001], <None> [0.001], <None> [0.001], <None> [0.001], <None> [0.001], <None> [0.001], <None> [0.001], <None> [0.001], <None> [0.001], <None> [0.001], <None> [0.001], <None> [0.001], <None> [0.001], <None> [0.001], <None> [0.001], <None> [0.001], <None> [0.001], <None> [0.001], <None> [0.001], <None> [0.001], <None> [0.001], <None> [0.001], <None> [0.001], <startseq> [1.], <a> [1.], <clock> [1.], <mounted> [1.], <to> [1.], <a> [1.], <wall> [1.], <.> [1.], <a> [1.], <sign> [1.], <on> [1.], <a> [1.], <wall> [1.], <.> [1.], <a> [1.], <blue> [1.], <support> [1.], <beam> [1.], <.> [1.], <a> [1.], <wooden> [1.], <pillar> [1.], <in> [1.], <a> [1.], <building> [1.], <.> [1.], <bars> [1.] , \t next_word: across\n",
      "--- 27 ---\n",
      "[2370764.jpg], input_seq: <None> [0.001], <None> [0.001], <None> [0.001], <None> [0.001], <None> [0.001], <None> [0.001], <None> [0.001], <None> [0.001], <None> [0.001], <None> [0.001], <None> [0.001], <None> [0.001], <None> [0.001], <None> [0.001], <None> [0.001], <None> [0.001], <None> [0.001], <None> [0.001], <None> [0.001], <None> [0.001], <None> [0.001], <None> [0.001], <None> [0.001], <None> [0.001], <None> [0.001], <None> [0.001], <None> [0.001], <None> [0.001], <None> [0.001], <None> [0.001], <None> [0.001], <None> [0.001], <startseq> [1.], <a> [1.], <clock> [1.], <mounted> [1.], <to> [1.], <a> [1.], <wall> [1.], <.> [1.], <a> [1.], <sign> [1.], <on> [1.], <a> [1.], <wall> [1.], <.> [1.], <a> [1.], <blue> [1.], <support> [1.], <beam> [1.], <.> [1.], <a> [1.], <wooden> [1.], <pillar> [1.], <in> [1.], <a> [1.], <building> [1.], <.> [1.], <bars> [1.], <across> [1.] , \t next_word: a\n",
      "--- 28 ---\n",
      "[2370764.jpg], input_seq: <None> [0.001], <None> [0.001], <None> [0.001], <None> [0.001], <None> [0.001], <None> [0.001], <None> [0.001], <None> [0.001], <None> [0.001], <None> [0.001], <None> [0.001], <None> [0.001], <None> [0.001], <None> [0.001], <None> [0.001], <None> [0.001], <None> [0.001], <None> [0.001], <None> [0.001], <None> [0.001], <None> [0.001], <None> [0.001], <None> [0.001], <None> [0.001], <None> [0.001], <None> [0.001], <None> [0.001], <None> [0.001], <None> [0.001], <None> [0.001], <None> [0.001], <startseq> [1.], <a> [1.], <clock> [1.], <mounted> [1.], <to> [1.], <a> [1.], <wall> [1.], <.> [1.], <a> [1.], <sign> [1.], <on> [1.], <a> [1.], <wall> [1.], <.> [1.], <a> [1.], <blue> [1.], <support> [1.], <beam> [1.], <.> [1.], <a> [1.], <wooden> [1.], <pillar> [1.], <in> [1.], <a> [1.], <building> [1.], <.> [1.], <bars> [1.], <across> [1.], <a> [1.] , \t next_word: window\n",
      "--- 29 ---\n",
      "[2370764.jpg], input_seq: <None> [0.001], <None> [0.001], <None> [0.001], <None> [0.001], <None> [0.001], <None> [0.001], <None> [0.001], <None> [0.001], <None> [0.001], <None> [0.001], <None> [0.001], <None> [0.001], <None> [0.001], <None> [0.001], <None> [0.001], <None> [0.001], <None> [0.001], <None> [0.001], <None> [0.001], <None> [0.001], <None> [0.001], <None> [0.001], <None> [0.001], <None> [0.001], <None> [0.001], <None> [0.001], <None> [0.001], <None> [0.001], <None> [0.001], <None> [0.001], <startseq> [1.], <a> [1.], <clock> [1.], <mounted> [1.], <to> [1.], <a> [1.], <wall> [1.], <.> [1.], <a> [1.], <sign> [1.], <on> [1.], <a> [1.], <wall> [1.], <.> [1.], <a> [1.], <blue> [1.], <support> [1.], <beam> [1.], <.> [1.], <a> [1.], <wooden> [1.], <pillar> [1.], <in> [1.], <a> [1.], <building> [1.], <.> [1.], <bars> [1.], <across> [1.], <a> [1.], <window> [1.] , \t next_word: .\n",
      "--- 30 ---\n",
      "[2370764.jpg], input_seq: <None> [0.001], <None> [0.001], <None> [0.001], <None> [0.001], <None> [0.001], <None> [0.001], <None> [0.001], <None> [0.001], <None> [0.001], <None> [0.001], <None> [0.001], <None> [0.001], <None> [0.001], <None> [0.001], <None> [0.001], <None> [0.001], <None> [0.001], <None> [0.001], <None> [0.001], <None> [0.001], <None> [0.001], <None> [0.001], <None> [0.001], <None> [0.001], <None> [0.001], <None> [0.001], <None> [0.001], <None> [0.001], <None> [0.001], <startseq> [1.], <a> [1.], <clock> [1.], <mounted> [1.], <to> [1.], <a> [1.], <wall> [1.], <.> [1.], <a> [1.], <sign> [1.], <on> [1.], <a> [1.], <wall> [1.], <.> [1.], <a> [1.], <blue> [1.], <support> [1.], <beam> [1.], <.> [1.], <a> [1.], <wooden> [1.], <pillar> [1.], <in> [1.], <a> [1.], <building> [1.], <.> [1.], <bars> [1.], <across> [1.], <a> [1.], <window> [1.], <.> [1.] , \t next_word: a\n",
      "--- 31 ---\n",
      "[2370764.jpg], input_seq: <None> [0.001], <None> [0.001], <None> [0.001], <None> [0.001], <None> [0.001], <None> [0.001], <None> [0.001], <None> [0.001], <None> [0.001], <None> [0.001], <None> [0.001], <None> [0.001], <None> [0.001], <None> [0.001], <None> [0.001], <None> [0.001], <None> [0.001], <None> [0.001], <None> [0.001], <None> [0.001], <None> [0.001], <None> [0.001], <None> [0.001], <None> [0.001], <None> [0.001], <None> [0.001], <None> [0.001], <None> [0.001], <startseq> [1.], <a> [1.], <clock> [1.], <mounted> [1.], <to> [1.], <a> [1.], <wall> [1.], <.> [1.], <a> [1.], <sign> [1.], <on> [1.], <a> [1.], <wall> [1.], <.> [1.], <a> [1.], <blue> [1.], <support> [1.], <beam> [1.], <.> [1.], <a> [1.], <wooden> [1.], <pillar> [1.], <in> [1.], <a> [1.], <building> [1.], <.> [1.], <bars> [1.], <across> [1.], <a> [1.], <window> [1.], <.> [1.], <a> [1.] , \t next_word: light\n",
      "--- 32 ---\n",
      "[2370764.jpg], input_seq: <None> [0.001], <None> [0.001], <None> [0.001], <None> [0.001], <None> [0.001], <None> [0.001], <None> [0.001], <None> [0.001], <None> [0.001], <None> [0.001], <None> [0.001], <None> [0.001], <None> [0.001], <None> [0.001], <None> [0.001], <None> [0.001], <None> [0.001], <None> [0.001], <None> [0.001], <None> [0.001], <None> [0.001], <None> [0.001], <None> [0.001], <None> [0.001], <None> [0.001], <None> [0.001], <None> [0.001], <startseq> [1.], <a> [1.], <clock> [1.], <mounted> [1.], <to> [1.], <a> [1.], <wall> [1.], <.> [1.], <a> [1.], <sign> [1.], <on> [1.], <a> [1.], <wall> [1.], <.> [1.], <a> [1.], <blue> [1.], <support> [1.], <beam> [1.], <.> [1.], <a> [1.], <wooden> [1.], <pillar> [1.], <in> [1.], <a> [1.], <building> [1.], <.> [1.], <bars> [1.], <across> [1.], <a> [1.], <window> [1.], <.> [1.], <a> [1.], <light> [1.] , \t next_word: in\n",
      "--- 33 ---\n"
     ]
    },
    {
     "name": "stdout",
     "output_type": "stream",
     "text": [
      "[2370764.jpg], input_seq: <None> [0.001], <None> [0.001], <None> [0.001], <None> [0.001], <None> [0.001], <None> [0.001], <None> [0.001], <None> [0.001], <None> [0.001], <None> [0.001], <None> [0.001], <None> [0.001], <None> [0.001], <None> [0.001], <None> [0.001], <None> [0.001], <None> [0.001], <None> [0.001], <None> [0.001], <None> [0.001], <None> [0.001], <None> [0.001], <None> [0.001], <None> [0.001], <None> [0.001], <None> [0.001], <startseq> [1.], <a> [1.], <clock> [1.], <mounted> [1.], <to> [1.], <a> [1.], <wall> [1.], <.> [1.], <a> [1.], <sign> [1.], <on> [1.], <a> [1.], <wall> [1.], <.> [1.], <a> [1.], <blue> [1.], <support> [1.], <beam> [1.], <.> [1.], <a> [1.], <wooden> [1.], <pillar> [1.], <in> [1.], <a> [1.], <building> [1.], <.> [1.], <bars> [1.], <across> [1.], <a> [1.], <window> [1.], <.> [1.], <a> [1.], <light> [1.], <in> [1.] , \t next_word: a\n",
      "--- 34 ---\n",
      "[2370764.jpg], input_seq: <None> [0.001], <None> [0.001], <None> [0.001], <None> [0.001], <None> [0.001], <None> [0.001], <None> [0.001], <None> [0.001], <None> [0.001], <None> [0.001], <None> [0.001], <None> [0.001], <None> [0.001], <None> [0.001], <None> [0.001], <None> [0.001], <None> [0.001], <None> [0.001], <None> [0.001], <None> [0.001], <None> [0.001], <None> [0.001], <None> [0.001], <None> [0.001], <None> [0.001], <startseq> [1.], <a> [1.], <clock> [1.], <mounted> [1.], <to> [1.], <a> [1.], <wall> [1.], <.> [1.], <a> [1.], <sign> [1.], <on> [1.], <a> [1.], <wall> [1.], <.> [1.], <a> [1.], <blue> [1.], <support> [1.], <beam> [1.], <.> [1.], <a> [1.], <wooden> [1.], <pillar> [1.], <in> [1.], <a> [1.], <building> [1.], <.> [1.], <bars> [1.], <across> [1.], <a> [1.], <window> [1.], <.> [1.], <a> [1.], <light> [1.], <in> [1.], <a> [1.] , \t next_word: ceiling\n",
      "--- 35 ---\n",
      "[2370764.jpg], input_seq: <None> [0.001], <None> [0.001], <None> [0.001], <None> [0.001], <None> [0.001], <None> [0.001], <None> [0.001], <None> [0.001], <None> [0.001], <None> [0.001], <None> [0.001], <None> [0.001], <None> [0.001], <None> [0.001], <None> [0.001], <None> [0.001], <None> [0.001], <None> [0.001], <None> [0.001], <None> [0.001], <None> [0.001], <None> [0.001], <None> [0.001], <None> [0.001], <startseq> [1.], <a> [1.], <clock> [1.], <mounted> [1.], <to> [1.], <a> [1.], <wall> [1.], <.> [1.], <a> [1.], <sign> [1.], <on> [1.], <a> [1.], <wall> [1.], <.> [1.], <a> [1.], <blue> [1.], <support> [1.], <beam> [1.], <.> [1.], <a> [1.], <wooden> [1.], <pillar> [1.], <in> [1.], <a> [1.], <building> [1.], <.> [1.], <bars> [1.], <across> [1.], <a> [1.], <window> [1.], <.> [1.], <a> [1.], <light> [1.], <in> [1.], <a> [1.], <ceiling> [1.] , \t next_word: .\n",
      "--- 36 ---\n",
      "[2370764.jpg], input_seq: <None> [0.001], <None> [0.001], <None> [0.001], <None> [0.001], <None> [0.001], <None> [0.001], <None> [0.001], <None> [0.001], <None> [0.001], <None> [0.001], <None> [0.001], <None> [0.001], <None> [0.001], <None> [0.001], <None> [0.001], <None> [0.001], <None> [0.001], <None> [0.001], <None> [0.001], <None> [0.001], <None> [0.001], <None> [0.001], <None> [0.001], <startseq> [1.], <a> [1.], <clock> [1.], <mounted> [1.], <to> [1.], <a> [1.], <wall> [1.], <.> [1.], <a> [1.], <sign> [1.], <on> [1.], <a> [1.], <wall> [1.], <.> [1.], <a> [1.], <blue> [1.], <support> [1.], <beam> [1.], <.> [1.], <a> [1.], <wooden> [1.], <pillar> [1.], <in> [1.], <a> [1.], <building> [1.], <.> [1.], <bars> [1.], <across> [1.], <a> [1.], <window> [1.], <.> [1.], <a> [1.], <light> [1.], <in> [1.], <a> [1.], <ceiling> [1.], <.> [1.] , \t next_word: a\n",
      "--- 37 ---\n",
      "[2370764.jpg], input_seq: <None> [0.001], <None> [0.001], <None> [0.001], <None> [0.001], <None> [0.001], <None> [0.001], <None> [0.001], <None> [0.001], <None> [0.001], <None> [0.001], <None> [0.001], <None> [0.001], <None> [0.001], <None> [0.001], <None> [0.001], <None> [0.001], <None> [0.001], <None> [0.001], <None> [0.001], <None> [0.001], <None> [0.001], <None> [0.001], <startseq> [1.], <a> [1.], <clock> [1.], <mounted> [1.], <to> [1.], <a> [1.], <wall> [1.], <.> [1.], <a> [1.], <sign> [1.], <on> [1.], <a> [1.], <wall> [1.], <.> [1.], <a> [1.], <blue> [1.], <support> [1.], <beam> [1.], <.> [1.], <a> [1.], <wooden> [1.], <pillar> [1.], <in> [1.], <a> [1.], <building> [1.], <.> [1.], <bars> [1.], <across> [1.], <a> [1.], <window> [1.], <.> [1.], <a> [1.], <light> [1.], <in> [1.], <a> [1.], <ceiling> [1.], <.> [1.], <a> [1.] , \t next_word: light\n",
      "--- 38 ---\n",
      "[2370764.jpg], input_seq: <None> [0.001], <None> [0.001], <None> [0.001], <None> [0.001], <None> [0.001], <None> [0.001], <None> [0.001], <None> [0.001], <None> [0.001], <None> [0.001], <None> [0.001], <None> [0.001], <None> [0.001], <None> [0.001], <None> [0.001], <None> [0.001], <None> [0.001], <None> [0.001], <None> [0.001], <None> [0.001], <None> [0.001], <startseq> [1.], <a> [1.], <clock> [1.], <mounted> [1.], <to> [1.], <a> [1.], <wall> [1.], <.> [1.], <a> [1.], <sign> [1.], <on> [1.], <a> [1.], <wall> [1.], <.> [1.], <a> [1.], <blue> [1.], <support> [1.], <beam> [1.], <.> [1.], <a> [1.], <wooden> [1.], <pillar> [1.], <in> [1.], <a> [1.], <building> [1.], <.> [1.], <bars> [1.], <across> [1.], <a> [1.], <window> [1.], <.> [1.], <a> [1.], <light> [1.], <in> [1.], <a> [1.], <ceiling> [1.], <.> [1.], <a> [1.], <light> [1.] , \t next_word: at\n",
      "--- 39 ---\n",
      "[2370764.jpg], input_seq: <None> [0.001], <None> [0.001], <None> [0.001], <None> [0.001], <None> [0.001], <None> [0.001], <None> [0.001], <None> [0.001], <None> [0.001], <None> [0.001], <None> [0.001], <None> [0.001], <None> [0.001], <None> [0.001], <None> [0.001], <None> [0.001], <None> [0.001], <None> [0.001], <None> [0.001], <None> [0.001], <startseq> [1.], <a> [1.], <clock> [1.], <mounted> [1.], <to> [1.], <a> [1.], <wall> [1.], <.> [1.], <a> [1.], <sign> [1.], <on> [1.], <a> [1.], <wall> [1.], <.> [1.], <a> [1.], <blue> [1.], <support> [1.], <beam> [1.], <.> [1.], <a> [1.], <wooden> [1.], <pillar> [1.], <in> [1.], <a> [1.], <building> [1.], <.> [1.], <bars> [1.], <across> [1.], <a> [1.], <window> [1.], <.> [1.], <a> [1.], <light> [1.], <in> [1.], <a> [1.], <ceiling> [1.], <.> [1.], <a> [1.], <light> [1.], <at> [1.] , \t next_word: the\n",
      "--- 40 ---\n",
      "[2370764.jpg], input_seq: <None> [0.001], <None> [0.001], <None> [0.001], <None> [0.001], <None> [0.001], <None> [0.001], <None> [0.001], <None> [0.001], <None> [0.001], <None> [0.001], <None> [0.001], <None> [0.001], <None> [0.001], <None> [0.001], <None> [0.001], <None> [0.001], <None> [0.001], <None> [0.001], <None> [0.001], <startseq> [1.], <a> [1.], <clock> [1.], <mounted> [1.], <to> [1.], <a> [1.], <wall> [1.], <.> [1.], <a> [1.], <sign> [1.], <on> [1.], <a> [1.], <wall> [1.], <.> [1.], <a> [1.], <blue> [1.], <support> [1.], <beam> [1.], <.> [1.], <a> [1.], <wooden> [1.], <pillar> [1.], <in> [1.], <a> [1.], <building> [1.], <.> [1.], <bars> [1.], <across> [1.], <a> [1.], <window> [1.], <.> [1.], <a> [1.], <light> [1.], <in> [1.], <a> [1.], <ceiling> [1.], <.> [1.], <a> [1.], <light> [1.], <at> [1.], <the> [1.] , \t next_word: bottom\n",
      "--- 41 ---\n",
      "[2370764.jpg], input_seq: <None> [0.001], <None> [0.001], <None> [0.001], <None> [0.001], <None> [0.001], <None> [0.001], <None> [0.001], <None> [0.001], <None> [0.001], <None> [0.001], <None> [0.001], <None> [0.001], <None> [0.001], <None> [0.001], <None> [0.001], <None> [0.001], <None> [0.001], <None> [0.001], <startseq> [1.], <a> [1.], <clock> [1.], <mounted> [1.], <to> [1.], <a> [1.], <wall> [1.], <.> [1.], <a> [1.], <sign> [1.], <on> [1.], <a> [1.], <wall> [1.], <.> [1.], <a> [1.], <blue> [1.], <support> [1.], <beam> [1.], <.> [1.], <a> [1.], <wooden> [1.], <pillar> [1.], <in> [1.], <a> [1.], <building> [1.], <.> [1.], <bars> [1.], <across> [1.], <a> [1.], <window> [1.], <.> [1.], <a> [1.], <light> [1.], <in> [1.], <a> [1.], <ceiling> [1.], <.> [1.], <a> [1.], <light> [1.], <at> [1.], <the> [1.], <bottom> [1.] , \t next_word: of\n",
      "--- 42 ---\n",
      "[2370764.jpg], input_seq: <None> [0.001], <None> [0.001], <None> [0.001], <None> [0.001], <None> [0.001], <None> [0.001], <None> [0.001], <None> [0.001], <None> [0.001], <None> [0.001], <None> [0.001], <None> [0.001], <None> [0.001], <None> [0.001], <None> [0.001], <None> [0.001], <None> [0.001], <startseq> [1.], <a> [1.], <clock> [1.], <mounted> [1.], <to> [1.], <a> [1.], <wall> [1.], <.> [1.], <a> [1.], <sign> [1.], <on> [1.], <a> [1.], <wall> [1.], <.> [1.], <a> [1.], <blue> [1.], <support> [1.], <beam> [1.], <.> [1.], <a> [1.], <wooden> [1.], <pillar> [1.], <in> [1.], <a> [1.], <building> [1.], <.> [1.], <bars> [1.], <across> [1.], <a> [1.], <window> [1.], <.> [1.], <a> [1.], <light> [1.], <in> [1.], <a> [1.], <ceiling> [1.], <.> [1.], <a> [1.], <light> [1.], <at> [1.], <the> [1.], <bottom> [1.], <of> [1.] , \t next_word: a\n",
      "--- 43 ---\n",
      "[2370764.jpg], input_seq: <None> [0.001], <None> [0.001], <None> [0.001], <None> [0.001], <None> [0.001], <None> [0.001], <None> [0.001], <None> [0.001], <None> [0.001], <None> [0.001], <None> [0.001], <None> [0.001], <None> [0.001], <None> [0.001], <None> [0.001], <None> [0.001], <startseq> [1.], <a> [1.], <clock> [1.], <mounted> [1.], <to> [1.], <a> [1.], <wall> [1.], <.> [1.], <a> [1.], <sign> [1.], <on> [1.], <a> [1.], <wall> [1.], <.> [1.], <a> [1.], <blue> [1.], <support> [1.], <beam> [1.], <.> [1.], <a> [1.], <wooden> [1.], <pillar> [1.], <in> [1.], <a> [1.], <building> [1.], <.> [1.], <bars> [1.], <across> [1.], <a> [1.], <window> [1.], <.> [1.], <a> [1.], <light> [1.], <in> [1.], <a> [1.], <ceiling> [1.], <.> [1.], <a> [1.], <light> [1.], <at> [1.], <the> [1.], <bottom> [1.], <of> [1.], <a> [1.] , \t next_word: pole\n",
      "--- 44 ---\n",
      "[2370764.jpg], input_seq: <None> [0.001], <None> [0.001], <None> [0.001], <None> [0.001], <None> [0.001], <None> [0.001], <None> [0.001], <None> [0.001], <None> [0.001], <None> [0.001], <None> [0.001], <None> [0.001], <None> [0.001], <None> [0.001], <None> [0.001], <startseq> [1.], <a> [1.], <clock> [1.], <mounted> [1.], <to> [1.], <a> [1.], <wall> [1.], <.> [1.], <a> [1.], <sign> [1.], <on> [1.], <a> [1.], <wall> [1.], <.> [1.], <a> [1.], <blue> [1.], <support> [1.], <beam> [1.], <.> [1.], <a> [1.], <wooden> [1.], <pillar> [1.], <in> [1.], <a> [1.], <building> [1.], <.> [1.], <bars> [1.], <across> [1.], <a> [1.], <window> [1.], <.> [1.], <a> [1.], <light> [1.], <in> [1.], <a> [1.], <ceiling> [1.], <.> [1.], <a> [1.], <light> [1.], <at> [1.], <the> [1.], <bottom> [1.], <of> [1.], <a> [1.], <pole> [1.] , \t next_word: .\n",
      "--- 45 ---\n",
      "[2370764.jpg], input_seq: <None> [0.001], <None> [0.001], <None> [0.001], <None> [0.001], <None> [0.001], <None> [0.001], <None> [0.001], <None> [0.001], <None> [0.001], <None> [0.001], <None> [0.001], <None> [0.001], <None> [0.001], <None> [0.001], <startseq> [1.], <a> [1.], <clock> [1.], <mounted> [1.], <to> [1.], <a> [1.], <wall> [1.], <.> [1.], <a> [1.], <sign> [1.], <on> [1.], <a> [1.], <wall> [1.], <.> [1.], <a> [1.], <blue> [1.], <support> [1.], <beam> [1.], <.> [1.], <a> [1.], <wooden> [1.], <pillar> [1.], <in> [1.], <a> [1.], <building> [1.], <.> [1.], <bars> [1.], <across> [1.], <a> [1.], <window> [1.], <.> [1.], <a> [1.], <light> [1.], <in> [1.], <a> [1.], <ceiling> [1.], <.> [1.], <a> [1.], <light> [1.], <at> [1.], <the> [1.], <bottom> [1.], <of> [1.], <a> [1.], <pole> [1.], <.> [1.] , \t next_word: a\n",
      "--- 46 ---\n",
      "[2370764.jpg], input_seq: <None> [0.001], <None> [0.001], <None> [0.001], <None> [0.001], <None> [0.001], <None> [0.001], <None> [0.001], <None> [0.001], <None> [0.001], <None> [0.001], <None> [0.001], <None> [0.001], <None> [0.001], <startseq> [1.], <a> [1.], <clock> [1.], <mounted> [1.], <to> [1.], <a> [1.], <wall> [1.], <.> [1.], <a> [1.], <sign> [1.], <on> [1.], <a> [1.], <wall> [1.], <.> [1.], <a> [1.], <blue> [1.], <support> [1.], <beam> [1.], <.> [1.], <a> [1.], <wooden> [1.], <pillar> [1.], <in> [1.], <a> [1.], <building> [1.], <.> [1.], <bars> [1.], <across> [1.], <a> [1.], <window> [1.], <.> [1.], <a> [1.], <light> [1.], <in> [1.], <a> [1.], <ceiling> [1.], <.> [1.], <a> [1.], <light> [1.], <at> [1.], <the> [1.], <bottom> [1.], <of> [1.], <a> [1.], <pole> [1.], <.> [1.], <a> [1.] , \t next_word: bar\n",
      "--- 47 ---\n",
      "[2370764.jpg], input_seq: <None> [0.001], <None> [0.001], <None> [0.001], <None> [0.001], <None> [0.001], <None> [0.001], <None> [0.001], <None> [0.001], <None> [0.001], <None> [0.001], <None> [0.001], <None> [0.001], <startseq> [1.], <a> [1.], <clock> [1.], <mounted> [1.], <to> [1.], <a> [1.], <wall> [1.], <.> [1.], <a> [1.], <sign> [1.], <on> [1.], <a> [1.], <wall> [1.], <.> [1.], <a> [1.], <blue> [1.], <support> [1.], <beam> [1.], <.> [1.], <a> [1.], <wooden> [1.], <pillar> [1.], <in> [1.], <a> [1.], <building> [1.], <.> [1.], <bars> [1.], <across> [1.], <a> [1.], <window> [1.], <.> [1.], <a> [1.], <light> [1.], <in> [1.], <a> [1.], <ceiling> [1.], <.> [1.], <a> [1.], <light> [1.], <at> [1.], <the> [1.], <bottom> [1.], <of> [1.], <a> [1.], <pole> [1.], <.> [1.], <a> [1.], <bar> [1.] , \t next_word: at\n",
      "--- 48 ---\n",
      "[2370764.jpg], input_seq: <None> [0.001], <None> [0.001], <None> [0.001], <None> [0.001], <None> [0.001], <None> [0.001], <None> [0.001], <None> [0.001], <None> [0.001], <None> [0.001], <None> [0.001], <startseq> [1.], <a> [1.], <clock> [1.], <mounted> [1.], <to> [1.], <a> [1.], <wall> [1.], <.> [1.], <a> [1.], <sign> [1.], <on> [1.], <a> [1.], <wall> [1.], <.> [1.], <a> [1.], <blue> [1.], <support> [1.], <beam> [1.], <.> [1.], <a> [1.], <wooden> [1.], <pillar> [1.], <in> [1.], <a> [1.], <building> [1.], <.> [1.], <bars> [1.], <across> [1.], <a> [1.], <window> [1.], <.> [1.], <a> [1.], <light> [1.], <in> [1.], <a> [1.], <ceiling> [1.], <.> [1.], <a> [1.], <light> [1.], <at> [1.], <the> [1.], <bottom> [1.], <of> [1.], <a> [1.], <pole> [1.], <.> [1.], <a> [1.], <bar> [1.], <at> [1.] , \t next_word: an\n",
      "--- 49 ---\n",
      "[2370764.jpg], input_seq: <None> [0.001], <None> [0.001], <None> [0.001], <None> [0.001], <None> [0.001], <None> [0.001], <None> [0.001], <None> [0.001], <None> [0.001], <None> [0.001], <startseq> [1.], <a> [1.], <clock> [1.], <mounted> [1.], <to> [1.], <a> [1.], <wall> [1.], <.> [1.], <a> [1.], <sign> [1.], <on> [1.], <a> [1.], <wall> [1.], <.> [1.], <a> [1.], <blue> [1.], <support> [1.], <beam> [1.], <.> [1.], <a> [1.], <wooden> [1.], <pillar> [1.], <in> [1.], <a> [1.], <building> [1.], <.> [1.], <bars> [1.], <across> [1.], <a> [1.], <window> [1.], <.> [1.], <a> [1.], <light> [1.], <in> [1.], <a> [1.], <ceiling> [1.], <.> [1.], <a> [1.], <light> [1.], <at> [1.], <the> [1.], <bottom> [1.], <of> [1.], <a> [1.], <pole> [1.], <.> [1.], <a> [1.], <bar> [1.], <at> [1.], <an> [1.] , \t next_word: entrance\n",
      "--- 50 ---\n",
      "[2370764.jpg], input_seq: <None> [0.001], <None> [0.001], <None> [0.001], <None> [0.001], <None> [0.001], <None> [0.001], <None> [0.001], <None> [0.001], <None> [0.001], <startseq> [1.], <a> [1.], <clock> [1.], <mounted> [1.], <to> [1.], <a> [1.], <wall> [1.], <.> [1.], <a> [1.], <sign> [1.], <on> [1.], <a> [1.], <wall> [1.], <.> [1.], <a> [1.], <blue> [1.], <support> [1.], <beam> [1.], <.> [1.], <a> [1.], <wooden> [1.], <pillar> [1.], <in> [1.], <a> [1.], <building> [1.], <.> [1.], <bars> [1.], <across> [1.], <a> [1.], <window> [1.], <.> [1.], <a> [1.], <light> [1.], <in> [1.], <a> [1.], <ceiling> [1.], <.> [1.], <a> [1.], <light> [1.], <at> [1.], <the> [1.], <bottom> [1.], <of> [1.], <a> [1.], <pole> [1.], <.> [1.], <a> [1.], <bar> [1.], <at> [1.], <an> [1.], <entrance> [1.] , \t next_word: .\n",
      "--- 51 ---\n",
      "[2370764.jpg], input_seq: <None> [0.001], <None> [0.001], <None> [0.001], <None> [0.001], <None> [0.001], <None> [0.001], <None> [0.001], <None> [0.001], <startseq> [1.], <a> [1.], <clock> [1.], <mounted> [1.], <to> [1.], <a> [1.], <wall> [1.], <.> [1.], <a> [1.], <sign> [1.], <on> [1.], <a> [1.], <wall> [1.], <.> [1.], <a> [1.], <blue> [1.], <support> [1.], <beam> [1.], <.> [1.], <a> [1.], <wooden> [1.], <pillar> [1.], <in> [1.], <a> [1.], <building> [1.], <.> [1.], <bars> [1.], <across> [1.], <a> [1.], <window> [1.], <.> [1.], <a> [1.], <light> [1.], <in> [1.], <a> [1.], <ceiling> [1.], <.> [1.], <a> [1.], <light> [1.], <at> [1.], <the> [1.], <bottom> [1.], <of> [1.], <a> [1.], <pole> [1.], <.> [1.], <a> [1.], <bar> [1.], <at> [1.], <an> [1.], <entrance> [1.], <.> [1.] , \t next_word: writing\n",
      "--- 52 ---\n",
      "[2370764.jpg], input_seq: <None> [0.001], <None> [0.001], <None> [0.001], <None> [0.001], <None> [0.001], <None> [0.001], <None> [0.001], <startseq> [1.], <a> [1.], <clock> [1.], <mounted> [1.], <to> [1.], <a> [1.], <wall> [1.], <.> [1.], <a> [1.], <sign> [1.], <on> [1.], <a> [1.], <wall> [1.], <.> [1.], <a> [1.], <blue> [1.], <support> [1.], <beam> [1.], <.> [1.], <a> [1.], <wooden> [1.], <pillar> [1.], <in> [1.], <a> [1.], <building> [1.], <.> [1.], <bars> [1.], <across> [1.], <a> [1.], <window> [1.], <.> [1.], <a> [1.], <light> [1.], <in> [1.], <a> [1.], <ceiling> [1.], <.> [1.], <a> [1.], <light> [1.], <at> [1.], <the> [1.], <bottom> [1.], <of> [1.], <a> [1.], <pole> [1.], <.> [1.], <a> [1.], <bar> [1.], <at> [1.], <an> [1.], <entrance> [1.], <.> [1.], <writing> [1.] , \t next_word: on\n",
      "--- 53 ---\n",
      "[2370764.jpg], input_seq: <None> [0.001], <None> [0.001], <None> [0.001], <None> [0.001], <None> [0.001], <None> [0.001], <startseq> [1.], <a> [1.], <clock> [1.], <mounted> [1.], <to> [1.], <a> [1.], <wall> [1.], <.> [1.], <a> [1.], <sign> [1.], <on> [1.], <a> [1.], <wall> [1.], <.> [1.], <a> [1.], <blue> [1.], <support> [1.], <beam> [1.], <.> [1.], <a> [1.], <wooden> [1.], <pillar> [1.], <in> [1.], <a> [1.], <building> [1.], <.> [1.], <bars> [1.], <across> [1.], <a> [1.], <window> [1.], <.> [1.], <a> [1.], <light> [1.], <in> [1.], <a> [1.], <ceiling> [1.], <.> [1.], <a> [1.], <light> [1.], <at> [1.], <the> [1.], <bottom> [1.], <of> [1.], <a> [1.], <pole> [1.], <.> [1.], <a> [1.], <bar> [1.], <at> [1.], <an> [1.], <entrance> [1.], <.> [1.], <writing> [1.], <on> [1.] , \t next_word: a\n",
      "--- 54 ---\n",
      "[2370764.jpg], input_seq: <None> [0.001], <None> [0.001], <None> [0.001], <None> [0.001], <None> [0.001], <startseq> [1.], <a> [1.], <clock> [1.], <mounted> [1.], <to> [1.], <a> [1.], <wall> [1.], <.> [1.], <a> [1.], <sign> [1.], <on> [1.], <a> [1.], <wall> [1.], <.> [1.], <a> [1.], <blue> [1.], <support> [1.], <beam> [1.], <.> [1.], <a> [1.], <wooden> [1.], <pillar> [1.], <in> [1.], <a> [1.], <building> [1.], <.> [1.], <bars> [1.], <across> [1.], <a> [1.], <window> [1.], <.> [1.], <a> [1.], <light> [1.], <in> [1.], <a> [1.], <ceiling> [1.], <.> [1.], <a> [1.], <light> [1.], <at> [1.], <the> [1.], <bottom> [1.], <of> [1.], <a> [1.], <pole> [1.], <.> [1.], <a> [1.], <bar> [1.], <at> [1.], <an> [1.], <entrance> [1.], <.> [1.], <writing> [1.], <on> [1.], <a> [1.] , \t next_word: sign\n",
      "--- 55 ---\n",
      "[2370764.jpg], input_seq: <None> [0.001], <None> [0.001], <None> [0.001], <None> [0.001], <startseq> [1.], <a> [1.], <clock> [1.], <mounted> [1.], <to> [1.], <a> [1.], <wall> [1.], <.> [1.], <a> [1.], <sign> [1.], <on> [1.], <a> [1.], <wall> [1.], <.> [1.], <a> [1.], <blue> [1.], <support> [1.], <beam> [1.], <.> [1.], <a> [1.], <wooden> [1.], <pillar> [1.], <in> [1.], <a> [1.], <building> [1.], <.> [1.], <bars> [1.], <across> [1.], <a> [1.], <window> [1.], <.> [1.], <a> [1.], <light> [1.], <in> [1.], <a> [1.], <ceiling> [1.], <.> [1.], <a> [1.], <light> [1.], <at> [1.], <the> [1.], <bottom> [1.], <of> [1.], <a> [1.], <pole> [1.], <.> [1.], <a> [1.], <bar> [1.], <at> [1.], <an> [1.], <entrance> [1.], <.> [1.], <writing> [1.], <on> [1.], <a> [1.], <sign> [1.] , \t next_word: .\n",
      "--- 56 ---\n",
      "[2370764.jpg], input_seq: <None> [0.001], <None> [0.001], <None> [0.001], <startseq> [1.], <a> [1.], <clock> [1.], <mounted> [1.], <to> [1.], <a> [1.], <wall> [1.], <.> [1.], <a> [1.], <sign> [1.], <on> [1.], <a> [1.], <wall> [1.], <.> [1.], <a> [1.], <blue> [1.], <support> [1.], <beam> [1.], <.> [1.], <a> [1.], <wooden> [1.], <pillar> [1.], <in> [1.], <a> [1.], <building> [1.], <.> [1.], <bars> [1.], <across> [1.], <a> [1.], <window> [1.], <.> [1.], <a> [1.], <light> [1.], <in> [1.], <a> [1.], <ceiling> [1.], <.> [1.], <a> [1.], <light> [1.], <at> [1.], <the> [1.], <bottom> [1.], <of> [1.], <a> [1.], <pole> [1.], <.> [1.], <a> [1.], <bar> [1.], <at> [1.], <an> [1.], <entrance> [1.], <.> [1.], <writing> [1.], <on> [1.], <a> [1.], <sign> [1.], <.> [1.] , \t next_word: a\n",
      "--- 57 ---\n",
      "[2370764.jpg], input_seq: <None> [0.001], <None> [0.001], <startseq> [1.], <a> [1.], <clock> [1.], <mounted> [1.], <to> [1.], <a> [1.], <wall> [1.], <.> [1.], <a> [1.], <sign> [1.], <on> [1.], <a> [1.], <wall> [1.], <.> [1.], <a> [1.], <blue> [1.], <support> [1.], <beam> [1.], <.> [1.], <a> [1.], <wooden> [1.], <pillar> [1.], <in> [1.], <a> [1.], <building> [1.], <.> [1.], <bars> [1.], <across> [1.], <a> [1.], <window> [1.], <.> [1.], <a> [1.], <light> [1.], <in> [1.], <a> [1.], <ceiling> [1.], <.> [1.], <a> [1.], <light> [1.], <at> [1.], <the> [1.], <bottom> [1.], <of> [1.], <a> [1.], <pole> [1.], <.> [1.], <a> [1.], <bar> [1.], <at> [1.], <an> [1.], <entrance> [1.], <.> [1.], <writing> [1.], <on> [1.], <a> [1.], <sign> [1.], <.> [1.], <a> [1.] , \t next_word: bright\n",
      "--- 58 ---\n",
      "[2370764.jpg], input_seq: <None> [0.001], <startseq> [1.], <a> [1.], <clock> [1.], <mounted> [1.], <to> [1.], <a> [1.], <wall> [1.], <.> [1.], <a> [1.], <sign> [1.], <on> [1.], <a> [1.], <wall> [1.], <.> [1.], <a> [1.], <blue> [1.], <support> [1.], <beam> [1.], <.> [1.], <a> [1.], <wooden> [1.], <pillar> [1.], <in> [1.], <a> [1.], <building> [1.], <.> [1.], <bars> [1.], <across> [1.], <a> [1.], <window> [1.], <.> [1.], <a> [1.], <light> [1.], <in> [1.], <a> [1.], <ceiling> [1.], <.> [1.], <a> [1.], <light> [1.], <at> [1.], <the> [1.], <bottom> [1.], <of> [1.], <a> [1.], <pole> [1.], <.> [1.], <a> [1.], <bar> [1.], <at> [1.], <an> [1.], <entrance> [1.], <.> [1.], <writing> [1.], <on> [1.], <a> [1.], <sign> [1.], <.> [1.], <a> [1.], <bright> [1.] , \t next_word: light\n",
      "--- 59 ---\n",
      "[2370764.jpg], input_seq: <startseq> [1.], <a> [1.], <clock> [1.], <mounted> [1.], <to> [1.], <a> [1.], <wall> [1.], <.> [1.], <a> [1.], <sign> [1.], <on> [1.], <a> [1.], <wall> [1.], <.> [1.], <a> [1.], <blue> [1.], <support> [1.], <beam> [1.], <.> [1.], <a> [1.], <wooden> [1.], <pillar> [1.], <in> [1.], <a> [1.], <building> [1.], <.> [1.], <bars> [1.], <across> [1.], <a> [1.], <window> [1.], <.> [1.], <a> [1.], <light> [1.], <in> [1.], <a> [1.], <ceiling> [1.], <.> [1.], <a> [1.], <light> [1.], <at> [1.], <the> [1.], <bottom> [1.], <of> [1.], <a> [1.], <pole> [1.], <.> [1.], <a> [1.], <bar> [1.], <at> [1.], <an> [1.], <entrance> [1.], <.> [1.], <writing> [1.], <on> [1.], <a> [1.], <sign> [1.], <.> [1.], <a> [1.], <bright> [1.], <light> [1.] , \t next_word: endseq\n",
      "--- 60 ---\n",
      "[2391849.jpg], input_seq: <None> [0.001], <None> [0.001], <None> [0.001], <None> [0.001], <None> [0.001], <None> [0.001], <None> [0.001], <None> [0.001], <None> [0.001], <None> [0.001], <None> [0.001], <None> [0.001], <None> [0.001], <None> [0.001], <None> [0.001], <None> [0.001], <None> [0.001], <None> [0.001], <None> [0.001], <None> [0.001], <None> [0.001], <None> [0.001], <None> [0.001], <None> [0.001], <None> [0.001], <None> [0.001], <None> [0.001], <None> [0.001], <None> [0.001], <None> [0.001], <None> [0.001], <None> [0.001], <None> [0.001], <None> [0.001], <None> [0.001], <None> [0.001], <None> [0.001], <None> [0.001], <None> [0.001], <None> [0.001], <None> [0.001], <None> [0.001], <None> [0.001], <None> [0.001], <None> [0.001], <None> [0.001], <None> [0.001], <None> [0.001], <None> [0.001], <None> [0.001], <None> [0.001], <None> [0.001], <None> [0.001], <None> [0.001], <None> [0.001], <None> [0.001], <None> [0.001], <None> [0.001], <None> [0.001], <startseq> [1.] , \t next_word: two\n",
      "--- 61 ---\n",
      "[2391849.jpg], input_seq: <None> [0.001], <None> [0.001], <None> [0.001], <None> [0.001], <None> [0.001], <None> [0.001], <None> [0.001], <None> [0.001], <None> [0.001], <None> [0.001], <None> [0.001], <None> [0.001], <None> [0.001], <None> [0.001], <None> [0.001], <None> [0.001], <None> [0.001], <None> [0.001], <None> [0.001], <None> [0.001], <None> [0.001], <None> [0.001], <None> [0.001], <None> [0.001], <None> [0.001], <None> [0.001], <None> [0.001], <None> [0.001], <None> [0.001], <None> [0.001], <None> [0.001], <None> [0.001], <None> [0.001], <None> [0.001], <None> [0.001], <None> [0.001], <None> [0.001], <None> [0.001], <None> [0.001], <None> [0.001], <None> [0.001], <None> [0.001], <None> [0.001], <None> [0.001], <None> [0.001], <None> [0.001], <None> [0.001], <None> [0.001], <None> [0.001], <None> [0.001], <None> [0.001], <None> [0.001], <None> [0.001], <None> [0.001], <None> [0.001], <None> [0.001], <None> [0.001], <None> [0.001], <startseq> [1.], <two> [1.] , \t next_word: directional\n",
      "--- 62 ---\n",
      "[2391849.jpg], input_seq: <None> [0.001], <None> [0.001], <None> [0.001], <None> [0.001], <None> [0.001], <None> [0.001], <None> [0.001], <None> [0.001], <None> [0.001], <None> [0.001], <None> [0.001], <None> [0.001], <None> [0.001], <None> [0.001], <None> [0.001], <None> [0.001], <None> [0.001], <None> [0.001], <None> [0.001], <None> [0.001], <None> [0.001], <None> [0.001], <None> [0.001], <None> [0.001], <None> [0.001], <None> [0.001], <None> [0.001], <None> [0.001], <None> [0.001], <None> [0.001], <None> [0.001], <None> [0.001], <None> [0.001], <None> [0.001], <None> [0.001], <None> [0.001], <None> [0.001], <None> [0.001], <None> [0.001], <None> [0.001], <None> [0.001], <None> [0.001], <None> [0.001], <None> [0.001], <None> [0.001], <None> [0.001], <None> [0.001], <None> [0.001], <None> [0.001], <None> [0.001], <None> [0.001], <None> [0.001], <None> [0.001], <None> [0.001], <None> [0.001], <None> [0.001], <None> [0.001], <startseq> [1.], <two> [1.], <directional> [1.] , \t next_word: signs\n",
      "--- 63 ---\n",
      "[2391849.jpg], input_seq: <None> [0.001], <None> [0.001], <None> [0.001], <None> [0.001], <None> [0.001], <None> [0.001], <None> [0.001], <None> [0.001], <None> [0.001], <None> [0.001], <None> [0.001], <None> [0.001], <None> [0.001], <None> [0.001], <None> [0.001], <None> [0.001], <None> [0.001], <None> [0.001], <None> [0.001], <None> [0.001], <None> [0.001], <None> [0.001], <None> [0.001], <None> [0.001], <None> [0.001], <None> [0.001], <None> [0.001], <None> [0.001], <None> [0.001], <None> [0.001], <None> [0.001], <None> [0.001], <None> [0.001], <None> [0.001], <None> [0.001], <None> [0.001], <None> [0.001], <None> [0.001], <None> [0.001], <None> [0.001], <None> [0.001], <None> [0.001], <None> [0.001], <None> [0.001], <None> [0.001], <None> [0.001], <None> [0.001], <None> [0.001], <None> [0.001], <None> [0.001], <None> [0.001], <None> [0.001], <None> [0.001], <None> [0.001], <None> [0.001], <None> [0.001], <startseq> [1.], <two> [1.], <directional> [1.], <signs> [1.] , \t next_word: over\n",
      "--- 64 ---\n",
      "[2391849.jpg], input_seq: <None> [0.001], <None> [0.001], <None> [0.001], <None> [0.001], <None> [0.001], <None> [0.001], <None> [0.001], <None> [0.001], <None> [0.001], <None> [0.001], <None> [0.001], <None> [0.001], <None> [0.001], <None> [0.001], <None> [0.001], <None> [0.001], <None> [0.001], <None> [0.001], <None> [0.001], <None> [0.001], <None> [0.001], <None> [0.001], <None> [0.001], <None> [0.001], <None> [0.001], <None> [0.001], <None> [0.001], <None> [0.001], <None> [0.001], <None> [0.001], <None> [0.001], <None> [0.001], <None> [0.001], <None> [0.001], <None> [0.001], <None> [0.001], <None> [0.001], <None> [0.001], <None> [0.001], <None> [0.001], <None> [0.001], <None> [0.001], <None> [0.001], <None> [0.001], <None> [0.001], <None> [0.001], <None> [0.001], <None> [0.001], <None> [0.001], <None> [0.001], <None> [0.001], <None> [0.001], <None> [0.001], <None> [0.001], <None> [0.001], <startseq> [1.], <two> [1.], <directional> [1.], <signs> [1.], <over> [1.] , \t next_word: highway\n",
      "--- 65 ---\n",
      "[2391849.jpg], input_seq: <None> [0.001], <None> [0.001], <None> [0.001], <None> [0.001], <None> [0.001], <None> [0.001], <None> [0.001], <None> [0.001], <None> [0.001], <None> [0.001], <None> [0.001], <None> [0.001], <None> [0.001], <None> [0.001], <None> [0.001], <None> [0.001], <None> [0.001], <None> [0.001], <None> [0.001], <None> [0.001], <None> [0.001], <None> [0.001], <None> [0.001], <None> [0.001], <None> [0.001], <None> [0.001], <None> [0.001], <None> [0.001], <None> [0.001], <None> [0.001], <None> [0.001], <None> [0.001], <None> [0.001], <None> [0.001], <None> [0.001], <None> [0.001], <None> [0.001], <None> [0.001], <None> [0.001], <None> [0.001], <None> [0.001], <None> [0.001], <None> [0.001], <None> [0.001], <None> [0.001], <None> [0.001], <None> [0.001], <None> [0.001], <None> [0.001], <None> [0.001], <None> [0.001], <None> [0.001], <None> [0.001], <None> [0.001], <startseq> [1.], <two> [1.], <directional> [1.], <signs> [1.], <over> [1.], <highway> [1.] , \t next_word: .\n",
      "--- 66 ---\n",
      "[2391849.jpg], input_seq: <None> [0.001], <None> [0.001], <None> [0.001], <None> [0.001], <None> [0.001], <None> [0.001], <None> [0.001], <None> [0.001], <None> [0.001], <None> [0.001], <None> [0.001], <None> [0.001], <None> [0.001], <None> [0.001], <None> [0.001], <None> [0.001], <None> [0.001], <None> [0.001], <None> [0.001], <None> [0.001], <None> [0.001], <None> [0.001], <None> [0.001], <None> [0.001], <None> [0.001], <None> [0.001], <None> [0.001], <None> [0.001], <None> [0.001], <None> [0.001], <None> [0.001], <None> [0.001], <None> [0.001], <None> [0.001], <None> [0.001], <None> [0.001], <None> [0.001], <None> [0.001], <None> [0.001], <None> [0.001], <None> [0.001], <None> [0.001], <None> [0.001], <None> [0.001], <None> [0.001], <None> [0.001], <None> [0.001], <None> [0.001], <None> [0.001], <None> [0.001], <None> [0.001], <None> [0.001], <None> [0.001], <startseq> [1.], <two> [1.], <directional> [1.], <signs> [1.], <over> [1.], <highway> [1.], <.> [1.] , \t next_word: bridge\n",
      "--- 67 ---\n",
      "[2391849.jpg], input_seq: <None> [0.001], <None> [0.001], <None> [0.001], <None> [0.001], <None> [0.001], <None> [0.001], <None> [0.001], <None> [0.001], <None> [0.001], <None> [0.001], <None> [0.001], <None> [0.001], <None> [0.001], <None> [0.001], <None> [0.001], <None> [0.001], <None> [0.001], <None> [0.001], <None> [0.001], <None> [0.001], <None> [0.001], <None> [0.001], <None> [0.001], <None> [0.001], <None> [0.001], <None> [0.001], <None> [0.001], <None> [0.001], <None> [0.001], <None> [0.001], <None> [0.001], <None> [0.001], <None> [0.001], <None> [0.001], <None> [0.001], <None> [0.001], <None> [0.001], <None> [0.001], <None> [0.001], <None> [0.001], <None> [0.001], <None> [0.001], <None> [0.001], <None> [0.001], <None> [0.001], <None> [0.001], <None> [0.001], <None> [0.001], <None> [0.001], <None> [0.001], <None> [0.001], <None> [0.001], <startseq> [1.], <two> [1.], <directional> [1.], <signs> [1.], <over> [1.], <highway> [1.], <.> [1.], <bridge> [1.] , \t next_word: over\n",
      "--- 68 ---\n",
      "[2391849.jpg], input_seq: <None> [0.001], <None> [0.001], <None> [0.001], <None> [0.001], <None> [0.001], <None> [0.001], <None> [0.001], <None> [0.001], <None> [0.001], <None> [0.001], <None> [0.001], <None> [0.001], <None> [0.001], <None> [0.001], <None> [0.001], <None> [0.001], <None> [0.001], <None> [0.001], <None> [0.001], <None> [0.001], <None> [0.001], <None> [0.001], <None> [0.001], <None> [0.001], <None> [0.001], <None> [0.001], <None> [0.001], <None> [0.001], <None> [0.001], <None> [0.001], <None> [0.001], <None> [0.001], <None> [0.001], <None> [0.001], <None> [0.001], <None> [0.001], <None> [0.001], <None> [0.001], <None> [0.001], <None> [0.001], <None> [0.001], <None> [0.001], <None> [0.001], <None> [0.001], <None> [0.001], <None> [0.001], <None> [0.001], <None> [0.001], <None> [0.001], <None> [0.001], <None> [0.001], <startseq> [1.], <two> [1.], <directional> [1.], <signs> [1.], <over> [1.], <highway> [1.], <.> [1.], <bridge> [1.], <over> [1.] , \t next_word: highway\n",
      "--- 69 ---\n",
      "[2391849.jpg], input_seq: <None> [0.001], <None> [0.001], <None> [0.001], <None> [0.001], <None> [0.001], <None> [0.001], <None> [0.001], <None> [0.001], <None> [0.001], <None> [0.001], <None> [0.001], <None> [0.001], <None> [0.001], <None> [0.001], <None> [0.001], <None> [0.001], <None> [0.001], <None> [0.001], <None> [0.001], <None> [0.001], <None> [0.001], <None> [0.001], <None> [0.001], <None> [0.001], <None> [0.001], <None> [0.001], <None> [0.001], <None> [0.001], <None> [0.001], <None> [0.001], <None> [0.001], <None> [0.001], <None> [0.001], <None> [0.001], <None> [0.001], <None> [0.001], <None> [0.001], <None> [0.001], <None> [0.001], <None> [0.001], <None> [0.001], <None> [0.001], <None> [0.001], <None> [0.001], <None> [0.001], <None> [0.001], <None> [0.001], <None> [0.001], <None> [0.001], <None> [0.001], <startseq> [1.], <two> [1.], <directional> [1.], <signs> [1.], <over> [1.], <highway> [1.], <.> [1.], <bridge> [1.], <over> [1.], <highway> [1.] , \t next_word: in\n",
      "--- 70 ---\n",
      "[2391849.jpg], input_seq: <None> [0.001], <None> [0.001], <None> [0.001], <None> [0.001], <None> [0.001], <None> [0.001], <None> [0.001], <None> [0.001], <None> [0.001], <None> [0.001], <None> [0.001], <None> [0.001], <None> [0.001], <None> [0.001], <None> [0.001], <None> [0.001], <None> [0.001], <None> [0.001], <None> [0.001], <None> [0.001], <None> [0.001], <None> [0.001], <None> [0.001], <None> [0.001], <None> [0.001], <None> [0.001], <None> [0.001], <None> [0.001], <None> [0.001], <None> [0.001], <None> [0.001], <None> [0.001], <None> [0.001], <None> [0.001], <None> [0.001], <None> [0.001], <None> [0.001], <None> [0.001], <None> [0.001], <None> [0.001], <None> [0.001], <None> [0.001], <None> [0.001], <None> [0.001], <None> [0.001], <None> [0.001], <None> [0.001], <None> [0.001], <None> [0.001], <startseq> [1.], <two> [1.], <directional> [1.], <signs> [1.], <over> [1.], <highway> [1.], <.> [1.], <bridge> [1.], <over> [1.], <highway> [1.], <in> [1.] , \t next_word: photo\n",
      "--- 71 ---\n",
      "[2391849.jpg], input_seq: <None> [0.001], <None> [0.001], <None> [0.001], <None> [0.001], <None> [0.001], <None> [0.001], <None> [0.001], <None> [0.001], <None> [0.001], <None> [0.001], <None> [0.001], <None> [0.001], <None> [0.001], <None> [0.001], <None> [0.001], <None> [0.001], <None> [0.001], <None> [0.001], <None> [0.001], <None> [0.001], <None> [0.001], <None> [0.001], <None> [0.001], <None> [0.001], <None> [0.001], <None> [0.001], <None> [0.001], <None> [0.001], <None> [0.001], <None> [0.001], <None> [0.001], <None> [0.001], <None> [0.001], <None> [0.001], <None> [0.001], <None> [0.001], <None> [0.001], <None> [0.001], <None> [0.001], <None> [0.001], <None> [0.001], <None> [0.001], <None> [0.001], <None> [0.001], <None> [0.001], <None> [0.001], <None> [0.001], <None> [0.001], <startseq> [1.], <two> [1.], <directional> [1.], <signs> [1.], <over> [1.], <highway> [1.], <.> [1.], <bridge> [1.], <over> [1.], <highway> [1.], <in> [1.], <photo> [1.] , \t next_word: .\n",
      "--- 72 ---\n",
      "[2391849.jpg], input_seq: <None> [0.001], <None> [0.001], <None> [0.001], <None> [0.001], <None> [0.001], <None> [0.001], <None> [0.001], <None> [0.001], <None> [0.001], <None> [0.001], <None> [0.001], <None> [0.001], <None> [0.001], <None> [0.001], <None> [0.001], <None> [0.001], <None> [0.001], <None> [0.001], <None> [0.001], <None> [0.001], <None> [0.001], <None> [0.001], <None> [0.001], <None> [0.001], <None> [0.001], <None> [0.001], <None> [0.001], <None> [0.001], <None> [0.001], <None> [0.001], <None> [0.001], <None> [0.001], <None> [0.001], <None> [0.001], <None> [0.001], <None> [0.001], <None> [0.001], <None> [0.001], <None> [0.001], <None> [0.001], <None> [0.001], <None> [0.001], <None> [0.001], <None> [0.001], <None> [0.001], <None> [0.001], <None> [0.001], <startseq> [1.], <two> [1.], <directional> [1.], <signs> [1.], <over> [1.], <highway> [1.], <.> [1.], <bridge> [1.], <over> [1.], <highway> [1.], <in> [1.], <photo> [1.], <.> [1.] , \t next_word: golden\n",
      "--- 73 ---\n",
      "[2391849.jpg], input_seq: <None> [0.001], <None> [0.001], <None> [0.001], <None> [0.001], <None> [0.001], <None> [0.001], <None> [0.001], <None> [0.001], <None> [0.001], <None> [0.001], <None> [0.001], <None> [0.001], <None> [0.001], <None> [0.001], <None> [0.001], <None> [0.001], <None> [0.001], <None> [0.001], <None> [0.001], <None> [0.001], <None> [0.001], <None> [0.001], <None> [0.001], <None> [0.001], <None> [0.001], <None> [0.001], <None> [0.001], <None> [0.001], <None> [0.001], <None> [0.001], <None> [0.001], <None> [0.001], <None> [0.001], <None> [0.001], <None> [0.001], <None> [0.001], <None> [0.001], <None> [0.001], <None> [0.001], <None> [0.001], <None> [0.001], <None> [0.001], <None> [0.001], <None> [0.001], <None> [0.001], <None> [0.001], <startseq> [1.], <two> [1.], <directional> [1.], <signs> [1.], <over> [1.], <highway> [1.], <.> [1.], <bridge> [1.], <over> [1.], <highway> [1.], <in> [1.], <photo> [1.], <.> [1.], <golden> [1.] , \t next_word: dog\n",
      "--- 74 ---\n",
      "[2391849.jpg], input_seq: <None> [0.001], <None> [0.001], <None> [0.001], <None> [0.001], <None> [0.001], <None> [0.001], <None> [0.001], <None> [0.001], <None> [0.001], <None> [0.001], <None> [0.001], <None> [0.001], <None> [0.001], <None> [0.001], <None> [0.001], <None> [0.001], <None> [0.001], <None> [0.001], <None> [0.001], <None> [0.001], <None> [0.001], <None> [0.001], <None> [0.001], <None> [0.001], <None> [0.001], <None> [0.001], <None> [0.001], <None> [0.001], <None> [0.001], <None> [0.001], <None> [0.001], <None> [0.001], <None> [0.001], <None> [0.001], <None> [0.001], <None> [0.001], <None> [0.001], <None> [0.001], <None> [0.001], <None> [0.001], <None> [0.001], <None> [0.001], <None> [0.001], <None> [0.001], <None> [0.001], <startseq> [1.], <two> [1.], <directional> [1.], <signs> [1.], <over> [1.], <highway> [1.], <.> [1.], <bridge> [1.], <over> [1.], <highway> [1.], <in> [1.], <photo> [1.], <.> [1.], <golden> [1.], <dog> [1.] , \t next_word: being\n",
      "--- 75 ---\n",
      "[2391849.jpg], input_seq: <None> [0.001], <None> [0.001], <None> [0.001], <None> [0.001], <None> [0.001], <None> [0.001], <None> [0.001], <None> [0.001], <None> [0.001], <None> [0.001], <None> [0.001], <None> [0.001], <None> [0.001], <None> [0.001], <None> [0.001], <None> [0.001], <None> [0.001], <None> [0.001], <None> [0.001], <None> [0.001], <None> [0.001], <None> [0.001], <None> [0.001], <None> [0.001], <None> [0.001], <None> [0.001], <None> [0.001], <None> [0.001], <None> [0.001], <None> [0.001], <None> [0.001], <None> [0.001], <None> [0.001], <None> [0.001], <None> [0.001], <None> [0.001], <None> [0.001], <None> [0.001], <None> [0.001], <None> [0.001], <None> [0.001], <None> [0.001], <None> [0.001], <None> [0.001], <startseq> [1.], <two> [1.], <directional> [1.], <signs> [1.], <over> [1.], <highway> [1.], <.> [1.], <bridge> [1.], <over> [1.], <highway> [1.], <in> [1.], <photo> [1.], <.> [1.], <golden> [1.], <dog> [1.], <being> [1.] , \t next_word: walked\n",
      "--- 76 ---\n",
      "[2391849.jpg], input_seq: <None> [0.001], <None> [0.001], <None> [0.001], <None> [0.001], <None> [0.001], <None> [0.001], <None> [0.001], <None> [0.001], <None> [0.001], <None> [0.001], <None> [0.001], <None> [0.001], <None> [0.001], <None> [0.001], <None> [0.001], <None> [0.001], <None> [0.001], <None> [0.001], <None> [0.001], <None> [0.001], <None> [0.001], <None> [0.001], <None> [0.001], <None> [0.001], <None> [0.001], <None> [0.001], <None> [0.001], <None> [0.001], <None> [0.001], <None> [0.001], <None> [0.001], <None> [0.001], <None> [0.001], <None> [0.001], <None> [0.001], <None> [0.001], <None> [0.001], <None> [0.001], <None> [0.001], <None> [0.001], <None> [0.001], <None> [0.001], <None> [0.001], <startseq> [1.], <two> [1.], <directional> [1.], <signs> [1.], <over> [1.], <highway> [1.], <.> [1.], <bridge> [1.], <over> [1.], <highway> [1.], <in> [1.], <photo> [1.], <.> [1.], <golden> [1.], <dog> [1.], <being> [1.], <walked> [1.] , \t next_word: on\n",
      "--- 77 ---\n",
      "[2391849.jpg], input_seq: <None> [0.001], <None> [0.001], <None> [0.001], <None> [0.001], <None> [0.001], <None> [0.001], <None> [0.001], <None> [0.001], <None> [0.001], <None> [0.001], <None> [0.001], <None> [0.001], <None> [0.001], <None> [0.001], <None> [0.001], <None> [0.001], <None> [0.001], <None> [0.001], <None> [0.001], <None> [0.001], <None> [0.001], <None> [0.001], <None> [0.001], <None> [0.001], <None> [0.001], <None> [0.001], <None> [0.001], <None> [0.001], <None> [0.001], <None> [0.001], <None> [0.001], <None> [0.001], <None> [0.001], <None> [0.001], <None> [0.001], <None> [0.001], <None> [0.001], <None> [0.001], <None> [0.001], <None> [0.001], <None> [0.001], <None> [0.001], <startseq> [1.], <two> [1.], <directional> [1.], <signs> [1.], <over> [1.], <highway> [1.], <.> [1.], <bridge> [1.], <over> [1.], <highway> [1.], <in> [1.], <photo> [1.], <.> [1.], <golden> [1.], <dog> [1.], <being> [1.], <walked> [1.], <on> [1.] , \t next_word: leash\n",
      "--- 78 ---\n",
      "[2391849.jpg], input_seq: <None> [0.001], <None> [0.001], <None> [0.001], <None> [0.001], <None> [0.001], <None> [0.001], <None> [0.001], <None> [0.001], <None> [0.001], <None> [0.001], <None> [0.001], <None> [0.001], <None> [0.001], <None> [0.001], <None> [0.001], <None> [0.001], <None> [0.001], <None> [0.001], <None> [0.001], <None> [0.001], <None> [0.001], <None> [0.001], <None> [0.001], <None> [0.001], <None> [0.001], <None> [0.001], <None> [0.001], <None> [0.001], <None> [0.001], <None> [0.001], <None> [0.001], <None> [0.001], <None> [0.001], <None> [0.001], <None> [0.001], <None> [0.001], <None> [0.001], <None> [0.001], <None> [0.001], <None> [0.001], <None> [0.001], <startseq> [1.], <two> [1.], <directional> [1.], <signs> [1.], <over> [1.], <highway> [1.], <.> [1.], <bridge> [1.], <over> [1.], <highway> [1.], <in> [1.], <photo> [1.], <.> [1.], <golden> [1.], <dog> [1.], <being> [1.], <walked> [1.], <on> [1.], <leash> [1.] , \t next_word: .\n",
      "--- 79 ---\n"
     ]
    },
    {
     "name": "stdout",
     "output_type": "stream",
     "text": [
      "[2391849.jpg], input_seq: <None> [0.001], <None> [0.001], <None> [0.001], <None> [0.001], <None> [0.001], <None> [0.001], <None> [0.001], <None> [0.001], <None> [0.001], <None> [0.001], <None> [0.001], <None> [0.001], <None> [0.001], <None> [0.001], <None> [0.001], <None> [0.001], <None> [0.001], <None> [0.001], <None> [0.001], <None> [0.001], <None> [0.001], <None> [0.001], <None> [0.001], <None> [0.001], <None> [0.001], <None> [0.001], <None> [0.001], <None> [0.001], <None> [0.001], <None> [0.001], <None> [0.001], <None> [0.001], <None> [0.001], <None> [0.001], <None> [0.001], <None> [0.001], <None> [0.001], <None> [0.001], <None> [0.001], <None> [0.001], <startseq> [1.], <two> [1.], <directional> [1.], <signs> [1.], <over> [1.], <highway> [1.], <.> [1.], <bridge> [1.], <over> [1.], <highway> [1.], <in> [1.], <photo> [1.], <.> [1.], <golden> [1.], <dog> [1.], <being> [1.], <walked> [1.], <on> [1.], <leash> [1.], <.> [1.] , \t next_word: many\n",
      "--- 80 ---\n",
      "[2391849.jpg], input_seq: <None> [0.001], <None> [0.001], <None> [0.001], <None> [0.001], <None> [0.001], <None> [0.001], <None> [0.001], <None> [0.001], <None> [0.001], <None> [0.001], <None> [0.001], <None> [0.001], <None> [0.001], <None> [0.001], <None> [0.001], <None> [0.001], <None> [0.001], <None> [0.001], <None> [0.001], <None> [0.001], <None> [0.001], <None> [0.001], <None> [0.001], <None> [0.001], <None> [0.001], <None> [0.001], <None> [0.001], <None> [0.001], <None> [0.001], <None> [0.001], <None> [0.001], <None> [0.001], <None> [0.001], <None> [0.001], <None> [0.001], <None> [0.001], <None> [0.001], <None> [0.001], <None> [0.001], <startseq> [1.], <two> [1.], <directional> [1.], <signs> [1.], <over> [1.], <highway> [1.], <.> [1.], <bridge> [1.], <over> [1.], <highway> [1.], <in> [1.], <photo> [1.], <.> [1.], <golden> [1.], <dog> [1.], <being> [1.], <walked> [1.], <on> [1.], <leash> [1.], <.> [1.], <many> [1.] , \t next_word: people\n",
      "--- 81 ---\n",
      "[2391849.jpg], input_seq: <None> [0.001], <None> [0.001], <None> [0.001], <None> [0.001], <None> [0.001], <None> [0.001], <None> [0.001], <None> [0.001], <None> [0.001], <None> [0.001], <None> [0.001], <None> [0.001], <None> [0.001], <None> [0.001], <None> [0.001], <None> [0.001], <None> [0.001], <None> [0.001], <None> [0.001], <None> [0.001], <None> [0.001], <None> [0.001], <None> [0.001], <None> [0.001], <None> [0.001], <None> [0.001], <None> [0.001], <None> [0.001], <None> [0.001], <None> [0.001], <None> [0.001], <None> [0.001], <None> [0.001], <None> [0.001], <None> [0.001], <None> [0.001], <None> [0.001], <None> [0.001], <startseq> [1.], <two> [1.], <directional> [1.], <signs> [1.], <over> [1.], <highway> [1.], <.> [1.], <bridge> [1.], <over> [1.], <highway> [1.], <in> [1.], <photo> [1.], <.> [1.], <golden> [1.], <dog> [1.], <being> [1.], <walked> [1.], <on> [1.], <leash> [1.], <.> [1.], <many> [1.], <people> [1.] , \t next_word: walking\n",
      "--- 82 ---\n",
      "[2391849.jpg], input_seq: <None> [0.001], <None> [0.001], <None> [0.001], <None> [0.001], <None> [0.001], <None> [0.001], <None> [0.001], <None> [0.001], <None> [0.001], <None> [0.001], <None> [0.001], <None> [0.001], <None> [0.001], <None> [0.001], <None> [0.001], <None> [0.001], <None> [0.001], <None> [0.001], <None> [0.001], <None> [0.001], <None> [0.001], <None> [0.001], <None> [0.001], <None> [0.001], <None> [0.001], <None> [0.001], <None> [0.001], <None> [0.001], <None> [0.001], <None> [0.001], <None> [0.001], <None> [0.001], <None> [0.001], <None> [0.001], <None> [0.001], <None> [0.001], <None> [0.001], <startseq> [1.], <two> [1.], <directional> [1.], <signs> [1.], <over> [1.], <highway> [1.], <.> [1.], <bridge> [1.], <over> [1.], <highway> [1.], <in> [1.], <photo> [1.], <.> [1.], <golden> [1.], <dog> [1.], <being> [1.], <walked> [1.], <on> [1.], <leash> [1.], <.> [1.], <many> [1.], <people> [1.], <walking> [1.] , \t next_word: on\n",
      "--- 83 ---\n",
      "[2391849.jpg], input_seq: <None> [0.001], <None> [0.001], <None> [0.001], <None> [0.001], <None> [0.001], <None> [0.001], <None> [0.001], <None> [0.001], <None> [0.001], <None> [0.001], <None> [0.001], <None> [0.001], <None> [0.001], <None> [0.001], <None> [0.001], <None> [0.001], <None> [0.001], <None> [0.001], <None> [0.001], <None> [0.001], <None> [0.001], <None> [0.001], <None> [0.001], <None> [0.001], <None> [0.001], <None> [0.001], <None> [0.001], <None> [0.001], <None> [0.001], <None> [0.001], <None> [0.001], <None> [0.001], <None> [0.001], <None> [0.001], <None> [0.001], <None> [0.001], <startseq> [1.], <two> [1.], <directional> [1.], <signs> [1.], <over> [1.], <highway> [1.], <.> [1.], <bridge> [1.], <over> [1.], <highway> [1.], <in> [1.], <photo> [1.], <.> [1.], <golden> [1.], <dog> [1.], <being> [1.], <walked> [1.], <on> [1.], <leash> [1.], <.> [1.], <many> [1.], <people> [1.], <walking> [1.], <on> [1.] , \t next_word: highway\n",
      "--- 84 ---\n",
      "[2391849.jpg], input_seq: <None> [0.001], <None> [0.001], <None> [0.001], <None> [0.001], <None> [0.001], <None> [0.001], <None> [0.001], <None> [0.001], <None> [0.001], <None> [0.001], <None> [0.001], <None> [0.001], <None> [0.001], <None> [0.001], <None> [0.001], <None> [0.001], <None> [0.001], <None> [0.001], <None> [0.001], <None> [0.001], <None> [0.001], <None> [0.001], <None> [0.001], <None> [0.001], <None> [0.001], <None> [0.001], <None> [0.001], <None> [0.001], <None> [0.001], <None> [0.001], <None> [0.001], <None> [0.001], <None> [0.001], <None> [0.001], <None> [0.001], <startseq> [1.], <two> [1.], <directional> [1.], <signs> [1.], <over> [1.], <highway> [1.], <.> [1.], <bridge> [1.], <over> [1.], <highway> [1.], <in> [1.], <photo> [1.], <.> [1.], <golden> [1.], <dog> [1.], <being> [1.], <walked> [1.], <on> [1.], <leash> [1.], <.> [1.], <many> [1.], <people> [1.], <walking> [1.], <on> [1.], <highway> [1.] , \t next_word: .\n",
      "--- 85 ---\n",
      "[2391849.jpg], input_seq: <None> [0.001], <None> [0.001], <None> [0.001], <None> [0.001], <None> [0.001], <None> [0.001], <None> [0.001], <None> [0.001], <None> [0.001], <None> [0.001], <None> [0.001], <None> [0.001], <None> [0.001], <None> [0.001], <None> [0.001], <None> [0.001], <None> [0.001], <None> [0.001], <None> [0.001], <None> [0.001], <None> [0.001], <None> [0.001], <None> [0.001], <None> [0.001], <None> [0.001], <None> [0.001], <None> [0.001], <None> [0.001], <None> [0.001], <None> [0.001], <None> [0.001], <None> [0.001], <None> [0.001], <None> [0.001], <startseq> [1.], <two> [1.], <directional> [1.], <signs> [1.], <over> [1.], <highway> [1.], <.> [1.], <bridge> [1.], <over> [1.], <highway> [1.], <in> [1.], <photo> [1.], <.> [1.], <golden> [1.], <dog> [1.], <being> [1.], <walked> [1.], <on> [1.], <leash> [1.], <.> [1.], <many> [1.], <people> [1.], <walking> [1.], <on> [1.], <highway> [1.], <.> [1.] , \t next_word: many\n",
      "--- 86 ---\n",
      "[2391849.jpg], input_seq: <None> [0.001], <None> [0.001], <None> [0.001], <None> [0.001], <None> [0.001], <None> [0.001], <None> [0.001], <None> [0.001], <None> [0.001], <None> [0.001], <None> [0.001], <None> [0.001], <None> [0.001], <None> [0.001], <None> [0.001], <None> [0.001], <None> [0.001], <None> [0.001], <None> [0.001], <None> [0.001], <None> [0.001], <None> [0.001], <None> [0.001], <None> [0.001], <None> [0.001], <None> [0.001], <None> [0.001], <None> [0.001], <None> [0.001], <None> [0.001], <None> [0.001], <None> [0.001], <None> [0.001], <startseq> [1.], <two> [1.], <directional> [1.], <signs> [1.], <over> [1.], <highway> [1.], <.> [1.], <bridge> [1.], <over> [1.], <highway> [1.], <in> [1.], <photo> [1.], <.> [1.], <golden> [1.], <dog> [1.], <being> [1.], <walked> [1.], <on> [1.], <leash> [1.], <.> [1.], <many> [1.], <people> [1.], <walking> [1.], <on> [1.], <highway> [1.], <.> [1.], <many> [1.] , \t next_word: people\n",
      "--- 87 ---\n",
      "[2391849.jpg], input_seq: <None> [0.001], <None> [0.001], <None> [0.001], <None> [0.001], <None> [0.001], <None> [0.001], <None> [0.001], <None> [0.001], <None> [0.001], <None> [0.001], <None> [0.001], <None> [0.001], <None> [0.001], <None> [0.001], <None> [0.001], <None> [0.001], <None> [0.001], <None> [0.001], <None> [0.001], <None> [0.001], <None> [0.001], <None> [0.001], <None> [0.001], <None> [0.001], <None> [0.001], <None> [0.001], <None> [0.001], <None> [0.001], <None> [0.001], <None> [0.001], <None> [0.001], <None> [0.001], <startseq> [1.], <two> [1.], <directional> [1.], <signs> [1.], <over> [1.], <highway> [1.], <.> [1.], <bridge> [1.], <over> [1.], <highway> [1.], <in> [1.], <photo> [1.], <.> [1.], <golden> [1.], <dog> [1.], <being> [1.], <walked> [1.], <on> [1.], <leash> [1.], <.> [1.], <many> [1.], <people> [1.], <walking> [1.], <on> [1.], <highway> [1.], <.> [1.], <many> [1.], <people> [1.] , \t next_word: walking\n",
      "--- 88 ---\n",
      "[2391849.jpg], input_seq: <None> [0.001], <None> [0.001], <None> [0.001], <None> [0.001], <None> [0.001], <None> [0.001], <None> [0.001], <None> [0.001], <None> [0.001], <None> [0.001], <None> [0.001], <None> [0.001], <None> [0.001], <None> [0.001], <None> [0.001], <None> [0.001], <None> [0.001], <None> [0.001], <None> [0.001], <None> [0.001], <None> [0.001], <None> [0.001], <None> [0.001], <None> [0.001], <None> [0.001], <None> [0.001], <None> [0.001], <None> [0.001], <None> [0.001], <None> [0.001], <None> [0.001], <startseq> [1.], <two> [1.], <directional> [1.], <signs> [1.], <over> [1.], <highway> [1.], <.> [1.], <bridge> [1.], <over> [1.], <highway> [1.], <in> [1.], <photo> [1.], <.> [1.], <golden> [1.], <dog> [1.], <being> [1.], <walked> [1.], <on> [1.], <leash> [1.], <.> [1.], <many> [1.], <people> [1.], <walking> [1.], <on> [1.], <highway> [1.], <.> [1.], <many> [1.], <people> [1.], <walking> [1.] , \t next_word: on\n",
      "--- 89 ---\n",
      "[2391849.jpg], input_seq: <None> [0.001], <None> [0.001], <None> [0.001], <None> [0.001], <None> [0.001], <None> [0.001], <None> [0.001], <None> [0.001], <None> [0.001], <None> [0.001], <None> [0.001], <None> [0.001], <None> [0.001], <None> [0.001], <None> [0.001], <None> [0.001], <None> [0.001], <None> [0.001], <None> [0.001], <None> [0.001], <None> [0.001], <None> [0.001], <None> [0.001], <None> [0.001], <None> [0.001], <None> [0.001], <None> [0.001], <None> [0.001], <None> [0.001], <None> [0.001], <startseq> [1.], <two> [1.], <directional> [1.], <signs> [1.], <over> [1.], <highway> [1.], <.> [1.], <bridge> [1.], <over> [1.], <highway> [1.], <in> [1.], <photo> [1.], <.> [1.], <golden> [1.], <dog> [1.], <being> [1.], <walked> [1.], <on> [1.], <leash> [1.], <.> [1.], <many> [1.], <people> [1.], <walking> [1.], <on> [1.], <highway> [1.], <.> [1.], <many> [1.], <people> [1.], <walking> [1.], <on> [1.] , \t next_word: grass\n",
      "--- 90 ---\n",
      "[2391849.jpg], input_seq: <None> [0.001], <None> [0.001], <None> [0.001], <None> [0.001], <None> [0.001], <None> [0.001], <None> [0.001], <None> [0.001], <None> [0.001], <None> [0.001], <None> [0.001], <None> [0.001], <None> [0.001], <None> [0.001], <None> [0.001], <None> [0.001], <None> [0.001], <None> [0.001], <None> [0.001], <None> [0.001], <None> [0.001], <None> [0.001], <None> [0.001], <None> [0.001], <None> [0.001], <None> [0.001], <None> [0.001], <None> [0.001], <None> [0.001], <startseq> [1.], <two> [1.], <directional> [1.], <signs> [1.], <over> [1.], <highway> [1.], <.> [1.], <bridge> [1.], <over> [1.], <highway> [1.], <in> [1.], <photo> [1.], <.> [1.], <golden> [1.], <dog> [1.], <being> [1.], <walked> [1.], <on> [1.], <leash> [1.], <.> [1.], <many> [1.], <people> [1.], <walking> [1.], <on> [1.], <highway> [1.], <.> [1.], <many> [1.], <people> [1.], <walking> [1.], <on> [1.], <grass> [1.] , \t next_word: .\n",
      "--- 91 ---\n",
      "[2391849.jpg], input_seq: <None> [0.001], <None> [0.001], <None> [0.001], <None> [0.001], <None> [0.001], <None> [0.001], <None> [0.001], <None> [0.001], <None> [0.001], <None> [0.001], <None> [0.001], <None> [0.001], <None> [0.001], <None> [0.001], <None> [0.001], <None> [0.001], <None> [0.001], <None> [0.001], <None> [0.001], <None> [0.001], <None> [0.001], <None> [0.001], <None> [0.001], <None> [0.001], <None> [0.001], <None> [0.001], <None> [0.001], <None> [0.001], <startseq> [1.], <two> [1.], <directional> [1.], <signs> [1.], <over> [1.], <highway> [1.], <.> [1.], <bridge> [1.], <over> [1.], <highway> [1.], <in> [1.], <photo> [1.], <.> [1.], <golden> [1.], <dog> [1.], <being> [1.], <walked> [1.], <on> [1.], <leash> [1.], <.> [1.], <many> [1.], <people> [1.], <walking> [1.], <on> [1.], <highway> [1.], <.> [1.], <many> [1.], <people> [1.], <walking> [1.], <on> [1.], <grass> [1.], <.> [1.] , \t next_word: green\n",
      "--- 92 ---\n",
      "[2391849.jpg], input_seq: <None> [0.001], <None> [0.001], <None> [0.001], <None> [0.001], <None> [0.001], <None> [0.001], <None> [0.001], <None> [0.001], <None> [0.001], <None> [0.001], <None> [0.001], <None> [0.001], <None> [0.001], <None> [0.001], <None> [0.001], <None> [0.001], <None> [0.001], <None> [0.001], <None> [0.001], <None> [0.001], <None> [0.001], <None> [0.001], <None> [0.001], <None> [0.001], <None> [0.001], <None> [0.001], <None> [0.001], <startseq> [1.], <two> [1.], <directional> [1.], <signs> [1.], <over> [1.], <highway> [1.], <.> [1.], <bridge> [1.], <over> [1.], <highway> [1.], <in> [1.], <photo> [1.], <.> [1.], <golden> [1.], <dog> [1.], <being> [1.], <walked> [1.], <on> [1.], <leash> [1.], <.> [1.], <many> [1.], <people> [1.], <walking> [1.], <on> [1.], <highway> [1.], <.> [1.], <many> [1.], <people> [1.], <walking> [1.], <on> [1.], <grass> [1.], <.> [1.], <green> [1.] , \t next_word: sign\n",
      "--- 93 ---\n",
      "[2391849.jpg], input_seq: <None> [0.001], <None> [0.001], <None> [0.001], <None> [0.001], <None> [0.001], <None> [0.001], <None> [0.001], <None> [0.001], <None> [0.001], <None> [0.001], <None> [0.001], <None> [0.001], <None> [0.001], <None> [0.001], <None> [0.001], <None> [0.001], <None> [0.001], <None> [0.001], <None> [0.001], <None> [0.001], <None> [0.001], <None> [0.001], <None> [0.001], <None> [0.001], <None> [0.001], <None> [0.001], <startseq> [1.], <two> [1.], <directional> [1.], <signs> [1.], <over> [1.], <highway> [1.], <.> [1.], <bridge> [1.], <over> [1.], <highway> [1.], <in> [1.], <photo> [1.], <.> [1.], <golden> [1.], <dog> [1.], <being> [1.], <walked> [1.], <on> [1.], <leash> [1.], <.> [1.], <many> [1.], <people> [1.], <walking> [1.], <on> [1.], <highway> [1.], <.> [1.], <many> [1.], <people> [1.], <walking> [1.], <on> [1.], <grass> [1.], <.> [1.], <green> [1.], <sign> [1.] , \t next_word: with\n",
      "--- 94 ---\n",
      "[2391849.jpg], input_seq: <None> [0.001], <None> [0.001], <None> [0.001], <None> [0.001], <None> [0.001], <None> [0.001], <None> [0.001], <None> [0.001], <None> [0.001], <None> [0.001], <None> [0.001], <None> [0.001], <None> [0.001], <None> [0.001], <None> [0.001], <None> [0.001], <None> [0.001], <None> [0.001], <None> [0.001], <None> [0.001], <None> [0.001], <None> [0.001], <None> [0.001], <None> [0.001], <None> [0.001], <startseq> [1.], <two> [1.], <directional> [1.], <signs> [1.], <over> [1.], <highway> [1.], <.> [1.], <bridge> [1.], <over> [1.], <highway> [1.], <in> [1.], <photo> [1.], <.> [1.], <golden> [1.], <dog> [1.], <being> [1.], <walked> [1.], <on> [1.], <leash> [1.], <.> [1.], <many> [1.], <people> [1.], <walking> [1.], <on> [1.], <highway> [1.], <.> [1.], <many> [1.], <people> [1.], <walking> [1.], <on> [1.], <grass> [1.], <.> [1.], <green> [1.], <sign> [1.], <with> [1.] , \t next_word: two\n",
      "--- 95 ---\n",
      "[2391849.jpg], input_seq: <None> [0.001], <None> [0.001], <None> [0.001], <None> [0.001], <None> [0.001], <None> [0.001], <None> [0.001], <None> [0.001], <None> [0.001], <None> [0.001], <None> [0.001], <None> [0.001], <None> [0.001], <None> [0.001], <None> [0.001], <None> [0.001], <None> [0.001], <None> [0.001], <None> [0.001], <None> [0.001], <None> [0.001], <None> [0.001], <None> [0.001], <None> [0.001], <startseq> [1.], <two> [1.], <directional> [1.], <signs> [1.], <over> [1.], <highway> [1.], <.> [1.], <bridge> [1.], <over> [1.], <highway> [1.], <in> [1.], <photo> [1.], <.> [1.], <golden> [1.], <dog> [1.], <being> [1.], <walked> [1.], <on> [1.], <leash> [1.], <.> [1.], <many> [1.], <people> [1.], <walking> [1.], <on> [1.], <highway> [1.], <.> [1.], <many> [1.], <people> [1.], <walking> [1.], <on> [1.], <grass> [1.], <.> [1.], <green> [1.], <sign> [1.], <with> [1.], <two> [1.] , \t next_word: white\n",
      "--- 96 ---\n",
      "[2391849.jpg], input_seq: <None> [0.001], <None> [0.001], <None> [0.001], <None> [0.001], <None> [0.001], <None> [0.001], <None> [0.001], <None> [0.001], <None> [0.001], <None> [0.001], <None> [0.001], <None> [0.001], <None> [0.001], <None> [0.001], <None> [0.001], <None> [0.001], <None> [0.001], <None> [0.001], <None> [0.001], <None> [0.001], <None> [0.001], <None> [0.001], <None> [0.001], <startseq> [1.], <two> [1.], <directional> [1.], <signs> [1.], <over> [1.], <highway> [1.], <.> [1.], <bridge> [1.], <over> [1.], <highway> [1.], <in> [1.], <photo> [1.], <.> [1.], <golden> [1.], <dog> [1.], <being> [1.], <walked> [1.], <on> [1.], <leash> [1.], <.> [1.], <many> [1.], <people> [1.], <walking> [1.], <on> [1.], <highway> [1.], <.> [1.], <many> [1.], <people> [1.], <walking> [1.], <on> [1.], <grass> [1.], <.> [1.], <green> [1.], <sign> [1.], <with> [1.], <two> [1.], <white> [1.] , \t next_word: arrows\n",
      "--- 97 ---\n",
      "[2391849.jpg], input_seq: <None> [0.001], <None> [0.001], <None> [0.001], <None> [0.001], <None> [0.001], <None> [0.001], <None> [0.001], <None> [0.001], <None> [0.001], <None> [0.001], <None> [0.001], <None> [0.001], <None> [0.001], <None> [0.001], <None> [0.001], <None> [0.001], <None> [0.001], <None> [0.001], <None> [0.001], <None> [0.001], <None> [0.001], <None> [0.001], <startseq> [1.], <two> [1.], <directional> [1.], <signs> [1.], <over> [1.], <highway> [1.], <.> [1.], <bridge> [1.], <over> [1.], <highway> [1.], <in> [1.], <photo> [1.], <.> [1.], <golden> [1.], <dog> [1.], <being> [1.], <walked> [1.], <on> [1.], <leash> [1.], <.> [1.], <many> [1.], <people> [1.], <walking> [1.], <on> [1.], <highway> [1.], <.> [1.], <many> [1.], <people> [1.], <walking> [1.], <on> [1.], <grass> [1.], <.> [1.], <green> [1.], <sign> [1.], <with> [1.], <two> [1.], <white> [1.], <arrows> [1.] , \t next_word: pointing\n",
      "--- 98 ---\n",
      "[2391849.jpg], input_seq: <None> [0.001], <None> [0.001], <None> [0.001], <None> [0.001], <None> [0.001], <None> [0.001], <None> [0.001], <None> [0.001], <None> [0.001], <None> [0.001], <None> [0.001], <None> [0.001], <None> [0.001], <None> [0.001], <None> [0.001], <None> [0.001], <None> [0.001], <None> [0.001], <None> [0.001], <None> [0.001], <None> [0.001], <startseq> [1.], <two> [1.], <directional> [1.], <signs> [1.], <over> [1.], <highway> [1.], <.> [1.], <bridge> [1.], <over> [1.], <highway> [1.], <in> [1.], <photo> [1.], <.> [1.], <golden> [1.], <dog> [1.], <being> [1.], <walked> [1.], <on> [1.], <leash> [1.], <.> [1.], <many> [1.], <people> [1.], <walking> [1.], <on> [1.], <highway> [1.], <.> [1.], <many> [1.], <people> [1.], <walking> [1.], <on> [1.], <grass> [1.], <.> [1.], <green> [1.], <sign> [1.], <with> [1.], <two> [1.], <white> [1.], <arrows> [1.], <pointing> [1.] , \t next_word: down\n",
      "--- 99 ---\n",
      "[2391849.jpg], input_seq: <None> [0.001], <None> [0.001], <None> [0.001], <None> [0.001], <None> [0.001], <None> [0.001], <None> [0.001], <None> [0.001], <None> [0.001], <None> [0.001], <None> [0.001], <None> [0.001], <None> [0.001], <None> [0.001], <None> [0.001], <None> [0.001], <None> [0.001], <None> [0.001], <None> [0.001], <None> [0.001], <startseq> [1.], <two> [1.], <directional> [1.], <signs> [1.], <over> [1.], <highway> [1.], <.> [1.], <bridge> [1.], <over> [1.], <highway> [1.], <in> [1.], <photo> [1.], <.> [1.], <golden> [1.], <dog> [1.], <being> [1.], <walked> [1.], <on> [1.], <leash> [1.], <.> [1.], <many> [1.], <people> [1.], <walking> [1.], <on> [1.], <highway> [1.], <.> [1.], <many> [1.], <people> [1.], <walking> [1.], <on> [1.], <grass> [1.], <.> [1.], <green> [1.], <sign> [1.], <with> [1.], <two> [1.], <white> [1.], <arrows> [1.], <pointing> [1.], <down> [1.] , \t next_word: .\n",
      "--- 100 ---\n",
      "[2391849.jpg], input_seq: <None> [0.001], <None> [0.001], <None> [0.001], <None> [0.001], <None> [0.001], <None> [0.001], <None> [0.001], <None> [0.001], <None> [0.001], <None> [0.001], <None> [0.001], <None> [0.001], <None> [0.001], <None> [0.001], <None> [0.001], <None> [0.001], <None> [0.001], <None> [0.001], <None> [0.001], <startseq> [1.], <two> [1.], <directional> [1.], <signs> [1.], <over> [1.], <highway> [1.], <.> [1.], <bridge> [1.], <over> [1.], <highway> [1.], <in> [1.], <photo> [1.], <.> [1.], <golden> [1.], <dog> [1.], <being> [1.], <walked> [1.], <on> [1.], <leash> [1.], <.> [1.], <many> [1.], <people> [1.], <walking> [1.], <on> [1.], <highway> [1.], <.> [1.], <many> [1.], <people> [1.], <walking> [1.], <on> [1.], <grass> [1.], <.> [1.], <green> [1.], <sign> [1.], <with> [1.], <two> [1.], <white> [1.], <arrows> [1.], <pointing> [1.], <down> [1.], <.> [1.] , \t next_word: green\n",
      "--- 101 ---\n",
      "[2391849.jpg], input_seq: <None> [0.001], <None> [0.001], <None> [0.001], <None> [0.001], <None> [0.001], <None> [0.001], <None> [0.001], <None> [0.001], <None> [0.001], <None> [0.001], <None> [0.001], <None> [0.001], <None> [0.001], <None> [0.001], <None> [0.001], <None> [0.001], <None> [0.001], <None> [0.001], <startseq> [1.], <two> [1.], <directional> [1.], <signs> [1.], <over> [1.], <highway> [1.], <.> [1.], <bridge> [1.], <over> [1.], <highway> [1.], <in> [1.], <photo> [1.], <.> [1.], <golden> [1.], <dog> [1.], <being> [1.], <walked> [1.], <on> [1.], <leash> [1.], <.> [1.], <many> [1.], <people> [1.], <walking> [1.], <on> [1.], <highway> [1.], <.> [1.], <many> [1.], <people> [1.], <walking> [1.], <on> [1.], <grass> [1.], <.> [1.], <green> [1.], <sign> [1.], <with> [1.], <two> [1.], <white> [1.], <arrows> [1.], <pointing> [1.], <down> [1.], <.> [1.], <green> [1.] , \t next_word: sign\n",
      "--- 102 ---\n",
      "[2391849.jpg], input_seq: <None> [0.001], <None> [0.001], <None> [0.001], <None> [0.001], <None> [0.001], <None> [0.001], <None> [0.001], <None> [0.001], <None> [0.001], <None> [0.001], <None> [0.001], <None> [0.001], <None> [0.001], <None> [0.001], <None> [0.001], <None> [0.001], <None> [0.001], <startseq> [1.], <two> [1.], <directional> [1.], <signs> [1.], <over> [1.], <highway> [1.], <.> [1.], <bridge> [1.], <over> [1.], <highway> [1.], <in> [1.], <photo> [1.], <.> [1.], <golden> [1.], <dog> [1.], <being> [1.], <walked> [1.], <on> [1.], <leash> [1.], <.> [1.], <many> [1.], <people> [1.], <walking> [1.], <on> [1.], <highway> [1.], <.> [1.], <many> [1.], <people> [1.], <walking> [1.], <on> [1.], <grass> [1.], <.> [1.], <green> [1.], <sign> [1.], <with> [1.], <two> [1.], <white> [1.], <arrows> [1.], <pointing> [1.], <down> [1.], <.> [1.], <green> [1.], <sign> [1.] , \t next_word: with\n",
      "--- 103 ---\n",
      "[2391849.jpg], input_seq: <None> [0.001], <None> [0.001], <None> [0.001], <None> [0.001], <None> [0.001], <None> [0.001], <None> [0.001], <None> [0.001], <None> [0.001], <None> [0.001], <None> [0.001], <None> [0.001], <None> [0.001], <None> [0.001], <None> [0.001], <None> [0.001], <startseq> [1.], <two> [1.], <directional> [1.], <signs> [1.], <over> [1.], <highway> [1.], <.> [1.], <bridge> [1.], <over> [1.], <highway> [1.], <in> [1.], <photo> [1.], <.> [1.], <golden> [1.], <dog> [1.], <being> [1.], <walked> [1.], <on> [1.], <leash> [1.], <.> [1.], <many> [1.], <people> [1.], <walking> [1.], <on> [1.], <highway> [1.], <.> [1.], <many> [1.], <people> [1.], <walking> [1.], <on> [1.], <grass> [1.], <.> [1.], <green> [1.], <sign> [1.], <with> [1.], <two> [1.], <white> [1.], <arrows> [1.], <pointing> [1.], <down> [1.], <.> [1.], <green> [1.], <sign> [1.], <with> [1.] , \t next_word: yellow\n",
      "--- 104 ---\n",
      "[2391849.jpg], input_seq: <None> [0.001], <None> [0.001], <None> [0.001], <None> [0.001], <None> [0.001], <None> [0.001], <None> [0.001], <None> [0.001], <None> [0.001], <None> [0.001], <None> [0.001], <None> [0.001], <None> [0.001], <None> [0.001], <None> [0.001], <startseq> [1.], <two> [1.], <directional> [1.], <signs> [1.], <over> [1.], <highway> [1.], <.> [1.], <bridge> [1.], <over> [1.], <highway> [1.], <in> [1.], <photo> [1.], <.> [1.], <golden> [1.], <dog> [1.], <being> [1.], <walked> [1.], <on> [1.], <leash> [1.], <.> [1.], <many> [1.], <people> [1.], <walking> [1.], <on> [1.], <highway> [1.], <.> [1.], <many> [1.], <people> [1.], <walking> [1.], <on> [1.], <grass> [1.], <.> [1.], <green> [1.], <sign> [1.], <with> [1.], <two> [1.], <white> [1.], <arrows> [1.], <pointing> [1.], <down> [1.], <.> [1.], <green> [1.], <sign> [1.], <with> [1.], <yellow> [1.] , \t next_word: exit\n",
      "--- 105 ---\n",
      "[2391849.jpg], input_seq: <None> [0.001], <None> [0.001], <None> [0.001], <None> [0.001], <None> [0.001], <None> [0.001], <None> [0.001], <None> [0.001], <None> [0.001], <None> [0.001], <None> [0.001], <None> [0.001], <None> [0.001], <None> [0.001], <startseq> [1.], <two> [1.], <directional> [1.], <signs> [1.], <over> [1.], <highway> [1.], <.> [1.], <bridge> [1.], <over> [1.], <highway> [1.], <in> [1.], <photo> [1.], <.> [1.], <golden> [1.], <dog> [1.], <being> [1.], <walked> [1.], <on> [1.], <leash> [1.], <.> [1.], <many> [1.], <people> [1.], <walking> [1.], <on> [1.], <highway> [1.], <.> [1.], <many> [1.], <people> [1.], <walking> [1.], <on> [1.], <grass> [1.], <.> [1.], <green> [1.], <sign> [1.], <with> [1.], <two> [1.], <white> [1.], <arrows> [1.], <pointing> [1.], <down> [1.], <.> [1.], <green> [1.], <sign> [1.], <with> [1.], <yellow> [1.], <exit> [1.] , \t next_word: sign\n",
      "--- 106 ---\n",
      "[2391849.jpg], input_seq: <None> [0.001], <None> [0.001], <None> [0.001], <None> [0.001], <None> [0.001], <None> [0.001], <None> [0.001], <None> [0.001], <None> [0.001], <None> [0.001], <None> [0.001], <None> [0.001], <None> [0.001], <startseq> [1.], <two> [1.], <directional> [1.], <signs> [1.], <over> [1.], <highway> [1.], <.> [1.], <bridge> [1.], <over> [1.], <highway> [1.], <in> [1.], <photo> [1.], <.> [1.], <golden> [1.], <dog> [1.], <being> [1.], <walked> [1.], <on> [1.], <leash> [1.], <.> [1.], <many> [1.], <people> [1.], <walking> [1.], <on> [1.], <highway> [1.], <.> [1.], <many> [1.], <people> [1.], <walking> [1.], <on> [1.], <grass> [1.], <.> [1.], <green> [1.], <sign> [1.], <with> [1.], <two> [1.], <white> [1.], <arrows> [1.], <pointing> [1.], <down> [1.], <.> [1.], <green> [1.], <sign> [1.], <with> [1.], <yellow> [1.], <exit> [1.], <sign> [1.] , \t next_word: on\n",
      "--- 107 ---\n",
      "[2391849.jpg], input_seq: <None> [0.001], <None> [0.001], <None> [0.001], <None> [0.001], <None> [0.001], <None> [0.001], <None> [0.001], <None> [0.001], <None> [0.001], <None> [0.001], <None> [0.001], <None> [0.001], <startseq> [1.], <two> [1.], <directional> [1.], <signs> [1.], <over> [1.], <highway> [1.], <.> [1.], <bridge> [1.], <over> [1.], <highway> [1.], <in> [1.], <photo> [1.], <.> [1.], <golden> [1.], <dog> [1.], <being> [1.], <walked> [1.], <on> [1.], <leash> [1.], <.> [1.], <many> [1.], <people> [1.], <walking> [1.], <on> [1.], <highway> [1.], <.> [1.], <many> [1.], <people> [1.], <walking> [1.], <on> [1.], <grass> [1.], <.> [1.], <green> [1.], <sign> [1.], <with> [1.], <two> [1.], <white> [1.], <arrows> [1.], <pointing> [1.], <down> [1.], <.> [1.], <green> [1.], <sign> [1.], <with> [1.], <yellow> [1.], <exit> [1.], <sign> [1.], <on> [1.] , \t next_word: it\n",
      "--- 108 ---\n",
      "[2391849.jpg], input_seq: <None> [0.001], <None> [0.001], <None> [0.001], <None> [0.001], <None> [0.001], <None> [0.001], <None> [0.001], <None> [0.001], <None> [0.001], <None> [0.001], <None> [0.001], <startseq> [1.], <two> [1.], <directional> [1.], <signs> [1.], <over> [1.], <highway> [1.], <.> [1.], <bridge> [1.], <over> [1.], <highway> [1.], <in> [1.], <photo> [1.], <.> [1.], <golden> [1.], <dog> [1.], <being> [1.], <walked> [1.], <on> [1.], <leash> [1.], <.> [1.], <many> [1.], <people> [1.], <walking> [1.], <on> [1.], <highway> [1.], <.> [1.], <many> [1.], <people> [1.], <walking> [1.], <on> [1.], <grass> [1.], <.> [1.], <green> [1.], <sign> [1.], <with> [1.], <two> [1.], <white> [1.], <arrows> [1.], <pointing> [1.], <down> [1.], <.> [1.], <green> [1.], <sign> [1.], <with> [1.], <yellow> [1.], <exit> [1.], <sign> [1.], <on> [1.], <it> [1.] , \t next_word: .\n",
      "--- 109 ---\n",
      "[2391849.jpg], input_seq: <None> [0.001], <None> [0.001], <None> [0.001], <None> [0.001], <None> [0.001], <None> [0.001], <None> [0.001], <None> [0.001], <None> [0.001], <None> [0.001], <startseq> [1.], <two> [1.], <directional> [1.], <signs> [1.], <over> [1.], <highway> [1.], <.> [1.], <bridge> [1.], <over> [1.], <highway> [1.], <in> [1.], <photo> [1.], <.> [1.], <golden> [1.], <dog> [1.], <being> [1.], <walked> [1.], <on> [1.], <leash> [1.], <.> [1.], <many> [1.], <people> [1.], <walking> [1.], <on> [1.], <highway> [1.], <.> [1.], <many> [1.], <people> [1.], <walking> [1.], <on> [1.], <grass> [1.], <.> [1.], <green> [1.], <sign> [1.], <with> [1.], <two> [1.], <white> [1.], <arrows> [1.], <pointing> [1.], <down> [1.], <.> [1.], <green> [1.], <sign> [1.], <with> [1.], <yellow> [1.], <exit> [1.], <sign> [1.], <on> [1.], <it> [1.], <.> [1.] , \t next_word: person\n",
      "--- 110 ---\n",
      "[2391849.jpg], input_seq: <None> [0.001], <None> [0.001], <None> [0.001], <None> [0.001], <None> [0.001], <None> [0.001], <None> [0.001], <None> [0.001], <None> [0.001], <startseq> [1.], <two> [1.], <directional> [1.], <signs> [1.], <over> [1.], <highway> [1.], <.> [1.], <bridge> [1.], <over> [1.], <highway> [1.], <in> [1.], <photo> [1.], <.> [1.], <golden> [1.], <dog> [1.], <being> [1.], <walked> [1.], <on> [1.], <leash> [1.], <.> [1.], <many> [1.], <people> [1.], <walking> [1.], <on> [1.], <highway> [1.], <.> [1.], <many> [1.], <people> [1.], <walking> [1.], <on> [1.], <grass> [1.], <.> [1.], <green> [1.], <sign> [1.], <with> [1.], <two> [1.], <white> [1.], <arrows> [1.], <pointing> [1.], <down> [1.], <.> [1.], <green> [1.], <sign> [1.], <with> [1.], <yellow> [1.], <exit> [1.], <sign> [1.], <on> [1.], <it> [1.], <.> [1.], <person> [1.] , \t next_word: wearing\n",
      "--- 111 ---\n",
      "[2391849.jpg], input_seq: <None> [0.001], <None> [0.001], <None> [0.001], <None> [0.001], <None> [0.001], <None> [0.001], <None> [0.001], <None> [0.001], <startseq> [1.], <two> [1.], <directional> [1.], <signs> [1.], <over> [1.], <highway> [1.], <.> [1.], <bridge> [1.], <over> [1.], <highway> [1.], <in> [1.], <photo> [1.], <.> [1.], <golden> [1.], <dog> [1.], <being> [1.], <walked> [1.], <on> [1.], <leash> [1.], <.> [1.], <many> [1.], <people> [1.], <walking> [1.], <on> [1.], <highway> [1.], <.> [1.], <many> [1.], <people> [1.], <walking> [1.], <on> [1.], <grass> [1.], <.> [1.], <green> [1.], <sign> [1.], <with> [1.], <two> [1.], <white> [1.], <arrows> [1.], <pointing> [1.], <down> [1.], <.> [1.], <green> [1.], <sign> [1.], <with> [1.], <yellow> [1.], <exit> [1.], <sign> [1.], <on> [1.], <it> [1.], <.> [1.], <person> [1.], <wearing> [1.] , \t next_word: red\n",
      "--- 112 ---\n",
      "[2391849.jpg], input_seq: <None> [0.001], <None> [0.001], <None> [0.001], <None> [0.001], <None> [0.001], <None> [0.001], <None> [0.001], <startseq> [1.], <two> [1.], <directional> [1.], <signs> [1.], <over> [1.], <highway> [1.], <.> [1.], <bridge> [1.], <over> [1.], <highway> [1.], <in> [1.], <photo> [1.], <.> [1.], <golden> [1.], <dog> [1.], <being> [1.], <walked> [1.], <on> [1.], <leash> [1.], <.> [1.], <many> [1.], <people> [1.], <walking> [1.], <on> [1.], <highway> [1.], <.> [1.], <many> [1.], <people> [1.], <walking> [1.], <on> [1.], <grass> [1.], <.> [1.], <green> [1.], <sign> [1.], <with> [1.], <two> [1.], <white> [1.], <arrows> [1.], <pointing> [1.], <down> [1.], <.> [1.], <green> [1.], <sign> [1.], <with> [1.], <yellow> [1.], <exit> [1.], <sign> [1.], <on> [1.], <it> [1.], <.> [1.], <person> [1.], <wearing> [1.], <red> [1.] , \t next_word: rain\n",
      "--- 113 ---\n",
      "[2391849.jpg], input_seq: <None> [0.001], <None> [0.001], <None> [0.001], <None> [0.001], <None> [0.001], <None> [0.001], <startseq> [1.], <two> [1.], <directional> [1.], <signs> [1.], <over> [1.], <highway> [1.], <.> [1.], <bridge> [1.], <over> [1.], <highway> [1.], <in> [1.], <photo> [1.], <.> [1.], <golden> [1.], <dog> [1.], <being> [1.], <walked> [1.], <on> [1.], <leash> [1.], <.> [1.], <many> [1.], <people> [1.], <walking> [1.], <on> [1.], <highway> [1.], <.> [1.], <many> [1.], <people> [1.], <walking> [1.], <on> [1.], <grass> [1.], <.> [1.], <green> [1.], <sign> [1.], <with> [1.], <two> [1.], <white> [1.], <arrows> [1.], <pointing> [1.], <down> [1.], <.> [1.], <green> [1.], <sign> [1.], <with> [1.], <yellow> [1.], <exit> [1.], <sign> [1.], <on> [1.], <it> [1.], <.> [1.], <person> [1.], <wearing> [1.], <red> [1.], <rain> [1.] , \t next_word: poncho\n",
      "--- 114 ---\n",
      "[2391849.jpg], input_seq: <None> [0.001], <None> [0.001], <None> [0.001], <None> [0.001], <None> [0.001], <startseq> [1.], <two> [1.], <directional> [1.], <signs> [1.], <over> [1.], <highway> [1.], <.> [1.], <bridge> [1.], <over> [1.], <highway> [1.], <in> [1.], <photo> [1.], <.> [1.], <golden> [1.], <dog> [1.], <being> [1.], <walked> [1.], <on> [1.], <leash> [1.], <.> [1.], <many> [1.], <people> [1.], <walking> [1.], <on> [1.], <highway> [1.], <.> [1.], <many> [1.], <people> [1.], <walking> [1.], <on> [1.], <grass> [1.], <.> [1.], <green> [1.], <sign> [1.], <with> [1.], <two> [1.], <white> [1.], <arrows> [1.], <pointing> [1.], <down> [1.], <.> [1.], <green> [1.], <sign> [1.], <with> [1.], <yellow> [1.], <exit> [1.], <sign> [1.], <on> [1.], <it> [1.], <.> [1.], <person> [1.], <wearing> [1.], <red> [1.], <rain> [1.], <poncho> [1.] , \t next_word: .\n",
      "--- 115 ---\n",
      "[2391849.jpg], input_seq: <None> [0.001], <None> [0.001], <None> [0.001], <None> [0.001], <startseq> [1.], <two> [1.], <directional> [1.], <signs> [1.], <over> [1.], <highway> [1.], <.> [1.], <bridge> [1.], <over> [1.], <highway> [1.], <in> [1.], <photo> [1.], <.> [1.], <golden> [1.], <dog> [1.], <being> [1.], <walked> [1.], <on> [1.], <leash> [1.], <.> [1.], <many> [1.], <people> [1.], <walking> [1.], <on> [1.], <highway> [1.], <.> [1.], <many> [1.], <people> [1.], <walking> [1.], <on> [1.], <grass> [1.], <.> [1.], <green> [1.], <sign> [1.], <with> [1.], <two> [1.], <white> [1.], <arrows> [1.], <pointing> [1.], <down> [1.], <.> [1.], <green> [1.], <sign> [1.], <with> [1.], <yellow> [1.], <exit> [1.], <sign> [1.], <on> [1.], <it> [1.], <.> [1.], <person> [1.], <wearing> [1.], <red> [1.], <rain> [1.], <poncho> [1.], <.> [1.] , \t next_word: roads\n",
      "--- 116 ---\n",
      "[2391849.jpg], input_seq: <None> [0.001], <None> [0.001], <None> [0.001], <startseq> [1.], <two> [1.], <directional> [1.], <signs> [1.], <over> [1.], <highway> [1.], <.> [1.], <bridge> [1.], <over> [1.], <highway> [1.], <in> [1.], <photo> [1.], <.> [1.], <golden> [1.], <dog> [1.], <being> [1.], <walked> [1.], <on> [1.], <leash> [1.], <.> [1.], <many> [1.], <people> [1.], <walking> [1.], <on> [1.], <highway> [1.], <.> [1.], <many> [1.], <people> [1.], <walking> [1.], <on> [1.], <grass> [1.], <.> [1.], <green> [1.], <sign> [1.], <with> [1.], <two> [1.], <white> [1.], <arrows> [1.], <pointing> [1.], <down> [1.], <.> [1.], <green> [1.], <sign> [1.], <with> [1.], <yellow> [1.], <exit> [1.], <sign> [1.], <on> [1.], <it> [1.], <.> [1.], <person> [1.], <wearing> [1.], <red> [1.], <rain> [1.], <poncho> [1.], <.> [1.], <roads> [1.] , \t next_word: are\n",
      "--- 117 ---\n",
      "[2391849.jpg], input_seq: <None> [0.001], <None> [0.001], <startseq> [1.], <two> [1.], <directional> [1.], <signs> [1.], <over> [1.], <highway> [1.], <.> [1.], <bridge> [1.], <over> [1.], <highway> [1.], <in> [1.], <photo> [1.], <.> [1.], <golden> [1.], <dog> [1.], <being> [1.], <walked> [1.], <on> [1.], <leash> [1.], <.> [1.], <many> [1.], <people> [1.], <walking> [1.], <on> [1.], <highway> [1.], <.> [1.], <many> [1.], <people> [1.], <walking> [1.], <on> [1.], <grass> [1.], <.> [1.], <green> [1.], <sign> [1.], <with> [1.], <two> [1.], <white> [1.], <arrows> [1.], <pointing> [1.], <down> [1.], <.> [1.], <green> [1.], <sign> [1.], <with> [1.], <yellow> [1.], <exit> [1.], <sign> [1.], <on> [1.], <it> [1.], <.> [1.], <person> [1.], <wearing> [1.], <red> [1.], <rain> [1.], <poncho> [1.], <.> [1.], <roads> [1.], <are> [1.] , \t next_word: wet\n",
      "--- 118 ---\n",
      "[2391849.jpg], input_seq: <None> [0.001], <startseq> [1.], <two> [1.], <directional> [1.], <signs> [1.], <over> [1.], <highway> [1.], <.> [1.], <bridge> [1.], <over> [1.], <highway> [1.], <in> [1.], <photo> [1.], <.> [1.], <golden> [1.], <dog> [1.], <being> [1.], <walked> [1.], <on> [1.], <leash> [1.], <.> [1.], <many> [1.], <people> [1.], <walking> [1.], <on> [1.], <highway> [1.], <.> [1.], <many> [1.], <people> [1.], <walking> [1.], <on> [1.], <grass> [1.], <.> [1.], <green> [1.], <sign> [1.], <with> [1.], <two> [1.], <white> [1.], <arrows> [1.], <pointing> [1.], <down> [1.], <.> [1.], <green> [1.], <sign> [1.], <with> [1.], <yellow> [1.], <exit> [1.], <sign> [1.], <on> [1.], <it> [1.], <.> [1.], <person> [1.], <wearing> [1.], <red> [1.], <rain> [1.], <poncho> [1.], <.> [1.], <roads> [1.], <are> [1.], <wet> [1.] , \t next_word: in\n",
      "--- 119 ---\n",
      "[2391849.jpg], input_seq: <startseq> [1.], <two> [1.], <directional> [1.], <signs> [1.], <over> [1.], <highway> [1.], <.> [1.], <bridge> [1.], <over> [1.], <highway> [1.], <in> [1.], <photo> [1.], <.> [1.], <golden> [1.], <dog> [1.], <being> [1.], <walked> [1.], <on> [1.], <leash> [1.], <.> [1.], <many> [1.], <people> [1.], <walking> [1.], <on> [1.], <highway> [1.], <.> [1.], <many> [1.], <people> [1.], <walking> [1.], <on> [1.], <grass> [1.], <.> [1.], <green> [1.], <sign> [1.], <with> [1.], <two> [1.], <white> [1.], <arrows> [1.], <pointing> [1.], <down> [1.], <.> [1.], <green> [1.], <sign> [1.], <with> [1.], <yellow> [1.], <exit> [1.], <sign> [1.], <on> [1.], <it> [1.], <.> [1.], <person> [1.], <wearing> [1.], <red> [1.], <rain> [1.], <poncho> [1.], <.> [1.], <roads> [1.], <are> [1.], <wet> [1.], <in> [1.] , \t next_word: endseq\n",
      "--- 120 ---\n",
      "[2385100.jpg], input_seq: <None> [0.001], <None> [0.001], <None> [0.001], <None> [0.001], <None> [0.001], <None> [0.001], <None> [0.001], <None> [0.001], <None> [0.001], <None> [0.001], <None> [0.001], <None> [0.001], <None> [0.001], <None> [0.001], <None> [0.001], <None> [0.001], <None> [0.001], <None> [0.001], <None> [0.001], <None> [0.001], <None> [0.001], <None> [0.001], <None> [0.001], <None> [0.001], <None> [0.001], <None> [0.001], <None> [0.001], <None> [0.001], <None> [0.001], <None> [0.001], <None> [0.001], <None> [0.001], <None> [0.001], <None> [0.001], <None> [0.001], <None> [0.001], <None> [0.001], <None> [0.001], <None> [0.001], <None> [0.001], <None> [0.001], <None> [0.001], <None> [0.001], <None> [0.001], <None> [0.001], <None> [0.001], <None> [0.001], <None> [0.001], <None> [0.001], <None> [0.001], <None> [0.001], <None> [0.001], <None> [0.001], <None> [0.001], <None> [0.001], <None> [0.001], <None> [0.001], <None> [0.001], <None> [0.001], <startseq> [1.] , \t next_word: people\n",
      "--- 121 ---\n",
      "[2385100.jpg], input_seq: <None> [0.001], <None> [0.001], <None> [0.001], <None> [0.001], <None> [0.001], <None> [0.001], <None> [0.001], <None> [0.001], <None> [0.001], <None> [0.001], <None> [0.001], <None> [0.001], <None> [0.001], <None> [0.001], <None> [0.001], <None> [0.001], <None> [0.001], <None> [0.001], <None> [0.001], <None> [0.001], <None> [0.001], <None> [0.001], <None> [0.001], <None> [0.001], <None> [0.001], <None> [0.001], <None> [0.001], <None> [0.001], <None> [0.001], <None> [0.001], <None> [0.001], <None> [0.001], <None> [0.001], <None> [0.001], <None> [0.001], <None> [0.001], <None> [0.001], <None> [0.001], <None> [0.001], <None> [0.001], <None> [0.001], <None> [0.001], <None> [0.001], <None> [0.001], <None> [0.001], <None> [0.001], <None> [0.001], <None> [0.001], <None> [0.001], <None> [0.001], <None> [0.001], <None> [0.001], <None> [0.001], <None> [0.001], <None> [0.001], <None> [0.001], <None> [0.001], <None> [0.001], <startseq> [1.], <people> [1.] , \t next_word: walking\n",
      "--- 122 ---\n",
      "[2385100.jpg], input_seq: <None> [0.001], <None> [0.001], <None> [0.001], <None> [0.001], <None> [0.001], <None> [0.001], <None> [0.001], <None> [0.001], <None> [0.001], <None> [0.001], <None> [0.001], <None> [0.001], <None> [0.001], <None> [0.001], <None> [0.001], <None> [0.001], <None> [0.001], <None> [0.001], <None> [0.001], <None> [0.001], <None> [0.001], <None> [0.001], <None> [0.001], <None> [0.001], <None> [0.001], <None> [0.001], <None> [0.001], <None> [0.001], <None> [0.001], <None> [0.001], <None> [0.001], <None> [0.001], <None> [0.001], <None> [0.001], <None> [0.001], <None> [0.001], <None> [0.001], <None> [0.001], <None> [0.001], <None> [0.001], <None> [0.001], <None> [0.001], <None> [0.001], <None> [0.001], <None> [0.001], <None> [0.001], <None> [0.001], <None> [0.001], <None> [0.001], <None> [0.001], <None> [0.001], <None> [0.001], <None> [0.001], <None> [0.001], <None> [0.001], <None> [0.001], <None> [0.001], <startseq> [1.], <people> [1.], <walking> [1.] , \t next_word: a\n",
      "--- 123 ---\n",
      "[2385100.jpg], input_seq: <None> [0.001], <None> [0.001], <None> [0.001], <None> [0.001], <None> [0.001], <None> [0.001], <None> [0.001], <None> [0.001], <None> [0.001], <None> [0.001], <None> [0.001], <None> [0.001], <None> [0.001], <None> [0.001], <None> [0.001], <None> [0.001], <None> [0.001], <None> [0.001], <None> [0.001], <None> [0.001], <None> [0.001], <None> [0.001], <None> [0.001], <None> [0.001], <None> [0.001], <None> [0.001], <None> [0.001], <None> [0.001], <None> [0.001], <None> [0.001], <None> [0.001], <None> [0.001], <None> [0.001], <None> [0.001], <None> [0.001], <None> [0.001], <None> [0.001], <None> [0.001], <None> [0.001], <None> [0.001], <None> [0.001], <None> [0.001], <None> [0.001], <None> [0.001], <None> [0.001], <None> [0.001], <None> [0.001], <None> [0.001], <None> [0.001], <None> [0.001], <None> [0.001], <None> [0.001], <None> [0.001], <None> [0.001], <None> [0.001], <None> [0.001], <startseq> [1.], <people> [1.], <walking> [1.], <a> [1.] , \t next_word: curved\n",
      "--- 124 ---\n"
     ]
    },
    {
     "name": "stdout",
     "output_type": "stream",
     "text": [
      "[2385100.jpg], input_seq: <None> [0.001], <None> [0.001], <None> [0.001], <None> [0.001], <None> [0.001], <None> [0.001], <None> [0.001], <None> [0.001], <None> [0.001], <None> [0.001], <None> [0.001], <None> [0.001], <None> [0.001], <None> [0.001], <None> [0.001], <None> [0.001], <None> [0.001], <None> [0.001], <None> [0.001], <None> [0.001], <None> [0.001], <None> [0.001], <None> [0.001], <None> [0.001], <None> [0.001], <None> [0.001], <None> [0.001], <None> [0.001], <None> [0.001], <None> [0.001], <None> [0.001], <None> [0.001], <None> [0.001], <None> [0.001], <None> [0.001], <None> [0.001], <None> [0.001], <None> [0.001], <None> [0.001], <None> [0.001], <None> [0.001], <None> [0.001], <None> [0.001], <None> [0.001], <None> [0.001], <None> [0.001], <None> [0.001], <None> [0.001], <None> [0.001], <None> [0.001], <None> [0.001], <None> [0.001], <None> [0.001], <None> [0.001], <None> [0.001], <startseq> [1.], <people> [1.], <walking> [1.], <a> [1.], <curved> [1.] , \t next_word: and\n",
      "--- 125 ---\n",
      "[2385100.jpg], input_seq: <None> [0.001], <None> [0.001], <None> [0.001], <None> [0.001], <None> [0.001], <None> [0.001], <None> [0.001], <None> [0.001], <None> [0.001], <None> [0.001], <None> [0.001], <None> [0.001], <None> [0.001], <None> [0.001], <None> [0.001], <None> [0.001], <None> [0.001], <None> [0.001], <None> [0.001], <None> [0.001], <None> [0.001], <None> [0.001], <None> [0.001], <None> [0.001], <None> [0.001], <None> [0.001], <None> [0.001], <None> [0.001], <None> [0.001], <None> [0.001], <None> [0.001], <None> [0.001], <None> [0.001], <None> [0.001], <None> [0.001], <None> [0.001], <None> [0.001], <None> [0.001], <None> [0.001], <None> [0.001], <None> [0.001], <None> [0.001], <None> [0.001], <None> [0.001], <None> [0.001], <None> [0.001], <None> [0.001], <None> [0.001], <None> [0.001], <None> [0.001], <None> [0.001], <None> [0.001], <None> [0.001], <None> [0.001], <startseq> [1.], <people> [1.], <walking> [1.], <a> [1.], <curved> [1.], <and> [1.] , \t next_word: steep\n",
      "--- 126 ---\n",
      "[2385100.jpg], input_seq: <None> [0.001], <None> [0.001], <None> [0.001], <None> [0.001], <None> [0.001], <None> [0.001], <None> [0.001], <None> [0.001], <None> [0.001], <None> [0.001], <None> [0.001], <None> [0.001], <None> [0.001], <None> [0.001], <None> [0.001], <None> [0.001], <None> [0.001], <None> [0.001], <None> [0.001], <None> [0.001], <None> [0.001], <None> [0.001], <None> [0.001], <None> [0.001], <None> [0.001], <None> [0.001], <None> [0.001], <None> [0.001], <None> [0.001], <None> [0.001], <None> [0.001], <None> [0.001], <None> [0.001], <None> [0.001], <None> [0.001], <None> [0.001], <None> [0.001], <None> [0.001], <None> [0.001], <None> [0.001], <None> [0.001], <None> [0.001], <None> [0.001], <None> [0.001], <None> [0.001], <None> [0.001], <None> [0.001], <None> [0.001], <None> [0.001], <None> [0.001], <None> [0.001], <None> [0.001], <None> [0.001], <startseq> [1.], <people> [1.], <walking> [1.], <a> [1.], <curved> [1.], <and> [1.], <steep> [1.] , \t next_word: sidewalk\n",
      "--- 127 ---\n",
      "[2385100.jpg], input_seq: <None> [0.001], <None> [0.001], <None> [0.001], <None> [0.001], <None> [0.001], <None> [0.001], <None> [0.001], <None> [0.001], <None> [0.001], <None> [0.001], <None> [0.001], <None> [0.001], <None> [0.001], <None> [0.001], <None> [0.001], <None> [0.001], <None> [0.001], <None> [0.001], <None> [0.001], <None> [0.001], <None> [0.001], <None> [0.001], <None> [0.001], <None> [0.001], <None> [0.001], <None> [0.001], <None> [0.001], <None> [0.001], <None> [0.001], <None> [0.001], <None> [0.001], <None> [0.001], <None> [0.001], <None> [0.001], <None> [0.001], <None> [0.001], <None> [0.001], <None> [0.001], <None> [0.001], <None> [0.001], <None> [0.001], <None> [0.001], <None> [0.001], <None> [0.001], <None> [0.001], <None> [0.001], <None> [0.001], <None> [0.001], <None> [0.001], <None> [0.001], <None> [0.001], <None> [0.001], <startseq> [1.], <people> [1.], <walking> [1.], <a> [1.], <curved> [1.], <and> [1.], <steep> [1.], <sidewalk> [1.] , \t next_word: .\n",
      "--- 128 ---\n",
      "[2385100.jpg], input_seq: <None> [0.001], <None> [0.001], <None> [0.001], <None> [0.001], <None> [0.001], <None> [0.001], <None> [0.001], <None> [0.001], <None> [0.001], <None> [0.001], <None> [0.001], <None> [0.001], <None> [0.001], <None> [0.001], <None> [0.001], <None> [0.001], <None> [0.001], <None> [0.001], <None> [0.001], <None> [0.001], <None> [0.001], <None> [0.001], <None> [0.001], <None> [0.001], <None> [0.001], <None> [0.001], <None> [0.001], <None> [0.001], <None> [0.001], <None> [0.001], <None> [0.001], <None> [0.001], <None> [0.001], <None> [0.001], <None> [0.001], <None> [0.001], <None> [0.001], <None> [0.001], <None> [0.001], <None> [0.001], <None> [0.001], <None> [0.001], <None> [0.001], <None> [0.001], <None> [0.001], <None> [0.001], <None> [0.001], <None> [0.001], <None> [0.001], <None> [0.001], <None> [0.001], <startseq> [1.], <people> [1.], <walking> [1.], <a> [1.], <curved> [1.], <and> [1.], <steep> [1.], <sidewalk> [1.], <.> [1.] , \t next_word: round\n",
      "--- 129 ---\n",
      "[2385100.jpg], input_seq: <None> [0.001], <None> [0.001], <None> [0.001], <None> [0.001], <None> [0.001], <None> [0.001], <None> [0.001], <None> [0.001], <None> [0.001], <None> [0.001], <None> [0.001], <None> [0.001], <None> [0.001], <None> [0.001], <None> [0.001], <None> [0.001], <None> [0.001], <None> [0.001], <None> [0.001], <None> [0.001], <None> [0.001], <None> [0.001], <None> [0.001], <None> [0.001], <None> [0.001], <None> [0.001], <None> [0.001], <None> [0.001], <None> [0.001], <None> [0.001], <None> [0.001], <None> [0.001], <None> [0.001], <None> [0.001], <None> [0.001], <None> [0.001], <None> [0.001], <None> [0.001], <None> [0.001], <None> [0.001], <None> [0.001], <None> [0.001], <None> [0.001], <None> [0.001], <None> [0.001], <None> [0.001], <None> [0.001], <None> [0.001], <None> [0.001], <None> [0.001], <startseq> [1.], <people> [1.], <walking> [1.], <a> [1.], <curved> [1.], <and> [1.], <steep> [1.], <sidewalk> [1.], <.> [1.], <round> [1.] , \t next_word: traffic\n",
      "--- 130 ---\n",
      "[2385100.jpg], input_seq: <None> [0.001], <None> [0.001], <None> [0.001], <None> [0.001], <None> [0.001], <None> [0.001], <None> [0.001], <None> [0.001], <None> [0.001], <None> [0.001], <None> [0.001], <None> [0.001], <None> [0.001], <None> [0.001], <None> [0.001], <None> [0.001], <None> [0.001], <None> [0.001], <None> [0.001], <None> [0.001], <None> [0.001], <None> [0.001], <None> [0.001], <None> [0.001], <None> [0.001], <None> [0.001], <None> [0.001], <None> [0.001], <None> [0.001], <None> [0.001], <None> [0.001], <None> [0.001], <None> [0.001], <None> [0.001], <None> [0.001], <None> [0.001], <None> [0.001], <None> [0.001], <None> [0.001], <None> [0.001], <None> [0.001], <None> [0.001], <None> [0.001], <None> [0.001], <None> [0.001], <None> [0.001], <None> [0.001], <None> [0.001], <None> [0.001], <startseq> [1.], <people> [1.], <walking> [1.], <a> [1.], <curved> [1.], <and> [1.], <steep> [1.], <sidewalk> [1.], <.> [1.], <round> [1.], <traffic> [1.] , \t next_word: signs\n",
      "--- 131 ---\n",
      "[2385100.jpg], input_seq: <None> [0.001], <None> [0.001], <None> [0.001], <None> [0.001], <None> [0.001], <None> [0.001], <None> [0.001], <None> [0.001], <None> [0.001], <None> [0.001], <None> [0.001], <None> [0.001], <None> [0.001], <None> [0.001], <None> [0.001], <None> [0.001], <None> [0.001], <None> [0.001], <None> [0.001], <None> [0.001], <None> [0.001], <None> [0.001], <None> [0.001], <None> [0.001], <None> [0.001], <None> [0.001], <None> [0.001], <None> [0.001], <None> [0.001], <None> [0.001], <None> [0.001], <None> [0.001], <None> [0.001], <None> [0.001], <None> [0.001], <None> [0.001], <None> [0.001], <None> [0.001], <None> [0.001], <None> [0.001], <None> [0.001], <None> [0.001], <None> [0.001], <None> [0.001], <None> [0.001], <None> [0.001], <None> [0.001], <None> [0.001], <startseq> [1.], <people> [1.], <walking> [1.], <a> [1.], <curved> [1.], <and> [1.], <steep> [1.], <sidewalk> [1.], <.> [1.], <round> [1.], <traffic> [1.], <signs> [1.] , \t next_word: on\n",
      "--- 132 ---\n",
      "[2385100.jpg], input_seq: <None> [0.001], <None> [0.001], <None> [0.001], <None> [0.001], <None> [0.001], <None> [0.001], <None> [0.001], <None> [0.001], <None> [0.001], <None> [0.001], <None> [0.001], <None> [0.001], <None> [0.001], <None> [0.001], <None> [0.001], <None> [0.001], <None> [0.001], <None> [0.001], <None> [0.001], <None> [0.001], <None> [0.001], <None> [0.001], <None> [0.001], <None> [0.001], <None> [0.001], <None> [0.001], <None> [0.001], <None> [0.001], <None> [0.001], <None> [0.001], <None> [0.001], <None> [0.001], <None> [0.001], <None> [0.001], <None> [0.001], <None> [0.001], <None> [0.001], <None> [0.001], <None> [0.001], <None> [0.001], <None> [0.001], <None> [0.001], <None> [0.001], <None> [0.001], <None> [0.001], <None> [0.001], <None> [0.001], <startseq> [1.], <people> [1.], <walking> [1.], <a> [1.], <curved> [1.], <and> [1.], <steep> [1.], <sidewalk> [1.], <.> [1.], <round> [1.], <traffic> [1.], <signs> [1.], <on> [1.] , \t next_word: a\n",
      "--- 133 ---\n",
      "[2385100.jpg], input_seq: <None> [0.001], <None> [0.001], <None> [0.001], <None> [0.001], <None> [0.001], <None> [0.001], <None> [0.001], <None> [0.001], <None> [0.001], <None> [0.001], <None> [0.001], <None> [0.001], <None> [0.001], <None> [0.001], <None> [0.001], <None> [0.001], <None> [0.001], <None> [0.001], <None> [0.001], <None> [0.001], <None> [0.001], <None> [0.001], <None> [0.001], <None> [0.001], <None> [0.001], <None> [0.001], <None> [0.001], <None> [0.001], <None> [0.001], <None> [0.001], <None> [0.001], <None> [0.001], <None> [0.001], <None> [0.001], <None> [0.001], <None> [0.001], <None> [0.001], <None> [0.001], <None> [0.001], <None> [0.001], <None> [0.001], <None> [0.001], <None> [0.001], <None> [0.001], <None> [0.001], <None> [0.001], <startseq> [1.], <people> [1.], <walking> [1.], <a> [1.], <curved> [1.], <and> [1.], <steep> [1.], <sidewalk> [1.], <.> [1.], <round> [1.], <traffic> [1.], <signs> [1.], <on> [1.], <a> [1.] , \t next_word: pole\n",
      "--- 134 ---\n",
      "[2385100.jpg], input_seq: <None> [0.001], <None> [0.001], <None> [0.001], <None> [0.001], <None> [0.001], <None> [0.001], <None> [0.001], <None> [0.001], <None> [0.001], <None> [0.001], <None> [0.001], <None> [0.001], <None> [0.001], <None> [0.001], <None> [0.001], <None> [0.001], <None> [0.001], <None> [0.001], <None> [0.001], <None> [0.001], <None> [0.001], <None> [0.001], <None> [0.001], <None> [0.001], <None> [0.001], <None> [0.001], <None> [0.001], <None> [0.001], <None> [0.001], <None> [0.001], <None> [0.001], <None> [0.001], <None> [0.001], <None> [0.001], <None> [0.001], <None> [0.001], <None> [0.001], <None> [0.001], <None> [0.001], <None> [0.001], <None> [0.001], <None> [0.001], <None> [0.001], <None> [0.001], <None> [0.001], <startseq> [1.], <people> [1.], <walking> [1.], <a> [1.], <curved> [1.], <and> [1.], <steep> [1.], <sidewalk> [1.], <.> [1.], <round> [1.], <traffic> [1.], <signs> [1.], <on> [1.], <a> [1.], <pole> [1.] , \t next_word: .\n",
      "--- 135 ---\n",
      "[2385100.jpg], input_seq: <None> [0.001], <None> [0.001], <None> [0.001], <None> [0.001], <None> [0.001], <None> [0.001], <None> [0.001], <None> [0.001], <None> [0.001], <None> [0.001], <None> [0.001], <None> [0.001], <None> [0.001], <None> [0.001], <None> [0.001], <None> [0.001], <None> [0.001], <None> [0.001], <None> [0.001], <None> [0.001], <None> [0.001], <None> [0.001], <None> [0.001], <None> [0.001], <None> [0.001], <None> [0.001], <None> [0.001], <None> [0.001], <None> [0.001], <None> [0.001], <None> [0.001], <None> [0.001], <None> [0.001], <None> [0.001], <None> [0.001], <None> [0.001], <None> [0.001], <None> [0.001], <None> [0.001], <None> [0.001], <None> [0.001], <None> [0.001], <None> [0.001], <None> [0.001], <startseq> [1.], <people> [1.], <walking> [1.], <a> [1.], <curved> [1.], <and> [1.], <steep> [1.], <sidewalk> [1.], <.> [1.], <round> [1.], <traffic> [1.], <signs> [1.], <on> [1.], <a> [1.], <pole> [1.], <.> [1.] , \t next_word: metal\n",
      "--- 136 ---\n",
      "[2385100.jpg], input_seq: <None> [0.001], <None> [0.001], <None> [0.001], <None> [0.001], <None> [0.001], <None> [0.001], <None> [0.001], <None> [0.001], <None> [0.001], <None> [0.001], <None> [0.001], <None> [0.001], <None> [0.001], <None> [0.001], <None> [0.001], <None> [0.001], <None> [0.001], <None> [0.001], <None> [0.001], <None> [0.001], <None> [0.001], <None> [0.001], <None> [0.001], <None> [0.001], <None> [0.001], <None> [0.001], <None> [0.001], <None> [0.001], <None> [0.001], <None> [0.001], <None> [0.001], <None> [0.001], <None> [0.001], <None> [0.001], <None> [0.001], <None> [0.001], <None> [0.001], <None> [0.001], <None> [0.001], <None> [0.001], <None> [0.001], <None> [0.001], <None> [0.001], <startseq> [1.], <people> [1.], <walking> [1.], <a> [1.], <curved> [1.], <and> [1.], <steep> [1.], <sidewalk> [1.], <.> [1.], <round> [1.], <traffic> [1.], <signs> [1.], <on> [1.], <a> [1.], <pole> [1.], <.> [1.], <metal> [1.] , \t next_word: railing\n",
      "--- 137 ---\n",
      "[2385100.jpg], input_seq: <None> [0.001], <None> [0.001], <None> [0.001], <None> [0.001], <None> [0.001], <None> [0.001], <None> [0.001], <None> [0.001], <None> [0.001], <None> [0.001], <None> [0.001], <None> [0.001], <None> [0.001], <None> [0.001], <None> [0.001], <None> [0.001], <None> [0.001], <None> [0.001], <None> [0.001], <None> [0.001], <None> [0.001], <None> [0.001], <None> [0.001], <None> [0.001], <None> [0.001], <None> [0.001], <None> [0.001], <None> [0.001], <None> [0.001], <None> [0.001], <None> [0.001], <None> [0.001], <None> [0.001], <None> [0.001], <None> [0.001], <None> [0.001], <None> [0.001], <None> [0.001], <None> [0.001], <None> [0.001], <None> [0.001], <None> [0.001], <startseq> [1.], <people> [1.], <walking> [1.], <a> [1.], <curved> [1.], <and> [1.], <steep> [1.], <sidewalk> [1.], <.> [1.], <round> [1.], <traffic> [1.], <signs> [1.], <on> [1.], <a> [1.], <pole> [1.], <.> [1.], <metal> [1.], <railing> [1.] , \t next_word: on\n",
      "--- 138 ---\n",
      "[2385100.jpg], input_seq: <None> [0.001], <None> [0.001], <None> [0.001], <None> [0.001], <None> [0.001], <None> [0.001], <None> [0.001], <None> [0.001], <None> [0.001], <None> [0.001], <None> [0.001], <None> [0.001], <None> [0.001], <None> [0.001], <None> [0.001], <None> [0.001], <None> [0.001], <None> [0.001], <None> [0.001], <None> [0.001], <None> [0.001], <None> [0.001], <None> [0.001], <None> [0.001], <None> [0.001], <None> [0.001], <None> [0.001], <None> [0.001], <None> [0.001], <None> [0.001], <None> [0.001], <None> [0.001], <None> [0.001], <None> [0.001], <None> [0.001], <None> [0.001], <None> [0.001], <None> [0.001], <None> [0.001], <None> [0.001], <None> [0.001], <startseq> [1.], <people> [1.], <walking> [1.], <a> [1.], <curved> [1.], <and> [1.], <steep> [1.], <sidewalk> [1.], <.> [1.], <round> [1.], <traffic> [1.], <signs> [1.], <on> [1.], <a> [1.], <pole> [1.], <.> [1.], <metal> [1.], <railing> [1.], <on> [1.] , \t next_word: inside\n",
      "--- 139 ---\n",
      "[2385100.jpg], input_seq: <None> [0.001], <None> [0.001], <None> [0.001], <None> [0.001], <None> [0.001], <None> [0.001], <None> [0.001], <None> [0.001], <None> [0.001], <None> [0.001], <None> [0.001], <None> [0.001], <None> [0.001], <None> [0.001], <None> [0.001], <None> [0.001], <None> [0.001], <None> [0.001], <None> [0.001], <None> [0.001], <None> [0.001], <None> [0.001], <None> [0.001], <None> [0.001], <None> [0.001], <None> [0.001], <None> [0.001], <None> [0.001], <None> [0.001], <None> [0.001], <None> [0.001], <None> [0.001], <None> [0.001], <None> [0.001], <None> [0.001], <None> [0.001], <None> [0.001], <None> [0.001], <None> [0.001], <None> [0.001], <startseq> [1.], <people> [1.], <walking> [1.], <a> [1.], <curved> [1.], <and> [1.], <steep> [1.], <sidewalk> [1.], <.> [1.], <round> [1.], <traffic> [1.], <signs> [1.], <on> [1.], <a> [1.], <pole> [1.], <.> [1.], <metal> [1.], <railing> [1.], <on> [1.], <inside> [1.] , \t next_word: of\n",
      "--- 140 ---\n",
      "[2385100.jpg], input_seq: <None> [0.001], <None> [0.001], <None> [0.001], <None> [0.001], <None> [0.001], <None> [0.001], <None> [0.001], <None> [0.001], <None> [0.001], <None> [0.001], <None> [0.001], <None> [0.001], <None> [0.001], <None> [0.001], <None> [0.001], <None> [0.001], <None> [0.001], <None> [0.001], <None> [0.001], <None> [0.001], <None> [0.001], <None> [0.001], <None> [0.001], <None> [0.001], <None> [0.001], <None> [0.001], <None> [0.001], <None> [0.001], <None> [0.001], <None> [0.001], <None> [0.001], <None> [0.001], <None> [0.001], <None> [0.001], <None> [0.001], <None> [0.001], <None> [0.001], <None> [0.001], <None> [0.001], <startseq> [1.], <people> [1.], <walking> [1.], <a> [1.], <curved> [1.], <and> [1.], <steep> [1.], <sidewalk> [1.], <.> [1.], <round> [1.], <traffic> [1.], <signs> [1.], <on> [1.], <a> [1.], <pole> [1.], <.> [1.], <metal> [1.], <railing> [1.], <on> [1.], <inside> [1.], <of> [1.] , \t next_word: curb\n",
      "--- 141 ---\n",
      "[2385100.jpg], input_seq: <None> [0.001], <None> [0.001], <None> [0.001], <None> [0.001], <None> [0.001], <None> [0.001], <None> [0.001], <None> [0.001], <None> [0.001], <None> [0.001], <None> [0.001], <None> [0.001], <None> [0.001], <None> [0.001], <None> [0.001], <None> [0.001], <None> [0.001], <None> [0.001], <None> [0.001], <None> [0.001], <None> [0.001], <None> [0.001], <None> [0.001], <None> [0.001], <None> [0.001], <None> [0.001], <None> [0.001], <None> [0.001], <None> [0.001], <None> [0.001], <None> [0.001], <None> [0.001], <None> [0.001], <None> [0.001], <None> [0.001], <None> [0.001], <None> [0.001], <None> [0.001], <startseq> [1.], <people> [1.], <walking> [1.], <a> [1.], <curved> [1.], <and> [1.], <steep> [1.], <sidewalk> [1.], <.> [1.], <round> [1.], <traffic> [1.], <signs> [1.], <on> [1.], <a> [1.], <pole> [1.], <.> [1.], <metal> [1.], <railing> [1.], <on> [1.], <inside> [1.], <of> [1.], <curb> [1.] , \t next_word: .\n",
      "--- 142 ---\n",
      "[2385100.jpg], input_seq: <None> [0.001], <None> [0.001], <None> [0.001], <None> [0.001], <None> [0.001], <None> [0.001], <None> [0.001], <None> [0.001], <None> [0.001], <None> [0.001], <None> [0.001], <None> [0.001], <None> [0.001], <None> [0.001], <None> [0.001], <None> [0.001], <None> [0.001], <None> [0.001], <None> [0.001], <None> [0.001], <None> [0.001], <None> [0.001], <None> [0.001], <None> [0.001], <None> [0.001], <None> [0.001], <None> [0.001], <None> [0.001], <None> [0.001], <None> [0.001], <None> [0.001], <None> [0.001], <None> [0.001], <None> [0.001], <None> [0.001], <None> [0.001], <None> [0.001], <startseq> [1.], <people> [1.], <walking> [1.], <a> [1.], <curved> [1.], <and> [1.], <steep> [1.], <sidewalk> [1.], <.> [1.], <round> [1.], <traffic> [1.], <signs> [1.], <on> [1.], <a> [1.], <pole> [1.], <.> [1.], <metal> [1.], <railing> [1.], <on> [1.], <inside> [1.], <of> [1.], <curb> [1.], <.> [1.] , \t next_word: trees\n",
      "--- 143 ---\n",
      "[2385100.jpg], input_seq: <None> [0.001], <None> [0.001], <None> [0.001], <None> [0.001], <None> [0.001], <None> [0.001], <None> [0.001], <None> [0.001], <None> [0.001], <None> [0.001], <None> [0.001], <None> [0.001], <None> [0.001], <None> [0.001], <None> [0.001], <None> [0.001], <None> [0.001], <None> [0.001], <None> [0.001], <None> [0.001], <None> [0.001], <None> [0.001], <None> [0.001], <None> [0.001], <None> [0.001], <None> [0.001], <None> [0.001], <None> [0.001], <None> [0.001], <None> [0.001], <None> [0.001], <None> [0.001], <None> [0.001], <None> [0.001], <None> [0.001], <None> [0.001], <startseq> [1.], <people> [1.], <walking> [1.], <a> [1.], <curved> [1.], <and> [1.], <steep> [1.], <sidewalk> [1.], <.> [1.], <round> [1.], <traffic> [1.], <signs> [1.], <on> [1.], <a> [1.], <pole> [1.], <.> [1.], <metal> [1.], <railing> [1.], <on> [1.], <inside> [1.], <of> [1.], <curb> [1.], <.> [1.], <trees> [1.] , \t next_word: on\n",
      "--- 144 ---\n",
      "[2385100.jpg], input_seq: <None> [0.001], <None> [0.001], <None> [0.001], <None> [0.001], <None> [0.001], <None> [0.001], <None> [0.001], <None> [0.001], <None> [0.001], <None> [0.001], <None> [0.001], <None> [0.001], <None> [0.001], <None> [0.001], <None> [0.001], <None> [0.001], <None> [0.001], <None> [0.001], <None> [0.001], <None> [0.001], <None> [0.001], <None> [0.001], <None> [0.001], <None> [0.001], <None> [0.001], <None> [0.001], <None> [0.001], <None> [0.001], <None> [0.001], <None> [0.001], <None> [0.001], <None> [0.001], <None> [0.001], <None> [0.001], <None> [0.001], <startseq> [1.], <people> [1.], <walking> [1.], <a> [1.], <curved> [1.], <and> [1.], <steep> [1.], <sidewalk> [1.], <.> [1.], <round> [1.], <traffic> [1.], <signs> [1.], <on> [1.], <a> [1.], <pole> [1.], <.> [1.], <metal> [1.], <railing> [1.], <on> [1.], <inside> [1.], <of> [1.], <curb> [1.], <.> [1.], <trees> [1.], <on> [1.] , \t next_word: top\n",
      "--- 145 ---\n",
      "[2385100.jpg], input_seq: <None> [0.001], <None> [0.001], <None> [0.001], <None> [0.001], <None> [0.001], <None> [0.001], <None> [0.001], <None> [0.001], <None> [0.001], <None> [0.001], <None> [0.001], <None> [0.001], <None> [0.001], <None> [0.001], <None> [0.001], <None> [0.001], <None> [0.001], <None> [0.001], <None> [0.001], <None> [0.001], <None> [0.001], <None> [0.001], <None> [0.001], <None> [0.001], <None> [0.001], <None> [0.001], <None> [0.001], <None> [0.001], <None> [0.001], <None> [0.001], <None> [0.001], <None> [0.001], <None> [0.001], <None> [0.001], <startseq> [1.], <people> [1.], <walking> [1.], <a> [1.], <curved> [1.], <and> [1.], <steep> [1.], <sidewalk> [1.], <.> [1.], <round> [1.], <traffic> [1.], <signs> [1.], <on> [1.], <a> [1.], <pole> [1.], <.> [1.], <metal> [1.], <railing> [1.], <on> [1.], <inside> [1.], <of> [1.], <curb> [1.], <.> [1.], <trees> [1.], <on> [1.], <top> [1.] , \t next_word: of\n",
      "--- 146 ---\n",
      "[2385100.jpg], input_seq: <None> [0.001], <None> [0.001], <None> [0.001], <None> [0.001], <None> [0.001], <None> [0.001], <None> [0.001], <None> [0.001], <None> [0.001], <None> [0.001], <None> [0.001], <None> [0.001], <None> [0.001], <None> [0.001], <None> [0.001], <None> [0.001], <None> [0.001], <None> [0.001], <None> [0.001], <None> [0.001], <None> [0.001], <None> [0.001], <None> [0.001], <None> [0.001], <None> [0.001], <None> [0.001], <None> [0.001], <None> [0.001], <None> [0.001], <None> [0.001], <None> [0.001], <None> [0.001], <None> [0.001], <startseq> [1.], <people> [1.], <walking> [1.], <a> [1.], <curved> [1.], <and> [1.], <steep> [1.], <sidewalk> [1.], <.> [1.], <round> [1.], <traffic> [1.], <signs> [1.], <on> [1.], <a> [1.], <pole> [1.], <.> [1.], <metal> [1.], <railing> [1.], <on> [1.], <inside> [1.], <of> [1.], <curb> [1.], <.> [1.], <trees> [1.], <on> [1.], <top> [1.], <of> [1.] , \t next_word: plant\n",
      "--- 147 ---\n",
      "[2385100.jpg], input_seq: <None> [0.001], <None> [0.001], <None> [0.001], <None> [0.001], <None> [0.001], <None> [0.001], <None> [0.001], <None> [0.001], <None> [0.001], <None> [0.001], <None> [0.001], <None> [0.001], <None> [0.001], <None> [0.001], <None> [0.001], <None> [0.001], <None> [0.001], <None> [0.001], <None> [0.001], <None> [0.001], <None> [0.001], <None> [0.001], <None> [0.001], <None> [0.001], <None> [0.001], <None> [0.001], <None> [0.001], <None> [0.001], <None> [0.001], <None> [0.001], <None> [0.001], <None> [0.001], <startseq> [1.], <people> [1.], <walking> [1.], <a> [1.], <curved> [1.], <and> [1.], <steep> [1.], <sidewalk> [1.], <.> [1.], <round> [1.], <traffic> [1.], <signs> [1.], <on> [1.], <a> [1.], <pole> [1.], <.> [1.], <metal> [1.], <railing> [1.], <on> [1.], <inside> [1.], <of> [1.], <curb> [1.], <.> [1.], <trees> [1.], <on> [1.], <top> [1.], <of> [1.], <plant> [1.] , \t next_word: -\n",
      "--- 148 ---\n",
      "[2385100.jpg], input_seq: <None> [0.001], <None> [0.001], <None> [0.001], <None> [0.001], <None> [0.001], <None> [0.001], <None> [0.001], <None> [0.001], <None> [0.001], <None> [0.001], <None> [0.001], <None> [0.001], <None> [0.001], <None> [0.001], <None> [0.001], <None> [0.001], <None> [0.001], <None> [0.001], <None> [0.001], <None> [0.001], <None> [0.001], <None> [0.001], <None> [0.001], <None> [0.001], <None> [0.001], <None> [0.001], <None> [0.001], <None> [0.001], <None> [0.001], <None> [0.001], <None> [0.001], <startseq> [1.], <people> [1.], <walking> [1.], <a> [1.], <curved> [1.], <and> [1.], <steep> [1.], <sidewalk> [1.], <.> [1.], <round> [1.], <traffic> [1.], <signs> [1.], <on> [1.], <a> [1.], <pole> [1.], <.> [1.], <metal> [1.], <railing> [1.], <on> [1.], <inside> [1.], <of> [1.], <curb> [1.], <.> [1.], <trees> [1.], <on> [1.], <top> [1.], <of> [1.], <plant> [1.], <-> [1.] , \t next_word: covered\n",
      "--- 149 ---\n",
      "[2385100.jpg], input_seq: <None> [0.001], <None> [0.001], <None> [0.001], <None> [0.001], <None> [0.001], <None> [0.001], <None> [0.001], <None> [0.001], <None> [0.001], <None> [0.001], <None> [0.001], <None> [0.001], <None> [0.001], <None> [0.001], <None> [0.001], <None> [0.001], <None> [0.001], <None> [0.001], <None> [0.001], <None> [0.001], <None> [0.001], <None> [0.001], <None> [0.001], <None> [0.001], <None> [0.001], <None> [0.001], <None> [0.001], <None> [0.001], <None> [0.001], <None> [0.001], <startseq> [1.], <people> [1.], <walking> [1.], <a> [1.], <curved> [1.], <and> [1.], <steep> [1.], <sidewalk> [1.], <.> [1.], <round> [1.], <traffic> [1.], <signs> [1.], <on> [1.], <a> [1.], <pole> [1.], <.> [1.], <metal> [1.], <railing> [1.], <on> [1.], <inside> [1.], <of> [1.], <curb> [1.], <.> [1.], <trees> [1.], <on> [1.], <top> [1.], <of> [1.], <plant> [1.], <-> [1.], <covered> [1.] , \t next_word: slope\n",
      "--- 150 ---\n",
      "[2385100.jpg], input_seq: <None> [0.001], <None> [0.001], <None> [0.001], <None> [0.001], <None> [0.001], <None> [0.001], <None> [0.001], <None> [0.001], <None> [0.001], <None> [0.001], <None> [0.001], <None> [0.001], <None> [0.001], <None> [0.001], <None> [0.001], <None> [0.001], <None> [0.001], <None> [0.001], <None> [0.001], <None> [0.001], <None> [0.001], <None> [0.001], <None> [0.001], <None> [0.001], <None> [0.001], <None> [0.001], <None> [0.001], <None> [0.001], <None> [0.001], <startseq> [1.], <people> [1.], <walking> [1.], <a> [1.], <curved> [1.], <and> [1.], <steep> [1.], <sidewalk> [1.], <.> [1.], <round> [1.], <traffic> [1.], <signs> [1.], <on> [1.], <a> [1.], <pole> [1.], <.> [1.], <metal> [1.], <railing> [1.], <on> [1.], <inside> [1.], <of> [1.], <curb> [1.], <.> [1.], <trees> [1.], <on> [1.], <top> [1.], <of> [1.], <plant> [1.], <-> [1.], <covered> [1.], <slope> [1.] , \t next_word: .\n",
      "--- 151 ---\n",
      "[2385100.jpg], input_seq: <None> [0.001], <None> [0.001], <None> [0.001], <None> [0.001], <None> [0.001], <None> [0.001], <None> [0.001], <None> [0.001], <None> [0.001], <None> [0.001], <None> [0.001], <None> [0.001], <None> [0.001], <None> [0.001], <None> [0.001], <None> [0.001], <None> [0.001], <None> [0.001], <None> [0.001], <None> [0.001], <None> [0.001], <None> [0.001], <None> [0.001], <None> [0.001], <None> [0.001], <None> [0.001], <None> [0.001], <None> [0.001], <startseq> [1.], <people> [1.], <walking> [1.], <a> [1.], <curved> [1.], <and> [1.], <steep> [1.], <sidewalk> [1.], <.> [1.], <round> [1.], <traffic> [1.], <signs> [1.], <on> [1.], <a> [1.], <pole> [1.], <.> [1.], <metal> [1.], <railing> [1.], <on> [1.], <inside> [1.], <of> [1.], <curb> [1.], <.> [1.], <trees> [1.], <on> [1.], <top> [1.], <of> [1.], <plant> [1.], <-> [1.], <covered> [1.], <slope> [1.], <.> [1.] , \t next_word: woman\n",
      "--- 152 ---\n",
      "[2385100.jpg], input_seq: <None> [0.001], <None> [0.001], <None> [0.001], <None> [0.001], <None> [0.001], <None> [0.001], <None> [0.001], <None> [0.001], <None> [0.001], <None> [0.001], <None> [0.001], <None> [0.001], <None> [0.001], <None> [0.001], <None> [0.001], <None> [0.001], <None> [0.001], <None> [0.001], <None> [0.001], <None> [0.001], <None> [0.001], <None> [0.001], <None> [0.001], <None> [0.001], <None> [0.001], <None> [0.001], <None> [0.001], <startseq> [1.], <people> [1.], <walking> [1.], <a> [1.], <curved> [1.], <and> [1.], <steep> [1.], <sidewalk> [1.], <.> [1.], <round> [1.], <traffic> [1.], <signs> [1.], <on> [1.], <a> [1.], <pole> [1.], <.> [1.], <metal> [1.], <railing> [1.], <on> [1.], <inside> [1.], <of> [1.], <curb> [1.], <.> [1.], <trees> [1.], <on> [1.], <top> [1.], <of> [1.], <plant> [1.], <-> [1.], <covered> [1.], <slope> [1.], <.> [1.], <woman> [1.] , \t next_word: using\n",
      "--- 153 ---\n",
      "[2385100.jpg], input_seq: <None> [0.001], <None> [0.001], <None> [0.001], <None> [0.001], <None> [0.001], <None> [0.001], <None> [0.001], <None> [0.001], <None> [0.001], <None> [0.001], <None> [0.001], <None> [0.001], <None> [0.001], <None> [0.001], <None> [0.001], <None> [0.001], <None> [0.001], <None> [0.001], <None> [0.001], <None> [0.001], <None> [0.001], <None> [0.001], <None> [0.001], <None> [0.001], <None> [0.001], <None> [0.001], <startseq> [1.], <people> [1.], <walking> [1.], <a> [1.], <curved> [1.], <and> [1.], <steep> [1.], <sidewalk> [1.], <.> [1.], <round> [1.], <traffic> [1.], <signs> [1.], <on> [1.], <a> [1.], <pole> [1.], <.> [1.], <metal> [1.], <railing> [1.], <on> [1.], <inside> [1.], <of> [1.], <curb> [1.], <.> [1.], <trees> [1.], <on> [1.], <top> [1.], <of> [1.], <plant> [1.], <-> [1.], <covered> [1.], <slope> [1.], <.> [1.], <woman> [1.], <using> [1.] , \t next_word: open\n",
      "--- 154 ---\n",
      "[2385100.jpg], input_seq: <None> [0.001], <None> [0.001], <None> [0.001], <None> [0.001], <None> [0.001], <None> [0.001], <None> [0.001], <None> [0.001], <None> [0.001], <None> [0.001], <None> [0.001], <None> [0.001], <None> [0.001], <None> [0.001], <None> [0.001], <None> [0.001], <None> [0.001], <None> [0.001], <None> [0.001], <None> [0.001], <None> [0.001], <None> [0.001], <None> [0.001], <None> [0.001], <None> [0.001], <startseq> [1.], <people> [1.], <walking> [1.], <a> [1.], <curved> [1.], <and> [1.], <steep> [1.], <sidewalk> [1.], <.> [1.], <round> [1.], <traffic> [1.], <signs> [1.], <on> [1.], <a> [1.], <pole> [1.], <.> [1.], <metal> [1.], <railing> [1.], <on> [1.], <inside> [1.], <of> [1.], <curb> [1.], <.> [1.], <trees> [1.], <on> [1.], <top> [1.], <of> [1.], <plant> [1.], <-> [1.], <covered> [1.], <slope> [1.], <.> [1.], <woman> [1.], <using> [1.], <open> [1.] , \t next_word: umbrella\n",
      "--- 155 ---\n",
      "[2385100.jpg], input_seq: <None> [0.001], <None> [0.001], <None> [0.001], <None> [0.001], <None> [0.001], <None> [0.001], <None> [0.001], <None> [0.001], <None> [0.001], <None> [0.001], <None> [0.001], <None> [0.001], <None> [0.001], <None> [0.001], <None> [0.001], <None> [0.001], <None> [0.001], <None> [0.001], <None> [0.001], <None> [0.001], <None> [0.001], <None> [0.001], <None> [0.001], <None> [0.001], <startseq> [1.], <people> [1.], <walking> [1.], <a> [1.], <curved> [1.], <and> [1.], <steep> [1.], <sidewalk> [1.], <.> [1.], <round> [1.], <traffic> [1.], <signs> [1.], <on> [1.], <a> [1.], <pole> [1.], <.> [1.], <metal> [1.], <railing> [1.], <on> [1.], <inside> [1.], <of> [1.], <curb> [1.], <.> [1.], <trees> [1.], <on> [1.], <top> [1.], <of> [1.], <plant> [1.], <-> [1.], <covered> [1.], <slope> [1.], <.> [1.], <woman> [1.], <using> [1.], <open> [1.], <umbrella> [1.] , \t next_word: on\n",
      "--- 156 ---\n",
      "[2385100.jpg], input_seq: <None> [0.001], <None> [0.001], <None> [0.001], <None> [0.001], <None> [0.001], <None> [0.001], <None> [0.001], <None> [0.001], <None> [0.001], <None> [0.001], <None> [0.001], <None> [0.001], <None> [0.001], <None> [0.001], <None> [0.001], <None> [0.001], <None> [0.001], <None> [0.001], <None> [0.001], <None> [0.001], <None> [0.001], <None> [0.001], <None> [0.001], <startseq> [1.], <people> [1.], <walking> [1.], <a> [1.], <curved> [1.], <and> [1.], <steep> [1.], <sidewalk> [1.], <.> [1.], <round> [1.], <traffic> [1.], <signs> [1.], <on> [1.], <a> [1.], <pole> [1.], <.> [1.], <metal> [1.], <railing> [1.], <on> [1.], <inside> [1.], <of> [1.], <curb> [1.], <.> [1.], <trees> [1.], <on> [1.], <top> [1.], <of> [1.], <plant> [1.], <-> [1.], <covered> [1.], <slope> [1.], <.> [1.], <woman> [1.], <using> [1.], <open> [1.], <umbrella> [1.], <on> [1.] , \t next_word: sunny\n",
      "--- 157 ---\n",
      "[2385100.jpg], input_seq: <None> [0.001], <None> [0.001], <None> [0.001], <None> [0.001], <None> [0.001], <None> [0.001], <None> [0.001], <None> [0.001], <None> [0.001], <None> [0.001], <None> [0.001], <None> [0.001], <None> [0.001], <None> [0.001], <None> [0.001], <None> [0.001], <None> [0.001], <None> [0.001], <None> [0.001], <None> [0.001], <None> [0.001], <None> [0.001], <startseq> [1.], <people> [1.], <walking> [1.], <a> [1.], <curved> [1.], <and> [1.], <steep> [1.], <sidewalk> [1.], <.> [1.], <round> [1.], <traffic> [1.], <signs> [1.], <on> [1.], <a> [1.], <pole> [1.], <.> [1.], <metal> [1.], <railing> [1.], <on> [1.], <inside> [1.], <of> [1.], <curb> [1.], <.> [1.], <trees> [1.], <on> [1.], <top> [1.], <of> [1.], <plant> [1.], <-> [1.], <covered> [1.], <slope> [1.], <.> [1.], <woman> [1.], <using> [1.], <open> [1.], <umbrella> [1.], <on> [1.], <sunny> [1.] , \t next_word: day\n",
      "--- 158 ---\n",
      "[2385100.jpg], input_seq: <None> [0.001], <None> [0.001], <None> [0.001], <None> [0.001], <None> [0.001], <None> [0.001], <None> [0.001], <None> [0.001], <None> [0.001], <None> [0.001], <None> [0.001], <None> [0.001], <None> [0.001], <None> [0.001], <None> [0.001], <None> [0.001], <None> [0.001], <None> [0.001], <None> [0.001], <None> [0.001], <None> [0.001], <startseq> [1.], <people> [1.], <walking> [1.], <a> [1.], <curved> [1.], <and> [1.], <steep> [1.], <sidewalk> [1.], <.> [1.], <round> [1.], <traffic> [1.], <signs> [1.], <on> [1.], <a> [1.], <pole> [1.], <.> [1.], <metal> [1.], <railing> [1.], <on> [1.], <inside> [1.], <of> [1.], <curb> [1.], <.> [1.], <trees> [1.], <on> [1.], <top> [1.], <of> [1.], <plant> [1.], <-> [1.], <covered> [1.], <slope> [1.], <.> [1.], <woman> [1.], <using> [1.], <open> [1.], <umbrella> [1.], <on> [1.], <sunny> [1.], <day> [1.] , \t next_word: .\n",
      "--- 159 ---\n",
      "[2385100.jpg], input_seq: <None> [0.001], <None> [0.001], <None> [0.001], <None> [0.001], <None> [0.001], <None> [0.001], <None> [0.001], <None> [0.001], <None> [0.001], <None> [0.001], <None> [0.001], <None> [0.001], <None> [0.001], <None> [0.001], <None> [0.001], <None> [0.001], <None> [0.001], <None> [0.001], <None> [0.001], <None> [0.001], <startseq> [1.], <people> [1.], <walking> [1.], <a> [1.], <curved> [1.], <and> [1.], <steep> [1.], <sidewalk> [1.], <.> [1.], <round> [1.], <traffic> [1.], <signs> [1.], <on> [1.], <a> [1.], <pole> [1.], <.> [1.], <metal> [1.], <railing> [1.], <on> [1.], <inside> [1.], <of> [1.], <curb> [1.], <.> [1.], <trees> [1.], <on> [1.], <top> [1.], <of> [1.], <plant> [1.], <-> [1.], <covered> [1.], <slope> [1.], <.> [1.], <woman> [1.], <using> [1.], <open> [1.], <umbrella> [1.], <on> [1.], <sunny> [1.], <day> [1.], <.> [1.] , \t next_word: cars\n",
      "--- 160 ---\n",
      "[2385100.jpg], input_seq: <None> [0.001], <None> [0.001], <None> [0.001], <None> [0.001], <None> [0.001], <None> [0.001], <None> [0.001], <None> [0.001], <None> [0.001], <None> [0.001], <None> [0.001], <None> [0.001], <None> [0.001], <None> [0.001], <None> [0.001], <None> [0.001], <None> [0.001], <None> [0.001], <None> [0.001], <startseq> [1.], <people> [1.], <walking> [1.], <a> [1.], <curved> [1.], <and> [1.], <steep> [1.], <sidewalk> [1.], <.> [1.], <round> [1.], <traffic> [1.], <signs> [1.], <on> [1.], <a> [1.], <pole> [1.], <.> [1.], <metal> [1.], <railing> [1.], <on> [1.], <inside> [1.], <of> [1.], <curb> [1.], <.> [1.], <trees> [1.], <on> [1.], <top> [1.], <of> [1.], <plant> [1.], <-> [1.], <covered> [1.], <slope> [1.], <.> [1.], <woman> [1.], <using> [1.], <open> [1.], <umbrella> [1.], <on> [1.], <sunny> [1.], <day> [1.], <.> [1.], <cars> [1.] , \t next_word: parked\n",
      "--- 161 ---\n",
      "[2385100.jpg], input_seq: <None> [0.001], <None> [0.001], <None> [0.001], <None> [0.001], <None> [0.001], <None> [0.001], <None> [0.001], <None> [0.001], <None> [0.001], <None> [0.001], <None> [0.001], <None> [0.001], <None> [0.001], <None> [0.001], <None> [0.001], <None> [0.001], <None> [0.001], <None> [0.001], <startseq> [1.], <people> [1.], <walking> [1.], <a> [1.], <curved> [1.], <and> [1.], <steep> [1.], <sidewalk> [1.], <.> [1.], <round> [1.], <traffic> [1.], <signs> [1.], <on> [1.], <a> [1.], <pole> [1.], <.> [1.], <metal> [1.], <railing> [1.], <on> [1.], <inside> [1.], <of> [1.], <curb> [1.], <.> [1.], <trees> [1.], <on> [1.], <top> [1.], <of> [1.], <plant> [1.], <-> [1.], <covered> [1.], <slope> [1.], <.> [1.], <woman> [1.], <using> [1.], <open> [1.], <umbrella> [1.], <on> [1.], <sunny> [1.], <day> [1.], <.> [1.], <cars> [1.], <parked> [1.] , \t next_word: on\n",
      "--- 162 ---\n",
      "[2385100.jpg], input_seq: <None> [0.001], <None> [0.001], <None> [0.001], <None> [0.001], <None> [0.001], <None> [0.001], <None> [0.001], <None> [0.001], <None> [0.001], <None> [0.001], <None> [0.001], <None> [0.001], <None> [0.001], <None> [0.001], <None> [0.001], <None> [0.001], <None> [0.001], <startseq> [1.], <people> [1.], <walking> [1.], <a> [1.], <curved> [1.], <and> [1.], <steep> [1.], <sidewalk> [1.], <.> [1.], <round> [1.], <traffic> [1.], <signs> [1.], <on> [1.], <a> [1.], <pole> [1.], <.> [1.], <metal> [1.], <railing> [1.], <on> [1.], <inside> [1.], <of> [1.], <curb> [1.], <.> [1.], <trees> [1.], <on> [1.], <top> [1.], <of> [1.], <plant> [1.], <-> [1.], <covered> [1.], <slope> [1.], <.> [1.], <woman> [1.], <using> [1.], <open> [1.], <umbrella> [1.], <on> [1.], <sunny> [1.], <day> [1.], <.> [1.], <cars> [1.], <parked> [1.], <on> [1.] , \t next_word: side\n",
      "--- 163 ---\n",
      "[2385100.jpg], input_seq: <None> [0.001], <None> [0.001], <None> [0.001], <None> [0.001], <None> [0.001], <None> [0.001], <None> [0.001], <None> [0.001], <None> [0.001], <None> [0.001], <None> [0.001], <None> [0.001], <None> [0.001], <None> [0.001], <None> [0.001], <None> [0.001], <startseq> [1.], <people> [1.], <walking> [1.], <a> [1.], <curved> [1.], <and> [1.], <steep> [1.], <sidewalk> [1.], <.> [1.], <round> [1.], <traffic> [1.], <signs> [1.], <on> [1.], <a> [1.], <pole> [1.], <.> [1.], <metal> [1.], <railing> [1.], <on> [1.], <inside> [1.], <of> [1.], <curb> [1.], <.> [1.], <trees> [1.], <on> [1.], <top> [1.], <of> [1.], <plant> [1.], <-> [1.], <covered> [1.], <slope> [1.], <.> [1.], <woman> [1.], <using> [1.], <open> [1.], <umbrella> [1.], <on> [1.], <sunny> [1.], <day> [1.], <.> [1.], <cars> [1.], <parked> [1.], <on> [1.], <side> [1.] , \t next_word: of\n",
      "--- 164 ---\n",
      "[2385100.jpg], input_seq: <None> [0.001], <None> [0.001], <None> [0.001], <None> [0.001], <None> [0.001], <None> [0.001], <None> [0.001], <None> [0.001], <None> [0.001], <None> [0.001], <None> [0.001], <None> [0.001], <None> [0.001], <None> [0.001], <None> [0.001], <startseq> [1.], <people> [1.], <walking> [1.], <a> [1.], <curved> [1.], <and> [1.], <steep> [1.], <sidewalk> [1.], <.> [1.], <round> [1.], <traffic> [1.], <signs> [1.], <on> [1.], <a> [1.], <pole> [1.], <.> [1.], <metal> [1.], <railing> [1.], <on> [1.], <inside> [1.], <of> [1.], <curb> [1.], <.> [1.], <trees> [1.], <on> [1.], <top> [1.], <of> [1.], <plant> [1.], <-> [1.], <covered> [1.], <slope> [1.], <.> [1.], <woman> [1.], <using> [1.], <open> [1.], <umbrella> [1.], <on> [1.], <sunny> [1.], <day> [1.], <.> [1.], <cars> [1.], <parked> [1.], <on> [1.], <side> [1.], <of> [1.] , \t next_word: street\n",
      "--- 165 ---\n",
      "[2385100.jpg], input_seq: <None> [0.001], <None> [0.001], <None> [0.001], <None> [0.001], <None> [0.001], <None> [0.001], <None> [0.001], <None> [0.001], <None> [0.001], <None> [0.001], <None> [0.001], <None> [0.001], <None> [0.001], <None> [0.001], <startseq> [1.], <people> [1.], <walking> [1.], <a> [1.], <curved> [1.], <and> [1.], <steep> [1.], <sidewalk> [1.], <.> [1.], <round> [1.], <traffic> [1.], <signs> [1.], <on> [1.], <a> [1.], <pole> [1.], <.> [1.], <metal> [1.], <railing> [1.], <on> [1.], <inside> [1.], <of> [1.], <curb> [1.], <.> [1.], <trees> [1.], <on> [1.], <top> [1.], <of> [1.], <plant> [1.], <-> [1.], <covered> [1.], <slope> [1.], <.> [1.], <woman> [1.], <using> [1.], <open> [1.], <umbrella> [1.], <on> [1.], <sunny> [1.], <day> [1.], <.> [1.], <cars> [1.], <parked> [1.], <on> [1.], <side> [1.], <of> [1.], <street> [1.] , \t next_word: .\n",
      "--- 166 ---\n",
      "[2385100.jpg], input_seq: <None> [0.001], <None> [0.001], <None> [0.001], <None> [0.001], <None> [0.001], <None> [0.001], <None> [0.001], <None> [0.001], <None> [0.001], <None> [0.001], <None> [0.001], <None> [0.001], <None> [0.001], <startseq> [1.], <people> [1.], <walking> [1.], <a> [1.], <curved> [1.], <and> [1.], <steep> [1.], <sidewalk> [1.], <.> [1.], <round> [1.], <traffic> [1.], <signs> [1.], <on> [1.], <a> [1.], <pole> [1.], <.> [1.], <metal> [1.], <railing> [1.], <on> [1.], <inside> [1.], <of> [1.], <curb> [1.], <.> [1.], <trees> [1.], <on> [1.], <top> [1.], <of> [1.], <plant> [1.], <-> [1.], <covered> [1.], <slope> [1.], <.> [1.], <woman> [1.], <using> [1.], <open> [1.], <umbrella> [1.], <on> [1.], <sunny> [1.], <day> [1.], <.> [1.], <cars> [1.], <parked> [1.], <on> [1.], <side> [1.], <of> [1.], <street> [1.], <.> [1.] , \t next_word: windowed\n",
      "--- 167 ---\n",
      "[2385100.jpg], input_seq: <None> [0.001], <None> [0.001], <None> [0.001], <None> [0.001], <None> [0.001], <None> [0.001], <None> [0.001], <None> [0.001], <None> [0.001], <None> [0.001], <None> [0.001], <None> [0.001], <startseq> [1.], <people> [1.], <walking> [1.], <a> [1.], <curved> [1.], <and> [1.], <steep> [1.], <sidewalk> [1.], <.> [1.], <round> [1.], <traffic> [1.], <signs> [1.], <on> [1.], <a> [1.], <pole> [1.], <.> [1.], <metal> [1.], <railing> [1.], <on> [1.], <inside> [1.], <of> [1.], <curb> [1.], <.> [1.], <trees> [1.], <on> [1.], <top> [1.], <of> [1.], <plant> [1.], <-> [1.], <covered> [1.], <slope> [1.], <.> [1.], <woman> [1.], <using> [1.], <open> [1.], <umbrella> [1.], <on> [1.], <sunny> [1.], <day> [1.], <.> [1.], <cars> [1.], <parked> [1.], <on> [1.], <side> [1.], <of> [1.], <street> [1.], <.> [1.], <windowed> [1.] , \t next_word: building\n",
      "--- 168 ---\n"
     ]
    },
    {
     "name": "stdout",
     "output_type": "stream",
     "text": [
      "[2385100.jpg], input_seq: <None> [0.001], <None> [0.001], <None> [0.001], <None> [0.001], <None> [0.001], <None> [0.001], <None> [0.001], <None> [0.001], <None> [0.001], <None> [0.001], <None> [0.001], <startseq> [1.], <people> [1.], <walking> [1.], <a> [1.], <curved> [1.], <and> [1.], <steep> [1.], <sidewalk> [1.], <.> [1.], <round> [1.], <traffic> [1.], <signs> [1.], <on> [1.], <a> [1.], <pole> [1.], <.> [1.], <metal> [1.], <railing> [1.], <on> [1.], <inside> [1.], <of> [1.], <curb> [1.], <.> [1.], <trees> [1.], <on> [1.], <top> [1.], <of> [1.], <plant> [1.], <-> [1.], <covered> [1.], <slope> [1.], <.> [1.], <woman> [1.], <using> [1.], <open> [1.], <umbrella> [1.], <on> [1.], <sunny> [1.], <day> [1.], <.> [1.], <cars> [1.], <parked> [1.], <on> [1.], <side> [1.], <of> [1.], <street> [1.], <.> [1.], <windowed> [1.], <building> [1.] , \t next_word: seen\n",
      "--- 169 ---\n",
      "[2385100.jpg], input_seq: <None> [0.001], <None> [0.001], <None> [0.001], <None> [0.001], <None> [0.001], <None> [0.001], <None> [0.001], <None> [0.001], <None> [0.001], <None> [0.001], <startseq> [1.], <people> [1.], <walking> [1.], <a> [1.], <curved> [1.], <and> [1.], <steep> [1.], <sidewalk> [1.], <.> [1.], <round> [1.], <traffic> [1.], <signs> [1.], <on> [1.], <a> [1.], <pole> [1.], <.> [1.], <metal> [1.], <railing> [1.], <on> [1.], <inside> [1.], <of> [1.], <curb> [1.], <.> [1.], <trees> [1.], <on> [1.], <top> [1.], <of> [1.], <plant> [1.], <-> [1.], <covered> [1.], <slope> [1.], <.> [1.], <woman> [1.], <using> [1.], <open> [1.], <umbrella> [1.], <on> [1.], <sunny> [1.], <day> [1.], <.> [1.], <cars> [1.], <parked> [1.], <on> [1.], <side> [1.], <of> [1.], <street> [1.], <.> [1.], <windowed> [1.], <building> [1.], <seen> [1.] , \t next_word: through\n",
      "--- 170 ---\n",
      "[2385100.jpg], input_seq: <None> [0.001], <None> [0.001], <None> [0.001], <None> [0.001], <None> [0.001], <None> [0.001], <None> [0.001], <None> [0.001], <None> [0.001], <startseq> [1.], <people> [1.], <walking> [1.], <a> [1.], <curved> [1.], <and> [1.], <steep> [1.], <sidewalk> [1.], <.> [1.], <round> [1.], <traffic> [1.], <signs> [1.], <on> [1.], <a> [1.], <pole> [1.], <.> [1.], <metal> [1.], <railing> [1.], <on> [1.], <inside> [1.], <of> [1.], <curb> [1.], <.> [1.], <trees> [1.], <on> [1.], <top> [1.], <of> [1.], <plant> [1.], <-> [1.], <covered> [1.], <slope> [1.], <.> [1.], <woman> [1.], <using> [1.], <open> [1.], <umbrella> [1.], <on> [1.], <sunny> [1.], <day> [1.], <.> [1.], <cars> [1.], <parked> [1.], <on> [1.], <side> [1.], <of> [1.], <street> [1.], <.> [1.], <windowed> [1.], <building> [1.], <seen> [1.], <through> [1.] , \t next_word: trees\n",
      "--- 171 ---\n",
      "[2385100.jpg], input_seq: <None> [0.001], <None> [0.001], <None> [0.001], <None> [0.001], <None> [0.001], <None> [0.001], <None> [0.001], <None> [0.001], <startseq> [1.], <people> [1.], <walking> [1.], <a> [1.], <curved> [1.], <and> [1.], <steep> [1.], <sidewalk> [1.], <.> [1.], <round> [1.], <traffic> [1.], <signs> [1.], <on> [1.], <a> [1.], <pole> [1.], <.> [1.], <metal> [1.], <railing> [1.], <on> [1.], <inside> [1.], <of> [1.], <curb> [1.], <.> [1.], <trees> [1.], <on> [1.], <top> [1.], <of> [1.], <plant> [1.], <-> [1.], <covered> [1.], <slope> [1.], <.> [1.], <woman> [1.], <using> [1.], <open> [1.], <umbrella> [1.], <on> [1.], <sunny> [1.], <day> [1.], <.> [1.], <cars> [1.], <parked> [1.], <on> [1.], <side> [1.], <of> [1.], <street> [1.], <.> [1.], <windowed> [1.], <building> [1.], <seen> [1.], <through> [1.], <trees> [1.] , \t next_word: .\n",
      "--- 172 ---\n",
      "[2385100.jpg], input_seq: <None> [0.001], <None> [0.001], <None> [0.001], <None> [0.001], <None> [0.001], <None> [0.001], <None> [0.001], <startseq> [1.], <people> [1.], <walking> [1.], <a> [1.], <curved> [1.], <and> [1.], <steep> [1.], <sidewalk> [1.], <.> [1.], <round> [1.], <traffic> [1.], <signs> [1.], <on> [1.], <a> [1.], <pole> [1.], <.> [1.], <metal> [1.], <railing> [1.], <on> [1.], <inside> [1.], <of> [1.], <curb> [1.], <.> [1.], <trees> [1.], <on> [1.], <top> [1.], <of> [1.], <plant> [1.], <-> [1.], <covered> [1.], <slope> [1.], <.> [1.], <woman> [1.], <using> [1.], <open> [1.], <umbrella> [1.], <on> [1.], <sunny> [1.], <day> [1.], <.> [1.], <cars> [1.], <parked> [1.], <on> [1.], <side> [1.], <of> [1.], <street> [1.], <.> [1.], <windowed> [1.], <building> [1.], <seen> [1.], <through> [1.], <trees> [1.], <.> [1.] , \t next_word: rectangular\n",
      "--- 173 ---\n",
      "[2385100.jpg], input_seq: <None> [0.001], <None> [0.001], <None> [0.001], <None> [0.001], <None> [0.001], <None> [0.001], <startseq> [1.], <people> [1.], <walking> [1.], <a> [1.], <curved> [1.], <and> [1.], <steep> [1.], <sidewalk> [1.], <.> [1.], <round> [1.], <traffic> [1.], <signs> [1.], <on> [1.], <a> [1.], <pole> [1.], <.> [1.], <metal> [1.], <railing> [1.], <on> [1.], <inside> [1.], <of> [1.], <curb> [1.], <.> [1.], <trees> [1.], <on> [1.], <top> [1.], <of> [1.], <plant> [1.], <-> [1.], <covered> [1.], <slope> [1.], <.> [1.], <woman> [1.], <using> [1.], <open> [1.], <umbrella> [1.], <on> [1.], <sunny> [1.], <day> [1.], <.> [1.], <cars> [1.], <parked> [1.], <on> [1.], <side> [1.], <of> [1.], <street> [1.], <.> [1.], <windowed> [1.], <building> [1.], <seen> [1.], <through> [1.], <trees> [1.], <.> [1.], <rectangular> [1.] , \t next_word: gray\n",
      "--- 174 ---\n",
      "[2385100.jpg], input_seq: <None> [0.001], <None> [0.001], <None> [0.001], <None> [0.001], <None> [0.001], <startseq> [1.], <people> [1.], <walking> [1.], <a> [1.], <curved> [1.], <and> [1.], <steep> [1.], <sidewalk> [1.], <.> [1.], <round> [1.], <traffic> [1.], <signs> [1.], <on> [1.], <a> [1.], <pole> [1.], <.> [1.], <metal> [1.], <railing> [1.], <on> [1.], <inside> [1.], <of> [1.], <curb> [1.], <.> [1.], <trees> [1.], <on> [1.], <top> [1.], <of> [1.], <plant> [1.], <-> [1.], <covered> [1.], <slope> [1.], <.> [1.], <woman> [1.], <using> [1.], <open> [1.], <umbrella> [1.], <on> [1.], <sunny> [1.], <day> [1.], <.> [1.], <cars> [1.], <parked> [1.], <on> [1.], <side> [1.], <of> [1.], <street> [1.], <.> [1.], <windowed> [1.], <building> [1.], <seen> [1.], <through> [1.], <trees> [1.], <.> [1.], <rectangular> [1.], <gray> [1.] , \t next_word: buildings\n",
      "--- 175 ---\n",
      "[2385100.jpg], input_seq: <None> [0.001], <None> [0.001], <None> [0.001], <None> [0.001], <startseq> [1.], <people> [1.], <walking> [1.], <a> [1.], <curved> [1.], <and> [1.], <steep> [1.], <sidewalk> [1.], <.> [1.], <round> [1.], <traffic> [1.], <signs> [1.], <on> [1.], <a> [1.], <pole> [1.], <.> [1.], <metal> [1.], <railing> [1.], <on> [1.], <inside> [1.], <of> [1.], <curb> [1.], <.> [1.], <trees> [1.], <on> [1.], <top> [1.], <of> [1.], <plant> [1.], <-> [1.], <covered> [1.], <slope> [1.], <.> [1.], <woman> [1.], <using> [1.], <open> [1.], <umbrella> [1.], <on> [1.], <sunny> [1.], <day> [1.], <.> [1.], <cars> [1.], <parked> [1.], <on> [1.], <side> [1.], <of> [1.], <street> [1.], <.> [1.], <windowed> [1.], <building> [1.], <seen> [1.], <through> [1.], <trees> [1.], <.> [1.], <rectangular> [1.], <gray> [1.], <buildings> [1.] , \t next_word: on\n",
      "--- 176 ---\n",
      "[2385100.jpg], input_seq: <None> [0.001], <None> [0.001], <None> [0.001], <startseq> [1.], <people> [1.], <walking> [1.], <a> [1.], <curved> [1.], <and> [1.], <steep> [1.], <sidewalk> [1.], <.> [1.], <round> [1.], <traffic> [1.], <signs> [1.], <on> [1.], <a> [1.], <pole> [1.], <.> [1.], <metal> [1.], <railing> [1.], <on> [1.], <inside> [1.], <of> [1.], <curb> [1.], <.> [1.], <trees> [1.], <on> [1.], <top> [1.], <of> [1.], <plant> [1.], <-> [1.], <covered> [1.], <slope> [1.], <.> [1.], <woman> [1.], <using> [1.], <open> [1.], <umbrella> [1.], <on> [1.], <sunny> [1.], <day> [1.], <.> [1.], <cars> [1.], <parked> [1.], <on> [1.], <side> [1.], <of> [1.], <street> [1.], <.> [1.], <windowed> [1.], <building> [1.], <seen> [1.], <through> [1.], <trees> [1.], <.> [1.], <rectangular> [1.], <gray> [1.], <buildings> [1.], <on> [1.] , \t next_word: side\n",
      "--- 177 ---\n",
      "[2385100.jpg], input_seq: <None> [0.001], <None> [0.001], <startseq> [1.], <people> [1.], <walking> [1.], <a> [1.], <curved> [1.], <and> [1.], <steep> [1.], <sidewalk> [1.], <.> [1.], <round> [1.], <traffic> [1.], <signs> [1.], <on> [1.], <a> [1.], <pole> [1.], <.> [1.], <metal> [1.], <railing> [1.], <on> [1.], <inside> [1.], <of> [1.], <curb> [1.], <.> [1.], <trees> [1.], <on> [1.], <top> [1.], <of> [1.], <plant> [1.], <-> [1.], <covered> [1.], <slope> [1.], <.> [1.], <woman> [1.], <using> [1.], <open> [1.], <umbrella> [1.], <on> [1.], <sunny> [1.], <day> [1.], <.> [1.], <cars> [1.], <parked> [1.], <on> [1.], <side> [1.], <of> [1.], <street> [1.], <.> [1.], <windowed> [1.], <building> [1.], <seen> [1.], <through> [1.], <trees> [1.], <.> [1.], <rectangular> [1.], <gray> [1.], <buildings> [1.], <on> [1.], <side> [1.] , \t next_word: of\n",
      "--- 178 ---\n",
      "[2385100.jpg], input_seq: <None> [0.001], <startseq> [1.], <people> [1.], <walking> [1.], <a> [1.], <curved> [1.], <and> [1.], <steep> [1.], <sidewalk> [1.], <.> [1.], <round> [1.], <traffic> [1.], <signs> [1.], <on> [1.], <a> [1.], <pole> [1.], <.> [1.], <metal> [1.], <railing> [1.], <on> [1.], <inside> [1.], <of> [1.], <curb> [1.], <.> [1.], <trees> [1.], <on> [1.], <top> [1.], <of> [1.], <plant> [1.], <-> [1.], <covered> [1.], <slope> [1.], <.> [1.], <woman> [1.], <using> [1.], <open> [1.], <umbrella> [1.], <on> [1.], <sunny> [1.], <day> [1.], <.> [1.], <cars> [1.], <parked> [1.], <on> [1.], <side> [1.], <of> [1.], <street> [1.], <.> [1.], <windowed> [1.], <building> [1.], <seen> [1.], <through> [1.], <trees> [1.], <.> [1.], <rectangular> [1.], <gray> [1.], <buildings> [1.], <on> [1.], <side> [1.], <of> [1.] , \t next_word: street\n",
      "--- 179 ---\n",
      "[2385100.jpg], input_seq: <startseq> [1.], <people> [1.], <walking> [1.], <a> [1.], <curved> [1.], <and> [1.], <steep> [1.], <sidewalk> [1.], <.> [1.], <round> [1.], <traffic> [1.], <signs> [1.], <on> [1.], <a> [1.], <pole> [1.], <.> [1.], <metal> [1.], <railing> [1.], <on> [1.], <inside> [1.], <of> [1.], <curb> [1.], <.> [1.], <trees> [1.], <on> [1.], <top> [1.], <of> [1.], <plant> [1.], <-> [1.], <covered> [1.], <slope> [1.], <.> [1.], <woman> [1.], <using> [1.], <open> [1.], <umbrella> [1.], <on> [1.], <sunny> [1.], <day> [1.], <.> [1.], <cars> [1.], <parked> [1.], <on> [1.], <side> [1.], <of> [1.], <street> [1.], <.> [1.], <windowed> [1.], <building> [1.], <seen> [1.], <through> [1.], <trees> [1.], <.> [1.], <rectangular> [1.], <gray> [1.], <buildings> [1.], <on> [1.], <side> [1.], <of> [1.], <street> [1.] , \t next_word: endseq\n",
      "--- 180 ---\n",
      "[2406296.jpg], input_seq: <None> [0.001], <None> [0.001], <None> [0.001], <None> [0.001], <None> [0.001], <None> [0.001], <None> [0.001], <None> [0.001], <None> [0.001], <None> [0.001], <None> [0.001], <None> [0.001], <None> [0.001], <None> [0.001], <None> [0.001], <None> [0.001], <None> [0.001], <None> [0.001], <None> [0.001], <None> [0.001], <None> [0.001], <None> [0.001], <None> [0.001], <None> [0.001], <None> [0.001], <None> [0.001], <None> [0.001], <None> [0.001], <None> [0.001], <None> [0.001], <None> [0.001], <None> [0.001], <None> [0.001], <None> [0.001], <None> [0.001], <None> [0.001], <None> [0.001], <None> [0.001], <None> [0.001], <None> [0.001], <None> [0.001], <None> [0.001], <None> [0.001], <None> [0.001], <None> [0.001], <None> [0.001], <None> [0.001], <None> [0.001], <None> [0.001], <None> [0.001], <None> [0.001], <None> [0.001], <None> [0.001], <None> [0.001], <None> [0.001], <None> [0.001], <None> [0.001], <None> [0.001], <None> [0.001], <startseq> [1.] , \t next_word: a\n",
      "--- 181 ---\n",
      "[2406296.jpg], input_seq: <None> [0.001], <None> [0.001], <None> [0.001], <None> [0.001], <None> [0.001], <None> [0.001], <None> [0.001], <None> [0.001], <None> [0.001], <None> [0.001], <None> [0.001], <None> [0.001], <None> [0.001], <None> [0.001], <None> [0.001], <None> [0.001], <None> [0.001], <None> [0.001], <None> [0.001], <None> [0.001], <None> [0.001], <None> [0.001], <None> [0.001], <None> [0.001], <None> [0.001], <None> [0.001], <None> [0.001], <None> [0.001], <None> [0.001], <None> [0.001], <None> [0.001], <None> [0.001], <None> [0.001], <None> [0.001], <None> [0.001], <None> [0.001], <None> [0.001], <None> [0.001], <None> [0.001], <None> [0.001], <None> [0.001], <None> [0.001], <None> [0.001], <None> [0.001], <None> [0.001], <None> [0.001], <None> [0.001], <None> [0.001], <None> [0.001], <None> [0.001], <None> [0.001], <None> [0.001], <None> [0.001], <None> [0.001], <None> [0.001], <None> [0.001], <None> [0.001], <None> [0.001], <startseq> [1.], <a> [1.] , \t next_word: clock\n",
      "--- 182 ---\n",
      "[2406296.jpg], input_seq: <None> [0.001], <None> [0.001], <None> [0.001], <None> [0.001], <None> [0.001], <None> [0.001], <None> [0.001], <None> [0.001], <None> [0.001], <None> [0.001], <None> [0.001], <None> [0.001], <None> [0.001], <None> [0.001], <None> [0.001], <None> [0.001], <None> [0.001], <None> [0.001], <None> [0.001], <None> [0.001], <None> [0.001], <None> [0.001], <None> [0.001], <None> [0.001], <None> [0.001], <None> [0.001], <None> [0.001], <None> [0.001], <None> [0.001], <None> [0.001], <None> [0.001], <None> [0.001], <None> [0.001], <None> [0.001], <None> [0.001], <None> [0.001], <None> [0.001], <None> [0.001], <None> [0.001], <None> [0.001], <None> [0.001], <None> [0.001], <None> [0.001], <None> [0.001], <None> [0.001], <None> [0.001], <None> [0.001], <None> [0.001], <None> [0.001], <None> [0.001], <None> [0.001], <None> [0.001], <None> [0.001], <None> [0.001], <None> [0.001], <None> [0.001], <None> [0.001], <startseq> [1.], <a> [1.], <clock> [1.] , \t next_word: 's\n",
      "--- 183 ---\n",
      "[2406296.jpg], input_seq: <None> [0.001], <None> [0.001], <None> [0.001], <None> [0.001], <None> [0.001], <None> [0.001], <None> [0.001], <None> [0.001], <None> [0.001], <None> [0.001], <None> [0.001], <None> [0.001], <None> [0.001], <None> [0.001], <None> [0.001], <None> [0.001], <None> [0.001], <None> [0.001], <None> [0.001], <None> [0.001], <None> [0.001], <None> [0.001], <None> [0.001], <None> [0.001], <None> [0.001], <None> [0.001], <None> [0.001], <None> [0.001], <None> [0.001], <None> [0.001], <None> [0.001], <None> [0.001], <None> [0.001], <None> [0.001], <None> [0.001], <None> [0.001], <None> [0.001], <None> [0.001], <None> [0.001], <None> [0.001], <None> [0.001], <None> [0.001], <None> [0.001], <None> [0.001], <None> [0.001], <None> [0.001], <None> [0.001], <None> [0.001], <None> [0.001], <None> [0.001], <None> [0.001], <None> [0.001], <None> [0.001], <None> [0.001], <None> [0.001], <None> [0.001], <startseq> [1.], <a> [1.], <clock> [1.], <'s> [1.] , \t next_word: minute\n",
      "--- 184 ---\n",
      "[2406296.jpg], input_seq: <None> [0.001], <None> [0.001], <None> [0.001], <None> [0.001], <None> [0.001], <None> [0.001], <None> [0.001], <None> [0.001], <None> [0.001], <None> [0.001], <None> [0.001], <None> [0.001], <None> [0.001], <None> [0.001], <None> [0.001], <None> [0.001], <None> [0.001], <None> [0.001], <None> [0.001], <None> [0.001], <None> [0.001], <None> [0.001], <None> [0.001], <None> [0.001], <None> [0.001], <None> [0.001], <None> [0.001], <None> [0.001], <None> [0.001], <None> [0.001], <None> [0.001], <None> [0.001], <None> [0.001], <None> [0.001], <None> [0.001], <None> [0.001], <None> [0.001], <None> [0.001], <None> [0.001], <None> [0.001], <None> [0.001], <None> [0.001], <None> [0.001], <None> [0.001], <None> [0.001], <None> [0.001], <None> [0.001], <None> [0.001], <None> [0.001], <None> [0.001], <None> [0.001], <None> [0.001], <None> [0.001], <None> [0.001], <None> [0.001], <startseq> [1.], <a> [1.], <clock> [1.], <'s> [1.], <minute> [1.] , \t next_word: hand\n",
      "--- 185 ---\n",
      "[2406296.jpg], input_seq: <None> [0.001], <None> [0.001], <None> [0.001], <None> [0.001], <None> [0.001], <None> [0.001], <None> [0.001], <None> [0.001], <None> [0.001], <None> [0.001], <None> [0.001], <None> [0.001], <None> [0.001], <None> [0.001], <None> [0.001], <None> [0.001], <None> [0.001], <None> [0.001], <None> [0.001], <None> [0.001], <None> [0.001], <None> [0.001], <None> [0.001], <None> [0.001], <None> [0.001], <None> [0.001], <None> [0.001], <None> [0.001], <None> [0.001], <None> [0.001], <None> [0.001], <None> [0.001], <None> [0.001], <None> [0.001], <None> [0.001], <None> [0.001], <None> [0.001], <None> [0.001], <None> [0.001], <None> [0.001], <None> [0.001], <None> [0.001], <None> [0.001], <None> [0.001], <None> [0.001], <None> [0.001], <None> [0.001], <None> [0.001], <None> [0.001], <None> [0.001], <None> [0.001], <None> [0.001], <None> [0.001], <None> [0.001], <startseq> [1.], <a> [1.], <clock> [1.], <'s> [1.], <minute> [1.], <hand> [1.] , \t next_word: .\n",
      "--- 186 ---\n",
      "[2406296.jpg], input_seq: <None> [0.001], <None> [0.001], <None> [0.001], <None> [0.001], <None> [0.001], <None> [0.001], <None> [0.001], <None> [0.001], <None> [0.001], <None> [0.001], <None> [0.001], <None> [0.001], <None> [0.001], <None> [0.001], <None> [0.001], <None> [0.001], <None> [0.001], <None> [0.001], <None> [0.001], <None> [0.001], <None> [0.001], <None> [0.001], <None> [0.001], <None> [0.001], <None> [0.001], <None> [0.001], <None> [0.001], <None> [0.001], <None> [0.001], <None> [0.001], <None> [0.001], <None> [0.001], <None> [0.001], <None> [0.001], <None> [0.001], <None> [0.001], <None> [0.001], <None> [0.001], <None> [0.001], <None> [0.001], <None> [0.001], <None> [0.001], <None> [0.001], <None> [0.001], <None> [0.001], <None> [0.001], <None> [0.001], <None> [0.001], <None> [0.001], <None> [0.001], <None> [0.001], <None> [0.001], <None> [0.001], <startseq> [1.], <a> [1.], <clock> [1.], <'s> [1.], <minute> [1.], <hand> [1.], <.> [1.] , \t next_word: a\n",
      "--- 187 ---\n",
      "[2406296.jpg], input_seq: <None> [0.001], <None> [0.001], <None> [0.001], <None> [0.001], <None> [0.001], <None> [0.001], <None> [0.001], <None> [0.001], <None> [0.001], <None> [0.001], <None> [0.001], <None> [0.001], <None> [0.001], <None> [0.001], <None> [0.001], <None> [0.001], <None> [0.001], <None> [0.001], <None> [0.001], <None> [0.001], <None> [0.001], <None> [0.001], <None> [0.001], <None> [0.001], <None> [0.001], <None> [0.001], <None> [0.001], <None> [0.001], <None> [0.001], <None> [0.001], <None> [0.001], <None> [0.001], <None> [0.001], <None> [0.001], <None> [0.001], <None> [0.001], <None> [0.001], <None> [0.001], <None> [0.001], <None> [0.001], <None> [0.001], <None> [0.001], <None> [0.001], <None> [0.001], <None> [0.001], <None> [0.001], <None> [0.001], <None> [0.001], <None> [0.001], <None> [0.001], <None> [0.001], <None> [0.001], <startseq> [1.], <a> [1.], <clock> [1.], <'s> [1.], <minute> [1.], <hand> [1.], <.> [1.], <a> [1.] , \t next_word: clock\n",
      "--- 188 ---\n",
      "[2406296.jpg], input_seq: <None> [0.001], <None> [0.001], <None> [0.001], <None> [0.001], <None> [0.001], <None> [0.001], <None> [0.001], <None> [0.001], <None> [0.001], <None> [0.001], <None> [0.001], <None> [0.001], <None> [0.001], <None> [0.001], <None> [0.001], <None> [0.001], <None> [0.001], <None> [0.001], <None> [0.001], <None> [0.001], <None> [0.001], <None> [0.001], <None> [0.001], <None> [0.001], <None> [0.001], <None> [0.001], <None> [0.001], <None> [0.001], <None> [0.001], <None> [0.001], <None> [0.001], <None> [0.001], <None> [0.001], <None> [0.001], <None> [0.001], <None> [0.001], <None> [0.001], <None> [0.001], <None> [0.001], <None> [0.001], <None> [0.001], <None> [0.001], <None> [0.001], <None> [0.001], <None> [0.001], <None> [0.001], <None> [0.001], <None> [0.001], <None> [0.001], <None> [0.001], <None> [0.001], <startseq> [1.], <a> [1.], <clock> [1.], <'s> [1.], <minute> [1.], <hand> [1.], <.> [1.], <a> [1.], <clock> [1.] , \t next_word: 's\n",
      "--- 189 ---\n",
      "[2406296.jpg], input_seq: <None> [0.001], <None> [0.001], <None> [0.001], <None> [0.001], <None> [0.001], <None> [0.001], <None> [0.001], <None> [0.001], <None> [0.001], <None> [0.001], <None> [0.001], <None> [0.001], <None> [0.001], <None> [0.001], <None> [0.001], <None> [0.001], <None> [0.001], <None> [0.001], <None> [0.001], <None> [0.001], <None> [0.001], <None> [0.001], <None> [0.001], <None> [0.001], <None> [0.001], <None> [0.001], <None> [0.001], <None> [0.001], <None> [0.001], <None> [0.001], <None> [0.001], <None> [0.001], <None> [0.001], <None> [0.001], <None> [0.001], <None> [0.001], <None> [0.001], <None> [0.001], <None> [0.001], <None> [0.001], <None> [0.001], <None> [0.001], <None> [0.001], <None> [0.001], <None> [0.001], <None> [0.001], <None> [0.001], <None> [0.001], <None> [0.001], <None> [0.001], <startseq> [1.], <a> [1.], <clock> [1.], <'s> [1.], <minute> [1.], <hand> [1.], <.> [1.], <a> [1.], <clock> [1.], <'s> [1.] , \t next_word: hour\n",
      "--- 190 ---\n",
      "[2406296.jpg], input_seq: <None> [0.001], <None> [0.001], <None> [0.001], <None> [0.001], <None> [0.001], <None> [0.001], <None> [0.001], <None> [0.001], <None> [0.001], <None> [0.001], <None> [0.001], <None> [0.001], <None> [0.001], <None> [0.001], <None> [0.001], <None> [0.001], <None> [0.001], <None> [0.001], <None> [0.001], <None> [0.001], <None> [0.001], <None> [0.001], <None> [0.001], <None> [0.001], <None> [0.001], <None> [0.001], <None> [0.001], <None> [0.001], <None> [0.001], <None> [0.001], <None> [0.001], <None> [0.001], <None> [0.001], <None> [0.001], <None> [0.001], <None> [0.001], <None> [0.001], <None> [0.001], <None> [0.001], <None> [0.001], <None> [0.001], <None> [0.001], <None> [0.001], <None> [0.001], <None> [0.001], <None> [0.001], <None> [0.001], <None> [0.001], <None> [0.001], <startseq> [1.], <a> [1.], <clock> [1.], <'s> [1.], <minute> [1.], <hand> [1.], <.> [1.], <a> [1.], <clock> [1.], <'s> [1.], <hour> [1.] , \t next_word: hand\n",
      "--- 191 ---\n",
      "[2406296.jpg], input_seq: <None> [0.001], <None> [0.001], <None> [0.001], <None> [0.001], <None> [0.001], <None> [0.001], <None> [0.001], <None> [0.001], <None> [0.001], <None> [0.001], <None> [0.001], <None> [0.001], <None> [0.001], <None> [0.001], <None> [0.001], <None> [0.001], <None> [0.001], <None> [0.001], <None> [0.001], <None> [0.001], <None> [0.001], <None> [0.001], <None> [0.001], <None> [0.001], <None> [0.001], <None> [0.001], <None> [0.001], <None> [0.001], <None> [0.001], <None> [0.001], <None> [0.001], <None> [0.001], <None> [0.001], <None> [0.001], <None> [0.001], <None> [0.001], <None> [0.001], <None> [0.001], <None> [0.001], <None> [0.001], <None> [0.001], <None> [0.001], <None> [0.001], <None> [0.001], <None> [0.001], <None> [0.001], <None> [0.001], <None> [0.001], <startseq> [1.], <a> [1.], <clock> [1.], <'s> [1.], <minute> [1.], <hand> [1.], <.> [1.], <a> [1.], <clock> [1.], <'s> [1.], <hour> [1.], <hand> [1.] , \t next_word: .\n",
      "--- 192 ---\n",
      "[2406296.jpg], input_seq: <None> [0.001], <None> [0.001], <None> [0.001], <None> [0.001], <None> [0.001], <None> [0.001], <None> [0.001], <None> [0.001], <None> [0.001], <None> [0.001], <None> [0.001], <None> [0.001], <None> [0.001], <None> [0.001], <None> [0.001], <None> [0.001], <None> [0.001], <None> [0.001], <None> [0.001], <None> [0.001], <None> [0.001], <None> [0.001], <None> [0.001], <None> [0.001], <None> [0.001], <None> [0.001], <None> [0.001], <None> [0.001], <None> [0.001], <None> [0.001], <None> [0.001], <None> [0.001], <None> [0.001], <None> [0.001], <None> [0.001], <None> [0.001], <None> [0.001], <None> [0.001], <None> [0.001], <None> [0.001], <None> [0.001], <None> [0.001], <None> [0.001], <None> [0.001], <None> [0.001], <None> [0.001], <None> [0.001], <startseq> [1.], <a> [1.], <clock> [1.], <'s> [1.], <minute> [1.], <hand> [1.], <.> [1.], <a> [1.], <clock> [1.], <'s> [1.], <hour> [1.], <hand> [1.], <.> [1.] , \t next_word: a\n",
      "--- 193 ---\n",
      "[2406296.jpg], input_seq: <None> [0.001], <None> [0.001], <None> [0.001], <None> [0.001], <None> [0.001], <None> [0.001], <None> [0.001], <None> [0.001], <None> [0.001], <None> [0.001], <None> [0.001], <None> [0.001], <None> [0.001], <None> [0.001], <None> [0.001], <None> [0.001], <None> [0.001], <None> [0.001], <None> [0.001], <None> [0.001], <None> [0.001], <None> [0.001], <None> [0.001], <None> [0.001], <None> [0.001], <None> [0.001], <None> [0.001], <None> [0.001], <None> [0.001], <None> [0.001], <None> [0.001], <None> [0.001], <None> [0.001], <None> [0.001], <None> [0.001], <None> [0.001], <None> [0.001], <None> [0.001], <None> [0.001], <None> [0.001], <None> [0.001], <None> [0.001], <None> [0.001], <None> [0.001], <None> [0.001], <None> [0.001], <startseq> [1.], <a> [1.], <clock> [1.], <'s> [1.], <minute> [1.], <hand> [1.], <.> [1.], <a> [1.], <clock> [1.], <'s> [1.], <hour> [1.], <hand> [1.], <.> [1.], <a> [1.] , \t next_word: clear\n",
      "--- 194 ---\n",
      "[2406296.jpg], input_seq: <None> [0.001], <None> [0.001], <None> [0.001], <None> [0.001], <None> [0.001], <None> [0.001], <None> [0.001], <None> [0.001], <None> [0.001], <None> [0.001], <None> [0.001], <None> [0.001], <None> [0.001], <None> [0.001], <None> [0.001], <None> [0.001], <None> [0.001], <None> [0.001], <None> [0.001], <None> [0.001], <None> [0.001], <None> [0.001], <None> [0.001], <None> [0.001], <None> [0.001], <None> [0.001], <None> [0.001], <None> [0.001], <None> [0.001], <None> [0.001], <None> [0.001], <None> [0.001], <None> [0.001], <None> [0.001], <None> [0.001], <None> [0.001], <None> [0.001], <None> [0.001], <None> [0.001], <None> [0.001], <None> [0.001], <None> [0.001], <None> [0.001], <None> [0.001], <None> [0.001], <startseq> [1.], <a> [1.], <clock> [1.], <'s> [1.], <minute> [1.], <hand> [1.], <.> [1.], <a> [1.], <clock> [1.], <'s> [1.], <hour> [1.], <hand> [1.], <.> [1.], <a> [1.], <clear> [1.] , \t next_word: blue\n",
      "--- 195 ---\n",
      "[2406296.jpg], input_seq: <None> [0.001], <None> [0.001], <None> [0.001], <None> [0.001], <None> [0.001], <None> [0.001], <None> [0.001], <None> [0.001], <None> [0.001], <None> [0.001], <None> [0.001], <None> [0.001], <None> [0.001], <None> [0.001], <None> [0.001], <None> [0.001], <None> [0.001], <None> [0.001], <None> [0.001], <None> [0.001], <None> [0.001], <None> [0.001], <None> [0.001], <None> [0.001], <None> [0.001], <None> [0.001], <None> [0.001], <None> [0.001], <None> [0.001], <None> [0.001], <None> [0.001], <None> [0.001], <None> [0.001], <None> [0.001], <None> [0.001], <None> [0.001], <None> [0.001], <None> [0.001], <None> [0.001], <None> [0.001], <None> [0.001], <None> [0.001], <None> [0.001], <None> [0.001], <startseq> [1.], <a> [1.], <clock> [1.], <'s> [1.], <minute> [1.], <hand> [1.], <.> [1.], <a> [1.], <clock> [1.], <'s> [1.], <hour> [1.], <hand> [1.], <.> [1.], <a> [1.], <clear> [1.], <blue> [1.] , \t next_word: sky\n",
      "--- 196 ---\n",
      "[2406296.jpg], input_seq: <None> [0.001], <None> [0.001], <None> [0.001], <None> [0.001], <None> [0.001], <None> [0.001], <None> [0.001], <None> [0.001], <None> [0.001], <None> [0.001], <None> [0.001], <None> [0.001], <None> [0.001], <None> [0.001], <None> [0.001], <None> [0.001], <None> [0.001], <None> [0.001], <None> [0.001], <None> [0.001], <None> [0.001], <None> [0.001], <None> [0.001], <None> [0.001], <None> [0.001], <None> [0.001], <None> [0.001], <None> [0.001], <None> [0.001], <None> [0.001], <None> [0.001], <None> [0.001], <None> [0.001], <None> [0.001], <None> [0.001], <None> [0.001], <None> [0.001], <None> [0.001], <None> [0.001], <None> [0.001], <None> [0.001], <None> [0.001], <None> [0.001], <startseq> [1.], <a> [1.], <clock> [1.], <'s> [1.], <minute> [1.], <hand> [1.], <.> [1.], <a> [1.], <clock> [1.], <'s> [1.], <hour> [1.], <hand> [1.], <.> [1.], <a> [1.], <clear> [1.], <blue> [1.], <sky> [1.] , \t next_word: .\n",
      "--- 197 ---\n",
      "[2406296.jpg], input_seq: <None> [0.001], <None> [0.001], <None> [0.001], <None> [0.001], <None> [0.001], <None> [0.001], <None> [0.001], <None> [0.001], <None> [0.001], <None> [0.001], <None> [0.001], <None> [0.001], <None> [0.001], <None> [0.001], <None> [0.001], <None> [0.001], <None> [0.001], <None> [0.001], <None> [0.001], <None> [0.001], <None> [0.001], <None> [0.001], <None> [0.001], <None> [0.001], <None> [0.001], <None> [0.001], <None> [0.001], <None> [0.001], <None> [0.001], <None> [0.001], <None> [0.001], <None> [0.001], <None> [0.001], <None> [0.001], <None> [0.001], <None> [0.001], <None> [0.001], <None> [0.001], <None> [0.001], <None> [0.001], <None> [0.001], <None> [0.001], <startseq> [1.], <a> [1.], <clock> [1.], <'s> [1.], <minute> [1.], <hand> [1.], <.> [1.], <a> [1.], <clock> [1.], <'s> [1.], <hour> [1.], <hand> [1.], <.> [1.], <a> [1.], <clear> [1.], <blue> [1.], <sky> [1.], <.> [1.] , \t next_word: an\n",
      "--- 198 ---\n",
      "[2406296.jpg], input_seq: <None> [0.001], <None> [0.001], <None> [0.001], <None> [0.001], <None> [0.001], <None> [0.001], <None> [0.001], <None> [0.001], <None> [0.001], <None> [0.001], <None> [0.001], <None> [0.001], <None> [0.001], <None> [0.001], <None> [0.001], <None> [0.001], <None> [0.001], <None> [0.001], <None> [0.001], <None> [0.001], <None> [0.001], <None> [0.001], <None> [0.001], <None> [0.001], <None> [0.001], <None> [0.001], <None> [0.001], <None> [0.001], <None> [0.001], <None> [0.001], <None> [0.001], <None> [0.001], <None> [0.001], <None> [0.001], <None> [0.001], <None> [0.001], <None> [0.001], <None> [0.001], <None> [0.001], <None> [0.001], <None> [0.001], <startseq> [1.], <a> [1.], <clock> [1.], <'s> [1.], <minute> [1.], <hand> [1.], <.> [1.], <a> [1.], <clock> [1.], <'s> [1.], <hour> [1.], <hand> [1.], <.> [1.], <a> [1.], <clear> [1.], <blue> [1.], <sky> [1.], <.> [1.], <an> [1.] , \t next_word: old\n",
      "--- 199 ---\n",
      "[2406296.jpg], input_seq: <None> [0.001], <None> [0.001], <None> [0.001], <None> [0.001], <None> [0.001], <None> [0.001], <None> [0.001], <None> [0.001], <None> [0.001], <None> [0.001], <None> [0.001], <None> [0.001], <None> [0.001], <None> [0.001], <None> [0.001], <None> [0.001], <None> [0.001], <None> [0.001], <None> [0.001], <None> [0.001], <None> [0.001], <None> [0.001], <None> [0.001], <None> [0.001], <None> [0.001], <None> [0.001], <None> [0.001], <None> [0.001], <None> [0.001], <None> [0.001], <None> [0.001], <None> [0.001], <None> [0.001], <None> [0.001], <None> [0.001], <None> [0.001], <None> [0.001], <None> [0.001], <None> [0.001], <None> [0.001], <startseq> [1.], <a> [1.], <clock> [1.], <'s> [1.], <minute> [1.], <hand> [1.], <.> [1.], <a> [1.], <clock> [1.], <'s> [1.], <hour> [1.], <hand> [1.], <.> [1.], <a> [1.], <clear> [1.], <blue> [1.], <sky> [1.], <.> [1.], <an> [1.], <old> [1.] , \t next_word: stone\n"
     ]
    }
   ],
   "source": [
    "for i in range(200):\n",
    "    print('---',i,'---')\n",
    "    print('['+vx['image_names'][i]+'], input_seq:',', '.join(['<None> {0}'.format(y) if x==0 else '<{0}> {1}'.format(co_to_w[x],y) for x,y in zip(vx['words_input'][i],vx['padding_masks'][i])]),', \\t next_word:',co_to_w[np.argmax(vy['target_word'][i])])"
   ]
  },
  {
   "cell_type": "code",
   "execution_count": 51,
   "metadata": {
    "scrolled": true
   },
   "outputs": [
    {
     "data": {
      "text/plain": [
       "array([0., 0., 0., 0., 0., 0., 0., 0., 0., 0., 0., 0., 0., 0., 0., 0., 0.,\n",
       "       0., 0., 0., 0., 0., 0., 0., 0., 0., 0., 0., 0., 0., 0., 0., 0., 0.,\n",
       "       0., 0., 0., 0., 0., 0., 0., 0., 0., 0., 0., 0., 0., 0., 0., 0., 0.,\n",
       "       0., 0., 0., 0., 0., 0., 0., 0., 0., 0., 0., 0., 0., 0., 0., 0., 0.,\n",
       "       0., 0., 0., 0., 0., 0., 0., 0., 0., 0., 0., 0., 0., 0., 0., 0., 0.,\n",
       "       0., 0., 0., 0., 0., 0., 0., 0., 0., 0., 0., 0., 0., 0., 0., 0., 0.,\n",
       "       0., 0., 0., 0., 0., 0., 0., 0., 0., 0., 0., 0., 0., 0., 0., 0., 0.,\n",
       "       0., 0., 0., 0., 0., 0., 0., 0., 0., 0., 0., 0., 0., 0., 0., 0., 0.,\n",
       "       0., 0., 0., 0., 0., 0., 0., 0., 0., 0., 0., 0., 0., 0., 0., 0., 0.,\n",
       "       0., 0., 0., 0., 0., 0., 0., 0., 0., 0., 0., 0., 0., 0., 0., 0., 0.,\n",
       "       0., 0., 0., 0., 0., 0., 0., 0., 0., 0., 0., 0., 0., 0., 0., 0., 0.,\n",
       "       0., 0., 0., 0., 0., 0., 0., 0., 0., 0., 0., 0., 0., 0., 0., 0., 0.,\n",
       "       0., 0., 0., 0., 0., 0., 0., 0., 0., 0., 0., 0., 0., 0., 0., 0., 0.,\n",
       "       0., 0., 0., 0., 0., 0., 0., 0., 0., 0., 0., 0., 0., 0., 0., 0., 0.,\n",
       "       0., 0., 0., 0., 0., 0., 0., 0., 0., 0., 0., 0., 0., 0., 0., 0., 0.,\n",
       "       0., 0., 0., 0., 0., 0., 0., 0., 0., 0., 0., 0., 0., 0., 0., 0., 0.,\n",
       "       0., 0., 0., 0., 0., 0., 0., 0., 0., 0., 0., 0., 0., 0., 0., 0., 0.,\n",
       "       0., 0., 0., 0., 0., 0., 0., 0., 0., 0., 0.])"
      ]
     },
     "execution_count": 51,
     "metadata": {},
     "output_type": "execute_result"
    }
   ],
   "source": [
    "# print(vx['words_input'][1])\n",
    "# embedding_matrix[105]\n",
    "embedding_matrix[w_to_co['..']]"
   ]
  },
  {
   "cell_type": "code",
   "execution_count": 52,
   "metadata": {
    "scrolled": true
   },
   "outputs": [
    {
     "data": {
      "text/plain": [
       "array([ 0.13219371, -0.19465026, -0.02212655, -0.01758797, -0.05859465,\n",
       "        0.24596591,  0.07678664,  0.28997082,  0.36150724,  0.36563286,\n",
       "        0.34160966, -0.06796359, -0.4269016 ,  0.1151577 , -0.18047696,\n",
       "        0.03713265, -0.06325483,  0.19014561,  0.380982  ,  0.40779996,\n",
       "       -0.49013612,  0.08590927, -0.47230223, -0.28045982, -0.20878564,\n",
       "       -0.26647165, -0.02364772,  0.1321182 ,  0.00495375,  0.47253942,\n",
       "        0.371364  , -0.08130746,  0.16136836, -0.03925774, -0.2358193 ,\n",
       "        0.03646893,  0.19255431,  0.2636729 , -0.23412222,  0.02633012,\n",
       "       -0.25536558,  0.15751627,  0.49496353,  0.30594635, -0.00513036,\n",
       "       -0.3109869 , -0.44936153,  0.25010687,  0.0480016 , -0.21161744,\n",
       "       -0.13679051,  0.49585474,  0.06696449, -0.37588006, -0.19318876,\n",
       "       -0.05119455,  0.2996295 , -0.15990216, -0.3082852 ,  0.29220897,\n",
       "       -0.33740854,  0.03839038, -0.0969456 ,  0.4329269 ,  0.25184602,\n",
       "        0.34867814,  0.02990294,  0.47961974,  0.44659117,  0.01386323,\n",
       "       -0.14968584, -0.41875017,  0.4775241 , -0.30283692,  0.4026415 ,\n",
       "       -0.3289773 , -0.04758875,  0.08781996,  0.3397076 ,  0.29290017,\n",
       "       -0.49031624,  0.35687217,  0.49726704,  0.49731663, -0.2526157 ,\n",
       "       -0.43841606,  0.29066956,  0.35331193,  0.1210563 , -0.36678192,\n",
       "        0.39761487,  0.10648551, -0.42226577,  0.04401901,  0.45705822,\n",
       "        0.2596255 , -0.08080358, -0.46481743,  0.07062961,  0.39140937,\n",
       "       -0.36292946, -0.37286445,  0.190569  ,  0.34120107,  0.29639557,\n",
       "       -0.23149027,  0.19416375,  0.03622539,  0.05164433,  0.28907457,\n",
       "        0.32555893, -0.22766605,  0.44288033,  0.4175709 , -0.44005996,\n",
       "        0.29496315, -0.4822911 ,  0.29981902,  0.2142423 , -0.12000214,\n",
       "        0.31510198, -0.04404534,  0.39484042, -0.26524237, -0.24938281,\n",
       "        0.2142298 ,  0.16784005, -0.24563791, -0.05112484, -0.41582632,\n",
       "        0.4178167 , -0.03764909, -0.15170649, -0.45240167, -0.03856236,\n",
       "       -0.1966487 ,  0.23124991, -0.47273895,  0.13623343, -0.35198313,\n",
       "        0.00678655, -0.24875595,  0.48754513, -0.13411129,  0.09653734,\n",
       "       -0.43092033, -0.46295068, -0.18094796, -0.38059655, -0.29480523,\n",
       "       -0.16479796, -0.15956827,  0.3257614 , -0.4444141 ,  0.00172569,\n",
       "        0.34023234,  0.28773507, -0.46251595, -0.17023718,  0.3597726 ,\n",
       "        0.34207076, -0.05223705, -0.13729812,  0.47237065,  0.10041771,\n",
       "       -0.07012762, -0.40227687, -0.34480703,  0.46512264, -0.30008325,\n",
       "        0.3497067 ,  0.35094708,  0.460806  , -0.44918436, -0.31373024,\n",
       "        0.36139864, -0.1334208 ,  0.09658527,  0.20308335, -0.34108493,\n",
       "       -0.07002747, -0.3701096 ,  0.39577276,  0.21721716, -0.49815184,\n",
       "        0.26140326, -0.31584805,  0.15383974,  0.4699543 , -0.2219625 ,\n",
       "       -0.02034425,  0.04891285,  0.14123736,  0.35699153,  0.39705554,\n",
       "        0.43395078, -0.01241554, -0.1910538 ,  0.32197827,  0.0872739 ,\n",
       "        0.08736031, -0.43825942,  0.061006  , -0.35716668, -0.02040188,\n",
       "       -0.10127451,  0.40548918,  0.28043118, -0.25146914, -0.3000128 ,\n",
       "        0.0648041 ,  0.49456558,  0.1983577 ,  0.16973387, -0.10052565,\n",
       "       -0.21069781, -0.2549266 , -0.18716115, -0.11845364,  0.416031  ,\n",
       "       -0.47854468, -0.25540718, -0.47448725, -0.06885437, -0.4126066 ,\n",
       "        0.45933905, -0.07244275, -0.08742965, -0.39267555, -0.3021713 ,\n",
       "       -0.34758365, -0.46034738,  0.24431063,  0.17606892,  0.12791137,\n",
       "        0.032965  ,  0.1589853 , -0.43276376,  0.18728514,  0.13483796,\n",
       "       -0.49805656, -0.12884681, -0.1799346 ,  0.19033812, -0.26958078,\n",
       "       -0.13413078,  0.36311328, -0.16851012, -0.23266394,  0.1298837 ,\n",
       "       -0.32673627,  0.27685893, -0.06019651,  0.3673794 ,  0.14562118,\n",
       "       -0.38537008, -0.04522627,  0.17591296,  0.23083559,  0.3122561 ,\n",
       "        0.4839669 ,  0.4655066 ,  0.34525305,  0.4605487 , -0.36306515,\n",
       "       -0.379969  , -0.36076346, -0.1809048 ,  0.17886408, -0.1506529 ,\n",
       "        0.21441135,  0.21630254,  0.41788632,  0.10552672,  0.3025112 ,\n",
       "        0.21399581,  0.04425539, -0.02530626, -0.0306554 ,  0.28349766,\n",
       "        0.36179695,  0.37852284, -0.29001486, -0.46618226, -0.0277865 ,\n",
       "        0.19052975, -0.06473663, -0.32435513, -0.48466468, -0.23125689,\n",
       "       -0.25134194, -0.132257  ,  0.4408414 ,  0.24944949, -0.2946232 ,\n",
       "        0.20316741,  0.16960958,  0.08479419, -0.02314435, -0.11664516],\n",
       "      dtype=float32)"
      ]
     },
     "execution_count": 52,
     "metadata": {},
     "output_type": "execute_result"
    }
   ],
   "source": [
    "emb_out = emb.predict(vx['words_input'])\n",
    "emb_out[1][-2]"
   ]
  },
  {
   "cell_type": "code",
   "execution_count": 53,
   "metadata": {
    "scrolled": true
   },
   "outputs": [],
   "source": [
    "parallel_model=multi_gpu_model(model, gpus=n_gpu)\n",
    "# # model_resnet.summary()\n",
    "# # parallel_model.load_weights('./../checkpoints/sa_vgg16_3d_32x24_m32_direct.h5', by_name=True, skip_mismatch=True)"
   ]
  },
  {
   "cell_type": "code",
   "execution_count": 54,
   "metadata": {
    "scrolled": true
   },
   "outputs": [
    {
     "name": "stdout",
     "output_type": "stream",
     "text": [
      "__________________________________________________________________________________________________\n",
      "Layer (type)                    Output Shape         Param #     Connected to                     \n",
      "==================================================================================================\n",
      "image_input (InputLayer)        (None, 256, 256, 3)  0                                            \n",
      "__________________________________________________________________________________________________\n",
      "words_input (InputLayer)        (None, 60)           0                                            \n",
      "__________________________________________________________________________________________________\n",
      "lambda_1 (Lambda)               (None, 256, 256, 3)  0           image_input[0][0]                \n",
      "__________________________________________________________________________________________________\n",
      "lambda_2 (Lambda)               (None, 60)           0           words_input[0][0]                \n",
      "__________________________________________________________________________________________________\n",
      "lambda_3 (Lambda)               (None, 256, 256, 3)  0           image_input[0][0]                \n",
      "__________________________________________________________________________________________________\n",
      "lambda_4 (Lambda)               (None, 60)           0           words_input[0][0]                \n",
      "__________________________________________________________________________________________________\n",
      "lambda_5 (Lambda)               (None, 256, 256, 3)  0           image_input[0][0]                \n",
      "__________________________________________________________________________________________________\n",
      "lambda_6 (Lambda)               (None, 60)           0           words_input[0][0]                \n",
      "__________________________________________________________________________________________________\n",
      "model_1 (Model)                 (None, 20795)        49629913    lambda_1[0][0]                   \n",
      "                                                                 lambda_2[0][0]                   \n",
      "                                                                 lambda_3[0][0]                   \n",
      "                                                                 lambda_4[0][0]                   \n",
      "                                                                 lambda_5[0][0]                   \n",
      "                                                                 lambda_6[0][0]                   \n",
      "__________________________________________________________________________________________________\n",
      "target_word (Concatenate)       (None, 20795)        0           model_1[1][0]                    \n",
      "                                                                 model_1[2][0]                    \n",
      "                                                                 model_1[3][0]                    \n",
      "==================================================================================================\n",
      "Total params: 49,629,913\n",
      "Trainable params: 49,602,313\n",
      "Non-trainable params: 27,600\n",
      "__________________________________________________________________________________________________\n"
     ]
    }
   ],
   "source": [
    "lr=0.01\n",
    "parallel_model.compile(loss='categorical_crossentropy',optimizer=Adam(lr=lr),metrics=['accuracy']) #For multi GPU\n",
    "parallel_model.summary()"
   ]
  },
  {
   "cell_type": "code",
   "execution_count": 55,
   "metadata": {},
   "outputs": [
    {
     "name": "stdout",
     "output_type": "stream",
     "text": [
      "training vgg_1dcnn_text_img_attention for 50 epochs\n"
     ]
    }
   ],
   "source": [
    "# mc=ModelCheckpoint(filepath='../checkpoints/vgg16_lstm_words.h5',monitor='val_loss',period=1,save_best_only=True,save_weights_only=True,mode='auto',verbose=3)\n",
    "# es=EarlyStopping(patience=300,monitor='val_loss',min_delta=0.0001,mode='auto')\n",
    "\n",
    "print('training {0} for {1} epochs'.format(model_name,EPOCHS))\n",
    "# lr = K.eval(parallel_model.optimizer.lr)\n",
    "# decay = 1e-3"
   ]
  },
  {
   "cell_type": "code",
   "execution_count": 56,
   "metadata": {},
   "outputs": [],
   "source": [
    "def CheckSelfAttention(input_data,labels):\n",
    "    words_input,padding_masks=input_data\n",
    "    for i in range(words_input.shape[0]):\n",
    "        print('-*-*-',i,'-*-*-')\n",
    "        print('input_seq:',', '.join(['<None> {0}'.format(y) if x==0 else '<{0}> {1}'.format(co_to_w[x],y) for x,y in zip(words_input[i],padding_masks[i])]),', \\t next_word:',co_to_w[np.argmax(labels[i])])\n",
    "    sa31 = Model(textNet.inputs,textNet.get_layer('sa31').output)\n",
    "    sa32 = Model(textNet.inputs,textNet.get_layer('sa32').output)\n",
    "    sa33 = Model(textNet.inputs,textNet.get_layer('sa33').output)\n",
    "    sa34 = Model(textNet.inputs,textNet.get_layer('sa34').output)\n",
    "    sa35 = Model(textNet.inputs,textNet.get_layer('sa35').output)\n",
    "    sa36 = Model(textNet.inputs,textNet.get_layer('sa36').output)\n",
    "    sa37 = Model(textNet.inputs,textNet.get_layer('sa37').output)\n",
    "    sa38 = Model(textNet.inputs,textNet.get_layer('sa38').output)\n",
    "    \n",
    "    return [sa31.predict(input_data)\n",
    "            , sa32.predict(input_data)\n",
    "            , sa33.predict(input_data)\n",
    "            , sa34.predict(input_data)\n",
    "            , sa35.predict(input_data)\n",
    "            , sa36.predict(input_data)\n",
    "            , sa37.predict(input_data)\n",
    "            , sa38.predict(input_data)\n",
    "            , textNet.predict(input_data)]\n",
    "#     print(concat_sa_2)\n",
    "    \n",
    "def ReduceLROnPlateau(decay=0.5):\n",
    "    old_lr = K.eval(parallel_model.optimizer.lr)\n",
    "    new_lr = old_lr * decay\n",
    "    return old_lr,new_lr"
   ]
  },
  {
   "cell_type": "code",
   "execution_count": 57,
   "metadata": {},
   "outputs": [],
   "source": [
    "# ReduceLROnPlateau()"
   ]
  },
  {
   "cell_type": "code",
   "execution_count": 58,
   "metadata": {},
   "outputs": [],
   "source": [
    "patience = 2\n",
    "patience_counter = 0\n",
    "min_delta = 0.001"
   ]
  },
  {
   "cell_type": "code",
   "execution_count": null,
   "metadata": {
    "scrolled": true
   },
   "outputs": [
    {
     "name": "stdout",
     "output_type": "stream",
     "text": [
      "train_iterations:547; val_iterations:79\n"
     ]
    },
    {
     "data": {
      "application/vnd.jupyter.widget-view+json": {
       "model_id": "38ded11d6f9e48efb2843a70a6b77b3f",
       "version_major": 2,
       "version_minor": 0
      },
      "text/plain": [
       "HBox(children=(FloatProgress(value=0.0, description='Epoch', max=50.0, style=ProgressStyle(description_width='…"
      ]
     },
     "metadata": {},
     "output_type": "display_data"
    },
    {
     "data": {
      "application/vnd.jupyter.widget-view+json": {
       "model_id": "d67878579c1840e5a70552a806650325",
       "version_major": 2,
       "version_minor": 0
      },
      "text/plain": [
       "HBox(children=(FloatProgress(value=0.0, description='Train_Iter', max=547.0, style=ProgressStyle(description_w…"
      ]
     },
     "metadata": {},
     "output_type": "display_data"
    }
   ],
   "source": [
    "from IPython.display import clear_output\n",
    "\n",
    "# counter = 0\n",
    "\n",
    "# history = model.fit_generator(train_gen\n",
    "#                               ,epochs=EPOCHS\n",
    "#                               ,steps_per_epoch=4\n",
    "#                               ,validation_data=val_gen\n",
    "#                               ,validation_steps=2\n",
    "#                               ,callbacks=[mc])\n",
    "\n",
    "hist_tl,hist_ta,hist_vl,hist_va,tt,lr_arr = [],[],[],[],[],[]\n",
    "window = 64\n",
    "val_window = 256\n",
    "train_iterations = int(np.ceil(len(train_images_list)/train_batch_size))\n",
    "val_iterations = int(np.ceil(len(test_images_list)/val_batch_size))\n",
    "\n",
    "print('train_iterations:{0}; val_iterations:{1}'.format(train_iterations,val_iterations))\n",
    "min_v_l,min_v_a,min_t_a = 100,0,0\n",
    "t_l, t_a, v_l, v_a = 0, 0, 4.01, 0\n",
    "\n",
    "\n",
    "train_gen = datagen(train_images_list,batch_size=train_batch_size)\n",
    "val_gen = datagen(val_images_list,batch_size=val_batch_size)\n",
    "\n",
    "\n",
    "for e in tqdm(np.arange(start=0,stop=EPOCHS),desc='Epoch'):\n",
    "    start_time = time()\n",
    "    tl,ta,vl,va = [],[],[],[]\n",
    "    for im in tqdm(range(train_iterations),desc='Train_Iter',leave=False):\n",
    "        tx,ty = next(train_gen)\n",
    "        inputs1 = tx['image_input']\n",
    "        inputs2 = tx['words_input']\n",
    "        inputs3 = tx['padding_masks']\n",
    "#         print(inputs3.shape)\n",
    "        labels = ty['target_word']        \n",
    "        for i in np.arange(len(inputs1),step=window):\n",
    "            \n",
    "            loss,accuracy = parallel_model.train_on_batch([inputs1[i:i+window],inputs2[i:i+window]],labels[i:i+window])\n",
    "#             concat_sa_2,concat_sa_3,concat_sa_4,textNet_output = CheckSelfAttention([inputs2[i:i+window],inputs3[i:i+window]],labels[i:i+window])            \n",
    "            \n",
    "            tl.append(loss)\n",
    "            ta.append(accuracy)\n",
    "            print('Train Iter:{0:3d}/{1}, tr_loss:{2:.4f}, tr_acc:{3:.4f} (min_v_loss:{4:.4f})'\n",
    "                  .format(i+1,len(inputs1)\n",
    "                          , np.mean(tl)\n",
    "                          , np.mean(ta)\n",
    "                          , min_v_l), end = '\\r')\n",
    "#             break\n",
    "#         break\n",
    "#     break\n",
    "    for im in tqdm(range(val_iterations),desc='Val_Iter',leave=False):\n",
    "        vx,vy = next(val_gen)\n",
    "        inputs1 = vx['image_input']\n",
    "        inputs2 = vx['words_input']\n",
    "        inputs3 = vx['padding_masks']\n",
    "        labels = vy['target_word']\n",
    "        for i in np.arange(len(inputs1),step=val_window):\n",
    "            loss,accuracy = parallel_model.evaluate(verbose=0,x=[inputs1[i:i+val_window],inputs2[i:i+val_window]],y=labels[i:i+val_window])\n",
    "            vl.append(loss)\n",
    "            va.append(accuracy)\n",
    "    v_l = np.round(np.mean(vl),4)\n",
    "    v_a = np.round(np.mean(va),4)\n",
    "    t_l = np.round(np.mean(tl),4)\n",
    "    t_a = np.round(np.mean(ta),4)\n",
    "    \n",
    "    hist_tl.append(t_l)\n",
    "    hist_ta.append(t_a)\n",
    "    hist_vl.append(v_l)\n",
    "    hist_va.append(v_a)\n",
    "    if len(hist_tl)>=3:\n",
    "        if hist_tl[-2]-hist_tl[-1]<min_delta:\n",
    "            patience_counter+=1\n",
    "            if patience==patience_counter:\n",
    "                old_lr,lr = ReduceLROnPlateau()\n",
    "                patience_counter = 0\n",
    "                K.set_value(parallel_model.optimizer.lr,lr)\n",
    "                K.set_value(model.optimizer.lr,lr)\n",
    "    lr_arr.append(lr)\n",
    "    if v_l < min_v_l:\n",
    "        min_v_l = v_l\n",
    "        model.save_weights(filepath='../checkpoints/{0}_vis_gen.h5'.format(model_name),overwrite=True)\n",
    "        imgNet.save_weights(filepath='../checkpoints/{0}_{1}_img_module_vis_gen.h5'.format(img_arch,text_arch),overwrite=True)\n",
    "        textNet.save_weights(filepath='../checkpoints/{0}_{1}_text_module_vis_gen.h5'.format(img_arch,text_arch),overwrite=True)\n",
    "    clear_output(wait=True)\n",
    "    end_time = time()\n",
    "    time_taken = end_time-start_time\n",
    "    tt.append(time_taken)\n",
    "    with open('../tf_runs/log.csv','a') as f:\n",
    "        data = '{0:3d}/{7},{1:.4f},{2:.4f},{3:.4f},{4:.4f},{6:.4f},{8:.6f}'.format(e+1, t_l, t_a, v_l, v_a, np.mean(tt),min_v_l,EPOCHS,lr)\n",
    "        t = strftime(\"%m/%d/%Y %H:%M:%S\",localtime())\n",
    "        f.writelines('\\n[{0}],{1},{2}'.format(t, model_name,data))\n",
    "    print('E:{0:3d}/{7}, tr_loss:{1:.4f}, tr_acc:{2:.4f}, v_loss:{3:.4f}, v_acc:{4:.4f}, lr:{8:.6f} [{5:.2f} s/e] (min_v_loss:{6:.4f})'.format(e+1, t_l, t_a, v_l, v_a, np.mean(tt),min_v_l,EPOCHS,lr))"
   ]
  },
  {
   "cell_type": "code",
   "execution_count": null,
   "metadata": {},
   "outputs": [],
   "source": [
    "concat_sa_2,concat_sa_3,concat_sa_4,textNet_output = CheckSelfAttention([inputs2[i:i+window],inputs3[i:i+window]],labels[i:i+window])            \n",
    "# "
   ]
  },
  {
   "cell_type": "code",
   "execution_count": null,
   "metadata": {
    "scrolled": true
   },
   "outputs": [],
   "source": [
    "pd.DataFrame(concat_sa_2[1])"
   ]
  },
  {
   "cell_type": "code",
   "execution_count": null,
   "metadata": {
    "scrolled": true
   },
   "outputs": [],
   "source": [
    "pd.DataFrame(concat_sa_3[1])"
   ]
  },
  {
   "cell_type": "code",
   "execution_count": null,
   "metadata": {
    "scrolled": true
   },
   "outputs": [],
   "source": [
    "# pd.DataFrame(concat_sa_4[1])"
   ]
  },
  {
   "cell_type": "code",
   "execution_count": null,
   "metadata": {
    "scrolled": true
   },
   "outputs": [],
   "source": [
    "pd.DataFrame(textNet_output[1])"
   ]
  },
  {
   "cell_type": "code",
   "execution_count": null,
   "metadata": {},
   "outputs": [],
   "source": [
    "# with open('../tf_runs/log.csv','a') as f:\n",
    "#     data = '{0:3d}/{7},{1:.4f},{2:.4f},{3:.4f},{4:.4f},{6:.4f}'.format(e+1, t_l, t_a, v_l, v_a, np.mean(tt),min_v_l,EPOCHS)\n",
    "#     t = strftime(\"%m/%d/%Y %H:%M:%S\",localtime())\n",
    "#     f.writelines('\\n[{0}],{1},{2}'.format(t, model_name,data))\n",
    "# data"
   ]
  },
  {
   "cell_type": "code",
   "execution_count": null,
   "metadata": {},
   "outputs": [],
   "source": [
    "history = pd.DataFrame()\n",
    "history['tr_acc'] = hist_ta\n",
    "history['val_acc'] = hist_va\n",
    "history['tr_loss'] = hist_tl\n",
    "history['val_loss'] = hist_vl\n",
    "display(history[['tr_acc','val_acc']].plot())\n",
    "display(history[['tr_loss','val_loss']].plot())\n",
    "history.to_csv('../tf_runs/{0}_x_delete.csv'.format(model_name),index=False)"
   ]
  },
  {
   "cell_type": "markdown",
   "metadata": {},
   "source": [
    "# Evaluate"
   ]
  },
  {
   "cell_type": "code",
   "execution_count": null,
   "metadata": {},
   "outputs": [],
   "source": [
    "model.load_weights('../checkpoints/{0}.h5'.format(model_name))"
   ]
  },
  {
   "cell_type": "code",
   "execution_count": null,
   "metadata": {
    "scrolled": true
   },
   "outputs": [],
   "source": [
    "\n",
    "def predict_captions(image):\n",
    "    start_word = [\"startseq\"]\n",
    "    mask = np.zeros((1,max_wlen,1))+0.001\n",
    "    counter=0\n",
    "    while True:\n",
    "        counter-=1\n",
    "        mask[:,counter,:]=1.0\n",
    "        print(np.sum(mask))\n",
    "        par_caps = [w_to_co[i] for i in start_word]\n",
    "        par_caps = sequence.pad_sequences([par_caps], maxlen=max_wlen, padding='pre',value=0)\n",
    "        preds = model.predict([image, np.array(par_caps),mask])\n",
    "#         print(preds.shape)\n",
    "        idx = preds.argmax(-1)\n",
    "        word_pred = co_to_w[idx[0]]\n",
    "#         print(par_caps)\n",
    "        start_word.append(word_pred)\n",
    "        \n",
    "        if word_pred == \"endseq\" or len(start_word) > max_wlen:\n",
    "            break\n",
    "            \n",
    "    return ' '.join(start_word[1:-1])\n",
    "\n",
    "# print('Predicted:',' '.join(out_text))"
   ]
  },
  {
   "cell_type": "code",
   "execution_count": null,
   "metadata": {},
   "outputs": [],
   "source": [
    "def beam_search_predictions(image, beam_index = 3):\n",
    "    start = [w_to_co[\"startseq\"]]\n",
    "    \n",
    "    # start_word[0][0] = index of the starting word\n",
    "    # start_word[0][1] = probability of the word predicted\n",
    "    start_word = [[start, 0.0]]\n",
    "    mask = np.zeros((1,max_wlen,1))+0.001\n",
    "    counter=0\n",
    "    while len(start_word[0][0]) < max_wlen:\n",
    "        temp = []\n",
    "        counter-=1\n",
    "        mask[:,counter,:]=1.0\n",
    "#         print(np.sum(mask))\n",
    "        for s in start_word:\n",
    "            \n",
    "            par_caps = sequence.pad_sequences([s[0]], maxlen=max_wlen, padding='pre', value=0)\n",
    "            preds = model.predict([image, np.array(par_caps)])\n",
    "            \n",
    "            # Getting the top <beam_index>(n) predictions\n",
    "            word_preds = np.argsort(preds[0])[-beam_index:]\n",
    "            \n",
    "            # creating a new list so as to put them via the model again\n",
    "            for w in word_preds:\n",
    "                next_cap, prob = s[0][:], s[1]\n",
    "                next_cap.append(w)\n",
    "                prob += preds[0][w]\n",
    "                temp.append([next_cap, prob])\n",
    "                    \n",
    "        start_word = temp\n",
    "        # Sorting according to the probabilities\n",
    "        start_word = sorted(start_word, reverse=False, key=lambda l: l[1])\n",
    "        # Getting the top words\n",
    "        start_word = start_word[-beam_index:]\n",
    "    \n",
    "    start_word = start_word[-1][0]\n",
    "    intermediate_caption = [co_to_w[i] for i in start_word]\n",
    "\n",
    "    final_caption = []\n",
    "    \n",
    "    for i in intermediate_caption:\n",
    "        if i != 'endseq':\n",
    "            final_caption.append(i)\n",
    "        else:\n",
    "            break\n",
    "    \n",
    "    final_caption = ' '.join(final_caption[1:])\n",
    "    return final_caption"
   ]
  },
  {
   "cell_type": "code",
   "execution_count": null,
   "metadata": {
    "scrolled": true
   },
   "outputs": [],
   "source": [
    "ref_sents = []\n",
    "pred_sents = []\n",
    "for counter in tqdm(range(len(test_images_list))):\n",
    "    testx,testy = next(test_gen)\n",
    "    photo = testx['image_input'][0]\n",
    "#     plt.imshow(photo)\n",
    "#     plt.show()\n",
    "    photo = np.expand_dims(photo,0)\n",
    "    \n",
    "#     print('Actual:',testy['actual_sentence'][0])\n",
    "#     print()\n",
    "    # st = time()\n",
    "    # pred_greedy = predict_captions(photo)\n",
    "    # et = time()\n",
    "    # print('Greedy Predicted:{0},[{1:.2f} s]'.format(pred_greedy,et-st))\n",
    "#     st = time()\n",
    "    pred_bm5 = beam_search_predictions(photo,beam_index=5)\n",
    "#     et = time()\n",
    "#     print('Beam-5 Predicted:{0},[{1:.2f} s]'.format(pred_bm5,et-st))\n",
    "    ref_sents.append(testy['actual_sentence'][0])\n",
    "    pred_sents.append(pred_bm5)\n",
    "    if counter==10:\n",
    "        break"
   ]
  },
  {
   "cell_type": "code",
   "execution_count": null,
   "metadata": {
    "scrolled": true
   },
   "outputs": [],
   "source": [
    "\n",
    "# st = time()\n",
    "# pred_greedy = predict_captions(photo)\n",
    "# et = time()\n",
    "# print('Greedy Predicted:{0},[{1:.2f} s]'.format(pred_greedy,et-st))\n",
    "\n",
    "# st = time()\n",
    "# pred_bm3 = beam_search_predictions(photo,beam_index=3)\n",
    "# et = time()\n",
    "# print('Beam-3 Predicted:{0},[{1:.2f} s]'.format(pred_bm3,et-st))\n",
    "\n",
    "# st = time()\n",
    "# pred_bm5 = beam_search_predictions(photo,beam_index=5)\n",
    "# et = time()\n",
    "# print('Beam-5 Predicted:{0},[{1:.2f} s]'.format(pred_bm5,et-st))\n",
    "\n",
    "# st = time()\n",
    "# pred_bm7 = beam_search_predictions(photo,beam_index=7)\n",
    "# et = time()\n",
    "# print('Beam-7 Predicted:{0},[{1:.2f} s]'.format(pred_bm7,et-st))\n",
    "pd.set_option('display.max_colwidth', -1)\n",
    "df_pred = pd.DataFrame()\n",
    "df_pred['Ref'] = ref_sents\n",
    "df_pred['Pred'] = pred_sents\n",
    "df_pred"
   ]
  },
  {
   "cell_type": "code",
   "execution_count": null,
   "metadata": {},
   "outputs": [],
   "source": [
    "from nltk.translate.bleu_score import sentence_bleu\n",
    "from rouge import Rouge\n",
    "rouge = Rouge()\n",
    "reference = nlp(str(vy['actual_sentence'][0]))\n",
    "reference = [[str(x) for x in list(reference)]]\n",
    "\n",
    "\n",
    "# candidate = nlp(pred_greedy)\n",
    "# candidate = [str(x) for x in list(candidate)]\n",
    "# df_result['greedy'] = [sentence_bleu(reference, candidate, weights=(1, 0, 0, 0))\n",
    "#                       ,sentence_bleu(reference, candidate, weights=(0.5, 0.5, 0, 0))\n",
    "#                       ,sentence_bleu(reference, candidate, weights=(0.33, 0.33, 0.33, 0))\n",
    "#                       ,sentence_bleu(reference, candidate, weights=(0.25, 0.25, 0.25, 0.25))]\n",
    "\n",
    "# candidate = nlp(pred_bm3)\n",
    "# candidate = [str(x) for x in list(candidate)]\n",
    "# df_result['bm3'] = [sentence_bleu(reference, candidate, weights=(1, 0, 0, 0))\n",
    "#                       ,sentence_bleu(reference, candidate, weights=(0.5, 0.5, 0, 0))\n",
    "#                       ,sentence_bleu(reference, candidate, weights=(0.33, 0.33, 0.33, 0))\n",
    "#                       ,sentence_bleu(reference, candidate, weights=(0.25, 0.25, 0.25, 0.25))]\n",
    "row = []\n",
    "for i in range(len(ref_sents)):\n",
    "    r = ref_sents[i]\n",
    "    c = pred_sents[i]\n",
    "    reference = nlp(str(r))\n",
    "    reference = [[str(x) for x in list(reference)]]\n",
    "    candidate = nlp(str(c))\n",
    "    candidate = [str(x) for x in list(candidate)]\n",
    "    row.append([sentence_bleu(reference, candidate, weights=(1, 0, 0, 0))\n",
    "                          ,sentence_bleu(reference, candidate, weights=(0.5, 0.5, 0, 0))\n",
    "                          ,sentence_bleu(reference, candidate, weights=(0.33, 0.33, 0.33, 0))\n",
    "                          ,sentence_bleu(reference, candidate, weights=(0.25, 0.25, 0.25, 0.25))\n",
    "                          ,rouge.get_scores(hyps=c,refs=r)[0]['rouge-l']['f']])\n",
    "\n",
    "\n",
    "# candidate = nlp(pred_bm7)\n",
    "# candidate = [str(x) for x in list(candidate)]\n",
    "# df_result['bm7'] = [sentence_bleu(reference, candidate, weights=(1, 0, 0, 0))\n",
    "#                       ,sentence_bleu(reference, candidate, weights=(0.5, 0.5, 0, 0))\n",
    "#                       ,sentence_bleu(reference, candidate, weights=(0.33, 0.33, 0.33, 0))\n",
    "#                       ,sentence_bleu(reference, candidate, weights=(0.25, 0.25, 0.25, 0.25))]\n",
    "df_result = pd.DataFrame(row)\n",
    "df_result.columns = ['BLEU-1','BLEU-2','BLEU-3','BLEU-4','ROUGE-L']\n",
    "df_result=df_result.round(3)"
   ]
  },
  {
   "cell_type": "code",
   "execution_count": null,
   "metadata": {},
   "outputs": [],
   "source": [
    "# ref_sents,pred_sents\n",
    "df_result.mean()"
   ]
  },
  {
   "cell_type": "code",
   "execution_count": null,
   "metadata": {
    "scrolled": true
   },
   "outputs": [],
   "source": [
    "pd.DataFrame(row)"
   ]
  },
  {
   "cell_type": "code",
   "execution_count": null,
   "metadata": {},
   "outputs": [],
   "source": [
    "\n",
    "reference = str(vy['actual_sentence'][0])\n",
    "# reference = [[str(x) for x in list(reference)]]\n",
    "candidate = pre\n",
    "# candidate = [str(x) for x in list(candidate)]\n",
    "ro = rouge.get_scores(hyps=candidate,refs=reference)\n",
    "ro[0]['ROUGE-L']['f']"
   ]
  },
  {
   "cell_type": "code",
   "execution_count": null,
   "metadata": {},
   "outputs": [],
   "source": [
    "pd.DataFrame(ro[0]).T"
   ]
  },
  {
   "cell_type": "code",
   "execution_count": null,
   "metadata": {},
   "outputs": [],
   "source": [
    "from pycocoevalcap.bleu.bleu import Bleu\n",
    "from pycocoevalcap.rouge.rouge import Rouge\n",
    "from pycocoevalcap.cider.cider import Cider\n",
    "from pycocoevalcap.meteor.meteor import Meteor"
   ]
  },
  {
   "cell_type": "code",
   "execution_count": null,
   "metadata": {},
   "outputs": [],
   "source": [
    "def calc_scores(ref, hypo):\n",
    "    \"\"\"\n",
    "    ref, dictionary of reference sentences (id, sentence)\n",
    "    hypo, dictionary of hypothesis sentences (id, sentence)\n",
    "    score, dictionary of scores\n",
    "    \"\"\"\n",
    "    scorers = [\n",
    "#         (Bleu(4), [\"Bleu_1\", \"Bleu_2\", \"Bleu_3\", \"Bleu_4\"]),\n",
    "#         (Meteor(),\"METEOR\"),\n",
    "        (Rouge(), \"ROUGE_L\"),\n",
    "        (Cider(), \"CIDEr\")\n",
    "    ]\n",
    "    final_scores = {}\n",
    "    for scorer, method in scorers:\n",
    "        score, scores = scorer.compute_score(ref, hypo)\n",
    "        if type(score) == list:\n",
    "            for m, s in zip(method, score):\n",
    "                final_scores[m] = s\n",
    "        else:\n",
    "            final_scores[method] = score\n",
    "    return final_scores "
   ]
  },
  {
   "cell_type": "code",
   "execution_count": null,
   "metadata": {},
   "outputs": [],
   "source": [
    "calc_scores(ref=ref_sents,hypo=pred_sents)"
   ]
  },
  {
   "cell_type": "code",
   "execution_count": null,
   "metadata": {},
   "outputs": [],
   "source": [
    "from nlgeval import NLGEval\n",
    "nlgeval = NLGEval()  # loads the models\n"
   ]
  },
  {
   "cell_type": "code",
   "execution_count": null,
   "metadata": {},
   "outputs": [],
   "source": [
    "references = []\n",
    "hypothesis = []\n",
    "import pickle\n",
    "import numpy as np\n",
    "with open('../dataset/chestxray_cnn_attention_decoder_ref_sents.p', 'rb') as file:\n",
    "    # store the data as binary data stream\n",
    "    references=pickle.load(file)\n",
    "with open('../dataset/chestxray_cnn_attention_decoder_pred_sents.p', 'rb') as file:\n",
    "    # store the data as binary data stream\n",
    "    hypothesis=pickle.load(file)\n",
    "    \n",
    "references=np.array(references)\n",
    "hypothesis=np.array(hypothesis)\n",
    "references[:2],hypothesis[:2]"
   ]
  },
  {
   "cell_type": "code",
   "execution_count": null,
   "metadata": {},
   "outputs": [],
   "source": [
    "refs=np.expand_dims(ref_sents,1)\n",
    "# hyps=np.expand_dims(hypothesis,0)\n",
    "refs=refs.tolist()\n",
    "# hyps=hyps.tolist()\n",
    "hypothesis = pred_sents\n",
    "len(refs),len(hypothesis)"
   ]
  },
  {
   "cell_type": "code",
   "execution_count": null,
   "metadata": {},
   "outputs": [],
   "source": [
    "metrics_dict = nlgeval.compute_metrics(refs, hypothesis)"
   ]
  },
  {
   "cell_type": "code",
   "execution_count": null,
   "metadata": {},
   "outputs": [],
   "source": [
    "r = {idx: strippedlines for (idx, strippedlines) in enumerate(refs)}"
   ]
  },
  {
   "cell_type": "code",
   "execution_count": null,
   "metadata": {},
   "outputs": [],
   "source": [
    "len(r)"
   ]
  },
  {
   "cell_type": "code",
   "execution_count": null,
   "metadata": {},
   "outputs": [],
   "source": [
    "h = {idx: [lines.strip()] for (idx, lines) in enumerate(hypothesis)}"
   ]
  },
  {
   "cell_type": "code",
   "execution_count": null,
   "metadata": {},
   "outputs": [],
   "source": [
    "len(h)"
   ]
  },
  {
   "cell_type": "code",
   "execution_count": null,
   "metadata": {},
   "outputs": [],
   "source": [
    "refs[0],hypothesis[0]"
   ]
  },
  {
   "cell_type": "code",
   "execution_count": null,
   "metadata": {},
   "outputs": [],
   "source": [
    "from nlgeval import compute_individual_metrics\n"
   ]
  },
  {
   "cell_type": "code",
   "execution_count": null,
   "metadata": {},
   "outputs": [],
   "source": [
    "metrics_dict = compute_individual_metrics(refs[1], hypothesis[1])"
   ]
  },
  {
   "cell_type": "code",
   "execution_count": null,
   "metadata": {},
   "outputs": [],
   "source": [
    "import pandas as pd\n",
    "df = pd.DataFrame.from_dict(metrics_dict,orient='index').T"
   ]
  },
  {
   "cell_type": "code",
   "execution_count": null,
   "metadata": {},
   "outputs": [],
   "source": [
    "df = pd.DataFrame()\n",
    "for i in range(300):\n",
    "    m = nlgeval.compute_individual_metrics(refs[i], hypothesis[i])\n",
    "    d = pd.DataFrame.from_dict(m,orient='index').T\n",
    "    df = df.append(d)\n",
    "    print(np.around(i*100//300,2),end='\\r')"
   ]
  },
  {
   "cell_type": "code",
   "execution_count": null,
   "metadata": {},
   "outputs": [],
   "source": [
    "df.shape"
   ]
  },
  {
   "cell_type": "code",
   "execution_count": null,
   "metadata": {},
   "outputs": [],
   "source": [
    "df.mean()"
   ]
  },
  {
   "cell_type": "code",
   "execution_count": null,
   "metadata": {},
   "outputs": [],
   "source": [
    "testx,testy = next(test_gen)\n",
    "plt.imshow(testx['image_input'][1])"
   ]
  },
  {
   "cell_type": "code",
   "execution_count": null,
   "metadata": {},
   "outputs": [],
   "source": [
    "testx.keys()"
   ]
  },
  {
   "cell_type": "code",
   "execution_count": null,
   "metadata": {},
   "outputs": [],
   "source": [
    "for layer  in model.layers:\n",
    "    print(layer.name)"
   ]
  },
  {
   "cell_type": "code",
   "execution_count": null,
   "metadata": {},
   "outputs": [],
   "source": [
    "model_img2_text_ca_1 = Model(model.inputs,model.get_layer('img2text_1').output)\n",
    "model_img2_text_ca_2 = Model(model.inputs,model.get_layer('img2text_2').output)\n",
    "model_img2_text_ca_3 = Model(model.inputs,model.get_layer('img2text_3').output)\n",
    "model_img2_text_ca_4 = Model(model.inputs,model.get_layer('img2text_4').output)\n",
    "# model_text2_img_ca_1 = Model(model.inputs,model.get_layer('text2img_1').output)\n",
    "# model_text2_img_ca_2 = Model(model.inputs,model.get_layer('text2img_2').output)\n",
    "# model_text2_img_ca_3 = Model(model.inputs,model.get_layer('text2img_3').output)\n",
    "# model_text2_img_ca_4 = Model(model.inputs,model.get_layer('text2img_4').output)"
   ]
  },
  {
   "cell_type": "code",
   "execution_count": null,
   "metadata": {},
   "outputs": [],
   "source": [
    "fi2t_1,bi2t_1 = model_img2_text_ca_1.predict(testx)\n",
    "fi2t_2,bi2t_2 = model_img2_text_ca_2.predict(testx)\n",
    "fi2t_3,bi2t_3 = model_img2_text_ca_3.predict(testx)\n",
    "fi2t_4,bi2t_4 = model_img2_text_ca_4.predict(testx)\n",
    "# ft2i_1,bt2i_1 = model_text2_img_ca_1.predict(testx)\n",
    "# ft2i_2,bt2i_2 = model_text2_img_ca_2.predict(testx)\n",
    "# ft2i_3,bt2i_3 = model_text2_img_ca_3.predict(testx)\n",
    "# ft2i_4,bt2i_4 = model_text2_img_ca_4.predict(testx)"
   ]
  },
  {
   "cell_type": "code",
   "execution_count": null,
   "metadata": {},
   "outputs": [],
   "source": [
    "fi2t_1.shape,bi2t_1.shape"
   ]
  },
  {
   "cell_type": "code",
   "execution_count": null,
   "metadata": {},
   "outputs": [],
   "source": [
    "# bt2i_add = bt2i_1+bt2i_1+bt2i_1+bt2i_1\n",
    "bi2t_add = bi2t_1+bi2t_1+bi2t_1+bi2t_1"
   ]
  },
  {
   "cell_type": "code",
   "execution_count": null,
   "metadata": {},
   "outputs": [],
   "source": [
    "# bt2i_add.shape\n",
    "bi2t_add.shape"
   ]
  },
  {
   "cell_type": "code",
   "execution_count": null,
   "metadata": {
    "scrolled": true
   },
   "outputs": [],
   "source": [
    "# for j in range(bt2i_add.shape[0]):    \n",
    "#     i=testx['words_input'][j][-1]\n",
    "#     if i!=0:\n",
    "#         print(j,':',co_to_w[i])\n",
    "#         plt.imshow(bt2i_add[j])\n",
    "#         plt.show()\n",
    "for j in range(bi2t_add.shape[0]):    \n",
    "    i=testx['words_input'][j][-1]\n",
    "    if i!=0:\n",
    "        print(j,':',co_to_w[i])\n",
    "        plt.imshow(bi2t_add[j])\n",
    "        plt.show()"
   ]
  },
  {
   "cell_type": "code",
   "execution_count": null,
   "metadata": {
    "scrolled": true
   },
   "outputs": [],
   "source": [
    "\n",
    "for i in range(pd.DataFrame(bt2i_add[j]).shape[0]):\n",
    "    print('Row:{0},Max Col Idx:{1},Max Col Value:{2}'.format(i,np.argmax(bt2i_add[j][i]),np.max(bt2i_add[j][i])))"
   ]
  },
  {
   "cell_type": "code",
   "execution_count": null,
   "metadata": {},
   "outputs": [],
   "source": [
    "plt.imshow(cv2.resize(bt2i_add[j][57].reshape((8,8)),(256,256),cv2.INTER_CUBIC),cmap='jet')"
   ]
  },
  {
   "cell_type": "code",
   "execution_count": null,
   "metadata": {},
   "outputs": [],
   "source": [
    "plt.imshow(testx['image_input'][1])\n",
    "plt.imshow(cv2.resize(bt2i_add[j][57].reshape((8,8)),(256,256),cv2.INTER_CUBIC),cmap='jet',alpha=0.2)"
   ]
  },
  {
   "cell_type": "code",
   "execution_count": null,
   "metadata": {},
   "outputs": [],
   "source": [
    "testx['words_input'].shape"
   ]
  },
  {
   "cell_type": "code",
   "execution_count": null,
   "metadata": {},
   "outputs": [],
   "source": []
  }
 ],
 "metadata": {
  "kernelspec": {
   "display_name": "Python (tf-gpu)",
   "language": "python",
   "name": "tf-gpu"
  },
  "language_info": {
   "codemirror_mode": {
    "name": "ipython",
    "version": 3
   },
   "file_extension": ".py",
   "mimetype": "text/x-python",
   "name": "python",
   "nbconvert_exporter": "python",
   "pygments_lexer": "ipython3",
   "version": "3.5.6"
  },
  "widgets": {
   "application/vnd.jupyter.widget-state+json": {
    "state": {
     "010ddc4d28bb400086c0f716b1b05081": {
      "model_module": "@jupyter-widgets/controls",
      "model_module_version": "1.4.0",
      "model_name": "HTMLModel",
      "state": {
       "layout": "IPY_MODEL_25ba7d4374d64d1ea836263eb885ff1f",
       "style": "IPY_MODEL_a77b20594717439c857484463f15d685",
       "value": " 87/87 [53:44&lt;00:00, 38.10s/it]"
      }
     },
     "0280fe5d1eea4b63be2e80d2bac721e2": {
      "model_module": "@jupyter-widgets/base",
      "model_module_version": "1.1.0",
      "model_name": "LayoutModel",
      "state": {}
     },
     "03bc49a6777843978e3bd9ab0746c4ea": {
      "model_module": "@jupyter-widgets/base",
      "model_module_version": "1.1.0",
      "model_name": "LayoutModel",
      "state": {}
     },
     "0472670dccd64233b3402e3ec774781b": {
      "model_module": "@jupyter-widgets/base",
      "model_module_version": "1.1.0",
      "model_name": "LayoutModel",
      "state": {}
     },
     "052876b3ff7f489388a43f2109559840": {
      "model_module": "@jupyter-widgets/base",
      "model_module_version": "1.1.0",
      "model_name": "LayoutModel",
      "state": {}
     },
     "0618ddd48aa24064bfa7f7aea072302c": {
      "model_module": "@jupyter-widgets/base",
      "model_module_version": "1.1.0",
      "model_name": "LayoutModel",
      "state": {}
     },
     "067983ddd1564ec598fae1fd9300af41": {
      "model_module": "@jupyter-widgets/base",
      "model_module_version": "1.1.0",
      "model_name": "LayoutModel",
      "state": {}
     },
     "0686955cb1b445a68a2a57b2dbaa6d2f": {
      "model_module": "@jupyter-widgets/controls",
      "model_module_version": "1.4.0",
      "model_name": "ProgressStyleModel",
      "state": {
       "description_width": "initial"
      }
     },
     "07ed5e3500a74d40b42007338756ab20": {
      "model_module": "@jupyter-widgets/controls",
      "model_module_version": "1.4.0",
      "model_name": "FloatProgressModel",
      "state": {
       "description": "Val_Iter: 100%",
       "layout": "IPY_MODEL_d5d90296b40a4357acc9ef4fedffddd9",
       "max": 11,
       "style": "IPY_MODEL_7fc0a03f8e284e94b24bf0f7368b30f6",
       "value": 11
      }
     },
     "08055ccfabde4b74823c630e8d8fccc8": {
      "model_module": "@jupyter-widgets/controls",
      "model_module_version": "1.4.0",
      "model_name": "HTMLModel",
      "state": {
       "layout": "IPY_MODEL_179e763d2a5a45f69d34337d684acb56",
       "style": "IPY_MODEL_98cb38a225034c839f812ed49bc98ac2",
       "value": " 11/11 [03:55&lt;00:00, 21.44s/it]"
      }
     },
     "0990ad529e90440894fecbbd7a2ada24": {
      "model_module": "@jupyter-widgets/controls",
      "model_module_version": "1.4.0",
      "model_name": "ProgressStyleModel",
      "state": {
       "description_width": "initial"
      }
     },
     "0a175d8e29c04840a4de3eadcd496bf3": {
      "model_module": "@jupyter-widgets/controls",
      "model_module_version": "1.4.0",
      "model_name": "DescriptionStyleModel",
      "state": {
       "description_width": ""
      }
     },
     "0a4c152367ec46d5b59b5b79e9e443a2": {
      "model_module": "@jupyter-widgets/base",
      "model_module_version": "1.1.0",
      "model_name": "LayoutModel",
      "state": {}
     },
     "0b860d367e804ec2b99a27f85128bbaf": {
      "model_module": "@jupyter-widgets/controls",
      "model_module_version": "1.4.0",
      "model_name": "DescriptionStyleModel",
      "state": {
       "description_width": ""
      }
     },
     "0c4f07398e294335bc2e8a7e16fea46f": {
      "model_module": "@jupyter-widgets/controls",
      "model_module_version": "1.4.0",
      "model_name": "DescriptionStyleModel",
      "state": {
       "description_width": ""
      }
     },
     "0ce5f1018d3c41778f8fab81aec0caf6": {
      "model_module": "@jupyter-widgets/controls",
      "model_module_version": "1.4.0",
      "model_name": "FloatProgressModel",
      "state": {
       "description": "Val_Iter: 100%",
       "layout": "IPY_MODEL_d3e9397743a54c8183dd5c423f86b308",
       "max": 11,
       "style": "IPY_MODEL_4effd6426d614c288a8443c510b2a87b",
       "value": 11
      }
     },
     "0d928394f999419ea2aef54232a33030": {
      "model_module": "@jupyter-widgets/controls",
      "model_module_version": "1.4.0",
      "model_name": "HBoxModel",
      "state": {
       "children": [
        "IPY_MODEL_3574245a70da48d69ba2da2869262c9e",
        "IPY_MODEL_64c5b696c583401189d6062689629b0f"
       ],
       "layout": "IPY_MODEL_3ac70d2d65cf45a6aa51391d273af503"
      }
     },
     "0dfba8164d784be886b31fae8ec54e67": {
      "model_module": "@jupyter-widgets/controls",
      "model_module_version": "1.4.0",
      "model_name": "DescriptionStyleModel",
      "state": {
       "description_width": ""
      }
     },
     "0e522d1d81e94f71a55592563548c143": {
      "model_module": "@jupyter-widgets/base",
      "model_module_version": "1.1.0",
      "model_name": "LayoutModel",
      "state": {}
     },
     "103af0ab7c7b4c30b7a8b13026f4025d": {
      "model_module": "@jupyter-widgets/controls",
      "model_module_version": "1.4.0",
      "model_name": "HTMLModel",
      "state": {
       "layout": "IPY_MODEL_65af2c1ce6cc4a7db329d01b71a01e2e",
       "style": "IPY_MODEL_4c1fd3010ec4457c92504ac15f707a23",
       "value": " 11/11 [03:59&lt;00:00, 21.59s/it]"
      }
     },
     "114db825e35e4419a53098ee3f75e961": {
      "model_module": "@jupyter-widgets/controls",
      "model_module_version": "1.4.0",
      "model_name": "HBoxModel",
      "state": {
       "children": [
        "IPY_MODEL_23eca8db2f42440083f030ef059c1f5a",
        "IPY_MODEL_e23abb7e8ed844639541b3d321db77d6"
       ],
       "layout": "IPY_MODEL_03bc49a6777843978e3bd9ab0746c4ea"
      }
     },
     "128c9f0683a8419db700394458b19137": {
      "model_module": "@jupyter-widgets/controls",
      "model_module_version": "1.4.0",
      "model_name": "DescriptionStyleModel",
      "state": {
       "description_width": ""
      }
     },
     "12910800928f48519c60dc501bda1e52": {
      "model_module": "@jupyter-widgets/base",
      "model_module_version": "1.1.0",
      "model_name": "LayoutModel",
      "state": {}
     },
     "12b6cbaaeb43475ab19d718096325861": {
      "model_module": "@jupyter-widgets/controls",
      "model_module_version": "1.4.0",
      "model_name": "HTMLModel",
      "state": {
       "layout": "IPY_MODEL_95a8d0221b8644288af205b07b05a460",
       "style": "IPY_MODEL_2976b59ab70248f6b95bc162712bbdb2",
       "value": " 0/87 [00:00&lt;?, ?it/s]"
      }
     },
     "13a7bb140ef5437ba0915b4945e3218f": {
      "model_module": "@jupyter-widgets/controls",
      "model_module_version": "1.4.0",
      "model_name": "DescriptionStyleModel",
      "state": {
       "description_width": ""
      }
     },
     "14d2f602a8ef425fb0496f698080154e": {
      "model_module": "@jupyter-widgets/controls",
      "model_module_version": "1.4.0",
      "model_name": "HTMLModel",
      "state": {
       "layout": "IPY_MODEL_12910800928f48519c60dc501bda1e52",
       "style": "IPY_MODEL_7bd832a9bed44210817e0edfcaef2f6a",
       "value": " 11/11 [04:14&lt;00:00, 23.29s/it]"
      }
     },
     "14e9ffc2d75f4e8b9b370037a0f20514": {
      "model_module": "@jupyter-widgets/controls",
      "model_module_version": "1.4.0",
      "model_name": "DescriptionStyleModel",
      "state": {
       "description_width": ""
      }
     },
     "15b40f5b7e434ff18a25568f612fc490": {
      "model_module": "@jupyter-widgets/controls",
      "model_module_version": "1.4.0",
      "model_name": "ProgressStyleModel",
      "state": {
       "description_width": "initial"
      }
     },
     "15c5c40caf5c419384c930ca5cf787bb": {
      "model_module": "@jupyter-widgets/controls",
      "model_module_version": "1.4.0",
      "model_name": "HTMLModel",
      "state": {
       "layout": "IPY_MODEL_fad18746c9e0432bb83862ed21b8a3b6",
       "style": "IPY_MODEL_cddff91b4c7d4f9f93fd18ceda00ee51",
       "value": " 14/87 [08:41&lt;46:06, 37.90s/it]"
      }
     },
     "1607dbcd442b41e69ee3c78719d9024d": {
      "model_module": "@jupyter-widgets/controls",
      "model_module_version": "1.4.0",
      "model_name": "FloatProgressModel",
      "state": {
       "description": "Train_Iter: 100%",
       "layout": "IPY_MODEL_642809ddfbf94c39ad35538cd368e0b2",
       "max": 87,
       "style": "IPY_MODEL_831d94698c33465db8277691c9a69757",
       "value": 87
      }
     },
     "16cdc7cd5bb54a308935142b9776b7d7": {
      "model_module": "@jupyter-widgets/controls",
      "model_module_version": "1.4.0",
      "model_name": "ProgressStyleModel",
      "state": {
       "description_width": "initial"
      }
     },
     "174f37da3ad94a50bbb9c84f0c3383e1": {
      "model_module": "@jupyter-widgets/controls",
      "model_module_version": "1.4.0",
      "model_name": "ProgressStyleModel",
      "state": {
       "description_width": "initial"
      }
     },
     "179e763d2a5a45f69d34337d684acb56": {
      "model_module": "@jupyter-widgets/base",
      "model_module_version": "1.1.0",
      "model_name": "LayoutModel",
      "state": {}
     },
     "183fb3a7584e41329f2efaee99309575": {
      "model_module": "@jupyter-widgets/base",
      "model_module_version": "1.1.0",
      "model_name": "LayoutModel",
      "state": {}
     },
     "1aa0b931cf0f4003a49bb2c157e15353": {
      "model_module": "@jupyter-widgets/controls",
      "model_module_version": "1.4.0",
      "model_name": "HTMLModel",
      "state": {
       "layout": "IPY_MODEL_067983ddd1564ec598fae1fd9300af41",
       "style": "IPY_MODEL_fb0c0b497e6b4e4892750019872f4164",
       "value": " 87/87 [53:43&lt;00:00, 38.17s/it]"
      }
     },
     "1af734f465bb4948a5a1ab0d64bc1255": {
      "model_module": "@jupyter-widgets/base",
      "model_module_version": "1.1.0",
      "model_name": "LayoutModel",
      "state": {}
     },
     "1bd0dc943989432b90e6eecf58d9f409": {
      "model_module": "@jupyter-widgets/controls",
      "model_module_version": "1.4.0",
      "model_name": "HTMLModel",
      "state": {
       "layout": "IPY_MODEL_39428a1a4a0c4e7fae82479685f1175a",
       "style": "IPY_MODEL_13a7bb140ef5437ba0915b4945e3218f",
       "value": " 11/11 [04:21&lt;00:00, 22.43s/it]"
      }
     },
     "1c04700293c6429d92cfa48a870a1913": {
      "model_module": "@jupyter-widgets/controls",
      "model_module_version": "1.4.0",
      "model_name": "ProgressStyleModel",
      "state": {
       "description_width": "initial"
      }
     },
     "1c7085a5ca4e4b0b81d08c57ca94f16f": {
      "model_module": "@jupyter-widgets/base",
      "model_module_version": "1.1.0",
      "model_name": "LayoutModel",
      "state": {}
     },
     "1cb61d70630b4bb3ba593ef1033a0d0d": {
      "model_module": "@jupyter-widgets/controls",
      "model_module_version": "1.4.0",
      "model_name": "HTMLModel",
      "state": {
       "layout": "IPY_MODEL_052876b3ff7f489388a43f2109559840",
       "style": "IPY_MODEL_ff888637100642dca130ec2fb7232e13",
       "value": " 87/87 [53:38&lt;00:00, 37.54s/it]"
      }
     },
     "1e15df9ed4c2438e870aa8434890313f": {
      "model_module": "@jupyter-widgets/base",
      "model_module_version": "1.1.0",
      "model_name": "LayoutModel",
      "state": {}
     },
     "1ef0475776934256bcc2e5e6e89d4935": {
      "model_module": "@jupyter-widgets/controls",
      "model_module_version": "1.4.0",
      "model_name": "ProgressStyleModel",
      "state": {
       "description_width": "initial"
      }
     },
     "1f4a44ce3c704cea8062213e1fa35e37": {
      "model_module": "@jupyter-widgets/controls",
      "model_module_version": "1.4.0",
      "model_name": "HBoxModel",
      "state": {
       "children": [
        "IPY_MODEL_7d752123f9294b29b3a6dfc381a1f6ea",
        "IPY_MODEL_12b6cbaaeb43475ab19d718096325861"
       ],
       "layout": "IPY_MODEL_f6cf5d1a71ca4dd3bce344957887c2e2"
      }
     },
     "1fc6ec1bf412461d97d727cfe944c8bd": {
      "model_module": "@jupyter-widgets/controls",
      "model_module_version": "1.4.0",
      "model_name": "DescriptionStyleModel",
      "state": {
       "description_width": ""
      }
     },
     "1fd2f5558ccf4b31b9546312dc0fa4eb": {
      "model_module": "@jupyter-widgets/base",
      "model_module_version": "1.1.0",
      "model_name": "LayoutModel",
      "state": {}
     },
     "2052b7f46d744fe4bb1239adc0a804a1": {
      "model_module": "@jupyter-widgets/controls",
      "model_module_version": "1.4.0",
      "model_name": "HTMLModel",
      "state": {
       "layout": "IPY_MODEL_ee68112692074b64bf325156e4f8688a",
       "style": "IPY_MODEL_7e3993445e57417eab04babf83884ae5",
       "value": " 20/87 [12:28&lt;42:28, 38.04s/it]"
      }
     },
     "206c3db300ff42f3b4dc3091ffad6c6d": {
      "model_module": "@jupyter-widgets/controls",
      "model_module_version": "1.4.0",
      "model_name": "HTMLModel",
      "state": {
       "layout": "IPY_MODEL_72a2701d461c48f3bcf907977706bcec",
       "style": "IPY_MODEL_b363d1e512884aaf95b42b34d820ffb2",
       "value": " 11/11 [04:14&lt;00:00, 22.85s/it]"
      }
     },
     "233c6fc7f2064032b5b38a7f846f0a49": {
      "model_module": "@jupyter-widgets/controls",
      "model_module_version": "1.4.0",
      "model_name": "DescriptionStyleModel",
      "state": {
       "description_width": ""
      }
     },
     "2368f46ac52e45b6ac26c5697935d13f": {
      "model_module": "@jupyter-widgets/controls",
      "model_module_version": "1.4.0",
      "model_name": "DescriptionStyleModel",
      "state": {
       "description_width": ""
      }
     },
     "23eca8db2f42440083f030ef059c1f5a": {
      "model_module": "@jupyter-widgets/controls",
      "model_module_version": "1.4.0",
      "model_name": "FloatProgressModel",
      "state": {
       "description": "Train_Iter:  43%",
       "layout": "IPY_MODEL_d0732bf7788640a6bc9121156ee49e91",
       "max": 87,
       "style": "IPY_MODEL_5647668a4c3647abadd9b19814cc7803",
       "value": 37
      }
     },
     "25618cf6387049b5b253b52f1ea7e34c": {
      "model_module": "@jupyter-widgets/base",
      "model_module_version": "1.1.0",
      "model_name": "LayoutModel",
      "state": {}
     },
     "25ba7d4374d64d1ea836263eb885ff1f": {
      "model_module": "@jupyter-widgets/base",
      "model_module_version": "1.1.0",
      "model_name": "LayoutModel",
      "state": {}
     },
     "26db79fd49614853b20f7bc21aa215ed": {
      "model_module": "@jupyter-widgets/controls",
      "model_module_version": "1.4.0",
      "model_name": "FloatProgressModel",
      "state": {
       "bar_style": "danger",
       "description": "Epoch:   0%",
       "layout": "IPY_MODEL_6c5c109e97da4d26b7a3495db6929dae",
       "max": 50,
       "style": "IPY_MODEL_b1e2d7a8e5e649378275353af2320df6"
      }
     },
     "277ad9b8b0ed4f829ea7158b73e96419": {
      "model_module": "@jupyter-widgets/controls",
      "model_module_version": "1.4.0",
      "model_name": "DescriptionStyleModel",
      "state": {
       "description_width": ""
      }
     },
     "28f098caa09149a4b787e3b18aa659e0": {
      "model_module": "@jupyter-widgets/base",
      "model_module_version": "1.1.0",
      "model_name": "LayoutModel",
      "state": {}
     },
     "2976b59ab70248f6b95bc162712bbdb2": {
      "model_module": "@jupyter-widgets/controls",
      "model_module_version": "1.4.0",
      "model_name": "DescriptionStyleModel",
      "state": {
       "description_width": ""
      }
     },
     "299a123c88004d90a95bad4b1909050b": {
      "model_module": "@jupyter-widgets/controls",
      "model_module_version": "1.4.0",
      "model_name": "HTMLModel",
      "state": {
       "layout": "IPY_MODEL_41fa75e23a52442fa8231fcfcf969d79",
       "style": "IPY_MODEL_277ad9b8b0ed4f829ea7158b73e96419",
       "value": " 11/50 [12:15:05&lt;43:26:13, 4009.57s/it]"
      }
     },
     "2a683f8f5dfd4be7a36da81adffb8636": {
      "model_module": "@jupyter-widgets/controls",
      "model_module_version": "1.4.0",
      "model_name": "HTMLModel",
      "state": {
       "layout": "IPY_MODEL_0472670dccd64233b3402e3ec774781b",
       "style": "IPY_MODEL_d05bfdc1d87044e28b80471174bd0a84",
       "value": " 87/87 [53:40&lt;00:00, 37.03s/it]"
      }
     },
     "2b2cceb8c6744ad7b83f9c6a6cf6b30e": {
      "model_module": "@jupyter-widgets/base",
      "model_module_version": "1.1.0",
      "model_name": "LayoutModel",
      "state": {}
     },
     "2da891576a284949ad027dd0b57e6309": {
      "model_module": "@jupyter-widgets/base",
      "model_module_version": "1.1.0",
      "model_name": "LayoutModel",
      "state": {}
     },
     "2dd0a930e4b245baa68522a15c599ebe": {
      "model_module": "@jupyter-widgets/base",
      "model_module_version": "1.1.0",
      "model_name": "LayoutModel",
      "state": {}
     },
     "2f2604d040cd4e2c931a8556bdf06a2c": {
      "model_module": "@jupyter-widgets/controls",
      "model_module_version": "1.4.0",
      "model_name": "FloatProgressModel",
      "state": {
       "bar_style": "danger",
       "description": "Epoch:  22%",
       "layout": "IPY_MODEL_414ff709849b4d8a8190e1b7967830e8",
       "max": 50,
       "style": "IPY_MODEL_f4a6256c58fb44da8addb1cdd48b1897",
       "value": 11
      }
     },
     "30cd64466d524a50a7561c05ce55b293": {
      "model_module": "@jupyter-widgets/controls",
      "model_module_version": "1.4.0",
      "model_name": "FloatProgressModel",
      "state": {
       "description": "Val_Iter: 100%",
       "layout": "IPY_MODEL_b942a08c21a14c79b4862929ca4e44ed",
       "max": 11,
       "style": "IPY_MODEL_c2019ab6cc6843d5b68403a2fb39a40f",
       "value": 11
      }
     },
     "31b89e1614474eaab0c3b7d1104d61fd": {
      "model_module": "@jupyter-widgets/controls",
      "model_module_version": "1.4.0",
      "model_name": "HTMLModel",
      "state": {
       "layout": "IPY_MODEL_d2e048076ea44a0b9681772c4b19ac99",
       "style": "IPY_MODEL_233c6fc7f2064032b5b38a7f846f0a49",
       "value": " 11/11 [04:14&lt;00:00, 22.88s/it]"
      }
     },
     "32052d5b6bb74e45b4c2955fe358c608": {
      "model_module": "@jupyter-widgets/base",
      "model_module_version": "1.1.0",
      "model_name": "LayoutModel",
      "state": {}
     },
     "3222034cb75047439727f33acbc835f3": {
      "model_module": "@jupyter-widgets/controls",
      "model_module_version": "1.4.0",
      "model_name": "ProgressStyleModel",
      "state": {
       "description_width": "initial"
      }
     },
     "33d85586094d4b28b6e50bd2dd88c393": {
      "model_module": "@jupyter-widgets/base",
      "model_module_version": "1.1.0",
      "model_name": "LayoutModel",
      "state": {}
     },
     "33e56bf2ab4b49ea974432b4915e6995": {
      "model_module": "@jupyter-widgets/controls",
      "model_module_version": "1.4.0",
      "model_name": "ProgressStyleModel",
      "state": {
       "description_width": "initial"
      }
     },
     "34f72400330f4d07a38e0c7007b5dc36": {
      "model_module": "@jupyter-widgets/base",
      "model_module_version": "1.1.0",
      "model_name": "LayoutModel",
      "state": {}
     },
     "3574245a70da48d69ba2da2869262c9e": {
      "model_module": "@jupyter-widgets/controls",
      "model_module_version": "1.4.0",
      "model_name": "FloatProgressModel",
      "state": {
       "bar_style": "danger",
       "description": " 35%",
       "layout": "IPY_MODEL_97feac2b54ef413c957e919082d30aab",
       "max": 6457,
       "style": "IPY_MODEL_a948bb65c4f845c5a225b0cfeac71865",
       "value": 2284
      }
     },
     "35ee73941b254fc39ad724ef715986f9": {
      "model_module": "@jupyter-widgets/base",
      "model_module_version": "1.1.0",
      "model_name": "LayoutModel",
      "state": {}
     },
     "3873619e15984e2785999a5082af8b55": {
      "model_module": "@jupyter-widgets/controls",
      "model_module_version": "1.4.0",
      "model_name": "DescriptionStyleModel",
      "state": {
       "description_width": ""
      }
     },
     "39428a1a4a0c4e7fae82479685f1175a": {
      "model_module": "@jupyter-widgets/base",
      "model_module_version": "1.1.0",
      "model_name": "LayoutModel",
      "state": {}
     },
     "3a8c10a932fe472babbe645033502fa0": {
      "model_module": "@jupyter-widgets/base",
      "model_module_version": "1.1.0",
      "model_name": "LayoutModel",
      "state": {}
     },
     "3ac70d2d65cf45a6aa51391d273af503": {
      "model_module": "@jupyter-widgets/base",
      "model_module_version": "1.1.0",
      "model_name": "LayoutModel",
      "state": {}
     },
     "3ae8e75c806b428badfd2e79fcc04522": {
      "model_module": "@jupyter-widgets/controls",
      "model_module_version": "1.4.0",
      "model_name": "HTMLModel",
      "state": {
       "layout": "IPY_MODEL_bdb5c406e60940d9947711013c06dfc9",
       "style": "IPY_MODEL_a3e3e464843b412ea010c6e32d57e2ea",
       "value": " 87/87 [59:51&lt;00:00, 42.73s/it]"
      }
     },
     "3b9c9abcfa6749f5b8daef92ba55ca51": {
      "model_module": "@jupyter-widgets/controls",
      "model_module_version": "1.4.0",
      "model_name": "DescriptionStyleModel",
      "state": {
       "description_width": ""
      }
     },
     "3d568180d0a0447da7ed25233270edc1": {
      "model_module": "@jupyter-widgets/controls",
      "model_module_version": "1.4.0",
      "model_name": "ProgressStyleModel",
      "state": {
       "description_width": "initial"
      }
     },
     "3dbc414d37b8494fb9af0c7258d680eb": {
      "model_module": "@jupyter-widgets/base",
      "model_module_version": "1.1.0",
      "model_name": "LayoutModel",
      "state": {}
     },
     "3f0d8579920b4854bb0ffff145fdcbe9": {
      "model_module": "@jupyter-widgets/controls",
      "model_module_version": "1.4.0",
      "model_name": "DescriptionStyleModel",
      "state": {
       "description_width": ""
      }
     },
     "3f4226ec5d264b4a87de98027d90691b": {
      "model_module": "@jupyter-widgets/base",
      "model_module_version": "1.1.0",
      "model_name": "LayoutModel",
      "state": {}
     },
     "3f49c4d5a8d749a7a009224bc5fab633": {
      "model_module": "@jupyter-widgets/base",
      "model_module_version": "1.1.0",
      "model_name": "LayoutModel",
      "state": {}
     },
     "3fdbb4b6ca1a46f1ae94a7846f7e7267": {
      "model_module": "@jupyter-widgets/controls",
      "model_module_version": "1.4.0",
      "model_name": "FloatProgressModel",
      "state": {
       "description": "Val_Iter: 100%",
       "layout": "IPY_MODEL_183fb3a7584e41329f2efaee99309575",
       "max": 11,
       "style": "IPY_MODEL_f25e75beeca740db9182d098cc3d20a5",
       "value": 11
      }
     },
     "4023f171a7874f8899a65db161ef35b1": {
      "model_module": "@jupyter-widgets/base",
      "model_module_version": "1.1.0",
      "model_name": "LayoutModel",
      "state": {}
     },
     "414ff709849b4d8a8190e1b7967830e8": {
      "model_module": "@jupyter-widgets/base",
      "model_module_version": "1.1.0",
      "model_name": "LayoutModel",
      "state": {}
     },
     "41cfc74d325a4be8837fd2d79302e779": {
      "model_module": "@jupyter-widgets/base",
      "model_module_version": "1.1.0",
      "model_name": "LayoutModel",
      "state": {}
     },
     "41fa75e23a52442fa8231fcfcf969d79": {
      "model_module": "@jupyter-widgets/base",
      "model_module_version": "1.1.0",
      "model_name": "LayoutModel",
      "state": {}
     },
     "4248956d1ef34c569b644273409e5925": {
      "model_module": "@jupyter-widgets/base",
      "model_module_version": "1.1.0",
      "model_name": "LayoutModel",
      "state": {}
     },
     "424a9809d0f64e3587d73fe61c83e0d5": {
      "model_module": "@jupyter-widgets/base",
      "model_module_version": "1.1.0",
      "model_name": "LayoutModel",
      "state": {}
     },
     "427b8564f3a747aea3fa9ca24b14c7fc": {
      "model_module": "@jupyter-widgets/controls",
      "model_module_version": "1.4.0",
      "model_name": "HTMLModel",
      "state": {
       "layout": "IPY_MODEL_db7a537757e44ad39a014785f7a30362",
       "style": "IPY_MODEL_c3c6151d1dda4a64ae67d4c9afb1587f",
       "value": " 11/11 [04:13&lt;00:00, 22.91s/it]"
      }
     },
     "432456c5b30844dd8eeb54c1c628da7a": {
      "model_module": "@jupyter-widgets/base",
      "model_module_version": "1.1.0",
      "model_name": "LayoutModel",
      "state": {}
     },
     "4818c0996a3e4d90acfd3f7f5f81ae5c": {
      "model_module": "@jupyter-widgets/controls",
      "model_module_version": "1.4.0",
      "model_name": "HBoxModel",
      "state": {
       "children": [
        "IPY_MODEL_b259e15f64a64172a636c01ad50098d0",
        "IPY_MODEL_71dc3c1adab4472e8978e61e23d341ad"
       ],
       "layout": "IPY_MODEL_48b5d832f8024af08c0c1ef9c0ad66d0"
      }
     },
     "48b5d832f8024af08c0c1ef9c0ad66d0": {
      "model_module": "@jupyter-widgets/base",
      "model_module_version": "1.1.0",
      "model_name": "LayoutModel",
      "state": {}
     },
     "4a3179508394429590f82e82793aaaa6": {
      "model_module": "@jupyter-widgets/base",
      "model_module_version": "1.1.0",
      "model_name": "LayoutModel",
      "state": {}
     },
     "4b2ec9ef9a4c448caa770602116d00ae": {
      "model_module": "@jupyter-widgets/controls",
      "model_module_version": "1.4.0",
      "model_name": "DescriptionStyleModel",
      "state": {
       "description_width": ""
      }
     },
     "4bd542d1178e4888bedd5c78c5626c20": {
      "model_module": "@jupyter-widgets/controls",
      "model_module_version": "1.4.0",
      "model_name": "HTMLModel",
      "state": {
       "layout": "IPY_MODEL_572c5e5181f74bda896ea80d2a413758",
       "style": "IPY_MODEL_14e9ffc2d75f4e8b9b370037a0f20514",
       "value": " 0/50 [2:50:59&lt;?, ?it/s]"
      }
     },
     "4c1fd3010ec4457c92504ac15f707a23": {
      "model_module": "@jupyter-widgets/controls",
      "model_module_version": "1.4.0",
      "model_name": "DescriptionStyleModel",
      "state": {
       "description_width": ""
      }
     },
     "4d9a1459eb6346a69de0df6b350048f0": {
      "model_module": "@jupyter-widgets/base",
      "model_module_version": "1.1.0",
      "model_name": "LayoutModel",
      "state": {}
     },
     "4e1c605555124d1aa818cc4349e12e0f": {
      "model_module": "@jupyter-widgets/base",
      "model_module_version": "1.1.0",
      "model_name": "LayoutModel",
      "state": {}
     },
     "4e948c5ef8114323b473a06cc7205d06": {
      "model_module": "@jupyter-widgets/base",
      "model_module_version": "1.1.0",
      "model_name": "LayoutModel",
      "state": {}
     },
     "4effd6426d614c288a8443c510b2a87b": {
      "model_module": "@jupyter-widgets/controls",
      "model_module_version": "1.4.0",
      "model_name": "ProgressStyleModel",
      "state": {
       "description_width": "initial"
      }
     },
     "4f72ae606cf54b30bedc548cfba83159": {
      "model_module": "@jupyter-widgets/controls",
      "model_module_version": "1.4.0",
      "model_name": "HTMLModel",
      "state": {
       "layout": "IPY_MODEL_d0d00490b5b444eeac02f354c42837b5",
       "style": "IPY_MODEL_b84c1ac1e6b847ba8e0b448a1a2ac678",
       "value": " 6457/6457 [06:45&lt;00:00, 15.94it/s]"
      }
     },
     "507dde58c9494a5e9e522790c4ff7462": {
      "model_module": "@jupyter-widgets/base",
      "model_module_version": "1.1.0",
      "model_name": "LayoutModel",
      "state": {}
     },
     "511ed06687054c0d8889312db90468ca": {
      "model_module": "@jupyter-widgets/base",
      "model_module_version": "1.1.0",
      "model_name": "LayoutModel",
      "state": {}
     },
     "513470ba074f4c68a07a7ef5980c382c": {
      "model_module": "@jupyter-widgets/controls",
      "model_module_version": "1.4.0",
      "model_name": "HTMLModel",
      "state": {
       "layout": "IPY_MODEL_6da61a05d5b346669cd8ec201f979f34",
       "style": "IPY_MODEL_dfa7b7f2a48c463fb67c90fcb38b1552",
       "value": " 11/11 [04:11&lt;00:00, 22.56s/it]"
      }
     },
     "52392695bc774640ab2955a17257b3d4": {
      "model_module": "@jupyter-widgets/base",
      "model_module_version": "1.1.0",
      "model_name": "LayoutModel",
      "state": {}
     },
     "53400f5227134c45b4a39c0cdc625a9b": {
      "model_module": "@jupyter-widgets/controls",
      "model_module_version": "1.4.0",
      "model_name": "FloatProgressModel",
      "state": {
       "description": "Val_Iter: 100%",
       "layout": "IPY_MODEL_6cde6b30b4ae4ce7b86d38f7ae43c9d7",
       "max": 11,
       "style": "IPY_MODEL_fbeac5f84b0242389a1102667432c47b",
       "value": 11
      }
     },
     "54d5d5dc8bbc458682c1cb77e4380b30": {
      "model_module": "@jupyter-widgets/controls",
      "model_module_version": "1.4.0",
      "model_name": "ProgressStyleModel",
      "state": {
       "description_width": "initial"
      }
     },
     "5647668a4c3647abadd9b19814cc7803": {
      "model_module": "@jupyter-widgets/controls",
      "model_module_version": "1.4.0",
      "model_name": "ProgressStyleModel",
      "state": {
       "description_width": "initial"
      }
     },
     "572c5e5181f74bda896ea80d2a413758": {
      "model_module": "@jupyter-widgets/base",
      "model_module_version": "1.1.0",
      "model_name": "LayoutModel",
      "state": {}
     },
     "5957e1c24f834d149ee611310047e5c6": {
      "model_module": "@jupyter-widgets/controls",
      "model_module_version": "1.4.0",
      "model_name": "FloatProgressModel",
      "state": {
       "description": "Train_Iter: 100%",
       "layout": "IPY_MODEL_a53a933da21143eab8aca856165a6bb3",
       "max": 87,
       "style": "IPY_MODEL_0686955cb1b445a68a2a57b2dbaa6d2f",
       "value": 87
      }
     },
     "5a58d9469e09466e80609040f8d89430": {
      "model_module": "@jupyter-widgets/controls",
      "model_module_version": "1.4.0",
      "model_name": "ProgressStyleModel",
      "state": {
       "description_width": "initial"
      }
     },
     "5bd3ea47a2b142418ebf03e642e81071": {
      "model_module": "@jupyter-widgets/controls",
      "model_module_version": "1.4.0",
      "model_name": "HTMLModel",
      "state": {
       "layout": "IPY_MODEL_4e1c605555124d1aa818cc4349e12e0f",
       "style": "IPY_MODEL_0dfba8164d784be886b31fae8ec54e67",
       "value": " 11/11 [04:02&lt;00:00, 21.72s/it]"
      }
     },
     "5c1d0170e8e246e6ac8a430066fc4e47": {
      "model_module": "@jupyter-widgets/controls",
      "model_module_version": "1.4.0",
      "model_name": "HTMLModel",
      "state": {
       "layout": "IPY_MODEL_caeb75d385024953bb341830c880e69d",
       "style": "IPY_MODEL_2368f46ac52e45b6ac26c5697935d13f",
       "value": " 87/87 [53:41&lt;00:00, 37.20s/it]"
      }
     },
     "5d69211013eb4bfe8c44742799be75a2": {
      "model_module": "@jupyter-widgets/base",
      "model_module_version": "1.1.0",
      "model_name": "LayoutModel",
      "state": {}
     },
     "5d754b4cec1f49c9b585000654830094": {
      "model_module": "@jupyter-widgets/base",
      "model_module_version": "1.1.0",
      "model_name": "LayoutModel",
      "state": {}
     },
     "5dde6fdca1984060a91b6308eb096b87": {
      "model_module": "@jupyter-widgets/controls",
      "model_module_version": "1.4.0",
      "model_name": "DescriptionStyleModel",
      "state": {
       "description_width": ""
      }
     },
     "60e38d9af7f84d6196bcab9a0a12ccff": {
      "model_module": "@jupyter-widgets/base",
      "model_module_version": "1.1.0",
      "model_name": "LayoutModel",
      "state": {}
     },
     "611905a93b2b4c6487307c61a184b95e": {
      "model_module": "@jupyter-widgets/base",
      "model_module_version": "1.1.0",
      "model_name": "LayoutModel",
      "state": {}
     },
     "6122c3ddb0a84369a649d27570570cbc": {
      "model_module": "@jupyter-widgets/controls",
      "model_module_version": "1.4.0",
      "model_name": "DescriptionStyleModel",
      "state": {
       "description_width": ""
      }
     },
     "62a8ccb44b49489991920aec336526d8": {
      "model_module": "@jupyter-widgets/controls",
      "model_module_version": "1.4.0",
      "model_name": "DescriptionStyleModel",
      "state": {
       "description_width": ""
      }
     },
     "64247600538a4f42817056653504d453": {
      "model_module": "@jupyter-widgets/controls",
      "model_module_version": "1.4.0",
      "model_name": "ProgressStyleModel",
      "state": {
       "description_width": "initial"
      }
     },
     "642809ddfbf94c39ad35538cd368e0b2": {
      "model_module": "@jupyter-widgets/base",
      "model_module_version": "1.1.0",
      "model_name": "LayoutModel",
      "state": {}
     },
     "643c96d8fd9e485096937d7433b2be05": {
      "model_module": "@jupyter-widgets/base",
      "model_module_version": "1.1.0",
      "model_name": "LayoutModel",
      "state": {}
     },
     "648a2e23ffdc48108561842b13cd2d2c": {
      "model_module": "@jupyter-widgets/controls",
      "model_module_version": "1.4.0",
      "model_name": "FloatProgressModel",
      "state": {
       "description": "Train_Iter: 100%",
       "layout": "IPY_MODEL_3dbc414d37b8494fb9af0c7258d680eb",
       "max": 87,
       "style": "IPY_MODEL_ce2f97fc059a4b3791e7b9904c87527d",
       "value": 87
      }
     },
     "64c5b696c583401189d6062689629b0f": {
      "model_module": "@jupyter-widgets/controls",
      "model_module_version": "1.4.0",
      "model_name": "HTMLModel",
      "state": {
       "layout": "IPY_MODEL_4e948c5ef8114323b473a06cc7205d06",
       "style": "IPY_MODEL_d36a249433494db0a1022865722b618f",
       "value": " 2284/6457 [00:45&lt;01:22, 50.41it/s]"
      }
     },
     "65af2c1ce6cc4a7db329d01b71a01e2e": {
      "model_module": "@jupyter-widgets/base",
      "model_module_version": "1.1.0",
      "model_name": "LayoutModel",
      "state": {}
     },
     "664a29ec8c9246aabf75dae01b0f3e5e": {
      "model_module": "@jupyter-widgets/controls",
      "model_module_version": "1.4.0",
      "model_name": "ProgressStyleModel",
      "state": {
       "description_width": "initial"
      }
     },
     "66d19137fd8048cfb431c5f62eacf57a": {
      "model_module": "@jupyter-widgets/controls",
      "model_module_version": "1.4.0",
      "model_name": "HBoxModel",
      "state": {
       "children": [
        "IPY_MODEL_7d403306fab74c0285e4878e6d77c86d",
        "IPY_MODEL_2052b7f46d744fe4bb1239adc0a804a1"
       ],
       "layout": "IPY_MODEL_b402622cb6dc45859f9a6e15368b11b6"
      }
     },
     "66d40863d215472f9e7fec24b8f20b1f": {
      "model_module": "@jupyter-widgets/controls",
      "model_module_version": "1.4.0",
      "model_name": "DescriptionStyleModel",
      "state": {
       "description_width": ""
      }
     },
     "6c3d784744bd469d912b7c5de8887850": {
      "model_module": "@jupyter-widgets/controls",
      "model_module_version": "1.4.0",
      "model_name": "HBoxModel",
      "state": {
       "children": [
        "IPY_MODEL_80aa0c2d0c84425e8451a25c920e8ff7",
        "IPY_MODEL_ce8dd747fe9541548a17101e18619576"
       ],
       "layout": "IPY_MODEL_0e522d1d81e94f71a55592563548c143"
      }
     },
     "6c5c109e97da4d26b7a3495db6929dae": {
      "model_module": "@jupyter-widgets/base",
      "model_module_version": "1.1.0",
      "model_name": "LayoutModel",
      "state": {}
     },
     "6cde6b30b4ae4ce7b86d38f7ae43c9d7": {
      "model_module": "@jupyter-widgets/base",
      "model_module_version": "1.1.0",
      "model_name": "LayoutModel",
      "state": {}
     },
     "6da61a05d5b346669cd8ec201f979f34": {
      "model_module": "@jupyter-widgets/base",
      "model_module_version": "1.1.0",
      "model_name": "LayoutModel",
      "state": {}
     },
     "6e00e952dd9d4ced98ef4568248aaf4b": {
      "model_module": "@jupyter-widgets/controls",
      "model_module_version": "1.4.0",
      "model_name": "FloatProgressModel",
      "state": {
       "description": "Train_Iter: 100%",
       "layout": "IPY_MODEL_2dd0a930e4b245baa68522a15c599ebe",
       "max": 87,
       "style": "IPY_MODEL_98e59edbdef241ac9739720c6e370017",
       "value": 87
      }
     },
     "6ec51792af4c4f72b7f209be2bc4a765": {
      "model_module": "@jupyter-widgets/controls",
      "model_module_version": "1.4.0",
      "model_name": "DescriptionStyleModel",
      "state": {
       "description_width": ""
      }
     },
     "70e4a339eef74c9a8d4a5ccb8f8bc1c8": {
      "model_module": "@jupyter-widgets/controls",
      "model_module_version": "1.4.0",
      "model_name": "ProgressStyleModel",
      "state": {
       "description_width": "initial"
      }
     },
     "71dc3c1adab4472e8978e61e23d341ad": {
      "model_module": "@jupyter-widgets/controls",
      "model_module_version": "1.4.0",
      "model_name": "HTMLModel",
      "state": {
       "layout": "IPY_MODEL_611905a93b2b4c6487307c61a184b95e",
       "style": "IPY_MODEL_0b860d367e804ec2b99a27f85128bbaf",
       "value": " 3389/6457 [01:08&lt;01:02, 49.43it/s]"
      }
     },
     "729395fdd02048cd83598302b78a5235": {
      "model_module": "@jupyter-widgets/base",
      "model_module_version": "1.1.0",
      "model_name": "LayoutModel",
      "state": {}
     },
     "72a2701d461c48f3bcf907977706bcec": {
      "model_module": "@jupyter-widgets/base",
      "model_module_version": "1.1.0",
      "model_name": "LayoutModel",
      "state": {}
     },
     "73ef2f10fc1b4122a0d0ac2dd2c3eafd": {
      "model_module": "@jupyter-widgets/controls",
      "model_module_version": "1.4.0",
      "model_name": "HTMLModel",
      "state": {
       "layout": "IPY_MODEL_f25bc9a262e6463a85e7f09bc746f686",
       "style": "IPY_MODEL_5dde6fdca1984060a91b6308eb096b87",
       "value": " 11/11 [04:16&lt;00:00, 23.51s/it]"
      }
     },
     "74d59e14424b4ffbb01853720662bfec": {
      "model_module": "@jupyter-widgets/base",
      "model_module_version": "1.1.0",
      "model_name": "LayoutModel",
      "state": {}
     },
     "74e89dfc4d344adbb97818b7653cffa4": {
      "model_module": "@jupyter-widgets/controls",
      "model_module_version": "1.4.0",
      "model_name": "HTMLModel",
      "state": {
       "layout": "IPY_MODEL_afaba5099986406f9e58a97ee54db2fb",
       "style": "IPY_MODEL_4b2ec9ef9a4c448caa770602116d00ae",
       "value": " 11/11 [04:05&lt;00:00, 22.15s/it]"
      }
     },
     "75d4faf6982d41a1aaca6d065234257d": {
      "model_module": "@jupyter-widgets/controls",
      "model_module_version": "1.4.0",
      "model_name": "FloatProgressModel",
      "state": {
       "description": "Val_Iter: 100%",
       "layout": "IPY_MODEL_f10d68d5ff6944dd87530bd23c0ff692",
       "max": 11,
       "style": "IPY_MODEL_fd7ce960db12442f90422ac8c14e3686",
       "value": 11
      }
     },
     "77d708b4887e41deb01780db29dbb513": {
      "model_module": "@jupyter-widgets/controls",
      "model_module_version": "1.4.0",
      "model_name": "FloatProgressModel",
      "state": {
       "description": "Val_Iter: 100%",
       "layout": "IPY_MODEL_d08af3e0fc974cadad3c33e76efa7cff",
       "max": 11,
       "style": "IPY_MODEL_f99bedd6659c48bc8fed09751d1ebd75",
       "value": 11
      }
     },
     "787b8e9ce5394780992242357f19513d": {
      "model_module": "@jupyter-widgets/controls",
      "model_module_version": "1.4.0",
      "model_name": "FloatProgressModel",
      "state": {
       "description": "Val_Iter: 100%",
       "layout": "IPY_MODEL_a1879834b0b5450b88a9aeea026b71fd",
       "max": 11,
       "style": "IPY_MODEL_e5ccf06e9c4d422b9206cf17fdccb835",
       "value": 11
      }
     },
     "78ba93fce5c54c3680782ac46456eb2b": {
      "model_module": "@jupyter-widgets/controls",
      "model_module_version": "1.4.0",
      "model_name": "HTMLModel",
      "state": {
       "layout": "IPY_MODEL_82e393822d07459b9609ab1520a1b956",
       "style": "IPY_MODEL_e49b2392bbf449b28d6c8a7510038fa5",
       "value": " 0/87 [2:50:59&lt;?, ?it/s]"
      }
     },
     "7940b28c77544881b9c8c1e7ffa47634": {
      "model_module": "@jupyter-widgets/controls",
      "model_module_version": "1.4.0",
      "model_name": "ProgressStyleModel",
      "state": {
       "description_width": "initial"
      }
     },
     "79b23caa99ab4fcfaa1bd525fc54dd6e": {
      "model_module": "@jupyter-widgets/base",
      "model_module_version": "1.1.0",
      "model_name": "LayoutModel",
      "state": {}
     },
     "7a1ce6b54c07406eae5a9f0a5dc23852": {
      "model_module": "@jupyter-widgets/base",
      "model_module_version": "1.1.0",
      "model_name": "LayoutModel",
      "state": {}
     },
     "7b76244a956b40038131605737f79aeb": {
      "model_module": "@jupyter-widgets/controls",
      "model_module_version": "1.4.0",
      "model_name": "HBoxModel",
      "state": {
       "children": [
        "IPY_MODEL_9ffff54b3ae146ffa03ea245daa4ef0f",
        "IPY_MODEL_15c5c40caf5c419384c930ca5cf787bb"
       ],
       "layout": "IPY_MODEL_511ed06687054c0d8889312db90468ca"
      }
     },
     "7bd832a9bed44210817e0edfcaef2f6a": {
      "model_module": "@jupyter-widgets/controls",
      "model_module_version": "1.4.0",
      "model_name": "DescriptionStyleModel",
      "state": {
       "description_width": ""
      }
     },
     "7c0c27deb4c14fabb089f6742d4ed759": {
      "model_module": "@jupyter-widgets/controls",
      "model_module_version": "1.4.0",
      "model_name": "FloatProgressModel",
      "state": {
       "description": "Train_Iter: 100%",
       "layout": "IPY_MODEL_79b23caa99ab4fcfaa1bd525fc54dd6e",
       "max": 87,
       "style": "IPY_MODEL_e4d6aa24b23542cca64e6b6bbc957290",
       "value": 87
      }
     },
     "7c0f72b58f434862a6d7469d19591738": {
      "model_module": "@jupyter-widgets/controls",
      "model_module_version": "1.4.0",
      "model_name": "FloatProgressModel",
      "state": {
       "description": "Val_Iter: 100%",
       "layout": "IPY_MODEL_35ee73941b254fc39ad724ef715986f9",
       "max": 11,
       "style": "IPY_MODEL_1c04700293c6429d92cfa48a870a1913",
       "value": 11
      }
     },
     "7c7c8065e8094d2bb28785e68d3d6e5e": {
      "model_module": "@jupyter-widgets/base",
      "model_module_version": "1.1.0",
      "model_name": "LayoutModel",
      "state": {}
     },
     "7d403306fab74c0285e4878e6d77c86d": {
      "model_module": "@jupyter-widgets/controls",
      "model_module_version": "1.4.0",
      "model_name": "FloatProgressModel",
      "state": {
       "bar_style": "danger",
       "description": "Train_Iter:  23%",
       "layout": "IPY_MODEL_f36138565c29487b922a0b6eb8a8e4f0",
       "max": 87,
       "style": "IPY_MODEL_0990ad529e90440894fecbbd7a2ada24",
       "value": 20
      }
     },
     "7d752123f9294b29b3a6dfc381a1f6ea": {
      "model_module": "@jupyter-widgets/controls",
      "model_module_version": "1.4.0",
      "model_name": "FloatProgressModel",
      "state": {
       "description": "Train_Iter:   0%",
       "layout": "IPY_MODEL_824bff6353cd4dc9a915b327592b1adf",
       "max": 87,
       "style": "IPY_MODEL_8ba1594aacea484aa393a857bd9e0ddf"
      }
     },
     "7e3993445e57417eab04babf83884ae5": {
      "model_module": "@jupyter-widgets/controls",
      "model_module_version": "1.4.0",
      "model_name": "DescriptionStyleModel",
      "state": {
       "description_width": ""
      }
     },
     "7e7ce718a7bc43b2923e4a14ae9ca300": {
      "model_module": "@jupyter-widgets/controls",
      "model_module_version": "1.4.0",
      "model_name": "FloatProgressModel",
      "state": {
       "description": "Val_Iter: 100%",
       "layout": "IPY_MODEL_4d9a1459eb6346a69de0df6b350048f0",
       "max": 11,
       "style": "IPY_MODEL_174f37da3ad94a50bbb9c84f0c3383e1",
       "value": 11
      }
     },
     "7f4f41d1160048ce881da4d924ac18a4": {
      "model_module": "@jupyter-widgets/base",
      "model_module_version": "1.1.0",
      "model_name": "LayoutModel",
      "state": {}
     },
     "7fc0a03f8e284e94b24bf0f7368b30f6": {
      "model_module": "@jupyter-widgets/controls",
      "model_module_version": "1.4.0",
      "model_name": "ProgressStyleModel",
      "state": {
       "description_width": "initial"
      }
     },
     "80aa0c2d0c84425e8451a25c920e8ff7": {
      "model_module": "@jupyter-widgets/controls",
      "model_module_version": "1.4.0",
      "model_name": "FloatProgressModel",
      "state": {
       "bar_style": "danger",
       "description": "  3%",
       "layout": "IPY_MODEL_7a1ce6b54c07406eae5a9f0a5dc23852",
       "max": 300,
       "style": "IPY_MODEL_efe57cb56a6e4d5a95375dca119cc01c",
       "value": 10
      }
     },
     "813aac6bc7044036bf27053ed808b895": {
      "model_module": "@jupyter-widgets/controls",
      "model_module_version": "1.4.0",
      "model_name": "FloatProgressModel",
      "state": {
       "description": "Train_Iter: 100%",
       "layout": "IPY_MODEL_b35991b4fa2448b2aa91531f875c65cf",
       "max": 87,
       "style": "IPY_MODEL_973dd3c7ebd741ab9aad9d5b9f290cef",
       "value": 87
      }
     },
     "824bff6353cd4dc9a915b327592b1adf": {
      "model_module": "@jupyter-widgets/base",
      "model_module_version": "1.1.0",
      "model_name": "LayoutModel",
      "state": {}
     },
     "824caf80c40e4baf85f6a5215526cc79": {
      "model_module": "@jupyter-widgets/controls",
      "model_module_version": "1.4.0",
      "model_name": "HBoxModel",
      "state": {
       "children": [
        "IPY_MODEL_2f2604d040cd4e2c931a8556bdf06a2c",
        "IPY_MODEL_299a123c88004d90a95bad4b1909050b"
       ],
       "layout": "IPY_MODEL_cca1157538bf462eb48caabcd2e79efc"
      }
     },
     "826f28fbb3234f5697a095f9ba30e0dc": {
      "model_module": "@jupyter-widgets/controls",
      "model_module_version": "1.4.0",
      "model_name": "DescriptionStyleModel",
      "state": {
       "description_width": ""
      }
     },
     "8281785c0c6c4e5d92f79692755ae6ea": {
      "model_module": "@jupyter-widgets/base",
      "model_module_version": "1.1.0",
      "model_name": "LayoutModel",
      "state": {}
     },
     "82df1e5d6406449eab6588d8fd47a450": {
      "model_module": "@jupyter-widgets/base",
      "model_module_version": "1.1.0",
      "model_name": "LayoutModel",
      "state": {}
     },
     "82e393822d07459b9609ab1520a1b956": {
      "model_module": "@jupyter-widgets/base",
      "model_module_version": "1.1.0",
      "model_name": "LayoutModel",
      "state": {}
     },
     "831d94698c33465db8277691c9a69757": {
      "model_module": "@jupyter-widgets/controls",
      "model_module_version": "1.4.0",
      "model_name": "ProgressStyleModel",
      "state": {
       "description_width": "initial"
      }
     },
     "83519f8aed8c4afca6a07cc05b06dec4": {
      "model_module": "@jupyter-widgets/base",
      "model_module_version": "1.1.0",
      "model_name": "LayoutModel",
      "state": {}
     },
     "83775c949d1543189e30f552912f68aa": {
      "model_module": "@jupyter-widgets/controls",
      "model_module_version": "1.4.0",
      "model_name": "FloatProgressModel",
      "state": {
       "description": "Val_Iter: 100%",
       "layout": "IPY_MODEL_8281785c0c6c4e5d92f79692755ae6ea",
       "max": 11,
       "style": "IPY_MODEL_c40f09d480c1475d97873cf9b33eda09",
       "value": 11
      }
     },
     "83f75d1519b9402c8e264890b09a4502": {
      "model_module": "@jupyter-widgets/base",
      "model_module_version": "1.1.0",
      "model_name": "LayoutModel",
      "state": {}
     },
     "85c9a745932a4f82abad4b910abfdfbc": {
      "model_module": "@jupyter-widgets/base",
      "model_module_version": "1.1.0",
      "model_name": "LayoutModel",
      "state": {}
     },
     "87e19f680ebc4e3fafefc9d2826defb1": {
      "model_module": "@jupyter-widgets/controls",
      "model_module_version": "1.4.0",
      "model_name": "FloatProgressModel",
      "state": {
       "bar_style": "success",
       "description": "100%",
       "layout": "IPY_MODEL_fc228996770f4347a785bba130b2486c",
       "max": 6457,
       "style": "IPY_MODEL_bb06f72928394f16b2f75eac1d6c095f",
       "value": 6457
      }
     },
     "8993a4cb918144f9892a9605b35e9c7e": {
      "model_module": "@jupyter-widgets/base",
      "model_module_version": "1.1.0",
      "model_name": "LayoutModel",
      "state": {}
     },
     "8a11be9940b3412ca2f6081808b02f1b": {
      "model_module": "@jupyter-widgets/controls",
      "model_module_version": "1.4.0",
      "model_name": "DescriptionStyleModel",
      "state": {
       "description_width": ""
      }
     },
     "8b212c6dddcf4f91ba560d6f112d488a": {
      "model_module": "@jupyter-widgets/controls",
      "model_module_version": "1.4.0",
      "model_name": "FloatProgressModel",
      "state": {
       "description": "Train_Iter: 100%",
       "layout": "IPY_MODEL_ca9faadee9334413ae8fd59a2d140b3d",
       "max": 87,
       "style": "IPY_MODEL_e7fb2ad6672141c1b63d4b4b6caac70a",
       "value": 87
      }
     },
     "8b80339ce05a4d20ba2848821df720a6": {
      "model_module": "@jupyter-widgets/base",
      "model_module_version": "1.1.0",
      "model_name": "LayoutModel",
      "state": {}
     },
     "8ba1594aacea484aa393a857bd9e0ddf": {
      "model_module": "@jupyter-widgets/controls",
      "model_module_version": "1.4.0",
      "model_name": "ProgressStyleModel",
      "state": {
       "description_width": "initial"
      }
     },
     "8becaa1fb75a4fb3ba844ab0dcfd6ecc": {
      "model_module": "@jupyter-widgets/controls",
      "model_module_version": "1.4.0",
      "model_name": "HTMLModel",
      "state": {
       "layout": "IPY_MODEL_28f098caa09149a4b787e3b18aa659e0",
       "style": "IPY_MODEL_3f0d8579920b4854bb0ffff145fdcbe9",
       "value": " 87/87 [53:43&lt;00:00, 38.25s/it]"
      }
     },
     "8d9959877e5c42e8aead176c1b99311d": {
      "model_module": "@jupyter-widgets/controls",
      "model_module_version": "1.4.0",
      "model_name": "ProgressStyleModel",
      "state": {
       "description_width": "initial"
      }
     },
     "8e34b98516ba4944ab067e463887b3dd": {
      "model_module": "@jupyter-widgets/controls",
      "model_module_version": "1.4.0",
      "model_name": "HTMLModel",
      "state": {
       "layout": "IPY_MODEL_8b80339ce05a4d20ba2848821df720a6",
       "style": "IPY_MODEL_6ec51792af4c4f72b7f209be2bc4a765",
       "value": " 87/87 [52:36&lt;00:00, 36.80s/it]"
      }
     },
     "8f24c805959b4c66b5676defb5e45bd7": {
      "model_module": "@jupyter-widgets/controls",
      "model_module_version": "1.4.0",
      "model_name": "HTMLModel",
      "state": {
       "layout": "IPY_MODEL_e1c39d3ccbdd4dd38984114d3fa7d7e6",
       "style": "IPY_MODEL_e5fe46f789054e53a6d371c22c67ef5c",
       "value": " 5/50 [4:59:11&lt;45:02:33, 3603.41s/it]"
      }
     },
     "90b245a3d601450b9bcc6583d2126438": {
      "model_module": "@jupyter-widgets/controls",
      "model_module_version": "1.4.0",
      "model_name": "HTMLModel",
      "state": {
       "layout": "IPY_MODEL_4023f171a7874f8899a65db161ef35b1",
       "style": "IPY_MODEL_d85e66ebc1924eeeb003c98dbad6fdf0",
       "value": " 87/87 [54:20&lt;00:00, 36.31s/it]"
      }
     },
     "92cc703ca5084a27904305c2c3e8a46a": {
      "model_module": "@jupyter-widgets/controls",
      "model_module_version": "1.4.0",
      "model_name": "FloatProgressModel",
      "state": {
       "description": "Train_Iter: 100%",
       "layout": "IPY_MODEL_fb1534803e1447309be173eaf52bad78",
       "max": 87,
       "style": "IPY_MODEL_a9e618e446db4300940da6dfbbd35473",
       "value": 87
      }
     },
     "9442ba984c684ee1884c0a1c017ab5c6": {
      "model_module": "@jupyter-widgets/base",
      "model_module_version": "1.1.0",
      "model_name": "LayoutModel",
      "state": {}
     },
     "95a8d0221b8644288af205b07b05a460": {
      "model_module": "@jupyter-widgets/base",
      "model_module_version": "1.1.0",
      "model_name": "LayoutModel",
      "state": {}
     },
     "96d57fbf84ef4c68aae24a2accfc43a9": {
      "model_module": "@jupyter-widgets/controls",
      "model_module_version": "1.4.0",
      "model_name": "HTMLModel",
      "state": {
       "layout": "IPY_MODEL_ef080220e11944638f561cb163356595",
       "style": "IPY_MODEL_df4956c28a724455b6a4a88004468e52",
       "value": " 87/87 [53:39&lt;00:00, 37.46s/it]"
      }
     },
     "973d5cfd7c144697b43520566c00d8f7": {
      "model_module": "@jupyter-widgets/base",
      "model_module_version": "1.1.0",
      "model_name": "LayoutModel",
      "state": {}
     },
     "973dd3c7ebd741ab9aad9d5b9f290cef": {
      "model_module": "@jupyter-widgets/controls",
      "model_module_version": "1.4.0",
      "model_name": "ProgressStyleModel",
      "state": {
       "description_width": "initial"
      }
     },
     "97db682d9dd44519abaf99ad0967b103": {
      "model_module": "@jupyter-widgets/controls",
      "model_module_version": "1.4.0",
      "model_name": "FloatProgressModel",
      "state": {
       "description": "Train_Iter: 100%",
       "layout": "IPY_MODEL_9442ba984c684ee1884c0a1c017ab5c6",
       "max": 87,
       "style": "IPY_MODEL_ef313b3a596f4377870fd3f2f963fec8",
       "value": 87
      }
     },
     "97feac2b54ef413c957e919082d30aab": {
      "model_module": "@jupyter-widgets/base",
      "model_module_version": "1.1.0",
      "model_name": "LayoutModel",
      "state": {}
     },
     "988de7cf6731462ca30c612f50991c9d": {
      "model_module": "@jupyter-widgets/controls",
      "model_module_version": "1.4.0",
      "model_name": "HTMLModel",
      "state": {
       "layout": "IPY_MODEL_0618ddd48aa24064bfa7f7aea072302c",
       "style": "IPY_MODEL_f66b5ca7e643442592fbbc4a0a85f26f",
       "value": " 87/87 [53:38&lt;00:00, 36.88s/it]"
      }
     },
     "98cb38a225034c839f812ed49bc98ac2": {
      "model_module": "@jupyter-widgets/controls",
      "model_module_version": "1.4.0",
      "model_name": "DescriptionStyleModel",
      "state": {
       "description_width": ""
      }
     },
     "98e59edbdef241ac9739720c6e370017": {
      "model_module": "@jupyter-widgets/controls",
      "model_module_version": "1.4.0",
      "model_name": "ProgressStyleModel",
      "state": {
       "description_width": "initial"
      }
     },
     "991333b872ae4237a5a8b303eb42ffb3": {
      "model_module": "@jupyter-widgets/controls",
      "model_module_version": "1.4.0",
      "model_name": "HTMLModel",
      "state": {
       "layout": "IPY_MODEL_fe29101c64d642e5a88ba98b97bf4ac1",
       "style": "IPY_MODEL_8a11be9940b3412ca2f6081808b02f1b",
       "value": " 11/11 [04:14&lt;00:00, 23.06s/it]"
      }
     },
     "991563d268824ca2b3be8c065bdbf372": {
      "model_module": "@jupyter-widgets/base",
      "model_module_version": "1.1.0",
      "model_name": "LayoutModel",
      "state": {}
     },
     "99aff0993f8643abb59db9e1d6a16059": {
      "model_module": "@jupyter-widgets/base",
      "model_module_version": "1.1.0",
      "model_name": "LayoutModel",
      "state": {}
     },
     "99cf523813d8400bbafb6723c9661b5d": {
      "model_module": "@jupyter-widgets/controls",
      "model_module_version": "1.4.0",
      "model_name": "FloatProgressModel",
      "state": {
       "description": "Val_Iter: 100%",
       "layout": "IPY_MODEL_5d69211013eb4bfe8c44742799be75a2",
       "max": 11,
       "style": "IPY_MODEL_d31dea4b7b6a4302ab7748d5b59b3e31",
       "value": 11
      }
     },
     "9aa51d11fffe440fbb026e0b2f8ef544": {
      "model_module": "@jupyter-widgets/controls",
      "model_module_version": "1.4.0",
      "model_name": "DescriptionStyleModel",
      "state": {
       "description_width": ""
      }
     },
     "9d5d591b9d62440788b4a0b844df0cb4": {
      "model_module": "@jupyter-widgets/base",
      "model_module_version": "1.1.0",
      "model_name": "LayoutModel",
      "state": {}
     },
     "9d60264dec6340b5b92082e95a33d63e": {
      "model_module": "@jupyter-widgets/controls",
      "model_module_version": "1.4.0",
      "model_name": "ProgressStyleModel",
      "state": {
       "description_width": "initial"
      }
     },
     "9e099eff602140f8b9790113cb391741": {
      "model_module": "@jupyter-widgets/base",
      "model_module_version": "1.1.0",
      "model_name": "LayoutModel",
      "state": {}
     },
     "9f88831b1e574b8ea902bb7fdb4375ed": {
      "model_module": "@jupyter-widgets/controls",
      "model_module_version": "1.4.0",
      "model_name": "FloatProgressModel",
      "state": {
       "description": "Train_Iter: 100%",
       "layout": "IPY_MODEL_7f4f41d1160048ce881da4d924ac18a4",
       "max": 87,
       "style": "IPY_MODEL_1ef0475776934256bcc2e5e6e89d4935",
       "value": 87
      }
     },
     "9fc33061eb9e4275924159c10b5f53d2": {
      "model_module": "@jupyter-widgets/controls",
      "model_module_version": "1.4.0",
      "model_name": "DescriptionStyleModel",
      "state": {
       "description_width": ""
      }
     },
     "9ffff54b3ae146ffa03ea245daa4ef0f": {
      "model_module": "@jupyter-widgets/controls",
      "model_module_version": "1.4.0",
      "model_name": "FloatProgressModel",
      "state": {
       "description": "Train_Iter:  16%",
       "layout": "IPY_MODEL_1c7085a5ca4e4b0b81d08c57ca94f16f",
       "max": 87,
       "style": "IPY_MODEL_a7a79ae20cf34badbec2f3eb08531a62",
       "value": 14
      }
     },
     "a0b811dca4de460cb8ee57dc19da60cb": {
      "model_module": "@jupyter-widgets/base",
      "model_module_version": "1.1.0",
      "model_name": "LayoutModel",
      "state": {}
     },
     "a1879834b0b5450b88a9aeea026b71fd": {
      "model_module": "@jupyter-widgets/base",
      "model_module_version": "1.1.0",
      "model_name": "LayoutModel",
      "state": {}
     },
     "a3e3e464843b412ea010c6e32d57e2ea": {
      "model_module": "@jupyter-widgets/controls",
      "model_module_version": "1.4.0",
      "model_name": "DescriptionStyleModel",
      "state": {
       "description_width": ""
      }
     },
     "a53a933da21143eab8aca856165a6bb3": {
      "model_module": "@jupyter-widgets/base",
      "model_module_version": "1.1.0",
      "model_name": "LayoutModel",
      "state": {}
     },
     "a5d31587ee6f498d893a5366a8d117bd": {
      "model_module": "@jupyter-widgets/controls",
      "model_module_version": "1.4.0",
      "model_name": "FloatProgressModel",
      "state": {
       "description": "Train_Iter: 100%",
       "layout": "IPY_MODEL_a0b811dca4de460cb8ee57dc19da60cb",
       "max": 87,
       "style": "IPY_MODEL_d9be3ac510ba4934a018e93d9762a9e5",
       "value": 87
      }
     },
     "a6224a1c95fa4bff8e87ebdf36e4e430": {
      "model_module": "@jupyter-widgets/base",
      "model_module_version": "1.1.0",
      "model_name": "LayoutModel",
      "state": {}
     },
     "a77b20594717439c857484463f15d685": {
      "model_module": "@jupyter-widgets/controls",
      "model_module_version": "1.4.0",
      "model_name": "DescriptionStyleModel",
      "state": {
       "description_width": ""
      }
     },
     "a7a79ae20cf34badbec2f3eb08531a62": {
      "model_module": "@jupyter-widgets/controls",
      "model_module_version": "1.4.0",
      "model_name": "ProgressStyleModel",
      "state": {
       "description_width": "initial"
      }
     },
     "a852123b0b344d1ea6a73d2e7b266884": {
      "model_module": "@jupyter-widgets/controls",
      "model_module_version": "1.4.0",
      "model_name": "DescriptionStyleModel",
      "state": {
       "description_width": ""
      }
     },
     "a948bb65c4f845c5a225b0cfeac71865": {
      "model_module": "@jupyter-widgets/controls",
      "model_module_version": "1.4.0",
      "model_name": "ProgressStyleModel",
      "state": {
       "description_width": "initial"
      }
     },
     "a9e618e446db4300940da6dfbbd35473": {
      "model_module": "@jupyter-widgets/controls",
      "model_module_version": "1.4.0",
      "model_name": "ProgressStyleModel",
      "state": {
       "description_width": "initial"
      }
     },
     "aae650ab4d1246d7bcdfb09e9c4ebf2a": {
      "model_module": "@jupyter-widgets/controls",
      "model_module_version": "1.4.0",
      "model_name": "HTMLModel",
      "state": {
       "layout": "IPY_MODEL_e93bf1517694446f843fc1fc95368e49",
       "style": "IPY_MODEL_9fc33061eb9e4275924159c10b5f53d2",
       "value": " 11/11 [04:13&lt;00:00, 22.93s/it]"
      }
     },
     "ab55958884ca4a2684421323c44d769e": {
      "model_module": "@jupyter-widgets/base",
      "model_module_version": "1.1.0",
      "model_name": "LayoutModel",
      "state": {}
     },
     "ac13ca84cd7e40fab768ade2fd7d7dcf": {
      "model_module": "@jupyter-widgets/controls",
      "model_module_version": "1.4.0",
      "model_name": "HBoxModel",
      "state": {
       "children": [
        "IPY_MODEL_c06d924bd0cf428da464ebf4399d4039",
        "IPY_MODEL_78ba93fce5c54c3680782ac46456eb2b"
       ],
       "layout": "IPY_MODEL_1fd2f5558ccf4b31b9546312dc0fa4eb"
      }
     },
     "ac7a51ab758f428bafe51c6d6d4a346f": {
      "model_module": "@jupyter-widgets/base",
      "model_module_version": "1.1.0",
      "model_name": "LayoutModel",
      "state": {}
     },
     "ac81a08efb6943dfbdd2284ff6b42a04": {
      "model_module": "@jupyter-widgets/controls",
      "model_module_version": "1.4.0",
      "model_name": "FloatProgressModel",
      "state": {
       "description": "Train_Iter: 100%",
       "layout": "IPY_MODEL_efcc88a1579e4d6bae453bd8f5bc751d",
       "max": 87,
       "style": "IPY_MODEL_bb6f95a03726476eb309286c0114e60d",
       "value": 87
      }
     },
     "ae163356c70c4639ae023bf0e578b826": {
      "model_module": "@jupyter-widgets/controls",
      "model_module_version": "1.4.0",
      "model_name": "HTMLModel",
      "state": {
       "layout": "IPY_MODEL_a6224a1c95fa4bff8e87ebdf36e4e430",
       "style": "IPY_MODEL_1fc6ec1bf412461d97d727cfe944c8bd",
       "value": " 87/87 [51:50&lt;00:00, 35.65s/it]"
      }
     },
     "ae6c07f5a8c3449681c188884848feb9": {
      "model_module": "@jupyter-widgets/base",
      "model_module_version": "1.1.0",
      "model_name": "LayoutModel",
      "state": {}
     },
     "af93fe0c08024baa97c53632eb64df5c": {
      "model_module": "@jupyter-widgets/base",
      "model_module_version": "1.1.0",
      "model_name": "LayoutModel",
      "state": {}
     },
     "afaba5099986406f9e58a97ee54db2fb": {
      "model_module": "@jupyter-widgets/base",
      "model_module_version": "1.1.0",
      "model_name": "LayoutModel",
      "state": {}
     },
     "afbf535eda894bad929fdecea1f009b8": {
      "model_module": "@jupyter-widgets/base",
      "model_module_version": "1.1.0",
      "model_name": "LayoutModel",
      "state": {}
     },
     "b03d5c57fd794794aafe9bddbe279a4b": {
      "model_module": "@jupyter-widgets/base",
      "model_module_version": "1.1.0",
      "model_name": "LayoutModel",
      "state": {}
     },
     "b06768d17e6a4e6fbb0bc060bf8051bd": {
      "model_module": "@jupyter-widgets/controls",
      "model_module_version": "1.4.0",
      "model_name": "HTMLModel",
      "state": {
       "layout": "IPY_MODEL_b9cdf2dccb0647a28e0df278c0e8ee87",
       "style": "IPY_MODEL_3873619e15984e2785999a5082af8b55",
       "value": " 11/11 [04:16&lt;00:00, 23.36s/it]"
      }
     },
     "b0d92c85f0244d169f1e9eaea3595c3c": {
      "model_module": "@jupyter-widgets/base",
      "model_module_version": "1.1.0",
      "model_name": "LayoutModel",
      "state": {}
     },
     "b137948b9168496eb490f09a368fadc0": {
      "model_module": "@jupyter-widgets/controls",
      "model_module_version": "1.4.0",
      "model_name": "FloatProgressModel",
      "state": {
       "description": "Val_Iter: 100%",
       "layout": "IPY_MODEL_973d5cfd7c144697b43520566c00d8f7",
       "max": 11,
       "style": "IPY_MODEL_64247600538a4f42817056653504d453",
       "value": 11
      }
     },
     "b1e2d7a8e5e649378275353af2320df6": {
      "model_module": "@jupyter-widgets/controls",
      "model_module_version": "1.4.0",
      "model_name": "ProgressStyleModel",
      "state": {
       "description_width": "initial"
      }
     },
     "b2243570e82b410e8a3da00127f16ce3": {
      "model_module": "@jupyter-widgets/controls",
      "model_module_version": "1.4.0",
      "model_name": "HTMLModel",
      "state": {
       "layout": "IPY_MODEL_82df1e5d6406449eab6588d8fd47a450",
       "style": "IPY_MODEL_e33fe72bb2ef4e73a85e0fb917b45469",
       "value": " 11/11 [04:14&lt;00:00, 23.21s/it]"
      }
     },
     "b259e15f64a64172a636c01ad50098d0": {
      "model_module": "@jupyter-widgets/controls",
      "model_module_version": "1.4.0",
      "model_name": "FloatProgressModel",
      "state": {
       "bar_style": "danger",
       "description": " 52%",
       "layout": "IPY_MODEL_f5638e32e9fe44c09d9109cb7efb6e54",
       "max": 6457,
       "style": "IPY_MODEL_8d9959877e5c42e8aead176c1b99311d",
       "value": 3389
      }
     },
     "b35991b4fa2448b2aa91531f875c65cf": {
      "model_module": "@jupyter-widgets/base",
      "model_module_version": "1.1.0",
      "model_name": "LayoutModel",
      "state": {}
     },
     "b363d1e512884aaf95b42b34d820ffb2": {
      "model_module": "@jupyter-widgets/controls",
      "model_module_version": "1.4.0",
      "model_name": "DescriptionStyleModel",
      "state": {
       "description_width": ""
      }
     },
     "b402622cb6dc45859f9a6e15368b11b6": {
      "model_module": "@jupyter-widgets/base",
      "model_module_version": "1.1.0",
      "model_name": "LayoutModel",
      "state": {}
     },
     "b4174ca72806480c9c40fe74f457a944": {
      "model_module": "@jupyter-widgets/controls",
      "model_module_version": "1.4.0",
      "model_name": "HBoxModel",
      "state": {
       "children": [
        "IPY_MODEL_db80c0e8f732499f93c2afc2f02c5d18",
        "IPY_MODEL_8f24c805959b4c66b5676defb5e45bd7"
       ],
       "layout": "IPY_MODEL_432456c5b30844dd8eeb54c1c628da7a"
      }
     },
     "b57f2832800441ee985f911a1f193df6": {
      "model_module": "@jupyter-widgets/controls",
      "model_module_version": "1.4.0",
      "model_name": "DescriptionStyleModel",
      "state": {
       "description_width": ""
      }
     },
     "b5d500a3771f4fb4902fba70d880a41d": {
      "model_module": "@jupyter-widgets/controls",
      "model_module_version": "1.4.0",
      "model_name": "DescriptionStyleModel",
      "state": {
       "description_width": ""
      }
     },
     "b70b6eaecfa140a8ba16f2ae92f9a8b7": {
      "model_module": "@jupyter-widgets/base",
      "model_module_version": "1.1.0",
      "model_name": "LayoutModel",
      "state": {}
     },
     "b70f5a880f45428dbe70daa939f1d436": {
      "model_module": "@jupyter-widgets/base",
      "model_module_version": "1.1.0",
      "model_name": "LayoutModel",
      "state": {}
     },
     "b7a5cb76033d4398a19ef04dc0c18e99": {
      "model_module": "@jupyter-widgets/base",
      "model_module_version": "1.1.0",
      "model_name": "LayoutModel",
      "state": {}
     },
     "b84c1ac1e6b847ba8e0b448a1a2ac678": {
      "model_module": "@jupyter-widgets/controls",
      "model_module_version": "1.4.0",
      "model_name": "DescriptionStyleModel",
      "state": {
       "description_width": ""
      }
     },
     "b942a08c21a14c79b4862929ca4e44ed": {
      "model_module": "@jupyter-widgets/base",
      "model_module_version": "1.1.0",
      "model_name": "LayoutModel",
      "state": {}
     },
     "b9cdf2dccb0647a28e0df278c0e8ee87": {
      "model_module": "@jupyter-widgets/base",
      "model_module_version": "1.1.0",
      "model_name": "LayoutModel",
      "state": {}
     },
     "ba266ee856984ab4857114c6cde18d86": {
      "model_module": "@jupyter-widgets/base",
      "model_module_version": "1.1.0",
      "model_name": "LayoutModel",
      "state": {}
     },
     "ba659d6aab6246a8a34b773629465f25": {
      "model_module": "@jupyter-widgets/base",
      "model_module_version": "1.1.0",
      "model_name": "LayoutModel",
      "state": {}
     },
     "bb06f72928394f16b2f75eac1d6c095f": {
      "model_module": "@jupyter-widgets/controls",
      "model_module_version": "1.4.0",
      "model_name": "ProgressStyleModel",
      "state": {
       "description_width": "initial"
      }
     },
     "bb6f95a03726476eb309286c0114e60d": {
      "model_module": "@jupyter-widgets/controls",
      "model_module_version": "1.4.0",
      "model_name": "ProgressStyleModel",
      "state": {
       "description_width": "initial"
      }
     },
     "bdb5c406e60940d9947711013c06dfc9": {
      "model_module": "@jupyter-widgets/base",
      "model_module_version": "1.1.0",
      "model_name": "LayoutModel",
      "state": {}
     },
     "be16aef3cc454da598e07725d07262cd": {
      "model_module": "@jupyter-widgets/controls",
      "model_module_version": "1.4.0",
      "model_name": "ProgressStyleModel",
      "state": {
       "description_width": "initial"
      }
     },
     "c06d924bd0cf428da464ebf4399d4039": {
      "model_module": "@jupyter-widgets/controls",
      "model_module_version": "1.4.0",
      "model_name": "FloatProgressModel",
      "state": {
       "bar_style": "danger",
       "description": "Train_Iter:   0%",
       "layout": "IPY_MODEL_b70f5a880f45428dbe70daa939f1d436",
       "max": 87,
       "style": "IPY_MODEL_16cdc7cd5bb54a308935142b9776b7d7"
      }
     },
     "c15156fea849420fa0feae96c3ac92a7": {
      "model_module": "@jupyter-widgets/base",
      "model_module_version": "1.1.0",
      "model_name": "LayoutModel",
      "state": {}
     },
     "c15a594b68454207904aa340f3481fa0": {
      "model_module": "@jupyter-widgets/controls",
      "model_module_version": "1.4.0",
      "model_name": "HTMLModel",
      "state": {
       "layout": "IPY_MODEL_52392695bc774640ab2955a17257b3d4",
       "style": "IPY_MODEL_b57f2832800441ee985f911a1f193df6",
       "value": " 0/50 [00:00&lt;?, ?it/s]"
      }
     },
     "c1686bf9a7c04c3ca428d493a0a7ab88": {
      "model_module": "@jupyter-widgets/controls",
      "model_module_version": "1.4.0",
      "model_name": "HTMLModel",
      "state": {
       "layout": "IPY_MODEL_daf109cb339c46df9b9f03d17b044802",
       "style": "IPY_MODEL_ef6811cf01874e55a2e462e469ae053c",
       "value": " 87/87 [1:00:03&lt;00:00, 42.30s/it]"
      }
     },
     "c2019ab6cc6843d5b68403a2fb39a40f": {
      "model_module": "@jupyter-widgets/controls",
      "model_module_version": "1.4.0",
      "model_name": "ProgressStyleModel",
      "state": {
       "description_width": "initial"
      }
     },
     "c312f07732d34ea983116dab765ba330": {
      "model_module": "@jupyter-widgets/base",
      "model_module_version": "1.1.0",
      "model_name": "LayoutModel",
      "state": {}
     },
     "c3c6151d1dda4a64ae67d4c9afb1587f": {
      "model_module": "@jupyter-widgets/controls",
      "model_module_version": "1.4.0",
      "model_name": "DescriptionStyleModel",
      "state": {
       "description_width": ""
      }
     },
     "c40f09d480c1475d97873cf9b33eda09": {
      "model_module": "@jupyter-widgets/controls",
      "model_module_version": "1.4.0",
      "model_name": "ProgressStyleModel",
      "state": {
       "description_width": "initial"
      }
     },
     "c65c98abd5da40dfb6f996e4df2bc597": {
      "model_module": "@jupyter-widgets/controls",
      "model_module_version": "1.4.0",
      "model_name": "HTMLModel",
      "state": {
       "layout": "IPY_MODEL_c312f07732d34ea983116dab765ba330",
       "style": "IPY_MODEL_0c4f07398e294335bc2e8a7e16fea46f",
       "value": " 11/11 [04:02&lt;00:00, 22.10s/it]"
      }
     },
     "c677d9503a1749c7952279984fe087c7": {
      "model_module": "@jupyter-widgets/base",
      "model_module_version": "1.1.0",
      "model_name": "LayoutModel",
      "state": {}
     },
     "c781ef80435a4581b0ed82e804bc016b": {
      "model_module": "@jupyter-widgets/controls",
      "model_module_version": "1.4.0",
      "model_name": "ProgressStyleModel",
      "state": {
       "description_width": "initial"
      }
     },
     "c7d348816d574722b38d6c5cd8c478ae": {
      "model_module": "@jupyter-widgets/base",
      "model_module_version": "1.1.0",
      "model_name": "LayoutModel",
      "state": {}
     },
     "c853c654261c4eac9d4ec351c3b03cde": {
      "model_module": "@jupyter-widgets/base",
      "model_module_version": "1.1.0",
      "model_name": "LayoutModel",
      "state": {}
     },
     "c9e92f5e542a49f284f490c250db220f": {
      "model_module": "@jupyter-widgets/base",
      "model_module_version": "1.1.0",
      "model_name": "LayoutModel",
      "state": {}
     },
     "ca233808164847148ace5a996d93d9b6": {
      "model_module": "@jupyter-widgets/controls",
      "model_module_version": "1.4.0",
      "model_name": "HTMLModel",
      "state": {
       "layout": "IPY_MODEL_1e15df9ed4c2438e870aa8434890313f",
       "style": "IPY_MODEL_0a175d8e29c04840a4de3eadcd496bf3",
       "value": " 11/11 [04:16&lt;00:00, 23.29s/it]"
      }
     },
     "ca4093e442dd423bad842dd366cca4af": {
      "model_module": "@jupyter-widgets/base",
      "model_module_version": "1.1.0",
      "model_name": "LayoutModel",
      "state": {}
     },
     "ca9faadee9334413ae8fd59a2d140b3d": {
      "model_module": "@jupyter-widgets/base",
      "model_module_version": "1.1.0",
      "model_name": "LayoutModel",
      "state": {}
     },
     "caeb75d385024953bb341830c880e69d": {
      "model_module": "@jupyter-widgets/base",
      "model_module_version": "1.1.0",
      "model_name": "LayoutModel",
      "state": {}
     },
     "cbef7c5cf6cb4beab6cff7f1c0a266da": {
      "model_module": "@jupyter-widgets/base",
      "model_module_version": "1.1.0",
      "model_name": "LayoutModel",
      "state": {}
     },
     "cca1157538bf462eb48caabcd2e79efc": {
      "model_module": "@jupyter-widgets/base",
      "model_module_version": "1.1.0",
      "model_name": "LayoutModel",
      "state": {}
     },
     "cd62ed1325744756829e7479f5dd9ccb": {
      "model_module": "@jupyter-widgets/base",
      "model_module_version": "1.1.0",
      "model_name": "LayoutModel",
      "state": {}
     },
     "cddff91b4c7d4f9f93fd18ceda00ee51": {
      "model_module": "@jupyter-widgets/controls",
      "model_module_version": "1.4.0",
      "model_name": "DescriptionStyleModel",
      "state": {
       "description_width": ""
      }
     },
     "ce2f97fc059a4b3791e7b9904c87527d": {
      "model_module": "@jupyter-widgets/controls",
      "model_module_version": "1.4.0",
      "model_name": "ProgressStyleModel",
      "state": {
       "description_width": "initial"
      }
     },
     "ce8dd747fe9541548a17101e18619576": {
      "model_module": "@jupyter-widgets/controls",
      "model_module_version": "1.4.0",
      "model_name": "HTMLModel",
      "state": {
       "layout": "IPY_MODEL_b70b6eaecfa140a8ba16f2ae92f9a8b7",
       "style": "IPY_MODEL_62a8ccb44b49489991920aec336526d8",
       "value": " 10/300 [02:42&lt;1:18:36, 16.26s/it]"
      }
     },
     "cfbd411e131e4534b416baca0c8159ce": {
      "model_module": "@jupyter-widgets/controls",
      "model_module_version": "1.4.0",
      "model_name": "HTMLModel",
      "state": {
       "layout": "IPY_MODEL_cbef7c5cf6cb4beab6cff7f1c0a266da",
       "style": "IPY_MODEL_3b9c9abcfa6749f5b8daef92ba55ca51",
       "value": " 87/87 [56:55&lt;00:00, 38.57s/it]"
      }
     },
     "d05bfdc1d87044e28b80471174bd0a84": {
      "model_module": "@jupyter-widgets/controls",
      "model_module_version": "1.4.0",
      "model_name": "DescriptionStyleModel",
      "state": {
       "description_width": ""
      }
     },
     "d0732bf7788640a6bc9121156ee49e91": {
      "model_module": "@jupyter-widgets/base",
      "model_module_version": "1.1.0",
      "model_name": "LayoutModel",
      "state": {}
     },
     "d08af3e0fc974cadad3c33e76efa7cff": {
      "model_module": "@jupyter-widgets/base",
      "model_module_version": "1.1.0",
      "model_name": "LayoutModel",
      "state": {}
     },
     "d0aae54e82a84212b2b4c97d946221f7": {
      "model_module": "@jupyter-widgets/controls",
      "model_module_version": "1.4.0",
      "model_name": "HTMLModel",
      "state": {
       "layout": "IPY_MODEL_5d754b4cec1f49c9b585000654830094",
       "style": "IPY_MODEL_a852123b0b344d1ea6a73d2e7b266884",
       "value": " 87/87 [53:35&lt;00:00, 37.99s/it]"
      }
     },
     "d0d00490b5b444eeac02f354c42837b5": {
      "model_module": "@jupyter-widgets/base",
      "model_module_version": "1.1.0",
      "model_name": "LayoutModel",
      "state": {}
     },
     "d199b7df759140748450af60cd7d3785": {
      "model_module": "@jupyter-widgets/controls",
      "model_module_version": "1.4.0",
      "model_name": "HBoxModel",
      "state": {
       "children": [
        "IPY_MODEL_87e19f680ebc4e3fafefc9d2826defb1",
        "IPY_MODEL_4f72ae606cf54b30bedc548cfba83159"
       ],
       "layout": "IPY_MODEL_ac7a51ab758f428bafe51c6d6d4a346f"
      }
     },
     "d2e048076ea44a0b9681772c4b19ac99": {
      "model_module": "@jupyter-widgets/base",
      "model_module_version": "1.1.0",
      "model_name": "LayoutModel",
      "state": {}
     },
     "d31dea4b7b6a4302ab7748d5b59b3e31": {
      "model_module": "@jupyter-widgets/controls",
      "model_module_version": "1.4.0",
      "model_name": "ProgressStyleModel",
      "state": {
       "description_width": "initial"
      }
     },
     "d36a249433494db0a1022865722b618f": {
      "model_module": "@jupyter-widgets/controls",
      "model_module_version": "1.4.0",
      "model_name": "DescriptionStyleModel",
      "state": {
       "description_width": ""
      }
     },
     "d3e9397743a54c8183dd5c423f86b308": {
      "model_module": "@jupyter-widgets/base",
      "model_module_version": "1.1.0",
      "model_name": "LayoutModel",
      "state": {}
     },
     "d4f44dc1942c4349a1d0e6068cbf1a6b": {
      "model_module": "@jupyter-widgets/controls",
      "model_module_version": "1.4.0",
      "model_name": "FloatProgressModel",
      "state": {
       "description": "Train_Iter: 100%",
       "layout": "IPY_MODEL_d959f6c6a9d14c469b9c8df85038a28e",
       "max": 87,
       "style": "IPY_MODEL_f4cf89a19320477389c0d75fa2b1710d",
       "value": 87
      }
     },
     "d504c590259a4b8eb985eae5eb2bba77": {
      "model_module": "@jupyter-widgets/controls",
      "model_module_version": "1.4.0",
      "model_name": "HTMLModel",
      "state": {
       "layout": "IPY_MODEL_9e099eff602140f8b9790113cb391741",
       "style": "IPY_MODEL_128c9f0683a8419db700394458b19137",
       "value": " 11/11 [04:06&lt;00:00, 21.60s/it]"
      }
     },
     "d58d5be094b14d19bbb265668a997cda": {
      "model_module": "@jupyter-widgets/base",
      "model_module_version": "1.1.0",
      "model_name": "LayoutModel",
      "state": {}
     },
     "d5d90296b40a4357acc9ef4fedffddd9": {
      "model_module": "@jupyter-widgets/base",
      "model_module_version": "1.1.0",
      "model_name": "LayoutModel",
      "state": {}
     },
     "d5e3f25b35ea407d8db8597bcca6a55d": {
      "model_module": "@jupyter-widgets/base",
      "model_module_version": "1.1.0",
      "model_name": "LayoutModel",
      "state": {}
     },
     "d6d420eae62e4a7a996fa785290ff574": {
      "model_module": "@jupyter-widgets/base",
      "model_module_version": "1.1.0",
      "model_name": "LayoutModel",
      "state": {}
     },
     "d85e66ebc1924eeeb003c98dbad6fdf0": {
      "model_module": "@jupyter-widgets/controls",
      "model_module_version": "1.4.0",
      "model_name": "DescriptionStyleModel",
      "state": {
       "description_width": ""
      }
     },
     "d959f6c6a9d14c469b9c8df85038a28e": {
      "model_module": "@jupyter-widgets/base",
      "model_module_version": "1.1.0",
      "model_name": "LayoutModel",
      "state": {}
     },
     "d9be3ac510ba4934a018e93d9762a9e5": {
      "model_module": "@jupyter-widgets/controls",
      "model_module_version": "1.4.0",
      "model_name": "ProgressStyleModel",
      "state": {
       "description_width": "initial"
      }
     },
     "dacc4f79ab014059a64d27ec64e28953": {
      "model_module": "@jupyter-widgets/controls",
      "model_module_version": "1.4.0",
      "model_name": "HTMLModel",
      "state": {
       "layout": "IPY_MODEL_74d59e14424b4ffbb01853720662bfec",
       "style": "IPY_MODEL_b5d500a3771f4fb4902fba70d880a41d",
       "value": " 87/87 [53:46&lt;00:00, 38.19s/it]"
      }
     },
     "daf109cb339c46df9b9f03d17b044802": {
      "model_module": "@jupyter-widgets/base",
      "model_module_version": "1.1.0",
      "model_name": "LayoutModel",
      "state": {}
     },
     "db7a537757e44ad39a014785f7a30362": {
      "model_module": "@jupyter-widgets/base",
      "model_module_version": "1.1.0",
      "model_name": "LayoutModel",
      "state": {}
     },
     "db80c0e8f732499f93c2afc2f02c5d18": {
      "model_module": "@jupyter-widgets/controls",
      "model_module_version": "1.4.0",
      "model_name": "FloatProgressModel",
      "state": {
       "description": "Epoch:  10%",
       "layout": "IPY_MODEL_e0061c987f1f4287929671bd23fda19c",
       "max": 50,
       "style": "IPY_MODEL_54d5d5dc8bbc458682c1cb77e4380b30",
       "value": 5
      }
     },
     "de767eebe5b948258efef812fab9f114": {
      "model_module": "@jupyter-widgets/base",
      "model_module_version": "1.1.0",
      "model_name": "LayoutModel",
      "state": {}
     },
     "df4956c28a724455b6a4a88004468e52": {
      "model_module": "@jupyter-widgets/controls",
      "model_module_version": "1.4.0",
      "model_name": "DescriptionStyleModel",
      "state": {
       "description_width": ""
      }
     },
     "dfa7b7f2a48c463fb67c90fcb38b1552": {
      "model_module": "@jupyter-widgets/controls",
      "model_module_version": "1.4.0",
      "model_name": "DescriptionStyleModel",
      "state": {
       "description_width": ""
      }
     },
     "e0061c987f1f4287929671bd23fda19c": {
      "model_module": "@jupyter-widgets/base",
      "model_module_version": "1.1.0",
      "model_name": "LayoutModel",
      "state": {}
     },
     "e0762495f883467e9c81c386b74b9693": {
      "model_module": "@jupyter-widgets/controls",
      "model_module_version": "1.4.0",
      "model_name": "FloatProgressModel",
      "state": {
       "description": "Val_Iter: 100%",
       "layout": "IPY_MODEL_3f49c4d5a8d749a7a009224bc5fab633",
       "max": 11,
       "style": "IPY_MODEL_7940b28c77544881b9c8c1e7ffa47634",
       "value": 11
      }
     },
     "e1c39d3ccbdd4dd38984114d3fa7d7e6": {
      "model_module": "@jupyter-widgets/base",
      "model_module_version": "1.1.0",
      "model_name": "LayoutModel",
      "state": {}
     },
     "e23abb7e8ed844639541b3d321db77d6": {
      "model_module": "@jupyter-widgets/controls",
      "model_module_version": "1.4.0",
      "model_name": "HTMLModel",
      "state": {
       "layout": "IPY_MODEL_32052d5b6bb74e45b4c2955fe358c608",
       "style": "IPY_MODEL_826f28fbb3234f5697a095f9ba30e0dc",
       "value": " 37/87 [25:33&lt;33:33, 40.28s/it]"
      }
     },
     "e2a141bbe8fe480c9095d81bd82d264d": {
      "model_module": "@jupyter-widgets/controls",
      "model_module_version": "1.4.0",
      "model_name": "FloatProgressModel",
      "state": {
       "description": "Val_Iter: 100%",
       "layout": "IPY_MODEL_ae6c07f5a8c3449681c188884848feb9",
       "max": 11,
       "style": "IPY_MODEL_3d568180d0a0447da7ed25233270edc1",
       "value": 11
      }
     },
     "e33fe72bb2ef4e73a85e0fb917b45469": {
      "model_module": "@jupyter-widgets/controls",
      "model_module_version": "1.4.0",
      "model_name": "DescriptionStyleModel",
      "state": {
       "description_width": ""
      }
     },
     "e43b3a19a3d04d818a2352e55b1cccc7": {
      "model_module": "@jupyter-widgets/controls",
      "model_module_version": "1.4.0",
      "model_name": "HBoxModel",
      "state": {
       "children": [
        "IPY_MODEL_fd644aed7d714e3d86e834223c8997f9",
        "IPY_MODEL_c15a594b68454207904aa340f3481fa0"
       ],
       "layout": "IPY_MODEL_3f4226ec5d264b4a87de98027d90691b"
      }
     },
     "e49b2392bbf449b28d6c8a7510038fa5": {
      "model_module": "@jupyter-widgets/controls",
      "model_module_version": "1.4.0",
      "model_name": "DescriptionStyleModel",
      "state": {
       "description_width": ""
      }
     },
     "e4d6aa24b23542cca64e6b6bbc957290": {
      "model_module": "@jupyter-widgets/controls",
      "model_module_version": "1.4.0",
      "model_name": "ProgressStyleModel",
      "state": {
       "description_width": "initial"
      }
     },
     "e51fc85f748947afba80a2564c086d39": {
      "model_module": "@jupyter-widgets/controls",
      "model_module_version": "1.4.0",
      "model_name": "HTMLModel",
      "state": {
       "layout": "IPY_MODEL_99aff0993f8643abb59db9e1d6a16059",
       "style": "IPY_MODEL_66d40863d215472f9e7fec24b8f20b1f",
       "value": " 11/11 [04:15&lt;00:00, 23.40s/it]"
      }
     },
     "e5ccf06e9c4d422b9206cf17fdccb835": {
      "model_module": "@jupyter-widgets/controls",
      "model_module_version": "1.4.0",
      "model_name": "ProgressStyleModel",
      "state": {
       "description_width": "initial"
      }
     },
     "e5fe46f789054e53a6d371c22c67ef5c": {
      "model_module": "@jupyter-widgets/controls",
      "model_module_version": "1.4.0",
      "model_name": "DescriptionStyleModel",
      "state": {
       "description_width": ""
      }
     },
     "e63ad9bb8b7743b4a9d19fe457b0feac": {
      "model_module": "@jupyter-widgets/controls",
      "model_module_version": "1.4.0",
      "model_name": "FloatProgressModel",
      "state": {
       "description": "Train_Iter: 100%",
       "layout": "IPY_MODEL_3a8c10a932fe472babbe645033502fa0",
       "max": 87,
       "style": "IPY_MODEL_9d60264dec6340b5b92082e95a33d63e",
       "value": 87
      }
     },
     "e7513f22f9fc4e6c857e261f08993ca3": {
      "model_module": "@jupyter-widgets/controls",
      "model_module_version": "1.4.0",
      "model_name": "FloatProgressModel",
      "state": {
       "description": "Val_Iter: 100%",
       "layout": "IPY_MODEL_d5e3f25b35ea407d8db8597bcca6a55d",
       "max": 11,
       "style": "IPY_MODEL_15b40f5b7e434ff18a25568f612fc490",
       "value": 11
      }
     },
     "e7fb2ad6672141c1b63d4b4b6caac70a": {
      "model_module": "@jupyter-widgets/controls",
      "model_module_version": "1.4.0",
      "model_name": "ProgressStyleModel",
      "state": {
       "description_width": "initial"
      }
     },
     "e8f97153d8484fdd83be7cb5b114edf8": {
      "model_module": "@jupyter-widgets/controls",
      "model_module_version": "1.4.0",
      "model_name": "FloatProgressModel",
      "state": {
       "description": "Val_Iter: 100%",
       "layout": "IPY_MODEL_83f75d1519b9402c8e264890b09a4502",
       "max": 11,
       "style": "IPY_MODEL_c781ef80435a4581b0ed82e804bc016b",
       "value": 11
      }
     },
     "e93bf1517694446f843fc1fc95368e49": {
      "model_module": "@jupyter-widgets/base",
      "model_module_version": "1.1.0",
      "model_name": "LayoutModel",
      "state": {}
     },
     "ec799499b73f4d17941b990fea0514d2": {
      "model_module": "@jupyter-widgets/controls",
      "model_module_version": "1.4.0",
      "model_name": "HTMLModel",
      "state": {
       "layout": "IPY_MODEL_b7a5cb76033d4398a19ef04dc0c18e99",
       "style": "IPY_MODEL_6122c3ddb0a84369a649d27570570cbc",
       "value": " 87/87 [55:46&lt;00:00, 37.36s/it]"
      }
     },
     "ecfd6275f702418eaa9fae9ad0078aea": {
      "model_module": "@jupyter-widgets/base",
      "model_module_version": "1.1.0",
      "model_name": "LayoutModel",
      "state": {}
     },
     "ed2a01f5f637497ca481156638d97ee4": {
      "model_module": "@jupyter-widgets/controls",
      "model_module_version": "1.4.0",
      "model_name": "FloatProgressModel",
      "state": {
       "description": "Val_Iter: 100%",
       "layout": "IPY_MODEL_8993a4cb918144f9892a9605b35e9c7e",
       "max": 11,
       "style": "IPY_MODEL_be16aef3cc454da598e07725d07262cd",
       "value": 11
      }
     },
     "ed30790935cd4171a5130de048ccd0a1": {
      "model_module": "@jupyter-widgets/base",
      "model_module_version": "1.1.0",
      "model_name": "LayoutModel",
      "state": {}
     },
     "ed31e49bf58a40c5a16c2fa369e5bc2d": {
      "model_module": "@jupyter-widgets/controls",
      "model_module_version": "1.4.0",
      "model_name": "FloatProgressModel",
      "state": {
       "description": "Train_Iter: 100%",
       "layout": "IPY_MODEL_ab55958884ca4a2684421323c44d769e",
       "max": 87,
       "style": "IPY_MODEL_664a29ec8c9246aabf75dae01b0f3e5e",
       "value": 87
      }
     },
     "ed42608b89f44791bfe5e000698ef7c4": {
      "model_module": "@jupyter-widgets/controls",
      "model_module_version": "1.4.0",
      "model_name": "FloatProgressModel",
      "state": {
       "description": "Train_Iter: 100%",
       "layout": "IPY_MODEL_cd62ed1325744756829e7479f5dd9ccb",
       "max": 87,
       "style": "IPY_MODEL_70e4a339eef74c9a8d4a5ccb8f8bc1c8",
       "value": 87
      }
     },
     "ee68112692074b64bf325156e4f8688a": {
      "model_module": "@jupyter-widgets/base",
      "model_module_version": "1.1.0",
      "model_name": "LayoutModel",
      "state": {}
     },
     "ef080220e11944638f561cb163356595": {
      "model_module": "@jupyter-widgets/base",
      "model_module_version": "1.1.0",
      "model_name": "LayoutModel",
      "state": {}
     },
     "ef313b3a596f4377870fd3f2f963fec8": {
      "model_module": "@jupyter-widgets/controls",
      "model_module_version": "1.4.0",
      "model_name": "ProgressStyleModel",
      "state": {
       "description_width": "initial"
      }
     },
     "ef6811cf01874e55a2e462e469ae053c": {
      "model_module": "@jupyter-widgets/controls",
      "model_module_version": "1.4.0",
      "model_name": "DescriptionStyleModel",
      "state": {
       "description_width": ""
      }
     },
     "efcc88a1579e4d6bae453bd8f5bc751d": {
      "model_module": "@jupyter-widgets/base",
      "model_module_version": "1.1.0",
      "model_name": "LayoutModel",
      "state": {}
     },
     "efe57cb56a6e4d5a95375dca119cc01c": {
      "model_module": "@jupyter-widgets/controls",
      "model_module_version": "1.4.0",
      "model_name": "ProgressStyleModel",
      "state": {
       "description_width": "initial"
      }
     },
     "f005855452a64bfc85bd679ef5d8c45b": {
      "model_module": "@jupyter-widgets/base",
      "model_module_version": "1.1.0",
      "model_name": "LayoutModel",
      "state": {}
     },
     "f02d9ad50b3d4831b7e86c2b0dc5bad9": {
      "model_module": "@jupyter-widgets/base",
      "model_module_version": "1.1.0",
      "model_name": "LayoutModel",
      "state": {}
     },
     "f0955acbdf5949dc8b39985025ab59bb": {
      "model_module": "@jupyter-widgets/base",
      "model_module_version": "1.1.0",
      "model_name": "LayoutModel",
      "state": {}
     },
     "f10d68d5ff6944dd87530bd23c0ff692": {
      "model_module": "@jupyter-widgets/base",
      "model_module_version": "1.1.0",
      "model_name": "LayoutModel",
      "state": {}
     },
     "f25bc9a262e6463a85e7f09bc746f686": {
      "model_module": "@jupyter-widgets/base",
      "model_module_version": "1.1.0",
      "model_name": "LayoutModel",
      "state": {}
     },
     "f25df14594d840c7b8c696bac47169a2": {
      "model_module": "@jupyter-widgets/controls",
      "model_module_version": "1.4.0",
      "model_name": "ProgressStyleModel",
      "state": {
       "description_width": "initial"
      }
     },
     "f25e75beeca740db9182d098cc3d20a5": {
      "model_module": "@jupyter-widgets/controls",
      "model_module_version": "1.4.0",
      "model_name": "ProgressStyleModel",
      "state": {
       "description_width": "initial"
      }
     },
     "f36138565c29487b922a0b6eb8a8e4f0": {
      "model_module": "@jupyter-widgets/base",
      "model_module_version": "1.1.0",
      "model_name": "LayoutModel",
      "state": {}
     },
     "f3ae34476d654353a838958672ba5a83": {
      "model_module": "@jupyter-widgets/controls",
      "model_module_version": "1.4.0",
      "model_name": "HTMLModel",
      "state": {
       "layout": "IPY_MODEL_c853c654261c4eac9d4ec351c3b03cde",
       "style": "IPY_MODEL_9aa51d11fffe440fbb026e0b2f8ef544",
       "value": " 87/87 [54:37&lt;00:00, 38.70s/it]"
      }
     },
     "f3cc01903b964aecaff80c5a44df68fa": {
      "model_module": "@jupyter-widgets/controls",
      "model_module_version": "1.4.0",
      "model_name": "HBoxModel",
      "state": {
       "children": [
        "IPY_MODEL_26db79fd49614853b20f7bc21aa215ed",
        "IPY_MODEL_4bd542d1178e4888bedd5c78c5626c20"
       ],
       "layout": "IPY_MODEL_0a4c152367ec46d5b59b5b79e9e443a2"
      }
     },
     "f4a6256c58fb44da8addb1cdd48b1897": {
      "model_module": "@jupyter-widgets/controls",
      "model_module_version": "1.4.0",
      "model_name": "ProgressStyleModel",
      "state": {
       "description_width": "initial"
      }
     },
     "f4cf89a19320477389c0d75fa2b1710d": {
      "model_module": "@jupyter-widgets/controls",
      "model_module_version": "1.4.0",
      "model_name": "ProgressStyleModel",
      "state": {
       "description_width": "initial"
      }
     },
     "f5638e32e9fe44c09d9109cb7efb6e54": {
      "model_module": "@jupyter-widgets/base",
      "model_module_version": "1.1.0",
      "model_name": "LayoutModel",
      "state": {}
     },
     "f66b5ca7e643442592fbbc4a0a85f26f": {
      "model_module": "@jupyter-widgets/controls",
      "model_module_version": "1.4.0",
      "model_name": "DescriptionStyleModel",
      "state": {
       "description_width": ""
      }
     },
     "f6cf5d1a71ca4dd3bce344957887c2e2": {
      "model_module": "@jupyter-widgets/base",
      "model_module_version": "1.1.0",
      "model_name": "LayoutModel",
      "state": {}
     },
     "f72a7c1599664702b520e876512c9dac": {
      "model_module": "@jupyter-widgets/controls",
      "model_module_version": "1.4.0",
      "model_name": "FloatProgressModel",
      "state": {
       "description": "Train_Iter: 100%",
       "layout": "IPY_MODEL_c677d9503a1749c7952279984fe087c7",
       "max": 87,
       "style": "IPY_MODEL_f25df14594d840c7b8c696bac47169a2",
       "value": 87
      }
     },
     "f99bedd6659c48bc8fed09751d1ebd75": {
      "model_module": "@jupyter-widgets/controls",
      "model_module_version": "1.4.0",
      "model_name": "ProgressStyleModel",
      "state": {
       "description_width": "initial"
      }
     },
     "faa1e74c9fb9403494a351b98ebb61dc": {
      "model_module": "@jupyter-widgets/base",
      "model_module_version": "1.1.0",
      "model_name": "LayoutModel",
      "state": {}
     },
     "fad18746c9e0432bb83862ed21b8a3b6": {
      "model_module": "@jupyter-widgets/base",
      "model_module_version": "1.1.0",
      "model_name": "LayoutModel",
      "state": {}
     },
     "fb0c0b497e6b4e4892750019872f4164": {
      "model_module": "@jupyter-widgets/controls",
      "model_module_version": "1.4.0",
      "model_name": "DescriptionStyleModel",
      "state": {
       "description_width": ""
      }
     },
     "fb1534803e1447309be173eaf52bad78": {
      "model_module": "@jupyter-widgets/base",
      "model_module_version": "1.1.0",
      "model_name": "LayoutModel",
      "state": {}
     },
     "fbbc35e68a6a4e40994b331f070a1637": {
      "model_module": "@jupyter-widgets/controls",
      "model_module_version": "1.4.0",
      "model_name": "FloatProgressModel",
      "state": {
       "description": "Val_Iter: 100%",
       "layout": "IPY_MODEL_41cfc74d325a4be8837fd2d79302e779",
       "max": 11,
       "style": "IPY_MODEL_3222034cb75047439727f33acbc835f3",
       "value": 11
      }
     },
     "fbeac5f84b0242389a1102667432c47b": {
      "model_module": "@jupyter-widgets/controls",
      "model_module_version": "1.4.0",
      "model_name": "ProgressStyleModel",
      "state": {
       "description_width": "initial"
      }
     },
     "fc228996770f4347a785bba130b2486c": {
      "model_module": "@jupyter-widgets/base",
      "model_module_version": "1.1.0",
      "model_name": "LayoutModel",
      "state": {}
     },
     "fd644aed7d714e3d86e834223c8997f9": {
      "model_module": "@jupyter-widgets/controls",
      "model_module_version": "1.4.0",
      "model_name": "FloatProgressModel",
      "state": {
       "description": "Epoch:   0%",
       "layout": "IPY_MODEL_f0955acbdf5949dc8b39985025ab59bb",
       "max": 50,
       "style": "IPY_MODEL_33e56bf2ab4b49ea974432b4915e6995"
      }
     },
     "fd7ce960db12442f90422ac8c14e3686": {
      "model_module": "@jupyter-widgets/controls",
      "model_module_version": "1.4.0",
      "model_name": "ProgressStyleModel",
      "state": {
       "description_width": "initial"
      }
     },
     "fe22bf84657a4cf2b24c9a6b6a1e4a2b": {
      "model_module": "@jupyter-widgets/controls",
      "model_module_version": "1.4.0",
      "model_name": "FloatProgressModel",
      "state": {
       "description": "Train_Iter: 100%",
       "layout": "IPY_MODEL_4a3179508394429590f82e82793aaaa6",
       "max": 87,
       "style": "IPY_MODEL_5a58d9469e09466e80609040f8d89430",
       "value": 87
      }
     },
     "fe29101c64d642e5a88ba98b97bf4ac1": {
      "model_module": "@jupyter-widgets/base",
      "model_module_version": "1.1.0",
      "model_name": "LayoutModel",
      "state": {}
     },
     "feecf9b3bd304710a927cd25b778ad08": {
      "model_module": "@jupyter-widgets/base",
      "model_module_version": "1.1.0",
      "model_name": "LayoutModel",
      "state": {}
     },
     "ff888637100642dca130ec2fb7232e13": {
      "model_module": "@jupyter-widgets/controls",
      "model_module_version": "1.4.0",
      "model_name": "DescriptionStyleModel",
      "state": {
       "description_width": ""
      }
     }
    },
    "version_major": 2,
    "version_minor": 0
   }
  }
 },
 "nbformat": 4,
 "nbformat_minor": 4
}
