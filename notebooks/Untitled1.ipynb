{
 "cells": [
  {
   "cell_type": "code",
   "execution_count": 54,
   "metadata": {},
   "outputs": [],
   "source": [
    "import pandas as pd\n",
    "import json\n",
    "import os\n",
    "import spacy\n",
    "import numpy as np"
   ]
  },
  {
   "cell_type": "code",
   "execution_count": 25,
   "metadata": {},
   "outputs": [],
   "source": [
    "nlp = spacy.load('en_core_web_md')"
   ]
  },
  {
   "cell_type": "code",
   "execution_count": 5,
   "metadata": {},
   "outputs": [],
   "source": [
    "# desc_path = '../../dataset/descriptions/region_descriptions.json'\n",
    "# desc_json = pd.read_json(desc_path)"
   ]
  },
  {
   "cell_type": "code",
   "execution_count": 166,
   "metadata": {},
   "outputs": [],
   "source": [
    "image_desc = {}\n",
    "for image_id in df.ID.values:\n",
    "    \n",
    "    desc = df[df.ID==image_id].Desc.values[0]\n",
    "    desc = desc.replace('..','.')\n",
    "    image_desc[image_id]=desc"
   ]
  },
  {
   "cell_type": "code",
   "execution_count": 169,
   "metadata": {},
   "outputs": [],
   "source": [
    "df = pd.DataFrame.from_dict(image_desc,orient='index').reset_index()\n",
    "df.columns = [\"ID\",\"Desc\"]\n",
    "df.head()\n",
    "df.to_csv('../../dataset/descriptions/region_descriptions_50000.csv',index=False)"
   ]
  },
  {
   "cell_type": "code",
   "execution_count": 170,
   "metadata": {},
   "outputs": [],
   "source": [
    "df = pd.read_csv('../../dataset/descriptions/region_descriptions_50000.csv')"
   ]
  },
  {
   "cell_type": "code",
   "execution_count": 171,
   "metadata": {},
   "outputs": [
    {
     "data": {
      "text/plain": [
       "'A clock mounted to a wall. a sign on a wall. a blue support beam. a wooden pillar in a building. bars across a window. a light in a ceiling. a light at the bottom of a pole. a bar at an entrance. writing on a sign. a bright light.'"
      ]
     },
     "execution_count": 171,
     "metadata": {},
     "output_type": "execute_result"
    }
   ],
   "source": [
    "df[df.ID==2370764].Desc.values[0]"
   ]
  },
  {
   "cell_type": "code",
   "execution_count": 27,
   "metadata": {},
   "outputs": [
    {
     "data": {
      "text/plain": [
       "13837847"
      ]
     },
     "execution_count": 27,
     "metadata": {},
     "output_type": "execute_result"
    }
   ],
   "source": []
  },
  {
   "cell_type": "code",
   "execution_count": 29,
   "metadata": {
    "scrolled": true
   },
   "outputs": [
    {
     "ename": "KeyboardInterrupt",
     "evalue": "",
     "output_type": "error",
     "traceback": [
      "\u001b[0;31m---------------------------------------------------------------------------\u001b[0m",
      "\u001b[0;31mKeyboardInterrupt\u001b[0m                         Traceback (most recent call last)",
      "\u001b[0;32m<ipython-input-29-705d968b17ec>\u001b[0m in \u001b[0;36m<module>\u001b[0;34m()\u001b[0m\n\u001b[0;32m----> 1\u001b[0;31m \u001b[0mts\u001b[0m \u001b[0;34m=\u001b[0m \u001b[0mnlp\u001b[0m\u001b[0;34m(\u001b[0m\u001b[0;34m'. '\u001b[0m\u001b[0;34m.\u001b[0m\u001b[0mjoin\u001b[0m\u001b[0;34m(\u001b[0m\u001b[0mdf\u001b[0m\u001b[0;34m.\u001b[0m\u001b[0mDesc\u001b[0m\u001b[0;34m.\u001b[0m\u001b[0mvalues\u001b[0m\u001b[0;34m)\u001b[0m\u001b[0;34m)\u001b[0m\u001b[0;34m\u001b[0m\u001b[0m\n\u001b[0m",
      "\u001b[0;32m~/anaconda3/envs/tf-gpu/lib/python3.5/site-packages/spacy/language.py\u001b[0m in \u001b[0;36m__call__\u001b[0;34m(self, text, disable, component_cfg)\u001b[0m\n\u001b[1;32m    383\u001b[0m             \u001b[0;32mif\u001b[0m \u001b[0;32mnot\u001b[0m \u001b[0mhasattr\u001b[0m\u001b[0;34m(\u001b[0m\u001b[0mproc\u001b[0m\u001b[0;34m,\u001b[0m \u001b[0;34m\"__call__\"\u001b[0m\u001b[0;34m)\u001b[0m\u001b[0;34m:\u001b[0m\u001b[0;34m\u001b[0m\u001b[0m\n\u001b[1;32m    384\u001b[0m                 \u001b[0;32mraise\u001b[0m \u001b[0mValueError\u001b[0m\u001b[0;34m(\u001b[0m\u001b[0mErrors\u001b[0m\u001b[0;34m.\u001b[0m\u001b[0mE003\u001b[0m\u001b[0;34m.\u001b[0m\u001b[0mformat\u001b[0m\u001b[0;34m(\u001b[0m\u001b[0mcomponent\u001b[0m\u001b[0;34m=\u001b[0m\u001b[0mtype\u001b[0m\u001b[0;34m(\u001b[0m\u001b[0mproc\u001b[0m\u001b[0;34m)\u001b[0m\u001b[0;34m,\u001b[0m \u001b[0mname\u001b[0m\u001b[0;34m=\u001b[0m\u001b[0mname\u001b[0m\u001b[0;34m)\u001b[0m\u001b[0;34m)\u001b[0m\u001b[0;34m\u001b[0m\u001b[0m\n\u001b[0;32m--> 385\u001b[0;31m             \u001b[0mdoc\u001b[0m \u001b[0;34m=\u001b[0m \u001b[0mproc\u001b[0m\u001b[0;34m(\u001b[0m\u001b[0mdoc\u001b[0m\u001b[0;34m,\u001b[0m \u001b[0;34m**\u001b[0m\u001b[0mcomponent_cfg\u001b[0m\u001b[0;34m.\u001b[0m\u001b[0mget\u001b[0m\u001b[0;34m(\u001b[0m\u001b[0mname\u001b[0m\u001b[0;34m,\u001b[0m \u001b[0;34m{\u001b[0m\u001b[0;34m}\u001b[0m\u001b[0;34m)\u001b[0m\u001b[0;34m)\u001b[0m\u001b[0;34m\u001b[0m\u001b[0m\n\u001b[0m\u001b[1;32m    386\u001b[0m             \u001b[0;32mif\u001b[0m \u001b[0mdoc\u001b[0m \u001b[0;32mis\u001b[0m \u001b[0;32mNone\u001b[0m\u001b[0;34m:\u001b[0m\u001b[0;34m\u001b[0m\u001b[0m\n\u001b[1;32m    387\u001b[0m                 \u001b[0;32mraise\u001b[0m \u001b[0mValueError\u001b[0m\u001b[0;34m(\u001b[0m\u001b[0mErrors\u001b[0m\u001b[0;34m.\u001b[0m\u001b[0mE005\u001b[0m\u001b[0;34m.\u001b[0m\u001b[0mformat\u001b[0m\u001b[0;34m(\u001b[0m\u001b[0mname\u001b[0m\u001b[0;34m=\u001b[0m\u001b[0mname\u001b[0m\u001b[0;34m)\u001b[0m\u001b[0;34m)\u001b[0m\u001b[0;34m\u001b[0m\u001b[0m\n",
      "\u001b[0;32mnn_parser.pyx\u001b[0m in \u001b[0;36mspacy.syntax.nn_parser.Parser.__call__\u001b[0;34m()\u001b[0m\n",
      "\u001b[0;32mnn_parser.pyx\u001b[0m in \u001b[0;36mspacy.syntax.nn_parser.Parser.predict\u001b[0;34m()\u001b[0m\n",
      "\u001b[0;32mnn_parser.pyx\u001b[0m in \u001b[0;36mspacy.syntax.nn_parser.Parser.greedy_parse\u001b[0;34m()\u001b[0m\n",
      "\u001b[0;32m~/anaconda3/envs/tf-gpu/lib/python3.5/site-packages/thinc/neural/_classes/model.py\u001b[0m in \u001b[0;36m__call__\u001b[0;34m(self, x)\u001b[0m\n\u001b[1;32m    167\u001b[0m             \u001b[0mMust\u001b[0m \u001b[0mmatch\u001b[0m \u001b[0mexpected\u001b[0m \u001b[0mshape\u001b[0m\u001b[0;34m\u001b[0m\u001b[0m\n\u001b[1;32m    168\u001b[0m         \"\"\"\n\u001b[0;32m--> 169\u001b[0;31m         \u001b[0;32mreturn\u001b[0m \u001b[0mself\u001b[0m\u001b[0;34m.\u001b[0m\u001b[0mpredict\u001b[0m\u001b[0;34m(\u001b[0m\u001b[0mx\u001b[0m\u001b[0;34m)\u001b[0m\u001b[0;34m\u001b[0m\u001b[0m\n\u001b[0m\u001b[1;32m    170\u001b[0m \u001b[0;34m\u001b[0m\u001b[0m\n\u001b[1;32m    171\u001b[0m     \u001b[0;32mdef\u001b[0m \u001b[0mpipe\u001b[0m\u001b[0;34m(\u001b[0m\u001b[0mself\u001b[0m\u001b[0;34m,\u001b[0m \u001b[0mstream\u001b[0m\u001b[0;34m,\u001b[0m \u001b[0mbatch_size\u001b[0m\u001b[0;34m=\u001b[0m\u001b[0;36m128\u001b[0m\u001b[0;34m)\u001b[0m\u001b[0;34m:\u001b[0m\u001b[0;34m\u001b[0m\u001b[0m\n",
      "\u001b[0;32m~/anaconda3/envs/tf-gpu/lib/python3.5/site-packages/thinc/neural/_classes/model.py\u001b[0m in \u001b[0;36mpredict\u001b[0;34m(self, X)\u001b[0m\n\u001b[1;32m    131\u001b[0m \u001b[0;34m\u001b[0m\u001b[0m\n\u001b[1;32m    132\u001b[0m     \u001b[0;32mdef\u001b[0m \u001b[0mpredict\u001b[0m\u001b[0;34m(\u001b[0m\u001b[0mself\u001b[0m\u001b[0;34m,\u001b[0m \u001b[0mX\u001b[0m\u001b[0;34m)\u001b[0m\u001b[0;34m:\u001b[0m\u001b[0;34m\u001b[0m\u001b[0m\n\u001b[0;32m--> 133\u001b[0;31m         \u001b[0my\u001b[0m\u001b[0;34m,\u001b[0m \u001b[0m_\u001b[0m \u001b[0;34m=\u001b[0m \u001b[0mself\u001b[0m\u001b[0;34m.\u001b[0m\u001b[0mbegin_update\u001b[0m\u001b[0;34m(\u001b[0m\u001b[0mX\u001b[0m\u001b[0;34m,\u001b[0m \u001b[0mdrop\u001b[0m\u001b[0;34m=\u001b[0m\u001b[0;32mNone\u001b[0m\u001b[0;34m)\u001b[0m\u001b[0;34m\u001b[0m\u001b[0m\n\u001b[0m\u001b[1;32m    134\u001b[0m         \u001b[0;32mreturn\u001b[0m \u001b[0my\u001b[0m\u001b[0;34m\u001b[0m\u001b[0m\n\u001b[1;32m    135\u001b[0m \u001b[0;34m\u001b[0m\u001b[0m\n",
      "\u001b[0;32m_parser_model.pyx\u001b[0m in \u001b[0;36mspacy.syntax._parser_model.ParserModel.begin_update\u001b[0;34m()\u001b[0m\n",
      "\u001b[0;32m_parser_model.pyx\u001b[0m in \u001b[0;36mspacy.syntax._parser_model.ParserStepModel.__init__\u001b[0;34m()\u001b[0m\n",
      "\u001b[0;32m~/anaconda3/envs/tf-gpu/lib/python3.5/site-packages/thinc/neural/_classes/feed_forward.py\u001b[0m in \u001b[0;36mbegin_update\u001b[0;34m(self, X, drop)\u001b[0m\n\u001b[1;32m     44\u001b[0m         \u001b[0mcallbacks\u001b[0m \u001b[0;34m=\u001b[0m \u001b[0;34m[\u001b[0m\u001b[0;34m]\u001b[0m\u001b[0;34m\u001b[0m\u001b[0m\n\u001b[1;32m     45\u001b[0m         \u001b[0;32mfor\u001b[0m \u001b[0mlayer\u001b[0m \u001b[0;32min\u001b[0m \u001b[0mself\u001b[0m\u001b[0;34m.\u001b[0m\u001b[0m_layers\u001b[0m\u001b[0;34m:\u001b[0m\u001b[0;34m\u001b[0m\u001b[0m\n\u001b[0;32m---> 46\u001b[0;31m             \u001b[0mX\u001b[0m\u001b[0;34m,\u001b[0m \u001b[0minc_layer_grad\u001b[0m \u001b[0;34m=\u001b[0m \u001b[0mlayer\u001b[0m\u001b[0;34m.\u001b[0m\u001b[0mbegin_update\u001b[0m\u001b[0;34m(\u001b[0m\u001b[0mX\u001b[0m\u001b[0;34m,\u001b[0m \u001b[0mdrop\u001b[0m\u001b[0;34m=\u001b[0m\u001b[0mdrop\u001b[0m\u001b[0;34m)\u001b[0m\u001b[0;34m\u001b[0m\u001b[0m\n\u001b[0m\u001b[1;32m     47\u001b[0m             \u001b[0mcallbacks\u001b[0m\u001b[0;34m.\u001b[0m\u001b[0mappend\u001b[0m\u001b[0;34m(\u001b[0m\u001b[0minc_layer_grad\u001b[0m\u001b[0;34m)\u001b[0m\u001b[0;34m\u001b[0m\u001b[0m\n\u001b[1;32m     48\u001b[0m \u001b[0;34m\u001b[0m\u001b[0m\n",
      "\u001b[0;32m~/anaconda3/envs/tf-gpu/lib/python3.5/site-packages/thinc/api.py\u001b[0m in \u001b[0;36mbegin_update\u001b[0;34m(seqs_in, drop)\u001b[0m\n\u001b[1;32m    293\u001b[0m     \u001b[0;32mdef\u001b[0m \u001b[0mbegin_update\u001b[0m\u001b[0;34m(\u001b[0m\u001b[0mseqs_in\u001b[0m\u001b[0;34m,\u001b[0m \u001b[0mdrop\u001b[0m\u001b[0;34m=\u001b[0m\u001b[0;36m0.0\u001b[0m\u001b[0;34m)\u001b[0m\u001b[0;34m:\u001b[0m\u001b[0;34m\u001b[0m\u001b[0m\n\u001b[1;32m    294\u001b[0m         \u001b[0mlengths\u001b[0m \u001b[0;34m=\u001b[0m \u001b[0mlayer\u001b[0m\u001b[0;34m.\u001b[0m\u001b[0mops\u001b[0m\u001b[0;34m.\u001b[0m\u001b[0masarray\u001b[0m\u001b[0;34m(\u001b[0m\u001b[0;34m[\u001b[0m\u001b[0mlen\u001b[0m\u001b[0;34m(\u001b[0m\u001b[0mseq\u001b[0m\u001b[0;34m)\u001b[0m \u001b[0;32mfor\u001b[0m \u001b[0mseq\u001b[0m \u001b[0;32min\u001b[0m \u001b[0mseqs_in\u001b[0m\u001b[0;34m]\u001b[0m\u001b[0;34m)\u001b[0m\u001b[0;34m\u001b[0m\u001b[0m\n\u001b[0;32m--> 295\u001b[0;31m         \u001b[0mX\u001b[0m\u001b[0;34m,\u001b[0m \u001b[0mbp_layer\u001b[0m \u001b[0;34m=\u001b[0m \u001b[0mlayer\u001b[0m\u001b[0;34m.\u001b[0m\u001b[0mbegin_update\u001b[0m\u001b[0;34m(\u001b[0m\u001b[0mlayer\u001b[0m\u001b[0;34m.\u001b[0m\u001b[0mops\u001b[0m\u001b[0;34m.\u001b[0m\u001b[0mflatten\u001b[0m\u001b[0;34m(\u001b[0m\u001b[0mseqs_in\u001b[0m\u001b[0;34m,\u001b[0m \u001b[0mpad\u001b[0m\u001b[0;34m=\u001b[0m\u001b[0mpad\u001b[0m\u001b[0;34m)\u001b[0m\u001b[0;34m,\u001b[0m \u001b[0mdrop\u001b[0m\u001b[0;34m=\u001b[0m\u001b[0mdrop\u001b[0m\u001b[0;34m)\u001b[0m\u001b[0;34m\u001b[0m\u001b[0m\n\u001b[0m\u001b[1;32m    296\u001b[0m         \u001b[0;32mif\u001b[0m \u001b[0mbp_layer\u001b[0m \u001b[0;32mis\u001b[0m \u001b[0;32mNone\u001b[0m\u001b[0;34m:\u001b[0m\u001b[0;34m\u001b[0m\u001b[0m\n\u001b[1;32m    297\u001b[0m             \u001b[0;32mreturn\u001b[0m \u001b[0mlayer\u001b[0m\u001b[0;34m.\u001b[0m\u001b[0mops\u001b[0m\u001b[0;34m.\u001b[0m\u001b[0munflatten\u001b[0m\u001b[0;34m(\u001b[0m\u001b[0mX\u001b[0m\u001b[0;34m,\u001b[0m \u001b[0mlengths\u001b[0m\u001b[0;34m,\u001b[0m \u001b[0mpad\u001b[0m\u001b[0;34m=\u001b[0m\u001b[0mpad\u001b[0m\u001b[0;34m)\u001b[0m\u001b[0;34m,\u001b[0m \u001b[0;32mNone\u001b[0m\u001b[0;34m\u001b[0m\u001b[0m\n",
      "\u001b[0;32m~/anaconda3/envs/tf-gpu/lib/python3.5/site-packages/thinc/neural/_classes/feed_forward.py\u001b[0m in \u001b[0;36mbegin_update\u001b[0;34m(self, X, drop)\u001b[0m\n\u001b[1;32m     44\u001b[0m         \u001b[0mcallbacks\u001b[0m \u001b[0;34m=\u001b[0m \u001b[0;34m[\u001b[0m\u001b[0;34m]\u001b[0m\u001b[0;34m\u001b[0m\u001b[0m\n\u001b[1;32m     45\u001b[0m         \u001b[0;32mfor\u001b[0m \u001b[0mlayer\u001b[0m \u001b[0;32min\u001b[0m \u001b[0mself\u001b[0m\u001b[0;34m.\u001b[0m\u001b[0m_layers\u001b[0m\u001b[0;34m:\u001b[0m\u001b[0;34m\u001b[0m\u001b[0m\n\u001b[0;32m---> 46\u001b[0;31m             \u001b[0mX\u001b[0m\u001b[0;34m,\u001b[0m \u001b[0minc_layer_grad\u001b[0m \u001b[0;34m=\u001b[0m \u001b[0mlayer\u001b[0m\u001b[0;34m.\u001b[0m\u001b[0mbegin_update\u001b[0m\u001b[0;34m(\u001b[0m\u001b[0mX\u001b[0m\u001b[0;34m,\u001b[0m \u001b[0mdrop\u001b[0m\u001b[0;34m=\u001b[0m\u001b[0mdrop\u001b[0m\u001b[0;34m)\u001b[0m\u001b[0;34m\u001b[0m\u001b[0m\n\u001b[0m\u001b[1;32m     47\u001b[0m             \u001b[0mcallbacks\u001b[0m\u001b[0;34m.\u001b[0m\u001b[0mappend\u001b[0m\u001b[0;34m(\u001b[0m\u001b[0minc_layer_grad\u001b[0m\u001b[0;34m)\u001b[0m\u001b[0;34m\u001b[0m\u001b[0m\n\u001b[1;32m     48\u001b[0m \u001b[0;34m\u001b[0m\u001b[0m\n",
      "\u001b[0;32m~/anaconda3/envs/tf-gpu/lib/python3.5/site-packages/thinc/neural/_classes/resnet.py\u001b[0m in \u001b[0;36mbegin_update\u001b[0;34m(self, X, drop)\u001b[0m\n\u001b[1;32m     23\u001b[0m \u001b[0;34m\u001b[0m\u001b[0m\n\u001b[1;32m     24\u001b[0m     \u001b[0;32mdef\u001b[0m \u001b[0mbegin_update\u001b[0m\u001b[0;34m(\u001b[0m\u001b[0mself\u001b[0m\u001b[0;34m,\u001b[0m \u001b[0mX\u001b[0m\u001b[0;34m,\u001b[0m \u001b[0mdrop\u001b[0m\u001b[0;34m=\u001b[0m\u001b[0;36m0.0\u001b[0m\u001b[0;34m)\u001b[0m\u001b[0;34m:\u001b[0m\u001b[0;34m\u001b[0m\u001b[0m\n\u001b[0;32m---> 25\u001b[0;31m         \u001b[0my\u001b[0m\u001b[0;34m,\u001b[0m \u001b[0mbp_y\u001b[0m \u001b[0;34m=\u001b[0m \u001b[0mself\u001b[0m\u001b[0;34m.\u001b[0m\u001b[0m_layers\u001b[0m\u001b[0;34m[\u001b[0m\u001b[0;36m0\u001b[0m\u001b[0;34m]\u001b[0m\u001b[0;34m.\u001b[0m\u001b[0mbegin_update\u001b[0m\u001b[0;34m(\u001b[0m\u001b[0mX\u001b[0m\u001b[0;34m,\u001b[0m \u001b[0mdrop\u001b[0m\u001b[0;34m=\u001b[0m\u001b[0mdrop\u001b[0m\u001b[0;34m)\u001b[0m\u001b[0;34m\u001b[0m\u001b[0m\n\u001b[0m\u001b[1;32m     26\u001b[0m         \u001b[0;32mif\u001b[0m \u001b[0misinstance\u001b[0m\u001b[0;34m(\u001b[0m\u001b[0mX\u001b[0m\u001b[0;34m,\u001b[0m \u001b[0mlist\u001b[0m\u001b[0;34m)\u001b[0m\u001b[0;34m:\u001b[0m\u001b[0;34m\u001b[0m\u001b[0m\n\u001b[1;32m     27\u001b[0m             \u001b[0moutput\u001b[0m \u001b[0;34m=\u001b[0m \u001b[0;34m[\u001b[0m\u001b[0mX\u001b[0m\u001b[0;34m[\u001b[0m\u001b[0mi\u001b[0m\u001b[0;34m]\u001b[0m \u001b[0;34m+\u001b[0m \u001b[0my\u001b[0m\u001b[0;34m[\u001b[0m\u001b[0mi\u001b[0m\u001b[0;34m]\u001b[0m \u001b[0;32mfor\u001b[0m \u001b[0mi\u001b[0m \u001b[0;32min\u001b[0m \u001b[0mrange\u001b[0m\u001b[0;34m(\u001b[0m\u001b[0mlen\u001b[0m\u001b[0;34m(\u001b[0m\u001b[0mX\u001b[0m\u001b[0;34m)\u001b[0m\u001b[0;34m)\u001b[0m\u001b[0;34m]\u001b[0m\u001b[0;34m\u001b[0m\u001b[0m\n",
      "\u001b[0;32m~/anaconda3/envs/tf-gpu/lib/python3.5/site-packages/thinc/neural/_classes/feed_forward.py\u001b[0m in \u001b[0;36mbegin_update\u001b[0;34m(self, X, drop)\u001b[0m\n\u001b[1;32m     44\u001b[0m         \u001b[0mcallbacks\u001b[0m \u001b[0;34m=\u001b[0m \u001b[0;34m[\u001b[0m\u001b[0;34m]\u001b[0m\u001b[0;34m\u001b[0m\u001b[0m\n\u001b[1;32m     45\u001b[0m         \u001b[0;32mfor\u001b[0m \u001b[0mlayer\u001b[0m \u001b[0;32min\u001b[0m \u001b[0mself\u001b[0m\u001b[0;34m.\u001b[0m\u001b[0m_layers\u001b[0m\u001b[0;34m:\u001b[0m\u001b[0;34m\u001b[0m\u001b[0m\n\u001b[0;32m---> 46\u001b[0;31m             \u001b[0mX\u001b[0m\u001b[0;34m,\u001b[0m \u001b[0minc_layer_grad\u001b[0m \u001b[0;34m=\u001b[0m \u001b[0mlayer\u001b[0m\u001b[0;34m.\u001b[0m\u001b[0mbegin_update\u001b[0m\u001b[0;34m(\u001b[0m\u001b[0mX\u001b[0m\u001b[0;34m,\u001b[0m \u001b[0mdrop\u001b[0m\u001b[0;34m=\u001b[0m\u001b[0mdrop\u001b[0m\u001b[0;34m)\u001b[0m\u001b[0;34m\u001b[0m\u001b[0m\n\u001b[0m\u001b[1;32m     47\u001b[0m             \u001b[0mcallbacks\u001b[0m\u001b[0;34m.\u001b[0m\u001b[0mappend\u001b[0m\u001b[0;34m(\u001b[0m\u001b[0minc_layer_grad\u001b[0m\u001b[0;34m)\u001b[0m\u001b[0;34m\u001b[0m\u001b[0m\n\u001b[1;32m     48\u001b[0m \u001b[0;34m\u001b[0m\u001b[0m\n",
      "\u001b[0;32m~/anaconda3/envs/tf-gpu/lib/python3.5/site-packages/thinc/neural/_classes/layernorm.py\u001b[0m in \u001b[0;36mbegin_update\u001b[0;34m(self, X, drop)\u001b[0m\n\u001b[1;32m     58\u001b[0m     \u001b[0;32mdef\u001b[0m \u001b[0mbegin_update\u001b[0m\u001b[0;34m(\u001b[0m\u001b[0mself\u001b[0m\u001b[0;34m,\u001b[0m \u001b[0mX\u001b[0m\u001b[0;34m,\u001b[0m \u001b[0mdrop\u001b[0m\u001b[0;34m=\u001b[0m\u001b[0;36m0.0\u001b[0m\u001b[0;34m)\u001b[0m\u001b[0;34m:\u001b[0m\u001b[0;34m\u001b[0m\u001b[0m\n\u001b[1;32m     59\u001b[0m         \u001b[0;32mif\u001b[0m \u001b[0mself\u001b[0m\u001b[0;34m.\u001b[0m\u001b[0mchild\u001b[0m \u001b[0;32mis\u001b[0m \u001b[0;32mnot\u001b[0m \u001b[0;32mNone\u001b[0m\u001b[0;34m:\u001b[0m\u001b[0;34m\u001b[0m\u001b[0m\n\u001b[0;32m---> 60\u001b[0;31m             \u001b[0mX\u001b[0m\u001b[0;34m,\u001b[0m \u001b[0mbackprop_child\u001b[0m \u001b[0;34m=\u001b[0m \u001b[0mself\u001b[0m\u001b[0;34m.\u001b[0m\u001b[0mchild\u001b[0m\u001b[0;34m.\u001b[0m\u001b[0mbegin_update\u001b[0m\u001b[0;34m(\u001b[0m\u001b[0mX\u001b[0m\u001b[0;34m,\u001b[0m \u001b[0mdrop\u001b[0m\u001b[0;34m=\u001b[0m\u001b[0;36m0.0\u001b[0m\u001b[0;34m)\u001b[0m\u001b[0;34m\u001b[0m\u001b[0m\n\u001b[0m\u001b[1;32m     61\u001b[0m         \u001b[0;32melse\u001b[0m\u001b[0;34m:\u001b[0m\u001b[0;34m\u001b[0m\u001b[0m\n\u001b[1;32m     62\u001b[0m             \u001b[0mbackprop_child\u001b[0m \u001b[0;34m=\u001b[0m \u001b[0;32mNone\u001b[0m\u001b[0;34m\u001b[0m\u001b[0m\n",
      "\u001b[0;32m~/anaconda3/envs/tf-gpu/lib/python3.5/site-packages/thinc/neural/_classes/maxout.py\u001b[0m in \u001b[0;36mbegin_update\u001b[0;34m(self, X__bi, drop)\u001b[0m\n\u001b[1;32m     74\u001b[0m         \u001b[0;32mif\u001b[0m \u001b[0mdrop\u001b[0m \u001b[0;32mis\u001b[0m \u001b[0;32mnot\u001b[0m \u001b[0;32mNone\u001b[0m\u001b[0;34m:\u001b[0m\u001b[0;34m\u001b[0m\u001b[0m\n\u001b[1;32m     75\u001b[0m             \u001b[0mdrop\u001b[0m \u001b[0;34m*=\u001b[0m \u001b[0mself\u001b[0m\u001b[0;34m.\u001b[0m\u001b[0mdrop_factor\u001b[0m\u001b[0;34m\u001b[0m\u001b[0m\n\u001b[0;32m---> 76\u001b[0;31m         \u001b[0moutput__boc\u001b[0m \u001b[0;34m=\u001b[0m \u001b[0mself\u001b[0m\u001b[0;34m.\u001b[0m\u001b[0mops\u001b[0m\u001b[0;34m.\u001b[0m\u001b[0mgemm\u001b[0m\u001b[0;34m(\u001b[0m\u001b[0mX__bi\u001b[0m\u001b[0;34m,\u001b[0m \u001b[0mW\u001b[0m\u001b[0;34m,\u001b[0m \u001b[0mtrans2\u001b[0m\u001b[0;34m=\u001b[0m\u001b[0;32mTrue\u001b[0m\u001b[0;34m)\u001b[0m\u001b[0;34m\u001b[0m\u001b[0m\n\u001b[0m\u001b[1;32m     77\u001b[0m         \u001b[0moutput__boc\u001b[0m \u001b[0;34m+=\u001b[0m \u001b[0mself\u001b[0m\u001b[0;34m.\u001b[0m\u001b[0mb\u001b[0m\u001b[0;34m.\u001b[0m\u001b[0mreshape\u001b[0m\u001b[0;34m(\u001b[0m\u001b[0;34m(\u001b[0m\u001b[0mself\u001b[0m\u001b[0;34m.\u001b[0m\u001b[0mnO\u001b[0m \u001b[0;34m*\u001b[0m \u001b[0mself\u001b[0m\u001b[0;34m.\u001b[0m\u001b[0mnP\u001b[0m\u001b[0;34m,\u001b[0m\u001b[0;34m)\u001b[0m\u001b[0;34m)\u001b[0m\u001b[0;34m\u001b[0m\u001b[0m\n\u001b[1;32m     78\u001b[0m         \u001b[0moutput__boc\u001b[0m \u001b[0;34m=\u001b[0m \u001b[0moutput__boc\u001b[0m\u001b[0;34m.\u001b[0m\u001b[0mreshape\u001b[0m\u001b[0;34m(\u001b[0m\u001b[0;34m(\u001b[0m\u001b[0moutput__boc\u001b[0m\u001b[0;34m.\u001b[0m\u001b[0mshape\u001b[0m\u001b[0;34m[\u001b[0m\u001b[0;36m0\u001b[0m\u001b[0;34m]\u001b[0m\u001b[0;34m,\u001b[0m \u001b[0mself\u001b[0m\u001b[0;34m.\u001b[0m\u001b[0mnO\u001b[0m\u001b[0;34m,\u001b[0m \u001b[0mself\u001b[0m\u001b[0;34m.\u001b[0m\u001b[0mnP\u001b[0m\u001b[0;34m)\u001b[0m\u001b[0;34m)\u001b[0m\u001b[0;34m\u001b[0m\u001b[0m\n",
      "\u001b[0;31mKeyboardInterrupt\u001b[0m: "
     ]
    }
   ],
   "source": []
  },
  {
   "cell_type": "code",
   "execution_count": 35,
   "metadata": {},
   "outputs": [
    {
     "data": {
      "text/plain": [
       "(108077,)"
      ]
     },
     "execution_count": 35,
     "metadata": {},
     "output_type": "execute_result"
    }
   ],
   "source": [
    "desc_json.id.values.shape"
   ]
  },
  {
   "cell_type": "code",
   "execution_count": 21,
   "metadata": {},
   "outputs": [
    {
     "data": {
      "text/plain": [
       "str"
      ]
     },
     "execution_count": 21,
     "metadata": {},
     "output_type": "execute_result"
    }
   ],
   "source": [
    "type(images_descs)"
   ]
  },
  {
   "cell_type": "code",
   "execution_count": 38,
   "metadata": {},
   "outputs": [
    {
     "name": "stdout",
     "output_type": "stream",
     "text": [
      "262\n"
     ]
    }
   ],
   "source": [
    "for image_descs in images_descs:\n",
    "    print(image_descs['regions'])\n",
    "    break"
   ]
  },
  {
   "cell_type": "code",
   "execution_count": 17,
   "metadata": {},
   "outputs": [
    {
     "data": {
      "text/plain": [
       "108249"
      ]
     },
     "execution_count": 17,
     "metadata": {},
     "output_type": "execute_result"
    }
   ],
   "source": [
    "imgs = os.listdir('../../dataset/train_images/VG_100K/')\n",
    "len(imgs)"
   ]
  },
  {
   "cell_type": "code",
   "execution_count": 18,
   "metadata": {},
   "outputs": [],
   "source": [
    "folder_images = []\n",
    "for im in imgs:\n",
    "    folder_images.append(int(im.split('.')[0]))"
   ]
  },
  {
   "cell_type": "code",
   "execution_count": null,
   "metadata": {},
   "outputs": [],
   "source": [
    "for v in desc_json.id.values:\n",
    "    if v not in folder_images:\n",
    "        print(v)\n",
    "        break"
   ]
  },
  {
   "cell_type": "code",
   "execution_count": 14,
   "metadata": {},
   "outputs": [
    {
     "data": {
      "text/plain": [
       "array([      1,       2,       3, ..., 2417994, 2417995, 2417997])"
      ]
     },
     "execution_count": 14,
     "metadata": {},
     "output_type": "execute_result"
    }
   ],
   "source": [
    "desc_json.id.values"
   ]
  },
  {
   "cell_type": "code",
   "execution_count": 45,
   "metadata": {
    "scrolled": true
   },
   "outputs": [
    {
     "ename": "ValueError",
     "evalue": "Length of values does not match length of index",
     "output_type": "error",
     "traceback": [
      "\u001b[0;31m---------------------------------------------------------------------------\u001b[0m",
      "\u001b[0;31mValueError\u001b[0m                                Traceback (most recent call last)",
      "\u001b[0;32m<ipython-input-45-f51ee1455ae7>\u001b[0m in \u001b[0;36m<module>\u001b[0;34m()\u001b[0m\n\u001b[1;32m     11\u001b[0m             \u001b[0mword_count\u001b[0m\u001b[0;34m[\u001b[0m\u001b[0mword\u001b[0m\u001b[0;34m]\u001b[0m\u001b[0;34m+=\u001b[0m\u001b[0;36m1\u001b[0m\u001b[0;34m\u001b[0m\u001b[0m\n\u001b[1;32m     12\u001b[0m \u001b[0;34m\u001b[0m\u001b[0m\n\u001b[0;32m---> 13\u001b[0;31m \u001b[0mdf_wcount\u001b[0m\u001b[0;34m[\u001b[0m\u001b[0;34m'words'\u001b[0m\u001b[0;34m]\u001b[0m\u001b[0;34m=\u001b[0m\u001b[0mword_count\u001b[0m\u001b[0;34m.\u001b[0m\u001b[0mkeys\u001b[0m\u001b[0;34m(\u001b[0m\u001b[0;34m)\u001b[0m\u001b[0;34m\u001b[0m\u001b[0m\n\u001b[0m\u001b[1;32m     14\u001b[0m \u001b[0mdf_wcount\u001b[0m\u001b[0;34m[\u001b[0m\u001b[0;34m'w_count'\u001b[0m\u001b[0;34m]\u001b[0m\u001b[0;34m=\u001b[0m\u001b[0mword_count\u001b[0m\u001b[0;34m.\u001b[0m\u001b[0mvalues\u001b[0m\u001b[0;34m(\u001b[0m\u001b[0;34m)\u001b[0m\u001b[0;34m\u001b[0m\u001b[0m\n\u001b[1;32m     15\u001b[0m \u001b[0mdf_wcount\u001b[0m \u001b[0;34m=\u001b[0m \u001b[0mdf_wcount\u001b[0m\u001b[0;34m.\u001b[0m\u001b[0msort_values\u001b[0m\u001b[0;34m(\u001b[0m\u001b[0mby\u001b[0m\u001b[0;34m=\u001b[0m\u001b[0;34m'w_count'\u001b[0m\u001b[0;34m,\u001b[0m\u001b[0mascending\u001b[0m\u001b[0;34m=\u001b[0m\u001b[0;32mFalse\u001b[0m\u001b[0;34m)\u001b[0m\u001b[0;34m.\u001b[0m\u001b[0mreset_index\u001b[0m\u001b[0;34m(\u001b[0m\u001b[0;34m)\u001b[0m\u001b[0;34m\u001b[0m\u001b[0m\n",
      "\u001b[0;32m~/anaconda3/envs/tf-gpu/lib/python3.5/site-packages/pandas/core/frame.py\u001b[0m in \u001b[0;36m__setitem__\u001b[0;34m(self, key, value)\u001b[0m\n\u001b[1;32m   3117\u001b[0m         \u001b[0;32melse\u001b[0m\u001b[0;34m:\u001b[0m\u001b[0;34m\u001b[0m\u001b[0m\n\u001b[1;32m   3118\u001b[0m             \u001b[0;31m# set column\u001b[0m\u001b[0;34m\u001b[0m\u001b[0;34m\u001b[0m\u001b[0m\n\u001b[0;32m-> 3119\u001b[0;31m             \u001b[0mself\u001b[0m\u001b[0;34m.\u001b[0m\u001b[0m_set_item\u001b[0m\u001b[0;34m(\u001b[0m\u001b[0mkey\u001b[0m\u001b[0;34m,\u001b[0m \u001b[0mvalue\u001b[0m\u001b[0;34m)\u001b[0m\u001b[0;34m\u001b[0m\u001b[0m\n\u001b[0m\u001b[1;32m   3120\u001b[0m \u001b[0;34m\u001b[0m\u001b[0m\n\u001b[1;32m   3121\u001b[0m     \u001b[0;32mdef\u001b[0m \u001b[0m_setitem_slice\u001b[0m\u001b[0;34m(\u001b[0m\u001b[0mself\u001b[0m\u001b[0;34m,\u001b[0m \u001b[0mkey\u001b[0m\u001b[0;34m,\u001b[0m \u001b[0mvalue\u001b[0m\u001b[0;34m)\u001b[0m\u001b[0;34m:\u001b[0m\u001b[0;34m\u001b[0m\u001b[0m\n",
      "\u001b[0;32m~/anaconda3/envs/tf-gpu/lib/python3.5/site-packages/pandas/core/frame.py\u001b[0m in \u001b[0;36m_set_item\u001b[0;34m(self, key, value)\u001b[0m\n\u001b[1;32m   3192\u001b[0m \u001b[0;34m\u001b[0m\u001b[0m\n\u001b[1;32m   3193\u001b[0m         \u001b[0mself\u001b[0m\u001b[0;34m.\u001b[0m\u001b[0m_ensure_valid_index\u001b[0m\u001b[0;34m(\u001b[0m\u001b[0mvalue\u001b[0m\u001b[0;34m)\u001b[0m\u001b[0;34m\u001b[0m\u001b[0m\n\u001b[0;32m-> 3194\u001b[0;31m         \u001b[0mvalue\u001b[0m \u001b[0;34m=\u001b[0m \u001b[0mself\u001b[0m\u001b[0;34m.\u001b[0m\u001b[0m_sanitize_column\u001b[0m\u001b[0;34m(\u001b[0m\u001b[0mkey\u001b[0m\u001b[0;34m,\u001b[0m \u001b[0mvalue\u001b[0m\u001b[0;34m)\u001b[0m\u001b[0;34m\u001b[0m\u001b[0m\n\u001b[0m\u001b[1;32m   3195\u001b[0m         \u001b[0mNDFrame\u001b[0m\u001b[0;34m.\u001b[0m\u001b[0m_set_item\u001b[0m\u001b[0;34m(\u001b[0m\u001b[0mself\u001b[0m\u001b[0;34m,\u001b[0m \u001b[0mkey\u001b[0m\u001b[0;34m,\u001b[0m \u001b[0mvalue\u001b[0m\u001b[0;34m)\u001b[0m\u001b[0;34m\u001b[0m\u001b[0m\n\u001b[1;32m   3196\u001b[0m \u001b[0;34m\u001b[0m\u001b[0m\n",
      "\u001b[0;32m~/anaconda3/envs/tf-gpu/lib/python3.5/site-packages/pandas/core/frame.py\u001b[0m in \u001b[0;36m_sanitize_column\u001b[0;34m(self, key, value, broadcast)\u001b[0m\n\u001b[1;32m   3389\u001b[0m \u001b[0;34m\u001b[0m\u001b[0m\n\u001b[1;32m   3390\u001b[0m             \u001b[0;31m# turn me into an ndarray\u001b[0m\u001b[0;34m\u001b[0m\u001b[0;34m\u001b[0m\u001b[0m\n\u001b[0;32m-> 3391\u001b[0;31m             \u001b[0mvalue\u001b[0m \u001b[0;34m=\u001b[0m \u001b[0m_sanitize_index\u001b[0m\u001b[0;34m(\u001b[0m\u001b[0mvalue\u001b[0m\u001b[0;34m,\u001b[0m \u001b[0mself\u001b[0m\u001b[0;34m.\u001b[0m\u001b[0mindex\u001b[0m\u001b[0;34m,\u001b[0m \u001b[0mcopy\u001b[0m\u001b[0;34m=\u001b[0m\u001b[0;32mFalse\u001b[0m\u001b[0;34m)\u001b[0m\u001b[0;34m\u001b[0m\u001b[0m\n\u001b[0m\u001b[1;32m   3392\u001b[0m             \u001b[0;32mif\u001b[0m \u001b[0;32mnot\u001b[0m \u001b[0misinstance\u001b[0m\u001b[0;34m(\u001b[0m\u001b[0mvalue\u001b[0m\u001b[0;34m,\u001b[0m \u001b[0;34m(\u001b[0m\u001b[0mnp\u001b[0m\u001b[0;34m.\u001b[0m\u001b[0mndarray\u001b[0m\u001b[0;34m,\u001b[0m \u001b[0mIndex\u001b[0m\u001b[0;34m)\u001b[0m\u001b[0;34m)\u001b[0m\u001b[0;34m:\u001b[0m\u001b[0;34m\u001b[0m\u001b[0m\n\u001b[1;32m   3393\u001b[0m                 \u001b[0;32mif\u001b[0m \u001b[0misinstance\u001b[0m\u001b[0;34m(\u001b[0m\u001b[0mvalue\u001b[0m\u001b[0;34m,\u001b[0m \u001b[0mlist\u001b[0m\u001b[0;34m)\u001b[0m \u001b[0;32mand\u001b[0m \u001b[0mlen\u001b[0m\u001b[0;34m(\u001b[0m\u001b[0mvalue\u001b[0m\u001b[0;34m)\u001b[0m \u001b[0;34m>\u001b[0m \u001b[0;36m0\u001b[0m\u001b[0;34m:\u001b[0m\u001b[0;34m\u001b[0m\u001b[0m\n",
      "\u001b[0;32m~/anaconda3/envs/tf-gpu/lib/python3.5/site-packages/pandas/core/series.py\u001b[0m in \u001b[0;36m_sanitize_index\u001b[0;34m(data, index, copy)\u001b[0m\n\u001b[1;32m   3999\u001b[0m \u001b[0;34m\u001b[0m\u001b[0m\n\u001b[1;32m   4000\u001b[0m     \u001b[0;32mif\u001b[0m \u001b[0mlen\u001b[0m\u001b[0;34m(\u001b[0m\u001b[0mdata\u001b[0m\u001b[0;34m)\u001b[0m \u001b[0;34m!=\u001b[0m \u001b[0mlen\u001b[0m\u001b[0;34m(\u001b[0m\u001b[0mindex\u001b[0m\u001b[0;34m)\u001b[0m\u001b[0;34m:\u001b[0m\u001b[0;34m\u001b[0m\u001b[0m\n\u001b[0;32m-> 4001\u001b[0;31m         \u001b[0;32mraise\u001b[0m \u001b[0mValueError\u001b[0m\u001b[0;34m(\u001b[0m\u001b[0;34m'Length of values does not match length of '\u001b[0m \u001b[0;34m'index'\u001b[0m\u001b[0;34m)\u001b[0m\u001b[0;34m\u001b[0m\u001b[0m\n\u001b[0m\u001b[1;32m   4002\u001b[0m \u001b[0;34m\u001b[0m\u001b[0m\n\u001b[1;32m   4003\u001b[0m     \u001b[0;32mif\u001b[0m \u001b[0misinstance\u001b[0m\u001b[0;34m(\u001b[0m\u001b[0mdata\u001b[0m\u001b[0;34m,\u001b[0m \u001b[0mABCIndexClass\u001b[0m\u001b[0;34m)\u001b[0m \u001b[0;32mand\u001b[0m \u001b[0;32mnot\u001b[0m \u001b[0mcopy\u001b[0m\u001b[0;34m:\u001b[0m\u001b[0;34m\u001b[0m\u001b[0m\n",
      "\u001b[0;31mValueError\u001b[0m: Length of values does not match length of index"
     ]
    }
   ],
   "source": [
    "word_count = {}\n",
    "for d in df.Desc.values:\n",
    "    t = nlp(d.lower())\n",
    "    words = [str(word) for word in t]\n",
    "#     print(words)\n",
    "    \n",
    "    for word in words:\n",
    "        if word not in word_count.keys():\n",
    "            word_count[word]=1\n",
    "        else:\n",
    "            word_count[word]+=1\n",
    "\n",
    "df_wcount['words']=word_count.keys()\n",
    "df_wcount['w_count']=word_count.values()\n",
    "df_wcount = df_wcount.sort_values(by='w_count',ascending=False).reset_index()\n",
    "df_wcount['index']+=1\n",
    "df_wcount.to_csv('../../dataset/descriptions/visual_genome_vocab_count.csv',index=False)"
   ]
  },
  {
   "cell_type": "code",
   "execution_count": 143,
   "metadata": {},
   "outputs": [],
   "source": [
    "new_row = {'words':'endseq', 'w_count':50000, 'index':20794}\n",
    "# df_wcount1 = pd.DataFrame()\n",
    "# df_wcount1['words']=word_count.keys()\n",
    "# df_wcount1['w_count']=word_count.values()\n",
    "# df_wcount1 = df_wcount1.sort_values(by='w_count',ascending=False).reset_index()\n",
    "# df_wcount1['index']+=1\n",
    "# df_wcount1.to_csv('../../dataset/descriptions/visual_genome_vocab_count.csv',index=False)"
   ]
  },
  {
   "cell_type": "code",
   "execution_count": 144,
   "metadata": {},
   "outputs": [
    {
     "data": {
      "text/html": [
       "<div>\n",
       "<style scoped>\n",
       "    .dataframe tbody tr th:only-of-type {\n",
       "        vertical-align: middle;\n",
       "    }\n",
       "\n",
       "    .dataframe tbody tr th {\n",
       "        vertical-align: top;\n",
       "    }\n",
       "\n",
       "    .dataframe thead th {\n",
       "        text-align: right;\n",
       "    }\n",
       "</style>\n",
       "<table border=\"1\" class=\"dataframe\">\n",
       "  <thead>\n",
       "    <tr style=\"text-align: right;\">\n",
       "      <th></th>\n",
       "      <th>index</th>\n",
       "      <th>words</th>\n",
       "      <th>w_count</th>\n",
       "    </tr>\n",
       "  </thead>\n",
       "  <tbody>\n",
       "    <tr>\n",
       "      <th>0</th>\n",
       "      <td>3434</td>\n",
       "      <td>.</td>\n",
       "      <td>450076</td>\n",
       "    </tr>\n",
       "    <tr>\n",
       "      <th>1</th>\n",
       "      <td>13908</td>\n",
       "      <td>a</td>\n",
       "      <td>200676</td>\n",
       "    </tr>\n",
       "    <tr>\n",
       "      <th>2</th>\n",
       "      <td>14934</td>\n",
       "      <td>the</td>\n",
       "      <td>198458</td>\n",
       "    </tr>\n",
       "    <tr>\n",
       "      <th>3</th>\n",
       "      <td>16021</td>\n",
       "      <td>on</td>\n",
       "      <td>122073</td>\n",
       "    </tr>\n",
       "    <tr>\n",
       "      <th>4</th>\n",
       "      <td>10923</td>\n",
       "      <td>of</td>\n",
       "      <td>88941</td>\n",
       "    </tr>\n",
       "  </tbody>\n",
       "</table>\n",
       "</div>"
      ],
      "text/plain": [
       "   index words  w_count\n",
       "0   3434     .   450076\n",
       "1  13908     a   200676\n",
       "2  14934   the   198458\n",
       "3  16021    on   122073\n",
       "4  10923    of    88941"
      ]
     },
     "metadata": {},
     "output_type": "display_data"
    },
    {
     "name": "stdout",
     "output_type": "stream",
     "text": [
      "(20793, 3)\n",
      "(20794, 3)\n"
     ]
    }
   ],
   "source": [
    "df_wcount = pd.read_csv('../../dataset/descriptions/visual_genome_vocab_count.csv')\n",
    "display(df_wcount.head())\n",
    "new_row = pd.Series(data={'words':'endseq', 'w_count':50000, 'index':20794},name='x')\n",
    "print(df_wcount.shape)\n",
    "df_wcount = df_wcount.append(new_row,ignore_index=False)\n",
    "print(df_wcount.shape)\n",
    "df_wcount.to_csv('../../dataset/descriptions/visual_genome_vocab_count.csv',index=False)"
   ]
  },
  {
   "cell_type": "code",
   "execution_count": 145,
   "metadata": {},
   "outputs": [
    {
     "data": {
      "text/html": [
       "<div>\n",
       "<style scoped>\n",
       "    .dataframe tbody tr th:only-of-type {\n",
       "        vertical-align: middle;\n",
       "    }\n",
       "\n",
       "    .dataframe tbody tr th {\n",
       "        vertical-align: top;\n",
       "    }\n",
       "\n",
       "    .dataframe thead th {\n",
       "        text-align: right;\n",
       "    }\n",
       "</style>\n",
       "<table border=\"1\" class=\"dataframe\">\n",
       "  <thead>\n",
       "    <tr style=\"text-align: right;\">\n",
       "      <th></th>\n",
       "      <th>index</th>\n",
       "      <th>words</th>\n",
       "      <th>w_count</th>\n",
       "    </tr>\n",
       "  </thead>\n",
       "  <tbody>\n",
       "    <tr>\n",
       "      <th>x</th>\n",
       "      <td>20794</td>\n",
       "      <td>endseq</td>\n",
       "      <td>50000</td>\n",
       "    </tr>\n",
       "  </tbody>\n",
       "</table>\n",
       "</div>"
      ],
      "text/plain": [
       "   index   words  w_count\n",
       "x  20794  endseq    50000"
      ]
     },
     "execution_count": 145,
     "metadata": {},
     "output_type": "execute_result"
    }
   ],
   "source": [
    "df_wcount[df_wcount.words=='endseq'].head()"
   ]
  },
  {
   "cell_type": "code",
   "execution_count": 97,
   "metadata": {
    "scrolled": true
   },
   "outputs": [
    {
     "name": "stdout",
     "output_type": "stream",
     "text": [
      "597 ['.', '..', \"'s\", ' ', ',', '-', '\"', \"'\", '&', '/', 'w/', '[', '\\n', '@', \"n't\", ']', '?', ':', ';', 'p.', 't.v', '...', '  ', '!', '$', '_', 'w.', 'u.s', 'n.', 'a.', \"o'clock\", 'c.', '#', 'x.', '(', 'r.', ')', 'e.', 's.', 't.', 'b.', '1/2', 'l.', 'man`s', 'woman`s', 'm.', 'c-130', '=', 'black+white', '   ', '....', 'and/or', 'o.', 'red+white', 'dog`s', 'i.', 'girl`s', 'v.', 'm&m', 'g.', '......', 'f.', '+', '.....', 'sr-71', 'y.', \"'m\", 'co.', 'h.', 'cow`s', 'j.', 'd.', '`', 'boy`s', '%', 'man;s', '--', '\\n\\n', 't-', '2:35', '1:45', 'u.', 'w/o', 'red+black', 'at&t', '11:50am', '1.00', '12:00', '3:17', '7:05', \"'re\", 'brown+white', '1/3', 'back+one', 'i.d', '/or', '1:55', 'green+white', '10:50', '12:43', '                                    ', 'b+w', '4-post', 'child`s', '11:20', '3:00', 'trunk+branches', '12:40', 'www.myprofe.com', 'person`s', 'k.', 'catcher`s', '9.99', 'free!.', '    ', 'a&m', '3-way', '3:55', 'sea+sky', '11:05', '4-way', '2:20', 'tool+a', 'house/', 'him!.', '11.45', 'tell].', 'red+grey', 'only].', '60s].', '7:23', '].', '6:05', 'in]directly', 'w&s', '40/8', 'woman;s', '8:33', 'section+clear', '6-pained', '3:04', '4.18', 'stuffed+fluffy', '7:59', '107.3', 'bumped+chunked', '9:55', 'photo!.', '24-hour', 'news.com', \"saffron'd\", '12:54', '.francis', 'h.w.bush', 'j.b', '063_689', 'by-', 'sunset-8am', 'guy+presently', 'couch.l', '10:36', '12:51', '6:35', '17,000', '4:07', 'plump+green', '8am-6pm', '3:45', \"'ve\", '7:49pm', 'lights+darkness', \"saute'd\", 'in-', '5:15', \"po'di\", 'www.londonducktoursco.uk', 'white+clear', '3.02', 'low-', '4:05', 'red+blue', '12:20', '2-story', 'j.w.c', 'ricoh.com', '2:50', 'reading11:20', '11:19', '19.99', 'man+woman', '6:40', '1:30', \"graffiti'd\", '101.5', 'caps].', '12.15', '.person', '2:04', '9:17', 'soft+honestly', '2:46', '½-bare', '9:20', 'pitcher`s', 'legs+curious', '1:00', 'p.j', '5:13', 'folks!.', 'reals].', '5:09', 'californian].', 'c.ock', '2.40', '50-yard', 'large+long', 'black+copper', '5:17', '11:04', 'red+a', 'h&e', '12:32', '2012].', ' \\n', 'green+dry', '½-chewed', 'ends+beneath', 'you!.', 'al].', '8.00', 'momcat+kitten', 'green+yellow', 'h.w', 'n.r', 'track.s', '01/03/2008', 'dishes+jam', '1:54', 'maybe].', 'bl;ack', 'boy+kite', '01/05/2011', '1.5', 'beneath+behind', 'j.7124', 'round+', '9:45', 'stix!!.', '2:55', '3-wheel', '9:11', 'hay+straw', '10:52', '1/3d', '3:12', '11:29', '5:20', '12:14', '3:27', 'specks+dashes', 'front+center', 'red+yellow', 'u.k', '12:25', '-yell-', '2-way', 'hopeful;doubtful].', 'calories!.', 'curved+red', '3:54', 'black+white+red', 'lo[ve', 'walther.siksma.ni', '5:06', 'giraffe+one', 'confusion+displeasure', 'apologies].', 'phone.;.', 'multi-', 'pizzas!.', '6:45', 't.c', '1:25', '11.27', 'scarflet+caplet', 'it+nose', '1:53', '5.05', '3:50', '0.99', 'legs+a', 'co.is', 'head+neck', 'wave!.', 'megabus.com', 'front_.', '6:50', 'nose+chin', 'www.go-metro.com', 'dots+dashes', 'heads+tails', 'white+light', 'j-063', 'airplane/.', 'ear+a', 'heights+fairfax', 'television].', '10:45', 'down+illegible', '6:10', '1:52', '5:25', 'top+red', 'joy].', 'c.p.u', '12:05', '4.50', 'thick+clear', 'middle].', '11:41', 'elephant.etsy.com', 'roof+sharp', '11/25/1941', 'pink+red', 'nadalnews.com', 'wii.two', 'eye-', '4:18', 'sunglasses;white', '12:19', '10.00', '3:59', 'l;ights', 'b;ack', 'm&j', \"o'donnell\", '-or-', '12-oz', '7-eleven', \"differen't\", '                                                                                                    ', 'miamidreamrealty.com', 'full+very', 'metro-', '5:40', 'poles+skis', 'pants/', 'unsure].', '12:15', 'tail+paw', \"o'brien\", '12/22/2006', 'white-', \"arc'd\", 'atop+mixed', '11:08', 'zeeman\"printed', '2.29', '8:58', 'downtowntraveler.com', '9:00', \"passenger's\", 'label+perhaps', '04/19/2012', '2.50', '            ', 'coat/.', 'player`s', '3-dome', '-rock', 'k.a', 'boxed+packaged', '1:31', 'rocks!.', 'good!.', '5:54', 'letters+numbers', '11:31:13', 'long+thin', 'featured+in', 'snaps+things', '2.10', 'ra-3560k', \"don't\", 're+white', 'top+bottom+sides', 'sniffs+tastes', '11:15', 'yellow+sparse', 'clydesdale].', '1.99', \"o'dwyer\", '22.00', '5:27', '3:21', 'foto.jlathrop', '12:13', 'whoa!.', 'q-16', 'ears+fur', 'd-0003', '10:54', 'shoulder+foreleg', 'he;met', 'transavia.com', '9:51', 'beside+below', '2:22', 'ahead].', '5:10', 'food+the', '7pm-7am', '                                                                                                                                     ', 'yellow+several', 'green+grey', 'g.t', '5:00', 'names+miles', '\\n\\n\\n\\n\\n\\n\\n\\n', '10:17', 'cream+a', '3/5ths', \"pop'n'fresh\", \"gir'l\", '4:20', 'board!.', 'g-3', '3:32', 'blue+lavender', 'o`clock', 'c.d', 'green+red', 'wretched!.', '10:14', 'grey+white', '5:41', '11:58', '3:15', 's.u.v', 'f\"s', 'rkz-438', '7:39', '4:45', 'orange+red', '10.24.09', '~½', 'u.s.a.f', 'k.o.d', 'ky-[s]p[k', '6.55', 'towel+hand', '5:37', 'showing\"5:03', 'short+stout', 'i/', '2.00', '2:10', 'd&g', 'orange-', 'bananas+apples', 'white+off', 'all-', \"fron'ts\", '12/03/2007', '26.00+dec', '4:00', 'v-2', 'sticker+logo', '3:53', 'lilac+duck', '—.', 'mode;railroad', 'j-062', '4:14', 'st-46', '11:03', 'cx-7', '8:47', '4:53', 'letters-', 'stripe+spots', 'direct.com', '~20', '7:26', 'it-', 'brightcookie.com', '2-wheel', '3:39', 'p[art', 'bear`s', 'red+black+grey', 'back+head', '4-drawer', 'front+centre', '10.51', '6:36', '12:16', 'once!.', '         ', 'beach!.', 'side-', 'pink+brown+darker', 'less].', '2:03', '0.75', 'pink+fairly', '3:10', 'clips+their', '2010].', \"o'neill\", '11:56', '3/4', 'thin+likely', 'confusing].', '51/2', 'everything!.', '1.45', \"its'pedistel\", '3:23', \"handle'd\", 'yes!.', '11:21', 'bushes+grass', 'joespizza.it', '7am-7pm', 'turkerworker!.', '3:7pm', 'j-011', 'plump+yellow', 'royal+navy', '7:57', 'p.m', 'building+its', \"d'albe\", 'yellow+bloodshot', 'top+bottom', '18:00', '12:24', '3:28', 'md.-del', 'tag+sticker', '6:44', 'photographer].', 'microphone/.', '1:43', 'expression+a', 'code].', 'easyjet.com', 'd.s', 'm.p.h', 'remotes!.', '2:56', '11:25', 'pole/.', '1.35c', 'grey+black', 'methinketh].', 'ball/.', '2.99', 'rope+feather', 'white+flocculent', 'petitplat.fr', '10-key', 'norwegian.com', 'floor+cable', '5-gallon', 'n.b.r', 'top+curved', 'kites!.', '70s].', 'martha_2011', 'platfo[rm', '12:30', '7:35', 'oh].', '7.5', 'dark+split', 'red+bowed', 'rogers.com', 'experience].', 'ribs+spines', 'nose+nostrils', '3:25', 'end[s].', 'am=', 'pepperoni`s', 'sea+wavelet', '10:28', '1:34', 'atiempo.dk', 'kinds!.', 'front+back', 'grass+-', 'blue+bright', 'www.krajicek.net', \"o'neil\", 'surfandrock.com']\n"
     ]
    }
   ],
   "source": [
    "new_words= [word for word in df_wcount['words'].values if not word.isalnum()]\n",
    "print(len(new_words),new_words)"
   ]
  },
  {
   "cell_type": "code",
   "execution_count": 153,
   "metadata": {},
   "outputs": [],
   "source": [
    "w_to_co = df_wcount\n",
    "w_to_co.index = w_to_co.words\n",
    "w_to_co = w_to_co['index'].to_dict()\n",
    "# print(w_to_co)\n",
    "co_to_w = df_wcount\n",
    "co_to_w.index = co_to_w['index']\n",
    "co_to_w = co_to_w['words'].to_dict()\n",
    "# print(co_to_w)"
   ]
  },
  {
   "cell_type": "code",
   "execution_count": 154,
   "metadata": {},
   "outputs": [
    {
     "data": {
      "text/plain": [
       "(20794, 3)"
      ]
     },
     "execution_count": 154,
     "metadata": {},
     "output_type": "execute_result"
    }
   ],
   "source": [
    "df_wcount.shape"
   ]
  },
  {
   "cell_type": "code",
   "execution_count": 100,
   "metadata": {},
   "outputs": [
    {
     "data": {
      "text/plain": [
       "'troaster'"
      ]
     },
     "execution_count": 100,
     "metadata": {},
     "output_type": "execute_result"
    }
   ],
   "source": [
    "vocab_size =df_wcount.shape[0]\n",
    "co_to_w[13]"
   ]
  },
  {
   "cell_type": "code",
   "execution_count": 146,
   "metadata": {},
   "outputs": [],
   "source": [
    "embedding_matrix = pd.read_pickle('../../dataset/descriptions/visual_genome_initial_emb_mat.p')\n",
    "embedding_matrix = embedding_matrix.values"
   ]
  },
  {
   "cell_type": "code",
   "execution_count": 345,
   "metadata": {
    "scrolled": true
   },
   "outputs": [],
   "source": [
    "df_emb = pd.DataFrame(embedding_matrix)\n",
    "df_emb.to_pickle('../../dataset/descriptions/visual_genome_initial_emb_mat.p')"
   ]
  },
  {
   "cell_type": "code",
   "execution_count": 70,
   "metadata": {
    "scrolled": true
   },
   "outputs": [
    {
     "data": {
      "text/plain": [
       "array([ 1.1465e-01,  7.6327e-02, -1.8594e-01,  1.5315e-02, -2.0193e-03,\n",
       "       -2.7311e-01, -1.6172e-01,  2.8018e-01, -1.3862e-01,  1.9825e+00,\n",
       "        1.8789e-01, -5.9647e-02, -1.4824e-01,  5.9303e-01,  2.5403e-01,\n",
       "        1.1026e-01,  2.4206e-01,  1.3235e+00, -2.0395e-01,  2.8434e-01,\n",
       "       -1.7635e-01,  4.6253e-02,  6.5614e-01,  1.5122e-01,  6.2570e-02,\n",
       "       -9.5560e-02,  4.7827e-01,  2.8925e-01, -1.7460e-01, -2.3400e-01,\n",
       "        4.2377e-01,  4.9269e-01,  4.3168e-02, -1.5458e-01,  1.0105e-01,\n",
       "       -5.3624e-01,  5.9711e-01,  3.3720e-01,  4.4236e-01,  7.1995e-02,\n",
       "        6.7550e-02, -1.2614e-01, -6.7101e-01,  6.7833e-01, -3.1274e-01,\n",
       "       -6.6834e-01,  2.0954e-01, -3.1846e-01, -4.4543e-01,  2.5959e-01,\n",
       "        1.8000e-01, -5.6818e-01, -4.9998e-01,  5.0180e-01, -1.5847e-01,\n",
       "        4.5843e-01,  1.7503e-01,  4.1826e-01, -2.7257e-01,  2.6886e-01,\n",
       "       -3.3366e-02, -2.5430e-01,  4.3955e-02, -1.2620e-01,  3.3597e-01,\n",
       "        1.5442e-02,  2.7599e-01, -7.6766e-01,  2.0519e-01,  7.9558e-02,\n",
       "       -1.5688e-01, -1.7966e-01,  4.2309e-02,  9.7050e-03,  3.3183e-01,\n",
       "        4.3201e-02, -1.8780e-01, -2.2064e-01,  9.1379e-02,  1.6735e-01,\n",
       "        3.7864e-01,  3.2535e-01, -4.3511e-01,  1.9824e-01,  6.8421e-02,\n",
       "        2.7178e-01, -4.6091e-01,  2.2344e-01, -7.9544e-01,  4.5195e-01,\n",
       "       -1.1548e-01, -4.2386e-01, -3.0170e-01, -2.0542e-01, -7.7099e-02,\n",
       "        2.2166e-01,  4.5059e-01,  2.5299e-01, -1.5838e-01, -2.4931e-01,\n",
       "        7.4816e-01, -2.2477e-01, -2.0568e-01, -7.0648e-01, -7.9436e-02,\n",
       "       -2.3488e+00, -6.1507e-01, -2.5303e-01, -7.4114e-01, -1.8293e-01,\n",
       "        7.5753e-01, -5.5533e-02,  2.2365e-02, -4.0873e-01, -4.6149e-02,\n",
       "       -4.8112e-01,  2.0917e-01, -1.3827e-01, -3.6746e-02,  3.0669e-02,\n",
       "       -3.4979e-01, -1.1133e-01, -1.3271e-01, -4.8190e-01,  6.7494e-03,\n",
       "        2.4049e-01,  6.2739e-01,  2.0945e-01, -4.0283e-01,  1.7212e-01,\n",
       "       -9.0506e-02, -4.6389e-02,  1.5344e-01,  2.2721e-02,  4.7246e-01,\n",
       "        2.1592e-01,  4.7988e-01,  3.1752e-03, -2.0889e-01, -1.3833e-01,\n",
       "        2.0260e-01, -1.5033e-01,  2.7809e-01,  2.0245e-01, -3.8013e-01,\n",
       "       -6.9087e-02,  9.4088e-02,  4.4306e-01, -7.1626e-01, -1.0390e-01,\n",
       "       -5.1058e-01,  7.5501e-02,  4.2232e-01, -5.9639e-01, -2.8521e-01,\n",
       "       -3.0053e-01,  5.1461e-01,  4.1615e-01,  1.5942e-01,  1.7859e-01,\n",
       "       -3.1815e-01, -4.3323e-01, -2.8532e-01, -5.3196e-01,  1.2306e-01,\n",
       "        7.5621e-05,  5.3934e-01, -2.9090e-01,  4.4882e-02,  3.3979e-01,\n",
       "        3.3791e-01, -1.2981e-03,  9.2387e-02,  4.3772e-01,  3.7556e-01,\n",
       "       -8.8592e-02,  1.1627e-01,  5.5260e-01,  5.6932e-01, -4.6782e-01,\n",
       "       -7.1911e-02,  2.0754e-01,  2.7427e-01,  2.9130e-01,  2.0318e-02,\n",
       "       -2.9261e-01,  5.9308e-02, -4.7517e-01, -1.2882e-01,  1.4312e-01,\n",
       "        5.5268e-01, -3.5084e-01,  5.6423e-01, -4.1047e-01, -1.0194e-01,\n",
       "        3.5545e-01,  4.7195e-01,  2.7780e-01,  2.7841e-02,  4.4942e-01,\n",
       "        6.6985e-01, -8.2353e-02,  2.8756e-01,  3.7162e-01,  2.8931e-01,\n",
       "       -2.5850e-01, -3.4748e-01,  5.8057e-02,  4.2006e-04, -8.3889e-02,\n",
       "        2.8159e-01, -3.0284e-01, -2.3161e-01, -1.6330e-02,  1.9932e-01,\n",
       "       -4.9761e-01, -2.3601e-01,  3.7963e-01, -4.2880e-01, -5.4733e-01,\n",
       "       -4.5239e-01,  6.4917e-01,  2.1238e-01,  1.5790e-01,  3.2909e-01,\n",
       "       -2.7992e-01,  2.2383e-01, -8.4195e-01, -1.5288e-01, -1.8491e-01,\n",
       "        2.0667e-02,  2.3455e-01,  3.3731e-01, -4.9675e-02,  4.1310e-01,\n",
       "        3.2461e-01,  3.5118e-01, -1.4604e-01,  8.1789e-02, -1.0650e-01,\n",
       "        3.7233e-01, -2.5301e-01, -5.2441e-02, -2.8439e-01,  8.7496e-03,\n",
       "       -4.6593e-01, -9.0150e-02, -3.9107e-01,  2.2411e-02,  7.0110e-02,\n",
       "       -5.7924e-01,  4.4532e-01, -7.6646e-01,  5.6247e-01, -5.0640e-01,\n",
       "        9.8164e-02,  1.9866e-01, -5.0623e-01, -1.7134e-01, -3.2533e-01,\n",
       "       -3.0521e-01,  3.5415e-01,  1.9669e-01, -3.6655e-02, -3.8705e-01,\n",
       "        2.3093e-01,  2.2685e-02, -2.3441e-01,  7.0929e-01,  2.0365e-01,\n",
       "       -4.2026e-01,  2.1918e-03, -1.1946e-01, -7.9163e-02,  3.9768e-01,\n",
       "       -1.4600e-01, -1.9237e-01, -2.5948e-01, -7.4077e-01,  8.5772e-02,\n",
       "       -1.9580e-01, -1.1782e-01,  1.1333e-01, -8.5578e-02,  3.2386e-02,\n",
       "       -5.9577e-01,  2.2614e-01,  1.2561e-01,  2.1184e-01, -5.6786e-01,\n",
       "       -4.8303e-01, -1.1799e-02, -9.4836e-03, -3.1033e-01, -5.6719e-01,\n",
       "        4.4856e-01,  7.1671e-01,  4.8029e-01,  3.8238e-01,  8.2973e-02],\n",
       "      dtype=float32)"
      ]
     },
     "execution_count": 70,
     "metadata": {},
     "output_type": "execute_result"
    }
   ],
   "source": [
    "nlp(co_to_w[vocab_size]).vector"
   ]
  },
  {
   "cell_type": "code",
   "execution_count": 147,
   "metadata": {
    "scrolled": true
   },
   "outputs": [],
   "source": [
    "embedding_matrix = np.insert(arr=embedding_matrix,obj=20794,values=(np.random.random((300))-0.5),axis=0)"
   ]
  },
  {
   "cell_type": "code",
   "execution_count": 343,
   "metadata": {},
   "outputs": [],
   "source": [
    "embedding_matrix=embedding_matrix+1e-6"
   ]
  },
  {
   "cell_type": "code",
   "execution_count": 344,
   "metadata": {},
   "outputs": [
    {
     "data": {
      "text/plain": [
       "array([1.e-06, 1.e-06, 1.e-06, 1.e-06, 1.e-06, 1.e-06, 1.e-06, 1.e-06,\n",
       "       1.e-06, 1.e-06, 1.e-06, 1.e-06, 1.e-06, 1.e-06, 1.e-06, 1.e-06,\n",
       "       1.e-06, 1.e-06, 1.e-06, 1.e-06, 1.e-06, 1.e-06, 1.e-06, 1.e-06,\n",
       "       1.e-06, 1.e-06, 1.e-06, 1.e-06, 1.e-06, 1.e-06, 1.e-06, 1.e-06,\n",
       "       1.e-06, 1.e-06, 1.e-06, 1.e-06, 1.e-06, 1.e-06, 1.e-06, 1.e-06,\n",
       "       1.e-06, 1.e-06, 1.e-06, 1.e-06, 1.e-06, 1.e-06, 1.e-06, 1.e-06,\n",
       "       1.e-06, 1.e-06, 1.e-06, 1.e-06, 1.e-06, 1.e-06, 1.e-06, 1.e-06,\n",
       "       1.e-06, 1.e-06, 1.e-06, 1.e-06, 1.e-06, 1.e-06, 1.e-06, 1.e-06,\n",
       "       1.e-06, 1.e-06, 1.e-06, 1.e-06, 1.e-06, 1.e-06, 1.e-06, 1.e-06,\n",
       "       1.e-06, 1.e-06, 1.e-06, 1.e-06, 1.e-06, 1.e-06, 1.e-06, 1.e-06,\n",
       "       1.e-06, 1.e-06, 1.e-06, 1.e-06, 1.e-06, 1.e-06, 1.e-06, 1.e-06,\n",
       "       1.e-06, 1.e-06, 1.e-06, 1.e-06, 1.e-06, 1.e-06, 1.e-06, 1.e-06,\n",
       "       1.e-06, 1.e-06, 1.e-06, 1.e-06, 1.e-06, 1.e-06, 1.e-06, 1.e-06,\n",
       "       1.e-06, 1.e-06, 1.e-06, 1.e-06, 1.e-06, 1.e-06, 1.e-06, 1.e-06,\n",
       "       1.e-06, 1.e-06, 1.e-06, 1.e-06, 1.e-06, 1.e-06, 1.e-06, 1.e-06,\n",
       "       1.e-06, 1.e-06, 1.e-06, 1.e-06, 1.e-06, 1.e-06, 1.e-06, 1.e-06,\n",
       "       1.e-06, 1.e-06, 1.e-06, 1.e-06, 1.e-06, 1.e-06, 1.e-06, 1.e-06,\n",
       "       1.e-06, 1.e-06, 1.e-06, 1.e-06, 1.e-06, 1.e-06, 1.e-06, 1.e-06,\n",
       "       1.e-06, 1.e-06, 1.e-06, 1.e-06, 1.e-06, 1.e-06, 1.e-06, 1.e-06,\n",
       "       1.e-06, 1.e-06, 1.e-06, 1.e-06, 1.e-06, 1.e-06, 1.e-06, 1.e-06,\n",
       "       1.e-06, 1.e-06, 1.e-06, 1.e-06, 1.e-06, 1.e-06, 1.e-06, 1.e-06,\n",
       "       1.e-06, 1.e-06, 1.e-06, 1.e-06, 1.e-06, 1.e-06, 1.e-06, 1.e-06,\n",
       "       1.e-06, 1.e-06, 1.e-06, 1.e-06, 1.e-06, 1.e-06, 1.e-06, 1.e-06,\n",
       "       1.e-06, 1.e-06, 1.e-06, 1.e-06, 1.e-06, 1.e-06, 1.e-06, 1.e-06,\n",
       "       1.e-06, 1.e-06, 1.e-06, 1.e-06, 1.e-06, 1.e-06, 1.e-06, 1.e-06,\n",
       "       1.e-06, 1.e-06, 1.e-06, 1.e-06, 1.e-06, 1.e-06, 1.e-06, 1.e-06,\n",
       "       1.e-06, 1.e-06, 1.e-06, 1.e-06, 1.e-06, 1.e-06, 1.e-06, 1.e-06,\n",
       "       1.e-06, 1.e-06, 1.e-06, 1.e-06, 1.e-06, 1.e-06, 1.e-06, 1.e-06,\n",
       "       1.e-06, 1.e-06, 1.e-06, 1.e-06, 1.e-06, 1.e-06, 1.e-06, 1.e-06,\n",
       "       1.e-06, 1.e-06, 1.e-06, 1.e-06, 1.e-06, 1.e-06, 1.e-06, 1.e-06,\n",
       "       1.e-06, 1.e-06, 1.e-06, 1.e-06, 1.e-06, 1.e-06, 1.e-06, 1.e-06,\n",
       "       1.e-06, 1.e-06, 1.e-06, 1.e-06, 1.e-06, 1.e-06, 1.e-06, 1.e-06,\n",
       "       1.e-06, 1.e-06, 1.e-06, 1.e-06, 1.e-06, 1.e-06, 1.e-06, 1.e-06,\n",
       "       1.e-06, 1.e-06, 1.e-06, 1.e-06, 1.e-06, 1.e-06, 1.e-06, 1.e-06,\n",
       "       1.e-06, 1.e-06, 1.e-06, 1.e-06, 1.e-06, 1.e-06, 1.e-06, 1.e-06,\n",
       "       1.e-06, 1.e-06, 1.e-06, 1.e-06, 1.e-06, 1.e-06, 1.e-06, 1.e-06,\n",
       "       1.e-06, 1.e-06, 1.e-06, 1.e-06, 1.e-06, 1.e-06, 1.e-06, 1.e-06,\n",
       "       1.e-06, 1.e-06, 1.e-06, 1.e-06])"
      ]
     },
     "execution_count": 344,
     "metadata": {},
     "output_type": "execute_result"
    }
   ],
   "source": [
    "embedding_matrix[0]"
   ]
  },
  {
   "cell_type": "code",
   "execution_count": 155,
   "metadata": {
    "scrolled": true
   },
   "outputs": [
    {
     "data": {
      "text/plain": [
       "(endseq,\n",
       " array([0., 0., 0., 0., 0., 0., 0., 0., 0., 0., 0., 0., 0., 0., 0., 0., 0.,\n",
       "        0., 0., 0., 0., 0., 0., 0., 0., 0., 0., 0., 0., 0., 0., 0., 0., 0.,\n",
       "        0., 0., 0., 0., 0., 0., 0., 0., 0., 0., 0., 0., 0., 0., 0., 0., 0.,\n",
       "        0., 0., 0., 0., 0., 0., 0., 0., 0., 0., 0., 0., 0., 0., 0., 0., 0.,\n",
       "        0., 0., 0., 0., 0., 0., 0., 0., 0., 0., 0., 0., 0., 0., 0., 0., 0.,\n",
       "        0., 0., 0., 0., 0., 0., 0., 0., 0., 0., 0., 0., 0., 0., 0., 0., 0.,\n",
       "        0., 0., 0., 0., 0., 0., 0., 0., 0., 0., 0., 0., 0., 0., 0., 0., 0.,\n",
       "        0., 0., 0., 0., 0., 0., 0., 0., 0., 0., 0., 0., 0., 0., 0., 0., 0.,\n",
       "        0., 0., 0., 0., 0., 0., 0., 0., 0., 0., 0., 0., 0., 0., 0., 0., 0.,\n",
       "        0., 0., 0., 0., 0., 0., 0., 0., 0., 0., 0., 0., 0., 0., 0., 0., 0.,\n",
       "        0., 0., 0., 0., 0., 0., 0., 0., 0., 0., 0., 0., 0., 0., 0., 0., 0.,\n",
       "        0., 0., 0., 0., 0., 0., 0., 0., 0., 0., 0., 0., 0., 0., 0., 0., 0.,\n",
       "        0., 0., 0., 0., 0., 0., 0., 0., 0., 0., 0., 0., 0., 0., 0., 0., 0.,\n",
       "        0., 0., 0., 0., 0., 0., 0., 0., 0., 0., 0., 0., 0., 0., 0., 0., 0.,\n",
       "        0., 0., 0., 0., 0., 0., 0., 0., 0., 0., 0., 0., 0., 0., 0., 0., 0.,\n",
       "        0., 0., 0., 0., 0., 0., 0., 0., 0., 0., 0., 0., 0., 0., 0., 0., 0.,\n",
       "        0., 0., 0., 0., 0., 0., 0., 0., 0., 0., 0., 0., 0., 0., 0., 0., 0.,\n",
       "        0., 0., 0., 0., 0., 0., 0., 0., 0., 0., 0.], dtype=float32))"
      ]
     },
     "execution_count": 155,
     "metadata": {},
     "output_type": "execute_result"
    }
   ],
   "source": [
    "nlp(co_to_w[20794]),nlp(co_to_w[20794]).vector"
   ]
  },
  {
   "cell_type": "code",
   "execution_count": 158,
   "metadata": {
    "scrolled": true
   },
   "outputs": [
    {
     "data": {
      "text/plain": [
       "array([ 1.14650004e-01,  7.63270035e-02, -1.85939997e-01,  1.53150000e-02,\n",
       "       -2.01929989e-03, -2.73110002e-01, -1.61719993e-01,  2.80180007e-01,\n",
       "       -1.38620004e-01,  1.98249996e+00,  1.87889993e-01, -5.96470013e-02,\n",
       "       -1.48240000e-01,  5.93029976e-01,  2.54029989e-01,  1.10260002e-01,\n",
       "        2.42060006e-01,  1.32350004e+00, -2.03950003e-01,  2.84339994e-01,\n",
       "       -1.76349998e-01,  4.62529995e-02,  6.56140029e-01,  1.51219994e-01,\n",
       "        6.25699982e-02, -9.55599993e-02,  4.78269994e-01,  2.89249986e-01,\n",
       "       -1.74600005e-01, -2.33999997e-01,  4.23770010e-01,  4.92689997e-01,\n",
       "        4.31680009e-02, -1.54579997e-01,  1.01049997e-01, -5.36239982e-01,\n",
       "        5.97109973e-01,  3.37199986e-01,  4.42360014e-01,  7.19949976e-02,\n",
       "        6.75500035e-02, -1.26139998e-01, -6.71010017e-01,  6.78330004e-01,\n",
       "       -3.12739998e-01, -6.68340027e-01,  2.09539995e-01, -3.18459988e-01,\n",
       "       -4.45430011e-01,  2.59590000e-01,  1.80000007e-01, -5.68180025e-01,\n",
       "       -4.99980003e-01,  5.01800001e-01, -1.58470005e-01,  4.58429992e-01,\n",
       "        1.75029993e-01,  4.18260008e-01, -2.72570014e-01,  2.68860012e-01,\n",
       "       -3.33659984e-02, -2.54299998e-01,  4.39549983e-02, -1.26200005e-01,\n",
       "        3.35970014e-01,  1.54419998e-02,  2.75990009e-01, -7.67660022e-01,\n",
       "        2.05190003e-01,  7.95580000e-02, -1.56880006e-01, -1.79660007e-01,\n",
       "        4.23090011e-02,  9.70499963e-03,  3.31829995e-01,  4.32009995e-02,\n",
       "       -1.87800005e-01, -2.20640004e-01,  9.13790017e-02,  1.67349994e-01,\n",
       "        3.78639996e-01,  3.25349987e-01, -4.35110003e-01,  1.98239997e-01,\n",
       "        6.84209988e-02,  2.71780014e-01, -4.60909992e-01,  2.23440006e-01,\n",
       "       -7.95440018e-01,  4.51950014e-01, -1.15479998e-01, -4.23860013e-01,\n",
       "       -3.01699996e-01, -2.05420002e-01, -7.70990029e-02,  2.21660003e-01,\n",
       "        4.50590014e-01,  2.52990007e-01, -1.58380002e-01, -2.49310002e-01,\n",
       "        7.48160005e-01, -2.24769995e-01, -2.05679998e-01, -7.06480026e-01,\n",
       "       -7.94359967e-02, -2.34879994e+00, -6.15069985e-01, -2.53030002e-01,\n",
       "       -7.41140008e-01, -1.82929993e-01,  7.57529974e-01, -5.55329993e-02,\n",
       "        2.23650001e-02, -4.08730000e-01, -4.61490005e-02, -4.81119990e-01,\n",
       "        2.09169999e-01, -1.38270006e-01, -3.67459990e-02,  3.06690000e-02,\n",
       "       -3.49790007e-01, -1.11330003e-01, -1.32709995e-01, -4.81900007e-01,\n",
       "        6.74939994e-03,  2.40490004e-01,  6.27390027e-01,  2.09450006e-01,\n",
       "       -4.02830005e-01,  1.72120005e-01, -9.05060023e-02, -4.63889986e-02,\n",
       "        1.53439999e-01,  2.27210000e-02,  4.72460002e-01,  2.15920001e-01,\n",
       "        4.79880005e-01,  3.17519996e-03, -2.08890006e-01, -1.38329998e-01,\n",
       "        2.02600002e-01, -1.50330007e-01,  2.78090000e-01,  2.02450007e-01,\n",
       "       -3.80129993e-01, -6.90869987e-02,  9.40880030e-02,  4.43060011e-01,\n",
       "       -7.16260016e-01, -1.03900000e-01, -5.10580003e-01,  7.55010024e-02,\n",
       "        4.22320008e-01, -5.96390009e-01, -2.85210013e-01, -3.00529987e-01,\n",
       "        5.14609993e-01,  4.16150004e-01,  1.59419999e-01,  1.78590000e-01,\n",
       "       -3.18150014e-01, -4.33230013e-01, -2.85320014e-01, -5.31960011e-01,\n",
       "        1.23060003e-01,  7.56209993e-05,  5.39340019e-01, -2.90899992e-01,\n",
       "        4.48819995e-02,  3.39789987e-01,  3.37909997e-01, -1.29809999e-03,\n",
       "        9.23869982e-02,  4.37720001e-01,  3.75559986e-01, -8.85920003e-02,\n",
       "        1.16269998e-01,  5.52600026e-01,  5.69320023e-01, -4.67819989e-01,\n",
       "       -7.19109997e-02,  2.07540005e-01,  2.74269998e-01,  2.91299999e-01,\n",
       "        2.03179996e-02, -2.92609990e-01,  5.93079999e-02, -4.75169986e-01,\n",
       "       -1.28820002e-01,  1.43120006e-01,  5.52680016e-01, -3.50840002e-01,\n",
       "        5.64230025e-01, -4.10470009e-01, -1.01939999e-01,  3.55450004e-01,\n",
       "        4.71949995e-01,  2.77799994e-01,  2.78409999e-02,  4.49420005e-01,\n",
       "        6.69849992e-01, -8.23530033e-02,  2.87559986e-01,  3.71619999e-01,\n",
       "        2.89310008e-01, -2.58500010e-01, -3.47479999e-01,  5.80569990e-02,\n",
       "        4.20060009e-04, -8.38890001e-02,  2.81590015e-01, -3.02839994e-01,\n",
       "       -2.31610000e-01, -1.63300000e-02,  1.99320003e-01, -4.97610003e-01,\n",
       "       -2.36010000e-01,  3.79629999e-01, -4.28799987e-01, -5.47330022e-01,\n",
       "       -4.52389985e-01,  6.49169981e-01,  2.12380007e-01,  1.57900006e-01,\n",
       "        3.29089999e-01, -2.79920012e-01,  2.23830000e-01, -8.41949999e-01,\n",
       "       -1.52879998e-01, -1.84909999e-01,  2.06669997e-02,  2.34549999e-01,\n",
       "        3.37309986e-01, -4.96749990e-02,  4.13100004e-01,  3.24609995e-01,\n",
       "        3.51179987e-01, -1.46039993e-01,  8.17890018e-02, -1.06500000e-01,\n",
       "        3.72330010e-01, -2.53010005e-01, -5.24410009e-02, -2.84390002e-01,\n",
       "        8.74959957e-03, -4.65930015e-01, -9.01499987e-02, -3.91070008e-01,\n",
       "        2.24110000e-02,  7.01100007e-02, -5.79240024e-01,  4.45320010e-01,\n",
       "       -7.66460001e-01,  5.62470019e-01, -5.06399989e-01,  9.81639996e-02,\n",
       "        1.98660001e-01, -5.06229997e-01, -1.71340004e-01, -3.25329989e-01,\n",
       "       -3.05209994e-01,  3.54149997e-01,  1.96689993e-01, -3.66550013e-02,\n",
       "       -3.87050003e-01,  2.30930001e-01,  2.26850007e-02, -2.34410003e-01,\n",
       "        7.09290028e-01,  2.03649998e-01, -4.20260012e-01,  2.19179993e-03,\n",
       "       -1.19460002e-01, -7.91630000e-02,  3.97680014e-01, -1.45999998e-01,\n",
       "       -1.92369998e-01, -2.59480000e-01, -7.40769982e-01,  8.57720003e-02,\n",
       "       -1.95800006e-01, -1.17820002e-01,  1.13329999e-01, -8.55780020e-02,\n",
       "        3.23860012e-02, -5.95770001e-01,  2.26140007e-01,  1.25609994e-01,\n",
       "        2.11840004e-01, -5.67860007e-01, -4.83029991e-01, -1.17990002e-02,\n",
       "       -9.48360004e-03, -3.10330003e-01, -5.67189991e-01,  4.48559999e-01,\n",
       "        7.16709971e-01,  4.80289996e-01,  3.82380009e-01,  8.29730034e-02])"
      ]
     },
     "execution_count": 158,
     "metadata": {},
     "output_type": "execute_result"
    }
   ],
   "source": [
    "embedding_matrix[20792]"
   ]
  },
  {
   "cell_type": "code",
   "execution_count": 159,
   "metadata": {},
   "outputs": [],
   "source": [
    "df_emb = pd.DataFrame(embedding_matrix)\n",
    "df_emb.to_pickle('../../dataset/descriptions/visual_genome_initial_emb_mat.p')"
   ]
  },
  {
   "cell_type": "code",
   "execution_count": 173,
   "metadata": {},
   "outputs": [],
   "source": [
    "import tensorflow as tf"
   ]
  },
  {
   "cell_type": "code",
   "execution_count": 325,
   "metadata": {
    "scrolled": true
   },
   "outputs": [
    {
     "name": "stdout",
     "output_type": "stream",
     "text": [
      "[[[1.00000e-05 1.00000e-05 1.00000e-05 1.00000e-05 1.00000e-05\n",
      "   1.00000e-05]\n",
      "  [1.00000e-05 1.00000e-05 1.00000e-05 1.00000e-05 1.00000e-05\n",
      "   1.00000e-05]\n",
      "  [1.00000e-05 1.00000e-05 1.00000e-05 1.00000e-05 1.00000e-05\n",
      "   1.00000e-05]\n",
      "  [1.00000e-05 1.00000e-05 1.00000e-05 1.00000e-05 1.00000e-05\n",
      "   1.00000e-05]\n",
      "  [1.00000e-05 1.00000e-05 1.00000e-05 1.00000e-05 1.00000e-05\n",
      "   1.00000e-05]\n",
      "  [1.00000e-05 1.00000e-05 1.00000e-05 1.00000e-05 1.00000e-05\n",
      "   1.00000e-05]\n",
      "  [1.00000e-05 1.00000e-05 1.00000e-05 1.00000e-05 1.00000e-05\n",
      "   1.00000e-05]\n",
      "  [3.00001e+00 2.00001e+00 1.00001e+00 2.40001e+00 3.50001e+00\n",
      "   5.20001e+00]\n",
      "  [1.00001e+00 2.00001e+00 3.00001e+00 3.40001e+00 1.60001e+00\n",
      "   5.20001e+00]\n",
      "  [2.30001e+00 1.60001e+00 4.10001e+00 3.20001e+00 5.00010e-01\n",
      "   3.90001e+00]]]\n"
     ]
    },
    {
     "data": {
      "text/plain": [
       "(1, 10, 1)"
      ]
     },
     "execution_count": 325,
     "metadata": {},
     "output_type": "execute_result"
    }
   ],
   "source": [
    "inp = np.array([\n",
    "                    [\n",
    "                        [0,0,0,0,0,0],\n",
    "                        [0,0,0,0,0,0],\n",
    "                        [0,0,0,0,0,0],\n",
    "                        [0,0,0,0,0,0],\n",
    "                        [0,0,0,0,0,0],\n",
    "                        [0,0,0,0,0,0],\n",
    "                        [0,0,0,0,0,0],\n",
    "                        [3.0,2.0,1.0,2.40,3.50,5.20],\n",
    "                        [1.0,2.0,3.0,3.40,1.60,5.20],\n",
    "                        [2.30,1.60,4.10,3.20,0.50,3.90]\n",
    "                    ]\n",
    "                ])\n",
    "inp = inp+0.00001\n",
    "print(inp)\n",
    "padding_mask = np.array([[[0],[0],[0],[0],[0],[0],[0],[1],[1],[1]]])\n",
    "padding_mask.shape"
   ]
  },
  {
   "cell_type": "code",
   "execution_count": 464,
   "metadata": {
    "scrolled": true
   },
   "outputs": [
    {
     "data": {
      "text/plain": [
       "<tf.Tensor 'x:0' shape=(1, 10, 6) dtype=float32>"
      ]
     },
     "execution_count": 464,
     "metadata": {},
     "output_type": "execute_result"
    }
   ],
   "source": [
    "graph = tf.Graph()\n",
    "with graph.as_default():\n",
    "    x = tf.convert_to_tensor(inp,dtype='float',name='x')\n",
    "    p = tf.convert_to_tensor(padding_mask,dtype='float',name='p')\n",
    "#     q = tf.keras.layers.Conv1D(kernel_size=1,strides=1,activation='relu',filters=8,padding='same',kernel_initializer='glorot_uniform')(x)\n",
    "#     k = tf.keras.layers.Conv1D(kernel_size=1,strides=1,activation='relu',filters=8,padding='same',kernel_initializer='glorot_uniform')(x)\n",
    "#     v = tf.keras.layers.Conv1D(kernel_size=1,strides=1,activation='relu',filters=8,padding='same',kernel_initializer='glorot_uniform')(x)\n",
    "#     s = tf.keras.backend.batch_dot(q, tf.keras.backend.permute_dimensions(k,(0,2,1)))\n",
    "    \n",
    "    \n",
    "    \n",
    "#     beta = tf.keras.backend.softmax(s, axis=-1)\n",
    "#     beta = tf.keras.layers.Multiply()([beta,padding_mask])\n",
    "#     o = tf.keras.backend.batch_dot(beta,v)\n",
    "#     o = tf.keras.layers.BatchNormalization()(o)\n",
    "\n",
    "\n",
    "#     n = Dense(10,activation='relu')(x)\n",
    "#     print(n)\n",
    "    g1 = tf.keras.layers.Dense(1)\n",
    "    x_exp = tf.keras.backend.expand_dims(axis=-1,x=x)\n",
    "    g1_out = g1(x_exp)\n",
    "    \n",
    "    g1_out_relu = tf.keras.backend.squeeze(axis=-1,x=tf.keras.layers.Activation('relu')(g1_out))\n",
    "    g1_out_elu = tf.keras.backend.squeeze(axis=-1,x=tf.keras.layers.Activation('elu')(g1_out))\n",
    "    g1_out_linear = tf.keras.backend.squeeze(axis=-1,x=tf.keras.layers.Activation('linear')(g1_out))\n",
    "#     g1_weights = tf.convert_to_tensor(g1.get_weights())\n",
    "#     g1_out = tf.keras.backend.squeeze(axis=-1,x=g1_out)\n",
    "#     print(g1_out)\n",
    "    initialize = tf.global_variables_initializer()\n",
    "    \n",
    "x\n"
   ]
  },
  {
   "cell_type": "code",
   "execution_count": 469,
   "metadata": {
    "scrolled": false
   },
   "outputs": [
    {
     "data": {
      "text/html": [
       "<div>\n",
       "<style scoped>\n",
       "    .dataframe tbody tr th:only-of-type {\n",
       "        vertical-align: middle;\n",
       "    }\n",
       "\n",
       "    .dataframe tbody tr th {\n",
       "        vertical-align: top;\n",
       "    }\n",
       "\n",
       "    .dataframe thead th {\n",
       "        text-align: right;\n",
       "    }\n",
       "</style>\n",
       "<table border=\"1\" class=\"dataframe\">\n",
       "  <thead>\n",
       "    <tr style=\"text-align: right;\">\n",
       "      <th></th>\n",
       "      <th>0</th>\n",
       "      <th>1</th>\n",
       "      <th>2</th>\n",
       "      <th>3</th>\n",
       "      <th>4</th>\n",
       "      <th>5</th>\n",
       "    </tr>\n",
       "  </thead>\n",
       "  <tbody>\n",
       "    <tr>\n",
       "      <th>0</th>\n",
       "      <td>0.00001</td>\n",
       "      <td>0.00001</td>\n",
       "      <td>0.00001</td>\n",
       "      <td>0.00001</td>\n",
       "      <td>0.00001</td>\n",
       "      <td>0.00001</td>\n",
       "    </tr>\n",
       "    <tr>\n",
       "      <th>1</th>\n",
       "      <td>0.00001</td>\n",
       "      <td>0.00001</td>\n",
       "      <td>0.00001</td>\n",
       "      <td>0.00001</td>\n",
       "      <td>0.00001</td>\n",
       "      <td>0.00001</td>\n",
       "    </tr>\n",
       "    <tr>\n",
       "      <th>2</th>\n",
       "      <td>0.00001</td>\n",
       "      <td>0.00001</td>\n",
       "      <td>0.00001</td>\n",
       "      <td>0.00001</td>\n",
       "      <td>0.00001</td>\n",
       "      <td>0.00001</td>\n",
       "    </tr>\n",
       "    <tr>\n",
       "      <th>3</th>\n",
       "      <td>0.00001</td>\n",
       "      <td>0.00001</td>\n",
       "      <td>0.00001</td>\n",
       "      <td>0.00001</td>\n",
       "      <td>0.00001</td>\n",
       "      <td>0.00001</td>\n",
       "    </tr>\n",
       "    <tr>\n",
       "      <th>4</th>\n",
       "      <td>0.00001</td>\n",
       "      <td>0.00001</td>\n",
       "      <td>0.00001</td>\n",
       "      <td>0.00001</td>\n",
       "      <td>0.00001</td>\n",
       "      <td>0.00001</td>\n",
       "    </tr>\n",
       "    <tr>\n",
       "      <th>5</th>\n",
       "      <td>0.00001</td>\n",
       "      <td>0.00001</td>\n",
       "      <td>0.00001</td>\n",
       "      <td>0.00001</td>\n",
       "      <td>0.00001</td>\n",
       "      <td>0.00001</td>\n",
       "    </tr>\n",
       "    <tr>\n",
       "      <th>6</th>\n",
       "      <td>0.00001</td>\n",
       "      <td>0.00001</td>\n",
       "      <td>0.00001</td>\n",
       "      <td>0.00001</td>\n",
       "      <td>0.00001</td>\n",
       "      <td>0.00001</td>\n",
       "    </tr>\n",
       "    <tr>\n",
       "      <th>7</th>\n",
       "      <td>3.00001</td>\n",
       "      <td>2.00001</td>\n",
       "      <td>1.00001</td>\n",
       "      <td>2.40001</td>\n",
       "      <td>3.50001</td>\n",
       "      <td>5.20001</td>\n",
       "    </tr>\n",
       "    <tr>\n",
       "      <th>8</th>\n",
       "      <td>1.00001</td>\n",
       "      <td>2.00001</td>\n",
       "      <td>3.00001</td>\n",
       "      <td>3.40001</td>\n",
       "      <td>1.60001</td>\n",
       "      <td>5.20001</td>\n",
       "    </tr>\n",
       "    <tr>\n",
       "      <th>9</th>\n",
       "      <td>2.30001</td>\n",
       "      <td>1.60001</td>\n",
       "      <td>4.10001</td>\n",
       "      <td>3.20001</td>\n",
       "      <td>0.50001</td>\n",
       "      <td>3.90001</td>\n",
       "    </tr>\n",
       "  </tbody>\n",
       "</table>\n",
       "</div>"
      ],
      "text/plain": [
       "         0        1        2        3        4        5\n",
       "0  0.00001  0.00001  0.00001  0.00001  0.00001  0.00001\n",
       "1  0.00001  0.00001  0.00001  0.00001  0.00001  0.00001\n",
       "2  0.00001  0.00001  0.00001  0.00001  0.00001  0.00001\n",
       "3  0.00001  0.00001  0.00001  0.00001  0.00001  0.00001\n",
       "4  0.00001  0.00001  0.00001  0.00001  0.00001  0.00001\n",
       "5  0.00001  0.00001  0.00001  0.00001  0.00001  0.00001\n",
       "6  0.00001  0.00001  0.00001  0.00001  0.00001  0.00001\n",
       "7  3.00001  2.00001  1.00001  2.40001  3.50001  5.20001\n",
       "8  1.00001  2.00001  3.00001  3.40001  1.60001  5.20001\n",
       "9  2.30001  1.60001  4.10001  3.20001  0.50001  3.90001"
      ]
     },
     "metadata": {},
     "output_type": "display_data"
    },
    {
     "data": {
      "text/html": [
       "<div>\n",
       "<style scoped>\n",
       "    .dataframe tbody tr th:only-of-type {\n",
       "        vertical-align: middle;\n",
       "    }\n",
       "\n",
       "    .dataframe tbody tr th {\n",
       "        vertical-align: top;\n",
       "    }\n",
       "\n",
       "    .dataframe thead th {\n",
       "        text-align: right;\n",
       "    }\n",
       "</style>\n",
       "<table border=\"1\" class=\"dataframe\">\n",
       "  <thead>\n",
       "    <tr style=\"text-align: right;\">\n",
       "      <th></th>\n",
       "      <th>0</th>\n",
       "      <th>1</th>\n",
       "      <th>2</th>\n",
       "      <th>3</th>\n",
       "      <th>4</th>\n",
       "      <th>5</th>\n",
       "    </tr>\n",
       "  </thead>\n",
       "  <tbody>\n",
       "    <tr>\n",
       "      <th>0</th>\n",
       "      <td>0.000001</td>\n",
       "      <td>0.000001</td>\n",
       "      <td>0.000001</td>\n",
       "      <td>0.000001</td>\n",
       "      <td>0.000001</td>\n",
       "      <td>0.000001</td>\n",
       "    </tr>\n",
       "    <tr>\n",
       "      <th>1</th>\n",
       "      <td>0.000001</td>\n",
       "      <td>0.000001</td>\n",
       "      <td>0.000001</td>\n",
       "      <td>0.000001</td>\n",
       "      <td>0.000001</td>\n",
       "      <td>0.000001</td>\n",
       "    </tr>\n",
       "    <tr>\n",
       "      <th>2</th>\n",
       "      <td>0.000001</td>\n",
       "      <td>0.000001</td>\n",
       "      <td>0.000001</td>\n",
       "      <td>0.000001</td>\n",
       "      <td>0.000001</td>\n",
       "      <td>0.000001</td>\n",
       "    </tr>\n",
       "    <tr>\n",
       "      <th>3</th>\n",
       "      <td>0.000001</td>\n",
       "      <td>0.000001</td>\n",
       "      <td>0.000001</td>\n",
       "      <td>0.000001</td>\n",
       "      <td>0.000001</td>\n",
       "      <td>0.000001</td>\n",
       "    </tr>\n",
       "    <tr>\n",
       "      <th>4</th>\n",
       "      <td>0.000001</td>\n",
       "      <td>0.000001</td>\n",
       "      <td>0.000001</td>\n",
       "      <td>0.000001</td>\n",
       "      <td>0.000001</td>\n",
       "      <td>0.000001</td>\n",
       "    </tr>\n",
       "    <tr>\n",
       "      <th>5</th>\n",
       "      <td>0.000001</td>\n",
       "      <td>0.000001</td>\n",
       "      <td>0.000001</td>\n",
       "      <td>0.000001</td>\n",
       "      <td>0.000001</td>\n",
       "      <td>0.000001</td>\n",
       "    </tr>\n",
       "    <tr>\n",
       "      <th>6</th>\n",
       "      <td>0.000001</td>\n",
       "      <td>0.000001</td>\n",
       "      <td>0.000001</td>\n",
       "      <td>0.000001</td>\n",
       "      <td>0.000001</td>\n",
       "      <td>0.000001</td>\n",
       "    </tr>\n",
       "    <tr>\n",
       "      <th>7</th>\n",
       "      <td>0.362929</td>\n",
       "      <td>0.241953</td>\n",
       "      <td>0.120977</td>\n",
       "      <td>0.290343</td>\n",
       "      <td>0.423417</td>\n",
       "      <td>0.629076</td>\n",
       "    </tr>\n",
       "    <tr>\n",
       "      <th>8</th>\n",
       "      <td>0.120977</td>\n",
       "      <td>0.241953</td>\n",
       "      <td>0.362929</td>\n",
       "      <td>0.411319</td>\n",
       "      <td>0.193563</td>\n",
       "      <td>0.629076</td>\n",
       "    </tr>\n",
       "    <tr>\n",
       "      <th>9</th>\n",
       "      <td>0.278246</td>\n",
       "      <td>0.193563</td>\n",
       "      <td>0.496002</td>\n",
       "      <td>0.387124</td>\n",
       "      <td>0.060489</td>\n",
       "      <td>0.471807</td>\n",
       "    </tr>\n",
       "  </tbody>\n",
       "</table>\n",
       "</div>"
      ],
      "text/plain": [
       "          0         1         2         3         4         5\n",
       "0  0.000001  0.000001  0.000001  0.000001  0.000001  0.000001\n",
       "1  0.000001  0.000001  0.000001  0.000001  0.000001  0.000001\n",
       "2  0.000001  0.000001  0.000001  0.000001  0.000001  0.000001\n",
       "3  0.000001  0.000001  0.000001  0.000001  0.000001  0.000001\n",
       "4  0.000001  0.000001  0.000001  0.000001  0.000001  0.000001\n",
       "5  0.000001  0.000001  0.000001  0.000001  0.000001  0.000001\n",
       "6  0.000001  0.000001  0.000001  0.000001  0.000001  0.000001\n",
       "7  0.362929  0.241953  0.120977  0.290343  0.423417  0.629076\n",
       "8  0.120977  0.241953  0.362929  0.411319  0.193563  0.629076\n",
       "9  0.278246  0.193563  0.496002  0.387124  0.060489  0.471807"
      ]
     },
     "metadata": {},
     "output_type": "display_data"
    },
    {
     "data": {
      "text/html": [
       "<div>\n",
       "<style scoped>\n",
       "    .dataframe tbody tr th:only-of-type {\n",
       "        vertical-align: middle;\n",
       "    }\n",
       "\n",
       "    .dataframe tbody tr th {\n",
       "        vertical-align: top;\n",
       "    }\n",
       "\n",
       "    .dataframe thead th {\n",
       "        text-align: right;\n",
       "    }\n",
       "</style>\n",
       "<table border=\"1\" class=\"dataframe\">\n",
       "  <thead>\n",
       "    <tr style=\"text-align: right;\">\n",
       "      <th></th>\n",
       "      <th>0</th>\n",
       "      <th>1</th>\n",
       "      <th>2</th>\n",
       "      <th>3</th>\n",
       "      <th>4</th>\n",
       "      <th>5</th>\n",
       "    </tr>\n",
       "  </thead>\n",
       "  <tbody>\n",
       "    <tr>\n",
       "      <th>0</th>\n",
       "      <td>0.000001</td>\n",
       "      <td>0.000001</td>\n",
       "      <td>0.000001</td>\n",
       "      <td>0.000001</td>\n",
       "      <td>0.000001</td>\n",
       "      <td>0.000001</td>\n",
       "    </tr>\n",
       "    <tr>\n",
       "      <th>1</th>\n",
       "      <td>0.000001</td>\n",
       "      <td>0.000001</td>\n",
       "      <td>0.000001</td>\n",
       "      <td>0.000001</td>\n",
       "      <td>0.000001</td>\n",
       "      <td>0.000001</td>\n",
       "    </tr>\n",
       "    <tr>\n",
       "      <th>2</th>\n",
       "      <td>0.000001</td>\n",
       "      <td>0.000001</td>\n",
       "      <td>0.000001</td>\n",
       "      <td>0.000001</td>\n",
       "      <td>0.000001</td>\n",
       "      <td>0.000001</td>\n",
       "    </tr>\n",
       "    <tr>\n",
       "      <th>3</th>\n",
       "      <td>0.000001</td>\n",
       "      <td>0.000001</td>\n",
       "      <td>0.000001</td>\n",
       "      <td>0.000001</td>\n",
       "      <td>0.000001</td>\n",
       "      <td>0.000001</td>\n",
       "    </tr>\n",
       "    <tr>\n",
       "      <th>4</th>\n",
       "      <td>0.000001</td>\n",
       "      <td>0.000001</td>\n",
       "      <td>0.000001</td>\n",
       "      <td>0.000001</td>\n",
       "      <td>0.000001</td>\n",
       "      <td>0.000001</td>\n",
       "    </tr>\n",
       "    <tr>\n",
       "      <th>5</th>\n",
       "      <td>0.000001</td>\n",
       "      <td>0.000001</td>\n",
       "      <td>0.000001</td>\n",
       "      <td>0.000001</td>\n",
       "      <td>0.000001</td>\n",
       "      <td>0.000001</td>\n",
       "    </tr>\n",
       "    <tr>\n",
       "      <th>6</th>\n",
       "      <td>0.000001</td>\n",
       "      <td>0.000001</td>\n",
       "      <td>0.000001</td>\n",
       "      <td>0.000001</td>\n",
       "      <td>0.000001</td>\n",
       "      <td>0.000001</td>\n",
       "    </tr>\n",
       "    <tr>\n",
       "      <th>7</th>\n",
       "      <td>0.362929</td>\n",
       "      <td>0.241953</td>\n",
       "      <td>0.120977</td>\n",
       "      <td>0.290343</td>\n",
       "      <td>0.423417</td>\n",
       "      <td>0.629076</td>\n",
       "    </tr>\n",
       "    <tr>\n",
       "      <th>8</th>\n",
       "      <td>0.120977</td>\n",
       "      <td>0.241953</td>\n",
       "      <td>0.362929</td>\n",
       "      <td>0.411319</td>\n",
       "      <td>0.193563</td>\n",
       "      <td>0.629076</td>\n",
       "    </tr>\n",
       "    <tr>\n",
       "      <th>9</th>\n",
       "      <td>0.278246</td>\n",
       "      <td>0.193563</td>\n",
       "      <td>0.496002</td>\n",
       "      <td>0.387124</td>\n",
       "      <td>0.060489</td>\n",
       "      <td>0.471807</td>\n",
       "    </tr>\n",
       "  </tbody>\n",
       "</table>\n",
       "</div>"
      ],
      "text/plain": [
       "          0         1         2         3         4         5\n",
       "0  0.000001  0.000001  0.000001  0.000001  0.000001  0.000001\n",
       "1  0.000001  0.000001  0.000001  0.000001  0.000001  0.000001\n",
       "2  0.000001  0.000001  0.000001  0.000001  0.000001  0.000001\n",
       "3  0.000001  0.000001  0.000001  0.000001  0.000001  0.000001\n",
       "4  0.000001  0.000001  0.000001  0.000001  0.000001  0.000001\n",
       "5  0.000001  0.000001  0.000001  0.000001  0.000001  0.000001\n",
       "6  0.000001  0.000001  0.000001  0.000001  0.000001  0.000001\n",
       "7  0.362929  0.241953  0.120977  0.290343  0.423417  0.629076\n",
       "8  0.120977  0.241953  0.362929  0.411319  0.193563  0.629076\n",
       "9  0.278246  0.193563  0.496002  0.387124  0.060489  0.471807"
      ]
     },
     "metadata": {},
     "output_type": "display_data"
    },
    {
     "data": {
      "text/html": [
       "<div>\n",
       "<style scoped>\n",
       "    .dataframe tbody tr th:only-of-type {\n",
       "        vertical-align: middle;\n",
       "    }\n",
       "\n",
       "    .dataframe tbody tr th {\n",
       "        vertical-align: top;\n",
       "    }\n",
       "\n",
       "    .dataframe thead th {\n",
       "        text-align: right;\n",
       "    }\n",
       "</style>\n",
       "<table border=\"1\" class=\"dataframe\">\n",
       "  <thead>\n",
       "    <tr style=\"text-align: right;\">\n",
       "      <th></th>\n",
       "      <th>0</th>\n",
       "      <th>1</th>\n",
       "      <th>2</th>\n",
       "      <th>3</th>\n",
       "      <th>4</th>\n",
       "      <th>5</th>\n",
       "    </tr>\n",
       "  </thead>\n",
       "  <tbody>\n",
       "    <tr>\n",
       "      <th>0</th>\n",
       "      <td>0.000001</td>\n",
       "      <td>0.000001</td>\n",
       "      <td>0.000001</td>\n",
       "      <td>0.000001</td>\n",
       "      <td>0.000001</td>\n",
       "      <td>0.000001</td>\n",
       "    </tr>\n",
       "    <tr>\n",
       "      <th>1</th>\n",
       "      <td>0.000001</td>\n",
       "      <td>0.000001</td>\n",
       "      <td>0.000001</td>\n",
       "      <td>0.000001</td>\n",
       "      <td>0.000001</td>\n",
       "      <td>0.000001</td>\n",
       "    </tr>\n",
       "    <tr>\n",
       "      <th>2</th>\n",
       "      <td>0.000001</td>\n",
       "      <td>0.000001</td>\n",
       "      <td>0.000001</td>\n",
       "      <td>0.000001</td>\n",
       "      <td>0.000001</td>\n",
       "      <td>0.000001</td>\n",
       "    </tr>\n",
       "    <tr>\n",
       "      <th>3</th>\n",
       "      <td>0.000001</td>\n",
       "      <td>0.000001</td>\n",
       "      <td>0.000001</td>\n",
       "      <td>0.000001</td>\n",
       "      <td>0.000001</td>\n",
       "      <td>0.000001</td>\n",
       "    </tr>\n",
       "    <tr>\n",
       "      <th>4</th>\n",
       "      <td>0.000001</td>\n",
       "      <td>0.000001</td>\n",
       "      <td>0.000001</td>\n",
       "      <td>0.000001</td>\n",
       "      <td>0.000001</td>\n",
       "      <td>0.000001</td>\n",
       "    </tr>\n",
       "    <tr>\n",
       "      <th>5</th>\n",
       "      <td>0.000001</td>\n",
       "      <td>0.000001</td>\n",
       "      <td>0.000001</td>\n",
       "      <td>0.000001</td>\n",
       "      <td>0.000001</td>\n",
       "      <td>0.000001</td>\n",
       "    </tr>\n",
       "    <tr>\n",
       "      <th>6</th>\n",
       "      <td>0.000001</td>\n",
       "      <td>0.000001</td>\n",
       "      <td>0.000001</td>\n",
       "      <td>0.000001</td>\n",
       "      <td>0.000001</td>\n",
       "      <td>0.000001</td>\n",
       "    </tr>\n",
       "    <tr>\n",
       "      <th>7</th>\n",
       "      <td>0.362929</td>\n",
       "      <td>0.241953</td>\n",
       "      <td>0.120977</td>\n",
       "      <td>0.290343</td>\n",
       "      <td>0.423417</td>\n",
       "      <td>0.629076</td>\n",
       "    </tr>\n",
       "    <tr>\n",
       "      <th>8</th>\n",
       "      <td>0.120977</td>\n",
       "      <td>0.241953</td>\n",
       "      <td>0.362929</td>\n",
       "      <td>0.411319</td>\n",
       "      <td>0.193563</td>\n",
       "      <td>0.629076</td>\n",
       "    </tr>\n",
       "    <tr>\n",
       "      <th>9</th>\n",
       "      <td>0.278246</td>\n",
       "      <td>0.193563</td>\n",
       "      <td>0.496002</td>\n",
       "      <td>0.387124</td>\n",
       "      <td>0.060489</td>\n",
       "      <td>0.471807</td>\n",
       "    </tr>\n",
       "  </tbody>\n",
       "</table>\n",
       "</div>"
      ],
      "text/plain": [
       "          0         1         2         3         4         5\n",
       "0  0.000001  0.000001  0.000001  0.000001  0.000001  0.000001\n",
       "1  0.000001  0.000001  0.000001  0.000001  0.000001  0.000001\n",
       "2  0.000001  0.000001  0.000001  0.000001  0.000001  0.000001\n",
       "3  0.000001  0.000001  0.000001  0.000001  0.000001  0.000001\n",
       "4  0.000001  0.000001  0.000001  0.000001  0.000001  0.000001\n",
       "5  0.000001  0.000001  0.000001  0.000001  0.000001  0.000001\n",
       "6  0.000001  0.000001  0.000001  0.000001  0.000001  0.000001\n",
       "7  0.362929  0.241953  0.120977  0.290343  0.423417  0.629076\n",
       "8  0.120977  0.241953  0.362929  0.411319  0.193563  0.629076\n",
       "9  0.278246  0.193563  0.496002  0.387124  0.060489  0.471807"
      ]
     },
     "metadata": {},
     "output_type": "display_data"
    }
   ],
   "source": [
    "\n",
    "with tf.Session(graph=graph) as sess:\n",
    "    sess.run(initialize)\n",
    "    display(pd.DataFrame(sess.run(x)[0]))\n",
    "    display(pd.DataFrame(sess.run(g1_out_relu)[0]))\n",
    "    display(pd.DataFrame(sess.run(g1_out_elu)[0]))\n",
    "    display(pd.DataFrame(sess.run(g1_out_linear)[0]))\n",
    "#     display(pd.DataFrame(sess.run(o)[0]))\n",
    "# sess.run(feed_dict={x.name:inp.tolist()},fetches=q)\n",
    "# q.eval(session=tf.Session(),feed_dict={'x':inp.tolist()})"
   ]
  },
  {
   "cell_type": "code",
   "execution_count": 397,
   "metadata": {},
   "outputs": [
    {
     "data": {
      "text/plain": [
       "0.8699999999999999"
      ]
     },
     "execution_count": 397,
     "metadata": {},
     "output_type": "execute_result"
    }
   ],
   "source": [
    "3.0*0.29"
   ]
  },
  {
   "cell_type": "code",
   "execution_count": 201,
   "metadata": {},
   "outputs": [
    {
     "data": {
      "text/html": [
       "<div>\n",
       "<style scoped>\n",
       "    .dataframe tbody tr th:only-of-type {\n",
       "        vertical-align: middle;\n",
       "    }\n",
       "\n",
       "    .dataframe tbody tr th {\n",
       "        vertical-align: top;\n",
       "    }\n",
       "\n",
       "    .dataframe thead th {\n",
       "        text-align: right;\n",
       "    }\n",
       "</style>\n",
       "<table border=\"1\" class=\"dataframe\">\n",
       "  <thead>\n",
       "    <tr style=\"text-align: right;\">\n",
       "      <th></th>\n",
       "      <th>0</th>\n",
       "      <th>1</th>\n",
       "      <th>2</th>\n",
       "      <th>3</th>\n",
       "      <th>4</th>\n",
       "      <th>5</th>\n",
       "      <th>6</th>\n",
       "      <th>7</th>\n",
       "      <th>8</th>\n",
       "      <th>9</th>\n",
       "    </tr>\n",
       "  </thead>\n",
       "  <tbody>\n",
       "    <tr>\n",
       "      <th>0</th>\n",
       "      <td>2.843231e-20</td>\n",
       "      <td>4.219729e-18</td>\n",
       "      <td>6.262634e-16</td>\n",
       "      <td>9.294572e-14</td>\n",
       "      <td>1.379437e-11</td>\n",
       "      <td>2.047266e-09</td>\n",
       "      <td>3.038412e-07</td>\n",
       "      <td>4.509403e-05</td>\n",
       "      <td>0.006693</td>\n",
       "      <td>0.993262</td>\n",
       "    </tr>\n",
       "    <tr>\n",
       "      <th>1</th>\n",
       "      <td>3.523872e-24</td>\n",
       "      <td>1.421631e-21</td>\n",
       "      <td>5.735271e-19</td>\n",
       "      <td>2.313773e-16</td>\n",
       "      <td>9.334428e-14</td>\n",
       "      <td>3.765777e-11</td>\n",
       "      <td>1.519223e-08</td>\n",
       "      <td>6.128982e-06</td>\n",
       "      <td>0.002473</td>\n",
       "      <td>0.997521</td>\n",
       "    </tr>\n",
       "    <tr>\n",
       "      <th>2</th>\n",
       "      <td>4.355635e-28</td>\n",
       "      <td>4.776534e-25</td>\n",
       "      <td>5.238105e-22</td>\n",
       "      <td>5.744280e-19</td>\n",
       "      <td>6.299368e-16</td>\n",
       "      <td>6.908096e-13</td>\n",
       "      <td>7.575646e-10</td>\n",
       "      <td>8.307705e-07</td>\n",
       "      <td>0.000911</td>\n",
       "      <td>0.999088</td>\n",
       "    </tr>\n",
       "    <tr>\n",
       "      <th>3</th>\n",
       "      <td>5.378381e-32</td>\n",
       "      <td>1.603273e-28</td>\n",
       "      <td>4.779289e-25</td>\n",
       "      <td>1.424686e-21</td>\n",
       "      <td>4.246929e-18</td>\n",
       "      <td>1.265992e-14</td>\n",
       "      <td>3.773868e-11</td>\n",
       "      <td>1.124974e-07</td>\n",
       "      <td>0.000335</td>\n",
       "      <td>0.999665</td>\n",
       "    </tr>\n",
       "    <tr>\n",
       "      <th>4</th>\n",
       "      <td>6.638858e-36</td>\n",
       "      <td>5.379522e-32</td>\n",
       "      <td>4.359072e-28</td>\n",
       "      <td>3.532193e-24</td>\n",
       "      <td>2.862165e-20</td>\n",
       "      <td>2.319237e-16</td>\n",
       "      <td>1.879297e-12</td>\n",
       "      <td>1.522810e-08</td>\n",
       "      <td>0.000123</td>\n",
       "      <td>0.999877</td>\n",
       "    </tr>\n",
       "  </tbody>\n",
       "</table>\n",
       "</div>"
      ],
      "text/plain": [
       "              0             1             2             3             4  \\\n",
       "0  2.843231e-20  4.219729e-18  6.262634e-16  9.294572e-14  1.379437e-11   \n",
       "1  3.523872e-24  1.421631e-21  5.735271e-19  2.313773e-16  9.334428e-14   \n",
       "2  4.355635e-28  4.776534e-25  5.238105e-22  5.744280e-19  6.299368e-16   \n",
       "3  5.378381e-32  1.603273e-28  4.779289e-25  1.424686e-21  4.246929e-18   \n",
       "4  6.638858e-36  5.379522e-32  4.359072e-28  3.532193e-24  2.862165e-20   \n",
       "\n",
       "              5             6             7         8         9  \n",
       "0  2.047266e-09  3.038412e-07  4.509403e-05  0.006693  0.993262  \n",
       "1  3.765777e-11  1.519223e-08  6.128982e-06  0.002473  0.997521  \n",
       "2  6.908096e-13  7.575646e-10  8.307705e-07  0.000911  0.999088  \n",
       "3  1.265992e-14  3.773868e-11  1.124974e-07  0.000335  0.999665  \n",
       "4  2.319237e-16  1.879297e-12  1.522810e-08  0.000123  0.999877  "
      ]
     },
     "execution_count": 201,
     "metadata": {},
     "output_type": "execute_result"
    }
   ],
   "source": [
    "s = tf.keras.backend.softmax(g,axis=-1)\n",
    "pd.DataFrame(s.eval(session=tf.Session()))"
   ]
  },
  {
   "cell_type": "code",
   "execution_count": 207,
   "metadata": {},
   "outputs": [
    {
     "data": {
      "text/plain": [
       "0.99326205"
      ]
     },
     "execution_count": 207,
     "metadata": {},
     "output_type": "execute_result"
    }
   ],
   "source": [
    "np.exp(g[0][-1])/np.sum(np.exp(g[0]))"
   ]
  },
  {
   "cell_type": "code",
   "execution_count": 205,
   "metadata": {},
   "outputs": [
    {
     "data": {
      "text/plain": [
       "3.5171253e+19"
      ]
     },
     "execution_count": 205,
     "metadata": {},
     "output_type": "execute_result"
    }
   ],
   "source": [
    "np.sum(np.exp(g[0]))"
   ]
  },
  {
   "cell_type": "code",
   "execution_count": 342,
   "metadata": {
    "scrolled": true
   },
   "outputs": [
    {
     "data": {
      "text/plain": [
       "array([ 0.012001 ,  0.20751  , -0.12578  , -0.59325  ,  0.12525  ,\n",
       "        0.15975  ,  0.13748  , -0.33157  , -0.13694  ,  1.7893   ,\n",
       "       -0.47094  ,  0.70434  ,  0.26673  , -0.089961 , -0.18168  ,\n",
       "        0.067226 ,  0.053347 ,  1.5595   , -0.2541   ,  0.038413 ,\n",
       "       -0.01409  ,  0.056774 ,  0.023434 ,  0.024042 ,  0.31703  ,\n",
       "        0.19025  , -0.37505  ,  0.035603 ,  0.1181   ,  0.012032 ,\n",
       "       -0.037566 , -0.5046   , -0.049261 ,  0.092351 ,  0.11031  ,\n",
       "       -0.073062 ,  0.33994  ,  0.28239  ,  0.13413  ,  0.070128 ,\n",
       "       -0.022099 , -0.28103  ,  0.49607  , -0.48693  , -0.090964 ,\n",
       "       -0.1538   , -0.38011  , -0.014228 , -0.19392  , -0.11068  ,\n",
       "       -0.014088 , -0.17906  ,  0.24509  , -0.16878  , -0.15351  ,\n",
       "       -0.13808  ,  0.02151  ,  0.13699  ,  0.0068061, -0.14915  ,\n",
       "       -0.38169  ,  0.12727  ,  0.44007  ,  0.32678  , -0.46117  ,\n",
       "        0.068687 ,  0.34747  ,  0.18827  , -0.31837  ,  0.4447   ,\n",
       "       -0.2095   , -0.26987  ,  0.48945  ,  0.15388  ,  0.05295  ,\n",
       "       -0.049831 ,  0.11207  ,  0.14881  , -0.37003  ,  0.30777  ,\n",
       "       -0.33865  ,  0.045149 , -0.18987  ,  0.26634  , -0.26401  ,\n",
       "       -0.47556  ,  0.68381  , -0.30653  ,  0.24606  ,  0.31611  ,\n",
       "       -0.071098 ,  0.030417 ,  0.088119 ,  0.045025 ,  0.20125  ,\n",
       "       -0.21618  , -0.36371  , -0.25948  , -0.42398  , -0.14305  ,\n",
       "       -0.10208  ,  0.21498  , -0.21924  , -0.17935  ,  0.21546  ,\n",
       "        0.13801  ,  0.24504  , -0.2559   ,  0.054815 ,  0.21307  ,\n",
       "        0.2564   , -0.25673  ,  0.17961  , -0.47638  , -0.25181  ,\n",
       "       -0.0091498, -0.054362 , -0.21007  ,  0.12597  , -0.40795  ,\n",
       "       -0.021164 ,  0.20585  ,  0.18925  , -0.0051896, -0.51394  ,\n",
       "        0.28862  , -0.077748 , -0.27676  ,  0.46567  , -0.14225  ,\n",
       "       -0.17879  , -0.4357   , -0.32481  ,  0.15034  , -0.058367 ,\n",
       "        0.49652  ,  0.20472  ,  0.019866 ,  0.13326  ,  0.12823  ,\n",
       "       -1.0177   ,  0.29007  ,  0.28995  ,  0.029994 , -0.10763  ,\n",
       "        0.28665  , -0.24387  ,  0.22905  , -0.26249  , -0.069269 ,\n",
       "       -0.17889  ,  0.21936  ,  0.15146  ,  0.04567  , -0.050497 ,\n",
       "        0.071482 , -0.1027   , -0.080705 ,  0.30296  ,  0.031302 ,\n",
       "        0.26613  , -0.0060951,  0.10313  , -0.39987  , -0.043945 ,\n",
       "       -0.057625 ,  0.08702  , -0.098152 ,  0.22835  , -0.005211 ,\n",
       "        0.038075 ,  0.01591  , -0.20622  ,  0.021853 ,  0.0040426,\n",
       "       -0.043063 , -0.002294 , -0.26097  , -0.25802  , -0.28158  ,\n",
       "       -0.23118  , -0.010404 , -0.30102  , -0.4042   ,  0.014653 ,\n",
       "       -0.10445  ,  0.30377  , -0.20957  ,  0.3119   ,  0.068272 ,\n",
       "        0.1008   ,  0.010423 ,  0.54011  ,  0.29865  ,  0.12653  ,\n",
       "        0.013761 ,  0.21738  , -0.39521  ,  0.066633 ,  0.50327  ,\n",
       "        0.14913  , -0.11554  ,  0.010042 ,  0.095698 ,  0.16607  ,\n",
       "       -0.18808  ,  0.055019 ,  0.026715 , -0.3164   , -0.046583 ,\n",
       "       -0.051591 ,  0.023475 , -0.11007  ,  0.085642 ,  0.28394  ,\n",
       "        0.040497 ,  0.071986 ,  0.14157  , -0.021199 ,  0.44718  ,\n",
       "        0.20088  , -0.12964  , -0.067183 ,  0.47614  ,  0.13394  ,\n",
       "       -0.17287  , -0.37324  , -0.17285  ,  0.02683  , -0.1316   ,\n",
       "        0.09116  , -0.46487  ,  0.1274   , -0.090159 , -0.10552  ,\n",
       "        0.068006 , -0.13381  ,  0.17056  ,  0.089509 , -0.23133  ,\n",
       "       -0.27572  ,  0.061534 , -0.051646 ,  0.28377  ,  0.25286  ,\n",
       "       -0.24139  , -0.19905  ,  0.12049  , -0.1011   ,  0.27392  ,\n",
       "        0.27843  ,  0.26449  , -0.18292  , -0.048961 ,  0.19198  ,\n",
       "        0.17192  ,  0.33659  , -0.20184  , -0.34305  , -0.24553  ,\n",
       "       -0.15399  ,  0.3945   ,  0.22839  , -0.25753  , -0.25675  ,\n",
       "       -0.37332  , -0.23884  , -0.048816 ,  0.78323  ,  0.18851  ,\n",
       "       -0.26477  ,  0.096566 ,  0.062658 , -0.30668  , -0.43334  ,\n",
       "        0.10006  ,  0.21136  ,  0.039459 , -0.11077  ,  0.24421  ,\n",
       "        0.60942  , -0.46646  ,  0.086385 , -0.39702  , -0.23363  ,\n",
       "        0.021307 , -0.10778  , -0.2281   ,  0.50803  ,  0.11567  ,\n",
       "        0.16165  , -0.066737 , -0.29556  ,  0.022612 , -0.28135  ,\n",
       "        0.0635   ,  0.14019  ,  0.13871  , -0.36049  , -0.035    ],\n",
       "      dtype=float32)"
      ]
     },
     "execution_count": 342,
     "metadata": {},
     "output_type": "execute_result"
    }
   ],
   "source": [
    "nlp('.').vector"
   ]
  },
  {
   "cell_type": "code",
   "execution_count": null,
   "metadata": {},
   "outputs": [],
   "source": []
  }
 ],
 "metadata": {
  "kernelspec": {
   "display_name": "Python (tf-gpu)",
   "language": "python",
   "name": "tf-gpu"
  },
  "language_info": {
   "codemirror_mode": {
    "name": "ipython",
    "version": 3
   },
   "file_extension": ".py",
   "mimetype": "text/x-python",
   "name": "python",
   "nbconvert_exporter": "python",
   "pygments_lexer": "ipython3",
   "version": "3.5.6"
  }
 },
 "nbformat": 4,
 "nbformat_minor": 4
}
